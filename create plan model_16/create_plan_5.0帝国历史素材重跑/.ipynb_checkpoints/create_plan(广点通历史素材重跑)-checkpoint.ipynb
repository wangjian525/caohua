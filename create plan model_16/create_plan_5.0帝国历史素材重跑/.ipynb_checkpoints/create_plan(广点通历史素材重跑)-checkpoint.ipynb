{
 "cells": [
  {
   "cell_type": "code",
   "execution_count": 239,
   "metadata": {},
   "outputs": [],
   "source": [
    "import pandas as pd\n",
    "import numpy as np\n",
    "import matplotlib.pyplot as plt\n",
    "import seaborn as sns\n",
    "import json\n",
    "import tensorflow as tf\n",
    "import datetime\n",
    "import time\n",
    "from numpy import *\n",
    "from sklearn.model_selection import train_test_split\n",
    "from sklearn.decomposition import PCA\n",
    "from tensorflow.keras import layers,datasets\n",
    "from sklearn.preprocessing import LabelEncoder,MinMaxScaler,StandardScaler\n",
    "from tensorflow import keras\n",
    "import gc\n",
    "import warnings\n",
    "warnings.filterwarnings('ignore')\n",
    "import lightgbm as lgb\n",
    "import category_encoders as ce\n",
    "from sklearn.metrics import f1_score,classification_report,roc_auc_score\n",
    "from impala.dbapi import connect\n",
    "from impala.util import as_pandas\n",
    "import pymysql\n",
    "import ast\n",
    "import requests"
   ]
  },
  {
   "cell_type": "code",
   "execution_count": 240,
   "metadata": {},
   "outputs": [],
   "source": [
    "pd.set_option('display.max_columns',None)\n",
    "pd.set_option('display.max_rows',None)"
   ]
  },
  {
   "cell_type": "code",
   "execution_count": 241,
   "metadata": {},
   "outputs": [],
   "source": [
    "def get_game_id():\n",
    "    conn = pymysql.connect(host='db-slave-modelfenxi-001.ch', port=3306, user='model_read',\n",
    "                           passwd='aZftlm6PcFjN{DxIKOPr)BcutuJd<uYOC0P<8')\n",
    "\n",
    "    cur = conn.cursor(cursor=pymysql.cursors.DictCursor)\n",
    "    sql = '''\n",
    "        SELECT dev_game_id AS game_id FROM db_data.t_game_config WHERE game_id = 1056 AND dev_game_id IS NOT NULL \n",
    "    '''\n",
    "    cur.execute(sql)\n",
    "    result_df = cur.fetchall()\n",
    "    cur.close()\n",
    "    conn.close()\n",
    "    return result_df"
   ]
  },
  {
   "cell_type": "code",
   "execution_count": 242,
   "metadata": {},
   "outputs": [],
   "source": [
    "# 获取近期所有计划('2021年4月23号开始')\n",
    "def get_plan_info():\n",
    "    game_id = get_game_id()\n",
    "    game_id = list(map(lambda x: x['game_id'], game_id))\n",
    "    game_id = [str(i) for i in game_id]\n",
    "    game_id = ','.join(game_id)\n",
    "    conn = pymysql.connect(host='db-slave-modeltoufang-001.ch', port=3306, user='model_read',\n",
    "                           passwd='aZftlm6PcFjN{DxIKOPr)BcutuJd<uYOC0P<8', db='db_ptom')\n",
    "    cur = conn.cursor(cursor=pymysql.cursors.DictCursor)\n",
    "    sql = '''\n",
    "    /*手动查询*/\n",
    "        SELECT\n",
    "                p.*,\n",
    "                b.image_id\n",
    "            FROM\n",
    "                db_ptom.ptom_third_plan p\n",
    "            left join\n",
    "                db_ptom.ptom_plan b\n",
    "            on p.plan_id=b.plan_id\n",
    "            WHERE\n",
    "                p.game_id IN ({})\n",
    "                AND p.media_id = 16\n",
    "                AND p.platform = 1\n",
    "                AND p.create_time>= date( NOW() - INTERVAL 2160 HOUR )\n",
    "                AND p.create_time<= date(NOW())\n",
    "                            AND p.plan_id >= (\n",
    "                                select plan_id from db_ptom.ptom_plan\n",
    "                                where create_time >= date( NOW() - INTERVAL 2160 HOUR )\n",
    "                                and create_time <= date( NOW() - INTERVAL 2136 HOUR )\n",
    "                                limit 1\n",
    "                            )\n",
    "    '''\n",
    "    finalSql = sql.format(game_id)\n",
    "    result_df = pd.read_sql(finalSql, conn)\n",
    "    cur.close()\n",
    "    conn.close()\n",
    "    return result_df"
   ]
  },
  {
   "cell_type": "code",
   "execution_count": 243,
   "metadata": {},
   "outputs": [],
   "source": [
    "# 获取image_id,label_ids\n",
    "def get_image_info():\n",
    "    conn = pymysql.connect(host='db-slave-modelfenxi-001.ch', port=3306, user='model_read',\n",
    "                           passwd='aZftlm6PcFjN{DxIKOPr)BcutuJd<uYOC0P<8')\n",
    "\n",
    "    cur = conn.cursor(cursor=pymysql.cursors.DictCursor)\n",
    "    sql = '''\n",
    "        SELECT\n",
    "            a.chl_user_id AS channel_id,\n",
    "            a.source_id,\n",
    "            a.image_id,\n",
    "            b.label_ids\n",
    "        FROM\n",
    "            db_data_ptom.ptom_plan a\n",
    "            LEFT JOIN\n",
    "            db_data_ptom.ptom_image_info b\n",
    "        on a.image_id = b.image_id\n",
    "        WHERE\n",
    "            a.game_id IN ( SELECT dev_game_id AS game_id FROM db_data.t_game_config WHERE game_id = 1056 AND dev_game_id IS NOT NULL ) \n",
    "            AND a.media_id = 16 \n",
    "            AND a.create_time >= date( NOW() - INTERVAL 2160 HOUR ) \n",
    "        GROUP BY\n",
    "            a.chl_user_id,\n",
    "            a.source_id,\n",
    "            a.image_id\n",
    "    '''\n",
    "    cur.execute(sql)\n",
    "    result_df = pd.read_sql(sql, conn)\n",
    "    cur.close()\n",
    "    conn.close()\n",
    "    return result_df"
   ]
  },
  {
   "cell_type": "code",
   "execution_count": 244,
   "metadata": {},
   "outputs": [],
   "source": [
    "def get_launch_report():\n",
    "    game_id = get_game_id()\n",
    "    game_id = list(map(lambda x: x['game_id'], game_id))\n",
    "    game_id = [str(i) for i in game_id]\n",
    "    game_id = ','.join(game_id)\n",
    "\n",
    "    conn = pymysql.connect(host='db-slave-modelfenxi-001.ch', port=3306, user='model_read',\n",
    "                           passwd='aZftlm6PcFjN{DxIKOPr)BcutuJd<uYOC0P<8')\n",
    "\n",
    "    cur = conn.cursor(cursor=pymysql.cursors.DictCursor)\n",
    "    sql = '''\n",
    "        /*手动查询*/\n",
    "        SELECT\n",
    "            a.chl_user_id AS channel_id,\n",
    "            a.source_id AS source_id,\n",
    "            b.tdate,\n",
    "            b.amount,\n",
    "            b.new_role_money,\n",
    "            b.new_role_money / b.amount as roi,\n",
    "            b.pay_role_user_num / b.create_role_num as pay_rate\n",
    "        FROM\n",
    "            db_data_ptom.ptom_plan a\n",
    "            LEFT JOIN db_stdata.st_lauch_report b ON a.chl_user_id = b.channel_id \n",
    "            AND a.source_id = b.source_id \n",
    "        WHERE\n",
    "            a.create_time >= date( NOW() - INTERVAL 2160 HOUR ) \n",
    "            AND b.tdate >= date( NOW() - INTERVAL 2160 HOUR ) \n",
    "            AND b.tdate_type = 'day' \n",
    "            AND b.media_id = 16\n",
    "            AND b.game_id IN ({})\n",
    "            AND b.amount >= 500\n",
    "    '''\n",
    "    finalSql = sql.format(game_id)\n",
    "    cur.execute(finalSql)\n",
    "    result_df = pd.read_sql(finalSql, conn)\n",
    "    cur.close()\n",
    "    conn.close()\n",
    "    result_df['tdate'] = pd.to_datetime(result_df['tdate'])\n",
    "    result_df = result_df.sort_values('tdate')\n",
    "    result_df = result_df.drop_duplicates(['channel_id', 'source_id'], keep='first')\n",
    "\n",
    "    return result_df"
   ]
  },
  {
   "cell_type": "code",
   "execution_count": 245,
   "metadata": {},
   "outputs": [],
   "source": [
    "def get_plan_json(plan_info):\n",
    "    plan_info.drop(['inventory_type', 'budget', 'bid_mode'], axis=1, inplace=True)\n",
    "    plan_info.dropna(how='all', inplace=True, axis=1)\n",
    "    plan_info.dropna(subset=['ad_info'], inplace=True)\n",
    "\n",
    "    plan_info['ad_info'] = plan_info['ad_info'].apply(json.loads)\n",
    "    temp = plan_info['ad_info'].apply(pd.Series)\n",
    "    plan_info = pd.concat([plan_info, temp], axis=1)\n",
    "    plan_info.drop('ad_info', axis=1, inplace=True)\n",
    "\n",
    "    temp = plan_info['targeting'].apply(pd.Series)\n",
    "    plan_info = pd.concat([plan_info, temp], axis=1)\n",
    "    plan_info.drop('targeting', axis=1, inplace=True)\n",
    "\n",
    "    temp = plan_info['deep_conversion_spec'].apply(pd.Series)\n",
    "    plan_info = pd.concat([plan_info, temp], axis=1)\n",
    "    plan_info.drop('deep_conversion_spec', axis=1, inplace=True)\n",
    "\n",
    "    temp = plan_info['behavior_or_interest'].apply(pd.Series)\n",
    "    plan_info = pd.concat([plan_info, temp], axis=1)\n",
    "    plan_info.drop('behavior_or_interest', axis=1, inplace=True)\n",
    "    plan_info.drop(0, axis=1, inplace=True)\n",
    "\n",
    "    temp = plan_info['intention'].apply(pd.Series)\n",
    "    plan_info = pd.concat([plan_info, temp], axis=1)\n",
    "    plan_info.drop('intention', axis=1, inplace=True)\n",
    "    plan_info = plan_info.rename(columns={'targeting_tags': 'intention_targeting_tags'})\n",
    "    plan_info.drop(0, axis=1, inplace=True)\n",
    "\n",
    "    temp = plan_info['interest'].apply(pd.Series)\n",
    "    plan_info = pd.concat([plan_info, temp], axis=1)\n",
    "    plan_info.drop('interest', axis=1, inplace=True)\n",
    "    plan_info = plan_info.rename(\n",
    "        columns={'category_id_list': 'interest_category_id_list', 'keyword_list': 'interest_keyword_list',\n",
    "                 'targeting_tags': 'interest_targeting_tags'})\n",
    "    plan_info.drop(0, axis=1, inplace=True)\n",
    "\n",
    "    temp = plan_info['behavior'].apply(pd.Series)\n",
    "    plan_info = pd.concat([plan_info, temp], axis=1)\n",
    "    plan_info.drop('behavior', axis=1, inplace=True)\n",
    "    temp = plan_info[0].apply(pd.Series)\n",
    "    plan_info = pd.concat([plan_info, temp], axis=1)\n",
    "    plan_info.drop(0, axis=1, inplace=True)\n",
    "    plan_info = plan_info.rename(columns={'category_id_list': 'behavior_category_id_list',\n",
    "                                          'intensity': 'behavior_intensity',\n",
    "                                          'keyword_list': 'behavior_keyword_list',\n",
    "                                          'scene': 'behavior_scene',\n",
    "                                          'targeting_tags': 'behavior_targeting_tags',\n",
    "                                          'time_window': 'behavior_time_window'})\n",
    "\n",
    "    temp = plan_info['excluded_converted_audience'].apply(pd.Series)\n",
    "    plan_info = pd.concat([plan_info, temp], axis=1)\n",
    "    plan_info.drop('excluded_converted_audience', axis=1, inplace=True)\n",
    "    plan_info.drop(0, axis=1, inplace=True)\n",
    "\n",
    "    temp = plan_info['geo_location'].apply(pd.Series)\n",
    "    plan_info = pd.concat([plan_info, temp], axis=1)\n",
    "    plan_info.drop('geo_location', axis=1, inplace=True)\n",
    "    plan_info.drop(0, axis=1, inplace=True)\n",
    "\n",
    "    # 过滤一对多计划\n",
    "    plan_info['ad_id_count'] = plan_info.groupby('plan_id')['ad_id'].transform('count')\n",
    "    plan_info = plan_info[plan_info['ad_id_count'] == 1]\n",
    "\n",
    "    # 删除纯买激活的计划\n",
    "    plan_info = plan_info[~((plan_info['deep_conversion_type'].isna()) & (\n",
    "            plan_info['optimization_goal'] == 'OPTIMIZATIONGOAL_APP_ACTIVATE'))]\n",
    "    # 删除auto_audience=True 的记录，并且删除auto_audience字段\n",
    "    plan_info[plan_info['auto_audience'] == False]\n",
    "    plan_info = plan_info[['ad_account_id', 'game_id', 'channel_id', 'source_id', 'budget_mode',\n",
    "                           'create_time', 'image_id', 'optimization_goal', 'time_series',\n",
    "                           'bid_strategy', 'bid_amount', 'daily_budget', 'expand_enabled',\n",
    "                           'expand_targeting', 'device_price', 'app_install_status',\n",
    "                           'gender', 'game_consumption_level', 'age', 'network_type',\n",
    "                           'deep_conversion_type', 'deep_conversion_behavior_spec',\n",
    "                           'deep_conversion_worth_spec', 'intention_targeting_tags',\n",
    "                           'interest_category_id_list', 'interest_keyword_list',\n",
    "                           'behavior_category_id_list',\n",
    "                           'behavior_intensity', 'behavior_keyword_list', 'behavior_scene',\n",
    "                           'behavior_time_window',\n",
    "                           'conversion_behavior_list', 'excluded_dimension', 'location_types',\n",
    "                           'regions']]\n",
    "    return plan_info"
   ]
  },
  {
   "cell_type": "code",
   "execution_count": 246,
   "metadata": {},
   "outputs": [],
   "source": [
    "# 获取近期优化计划的创意数据\n",
    "def get_creative():\n",
    "    game_id = get_game_id()\n",
    "    game_id = list(map(lambda x: x['game_id'], game_id))\n",
    "    game_id = [str(i) for i in game_id]\n",
    "    game_id = ','.join(game_id)\n",
    "\n",
    "    conn = pymysql.connect(host='db-slave-modeltoufang-001.ch', port=3306, user='model_read',\n",
    "                           passwd='aZftlm6PcFjN{DxIKOPr)BcutuJd<uYOC0P<8', db='db_ptom')\n",
    "    cur = conn.cursor(cursor=pymysql.cursors.DictCursor)\n",
    "    sql = '''\n",
    "        /*手动查询*/ \n",
    "       SELECT\n",
    "            b.chl_user_id AS channel_id,\n",
    "            b.source_id,\n",
    "            b.image_id,\n",
    "            a.creative_param\n",
    "        FROM\n",
    "            db_ptom.ptom_batch_ad_task a\n",
    "            LEFT JOIN db_ptom.ptom_plan b ON a.plan_name = b.plan_name \n",
    "        WHERE\n",
    "            a.media_id = 16 \n",
    "            AND b.create_time >= date( NOW() - INTERVAL 2160 HOUR ) \n",
    "            AND a.game_id IN ({})\n",
    "            AND b.image_id is not null\n",
    "            \n",
    "    '''\n",
    "    finalSql = sql.format(game_id)\n",
    "    cur.execute(finalSql)\n",
    "    result = pd.read_sql(finalSql, conn)\n",
    "    cur.close()\n",
    "    conn.close()\n",
    "    return result"
   ]
  },
  {
   "cell_type": "code",
   "execution_count": 247,
   "metadata": {},
   "outputs": [],
   "source": [
    "plan_info = get_plan_info()\n",
    "plan_info = get_plan_json(plan_info)"
   ]
  },
  {
   "cell_type": "code",
   "execution_count": 248,
   "metadata": {},
   "outputs": [],
   "source": [
    "creative_info = get_creative()"
   ]
  },
  {
   "cell_type": "code",
   "execution_count": 249,
   "metadata": {},
   "outputs": [],
   "source": [
    "creative_info['creative_param'] = creative_info['creative_param'].apply(json.loads)\n",
    "temp = creative_info['creative_param'].apply(pd.Series)\n",
    "temp = temp.drop('image_id', axis=1)\n",
    "creative_info = pd.concat([creative_info,temp], axis=1)\n",
    "creative_info.drop('creative_param', axis=1, inplace=True)\n",
    "creative_info.drop(['title','adcreative_template_parent','idea_type','adcreative_name','ideaName','_creative'], axis=1, inplace=True)\n",
    "creative_info['adcreative_elements_array'] = creative_info['adcreative_elements_array'].apply(lambda x:x[0])\n",
    "creative_info['adcreative_elements'] = creative_info['adcreative_elements_array'].apply(lambda x:x['adcreative_elements'])\n",
    "creative_info.drop('adcreative_elements_array', axis=1, inplace=True)\n",
    "creative_info = creative_info[['channel_id', 'source_id', 'image_id', 'deep_link_url',\n",
    "       'adcreative_template_id', 'page_spec', 'page_type', 'site_set', 'label',\n",
    "       'promoted_object_id', 'promoted_object_type', 'automatic_site_enabled',\n",
    "       'link_name_type', 'link_page_type', 'profile_id', 'link_page_spec',\n",
    "       'adcreative_elements']]"
   ]
  },
  {
   "cell_type": "code",
   "execution_count": 250,
   "metadata": {
    "scrolled": true
   },
   "outputs": [
    {
     "data": {
      "text/plain": [
       "(57034, 35)"
      ]
     },
     "execution_count": 250,
     "metadata": {},
     "output_type": "execute_result"
    }
   ],
   "source": [
    "plan_info.shape"
   ]
  },
  {
   "cell_type": "code",
   "execution_count": 251,
   "metadata": {},
   "outputs": [
    {
     "data": {
      "text/plain": [
       "(60580, 17)"
      ]
     },
     "execution_count": 251,
     "metadata": {},
     "output_type": "execute_result"
    }
   ],
   "source": [
    "creative_info.shape"
   ]
  },
  {
   "cell_type": "code",
   "execution_count": 252,
   "metadata": {},
   "outputs": [],
   "source": [
    "plan_info = pd.merge(plan_info.drop(['image_id'],axis=1), creative_info, on=['channel_id','source_id'], how='inner')"
   ]
  },
  {
   "cell_type": "code",
   "execution_count": 253,
   "metadata": {},
   "outputs": [
    {
     "data": {
      "text/plain": [
       "(55105, 49)"
      ]
     },
     "execution_count": 253,
     "metadata": {},
     "output_type": "execute_result"
    }
   ],
   "source": [
    "plan_info.shape"
   ]
  },
  {
   "cell_type": "code",
   "execution_count": 254,
   "metadata": {},
   "outputs": [],
   "source": [
    "plan_info.dropna(subset=['image_id'], inplace=True)\n",
    "plan_info['image_id'] = plan_info['image_id'].astype(int)\n",
    "plan_info['adcreative_template_id'] = plan_info['adcreative_template_id'].astype(int)\n",
    "plan_info['profile_id'] = plan_info['profile_id'].apply(lambda x:x if x!=x else str(int(x)))"
   ]
  },
  {
   "cell_type": "code",
   "execution_count": 255,
   "metadata": {},
   "outputs": [],
   "source": [
    "image_info = get_image_info()\n",
    "launch_report = get_launch_report()"
   ]
  },
  {
   "cell_type": "code",
   "execution_count": 256,
   "metadata": {},
   "outputs": [
    {
     "data": {
      "text/plain": [
       "(55105, 49)"
      ]
     },
     "execution_count": 256,
     "metadata": {},
     "output_type": "execute_result"
    }
   ],
   "source": [
    "plan_info.shape"
   ]
  },
  {
   "cell_type": "code",
   "execution_count": 257,
   "metadata": {},
   "outputs": [
    {
     "data": {
      "text/plain": [
       "OPTIMIZATIONGOAL_APP_ACTIVATE      33418\n",
       "OPTIMIZATIONGOAL_APP_PURCHASE      20844\n",
       "OPTIMIZATIONGOAL_FIRST_PURCHASE      843\n",
       "Name: optimization_goal, dtype: int64"
      ]
     },
     "execution_count": 257,
     "metadata": {},
     "output_type": "execute_result"
    }
   ],
   "source": [
    "plan_info['optimization_goal'].value_counts()"
   ]
  },
  {
   "cell_type": "code",
   "execution_count": 258,
   "metadata": {},
   "outputs": [
    {
     "data": {
      "text/html": [
       "<div>\n",
       "<style scoped>\n",
       "    .dataframe tbody tr th:only-of-type {\n",
       "        vertical-align: middle;\n",
       "    }\n",
       "\n",
       "    .dataframe tbody tr th {\n",
       "        vertical-align: top;\n",
       "    }\n",
       "\n",
       "    .dataframe thead th {\n",
       "        text-align: right;\n",
       "    }\n",
       "</style>\n",
       "<table border=\"1\" class=\"dataframe\">\n",
       "  <thead>\n",
       "    <tr style=\"text-align: right;\">\n",
       "      <th></th>\n",
       "      <th>ad_account_id</th>\n",
       "      <th>game_id</th>\n",
       "      <th>channel_id</th>\n",
       "      <th>source_id</th>\n",
       "      <th>budget_mode</th>\n",
       "      <th>create_time</th>\n",
       "      <th>optimization_goal</th>\n",
       "      <th>time_series</th>\n",
       "      <th>bid_strategy</th>\n",
       "      <th>bid_amount</th>\n",
       "      <th>daily_budget</th>\n",
       "      <th>expand_enabled</th>\n",
       "      <th>expand_targeting</th>\n",
       "      <th>device_price</th>\n",
       "      <th>app_install_status</th>\n",
       "      <th>gender</th>\n",
       "      <th>game_consumption_level</th>\n",
       "      <th>age</th>\n",
       "      <th>network_type</th>\n",
       "      <th>deep_conversion_type</th>\n",
       "      <th>deep_conversion_behavior_spec</th>\n",
       "      <th>deep_conversion_worth_spec</th>\n",
       "      <th>intention_targeting_tags</th>\n",
       "      <th>interest_category_id_list</th>\n",
       "      <th>interest_keyword_list</th>\n",
       "      <th>behavior_category_id_list</th>\n",
       "      <th>behavior_intensity</th>\n",
       "      <th>behavior_keyword_list</th>\n",
       "      <th>behavior_scene</th>\n",
       "      <th>behavior_time_window</th>\n",
       "      <th>conversion_behavior_list</th>\n",
       "      <th>excluded_dimension</th>\n",
       "      <th>location_types</th>\n",
       "      <th>regions</th>\n",
       "      <th>image_id</th>\n",
       "      <th>deep_link_url</th>\n",
       "      <th>adcreative_template_id</th>\n",
       "      <th>page_spec</th>\n",
       "      <th>page_type</th>\n",
       "      <th>site_set</th>\n",
       "      <th>label</th>\n",
       "      <th>promoted_object_id</th>\n",
       "      <th>promoted_object_type</th>\n",
       "      <th>automatic_site_enabled</th>\n",
       "      <th>link_name_type</th>\n",
       "      <th>link_page_type</th>\n",
       "      <th>profile_id</th>\n",
       "      <th>link_page_spec</th>\n",
       "      <th>adcreative_elements</th>\n",
       "    </tr>\n",
       "  </thead>\n",
       "  <tbody>\n",
       "    <tr>\n",
       "      <th>800</th>\n",
       "      <td>5986</td>\n",
       "      <td>1001379</td>\n",
       "      <td>20451</td>\n",
       "      <td>752835</td>\n",
       "      <td>0</td>\n",
       "      <td>2021-07-06 15:16:10</td>\n",
       "      <td>OPTIMIZATIONGOAL_FIRST_PURCHASE</td>\n",
       "      <td>1111111111111111111111111111111111111111111111...</td>\n",
       "      <td>BID_STRATEGY_AVERAGE_COST</td>\n",
       "      <td>319782</td>\n",
       "      <td>0</td>\n",
       "      <td>False</td>\n",
       "      <td>[]</td>\n",
       "      <td>[PRICE_4500_MORE, PRICE_3500_4500, PRICE_2500_...</td>\n",
       "      <td>NaN</td>\n",
       "      <td>[MALE]</td>\n",
       "      <td>NaN</td>\n",
       "      <td>[{'min': 24, 'max': 42}]</td>\n",
       "      <td>NaN</td>\n",
       "      <td>NaN</td>\n",
       "      <td>NaN</td>\n",
       "      <td>NaN</td>\n",
       "      <td>[205]</td>\n",
       "      <td>[157, 301, 205]</td>\n",
       "      <td>NaN</td>\n",
       "      <td>[307, 38, 72, 66, 162, 226, 126, 89, 644, 893,...</td>\n",
       "      <td>[BEHAVIOR_INTEREST_INTENSITY_ALL]</td>\n",
       "      <td>NaN</td>\n",
       "      <td>[BEHAVIOR_INTEREST_SCENE_ALL]</td>\n",
       "      <td>BEHAVIOR_INTEREST_TIME_WINDOW_SEVEN_DAY</td>\n",
       "      <td>[OPTIMIZATIONGOAL_CANVAS_CLICK]</td>\n",
       "      <td>EXCLUDED_DIMENSION_APP</td>\n",
       "      <td>NaN</td>\n",
       "      <td>NaN</td>\n",
       "      <td>35645</td>\n",
       "      <td></td>\n",
       "      <td>560</td>\n",
       "      <td>{'override_canvas_head_option': 'OPTION_CREATI...</td>\n",
       "      <td>PAGE_TYPE_CANVAS_WECHAT</td>\n",
       "      <td>[SITE_SET_WECHAT]</td>\n",
       "      <td>NaN</td>\n",
       "      <td>1111059412</td>\n",
       "      <td>PROMOTED_OBJECT_TYPE_APP_ANDROID</td>\n",
       "      <td>False</td>\n",
       "      <td>DOWNLOAD_APP</td>\n",
       "      <td>NaN</td>\n",
       "      <td>NaN</td>\n",
       "      <td>NaN</td>\n",
       "      <td>{'corporate': {'corporate_img': 71531, 'corpor...</td>\n",
       "    </tr>\n",
       "    <tr>\n",
       "      <th>801</th>\n",
       "      <td>5986</td>\n",
       "      <td>1001379</td>\n",
       "      <td>20451</td>\n",
       "      <td>752830</td>\n",
       "      <td>0</td>\n",
       "      <td>2021-07-06 15:16:11</td>\n",
       "      <td>OPTIMIZATIONGOAL_FIRST_PURCHASE</td>\n",
       "      <td>1111111111111111111111111111111111111111111111...</td>\n",
       "      <td>BID_STRATEGY_AVERAGE_COST</td>\n",
       "      <td>319815</td>\n",
       "      <td>0</td>\n",
       "      <td>False</td>\n",
       "      <td>[]</td>\n",
       "      <td>[PRICE_4500_MORE, PRICE_3500_4500, PRICE_2500_...</td>\n",
       "      <td>NaN</td>\n",
       "      <td>[MALE]</td>\n",
       "      <td>NaN</td>\n",
       "      <td>[{'min': 24, 'max': 42}]</td>\n",
       "      <td>NaN</td>\n",
       "      <td>NaN</td>\n",
       "      <td>NaN</td>\n",
       "      <td>NaN</td>\n",
       "      <td>[205]</td>\n",
       "      <td>[157, 301, 205]</td>\n",
       "      <td>NaN</td>\n",
       "      <td>[307, 38, 72, 66, 162, 226, 126, 89, 644, 893,...</td>\n",
       "      <td>[BEHAVIOR_INTEREST_INTENSITY_ALL]</td>\n",
       "      <td>NaN</td>\n",
       "      <td>[BEHAVIOR_INTEREST_SCENE_ALL]</td>\n",
       "      <td>BEHAVIOR_INTEREST_TIME_WINDOW_SEVEN_DAY</td>\n",
       "      <td>[OPTIMIZATIONGOAL_CANVAS_CLICK]</td>\n",
       "      <td>EXCLUDED_DIMENSION_APP</td>\n",
       "      <td>NaN</td>\n",
       "      <td>NaN</td>\n",
       "      <td>35686</td>\n",
       "      <td></td>\n",
       "      <td>560</td>\n",
       "      <td>{'override_canvas_head_option': 'OPTION_CREATI...</td>\n",
       "      <td>PAGE_TYPE_CANVAS_WECHAT</td>\n",
       "      <td>[SITE_SET_WECHAT]</td>\n",
       "      <td>NaN</td>\n",
       "      <td>1111059412</td>\n",
       "      <td>PROMOTED_OBJECT_TYPE_APP_ANDROID</td>\n",
       "      <td>False</td>\n",
       "      <td>DOWNLOAD_APP</td>\n",
       "      <td>NaN</td>\n",
       "      <td>NaN</td>\n",
       "      <td>NaN</td>\n",
       "      <td>{'corporate': {'corporate_img': 71531, 'corpor...</td>\n",
       "    </tr>\n",
       "    <tr>\n",
       "      <th>802</th>\n",
       "      <td>5986</td>\n",
       "      <td>1001379</td>\n",
       "      <td>20451</td>\n",
       "      <td>752857</td>\n",
       "      <td>0</td>\n",
       "      <td>2021-07-06 15:16:11</td>\n",
       "      <td>OPTIMIZATIONGOAL_FIRST_PURCHASE</td>\n",
       "      <td>1111111111111111111111111111111111111111111111...</td>\n",
       "      <td>BID_STRATEGY_AVERAGE_COST</td>\n",
       "      <td>319594</td>\n",
       "      <td>0</td>\n",
       "      <td>False</td>\n",
       "      <td>[]</td>\n",
       "      <td>[PRICE_4500_MORE, PRICE_3500_4500, PRICE_2500_...</td>\n",
       "      <td>NaN</td>\n",
       "      <td>[MALE]</td>\n",
       "      <td>NaN</td>\n",
       "      <td>[{'min': 24, 'max': 42}]</td>\n",
       "      <td>NaN</td>\n",
       "      <td>NaN</td>\n",
       "      <td>NaN</td>\n",
       "      <td>NaN</td>\n",
       "      <td>[205]</td>\n",
       "      <td>[157, 301, 205]</td>\n",
       "      <td>NaN</td>\n",
       "      <td>[307, 38, 72, 66, 162, 226, 126, 89, 644, 893,...</td>\n",
       "      <td>[BEHAVIOR_INTEREST_INTENSITY_ALL]</td>\n",
       "      <td>NaN</td>\n",
       "      <td>[BEHAVIOR_INTEREST_SCENE_ALL]</td>\n",
       "      <td>BEHAVIOR_INTEREST_TIME_WINDOW_SEVEN_DAY</td>\n",
       "      <td>[OPTIMIZATIONGOAL_CANVAS_CLICK]</td>\n",
       "      <td>EXCLUDED_DIMENSION_APP</td>\n",
       "      <td>NaN</td>\n",
       "      <td>NaN</td>\n",
       "      <td>35378</td>\n",
       "      <td></td>\n",
       "      <td>560</td>\n",
       "      <td>{'override_canvas_head_option': 'OPTION_CREATI...</td>\n",
       "      <td>PAGE_TYPE_CANVAS_WECHAT</td>\n",
       "      <td>[SITE_SET_WECHAT]</td>\n",
       "      <td>NaN</td>\n",
       "      <td>1111059412</td>\n",
       "      <td>PROMOTED_OBJECT_TYPE_APP_ANDROID</td>\n",
       "      <td>False</td>\n",
       "      <td>DOWNLOAD_APP</td>\n",
       "      <td>NaN</td>\n",
       "      <td>NaN</td>\n",
       "      <td>NaN</td>\n",
       "      <td>{'corporate': {'corporate_img': 71531, 'corpor...</td>\n",
       "    </tr>\n",
       "    <tr>\n",
       "      <th>803</th>\n",
       "      <td>5986</td>\n",
       "      <td>1001379</td>\n",
       "      <td>20451</td>\n",
       "      <td>752875</td>\n",
       "      <td>0</td>\n",
       "      <td>2021-07-06 15:19:33</td>\n",
       "      <td>OPTIMIZATIONGOAL_FIRST_PURCHASE</td>\n",
       "      <td>1111111111111111111111111111111111111111111111...</td>\n",
       "      <td>BID_STRATEGY_AVERAGE_COST</td>\n",
       "      <td>319612</td>\n",
       "      <td>0</td>\n",
       "      <td>False</td>\n",
       "      <td>[]</td>\n",
       "      <td>[PRICE_4500_MORE, PRICE_3500_4500, PRICE_2500_...</td>\n",
       "      <td>NaN</td>\n",
       "      <td>[MALE]</td>\n",
       "      <td>NaN</td>\n",
       "      <td>[{'min': 24, 'max': 42}]</td>\n",
       "      <td>NaN</td>\n",
       "      <td>NaN</td>\n",
       "      <td>NaN</td>\n",
       "      <td>NaN</td>\n",
       "      <td>[205]</td>\n",
       "      <td>[157, 301, 205]</td>\n",
       "      <td>NaN</td>\n",
       "      <td>[307, 38, 72, 66, 162, 226, 126, 89, 644, 893,...</td>\n",
       "      <td>[BEHAVIOR_INTEREST_INTENSITY_ALL]</td>\n",
       "      <td>NaN</td>\n",
       "      <td>[BEHAVIOR_INTEREST_SCENE_ALL]</td>\n",
       "      <td>BEHAVIOR_INTEREST_TIME_WINDOW_SEVEN_DAY</td>\n",
       "      <td>[OPTIMIZATIONGOAL_CANVAS_CLICK]</td>\n",
       "      <td>EXCLUDED_DIMENSION_APP</td>\n",
       "      <td>NaN</td>\n",
       "      <td>NaN</td>\n",
       "      <td>35709</td>\n",
       "      <td></td>\n",
       "      <td>560</td>\n",
       "      <td>{'override_canvas_head_option': 'OPTION_CREATI...</td>\n",
       "      <td>PAGE_TYPE_CANVAS_WECHAT</td>\n",
       "      <td>[SITE_SET_WECHAT]</td>\n",
       "      <td>NaN</td>\n",
       "      <td>1111059412</td>\n",
       "      <td>PROMOTED_OBJECT_TYPE_APP_ANDROID</td>\n",
       "      <td>False</td>\n",
       "      <td>DOWNLOAD_APP</td>\n",
       "      <td>NaN</td>\n",
       "      <td>NaN</td>\n",
       "      <td>NaN</td>\n",
       "      <td>{'corporate': {'corporate_img': 71531, 'corpor...</td>\n",
       "    </tr>\n",
       "    <tr>\n",
       "      <th>804</th>\n",
       "      <td>5986</td>\n",
       "      <td>1001379</td>\n",
       "      <td>20451</td>\n",
       "      <td>752878</td>\n",
       "      <td>0</td>\n",
       "      <td>2021-07-06 15:21:11</td>\n",
       "      <td>OPTIMIZATIONGOAL_FIRST_PURCHASE</td>\n",
       "      <td>1111111111111111111111111111111111111111111111...</td>\n",
       "      <td>BID_STRATEGY_AVERAGE_COST</td>\n",
       "      <td>318956</td>\n",
       "      <td>0</td>\n",
       "      <td>False</td>\n",
       "      <td>[]</td>\n",
       "      <td>[PRICE_4500_MORE, PRICE_3500_4500, PRICE_2500_...</td>\n",
       "      <td>NaN</td>\n",
       "      <td>[MALE]</td>\n",
       "      <td>NaN</td>\n",
       "      <td>[{'min': 24, 'max': 42}]</td>\n",
       "      <td>NaN</td>\n",
       "      <td>NaN</td>\n",
       "      <td>NaN</td>\n",
       "      <td>NaN</td>\n",
       "      <td>[205]</td>\n",
       "      <td>[157, 301, 205]</td>\n",
       "      <td>NaN</td>\n",
       "      <td>[307, 38, 72, 66, 162, 226, 126, 89, 644, 893,...</td>\n",
       "      <td>[BEHAVIOR_INTEREST_INTENSITY_ALL]</td>\n",
       "      <td>NaN</td>\n",
       "      <td>[BEHAVIOR_INTEREST_SCENE_ALL]</td>\n",
       "      <td>BEHAVIOR_INTEREST_TIME_WINDOW_SEVEN_DAY</td>\n",
       "      <td>[OPTIMIZATIONGOAL_CANVAS_CLICK]</td>\n",
       "      <td>EXCLUDED_DIMENSION_APP</td>\n",
       "      <td>NaN</td>\n",
       "      <td>NaN</td>\n",
       "      <td>35381</td>\n",
       "      <td></td>\n",
       "      <td>560</td>\n",
       "      <td>{'override_canvas_head_option': 'OPTION_CREATI...</td>\n",
       "      <td>PAGE_TYPE_CANVAS_WECHAT</td>\n",
       "      <td>[SITE_SET_WECHAT]</td>\n",
       "      <td>NaN</td>\n",
       "      <td>1111059412</td>\n",
       "      <td>PROMOTED_OBJECT_TYPE_APP_ANDROID</td>\n",
       "      <td>False</td>\n",
       "      <td>DOWNLOAD_APP</td>\n",
       "      <td>NaN</td>\n",
       "      <td>NaN</td>\n",
       "      <td>NaN</td>\n",
       "      <td>{'corporate': {'corporate_img': 71531, 'corpor...</td>\n",
       "    </tr>\n",
       "  </tbody>\n",
       "</table>\n",
       "</div>"
      ],
      "text/plain": [
       "     ad_account_id  game_id  channel_id  source_id  budget_mode  \\\n",
       "800           5986  1001379       20451     752835            0   \n",
       "801           5986  1001379       20451     752830            0   \n",
       "802           5986  1001379       20451     752857            0   \n",
       "803           5986  1001379       20451     752875            0   \n",
       "804           5986  1001379       20451     752878            0   \n",
       "\n",
       "            create_time                optimization_goal  \\\n",
       "800 2021-07-06 15:16:10  OPTIMIZATIONGOAL_FIRST_PURCHASE   \n",
       "801 2021-07-06 15:16:11  OPTIMIZATIONGOAL_FIRST_PURCHASE   \n",
       "802 2021-07-06 15:16:11  OPTIMIZATIONGOAL_FIRST_PURCHASE   \n",
       "803 2021-07-06 15:19:33  OPTIMIZATIONGOAL_FIRST_PURCHASE   \n",
       "804 2021-07-06 15:21:11  OPTIMIZATIONGOAL_FIRST_PURCHASE   \n",
       "\n",
       "                                           time_series  \\\n",
       "800  1111111111111111111111111111111111111111111111...   \n",
       "801  1111111111111111111111111111111111111111111111...   \n",
       "802  1111111111111111111111111111111111111111111111...   \n",
       "803  1111111111111111111111111111111111111111111111...   \n",
       "804  1111111111111111111111111111111111111111111111...   \n",
       "\n",
       "                  bid_strategy  bid_amount  daily_budget  expand_enabled  \\\n",
       "800  BID_STRATEGY_AVERAGE_COST      319782             0           False   \n",
       "801  BID_STRATEGY_AVERAGE_COST      319815             0           False   \n",
       "802  BID_STRATEGY_AVERAGE_COST      319594             0           False   \n",
       "803  BID_STRATEGY_AVERAGE_COST      319612             0           False   \n",
       "804  BID_STRATEGY_AVERAGE_COST      318956             0           False   \n",
       "\n",
       "    expand_targeting                                       device_price  \\\n",
       "800               []  [PRICE_4500_MORE, PRICE_3500_4500, PRICE_2500_...   \n",
       "801               []  [PRICE_4500_MORE, PRICE_3500_4500, PRICE_2500_...   \n",
       "802               []  [PRICE_4500_MORE, PRICE_3500_4500, PRICE_2500_...   \n",
       "803               []  [PRICE_4500_MORE, PRICE_3500_4500, PRICE_2500_...   \n",
       "804               []  [PRICE_4500_MORE, PRICE_3500_4500, PRICE_2500_...   \n",
       "\n",
       "    app_install_status  gender game_consumption_level  \\\n",
       "800                NaN  [MALE]                    NaN   \n",
       "801                NaN  [MALE]                    NaN   \n",
       "802                NaN  [MALE]                    NaN   \n",
       "803                NaN  [MALE]                    NaN   \n",
       "804                NaN  [MALE]                    NaN   \n",
       "\n",
       "                          age network_type deep_conversion_type  \\\n",
       "800  [{'min': 24, 'max': 42}]          NaN                  NaN   \n",
       "801  [{'min': 24, 'max': 42}]          NaN                  NaN   \n",
       "802  [{'min': 24, 'max': 42}]          NaN                  NaN   \n",
       "803  [{'min': 24, 'max': 42}]          NaN                  NaN   \n",
       "804  [{'min': 24, 'max': 42}]          NaN                  NaN   \n",
       "\n",
       "    deep_conversion_behavior_spec deep_conversion_worth_spec  \\\n",
       "800                           NaN                        NaN   \n",
       "801                           NaN                        NaN   \n",
       "802                           NaN                        NaN   \n",
       "803                           NaN                        NaN   \n",
       "804                           NaN                        NaN   \n",
       "\n",
       "    intention_targeting_tags interest_category_id_list interest_keyword_list  \\\n",
       "800                    [205]           [157, 301, 205]                   NaN   \n",
       "801                    [205]           [157, 301, 205]                   NaN   \n",
       "802                    [205]           [157, 301, 205]                   NaN   \n",
       "803                    [205]           [157, 301, 205]                   NaN   \n",
       "804                    [205]           [157, 301, 205]                   NaN   \n",
       "\n",
       "                             behavior_category_id_list  \\\n",
       "800  [307, 38, 72, 66, 162, 226, 126, 89, 644, 893,...   \n",
       "801  [307, 38, 72, 66, 162, 226, 126, 89, 644, 893,...   \n",
       "802  [307, 38, 72, 66, 162, 226, 126, 89, 644, 893,...   \n",
       "803  [307, 38, 72, 66, 162, 226, 126, 89, 644, 893,...   \n",
       "804  [307, 38, 72, 66, 162, 226, 126, 89, 644, 893,...   \n",
       "\n",
       "                    behavior_intensity behavior_keyword_list  \\\n",
       "800  [BEHAVIOR_INTEREST_INTENSITY_ALL]                   NaN   \n",
       "801  [BEHAVIOR_INTEREST_INTENSITY_ALL]                   NaN   \n",
       "802  [BEHAVIOR_INTEREST_INTENSITY_ALL]                   NaN   \n",
       "803  [BEHAVIOR_INTEREST_INTENSITY_ALL]                   NaN   \n",
       "804  [BEHAVIOR_INTEREST_INTENSITY_ALL]                   NaN   \n",
       "\n",
       "                    behavior_scene                     behavior_time_window  \\\n",
       "800  [BEHAVIOR_INTEREST_SCENE_ALL]  BEHAVIOR_INTEREST_TIME_WINDOW_SEVEN_DAY   \n",
       "801  [BEHAVIOR_INTEREST_SCENE_ALL]  BEHAVIOR_INTEREST_TIME_WINDOW_SEVEN_DAY   \n",
       "802  [BEHAVIOR_INTEREST_SCENE_ALL]  BEHAVIOR_INTEREST_TIME_WINDOW_SEVEN_DAY   \n",
       "803  [BEHAVIOR_INTEREST_SCENE_ALL]  BEHAVIOR_INTEREST_TIME_WINDOW_SEVEN_DAY   \n",
       "804  [BEHAVIOR_INTEREST_SCENE_ALL]  BEHAVIOR_INTEREST_TIME_WINDOW_SEVEN_DAY   \n",
       "\n",
       "            conversion_behavior_list      excluded_dimension location_types  \\\n",
       "800  [OPTIMIZATIONGOAL_CANVAS_CLICK]  EXCLUDED_DIMENSION_APP            NaN   \n",
       "801  [OPTIMIZATIONGOAL_CANVAS_CLICK]  EXCLUDED_DIMENSION_APP            NaN   \n",
       "802  [OPTIMIZATIONGOAL_CANVAS_CLICK]  EXCLUDED_DIMENSION_APP            NaN   \n",
       "803  [OPTIMIZATIONGOAL_CANVAS_CLICK]  EXCLUDED_DIMENSION_APP            NaN   \n",
       "804  [OPTIMIZATIONGOAL_CANVAS_CLICK]  EXCLUDED_DIMENSION_APP            NaN   \n",
       "\n",
       "    regions  image_id deep_link_url  adcreative_template_id  \\\n",
       "800     NaN     35645                                   560   \n",
       "801     NaN     35686                                   560   \n",
       "802     NaN     35378                                   560   \n",
       "803     NaN     35709                                   560   \n",
       "804     NaN     35381                                   560   \n",
       "\n",
       "                                             page_spec  \\\n",
       "800  {'override_canvas_head_option': 'OPTION_CREATI...   \n",
       "801  {'override_canvas_head_option': 'OPTION_CREATI...   \n",
       "802  {'override_canvas_head_option': 'OPTION_CREATI...   \n",
       "803  {'override_canvas_head_option': 'OPTION_CREATI...   \n",
       "804  {'override_canvas_head_option': 'OPTION_CREATI...   \n",
       "\n",
       "                   page_type           site_set label promoted_object_id  \\\n",
       "800  PAGE_TYPE_CANVAS_WECHAT  [SITE_SET_WECHAT]   NaN         1111059412   \n",
       "801  PAGE_TYPE_CANVAS_WECHAT  [SITE_SET_WECHAT]   NaN         1111059412   \n",
       "802  PAGE_TYPE_CANVAS_WECHAT  [SITE_SET_WECHAT]   NaN         1111059412   \n",
       "803  PAGE_TYPE_CANVAS_WECHAT  [SITE_SET_WECHAT]   NaN         1111059412   \n",
       "804  PAGE_TYPE_CANVAS_WECHAT  [SITE_SET_WECHAT]   NaN         1111059412   \n",
       "\n",
       "                 promoted_object_type  automatic_site_enabled link_name_type  \\\n",
       "800  PROMOTED_OBJECT_TYPE_APP_ANDROID                   False   DOWNLOAD_APP   \n",
       "801  PROMOTED_OBJECT_TYPE_APP_ANDROID                   False   DOWNLOAD_APP   \n",
       "802  PROMOTED_OBJECT_TYPE_APP_ANDROID                   False   DOWNLOAD_APP   \n",
       "803  PROMOTED_OBJECT_TYPE_APP_ANDROID                   False   DOWNLOAD_APP   \n",
       "804  PROMOTED_OBJECT_TYPE_APP_ANDROID                   False   DOWNLOAD_APP   \n",
       "\n",
       "    link_page_type profile_id link_page_spec  \\\n",
       "800            NaN        NaN            NaN   \n",
       "801            NaN        NaN            NaN   \n",
       "802            NaN        NaN            NaN   \n",
       "803            NaN        NaN            NaN   \n",
       "804            NaN        NaN            NaN   \n",
       "\n",
       "                                   adcreative_elements  \n",
       "800  {'corporate': {'corporate_img': 71531, 'corpor...  \n",
       "801  {'corporate': {'corporate_img': 71531, 'corpor...  \n",
       "802  {'corporate': {'corporate_img': 71531, 'corpor...  \n",
       "803  {'corporate': {'corporate_img': 71531, 'corpor...  \n",
       "804  {'corporate': {'corporate_img': 71531, 'corpor...  "
      ]
     },
     "execution_count": 258,
     "metadata": {},
     "output_type": "execute_result"
    }
   ],
   "source": [
    "plan_info[plan_info['optimization_goal']=='OPTIMIZATIONGOAL_FIRST_PURCHASE'].head()"
   ]
  },
  {
   "cell_type": "code",
   "execution_count": 259,
   "metadata": {},
   "outputs": [
    {
     "data": {
      "text/html": [
       "<div>\n",
       "<style scoped>\n",
       "    .dataframe tbody tr th:only-of-type {\n",
       "        vertical-align: middle;\n",
       "    }\n",
       "\n",
       "    .dataframe tbody tr th {\n",
       "        vertical-align: top;\n",
       "    }\n",
       "\n",
       "    .dataframe thead th {\n",
       "        text-align: right;\n",
       "    }\n",
       "</style>\n",
       "<table border=\"1\" class=\"dataframe\">\n",
       "  <thead>\n",
       "    <tr style=\"text-align: right;\">\n",
       "      <th></th>\n",
       "      <th>ad_account_id</th>\n",
       "      <th>game_id</th>\n",
       "      <th>channel_id</th>\n",
       "      <th>source_id</th>\n",
       "      <th>budget_mode</th>\n",
       "      <th>create_time</th>\n",
       "      <th>optimization_goal</th>\n",
       "      <th>time_series</th>\n",
       "      <th>bid_strategy</th>\n",
       "      <th>bid_amount</th>\n",
       "      <th>daily_budget</th>\n",
       "      <th>expand_enabled</th>\n",
       "      <th>expand_targeting</th>\n",
       "      <th>device_price</th>\n",
       "      <th>app_install_status</th>\n",
       "      <th>gender</th>\n",
       "      <th>game_consumption_level</th>\n",
       "      <th>age</th>\n",
       "      <th>network_type</th>\n",
       "      <th>deep_conversion_type</th>\n",
       "      <th>deep_conversion_behavior_spec</th>\n",
       "      <th>deep_conversion_worth_spec</th>\n",
       "      <th>intention_targeting_tags</th>\n",
       "      <th>interest_category_id_list</th>\n",
       "      <th>interest_keyword_list</th>\n",
       "      <th>behavior_category_id_list</th>\n",
       "      <th>behavior_intensity</th>\n",
       "      <th>behavior_keyword_list</th>\n",
       "      <th>behavior_scene</th>\n",
       "      <th>behavior_time_window</th>\n",
       "      <th>conversion_behavior_list</th>\n",
       "      <th>excluded_dimension</th>\n",
       "      <th>location_types</th>\n",
       "      <th>regions</th>\n",
       "      <th>image_id</th>\n",
       "      <th>deep_link_url</th>\n",
       "      <th>adcreative_template_id</th>\n",
       "      <th>page_spec</th>\n",
       "      <th>page_type</th>\n",
       "      <th>site_set</th>\n",
       "      <th>label</th>\n",
       "      <th>promoted_object_id</th>\n",
       "      <th>promoted_object_type</th>\n",
       "      <th>automatic_site_enabled</th>\n",
       "      <th>link_name_type</th>\n",
       "      <th>link_page_type</th>\n",
       "      <th>profile_id</th>\n",
       "      <th>link_page_spec</th>\n",
       "      <th>adcreative_elements</th>\n",
       "    </tr>\n",
       "  </thead>\n",
       "  <tbody>\n",
       "    <tr>\n",
       "      <th>0</th>\n",
       "      <td>4991</td>\n",
       "      <td>1001379</td>\n",
       "      <td>20635</td>\n",
       "      <td>739387</td>\n",
       "      <td>0</td>\n",
       "      <td>2021-07-01 16:03:13</td>\n",
       "      <td>OPTIMIZATIONGOAL_APP_PURCHASE</td>\n",
       "      <td>1111111111111111111111111111111111111111111111...</td>\n",
       "      <td>BID_STRATEGY_AVERAGE_COST</td>\n",
       "      <td>89965</td>\n",
       "      <td>0</td>\n",
       "      <td>False</td>\n",
       "      <td>[]</td>\n",
       "      <td>NaN</td>\n",
       "      <td>[NOT_INSTALLED]</td>\n",
       "      <td>NaN</td>\n",
       "      <td>[HIGH, NORMAL]</td>\n",
       "      <td>[{'min': 22, 'max': 60}]</td>\n",
       "      <td>[WIFI, NET_4G]</td>\n",
       "      <td>NaN</td>\n",
       "      <td>NaN</td>\n",
       "      <td>NaN</td>\n",
       "      <td>NaN</td>\n",
       "      <td>NaN</td>\n",
       "      <td>NaN</td>\n",
       "      <td>NaN</td>\n",
       "      <td>NaN</td>\n",
       "      <td>NaN</td>\n",
       "      <td>NaN</td>\n",
       "      <td>NaN</td>\n",
       "      <td>NaN</td>\n",
       "      <td>NaN</td>\n",
       "      <td>NaN</td>\n",
       "      <td>NaN</td>\n",
       "      <td>34203</td>\n",
       "      <td></td>\n",
       "      <td>1480</td>\n",
       "      <td>{'override_canvas_head_option': 'OPTION_CREATI...</td>\n",
       "      <td>PAGE_TYPE_CANVAS_WECHAT</td>\n",
       "      <td>[SITE_SET_MOMENTS]</td>\n",
       "      <td>NaN</td>\n",
       "      <td>1111059412</td>\n",
       "      <td>PROMOTED_OBJECT_TYPE_APP_ANDROID</td>\n",
       "      <td>False</td>\n",
       "      <td>DOWNLOAD_GAME</td>\n",
       "      <td>LINK_PAGE_TYPE_CANVAS_WECHAT</td>\n",
       "      <td>287540</td>\n",
       "      <td>{\"page_id\":\"2113584435\"}</td>\n",
       "      <td>{'short_video_struct': {'short_video1': 95198}...</td>\n",
       "    </tr>\n",
       "    <tr>\n",
       "      <th>1</th>\n",
       "      <td>4991</td>\n",
       "      <td>1001379</td>\n",
       "      <td>20635</td>\n",
       "      <td>739391</td>\n",
       "      <td>0</td>\n",
       "      <td>2021-07-01 16:03:13</td>\n",
       "      <td>OPTIMIZATIONGOAL_APP_PURCHASE</td>\n",
       "      <td>1111111111111111111111111111111111111111111111...</td>\n",
       "      <td>BID_STRATEGY_AVERAGE_COST</td>\n",
       "      <td>91000</td>\n",
       "      <td>0</td>\n",
       "      <td>False</td>\n",
       "      <td>[]</td>\n",
       "      <td>NaN</td>\n",
       "      <td>[NOT_INSTALLED]</td>\n",
       "      <td>NaN</td>\n",
       "      <td>[HIGH, NORMAL]</td>\n",
       "      <td>[{'min': 22, 'max': 60}]</td>\n",
       "      <td>[WIFI, NET_4G]</td>\n",
       "      <td>NaN</td>\n",
       "      <td>NaN</td>\n",
       "      <td>NaN</td>\n",
       "      <td>NaN</td>\n",
       "      <td>NaN</td>\n",
       "      <td>NaN</td>\n",
       "      <td>NaN</td>\n",
       "      <td>NaN</td>\n",
       "      <td>NaN</td>\n",
       "      <td>NaN</td>\n",
       "      <td>NaN</td>\n",
       "      <td>NaN</td>\n",
       "      <td>NaN</td>\n",
       "      <td>NaN</td>\n",
       "      <td>NaN</td>\n",
       "      <td>33200</td>\n",
       "      <td></td>\n",
       "      <td>1480</td>\n",
       "      <td>{'override_canvas_head_option': 'OPTION_CREATI...</td>\n",
       "      <td>PAGE_TYPE_CANVAS_WECHAT</td>\n",
       "      <td>[SITE_SET_MOMENTS]</td>\n",
       "      <td>NaN</td>\n",
       "      <td>1111059412</td>\n",
       "      <td>PROMOTED_OBJECT_TYPE_APP_ANDROID</td>\n",
       "      <td>False</td>\n",
       "      <td>DOWNLOAD_GAME</td>\n",
       "      <td>LINK_PAGE_TYPE_CANVAS_WECHAT</td>\n",
       "      <td>287540</td>\n",
       "      <td>{\"page_id\":\"2113584435\"}</td>\n",
       "      <td>{'short_video_struct': {'short_video1': 88822}...</td>\n",
       "    </tr>\n",
       "    <tr>\n",
       "      <th>2</th>\n",
       "      <td>4991</td>\n",
       "      <td>1001379</td>\n",
       "      <td>20635</td>\n",
       "      <td>739390</td>\n",
       "      <td>0</td>\n",
       "      <td>2021-07-01 16:03:13</td>\n",
       "      <td>OPTIMIZATIONGOAL_APP_PURCHASE</td>\n",
       "      <td>1111111111111111111111111111111111111111111111...</td>\n",
       "      <td>BID_STRATEGY_AVERAGE_COST</td>\n",
       "      <td>91200</td>\n",
       "      <td>0</td>\n",
       "      <td>False</td>\n",
       "      <td>[]</td>\n",
       "      <td>NaN</td>\n",
       "      <td>[NOT_INSTALLED]</td>\n",
       "      <td>NaN</td>\n",
       "      <td>[HIGH, NORMAL]</td>\n",
       "      <td>[{'min': 22, 'max': 60}]</td>\n",
       "      <td>[WIFI, NET_4G]</td>\n",
       "      <td>NaN</td>\n",
       "      <td>NaN</td>\n",
       "      <td>NaN</td>\n",
       "      <td>NaN</td>\n",
       "      <td>NaN</td>\n",
       "      <td>NaN</td>\n",
       "      <td>NaN</td>\n",
       "      <td>NaN</td>\n",
       "      <td>NaN</td>\n",
       "      <td>NaN</td>\n",
       "      <td>NaN</td>\n",
       "      <td>NaN</td>\n",
       "      <td>NaN</td>\n",
       "      <td>NaN</td>\n",
       "      <td>NaN</td>\n",
       "      <td>33727</td>\n",
       "      <td></td>\n",
       "      <td>1480</td>\n",
       "      <td>{'override_canvas_head_option': 'OPTION_CREATI...</td>\n",
       "      <td>PAGE_TYPE_CANVAS_WECHAT</td>\n",
       "      <td>[SITE_SET_MOMENTS]</td>\n",
       "      <td>NaN</td>\n",
       "      <td>1111059412</td>\n",
       "      <td>PROMOTED_OBJECT_TYPE_APP_ANDROID</td>\n",
       "      <td>False</td>\n",
       "      <td>DOWNLOAD_GAME</td>\n",
       "      <td>LINK_PAGE_TYPE_CANVAS_WECHAT</td>\n",
       "      <td>287540</td>\n",
       "      <td>{\"page_id\":\"2113584435\"}</td>\n",
       "      <td>{'short_video_struct': {'short_video1': 91958}...</td>\n",
       "    </tr>\n",
       "    <tr>\n",
       "      <th>3</th>\n",
       "      <td>4991</td>\n",
       "      <td>1001379</td>\n",
       "      <td>20635</td>\n",
       "      <td>739389</td>\n",
       "      <td>0</td>\n",
       "      <td>2021-07-01 16:03:13</td>\n",
       "      <td>OPTIMIZATIONGOAL_APP_PURCHASE</td>\n",
       "      <td>1111111111111111111111111111111111111111111111...</td>\n",
       "      <td>BID_STRATEGY_AVERAGE_COST</td>\n",
       "      <td>91300</td>\n",
       "      <td>0</td>\n",
       "      <td>False</td>\n",
       "      <td>[]</td>\n",
       "      <td>NaN</td>\n",
       "      <td>[NOT_INSTALLED]</td>\n",
       "      <td>NaN</td>\n",
       "      <td>[HIGH, NORMAL]</td>\n",
       "      <td>[{'min': 22, 'max': 60}]</td>\n",
       "      <td>[WIFI, NET_4G]</td>\n",
       "      <td>NaN</td>\n",
       "      <td>NaN</td>\n",
       "      <td>NaN</td>\n",
       "      <td>NaN</td>\n",
       "      <td>NaN</td>\n",
       "      <td>NaN</td>\n",
       "      <td>NaN</td>\n",
       "      <td>NaN</td>\n",
       "      <td>NaN</td>\n",
       "      <td>NaN</td>\n",
       "      <td>NaN</td>\n",
       "      <td>NaN</td>\n",
       "      <td>NaN</td>\n",
       "      <td>NaN</td>\n",
       "      <td>NaN</td>\n",
       "      <td>33066</td>\n",
       "      <td></td>\n",
       "      <td>1480</td>\n",
       "      <td>{'override_canvas_head_option': 'OPTION_CREATI...</td>\n",
       "      <td>PAGE_TYPE_CANVAS_WECHAT</td>\n",
       "      <td>[SITE_SET_MOMENTS]</td>\n",
       "      <td>NaN</td>\n",
       "      <td>1111059412</td>\n",
       "      <td>PROMOTED_OBJECT_TYPE_APP_ANDROID</td>\n",
       "      <td>False</td>\n",
       "      <td>DOWNLOAD_GAME</td>\n",
       "      <td>LINK_PAGE_TYPE_CANVAS_WECHAT</td>\n",
       "      <td>287540</td>\n",
       "      <td>{\"page_id\":\"2113584435\"}</td>\n",
       "      <td>{'short_video_struct': {'short_video1': 94314}...</td>\n",
       "    </tr>\n",
       "    <tr>\n",
       "      <th>4</th>\n",
       "      <td>4991</td>\n",
       "      <td>1001379</td>\n",
       "      <td>20635</td>\n",
       "      <td>739386</td>\n",
       "      <td>0</td>\n",
       "      <td>2021-07-01 16:03:13</td>\n",
       "      <td>OPTIMIZATIONGOAL_APP_PURCHASE</td>\n",
       "      <td>1111111111111111111111111111111111111111111111...</td>\n",
       "      <td>BID_STRATEGY_AVERAGE_COST</td>\n",
       "      <td>90187</td>\n",
       "      <td>0</td>\n",
       "      <td>False</td>\n",
       "      <td>[]</td>\n",
       "      <td>NaN</td>\n",
       "      <td>[NOT_INSTALLED]</td>\n",
       "      <td>NaN</td>\n",
       "      <td>[HIGH, NORMAL]</td>\n",
       "      <td>[{'min': 22, 'max': 60}]</td>\n",
       "      <td>[WIFI, NET_4G]</td>\n",
       "      <td>NaN</td>\n",
       "      <td>NaN</td>\n",
       "      <td>NaN</td>\n",
       "      <td>NaN</td>\n",
       "      <td>NaN</td>\n",
       "      <td>NaN</td>\n",
       "      <td>NaN</td>\n",
       "      <td>NaN</td>\n",
       "      <td>NaN</td>\n",
       "      <td>NaN</td>\n",
       "      <td>NaN</td>\n",
       "      <td>NaN</td>\n",
       "      <td>NaN</td>\n",
       "      <td>NaN</td>\n",
       "      <td>NaN</td>\n",
       "      <td>32284</td>\n",
       "      <td></td>\n",
       "      <td>1480</td>\n",
       "      <td>{'override_canvas_head_option': 'OPTION_CREATI...</td>\n",
       "      <td>PAGE_TYPE_CANVAS_WECHAT</td>\n",
       "      <td>[SITE_SET_MOMENTS]</td>\n",
       "      <td>NaN</td>\n",
       "      <td>1111059412</td>\n",
       "      <td>PROMOTED_OBJECT_TYPE_APP_ANDROID</td>\n",
       "      <td>False</td>\n",
       "      <td>DOWNLOAD_GAME</td>\n",
       "      <td>LINK_PAGE_TYPE_CANVAS_WECHAT</td>\n",
       "      <td>287540</td>\n",
       "      <td>{\"page_id\":\"2113584435\"}</td>\n",
       "      <td>{'short_video_struct': {'short_video1': 86085}...</td>\n",
       "    </tr>\n",
       "  </tbody>\n",
       "</table>\n",
       "</div>"
      ],
      "text/plain": [
       "   ad_account_id  game_id  channel_id  source_id  budget_mode  \\\n",
       "0           4991  1001379       20635     739387            0   \n",
       "1           4991  1001379       20635     739391            0   \n",
       "2           4991  1001379       20635     739390            0   \n",
       "3           4991  1001379       20635     739389            0   \n",
       "4           4991  1001379       20635     739386            0   \n",
       "\n",
       "          create_time              optimization_goal  \\\n",
       "0 2021-07-01 16:03:13  OPTIMIZATIONGOAL_APP_PURCHASE   \n",
       "1 2021-07-01 16:03:13  OPTIMIZATIONGOAL_APP_PURCHASE   \n",
       "2 2021-07-01 16:03:13  OPTIMIZATIONGOAL_APP_PURCHASE   \n",
       "3 2021-07-01 16:03:13  OPTIMIZATIONGOAL_APP_PURCHASE   \n",
       "4 2021-07-01 16:03:13  OPTIMIZATIONGOAL_APP_PURCHASE   \n",
       "\n",
       "                                         time_series  \\\n",
       "0  1111111111111111111111111111111111111111111111...   \n",
       "1  1111111111111111111111111111111111111111111111...   \n",
       "2  1111111111111111111111111111111111111111111111...   \n",
       "3  1111111111111111111111111111111111111111111111...   \n",
       "4  1111111111111111111111111111111111111111111111...   \n",
       "\n",
       "                bid_strategy  bid_amount  daily_budget  expand_enabled  \\\n",
       "0  BID_STRATEGY_AVERAGE_COST       89965             0           False   \n",
       "1  BID_STRATEGY_AVERAGE_COST       91000             0           False   \n",
       "2  BID_STRATEGY_AVERAGE_COST       91200             0           False   \n",
       "3  BID_STRATEGY_AVERAGE_COST       91300             0           False   \n",
       "4  BID_STRATEGY_AVERAGE_COST       90187             0           False   \n",
       "\n",
       "  expand_targeting device_price app_install_status gender  \\\n",
       "0               []          NaN    [NOT_INSTALLED]    NaN   \n",
       "1               []          NaN    [NOT_INSTALLED]    NaN   \n",
       "2               []          NaN    [NOT_INSTALLED]    NaN   \n",
       "3               []          NaN    [NOT_INSTALLED]    NaN   \n",
       "4               []          NaN    [NOT_INSTALLED]    NaN   \n",
       "\n",
       "  game_consumption_level                       age    network_type  \\\n",
       "0         [HIGH, NORMAL]  [{'min': 22, 'max': 60}]  [WIFI, NET_4G]   \n",
       "1         [HIGH, NORMAL]  [{'min': 22, 'max': 60}]  [WIFI, NET_4G]   \n",
       "2         [HIGH, NORMAL]  [{'min': 22, 'max': 60}]  [WIFI, NET_4G]   \n",
       "3         [HIGH, NORMAL]  [{'min': 22, 'max': 60}]  [WIFI, NET_4G]   \n",
       "4         [HIGH, NORMAL]  [{'min': 22, 'max': 60}]  [WIFI, NET_4G]   \n",
       "\n",
       "  deep_conversion_type deep_conversion_behavior_spec  \\\n",
       "0                  NaN                           NaN   \n",
       "1                  NaN                           NaN   \n",
       "2                  NaN                           NaN   \n",
       "3                  NaN                           NaN   \n",
       "4                  NaN                           NaN   \n",
       "\n",
       "  deep_conversion_worth_spec intention_targeting_tags  \\\n",
       "0                        NaN                      NaN   \n",
       "1                        NaN                      NaN   \n",
       "2                        NaN                      NaN   \n",
       "3                        NaN                      NaN   \n",
       "4                        NaN                      NaN   \n",
       "\n",
       "  interest_category_id_list interest_keyword_list behavior_category_id_list  \\\n",
       "0                       NaN                   NaN                       NaN   \n",
       "1                       NaN                   NaN                       NaN   \n",
       "2                       NaN                   NaN                       NaN   \n",
       "3                       NaN                   NaN                       NaN   \n",
       "4                       NaN                   NaN                       NaN   \n",
       "\n",
       "  behavior_intensity behavior_keyword_list behavior_scene  \\\n",
       "0                NaN                   NaN            NaN   \n",
       "1                NaN                   NaN            NaN   \n",
       "2                NaN                   NaN            NaN   \n",
       "3                NaN                   NaN            NaN   \n",
       "4                NaN                   NaN            NaN   \n",
       "\n",
       "  behavior_time_window conversion_behavior_list excluded_dimension  \\\n",
       "0                  NaN                      NaN                NaN   \n",
       "1                  NaN                      NaN                NaN   \n",
       "2                  NaN                      NaN                NaN   \n",
       "3                  NaN                      NaN                NaN   \n",
       "4                  NaN                      NaN                NaN   \n",
       "\n",
       "  location_types regions  image_id deep_link_url  adcreative_template_id  \\\n",
       "0            NaN     NaN     34203                                  1480   \n",
       "1            NaN     NaN     33200                                  1480   \n",
       "2            NaN     NaN     33727                                  1480   \n",
       "3            NaN     NaN     33066                                  1480   \n",
       "4            NaN     NaN     32284                                  1480   \n",
       "\n",
       "                                           page_spec                page_type  \\\n",
       "0  {'override_canvas_head_option': 'OPTION_CREATI...  PAGE_TYPE_CANVAS_WECHAT   \n",
       "1  {'override_canvas_head_option': 'OPTION_CREATI...  PAGE_TYPE_CANVAS_WECHAT   \n",
       "2  {'override_canvas_head_option': 'OPTION_CREATI...  PAGE_TYPE_CANVAS_WECHAT   \n",
       "3  {'override_canvas_head_option': 'OPTION_CREATI...  PAGE_TYPE_CANVAS_WECHAT   \n",
       "4  {'override_canvas_head_option': 'OPTION_CREATI...  PAGE_TYPE_CANVAS_WECHAT   \n",
       "\n",
       "             site_set label promoted_object_id  \\\n",
       "0  [SITE_SET_MOMENTS]   NaN         1111059412   \n",
       "1  [SITE_SET_MOMENTS]   NaN         1111059412   \n",
       "2  [SITE_SET_MOMENTS]   NaN         1111059412   \n",
       "3  [SITE_SET_MOMENTS]   NaN         1111059412   \n",
       "4  [SITE_SET_MOMENTS]   NaN         1111059412   \n",
       "\n",
       "               promoted_object_type  automatic_site_enabled link_name_type  \\\n",
       "0  PROMOTED_OBJECT_TYPE_APP_ANDROID                   False  DOWNLOAD_GAME   \n",
       "1  PROMOTED_OBJECT_TYPE_APP_ANDROID                   False  DOWNLOAD_GAME   \n",
       "2  PROMOTED_OBJECT_TYPE_APP_ANDROID                   False  DOWNLOAD_GAME   \n",
       "3  PROMOTED_OBJECT_TYPE_APP_ANDROID                   False  DOWNLOAD_GAME   \n",
       "4  PROMOTED_OBJECT_TYPE_APP_ANDROID                   False  DOWNLOAD_GAME   \n",
       "\n",
       "                 link_page_type profile_id            link_page_spec  \\\n",
       "0  LINK_PAGE_TYPE_CANVAS_WECHAT     287540  {\"page_id\":\"2113584435\"}   \n",
       "1  LINK_PAGE_TYPE_CANVAS_WECHAT     287540  {\"page_id\":\"2113584435\"}   \n",
       "2  LINK_PAGE_TYPE_CANVAS_WECHAT     287540  {\"page_id\":\"2113584435\"}   \n",
       "3  LINK_PAGE_TYPE_CANVAS_WECHAT     287540  {\"page_id\":\"2113584435\"}   \n",
       "4  LINK_PAGE_TYPE_CANVAS_WECHAT     287540  {\"page_id\":\"2113584435\"}   \n",
       "\n",
       "                                 adcreative_elements  \n",
       "0  {'short_video_struct': {'short_video1': 95198}...  \n",
       "1  {'short_video_struct': {'short_video1': 88822}...  \n",
       "2  {'short_video_struct': {'short_video1': 91958}...  \n",
       "3  {'short_video_struct': {'short_video1': 94314}...  \n",
       "4  {'short_video_struct': {'short_video1': 86085}...  "
      ]
     },
     "execution_count": 259,
     "metadata": {},
     "output_type": "execute_result"
    }
   ],
   "source": [
    "plan_info.head()"
   ]
  },
  {
   "cell_type": "code",
   "execution_count": 260,
   "metadata": {},
   "outputs": [],
   "source": [
    "# def get_all_data():\n",
    "#     # 读取历史数据\n",
    "#     plan_info = pd.read_csv('./hist_data/ptom_third_plan.csv')\n",
    "#     image_info = pd.read_csv('./hist_data/image_info.csv')\n",
    "#     launch_report = pd.read_csv('./hist_data/launch_report.csv')\n",
    "    \n",
    "#     plan_info_new = get_plan_info()\n",
    "#     image_info_new = get_image_info()\n",
    "#     launch_report_new = get_launch_report()\n",
    "    \n",
    "#     plan_info = plan_info.append(plan_info_new)\n",
    "#     plan_info = get_plan_json(plan_info)\n",
    "#     image_info = image_info.append(image_info_new)\n",
    "#     launch_report = launch_report.append(launch_report_new)\n",
    "#     image_info.dropna(subset=['image_id'],inplace=True)\n",
    "#     image_info['image_id'] = image_info['image_id'].astype(int)\n",
    "#     return plan_info,image_info,launch_report"
   ]
  },
  {
   "cell_type": "code",
   "execution_count": 261,
   "metadata": {},
   "outputs": [],
   "source": [
    "# plan_info,image_info,launch_report = get_all_data()"
   ]
  },
  {
   "cell_type": "markdown",
   "metadata": {},
   "source": [
    "### 构造新计划"
   ]
  },
  {
   "cell_type": "code",
   "execution_count": 262,
   "metadata": {},
   "outputs": [],
   "source": [
    "# 获取score_image (分数大于550的image_id)\n",
    "def get_score_image():\n",
    "    conn = connect(host='192.168.0.88', port=10000, auth_mechanism='PLAIN', user='hadoop',\n",
    "                    password='Ycjh8FxiaoMtShZRd3-97%3hCEL0CK4ns1w', database='default')\n",
    "    cursor = conn.cursor()\n",
    "    sql_engine = 'set hive.execution.engine=tez'\n",
    "    sql = 'select image_id,label_ids from dws.dws_image_score_d where media_id=16 and score>=600 and dt>= date_sub(current_date,90)group by image_id,label_ids'\n",
    "    cursor.execute(sql_engine)\n",
    "    cursor.execute(sql)\n",
    "    result = as_pandas(cursor)\n",
    "    result['label_ids'] = result['label_ids'].astype(str)\n",
    "    result['label_ids'] = result['label_ids'].apply(lambda x: x.strip('-1;') if '-1' in x else x)\n",
    "    result['label_ids'] = pd.to_numeric(result['label_ids'],errors='coerce')\n",
    "#     result = result[result['label_ids'].isin([27])]\n",
    "#     print(result)\n",
    "    # 关闭链接\n",
    "    cursor.close()\n",
    "    conn.close()\n",
    "    \n",
    "    return result['image_id'].values"
   ]
  },
  {
   "cell_type": "code",
   "execution_count": 263,
   "metadata": {},
   "outputs": [],
   "source": [
    "# 获取最近一天有评分的素材\n",
    "def get_current_image():\n",
    "    conn = connect(host='192.168.0.88', port=10000, auth_mechanism='PLAIN', user='hadoop',\n",
    "                    password='Ycjh8FxiaoMtShZRd3-97%3hCEL0CK4ns1w', database='default')\n",
    "    cursor = conn.cursor()\n",
    "    sql_engine = 'set hive.execution.engine=tez'\n",
    "    sql = 'select image_id,label_ids from dws.dws_image_score_d where media_id=16 and dt= current_date group by image_id,label_ids'\n",
    "    cursor.execute(sql_engine)\n",
    "    cursor.execute(sql)\n",
    "    result = as_pandas(cursor)\n",
    "    result['label_ids'] = result['label_ids'].astype(str)\n",
    "    result['label_ids'] = result['label_ids'].apply(lambda x: x.strip('-1;') if '-1' in x else x)\n",
    "    result['label_ids'] = pd.to_numeric(result['label_ids'],errors='coerce')\n",
    "#     result = result[result['label_ids'].isin([27])]\n",
    "#     print(result)\n",
    "    # 关闭链接\n",
    "    cursor.close()\n",
    "    conn.close()\n",
    "    \n",
    "    return result['image_id'].values"
   ]
  },
  {
   "cell_type": "code",
   "execution_count": 264,
   "metadata": {},
   "outputs": [],
   "source": [
    "plan_info['create_time'] = pd.to_datetime(plan_info['create_time'])\n",
    "plan_info_current = plan_info[plan_info['create_time']>=pd.datetime.now() - pd.DateOffset(90)]"
   ]
  },
  {
   "cell_type": "code",
   "execution_count": 265,
   "metadata": {},
   "outputs": [
    {
     "data": {
      "text/plain": [
       "(55105, 49)"
      ]
     },
     "execution_count": 265,
     "metadata": {},
     "output_type": "execute_result"
    }
   ],
   "source": [
    "plan_info_current.shape"
   ]
  },
  {
   "cell_type": "code",
   "execution_count": 266,
   "metadata": {},
   "outputs": [],
   "source": [
    "# 获取近期计划的运营数据\n",
    "def get_now_plan_roi():\n",
    "    game_id = get_game_id()\n",
    "    game_id = list(map(lambda x: x['game_id'], game_id))\n",
    "    game_id = [str(i) for i in game_id]\n",
    "    game_id = ','.join(game_id)\n",
    "\n",
    "    conn = pymysql.connect(host='db-slave-modelfenxi-001.ch', port=3306, user='model_read',\n",
    "                           passwd='aZftlm6PcFjN{DxIKOPr)BcutuJd<uYOC0P<8')\n",
    "    cur = conn.cursor(cursor=pymysql.cursors.DictCursor)\n",
    "    sql = '''\n",
    "        SELECT\n",
    "            a.ad_account_id,\n",
    "            b.channel_id,\n",
    "            b.source_id,\n",
    "            b.tdate,\n",
    "            b.amount,\n",
    "            b.new_role_money,\n",
    "            b.new_role_money / b.amount AS roi,\n",
    "            b.pay_role_user_num / b.create_role_num AS pay_rate \n",
    "        FROM\n",
    "            db_data_ptom.ptom_plan a \n",
    "        left join\n",
    "            db_stdata.st_lauch_report b\n",
    "        on a.chl_user_id=b.channel_id and a.source_id=b.source_id\n",
    "        WHERE\n",
    "            b.tdate >= date( NOW() - INTERVAL 2160 HOUR ) \n",
    "            AND b.tdate_type = 'day' \n",
    "            AND b.media_id = 16 \n",
    "            AND b.game_id IN ({}) \n",
    "            AND b.amount >= 500 \n",
    "            AND b.pay_role_user_num >= 2 \n",
    "            AND b.new_role_money >= 48\n",
    "            AND (b.new_role_money / b.amount)>=0.02\n",
    "    '''\n",
    "    finalSql = sql.format(game_id)\n",
    "    cur.execute(finalSql)\n",
    "    result_df = pd.read_sql(finalSql, conn)\n",
    "    cur.close()\n",
    "    conn.close()\n",
    "    result_df['tdate'] = pd.to_datetime(result_df['tdate'])\n",
    "    result_df = result_df.sort_values('tdate')\n",
    "    result_df = result_df.drop_duplicates(['channel_id', 'source_id'], keep='first')\n",
    "    return result_df"
   ]
  },
  {
   "cell_type": "code",
   "execution_count": 267,
   "metadata": {},
   "outputs": [],
   "source": [
    "now_plan_roi = get_now_plan_roi()"
   ]
  },
  {
   "cell_type": "code",
   "execution_count": 268,
   "metadata": {},
   "outputs": [
    {
     "data": {
      "text/plain": [
       "(764, 8)"
      ]
     },
     "execution_count": 268,
     "metadata": {},
     "output_type": "execute_result"
    }
   ],
   "source": [
    "now_plan_roi.shape"
   ]
  },
  {
   "cell_type": "code",
   "execution_count": 269,
   "metadata": {},
   "outputs": [
    {
     "data": {
      "text/html": [
       "<div>\n",
       "<style scoped>\n",
       "    .dataframe tbody tr th:only-of-type {\n",
       "        vertical-align: middle;\n",
       "    }\n",
       "\n",
       "    .dataframe tbody tr th {\n",
       "        vertical-align: top;\n",
       "    }\n",
       "\n",
       "    .dataframe thead th {\n",
       "        text-align: right;\n",
       "    }\n",
       "</style>\n",
       "<table border=\"1\" class=\"dataframe\">\n",
       "  <thead>\n",
       "    <tr style=\"text-align: right;\">\n",
       "      <th></th>\n",
       "      <th>ad_account_id</th>\n",
       "      <th>channel_id</th>\n",
       "      <th>source_id</th>\n",
       "      <th>tdate</th>\n",
       "      <th>amount</th>\n",
       "      <th>new_role_money</th>\n",
       "      <th>roi</th>\n",
       "      <th>pay_rate</th>\n",
       "    </tr>\n",
       "  </thead>\n",
       "  <tbody>\n",
       "    <tr>\n",
       "      <th>0</th>\n",
       "      <td>6683</td>\n",
       "      <td>6867</td>\n",
       "      <td>403487</td>\n",
       "      <td>2021-06-20</td>\n",
       "      <td>12941.54</td>\n",
       "      <td>544.0</td>\n",
       "      <td>0.042035</td>\n",
       "      <td>0.0110</td>\n",
       "    </tr>\n",
       "    <tr>\n",
       "      <th>1</th>\n",
       "      <td>6028</td>\n",
       "      <td>20635</td>\n",
       "      <td>694012</td>\n",
       "      <td>2021-06-20</td>\n",
       "      <td>13273.17</td>\n",
       "      <td>298.0</td>\n",
       "      <td>0.022451</td>\n",
       "      <td>0.0250</td>\n",
       "    </tr>\n",
       "    <tr>\n",
       "      <th>2</th>\n",
       "      <td>6845</td>\n",
       "      <td>20754</td>\n",
       "      <td>684379</td>\n",
       "      <td>2021-06-20</td>\n",
       "      <td>6004.80</td>\n",
       "      <td>152.0</td>\n",
       "      <td>0.025313</td>\n",
       "      <td>0.0132</td>\n",
       "    </tr>\n",
       "    <tr>\n",
       "      <th>3</th>\n",
       "      <td>6845</td>\n",
       "      <td>20754</td>\n",
       "      <td>705661</td>\n",
       "      <td>2021-06-20</td>\n",
       "      <td>4652.05</td>\n",
       "      <td>152.0</td>\n",
       "      <td>0.032674</td>\n",
       "      <td>0.0476</td>\n",
       "    </tr>\n",
       "    <tr>\n",
       "      <th>4</th>\n",
       "      <td>6539</td>\n",
       "      <td>21212</td>\n",
       "      <td>705513</td>\n",
       "      <td>2021-06-20</td>\n",
       "      <td>10502.98</td>\n",
       "      <td>466.0</td>\n",
       "      <td>0.044368</td>\n",
       "      <td>0.0090</td>\n",
       "    </tr>\n",
       "  </tbody>\n",
       "</table>\n",
       "</div>"
      ],
      "text/plain": [
       "   ad_account_id  channel_id  source_id      tdate    amount  new_role_money  \\\n",
       "0           6683        6867     403487 2021-06-20  12941.54           544.0   \n",
       "1           6028       20635     694012 2021-06-20  13273.17           298.0   \n",
       "2           6845       20754     684379 2021-06-20   6004.80           152.0   \n",
       "3           6845       20754     705661 2021-06-20   4652.05           152.0   \n",
       "4           6539       21212     705513 2021-06-20  10502.98           466.0   \n",
       "\n",
       "        roi  pay_rate  \n",
       "0  0.042035    0.0110  \n",
       "1  0.022451    0.0250  \n",
       "2  0.025313    0.0132  \n",
       "3  0.032674    0.0476  \n",
       "4  0.044368    0.0090  "
      ]
     },
     "execution_count": 269,
     "metadata": {},
     "output_type": "execute_result"
    }
   ],
   "source": [
    "now_plan_roi.head()"
   ]
  },
  {
   "cell_type": "code",
   "execution_count": 270,
   "metadata": {},
   "outputs": [],
   "source": [
    "# now_plan_roi = pd.merge(now_plan_roi,creative_info,on=['channel_id','source_id'],how='left')"
   ]
  },
  {
   "cell_type": "code",
   "execution_count": 271,
   "metadata": {},
   "outputs": [],
   "source": [
    "# now_plan_roi = now_plan_roi[now_plan_roi['image_id'].notna()]"
   ]
  },
  {
   "cell_type": "code",
   "execution_count": 272,
   "metadata": {},
   "outputs": [],
   "source": [
    "score_image = get_score_image()\n",
    "current_image = get_current_image()"
   ]
  },
  {
   "cell_type": "code",
   "execution_count": 273,
   "metadata": {},
   "outputs": [],
   "source": [
    "score_image = np.setdiff1d(score_image,current_image)"
   ]
  },
  {
   "cell_type": "code",
   "execution_count": 274,
   "metadata": {},
   "outputs": [
    {
     "data": {
      "text/plain": [
       "array([24402, 28073, 28579, 28594, 28722, 28730, 28976, 29272, 29507,\n",
       "       29629, 29895, 30014, 30219, 30285, 30457, 31060, 31144, 31202,\n",
       "       31467, 31739, 31785, 31845, 31905, 32026, 32160, 32178, 32211,\n",
       "       32614, 32621, 32633, 32843, 33092, 33268, 33315, 33357, 33406,\n",
       "       33547, 33577, 33634, 33641, 33720, 33728, 33733, 33772, 33773,\n",
       "       33804, 33817, 33822, 33987, 33996, 34013, 34018, 34056, 34058,\n",
       "       34101, 34117, 34133, 34153, 34156, 34232, 34248, 34250, 34317,\n",
       "       34370, 34389, 34700, 34736, 34769, 34822, 34860, 34862, 34909,\n",
       "       34913, 34923, 34932, 34933, 34944, 34961, 34964, 34979, 34988,\n",
       "       35082, 35084, 35111, 35117, 35123, 35131, 35136, 35194, 35205,\n",
       "       35225, 35331, 35364, 35392, 35435, 35463, 35540, 35567, 35569,\n",
       "       35575, 35607, 35634, 35702, 35708, 35732, 35745, 35760, 35761,\n",
       "       35786, 35787, 35816, 35919, 35930, 35958, 35980, 35988, 36008,\n",
       "       36027, 36080, 36117, 36217, 36219, 36319, 36324, 36410, 36419,\n",
       "       36427, 36432, 36449, 36487, 36522, 36525, 36607, 36619, 36651,\n",
       "       36673, 36687, 36714, 36718, 36732, 36795, 36873, 36877, 36882,\n",
       "       36918, 36931, 36979, 36995, 37008, 37016, 37027, 37051, 37165,\n",
       "       37210, 37213, 37218, 37284, 37296, 37297, 37335, 37337, 37342,\n",
       "       37352, 37381, 37444, 37447, 37449, 37583, 37623, 37676, 37697,\n",
       "       37704, 37709, 37719, 37778, 37802, 37809, 37817, 37820, 37822,\n",
       "       37827, 37833, 37838, 37853, 37881, 37882, 37890, 37896, 37907,\n",
       "       37944, 37949, 37960, 37964, 37994, 38000, 38009, 38102, 38103,\n",
       "       38118, 38134, 38143, 38149, 38160, 38172, 38237, 38259, 38271,\n",
       "       38307, 38311, 38316, 38321, 38358, 38471], dtype=int64)"
      ]
     },
     "execution_count": 274,
     "metadata": {},
     "output_type": "execute_result"
    }
   ],
   "source": [
    "score_image"
   ]
  },
  {
   "cell_type": "code",
   "execution_count": 275,
   "metadata": {},
   "outputs": [],
   "source": [
    "image_info = image_info[image_info['image_id'].notna()]\n",
    "image_info['image_id'] = image_info['image_id'].astype(int)"
   ]
  },
  {
   "cell_type": "code",
   "execution_count": 276,
   "metadata": {},
   "outputs": [],
   "source": [
    "df_create = pd.merge(plan_info_current,image_info,on=['channel_id','source_id','image_id'],how='left')"
   ]
  },
  {
   "cell_type": "code",
   "execution_count": 277,
   "metadata": {},
   "outputs": [
    {
     "data": {
      "text/plain": [
       "(55105, 50)"
      ]
     },
     "execution_count": 277,
     "metadata": {},
     "output_type": "execute_result"
    }
   ],
   "source": [
    "df_create.shape"
   ]
  },
  {
   "cell_type": "code",
   "execution_count": 278,
   "metadata": {},
   "outputs": [],
   "source": [
    "df_create = pd.merge(df_create,now_plan_roi.drop(['ad_account_id'], axis=1),on=['channel_id','source_id'],how='inner')\n",
    "# df_create['platform'] = df_create['platform'].astype(str)\n",
    "# df_create['platform'] = df_create['platform'].map({\"['ANDROID']\":1,\"['IOS']\":2})\n",
    "# df_create['platform'] = df_create['platform'].astype(int)"
   ]
  },
  {
   "cell_type": "code",
   "execution_count": 279,
   "metadata": {},
   "outputs": [
    {
     "data": {
      "text/plain": [
       "(724, 55)"
      ]
     },
     "execution_count": 279,
     "metadata": {},
     "output_type": "execute_result"
    }
   ],
   "source": [
    "df_create.shape"
   ]
  },
  {
   "cell_type": "code",
   "execution_count": 280,
   "metadata": {},
   "outputs": [
    {
     "data": {
      "text/plain": [
       "140"
      ]
     },
     "execution_count": 280,
     "metadata": {},
     "output_type": "execute_result"
    }
   ],
   "source": [
    "df_create['image_id'].nunique()"
   ]
  },
  {
   "cell_type": "code",
   "execution_count": 281,
   "metadata": {},
   "outputs": [],
   "source": [
    "df_create = df_create[df_create['site_set'].notna()]"
   ]
  },
  {
   "cell_type": "code",
   "execution_count": 282,
   "metadata": {},
   "outputs": [
    {
     "data": {
      "text/plain": [
       "(715, 55)"
      ]
     },
     "execution_count": 282,
     "metadata": {},
     "output_type": "execute_result"
    }
   ],
   "source": [
    "df_create.shape"
   ]
  },
  {
   "cell_type": "code",
   "execution_count": 283,
   "metadata": {},
   "outputs": [],
   "source": [
    "def create_plan(df, score_image):\n",
    "    # 选ad_account_id、image_id每个账号+素材8条\n",
    "    game_id = 1001379\n",
    "    # df = df[df['game_id'] == game_id]\n",
    "    df = df[df['game_id'].isin([1001379, 1001757])]\n",
    "    ad_account_id_group = np.array([\n",
    "        7982, 8037, 8082, 8080, 8078, 8076, 8075, 7981, 7984, 8035, 8036, 8038, 8039,  8077, 8073,\n",
    "        8814, 8815, 8816, 8817, 8818, 8819, 8820, 8821, 8822, 8823, 8824, 8825, 8826, 8827, 8828,\n",
    "        8829, 8830, 8831, 8832, 8833, 8834, 8835, 8836, 8837, 8838, 8839, 8840, 8841, 8842, 8843,\n",
    "        8844, 8845, 8846, 8847, 8848, 8854, 8855, 8856, 8857, 8858, 8859, 8860, 8743, 8742, 8741,\n",
    "        8740, 8739, 8738, 8737, 8736, 8735, 8734, 8733, 8732, 8731, 8730, 8729])\n",
    "    image_id_group = np.intersect1d(df['image_id'].unique(), score_image)\n",
    "    image_id_group = list(filter(lambda x: x >= 32861, image_id_group))\n",
    "\n",
    "    print(image_id_group)\n",
    "    df = df[df['image_id'].isin(image_id_group)]\n",
    "    #     df = df[df['site_set'].notna()]\n",
    "\n",
    "    plan = pd.DataFrame()\n",
    "    for ad_account in ad_account_id_group:\n",
    "        for image in image_id_group:\n",
    "            #         print(image)\n",
    "            temp = pd.DataFrame({'ad_account_id': [ad_account], 'image_id': [image]})\n",
    "            plan = plan.append(temp)\n",
    "    #         print(temp)\n",
    "    plan = pd.DataFrame(np.repeat(plan.values, 10, axis=0), columns=plan.columns)\n",
    "\n",
    "    plan['game_id'] = game_id\n",
    "\n",
    "    # 选择预算，不限制预算\n",
    "    plan['budget_mode'] = 0\n",
    "    plan['daily_budget'] = 0\n",
    "\n",
    "    # 选择出价方式、出价\n",
    "    # sample_df = df[\n",
    "    #     ['optimization_goal', 'bid_strategy', 'bid_amount', 'deep_conversion_type', 'deep_conversion_behavior_spec',\n",
    "    #      'deep_conversion_worth_spec']]\n",
    "    # sample_df = sample_df.sample(n=plan.shape[0], replace=True).reset_index(drop=True)\n",
    "    # plan = pd.concat([plan, sample_df], axis=1)\n",
    "\n",
    "    # 选扩量方式expand_enabled、expand_targeting\n",
    "    sample_df = df[['expand_enabled', 'expand_targeting']]\n",
    "    sample_df = sample_df.sample(n=plan.shape[0], replace=True).reset_index(drop=True)\n",
    "    plan = pd.concat([plan, sample_df], axis=1)\n",
    "\n",
    "    # 选定向targeting\n",
    "    sample_df = df[['device_price', 'app_install_status', 'gender', 'game_consumption_level', 'age', 'network_type',\n",
    "                    'conversion_behavior_list', 'excluded_dimension', 'location_types', 'regions',\n",
    "                    'intention_targeting_tags', 'interest_category_id_list', 'interest_keyword_list',\n",
    "                    'behavior_category_id_list', 'behavior_intensity',\n",
    "                    'behavior_keyword_list', 'behavior_scene', 'behavior_time_window']]\n",
    "    sample_df = sample_df.sample(n=plan.shape[0], replace=True).reset_index(drop=True)\n",
    "    plan = pd.concat([plan, sample_df], axis=1)\n",
    "\n",
    "    # 选创意\\出价方式、出价\n",
    "    create_df = df[\n",
    "        ['image_id', 'site_set', 'deep_link_url', 'adcreative_template_id', 'page_spec', 'page_type', 'link_page_spec',\n",
    "         'link_name_type', 'link_page_type', 'promoted_object_id', 'profile_id', 'promoted_object_type',\n",
    "         'automatic_site_enabled', 'label', 'adcreative_elements',\n",
    "         'optimization_goal', 'bid_strategy', 'bid_amount', 'deep_conversion_type', 'deep_conversion_behavior_spec',\n",
    "         'deep_conversion_worth_spec']]\n",
    "    plan_ = pd.DataFrame()\n",
    "    for image_id in image_id_group:\n",
    "        plan_1 = plan[plan['image_id'] == image_id]\n",
    "        create_df_1 = create_df[create_df['image_id'] == image_id]\n",
    "        create_df_1['site_set'] = create_df_1['site_set'].map(str)\n",
    "        create_df_1['weight'] = create_df_1.groupby(['site_set'])['image_id'].transform('count')\n",
    "\n",
    "        sample_df_1 = create_df_1.sample(n=plan_1.shape[0], replace=True, weights=create_df_1['weight']).reset_index(\n",
    "            drop=True)\n",
    "        sample_df_1.drop(['image_id', 'weight'], axis=1, inplace=True)\n",
    "\n",
    "        plan_1 = plan_1.reset_index(drop=True)\n",
    "        sample_df_1 = sample_df_1.reset_index(drop=True)\n",
    "        plan_1 = pd.concat([plan_1, sample_df_1], axis=1)\n",
    "        plan_ = plan_.append(plan_1)\n",
    "\n",
    "    plan = plan_\n",
    "    plan['site_set'] = plan['site_set'].apply(ast.literal_eval)\n",
    "\n",
    "    # 选time_series\n",
    "    cols = ['time_series']\n",
    "    for col in cols:\n",
    "        count_df = pd.DataFrame(data=df[col].value_counts()).reset_index()\n",
    "        count_df.columns = ['col', 'counts']\n",
    "        count_df['pct'] = count_df['counts'] / count_df['counts'].sum()\n",
    "        plan[col] = plan.apply(lambda x: np.random.choice(count_df['col'].values, 1, p=count_df['pct'].values)[0],\n",
    "                               axis=1)\n",
    "    # 2000000066\n",
    "    plan['promoted_object_id'] = '1111059412'\n",
    "    plan['create_time'] = pd.to_datetime(pd.datetime.now())\n",
    "    plan['create_date'] = pd.to_datetime(pd.datetime.now().date())\n",
    "    plan = plan.reset_index(drop=True)\n",
    "    return plan"
   ]
  },
  {
   "cell_type": "code",
   "execution_count": 284,
   "metadata": {},
   "outputs": [
    {
     "data": {
      "text/plain": [
       "[SITE_SET_MOMENTS]                                                                                                  390\n",
       "[SITE_SET_QQ_MUSIC_GAME, SITE_SET_KANDIAN, SITE_SET_TENCENT_NEWS, SITE_SET_TENCENT_VIDEO, SITE_SET_MOBILE_UNION]    152\n",
       "[SITE_SET_QQ_MUSIC_GAME, SITE_SET_KANDIAN, SITE_SET_TENCENT_VIDEO, SITE_SET_MOBILE_UNION]                           127\n",
       "[SITE_SET_QQ_MUSIC_GAME, SITE_SET_KANDIAN, SITE_SET_TENCENT_NEWS, SITE_SET_TENCENT_VIDEO]                            32\n",
       "[SITE_SET_QQ_MUSIC_GAME, SITE_SET_KANDIAN, SITE_SET_TENCENT_VIDEO]                                                   10\n",
       "[SITE_SET_QQ_MUSIC_GAME, SITE_SET_KANDIAN]                                                                            2\n",
       "[SITE_SET_WECHAT]                                                                                                     2\n",
       "Name: site_set, dtype: int64"
      ]
     },
     "execution_count": 284,
     "metadata": {},
     "output_type": "execute_result"
    }
   ],
   "source": [
    "df_create['site_set'].value_counts()"
   ]
  },
  {
   "cell_type": "code",
   "execution_count": 285,
   "metadata": {},
   "outputs": [
    {
     "name": "stdout",
     "output_type": "stream",
     "text": [
      "[35732, 36487, 37016, 38311]\n"
     ]
    }
   ],
   "source": [
    "plan_create = create_plan(df_create, score_image)"
   ]
  },
  {
   "cell_type": "code",
   "execution_count": 286,
   "metadata": {
    "scrolled": true
   },
   "outputs": [
    {
     "data": {
      "text/plain": [
       "4"
      ]
     },
     "execution_count": 286,
     "metadata": {},
     "output_type": "execute_result"
    }
   ],
   "source": [
    "plan_create['image_id'].nunique()"
   ]
  },
  {
   "cell_type": "code",
   "execution_count": 287,
   "metadata": {},
   "outputs": [
    {
     "data": {
      "text/plain": [
       "(2880, 48)"
      ]
     },
     "execution_count": 287,
     "metadata": {},
     "output_type": "execute_result"
    }
   ],
   "source": [
    "plan_create.shape"
   ]
  },
  {
   "cell_type": "code",
   "execution_count": 288,
   "metadata": {},
   "outputs": [
    {
     "data": {
      "text/plain": [
       "[SITE_SET_MOMENTS]                                                                                                  2160\n",
       "[SITE_SET_QQ_MUSIC_GAME, SITE_SET_KANDIAN, SITE_SET_TENCENT_NEWS, SITE_SET_TENCENT_VIDEO, SITE_SET_MOBILE_UNION]     720\n",
       "Name: site_set, dtype: int64"
      ]
     },
     "execution_count": 288,
     "metadata": {},
     "output_type": "execute_result"
    }
   ],
   "source": [
    "plan_create['site_set'].value_counts()"
   ]
  },
  {
   "cell_type": "code",
   "execution_count": 289,
   "metadata": {},
   "outputs": [],
   "source": [
    "image_info.dropna(subset=['image_id'],inplace=True)\n",
    "image_info['image_id'] = image_info['image_id'].astype(int)\n",
    "plan_create = pd.merge(plan_create,image_info[['image_id','label_ids']].drop_duplicates(),on='image_id',how='left')"
   ]
  },
  {
   "cell_type": "code",
   "execution_count": 290,
   "metadata": {},
   "outputs": [
    {
     "data": {
      "text/plain": [
       "(2880, 49)"
      ]
     },
     "execution_count": 290,
     "metadata": {},
     "output_type": "execute_result"
    }
   ],
   "source": [
    "plan_create.shape"
   ]
  },
  {
   "cell_type": "code",
   "execution_count": 291,
   "metadata": {},
   "outputs": [],
   "source": [
    "df = pd.merge(plan_info,image_info,on=['channel_id','source_id','image_id'],how='left')\n",
    "df.dropna(subset=['image_id'],inplace=True)\n",
    "df = pd.merge(df, launch_report,on=['channel_id','source_id'],how='left')\n",
    "df.drop(df[df['tdate'].isna()].index,inplace=True)\n",
    "df = df[df['amount']>=500]\n",
    "\n",
    "df['plan_label'] = df.apply(lambda x: 1 if x.new_role_money/x.amount>=0.015 else 0,axis=1)\n",
    "df['ad_account_id'] = df['ad_account_id'].astype('int')\n",
    "df['image_id'] = df['image_id'].astype('int')\n",
    "df.rename(columns={'tdate':'create_date'},inplace=True)\n",
    "df['create_date'] = pd.to_datetime(df['create_date'])\n",
    "df['create_time'] = pd.to_datetime(df['create_time'])"
   ]
  },
  {
   "cell_type": "code",
   "execution_count": 292,
   "metadata": {},
   "outputs": [
    {
     "data": {
      "text/plain": [
       "(18911, 56)"
      ]
     },
     "execution_count": 292,
     "metadata": {},
     "output_type": "execute_result"
    }
   ],
   "source": [
    "df.shape"
   ]
  },
  {
   "cell_type": "code",
   "execution_count": 293,
   "metadata": {},
   "outputs": [],
   "source": [
    "df.drop(['channel_id','source_id','budget_mode','bid_amount', 'daily_budget','deep_conversion_behavior_spec', 'deep_conversion_worth_spec',\n",
    "         'deep_link_url', 'page_spec', 'promoted_object_id', 'promoted_object_type','automatic_site_enabled','link_page_type',\n",
    "         'profile_id', 'link_page_spec', 'adcreative_elements', 'amount','roi','pay_rate',\n",
    "         'new_role_money'],axis=1,inplace=True)"
   ]
  },
  {
   "cell_type": "code",
   "execution_count": 294,
   "metadata": {},
   "outputs": [],
   "source": [
    "plan_create_train = plan_create.drop(['adcreative_elements', 'automatic_site_enabled', 'bid_amount',\n",
    "                                       'budget_mode', 'daily_budget', 'deep_conversion_behavior_spec',\n",
    "                                       'deep_conversion_worth_spec', 'deep_link_url', 'link_page_spec',\n",
    "                                       'link_page_type', 'page_spec', 'profile_id', 'promoted_object_id',\n",
    "                                       'promoted_object_type'],axis=1)\n",
    "df['train_label'] = 1\n",
    "plan_create_train['train_label'] = 0\n",
    "plan_create_train['plan_label'] = -1"
   ]
  },
  {
   "cell_type": "code",
   "execution_count": 295,
   "metadata": {},
   "outputs": [
    {
     "data": {
      "text/plain": [
       "(18911, 37)"
      ]
     },
     "execution_count": 295,
     "metadata": {},
     "output_type": "execute_result"
    }
   ],
   "source": [
    "df.shape"
   ]
  },
  {
   "cell_type": "code",
   "execution_count": 296,
   "metadata": {},
   "outputs": [
    {
     "data": {
      "text/plain": [
       "(2880, 37)"
      ]
     },
     "execution_count": 296,
     "metadata": {},
     "output_type": "execute_result"
    }
   ],
   "source": [
    "plan_create_train.shape"
   ]
  },
  {
   "cell_type": "code",
   "execution_count": 297,
   "metadata": {},
   "outputs": [
    {
     "data": {
      "text/plain": [
       "1480    33201\n",
       "720     10777\n",
       "721      9969\n",
       "1064      456\n",
       "560       307\n",
       "1465      176\n",
       "589       107\n",
       "452        73\n",
       "618        28\n",
       "538         7\n",
       "957         4\n",
       "Name: adcreative_template_id, dtype: int64"
      ]
     },
     "execution_count": 297,
     "metadata": {},
     "output_type": "execute_result"
    }
   ],
   "source": [
    "plan_info['adcreative_template_id'].value_counts()"
   ]
  },
  {
   "cell_type": "code",
   "execution_count": 298,
   "metadata": {},
   "outputs": [
    {
     "data": {
      "text/plain": [
       "[SITE_SET_MOMENTS]                                                                                                  11809\n",
       "[SITE_SET_QQ_MUSIC_GAME, SITE_SET_KANDIAN, SITE_SET_TENCENT_NEWS, SITE_SET_TENCENT_VIDEO, SITE_SET_MOBILE_UNION]     3506\n",
       "[SITE_SET_QQ_MUSIC_GAME, SITE_SET_KANDIAN, SITE_SET_TENCENT_VIDEO, SITE_SET_MOBILE_UNION]                            2041\n",
       "[SITE_SET_QQ_MUSIC_GAME, SITE_SET_KANDIAN, SITE_SET_TENCENT_NEWS, SITE_SET_TENCENT_VIDEO]                             891\n",
       "[SITE_SET_QQ_MUSIC_GAME, SITE_SET_KANDIAN, SITE_SET_TENCENT_VIDEO]                                                    187\n",
       "[SITE_SET_WECHAT]                                                                                                     114\n",
       "[SITE_SET_QQ_MUSIC_GAME, SITE_SET_KANDIAN, SITE_SET_MOBILE_UNION]                                                      49\n",
       "[SITE_SET_TENCENT_NEWS, SITE_SET_TENCENT_VIDEO]                                                                        44\n",
       "[SITE_SET_QQ_MUSIC_GAME, SITE_SET_KANDIAN]                                                                             13\n",
       "[SITE_SET_MOBILE_UNION]                                                                                                13\n",
       "[SITE_SET_QQ_MUSIC_GAME]                                                                                                1\n",
       "Name: site_set, dtype: int64"
      ]
     },
     "execution_count": 298,
     "metadata": {},
     "output_type": "execute_result"
    }
   ],
   "source": [
    "df['site_set'].value_counts()"
   ]
  },
  {
   "cell_type": "code",
   "execution_count": null,
   "metadata": {},
   "outputs": [],
   "source": []
  },
  {
   "cell_type": "code",
   "execution_count": 299,
   "metadata": {},
   "outputs": [],
   "source": [
    "df = df.append(plan_create_train)"
   ]
  },
  {
   "cell_type": "code",
   "execution_count": 300,
   "metadata": {},
   "outputs": [],
   "source": [
    "df['create_date'] = pd.to_datetime(df['create_date'])\n",
    "df['ad_im_sort_id'] = df.groupby(['ad_account_id','image_id'])['create_time'].rank()\n",
    "df['ad_game_sort_id'] = df.groupby(['ad_account_id','game_id'])['create_time'].rank()\n",
    "df['im_ad_sort_id'] = df.groupby(['image_id','ad_account_id'])['create_time'].rank()\n"
   ]
  },
  {
   "cell_type": "code",
   "execution_count": 301,
   "metadata": {
    "scrolled": true
   },
   "outputs": [
    {
     "data": {
      "text/plain": [
       "DOWNLOAD_GAME    7578\n",
       "DOWNLOAD_APP     6306\n",
       "MORE_INFO         163\n",
       "PLAY_NOW           13\n",
       "DOWNLOAD_NOW        4\n",
       "Name: link_name_type, dtype: int64"
      ]
     },
     "execution_count": 301,
     "metadata": {},
     "output_type": "execute_result"
    }
   ],
   "source": [
    "df['link_name_type'].value_counts()"
   ]
  },
  {
   "cell_type": "code",
   "execution_count": 302,
   "metadata": {},
   "outputs": [],
   "source": [
    "# 对列表内容进行编码降维\n",
    "def get_mutil_feature(data):\n",
    "    cols = ['behavior_category_id_list','behavior_intensity','behavior_keyword_list',\n",
    "           'intention_targeting_tags','interest_category_id_list','interest_keyword_list']\n",
    "    for col in cols:\n",
    "        \n",
    "        data[col] = data[col].apply(lambda x:x if x==x else [])\n",
    "        data = data.join(data[col].str.join('|').str.get_dummies().add_prefix(col+'_').reset_index(drop=True))\n",
    "        data.drop(col,axis=1,inplace=True)\n",
    "\n",
    "#         else:\n",
    "#             data[col] = data[col].apply(lambda x:x if x==x else [])\n",
    "#             data[col]=data[col].apply(lambda x:[str(i) for i in x])\n",
    "#             data[col] = data[col].astype(str)\n",
    "#             le = LabelEncoder()\n",
    "#             data[col] = le.fit_transform(data[col])\n",
    "    \n",
    "    gc.collect()\n",
    "    return data"
   ]
  },
  {
   "cell_type": "code",
   "execution_count": 303,
   "metadata": {},
   "outputs": [],
   "source": [
    "df = get_mutil_feature(df)"
   ]
  },
  {
   "cell_type": "code",
   "execution_count": 304,
   "metadata": {},
   "outputs": [],
   "source": [
    "cat_cols = ['ad_account_id','game_id','optimization_goal','time_series','bid_strategy','expand_enabled','expand_targeting',\n",
    "            'device_price','app_install_status','gender','game_consumption_level','age','network_type','deep_conversion_type',\n",
    "           'behavior_scene','behavior_time_window','conversion_behavior_list','excluded_dimension','location_types','regions',\n",
    "           'image_id','adcreative_template_id','page_type','site_set','label','link_name_type','label_ids']"
   ]
  },
  {
   "cell_type": "code",
   "execution_count": 305,
   "metadata": {},
   "outputs": [
    {
     "data": {
      "application/vnd.jupyter.widget-view+json": {
       "model_id": "cade077687604de382f8bcea23e9188b",
       "version_major": 2,
       "version_minor": 0
      },
      "text/plain": [
       "HBox(children=(FloatProgress(value=1.0, bar_style='info', max=1.0), HTML(value='')))"
      ]
     },
     "metadata": {},
     "output_type": "display_data"
    },
    {
     "name": "stdout",
     "output_type": "stream",
     "text": [
      "\n"
     ]
    }
   ],
   "source": [
    "from itertools import combinations\n",
    "from tqdm import tqdm_notebook\n",
    "cat_cross=[]\n",
    "for col in tqdm_notebook(combinations(cat_cols,2)):\n",
    "    df[str(col[0]) + '_'+str(col[1])] = df[col[0]].map(str)+'_'+df[col[1]].map(str)\n",
    "    cat_cross.append(str(col[0]) + '_'+str(col[1]))\n",
    "\n",
    "for col in cat_cols+cat_cross:\n",
    "    df[col] = df[col].astype(str)\n",
    "    le = LabelEncoder()\n",
    "    df[col] = le.fit_transform(df[col])"
   ]
  },
  {
   "cell_type": "code",
   "execution_count": 306,
   "metadata": {},
   "outputs": [],
   "source": [
    "train_data = df[df['train_label']==1]\n",
    "test_data = df[df['train_label']==0]\n",
    "train_data.drop(['train_label','create_time','create_date'],axis=1,inplace=True)\n",
    "test_data.drop(['train_label','create_time','create_date'],axis=1,inplace=True)"
   ]
  },
  {
   "cell_type": "code",
   "execution_count": 307,
   "metadata": {},
   "outputs": [],
   "source": [
    "# train_data, test_data = train_test_split(df, test_size=0.25)\n",
    "target = train_data['plan_label']\n",
    "features = train_data.drop(['plan_label'], axis=1)\n",
    "features.columns = ['c'+str(i) for i in range(features.shape[1])]\n",
    "X_val, x_test, Y_val, y_test = train_test_split(features,target, test_size=0.3)"
   ]
  },
  {
   "cell_type": "code",
   "execution_count": 308,
   "metadata": {
    "scrolled": true
   },
   "outputs": [
    {
     "name": "stdout",
     "output_type": "stream",
     "text": [
      "[1]\ttraining's auc: 0.620249\tvalid_1's auc: 0.521779\n",
      "Training until validation scores don't improve for 100 rounds\n",
      "[2]\ttraining's auc: 0.642548\tvalid_1's auc: 0.532928\n",
      "[3]\ttraining's auc: 0.653006\tvalid_1's auc: 0.540872\n",
      "[4]\ttraining's auc: 0.661558\tvalid_1's auc: 0.538406\n",
      "[5]\ttraining's auc: 0.664744\tvalid_1's auc: 0.537142\n",
      "[6]\ttraining's auc: 0.669647\tvalid_1's auc: 0.536191\n",
      "[7]\ttraining's auc: 0.671082\tvalid_1's auc: 0.535077\n",
      "[8]\ttraining's auc: 0.672837\tvalid_1's auc: 0.534718\n",
      "[9]\ttraining's auc: 0.672947\tvalid_1's auc: 0.535137\n",
      "[10]\ttraining's auc: 0.677217\tvalid_1's auc: 0.535548\n",
      "[11]\ttraining's auc: 0.68042\tvalid_1's auc: 0.53749\n",
      "[12]\ttraining's auc: 0.680471\tvalid_1's auc: 0.537589\n",
      "[13]\ttraining's auc: 0.680964\tvalid_1's auc: 0.538484\n",
      "[14]\ttraining's auc: 0.681831\tvalid_1's auc: 0.53809\n",
      "[15]\ttraining's auc: 0.681749\tvalid_1's auc: 0.538002\n",
      "[16]\ttraining's auc: 0.682651\tvalid_1's auc: 0.53849\n",
      "[17]\ttraining's auc: 0.683095\tvalid_1's auc: 0.538342\n",
      "[18]\ttraining's auc: 0.684347\tvalid_1's auc: 0.538998\n",
      "[19]\ttraining's auc: 0.684875\tvalid_1's auc: 0.538928\n",
      "[20]\ttraining's auc: 0.685434\tvalid_1's auc: 0.538059\n",
      "[21]\ttraining's auc: 0.687309\tvalid_1's auc: 0.538966\n",
      "[22]\ttraining's auc: 0.688981\tvalid_1's auc: 0.53903\n",
      "[23]\ttraining's auc: 0.691223\tvalid_1's auc: 0.539074\n",
      "[24]\ttraining's auc: 0.692483\tvalid_1's auc: 0.539931\n",
      "[25]\ttraining's auc: 0.694097\tvalid_1's auc: 0.540397\n",
      "[26]\ttraining's auc: 0.696198\tvalid_1's auc: 0.540595\n",
      "[27]\ttraining's auc: 0.69701\tvalid_1's auc: 0.54082\n",
      "[28]\ttraining's auc: 0.698209\tvalid_1's auc: 0.541516\n",
      "[29]\ttraining's auc: 0.698553\tvalid_1's auc: 0.541635\n",
      "[30]\ttraining's auc: 0.699462\tvalid_1's auc: 0.541592\n",
      "[31]\ttraining's auc: 0.700549\tvalid_1's auc: 0.542495\n",
      "[32]\ttraining's auc: 0.701517\tvalid_1's auc: 0.542726\n",
      "[33]\ttraining's auc: 0.702738\tvalid_1's auc: 0.542494\n",
      "[34]\ttraining's auc: 0.703016\tvalid_1's auc: 0.542449\n",
      "[35]\ttraining's auc: 0.70316\tvalid_1's auc: 0.5425\n",
      "[36]\ttraining's auc: 0.703316\tvalid_1's auc: 0.543108\n",
      "[37]\ttraining's auc: 0.703723\tvalid_1's auc: 0.543292\n",
      "[38]\ttraining's auc: 0.70378\tvalid_1's auc: 0.542895\n",
      "[39]\ttraining's auc: 0.704\tvalid_1's auc: 0.543026\n",
      "[40]\ttraining's auc: 0.704503\tvalid_1's auc: 0.543409\n",
      "[41]\ttraining's auc: 0.706711\tvalid_1's auc: 0.544598\n",
      "[42]\ttraining's auc: 0.708732\tvalid_1's auc: 0.545298\n",
      "[43]\ttraining's auc: 0.710341\tvalid_1's auc: 0.545984\n",
      "[44]\ttraining's auc: 0.71137\tvalid_1's auc: 0.546666\n",
      "[45]\ttraining's auc: 0.712477\tvalid_1's auc: 0.547522\n",
      "[46]\ttraining's auc: 0.714254\tvalid_1's auc: 0.54786\n",
      "[47]\ttraining's auc: 0.714938\tvalid_1's auc: 0.548355\n",
      "[48]\ttraining's auc: 0.716923\tvalid_1's auc: 0.549094\n",
      "[49]\ttraining's auc: 0.718378\tvalid_1's auc: 0.550185\n",
      "[50]\ttraining's auc: 0.719332\tvalid_1's auc: 0.55011\n",
      "[51]\ttraining's auc: 0.720344\tvalid_1's auc: 0.551271\n",
      "[52]\ttraining's auc: 0.720785\tvalid_1's auc: 0.551486\n",
      "[53]\ttraining's auc: 0.721734\tvalid_1's auc: 0.551765\n",
      "[54]\ttraining's auc: 0.722803\tvalid_1's auc: 0.551876\n",
      "[55]\ttraining's auc: 0.723934\tvalid_1's auc: 0.55192\n",
      "[56]\ttraining's auc: 0.725156\tvalid_1's auc: 0.552158\n",
      "[57]\ttraining's auc: 0.725537\tvalid_1's auc: 0.551702\n",
      "[58]\ttraining's auc: 0.726057\tvalid_1's auc: 0.552409\n",
      "[59]\ttraining's auc: 0.726899\tvalid_1's auc: 0.552907\n",
      "[60]\ttraining's auc: 0.726816\tvalid_1's auc: 0.553096\n",
      "[61]\ttraining's auc: 0.72723\tvalid_1's auc: 0.553205\n",
      "[62]\ttraining's auc: 0.728065\tvalid_1's auc: 0.553094\n",
      "[63]\ttraining's auc: 0.728749\tvalid_1's auc: 0.553057\n",
      "[64]\ttraining's auc: 0.72957\tvalid_1's auc: 0.553071\n",
      "[65]\ttraining's auc: 0.730235\tvalid_1's auc: 0.553081\n",
      "[66]\ttraining's auc: 0.730564\tvalid_1's auc: 0.553463\n",
      "[67]\ttraining's auc: 0.730406\tvalid_1's auc: 0.553234\n",
      "[68]\ttraining's auc: 0.730609\tvalid_1's auc: 0.553019\n",
      "[69]\ttraining's auc: 0.731012\tvalid_1's auc: 0.553361\n",
      "[70]\ttraining's auc: 0.730806\tvalid_1's auc: 0.552977\n",
      "[71]\ttraining's auc: 0.730988\tvalid_1's auc: 0.552798\n",
      "[72]\ttraining's auc: 0.731195\tvalid_1's auc: 0.553019\n",
      "[73]\ttraining's auc: 0.731978\tvalid_1's auc: 0.553271\n",
      "[74]\ttraining's auc: 0.732075\tvalid_1's auc: 0.553618\n",
      "[75]\ttraining's auc: 0.732413\tvalid_1's auc: 0.553666\n",
      "[76]\ttraining's auc: 0.732373\tvalid_1's auc: 0.55352\n",
      "[77]\ttraining's auc: 0.732134\tvalid_1's auc: 0.553651\n",
      "[78]\ttraining's auc: 0.732137\tvalid_1's auc: 0.5536\n",
      "[79]\ttraining's auc: 0.731932\tvalid_1's auc: 0.553828\n",
      "[80]\ttraining's auc: 0.731892\tvalid_1's auc: 0.553978\n",
      "[81]\ttraining's auc: 0.732685\tvalid_1's auc: 0.55386\n",
      "[82]\ttraining's auc: 0.733131\tvalid_1's auc: 0.553716\n",
      "[83]\ttraining's auc: 0.733453\tvalid_1's auc: 0.553312\n",
      "[84]\ttraining's auc: 0.734384\tvalid_1's auc: 0.553276\n",
      "[85]\ttraining's auc: 0.735173\tvalid_1's auc: 0.55361\n",
      "[86]\ttraining's auc: 0.73522\tvalid_1's auc: 0.553833\n",
      "[87]\ttraining's auc: 0.735233\tvalid_1's auc: 0.553749\n",
      "[88]\ttraining's auc: 0.735631\tvalid_1's auc: 0.553886\n",
      "[89]\ttraining's auc: 0.735636\tvalid_1's auc: 0.553683\n",
      "[90]\ttraining's auc: 0.736094\tvalid_1's auc: 0.553409\n",
      "[91]\ttraining's auc: 0.736412\tvalid_1's auc: 0.553387\n",
      "[92]\ttraining's auc: 0.73643\tvalid_1's auc: 0.553324\n",
      "[93]\ttraining's auc: 0.737731\tvalid_1's auc: 0.553525\n",
      "[94]\ttraining's auc: 0.73949\tvalid_1's auc: 0.553519\n",
      "[95]\ttraining's auc: 0.739549\tvalid_1's auc: 0.553448\n",
      "[96]\ttraining's auc: 0.739856\tvalid_1's auc: 0.55338\n",
      "[97]\ttraining's auc: 0.740093\tvalid_1's auc: 0.55337\n",
      "[98]\ttraining's auc: 0.7401\tvalid_1's auc: 0.553266\n",
      "[99]\ttraining's auc: 0.740151\tvalid_1's auc: 0.553109\n",
      "[100]\ttraining's auc: 0.740135\tvalid_1's auc: 0.553275\n",
      "[101]\ttraining's auc: 0.740613\tvalid_1's auc: 0.553502\n",
      "[102]\ttraining's auc: 0.740795\tvalid_1's auc: 0.553653\n",
      "[103]\ttraining's auc: 0.741126\tvalid_1's auc: 0.554035\n",
      "[104]\ttraining's auc: 0.741406\tvalid_1's auc: 0.553894\n",
      "[105]\ttraining's auc: 0.741621\tvalid_1's auc: 0.554406\n",
      "[106]\ttraining's auc: 0.741877\tvalid_1's auc: 0.554722\n",
      "[107]\ttraining's auc: 0.74212\tvalid_1's auc: 0.554866\n",
      "[108]\ttraining's auc: 0.742499\tvalid_1's auc: 0.554741\n",
      "[109]\ttraining's auc: 0.742765\tvalid_1's auc: 0.555229\n",
      "[110]\ttraining's auc: 0.743137\tvalid_1's auc: 0.555346\n",
      "[111]\ttraining's auc: 0.743373\tvalid_1's auc: 0.555552\n",
      "[112]\ttraining's auc: 0.743543\tvalid_1's auc: 0.555716\n",
      "[113]\ttraining's auc: 0.743773\tvalid_1's auc: 0.556\n",
      "[114]\ttraining's auc: 0.744018\tvalid_1's auc: 0.556291\n",
      "[115]\ttraining's auc: 0.744127\tvalid_1's auc: 0.556431\n",
      "[116]\ttraining's auc: 0.744518\tvalid_1's auc: 0.556235\n",
      "[117]\ttraining's auc: 0.744735\tvalid_1's auc: 0.555985\n",
      "[118]\ttraining's auc: 0.745179\tvalid_1's auc: 0.556189\n",
      "[119]\ttraining's auc: 0.744933\tvalid_1's auc: 0.556286\n",
      "[120]\ttraining's auc: 0.745298\tvalid_1's auc: 0.556338\n",
      "[121]\ttraining's auc: 0.74588\tvalid_1's auc: 0.556695\n",
      "[122]\ttraining's auc: 0.746007\tvalid_1's auc: 0.556735\n",
      "[123]\ttraining's auc: 0.746424\tvalid_1's auc: 0.556752\n",
      "[124]\ttraining's auc: 0.747098\tvalid_1's auc: 0.557084\n",
      "[125]\ttraining's auc: 0.747284\tvalid_1's auc: 0.556967\n",
      "[126]\ttraining's auc: 0.747387\tvalid_1's auc: 0.557138\n",
      "[127]\ttraining's auc: 0.747448\tvalid_1's auc: 0.557101\n",
      "[128]\ttraining's auc: 0.747685\tvalid_1's auc: 0.557054\n",
      "[129]\ttraining's auc: 0.747916\tvalid_1's auc: 0.557335\n",
      "[130]\ttraining's auc: 0.748022\tvalid_1's auc: 0.557439\n",
      "[131]\ttraining's auc: 0.748351\tvalid_1's auc: 0.55763\n",
      "[132]\ttraining's auc: 0.748573\tvalid_1's auc: 0.557703\n",
      "[133]\ttraining's auc: 0.748697\tvalid_1's auc: 0.557629\n",
      "[134]\ttraining's auc: 0.748713\tvalid_1's auc: 0.557686\n",
      "[135]\ttraining's auc: 0.74889\tvalid_1's auc: 0.557734\n",
      "[136]\ttraining's auc: 0.74909\tvalid_1's auc: 0.558107\n",
      "[137]\ttraining's auc: 0.749416\tvalid_1's auc: 0.558134\n",
      "[138]\ttraining's auc: 0.749518\tvalid_1's auc: 0.558254\n",
      "[139]\ttraining's auc: 0.749753\tvalid_1's auc: 0.558525\n",
      "[140]\ttraining's auc: 0.749965\tvalid_1's auc: 0.558738\n",
      "[141]\ttraining's auc: 0.75026\tvalid_1's auc: 0.558849\n",
      "[142]\ttraining's auc: 0.75063\tvalid_1's auc: 0.558787\n",
      "[143]\ttraining's auc: 0.751315\tvalid_1's auc: 0.558974\n",
      "[144]\ttraining's auc: 0.751992\tvalid_1's auc: 0.55892\n",
      "[145]\ttraining's auc: 0.752267\tvalid_1's auc: 0.558789\n",
      "[146]\ttraining's auc: 0.752391\tvalid_1's auc: 0.558842\n",
      "[147]\ttraining's auc: 0.752442\tvalid_1's auc: 0.558789\n",
      "[148]\ttraining's auc: 0.75293\tvalid_1's auc: 0.558891\n",
      "[149]\ttraining's auc: 0.753286\tvalid_1's auc: 0.55894\n",
      "[150]\ttraining's auc: 0.754001\tvalid_1's auc: 0.558927\n",
      "[151]\ttraining's auc: 0.753923\tvalid_1's auc: 0.558956\n",
      "[152]\ttraining's auc: 0.754038\tvalid_1's auc: 0.558811\n",
      "[153]\ttraining's auc: 0.754057\tvalid_1's auc: 0.558696\n",
      "[154]\ttraining's auc: 0.754158\tvalid_1's auc: 0.558772\n"
     ]
    },
    {
     "name": "stdout",
     "output_type": "stream",
     "text": [
      "[155]\ttraining's auc: 0.754345\tvalid_1's auc: 0.558628\n",
      "[156]\ttraining's auc: 0.754565\tvalid_1's auc: 0.558671\n",
      "[157]\ttraining's auc: 0.754574\tvalid_1's auc: 0.558778\n",
      "[158]\ttraining's auc: 0.755034\tvalid_1's auc: 0.558622\n",
      "[159]\ttraining's auc: 0.755315\tvalid_1's auc: 0.558681\n",
      "[160]\ttraining's auc: 0.755567\tvalid_1's auc: 0.558443\n",
      "[161]\ttraining's auc: 0.755617\tvalid_1's auc: 0.558485\n",
      "[162]\ttraining's auc: 0.755828\tvalid_1's auc: 0.558384\n",
      "[163]\ttraining's auc: 0.755797\tvalid_1's auc: 0.558388\n",
      "[164]\ttraining's auc: 0.755916\tvalid_1's auc: 0.558143\n",
      "[165]\ttraining's auc: 0.756021\tvalid_1's auc: 0.55817\n",
      "[166]\ttraining's auc: 0.756365\tvalid_1's auc: 0.558156\n",
      "[167]\ttraining's auc: 0.756724\tvalid_1's auc: 0.558313\n",
      "[168]\ttraining's auc: 0.756875\tvalid_1's auc: 0.558255\n",
      "[169]\ttraining's auc: 0.757091\tvalid_1's auc: 0.558365\n",
      "[170]\ttraining's auc: 0.757151\tvalid_1's auc: 0.558176\n",
      "[171]\ttraining's auc: 0.757372\tvalid_1's auc: 0.558204\n",
      "[172]\ttraining's auc: 0.75755\tvalid_1's auc: 0.558352\n",
      "[173]\ttraining's auc: 0.7578\tvalid_1's auc: 0.558351\n",
      "[174]\ttraining's auc: 0.758003\tvalid_1's auc: 0.558403\n",
      "[175]\ttraining's auc: 0.758229\tvalid_1's auc: 0.558475\n",
      "[176]\ttraining's auc: 0.7582\tvalid_1's auc: 0.558378\n",
      "[177]\ttraining's auc: 0.758359\tvalid_1's auc: 0.558465\n",
      "[178]\ttraining's auc: 0.758353\tvalid_1's auc: 0.558394\n",
      "[179]\ttraining's auc: 0.758539\tvalid_1's auc: 0.558465\n",
      "[180]\ttraining's auc: 0.758707\tvalid_1's auc: 0.55837\n",
      "[181]\ttraining's auc: 0.758997\tvalid_1's auc: 0.558413\n",
      "[182]\ttraining's auc: 0.759221\tvalid_1's auc: 0.558335\n",
      "[183]\ttraining's auc: 0.759472\tvalid_1's auc: 0.558245\n",
      "[184]\ttraining's auc: 0.759638\tvalid_1's auc: 0.558233\n",
      "[185]\ttraining's auc: 0.760046\tvalid_1's auc: 0.558144\n",
      "[186]\ttraining's auc: 0.760426\tvalid_1's auc: 0.557991\n",
      "[187]\ttraining's auc: 0.760597\tvalid_1's auc: 0.557986\n",
      "[188]\ttraining's auc: 0.760998\tvalid_1's auc: 0.557841\n",
      "[189]\ttraining's auc: 0.761425\tvalid_1's auc: 0.557627\n",
      "[190]\ttraining's auc: 0.761478\tvalid_1's auc: 0.557587\n",
      "[191]\ttraining's auc: 0.761684\tvalid_1's auc: 0.557362\n",
      "[192]\ttraining's auc: 0.761905\tvalid_1's auc: 0.557301\n",
      "[193]\ttraining's auc: 0.762004\tvalid_1's auc: 0.557435\n",
      "[194]\ttraining's auc: 0.762225\tvalid_1's auc: 0.557596\n",
      "[195]\ttraining's auc: 0.762387\tvalid_1's auc: 0.557595\n",
      "[196]\ttraining's auc: 0.762478\tvalid_1's auc: 0.557657\n",
      "[197]\ttraining's auc: 0.762558\tvalid_1's auc: 0.557502\n",
      "[198]\ttraining's auc: 0.762726\tvalid_1's auc: 0.557438\n",
      "[199]\ttraining's auc: 0.762777\tvalid_1's auc: 0.557345\n",
      "[200]\ttraining's auc: 0.76282\tvalid_1's auc: 0.557399\n",
      "[201]\ttraining's auc: 0.762905\tvalid_1's auc: 0.557655\n",
      "[202]\ttraining's auc: 0.763338\tvalid_1's auc: 0.557594\n",
      "[203]\ttraining's auc: 0.763403\tvalid_1's auc: 0.5576\n",
      "[204]\ttraining's auc: 0.763514\tvalid_1's auc: 0.557723\n",
      "[205]\ttraining's auc: 0.763803\tvalid_1's auc: 0.557834\n",
      "[206]\ttraining's auc: 0.764041\tvalid_1's auc: 0.557802\n",
      "[207]\ttraining's auc: 0.764136\tvalid_1's auc: 0.557728\n",
      "[208]\ttraining's auc: 0.76411\tvalid_1's auc: 0.557863\n",
      "[209]\ttraining's auc: 0.764177\tvalid_1's auc: 0.558019\n",
      "[210]\ttraining's auc: 0.764308\tvalid_1's auc: 0.557879\n",
      "[211]\ttraining's auc: 0.764327\tvalid_1's auc: 0.557772\n",
      "[212]\ttraining's auc: 0.764343\tvalid_1's auc: 0.557702\n",
      "[213]\ttraining's auc: 0.764527\tvalid_1's auc: 0.557845\n",
      "[214]\ttraining's auc: 0.764458\tvalid_1's auc: 0.557628\n",
      "[215]\ttraining's auc: 0.764489\tvalid_1's auc: 0.557534\n",
      "[216]\ttraining's auc: 0.76461\tvalid_1's auc: 0.557765\n",
      "[217]\ttraining's auc: 0.764883\tvalid_1's auc: 0.557485\n",
      "[218]\ttraining's auc: 0.765258\tvalid_1's auc: 0.557337\n",
      "[219]\ttraining's auc: 0.765337\tvalid_1's auc: 0.557338\n",
      "[220]\ttraining's auc: 0.765433\tvalid_1's auc: 0.557548\n",
      "[221]\ttraining's auc: 0.765872\tvalid_1's auc: 0.557583\n",
      "[222]\ttraining's auc: 0.765995\tvalid_1's auc: 0.557522\n",
      "[223]\ttraining's auc: 0.766407\tvalid_1's auc: 0.557587\n",
      "[224]\ttraining's auc: 0.766652\tvalid_1's auc: 0.557459\n",
      "[225]\ttraining's auc: 0.766895\tvalid_1's auc: 0.557489\n",
      "[226]\ttraining's auc: 0.767546\tvalid_1's auc: 0.557516\n",
      "[227]\ttraining's auc: 0.767851\tvalid_1's auc: 0.55761\n",
      "[228]\ttraining's auc: 0.768394\tvalid_1's auc: 0.557657\n",
      "[229]\ttraining's auc: 0.768616\tvalid_1's auc: 0.557661\n",
      "[230]\ttraining's auc: 0.769163\tvalid_1's auc: 0.557467\n",
      "[231]\ttraining's auc: 0.769519\tvalid_1's auc: 0.557519\n",
      "[232]\ttraining's auc: 0.769597\tvalid_1's auc: 0.557432\n",
      "[233]\ttraining's auc: 0.770166\tvalid_1's auc: 0.557478\n",
      "[234]\ttraining's auc: 0.770626\tvalid_1's auc: 0.557462\n",
      "[235]\ttraining's auc: 0.77095\tvalid_1's auc: 0.557173\n",
      "[236]\ttraining's auc: 0.770969\tvalid_1's auc: 0.557201\n",
      "[237]\ttraining's auc: 0.771072\tvalid_1's auc: 0.557023\n",
      "[238]\ttraining's auc: 0.771335\tvalid_1's auc: 0.556917\n",
      "[239]\ttraining's auc: 0.771585\tvalid_1's auc: 0.556906\n",
      "[240]\ttraining's auc: 0.771994\tvalid_1's auc: 0.55693\n",
      "[241]\ttraining's auc: 0.772414\tvalid_1's auc: 0.55683\n",
      "[242]\ttraining's auc: 0.772754\tvalid_1's auc: 0.556884\n",
      "[243]\ttraining's auc: 0.772972\tvalid_1's auc: 0.557074\n",
      "Early stopping, best iteration is:\n",
      "[143]\ttraining's auc: 0.751315\tvalid_1's auc: 0.558974\n"
     ]
    }
   ],
   "source": [
    "params = {\n",
    "\"objective\": \"binary\",\n",
    "\"boosting_type\": \"gbdt\",\n",
    "\"learning_rate\": 0.01,\n",
    "\"max_depth\":8,\n",
    "\"num_leaves\":55,\n",
    "\"max_bin\":255,\n",
    "\"min_data_in_leaf\":101,\n",
    "\"min_child_samples\":15,\n",
    "\"feature_fraction\": 0.5,\n",
    "\"bagging_fraction\":0.6,\n",
    "\"bagging_freq\":20,\n",
    "\"lambda_l1\":1e-05,\n",
    "\"lambda_l2\":0,\n",
    "\"min_split_gain\": 0.0,\n",
    "\"metric\": \"auc\",\n",
    "'is_unbalance':True    \n",
    "}\n",
    "\n",
    "train_data = lgb.Dataset(X_val, label=Y_val)\n",
    "val_data = lgb.Dataset(x_test, label=y_test, reference=train_data)\n",
    "model = lgb.train(params, train_data, num_boost_round=8000, early_stopping_rounds=100, valid_sets=[train_data, val_data])"
   ]
  },
  {
   "cell_type": "code",
   "execution_count": 309,
   "metadata": {},
   "outputs": [],
   "source": [
    "features_test = test_data.drop(['label'], axis=1)\n",
    "y_predict = model.predict(features_test)\n",
    "plan_create['prob'] = y_predict"
   ]
  },
  {
   "cell_type": "code",
   "execution_count": 310,
   "metadata": {},
   "outputs": [
    {
     "data": {
      "text/plain": [
       "[SITE_SET_MOMENTS]                                                                                                  2160\n",
       "[SITE_SET_QQ_MUSIC_GAME, SITE_SET_KANDIAN, SITE_SET_TENCENT_NEWS, SITE_SET_TENCENT_VIDEO, SITE_SET_MOBILE_UNION]     720\n",
       "Name: site_set, dtype: int64"
      ]
     },
     "execution_count": 310,
     "metadata": {},
     "output_type": "execute_result"
    }
   ],
   "source": [
    "plan_create['site_set'].value_counts()"
   ]
  },
  {
   "cell_type": "code",
   "execution_count": 311,
   "metadata": {},
   "outputs": [],
   "source": [
    "# threshold = pd.Series(y_predict).sort_values(ascending=False).reset_index(drop=True)[int(y_predict.shape[0] * 0.99)]"
   ]
  },
  {
   "cell_type": "code",
   "execution_count": 312,
   "metadata": {},
   "outputs": [],
   "source": [
    "threshold = pd.Series(y_predict).sort_values(ascending=False).reset_index(drop=True)[int(y_predict.shape[0] * 0.3)]"
   ]
  },
  {
   "cell_type": "code",
   "execution_count": 313,
   "metadata": {},
   "outputs": [
    {
     "data": {
      "text/plain": [
       "4"
      ]
     },
     "execution_count": 313,
     "metadata": {},
     "output_type": "execute_result"
    }
   ],
   "source": [
    "plan_create['image_id'].nunique()"
   ]
  },
  {
   "cell_type": "code",
   "execution_count": 314,
   "metadata": {},
   "outputs": [
    {
     "data": {
      "text/plain": [
       "(2880, 50)"
      ]
     },
     "execution_count": 314,
     "metadata": {},
     "output_type": "execute_result"
    }
   ],
   "source": [
    "plan_create.shape"
   ]
  },
  {
   "cell_type": "code",
   "execution_count": 315,
   "metadata": {},
   "outputs": [],
   "source": [
    "# plan_result = plan_create"
   ]
  },
  {
   "cell_type": "code",
   "execution_count": 316,
   "metadata": {},
   "outputs": [],
   "source": [
    "plan_result = plan_create[plan_create['prob'] >= threshold]"
   ]
  },
  {
   "cell_type": "code",
   "execution_count": 317,
   "metadata": {},
   "outputs": [
    {
     "data": {
      "text/plain": [
       "4"
      ]
     },
     "execution_count": 317,
     "metadata": {},
     "output_type": "execute_result"
    }
   ],
   "source": [
    "plan_result['image_id'].nunique()"
   ]
  },
  {
   "cell_type": "code",
   "execution_count": 318,
   "metadata": {},
   "outputs": [
    {
     "data": {
      "text/plain": [
       "72"
      ]
     },
     "execution_count": 318,
     "metadata": {},
     "output_type": "execute_result"
    }
   ],
   "source": [
    "plan_result['ad_account_id'].nunique()"
   ]
  },
  {
   "cell_type": "code",
   "execution_count": 319,
   "metadata": {},
   "outputs": [],
   "source": [
    "\n",
    "plan_result['rank_ad_im'] = plan_result.groupby(['ad_account_id', 'image_id'])['prob'].rank(ascending=False, method='first')\n",
    "plan_result = plan_result[plan_result['rank_ad_im'] <= 1]\n",
    "plan_create['rank_ad_im'] = plan_create.groupby(['ad_account_id', 'image_id'])['prob'].rank(ascending=False, method='first')\n",
    "plan_result_pr = plan_create[plan_create['rank_ad_im'] <= 1]"
   ]
  },
  {
   "cell_type": "code",
   "execution_count": 320,
   "metadata": {},
   "outputs": [],
   "source": [
    "ad_num = plan_result['ad_account_id'].value_counts()\n",
    "for ad in np.setdiff1d(plan_create['ad_account_id'].values, ad_num[ad_num > 2].index):\n",
    "    add_plan = plan_result_pr[plan_result_pr['ad_account_id'] == ad].sort_values('prob', ascending=False)[0:2]\n",
    "    plan_result = plan_result.append(add_plan)"
   ]
  },
  {
   "cell_type": "code",
   "execution_count": 321,
   "metadata": {},
   "outputs": [
    {
     "data": {
      "text/plain": [
       "(253, 51)"
      ]
     },
     "execution_count": 321,
     "metadata": {},
     "output_type": "execute_result"
    }
   ],
   "source": [
    "plan_result.shape"
   ]
  },
  {
   "cell_type": "code",
   "execution_count": 322,
   "metadata": {},
   "outputs": [],
   "source": [
    "ad_num = plan_result['image_id'].value_counts()\n",
    "for ad in np.setdiff1d(plan_create['image_id'].values, ad_num[ad_num >= 1].index):\n",
    "    add_plan = plan_result_pr[plan_result_pr['image_id'] == ad].sort_values('prob', ascending=False)[0:2]\n",
    "    plan_result = plan_result.append(add_plan)"
   ]
  },
  {
   "cell_type": "code",
   "execution_count": 323,
   "metadata": {},
   "outputs": [
    {
     "data": {
      "text/plain": [
       "(253, 51)"
      ]
     },
     "execution_count": 323,
     "metadata": {},
     "output_type": "execute_result"
    }
   ],
   "source": [
    "plan_result.shape"
   ]
  },
  {
   "cell_type": "code",
   "execution_count": 324,
   "metadata": {},
   "outputs": [
    {
     "data": {
      "text/plain": [
       "4"
      ]
     },
     "execution_count": 324,
     "metadata": {},
     "output_type": "execute_result"
    }
   ],
   "source": [
    "plan_result['image_id'].nunique()"
   ]
  },
  {
   "cell_type": "code",
   "execution_count": 325,
   "metadata": {},
   "outputs": [],
   "source": [
    "plan_result['weight'] = plan_result.groupby(['ad_account_id'])['game_id'].transform('count')\n",
    "plan_result['site_set'] = plan_result['site_set'].map(str)\n",
    "if plan_result.shape[0] > 40:\n",
    "    plan_result = plan_result.sample(40, weights=plan_result['weight'])"
   ]
  },
  {
   "cell_type": "code",
   "execution_count": 326,
   "metadata": {},
   "outputs": [
    {
     "data": {
      "text/plain": [
       "(40, 52)"
      ]
     },
     "execution_count": 326,
     "metadata": {},
     "output_type": "execute_result"
    }
   ],
   "source": [
    "plan_result.shape"
   ]
  },
  {
   "cell_type": "code",
   "execution_count": 327,
   "metadata": {},
   "outputs": [],
   "source": [
    "ad_num = plan_result['image_id'].value_counts()\n",
    "for ad in np.setdiff1d(plan_create['image_id'].values, ad_num[ad_num >= 2].index):\n",
    "    add_plan = plan_result_pr[plan_result_pr['image_id'] == ad].sort_values('prob', ascending=False)[0:2]\n",
    "    add_plan['site_set'] = add_plan['site_set'].map(str)\n",
    "    plan_result = plan_result.append(add_plan)"
   ]
  },
  {
   "cell_type": "code",
   "execution_count": 328,
   "metadata": {},
   "outputs": [
    {
     "data": {
      "text/plain": [
       "['SITE_SET_MOMENTS']                                                                                                          26\n",
       "['SITE_SET_QQ_MUSIC_GAME', 'SITE_SET_KANDIAN', 'SITE_SET_TENCENT_NEWS', 'SITE_SET_TENCENT_VIDEO', 'SITE_SET_MOBILE_UNION']    14\n",
       "Name: site_set, dtype: int64"
      ]
     },
     "execution_count": 328,
     "metadata": {},
     "output_type": "execute_result"
    }
   ],
   "source": [
    "plan_result['site_set'].value_counts()"
   ]
  },
  {
   "cell_type": "code",
   "execution_count": 329,
   "metadata": {},
   "outputs": [
    {
     "data": {
      "text/plain": [
       "(40, 52)"
      ]
     },
     "execution_count": 329,
     "metadata": {},
     "output_type": "execute_result"
    }
   ],
   "source": [
    "plan_result.shape"
   ]
  },
  {
   "cell_type": "code",
   "execution_count": 330,
   "metadata": {},
   "outputs": [
    {
     "data": {
      "text/plain": [
       "4"
      ]
     },
     "execution_count": 330,
     "metadata": {},
     "output_type": "execute_result"
    }
   ],
   "source": [
    "plan_result['image_id'].nunique()"
   ]
  },
  {
   "cell_type": "code",
   "execution_count": 331,
   "metadata": {},
   "outputs": [],
   "source": [
    "def get_ad_create(plan_result):\n",
    "    ad_info = []\n",
    "    for i in range(plan_result.shape[0]):\n",
    "        ad_info.append(json.loads(plan_result.iloc[i].to_json()))\n",
    "    open_api_url_prefix = \"https://ptom.caohua.com/\"\n",
    "    # open_api_url_prefix = \"http://192.168.0.60:8085/\"\n",
    "    uri = \"model/generationPlanBatchTask\"\n",
    "    url = open_api_url_prefix + uri\n",
    "    params = {\n",
    "        \"secretkey\": \"abc2018!@**@888\",\n",
    "        \"mediaId\": 16\n",
    "    }\n",
    "    rsp = requests.post(url, json=ad_info, params=params)\n",
    "    rsp_data = rsp.json()\n",
    "    print('结束....')\n",
    "    return rsp_data"
   ]
  },
  {
   "cell_type": "code",
   "execution_count": null,
   "metadata": {},
   "outputs": [],
   "source": [
    "# 朋友圈不限,非朋友圈20\n",
    "# plan_result_1 = plan_result[plan_result['site_set'] == \"['SITE_SET_MOMENTS']\"]\n",
    "# # if plan_result_1.shape[0] > 150:\n",
    "# #     plan_result_1 = plan_result_1.sample(150, weights=plan_result_1['weight'])\n",
    "\n",
    "# plan_result_2 = plan_result[plan_result['site_set'] != \"['SITE_SET_MOMENTS']\"]\n",
    "\n",
    "# if plan_result_1.shape[0] != 0:\n",
    "#     if plan_result_2.shape[0] > 60:\n",
    "#         plan_result_2 = plan_result_2.sample(60, weights=plan_result_2['create_role_roi'])\n",
    "# else:\n",
    "#     if plan_result_2.shape[0] > 60*3:\n",
    "#         plan_result_2 = plan_result_2.sample(60*3, weights=plan_result_2['create_role_roi'])\n",
    "\n",
    "# plan_result = plan_result_1.append(plan_result_2)"
   ]
  },
  {
   "cell_type": "code",
   "execution_count": 332,
   "metadata": {},
   "outputs": [],
   "source": [
    "# plan_result = plan_result.drop(['create_time', 'create_date', 'prob', 'rank_ad_im', 'label_ids', 'create_role_roi', 'weight'], axis=1)\n",
    "plan_result = plan_result.drop(['create_time', 'create_date', 'prob', 'rank_ad_im', 'label_ids', 'weight'], axis=1)\n",
    "# [SITE_SET_WECHAT] 公众号和小程序adcreative_template_id只跑1480、560、720、721、1064五种\n",
    "plan_result = plan_result[~((plan_result['site_set'] == \"['SITE_SET_WECHAT']\") & (\n",
    "    ~plan_result['adcreative_template_id'].isin([1480, 560, 720, 721, 1064])))]"
   ]
  },
  {
   "cell_type": "code",
   "execution_count": 333,
   "metadata": {},
   "outputs": [
    {
     "data": {
      "text/plain": [
       "['SITE_SET_MOMENTS']                                                                                                          26\n",
       "['SITE_SET_QQ_MUSIC_GAME', 'SITE_SET_KANDIAN', 'SITE_SET_TENCENT_NEWS', 'SITE_SET_TENCENT_VIDEO', 'SITE_SET_MOBILE_UNION']    14\n",
       "Name: site_set, dtype: int64"
      ]
     },
     "execution_count": 333,
     "metadata": {},
     "output_type": "execute_result"
    }
   ],
   "source": [
    "plan_result['site_set'].value_counts()"
   ]
  },
  {
   "cell_type": "code",
   "execution_count": null,
   "metadata": {},
   "outputs": [],
   "source": []
  },
  {
   "cell_type": "code",
   "execution_count": 334,
   "metadata": {},
   "outputs": [],
   "source": [
    "# 修改落地页ID\n",
    "plan_result['page_spec'] = plan_result.apply(\n",
    "    lambda x: {'override_canvas_head_option': 'OPTION_CREATIVE_OVERRIDE_CANVAS',\n",
    "               'page_id': '2230311524'} if x.site_set == \"['SITE_SET_MOMENTS']\"\n",
    "    else ({'override_canvas_head_option': 'OPTION_CREATIVE_OVERRIDE_CANVAS',\n",
    "           'page_id': '2179536949'} if x.site_set == \"['SITE_SET_WECHAT']\" else np.nan), axis=1)\n",
    "plan_result['link_page_spec'] = plan_result.apply(\n",
    "    lambda x: {'page_id': '2230311524'} if x.site_set == \"['SITE_SET_MOMENTS']\"\n",
    "    else ({'page_id': '2179536949'} if x.site_set == \"['SITE_SET_WECHAT']\" else np.nan), axis=1)\n",
    "\n",
    "# 朋友圈头像ID\n",
    "plan_result['ad_account_id'] = plan_result['ad_account_id'].map(str)\n",
    "plan_result_1 = plan_result[plan_result['site_set'] == \"['SITE_SET_MOMENTS']\"]\n",
    "plan_result_2 = plan_result[plan_result['site_set'] != \"['SITE_SET_MOMENTS']\"]\n",
    "profile_id_dict = {'7981': '372606', '7982': '372597', '7983': '372591', '7984': '372585', '7985': '372485',\n",
    "                   '8035': '383952', '8036': '383967', '8037': '383976', '8038': '383987', '8039': '383994',\n",
    "                   '8082': '408038', '8081': '408049', '8080': '408052', '8079': '408056', '8078': '408059',\n",
    "                   '8077': '408062', '8076': '408066', '8075': '408069', '8074': '408073', '8073': '408082',\n",
    "                   '8814': '508418', '8815': '508430', '8816': '508441', '8817': '508450', '8818': '508455',\n",
    "                   '8819': '508460', '8820': '508465', '8821': '508478', '8822': '508484', '8823': '508490',\n",
    "                   '8824': '508498', '8825': '508500', '8826': '508506', '8827': '508513', '8828': '508525',\n",
    "                   '8829': '508528', '8830': '508531', '8831': '508535', '8832': '508540', '8833': '508550',\n",
    "                   '8834': '508557', '8835': '508565', '8836': '508572', '8837': '508577', '8838': '508580',\n",
    "                   '8839': '508584', '8840': '508591', '8841': '508596', '8842': '508602', '8843': '508603',\n",
    "                   '8844': '508608', '8845': '508611', '8846': '508620', '8847': '508634', '8848': '508646',\n",
    "                   '8854': '519213', '8855': '519237', '8856': '519243', '8857': '519248', '8858': '519259',\n",
    "                   '8859': '519267', '8860': '519273', '8743': '519293', '8742': '519300', '8741': '519305',\n",
    "                   '8740': '519312', '8739': '519323', '8738': '519335', '8737': '519346', '8736': '519356',\n",
    "                   '8735': '519363', '8734': '519369', '8733': '519377', '8732': '519385', '8731': '519393',\n",
    "                   '8730': '519399', '8729': '519407', '8728': '519409', '8727': '519414', '8726': '519423',\n",
    "                   '8725': '519429', '8724': '519438'}\n",
    "plan_result_1['profile_id'] = plan_result_1['ad_account_id'].map(profile_id_dict)"
   ]
  },
  {
   "cell_type": "code",
   "execution_count": 335,
   "metadata": {},
   "outputs": [],
   "source": [
    "plan_result = plan_result_1.append(plan_result_2)\n",
    "plan_result = plan_result.reset_index(drop=True)"
   ]
  },
  {
   "cell_type": "code",
   "execution_count": 336,
   "metadata": {},
   "outputs": [],
   "source": [
    "# 定义组合json\n",
    "plan_result['intention'] = plan_result['intention_targeting_tags'].apply(lambda x: {'targeting_tags': x})\n",
    "plan_result.drop(['intention_targeting_tags'], axis=1, inplace=True)\n",
    "\n",
    "ad_info = []\n",
    "for i in range(plan_result.shape[0]):\n",
    "    ad_info.append(\n",
    "        json.loads(plan_result.loc[i, ['interest_category_id_list', 'interest_keyword_list']].rename(index={\n",
    "            'interest_category_id_list': 'category_id_list',\n",
    "            'interest_keyword_list': 'keyword_list'}).to_json()))\n",
    "plan_result['interest'] = ad_info\n",
    "plan_result.drop(['interest_category_id_list', 'interest_keyword_list'], axis=1, inplace=True)\n",
    "\n",
    "ad_info = []\n",
    "for i in range(plan_result.shape[0]):\n",
    "    ad_info.append(json.loads(plan_result.loc[i, 'behavior_category_id_list':'behavior_time_window'].rename(index={\n",
    "        'behavior_category_id_list': 'category_id_list',\n",
    "        'behavior_intensity': 'intensity',\n",
    "        'behavior_keyword_list': 'keyword_list',\n",
    "        'behavior_scene': 'scene',\n",
    "        'behavior_time_window': 'time_window'}).to_json()))\n",
    "plan_result['behavior'] = ad_info\n",
    "plan_result.drop(['behavior_category_id_list', 'behavior_intensity', 'behavior_keyword_list', 'behavior_scene',\n",
    "                  'behavior_time_window'], axis=1, inplace=True)\n",
    "\n",
    "plan_result['behavior'] = plan_result['behavior'].apply(lambda x: [x])\n",
    "\n",
    "ad_info = []\n",
    "for i in range(plan_result.shape[0]):\n",
    "    ad_info.append(json.loads(plan_result.loc[i, ['conversion_behavior_list', 'excluded_dimension']].to_json()))\n",
    "plan_result['excluded_converted_audience'] = ad_info\n",
    "plan_result.drop(['conversion_behavior_list', 'excluded_dimension'], axis=1, inplace=True)\n",
    "\n",
    "ad_info = []\n",
    "for i in range(plan_result.shape[0]):\n",
    "    ad_info.append(json.loads(plan_result.loc[i, ['regions', 'location_types']].to_json()))\n",
    "plan_result['geo_location'] = ad_info\n",
    "plan_result.drop(['regions', 'location_types'], axis=1, inplace=True)\n",
    "\n",
    "ad_info = []\n",
    "for i in range(plan_result.shape[0]):\n",
    "    ad_info.append(json.loads(plan_result.loc[\n",
    "                                  i, [\"device_price\", \"app_install_status\", \"gender\", \"game_consumption_level\",\n",
    "                                      \"age\", \"network_type\",\n",
    "                                      \"excluded_converted_audience\", \"geo_location\",\n",
    "                                      \"intention\", \"interest\", \"behavior\"]].to_json()))\n",
    "plan_result['targeting'] = ad_info\n",
    "\n",
    "plan_result.drop([\"device_price\", \"app_install_status\", \"gender\", \"game_consumption_level\", \"age\", \"network_type\",\n",
    "                  \"excluded_converted_audience\", \"geo_location\",\n",
    "                  \"intention\", \"interest\", \"behavior\"], axis=1, inplace=True)\n",
    "\n",
    "# plan_result['operation'] = 'disable'\n",
    "plan_result['op_id'] = 13268\n",
    "plan_result['flag'] = '历史素材'\n",
    "plan_result['game_name'] = '幸存者挑战'\n",
    "plan_result['platform'] = 1\n",
    "plan_result['ad_account_id'] = plan_result['ad_account_id'].astype(int)\n",
    "plan_result['site_set'] = plan_result['site_set'].apply(ast.literal_eval)\n",
    "# 周三周四更新，凌晨不跑计划\n",
    "plan_result['time_series'] = plan_result['time_series'].apply(\n",
    "    lambda x: x[0:96] + '1111111111000000000011' + x[118:144] + '1111111111000000000011' + x[166:])\n",
    "plan_result.drop('page_type', axis=1, inplace=True)\n",
    "plan_result.to_csv('./plan_result.csv', index=0)  # 保存创建日志"
   ]
  },
  {
   "cell_type": "code",
   "execution_count": 337,
   "metadata": {},
   "outputs": [
    {
     "data": {
      "text/plain": [
       "(40, 32)"
      ]
     },
     "execution_count": 337,
     "metadata": {},
     "output_type": "execute_result"
    }
   ],
   "source": [
    "plan_result.shape"
   ]
  },
  {
   "cell_type": "code",
   "execution_count": 338,
   "metadata": {},
   "outputs": [
    {
     "name": "stdout",
     "output_type": "stream",
     "text": [
      "40\n",
      "结束....\n",
      "{'code': 200, 'data': True, 'msg': ''}\n"
     ]
    }
   ],
   "source": [
    "plan_result_seg = pd.DataFrame()\n",
    "for i in range(plan_result.shape[0]):\n",
    "    plan_result_seg = plan_result_seg.append(plan_result.iloc[i:i + 1])\n",
    "    if (i > 0 and i % 40 == 0) or i == (plan_result.shape[0] - 1):\n",
    "        plan_result_seg = plan_result_seg.reset_index(drop=True)\n",
    "        print(plan_result_seg.shape[0])\n",
    "        rsp_data = get_ad_create(plan_result_seg)\n",
    "        print(rsp_data)\n",
    "        time.sleep(200)\n",
    "        plan_result_seg = pd.DataFrame()"
   ]
  },
  {
   "cell_type": "code",
   "execution_count": null,
   "metadata": {},
   "outputs": [],
   "source": []
  },
  {
   "cell_type": "code",
   "execution_count": 221,
   "metadata": {},
   "outputs": [
    {
     "data": {
      "text/plain": [
       "(312, 30)"
      ]
     },
     "execution_count": 221,
     "metadata": {},
     "output_type": "execute_result"
    }
   ],
   "source": [
    "plan_result.shape"
   ]
  },
  {
   "cell_type": "code",
   "execution_count": 1083,
   "metadata": {
    "scrolled": true
   },
   "outputs": [
    {
     "name": "stdout",
     "output_type": "stream",
     "text": [
      "结束....\n"
     ]
    },
    {
     "data": {
      "text/plain": [
       "{'code': 200, 'data': True, 'msg': ''}"
      ]
     },
     "execution_count": 1083,
     "metadata": {},
     "output_type": "execute_result"
    }
   ],
   "source": [
    "get_ad_create(plan_result)"
   ]
  },
  {
   "cell_type": "code",
   "execution_count": 1084,
   "metadata": {
    "scrolled": true
   },
   "outputs": [
    {
     "data": {
      "image/png": "[encoded data removed]",
      "text/plain": [
       "<Figure size 432x288 with 1 Axes>"
      ]
     },
     "metadata": {
      "needs_background": "light"
     },
     "output_type": "display_data"
    }
   ],
   "source": [
    "sns.distplot(y_predict)\n",
    "plt.show()"
   ]
  },
  {
   "cell_type": "code",
   "execution_count": null,
   "metadata": {},
   "outputs": [],
   "source": []
  }
 ],
 "metadata": {
  "kernelspec": {
   "display_name": "Python 3",
   "language": "python",
   "name": "python3"
  },
  "language_info": {
   "codemirror_mode": {
    "name": "ipython",
    "version": 3
   },
   "file_extension": ".py",
   "mimetype": "text/x-python",
   "name": "python",
   "nbconvert_exporter": "python",
   "pygments_lexer": "ipython3",
   "version": "3.7.6"
  }
 },
 "nbformat": 4,
 "nbformat_minor": 4
}
