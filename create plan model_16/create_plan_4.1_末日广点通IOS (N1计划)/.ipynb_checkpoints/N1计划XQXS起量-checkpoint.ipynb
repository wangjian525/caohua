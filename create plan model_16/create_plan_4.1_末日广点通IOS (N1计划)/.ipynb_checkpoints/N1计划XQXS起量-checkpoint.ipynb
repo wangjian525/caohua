{
 "cells": [
  {
   "cell_type": "code",
   "execution_count": 1,
   "metadata": {},
   "outputs": [],
   "source": [
    "import pandas as pd\n",
    "import numpy as np\n",
    "import json\n",
    "import time\n",
    "from sklearn.model_selection import train_test_split\n",
    "from sklearn.preprocessing import LabelEncoder\n",
    "import warnings\n",
    "import random\n",
    "warnings.filterwarnings('ignore')\n",
    "import lightgbm as lgb\n",
    "from impala.dbapi import connect\n",
    "from impala.util import as_pandas\n",
    "import pymysql\n",
    "import ast\n",
    "import re\n",
    "import requests\n",
    "from itertools import combinations\n",
    "from tqdm import tqdm_notebook"
   ]
  },
  {
   "cell_type": "code",
   "execution_count": 2,
   "metadata": {},
   "outputs": [],
   "source": [
    "pd.set_option('display.max_columns',None)\n",
    "pd.set_option('display.max_rows',None)"
   ]
  },
  {
   "cell_type": "code",
   "execution_count": 3,
   "metadata": {},
   "outputs": [],
   "source": [
    "def get_game_id():\n",
    "    conn = pymysql.connect(host='db-slave-modelfenxi-001.ch', port=3306, user='model_read',\n",
    "                           passwd='aZftlm6PcFjN{DxIKOPr)BcutuJd<uYOC0P<8')\n",
    "    cur = conn.cursor(cursor=pymysql.cursors.DictCursor)\n",
    "    sql = '''\n",
    "        SELECT dev_game_id AS game_id FROM db_data.t_game_config WHERE game_id = 1056 AND dev_game_id IS NOT NULL \n",
    "    '''\n",
    "    cur.execute(sql)\n",
    "    result_df = cur.fetchall()\n",
    "    cur.close()\n",
    "    conn.close()\n",
    "    return result_df"
   ]
  },
  {
   "cell_type": "code",
   "execution_count": 4,
   "metadata": {},
   "outputs": [],
   "source": [
    "# 获取近期所有计划()\n",
    "def get_plan_info():\n",
    "    game_id = get_game_id()\n",
    "    game_id = list(map(lambda x: x['game_id'], game_id))\n",
    "    game_id = [str(i) for i in game_id]\n",
    "    game_id = ','.join(game_id)\n",
    "    conn = pymysql.connect(host='db-slave-modeltoufang-001.ch', port=3306, user='model_read',\n",
    "                           passwd='aZftlm6PcFjN{DxIKOPr)BcutuJd<uYOC0P<8', db='db_ptom')\n",
    "    cur = conn.cursor(cursor=pymysql.cursors.DictCursor)\n",
    "    sql = '''\n",
    "    /*手动查询*/\n",
    "        SELECT\n",
    "                p.*,\n",
    "                b.image_id\n",
    "            FROM\n",
    "                db_ptom.ptom_third_plan p\n",
    "            left join\n",
    "                db_ptom.ptom_plan b\n",
    "            on p.plan_id=b.plan_id\n",
    "            WHERE\n",
    "                p.game_id IN ({})\n",
    "                AND p.media_id = 16\n",
    "                AND p.platform = 2\n",
    "                AND p.create_time>= date( NOW() - INTERVAL 1440 HOUR )\n",
    "                AND p.create_time<= date(NOW())\n",
    "                            AND p.plan_id >= (\n",
    "                                select plan_id from db_ptom.ptom_plan\n",
    "                                where create_time >= date( NOW() - INTERVAL 1440 HOUR )\n",
    "                                and create_time <= date( NOW() - INTERVAL 1416 HOUR )\n",
    "                                limit 1\n",
    "                            )\n",
    "    '''\n",
    "    finalSql = sql.format(game_id)\n",
    "    result_df = pd.read_sql(finalSql, conn)\n",
    "    cur.close()\n",
    "    conn.close()\n",
    "    return result_df"
   ]
  },
  {
   "cell_type": "code",
   "execution_count": 5,
   "metadata": {},
   "outputs": [],
   "source": [
    "# 获取image_id,label_ids\n",
    "def get_image_info():\n",
    "    conn = pymysql.connect(host='db-slave-modelfenxi-001.ch', port=3306, user='model_read',\n",
    "                           passwd='aZftlm6PcFjN{DxIKOPr)BcutuJd<uYOC0P<8')\n",
    "    cur = conn.cursor(cursor=pymysql.cursors.DictCursor)\n",
    "    sql = '''\n",
    "        SELECT\n",
    "            a.chl_user_id AS channel_id,\n",
    "            a.source_id,\n",
    "            a.image_id,\n",
    "            b.label_ids\n",
    "        FROM\n",
    "            db_data_ptom.ptom_plan a\n",
    "            LEFT JOIN\n",
    "            db_data_ptom.ptom_image_info b\n",
    "        on a.image_id = b.image_id\n",
    "        WHERE\n",
    "            a.game_id IN ( SELECT dev_game_id AS game_id FROM db_data.t_game_config WHERE game_id = 1056 AND dev_game_id IS NOT NULL ) \n",
    "            AND a.media_id = 16 \n",
    "            AND a.create_time >= date( NOW() - INTERVAL 1440 HOUR ) \n",
    "        GROUP BY\n",
    "            a.chl_user_id,\n",
    "            a.source_id,\n",
    "            a.image_id\n",
    "    '''\n",
    "    cur.execute(sql)\n",
    "    result_df = pd.read_sql(sql, conn)\n",
    "    cur.close()\n",
    "    conn.close()\n",
    "    return result_df"
   ]
  },
  {
   "cell_type": "code",
   "execution_count": 6,
   "metadata": {},
   "outputs": [],
   "source": [
    "def get_launch_report():\n",
    "    game_id = get_game_id()\n",
    "    game_id = list(map(lambda x: x['game_id'], game_id))\n",
    "    game_id = [str(i) for i in game_id]\n",
    "    game_id = ','.join(game_id)\n",
    "\n",
    "    conn = pymysql.connect(host='db-slave-modelfenxi-001.ch', port=3306, user='model_read',\n",
    "                           passwd='aZftlm6PcFjN{DxIKOPr)BcutuJd<uYOC0P<8')\n",
    "    cur = conn.cursor(cursor=pymysql.cursors.DictCursor)\n",
    "    sql = '''\n",
    "        /*手动查询*/\n",
    "        SELECT\n",
    "            a.chl_user_id AS channel_id,\n",
    "            a.source_id AS source_id,\n",
    "            b.tdate,\n",
    "            b.amount,\n",
    "            b.new_role_money,\n",
    "            b.new_role_money / b.amount as roi,\n",
    "            b.pay_role_user_num / b.create_role_num as pay_rate\n",
    "        FROM\n",
    "            db_data_ptom.ptom_plan a\n",
    "            LEFT JOIN db_stdata.st_lauch_report b ON a.chl_user_id = b.channel_id \n",
    "            AND a.source_id = b.source_id \n",
    "        WHERE\n",
    "            a.create_time >= date( NOW() - INTERVAL 1440 HOUR ) \n",
    "            AND b.tdate >= date( NOW() - INTERVAL 1440 HOUR ) \n",
    "            AND b.tdate_type = 'day' \n",
    "            AND b.media_id = 16\n",
    "            AND b.game_id IN ({})\n",
    "            AND b.amount >= 500\n",
    "    '''\n",
    "    finalSql = sql.format(game_id)\n",
    "    cur.execute(finalSql)\n",
    "    result_df = pd.read_sql(finalSql, conn)\n",
    "    cur.close()\n",
    "    conn.close()\n",
    "    result_df['tdate'] = pd.to_datetime(result_df['tdate'])\n",
    "    result_df = result_df.sort_values('tdate')\n",
    "    result_df = result_df.drop_duplicates(['channel_id', 'source_id'], keep='first')\n",
    "\n",
    "    return result_df"
   ]
  },
  {
   "cell_type": "code",
   "execution_count": 7,
   "metadata": {},
   "outputs": [],
   "source": [
    "# 解析json\n",
    "def get_plan_json(plan_info):\n",
    "    plan_info.drop(['inventory_type', 'budget', 'bid_mode'], axis=1, inplace=True)\n",
    "    plan_info.dropna(how='all', inplace=True, axis=1)\n",
    "    plan_info.dropna(subset=['ad_info'], inplace=True)\n",
    "\n",
    "    plan_info['ad_info'] = plan_info['ad_info'].apply(json.loads)\n",
    "    temp = plan_info['ad_info'].apply(pd.Series)\n",
    "    plan_info = pd.concat([plan_info, temp], axis=1)\n",
    "    plan_info.drop('ad_info', axis=1, inplace=True)\n",
    "\n",
    "    temp = plan_info['targeting'].apply(pd.Series)\n",
    "    plan_info = pd.concat([plan_info, temp], axis=1)\n",
    "    plan_info.drop('targeting', axis=1, inplace=True)\n",
    "\n",
    "    temp = plan_info['deep_conversion_spec'].apply(pd.Series)\n",
    "    plan_info = pd.concat([plan_info, temp], axis=1)\n",
    "    plan_info.drop('deep_conversion_spec', axis=1, inplace=True)\n",
    "\n",
    "    temp = plan_info['behavior_or_interest'].apply(pd.Series)\n",
    "    plan_info = pd.concat([plan_info, temp], axis=1)\n",
    "    plan_info.drop('behavior_or_interest', axis=1, inplace=True)\n",
    "    plan_info.drop(0, axis=1, inplace=True)\n",
    "\n",
    "    temp = plan_info['intention'].apply(pd.Series)\n",
    "    plan_info = pd.concat([plan_info, temp], axis=1)\n",
    "    plan_info.drop('intention', axis=1, inplace=True)\n",
    "    plan_info = plan_info.rename(columns={'targeting_tags': 'intention_targeting_tags'})\n",
    "    plan_info.drop(0, axis=1, inplace=True)\n",
    "\n",
    "    temp = plan_info['interest'].apply(pd.Series)\n",
    "    plan_info = pd.concat([plan_info, temp], axis=1)\n",
    "    plan_info.drop('interest', axis=1, inplace=True)\n",
    "    plan_info = plan_info.rename(\n",
    "        columns={'category_id_list': 'interest_category_id_list', 'keyword_list': 'interest_keyword_list',\n",
    "                 'targeting_tags': 'interest_targeting_tags'})\n",
    "    plan_info.drop(0, axis=1, inplace=True)\n",
    "\n",
    "    temp = plan_info['behavior'].apply(pd.Series)\n",
    "    plan_info = pd.concat([plan_info, temp], axis=1)\n",
    "    plan_info.drop('behavior', axis=1, inplace=True)\n",
    "    temp = plan_info[0].apply(pd.Series)\n",
    "    plan_info = pd.concat([plan_info, temp], axis=1)\n",
    "    plan_info.drop(0, axis=1, inplace=True)\n",
    "    plan_info = plan_info.rename(columns={'category_id_list': 'behavior_category_id_list',\n",
    "                                          'intensity': 'behavior_intensity',\n",
    "                                          'keyword_list': 'behavior_keyword_list',\n",
    "                                          'scene': 'behavior_scene',\n",
    "                                          'targeting_tags': 'behavior_targeting_tags',\n",
    "                                          'time_window': 'behavior_time_window'})\n",
    "\n",
    "    temp = plan_info['excluded_converted_audience'].apply(pd.Series)\n",
    "    plan_info = pd.concat([plan_info, temp], axis=1)\n",
    "    plan_info.drop('excluded_converted_audience', axis=1, inplace=True)\n",
    "    plan_info.drop(0, axis=1, inplace=True)\n",
    "    \n",
    "    if 'geo_location' in plan_info.columns:\n",
    "        temp = plan_info['geo_location'].apply(pd.Series)\n",
    "        plan_info = pd.concat([plan_info, temp], axis=1)\n",
    "        plan_info.drop('geo_location', axis=1, inplace=True)\n",
    "        plan_info.drop(0, axis=1, inplace=True)\n",
    "    else:\n",
    "        plan_info['location_types'] = np.nan\n",
    "        plan_info['regions'] = np.nan\n",
    "\n",
    "    # 过滤一对多计划\n",
    "    plan_info['ad_id_count'] = plan_info.groupby('plan_id')['ad_id'].transform('count')\n",
    "    plan_info = plan_info[plan_info['ad_id_count'] == 1]\n",
    "\n",
    "    # 删除纯买激活的计划\n",
    "    plan_info = plan_info[~((plan_info['deep_conversion_type'].isna()) & (\n",
    "            plan_info['optimization_goal'] == 'OPTIMIZATIONGOAL_APP_ACTIVATE'))]\n",
    "    # 删除auto_audience=True 的记录，并且删除auto_audience字段\n",
    "    plan_info[plan_info['auto_audience'] == False]\n",
    "    plan_info = plan_info[['ad_account_id', 'game_id', 'channel_id', 'source_id', 'budget_mode',\n",
    "                           'create_time', 'image_id', 'optimization_goal', 'time_series',\n",
    "                           'bid_strategy', 'bid_amount', 'daily_budget', 'expand_enabled',\n",
    "                           'expand_targeting', 'device_price', 'app_install_status',\n",
    "                           'gender', 'game_consumption_level', 'age', 'network_type',\n",
    "                           'deep_conversion_type', 'deep_conversion_behavior_spec',\n",
    "                           'deep_conversion_worth_spec', 'intention_targeting_tags',\n",
    "                           'interest_category_id_list', 'interest_keyword_list',\n",
    "                           'behavior_category_id_list',\n",
    "                           'behavior_intensity', 'behavior_keyword_list', 'behavior_scene',\n",
    "                           'behavior_time_window',\n",
    "                           'conversion_behavior_list', 'excluded_dimension', 'location_types',\n",
    "                           'regions']]\n",
    "    return plan_info"
   ]
  },
  {
   "cell_type": "code",
   "execution_count": 8,
   "metadata": {},
   "outputs": [],
   "source": [
    "# 获取近期30天优化计划的创意数据\n",
    "def get_creative():\n",
    "    game_id = get_game_id()\n",
    "    game_id = list(map(lambda x: x['game_id'], game_id))\n",
    "    game_id = [str(i) for i in game_id]\n",
    "    game_id = ','.join(game_id)\n",
    "\n",
    "    conn = pymysql.connect(host='db-slave-modeltoufang-001.ch', port=3306, user='model_read',\n",
    "                           passwd='aZftlm6PcFjN{DxIKOPr)BcutuJd<uYOC0P<8', db='db_ptom')\n",
    "    cur = conn.cursor(cursor=pymysql.cursors.DictCursor)\n",
    "    sql = '''\n",
    "        /*手动查询*/ \n",
    "       SELECT\n",
    "            b.chl_user_id AS channel_id,\n",
    "            b.source_id,\n",
    "            b.image_id,\n",
    "            a.creative_param\n",
    "        FROM\n",
    "            db_ptom.ptom_batch_ad_task a\n",
    "            LEFT JOIN db_ptom.ptom_plan b ON a.plan_name = b.plan_name \n",
    "        WHERE\n",
    "            a.media_id = 16 \n",
    "            AND b.create_time >= date( NOW() - INTERVAL 1440 HOUR )    \n",
    "            AND a.game_id IN ({})\n",
    "            AND b.image_id is not null\n",
    "\n",
    "    '''\n",
    "    finalSql = sql.format(game_id)\n",
    "    cur.execute(finalSql)\n",
    "    result = pd.read_sql(finalSql, conn)\n",
    "    cur.close()\n",
    "    conn.close()\n",
    "    return result"
   ]
  },
  {
   "cell_type": "code",
   "execution_count": 9,
   "metadata": {},
   "outputs": [],
   "source": [
    "# 获取score_image (分数大于550的image_id)\n",
    "def get_score_image():\n",
    "    conn = connect(host='192.168.0.97', port=10000, auth_mechanism='PLAIN', user='hadoop',\n",
    "                   password='Ycjh8FxiaoMtShZRd3-97%3hCEL0CK4ns1w', database='default')\n",
    "    cursor = conn.cursor()\n",
    "    sql_engine = 'set hive.execution.engine=tez'\n",
    "    sql = 'select image_id,label_ids from dws.dws_image_score_d where media_id=16 and score>=520 and dt=CURRENT_DATE group by image_id,label_ids'\n",
    "    cursor.execute(sql_engine)\n",
    "    cursor.execute(sql)\n",
    "    result = as_pandas(cursor)\n",
    "    result['label_ids'] = result['label_ids'].astype(str)\n",
    "    result['label_ids'] = result['label_ids'].apply(lambda x: x.strip('-1;') if '-1' in x else x)\n",
    "    result['label_ids'] = pd.to_numeric(result['label_ids'], errors='coerce')\n",
    "\n",
    "    # 关闭链接\n",
    "    cursor.close()\n",
    "    conn.close()\n",
    "\n",
    "    return result['image_id'].values"
   ]
  },
  {
   "cell_type": "code",
   "execution_count": 10,
   "metadata": {},
   "outputs": [],
   "source": [
    "# 获取近期计划的运营数据\n",
    "def get_now_plan_roi():\n",
    "    game_id = get_game_id()\n",
    "    game_id = list(map(lambda x: x['game_id'], game_id))\n",
    "    game_id = [str(i) for i in game_id]\n",
    "    game_id = ','.join(game_id)\n",
    "\n",
    "    conn = pymysql.connect(host='db-slave-modelfenxi-001.ch', port=3306, user='model_read',\n",
    "                           passwd='aZftlm6PcFjN{DxIKOPr)BcutuJd<uYOC0P<8')\n",
    "    cur = conn.cursor(cursor=pymysql.cursors.DictCursor)\n",
    "    sql = '''\n",
    "        SELECT\n",
    "            a.ad_account_id,\n",
    "            b.channel_id,\n",
    "            b.source_id,\n",
    "            b.tdate,\n",
    "            b.amount,\n",
    "            b.new_role_money,\n",
    "            b.new_role_money / b.amount AS roi,\n",
    "            b.pay_role_user_num / b.create_role_num AS pay_rate \n",
    "        FROM\n",
    "            db_data_ptom.ptom_plan a \n",
    "        left join\n",
    "            db_stdata.st_lauch_report b\n",
    "        on a.chl_user_id=b.channel_id and a.source_id=b.source_id\n",
    "        WHERE\n",
    "            b.tdate >= date( NOW() - INTERVAL 240 HOUR ) \n",
    "            AND b.tdate_type = 'day' \n",
    "            AND b.media_id = 16 \n",
    "            AND b.game_id IN ({}) \n",
    "            AND b.amount >= 200  \n",
    "            AND b.pay_role_user_num >= 1 \n",
    "            AND b.new_role_money >= 20\n",
    "            AND (b.new_role_money / b.amount)>=0.005\n",
    "    '''\n",
    "    finalSql = sql.format(game_id)\n",
    "    cur.execute(finalSql)\n",
    "    result_df = pd.read_sql(finalSql, conn)\n",
    "    cur.close()\n",
    "    conn.close()\n",
    "    result_df['tdate'] = pd.to_datetime(result_df['tdate'])\n",
    "    result_df = result_df.sort_values('tdate')\n",
    "    result_df = result_df.drop_duplicates(['channel_id', 'source_id'], keep='first')\n",
    "#     result_df = result_df[result_df['roi'] >= 0.03]\n",
    "    return result_df"
   ]
  },
  {
   "cell_type": "code",
   "execution_count": 33,
   "metadata": {},
   "outputs": [],
   "source": [
    "plan_info = get_plan_info()\n",
    "plan_info = get_plan_json(plan_info)\n",
    "creative_info = get_creative()\n",
    "image_info = get_image_info()\n",
    "launch_report = get_launch_report()\n",
    "creative_info['creative_param'] = creative_info['creative_param'].apply(json.loads)\n",
    "temp = creative_info['creative_param'].apply(pd.Series)\n",
    "if 'image_id' in temp.columns:\n",
    "    temp = temp.drop('image_id', axis=1)\n",
    "creative_info = pd.concat([creative_info, temp], axis=1)\n",
    "creative_info.drop('creative_param', axis=1, inplace=True)\n",
    "creative_info.drop(['title', 'adcreative_template_parent', 'idea_type', 'adcreative_name', 'ideaName', '_creative'],\n",
    "                   axis=1, inplace=True)\n",
    "creative_info['adcreative_elements_array'] = creative_info['adcreative_elements_array'].apply(lambda x: x[0])\n",
    "creative_info['adcreative_elements'] = creative_info['adcreative_elements_array'].apply(\n",
    "    lambda x: x['adcreative_elements'])\n",
    "creative_info.drop('adcreative_elements_array', axis=1, inplace=True)\n",
    "creative_info = creative_info[['channel_id', 'source_id', 'image_id', 'deep_link_url',\n",
    "                               'adcreative_template_id', 'page_spec', 'page_type', 'site_set', 'label',\n",
    "                               'promoted_object_id', 'promoted_object_type', 'automatic_site_enabled',\n",
    "                               'link_name_type', 'link_page_type', 'profile_id', 'link_page_spec',\n",
    "                               'adcreative_elements']]\n",
    "plan_info = pd.merge(plan_info.drop(['image_id'], axis=1), creative_info, on=['channel_id', 'source_id'],\n",
    "                     how='inner')\n",
    "plan_info.dropna(subset=['image_id'], inplace=True)\n",
    "plan_info['image_id'] = plan_info['image_id'].astype(int)\n",
    "plan_info['adcreative_template_id'] = plan_info['adcreative_template_id'].astype(int)\n",
    "\n",
    "plan_info['profile_id'] = plan_info['profile_id'].apply(lambda x: x if x != x else str(int(x)))\n",
    "plan_info['create_time'] = pd.to_datetime(plan_info['create_time'])\n",
    "plan_info_current = plan_info[plan_info['create_time'] >= pd.datetime.now() - pd.DateOffset(30)]  ## TODO:时间线拉长\n",
    "now_plan_roi = get_now_plan_roi()\n",
    "score_image = get_score_image()\n",
    "image_info = image_info[image_info['image_id'].notna()]\n",
    "image_info['image_id'] = image_info['image_id'].astype(int)"
   ]
  },
  {
   "cell_type": "code",
   "execution_count": 34,
   "metadata": {},
   "outputs": [],
   "source": [
    "df_create = pd.merge(plan_info_current, image_info, on=['channel_id', 'source_id', 'image_id'], how='left')\n",
    "df_create = pd.merge(df_create, now_plan_roi.drop(['ad_account_id'], axis=1), on=['channel_id', 'source_id'],\n",
    "                     how='inner')\n",
    "# df_create = df_create[df_create['site_set'].notna()]  ## 注释掉：以支持自动化版位"
   ]
  },
  {
   "cell_type": "code",
   "execution_count": 35,
   "metadata": {},
   "outputs": [],
   "source": [
    "game_id = 1001447  ## 选择包：n1计划-IOS联运-IOS联运\n",
    "df_create = df_create[df_create['game_id'].isin([1001617, 1001447, 1001446, 1001611, 1001613, 1001444, 1001609, 1001610])]\n",
    "## 候选计划的包ID限制（明日战纪-ios-IOS联运，n1计划-IOS联运-IOS联运，幸存挑战 - 曙光信仰-IOS联运, 迷岛生存IOS-IOS联运, 潜藏之地-IOS联运,\n",
    "# 绝地末日 - IOS联运 - IOS联运# , 迷城起源-黎明危域-IOS联运, 黎明血战-IOS-IOS联运）\n",
    "image_id_group = np.intersect1d(df_create['image_id'].unique(), score_image)"
   ]
  },
  {
   "cell_type": "code",
   "execution_count": 36,
   "metadata": {},
   "outputs": [
    {
     "data": {
      "text/plain": [
       "array([34335, 36075, 37278, 38100, 38547, 38622, 38823, 39707, 39819,\n",
       "       39915, 40149, 40199, 40512, 40855, 40859, 41152, 41168, 41212,\n",
       "       41243, 41295, 41312, 41313, 41318, 41324], dtype=int64)"
      ]
     },
     "execution_count": 36,
     "metadata": {},
     "output_type": "execute_result"
    }
   ],
   "source": [
    "image_id_group"
   ]
  },
  {
   "cell_type": "code",
   "execution_count": 37,
   "metadata": {},
   "outputs": [],
   "source": [
    "df_create.to_csv('./df_create.csv')"
   ]
  },
  {
   "cell_type": "code",
   "execution_count": 38,
   "metadata": {},
   "outputs": [],
   "source": [
    "image_adcreative_elements = df_create[['image_id','adcreative_template_id']]\n",
    "image_adcreative_elements = image_adcreative_elements[image_adcreative_elements['image_id'].isin(image_id_group)]\n",
    "image_adcreative_elements = image_adcreative_elements.drop_duplicates(subset='image_id', keep='first')"
   ]
  },
  {
   "cell_type": "code",
   "execution_count": 39,
   "metadata": {},
   "outputs": [],
   "source": [
    "df_create['site_set'] = df_create['site_set'].map(str)\n",
    "df_create_s = df_create[(df_create['site_set'] == \"['SITE_SET_QQ_MUSIC_GAME', 'SITE_SET_KANDIAN', 'SITE_SET_TENCENT_NEWS', 'SITE_SET_TENCENT_VIDEO', 'SITE_SET_MOBILE_UNION']\") & (df_create['adcreative_template_id'] == 720)]  ## TODO"
   ]
  },
  {
   "cell_type": "code",
   "execution_count": 40,
   "metadata": {},
   "outputs": [],
   "source": [
    "# df_create_s = df_create[df_create['source_id']==1149820]"
   ]
  },
  {
   "cell_type": "code",
   "execution_count": 41,
   "metadata": {},
   "outputs": [],
   "source": [
    "def create_plan(df, image_adcreative_elements):\n",
    "    # 选ad_account_id、image_id每个账号+素材8条\n",
    "    game_id = 1001447  ## 选择包：n1计划-IOS联运-IOS联运\n",
    "\n",
    "    plan = image_adcreative_elements.copy()\n",
    "    plan = plan.reset_index(drop=True)\n",
    "\n",
    "    plan['game_id'] = game_id\n",
    "    \n",
    "    # 选择预算，不限制预算\n",
    "    plan['budget_mode'] = 0\n",
    "    plan['daily_budget'] = 0\n",
    "    \n",
    "    sample_df = df[['expand_enabled', 'expand_targeting','device_price', 'app_install_status', 'gender', 'game_consumption_level', \n",
    "        'age', 'network_type', 'conversion_behavior_list', 'excluded_dimension', 'location_types', 'regions',\n",
    "        'intention_targeting_tags', 'interest_category_id_list', 'interest_keyword_list',\n",
    "        'behavior_category_id_list', 'behavior_intensity', 'behavior_keyword_list', 'behavior_scene', 'behavior_time_window',\n",
    "        'site_set', 'deep_link_url', 'page_spec', 'page_type', 'link_page_spec','adcreative_elements',\n",
    "        'link_name_type', 'link_page_type', 'promoted_object_id', 'profile_id', 'promoted_object_type',\n",
    "        'automatic_site_enabled', 'label',\n",
    "        'optimization_goal', 'bid_strategy', 'bid_amount', 'deep_conversion_type', 'deep_conversion_behavior_spec',\n",
    "        'deep_conversion_worth_spec', 'time_series']]\n",
    "    sample_df = sample_df.sample(n=plan.shape[0], replace=True).reset_index(drop=True)\n",
    "    \n",
    "    plan = pd.concat([plan, sample_df], axis=1)\n",
    "\n",
    "#     plan['site_set'] = plan['site_set'].apply(lambda x:ast.literal_eval(x) if x != \"nan\" and not pd.isnull(x) else [])  ## TODO:支持自动化版位修改\n",
    "\n",
    "    plan['promoted_object_id'] = '1552323463'    ## TODO\n",
    "#     plan['create_time'] = pd.to_datetime(pd.datetime.now())\n",
    "#     plan['create_date'] = pd.to_datetime(pd.datetime.now().date())\n",
    "    plan = plan.reset_index(drop=True)\n",
    "    \n",
    "    return plan"
   ]
  },
  {
   "cell_type": "code",
   "execution_count": 42,
   "metadata": {},
   "outputs": [],
   "source": [
    "plan_create = create_plan(df_create_s, image_adcreative_elements)"
   ]
  },
  {
   "cell_type": "code",
   "execution_count": 43,
   "metadata": {},
   "outputs": [
    {
     "data": {
      "text/plain": [
       "(24, 45)"
      ]
     },
     "execution_count": 43,
     "metadata": {},
     "output_type": "execute_result"
    }
   ],
   "source": [
    "plan_create.shape"
   ]
  },
  {
   "cell_type": "code",
   "execution_count": 44,
   "metadata": {},
   "outputs": [
    {
     "data": {
      "text/plain": [
       "['SITE_SET_QQ_MUSIC_GAME', 'SITE_SET_KANDIAN', 'SITE_SET_TENCENT_NEWS', 'SITE_SET_TENCENT_VIDEO', 'SITE_SET_MOBILE_UNION']    24\n",
       "Name: site_set, dtype: int64"
      ]
     },
     "execution_count": 44,
     "metadata": {},
     "output_type": "execute_result"
    }
   ],
   "source": [
    "plan_create['site_set'].value_counts()"
   ]
  },
  {
   "cell_type": "code",
   "execution_count": 45,
   "metadata": {},
   "outputs": [],
   "source": [
    "ad_account_id_group = np.array([9556, 9557, 9558, 9559, 9560])\n",
    "# num_pre = int(plan_create.shape[0] / len(ad_account_id_group))\n",
    "plan_num = 3"
   ]
  },
  {
   "cell_type": "code",
   "execution_count": 46,
   "metadata": {},
   "outputs": [],
   "source": [
    "plan_result = pd.DataFrame()\n",
    "for ad_account_id in ad_account_id_group:\n",
    "    plan_result_ = plan_create.sample(n=plan_num, replace=False).reset_index(drop=True)\n",
    "#     plan_create = plan_create.drop(plan_create[plan_create['image_id'].isin(plan_result_.image_id.values)].index, axis=0)\n",
    "    plan_result_['ad_account_id'] = ad_account_id\n",
    "    plan_result = plan_result.append(plan_result_)"
   ]
  },
  {
   "cell_type": "code",
   "execution_count": 47,
   "metadata": {},
   "outputs": [],
   "source": [
    "# [SITE_SET_WECHAT] 公众号和小程序adcreative_template_id只跑1480、560、720、721、1064五种\n",
    "plan_result['site_set'] = plan_result['site_set'].map(str)\n",
    "# plan_result['site_set'] = \"['SITE_SET_MOMENTS']\"  ## TODO 固定跑朋友圈\n",
    "plan_result = plan_result[~((plan_result['site_set'] == \"['SITE_SET_WECHAT']\") & (\n",
    "    ~plan_result['adcreative_template_id'].isin([1480, 560, 720, 721, 1064])))]\n",
    "\n",
    "plan_result['location_types'] = plan_result['location_types'].apply(lambda x: ['LIVE_IN'] if x == x else x)\n",
    "\n",
    "# 修改落地页ID   N1 计划\n",
    "plan_result['page_spec'] = plan_result.apply(\n",
    "    lambda x: {'override_canvas_head_option': 'OPTION_CREATIVE_OVERRIDE_CANVAS',\n",
    "               'page_id': '2281746105'} if x.site_set == \"['SITE_SET_MOMENTS']\"\n",
    "    else ({'override_canvas_head_option': 'OPTION_CREATIVE_OVERRIDE_CANVAS',\n",
    "           'page_id': '2281760306'} if x.site_set == \"['SITE_SET_WECHAT']\" else np.nan), axis=1)\n",
    "\n",
    "# 朋友圈头像ID\n",
    "plan_result['ad_account_id'] = plan_result['ad_account_id'].map(str)\n",
    "plan_result_1 = plan_result[plan_result['site_set'] == \"['SITE_SET_MOMENTS']\"]\n",
    "plan_result_2 = plan_result[plan_result['site_set'] != \"['SITE_SET_MOMENTS']\"]\n",
    "# 明日战纪头像\n",
    "# profile_id_dict = {'9217': '555139', '9218': '555154', '9219': '555167', '9220': '555191', '9221': '555200',\n",
    "#                    '9223': '555218', '9224': '555232', '9225': '555242', '9226': '555251', '9227': '555286'}\n",
    "# # 幸存曙光头像\n",
    "# profile_id_dict = {'9217': '576018', '9218': '576029', '9219': '576037', '9220': '576054', '9221': '576082',\n",
    "#                    '9223': '576104', '9224': '576126', '9225': '576137', '9226': '576145', '9227': '576159'}\n",
    "\n",
    "# N1计划\n",
    "profile_id_dict = {'8730': '583578', '8732': '583593', '8735': '583622', '8738': '583640', '8739': '583661',\n",
    "                   '8740': '583674', '8814': '583687', '8824': '583692', '8825': '583707', '8826': '583719',\n",
    "                   '9413': '593675', '9414': '593687', '9415': '593693', '9416': '593697', '9417': '593705',\n",
    "                   '9418': '593710', '9419': '593711', '9420': '593776', '9421': '593779', '9422': '593782',\n",
    "                   '9556': '614744', '9557': '614769', '9558': '614780', '9559': '614789', '9560': '614796',\n",
    "                   '8847': '628680', '8821': '628693', '8035': '628703', '8080': '628706', '8073': '628712'}\n",
    "\n",
    "plan_result_1['profile_id'] = plan_result_1['ad_account_id'].map(profile_id_dict)\n",
    "\n",
    "plan_result = plan_result_1.append(plan_result_2)\n",
    "plan_result = plan_result.reset_index(drop=True)\n",
    "\n",
    "# 年龄定向\n",
    "plan_result['age'] = plan_result['age'].apply(lambda x: [{'min': 21, 'max': 48}])"
   ]
  },
  {
   "cell_type": "code",
   "execution_count": 48,
   "metadata": {},
   "outputs": [],
   "source": [
    "def image_size(image_id):\n",
    "    \"\"\" 匹配：素材-版位 \"\"\"\n",
    "    conn = pymysql.connect(host='db-slave-modeltoufang-001.ch', port=3306, user='model_read',\n",
    "                           passwd='aZftlm6PcFjN{DxIKOPr)BcutuJd<uYOC0P<8', db='db_ptom')\n",
    "    sql = '''\n",
    "            /*手动查询*/ \n",
    "            SELECT\n",
    "                id,\n",
    "                image_id,\n",
    "                image_name,\n",
    "                width,\n",
    "                height,\n",
    "                size\n",
    "            FROM\n",
    "                db_ptom.ptom_image_detail_info\n",
    "            WHERE\n",
    "                image_id = {}\n",
    "        '''\n",
    "    new_ids = pd.read_sql(sql.format(image_id), conn)  ## 新素材-主ID\n",
    "    size = (1280,720)\n",
    "    # 匹配\n",
    "    new_id = new_ids[(new_ids['width']==size[0]) & (new_ids['height']==size[1])]['id']\n",
    "    assert len(new_id) > 0, \"主素材{}找不到对应的{}尺寸\".format(image_id, (size[0], size[1]))\n",
    "    return new_id.values[0]"
   ]
  },
  {
   "cell_type": "code",
   "execution_count": 49,
   "metadata": {},
   "outputs": [],
   "source": [
    "for i in range(plan_result.shape[0]):\n",
    "    a = plan_result.loc[i,'adcreative_elements'].copy()\n",
    "    image_detail_id = image_size(plan_result.loc[i,'image_id'])\n",
    "    a['video'] = image_detail_id\n",
    "    a['image'] = image_detail_id\n",
    "    plan_result.loc[i,'adcreative_elements'] = str(a)"
   ]
  },
  {
   "cell_type": "code",
   "execution_count": 50,
   "metadata": {},
   "outputs": [],
   "source": [
    "# 定义组合json\n",
    "plan_result['intention'] = plan_result['intention_targeting_tags'].apply(lambda x: {'targeting_tags': x})\n",
    "plan_result.drop(['intention_targeting_tags'], axis=1, inplace=True)\n",
    "\n",
    "ad_info = []\n",
    "for i in range(plan_result.shape[0]):\n",
    "    ad_info.append(\n",
    "        json.loads(plan_result.loc[i, ['interest_category_id_list', 'interest_keyword_list']].rename(index={\n",
    "            'interest_category_id_list': 'category_id_list',\n",
    "            'interest_keyword_list': 'keyword_list'}).to_json()))\n",
    "plan_result['interest'] = ad_info\n",
    "plan_result.drop(['interest_category_id_list', 'interest_keyword_list'], axis=1, inplace=True)\n",
    "\n",
    "ad_info = []\n",
    "for i in range(plan_result.shape[0]):\n",
    "    ad_info.append(json.loads(plan_result.loc[i, 'behavior_category_id_list':'behavior_time_window'].rename(index={\n",
    "        'behavior_category_id_list': 'category_id_list',\n",
    "        'behavior_intensity': 'intensity',\n",
    "        'behavior_keyword_list': 'keyword_list',\n",
    "        'behavior_scene': 'scene',\n",
    "        'behavior_time_window': 'time_window'}).to_json()))\n",
    "plan_result['behavior'] = ad_info\n",
    "plan_result.drop(['behavior_category_id_list', 'behavior_intensity', 'behavior_keyword_list', 'behavior_scene',\n",
    "                  'behavior_time_window'], axis=1, inplace=True)\n",
    "\n",
    "plan_result['behavior'] = plan_result['behavior'].apply(lambda x: [x])\n",
    "\n",
    "ad_info = []\n",
    "for i in range(plan_result.shape[0]):\n",
    "    ad_info.append(json.loads(plan_result.loc[i, ['conversion_behavior_list', 'excluded_dimension']].to_json()))\n",
    "plan_result['excluded_converted_audience'] = ad_info\n",
    "plan_result.drop(['conversion_behavior_list', 'excluded_dimension'], axis=1, inplace=True)\n",
    "\n",
    "ad_info = []\n",
    "for i in range(plan_result.shape[0]):\n",
    "    ad_info.append(json.loads(plan_result.loc[i, ['regions', 'location_types']].to_json()))\n",
    "plan_result['geo_location'] = ad_info\n",
    "plan_result.drop(['regions', 'location_types'], axis=1, inplace=True)\n",
    "\n",
    "ad_info = []\n",
    "for i in range(plan_result.shape[0]):\n",
    "    ad_info.append(json.loads(plan_result.loc[\n",
    "                                  i, [\"device_price\", \"app_install_status\", \"gender\", \"game_consumption_level\",\n",
    "                                      \"age\", \"network_type\",\n",
    "                                      \"excluded_converted_audience\", \"geo_location\",\n",
    "                                      \"intention\", \"interest\", \"behavior\"]].to_json()))\n",
    "plan_result['targeting'] = ad_info\n",
    "plan_result.drop([\"device_price\", \"app_install_status\", \"gender\", \"game_consumption_level\", \"age\", \"network_type\",\n",
    "                  \"excluded_converted_audience\", \"geo_location\",\n",
    "                  \"intention\", \"interest\", \"behavior\"], axis=1, inplace=True)\n",
    "\n",
    "# plan_result['operation'] = 'disable'\n",
    "plan_result['plan_auto_task_id'] = \"11427,12063\"\n",
    "plan_result['op_id'] = 13268\n",
    "plan_result['flag'] = 'XQXS'\n",
    "plan_result['game_name'] = 'N1'\n",
    "plan_result['platform'] = 2\n",
    "plan_result['ad_account_id'] = plan_result['ad_account_id'].astype(int)\n",
    "plan_result['site_set'] = plan_result['site_set'].apply(ast.literal_eval)\n",
    "plan_result['adcreative_template_id'] = 720  # XQXS横版素材\n",
    "\n",
    "plan_result['link_name_type'] = 'DOWNLOAD_APP'  # 下载app\n",
    "# 一键起量\n",
    "plan_result['auto_acquisition_enabled'] = True\n",
    "plan_result['auto_acquisition_budget'] = 11111\n",
    "# 开启自动扩量\n",
    "plan_result['expand_enabled'] = True\n",
    "plan_result['expand_targeting'] = plan_result['expand_targeting'].apply(lambda x: [])\n",
    "# # 开启加速投放\n",
    "plan_result['speed_mode'] = 'SPEED_MODE_FAST'\n",
    "\n",
    "# 固定品牌名\n",
    "plan_result = plan_result.reset_index(drop=True)\n",
    "plan_result['adcreative_elements'] = plan_result['adcreative_elements'].apply(ast.literal_eval)\n",
    "for i in range(plan_result.shape[0]):\n",
    "    a = plan_result.loc[i, 'adcreative_elements'].copy()\n",
    "    a['brand'] = {'brand_name': 'n1计划', 'brand_img': 77752}\n",
    "    plan_result.loc[i, 'adcreative_elements'] = str(a)\n",
    "\n",
    "plan_result['adcreative_elements'] = plan_result['adcreative_elements'].apply(ast.literal_eval)\n",
    "\n",
    "# 出价方式  ##TODO\n",
    "plan_result['optimization_goal'] = plan_result['optimization_goal'].apply(lambda x: 'OPTIMIZATIONGOAL_APP_ACTIVATE')\n",
    "plan_result['deep_conversion_type'] = plan_result['optimization_goal'].apply(\n",
    "    lambda x: 'DEEP_CONVERSION_WORTH' if x == 'OPTIMIZATIONGOAL_APP_ACTIVATE' else np.nan)\n",
    "plan_result['deep_conversion_worth_spec'] = plan_result['optimization_goal'].apply(\n",
    "    lambda x: {'goal': 'GOAL_1DAY_PURCHASE_ROAS',\n",
    "               'expected_roi': 0.012} if x == 'OPTIMIZATIONGOAL_APP_ACTIVATE' else np.nan)\n",
    "# 固定出价\n",
    "plan_result['bid_amount'] = plan_result['optimization_goal'].apply(\n",
    "    lambda x: random.randint(21100, 22200) if x == 'OPTIMIZATIONGOAL_APP_ACTIVATE'\n",
    "    else (random.randint(210000, 220000) if x == 'OPTIMIZATIONGOAL_APP_PURCHASE'\n",
    "          else (random.randint(430000, 440000))))\n",
    "\n",
    "# 周三周四更新，凌晨不跑计划\n",
    "# plan_result['time_series'] = plan_result['time_series'].apply(\n",
    "#     lambda x: x[0:96] + '1111111111000000000011' + x[118:144] + '1111111111000000000011' + x[166:])\n",
    "plan_result['time_series'] = plan_result['time_series'].apply(lambda x:\"111111111111111111111111111111111111111111111111111111111111111111111111111111111111111111111111111111111100000000001111111111111111111111111111111111111100000000001111111111111111111111111111111111111111111111111111111111111111111111111111111111111111111111111111111111111111111111111111111111111111111111111111111111111111111111111111\")\n",
    "plan_result.drop('page_type', axis=1, inplace=True)\n",
    "plan_result.to_csv('./plan_result.csv', index=0)  # 保存创建日志"
   ]
  },
  {
   "cell_type": "code",
   "execution_count": 51,
   "metadata": {},
   "outputs": [],
   "source": [
    "def get_ad_create(plan_result):\n",
    "    ad_info = []\n",
    "    for i in range(plan_result.shape[0]):\n",
    "        ad_info.append(json.loads(plan_result.iloc[i].to_json()))\n",
    "#     open_api_url_prefix = \"https://ptom.caohua.com/\"\n",
    "    open_api_url_prefix = \"https://ptom-pre.caohua.com/\"   ## 预发布环境\n",
    "    uri = \"model/generationPlanBatchTask\"\n",
    "    url = open_api_url_prefix + uri\n",
    "    params = {\n",
    "        \"secretkey\": \"abc2018!@**@888\",\n",
    "        \"mediaId\": 16\n",
    "    }\n",
    "    rsp = requests.post(url, json=ad_info, params=params)\n",
    "    rsp_data = rsp.json()\n",
    "    print('结束....')\n",
    "    return rsp_data"
   ]
  },
  {
   "cell_type": "code",
   "execution_count": 52,
   "metadata": {},
   "outputs": [
    {
     "name": "stdout",
     "output_type": "stream",
     "text": [
      "15\n",
      "15\n",
      "结束....\n",
      "{'code': 200, 'data': True, 'msg': ''}\n"
     ]
    }
   ],
   "source": [
    "print(plan_result.shape[0])\n",
    "plan_result_seg = pd.DataFrame()\n",
    "for i in range(plan_result.shape[0]):\n",
    "    plan_result_seg = plan_result_seg.append(plan_result.iloc[i:i + 1])\n",
    "    if (i > 0 and i % 40 == 0) or i == (plan_result.shape[0] - 1):\n",
    "        plan_result_seg = plan_result_seg.reset_index(drop=True)\n",
    "        print(plan_result_seg.shape[0])\n",
    "        rsp_data = get_ad_create(plan_result_seg)\n",
    "        print(rsp_data)\n",
    "        time.sleep(200)\n",
    "        plan_result_seg = pd.DataFrame()"
   ]
  },
  {
   "cell_type": "code",
   "execution_count": null,
   "metadata": {},
   "outputs": [],
   "source": []
  },
  {
   "cell_type": "code",
   "execution_count": 72,
   "metadata": {},
   "outputs": [],
   "source": [
    "seq_sort = sorted(zip([1,3,2,4], [4,5,6,6]), key=lambda x: x[1])"
   ]
  },
  {
   "cell_type": "code",
   "execution_count": 63,
   "metadata": {},
   "outputs": [],
   "source": [
    "from itertools import groupby"
   ]
  },
  {
   "cell_type": "code",
   "execution_count": 71,
   "metadata": {},
   "outputs": [
    {
     "data": {
      "text/plain": [
       "[(4, <itertools._grouper at 0xbab84308>),\n",
       " (5, <itertools._grouper at 0xbc3072c8>),\n",
       " (6, <itertools._grouper at 0xbb119388>)]"
      ]
     },
     "execution_count": 71,
     "metadata": {},
     "output_type": "execute_result"
    }
   ],
   "source": [
    "list(groupby(sorted(zip([1,3,2,4], [4,5,6,6]), key=lambda x: x[1]), lambda x: x[1]))"
   ]
  },
  {
   "cell_type": "code",
   "execution_count": 73,
   "metadata": {},
   "outputs": [
    {
     "data": {
      "text/plain": [
       "[(1, 4), (3, 5), (2, 6), (4, 6)]"
      ]
     },
     "execution_count": 73,
     "metadata": {},
     "output_type": "execute_result"
    }
   ],
   "source": [
    "seq_sort"
   ]
  },
  {
   "cell_type": "code",
   "execution_count": 67,
   "metadata": {},
   "outputs": [
    {
     "data": {
      "text/plain": [
       "{4: 2, 5: 4, 6: 3}"
      ]
     },
     "execution_count": 67,
     "metadata": {},
     "output_type": "execute_result"
    }
   ],
   "source": [
    "{k: max(g)[0] + 1 for k, g in groupby(seq_sort, lambda x: x[1])}"
   ]
  },
  {
   "cell_type": "code",
   "execution_count": null,
   "metadata": {},
   "outputs": [],
   "source": [
    "[list(g) for k, g in groupby('AAAABBBCCD')]"
   ]
  },
  {
   "cell_type": "code",
   "execution_count": 76,
   "metadata": {},
   "outputs": [
    {
     "name": "stdout",
     "output_type": "stream",
     "text": [
      "4\n",
      "[(1, 4)]\n",
      "5\n",
      "[(3, 5)]\n",
      "6\n",
      "[(2, 6), (4, 6)]\n"
     ]
    }
   ],
   "source": [
    "for k, g in groupby(seq_sort, lambda x: x[1]):\n",
    "    print(k)\n",
    "    print(list(g))"
   ]
  },
  {
   "cell_type": "code",
   "execution_count": 77,
   "metadata": {},
   "outputs": [
    {
     "name": "stdout",
     "output_type": "stream",
     "text": [
      "4\n",
      "1\n",
      "5\n",
      "3\n",
      "6\n",
      "4\n"
     ]
    }
   ],
   "source": [
    "for k, g in groupby(seq_sort, lambda x: x[1]):\n",
    "    print(k)\n",
    "    print(max(g)[0])"
   ]
  },
  {
   "cell_type": "code",
   "execution_count": 82,
   "metadata": {},
   "outputs": [
    {
     "data": {
      "text/plain": [
       "(3, 5)"
      ]
     },
     "execution_count": 82,
     "metadata": {},
     "output_type": "execute_result"
    }
   ],
   "source": [
    "max([(2, 6), (3, 4), (3,5)])"
   ]
  },
  {
   "cell_type": "code",
   "execution_count": null,
   "metadata": {},
   "outputs": [],
   "source": []
  }
 ],
 "metadata": {
  "kernelspec": {
   "display_name": "Python 3",
   "language": "python",
   "name": "python3"
  },
  "language_info": {
   "codemirror_mode": {
    "name": "ipython",
    "version": 3
   },
   "file_extension": ".py",
   "mimetype": "text/x-python",
   "name": "python",
   "nbconvert_exporter": "python",
   "pygments_lexer": "ipython3",
   "version": "3.7.6"
  }
 },
 "nbformat": 4,
 "nbformat_minor": 4
}
