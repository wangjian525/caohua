{
 "cells": [
  {
   "cell_type": "markdown",
   "metadata": {},
   "source": [
    "# 测试脚本（安卓）"
   ]
  },
  {
   "cell_type": "code",
   "execution_count": 1,
   "metadata": {
    "ExecuteTime": {
     "end_time": "2021-10-15T07:15:23.941422Z",
     "start_time": "2021-10-15T07:15:22.771710Z"
    }
   },
   "outputs": [],
   "source": [
    "from impala.dbapi import connect\n",
    "from impala.util import as_pandas\n",
    "import pandas as pd\n",
    "import numpy as np\n",
    "import requests\n",
    "import pymysql\n",
    "import seaborn as sns"
   ]
  },
  {
   "cell_type": "code",
   "execution_count": 2,
   "metadata": {
    "ExecuteTime": {
     "end_time": "2021-10-14T07:32:05.654955Z",
     "start_time": "2021-10-14T07:32:05.646514Z"
    }
   },
   "outputs": [],
   "source": [
    "from create_plan_dt_mr_gdt import *"
   ]
  },
  {
   "cell_type": "code",
   "execution_count": 3,
   "metadata": {
    "ExecuteTime": {
     "end_time": "2021-10-14T07:34:42.925805Z",
     "start_time": "2021-10-14T07:32:05.656972Z"
    }
   },
   "outputs": [
    {
     "name": "stdout",
     "output_type": "stream",
     "text": [
      "[INFO]: 近期优质计划数据提取完毕！\n"
     ]
    }
   ],
   "source": [
    "create_plan_mr_gdt_dt = GDTCreatePlanDt()"
   ]
  },
  {
   "cell_type": "code",
   "execution_count": 4,
   "metadata": {
    "ExecuteTime": {
     "end_time": "2021-10-14T07:36:45.063050Z",
     "start_time": "2021-10-14T07:34:42.927578Z"
    }
   },
   "outputs": [
    {
     "name": "stderr",
     "output_type": "stream",
     "text": [
      "WARNING:impala._thrift_api:Unable to import 'sasl'. Fallback to 'puresasl'.\n"
     ]
    },
    {
     "name": "stdout",
     "output_type": "stream",
     "text": [
      "基准配比： 5 基准素材量： 30\n",
      "评分素材量： 34\n",
      "大R素材量： 7\n"
     ]
    },
    {
     "name": "stderr",
     "output_type": "stream",
     "text": [
      "WARNING:impala._thrift_api:Unable to import 'sasl'. Fallback to 'puresasl'.\n"
     ]
    },
    {
     "name": "stdout",
     "output_type": "stream",
     "text": [
      "起量低付费素材量： 14\n"
     ]
    },
    {
     "name": "stderr",
     "output_type": "stream",
     "text": [
      "WARNING:impala._thrift_api:Unable to import 'sasl'. Fallback to 'puresasl'.\n",
      "WARNING:impala._thrift_api:Unable to import 'sasl'. Fallback to 'puresasl'.\n"
     ]
    },
    {
     "name": "stdout",
     "output_type": "stream",
     "text": [
      "纯高量素材量 2\n"
     ]
    },
    {
     "name": "stderr",
     "output_type": "stream",
     "text": [
      "WARNING:impala._thrift_api:Unable to import 'sasl'. Fallback to 'puresasl'.\n"
     ]
    },
    {
     "name": "stdout",
     "output_type": "stream",
     "text": [
      "素材池结果 \n",
      "     image_id    weight  image_run_date_amount\n",
      "0      39345  2.660873               40436.05\n",
      "1      39302  2.641224               42778.84\n",
      "2      37282  2.832325               19992.78\n",
      "3      38489  2.782924               25883.14\n",
      "4      37812  2.022215              116586.81\n",
      "5      37965  2.747950               30053.34\n",
      "6      38335  2.756220               29067.28\n",
      "7      39417  1.000000               17802.97\n",
      "8      37774  3.803567               17566.38\n",
      "9      38835  2.648860               41868.46\n",
      "10     38396  3.435366               50493.36\n",
      "11     38670  2.948177                6179.20\n",
      "12     34335  2.593139               48512.31\n",
      "13     39377  2.674939               38758.87\n",
      "14     38613  2.734167               31696.81\n",
      "15     39573  1.000000               25382.77\n",
      "16     38141  2.740072               30992.63\n",
      "17     39425  3.637953               32376.71\n",
      "18     34373  3.639814               32210.25\n",
      "19     36075  2.908798               97582.66\n",
      "20     33114  2.703607               35340.64\n",
      "21     38991  2.075236              110264.81\n",
      "22     38100  2.447174               65916.61\n",
      "23     38554  3.737283               23493.95\n",
      "24     39282  1.000000               29274.98\n",
      "25     38550  2.944839                6577.17\n",
      "26     38683  2.928479                8527.87\n",
      "27     38652  2.687532               37257.36\n",
      "28     39138  2.964713                4207.45\n",
      "29     38624  2.887164               13454.05\n",
      "个性化配比结果： \n",
      "     image_id  score prop\n",
      "0      39417    514    3\n",
      "1      39377    559    5\n",
      "2      39345    552    5\n",
      "3      39302    581    6\n",
      "4      39282    548    4\n",
      "5      39138    569    5\n",
      "6      38991    592    6\n",
      "7      38835    550    4\n",
      "8      38683    537    4\n",
      "9      38670    530    4\n",
      "10     38652    561    5\n",
      "11     38624    559    5\n",
      "12     38613    551    5\n",
      "13     38554    525    4\n",
      "14     38550    640    7\n",
      "15     38489    554    5\n",
      "16     38396    586    6\n",
      "17     38335    549    4\n",
      "18     38141    552    5\n",
      "19     38100    670    7\n",
      "20     37965    556    5\n",
      "21     37812    612    7\n",
      "22     37774    675    7\n",
      "23     37282    608    7\n",
      "24     36075    592    6\n",
      "25     34373    547    4\n",
      "26     34335    595    6\n",
      "27     33114    642    7\n",
      "28     39425    682    7\n",
      "29     39573    535    4\n",
      "计划总数量： 159\n",
      "账号加权结果： \n",
      "    ad_account_id     roi\n",
      "0           7981  2.5553\n",
      "1           7982  0.5712\n",
      "2           7984  0.6372\n",
      "3           8035  1.5997\n",
      "4           8036  2.7769\n",
      "账号分布结果： \n",
      " 7981    63\n",
      "8036    49\n",
      "8035    30\n",
      "7984    10\n",
      "7982     7\n",
      "Name: ad_account_id, dtype: int64\n",
      "[INFO]：动态计划创建完毕！\n",
      "[INFO]上传结束...\n"
     ]
    }
   ],
   "source": [
    "df = create_plan_mr_gdt_dt.Process()"
   ]
  },
  {
   "cell_type": "markdown",
   "metadata": {},
   "source": [
    "# 测试逻辑（安卓）"
   ]
  },
  {
   "cell_type": "markdown",
   "metadata": {},
   "source": [
    "## 获取大盘基准"
   ]
  },
  {
   "cell_type": "code",
   "execution_count": 38,
   "metadata": {
    "ExecuteTime": {
     "end_time": "2021-10-14T08:02:42.557650Z",
     "start_time": "2021-10-14T08:02:42.550621Z"
    }
   },
   "outputs": [],
   "source": [
    "def base_market(amount_thresh):\n",
    "    \"\"\"[逻辑：大盘决定 基准配比值 & 素材量]\n",
    "\n",
    "    Returns:\n",
    "        [float]: [基准配比值，素材量]\n",
    "    \"\"\"\n",
    "    for day in range(1, 31):\n",
    "        sum_amount, sum_roi, sum_cost = get_roi_my(0, day, day) \n",
    "        sum_roi = sum_roi * 100\n",
    "        if sum_amount > amount_thresh*day or day >= 30:  ## 大盘达标 or 近30日大盘\n",
    "            break\n",
    "    base_prop, base_num = 5, 30\n",
    "    print(sum_roi, sum_cost)\n",
    "    # 规则1：大盘 决定 配比基准值 & 素材基准量\n",
    "    if sum_cost != 0:\n",
    "        if (sum_roi <= 1.5) & (sum_cost >= 10000):\n",
    "            base_prop, base_num =3, 20 \n",
    "        elif ((sum_roi <= 1.5) & (sum_cost < 10000)) or ((sum_roi <=1.7) & (sum_cost >= 8000)):\n",
    "            base_prop, base_num =4, 25\n",
    "        elif ((sum_roi <= 1.7) & (sum_cost < 8000)) or ((sum_roi <=2.0) & (sum_cost >= 6000)):\n",
    "            base_prop, base_num =5, 30\n",
    "        elif ((sum_roi <= 2.0) & (sum_cost < 6000)) or ((sum_roi <= 2.3) & (sum_cost >= 5000)):\n",
    "            base_prop, base_num =6, 35\n",
    "        elif ((sum_roi <= 2.3) & (sum_cost < 5000)) or ((sum_roi <= 2.5) & (sum_cost >= 4000)):\n",
    "            base_prop, base_num =7, 40\n",
    "        else:\n",
    "            base_prop, base_num =8, 45\n",
    "\n",
    "    # 规则2：个人盘 修正 极端roi的情况\n",
    "    for day in range(1, 31):\n",
    "        sum_amount, sum_roi, sum_cost = get_roi_my(0, day, day) \n",
    "        sum_roi = sum_roi * 100\n",
    "        if sum_amount > amount_thresh*day or day >= 30:\n",
    "            if sum_roi > 7.0 or sum_roi < 0.5:\n",
    "                base_prop, base_num = 5, 30   ## 个人数据异常高、低，不稳定时，采取保守策略\n",
    "            break"
   ]
  },
  {
   "cell_type": "code",
   "execution_count": 39,
   "metadata": {
    "ExecuteTime": {
     "end_time": "2021-10-14T08:02:46.240657Z",
     "start_time": "2021-10-14T08:02:42.686239Z"
    }
   },
   "outputs": [
    {
     "name": "stdout",
     "output_type": "stream",
     "text": [
      "1.6519 3878.322581\n"
     ]
    },
    {
     "data": {
      "text/plain": [
       "(5, 30)"
      ]
     },
     "execution_count": 39,
     "metadata": {},
     "output_type": "execute_result"
    }
   ],
   "source": [
    "base_market(20000)"
   ]
  },
  {
   "cell_type": "markdown",
   "metadata": {},
   "source": [
    "## 获取总素材量"
   ]
  },
  {
   "cell_type": "code",
   "execution_count": 115,
   "metadata": {
    "ExecuteTime": {
     "end_time": "2021-10-14T09:54:04.797518Z",
     "start_time": "2021-10-14T09:54:04.788582Z"
    }
   },
   "outputs": [],
   "source": [
    "def image_candidate():\n",
    "    \"\"\"[逻辑：素材分级 近期评分 & 近期递补]\n",
    "\n",
    "    Returns:\n",
    "        [list]: [备选素材]\n",
    "    \"\"\"\n",
    "    # 大盘基准\n",
    "    base_prop, base_num = base_market(20000)\n",
    "\n",
    "    # 素材储备\n",
    "    ## 评分素材\n",
    "    image_pf = np.intersect1d(get_score_image(), get_good_image())  ## 评分计划需满足：1）历史有过600评分，且当前评分580以上 and 2）有付费\n",
    "    print(\"评分素材量：\", len(image_pf))\n",
    "    pf = pd.DataFrame(image_pf, columns=['image_id'])\n",
    "    ## 近期递补 - 大R\n",
    "    image_dr = get_R_image()  ## 大R计划需满足：1）消耗4000以上 and 2）平均付费金额1000以上 or 3）存在单用户付费金额3000以上\n",
    "    print(\"大R素材量：\", len(image_dr))\n",
    "    dr = pd.DataFrame(image_dr, columns=['image_id'])\n",
    "    ## 近期递补 - 中量低付费\n",
    "    image_lz = get_lz_image()  ## 有量低付费素材需满足：1）素材总消耗10000以上 and 2）素材总回款1个点以下 and 3）素材有18的付费\n",
    "    print(\"起量低付费素材量：\", len(image_lz))\n",
    "    lz = pd.DataFrame(image_lz, columns=['image_id'])\n",
    "    ## 近期递补 - 纯高量\n",
    "    image_lg = get_lg_image()  ## 纯高量素材需满足：1）素材总消耗100000以上\n",
    "    print(\"纯高量素材量\", len(image_lg))\n",
    "    lg = pd.DataFrame(image_lg, columns=['image_id'])\n",
    "    print(\"总素材量：\", len(list(set(image_pf.tolist() + image_dr.tolist() + image_lz.tolist() + image_lg.tolist()))), \"\\n\", list(set(image_pf.tolist() + image_dr.tolist() + image_lz.tolist() + image_lg.tolist())))\n",
    "    # 素材加权\n",
    "    dr['weight'], pf['weight'], lg['weight'], lz['weight'] = 4, 3, 2, 1  ## 初始权重（可调）\n",
    "    df = dr.append(pf).append(lg).append(lz)\n",
    "    df.reset_index(drop=True, inplace=True)\n",
    "    df['weight'] = df.groupby('image_id')['weight'].transform('max')  ## TODO:素材分级加权\n",
    "    df['image_id'] = df['image_id'].astype(int)\n",
    "    df.drop_duplicates(inplace=True)\n",
    "    df.reset_index(drop=True, inplace=True)\n",
    "    # print(\"分级加权结果\", len(df), \"\\n\", df)\n",
    "\n",
    "    df = pd.merge(df, get_baseimage_amount(df['image_id'].values), on=['image_id'], how='left')  ## 2选1：平衡大盘消耗\n",
    "    # df['image_run_date_amount'] = df['image_id'].apply(get_amount_perimage_my)  ## 2选1：平衡个人盘消耗\n",
    "    df['weight'] = df.apply(lambda x:x.weight * (1 - x.image_run_date_amount / df['image_run_date_amount'].max()) if x.weight > 1 else x.weight, axis=1)  ## TODO:素材平衡消耗的降权\n",
    "    df = df.sample(n=base_num, weights=df['weight']).reset_index(drop=True)  ## 加权采样\n",
    "    print(\"素材池结果\", \"\\n\", df)"
   ]
  },
  {
   "cell_type": "code",
   "execution_count": 116,
   "metadata": {
    "ExecuteTime": {
     "end_time": "2021-10-14T09:54:59.101309Z",
     "start_time": "2021-10-14T09:54:06.093796Z"
    }
   },
   "outputs": [
    {
     "name": "stdout",
     "output_type": "stream",
     "text": [
      "1.6587999999999998 3982.453125\n"
     ]
    },
    {
     "name": "stderr",
     "output_type": "stream",
     "text": [
      "WARNING:impala._thrift_api:Unable to import 'sasl'. Fallback to 'puresasl'.\n"
     ]
    },
    {
     "name": "stdout",
     "output_type": "stream",
     "text": [
      "评分素材量： 35\n",
      "大R素材量： 12\n"
     ]
    },
    {
     "name": "stderr",
     "output_type": "stream",
     "text": [
      "WARNING:impala._thrift_api:Unable to import 'sasl'. Fallback to 'puresasl'.\n"
     ]
    },
    {
     "name": "stdout",
     "output_type": "stream",
     "text": [
      "起量低付费素材量： 14\n"
     ]
    },
    {
     "name": "stderr",
     "output_type": "stream",
     "text": [
      "WARNING:impala._thrift_api:Unable to import 'sasl'. Fallback to 'puresasl'.\n",
      "WARNING:impala._thrift_api:Unable to import 'sasl'. Fallback to 'puresasl'.\n"
     ]
    },
    {
     "name": "stdout",
     "output_type": "stream",
     "text": [
      "纯高量素材量 2\n",
      "总素材量： 51 \n",
      " [39425.0, 39427, 39302.0, 37774.0, 38670.0, 39183.0, 39441, 39573, 38550.0, 38554, 38683.0, 34335.0, 36767.0, 37282.0, 37155.0, 38652.0, 37926.0, 38823.0, 33066, 39345.0, 35378, 38835.0, 37812.0, 37046.0, 38838, 39356, 38335.0, 34373.0, 37965.0, 38991.0, 39377.0, 38354.0, 38100.0, 38613.0, 38868, 39512.0, 38489.0, 33114.0, 38622, 38624.0, 39138.0, 39141, 36075.0, 39022, 39279, 39153.0, 39282, 39417, 38396.0, 38141.0, 39423]\n",
      "素材池结果 \n",
      "     image_id    weight  image_run_date_amount\n",
      "0      39345  3.547830               40436.05\n",
      "1      38613  2.734167               31696.81\n",
      "2      38683  2.928479                8527.87\n",
      "3      34373  3.618886               34081.74\n",
      "4      39138  2.964713                4207.45\n",
      "5      38622  3.331220               59806.85\n",
      "6      37155  2.661147               40403.41\n",
      "7      39573  1.000000               27932.88\n",
      "8      37812  2.017058              117201.68\n",
      "9      39153  2.986364                1625.95\n",
      "10     37282  2.830078               20260.75\n",
      "11     38624  2.886882               13487.74\n",
      "12     39425  3.637953               32376.71\n",
      "13     33066  3.677358               28852.83\n",
      "14     38670  2.948177                6179.20\n",
      "15     39022  1.000000               24333.05\n",
      "16     38100  2.447174               65916.61\n",
      "17     35378  3.703268               26535.76\n",
      "18     38838  3.918270                7308.84\n",
      "19     39302  2.641224               42778.84\n",
      "20     39417  1.000000               17802.97\n",
      "21     38868  1.000000               84438.30\n",
      "22     38335  2.756220               29067.28\n",
      "23     38550  2.944839                6577.17\n",
      "24     38991  2.075236              110264.81\n",
      "25     39356  1.000000               11451.22\n",
      "26     33114  2.702134               35516.23\n",
      "27     38652  2.687532               37257.36\n",
      "28     36075  2.893807               98923.23\n",
      "29     38396  3.435366               50493.36\n"
     ]
    }
   ],
   "source": [
    "image_candidate()"
   ]
  },
  {
   "cell_type": "markdown",
   "metadata": {},
   "source": [
    "## 获取总ROI"
   ]
  },
  {
   "cell_type": "code",
   "execution_count": 5,
   "metadata": {
    "ExecuteTime": {
     "end_time": "2021-10-14T07:36:45.070282Z",
     "start_time": "2021-10-14T07:36:45.065000Z"
    }
   },
   "outputs": [],
   "source": [
    "def get_roi(x, y, z):\n",
    "    \"\"\" 数据：大盘roi与大盘pay_cost两个指标 \"\"\"\n",
    "    conn = pymysql.connect(host='db-slave-modelfenxi-001.ch', port=3306, user='model_read',\n",
    "                           passwd='aZftlm6PcFjN{DxIKOPr)BcutuJd<uYOC0P<8')\n",
    "    cur = conn.cursor(cursor=pymysql.cursors.DictCursor)\n",
    "    sql = '''\n",
    "       SELECT\n",
    "            aa.launch_op_id AS 'launch_op_id',\n",
    "            aa.media_id AS 'media_id',\n",
    "            sum( aa.amount ) AS 'amount',\n",
    "            IFNULL( sum( aa.create_role_num ), 0 ) AS 'create_role_num',\n",
    "            IFNULL( sum( bb.pay_role_user_num ), 0 ) AS 'pay_num',\n",
    "            IFNULL( sum( bb.new_role_money ), 0 ) AS 'pay_sum',\n",
    "            (\n",
    "         CASE\n",
    "                    WHEN ifnull( sum( aa.pay_role_user_num ), 0 )= 0 THEN\n",
    "                            IFNULL( sum( aa.amount ), 0 ) ELSE IFNULL( sum( aa.amount ), 0 ) / ifnull( sum( aa.pay_role_user_num ), 0 )\n",
    "                                                    END \n",
    "                                                    ) AS 'create_role_pay_cost', \n",
    "            (\n",
    "         CASE\n",
    "                    WHEN ifnull( sum( aa.amount ), 0 )= 0 THEN\n",
    "                            0 ELSE IFNULL( sum( aa.new_role_money ), 0 ) / ifnull( sum( aa.amount ), 0 )\n",
    "                                                    END \n",
    "                                                    ) AS 'create_role_roi' \n",
    "        FROM\n",
    "            (\n",
    "            SELECT\n",
    "                a.game_id,\n",
    "                a.channel_id,\n",
    "                a.source_id,\n",
    "                b.launch_op_id,\n",
    "                a.media_id,\n",
    "                IFNULL( sum( a.amount ), 0 ) AS amount,\n",
    "                IFNULL( sum( create_role_num ), 0 ) AS create_role_num,\n",
    "                IFNULL( sum( a.new_role_money ), 0 ) AS new_role_money,\n",
    "                IFNULL( sum( a.pay_role_user_num ), 0 ) AS pay_role_user_num\n",
    "\n",
    "            FROM\n",
    "                db_stdata.st_lauch_report a\n",
    "                INNER JOIN db_data_ptom.ptom_plan b ON a.game_id = b.game_id \n",
    "                AND a.source_id = b.source_id \n",
    "                AND a.channel_id = b.chl_user_id\n",
    "            WHERE\n",
    "                a.tdate_type = 'day' \n",
    "                AND a.tdate <= DATE_SUB( date( NOW()), INTERVAL {} DAY )  AND a.tdate >= DATE_SUB( date( NOW()), INTERVAL {} DAY ) \n",
    "                AND a.media_id = 16\n",
    "                AND a.game_id IN ( SELECT dev_game_id AS game_id FROM db_data.t_game_config WHERE game_id = 1056 AND dev_game_id IS NOT NULL ) \n",
    "                AND b.launch_op_id=13268  ## 可选：是否只看个人数据\n",
    "            GROUP BY\n",
    "                a.game_id,\n",
    "                a.channel_id,\n",
    "                a.source_id\n",
    "            ) aa\n",
    "            LEFT JOIN (\n",
    "                SELECT\n",
    "                    c.game_id,\n",
    "                    c.channel_id,\n",
    "                    c.source_id,\n",
    "                    sum( c.create_role_money ) new_role_money,\n",
    "                    IFNULL( sum( c.pay_role_user_num ), 0 ) AS pay_role_user_num \n",
    "                FROM\n",
    "                    db_stdata.st_game_days c \n",
    "                WHERE\n",
    "                    c.report_days = {} \n",
    "                    AND c.tdate = date( NOW() - INTERVAL 24 HOUR ) \n",
    "                    AND c.tdate_type = 'day' \n",
    "                    AND c.query_type = 13 \n",
    "                GROUP BY\n",
    "                    c.game_id,\n",
    "                    c.channel_id,\n",
    "                    c.source_id \n",
    "                HAVING\n",
    "                ( new_role_money > 0 OR pay_role_user_num > 0 )\n",
    "            ) bb ON aa.game_id = bb.game_id \n",
    "            AND aa.channel_id = bb.channel_id \n",
    "            AND aa.source_id = bb.source_id \n",
    "        GROUP BY\n",
    "            aa.launch_op_id,\n",
    "            aa.media_id\n",
    "    '''\n",
    "    finalSql = sql.format(x, y, z)\n",
    "    cur.execute(finalSql)\n",
    "    result_df = pd.read_sql(finalSql, conn)\n",
    "    cur.close()\n",
    "    conn.close()\n",
    "\n",
    "    return result_df['amount'].values[0] / z, result_df['create_role_roi'].values[0], result_df['create_role_pay_cost'].values[0]"
   ]
  },
  {
   "cell_type": "code",
   "execution_count": 6,
   "metadata": {
    "ExecuteTime": {
     "end_time": "2021-10-14T07:36:46.776986Z",
     "start_time": "2021-10-14T07:36:45.072266Z"
    }
   },
   "outputs": [
    {
     "data": {
      "text/plain": [
       "(119077.0, 0.016006, 4106.103448)"
      ]
     },
     "execution_count": 6,
     "metadata": {},
     "output_type": "execute_result"
    }
   ],
   "source": [
    "get_roi(0, 1, 1)  ## 输出：平均每天消耗、总回款、总付费成本"
   ]
  },
  {
   "cell_type": "markdown",
   "metadata": {},
   "source": [
    "## 获取单素材ROI"
   ]
  },
  {
   "cell_type": "code",
   "execution_count": 7,
   "metadata": {
    "ExecuteTime": {
     "end_time": "2021-10-14T07:36:46.783946Z",
     "start_time": "2021-10-14T07:36:46.779053Z"
    }
   },
   "outputs": [],
   "source": [
    "def get_roi_my_image(x, y, z):\n",
    "    \"\"\" 数据：个人盘roi指标 \"\"\"\n",
    "\n",
    "    conn = pymysql.connect(host='db-slave-modelfenxi-001.ch', port=3306, user='model_read',\n",
    "                           passwd='aZftlm6PcFjN{DxIKOPr)BcutuJd<uYOC0P<8')\n",
    "    cur = conn.cursor(cursor=pymysql.cursors.DictCursor)\n",
    "    sql = '''\n",
    "       SELECT\n",
    "            aa.launch_op_id AS 'launch_op_id',\n",
    "            aa.media_id AS 'media_id',\n",
    "            sum( aa.amount ) AS 'amount',\n",
    "            IFNULL( sum( aa.create_role_num ), 0 ) AS 'create_role_num',\n",
    "            IFNULL( sum( bb.pay_role_user_num ), 0 ) AS 'pay_num',\n",
    "            IFNULL( sum( bb.new_role_money ), 0 ) AS 'pay_sum',\n",
    "            (\n",
    "         CASE\n",
    "                    WHEN ifnull( sum( aa.pay_role_user_num ), 0 )= 0 THEN\n",
    "                            IFNULL( sum( aa.amount ), 0 ) ELSE IFNULL( sum( aa.amount ), 0 ) / ifnull( sum( aa.pay_role_user_num ), 0 )\n",
    "                                                    END \n",
    "                                                    ) AS 'create_role_pay_cost', \n",
    "            (\n",
    "         CASE\n",
    "                    WHEN ifnull( sum( aa.amount ), 0 )= 0 THEN\n",
    "                            0 ELSE IFNULL( sum( aa.new_role_money ), 0 ) / ifnull( sum( aa.amount ), 0 )\n",
    "                                                    END \n",
    "                                                    ) AS 'create_role_roi' \n",
    "        FROM\n",
    "            (\n",
    "            SELECT\n",
    "                a.game_id,\n",
    "                a.channel_id,\n",
    "                a.source_id,\n",
    "                b.launch_op_id,\n",
    "                a.media_id,\n",
    "                IFNULL( sum( a.amount ), 0 ) AS amount,\n",
    "                IFNULL( sum( create_role_num ), 0 ) AS create_role_num,\n",
    "                IFNULL( sum( a.new_role_money ), 0 ) AS new_role_money,\n",
    "                IFNULL( sum( a.pay_role_user_num ), 0 ) AS pay_role_user_num\n",
    "\n",
    "            FROM\n",
    "                db_stdata.st_lauch_report a\n",
    "                INNER JOIN db_data_ptom.ptom_plan b ON a.game_id = b.game_id \n",
    "                AND a.source_id = b.source_id \n",
    "                AND a.channel_id = b.chl_user_id\n",
    "            WHERE\n",
    "                a.tdate_type = 'day' \n",
    "                AND a.tdate <= DATE_SUB( date( NOW()), INTERVAL {} DAY )  AND a.tdate >= DATE_SUB( date( NOW()), INTERVAL {} DAY ) \n",
    "                AND a.media_id = 16\n",
    "                AND a.game_id IN ( SELECT dev_game_id AS game_id FROM db_data.t_game_config WHERE game_id = 1056 AND dev_game_id IS NOT NULL ) \n",
    "                AND b.image_id = 38622\n",
    "                AND b.launch_op_id=13268  ## 只看个人盘数据\n",
    "            GROUP BY\n",
    "                a.game_id,\n",
    "                a.channel_id,\n",
    "                a.source_id\n",
    "            ) aa\n",
    "            LEFT JOIN (\n",
    "                SELECT\n",
    "                    c.game_id,\n",
    "                    c.channel_id,\n",
    "                    c.source_id,\n",
    "                    sum( c.create_role_money ) new_role_money,\n",
    "                    IFNULL( sum( c.pay_role_user_num ), 0 ) AS pay_role_user_num \n",
    "                FROM\n",
    "                    db_stdata.st_game_days c \n",
    "                WHERE\n",
    "                    c.report_days = {} \n",
    "                    AND c.tdate = date( NOW() - INTERVAL 24 HOUR ) \n",
    "                    AND c.tdate_type = 'day' \n",
    "                    AND c.query_type = 13 \n",
    "                GROUP BY\n",
    "                    c.game_id,\n",
    "                    c.channel_id,\n",
    "                    c.source_id \n",
    "                HAVING\n",
    "                ( new_role_money > 0 OR pay_role_user_num > 0 )\n",
    "            ) bb ON aa.game_id = bb.game_id \n",
    "            AND aa.channel_id = bb.channel_id \n",
    "            AND aa.source_id = bb.source_id \n",
    "        GROUP BY\n",
    "            aa.launch_op_id,\n",
    "            aa.media_id\n",
    "    '''\n",
    "    finalSql = sql.format(x, y, z)\n",
    "    cur.execute(finalSql)\n",
    "    result_df = pd.read_sql(finalSql, conn)\n",
    "    cur.close()\n",
    "    conn.close()\n",
    "\n",
    "    return result_df['amount'].values[0], result_df['create_role_roi'].values[0]"
   ]
  },
  {
   "cell_type": "code",
   "execution_count": 8,
   "metadata": {
    "ExecuteTime": {
     "end_time": "2021-10-14T07:36:47.854665Z",
     "start_time": "2021-10-14T07:36:46.786627Z"
    }
   },
   "outputs": [
    {
     "data": {
      "text/plain": [
       "(14298.08, 0.005036)"
      ]
     },
     "execution_count": 8,
     "metadata": {},
     "output_type": "execute_result"
    }
   ],
   "source": [
    "get_roi_my_image(0, 3, 3)  ## 输出：平均每天消耗、总回款、总付费成本"
   ]
  },
  {
   "cell_type": "markdown",
   "metadata": {},
   "source": [
    "## 获取单素材AMOUNT"
   ]
  },
  {
   "cell_type": "code",
   "execution_count": 9,
   "metadata": {
    "ExecuteTime": {
     "end_time": "2021-10-14T07:36:47.861869Z",
     "start_time": "2021-10-14T07:36:47.857072Z"
    }
   },
   "outputs": [],
   "source": [
    "def get_amount_perimage_my(image_id):\n",
    "    \"\"\" 数据：个人盘指定素材的消耗量 \"\"\"\n",
    "\n",
    "    conn = pymysql.connect(host='db-slave-modelfenxi-001.ch', port=3306, user='model_read',\n",
    "                           passwd='aZftlm6PcFjN{DxIKOPr)BcutuJd<uYOC0P<8')\n",
    "    cur = conn.cursor(cursor=pymysql.cursors.DictCursor)\n",
    "    sql = '''\n",
    "       SELECT\n",
    "            aa.launch_op_id AS 'launch_op_id',\n",
    "            aa.media_id AS 'media_id',\n",
    "            sum( aa.amount ) AS 'amount',\n",
    "            IFNULL( sum( aa.create_role_num ), 0 ) AS 'create_role_num',\n",
    "            IFNULL( sum( bb.pay_role_user_num ), 0 ) AS 'pay_num',\n",
    "            IFNULL( sum( bb.new_role_money ), 0 ) AS 'pay_sum',\n",
    "            (\n",
    "         CASE\n",
    "                    WHEN ifnull( sum( aa.pay_role_user_num ), 0 )= 0 THEN\n",
    "                            IFNULL( sum( aa.amount ), 0 ) ELSE IFNULL( sum( aa.amount ), 0 ) / ifnull( sum( aa.pay_role_user_num ), 0 )\n",
    "                                                    END \n",
    "                                                    ) AS 'create_role_pay_cost', \n",
    "            (\n",
    "         CASE\n",
    "                    WHEN ifnull( sum( aa.amount ), 0 )= 0 THEN\n",
    "                            0 ELSE IFNULL( sum( aa.new_role_money ), 0 ) / ifnull( sum( aa.amount ), 0 )\n",
    "                                                    END \n",
    "                                                    ) AS 'create_role_roi' \n",
    "        FROM\n",
    "            (\n",
    "            SELECT\n",
    "                a.game_id,\n",
    "                a.channel_id,\n",
    "                a.source_id,\n",
    "                b.launch_op_id,\n",
    "                a.media_id,\n",
    "                IFNULL( sum( a.amount ), 0 ) AS amount,\n",
    "                IFNULL( sum( create_role_num ), 0 ) AS create_role_num,\n",
    "                IFNULL( sum( a.new_role_money ), 0 ) AS new_role_money,\n",
    "                IFNULL( sum( a.pay_role_user_num ), 0 ) AS pay_role_user_num\n",
    "\n",
    "            FROM\n",
    "                db_stdata.st_lauch_report a\n",
    "                INNER JOIN db_data_ptom.ptom_plan b ON a.game_id = b.game_id \n",
    "                AND a.source_id = b.source_id \n",
    "                AND a.channel_id = b.chl_user_id\n",
    "            WHERE\n",
    "                a.tdate_type = 'day' \n",
    "                AND a.tdate <= DATE_SUB( date( NOW()), INTERVAL 0 DAY )  AND a.tdate >= DATE_SUB( date( NOW()), INTERVAL 30 DAY ) \n",
    "                AND a.media_id = 16\n",
    "                AND a.game_id IN ( SELECT dev_game_id AS game_id FROM db_data.t_game_config WHERE game_id = 1056 AND dev_game_id IS NOT NULL )\n",
    "                AND b.image_id = {}\n",
    "                # AND b.launch_op_id=13268  ## 只看个人盘数据\n",
    "            GROUP BY\n",
    "                a.game_id,\n",
    "                a.channel_id,\n",
    "                a.source_id\n",
    "            ) aa\n",
    "            LEFT JOIN (\n",
    "                SELECT\n",
    "                    c.game_id,\n",
    "                    c.channel_id,\n",
    "                    c.source_id,\n",
    "                    sum( c.create_role_money ) new_role_money,\n",
    "                    IFNULL( sum( c.pay_role_user_num ), 0 ) AS pay_role_user_num \n",
    "                FROM\n",
    "                    db_stdata.st_game_days c \n",
    "                WHERE\n",
    "                    c.report_days = 30 \n",
    "                    AND c.tdate = date( NOW() - INTERVAL 24 HOUR ) \n",
    "                    AND c.tdate_type = 'day' \n",
    "                    AND c.query_type = 13 \n",
    "                GROUP BY\n",
    "                    c.game_id,\n",
    "                    c.channel_id,\n",
    "                    c.source_id \n",
    "                HAVING\n",
    "                ( new_role_money > 0 OR pay_role_user_num > 0 )\n",
    "            ) bb ON aa.game_id = bb.game_id \n",
    "            AND aa.channel_id = bb.channel_id \n",
    "            AND aa.source_id = bb.source_id \n",
    "        GROUP BY\n",
    "            aa.launch_op_id,\n",
    "            aa.media_id\n",
    "    '''\n",
    "    finalSql = sql.format(int(image_id))\n",
    "    cur.execute(finalSql)\n",
    "    result_df = pd.read_sql(finalSql, conn)\n",
    "    cur.close()\n",
    "    conn.close()\n",
    "\n",
    "    return result_df['amount'].values[0]"
   ]
  },
  {
   "cell_type": "code",
   "execution_count": 10,
   "metadata": {
    "ExecuteTime": {
     "end_time": "2021-10-14T07:36:49.460126Z",
     "start_time": "2021-10-14T07:36:47.863779Z"
    }
   },
   "outputs": [
    {
     "data": {
      "text/plain": [
       "2342.9"
      ]
     },
     "execution_count": 10,
     "metadata": {},
     "output_type": "execute_result"
    }
   ],
   "source": [
    "get_amount_perimage_my(39022.0)"
   ]
  },
  {
   "cell_type": "markdown",
   "metadata": {},
   "source": [
    "## 获取dws表结构"
   ]
  },
  {
   "cell_type": "code",
   "execution_count": 11,
   "metadata": {
    "ExecuteTime": {
     "end_time": "2021-10-14T07:36:50.689745Z",
     "start_time": "2021-10-14T07:36:49.461853Z"
    }
   },
   "outputs": [
    {
     "name": "stderr",
     "output_type": "stream",
     "text": [
      "WARNING:impala._thrift_api:Unable to import 'sasl'. Fallback to 'puresasl'.\n"
     ]
    },
    {
     "data": {
      "text/plain": [
       "Index(['dws_image_score_d.image_id', 'dws_image_score_d.image_name',\n",
       "       'dws_image_score_d.image_run_date_amount',\n",
       "       'dws_image_score_d.image_create_role_pay_num',\n",
       "       'dws_image_score_d.image_create_role_num',\n",
       "       'dws_image_score_d.image_create_role_pay_sum',\n",
       "       'dws_image_score_d.image_source_num',\n",
       "       'dws_image_score_d.image_create_role_pay_rate',\n",
       "       'dws_image_score_d.image_create_role_cost',\n",
       "       'dws_image_score_d.image_create_role_pay_cost',\n",
       "       'dws_image_score_d.image_valid_source_num',\n",
       "       'dws_image_score_d.image_valid_source_rate',\n",
       "       'dws_image_score_d.image_pay_sum_ability',\n",
       "       'dws_image_score_d.image_pay_num_ability',\n",
       "       'dws_image_score_d.image_create_role_roi',\n",
       "       'dws_image_score_d.image_create_role_retain_1d',\n",
       "       'dws_image_score_d.model_run_datetime', 'dws_image_score_d.data_win',\n",
       "       'dws_image_score_d.score', 'dws_image_score_d.image_launch_time',\n",
       "       'dws_image_score_d.image_source_total_num',\n",
       "       'dws_image_score_d.media_id', 'dws_image_score_d.label_ids',\n",
       "       'dws_image_score_d.dt', 'dws_image_score_d.hr'],\n",
       "      dtype='object')"
      ]
     },
     "execution_count": 11,
     "metadata": {},
     "output_type": "execute_result"
    }
   ],
   "source": [
    "conn = connect(host='192.168.0.97', port=10000, auth_mechanism='PLAIN', user='hadoop',\n",
    "                   password='Ycjh8FxiaoMtShZRd3-97%3hCEL0CK4ns1w', database='default')\n",
    "cursor = conn.cursor()\n",
    "sql_engine = 'set hive.execution.engine=tez'\n",
    "sql = 'select * from dws.dws_image_score_d where media_id=16 and score>=500 and dt>=date_sub(current_date, 1)'\n",
    "cursor.execute(sql_engine)\n",
    "cursor.execute(sql)\n",
    "result = as_pandas(cursor)\n",
    "result.columns"
   ]
  },
  {
   "cell_type": "markdown",
   "metadata": {},
   "source": [
    "## 获取base消耗"
   ]
  },
  {
   "cell_type": "code",
   "execution_count": 12,
   "metadata": {
    "ExecuteTime": {
     "end_time": "2021-10-14T07:36:50.695826Z",
     "start_time": "2021-10-14T07:36:50.691551Z"
    }
   },
   "outputs": [],
   "source": [
    "def get_baseimage_amount(base_image):\n",
    "    \"\"\" 数据：提取指定素材的素材累计消耗 \"\"\"\n",
    "    conn = connect(host='192.168.0.97', port=10000, auth_mechanism='PLAIN', user='hadoop',\n",
    "                   password='Ycjh8FxiaoMtShZRd3-97%3hCEL0CK4ns1w', database='default')\n",
    "    cursor = conn.cursor()\n",
    "    sql_engine = 'set hive.execution.engine=tez'\n",
    "    sql = 'select image_id,image_run_date_amount,dt from dws.dws_image_score_d where media_id=16 and dt>=date_sub(current_date, 30)'\n",
    "    cursor.execute(sql_engine)\n",
    "    cursor.execute(sql)\n",
    "    result = as_pandas(cursor)\n",
    "    result = result[result['image_id'].isin(base_image)]\n",
    "    result = result.sort_values('dt')\n",
    "    result = result.drop_duplicates(['image_id'], keep='last')  ## TODO:保留最近的1次\n",
    "    # 关闭链接\n",
    "    cursor.close()\n",
    "    conn.close()\n",
    "\n",
    "    return result[['image_id','image_run_date_amount']]"
   ]
  },
  {
   "cell_type": "code",
   "execution_count": 13,
   "metadata": {
    "ExecuteTime": {
     "end_time": "2021-10-14T07:37:18.241148Z",
     "start_time": "2021-10-14T07:36:50.697752Z"
    }
   },
   "outputs": [
    {
     "name": "stderr",
     "output_type": "stream",
     "text": [
      "WARNING:impala._thrift_api:Unable to import 'sasl'. Fallback to 'puresasl'.\n"
     ]
    },
    {
     "data": {
      "text/html": [
       "<div>\n",
       "<style scoped>\n",
       "    .dataframe tbody tr th:only-of-type {\n",
       "        vertical-align: middle;\n",
       "    }\n",
       "\n",
       "    .dataframe tbody tr th {\n",
       "        vertical-align: top;\n",
       "    }\n",
       "\n",
       "    .dataframe thead th {\n",
       "        text-align: right;\n",
       "    }\n",
       "</style>\n",
       "<table border=\"1\" class=\"dataframe\">\n",
       "  <thead>\n",
       "    <tr style=\"text-align: right;\">\n",
       "      <th></th>\n",
       "      <th>image_id</th>\n",
       "      <th>image_run_date_amount</th>\n",
       "    </tr>\n",
       "  </thead>\n",
       "  <tbody>\n",
       "    <tr>\n",
       "      <th>51121</th>\n",
       "      <td>36075</td>\n",
       "      <td>95351.36</td>\n",
       "    </tr>\n",
       "    <tr>\n",
       "      <th>51115</th>\n",
       "      <td>34373</td>\n",
       "      <td>30409.71</td>\n",
       "    </tr>\n",
       "    <tr>\n",
       "      <th>51416</th>\n",
       "      <td>37774</td>\n",
       "      <td>17566.38</td>\n",
       "    </tr>\n",
       "    <tr>\n",
       "      <th>52012</th>\n",
       "      <td>38396</td>\n",
       "      <td>60015.40</td>\n",
       "    </tr>\n",
       "  </tbody>\n",
       "</table>\n",
       "</div>"
      ],
      "text/plain": [
       "       image_id  image_run_date_amount\n",
       "51121     36075               95351.36\n",
       "51115     34373               30409.71\n",
       "51416     37774               17566.38\n",
       "52012     38396               60015.40"
      ]
     },
     "execution_count": 13,
     "metadata": {},
     "output_type": "execute_result"
    }
   ],
   "source": [
    "get_baseimage_amount([34373,36075,37774,38396])"
   ]
  },
  {
   "cell_type": "markdown",
   "metadata": {},
   "source": [
    "## 4部分素材提取测试\n",
    "* 评分素材\n",
    "* 大R素材\n",
    "* 低充素材"
   ]
  },
  {
   "cell_type": "code",
   "execution_count": 14,
   "metadata": {
    "ExecuteTime": {
     "end_time": "2021-10-14T07:37:18.246290Z",
     "start_time": "2021-10-14T07:37:18.243443Z"
    }
   },
   "outputs": [],
   "source": [
    "import datetime"
   ]
  },
  {
   "cell_type": "markdown",
   "metadata": {
    "ExecuteTime": {
     "end_time": "2021-10-12T05:56:23.607798Z",
     "start_time": "2021-10-12T05:56:23.604147Z"
    }
   },
   "source": [
    "### 评分素材"
   ]
  },
  {
   "cell_type": "code",
   "execution_count": 104,
   "metadata": {
    "ExecuteTime": {
     "end_time": "2021-10-14T09:52:03.870175Z",
     "start_time": "2021-10-14T09:52:03.861235Z"
    }
   },
   "outputs": [],
   "source": [
    "def get_score_image():\n",
    "    \"\"\" 数据：近15天的历史有过600评分且当前评分580以上 \"\"\"\n",
    "\n",
    "    conn = connect(host='192.168.0.97', port=10000, auth_mechanism='PLAIN', user='hadoop',\n",
    "                   password='Ycjh8FxiaoMtShZRd3-97%3hCEL0CK4ns1w', database='default')\n",
    "    cursor = conn.cursor()\n",
    "    sql_engine = 'set hive.execution.engine=tez'\n",
    "    sql = 'select image_id,dt from dws.dws_image_score_d where media_id=16 and score>=600 and dt>=date_sub(current_date, 30)'\n",
    "    cursor.execute(sql_engine)\n",
    "    cursor.execute(sql)\n",
    "    result_1 = as_pandas(cursor)\n",
    "    sql = 'select image_id,dt from dws.dws_image_score_d where media_id=16 and score>=550 and dt=current_date'\n",
    "    cursor.execute(sql_engine)\n",
    "    cursor.execute(sql)\n",
    "    result_2 = as_pandas(cursor)\n",
    "    result = np.intersect1d(result_1['image_id'], result_2['image_id'])\n",
    "    # 关闭链接\n",
    "    cursor.close()\n",
    "    conn.close()\n",
    "\n",
    "    return result\n",
    "\n",
    "def get_good_image():\n",
    "    \"\"\" 数据：近15天的付费计划素材 \"\"\"\n",
    "\n",
    "    conn = pymysql.connect(host='db-slave-modelfenxi-001.ch', port=3306, user='model_read',\n",
    "                           passwd='aZftlm6PcFjN{DxIKOPr)BcutuJd<uYOC0P<8')\n",
    "    cur = conn.cursor(cursor=pymysql.cursors.DictCursor)\n",
    "    sql = '''\n",
    "        SELECT\n",
    "            b.channel_id,\n",
    "            b.source_id,\n",
    "            b.tdate,\n",
    "            b.amount \n",
    "        FROM\n",
    "            db_stdata.st_lauch_report b\n",
    "        WHERE\n",
    "            b.tdate >= date( NOW() - INTERVAL 720 HOUR ) \n",
    "            AND b.tdate_type = 'day' \n",
    "            AND b.media_id = 16 \n",
    "            AND b.game_id IN ( SELECT dev_game_id AS game_id FROM db_data.t_game_config WHERE game_id = 1056 AND dev_game_id IS NOT NULL ) \n",
    "            AND b.amount >= 500\n",
    "            AND b.pay_role_user_num >= 1\n",
    "            AND b.new_role_money >= 6\n",
    "    '''\n",
    "    cur.execute(sql)\n",
    "    result_df = pd.read_sql(sql, conn)\n",
    "\n",
    "    sql = '''\n",
    "        SELECT\n",
    "            a.chl_user_id AS channel_id,\n",
    "            a.source_id,\n",
    "            a.image_id\n",
    "        FROM\n",
    "            db_data_ptom.ptom_plan a\n",
    "        WHERE\n",
    "            a.game_id IN ( SELECT dev_game_id AS game_id FROM db_data.t_game_config WHERE game_id = 1056 AND dev_game_id IS NOT NULL ) \n",
    "            AND a.media_id = 16 \n",
    "            AND a.create_time >= date( NOW() - INTERVAL 720 HOUR )\n",
    "        GROUP BY\n",
    "            a.chl_user_id,\n",
    "            a.source_id,\n",
    "            a.image_id\n",
    "    '''\n",
    "    cur.execute(sql)\n",
    "    result = pd.read_sql(sql, conn)\n",
    "    result = pd.merge(result, result_df, on=['channel_id', 'source_id'], how='right')\n",
    "    result['tdate'] = pd.to_datetime(result['tdate'])\n",
    "    result = result.sort_values('tdate')\n",
    "    result = result.drop_duplicates(['channel_id', 'source_id'], keep='last')\n",
    "    # 关闭链接\n",
    "    cur.close()\n",
    "    conn.close()\n",
    "\n",
    "    return np.unique(result['image_id'].values)"
   ]
  },
  {
   "cell_type": "code",
   "execution_count": 105,
   "metadata": {
    "ExecuteTime": {
     "end_time": "2021-10-14T09:52:13.331902Z",
     "start_time": "2021-10-14T09:52:04.229610Z"
    }
   },
   "outputs": [
    {
     "name": "stderr",
     "output_type": "stream",
     "text": [
      "WARNING:impala._thrift_api:Unable to import 'sasl'. Fallback to 'puresasl'.\n"
     ]
    },
    {
     "name": "stdout",
     "output_type": "stream",
     "text": [
      "评分素材 35 \n",
      " [33114.0, 34335.0, 34373.0, 36075.0, 36767.0, 37046.0, 37155.0, 37282.0, 37774.0, 37812.0, 37926.0, 37965.0, 38100.0, 38141.0, 38335.0, 38354.0, 38396.0, 38489.0, 38550.0, 38613.0, 38624.0, 38652.0, 38670.0, 38683.0, 38823.0, 38835.0, 38991.0, 39138.0, 39153.0, 39183.0, 39302.0, 39345.0, 39377.0, 39425.0, 39512.0]\n"
     ]
    }
   ],
   "source": [
    "image_yz = np.intersect1d(get_score_image(), get_good_image())\n",
    "print(\"评分素材\", len(image_yz), '\\n', image_yz.tolist())"
   ]
  },
  {
   "cell_type": "markdown",
   "metadata": {},
   "source": [
    "### 大R素材"
   ]
  },
  {
   "cell_type": "code",
   "execution_count": 106,
   "metadata": {
    "ExecuteTime": {
     "end_time": "2021-10-14T09:52:17.001931Z",
     "start_time": "2021-10-14T09:52:16.996930Z"
    }
   },
   "outputs": [],
   "source": [
    "def get_R_image():\n",
    "    \"\"\" 数据：近30天的已关停大R计划素材 \"\"\"\n",
    "\n",
    "    conn = pymysql.connect(host='db-slave-modelfenxi-001.ch', port=3306, user='model_read',\n",
    "                           passwd='aZftlm6PcFjN{DxIKOPr)BcutuJd<uYOC0P<8')\n",
    "    cur = conn.cursor(cursor=pymysql.cursors.DictCursor)\n",
    "    sql = '''\n",
    "        /*手动查询*/\n",
    "        SELECT\n",
    "            a.chl_user_id AS channel_id,\n",
    "            a.source_id AS source_id,\n",
    "            a.image_id,\n",
    "            b.tdate\n",
    "        FROM\n",
    "            db_data_ptom.ptom_plan a\n",
    "            LEFT JOIN db_stdata.st_lauch_report b ON a.chl_user_id = b.channel_id \n",
    "            AND a.source_id = b.source_id \n",
    "        WHERE\n",
    "            a.create_time >= date( NOW() - INTERVAL 720 HOUR )\n",
    "            AND b.tdate >= date( NOW() - INTERVAL 720 HOUR )\n",
    "            AND b.tdate_type = 'day' \n",
    "            AND b.media_id = 16\n",
    "            AND b.game_id IN ( SELECT dev_game_id AS game_id FROM db_data.t_game_config WHERE game_id = 1056 AND dev_game_id IS NOT NULL )\n",
    "            AND b.amount >= 4000\n",
    "            AND ((b.new_role_money / b.pay_role_user_num >= 2000) or (b.new_role_money >= 1000 and b.pay_role_user_num = 1))\n",
    "    '''\n",
    "    cur.execute(sql)\n",
    "    result = pd.read_sql(sql, conn)\n",
    "    result['tdate'] = pd.to_datetime(result['tdate'])\n",
    "    result = result.sort_values('tdate')\n",
    "    result = result.drop_duplicates(['channel_id', 'source_id'], keep='last')  ## TODO:保留最近的1次\n",
    "    result = result[result['tdate'].dt.date < datetime.date.today()]\n",
    "    \n",
    "    # 关闭链接\n",
    "    cur.close()\n",
    "    conn.close()\n",
    "\n",
    "    return np.unique(result['image_id'].values)"
   ]
  },
  {
   "cell_type": "code",
   "execution_count": 107,
   "metadata": {
    "ExecuteTime": {
     "end_time": "2021-10-14T09:52:22.098186Z",
     "start_time": "2021-10-14T09:52:17.691941Z"
    }
   },
   "outputs": [
    {
     "name": "stdout",
     "output_type": "stream",
     "text": [
      "大R素材 12 \n",
      " [33066, 34373, 35378, 36075, 37046, 37774, 38396, 38554, 38622, 38838, 39345, 39425]\n"
     ]
    }
   ],
   "source": [
    "image_dr = get_R_image()\n",
    "print(\"大R素材\", len(image_dr), '\\n', image_dr.tolist())"
   ]
  },
  {
   "cell_type": "code",
   "execution_count": 108,
   "metadata": {
    "ExecuteTime": {
     "end_time": "2021-10-14T09:52:22.105056Z",
     "start_time": "2021-10-14T09:52:22.100513Z"
    }
   },
   "outputs": [
    {
     "data": {
      "text/plain": [
       "array([34373., 36075., 37046., 37774., 38396., 39345., 39425.])"
      ]
     },
     "execution_count": 108,
     "metadata": {},
     "output_type": "execute_result"
    }
   ],
   "source": [
    "np.intersect1d(image_yz, image_dr)"
   ]
  },
  {
   "cell_type": "markdown",
   "metadata": {},
   "source": [
    "### 量中低充素材"
   ]
  },
  {
   "cell_type": "code",
   "execution_count": 109,
   "metadata": {
    "ExecuteTime": {
     "end_time": "2021-10-14T09:52:22.117103Z",
     "start_time": "2021-10-14T09:52:22.106998Z"
    }
   },
   "outputs": [],
   "source": [
    "def get_lz_image():\n",
    "    \"\"\" 数据：近30天的有量低充值计划素材 \"\"\"\n",
    "    \n",
    "    conn = pymysql.connect(host='db-slave-modelfenxi-001.ch', port=3306, user='model_read',\n",
    "                           passwd='aZftlm6PcFjN{DxIKOPr)BcutuJd<uYOC0P<8')\n",
    "    cur = conn.cursor(cursor=pymysql.cursors.DictCursor)\n",
    "    sql = '''\n",
    "        SELECT\n",
    "            a.chl_user_id AS channel_id,\n",
    "            a.source_id,\n",
    "            a.image_id\n",
    "        FROM\n",
    "            db_data_ptom.ptom_plan a\n",
    "            LEFT JOIN\n",
    "            db_data_ptom.ptom_image_info b\n",
    "        on a.image_id = b.image_id\n",
    "        WHERE\n",
    "            a.game_id IN ( SELECT dev_game_id AS game_id FROM db_data.t_game_config WHERE game_id = 1056 AND dev_game_id IS NOT NULL ) \n",
    "            AND a.media_id = 16\n",
    "            AND b.create_time >= date( NOW() - INTERVAL 720 HOUR )  ## 素材：创建时间在30天以内\n",
    "    '''\n",
    "    cur.execute(sql)\n",
    "    result_df = pd.read_sql(sql, conn)\n",
    "    # 关闭链接\n",
    "    cur.close()\n",
    "    conn.close()\n",
    "\n",
    "    conn = connect(host='192.168.0.97', port=10000, auth_mechanism='PLAIN', user='hadoop',\n",
    "                   password='Ycjh8FxiaoMtShZRd3-97%3hCEL0CK4ns1w', database='default')\n",
    "    cursor = conn.cursor()\n",
    "    sql_engine = 'set hive.execution.engine=tez'\n",
    "    sql = 'select image_id,image_run_date_amount,image_create_role_pay_sum,image_create_role_roi,dt from dws.dws_image_score_d where media_id=16 and dt>=date_sub(current_date, 30)'\n",
    "    cursor.execute(sql_engine)\n",
    "    cursor.execute(sql)\n",
    "    result = as_pandas(cursor)\n",
    "    result = result.sort_values('dt')\n",
    "    result = result.drop_duplicates(['image_id'], keep='last')  ## TODO:保留最近的1次\n",
    "    result = result[(result['image_run_date_amount']>10000) & (result['image_create_role_pay_sum']>18) & (result['image_create_role_roi']<0.01)]\n",
    "    result = np.intersect1d(result['image_id'], result_df['image_id'])\n",
    "    # 关闭链接\n",
    "    cur.close()\n",
    "    conn.close()\n",
    "\n",
    "    return result"
   ]
  },
  {
   "cell_type": "code",
   "execution_count": 110,
   "metadata": {
    "ExecuteTime": {
     "end_time": "2021-10-14T09:52:28.004762Z",
     "start_time": "2021-10-14T09:52:22.119150Z"
    }
   },
   "outputs": [
    {
     "name": "stderr",
     "output_type": "stream",
     "text": [
      "WARNING:impala._thrift_api:Unable to import 'sasl'. Fallback to 'puresasl'.\n"
     ]
    },
    {
     "name": "stdout",
     "output_type": "stream",
     "text": [
      "量中低充素材 14 \n",
      " [38622, 38835, 38868, 39022, 39141, 39183, 39279, 39282, 39356, 39417, 39423, 39427, 39441, 39573]\n"
     ]
    }
   ],
   "source": [
    "image_lz = get_lz_image()\n",
    "print(\"量中低充素材\", len(image_lz), '\\n', image_lz.tolist())"
   ]
  },
  {
   "cell_type": "code",
   "execution_count": 111,
   "metadata": {
    "ExecuteTime": {
     "end_time": "2021-10-14T09:52:28.012368Z",
     "start_time": "2021-10-14T09:52:28.007291Z"
    }
   },
   "outputs": [
    {
     "data": {
      "text/plain": [
       "array([38835., 39183.])"
      ]
     },
     "execution_count": 111,
     "metadata": {},
     "output_type": "execute_result"
    }
   ],
   "source": [
    "np.intersect1d(image_yz, image_lz)"
   ]
  },
  {
   "cell_type": "markdown",
   "metadata": {},
   "source": [
    "### 高消耗素材"
   ]
  },
  {
   "cell_type": "code",
   "execution_count": 112,
   "metadata": {
    "ExecuteTime": {
     "end_time": "2021-10-14T09:52:28.020406Z",
     "start_time": "2021-10-14T09:52:28.014496Z"
    }
   },
   "outputs": [],
   "source": [
    "def get_ld_image():\n",
    "    \"\"\" 数据：近30天的高量计划素材 \"\"\"\n",
    "    \n",
    "    conn = pymysql.connect(host='db-slave-modelfenxi-001.ch', port=3306, user='model_read',\n",
    "                           passwd='aZftlm6PcFjN{DxIKOPr)BcutuJd<uYOC0P<8')\n",
    "    cur = conn.cursor(cursor=pymysql.cursors.DictCursor)\n",
    "    sql = '''\n",
    "        SELECT\n",
    "            a.chl_user_id AS channel_id,\n",
    "            a.source_id,\n",
    "            a.image_id\n",
    "        FROM\n",
    "            db_data_ptom.ptom_plan a\n",
    "            LEFT JOIN\n",
    "            db_data_ptom.ptom_image_info b\n",
    "        on a.image_id = b.image_id\n",
    "        WHERE\n",
    "            a.game_id IN ( SELECT dev_game_id AS game_id FROM db_data.t_game_config WHERE game_id = 1056 AND dev_game_id IS NOT NULL ) \n",
    "            AND a.media_id = 16\n",
    "            AND b.create_time >= date( NOW() - INTERVAL 720 HOUR )  ## 素材：创建时间在30天以内\n",
    "    '''\n",
    "    cur.execute(sql)\n",
    "    result_df = pd.read_sql(sql, conn)\n",
    "    # 关闭链接\n",
    "    cur.close()\n",
    "    conn.close()\n",
    "\n",
    "    conn = connect(host='192.168.0.97', port=10000, auth_mechanism='PLAIN', user='hadoop',\n",
    "                   password='Ycjh8FxiaoMtShZRd3-97%3hCEL0CK4ns1w', database='default')\n",
    "    cursor = conn.cursor()\n",
    "    sql_engine = 'set hive.execution.engine=tez'\n",
    "    sql = 'select image_id,image_run_date_amount,dt from dws.dws_image_score_d where media_id=16 and dt>=date_sub(current_date, 30)'\n",
    "    cursor.execute(sql_engine)\n",
    "    cursor.execute(sql)\n",
    "    result = as_pandas(cursor)\n",
    "    result = result.sort_values('dt')\n",
    "    result = result.drop_duplicates(['image_id'], keep='last')  ## TODO:保留最近的1次\n",
    "    result = result[result['image_run_date_amount']>80000]\n",
    "    result = np.intersect1d(result['image_id'], result_df['image_id'])\n",
    "    # 关闭链接\n",
    "    cur.close()\n",
    "    conn.close()\n",
    "\n",
    "    return result"
   ]
  },
  {
   "cell_type": "code",
   "execution_count": 113,
   "metadata": {
    "ExecuteTime": {
     "end_time": "2021-10-14T09:52:59.190403Z",
     "start_time": "2021-10-14T09:52:28.022284Z"
    }
   },
   "outputs": [
    {
     "name": "stderr",
     "output_type": "stream",
     "text": [
      "WARNING:impala._thrift_api:Unable to import 'sasl'. Fallback to 'puresasl'.\n"
     ]
    },
    {
     "name": "stdout",
     "output_type": "stream",
     "text": [
      "量大素材 3 \n",
      " [38823, 38868, 38991]\n"
     ]
    }
   ],
   "source": [
    "image_ld = get_ld_image()\n",
    "print(\"量大素材\", len(image_ld), '\\n', image_ld.tolist())"
   ]
  },
  {
   "cell_type": "code",
   "execution_count": 114,
   "metadata": {
    "ExecuteTime": {
     "end_time": "2021-10-14T09:52:59.196504Z",
     "start_time": "2021-10-14T09:52:59.192105Z"
    }
   },
   "outputs": [
    {
     "data": {
      "text/plain": [
       "array([38835., 39183.])"
      ]
     },
     "execution_count": 114,
     "metadata": {},
     "output_type": "execute_result"
    }
   ],
   "source": [
    "np.intersect1d(image_yz, image_lz)"
   ]
  },
  {
   "cell_type": "markdown",
   "metadata": {},
   "source": [
    "## 大中小R标准区分"
   ]
  },
  {
   "cell_type": "code",
   "execution_count": 68,
   "metadata": {
    "ExecuteTime": {
     "end_time": "2021-10-14T09:27:13.943408Z",
     "start_time": "2021-10-14T09:27:13.938521Z"
    }
   },
   "outputs": [],
   "source": [
    "# def get_user_info(cursor, start_date, nday):\n",
    "#     \"\"\"\n",
    "#     :param cursor: hive数仓的游标\n",
    "#     :param start_date: 指定的统计开始日期\n",
    "#     :param nday: 指定的开区时间周期，如3代表统计开区3天内的角色行为数据\n",
    "#     :return: user_info\n",
    "#     \"\"\"\n",
    "#     sql_engine = 'set hive.execution.engine=tez'\n",
    "#     originSql = '''\n",
    "#     SELECT\n",
    "#         A.user_id AS user_id,\n",
    "#         A.mgame_id AS mgame_id,\n",
    "#         A.cp_server_no AS cp_server_no,\n",
    "#         A.role_id AS role_id,\n",
    "#         A.create_role_time AS create_role_time,\n",
    "#         A.channel_id AS channel_id,\n",
    "#         A.source_id AS source_id,\n",
    "#         A.money AS money,\n",
    "#         nvl(B.online_time,0) AS online_time,\n",
    "#         nvl(B.action,0) AS action \n",
    "#     FROM\n",
    "#         (\n",
    "#         SELECT\n",
    "#             user_id,\n",
    "#             mgame_id,\n",
    "#             cp_server_no,\n",
    "#             role_id,\n",
    "#             create_role_time,\n",
    "#             channel_id,\n",
    "#             source_id,\n",
    "#             SUM(nvl ( c.money, 0 )) AS money \n",
    "#         FROM\n",
    "#             (\n",
    "#             SELECT\n",
    "#                 a.mgame_id,\n",
    "#                 a.cp_server_no,\n",
    "#                 a.cp_role_id,\n",
    "#                 a.create_role_time,\n",
    "#                 b.channel_id,\n",
    "#                 b.source_id,\n",
    "#                 b.user_id,\n",
    "#                 b.role_id AS role_id \n",
    "#             FROM\n",
    "#                 dim.dim_mwcprole_info a,\n",
    "#                 (\n",
    "#                 SELECT\n",
    "#                     a.cp_role_id,\n",
    "#                     a.cp_server_no,\n",
    "#                     a.role_id,\n",
    "#                     a.user_id,\n",
    "#                     a.channel_id,\n",
    "#                     a.source_id,\n",
    "#                     b.mgame_id \n",
    "#                 FROM\n",
    "#                     dim.dim_mwrole_info a\n",
    "#                     JOIN dim.dim_mwgame_info b ON a.game_id = b.game_id \n",
    "#                 WHERE\n",
    "#                     a.dt >= '{start_date}' \n",
    "#                 ) b \n",
    "#             WHERE\n",
    "#                 a.dt >= '{start_date}'\n",
    "#                 AND a.mgame_id = 1056 \n",
    "#                 AND a.cp_role_id = b.cp_role_id \n",
    "#                 AND a.cp_server_no = b.cp_server_no \n",
    "#                 AND a.mgame_id = b.mgame_id \n",
    "#                 AND a.create_role_time >= '{start_date}' \n",
    "#             ) a\n",
    "#             LEFT JOIN (\n",
    "#             SELECT\n",
    "#                 a.role_id,\n",
    "#                 a.money,\n",
    "#                 a.pay_time \n",
    "#             FROM\n",
    "#                 ods.ods_product_order AS a\n",
    "#                 LEFT JOIN dim.dim_mwgame_info AS b ON a.game_id = b.game_id \n",
    "#             WHERE\n",
    "#                 a.dt >= '{start_date}'\n",
    "#                 AND b.mgame_id = 1056 \n",
    "#            UNION ALL\n",
    "#             SELECT\n",
    "#                 a.role_id,\n",
    "#                 a.money,\n",
    "#                 a.pay_time\n",
    "#             FROM\n",
    "#                 ods.ods_ios_product_order AS a\n",
    "#                 LEFT JOIN dim.dim_mwgame_info AS b ON a.game_id = b.game_id \n",
    "#             WHERE\n",
    "#                 a.dt >= '{start_date}'\n",
    "#                 AND b.mgame_id = 1056   \n",
    "#             ) c ON a.role_id = c.role_id \n",
    "#         WHERE\n",
    "#             c.pay_time IS NULL \n",
    "#             OR (\n",
    "#                 unix_timestamp( c.pay_time ) - unix_timestamp( a.create_role_time ) >= 0 \n",
    "#                 AND unix_timestamp( c.pay_time ) - unix_timestamp( a.create_role_time ) <= {nday} * 86400\n",
    "#                 AND a.create_role_time IS NOT NULL \n",
    "#                 AND unix_timestamp() - unix_timestamp( a.create_role_time ) >= {nday} * 86400\n",
    "#             ) \n",
    "#         GROUP BY\n",
    "#             a.user_id,\n",
    "#             a.mgame_id,\n",
    "#             a.cp_server_no,\n",
    "#             a.role_id,\n",
    "#             a.create_role_time,\n",
    "#             a.channel_id,\n",
    "#             a.source_id\n",
    "#         ) A\n",
    "#         LEFT JOIN (\n",
    "#         SELECT\n",
    "#             role_id,\n",
    "#         IF\n",
    "#             ( sum( online_time ) >= 0, sum( online_time ), 0 ) AS online_time,\n",
    "#             COUNT(\n",
    "#             DISTINCT date_format( login_time, 'yyyy-MM-dd' )) AS action \n",
    "#         FROM\n",
    "#             (\n",
    "#             SELECT\n",
    "#                 a.role_id,\n",
    "#                 c.login_time,\n",
    "#                 (\n",
    "#                 CASE\n",
    "\n",
    "#                         WHEN unix_timestamp(\n",
    "#                             MAX( c.active_time )) - unix_timestamp( c.login_time ) > 86400 THEN\n",
    "#                             86400 ELSE unix_timestamp(\n",
    "#                             MAX( c.active_time )) - unix_timestamp( c.login_time ) \n",
    "#                         END \n",
    "#                         ) AS online_time \n",
    "#                     FROM\n",
    "#                         (\n",
    "#                         SELECT\n",
    "#                             a.mgame_id,\n",
    "#                             a.cp_server_no,\n",
    "#                             a.cp_role_id,\n",
    "#                             a.create_role_time,\n",
    "#                             b.channel_id,\n",
    "#                             b.source_id,\n",
    "#                             b.user_id,\n",
    "#                             b.role_id AS role_id \n",
    "#                         FROM\n",
    "#                             dim.dim_mwcprole_info a,\n",
    "#                             (\n",
    "#                             SELECT\n",
    "#                                 a.cp_role_id,\n",
    "#                                 a.cp_server_no,\n",
    "#                                 a.role_id,\n",
    "#                                 a.user_id,\n",
    "#                                 a.channel_id,\n",
    "#                                 a.source_id,\n",
    "#                                 b.mgame_id \n",
    "#                             FROM\n",
    "#                                 dim.dim_mwrole_info a\n",
    "#                                 JOIN dim.dim_mwgame_info b ON a.game_id = b.game_id \n",
    "#                             WHERE\n",
    "#                                 a.dt >= '{start_date}' \n",
    "#                             ) b \n",
    "#                         WHERE\n",
    "#                             a.dt >= '{start_date}'\n",
    "#                             AND a.mgame_id = 1056                     \n",
    "#                             AND a.cp_role_id = b.cp_role_id \n",
    "#                             AND a.cp_server_no = b.cp_server_no \n",
    "#                             AND a.mgame_id = b.mgame_id \n",
    "#                             AND a.create_role_time >= '{start_date}' \n",
    "#                         ) a\n",
    "#                         LEFT JOIN (\n",
    "#                         SELECT\n",
    "#                             role_id,\n",
    "#                             active_time,\n",
    "#                             login_time \n",
    "#                         FROM\n",
    "#                             ods.ods_heart_beat a\n",
    "#                             LEFT JOIN dim.dim_mwgame_info AS b ON a.game_id = b.game_id \n",
    "#                         WHERE\n",
    "#                             a.dt >= '{start_date}'\n",
    "#                             AND b.mgame_id = 1056 \n",
    "#                         ) c ON a.role_id = c.role_id \n",
    "#                     WHERE\n",
    "#                         unix_timestamp( c.active_time ) - unix_timestamp( a.create_role_time ) >= 0 \n",
    "#                         AND unix_timestamp( c.active_time ) - unix_timestamp( a.create_role_time ) <= {nday} * 86400\n",
    "#                         AND a.create_role_time IS NOT NULL \n",
    "#                         AND unix_timestamp() - unix_timestamp( a.create_role_time ) >= {nday} * 86400\n",
    "#                     GROUP BY\n",
    "#                         a.role_id,\n",
    "#                         c.login_time \n",
    "#                     ) a \n",
    "#                 GROUP BY\n",
    "#                 role_id \n",
    "#         ) B ON A.role_id = B.role_id\n",
    "#     '''\n",
    "#     finalSql = originSql.format(start_date=start_date, nday=nday)\n",
    "#     cursor.execute(sql_engine)\n",
    "#     cursor.execute(finalSql)\n",
    "#     result = as_pandas(cursor)\n",
    "#     result['n_day'] = nday\n",
    "#     result['action'] = result['action'].clip(0, nday)\n",
    "#     # 计算大中小R分类标准\n",
    "#     result.sort_values('money', ascending=False, inplace=True)\n",
    "#     result['cum_sum'] = result['money'].cumsum()\n",
    "#     big_r_money = result[result['cum_sum'] > result['money'].sum() * 0.7]['money'].max()\n",
    "#     mid_r_money = result[result['cum_sum'] > result['money'].sum() * 0.9]['money'].max()\n",
    "#     # 进行角色分类\n",
    "#     result['user_type'] = result.apply(\n",
    "#         lambda x: 'big_R' if x.money >= big_r_money else ('mid_R' if x.money >= mid_r_money else ('small_R' if\n",
    "#                                                                                                   x.money > 0 else (\n",
    "#             'rubbish' if ((x.n_day > 3) & (x.action <= 1)) | (x.online_time <= 600) else (\n",
    "#                 'high_action' if (x.action >= 20) &\n",
    "#                                  (x.online_time >= x.n_day * 1800) else 'mid_action')))), axis=1)\n",
    "#     result.drop('cum_sum', axis=1, inplace=True)\n",
    "#     result['big_r_money_standard'] = big_r_money\n",
    "#     result['mid_r_money_standard'] = mid_r_money\n",
    "#     return result"
   ]
  },
  {
   "cell_type": "code",
   "execution_count": 69,
   "metadata": {
    "ExecuteTime": {
     "end_time": "2021-10-14T09:27:14.388834Z",
     "start_time": "2021-10-14T09:27:14.386301Z"
    }
   },
   "outputs": [],
   "source": [
    "# conn = connect(host='192.168.0.97', port=10000, auth_mechanism='PLAIN', user='hadoop',\n",
    "#                         password='Ycjh8FxiaoMtShZRd3-97%3hCEL0CK4ns1w', database='default')\n",
    "# cursor = conn.cursor()\n",
    "# get_user_info(cursor, '2021-10-01', 1)"
   ]
  },
  {
   "cell_type": "markdown",
   "metadata": {},
   "source": [
    "## 指定评分提取测试"
   ]
  },
  {
   "cell_type": "code",
   "execution_count": 26,
   "metadata": {
    "ExecuteTime": {
     "end_time": "2021-10-14T07:37:41.912595Z",
     "start_time": "2021-10-14T07:37:41.902204Z"
    }
   },
   "outputs": [],
   "source": [
    "def get_baseimage_score(base_image):\n",
    "    \"\"\" 数据：提取指定素材的当前评分 \"\"\"\n",
    "    conn = connect(host='192.168.0.97', port=10000, auth_mechanism='PLAIN', user='hadoop',\n",
    "                   password='Ycjh8FxiaoMtShZRd3-97%3hCEL0CK4ns1w', database='default')\n",
    "    cursor = conn.cursor()\n",
    "    sql_engine = 'set hive.execution.engine=tez'\n",
    "    sql = 'select image_id,score,dt from dws.dws_image_score_d where media_id=16 and dt>=date_sub(current_date, 30)'\n",
    "    cursor.execute(sql_engine)\n",
    "    cursor.execute(sql)\n",
    "    result = as_pandas(cursor)\n",
    "    result = result[result['image_id'].isin(base_image)]\n",
    "    result = result.sort_values('dt')\n",
    "    result = result.drop_duplicates(['image_id'], keep='last')  ## TODO:保留最近的1次\n",
    "    # 关闭链接\n",
    "    cursor.close()\n",
    "    conn.close()\n",
    "\n",
    "    return result"
   ]
  },
  {
   "cell_type": "code",
   "execution_count": 27,
   "metadata": {
    "ExecuteTime": {
     "end_time": "2021-10-14T07:37:41.919828Z",
     "start_time": "2021-10-14T07:37:41.914215Z"
    }
   },
   "outputs": [],
   "source": [
    "base_image = [39302,38550,38835,39138,37774,39153,39441,38489,37812,39345,37282,36767] "
   ]
  },
  {
   "cell_type": "code",
   "execution_count": 28,
   "metadata": {
    "ExecuteTime": {
     "end_time": "2021-10-14T07:37:46.017628Z",
     "start_time": "2021-10-14T07:37:41.921478Z"
    }
   },
   "outputs": [
    {
     "name": "stderr",
     "output_type": "stream",
     "text": [
      "WARNING:impala._thrift_api:Unable to import 'sasl'. Fallback to 'puresasl'.\n"
     ]
    },
    {
     "data": {
      "text/html": [
       "<div>\n",
       "<style scoped>\n",
       "    .dataframe tbody tr th:only-of-type {\n",
       "        vertical-align: middle;\n",
       "    }\n",
       "\n",
       "    .dataframe tbody tr th {\n",
       "        vertical-align: top;\n",
       "    }\n",
       "\n",
       "    .dataframe thead th {\n",
       "        text-align: right;\n",
       "    }\n",
       "</style>\n",
       "<table border=\"1\" class=\"dataframe\">\n",
       "  <thead>\n",
       "    <tr style=\"text-align: right;\">\n",
       "      <th></th>\n",
       "      <th>image_id</th>\n",
       "      <th>score</th>\n",
       "      <th>dt</th>\n",
       "    </tr>\n",
       "  </thead>\n",
       "  <tbody>\n",
       "    <tr>\n",
       "      <th>51228</th>\n",
       "      <td>39302</td>\n",
       "      <td>519</td>\n",
       "      <td>2021-10-14</td>\n",
       "    </tr>\n",
       "    <tr>\n",
       "      <th>51400</th>\n",
       "      <td>36767</td>\n",
       "      <td>550</td>\n",
       "      <td>2021-10-14</td>\n",
       "    </tr>\n",
       "    <tr>\n",
       "      <th>51410</th>\n",
       "      <td>37282</td>\n",
       "      <td>608</td>\n",
       "      <td>2021-10-14</td>\n",
       "    </tr>\n",
       "    <tr>\n",
       "      <th>51416</th>\n",
       "      <td>37774</td>\n",
       "      <td>675</td>\n",
       "      <td>2021-10-14</td>\n",
       "    </tr>\n",
       "    <tr>\n",
       "      <th>51419</th>\n",
       "      <td>37812</td>\n",
       "      <td>612</td>\n",
       "      <td>2021-10-14</td>\n",
       "    </tr>\n",
       "    <tr>\n",
       "      <th>51450</th>\n",
       "      <td>38489</td>\n",
       "      <td>554</td>\n",
       "      <td>2021-10-14</td>\n",
       "    </tr>\n",
       "    <tr>\n",
       "      <th>51453</th>\n",
       "      <td>38550</td>\n",
       "      <td>640</td>\n",
       "      <td>2021-10-14</td>\n",
       "    </tr>\n",
       "    <tr>\n",
       "      <th>51468</th>\n",
       "      <td>38835</td>\n",
       "      <td>550</td>\n",
       "      <td>2021-10-14</td>\n",
       "    </tr>\n",
       "    <tr>\n",
       "      <th>51482</th>\n",
       "      <td>39138</td>\n",
       "      <td>569</td>\n",
       "      <td>2021-10-14</td>\n",
       "    </tr>\n",
       "    <tr>\n",
       "      <th>51486</th>\n",
       "      <td>39153</td>\n",
       "      <td>620</td>\n",
       "      <td>2021-10-14</td>\n",
       "    </tr>\n",
       "    <tr>\n",
       "      <th>51507</th>\n",
       "      <td>39345</td>\n",
       "      <td>552</td>\n",
       "      <td>2021-10-14</td>\n",
       "    </tr>\n",
       "    <tr>\n",
       "      <th>52093</th>\n",
       "      <td>39441</td>\n",
       "      <td>520</td>\n",
       "      <td>2021-10-14</td>\n",
       "    </tr>\n",
       "  </tbody>\n",
       "</table>\n",
       "</div>"
      ],
      "text/plain": [
       "       image_id  score          dt\n",
       "51228     39302    519  2021-10-14\n",
       "51400     36767    550  2021-10-14\n",
       "51410     37282    608  2021-10-14\n",
       "51416     37774    675  2021-10-14\n",
       "51419     37812    612  2021-10-14\n",
       "51450     38489    554  2021-10-14\n",
       "51453     38550    640  2021-10-14\n",
       "51468     38835    550  2021-10-14\n",
       "51482     39138    569  2021-10-14\n",
       "51486     39153    620  2021-10-14\n",
       "51507     39345    552  2021-10-14\n",
       "52093     39441    520  2021-10-14"
      ]
     },
     "execution_count": 28,
     "metadata": {},
     "output_type": "execute_result"
    }
   ],
   "source": [
    "get_baseimage_score(base_image)"
   ]
  },
  {
   "cell_type": "markdown",
   "metadata": {},
   "source": [
    "## 指定账号的roi测试"
   ]
  },
  {
   "cell_type": "code",
   "execution_count": 29,
   "metadata": {
    "ExecuteTime": {
     "end_time": "2021-10-14T07:37:46.024738Z",
     "start_time": "2021-10-14T07:37:46.019338Z"
    }
   },
   "outputs": [],
   "source": [
    "def get_roi_peraccount_my(ad_account_id):\n",
    "    \"\"\" 数据：大盘roi与大盘pay_cost两个指标 \"\"\"\n",
    "    conn = pymysql.connect(host='db-slave-modelfenxi-001.ch', port=3306, user='model_read',\n",
    "                           passwd='aZftlm6PcFjN{DxIKOPr)BcutuJd<uYOC0P<8')\n",
    "    cur = conn.cursor(cursor=pymysql.cursors.DictCursor)\n",
    "    sql = '''\n",
    "       SELECT\n",
    "            aa.launch_op_id AS 'launch_op_id',\n",
    "            aa.media_id AS 'media_id',\n",
    "            sum( aa.amount ) AS 'amount',\n",
    "            IFNULL( sum( aa.create_role_num ), 0 ) AS 'create_role_num',\n",
    "            IFNULL( sum( bb.pay_role_user_num ), 0 ) AS 'pay_num',\n",
    "            IFNULL( sum( bb.new_role_money ), 0 ) AS 'pay_sum',\n",
    "            (\n",
    "         CASE\n",
    "                    WHEN ifnull( sum( aa.pay_role_user_num ), 0 )= 0 THEN\n",
    "                            IFNULL( sum( aa.amount ), 0 ) ELSE IFNULL( sum( aa.amount ), 0 ) / ifnull( sum( aa.pay_role_user_num ), 0 )\n",
    "                                                    END \n",
    "                                                    ) AS 'create_role_pay_cost', \n",
    "            (\n",
    "         CASE\n",
    "                    WHEN ifnull( sum( aa.amount ), 0 )= 0 THEN\n",
    "                            0 ELSE IFNULL( sum( aa.new_role_money ), 0 ) / ifnull( sum( aa.amount ), 0 )\n",
    "                                                    END \n",
    "                                                    ) AS 'create_role_roi' \n",
    "        FROM\n",
    "            (\n",
    "            SELECT\n",
    "                a.game_id,\n",
    "                a.channel_id,\n",
    "                a.source_id,\n",
    "                b.launch_op_id,\n",
    "                a.media_id,\n",
    "                IFNULL( sum( a.amount ), 0 ) AS amount,\n",
    "                IFNULL( sum( create_role_num ), 0 ) AS create_role_num,\n",
    "                IFNULL( sum( a.new_role_money ), 0 ) AS new_role_money,\n",
    "                IFNULL( sum( a.pay_role_user_num ), 0 ) AS pay_role_user_num\n",
    "\n",
    "            FROM\n",
    "                db_stdata.st_lauch_report a\n",
    "                INNER JOIN db_data_ptom.ptom_plan b ON a.game_id = b.game_id \n",
    "                AND a.source_id = b.source_id \n",
    "                AND a.channel_id = b.chl_user_id\n",
    "            WHERE\n",
    "                a.tdate_type = 'day' \n",
    "                AND a.tdate <= DATE_SUB( date( NOW()), INTERVAL 0 DAY )  AND a.tdate >= DATE_SUB( date( NOW()), INTERVAL 30 DAY ) \n",
    "                AND a.media_id = 16\n",
    "                AND a.game_id IN ( SELECT dev_game_id AS game_id FROM db_data.t_game_config WHERE game_id = 1056 AND dev_game_id IS NOT NULL ) \n",
    "                AND b.ad_account_id = {}\n",
    "                # AND b.launch_op_id=13268  ## 可选：是否只看个人数据\n",
    "            GROUP BY\n",
    "                a.game_id,\n",
    "                a.channel_id,\n",
    "                a.source_id\n",
    "            ) aa\n",
    "            LEFT JOIN (\n",
    "                SELECT\n",
    "                    c.game_id,\n",
    "                    c.channel_id,\n",
    "                    c.source_id,\n",
    "                    sum( c.create_role_money ) new_role_money,\n",
    "                    IFNULL( sum( c.pay_role_user_num ), 0 ) AS pay_role_user_num \n",
    "                FROM\n",
    "                    db_stdata.st_game_days c \n",
    "                WHERE\n",
    "                    c.report_days = 30\n",
    "                    AND c.tdate = date( NOW() - INTERVAL 24 HOUR ) \n",
    "                    AND c.tdate_type = 'day' \n",
    "                    AND c.query_type = 13 \n",
    "                GROUP BY\n",
    "                    c.game_id,\n",
    "                    c.channel_id,\n",
    "                    c.source_id \n",
    "                HAVING\n",
    "                ( new_role_money > 0 OR pay_role_user_num > 0 )\n",
    "            ) bb ON aa.game_id = bb.game_id \n",
    "            AND aa.channel_id = bb.channel_id \n",
    "            AND aa.source_id = bb.source_id \n",
    "        GROUP BY\n",
    "            aa.launch_op_id,\n",
    "            aa.media_id\n",
    "    '''\n",
    "    finalSql = sql.format(ad_account_id)\n",
    "    cur.execute(finalSql)\n",
    "    result_df = pd.read_sql(finalSql, conn)\n",
    "    cur.close()\n",
    "    conn.close()\n",
    "\n",
    "    return result_df['amount'].values[0], result_df['pay_sum'].values[0], result_df['create_role_roi'].values[0]"
   ]
  },
  {
   "cell_type": "code",
   "execution_count": 30,
   "metadata": {
    "ExecuteTime": {
     "end_time": "2021-10-14T07:37:53.731855Z",
     "start_time": "2021-10-14T07:37:46.026663Z"
    }
   },
   "outputs": [
    {
     "data": {
      "text/plain": [
       "(0.0, 304.0, 0.0)"
      ]
     },
     "execution_count": 30,
     "metadata": {},
     "output_type": "execute_result"
    }
   ],
   "source": [
    "get_roi_peraccount_my(7983)"
   ]
  },
  {
   "cell_type": "code",
   "execution_count": 31,
   "metadata": {
    "ExecuteTime": {
     "end_time": "2021-10-14T07:38:01.569440Z",
     "start_time": "2021-10-14T07:37:53.733695Z"
    }
   },
   "outputs": [
    {
     "data": {
      "text/plain": [
       "(283082.92, 96668.0, 0.010986)"
      ]
     },
     "execution_count": 31,
     "metadata": {},
     "output_type": "execute_result"
    }
   ],
   "source": [
    "get_roi_peraccount_my(7984)"
   ]
  },
  {
   "cell_type": "markdown",
   "metadata": {},
   "source": [
    "# 测试脚本（IOS）"
   ]
  },
  {
   "cell_type": "code",
   "execution_count": 1,
   "metadata": {
    "ExecuteTime": {
     "end_time": "2021-10-15T07:40:17.602164Z",
     "start_time": "2021-10-15T07:40:16.442985Z"
    }
   },
   "outputs": [],
   "source": [
    "from impala.dbapi import connect\n",
    "from impala.util import as_pandas\n",
    "import pandas as pd\n",
    "import numpy as np\n",
    "import requests\n",
    "import pymysql\n",
    "import seaborn as sns"
   ]
  },
  {
   "cell_type": "code",
   "execution_count": 2,
   "metadata": {
    "ExecuteTime": {
     "end_time": "2021-10-15T07:40:17.614624Z",
     "start_time": "2021-10-15T07:40:17.603774Z"
    }
   },
   "outputs": [],
   "source": [
    "from create_plan_dt_mr_gdt_ios import *"
   ]
  },
  {
   "cell_type": "code",
   "execution_count": 3,
   "metadata": {
    "ExecuteTime": {
     "end_time": "2021-10-15T07:41:39.694462Z",
     "start_time": "2021-10-15T07:40:17.617441Z"
    }
   },
   "outputs": [
    {
     "name": "stdout",
     "output_type": "stream",
     "text": [
      "[INFO]: 近期优质计划数据提取完毕！\n"
     ]
    }
   ],
   "source": [
    "create_plan_mr_gdt_ios_dt = GDTCreatePlanDtIOS()"
   ]
  },
  {
   "cell_type": "code",
   "execution_count": 4,
   "metadata": {
    "ExecuteTime": {
     "end_time": "2021-10-15T07:42:42.745375Z",
     "start_time": "2021-10-15T07:41:39.696129Z"
    }
   },
   "outputs": [
    {
     "name": "stderr",
     "output_type": "stream",
     "text": [
      "WARNING:impala._thrift_api:Unable to import 'sasl'. Fallback to 'puresasl'.\n"
     ]
    },
    {
     "name": "stdout",
     "output_type": "stream",
     "text": [
      "基准配比： 3 基准素材量： 10\n",
      "评分素材量： 13\n",
      "大R素材量： 7\n"
     ]
    },
    {
     "name": "stderr",
     "output_type": "stream",
     "text": [
      "WARNING:impala._thrift_api:Unable to import 'sasl'. Fallback to 'puresasl'.\n"
     ]
    },
    {
     "name": "stdout",
     "output_type": "stream",
     "text": [
      "起量低付费素材量： 13\n"
     ]
    },
    {
     "name": "stderr",
     "output_type": "stream",
     "text": [
      "WARNING:impala._thrift_api:Unable to import 'sasl'. Fallback to 'puresasl'.\n",
      "WARNING:impala._thrift_api:Unable to import 'sasl'. Fallback to 'puresasl'.\n"
     ]
    },
    {
     "name": "stdout",
     "output_type": "stream",
     "text": [
      "纯高量素材量 2\n",
      "总素材量： 30 \n",
      " [39425, 39561, 37774, 39183, 39442, 39577, 38554, 38683.0, 38396.0, 34335.0, 37926.0, 38823.0, 33066.0, 39345, 38835, 37812.0, 38838, 39606, 39612, 39614, 34373, 38991.0, 39377.0, 38489.0, 33114.0, 39138.0, 39654, 36075.0, 39417, 38652]\n"
     ]
    },
    {
     "name": "stderr",
     "output_type": "stream",
     "text": [
      "WARNING:impala._thrift_api:Unable to import 'sasl'. Fallback to 'puresasl'.\n"
     ]
    },
    {
     "name": "stdout",
     "output_type": "stream",
     "text": [
      "素材池结果 \n",
      "    image_id    weight  image_run_date_amount\n",
      "0     38835  1.747510               61357.66\n",
      "1     39377  7.223624               47166.81\n",
      "2     39417  1.919185               19638.89\n",
      "3     37926  7.214591               47715.60\n",
      "4     33114  7.472371               32054.78\n",
      "5     39138  7.965993                2066.04\n",
      "6     37774  5.821797               14435.04\n",
      "7     38683  7.929138                4305.04\n",
      "8     38489  7.533662               28331.24\n",
      "9     34335  6.608474               84538.75\n",
      "个性化配比结果： \n",
      "    image_id  score  prop\n",
      "0     39138    615     5\n",
      "1     38835    556     3\n",
      "2     38683    593     4\n",
      "3     38489    582     4\n",
      "4     37926    583     4\n",
      "5     37774    564     3\n",
      "6     34335    602     5\n",
      "7     33114    644     5\n",
      "8     39377    593     4\n",
      "9     39417    546     3\n",
      "计划总数量： 40\n",
      "账号加权结果： \n",
      "    ad_account_id  roi\n",
      "0           9218    1\n",
      "1           9219    1\n",
      "2           9220    1\n",
      "3           9221    1\n",
      "4           9224    1\n",
      "5           9225    1\n",
      "6           9226    1\n",
      "7           9227    1\n",
      "账号分布结果： \n",
      " 9227    11\n",
      "9226     5\n",
      "9225     5\n",
      "9221     5\n",
      "9219     5\n",
      "9224     4\n",
      "9218     3\n",
      "9220     2\n",
      "Name: ad_account_id, dtype: int64\n",
      "OPTIMIZATIONGOAL_APP_ACTIVATE      159\n",
      "OPTIMIZATIONGOAL_FIRST_PURCHASE     70\n",
      "OPTIMIZATIONGOAL_APP_PURCHASE        1\n",
      "Name: optimization_goal, dtype: int64\n",
      "['SITE_SET_QQ_MUSIC_GAME', 'SITE_SET_KANDIAN', 'SITE_SET_TENCENT_NEWS', 'SITE_SET_TENCENT_VIDEO', 'SITE_SET_MOBILE_UNION']    107\n",
      "['SITE_SET_MOMENTS']                                                                                                           78\n",
      "['SITE_SET_QQ_MUSIC_GAME', 'SITE_SET_KANDIAN', 'SITE_SET_TENCENT_NEWS', 'SITE_SET_TENCENT_VIDEO']                              21\n",
      "nan                                                                                                                            21\n",
      "['SITE_SET_QQ_MUSIC_GAME', 'SITE_SET_KANDIAN', 'SITE_SET_TENCENT_VIDEO']                                                        2\n",
      "['SITE_SET_QQ_MUSIC_GAME', 'SITE_SET_KANDIAN', 'SITE_SET_TENCENT_NEWS', 'SITE_SET_TENCENT_VIDEO', 'SITE_SET_WECHAT']            1\n",
      "Name: site_set, dtype: int64\n",
      "False    209\n",
      "True      21\n",
      "Name: automatic_site_enabled, dtype: int64\n",
      "[INFO]：动态计划创建完毕！\n"
     ]
    }
   ],
   "source": [
    "df = create_plan_mr_gdt_ios_dt.Process()"
   ]
  },
  {
   "cell_type": "markdown",
   "metadata": {},
   "source": [
    "# 测试逻辑（IOS）"
   ]
  },
  {
   "cell_type": "markdown",
   "metadata": {},
   "source": [
    "## 获取大盘基准"
   ]
  },
  {
   "cell_type": "code",
   "execution_count": 134,
   "metadata": {
    "ExecuteTime": {
     "end_time": "2021-10-15T06:40:13.375401Z",
     "start_time": "2021-10-15T06:40:13.368104Z"
    }
   },
   "outputs": [],
   "source": [
    "def base_market(amount_thresh):\n",
    "    \"\"\"[逻辑：大盘决定 基准配比值 & 素材量]\n",
    "\n",
    "    Returns:\n",
    "        [float]: [基准配比值，素材量]\n",
    "    \"\"\"\n",
    "    for day in range(3, 31):\n",
    "        sum_amount, sum_roi, sum_cost = get_roi(0, day, day) \n",
    "        sum_roi = sum_roi * 100\n",
    "        if sum_amount > amount_thresh*day or day >= 30:  ## 大盘达标 or 近30日大盘\n",
    "            break\n",
    "    base_prop, base_num = 5, 30\n",
    "    print(sum_roi, sum_cost)\n",
    "    # 规则1：大盘 决定 配比基准值 & 素材基准量\n",
    "    if sum_cost != 0:\n",
    "        if (sum_roi <= 0.5) & (sum_cost >= 600):\n",
    "            base_prop, base_num =2, 5 \n",
    "        elif ((sum_roi <= 0.5) & (sum_cost < 600)) or ((sum_roi <=0.8) & (sum_cost >= 400)):\n",
    "            base_prop, base_num =3, 10\n",
    "        elif ((sum_roi <= 0.8) & (sum_cost < 400)) or ((sum_roi <=1.0) & (sum_cost >= 300)):\n",
    "            base_prop, base_num =4, 15\n",
    "        elif ((sum_roi <= 1.0) & (sum_cost < 300)) or ((sum_roi <= 1.5) & (sum_cost >= 200)):\n",
    "            base_prop, base_num =5, 20\n",
    "        elif ((sum_roi <= 1.5) & (sum_cost < 200)) or ((sum_roi <= 2.0) & (sum_cost >= 100)):\n",
    "            base_prop, base_num =6, 25\n",
    "        else:\n",
    "            base_prop, base_num =7, 30\n",
    "\n",
    "    # 规则2：个人盘 修正 极端roi的情况\n",
    "    for day in range(3, 31):\n",
    "        sum_amount, sum_roi, sum_cost = get_roi(0, day, day) \n",
    "        sum_roi = sum_roi * 100\n",
    "        if sum_amount > amount_thresh*day or day >= 30:\n",
    "            if sum_roi > 5.0 or sum_roi < 0.3:\n",
    "                base_prop, base_num = 3, 10   ## 个人数据异常高、低，不稳定时，采取保守策略\n",
    "            break\n",
    "    return base_prop, base_num"
   ]
  },
  {
   "cell_type": "code",
   "execution_count": 135,
   "metadata": {
    "ExecuteTime": {
     "end_time": "2021-10-15T06:40:17.294952Z",
     "start_time": "2021-10-15T06:40:13.527477Z"
    }
   },
   "outputs": [
    {
     "name": "stdout",
     "output_type": "stream",
     "text": [
      "0.41190000000000004 212.495865\n"
     ]
    },
    {
     "data": {
      "text/plain": [
       "(3, 10)"
      ]
     },
     "execution_count": 135,
     "metadata": {},
     "output_type": "execute_result"
    }
   ],
   "source": [
    "base_market(50000)"
   ]
  },
  {
   "cell_type": "markdown",
   "metadata": {},
   "source": [
    "## 获取总ROI"
   ]
  },
  {
   "cell_type": "code",
   "execution_count": 133,
   "metadata": {
    "ExecuteTime": {
     "end_time": "2021-10-15T06:40:10.055148Z",
     "start_time": "2021-10-15T06:40:10.049069Z"
    }
   },
   "outputs": [],
   "source": [
    "def get_roi(x, y, z):\n",
    "    \"\"\" 数据：大盘roi与大盘pay_cost两个指标 \"\"\"\n",
    "\n",
    "    conn = pymysql.connect(host='db-slave-modelfenxi-001.ch', port=3306, user='model_read',\n",
    "                           passwd='aZftlm6PcFjN{DxIKOPr)BcutuJd<uYOC0P<8')\n",
    "    cur = conn.cursor(cursor=pymysql.cursors.DictCursor)\n",
    "    sql = '''\n",
    "       SELECT\n",
    "            aa.launch_op_id AS 'launch_op_id',\n",
    "            aa.media_id AS 'media_id',\n",
    "            sum( aa.amount ) AS 'amount',\n",
    "            IFNULL( sum( aa.create_role_num ), 0 ) AS 'create_role_num',\n",
    "            IFNULL( sum( bb.pay_role_user_num ), 0 ) AS 'pay_num',\n",
    "            IFNULL( sum( bb.new_role_money ), 0 ) AS 'pay_sum',\n",
    "            (\n",
    "         CASE\n",
    "                    WHEN ifnull( sum( aa.pay_role_user_num ), 0 )= 0 THEN\n",
    "                            IFNULL( sum( aa.amount ), 0 ) ELSE IFNULL( sum( aa.amount ), 0 ) / ifnull( sum( aa.create_role_num ), 0 )\n",
    "                                                    END \n",
    "                                                    ) AS 'create_role_cost', \n",
    "            (\n",
    "         CASE\n",
    "                    WHEN ifnull( sum( aa.amount ), 0 )= 0 THEN\n",
    "                            0 ELSE IFNULL( sum( aa.new_role_money ), 0 ) / ifnull( sum( aa.amount ), 0 )\n",
    "                                                    END \n",
    "                                                    ) AS 'create_role_roi' \n",
    "        FROM\n",
    "            (\n",
    "            SELECT\n",
    "                a.game_id,\n",
    "                a.channel_id,\n",
    "                a.source_id,\n",
    "                b.launch_op_id,\n",
    "                a.media_id,\n",
    "                IFNULL( sum( a.amount ), 0 ) AS amount,\n",
    "                IFNULL( sum( create_role_num ), 0 ) AS create_role_num,\n",
    "                IFNULL( sum( a.new_role_money ), 0 ) AS new_role_money,\n",
    "                IFNULL( sum( a.pay_role_user_num ), 0 ) AS pay_role_user_num\n",
    "\n",
    "            FROM\n",
    "                db_stdata.st_lauch_report a\n",
    "                INNER JOIN db_data_ptom.ptom_plan b ON a.game_id = b.game_id \n",
    "                AND a.source_id = b.source_id \n",
    "                AND a.channel_id = b.chl_user_id\n",
    "            WHERE\n",
    "                a.tdate_type = 'day' \n",
    "                AND a.tdate <= DATE_SUB( date( NOW()), INTERVAL {} DAY )  AND a.tdate >= DATE_SUB( date( NOW()), INTERVAL {} DAY ) \n",
    "                AND a.media_id = 16\n",
    "                AND a.game_id IN ( 1001444,1001446,1001447 ) \n",
    "            GROUP BY\n",
    "                a.game_id,\n",
    "                a.channel_id,\n",
    "                a.source_id\n",
    "            ) aa\n",
    "            LEFT JOIN (\n",
    "                SELECT\n",
    "                    c.game_id,\n",
    "                    c.channel_id,\n",
    "                    c.source_id,\n",
    "                    sum( c.create_role_money ) new_role_money,\n",
    "                    IFNULL( sum( c.pay_role_user_num ), 0 ) AS pay_role_user_num \n",
    "                FROM\n",
    "                    db_stdata.st_game_days c \n",
    "                WHERE\n",
    "                    c.report_days = {} \n",
    "                    AND c.tdate = date( NOW() - INTERVAL 24 HOUR ) \n",
    "                    AND c.tdate_type = 'day' \n",
    "                    AND c.query_type = 13 \n",
    "                GROUP BY\n",
    "                    c.game_id,\n",
    "                    c.channel_id,\n",
    "                    c.source_id \n",
    "                HAVING\n",
    "                ( new_role_money > 0 OR pay_role_user_num > 0 )\n",
    "            ) bb ON aa.game_id = bb.game_id \n",
    "            AND aa.channel_id = bb.channel_id \n",
    "            AND aa.source_id = bb.source_id \n",
    "        GROUP BY\n",
    "            aa.launch_op_id,\n",
    "            aa.media_id\n",
    "    '''\n",
    "    finalSql = sql.format(x, y, z)\n",
    "    cur.execute(finalSql)\n",
    "    result_df = pd.read_sql(finalSql, conn)\n",
    "    cur.close()\n",
    "    conn.close()\n",
    "\n",
    "    return result_df['amount'].values[0], result_df['create_role_roi'].values[0], result_df['create_role_cost'].values[0]"
   ]
  },
  {
   "cell_type": "code",
   "execution_count": 124,
   "metadata": {
    "ExecuteTime": {
     "end_time": "2021-10-15T06:25:26.279176Z",
     "start_time": "2021-10-15T06:25:24.494488Z"
    }
   },
   "outputs": [
    {
     "data": {
      "text/plain": [
       "(255003.3, 0.004125, 212.857513)"
      ]
     },
     "execution_count": 124,
     "metadata": {},
     "output_type": "execute_result"
    }
   ],
   "source": [
    "get_roi(0, 3, 3)  ## 输出：平均每天消耗、总回款、总付费成本"
   ]
  },
  {
   "cell_type": "code",
   "execution_count": null,
   "metadata": {},
   "outputs": [],
   "source": []
  },
  {
   "cell_type": "code",
   "execution_count": null,
   "metadata": {},
   "outputs": [],
   "source": []
  },
  {
   "cell_type": "code",
   "execution_count": null,
   "metadata": {},
   "outputs": [],
   "source": []
  }
 ],
 "metadata": {
  "kernelspec": {
   "display_name": "Python 3",
   "language": "python",
   "name": "python3"
  },
  "language_info": {
   "codemirror_mode": {
    "name": "ipython",
    "version": 3
   },
   "file_extension": ".py",
   "mimetype": "text/x-python",
   "name": "python",
   "nbconvert_exporter": "python",
   "pygments_lexer": "ipython3",
   "version": "3.7.6"
  },
  "toc": {
   "base_numbering": 1,
   "nav_menu": {},
   "number_sections": true,
   "sideBar": true,
   "skip_h1_title": false,
   "title_cell": "Table of Contents",
   "title_sidebar": "Contents",
   "toc_cell": false,
   "toc_position": {
    "height": "calc(100% - 180px)",
    "left": "10px",
    "top": "150px",
    "width": "384px"
   },
   "toc_section_display": true,
   "toc_window_display": true
  }
 },
 "nbformat": 4,
 "nbformat_minor": 5
}
