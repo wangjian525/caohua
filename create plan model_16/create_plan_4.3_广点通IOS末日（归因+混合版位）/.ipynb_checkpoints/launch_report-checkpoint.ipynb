{
 "cells": [
  {
   "cell_type": "code",
   "execution_count": 1,
   "metadata": {},
   "outputs": [],
   "source": [
    "import pandas as pd"
   ]
  },
  {
   "cell_type": "code",
   "execution_count": 10,
   "metadata": {},
   "outputs": [],
   "source": [
    "import pandas as pd\n",
    "import numpy as np\n",
    "import json\n",
    "from sklearn.model_selection import train_test_split\n",
    "from sklearn.decomposition import PCA\n",
    "from sklearn.preprocessing import LabelEncoder, MinMaxScaler\n",
    "import gc\n",
    "import warnings\n",
    "import requests\n",
    "\n",
    "warnings.filterwarnings('ignore')\n",
    "import lightgbm as lgb\n",
    "from impala.dbapi import connect\n",
    "from impala.util import as_pandas\n",
    "import pymysql\n",
    "import logging"
   ]
  },
  {
   "cell_type": "code",
   "execution_count": 3,
   "metadata": {},
   "outputs": [],
   "source": [
    "launch_report = pd.read_csv('./hist_data/launch_report.csv')"
   ]
  },
  {
   "cell_type": "code",
   "execution_count": 4,
   "metadata": {},
   "outputs": [
    {
     "data": {
      "text/html": [
       "<div>\n",
       "<style scoped>\n",
       "    .dataframe tbody tr th:only-of-type {\n",
       "        vertical-align: middle;\n",
       "    }\n",
       "\n",
       "    .dataframe tbody tr th {\n",
       "        vertical-align: top;\n",
       "    }\n",
       "\n",
       "    .dataframe thead th {\n",
       "        text-align: right;\n",
       "    }\n",
       "</style>\n",
       "<table border=\"1\" class=\"dataframe\">\n",
       "  <thead>\n",
       "    <tr style=\"text-align: right;\">\n",
       "      <th></th>\n",
       "      <th>tdate</th>\n",
       "      <th>channel_id</th>\n",
       "      <th>source_id</th>\n",
       "      <th>amount</th>\n",
       "      <th>create_role_num</th>\n",
       "      <th>pay_role_user_num</th>\n",
       "      <th>new_role_money</th>\n",
       "    </tr>\n",
       "  </thead>\n",
       "  <tbody>\n",
       "    <tr>\n",
       "      <th>0</th>\n",
       "      <td>2020-01-06</td>\n",
       "      <td>6770</td>\n",
       "      <td>254303</td>\n",
       "      <td>881.00</td>\n",
       "      <td>24</td>\n",
       "      <td>0</td>\n",
       "      <td>0.0</td>\n",
       "    </tr>\n",
       "    <tr>\n",
       "      <th>1</th>\n",
       "      <td>2020-01-07</td>\n",
       "      <td>6770</td>\n",
       "      <td>254303</td>\n",
       "      <td>706.89</td>\n",
       "      <td>18</td>\n",
       "      <td>0</td>\n",
       "      <td>0.0</td>\n",
       "    </tr>\n",
       "    <tr>\n",
       "      <th>2</th>\n",
       "      <td>2020-01-08</td>\n",
       "      <td>6770</td>\n",
       "      <td>254303</td>\n",
       "      <td>239.25</td>\n",
       "      <td>11</td>\n",
       "      <td>0</td>\n",
       "      <td>0.0</td>\n",
       "    </tr>\n",
       "    <tr>\n",
       "      <th>3</th>\n",
       "      <td>2020-01-09</td>\n",
       "      <td>6770</td>\n",
       "      <td>254303</td>\n",
       "      <td>1.93</td>\n",
       "      <td>1</td>\n",
       "      <td>0</td>\n",
       "      <td>0.0</td>\n",
       "    </tr>\n",
       "    <tr>\n",
       "      <th>4</th>\n",
       "      <td>2020-01-10</td>\n",
       "      <td>6770</td>\n",
       "      <td>254303</td>\n",
       "      <td>123.87</td>\n",
       "      <td>5</td>\n",
       "      <td>0</td>\n",
       "      <td>0.0</td>\n",
       "    </tr>\n",
       "  </tbody>\n",
       "</table>\n",
       "</div>"
      ],
      "text/plain": [
       "        tdate  channel_id  source_id  amount  create_role_num  \\\n",
       "0  2020-01-06        6770     254303  881.00               24   \n",
       "1  2020-01-07        6770     254303  706.89               18   \n",
       "2  2020-01-08        6770     254303  239.25               11   \n",
       "3  2020-01-09        6770     254303    1.93                1   \n",
       "4  2020-01-10        6770     254303  123.87                5   \n",
       "\n",
       "   pay_role_user_num  new_role_money  \n",
       "0                  0             0.0  \n",
       "1                  0             0.0  \n",
       "2                  0             0.0  \n",
       "3                  0             0.0  \n",
       "4                  0             0.0  "
      ]
     },
     "execution_count": 4,
     "metadata": {},
     "output_type": "execute_result"
    }
   ],
   "source": [
    "launch_report.head()"
   ]
  },
  {
   "cell_type": "code",
   "execution_count": 5,
   "metadata": {},
   "outputs": [
    {
     "data": {
      "text/plain": [
       "(161846, 7)"
      ]
     },
     "execution_count": 5,
     "metadata": {},
     "output_type": "execute_result"
    }
   ],
   "source": [
    "launch_report.shape"
   ]
  },
  {
   "cell_type": "code",
   "execution_count": 6,
   "metadata": {},
   "outputs": [
    {
     "data": {
      "text/plain": [
       "'2020-01-01'"
      ]
     },
     "execution_count": 6,
     "metadata": {},
     "output_type": "execute_result"
    }
   ],
   "source": [
    "launch_report['tdate'].min()"
   ]
  },
  {
   "cell_type": "code",
   "execution_count": 11,
   "metadata": {},
   "outputs": [],
   "source": [
    "def get_game_id():\n",
    "    conn = pymysql.connect(host='192.168.0.79', port=3306, user='readonly',\n",
    "                           passwd='Kc&r+z1ql9x8za4kzfk761weq8ozGv3ZpI;RMe,#+s%c>t')\n",
    "    cur = conn.cursor(cursor=pymysql.cursors.DictCursor)\n",
    "    sql = '''\n",
    "        SELECT dev_game_id AS game_id FROM db_data.t_game_config WHERE game_id = 1056 AND dev_game_id IS NOT NULL \n",
    "    '''\n",
    "    cur.execute(sql)\n",
    "    result_df = cur.fetchall()\n",
    "    cur.close()\n",
    "    conn.close()\n",
    "    return result_df"
   ]
  },
  {
   "cell_type": "code",
   "execution_count": 12,
   "metadata": {},
   "outputs": [],
   "source": [
    "def get_launch_report():\n",
    "    game_id = get_game_id()\n",
    "    game_id = list(map(lambda x: x['game_id'], game_id))\n",
    "    game_id = [str(i) for i in game_id]\n",
    "    game_id = ','.join(game_id)\n",
    "\n",
    "    conn = pymysql.connect(host='192.168.0.79', port=3306, user='readonly',\n",
    "                           passwd='Kc&r+z1ql9x8za4kzfk761weq8ozGv3ZpI;RMe,#+s%c>t')\n",
    "    cur = conn.cursor(cursor=pymysql.cursors.DictCursor)\n",
    "    sql = '''\n",
    "        /*手动查询*/\n",
    "        SELECT\n",
    "            a.chl_user_id AS channel_id,\n",
    "            a.source_id AS source_id,\n",
    "            b.tdate,\n",
    "            b.amount,\n",
    "            b.new_role_money,\n",
    "            b.new_role_money / b.amount as roi,\n",
    "            b.pay_role_user_num / b.create_role_num as pay_rate\n",
    "        FROM\n",
    "            db_data_ptom.ptom_plan a\n",
    "            LEFT JOIN db_stdata.st_lauch_report b ON a.chl_user_id = b.channel_id \n",
    "            AND a.source_id = b.source_id \n",
    "        WHERE\n",
    "            a.create_time >= '2020-01-01' \n",
    "            AND b.tdate >= '2020-01-01' \n",
    "            AND b.tdate_type = 'day' \n",
    "            AND b.media_id = 10\n",
    "            AND b.game_id IN ({})\n",
    "            AND b.amount >= 500\n",
    "    '''\n",
    "    finalSql = sql.format(game_id)\n",
    "    cur.execute(finalSql)\n",
    "    result_df = pd.read_sql(finalSql, conn)\n",
    "    cur.close()\n",
    "    conn.close()\n",
    "    result_df['tdate'] = pd.to_datetime(result_df['tdate'])\n",
    "    result_df = result_df.sort_values('tdate')\n",
    "    result_df = result_df.drop_duplicates(['channel_id', 'source_id'], keep='first')\n",
    "\n",
    "    return result_df"
   ]
  },
  {
   "cell_type": "code",
   "execution_count": 13,
   "metadata": {},
   "outputs": [],
   "source": [
    "launch_report_all = get_launch_report()"
   ]
  },
  {
   "cell_type": "code",
   "execution_count": 14,
   "metadata": {},
   "outputs": [
    {
     "data": {
      "text/html": [
       "<div>\n",
       "<style scoped>\n",
       "    .dataframe tbody tr th:only-of-type {\n",
       "        vertical-align: middle;\n",
       "    }\n",
       "\n",
       "    .dataframe tbody tr th {\n",
       "        vertical-align: top;\n",
       "    }\n",
       "\n",
       "    .dataframe thead th {\n",
       "        text-align: right;\n",
       "    }\n",
       "</style>\n",
       "<table border=\"1\" class=\"dataframe\">\n",
       "  <thead>\n",
       "    <tr style=\"text-align: right;\">\n",
       "      <th></th>\n",
       "      <th>channel_id</th>\n",
       "      <th>source_id</th>\n",
       "      <th>tdate</th>\n",
       "      <th>amount</th>\n",
       "      <th>new_role_money</th>\n",
       "      <th>roi</th>\n",
       "      <th>pay_rate</th>\n",
       "    </tr>\n",
       "  </thead>\n",
       "  <tbody>\n",
       "    <tr>\n",
       "      <th>0</th>\n",
       "      <td>20754</td>\n",
       "      <td>252975</td>\n",
       "      <td>2020-01-02</td>\n",
       "      <td>767.89</td>\n",
       "      <td>0.0</td>\n",
       "      <td>0.000000</td>\n",
       "      <td>0.000</td>\n",
       "    </tr>\n",
       "    <tr>\n",
       "      <th>13</th>\n",
       "      <td>20953</td>\n",
       "      <td>252800</td>\n",
       "      <td>2020-01-02</td>\n",
       "      <td>1582.19</td>\n",
       "      <td>0.0</td>\n",
       "      <td>0.000000</td>\n",
       "      <td>0.000</td>\n",
       "    </tr>\n",
       "    <tr>\n",
       "      <th>11</th>\n",
       "      <td>20953</td>\n",
       "      <td>252798</td>\n",
       "      <td>2020-01-02</td>\n",
       "      <td>979.96</td>\n",
       "      <td>0.0</td>\n",
       "      <td>0.000000</td>\n",
       "      <td>0.000</td>\n",
       "    </tr>\n",
       "    <tr>\n",
       "      <th>10</th>\n",
       "      <td>20953</td>\n",
       "      <td>252733</td>\n",
       "      <td>2020-01-02</td>\n",
       "      <td>2200.00</td>\n",
       "      <td>30.0</td>\n",
       "      <td>0.013636</td>\n",
       "      <td>0.005</td>\n",
       "    </tr>\n",
       "    <tr>\n",
       "      <th>9</th>\n",
       "      <td>20953</td>\n",
       "      <td>252732</td>\n",
       "      <td>2020-01-02</td>\n",
       "      <td>2280.22</td>\n",
       "      <td>0.0</td>\n",
       "      <td>0.000000</td>\n",
       "      <td>0.000</td>\n",
       "    </tr>\n",
       "  </tbody>\n",
       "</table>\n",
       "</div>"
      ],
      "text/plain": [
       "    channel_id  source_id      tdate   amount  new_role_money       roi  \\\n",
       "0        20754     252975 2020-01-02   767.89             0.0  0.000000   \n",
       "13       20953     252800 2020-01-02  1582.19             0.0  0.000000   \n",
       "11       20953     252798 2020-01-02   979.96             0.0  0.000000   \n",
       "10       20953     252733 2020-01-02  2200.00            30.0  0.013636   \n",
       "9        20953     252732 2020-01-02  2280.22             0.0  0.000000   \n",
       "\n",
       "    pay_rate  \n",
       "0      0.000  \n",
       "13     0.000  \n",
       "11     0.000  \n",
       "10     0.005  \n",
       "9      0.000  "
      ]
     },
     "execution_count": 14,
     "metadata": {},
     "output_type": "execute_result"
    }
   ],
   "source": [
    "launch_report_all.head()"
   ]
  },
  {
   "cell_type": "code",
   "execution_count": 15,
   "metadata": {},
   "outputs": [
    {
     "data": {
      "text/plain": [
       "Timestamp('2020-01-02 00:00:00')"
      ]
     },
     "execution_count": 15,
     "metadata": {},
     "output_type": "execute_result"
    }
   ],
   "source": [
    "launch_report_all['tdate'].min()"
   ]
  },
  {
   "cell_type": "code",
   "execution_count": 16,
   "metadata": {},
   "outputs": [
    {
     "data": {
      "text/plain": [
       "Timestamp('2021-05-12 00:00:00')"
      ]
     },
     "execution_count": 16,
     "metadata": {},
     "output_type": "execute_result"
    }
   ],
   "source": [
    "launch_report_all['tdate'].max()"
   ]
  },
  {
   "cell_type": "code",
   "execution_count": 17,
   "metadata": {},
   "outputs": [
    {
     "data": {
      "text/plain": [
       "(40966, 7)"
      ]
     },
     "execution_count": 17,
     "metadata": {},
     "output_type": "execute_result"
    }
   ],
   "source": [
    "launch_report_all.shape"
   ]
  },
  {
   "cell_type": "code",
   "execution_count": 18,
   "metadata": {},
   "outputs": [],
   "source": [
    "launch_report_all = launch_report_all[launch_report_all['tdate']<='2021-05-10']"
   ]
  },
  {
   "cell_type": "code",
   "execution_count": 19,
   "metadata": {},
   "outputs": [],
   "source": [
    "launch_report_all.to_csv('./launch_report.csv',index=0)"
   ]
  },
  {
   "cell_type": "code",
   "execution_count": null,
   "metadata": {},
   "outputs": [],
   "source": []
  }
 ],
 "metadata": {
  "kernelspec": {
   "display_name": "Python 3",
   "language": "python",
   "name": "python3"
  },
  "language_info": {
   "codemirror_mode": {
    "name": "ipython",
    "version": 3
   },
   "file_extension": ".py",
   "mimetype": "text/x-python",
   "name": "python",
   "nbconvert_exporter": "python",
   "pygments_lexer": "ipython3",
   "version": "3.7.6"
  }
 },
 "nbformat": 4,
 "nbformat_minor": 4
}
