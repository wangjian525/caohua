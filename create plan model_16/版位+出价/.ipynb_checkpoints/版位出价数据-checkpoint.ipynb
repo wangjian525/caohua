{
 "cells": [
  {
   "cell_type": "code",
   "execution_count": 2,
   "metadata": {},
   "outputs": [],
   "source": [
    "import pandas as pd\n",
    "import numpy as np"
   ]
  },
  {
   "cell_type": "code",
   "execution_count": 3,
   "metadata": {},
   "outputs": [],
   "source": [
    "pd.set_option('display.max_columns',None)"
   ]
  },
  {
   "cell_type": "code",
   "execution_count": 4,
   "metadata": {},
   "outputs": [
    {
     "name": "stderr",
     "output_type": "stream",
     "text": [
      "C:\\Users\\Administrator\\anaconda3\\lib\\site-packages\\openpyxl\\styles\\stylesheet.py:214: UserWarning: Workbook contains no default style, apply openpyxl's default\n",
      "  warn(\"Workbook contains no default style, apply openpyxl's default\")\n"
     ]
    }
   ],
   "source": [
    "df = pd.read_excel('./data.xlsx')"
   ]
  },
  {
   "cell_type": "code",
   "execution_count": 5,
   "metadata": {},
   "outputs": [],
   "source": [
    "df.drop(0,inplace=True)"
   ]
  },
  {
   "cell_type": "code",
   "execution_count": 6,
   "metadata": {},
   "outputs": [],
   "source": [
    "df = df[['投放广告位','优化目标','深度优化目标','实际消耗金额','创角账号数','新增付费创角数','新创角充值金额']]"
   ]
  },
  {
   "cell_type": "code",
   "execution_count": 7,
   "metadata": {},
   "outputs": [
    {
     "data": {
      "text/html": [
       "<div>\n",
       "<style scoped>\n",
       "    .dataframe tbody tr th:only-of-type {\n",
       "        vertical-align: middle;\n",
       "    }\n",
       "\n",
       "    .dataframe tbody tr th {\n",
       "        vertical-align: top;\n",
       "    }\n",
       "\n",
       "    .dataframe thead th {\n",
       "        text-align: right;\n",
       "    }\n",
       "</style>\n",
       "<table border=\"1\" class=\"dataframe\">\n",
       "  <thead>\n",
       "    <tr style=\"text-align: right;\">\n",
       "      <th></th>\n",
       "      <th>投放广告位</th>\n",
       "      <th>优化目标</th>\n",
       "      <th>深度优化目标</th>\n",
       "      <th>实际消耗金额</th>\n",
       "      <th>创角账号数</th>\n",
       "      <th>新增付费创角数</th>\n",
       "      <th>新创角充值金额</th>\n",
       "    </tr>\n",
       "  </thead>\n",
       "  <tbody>\n",
       "    <tr>\n",
       "      <th>1</th>\n",
       "      <td>腾讯视频,腾讯新闻,腾讯看点,QQ、腾讯音乐及游戏,优量汇</td>\n",
       "      <td>激活</td>\n",
       "      <td>首日付费ROI</td>\n",
       "      <td>72916.49</td>\n",
       "      <td>705.0</td>\n",
       "      <td>19.0</td>\n",
       "      <td>8628.0</td>\n",
       "    </tr>\n",
       "    <tr>\n",
       "      <th>2</th>\n",
       "      <td>微信朋友圈</td>\n",
       "      <td>激活</td>\n",
       "      <td>首日付费ROI</td>\n",
       "      <td>50523.84</td>\n",
       "      <td>230.0</td>\n",
       "      <td>13.0</td>\n",
       "      <td>12730.0</td>\n",
       "    </tr>\n",
       "    <tr>\n",
       "      <th>3</th>\n",
       "      <td>微信朋友圈</td>\n",
       "      <td>激活</td>\n",
       "      <td>首日付费ROI</td>\n",
       "      <td>36291.99</td>\n",
       "      <td>134.0</td>\n",
       "      <td>5.0</td>\n",
       "      <td>1272.0</td>\n",
       "    </tr>\n",
       "    <tr>\n",
       "      <th>4</th>\n",
       "      <td>腾讯视频,腾讯新闻,腾讯看点,QQ、腾讯音乐及游戏,优量汇</td>\n",
       "      <td>激活</td>\n",
       "      <td>首日付费ROI</td>\n",
       "      <td>30974.33</td>\n",
       "      <td>435.0</td>\n",
       "      <td>12.0</td>\n",
       "      <td>8192.0</td>\n",
       "    </tr>\n",
       "    <tr>\n",
       "      <th>5</th>\n",
       "      <td>腾讯视频,腾讯新闻,腾讯看点,QQ、腾讯音乐及游戏,优量汇</td>\n",
       "      <td>激活</td>\n",
       "      <td>首日付费ROI</td>\n",
       "      <td>26606.50</td>\n",
       "      <td>258.0</td>\n",
       "      <td>9.0</td>\n",
       "      <td>1486.0</td>\n",
       "    </tr>\n",
       "  </tbody>\n",
       "</table>\n",
       "</div>"
      ],
      "text/plain": [
       "                           投放广告位 优化目标   深度优化目标    实际消耗金额  创角账号数  新增付费创角数  \\\n",
       "1  腾讯视频,腾讯新闻,腾讯看点,QQ、腾讯音乐及游戏,优量汇   激活  首日付费ROI  72916.49  705.0     19.0   \n",
       "2                          微信朋友圈   激活  首日付费ROI  50523.84  230.0     13.0   \n",
       "3                          微信朋友圈   激活  首日付费ROI  36291.99  134.0      5.0   \n",
       "4  腾讯视频,腾讯新闻,腾讯看点,QQ、腾讯音乐及游戏,优量汇   激活  首日付费ROI  30974.33  435.0     12.0   \n",
       "5  腾讯视频,腾讯新闻,腾讯看点,QQ、腾讯音乐及游戏,优量汇   激活  首日付费ROI  26606.50  258.0      9.0   \n",
       "\n",
       "   新创角充值金额  \n",
       "1   8628.0  \n",
       "2  12730.0  \n",
       "3   1272.0  \n",
       "4   8192.0  \n",
       "5   1486.0  "
      ]
     },
     "execution_count": 7,
     "metadata": {},
     "output_type": "execute_result"
    }
   ],
   "source": [
    "df.head()"
   ]
  },
  {
   "cell_type": "code",
   "execution_count": 16,
   "metadata": {
    "scrolled": true
   },
   "outputs": [],
   "source": [
    "df_1 = df.groupby(['投放广告位','优化目标','深度优化目标']).agg(amount = (\"实际消耗金额\", \"sum\"),\n",
    "                                                                pay_sum = (\"新创角充值金额\",\"sum\"),\n",
    "                                                                create_role = (\"创角账号数\",\"sum\"),\n",
    "                                                                pay_role = (\"新增付费创角数\",\"sum\")).reset_index()"
   ]
  },
  {
   "cell_type": "code",
   "execution_count": 17,
   "metadata": {},
   "outputs": [],
   "source": [
    "df_1 = df_1[df_1['amount']!=0]"
   ]
  },
  {
   "cell_type": "code",
   "execution_count": 18,
   "metadata": {},
   "outputs": [],
   "source": [
    "df_1['roi'] = round(df_1['pay_sum'] / df_1['amount'],4)"
   ]
  },
  {
   "cell_type": "code",
   "execution_count": 19,
   "metadata": {},
   "outputs": [],
   "source": [
    "df_1['创角成本'] = df_1['amount'] / df_1['create_role']\n",
    "df_1['付费成本'] = df_1['amount'] / df_1['pay_role']"
   ]
  },
  {
   "cell_type": "code",
   "execution_count": 20,
   "metadata": {},
   "outputs": [],
   "source": [
    "df_1['创角成本'] = df_1.apply(lambda x: x.创角成本 if x.创角成本 != np.inf else x.amount, axis=1)\n",
    "df_1['付费成本'] = df_1.apply(lambda x: x.付费成本 if x.付费成本 != np.inf else x.amount, axis=1)"
   ]
  },
  {
   "cell_type": "code",
   "execution_count": 21,
   "metadata": {},
   "outputs": [],
   "source": [
    "df_1 = df_1.sort_values(by='roi', ascending=False)"
   ]
  },
  {
   "cell_type": "code",
   "execution_count": 24,
   "metadata": {},
   "outputs": [],
   "source": [
    "df_1 = df_1.rename(columns={'amount':'消耗金额','pay_sum':'新创角充值金额','create_role':'创角数','pay_role':'付费人数'})"
   ]
  },
  {
   "cell_type": "code",
   "execution_count": 25,
   "metadata": {},
   "outputs": [
    {
     "data": {
      "text/html": [
       "<div>\n",
       "<style scoped>\n",
       "    .dataframe tbody tr th:only-of-type {\n",
       "        vertical-align: middle;\n",
       "    }\n",
       "\n",
       "    .dataframe tbody tr th {\n",
       "        vertical-align: top;\n",
       "    }\n",
       "\n",
       "    .dataframe thead th {\n",
       "        text-align: right;\n",
       "    }\n",
       "</style>\n",
       "<table border=\"1\" class=\"dataframe\">\n",
       "  <thead>\n",
       "    <tr style=\"text-align: right;\">\n",
       "      <th></th>\n",
       "      <th>投放广告位</th>\n",
       "      <th>优化目标</th>\n",
       "      <th>深度优化目标</th>\n",
       "      <th>消耗金额</th>\n",
       "      <th>新创角充值金额</th>\n",
       "      <th>创角数</th>\n",
       "      <th>付费人数</th>\n",
       "      <th>roi</th>\n",
       "      <th>创角成本</th>\n",
       "      <th>付费成本</th>\n",
       "    </tr>\n",
       "  </thead>\n",
       "  <tbody>\n",
       "    <tr>\n",
       "      <th>30</th>\n",
       "      <td>自动版位</td>\n",
       "      <td>激活</td>\n",
       "      <td>首日付费ROI</td>\n",
       "      <td>9176.19</td>\n",
       "      <td>2418.0</td>\n",
       "      <td>103.0</td>\n",
       "      <td>3.0</td>\n",
       "      <td>0.2635</td>\n",
       "      <td>89.089223</td>\n",
       "      <td>3058.730000</td>\n",
       "    </tr>\n",
       "    <tr>\n",
       "      <th>6</th>\n",
       "      <td>微信朋友圈</td>\n",
       "      <td>付费次数</td>\n",
       "      <td>无</td>\n",
       "      <td>42205.37</td>\n",
       "      <td>9916.0</td>\n",
       "      <td>880.0</td>\n",
       "      <td>31.0</td>\n",
       "      <td>0.2349</td>\n",
       "      <td>47.960648</td>\n",
       "      <td>1361.463548</td>\n",
       "    </tr>\n",
       "    <tr>\n",
       "      <th>22</th>\n",
       "      <td>腾讯视频,腾讯新闻,腾讯看点,QQ、腾讯音乐及游戏,优量汇</td>\n",
       "      <td>激活</td>\n",
       "      <td>首日付费ROI</td>\n",
       "      <td>468066.63</td>\n",
       "      <td>50014.0</td>\n",
       "      <td>6903.0</td>\n",
       "      <td>193.0</td>\n",
       "      <td>0.1069</td>\n",
       "      <td>67.806262</td>\n",
       "      <td>2425.215699</td>\n",
       "    </tr>\n",
       "    <tr>\n",
       "      <th>8</th>\n",
       "      <td>微信朋友圈</td>\n",
       "      <td>激活</td>\n",
       "      <td>首日付费ROI</td>\n",
       "      <td>475108.81</td>\n",
       "      <td>46950.0</td>\n",
       "      <td>2256.0</td>\n",
       "      <td>98.0</td>\n",
       "      <td>0.0988</td>\n",
       "      <td>210.597877</td>\n",
       "      <td>4848.049082</td>\n",
       "    </tr>\n",
       "    <tr>\n",
       "      <th>28</th>\n",
       "      <td>腾讯视频,腾讯看点,QQ、腾讯音乐及游戏,优量汇</td>\n",
       "      <td>激活</td>\n",
       "      <td>首日付费ROI</td>\n",
       "      <td>311378.07</td>\n",
       "      <td>21316.0</td>\n",
       "      <td>3967.0</td>\n",
       "      <td>86.0</td>\n",
       "      <td>0.0685</td>\n",
       "      <td>78.492077</td>\n",
       "      <td>3620.675233</td>\n",
       "    </tr>\n",
       "  </tbody>\n",
       "</table>\n",
       "</div>"
      ],
      "text/plain": [
       "                            投放广告位  优化目标   深度优化目标       消耗金额  新创角充值金额     创角数  \\\n",
       "30                           自动版位    激活  首日付费ROI    9176.19   2418.0   103.0   \n",
       "6                           微信朋友圈  付费次数        无   42205.37   9916.0   880.0   \n",
       "22  腾讯视频,腾讯新闻,腾讯看点,QQ、腾讯音乐及游戏,优量汇    激活  首日付费ROI  468066.63  50014.0  6903.0   \n",
       "8                           微信朋友圈    激活  首日付费ROI  475108.81  46950.0  2256.0   \n",
       "28       腾讯视频,腾讯看点,QQ、腾讯音乐及游戏,优量汇    激活  首日付费ROI  311378.07  21316.0  3967.0   \n",
       "\n",
       "     付费人数     roi        创角成本         付费成本  \n",
       "30    3.0  0.2635   89.089223  3058.730000  \n",
       "6    31.0  0.2349   47.960648  1361.463548  \n",
       "22  193.0  0.1069   67.806262  2425.215699  \n",
       "8    98.0  0.0988  210.597877  4848.049082  \n",
       "28   86.0  0.0685   78.492077  3620.675233  "
      ]
     },
     "execution_count": 25,
     "metadata": {},
     "output_type": "execute_result"
    }
   ],
   "source": [
    "df_1"
   ]
  },
  {
   "cell_type": "code",
   "execution_count": null,
   "metadata": {},
   "outputs": [],
   "source": []
  }
 ],
 "metadata": {
  "kernelspec": {
   "display_name": "Python 3",
   "language": "python",
   "name": "python3"
  },
  "language_info": {
   "codemirror_mode": {
    "name": "ipython",
    "version": 3
   },
   "file_extension": ".py",
   "mimetype": "text/x-python",
   "name": "python",
   "nbconvert_exporter": "python",
   "pygments_lexer": "ipython3",
   "version": "3.7.6"
  }
 },
 "nbformat": 4,
 "nbformat_minor": 4
}
