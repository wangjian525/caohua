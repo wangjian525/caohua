{
 "cells": [
  {
   "cell_type": "code",
   "execution_count": 1,
   "metadata": {},
   "outputs": [],
   "source": [
    "import pandas as pd\n",
    "import numpy as np\n",
    "import json\n",
    "import time\n",
    "import datetime\n",
    "from numpy import *\n",
    "from sklearn.model_selection import train_test_split\n",
    "from sklearn.preprocessing import LabelEncoder\n",
    "import warnings\n",
    "\n",
    "warnings.filterwarnings('ignore')\n",
    "import lightgbm as lgb\n",
    "from impala.dbapi import connect\n",
    "from impala.util import as_pandas\n",
    "import pymysql\n",
    "import ast\n",
    "import requests\n",
    "from itertools import combinations\n",
    "from tqdm import tqdm_notebook"
   ]
  },
  {
   "cell_type": "code",
   "execution_count": 2,
   "metadata": {},
   "outputs": [],
   "source": [
    "def get_game_id():\n",
    "    conn = pymysql.connect(host='db-slave-modelfenxi-001.ch', port=3306, user='model_read',\n",
    "                           passwd='aZftlm6PcFjN{DxIKOPr)BcutuJd<uYOC0P<8')\n",
    "    cur = conn.cursor(cursor=pymysql.cursors.DictCursor)\n",
    "    sql = '''\n",
    "        SELECT dev_game_id AS game_id FROM db_data.t_game_config WHERE game_id = 1143 AND dev_game_id IS NOT NULL \n",
    "    '''\n",
    "    cur.execute(sql)\n",
    "    result_df = cur.fetchall()\n",
    "    cur.close()\n",
    "    conn.close()\n",
    "    return result_df\n"
   ]
  },
  {
   "cell_type": "code",
   "execution_count": null,
   "metadata": {},
   "outputs": [],
   "source": []
  }
 ],
 "metadata": {
  "kernelspec": {
   "display_name": "Python 3",
   "language": "python",
   "name": "python3"
  },
  "language_info": {
   "codemirror_mode": {
    "name": "ipython",
    "version": 3
   },
   "file_extension": ".py",
   "mimetype": "text/x-python",
   "name": "python",
   "nbconvert_exporter": "python",
   "pygments_lexer": "ipython3",
   "version": "3.7.6"
  }
 },
 "nbformat": 4,
 "nbformat_minor": 4
}
