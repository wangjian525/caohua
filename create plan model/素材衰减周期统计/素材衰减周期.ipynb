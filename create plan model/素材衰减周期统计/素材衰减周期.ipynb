{
 "cells": [
  {
   "cell_type": "code",
   "execution_count": 58,
   "metadata": {},
   "outputs": [],
   "source": [
    "import pandas as pd\n",
    "import numpy as np"
   ]
  },
  {
   "cell_type": "code",
   "execution_count": 59,
   "metadata": {},
   "outputs": [],
   "source": [
    "image_info = pd.read_csv('./末日素材数据导出.csv')"
   ]
  },
  {
   "cell_type": "code",
   "execution_count": 60,
   "metadata": {},
   "outputs": [
    {
     "data": {
      "text/plain": [
       "(29999, 13)"
      ]
     },
     "execution_count": 60,
     "metadata": {},
     "output_type": "execute_result"
    }
   ],
   "source": [
    "image_info.shape"
   ]
  },
  {
   "cell_type": "code",
   "execution_count": 61,
   "metadata": {},
   "outputs": [
    {
     "data": {
      "text/html": [
       "<div>\n",
       "<style scoped>\n",
       "    .dataframe tbody tr th:only-of-type {\n",
       "        vertical-align: middle;\n",
       "    }\n",
       "\n",
       "    .dataframe tbody tr th {\n",
       "        vertical-align: top;\n",
       "    }\n",
       "\n",
       "    .dataframe thead th {\n",
       "        text-align: right;\n",
       "    }\n",
       "</style>\n",
       "<table border=\"1\" class=\"dataframe\">\n",
       "  <thead>\n",
       "    <tr style=\"text-align: right;\">\n",
       "      <th></th>\n",
       "      <th>source_id</th>\n",
       "      <th>label_id</th>\n",
       "      <th>content</th>\n",
       "      <th>image_id</th>\n",
       "      <th>image_name</th>\n",
       "      <th>amount</th>\n",
       "      <th>tdate_type</th>\n",
       "      <th>tdate</th>\n",
       "      <th>平台</th>\n",
       "      <th>游戏名称</th>\n",
       "      <th>投放人</th>\n",
       "      <th>media_id</th>\n",
       "      <th>create_time</th>\n",
       "    </tr>\n",
       "  </thead>\n",
       "  <tbody>\n",
       "    <tr>\n",
       "      <th>0</th>\n",
       "      <td>380966</td>\n",
       "      <td>13</td>\n",
       "      <td>坦克：突突突</td>\n",
       "      <td>21586</td>\n",
       "      <td>ZDZL1000-横版泛素材ZDC</td>\n",
       "      <td>106.94</td>\n",
       "      <td>day</td>\n",
       "      <td>2020-11-07 00:00:00</td>\n",
       "      <td>iOS</td>\n",
       "      <td>废土战争</td>\n",
       "      <td>周樱</td>\n",
       "      <td>10</td>\n",
       "      <td>2020-05-20 18:29:05</td>\n",
       "    </tr>\n",
       "    <tr>\n",
       "      <th>1</th>\n",
       "      <td>380966</td>\n",
       "      <td>13</td>\n",
       "      <td>坦克：突突突</td>\n",
       "      <td>21586</td>\n",
       "      <td>ZDZL1000-横版泛素材ZDC</td>\n",
       "      <td>203.67</td>\n",
       "      <td>day</td>\n",
       "      <td>2020-11-08 00:00:00</td>\n",
       "      <td>iOS</td>\n",
       "      <td>废土战争</td>\n",
       "      <td>周樱</td>\n",
       "      <td>10</td>\n",
       "      <td>2020-05-20 18:29:05</td>\n",
       "    </tr>\n",
       "    <tr>\n",
       "      <th>2</th>\n",
       "      <td>380966</td>\n",
       "      <td>13</td>\n",
       "      <td>坦克：突突突</td>\n",
       "      <td>21586</td>\n",
       "      <td>ZDZL1000-横版泛素材ZDC</td>\n",
       "      <td>23.18</td>\n",
       "      <td>day</td>\n",
       "      <td>2020-11-09 00:00:00</td>\n",
       "      <td>iOS</td>\n",
       "      <td>废土战争</td>\n",
       "      <td>周樱</td>\n",
       "      <td>10</td>\n",
       "      <td>2020-05-20 18:29:05</td>\n",
       "    </tr>\n",
       "    <tr>\n",
       "      <th>3</th>\n",
       "      <td>381640</td>\n",
       "      <td>13</td>\n",
       "      <td>坦克：突突突</td>\n",
       "      <td>21586</td>\n",
       "      <td>ZDZL1000-横版泛素材ZDC</td>\n",
       "      <td>337.08</td>\n",
       "      <td>day</td>\n",
       "      <td>2020-11-06 00:00:00</td>\n",
       "      <td>iOS</td>\n",
       "      <td>废土战争</td>\n",
       "      <td>周樱</td>\n",
       "      <td>10</td>\n",
       "      <td>2020-05-20 18:29:05</td>\n",
       "    </tr>\n",
       "    <tr>\n",
       "      <th>4</th>\n",
       "      <td>381640</td>\n",
       "      <td>13</td>\n",
       "      <td>坦克：突突突</td>\n",
       "      <td>21586</td>\n",
       "      <td>ZDZL1000-横版泛素材ZDC</td>\n",
       "      <td>171.50</td>\n",
       "      <td>day</td>\n",
       "      <td>2020-11-07 00:00:00</td>\n",
       "      <td>iOS</td>\n",
       "      <td>废土战争</td>\n",
       "      <td>周樱</td>\n",
       "      <td>10</td>\n",
       "      <td>2020-05-20 18:29:05</td>\n",
       "    </tr>\n",
       "  </tbody>\n",
       "</table>\n",
       "</div>"
      ],
      "text/plain": [
       "   source_id  label_id content  image_id         image_name  amount  \\\n",
       "0     380966        13  坦克：突突突     21586  ZDZL1000-横版泛素材ZDC  106.94   \n",
       "1     380966        13  坦克：突突突     21586  ZDZL1000-横版泛素材ZDC  203.67   \n",
       "2     380966        13  坦克：突突突     21586  ZDZL1000-横版泛素材ZDC   23.18   \n",
       "3     381640        13  坦克：突突突     21586  ZDZL1000-横版泛素材ZDC  337.08   \n",
       "4     381640        13  坦克：突突突     21586  ZDZL1000-横版泛素材ZDC  171.50   \n",
       "\n",
       "  tdate_type                tdate   平台  游戏名称 投放人  media_id  \\\n",
       "0        day  2020-11-07 00:00:00  iOS  废土战争  周樱        10   \n",
       "1        day  2020-11-08 00:00:00  iOS  废土战争  周樱        10   \n",
       "2        day  2020-11-09 00:00:00  iOS  废土战争  周樱        10   \n",
       "3        day  2020-11-06 00:00:00  iOS  废土战争  周樱        10   \n",
       "4        day  2020-11-07 00:00:00  iOS  废土战争  周樱        10   \n",
       "\n",
       "           create_time  \n",
       "0  2020-05-20 18:29:05  \n",
       "1  2020-05-20 18:29:05  \n",
       "2  2020-05-20 18:29:05  \n",
       "3  2020-05-20 18:29:05  \n",
       "4  2020-05-20 18:29:05  "
      ]
     },
     "execution_count": 61,
     "metadata": {},
     "output_type": "execute_result"
    }
   ],
   "source": [
    "image_info.head()"
   ]
  },
  {
   "cell_type": "code",
   "execution_count": 64,
   "metadata": {},
   "outputs": [
    {
     "data": {
      "text/html": [
       "<div>\n",
       "<style scoped>\n",
       "    .dataframe tbody tr th:only-of-type {\n",
       "        vertical-align: middle;\n",
       "    }\n",
       "\n",
       "    .dataframe tbody tr th {\n",
       "        vertical-align: top;\n",
       "    }\n",
       "\n",
       "    .dataframe thead th {\n",
       "        text-align: right;\n",
       "    }\n",
       "</style>\n",
       "<table border=\"1\" class=\"dataframe\">\n",
       "  <thead>\n",
       "    <tr style=\"text-align: right;\">\n",
       "      <th></th>\n",
       "      <th>source_id</th>\n",
       "      <th>label_id</th>\n",
       "      <th>content</th>\n",
       "      <th>image_id</th>\n",
       "      <th>image_name</th>\n",
       "      <th>amount</th>\n",
       "      <th>tdate_type</th>\n",
       "      <th>tdate</th>\n",
       "      <th>平台</th>\n",
       "      <th>游戏名称</th>\n",
       "      <th>投放人</th>\n",
       "      <th>media_id</th>\n",
       "      <th>create_time</th>\n",
       "    </tr>\n",
       "  </thead>\n",
       "  <tbody>\n",
       "    <tr>\n",
       "      <th>9695</th>\n",
       "      <td>283778</td>\n",
       "      <td>20</td>\n",
       "      <td>末日：小游戏</td>\n",
       "      <td>20700</td>\n",
       "      <td>SSR976-竖版(2D)</td>\n",
       "      <td>2100.53</td>\n",
       "      <td>day</td>\n",
       "      <td>2020-03-20 00:00:00</td>\n",
       "      <td>安卓</td>\n",
       "      <td>末日危城-联运</td>\n",
       "      <td>侯绍鑫</td>\n",
       "      <td>32</td>\n",
       "      <td>2020-03-19 20:00:35</td>\n",
       "    </tr>\n",
       "    <tr>\n",
       "      <th>9683</th>\n",
       "      <td>283751</td>\n",
       "      <td>20</td>\n",
       "      <td>末日：小游戏</td>\n",
       "      <td>20700</td>\n",
       "      <td>SSR976-竖版(2D)</td>\n",
       "      <td>1500.00</td>\n",
       "      <td>day</td>\n",
       "      <td>2020-03-20 00:00:00</td>\n",
       "      <td>安卓</td>\n",
       "      <td>末日危城-联运</td>\n",
       "      <td>杨峰</td>\n",
       "      <td>10</td>\n",
       "      <td>2020-03-19 20:00:35</td>\n",
       "    </tr>\n",
       "    <tr>\n",
       "      <th>9727</th>\n",
       "      <td>283919</td>\n",
       "      <td>20</td>\n",
       "      <td>末日：小游戏</td>\n",
       "      <td>20700</td>\n",
       "      <td>SSR976-竖版(2D)</td>\n",
       "      <td>2535.85</td>\n",
       "      <td>day</td>\n",
       "      <td>2020-03-20 00:00:00</td>\n",
       "      <td>安卓</td>\n",
       "      <td>末日危城-联运</td>\n",
       "      <td>蔡金城</td>\n",
       "      <td>10</td>\n",
       "      <td>2020-03-19 20:00:35</td>\n",
       "    </tr>\n",
       "    <tr>\n",
       "      <th>9696</th>\n",
       "      <td>283778</td>\n",
       "      <td>20</td>\n",
       "      <td>末日：小游戏</td>\n",
       "      <td>20700</td>\n",
       "      <td>SSR976-竖版(2D)</td>\n",
       "      <td>0.05</td>\n",
       "      <td>day</td>\n",
       "      <td>2020-03-21 00:00:00</td>\n",
       "      <td>安卓</td>\n",
       "      <td>末日危城-联运</td>\n",
       "      <td>侯绍鑫</td>\n",
       "      <td>32</td>\n",
       "      <td>2020-03-19 20:00:35</td>\n",
       "    </tr>\n",
       "    <tr>\n",
       "      <th>9684</th>\n",
       "      <td>283751</td>\n",
       "      <td>20</td>\n",
       "      <td>末日：小游戏</td>\n",
       "      <td>20700</td>\n",
       "      <td>SSR976-竖版(2D)</td>\n",
       "      <td>0.00</td>\n",
       "      <td>day</td>\n",
       "      <td>2020-03-21 00:00:00</td>\n",
       "      <td>安卓</td>\n",
       "      <td>末日危城-联运</td>\n",
       "      <td>杨峰</td>\n",
       "      <td>10</td>\n",
       "      <td>2020-03-19 20:00:35</td>\n",
       "    </tr>\n",
       "    <tr>\n",
       "      <th>...</th>\n",
       "      <td>...</td>\n",
       "      <td>...</td>\n",
       "      <td>...</td>\n",
       "      <td>...</td>\n",
       "      <td>...</td>\n",
       "      <td>...</td>\n",
       "      <td>...</td>\n",
       "      <td>...</td>\n",
       "      <td>...</td>\n",
       "      <td>...</td>\n",
       "      <td>...</td>\n",
       "      <td>...</td>\n",
       "      <td>...</td>\n",
       "    </tr>\n",
       "    <tr>\n",
       "      <th>27926</th>\n",
       "      <td>345395</td>\n",
       "      <td>20</td>\n",
       "      <td>末日：小游戏</td>\n",
       "      <td>23552</td>\n",
       "      <td>SSR1419-横版（3D混剪）</td>\n",
       "      <td>0.00</td>\n",
       "      <td>day</td>\n",
       "      <td>2020-12-04 00:00:00</td>\n",
       "      <td>安卓</td>\n",
       "      <td>末日危城-联运</td>\n",
       "      <td>范平凡</td>\n",
       "      <td>10</td>\n",
       "      <td>2020-07-16 21:52:26</td>\n",
       "    </tr>\n",
       "    <tr>\n",
       "      <th>9682</th>\n",
       "      <td>398957</td>\n",
       "      <td>25</td>\n",
       "      <td>末日-3D策略</td>\n",
       "      <td>26248</td>\n",
       "      <td>SSR1886-横版（3d混剪)</td>\n",
       "      <td>196.79</td>\n",
       "      <td>day</td>\n",
       "      <td>2020-12-04 00:00:00</td>\n",
       "      <td>iOS</td>\n",
       "      <td>废土战争</td>\n",
       "      <td>江婷</td>\n",
       "      <td>16</td>\n",
       "      <td>2020-11-03 17:25:21</td>\n",
       "    </tr>\n",
       "    <tr>\n",
       "      <th>22310</th>\n",
       "      <td>337322</td>\n",
       "      <td>20</td>\n",
       "      <td>末日：小游戏</td>\n",
       "      <td>23552</td>\n",
       "      <td>SSR1419-横版（3D混剪）</td>\n",
       "      <td>0.00</td>\n",
       "      <td>day</td>\n",
       "      <td>2020-12-04 00:00:00</td>\n",
       "      <td>iOS</td>\n",
       "      <td>废土战争</td>\n",
       "      <td>任然</td>\n",
       "      <td>10</td>\n",
       "      <td>2020-07-16 21:52:26</td>\n",
       "    </tr>\n",
       "    <tr>\n",
       "      <th>23829</th>\n",
       "      <td>338535</td>\n",
       "      <td>20</td>\n",
       "      <td>末日：小游戏</td>\n",
       "      <td>21935</td>\n",
       "      <td>SSR1223-竖版（3D混剪-1117换颜色）</td>\n",
       "      <td>0.00</td>\n",
       "      <td>day</td>\n",
       "      <td>2020-12-04 00:00:00</td>\n",
       "      <td>iOS</td>\n",
       "      <td>废土战争</td>\n",
       "      <td>范平凡</td>\n",
       "      <td>10</td>\n",
       "      <td>2020-05-26 12:39:13</td>\n",
       "    </tr>\n",
       "    <tr>\n",
       "      <th>9659</th>\n",
       "      <td>397737</td>\n",
       "      <td>25</td>\n",
       "      <td>末日-3D策略</td>\n",
       "      <td>27216</td>\n",
       "      <td>SSR1993-横版（3D原创）</td>\n",
       "      <td>0.02</td>\n",
       "      <td>day</td>\n",
       "      <td>2020-12-04 00:00:00</td>\n",
       "      <td>iOS</td>\n",
       "      <td>废土战争</td>\n",
       "      <td>陈晓琴</td>\n",
       "      <td>16</td>\n",
       "      <td>2020-11-30 14:37:28</td>\n",
       "    </tr>\n",
       "  </tbody>\n",
       "</table>\n",
       "<p>29999 rows × 13 columns</p>\n",
       "</div>"
      ],
      "text/plain": [
       "       source_id  label_id  content  image_id                image_name  \\\n",
       "9695      283778        20   末日：小游戏     20700             SSR976-竖版(2D)   \n",
       "9683      283751        20   末日：小游戏     20700             SSR976-竖版(2D)   \n",
       "9727      283919        20   末日：小游戏     20700             SSR976-竖版(2D)   \n",
       "9696      283778        20   末日：小游戏     20700             SSR976-竖版(2D)   \n",
       "9684      283751        20   末日：小游戏     20700             SSR976-竖版(2D)   \n",
       "...          ...       ...      ...       ...                       ...   \n",
       "27926     345395        20   末日：小游戏     23552          SSR1419-横版（3D混剪）   \n",
       "9682      398957        25  末日-3D策略     26248          SSR1886-横版（3d混剪)   \n",
       "22310     337322        20   末日：小游戏     23552          SSR1419-横版（3D混剪）   \n",
       "23829     338535        20   末日：小游戏     21935  SSR1223-竖版（3D混剪-1117换颜色）   \n",
       "9659      397737        25  末日-3D策略     27216          SSR1993-横版（3D原创）   \n",
       "\n",
       "        amount tdate_type                tdate   平台     游戏名称  投放人  media_id  \\\n",
       "9695   2100.53        day  2020-03-20 00:00:00   安卓  末日危城-联运  侯绍鑫        32   \n",
       "9683   1500.00        day  2020-03-20 00:00:00   安卓  末日危城-联运   杨峰        10   \n",
       "9727   2535.85        day  2020-03-20 00:00:00   安卓  末日危城-联运  蔡金城        10   \n",
       "9696      0.05        day  2020-03-21 00:00:00   安卓  末日危城-联运  侯绍鑫        32   \n",
       "9684      0.00        day  2020-03-21 00:00:00   安卓  末日危城-联运   杨峰        10   \n",
       "...        ...        ...                  ...  ...      ...  ...       ...   \n",
       "27926     0.00        day  2020-12-04 00:00:00   安卓  末日危城-联运  范平凡        10   \n",
       "9682    196.79        day  2020-12-04 00:00:00  iOS     废土战争   江婷        16   \n",
       "22310     0.00        day  2020-12-04 00:00:00  iOS     废土战争   任然        10   \n",
       "23829     0.00        day  2020-12-04 00:00:00  iOS     废土战争  范平凡        10   \n",
       "9659      0.02        day  2020-12-04 00:00:00  iOS     废土战争  陈晓琴        16   \n",
       "\n",
       "               create_time  \n",
       "9695   2020-03-19 20:00:35  \n",
       "9683   2020-03-19 20:00:35  \n",
       "9727   2020-03-19 20:00:35  \n",
       "9696   2020-03-19 20:00:35  \n",
       "9684   2020-03-19 20:00:35  \n",
       "...                    ...  \n",
       "27926  2020-07-16 21:52:26  \n",
       "9682   2020-11-03 17:25:21  \n",
       "22310  2020-07-16 21:52:26  \n",
       "23829  2020-05-26 12:39:13  \n",
       "9659   2020-11-30 14:37:28  \n",
       "\n",
       "[29999 rows x 13 columns]"
      ]
     },
     "execution_count": 64,
     "metadata": {},
     "output_type": "execute_result"
    }
   ],
   "source": [
    "image_info.sort_values('tdate')"
   ]
  },
  {
   "cell_type": "code",
   "execution_count": 67,
   "metadata": {},
   "outputs": [],
   "source": [
    "groups = image_info.groupby(['image_id','label_id','create_time','tdate'])"
   ]
  },
  {
   "cell_type": "code",
   "execution_count": 68,
   "metadata": {},
   "outputs": [],
   "source": [
    "image_date_amount = groups['amount'].agg([('image_date_amount_sum','sum')]).reset_index()"
   ]
  },
  {
   "cell_type": "code",
   "execution_count": 69,
   "metadata": {},
   "outputs": [
    {
     "data": {
      "text/html": [
       "<div>\n",
       "<style scoped>\n",
       "    .dataframe tbody tr th:only-of-type {\n",
       "        vertical-align: middle;\n",
       "    }\n",
       "\n",
       "    .dataframe tbody tr th {\n",
       "        vertical-align: top;\n",
       "    }\n",
       "\n",
       "    .dataframe thead th {\n",
       "        text-align: right;\n",
       "    }\n",
       "</style>\n",
       "<table border=\"1\" class=\"dataframe\">\n",
       "  <thead>\n",
       "    <tr style=\"text-align: right;\">\n",
       "      <th></th>\n",
       "      <th>image_id</th>\n",
       "      <th>label_id</th>\n",
       "      <th>create_time</th>\n",
       "      <th>tdate</th>\n",
       "      <th>image_date_amount_sum</th>\n",
       "    </tr>\n",
       "  </thead>\n",
       "  <tbody>\n",
       "    <tr>\n",
       "      <th>0</th>\n",
       "      <td>20700</td>\n",
       "      <td>20</td>\n",
       "      <td>2020-03-19 20:00:35</td>\n",
       "      <td>2020-03-20 00:00:00</td>\n",
       "      <td>6136.38</td>\n",
       "    </tr>\n",
       "    <tr>\n",
       "      <th>1</th>\n",
       "      <td>20700</td>\n",
       "      <td>20</td>\n",
       "      <td>2020-03-19 20:00:35</td>\n",
       "      <td>2020-03-21 00:00:00</td>\n",
       "      <td>2535.90</td>\n",
       "    </tr>\n",
       "    <tr>\n",
       "      <th>2</th>\n",
       "      <td>20700</td>\n",
       "      <td>20</td>\n",
       "      <td>2020-03-19 20:00:35</td>\n",
       "      <td>2020-03-22 00:00:00</td>\n",
       "      <td>2535.85</td>\n",
       "    </tr>\n",
       "    <tr>\n",
       "      <th>3</th>\n",
       "      <td>20700</td>\n",
       "      <td>20</td>\n",
       "      <td>2020-03-19 20:00:35</td>\n",
       "      <td>2020-03-23 00:00:00</td>\n",
       "      <td>0.00</td>\n",
       "    </tr>\n",
       "    <tr>\n",
       "      <th>4</th>\n",
       "      <td>20700</td>\n",
       "      <td>20</td>\n",
       "      <td>2020-03-19 20:00:35</td>\n",
       "      <td>2020-03-24 00:00:00</td>\n",
       "      <td>0.00</td>\n",
       "    </tr>\n",
       "  </tbody>\n",
       "</table>\n",
       "</div>"
      ],
      "text/plain": [
       "   image_id  label_id          create_time                tdate  \\\n",
       "0     20700        20  2020-03-19 20:00:35  2020-03-20 00:00:00   \n",
       "1     20700        20  2020-03-19 20:00:35  2020-03-21 00:00:00   \n",
       "2     20700        20  2020-03-19 20:00:35  2020-03-22 00:00:00   \n",
       "3     20700        20  2020-03-19 20:00:35  2020-03-23 00:00:00   \n",
       "4     20700        20  2020-03-19 20:00:35  2020-03-24 00:00:00   \n",
       "\n",
       "   image_date_amount_sum  \n",
       "0                6136.38  \n",
       "1                2535.90  \n",
       "2                2535.85  \n",
       "3                   0.00  \n",
       "4                   0.00  "
      ]
     },
     "execution_count": 69,
     "metadata": {},
     "output_type": "execute_result"
    }
   ],
   "source": [
    "image_date_amount.head()"
   ]
  },
  {
   "cell_type": "code",
   "execution_count": 70,
   "metadata": {},
   "outputs": [],
   "source": [
    "image_date_amount['tdate'] = pd.to_datetime(image_date_amount['tdate'])"
   ]
  },
  {
   "cell_type": "code",
   "execution_count": 71,
   "metadata": {},
   "outputs": [],
   "source": [
    "image_date_amount = image_date_amount[image_date_amount['image_date_amount_sum']>0]"
   ]
  },
  {
   "cell_type": "code",
   "execution_count": 72,
   "metadata": {},
   "outputs": [],
   "source": [
    "image_date_amount['group_tdate_sort']=image_date_amount['tdate'].groupby(image_date_amount['image_id']).rank(ascending=True,method='first')"
   ]
  },
  {
   "cell_type": "code",
   "execution_count": 73,
   "metadata": {},
   "outputs": [
    {
     "data": {
      "text/html": [
       "<div>\n",
       "<style scoped>\n",
       "    .dataframe tbody tr th:only-of-type {\n",
       "        vertical-align: middle;\n",
       "    }\n",
       "\n",
       "    .dataframe tbody tr th {\n",
       "        vertical-align: top;\n",
       "    }\n",
       "\n",
       "    .dataframe thead th {\n",
       "        text-align: right;\n",
       "    }\n",
       "</style>\n",
       "<table border=\"1\" class=\"dataframe\">\n",
       "  <thead>\n",
       "    <tr style=\"text-align: right;\">\n",
       "      <th></th>\n",
       "      <th>image_id</th>\n",
       "      <th>label_id</th>\n",
       "      <th>create_time</th>\n",
       "      <th>tdate</th>\n",
       "      <th>image_date_amount_sum</th>\n",
       "      <th>group_tdate_sort</th>\n",
       "    </tr>\n",
       "  </thead>\n",
       "  <tbody>\n",
       "    <tr>\n",
       "      <th>0</th>\n",
       "      <td>20700</td>\n",
       "      <td>20</td>\n",
       "      <td>2020-03-19 20:00:35</td>\n",
       "      <td>2020-03-20</td>\n",
       "      <td>6136.38</td>\n",
       "      <td>1.0</td>\n",
       "    </tr>\n",
       "    <tr>\n",
       "      <th>1</th>\n",
       "      <td>20700</td>\n",
       "      <td>20</td>\n",
       "      <td>2020-03-19 20:00:35</td>\n",
       "      <td>2020-03-21</td>\n",
       "      <td>2535.90</td>\n",
       "      <td>2.0</td>\n",
       "    </tr>\n",
       "    <tr>\n",
       "      <th>2</th>\n",
       "      <td>20700</td>\n",
       "      <td>20</td>\n",
       "      <td>2020-03-19 20:00:35</td>\n",
       "      <td>2020-03-22</td>\n",
       "      <td>2535.85</td>\n",
       "      <td>3.0</td>\n",
       "    </tr>\n",
       "    <tr>\n",
       "      <th>32</th>\n",
       "      <td>20700</td>\n",
       "      <td>20</td>\n",
       "      <td>2020-03-19 20:00:35</td>\n",
       "      <td>2020-05-07</td>\n",
       "      <td>1635.74</td>\n",
       "      <td>4.0</td>\n",
       "    </tr>\n",
       "    <tr>\n",
       "      <th>34</th>\n",
       "      <td>20700</td>\n",
       "      <td>20</td>\n",
       "      <td>2020-03-19 20:00:35</td>\n",
       "      <td>2020-05-09</td>\n",
       "      <td>5287.65</td>\n",
       "      <td>5.0</td>\n",
       "    </tr>\n",
       "  </tbody>\n",
       "</table>\n",
       "</div>"
      ],
      "text/plain": [
       "    image_id  label_id          create_time      tdate  image_date_amount_sum  \\\n",
       "0      20700        20  2020-03-19 20:00:35 2020-03-20                6136.38   \n",
       "1      20700        20  2020-03-19 20:00:35 2020-03-21                2535.90   \n",
       "2      20700        20  2020-03-19 20:00:35 2020-03-22                2535.85   \n",
       "32     20700        20  2020-03-19 20:00:35 2020-05-07                1635.74   \n",
       "34     20700        20  2020-03-19 20:00:35 2020-05-09                5287.65   \n",
       "\n",
       "    group_tdate_sort  \n",
       "0                1.0  \n",
       "1                2.0  \n",
       "2                3.0  \n",
       "32               4.0  \n",
       "34               5.0  "
      ]
     },
     "execution_count": 73,
     "metadata": {},
     "output_type": "execute_result"
    }
   ],
   "source": [
    "image_date_amount.head()"
   ]
  },
  {
   "cell_type": "code",
   "execution_count": 101,
   "metadata": {},
   "outputs": [
    {
     "data": {
      "text/plain": [
       "(2211, 7)"
      ]
     },
     "execution_count": 101,
     "metadata": {},
     "output_type": "execute_result"
    }
   ],
   "source": [
    "image_date_amount.shape"
   ]
  },
  {
   "cell_type": "code",
   "execution_count": 104,
   "metadata": {},
   "outputs": [],
   "source": [
    "image_date_amount['group_image_sort'] = image_date_amount['image_date_amount_sum'].groupby(image_date_amount['image_id']).rank(ascending=False)"
   ]
  },
  {
   "cell_type": "code",
   "execution_count": 105,
   "metadata": {},
   "outputs": [
    {
     "data": {
      "text/html": [
       "<div>\n",
       "<style scoped>\n",
       "    .dataframe tbody tr th:only-of-type {\n",
       "        vertical-align: middle;\n",
       "    }\n",
       "\n",
       "    .dataframe tbody tr th {\n",
       "        vertical-align: top;\n",
       "    }\n",
       "\n",
       "    .dataframe thead th {\n",
       "        text-align: right;\n",
       "    }\n",
       "</style>\n",
       "<table border=\"1\" class=\"dataframe\">\n",
       "  <thead>\n",
       "    <tr style=\"text-align: right;\">\n",
       "      <th></th>\n",
       "      <th>image_id</th>\n",
       "      <th>label_id</th>\n",
       "      <th>create_time</th>\n",
       "      <th>tdate</th>\n",
       "      <th>image_date_amount_sum</th>\n",
       "      <th>group_tdate_sort</th>\n",
       "      <th>amount_sort</th>\n",
       "      <th>group_image_sort</th>\n",
       "    </tr>\n",
       "  </thead>\n",
       "  <tbody>\n",
       "    <tr>\n",
       "      <th>0</th>\n",
       "      <td>20700</td>\n",
       "      <td>20</td>\n",
       "      <td>2020-03-19 20:00:35</td>\n",
       "      <td>2020-03-20</td>\n",
       "      <td>6136.38</td>\n",
       "      <td>1.0</td>\n",
       "      <td>2</td>\n",
       "      <td>26.0</td>\n",
       "    </tr>\n",
       "    <tr>\n",
       "      <th>1</th>\n",
       "      <td>20700</td>\n",
       "      <td>20</td>\n",
       "      <td>2020-03-19 20:00:35</td>\n",
       "      <td>2020-03-21</td>\n",
       "      <td>2535.90</td>\n",
       "      <td>2.0</td>\n",
       "      <td>2</td>\n",
       "      <td>41.0</td>\n",
       "    </tr>\n",
       "    <tr>\n",
       "      <th>2</th>\n",
       "      <td>20700</td>\n",
       "      <td>20</td>\n",
       "      <td>2020-03-19 20:00:35</td>\n",
       "      <td>2020-03-22</td>\n",
       "      <td>2535.85</td>\n",
       "      <td>3.0</td>\n",
       "      <td>2</td>\n",
       "      <td>42.0</td>\n",
       "    </tr>\n",
       "    <tr>\n",
       "      <th>3</th>\n",
       "      <td>20700</td>\n",
       "      <td>20</td>\n",
       "      <td>2020-03-19 20:00:35</td>\n",
       "      <td>2020-05-07</td>\n",
       "      <td>1635.74</td>\n",
       "      <td>4.0</td>\n",
       "      <td>2</td>\n",
       "      <td>46.0</td>\n",
       "    </tr>\n",
       "    <tr>\n",
       "      <th>4</th>\n",
       "      <td>20700</td>\n",
       "      <td>20</td>\n",
       "      <td>2020-03-19 20:00:35</td>\n",
       "      <td>2020-05-09</td>\n",
       "      <td>5287.65</td>\n",
       "      <td>5.0</td>\n",
       "      <td>2</td>\n",
       "      <td>31.0</td>\n",
       "    </tr>\n",
       "  </tbody>\n",
       "</table>\n",
       "</div>"
      ],
      "text/plain": [
       "   image_id  label_id          create_time      tdate  image_date_amount_sum  \\\n",
       "0     20700        20  2020-03-19 20:00:35 2020-03-20                6136.38   \n",
       "1     20700        20  2020-03-19 20:00:35 2020-03-21                2535.90   \n",
       "2     20700        20  2020-03-19 20:00:35 2020-03-22                2535.85   \n",
       "3     20700        20  2020-03-19 20:00:35 2020-05-07                1635.74   \n",
       "4     20700        20  2020-03-19 20:00:35 2020-05-09                5287.65   \n",
       "\n",
       "   group_tdate_sort  amount_sort  group_image_sort  \n",
       "0               1.0            2              26.0  \n",
       "1               2.0            2              41.0  \n",
       "2               3.0            2              42.0  \n",
       "3               4.0            2              46.0  \n",
       "4               5.0            2              31.0  "
      ]
     },
     "execution_count": 105,
     "metadata": {},
     "output_type": "execute_result"
    }
   ],
   "source": [
    "image_date_amount.head()"
   ]
  },
  {
   "cell_type": "code",
   "execution_count": 106,
   "metadata": {},
   "outputs": [],
   "source": [
    "image_amount_max = image_date_amount[image_date_amount['group_image_sort']==1]"
   ]
  },
  {
   "cell_type": "code",
   "execution_count": 107,
   "metadata": {},
   "outputs": [
    {
     "data": {
      "text/html": [
       "<div>\n",
       "<style scoped>\n",
       "    .dataframe tbody tr th:only-of-type {\n",
       "        vertical-align: middle;\n",
       "    }\n",
       "\n",
       "    .dataframe tbody tr th {\n",
       "        vertical-align: top;\n",
       "    }\n",
       "\n",
       "    .dataframe thead th {\n",
       "        text-align: right;\n",
       "    }\n",
       "</style>\n",
       "<table border=\"1\" class=\"dataframe\">\n",
       "  <thead>\n",
       "    <tr style=\"text-align: right;\">\n",
       "      <th></th>\n",
       "      <th>image_id</th>\n",
       "      <th>label_id</th>\n",
       "      <th>create_time</th>\n",
       "      <th>tdate</th>\n",
       "      <th>image_date_amount_sum</th>\n",
       "      <th>group_tdate_sort</th>\n",
       "      <th>amount_sort</th>\n",
       "      <th>group_image_sort</th>\n",
       "    </tr>\n",
       "  </thead>\n",
       "  <tbody>\n",
       "    <tr>\n",
       "      <th>16</th>\n",
       "      <td>20700</td>\n",
       "      <td>20</td>\n",
       "      <td>2020-03-19 20:00:35</td>\n",
       "      <td>2020-05-22</td>\n",
       "      <td>19565.28</td>\n",
       "      <td>17.0</td>\n",
       "      <td>2</td>\n",
       "      <td>1.0</td>\n",
       "    </tr>\n",
       "    <tr>\n",
       "      <th>56</th>\n",
       "      <td>21369</td>\n",
       "      <td>25</td>\n",
       "      <td>2020-05-11 19:52:44</td>\n",
       "      <td>2020-05-12</td>\n",
       "      <td>227.86</td>\n",
       "      <td>1.0</td>\n",
       "      <td>4</td>\n",
       "      <td>1.0</td>\n",
       "    </tr>\n",
       "    <tr>\n",
       "      <th>57</th>\n",
       "      <td>21397</td>\n",
       "      <td>20</td>\n",
       "      <td>2020-05-12 20:32:07</td>\n",
       "      <td>2020-05-13</td>\n",
       "      <td>2213.21</td>\n",
       "      <td>1.0</td>\n",
       "      <td>4</td>\n",
       "      <td>1.0</td>\n",
       "    </tr>\n",
       "    <tr>\n",
       "      <th>63</th>\n",
       "      <td>21500</td>\n",
       "      <td>27</td>\n",
       "      <td>2020-05-15 15:33:56</td>\n",
       "      <td>2020-05-20</td>\n",
       "      <td>36124.65</td>\n",
       "      <td>6.0</td>\n",
       "      <td>3</td>\n",
       "      <td>1.0</td>\n",
       "    </tr>\n",
       "    <tr>\n",
       "      <th>115</th>\n",
       "      <td>21503</td>\n",
       "      <td>25</td>\n",
       "      <td>2020-05-15 16:38:28</td>\n",
       "      <td>2020-05-18</td>\n",
       "      <td>5855.88</td>\n",
       "      <td>1.0</td>\n",
       "      <td>4</td>\n",
       "      <td>1.0</td>\n",
       "    </tr>\n",
       "  </tbody>\n",
       "</table>\n",
       "</div>"
      ],
      "text/plain": [
       "     image_id  label_id          create_time      tdate  \\\n",
       "16      20700        20  2020-03-19 20:00:35 2020-05-22   \n",
       "56      21369        25  2020-05-11 19:52:44 2020-05-12   \n",
       "57      21397        20  2020-05-12 20:32:07 2020-05-13   \n",
       "63      21500        27  2020-05-15 15:33:56 2020-05-20   \n",
       "115     21503        25  2020-05-15 16:38:28 2020-05-18   \n",
       "\n",
       "     image_date_amount_sum  group_tdate_sort  amount_sort  group_image_sort  \n",
       "16                19565.28              17.0            2               1.0  \n",
       "56                  227.86               1.0            4               1.0  \n",
       "57                 2213.21               1.0            4               1.0  \n",
       "63                36124.65               6.0            3               1.0  \n",
       "115                5855.88               1.0            4               1.0  "
      ]
     },
     "execution_count": 107,
     "metadata": {},
     "output_type": "execute_result"
    }
   ],
   "source": [
    "image_amount_max.head()"
   ]
  },
  {
   "cell_type": "code",
   "execution_count": 109,
   "metadata": {},
   "outputs": [
    {
     "data": {
      "text/html": [
       "<div>\n",
       "<style scoped>\n",
       "    .dataframe tbody tr th:only-of-type {\n",
       "        vertical-align: middle;\n",
       "    }\n",
       "\n",
       "    .dataframe tbody tr th {\n",
       "        vertical-align: top;\n",
       "    }\n",
       "\n",
       "    .dataframe thead th {\n",
       "        text-align: right;\n",
       "    }\n",
       "</style>\n",
       "<table border=\"1\" class=\"dataframe\">\n",
       "  <thead>\n",
       "    <tr style=\"text-align: right;\">\n",
       "      <th></th>\n",
       "      <th>image_id</th>\n",
       "      <th>label_id</th>\n",
       "      <th>create_time</th>\n",
       "      <th>tdate</th>\n",
       "      <th>image_date_amount_sum</th>\n",
       "      <th>group_tdate_sort</th>\n",
       "      <th>amount_sort</th>\n",
       "      <th>group_image_sort</th>\n",
       "    </tr>\n",
       "  </thead>\n",
       "  <tbody>\n",
       "    <tr>\n",
       "      <th>677</th>\n",
       "      <td>22278</td>\n",
       "      <td>27</td>\n",
       "      <td>2020-06-13 08:54:57</td>\n",
       "      <td>2020-07-12</td>\n",
       "      <td>21909.58</td>\n",
       "      <td>30.0</td>\n",
       "      <td>2</td>\n",
       "      <td>1.0</td>\n",
       "    </tr>\n",
       "    <tr>\n",
       "      <th>1392</th>\n",
       "      <td>23698</td>\n",
       "      <td>25</td>\n",
       "      <td>2020-07-21 19:28:19</td>\n",
       "      <td>2020-08-10</td>\n",
       "      <td>28028.61</td>\n",
       "      <td>19.0</td>\n",
       "      <td>2</td>\n",
       "      <td>1.0</td>\n",
       "    </tr>\n",
       "    <tr>\n",
       "      <th>2072</th>\n",
       "      <td>24775</td>\n",
       "      <td>25</td>\n",
       "      <td>2020-09-04 11:40:45</td>\n",
       "      <td>2020-09-22</td>\n",
       "      <td>9055.68</td>\n",
       "      <td>18.0</td>\n",
       "      <td>3</td>\n",
       "      <td>1.0</td>\n",
       "    </tr>\n",
       "    <tr>\n",
       "      <th>391</th>\n",
       "      <td>22031</td>\n",
       "      <td>27</td>\n",
       "      <td>2020-05-29 17:09:07</td>\n",
       "      <td>2020-06-25</td>\n",
       "      <td>3996.92</td>\n",
       "      <td>18.0</td>\n",
       "      <td>4</td>\n",
       "      <td>1.0</td>\n",
       "    </tr>\n",
       "    <tr>\n",
       "      <th>16</th>\n",
       "      <td>20700</td>\n",
       "      <td>20</td>\n",
       "      <td>2020-03-19 20:00:35</td>\n",
       "      <td>2020-05-22</td>\n",
       "      <td>19565.28</td>\n",
       "      <td>17.0</td>\n",
       "      <td>2</td>\n",
       "      <td>1.0</td>\n",
       "    </tr>\n",
       "    <tr>\n",
       "      <th>...</th>\n",
       "      <td>...</td>\n",
       "      <td>...</td>\n",
       "      <td>...</td>\n",
       "      <td>...</td>\n",
       "      <td>...</td>\n",
       "      <td>...</td>\n",
       "      <td>...</td>\n",
       "      <td>...</td>\n",
       "    </tr>\n",
       "    <tr>\n",
       "      <th>1646</th>\n",
       "      <td>23887</td>\n",
       "      <td>26</td>\n",
       "      <td>2020-08-01 15:02:40</td>\n",
       "      <td>2020-08-03</td>\n",
       "      <td>3076.63</td>\n",
       "      <td>1.0</td>\n",
       "      <td>4</td>\n",
       "      <td>1.0</td>\n",
       "    </tr>\n",
       "    <tr>\n",
       "      <th>115</th>\n",
       "      <td>21503</td>\n",
       "      <td>25</td>\n",
       "      <td>2020-05-15 16:38:28</td>\n",
       "      <td>2020-05-18</td>\n",
       "      <td>5855.88</td>\n",
       "      <td>1.0</td>\n",
       "      <td>4</td>\n",
       "      <td>1.0</td>\n",
       "    </tr>\n",
       "    <tr>\n",
       "      <th>1774</th>\n",
       "      <td>24170</td>\n",
       "      <td>20</td>\n",
       "      <td>2020-08-07 10:05:29</td>\n",
       "      <td>2020-08-07</td>\n",
       "      <td>888.17</td>\n",
       "      <td>1.0</td>\n",
       "      <td>4</td>\n",
       "      <td>1.0</td>\n",
       "    </tr>\n",
       "    <tr>\n",
       "      <th>1794</th>\n",
       "      <td>24233</td>\n",
       "      <td>20</td>\n",
       "      <td>2020-08-10 17:03:54</td>\n",
       "      <td>2020-08-11</td>\n",
       "      <td>6145.51</td>\n",
       "      <td>1.0</td>\n",
       "      <td>4</td>\n",
       "      <td>1.0</td>\n",
       "    </tr>\n",
       "    <tr>\n",
       "      <th>2209</th>\n",
       "      <td>27335</td>\n",
       "      <td>25</td>\n",
       "      <td>2020-12-02 15:18:33</td>\n",
       "      <td>2020-12-02</td>\n",
       "      <td>4930.35</td>\n",
       "      <td>1.0</td>\n",
       "      <td>4</td>\n",
       "      <td>1.0</td>\n",
       "    </tr>\n",
       "  </tbody>\n",
       "</table>\n",
       "<p>177 rows × 8 columns</p>\n",
       "</div>"
      ],
      "text/plain": [
       "      image_id  label_id          create_time      tdate  \\\n",
       "677      22278        27  2020-06-13 08:54:57 2020-07-12   \n",
       "1392     23698        25  2020-07-21 19:28:19 2020-08-10   \n",
       "2072     24775        25  2020-09-04 11:40:45 2020-09-22   \n",
       "391      22031        27  2020-05-29 17:09:07 2020-06-25   \n",
       "16       20700        20  2020-03-19 20:00:35 2020-05-22   \n",
       "...        ...       ...                  ...        ...   \n",
       "1646     23887        26  2020-08-01 15:02:40 2020-08-03   \n",
       "115      21503        25  2020-05-15 16:38:28 2020-05-18   \n",
       "1774     24170        20  2020-08-07 10:05:29 2020-08-07   \n",
       "1794     24233        20  2020-08-10 17:03:54 2020-08-11   \n",
       "2209     27335        25  2020-12-02 15:18:33 2020-12-02   \n",
       "\n",
       "      image_date_amount_sum  group_tdate_sort  amount_sort  group_image_sort  \n",
       "677                21909.58              30.0            2               1.0  \n",
       "1392               28028.61              19.0            2               1.0  \n",
       "2072                9055.68              18.0            3               1.0  \n",
       "391                 3996.92              18.0            4               1.0  \n",
       "16                 19565.28              17.0            2               1.0  \n",
       "...                     ...               ...          ...               ...  \n",
       "1646                3076.63               1.0            4               1.0  \n",
       "115                 5855.88               1.0            4               1.0  \n",
       "1774                 888.17               1.0            4               1.0  \n",
       "1794                6145.51               1.0            4               1.0  \n",
       "2209                4930.35               1.0            4               1.0  \n",
       "\n",
       "[177 rows x 8 columns]"
      ]
     },
     "execution_count": 109,
     "metadata": {},
     "output_type": "execute_result"
    }
   ],
   "source": [
    "image_amount_max.sort_values('group_tdate_sort',ascending=False)"
   ]
  },
  {
   "cell_type": "code",
   "execution_count": 110,
   "metadata": {},
   "outputs": [
    {
     "data": {
      "image/png": "[encoded data removed]",
      "text/plain": [
       "<Figure size 432x288 with 1 Axes>"
      ]
     },
     "metadata": {
      "needs_background": "light"
     },
     "output_type": "display_data"
    }
   ],
   "source": [
    "sns.distplot(image_amount_max['group_tdate_sort'])\n",
    "plt.show()"
   ]
  },
  {
   "cell_type": "code",
   "execution_count": null,
   "metadata": {},
   "outputs": [],
   "source": []
  },
  {
   "cell_type": "code",
   "execution_count": 74,
   "metadata": {},
   "outputs": [],
   "source": [
    "groups_2 = image_date_amount.groupby(['label_id','group_tdate_sort'])\n",
    "label_date_amount = groups_2['image_date_amount_sum'].agg([('label_sort_amount_sum','sum')]).reset_index()"
   ]
  },
  {
   "cell_type": "code",
   "execution_count": 75,
   "metadata": {},
   "outputs": [
    {
     "data": {
      "text/html": [
       "<div>\n",
       "<style scoped>\n",
       "    .dataframe tbody tr th:only-of-type {\n",
       "        vertical-align: middle;\n",
       "    }\n",
       "\n",
       "    .dataframe tbody tr th {\n",
       "        vertical-align: top;\n",
       "    }\n",
       "\n",
       "    .dataframe thead th {\n",
       "        text-align: right;\n",
       "    }\n",
       "</style>\n",
       "<table border=\"1\" class=\"dataframe\">\n",
       "  <thead>\n",
       "    <tr style=\"text-align: right;\">\n",
       "      <th></th>\n",
       "      <th>label_id</th>\n",
       "      <th>group_tdate_sort</th>\n",
       "      <th>label_sort_amount_sum</th>\n",
       "    </tr>\n",
       "  </thead>\n",
       "  <tbody>\n",
       "    <tr>\n",
       "      <th>0</th>\n",
       "      <td>13</td>\n",
       "      <td>1.0</td>\n",
       "      <td>337.08</td>\n",
       "    </tr>\n",
       "    <tr>\n",
       "      <th>1</th>\n",
       "      <td>13</td>\n",
       "      <td>2.0</td>\n",
       "      <td>278.44</td>\n",
       "    </tr>\n",
       "    <tr>\n",
       "      <th>2</th>\n",
       "      <td>13</td>\n",
       "      <td>3.0</td>\n",
       "      <td>608.73</td>\n",
       "    </tr>\n",
       "    <tr>\n",
       "      <th>3</th>\n",
       "      <td>13</td>\n",
       "      <td>4.0</td>\n",
       "      <td>149.47</td>\n",
       "    </tr>\n",
       "    <tr>\n",
       "      <th>4</th>\n",
       "      <td>13</td>\n",
       "      <td>5.0</td>\n",
       "      <td>20.79</td>\n",
       "    </tr>\n",
       "  </tbody>\n",
       "</table>\n",
       "</div>"
      ],
      "text/plain": [
       "   label_id  group_tdate_sort  label_sort_amount_sum\n",
       "0        13               1.0                 337.08\n",
       "1        13               2.0                 278.44\n",
       "2        13               3.0                 608.73\n",
       "3        13               4.0                 149.47\n",
       "4        13               5.0                  20.79"
      ]
     },
     "execution_count": 75,
     "metadata": {},
     "output_type": "execute_result"
    }
   ],
   "source": [
    "label_date_amount.head()"
   ]
  },
  {
   "cell_type": "code",
   "execution_count": 79,
   "metadata": {},
   "outputs": [
    {
     "data": {
      "text/plain": [
       "(205, 3)"
      ]
     },
     "execution_count": 79,
     "metadata": {},
     "output_type": "execute_result"
    }
   ],
   "source": [
    "label_date_amount.shape"
   ]
  },
  {
   "cell_type": "code",
   "execution_count": 76,
   "metadata": {},
   "outputs": [],
   "source": [
    "import matplotlib.pyplot as plt\n",
    "import seaborn as sns"
   ]
  },
  {
   "cell_type": "code",
   "execution_count": 77,
   "metadata": {},
   "outputs": [
    {
     "data": {
      "text/plain": [
       "array([13, 20, 25, 26, 27], dtype=int64)"
      ]
     },
     "execution_count": 77,
     "metadata": {},
     "output_type": "execute_result"
    }
   ],
   "source": [
    "label_date_amount['label_id'].unique()"
   ]
  },
  {
   "cell_type": "code",
   "execution_count": 99,
   "metadata": {
    "scrolled": false
   },
   "outputs": [
    {
     "name": "stdout",
     "output_type": "stream",
     "text": [
      "素材标签 13\n",
      "最大消耗对应的天数 3\n"
     ]
    },
    {
     "data": {
      "image/png": "[encoded data removed]",
      "text/plain": [
       "<Figure size 432x288 with 1 Axes>"
      ]
     },
     "metadata": {
      "needs_background": "light"
     },
     "output_type": "display_data"
    },
    {
     "name": "stdout",
     "output_type": "stream",
     "text": [
      "素材标签 20\n",
      "最大消耗对应的天数 2\n"
     ]
    },
    {
     "data": {
      "image/png": "[encoded data removed]",
      "text/plain": [
       "<Figure size 432x288 with 1 Axes>"
      ]
     },
     "metadata": {
      "needs_background": "light"
     },
     "output_type": "display_data"
    },
    {
     "name": "stdout",
     "output_type": "stream",
     "text": [
      "素材标签 25\n",
      "最大消耗对应的天数 5\n"
     ]
    },
    {
     "data": {
      "image/png": "[encoded data removed]",
      "text/plain": [
       "<Figure size 432x288 with 1 Axes>"
      ]
     },
     "metadata": {
      "needs_background": "light"
     },
     "output_type": "display_data"
    },
    {
     "name": "stdout",
     "output_type": "stream",
     "text": [
      "素材标签 26\n",
      "最大消耗对应的天数 1\n"
     ]
    },
    {
     "data": {
      "image/png": "[encoded data removed]",
      "text/plain": [
       "<Figure size 432x288 with 1 Axes>"
      ]
     },
     "metadata": {
      "needs_background": "light"
     },
     "output_type": "display_data"
    },
    {
     "name": "stdout",
     "output_type": "stream",
     "text": [
      "素材标签 27\n",
      "最大消耗对应的天数 5\n"
     ]
    },
    {
     "data": {
      "image/png": "[encoded data removed]",
      "text/plain": [
       "<Figure size 432x288 with 1 Axes>"
      ]
     },
     "metadata": {
      "needs_background": "light"
     },
     "output_type": "display_data"
    }
   ],
   "source": [
    "for label_id in label_date_amount['label_id'].unique():\n",
    "    print('素材标签', label_id)\n",
    "    data = label_date_amount[label_date_amount['label_id']==label_id]\n",
    "    print('最大消耗对应的天数',int(data[data['label_sort_amount_sum']==data['label_sort_amount_sum'].max()]['group_tdate_sort'].values))\n",
    "    plt.plot(data['group_tdate_sort'], data['label_sort_amount_sum'])\n",
    "    plt.xlabel('group_tdate_sort')\n",
    "    plt.ylabel('label_sort_amount_sum')\n",
    "    plt.show()"
   ]
  },
  {
   "cell_type": "code",
   "execution_count": 80,
   "metadata": {},
   "outputs": [
    {
     "data": {
      "text/html": [
       "<div>\n",
       "<style scoped>\n",
       "    .dataframe tbody tr th:only-of-type {\n",
       "        vertical-align: middle;\n",
       "    }\n",
       "\n",
       "    .dataframe tbody tr th {\n",
       "        vertical-align: top;\n",
       "    }\n",
       "\n",
       "    .dataframe thead th {\n",
       "        text-align: right;\n",
       "    }\n",
       "</style>\n",
       "<table border=\"1\" class=\"dataframe\">\n",
       "  <thead>\n",
       "    <tr style=\"text-align: right;\">\n",
       "      <th></th>\n",
       "      <th>image_id</th>\n",
       "      <th>label_id</th>\n",
       "      <th>create_time</th>\n",
       "      <th>tdate</th>\n",
       "      <th>image_date_amount_sum</th>\n",
       "      <th>group_tdate_sort</th>\n",
       "    </tr>\n",
       "  </thead>\n",
       "  <tbody>\n",
       "    <tr>\n",
       "      <th>0</th>\n",
       "      <td>20700</td>\n",
       "      <td>20</td>\n",
       "      <td>2020-03-19 20:00:35</td>\n",
       "      <td>2020-03-20</td>\n",
       "      <td>6136.38</td>\n",
       "      <td>1.0</td>\n",
       "    </tr>\n",
       "    <tr>\n",
       "      <th>1</th>\n",
       "      <td>20700</td>\n",
       "      <td>20</td>\n",
       "      <td>2020-03-19 20:00:35</td>\n",
       "      <td>2020-03-21</td>\n",
       "      <td>2535.90</td>\n",
       "      <td>2.0</td>\n",
       "    </tr>\n",
       "    <tr>\n",
       "      <th>2</th>\n",
       "      <td>20700</td>\n",
       "      <td>20</td>\n",
       "      <td>2020-03-19 20:00:35</td>\n",
       "      <td>2020-03-22</td>\n",
       "      <td>2535.85</td>\n",
       "      <td>3.0</td>\n",
       "    </tr>\n",
       "    <tr>\n",
       "      <th>32</th>\n",
       "      <td>20700</td>\n",
       "      <td>20</td>\n",
       "      <td>2020-03-19 20:00:35</td>\n",
       "      <td>2020-05-07</td>\n",
       "      <td>1635.74</td>\n",
       "      <td>4.0</td>\n",
       "    </tr>\n",
       "    <tr>\n",
       "      <th>34</th>\n",
       "      <td>20700</td>\n",
       "      <td>20</td>\n",
       "      <td>2020-03-19 20:00:35</td>\n",
       "      <td>2020-05-09</td>\n",
       "      <td>5287.65</td>\n",
       "      <td>5.0</td>\n",
       "    </tr>\n",
       "  </tbody>\n",
       "</table>\n",
       "</div>"
      ],
      "text/plain": [
       "    image_id  label_id          create_time      tdate  image_date_amount_sum  \\\n",
       "0      20700        20  2020-03-19 20:00:35 2020-03-20                6136.38   \n",
       "1      20700        20  2020-03-19 20:00:35 2020-03-21                2535.90   \n",
       "2      20700        20  2020-03-19 20:00:35 2020-03-22                2535.85   \n",
       "32     20700        20  2020-03-19 20:00:35 2020-05-07                1635.74   \n",
       "34     20700        20  2020-03-19 20:00:35 2020-05-09                5287.65   \n",
       "\n",
       "    group_tdate_sort  \n",
       "0                1.0  \n",
       "1                2.0  \n",
       "2                3.0  \n",
       "32               4.0  \n",
       "34               5.0  "
      ]
     },
     "execution_count": 80,
     "metadata": {},
     "output_type": "execute_result"
    }
   ],
   "source": [
    "image_date_amount.head()"
   ]
  },
  {
   "cell_type": "code",
   "execution_count": 81,
   "metadata": {},
   "outputs": [],
   "source": [
    "groups_3 = image_date_amount.groupby('image_id')\n",
    "image_amount_sum = groups_3['image_date_amount_sum'].agg([('image_amount_sum','sum')]).reset_index()"
   ]
  },
  {
   "cell_type": "code",
   "execution_count": 82,
   "metadata": {},
   "outputs": [
    {
     "data": {
      "text/html": [
       "<div>\n",
       "<style scoped>\n",
       "    .dataframe tbody tr th:only-of-type {\n",
       "        vertical-align: middle;\n",
       "    }\n",
       "\n",
       "    .dataframe tbody tr th {\n",
       "        vertical-align: top;\n",
       "    }\n",
       "\n",
       "    .dataframe thead th {\n",
       "        text-align: right;\n",
       "    }\n",
       "</style>\n",
       "<table border=\"1\" class=\"dataframe\">\n",
       "  <thead>\n",
       "    <tr style=\"text-align: right;\">\n",
       "      <th></th>\n",
       "      <th>image_id</th>\n",
       "      <th>image_amount_sum</th>\n",
       "    </tr>\n",
       "  </thead>\n",
       "  <tbody>\n",
       "    <tr>\n",
       "      <th>0</th>\n",
       "      <td>20700</td>\n",
       "      <td>373671.05</td>\n",
       "    </tr>\n",
       "    <tr>\n",
       "      <th>1</th>\n",
       "      <td>21369</td>\n",
       "      <td>227.86</td>\n",
       "    </tr>\n",
       "    <tr>\n",
       "      <th>2</th>\n",
       "      <td>21397</td>\n",
       "      <td>2213.21</td>\n",
       "    </tr>\n",
       "    <tr>\n",
       "      <th>3</th>\n",
       "      <td>21500</td>\n",
       "      <td>166461.58</td>\n",
       "    </tr>\n",
       "    <tr>\n",
       "      <th>4</th>\n",
       "      <td>21503</td>\n",
       "      <td>8708.49</td>\n",
       "    </tr>\n",
       "  </tbody>\n",
       "</table>\n",
       "</div>"
      ],
      "text/plain": [
       "   image_id  image_amount_sum\n",
       "0     20700         373671.05\n",
       "1     21369            227.86\n",
       "2     21397           2213.21\n",
       "3     21500         166461.58\n",
       "4     21503           8708.49"
      ]
     },
     "execution_count": 82,
     "metadata": {},
     "output_type": "execute_result"
    }
   ],
   "source": [
    "image_amount_sum.head()"
   ]
  },
  {
   "cell_type": "code",
   "execution_count": 84,
   "metadata": {},
   "outputs": [
    {
     "data": {
      "text/html": [
       "<div>\n",
       "<style scoped>\n",
       "    .dataframe tbody tr th:only-of-type {\n",
       "        vertical-align: middle;\n",
       "    }\n",
       "\n",
       "    .dataframe tbody tr th {\n",
       "        vertical-align: top;\n",
       "    }\n",
       "\n",
       "    .dataframe thead th {\n",
       "        text-align: right;\n",
       "    }\n",
       "</style>\n",
       "<table border=\"1\" class=\"dataframe\">\n",
       "  <thead>\n",
       "    <tr style=\"text-align: right;\">\n",
       "      <th></th>\n",
       "      <th>image_id</th>\n",
       "      <th>image_amount_sum</th>\n",
       "    </tr>\n",
       "  </thead>\n",
       "  <tbody>\n",
       "    <tr>\n",
       "      <th>77</th>\n",
       "      <td>23552</td>\n",
       "      <td>1500404.20</td>\n",
       "    </tr>\n",
       "    <tr>\n",
       "      <th>84</th>\n",
       "      <td>23688</td>\n",
       "      <td>608946.51</td>\n",
       "    </tr>\n",
       "    <tr>\n",
       "      <th>76</th>\n",
       "      <td>23509</td>\n",
       "      <td>564987.91</td>\n",
       "    </tr>\n",
       "    <tr>\n",
       "      <th>151</th>\n",
       "      <td>24580</td>\n",
       "      <td>528173.91</td>\n",
       "    </tr>\n",
       "    <tr>\n",
       "      <th>70</th>\n",
       "      <td>23135</td>\n",
       "      <td>461361.07</td>\n",
       "    </tr>\n",
       "    <tr>\n",
       "      <th>...</th>\n",
       "      <td>...</td>\n",
       "      <td>...</td>\n",
       "    </tr>\n",
       "    <tr>\n",
       "      <th>164</th>\n",
       "      <td>25058</td>\n",
       "      <td>975.63</td>\n",
       "    </tr>\n",
       "    <tr>\n",
       "      <th>156</th>\n",
       "      <td>24875</td>\n",
       "      <td>808.84</td>\n",
       "    </tr>\n",
       "    <tr>\n",
       "      <th>1</th>\n",
       "      <td>21369</td>\n",
       "      <td>227.86</td>\n",
       "    </tr>\n",
       "    <tr>\n",
       "      <th>52</th>\n",
       "      <td>22357</td>\n",
       "      <td>211.59</td>\n",
       "    </tr>\n",
       "    <tr>\n",
       "      <th>168</th>\n",
       "      <td>25979</td>\n",
       "      <td>72.01</td>\n",
       "    </tr>\n",
       "  </tbody>\n",
       "</table>\n",
       "<p>177 rows × 2 columns</p>\n",
       "</div>"
      ],
      "text/plain": [
       "     image_id  image_amount_sum\n",
       "77      23552        1500404.20\n",
       "84      23688         608946.51\n",
       "76      23509         564987.91\n",
       "151     24580         528173.91\n",
       "70      23135         461361.07\n",
       "..        ...               ...\n",
       "164     25058            975.63\n",
       "156     24875            808.84\n",
       "1       21369            227.86\n",
       "52      22357            211.59\n",
       "168     25979             72.01\n",
       "\n",
       "[177 rows x 2 columns]"
      ]
     },
     "execution_count": 84,
     "metadata": {},
     "output_type": "execute_result"
    }
   ],
   "source": [
    "image_amount_sum.sort_values('image_amount_sum',ascending=False)"
   ]
  },
  {
   "cell_type": "code",
   "execution_count": 83,
   "metadata": {},
   "outputs": [
    {
     "data": {
      "image/png": "[encoded data removed]",
      "text/plain": [
       "<Figure size 432x288 with 1 Axes>"
      ]
     },
     "metadata": {
      "needs_background": "light"
     },
     "output_type": "display_data"
    }
   ],
   "source": [
    "sns.distplot(image_amount_sum['image_amount_sum'])\n",
    "plt.show()"
   ]
  },
  {
   "cell_type": "code",
   "execution_count": 85,
   "metadata": {},
   "outputs": [],
   "source": [
    "image_amount_sum['amount_sort'] = image_amount_sum['image_amount_sum'].apply(lambda x:1 if x>=500000 else(2 if x>=200000 else (3 if x>=50000 else 4)))"
   ]
  },
  {
   "cell_type": "code",
   "execution_count": 86,
   "metadata": {},
   "outputs": [],
   "source": [
    "image_date_amount = pd.merge(image_date_amount,image_amount_sum[['image_id','amount_sort']], on='image_id',how='left')"
   ]
  },
  {
   "cell_type": "code",
   "execution_count": 87,
   "metadata": {},
   "outputs": [
    {
     "data": {
      "text/html": [
       "<div>\n",
       "<style scoped>\n",
       "    .dataframe tbody tr th:only-of-type {\n",
       "        vertical-align: middle;\n",
       "    }\n",
       "\n",
       "    .dataframe tbody tr th {\n",
       "        vertical-align: top;\n",
       "    }\n",
       "\n",
       "    .dataframe thead th {\n",
       "        text-align: right;\n",
       "    }\n",
       "</style>\n",
       "<table border=\"1\" class=\"dataframe\">\n",
       "  <thead>\n",
       "    <tr style=\"text-align: right;\">\n",
       "      <th></th>\n",
       "      <th>image_id</th>\n",
       "      <th>label_id</th>\n",
       "      <th>create_time</th>\n",
       "      <th>tdate</th>\n",
       "      <th>image_date_amount_sum</th>\n",
       "      <th>group_tdate_sort</th>\n",
       "      <th>amount_sort</th>\n",
       "    </tr>\n",
       "  </thead>\n",
       "  <tbody>\n",
       "    <tr>\n",
       "      <th>0</th>\n",
       "      <td>20700</td>\n",
       "      <td>20</td>\n",
       "      <td>2020-03-19 20:00:35</td>\n",
       "      <td>2020-03-20</td>\n",
       "      <td>6136.38</td>\n",
       "      <td>1.0</td>\n",
       "      <td>2</td>\n",
       "    </tr>\n",
       "    <tr>\n",
       "      <th>1</th>\n",
       "      <td>20700</td>\n",
       "      <td>20</td>\n",
       "      <td>2020-03-19 20:00:35</td>\n",
       "      <td>2020-03-21</td>\n",
       "      <td>2535.90</td>\n",
       "      <td>2.0</td>\n",
       "      <td>2</td>\n",
       "    </tr>\n",
       "    <tr>\n",
       "      <th>2</th>\n",
       "      <td>20700</td>\n",
       "      <td>20</td>\n",
       "      <td>2020-03-19 20:00:35</td>\n",
       "      <td>2020-03-22</td>\n",
       "      <td>2535.85</td>\n",
       "      <td>3.0</td>\n",
       "      <td>2</td>\n",
       "    </tr>\n",
       "    <tr>\n",
       "      <th>3</th>\n",
       "      <td>20700</td>\n",
       "      <td>20</td>\n",
       "      <td>2020-03-19 20:00:35</td>\n",
       "      <td>2020-05-07</td>\n",
       "      <td>1635.74</td>\n",
       "      <td>4.0</td>\n",
       "      <td>2</td>\n",
       "    </tr>\n",
       "    <tr>\n",
       "      <th>4</th>\n",
       "      <td>20700</td>\n",
       "      <td>20</td>\n",
       "      <td>2020-03-19 20:00:35</td>\n",
       "      <td>2020-05-09</td>\n",
       "      <td>5287.65</td>\n",
       "      <td>5.0</td>\n",
       "      <td>2</td>\n",
       "    </tr>\n",
       "  </tbody>\n",
       "</table>\n",
       "</div>"
      ],
      "text/plain": [
       "   image_id  label_id          create_time      tdate  image_date_amount_sum  \\\n",
       "0     20700        20  2020-03-19 20:00:35 2020-03-20                6136.38   \n",
       "1     20700        20  2020-03-19 20:00:35 2020-03-21                2535.90   \n",
       "2     20700        20  2020-03-19 20:00:35 2020-03-22                2535.85   \n",
       "3     20700        20  2020-03-19 20:00:35 2020-05-07                1635.74   \n",
       "4     20700        20  2020-03-19 20:00:35 2020-05-09                5287.65   \n",
       "\n",
       "   group_tdate_sort  amount_sort  \n",
       "0               1.0            2  \n",
       "1               2.0            2  \n",
       "2               3.0            2  \n",
       "3               4.0            2  \n",
       "4               5.0            2  "
      ]
     },
     "execution_count": 87,
     "metadata": {},
     "output_type": "execute_result"
    }
   ],
   "source": [
    "image_date_amount.head()"
   ]
  },
  {
   "cell_type": "code",
   "execution_count": 88,
   "metadata": {},
   "outputs": [],
   "source": [
    "groups_4 = image_date_amount.groupby(['amount_sort','group_tdate_sort'])\n",
    "amount_date_amount = groups_4['image_date_amount_sum'].agg([('amount_sort_amount_sum','sum')]).reset_index()"
   ]
  },
  {
   "cell_type": "code",
   "execution_count": 90,
   "metadata": {},
   "outputs": [
    {
     "data": {
      "text/html": [
       "<div>\n",
       "<style scoped>\n",
       "    .dataframe tbody tr th:only-of-type {\n",
       "        vertical-align: middle;\n",
       "    }\n",
       "\n",
       "    .dataframe tbody tr th {\n",
       "        vertical-align: top;\n",
       "    }\n",
       "\n",
       "    .dataframe thead th {\n",
       "        text-align: right;\n",
       "    }\n",
       "</style>\n",
       "<table border=\"1\" class=\"dataframe\">\n",
       "  <thead>\n",
       "    <tr style=\"text-align: right;\">\n",
       "      <th></th>\n",
       "      <th>amount_sort</th>\n",
       "      <th>group_tdate_sort</th>\n",
       "      <th>amount_sort_amount_sum</th>\n",
       "    </tr>\n",
       "  </thead>\n",
       "  <tbody>\n",
       "    <tr>\n",
       "      <th>0</th>\n",
       "      <td>1</td>\n",
       "      <td>1.0</td>\n",
       "      <td>28981.95</td>\n",
       "    </tr>\n",
       "    <tr>\n",
       "      <th>1</th>\n",
       "      <td>1</td>\n",
       "      <td>2.0</td>\n",
       "      <td>62382.84</td>\n",
       "    </tr>\n",
       "    <tr>\n",
       "      <th>2</th>\n",
       "      <td>1</td>\n",
       "      <td>3.0</td>\n",
       "      <td>76255.77</td>\n",
       "    </tr>\n",
       "    <tr>\n",
       "      <th>3</th>\n",
       "      <td>1</td>\n",
       "      <td>4.0</td>\n",
       "      <td>103326.93</td>\n",
       "    </tr>\n",
       "    <tr>\n",
       "      <th>4</th>\n",
       "      <td>1</td>\n",
       "      <td>5.0</td>\n",
       "      <td>227809.72</td>\n",
       "    </tr>\n",
       "  </tbody>\n",
       "</table>\n",
       "</div>"
      ],
      "text/plain": [
       "   amount_sort  group_tdate_sort  amount_sort_amount_sum\n",
       "0            1               1.0                28981.95\n",
       "1            1               2.0                62382.84\n",
       "2            1               3.0                76255.77\n",
       "3            1               4.0               103326.93\n",
       "4            1               5.0               227809.72"
      ]
     },
     "execution_count": 90,
     "metadata": {},
     "output_type": "execute_result"
    }
   ],
   "source": [
    "amount_date_amount.head()"
   ]
  },
  {
   "cell_type": "code",
   "execution_count": 100,
   "metadata": {},
   "outputs": [
    {
     "name": "stdout",
     "output_type": "stream",
     "text": [
      "素材总消耗金额当档次 1\n",
      "最大消耗对应的天数 5\n"
     ]
    },
    {
     "data": {
      "image/png": "[encoded data removed]",
      "text/plain": [
       "<Figure size 432x288 with 1 Axes>"
      ]
     },
     "metadata": {
      "needs_background": "light"
     },
     "output_type": "display_data"
    },
    {
     "name": "stdout",
     "output_type": "stream",
     "text": [
      "素材总消耗金额当档次 2\n",
      "最大消耗对应的天数 9\n"
     ]
    },
    {
     "data": {
      "image/png": "[encoded data removed]",
      "text/plain": [
       "<Figure size 432x288 with 1 Axes>"
      ]
     },
     "metadata": {
      "needs_background": "light"
     },
     "output_type": "display_data"
    },
    {
     "name": "stdout",
     "output_type": "stream",
     "text": [
      "素材总消耗金额当档次 3\n",
      "最大消耗对应的天数 5\n"
     ]
    },
    {
     "data": {
      "image/png": "[encoded data removed]",
      "text/plain": [
       "<Figure size 432x288 with 1 Axes>"
      ]
     },
     "metadata": {
      "needs_background": "light"
     },
     "output_type": "display_data"
    },
    {
     "name": "stdout",
     "output_type": "stream",
     "text": [
      "素材总消耗金额当档次 4\n",
      "最大消耗对应的天数 2\n"
     ]
    },
    {
     "data": {
      "image/png": "[encoded data removed]",
      "text/plain": [
       "<Figure size 432x288 with 1 Axes>"
      ]
     },
     "metadata": {
      "needs_background": "light"
     },
     "output_type": "display_data"
    }
   ],
   "source": [
    "for amount_sort in amount_date_amount['amount_sort'].unique():\n",
    "    print('素材总消耗金额当档次',amount_sort)\n",
    "    data = amount_date_amount[amount_date_amount['amount_sort']==amount_sort]\n",
    "    print('最大消耗对应的天数',int(data[data['amount_sort_amount_sum']==data['amount_sort_amount_sum'].max()]['group_tdate_sort'].values))\n",
    "    plt.plot(data['group_tdate_sort'], data['amount_sort_amount_sum']) \n",
    "    plt.xlabel('group_tdate_sort')\n",
    "    plt.ylabel('label_sort_amount_sum')\n",
    "    plt.show()"
   ]
  },
  {
   "cell_type": "code",
   "execution_count": 114,
   "metadata": {},
   "outputs": [
    {
     "name": "stderr",
     "output_type": "stream",
     "text": [
      "C:\\Users\\Administrator\\anaconda3\\lib\\site-packages\\numpy\\lib\\arraysetops.py:569: FutureWarning: elementwise comparison failed; returning scalar instead, but in the future will perform elementwise comparison\n",
      "  mask |= (ar1 == a)\n"
     ]
    }
   ],
   "source": [
    "df1 = pd.read_csv('./2020末日全年计划数据new.csv',index_col=0)\n",
    "df2 = pd.read_csv('./计划数据.csv')"
   ]
  },
  {
   "cell_type": "code",
   "execution_count": 115,
   "metadata": {},
   "outputs": [
    {
     "data": {
      "text/html": [
       "<div>\n",
       "<style scoped>\n",
       "    .dataframe tbody tr th:only-of-type {\n",
       "        vertical-align: middle;\n",
       "    }\n",
       "\n",
       "    .dataframe tbody tr th {\n",
       "        vertical-align: top;\n",
       "    }\n",
       "\n",
       "    .dataframe thead th {\n",
       "        text-align: right;\n",
       "    }\n",
       "</style>\n",
       "<table border=\"1\" class=\"dataframe\">\n",
       "  <thead>\n",
       "    <tr style=\"text-align: right;\">\n",
       "      <th></th>\n",
       "      <th>tdate</th>\n",
       "      <th>tdate_type</th>\n",
       "      <th>game_id</th>\n",
       "      <th>source_id</th>\n",
       "      <th>media_id</th>\n",
       "      <th>manager_id</th>\n",
       "      <th>amount</th>\n",
       "      <th>new_role_money</th>\n",
       "      <th>create_role_num</th>\n",
       "      <th>pay_role_user_num</th>\n",
       "    </tr>\n",
       "  </thead>\n",
       "  <tbody>\n",
       "    <tr>\n",
       "      <th>0</th>\n",
       "      <td>2020-01-01 00:00:00</td>\n",
       "      <td>day</td>\n",
       "      <td>1000840</td>\n",
       "      <td>187935</td>\n",
       "      <td>10</td>\n",
       "      <td>12051</td>\n",
       "      <td>0.0</td>\n",
       "      <td>0</td>\n",
       "      <td>0</td>\n",
       "      <td>0</td>\n",
       "    </tr>\n",
       "    <tr>\n",
       "      <th>1</th>\n",
       "      <td>2020-01-01 00:00:00</td>\n",
       "      <td>day</td>\n",
       "      <td>1000840</td>\n",
       "      <td>188542</td>\n",
       "      <td>26</td>\n",
       "      <td>12051</td>\n",
       "      <td>0.0</td>\n",
       "      <td>0</td>\n",
       "      <td>0</td>\n",
       "      <td>0</td>\n",
       "    </tr>\n",
       "    <tr>\n",
       "      <th>2</th>\n",
       "      <td>2020-01-01 00:00:00</td>\n",
       "      <td>day</td>\n",
       "      <td>1000840</td>\n",
       "      <td>188899</td>\n",
       "      <td>26</td>\n",
       "      <td>12051</td>\n",
       "      <td>0.0</td>\n",
       "      <td>0</td>\n",
       "      <td>0</td>\n",
       "      <td>0</td>\n",
       "    </tr>\n",
       "    <tr>\n",
       "      <th>3</th>\n",
       "      <td>2020-01-01 00:00:00</td>\n",
       "      <td>day</td>\n",
       "      <td>1000840</td>\n",
       "      <td>189469</td>\n",
       "      <td>10</td>\n",
       "      <td>12051</td>\n",
       "      <td>0.0</td>\n",
       "      <td>0</td>\n",
       "      <td>0</td>\n",
       "      <td>0</td>\n",
       "    </tr>\n",
       "    <tr>\n",
       "      <th>4</th>\n",
       "      <td>2020-01-01 00:00:00</td>\n",
       "      <td>day</td>\n",
       "      <td>1000840</td>\n",
       "      <td>191609</td>\n",
       "      <td>26</td>\n",
       "      <td>12051</td>\n",
       "      <td>0.0</td>\n",
       "      <td>0</td>\n",
       "      <td>0</td>\n",
       "      <td>0</td>\n",
       "    </tr>\n",
       "  </tbody>\n",
       "</table>\n",
       "</div>"
      ],
      "text/plain": [
       "                 tdate tdate_type  game_id  source_id  media_id  manager_id  \\\n",
       "0  2020-01-01 00:00:00        day  1000840     187935        10       12051   \n",
       "1  2020-01-01 00:00:00        day  1000840     188542        26       12051   \n",
       "2  2020-01-01 00:00:00        day  1000840     188899        26       12051   \n",
       "3  2020-01-01 00:00:00        day  1000840     189469        10       12051   \n",
       "4  2020-01-01 00:00:00        day  1000840     191609        26       12051   \n",
       "\n",
       "   amount  new_role_money  create_role_num  pay_role_user_num  \n",
       "0     0.0               0                0                  0  \n",
       "1     0.0               0                0                  0  \n",
       "2     0.0               0                0                  0  \n",
       "3     0.0               0                0                  0  \n",
       "4     0.0               0                0                  0  "
      ]
     },
     "execution_count": 115,
     "metadata": {},
     "output_type": "execute_result"
    }
   ],
   "source": [
    "df1.head()"
   ]
  },
  {
   "cell_type": "code",
   "execution_count": 116,
   "metadata": {},
   "outputs": [
    {
     "data": {
      "text/html": [
       "<div>\n",
       "<style scoped>\n",
       "    .dataframe tbody tr th:only-of-type {\n",
       "        vertical-align: middle;\n",
       "    }\n",
       "\n",
       "    .dataframe tbody tr th {\n",
       "        vertical-align: top;\n",
       "    }\n",
       "\n",
       "    .dataframe thead th {\n",
       "        text-align: right;\n",
       "    }\n",
       "</style>\n",
       "<table border=\"1\" class=\"dataframe\">\n",
       "  <thead>\n",
       "    <tr style=\"text-align: right;\">\n",
       "      <th></th>\n",
       "      <th>tdate</th>\n",
       "      <th>tdate_type</th>\n",
       "      <th>game_id</th>\n",
       "      <th>source_id</th>\n",
       "      <th>media_id</th>\n",
       "      <th>manager_id</th>\n",
       "      <th>amount</th>\n",
       "      <th>new_role_money</th>\n",
       "      <th>create_role_num</th>\n",
       "      <th>pay_role_user_num</th>\n",
       "    </tr>\n",
       "  </thead>\n",
       "  <tbody>\n",
       "    <tr>\n",
       "      <th>0</th>\n",
       "      <td>2018/7/30 00:00:00</td>\n",
       "      <td>week</td>\n",
       "      <td>1000840</td>\n",
       "      <td>191133</td>\n",
       "      <td>142</td>\n",
       "      <td>12325</td>\n",
       "      <td>0.0</td>\n",
       "      <td>0</td>\n",
       "      <td>0</td>\n",
       "      <td>0</td>\n",
       "    </tr>\n",
       "    <tr>\n",
       "      <th>1</th>\n",
       "      <td>2018/8/1 00:00:00</td>\n",
       "      <td>month</td>\n",
       "      <td>1000840</td>\n",
       "      <td>191133</td>\n",
       "      <td>142</td>\n",
       "      <td>12325</td>\n",
       "      <td>0.0</td>\n",
       "      <td>0</td>\n",
       "      <td>0</td>\n",
       "      <td>0</td>\n",
       "    </tr>\n",
       "    <tr>\n",
       "      <th>2</th>\n",
       "      <td>2018/8/5 00:00:00</td>\n",
       "      <td>day</td>\n",
       "      <td>1000840</td>\n",
       "      <td>191133</td>\n",
       "      <td>142</td>\n",
       "      <td>12325</td>\n",
       "      <td>0.0</td>\n",
       "      <td>0</td>\n",
       "      <td>0</td>\n",
       "      <td>0</td>\n",
       "    </tr>\n",
       "    <tr>\n",
       "      <th>3</th>\n",
       "      <td>2018/9/1 00:00:00</td>\n",
       "      <td>month</td>\n",
       "      <td>1000862</td>\n",
       "      <td>204476</td>\n",
       "      <td>16</td>\n",
       "      <td>12045</td>\n",
       "      <td>0.0</td>\n",
       "      <td>0</td>\n",
       "      <td>0</td>\n",
       "      <td>0</td>\n",
       "    </tr>\n",
       "    <tr>\n",
       "      <th>4</th>\n",
       "      <td>2018/9/17 00:00:00</td>\n",
       "      <td>week</td>\n",
       "      <td>1000862</td>\n",
       "      <td>204476</td>\n",
       "      <td>16</td>\n",
       "      <td>12045</td>\n",
       "      <td>0.0</td>\n",
       "      <td>0</td>\n",
       "      <td>0</td>\n",
       "      <td>0</td>\n",
       "    </tr>\n",
       "  </tbody>\n",
       "</table>\n",
       "</div>"
      ],
      "text/plain": [
       "                tdate tdate_type  game_id  source_id  media_id  manager_id  \\\n",
       "0  2018/7/30 00:00:00       week  1000840     191133       142       12325   \n",
       "1   2018/8/1 00:00:00      month  1000840     191133       142       12325   \n",
       "2   2018/8/5 00:00:00        day  1000840     191133       142       12325   \n",
       "3   2018/9/1 00:00:00      month  1000862     204476        16       12045   \n",
       "4  2018/9/17 00:00:00       week  1000862     204476        16       12045   \n",
       "\n",
       "   amount  new_role_money  create_role_num  pay_role_user_num  \n",
       "0     0.0               0                0                  0  \n",
       "1     0.0               0                0                  0  \n",
       "2     0.0               0                0                  0  \n",
       "3     0.0               0                0                  0  \n",
       "4     0.0               0                0                  0  "
      ]
     },
     "execution_count": 116,
     "metadata": {},
     "output_type": "execute_result"
    }
   ],
   "source": [
    "df2.head()"
   ]
  },
  {
   "cell_type": "code",
   "execution_count": null,
   "metadata": {},
   "outputs": [],
   "source": [
    "df3 = pd.DataFramea({'A':[1,2],'B:[]'})"
   ]
  }
 ],
 "metadata": {
  "kernelspec": {
   "display_name": "Python 3",
   "language": "python",
   "name": "python3"
  },
  "language_info": {
   "codemirror_mode": {
    "name": "ipython",
    "version": 3
   },
   "file_extension": ".py",
   "mimetype": "text/x-python",
   "name": "python",
   "nbconvert_exporter": "python",
   "pygments_lexer": "ipython3",
   "version": "3.7.6"
  }
 },
 "nbformat": 4,
 "nbformat_minor": 4
}
