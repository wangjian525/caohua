{
 "cells": [
  {
   "cell_type": "code",
   "execution_count": 1,
   "metadata": {},
   "outputs": [],
   "source": [
    "import pandas as pd\n",
    "import numpy as np\n",
    "import matplotlib.pyplot as plt\n",
    "import seaborn as sns\n",
    "import warnings\n",
    "warnings.filterwarnings('ignore')"
   ]
  },
  {
   "cell_type": "code",
   "execution_count": 3,
   "metadata": {},
   "outputs": [],
   "source": [
    "# image_info = pd.read_excel('./image_info.xls')\n",
    "image_info = pd.read_csv('./train_data.csv')"
   ]
  },
  {
   "cell_type": "code",
   "execution_count": 4,
   "metadata": {},
   "outputs": [],
   "source": [
    "pd.set_option('display.max_columns',None)"
   ]
  },
  {
   "cell_type": "code",
   "execution_count": 5,
   "metadata": {},
   "outputs": [
    {
     "data": {
      "text/html": [
       "<div>\n",
       "<style scoped>\n",
       "    .dataframe tbody tr th:only-of-type {\n",
       "        vertical-align: middle;\n",
       "    }\n",
       "\n",
       "    .dataframe tbody tr th {\n",
       "        vertical-align: top;\n",
       "    }\n",
       "\n",
       "    .dataframe thead th {\n",
       "        text-align: right;\n",
       "    }\n",
       "</style>\n",
       "<table border=\"1\" class=\"dataframe\">\n",
       "  <thead>\n",
       "    <tr style=\"text-align: right;\">\n",
       "      <th></th>\n",
       "      <th>image_id</th>\n",
       "      <th>image_name</th>\n",
       "      <th>media_id</th>\n",
       "      <th>image_launch_time</th>\n",
       "      <th>image_source_total_num</th>\n",
       "      <th>image_run_date_amount</th>\n",
       "      <th>image_create_role_pay_num</th>\n",
       "      <th>image_create_role_num</th>\n",
       "      <th>image_create_role_pay_sum</th>\n",
       "      <th>image_source_num</th>\n",
       "      <th>image_create_role_pay_rate</th>\n",
       "      <th>image_create_role_cost</th>\n",
       "      <th>image_create_role_pay_cost</th>\n",
       "      <th>image_valid_source_num</th>\n",
       "      <th>image_valid_source_rate</th>\n",
       "      <th>image_pay_sum_ability</th>\n",
       "      <th>image_pay_num_ability</th>\n",
       "      <th>image_create_role_roi</th>\n",
       "      <th>image_create_role_retain_1d</th>\n",
       "      <th>create_role_30_pay_sum</th>\n",
       "      <th>model_run_datetime</th>\n",
       "      <th>data_win</th>\n",
       "    </tr>\n",
       "  </thead>\n",
       "  <tbody>\n",
       "    <tr>\n",
       "      <th>0</th>\n",
       "      <td>16276</td>\n",
       "      <td>SSR114-竖版-088.089合体版本</td>\n",
       "      <td>10</td>\n",
       "      <td>2019-08-14</td>\n",
       "      <td>290.0</td>\n",
       "      <td>4418.01</td>\n",
       "      <td>0.0</td>\n",
       "      <td>163.0</td>\n",
       "      <td>0.0</td>\n",
       "      <td>7.0</td>\n",
       "      <td>0.0</td>\n",
       "      <td>27.104356</td>\n",
       "      <td>0.0</td>\n",
       "      <td>0.0</td>\n",
       "      <td>0.0</td>\n",
       "      <td>0.0</td>\n",
       "      <td>0.0</td>\n",
       "      <td>0.0</td>\n",
       "      <td>0.0982</td>\n",
       "      <td>0.0</td>\n",
       "      <td>2020-10-01</td>\n",
       "      <td>3</td>\n",
       "    </tr>\n",
       "    <tr>\n",
       "      <th>1</th>\n",
       "      <td>16316</td>\n",
       "      <td>SSR123-竖版</td>\n",
       "      <td>10</td>\n",
       "      <td>2019-08-16</td>\n",
       "      <td>258.0</td>\n",
       "      <td>1023.57</td>\n",
       "      <td>0.0</td>\n",
       "      <td>7.0</td>\n",
       "      <td>0.0</td>\n",
       "      <td>2.0</td>\n",
       "      <td>0.0</td>\n",
       "      <td>146.224286</td>\n",
       "      <td>0.0</td>\n",
       "      <td>0.0</td>\n",
       "      <td>0.0</td>\n",
       "      <td>0.0</td>\n",
       "      <td>0.0</td>\n",
       "      <td>0.0</td>\n",
       "      <td>0.1111</td>\n",
       "      <td>0.0</td>\n",
       "      <td>2020-10-01</td>\n",
       "      <td>3</td>\n",
       "    </tr>\n",
       "    <tr>\n",
       "      <th>2</th>\n",
       "      <td>18216</td>\n",
       "      <td>SSR469-横版（端游混剪)</td>\n",
       "      <td>10</td>\n",
       "      <td>2019-10-31</td>\n",
       "      <td>111.0</td>\n",
       "      <td>2830.19</td>\n",
       "      <td>0.0</td>\n",
       "      <td>55.0</td>\n",
       "      <td>0.0</td>\n",
       "      <td>1.0</td>\n",
       "      <td>0.0</td>\n",
       "      <td>51.458000</td>\n",
       "      <td>0.0</td>\n",
       "      <td>0.0</td>\n",
       "      <td>0.0</td>\n",
       "      <td>0.0</td>\n",
       "      <td>0.0</td>\n",
       "      <td>0.0</td>\n",
       "      <td>0.0517</td>\n",
       "      <td>0.0</td>\n",
       "      <td>2020-10-01</td>\n",
       "      <td>3</td>\n",
       "    </tr>\n",
       "    <tr>\n",
       "      <th>3</th>\n",
       "      <td>19100</td>\n",
       "      <td>SSR583-横版（混剪）</td>\n",
       "      <td>10</td>\n",
       "      <td>2020-01-06</td>\n",
       "      <td>82.0</td>\n",
       "      <td>3101.89</td>\n",
       "      <td>0.0</td>\n",
       "      <td>48.0</td>\n",
       "      <td>0.0</td>\n",
       "      <td>1.0</td>\n",
       "      <td>0.0</td>\n",
       "      <td>64.622708</td>\n",
       "      <td>0.0</td>\n",
       "      <td>0.0</td>\n",
       "      <td>0.0</td>\n",
       "      <td>0.0</td>\n",
       "      <td>0.0</td>\n",
       "      <td>0.0</td>\n",
       "      <td>0.0408</td>\n",
       "      <td>0.0</td>\n",
       "      <td>2020-10-01</td>\n",
       "      <td>3</td>\n",
       "    </tr>\n",
       "    <tr>\n",
       "      <th>4</th>\n",
       "      <td>19208</td>\n",
       "      <td>SSR607-竖版（混剪）</td>\n",
       "      <td>10</td>\n",
       "      <td>2019-12-17</td>\n",
       "      <td>278.0</td>\n",
       "      <td>3101.89</td>\n",
       "      <td>0.0</td>\n",
       "      <td>47.0</td>\n",
       "      <td>0.0</td>\n",
       "      <td>1.0</td>\n",
       "      <td>0.0</td>\n",
       "      <td>65.997660</td>\n",
       "      <td>0.0</td>\n",
       "      <td>0.0</td>\n",
       "      <td>0.0</td>\n",
       "      <td>0.0</td>\n",
       "      <td>0.0</td>\n",
       "      <td>0.0</td>\n",
       "      <td>0.0213</td>\n",
       "      <td>12.0</td>\n",
       "      <td>2020-10-01</td>\n",
       "      <td>3</td>\n",
       "    </tr>\n",
       "  </tbody>\n",
       "</table>\n",
       "</div>"
      ],
      "text/plain": [
       "   image_id             image_name  media_id image_launch_time  \\\n",
       "0     16276  SSR114-竖版-088.089合体版本        10        2019-08-14   \n",
       "1     16316              SSR123-竖版        10        2019-08-16   \n",
       "2     18216        SSR469-横版（端游混剪)        10        2019-10-31   \n",
       "3     19100          SSR583-横版（混剪）        10        2020-01-06   \n",
       "4     19208          SSR607-竖版（混剪）        10        2019-12-17   \n",
       "\n",
       "   image_source_total_num  image_run_date_amount  image_create_role_pay_num  \\\n",
       "0                   290.0                4418.01                        0.0   \n",
       "1                   258.0                1023.57                        0.0   \n",
       "2                   111.0                2830.19                        0.0   \n",
       "3                    82.0                3101.89                        0.0   \n",
       "4                   278.0                3101.89                        0.0   \n",
       "\n",
       "   image_create_role_num  image_create_role_pay_sum  image_source_num  \\\n",
       "0                  163.0                        0.0               7.0   \n",
       "1                    7.0                        0.0               2.0   \n",
       "2                   55.0                        0.0               1.0   \n",
       "3                   48.0                        0.0               1.0   \n",
       "4                   47.0                        0.0               1.0   \n",
       "\n",
       "   image_create_role_pay_rate  image_create_role_cost  \\\n",
       "0                         0.0               27.104356   \n",
       "1                         0.0              146.224286   \n",
       "2                         0.0               51.458000   \n",
       "3                         0.0               64.622708   \n",
       "4                         0.0               65.997660   \n",
       "\n",
       "   image_create_role_pay_cost  image_valid_source_num  \\\n",
       "0                         0.0                     0.0   \n",
       "1                         0.0                     0.0   \n",
       "2                         0.0                     0.0   \n",
       "3                         0.0                     0.0   \n",
       "4                         0.0                     0.0   \n",
       "\n",
       "   image_valid_source_rate  image_pay_sum_ability  image_pay_num_ability  \\\n",
       "0                      0.0                    0.0                    0.0   \n",
       "1                      0.0                    0.0                    0.0   \n",
       "2                      0.0                    0.0                    0.0   \n",
       "3                      0.0                    0.0                    0.0   \n",
       "4                      0.0                    0.0                    0.0   \n",
       "\n",
       "   image_create_role_roi  image_create_role_retain_1d  create_role_30_pay_sum  \\\n",
       "0                    0.0                       0.0982                     0.0   \n",
       "1                    0.0                       0.1111                     0.0   \n",
       "2                    0.0                       0.0517                     0.0   \n",
       "3                    0.0                       0.0408                     0.0   \n",
       "4                    0.0                       0.0213                    12.0   \n",
       "\n",
       "  model_run_datetime  data_win  \n",
       "0         2020-10-01         3  \n",
       "1         2020-10-01         3  \n",
       "2         2020-10-01         3  \n",
       "3         2020-10-01         3  \n",
       "4         2020-10-01         3  "
      ]
     },
     "execution_count": 5,
     "metadata": {},
     "output_type": "execute_result"
    }
   ],
   "source": [
    "image_info.head()"
   ]
  },
  {
   "cell_type": "code",
   "execution_count": 6,
   "metadata": {},
   "outputs": [
    {
     "data": {
      "text/plain": [
       "(48300, 22)"
      ]
     },
     "execution_count": 6,
     "metadata": {},
     "output_type": "execute_result"
    }
   ],
   "source": [
    "image_info.shape"
   ]
  },
  {
   "cell_type": "code",
   "execution_count": 7,
   "metadata": {},
   "outputs": [
    {
     "data": {
      "text/plain": [
       "2304"
      ]
     },
     "execution_count": 7,
     "metadata": {},
     "output_type": "execute_result"
    }
   ],
   "source": [
    "image_info['image_id'].nunique()"
   ]
  },
  {
   "cell_type": "code",
   "execution_count": 8,
   "metadata": {},
   "outputs": [],
   "source": [
    "image_info['image_30_roi'] = image_info['create_role_30_pay_sum'] / image_info['image_run_date_amount']"
   ]
  },
  {
   "cell_type": "code",
   "execution_count": 9,
   "metadata": {},
   "outputs": [
    {
     "data": {
      "text/plain": [
       "image_30_roi                   1.000000\n",
       "image_create_role_roi          0.327044\n",
       "create_role_30_pay_sum         0.081270\n",
       "image_create_role_pay_rate     0.079890\n",
       "image_pay_sum_ability          0.054281\n",
       "image_valid_source_rate        0.049399\n",
       "image_create_role_retain_1d    0.034856\n",
       "image_create_role_pay_sum      0.028933\n",
       "image_source_total_num         0.022461\n",
       "image_valid_source_num         0.019343\n",
       "image_id                       0.014495\n",
       "image_pay_num_ability          0.008013\n",
       "image_source_num               0.007297\n",
       "image_create_role_pay_num      0.007265\n",
       "image_create_role_num          0.003550\n",
       "image_run_date_amount          0.003125\n",
       "image_create_role_pay_cost    -0.001091\n",
       "media_id                      -0.017222\n",
       "image_create_role_cost        -0.021391\n",
       "data_win                            NaN\n",
       "Name: image_30_roi, dtype: float64"
      ]
     },
     "execution_count": 9,
     "metadata": {},
     "output_type": "execute_result"
    }
   ],
   "source": [
    "image_info.corr()['image_30_roi'].sort_values(ascending=False)"
   ]
  },
  {
   "cell_type": "code",
   "execution_count": 10,
   "metadata": {},
   "outputs": [],
   "source": [
    "image_info['label'] = image_info['image_30_roi'].apply(lambda x:1 if x>=0.4 else(0 if x<0.25 else 2))"
   ]
  },
  {
   "cell_type": "code",
   "execution_count": 11,
   "metadata": {},
   "outputs": [],
   "source": [
    "image_info_label = image_info[image_info['label']!=2]"
   ]
  },
  {
   "cell_type": "markdown",
   "metadata": {},
   "source": [
    "### EDA"
   ]
  },
  {
   "cell_type": "code",
   "execution_count": 12,
   "metadata": {
    "scrolled": true
   },
   "outputs": [
    {
     "data": {
      "text/plain": [
       "(43978, 24)"
      ]
     },
     "execution_count": 12,
     "metadata": {},
     "output_type": "execute_result"
    }
   ],
   "source": [
    "image_info_label.shape"
   ]
  },
  {
   "cell_type": "code",
   "execution_count": 13,
   "metadata": {},
   "outputs": [],
   "source": [
    "image_info_label = image_info_label[image_info_label['image_run_date_amount']>=500]"
   ]
  },
  {
   "cell_type": "code",
   "execution_count": 14,
   "metadata": {},
   "outputs": [
    {
     "data": {
      "text/plain": [
       "(38294, 24)"
      ]
     },
     "execution_count": 14,
     "metadata": {},
     "output_type": "execute_result"
    }
   ],
   "source": [
    "image_info_label.shape"
   ]
  },
  {
   "cell_type": "code",
   "execution_count": 15,
   "metadata": {},
   "outputs": [
    {
     "data": {
      "text/plain": [
       "data_win                           1\n",
       "label                              2\n",
       "media_id                           2\n",
       "image_valid_source_num            57\n",
       "image_create_role_pay_num        171\n",
       "image_source_num                 225\n",
       "model_run_datetime               283\n",
       "image_source_total_num           298\n",
       "image_launch_time                343\n",
       "image_pay_num_ability            356\n",
       "image_valid_source_rate          444\n",
       "image_create_role_pay_rate       667\n",
       "image_pay_sum_ability           1607\n",
       "image_id                        2171\n",
       "image_name                      2171\n",
       "image_create_role_retain_1d     2207\n",
       "image_create_role_num           3156\n",
       "image_create_role_pay_sum       3422\n",
       "create_role_30_pay_sum          8835\n",
       "image_create_role_roi          16967\n",
       "image_create_role_pay_cost     19335\n",
       "image_30_roi                   25554\n",
       "image_run_date_amount          35551\n",
       "image_create_role_cost         36062\n",
       "dtype: int64"
      ]
     },
     "execution_count": 15,
     "metadata": {},
     "output_type": "execute_result"
    }
   ],
   "source": [
    "image_info_label.nunique().sort_values()"
   ]
  },
  {
   "cell_type": "code",
   "execution_count": 16,
   "metadata": {},
   "outputs": [],
   "source": [
    "image_info_label.drop(['data_win','image_30_roi'], axis=1, inplace=True)"
   ]
  },
  {
   "cell_type": "code",
   "execution_count": 17,
   "metadata": {
    "scrolled": true
   },
   "outputs": [
    {
     "data": {
      "text/plain": [
       "0.0      34176\n",
       "1.0       1015\n",
       "2.0        805\n",
       "3.0        543\n",
       "4.0        416\n",
       "5.0        331\n",
       "6.0        206\n",
       "7.0        161\n",
       "8.0        118\n",
       "9.0         92\n",
       "10.0        81\n",
       "12.0        53\n",
       "11.0        49\n",
       "13.0        34\n",
       "14.0        31\n",
       "15.0        18\n",
       "17.0        18\n",
       "16.0        16\n",
       "19.0        15\n",
       "21.0        14\n",
       "20.0        11\n",
       "18.0         8\n",
       "22.0         7\n",
       "35.0         6\n",
       "23.0         6\n",
       "27.0         5\n",
       "24.0         5\n",
       "30.0         5\n",
       "36.0         4\n",
       "28.0         4\n",
       "26.0         4\n",
       "61.0         3\n",
       "29.0         3\n",
       "54.0         2\n",
       "25.0         2\n",
       "33.0         2\n",
       "55.0         2\n",
       "39.0         2\n",
       "43.0         2\n",
       "47.0         2\n",
       "86.0         1\n",
       "71.0         1\n",
       "70.0         1\n",
       "49.0         1\n",
       "63.0         1\n",
       "32.0         1\n",
       "45.0         1\n",
       "31.0         1\n",
       "46.0         1\n",
       "125.0        1\n",
       "65.0         1\n",
       "34.0         1\n",
       "41.0         1\n",
       "104.0        1\n",
       "62.0         1\n",
       "37.0         1\n",
       "105.0        1\n",
       "Name: image_valid_source_num, dtype: int64"
      ]
     },
     "execution_count": 17,
     "metadata": {},
     "output_type": "execute_result"
    }
   ],
   "source": [
    "image_info_label['image_valid_source_num'].value_counts()"
   ]
  },
  {
   "cell_type": "code",
   "execution_count": 17,
   "metadata": {},
   "outputs": [
    {
     "data": {
      "image/png": "[encoded data removed]",
      "text/plain": [
       "<Figure size 432x288 with 1 Axes>"
      ]
     },
     "metadata": {
      "needs_background": "light"
     },
     "output_type": "display_data"
    },
    {
     "data": {
      "image/png": "[encoded data removed]",
      "text/plain": [
       "<Figure size 432x288 with 1 Axes>"
      ]
     },
     "metadata": {
      "needs_background": "light"
     },
     "output_type": "display_data"
    },
    {
     "data": {
      "image/png": "[encoded data removed]",
      "text/plain": [
       "<Figure size 432x288 with 1 Axes>"
      ]
     },
     "metadata": {
      "needs_background": "light"
     },
     "output_type": "display_data"
    },
    {
     "data": {
      "image/png": "[encoded data removed]",
      "text/plain": [
       "<Figure size 432x288 with 1 Axes>"
      ]
     },
     "metadata": {
      "needs_background": "light"
     },
     "output_type": "display_data"
    },
    {
     "data": {
      "image/png": "[encoded data removed]",
      "text/plain": [
       "<Figure size 432x288 with 1 Axes>"
      ]
     },
     "metadata": {
      "needs_background": "light"
     },
     "output_type": "display_data"
    },
    {
     "data": {
      "image/png": "[encoded data removed]",
      "text/plain": [
       "<Figure size 432x288 with 1 Axes>"
      ]
     },
     "metadata": {
      "needs_background": "light"
     },
     "output_type": "display_data"
    },
    {
     "data": {
      "image/png": "[encoded data removed]",
      "text/plain": [
       "<Figure size 432x288 with 1 Axes>"
      ]
     },
     "metadata": {
      "needs_background": "light"
     },
     "output_type": "display_data"
    },
    {
     "data": {
      "image/png": "[encoded data removed]",
      "text/plain": [
       "<Figure size 432x288 with 1 Axes>"
      ]
     },
     "metadata": {
      "needs_background": "light"
     },
     "output_type": "display_data"
    },
    {
     "data": {
      "image/png": "[encoded data removed]",
      "text/plain": [
       "<Figure size 432x288 with 1 Axes>"
      ]
     },
     "metadata": {
      "needs_background": "light"
     },
     "output_type": "display_data"
    },
    {
     "data": {
      "image/png": "[encoded data removed]",
      "text/plain": [
       "<Figure size 432x288 with 1 Axes>"
      ]
     },
     "metadata": {
      "needs_background": "light"
     },
     "output_type": "display_data"
    }
   ],
   "source": [
    "columns = ['image_run_date_amount', 'image_create_role_pay_num',\n",
    "       'image_create_role_num', 'image_create_role_pay_sum',\n",
    "       'image_source_num', 'image_create_role_pay_rate',\n",
    "       'image_create_role_cost', 'image_create_role_pay_cost',\n",
    "       'image_create_role_roi', 'image_create_role_retain_1d']\n",
    "for col in columns:\n",
    "    sns.distplot(image_info_label[col])\n",
    "    plt.show()"
   ]
  },
  {
   "cell_type": "code",
   "execution_count": 18,
   "metadata": {
    "scrolled": true
   },
   "outputs": [
    {
     "data": {
      "text/plain": [
       "(435, 22)"
      ]
     },
     "execution_count": 18,
     "metadata": {},
     "output_type": "execute_result"
    }
   ],
   "source": [
    "image_info_label[image_info_label['image_create_role_cost']>=800].shape"
   ]
  },
  {
   "cell_type": "code",
   "execution_count": 19,
   "metadata": {},
   "outputs": [],
   "source": [
    "image_info_label = image_info_label[image_info_label['image_create_role_cost']<800]"
   ]
  },
  {
   "cell_type": "code",
   "execution_count": 20,
   "metadata": {},
   "outputs": [],
   "source": [
    "image_info_label['image_create_role_cost'].replace(0,float('inf'),inplace=True)"
   ]
  },
  {
   "cell_type": "code",
   "execution_count": 21,
   "metadata": {},
   "outputs": [],
   "source": [
    "image_info_label['image_create_role_pay_cost'].replace(0,float('inf'),inplace=True)"
   ]
  },
  {
   "cell_type": "code",
   "execution_count": 22,
   "metadata": {},
   "outputs": [
    {
     "data": {
      "text/plain": [
       "170.3275          1\n",
       "276.0450          1\n",
       "290.0350          1\n",
       "307.0750          1\n",
       "316.7900          1\n",
       "              ...  \n",
       "42246.7000        1\n",
       "42881.7900        1\n",
       "43587.9900        1\n",
       "44215.0100        1\n",
       "inf           18198\n",
       "Name: image_create_role_pay_cost, Length: 19311, dtype: int64"
      ]
     },
     "execution_count": 22,
     "metadata": {},
     "output_type": "execute_result"
    }
   ],
   "source": [
    "image_info_label['image_create_role_pay_cost'].value_counts().sort_index()"
   ]
  },
  {
   "cell_type": "code",
   "execution_count": 23,
   "metadata": {},
   "outputs": [],
   "source": [
    "image_info_label = image_info_label[image_info_label['image_create_role_pay_cost']>1000]"
   ]
  },
  {
   "cell_type": "code",
   "execution_count": 24,
   "metadata": {},
   "outputs": [
    {
     "data": {
      "text/plain": [
       "(37431, 22)"
      ]
     },
     "execution_count": 24,
     "metadata": {},
     "output_type": "execute_result"
    }
   ],
   "source": [
    "image_info_label.shape"
   ]
  },
  {
   "cell_type": "code",
   "execution_count": 25,
   "metadata": {},
   "outputs": [
    {
     "data": {
      "image/png": "[encoded data removed]",
      "text/plain": [
       "<Figure size 432x288 with 1 Axes>"
      ]
     },
     "metadata": {
      "needs_background": "light"
     },
     "output_type": "display_data"
    }
   ],
   "source": [
    "sns.countplot(x='label',data=image_info_label)\n",
    "plt.show()"
   ]
  },
  {
   "cell_type": "code",
   "execution_count": 26,
   "metadata": {},
   "outputs": [
    {
     "data": {
      "text/html": [
       "<div>\n",
       "<style scoped>\n",
       "    .dataframe tbody tr th:only-of-type {\n",
       "        vertical-align: middle;\n",
       "    }\n",
       "\n",
       "    .dataframe tbody tr th {\n",
       "        vertical-align: top;\n",
       "    }\n",
       "\n",
       "    .dataframe thead th {\n",
       "        text-align: right;\n",
       "    }\n",
       "</style>\n",
       "<table border=\"1\" class=\"dataframe\">\n",
       "  <thead>\n",
       "    <tr style=\"text-align: right;\">\n",
       "      <th></th>\n",
       "      <th>image_id</th>\n",
       "      <th>media_id</th>\n",
       "      <th>image_source_total_num</th>\n",
       "      <th>image_run_date_amount</th>\n",
       "      <th>image_create_role_pay_num</th>\n",
       "      <th>image_create_role_num</th>\n",
       "      <th>image_create_role_pay_sum</th>\n",
       "      <th>image_source_num</th>\n",
       "      <th>image_create_role_pay_rate</th>\n",
       "      <th>image_create_role_cost</th>\n",
       "      <th>image_create_role_pay_cost</th>\n",
       "      <th>image_valid_source_num</th>\n",
       "      <th>image_valid_source_rate</th>\n",
       "      <th>image_pay_sum_ability</th>\n",
       "      <th>image_pay_num_ability</th>\n",
       "      <th>image_create_role_roi</th>\n",
       "      <th>image_create_role_retain_1d</th>\n",
       "      <th>create_role_30_pay_sum</th>\n",
       "      <th>label</th>\n",
       "    </tr>\n",
       "  </thead>\n",
       "  <tbody>\n",
       "    <tr>\n",
       "      <th>image_id</th>\n",
       "      <td>1.000000</td>\n",
       "      <td>0.084042</td>\n",
       "      <td>-0.042868</td>\n",
       "      <td>0.091032</td>\n",
       "      <td>0.081350</td>\n",
       "      <td>0.029019</td>\n",
       "      <td>0.089889</td>\n",
       "      <td>0.173115</td>\n",
       "      <td>0.061615</td>\n",
       "      <td>0.009480</td>\n",
       "      <td>-0.014511</td>\n",
       "      <td>-0.023702</td>\n",
       "      <td>-0.061272</td>\n",
       "      <td>-0.012685</td>\n",
       "      <td>-0.031905</td>\n",
       "      <td>0.034704</td>\n",
       "      <td>0.025763</td>\n",
       "      <td>0.113699</td>\n",
       "      <td>0.110583</td>\n",
       "    </tr>\n",
       "    <tr>\n",
       "      <th>media_id</th>\n",
       "      <td>0.084042</td>\n",
       "      <td>1.000000</td>\n",
       "      <td>0.015601</td>\n",
       "      <td>-0.130415</td>\n",
       "      <td>-0.137189</td>\n",
       "      <td>-0.153006</td>\n",
       "      <td>-0.108163</td>\n",
       "      <td>-0.031002</td>\n",
       "      <td>-0.003451</td>\n",
       "      <td>0.059186</td>\n",
       "      <td>0.082859</td>\n",
       "      <td>-0.023394</td>\n",
       "      <td>-0.022775</td>\n",
       "      <td>-0.027337</td>\n",
       "      <td>-0.042558</td>\n",
       "      <td>-0.019949</td>\n",
       "      <td>0.042526</td>\n",
       "      <td>-0.105952</td>\n",
       "      <td>-0.071670</td>\n",
       "    </tr>\n",
       "    <tr>\n",
       "      <th>image_source_total_num</th>\n",
       "      <td>-0.042868</td>\n",
       "      <td>0.015601</td>\n",
       "      <td>1.000000</td>\n",
       "      <td>0.399067</td>\n",
       "      <td>0.374015</td>\n",
       "      <td>0.366320</td>\n",
       "      <td>0.335072</td>\n",
       "      <td>0.420865</td>\n",
       "      <td>0.050914</td>\n",
       "      <td>-0.170490</td>\n",
       "      <td>-0.007242</td>\n",
       "      <td>0.089678</td>\n",
       "      <td>0.009837</td>\n",
       "      <td>0.073973</td>\n",
       "      <td>0.096265</td>\n",
       "      <td>0.076484</td>\n",
       "      <td>0.004055</td>\n",
       "      <td>0.374338</td>\n",
       "      <td>0.277814</td>\n",
       "    </tr>\n",
       "    <tr>\n",
       "      <th>image_run_date_amount</th>\n",
       "      <td>0.091032</td>\n",
       "      <td>-0.130415</td>\n",
       "      <td>0.399067</td>\n",
       "      <td>1.000000</td>\n",
       "      <td>0.972786</td>\n",
       "      <td>0.916448</td>\n",
       "      <td>0.849939</td>\n",
       "      <td>0.766581</td>\n",
       "      <td>0.037173</td>\n",
       "      <td>-0.163749</td>\n",
       "      <td>-0.040156</td>\n",
       "      <td>0.193346</td>\n",
       "      <td>-0.023984</td>\n",
       "      <td>0.122503</td>\n",
       "      <td>0.152270</td>\n",
       "      <td>0.090579</td>\n",
       "      <td>-0.044333</td>\n",
       "      <td>0.850515</td>\n",
       "      <td>0.332161</td>\n",
       "    </tr>\n",
       "    <tr>\n",
       "      <th>image_create_role_pay_num</th>\n",
       "      <td>0.081350</td>\n",
       "      <td>-0.137189</td>\n",
       "      <td>0.374015</td>\n",
       "      <td>0.972786</td>\n",
       "      <td>1.000000</td>\n",
       "      <td>0.904235</td>\n",
       "      <td>0.851937</td>\n",
       "      <td>0.697378</td>\n",
       "      <td>0.067909</td>\n",
       "      <td>-0.156143</td>\n",
       "      <td>-0.140136</td>\n",
       "      <td>0.264767</td>\n",
       "      <td>0.018693</td>\n",
       "      <td>0.140812</td>\n",
       "      <td>0.182925</td>\n",
       "      <td>0.101952</td>\n",
       "      <td>-0.032416</td>\n",
       "      <td>0.835304</td>\n",
       "      <td>0.333708</td>\n",
       "    </tr>\n",
       "    <tr>\n",
       "      <th>image_create_role_num</th>\n",
       "      <td>0.029019</td>\n",
       "      <td>-0.153006</td>\n",
       "      <td>0.366320</td>\n",
       "      <td>0.916448</td>\n",
       "      <td>0.904235</td>\n",
       "      <td>1.000000</td>\n",
       "      <td>0.752820</td>\n",
       "      <td>0.708959</td>\n",
       "      <td>-0.009003</td>\n",
       "      <td>-0.192841</td>\n",
       "      <td>-0.068992</td>\n",
       "      <td>0.158144</td>\n",
       "      <td>-0.018578</td>\n",
       "      <td>0.125819</td>\n",
       "      <td>0.166346</td>\n",
       "      <td>0.076016</td>\n",
       "      <td>-0.081641</td>\n",
       "      <td>0.776152</td>\n",
       "      <td>0.299482</td>\n",
       "    </tr>\n",
       "    <tr>\n",
       "      <th>image_create_role_pay_sum</th>\n",
       "      <td>0.089889</td>\n",
       "      <td>-0.108163</td>\n",
       "      <td>0.335072</td>\n",
       "      <td>0.849939</td>\n",
       "      <td>0.851937</td>\n",
       "      <td>0.752820</td>\n",
       "      <td>1.000000</td>\n",
       "      <td>0.628677</td>\n",
       "      <td>0.057247</td>\n",
       "      <td>-0.125314</td>\n",
       "      <td>-0.100496</td>\n",
       "      <td>0.198357</td>\n",
       "      <td>0.001650</td>\n",
       "      <td>0.183672</td>\n",
       "      <td>0.134304</td>\n",
       "      <td>0.270311</td>\n",
       "      <td>-0.027005</td>\n",
       "      <td>0.850560</td>\n",
       "      <td>0.378432</td>\n",
       "    </tr>\n",
       "    <tr>\n",
       "      <th>image_source_num</th>\n",
       "      <td>0.173115</td>\n",
       "      <td>-0.031002</td>\n",
       "      <td>0.420865</td>\n",
       "      <td>0.766581</td>\n",
       "      <td>0.697378</td>\n",
       "      <td>0.708959</td>\n",
       "      <td>0.628677</td>\n",
       "      <td>1.000000</td>\n",
       "      <td>0.049533</td>\n",
       "      <td>-0.167095</td>\n",
       "      <td>0.023966</td>\n",
       "      <td>0.113852</td>\n",
       "      <td>-0.066650</td>\n",
       "      <td>0.076765</td>\n",
       "      <td>0.086309</td>\n",
       "      <td>0.102420</td>\n",
       "      <td>-0.028931</td>\n",
       "      <td>0.671243</td>\n",
       "      <td>0.342673</td>\n",
       "    </tr>\n",
       "    <tr>\n",
       "      <th>image_create_role_pay_rate</th>\n",
       "      <td>0.061615</td>\n",
       "      <td>-0.003451</td>\n",
       "      <td>0.050914</td>\n",
       "      <td>0.037173</td>\n",
       "      <td>0.067909</td>\n",
       "      <td>-0.009003</td>\n",
       "      <td>0.057247</td>\n",
       "      <td>0.049533</td>\n",
       "      <td>1.000000</td>\n",
       "      <td>0.131876</td>\n",
       "      <td>-0.335189</td>\n",
       "      <td>0.173563</td>\n",
       "      <td>0.346629</td>\n",
       "      <td>0.050849</td>\n",
       "      <td>0.072128</td>\n",
       "      <td>0.208750</td>\n",
       "      <td>0.234920</td>\n",
       "      <td>0.045486</td>\n",
       "      <td>0.159901</td>\n",
       "    </tr>\n",
       "    <tr>\n",
       "      <th>image_create_role_cost</th>\n",
       "      <td>0.009480</td>\n",
       "      <td>0.059186</td>\n",
       "      <td>-0.170490</td>\n",
       "      <td>-0.163749</td>\n",
       "      <td>-0.156143</td>\n",
       "      <td>-0.192841</td>\n",
       "      <td>-0.125314</td>\n",
       "      <td>-0.167095</td>\n",
       "      <td>0.131876</td>\n",
       "      <td>1.000000</td>\n",
       "      <td>0.025066</td>\n",
       "      <td>-0.035520</td>\n",
       "      <td>-0.019155</td>\n",
       "      <td>-0.035152</td>\n",
       "      <td>-0.049984</td>\n",
       "      <td>-0.058472</td>\n",
       "      <td>0.216210</td>\n",
       "      <td>-0.143389</td>\n",
       "      <td>-0.179452</td>\n",
       "    </tr>\n",
       "    <tr>\n",
       "      <th>image_create_role_pay_cost</th>\n",
       "      <td>-0.014511</td>\n",
       "      <td>0.082859</td>\n",
       "      <td>-0.007242</td>\n",
       "      <td>-0.040156</td>\n",
       "      <td>-0.140136</td>\n",
       "      <td>-0.068992</td>\n",
       "      <td>-0.100496</td>\n",
       "      <td>0.023966</td>\n",
       "      <td>-0.335189</td>\n",
       "      <td>0.025066</td>\n",
       "      <td>1.000000</td>\n",
       "      <td>-0.149934</td>\n",
       "      <td>-0.265065</td>\n",
       "      <td>-0.060282</td>\n",
       "      <td>-0.093648</td>\n",
       "      <td>-0.118048</td>\n",
       "      <td>-0.136770</td>\n",
       "      <td>-0.086349</td>\n",
       "      <td>-0.148604</td>\n",
       "    </tr>\n",
       "    <tr>\n",
       "      <th>image_valid_source_num</th>\n",
       "      <td>-0.023702</td>\n",
       "      <td>-0.023394</td>\n",
       "      <td>0.089678</td>\n",
       "      <td>0.193346</td>\n",
       "      <td>0.264767</td>\n",
       "      <td>0.158144</td>\n",
       "      <td>0.198357</td>\n",
       "      <td>0.113852</td>\n",
       "      <td>0.173563</td>\n",
       "      <td>-0.035520</td>\n",
       "      <td>-0.149934</td>\n",
       "      <td>1.000000</td>\n",
       "      <td>0.492641</td>\n",
       "      <td>0.116918</td>\n",
       "      <td>0.153448</td>\n",
       "      <td>0.087332</td>\n",
       "      <td>0.042891</td>\n",
       "      <td>0.160449</td>\n",
       "      <td>0.128449</td>\n",
       "    </tr>\n",
       "    <tr>\n",
       "      <th>image_valid_source_rate</th>\n",
       "      <td>-0.061272</td>\n",
       "      <td>-0.022775</td>\n",
       "      <td>0.009837</td>\n",
       "      <td>-0.023984</td>\n",
       "      <td>0.018693</td>\n",
       "      <td>-0.018578</td>\n",
       "      <td>0.001650</td>\n",
       "      <td>-0.066650</td>\n",
       "      <td>0.346629</td>\n",
       "      <td>-0.019155</td>\n",
       "      <td>-0.265065</td>\n",
       "      <td>0.492641</td>\n",
       "      <td>1.000000</td>\n",
       "      <td>0.096353</td>\n",
       "      <td>0.161370</td>\n",
       "      <td>0.101521</td>\n",
       "      <td>0.083794</td>\n",
       "      <td>-0.004965</td>\n",
       "      <td>0.104216</td>\n",
       "    </tr>\n",
       "    <tr>\n",
       "      <th>image_pay_sum_ability</th>\n",
       "      <td>-0.012685</td>\n",
       "      <td>-0.027337</td>\n",
       "      <td>0.073973</td>\n",
       "      <td>0.122503</td>\n",
       "      <td>0.140812</td>\n",
       "      <td>0.125819</td>\n",
       "      <td>0.183672</td>\n",
       "      <td>0.076765</td>\n",
       "      <td>0.050849</td>\n",
       "      <td>-0.035152</td>\n",
       "      <td>-0.060282</td>\n",
       "      <td>0.116918</td>\n",
       "      <td>0.096353</td>\n",
       "      <td>1.000000</td>\n",
       "      <td>0.753914</td>\n",
       "      <td>0.151800</td>\n",
       "      <td>-0.000887</td>\n",
       "      <td>0.129082</td>\n",
       "      <td>0.106273</td>\n",
       "    </tr>\n",
       "    <tr>\n",
       "      <th>image_pay_num_ability</th>\n",
       "      <td>-0.031905</td>\n",
       "      <td>-0.042558</td>\n",
       "      <td>0.096265</td>\n",
       "      <td>0.152270</td>\n",
       "      <td>0.182925</td>\n",
       "      <td>0.166346</td>\n",
       "      <td>0.134304</td>\n",
       "      <td>0.086309</td>\n",
       "      <td>0.072128</td>\n",
       "      <td>-0.049984</td>\n",
       "      <td>-0.093648</td>\n",
       "      <td>0.153448</td>\n",
       "      <td>0.161370</td>\n",
       "      <td>0.753914</td>\n",
       "      <td>1.000000</td>\n",
       "      <td>0.044911</td>\n",
       "      <td>0.000122</td>\n",
       "      <td>0.118956</td>\n",
       "      <td>0.085165</td>\n",
       "    </tr>\n",
       "    <tr>\n",
       "      <th>image_create_role_roi</th>\n",
       "      <td>0.034704</td>\n",
       "      <td>-0.019949</td>\n",
       "      <td>0.076484</td>\n",
       "      <td>0.090579</td>\n",
       "      <td>0.101952</td>\n",
       "      <td>0.076016</td>\n",
       "      <td>0.270311</td>\n",
       "      <td>0.102420</td>\n",
       "      <td>0.208750</td>\n",
       "      <td>-0.058472</td>\n",
       "      <td>-0.118048</td>\n",
       "      <td>0.087332</td>\n",
       "      <td>0.101521</td>\n",
       "      <td>0.151800</td>\n",
       "      <td>0.044911</td>\n",
       "      <td>1.000000</td>\n",
       "      <td>0.025993</td>\n",
       "      <td>0.172156</td>\n",
       "      <td>0.276505</td>\n",
       "    </tr>\n",
       "    <tr>\n",
       "      <th>image_create_role_retain_1d</th>\n",
       "      <td>0.025763</td>\n",
       "      <td>0.042526</td>\n",
       "      <td>0.004055</td>\n",
       "      <td>-0.044333</td>\n",
       "      <td>-0.032416</td>\n",
       "      <td>-0.081641</td>\n",
       "      <td>-0.027005</td>\n",
       "      <td>-0.028931</td>\n",
       "      <td>0.234920</td>\n",
       "      <td>0.216210</td>\n",
       "      <td>-0.136770</td>\n",
       "      <td>0.042891</td>\n",
       "      <td>0.083794</td>\n",
       "      <td>-0.000887</td>\n",
       "      <td>0.000122</td>\n",
       "      <td>0.025993</td>\n",
       "      <td>1.000000</td>\n",
       "      <td>-0.034907</td>\n",
       "      <td>0.016945</td>\n",
       "    </tr>\n",
       "    <tr>\n",
       "      <th>create_role_30_pay_sum</th>\n",
       "      <td>0.113699</td>\n",
       "      <td>-0.105952</td>\n",
       "      <td>0.374338</td>\n",
       "      <td>0.850515</td>\n",
       "      <td>0.835304</td>\n",
       "      <td>0.776152</td>\n",
       "      <td>0.850560</td>\n",
       "      <td>0.671243</td>\n",
       "      <td>0.045486</td>\n",
       "      <td>-0.143389</td>\n",
       "      <td>-0.086349</td>\n",
       "      <td>0.160449</td>\n",
       "      <td>-0.004965</td>\n",
       "      <td>0.129082</td>\n",
       "      <td>0.118956</td>\n",
       "      <td>0.172156</td>\n",
       "      <td>-0.034907</td>\n",
       "      <td>1.000000</td>\n",
       "      <td>0.492713</td>\n",
       "    </tr>\n",
       "    <tr>\n",
       "      <th>label</th>\n",
       "      <td>0.110583</td>\n",
       "      <td>-0.071670</td>\n",
       "      <td>0.277814</td>\n",
       "      <td>0.332161</td>\n",
       "      <td>0.333708</td>\n",
       "      <td>0.299482</td>\n",
       "      <td>0.378432</td>\n",
       "      <td>0.342673</td>\n",
       "      <td>0.159901</td>\n",
       "      <td>-0.179452</td>\n",
       "      <td>-0.148604</td>\n",
       "      <td>0.128449</td>\n",
       "      <td>0.104216</td>\n",
       "      <td>0.106273</td>\n",
       "      <td>0.085165</td>\n",
       "      <td>0.276505</td>\n",
       "      <td>0.016945</td>\n",
       "      <td>0.492713</td>\n",
       "      <td>1.000000</td>\n",
       "    </tr>\n",
       "  </tbody>\n",
       "</table>\n",
       "</div>"
      ],
      "text/plain": [
       "                             image_id  media_id  image_source_total_num  \\\n",
       "image_id                     1.000000  0.084042               -0.042868   \n",
       "media_id                     0.084042  1.000000                0.015601   \n",
       "image_source_total_num      -0.042868  0.015601                1.000000   \n",
       "image_run_date_amount        0.091032 -0.130415                0.399067   \n",
       "image_create_role_pay_num    0.081350 -0.137189                0.374015   \n",
       "image_create_role_num        0.029019 -0.153006                0.366320   \n",
       "image_create_role_pay_sum    0.089889 -0.108163                0.335072   \n",
       "image_source_num             0.173115 -0.031002                0.420865   \n",
       "image_create_role_pay_rate   0.061615 -0.003451                0.050914   \n",
       "image_create_role_cost       0.009480  0.059186               -0.170490   \n",
       "image_create_role_pay_cost  -0.014511  0.082859               -0.007242   \n",
       "image_valid_source_num      -0.023702 -0.023394                0.089678   \n",
       "image_valid_source_rate     -0.061272 -0.022775                0.009837   \n",
       "image_pay_sum_ability       -0.012685 -0.027337                0.073973   \n",
       "image_pay_num_ability       -0.031905 -0.042558                0.096265   \n",
       "image_create_role_roi        0.034704 -0.019949                0.076484   \n",
       "image_create_role_retain_1d  0.025763  0.042526                0.004055   \n",
       "create_role_30_pay_sum       0.113699 -0.105952                0.374338   \n",
       "label                        0.110583 -0.071670                0.277814   \n",
       "\n",
       "                             image_run_date_amount  image_create_role_pay_num  \\\n",
       "image_id                                  0.091032                   0.081350   \n",
       "media_id                                 -0.130415                  -0.137189   \n",
       "image_source_total_num                    0.399067                   0.374015   \n",
       "image_run_date_amount                     1.000000                   0.972786   \n",
       "image_create_role_pay_num                 0.972786                   1.000000   \n",
       "image_create_role_num                     0.916448                   0.904235   \n",
       "image_create_role_pay_sum                 0.849939                   0.851937   \n",
       "image_source_num                          0.766581                   0.697378   \n",
       "image_create_role_pay_rate                0.037173                   0.067909   \n",
       "image_create_role_cost                   -0.163749                  -0.156143   \n",
       "image_create_role_pay_cost               -0.040156                  -0.140136   \n",
       "image_valid_source_num                    0.193346                   0.264767   \n",
       "image_valid_source_rate                  -0.023984                   0.018693   \n",
       "image_pay_sum_ability                     0.122503                   0.140812   \n",
       "image_pay_num_ability                     0.152270                   0.182925   \n",
       "image_create_role_roi                     0.090579                   0.101952   \n",
       "image_create_role_retain_1d              -0.044333                  -0.032416   \n",
       "create_role_30_pay_sum                    0.850515                   0.835304   \n",
       "label                                     0.332161                   0.333708   \n",
       "\n",
       "                             image_create_role_num  image_create_role_pay_sum  \\\n",
       "image_id                                  0.029019                   0.089889   \n",
       "media_id                                 -0.153006                  -0.108163   \n",
       "image_source_total_num                    0.366320                   0.335072   \n",
       "image_run_date_amount                     0.916448                   0.849939   \n",
       "image_create_role_pay_num                 0.904235                   0.851937   \n",
       "image_create_role_num                     1.000000                   0.752820   \n",
       "image_create_role_pay_sum                 0.752820                   1.000000   \n",
       "image_source_num                          0.708959                   0.628677   \n",
       "image_create_role_pay_rate               -0.009003                   0.057247   \n",
       "image_create_role_cost                   -0.192841                  -0.125314   \n",
       "image_create_role_pay_cost               -0.068992                  -0.100496   \n",
       "image_valid_source_num                    0.158144                   0.198357   \n",
       "image_valid_source_rate                  -0.018578                   0.001650   \n",
       "image_pay_sum_ability                     0.125819                   0.183672   \n",
       "image_pay_num_ability                     0.166346                   0.134304   \n",
       "image_create_role_roi                     0.076016                   0.270311   \n",
       "image_create_role_retain_1d              -0.081641                  -0.027005   \n",
       "create_role_30_pay_sum                    0.776152                   0.850560   \n",
       "label                                     0.299482                   0.378432   \n",
       "\n",
       "                             image_source_num  image_create_role_pay_rate  \\\n",
       "image_id                             0.173115                    0.061615   \n",
       "media_id                            -0.031002                   -0.003451   \n",
       "image_source_total_num               0.420865                    0.050914   \n",
       "image_run_date_amount                0.766581                    0.037173   \n",
       "image_create_role_pay_num            0.697378                    0.067909   \n",
       "image_create_role_num                0.708959                   -0.009003   \n",
       "image_create_role_pay_sum            0.628677                    0.057247   \n",
       "image_source_num                     1.000000                    0.049533   \n",
       "image_create_role_pay_rate           0.049533                    1.000000   \n",
       "image_create_role_cost              -0.167095                    0.131876   \n",
       "image_create_role_pay_cost           0.023966                   -0.335189   \n",
       "image_valid_source_num               0.113852                    0.173563   \n",
       "image_valid_source_rate             -0.066650                    0.346629   \n",
       "image_pay_sum_ability                0.076765                    0.050849   \n",
       "image_pay_num_ability                0.086309                    0.072128   \n",
       "image_create_role_roi                0.102420                    0.208750   \n",
       "image_create_role_retain_1d         -0.028931                    0.234920   \n",
       "create_role_30_pay_sum               0.671243                    0.045486   \n",
       "label                                0.342673                    0.159901   \n",
       "\n",
       "                             image_create_role_cost  \\\n",
       "image_id                                   0.009480   \n",
       "media_id                                   0.059186   \n",
       "image_source_total_num                    -0.170490   \n",
       "image_run_date_amount                     -0.163749   \n",
       "image_create_role_pay_num                 -0.156143   \n",
       "image_create_role_num                     -0.192841   \n",
       "image_create_role_pay_sum                 -0.125314   \n",
       "image_source_num                          -0.167095   \n",
       "image_create_role_pay_rate                 0.131876   \n",
       "image_create_role_cost                     1.000000   \n",
       "image_create_role_pay_cost                 0.025066   \n",
       "image_valid_source_num                    -0.035520   \n",
       "image_valid_source_rate                   -0.019155   \n",
       "image_pay_sum_ability                     -0.035152   \n",
       "image_pay_num_ability                     -0.049984   \n",
       "image_create_role_roi                     -0.058472   \n",
       "image_create_role_retain_1d                0.216210   \n",
       "create_role_30_pay_sum                    -0.143389   \n",
       "label                                     -0.179452   \n",
       "\n",
       "                             image_create_role_pay_cost  \\\n",
       "image_id                                      -0.014511   \n",
       "media_id                                       0.082859   \n",
       "image_source_total_num                        -0.007242   \n",
       "image_run_date_amount                         -0.040156   \n",
       "image_create_role_pay_num                     -0.140136   \n",
       "image_create_role_num                         -0.068992   \n",
       "image_create_role_pay_sum                     -0.100496   \n",
       "image_source_num                               0.023966   \n",
       "image_create_role_pay_rate                    -0.335189   \n",
       "image_create_role_cost                         0.025066   \n",
       "image_create_role_pay_cost                     1.000000   \n",
       "image_valid_source_num                        -0.149934   \n",
       "image_valid_source_rate                       -0.265065   \n",
       "image_pay_sum_ability                         -0.060282   \n",
       "image_pay_num_ability                         -0.093648   \n",
       "image_create_role_roi                         -0.118048   \n",
       "image_create_role_retain_1d                   -0.136770   \n",
       "create_role_30_pay_sum                        -0.086349   \n",
       "label                                         -0.148604   \n",
       "\n",
       "                             image_valid_source_num  image_valid_source_rate  \\\n",
       "image_id                                  -0.023702                -0.061272   \n",
       "media_id                                  -0.023394                -0.022775   \n",
       "image_source_total_num                     0.089678                 0.009837   \n",
       "image_run_date_amount                      0.193346                -0.023984   \n",
       "image_create_role_pay_num                  0.264767                 0.018693   \n",
       "image_create_role_num                      0.158144                -0.018578   \n",
       "image_create_role_pay_sum                  0.198357                 0.001650   \n",
       "image_source_num                           0.113852                -0.066650   \n",
       "image_create_role_pay_rate                 0.173563                 0.346629   \n",
       "image_create_role_cost                    -0.035520                -0.019155   \n",
       "image_create_role_pay_cost                -0.149934                -0.265065   \n",
       "image_valid_source_num                     1.000000                 0.492641   \n",
       "image_valid_source_rate                    0.492641                 1.000000   \n",
       "image_pay_sum_ability                      0.116918                 0.096353   \n",
       "image_pay_num_ability                      0.153448                 0.161370   \n",
       "image_create_role_roi                      0.087332                 0.101521   \n",
       "image_create_role_retain_1d                0.042891                 0.083794   \n",
       "create_role_30_pay_sum                     0.160449                -0.004965   \n",
       "label                                      0.128449                 0.104216   \n",
       "\n",
       "                             image_pay_sum_ability  image_pay_num_ability  \\\n",
       "image_id                                 -0.012685              -0.031905   \n",
       "media_id                                 -0.027337              -0.042558   \n",
       "image_source_total_num                    0.073973               0.096265   \n",
       "image_run_date_amount                     0.122503               0.152270   \n",
       "image_create_role_pay_num                 0.140812               0.182925   \n",
       "image_create_role_num                     0.125819               0.166346   \n",
       "image_create_role_pay_sum                 0.183672               0.134304   \n",
       "image_source_num                          0.076765               0.086309   \n",
       "image_create_role_pay_rate                0.050849               0.072128   \n",
       "image_create_role_cost                   -0.035152              -0.049984   \n",
       "image_create_role_pay_cost               -0.060282              -0.093648   \n",
       "image_valid_source_num                    0.116918               0.153448   \n",
       "image_valid_source_rate                   0.096353               0.161370   \n",
       "image_pay_sum_ability                     1.000000               0.753914   \n",
       "image_pay_num_ability                     0.753914               1.000000   \n",
       "image_create_role_roi                     0.151800               0.044911   \n",
       "image_create_role_retain_1d              -0.000887               0.000122   \n",
       "create_role_30_pay_sum                    0.129082               0.118956   \n",
       "label                                     0.106273               0.085165   \n",
       "\n",
       "                             image_create_role_roi  \\\n",
       "image_id                                  0.034704   \n",
       "media_id                                 -0.019949   \n",
       "image_source_total_num                    0.076484   \n",
       "image_run_date_amount                     0.090579   \n",
       "image_create_role_pay_num                 0.101952   \n",
       "image_create_role_num                     0.076016   \n",
       "image_create_role_pay_sum                 0.270311   \n",
       "image_source_num                          0.102420   \n",
       "image_create_role_pay_rate                0.208750   \n",
       "image_create_role_cost                   -0.058472   \n",
       "image_create_role_pay_cost               -0.118048   \n",
       "image_valid_source_num                    0.087332   \n",
       "image_valid_source_rate                   0.101521   \n",
       "image_pay_sum_ability                     0.151800   \n",
       "image_pay_num_ability                     0.044911   \n",
       "image_create_role_roi                     1.000000   \n",
       "image_create_role_retain_1d               0.025993   \n",
       "create_role_30_pay_sum                    0.172156   \n",
       "label                                     0.276505   \n",
       "\n",
       "                             image_create_role_retain_1d  \\\n",
       "image_id                                        0.025763   \n",
       "media_id                                        0.042526   \n",
       "image_source_total_num                          0.004055   \n",
       "image_run_date_amount                          -0.044333   \n",
       "image_create_role_pay_num                      -0.032416   \n",
       "image_create_role_num                          -0.081641   \n",
       "image_create_role_pay_sum                      -0.027005   \n",
       "image_source_num                               -0.028931   \n",
       "image_create_role_pay_rate                      0.234920   \n",
       "image_create_role_cost                          0.216210   \n",
       "image_create_role_pay_cost                     -0.136770   \n",
       "image_valid_source_num                          0.042891   \n",
       "image_valid_source_rate                         0.083794   \n",
       "image_pay_sum_ability                          -0.000887   \n",
       "image_pay_num_ability                           0.000122   \n",
       "image_create_role_roi                           0.025993   \n",
       "image_create_role_retain_1d                     1.000000   \n",
       "create_role_30_pay_sum                         -0.034907   \n",
       "label                                           0.016945   \n",
       "\n",
       "                             create_role_30_pay_sum     label  \n",
       "image_id                                   0.113699  0.110583  \n",
       "media_id                                  -0.105952 -0.071670  \n",
       "image_source_total_num                     0.374338  0.277814  \n",
       "image_run_date_amount                      0.850515  0.332161  \n",
       "image_create_role_pay_num                  0.835304  0.333708  \n",
       "image_create_role_num                      0.776152  0.299482  \n",
       "image_create_role_pay_sum                  0.850560  0.378432  \n",
       "image_source_num                           0.671243  0.342673  \n",
       "image_create_role_pay_rate                 0.045486  0.159901  \n",
       "image_create_role_cost                    -0.143389 -0.179452  \n",
       "image_create_role_pay_cost                -0.086349 -0.148604  \n",
       "image_valid_source_num                     0.160449  0.128449  \n",
       "image_valid_source_rate                   -0.004965  0.104216  \n",
       "image_pay_sum_ability                      0.129082  0.106273  \n",
       "image_pay_num_ability                      0.118956  0.085165  \n",
       "image_create_role_roi                      0.172156  0.276505  \n",
       "image_create_role_retain_1d               -0.034907  0.016945  \n",
       "create_role_30_pay_sum                     1.000000  0.492713  \n",
       "label                                      0.492713  1.000000  "
      ]
     },
     "execution_count": 26,
     "metadata": {},
     "output_type": "execute_result"
    }
   ],
   "source": [
    "#多变量分析\n",
    "image_info_label.corr()"
   ]
  },
  {
   "cell_type": "code",
   "execution_count": 27,
   "metadata": {},
   "outputs": [],
   "source": [
    "#特征选择,woe分箱\n",
    "from scipy import stats\n",
    "def monoto_bin(Y, X, n = 20):\n",
    "    r = 0\n",
    "    total_bad = Y.sum()\n",
    "    total_good =Y.count()-total_bad  \n",
    "    while np.abs(r) < 0.9:\n",
    "        d1 = pd.DataFrame({\"X\": X, \"Y\": Y, \"Bucket\": pd.qcut(X, n,duplicates='raise')})\n",
    "        d2 = d1.groupby('Bucket', as_index = True)\n",
    "        r, p = stats.spearmanr(d2.mean().X, d2.mean().Y)\n",
    "        n = n - 1\n",
    "#     print(r)\n",
    "#     print(n)\n",
    "    d3 = pd.DataFrame(d2.min().X, columns = ['min_' + X.name])\n",
    "    d3['min_' + X.name] = d2.min().X\n",
    "    d3['max_' + X.name] = d2.max().X\n",
    "    d3[Y.name] = d2.sum().Y\n",
    "    d3['total'] = d2.count().Y\n",
    "    #d3[Y.name + '_rate'] = d2.mean().Y\n",
    "    d3['badattr']=d3[Y.name]/total_bad\n",
    "    d3['goodattr']=(d3['total']-d3[Y.name])/total_good\n",
    "    d3['woe'] = np.log(d3['goodattr']/d3['badattr'])\n",
    "    iv = ((d3['goodattr']-d3['badattr'])*d3['woe']).sum()\n",
    "    d4 = (d3.sort_values(by = 'min_' + X.name)).reset_index(drop = True)\n",
    "    print (\"=\" * 80)\n",
    "    cut = []\n",
    "    cut.append(float('-inf'))\n",
    "    for i in range(1,n+1):\n",
    "        qua =X.quantile(i/(n+1))\n",
    "        cut.append(round(qua,4))\n",
    "    cut.append(float('inf'))\n",
    "    woe = list(d4['woe'].round(3))\n",
    "    return d4,iv,cut,woe"
   ]
  },
  {
   "cell_type": "code",
   "execution_count": 42,
   "metadata": {},
   "outputs": [
    {
     "data": {
      "text/html": [
       "<div>\n",
       "<style scoped>\n",
       "    .dataframe tbody tr th:only-of-type {\n",
       "        vertical-align: middle;\n",
       "    }\n",
       "\n",
       "    .dataframe tbody tr th {\n",
       "        vertical-align: top;\n",
       "    }\n",
       "\n",
       "    .dataframe thead th {\n",
       "        text-align: right;\n",
       "    }\n",
       "</style>\n",
       "<table border=\"1\" class=\"dataframe\">\n",
       "  <thead>\n",
       "    <tr style=\"text-align: right;\">\n",
       "      <th></th>\n",
       "      <th>min_image_run_date_amount</th>\n",
       "      <th>max_image_run_date_amount</th>\n",
       "      <th>label</th>\n",
       "      <th>total</th>\n",
       "      <th>badattr</th>\n",
       "      <th>goodattr</th>\n",
       "      <th>woe</th>\n",
       "    </tr>\n",
       "  </thead>\n",
       "  <tbody>\n",
       "    <tr>\n",
       "      <th>0</th>\n",
       "      <td>500.26</td>\n",
       "      <td>890.87</td>\n",
       "      <td>125</td>\n",
       "      <td>1817</td>\n",
       "      <td>0.031470</td>\n",
       "      <td>0.119180</td>\n",
       "      <td>1.331592</td>\n",
       "    </tr>\n",
       "    <tr>\n",
       "      <th>1</th>\n",
       "      <td>891.16</td>\n",
       "      <td>1409.19</td>\n",
       "      <td>141</td>\n",
       "      <td>1817</td>\n",
       "      <td>0.035498</td>\n",
       "      <td>0.118053</td>\n",
       "      <td>1.201644</td>\n",
       "    </tr>\n",
       "    <tr>\n",
       "      <th>2</th>\n",
       "      <td>1409.92</td>\n",
       "      <td>2164.93</td>\n",
       "      <td>177</td>\n",
       "      <td>1817</td>\n",
       "      <td>0.044562</td>\n",
       "      <td>0.115517</td>\n",
       "      <td>0.952541</td>\n",
       "    </tr>\n",
       "    <tr>\n",
       "      <th>3</th>\n",
       "      <td>2166.18</td>\n",
       "      <td>3166.99</td>\n",
       "      <td>195</td>\n",
       "      <td>1817</td>\n",
       "      <td>0.049094</td>\n",
       "      <td>0.114249</td>\n",
       "      <td>0.844655</td>\n",
       "    </tr>\n",
       "    <tr>\n",
       "      <th>4</th>\n",
       "      <td>3167.38</td>\n",
       "      <td>4656.48</td>\n",
       "      <td>263</td>\n",
       "      <td>1817</td>\n",
       "      <td>0.066213</td>\n",
       "      <td>0.109460</td>\n",
       "      <td>0.502673</td>\n",
       "    </tr>\n",
       "    <tr>\n",
       "      <th>5</th>\n",
       "      <td>4659.14</td>\n",
       "      <td>6885.10</td>\n",
       "      <td>334</td>\n",
       "      <td>1816</td>\n",
       "      <td>0.084089</td>\n",
       "      <td>0.104388</td>\n",
       "      <td>0.216246</td>\n",
       "    </tr>\n",
       "    <tr>\n",
       "      <th>6</th>\n",
       "      <td>6887.09</td>\n",
       "      <td>10651.84</td>\n",
       "      <td>388</td>\n",
       "      <td>1818</td>\n",
       "      <td>0.097684</td>\n",
       "      <td>0.100726</td>\n",
       "      <td>0.030663</td>\n",
       "    </tr>\n",
       "    <tr>\n",
       "      <th>7</th>\n",
       "      <td>10654.81</td>\n",
       "      <td>18861.42</td>\n",
       "      <td>521</td>\n",
       "      <td>1816</td>\n",
       "      <td>0.131168</td>\n",
       "      <td>0.091216</td>\n",
       "      <td>-0.363245</td>\n",
       "    </tr>\n",
       "    <tr>\n",
       "      <th>8</th>\n",
       "      <td>18862.92</td>\n",
       "      <td>40662.15</td>\n",
       "      <td>728</td>\n",
       "      <td>1817</td>\n",
       "      <td>0.183283</td>\n",
       "      <td>0.076706</td>\n",
       "      <td>-0.871047</td>\n",
       "    </tr>\n",
       "    <tr>\n",
       "      <th>9</th>\n",
       "      <td>40680.31</td>\n",
       "      <td>1219946.27</td>\n",
       "      <td>1100</td>\n",
       "      <td>1817</td>\n",
       "      <td>0.276939</td>\n",
       "      <td>0.050504</td>\n",
       "      <td>-1.701751</td>\n",
       "    </tr>\n",
       "  </tbody>\n",
       "</table>\n",
       "</div>"
      ],
      "text/plain": [
       "   min_image_run_date_amount  max_image_run_date_amount  label  total  \\\n",
       "0                     500.26                     890.87    125   1817   \n",
       "1                     891.16                    1409.19    141   1817   \n",
       "2                    1409.92                    2164.93    177   1817   \n",
       "3                    2166.18                    3166.99    195   1817   \n",
       "4                    3167.38                    4656.48    263   1817   \n",
       "5                    4659.14                    6885.10    334   1816   \n",
       "6                    6887.09                   10651.84    388   1818   \n",
       "7                   10654.81                   18861.42    521   1816   \n",
       "8                   18862.92                   40662.15    728   1817   \n",
       "9                   40680.31                 1219946.27   1100   1817   \n",
       "\n",
       "    badattr  goodattr       woe  \n",
       "0  0.031470  0.119180  1.331592  \n",
       "1  0.035498  0.118053  1.201644  \n",
       "2  0.044562  0.115517  0.952541  \n",
       "3  0.049094  0.114249  0.844655  \n",
       "4  0.066213  0.109460  0.502673  \n",
       "5  0.084089  0.104388  0.216246  \n",
       "6  0.097684  0.100726  0.030663  \n",
       "7  0.131168  0.091216 -0.363245  \n",
       "8  0.183283  0.076706 -0.871047  \n",
       "9  0.276939  0.050504 -1.701751  "
      ]
     },
     "execution_count": 42,
     "metadata": {},
     "output_type": "execute_result"
    }
   ],
   "source": [
    "dfx1"
   ]
  },
  {
   "cell_type": "code",
   "execution_count": 65,
   "metadata": {},
   "outputs": [
    {
     "name": "stdout",
     "output_type": "stream",
     "text": [
      "================================================================================\n",
      "================================================================================\n",
      "================================================================================\n"
     ]
    }
   ],
   "source": [
    "dfx1,ivx1,cutx1,woex1 = monoto_bin(image_info_label['label'],image_info_label['image_run_date_amount'],n=10)\n",
    "# dfx2,ivx2,cutx2,woex2 = monoto_bin(image_info_label['label'],image_info_label['image_create_role_pay_num'],n=10)\n",
    "dfx3,ivx3,cutx3,woex3 = monoto_bin(image_info_label['label'],image_info_label['image_create_role_num'],n=10)\n",
    "# dfx4,ivx4,cutx4,woex4 = monoto_bin(image_info_label['label'],image_info_label['image_create_role_pay_sum'],n=10)\n",
    "# dfx5,ivx5,cutx5,woex5 = monoto_bin(image_info_label['label'],image_info_label['image_source_num'],n=10)\n",
    "# dfx6,ivx6,cutx6,woex6 = monoto_bin(image_info_label['label'],image_info_label['image_create_role_pay_rate'],n=10)\n",
    "dfx7,ivx7,cutx7,woex7 = monoto_bin(image_info_label['label'],image_info_label['image_create_role_cost'],n=10)\n",
    "# dfx8,ivx8,cutx8,woex8 = monoto_bin(image_info_label['label'],image_info_label['image_create_role_pay_cost'],n=10)\n",
    "# dfx9,ivx9,cutx9,woex9 = monoto_bin(image_info_label['label'],image_info_label['image_valid_source_rate'],n=10)\n",
    "# dfx10,ivx10,cutx10,woex10 = monoto_bin(image_info_label['label'],image_info_label['image_pay_sum_ability'],n=10)\n",
    "# dfx11,ivx11,cutx11,woex11 = monoto_bin(image_info_label['label'],image_info_label['image_pay_num_ability'],n=10)\n",
    "# dfx12,ivx12,cutx12,woex12 = monoto_bin(image_info_label['label'],image_info_label['image_create_role_roi'],n=10)\n",
    "# dfx13,ivx13,cutx13,woex13 = monoto_bin(image_info_label['label'],image_info_label['image_create_role_retain_1d'],n=10)"
   ]
  },
  {
   "cell_type": "code",
   "execution_count": 66,
   "metadata": {
    "scrolled": true
   },
   "outputs": [
    {
     "name": "stdout",
     "output_type": "stream",
     "text": [
      "[1.332, 1.202, 0.953, 0.845, 0.503, 0.216, 0.031, -0.363, -0.871, -1.702]\n"
     ]
    },
    {
     "data": {
      "image/png": "[encoded data removed]",
      "text/plain": [
       "<Figure size 432x288 with 1 Axes>"
      ]
     },
     "metadata": {
      "needs_background": "light"
     },
     "output_type": "display_data"
    },
    {
     "name": "stdout",
     "output_type": "stream",
     "text": [
      "[1.902, 1.227, 0.873, 0.771, 0.503, 0.215, 0.022, -0.394, -0.862, -1.784]\n"
     ]
    },
    {
     "data": {
      "image/png": "[encoded data removed]",
      "text/plain": [
       "<Figure size 432x288 with 1 Axes>"
      ]
     },
     "metadata": {
      "needs_background": "light"
     },
     "output_type": "display_data"
    },
    {
     "name": "stdout",
     "output_type": "stream",
     "text": [
      "[-0.609, -0.703, -0.521, -0.481, -0.139, 0.059, 0.359, 0.689, 1.315, 1.777]\n"
     ]
    },
    {
     "data": {
      "image/png": "[encoded data removed]",
      "text/plain": [
       "<Figure size 432x288 with 1 Axes>"
      ]
     },
     "metadata": {
      "needs_background": "light"
     },
     "output_type": "display_data"
    }
   ],
   "source": [
    "woex = [woex1,woex3,woex7]\n",
    "for col in woex:\n",
    "    print('{}'.format(col))\n",
    "    plt.bar(range(len(col)),col)\n",
    "    plt.show()"
   ]
  },
  {
   "cell_type": "code",
   "execution_count": 67,
   "metadata": {},
   "outputs": [],
   "source": [
    "def self_bin(Y, X, bin):\n",
    "    r = 0\n",
    "    total_bad = Y.sum()\n",
    "    total_good =Y.count()-total_bad  \n",
    "    d1 = pd.DataFrame({\"X\": X, \"Y\": Y, \"Bucket\": pd.cut(X, bin)})\n",
    "    d2 = d1.groupby('Bucket', as_index = True)\n",
    "    r, p = stats.spearmanr(d2.mean().X, d2.mean().Y)\n",
    "        \n",
    "    d3 = pd.DataFrame(d2.min().X, columns = ['min_' + X.name])\n",
    "    d3['min_' + X.name] = d2.min().X\n",
    "    d3['max_' + X.name] = d2.max().X\n",
    "    d3[Y.name] = d2.sum().Y\n",
    "    d3['total'] = d2.count().Y\n",
    "    #d3[Y.name + '_rate'] = d2.mean().Y\n",
    "    #好坏比，求woe,证据权重，自变量对目标变量有没有影响，什么影响\n",
    "    d3['badattr']=d3[Y.name]/total_bad\n",
    "    d3['goodattr']=(d3['total']-d3[Y.name])/total_good\n",
    "    d3['woe'] = np.log(d3['goodattr']/d3['badattr'])\n",
    "    #iv，信息值，自变量对于目标变量的影响程度\n",
    "    iv = ((d3['goodattr']-d3['badattr'])*d3['woe']).sum()\n",
    "    d4 = (d3.sort_values(by = 'min_' + X.name)).reset_index(drop = True)\n",
    "    print (\"=\" * 80)\n",
    "#     print (d4)\n",
    "    woe = list(d4['woe'].round(3))\n",
    "    return d4,iv,woe"
   ]
  },
  {
   "cell_type": "code",
   "execution_count": 68,
   "metadata": {},
   "outputs": [
    {
     "data": {
      "text/plain": [
       "[-inf,\n",
       " 891.102,\n",
       " 1409.628,\n",
       " 2165.43,\n",
       " 3167.068,\n",
       " 4656.48,\n",
       " 6886.692,\n",
       " 10651.84,\n",
       " 18862.02,\n",
       " 40665.782,\n",
       " inf]"
      ]
     },
     "execution_count": 68,
     "metadata": {},
     "output_type": "execute_result"
    }
   ],
   "source": [
    "cutx1"
   ]
  },
  {
   "cell_type": "code",
   "execution_count": 69,
   "metadata": {},
   "outputs": [],
   "source": [
    "pinf = float('inf')#正无穷大\n",
    "ninf = float('-inf')#负无穷大\n",
    "cutx2 = [ninf, 1, 3, 8, 12,50,pinf]\n",
    "cutx4 = [ninf,60,200,700,2000,5000,10000,pinf]\n",
    "cutx5 = [ninf,3,6,12,20,50,pinf]\n",
    "cutx6 = [ninf,0.005,0.01,0.015,0.02,pinf]\n",
    "cutx8 = [ninf, 2000,3000,4000,5000,6000,7000,8000,9000,10000,11000,13000,pinf]\n",
    "cutx9 = [ninf, 0.1, 0.2, 0.3, 0.4,0.6,pinf]\n",
    "cutx10 = [ninf, 50,100,200, 400,1000, pinf]\n",
    "cutx11 = [ninf, 1,2,5,10,20,pinf]\n",
    "cutx12 = [ninf, 0.005,0.01,0.015,0.02,0.025,0.05,pinf]\n",
    "cutx13 = [ninf, 0.06,0.1,0.14,0.2,0.3,pinf]"
   ]
  },
  {
   "cell_type": "code",
   "execution_count": 70,
   "metadata": {
    "scrolled": true
   },
   "outputs": [
    {
     "data": {
      "text/plain": [
       "count    18169.000000\n",
       "mean         0.112854\n",
       "std          0.091386\n",
       "min          0.000000\n",
       "25%          0.062500\n",
       "50%          0.098000\n",
       "75%          0.140300\n",
       "max          1.000000\n",
       "Name: image_create_role_retain_1d, dtype: float64"
      ]
     },
     "execution_count": 70,
     "metadata": {},
     "output_type": "execute_result"
    }
   ],
   "source": [
    "image_info_label['image_create_role_retain_1d'].describe()"
   ]
  },
  {
   "cell_type": "code",
   "execution_count": 71,
   "metadata": {},
   "outputs": [
    {
     "data": {
      "image/png": "[encoded data removed]",
      "text/plain": [
       "<Figure size 432x288 with 1 Axes>"
      ]
     },
     "metadata": {
      "needs_background": "light"
     },
     "output_type": "display_data"
    }
   ],
   "source": [
    "plt.hist(image_info_label['image_create_role_retain_1d'],bins=50,range=(0,1))\n",
    "plt.show()"
   ]
  },
  {
   "cell_type": "code",
   "execution_count": 72,
   "metadata": {},
   "outputs": [
    {
     "name": "stdout",
     "output_type": "stream",
     "text": [
      "================================================================================\n",
      "================================================================================\n",
      "================================================================================\n",
      "================================================================================\n",
      "================================================================================\n",
      "================================================================================\n",
      "================================================================================\n",
      "================================================================================\n",
      "================================================================================\n",
      "================================================================================\n"
     ]
    }
   ],
   "source": [
    "dfx2,ivx2,woex2 = self_bin(image_info_label['label'],image_info_label['image_create_role_pay_num'],cutx2)\n",
    "dfx4,ivx4,woex4 = self_bin(image_info_label['label'],image_info_label['image_create_role_pay_sum'],cutx4)\n",
    "dfx5,ivx5,woex5 = self_bin(image_info_label['label'],image_info_label['image_source_num'],cutx5)\n",
    "dfx6,ivx6,woex6 = self_bin(image_info_label['label'],image_info_label['image_create_role_pay_rate'],cutx6)\n",
    "dfx8,ivx8,woex8 = self_bin(image_info_label['label'],image_info_label['image_create_role_pay_cost'],cutx8)\n",
    "dfx9,ivx9,woex9 = self_bin(image_info_label['label'],image_info_label['image_valid_source_rate'],cutx9)\n",
    "dfx10,ivx10,woex10 = self_bin(image_info_label['label'],image_info_label['image_pay_sum_ability'],cutx10)\n",
    "dfx11,ivx11,woex11 = self_bin(image_info_label['label'],image_info_label['image_pay_num_ability'],cutx11)\n",
    "dfx12,ivx12,woex12 = self_bin(image_info_label['label'],image_info_label['image_create_role_roi'],cutx12)\n",
    "dfx13,ivx13,woex13 = self_bin(image_info_label['label'],image_info_label['image_create_role_retain_1d'],cutx13)"
   ]
  },
  {
   "cell_type": "code",
   "execution_count": 73,
   "metadata": {},
   "outputs": [
    {
     "name": "stdout",
     "output_type": "stream",
     "text": [
      "woex1 = [1.332, 1.202, 0.953, 0.845, 0.503, 0.216, 0.031, -0.363, -0.871, -1.702]\n",
      "woex2 = [0.896, -0.47, -1.078, -1.616, -2.105, -4.266]\n",
      "woex3 = [1.902, 1.227, 0.873, 0.771, 0.503, 0.215, 0.022, -0.394, -0.862, -1.784]\n",
      "woex4 = [1.0, -0.098, -0.943, -1.772, -2.692, -3.759, -5.138]\n",
      "woex5 = [0.552, -0.086, -0.573, -0.865, -1.345, -3.033]\n",
      "woex6 = [0.691, -0.919, -0.999, -0.956, -0.646]\n",
      "woex7 = [-0.609, -0.703, -0.521, -0.481, -0.139, 0.059, 0.359, 0.689, 1.315, 1.777]\n",
      "woex8 = [-1.338, -1.316, -1.277, -0.962, -0.781, -0.609, -0.363, -0.261, -0.112, -0.076, 0.243, 1.219]\n",
      "woex9 = [0.513, -0.717, -1.43, -1.04, -1.413, -1.256]\n",
      "woex10 = [0.443, -0.981, -1.658, -2.221, -2.823, -3.33]\n",
      "woex11 = [0.343, -1.502, -2.005, -2.372, -2.66, -2.883]\n",
      "woex12 = [1.104, 0.044, -0.404, -0.896, -1.163, -1.872, -2.508]\n",
      "woex13 = [0.712, -0.167, -0.338, -0.162, 0.212, 0.47]\n"
     ]
    }
   ],
   "source": [
    "for i in range(1,14):\n",
    "    exec(\"print('woex%s =',woex%s)\"%(i,i))"
   ]
  },
  {
   "cell_type": "code",
   "execution_count": 74,
   "metadata": {},
   "outputs": [
    {
     "name": "stdout",
     "output_type": "stream",
     "text": [
      "cutx1 = [-inf, 891.102, 1409.628, 2165.43, 3167.068, 4656.48, 6886.692, 10651.84, 18862.02, 40665.782, inf]\n",
      "cutx2 = [-inf, 1, 3, 8, 12, 50, inf]\n",
      "cutx3 = [-inf, 6.0, 14.0, 27.0, 51.0, 85.0, 142.0, 244.0, 480.0, 1271.0, inf]\n",
      "cutx4 = [-inf, 60, 200, 700, 2000, 5000, 10000, inf]\n",
      "cutx5 = [-inf, 3, 6, 12, 20, 50, inf]\n",
      "cutx6 = [-inf, 0.005, 0.01, 0.015, 0.02, inf]\n",
      "cutx7 = [-inf, 20.073, 28.7217, 36.4717, 45.8384, 57.2259, 74.043, 98.3442, 141.3023, 254.55, inf]\n",
      "cutx8 = [-inf, 2000, 3000, 4000, 5000, 6000, 7000, 8000, 9000, 10000, 11000, 13000, inf]\n",
      "cutx9 = [-inf, 0.1, 0.2, 0.3, 0.4, 0.6, inf]\n",
      "cutx10 = [-inf, 50, 100, 200, 400, 1000, inf]\n",
      "cutx11 = [-inf, 1, 2, 5, 10, 20, inf]\n",
      "cutx12 = [-inf, 0.005, 0.01, 0.015, 0.02, 0.025, 0.05, inf]\n",
      "cutx13 = [-inf, 0.06, 0.1, 0.14, 0.2, 0.3, inf]\n"
     ]
    }
   ],
   "source": [
    "for i in range(1,14):\n",
    "    exec(\"print('cutx%s =',cutx%s)\"%(i,i))"
   ]
  },
  {
   "cell_type": "code",
   "execution_count": 75,
   "metadata": {},
   "outputs": [
    {
     "data": {
      "image/png": "[encoded data removed]",
      "text/plain": [
       "<Figure size 1440x576 with 1 Axes>"
      ]
     },
     "metadata": {
      "needs_background": "light"
     },
     "output_type": "display_data"
    }
   ],
   "source": [
    "y=[ivx1,ivx2,ivx3,ivx4,ivx5,ivx6,ivx7,ivx8,ivx9,ivx10,ivx11,ivx12,ivx13]\n",
    "index=['image_run_date_amount', 'image_create_role_pay_num',\n",
    "       'image_create_role_num', 'image_create_role_pay_sum',\n",
    "       'image_source_num', 'image_create_role_pay_rate',\n",
    "       'image_create_role_cost', 'image_create_role_pay_cost','image_valid_source_rate',\n",
    "       'image_pay_sum_ability', 'image_pay_num_ability',\n",
    "       'image_create_role_roi','image_create_role_retain_1d']\n",
    "fig= plt.figure(figsize = (20,8))\n",
    "ax1 = fig.add_subplot(1, 1, 1)\n",
    "ax1.bar(range(1,14), y, width=0.4,color = 'r',alpha = 0.6)#生成柱状图\n",
    "ax1.set_xticks(range(1,14))\n",
    "ax1.set_xticklabels(index, rotation=90, fontsize=12)\n",
    "ax1.set_ylabel('IV', fontsize=14)\n",
    "#在柱状图上添加数字标签\n",
    "for i, v in enumerate(y):\n",
    "    plt.text(i+1, v+0.01, '%.4f' % v, ha='center', va='bottom', fontsize=12)\n",
    "plt.show()"
   ]
  },
  {
   "cell_type": "code",
   "execution_count": 27,
   "metadata": {},
   "outputs": [],
   "source": [
    "\"\"\"\n",
    "根据IV值判断变量预测能力的标准:\n",
    "< 0.02： useless for predition\n",
    "0.02-0.1： weak predictor\n",
    "0.1-0.3： medium predictor\n",
    "0.3-0.5： strong predictor\n",
    "大于0.5： suspicious or too good to be true\n",
    "\"\"\"\n",
    "#删除掉iv小于0.1的变量\n",
    "select_feature = ['image_run_date_amount', 'image_create_role_pay_num',\n",
    "       'image_create_role_num', 'image_create_role_pay_sum',\n",
    "       'image_source_num', 'image_create_role_pay_rate',\n",
    "       'image_create_role_cost', 'image_create_role_pay_cost',\n",
    "       'image_valid_source_rate',\n",
    "       'image_pay_sum_ability', 'image_pay_num_ability',\n",
    "       'image_create_role_roi', 'label']"
   ]
  },
  {
   "cell_type": "code",
   "execution_count": 77,
   "metadata": {},
   "outputs": [
    {
     "data": {
      "text/plain": [
       "13"
      ]
     },
     "execution_count": 77,
     "metadata": {},
     "output_type": "execute_result"
    }
   ],
   "source": [
    "len(select_feature)"
   ]
  },
  {
   "cell_type": "code",
   "execution_count": 78,
   "metadata": {},
   "outputs": [],
   "source": [
    "def change_woe(d,cut,woe):\n",
    "    \"\"\"\n",
    "    将每个样本对应特征值更换为woe值\n",
    "    \"\"\"\n",
    "    list1=[]\n",
    "    i=0\n",
    "    while i<len(d):\n",
    "        value=d.values[i]\n",
    "        j=len(cut)-2\n",
    "        m=len(cut)-2\n",
    "        while j>=0:\n",
    "            if value>=cut[j]:\n",
    "                j=-1\n",
    "            else:\n",
    "                j -=1\n",
    "                m -= 1\n",
    "        list1.append(woe[m])\n",
    "        i += 1\n",
    "    return list1"
   ]
  },
  {
   "cell_type": "code",
   "execution_count": 79,
   "metadata": {},
   "outputs": [],
   "source": [
    "image_info_change = image_info_label.copy()"
   ]
  },
  {
   "cell_type": "code",
   "execution_count": 80,
   "metadata": {},
   "outputs": [
    {
     "data": {
      "text/plain": [
       "(18169, 18)"
      ]
     },
     "execution_count": 80,
     "metadata": {},
     "output_type": "execute_result"
    }
   ],
   "source": [
    "image_info_change.shape"
   ]
  },
  {
   "cell_type": "code",
   "execution_count": 33,
   "metadata": {},
   "outputs": [],
   "source": [
    "pinf = float('inf')#正无穷大\n",
    "ninf = float('-inf')#负无穷大\n",
    "woex1 = [1.332, 1.202, 0.953, 0.845, 0.503, 0.216, 0.031, -0.363, -0.871, -1.702]\n",
    "woex2 = [0.896, -0.47, -1.078, -1.616, -2.105, -4.266]\n",
    "woex3 = [1.902, 1.227, 0.873, 0.771, 0.503, 0.215, 0.022, -0.394, -0.862, -1.784]\n",
    "woex4 = [1.0, -0.098, -0.943, -1.772, -2.692, -3.759, -5.138]\n",
    "woex5 = [0.552, -0.086, -0.573, -0.865, -1.345, -3.033]\n",
    "woex6 = [0.691, -0.919, -0.999, -0.956, -0.646]\n",
    "woex7 = [-0.609, -0.703, -0.521, -0.481, -0.139, 0.059, 0.359, 0.689, 1.315, 1.777]\n",
    "woex8 = [-1.338, -1.316, -1.277, -0.962, -0.781, -0.609, -0.363, -0.261, -0.112, -0.076, 0.243, 1.219]\n",
    "woex9 = [0.513, -0.717, -1.43, -1.04, -1.413, -1.256]\n",
    "woex10 = [0.443, -0.981, -1.658, -2.221, -2.823, -3.33]\n",
    "woex11 = [0.343, -1.502, -2.005, -2.372, -2.66, -2.883]\n",
    "woex12 = [1.104, 0.044, -0.404, -0.896, -1.163, -1.872, -2.508]\n",
    "cutx1 = [ninf, 891.102, 1409.628, 2165.43, 3167.068, 4656.48, 6886.692, 10651.84, 18862.02, 40665.782, pinf]\n",
    "cutx2 = [ninf, 1, 3, 8, 12, 50, pinf]\n",
    "cutx3 = [ninf, 6.0, 14.0, 27.0, 51.0, 85.0, 142.0, 244.0, 480.0, 1271.0, pinf]\n",
    "cutx4 = [ninf, 60, 200, 700, 2000, 5000, 10000, pinf]\n",
    "cutx5 = [ninf, 3, 6, 12, 20, 50, pinf]\n",
    "cutx6 = [ninf, 0.005, 0.01, 0.015, 0.02, pinf]\n",
    "cutx7 = [ninf, 20.073, 28.7217, 36.4717, 45.8384, 57.2259, 74.043, 98.3442, 141.3023, 254.55, pinf]\n",
    "cutx8 = [ninf, 2000, 3000, 4000, 5000, 6000, 7000, 8000, 9000, 10000, 11000, 13000, pinf]\n",
    "cutx9 = [ninf, 0.1, 0.2, 0.3, 0.4, 0.6, pinf]\n",
    "cutx10 = [ninf, 50, 100, 200, 400, 1000, pinf]\n",
    "cutx11 = [ninf, 1, 2, 5, 10, 20, pinf]\n",
    "cutx12 = [ninf, 0.005, 0.01, 0.015, 0.02, 0.025, 0.05, pinf]"
   ]
  },
  {
   "cell_type": "code",
   "execution_count": 34,
   "metadata": {},
   "outputs": [],
   "source": [
    "#数据转化\n",
    "image_info_change['image_run_date_amount'] = change_woe(image_info_change['image_run_date_amount'], cutx1, woex1)\n",
    "image_info_change['image_create_role_pay_num'] = change_woe(image_info_change['image_create_role_pay_num'], cutx2, woex2)\n",
    "image_info_change['image_create_role_num'] = change_woe(image_info_change['image_create_role_num'], cutx3, woex3)\n",
    "image_info_change['image_create_role_pay_sum'] = change_woe(image_info_change['image_create_role_pay_sum'], cutx4, woex4)\n",
    "image_info_change['image_source_num'] = change_woe(image_info_change['image_source_num'], cutx5, woex5)\n",
    "image_info_change['image_create_role_pay_rate'] = change_woe(image_info_change['image_create_role_pay_rate'], cutx6, woex6)\n",
    "image_info_change['image_create_role_cost'] = change_woe(image_info_change['image_create_role_cost'], cutx7, woex7)\n",
    "image_info_change['image_create_role_pay_cost'] = change_woe(image_info_change['image_create_role_pay_cost'], cutx8, woex8)\n",
    "image_info_change['image_valid_source_rate'] = change_woe(image_info_change['image_valid_source_rate'], cutx9, woex9)\n",
    "image_info_change['image_pay_sum_ability'] = change_woe(image_info_change['image_pay_sum_ability'], cutx10, woex10)\n",
    "image_info_change['image_pay_num_ability'] = change_woe(image_info_change['image_pay_num_ability'], cutx11, woex11)\n",
    "image_info_change['image_create_role_roi'] = change_woe(image_info_change['image_create_role_roi'], cutx12, woex12)"
   ]
  },
  {
   "cell_type": "code",
   "execution_count": 35,
   "metadata": {},
   "outputs": [
    {
     "data": {
      "text/plain": [
       "(18169, 18)"
      ]
     },
     "execution_count": 35,
     "metadata": {},
     "output_type": "execute_result"
    }
   ],
   "source": [
    "image_info_change.shape"
   ]
  },
  {
   "cell_type": "code",
   "execution_count": 36,
   "metadata": {},
   "outputs": [
    {
     "data": {
      "text/html": [
       "<div>\n",
       "<style scoped>\n",
       "    .dataframe tbody tr th:only-of-type {\n",
       "        vertical-align: middle;\n",
       "    }\n",
       "\n",
       "    .dataframe tbody tr th {\n",
       "        vertical-align: top;\n",
       "    }\n",
       "\n",
       "    .dataframe thead th {\n",
       "        text-align: right;\n",
       "    }\n",
       "</style>\n",
       "<table border=\"1\" class=\"dataframe\">\n",
       "  <thead>\n",
       "    <tr style=\"text-align: right;\">\n",
       "      <th></th>\n",
       "      <th>image_id</th>\n",
       "      <th>image_run_date_amount</th>\n",
       "      <th>image_create_role_pay_num</th>\n",
       "      <th>image_create_role_num</th>\n",
       "      <th>image_create_role_pay_sum</th>\n",
       "      <th>image_source_num</th>\n",
       "      <th>image_create_role_pay_rate</th>\n",
       "      <th>image_create_role_cost</th>\n",
       "      <th>image_create_role_pay_cost</th>\n",
       "      <th>image_valid_source_num</th>\n",
       "      <th>image_valid_source_rate</th>\n",
       "      <th>image_pay_sum_ability</th>\n",
       "      <th>image_pay_num_ability</th>\n",
       "      <th>image_create_role_roi</th>\n",
       "      <th>image_create_role_retain_1d</th>\n",
       "      <th>create_role_30_pay_sum</th>\n",
       "      <th>model_run_datetime</th>\n",
       "      <th>label</th>\n",
       "    </tr>\n",
       "  </thead>\n",
       "  <tbody>\n",
       "    <tr>\n",
       "      <th>0</th>\n",
       "      <td>15133</td>\n",
       "      <td>1.332</td>\n",
       "      <td>0.896</td>\n",
       "      <td>1.902</td>\n",
       "      <td>1.0</td>\n",
       "      <td>0.552</td>\n",
       "      <td>0.691</td>\n",
       "      <td>1.315</td>\n",
       "      <td>1.219</td>\n",
       "      <td>0</td>\n",
       "      <td>0.513</td>\n",
       "      <td>0.443</td>\n",
       "      <td>0.343</td>\n",
       "      <td>1.104</td>\n",
       "      <td>0.0000</td>\n",
       "      <td>0</td>\n",
       "      <td>2020-01-01</td>\n",
       "      <td>0</td>\n",
       "    </tr>\n",
       "    <tr>\n",
       "      <th>1</th>\n",
       "      <td>15213</td>\n",
       "      <td>-0.363</td>\n",
       "      <td>-0.470</td>\n",
       "      <td>0.022</td>\n",
       "      <td>1.0</td>\n",
       "      <td>0.552</td>\n",
       "      <td>-0.919</td>\n",
       "      <td>0.059</td>\n",
       "      <td>0.243</td>\n",
       "      <td>0</td>\n",
       "      <td>0.513</td>\n",
       "      <td>0.443</td>\n",
       "      <td>0.343</td>\n",
       "      <td>1.104</td>\n",
       "      <td>0.1344</td>\n",
       "      <td>628</td>\n",
       "      <td>2020-01-01</td>\n",
       "      <td>0</td>\n",
       "    </tr>\n",
       "    <tr>\n",
       "      <th>2</th>\n",
       "      <td>16276</td>\n",
       "      <td>1.202</td>\n",
       "      <td>0.896</td>\n",
       "      <td>0.771</td>\n",
       "      <td>1.0</td>\n",
       "      <td>0.552</td>\n",
       "      <td>0.691</td>\n",
       "      <td>-0.521</td>\n",
       "      <td>1.219</td>\n",
       "      <td>0</td>\n",
       "      <td>0.513</td>\n",
       "      <td>0.443</td>\n",
       "      <td>0.343</td>\n",
       "      <td>1.104</td>\n",
       "      <td>0.3774</td>\n",
       "      <td>636</td>\n",
       "      <td>2020-01-01</td>\n",
       "      <td>1</td>\n",
       "    </tr>\n",
       "    <tr>\n",
       "      <th>3</th>\n",
       "      <td>16316</td>\n",
       "      <td>1.332</td>\n",
       "      <td>0.896</td>\n",
       "      <td>0.873</td>\n",
       "      <td>1.0</td>\n",
       "      <td>0.552</td>\n",
       "      <td>0.691</td>\n",
       "      <td>-0.481</td>\n",
       "      <td>1.219</td>\n",
       "      <td>0</td>\n",
       "      <td>0.513</td>\n",
       "      <td>0.443</td>\n",
       "      <td>0.343</td>\n",
       "      <td>1.104</td>\n",
       "      <td>0.0495</td>\n",
       "      <td>898</td>\n",
       "      <td>2020-01-01</td>\n",
       "      <td>1</td>\n",
       "    </tr>\n",
       "    <tr>\n",
       "      <th>4</th>\n",
       "      <td>17089</td>\n",
       "      <td>0.216</td>\n",
       "      <td>-0.470</td>\n",
       "      <td>0.022</td>\n",
       "      <td>1.0</td>\n",
       "      <td>-0.086</td>\n",
       "      <td>-0.919</td>\n",
       "      <td>-0.703</td>\n",
       "      <td>-1.316</td>\n",
       "      <td>2</td>\n",
       "      <td>-1.413</td>\n",
       "      <td>0.443</td>\n",
       "      <td>-1.502</td>\n",
       "      <td>1.104</td>\n",
       "      <td>0.0350</td>\n",
       "      <td>300</td>\n",
       "      <td>2020-01-01</td>\n",
       "      <td>0</td>\n",
       "    </tr>\n",
       "  </tbody>\n",
       "</table>\n",
       "</div>"
      ],
      "text/plain": [
       "   image_id  image_run_date_amount  image_create_role_pay_num  \\\n",
       "0     15133                  1.332                      0.896   \n",
       "1     15213                 -0.363                     -0.470   \n",
       "2     16276                  1.202                      0.896   \n",
       "3     16316                  1.332                      0.896   \n",
       "4     17089                  0.216                     -0.470   \n",
       "\n",
       "   image_create_role_num  image_create_role_pay_sum  image_source_num  \\\n",
       "0                  1.902                        1.0             0.552   \n",
       "1                  0.022                        1.0             0.552   \n",
       "2                  0.771                        1.0             0.552   \n",
       "3                  0.873                        1.0             0.552   \n",
       "4                  0.022                        1.0            -0.086   \n",
       "\n",
       "   image_create_role_pay_rate  image_create_role_cost  \\\n",
       "0                       0.691                   1.315   \n",
       "1                      -0.919                   0.059   \n",
       "2                       0.691                  -0.521   \n",
       "3                       0.691                  -0.481   \n",
       "4                      -0.919                  -0.703   \n",
       "\n",
       "   image_create_role_pay_cost  image_valid_source_num  \\\n",
       "0                       1.219                       0   \n",
       "1                       0.243                       0   \n",
       "2                       1.219                       0   \n",
       "3                       1.219                       0   \n",
       "4                      -1.316                       2   \n",
       "\n",
       "   image_valid_source_rate  image_pay_sum_ability  image_pay_num_ability  \\\n",
       "0                    0.513                  0.443                  0.343   \n",
       "1                    0.513                  0.443                  0.343   \n",
       "2                    0.513                  0.443                  0.343   \n",
       "3                    0.513                  0.443                  0.343   \n",
       "4                   -1.413                  0.443                 -1.502   \n",
       "\n",
       "   image_create_role_roi  image_create_role_retain_1d  create_role_30_pay_sum  \\\n",
       "0                  1.104                       0.0000                       0   \n",
       "1                  1.104                       0.1344                     628   \n",
       "2                  1.104                       0.3774                     636   \n",
       "3                  1.104                       0.0495                     898   \n",
       "4                  1.104                       0.0350                     300   \n",
       "\n",
       "  model_run_datetime  label  \n",
       "0         2020-01-01      0  \n",
       "1         2020-01-01      0  \n",
       "2         2020-01-01      1  \n",
       "3         2020-01-01      1  \n",
       "4         2020-01-01      0  "
      ]
     },
     "execution_count": 36,
     "metadata": {},
     "output_type": "execute_result"
    }
   ],
   "source": [
    "image_info_change.head()"
   ]
  },
  {
   "cell_type": "code",
   "execution_count": 809,
   "metadata": {},
   "outputs": [],
   "source": [
    "image_info_change.to_csv('./image_info_change.csv',index=0)"
   ]
  },
  {
   "cell_type": "code",
   "execution_count": 38,
   "metadata": {},
   "outputs": [],
   "source": [
    "data_info = image_info_change[select_feature]"
   ]
  },
  {
   "cell_type": "code",
   "execution_count": 39,
   "metadata": {},
   "outputs": [
    {
     "data": {
      "text/plain": [
       "(18169, 13)"
      ]
     },
     "execution_count": 39,
     "metadata": {},
     "output_type": "execute_result"
    }
   ],
   "source": [
    "data_info.shape"
   ]
  },
  {
   "cell_type": "code",
   "execution_count": 40,
   "metadata": {},
   "outputs": [],
   "source": [
    "#模型建立\n",
    "from sklearn.linear_model import LogisticRegression\n",
    "from sklearn.model_selection import train_test_split,GridSearchCV,RandomizedSearchCV\n",
    "from sklearn.ensemble import RandomForestClassifier\n",
    "from sklearn import svm\n",
    "import lightgbm as lgb\n",
    "from sklearn.neighbors import KNeighborsClassifier\n",
    "import time\n",
    "from sklearn.model_selection import cross_validate\n",
    "from sklearn.metrics import roc_curve, roc_auc_score,auc, classification_report"
   ]
  },
  {
   "cell_type": "code",
   "execution_count": 41,
   "metadata": {},
   "outputs": [],
   "source": [
    "x_train, x_test, y_train, y_test = train_test_split(data_info.drop('label',axis=1), data_info['label'], test_size=0.25, random_state=42)"
   ]
  },
  {
   "cell_type": "markdown",
   "metadata": {},
   "source": [
    "### RandomForestClassifier"
   ]
  },
  {
   "cell_type": "code",
   "execution_count": 42,
   "metadata": {},
   "outputs": [
    {
     "data": {
      "text/plain": [
       "RandomizedSearchCV(cv=5, estimator=RandomForestClassifier(),\n",
       "                   param_distributions={'max_depth': [2, 3, 5, 7, 9],\n",
       "                                        'min_samples_leaf': [2, 4, 6, 8],\n",
       "                                        'n_estimators': [9, 18, 27, 36, 100,\n",
       "                                                         150]})"
      ]
     },
     "execution_count": 42,
     "metadata": {},
     "output_type": "execute_result"
    }
   ],
   "source": [
    "RF = RandomForestClassifier()\n",
    "param_grid = { \n",
    "           \"n_estimators\" : [9, 18, 27, 36, 100, 150],\n",
    "           \"max_depth\" : [2,3,5,7,9],\n",
    "           \"min_samples_leaf\" : [2, 4, 6, 8]}\n",
    "RF_random = RandomizedSearchCV(RF, param_distributions=param_grid, cv=5)\n",
    "RF_random.fit(x_train, y_train)"
   ]
  },
  {
   "cell_type": "code",
   "execution_count": 43,
   "metadata": {},
   "outputs": [
    {
     "data": {
      "image/png": "[encoded data removed]",
      "text/plain": [
       "<Figure size 720x576 with 1 Axes>"
      ]
     },
     "metadata": {
      "needs_background": "light"
     },
     "output_type": "display_data"
    }
   ],
   "source": [
    "# 训练集评估\n",
    "best_est_RF = RF_random.best_estimator_\n",
    "y_pred = best_est_RF.predict_proba(x_train)\n",
    "y_pred = y_pred[:,1]\n",
    "fpr,tpr,_ = roc_curve(y_train, y_pred)\n",
    "roc_auc = auc(fpr, tpr)\n",
    "plt.figure(figsize=(10,8))\n",
    "plt.title('Receiver Operating Characteristic')\n",
    "sns.lineplot(fpr, tpr, label = 'AUC = %0.2f' % roc_auc)\n",
    "plt.legend(loc = 'lower right')\n",
    "plt.plot([0, 1], [0, 1],'r--')\n",
    "plt.ylabel('True Positive Rate')\n",
    "plt.xlabel('False Positive Rate')\n",
    "plt.show()"
   ]
  },
  {
   "cell_type": "code",
   "execution_count": 45,
   "metadata": {},
   "outputs": [
    {
     "data": {
      "image/png": "[encoded data removed]",
      "text/plain": [
       "<Figure size 720x576 with 1 Axes>"
      ]
     },
     "metadata": {
      "needs_background": "light"
     },
     "output_type": "display_data"
    }
   ],
   "source": [
    "# 测试集评估\n",
    "best_est_RF = RF_random.best_estimator_\n",
    "y_pred = best_est_RF.predict_proba(x_test)\n",
    "y_pred = y_pred[:,1]\n",
    "fpr,tpr,_ = roc_curve(y_test, y_pred)\n",
    "roc_auc = auc(fpr, tpr)\n",
    "plt.figure(figsize=(10,8))\n",
    "plt.title('Receiver Operating Characteristic')\n",
    "sns.lineplot(fpr, tpr, label = 'AUC = %0.2f' % roc_auc)\n",
    "plt.legend(loc = 'lower right')\n",
    "plt.plot([0, 1], [0, 1],'r--')\n",
    "plt.ylabel('True Positive Rate')\n",
    "plt.xlabel('False Positive Rate')\n",
    "plt.show()"
   ]
  },
  {
   "cell_type": "code",
   "execution_count": 46,
   "metadata": {
    "scrolled": true
   },
   "outputs": [
    {
     "name": "stdout",
     "output_type": "stream",
     "text": [
      "              precision    recall  f1-score   support\n",
      "\n",
      "           0       0.88      0.90      0.89      3577\n",
      "           1       0.61      0.56      0.59       966\n",
      "\n",
      "    accuracy                           0.83      4543\n",
      "   macro avg       0.75      0.73      0.74      4543\n",
      "weighted avg       0.83      0.83      0.83      4543\n",
      "\n"
     ]
    }
   ],
   "source": [
    "y_pred_class = list(map(lambda x:1 if x>=0.35 else 0, y_pred))\n",
    "print(classification_report(y_test, y_pred_class))"
   ]
  },
  {
   "cell_type": "code",
   "execution_count": 709,
   "metadata": {},
   "outputs": [
    {
     "data": {
      "text/plain": [
       "['best_est_RF.pkl']"
      ]
     },
     "execution_count": 709,
     "metadata": {},
     "output_type": "execute_result"
    }
   ],
   "source": [
    "import joblib\n",
    "joblib.dump(best_est_RF, 'best_est_RF.pkl')"
   ]
  },
  {
   "cell_type": "markdown",
   "metadata": {},
   "source": [
    "### LogisticRegression"
   ]
  },
  {
   "cell_type": "code",
   "execution_count": 66,
   "metadata": {},
   "outputs": [
    {
     "data": {
      "text/plain": [
       "RandomizedSearchCV(cv=5, estimator=LogisticRegression(),\n",
       "                   param_distributions={'C': [0.1, 0.2, 0.3, 0.4, 0.5, 0.6, 0.7,\n",
       "                                              0.8, 0.9, 1]})"
      ]
     },
     "execution_count": 66,
     "metadata": {},
     "output_type": "execute_result"
    }
   ],
   "source": [
    "LR = LogisticRegression()\n",
    "param_grid = {\"C\" : [0.1,0.2,0.3, 0.4, 0.5, 0.6, 0.7,0.8,0.9, 1]}\n",
    "LR_random = RandomizedSearchCV(LR, param_distributions=param_grid, cv=5)\n",
    "LR_random.fit(x_train, y_train)"
   ]
  },
  {
   "cell_type": "code",
   "execution_count": 67,
   "metadata": {},
   "outputs": [
    {
     "data": {
      "image/png": "[encoded data removed]",
      "text/plain": [
       "<Figure size 720x576 with 1 Axes>"
      ]
     },
     "metadata": {
      "needs_background": "light"
     },
     "output_type": "display_data"
    }
   ],
   "source": [
    "# 测试集评估\n",
    "best_est_LR = LR_random.best_estimator_\n",
    "y_pred = best_est_LR.predict_proba(x_test)\n",
    "y_pred = y_pred[:,1]\n",
    "fpr,tpr,_ = roc_curve(y_test, y_pred)\n",
    "roc_auc = auc(fpr, tpr)\n",
    "plt.figure(figsize=(10,8))\n",
    "plt.title('Receiver Operating Characteristic')\n",
    "sns.lineplot(fpr, tpr, label = 'AUC = %0.2f' % roc_auc)\n",
    "plt.legend(loc = 'lower right')\n",
    "plt.plot([0, 1], [0, 1],'r--')\n",
    "plt.ylabel('True Positive Rate')\n",
    "plt.xlabel('False Positive Rate')\n",
    "plt.show()"
   ]
  },
  {
   "cell_type": "code",
   "execution_count": 68,
   "metadata": {},
   "outputs": [
    {
     "name": "stdout",
     "output_type": "stream",
     "text": [
      "              precision    recall  f1-score   support\n",
      "\n",
      "           0       0.89      0.88      0.88      3577\n",
      "           1       0.57      0.60      0.59       966\n",
      "\n",
      "    accuracy                           0.82      4543\n",
      "   macro avg       0.73      0.74      0.74      4543\n",
      "weighted avg       0.82      0.82      0.82      4543\n",
      "\n"
     ]
    }
   ],
   "source": [
    "y_pred_class = list(map(lambda x:1 if x>=0.35 else 0, y_pred))\n",
    "print(classification_report(y_test, y_pred_class))"
   ]
  },
  {
   "cell_type": "markdown",
   "metadata": {},
   "source": [
    "### XGB"
   ]
  },
  {
   "cell_type": "code",
   "execution_count": 66,
   "metadata": {},
   "outputs": [
    {
     "data": {
      "text/plain": [
       "RandomizedSearchCV(cv=5,\n",
       "                   estimator=XGBClassifier(base_score=None, booster=None,\n",
       "                                           colsample_bylevel=None,\n",
       "                                           colsample_bynode=None,\n",
       "                                           colsample_bytree=None, gamma=None,\n",
       "                                           gpu_id=None, importance_type='gain',\n",
       "                                           interaction_constraints=None,\n",
       "                                           learning_rate=None,\n",
       "                                           max_delta_step=None, max_depth=None,\n",
       "                                           min_child_weight=None, missing=nan,\n",
       "                                           monotone_constraints=None,\n",
       "                                           n_estimators=100,...\n",
       "                                           num_parallel_tree=None,\n",
       "                                           random_state=None, reg_alpha=None,\n",
       "                                           reg_lambda=None,\n",
       "                                           scale_pos_weight=None,\n",
       "                                           subsample=None, tree_method=None,\n",
       "                                           validate_parameters=None,\n",
       "                                           verbosity=None),\n",
       "                   param_distributions={'colsample_bytree': [0.5, 0.7],\n",
       "                                        'gamma': [0.0, 0.1, 0.2, 0.3],\n",
       "                                        'learning_rate': [0.001, 0.01, 0.0001,\n",
       "                                                          0.05, 0.1],\n",
       "                                        'max_depth': [3, 4, 6, 8, 10, 12, 15,\n",
       "                                                      20, 25, 30],\n",
       "                                        'n_estimators': [100, 150, 200, 250,\n",
       "                                                         300]})"
      ]
     },
     "execution_count": 66,
     "metadata": {},
     "output_type": "execute_result"
    }
   ],
   "source": [
    "from xgboost import XGBClassifier\n",
    "XGB = XGBClassifier(n_jobs=-1) \n",
    " \n",
    "param_grid = {\n",
    "                  'n_estimators' :[100,150,200,250,300],\n",
    "                  \"learning_rate\" : [0.001,0.01,0.0001,0.05, 0.10 ],\n",
    "                  \"gamma\"            : [ 0.0, 0.1, 0.2 , 0.3 ],\n",
    "                  \"colsample_bytree\" : [0.5,0.7],\n",
    "                  'max_depth': [3,4,6,8,10,12,15,20,25,30]\n",
    "              }\n",
    "XGB_random = RandomizedSearchCV(XGB, param_distributions=param_grid, cv=5)\n",
    "XGB_random.fit(x_train,y_train)"
   ]
  },
  {
   "cell_type": "code",
   "execution_count": 67,
   "metadata": {},
   "outputs": [
    {
     "data": {
      "image/png": "[encoded data removed]",
      "text/plain": [
       "<Figure size 720x576 with 1 Axes>"
      ]
     },
     "metadata": {
      "needs_background": "light"
     },
     "output_type": "display_data"
    }
   ],
   "source": [
    "# 测试集评估\n",
    "best_est_XGB = XGB_random.best_estimator_\n",
    "y_pred = best_est_XGB.predict_proba(x_test)\n",
    "y_pred = y_pred[:,1]\n",
    "fpr,tpr,_ = roc_curve(y_test, y_pred)\n",
    "roc_auc = auc(fpr, tpr)\n",
    "plt.figure(figsize=(10,8))\n",
    "plt.title('Receiver Operating Characteristic')\n",
    "sns.lineplot(fpr, tpr, label = 'AUC = %0.2f' % roc_auc)\n",
    "plt.legend(loc = 'lower right')\n",
    "plt.plot([0, 1], [0, 1],'r--')\n",
    "plt.ylabel('True Positive Rate')\n",
    "plt.xlabel('False Positive Rate')\n",
    "plt.show()"
   ]
  },
  {
   "cell_type": "code",
   "execution_count": 70,
   "metadata": {},
   "outputs": [
    {
     "name": "stdout",
     "output_type": "stream",
     "text": [
      "              precision    recall  f1-score   support\n",
      "\n",
      "           0       0.89      0.90      0.90      3577\n",
      "           1       0.61      0.59      0.60       966\n",
      "\n",
      "    accuracy                           0.83      4543\n",
      "   macro avg       0.75      0.75      0.75      4543\n",
      "weighted avg       0.83      0.83      0.83      4543\n",
      "\n"
     ]
    }
   ],
   "source": [
    "y_pred_class = list(map(lambda x:1 if x>=0.35 else 0, y_pred))\n",
    "print(classification_report(y_test, y_pred_class))"
   ]
  },
  {
   "cell_type": "code",
   "execution_count": 71,
   "metadata": {},
   "outputs": [
    {
     "data": {
      "text/plain": [
       "['best_est_XGB.pkl']"
      ]
     },
     "execution_count": 71,
     "metadata": {},
     "output_type": "execute_result"
    }
   ],
   "source": [
    "joblib.dump(best_est_XGB, 'best_est_XGB.pkl')"
   ]
  },
  {
   "cell_type": "markdown",
   "metadata": {},
   "source": [
    "### lgb"
   ]
  },
  {
   "cell_type": "code",
   "execution_count": 55,
   "metadata": {},
   "outputs": [],
   "source": [
    "from lightgbm import LGBMClassifier"
   ]
  },
  {
   "cell_type": "code",
   "execution_count": 56,
   "metadata": {},
   "outputs": [
    {
     "data": {
      "text/plain": [
       "RandomizedSearchCV(cv=5,\n",
       "                   estimator=LGBMClassifier(metric='auc', objective='binary'),\n",
       "                   param_distributions={'bagging_fraction': [0.6, 0.7, 0.8, 0.9,\n",
       "                                                             0.95],\n",
       "                                        'bagging_freq': [2, 4, 5, 6, 8],\n",
       "                                        'cat_smooth': [1, 10, 15, 20, 35],\n",
       "                                        'feature_fraction': [0.6, 0.7, 0.8, 0.9,\n",
       "                                                             0.95],\n",
       "                                        'lambda_l1': [0, 0.1, 0.4, 0.5, 0.6],\n",
       "                                        'lambda_l2': [0, 10, 15, 35, 40],\n",
       "                                        'learning_rate': [0.01, 0.02, 0.05, 0.1,\n",
       "                                                          0.15],\n",
       "                                        'max_depth': [15, 20, 25, 30, 35]})"
      ]
     },
     "execution_count": 56,
     "metadata": {},
     "output_type": "execute_result"
    }
   ],
   "source": [
    "LGB = LGBMClassifier(boosting_type='gbdt',objective = 'binary',metric = 'auc',n_jobs=-1) \n",
    "param_grid = {\n",
    "              'max_depth': [15, 20, 25, 30, 35],\n",
    "              'learning_rate': [0.01, 0.02, 0.05, 0.1, 0.15],\n",
    "              'feature_fraction': [0.6, 0.7, 0.8, 0.9, 0.95],\n",
    "              'bagging_fraction': [0.6, 0.7, 0.8, 0.9, 0.95],\n",
    "              'bagging_freq': [2, 4, 5, 6, 8],\n",
    "              'lambda_l1': [0, 0.1, 0.4, 0.5, 0.6],\n",
    "              'lambda_l2': [0, 10, 15, 35, 40],\n",
    "              'cat_smooth': [1, 10, 15, 20, 35]\n",
    "}\n",
    "LGB_random = RandomizedSearchCV(LGB, param_distributions=param_grid, cv=5)\n",
    "LGB_random.fit(x_train,y_train)"
   ]
  },
  {
   "cell_type": "code",
   "execution_count": 57,
   "metadata": {},
   "outputs": [
    {
     "data": {
      "image/png": "[encoded data removed]",
      "text/plain": [
       "<Figure size 720x576 with 1 Axes>"
      ]
     },
     "metadata": {
      "needs_background": "light"
     },
     "output_type": "display_data"
    }
   ],
   "source": [
    "# 测试集评估\n",
    "best_est_LGB = LGB_random.best_estimator_\n",
    "y_pred = best_est_LGB.predict_proba(x_test)\n",
    "y_pred = y_pred[:,1]\n",
    "fpr,tpr,_ = roc_curve(y_test, y_pred)\n",
    "roc_auc = auc(fpr, tpr)\n",
    "plt.figure(figsize=(10,8))\n",
    "plt.title('Receiver Operating Characteristic')\n",
    "sns.lineplot(fpr, tpr, label = 'AUC = %0.2f' % roc_auc)\n",
    "plt.legend(loc = 'lower right')\n",
    "plt.plot([0, 1], [0, 1],'r--')\n",
    "plt.ylabel('True Positive Rate')\n",
    "plt.xlabel('False Positive Rate')\n",
    "plt.show()"
   ]
  },
  {
   "cell_type": "code",
   "execution_count": 60,
   "metadata": {},
   "outputs": [
    {
     "name": "stdout",
     "output_type": "stream",
     "text": [
      "              precision    recall  f1-score   support\n",
      "\n",
      "           0       0.87      0.95      0.91      3577\n",
      "           1       0.71      0.47      0.56       966\n",
      "\n",
      "    accuracy                           0.85      4543\n",
      "   macro avg       0.79      0.71      0.74      4543\n",
      "weighted avg       0.83      0.85      0.83      4543\n",
      "\n"
     ]
    }
   ],
   "source": [
    "y_pred_class = list(map(lambda x:1 if x>=0.35 else 0, y_pred))\n",
    "print(classification_report(y_test, y_pred_class))"
   ]
  },
  {
   "cell_type": "code",
   "execution_count": 72,
   "metadata": {},
   "outputs": [
    {
     "data": {
      "text/plain": [
       "['best_est_LGB.pkl']"
      ]
     },
     "execution_count": 72,
     "metadata": {},
     "output_type": "execute_result"
    }
   ],
   "source": [
    "joblib.dump(best_est_LGB, 'best_est_LGB.pkl')"
   ]
  },
  {
   "cell_type": "markdown",
   "metadata": {},
   "source": [
    "### 选XGB + LGB +RF融合"
   ]
  },
  {
   "cell_type": "code",
   "execution_count": 638,
   "metadata": {},
   "outputs": [
    {
     "data": {
      "text/plain": [
       "XGBClassifier(base_score=0.5, booster='gbtree', colsample_bylevel=1,\n",
       "              colsample_bynode=1, colsample_bytree=0.7, gamma=0.0, gpu_id=-1,\n",
       "              importance_type='gain', interaction_constraints='',\n",
       "              learning_rate=0.1, max_delta_step=0, max_depth=30,\n",
       "              min_child_weight=1, missing=nan, monotone_constraints='()',\n",
       "              n_estimators=300, n_jobs=-1, num_parallel_tree=1, random_state=0,\n",
       "              reg_alpha=0, reg_lambda=1, scale_pos_weight=1, subsample=1,\n",
       "              tree_method='exact', validate_parameters=1, verbosity=None)"
      ]
     },
     "execution_count": 638,
     "metadata": {},
     "output_type": "execute_result"
    }
   ],
   "source": [
    "XGB_random.best_estimator_"
   ]
  },
  {
   "cell_type": "code",
   "execution_count": 639,
   "metadata": {},
   "outputs": [
    {
     "data": {
      "text/plain": [
       "LGBMClassifier(bagging_fraction=0.8, bagging_freq=4, cat_smooth=15,\n",
       "               feature_fraction=0.95, lambda_l1=0.4, lambda_l2=15,\n",
       "               learning_rate=0.15, max_depth=15, metric='auc',\n",
       "               objective='binary')"
      ]
     },
     "execution_count": 639,
     "metadata": {},
     "output_type": "execute_result"
    }
   ],
   "source": [
    "LGB_random.best_estimator_"
   ]
  },
  {
   "cell_type": "code",
   "execution_count": 640,
   "metadata": {},
   "outputs": [
    {
     "data": {
      "text/plain": [
       "RandomForestClassifier(max_depth=9, min_samples_leaf=2, n_estimators=150)"
      ]
     },
     "execution_count": 640,
     "metadata": {},
     "output_type": "execute_result"
    }
   ],
   "source": [
    "RF_random.best_estimator_"
   ]
  },
  {
   "cell_type": "code",
   "execution_count": 73,
   "metadata": {},
   "outputs": [],
   "source": [
    "y_pred = 0.4* best_est_XGB.predict_proba(x_test)[:,1] + 0.3*best_est_LGB.predict_proba(x_test)[:,1] + 0.3*best_est_RF.predict_proba(x_test)[:,1]"
   ]
  },
  {
   "cell_type": "code",
   "execution_count": 74,
   "metadata": {},
   "outputs": [
    {
     "data": {
      "image/png": "[encoded data removed]",
      "text/plain": [
       "<Figure size 720x576 with 1 Axes>"
      ]
     },
     "metadata": {
      "needs_background": "light"
     },
     "output_type": "display_data"
    }
   ],
   "source": [
    "fpr,tpr,_ = roc_curve(y_test, y_pred)\n",
    "roc_auc = auc(fpr, tpr)\n",
    "plt.figure(figsize=(10,8))\n",
    "plt.title('Receiver Operating Characteristic')\n",
    "sns.lineplot(fpr, tpr, label = 'AUC = %0.2f' % roc_auc)\n",
    "plt.legend(loc = 'lower right')\n",
    "plt.plot([0, 1], [0, 1],'r--')\n",
    "plt.ylabel('True Positive Rate')\n",
    "plt.xlabel('False Positive Rate')\n",
    "plt.show()"
   ]
  },
  {
   "cell_type": "code",
   "execution_count": 75,
   "metadata": {},
   "outputs": [
    {
     "name": "stdout",
     "output_type": "stream",
     "text": [
      "              precision    recall  f1-score   support\n",
      "\n",
      "           0       0.90      0.88      0.89      3577\n",
      "           1       0.59      0.62      0.60       966\n",
      "\n",
      "    accuracy                           0.83      4543\n",
      "   macro avg       0.74      0.75      0.75      4543\n",
      "weighted avg       0.83      0.83      0.83      4543\n",
      "\n"
     ]
    }
   ],
   "source": [
    "y_pred_class = list(map(lambda x:1 if x>=0.3 else 0, y_pred))\n",
    "print(classification_report(y_test, y_pred_class))"
   ]
  },
  {
   "cell_type": "markdown",
   "metadata": {},
   "source": [
    "### 转化为分数"
   ]
  },
  {
   "cell_type": "code",
   "execution_count": 76,
   "metadata": {},
   "outputs": [
    {
     "data": {
      "text/html": [
       "<div>\n",
       "<style scoped>\n",
       "    .dataframe tbody tr th:only-of-type {\n",
       "        vertical-align: middle;\n",
       "    }\n",
       "\n",
       "    .dataframe tbody tr th {\n",
       "        vertical-align: top;\n",
       "    }\n",
       "\n",
       "    .dataframe thead th {\n",
       "        text-align: right;\n",
       "    }\n",
       "</style>\n",
       "<table border=\"1\" class=\"dataframe\">\n",
       "  <thead>\n",
       "    <tr style=\"text-align: right;\">\n",
       "      <th></th>\n",
       "      <th>image_id</th>\n",
       "      <th>image_run_date_amount</th>\n",
       "      <th>image_create_role_pay_num</th>\n",
       "      <th>image_create_role_num</th>\n",
       "      <th>image_create_role_pay_sum</th>\n",
       "      <th>image_source_num</th>\n",
       "      <th>image_create_role_pay_rate</th>\n",
       "      <th>image_create_role_cost</th>\n",
       "      <th>image_create_role_pay_cost</th>\n",
       "      <th>image_valid_source_num</th>\n",
       "      <th>image_valid_source_rate</th>\n",
       "      <th>image_pay_sum_ability</th>\n",
       "      <th>image_pay_num_ability</th>\n",
       "      <th>image_create_role_roi</th>\n",
       "      <th>image_create_role_retain_1d</th>\n",
       "      <th>create_role_30_pay_sum</th>\n",
       "      <th>model_run_datetime</th>\n",
       "      <th>label</th>\n",
       "    </tr>\n",
       "  </thead>\n",
       "  <tbody>\n",
       "    <tr>\n",
       "      <th>0</th>\n",
       "      <td>15133</td>\n",
       "      <td>1.332</td>\n",
       "      <td>0.896</td>\n",
       "      <td>1.902</td>\n",
       "      <td>1.0</td>\n",
       "      <td>0.552</td>\n",
       "      <td>0.691</td>\n",
       "      <td>1.315</td>\n",
       "      <td>1.219</td>\n",
       "      <td>0</td>\n",
       "      <td>0.513</td>\n",
       "      <td>0.443</td>\n",
       "      <td>0.343</td>\n",
       "      <td>1.104</td>\n",
       "      <td>0.0000</td>\n",
       "      <td>0</td>\n",
       "      <td>2020-01-01</td>\n",
       "      <td>0</td>\n",
       "    </tr>\n",
       "    <tr>\n",
       "      <th>1</th>\n",
       "      <td>15213</td>\n",
       "      <td>-0.363</td>\n",
       "      <td>-0.470</td>\n",
       "      <td>0.022</td>\n",
       "      <td>1.0</td>\n",
       "      <td>0.552</td>\n",
       "      <td>-0.919</td>\n",
       "      <td>0.059</td>\n",
       "      <td>0.243</td>\n",
       "      <td>0</td>\n",
       "      <td>0.513</td>\n",
       "      <td>0.443</td>\n",
       "      <td>0.343</td>\n",
       "      <td>1.104</td>\n",
       "      <td>0.1344</td>\n",
       "      <td>628</td>\n",
       "      <td>2020-01-01</td>\n",
       "      <td>0</td>\n",
       "    </tr>\n",
       "    <tr>\n",
       "      <th>2</th>\n",
       "      <td>16276</td>\n",
       "      <td>1.202</td>\n",
       "      <td>0.896</td>\n",
       "      <td>0.771</td>\n",
       "      <td>1.0</td>\n",
       "      <td>0.552</td>\n",
       "      <td>0.691</td>\n",
       "      <td>-0.521</td>\n",
       "      <td>1.219</td>\n",
       "      <td>0</td>\n",
       "      <td>0.513</td>\n",
       "      <td>0.443</td>\n",
       "      <td>0.343</td>\n",
       "      <td>1.104</td>\n",
       "      <td>0.3774</td>\n",
       "      <td>636</td>\n",
       "      <td>2020-01-01</td>\n",
       "      <td>1</td>\n",
       "    </tr>\n",
       "    <tr>\n",
       "      <th>3</th>\n",
       "      <td>16316</td>\n",
       "      <td>1.332</td>\n",
       "      <td>0.896</td>\n",
       "      <td>0.873</td>\n",
       "      <td>1.0</td>\n",
       "      <td>0.552</td>\n",
       "      <td>0.691</td>\n",
       "      <td>-0.481</td>\n",
       "      <td>1.219</td>\n",
       "      <td>0</td>\n",
       "      <td>0.513</td>\n",
       "      <td>0.443</td>\n",
       "      <td>0.343</td>\n",
       "      <td>1.104</td>\n",
       "      <td>0.0495</td>\n",
       "      <td>898</td>\n",
       "      <td>2020-01-01</td>\n",
       "      <td>1</td>\n",
       "    </tr>\n",
       "    <tr>\n",
       "      <th>4</th>\n",
       "      <td>17089</td>\n",
       "      <td>0.216</td>\n",
       "      <td>-0.470</td>\n",
       "      <td>0.022</td>\n",
       "      <td>1.0</td>\n",
       "      <td>-0.086</td>\n",
       "      <td>-0.919</td>\n",
       "      <td>-0.703</td>\n",
       "      <td>-1.316</td>\n",
       "      <td>2</td>\n",
       "      <td>-1.413</td>\n",
       "      <td>0.443</td>\n",
       "      <td>-1.502</td>\n",
       "      <td>1.104</td>\n",
       "      <td>0.0350</td>\n",
       "      <td>300</td>\n",
       "      <td>2020-01-01</td>\n",
       "      <td>0</td>\n",
       "    </tr>\n",
       "  </tbody>\n",
       "</table>\n",
       "</div>"
      ],
      "text/plain": [
       "   image_id  image_run_date_amount  image_create_role_pay_num  \\\n",
       "0     15133                  1.332                      0.896   \n",
       "1     15213                 -0.363                     -0.470   \n",
       "2     16276                  1.202                      0.896   \n",
       "3     16316                  1.332                      0.896   \n",
       "4     17089                  0.216                     -0.470   \n",
       "\n",
       "   image_create_role_num  image_create_role_pay_sum  image_source_num  \\\n",
       "0                  1.902                        1.0             0.552   \n",
       "1                  0.022                        1.0             0.552   \n",
       "2                  0.771                        1.0             0.552   \n",
       "3                  0.873                        1.0             0.552   \n",
       "4                  0.022                        1.0            -0.086   \n",
       "\n",
       "   image_create_role_pay_rate  image_create_role_cost  \\\n",
       "0                       0.691                   1.315   \n",
       "1                      -0.919                   0.059   \n",
       "2                       0.691                  -0.521   \n",
       "3                       0.691                  -0.481   \n",
       "4                      -0.919                  -0.703   \n",
       "\n",
       "   image_create_role_pay_cost  image_valid_source_num  \\\n",
       "0                       1.219                       0   \n",
       "1                       0.243                       0   \n",
       "2                       1.219                       0   \n",
       "3                       1.219                       0   \n",
       "4                      -1.316                       2   \n",
       "\n",
       "   image_valid_source_rate  image_pay_sum_ability  image_pay_num_ability  \\\n",
       "0                    0.513                  0.443                  0.343   \n",
       "1                    0.513                  0.443                  0.343   \n",
       "2                    0.513                  0.443                  0.343   \n",
       "3                    0.513                  0.443                  0.343   \n",
       "4                   -1.413                  0.443                 -1.502   \n",
       "\n",
       "   image_create_role_roi  image_create_role_retain_1d  create_role_30_pay_sum  \\\n",
       "0                  1.104                       0.0000                       0   \n",
       "1                  1.104                       0.1344                     628   \n",
       "2                  1.104                       0.3774                     636   \n",
       "3                  1.104                       0.0495                     898   \n",
       "4                  1.104                       0.0350                     300   \n",
       "\n",
       "  model_run_datetime  label  \n",
       "0         2020-01-01      0  \n",
       "1         2020-01-01      0  \n",
       "2         2020-01-01      1  \n",
       "3         2020-01-01      1  \n",
       "4         2020-01-01      0  "
      ]
     },
     "execution_count": 76,
     "metadata": {},
     "output_type": "execute_result"
    }
   ],
   "source": [
    "image_info_change.head()"
   ]
  },
  {
   "cell_type": "code",
   "execution_count": 77,
   "metadata": {
    "scrolled": true
   },
   "outputs": [],
   "source": [
    "feature = image_info_change[select_feature].drop('label',axis=1)\n",
    "image_info_change['pred'] = 0.4* best_est_XGB.predict_proba(feature)[:,1] + 0.3*best_est_LGB.predict_proba(feature)[:,1] + 0.3*best_est_RF.predict_proba(feature)[:,1]"
   ]
  },
  {
   "cell_type": "code",
   "execution_count": 78,
   "metadata": {},
   "outputs": [
    {
     "data": {
      "text/plain": [
       "(18169, 19)"
      ]
     },
     "execution_count": 78,
     "metadata": {},
     "output_type": "execute_result"
    }
   ],
   "source": [
    "image_info_change.shape"
   ]
  },
  {
   "cell_type": "code",
   "execution_count": 79,
   "metadata": {},
   "outputs": [
    {
     "data": {
      "text/html": [
       "<div>\n",
       "<style scoped>\n",
       "    .dataframe tbody tr th:only-of-type {\n",
       "        vertical-align: middle;\n",
       "    }\n",
       "\n",
       "    .dataframe tbody tr th {\n",
       "        vertical-align: top;\n",
       "    }\n",
       "\n",
       "    .dataframe thead th {\n",
       "        text-align: right;\n",
       "    }\n",
       "</style>\n",
       "<table border=\"1\" class=\"dataframe\">\n",
       "  <thead>\n",
       "    <tr style=\"text-align: right;\">\n",
       "      <th></th>\n",
       "      <th>image_id</th>\n",
       "      <th>image_run_date_amount</th>\n",
       "      <th>image_create_role_pay_num</th>\n",
       "      <th>image_create_role_num</th>\n",
       "      <th>image_create_role_pay_sum</th>\n",
       "      <th>image_source_num</th>\n",
       "      <th>image_create_role_pay_rate</th>\n",
       "      <th>image_create_role_cost</th>\n",
       "      <th>image_create_role_pay_cost</th>\n",
       "      <th>image_valid_source_num</th>\n",
       "      <th>image_valid_source_rate</th>\n",
       "      <th>image_pay_sum_ability</th>\n",
       "      <th>image_pay_num_ability</th>\n",
       "      <th>image_create_role_roi</th>\n",
       "      <th>image_create_role_retain_1d</th>\n",
       "      <th>create_role_30_pay_sum</th>\n",
       "      <th>model_run_datetime</th>\n",
       "      <th>label</th>\n",
       "      <th>pred</th>\n",
       "    </tr>\n",
       "  </thead>\n",
       "  <tbody>\n",
       "    <tr>\n",
       "      <th>0</th>\n",
       "      <td>15133</td>\n",
       "      <td>1.332</td>\n",
       "      <td>0.896</td>\n",
       "      <td>1.902</td>\n",
       "      <td>1.0</td>\n",
       "      <td>0.552</td>\n",
       "      <td>0.691</td>\n",
       "      <td>1.315</td>\n",
       "      <td>1.219</td>\n",
       "      <td>0</td>\n",
       "      <td>0.513</td>\n",
       "      <td>0.443</td>\n",
       "      <td>0.343</td>\n",
       "      <td>1.104</td>\n",
       "      <td>0.0000</td>\n",
       "      <td>0</td>\n",
       "      <td>2020-01-01</td>\n",
       "      <td>0</td>\n",
       "      <td>0.054553</td>\n",
       "    </tr>\n",
       "    <tr>\n",
       "      <th>1</th>\n",
       "      <td>15213</td>\n",
       "      <td>-0.363</td>\n",
       "      <td>-0.470</td>\n",
       "      <td>0.022</td>\n",
       "      <td>1.0</td>\n",
       "      <td>0.552</td>\n",
       "      <td>-0.919</td>\n",
       "      <td>0.059</td>\n",
       "      <td>0.243</td>\n",
       "      <td>0</td>\n",
       "      <td>0.513</td>\n",
       "      <td>0.443</td>\n",
       "      <td>0.343</td>\n",
       "      <td>1.104</td>\n",
       "      <td>0.1344</td>\n",
       "      <td>628</td>\n",
       "      <td>2020-01-01</td>\n",
       "      <td>0</td>\n",
       "      <td>0.106314</td>\n",
       "    </tr>\n",
       "    <tr>\n",
       "      <th>2</th>\n",
       "      <td>16276</td>\n",
       "      <td>1.202</td>\n",
       "      <td>0.896</td>\n",
       "      <td>0.771</td>\n",
       "      <td>1.0</td>\n",
       "      <td>0.552</td>\n",
       "      <td>0.691</td>\n",
       "      <td>-0.521</td>\n",
       "      <td>1.219</td>\n",
       "      <td>0</td>\n",
       "      <td>0.513</td>\n",
       "      <td>0.443</td>\n",
       "      <td>0.343</td>\n",
       "      <td>1.104</td>\n",
       "      <td>0.3774</td>\n",
       "      <td>636</td>\n",
       "      <td>2020-01-01</td>\n",
       "      <td>1</td>\n",
       "      <td>0.115652</td>\n",
       "    </tr>\n",
       "    <tr>\n",
       "      <th>3</th>\n",
       "      <td>16316</td>\n",
       "      <td>1.332</td>\n",
       "      <td>0.896</td>\n",
       "      <td>0.873</td>\n",
       "      <td>1.0</td>\n",
       "      <td>0.552</td>\n",
       "      <td>0.691</td>\n",
       "      <td>-0.481</td>\n",
       "      <td>1.219</td>\n",
       "      <td>0</td>\n",
       "      <td>0.513</td>\n",
       "      <td>0.443</td>\n",
       "      <td>0.343</td>\n",
       "      <td>1.104</td>\n",
       "      <td>0.0495</td>\n",
       "      <td>898</td>\n",
       "      <td>2020-01-01</td>\n",
       "      <td>1</td>\n",
       "      <td>0.158397</td>\n",
       "    </tr>\n",
       "    <tr>\n",
       "      <th>4</th>\n",
       "      <td>17089</td>\n",
       "      <td>0.216</td>\n",
       "      <td>-0.470</td>\n",
       "      <td>0.022</td>\n",
       "      <td>1.0</td>\n",
       "      <td>-0.086</td>\n",
       "      <td>-0.919</td>\n",
       "      <td>-0.703</td>\n",
       "      <td>-1.316</td>\n",
       "      <td>2</td>\n",
       "      <td>-1.413</td>\n",
       "      <td>0.443</td>\n",
       "      <td>-1.502</td>\n",
       "      <td>1.104</td>\n",
       "      <td>0.0350</td>\n",
       "      <td>300</td>\n",
       "      <td>2020-01-01</td>\n",
       "      <td>0</td>\n",
       "      <td>0.336620</td>\n",
       "    </tr>\n",
       "  </tbody>\n",
       "</table>\n",
       "</div>"
      ],
      "text/plain": [
       "   image_id  image_run_date_amount  image_create_role_pay_num  \\\n",
       "0     15133                  1.332                      0.896   \n",
       "1     15213                 -0.363                     -0.470   \n",
       "2     16276                  1.202                      0.896   \n",
       "3     16316                  1.332                      0.896   \n",
       "4     17089                  0.216                     -0.470   \n",
       "\n",
       "   image_create_role_num  image_create_role_pay_sum  image_source_num  \\\n",
       "0                  1.902                        1.0             0.552   \n",
       "1                  0.022                        1.0             0.552   \n",
       "2                  0.771                        1.0             0.552   \n",
       "3                  0.873                        1.0             0.552   \n",
       "4                  0.022                        1.0            -0.086   \n",
       "\n",
       "   image_create_role_pay_rate  image_create_role_cost  \\\n",
       "0                       0.691                   1.315   \n",
       "1                      -0.919                   0.059   \n",
       "2                       0.691                  -0.521   \n",
       "3                       0.691                  -0.481   \n",
       "4                      -0.919                  -0.703   \n",
       "\n",
       "   image_create_role_pay_cost  image_valid_source_num  \\\n",
       "0                       1.219                       0   \n",
       "1                       0.243                       0   \n",
       "2                       1.219                       0   \n",
       "3                       1.219                       0   \n",
       "4                      -1.316                       2   \n",
       "\n",
       "   image_valid_source_rate  image_pay_sum_ability  image_pay_num_ability  \\\n",
       "0                    0.513                  0.443                  0.343   \n",
       "1                    0.513                  0.443                  0.343   \n",
       "2                    0.513                  0.443                  0.343   \n",
       "3                    0.513                  0.443                  0.343   \n",
       "4                   -1.413                  0.443                 -1.502   \n",
       "\n",
       "   image_create_role_roi  image_create_role_retain_1d  create_role_30_pay_sum  \\\n",
       "0                  1.104                       0.0000                       0   \n",
       "1                  1.104                       0.1344                     628   \n",
       "2                  1.104                       0.3774                     636   \n",
       "3                  1.104                       0.0495                     898   \n",
       "4                  1.104                       0.0350                     300   \n",
       "\n",
       "  model_run_datetime  label      pred  \n",
       "0         2020-01-01      0  0.054553  \n",
       "1         2020-01-01      0  0.106314  \n",
       "2         2020-01-01      1  0.115652  \n",
       "3         2020-01-01      1  0.158397  \n",
       "4         2020-01-01      0  0.336620  "
      ]
     },
     "execution_count": 79,
     "metadata": {},
     "output_type": "execute_result"
    }
   ],
   "source": [
    "image_info_change.head()"
   ]
  },
  {
   "cell_type": "code",
   "execution_count": 830,
   "metadata": {},
   "outputs": [],
   "source": [
    "image_info_change.to_csv('./image_info_change.csv',index=0)"
   ]
  },
  {
   "cell_type": "code",
   "execution_count": 831,
   "metadata": {},
   "outputs": [],
   "source": [
    "image_info_label.to_csv('./image_info_label.csv',index=0)"
   ]
  },
  {
   "cell_type": "code",
   "execution_count": 80,
   "metadata": {},
   "outputs": [
    {
     "data": {
      "image/png": "[encoded data removed]",
      "text/plain": [
       "<Figure size 720x576 with 1 Axes>"
      ]
     },
     "metadata": {
      "needs_background": "light"
     },
     "output_type": "display_data"
    }
   ],
   "source": [
    "fpr,tpr,_ = roc_curve(image_info_change['label'], image_info_change['pred'])\n",
    "roc_auc = auc(fpr, tpr)\n",
    "plt.figure(figsize=(10,8))\n",
    "plt.title('Receiver Operating Characteristic')\n",
    "sns.lineplot(fpr, tpr, label = 'AUC = %0.2f' % roc_auc)\n",
    "plt.legend(loc = 'lower right')\n",
    "plt.plot([0, 1], [0, 1],'r--')\n",
    "plt.ylabel('True Positive Rate')\n",
    "plt.xlabel('False Positive Rate')\n",
    "plt.show()"
   ]
  },
  {
   "cell_type": "code",
   "execution_count": 81,
   "metadata": {},
   "outputs": [
    {
     "name": "stdout",
     "output_type": "stream",
     "text": [
      "              precision    recall  f1-score   support\n",
      "\n",
      "           0       0.92      0.90      0.91     14197\n",
      "           1       0.67      0.71      0.69      3972\n",
      "\n",
      "    accuracy                           0.86     18169\n",
      "   macro avg       0.79      0.80      0.80     18169\n",
      "weighted avg       0.86      0.86      0.86     18169\n",
      "\n"
     ]
    }
   ],
   "source": [
    "y_pred_class = list(map(lambda x:1 if x>=0.3 else 0, image_info_change['pred']))\n",
    "print(classification_report(image_info_change['label'], y_pred_class))"
   ]
  },
  {
   "cell_type": "code",
   "execution_count": 82,
   "metadata": {},
   "outputs": [],
   "source": [
    "def Prob2Score(prob, basePoint=600, PDO=30):\n",
    "    #将概率转化成分数且为正整数\n",
    "    y = np.log(prob/(1-prob))\n",
    "    return (basePoint+int(PDO/np.log(2)*(y)))"
   ]
  },
  {
   "cell_type": "code",
   "execution_count": 83,
   "metadata": {},
   "outputs": [
    {
     "data": {
      "text/plain": [
       "564"
      ]
     },
     "execution_count": 83,
     "metadata": {},
     "output_type": "execute_result"
    }
   ],
   "source": [
    "Prob2Score(0.3)"
   ]
  },
  {
   "cell_type": "code",
   "execution_count": 84,
   "metadata": {},
   "outputs": [],
   "source": [
    "image_info_change['score'] = image_info_change['pred'].apply(Prob2Score)"
   ]
  },
  {
   "cell_type": "code",
   "execution_count": 85,
   "metadata": {},
   "outputs": [],
   "source": [
    "image_info_label['score'] = image_info_change['score']"
   ]
  },
  {
   "cell_type": "code",
   "execution_count": 86,
   "metadata": {},
   "outputs": [
    {
     "data": {
      "text/html": [
       "<div>\n",
       "<style scoped>\n",
       "    .dataframe tbody tr th:only-of-type {\n",
       "        vertical-align: middle;\n",
       "    }\n",
       "\n",
       "    .dataframe tbody tr th {\n",
       "        vertical-align: top;\n",
       "    }\n",
       "\n",
       "    .dataframe thead th {\n",
       "        text-align: right;\n",
       "    }\n",
       "</style>\n",
       "<table border=\"1\" class=\"dataframe\">\n",
       "  <thead>\n",
       "    <tr style=\"text-align: right;\">\n",
       "      <th></th>\n",
       "      <th>image_id</th>\n",
       "      <th>image_run_date_amount</th>\n",
       "      <th>image_create_role_pay_num</th>\n",
       "      <th>image_create_role_num</th>\n",
       "      <th>image_create_role_pay_sum</th>\n",
       "      <th>image_source_num</th>\n",
       "      <th>image_create_role_pay_rate</th>\n",
       "      <th>image_create_role_cost</th>\n",
       "      <th>image_create_role_pay_cost</th>\n",
       "      <th>image_valid_source_num</th>\n",
       "      <th>image_valid_source_rate</th>\n",
       "      <th>image_pay_sum_ability</th>\n",
       "      <th>image_pay_num_ability</th>\n",
       "      <th>image_create_role_roi</th>\n",
       "      <th>image_create_role_retain_1d</th>\n",
       "      <th>create_role_30_pay_sum</th>\n",
       "      <th>model_run_datetime</th>\n",
       "      <th>label</th>\n",
       "      <th>score</th>\n",
       "    </tr>\n",
       "  </thead>\n",
       "  <tbody>\n",
       "    <tr>\n",
       "      <th>0</th>\n",
       "      <td>15133</td>\n",
       "      <td>837.64</td>\n",
       "      <td>0</td>\n",
       "      <td>4</td>\n",
       "      <td>0</td>\n",
       "      <td>1</td>\n",
       "      <td>0.0000</td>\n",
       "      <td>209.410000</td>\n",
       "      <td>inf</td>\n",
       "      <td>0</td>\n",
       "      <td>0.0</td>\n",
       "      <td>0.0</td>\n",
       "      <td>0.0</td>\n",
       "      <td>0.000000</td>\n",
       "      <td>0.0000</td>\n",
       "      <td>0</td>\n",
       "      <td>2020-01-01</td>\n",
       "      <td>0</td>\n",
       "      <td>477</td>\n",
       "    </tr>\n",
       "    <tr>\n",
       "      <th>1</th>\n",
       "      <td>15213</td>\n",
       "      <td>11343.97</td>\n",
       "      <td>1</td>\n",
       "      <td>187</td>\n",
       "      <td>30</td>\n",
       "      <td>1</td>\n",
       "      <td>0.0053</td>\n",
       "      <td>60.662941</td>\n",
       "      <td>11343.97</td>\n",
       "      <td>0</td>\n",
       "      <td>0.0</td>\n",
       "      <td>0.0</td>\n",
       "      <td>0.0</td>\n",
       "      <td>0.002645</td>\n",
       "      <td>0.1344</td>\n",
       "      <td>628</td>\n",
       "      <td>2020-01-01</td>\n",
       "      <td>0</td>\n",
       "      <td>508</td>\n",
       "    </tr>\n",
       "    <tr>\n",
       "      <th>2</th>\n",
       "      <td>16276</td>\n",
       "      <td>1026.89</td>\n",
       "      <td>0</td>\n",
       "      <td>29</td>\n",
       "      <td>0</td>\n",
       "      <td>2</td>\n",
       "      <td>0.0000</td>\n",
       "      <td>35.410000</td>\n",
       "      <td>inf</td>\n",
       "      <td>0</td>\n",
       "      <td>0.0</td>\n",
       "      <td>0.0</td>\n",
       "      <td>0.0</td>\n",
       "      <td>0.000000</td>\n",
       "      <td>0.3774</td>\n",
       "      <td>636</td>\n",
       "      <td>2020-01-01</td>\n",
       "      <td>1</td>\n",
       "      <td>512</td>\n",
       "    </tr>\n",
       "    <tr>\n",
       "      <th>3</th>\n",
       "      <td>16316</td>\n",
       "      <td>799.72</td>\n",
       "      <td>0</td>\n",
       "      <td>20</td>\n",
       "      <td>0</td>\n",
       "      <td>1</td>\n",
       "      <td>0.0000</td>\n",
       "      <td>39.986000</td>\n",
       "      <td>inf</td>\n",
       "      <td>0</td>\n",
       "      <td>0.0</td>\n",
       "      <td>0.0</td>\n",
       "      <td>0.0</td>\n",
       "      <td>0.000000</td>\n",
       "      <td>0.0495</td>\n",
       "      <td>898</td>\n",
       "      <td>2020-01-01</td>\n",
       "      <td>1</td>\n",
       "      <td>528</td>\n",
       "    </tr>\n",
       "    <tr>\n",
       "      <th>4</th>\n",
       "      <td>17089</td>\n",
       "      <td>5653.74</td>\n",
       "      <td>2</td>\n",
       "      <td>242</td>\n",
       "      <td>24</td>\n",
       "      <td>4</td>\n",
       "      <td>0.0083</td>\n",
       "      <td>23.362562</td>\n",
       "      <td>2826.87</td>\n",
       "      <td>2</td>\n",
       "      <td>0.5</td>\n",
       "      <td>12.0</td>\n",
       "      <td>1.0</td>\n",
       "      <td>0.004245</td>\n",
       "      <td>0.0350</td>\n",
       "      <td>300</td>\n",
       "      <td>2020-01-01</td>\n",
       "      <td>0</td>\n",
       "      <td>571</td>\n",
       "    </tr>\n",
       "  </tbody>\n",
       "</table>\n",
       "</div>"
      ],
      "text/plain": [
       "   image_id  image_run_date_amount  image_create_role_pay_num  \\\n",
       "0     15133                 837.64                          0   \n",
       "1     15213               11343.97                          1   \n",
       "2     16276                1026.89                          0   \n",
       "3     16316                 799.72                          0   \n",
       "4     17089                5653.74                          2   \n",
       "\n",
       "   image_create_role_num  image_create_role_pay_sum  image_source_num  \\\n",
       "0                      4                          0                 1   \n",
       "1                    187                         30                 1   \n",
       "2                     29                          0                 2   \n",
       "3                     20                          0                 1   \n",
       "4                    242                         24                 4   \n",
       "\n",
       "   image_create_role_pay_rate  image_create_role_cost  \\\n",
       "0                      0.0000              209.410000   \n",
       "1                      0.0053               60.662941   \n",
       "2                      0.0000               35.410000   \n",
       "3                      0.0000               39.986000   \n",
       "4                      0.0083               23.362562   \n",
       "\n",
       "   image_create_role_pay_cost  image_valid_source_num  \\\n",
       "0                         inf                       0   \n",
       "1                    11343.97                       0   \n",
       "2                         inf                       0   \n",
       "3                         inf                       0   \n",
       "4                     2826.87                       2   \n",
       "\n",
       "   image_valid_source_rate  image_pay_sum_ability  image_pay_num_ability  \\\n",
       "0                      0.0                    0.0                    0.0   \n",
       "1                      0.0                    0.0                    0.0   \n",
       "2                      0.0                    0.0                    0.0   \n",
       "3                      0.0                    0.0                    0.0   \n",
       "4                      0.5                   12.0                    1.0   \n",
       "\n",
       "   image_create_role_roi  image_create_role_retain_1d  create_role_30_pay_sum  \\\n",
       "0               0.000000                       0.0000                       0   \n",
       "1               0.002645                       0.1344                     628   \n",
       "2               0.000000                       0.3774                     636   \n",
       "3               0.000000                       0.0495                     898   \n",
       "4               0.004245                       0.0350                     300   \n",
       "\n",
       "  model_run_datetime  label  score  \n",
       "0         2020-01-01      0    477  \n",
       "1         2020-01-01      0    508  \n",
       "2         2020-01-01      1    512  \n",
       "3         2020-01-01      1    528  \n",
       "4         2020-01-01      0    571  "
      ]
     },
     "execution_count": 86,
     "metadata": {},
     "output_type": "execute_result"
    }
   ],
   "source": [
    "image_info_label.head()"
   ]
  },
  {
   "cell_type": "code",
   "execution_count": 87,
   "metadata": {},
   "outputs": [
    {
     "data": {
      "image/png": "[encoded data removed]",
      "text/plain": [
       "<Figure size 432x288 with 1 Axes>"
      ]
     },
     "metadata": {
      "needs_background": "light"
     },
     "output_type": "display_data"
    }
   ],
   "source": [
    "box0 = image_info_label[image_info_label['label']==0]['score']\n",
    "box1 = image_info_label[image_info_label['label']==1]['score']\n",
    "plt.title('score for different box',fontsize=15)\n",
    "labels = 'box0','box1'\n",
    "plt.boxplot([box0,box1],labels=labels)\n",
    "plt.show()"
   ]
  },
  {
   "cell_type": "code",
   "execution_count": 88,
   "metadata": {},
   "outputs": [
    {
     "data": {
      "image/png": "[encoded data removed]",
      "text/plain": [
       "<Figure size 432x288 with 1 Axes>"
      ]
     },
     "metadata": {
      "needs_background": "light"
     },
     "output_type": "display_data"
    }
   ],
   "source": [
    "sns.distplot(image_info_label['score'])\n",
    "plt.show()"
   ]
  },
  {
   "cell_type": "code",
   "execution_count": 89,
   "metadata": {},
   "outputs": [
    {
     "data": {
      "text/plain": [
       "0.7198544910017699"
      ]
     },
     "execution_count": 89,
     "metadata": {},
     "output_type": "execute_result"
    }
   ],
   "source": [
    "image_info_label[image_info_label['score']>=600]['create_role_30_pay_sum'].sum() / image_info_label[image_info_label['score']>=600]['image_run_date_amount'].sum()"
   ]
  },
  {
   "cell_type": "code",
   "execution_count": 90,
   "metadata": {},
   "outputs": [
    {
     "data": {
      "text/plain": [
       "0.2540722133555519"
      ]
     },
     "execution_count": 90,
     "metadata": {},
     "output_type": "execute_result"
    }
   ],
   "source": [
    "image_info_label[image_info_label['score']<600]['create_role_30_pay_sum'].sum() / image_info_label[image_info_label['score']<600]['image_run_date_amount'].sum()"
   ]
  },
  {
   "cell_type": "code",
   "execution_count": 91,
   "metadata": {},
   "outputs": [
    {
     "data": {
      "text/plain": [
       "192796227"
      ]
     },
     "execution_count": 91,
     "metadata": {},
     "output_type": "execute_result"
    }
   ],
   "source": [
    "image_info_label['create_role_30_pay_sum'].sum()"
   ]
  },
  {
   "cell_type": "code",
   "execution_count": 92,
   "metadata": {},
   "outputs": [
    {
     "data": {
      "text/plain": [
       "37497487"
      ]
     },
     "execution_count": 92,
     "metadata": {},
     "output_type": "execute_result"
    }
   ],
   "source": [
    "image_info_label[image_info_label['score']<600]['create_role_30_pay_sum'].sum()"
   ]
  },
  {
   "cell_type": "code",
   "execution_count": 93,
   "metadata": {},
   "outputs": [
    {
     "data": {
      "text/plain": [
       "0.5306480249748728"
      ]
     },
     "execution_count": 93,
     "metadata": {},
     "output_type": "execute_result"
    }
   ],
   "source": [
    "image_info_label['create_role_30_pay_sum'].sum() / image_info_label['image_run_date_amount'].sum()"
   ]
  },
  {
   "cell_type": "code",
   "execution_count": 94,
   "metadata": {},
   "outputs": [
    {
     "data": {
      "text/plain": [
       "0.5937877521166496"
      ]
     },
     "execution_count": 94,
     "metadata": {},
     "output_type": "execute_result"
    }
   ],
   "source": [
    "image_info_label[image_info_label['score']>=600]['image_run_date_amount'].sum() / image_info_label['image_run_date_amount'].sum()"
   ]
  },
  {
   "cell_type": "code",
   "execution_count": null,
   "metadata": {},
   "outputs": [],
   "source": []
  },
  {
   "cell_type": "code",
   "execution_count": null,
   "metadata": {},
   "outputs": [],
   "source": []
  },
  {
   "cell_type": "code",
   "execution_count": 95,
   "metadata": {},
   "outputs": [
    {
     "data": {
      "text/plain": [
       "0.4004268442077136"
      ]
     },
     "execution_count": 95,
     "metadata": {},
     "output_type": "execute_result"
    }
   ],
   "source": [
    "image_info_label[image_info_label['score']>=660]['image_run_date_amount'].sum() / image_info_label['image_run_date_amount'].sum()"
   ]
  },
  {
   "cell_type": "code",
   "execution_count": 96,
   "metadata": {},
   "outputs": [
    {
     "name": "stdout",
     "output_type": "stream",
     "text": [
      "高分区ROI： 0.7645707227501143\n",
      "低分区ROI： 0.3744220052576976\n"
     ]
    }
   ],
   "source": [
    "print('高分区ROI：',image_info_label[image_info_label['score']>=660]['create_role_30_pay_sum'].sum() / image_info_label[image_info_label['score']>=660]['image_run_date_amount'].sum())\n",
    "print('低分区ROI：',image_info_label[image_info_label['score']<660]['create_role_30_pay_sum'].sum() / image_info_label[image_info_label['score']<660]['image_run_date_amount'].sum())"
   ]
  },
  {
   "cell_type": "code",
   "execution_count": 97,
   "metadata": {},
   "outputs": [
    {
     "name": "stdout",
     "output_type": "stream",
     "text": [
      "高分区ROI： 0.6598335319962413\n",
      "低分区ROI： 0.18159754647316476\n"
     ]
    }
   ],
   "source": [
    "print('高分区ROI：',image_info_label[image_info_label['score']>=560]['create_role_30_pay_sum'].sum() / image_info_label[image_info_label['score']>=560]['image_run_date_amount'].sum())\n",
    "print('低分区ROI：',image_info_label[image_info_label['score']<560]['create_role_30_pay_sum'].sum() / image_info_label[image_info_label['score']<560]['image_run_date_amount'].sum())"
   ]
  },
  {
   "cell_type": "code",
   "execution_count": 98,
   "metadata": {
    "scrolled": true
   },
   "outputs": [
    {
     "data": {
      "text/plain": [
       "image_create_role_cost        -0.405679\n",
       "image_create_role_pay_cost    -0.404758\n",
       "image_create_role_retain_1d   -0.089876\n",
       "image_create_role_pay_rate     0.245842\n",
       "image_create_role_roi          0.363229\n",
       "image_create_role_num          0.454330\n",
       "image_valid_source_num         0.472654\n",
       "image_create_role_pay_num      0.488485\n",
       "image_pay_sum_ability          0.491436\n",
       "image_source_num               0.492475\n",
       "image_run_date_amount          0.504294\n",
       "image_create_role_pay_sum      0.519275\n",
       "image_pay_num_ability          0.535647\n",
       "image_valid_source_rate        0.581792\n",
       "score                          1.000000\n",
       "Name: score, dtype: float64"
      ]
     },
     "execution_count": 98,
     "metadata": {},
     "output_type": "execute_result"
    }
   ],
   "source": [
    "image_info_label.drop(['image_id','create_role_30_pay_sum','label'],axis=1).corr()['score'].sort_values()"
   ]
  },
  {
   "cell_type": "markdown",
   "metadata": {},
   "source": [
    "### Test"
   ]
  },
  {
   "cell_type": "code",
   "execution_count": 100,
   "metadata": {},
   "outputs": [],
   "source": [
    "test = pd.read_excel('./test.xls')"
   ]
  },
  {
   "cell_type": "code",
   "execution_count": 101,
   "metadata": {},
   "outputs": [
    {
     "data": {
      "text/html": [
       "<div>\n",
       "<style scoped>\n",
       "    .dataframe tbody tr th:only-of-type {\n",
       "        vertical-align: middle;\n",
       "    }\n",
       "\n",
       "    .dataframe tbody tr th {\n",
       "        vertical-align: top;\n",
       "    }\n",
       "\n",
       "    .dataframe thead th {\n",
       "        text-align: right;\n",
       "    }\n",
       "</style>\n",
       "<table border=\"1\" class=\"dataframe\">\n",
       "  <thead>\n",
       "    <tr style=\"text-align: right;\">\n",
       "      <th></th>\n",
       "      <th>image_id</th>\n",
       "      <th>image_run_date_amount</th>\n",
       "      <th>image_create_role_pay_num</th>\n",
       "      <th>image_create_role_num</th>\n",
       "      <th>image_create_role_pay_sum</th>\n",
       "      <th>image_source_num</th>\n",
       "      <th>image_create_role_pay_rate</th>\n",
       "      <th>image_create_role_cost</th>\n",
       "      <th>image_create_role_pay_cost</th>\n",
       "      <th>image_valid_source_num</th>\n",
       "      <th>image_valid_source_rate</th>\n",
       "      <th>image_pay_sum_ability</th>\n",
       "      <th>image_pay_num_ability</th>\n",
       "      <th>image_create_role_roi</th>\n",
       "      <th>image_create_role_retain_1d</th>\n",
       "      <th>create_role_30_pay_sum</th>\n",
       "      <th>model_run_datetime</th>\n",
       "      <th>data_win</th>\n",
       "    </tr>\n",
       "  </thead>\n",
       "  <tbody>\n",
       "    <tr>\n",
       "      <th>0</th>\n",
       "      <td>16276</td>\n",
       "      <td>5710.84</td>\n",
       "      <td>0</td>\n",
       "      <td>196</td>\n",
       "      <td>0</td>\n",
       "      <td>7</td>\n",
       "      <td>0.0</td>\n",
       "      <td>29.136939</td>\n",
       "      <td>0.0</td>\n",
       "      <td>0</td>\n",
       "      <td>0.0</td>\n",
       "      <td>0.0</td>\n",
       "      <td>0.0</td>\n",
       "      <td>0.0</td>\n",
       "      <td>0.1005</td>\n",
       "      <td>0</td>\n",
       "      <td>2020-10-02</td>\n",
       "      <td>3</td>\n",
       "    </tr>\n",
       "    <tr>\n",
       "      <th>1</th>\n",
       "      <td>16316</td>\n",
       "      <td>1023.57</td>\n",
       "      <td>0</td>\n",
       "      <td>7</td>\n",
       "      <td>0</td>\n",
       "      <td>2</td>\n",
       "      <td>0.0</td>\n",
       "      <td>146.224286</td>\n",
       "      <td>0.0</td>\n",
       "      <td>0</td>\n",
       "      <td>0.0</td>\n",
       "      <td>0.0</td>\n",
       "      <td>0.0</td>\n",
       "      <td>0.0</td>\n",
       "      <td>0.1000</td>\n",
       "      <td>0</td>\n",
       "      <td>2020-10-02</td>\n",
       "      <td>3</td>\n",
       "    </tr>\n",
       "    <tr>\n",
       "      <th>2</th>\n",
       "      <td>18216</td>\n",
       "      <td>3303.96</td>\n",
       "      <td>0</td>\n",
       "      <td>58</td>\n",
       "      <td>0</td>\n",
       "      <td>2</td>\n",
       "      <td>0.0</td>\n",
       "      <td>56.964828</td>\n",
       "      <td>0.0</td>\n",
       "      <td>0</td>\n",
       "      <td>0.0</td>\n",
       "      <td>0.0</td>\n",
       "      <td>0.0</td>\n",
       "      <td>0.0</td>\n",
       "      <td>0.0455</td>\n",
       "      <td>0</td>\n",
       "      <td>2020-10-02</td>\n",
       "      <td>3</td>\n",
       "    </tr>\n",
       "    <tr>\n",
       "      <th>3</th>\n",
       "      <td>19100</td>\n",
       "      <td>3739.89</td>\n",
       "      <td>0</td>\n",
       "      <td>66</td>\n",
       "      <td>0</td>\n",
       "      <td>1</td>\n",
       "      <td>0.0</td>\n",
       "      <td>56.665000</td>\n",
       "      <td>0.0</td>\n",
       "      <td>0</td>\n",
       "      <td>0.0</td>\n",
       "      <td>0.0</td>\n",
       "      <td>0.0</td>\n",
       "      <td>0.0</td>\n",
       "      <td>0.0735</td>\n",
       "      <td>0</td>\n",
       "      <td>2020-10-02</td>\n",
       "      <td>3</td>\n",
       "    </tr>\n",
       "    <tr>\n",
       "      <th>4</th>\n",
       "      <td>19208</td>\n",
       "      <td>4388.16</td>\n",
       "      <td>0</td>\n",
       "      <td>69</td>\n",
       "      <td>0</td>\n",
       "      <td>2</td>\n",
       "      <td>0.0</td>\n",
       "      <td>63.596522</td>\n",
       "      <td>0.0</td>\n",
       "      <td>0</td>\n",
       "      <td>0.0</td>\n",
       "      <td>0.0</td>\n",
       "      <td>0.0</td>\n",
       "      <td>0.0</td>\n",
       "      <td>0.0145</td>\n",
       "      <td>12</td>\n",
       "      <td>2020-10-02</td>\n",
       "      <td>3</td>\n",
       "    </tr>\n",
       "  </tbody>\n",
       "</table>\n",
       "</div>"
      ],
      "text/plain": [
       "   image_id  image_run_date_amount  image_create_role_pay_num  \\\n",
       "0     16276                5710.84                          0   \n",
       "1     16316                1023.57                          0   \n",
       "2     18216                3303.96                          0   \n",
       "3     19100                3739.89                          0   \n",
       "4     19208                4388.16                          0   \n",
       "\n",
       "   image_create_role_num  image_create_role_pay_sum  image_source_num  \\\n",
       "0                    196                          0                 7   \n",
       "1                      7                          0                 2   \n",
       "2                     58                          0                 2   \n",
       "3                     66                          0                 1   \n",
       "4                     69                          0                 2   \n",
       "\n",
       "   image_create_role_pay_rate  image_create_role_cost  \\\n",
       "0                         0.0               29.136939   \n",
       "1                         0.0              146.224286   \n",
       "2                         0.0               56.964828   \n",
       "3                         0.0               56.665000   \n",
       "4                         0.0               63.596522   \n",
       "\n",
       "   image_create_role_pay_cost  image_valid_source_num  \\\n",
       "0                         0.0                       0   \n",
       "1                         0.0                       0   \n",
       "2                         0.0                       0   \n",
       "3                         0.0                       0   \n",
       "4                         0.0                       0   \n",
       "\n",
       "   image_valid_source_rate  image_pay_sum_ability  image_pay_num_ability  \\\n",
       "0                      0.0                    0.0                    0.0   \n",
       "1                      0.0                    0.0                    0.0   \n",
       "2                      0.0                    0.0                    0.0   \n",
       "3                      0.0                    0.0                    0.0   \n",
       "4                      0.0                    0.0                    0.0   \n",
       "\n",
       "   image_create_role_roi  image_create_role_retain_1d  create_role_30_pay_sum  \\\n",
       "0                    0.0                       0.1005                       0   \n",
       "1                    0.0                       0.1000                       0   \n",
       "2                    0.0                       0.0455                       0   \n",
       "3                    0.0                       0.0735                       0   \n",
       "4                    0.0                       0.0145                      12   \n",
       "\n",
       "  model_run_datetime  data_win  \n",
       "0         2020-10-02         3  \n",
       "1         2020-10-02         3  \n",
       "2         2020-10-02         3  \n",
       "3         2020-10-02         3  \n",
       "4         2020-10-02         3  "
      ]
     },
     "execution_count": 101,
     "metadata": {},
     "output_type": "execute_result"
    }
   ],
   "source": [
    "test.head()"
   ]
  },
  {
   "cell_type": "code",
   "execution_count": 102,
   "metadata": {},
   "outputs": [
    {
     "data": {
      "text/plain": [
       "(2852, 18)"
      ]
     },
     "execution_count": 102,
     "metadata": {},
     "output_type": "execute_result"
    }
   ],
   "source": [
    "test.shape"
   ]
  },
  {
   "cell_type": "code",
   "execution_count": 103,
   "metadata": {},
   "outputs": [],
   "source": [
    "test_woe = test.copy()"
   ]
  },
  {
   "cell_type": "code",
   "execution_count": 104,
   "metadata": {},
   "outputs": [],
   "source": [
    "def FE(df):\n",
    "    df['image_create_role_cost'].replace(0, float('inf'), inplace=True)\n",
    "    df['image_create_role_pay_cost'].replace(0, float('inf'), inplace=True)\n",
    "    # 分桶定义（根据训练模型给出）\n",
    "    pinf = float('inf')  # 正无穷大\n",
    "    ninf = float('-inf')  # 负无穷大\n",
    "    cutx1 = [ninf, 891.102, 1409.628, 2165.43, 3167.068, 4656.48, 6886.692, 10651.84, 18862.02, 40665.782, pinf]\n",
    "    cutx2 = [ninf, 1, 3, 8, 12, 50, pinf]\n",
    "    cutx3 = [ninf, 6.0, 14.0, 27.0, 51.0, 85.0, 142.0, 244.0, 480.0, 1271.0, pinf]\n",
    "    cutx4 = [ninf, 60, 200, 700, 2000, 5000, 10000, pinf]\n",
    "    cutx5 = [ninf, 3, 6, 12, 20, 50, pinf]\n",
    "    cutx6 = [ninf, 0.005, 0.01, 0.015, 0.02, pinf]\n",
    "    cutx7 = [ninf, 20.073, 28.7217, 36.4717, 45.8384, 57.2259, 74.043, 98.3442, 141.3023, 254.55, pinf]\n",
    "    cutx8 = [ninf, 2000, 3000, 4000, 5000, 6000, 7000, 8000, 9000, 10000, 11000, 13000, pinf]\n",
    "    cutx9 = [ninf, 0.1, 0.2, 0.3, 0.4, 0.6, pinf]\n",
    "    cutx10 = [ninf, 50, 100, 200, 400, 1000, pinf]\n",
    "    cutx11 = [ninf, 1, 2, 5, 10, 20, pinf]\n",
    "    cutx12 = [ninf, 0.005, 0.01, 0.015, 0.02, 0.025, 0.05, pinf]\n",
    "\n",
    "    \n",
    "    woex1 = [1.332, 1.202, 0.953, 0.845, 0.503, 0.216, 0.031, -0.363, -0.871, -1.702]\n",
    "    woex2 = [0.896, -0.47, -1.078, -1.616, -2.105, -4.266]\n",
    "    woex3 = [1.902, 1.227, 0.873, 0.771, 0.503, 0.215, 0.022, -0.394, -0.862, -1.784]\n",
    "    woex4 = [1.0, -0.098, -0.943, -1.772, -2.692, -3.759, -5.138]\n",
    "    woex5 = [0.552, -0.086, -0.573, -0.865, -1.345, -3.033]\n",
    "    woex6 = [0.691, -0.919, -0.999, -0.956, -0.646]\n",
    "    woex7 = [-0.609, -0.703, -0.521, -0.481, -0.139, 0.059, 0.359, 0.689, 1.315, 1.777]\n",
    "    woex8 = [-1.338, -1.316, -1.277, -0.962, -0.781, -0.609, -0.363, -0.261, -0.112, -0.076, 0.243, 1.219]\n",
    "    woex9 = [0.513, -0.717, -1.43, -1.04, -1.413, -1.256]\n",
    "    woex10 = [0.443, -0.981, -1.658, -2.221, -2.823, -3.33]\n",
    "    woex11 = [0.343, -1.502, -2.005, -2.372, -2.66, -2.883]\n",
    "    woex12 = [1.104, 0.044, -0.404, -0.896, -1.163, -1.872, -2.508]\n",
    "\n",
    "    \n",
    "    # 数据转化\n",
    "    df['image_run_date_amount'] = change_woe(df['image_run_date_amount'], cutx1, woex1)\n",
    "    df['image_create_role_pay_num'] = change_woe(df['image_create_role_pay_num'], cutx2, woex2)\n",
    "    df['image_create_role_num'] = change_woe(df['image_create_role_num'], cutx3, woex3)\n",
    "    df['image_create_role_pay_sum'] = change_woe(df['image_create_role_pay_sum'], cutx4,woex4)\n",
    "    df['image_source_num'] = change_woe(df['image_source_num'], cutx5, woex5)\n",
    "    df['image_create_role_pay_rate'] = change_woe(df['image_create_role_pay_rate'], cutx6,woex6)\n",
    "    df['image_create_role_cost'] = change_woe(df['image_create_role_cost'], cutx7, woex7)\n",
    "    df['image_create_role_pay_cost'] = change_woe(df['image_create_role_pay_cost'], cutx8,woex8)\n",
    "    df['image_valid_source_rate'] = change_woe(df['image_valid_source_rate'], cutx9,woex9)\n",
    "    df['image_pay_sum_ability'] = change_woe(df['image_pay_sum_ability'], cutx10, woex10)\n",
    "    df['image_pay_num_ability'] = change_woe(df['image_pay_num_ability'], cutx11, woex11)\n",
    "    df['image_create_role_roi'] = change_woe(df['image_create_role_roi'], cutx12, woex12)    \n",
    "\n",
    "    return df"
   ]
  },
  {
   "cell_type": "code",
   "execution_count": 105,
   "metadata": {},
   "outputs": [],
   "source": [
    "test_woe = FE(test_woe)"
   ]
  },
  {
   "cell_type": "code",
   "execution_count": 106,
   "metadata": {},
   "outputs": [
    {
     "data": {
      "text/html": [
       "<div>\n",
       "<style scoped>\n",
       "    .dataframe tbody tr th:only-of-type {\n",
       "        vertical-align: middle;\n",
       "    }\n",
       "\n",
       "    .dataframe tbody tr th {\n",
       "        vertical-align: top;\n",
       "    }\n",
       "\n",
       "    .dataframe thead th {\n",
       "        text-align: right;\n",
       "    }\n",
       "</style>\n",
       "<table border=\"1\" class=\"dataframe\">\n",
       "  <thead>\n",
       "    <tr style=\"text-align: right;\">\n",
       "      <th></th>\n",
       "      <th>image_id</th>\n",
       "      <th>image_run_date_amount</th>\n",
       "      <th>image_create_role_pay_num</th>\n",
       "      <th>image_create_role_num</th>\n",
       "      <th>image_create_role_pay_sum</th>\n",
       "      <th>image_source_num</th>\n",
       "      <th>image_create_role_pay_rate</th>\n",
       "      <th>image_create_role_cost</th>\n",
       "      <th>image_create_role_pay_cost</th>\n",
       "      <th>image_valid_source_num</th>\n",
       "      <th>image_valid_source_rate</th>\n",
       "      <th>image_pay_sum_ability</th>\n",
       "      <th>image_pay_num_ability</th>\n",
       "      <th>image_create_role_roi</th>\n",
       "      <th>image_create_role_retain_1d</th>\n",
       "      <th>create_role_30_pay_sum</th>\n",
       "      <th>model_run_datetime</th>\n",
       "      <th>data_win</th>\n",
       "    </tr>\n",
       "  </thead>\n",
       "  <tbody>\n",
       "    <tr>\n",
       "      <th>0</th>\n",
       "      <td>16276</td>\n",
       "      <td>0.216</td>\n",
       "      <td>0.896</td>\n",
       "      <td>0.022</td>\n",
       "      <td>1.0</td>\n",
       "      <td>-0.573</td>\n",
       "      <td>0.691</td>\n",
       "      <td>-0.521</td>\n",
       "      <td>1.219</td>\n",
       "      <td>0</td>\n",
       "      <td>0.513</td>\n",
       "      <td>0.443</td>\n",
       "      <td>0.343</td>\n",
       "      <td>1.104</td>\n",
       "      <td>0.1005</td>\n",
       "      <td>0</td>\n",
       "      <td>2020-10-02</td>\n",
       "      <td>3</td>\n",
       "    </tr>\n",
       "    <tr>\n",
       "      <th>1</th>\n",
       "      <td>16316</td>\n",
       "      <td>1.202</td>\n",
       "      <td>0.896</td>\n",
       "      <td>1.227</td>\n",
       "      <td>1.0</td>\n",
       "      <td>0.552</td>\n",
       "      <td>0.691</td>\n",
       "      <td>1.315</td>\n",
       "      <td>1.219</td>\n",
       "      <td>0</td>\n",
       "      <td>0.513</td>\n",
       "      <td>0.443</td>\n",
       "      <td>0.343</td>\n",
       "      <td>1.104</td>\n",
       "      <td>0.1000</td>\n",
       "      <td>0</td>\n",
       "      <td>2020-10-02</td>\n",
       "      <td>3</td>\n",
       "    </tr>\n",
       "    <tr>\n",
       "      <th>2</th>\n",
       "      <td>18216</td>\n",
       "      <td>0.503</td>\n",
       "      <td>0.896</td>\n",
       "      <td>0.503</td>\n",
       "      <td>1.0</td>\n",
       "      <td>0.552</td>\n",
       "      <td>0.691</td>\n",
       "      <td>-0.139</td>\n",
       "      <td>1.219</td>\n",
       "      <td>0</td>\n",
       "      <td>0.513</td>\n",
       "      <td>0.443</td>\n",
       "      <td>0.343</td>\n",
       "      <td>1.104</td>\n",
       "      <td>0.0455</td>\n",
       "      <td>0</td>\n",
       "      <td>2020-10-02</td>\n",
       "      <td>3</td>\n",
       "    </tr>\n",
       "    <tr>\n",
       "      <th>3</th>\n",
       "      <td>19100</td>\n",
       "      <td>0.503</td>\n",
       "      <td>0.896</td>\n",
       "      <td>0.503</td>\n",
       "      <td>1.0</td>\n",
       "      <td>0.552</td>\n",
       "      <td>0.691</td>\n",
       "      <td>-0.139</td>\n",
       "      <td>1.219</td>\n",
       "      <td>0</td>\n",
       "      <td>0.513</td>\n",
       "      <td>0.443</td>\n",
       "      <td>0.343</td>\n",
       "      <td>1.104</td>\n",
       "      <td>0.0735</td>\n",
       "      <td>0</td>\n",
       "      <td>2020-10-02</td>\n",
       "      <td>3</td>\n",
       "    </tr>\n",
       "    <tr>\n",
       "      <th>4</th>\n",
       "      <td>19208</td>\n",
       "      <td>0.503</td>\n",
       "      <td>0.896</td>\n",
       "      <td>0.503</td>\n",
       "      <td>1.0</td>\n",
       "      <td>0.552</td>\n",
       "      <td>0.691</td>\n",
       "      <td>0.059</td>\n",
       "      <td>1.219</td>\n",
       "      <td>0</td>\n",
       "      <td>0.513</td>\n",
       "      <td>0.443</td>\n",
       "      <td>0.343</td>\n",
       "      <td>1.104</td>\n",
       "      <td>0.0145</td>\n",
       "      <td>12</td>\n",
       "      <td>2020-10-02</td>\n",
       "      <td>3</td>\n",
       "    </tr>\n",
       "  </tbody>\n",
       "</table>\n",
       "</div>"
      ],
      "text/plain": [
       "   image_id  image_run_date_amount  image_create_role_pay_num  \\\n",
       "0     16276                  0.216                      0.896   \n",
       "1     16316                  1.202                      0.896   \n",
       "2     18216                  0.503                      0.896   \n",
       "3     19100                  0.503                      0.896   \n",
       "4     19208                  0.503                      0.896   \n",
       "\n",
       "   image_create_role_num  image_create_role_pay_sum  image_source_num  \\\n",
       "0                  0.022                        1.0            -0.573   \n",
       "1                  1.227                        1.0             0.552   \n",
       "2                  0.503                        1.0             0.552   \n",
       "3                  0.503                        1.0             0.552   \n",
       "4                  0.503                        1.0             0.552   \n",
       "\n",
       "   image_create_role_pay_rate  image_create_role_cost  \\\n",
       "0                       0.691                  -0.521   \n",
       "1                       0.691                   1.315   \n",
       "2                       0.691                  -0.139   \n",
       "3                       0.691                  -0.139   \n",
       "4                       0.691                   0.059   \n",
       "\n",
       "   image_create_role_pay_cost  image_valid_source_num  \\\n",
       "0                       1.219                       0   \n",
       "1                       1.219                       0   \n",
       "2                       1.219                       0   \n",
       "3                       1.219                       0   \n",
       "4                       1.219                       0   \n",
       "\n",
       "   image_valid_source_rate  image_pay_sum_ability  image_pay_num_ability  \\\n",
       "0                    0.513                  0.443                  0.343   \n",
       "1                    0.513                  0.443                  0.343   \n",
       "2                    0.513                  0.443                  0.343   \n",
       "3                    0.513                  0.443                  0.343   \n",
       "4                    0.513                  0.443                  0.343   \n",
       "\n",
       "   image_create_role_roi  image_create_role_retain_1d  create_role_30_pay_sum  \\\n",
       "0                  1.104                       0.1005                       0   \n",
       "1                  1.104                       0.1000                       0   \n",
       "2                  1.104                       0.0455                       0   \n",
       "3                  1.104                       0.0735                       0   \n",
       "4                  1.104                       0.0145                      12   \n",
       "\n",
       "  model_run_datetime  data_win  \n",
       "0         2020-10-02         3  \n",
       "1         2020-10-02         3  \n",
       "2         2020-10-02         3  \n",
       "3         2020-10-02         3  \n",
       "4         2020-10-02         3  "
      ]
     },
     "execution_count": 106,
     "metadata": {},
     "output_type": "execute_result"
    }
   ],
   "source": [
    "test_woe.head()"
   ]
  },
  {
   "cell_type": "code",
   "execution_count": 107,
   "metadata": {},
   "outputs": [],
   "source": [
    "select_feature = ['image_run_date_amount', 'image_create_role_pay_num',\n",
    "                  'image_create_role_num', 'image_create_role_pay_sum',\n",
    "                  'image_source_num', 'image_create_role_pay_rate',\n",
    "                  'image_create_role_cost', 'image_create_role_pay_cost',\n",
    "                  'image_valid_source_rate',\n",
    "                  'image_pay_sum_ability', 'image_pay_num_ability',\n",
    "                  'image_create_role_roi']\n",
    "\n",
    "\n",
    "feature = test_woe[select_feature]\n",
    "test_woe['pred'] = 0.4 * best_est_XGB.predict_proba(feature)[:, 1] + 0.3 * best_est_LGB.predict_proba(\n",
    "    feature)[:, 1] + 0.3 * best_est_RF.predict_proba(feature)[:, 1]\n",
    "test_woe['score'] = test_woe['pred'].apply(Prob2Score)\n",
    "test['score'] = test_woe['score']"
   ]
  },
  {
   "cell_type": "code",
   "execution_count": 108,
   "metadata": {},
   "outputs": [
    {
     "data": {
      "text/html": [
       "<div>\n",
       "<style scoped>\n",
       "    .dataframe tbody tr th:only-of-type {\n",
       "        vertical-align: middle;\n",
       "    }\n",
       "\n",
       "    .dataframe tbody tr th {\n",
       "        vertical-align: top;\n",
       "    }\n",
       "\n",
       "    .dataframe thead th {\n",
       "        text-align: right;\n",
       "    }\n",
       "</style>\n",
       "<table border=\"1\" class=\"dataframe\">\n",
       "  <thead>\n",
       "    <tr style=\"text-align: right;\">\n",
       "      <th></th>\n",
       "      <th>image_id</th>\n",
       "      <th>image_run_date_amount</th>\n",
       "      <th>image_create_role_pay_num</th>\n",
       "      <th>image_create_role_num</th>\n",
       "      <th>image_create_role_pay_sum</th>\n",
       "      <th>image_source_num</th>\n",
       "      <th>image_create_role_pay_rate</th>\n",
       "      <th>image_create_role_cost</th>\n",
       "      <th>image_create_role_pay_cost</th>\n",
       "      <th>image_valid_source_num</th>\n",
       "      <th>image_valid_source_rate</th>\n",
       "      <th>image_pay_sum_ability</th>\n",
       "      <th>image_pay_num_ability</th>\n",
       "      <th>image_create_role_roi</th>\n",
       "      <th>image_create_role_retain_1d</th>\n",
       "      <th>create_role_30_pay_sum</th>\n",
       "      <th>model_run_datetime</th>\n",
       "      <th>data_win</th>\n",
       "      <th>score</th>\n",
       "    </tr>\n",
       "  </thead>\n",
       "  <tbody>\n",
       "    <tr>\n",
       "      <th>2533</th>\n",
       "      <td>25825</td>\n",
       "      <td>89257.66</td>\n",
       "      <td>24</td>\n",
       "      <td>3084</td>\n",
       "      <td>10794</td>\n",
       "      <td>15</td>\n",
       "      <td>0.0078</td>\n",
       "      <td>28.942173</td>\n",
       "      <td>3719.069167</td>\n",
       "      <td>3</td>\n",
       "      <td>0.2000</td>\n",
       "      <td>3598.000000</td>\n",
       "      <td>8.0000</td>\n",
       "      <td>0.120931</td>\n",
       "      <td>0.0551</td>\n",
       "      <td>141734</td>\n",
       "      <td>2020-11-01</td>\n",
       "      <td>3</td>\n",
       "      <td>735</td>\n",
       "    </tr>\n",
       "    <tr>\n",
       "      <th>2362</th>\n",
       "      <td>25825</td>\n",
       "      <td>72470.33</td>\n",
       "      <td>16</td>\n",
       "      <td>2459</td>\n",
       "      <td>10570</td>\n",
       "      <td>14</td>\n",
       "      <td>0.0065</td>\n",
       "      <td>29.471464</td>\n",
       "      <td>4529.395625</td>\n",
       "      <td>4</td>\n",
       "      <td>0.2857</td>\n",
       "      <td>2642.500000</td>\n",
       "      <td>4.0000</td>\n",
       "      <td>0.145853</td>\n",
       "      <td>0.0479</td>\n",
       "      <td>65282</td>\n",
       "      <td>2020-10-30</td>\n",
       "      <td>3</td>\n",
       "      <td>729</td>\n",
       "    </tr>\n",
       "    <tr>\n",
       "      <th>890</th>\n",
       "      <td>25345</td>\n",
       "      <td>44824.88</td>\n",
       "      <td>13</td>\n",
       "      <td>1891</td>\n",
       "      <td>2510</td>\n",
       "      <td>13</td>\n",
       "      <td>0.0069</td>\n",
       "      <td>23.704326</td>\n",
       "      <td>3448.067692</td>\n",
       "      <td>11</td>\n",
       "      <td>0.8462</td>\n",
       "      <td>228.181818</td>\n",
       "      <td>1.1818</td>\n",
       "      <td>0.055996</td>\n",
       "      <td>0.0584</td>\n",
       "      <td>43770</td>\n",
       "      <td>2020-10-11</td>\n",
       "      <td>3</td>\n",
       "      <td>729</td>\n",
       "    </tr>\n",
       "    <tr>\n",
       "      <th>2618</th>\n",
       "      <td>25825</td>\n",
       "      <td>106045.10</td>\n",
       "      <td>22</td>\n",
       "      <td>3755</td>\n",
       "      <td>9820</td>\n",
       "      <td>19</td>\n",
       "      <td>0.0059</td>\n",
       "      <td>28.241039</td>\n",
       "      <td>4820.231818</td>\n",
       "      <td>13</td>\n",
       "      <td>0.6842</td>\n",
       "      <td>755.384615</td>\n",
       "      <td>1.6923</td>\n",
       "      <td>0.092602</td>\n",
       "      <td>0.0522</td>\n",
       "      <td>134730</td>\n",
       "      <td>2020-11-02</td>\n",
       "      <td>3</td>\n",
       "      <td>728</td>\n",
       "    </tr>\n",
       "    <tr>\n",
       "      <th>2446</th>\n",
       "      <td>25825</td>\n",
       "      <td>97988.29</td>\n",
       "      <td>24</td>\n",
       "      <td>3348</td>\n",
       "      <td>10926</td>\n",
       "      <td>16</td>\n",
       "      <td>0.0072</td>\n",
       "      <td>29.267709</td>\n",
       "      <td>4082.845417</td>\n",
       "      <td>4</td>\n",
       "      <td>0.2500</td>\n",
       "      <td>2731.500000</td>\n",
       "      <td>6.0000</td>\n",
       "      <td>0.111503</td>\n",
       "      <td>0.0548</td>\n",
       "      <td>141988</td>\n",
       "      <td>2020-10-31</td>\n",
       "      <td>3</td>\n",
       "      <td>726</td>\n",
       "    </tr>\n",
       "    <tr>\n",
       "      <th>...</th>\n",
       "      <td>...</td>\n",
       "      <td>...</td>\n",
       "      <td>...</td>\n",
       "      <td>...</td>\n",
       "      <td>...</td>\n",
       "      <td>...</td>\n",
       "      <td>...</td>\n",
       "      <td>...</td>\n",
       "      <td>...</td>\n",
       "      <td>...</td>\n",
       "      <td>...</td>\n",
       "      <td>...</td>\n",
       "      <td>...</td>\n",
       "      <td>...</td>\n",
       "      <td>...</td>\n",
       "      <td>...</td>\n",
       "      <td>...</td>\n",
       "      <td>...</td>\n",
       "      <td>...</td>\n",
       "    </tr>\n",
       "    <tr>\n",
       "      <th>752</th>\n",
       "      <td>24445</td>\n",
       "      <td>2059.11</td>\n",
       "      <td>0</td>\n",
       "      <td>8</td>\n",
       "      <td>0</td>\n",
       "      <td>3</td>\n",
       "      <td>0.0000</td>\n",
       "      <td>257.388750</td>\n",
       "      <td>0.000000</td>\n",
       "      <td>0</td>\n",
       "      <td>0.0000</td>\n",
       "      <td>0.000000</td>\n",
       "      <td>0.0000</td>\n",
       "      <td>0.000000</td>\n",
       "      <td>0.1250</td>\n",
       "      <td>4220</td>\n",
       "      <td>2020-10-09</td>\n",
       "      <td>3</td>\n",
       "      <td>469</td>\n",
       "    </tr>\n",
       "    <tr>\n",
       "      <th>674</th>\n",
       "      <td>24445</td>\n",
       "      <td>2059.11</td>\n",
       "      <td>0</td>\n",
       "      <td>8</td>\n",
       "      <td>0</td>\n",
       "      <td>3</td>\n",
       "      <td>0.0000</td>\n",
       "      <td>257.388750</td>\n",
       "      <td>0.000000</td>\n",
       "      <td>0</td>\n",
       "      <td>0.0000</td>\n",
       "      <td>0.000000</td>\n",
       "      <td>0.0000</td>\n",
       "      <td>0.000000</td>\n",
       "      <td>0.1250</td>\n",
       "      <td>4220</td>\n",
       "      <td>2020-10-08</td>\n",
       "      <td>3</td>\n",
       "      <td>469</td>\n",
       "    </tr>\n",
       "    <tr>\n",
       "      <th>2551</th>\n",
       "      <td>26121</td>\n",
       "      <td>1872.36</td>\n",
       "      <td>0</td>\n",
       "      <td>7</td>\n",
       "      <td>0</td>\n",
       "      <td>3</td>\n",
       "      <td>0.0000</td>\n",
       "      <td>267.480000</td>\n",
       "      <td>0.000000</td>\n",
       "      <td>0</td>\n",
       "      <td>0.0000</td>\n",
       "      <td>0.000000</td>\n",
       "      <td>0.0000</td>\n",
       "      <td>0.000000</td>\n",
       "      <td>0.2308</td>\n",
       "      <td>68</td>\n",
       "      <td>2020-11-01</td>\n",
       "      <td>3</td>\n",
       "      <td>469</td>\n",
       "    </tr>\n",
       "    <tr>\n",
       "      <th>820</th>\n",
       "      <td>24445</td>\n",
       "      <td>2059.11</td>\n",
       "      <td>0</td>\n",
       "      <td>8</td>\n",
       "      <td>0</td>\n",
       "      <td>3</td>\n",
       "      <td>0.0000</td>\n",
       "      <td>257.388750</td>\n",
       "      <td>0.000000</td>\n",
       "      <td>0</td>\n",
       "      <td>0.0000</td>\n",
       "      <td>0.000000</td>\n",
       "      <td>0.0000</td>\n",
       "      <td>0.000000</td>\n",
       "      <td>0.1250</td>\n",
       "      <td>4220</td>\n",
       "      <td>2020-10-10</td>\n",
       "      <td>3</td>\n",
       "      <td>469</td>\n",
       "    </tr>\n",
       "    <tr>\n",
       "      <th>1542</th>\n",
       "      <td>25757</td>\n",
       "      <td>1181.86</td>\n",
       "      <td>0</td>\n",
       "      <td>8</td>\n",
       "      <td>0</td>\n",
       "      <td>3</td>\n",
       "      <td>0.0000</td>\n",
       "      <td>147.732500</td>\n",
       "      <td>0.000000</td>\n",
       "      <td>0</td>\n",
       "      <td>0.0000</td>\n",
       "      <td>0.000000</td>\n",
       "      <td>0.0000</td>\n",
       "      <td>0.000000</td>\n",
       "      <td>0.0000</td>\n",
       "      <td>30</td>\n",
       "      <td>2020-10-20</td>\n",
       "      <td>3</td>\n",
       "      <td>467</td>\n",
       "    </tr>\n",
       "  </tbody>\n",
       "</table>\n",
       "<p>2852 rows × 19 columns</p>\n",
       "</div>"
      ],
      "text/plain": [
       "      image_id  image_run_date_amount  image_create_role_pay_num  \\\n",
       "2533     25825               89257.66                         24   \n",
       "2362     25825               72470.33                         16   \n",
       "890      25345               44824.88                         13   \n",
       "2618     25825              106045.10                         22   \n",
       "2446     25825               97988.29                         24   \n",
       "...        ...                    ...                        ...   \n",
       "752      24445                2059.11                          0   \n",
       "674      24445                2059.11                          0   \n",
       "2551     26121                1872.36                          0   \n",
       "820      24445                2059.11                          0   \n",
       "1542     25757                1181.86                          0   \n",
       "\n",
       "      image_create_role_num  image_create_role_pay_sum  image_source_num  \\\n",
       "2533                   3084                      10794                15   \n",
       "2362                   2459                      10570                14   \n",
       "890                    1891                       2510                13   \n",
       "2618                   3755                       9820                19   \n",
       "2446                   3348                      10926                16   \n",
       "...                     ...                        ...               ...   \n",
       "752                       8                          0                 3   \n",
       "674                       8                          0                 3   \n",
       "2551                      7                          0                 3   \n",
       "820                       8                          0                 3   \n",
       "1542                      8                          0                 3   \n",
       "\n",
       "      image_create_role_pay_rate  image_create_role_cost  \\\n",
       "2533                      0.0078               28.942173   \n",
       "2362                      0.0065               29.471464   \n",
       "890                       0.0069               23.704326   \n",
       "2618                      0.0059               28.241039   \n",
       "2446                      0.0072               29.267709   \n",
       "...                          ...                     ...   \n",
       "752                       0.0000              257.388750   \n",
       "674                       0.0000              257.388750   \n",
       "2551                      0.0000              267.480000   \n",
       "820                       0.0000              257.388750   \n",
       "1542                      0.0000              147.732500   \n",
       "\n",
       "      image_create_role_pay_cost  image_valid_source_num  \\\n",
       "2533                 3719.069167                       3   \n",
       "2362                 4529.395625                       4   \n",
       "890                  3448.067692                      11   \n",
       "2618                 4820.231818                      13   \n",
       "2446                 4082.845417                       4   \n",
       "...                          ...                     ...   \n",
       "752                     0.000000                       0   \n",
       "674                     0.000000                       0   \n",
       "2551                    0.000000                       0   \n",
       "820                     0.000000                       0   \n",
       "1542                    0.000000                       0   \n",
       "\n",
       "      image_valid_source_rate  image_pay_sum_ability  image_pay_num_ability  \\\n",
       "2533                   0.2000            3598.000000                 8.0000   \n",
       "2362                   0.2857            2642.500000                 4.0000   \n",
       "890                    0.8462             228.181818                 1.1818   \n",
       "2618                   0.6842             755.384615                 1.6923   \n",
       "2446                   0.2500            2731.500000                 6.0000   \n",
       "...                       ...                    ...                    ...   \n",
       "752                    0.0000               0.000000                 0.0000   \n",
       "674                    0.0000               0.000000                 0.0000   \n",
       "2551                   0.0000               0.000000                 0.0000   \n",
       "820                    0.0000               0.000000                 0.0000   \n",
       "1542                   0.0000               0.000000                 0.0000   \n",
       "\n",
       "      image_create_role_roi  image_create_role_retain_1d  \\\n",
       "2533               0.120931                       0.0551   \n",
       "2362               0.145853                       0.0479   \n",
       "890                0.055996                       0.0584   \n",
       "2618               0.092602                       0.0522   \n",
       "2446               0.111503                       0.0548   \n",
       "...                     ...                          ...   \n",
       "752                0.000000                       0.1250   \n",
       "674                0.000000                       0.1250   \n",
       "2551               0.000000                       0.2308   \n",
       "820                0.000000                       0.1250   \n",
       "1542               0.000000                       0.0000   \n",
       "\n",
       "      create_role_30_pay_sum model_run_datetime  data_win  score  \n",
       "2533                  141734         2020-11-01         3    735  \n",
       "2362                   65282         2020-10-30         3    729  \n",
       "890                    43770         2020-10-11         3    729  \n",
       "2618                  134730         2020-11-02         3    728  \n",
       "2446                  141988         2020-10-31         3    726  \n",
       "...                      ...                ...       ...    ...  \n",
       "752                     4220         2020-10-09         3    469  \n",
       "674                     4220         2020-10-08         3    469  \n",
       "2551                      68         2020-11-01         3    469  \n",
       "820                     4220         2020-10-10         3    469  \n",
       "1542                      30         2020-10-20         3    467  \n",
       "\n",
       "[2852 rows x 19 columns]"
      ]
     },
     "execution_count": 108,
     "metadata": {},
     "output_type": "execute_result"
    }
   ],
   "source": [
    "test.sort_values('score',ascending=False)"
   ]
  },
  {
   "cell_type": "code",
   "execution_count": 109,
   "metadata": {},
   "outputs": [
    {
     "data": {
      "image/png": "[encoded data removed]",
      "text/plain": [
       "<Figure size 432x288 with 1 Axes>"
      ]
     },
     "metadata": {
      "needs_background": "light"
     },
     "output_type": "display_data"
    }
   ],
   "source": [
    "sns.distplot(test['score'])\n",
    "plt.show()"
   ]
  },
  {
   "cell_type": "code",
   "execution_count": 110,
   "metadata": {},
   "outputs": [
    {
     "data": {
      "text/plain": [
       "0.549167637171736"
      ]
     },
     "execution_count": 110,
     "metadata": {},
     "output_type": "execute_result"
    }
   ],
   "source": [
    "test[test['score']>=600]['create_role_30_pay_sum'].sum() / test[test['score']>=600]['image_run_date_amount'].sum()"
   ]
  },
  {
   "cell_type": "code",
   "execution_count": 111,
   "metadata": {},
   "outputs": [
    {
     "data": {
      "text/plain": [
       "0.27111068946220107"
      ]
     },
     "execution_count": 111,
     "metadata": {},
     "output_type": "execute_result"
    }
   ],
   "source": [
    "test[test['score']<600]['create_role_30_pay_sum'].sum() / test[test['score']<600]['image_run_date_amount'].sum()"
   ]
  },
  {
   "cell_type": "code",
   "execution_count": 112,
   "metadata": {},
   "outputs": [
    {
     "name": "stdout",
     "output_type": "stream",
     "text": [
      "高分区ROI： 0.4904240827588625\n",
      "低分区ROI： 0.221839613226351\n"
     ]
    }
   ],
   "source": [
    "print('高分区ROI：',test[test['score']>=560]['create_role_30_pay_sum'].sum() / test[test['score']>=560]['image_run_date_amount'].sum())\n",
    "print('低分区ROI：',test[test['score']<560]['create_role_30_pay_sum'].sum() / test[test['score']<560]['image_run_date_amount'].sum())"
   ]
  },
  {
   "cell_type": "code",
   "execution_count": 113,
   "metadata": {},
   "outputs": [
    {
     "name": "stdout",
     "output_type": "stream",
     "text": [
      "高分区ROI： 0.4584466741476629\n",
      "低分区ROI： 0.19557384096132063\n"
     ]
    }
   ],
   "source": [
    "print('高分区ROI：',test[test['score']>=540]['create_role_30_pay_sum'].sum() / test[test['score']>=540]['image_run_date_amount'].sum())\n",
    "print('低分区ROI：',test[test['score']<540]['create_role_30_pay_sum'].sum() / test[test['score']<540]['image_run_date_amount'].sum())"
   ]
  },
  {
   "cell_type": "code",
   "execution_count": 114,
   "metadata": {},
   "outputs": [
    {
     "name": "stdout",
     "output_type": "stream",
     "text": [
      "高分区ROI： 0.4317974612458137\n",
      "低分区ROI： 0.1397669733474111\n"
     ]
    }
   ],
   "source": [
    "print('高分区ROI：',test[test['score']>=520]['create_role_30_pay_sum'].sum() / test[test['score']>=520]['image_run_date_amount'].sum())\n",
    "print('低分区ROI：',test[test['score']<520]['create_role_30_pay_sum'].sum() / test[test['score']<520]['image_run_date_amount'].sum())"
   ]
  },
  {
   "cell_type": "code",
   "execution_count": 115,
   "metadata": {},
   "outputs": [
    {
     "name": "stdout",
     "output_type": "stream",
     "text": [
      "高分区ROI： 0.40062306240147766\n",
      "低分区ROI： 0.14260480039549747\n"
     ]
    }
   ],
   "source": [
    "print('高分区ROI：',test[test['score']>=500]['create_role_30_pay_sum'].sum() / test[test['score']>=500]['image_run_date_amount'].sum())\n",
    "print('低分区ROI：',test[test['score']<500]['create_role_30_pay_sum'].sum() / test[test['score']<500]['image_run_date_amount'].sum())"
   ]
  },
  {
   "cell_type": "code",
   "execution_count": 116,
   "metadata": {},
   "outputs": [
    {
     "name": "stdout",
     "output_type": "stream",
     "text": [
      "全test样本的ROI为： 0.37838112139818614\n"
     ]
    }
   ],
   "source": [
    "print('全test样本的ROI为：',test['create_role_30_pay_sum'].sum() / test['image_run_date_amount'].sum())"
   ]
  },
  {
   "cell_type": "code",
   "execution_count": 117,
   "metadata": {},
   "outputs": [
    {
     "name": "stdout",
     "output_type": "stream",
     "text": [
      "高分区消耗金额占比 0.5828390168810047\n"
     ]
    }
   ],
   "source": [
    "print('高分区消耗金额占比',test[test['score']>=560]['image_run_date_amount'].sum() / test['image_run_date_amount'].sum())"
   ]
  },
  {
   "cell_type": "code",
   "execution_count": 118,
   "metadata": {},
   "outputs": [
    {
     "name": "stdout",
     "output_type": "stream",
     "text": [
      "高分区消耗金额占比 0.5828390168810047\n"
     ]
    }
   ],
   "source": [
    "print('高分区消耗金额占比',test[test['score']>=560]['image_run_date_amount'].sum() / test['image_run_date_amount'].sum())"
   ]
  },
  {
   "cell_type": "code",
   "execution_count": 119,
   "metadata": {},
   "outputs": [
    {
     "data": {
      "text/html": [
       "<div>\n",
       "<style scoped>\n",
       "    .dataframe tbody tr th:only-of-type {\n",
       "        vertical-align: middle;\n",
       "    }\n",
       "\n",
       "    .dataframe tbody tr th {\n",
       "        vertical-align: top;\n",
       "    }\n",
       "\n",
       "    .dataframe thead th {\n",
       "        text-align: right;\n",
       "    }\n",
       "</style>\n",
       "<table border=\"1\" class=\"dataframe\">\n",
       "  <thead>\n",
       "    <tr style=\"text-align: right;\">\n",
       "      <th></th>\n",
       "      <th>image_id</th>\n",
       "      <th>image_run_date_amount</th>\n",
       "      <th>image_create_role_pay_num</th>\n",
       "      <th>image_create_role_num</th>\n",
       "      <th>image_create_role_pay_sum</th>\n",
       "      <th>image_source_num</th>\n",
       "      <th>image_create_role_pay_rate</th>\n",
       "      <th>image_create_role_cost</th>\n",
       "      <th>image_create_role_pay_cost</th>\n",
       "      <th>image_valid_source_num</th>\n",
       "      <th>image_valid_source_rate</th>\n",
       "      <th>image_pay_sum_ability</th>\n",
       "      <th>image_pay_num_ability</th>\n",
       "      <th>image_create_role_roi</th>\n",
       "      <th>image_create_role_retain_1d</th>\n",
       "      <th>create_role_30_pay_sum</th>\n",
       "      <th>model_run_datetime</th>\n",
       "      <th>data_win</th>\n",
       "      <th>score</th>\n",
       "    </tr>\n",
       "  </thead>\n",
       "  <tbody>\n",
       "    <tr>\n",
       "      <th>0</th>\n",
       "      <td>16276</td>\n",
       "      <td>5710.84</td>\n",
       "      <td>0</td>\n",
       "      <td>196</td>\n",
       "      <td>0</td>\n",
       "      <td>7</td>\n",
       "      <td>0.0</td>\n",
       "      <td>29.136939</td>\n",
       "      <td>0.0</td>\n",
       "      <td>0</td>\n",
       "      <td>0.0</td>\n",
       "      <td>0.0</td>\n",
       "      <td>0.0</td>\n",
       "      <td>0.0</td>\n",
       "      <td>0.1005</td>\n",
       "      <td>0</td>\n",
       "      <td>2020-10-02</td>\n",
       "      <td>3</td>\n",
       "      <td>511</td>\n",
       "    </tr>\n",
       "    <tr>\n",
       "      <th>1</th>\n",
       "      <td>16316</td>\n",
       "      <td>1023.57</td>\n",
       "      <td>0</td>\n",
       "      <td>7</td>\n",
       "      <td>0</td>\n",
       "      <td>2</td>\n",
       "      <td>0.0</td>\n",
       "      <td>146.224286</td>\n",
       "      <td>0.0</td>\n",
       "      <td>0</td>\n",
       "      <td>0.0</td>\n",
       "      <td>0.0</td>\n",
       "      <td>0.0</td>\n",
       "      <td>0.0</td>\n",
       "      <td>0.1000</td>\n",
       "      <td>0</td>\n",
       "      <td>2020-10-02</td>\n",
       "      <td>3</td>\n",
       "      <td>470</td>\n",
       "    </tr>\n",
       "    <tr>\n",
       "      <th>2</th>\n",
       "      <td>18216</td>\n",
       "      <td>3303.96</td>\n",
       "      <td>0</td>\n",
       "      <td>58</td>\n",
       "      <td>0</td>\n",
       "      <td>2</td>\n",
       "      <td>0.0</td>\n",
       "      <td>56.964828</td>\n",
       "      <td>0.0</td>\n",
       "      <td>0</td>\n",
       "      <td>0.0</td>\n",
       "      <td>0.0</td>\n",
       "      <td>0.0</td>\n",
       "      <td>0.0</td>\n",
       "      <td>0.0455</td>\n",
       "      <td>0</td>\n",
       "      <td>2020-10-02</td>\n",
       "      <td>3</td>\n",
       "      <td>489</td>\n",
       "    </tr>\n",
       "    <tr>\n",
       "      <th>3</th>\n",
       "      <td>19100</td>\n",
       "      <td>3739.89</td>\n",
       "      <td>0</td>\n",
       "      <td>66</td>\n",
       "      <td>0</td>\n",
       "      <td>1</td>\n",
       "      <td>0.0</td>\n",
       "      <td>56.665000</td>\n",
       "      <td>0.0</td>\n",
       "      <td>0</td>\n",
       "      <td>0.0</td>\n",
       "      <td>0.0</td>\n",
       "      <td>0.0</td>\n",
       "      <td>0.0</td>\n",
       "      <td>0.0735</td>\n",
       "      <td>0</td>\n",
       "      <td>2020-10-02</td>\n",
       "      <td>3</td>\n",
       "      <td>489</td>\n",
       "    </tr>\n",
       "    <tr>\n",
       "      <th>4</th>\n",
       "      <td>19208</td>\n",
       "      <td>4388.16</td>\n",
       "      <td>0</td>\n",
       "      <td>69</td>\n",
       "      <td>0</td>\n",
       "      <td>2</td>\n",
       "      <td>0.0</td>\n",
       "      <td>63.596522</td>\n",
       "      <td>0.0</td>\n",
       "      <td>0</td>\n",
       "      <td>0.0</td>\n",
       "      <td>0.0</td>\n",
       "      <td>0.0</td>\n",
       "      <td>0.0</td>\n",
       "      <td>0.0145</td>\n",
       "      <td>12</td>\n",
       "      <td>2020-10-02</td>\n",
       "      <td>3</td>\n",
       "      <td>491</td>\n",
       "    </tr>\n",
       "  </tbody>\n",
       "</table>\n",
       "</div>"
      ],
      "text/plain": [
       "   image_id  image_run_date_amount  image_create_role_pay_num  \\\n",
       "0     16276                5710.84                          0   \n",
       "1     16316                1023.57                          0   \n",
       "2     18216                3303.96                          0   \n",
       "3     19100                3739.89                          0   \n",
       "4     19208                4388.16                          0   \n",
       "\n",
       "   image_create_role_num  image_create_role_pay_sum  image_source_num  \\\n",
       "0                    196                          0                 7   \n",
       "1                      7                          0                 2   \n",
       "2                     58                          0                 2   \n",
       "3                     66                          0                 1   \n",
       "4                     69                          0                 2   \n",
       "\n",
       "   image_create_role_pay_rate  image_create_role_cost  \\\n",
       "0                         0.0               29.136939   \n",
       "1                         0.0              146.224286   \n",
       "2                         0.0               56.964828   \n",
       "3                         0.0               56.665000   \n",
       "4                         0.0               63.596522   \n",
       "\n",
       "   image_create_role_pay_cost  image_valid_source_num  \\\n",
       "0                         0.0                       0   \n",
       "1                         0.0                       0   \n",
       "2                         0.0                       0   \n",
       "3                         0.0                       0   \n",
       "4                         0.0                       0   \n",
       "\n",
       "   image_valid_source_rate  image_pay_sum_ability  image_pay_num_ability  \\\n",
       "0                      0.0                    0.0                    0.0   \n",
       "1                      0.0                    0.0                    0.0   \n",
       "2                      0.0                    0.0                    0.0   \n",
       "3                      0.0                    0.0                    0.0   \n",
       "4                      0.0                    0.0                    0.0   \n",
       "\n",
       "   image_create_role_roi  image_create_role_retain_1d  create_role_30_pay_sum  \\\n",
       "0                    0.0                       0.1005                       0   \n",
       "1                    0.0                       0.1000                       0   \n",
       "2                    0.0                       0.0455                       0   \n",
       "3                    0.0                       0.0735                       0   \n",
       "4                    0.0                       0.0145                      12   \n",
       "\n",
       "  model_run_datetime  data_win  score  \n",
       "0         2020-10-02         3    511  \n",
       "1         2020-10-02         3    470  \n",
       "2         2020-10-02         3    489  \n",
       "3         2020-10-02         3    489  \n",
       "4         2020-10-02         3    491  "
      ]
     },
     "execution_count": 119,
     "metadata": {},
     "output_type": "execute_result"
    }
   ],
   "source": [
    "test.head()"
   ]
  },
  {
   "cell_type": "code",
   "execution_count": 144,
   "metadata": {},
   "outputs": [],
   "source": [
    "test.to_csv('./test_result.csv')"
   ]
  }
 ],
 "metadata": {
  "kernelspec": {
   "display_name": "Python 3",
   "language": "python",
   "name": "python3"
  },
  "language_info": {
   "codemirror_mode": {
    "name": "ipython",
    "version": 3
   },
   "file_extension": ".py",
   "mimetype": "text/x-python",
   "name": "python",
   "nbconvert_exporter": "python",
   "pygments_lexer": "ipython3",
   "version": "3.7.6"
  }
 },
 "nbformat": 4,
 "nbformat_minor": 4
}
