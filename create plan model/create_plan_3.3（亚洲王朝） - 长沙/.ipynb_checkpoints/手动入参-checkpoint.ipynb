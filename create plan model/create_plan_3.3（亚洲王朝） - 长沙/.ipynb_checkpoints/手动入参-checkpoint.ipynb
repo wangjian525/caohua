{
 "cells": [
  {
   "cell_type": "code",
   "execution_count": 48,
   "metadata": {},
   "outputs": [],
   "source": [
    "import pandas as pd\n",
    "import numpy as np\n",
    "import json\n",
    "from sklearn.model_selection import train_test_split\n",
    "from sklearn.decomposition import PCA\n",
    "from sklearn.preprocessing import LabelEncoder, MinMaxScaler\n",
    "import gc\n",
    "import warnings\n",
    "import requests\n",
    "\n",
    "warnings.filterwarnings('ignore')\n",
    "import lightgbm as lgb\n",
    "from impala.dbapi import connect\n",
    "from impala.util import as_pandas\n",
    "import pymysql\n",
    "import logging\n",
    "import ast\n",
    "\n",
    "warnings.filterwarnings('ignore')\n",
    "logger = logging.getLogger('CreatePlan')"
   ]
  },
  {
   "cell_type": "code",
   "execution_count": 49,
   "metadata": {},
   "outputs": [],
   "source": [
    "def get_ad_create(plan_result):\n",
    "    ad_info = []\n",
    "    for i in range(plan_result.shape[0]):\n",
    "        ad_info.append(json.loads(plan_result.iloc[i].to_json()))\n",
    "    open_api_url_prefix = \"https://ptom.caohua.com/\"\n",
    "    uri = \"model/generationPlanBatchTask\"\n",
    "    url = open_api_url_prefix + uri\n",
    "    params = {\n",
    "        \"secretkey\": \"abc2018!@**@888\"\n",
    "    }\n",
    "    rsp = requests.post(url, json=ad_info, params=params)\n",
    "    rsp_data = rsp.json()\n",
    "    print('结束....')\n",
    "    return rsp_data"
   ]
  },
  {
   "cell_type": "code",
   "execution_count": 81,
   "metadata": {},
   "outputs": [],
   "source": [
    "plan_result = pd.read_csv('./plan_result.csv')"
   ]
  },
  {
   "cell_type": "code",
   "execution_count": 82,
   "metadata": {},
   "outputs": [],
   "source": [
    "plan_result = plan_result.sample(2).reset_index(drop=True)"
   ]
  },
  {
   "cell_type": "code",
   "execution_count": 83,
   "metadata": {},
   "outputs": [],
   "source": [
    "pd.set_option('display.max_columns',None)"
   ]
  },
  {
   "cell_type": "code",
   "execution_count": 84,
   "metadata": {},
   "outputs": [
    {
     "data": {
      "text/html": [
       "<div>\n",
       "<style scoped>\n",
       "    .dataframe tbody tr th:only-of-type {\n",
       "        vertical-align: middle;\n",
       "    }\n",
       "\n",
       "    .dataframe tbody tr th {\n",
       "        vertical-align: top;\n",
       "    }\n",
       "\n",
       "    .dataframe thead th {\n",
       "        text-align: right;\n",
       "    }\n",
       "</style>\n",
       "<table border=\"1\" class=\"dataframe\">\n",
       "  <thead>\n",
       "    <tr style=\"text-align: right;\">\n",
       "      <th></th>\n",
       "      <th>ad_account_id</th>\n",
       "      <th>image_id</th>\n",
       "      <th>game_id</th>\n",
       "      <th>platform</th>\n",
       "      <th>android_osv</th>\n",
       "      <th>ios_osv</th>\n",
       "      <th>budget</th>\n",
       "      <th>ad_keywords</th>\n",
       "      <th>title_list</th>\n",
       "      <th>third_industry_id</th>\n",
       "      <th>retargeting_type</th>\n",
       "      <th>retargeting_tags_include</th>\n",
       "      <th>retargeting_tags_exclude</th>\n",
       "      <th>interest_action_mode</th>\n",
       "      <th>action_scene</th>\n",
       "      <th>action_days</th>\n",
       "      <th>action_categories</th>\n",
       "      <th>interest_categories</th>\n",
       "      <th>deep_bid_type</th>\n",
       "      <th>roi_goal</th>\n",
       "      <th>smart_bid_type</th>\n",
       "      <th>adjust_cpa</th>\n",
       "      <th>cpa_bid</th>\n",
       "      <th>delivery_range</th>\n",
       "      <th>city</th>\n",
       "      <th>location_type</th>\n",
       "      <th>gender</th>\n",
       "      <th>age</th>\n",
       "      <th>ac</th>\n",
       "      <th>launch_price</th>\n",
       "      <th>auto_extend_enabled</th>\n",
       "      <th>hide_if_exists</th>\n",
       "      <th>hide_if_converted</th>\n",
       "      <th>schedule_time</th>\n",
       "      <th>flow_control_mode</th>\n",
       "      <th>inventory_type</th>\n",
       "      <th>convertIndex</th>\n",
       "      <th>operation</th>\n",
       "      <th>web_url</th>\n",
       "    </tr>\n",
       "  </thead>\n",
       "  <tbody>\n",
       "    <tr>\n",
       "      <th>0</th>\n",
       "      <td>7591</td>\n",
       "      <td>33437</td>\n",
       "      <td>1001545</td>\n",
       "      <td>[ANDROID]</td>\n",
       "      <td>7.0</td>\n",
       "      <td>NONE</td>\n",
       "      <td>3300.0</td>\n",
       "      <td>['游戏', '战争游戏', '策略游戏', '新闻热点']</td>\n",
       "      <td>[{'title': '小时候玩的帝国终于出手游了！开局5个农民，建立你的帝国！', 'cr...</td>\n",
       "      <td>19131201</td>\n",
       "      <td>NONE</td>\n",
       "      <td>[]</td>\n",
       "      <td>[]</td>\n",
       "      <td>RECOMMEND</td>\n",
       "      <td>NaN</td>\n",
       "      <td>NaN</td>\n",
       "      <td>NaN</td>\n",
       "      <td>[]</td>\n",
       "      <td>BID_PER_ACTION</td>\n",
       "      <td>NaN</td>\n",
       "      <td>SMART_BID_CUSTOM</td>\n",
       "      <td>0.0</td>\n",
       "      <td>594.77</td>\n",
       "      <td>DEFAULT</td>\n",
       "      <td>[64, 421000, 11, 12, 13, 14, 15, 422800, 42050...</td>\n",
       "      <td>HOME</td>\n",
       "      <td>GENDER_MALE</td>\n",
       "      <td>['AGE_BETWEEN_24_30', 'AGE_BETWEEN_31_40', 'AG...</td>\n",
       "      <td>['WIFI', '4G']</td>\n",
       "      <td>[0, 11000]</td>\n",
       "      <td>0</td>\n",
       "      <td>0</td>\n",
       "      <td>AD</td>\n",
       "      <td>1111111111111111111111111111111111111111111111...</td>\n",
       "      <td>FLOW_CONTROL_MODE_FAST</td>\n",
       "      <td>['INVENTORY_AWEME_FEED', 'INVENTORY_FEED']</td>\n",
       "      <td>13</td>\n",
       "      <td>disable</td>\n",
       "      <td>https://www.chengzijianzhan.com/tetris/page/69...</td>\n",
       "    </tr>\n",
       "    <tr>\n",
       "      <th>1</th>\n",
       "      <td>7594</td>\n",
       "      <td>33437</td>\n",
       "      <td>1001545</td>\n",
       "      <td>[ANDROID]</td>\n",
       "      <td>7.0</td>\n",
       "      <td>NONE</td>\n",
       "      <td>3300.0</td>\n",
       "      <td>['手游', 'SLG', '策略', '战争策略', '策略手游', '最强王者', '我...</td>\n",
       "      <td>[{'title': '开局流落荒岛，填海造陆，挖矿伐木，白手起家，建立海岛王国！', 'c...</td>\n",
       "      <td>19131201</td>\n",
       "      <td>RETARGETING_EXCLUDE</td>\n",
       "      <td>[]</td>\n",
       "      <td>[320989434]</td>\n",
       "      <td>RECOMMEND</td>\n",
       "      <td>NaN</td>\n",
       "      <td>NaN</td>\n",
       "      <td>NaN</td>\n",
       "      <td>[]</td>\n",
       "      <td>BID_PER_ACTION</td>\n",
       "      <td>NaN</td>\n",
       "      <td>SMART_BID_CUSTOM</td>\n",
       "      <td>0.0</td>\n",
       "      <td>594.77</td>\n",
       "      <td>DEFAULT</td>\n",
       "      <td>[64, 421000, 11, 12, 13, 14, 15, 422800, 42050...</td>\n",
       "      <td>CURRENT</td>\n",
       "      <td>GENDER_MALE</td>\n",
       "      <td>['AGE_BETWEEN_24_30', 'AGE_BETWEEN_31_40', 'AG...</td>\n",
       "      <td>['WIFI', '4G']</td>\n",
       "      <td>[0, 11000]</td>\n",
       "      <td>0</td>\n",
       "      <td>0</td>\n",
       "      <td>APP</td>\n",
       "      <td>1111111111111111111111111111111111111111111111...</td>\n",
       "      <td>FLOW_CONTROL_MODE_FAST</td>\n",
       "      <td>['INVENTORY_AWEME_FEED']</td>\n",
       "      <td>13</td>\n",
       "      <td>disable</td>\n",
       "      <td>https://www.chengzijianzhan.com/tetris/page/69...</td>\n",
       "    </tr>\n",
       "  </tbody>\n",
       "</table>\n",
       "</div>"
      ],
      "text/plain": [
       "   ad_account_id  image_id  game_id   platform  android_osv ios_osv  budget  \\\n",
       "0           7591     33437  1001545  [ANDROID]          7.0    NONE  3300.0   \n",
       "1           7594     33437  1001545  [ANDROID]          7.0    NONE  3300.0   \n",
       "\n",
       "                                         ad_keywords  \\\n",
       "0                     ['游戏', '战争游戏', '策略游戏', '新闻热点']   \n",
       "1  ['手游', 'SLG', '策略', '战争策略', '策略手游', '最强王者', '我...   \n",
       "\n",
       "                                          title_list  third_industry_id  \\\n",
       "0  [{'title': '小时候玩的帝国终于出手游了！开局5个农民，建立你的帝国！', 'cr...           19131201   \n",
       "1  [{'title': '开局流落荒岛，填海造陆，挖矿伐木，白手起家，建立海岛王国！', 'c...           19131201   \n",
       "\n",
       "      retargeting_type retargeting_tags_include retargeting_tags_exclude  \\\n",
       "0                 NONE                       []                       []   \n",
       "1  RETARGETING_EXCLUDE                       []              [320989434]   \n",
       "\n",
       "  interest_action_mode  action_scene  action_days  action_categories  \\\n",
       "0            RECOMMEND           NaN          NaN                NaN   \n",
       "1            RECOMMEND           NaN          NaN                NaN   \n",
       "\n",
       "  interest_categories   deep_bid_type  roi_goal    smart_bid_type  adjust_cpa  \\\n",
       "0                  []  BID_PER_ACTION       NaN  SMART_BID_CUSTOM         0.0   \n",
       "1                  []  BID_PER_ACTION       NaN  SMART_BID_CUSTOM         0.0   \n",
       "\n",
       "   cpa_bid delivery_range                                               city  \\\n",
       "0   594.77        DEFAULT  [64, 421000, 11, 12, 13, 14, 15, 422800, 42050...   \n",
       "1   594.77        DEFAULT  [64, 421000, 11, 12, 13, 14, 15, 422800, 42050...   \n",
       "\n",
       "  location_type       gender  \\\n",
       "0          HOME  GENDER_MALE   \n",
       "1       CURRENT  GENDER_MALE   \n",
       "\n",
       "                                                 age              ac  \\\n",
       "0  ['AGE_BETWEEN_24_30', 'AGE_BETWEEN_31_40', 'AG...  ['WIFI', '4G']   \n",
       "1  ['AGE_BETWEEN_24_30', 'AGE_BETWEEN_31_40', 'AG...  ['WIFI', '4G']   \n",
       "\n",
       "  launch_price  auto_extend_enabled  hide_if_exists hide_if_converted  \\\n",
       "0   [0, 11000]                    0               0                AD   \n",
       "1   [0, 11000]                    0               0               APP   \n",
       "\n",
       "                                       schedule_time       flow_control_mode  \\\n",
       "0  1111111111111111111111111111111111111111111111...  FLOW_CONTROL_MODE_FAST   \n",
       "1  1111111111111111111111111111111111111111111111...  FLOW_CONTROL_MODE_FAST   \n",
       "\n",
       "                               inventory_type  convertIndex operation  \\\n",
       "0  ['INVENTORY_AWEME_FEED', 'INVENTORY_FEED']            13   disable   \n",
       "1                    ['INVENTORY_AWEME_FEED']            13   disable   \n",
       "\n",
       "                                             web_url  \n",
       "0  https://www.chengzijianzhan.com/tetris/page/69...  \n",
       "1  https://www.chengzijianzhan.com/tetris/page/69...  "
      ]
     },
     "execution_count": 84,
     "metadata": {},
     "output_type": "execute_result"
    }
   ],
   "source": [
    "plan_result.head()"
   ]
  },
  {
   "cell_type": "code",
   "execution_count": 85,
   "metadata": {},
   "outputs": [],
   "source": [
    "\n",
    "plan_result['ad_keywords'] = plan_result['ad_keywords'].apply(ast.literal_eval)\n",
    "plan_result['title_list'] = plan_result['title_list'].apply(ast.literal_eval)\n",
    "plan_result['retargeting_tags_include'] = plan_result['retargeting_tags_include'].apply(ast.literal_eval)\n",
    "plan_result['retargeting_tags_exclude'] = plan_result['retargeting_tags_exclude'].apply(ast.literal_eval)\n",
    "plan_result['interest_categories'] = plan_result['interest_categories'].apply(ast.literal_eval)\n",
    "plan_result['city'] = plan_result['city'].apply(ast.literal_eval)\n",
    "plan_result['age'] = plan_result['age'].apply(ast.literal_eval)\n",
    "plan_result['launch_price'] = plan_result['launch_price'].apply(ast.literal_eval)\n",
    "plan_result['inventory_type'] = plan_result['inventory_type'].apply(ast.literal_eval)\n"
   ]
  },
  {
   "cell_type": "code",
   "execution_count": 88,
   "metadata": {},
   "outputs": [
    {
     "ename": "NameError",
     "evalue": "name 'ANDROID' is not defined",
     "output_type": "error",
     "traceback": [
      "\u001b[1;31m---------------------------------------------------------------------------\u001b[0m",
      "\u001b[1;31mNameError\u001b[0m                                 Traceback (most recent call last)",
      "\u001b[1;32m<ipython-input-88-8da4d359ac5f>\u001b[0m in \u001b[0;36m<module>\u001b[1;34m\u001b[0m\n\u001b[1;32m----> 1\u001b[1;33m \u001b[0mplan_result\u001b[0m\u001b[1;33m[\u001b[0m\u001b[1;34m'platform'\u001b[0m\u001b[1;33m]\u001b[0m \u001b[1;33m=\u001b[0m \u001b[0mlist\u001b[0m\u001b[1;33m(\u001b[0m\u001b[0mANDROID\u001b[0m\u001b[1;33m)\u001b[0m\u001b[1;33m\u001b[0m\u001b[1;33m\u001b[0m\u001b[0m\n\u001b[0m",
      "\u001b[1;31mNameError\u001b[0m: name 'ANDROID' is not defined"
     ]
    }
   ],
   "source": [
    "plan_result['platform'] = list(ANDROID)"
   ]
  },
  {
   "cell_type": "code",
   "execution_count": 78,
   "metadata": {},
   "outputs": [
    {
     "data": {
      "text/plain": [
       "str"
      ]
     },
     "execution_count": 78,
     "metadata": {},
     "output_type": "execute_result"
    }
   ],
   "source": [
    "type(plan_result.loc[1,'platform'])"
   ]
  },
  {
   "cell_type": "code",
   "execution_count": 75,
   "metadata": {
    "scrolled": false
   },
   "outputs": [
    {
     "data": {
      "text/plain": [
       "'[ANDROID]'"
      ]
     },
     "execution_count": 75,
     "metadata": {},
     "output_type": "execute_result"
    }
   ],
   "source": [
    "plan_result.loc[1,'platform']"
   ]
  },
  {
   "cell_type": "code",
   "execution_count": 76,
   "metadata": {},
   "outputs": [
    {
     "name": "stdout",
     "output_type": "stream",
     "text": [
      "结束....\n",
      "{'code': 200, 'data': True, 'msg': ''}\n"
     ]
    }
   ],
   "source": [
    "rsp_data = get_ad_create(plan_result)\n",
    "print(rsp_data)"
   ]
  },
  {
   "cell_type": "code",
   "execution_count": null,
   "metadata": {},
   "outputs": [],
   "source": []
  },
  {
   "cell_type": "code",
   "execution_count": null,
   "metadata": {},
   "outputs": [],
   "source": []
  },
  {
   "cell_type": "code",
   "execution_count": 24,
   "metadata": {},
   "outputs": [],
   "source": [
    "def main_model():\n",
    "    plan_result = pd.read_csv('./plan_result.csv')  # 保存创建日志\n",
    "\n",
    "    plan_result = plan_result.sample(1)\n",
    "    rsp_data = get_ad_create(plan_result)\n",
    "    print(rsp_data)"
   ]
  },
  {
   "cell_type": "code",
   "execution_count": null,
   "metadata": {},
   "outputs": [],
   "source": [
    "if __name__ == '__main__':\n",
    "    main_model()"
   ]
  }
 ],
 "metadata": {
  "kernelspec": {
   "display_name": "Python 3",
   "language": "python",
   "name": "python3"
  },
  "language_info": {
   "codemirror_mode": {
    "name": "ipython",
    "version": 3
   },
   "file_extension": ".py",
   "mimetype": "text/x-python",
   "name": "python",
   "nbconvert_exporter": "python",
   "pygments_lexer": "ipython3",
   "version": "3.7.6"
  }
 },
 "nbformat": 4,
 "nbformat_minor": 4
}
