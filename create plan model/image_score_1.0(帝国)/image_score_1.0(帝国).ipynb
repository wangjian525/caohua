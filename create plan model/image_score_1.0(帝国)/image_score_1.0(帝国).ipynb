{
 "cells": [
  {
   "cell_type": "code",
   "execution_count": 1,
   "metadata": {},
   "outputs": [],
   "source": [
    "import pandas as pd\n",
    "import numpy as np\n",
    "import matplotlib.pyplot as plt\n",
    "import seaborn as sns\n",
    "import warnings\n",
    "warnings.filterwarnings('ignore')"
   ]
  },
  {
   "cell_type": "code",
   "execution_count": 2,
   "metadata": {},
   "outputs": [],
   "source": [
    "# image_info = pd.read_excel('./image_info.xls')"
   ]
  },
  {
   "cell_type": "code",
   "execution_count": 78,
   "metadata": {},
   "outputs": [],
   "source": [
    "import datetime"
   ]
  },
  {
   "cell_type": "code",
   "execution_count": 79,
   "metadata": {},
   "outputs": [
    {
     "data": {
      "text/plain": [
       "datetime.datetime(2021, 8, 10, 16, 50, 23, 877361)"
      ]
     },
     "execution_count": 79,
     "metadata": {},
     "output_type": "execute_result"
    }
   ],
   "source": [
    "(datetime.datetime.now() - pd.Timedelta(days=3))"
   ]
  },
  {
   "cell_type": "code",
   "execution_count": 2,
   "metadata": {},
   "outputs": [],
   "source": [
    "image_info = pd.read_csv('./train_data.csv')"
   ]
  },
  {
   "cell_type": "code",
   "execution_count": 3,
   "metadata": {},
   "outputs": [],
   "source": [
    "pd.set_option('display.max_columns',None)"
   ]
  },
  {
   "cell_type": "code",
   "execution_count": 4,
   "metadata": {
    "scrolled": true
   },
   "outputs": [
    {
     "data": {
      "text/html": [
       "<div>\n",
       "<style scoped>\n",
       "    .dataframe tbody tr th:only-of-type {\n",
       "        vertical-align: middle;\n",
       "    }\n",
       "\n",
       "    .dataframe tbody tr th {\n",
       "        vertical-align: top;\n",
       "    }\n",
       "\n",
       "    .dataframe thead th {\n",
       "        text-align: right;\n",
       "    }\n",
       "</style>\n",
       "<table border=\"1\" class=\"dataframe\">\n",
       "  <thead>\n",
       "    <tr style=\"text-align: right;\">\n",
       "      <th></th>\n",
       "      <th>image_id</th>\n",
       "      <th>image_name</th>\n",
       "      <th>media_id</th>\n",
       "      <th>image_launch_time</th>\n",
       "      <th>image_source_total_num</th>\n",
       "      <th>image_run_date_amount</th>\n",
       "      <th>image_create_role_pay_num</th>\n",
       "      <th>image_create_role_num</th>\n",
       "      <th>image_create_role_pay_sum</th>\n",
       "      <th>image_source_num</th>\n",
       "      <th>image_create_role_pay_rate</th>\n",
       "      <th>image_create_role_cost</th>\n",
       "      <th>image_create_role_pay_cost</th>\n",
       "      <th>image_valid_source_num</th>\n",
       "      <th>image_valid_source_rate</th>\n",
       "      <th>image_pay_sum_ability</th>\n",
       "      <th>image_pay_num_ability</th>\n",
       "      <th>image_create_role_roi</th>\n",
       "      <th>image_create_role_retain_1d</th>\n",
       "      <th>create_role_30_pay_sum</th>\n",
       "      <th>model_run_datetime</th>\n",
       "      <th>data_win</th>\n",
       "    </tr>\n",
       "  </thead>\n",
       "  <tbody>\n",
       "    <tr>\n",
       "      <th>0</th>\n",
       "      <td>20873</td>\n",
       "      <td>ZDZL855-竖版xy</td>\n",
       "      <td>10</td>\n",
       "      <td>2020-12-31</td>\n",
       "      <td>2.0</td>\n",
       "      <td>1805.85</td>\n",
       "      <td>1.0</td>\n",
       "      <td>22.0</td>\n",
       "      <td>9.0</td>\n",
       "      <td>2.0</td>\n",
       "      <td>0.0455</td>\n",
       "      <td>82.084091</td>\n",
       "      <td>1805.850000</td>\n",
       "      <td>2.0</td>\n",
       "      <td>1.0000</td>\n",
       "      <td>4.5</td>\n",
       "      <td>0.5</td>\n",
       "      <td>0.004984</td>\n",
       "      <td>0.0909</td>\n",
       "      <td>9.0</td>\n",
       "      <td>2021-01-01</td>\n",
       "      <td>3</td>\n",
       "    </tr>\n",
       "    <tr>\n",
       "      <th>1</th>\n",
       "      <td>24141</td>\n",
       "      <td>ZDZL1195-横版JL</td>\n",
       "      <td>10</td>\n",
       "      <td>2020-12-30</td>\n",
       "      <td>2.0</td>\n",
       "      <td>8974.09</td>\n",
       "      <td>3.0</td>\n",
       "      <td>233.0</td>\n",
       "      <td>116.0</td>\n",
       "      <td>2.0</td>\n",
       "      <td>0.0129</td>\n",
       "      <td>38.515408</td>\n",
       "      <td>2991.363333</td>\n",
       "      <td>0.0</td>\n",
       "      <td>0.0000</td>\n",
       "      <td>0.0</td>\n",
       "      <td>0.0</td>\n",
       "      <td>0.012926</td>\n",
       "      <td>0.1609</td>\n",
       "      <td>154.0</td>\n",
       "      <td>2021-01-01</td>\n",
       "      <td>3</td>\n",
       "    </tr>\n",
       "    <tr>\n",
       "      <th>2</th>\n",
       "      <td>27955</td>\n",
       "      <td>QMZT004-CHL</td>\n",
       "      <td>16</td>\n",
       "      <td>2020-12-30</td>\n",
       "      <td>74.0</td>\n",
       "      <td>7555.66</td>\n",
       "      <td>6.0</td>\n",
       "      <td>52.0</td>\n",
       "      <td>998.0</td>\n",
       "      <td>3.0</td>\n",
       "      <td>0.1154</td>\n",
       "      <td>145.301154</td>\n",
       "      <td>1259.276667</td>\n",
       "      <td>2.0</td>\n",
       "      <td>0.6667</td>\n",
       "      <td>499.0</td>\n",
       "      <td>3.0</td>\n",
       "      <td>0.132086</td>\n",
       "      <td>0.2500</td>\n",
       "      <td>2316.0</td>\n",
       "      <td>2021-01-01</td>\n",
       "      <td>3</td>\n",
       "    </tr>\n",
       "    <tr>\n",
       "      <th>3</th>\n",
       "      <td>28021</td>\n",
       "      <td>QMZT016-CHL</td>\n",
       "      <td>16</td>\n",
       "      <td>2020-12-30</td>\n",
       "      <td>1.0</td>\n",
       "      <td>544.90</td>\n",
       "      <td>1.0</td>\n",
       "      <td>3.0</td>\n",
       "      <td>6.0</td>\n",
       "      <td>1.0</td>\n",
       "      <td>0.3333</td>\n",
       "      <td>181.633333</td>\n",
       "      <td>544.900000</td>\n",
       "      <td>1.0</td>\n",
       "      <td>1.0000</td>\n",
       "      <td>6.0</td>\n",
       "      <td>1.0</td>\n",
       "      <td>0.011011</td>\n",
       "      <td>0.2500</td>\n",
       "      <td>6.0</td>\n",
       "      <td>2021-01-01</td>\n",
       "      <td>3</td>\n",
       "    </tr>\n",
       "    <tr>\n",
       "      <th>4</th>\n",
       "      <td>28022</td>\n",
       "      <td>QMZT017-CHL</td>\n",
       "      <td>16</td>\n",
       "      <td>2020-12-30</td>\n",
       "      <td>1.0</td>\n",
       "      <td>627.70</td>\n",
       "      <td>0.0</td>\n",
       "      <td>2.0</td>\n",
       "      <td>0.0</td>\n",
       "      <td>1.0</td>\n",
       "      <td>0.0000</td>\n",
       "      <td>313.850000</td>\n",
       "      <td>0.000000</td>\n",
       "      <td>0.0</td>\n",
       "      <td>0.0000</td>\n",
       "      <td>0.0</td>\n",
       "      <td>0.0</td>\n",
       "      <td>0.000000</td>\n",
       "      <td>0.0000</td>\n",
       "      <td>0.0</td>\n",
       "      <td>2021-01-01</td>\n",
       "      <td>3</td>\n",
       "    </tr>\n",
       "  </tbody>\n",
       "</table>\n",
       "</div>"
      ],
      "text/plain": [
       "   image_id     image_name  media_id image_launch_time  \\\n",
       "0     20873   ZDZL855-竖版xy        10        2020-12-31   \n",
       "1     24141  ZDZL1195-横版JL        10        2020-12-30   \n",
       "2     27955    QMZT004-CHL        16        2020-12-30   \n",
       "3     28021    QMZT016-CHL        16        2020-12-30   \n",
       "4     28022    QMZT017-CHL        16        2020-12-30   \n",
       "\n",
       "   image_source_total_num  image_run_date_amount  image_create_role_pay_num  \\\n",
       "0                     2.0                1805.85                        1.0   \n",
       "1                     2.0                8974.09                        3.0   \n",
       "2                    74.0                7555.66                        6.0   \n",
       "3                     1.0                 544.90                        1.0   \n",
       "4                     1.0                 627.70                        0.0   \n",
       "\n",
       "   image_create_role_num  image_create_role_pay_sum  image_source_num  \\\n",
       "0                   22.0                        9.0               2.0   \n",
       "1                  233.0                      116.0               2.0   \n",
       "2                   52.0                      998.0               3.0   \n",
       "3                    3.0                        6.0               1.0   \n",
       "4                    2.0                        0.0               1.0   \n",
       "\n",
       "   image_create_role_pay_rate  image_create_role_cost  \\\n",
       "0                      0.0455               82.084091   \n",
       "1                      0.0129               38.515408   \n",
       "2                      0.1154              145.301154   \n",
       "3                      0.3333              181.633333   \n",
       "4                      0.0000              313.850000   \n",
       "\n",
       "   image_create_role_pay_cost  image_valid_source_num  \\\n",
       "0                 1805.850000                     2.0   \n",
       "1                 2991.363333                     0.0   \n",
       "2                 1259.276667                     2.0   \n",
       "3                  544.900000                     1.0   \n",
       "4                    0.000000                     0.0   \n",
       "\n",
       "   image_valid_source_rate  image_pay_sum_ability  image_pay_num_ability  \\\n",
       "0                   1.0000                    4.5                    0.5   \n",
       "1                   0.0000                    0.0                    0.0   \n",
       "2                   0.6667                  499.0                    3.0   \n",
       "3                   1.0000                    6.0                    1.0   \n",
       "4                   0.0000                    0.0                    0.0   \n",
       "\n",
       "   image_create_role_roi  image_create_role_retain_1d  create_role_30_pay_sum  \\\n",
       "0               0.004984                       0.0909                     9.0   \n",
       "1               0.012926                       0.1609                   154.0   \n",
       "2               0.132086                       0.2500                  2316.0   \n",
       "3               0.011011                       0.2500                     6.0   \n",
       "4               0.000000                       0.0000                     0.0   \n",
       "\n",
       "  model_run_datetime  data_win  \n",
       "0         2021-01-01         3  \n",
       "1         2021-01-01         3  \n",
       "2         2021-01-01         3  \n",
       "3         2021-01-01         3  \n",
       "4         2021-01-01         3  "
      ]
     },
     "execution_count": 4,
     "metadata": {},
     "output_type": "execute_result"
    }
   ],
   "source": [
    "image_info.head()"
   ]
  },
  {
   "cell_type": "code",
   "execution_count": 5,
   "metadata": {},
   "outputs": [
    {
     "data": {
      "text/plain": [
       "2629"
      ]
     },
     "execution_count": 5,
     "metadata": {},
     "output_type": "execute_result"
    }
   ],
   "source": [
    "image_info['image_id'].nunique()"
   ]
  },
  {
   "cell_type": "code",
   "execution_count": 6,
   "metadata": {},
   "outputs": [],
   "source": [
    "image_info['image_30_roi'] = image_info['create_role_30_pay_sum'] / image_info['image_run_date_amount']"
   ]
  },
  {
   "cell_type": "code",
   "execution_count": 7,
   "metadata": {},
   "outputs": [
    {
     "data": {
      "text/plain": [
       "image_30_roi                   1.000000\n",
       "image_create_role_roi          0.232469\n",
       "create_role_30_pay_sum         0.136325\n",
       "image_create_role_pay_rate     0.072774\n",
       "image_create_role_retain_1d    0.052915\n",
       "image_create_role_pay_sum      0.037357\n",
       "image_pay_sum_ability          0.037154\n",
       "image_valid_source_rate        0.027439\n",
       "image_source_total_num         0.016240\n",
       "image_valid_source_num         0.010328\n",
       "image_pay_num_ability          0.007535\n",
       "image_create_role_pay_num      0.006133\n",
       "image_source_num               0.002103\n",
       "image_run_date_amount          0.000653\n",
       "image_create_role_num          0.000146\n",
       "image_create_role_pay_cost    -0.005405\n",
       "media_id                      -0.008281\n",
       "image_id                      -0.011821\n",
       "image_create_role_cost        -0.013483\n",
       "data_win                            NaN\n",
       "Name: image_30_roi, dtype: float64"
      ]
     },
     "execution_count": 7,
     "metadata": {},
     "output_type": "execute_result"
    }
   ],
   "source": [
    "image_info.corr()['image_30_roi'].sort_values(ascending=False)"
   ]
  },
  {
   "cell_type": "code",
   "execution_count": 8,
   "metadata": {},
   "outputs": [],
   "source": [
    "image_info['label'] = image_info['image_30_roi'].apply(lambda x:1 if x>=0.35 else(0 if x<0.25 else 2))"
   ]
  },
  {
   "cell_type": "code",
   "execution_count": 9,
   "metadata": {},
   "outputs": [
    {
     "data": {
      "text/plain": [
       "0    45813\n",
       "1     7540\n",
       "2     4525\n",
       "Name: label, dtype: int64"
      ]
     },
     "execution_count": 9,
     "metadata": {},
     "output_type": "execute_result"
    }
   ],
   "source": [
    "image_info['label'].value_counts()"
   ]
  },
  {
   "cell_type": "code",
   "execution_count": 10,
   "metadata": {},
   "outputs": [],
   "source": [
    "image_info_label = image_info[image_info['label']!=2]"
   ]
  },
  {
   "cell_type": "markdown",
   "metadata": {},
   "source": [
    "### EDA"
   ]
  },
  {
   "cell_type": "code",
   "execution_count": 11,
   "metadata": {
    "scrolled": true
   },
   "outputs": [
    {
     "data": {
      "text/plain": [
       "(53353, 24)"
      ]
     },
     "execution_count": 11,
     "metadata": {},
     "output_type": "execute_result"
    }
   ],
   "source": [
    "image_info_label.shape"
   ]
  },
  {
   "cell_type": "code",
   "execution_count": 12,
   "metadata": {},
   "outputs": [],
   "source": [
    "image_info_label = image_info_label[image_info_label['image_run_date_amount']>=500]"
   ]
  },
  {
   "cell_type": "code",
   "execution_count": 13,
   "metadata": {},
   "outputs": [
    {
     "data": {
      "text/plain": [
       "(41246, 24)"
      ]
     },
     "execution_count": 13,
     "metadata": {},
     "output_type": "execute_result"
    }
   ],
   "source": [
    "image_info_label.shape"
   ]
  },
  {
   "cell_type": "code",
   "execution_count": 14,
   "metadata": {},
   "outputs": [
    {
     "data": {
      "text/plain": [
       "data_win                           1\n",
       "label                              2\n",
       "media_id                           2\n",
       "image_valid_source_num            74\n",
       "image_source_num                 115\n",
       "image_create_role_pay_num        152\n",
       "image_launch_time                187\n",
       "image_source_total_num           189\n",
       "model_run_datetime               191\n",
       "image_valid_source_rate          596\n",
       "image_pay_num_ability            805\n",
       "image_create_role_pay_rate      1231\n",
       "image_create_role_num           1329\n",
       "image_id                        2414\n",
       "image_name                      2414\n",
       "image_create_role_retain_1d     2424\n",
       "image_create_role_pay_sum       3068\n",
       "image_pay_sum_ability           3915\n",
       "create_role_30_pay_sum          7724\n",
       "image_create_role_roi          17587\n",
       "image_create_role_pay_cost     22921\n",
       "image_30_roi                   28494\n",
       "image_run_date_amount          38649\n",
       "image_create_role_cost         39236\n",
       "dtype: int64"
      ]
     },
     "execution_count": 14,
     "metadata": {},
     "output_type": "execute_result"
    }
   ],
   "source": [
    "image_info_label.nunique().sort_values()"
   ]
  },
  {
   "cell_type": "code",
   "execution_count": 15,
   "metadata": {},
   "outputs": [],
   "source": [
    "image_info_label.drop(['data_win','image_30_roi','image_valid_source_num','image_pay_sum_ability','image_pay_num_ability'], axis=1, inplace=True)"
   ]
  },
  {
   "cell_type": "code",
   "execution_count": 17,
   "metadata": {},
   "outputs": [
    {
     "data": {
      "image/png": "[encoded data removed]",
      "text/plain": [
       "<Figure size 432x288 with 1 Axes>"
      ]
     },
     "metadata": {
      "needs_background": "light"
     },
     "output_type": "display_data"
    },
    {
     "data": {
      "image/png": "[encoded data removed]",
      "text/plain": [
       "<Figure size 432x288 with 1 Axes>"
      ]
     },
     "metadata": {
      "needs_background": "light"
     },
     "output_type": "display_data"
    },
    {
     "data": {
      "image/png": "[encoded data removed]",
      "text/plain": [
       "<Figure size 432x288 with 1 Axes>"
      ]
     },
     "metadata": {
      "needs_background": "light"
     },
     "output_type": "display_data"
    },
    {
     "data": {
      "image/png": "[encoded data removed]",
      "text/plain": [
       "<Figure size 432x288 with 1 Axes>"
      ]
     },
     "metadata": {
      "needs_background": "light"
     },
     "output_type": "display_data"
    },
    {
     "data": {
      "image/png": "[encoded data removed]",
      "text/plain": [
       "<Figure size 432x288 with 1 Axes>"
      ]
     },
     "metadata": {
      "needs_background": "light"
     },
     "output_type": "display_data"
    },
    {
     "data": {
      "image/png": "[encoded data removed]",
      "text/plain": [
       "<Figure size 432x288 with 1 Axes>"
      ]
     },
     "metadata": {
      "needs_background": "light"
     },
     "output_type": "display_data"
    },
    {
     "data": {
      "image/png": "[encoded data removed]",
      "text/plain": [
       "<Figure size 432x288 with 1 Axes>"
      ]
     },
     "metadata": {
      "needs_background": "light"
     },
     "output_type": "display_data"
    },
    {
     "data": {
      "image/png": "[encoded data removed]",
      "text/plain": [
       "<Figure size 432x288 with 1 Axes>"
      ]
     },
     "metadata": {
      "needs_background": "light"
     },
     "output_type": "display_data"
    },
    {
     "data": {
      "image/png": "[encoded data removed]",
      "text/plain": [
       "<Figure size 432x288 with 1 Axes>"
      ]
     },
     "metadata": {
      "needs_background": "light"
     },
     "output_type": "display_data"
    },
    {
     "data": {
      "image/png": "[encoded data removed]",
      "text/plain": [
       "<Figure size 432x288 with 1 Axes>"
      ]
     },
     "metadata": {
      "needs_background": "light"
     },
     "output_type": "display_data"
    }
   ],
   "source": [
    "columns = ['image_run_date_amount', 'image_create_role_pay_num',\n",
    "       'image_create_role_num', 'image_create_role_pay_sum',\n",
    "       'image_source_num', 'image_create_role_pay_rate',\n",
    "       'image_create_role_cost', 'image_create_role_pay_cost',\n",
    "       'image_create_role_roi', 'image_create_role_retain_1d']\n",
    "for col in columns:\n",
    "    sns.distplot(image_info_label[col])\n",
    "    plt.show()"
   ]
  },
  {
   "cell_type": "code",
   "execution_count": 16,
   "metadata": {
    "scrolled": true
   },
   "outputs": [
    {
     "data": {
      "text/plain": [
       "(1148, 19)"
      ]
     },
     "execution_count": 16,
     "metadata": {},
     "output_type": "execute_result"
    }
   ],
   "source": [
    "image_info_label[image_info_label['image_create_role_cost']>=800].shape"
   ]
  },
  {
   "cell_type": "code",
   "execution_count": 17,
   "metadata": {},
   "outputs": [],
   "source": [
    "image_info_label = image_info_label[image_info_label['image_create_role_cost']<800]"
   ]
  },
  {
   "cell_type": "code",
   "execution_count": 18,
   "metadata": {},
   "outputs": [],
   "source": [
    "image_info_label['image_create_role_cost'].replace(0,float('inf'),inplace=True)"
   ]
  },
  {
   "cell_type": "code",
   "execution_count": 19,
   "metadata": {},
   "outputs": [],
   "source": [
    "image_info_label['image_create_role_pay_cost'].replace(0,float('inf'),inplace=True)"
   ]
  },
  {
   "cell_type": "code",
   "execution_count": 20,
   "metadata": {},
   "outputs": [
    {
     "data": {
      "text/plain": [
       "1.565625e+02        1\n",
       "1.847525e+02        1\n",
       "1.927833e+02        1\n",
       "1.959800e+02        1\n",
       "2.078067e+02        1\n",
       "                ...  \n",
       "2.365617e+04        1\n",
       "2.504798e+04        1\n",
       "2.540688e+04        1\n",
       "3.243577e+04        1\n",
       "inf             16889\n",
       "Name: image_create_role_pay_cost, Length: 22765, dtype: int64"
      ]
     },
     "execution_count": 20,
     "metadata": {},
     "output_type": "execute_result"
    }
   ],
   "source": [
    "image_info_label['image_create_role_pay_cost'].value_counts().sort_index()"
   ]
  },
  {
   "cell_type": "code",
   "execution_count": 21,
   "metadata": {},
   "outputs": [],
   "source": [
    "image_info_label = image_info_label[image_info_label['image_create_role_pay_cost']>500]"
   ]
  },
  {
   "cell_type": "code",
   "execution_count": 22,
   "metadata": {},
   "outputs": [
    {
     "data": {
      "text/plain": [
       "(39879, 19)"
      ]
     },
     "execution_count": 22,
     "metadata": {},
     "output_type": "execute_result"
    }
   ],
   "source": [
    "image_info_label.shape"
   ]
  },
  {
   "cell_type": "code",
   "execution_count": 23,
   "metadata": {},
   "outputs": [
    {
     "data": {
      "image/png": "[encoded data removed]",
      "text/plain": [
       "<Figure size 432x288 with 1 Axes>"
      ]
     },
     "metadata": {
      "needs_background": "light"
     },
     "output_type": "display_data"
    }
   ],
   "source": [
    "sns.countplot(x='label',data=image_info_label)\n",
    "plt.show()"
   ]
  },
  {
   "cell_type": "code",
   "execution_count": 24,
   "metadata": {},
   "outputs": [
    {
     "data": {
      "text/html": [
       "<div>\n",
       "<style scoped>\n",
       "    .dataframe tbody tr th:only-of-type {\n",
       "        vertical-align: middle;\n",
       "    }\n",
       "\n",
       "    .dataframe tbody tr th {\n",
       "        vertical-align: top;\n",
       "    }\n",
       "\n",
       "    .dataframe thead th {\n",
       "        text-align: right;\n",
       "    }\n",
       "</style>\n",
       "<table border=\"1\" class=\"dataframe\">\n",
       "  <thead>\n",
       "    <tr style=\"text-align: right;\">\n",
       "      <th></th>\n",
       "      <th>image_id</th>\n",
       "      <th>media_id</th>\n",
       "      <th>image_source_total_num</th>\n",
       "      <th>image_run_date_amount</th>\n",
       "      <th>image_create_role_pay_num</th>\n",
       "      <th>image_create_role_num</th>\n",
       "      <th>image_create_role_pay_sum</th>\n",
       "      <th>image_source_num</th>\n",
       "      <th>image_create_role_pay_rate</th>\n",
       "      <th>image_create_role_cost</th>\n",
       "      <th>image_create_role_pay_cost</th>\n",
       "      <th>image_valid_source_rate</th>\n",
       "      <th>image_create_role_roi</th>\n",
       "      <th>image_create_role_retain_1d</th>\n",
       "      <th>create_role_30_pay_sum</th>\n",
       "      <th>label</th>\n",
       "    </tr>\n",
       "  </thead>\n",
       "  <tbody>\n",
       "    <tr>\n",
       "      <th>image_id</th>\n",
       "      <td>1.000000</td>\n",
       "      <td>0.058077</td>\n",
       "      <td>-0.127868</td>\n",
       "      <td>0.019969</td>\n",
       "      <td>-0.049148</td>\n",
       "      <td>-0.054589</td>\n",
       "      <td>-0.031606</td>\n",
       "      <td>0.080776</td>\n",
       "      <td>0.028154</td>\n",
       "      <td>0.257796</td>\n",
       "      <td>0.182819</td>\n",
       "      <td>-0.150114</td>\n",
       "      <td>-0.014123</td>\n",
       "      <td>-0.045995</td>\n",
       "      <td>-0.024072</td>\n",
       "      <td>-0.057739</td>\n",
       "    </tr>\n",
       "    <tr>\n",
       "      <th>media_id</th>\n",
       "      <td>0.058077</td>\n",
       "      <td>1.000000</td>\n",
       "      <td>-0.087051</td>\n",
       "      <td>-0.191947</td>\n",
       "      <td>-0.152674</td>\n",
       "      <td>-0.194643</td>\n",
       "      <td>-0.116624</td>\n",
       "      <td>-0.238825</td>\n",
       "      <td>0.060769</td>\n",
       "      <td>-0.021219</td>\n",
       "      <td>-0.197751</td>\n",
       "      <td>0.037256</td>\n",
       "      <td>0.012715</td>\n",
       "      <td>0.012718</td>\n",
       "      <td>-0.125903</td>\n",
       "      <td>-0.079465</td>\n",
       "    </tr>\n",
       "    <tr>\n",
       "      <th>image_source_total_num</th>\n",
       "      <td>-0.127868</td>\n",
       "      <td>-0.087051</td>\n",
       "      <td>1.000000</td>\n",
       "      <td>0.407907</td>\n",
       "      <td>0.360583</td>\n",
       "      <td>0.339932</td>\n",
       "      <td>0.298037</td>\n",
       "      <td>0.444651</td>\n",
       "      <td>0.009416</td>\n",
       "      <td>-0.136583</td>\n",
       "      <td>0.084132</td>\n",
       "      <td>0.045856</td>\n",
       "      <td>0.042137</td>\n",
       "      <td>0.007122</td>\n",
       "      <td>0.320107</td>\n",
       "      <td>0.218764</td>\n",
       "    </tr>\n",
       "    <tr>\n",
       "      <th>image_run_date_amount</th>\n",
       "      <td>0.019969</td>\n",
       "      <td>-0.191947</td>\n",
       "      <td>0.407907</td>\n",
       "      <td>1.000000</td>\n",
       "      <td>0.922488</td>\n",
       "      <td>0.854867</td>\n",
       "      <td>0.702532</td>\n",
       "      <td>0.590910</td>\n",
       "      <td>0.016610</td>\n",
       "      <td>-0.130951</td>\n",
       "      <td>0.072996</td>\n",
       "      <td>0.103428</td>\n",
       "      <td>0.050749</td>\n",
       "      <td>-0.024656</td>\n",
       "      <td>0.629080</td>\n",
       "      <td>0.241342</td>\n",
       "    </tr>\n",
       "    <tr>\n",
       "      <th>image_create_role_pay_num</th>\n",
       "      <td>-0.049148</td>\n",
       "      <td>-0.152674</td>\n",
       "      <td>0.360583</td>\n",
       "      <td>0.922488</td>\n",
       "      <td>1.000000</td>\n",
       "      <td>0.865463</td>\n",
       "      <td>0.747109</td>\n",
       "      <td>0.498638</td>\n",
       "      <td>0.075514</td>\n",
       "      <td>-0.164572</td>\n",
       "      <td>-0.107206</td>\n",
       "      <td>0.235481</td>\n",
       "      <td>0.078721</td>\n",
       "      <td>-0.010559</td>\n",
       "      <td>0.632900</td>\n",
       "      <td>0.264936</td>\n",
       "    </tr>\n",
       "    <tr>\n",
       "      <th>image_create_role_num</th>\n",
       "      <td>-0.054589</td>\n",
       "      <td>-0.194643</td>\n",
       "      <td>0.339932</td>\n",
       "      <td>0.854867</td>\n",
       "      <td>0.865463</td>\n",
       "      <td>1.000000</td>\n",
       "      <td>0.626355</td>\n",
       "      <td>0.484996</td>\n",
       "      <td>-0.028855</td>\n",
       "      <td>-0.238119</td>\n",
       "      <td>-0.011013</td>\n",
       "      <td>0.162196</td>\n",
       "      <td>0.046137</td>\n",
       "      <td>-0.060386</td>\n",
       "      <td>0.560911</td>\n",
       "      <td>0.219534</td>\n",
       "    </tr>\n",
       "    <tr>\n",
       "      <th>image_create_role_pay_sum</th>\n",
       "      <td>-0.031606</td>\n",
       "      <td>-0.116624</td>\n",
       "      <td>0.298037</td>\n",
       "      <td>0.702532</td>\n",
       "      <td>0.747109</td>\n",
       "      <td>0.626355</td>\n",
       "      <td>1.000000</td>\n",
       "      <td>0.376942</td>\n",
       "      <td>0.052272</td>\n",
       "      <td>-0.100256</td>\n",
       "      <td>-0.050882</td>\n",
       "      <td>0.137371</td>\n",
       "      <td>0.326085</td>\n",
       "      <td>-0.000629</td>\n",
       "      <td>0.747396</td>\n",
       "      <td>0.348695</td>\n",
       "    </tr>\n",
       "    <tr>\n",
       "      <th>image_source_num</th>\n",
       "      <td>0.080776</td>\n",
       "      <td>-0.238825</td>\n",
       "      <td>0.444651</td>\n",
       "      <td>0.590910</td>\n",
       "      <td>0.498638</td>\n",
       "      <td>0.484996</td>\n",
       "      <td>0.376942</td>\n",
       "      <td>1.000000</td>\n",
       "      <td>-0.004741</td>\n",
       "      <td>-0.106480</td>\n",
       "      <td>0.163068</td>\n",
       "      <td>-0.035237</td>\n",
       "      <td>0.043757</td>\n",
       "      <td>-0.029202</td>\n",
       "      <td>0.354431</td>\n",
       "      <td>0.204205</td>\n",
       "    </tr>\n",
       "    <tr>\n",
       "      <th>image_create_role_pay_rate</th>\n",
       "      <td>0.028154</td>\n",
       "      <td>0.060769</td>\n",
       "      <td>0.009416</td>\n",
       "      <td>0.016610</td>\n",
       "      <td>0.075514</td>\n",
       "      <td>-0.028855</td>\n",
       "      <td>0.052272</td>\n",
       "      <td>-0.004741</td>\n",
       "      <td>1.000000</td>\n",
       "      <td>0.162029</td>\n",
       "      <td>-0.369130</td>\n",
       "      <td>0.354611</td>\n",
       "      <td>0.215070</td>\n",
       "      <td>0.264853</td>\n",
       "      <td>0.032489</td>\n",
       "      <td>0.131765</td>\n",
       "    </tr>\n",
       "    <tr>\n",
       "      <th>image_create_role_cost</th>\n",
       "      <td>0.257796</td>\n",
       "      <td>-0.021219</td>\n",
       "      <td>-0.136583</td>\n",
       "      <td>-0.130951</td>\n",
       "      <td>-0.164572</td>\n",
       "      <td>-0.238119</td>\n",
       "      <td>-0.100256</td>\n",
       "      <td>-0.106480</td>\n",
       "      <td>0.162029</td>\n",
       "      <td>1.000000</td>\n",
       "      <td>0.170682</td>\n",
       "      <td>-0.177002</td>\n",
       "      <td>-0.031481</td>\n",
       "      <td>0.092621</td>\n",
       "      <td>-0.094320</td>\n",
       "      <td>-0.119526</td>\n",
       "    </tr>\n",
       "    <tr>\n",
       "      <th>image_create_role_pay_cost</th>\n",
       "      <td>0.182819</td>\n",
       "      <td>-0.197751</td>\n",
       "      <td>0.084132</td>\n",
       "      <td>0.072996</td>\n",
       "      <td>-0.107206</td>\n",
       "      <td>-0.011013</td>\n",
       "      <td>-0.050882</td>\n",
       "      <td>0.163068</td>\n",
       "      <td>-0.369130</td>\n",
       "      <td>0.170682</td>\n",
       "      <td>1.000000</td>\n",
       "      <td>-0.437237</td>\n",
       "      <td>-0.110917</td>\n",
       "      <td>-0.145388</td>\n",
       "      <td>-0.019777</td>\n",
       "      <td>-0.091752</td>\n",
       "    </tr>\n",
       "    <tr>\n",
       "      <th>image_valid_source_rate</th>\n",
       "      <td>-0.150114</td>\n",
       "      <td>0.037256</td>\n",
       "      <td>0.045856</td>\n",
       "      <td>0.103428</td>\n",
       "      <td>0.235481</td>\n",
       "      <td>0.162196</td>\n",
       "      <td>0.137371</td>\n",
       "      <td>-0.035237</td>\n",
       "      <td>0.354611</td>\n",
       "      <td>-0.177002</td>\n",
       "      <td>-0.437237</td>\n",
       "      <td>1.000000</td>\n",
       "      <td>0.121333</td>\n",
       "      <td>0.085048</td>\n",
       "      <td>0.102133</td>\n",
       "      <td>0.186561</td>\n",
       "    </tr>\n",
       "    <tr>\n",
       "      <th>image_create_role_roi</th>\n",
       "      <td>-0.014123</td>\n",
       "      <td>0.012715</td>\n",
       "      <td>0.042137</td>\n",
       "      <td>0.050749</td>\n",
       "      <td>0.078721</td>\n",
       "      <td>0.046137</td>\n",
       "      <td>0.326085</td>\n",
       "      <td>0.043757</td>\n",
       "      <td>0.215070</td>\n",
       "      <td>-0.031481</td>\n",
       "      <td>-0.110917</td>\n",
       "      <td>0.121333</td>\n",
       "      <td>1.000000</td>\n",
       "      <td>0.075310</td>\n",
       "      <td>0.169417</td>\n",
       "      <td>0.289294</td>\n",
       "    </tr>\n",
       "    <tr>\n",
       "      <th>image_create_role_retain_1d</th>\n",
       "      <td>-0.045995</td>\n",
       "      <td>0.012718</td>\n",
       "      <td>0.007122</td>\n",
       "      <td>-0.024656</td>\n",
       "      <td>-0.010559</td>\n",
       "      <td>-0.060386</td>\n",
       "      <td>-0.000629</td>\n",
       "      <td>-0.029202</td>\n",
       "      <td>0.264853</td>\n",
       "      <td>0.092621</td>\n",
       "      <td>-0.145388</td>\n",
       "      <td>0.085048</td>\n",
       "      <td>0.075310</td>\n",
       "      <td>1.000000</td>\n",
       "      <td>0.007593</td>\n",
       "      <td>0.083232</td>\n",
       "    </tr>\n",
       "    <tr>\n",
       "      <th>create_role_30_pay_sum</th>\n",
       "      <td>-0.024072</td>\n",
       "      <td>-0.125903</td>\n",
       "      <td>0.320107</td>\n",
       "      <td>0.629080</td>\n",
       "      <td>0.632900</td>\n",
       "      <td>0.560911</td>\n",
       "      <td>0.747396</td>\n",
       "      <td>0.354431</td>\n",
       "      <td>0.032489</td>\n",
       "      <td>-0.094320</td>\n",
       "      <td>-0.019777</td>\n",
       "      <td>0.102133</td>\n",
       "      <td>0.169417</td>\n",
       "      <td>0.007593</td>\n",
       "      <td>1.000000</td>\n",
       "      <td>0.461511</td>\n",
       "    </tr>\n",
       "    <tr>\n",
       "      <th>label</th>\n",
       "      <td>-0.057739</td>\n",
       "      <td>-0.079465</td>\n",
       "      <td>0.218764</td>\n",
       "      <td>0.241342</td>\n",
       "      <td>0.264936</td>\n",
       "      <td>0.219534</td>\n",
       "      <td>0.348695</td>\n",
       "      <td>0.204205</td>\n",
       "      <td>0.131765</td>\n",
       "      <td>-0.119526</td>\n",
       "      <td>-0.091752</td>\n",
       "      <td>0.186561</td>\n",
       "      <td>0.289294</td>\n",
       "      <td>0.083232</td>\n",
       "      <td>0.461511</td>\n",
       "      <td>1.000000</td>\n",
       "    </tr>\n",
       "  </tbody>\n",
       "</table>\n",
       "</div>"
      ],
      "text/plain": [
       "                             image_id  media_id  image_source_total_num  \\\n",
       "image_id                     1.000000  0.058077               -0.127868   \n",
       "media_id                     0.058077  1.000000               -0.087051   \n",
       "image_source_total_num      -0.127868 -0.087051                1.000000   \n",
       "image_run_date_amount        0.019969 -0.191947                0.407907   \n",
       "image_create_role_pay_num   -0.049148 -0.152674                0.360583   \n",
       "image_create_role_num       -0.054589 -0.194643                0.339932   \n",
       "image_create_role_pay_sum   -0.031606 -0.116624                0.298037   \n",
       "image_source_num             0.080776 -0.238825                0.444651   \n",
       "image_create_role_pay_rate   0.028154  0.060769                0.009416   \n",
       "image_create_role_cost       0.257796 -0.021219               -0.136583   \n",
       "image_create_role_pay_cost   0.182819 -0.197751                0.084132   \n",
       "image_valid_source_rate     -0.150114  0.037256                0.045856   \n",
       "image_create_role_roi       -0.014123  0.012715                0.042137   \n",
       "image_create_role_retain_1d -0.045995  0.012718                0.007122   \n",
       "create_role_30_pay_sum      -0.024072 -0.125903                0.320107   \n",
       "label                       -0.057739 -0.079465                0.218764   \n",
       "\n",
       "                             image_run_date_amount  image_create_role_pay_num  \\\n",
       "image_id                                  0.019969                  -0.049148   \n",
       "media_id                                 -0.191947                  -0.152674   \n",
       "image_source_total_num                    0.407907                   0.360583   \n",
       "image_run_date_amount                     1.000000                   0.922488   \n",
       "image_create_role_pay_num                 0.922488                   1.000000   \n",
       "image_create_role_num                     0.854867                   0.865463   \n",
       "image_create_role_pay_sum                 0.702532                   0.747109   \n",
       "image_source_num                          0.590910                   0.498638   \n",
       "image_create_role_pay_rate                0.016610                   0.075514   \n",
       "image_create_role_cost                   -0.130951                  -0.164572   \n",
       "image_create_role_pay_cost                0.072996                  -0.107206   \n",
       "image_valid_source_rate                   0.103428                   0.235481   \n",
       "image_create_role_roi                     0.050749                   0.078721   \n",
       "image_create_role_retain_1d              -0.024656                  -0.010559   \n",
       "create_role_30_pay_sum                    0.629080                   0.632900   \n",
       "label                                     0.241342                   0.264936   \n",
       "\n",
       "                             image_create_role_num  image_create_role_pay_sum  \\\n",
       "image_id                                 -0.054589                  -0.031606   \n",
       "media_id                                 -0.194643                  -0.116624   \n",
       "image_source_total_num                    0.339932                   0.298037   \n",
       "image_run_date_amount                     0.854867                   0.702532   \n",
       "image_create_role_pay_num                 0.865463                   0.747109   \n",
       "image_create_role_num                     1.000000                   0.626355   \n",
       "image_create_role_pay_sum                 0.626355                   1.000000   \n",
       "image_source_num                          0.484996                   0.376942   \n",
       "image_create_role_pay_rate               -0.028855                   0.052272   \n",
       "image_create_role_cost                   -0.238119                  -0.100256   \n",
       "image_create_role_pay_cost               -0.011013                  -0.050882   \n",
       "image_valid_source_rate                   0.162196                   0.137371   \n",
       "image_create_role_roi                     0.046137                   0.326085   \n",
       "image_create_role_retain_1d              -0.060386                  -0.000629   \n",
       "create_role_30_pay_sum                    0.560911                   0.747396   \n",
       "label                                     0.219534                   0.348695   \n",
       "\n",
       "                             image_source_num  image_create_role_pay_rate  \\\n",
       "image_id                             0.080776                    0.028154   \n",
       "media_id                            -0.238825                    0.060769   \n",
       "image_source_total_num               0.444651                    0.009416   \n",
       "image_run_date_amount                0.590910                    0.016610   \n",
       "image_create_role_pay_num            0.498638                    0.075514   \n",
       "image_create_role_num                0.484996                   -0.028855   \n",
       "image_create_role_pay_sum            0.376942                    0.052272   \n",
       "image_source_num                     1.000000                   -0.004741   \n",
       "image_create_role_pay_rate          -0.004741                    1.000000   \n",
       "image_create_role_cost              -0.106480                    0.162029   \n",
       "image_create_role_pay_cost           0.163068                   -0.369130   \n",
       "image_valid_source_rate             -0.035237                    0.354611   \n",
       "image_create_role_roi                0.043757                    0.215070   \n",
       "image_create_role_retain_1d         -0.029202                    0.264853   \n",
       "create_role_30_pay_sum               0.354431                    0.032489   \n",
       "label                                0.204205                    0.131765   \n",
       "\n",
       "                             image_create_role_cost  \\\n",
       "image_id                                   0.257796   \n",
       "media_id                                  -0.021219   \n",
       "image_source_total_num                    -0.136583   \n",
       "image_run_date_amount                     -0.130951   \n",
       "image_create_role_pay_num                 -0.164572   \n",
       "image_create_role_num                     -0.238119   \n",
       "image_create_role_pay_sum                 -0.100256   \n",
       "image_source_num                          -0.106480   \n",
       "image_create_role_pay_rate                 0.162029   \n",
       "image_create_role_cost                     1.000000   \n",
       "image_create_role_pay_cost                 0.170682   \n",
       "image_valid_source_rate                   -0.177002   \n",
       "image_create_role_roi                     -0.031481   \n",
       "image_create_role_retain_1d                0.092621   \n",
       "create_role_30_pay_sum                    -0.094320   \n",
       "label                                     -0.119526   \n",
       "\n",
       "                             image_create_role_pay_cost  \\\n",
       "image_id                                       0.182819   \n",
       "media_id                                      -0.197751   \n",
       "image_source_total_num                         0.084132   \n",
       "image_run_date_amount                          0.072996   \n",
       "image_create_role_pay_num                     -0.107206   \n",
       "image_create_role_num                         -0.011013   \n",
       "image_create_role_pay_sum                     -0.050882   \n",
       "image_source_num                               0.163068   \n",
       "image_create_role_pay_rate                    -0.369130   \n",
       "image_create_role_cost                         0.170682   \n",
       "image_create_role_pay_cost                     1.000000   \n",
       "image_valid_source_rate                       -0.437237   \n",
       "image_create_role_roi                         -0.110917   \n",
       "image_create_role_retain_1d                   -0.145388   \n",
       "create_role_30_pay_sum                        -0.019777   \n",
       "label                                         -0.091752   \n",
       "\n",
       "                             image_valid_source_rate  image_create_role_roi  \\\n",
       "image_id                                   -0.150114              -0.014123   \n",
       "media_id                                    0.037256               0.012715   \n",
       "image_source_total_num                      0.045856               0.042137   \n",
       "image_run_date_amount                       0.103428               0.050749   \n",
       "image_create_role_pay_num                   0.235481               0.078721   \n",
       "image_create_role_num                       0.162196               0.046137   \n",
       "image_create_role_pay_sum                   0.137371               0.326085   \n",
       "image_source_num                           -0.035237               0.043757   \n",
       "image_create_role_pay_rate                  0.354611               0.215070   \n",
       "image_create_role_cost                     -0.177002              -0.031481   \n",
       "image_create_role_pay_cost                 -0.437237              -0.110917   \n",
       "image_valid_source_rate                     1.000000               0.121333   \n",
       "image_create_role_roi                       0.121333               1.000000   \n",
       "image_create_role_retain_1d                 0.085048               0.075310   \n",
       "create_role_30_pay_sum                      0.102133               0.169417   \n",
       "label                                       0.186561               0.289294   \n",
       "\n",
       "                             image_create_role_retain_1d  \\\n",
       "image_id                                       -0.045995   \n",
       "media_id                                        0.012718   \n",
       "image_source_total_num                          0.007122   \n",
       "image_run_date_amount                          -0.024656   \n",
       "image_create_role_pay_num                      -0.010559   \n",
       "image_create_role_num                          -0.060386   \n",
       "image_create_role_pay_sum                      -0.000629   \n",
       "image_source_num                               -0.029202   \n",
       "image_create_role_pay_rate                      0.264853   \n",
       "image_create_role_cost                          0.092621   \n",
       "image_create_role_pay_cost                     -0.145388   \n",
       "image_valid_source_rate                         0.085048   \n",
       "image_create_role_roi                           0.075310   \n",
       "image_create_role_retain_1d                     1.000000   \n",
       "create_role_30_pay_sum                          0.007593   \n",
       "label                                           0.083232   \n",
       "\n",
       "                             create_role_30_pay_sum     label  \n",
       "image_id                                  -0.024072 -0.057739  \n",
       "media_id                                  -0.125903 -0.079465  \n",
       "image_source_total_num                     0.320107  0.218764  \n",
       "image_run_date_amount                      0.629080  0.241342  \n",
       "image_create_role_pay_num                  0.632900  0.264936  \n",
       "image_create_role_num                      0.560911  0.219534  \n",
       "image_create_role_pay_sum                  0.747396  0.348695  \n",
       "image_source_num                           0.354431  0.204205  \n",
       "image_create_role_pay_rate                 0.032489  0.131765  \n",
       "image_create_role_cost                    -0.094320 -0.119526  \n",
       "image_create_role_pay_cost                -0.019777 -0.091752  \n",
       "image_valid_source_rate                    0.102133  0.186561  \n",
       "image_create_role_roi                      0.169417  0.289294  \n",
       "image_create_role_retain_1d                0.007593  0.083232  \n",
       "create_role_30_pay_sum                     1.000000  0.461511  \n",
       "label                                      0.461511  1.000000  "
      ]
     },
     "execution_count": 24,
     "metadata": {},
     "output_type": "execute_result"
    }
   ],
   "source": [
    "#多变量分析\n",
    "image_info_label.corr()"
   ]
  },
  {
   "cell_type": "code",
   "execution_count": 27,
   "metadata": {},
   "outputs": [],
   "source": [
    "#特征选择,woe分箱\n",
    "from scipy import stats\n",
    "def monoto_bin(Y, X, n = 20):\n",
    "    r = 0\n",
    "    total_bad = Y.sum()\n",
    "    total_good =Y.count()-total_bad  \n",
    "    while np.abs(r) < 0.9:\n",
    "        d1 = pd.DataFrame({\"X\": X, \"Y\": Y, \"Bucket\": pd.qcut(X, n,duplicates='raise')})\n",
    "        d2 = d1.groupby('Bucket', as_index = True)\n",
    "        r, p = stats.spearmanr(d2.mean().X, d2.mean().Y)\n",
    "        n = n - 1\n",
    "#     print(r)\n",
    "#     print(n)\n",
    "    d3 = pd.DataFrame(d2.min().X, columns = ['min_' + X.name])\n",
    "    d3['min_' + X.name] = d2.min().X\n",
    "    d3['max_' + X.name] = d2.max().X\n",
    "    d3[Y.name] = d2.sum().Y\n",
    "    d3['total'] = d2.count().Y\n",
    "    #d3[Y.name + '_rate'] = d2.mean().Y\n",
    "    d3['badattr']=d3[Y.name]/total_bad\n",
    "    d3['goodattr']=(d3['total']-d3[Y.name])/total_good\n",
    "    d3['woe'] = np.log(d3['goodattr']/d3['badattr'])\n",
    "    iv = ((d3['goodattr']-d3['badattr'])*d3['woe']).sum()\n",
    "    d4 = (d3.sort_values(by = 'min_' + X.name)).reset_index(drop = True)\n",
    "    print (\"=\" * 80)\n",
    "    cut = []\n",
    "    cut.append(float('-inf'))\n",
    "    for i in range(1,n+1):\n",
    "        qua =X.quantile(i/(n+1))\n",
    "        cut.append(round(qua,4))\n",
    "    cut.append(float('inf'))\n",
    "    woe = list(d4['woe'].round(3))\n",
    "    return d4,iv,cut,woe"
   ]
  },
  {
   "cell_type": "code",
   "execution_count": 28,
   "metadata": {},
   "outputs": [
    {
     "name": "stdout",
     "output_type": "stream",
     "text": [
      "================================================================================\n",
      "================================================================================\n"
     ]
    }
   ],
   "source": [
    "dfx1,ivx1,cutx1,woex1 = monoto_bin(image_info_label['label'],image_info_label['image_run_date_amount'],n=10)\n",
    "# dfx2,ivx2,cutx2,woex2 = monoto_bin(image_info_label['label'],image_info_label['image_create_role_pay_num'],n=10)\n",
    "dfx3,ivx3,cutx3,woex3 = monoto_bin(image_info_label['label'],image_info_label['image_create_role_num'],n=10)\n",
    "# dfx4,ivx4,cutx4,woex4 = monoto_bin(image_info_label['label'],image_info_label['image_create_role_pay_sum'],n=10)\n",
    "# dfx5,ivx5,cutx5,woex5 = monoto_bin(image_info_label['label'],image_info_label['image_source_num'],n=10)\n",
    "# dfx6,ivx6,cutx6,woex6 = monoto_bin(image_info_label['label'],image_info_label['image_create_role_pay_rate'],n=10)\n",
    "# dfx7,ivx7,cutx7,woex7 = monoto_bin(image_info_label['label'],image_info_label['image_create_role_cost'],n=10)\n",
    "# dfx8,ivx8,cutx8,woex8 = monoto_bin(image_info_label['label'],image_info_label['image_create_role_pay_cost'],n=10)\n",
    "# dfx9,ivx9,cutx9,woex9 = monoto_bin(image_info_label['label'],image_info_label['image_create_role_roi'],n=10)\n",
    "# dfx10,ivx10,cutx10,woex10 = monoto_bin(image_info_label['label'],image_info_label['image_create_role_retain_1d'],n=10)"
   ]
  },
  {
   "cell_type": "code",
   "execution_count": 29,
   "metadata": {},
   "outputs": [
    {
     "name": "stdout",
     "output_type": "stream",
     "text": [
      "[2.012, 1.665, 0.927, 0.764, 0.466, 0.248, -0.047, -0.321, -0.723, -1.566]\n"
     ]
    },
    {
     "data": {
      "image/png": "[encoded data removed]",
      "text/plain": [
       "<Figure size 432x288 with 1 Axes>"
      ]
     },
     "metadata": {
      "needs_background": "light"
     },
     "output_type": "display_data"
    },
    {
     "name": "stdout",
     "output_type": "stream",
     "text": [
      "[1.595, 1.068, 1.257, 0.688, 0.445, 0.226, 0.062, -0.453, -0.67, -1.496]\n"
     ]
    },
    {
     "data": {
      "image/png": "[encoded data removed]",
      "text/plain": [
       "<Figure size 432x288 with 1 Axes>"
      ]
     },
     "metadata": {
      "needs_background": "light"
     },
     "output_type": "display_data"
    }
   ],
   "source": [
    "woex = [woex1,woex3]\n",
    "for col in woex:\n",
    "    print('{}'.format(col))\n",
    "    plt.bar(range(len(col)),col)\n",
    "    plt.show()"
   ]
  },
  {
   "cell_type": "code",
   "execution_count": 30,
   "metadata": {},
   "outputs": [],
   "source": [
    "def self_bin(Y, X, bin):\n",
    "    r = 0\n",
    "    total_bad = Y.sum()\n",
    "    total_good =Y.count()-total_bad  \n",
    "    d1 = pd.DataFrame({\"X\": X, \"Y\": Y, \"Bucket\": pd.cut(X, bin)})\n",
    "    d2 = d1.groupby('Bucket', as_index = True)\n",
    "    r, p = stats.spearmanr(d2.mean().X, d2.mean().Y)\n",
    "        \n",
    "    d3 = pd.DataFrame(d2.min().X, columns = ['min_' + X.name])\n",
    "    d3['min_' + X.name] = d2.min().X\n",
    "    d3['max_' + X.name] = d2.max().X\n",
    "    d3[Y.name] = d2.sum().Y\n",
    "    d3['total'] = d2.count().Y\n",
    "    #d3[Y.name + '_rate'] = d2.mean().Y\n",
    "    #好坏比，求woe,证据权重，自变量对目标变量有没有影响，什么影响\n",
    "    d3['badattr']=d3[Y.name]/total_bad\n",
    "    d3['goodattr']=(d3['total']-d3[Y.name])/total_good\n",
    "    d3['woe'] = np.log(d3['goodattr']/d3['badattr'])\n",
    "    #iv，信息值，自变量对于目标变量的影响程度\n",
    "    iv = ((d3['goodattr']-d3['badattr'])*d3['woe']).sum()\n",
    "    d4 = (d3.sort_values(by = 'min_' + X.name)).reset_index(drop = True)\n",
    "    print (\"=\" * 80)\n",
    "#     print (d4)\n",
    "    woe = list(d4['woe'].round(3))\n",
    "    return d4,iv,woe"
   ]
  },
  {
   "cell_type": "code",
   "execution_count": 31,
   "metadata": {},
   "outputs": [],
   "source": [
    "pinf = float('inf')#正无穷大\n",
    "ninf = float('-inf')#负无穷大\n",
    "cutx2 = [ninf, 1, 3, 8, 12,50,pinf]\n",
    "cutx4 = [ninf,60,100,300,600,1000,4000,pinf]\n",
    "cutx5 = [ninf,1,3,6,10,50,pinf]\n",
    "cutx6 = [ninf,0.01,0.025,0.05,0.075,pinf]\n",
    "cutx7 = [ninf, 50,100,150,200,300,400,pinf]\n",
    "cutx8 = [ninf, 2000,3000,4000,6000,8000,10000,pinf]\n",
    "cutx9 = [ninf, 0.01, 0.02, 0.03, 0.05,pinf]\n",
    "cutx10 = [ninf, 0.1, 0.2, 0.3, 0.4,0.6, pinf]"
   ]
  },
  {
   "cell_type": "code",
   "execution_count": 32,
   "metadata": {},
   "outputs": [
    {
     "name": "stdout",
     "output_type": "stream",
     "text": [
      "================================================================================\n",
      "================================================================================\n",
      "================================================================================\n",
      "================================================================================\n",
      "================================================================================\n",
      "================================================================================\n",
      "================================================================================\n",
      "================================================================================\n"
     ]
    }
   ],
   "source": [
    "dfx2,ivx2,woex2 = self_bin(image_info_label['label'],image_info_label['image_create_role_pay_num'],cutx2)\n",
    "dfx4,ivx4,woex4 = self_bin(image_info_label['label'],image_info_label['image_create_role_pay_sum'],cutx4)\n",
    "dfx5,ivx5,woex5 = self_bin(image_info_label['label'],image_info_label['image_source_num'],cutx5)\n",
    "dfx6,ivx6,woex6 = self_bin(image_info_label['label'],image_info_label['image_create_role_pay_rate'],cutx6)\n",
    "dfx7,ivx7,woex7 = self_bin(image_info_label['label'],image_info_label['image_create_role_cost'],cutx7)\n",
    "dfx8,ivx8,woex8 = self_bin(image_info_label['label'],image_info_label['image_create_role_pay_cost'],cutx8)\n",
    "dfx9,ivx9,woex9 = self_bin(image_info_label['label'],image_info_label['image_create_role_roi'],cutx9)\n",
    "dfx10,ivx10,woex10 = self_bin(image_info_label['label'],image_info_label['image_create_role_retain_1d'],cutx10)\n",
    "# dfx11,ivx11,woex11 = self_bin(image_info_label['label'],image_info_label['image_pay_num_ability'],cutx11)\n",
    "# dfx12,ivx12,woex12 = self_bin(image_info_label['label'],image_info_label['image_create_role_roi'],cutx12)"
   ]
  },
  {
   "cell_type": "code",
   "execution_count": 33,
   "metadata": {},
   "outputs": [
    {
     "name": "stdout",
     "output_type": "stream",
     "text": [
      "woex1 = [2.012, 1.665, 0.927, 0.764, 0.466, 0.248, -0.047, -0.321, -0.723, -1.566]\n",
      "woex2 = [0.937, -0.266, -0.626, -0.994, -1.466, -2.102]\n",
      "woex3 = [1.595, 1.068, 1.257, 0.688, 0.445, 0.226, 0.062, -0.453, -0.67, -1.496]\n",
      "woex4 = [0.917, -0.121, -0.492, -0.979, -1.43, -2.153, -3.708]\n",
      "woex5 = [0.901, 0.42, -0.126, -0.546, -1.38, -0.571]\n",
      "woex6 = [1.467, -0.445, -0.711, -0.548, -0.445]\n",
      "woex7 = [-0.039, -0.228, -0.141, 0.243, 0.531, 0.447, 1.413]\n",
      "woex8 = [-0.643, -0.693, -0.443, -0.163, -0.073, 0.142, 1.493]\n",
      "woex9 = [0.87, -0.456, -1.116, -1.227, -2.546]\n",
      "woex10 = [2.245, -0.072, -0.394, 0.198, 0.467, 0.598]\n"
     ]
    }
   ],
   "source": [
    "for i in range(1,11):\n",
    "    exec(\"print('woex%s =',woex%s)\"%(i,i))"
   ]
  },
  {
   "cell_type": "code",
   "execution_count": 34,
   "metadata": {},
   "outputs": [
    {
     "name": "stdout",
     "output_type": "stream",
     "text": [
      "cutx1 = [-inf, 742.463, 1105.334, 1610.757, 2273.152, 3238.2, 4673.76, 7056.311, 11336.862, 24337.58, inf]\n",
      "cutx2 = [-inf, 1, 3, 8, 12, 50, inf]\n",
      "cutx3 = [-inf, 4.3, 8.0, 13.0, 20.0, 30.0, 46.0, 75.0, 131.0, 305.0, inf]\n",
      "cutx4 = [-inf, 60, 100, 300, 600, 1000, 4000, inf]\n",
      "cutx5 = [-inf, 1, 3, 6, 10, 50, inf]\n",
      "cutx6 = [-inf, 0.01, 0.025, 0.05, 0.075, inf]\n",
      "cutx7 = [-inf, 50, 100, 150, 200, 300, 400, inf]\n",
      "cutx8 = [-inf, 2000, 3000, 4000, 6000, 8000, 10000, inf]\n",
      "cutx9 = [-inf, 0.01, 0.02, 0.03, 0.05, inf]\n",
      "cutx10 = [-inf, 0.1, 0.2, 0.3, 0.4, 0.6, inf]\n"
     ]
    }
   ],
   "source": [
    "for i in range(1,11):\n",
    "    exec(\"print('cutx%s =',cutx%s)\"%(i,i))"
   ]
  },
  {
   "cell_type": "code",
   "execution_count": 35,
   "metadata": {
    "scrolled": true
   },
   "outputs": [
    {
     "data": {
      "text/plain": [
       "count    13524.000000\n",
       "mean         0.012523\n",
       "std          0.041431\n",
       "min          0.000000\n",
       "25%          0.000000\n",
       "50%          0.001733\n",
       "75%          0.011667\n",
       "max          1.800923\n",
       "Name: image_create_role_roi, dtype: float64"
      ]
     },
     "execution_count": 35,
     "metadata": {},
     "output_type": "execute_result"
    }
   ],
   "source": [
    "image_info_label['image_create_role_roi'].describe()"
   ]
  },
  {
   "cell_type": "code",
   "execution_count": 36,
   "metadata": {},
   "outputs": [
    {
     "data": {
      "image/png": "[encoded data removed]",
      "text/plain": [
       "<Figure size 432x288 with 1 Axes>"
      ]
     },
     "metadata": {
      "needs_background": "light"
     },
     "output_type": "display_data"
    }
   ],
   "source": [
    "plt.hist(image_info_label['image_create_role_roi'],bins=50,range=(0,0.3))\n",
    "plt.show()"
   ]
  },
  {
   "cell_type": "code",
   "execution_count": 37,
   "metadata": {},
   "outputs": [
    {
     "name": "stdout",
     "output_type": "stream",
     "text": [
      "[2.012, 1.665, 0.927, 0.764, 0.466, 0.248, -0.047, -0.321, -0.723, -1.566]\n"
     ]
    },
    {
     "data": {
      "image/png": "[encoded data removed]",
      "text/plain": [
       "<Figure size 432x288 with 1 Axes>"
      ]
     },
     "metadata": {
      "needs_background": "light"
     },
     "output_type": "display_data"
    },
    {
     "name": "stdout",
     "output_type": "stream",
     "text": [
      "[0.937, -0.266, -0.626, -0.994, -1.466, -2.102]\n"
     ]
    },
    {
     "data": {
      "image/png": "[encoded data removed]",
      "text/plain": [
       "<Figure size 432x288 with 1 Axes>"
      ]
     },
     "metadata": {
      "needs_background": "light"
     },
     "output_type": "display_data"
    },
    {
     "name": "stdout",
     "output_type": "stream",
     "text": [
      "[1.595, 1.068, 1.257, 0.688, 0.445, 0.226, 0.062, -0.453, -0.67, -1.496]\n"
     ]
    },
    {
     "data": {
      "image/png": "[encoded data removed]",
      "text/plain": [
       "<Figure size 432x288 with 1 Axes>"
      ]
     },
     "metadata": {
      "needs_background": "light"
     },
     "output_type": "display_data"
    },
    {
     "name": "stdout",
     "output_type": "stream",
     "text": [
      "[0.917, -0.121, -0.492, -0.979, -1.43, -2.153, -3.708]\n"
     ]
    },
    {
     "data": {
      "image/png": "[encoded data removed]",
      "text/plain": [
       "<Figure size 432x288 with 1 Axes>"
      ]
     },
     "metadata": {
      "needs_background": "light"
     },
     "output_type": "display_data"
    },
    {
     "name": "stdout",
     "output_type": "stream",
     "text": [
      "[0.901, 0.42, -0.126, -0.546, -1.38, -0.571]\n"
     ]
    },
    {
     "data": {
      "image/png": "[encoded data removed]",
      "text/plain": [
       "<Figure size 432x288 with 1 Axes>"
      ]
     },
     "metadata": {
      "needs_background": "light"
     },
     "output_type": "display_data"
    },
    {
     "name": "stdout",
     "output_type": "stream",
     "text": [
      "[1.467, -0.445, -0.711, -0.548, -0.445]\n"
     ]
    },
    {
     "data": {
      "image/png": "[encoded data removed]",
      "text/plain": [
       "<Figure size 432x288 with 1 Axes>"
      ]
     },
     "metadata": {
      "needs_background": "light"
     },
     "output_type": "display_data"
    },
    {
     "name": "stdout",
     "output_type": "stream",
     "text": [
      "[-0.039, -0.228, -0.141, 0.243, 0.531, 0.447, 1.413]\n"
     ]
    },
    {
     "data": {
      "image/png": "[encoded data removed]",
      "text/plain": [
       "<Figure size 432x288 with 1 Axes>"
      ]
     },
     "metadata": {
      "needs_background": "light"
     },
     "output_type": "display_data"
    },
    {
     "name": "stdout",
     "output_type": "stream",
     "text": [
      "[-0.643, -0.693, -0.443, -0.163, -0.073, 0.142, 1.493]\n"
     ]
    },
    {
     "data": {
      "image/png": "[encoded data removed]",
      "text/plain": [
       "<Figure size 432x288 with 1 Axes>"
      ]
     },
     "metadata": {
      "needs_background": "light"
     },
     "output_type": "display_data"
    },
    {
     "name": "stdout",
     "output_type": "stream",
     "text": [
      "[0.87, -0.456, -1.116, -1.227, -2.546]\n"
     ]
    },
    {
     "data": {
      "image/png": "[encoded data removed]",
      "text/plain": [
       "<Figure size 432x288 with 1 Axes>"
      ]
     },
     "metadata": {
      "needs_background": "light"
     },
     "output_type": "display_data"
    },
    {
     "name": "stdout",
     "output_type": "stream",
     "text": [
      "[2.245, -0.072, -0.394, 0.198, 0.467, 0.598]\n"
     ]
    },
    {
     "data": {
      "image/png": "[encoded data removed]",
      "text/plain": [
       "<Figure size 432x288 with 1 Axes>"
      ]
     },
     "metadata": {
      "needs_background": "light"
     },
     "output_type": "display_data"
    }
   ],
   "source": [
    "woex = [woex1,woex2,woex3,woex4,woex5,woex6,woex7,woex8,woex9,woex10]\n",
    "for col in woex:\n",
    "    print('{}'.format(col))\n",
    "    plt.bar(range(len(col)),col)\n",
    "    plt.show()"
   ]
  },
  {
   "cell_type": "code",
   "execution_count": 38,
   "metadata": {},
   "outputs": [
    {
     "data": {
      "image/png": "[encoded data removed]",
      "text/plain": [
       "<Figure size 1440x576 with 1 Axes>"
      ]
     },
     "metadata": {
      "needs_background": "light"
     },
     "output_type": "display_data"
    }
   ],
   "source": [
    "y=[ivx1,ivx2,ivx3,ivx4,ivx5,ivx6,ivx7,ivx8,ivx9,ivx10]\n",
    "index=['image_run_date_amount', 'image_create_role_pay_num',\n",
    "       'image_create_role_num', 'image_create_role_pay_sum',\n",
    "       'image_source_num', 'image_create_role_pay_rate',\n",
    "       'image_create_role_cost', 'image_create_role_pay_cost',\n",
    "       'image_create_role_roi','image_create_role_retain_1d']\n",
    "fig= plt.figure(figsize = (20,8))\n",
    "ax1 = fig.add_subplot(1, 1, 1)\n",
    "ax1.bar(range(1,11), y, width=0.4,color = 'r',alpha = 0.6)#生成柱状图\n",
    "ax1.set_xticks(range(1,14))\n",
    "ax1.set_xticklabels(index, rotation=90, fontsize=12)\n",
    "ax1.set_ylabel('IV', fontsize=14)\n",
    "#在柱状图上添加数字标签\n",
    "for i, v in enumerate(y):\n",
    "    plt.text(i+1, v+0.01, '%.4f' % v, ha='center', va='bottom', fontsize=12)\n",
    "plt.show()"
   ]
  },
  {
   "cell_type": "code",
   "execution_count": 34,
   "metadata": {},
   "outputs": [],
   "source": [
    "\"\"\"\n",
    "根据IV值判断变量预测能力的标准:\n",
    "< 0.02： useless for predition\n",
    "0.02-0.1： weak predictor\n",
    "0.1-0.3： medium predictor\n",
    "0.3-0.5： strong predictor\n",
    "大于0.5： suspicious or too good to be true\n",
    "\"\"\"\n",
    "#删除掉iv小于0.1的变量\n",
    "select_feature = ['image_run_date_amount', 'image_create_role_pay_num',\n",
    "       'image_create_role_num', 'image_create_role_pay_sum',\n",
    "       'image_source_num', 'image_create_role_pay_rate',\n",
    "       'image_create_role_cost', 'image_create_role_pay_cost',\n",
    "       'image_create_role_roi', 'label']"
   ]
  },
  {
   "cell_type": "code",
   "execution_count": 40,
   "metadata": {},
   "outputs": [
    {
     "data": {
      "text/plain": [
       "10"
      ]
     },
     "execution_count": 40,
     "metadata": {},
     "output_type": "execute_result"
    }
   ],
   "source": [
    "len(select_feature)"
   ]
  },
  {
   "cell_type": "code",
   "execution_count": 25,
   "metadata": {},
   "outputs": [],
   "source": [
    "def change_woe(d,cut,woe):\n",
    "    \"\"\"\n",
    "    将每个样本对应特征值更换为woe值\n",
    "    \"\"\"\n",
    "    list1=[]\n",
    "    i=0\n",
    "    while i<len(d):\n",
    "        value=d.values[i]\n",
    "        j=len(cut)-2\n",
    "        m=len(cut)-2\n",
    "        while j>=0:\n",
    "            if value>=cut[j]:\n",
    "                j=-1\n",
    "            else:\n",
    "                j -=1\n",
    "                m -= 1\n",
    "        list1.append(woe[m])\n",
    "        i += 1\n",
    "    return list1"
   ]
  },
  {
   "cell_type": "code",
   "execution_count": 26,
   "metadata": {},
   "outputs": [],
   "source": [
    "image_info_change = image_info_label.copy()"
   ]
  },
  {
   "cell_type": "code",
   "execution_count": 27,
   "metadata": {},
   "outputs": [
    {
     "data": {
      "text/plain": [
       "(39879, 19)"
      ]
     },
     "execution_count": 27,
     "metadata": {},
     "output_type": "execute_result"
    }
   ],
   "source": [
    "image_info_change.shape"
   ]
  },
  {
   "cell_type": "code",
   "execution_count": 28,
   "metadata": {},
   "outputs": [],
   "source": [
    "pinf = float('inf')#正无穷大\n",
    "ninf = float('-inf')#负无穷大\n",
    "woex1 = [2.012, 1.665, 0.927, 0.764, 0.466, 0.248, -0.047, -0.321, -0.723, -1.566]\n",
    "woex2 = [0.937, -0.266, -0.626, -0.994, -1.466, -2.102]\n",
    "woex3 = [1.595, 1.068, 1.257, 0.688, 0.445, 0.226, 0.062, -0.453, -0.67, -1.496]\n",
    "woex4 = [0.917, -0.121, -0.492, -0.979, -1.43, -2.153, -3.708]\n",
    "woex5 = [0.901, 0.42, -0.126, -0.546, -1.38, -0.571]\n",
    "woex6 = [1.467, -0.445, -0.711, -0.548, -0.445]\n",
    "woex7 = [-0.039, -0.228, -0.141, 0.243, 0.531, 0.447, 1.413]\n",
    "woex8 = [-0.643, -0.693, -0.443, -0.163, -0.073, 0.142, 1.493]\n",
    "woex9 = [0.87, -0.456, -1.116, -1.227, -2.546]\n",
    "woex10 = [2.245, -0.072, -0.394, 0.198, 0.467, 0.598]\n",
    "cutx1 = [ninf, 742.463, 1105.334, 1610.757, 2273.152, 3238.2, 4673.76, 7056.311, 11336.862, 24337.58, pinf]\n",
    "cutx2 = [ninf, 1, 3, 8, 12, 50, pinf]\n",
    "cutx3 = [ninf, 4.3, 8.0, 13.0, 20.0, 30.0, 46.0, 75.0, 131.0, 305.0, pinf]\n",
    "cutx4 = [ninf, 60, 100, 300, 600, 1000, 4000, pinf]\n",
    "cutx5 = [ninf, 1, 3, 6, 10, 50, pinf]\n",
    "cutx6 = [ninf, 0.01, 0.025, 0.05, 0.075, pinf]\n",
    "cutx7 = [ninf, 50, 100, 150, 200, 300, 400, pinf]\n",
    "cutx8 = [ninf, 2000, 3000, 4000, 6000, 8000, 10000, pinf]\n",
    "cutx9 = [ninf, 0.01, 0.02, 0.03, 0.05, pinf]\n",
    "cutx10 = [ninf, 0.1, 0.2, 0.3, 0.4, 0.6, pinf]"
   ]
  },
  {
   "cell_type": "code",
   "execution_count": 29,
   "metadata": {},
   "outputs": [],
   "source": [
    "#数据转化\n",
    "image_info_change['image_run_date_amount'] = change_woe(image_info_change['image_run_date_amount'], cutx1, woex1)\n",
    "image_info_change['image_create_role_pay_num'] = change_woe(image_info_change['image_create_role_pay_num'], cutx2, woex2)\n",
    "image_info_change['image_create_role_num'] = change_woe(image_info_change['image_create_role_num'], cutx3, woex3)\n",
    "image_info_change['image_create_role_pay_sum'] = change_woe(image_info_change['image_create_role_pay_sum'], cutx4, woex4)\n",
    "image_info_change['image_source_num'] = change_woe(image_info_change['image_source_num'], cutx5, woex5)\n",
    "image_info_change['image_create_role_pay_rate'] = change_woe(image_info_change['image_create_role_pay_rate'], cutx6, woex6)\n",
    "image_info_change['image_create_role_cost'] = change_woe(image_info_change['image_create_role_cost'], cutx7, woex7)\n",
    "image_info_change['image_create_role_pay_cost'] = change_woe(image_info_change['image_create_role_pay_cost'], cutx8, woex8)\n",
    "image_info_change['image_create_role_roi'] = change_woe(image_info_change['image_create_role_roi'], cutx9, woex9)\n",
    "image_info_change['image_create_role_retain_1d'] = change_woe(image_info_change['image_create_role_retain_1d'], cutx10, woex10)"
   ]
  },
  {
   "cell_type": "code",
   "execution_count": 30,
   "metadata": {},
   "outputs": [
    {
     "data": {
      "text/plain": [
       "(39879, 19)"
      ]
     },
     "execution_count": 30,
     "metadata": {},
     "output_type": "execute_result"
    }
   ],
   "source": [
    "image_info_change.shape"
   ]
  },
  {
   "cell_type": "code",
   "execution_count": 31,
   "metadata": {},
   "outputs": [
    {
     "data": {
      "text/html": [
       "<div>\n",
       "<style scoped>\n",
       "    .dataframe tbody tr th:only-of-type {\n",
       "        vertical-align: middle;\n",
       "    }\n",
       "\n",
       "    .dataframe tbody tr th {\n",
       "        vertical-align: top;\n",
       "    }\n",
       "\n",
       "    .dataframe thead th {\n",
       "        text-align: right;\n",
       "    }\n",
       "</style>\n",
       "<table border=\"1\" class=\"dataframe\">\n",
       "  <thead>\n",
       "    <tr style=\"text-align: right;\">\n",
       "      <th></th>\n",
       "      <th>image_id</th>\n",
       "      <th>image_name</th>\n",
       "      <th>media_id</th>\n",
       "      <th>image_launch_time</th>\n",
       "      <th>image_source_total_num</th>\n",
       "      <th>image_run_date_amount</th>\n",
       "      <th>image_create_role_pay_num</th>\n",
       "      <th>image_create_role_num</th>\n",
       "      <th>image_create_role_pay_sum</th>\n",
       "      <th>image_source_num</th>\n",
       "      <th>image_create_role_pay_rate</th>\n",
       "      <th>image_create_role_cost</th>\n",
       "      <th>image_create_role_pay_cost</th>\n",
       "      <th>image_valid_source_rate</th>\n",
       "      <th>image_create_role_roi</th>\n",
       "      <th>image_create_role_retain_1d</th>\n",
       "      <th>create_role_30_pay_sum</th>\n",
       "      <th>model_run_datetime</th>\n",
       "      <th>label</th>\n",
       "    </tr>\n",
       "  </thead>\n",
       "  <tbody>\n",
       "    <tr>\n",
       "      <th>0</th>\n",
       "      <td>20873</td>\n",
       "      <td>ZDZL855-竖版xy</td>\n",
       "      <td>10</td>\n",
       "      <td>2020-12-31</td>\n",
       "      <td>2.0</td>\n",
       "      <td>0.764</td>\n",
       "      <td>-0.266</td>\n",
       "      <td>0.445</td>\n",
       "      <td>0.917</td>\n",
       "      <td>0.42</td>\n",
       "      <td>-0.711</td>\n",
       "      <td>-0.228</td>\n",
       "      <td>-0.643</td>\n",
       "      <td>1.0</td>\n",
       "      <td>0.870</td>\n",
       "      <td>2.245</td>\n",
       "      <td>9.0</td>\n",
       "      <td>2021-01-01</td>\n",
       "      <td>0</td>\n",
       "    </tr>\n",
       "    <tr>\n",
       "      <th>1</th>\n",
       "      <td>24141</td>\n",
       "      <td>ZDZL1195-横版JL</td>\n",
       "      <td>10</td>\n",
       "      <td>2020-12-30</td>\n",
       "      <td>2.0</td>\n",
       "      <td>-0.321</td>\n",
       "      <td>-0.626</td>\n",
       "      <td>-0.670</td>\n",
       "      <td>-0.492</td>\n",
       "      <td>0.42</td>\n",
       "      <td>-0.445</td>\n",
       "      <td>-0.039</td>\n",
       "      <td>-0.693</td>\n",
       "      <td>0.0</td>\n",
       "      <td>-0.456</td>\n",
       "      <td>-0.072</td>\n",
       "      <td>154.0</td>\n",
       "      <td>2021-01-01</td>\n",
       "      <td>0</td>\n",
       "    </tr>\n",
       "    <tr>\n",
       "      <th>3</th>\n",
       "      <td>28021</td>\n",
       "      <td>QMZT016-CHL</td>\n",
       "      <td>16</td>\n",
       "      <td>2020-12-30</td>\n",
       "      <td>1.0</td>\n",
       "      <td>2.012</td>\n",
       "      <td>-0.266</td>\n",
       "      <td>1.595</td>\n",
       "      <td>0.917</td>\n",
       "      <td>0.42</td>\n",
       "      <td>-0.445</td>\n",
       "      <td>0.243</td>\n",
       "      <td>-0.643</td>\n",
       "      <td>1.0</td>\n",
       "      <td>-0.456</td>\n",
       "      <td>-0.394</td>\n",
       "      <td>6.0</td>\n",
       "      <td>2021-01-01</td>\n",
       "      <td>0</td>\n",
       "    </tr>\n",
       "    <tr>\n",
       "      <th>4</th>\n",
       "      <td>28022</td>\n",
       "      <td>QMZT017-CHL</td>\n",
       "      <td>16</td>\n",
       "      <td>2020-12-30</td>\n",
       "      <td>1.0</td>\n",
       "      <td>2.012</td>\n",
       "      <td>0.937</td>\n",
       "      <td>1.595</td>\n",
       "      <td>0.917</td>\n",
       "      <td>0.42</td>\n",
       "      <td>1.467</td>\n",
       "      <td>0.447</td>\n",
       "      <td>1.493</td>\n",
       "      <td>0.0</td>\n",
       "      <td>0.870</td>\n",
       "      <td>2.245</td>\n",
       "      <td>0.0</td>\n",
       "      <td>2021-01-01</td>\n",
       "      <td>0</td>\n",
       "    </tr>\n",
       "    <tr>\n",
       "      <th>5</th>\n",
       "      <td>28043</td>\n",
       "      <td>QMZZ001-横版Z-960x540 ＜100mb 6-30S</td>\n",
       "      <td>16</td>\n",
       "      <td>2020-12-25</td>\n",
       "      <td>10.0</td>\n",
       "      <td>1.665</td>\n",
       "      <td>0.937</td>\n",
       "      <td>1.257</td>\n",
       "      <td>0.917</td>\n",
       "      <td>0.42</td>\n",
       "      <td>1.467</td>\n",
       "      <td>-0.228</td>\n",
       "      <td>1.493</td>\n",
       "      <td>0.0</td>\n",
       "      <td>0.870</td>\n",
       "      <td>-0.394</td>\n",
       "      <td>0.0</td>\n",
       "      <td>2021-01-01</td>\n",
       "      <td>0</td>\n",
       "    </tr>\n",
       "  </tbody>\n",
       "</table>\n",
       "</div>"
      ],
      "text/plain": [
       "   image_id                        image_name  media_id image_launch_time  \\\n",
       "0     20873                      ZDZL855-竖版xy        10        2020-12-31   \n",
       "1     24141                     ZDZL1195-横版JL        10        2020-12-30   \n",
       "3     28021                       QMZT016-CHL        16        2020-12-30   \n",
       "4     28022                       QMZT017-CHL        16        2020-12-30   \n",
       "5     28043  QMZZ001-横版Z-960x540 ＜100mb 6-30S        16        2020-12-25   \n",
       "\n",
       "   image_source_total_num  image_run_date_amount  image_create_role_pay_num  \\\n",
       "0                     2.0                  0.764                     -0.266   \n",
       "1                     2.0                 -0.321                     -0.626   \n",
       "3                     1.0                  2.012                     -0.266   \n",
       "4                     1.0                  2.012                      0.937   \n",
       "5                    10.0                  1.665                      0.937   \n",
       "\n",
       "   image_create_role_num  image_create_role_pay_sum  image_source_num  \\\n",
       "0                  0.445                      0.917              0.42   \n",
       "1                 -0.670                     -0.492              0.42   \n",
       "3                  1.595                      0.917              0.42   \n",
       "4                  1.595                      0.917              0.42   \n",
       "5                  1.257                      0.917              0.42   \n",
       "\n",
       "   image_create_role_pay_rate  image_create_role_cost  \\\n",
       "0                      -0.711                  -0.228   \n",
       "1                      -0.445                  -0.039   \n",
       "3                      -0.445                   0.243   \n",
       "4                       1.467                   0.447   \n",
       "5                       1.467                  -0.228   \n",
       "\n",
       "   image_create_role_pay_cost  image_valid_source_rate  image_create_role_roi  \\\n",
       "0                      -0.643                      1.0                  0.870   \n",
       "1                      -0.693                      0.0                 -0.456   \n",
       "3                      -0.643                      1.0                 -0.456   \n",
       "4                       1.493                      0.0                  0.870   \n",
       "5                       1.493                      0.0                  0.870   \n",
       "\n",
       "   image_create_role_retain_1d  create_role_30_pay_sum model_run_datetime  \\\n",
       "0                        2.245                     9.0         2021-01-01   \n",
       "1                       -0.072                   154.0         2021-01-01   \n",
       "3                       -0.394                     6.0         2021-01-01   \n",
       "4                        2.245                     0.0         2021-01-01   \n",
       "5                       -0.394                     0.0         2021-01-01   \n",
       "\n",
       "   label  \n",
       "0      0  \n",
       "1      0  \n",
       "3      0  \n",
       "4      0  \n",
       "5      0  "
      ]
     },
     "execution_count": 31,
     "metadata": {},
     "output_type": "execute_result"
    }
   ],
   "source": [
    "image_info_change.head()"
   ]
  },
  {
   "cell_type": "code",
   "execution_count": 32,
   "metadata": {},
   "outputs": [],
   "source": [
    "image_info_change.to_csv('./image_info_change.csv',index=0)"
   ]
  },
  {
   "cell_type": "code",
   "execution_count": 35,
   "metadata": {},
   "outputs": [],
   "source": [
    "data_info = image_info_change[select_feature]"
   ]
  },
  {
   "cell_type": "code",
   "execution_count": 36,
   "metadata": {},
   "outputs": [
    {
     "data": {
      "text/plain": [
       "(39879, 10)"
      ]
     },
     "execution_count": 36,
     "metadata": {},
     "output_type": "execute_result"
    }
   ],
   "source": [
    "data_info.shape"
   ]
  },
  {
   "cell_type": "code",
   "execution_count": 37,
   "metadata": {},
   "outputs": [
    {
     "data": {
      "text/html": [
       "<div>\n",
       "<style scoped>\n",
       "    .dataframe tbody tr th:only-of-type {\n",
       "        vertical-align: middle;\n",
       "    }\n",
       "\n",
       "    .dataframe tbody tr th {\n",
       "        vertical-align: top;\n",
       "    }\n",
       "\n",
       "    .dataframe thead th {\n",
       "        text-align: right;\n",
       "    }\n",
       "</style>\n",
       "<table border=\"1\" class=\"dataframe\">\n",
       "  <thead>\n",
       "    <tr style=\"text-align: right;\">\n",
       "      <th></th>\n",
       "      <th>image_run_date_amount</th>\n",
       "      <th>image_create_role_pay_num</th>\n",
       "      <th>image_create_role_num</th>\n",
       "      <th>image_create_role_pay_sum</th>\n",
       "      <th>image_source_num</th>\n",
       "      <th>image_create_role_pay_rate</th>\n",
       "      <th>image_create_role_cost</th>\n",
       "      <th>image_create_role_pay_cost</th>\n",
       "      <th>image_create_role_roi</th>\n",
       "      <th>label</th>\n",
       "    </tr>\n",
       "  </thead>\n",
       "  <tbody>\n",
       "    <tr>\n",
       "      <th>0</th>\n",
       "      <td>0.764</td>\n",
       "      <td>-0.266</td>\n",
       "      <td>0.445</td>\n",
       "      <td>0.917</td>\n",
       "      <td>0.42</td>\n",
       "      <td>-0.711</td>\n",
       "      <td>-0.228</td>\n",
       "      <td>-0.643</td>\n",
       "      <td>0.870</td>\n",
       "      <td>0</td>\n",
       "    </tr>\n",
       "    <tr>\n",
       "      <th>1</th>\n",
       "      <td>-0.321</td>\n",
       "      <td>-0.626</td>\n",
       "      <td>-0.670</td>\n",
       "      <td>-0.492</td>\n",
       "      <td>0.42</td>\n",
       "      <td>-0.445</td>\n",
       "      <td>-0.039</td>\n",
       "      <td>-0.693</td>\n",
       "      <td>-0.456</td>\n",
       "      <td>0</td>\n",
       "    </tr>\n",
       "    <tr>\n",
       "      <th>3</th>\n",
       "      <td>2.012</td>\n",
       "      <td>-0.266</td>\n",
       "      <td>1.595</td>\n",
       "      <td>0.917</td>\n",
       "      <td>0.42</td>\n",
       "      <td>-0.445</td>\n",
       "      <td>0.243</td>\n",
       "      <td>-0.643</td>\n",
       "      <td>-0.456</td>\n",
       "      <td>0</td>\n",
       "    </tr>\n",
       "    <tr>\n",
       "      <th>4</th>\n",
       "      <td>2.012</td>\n",
       "      <td>0.937</td>\n",
       "      <td>1.595</td>\n",
       "      <td>0.917</td>\n",
       "      <td>0.42</td>\n",
       "      <td>1.467</td>\n",
       "      <td>0.447</td>\n",
       "      <td>1.493</td>\n",
       "      <td>0.870</td>\n",
       "      <td>0</td>\n",
       "    </tr>\n",
       "    <tr>\n",
       "      <th>5</th>\n",
       "      <td>1.665</td>\n",
       "      <td>0.937</td>\n",
       "      <td>1.257</td>\n",
       "      <td>0.917</td>\n",
       "      <td>0.42</td>\n",
       "      <td>1.467</td>\n",
       "      <td>-0.228</td>\n",
       "      <td>1.493</td>\n",
       "      <td>0.870</td>\n",
       "      <td>0</td>\n",
       "    </tr>\n",
       "  </tbody>\n",
       "</table>\n",
       "</div>"
      ],
      "text/plain": [
       "   image_run_date_amount  image_create_role_pay_num  image_create_role_num  \\\n",
       "0                  0.764                     -0.266                  0.445   \n",
       "1                 -0.321                     -0.626                 -0.670   \n",
       "3                  2.012                     -0.266                  1.595   \n",
       "4                  2.012                      0.937                  1.595   \n",
       "5                  1.665                      0.937                  1.257   \n",
       "\n",
       "   image_create_role_pay_sum  image_source_num  image_create_role_pay_rate  \\\n",
       "0                      0.917              0.42                      -0.711   \n",
       "1                     -0.492              0.42                      -0.445   \n",
       "3                      0.917              0.42                      -0.445   \n",
       "4                      0.917              0.42                       1.467   \n",
       "5                      0.917              0.42                       1.467   \n",
       "\n",
       "   image_create_role_cost  image_create_role_pay_cost  image_create_role_roi  \\\n",
       "0                  -0.228                      -0.643                  0.870   \n",
       "1                  -0.039                      -0.693                 -0.456   \n",
       "3                   0.243                      -0.643                 -0.456   \n",
       "4                   0.447                       1.493                  0.870   \n",
       "5                  -0.228                       1.493                  0.870   \n",
       "\n",
       "   label  \n",
       "0      0  \n",
       "1      0  \n",
       "3      0  \n",
       "4      0  \n",
       "5      0  "
      ]
     },
     "execution_count": 37,
     "metadata": {},
     "output_type": "execute_result"
    }
   ],
   "source": [
    "data_info.head()"
   ]
  },
  {
   "cell_type": "code",
   "execution_count": 38,
   "metadata": {},
   "outputs": [],
   "source": [
    "#模型建立\n",
    "from sklearn.linear_model import LogisticRegression\n",
    "from sklearn.model_selection import train_test_split,GridSearchCV,RandomizedSearchCV\n",
    "from sklearn.ensemble import RandomForestClassifier\n",
    "from sklearn import svm\n",
    "import lightgbm as lgb\n",
    "from sklearn.neighbors import KNeighborsClassifier\n",
    "import time\n",
    "from sklearn.model_selection import cross_validate\n",
    "from sklearn.metrics import roc_curve, roc_auc_score,auc, classification_report"
   ]
  },
  {
   "cell_type": "code",
   "execution_count": 39,
   "metadata": {},
   "outputs": [],
   "source": [
    "x_train, x_test, y_train, y_test = train_test_split(data_info.drop('label',axis=1), data_info['label'], test_size=0.25, random_state=42)"
   ]
  },
  {
   "cell_type": "markdown",
   "metadata": {},
   "source": [
    "### RandomForestClassifier"
   ]
  },
  {
   "cell_type": "code",
   "execution_count": 40,
   "metadata": {},
   "outputs": [
    {
     "data": {
      "text/plain": [
       "RandomizedSearchCV(cv=5, estimator=RandomForestClassifier(),\n",
       "                   param_distributions={'max_depth': [2, 3, 5, 7, 9],\n",
       "                                        'min_samples_leaf': [2, 4, 6, 8],\n",
       "                                        'n_estimators': [9, 18, 27, 36, 100,\n",
       "                                                         150]})"
      ]
     },
     "execution_count": 40,
     "metadata": {},
     "output_type": "execute_result"
    }
   ],
   "source": [
    "RF = RandomForestClassifier()\n",
    "param_grid = { \n",
    "           \"n_estimators\" : [9, 18, 27, 36, 100, 150],\n",
    "           \"max_depth\" : [2,3,5,7,9],\n",
    "           \"min_samples_leaf\" : [2, 4, 6, 8]}\n",
    "RF_random = RandomizedSearchCV(RF, param_distributions=param_grid, cv=5)\n",
    "RF_random.fit(x_train, y_train)"
   ]
  },
  {
   "cell_type": "code",
   "execution_count": 41,
   "metadata": {},
   "outputs": [
    {
     "data": {
      "image/png": "[encoded data removed]",
      "text/plain": [
       "<Figure size 720x576 with 1 Axes>"
      ]
     },
     "metadata": {
      "needs_background": "light"
     },
     "output_type": "display_data"
    }
   ],
   "source": [
    "# 训练集评估\n",
    "best_est_RF = RF_random.best_estimator_\n",
    "y_pred = best_est_RF.predict_proba(x_train)\n",
    "y_pred = y_pred[:,1]\n",
    "fpr,tpr,_ = roc_curve(y_train, y_pred)\n",
    "roc_auc = auc(fpr, tpr)\n",
    "plt.figure(figsize=(10,8))\n",
    "plt.title('Receiver Operating Characteristic')\n",
    "sns.lineplot(fpr, tpr, label = 'AUC = %0.2f' % roc_auc)\n",
    "plt.legend(loc = 'lower right')\n",
    "plt.plot([0, 1], [0, 1],'r--')\n",
    "plt.ylabel('True Positive Rate')\n",
    "plt.xlabel('False Positive Rate')\n",
    "plt.show()"
   ]
  },
  {
   "cell_type": "code",
   "execution_count": 42,
   "metadata": {},
   "outputs": [
    {
     "data": {
      "image/png": "[encoded data removed]",
      "text/plain": [
       "<Figure size 720x576 with 1 Axes>"
      ]
     },
     "metadata": {
      "needs_background": "light"
     },
     "output_type": "display_data"
    }
   ],
   "source": [
    "# 测试集评估\n",
    "best_est_RF = RF_random.best_estimator_\n",
    "y_pred = best_est_RF.predict_proba(x_test)\n",
    "y_pred = y_pred[:,1]\n",
    "fpr,tpr,_ = roc_curve(y_test, y_pred)\n",
    "roc_auc = auc(fpr, tpr)\n",
    "plt.figure(figsize=(10,8))\n",
    "plt.title('Receiver Operating Characteristic')\n",
    "sns.lineplot(fpr, tpr, label = 'AUC = %0.2f' % roc_auc)\n",
    "plt.legend(loc = 'lower right')\n",
    "plt.plot([0, 1], [0, 1],'r--')\n",
    "plt.ylabel('True Positive Rate')\n",
    "plt.xlabel('False Positive Rate')\n",
    "plt.show()"
   ]
  },
  {
   "cell_type": "code",
   "execution_count": 43,
   "metadata": {
    "scrolled": true
   },
   "outputs": [
    {
     "name": "stdout",
     "output_type": "stream",
     "text": [
      "              precision    recall  f1-score   support\n",
      "\n",
      "           0       0.90      0.95      0.92      8355\n",
      "           1       0.62      0.44      0.52      1615\n",
      "\n",
      "    accuracy                           0.87      9970\n",
      "   macro avg       0.76      0.70      0.72      9970\n",
      "weighted avg       0.85      0.87      0.86      9970\n",
      "\n"
     ]
    }
   ],
   "source": [
    "y_pred_class = list(map(lambda x:1 if x>=0.35 else 0, y_pred))\n",
    "print(classification_report(y_test, y_pred_class))"
   ]
  },
  {
   "cell_type": "code",
   "execution_count": 44,
   "metadata": {},
   "outputs": [
    {
     "data": {
      "text/plain": [
       "['best_est_RF.pkl']"
      ]
     },
     "execution_count": 44,
     "metadata": {},
     "output_type": "execute_result"
    }
   ],
   "source": [
    "import joblib\n",
    "joblib.dump(best_est_RF, 'best_est_RF.pkl')"
   ]
  },
  {
   "cell_type": "markdown",
   "metadata": {},
   "source": [
    "### LogisticRegression"
   ]
  },
  {
   "cell_type": "code",
   "execution_count": 59,
   "metadata": {},
   "outputs": [
    {
     "data": {
      "text/plain": [
       "RandomizedSearchCV(cv=5, estimator=LogisticRegression(),\n",
       "                   param_distributions={'C': [0.1, 0.2, 0.3, 0.4, 0.5, 0.6, 0.7,\n",
       "                                              0.8, 0.9, 1]})"
      ]
     },
     "execution_count": 59,
     "metadata": {},
     "output_type": "execute_result"
    }
   ],
   "source": [
    "LR = LogisticRegression()\n",
    "param_grid = {\"C\" : [0.1,0.2,0.3, 0.4, 0.5, 0.6, 0.7,0.8,0.9, 1]}\n",
    "LR_random = RandomizedSearchCV(LR, param_distributions=param_grid, cv=5)\n",
    "LR_random.fit(x_train, y_train)"
   ]
  },
  {
   "cell_type": "code",
   "execution_count": 60,
   "metadata": {},
   "outputs": [
    {
     "data": {
      "image/png": "[encoded data removed]",
      "text/plain": [
       "<Figure size 720x576 with 1 Axes>"
      ]
     },
     "metadata": {
      "needs_background": "light"
     },
     "output_type": "display_data"
    }
   ],
   "source": [
    "# 测试集评估\n",
    "best_est_LR = LR_random.best_estimator_\n",
    "y_pred = best_est_LR.predict_proba(x_test)\n",
    "y_pred = y_pred[:,1]\n",
    "fpr,tpr,_ = roc_curve(y_test, y_pred)\n",
    "roc_auc = auc(fpr, tpr)\n",
    "plt.figure(figsize=(10,8))\n",
    "plt.title('Receiver Operating Characteristic')\n",
    "sns.lineplot(fpr, tpr, label = 'AUC = %0.2f' % roc_auc)\n",
    "plt.legend(loc = 'lower right')\n",
    "plt.plot([0, 1], [0, 1],'r--')\n",
    "plt.ylabel('True Positive Rate')\n",
    "plt.xlabel('False Positive Rate')\n",
    "plt.show()"
   ]
  },
  {
   "cell_type": "code",
   "execution_count": 61,
   "metadata": {},
   "outputs": [
    {
     "name": "stdout",
     "output_type": "stream",
     "text": [
      "              precision    recall  f1-score   support\n",
      "\n",
      "           0       0.91      0.93      0.92      2881\n",
      "           1       0.53      0.46      0.50       500\n",
      "\n",
      "    accuracy                           0.86      3381\n",
      "   macro avg       0.72      0.70      0.71      3381\n",
      "weighted avg       0.85      0.86      0.86      3381\n",
      "\n"
     ]
    }
   ],
   "source": [
    "y_pred_class = list(map(lambda x:1 if x>=0.35 else 0, y_pred))\n",
    "print(classification_report(y_test, y_pred_class))"
   ]
  },
  {
   "cell_type": "markdown",
   "metadata": {},
   "source": [
    "### XGB"
   ]
  },
  {
   "cell_type": "code",
   "execution_count": 45,
   "metadata": {},
   "outputs": [
    {
     "data": {
      "text/plain": [
       "RandomizedSearchCV(cv=5,\n",
       "                   estimator=XGBClassifier(base_score=None, booster=None,\n",
       "                                           colsample_bylevel=None,\n",
       "                                           colsample_bynode=None,\n",
       "                                           colsample_bytree=None, gamma=None,\n",
       "                                           gpu_id=None, importance_type='gain',\n",
       "                                           interaction_constraints=None,\n",
       "                                           learning_rate=None,\n",
       "                                           max_delta_step=None, max_depth=None,\n",
       "                                           min_child_weight=None, missing=nan,\n",
       "                                           monotone_constraints=None,\n",
       "                                           n_estimators=100,...\n",
       "                                           num_parallel_tree=None,\n",
       "                                           random_state=None, reg_alpha=None,\n",
       "                                           reg_lambda=None,\n",
       "                                           scale_pos_weight=None,\n",
       "                                           subsample=None, tree_method=None,\n",
       "                                           validate_parameters=None,\n",
       "                                           verbosity=None),\n",
       "                   param_distributions={'colsample_bytree': [0.5, 0.7],\n",
       "                                        'gamma': [0.0, 0.1, 0.2, 0.3],\n",
       "                                        'learning_rate': [0.001, 0.01, 0.0001,\n",
       "                                                          0.05, 0.1],\n",
       "                                        'max_depth': [3, 4, 6, 8, 10, 12, 15,\n",
       "                                                      20, 25, 30],\n",
       "                                        'n_estimators': [100, 150, 200, 250,\n",
       "                                                         300]})"
      ]
     },
     "execution_count": 45,
     "metadata": {},
     "output_type": "execute_result"
    }
   ],
   "source": [
    "from xgboost import XGBClassifier\n",
    "XGB = XGBClassifier(n_jobs=-1) \n",
    " \n",
    "param_grid = {\n",
    "                  'n_estimators' :[100,150,200,250,300],\n",
    "                  \"learning_rate\" : [0.001,0.01,0.0001,0.05, 0.10 ],\n",
    "                  \"gamma\"            : [ 0.0, 0.1, 0.2 , 0.3 ],\n",
    "                  \"colsample_bytree\" : [0.5,0.7],\n",
    "                  'max_depth': [3,4,6,8,10,12,15,20,25,30]\n",
    "              }\n",
    "XGB_random = RandomizedSearchCV(XGB, param_distributions=param_grid, cv=5)\n",
    "XGB_random.fit(x_train,y_train)"
   ]
  },
  {
   "cell_type": "code",
   "execution_count": 46,
   "metadata": {},
   "outputs": [
    {
     "data": {
      "image/png": "[encoded data removed]",
      "text/plain": [
       "<Figure size 720x576 with 1 Axes>"
      ]
     },
     "metadata": {
      "needs_background": "light"
     },
     "output_type": "display_data"
    }
   ],
   "source": [
    "# 测试集评估\n",
    "best_est_XGB = XGB_random.best_estimator_\n",
    "y_pred = best_est_XGB.predict_proba(x_test)\n",
    "y_pred = y_pred[:,1]\n",
    "fpr,tpr,_ = roc_curve(y_test, y_pred)\n",
    "roc_auc = auc(fpr, tpr)\n",
    "plt.figure(figsize=(10,8))\n",
    "plt.title('Receiver Operating Characteristic')\n",
    "sns.lineplot(fpr, tpr, label = 'AUC = %0.2f' % roc_auc)\n",
    "plt.legend(loc = 'lower right')\n",
    "plt.plot([0, 1], [0, 1],'r--')\n",
    "plt.ylabel('True Positive Rate')\n",
    "plt.xlabel('False Positive Rate')\n",
    "plt.show()"
   ]
  },
  {
   "cell_type": "code",
   "execution_count": 47,
   "metadata": {},
   "outputs": [
    {
     "name": "stdout",
     "output_type": "stream",
     "text": [
      "              precision    recall  f1-score   support\n",
      "\n",
      "           0       0.90      0.94      0.92      8355\n",
      "           1       0.59      0.48      0.53      1615\n",
      "\n",
      "    accuracy                           0.86      9970\n",
      "   macro avg       0.75      0.71      0.72      9970\n",
      "weighted avg       0.85      0.86      0.86      9970\n",
      "\n"
     ]
    }
   ],
   "source": [
    "y_pred_class = list(map(lambda x:1 if x>=0.35 else 0, y_pred))\n",
    "print(classification_report(y_test, y_pred_class))"
   ]
  },
  {
   "cell_type": "code",
   "execution_count": 48,
   "metadata": {},
   "outputs": [
    {
     "data": {
      "text/plain": [
       "['best_est_XGB.pkl']"
      ]
     },
     "execution_count": 48,
     "metadata": {},
     "output_type": "execute_result"
    }
   ],
   "source": [
    "joblib.dump(best_est_XGB, 'best_est_XGB.pkl')"
   ]
  },
  {
   "cell_type": "markdown",
   "metadata": {},
   "source": [
    "### lgb"
   ]
  },
  {
   "cell_type": "code",
   "execution_count": 49,
   "metadata": {},
   "outputs": [],
   "source": [
    "from lightgbm import LGBMClassifier"
   ]
  },
  {
   "cell_type": "code",
   "execution_count": 50,
   "metadata": {},
   "outputs": [
    {
     "data": {
      "text/plain": [
       "RandomizedSearchCV(cv=5,\n",
       "                   estimator=LGBMClassifier(metric='auc', objective='binary'),\n",
       "                   param_distributions={'bagging_fraction': [0.6, 0.7, 0.8, 0.9,\n",
       "                                                             0.95],\n",
       "                                        'bagging_freq': [2, 4, 5, 6, 8],\n",
       "                                        'cat_smooth': [1, 10, 15, 20, 35],\n",
       "                                        'feature_fraction': [0.6, 0.7, 0.8, 0.9,\n",
       "                                                             0.95],\n",
       "                                        'lambda_l1': [0, 0.1, 0.4, 0.5, 0.6],\n",
       "                                        'lambda_l2': [0, 10, 15, 35, 40],\n",
       "                                        'learning_rate': [0.01, 0.02, 0.05, 0.1,\n",
       "                                                          0.15],\n",
       "                                        'max_depth': [15, 20, 25, 30, 35]})"
      ]
     },
     "execution_count": 50,
     "metadata": {},
     "output_type": "execute_result"
    }
   ],
   "source": [
    "LGB = LGBMClassifier(boosting_type='gbdt',objective = 'binary',metric = 'auc',n_jobs=-1) \n",
    "param_grid = {\n",
    "              'max_depth': [15, 20, 25, 30, 35],\n",
    "              'learning_rate': [0.01, 0.02, 0.05, 0.1, 0.15],\n",
    "              'feature_fraction': [0.6, 0.7, 0.8, 0.9, 0.95],\n",
    "              'bagging_fraction': [0.6, 0.7, 0.8, 0.9, 0.95],\n",
    "              'bagging_freq': [2, 4, 5, 6, 8],\n",
    "              'lambda_l1': [0, 0.1, 0.4, 0.5, 0.6],\n",
    "              'lambda_l2': [0, 10, 15, 35, 40],\n",
    "              'cat_smooth': [1, 10, 15, 20, 35]\n",
    "}\n",
    "LGB_random = RandomizedSearchCV(LGB, param_distributions=param_grid, cv=5)\n",
    "LGB_random.fit(x_train,y_train)"
   ]
  },
  {
   "cell_type": "code",
   "execution_count": 51,
   "metadata": {},
   "outputs": [
    {
     "data": {
      "image/png": "[encoded data removed]",
      "text/plain": [
       "<Figure size 720x576 with 1 Axes>"
      ]
     },
     "metadata": {
      "needs_background": "light"
     },
     "output_type": "display_data"
    }
   ],
   "source": [
    "# 测试集评估\n",
    "best_est_LGB = LGB_random.best_estimator_\n",
    "y_pred = best_est_LGB.predict_proba(x_test)\n",
    "y_pred = y_pred[:,1]\n",
    "fpr,tpr,_ = roc_curve(y_test, y_pred)\n",
    "roc_auc = auc(fpr, tpr)\n",
    "plt.figure(figsize=(10,8))\n",
    "plt.title('Receiver Operating Characteristic')\n",
    "sns.lineplot(fpr, tpr, label = 'AUC = %0.2f' % roc_auc)\n",
    "plt.legend(loc = 'lower right')\n",
    "plt.plot([0, 1], [0, 1],'r--')\n",
    "plt.ylabel('True Positive Rate')\n",
    "plt.xlabel('False Positive Rate')\n",
    "plt.show()"
   ]
  },
  {
   "cell_type": "code",
   "execution_count": 52,
   "metadata": {},
   "outputs": [
    {
     "name": "stdout",
     "output_type": "stream",
     "text": [
      "              precision    recall  f1-score   support\n",
      "\n",
      "           0       0.90      0.95      0.92      8355\n",
      "           1       0.62      0.45      0.52      1615\n",
      "\n",
      "    accuracy                           0.87      9970\n",
      "   macro avg       0.76      0.70      0.72      9970\n",
      "weighted avg       0.85      0.87      0.86      9970\n",
      "\n"
     ]
    }
   ],
   "source": [
    "y_pred_class = list(map(lambda x:1 if x>=0.35 else 0, y_pred))\n",
    "print(classification_report(y_test, y_pred_class))"
   ]
  },
  {
   "cell_type": "code",
   "execution_count": 53,
   "metadata": {},
   "outputs": [
    {
     "data": {
      "text/plain": [
       "['best_est_LGB.pkl']"
      ]
     },
     "execution_count": 53,
     "metadata": {},
     "output_type": "execute_result"
    }
   ],
   "source": [
    "joblib.dump(best_est_LGB, 'best_est_LGB.pkl')"
   ]
  },
  {
   "cell_type": "markdown",
   "metadata": {},
   "source": [
    "### 选XGB + LGB +RF融合"
   ]
  },
  {
   "cell_type": "code",
   "execution_count": 54,
   "metadata": {},
   "outputs": [
    {
     "data": {
      "text/plain": [
       "XGBClassifier(base_score=0.5, booster='gbtree', colsample_bylevel=1,\n",
       "              colsample_bynode=1, colsample_bytree=0.7, gamma=0.3, gpu_id=-1,\n",
       "              importance_type='gain', interaction_constraints='',\n",
       "              learning_rate=0.01, max_delta_step=0, max_depth=6,\n",
       "              min_child_weight=1, missing=nan, monotone_constraints='()',\n",
       "              n_estimators=200, n_jobs=-1, num_parallel_tree=1, random_state=0,\n",
       "              reg_alpha=0, reg_lambda=1, scale_pos_weight=1, subsample=1,\n",
       "              tree_method='exact', validate_parameters=1, verbosity=None)"
      ]
     },
     "execution_count": 54,
     "metadata": {},
     "output_type": "execute_result"
    }
   ],
   "source": [
    "XGB_random.best_estimator_"
   ]
  },
  {
   "cell_type": "code",
   "execution_count": 55,
   "metadata": {},
   "outputs": [
    {
     "data": {
      "text/plain": [
       "LGBMClassifier(bagging_fraction=0.95, bagging_freq=4, cat_smooth=15,\n",
       "               feature_fraction=0.8, lambda_l1=0, lambda_l2=40,\n",
       "               learning_rate=0.05, max_depth=35, metric='auc',\n",
       "               objective='binary')"
      ]
     },
     "execution_count": 55,
     "metadata": {},
     "output_type": "execute_result"
    }
   ],
   "source": [
    "LGB_random.best_estimator_"
   ]
  },
  {
   "cell_type": "code",
   "execution_count": 56,
   "metadata": {},
   "outputs": [
    {
     "data": {
      "text/plain": [
       "RandomForestClassifier(max_depth=7, min_samples_leaf=2)"
      ]
     },
     "execution_count": 56,
     "metadata": {},
     "output_type": "execute_result"
    }
   ],
   "source": [
    "RF_random.best_estimator_"
   ]
  },
  {
   "cell_type": "code",
   "execution_count": 57,
   "metadata": {},
   "outputs": [],
   "source": [
    "y_pred = 0.4* best_est_XGB.predict_proba(x_test)[:,1] + 0.3*best_est_LGB.predict_proba(x_test)[:,1] + 0.3*best_est_RF.predict_proba(x_test)[:,1]"
   ]
  },
  {
   "cell_type": "code",
   "execution_count": 58,
   "metadata": {},
   "outputs": [
    {
     "data": {
      "image/png": "[encoded data removed]",
      "text/plain": [
       "<Figure size 720x576 with 1 Axes>"
      ]
     },
     "metadata": {
      "needs_background": "light"
     },
     "output_type": "display_data"
    }
   ],
   "source": [
    "fpr,tpr,_ = roc_curve(y_test, y_pred)\n",
    "roc_auc = auc(fpr, tpr)\n",
    "plt.figure(figsize=(10,8))\n",
    "plt.title('Receiver Operating Characteristic')\n",
    "sns.lineplot(fpr, tpr, label = 'AUC = %0.2f' % roc_auc)\n",
    "plt.legend(loc = 'lower right')\n",
    "plt.plot([0, 1], [0, 1],'r--')\n",
    "plt.ylabel('True Positive Rate')\n",
    "plt.xlabel('False Positive Rate')\n",
    "plt.show()"
   ]
  },
  {
   "cell_type": "code",
   "execution_count": 59,
   "metadata": {},
   "outputs": [
    {
     "name": "stdout",
     "output_type": "stream",
     "text": [
      "              precision    recall  f1-score   support\n",
      "\n",
      "           0       0.91      0.91      0.91      8355\n",
      "           1       0.54      0.52      0.53      1615\n",
      "\n",
      "    accuracy                           0.85      9970\n",
      "   macro avg       0.73      0.72      0.72      9970\n",
      "weighted avg       0.85      0.85      0.85      9970\n",
      "\n"
     ]
    }
   ],
   "source": [
    "y_pred_class = list(map(lambda x:1 if x>=0.3 else 0, y_pred))\n",
    "print(classification_report(y_test, y_pred_class))"
   ]
  },
  {
   "cell_type": "markdown",
   "metadata": {},
   "source": [
    "### 转化为分数"
   ]
  },
  {
   "cell_type": "code",
   "execution_count": 60,
   "metadata": {
    "scrolled": true
   },
   "outputs": [
    {
     "data": {
      "text/html": [
       "<div>\n",
       "<style scoped>\n",
       "    .dataframe tbody tr th:only-of-type {\n",
       "        vertical-align: middle;\n",
       "    }\n",
       "\n",
       "    .dataframe tbody tr th {\n",
       "        vertical-align: top;\n",
       "    }\n",
       "\n",
       "    .dataframe thead th {\n",
       "        text-align: right;\n",
       "    }\n",
       "</style>\n",
       "<table border=\"1\" class=\"dataframe\">\n",
       "  <thead>\n",
       "    <tr style=\"text-align: right;\">\n",
       "      <th></th>\n",
       "      <th>image_id</th>\n",
       "      <th>image_name</th>\n",
       "      <th>media_id</th>\n",
       "      <th>image_launch_time</th>\n",
       "      <th>image_source_total_num</th>\n",
       "      <th>image_run_date_amount</th>\n",
       "      <th>image_create_role_pay_num</th>\n",
       "      <th>image_create_role_num</th>\n",
       "      <th>image_create_role_pay_sum</th>\n",
       "      <th>image_source_num</th>\n",
       "      <th>image_create_role_pay_rate</th>\n",
       "      <th>image_create_role_cost</th>\n",
       "      <th>image_create_role_pay_cost</th>\n",
       "      <th>image_valid_source_rate</th>\n",
       "      <th>image_create_role_roi</th>\n",
       "      <th>image_create_role_retain_1d</th>\n",
       "      <th>create_role_30_pay_sum</th>\n",
       "      <th>model_run_datetime</th>\n",
       "      <th>label</th>\n",
       "    </tr>\n",
       "  </thead>\n",
       "  <tbody>\n",
       "    <tr>\n",
       "      <th>0</th>\n",
       "      <td>20873</td>\n",
       "      <td>ZDZL855-竖版xy</td>\n",
       "      <td>10</td>\n",
       "      <td>2020-12-31</td>\n",
       "      <td>2.0</td>\n",
       "      <td>0.764</td>\n",
       "      <td>-0.266</td>\n",
       "      <td>0.445</td>\n",
       "      <td>0.917</td>\n",
       "      <td>0.42</td>\n",
       "      <td>-0.711</td>\n",
       "      <td>-0.228</td>\n",
       "      <td>-0.643</td>\n",
       "      <td>1.0</td>\n",
       "      <td>0.870</td>\n",
       "      <td>2.245</td>\n",
       "      <td>9.0</td>\n",
       "      <td>2021-01-01</td>\n",
       "      <td>0</td>\n",
       "    </tr>\n",
       "    <tr>\n",
       "      <th>1</th>\n",
       "      <td>24141</td>\n",
       "      <td>ZDZL1195-横版JL</td>\n",
       "      <td>10</td>\n",
       "      <td>2020-12-30</td>\n",
       "      <td>2.0</td>\n",
       "      <td>-0.321</td>\n",
       "      <td>-0.626</td>\n",
       "      <td>-0.670</td>\n",
       "      <td>-0.492</td>\n",
       "      <td>0.42</td>\n",
       "      <td>-0.445</td>\n",
       "      <td>-0.039</td>\n",
       "      <td>-0.693</td>\n",
       "      <td>0.0</td>\n",
       "      <td>-0.456</td>\n",
       "      <td>-0.072</td>\n",
       "      <td>154.0</td>\n",
       "      <td>2021-01-01</td>\n",
       "      <td>0</td>\n",
       "    </tr>\n",
       "    <tr>\n",
       "      <th>3</th>\n",
       "      <td>28021</td>\n",
       "      <td>QMZT016-CHL</td>\n",
       "      <td>16</td>\n",
       "      <td>2020-12-30</td>\n",
       "      <td>1.0</td>\n",
       "      <td>2.012</td>\n",
       "      <td>-0.266</td>\n",
       "      <td>1.595</td>\n",
       "      <td>0.917</td>\n",
       "      <td>0.42</td>\n",
       "      <td>-0.445</td>\n",
       "      <td>0.243</td>\n",
       "      <td>-0.643</td>\n",
       "      <td>1.0</td>\n",
       "      <td>-0.456</td>\n",
       "      <td>-0.394</td>\n",
       "      <td>6.0</td>\n",
       "      <td>2021-01-01</td>\n",
       "      <td>0</td>\n",
       "    </tr>\n",
       "    <tr>\n",
       "      <th>4</th>\n",
       "      <td>28022</td>\n",
       "      <td>QMZT017-CHL</td>\n",
       "      <td>16</td>\n",
       "      <td>2020-12-30</td>\n",
       "      <td>1.0</td>\n",
       "      <td>2.012</td>\n",
       "      <td>0.937</td>\n",
       "      <td>1.595</td>\n",
       "      <td>0.917</td>\n",
       "      <td>0.42</td>\n",
       "      <td>1.467</td>\n",
       "      <td>0.447</td>\n",
       "      <td>1.493</td>\n",
       "      <td>0.0</td>\n",
       "      <td>0.870</td>\n",
       "      <td>2.245</td>\n",
       "      <td>0.0</td>\n",
       "      <td>2021-01-01</td>\n",
       "      <td>0</td>\n",
       "    </tr>\n",
       "    <tr>\n",
       "      <th>5</th>\n",
       "      <td>28043</td>\n",
       "      <td>QMZZ001-横版Z-960x540 ＜100mb 6-30S</td>\n",
       "      <td>16</td>\n",
       "      <td>2020-12-25</td>\n",
       "      <td>10.0</td>\n",
       "      <td>1.665</td>\n",
       "      <td>0.937</td>\n",
       "      <td>1.257</td>\n",
       "      <td>0.917</td>\n",
       "      <td>0.42</td>\n",
       "      <td>1.467</td>\n",
       "      <td>-0.228</td>\n",
       "      <td>1.493</td>\n",
       "      <td>0.0</td>\n",
       "      <td>0.870</td>\n",
       "      <td>-0.394</td>\n",
       "      <td>0.0</td>\n",
       "      <td>2021-01-01</td>\n",
       "      <td>0</td>\n",
       "    </tr>\n",
       "  </tbody>\n",
       "</table>\n",
       "</div>"
      ],
      "text/plain": [
       "   image_id                        image_name  media_id image_launch_time  \\\n",
       "0     20873                      ZDZL855-竖版xy        10        2020-12-31   \n",
       "1     24141                     ZDZL1195-横版JL        10        2020-12-30   \n",
       "3     28021                       QMZT016-CHL        16        2020-12-30   \n",
       "4     28022                       QMZT017-CHL        16        2020-12-30   \n",
       "5     28043  QMZZ001-横版Z-960x540 ＜100mb 6-30S        16        2020-12-25   \n",
       "\n",
       "   image_source_total_num  image_run_date_amount  image_create_role_pay_num  \\\n",
       "0                     2.0                  0.764                     -0.266   \n",
       "1                     2.0                 -0.321                     -0.626   \n",
       "3                     1.0                  2.012                     -0.266   \n",
       "4                     1.0                  2.012                      0.937   \n",
       "5                    10.0                  1.665                      0.937   \n",
       "\n",
       "   image_create_role_num  image_create_role_pay_sum  image_source_num  \\\n",
       "0                  0.445                      0.917              0.42   \n",
       "1                 -0.670                     -0.492              0.42   \n",
       "3                  1.595                      0.917              0.42   \n",
       "4                  1.595                      0.917              0.42   \n",
       "5                  1.257                      0.917              0.42   \n",
       "\n",
       "   image_create_role_pay_rate  image_create_role_cost  \\\n",
       "0                      -0.711                  -0.228   \n",
       "1                      -0.445                  -0.039   \n",
       "3                      -0.445                   0.243   \n",
       "4                       1.467                   0.447   \n",
       "5                       1.467                  -0.228   \n",
       "\n",
       "   image_create_role_pay_cost  image_valid_source_rate  image_create_role_roi  \\\n",
       "0                      -0.643                      1.0                  0.870   \n",
       "1                      -0.693                      0.0                 -0.456   \n",
       "3                      -0.643                      1.0                 -0.456   \n",
       "4                       1.493                      0.0                  0.870   \n",
       "5                       1.493                      0.0                  0.870   \n",
       "\n",
       "   image_create_role_retain_1d  create_role_30_pay_sum model_run_datetime  \\\n",
       "0                        2.245                     9.0         2021-01-01   \n",
       "1                       -0.072                   154.0         2021-01-01   \n",
       "3                       -0.394                     6.0         2021-01-01   \n",
       "4                        2.245                     0.0         2021-01-01   \n",
       "5                       -0.394                     0.0         2021-01-01   \n",
       "\n",
       "   label  \n",
       "0      0  \n",
       "1      0  \n",
       "3      0  \n",
       "4      0  \n",
       "5      0  "
      ]
     },
     "execution_count": 60,
     "metadata": {},
     "output_type": "execute_result"
    }
   ],
   "source": [
    "image_info_change.head()"
   ]
  },
  {
   "cell_type": "code",
   "execution_count": 61,
   "metadata": {
    "scrolled": true
   },
   "outputs": [],
   "source": [
    "feature = image_info_change[select_feature].drop('label',axis=1)\n",
    "image_info_change['pred'] = 0.4* best_est_XGB.predict_proba(feature)[:,1] + 0.3*best_est_LGB.predict_proba(feature)[:,1] + 0.3*best_est_RF.predict_proba(feature)[:,1]"
   ]
  },
  {
   "cell_type": "code",
   "execution_count": 62,
   "metadata": {},
   "outputs": [
    {
     "data": {
      "text/plain": [
       "(39879, 20)"
      ]
     },
     "execution_count": 62,
     "metadata": {},
     "output_type": "execute_result"
    }
   ],
   "source": [
    "image_info_change.shape"
   ]
  },
  {
   "cell_type": "code",
   "execution_count": 63,
   "metadata": {},
   "outputs": [
    {
     "data": {
      "text/html": [
       "<div>\n",
       "<style scoped>\n",
       "    .dataframe tbody tr th:only-of-type {\n",
       "        vertical-align: middle;\n",
       "    }\n",
       "\n",
       "    .dataframe tbody tr th {\n",
       "        vertical-align: top;\n",
       "    }\n",
       "\n",
       "    .dataframe thead th {\n",
       "        text-align: right;\n",
       "    }\n",
       "</style>\n",
       "<table border=\"1\" class=\"dataframe\">\n",
       "  <thead>\n",
       "    <tr style=\"text-align: right;\">\n",
       "      <th></th>\n",
       "      <th>image_id</th>\n",
       "      <th>image_name</th>\n",
       "      <th>media_id</th>\n",
       "      <th>image_launch_time</th>\n",
       "      <th>image_source_total_num</th>\n",
       "      <th>image_run_date_amount</th>\n",
       "      <th>image_create_role_pay_num</th>\n",
       "      <th>image_create_role_num</th>\n",
       "      <th>image_create_role_pay_sum</th>\n",
       "      <th>image_source_num</th>\n",
       "      <th>image_create_role_pay_rate</th>\n",
       "      <th>image_create_role_cost</th>\n",
       "      <th>image_create_role_pay_cost</th>\n",
       "      <th>image_valid_source_rate</th>\n",
       "      <th>image_create_role_roi</th>\n",
       "      <th>image_create_role_retain_1d</th>\n",
       "      <th>create_role_30_pay_sum</th>\n",
       "      <th>model_run_datetime</th>\n",
       "      <th>label</th>\n",
       "      <th>pred</th>\n",
       "    </tr>\n",
       "  </thead>\n",
       "  <tbody>\n",
       "    <tr>\n",
       "      <th>0</th>\n",
       "      <td>20873</td>\n",
       "      <td>ZDZL855-竖版xy</td>\n",
       "      <td>10</td>\n",
       "      <td>2020-12-31</td>\n",
       "      <td>2.0</td>\n",
       "      <td>0.764</td>\n",
       "      <td>-0.266</td>\n",
       "      <td>0.445</td>\n",
       "      <td>0.917</td>\n",
       "      <td>0.42</td>\n",
       "      <td>-0.711</td>\n",
       "      <td>-0.228</td>\n",
       "      <td>-0.643</td>\n",
       "      <td>1.0</td>\n",
       "      <td>0.870</td>\n",
       "      <td>2.245</td>\n",
       "      <td>9.0</td>\n",
       "      <td>2021-01-01</td>\n",
       "      <td>0</td>\n",
       "      <td>0.118054</td>\n",
       "    </tr>\n",
       "    <tr>\n",
       "      <th>1</th>\n",
       "      <td>24141</td>\n",
       "      <td>ZDZL1195-横版JL</td>\n",
       "      <td>10</td>\n",
       "      <td>2020-12-30</td>\n",
       "      <td>2.0</td>\n",
       "      <td>-0.321</td>\n",
       "      <td>-0.626</td>\n",
       "      <td>-0.670</td>\n",
       "      <td>-0.492</td>\n",
       "      <td>0.42</td>\n",
       "      <td>-0.445</td>\n",
       "      <td>-0.039</td>\n",
       "      <td>-0.693</td>\n",
       "      <td>0.0</td>\n",
       "      <td>-0.456</td>\n",
       "      <td>-0.072</td>\n",
       "      <td>154.0</td>\n",
       "      <td>2021-01-01</td>\n",
       "      <td>0</td>\n",
       "      <td>0.179624</td>\n",
       "    </tr>\n",
       "    <tr>\n",
       "      <th>3</th>\n",
       "      <td>28021</td>\n",
       "      <td>QMZT016-CHL</td>\n",
       "      <td>16</td>\n",
       "      <td>2020-12-30</td>\n",
       "      <td>1.0</td>\n",
       "      <td>2.012</td>\n",
       "      <td>-0.266</td>\n",
       "      <td>1.595</td>\n",
       "      <td>0.917</td>\n",
       "      <td>0.42</td>\n",
       "      <td>-0.445</td>\n",
       "      <td>0.243</td>\n",
       "      <td>-0.643</td>\n",
       "      <td>1.0</td>\n",
       "      <td>-0.456</td>\n",
       "      <td>-0.394</td>\n",
       "      <td>6.0</td>\n",
       "      <td>2021-01-01</td>\n",
       "      <td>0</td>\n",
       "      <td>0.126268</td>\n",
       "    </tr>\n",
       "    <tr>\n",
       "      <th>4</th>\n",
       "      <td>28022</td>\n",
       "      <td>QMZT017-CHL</td>\n",
       "      <td>16</td>\n",
       "      <td>2020-12-30</td>\n",
       "      <td>1.0</td>\n",
       "      <td>2.012</td>\n",
       "      <td>0.937</td>\n",
       "      <td>1.595</td>\n",
       "      <td>0.917</td>\n",
       "      <td>0.42</td>\n",
       "      <td>1.467</td>\n",
       "      <td>0.447</td>\n",
       "      <td>1.493</td>\n",
       "      <td>0.0</td>\n",
       "      <td>0.870</td>\n",
       "      <td>2.245</td>\n",
       "      <td>0.0</td>\n",
       "      <td>2021-01-01</td>\n",
       "      <td>0</td>\n",
       "      <td>0.069406</td>\n",
       "    </tr>\n",
       "    <tr>\n",
       "      <th>5</th>\n",
       "      <td>28043</td>\n",
       "      <td>QMZZ001-横版Z-960x540 ＜100mb 6-30S</td>\n",
       "      <td>16</td>\n",
       "      <td>2020-12-25</td>\n",
       "      <td>10.0</td>\n",
       "      <td>1.665</td>\n",
       "      <td>0.937</td>\n",
       "      <td>1.257</td>\n",
       "      <td>0.917</td>\n",
       "      <td>0.42</td>\n",
       "      <td>1.467</td>\n",
       "      <td>-0.228</td>\n",
       "      <td>1.493</td>\n",
       "      <td>0.0</td>\n",
       "      <td>0.870</td>\n",
       "      <td>-0.394</td>\n",
       "      <td>0.0</td>\n",
       "      <td>2021-01-01</td>\n",
       "      <td>0</td>\n",
       "      <td>0.068789</td>\n",
       "    </tr>\n",
       "  </tbody>\n",
       "</table>\n",
       "</div>"
      ],
      "text/plain": [
       "   image_id                        image_name  media_id image_launch_time  \\\n",
       "0     20873                      ZDZL855-竖版xy        10        2020-12-31   \n",
       "1     24141                     ZDZL1195-横版JL        10        2020-12-30   \n",
       "3     28021                       QMZT016-CHL        16        2020-12-30   \n",
       "4     28022                       QMZT017-CHL        16        2020-12-30   \n",
       "5     28043  QMZZ001-横版Z-960x540 ＜100mb 6-30S        16        2020-12-25   \n",
       "\n",
       "   image_source_total_num  image_run_date_amount  image_create_role_pay_num  \\\n",
       "0                     2.0                  0.764                     -0.266   \n",
       "1                     2.0                 -0.321                     -0.626   \n",
       "3                     1.0                  2.012                     -0.266   \n",
       "4                     1.0                  2.012                      0.937   \n",
       "5                    10.0                  1.665                      0.937   \n",
       "\n",
       "   image_create_role_num  image_create_role_pay_sum  image_source_num  \\\n",
       "0                  0.445                      0.917              0.42   \n",
       "1                 -0.670                     -0.492              0.42   \n",
       "3                  1.595                      0.917              0.42   \n",
       "4                  1.595                      0.917              0.42   \n",
       "5                  1.257                      0.917              0.42   \n",
       "\n",
       "   image_create_role_pay_rate  image_create_role_cost  \\\n",
       "0                      -0.711                  -0.228   \n",
       "1                      -0.445                  -0.039   \n",
       "3                      -0.445                   0.243   \n",
       "4                       1.467                   0.447   \n",
       "5                       1.467                  -0.228   \n",
       "\n",
       "   image_create_role_pay_cost  image_valid_source_rate  image_create_role_roi  \\\n",
       "0                      -0.643                      1.0                  0.870   \n",
       "1                      -0.693                      0.0                 -0.456   \n",
       "3                      -0.643                      1.0                 -0.456   \n",
       "4                       1.493                      0.0                  0.870   \n",
       "5                       1.493                      0.0                  0.870   \n",
       "\n",
       "   image_create_role_retain_1d  create_role_30_pay_sum model_run_datetime  \\\n",
       "0                        2.245                     9.0         2021-01-01   \n",
       "1                       -0.072                   154.0         2021-01-01   \n",
       "3                       -0.394                     6.0         2021-01-01   \n",
       "4                        2.245                     0.0         2021-01-01   \n",
       "5                       -0.394                     0.0         2021-01-01   \n",
       "\n",
       "   label      pred  \n",
       "0      0  0.118054  \n",
       "1      0  0.179624  \n",
       "3      0  0.126268  \n",
       "4      0  0.069406  \n",
       "5      0  0.068789  "
      ]
     },
     "execution_count": 63,
     "metadata": {},
     "output_type": "execute_result"
    }
   ],
   "source": [
    "image_info_change.head()"
   ]
  },
  {
   "cell_type": "code",
   "execution_count": 64,
   "metadata": {},
   "outputs": [],
   "source": [
    "image_info_change.to_csv('./image_info_change.csv',index=0)"
   ]
  },
  {
   "cell_type": "code",
   "execution_count": 65,
   "metadata": {},
   "outputs": [],
   "source": [
    "image_info_label.to_csv('./image_info_label.csv',index=0)"
   ]
  },
  {
   "cell_type": "code",
   "execution_count": 66,
   "metadata": {},
   "outputs": [
    {
     "data": {
      "image/png": "[encoded data removed]",
      "text/plain": [
       "<Figure size 720x576 with 1 Axes>"
      ]
     },
     "metadata": {
      "needs_background": "light"
     },
     "output_type": "display_data"
    }
   ],
   "source": [
    "fpr,tpr,_ = roc_curve(image_info_change['label'], image_info_change['pred'])\n",
    "roc_auc = auc(fpr, tpr)\n",
    "plt.figure(figsize=(10,8))\n",
    "plt.title('Receiver Operating Characteristic')\n",
    "sns.lineplot(fpr, tpr, label = 'AUC = %0.2f' % roc_auc)\n",
    "plt.legend(loc = 'lower right')\n",
    "plt.plot([0, 1], [0, 1],'r--')\n",
    "plt.ylabel('True Positive Rate')\n",
    "plt.xlabel('False Positive Rate')\n",
    "plt.show()"
   ]
  },
  {
   "cell_type": "code",
   "execution_count": 67,
   "metadata": {},
   "outputs": [
    {
     "name": "stdout",
     "output_type": "stream",
     "text": [
      "              precision    recall  f1-score   support\n",
      "\n",
      "           0       0.91      0.92      0.91     33348\n",
      "           1       0.56      0.52      0.54      6531\n",
      "\n",
      "    accuracy                           0.85     39879\n",
      "   macro avg       0.73      0.72      0.72     39879\n",
      "weighted avg       0.85      0.85      0.85     39879\n",
      "\n"
     ]
    }
   ],
   "source": [
    "y_pred_class = list(map(lambda x:1 if x>=0.3 else 0, image_info_change['pred']))\n",
    "print(classification_report(image_info_change['label'], y_pred_class))"
   ]
  },
  {
   "cell_type": "code",
   "execution_count": 68,
   "metadata": {},
   "outputs": [],
   "source": [
    "def Prob2Score(prob, basePoint=600, PDO=30):\n",
    "    #将概率转化成分数且为正整数\n",
    "    y = np.log(prob/(1-prob))\n",
    "    return (basePoint+int(PDO/np.log(2)*(y)))"
   ]
  },
  {
   "cell_type": "code",
   "execution_count": 69,
   "metadata": {},
   "outputs": [
    {
     "data": {
      "text/plain": [
       "564"
      ]
     },
     "execution_count": 69,
     "metadata": {},
     "output_type": "execute_result"
    }
   ],
   "source": [
    "Prob2Score(0.3)"
   ]
  },
  {
   "cell_type": "code",
   "execution_count": 70,
   "metadata": {},
   "outputs": [],
   "source": [
    "image_info_change['score'] = image_info_change['pred'].apply(Prob2Score)"
   ]
  },
  {
   "cell_type": "code",
   "execution_count": 71,
   "metadata": {},
   "outputs": [],
   "source": [
    "image_info_label['score'] = image_info_change['score']"
   ]
  },
  {
   "cell_type": "code",
   "execution_count": 72,
   "metadata": {},
   "outputs": [
    {
     "data": {
      "text/html": [
       "<div>\n",
       "<style scoped>\n",
       "    .dataframe tbody tr th:only-of-type {\n",
       "        vertical-align: middle;\n",
       "    }\n",
       "\n",
       "    .dataframe tbody tr th {\n",
       "        vertical-align: top;\n",
       "    }\n",
       "\n",
       "    .dataframe thead th {\n",
       "        text-align: right;\n",
       "    }\n",
       "</style>\n",
       "<table border=\"1\" class=\"dataframe\">\n",
       "  <thead>\n",
       "    <tr style=\"text-align: right;\">\n",
       "      <th></th>\n",
       "      <th>image_id</th>\n",
       "      <th>image_name</th>\n",
       "      <th>media_id</th>\n",
       "      <th>image_launch_time</th>\n",
       "      <th>image_source_total_num</th>\n",
       "      <th>image_run_date_amount</th>\n",
       "      <th>image_create_role_pay_num</th>\n",
       "      <th>image_create_role_num</th>\n",
       "      <th>image_create_role_pay_sum</th>\n",
       "      <th>image_source_num</th>\n",
       "      <th>image_create_role_pay_rate</th>\n",
       "      <th>image_create_role_cost</th>\n",
       "      <th>image_create_role_pay_cost</th>\n",
       "      <th>image_valid_source_rate</th>\n",
       "      <th>image_create_role_roi</th>\n",
       "      <th>image_create_role_retain_1d</th>\n",
       "      <th>create_role_30_pay_sum</th>\n",
       "      <th>model_run_datetime</th>\n",
       "      <th>label</th>\n",
       "      <th>score</th>\n",
       "    </tr>\n",
       "  </thead>\n",
       "  <tbody>\n",
       "    <tr>\n",
       "      <th>0</th>\n",
       "      <td>20873</td>\n",
       "      <td>ZDZL855-竖版xy</td>\n",
       "      <td>10</td>\n",
       "      <td>2020-12-31</td>\n",
       "      <td>2.0</td>\n",
       "      <td>1805.85</td>\n",
       "      <td>1.0</td>\n",
       "      <td>22.0</td>\n",
       "      <td>9.0</td>\n",
       "      <td>2.0</td>\n",
       "      <td>0.0455</td>\n",
       "      <td>82.084091</td>\n",
       "      <td>1805.850000</td>\n",
       "      <td>1.0</td>\n",
       "      <td>0.004984</td>\n",
       "      <td>0.0909</td>\n",
       "      <td>9.0</td>\n",
       "      <td>2021-01-01</td>\n",
       "      <td>0</td>\n",
       "      <td>513</td>\n",
       "    </tr>\n",
       "    <tr>\n",
       "      <th>1</th>\n",
       "      <td>24141</td>\n",
       "      <td>ZDZL1195-横版JL</td>\n",
       "      <td>10</td>\n",
       "      <td>2020-12-30</td>\n",
       "      <td>2.0</td>\n",
       "      <td>8974.09</td>\n",
       "      <td>3.0</td>\n",
       "      <td>233.0</td>\n",
       "      <td>116.0</td>\n",
       "      <td>2.0</td>\n",
       "      <td>0.0129</td>\n",
       "      <td>38.515408</td>\n",
       "      <td>2991.363333</td>\n",
       "      <td>0.0</td>\n",
       "      <td>0.012926</td>\n",
       "      <td>0.1609</td>\n",
       "      <td>154.0</td>\n",
       "      <td>2021-01-01</td>\n",
       "      <td>0</td>\n",
       "      <td>535</td>\n",
       "    </tr>\n",
       "    <tr>\n",
       "      <th>3</th>\n",
       "      <td>28021</td>\n",
       "      <td>QMZT016-CHL</td>\n",
       "      <td>16</td>\n",
       "      <td>2020-12-30</td>\n",
       "      <td>1.0</td>\n",
       "      <td>544.90</td>\n",
       "      <td>1.0</td>\n",
       "      <td>3.0</td>\n",
       "      <td>6.0</td>\n",
       "      <td>1.0</td>\n",
       "      <td>0.3333</td>\n",
       "      <td>181.633333</td>\n",
       "      <td>544.900000</td>\n",
       "      <td>1.0</td>\n",
       "      <td>0.011011</td>\n",
       "      <td>0.2500</td>\n",
       "      <td>6.0</td>\n",
       "      <td>2021-01-01</td>\n",
       "      <td>0</td>\n",
       "      <td>517</td>\n",
       "    </tr>\n",
       "    <tr>\n",
       "      <th>4</th>\n",
       "      <td>28022</td>\n",
       "      <td>QMZT017-CHL</td>\n",
       "      <td>16</td>\n",
       "      <td>2020-12-30</td>\n",
       "      <td>1.0</td>\n",
       "      <td>627.70</td>\n",
       "      <td>0.0</td>\n",
       "      <td>2.0</td>\n",
       "      <td>0.0</td>\n",
       "      <td>1.0</td>\n",
       "      <td>0.0000</td>\n",
       "      <td>313.850000</td>\n",
       "      <td>inf</td>\n",
       "      <td>0.0</td>\n",
       "      <td>0.000000</td>\n",
       "      <td>0.0000</td>\n",
       "      <td>0.0</td>\n",
       "      <td>2021-01-01</td>\n",
       "      <td>0</td>\n",
       "      <td>488</td>\n",
       "    </tr>\n",
       "    <tr>\n",
       "      <th>5</th>\n",
       "      <td>28043</td>\n",
       "      <td>QMZZ001-横版Z-960x540 ＜100mb 6-30S</td>\n",
       "      <td>16</td>\n",
       "      <td>2020-12-25</td>\n",
       "      <td>10.0</td>\n",
       "      <td>1020.76</td>\n",
       "      <td>0.0</td>\n",
       "      <td>12.0</td>\n",
       "      <td>0.0</td>\n",
       "      <td>1.0</td>\n",
       "      <td>0.0000</td>\n",
       "      <td>85.063333</td>\n",
       "      <td>inf</td>\n",
       "      <td>0.0</td>\n",
       "      <td>0.000000</td>\n",
       "      <td>0.2308</td>\n",
       "      <td>0.0</td>\n",
       "      <td>2021-01-01</td>\n",
       "      <td>0</td>\n",
       "      <td>488</td>\n",
       "    </tr>\n",
       "  </tbody>\n",
       "</table>\n",
       "</div>"
      ],
      "text/plain": [
       "   image_id                        image_name  media_id image_launch_time  \\\n",
       "0     20873                      ZDZL855-竖版xy        10        2020-12-31   \n",
       "1     24141                     ZDZL1195-横版JL        10        2020-12-30   \n",
       "3     28021                       QMZT016-CHL        16        2020-12-30   \n",
       "4     28022                       QMZT017-CHL        16        2020-12-30   \n",
       "5     28043  QMZZ001-横版Z-960x540 ＜100mb 6-30S        16        2020-12-25   \n",
       "\n",
       "   image_source_total_num  image_run_date_amount  image_create_role_pay_num  \\\n",
       "0                     2.0                1805.85                        1.0   \n",
       "1                     2.0                8974.09                        3.0   \n",
       "3                     1.0                 544.90                        1.0   \n",
       "4                     1.0                 627.70                        0.0   \n",
       "5                    10.0                1020.76                        0.0   \n",
       "\n",
       "   image_create_role_num  image_create_role_pay_sum  image_source_num  \\\n",
       "0                   22.0                        9.0               2.0   \n",
       "1                  233.0                      116.0               2.0   \n",
       "3                    3.0                        6.0               1.0   \n",
       "4                    2.0                        0.0               1.0   \n",
       "5                   12.0                        0.0               1.0   \n",
       "\n",
       "   image_create_role_pay_rate  image_create_role_cost  \\\n",
       "0                      0.0455               82.084091   \n",
       "1                      0.0129               38.515408   \n",
       "3                      0.3333              181.633333   \n",
       "4                      0.0000              313.850000   \n",
       "5                      0.0000               85.063333   \n",
       "\n",
       "   image_create_role_pay_cost  image_valid_source_rate  image_create_role_roi  \\\n",
       "0                 1805.850000                      1.0               0.004984   \n",
       "1                 2991.363333                      0.0               0.012926   \n",
       "3                  544.900000                      1.0               0.011011   \n",
       "4                         inf                      0.0               0.000000   \n",
       "5                         inf                      0.0               0.000000   \n",
       "\n",
       "   image_create_role_retain_1d  create_role_30_pay_sum model_run_datetime  \\\n",
       "0                       0.0909                     9.0         2021-01-01   \n",
       "1                       0.1609                   154.0         2021-01-01   \n",
       "3                       0.2500                     6.0         2021-01-01   \n",
       "4                       0.0000                     0.0         2021-01-01   \n",
       "5                       0.2308                     0.0         2021-01-01   \n",
       "\n",
       "   label  score  \n",
       "0      0    513  \n",
       "1      0    535  \n",
       "3      0    517  \n",
       "4      0    488  \n",
       "5      0    488  "
      ]
     },
     "execution_count": 72,
     "metadata": {},
     "output_type": "execute_result"
    }
   ],
   "source": [
    "image_info_label.head()"
   ]
  },
  {
   "cell_type": "code",
   "execution_count": 73,
   "metadata": {},
   "outputs": [
    {
     "data": {
      "image/png": "[encoded data removed]",
      "text/plain": [
       "<Figure size 432x288 with 1 Axes>"
      ]
     },
     "metadata": {
      "needs_background": "light"
     },
     "output_type": "display_data"
    }
   ],
   "source": [
    "box0 = image_info_label[image_info_label['label']==0]['score']\n",
    "box1 = image_info_label[image_info_label['label']==1]['score']\n",
    "plt.title('score for different box',fontsize=15)\n",
    "labels = 'box0','box1'\n",
    "plt.boxplot([box0,box1],labels=labels)\n",
    "plt.show()"
   ]
  },
  {
   "cell_type": "code",
   "execution_count": 74,
   "metadata": {},
   "outputs": [
    {
     "data": {
      "image/png": "[encoded data removed]",
      "text/plain": [
       "<Figure size 432x288 with 1 Axes>"
      ]
     },
     "metadata": {
      "needs_background": "light"
     },
     "output_type": "display_data"
    }
   ],
   "source": [
    "sns.distplot(image_info_label['score'])\n",
    "plt.show()"
   ]
  },
  {
   "cell_type": "code",
   "execution_count": 75,
   "metadata": {},
   "outputs": [
    {
     "data": {
      "text/plain": [
       "0.8307300238186466"
      ]
     },
     "execution_count": 75,
     "metadata": {},
     "output_type": "execute_result"
    }
   ],
   "source": [
    "image_info_label[image_info_label['score']>=600]['create_role_30_pay_sum'].sum() / image_info_label[image_info_label['score']>=600]['image_run_date_amount'].sum()"
   ]
  },
  {
   "cell_type": "code",
   "execution_count": 76,
   "metadata": {},
   "outputs": [
    {
     "data": {
      "text/plain": [
       "0.2748501814110194"
      ]
     },
     "execution_count": 76,
     "metadata": {},
     "output_type": "execute_result"
    }
   ],
   "source": [
    "image_info_label[image_info_label['score']<600]['create_role_30_pay_sum'].sum() / image_info_label[image_info_label['score']<600]['image_run_date_amount'].sum()"
   ]
  },
  {
   "cell_type": "code",
   "execution_count": 978,
   "metadata": {},
   "outputs": [
    {
     "data": {
      "text/plain": [
       "58594317.0"
      ]
     },
     "execution_count": 978,
     "metadata": {},
     "output_type": "execute_result"
    }
   ],
   "source": [
    "image_info_label['create_role_30_pay_sum'].sum()"
   ]
  },
  {
   "cell_type": "code",
   "execution_count": 979,
   "metadata": {},
   "outputs": [
    {
     "data": {
      "text/plain": [
       "24456884.0"
      ]
     },
     "execution_count": 979,
     "metadata": {},
     "output_type": "execute_result"
    }
   ],
   "source": [
    "image_info_label[image_info_label['score']<600]['create_role_30_pay_sum'].sum()"
   ]
  },
  {
   "cell_type": "code",
   "execution_count": 980,
   "metadata": {},
   "outputs": [
    {
     "data": {
      "text/plain": [
       "0.4183291725768394"
      ]
     },
     "execution_count": 980,
     "metadata": {},
     "output_type": "execute_result"
    }
   ],
   "source": [
    "image_info_label['create_role_30_pay_sum'].sum() / image_info_label['image_run_date_amount'].sum()"
   ]
  },
  {
   "cell_type": "code",
   "execution_count": 981,
   "metadata": {},
   "outputs": [
    {
     "data": {
      "text/plain": [
       "0.32404047193462976"
      ]
     },
     "execution_count": 981,
     "metadata": {},
     "output_type": "execute_result"
    }
   ],
   "source": [
    "image_info_label[image_info_label['score']>=600]['image_run_date_amount'].sum() / image_info_label['image_run_date_amount'].sum()"
   ]
  },
  {
   "cell_type": "code",
   "execution_count": null,
   "metadata": {},
   "outputs": [],
   "source": []
  },
  {
   "cell_type": "code",
   "execution_count": null,
   "metadata": {},
   "outputs": [],
   "source": []
  },
  {
   "cell_type": "code",
   "execution_count": 982,
   "metadata": {},
   "outputs": [
    {
     "data": {
      "text/plain": [
       "0.10800634059168893"
      ]
     },
     "execution_count": 982,
     "metadata": {},
     "output_type": "execute_result"
    }
   ],
   "source": [
    "image_info_label[image_info_label['score']>=660]['image_run_date_amount'].sum() / image_info_label['image_run_date_amount'].sum()"
   ]
  },
  {
   "cell_type": "code",
   "execution_count": 983,
   "metadata": {},
   "outputs": [
    {
     "name": "stdout",
     "output_type": "stream",
     "text": [
      "高分区ROI： 1.0529503337420634\n",
      "低分区ROI： 0.34148657559585716\n"
     ]
    }
   ],
   "source": [
    "print('高分区ROI：',image_info_label[image_info_label['score']>=660]['create_role_30_pay_sum'].sum() / image_info_label[image_info_label['score']>=660]['image_run_date_amount'].sum())\n",
    "print('低分区ROI：',image_info_label[image_info_label['score']<660]['create_role_30_pay_sum'].sum() / image_info_label[image_info_label['score']<660]['image_run_date_amount'].sum())"
   ]
  },
  {
   "cell_type": "code",
   "execution_count": 984,
   "metadata": {},
   "outputs": [
    {
     "name": "stdout",
     "output_type": "stream",
     "text": [
      "高分区ROI： 0.6043126790268967\n",
      "低分区ROI： 0.20367165039902518\n"
     ]
    }
   ],
   "source": [
    "print('高分区ROI：',image_info_label[image_info_label['score']>=560]['create_role_30_pay_sum'].sum() / image_info_label[image_info_label['score']>=560]['image_run_date_amount'].sum())\n",
    "print('低分区ROI：',image_info_label[image_info_label['score']<560]['create_role_30_pay_sum'].sum() / image_info_label[image_info_label['score']<560]['image_run_date_amount'].sum())"
   ]
  },
  {
   "cell_type": "code",
   "execution_count": 985,
   "metadata": {
    "scrolled": true
   },
   "outputs": [
    {
     "data": {
      "text/plain": [
       "image_create_role_cost        -0.226057\n",
       "media_id                      -0.222798\n",
       "image_create_role_pay_cost    -0.140718\n",
       "image_create_role_retain_1d    0.021137\n",
       "image_source_total_num         0.398816\n",
       "image_create_role_pay_rate     0.457105\n",
       "image_create_role_num          0.535001\n",
       "image_create_role_roi          0.535890\n",
       "image_valid_source_rate        0.538335\n",
       "image_source_num               0.570745\n",
       "image_create_role_pay_num      0.572985\n",
       "image_run_date_amount          0.595584\n",
       "image_create_role_pay_sum      0.610842\n",
       "score                          1.000000\n",
       "Name: score, dtype: float64"
      ]
     },
     "execution_count": 985,
     "metadata": {},
     "output_type": "execute_result"
    }
   ],
   "source": [
    "image_info_label.drop(['image_id','create_role_30_pay_sum','label'],axis=1).corr()['score'].sort_values()"
   ]
  },
  {
   "cell_type": "markdown",
   "metadata": {},
   "source": [
    "### Test"
   ]
  },
  {
   "cell_type": "code",
   "execution_count": 986,
   "metadata": {},
   "outputs": [],
   "source": [
    "test = pd.read_csv('./test_data.csv')"
   ]
  },
  {
   "cell_type": "code",
   "execution_count": 987,
   "metadata": {},
   "outputs": [
    {
     "data": {
      "text/html": [
       "<div>\n",
       "<style scoped>\n",
       "    .dataframe tbody tr th:only-of-type {\n",
       "        vertical-align: middle;\n",
       "    }\n",
       "\n",
       "    .dataframe tbody tr th {\n",
       "        vertical-align: top;\n",
       "    }\n",
       "\n",
       "    .dataframe thead th {\n",
       "        text-align: right;\n",
       "    }\n",
       "</style>\n",
       "<table border=\"1\" class=\"dataframe\">\n",
       "  <thead>\n",
       "    <tr style=\"text-align: right;\">\n",
       "      <th></th>\n",
       "      <th>image_id</th>\n",
       "      <th>image_name</th>\n",
       "      <th>media_id</th>\n",
       "      <th>image_launch_time</th>\n",
       "      <th>image_source_total_num</th>\n",
       "      <th>image_run_date_amount</th>\n",
       "      <th>image_create_role_pay_num</th>\n",
       "      <th>image_create_role_num</th>\n",
       "      <th>image_create_role_pay_sum</th>\n",
       "      <th>image_source_num</th>\n",
       "      <th>image_create_role_pay_rate</th>\n",
       "      <th>image_create_role_cost</th>\n",
       "      <th>image_create_role_pay_cost</th>\n",
       "      <th>image_valid_source_num</th>\n",
       "      <th>image_valid_source_rate</th>\n",
       "      <th>image_pay_sum_ability</th>\n",
       "      <th>image_pay_num_ability</th>\n",
       "      <th>image_create_role_roi</th>\n",
       "      <th>image_create_role_retain_1d</th>\n",
       "      <th>create_role_30_pay_sum</th>\n",
       "      <th>model_run_datetime</th>\n",
       "      <th>data_win</th>\n",
       "    </tr>\n",
       "  </thead>\n",
       "  <tbody>\n",
       "    <tr>\n",
       "      <th>0</th>\n",
       "      <td>27955</td>\n",
       "      <td>QMZT004-CHL</td>\n",
       "      <td>16</td>\n",
       "      <td>2020-12-30</td>\n",
       "      <td>68</td>\n",
       "      <td>4129.26</td>\n",
       "      <td>0.0</td>\n",
       "      <td>19.0</td>\n",
       "      <td>0.0</td>\n",
       "      <td>5</td>\n",
       "      <td>0.0000</td>\n",
       "      <td>217.329474</td>\n",
       "      <td>0.00</td>\n",
       "      <td>0.0</td>\n",
       "      <td>0.0</td>\n",
       "      <td>0.0</td>\n",
       "      <td>0.0</td>\n",
       "      <td>0.000000</td>\n",
       "      <td>0.1200</td>\n",
       "      <td>21310.0</td>\n",
       "      <td>2021-03-06</td>\n",
       "      <td>3</td>\n",
       "    </tr>\n",
       "    <tr>\n",
       "      <th>1</th>\n",
       "      <td>28049</td>\n",
       "      <td>QMZZ003-横版xy-640x360 ＜100mb 30s</td>\n",
       "      <td>10</td>\n",
       "      <td>2020-12-25</td>\n",
       "      <td>35</td>\n",
       "      <td>2027.80</td>\n",
       "      <td>0.0</td>\n",
       "      <td>9.0</td>\n",
       "      <td>0.0</td>\n",
       "      <td>1</td>\n",
       "      <td>0.0000</td>\n",
       "      <td>225.311111</td>\n",
       "      <td>0.00</td>\n",
       "      <td>0.0</td>\n",
       "      <td>0.0</td>\n",
       "      <td>0.0</td>\n",
       "      <td>0.0</td>\n",
       "      <td>0.000000</td>\n",
       "      <td>0.0000</td>\n",
       "      <td>0.0</td>\n",
       "      <td>2021-03-06</td>\n",
       "      <td>3</td>\n",
       "    </tr>\n",
       "    <tr>\n",
       "      <th>2</th>\n",
       "      <td>28054</td>\n",
       "      <td>QMZZ007-竖版LL</td>\n",
       "      <td>10</td>\n",
       "      <td>2020-12-26</td>\n",
       "      <td>29</td>\n",
       "      <td>505.42</td>\n",
       "      <td>1.0</td>\n",
       "      <td>3.0</td>\n",
       "      <td>6.0</td>\n",
       "      <td>1</td>\n",
       "      <td>0.3333</td>\n",
       "      <td>168.473333</td>\n",
       "      <td>505.42</td>\n",
       "      <td>1.0</td>\n",
       "      <td>1.0</td>\n",
       "      <td>6.0</td>\n",
       "      <td>1.0</td>\n",
       "      <td>0.011871</td>\n",
       "      <td>0.3333</td>\n",
       "      <td>24.0</td>\n",
       "      <td>2021-03-06</td>\n",
       "      <td>3</td>\n",
       "    </tr>\n",
       "    <tr>\n",
       "      <th>3</th>\n",
       "      <td>28061</td>\n",
       "      <td>QMZZ012-竖版ZDC</td>\n",
       "      <td>10</td>\n",
       "      <td>2020-12-26</td>\n",
       "      <td>110</td>\n",
       "      <td>3373.11</td>\n",
       "      <td>1.0</td>\n",
       "      <td>22.0</td>\n",
       "      <td>6.0</td>\n",
       "      <td>3</td>\n",
       "      <td>0.0455</td>\n",
       "      <td>153.323182</td>\n",
       "      <td>3373.11</td>\n",
       "      <td>0.0</td>\n",
       "      <td>0.0</td>\n",
       "      <td>0.0</td>\n",
       "      <td>0.0</td>\n",
       "      <td>0.001779</td>\n",
       "      <td>0.1556</td>\n",
       "      <td>917.0</td>\n",
       "      <td>2021-03-06</td>\n",
       "      <td>3</td>\n",
       "    </tr>\n",
       "    <tr>\n",
       "      <th>4</th>\n",
       "      <td>28073</td>\n",
       "      <td>QMZZ015-横版CHL（口播）</td>\n",
       "      <td>10</td>\n",
       "      <td>2020-12-25</td>\n",
       "      <td>196</td>\n",
       "      <td>5987.62</td>\n",
       "      <td>1.0</td>\n",
       "      <td>48.0</td>\n",
       "      <td>6.0</td>\n",
       "      <td>4</td>\n",
       "      <td>0.0208</td>\n",
       "      <td>124.742083</td>\n",
       "      <td>5987.62</td>\n",
       "      <td>0.0</td>\n",
       "      <td>0.0</td>\n",
       "      <td>0.0</td>\n",
       "      <td>0.0</td>\n",
       "      <td>0.001002</td>\n",
       "      <td>0.0980</td>\n",
       "      <td>42.0</td>\n",
       "      <td>2021-03-06</td>\n",
       "      <td>3</td>\n",
       "    </tr>\n",
       "  </tbody>\n",
       "</table>\n",
       "</div>"
      ],
      "text/plain": [
       "   image_id                       image_name  media_id image_launch_time  \\\n",
       "0     27955                      QMZT004-CHL        16        2020-12-30   \n",
       "1     28049  QMZZ003-横版xy-640x360 ＜100mb 30s        10        2020-12-25   \n",
       "2     28054                     QMZZ007-竖版LL        10        2020-12-26   \n",
       "3     28061                    QMZZ012-竖版ZDC        10        2020-12-26   \n",
       "4     28073                QMZZ015-横版CHL（口播）        10        2020-12-25   \n",
       "\n",
       "   image_source_total_num  image_run_date_amount  image_create_role_pay_num  \\\n",
       "0                      68                4129.26                        0.0   \n",
       "1                      35                2027.80                        0.0   \n",
       "2                      29                 505.42                        1.0   \n",
       "3                     110                3373.11                        1.0   \n",
       "4                     196                5987.62                        1.0   \n",
       "\n",
       "   image_create_role_num  image_create_role_pay_sum  image_source_num  \\\n",
       "0                   19.0                        0.0                 5   \n",
       "1                    9.0                        0.0                 1   \n",
       "2                    3.0                        6.0                 1   \n",
       "3                   22.0                        6.0                 3   \n",
       "4                   48.0                        6.0                 4   \n",
       "\n",
       "   image_create_role_pay_rate  image_create_role_cost  \\\n",
       "0                      0.0000              217.329474   \n",
       "1                      0.0000              225.311111   \n",
       "2                      0.3333              168.473333   \n",
       "3                      0.0455              153.323182   \n",
       "4                      0.0208              124.742083   \n",
       "\n",
       "   image_create_role_pay_cost  image_valid_source_num  \\\n",
       "0                        0.00                     0.0   \n",
       "1                        0.00                     0.0   \n",
       "2                      505.42                     1.0   \n",
       "3                     3373.11                     0.0   \n",
       "4                     5987.62                     0.0   \n",
       "\n",
       "   image_valid_source_rate  image_pay_sum_ability  image_pay_num_ability  \\\n",
       "0                      0.0                    0.0                    0.0   \n",
       "1                      0.0                    0.0                    0.0   \n",
       "2                      1.0                    6.0                    1.0   \n",
       "3                      0.0                    0.0                    0.0   \n",
       "4                      0.0                    0.0                    0.0   \n",
       "\n",
       "   image_create_role_roi  image_create_role_retain_1d  create_role_30_pay_sum  \\\n",
       "0               0.000000                       0.1200                 21310.0   \n",
       "1               0.000000                       0.0000                     0.0   \n",
       "2               0.011871                       0.3333                    24.0   \n",
       "3               0.001779                       0.1556                   917.0   \n",
       "4               0.001002                       0.0980                    42.0   \n",
       "\n",
       "  model_run_datetime  data_win  \n",
       "0         2021-03-06         3  \n",
       "1         2021-03-06         3  \n",
       "2         2021-03-06         3  \n",
       "3         2021-03-06         3  \n",
       "4         2021-03-06         3  "
      ]
     },
     "execution_count": 987,
     "metadata": {},
     "output_type": "execute_result"
    }
   ],
   "source": [
    "test.head()"
   ]
  },
  {
   "cell_type": "code",
   "execution_count": 988,
   "metadata": {},
   "outputs": [
    {
     "data": {
      "text/plain": [
       "0.34809427673215937"
      ]
     },
     "execution_count": 988,
     "metadata": {},
     "output_type": "execute_result"
    }
   ],
   "source": [
    "test['create_role_30_pay_sum'].sum() / test['image_run_date_amount'].sum()"
   ]
  },
  {
   "cell_type": "code",
   "execution_count": 633,
   "metadata": {},
   "outputs": [
    {
     "data": {
      "text/plain": [
       "(6136, 22)"
      ]
     },
     "execution_count": 633,
     "metadata": {},
     "output_type": "execute_result"
    }
   ],
   "source": [
    "test.shape"
   ]
  },
  {
   "cell_type": "code",
   "execution_count": 634,
   "metadata": {},
   "outputs": [],
   "source": [
    "test_woe = test.copy()"
   ]
  },
  {
   "cell_type": "code",
   "execution_count": 635,
   "metadata": {},
   "outputs": [],
   "source": [
    "def FE(df):\n",
    "    df['image_create_role_cost'].replace(0, float('inf'), inplace=True)\n",
    "    df['image_create_role_pay_cost'].replace(0, float('inf'), inplace=True)\n",
    "    # 分桶定义（根据训练模型给出）\n",
    "    pinf = float('inf')#正无穷大\n",
    "    ninf = float('-inf')#负无穷大\n",
    "    woex1 = [1.332, 1.202, 0.953, 0.845, 0.503, 0.216, 0.031, -0.363, -0.871, -1.702]\n",
    "    woex2 = [0.896, -0.47, -1.078, -1.616, -2.105, -4.266]\n",
    "    woex3 = [1.902, 1.227, 0.873, 0.771, 0.503, 0.215, 0.022, -0.394, -0.862, -1.784]\n",
    "    woex4 = [1.0, -0.098, -0.943, -1.772, -2.692, -3.759, -5.138]\n",
    "    woex5 = [0.552, -0.086, -0.573, -0.865, -1.345, -3.033]\n",
    "    woex6 = [0.691, -0.919, -0.999, -0.956, -0.646]\n",
    "    woex7 = [-0.609, -0.703, -0.521, -0.481, -0.139, 0.059, 0.359, 0.689, 1.315, 1.777]\n",
    "    woex8 = [-1.338, -1.316, -1.277, -0.962, -0.781, -0.609, -0.363, -0.261, -0.112, -0.076, 0.243, 1.219]\n",
    "    woex9 = [0.513, -0.717, -1.43, -1.04, -1.413, -1.256]\n",
    "    woex10 = [0.443, -0.981, -1.658, -2.221, -2.823, -3.33]\n",
    "    cutx1 = [ninf, 746.88, 1110.6, 1610.17, 2257.0, 3238.89, 4665.68, 6944.65, 11197.13, 24364.64, pinf]\n",
    "    cutx2 = [ninf, 1, 3, 8, 12, 50, pinf]\n",
    "    cutx3 = [ninf, 5.0, 9.0, 14.0, 21.0, 31.0, 48.0, 78.0, 138.0, 319.0, pinf]\n",
    "    cutx4 = [ninf, 60, 100, 300, 600, 1000, 4000, pinf]\n",
    "    cutx5 = [ninf, 1, 3, 6, 10, 50, pinf]\n",
    "    cutx6 = [ninf, 0.01, 0.025, 0.05, 0.075, pinf]\n",
    "    cutx7 = [ninf, 50, 100, 150, 200, 300, 400, pinf]\n",
    "    cutx8 = [ninf, 2000, 3000, 4000, 6000, 8000, 10000, pinf]\n",
    "    cutx9 = [ninf, 0.1, 0.2, 0.3, 0.4, 0.6, pinf]\n",
    "    cutx10 = [ninf, 0.1, 0.2, 0.3, 0.4, 0.6, pinf]\n",
    "\n",
    "    \n",
    "    # 数据转化\n",
    "    df['image_run_date_amount'] = change_woe(df['image_run_date_amount'], cutx1, woex1)\n",
    "    df['image_create_role_pay_num'] = change_woe(df['image_create_role_pay_num'], cutx2, woex2)\n",
    "    df['image_create_role_num'] = change_woe(df['image_create_role_num'], cutx3, woex3)\n",
    "    df['image_create_role_pay_sum'] = change_woe(df['image_create_role_pay_sum'], cutx4,woex4)\n",
    "    df['image_source_num'] = change_woe(df['image_source_num'], cutx5, woex5)\n",
    "    df['image_create_role_pay_rate'] = change_woe(df['image_create_role_pay_rate'], cutx6,woex6)\n",
    "    df['image_create_role_cost'] = change_woe(df['image_create_role_cost'], cutx7, woex7)\n",
    "    df['image_create_role_pay_cost'] = change_woe(df['image_create_role_pay_cost'], cutx8,woex8)\n",
    "#     df['image_valid_source_rate'] = change_woe(df['image_valid_source_rate'], cutx9,woex9)\n",
    "#     df['image_pay_sum_ability'] = change_woe(df['image_pay_sum_ability'], cutx10, woex10)\n",
    "#     df['image_pay_num_ability'] = change_woe(df['image_pay_num_ability'], cutx11, woex11)\n",
    "    df['image_create_role_roi'] = change_woe(df['image_create_role_roi'], cutx9, woex9)\n",
    "    df['image_create_role_retain_1d'] = change_woe(df['image_create_role_retain_1d'], cutx10, woex10) \n",
    "\n",
    "    return df"
   ]
  },
  {
   "cell_type": "code",
   "execution_count": 636,
   "metadata": {},
   "outputs": [],
   "source": [
    "test_woe = FE(test_woe)"
   ]
  },
  {
   "cell_type": "code",
   "execution_count": 637,
   "metadata": {},
   "outputs": [
    {
     "data": {
      "text/html": [
       "<div>\n",
       "<style scoped>\n",
       "    .dataframe tbody tr th:only-of-type {\n",
       "        vertical-align: middle;\n",
       "    }\n",
       "\n",
       "    .dataframe tbody tr th {\n",
       "        vertical-align: top;\n",
       "    }\n",
       "\n",
       "    .dataframe thead th {\n",
       "        text-align: right;\n",
       "    }\n",
       "</style>\n",
       "<table border=\"1\" class=\"dataframe\">\n",
       "  <thead>\n",
       "    <tr style=\"text-align: right;\">\n",
       "      <th></th>\n",
       "      <th>image_id</th>\n",
       "      <th>image_name</th>\n",
       "      <th>media_id</th>\n",
       "      <th>image_launch_time</th>\n",
       "      <th>image_source_total_num</th>\n",
       "      <th>image_run_date_amount</th>\n",
       "      <th>image_create_role_pay_num</th>\n",
       "      <th>image_create_role_num</th>\n",
       "      <th>image_create_role_pay_sum</th>\n",
       "      <th>image_source_num</th>\n",
       "      <th>image_create_role_pay_rate</th>\n",
       "      <th>image_create_role_cost</th>\n",
       "      <th>image_create_role_pay_cost</th>\n",
       "      <th>image_valid_source_num</th>\n",
       "      <th>image_valid_source_rate</th>\n",
       "      <th>image_pay_sum_ability</th>\n",
       "      <th>image_pay_num_ability</th>\n",
       "      <th>image_create_role_roi</th>\n",
       "      <th>image_create_role_retain_1d</th>\n",
       "      <th>create_role_30_pay_sum</th>\n",
       "      <th>model_run_datetime</th>\n",
       "      <th>data_win</th>\n",
       "    </tr>\n",
       "  </thead>\n",
       "  <tbody>\n",
       "    <tr>\n",
       "      <th>0</th>\n",
       "      <td>27955</td>\n",
       "      <td>QMZT004-CHL</td>\n",
       "      <td>16</td>\n",
       "      <td>2020-12-30</td>\n",
       "      <td>68</td>\n",
       "      <td>0.216</td>\n",
       "      <td>0.896</td>\n",
       "      <td>0.771</td>\n",
       "      <td>1.0</td>\n",
       "      <td>-0.573</td>\n",
       "      <td>0.691</td>\n",
       "      <td>-0.139</td>\n",
       "      <td>-0.363</td>\n",
       "      <td>0.0</td>\n",
       "      <td>0.0</td>\n",
       "      <td>0.0</td>\n",
       "      <td>0.0</td>\n",
       "      <td>0.513</td>\n",
       "      <td>-0.981</td>\n",
       "      <td>21310.0</td>\n",
       "      <td>2021-03-06</td>\n",
       "      <td>3</td>\n",
       "    </tr>\n",
       "    <tr>\n",
       "      <th>1</th>\n",
       "      <td>28049</td>\n",
       "      <td>QMZZ003-横版xy-640x360 ＜100mb 30s</td>\n",
       "      <td>10</td>\n",
       "      <td>2020-12-25</td>\n",
       "      <td>35</td>\n",
       "      <td>0.845</td>\n",
       "      <td>0.896</td>\n",
       "      <td>0.873</td>\n",
       "      <td>1.0</td>\n",
       "      <td>-0.086</td>\n",
       "      <td>0.691</td>\n",
       "      <td>-0.139</td>\n",
       "      <td>-0.363</td>\n",
       "      <td>0.0</td>\n",
       "      <td>0.0</td>\n",
       "      <td>0.0</td>\n",
       "      <td>0.0</td>\n",
       "      <td>0.513</td>\n",
       "      <td>0.443</td>\n",
       "      <td>0.0</td>\n",
       "      <td>2021-03-06</td>\n",
       "      <td>3</td>\n",
       "    </tr>\n",
       "    <tr>\n",
       "      <th>2</th>\n",
       "      <td>28054</td>\n",
       "      <td>QMZZ007-竖版LL</td>\n",
       "      <td>10</td>\n",
       "      <td>2020-12-26</td>\n",
       "      <td>29</td>\n",
       "      <td>1.332</td>\n",
       "      <td>-0.470</td>\n",
       "      <td>1.902</td>\n",
       "      <td>1.0</td>\n",
       "      <td>-0.086</td>\n",
       "      <td>-0.646</td>\n",
       "      <td>-0.481</td>\n",
       "      <td>-1.338</td>\n",
       "      <td>1.0</td>\n",
       "      <td>1.0</td>\n",
       "      <td>6.0</td>\n",
       "      <td>1.0</td>\n",
       "      <td>0.513</td>\n",
       "      <td>-2.221</td>\n",
       "      <td>24.0</td>\n",
       "      <td>2021-03-06</td>\n",
       "      <td>3</td>\n",
       "    </tr>\n",
       "    <tr>\n",
       "      <th>3</th>\n",
       "      <td>28061</td>\n",
       "      <td>QMZZ012-竖版ZDC</td>\n",
       "      <td>10</td>\n",
       "      <td>2020-12-26</td>\n",
       "      <td>110</td>\n",
       "      <td>0.216</td>\n",
       "      <td>-0.470</td>\n",
       "      <td>0.503</td>\n",
       "      <td>1.0</td>\n",
       "      <td>-0.573</td>\n",
       "      <td>-0.999</td>\n",
       "      <td>-0.481</td>\n",
       "      <td>-1.277</td>\n",
       "      <td>0.0</td>\n",
       "      <td>0.0</td>\n",
       "      <td>0.0</td>\n",
       "      <td>0.0</td>\n",
       "      <td>0.513</td>\n",
       "      <td>-0.981</td>\n",
       "      <td>917.0</td>\n",
       "      <td>2021-03-06</td>\n",
       "      <td>3</td>\n",
       "    </tr>\n",
       "    <tr>\n",
       "      <th>4</th>\n",
       "      <td>28073</td>\n",
       "      <td>QMZZ015-横版CHL（口播）</td>\n",
       "      <td>10</td>\n",
       "      <td>2020-12-25</td>\n",
       "      <td>196</td>\n",
       "      <td>0.031</td>\n",
       "      <td>-0.470</td>\n",
       "      <td>0.022</td>\n",
       "      <td>1.0</td>\n",
       "      <td>-0.573</td>\n",
       "      <td>-0.919</td>\n",
       "      <td>-0.521</td>\n",
       "      <td>-0.962</td>\n",
       "      <td>0.0</td>\n",
       "      <td>0.0</td>\n",
       "      <td>0.0</td>\n",
       "      <td>0.0</td>\n",
       "      <td>0.513</td>\n",
       "      <td>0.443</td>\n",
       "      <td>42.0</td>\n",
       "      <td>2021-03-06</td>\n",
       "      <td>3</td>\n",
       "    </tr>\n",
       "  </tbody>\n",
       "</table>\n",
       "</div>"
      ],
      "text/plain": [
       "   image_id                       image_name  media_id image_launch_time  \\\n",
       "0     27955                      QMZT004-CHL        16        2020-12-30   \n",
       "1     28049  QMZZ003-横版xy-640x360 ＜100mb 30s        10        2020-12-25   \n",
       "2     28054                     QMZZ007-竖版LL        10        2020-12-26   \n",
       "3     28061                    QMZZ012-竖版ZDC        10        2020-12-26   \n",
       "4     28073                QMZZ015-横版CHL（口播）        10        2020-12-25   \n",
       "\n",
       "   image_source_total_num  image_run_date_amount  image_create_role_pay_num  \\\n",
       "0                      68                  0.216                      0.896   \n",
       "1                      35                  0.845                      0.896   \n",
       "2                      29                  1.332                     -0.470   \n",
       "3                     110                  0.216                     -0.470   \n",
       "4                     196                  0.031                     -0.470   \n",
       "\n",
       "   image_create_role_num  image_create_role_pay_sum  image_source_num  \\\n",
       "0                  0.771                        1.0            -0.573   \n",
       "1                  0.873                        1.0            -0.086   \n",
       "2                  1.902                        1.0            -0.086   \n",
       "3                  0.503                        1.0            -0.573   \n",
       "4                  0.022                        1.0            -0.573   \n",
       "\n",
       "   image_create_role_pay_rate  image_create_role_cost  \\\n",
       "0                       0.691                  -0.139   \n",
       "1                       0.691                  -0.139   \n",
       "2                      -0.646                  -0.481   \n",
       "3                      -0.999                  -0.481   \n",
       "4                      -0.919                  -0.521   \n",
       "\n",
       "   image_create_role_pay_cost  image_valid_source_num  \\\n",
       "0                      -0.363                     0.0   \n",
       "1                      -0.363                     0.0   \n",
       "2                      -1.338                     1.0   \n",
       "3                      -1.277                     0.0   \n",
       "4                      -0.962                     0.0   \n",
       "\n",
       "   image_valid_source_rate  image_pay_sum_ability  image_pay_num_ability  \\\n",
       "0                      0.0                    0.0                    0.0   \n",
       "1                      0.0                    0.0                    0.0   \n",
       "2                      1.0                    6.0                    1.0   \n",
       "3                      0.0                    0.0                    0.0   \n",
       "4                      0.0                    0.0                    0.0   \n",
       "\n",
       "   image_create_role_roi  image_create_role_retain_1d  create_role_30_pay_sum  \\\n",
       "0                  0.513                       -0.981                 21310.0   \n",
       "1                  0.513                        0.443                     0.0   \n",
       "2                  0.513                       -2.221                    24.0   \n",
       "3                  0.513                       -0.981                   917.0   \n",
       "4                  0.513                        0.443                    42.0   \n",
       "\n",
       "  model_run_datetime  data_win  \n",
       "0         2021-03-06         3  \n",
       "1         2021-03-06         3  \n",
       "2         2021-03-06         3  \n",
       "3         2021-03-06         3  \n",
       "4         2021-03-06         3  "
      ]
     },
     "execution_count": 637,
     "metadata": {},
     "output_type": "execute_result"
    }
   ],
   "source": [
    "test_woe.head()"
   ]
  },
  {
   "cell_type": "code",
   "execution_count": 638,
   "metadata": {},
   "outputs": [],
   "source": [
    "select_feature = ['image_run_date_amount', 'image_create_role_pay_num',\n",
    "                  'image_create_role_num', 'image_create_role_pay_sum',\n",
    "                  'image_source_num', 'image_create_role_pay_rate',\n",
    "                  'image_create_role_cost', 'image_create_role_pay_cost',\n",
    "                  'image_create_role_roi','image_create_role_retain_1d']\n",
    "\n",
    "\n",
    "feature = test_woe[select_feature]\n",
    "test_woe['pred'] = 0.4 * best_est_XGB.predict_proba(feature)[:, 1] + 0.3 * best_est_LGB.predict_proba(\n",
    "    feature)[:, 1] + 0.3 * best_est_RF.predict_proba(feature)[:, 1]\n",
    "test_woe['score'] = test_woe['pred'].apply(Prob2Score)\n",
    "test['score'] = test_woe['score']"
   ]
  },
  {
   "cell_type": "code",
   "execution_count": 639,
   "metadata": {},
   "outputs": [
    {
     "data": {
      "text/html": [
       "<div>\n",
       "<style scoped>\n",
       "    .dataframe tbody tr th:only-of-type {\n",
       "        vertical-align: middle;\n",
       "    }\n",
       "\n",
       "    .dataframe tbody tr th {\n",
       "        vertical-align: top;\n",
       "    }\n",
       "\n",
       "    .dataframe thead th {\n",
       "        text-align: right;\n",
       "    }\n",
       "</style>\n",
       "<table border=\"1\" class=\"dataframe\">\n",
       "  <thead>\n",
       "    <tr style=\"text-align: right;\">\n",
       "      <th></th>\n",
       "      <th>image_id</th>\n",
       "      <th>image_name</th>\n",
       "      <th>media_id</th>\n",
       "      <th>image_launch_time</th>\n",
       "      <th>image_source_total_num</th>\n",
       "      <th>image_run_date_amount</th>\n",
       "      <th>image_create_role_pay_num</th>\n",
       "      <th>image_create_role_num</th>\n",
       "      <th>image_create_role_pay_sum</th>\n",
       "      <th>image_source_num</th>\n",
       "      <th>image_create_role_pay_rate</th>\n",
       "      <th>image_create_role_cost</th>\n",
       "      <th>image_create_role_pay_cost</th>\n",
       "      <th>image_valid_source_num</th>\n",
       "      <th>image_valid_source_rate</th>\n",
       "      <th>image_pay_sum_ability</th>\n",
       "      <th>image_pay_num_ability</th>\n",
       "      <th>image_create_role_roi</th>\n",
       "      <th>image_create_role_retain_1d</th>\n",
       "      <th>create_role_30_pay_sum</th>\n",
       "      <th>model_run_datetime</th>\n",
       "      <th>data_win</th>\n",
       "      <th>score</th>\n",
       "    </tr>\n",
       "  </thead>\n",
       "  <tbody>\n",
       "    <tr>\n",
       "      <th>879</th>\n",
       "      <td>30522</td>\n",
       "      <td>QMZZ483-横版ZDC</td>\n",
       "      <td>10</td>\n",
       "      <td>2021-03-04</td>\n",
       "      <td>18</td>\n",
       "      <td>11611.57</td>\n",
       "      <td>5.0</td>\n",
       "      <td>56.0</td>\n",
       "      <td>3612.0</td>\n",
       "      <td>9</td>\n",
       "      <td>0.0893</td>\n",
       "      <td>207.349464</td>\n",
       "      <td>2322.314000</td>\n",
       "      <td>9.0</td>\n",
       "      <td>1.0</td>\n",
       "      <td>401.333333</td>\n",
       "      <td>0.5556</td>\n",
       "      <td>0.311069</td>\n",
       "      <td>0.2034</td>\n",
       "      <td>34908.0</td>\n",
       "      <td>2021-03-09</td>\n",
       "      <td>3</td>\n",
       "      <td>712</td>\n",
       "    </tr>\n",
       "    <tr>\n",
       "      <th>5584</th>\n",
       "      <td>30889</td>\n",
       "      <td>GZDGS209-CYS  建造升级 3D</td>\n",
       "      <td>16</td>\n",
       "      <td>2021-03-11</td>\n",
       "      <td>22</td>\n",
       "      <td>5649.29</td>\n",
       "      <td>2.0</td>\n",
       "      <td>16.0</td>\n",
       "      <td>2214.0</td>\n",
       "      <td>5</td>\n",
       "      <td>0.1250</td>\n",
       "      <td>353.080625</td>\n",
       "      <td>2824.645000</td>\n",
       "      <td>0.0</td>\n",
       "      <td>0.0</td>\n",
       "      <td>0.000000</td>\n",
       "      <td>0.0000</td>\n",
       "      <td>0.391908</td>\n",
       "      <td>0.4375</td>\n",
       "      <td>23253.0</td>\n",
       "      <td>2021-03-25</td>\n",
       "      <td>3</td>\n",
       "      <td>709</td>\n",
       "    </tr>\n",
       "    <tr>\n",
       "      <th>5942</th>\n",
       "      <td>30889</td>\n",
       "      <td>GZDGS209-CYS  建造升级 3D</td>\n",
       "      <td>16</td>\n",
       "      <td>2021-03-11</td>\n",
       "      <td>22</td>\n",
       "      <td>5649.29</td>\n",
       "      <td>2.0</td>\n",
       "      <td>16.0</td>\n",
       "      <td>2214.0</td>\n",
       "      <td>5</td>\n",
       "      <td>0.1250</td>\n",
       "      <td>353.080625</td>\n",
       "      <td>2824.645000</td>\n",
       "      <td>0.0</td>\n",
       "      <td>0.0</td>\n",
       "      <td>0.000000</td>\n",
       "      <td>0.0000</td>\n",
       "      <td>0.391908</td>\n",
       "      <td>0.4211</td>\n",
       "      <td>23253.0</td>\n",
       "      <td>2021-03-26</td>\n",
       "      <td>3</td>\n",
       "      <td>709</td>\n",
       "    </tr>\n",
       "    <tr>\n",
       "      <th>4136</th>\n",
       "      <td>30042</td>\n",
       "      <td>QMZZ320-横版LL（TT）</td>\n",
       "      <td>10</td>\n",
       "      <td>2021-02-20</td>\n",
       "      <td>47</td>\n",
       "      <td>25095.04</td>\n",
       "      <td>7.0</td>\n",
       "      <td>155.0</td>\n",
       "      <td>5726.0</td>\n",
       "      <td>4</td>\n",
       "      <td>0.0452</td>\n",
       "      <td>161.903484</td>\n",
       "      <td>3585.005714</td>\n",
       "      <td>0.0</td>\n",
       "      <td>0.0</td>\n",
       "      <td>0.000000</td>\n",
       "      <td>0.0000</td>\n",
       "      <td>0.228173</td>\n",
       "      <td>0.2949</td>\n",
       "      <td>12007.0</td>\n",
       "      <td>2021-03-21</td>\n",
       "      <td>3</td>\n",
       "      <td>708</td>\n",
       "    </tr>\n",
       "    <tr>\n",
       "      <th>3827</th>\n",
       "      <td>30438</td>\n",
       "      <td>GZDGS172-LZQ+XF 解说海岛</td>\n",
       "      <td>10</td>\n",
       "      <td>2021-03-01</td>\n",
       "      <td>348</td>\n",
       "      <td>70845.79</td>\n",
       "      <td>19.0</td>\n",
       "      <td>528.0</td>\n",
       "      <td>7619.0</td>\n",
       "      <td>35</td>\n",
       "      <td>0.0360</td>\n",
       "      <td>134.177633</td>\n",
       "      <td>3728.725789</td>\n",
       "      <td>0.0</td>\n",
       "      <td>0.0</td>\n",
       "      <td>0.000000</td>\n",
       "      <td>0.0000</td>\n",
       "      <td>0.107543</td>\n",
       "      <td>0.1724</td>\n",
       "      <td>25643.0</td>\n",
       "      <td>2021-03-20</td>\n",
       "      <td>3</td>\n",
       "      <td>707</td>\n",
       "    </tr>\n",
       "    <tr>\n",
       "      <th>...</th>\n",
       "      <td>...</td>\n",
       "      <td>...</td>\n",
       "      <td>...</td>\n",
       "      <td>...</td>\n",
       "      <td>...</td>\n",
       "      <td>...</td>\n",
       "      <td>...</td>\n",
       "      <td>...</td>\n",
       "      <td>...</td>\n",
       "      <td>...</td>\n",
       "      <td>...</td>\n",
       "      <td>...</td>\n",
       "      <td>...</td>\n",
       "      <td>...</td>\n",
       "      <td>...</td>\n",
       "      <td>...</td>\n",
       "      <td>...</td>\n",
       "      <td>...</td>\n",
       "      <td>...</td>\n",
       "      <td>...</td>\n",
       "      <td>...</td>\n",
       "      <td>...</td>\n",
       "      <td>...</td>\n",
       "    </tr>\n",
       "    <tr>\n",
       "      <th>4554</th>\n",
       "      <td>30881</td>\n",
       "      <td>QMZZ518-横版LL（3D原创3渲染2）（TT）</td>\n",
       "      <td>16</td>\n",
       "      <td>2021-03-11</td>\n",
       "      <td>53</td>\n",
       "      <td>1190.89</td>\n",
       "      <td>0.0</td>\n",
       "      <td>7.0</td>\n",
       "      <td>0.0</td>\n",
       "      <td>1</td>\n",
       "      <td>0.0000</td>\n",
       "      <td>170.127143</td>\n",
       "      <td>0.000000</td>\n",
       "      <td>0.0</td>\n",
       "      <td>0.0</td>\n",
       "      <td>0.000000</td>\n",
       "      <td>0.0000</td>\n",
       "      <td>0.000000</td>\n",
       "      <td>0.0000</td>\n",
       "      <td>0.0</td>\n",
       "      <td>2021-03-22</td>\n",
       "      <td>3</td>\n",
       "      <td>455</td>\n",
       "    </tr>\n",
       "    <tr>\n",
       "      <th>4221</th>\n",
       "      <td>30881</td>\n",
       "      <td>QMZZ518-横版LL（3D原创3渲染2）（TT）</td>\n",
       "      <td>16</td>\n",
       "      <td>2021-03-11</td>\n",
       "      <td>53</td>\n",
       "      <td>1190.89</td>\n",
       "      <td>0.0</td>\n",
       "      <td>7.0</td>\n",
       "      <td>0.0</td>\n",
       "      <td>1</td>\n",
       "      <td>0.0000</td>\n",
       "      <td>170.127143</td>\n",
       "      <td>0.000000</td>\n",
       "      <td>0.0</td>\n",
       "      <td>0.0</td>\n",
       "      <td>0.000000</td>\n",
       "      <td>0.0000</td>\n",
       "      <td>0.000000</td>\n",
       "      <td>0.0000</td>\n",
       "      <td>0.0</td>\n",
       "      <td>2021-03-21</td>\n",
       "      <td>3</td>\n",
       "      <td>455</td>\n",
       "    </tr>\n",
       "    <tr>\n",
       "      <th>4625</th>\n",
       "      <td>31136</td>\n",
       "      <td>QMZZ575-竖版ZDC</td>\n",
       "      <td>10</td>\n",
       "      <td>2021-03-20</td>\n",
       "      <td>2</td>\n",
       "      <td>1144.05</td>\n",
       "      <td>0.0</td>\n",
       "      <td>7.0</td>\n",
       "      <td>0.0</td>\n",
       "      <td>1</td>\n",
       "      <td>0.0000</td>\n",
       "      <td>163.435714</td>\n",
       "      <td>0.000000</td>\n",
       "      <td>0.0</td>\n",
       "      <td>0.0</td>\n",
       "      <td>0.000000</td>\n",
       "      <td>0.0000</td>\n",
       "      <td>0.000000</td>\n",
       "      <td>0.0000</td>\n",
       "      <td>0.0</td>\n",
       "      <td>2021-03-22</td>\n",
       "      <td>3</td>\n",
       "      <td>455</td>\n",
       "    </tr>\n",
       "    <tr>\n",
       "      <th>4309</th>\n",
       "      <td>31136</td>\n",
       "      <td>QMZZ575-竖版ZDC</td>\n",
       "      <td>10</td>\n",
       "      <td>2021-03-20</td>\n",
       "      <td>2</td>\n",
       "      <td>1144.05</td>\n",
       "      <td>0.0</td>\n",
       "      <td>7.0</td>\n",
       "      <td>0.0</td>\n",
       "      <td>1</td>\n",
       "      <td>0.0000</td>\n",
       "      <td>163.435714</td>\n",
       "      <td>0.000000</td>\n",
       "      <td>0.0</td>\n",
       "      <td>0.0</td>\n",
       "      <td>0.000000</td>\n",
       "      <td>0.0000</td>\n",
       "      <td>0.000000</td>\n",
       "      <td>0.0000</td>\n",
       "      <td>0.0</td>\n",
       "      <td>2021-03-21</td>\n",
       "      <td>3</td>\n",
       "      <td>455</td>\n",
       "    </tr>\n",
       "    <tr>\n",
       "      <th>4885</th>\n",
       "      <td>30881</td>\n",
       "      <td>QMZZ518-横版LL（3D原创3渲染2）（TT）</td>\n",
       "      <td>16</td>\n",
       "      <td>2021-03-11</td>\n",
       "      <td>53</td>\n",
       "      <td>1190.89</td>\n",
       "      <td>0.0</td>\n",
       "      <td>7.0</td>\n",
       "      <td>0.0</td>\n",
       "      <td>1</td>\n",
       "      <td>0.0000</td>\n",
       "      <td>170.127143</td>\n",
       "      <td>0.000000</td>\n",
       "      <td>0.0</td>\n",
       "      <td>0.0</td>\n",
       "      <td>0.000000</td>\n",
       "      <td>0.0000</td>\n",
       "      <td>0.000000</td>\n",
       "      <td>0.0000</td>\n",
       "      <td>0.0</td>\n",
       "      <td>2021-03-23</td>\n",
       "      <td>3</td>\n",
       "      <td>455</td>\n",
       "    </tr>\n",
       "  </tbody>\n",
       "</table>\n",
       "<p>6136 rows × 23 columns</p>\n",
       "</div>"
      ],
      "text/plain": [
       "      image_id                  image_name  media_id image_launch_time  \\\n",
       "879      30522               QMZZ483-横版ZDC        10        2021-03-04   \n",
       "5584     30889       GZDGS209-CYS  建造升级 3D        16        2021-03-11   \n",
       "5942     30889       GZDGS209-CYS  建造升级 3D        16        2021-03-11   \n",
       "4136     30042            QMZZ320-横版LL（TT）        10        2021-02-20   \n",
       "3827     30438        GZDGS172-LZQ+XF 解说海岛        10        2021-03-01   \n",
       "...        ...                         ...       ...               ...   \n",
       "4554     30881  QMZZ518-横版LL（3D原创3渲染2）（TT）        16        2021-03-11   \n",
       "4221     30881  QMZZ518-横版LL（3D原创3渲染2）（TT）        16        2021-03-11   \n",
       "4625     31136               QMZZ575-竖版ZDC        10        2021-03-20   \n",
       "4309     31136               QMZZ575-竖版ZDC        10        2021-03-20   \n",
       "4885     30881  QMZZ518-横版LL（3D原创3渲染2）（TT）        16        2021-03-11   \n",
       "\n",
       "      image_source_total_num  image_run_date_amount  \\\n",
       "879                       18               11611.57   \n",
       "5584                      22                5649.29   \n",
       "5942                      22                5649.29   \n",
       "4136                      47               25095.04   \n",
       "3827                     348               70845.79   \n",
       "...                      ...                    ...   \n",
       "4554                      53                1190.89   \n",
       "4221                      53                1190.89   \n",
       "4625                       2                1144.05   \n",
       "4309                       2                1144.05   \n",
       "4885                      53                1190.89   \n",
       "\n",
       "      image_create_role_pay_num  image_create_role_num  \\\n",
       "879                         5.0                   56.0   \n",
       "5584                        2.0                   16.0   \n",
       "5942                        2.0                   16.0   \n",
       "4136                        7.0                  155.0   \n",
       "3827                       19.0                  528.0   \n",
       "...                         ...                    ...   \n",
       "4554                        0.0                    7.0   \n",
       "4221                        0.0                    7.0   \n",
       "4625                        0.0                    7.0   \n",
       "4309                        0.0                    7.0   \n",
       "4885                        0.0                    7.0   \n",
       "\n",
       "      image_create_role_pay_sum  image_source_num  image_create_role_pay_rate  \\\n",
       "879                      3612.0                 9                      0.0893   \n",
       "5584                     2214.0                 5                      0.1250   \n",
       "5942                     2214.0                 5                      0.1250   \n",
       "4136                     5726.0                 4                      0.0452   \n",
       "3827                     7619.0                35                      0.0360   \n",
       "...                         ...               ...                         ...   \n",
       "4554                        0.0                 1                      0.0000   \n",
       "4221                        0.0                 1                      0.0000   \n",
       "4625                        0.0                 1                      0.0000   \n",
       "4309                        0.0                 1                      0.0000   \n",
       "4885                        0.0                 1                      0.0000   \n",
       "\n",
       "      image_create_role_cost  image_create_role_pay_cost  \\\n",
       "879               207.349464                 2322.314000   \n",
       "5584              353.080625                 2824.645000   \n",
       "5942              353.080625                 2824.645000   \n",
       "4136              161.903484                 3585.005714   \n",
       "3827              134.177633                 3728.725789   \n",
       "...                      ...                         ...   \n",
       "4554              170.127143                    0.000000   \n",
       "4221              170.127143                    0.000000   \n",
       "4625              163.435714                    0.000000   \n",
       "4309              163.435714                    0.000000   \n",
       "4885              170.127143                    0.000000   \n",
       "\n",
       "      image_valid_source_num  image_valid_source_rate  image_pay_sum_ability  \\\n",
       "879                      9.0                      1.0             401.333333   \n",
       "5584                     0.0                      0.0               0.000000   \n",
       "5942                     0.0                      0.0               0.000000   \n",
       "4136                     0.0                      0.0               0.000000   \n",
       "3827                     0.0                      0.0               0.000000   \n",
       "...                      ...                      ...                    ...   \n",
       "4554                     0.0                      0.0               0.000000   \n",
       "4221                     0.0                      0.0               0.000000   \n",
       "4625                     0.0                      0.0               0.000000   \n",
       "4309                     0.0                      0.0               0.000000   \n",
       "4885                     0.0                      0.0               0.000000   \n",
       "\n",
       "      image_pay_num_ability  image_create_role_roi  \\\n",
       "879                  0.5556               0.311069   \n",
       "5584                 0.0000               0.391908   \n",
       "5942                 0.0000               0.391908   \n",
       "4136                 0.0000               0.228173   \n",
       "3827                 0.0000               0.107543   \n",
       "...                     ...                    ...   \n",
       "4554                 0.0000               0.000000   \n",
       "4221                 0.0000               0.000000   \n",
       "4625                 0.0000               0.000000   \n",
       "4309                 0.0000               0.000000   \n",
       "4885                 0.0000               0.000000   \n",
       "\n",
       "      image_create_role_retain_1d  create_role_30_pay_sum model_run_datetime  \\\n",
       "879                        0.2034                 34908.0         2021-03-09   \n",
       "5584                       0.4375                 23253.0         2021-03-25   \n",
       "5942                       0.4211                 23253.0         2021-03-26   \n",
       "4136                       0.2949                 12007.0         2021-03-21   \n",
       "3827                       0.1724                 25643.0         2021-03-20   \n",
       "...                           ...                     ...                ...   \n",
       "4554                       0.0000                     0.0         2021-03-22   \n",
       "4221                       0.0000                     0.0         2021-03-21   \n",
       "4625                       0.0000                     0.0         2021-03-22   \n",
       "4309                       0.0000                     0.0         2021-03-21   \n",
       "4885                       0.0000                     0.0         2021-03-23   \n",
       "\n",
       "      data_win  score  \n",
       "879          3    712  \n",
       "5584         3    709  \n",
       "5942         3    709  \n",
       "4136         3    708  \n",
       "3827         3    707  \n",
       "...        ...    ...  \n",
       "4554         3    455  \n",
       "4221         3    455  \n",
       "4625         3    455  \n",
       "4309         3    455  \n",
       "4885         3    455  \n",
       "\n",
       "[6136 rows x 23 columns]"
      ]
     },
     "execution_count": 639,
     "metadata": {},
     "output_type": "execute_result"
    }
   ],
   "source": [
    "test.sort_values('score',ascending=False)"
   ]
  },
  {
   "cell_type": "code",
   "execution_count": 640,
   "metadata": {},
   "outputs": [
    {
     "data": {
      "image/png": "[encoded data removed]",
      "text/plain": [
       "<Figure size 432x288 with 1 Axes>"
      ]
     },
     "metadata": {
      "needs_background": "light"
     },
     "output_type": "display_data"
    }
   ],
   "source": [
    "sns.distplot(test['score'])\n",
    "plt.show()"
   ]
  },
  {
   "cell_type": "code",
   "execution_count": 641,
   "metadata": {},
   "outputs": [
    {
     "data": {
      "text/plain": [
       "0.5088505179138543"
      ]
     },
     "execution_count": 641,
     "metadata": {},
     "output_type": "execute_result"
    }
   ],
   "source": [
    "test[test['score']>=600]['create_role_30_pay_sum'].sum() / test[test['score']>=600]['image_run_date_amount'].sum()"
   ]
  },
  {
   "cell_type": "code",
   "execution_count": 642,
   "metadata": {},
   "outputs": [
    {
     "data": {
      "text/plain": [
       "0.2626348183409853"
      ]
     },
     "execution_count": 642,
     "metadata": {},
     "output_type": "execute_result"
    }
   ],
   "source": [
    "test[test['score']<600]['create_role_30_pay_sum'].sum() / test[test['score']<600]['image_run_date_amount'].sum()"
   ]
  },
  {
   "cell_type": "code",
   "execution_count": 643,
   "metadata": {},
   "outputs": [
    {
     "name": "stdout",
     "output_type": "stream",
     "text": [
      "高分区ROI： 0.4637465296830412\n",
      "低分区ROI： 0.1785639594848544\n"
     ]
    }
   ],
   "source": [
    "print('高分区ROI：',test[test['score']>=560]['create_role_30_pay_sum'].sum() / test[test['score']>=560]['image_run_date_amount'].sum())\n",
    "print('低分区ROI：',test[test['score']<560]['create_role_30_pay_sum'].sum() / test[test['score']<560]['image_run_date_amount'].sum())"
   ]
  },
  {
   "cell_type": "code",
   "execution_count": 644,
   "metadata": {},
   "outputs": [
    {
     "name": "stdout",
     "output_type": "stream",
     "text": [
      "高分区ROI： 0.4209155255273085\n",
      "低分区ROI： 0.13466795348911828\n"
     ]
    }
   ],
   "source": [
    "print('高分区ROI：',test[test['score']>=540]['create_role_30_pay_sum'].sum() / test[test['score']>=540]['image_run_date_amount'].sum())\n",
    "print('低分区ROI：',test[test['score']<540]['create_role_30_pay_sum'].sum() / test[test['score']<540]['image_run_date_amount'].sum())"
   ]
  },
  {
   "cell_type": "code",
   "execution_count": 645,
   "metadata": {},
   "outputs": [
    {
     "name": "stdout",
     "output_type": "stream",
     "text": [
      "高分区ROI： 0.3878062797934832\n",
      "低分区ROI： 0.10088368544180555\n"
     ]
    }
   ],
   "source": [
    "print('高分区ROI：',test[test['score']>=520]['create_role_30_pay_sum'].sum() / test[test['score']>=520]['image_run_date_amount'].sum())\n",
    "print('低分区ROI：',test[test['score']<520]['create_role_30_pay_sum'].sum() / test[test['score']<520]['image_run_date_amount'].sum())"
   ]
  },
  {
   "cell_type": "code",
   "execution_count": 646,
   "metadata": {},
   "outputs": [
    {
     "name": "stdout",
     "output_type": "stream",
     "text": [
      "高分区ROI： 0.36841577876935167\n",
      "低分区ROI： 0.0784536792522435\n"
     ]
    }
   ],
   "source": [
    "print('高分区ROI：',test[test['score']>=500]['create_role_30_pay_sum'].sum() / test[test['score']>=500]['image_run_date_amount'].sum())\n",
    "print('低分区ROI：',test[test['score']<500]['create_role_30_pay_sum'].sum() / test[test['score']<500]['image_run_date_amount'].sum())"
   ]
  },
  {
   "cell_type": "code",
   "execution_count": 647,
   "metadata": {},
   "outputs": [
    {
     "name": "stdout",
     "output_type": "stream",
     "text": [
      "全test样本的ROI为： 0.34809427673215937\n"
     ]
    }
   ],
   "source": [
    "print('全test样本的ROI为：',test['create_role_30_pay_sum'].sum() / test['image_run_date_amount'].sum())"
   ]
  },
  {
   "cell_type": "code",
   "execution_count": 648,
   "metadata": {},
   "outputs": [
    {
     "name": "stdout",
     "output_type": "stream",
     "text": [
      "高分区消耗金额占比 0.5944624074658222\n"
     ]
    }
   ],
   "source": [
    "print('高分区消耗金额占比',test[test['score']>=560]['image_run_date_amount'].sum() / test['image_run_date_amount'].sum())"
   ]
  },
  {
   "cell_type": "code",
   "execution_count": 649,
   "metadata": {},
   "outputs": [
    {
     "name": "stdout",
     "output_type": "stream",
     "text": [
      "高分区消耗金额占比 0.5944624074658222\n"
     ]
    }
   ],
   "source": [
    "print('高分区消耗金额占比',test[test['score']>=560]['image_run_date_amount'].sum() / test['image_run_date_amount'].sum())"
   ]
  },
  {
   "cell_type": "code",
   "execution_count": 650,
   "metadata": {},
   "outputs": [
    {
     "data": {
      "text/html": [
       "<div>\n",
       "<style scoped>\n",
       "    .dataframe tbody tr th:only-of-type {\n",
       "        vertical-align: middle;\n",
       "    }\n",
       "\n",
       "    .dataframe tbody tr th {\n",
       "        vertical-align: top;\n",
       "    }\n",
       "\n",
       "    .dataframe thead th {\n",
       "        text-align: right;\n",
       "    }\n",
       "</style>\n",
       "<table border=\"1\" class=\"dataframe\">\n",
       "  <thead>\n",
       "    <tr style=\"text-align: right;\">\n",
       "      <th></th>\n",
       "      <th>image_id</th>\n",
       "      <th>image_name</th>\n",
       "      <th>media_id</th>\n",
       "      <th>image_launch_time</th>\n",
       "      <th>image_source_total_num</th>\n",
       "      <th>image_run_date_amount</th>\n",
       "      <th>image_create_role_pay_num</th>\n",
       "      <th>image_create_role_num</th>\n",
       "      <th>image_create_role_pay_sum</th>\n",
       "      <th>image_source_num</th>\n",
       "      <th>image_create_role_pay_rate</th>\n",
       "      <th>image_create_role_cost</th>\n",
       "      <th>image_create_role_pay_cost</th>\n",
       "      <th>image_valid_source_num</th>\n",
       "      <th>image_valid_source_rate</th>\n",
       "      <th>image_pay_sum_ability</th>\n",
       "      <th>image_pay_num_ability</th>\n",
       "      <th>image_create_role_roi</th>\n",
       "      <th>image_create_role_retain_1d</th>\n",
       "      <th>create_role_30_pay_sum</th>\n",
       "      <th>model_run_datetime</th>\n",
       "      <th>data_win</th>\n",
       "      <th>score</th>\n",
       "    </tr>\n",
       "  </thead>\n",
       "  <tbody>\n",
       "    <tr>\n",
       "      <th>0</th>\n",
       "      <td>27955</td>\n",
       "      <td>QMZT004-CHL</td>\n",
       "      <td>16</td>\n",
       "      <td>2020-12-30</td>\n",
       "      <td>68</td>\n",
       "      <td>4129.26</td>\n",
       "      <td>0.0</td>\n",
       "      <td>19.0</td>\n",
       "      <td>0.0</td>\n",
       "      <td>5</td>\n",
       "      <td>0.0000</td>\n",
       "      <td>217.329474</td>\n",
       "      <td>0.00</td>\n",
       "      <td>0.0</td>\n",
       "      <td>0.0</td>\n",
       "      <td>0.0</td>\n",
       "      <td>0.0</td>\n",
       "      <td>0.000000</td>\n",
       "      <td>0.1200</td>\n",
       "      <td>21310.0</td>\n",
       "      <td>2021-03-06</td>\n",
       "      <td>3</td>\n",
       "      <td>505</td>\n",
       "    </tr>\n",
       "    <tr>\n",
       "      <th>1</th>\n",
       "      <td>28049</td>\n",
       "      <td>QMZZ003-横版xy-640x360 ＜100mb 30s</td>\n",
       "      <td>10</td>\n",
       "      <td>2020-12-25</td>\n",
       "      <td>35</td>\n",
       "      <td>2027.80</td>\n",
       "      <td>0.0</td>\n",
       "      <td>9.0</td>\n",
       "      <td>0.0</td>\n",
       "      <td>1</td>\n",
       "      <td>0.0000</td>\n",
       "      <td>225.311111</td>\n",
       "      <td>0.00</td>\n",
       "      <td>0.0</td>\n",
       "      <td>0.0</td>\n",
       "      <td>0.0</td>\n",
       "      <td>0.0</td>\n",
       "      <td>0.000000</td>\n",
       "      <td>0.0000</td>\n",
       "      <td>0.0</td>\n",
       "      <td>2021-03-06</td>\n",
       "      <td>3</td>\n",
       "      <td>462</td>\n",
       "    </tr>\n",
       "    <tr>\n",
       "      <th>2</th>\n",
       "      <td>28054</td>\n",
       "      <td>QMZZ007-竖版LL</td>\n",
       "      <td>10</td>\n",
       "      <td>2020-12-26</td>\n",
       "      <td>29</td>\n",
       "      <td>505.42</td>\n",
       "      <td>1.0</td>\n",
       "      <td>3.0</td>\n",
       "      <td>6.0</td>\n",
       "      <td>1</td>\n",
       "      <td>0.3333</td>\n",
       "      <td>168.473333</td>\n",
       "      <td>505.42</td>\n",
       "      <td>1.0</td>\n",
       "      <td>1.0</td>\n",
       "      <td>6.0</td>\n",
       "      <td>1.0</td>\n",
       "      <td>0.011871</td>\n",
       "      <td>0.3333</td>\n",
       "      <td>24.0</td>\n",
       "      <td>2021-03-06</td>\n",
       "      <td>3</td>\n",
       "      <td>527</td>\n",
       "    </tr>\n",
       "    <tr>\n",
       "      <th>3</th>\n",
       "      <td>28061</td>\n",
       "      <td>QMZZ012-竖版ZDC</td>\n",
       "      <td>10</td>\n",
       "      <td>2020-12-26</td>\n",
       "      <td>110</td>\n",
       "      <td>3373.11</td>\n",
       "      <td>1.0</td>\n",
       "      <td>22.0</td>\n",
       "      <td>6.0</td>\n",
       "      <td>3</td>\n",
       "      <td>0.0455</td>\n",
       "      <td>153.323182</td>\n",
       "      <td>3373.11</td>\n",
       "      <td>0.0</td>\n",
       "      <td>0.0</td>\n",
       "      <td>0.0</td>\n",
       "      <td>0.0</td>\n",
       "      <td>0.001779</td>\n",
       "      <td>0.1556</td>\n",
       "      <td>917.0</td>\n",
       "      <td>2021-03-06</td>\n",
       "      <td>3</td>\n",
       "      <td>546</td>\n",
       "    </tr>\n",
       "    <tr>\n",
       "      <th>4</th>\n",
       "      <td>28073</td>\n",
       "      <td>QMZZ015-横版CHL（口播）</td>\n",
       "      <td>10</td>\n",
       "      <td>2020-12-25</td>\n",
       "      <td>196</td>\n",
       "      <td>5987.62</td>\n",
       "      <td>1.0</td>\n",
       "      <td>48.0</td>\n",
       "      <td>6.0</td>\n",
       "      <td>4</td>\n",
       "      <td>0.0208</td>\n",
       "      <td>124.742083</td>\n",
       "      <td>5987.62</td>\n",
       "      <td>0.0</td>\n",
       "      <td>0.0</td>\n",
       "      <td>0.0</td>\n",
       "      <td>0.0</td>\n",
       "      <td>0.001002</td>\n",
       "      <td>0.0980</td>\n",
       "      <td>42.0</td>\n",
       "      <td>2021-03-06</td>\n",
       "      <td>3</td>\n",
       "      <td>483</td>\n",
       "    </tr>\n",
       "  </tbody>\n",
       "</table>\n",
       "</div>"
      ],
      "text/plain": [
       "   image_id                       image_name  media_id image_launch_time  \\\n",
       "0     27955                      QMZT004-CHL        16        2020-12-30   \n",
       "1     28049  QMZZ003-横版xy-640x360 ＜100mb 30s        10        2020-12-25   \n",
       "2     28054                     QMZZ007-竖版LL        10        2020-12-26   \n",
       "3     28061                    QMZZ012-竖版ZDC        10        2020-12-26   \n",
       "4     28073                QMZZ015-横版CHL（口播）        10        2020-12-25   \n",
       "\n",
       "   image_source_total_num  image_run_date_amount  image_create_role_pay_num  \\\n",
       "0                      68                4129.26                        0.0   \n",
       "1                      35                2027.80                        0.0   \n",
       "2                      29                 505.42                        1.0   \n",
       "3                     110                3373.11                        1.0   \n",
       "4                     196                5987.62                        1.0   \n",
       "\n",
       "   image_create_role_num  image_create_role_pay_sum  image_source_num  \\\n",
       "0                   19.0                        0.0                 5   \n",
       "1                    9.0                        0.0                 1   \n",
       "2                    3.0                        6.0                 1   \n",
       "3                   22.0                        6.0                 3   \n",
       "4                   48.0                        6.0                 4   \n",
       "\n",
       "   image_create_role_pay_rate  image_create_role_cost  \\\n",
       "0                      0.0000              217.329474   \n",
       "1                      0.0000              225.311111   \n",
       "2                      0.3333              168.473333   \n",
       "3                      0.0455              153.323182   \n",
       "4                      0.0208              124.742083   \n",
       "\n",
       "   image_create_role_pay_cost  image_valid_source_num  \\\n",
       "0                        0.00                     0.0   \n",
       "1                        0.00                     0.0   \n",
       "2                      505.42                     1.0   \n",
       "3                     3373.11                     0.0   \n",
       "4                     5987.62                     0.0   \n",
       "\n",
       "   image_valid_source_rate  image_pay_sum_ability  image_pay_num_ability  \\\n",
       "0                      0.0                    0.0                    0.0   \n",
       "1                      0.0                    0.0                    0.0   \n",
       "2                      1.0                    6.0                    1.0   \n",
       "3                      0.0                    0.0                    0.0   \n",
       "4                      0.0                    0.0                    0.0   \n",
       "\n",
       "   image_create_role_roi  image_create_role_retain_1d  create_role_30_pay_sum  \\\n",
       "0               0.000000                       0.1200                 21310.0   \n",
       "1               0.000000                       0.0000                     0.0   \n",
       "2               0.011871                       0.3333                    24.0   \n",
       "3               0.001779                       0.1556                   917.0   \n",
       "4               0.001002                       0.0980                    42.0   \n",
       "\n",
       "  model_run_datetime  data_win  score  \n",
       "0         2021-03-06         3    505  \n",
       "1         2021-03-06         3    462  \n",
       "2         2021-03-06         3    527  \n",
       "3         2021-03-06         3    546  \n",
       "4         2021-03-06         3    483  "
      ]
     },
     "execution_count": 650,
     "metadata": {},
     "output_type": "execute_result"
    }
   ],
   "source": [
    "test.head()"
   ]
  },
  {
   "cell_type": "code",
   "execution_count": 144,
   "metadata": {},
   "outputs": [],
   "source": [
    "test.to_csv('./test_result.csv')"
   ]
  },
  {
   "cell_type": "code",
   "execution_count": null,
   "metadata": {},
   "outputs": [],
   "source": []
  },
  {
   "cell_type": "code",
   "execution_count": null,
   "metadata": {},
   "outputs": [],
   "source": []
  }
 ],
 "metadata": {
  "kernelspec": {
   "display_name": "Python 3",
   "language": "python",
   "name": "python3"
  },
  "language_info": {
   "codemirror_mode": {
    "name": "ipython",
    "version": 3
   },
   "file_extension": ".py",
   "mimetype": "text/x-python",
   "name": "python",
   "nbconvert_exporter": "python",
   "pygments_lexer": "ipython3",
   "version": "3.7.6"
  }
 },
 "nbformat": 4,
 "nbformat_minor": 4
}
