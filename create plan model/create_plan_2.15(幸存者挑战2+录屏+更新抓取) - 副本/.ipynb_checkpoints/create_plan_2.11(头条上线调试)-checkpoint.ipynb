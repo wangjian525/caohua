{
 "cells": [
  {
   "cell_type": "code",
   "execution_count": 1,
   "metadata": {},
   "outputs": [],
   "source": [
    "import pandas as pd\n",
    "import numpy as np\n",
    "import matplotlib.pyplot as plt\n",
    "import seaborn as sns\n",
    "import json\n",
    "import tensorflow as tf\n",
    "from numpy import *\n",
    "from sklearn.model_selection import train_test_split\n",
    "from sklearn.decomposition import PCA\n",
    "from tensorflow.keras import layers,datasets\n",
    "from sklearn.preprocessing import LabelEncoder,MinMaxScaler,StandardScaler\n",
    "from tensorflow import keras\n",
    "import gc\n",
    "import warnings\n",
    "warnings.filterwarnings('ignore')\n",
    "import lightgbm as lgb\n",
    "import category_encoders as ce\n",
    "from sklearn.metrics import f1_score,classification_report,roc_auc_score\n",
    "from impala.dbapi import connect\n",
    "from impala.util import as_pandas\n",
    "import pymysql\n",
    "import requests\n",
    "import random\n",
    "import ast\n",
    "import logging"
   ]
  },
  {
   "cell_type": "code",
   "execution_count": 2,
   "metadata": {},
   "outputs": [],
   "source": [
    "pd.set_option('display.max_columns',None)\n",
    "pd.set_option('display.max_rows',None)"
   ]
  },
  {
   "cell_type": "code",
   "execution_count": 3,
   "metadata": {},
   "outputs": [],
   "source": [
    "def get_game_id():\n",
    "    conn = pymysql.connect(host='db-slave-modelfenxi-001.ch', port=3306, user='model_read',\n",
    "                           passwd='aZftlm6PcFjN{DxIKOPr)BcutuJd<uYOC0P<8')\n",
    "    cur = conn.cursor(cursor=pymysql.cursors.DictCursor)\n",
    "    sql = '''\n",
    "        SELECT dev_game_id AS game_id FROM db_data.t_game_config WHERE game_id = 1056 AND dev_game_id IS NOT NULL \n",
    "    '''\n",
    "    cur.execute(sql)\n",
    "    result_df = cur.fetchall()\n",
    "    cur.close()\n",
    "    conn.close()\n",
    "    return result_df"
   ]
  },
  {
   "cell_type": "code",
   "execution_count": 4,
   "metadata": {},
   "outputs": [],
   "source": [
    "def get_plan_info():\n",
    "    game_id = get_game_id()\n",
    "    game_id = list(map(lambda x: x['game_id'], game_id))\n",
    "    game_id = [str(i) for i in game_id]\n",
    "    game_id = ','.join(game_id)\n",
    "    conn = pymysql.connect(host='db-slave-modeltoufang-001.ch', port=3306, user='model_read',\n",
    "                           passwd='aZftlm6PcFjN{DxIKOPr)BcutuJd<uYOC0P<8', db='db_ptom')\n",
    "    cur = conn.cursor(cursor=pymysql.cursors.DictCursor)\n",
    "    sql = '''\n",
    "    /*手动查询*/\n",
    "        SELECT\n",
    "                * \n",
    "            FROM\n",
    "                db_ptom.ptom_third_plan p\n",
    "            WHERE\n",
    "                game_id IN ({})\n",
    "                AND media_id = 10\n",
    "                AND create_time>=date( NOW() - INTERVAL 1440 HOUR )\n",
    "                AND create_time<= date(NOW())\n",
    "                            AND plan_id >= (\n",
    "                                select plan_id from db_ptom.ptom_plan\n",
    "                                where create_time >= date( NOW() - INTERVAL 1440 HOUR )\n",
    "                                and create_time <= date( NOW() - INTERVAL 1416 HOUR )\n",
    "                                limit 1\n",
    "                            )\n",
    "    '''\n",
    "    finalSql = sql.format(game_id)\n",
    "    result_df = pd.read_sql(finalSql, conn)\n",
    "    cur.close()\n",
    "    conn.close()\n",
    "    return result_df"
   ]
  },
  {
   "cell_type": "code",
   "execution_count": 5,
   "metadata": {},
   "outputs": [],
   "source": [
    "# 获取image_id,label_ids\n",
    "def get_image_info():\n",
    "    conn = pymysql.connect(host='db-slave-modelfenxi-001.ch', port=3306, user='model_read',\n",
    "                           passwd='aZftlm6PcFjN{DxIKOPr)BcutuJd<uYOC0P<8')\n",
    "    cur = conn.cursor(cursor=pymysql.cursors.DictCursor)\n",
    "    sql = '''\n",
    "        SELECT\n",
    "            a.chl_user_id AS channel_id,\n",
    "            a.source_id,\n",
    "            a.image_id,\n",
    "            b.label_ids\n",
    "        FROM\n",
    "            db_data_ptom.ptom_plan a\n",
    "            LEFT JOIN\n",
    "            db_data_ptom.ptom_image_info b\n",
    "        on a.image_id = b.image_id\n",
    "        WHERE\n",
    "            a.game_id IN ( SELECT dev_game_id AS game_id FROM db_data.t_game_config WHERE game_id = 1056 AND dev_game_id IS NOT NULL ) \n",
    "            AND a.media_id = 10 \n",
    "            AND a.create_time >= date( NOW() - INTERVAL 1440 HOUR )\n",
    "        GROUP BY\n",
    "            a.chl_user_id,\n",
    "            a.source_id,\n",
    "            a.image_id\n",
    "    '''\n",
    "    cur.execute(sql)\n",
    "    result_df = pd.read_sql(sql, conn)\n",
    "    cur.close()\n",
    "    conn.close()\n",
    "    return result_df"
   ]
  },
  {
   "cell_type": "code",
   "execution_count": 6,
   "metadata": {},
   "outputs": [],
   "source": [
    "# 获取计划运营指标\n",
    "def get_launch_report():\n",
    "    game_id = get_game_id()\n",
    "    game_id = list(map(lambda x: x['game_id'], game_id))\n",
    "    game_id = [str(i) for i in game_id]\n",
    "    game_id = ','.join(game_id)\n",
    "\n",
    "    conn = pymysql.connect(host='db-slave-modelfenxi-001.ch', port=3306, user='model_read',\n",
    "                           passwd='aZftlm6PcFjN{DxIKOPr)BcutuJd<uYOC0P<8')\n",
    "    cur = conn.cursor(cursor=pymysql.cursors.DictCursor)\n",
    "    sql = '''\n",
    "        /*手动查询*/\n",
    "        SELECT\n",
    "            a.chl_user_id AS channel_id,\n",
    "            a.source_id AS source_id,\n",
    "            b.tdate,\n",
    "            b.amount,\n",
    "            b.new_role_money,\n",
    "            b.new_role_money / b.amount as roi,\n",
    "            b.pay_role_user_num / b.create_role_num as pay_rate\n",
    "        FROM\n",
    "            db_data_ptom.ptom_plan a\n",
    "            LEFT JOIN db_stdata.st_lauch_report b ON a.chl_user_id = b.channel_id \n",
    "            AND a.source_id = b.source_id \n",
    "        WHERE\n",
    "            a.create_time >= date( NOW() - INTERVAL 1440 HOUR )\n",
    "            AND b.tdate >= date( NOW() - INTERVAL 1440 HOUR )\n",
    "            AND b.tdate_type = 'day' \n",
    "            AND b.media_id = 10\n",
    "            AND b.game_id IN ({})\n",
    "            AND b.amount >= 500\n",
    "    '''\n",
    "    finalSql = sql.format(game_id)\n",
    "    cur.execute(finalSql)\n",
    "    result_df = pd.read_sql(finalSql, conn)\n",
    "    cur.close()\n",
    "    conn.close()\n",
    "    result_df['tdate'] = pd.to_datetime(result_df['tdate'])\n",
    "    result_df = result_df.sort_values('tdate')\n",
    "    result_df = result_df.drop_duplicates(['channel_id', 'source_id'], keep='first')\n",
    "\n",
    "    return result_df"
   ]
  },
  {
   "cell_type": "code",
   "execution_count": 7,
   "metadata": {},
   "outputs": [],
   "source": [
    "# 解析json\n",
    "def get_plan_json(plan_info):\n",
    "    plan_info.drop(['inventory_type', 'budget'], axis=1, inplace=True)\n",
    "    plan_info.dropna(how='all', inplace=True, axis=1)\n",
    "    plan_info.dropna(subset=['ad_info'], inplace=True)\n",
    "    # 解析json\n",
    "    plan_info['ad_info'] = plan_info['ad_info'].apply(json.loads)\n",
    "    temp = plan_info['ad_info'].apply(pd.Series)\n",
    "    plan_info = pd.concat([plan_info, temp], axis=1)\n",
    "    plan_info.drop('ad_info', axis=1, inplace=True)\n",
    "    temp = plan_info['audience'].apply(pd.Series)\n",
    "    plan_info = pd.concat([plan_info, temp], axis=1)\n",
    "    plan_info.drop('audience', axis=1, inplace=True)\n",
    "    temp = plan_info['action'].apply(pd.Series)\n",
    "    plan_info = pd.concat([plan_info, temp], axis=1)\n",
    "    plan_info.drop('action', axis=1, inplace=True)\n",
    "    plan_info.dropna(how='all', inplace=True, axis=1)\n",
    "    plan_info = plan_info[['ad_account_id', 'game_id', 'channel_id', 'source_id',\n",
    "                           'create_time', 'smart_bid_type', 'hide_if_exists', 'budget',\n",
    "                           'delivery_range', 'adjust_cpa', 'inventory_type', 'hide_if_converted',\n",
    "                           'flow_control_mode', 'schedule_time', 'cpa_bid', 'auto_extend_enabled',\n",
    "                           'gender', 'city', 'platform', 'launch_price',\n",
    "                           'retargeting_tags_exclude', 'interest_categories',\n",
    "                           'ac', 'android_osv', 'location_type', 'retargeting_tags_include',\n",
    "                           'ios_osv', 'interest_action_mode', 'age',\n",
    "                           'action_categories', 'action_days', 'action_scene', 'deep_bid_type', 'roi_goal']]\n",
    "    return plan_info"
   ]
  },
  {
   "cell_type": "code",
   "execution_count": 8,
   "metadata": {},
   "outputs": [],
   "source": [
    "def get_all_data():\n",
    "    # 读取历史数据\n",
    "\n",
    "    plan_info = get_plan_info()\n",
    "    image_info = get_image_info()\n",
    "    launch_report = get_launch_report()\n",
    "\n",
    "    plan_info = get_plan_json(plan_info)\n",
    "\n",
    "    image_info.dropna(subset=['image_id'], inplace=True)\n",
    "    image_info['image_id'] = image_info['image_id'].astype(int)\n",
    "    return plan_info, image_info, launch_report"
   ]
  },
  {
   "cell_type": "code",
   "execution_count": 9,
   "metadata": {},
   "outputs": [],
   "source": [
    "# 获取不漏点标签\n",
    "def get_legal_image():\n",
    "    conn = pymysql.connect(host='db-slave-modeltoufang-001.ch', port=3306, user='model_read',\n",
    "                           passwd='aZftlm6PcFjN{DxIKOPr)BcutuJd<uYOC0P<8', db='db_ptom')\n",
    "    cur = conn.cursor(cursor=pymysql.cursors.DictCursor)\n",
    "    sql = '''\n",
    "       SELECT\n",
    "            image_id \n",
    "        FROM\n",
    "            db_ptom.ptom_image_info a \n",
    "        WHERE\n",
    "            FIND_IN_SET( 235, label_ids ) \n",
    "\n",
    "    '''\n",
    "    cur.execute(sql)\n",
    "    result_df = pd.read_sql(sql, conn)\n",
    "    cur.close()\n",
    "    conn.close()\n",
    "    return result_df['image_id'].values\n",
    "\n",
    "\n",
    "# 获取score_image (分数大于550的image_id)\n",
    "def get_score_image():\n",
    "    conn = connect(host='192.168.0.97', port=10000, auth_mechanism='PLAIN', user='hadoop',\n",
    "                   password='Ycjh8FxiaoMtShZRd3-97%3hCEL0CK4ns1w', database='default')\n",
    "    cursor = conn.cursor()\n",
    "    sql_engine = 'set hive.execution.engine=tez'\n",
    "    sql = 'select image_id,label_ids from dws.dws_image_score_d where media_id=10 and score>=560 and dt=CURRENT_DATE group by image_id,label_ids'\n",
    "    cursor.execute(sql_engine)\n",
    "    cursor.execute(sql)\n",
    "    result = as_pandas(cursor)\n",
    "    result['label_ids'] = result['label_ids'].astype(str)\n",
    "    result['label_ids'] = result['label_ids'].apply(lambda x: x.strip('-1;') if '-1' in x else x)\n",
    "    result['label_ids'] = pd.to_numeric(result['label_ids'], errors='coerce')\n",
    "    # result = result[result['label_ids'].isin([234])]\n",
    "    #     print(result)\n",
    "    # 关闭链接\n",
    "    cursor.close()\n",
    "    conn.close()\n",
    "\n",
    "    return result['image_id'].values"
   ]
  },
  {
   "cell_type": "code",
   "execution_count": 10,
   "metadata": {},
   "outputs": [],
   "source": [
    "# 获取近期所有计划的消耗情况\n",
    "def get_amount_info():\n",
    "    game_id = get_game_id()\n",
    "    game_id = list(map(lambda x: x['game_id'], game_id))\n",
    "    game_id = [str(i) for i in game_id]\n",
    "    game_id = ','.join(game_id)\n",
    "    conn = pymysql.connect(host='db-slave-modelfenxi-001.ch', port=3306, user='model_read',\n",
    "                           passwd='aZftlm6PcFjN{DxIKOPr)BcutuJd<uYOC0P<8')\n",
    "    cur = conn.cursor(cursor=pymysql.cursors.DictCursor)\n",
    "    sql = '''\n",
    "    /*手动查询*/\n",
    "            SELECT\n",
    "                tdate,\n",
    "                channel_id,\n",
    "                source_id,\n",
    "                game_id,\n",
    "                media_id,\n",
    "                platform,\n",
    "                amount \n",
    "            FROM\n",
    "                db_stdata.st_lauch_report \n",
    "            WHERE\n",
    "                game_id IN ({}) \n",
    "                AND tdate_type = 'day' \n",
    "                AND tdate >= date( NOW() - INTERVAL 7 DAY )\n",
    "                AND tdate <= date( NOW() - INTERVAL 1 DAY )\n",
    "                AND media_id = 10\n",
    "                AND platform = 1\n",
    "    '''\n",
    "    finalSql = sql.format(game_id)\n",
    "    result_df = pd.read_sql(finalSql, conn)\n",
    "    cur.close()\n",
    "    conn.close()\n",
    "    \n",
    "    return result_df"
   ]
  },
  {
   "cell_type": "code",
   "execution_count": 12,
   "metadata": {},
   "outputs": [],
   "source": [
    "def get_data_7():\n",
    "    game_id = get_game_id()\n",
    "    game_id = list(map(lambda x: x['game_id'], game_id))\n",
    "    game_id = [str(i) for i in game_id]\n",
    "    game_id = ','.join(game_id)\n",
    "    conn = connect(host='192.168.0.97', port=10000, auth_mechanism='PLAIN', user='hadoop',\n",
    "                   password='Ycjh8FxiaoMtShZRd3-97%3hCEL0CK4ns1w', database='default')\n",
    "    cursor = conn.cursor()\n",
    "    sql = '''\n",
    "        SELECT\n",
    "            user_id,\n",
    "            game_id,\n",
    "            channel_id,\n",
    "            source_id,\n",
    "            role_id,\n",
    "            platform,\n",
    "            media_id,\n",
    "            pay_num,\n",
    "            pay_sum,\n",
    "            create_role_time,\n",
    "            created_role_day,\n",
    "            pay_sum AS pay_7_pred,\n",
    "            dt \n",
    "        FROM\n",
    "            tmp_data.tmp_roles_portrait_info_train2 \n",
    "        WHERE\n",
    "            dt = CURRENT_DATE \n",
    "            AND created_role_day = 7\n",
    "            AND media_id = 10\n",
    "            AND platform = 1\n",
    "            and game_id IN ({})\n",
    "    '''\n",
    "    finalSql = sql.format(game_id)\n",
    "    cursor.execute(finalSql)\n",
    "    result = as_pandas(cursor)\n",
    "\n",
    "    # 关闭链接\n",
    "    cursor.close()\n",
    "    conn.close()\n",
    "\n",
    "    return result\n",
    "\n",
    "def get_data_1_6():\n",
    "    game_id = get_game_id()\n",
    "    game_id = list(map(lambda x: x['game_id'], game_id))\n",
    "    game_id = [str(i) for i in game_id]\n",
    "    game_id = ','.join(game_id)\n",
    "    conn = connect(host='192.168.0.97', port=10000, auth_mechanism='PLAIN', user='hadoop',\n",
    "                   password='Ycjh8FxiaoMtShZRd3-97%3hCEL0CK4ns1w', database='default')\n",
    "    cursor = conn.cursor()\n",
    "    sql = '''\n",
    "            SELECT\n",
    "                user_id,\n",
    "                game_id,\n",
    "                channel_id,\n",
    "                source_id,\n",
    "                role_id,\n",
    "                platform,\n",
    "                media_id,\n",
    "                pay_num,\n",
    "                pay_sum,\n",
    "                create_role_time,\n",
    "                created_role_day,\n",
    "                pay_7_pred,\n",
    "                dt \n",
    "            FROM\n",
    "                tmp_data.tmp_roles_portrait_info_predict \n",
    "            WHERE\n",
    "                dt = CURRENT_DATE\n",
    "                AND media_id = 10\n",
    "                AND platform = 1\n",
    "                and game_id IN ({})\n",
    "    \n",
    "    '''\n",
    "    finalSql = sql.format(game_id)\n",
    "    cursor.execute(finalSql)\n",
    "    result = as_pandas(cursor)\n",
    "\n",
    "    # 关闭链接\n",
    "    cursor.close()\n",
    "    conn.close()\n",
    "\n",
    "    return result"
   ]
  },
  {
   "cell_type": "code",
   "execution_count": 66,
   "metadata": {},
   "outputs": [],
   "source": [
    "def get_now_plan_roi():\n",
    "    # 获取消耗数据\n",
    "    amount_info = get_amount_info()\n",
    "    # 获取回款预测数据\n",
    "    df_roi_1 = get_data_7()\n",
    "    df_roi_2 = get_data_1_6()\n",
    "    df_roi = df_roi_1.append(df_roi_2)\n",
    "    # 求计划付费成本，回款率，付费人数\n",
    "    df_roi['create_role_time'] = pd.to_datetime(df_roi['create_role_time']).dt.date\n",
    "    df_roi['pay_num'] = df_roi['pay_num'].replace(0, np.nan)\n",
    "    source_df_1 = pd.DataFrame({'7_pay_sum':df_roi.groupby(['channel_id','source_id'])['pay_7_pred'].sum()}).reset_index()\n",
    "    source_df_2 = pd.DataFrame({'pay_num':df_roi.groupby(['channel_id','source_id'])['pay_num'].count()}).reset_index()\n",
    "    source_df_3 = pd.DataFrame({'amount':amount_info.groupby(['channel_id','source_id'])['amount'].sum()}).reset_index()\n",
    "    source_df_3 = source_df_3[source_df_3['amount']>0]\n",
    "    source_df = pd.merge(source_df_1,source_df_2,on=['channel_id','source_id'],how='outer')\n",
    "    source_df = pd.merge(source_df,source_df_3,on=['channel_id','source_id'],how='outer')\n",
    "    source_df = source_df.fillna(0)\n",
    "    source_df = source_df[source_df['amount']>0]\n",
    "    source_df['roi'] = source_df['7_pay_sum'] / source_df['amount']\n",
    "    source_df['pay_cost'] = source_df['amount'] / source_df['pay_num']\n",
    "    # 选择相关指标达标的计划\n",
    "    result = source_df[(source_df['pay_num']>=2)&(source_df['pay_cost']<=5000)&(source_df['roi']>=0.1)]\n",
    "    return result "
   ]
  },
  {
   "cell_type": "code",
   "execution_count": 13,
   "metadata": {},
   "outputs": [],
   "source": [
    "# 获取近期优化计划的创意数据\n",
    "def get_creative():\n",
    "    game_id = get_game_id()\n",
    "    game_id = list(map(lambda x: x['game_id'], game_id))\n",
    "    game_id = [str(i) for i in game_id]\n",
    "    game_id = ','.join(game_id)\n",
    "\n",
    "    conn = pymysql.connect(host='db-slave-modeltoufang-001.ch', port=3306, user='model_read',\n",
    "                           passwd='aZftlm6PcFjN{DxIKOPr)BcutuJd<uYOC0P<8', db='db_ptom')\n",
    "    cur = conn.cursor(cursor=pymysql.cursors.DictCursor)\n",
    "    sql = '''\n",
    "        /*手动查询*/ \n",
    "        SELECT\n",
    "            b.chl_user_id AS channel_id,\n",
    "            b.source_id,\n",
    "            JSON_EXTRACT( a.creative_param, '$.ad_keywords' ) AS ad_keywords,\n",
    "            JSON_EXTRACT( a.creative_param, '$.title_list' ) AS title_list,\n",
    "            JSON_EXTRACT( a.creative_param, '$.third_industry_id' ) AS third_industry_id \n",
    "        FROM\n",
    "            db_ptom.ptom_batch_ad_task a\n",
    "            LEFT JOIN db_ptom.ptom_plan b ON a.plan_name = b.plan_name \n",
    "        WHERE\n",
    "            a.media_id = 10 \n",
    "            AND b.create_time >= date( NOW() - INTERVAL 720 HOUR )    # 近30天\n",
    "            AND a.game_id IN ({}) \n",
    "    '''\n",
    "    finalSql = sql.format(game_id)\n",
    "    cur.execute(finalSql)\n",
    "    result = pd.read_sql(finalSql, conn)\n",
    "    cur.close()\n",
    "    conn.close()\n",
    "    return result"
   ]
  },
  {
   "cell_type": "code",
   "execution_count": 217,
   "metadata": {},
   "outputs": [],
   "source": [
    "def get_manager_id():\n",
    "    conn = pymysql.connect(host='db-slave-modelfenxi-001.ch', port=3306, user='model_read',\n",
    "                           passwd='aZftlm6PcFjN{DxIKOPr)BcutuJd<uYOC0P<8')\n",
    "    cur = conn.cursor(cursor=pymysql.cursors.DictCursor)\n",
    "    sql = '''\n",
    "    /*手动查询*/\n",
    "        SELECT\n",
    "            channel_id,\n",
    "            manager_id \n",
    "        FROM\n",
    "            db_data.dim_channel_info\n",
    "    '''\n",
    "    result_df = pd.read_sql(sql, conn)\n",
    "    cur.close()\n",
    "    conn.close()\n",
    "    \n",
    "    return result_df"
   ]
  },
  {
   "cell_type": "code",
   "execution_count": 218,
   "metadata": {},
   "outputs": [],
   "source": [
    "def create_plan(df, score_image):\n",
    "    # 选ad_account_id、image_id每个账号+素材8条\n",
    "    game_id = 1001703\n",
    "    # df = df[df['game_id'] == game_id]\n",
    "#     df = df[df['game_id'].isin([1001379, 1001703, 1001756, 1001772])]\n",
    "    ad_account_id_group = np.array([9872, 9873, 9874, 9875, 9876])\n",
    "    image_id_group = np.intersect1d(df['image_id'].unique(), score_image)\n",
    "    image_id_group = list(filter(lambda x: x >= 32861, image_id_group))\n",
    "\n",
    "    print(image_id_group)\n",
    "    df = df[df['deep_bid_type'].isin(['BID_PER_ACTION', 'ROI_COEFFICIENT'])]\n",
    "    df = df[df['image_id'].isin(image_id_group)]\n",
    "\n",
    "    plan = pd.DataFrame()\n",
    "    for ad_account in ad_account_id_group:\n",
    "        for image in image_id_group:\n",
    "            #         print(image)\n",
    "            temp = pd.DataFrame({'ad_account_id': [ad_account], 'image_id': [image]})\n",
    "            plan = plan.append(temp)\n",
    "    #         print(temp)\n",
    "    plan = pd.DataFrame(np.repeat(plan.values, 10, axis=0), columns=plan.columns)\n",
    "\n",
    "    # game_image = df[['game_id', 'image_id']].drop_duplicates()\n",
    "    # plan = pd.merge(plan, game_image, on='image_id', how='left')\n",
    "    plan['game_id'] = game_id\n",
    "\n",
    "    # 选platform测试期默认[ANDROID]\n",
    "    # plan['platform'] = df['platform'].iloc[0]\n",
    "    plan['platform'] = 1\n",
    "    plan['platform'] = plan['platform'].apply(lambda x: '[ANDROID]' if x == 1 else '[IOS]')\n",
    "\n",
    "    # 选android_osv\n",
    "    count_df = pd.DataFrame(data=df['android_osv'].value_counts()).reset_index()\n",
    "    count_df.columns = ['col', 'counts']\n",
    "    count_df['pct'] = count_df['counts'] / count_df['counts'].sum()\n",
    "    plan['android_osv'] = plan['platform'].apply(lambda x: 'NONE' if x == '[IOS]' else np.random.choice(count_df['col'].values, 1, p=count_df['pct'].values)[0])\n",
    "\n",
    "    # 选ios_osv\n",
    "    count_df = pd.DataFrame(data=df['ios_osv'].value_counts()).reset_index()\n",
    "    count_df.columns = ['col', 'counts']\n",
    "    count_df['pct'] = count_df['counts'] / count_df['counts'].sum()\n",
    "    plan['ios_osv'] = plan['platform'].apply(lambda x: 'NONE' if x == '[ANDROID]' else np.random.choice(count_df['col'].values, 1, p=count_df['pct'].values)[0])\n",
    "\n",
    "    # 选budget\n",
    "    plan['budget'] = plan['platform'].apply(lambda x: 3300 if x == '[ANDROID]' else 4000)\n",
    "     \n",
    "    # 选'ad_keywords', 'title_list', 'third_industry_id'  创意\n",
    "    sample_df = df[['manager_id', 'ad_keywords', 'title_list', 'third_industry_id']]\n",
    "    sample_df = sample_df.sample(n=plan.shape[0], replace=True).reset_index(drop=True)\n",
    "    plan = pd.concat([plan, sample_df], axis=1)\n",
    "    plan = plan.rename(columns = {'manager_id':'manager_id_1'})\n",
    "    \n",
    "    # 选'retargeting_tags_include','retargeting_tags_exclude'  人群包定向 版位\n",
    "    sample_df = df[['manager_id', 'inventory_type','retargeting_tags_include', 'retargeting_tags_exclude', 'delivery_range', 'city', \n",
    "                    'location_type', 'gender', 'age', 'ac', 'launch_price', 'auto_extend_enabled', 'hide_if_exists', 'hide_if_converted',\n",
    "                    'schedule_time', 'flow_control_mode']]\n",
    "    sample_df = sample_df.sample(n=plan.shape[0], replace=True).reset_index(drop=True)\n",
    "    sample_df['inventory_type'] = sample_df['inventory_type'].apply(lambda x: list(filter(None, x)))\n",
    "    plan = pd.concat([plan, sample_df], axis=1)\n",
    "    plan = plan.rename(columns = {'manager_id':'manager_id_2'})\n",
    "\n",
    "    # 选'interest_action_mode','action_scene','action_days','action_categories' ,'interest_categories' 行为兴趣\n",
    "    sample_df = df[['manager_id', 'interest_action_mode', 'action_scene', 'action_days', 'action_categories', 'interest_categories']]\n",
    "    sample_df = sample_df.sample(n=plan.shape[0], replace=True).reset_index(drop=True)\n",
    "    plan = pd.concat([plan, sample_df], axis=1)\n",
    "    plan = plan.rename(columns = {'manager_id':'manager_id_3'})\n",
    "\n",
    "    # 选'deep_bid_type','roi_goal','smart_bid_type','adjust_cpa','cpa_bid'出价方式\n",
    "    sample_df = df[['manager_id', 'deep_bid_type', 'roi_goal', 'smart_bid_type', 'adjust_cpa', 'cpa_bid']]\n",
    "    sample_df = sample_df[sample_df['deep_bid_type'].isin(['ROI_COEFFICIENT', 'BID_PER_ACTION'])]\n",
    "    sample_df = sample_df.sample(n=plan.shape[0], replace=True).reset_index(drop=True)\n",
    "    plan = pd.concat([plan, sample_df], axis=1)\n",
    "    plan = plan.rename(columns = {'manager_id':'manager_id_4'})\n",
    "    \n",
    "    # 计划归因channel_id\n",
    "    plan['attribute'] = plan.apply(lambda x:[x.manager_id_1,x.manager_id_2,x.manager_id_3,x.manager_id_4], axis=1)\n",
    "    plan.drop(['manager_id_1','manager_id_2','manager_id_3','manager_id_4'],axis=1,inplace=True)\n",
    "\n",
    "    plan['create_time'] = pd.to_datetime(pd.datetime.now())\n",
    "    plan['create_date'] = pd.to_datetime(pd.datetime.now().date())\n",
    "\n",
    "    return plan"
   ]
  },
  {
   "cell_type": "code",
   "execution_count": 15,
   "metadata": {},
   "outputs": [],
   "source": [
    "# 对列表内容进行编码降维\n",
    "def get_mutil_feature(data):\n",
    "    cols = ['inventory_type', 'age', 'city', 'retargeting_tags_include', 'retargeting_tags_exclude', 'ac',\n",
    "            'interest_categories',\n",
    "            'action_scene', 'action_categories']\n",
    "    for col in cols:\n",
    "        if col in ['inventory_type', 'age']:\n",
    "            data[col] = data[col].apply(lambda x: x if x == x else [])\n",
    "            data = data.join(data[col].str.join('|').str.get_dummies().add_prefix(col + '_').reset_index(drop=True))\n",
    "            data.drop(col, axis=1, inplace=True)\n",
    "\n",
    "        else:\n",
    "            data[col] = data[col].apply(lambda x: x if x == x else [])\n",
    "            data[col] = data[col].apply(lambda x: [str(i) for i in x])\n",
    "            data[col] = data[col].astype(str)\n",
    "            le = LabelEncoder()\n",
    "            data[col] = le.fit_transform(data[col])\n",
    "\n",
    "    gc.collect()\n",
    "    return data"
   ]
  },
  {
   "cell_type": "code",
   "execution_count": 314,
   "metadata": {},
   "outputs": [],
   "source": [
    "def get_ad_create(plan_result):\n",
    "    ad_info = []\n",
    "    for i in range(plan_result.shape[0]):\n",
    "        ad_info.append(json.loads(plan_result.iloc[i].to_json()))\n",
    "    open_api_url_prefix = \"https://ptom.caohua.com/\"\n",
    "#     open_api_url_prefix = \"https://ptom-pre.caohua.com/\"   ## 预发布环境\n",
    "    uri = \"model/generationPlanBatchTask\"\n",
    "    url = open_api_url_prefix + uri\n",
    "    params = {\n",
    "        \"secretkey\": \"abc2018!@**@888\",\n",
    "        \"mediaId\": 10\n",
    "    }\n",
    "    rsp = requests.post(url, json=ad_info, params=params)\n",
    "    rsp_data = rsp.json()\n",
    "    print('结束....')\n",
    "    return rsp_data"
   ]
  },
  {
   "cell_type": "code",
   "execution_count": 268,
   "metadata": {},
   "outputs": [
    {
     "data": {
      "text/plain": [
       "(23445, 34)"
      ]
     },
     "execution_count": 268,
     "metadata": {},
     "output_type": "execute_result"
    }
   ],
   "source": [
    "plan_info,image_info,launch_report = get_all_data()\n",
    "plan_info.shape"
   ]
  },
  {
   "cell_type": "code",
   "execution_count": 290,
   "metadata": {},
   "outputs": [],
   "source": [
    "df = pd.merge(plan_info, image_info, on=['channel_id', 'source_id'], how='left')\n",
    "df.dropna(subset=['image_id'], inplace=True)\n",
    "df = pd.merge(df, launch_report, on=['channel_id', 'source_id'], how='left')\n",
    "df.drop(df[df['tdate'].isna()].index, inplace=True)\n",
    "df = df[df['amount'] >= 500]\n",
    "\n",
    "df['platform'] = df['platform'].astype(str)\n",
    "df['platform'] = df['platform'].map({\"['ANDROID']\": 1, \"['IOS']\": 2})\n",
    "df['label'] = df.apply(lambda x: 1 if x.new_role_money / x.amount >= 0.02 else 0, axis=1)\n",
    "df['ad_account_id'] = df['ad_account_id'].astype('int')\n",
    "df['image_id'] = df['image_id'].astype('int')\n",
    "df.rename(columns={'tdate': 'create_date'}, inplace=True)\n",
    "df['create_date'] = pd.to_datetime(df['create_date'])\n",
    "df['create_time'] = pd.to_datetime(df['create_time'])\n",
    "\n",
    "df.drop(['budget', 'cpa_bid', 'channel_id', 'source_id', 'amount', 'roi', 'pay_rate',\n",
    "         'new_role_money'], axis=1, inplace=True)"
   ]
  },
  {
   "cell_type": "code",
   "execution_count": 291,
   "metadata": {},
   "outputs": [],
   "source": [
    "plan_info['create_time'] = pd.to_datetime(plan_info['create_time'])\n",
    "plan_info_current = plan_info[plan_info['create_time'] >= pd.datetime.now() - pd.DateOffset(15)]"
   ]
  },
  {
   "cell_type": "code",
   "execution_count": 292,
   "metadata": {},
   "outputs": [],
   "source": [
    "creative_info = get_creative()\n",
    "creative_info['title_list'] = creative_info['title_list'].fillna('[]')\n",
    "creative_info['ad_keywords'] = creative_info['ad_keywords'].fillna('[]')\n",
    "creative_info['title_list'] = creative_info['title_list'].apply(json.loads)\n",
    "creative_info['ad_keywords'] = creative_info['ad_keywords'].apply(json.loads)"
   ]
  },
  {
   "cell_type": "code",
   "execution_count": 293,
   "metadata": {},
   "outputs": [],
   "source": [
    "now_plan_roi = get_now_plan_roi()\n",
    "now_plan_roi = pd.merge(now_plan_roi, creative_info, on=['channel_id', 'source_id'], how='left')"
   ]
  },
  {
   "cell_type": "code",
   "execution_count": 294,
   "metadata": {},
   "outputs": [],
   "source": [
    "score_image = get_score_image()"
   ]
  },
  {
   "cell_type": "code",
   "execution_count": 295,
   "metadata": {},
   "outputs": [],
   "source": [
    "df_create = pd.merge(plan_info_current, image_info, on=['channel_id', 'source_id'], how='left')\n",
    "df_create = pd.merge(df_create, now_plan_roi, on=['channel_id', 'source_id'], how='inner')"
   ]
  },
  {
   "cell_type": "code",
   "execution_count": 296,
   "metadata": {},
   "outputs": [],
   "source": [
    "df_create['platform'] = df_create['platform'].astype(str)\n",
    "df_create['platform'] = df_create['platform'].map({\"['ANDROID']\": 1, \"['IOS']\": 2})\n",
    "df_create['platform'] = df_create['platform'].astype(int)\n",
    "\n",
    "df_create.dropna(subset=['image_id'], inplace=True)\n",
    "df_create['image_id'] = df_create['image_id'].astype(int)\n",
    "\n",
    "df_create = df_create[df_create['platform'] == 1]"
   ]
  },
  {
   "cell_type": "code",
   "execution_count": 297,
   "metadata": {},
   "outputs": [],
   "source": [
    "# 填充 android_osv   ios_osv\n",
    "df_create['android_osv'] = df_create['android_osv'].fillna('NONE')\n",
    "df_create['ios_osv'] = df_create['ios_osv'].fillna('NONE')\n",
    "df_create['channel_id'] = df_create['channel_id'].map(str)\n",
    "manager_id = get_manager_id()\n",
    "manager_id['channel_id'] = manager_id['channel_id'].map(str)\n",
    "# manager_id['manager_id'] = manager_id['manager_id'].map(str)\n",
    "df_create = pd.merge(df_create, manager_id, on='channel_id', how='left')\n",
    "\n",
    "# print('df_create_shape', df_create.shape)\n",
    "df_create.to_csv('./df_create.csv')"
   ]
  },
  {
   "cell_type": "code",
   "execution_count": 298,
   "metadata": {
    "scrolled": false
   },
   "outputs": [
    {
     "name": "stdout",
     "output_type": "stream",
     "text": [
      "[41035, 41456, 41698, 41699, 41875, 42015, 42138, 42240, 42241, 42244, 42373, 42441, 42454, 42484, 42487, 42525, 42613, 42645, 42654, 42655, 42893]\n"
     ]
    }
   ],
   "source": [
    "plan_create = create_plan(df_create, score_image)"
   ]
  },
  {
   "cell_type": "code",
   "execution_count": 299,
   "metadata": {},
   "outputs": [],
   "source": [
    "image_info.dropna(subset=['image_id'], inplace=True)\n",
    "image_info['image_id'] = image_info['image_id'].astype(int)\n",
    "plan_create = pd.merge(plan_create, image_info[['image_id', 'label_ids']].drop_duplicates(), on='image_id',\n",
    "                       how='left')\n",
    "\n",
    "plan_create_train = plan_create.drop(['budget', 'cpa_bid', 'ad_keywords', 'title_list', 'third_industry_id','attribute'],\n",
    "                                     axis=1)\n",
    "plan_create_train['platform'] = plan_create_train['platform'].map({'[ANDROID]': 1, '[IOS]': 2})"
   ]
  },
  {
   "cell_type": "code",
   "execution_count": 300,
   "metadata": {},
   "outputs": [],
   "source": [
    "df['train_label'] = 1\n",
    "plan_create_train['train_label'] = 0\n",
    "plan_create_train['label'] = -1\n",
    "df = df[df['create_time'] >= pd.datetime.now() - pd.DateOffset(180)]\n",
    "# print('df', df.shape)\n",
    "# print('plan_create_train', plan_create_train.shape)\n",
    "df = df.append(plan_create_train)"
   ]
  },
  {
   "cell_type": "code",
   "execution_count": 301,
   "metadata": {},
   "outputs": [],
   "source": [
    "df['create_date'] = pd.to_datetime(df['create_date'])\n",
    "df['ad_im_sort_id'] = df.groupby(['ad_account_id', 'image_id'])['create_time'].rank()\n",
    "df['ad_game_sort_id'] = df.groupby(['ad_account_id', 'game_id'])['create_time'].rank()\n",
    "df['im_ad_sort_id'] = df.groupby(['image_id', 'ad_account_id'])['create_time'].rank()\n",
    "\n",
    "df = get_mutil_feature(df)\n",
    "\n",
    "cat_cols = ['ad_account_id', 'game_id', 'schedule_time', 'delivery_range', 'flow_control_mode',\n",
    "                'smart_bid_type', 'hide_if_converted', 'gender', 'location_type', 'launch_price',\n",
    "                'android_osv', 'ios_osv', 'interest_action_mode', 'action_days', 'image_id', 'label_ids',\n",
    "                'deep_bid_type']"
   ]
  },
  {
   "cell_type": "code",
   "execution_count": 302,
   "metadata": {},
   "outputs": [
    {
     "data": {
      "application/vnd.jupyter.widget-view+json": {
       "model_id": "ca9ee12681114c71ae0414e3da0de325",
       "version_major": 2,
       "version_minor": 0
      },
      "text/plain": [
       "HBox(children=(FloatProgress(value=1.0, bar_style='info', max=1.0), HTML(value='')))"
      ]
     },
     "metadata": {},
     "output_type": "display_data"
    },
    {
     "name": "stdout",
     "output_type": "stream",
     "text": [
      "\n"
     ]
    }
   ],
   "source": [
    "from itertools import combinations\n",
    "from tqdm import tqdm_notebook\n",
    "cat_cross = []\n",
    "for col in tqdm_notebook(combinations(cat_cols, 2)):\n",
    "    df[str(col[0]) + '_' + str(col[1])] = df[col[0]].map(str) + '_' + df[col[1]].map(str)\n",
    "    cat_cross.append(str(col[0]) + '_' + str(col[1]))\n",
    "\n",
    "for col in cat_cols + cat_cross:\n",
    "    df[col] = df[col].astype(str)\n",
    "    le = LabelEncoder()\n",
    "    df[col] = le.fit_transform(df[col])"
   ]
  },
  {
   "cell_type": "code",
   "execution_count": 303,
   "metadata": {},
   "outputs": [
    {
     "name": "stdout",
     "output_type": "stream",
     "text": [
      "Training until validation scores don't improve for 100 rounds\n",
      "Early stopping, best iteration is:\n",
      "[5]\ttraining's auc: 0.75389\tvalid_1's auc: 0.647189\n"
     ]
    }
   ],
   "source": [
    "# 训练\n",
    "train_data = df[df['train_label'] == 1]\n",
    "test_data = df[df['train_label'] == 0]\n",
    "\n",
    "train_data = train_data.drop(['train_label', 'create_time', 'create_date'], axis=1)\n",
    "test_data = test_data.drop(['train_label', 'create_time', 'create_date'], axis=1)\n",
    "target = train_data['label']\n",
    "features = train_data.drop(['label'], axis=1)\n",
    "X_val, x_test, Y_val, y_test = train_test_split(features, target, test_size=0.3)\n",
    "params = {\n",
    "    \"objective\": \"binary\",\n",
    "    \"boosting_type\": \"gbdt\",\n",
    "    \"learning_rate\": 0.01,\n",
    "    \"max_depth\": 8,\n",
    "    \"num_leaves\": 55,\n",
    "    \"max_bin\": 255,\n",
    "    \"min_data_in_leaf\": 101,\n",
    "    \"min_child_samples\": 15,\n",
    "    \"feature_fraction\": 0.5,\n",
    "    \"bagging_fraction\": 0.6,\n",
    "    \"bagging_freq\": 20,\n",
    "    \"lambda_l1\": 1e-05,\n",
    "    \"lambda_l2\": 0,\n",
    "    \"min_split_gain\": 0.0,\n",
    "    \"metric\": \"auc\",\n",
    "    'is_unbalance': True\n",
    "}\n",
    "\n",
    "train_data = lgb.Dataset(X_val, label=Y_val)\n",
    "val_data = lgb.Dataset(x_test, label=y_test, reference=train_data)\n",
    "model = lgb.train(params, train_data, num_boost_round=8000, early_stopping_rounds=100,\n",
    "                  valid_sets=[train_data, val_data], verbose_eval=-1)"
   ]
  },
  {
   "cell_type": "code",
   "execution_count": 316,
   "metadata": {},
   "outputs": [],
   "source": [
    "# 预测\n",
    "features_test = test_data.drop(['label'], axis=1)\n",
    "y_predict = model.predict(features_test)\n",
    "\n",
    "plan_create['prob'] = y_predict\n",
    "threshold = pd.Series(y_predict).sort_values(ascending=False).reset_index(drop=True)[int(y_predict.shape[0] * 0.5)]\n",
    "\n",
    "plan_result = plan_create[plan_create['prob'] >= threshold]\n",
    "plan_result['rank_ad_im'] = plan_result.groupby(['ad_account_id', 'image_id'])['prob'].rank(ascending=False,\n",
    "                                                                                            method='first')\n",
    "plan_result = plan_result[plan_result['rank_ad_im'] <= 1]\n",
    "\n",
    "plan_create['rank_ad_im'] = plan_create.groupby(['ad_account_id', 'image_id'])['prob'].rank(ascending=False,\n",
    "                                                                                            method='first')\n",
    "plan_result_pr = plan_create[plan_create['rank_ad_im'] <= 1]"
   ]
  },
  {
   "cell_type": "code",
   "execution_count": 317,
   "metadata": {},
   "outputs": [],
   "source": [
    "ad_num = plan_result['ad_account_id'].value_counts()\n",
    "for ad in np.setdiff1d(plan_create['ad_account_id'].values, ad_num[ad_num > 2].index):\n",
    "    add_plan = plan_result_pr[plan_result_pr['ad_account_id'] == ad].sort_values('prob', ascending=False)[0:3]\n",
    "    plan_result = plan_result.append(add_plan)\n",
    "\n",
    "plan_result['weight'] = plan_result.groupby(['ad_account_id'])['game_id'].transform('count')\n",
    "# 只跑每次付费\n",
    "plan_result = plan_result[plan_result['deep_bid_type'] == 'BID_PER_ACTION']  ## TODO"
   ]
  },
  {
   "cell_type": "code",
   "execution_count": 318,
   "metadata": {},
   "outputs": [],
   "source": [
    "ad_account_id_group = np.array([9872, 9873, 9874, 9875, 9876])  ## TODO\n",
    "\n",
    "plan_num = 4\n",
    "plan_result_n = pd.DataFrame()\n",
    "for account_id in ad_account_id_group:\n",
    "    plan_result_ = plan_result[plan_result['ad_account_id'] == account_id]\n",
    "    plan_result_ = plan_result_.sample(plan_num)\n",
    "    plan_result_n = plan_result_n.append(plan_result_)\n",
    "plan_result = plan_result_n"
   ]
  },
  {
   "cell_type": "code",
   "execution_count": 319,
   "metadata": {},
   "outputs": [],
   "source": [
    "plan_result = plan_result.drop(['create_time', 'create_date', 'prob', 'rank_ad_im', 'label_ids', 'weight'], axis=1)\n",
    "plan_result['convertIndex'] = plan_result['deep_bid_type'].apply(lambda x: 13 if x == 'BID_PER_ACTION' else 14)\n",
    "\n",
    "# 优选广告位\n",
    "plan_result['inventory_type'] = plan_result['inventory_type'].map(str)\n",
    "plan_result['inventory_type'] = plan_result['inventory_type'].apply(lambda x: \"[]\" if x ==\n",
    "        \"['INVENTORY_UNION_SLOT', 'INVENTORY_AWEME_FEED', 'INVENTORY_FEED', 'INVENTORY_UNION_SPLASH_SLOT', \"\n",
    "        \"'INVENTORY_VIDEO_FEED', 'INVENTORY_HOTSOON_FEED', 'INVENTORY_TOMATO_NOVEL']\" else x)\n",
    "plan_result['inventory_type'] = plan_result['inventory_type'].apply(ast.literal_eval)\n",
    "\n",
    "plan_result['budget'] = plan_result.apply(lambda x: x.budget if x.budget >= x.cpa_bid else x.cpa_bid, axis=1)\n",
    "plan_result['budget'] = plan_result['budget'].apply(np.ceil)\n",
    "# plan_result['cpa_bid'] = plan_result['cpa_bid'].apply(lambda x: x if x >= 520 else random.randint(520, 550))\n",
    "plan_result['cpa_bid'] = plan_result['cpa_bid'].apply(lambda x: random.randint(700, 750))\n",
    "# plan_result['cpa_bid'] = plan_result['cpa_bid'].apply(lambda x: random.randint(650, 680))\n",
    "# plan_result['operation'] = 'disable'\n",
    "plan_result['web_url'] = 'https://www.chengzijianzhan.com/tetris/page/7044279938891825160/'\n",
    "plan_result['plan_auto_task_id'] = \"11002,10998,12098\"\n",
    "plan_result['op_id'] = 13268\n",
    "plan_result['district'] = 'CITY'\n",
    "plan_result['flag'] = 'SSR'\n",
    "\n",
    "# 人群包报错，直接先赋值为[]\n",
    "# plan_result['retargeting_tags_include'] = [[] for _ in range(len(plan_result))]\n",
    "# plan_result['retargeting_tags_exclude'] = [[] for _ in range(len(plan_result))]\n",
    "# 周三周四凌晨更新，不跑计划\n",
    "plan_result['schedule_time'] = plan_result['schedule_time'].apply(\n",
    "    lambda x: x[0:96] + '1111111111000000000001' + x[118:144] + '1111111111000000000001' + x[166:])"
   ]
  },
  {
   "cell_type": "code",
   "execution_count": 320,
   "metadata": {},
   "outputs": [
    {
     "name": "stdout",
     "output_type": "stream",
     "text": [
      "计划数量20\n"
     ]
    }
   ],
   "source": [
    "plan_result.reset_index(drop=True, inplace=True)\n",
    "plan_result.to_csv('./plan_result.csv', index=0)  # 保存创建日志\n",
    "print('计划数量%d' % plan_result.shape[0])"
   ]
  },
  {
   "cell_type": "code",
   "execution_count": 322,
   "metadata": {},
   "outputs": [
    {
     "name": "stdout",
     "output_type": "stream",
     "text": [
      "结束....\n",
      "{'code': 200, 'data': True, 'msg': ''}\n"
     ]
    }
   ],
   "source": [
    "rsp_data = get_ad_create(plan_result)\n",
    "print(rsp_data)"
   ]
  },
  {
   "cell_type": "code",
   "execution_count": null,
   "metadata": {},
   "outputs": [],
   "source": []
  },
  {
   "cell_type": "code",
   "execution_count": 266,
   "metadata": {},
   "outputs": [
    {
     "data": {
      "text/plain": [
       "4"
      ]
     },
     "execution_count": 266,
     "metadata": {},
     "output_type": "execute_result"
    }
   ],
   "source": [
    "len(plan_result.loc[0,'attribute'])"
   ]
  },
  {
   "cell_type": "code",
   "execution_count": 265,
   "metadata": {},
   "outputs": [
    {
     "data": {
      "text/plain": [
       "['13268', '13748', '14178', '13822']"
      ]
     },
     "execution_count": 265,
     "metadata": {},
     "output_type": "execute_result"
    }
   ],
   "source": [
    "plan_result.loc[0,'attribute']"
   ]
  },
  {
   "cell_type": "code",
   "execution_count": null,
   "metadata": {},
   "outputs": [],
   "source": []
  },
  {
   "cell_type": "code",
   "execution_count": null,
   "metadata": {},
   "outputs": [],
   "source": []
  }
 ],
 "metadata": {
  "kernelspec": {
   "display_name": "Python 3",
   "language": "python",
   "name": "python3"
  },
  "language_info": {
   "codemirror_mode": {
    "name": "ipython",
    "version": 3
   },
   "file_extension": ".py",
   "mimetype": "text/x-python",
   "name": "python",
   "nbconvert_exporter": "python",
   "pygments_lexer": "ipython3",
   "version": "3.7.6"
  }
 },
 "nbformat": 4,
 "nbformat_minor": 4
}
