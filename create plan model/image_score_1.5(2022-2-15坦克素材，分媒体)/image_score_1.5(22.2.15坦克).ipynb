{
 "cells": [
  {
   "cell_type": "code",
   "execution_count": 2,
   "metadata": {},
   "outputs": [],
   "source": [
    "import pandas as pd\n",
    "import numpy as np\n",
    "import matplotlib.pyplot as plt\n",
    "import seaborn as sns\n",
    "import warnings\n",
    "warnings.filterwarnings('ignore')"
   ]
  },
  {
   "cell_type": "code",
   "execution_count": 3,
   "metadata": {},
   "outputs": [],
   "source": [
    "image_info = pd.read_csv('./train_data_multiprocess.csv')"
   ]
  },
  {
   "cell_type": "code",
   "execution_count": 4,
   "metadata": {},
   "outputs": [],
   "source": [
    "pd.set_option('display.max_columns',None)"
   ]
  },
  {
   "cell_type": "code",
   "execution_count": 5,
   "metadata": {},
   "outputs": [
    {
     "data": {
      "text/html": [
       "<div>\n",
       "<style scoped>\n",
       "    .dataframe tbody tr th:only-of-type {\n",
       "        vertical-align: middle;\n",
       "    }\n",
       "\n",
       "    .dataframe tbody tr th {\n",
       "        vertical-align: top;\n",
       "    }\n",
       "\n",
       "    .dataframe thead th {\n",
       "        text-align: right;\n",
       "    }\n",
       "</style>\n",
       "<table border=\"1\" class=\"dataframe\">\n",
       "  <thead>\n",
       "    <tr style=\"text-align: right;\">\n",
       "      <th></th>\n",
       "      <th>image_id</th>\n",
       "      <th>image_name</th>\n",
       "      <th>media_id</th>\n",
       "      <th>image_launch_time</th>\n",
       "      <th>image_source_total_num</th>\n",
       "      <th>image_run_date_amount</th>\n",
       "      <th>image_create_role_pay_num</th>\n",
       "      <th>image_create_role_num</th>\n",
       "      <th>image_create_role_pay_sum</th>\n",
       "      <th>image_source_num</th>\n",
       "      <th>image_create_role_pay_rate</th>\n",
       "      <th>image_create_role_cost</th>\n",
       "      <th>image_create_role_pay_cost</th>\n",
       "      <th>image_valid_source_num</th>\n",
       "      <th>image_valid_source_rate</th>\n",
       "      <th>image_pay_sum_ability</th>\n",
       "      <th>image_pay_num_ability</th>\n",
       "      <th>image_create_role_roi</th>\n",
       "      <th>image_create_role_retain_1d</th>\n",
       "      <th>create_role_30_pay_sum</th>\n",
       "      <th>model_run_datetime</th>\n",
       "      <th>data_win</th>\n",
       "    </tr>\n",
       "  </thead>\n",
       "  <tbody>\n",
       "    <tr>\n",
       "      <th>0</th>\n",
       "      <td>23536</td>\n",
       "      <td>QXJJ094-竖版xy</td>\n",
       "      <td>16</td>\n",
       "      <td>2021-05-01</td>\n",
       "      <td>1.0</td>\n",
       "      <td>194.24</td>\n",
       "      <td>0.0</td>\n",
       "      <td>6.0</td>\n",
       "      <td>0.0</td>\n",
       "      <td>1.0</td>\n",
       "      <td>0.000</td>\n",
       "      <td>32.373333</td>\n",
       "      <td>0.00</td>\n",
       "      <td>0.0</td>\n",
       "      <td>0.0</td>\n",
       "      <td>0.0</td>\n",
       "      <td>0.0</td>\n",
       "      <td>0.000000</td>\n",
       "      <td>0.0000</td>\n",
       "      <td>0.0</td>\n",
       "      <td>2021-05-01</td>\n",
       "      <td>3</td>\n",
       "    </tr>\n",
       "    <tr>\n",
       "      <th>1</th>\n",
       "      <td>23778</td>\n",
       "      <td>ZDZL1134-横版ZDC</td>\n",
       "      <td>16</td>\n",
       "      <td>2021-05-01</td>\n",
       "      <td>4.0</td>\n",
       "      <td>520.29</td>\n",
       "      <td>0.0</td>\n",
       "      <td>3.0</td>\n",
       "      <td>0.0</td>\n",
       "      <td>1.0</td>\n",
       "      <td>0.000</td>\n",
       "      <td>173.430000</td>\n",
       "      <td>0.00</td>\n",
       "      <td>0.0</td>\n",
       "      <td>0.0</td>\n",
       "      <td>0.0</td>\n",
       "      <td>0.0</td>\n",
       "      <td>0.000000</td>\n",
       "      <td>0.0000</td>\n",
       "      <td>0.0</td>\n",
       "      <td>2021-05-01</td>\n",
       "      <td>3</td>\n",
       "    </tr>\n",
       "    <tr>\n",
       "      <th>2</th>\n",
       "      <td>23919</td>\n",
       "      <td>ZDZL1176-横版ZDC</td>\n",
       "      <td>16</td>\n",
       "      <td>2021-05-01</td>\n",
       "      <td>1.0</td>\n",
       "      <td>4036.55</td>\n",
       "      <td>1.0</td>\n",
       "      <td>37.0</td>\n",
       "      <td>341.0</td>\n",
       "      <td>1.0</td>\n",
       "      <td>0.027</td>\n",
       "      <td>109.095946</td>\n",
       "      <td>4036.55</td>\n",
       "      <td>0.0</td>\n",
       "      <td>0.0</td>\n",
       "      <td>0.0</td>\n",
       "      <td>0.0</td>\n",
       "      <td>0.084478</td>\n",
       "      <td>0.2703</td>\n",
       "      <td>1921.0</td>\n",
       "      <td>2021-05-01</td>\n",
       "      <td>3</td>\n",
       "    </tr>\n",
       "    <tr>\n",
       "      <th>3</th>\n",
       "      <td>24608</td>\n",
       "      <td>ZDZL1285-竖版ZDC</td>\n",
       "      <td>16</td>\n",
       "      <td>2021-05-01</td>\n",
       "      <td>5.0</td>\n",
       "      <td>698.59</td>\n",
       "      <td>0.0</td>\n",
       "      <td>14.0</td>\n",
       "      <td>0.0</td>\n",
       "      <td>1.0</td>\n",
       "      <td>0.000</td>\n",
       "      <td>49.899286</td>\n",
       "      <td>0.00</td>\n",
       "      <td>0.0</td>\n",
       "      <td>0.0</td>\n",
       "      <td>0.0</td>\n",
       "      <td>0.0</td>\n",
       "      <td>0.000000</td>\n",
       "      <td>0.0714</td>\n",
       "      <td>0.0</td>\n",
       "      <td>2021-05-01</td>\n",
       "      <td>3</td>\n",
       "    </tr>\n",
       "    <tr>\n",
       "      <th>4</th>\n",
       "      <td>27485</td>\n",
       "      <td>ZDZL1737-横版LL</td>\n",
       "      <td>16</td>\n",
       "      <td>2021-05-01</td>\n",
       "      <td>3.0</td>\n",
       "      <td>588.04</td>\n",
       "      <td>0.0</td>\n",
       "      <td>5.0</td>\n",
       "      <td>0.0</td>\n",
       "      <td>1.0</td>\n",
       "      <td>0.000</td>\n",
       "      <td>117.608000</td>\n",
       "      <td>0.00</td>\n",
       "      <td>0.0</td>\n",
       "      <td>0.0</td>\n",
       "      <td>0.0</td>\n",
       "      <td>0.0</td>\n",
       "      <td>0.000000</td>\n",
       "      <td>0.2000</td>\n",
       "      <td>0.0</td>\n",
       "      <td>2021-05-01</td>\n",
       "      <td>3</td>\n",
       "    </tr>\n",
       "  </tbody>\n",
       "</table>\n",
       "</div>"
      ],
      "text/plain": [
       "   image_id      image_name  media_id image_launch_time  \\\n",
       "0     23536    QXJJ094-竖版xy        16        2021-05-01   \n",
       "1     23778  ZDZL1134-横版ZDC        16        2021-05-01   \n",
       "2     23919  ZDZL1176-横版ZDC        16        2021-05-01   \n",
       "3     24608  ZDZL1285-竖版ZDC        16        2021-05-01   \n",
       "4     27485   ZDZL1737-横版LL        16        2021-05-01   \n",
       "\n",
       "   image_source_total_num  image_run_date_amount  image_create_role_pay_num  \\\n",
       "0                     1.0                 194.24                        0.0   \n",
       "1                     4.0                 520.29                        0.0   \n",
       "2                     1.0                4036.55                        1.0   \n",
       "3                     5.0                 698.59                        0.0   \n",
       "4                     3.0                 588.04                        0.0   \n",
       "\n",
       "   image_create_role_num  image_create_role_pay_sum  image_source_num  \\\n",
       "0                    6.0                        0.0               1.0   \n",
       "1                    3.0                        0.0               1.0   \n",
       "2                   37.0                      341.0               1.0   \n",
       "3                   14.0                        0.0               1.0   \n",
       "4                    5.0                        0.0               1.0   \n",
       "\n",
       "   image_create_role_pay_rate  image_create_role_cost  \\\n",
       "0                       0.000               32.373333   \n",
       "1                       0.000              173.430000   \n",
       "2                       0.027              109.095946   \n",
       "3                       0.000               49.899286   \n",
       "4                       0.000              117.608000   \n",
       "\n",
       "   image_create_role_pay_cost  image_valid_source_num  \\\n",
       "0                        0.00                     0.0   \n",
       "1                        0.00                     0.0   \n",
       "2                     4036.55                     0.0   \n",
       "3                        0.00                     0.0   \n",
       "4                        0.00                     0.0   \n",
       "\n",
       "   image_valid_source_rate  image_pay_sum_ability  image_pay_num_ability  \\\n",
       "0                      0.0                    0.0                    0.0   \n",
       "1                      0.0                    0.0                    0.0   \n",
       "2                      0.0                    0.0                    0.0   \n",
       "3                      0.0                    0.0                    0.0   \n",
       "4                      0.0                    0.0                    0.0   \n",
       "\n",
       "   image_create_role_roi  image_create_role_retain_1d  create_role_30_pay_sum  \\\n",
       "0               0.000000                       0.0000                     0.0   \n",
       "1               0.000000                       0.0000                     0.0   \n",
       "2               0.084478                       0.2703                  1921.0   \n",
       "3               0.000000                       0.0714                     0.0   \n",
       "4               0.000000                       0.2000                     0.0   \n",
       "\n",
       "  model_run_datetime  data_win  \n",
       "0         2021-05-01         3  \n",
       "1         2021-05-01         3  \n",
       "2         2021-05-01         3  \n",
       "3         2021-05-01         3  \n",
       "4         2021-05-01         3  "
      ]
     },
     "execution_count": 5,
     "metadata": {},
     "output_type": "execute_result"
    }
   ],
   "source": [
    "image_info.head()"
   ]
  },
  {
   "cell_type": "code",
   "execution_count": 6,
   "metadata": {},
   "outputs": [
    {
     "data": {
      "text/plain": [
       "Index(['image_id', 'image_name', 'media_id', 'image_launch_time',\n",
       "       'image_source_total_num', 'image_run_date_amount',\n",
       "       'image_create_role_pay_num', 'image_create_role_num',\n",
       "       'image_create_role_pay_sum', 'image_source_num',\n",
       "       'image_create_role_pay_rate', 'image_create_role_cost',\n",
       "       'image_create_role_pay_cost', 'image_valid_source_num',\n",
       "       'image_valid_source_rate', 'image_pay_sum_ability',\n",
       "       'image_pay_num_ability', 'image_create_role_roi',\n",
       "       'image_create_role_retain_1d', 'create_role_30_pay_sum',\n",
       "       'model_run_datetime', 'data_win'],\n",
       "      dtype='object')"
      ]
     },
     "execution_count": 6,
     "metadata": {},
     "output_type": "execute_result"
    }
   ],
   "source": [
    "image_info.columns"
   ]
  },
  {
   "cell_type": "code",
   "execution_count": 7,
   "metadata": {},
   "outputs": [
    {
     "data": {
      "text/plain": [
       "'2021-05-01'"
      ]
     },
     "execution_count": 7,
     "metadata": {},
     "output_type": "execute_result"
    }
   ],
   "source": [
    "image_info['model_run_datetime'].min()"
   ]
  },
  {
   "cell_type": "code",
   "execution_count": 8,
   "metadata": {},
   "outputs": [
    {
     "data": {
      "text/plain": [
       "'2022-01-01'"
      ]
     },
     "execution_count": 8,
     "metadata": {},
     "output_type": "execute_result"
    }
   ],
   "source": [
    "image_info['model_run_datetime'].max()"
   ]
  },
  {
   "cell_type": "code",
   "execution_count": 9,
   "metadata": {},
   "outputs": [
    {
     "data": {
      "text/plain": [
       "(4767, 22)"
      ]
     },
     "execution_count": 9,
     "metadata": {},
     "output_type": "execute_result"
    }
   ],
   "source": [
    "image_info.shape"
   ]
  },
  {
   "cell_type": "code",
   "execution_count": 10,
   "metadata": {},
   "outputs": [
    {
     "data": {
      "text/plain": [
       "332"
      ]
     },
     "execution_count": 10,
     "metadata": {},
     "output_type": "execute_result"
    }
   ],
   "source": [
    "image_info['image_id'].nunique()"
   ]
  },
  {
   "cell_type": "code",
   "execution_count": 11,
   "metadata": {},
   "outputs": [],
   "source": [
    "image_info['image_30_roi'] = image_info['create_role_30_pay_sum'] / image_info['image_run_date_amount']"
   ]
  },
  {
   "cell_type": "code",
   "execution_count": 16,
   "metadata": {},
   "outputs": [
    {
     "data": {
      "text/plain": [
       "image_30_roi                   1.000000\n",
       "create_role_30_pay_sum         0.222619\n",
       "image_create_role_roi          0.083463\n",
       "image_create_role_pay_rate     0.038486\n",
       "image_valid_source_rate        0.037098\n",
       "image_create_role_retain_1d    0.030522\n",
       "image_create_role_pay_sum      0.021163\n",
       "image_pay_sum_ability          0.020010\n",
       "image_valid_source_num         0.019891\n",
       "image_id                       0.015924\n",
       "image_source_total_num         0.014429\n",
       "image_pay_num_ability          0.006717\n",
       "image_create_role_pay_num      0.006666\n",
       "image_create_role_pay_cost     0.003465\n",
       "media_id                       0.003170\n",
       "image_create_role_num          0.002656\n",
       "image_run_date_amount          0.001216\n",
       "image_source_num               0.001099\n",
       "image_create_role_cost        -0.002151\n",
       "data_win                            NaN\n",
       "Name: image_30_roi, dtype: float64"
      ]
     },
     "execution_count": 16,
     "metadata": {},
     "output_type": "execute_result"
    }
   ],
   "source": [
    "image_info.corr()['image_30_roi'].sort_values(ascending=False)"
   ]
  },
  {
   "cell_type": "code",
   "execution_count": 17,
   "metadata": {},
   "outputs": [],
   "source": [
    "image_info['label'] = image_info['image_30_roi'].apply(lambda x:1 if x>=0.4 else(0 if x<0.25 else 2))"
   ]
  },
  {
   "cell_type": "code",
   "execution_count": 18,
   "metadata": {},
   "outputs": [],
   "source": [
    "image_info_label = image_info[image_info['label']!=2]"
   ]
  },
  {
   "cell_type": "markdown",
   "metadata": {},
   "source": [
    "## EDA"
   ]
  },
  {
   "cell_type": "code",
   "execution_count": 19,
   "metadata": {},
   "outputs": [
    {
     "data": {
      "text/plain": [
       "(4206, 24)"
      ]
     },
     "execution_count": 19,
     "metadata": {},
     "output_type": "execute_result"
    }
   ],
   "source": [
    "image_info_label.shape"
   ]
  },
  {
   "cell_type": "code",
   "execution_count": 20,
   "metadata": {},
   "outputs": [],
   "source": [
    "image_info_label = image_info_label[image_info_label['image_run_date_amount']>=500]"
   ]
  },
  {
   "cell_type": "code",
   "execution_count": 21,
   "metadata": {},
   "outputs": [
    {
     "data": {
      "text/plain": [
       "(2752, 24)"
      ]
     },
     "execution_count": 21,
     "metadata": {},
     "output_type": "execute_result"
    }
   ],
   "source": [
    "image_info_label.shape"
   ]
  },
  {
   "cell_type": "code",
   "execution_count": 22,
   "metadata": {},
   "outputs": [
    {
     "data": {
      "text/plain": [
       "data_win                          1\n",
       "label                             2\n",
       "media_id                          2\n",
       "image_valid_source_num           14\n",
       "image_source_num                 15\n",
       "image_source_total_num           30\n",
       "image_valid_source_rate          39\n",
       "image_create_role_pay_num        67\n",
       "image_launch_time                80\n",
       "image_pay_num_ability           141\n",
       "model_run_datetime              224\n",
       "image_id                        268\n",
       "image_name                      268\n",
       "image_create_role_num           351\n",
       "image_create_role_pay_rate      540\n",
       "image_pay_sum_ability           699\n",
       "image_create_role_pay_sum       703\n",
       "image_create_role_retain_1d     737\n",
       "create_role_30_pay_sum         1101\n",
       "image_create_role_roi          1728\n",
       "image_create_role_pay_cost     1750\n",
       "image_30_roi                   2064\n",
       "image_create_role_cost         2680\n",
       "image_run_date_amount          2708\n",
       "dtype: int64"
      ]
     },
     "execution_count": 22,
     "metadata": {},
     "output_type": "execute_result"
    }
   ],
   "source": [
    "image_info_label.nunique().sort_values()"
   ]
  },
  {
   "cell_type": "code",
   "execution_count": 23,
   "metadata": {},
   "outputs": [],
   "source": [
    "image_info_label.drop(['data_win','image_30_roi'], axis=1, inplace=True)"
   ]
  },
  {
   "cell_type": "code",
   "execution_count": 24,
   "metadata": {
    "scrolled": true
   },
   "outputs": [
    {
     "data": {
      "text/plain": [
       "0.0     1318\n",
       "1.0      864\n",
       "2.0      265\n",
       "3.0      114\n",
       "4.0       66\n",
       "5.0       59\n",
       "6.0       33\n",
       "7.0       14\n",
       "10.0       5\n",
       "8.0        4\n",
       "11.0       4\n",
       "9.0        4\n",
       "13.0       1\n",
       "12.0       1\n",
       "Name: image_valid_source_num, dtype: int64"
      ]
     },
     "execution_count": 24,
     "metadata": {},
     "output_type": "execute_result"
    }
   ],
   "source": [
    "image_info_label['image_valid_source_num'].value_counts()"
   ]
  },
  {
   "cell_type": "code",
   "execution_count": 25,
   "metadata": {
    "scrolled": true
   },
   "outputs": [
    {
     "data": {
      "image/png": "[encoded data removed]",
      "text/plain": [
       "<Figure size 432x288 with 1 Axes>"
      ]
     },
     "metadata": {
      "needs_background": "light"
     },
     "output_type": "display_data"
    },
    {
     "data": {
      "image/png": "[encoded data removed]",
      "text/plain": [
       "<Figure size 432x288 with 1 Axes>"
      ]
     },
     "metadata": {
      "needs_background": "light"
     },
     "output_type": "display_data"
    },
    {
     "data": {
      "image/png": "[encoded data removed]",
      "text/plain": [
       "<Figure size 432x288 with 1 Axes>"
      ]
     },
     "metadata": {
      "needs_background": "light"
     },
     "output_type": "display_data"
    },
    {
     "data": {
      "image/png": "[encoded data removed]",
      "text/plain": [
       "<Figure size 432x288 with 1 Axes>"
      ]
     },
     "metadata": {
      "needs_background": "light"
     },
     "output_type": "display_data"
    },
    {
     "data": {
      "image/png": "[encoded data removed]",
      "text/plain": [
       "<Figure size 432x288 with 1 Axes>"
      ]
     },
     "metadata": {
      "needs_background": "light"
     },
     "output_type": "display_data"
    },
    {
     "data": {
      "image/png": "[encoded data removed]",
      "text/plain": [
       "<Figure size 432x288 with 1 Axes>"
      ]
     },
     "metadata": {
      "needs_background": "light"
     },
     "output_type": "display_data"
    },
    {
     "data": {
      "image/png": "[encoded data removed]",
      "text/plain": [
       "<Figure size 432x288 with 1 Axes>"
      ]
     },
     "metadata": {
      "needs_background": "light"
     },
     "output_type": "display_data"
    },
    {
     "data": {
      "image/png": "[encoded data removed]",
      "text/plain": [
       "<Figure size 432x288 with 1 Axes>"
      ]
     },
     "metadata": {
      "needs_background": "light"
     },
     "output_type": "display_data"
    },
    {
     "data": {
      "image/png": "[encoded data removed]",
      "text/plain": [
       "<Figure size 432x288 with 1 Axes>"
      ]
     },
     "metadata": {
      "needs_background": "light"
     },
     "output_type": "display_data"
    },
    {
     "data": {
      "image/png": "[encoded data removed]",
      "text/plain": [
       "<Figure size 432x288 with 1 Axes>"
      ]
     },
     "metadata": {
      "needs_background": "light"
     },
     "output_type": "display_data"
    }
   ],
   "source": [
    "columns = ['image_run_date_amount', 'image_create_role_pay_num',\n",
    "       'image_create_role_num', 'image_create_role_pay_sum',\n",
    "       'image_source_num', 'image_create_role_pay_rate',\n",
    "       'image_create_role_cost', 'image_create_role_pay_cost',\n",
    "       'image_create_role_roi', 'image_create_role_retain_1d']\n",
    "for col in columns:\n",
    "    sns.distplot(image_info_label[col])\n",
    "    plt.show()"
   ]
  },
  {
   "cell_type": "code",
   "execution_count": 26,
   "metadata": {},
   "outputs": [
    {
     "data": {
      "text/plain": [
       "(44, 22)"
      ]
     },
     "execution_count": 26,
     "metadata": {},
     "output_type": "execute_result"
    }
   ],
   "source": [
    "image_info_label[image_info_label['image_create_role_cost']>=800].shape"
   ]
  },
  {
   "cell_type": "code",
   "execution_count": 27,
   "metadata": {},
   "outputs": [],
   "source": [
    "image_info_label = image_info_label[image_info_label['image_create_role_cost']<800]"
   ]
  },
  {
   "cell_type": "code",
   "execution_count": 28,
   "metadata": {},
   "outputs": [],
   "source": [
    "image_info_label['image_create_role_cost'].replace(0,float('inf'),inplace=True)"
   ]
  },
  {
   "cell_type": "code",
   "execution_count": 29,
   "metadata": {},
   "outputs": [],
   "source": [
    "image_info_label['image_create_role_pay_cost'].replace(0,float('inf'),inplace=True)"
   ]
  },
  {
   "cell_type": "code",
   "execution_count": 30,
   "metadata": {
    "scrolled": true
   },
   "outputs": [
    {
     "data": {
      "text/plain": [
       "1.726950e+02      1\n",
       "2.321000e+02      1\n",
       "2.483133e+02      1\n",
       "2.676475e+02      1\n",
       "2.799700e+02      1\n",
       "               ... \n",
       "1.046523e+04      1\n",
       "1.058400e+04      1\n",
       "1.062117e+04      1\n",
       "1.200344e+04      1\n",
       "inf             955\n",
       "Name: image_create_role_pay_cost, Length: 1743, dtype: int64"
      ]
     },
     "execution_count": 30,
     "metadata": {},
     "output_type": "execute_result"
    }
   ],
   "source": [
    "image_info_label['image_create_role_pay_cost'].value_counts().sort_index()"
   ]
  },
  {
   "cell_type": "code",
   "execution_count": 31,
   "metadata": {},
   "outputs": [],
   "source": [
    "image_info_label = image_info_label[image_info_label['image_create_role_pay_cost']>1000]"
   ]
  },
  {
   "cell_type": "code",
   "execution_count": 32,
   "metadata": {},
   "outputs": [
    {
     "data": {
      "text/plain": [
       "(2189, 22)"
      ]
     },
     "execution_count": 32,
     "metadata": {},
     "output_type": "execute_result"
    }
   ],
   "source": [
    "image_info_label.shape"
   ]
  },
  {
   "cell_type": "code",
   "execution_count": 33,
   "metadata": {},
   "outputs": [
    {
     "data": {
      "image/png": "[encoded data removed]",
      "text/plain": [
       "<Figure size 432x288 with 1 Axes>"
      ]
     },
     "metadata": {
      "needs_background": "light"
     },
     "output_type": "display_data"
    }
   ],
   "source": [
    "sns.countplot(x='label',data=image_info_label)\n",
    "plt.show()"
   ]
  },
  {
   "cell_type": "code",
   "execution_count": 34,
   "metadata": {},
   "outputs": [
    {
     "data": {
      "text/html": [
       "<div>\n",
       "<style scoped>\n",
       "    .dataframe tbody tr th:only-of-type {\n",
       "        vertical-align: middle;\n",
       "    }\n",
       "\n",
       "    .dataframe tbody tr th {\n",
       "        vertical-align: top;\n",
       "    }\n",
       "\n",
       "    .dataframe thead th {\n",
       "        text-align: right;\n",
       "    }\n",
       "</style>\n",
       "<table border=\"1\" class=\"dataframe\">\n",
       "  <thead>\n",
       "    <tr style=\"text-align: right;\">\n",
       "      <th></th>\n",
       "      <th>image_id</th>\n",
       "      <th>media_id</th>\n",
       "      <th>image_source_total_num</th>\n",
       "      <th>image_run_date_amount</th>\n",
       "      <th>image_create_role_pay_num</th>\n",
       "      <th>image_create_role_num</th>\n",
       "      <th>image_create_role_pay_sum</th>\n",
       "      <th>image_source_num</th>\n",
       "      <th>image_create_role_pay_rate</th>\n",
       "      <th>image_create_role_cost</th>\n",
       "      <th>image_create_role_pay_cost</th>\n",
       "      <th>image_valid_source_num</th>\n",
       "      <th>image_valid_source_rate</th>\n",
       "      <th>image_pay_sum_ability</th>\n",
       "      <th>image_pay_num_ability</th>\n",
       "      <th>image_create_role_roi</th>\n",
       "      <th>image_create_role_retain_1d</th>\n",
       "      <th>create_role_30_pay_sum</th>\n",
       "      <th>label</th>\n",
       "    </tr>\n",
       "  </thead>\n",
       "  <tbody>\n",
       "    <tr>\n",
       "      <th>image_id</th>\n",
       "      <td>1.000000</td>\n",
       "      <td>-0.095467</td>\n",
       "      <td>0.073146</td>\n",
       "      <td>0.152460</td>\n",
       "      <td>0.142095</td>\n",
       "      <td>0.133976</td>\n",
       "      <td>0.102450</td>\n",
       "      <td>0.185609</td>\n",
       "      <td>-0.005909</td>\n",
       "      <td>-0.027129</td>\n",
       "      <td>0.058501</td>\n",
       "      <td>0.101052</td>\n",
       "      <td>0.034044</td>\n",
       "      <td>0.062168</td>\n",
       "      <td>0.100123</td>\n",
       "      <td>-0.010267</td>\n",
       "      <td>-0.030498</td>\n",
       "      <td>0.020992</td>\n",
       "      <td>0.034175</td>\n",
       "    </tr>\n",
       "    <tr>\n",
       "      <th>media_id</th>\n",
       "      <td>-0.095467</td>\n",
       "      <td>1.000000</td>\n",
       "      <td>0.016231</td>\n",
       "      <td>-0.557687</td>\n",
       "      <td>-0.376980</td>\n",
       "      <td>-0.436231</td>\n",
       "      <td>-0.340866</td>\n",
       "      <td>0.035480</td>\n",
       "      <td>0.004856</td>\n",
       "      <td>0.028293</td>\n",
       "      <td>-0.090887</td>\n",
       "      <td>0.018111</td>\n",
       "      <td>-0.004164</td>\n",
       "      <td>-0.135399</td>\n",
       "      <td>-0.266744</td>\n",
       "      <td>-0.009639</td>\n",
       "      <td>0.015371</td>\n",
       "      <td>-0.080496</td>\n",
       "      <td>0.035322</td>\n",
       "    </tr>\n",
       "    <tr>\n",
       "      <th>image_source_total_num</th>\n",
       "      <td>0.073146</td>\n",
       "      <td>0.016231</td>\n",
       "      <td>1.000000</td>\n",
       "      <td>0.221085</td>\n",
       "      <td>0.286118</td>\n",
       "      <td>0.231119</td>\n",
       "      <td>0.197698</td>\n",
       "      <td>0.369711</td>\n",
       "      <td>0.099805</td>\n",
       "      <td>-0.146275</td>\n",
       "      <td>-0.073900</td>\n",
       "      <td>0.346383</td>\n",
       "      <td>0.203003</td>\n",
       "      <td>0.168015</td>\n",
       "      <td>0.184558</td>\n",
       "      <td>0.046515</td>\n",
       "      <td>-0.009591</td>\n",
       "      <td>0.247045</td>\n",
       "      <td>0.191442</td>\n",
       "    </tr>\n",
       "    <tr>\n",
       "      <th>image_run_date_amount</th>\n",
       "      <td>0.152460</td>\n",
       "      <td>-0.557687</td>\n",
       "      <td>0.221085</td>\n",
       "      <td>1.000000</td>\n",
       "      <td>0.913166</td>\n",
       "      <td>0.932189</td>\n",
       "      <td>0.821462</td>\n",
       "      <td>0.107562</td>\n",
       "      <td>0.086361</td>\n",
       "      <td>-0.172637</td>\n",
       "      <td>0.031726</td>\n",
       "      <td>0.179154</td>\n",
       "      <td>0.158744</td>\n",
       "      <td>0.459993</td>\n",
       "      <td>0.551633</td>\n",
       "      <td>0.107227</td>\n",
       "      <td>-0.033406</td>\n",
       "      <td>0.553405</td>\n",
       "      <td>0.211380</td>\n",
       "    </tr>\n",
       "    <tr>\n",
       "      <th>image_create_role_pay_num</th>\n",
       "      <td>0.142095</td>\n",
       "      <td>-0.376980</td>\n",
       "      <td>0.286118</td>\n",
       "      <td>0.913166</td>\n",
       "      <td>1.000000</td>\n",
       "      <td>0.913243</td>\n",
       "      <td>0.818530</td>\n",
       "      <td>0.132767</td>\n",
       "      <td>0.172322</td>\n",
       "      <td>-0.190284</td>\n",
       "      <td>-0.153756</td>\n",
       "      <td>0.281749</td>\n",
       "      <td>0.284557</td>\n",
       "      <td>0.642788</td>\n",
       "      <td>0.757478</td>\n",
       "      <td>0.146725</td>\n",
       "      <td>0.000219</td>\n",
       "      <td>0.593587</td>\n",
       "      <td>0.284258</td>\n",
       "    </tr>\n",
       "    <tr>\n",
       "      <th>image_create_role_num</th>\n",
       "      <td>0.133976</td>\n",
       "      <td>-0.436231</td>\n",
       "      <td>0.231119</td>\n",
       "      <td>0.932189</td>\n",
       "      <td>0.913243</td>\n",
       "      <td>1.000000</td>\n",
       "      <td>0.771061</td>\n",
       "      <td>0.109018</td>\n",
       "      <td>0.025487</td>\n",
       "      <td>-0.232175</td>\n",
       "      <td>-0.016685</td>\n",
       "      <td>0.177996</td>\n",
       "      <td>0.164965</td>\n",
       "      <td>0.426283</td>\n",
       "      <td>0.559365</td>\n",
       "      <td>0.099852</td>\n",
       "      <td>-0.064305</td>\n",
       "      <td>0.569321</td>\n",
       "      <td>0.228405</td>\n",
       "    </tr>\n",
       "    <tr>\n",
       "      <th>image_create_role_pay_sum</th>\n",
       "      <td>0.102450</td>\n",
       "      <td>-0.340866</td>\n",
       "      <td>0.197698</td>\n",
       "      <td>0.821462</td>\n",
       "      <td>0.818530</td>\n",
       "      <td>0.771061</td>\n",
       "      <td>1.000000</td>\n",
       "      <td>0.114731</td>\n",
       "      <td>0.129232</td>\n",
       "      <td>-0.123462</td>\n",
       "      <td>-0.081413</td>\n",
       "      <td>0.197000</td>\n",
       "      <td>0.168698</td>\n",
       "      <td>0.615616</td>\n",
       "      <td>0.501537</td>\n",
       "      <td>0.345441</td>\n",
       "      <td>0.003301</td>\n",
       "      <td>0.653431</td>\n",
       "      <td>0.317264</td>\n",
       "    </tr>\n",
       "    <tr>\n",
       "      <th>image_source_num</th>\n",
       "      <td>0.185609</td>\n",
       "      <td>0.035480</td>\n",
       "      <td>0.369711</td>\n",
       "      <td>0.107562</td>\n",
       "      <td>0.132767</td>\n",
       "      <td>0.109018</td>\n",
       "      <td>0.114731</td>\n",
       "      <td>1.000000</td>\n",
       "      <td>0.079738</td>\n",
       "      <td>-0.122440</td>\n",
       "      <td>-0.031614</td>\n",
       "      <td>0.617360</td>\n",
       "      <td>0.092454</td>\n",
       "      <td>-0.022143</td>\n",
       "      <td>-0.039525</td>\n",
       "      <td>0.071563</td>\n",
       "      <td>-0.045700</td>\n",
       "      <td>0.132568</td>\n",
       "      <td>0.145757</td>\n",
       "    </tr>\n",
       "    <tr>\n",
       "      <th>image_create_role_pay_rate</th>\n",
       "      <td>-0.005909</td>\n",
       "      <td>0.004856</td>\n",
       "      <td>0.099805</td>\n",
       "      <td>0.086361</td>\n",
       "      <td>0.172322</td>\n",
       "      <td>0.025487</td>\n",
       "      <td>0.129232</td>\n",
       "      <td>0.079738</td>\n",
       "      <td>1.000000</td>\n",
       "      <td>0.154197</td>\n",
       "      <td>-0.387354</td>\n",
       "      <td>0.327114</td>\n",
       "      <td>0.504879</td>\n",
       "      <td>0.189146</td>\n",
       "      <td>0.192113</td>\n",
       "      <td>0.269201</td>\n",
       "      <td>0.261835</td>\n",
       "      <td>0.076803</td>\n",
       "      <td>0.208435</td>\n",
       "    </tr>\n",
       "    <tr>\n",
       "      <th>image_create_role_cost</th>\n",
       "      <td>-0.027129</td>\n",
       "      <td>0.028293</td>\n",
       "      <td>-0.146275</td>\n",
       "      <td>-0.172637</td>\n",
       "      <td>-0.190284</td>\n",
       "      <td>-0.232175</td>\n",
       "      <td>-0.123462</td>\n",
       "      <td>-0.122440</td>\n",
       "      <td>0.154197</td>\n",
       "      <td>1.000000</td>\n",
       "      <td>0.002087</td>\n",
       "      <td>-0.146690</td>\n",
       "      <td>-0.154524</td>\n",
       "      <td>-0.083918</td>\n",
       "      <td>-0.134564</td>\n",
       "      <td>-0.042590</td>\n",
       "      <td>0.242829</td>\n",
       "      <td>-0.151154</td>\n",
       "      <td>-0.126953</td>\n",
       "    </tr>\n",
       "    <tr>\n",
       "      <th>image_create_role_pay_cost</th>\n",
       "      <td>0.058501</td>\n",
       "      <td>-0.090887</td>\n",
       "      <td>-0.073900</td>\n",
       "      <td>0.031726</td>\n",
       "      <td>-0.153756</td>\n",
       "      <td>-0.016685</td>\n",
       "      <td>-0.081413</td>\n",
       "      <td>-0.031614</td>\n",
       "      <td>-0.387354</td>\n",
       "      <td>0.002087</td>\n",
       "      <td>1.000000</td>\n",
       "      <td>-0.308001</td>\n",
       "      <td>-0.521803</td>\n",
       "      <td>-0.169774</td>\n",
       "      <td>-0.209534</td>\n",
       "      <td>-0.130593</td>\n",
       "      <td>-0.232233</td>\n",
       "      <td>-0.042952</td>\n",
       "      <td>-0.117793</td>\n",
       "    </tr>\n",
       "    <tr>\n",
       "      <th>image_valid_source_num</th>\n",
       "      <td>0.101052</td>\n",
       "      <td>0.018111</td>\n",
       "      <td>0.346383</td>\n",
       "      <td>0.179154</td>\n",
       "      <td>0.281749</td>\n",
       "      <td>0.177996</td>\n",
       "      <td>0.197000</td>\n",
       "      <td>0.617360</td>\n",
       "      <td>0.327114</td>\n",
       "      <td>-0.146690</td>\n",
       "      <td>-0.308001</td>\n",
       "      <td>1.000000</td>\n",
       "      <td>0.655649</td>\n",
       "      <td>0.132375</td>\n",
       "      <td>0.153947</td>\n",
       "      <td>0.166399</td>\n",
       "      <td>0.089019</td>\n",
       "      <td>0.156825</td>\n",
       "      <td>0.255935</td>\n",
       "    </tr>\n",
       "    <tr>\n",
       "      <th>image_valid_source_rate</th>\n",
       "      <td>0.034044</td>\n",
       "      <td>-0.004164</td>\n",
       "      <td>0.203003</td>\n",
       "      <td>0.158744</td>\n",
       "      <td>0.284557</td>\n",
       "      <td>0.164965</td>\n",
       "      <td>0.168698</td>\n",
       "      <td>0.092454</td>\n",
       "      <td>0.504879</td>\n",
       "      <td>-0.154524</td>\n",
       "      <td>-0.521803</td>\n",
       "      <td>0.655649</td>\n",
       "      <td>1.000000</td>\n",
       "      <td>0.284158</td>\n",
       "      <td>0.353650</td>\n",
       "      <td>0.220673</td>\n",
       "      <td>0.185497</td>\n",
       "      <td>0.152267</td>\n",
       "      <td>0.304894</td>\n",
       "    </tr>\n",
       "    <tr>\n",
       "      <th>image_pay_sum_ability</th>\n",
       "      <td>0.062168</td>\n",
       "      <td>-0.135399</td>\n",
       "      <td>0.168015</td>\n",
       "      <td>0.459993</td>\n",
       "      <td>0.642788</td>\n",
       "      <td>0.426283</td>\n",
       "      <td>0.615616</td>\n",
       "      <td>-0.022143</td>\n",
       "      <td>0.189146</td>\n",
       "      <td>-0.083918</td>\n",
       "      <td>-0.169774</td>\n",
       "      <td>0.132375</td>\n",
       "      <td>0.284158</td>\n",
       "      <td>1.000000</td>\n",
       "      <td>0.846279</td>\n",
       "      <td>0.356907</td>\n",
       "      <td>0.048639</td>\n",
       "      <td>0.436106</td>\n",
       "      <td>0.292176</td>\n",
       "    </tr>\n",
       "    <tr>\n",
       "      <th>image_pay_num_ability</th>\n",
       "      <td>0.100123</td>\n",
       "      <td>-0.266744</td>\n",
       "      <td>0.184558</td>\n",
       "      <td>0.551633</td>\n",
       "      <td>0.757478</td>\n",
       "      <td>0.559365</td>\n",
       "      <td>0.501537</td>\n",
       "      <td>-0.039525</td>\n",
       "      <td>0.192113</td>\n",
       "      <td>-0.134564</td>\n",
       "      <td>-0.209534</td>\n",
       "      <td>0.153947</td>\n",
       "      <td>0.353650</td>\n",
       "      <td>0.846279</td>\n",
       "      <td>1.000000</td>\n",
       "      <td>0.118334</td>\n",
       "      <td>0.038428</td>\n",
       "      <td>0.398330</td>\n",
       "      <td>0.233217</td>\n",
       "    </tr>\n",
       "    <tr>\n",
       "      <th>image_create_role_roi</th>\n",
       "      <td>-0.010267</td>\n",
       "      <td>-0.009639</td>\n",
       "      <td>0.046515</td>\n",
       "      <td>0.107227</td>\n",
       "      <td>0.146725</td>\n",
       "      <td>0.099852</td>\n",
       "      <td>0.345441</td>\n",
       "      <td>0.071563</td>\n",
       "      <td>0.269201</td>\n",
       "      <td>-0.042590</td>\n",
       "      <td>-0.130593</td>\n",
       "      <td>0.166399</td>\n",
       "      <td>0.220673</td>\n",
       "      <td>0.356907</td>\n",
       "      <td>0.118334</td>\n",
       "      <td>1.000000</td>\n",
       "      <td>0.076183</td>\n",
       "      <td>0.206114</td>\n",
       "      <td>0.341877</td>\n",
       "    </tr>\n",
       "    <tr>\n",
       "      <th>image_create_role_retain_1d</th>\n",
       "      <td>-0.030498</td>\n",
       "      <td>0.015371</td>\n",
       "      <td>-0.009591</td>\n",
       "      <td>-0.033406</td>\n",
       "      <td>0.000219</td>\n",
       "      <td>-0.064305</td>\n",
       "      <td>0.003301</td>\n",
       "      <td>-0.045700</td>\n",
       "      <td>0.261835</td>\n",
       "      <td>0.242829</td>\n",
       "      <td>-0.232233</td>\n",
       "      <td>0.089019</td>\n",
       "      <td>0.185497</td>\n",
       "      <td>0.048639</td>\n",
       "      <td>0.038428</td>\n",
       "      <td>0.076183</td>\n",
       "      <td>1.000000</td>\n",
       "      <td>-0.013605</td>\n",
       "      <td>0.138785</td>\n",
       "    </tr>\n",
       "    <tr>\n",
       "      <th>create_role_30_pay_sum</th>\n",
       "      <td>0.020992</td>\n",
       "      <td>-0.080496</td>\n",
       "      <td>0.247045</td>\n",
       "      <td>0.553405</td>\n",
       "      <td>0.593587</td>\n",
       "      <td>0.569321</td>\n",
       "      <td>0.653431</td>\n",
       "      <td>0.132568</td>\n",
       "      <td>0.076803</td>\n",
       "      <td>-0.151154</td>\n",
       "      <td>-0.042952</td>\n",
       "      <td>0.156825</td>\n",
       "      <td>0.152267</td>\n",
       "      <td>0.436106</td>\n",
       "      <td>0.398330</td>\n",
       "      <td>0.206114</td>\n",
       "      <td>-0.013605</td>\n",
       "      <td>1.000000</td>\n",
       "      <td>0.471069</td>\n",
       "    </tr>\n",
       "    <tr>\n",
       "      <th>label</th>\n",
       "      <td>0.034175</td>\n",
       "      <td>0.035322</td>\n",
       "      <td>0.191442</td>\n",
       "      <td>0.211380</td>\n",
       "      <td>0.284258</td>\n",
       "      <td>0.228405</td>\n",
       "      <td>0.317264</td>\n",
       "      <td>0.145757</td>\n",
       "      <td>0.208435</td>\n",
       "      <td>-0.126953</td>\n",
       "      <td>-0.117793</td>\n",
       "      <td>0.255935</td>\n",
       "      <td>0.304894</td>\n",
       "      <td>0.292176</td>\n",
       "      <td>0.233217</td>\n",
       "      <td>0.341877</td>\n",
       "      <td>0.138785</td>\n",
       "      <td>0.471069</td>\n",
       "      <td>1.000000</td>\n",
       "    </tr>\n",
       "  </tbody>\n",
       "</table>\n",
       "</div>"
      ],
      "text/plain": [
       "                             image_id  media_id  image_source_total_num  \\\n",
       "image_id                     1.000000 -0.095467                0.073146   \n",
       "media_id                    -0.095467  1.000000                0.016231   \n",
       "image_source_total_num       0.073146  0.016231                1.000000   \n",
       "image_run_date_amount        0.152460 -0.557687                0.221085   \n",
       "image_create_role_pay_num    0.142095 -0.376980                0.286118   \n",
       "image_create_role_num        0.133976 -0.436231                0.231119   \n",
       "image_create_role_pay_sum    0.102450 -0.340866                0.197698   \n",
       "image_source_num             0.185609  0.035480                0.369711   \n",
       "image_create_role_pay_rate  -0.005909  0.004856                0.099805   \n",
       "image_create_role_cost      -0.027129  0.028293               -0.146275   \n",
       "image_create_role_pay_cost   0.058501 -0.090887               -0.073900   \n",
       "image_valid_source_num       0.101052  0.018111                0.346383   \n",
       "image_valid_source_rate      0.034044 -0.004164                0.203003   \n",
       "image_pay_sum_ability        0.062168 -0.135399                0.168015   \n",
       "image_pay_num_ability        0.100123 -0.266744                0.184558   \n",
       "image_create_role_roi       -0.010267 -0.009639                0.046515   \n",
       "image_create_role_retain_1d -0.030498  0.015371               -0.009591   \n",
       "create_role_30_pay_sum       0.020992 -0.080496                0.247045   \n",
       "label                        0.034175  0.035322                0.191442   \n",
       "\n",
       "                             image_run_date_amount  image_create_role_pay_num  \\\n",
       "image_id                                  0.152460                   0.142095   \n",
       "media_id                                 -0.557687                  -0.376980   \n",
       "image_source_total_num                    0.221085                   0.286118   \n",
       "image_run_date_amount                     1.000000                   0.913166   \n",
       "image_create_role_pay_num                 0.913166                   1.000000   \n",
       "image_create_role_num                     0.932189                   0.913243   \n",
       "image_create_role_pay_sum                 0.821462                   0.818530   \n",
       "image_source_num                          0.107562                   0.132767   \n",
       "image_create_role_pay_rate                0.086361                   0.172322   \n",
       "image_create_role_cost                   -0.172637                  -0.190284   \n",
       "image_create_role_pay_cost                0.031726                  -0.153756   \n",
       "image_valid_source_num                    0.179154                   0.281749   \n",
       "image_valid_source_rate                   0.158744                   0.284557   \n",
       "image_pay_sum_ability                     0.459993                   0.642788   \n",
       "image_pay_num_ability                     0.551633                   0.757478   \n",
       "image_create_role_roi                     0.107227                   0.146725   \n",
       "image_create_role_retain_1d              -0.033406                   0.000219   \n",
       "create_role_30_pay_sum                    0.553405                   0.593587   \n",
       "label                                     0.211380                   0.284258   \n",
       "\n",
       "                             image_create_role_num  image_create_role_pay_sum  \\\n",
       "image_id                                  0.133976                   0.102450   \n",
       "media_id                                 -0.436231                  -0.340866   \n",
       "image_source_total_num                    0.231119                   0.197698   \n",
       "image_run_date_amount                     0.932189                   0.821462   \n",
       "image_create_role_pay_num                 0.913243                   0.818530   \n",
       "image_create_role_num                     1.000000                   0.771061   \n",
       "image_create_role_pay_sum                 0.771061                   1.000000   \n",
       "image_source_num                          0.109018                   0.114731   \n",
       "image_create_role_pay_rate                0.025487                   0.129232   \n",
       "image_create_role_cost                   -0.232175                  -0.123462   \n",
       "image_create_role_pay_cost               -0.016685                  -0.081413   \n",
       "image_valid_source_num                    0.177996                   0.197000   \n",
       "image_valid_source_rate                   0.164965                   0.168698   \n",
       "image_pay_sum_ability                     0.426283                   0.615616   \n",
       "image_pay_num_ability                     0.559365                   0.501537   \n",
       "image_create_role_roi                     0.099852                   0.345441   \n",
       "image_create_role_retain_1d              -0.064305                   0.003301   \n",
       "create_role_30_pay_sum                    0.569321                   0.653431   \n",
       "label                                     0.228405                   0.317264   \n",
       "\n",
       "                             image_source_num  image_create_role_pay_rate  \\\n",
       "image_id                             0.185609                   -0.005909   \n",
       "media_id                             0.035480                    0.004856   \n",
       "image_source_total_num               0.369711                    0.099805   \n",
       "image_run_date_amount                0.107562                    0.086361   \n",
       "image_create_role_pay_num            0.132767                    0.172322   \n",
       "image_create_role_num                0.109018                    0.025487   \n",
       "image_create_role_pay_sum            0.114731                    0.129232   \n",
       "image_source_num                     1.000000                    0.079738   \n",
       "image_create_role_pay_rate           0.079738                    1.000000   \n",
       "image_create_role_cost              -0.122440                    0.154197   \n",
       "image_create_role_pay_cost          -0.031614                   -0.387354   \n",
       "image_valid_source_num               0.617360                    0.327114   \n",
       "image_valid_source_rate              0.092454                    0.504879   \n",
       "image_pay_sum_ability               -0.022143                    0.189146   \n",
       "image_pay_num_ability               -0.039525                    0.192113   \n",
       "image_create_role_roi                0.071563                    0.269201   \n",
       "image_create_role_retain_1d         -0.045700                    0.261835   \n",
       "create_role_30_pay_sum               0.132568                    0.076803   \n",
       "label                                0.145757                    0.208435   \n",
       "\n",
       "                             image_create_role_cost  \\\n",
       "image_id                                  -0.027129   \n",
       "media_id                                   0.028293   \n",
       "image_source_total_num                    -0.146275   \n",
       "image_run_date_amount                     -0.172637   \n",
       "image_create_role_pay_num                 -0.190284   \n",
       "image_create_role_num                     -0.232175   \n",
       "image_create_role_pay_sum                 -0.123462   \n",
       "image_source_num                          -0.122440   \n",
       "image_create_role_pay_rate                 0.154197   \n",
       "image_create_role_cost                     1.000000   \n",
       "image_create_role_pay_cost                 0.002087   \n",
       "image_valid_source_num                    -0.146690   \n",
       "image_valid_source_rate                   -0.154524   \n",
       "image_pay_sum_ability                     -0.083918   \n",
       "image_pay_num_ability                     -0.134564   \n",
       "image_create_role_roi                     -0.042590   \n",
       "image_create_role_retain_1d                0.242829   \n",
       "create_role_30_pay_sum                    -0.151154   \n",
       "label                                     -0.126953   \n",
       "\n",
       "                             image_create_role_pay_cost  \\\n",
       "image_id                                       0.058501   \n",
       "media_id                                      -0.090887   \n",
       "image_source_total_num                        -0.073900   \n",
       "image_run_date_amount                          0.031726   \n",
       "image_create_role_pay_num                     -0.153756   \n",
       "image_create_role_num                         -0.016685   \n",
       "image_create_role_pay_sum                     -0.081413   \n",
       "image_source_num                              -0.031614   \n",
       "image_create_role_pay_rate                    -0.387354   \n",
       "image_create_role_cost                         0.002087   \n",
       "image_create_role_pay_cost                     1.000000   \n",
       "image_valid_source_num                        -0.308001   \n",
       "image_valid_source_rate                       -0.521803   \n",
       "image_pay_sum_ability                         -0.169774   \n",
       "image_pay_num_ability                         -0.209534   \n",
       "image_create_role_roi                         -0.130593   \n",
       "image_create_role_retain_1d                   -0.232233   \n",
       "create_role_30_pay_sum                        -0.042952   \n",
       "label                                         -0.117793   \n",
       "\n",
       "                             image_valid_source_num  image_valid_source_rate  \\\n",
       "image_id                                   0.101052                 0.034044   \n",
       "media_id                                   0.018111                -0.004164   \n",
       "image_source_total_num                     0.346383                 0.203003   \n",
       "image_run_date_amount                      0.179154                 0.158744   \n",
       "image_create_role_pay_num                  0.281749                 0.284557   \n",
       "image_create_role_num                      0.177996                 0.164965   \n",
       "image_create_role_pay_sum                  0.197000                 0.168698   \n",
       "image_source_num                           0.617360                 0.092454   \n",
       "image_create_role_pay_rate                 0.327114                 0.504879   \n",
       "image_create_role_cost                    -0.146690                -0.154524   \n",
       "image_create_role_pay_cost                -0.308001                -0.521803   \n",
       "image_valid_source_num                     1.000000                 0.655649   \n",
       "image_valid_source_rate                    0.655649                 1.000000   \n",
       "image_pay_sum_ability                      0.132375                 0.284158   \n",
       "image_pay_num_ability                      0.153947                 0.353650   \n",
       "image_create_role_roi                      0.166399                 0.220673   \n",
       "image_create_role_retain_1d                0.089019                 0.185497   \n",
       "create_role_30_pay_sum                     0.156825                 0.152267   \n",
       "label                                      0.255935                 0.304894   \n",
       "\n",
       "                             image_pay_sum_ability  image_pay_num_ability  \\\n",
       "image_id                                  0.062168               0.100123   \n",
       "media_id                                 -0.135399              -0.266744   \n",
       "image_source_total_num                    0.168015               0.184558   \n",
       "image_run_date_amount                     0.459993               0.551633   \n",
       "image_create_role_pay_num                 0.642788               0.757478   \n",
       "image_create_role_num                     0.426283               0.559365   \n",
       "image_create_role_pay_sum                 0.615616               0.501537   \n",
       "image_source_num                         -0.022143              -0.039525   \n",
       "image_create_role_pay_rate                0.189146               0.192113   \n",
       "image_create_role_cost                   -0.083918              -0.134564   \n",
       "image_create_role_pay_cost               -0.169774              -0.209534   \n",
       "image_valid_source_num                    0.132375               0.153947   \n",
       "image_valid_source_rate                   0.284158               0.353650   \n",
       "image_pay_sum_ability                     1.000000               0.846279   \n",
       "image_pay_num_ability                     0.846279               1.000000   \n",
       "image_create_role_roi                     0.356907               0.118334   \n",
       "image_create_role_retain_1d               0.048639               0.038428   \n",
       "create_role_30_pay_sum                    0.436106               0.398330   \n",
       "label                                     0.292176               0.233217   \n",
       "\n",
       "                             image_create_role_roi  \\\n",
       "image_id                                 -0.010267   \n",
       "media_id                                 -0.009639   \n",
       "image_source_total_num                    0.046515   \n",
       "image_run_date_amount                     0.107227   \n",
       "image_create_role_pay_num                 0.146725   \n",
       "image_create_role_num                     0.099852   \n",
       "image_create_role_pay_sum                 0.345441   \n",
       "image_source_num                          0.071563   \n",
       "image_create_role_pay_rate                0.269201   \n",
       "image_create_role_cost                   -0.042590   \n",
       "image_create_role_pay_cost               -0.130593   \n",
       "image_valid_source_num                    0.166399   \n",
       "image_valid_source_rate                   0.220673   \n",
       "image_pay_sum_ability                     0.356907   \n",
       "image_pay_num_ability                     0.118334   \n",
       "image_create_role_roi                     1.000000   \n",
       "image_create_role_retain_1d               0.076183   \n",
       "create_role_30_pay_sum                    0.206114   \n",
       "label                                     0.341877   \n",
       "\n",
       "                             image_create_role_retain_1d  \\\n",
       "image_id                                       -0.030498   \n",
       "media_id                                        0.015371   \n",
       "image_source_total_num                         -0.009591   \n",
       "image_run_date_amount                          -0.033406   \n",
       "image_create_role_pay_num                       0.000219   \n",
       "image_create_role_num                          -0.064305   \n",
       "image_create_role_pay_sum                       0.003301   \n",
       "image_source_num                               -0.045700   \n",
       "image_create_role_pay_rate                      0.261835   \n",
       "image_create_role_cost                          0.242829   \n",
       "image_create_role_pay_cost                     -0.232233   \n",
       "image_valid_source_num                          0.089019   \n",
       "image_valid_source_rate                         0.185497   \n",
       "image_pay_sum_ability                           0.048639   \n",
       "image_pay_num_ability                           0.038428   \n",
       "image_create_role_roi                           0.076183   \n",
       "image_create_role_retain_1d                     1.000000   \n",
       "create_role_30_pay_sum                         -0.013605   \n",
       "label                                           0.138785   \n",
       "\n",
       "                             create_role_30_pay_sum     label  \n",
       "image_id                                   0.020992  0.034175  \n",
       "media_id                                  -0.080496  0.035322  \n",
       "image_source_total_num                     0.247045  0.191442  \n",
       "image_run_date_amount                      0.553405  0.211380  \n",
       "image_create_role_pay_num                  0.593587  0.284258  \n",
       "image_create_role_num                      0.569321  0.228405  \n",
       "image_create_role_pay_sum                  0.653431  0.317264  \n",
       "image_source_num                           0.132568  0.145757  \n",
       "image_create_role_pay_rate                 0.076803  0.208435  \n",
       "image_create_role_cost                    -0.151154 -0.126953  \n",
       "image_create_role_pay_cost                -0.042952 -0.117793  \n",
       "image_valid_source_num                     0.156825  0.255935  \n",
       "image_valid_source_rate                    0.152267  0.304894  \n",
       "image_pay_sum_ability                      0.436106  0.292176  \n",
       "image_pay_num_ability                      0.398330  0.233217  \n",
       "image_create_role_roi                      0.206114  0.341877  \n",
       "image_create_role_retain_1d               -0.013605  0.138785  \n",
       "create_role_30_pay_sum                     1.000000  0.471069  \n",
       "label                                      0.471069  1.000000  "
      ]
     },
     "execution_count": 34,
     "metadata": {},
     "output_type": "execute_result"
    }
   ],
   "source": [
    "#多变量分析\n",
    "image_info_label.corr()"
   ]
  },
  {
   "cell_type": "code",
   "execution_count": 35,
   "metadata": {},
   "outputs": [],
   "source": [
    "#特征选择,woe分箱\n",
    "from scipy import stats\n",
    "def monoto_bin(Y, X, n = 20):\n",
    "    r = 0\n",
    "    total_bad = Y.sum()\n",
    "    total_good =Y.count()-total_bad  \n",
    "    while np.abs(r) < 0.9:\n",
    "        d1 = pd.DataFrame({\"X\": X, \"Y\": Y, \"Bucket\": pd.qcut(X, n,duplicates='raise')})\n",
    "        d2 = d1.groupby('Bucket', as_index = True)\n",
    "        r, p = stats.spearmanr(d2.mean().X, d2.mean().Y)\n",
    "        n = n - 1\n",
    "#     print(r)\n",
    "#     print(n)\n",
    "    d3 = pd.DataFrame(d2.min().X, columns = ['min_' + X.name])\n",
    "    d3['min_' + X.name] = d2.min().X\n",
    "    d3['max_' + X.name] = d2.max().X\n",
    "    d3[Y.name] = d2.sum().Y\n",
    "    d3['total'] = d2.count().Y\n",
    "    #d3[Y.name + '_rate'] = d2.mean().Y\n",
    "    d3['badattr']=d3[Y.name]/total_bad\n",
    "    d3['goodattr']=(d3['total']-d3[Y.name])/total_good\n",
    "    d3['woe'] = np.log(d3['goodattr']/d3['badattr'])\n",
    "    iv = ((d3['goodattr']-d3['badattr'])*d3['woe']).sum()\n",
    "    d4 = (d3.sort_values(by = 'min_' + X.name)).reset_index(drop = True)\n",
    "    print (\"=\" * 80)\n",
    "    cut = []\n",
    "    cut.append(float('-inf'))\n",
    "    for i in range(1,n+1):\n",
    "        qua =X.quantile(i/(n+1))\n",
    "        cut.append(round(qua,4))\n",
    "    cut.append(float('inf'))\n",
    "    woe = list(d4['woe'].round(3))\n",
    "    return d4,iv,cut,woe"
   ]
  },
  {
   "cell_type": "code",
   "execution_count": 36,
   "metadata": {},
   "outputs": [
    {
     "name": "stdout",
     "output_type": "stream",
     "text": [
      "================================================================================\n",
      "================================================================================\n",
      "================================================================================\n"
     ]
    }
   ],
   "source": [
    "dfx1,ivx1,cutx1,woex1 = monoto_bin(image_info_label['label'],image_info_label['image_run_date_amount'],n=10)\n",
    "# dfx2,ivx2,cutx2,woex2 = monoto_bin(image_info_label['label'],image_info_label['image_create_role_pay_num'],n=10)\n",
    "dfx3,ivx3,cutx3,woex3 = monoto_bin(image_info_label['label'],image_info_label['image_create_role_num'],n=10)\n",
    "# dfx4,ivx4,cutx4,woex4 = monoto_bin(image_info_label['label'],image_info_label['image_create_role_pay_sum'],n=10)\n",
    "# dfx5,ivx5,cutx5,woex5 = monoto_bin(image_info_label['label'],image_info_label['image_source_num'],n=10)\n",
    "# dfx6,ivx6,cutx6,woex6 = monoto_bin(image_info_label['label'],image_info_label['image_create_role_pay_rate'],n=10)\n",
    "dfx7,ivx7,cutx7,woex7 = monoto_bin(image_info_label['label'],image_info_label['image_create_role_cost'],n=10)\n",
    "# dfx8,ivx8,cutx8,woex8 = monoto_bin(image_info_label['label'],image_info_label['image_create_role_pay_cost'],n=10)\n",
    "# dfx9,ivx9,cutx9,woex9 = monoto_bin(image_info_label['label'],image_info_label['image_valid_source_rate'],n=10)\n",
    "# dfx10,ivx10,cutx10,woex10 = monoto_bin(image_info_label['label'],image_info_label['image_pay_sum_ability'],n=10)\n",
    "# dfx11,ivx11,cutx11,woex11 = monoto_bin(image_info_label['label'],image_info_label['image_pay_num_ability'],n=10)\n",
    "# dfx12,ivx12,cutx12,woex12 = monoto_bin(image_info_label['label'],image_info_label['image_create_role_roi'],n=10)\n",
    "# dfx13,ivx13,cutx13,woex13 = monoto_bin(image_info_label['label'],image_info_label['image_create_role_retain_1d'],n=10)"
   ]
  },
  {
   "cell_type": "code",
   "execution_count": 37,
   "metadata": {
    "scrolled": true
   },
   "outputs": [
    {
     "name": "stdout",
     "output_type": "stream",
     "text": [
      "[1.047, 1.047, 1.278, 0.463, 0.497, -0.01, -0.005, -0.585, -0.624, -1.426]\n"
     ]
    },
    {
     "data": {
      "image/png": "[encoded data removed]",
      "text/plain": [
       "<Figure size 432x288 with 1 Axes>"
      ]
     },
     "metadata": {
      "needs_background": "light"
     },
     "output_type": "display_data"
    },
    {
     "name": "stdout",
     "output_type": "stream",
     "text": [
      "[1.109, 1.129, 0.611, 0.424, 0.646, 0.225, -0.409, -0.496, -0.497, -1.409]\n"
     ]
    },
    {
     "data": {
      "image/png": "[encoded data removed]",
      "text/plain": [
       "<Figure size 432x288 with 1 Axes>"
      ]
     },
     "metadata": {
      "needs_background": "light"
     },
     "output_type": "display_data"
    },
    {
     "name": "stdout",
     "output_type": "stream",
     "text": [
      "[-0.128, -0.334, -0.312, -0.441, 0.021, -0.158, 0.302, 0.128, 0.569, 0.723]\n"
     ]
    },
    {
     "data": {
      "image/png": "[encoded data removed]",
      "text/plain": [
       "<Figure size 432x288 with 1 Axes>"
      ]
     },
     "metadata": {
      "needs_background": "light"
     },
     "output_type": "display_data"
    }
   ],
   "source": [
    "woex = [woex1,woex3,woex7]\n",
    "for col in woex:\n",
    "    print('{}'.format(col))\n",
    "    plt.bar(range(len(col)),col)\n",
    "    plt.show()"
   ]
  },
  {
   "cell_type": "code",
   "execution_count": 38,
   "metadata": {},
   "outputs": [],
   "source": [
    "def self_bin(Y, X, bin):\n",
    "    r = 0\n",
    "    total_bad = Y.sum()\n",
    "    total_good =Y.count()-total_bad  \n",
    "    d1 = pd.DataFrame({\"X\": X, \"Y\": Y, \"Bucket\": pd.cut(X, bin)})\n",
    "    d2 = d1.groupby('Bucket', as_index = True)\n",
    "    r, p = stats.spearmanr(d2.mean().X, d2.mean().Y)\n",
    "        \n",
    "    d3 = pd.DataFrame(d2.min().X, columns = ['min_' + X.name])\n",
    "    d3['min_' + X.name] = d2.min().X\n",
    "    d3['max_' + X.name] = d2.max().X\n",
    "    d3[Y.name] = d2.sum().Y\n",
    "    d3['total'] = d2.count().Y\n",
    "    #d3[Y.name + '_rate'] = d2.mean().Y\n",
    "    #好坏比，求woe,证据权重，自变量对目标变量有没有影响，什么影响\n",
    "    d3['badattr']=d3[Y.name]/total_bad\n",
    "    d3['goodattr']=(d3['total']-d3[Y.name])/total_good\n",
    "    d3['woe'] = np.log(d3['goodattr']/d3['badattr'])\n",
    "    #iv，信息值，自变量对于目标变量的影响程度\n",
    "    iv = ((d3['goodattr']-d3['badattr'])*d3['woe']).sum()\n",
    "    d4 = (d3.sort_values(by = 'min_' + X.name)).reset_index(drop = True)\n",
    "    print (\"=\" * 80)\n",
    "#     print (d4)\n",
    "    woe = list(d4['woe'].round(3))\n",
    "    return d4,iv,woe"
   ]
  },
  {
   "cell_type": "code",
   "execution_count": 88,
   "metadata": {},
   "outputs": [],
   "source": [
    "pinf = float('inf')#正无穷大\n",
    "ninf = float('-inf')#负无穷大\n",
    "cutx2 = [ninf, 1, 3, 8, 12,50,pinf]\n",
    "cutx4 = [ninf,12,60,200,700,2000,5000,pinf]\n",
    "cutx5 = [ninf,1,2,3,5,8,pinf]\n",
    "cutx6 = [ninf,0.005,0.01,0.015,0.02,pinf]\n",
    "cutx8 = [ninf, 2000,3000, 4000,5000,6000,7000,8000,pinf]\n",
    "cutx9 = [ninf, 0.2, 0.6,0.9,pinf]\n",
    "cutx10 = [ninf, 20,40, 100,200, 400, pinf]\n",
    "cutx11 = [ninf, 1,2,5,10,20,pinf]\n",
    "cutx12 = [ninf, 0.005,0.01,0.015,0.02,0.025,0.05,pinf]\n",
    "cutx13 = [ninf, 0.06,0.1,0.14,0.2,0.3,pinf]"
   ]
  },
  {
   "cell_type": "code",
   "execution_count": 85,
   "metadata": {
    "scrolled": true
   },
   "outputs": [
    {
     "data": {
      "text/plain": [
       "count    2189.00000\n",
       "mean            inf\n",
       "std             NaN\n",
       "min      1000.20000\n",
       "25%      1552.90875\n",
       "50%      3241.33000\n",
       "75%             NaN\n",
       "max             inf\n",
       "Name: image_create_role_pay_cost, dtype: float64"
      ]
     },
     "execution_count": 85,
     "metadata": {},
     "output_type": "execute_result"
    }
   ],
   "source": [
    "image_info_label['image_create_role_pay_cost'].describe()"
   ]
  },
  {
   "cell_type": "code",
   "execution_count": 87,
   "metadata": {},
   "outputs": [
    {
     "data": {
      "image/png": "[encoded data removed]",
      "text/plain": [
       "<Figure size 432x288 with 1 Axes>"
      ]
     },
     "metadata": {
      "needs_background": "light"
     },
     "output_type": "display_data"
    }
   ],
   "source": [
    "plt.hist(image_info_label['image_create_role_pay_cost'],bins=50,range=(0,20000))\n",
    "plt.show()"
   ]
  },
  {
   "cell_type": "code",
   "execution_count": 89,
   "metadata": {},
   "outputs": [
    {
     "name": "stdout",
     "output_type": "stream",
     "text": [
      "================================================================================\n",
      "================================================================================\n",
      "================================================================================\n",
      "================================================================================\n",
      "================================================================================\n",
      "================================================================================\n",
      "================================================================================\n",
      "================================================================================\n",
      "================================================================================\n",
      "================================================================================\n"
     ]
    }
   ],
   "source": [
    "dfx2,ivx2,woex2 = self_bin(image_info_label['label'],image_info_label['image_create_role_pay_num'],cutx2)\n",
    "dfx4,ivx4,woex4 = self_bin(image_info_label['label'],image_info_label['image_create_role_pay_sum'],cutx4)\n",
    "dfx5,ivx5,woex5 = self_bin(image_info_label['label'],image_info_label['image_source_num'],cutx5)\n",
    "dfx6,ivx6,woex6 = self_bin(image_info_label['label'],image_info_label['image_create_role_pay_rate'],cutx6)\n",
    "dfx8,ivx8,woex8 = self_bin(image_info_label['label'],image_info_label['image_create_role_pay_cost'],cutx8)\n",
    "dfx9,ivx9,woex9 = self_bin(image_info_label['label'],image_info_label['image_valid_source_rate'],cutx9)\n",
    "dfx10,ivx10,woex10 = self_bin(image_info_label['label'],image_info_label['image_pay_sum_ability'],cutx10)\n",
    "dfx11,ivx11,woex11 = self_bin(image_info_label['label'],image_info_label['image_pay_num_ability'],cutx11)\n",
    "dfx12,ivx12,woex12 = self_bin(image_info_label['label'],image_info_label['image_create_role_roi'],cutx12)\n",
    "dfx13,ivx13,woex13 = self_bin(image_info_label['label'],image_info_label['image_create_role_retain_1d'],cutx13)"
   ]
  },
  {
   "cell_type": "code",
   "execution_count": 90,
   "metadata": {},
   "outputs": [
    {
     "name": "stdout",
     "output_type": "stream",
     "text": [
      "woex1 = [1.047, 1.047, 1.278, 0.463, 0.497, -0.01, -0.005, -0.585, -0.624, -1.426]\n",
      "woex2 = [0.707, -0.28, -0.791, -0.801, -1.795, -1.803]\n",
      "woex3 = [1.109, 1.129, 0.611, 0.424, 0.646, 0.225, -0.409, -0.496, -0.497, -1.409]\n",
      "woex4 = [1.093, 0.152, -0.263, -0.909, -1.932, -2.258, -2.723]\n",
      "woex5 = [0.243, 0.007, -0.284, -0.837, -0.699, -0.686]\n",
      "woex6 = [1.182, 0.749, -0.185, -0.568, -0.571]\n",
      "woex7 = [-0.128, -0.334, -0.312, -0.441, 0.021, -0.158, 0.302, 0.128, 0.569, 0.723]\n",
      "woex8 = [-0.757, -0.214, -0.022, -0.429, 0.595, -0.974, -0.686, 1.191]\n",
      "woex9 = [0.816, -0.707, -0.703, -0.735]\n",
      "woex10 = [0.641, 0.135, -0.372, -0.775, -1.375, -2.061]\n",
      "woex11 = [0.442, -0.849, -0.645, -1.304, -1.618, -1.934]\n",
      "woex12 = [1.02, 0.381, 0.846, -0.241, 0.173, -0.639, -1.992]\n",
      "woex13 = [1.717, 0.662, -0.528, -0.338, -0.344, -0.319]\n"
     ]
    }
   ],
   "source": [
    "for i in range(1,14):\n",
    "    exec(\"print('woex%s =',woex%s)\"%(i,i))"
   ]
  },
  {
   "cell_type": "code",
   "execution_count": 91,
   "metadata": {},
   "outputs": [
    {
     "name": "stdout",
     "output_type": "stream",
     "text": [
      "cutx1 = [-inf, 626.314, 818.768, 1129.172, 1494.544, 2125.82, 3057.808, 4600.364, 8104.098, 15747.532, inf]\n",
      "cutx2 = [-inf, 1, 3, 8, 12, 50, inf]\n",
      "cutx3 = [-inf, 3.0, 5.0, 7.0, 11.0, 16.0, 25.0, 40.0, 75.0, 176.0, inf]\n",
      "cutx4 = [-inf, 12, 60, 200, 700, 2000, 5000, inf]\n",
      "cutx5 = [-inf, 1, 2, 3, 5, 8, inf]\n",
      "cutx6 = [-inf, 0.005, 0.01, 0.015, 0.02, inf]\n",
      "cutx7 = [-inf, 67.057, 83.3311, 97.2183, 114.7394, 133.37, 155.4077, 185.0767, 236.536, 343.5266, inf]\n",
      "cutx8 = [-inf, 2000, 3000, 4000, 5000, 6000, 7000, 8000, inf]\n",
      "cutx9 = [-inf, 0.2, 0.6, 0.9, inf]\n",
      "cutx10 = [-inf, 20, 40, 100, 200, 400, inf]\n",
      "cutx11 = [-inf, 1, 2, 5, 10, 20, inf]\n",
      "cutx12 = [-inf, 0.005, 0.01, 0.015, 0.02, 0.025, 0.05, inf]\n",
      "cutx13 = [-inf, 0.06, 0.1, 0.14, 0.2, 0.3, inf]\n"
     ]
    }
   ],
   "source": [
    "for i in range(1,14):\n",
    "    exec(\"print('cutx%s =',cutx%s)\"%(i,i))"
   ]
  },
  {
   "cell_type": "code",
   "execution_count": 92,
   "metadata": {},
   "outputs": [
    {
     "data": {
      "image/png": "[encoded data removed]",
      "text/plain": [
       "<Figure size 1440x576 with 1 Axes>"
      ]
     },
     "metadata": {
      "needs_background": "light"
     },
     "output_type": "display_data"
    }
   ],
   "source": [
    "y=[ivx1,ivx2,ivx3,ivx4,ivx5,ivx6,ivx7,ivx8,ivx9,ivx10,ivx11,ivx12,ivx13]\n",
    "index=['image_run_date_amount', 'image_create_role_pay_num',\n",
    "       'image_create_role_num', 'image_create_role_pay_sum',\n",
    "       'image_source_num', 'image_create_role_pay_rate',\n",
    "       'image_create_role_cost', 'image_create_role_pay_cost','image_valid_source_rate',\n",
    "       'image_pay_sum_ability', 'image_pay_num_ability',\n",
    "       'image_create_role_roi','image_create_role_retain_1d']\n",
    "fig= plt.figure(figsize = (20,8))\n",
    "ax1 = fig.add_subplot(1, 1, 1)\n",
    "ax1.bar(range(1,14), y, width=0.4,color = 'r',alpha = 0.6)#生成柱状图\n",
    "ax1.set_xticks(range(1,14))\n",
    "ax1.set_xticklabels(index, rotation=90, fontsize=12)\n",
    "ax1.set_ylabel('IV', fontsize=14)\n",
    "#在柱状图上添加数字标签\n",
    "for i, v in enumerate(y):\n",
    "    plt.text(i+1, v+0.01, '%.4f' % v, ha='center', va='bottom', fontsize=12)\n",
    "plt.show()"
   ]
  },
  {
   "cell_type": "code",
   "execution_count": 93,
   "metadata": {},
   "outputs": [],
   "source": [
    "select_feature = ['image_run_date_amount', 'image_create_role_pay_num',\n",
    "       'image_create_role_num', 'image_create_role_pay_sum',\n",
    "       'image_source_num', 'image_create_role_pay_rate',\n",
    "       'image_create_role_cost', 'image_create_role_pay_cost',\n",
    "       'image_valid_source_rate',\n",
    "       'image_pay_sum_ability', 'image_pay_num_ability',\n",
    "       'image_create_role_roi', 'label']"
   ]
  },
  {
   "cell_type": "code",
   "execution_count": 94,
   "metadata": {},
   "outputs": [
    {
     "data": {
      "text/plain": [
       "13"
      ]
     },
     "execution_count": 94,
     "metadata": {},
     "output_type": "execute_result"
    }
   ],
   "source": [
    "len(select_feature)"
   ]
  },
  {
   "cell_type": "code",
   "execution_count": 95,
   "metadata": {},
   "outputs": [],
   "source": [
    "def change_woe(d,cut,woe):\n",
    "    \"\"\"\n",
    "    将每个样本对应特征值更换为woe值\n",
    "    \"\"\"\n",
    "    list1=[]\n",
    "    i=0\n",
    "    while i<len(d):\n",
    "        value=d.values[i]\n",
    "        j=len(cut)-2\n",
    "        m=len(cut)-2\n",
    "        while j>=0:\n",
    "            if value>=cut[j]:\n",
    "                j=-1\n",
    "            else:\n",
    "                j -=1\n",
    "                m -= 1\n",
    "        list1.append(woe[m])\n",
    "        i += 1\n",
    "    return list1"
   ]
  },
  {
   "cell_type": "code",
   "execution_count": 96,
   "metadata": {},
   "outputs": [],
   "source": [
    "image_info_change = image_info_label.copy()"
   ]
  },
  {
   "cell_type": "code",
   "execution_count": 97,
   "metadata": {},
   "outputs": [],
   "source": [
    "pinf = float('inf')#正无穷大\n",
    "ninf = float('-inf')#负无穷大\n",
    "woex1 = [1.047, 1.047, 1.278, 0.463, 0.497, -0.01, -0.005, -0.585, -0.624, -1.426]\n",
    "woex2 = [0.707, -0.28, -0.791, -0.801, -1.795, -1.803]\n",
    "woex3 = [1.109, 1.129, 0.611, 0.424, 0.646, 0.225, -0.409, -0.496, -0.497, -1.409]\n",
    "woex4 = [1.093, 0.152, -0.263, -0.909, -1.932, -2.258, -2.723]\n",
    "woex5 = [0.243, 0.007, -0.284, -0.837, -0.699, -0.686]\n",
    "woex6 = [1.182, 0.749, -0.185, -0.568, -0.571]\n",
    "woex7 = [-0.128, -0.334, -0.312, -0.441, 0.021, -0.158, 0.302, 0.128, 0.569, 0.723]\n",
    "woex8 = [-0.757, -0.214, -0.022, -0.429, 0.595, -0.974, -0.686, 1.191]\n",
    "woex9 = [0.816, -0.707, -0.703, -0.735]\n",
    "woex10 = [0.641, 0.135, -0.372, -0.775, -1.375, -2.061]\n",
    "woex11 = [0.442, -0.849, -0.645, -1.304, -1.618, -1.934]\n",
    "woex12 = [1.02, 0.381, 0.846, -0.241, 0.173, -0.639, -1.992]\n",
    "woex13 = [1.717, 0.662, -0.528, -0.338, -0.344, -0.319]\n",
    "\n",
    "cutx1 = [ninf, 626.314, 818.768, 1129.172, 1494.544, 2125.82, 3057.808, 4600.364, 8104.098, 15747.532, ninf]\n",
    "cutx2 = [ninf, 1, 3, 8, 12, 50, ninf]\n",
    "cutx3 = [ninf, 3.0, 5.0, 7.0, 11.0, 16.0, 25.0, 40.0, 75.0, 176.0, ninf]\n",
    "cutx4 = [ninf, 12, 60, 200, 700, 2000, 5000, ninf]\n",
    "cutx5 = [ninf, 1, 2, 3, 5, 8, ninf]\n",
    "cutx6 = [ninf, 0.005, 0.01, 0.015, 0.02, ninf]\n",
    "cutx7 = [ninf, 67.057, 83.3311, 97.2183, 114.7394, 133.37, 155.4077, 185.0767, 236.536, 343.5266, ninf]\n",
    "cutx8 = [ninf, 2000, 3000, 4000, 5000, 6000, 7000, 8000, ninf]\n",
    "cutx9 = [ninf, 0.2, 0.6, 0.9, ninf]\n",
    "cutx10 = [ninf, 20, 40, 100, 200, 400, ninf]\n",
    "cutx11 = [ninf, 1, 2, 5, 10, 20, ninf]\n",
    "cutx12 = [ninf, 0.005, 0.01, 0.015, 0.02, 0.025, 0.05, ninf]\n",
    "cutx13 = [ninf, 0.06, 0.1, 0.14, 0.2, 0.3, ninf]"
   ]
  },
  {
   "cell_type": "code",
   "execution_count": 98,
   "metadata": {},
   "outputs": [],
   "source": [
    "#数据转化\n",
    "image_info_change['image_run_date_amount'] = change_woe(image_info_change['image_run_date_amount'], cutx1, woex1)\n",
    "image_info_change['image_create_role_pay_num'] = change_woe(image_info_change['image_create_role_pay_num'], cutx2, woex2)\n",
    "image_info_change['image_create_role_num'] = change_woe(image_info_change['image_create_role_num'], cutx3, woex3)\n",
    "image_info_change['image_create_role_pay_sum'] = change_woe(image_info_change['image_create_role_pay_sum'], cutx4, woex4)\n",
    "image_info_change['image_source_num'] = change_woe(image_info_change['image_source_num'], cutx5, woex5)\n",
    "image_info_change['image_create_role_pay_rate'] = change_woe(image_info_change['image_create_role_pay_rate'], cutx6, woex6)\n",
    "image_info_change['image_create_role_cost'] = change_woe(image_info_change['image_create_role_cost'], cutx7, woex7)\n",
    "image_info_change['image_create_role_pay_cost'] = change_woe(image_info_change['image_create_role_pay_cost'], cutx8, woex8)\n",
    "image_info_change['image_valid_source_rate'] = change_woe(image_info_change['image_valid_source_rate'], cutx9, woex9)\n",
    "image_info_change['image_pay_sum_ability'] = change_woe(image_info_change['image_pay_sum_ability'], cutx10, woex10)\n",
    "image_info_change['image_pay_num_ability'] = change_woe(image_info_change['image_pay_num_ability'], cutx11, woex11)\n",
    "image_info_change['image_create_role_roi'] = change_woe(image_info_change['image_create_role_roi'], cutx12, woex12)"
   ]
  },
  {
   "cell_type": "code",
   "execution_count": 99,
   "metadata": {},
   "outputs": [
    {
     "data": {
      "text/plain": [
       "(2189, 22)"
      ]
     },
     "execution_count": 99,
     "metadata": {},
     "output_type": "execute_result"
    }
   ],
   "source": [
    "image_info_change.shape"
   ]
  },
  {
   "cell_type": "code",
   "execution_count": 100,
   "metadata": {},
   "outputs": [
    {
     "data": {
      "text/html": [
       "<div>\n",
       "<style scoped>\n",
       "    .dataframe tbody tr th:only-of-type {\n",
       "        vertical-align: middle;\n",
       "    }\n",
       "\n",
       "    .dataframe tbody tr th {\n",
       "        vertical-align: top;\n",
       "    }\n",
       "\n",
       "    .dataframe thead th {\n",
       "        text-align: right;\n",
       "    }\n",
       "</style>\n",
       "<table border=\"1\" class=\"dataframe\">\n",
       "  <thead>\n",
       "    <tr style=\"text-align: right;\">\n",
       "      <th></th>\n",
       "      <th>image_id</th>\n",
       "      <th>image_name</th>\n",
       "      <th>media_id</th>\n",
       "      <th>image_launch_time</th>\n",
       "      <th>image_source_total_num</th>\n",
       "      <th>image_run_date_amount</th>\n",
       "      <th>image_create_role_pay_num</th>\n",
       "      <th>image_create_role_num</th>\n",
       "      <th>image_create_role_pay_sum</th>\n",
       "      <th>image_source_num</th>\n",
       "      <th>image_create_role_pay_rate</th>\n",
       "      <th>image_create_role_cost</th>\n",
       "      <th>image_create_role_pay_cost</th>\n",
       "      <th>image_valid_source_num</th>\n",
       "      <th>image_valid_source_rate</th>\n",
       "      <th>image_pay_sum_ability</th>\n",
       "      <th>image_pay_num_ability</th>\n",
       "      <th>image_create_role_roi</th>\n",
       "      <th>image_create_role_retain_1d</th>\n",
       "      <th>create_role_30_pay_sum</th>\n",
       "      <th>model_run_datetime</th>\n",
       "      <th>label</th>\n",
       "    </tr>\n",
       "  </thead>\n",
       "  <tbody>\n",
       "    <tr>\n",
       "      <th>1</th>\n",
       "      <td>23778</td>\n",
       "      <td>ZDZL1134-横版ZDC</td>\n",
       "      <td>16</td>\n",
       "      <td>2021-05-01</td>\n",
       "      <td>4.0</td>\n",
       "      <td>1.047</td>\n",
       "      <td>0.707</td>\n",
       "      <td>1.129</td>\n",
       "      <td>1.093</td>\n",
       "      <td>0.007</td>\n",
       "      <td>1.182</td>\n",
       "      <td>0.302</td>\n",
       "      <td>1.191</td>\n",
       "      <td>0.0</td>\n",
       "      <td>0.816</td>\n",
       "      <td>0.641</td>\n",
       "      <td>0.442</td>\n",
       "      <td>1.020</td>\n",
       "      <td>0.0000</td>\n",
       "      <td>0.0</td>\n",
       "      <td>2021-05-01</td>\n",
       "      <td>0</td>\n",
       "    </tr>\n",
       "    <tr>\n",
       "      <th>2</th>\n",
       "      <td>23919</td>\n",
       "      <td>ZDZL1176-横版ZDC</td>\n",
       "      <td>16</td>\n",
       "      <td>2021-05-01</td>\n",
       "      <td>1.0</td>\n",
       "      <td>-0.005</td>\n",
       "      <td>-0.280</td>\n",
       "      <td>-0.409</td>\n",
       "      <td>-0.909</td>\n",
       "      <td>0.007</td>\n",
       "      <td>-0.571</td>\n",
       "      <td>-0.441</td>\n",
       "      <td>-0.429</td>\n",
       "      <td>0.0</td>\n",
       "      <td>0.816</td>\n",
       "      <td>0.641</td>\n",
       "      <td>0.442</td>\n",
       "      <td>-1.992</td>\n",
       "      <td>0.2703</td>\n",
       "      <td>1921.0</td>\n",
       "      <td>2021-05-01</td>\n",
       "      <td>1</td>\n",
       "    </tr>\n",
       "    <tr>\n",
       "      <th>3</th>\n",
       "      <td>24608</td>\n",
       "      <td>ZDZL1285-竖版ZDC</td>\n",
       "      <td>16</td>\n",
       "      <td>2021-05-01</td>\n",
       "      <td>5.0</td>\n",
       "      <td>1.047</td>\n",
       "      <td>0.707</td>\n",
       "      <td>0.646</td>\n",
       "      <td>1.093</td>\n",
       "      <td>0.007</td>\n",
       "      <td>1.182</td>\n",
       "      <td>-0.128</td>\n",
       "      <td>1.191</td>\n",
       "      <td>0.0</td>\n",
       "      <td>0.816</td>\n",
       "      <td>0.641</td>\n",
       "      <td>0.442</td>\n",
       "      <td>1.020</td>\n",
       "      <td>0.0714</td>\n",
       "      <td>0.0</td>\n",
       "      <td>2021-05-01</td>\n",
       "      <td>0</td>\n",
       "    </tr>\n",
       "    <tr>\n",
       "      <th>4</th>\n",
       "      <td>27485</td>\n",
       "      <td>ZDZL1737-横版LL</td>\n",
       "      <td>16</td>\n",
       "      <td>2021-05-01</td>\n",
       "      <td>3.0</td>\n",
       "      <td>1.047</td>\n",
       "      <td>0.707</td>\n",
       "      <td>0.611</td>\n",
       "      <td>1.093</td>\n",
       "      <td>0.007</td>\n",
       "      <td>1.182</td>\n",
       "      <td>0.021</td>\n",
       "      <td>1.191</td>\n",
       "      <td>0.0</td>\n",
       "      <td>0.816</td>\n",
       "      <td>0.641</td>\n",
       "      <td>0.442</td>\n",
       "      <td>1.020</td>\n",
       "      <td>0.2000</td>\n",
       "      <td>0.0</td>\n",
       "      <td>2021-05-01</td>\n",
       "      <td>0</td>\n",
       "    </tr>\n",
       "    <tr>\n",
       "      <th>5</th>\n",
       "      <td>28057</td>\n",
       "      <td>ZDZL1827-横版LL</td>\n",
       "      <td>16</td>\n",
       "      <td>2021-05-01</td>\n",
       "      <td>5.0</td>\n",
       "      <td>-0.005</td>\n",
       "      <td>-0.791</td>\n",
       "      <td>-0.496</td>\n",
       "      <td>0.152</td>\n",
       "      <td>0.007</td>\n",
       "      <td>-0.571</td>\n",
       "      <td>-0.334</td>\n",
       "      <td>-0.757</td>\n",
       "      <td>1.0</td>\n",
       "      <td>-0.735</td>\n",
       "      <td>0.641</td>\n",
       "      <td>-0.645</td>\n",
       "      <td>0.381</td>\n",
       "      <td>0.2653</td>\n",
       "      <td>85.0</td>\n",
       "      <td>2021-05-01</td>\n",
       "      <td>0</td>\n",
       "    </tr>\n",
       "  </tbody>\n",
       "</table>\n",
       "</div>"
      ],
      "text/plain": [
       "   image_id      image_name  media_id image_launch_time  \\\n",
       "1     23778  ZDZL1134-横版ZDC        16        2021-05-01   \n",
       "2     23919  ZDZL1176-横版ZDC        16        2021-05-01   \n",
       "3     24608  ZDZL1285-竖版ZDC        16        2021-05-01   \n",
       "4     27485   ZDZL1737-横版LL        16        2021-05-01   \n",
       "5     28057   ZDZL1827-横版LL        16        2021-05-01   \n",
       "\n",
       "   image_source_total_num  image_run_date_amount  image_create_role_pay_num  \\\n",
       "1                     4.0                  1.047                      0.707   \n",
       "2                     1.0                 -0.005                     -0.280   \n",
       "3                     5.0                  1.047                      0.707   \n",
       "4                     3.0                  1.047                      0.707   \n",
       "5                     5.0                 -0.005                     -0.791   \n",
       "\n",
       "   image_create_role_num  image_create_role_pay_sum  image_source_num  \\\n",
       "1                  1.129                      1.093             0.007   \n",
       "2                 -0.409                     -0.909             0.007   \n",
       "3                  0.646                      1.093             0.007   \n",
       "4                  0.611                      1.093             0.007   \n",
       "5                 -0.496                      0.152             0.007   \n",
       "\n",
       "   image_create_role_pay_rate  image_create_role_cost  \\\n",
       "1                       1.182                   0.302   \n",
       "2                      -0.571                  -0.441   \n",
       "3                       1.182                  -0.128   \n",
       "4                       1.182                   0.021   \n",
       "5                      -0.571                  -0.334   \n",
       "\n",
       "   image_create_role_pay_cost  image_valid_source_num  \\\n",
       "1                       1.191                     0.0   \n",
       "2                      -0.429                     0.0   \n",
       "3                       1.191                     0.0   \n",
       "4                       1.191                     0.0   \n",
       "5                      -0.757                     1.0   \n",
       "\n",
       "   image_valid_source_rate  image_pay_sum_ability  image_pay_num_ability  \\\n",
       "1                    0.816                  0.641                  0.442   \n",
       "2                    0.816                  0.641                  0.442   \n",
       "3                    0.816                  0.641                  0.442   \n",
       "4                    0.816                  0.641                  0.442   \n",
       "5                   -0.735                  0.641                 -0.645   \n",
       "\n",
       "   image_create_role_roi  image_create_role_retain_1d  create_role_30_pay_sum  \\\n",
       "1                  1.020                       0.0000                     0.0   \n",
       "2                 -1.992                       0.2703                  1921.0   \n",
       "3                  1.020                       0.0714                     0.0   \n",
       "4                  1.020                       0.2000                     0.0   \n",
       "5                  0.381                       0.2653                    85.0   \n",
       "\n",
       "  model_run_datetime  label  \n",
       "1         2021-05-01      0  \n",
       "2         2021-05-01      1  \n",
       "3         2021-05-01      0  \n",
       "4         2021-05-01      0  \n",
       "5         2021-05-01      0  "
      ]
     },
     "execution_count": 100,
     "metadata": {},
     "output_type": "execute_result"
    }
   ],
   "source": [
    "image_info_change.head()"
   ]
  },
  {
   "cell_type": "code",
   "execution_count": 262,
   "metadata": {},
   "outputs": [],
   "source": [
    "# image_info_change.to_csv('./image_info_change.csv',index=0)"
   ]
  },
  {
   "cell_type": "code",
   "execution_count": 101,
   "metadata": {},
   "outputs": [],
   "source": [
    "data_info = image_info_change[select_feature]"
   ]
  },
  {
   "cell_type": "code",
   "execution_count": 102,
   "metadata": {},
   "outputs": [
    {
     "data": {
      "text/plain": [
       "(2189, 13)"
      ]
     },
     "execution_count": 102,
     "metadata": {},
     "output_type": "execute_result"
    }
   ],
   "source": [
    "data_info.shape"
   ]
  },
  {
   "cell_type": "code",
   "execution_count": 103,
   "metadata": {},
   "outputs": [],
   "source": [
    "#模型建立\n",
    "from sklearn.linear_model import LogisticRegression\n",
    "from sklearn.model_selection import train_test_split,GridSearchCV,RandomizedSearchCV\n",
    "from sklearn.ensemble import RandomForestClassifier\n",
    "from sklearn import svm\n",
    "import lightgbm as lgb\n",
    "from sklearn.neighbors import KNeighborsClassifier\n",
    "import time\n",
    "from sklearn.model_selection import cross_validate\n",
    "from sklearn.metrics import roc_curve, roc_auc_score,auc, classification_report"
   ]
  },
  {
   "cell_type": "code",
   "execution_count": 104,
   "metadata": {},
   "outputs": [],
   "source": [
    "x_train, x_test, y_train, y_test = train_test_split(data_info.drop('label',axis=1), data_info['label'], test_size=0.25, random_state=42)"
   ]
  },
  {
   "cell_type": "markdown",
   "metadata": {},
   "source": [
    "### RF"
   ]
  },
  {
   "cell_type": "code",
   "execution_count": 105,
   "metadata": {},
   "outputs": [
    {
     "data": {
      "text/plain": [
       "RandomizedSearchCV(cv=5, estimator=RandomForestClassifier(),\n",
       "                   param_distributions={'max_depth': [2, 3, 5, 7, 9],\n",
       "                                        'min_samples_leaf': [2, 4, 6, 8],\n",
       "                                        'n_estimators': [9, 18, 27, 36, 100,\n",
       "                                                         150]})"
      ]
     },
     "execution_count": 105,
     "metadata": {},
     "output_type": "execute_result"
    }
   ],
   "source": [
    "RF = RandomForestClassifier()\n",
    "param_grid = { \n",
    "           \"n_estimators\" : [9, 18, 27, 36, 100, 150],\n",
    "           \"max_depth\" : [2,3,5,7,9],\n",
    "           \"min_samples_leaf\" : [2, 4, 6, 8]}\n",
    "RF_random = RandomizedSearchCV(RF, param_distributions=param_grid, cv=5)\n",
    "RF_random.fit(x_train, y_train)"
   ]
  },
  {
   "cell_type": "code",
   "execution_count": 106,
   "metadata": {},
   "outputs": [
    {
     "data": {
      "image/png": "[encoded data removed]",
      "text/plain": [
       "<Figure size 720x576 with 1 Axes>"
      ]
     },
     "metadata": {
      "needs_background": "light"
     },
     "output_type": "display_data"
    }
   ],
   "source": [
    "# 训练集评估\n",
    "best_est_RF = RF_random.best_estimator_\n",
    "y_pred = best_est_RF.predict_proba(x_train)\n",
    "y_pred = y_pred[:,1]\n",
    "fpr,tpr,_ = roc_curve(y_train, y_pred)\n",
    "roc_auc = auc(fpr, tpr)\n",
    "plt.figure(figsize=(10,8))\n",
    "plt.title('Receiver Operating Characteristic')\n",
    "sns.lineplot(fpr, tpr, label = 'AUC = %0.2f' % roc_auc)\n",
    "plt.legend(loc = 'lower right')\n",
    "plt.plot([0, 1], [0, 1],'r--')\n",
    "plt.ylabel('True Positive Rate')\n",
    "plt.xlabel('False Positive Rate')\n",
    "plt.show()"
   ]
  },
  {
   "cell_type": "code",
   "execution_count": 107,
   "metadata": {},
   "outputs": [
    {
     "data": {
      "image/png": "[encoded data removed]",
      "text/plain": [
       "<Figure size 720x576 with 1 Axes>"
      ]
     },
     "metadata": {
      "needs_background": "light"
     },
     "output_type": "display_data"
    }
   ],
   "source": [
    "# 测试集评估\n",
    "best_est_RF = RF_random.best_estimator_\n",
    "y_pred = best_est_RF.predict_proba(x_test)\n",
    "y_pred = y_pred[:,1]\n",
    "fpr,tpr,_ = roc_curve(y_test, y_pred)\n",
    "roc_auc = auc(fpr, tpr)\n",
    "plt.figure(figsize=(10,8))\n",
    "plt.title('Receiver Operating Characteristic')\n",
    "sns.lineplot(fpr, tpr, label = 'AUC = %0.2f' % roc_auc)\n",
    "plt.legend(loc = 'lower right')\n",
    "plt.plot([0, 1], [0, 1],'r--')\n",
    "plt.ylabel('True Positive Rate')\n",
    "plt.xlabel('False Positive Rate')\n",
    "plt.show()"
   ]
  },
  {
   "cell_type": "code",
   "execution_count": 108,
   "metadata": {},
   "outputs": [
    {
     "name": "stdout",
     "output_type": "stream",
     "text": [
      "              precision    recall  f1-score   support\n",
      "\n",
      "           0       0.89      0.87      0.88       426\n",
      "           1       0.57      0.61      0.59       122\n",
      "\n",
      "    accuracy                           0.81       548\n",
      "   macro avg       0.73      0.74      0.74       548\n",
      "weighted avg       0.82      0.81      0.81       548\n",
      "\n"
     ]
    }
   ],
   "source": [
    "y_pred_class = list(map(lambda x:1 if x>=0.35 else 0, y_pred))\n",
    "print(classification_report(y_test, y_pred_class))"
   ]
  },
  {
   "cell_type": "code",
   "execution_count": 109,
   "metadata": {},
   "outputs": [
    {
     "data": {
      "text/plain": [
       "['best_est_RF_tk.pkl']"
      ]
     },
     "execution_count": 109,
     "metadata": {},
     "output_type": "execute_result"
    }
   ],
   "source": [
    "import joblib\n",
    "joblib.dump(best_est_RF, 'best_est_RF_tk.pkl')"
   ]
  },
  {
   "cell_type": "markdown",
   "metadata": {},
   "source": [
    "#### XGB"
   ]
  },
  {
   "cell_type": "code",
   "execution_count": 110,
   "metadata": {},
   "outputs": [
    {
     "data": {
      "text/plain": [
       "RandomizedSearchCV(cv=5,\n",
       "                   estimator=XGBClassifier(base_score=None, booster=None,\n",
       "                                           colsample_bylevel=None,\n",
       "                                           colsample_bynode=None,\n",
       "                                           colsample_bytree=None, gamma=None,\n",
       "                                           gpu_id=None, importance_type='gain',\n",
       "                                           interaction_constraints=None,\n",
       "                                           learning_rate=None,\n",
       "                                           max_delta_step=None, max_depth=None,\n",
       "                                           min_child_weight=None, missing=nan,\n",
       "                                           monotone_constraints=None,\n",
       "                                           n_estimators=100,...\n",
       "                                           num_parallel_tree=None,\n",
       "                                           random_state=None, reg_alpha=None,\n",
       "                                           reg_lambda=None,\n",
       "                                           scale_pos_weight=None,\n",
       "                                           subsample=None, tree_method=None,\n",
       "                                           validate_parameters=None,\n",
       "                                           verbosity=None),\n",
       "                   param_distributions={'colsample_bytree': [0.5, 0.7],\n",
       "                                        'gamma': [0.0, 0.1, 0.2, 0.3],\n",
       "                                        'learning_rate': [0.001, 0.01, 0.0001,\n",
       "                                                          0.05, 0.1],\n",
       "                                        'max_depth': [3, 4, 6, 8, 10, 12, 15,\n",
       "                                                      20, 25, 30],\n",
       "                                        'n_estimators': [100, 150, 200, 250,\n",
       "                                                         300]})"
      ]
     },
     "execution_count": 110,
     "metadata": {},
     "output_type": "execute_result"
    }
   ],
   "source": [
    "from xgboost import XGBClassifier\n",
    "XGB = XGBClassifier(n_jobs=-1) \n",
    " \n",
    "param_grid = {\n",
    "                  'n_estimators' :[100,150,200,250,300],\n",
    "                  \"learning_rate\" : [0.001,0.01,0.0001,0.05, 0.10 ],\n",
    "                  \"gamma\"            : [ 0.0, 0.1, 0.2 , 0.3 ],\n",
    "                  \"colsample_bytree\" : [0.5,0.7],\n",
    "                  'max_depth': [3,4,6,8,10,12,15,20,25,30]\n",
    "              }\n",
    "XGB_random = RandomizedSearchCV(XGB, param_distributions=param_grid, cv=5)\n",
    "XGB_random.fit(x_train,y_train)"
   ]
  },
  {
   "cell_type": "code",
   "execution_count": 111,
   "metadata": {},
   "outputs": [
    {
     "data": {
      "image/png": "[encoded data removed]",
      "text/plain": [
       "<Figure size 720x576 with 1 Axes>"
      ]
     },
     "metadata": {
      "needs_background": "light"
     },
     "output_type": "display_data"
    }
   ],
   "source": [
    "# 测试集评估\n",
    "best_est_XGB = XGB_random.best_estimator_\n",
    "y_pred = best_est_XGB.predict_proba(x_test)\n",
    "y_pred = y_pred[:,1]\n",
    "fpr,tpr,_ = roc_curve(y_test, y_pred)\n",
    "roc_auc = auc(fpr, tpr)\n",
    "plt.figure(figsize=(10,8))\n",
    "plt.title('Receiver Operating Characteristic')\n",
    "sns.lineplot(fpr, tpr, label = 'AUC = %0.2f' % roc_auc)\n",
    "plt.legend(loc = 'lower right')\n",
    "plt.plot([0, 1], [0, 1],'r--')\n",
    "plt.ylabel('True Positive Rate')\n",
    "plt.xlabel('False Positive Rate')\n",
    "plt.show()"
   ]
  },
  {
   "cell_type": "code",
   "execution_count": 112,
   "metadata": {},
   "outputs": [
    {
     "name": "stdout",
     "output_type": "stream",
     "text": [
      "              precision    recall  f1-score   support\n",
      "\n",
      "           0       0.92      0.77      0.83       426\n",
      "           1       0.48      0.76      0.59       122\n",
      "\n",
      "    accuracy                           0.76       548\n",
      "   macro avg       0.70      0.76      0.71       548\n",
      "weighted avg       0.82      0.76      0.78       548\n",
      "\n"
     ]
    }
   ],
   "source": [
    "y_pred_class = list(map(lambda x:1 if x>=0.35 else 0, y_pred))\n",
    "print(classification_report(y_test, y_pred_class))"
   ]
  },
  {
   "cell_type": "code",
   "execution_count": 113,
   "metadata": {},
   "outputs": [
    {
     "data": {
      "text/plain": [
       "['best_est_XGB_tk.pkl']"
      ]
     },
     "execution_count": 113,
     "metadata": {},
     "output_type": "execute_result"
    }
   ],
   "source": [
    "joblib.dump(best_est_XGB, 'best_est_XGB_tk.pkl')"
   ]
  },
  {
   "cell_type": "markdown",
   "metadata": {},
   "source": [
    "#### LGB"
   ]
  },
  {
   "cell_type": "code",
   "execution_count": 114,
   "metadata": {},
   "outputs": [],
   "source": [
    "from lightgbm import LGBMClassifier"
   ]
  },
  {
   "cell_type": "code",
   "execution_count": 115,
   "metadata": {},
   "outputs": [
    {
     "data": {
      "text/plain": [
       "RandomizedSearchCV(cv=5,\n",
       "                   estimator=LGBMClassifier(metric='auc', objective='binary'),\n",
       "                   param_distributions={'bagging_fraction': [0.6, 0.7, 0.8, 0.9,\n",
       "                                                             0.95],\n",
       "                                        'bagging_freq': [2, 4, 5, 6, 8],\n",
       "                                        'cat_smooth': [1, 10, 15, 20, 35],\n",
       "                                        'feature_fraction': [0.6, 0.7, 0.8, 0.9,\n",
       "                                                             0.95],\n",
       "                                        'lambda_l1': [0, 0.1, 0.4, 0.5, 0.6],\n",
       "                                        'lambda_l2': [0, 10, 15, 35, 40],\n",
       "                                        'learning_rate': [0.01, 0.02, 0.05, 0.1,\n",
       "                                                          0.15],\n",
       "                                        'max_depth': [15, 20, 25, 30, 35]})"
      ]
     },
     "execution_count": 115,
     "metadata": {},
     "output_type": "execute_result"
    }
   ],
   "source": [
    "LGB = LGBMClassifier(boosting_type='gbdt',objective = 'binary',metric = 'auc',n_jobs=-1) \n",
    "param_grid = {\n",
    "              'max_depth': [15, 20, 25, 30, 35],\n",
    "              'learning_rate': [0.01, 0.02, 0.05, 0.1, 0.15],\n",
    "              'feature_fraction': [0.6, 0.7, 0.8, 0.9, 0.95],\n",
    "              'bagging_fraction': [0.6, 0.7, 0.8, 0.9, 0.95],\n",
    "              'bagging_freq': [2, 4, 5, 6, 8],\n",
    "              'lambda_l1': [0, 0.1, 0.4, 0.5, 0.6],\n",
    "              'lambda_l2': [0, 10, 15, 35, 40],\n",
    "              'cat_smooth': [1, 10, 15, 20, 35]\n",
    "}\n",
    "LGB_random = RandomizedSearchCV(LGB, param_distributions=param_grid, cv=5)\n",
    "LGB_random.fit(x_train,y_train)"
   ]
  },
  {
   "cell_type": "code",
   "execution_count": 116,
   "metadata": {},
   "outputs": [
    {
     "data": {
      "image/png": "[encoded data removed]",
      "text/plain": [
       "<Figure size 720x576 with 1 Axes>"
      ]
     },
     "metadata": {
      "needs_background": "light"
     },
     "output_type": "display_data"
    }
   ],
   "source": [
    "# 测试集评估\n",
    "best_est_LGB = LGB_random.best_estimator_\n",
    "y_pred = best_est_LGB.predict_proba(x_test)\n",
    "y_pred = y_pred[:,1]\n",
    "fpr,tpr,_ = roc_curve(y_test, y_pred)\n",
    "roc_auc = auc(fpr, tpr)\n",
    "plt.figure(figsize=(10,8))\n",
    "plt.title('Receiver Operating Characteristic')\n",
    "sns.lineplot(fpr, tpr, label = 'AUC = %0.2f' % roc_auc)\n",
    "plt.legend(loc = 'lower right')\n",
    "plt.plot([0, 1], [0, 1],'r--')\n",
    "plt.ylabel('True Positive Rate')\n",
    "plt.xlabel('False Positive Rate')\n",
    "plt.show()"
   ]
  },
  {
   "cell_type": "code",
   "execution_count": 117,
   "metadata": {},
   "outputs": [
    {
     "name": "stdout",
     "output_type": "stream",
     "text": [
      "              precision    recall  f1-score   support\n",
      "\n",
      "           0       0.88      0.87      0.87       426\n",
      "           1       0.56      0.57      0.56       122\n",
      "\n",
      "    accuracy                           0.80       548\n",
      "   macro avg       0.72      0.72      0.72       548\n",
      "weighted avg       0.80      0.80      0.80       548\n",
      "\n"
     ]
    }
   ],
   "source": [
    "y_pred_class = list(map(lambda x:1 if x>=0.35 else 0, y_pred))\n",
    "print(classification_report(y_test, y_pred_class))"
   ]
  },
  {
   "cell_type": "code",
   "execution_count": 118,
   "metadata": {},
   "outputs": [
    {
     "data": {
      "text/plain": [
       "['best_est_LGB_tk.pkl']"
      ]
     },
     "execution_count": 118,
     "metadata": {},
     "output_type": "execute_result"
    }
   ],
   "source": [
    "joblib.dump(best_est_LGB, 'best_est_LGB_tk.pkl')"
   ]
  },
  {
   "cell_type": "markdown",
   "metadata": {},
   "source": [
    "### 三模型融合"
   ]
  },
  {
   "cell_type": "code",
   "execution_count": 119,
   "metadata": {},
   "outputs": [],
   "source": [
    "y_pred = 0.4* best_est_XGB.predict_proba(x_test)[:,1] + 0.3*best_est_LGB.predict_proba(x_test)[:,1] + 0.3*best_est_RF.predict_proba(x_test)[:,1]"
   ]
  },
  {
   "cell_type": "code",
   "execution_count": 120,
   "metadata": {},
   "outputs": [
    {
     "data": {
      "image/png": "[encoded data removed]",
      "text/plain": [
       "<Figure size 720x576 with 1 Axes>"
      ]
     },
     "metadata": {
      "needs_background": "light"
     },
     "output_type": "display_data"
    }
   ],
   "source": [
    "fpr,tpr,_ = roc_curve(y_test, y_pred)\n",
    "roc_auc = auc(fpr, tpr)\n",
    "plt.figure(figsize=(10,8))\n",
    "plt.title('Receiver Operating Characteristic')\n",
    "sns.lineplot(fpr, tpr, label = 'AUC = %0.2f' % roc_auc)\n",
    "plt.legend(loc = 'lower right')\n",
    "plt.plot([0, 1], [0, 1],'r--')\n",
    "plt.ylabel('True Positive Rate')\n",
    "plt.xlabel('False Positive Rate')\n",
    "plt.show()"
   ]
  },
  {
   "cell_type": "code",
   "execution_count": 121,
   "metadata": {},
   "outputs": [
    {
     "name": "stdout",
     "output_type": "stream",
     "text": [
      "              precision    recall  f1-score   support\n",
      "\n",
      "           0       0.91      0.80      0.85       426\n",
      "           1       0.51      0.73      0.60       122\n",
      "\n",
      "    accuracy                           0.78       548\n",
      "   macro avg       0.71      0.76      0.73       548\n",
      "weighted avg       0.82      0.78      0.80       548\n",
      "\n"
     ]
    }
   ],
   "source": [
    "y_pred_class = list(map(lambda x:1 if x>=0.3 else 0, y_pred))\n",
    "print(classification_report(y_test, y_pred_class))"
   ]
  },
  {
   "cell_type": "code",
   "execution_count": 122,
   "metadata": {},
   "outputs": [
    {
     "data": {
      "text/plain": [
       "(2189, 22)"
      ]
     },
     "execution_count": 122,
     "metadata": {},
     "output_type": "execute_result"
    }
   ],
   "source": [
    "image_info_change.shape"
   ]
  },
  {
   "cell_type": "code",
   "execution_count": 123,
   "metadata": {},
   "outputs": [],
   "source": [
    "feature = image_info_change[select_feature].drop('label',axis=1)\n",
    "image_info_change['pred'] = 0.4* best_est_XGB.predict_proba(feature)[:,1] + 0.3*best_est_LGB.predict_proba(feature)[:,1] + 0.3*best_est_RF.predict_proba(feature)[:,1]"
   ]
  },
  {
   "cell_type": "code",
   "execution_count": 124,
   "metadata": {},
   "outputs": [
    {
     "name": "stdout",
     "output_type": "stream",
     "text": [
      "              precision    recall  f1-score   support\n",
      "\n",
      "           0       0.93      0.82      0.87      1681\n",
      "           1       0.58      0.80      0.67       508\n",
      "\n",
      "    accuracy                           0.82      2189\n",
      "   macro avg       0.76      0.81      0.77      2189\n",
      "weighted avg       0.85      0.82      0.83      2189\n",
      "\n"
     ]
    }
   ],
   "source": [
    "y_pred_class = list(map(lambda x:1 if x>=0.3 else 0, image_info_change['pred']))\n",
    "print(classification_report(image_info_change['label'], y_pred_class))"
   ]
  },
  {
   "cell_type": "code",
   "execution_count": 125,
   "metadata": {},
   "outputs": [],
   "source": [
    "def Prob2Score(prob, basePoint=600, PDO=30):\n",
    "    #将概率转化成分数且为正整数\n",
    "    y = np.log(prob/(1-prob))\n",
    "    return (basePoint+int(PDO/np.log(2)*(y)))"
   ]
  },
  {
   "cell_type": "code",
   "execution_count": 126,
   "metadata": {},
   "outputs": [],
   "source": [
    "image_info_change['score'] = image_info_change['pred'].apply(Prob2Score)"
   ]
  },
  {
   "cell_type": "code",
   "execution_count": 127,
   "metadata": {},
   "outputs": [],
   "source": [
    "image_info_label['score'] = image_info_change['score']"
   ]
  },
  {
   "cell_type": "code",
   "execution_count": 128,
   "metadata": {},
   "outputs": [
    {
     "data": {
      "text/html": [
       "<div>\n",
       "<style scoped>\n",
       "    .dataframe tbody tr th:only-of-type {\n",
       "        vertical-align: middle;\n",
       "    }\n",
       "\n",
       "    .dataframe tbody tr th {\n",
       "        vertical-align: top;\n",
       "    }\n",
       "\n",
       "    .dataframe thead th {\n",
       "        text-align: right;\n",
       "    }\n",
       "</style>\n",
       "<table border=\"1\" class=\"dataframe\">\n",
       "  <thead>\n",
       "    <tr style=\"text-align: right;\">\n",
       "      <th></th>\n",
       "      <th>image_id</th>\n",
       "      <th>image_name</th>\n",
       "      <th>media_id</th>\n",
       "      <th>image_launch_time</th>\n",
       "      <th>image_source_total_num</th>\n",
       "      <th>image_run_date_amount</th>\n",
       "      <th>image_create_role_pay_num</th>\n",
       "      <th>image_create_role_num</th>\n",
       "      <th>image_create_role_pay_sum</th>\n",
       "      <th>image_source_num</th>\n",
       "      <th>image_create_role_pay_rate</th>\n",
       "      <th>image_create_role_cost</th>\n",
       "      <th>image_create_role_pay_cost</th>\n",
       "      <th>image_valid_source_num</th>\n",
       "      <th>image_valid_source_rate</th>\n",
       "      <th>image_pay_sum_ability</th>\n",
       "      <th>image_pay_num_ability</th>\n",
       "      <th>image_create_role_roi</th>\n",
       "      <th>image_create_role_retain_1d</th>\n",
       "      <th>create_role_30_pay_sum</th>\n",
       "      <th>model_run_datetime</th>\n",
       "      <th>label</th>\n",
       "      <th>score</th>\n",
       "    </tr>\n",
       "  </thead>\n",
       "  <tbody>\n",
       "    <tr>\n",
       "      <th>1</th>\n",
       "      <td>23778</td>\n",
       "      <td>ZDZL1134-横版ZDC</td>\n",
       "      <td>16</td>\n",
       "      <td>2021-05-01</td>\n",
       "      <td>4.0</td>\n",
       "      <td>520.29</td>\n",
       "      <td>0.0</td>\n",
       "      <td>3.0</td>\n",
       "      <td>0.0</td>\n",
       "      <td>1.0</td>\n",
       "      <td>0.0000</td>\n",
       "      <td>173.430000</td>\n",
       "      <td>inf</td>\n",
       "      <td>0.0</td>\n",
       "      <td>0.0</td>\n",
       "      <td>0.0</td>\n",
       "      <td>0.0</td>\n",
       "      <td>0.000000</td>\n",
       "      <td>0.0000</td>\n",
       "      <td>0.0</td>\n",
       "      <td>2021-05-01</td>\n",
       "      <td>0</td>\n",
       "      <td>515</td>\n",
       "    </tr>\n",
       "    <tr>\n",
       "      <th>2</th>\n",
       "      <td>23919</td>\n",
       "      <td>ZDZL1176-横版ZDC</td>\n",
       "      <td>16</td>\n",
       "      <td>2021-05-01</td>\n",
       "      <td>1.0</td>\n",
       "      <td>4036.55</td>\n",
       "      <td>1.0</td>\n",
       "      <td>37.0</td>\n",
       "      <td>341.0</td>\n",
       "      <td>1.0</td>\n",
       "      <td>0.0270</td>\n",
       "      <td>109.095946</td>\n",
       "      <td>4036.55</td>\n",
       "      <td>0.0</td>\n",
       "      <td>0.0</td>\n",
       "      <td>0.0</td>\n",
       "      <td>0.0</td>\n",
       "      <td>0.084478</td>\n",
       "      <td>0.2703</td>\n",
       "      <td>1921.0</td>\n",
       "      <td>2021-05-01</td>\n",
       "      <td>1</td>\n",
       "      <td>622</td>\n",
       "    </tr>\n",
       "    <tr>\n",
       "      <th>3</th>\n",
       "      <td>24608</td>\n",
       "      <td>ZDZL1285-竖版ZDC</td>\n",
       "      <td>16</td>\n",
       "      <td>2021-05-01</td>\n",
       "      <td>5.0</td>\n",
       "      <td>698.59</td>\n",
       "      <td>0.0</td>\n",
       "      <td>14.0</td>\n",
       "      <td>0.0</td>\n",
       "      <td>1.0</td>\n",
       "      <td>0.0000</td>\n",
       "      <td>49.899286</td>\n",
       "      <td>inf</td>\n",
       "      <td>0.0</td>\n",
       "      <td>0.0</td>\n",
       "      <td>0.0</td>\n",
       "      <td>0.0</td>\n",
       "      <td>0.000000</td>\n",
       "      <td>0.0714</td>\n",
       "      <td>0.0</td>\n",
       "      <td>2021-05-01</td>\n",
       "      <td>0</td>\n",
       "      <td>517</td>\n",
       "    </tr>\n",
       "    <tr>\n",
       "      <th>4</th>\n",
       "      <td>27485</td>\n",
       "      <td>ZDZL1737-横版LL</td>\n",
       "      <td>16</td>\n",
       "      <td>2021-05-01</td>\n",
       "      <td>3.0</td>\n",
       "      <td>588.04</td>\n",
       "      <td>0.0</td>\n",
       "      <td>5.0</td>\n",
       "      <td>0.0</td>\n",
       "      <td>1.0</td>\n",
       "      <td>0.0000</td>\n",
       "      <td>117.608000</td>\n",
       "      <td>inf</td>\n",
       "      <td>0.0</td>\n",
       "      <td>0.0</td>\n",
       "      <td>0.0</td>\n",
       "      <td>0.0</td>\n",
       "      <td>0.000000</td>\n",
       "      <td>0.2000</td>\n",
       "      <td>0.0</td>\n",
       "      <td>2021-05-01</td>\n",
       "      <td>0</td>\n",
       "      <td>512</td>\n",
       "    </tr>\n",
       "    <tr>\n",
       "      <th>5</th>\n",
       "      <td>28057</td>\n",
       "      <td>ZDZL1827-横版LL</td>\n",
       "      <td>16</td>\n",
       "      <td>2021-05-01</td>\n",
       "      <td>5.0</td>\n",
       "      <td>3503.07</td>\n",
       "      <td>3.0</td>\n",
       "      <td>48.0</td>\n",
       "      <td>18.0</td>\n",
       "      <td>1.0</td>\n",
       "      <td>0.0625</td>\n",
       "      <td>72.980625</td>\n",
       "      <td>1167.69</td>\n",
       "      <td>1.0</td>\n",
       "      <td>1.0</td>\n",
       "      <td>18.0</td>\n",
       "      <td>3.0</td>\n",
       "      <td>0.005138</td>\n",
       "      <td>0.2653</td>\n",
       "      <td>85.0</td>\n",
       "      <td>2021-05-01</td>\n",
       "      <td>0</td>\n",
       "      <td>530</td>\n",
       "    </tr>\n",
       "  </tbody>\n",
       "</table>\n",
       "</div>"
      ],
      "text/plain": [
       "   image_id      image_name  media_id image_launch_time  \\\n",
       "1     23778  ZDZL1134-横版ZDC        16        2021-05-01   \n",
       "2     23919  ZDZL1176-横版ZDC        16        2021-05-01   \n",
       "3     24608  ZDZL1285-竖版ZDC        16        2021-05-01   \n",
       "4     27485   ZDZL1737-横版LL        16        2021-05-01   \n",
       "5     28057   ZDZL1827-横版LL        16        2021-05-01   \n",
       "\n",
       "   image_source_total_num  image_run_date_amount  image_create_role_pay_num  \\\n",
       "1                     4.0                 520.29                        0.0   \n",
       "2                     1.0                4036.55                        1.0   \n",
       "3                     5.0                 698.59                        0.0   \n",
       "4                     3.0                 588.04                        0.0   \n",
       "5                     5.0                3503.07                        3.0   \n",
       "\n",
       "   image_create_role_num  image_create_role_pay_sum  image_source_num  \\\n",
       "1                    3.0                        0.0               1.0   \n",
       "2                   37.0                      341.0               1.0   \n",
       "3                   14.0                        0.0               1.0   \n",
       "4                    5.0                        0.0               1.0   \n",
       "5                   48.0                       18.0               1.0   \n",
       "\n",
       "   image_create_role_pay_rate  image_create_role_cost  \\\n",
       "1                      0.0000              173.430000   \n",
       "2                      0.0270              109.095946   \n",
       "3                      0.0000               49.899286   \n",
       "4                      0.0000              117.608000   \n",
       "5                      0.0625               72.980625   \n",
       "\n",
       "   image_create_role_pay_cost  image_valid_source_num  \\\n",
       "1                         inf                     0.0   \n",
       "2                     4036.55                     0.0   \n",
       "3                         inf                     0.0   \n",
       "4                         inf                     0.0   \n",
       "5                     1167.69                     1.0   \n",
       "\n",
       "   image_valid_source_rate  image_pay_sum_ability  image_pay_num_ability  \\\n",
       "1                      0.0                    0.0                    0.0   \n",
       "2                      0.0                    0.0                    0.0   \n",
       "3                      0.0                    0.0                    0.0   \n",
       "4                      0.0                    0.0                    0.0   \n",
       "5                      1.0                   18.0                    3.0   \n",
       "\n",
       "   image_create_role_roi  image_create_role_retain_1d  create_role_30_pay_sum  \\\n",
       "1               0.000000                       0.0000                     0.0   \n",
       "2               0.084478                       0.2703                  1921.0   \n",
       "3               0.000000                       0.0714                     0.0   \n",
       "4               0.000000                       0.2000                     0.0   \n",
       "5               0.005138                       0.2653                    85.0   \n",
       "\n",
       "  model_run_datetime  label  score  \n",
       "1         2021-05-01      0    515  \n",
       "2         2021-05-01      1    622  \n",
       "3         2021-05-01      0    517  \n",
       "4         2021-05-01      0    512  \n",
       "5         2021-05-01      0    530  "
      ]
     },
     "execution_count": 128,
     "metadata": {},
     "output_type": "execute_result"
    }
   ],
   "source": [
    "image_info_label.head()"
   ]
  },
  {
   "cell_type": "code",
   "execution_count": 130,
   "metadata": {},
   "outputs": [
    {
     "data": {
      "image/png": "[encoded data removed]",
      "text/plain": [
       "<Figure size 432x288 with 1 Axes>"
      ]
     },
     "metadata": {
      "needs_background": "light"
     },
     "output_type": "display_data"
    }
   ],
   "source": [
    "box0 = image_info_label[image_info_label['label']==0]['score']\n",
    "box1 = image_info_label[image_info_label['label']==1]['score']\n",
    "plt.title('score for different box',fontsize=15)\n",
    "labels = 'box0','box1'\n",
    "plt.boxplot([box0,box1],labels=labels)\n",
    "plt.show()"
   ]
  },
  {
   "cell_type": "code",
   "execution_count": 132,
   "metadata": {},
   "outputs": [
    {
     "name": "stdout",
     "output_type": "stream",
     "text": [
      "高分区ROI： 0.6006115248373041\n",
      "低分区ROI： 0.0775747391326759\n"
     ]
    }
   ],
   "source": [
    "print('高分区ROI：',image_info_label[image_info_label['score']>=520]['create_role_30_pay_sum'].sum() / image_info_label[image_info_label['score']>=520]['image_run_date_amount'].sum())\n",
    "print('低分区ROI：',image_info_label[image_info_label['score']<520]['create_role_30_pay_sum'].sum() / image_info_label[image_info_label['score']<520]['image_run_date_amount'].sum())"
   ]
  },
  {
   "cell_type": "code",
   "execution_count": null,
   "metadata": {},
   "outputs": [],
   "source": []
  }
 ],
 "metadata": {
  "kernelspec": {
   "display_name": "Python 3",
   "language": "python",
   "name": "python3"
  },
  "language_info": {
   "codemirror_mode": {
    "name": "ipython",
    "version": 3
   },
   "file_extension": ".py",
   "mimetype": "text/x-python",
   "name": "python",
   "nbconvert_exporter": "python",
   "pygments_lexer": "ipython3",
   "version": "3.7.6"
  }
 },
 "nbformat": 4,
 "nbformat_minor": 4
}
