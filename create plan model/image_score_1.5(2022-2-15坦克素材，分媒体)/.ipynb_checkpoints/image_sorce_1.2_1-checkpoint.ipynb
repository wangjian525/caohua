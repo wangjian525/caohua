{
 "cells": [
  {
   "cell_type": "code",
   "execution_count": 1,
   "metadata": {},
   "outputs": [],
   "source": [
    "import pandas as pd\n",
    "import numpy as np\n",
    "import matplotlib.pyplot as plt\n",
    "import seaborn as sns\n",
    "import warnings\n",
    "warnings.filterwarnings('ignore')"
   ]
  },
  {
   "cell_type": "code",
   "execution_count": 2,
   "metadata": {},
   "outputs": [],
   "source": [
    "image_info = pd.read_excel('./image_info.xls')"
   ]
  },
  {
   "cell_type": "code",
   "execution_count": 3,
   "metadata": {},
   "outputs": [],
   "source": [
    "pd.set_option('display.max_columns',None)"
   ]
  },
  {
   "cell_type": "code",
   "execution_count": 4,
   "metadata": {},
   "outputs": [
    {
     "data": {
      "text/html": [
       "<div>\n",
       "<style scoped>\n",
       "    .dataframe tbody tr th:only-of-type {\n",
       "        vertical-align: middle;\n",
       "    }\n",
       "\n",
       "    .dataframe tbody tr th {\n",
       "        vertical-align: top;\n",
       "    }\n",
       "\n",
       "    .dataframe thead th {\n",
       "        text-align: right;\n",
       "    }\n",
       "</style>\n",
       "<table border=\"1\" class=\"dataframe\">\n",
       "  <thead>\n",
       "    <tr style=\"text-align: right;\">\n",
       "      <th></th>\n",
       "      <th>image_id</th>\n",
       "      <th>image_run_date_amount</th>\n",
       "      <th>image_create_role_pay_num</th>\n",
       "      <th>image_create_role_num</th>\n",
       "      <th>image_create_role_pay_sum</th>\n",
       "      <th>image_source_num</th>\n",
       "      <th>image_create_role_pay_rate</th>\n",
       "      <th>image_create_role_cost</th>\n",
       "      <th>image_create_role_pay_cost</th>\n",
       "      <th>image_valid_source_num</th>\n",
       "      <th>image_valid_source_rate</th>\n",
       "      <th>image_pay_sum_ability</th>\n",
       "      <th>image_pay_num_ability</th>\n",
       "      <th>image_create_role_roi</th>\n",
       "      <th>image_create_role_retain_1d</th>\n",
       "      <th>create_role_30_pay_sum</th>\n",
       "      <th>model_run_datetime</th>\n",
       "      <th>data_win</th>\n",
       "    </tr>\n",
       "  </thead>\n",
       "  <tbody>\n",
       "    <tr>\n",
       "      <th>0</th>\n",
       "      <td>15133</td>\n",
       "      <td>837.64</td>\n",
       "      <td>0</td>\n",
       "      <td>4</td>\n",
       "      <td>0</td>\n",
       "      <td>1</td>\n",
       "      <td>0.0000</td>\n",
       "      <td>209.410000</td>\n",
       "      <td>0.00</td>\n",
       "      <td>0</td>\n",
       "      <td>0.0</td>\n",
       "      <td>0.0</td>\n",
       "      <td>0.0</td>\n",
       "      <td>0.000000</td>\n",
       "      <td>0.0000</td>\n",
       "      <td>0</td>\n",
       "      <td>2020-01-01</td>\n",
       "      <td>3</td>\n",
       "    </tr>\n",
       "    <tr>\n",
       "      <th>1</th>\n",
       "      <td>15213</td>\n",
       "      <td>11343.97</td>\n",
       "      <td>1</td>\n",
       "      <td>187</td>\n",
       "      <td>30</td>\n",
       "      <td>1</td>\n",
       "      <td>0.0053</td>\n",
       "      <td>60.662941</td>\n",
       "      <td>11343.97</td>\n",
       "      <td>0</td>\n",
       "      <td>0.0</td>\n",
       "      <td>0.0</td>\n",
       "      <td>0.0</td>\n",
       "      <td>0.002645</td>\n",
       "      <td>0.1344</td>\n",
       "      <td>628</td>\n",
       "      <td>2020-01-01</td>\n",
       "      <td>3</td>\n",
       "    </tr>\n",
       "    <tr>\n",
       "      <th>2</th>\n",
       "      <td>16276</td>\n",
       "      <td>1026.89</td>\n",
       "      <td>0</td>\n",
       "      <td>29</td>\n",
       "      <td>0</td>\n",
       "      <td>2</td>\n",
       "      <td>0.0000</td>\n",
       "      <td>35.410000</td>\n",
       "      <td>0.00</td>\n",
       "      <td>0</td>\n",
       "      <td>0.0</td>\n",
       "      <td>0.0</td>\n",
       "      <td>0.0</td>\n",
       "      <td>0.000000</td>\n",
       "      <td>0.3774</td>\n",
       "      <td>636</td>\n",
       "      <td>2020-01-01</td>\n",
       "      <td>3</td>\n",
       "    </tr>\n",
       "    <tr>\n",
       "      <th>3</th>\n",
       "      <td>16316</td>\n",
       "      <td>799.72</td>\n",
       "      <td>0</td>\n",
       "      <td>20</td>\n",
       "      <td>0</td>\n",
       "      <td>1</td>\n",
       "      <td>0.0000</td>\n",
       "      <td>39.986000</td>\n",
       "      <td>0.00</td>\n",
       "      <td>0</td>\n",
       "      <td>0.0</td>\n",
       "      <td>0.0</td>\n",
       "      <td>0.0</td>\n",
       "      <td>0.000000</td>\n",
       "      <td>0.0495</td>\n",
       "      <td>898</td>\n",
       "      <td>2020-01-01</td>\n",
       "      <td>3</td>\n",
       "    </tr>\n",
       "    <tr>\n",
       "      <th>4</th>\n",
       "      <td>17089</td>\n",
       "      <td>5653.74</td>\n",
       "      <td>2</td>\n",
       "      <td>242</td>\n",
       "      <td>24</td>\n",
       "      <td>4</td>\n",
       "      <td>0.0083</td>\n",
       "      <td>23.362562</td>\n",
       "      <td>2826.87</td>\n",
       "      <td>2</td>\n",
       "      <td>0.5</td>\n",
       "      <td>12.0</td>\n",
       "      <td>1.0</td>\n",
       "      <td>0.004245</td>\n",
       "      <td>0.0350</td>\n",
       "      <td>300</td>\n",
       "      <td>2020-01-01</td>\n",
       "      <td>3</td>\n",
       "    </tr>\n",
       "  </tbody>\n",
       "</table>\n",
       "</div>"
      ],
      "text/plain": [
       "   image_id  image_run_date_amount  image_create_role_pay_num  \\\n",
       "0     15133                 837.64                          0   \n",
       "1     15213               11343.97                          1   \n",
       "2     16276                1026.89                          0   \n",
       "3     16316                 799.72                          0   \n",
       "4     17089                5653.74                          2   \n",
       "\n",
       "   image_create_role_num  image_create_role_pay_sum  image_source_num  \\\n",
       "0                      4                          0                 1   \n",
       "1                    187                         30                 1   \n",
       "2                     29                          0                 2   \n",
       "3                     20                          0                 1   \n",
       "4                    242                         24                 4   \n",
       "\n",
       "   image_create_role_pay_rate  image_create_role_cost  \\\n",
       "0                      0.0000              209.410000   \n",
       "1                      0.0053               60.662941   \n",
       "2                      0.0000               35.410000   \n",
       "3                      0.0000               39.986000   \n",
       "4                      0.0083               23.362562   \n",
       "\n",
       "   image_create_role_pay_cost  image_valid_source_num  \\\n",
       "0                        0.00                       0   \n",
       "1                    11343.97                       0   \n",
       "2                        0.00                       0   \n",
       "3                        0.00                       0   \n",
       "4                     2826.87                       2   \n",
       "\n",
       "   image_valid_source_rate  image_pay_sum_ability  image_pay_num_ability  \\\n",
       "0                      0.0                    0.0                    0.0   \n",
       "1                      0.0                    0.0                    0.0   \n",
       "2                      0.0                    0.0                    0.0   \n",
       "3                      0.0                    0.0                    0.0   \n",
       "4                      0.5                   12.0                    1.0   \n",
       "\n",
       "   image_create_role_roi  image_create_role_retain_1d  create_role_30_pay_sum  \\\n",
       "0               0.000000                       0.0000                       0   \n",
       "1               0.002645                       0.1344                     628   \n",
       "2               0.000000                       0.3774                     636   \n",
       "3               0.000000                       0.0495                     898   \n",
       "4               0.004245                       0.0350                     300   \n",
       "\n",
       "  model_run_datetime  data_win  \n",
       "0         2020-01-01         3  \n",
       "1         2020-01-01         3  \n",
       "2         2020-01-01         3  \n",
       "3         2020-01-01         3  \n",
       "4         2020-01-01         3  "
      ]
     },
     "execution_count": 4,
     "metadata": {},
     "output_type": "execute_result"
    }
   ],
   "source": [
    "image_info.head()"
   ]
  },
  {
   "cell_type": "code",
   "execution_count": 5,
   "metadata": {},
   "outputs": [
    {
     "data": {
      "text/plain": [
       "(23104, 18)"
      ]
     },
     "execution_count": 5,
     "metadata": {},
     "output_type": "execute_result"
    }
   ],
   "source": [
    "image_info.shape"
   ]
  },
  {
   "cell_type": "code",
   "execution_count": 7,
   "metadata": {},
   "outputs": [
    {
     "data": {
      "text/plain": [
       "1140"
      ]
     },
     "execution_count": 7,
     "metadata": {},
     "output_type": "execute_result"
    }
   ],
   "source": [
    "image_info['image_id'].nunique()"
   ]
  },
  {
   "cell_type": "code",
   "execution_count": 8,
   "metadata": {},
   "outputs": [],
   "source": [
    "image_info['image_30_roi'] = image_info['create_role_30_pay_sum'] / image_info['image_run_date_amount']"
   ]
  },
  {
   "cell_type": "code",
   "execution_count": 9,
   "metadata": {},
   "outputs": [
    {
     "data": {
      "text/plain": [
       "image_30_roi                   1.000000\n",
       "image_create_role_roi          0.123193\n",
       "create_role_30_pay_sum         0.060812\n",
       "image_pay_sum_ability          0.057185\n",
       "image_valid_source_rate        0.048744\n",
       "image_create_role_pay_rate     0.044932\n",
       "image_create_role_retain_1d    0.033377\n",
       "image_pay_num_ability          0.028894\n",
       "image_create_role_pay_sum      0.020892\n",
       "image_valid_source_num         0.016453\n",
       "image_create_role_pay_num      0.012211\n",
       "image_create_role_num          0.008563\n",
       "image_run_date_amount          0.006721\n",
       "image_source_num               0.001838\n",
       "image_create_role_pay_cost    -0.003826\n",
       "image_create_role_cost        -0.024891\n",
       "image_id                      -0.028477\n",
       "data_win                            NaN\n",
       "Name: image_30_roi, dtype: float64"
      ]
     },
     "execution_count": 9,
     "metadata": {},
     "output_type": "execute_result"
    }
   ],
   "source": [
    "image_info.corr()['image_30_roi'].sort_values(ascending=False)"
   ]
  },
  {
   "cell_type": "code",
   "execution_count": 10,
   "metadata": {},
   "outputs": [],
   "source": [
    "image_info['label'] = image_info['image_30_roi'].apply(lambda x:1 if x>=0.4 else(0 if x<0.25 else 2))"
   ]
  },
  {
   "cell_type": "code",
   "execution_count": 11,
   "metadata": {},
   "outputs": [],
   "source": [
    "image_info_label = image_info[image_info['label']!=2]"
   ]
  },
  {
   "cell_type": "markdown",
   "metadata": {},
   "source": [
    "### EDA"
   ]
  },
  {
   "cell_type": "code",
   "execution_count": 12,
   "metadata": {
    "scrolled": true
   },
   "outputs": [
    {
     "data": {
      "text/plain": [
       "(21365, 20)"
      ]
     },
     "execution_count": 12,
     "metadata": {},
     "output_type": "execute_result"
    }
   ],
   "source": [
    "image_info_label.shape"
   ]
  },
  {
   "cell_type": "code",
   "execution_count": 13,
   "metadata": {},
   "outputs": [],
   "source": [
    "image_info_label = image_info_label[image_info_label['image_run_date_amount']>=500]"
   ]
  },
  {
   "cell_type": "code",
   "execution_count": 14,
   "metadata": {},
   "outputs": [
    {
     "data": {
      "text/plain": [
       "(18608, 20)"
      ]
     },
     "execution_count": 14,
     "metadata": {},
     "output_type": "execute_result"
    }
   ],
   "source": [
    "image_info_label.shape"
   ]
  },
  {
   "cell_type": "code",
   "execution_count": 15,
   "metadata": {},
   "outputs": [
    {
     "data": {
      "text/plain": [
       "data_win                           1\n",
       "label                              2\n",
       "image_valid_source_num            90\n",
       "image_source_num                 114\n",
       "image_create_role_pay_num        185\n",
       "image_valid_source_rate          238\n",
       "model_run_datetime               275\n",
       "image_create_role_pay_rate       425\n",
       "image_pay_num_ability            492\n",
       "image_id                        1083\n",
       "image_create_role_pay_sum       1606\n",
       "image_pay_sum_ability           1646\n",
       "image_create_role_retain_1d     2014\n",
       "image_create_role_num           2643\n",
       "create_role_30_pay_sum          5075\n",
       "image_create_role_roi           7504\n",
       "image_create_role_pay_cost      8245\n",
       "image_30_roi                   11956\n",
       "image_run_date_amount          15803\n",
       "image_create_role_cost         15877\n",
       "dtype: int64"
      ]
     },
     "execution_count": 15,
     "metadata": {},
     "output_type": "execute_result"
    }
   ],
   "source": [
    "image_info_label.nunique().sort_values()"
   ]
  },
  {
   "cell_type": "code",
   "execution_count": 16,
   "metadata": {},
   "outputs": [],
   "source": [
    "image_info_label.drop(['data_win','image_30_roi'], axis=1, inplace=True)"
   ]
  },
  {
   "cell_type": "code",
   "execution_count": 17,
   "metadata": {},
   "outputs": [
    {
     "data": {
      "text/plain": [
       "0      14527\n",
       "1       1292\n",
       "2        800\n",
       "3        482\n",
       "4        318\n",
       "       ...  \n",
       "116        1\n",
       "52         1\n",
       "43         1\n",
       "131        1\n",
       "111        1\n",
       "Name: image_valid_source_num, Length: 90, dtype: int64"
      ]
     },
     "execution_count": 17,
     "metadata": {},
     "output_type": "execute_result"
    }
   ],
   "source": [
    "image_info_label['image_valid_source_num'].value_counts()"
   ]
  },
  {
   "cell_type": "code",
   "execution_count": 18,
   "metadata": {},
   "outputs": [
    {
     "data": {
      "image/png": "[encoded data removed]",
      "text/plain": [
       "<Figure size 432x288 with 1 Axes>"
      ]
     },
     "metadata": {
      "needs_background": "light"
     },
     "output_type": "display_data"
    },
    {
     "data": {
      "image/png": "[encoded data removed]",
      "text/plain": [
       "<Figure size 432x288 with 1 Axes>"
      ]
     },
     "metadata": {
      "needs_background": "light"
     },
     "output_type": "display_data"
    },
    {
     "data": {
      "image/png": "[encoded data removed]",
      "text/plain": [
       "<Figure size 432x288 with 1 Axes>"
      ]
     },
     "metadata": {
      "needs_background": "light"
     },
     "output_type": "display_data"
    },
    {
     "data": {
      "image/png": "[encoded data removed]",
      "text/plain": [
       "<Figure size 432x288 with 1 Axes>"
      ]
     },
     "metadata": {
      "needs_background": "light"
     },
     "output_type": "display_data"
    },
    {
     "data": {
      "image/png": "[encoded data removed]",
      "text/plain": [
       "<Figure size 432x288 with 1 Axes>"
      ]
     },
     "metadata": {
      "needs_background": "light"
     },
     "output_type": "display_data"
    },
    {
     "data": {
      "image/png": "[encoded data removed]",
      "text/plain": [
       "<Figure size 432x288 with 1 Axes>"
      ]
     },
     "metadata": {
      "needs_background": "light"
     },
     "output_type": "display_data"
    },
    {
     "data": {
      "image/png": "[encoded data removed]",
      "text/plain": [
       "<Figure size 432x288 with 1 Axes>"
      ]
     },
     "metadata": {
      "needs_background": "light"
     },
     "output_type": "display_data"
    },
    {
     "data": {
      "image/png": "[encoded data removed]",
      "text/plain": [
       "<Figure size 432x288 with 1 Axes>"
      ]
     },
     "metadata": {
      "needs_background": "light"
     },
     "output_type": "display_data"
    },
    {
     "data": {
      "image/png": "[encoded data removed]",
      "text/plain": [
       "<Figure size 432x288 with 1 Axes>"
      ]
     },
     "metadata": {
      "needs_background": "light"
     },
     "output_type": "display_data"
    },
    {
     "data": {
      "image/png": "[encoded data removed]",
      "text/plain": [
       "<Figure size 432x288 with 1 Axes>"
      ]
     },
     "metadata": {
      "needs_background": "light"
     },
     "output_type": "display_data"
    }
   ],
   "source": [
    "columns = ['image_run_date_amount', 'image_create_role_pay_num',\n",
    "       'image_create_role_num', 'image_create_role_pay_sum',\n",
    "       'image_source_num', 'image_create_role_pay_rate',\n",
    "       'image_create_role_cost', 'image_create_role_pay_cost',\n",
    "       'image_create_role_roi', 'image_create_role_retain_1d']\n",
    "for col in columns:\n",
    "    sns.distplot(image_info_label[col])\n",
    "    plt.show()"
   ]
  },
  {
   "cell_type": "code",
   "execution_count": 19,
   "metadata": {
    "scrolled": true
   },
   "outputs": [
    {
     "data": {
      "text/plain": [
       "(276, 18)"
      ]
     },
     "execution_count": 19,
     "metadata": {},
     "output_type": "execute_result"
    }
   ],
   "source": [
    "image_info_label[image_info_label['image_create_role_cost']>=800].shape"
   ]
  },
  {
   "cell_type": "code",
   "execution_count": 20,
   "metadata": {},
   "outputs": [],
   "source": [
    "image_info_label = image_info_label[image_info_label['image_create_role_cost']<800]"
   ]
  },
  {
   "cell_type": "code",
   "execution_count": 21,
   "metadata": {},
   "outputs": [],
   "source": [
    "image_info_label['image_create_role_cost'].replace(0,float('inf'),inplace=True)"
   ]
  },
  {
   "cell_type": "code",
   "execution_count": 22,
   "metadata": {},
   "outputs": [],
   "source": [
    "image_info_label['image_create_role_pay_cost'].replace(0,float('inf'),inplace=True)"
   ]
  },
  {
   "cell_type": "code",
   "execution_count": 23,
   "metadata": {},
   "outputs": [
    {
     "data": {
      "text/plain": [
       "261.250         1\n",
       "410.846         1\n",
       "413.535         1\n",
       "418.595         1\n",
       "425.370         1\n",
       "             ... \n",
       "48914.530       1\n",
       "50813.050       1\n",
       "56187.360       1\n",
       "62192.360       1\n",
       "inf          9717\n",
       "Name: image_create_role_pay_cost, Length: 8237, dtype: int64"
      ]
     },
     "execution_count": 23,
     "metadata": {},
     "output_type": "execute_result"
    }
   ],
   "source": [
    "image_info_label['image_create_role_pay_cost'].value_counts().sort_index()"
   ]
  },
  {
   "cell_type": "code",
   "execution_count": 24,
   "metadata": {},
   "outputs": [],
   "source": [
    "image_info_label = image_info_label[image_info_label['image_create_role_pay_cost']>1000]"
   ]
  },
  {
   "cell_type": "code",
   "execution_count": 25,
   "metadata": {},
   "outputs": [
    {
     "data": {
      "text/plain": [
       "(18169, 18)"
      ]
     },
     "execution_count": 25,
     "metadata": {},
     "output_type": "execute_result"
    }
   ],
   "source": [
    "image_info_label.shape"
   ]
  },
  {
   "cell_type": "code",
   "execution_count": 26,
   "metadata": {},
   "outputs": [
    {
     "data": {
      "image/png": "[encoded data removed]",
      "text/plain": [
       "<Figure size 432x288 with 1 Axes>"
      ]
     },
     "metadata": {
      "needs_background": "light"
     },
     "output_type": "display_data"
    }
   ],
   "source": [
    "sns.countplot(x='label',data=image_info_label)\n",
    "plt.show()"
   ]
  },
  {
   "cell_type": "code",
   "execution_count": 27,
   "metadata": {},
   "outputs": [
    {
     "data": {
      "text/html": [
       "<div>\n",
       "<style scoped>\n",
       "    .dataframe tbody tr th:only-of-type {\n",
       "        vertical-align: middle;\n",
       "    }\n",
       "\n",
       "    .dataframe tbody tr th {\n",
       "        vertical-align: top;\n",
       "    }\n",
       "\n",
       "    .dataframe thead th {\n",
       "        text-align: right;\n",
       "    }\n",
       "</style>\n",
       "<table border=\"1\" class=\"dataframe\">\n",
       "  <thead>\n",
       "    <tr style=\"text-align: right;\">\n",
       "      <th></th>\n",
       "      <th>image_id</th>\n",
       "      <th>image_run_date_amount</th>\n",
       "      <th>image_create_role_pay_num</th>\n",
       "      <th>image_create_role_num</th>\n",
       "      <th>image_create_role_pay_sum</th>\n",
       "      <th>image_source_num</th>\n",
       "      <th>image_create_role_pay_rate</th>\n",
       "      <th>image_create_role_cost</th>\n",
       "      <th>image_create_role_pay_cost</th>\n",
       "      <th>image_valid_source_num</th>\n",
       "      <th>image_valid_source_rate</th>\n",
       "      <th>image_pay_sum_ability</th>\n",
       "      <th>image_pay_num_ability</th>\n",
       "      <th>image_create_role_roi</th>\n",
       "      <th>image_create_role_retain_1d</th>\n",
       "      <th>create_role_30_pay_sum</th>\n",
       "      <th>label</th>\n",
       "    </tr>\n",
       "  </thead>\n",
       "  <tbody>\n",
       "    <tr>\n",
       "      <th>image_id</th>\n",
       "      <td>1.000000</td>\n",
       "      <td>-0.004963</td>\n",
       "      <td>-0.055517</td>\n",
       "      <td>-0.014412</td>\n",
       "      <td>-0.042665</td>\n",
       "      <td>0.066048</td>\n",
       "      <td>-0.010169</td>\n",
       "      <td>0.228569</td>\n",
       "      <td>0.254117</td>\n",
       "      <td>-0.086923</td>\n",
       "      <td>-0.215278</td>\n",
       "      <td>-0.117868</td>\n",
       "      <td>-0.162438</td>\n",
       "      <td>-0.048272</td>\n",
       "      <td>-0.053853</td>\n",
       "      <td>-0.047388</td>\n",
       "      <td>-0.134495</td>\n",
       "    </tr>\n",
       "    <tr>\n",
       "      <th>image_run_date_amount</th>\n",
       "      <td>-0.004963</td>\n",
       "      <td>1.000000</td>\n",
       "      <td>0.949453</td>\n",
       "      <td>0.883206</td>\n",
       "      <td>0.921916</td>\n",
       "      <td>0.835265</td>\n",
       "      <td>0.023937</td>\n",
       "      <td>-0.140362</td>\n",
       "      <td>-0.038589</td>\n",
       "      <td>0.742705</td>\n",
       "      <td>0.170214</td>\n",
       "      <td>0.224767</td>\n",
       "      <td>0.272332</td>\n",
       "      <td>0.076307</td>\n",
       "      <td>-0.069886</td>\n",
       "      <td>0.919680</td>\n",
       "      <td>0.287212</td>\n",
       "    </tr>\n",
       "    <tr>\n",
       "      <th>image_create_role_pay_num</th>\n",
       "      <td>-0.055517</td>\n",
       "      <td>0.949453</td>\n",
       "      <td>1.000000</td>\n",
       "      <td>0.862221</td>\n",
       "      <td>0.951074</td>\n",
       "      <td>0.702610</td>\n",
       "      <td>0.041748</td>\n",
       "      <td>-0.116605</td>\n",
       "      <td>-0.133894</td>\n",
       "      <td>0.814680</td>\n",
       "      <td>0.244843</td>\n",
       "      <td>0.270767</td>\n",
       "      <td>0.340566</td>\n",
       "      <td>0.084406</td>\n",
       "      <td>-0.041484</td>\n",
       "      <td>0.940310</td>\n",
       "      <td>0.277763</td>\n",
       "    </tr>\n",
       "    <tr>\n",
       "      <th>image_create_role_num</th>\n",
       "      <td>-0.014412</td>\n",
       "      <td>0.883206</td>\n",
       "      <td>0.862221</td>\n",
       "      <td>1.000000</td>\n",
       "      <td>0.832955</td>\n",
       "      <td>0.722657</td>\n",
       "      <td>-0.005232</td>\n",
       "      <td>-0.136959</td>\n",
       "      <td>-0.080513</td>\n",
       "      <td>0.681501</td>\n",
       "      <td>0.166307</td>\n",
       "      <td>0.199553</td>\n",
       "      <td>0.255011</td>\n",
       "      <td>0.067097</td>\n",
       "      <td>-0.087412</td>\n",
       "      <td>0.846204</td>\n",
       "      <td>0.261759</td>\n",
       "    </tr>\n",
       "    <tr>\n",
       "      <th>image_create_role_pay_sum</th>\n",
       "      <td>-0.042665</td>\n",
       "      <td>0.921916</td>\n",
       "      <td>0.951074</td>\n",
       "      <td>0.832955</td>\n",
       "      <td>1.000000</td>\n",
       "      <td>0.687921</td>\n",
       "      <td>0.043768</td>\n",
       "      <td>-0.108270</td>\n",
       "      <td>-0.117298</td>\n",
       "      <td>0.755783</td>\n",
       "      <td>0.218615</td>\n",
       "      <td>0.319664</td>\n",
       "      <td>0.310625</td>\n",
       "      <td>0.169638</td>\n",
       "      <td>-0.040010</td>\n",
       "      <td>0.928725</td>\n",
       "      <td>0.302579</td>\n",
       "    </tr>\n",
       "    <tr>\n",
       "      <th>image_source_num</th>\n",
       "      <td>0.066048</td>\n",
       "      <td>0.835265</td>\n",
       "      <td>0.702610</td>\n",
       "      <td>0.722657</td>\n",
       "      <td>0.687921</td>\n",
       "      <td>1.000000</td>\n",
       "      <td>0.032111</td>\n",
       "      <td>-0.144184</td>\n",
       "      <td>0.082171</td>\n",
       "      <td>0.591872</td>\n",
       "      <td>0.089120</td>\n",
       "      <td>0.113390</td>\n",
       "      <td>0.131005</td>\n",
       "      <td>0.072894</td>\n",
       "      <td>-0.080383</td>\n",
       "      <td>0.678717</td>\n",
       "      <td>0.281093</td>\n",
       "    </tr>\n",
       "    <tr>\n",
       "      <th>image_create_role_pay_rate</th>\n",
       "      <td>-0.010169</td>\n",
       "      <td>0.023937</td>\n",
       "      <td>0.041748</td>\n",
       "      <td>-0.005232</td>\n",
       "      <td>0.043768</td>\n",
       "      <td>0.032111</td>\n",
       "      <td>1.000000</td>\n",
       "      <td>0.106098</td>\n",
       "      <td>-0.248155</td>\n",
       "      <td>0.093353</td>\n",
       "      <td>0.458675</td>\n",
       "      <td>0.139013</td>\n",
       "      <td>0.170234</td>\n",
       "      <td>0.244011</td>\n",
       "      <td>0.187362</td>\n",
       "      <td>0.032614</td>\n",
       "      <td>0.128396</td>\n",
       "    </tr>\n",
       "    <tr>\n",
       "      <th>image_create_role_cost</th>\n",
       "      <td>0.228569</td>\n",
       "      <td>-0.140362</td>\n",
       "      <td>-0.116605</td>\n",
       "      <td>-0.136959</td>\n",
       "      <td>-0.108270</td>\n",
       "      <td>-0.144184</td>\n",
       "      <td>0.106098</td>\n",
       "      <td>1.000000</td>\n",
       "      <td>0.096787</td>\n",
       "      <td>-0.099955</td>\n",
       "      <td>-0.165241</td>\n",
       "      <td>-0.106499</td>\n",
       "      <td>-0.154826</td>\n",
       "      <td>-0.060339</td>\n",
       "      <td>0.237055</td>\n",
       "      <td>-0.113014</td>\n",
       "      <td>-0.198917</td>\n",
       "    </tr>\n",
       "    <tr>\n",
       "      <th>image_create_role_pay_cost</th>\n",
       "      <td>0.254117</td>\n",
       "      <td>-0.038589</td>\n",
       "      <td>-0.133894</td>\n",
       "      <td>-0.080513</td>\n",
       "      <td>-0.117298</td>\n",
       "      <td>0.082171</td>\n",
       "      <td>-0.248155</td>\n",
       "      <td>0.096787</td>\n",
       "      <td>1.000000</td>\n",
       "      <td>-0.185618</td>\n",
       "      <td>-0.544649</td>\n",
       "      <td>-0.216580</td>\n",
       "      <td>-0.314033</td>\n",
       "      <td>-0.135504</td>\n",
       "      <td>-0.151734</td>\n",
       "      <td>-0.107184</td>\n",
       "      <td>-0.216222</td>\n",
       "    </tr>\n",
       "    <tr>\n",
       "      <th>image_valid_source_num</th>\n",
       "      <td>-0.086923</td>\n",
       "      <td>0.742705</td>\n",
       "      <td>0.814680</td>\n",
       "      <td>0.681501</td>\n",
       "      <td>0.755783</td>\n",
       "      <td>0.591872</td>\n",
       "      <td>0.093353</td>\n",
       "      <td>-0.099955</td>\n",
       "      <td>-0.185618</td>\n",
       "      <td>1.000000</td>\n",
       "      <td>0.411297</td>\n",
       "      <td>0.223921</td>\n",
       "      <td>0.282585</td>\n",
       "      <td>0.096349</td>\n",
       "      <td>-0.019099</td>\n",
       "      <td>0.752704</td>\n",
       "      <td>0.266002</td>\n",
       "    </tr>\n",
       "    <tr>\n",
       "      <th>image_valid_source_rate</th>\n",
       "      <td>-0.215278</td>\n",
       "      <td>0.170214</td>\n",
       "      <td>0.244843</td>\n",
       "      <td>0.166307</td>\n",
       "      <td>0.218615</td>\n",
       "      <td>0.089120</td>\n",
       "      <td>0.458675</td>\n",
       "      <td>-0.165241</td>\n",
       "      <td>-0.544649</td>\n",
       "      <td>0.411297</td>\n",
       "      <td>1.000000</td>\n",
       "      <td>0.377649</td>\n",
       "      <td>0.518441</td>\n",
       "      <td>0.254053</td>\n",
       "      <td>0.043589</td>\n",
       "      <td>0.207563</td>\n",
       "      <td>0.326927</td>\n",
       "    </tr>\n",
       "    <tr>\n",
       "      <th>image_pay_sum_ability</th>\n",
       "      <td>-0.117868</td>\n",
       "      <td>0.224767</td>\n",
       "      <td>0.270767</td>\n",
       "      <td>0.199553</td>\n",
       "      <td>0.319664</td>\n",
       "      <td>0.113390</td>\n",
       "      <td>0.139013</td>\n",
       "      <td>-0.106499</td>\n",
       "      <td>-0.216580</td>\n",
       "      <td>0.223921</td>\n",
       "      <td>0.377649</td>\n",
       "      <td>1.000000</td>\n",
       "      <td>0.750749</td>\n",
       "      <td>0.505420</td>\n",
       "      <td>0.006110</td>\n",
       "      <td>0.255304</td>\n",
       "      <td>0.297742</td>\n",
       "    </tr>\n",
       "    <tr>\n",
       "      <th>image_pay_num_ability</th>\n",
       "      <td>-0.162438</td>\n",
       "      <td>0.272332</td>\n",
       "      <td>0.340566</td>\n",
       "      <td>0.255011</td>\n",
       "      <td>0.310625</td>\n",
       "      <td>0.131005</td>\n",
       "      <td>0.170234</td>\n",
       "      <td>-0.154826</td>\n",
       "      <td>-0.314033</td>\n",
       "      <td>0.282585</td>\n",
       "      <td>0.518441</td>\n",
       "      <td>0.750749</td>\n",
       "      <td>1.000000</td>\n",
       "      <td>0.155303</td>\n",
       "      <td>-0.011229</td>\n",
       "      <td>0.291664</td>\n",
       "      <td>0.312416</td>\n",
       "    </tr>\n",
       "    <tr>\n",
       "      <th>image_create_role_roi</th>\n",
       "      <td>-0.048272</td>\n",
       "      <td>0.076307</td>\n",
       "      <td>0.084406</td>\n",
       "      <td>0.067097</td>\n",
       "      <td>0.169638</td>\n",
       "      <td>0.072894</td>\n",
       "      <td>0.244011</td>\n",
       "      <td>-0.060339</td>\n",
       "      <td>-0.135504</td>\n",
       "      <td>0.096349</td>\n",
       "      <td>0.254053</td>\n",
       "      <td>0.505420</td>\n",
       "      <td>0.155303</td>\n",
       "      <td>1.000000</td>\n",
       "      <td>0.028761</td>\n",
       "      <td>0.107723</td>\n",
       "      <td>0.235612</td>\n",
       "    </tr>\n",
       "    <tr>\n",
       "      <th>image_create_role_retain_1d</th>\n",
       "      <td>-0.053853</td>\n",
       "      <td>-0.069886</td>\n",
       "      <td>-0.041484</td>\n",
       "      <td>-0.087412</td>\n",
       "      <td>-0.040010</td>\n",
       "      <td>-0.080383</td>\n",
       "      <td>0.187362</td>\n",
       "      <td>0.237055</td>\n",
       "      <td>-0.151734</td>\n",
       "      <td>-0.019099</td>\n",
       "      <td>0.043589</td>\n",
       "      <td>0.006110</td>\n",
       "      <td>-0.011229</td>\n",
       "      <td>0.028761</td>\n",
       "      <td>1.000000</td>\n",
       "      <td>-0.041247</td>\n",
       "      <td>0.023810</td>\n",
       "    </tr>\n",
       "    <tr>\n",
       "      <th>create_role_30_pay_sum</th>\n",
       "      <td>-0.047388</td>\n",
       "      <td>0.919680</td>\n",
       "      <td>0.940310</td>\n",
       "      <td>0.846204</td>\n",
       "      <td>0.928725</td>\n",
       "      <td>0.678717</td>\n",
       "      <td>0.032614</td>\n",
       "      <td>-0.113014</td>\n",
       "      <td>-0.107184</td>\n",
       "      <td>0.752704</td>\n",
       "      <td>0.207563</td>\n",
       "      <td>0.255304</td>\n",
       "      <td>0.291664</td>\n",
       "      <td>0.107723</td>\n",
       "      <td>-0.041247</td>\n",
       "      <td>1.000000</td>\n",
       "      <td>0.366888</td>\n",
       "    </tr>\n",
       "    <tr>\n",
       "      <th>label</th>\n",
       "      <td>-0.134495</td>\n",
       "      <td>0.287212</td>\n",
       "      <td>0.277763</td>\n",
       "      <td>0.261759</td>\n",
       "      <td>0.302579</td>\n",
       "      <td>0.281093</td>\n",
       "      <td>0.128396</td>\n",
       "      <td>-0.198917</td>\n",
       "      <td>-0.216222</td>\n",
       "      <td>0.266002</td>\n",
       "      <td>0.326927</td>\n",
       "      <td>0.297742</td>\n",
       "      <td>0.312416</td>\n",
       "      <td>0.235612</td>\n",
       "      <td>0.023810</td>\n",
       "      <td>0.366888</td>\n",
       "      <td>1.000000</td>\n",
       "    </tr>\n",
       "  </tbody>\n",
       "</table>\n",
       "</div>"
      ],
      "text/plain": [
       "                             image_id  image_run_date_amount  \\\n",
       "image_id                     1.000000              -0.004963   \n",
       "image_run_date_amount       -0.004963               1.000000   \n",
       "image_create_role_pay_num   -0.055517               0.949453   \n",
       "image_create_role_num       -0.014412               0.883206   \n",
       "image_create_role_pay_sum   -0.042665               0.921916   \n",
       "image_source_num             0.066048               0.835265   \n",
       "image_create_role_pay_rate  -0.010169               0.023937   \n",
       "image_create_role_cost       0.228569              -0.140362   \n",
       "image_create_role_pay_cost   0.254117              -0.038589   \n",
       "image_valid_source_num      -0.086923               0.742705   \n",
       "image_valid_source_rate     -0.215278               0.170214   \n",
       "image_pay_sum_ability       -0.117868               0.224767   \n",
       "image_pay_num_ability       -0.162438               0.272332   \n",
       "image_create_role_roi       -0.048272               0.076307   \n",
       "image_create_role_retain_1d -0.053853              -0.069886   \n",
       "create_role_30_pay_sum      -0.047388               0.919680   \n",
       "label                       -0.134495               0.287212   \n",
       "\n",
       "                             image_create_role_pay_num  image_create_role_num  \\\n",
       "image_id                                     -0.055517              -0.014412   \n",
       "image_run_date_amount                         0.949453               0.883206   \n",
       "image_create_role_pay_num                     1.000000               0.862221   \n",
       "image_create_role_num                         0.862221               1.000000   \n",
       "image_create_role_pay_sum                     0.951074               0.832955   \n",
       "image_source_num                              0.702610               0.722657   \n",
       "image_create_role_pay_rate                    0.041748              -0.005232   \n",
       "image_create_role_cost                       -0.116605              -0.136959   \n",
       "image_create_role_pay_cost                   -0.133894              -0.080513   \n",
       "image_valid_source_num                        0.814680               0.681501   \n",
       "image_valid_source_rate                       0.244843               0.166307   \n",
       "image_pay_sum_ability                         0.270767               0.199553   \n",
       "image_pay_num_ability                         0.340566               0.255011   \n",
       "image_create_role_roi                         0.084406               0.067097   \n",
       "image_create_role_retain_1d                  -0.041484              -0.087412   \n",
       "create_role_30_pay_sum                        0.940310               0.846204   \n",
       "label                                         0.277763               0.261759   \n",
       "\n",
       "                             image_create_role_pay_sum  image_source_num  \\\n",
       "image_id                                     -0.042665          0.066048   \n",
       "image_run_date_amount                         0.921916          0.835265   \n",
       "image_create_role_pay_num                     0.951074          0.702610   \n",
       "image_create_role_num                         0.832955          0.722657   \n",
       "image_create_role_pay_sum                     1.000000          0.687921   \n",
       "image_source_num                              0.687921          1.000000   \n",
       "image_create_role_pay_rate                    0.043768          0.032111   \n",
       "image_create_role_cost                       -0.108270         -0.144184   \n",
       "image_create_role_pay_cost                   -0.117298          0.082171   \n",
       "image_valid_source_num                        0.755783          0.591872   \n",
       "image_valid_source_rate                       0.218615          0.089120   \n",
       "image_pay_sum_ability                         0.319664          0.113390   \n",
       "image_pay_num_ability                         0.310625          0.131005   \n",
       "image_create_role_roi                         0.169638          0.072894   \n",
       "image_create_role_retain_1d                  -0.040010         -0.080383   \n",
       "create_role_30_pay_sum                        0.928725          0.678717   \n",
       "label                                         0.302579          0.281093   \n",
       "\n",
       "                             image_create_role_pay_rate  \\\n",
       "image_id                                      -0.010169   \n",
       "image_run_date_amount                          0.023937   \n",
       "image_create_role_pay_num                      0.041748   \n",
       "image_create_role_num                         -0.005232   \n",
       "image_create_role_pay_sum                      0.043768   \n",
       "image_source_num                               0.032111   \n",
       "image_create_role_pay_rate                     1.000000   \n",
       "image_create_role_cost                         0.106098   \n",
       "image_create_role_pay_cost                    -0.248155   \n",
       "image_valid_source_num                         0.093353   \n",
       "image_valid_source_rate                        0.458675   \n",
       "image_pay_sum_ability                          0.139013   \n",
       "image_pay_num_ability                          0.170234   \n",
       "image_create_role_roi                          0.244011   \n",
       "image_create_role_retain_1d                    0.187362   \n",
       "create_role_30_pay_sum                         0.032614   \n",
       "label                                          0.128396   \n",
       "\n",
       "                             image_create_role_cost  \\\n",
       "image_id                                   0.228569   \n",
       "image_run_date_amount                     -0.140362   \n",
       "image_create_role_pay_num                 -0.116605   \n",
       "image_create_role_num                     -0.136959   \n",
       "image_create_role_pay_sum                 -0.108270   \n",
       "image_source_num                          -0.144184   \n",
       "image_create_role_pay_rate                 0.106098   \n",
       "image_create_role_cost                     1.000000   \n",
       "image_create_role_pay_cost                 0.096787   \n",
       "image_valid_source_num                    -0.099955   \n",
       "image_valid_source_rate                   -0.165241   \n",
       "image_pay_sum_ability                     -0.106499   \n",
       "image_pay_num_ability                     -0.154826   \n",
       "image_create_role_roi                     -0.060339   \n",
       "image_create_role_retain_1d                0.237055   \n",
       "create_role_30_pay_sum                    -0.113014   \n",
       "label                                     -0.198917   \n",
       "\n",
       "                             image_create_role_pay_cost  \\\n",
       "image_id                                       0.254117   \n",
       "image_run_date_amount                         -0.038589   \n",
       "image_create_role_pay_num                     -0.133894   \n",
       "image_create_role_num                         -0.080513   \n",
       "image_create_role_pay_sum                     -0.117298   \n",
       "image_source_num                               0.082171   \n",
       "image_create_role_pay_rate                    -0.248155   \n",
       "image_create_role_cost                         0.096787   \n",
       "image_create_role_pay_cost                     1.000000   \n",
       "image_valid_source_num                        -0.185618   \n",
       "image_valid_source_rate                       -0.544649   \n",
       "image_pay_sum_ability                         -0.216580   \n",
       "image_pay_num_ability                         -0.314033   \n",
       "image_create_role_roi                         -0.135504   \n",
       "image_create_role_retain_1d                   -0.151734   \n",
       "create_role_30_pay_sum                        -0.107184   \n",
       "label                                         -0.216222   \n",
       "\n",
       "                             image_valid_source_num  image_valid_source_rate  \\\n",
       "image_id                                  -0.086923                -0.215278   \n",
       "image_run_date_amount                      0.742705                 0.170214   \n",
       "image_create_role_pay_num                  0.814680                 0.244843   \n",
       "image_create_role_num                      0.681501                 0.166307   \n",
       "image_create_role_pay_sum                  0.755783                 0.218615   \n",
       "image_source_num                           0.591872                 0.089120   \n",
       "image_create_role_pay_rate                 0.093353                 0.458675   \n",
       "image_create_role_cost                    -0.099955                -0.165241   \n",
       "image_create_role_pay_cost                -0.185618                -0.544649   \n",
       "image_valid_source_num                     1.000000                 0.411297   \n",
       "image_valid_source_rate                    0.411297                 1.000000   \n",
       "image_pay_sum_ability                      0.223921                 0.377649   \n",
       "image_pay_num_ability                      0.282585                 0.518441   \n",
       "image_create_role_roi                      0.096349                 0.254053   \n",
       "image_create_role_retain_1d               -0.019099                 0.043589   \n",
       "create_role_30_pay_sum                     0.752704                 0.207563   \n",
       "label                                      0.266002                 0.326927   \n",
       "\n",
       "                             image_pay_sum_ability  image_pay_num_ability  \\\n",
       "image_id                                 -0.117868              -0.162438   \n",
       "image_run_date_amount                     0.224767               0.272332   \n",
       "image_create_role_pay_num                 0.270767               0.340566   \n",
       "image_create_role_num                     0.199553               0.255011   \n",
       "image_create_role_pay_sum                 0.319664               0.310625   \n",
       "image_source_num                          0.113390               0.131005   \n",
       "image_create_role_pay_rate                0.139013               0.170234   \n",
       "image_create_role_cost                   -0.106499              -0.154826   \n",
       "image_create_role_pay_cost               -0.216580              -0.314033   \n",
       "image_valid_source_num                    0.223921               0.282585   \n",
       "image_valid_source_rate                   0.377649               0.518441   \n",
       "image_pay_sum_ability                     1.000000               0.750749   \n",
       "image_pay_num_ability                     0.750749               1.000000   \n",
       "image_create_role_roi                     0.505420               0.155303   \n",
       "image_create_role_retain_1d               0.006110              -0.011229   \n",
       "create_role_30_pay_sum                    0.255304               0.291664   \n",
       "label                                     0.297742               0.312416   \n",
       "\n",
       "                             image_create_role_roi  \\\n",
       "image_id                                 -0.048272   \n",
       "image_run_date_amount                     0.076307   \n",
       "image_create_role_pay_num                 0.084406   \n",
       "image_create_role_num                     0.067097   \n",
       "image_create_role_pay_sum                 0.169638   \n",
       "image_source_num                          0.072894   \n",
       "image_create_role_pay_rate                0.244011   \n",
       "image_create_role_cost                   -0.060339   \n",
       "image_create_role_pay_cost               -0.135504   \n",
       "image_valid_source_num                    0.096349   \n",
       "image_valid_source_rate                   0.254053   \n",
       "image_pay_sum_ability                     0.505420   \n",
       "image_pay_num_ability                     0.155303   \n",
       "image_create_role_roi                     1.000000   \n",
       "image_create_role_retain_1d               0.028761   \n",
       "create_role_30_pay_sum                    0.107723   \n",
       "label                                     0.235612   \n",
       "\n",
       "                             image_create_role_retain_1d  \\\n",
       "image_id                                       -0.053853   \n",
       "image_run_date_amount                          -0.069886   \n",
       "image_create_role_pay_num                      -0.041484   \n",
       "image_create_role_num                          -0.087412   \n",
       "image_create_role_pay_sum                      -0.040010   \n",
       "image_source_num                               -0.080383   \n",
       "image_create_role_pay_rate                      0.187362   \n",
       "image_create_role_cost                          0.237055   \n",
       "image_create_role_pay_cost                     -0.151734   \n",
       "image_valid_source_num                         -0.019099   \n",
       "image_valid_source_rate                         0.043589   \n",
       "image_pay_sum_ability                           0.006110   \n",
       "image_pay_num_ability                          -0.011229   \n",
       "image_create_role_roi                           0.028761   \n",
       "image_create_role_retain_1d                     1.000000   \n",
       "create_role_30_pay_sum                         -0.041247   \n",
       "label                                           0.023810   \n",
       "\n",
       "                             create_role_30_pay_sum     label  \n",
       "image_id                                  -0.047388 -0.134495  \n",
       "image_run_date_amount                      0.919680  0.287212  \n",
       "image_create_role_pay_num                  0.940310  0.277763  \n",
       "image_create_role_num                      0.846204  0.261759  \n",
       "image_create_role_pay_sum                  0.928725  0.302579  \n",
       "image_source_num                           0.678717  0.281093  \n",
       "image_create_role_pay_rate                 0.032614  0.128396  \n",
       "image_create_role_cost                    -0.113014 -0.198917  \n",
       "image_create_role_pay_cost                -0.107184 -0.216222  \n",
       "image_valid_source_num                     0.752704  0.266002  \n",
       "image_valid_source_rate                    0.207563  0.326927  \n",
       "image_pay_sum_ability                      0.255304  0.297742  \n",
       "image_pay_num_ability                      0.291664  0.312416  \n",
       "image_create_role_roi                      0.107723  0.235612  \n",
       "image_create_role_retain_1d               -0.041247  0.023810  \n",
       "create_role_30_pay_sum                     1.000000  0.366888  \n",
       "label                                      0.366888  1.000000  "
      ]
     },
     "execution_count": 27,
     "metadata": {},
     "output_type": "execute_result"
    }
   ],
   "source": [
    "#多变量分析\n",
    "image_info_label.corr()"
   ]
  },
  {
   "cell_type": "code",
   "execution_count": 28,
   "metadata": {},
   "outputs": [],
   "source": [
    "#特征选择,woe分箱\n",
    "from scipy import stats\n",
    "def monoto_bin(Y, X, n = 20):\n",
    "    r = 0\n",
    "    total_bad = Y.sum()\n",
    "    total_good =Y.count()-total_bad  \n",
    "    while np.abs(r) < 0.9:\n",
    "        d1 = pd.DataFrame({\"X\": X, \"Y\": Y, \"Bucket\": pd.qcut(X, n,duplicates='raise')})\n",
    "        d2 = d1.groupby('Bucket', as_index = True)\n",
    "        r, p = stats.spearmanr(d2.mean().X, d2.mean().Y)\n",
    "        n = n - 1\n",
    "#     print(r)\n",
    "#     print(n)\n",
    "    d3 = pd.DataFrame(d2.min().X, columns = ['min_' + X.name])\n",
    "    d3['min_' + X.name] = d2.min().X\n",
    "    d3['max_' + X.name] = d2.max().X\n",
    "    d3[Y.name] = d2.sum().Y\n",
    "    d3['total'] = d2.count().Y\n",
    "    #d3[Y.name + '_rate'] = d2.mean().Y\n",
    "    d3['badattr']=d3[Y.name]/total_bad\n",
    "    d3['goodattr']=(d3['total']-d3[Y.name])/total_good\n",
    "    d3['woe'] = np.log(d3['goodattr']/d3['badattr'])\n",
    "    iv = ((d3['goodattr']-d3['badattr'])*d3['woe']).sum()\n",
    "    d4 = (d3.sort_values(by = 'min_' + X.name)).reset_index(drop = True)\n",
    "    print (\"=\" * 80)\n",
    "    cut = []\n",
    "    cut.append(float('-inf'))\n",
    "    for i in range(1,n+1):\n",
    "        qua =X.quantile(i/(n+1))\n",
    "        cut.append(round(qua,4))\n",
    "    cut.append(float('inf'))\n",
    "    woe = list(d4['woe'].round(3))\n",
    "    return d4,iv,cut,woe"
   ]
  },
  {
   "cell_type": "code",
   "execution_count": 38,
   "metadata": {},
   "outputs": [
    {
     "name": "stdout",
     "output_type": "stream",
     "text": [
      "================================================================================\n",
      "================================================================================\n",
      "================================================================================\n",
      "================================================================================\n"
     ]
    }
   ],
   "source": [
    "dfx1,ivx1,cutx1,woex1 = monoto_bin(image_info_label['label'],image_info_label['image_run_date_amount'],n=10)\n",
    "# dfx2,ivx2,cutx2,woex2 = monoto_bin(image_info_label['label'],image_info_label['image_create_role_pay_num'],n=10)\n",
    "dfx3,ivx3,cutx3,woex3 = monoto_bin(image_info_label['label'],image_info_label['image_create_role_num'],n=10)\n",
    "# dfx4,ivx4,cutx4,woex4 = monoto_bin(image_info_label['label'],image_info_label['image_create_role_pay_sum'],n=10)\n",
    "# dfx5,ivx5,cutx5,woex5 = monoto_bin(image_info_label['label'],image_info_label['image_source_num'],n=10)\n",
    "# dfx6,ivx6,cutx6,woex6 = monoto_bin(image_info_label['label'],image_info_label['image_create_role_pay_rate'],n=10)\n",
    "dfx7,ivx7,cutx7,woex7 = monoto_bin(image_info_label['label'],image_info_label['image_create_role_cost'],n=10)\n",
    "# dfx8,ivx8,cutx8,woex8 = monoto_bin(image_info_label['label'],image_info_label['image_create_role_pay_cost'],n=10)\n",
    "# dfx9,ivx9,cutx9,woex9 = monoto_bin(image_info_label['label'],image_info_label['image_valid_source_rate'],n=10)\n",
    "# dfx10,ivx10,cutx10,woex10 = monoto_bin(image_info_label['label'],image_info_label['image_pay_sum_ability'],n=10)\n",
    "# dfx11,ivx11,cutx11,woex11 = monoto_bin(image_info_label['label'],image_info_label['image_pay_num_ability'],n=10)\n",
    "# dfx12,ivx12,cutx12,woex12 = monoto_bin(image_info_label['label'],image_info_label['image_create_role_roi'],n=10)\n",
    "# dfx13,ivx13,cutx13,woex13 = monoto_bin(image_info_label['label'],image_info_label['image_create_role_retain_1d'],n=10)"
   ]
  },
  {
   "cell_type": "code",
   "execution_count": 41,
   "metadata": {},
   "outputs": [
    {
     "name": "stdout",
     "output_type": "stream",
     "text": [
      "[1.332, 1.202, 0.953, 0.845, 0.503, 0.216, 0.031, -0.363, -0.871, -1.702]\n"
     ]
    },
    {
     "data": {
      "image/png": "[encoded data removed]",
      "text/plain": [
       "<Figure size 432x288 with 1 Axes>"
      ]
     },
     "metadata": {
      "needs_background": "light"
     },
     "output_type": "display_data"
    },
    {
     "name": "stdout",
     "output_type": "stream",
     "text": [
      "[1.902, 1.227, 0.873, 0.771, 0.503, 0.215, 0.022, -0.394, -0.862, -1.784]\n"
     ]
    },
    {
     "data": {
      "image/png": "[encoded data removed]",
      "text/plain": [
       "<Figure size 432x288 with 1 Axes>"
      ]
     },
     "metadata": {
      "needs_background": "light"
     },
     "output_type": "display_data"
    },
    {
     "name": "stdout",
     "output_type": "stream",
     "text": [
      "[-0.609, -0.703, -0.521, -0.481, -0.139, 0.059, 0.359, 0.689, 1.315, 1.777]\n"
     ]
    },
    {
     "data": {
      "image/png": "[encoded data removed]",
      "text/plain": [
       "<Figure size 432x288 with 1 Axes>"
      ]
     },
     "metadata": {
      "needs_background": "light"
     },
     "output_type": "display_data"
    }
   ],
   "source": [
    "woex = [woex1,woex3,woex7]\n",
    "for col in woex:\n",
    "    print('{}'.format(col))\n",
    "    plt.bar(range(len(col)),col)\n",
    "    plt.show()"
   ]
  },
  {
   "cell_type": "code",
   "execution_count": 42,
   "metadata": {},
   "outputs": [],
   "source": [
    "def self_bin(Y, X, bin):\n",
    "    r = 0\n",
    "    total_bad = Y.sum()\n",
    "    total_good =Y.count()-total_bad  \n",
    "    d1 = pd.DataFrame({\"X\": X, \"Y\": Y, \"Bucket\": pd.cut(X, bin)})\n",
    "    d2 = d1.groupby('Bucket', as_index = True)\n",
    "    r, p = stats.spearmanr(d2.mean().X, d2.mean().Y)\n",
    "        \n",
    "    d3 = pd.DataFrame(d2.min().X, columns = ['min_' + X.name])\n",
    "    d3['min_' + X.name] = d2.min().X\n",
    "    d3['max_' + X.name] = d2.max().X\n",
    "    d3[Y.name] = d2.sum().Y\n",
    "    d3['total'] = d2.count().Y\n",
    "    #d3[Y.name + '_rate'] = d2.mean().Y\n",
    "    #好坏比，求woe,证据权重，自变量对目标变量有没有影响，什么影响\n",
    "    d3['badattr']=d3[Y.name]/total_bad\n",
    "    d3['goodattr']=(d3['total']-d3[Y.name])/total_good\n",
    "    d3['woe'] = np.log(d3['goodattr']/d3['badattr'])\n",
    "    #iv，信息值，自变量对于目标变量的影响程度\n",
    "    iv = ((d3['goodattr']-d3['badattr'])*d3['woe']).sum()\n",
    "    d4 = (d3.sort_values(by = 'min_' + X.name)).reset_index(drop = True)\n",
    "    print (\"=\" * 80)\n",
    "#     print (d4)\n",
    "    woe = list(d4['woe'].round(3))\n",
    "    return d4,iv,woe"
   ]
  },
  {
   "cell_type": "code",
   "execution_count": 753,
   "metadata": {},
   "outputs": [
    {
     "data": {
      "text/plain": [
       "[-inf,\n",
       " 950.445,\n",
       " 1509.64,\n",
       " 2353.295,\n",
       " 3463.51,\n",
       " 5095.1,\n",
       " 7437.14,\n",
       " 11779.07,\n",
       " 20877.87,\n",
       " 45370.76,\n",
       " inf]"
      ]
     },
     "execution_count": 753,
     "metadata": {},
     "output_type": "execute_result"
    }
   ],
   "source": [
    "cutx1"
   ]
  },
  {
   "cell_type": "code",
   "execution_count": 46,
   "metadata": {},
   "outputs": [],
   "source": [
    "pinf = float('inf')#正无穷大\n",
    "ninf = float('-inf')#负无穷大\n",
    "cutx2 = [ninf, 1, 3, 8, 12,50,pinf]\n",
    "cutx4 = [ninf,60,200,700,2000,5000,10000,pinf]\n",
    "cutx5 = [ninf,3,6,12,20,50,pinf]\n",
    "cutx6 = [ninf,0.005,0.01,0.015,0.02,pinf]\n",
    "cutx8 = [ninf, 2000,3000,4000,5000,6000,7000,8000,9000,10000,11000,13000,pinf]\n",
    "cutx9 = [ninf, 0.1, 0.2, 0.3, 0.4,0.6,pinf]\n",
    "cutx10 = [ninf, 50,100,200, 400,1000, pinf]\n",
    "cutx11 = [ninf, 1,2,5,10,20,pinf]\n",
    "cutx12 = [ninf, 0.005,0.01,0.015,0.02,0.025,0.05,pinf]\n",
    "cutx13 = [ninf, 0.06,0.1,0.14,0.2,0.3,pinf]"
   ]
  },
  {
   "cell_type": "code",
   "execution_count": 110,
   "metadata": {},
   "outputs": [
    {
     "name": "stdout",
     "output_type": "stream",
     "text": [
      "woex1 = [1.332, 1.202, 0.953, 0.845, 0.503, 0.216, 0.031, -0.363, -0.871, -1.702]\n",
      "woex2 = [0.896, -0.47, -1.078, -1.616, -2.105, -4.266]\n",
      "woex3 = [1.902, 1.227, 0.873, 0.771, 0.503, 0.215, 0.022, -0.394, -0.862, -1.784]\n",
      "woex4 = [1.0, -0.098, -0.943, -1.772, -2.692, -3.759, -5.138]\n",
      "woex5 = [0.552, -0.086, -0.573, -0.865, -1.345, -3.033]\n",
      "woex6 = [0.691, -0.919, -0.999, -0.956, -0.646]\n",
      "woex7 = [-0.609, -0.703, -0.521, -0.481, -0.139, 0.059, 0.359, 0.689, 1.315, 1.777]\n",
      "woex8 = [-1.338, -1.316, -1.277, -0.962, -0.781, -0.609, -0.363, -0.261, -0.112, -0.076, 0.243, 1.219]\n",
      "woex9 = [0.513, -0.717, -1.43, -1.04, -1.413, -1.256]\n",
      "woex10 = [0.443, -0.981, -1.658, -2.221, -2.823, -3.33]\n",
      "woex11 = [0.343, -1.502, -2.005, -2.372, -2.66, -2.883]\n",
      "woex12 = [1.104, 0.044, -0.404, -0.896, -1.163, -1.872, -2.508]\n",
      "woex13 = [0.712, -0.167, -0.338, -0.162, 0.212, 0.47]\n"
     ]
    }
   ],
   "source": [
    "for i in range(1,14):\n",
    "    exec(\"print('woex%s =',woex%s)\"%(i,i))"
   ]
  },
  {
   "cell_type": "code",
   "execution_count": 111,
   "metadata": {},
   "outputs": [
    {
     "name": "stdout",
     "output_type": "stream",
     "text": [
      "cutx1 = [-inf, 891.102, 1409.628, 2165.43, 3167.068, 4656.48, 6886.692, 10651.84, 18862.02, 40665.782, inf]\n",
      "cutx2 = [-inf, 1, 3, 8, 12, 50, inf]\n",
      "cutx3 = [-inf, 6.0, 14.0, 27.0, 51.0, 85.0, 142.0, 244.0, 480.0, 1271.0, inf]\n",
      "cutx4 = [-inf, 60, 200, 700, 2000, 5000, 10000, inf]\n",
      "cutx5 = [-inf, 3, 6, 12, 20, 50, inf]\n",
      "cutx6 = [-inf, 0.005, 0.01, 0.015, 0.02, inf]\n",
      "cutx7 = [-inf, 20.073, 28.7217, 36.4717, 45.8384, 57.2259, 74.043, 98.3442, 141.3023, 254.55, inf]\n",
      "cutx8 = [-inf, 2000, 3000, 4000, 5000, 6000, 7000, 8000, 9000, 10000, 11000, 13000, inf]\n",
      "cutx9 = [-inf, 0.1, 0.2, 0.3, 0.4, 0.6, inf]\n",
      "cutx10 = [-inf, 50, 100, 200, 400, 1000, inf]\n",
      "cutx11 = [-inf, 1, 2, 5, 10, 20, inf]\n",
      "cutx12 = [-inf, 0.005, 0.01, 0.015, 0.02, 0.025, 0.05, inf]\n",
      "cutx13 = [-inf, 0.06, 0.1, 0.14, 0.2, 0.3, inf]\n"
     ]
    }
   ],
   "source": [
    "for i in range(1,14):\n",
    "    exec(\"print('cutx%s =',cutx%s)\"%(i,i))"
   ]
  },
  {
   "cell_type": "code",
   "execution_count": 43,
   "metadata": {
    "scrolled": true
   },
   "outputs": [
    {
     "data": {
      "text/plain": [
       "count    18169.000000\n",
       "mean         0.112854\n",
       "std          0.091386\n",
       "min          0.000000\n",
       "25%          0.062500\n",
       "50%          0.098000\n",
       "75%          0.140300\n",
       "max          1.000000\n",
       "Name: image_create_role_retain_1d, dtype: float64"
      ]
     },
     "execution_count": 43,
     "metadata": {},
     "output_type": "execute_result"
    }
   ],
   "source": [
    "image_info_label['image_create_role_retain_1d'].describe()"
   ]
  },
  {
   "cell_type": "code",
   "execution_count": 45,
   "metadata": {},
   "outputs": [
    {
     "data": {
      "image/png": "[encoded data removed]",
      "text/plain": [
       "<Figure size 432x288 with 1 Axes>"
      ]
     },
     "metadata": {
      "needs_background": "light"
     },
     "output_type": "display_data"
    }
   ],
   "source": [
    "plt.hist(image_info_label['image_create_role_retain_1d'],bins=50,range=(0,1))\n",
    "plt.show()"
   ]
  },
  {
   "cell_type": "code",
   "execution_count": 47,
   "metadata": {},
   "outputs": [
    {
     "name": "stdout",
     "output_type": "stream",
     "text": [
      "================================================================================\n",
      "================================================================================\n",
      "================================================================================\n",
      "================================================================================\n",
      "================================================================================\n",
      "================================================================================\n",
      "================================================================================\n",
      "================================================================================\n",
      "================================================================================\n",
      "================================================================================\n"
     ]
    }
   ],
   "source": [
    "dfx2,ivx2,woex2 = self_bin(image_info_label['label'],image_info_label['image_create_role_pay_num'],cutx2)\n",
    "dfx4,ivx4,woex4 = self_bin(image_info_label['label'],image_info_label['image_create_role_pay_sum'],cutx4)\n",
    "dfx5,ivx5,woex5 = self_bin(image_info_label['label'],image_info_label['image_source_num'],cutx5)\n",
    "dfx6,ivx6,woex6 = self_bin(image_info_label['label'],image_info_label['image_create_role_pay_rate'],cutx6)\n",
    "dfx8,ivx8,woex8 = self_bin(image_info_label['label'],image_info_label['image_create_role_pay_cost'],cutx8)\n",
    "dfx9,ivx9,woex9 = self_bin(image_info_label['label'],image_info_label['image_valid_source_rate'],cutx9)\n",
    "dfx10,ivx10,woex10 = self_bin(image_info_label['label'],image_info_label['image_pay_sum_ability'],cutx10)\n",
    "dfx11,ivx11,woex11 = self_bin(image_info_label['label'],image_info_label['image_pay_num_ability'],cutx11)\n",
    "dfx12,ivx12,woex12 = self_bin(image_info_label['label'],image_info_label['image_create_role_roi'],cutx12)\n",
    "dfx13,ivx13,woex13 = self_bin(image_info_label['label'],image_info_label['image_create_role_retain_1d'],cutx13)"
   ]
  },
  {
   "cell_type": "code",
   "execution_count": 49,
   "metadata": {},
   "outputs": [
    {
     "data": {
      "image/png": "[encoded data removed]",
      "text/plain": [
       "<Figure size 1440x576 with 1 Axes>"
      ]
     },
     "metadata": {
      "needs_background": "light"
     },
     "output_type": "display_data"
    }
   ],
   "source": [
    "y=[ivx1,ivx2,ivx3,ivx4,ivx5,ivx6,ivx7,ivx8,ivx9,ivx10,ivx11,ivx12,ivx13]\n",
    "index=['image_run_date_amount', 'image_create_role_pay_num',\n",
    "       'image_create_role_num', 'image_create_role_pay_sum',\n",
    "       'image_source_num', 'image_create_role_pay_rate',\n",
    "       'image_create_role_cost', 'image_create_role_pay_cost','image_valid_source_rate',\n",
    "       'image_pay_sum_ability', 'image_pay_num_ability',\n",
    "       'image_create_role_roi','image_create_role_retain_1d']\n",
    "fig= plt.figure(figsize = (20,8))\n",
    "ax1 = fig.add_subplot(1, 1, 1)\n",
    "ax1.bar(range(1,14), y, width=0.4,color = 'r',alpha = 0.6)#生成柱状图\n",
    "ax1.set_xticks(range(1,14))\n",
    "ax1.set_xticklabels(index, rotation=90, fontsize=12)\n",
    "ax1.set_ylabel('IV', fontsize=14)\n",
    "#在柱状图上添加数字标签\n",
    "for i, v in enumerate(y):\n",
    "    plt.text(i+1, v+0.01, '%.4f' % v, ha='center', va='bottom', fontsize=12)\n",
    "plt.show()"
   ]
  },
  {
   "cell_type": "code",
   "execution_count": 50,
   "metadata": {},
   "outputs": [],
   "source": [
    "\"\"\"\n",
    "根据IV值判断变量预测能力的标准:\n",
    "< 0.02： useless for predition\n",
    "0.02-0.1： weak predictor\n",
    "0.1-0.3： medium predictor\n",
    "0.3-0.5： strong predictor\n",
    "大于0.5： suspicious or too good to be true\n",
    "\"\"\"\n",
    "#删除掉iv小于0.1的变量\n",
    "select_feature = ['image_run_date_amount', 'image_create_role_pay_num',\n",
    "       'image_create_role_num', 'image_create_role_pay_sum',\n",
    "       'image_source_num', 'image_create_role_pay_rate',\n",
    "       'image_create_role_cost', 'image_create_role_pay_cost',\n",
    "       'image_valid_source_rate',\n",
    "       'image_pay_sum_ability', 'image_pay_num_ability',\n",
    "       'image_create_role_roi','image_create_role_retain_1d', 'label']"
   ]
  },
  {
   "cell_type": "code",
   "execution_count": 51,
   "metadata": {},
   "outputs": [
    {
     "data": {
      "text/plain": [
       "14"
      ]
     },
     "execution_count": 51,
     "metadata": {},
     "output_type": "execute_result"
    }
   ],
   "source": [
    "len(select_feature)"
   ]
  },
  {
   "cell_type": "code",
   "execution_count": 52,
   "metadata": {},
   "outputs": [],
   "source": [
    "def change_woe(d,cut,woe):\n",
    "    \"\"\"\n",
    "    将每个样本对应特征值更换为woe值\n",
    "    \"\"\"\n",
    "    list1=[]\n",
    "    i=0\n",
    "    while i<len(d):\n",
    "        value=d.values[i]\n",
    "        j=len(cut)-2\n",
    "        m=len(cut)-2\n",
    "        while j>=0:\n",
    "            if value>=cut[j]:\n",
    "                j=-1\n",
    "            else:\n",
    "                j -=1\n",
    "                m -= 1\n",
    "        list1.append(woe[m])\n",
    "        i += 1\n",
    "    return list1"
   ]
  },
  {
   "cell_type": "code",
   "execution_count": 53,
   "metadata": {},
   "outputs": [],
   "source": [
    "image_info_change = image_info_label.copy()"
   ]
  },
  {
   "cell_type": "code",
   "execution_count": 54,
   "metadata": {},
   "outputs": [
    {
     "data": {
      "text/plain": [
       "(18169, 18)"
      ]
     },
     "execution_count": 54,
     "metadata": {},
     "output_type": "execute_result"
    }
   ],
   "source": [
    "image_info_change.shape"
   ]
  },
  {
   "cell_type": "code",
   "execution_count": 55,
   "metadata": {},
   "outputs": [],
   "source": [
    "#数据转化\n",
    "image_info_change['image_run_date_amount'] = change_woe(image_info_change['image_run_date_amount'], cutx1, woex1)\n",
    "image_info_change['image_create_role_pay_num'] = change_woe(image_info_change['image_create_role_pay_num'], cutx2, woex2)\n",
    "image_info_change['image_create_role_num'] = change_woe(image_info_change['image_create_role_num'], cutx3, woex3)\n",
    "image_info_change['image_create_role_pay_sum'] = change_woe(image_info_change['image_create_role_pay_sum'], cutx4, woex4)\n",
    "image_info_change['image_source_num'] = change_woe(image_info_change['image_source_num'], cutx5, woex5)\n",
    "image_info_change['image_create_role_pay_rate'] = change_woe(image_info_change['image_create_role_pay_rate'], cutx6, woex6)\n",
    "image_info_change['image_create_role_cost'] = change_woe(image_info_change['image_create_role_cost'], cutx7, woex7)\n",
    "image_info_change['image_create_role_pay_cost'] = change_woe(image_info_change['image_create_role_pay_cost'], cutx8, woex8)\n",
    "image_info_change['image_valid_source_rate'] = change_woe(image_info_change['image_valid_source_rate'], cutx9, woex9)\n",
    "image_info_change['image_pay_sum_ability'] = change_woe(image_info_change['image_pay_sum_ability'], cutx10, woex10)\n",
    "image_info_change['image_pay_num_ability'] = change_woe(image_info_change['image_pay_num_ability'], cutx11, woex11)\n",
    "image_info_change['image_create_role_roi'] = change_woe(image_info_change['image_create_role_roi'], cutx12, woex12)\n",
    "image_info_change['image_create_role_retain_1d'] = change_woe(image_info_change['image_create_role_retain_1d'], cutx13, woex13)"
   ]
  },
  {
   "cell_type": "code",
   "execution_count": 56,
   "metadata": {},
   "outputs": [
    {
     "data": {
      "text/plain": [
       "(18169, 18)"
      ]
     },
     "execution_count": 56,
     "metadata": {},
     "output_type": "execute_result"
    }
   ],
   "source": [
    "image_info_change.shape"
   ]
  },
  {
   "cell_type": "code",
   "execution_count": 57,
   "metadata": {},
   "outputs": [
    {
     "data": {
      "text/html": [
       "<div>\n",
       "<style scoped>\n",
       "    .dataframe tbody tr th:only-of-type {\n",
       "        vertical-align: middle;\n",
       "    }\n",
       "\n",
       "    .dataframe tbody tr th {\n",
       "        vertical-align: top;\n",
       "    }\n",
       "\n",
       "    .dataframe thead th {\n",
       "        text-align: right;\n",
       "    }\n",
       "</style>\n",
       "<table border=\"1\" class=\"dataframe\">\n",
       "  <thead>\n",
       "    <tr style=\"text-align: right;\">\n",
       "      <th></th>\n",
       "      <th>image_id</th>\n",
       "      <th>image_run_date_amount</th>\n",
       "      <th>image_create_role_pay_num</th>\n",
       "      <th>image_create_role_num</th>\n",
       "      <th>image_create_role_pay_sum</th>\n",
       "      <th>image_source_num</th>\n",
       "      <th>image_create_role_pay_rate</th>\n",
       "      <th>image_create_role_cost</th>\n",
       "      <th>image_create_role_pay_cost</th>\n",
       "      <th>image_valid_source_num</th>\n",
       "      <th>image_valid_source_rate</th>\n",
       "      <th>image_pay_sum_ability</th>\n",
       "      <th>image_pay_num_ability</th>\n",
       "      <th>image_create_role_roi</th>\n",
       "      <th>image_create_role_retain_1d</th>\n",
       "      <th>create_role_30_pay_sum</th>\n",
       "      <th>model_run_datetime</th>\n",
       "      <th>label</th>\n",
       "    </tr>\n",
       "  </thead>\n",
       "  <tbody>\n",
       "    <tr>\n",
       "      <th>0</th>\n",
       "      <td>15133</td>\n",
       "      <td>1.332</td>\n",
       "      <td>0.896</td>\n",
       "      <td>1.902</td>\n",
       "      <td>1.0</td>\n",
       "      <td>0.552</td>\n",
       "      <td>0.691</td>\n",
       "      <td>1.315</td>\n",
       "      <td>1.219</td>\n",
       "      <td>0</td>\n",
       "      <td>0.513</td>\n",
       "      <td>0.443</td>\n",
       "      <td>0.343</td>\n",
       "      <td>1.104</td>\n",
       "      <td>0.712</td>\n",
       "      <td>0</td>\n",
       "      <td>2020-01-01</td>\n",
       "      <td>0</td>\n",
       "    </tr>\n",
       "    <tr>\n",
       "      <th>1</th>\n",
       "      <td>15213</td>\n",
       "      <td>-0.363</td>\n",
       "      <td>-0.470</td>\n",
       "      <td>0.022</td>\n",
       "      <td>1.0</td>\n",
       "      <td>0.552</td>\n",
       "      <td>-0.919</td>\n",
       "      <td>0.059</td>\n",
       "      <td>0.243</td>\n",
       "      <td>0</td>\n",
       "      <td>0.513</td>\n",
       "      <td>0.443</td>\n",
       "      <td>0.343</td>\n",
       "      <td>1.104</td>\n",
       "      <td>-0.338</td>\n",
       "      <td>628</td>\n",
       "      <td>2020-01-01</td>\n",
       "      <td>0</td>\n",
       "    </tr>\n",
       "    <tr>\n",
       "      <th>2</th>\n",
       "      <td>16276</td>\n",
       "      <td>1.202</td>\n",
       "      <td>0.896</td>\n",
       "      <td>0.771</td>\n",
       "      <td>1.0</td>\n",
       "      <td>0.552</td>\n",
       "      <td>0.691</td>\n",
       "      <td>-0.521</td>\n",
       "      <td>1.219</td>\n",
       "      <td>0</td>\n",
       "      <td>0.513</td>\n",
       "      <td>0.443</td>\n",
       "      <td>0.343</td>\n",
       "      <td>1.104</td>\n",
       "      <td>0.470</td>\n",
       "      <td>636</td>\n",
       "      <td>2020-01-01</td>\n",
       "      <td>1</td>\n",
       "    </tr>\n",
       "    <tr>\n",
       "      <th>3</th>\n",
       "      <td>16316</td>\n",
       "      <td>1.332</td>\n",
       "      <td>0.896</td>\n",
       "      <td>0.873</td>\n",
       "      <td>1.0</td>\n",
       "      <td>0.552</td>\n",
       "      <td>0.691</td>\n",
       "      <td>-0.481</td>\n",
       "      <td>1.219</td>\n",
       "      <td>0</td>\n",
       "      <td>0.513</td>\n",
       "      <td>0.443</td>\n",
       "      <td>0.343</td>\n",
       "      <td>1.104</td>\n",
       "      <td>0.712</td>\n",
       "      <td>898</td>\n",
       "      <td>2020-01-01</td>\n",
       "      <td>1</td>\n",
       "    </tr>\n",
       "    <tr>\n",
       "      <th>4</th>\n",
       "      <td>17089</td>\n",
       "      <td>0.216</td>\n",
       "      <td>-0.470</td>\n",
       "      <td>0.022</td>\n",
       "      <td>1.0</td>\n",
       "      <td>-0.086</td>\n",
       "      <td>-0.919</td>\n",
       "      <td>-0.703</td>\n",
       "      <td>-1.316</td>\n",
       "      <td>2</td>\n",
       "      <td>-1.413</td>\n",
       "      <td>0.443</td>\n",
       "      <td>-1.502</td>\n",
       "      <td>1.104</td>\n",
       "      <td>0.712</td>\n",
       "      <td>300</td>\n",
       "      <td>2020-01-01</td>\n",
       "      <td>0</td>\n",
       "    </tr>\n",
       "  </tbody>\n",
       "</table>\n",
       "</div>"
      ],
      "text/plain": [
       "   image_id  image_run_date_amount  image_create_role_pay_num  \\\n",
       "0     15133                  1.332                      0.896   \n",
       "1     15213                 -0.363                     -0.470   \n",
       "2     16276                  1.202                      0.896   \n",
       "3     16316                  1.332                      0.896   \n",
       "4     17089                  0.216                     -0.470   \n",
       "\n",
       "   image_create_role_num  image_create_role_pay_sum  image_source_num  \\\n",
       "0                  1.902                        1.0             0.552   \n",
       "1                  0.022                        1.0             0.552   \n",
       "2                  0.771                        1.0             0.552   \n",
       "3                  0.873                        1.0             0.552   \n",
       "4                  0.022                        1.0            -0.086   \n",
       "\n",
       "   image_create_role_pay_rate  image_create_role_cost  \\\n",
       "0                       0.691                   1.315   \n",
       "1                      -0.919                   0.059   \n",
       "2                       0.691                  -0.521   \n",
       "3                       0.691                  -0.481   \n",
       "4                      -0.919                  -0.703   \n",
       "\n",
       "   image_create_role_pay_cost  image_valid_source_num  \\\n",
       "0                       1.219                       0   \n",
       "1                       0.243                       0   \n",
       "2                       1.219                       0   \n",
       "3                       1.219                       0   \n",
       "4                      -1.316                       2   \n",
       "\n",
       "   image_valid_source_rate  image_pay_sum_ability  image_pay_num_ability  \\\n",
       "0                    0.513                  0.443                  0.343   \n",
       "1                    0.513                  0.443                  0.343   \n",
       "2                    0.513                  0.443                  0.343   \n",
       "3                    0.513                  0.443                  0.343   \n",
       "4                   -1.413                  0.443                 -1.502   \n",
       "\n",
       "   image_create_role_roi  image_create_role_retain_1d  create_role_30_pay_sum  \\\n",
       "0                  1.104                        0.712                       0   \n",
       "1                  1.104                       -0.338                     628   \n",
       "2                  1.104                        0.470                     636   \n",
       "3                  1.104                        0.712                     898   \n",
       "4                  1.104                        0.712                     300   \n",
       "\n",
       "  model_run_datetime  label  \n",
       "0         2020-01-01      0  \n",
       "1         2020-01-01      0  \n",
       "2         2020-01-01      1  \n",
       "3         2020-01-01      1  \n",
       "4         2020-01-01      0  "
      ]
     },
     "execution_count": 57,
     "metadata": {},
     "output_type": "execute_result"
    }
   ],
   "source": [
    "image_info_change.head()"
   ]
  },
  {
   "cell_type": "code",
   "execution_count": 809,
   "metadata": {},
   "outputs": [],
   "source": [
    "image_info_change.to_csv('./image_info_change.csv',index=0)"
   ]
  },
  {
   "cell_type": "code",
   "execution_count": 58,
   "metadata": {},
   "outputs": [],
   "source": [
    "data_info = image_info_change[select_feature]"
   ]
  },
  {
   "cell_type": "code",
   "execution_count": 59,
   "metadata": {},
   "outputs": [
    {
     "data": {
      "text/plain": [
       "(18169, 14)"
      ]
     },
     "execution_count": 59,
     "metadata": {},
     "output_type": "execute_result"
    }
   ],
   "source": [
    "data_info.shape"
   ]
  },
  {
   "cell_type": "code",
   "execution_count": 60,
   "metadata": {},
   "outputs": [],
   "source": [
    "#模型建立\n",
    "from sklearn.linear_model import LogisticRegression\n",
    "from sklearn.model_selection import train_test_split,GridSearchCV,RandomizedSearchCV\n",
    "from sklearn.ensemble import RandomForestClassifier\n",
    "from sklearn import svm\n",
    "import lightgbm as lgb\n",
    "from sklearn.neighbors import KNeighborsClassifier\n",
    "import time\n",
    "from sklearn.model_selection import cross_validate\n",
    "from sklearn.metrics import roc_curve, roc_auc_score,auc, classification_report"
   ]
  },
  {
   "cell_type": "code",
   "execution_count": 61,
   "metadata": {},
   "outputs": [],
   "source": [
    "x_train, x_test, y_train, y_test = train_test_split(data_info.drop('label',axis=1), data_info['label'], test_size=0.25, random_state=42)"
   ]
  },
  {
   "cell_type": "markdown",
   "metadata": {},
   "source": [
    "### RandomForestClassifier"
   ]
  },
  {
   "cell_type": "code",
   "execution_count": 62,
   "metadata": {},
   "outputs": [
    {
     "data": {
      "text/plain": [
       "RandomizedSearchCV(cv=5, estimator=RandomForestClassifier(),\n",
       "                   param_distributions={'max_depth': [2, 3, 5, 7, 9],\n",
       "                                        'min_samples_leaf': [2, 4, 6, 8],\n",
       "                                        'n_estimators': [9, 18, 27, 36, 100,\n",
       "                                                         150]})"
      ]
     },
     "execution_count": 62,
     "metadata": {},
     "output_type": "execute_result"
    }
   ],
   "source": [
    "RF = RandomForestClassifier()\n",
    "param_grid = { \n",
    "           \"n_estimators\" : [9, 18, 27, 36, 100, 150],\n",
    "           \"max_depth\" : [2,3,5,7,9],\n",
    "           \"min_samples_leaf\" : [2, 4, 6, 8]}\n",
    "RF_random = RandomizedSearchCV(RF, param_distributions=param_grid, cv=5)\n",
    "RF_random.fit(x_train, y_train)"
   ]
  },
  {
   "cell_type": "code",
   "execution_count": 63,
   "metadata": {},
   "outputs": [
    {
     "data": {
      "image/png": "[encoded data removed]",
      "text/plain": [
       "<Figure size 720x576 with 1 Axes>"
      ]
     },
     "metadata": {
      "needs_background": "light"
     },
     "output_type": "display_data"
    }
   ],
   "source": [
    "# 训练集评估\n",
    "best_est_RF = RF_random.best_estimator_\n",
    "y_pred = best_est_RF.predict_proba(x_train)\n",
    "y_pred = y_pred[:,1]\n",
    "fpr,tpr,_ = roc_curve(y_train, y_pred)\n",
    "roc_auc = auc(fpr, tpr)\n",
    "plt.figure(figsize=(10,8))\n",
    "plt.title('Receiver Operating Characteristic')\n",
    "sns.lineplot(fpr, tpr, label = 'AUC = %0.2f' % roc_auc)\n",
    "plt.legend(loc = 'lower right')\n",
    "plt.plot([0, 1], [0, 1],'r--')\n",
    "plt.ylabel('True Positive Rate')\n",
    "plt.xlabel('False Positive Rate')\n",
    "plt.show()"
   ]
  },
  {
   "cell_type": "code",
   "execution_count": 64,
   "metadata": {},
   "outputs": [
    {
     "data": {
      "image/png": "[encoded data removed]",
      "text/plain": [
       "<Figure size 720x576 with 1 Axes>"
      ]
     },
     "metadata": {
      "needs_background": "light"
     },
     "output_type": "display_data"
    }
   ],
   "source": [
    "# 测试集评估\n",
    "best_est_RF = RF_random.best_estimator_\n",
    "y_pred = best_est_RF.predict_proba(x_test)\n",
    "y_pred = y_pred[:,1]\n",
    "fpr,tpr,_ = roc_curve(y_test, y_pred)\n",
    "roc_auc = auc(fpr, tpr)\n",
    "plt.figure(figsize=(10,8))\n",
    "plt.title('Receiver Operating Characteristic')\n",
    "sns.lineplot(fpr, tpr, label = 'AUC = %0.2f' % roc_auc)\n",
    "plt.legend(loc = 'lower right')\n",
    "plt.plot([0, 1], [0, 1],'r--')\n",
    "plt.ylabel('True Positive Rate')\n",
    "plt.xlabel('False Positive Rate')\n",
    "plt.show()"
   ]
  },
  {
   "cell_type": "code",
   "execution_count": 65,
   "metadata": {
    "scrolled": true
   },
   "outputs": [
    {
     "name": "stdout",
     "output_type": "stream",
     "text": [
      "              precision    recall  f1-score   support\n",
      "\n",
      "           0       0.89      0.91      0.90      3577\n",
      "           1       0.62      0.57      0.59       966\n",
      "\n",
      "    accuracy                           0.83      4543\n",
      "   macro avg       0.75      0.74      0.74      4543\n",
      "weighted avg       0.83      0.83      0.83      4543\n",
      "\n"
     ]
    }
   ],
   "source": [
    "y_pred_class = list(map(lambda x:1 if x>=0.35 else 0, y_pred))\n",
    "print(classification_report(y_test, y_pred_class))"
   ]
  },
  {
   "cell_type": "code",
   "execution_count": 709,
   "metadata": {},
   "outputs": [
    {
     "data": {
      "text/plain": [
       "['best_est_RF.pkl']"
      ]
     },
     "execution_count": 709,
     "metadata": {},
     "output_type": "execute_result"
    }
   ],
   "source": [
    "import joblib\n",
    "joblib.dump(best_est_RF, 'best_est_RF.pkl')"
   ]
  },
  {
   "cell_type": "markdown",
   "metadata": {},
   "source": [
    "### LogisticRegression"
   ]
  },
  {
   "cell_type": "code",
   "execution_count": 66,
   "metadata": {},
   "outputs": [
    {
     "data": {
      "text/plain": [
       "RandomizedSearchCV(cv=5, estimator=LogisticRegression(),\n",
       "                   param_distributions={'C': [0.1, 0.2, 0.3, 0.4, 0.5, 0.6, 0.7,\n",
       "                                              0.8, 0.9, 1]})"
      ]
     },
     "execution_count": 66,
     "metadata": {},
     "output_type": "execute_result"
    }
   ],
   "source": [
    "LR = LogisticRegression()\n",
    "param_grid = {\"C\" : [0.1,0.2,0.3, 0.4, 0.5, 0.6, 0.7,0.8,0.9, 1]}\n",
    "LR_random = RandomizedSearchCV(LR, param_distributions=param_grid, cv=5)\n",
    "LR_random.fit(x_train, y_train)"
   ]
  },
  {
   "cell_type": "code",
   "execution_count": 67,
   "metadata": {},
   "outputs": [
    {
     "data": {
      "image/png": "[encoded data removed]",
      "text/plain": [
       "<Figure size 720x576 with 1 Axes>"
      ]
     },
     "metadata": {
      "needs_background": "light"
     },
     "output_type": "display_data"
    }
   ],
   "source": [
    "# 测试集评估\n",
    "best_est_LR = LR_random.best_estimator_\n",
    "y_pred = best_est_LR.predict_proba(x_test)\n",
    "y_pred = y_pred[:,1]\n",
    "fpr,tpr,_ = roc_curve(y_test, y_pred)\n",
    "roc_auc = auc(fpr, tpr)\n",
    "plt.figure(figsize=(10,8))\n",
    "plt.title('Receiver Operating Characteristic')\n",
    "sns.lineplot(fpr, tpr, label = 'AUC = %0.2f' % roc_auc)\n",
    "plt.legend(loc = 'lower right')\n",
    "plt.plot([0, 1], [0, 1],'r--')\n",
    "plt.ylabel('True Positive Rate')\n",
    "plt.xlabel('False Positive Rate')\n",
    "plt.show()"
   ]
  },
  {
   "cell_type": "code",
   "execution_count": 68,
   "metadata": {},
   "outputs": [
    {
     "name": "stdout",
     "output_type": "stream",
     "text": [
      "              precision    recall  f1-score   support\n",
      "\n",
      "           0       0.89      0.88      0.88      3577\n",
      "           1       0.57      0.60      0.59       966\n",
      "\n",
      "    accuracy                           0.82      4543\n",
      "   macro avg       0.73      0.74      0.74      4543\n",
      "weighted avg       0.82      0.82      0.82      4543\n",
      "\n"
     ]
    }
   ],
   "source": [
    "y_pred_class = list(map(lambda x:1 if x>=0.35 else 0, y_pred))\n",
    "print(classification_report(y_test, y_pred_class))"
   ]
  },
  {
   "cell_type": "markdown",
   "metadata": {},
   "source": [
    "### XGB"
   ]
  },
  {
   "cell_type": "code",
   "execution_count": 69,
   "metadata": {},
   "outputs": [
    {
     "data": {
      "text/plain": [
       "RandomizedSearchCV(cv=5,\n",
       "                   estimator=XGBClassifier(base_score=None, booster=None,\n",
       "                                           colsample_bylevel=None,\n",
       "                                           colsample_bynode=None,\n",
       "                                           colsample_bytree=None, gamma=None,\n",
       "                                           gpu_id=None, importance_type='gain',\n",
       "                                           interaction_constraints=None,\n",
       "                                           learning_rate=None,\n",
       "                                           max_delta_step=None, max_depth=None,\n",
       "                                           min_child_weight=None, missing=nan,\n",
       "                                           monotone_constraints=None,\n",
       "                                           n_estimators=100,...\n",
       "                                           num_parallel_tree=None,\n",
       "                                           random_state=None, reg_alpha=None,\n",
       "                                           reg_lambda=None,\n",
       "                                           scale_pos_weight=None,\n",
       "                                           subsample=None, tree_method=None,\n",
       "                                           validate_parameters=None,\n",
       "                                           verbosity=None),\n",
       "                   param_distributions={'colsample_bytree': [0.5, 0.7],\n",
       "                                        'gamma': [0.0, 0.1, 0.2, 0.3],\n",
       "                                        'learning_rate': [0.001, 0.01, 0.0001,\n",
       "                                                          0.05, 0.1],\n",
       "                                        'max_depth': [3, 4, 6, 8, 10, 12, 15,\n",
       "                                                      20, 25, 30],\n",
       "                                        'n_estimators': [100, 150, 200, 250,\n",
       "                                                         300]})"
      ]
     },
     "execution_count": 69,
     "metadata": {},
     "output_type": "execute_result"
    }
   ],
   "source": [
    "from xgboost import XGBClassifier\n",
    "XGB = XGBClassifier(n_jobs=-1) \n",
    " \n",
    "param_grid = {\n",
    "                  'n_estimators' :[100,150,200,250,300],\n",
    "                  \"learning_rate\" : [0.001,0.01,0.0001,0.05, 0.10 ],\n",
    "                  \"gamma\"            : [ 0.0, 0.1, 0.2 , 0.3 ],\n",
    "                  \"colsample_bytree\" : [0.5,0.7],\n",
    "                  'max_depth': [3,4,6,8,10,12,15,20,25,30]\n",
    "              }\n",
    "XGB_random = RandomizedSearchCV(XGB, param_distributions=param_grid, cv=5)\n",
    "XGB_random.fit(x_train,y_train)"
   ]
  },
  {
   "cell_type": "code",
   "execution_count": 70,
   "metadata": {},
   "outputs": [
    {
     "data": {
      "image/png": "[encoded data removed]",
      "text/plain": [
       "<Figure size 720x576 with 1 Axes>"
      ]
     },
     "metadata": {
      "needs_background": "light"
     },
     "output_type": "display_data"
    }
   ],
   "source": [
    "# 测试集评估\n",
    "best_est_XGB = XGB_random.best_estimator_\n",
    "y_pred = best_est_XGB.predict_proba(x_test)\n",
    "y_pred = y_pred[:,1]\n",
    "fpr,tpr,_ = roc_curve(y_test, y_pred)\n",
    "roc_auc = auc(fpr, tpr)\n",
    "plt.figure(figsize=(10,8))\n",
    "plt.title('Receiver Operating Characteristic')\n",
    "sns.lineplot(fpr, tpr, label = 'AUC = %0.2f' % roc_auc)\n",
    "plt.legend(loc = 'lower right')\n",
    "plt.plot([0, 1], [0, 1],'r--')\n",
    "plt.ylabel('True Positive Rate')\n",
    "plt.xlabel('False Positive Rate')\n",
    "plt.show()"
   ]
  },
  {
   "cell_type": "code",
   "execution_count": 71,
   "metadata": {},
   "outputs": [
    {
     "name": "stdout",
     "output_type": "stream",
     "text": [
      "              precision    recall  f1-score   support\n",
      "\n",
      "           0       0.89      0.91      0.90      3577\n",
      "           1       0.63      0.60      0.62       966\n",
      "\n",
      "    accuracy                           0.84      4543\n",
      "   macro avg       0.76      0.75      0.76      4543\n",
      "weighted avg       0.84      0.84      0.84      4543\n",
      "\n"
     ]
    }
   ],
   "source": [
    "y_pred_class = list(map(lambda x:1 if x>=0.35 else 0, y_pred))\n",
    "print(classification_report(y_test, y_pred_class))"
   ]
  },
  {
   "cell_type": "code",
   "execution_count": 708,
   "metadata": {},
   "outputs": [
    {
     "data": {
      "text/plain": [
       "['best_est_XGB.pkl']"
      ]
     },
     "execution_count": 708,
     "metadata": {},
     "output_type": "execute_result"
    }
   ],
   "source": [
    "joblib.dump(best_est_XGB, 'best_est_XGB.pkl')"
   ]
  },
  {
   "cell_type": "markdown",
   "metadata": {},
   "source": [
    "### lgb"
   ]
  },
  {
   "cell_type": "code",
   "execution_count": 72,
   "metadata": {},
   "outputs": [],
   "source": [
    "from lightgbm import LGBMClassifier"
   ]
  },
  {
   "cell_type": "code",
   "execution_count": 73,
   "metadata": {},
   "outputs": [
    {
     "data": {
      "text/plain": [
       "RandomizedSearchCV(cv=5,\n",
       "                   estimator=LGBMClassifier(metric='auc', objective='binary'),\n",
       "                   param_distributions={'bagging_fraction': [0.6, 0.7, 0.8, 0.9,\n",
       "                                                             0.95],\n",
       "                                        'bagging_freq': [2, 4, 5, 6, 8],\n",
       "                                        'cat_smooth': [1, 10, 15, 20, 35],\n",
       "                                        'feature_fraction': [0.6, 0.7, 0.8, 0.9,\n",
       "                                                             0.95],\n",
       "                                        'lambda_l1': [0, 0.1, 0.4, 0.5, 0.6],\n",
       "                                        'lambda_l2': [0, 10, 15, 35, 40],\n",
       "                                        'learning_rate': [0.01, 0.02, 0.05, 0.1,\n",
       "                                                          0.15],\n",
       "                                        'max_depth': [15, 20, 25, 30, 35]})"
      ]
     },
     "execution_count": 73,
     "metadata": {},
     "output_type": "execute_result"
    }
   ],
   "source": [
    "LGB = LGBMClassifier(boosting_type='gbdt',objective = 'binary',metric = 'auc',n_jobs=-1) \n",
    "param_grid = {\n",
    "              'max_depth': [15, 20, 25, 30, 35],\n",
    "              'learning_rate': [0.01, 0.02, 0.05, 0.1, 0.15],\n",
    "              'feature_fraction': [0.6, 0.7, 0.8, 0.9, 0.95],\n",
    "              'bagging_fraction': [0.6, 0.7, 0.8, 0.9, 0.95],\n",
    "              'bagging_freq': [2, 4, 5, 6, 8],\n",
    "              'lambda_l1': [0, 0.1, 0.4, 0.5, 0.6],\n",
    "              'lambda_l2': [0, 10, 15, 35, 40],\n",
    "              'cat_smooth': [1, 10, 15, 20, 35]\n",
    "}\n",
    "LGB_random = RandomizedSearchCV(LGB, param_distributions=param_grid, cv=5)\n",
    "LGB_random.fit(x_train,y_train)"
   ]
  },
  {
   "cell_type": "code",
   "execution_count": 74,
   "metadata": {},
   "outputs": [
    {
     "data": {
      "image/png": "[encoded data removed]",
      "text/plain": [
       "<Figure size 720x576 with 1 Axes>"
      ]
     },
     "metadata": {
      "needs_background": "light"
     },
     "output_type": "display_data"
    }
   ],
   "source": [
    "# 测试集评估\n",
    "best_est_LGB = LGB_random.best_estimator_\n",
    "y_pred = best_est_LGB.predict_proba(x_test)\n",
    "y_pred = y_pred[:,1]\n",
    "fpr,tpr,_ = roc_curve(y_test, y_pred)\n",
    "roc_auc = auc(fpr, tpr)\n",
    "plt.figure(figsize=(10,8))\n",
    "plt.title('Receiver Operating Characteristic')\n",
    "sns.lineplot(fpr, tpr, label = 'AUC = %0.2f' % roc_auc)\n",
    "plt.legend(loc = 'lower right')\n",
    "plt.plot([0, 1], [0, 1],'r--')\n",
    "plt.ylabel('True Positive Rate')\n",
    "plt.xlabel('False Positive Rate')\n",
    "plt.show()"
   ]
  },
  {
   "cell_type": "code",
   "execution_count": 710,
   "metadata": {},
   "outputs": [
    {
     "data": {
      "text/plain": [
       "['best_est_LGB.pkl']"
      ]
     },
     "execution_count": 710,
     "metadata": {},
     "output_type": "execute_result"
    }
   ],
   "source": [
    "joblib.dump(best_est_LGB, 'best_est_LGB.pkl')"
   ]
  },
  {
   "cell_type": "markdown",
   "metadata": {},
   "source": [
    "### 选XGB + LGB +RF融合"
   ]
  },
  {
   "cell_type": "code",
   "execution_count": 638,
   "metadata": {},
   "outputs": [
    {
     "data": {
      "text/plain": [
       "XGBClassifier(base_score=0.5, booster='gbtree', colsample_bylevel=1,\n",
       "              colsample_bynode=1, colsample_bytree=0.7, gamma=0.0, gpu_id=-1,\n",
       "              importance_type='gain', interaction_constraints='',\n",
       "              learning_rate=0.1, max_delta_step=0, max_depth=30,\n",
       "              min_child_weight=1, missing=nan, monotone_constraints='()',\n",
       "              n_estimators=300, n_jobs=-1, num_parallel_tree=1, random_state=0,\n",
       "              reg_alpha=0, reg_lambda=1, scale_pos_weight=1, subsample=1,\n",
       "              tree_method='exact', validate_parameters=1, verbosity=None)"
      ]
     },
     "execution_count": 638,
     "metadata": {},
     "output_type": "execute_result"
    }
   ],
   "source": [
    "XGB_random.best_estimator_"
   ]
  },
  {
   "cell_type": "code",
   "execution_count": 639,
   "metadata": {},
   "outputs": [
    {
     "data": {
      "text/plain": [
       "LGBMClassifier(bagging_fraction=0.8, bagging_freq=4, cat_smooth=15,\n",
       "               feature_fraction=0.95, lambda_l1=0.4, lambda_l2=15,\n",
       "               learning_rate=0.15, max_depth=15, metric='auc',\n",
       "               objective='binary')"
      ]
     },
     "execution_count": 639,
     "metadata": {},
     "output_type": "execute_result"
    }
   ],
   "source": [
    "LGB_random.best_estimator_"
   ]
  },
  {
   "cell_type": "code",
   "execution_count": 640,
   "metadata": {},
   "outputs": [
    {
     "data": {
      "text/plain": [
       "RandomForestClassifier(max_depth=9, min_samples_leaf=2, n_estimators=150)"
      ]
     },
     "execution_count": 640,
     "metadata": {},
     "output_type": "execute_result"
    }
   ],
   "source": [
    "RF_random.best_estimator_"
   ]
  },
  {
   "cell_type": "code",
   "execution_count": 75,
   "metadata": {},
   "outputs": [],
   "source": [
    "y_pred = 0.4* best_est_XGB.predict_proba(x_test)[:,1] + 0.3*best_est_LGB.predict_proba(x_test)[:,1] + 0.3*best_est_RF.predict_proba(x_test)[:,1]"
   ]
  },
  {
   "cell_type": "code",
   "execution_count": 76,
   "metadata": {},
   "outputs": [
    {
     "data": {
      "image/png": "[encoded data removed]",
      "text/plain": [
       "<Figure size 720x576 with 1 Axes>"
      ]
     },
     "metadata": {
      "needs_background": "light"
     },
     "output_type": "display_data"
    }
   ],
   "source": [
    "fpr,tpr,_ = roc_curve(y_test, y_pred)\n",
    "roc_auc = auc(fpr, tpr)\n",
    "plt.figure(figsize=(10,8))\n",
    "plt.title('Receiver Operating Characteristic')\n",
    "sns.lineplot(fpr, tpr, label = 'AUC = %0.2f' % roc_auc)\n",
    "plt.legend(loc = 'lower right')\n",
    "plt.plot([0, 1], [0, 1],'r--')\n",
    "plt.ylabel('True Positive Rate')\n",
    "plt.xlabel('False Positive Rate')\n",
    "plt.show()"
   ]
  },
  {
   "cell_type": "code",
   "execution_count": 77,
   "metadata": {},
   "outputs": [
    {
     "name": "stdout",
     "output_type": "stream",
     "text": [
      "              precision    recall  f1-score   support\n",
      "\n",
      "           0       0.90      0.89      0.89      3577\n",
      "           1       0.61      0.64      0.62       966\n",
      "\n",
      "    accuracy                           0.83      4543\n",
      "   macro avg       0.75      0.76      0.76      4543\n",
      "weighted avg       0.84      0.83      0.84      4543\n",
      "\n"
     ]
    }
   ],
   "source": [
    "y_pred_class = list(map(lambda x:1 if x>=0.3 else 0, y_pred))\n",
    "print(classification_report(y_test, y_pred_class))"
   ]
  },
  {
   "cell_type": "markdown",
   "metadata": {},
   "source": [
    "### 转化为分数"
   ]
  },
  {
   "cell_type": "code",
   "execution_count": 78,
   "metadata": {},
   "outputs": [
    {
     "data": {
      "text/html": [
       "<div>\n",
       "<style scoped>\n",
       "    .dataframe tbody tr th:only-of-type {\n",
       "        vertical-align: middle;\n",
       "    }\n",
       "\n",
       "    .dataframe tbody tr th {\n",
       "        vertical-align: top;\n",
       "    }\n",
       "\n",
       "    .dataframe thead th {\n",
       "        text-align: right;\n",
       "    }\n",
       "</style>\n",
       "<table border=\"1\" class=\"dataframe\">\n",
       "  <thead>\n",
       "    <tr style=\"text-align: right;\">\n",
       "      <th></th>\n",
       "      <th>image_id</th>\n",
       "      <th>image_run_date_amount</th>\n",
       "      <th>image_create_role_pay_num</th>\n",
       "      <th>image_create_role_num</th>\n",
       "      <th>image_create_role_pay_sum</th>\n",
       "      <th>image_source_num</th>\n",
       "      <th>image_create_role_pay_rate</th>\n",
       "      <th>image_create_role_cost</th>\n",
       "      <th>image_create_role_pay_cost</th>\n",
       "      <th>image_valid_source_num</th>\n",
       "      <th>image_valid_source_rate</th>\n",
       "      <th>image_pay_sum_ability</th>\n",
       "      <th>image_pay_num_ability</th>\n",
       "      <th>image_create_role_roi</th>\n",
       "      <th>image_create_role_retain_1d</th>\n",
       "      <th>create_role_30_pay_sum</th>\n",
       "      <th>model_run_datetime</th>\n",
       "      <th>label</th>\n",
       "    </tr>\n",
       "  </thead>\n",
       "  <tbody>\n",
       "    <tr>\n",
       "      <th>0</th>\n",
       "      <td>15133</td>\n",
       "      <td>1.332</td>\n",
       "      <td>0.896</td>\n",
       "      <td>1.902</td>\n",
       "      <td>1.0</td>\n",
       "      <td>0.552</td>\n",
       "      <td>0.691</td>\n",
       "      <td>1.315</td>\n",
       "      <td>1.219</td>\n",
       "      <td>0</td>\n",
       "      <td>0.513</td>\n",
       "      <td>0.443</td>\n",
       "      <td>0.343</td>\n",
       "      <td>1.104</td>\n",
       "      <td>0.712</td>\n",
       "      <td>0</td>\n",
       "      <td>2020-01-01</td>\n",
       "      <td>0</td>\n",
       "    </tr>\n",
       "    <tr>\n",
       "      <th>1</th>\n",
       "      <td>15213</td>\n",
       "      <td>-0.363</td>\n",
       "      <td>-0.470</td>\n",
       "      <td>0.022</td>\n",
       "      <td>1.0</td>\n",
       "      <td>0.552</td>\n",
       "      <td>-0.919</td>\n",
       "      <td>0.059</td>\n",
       "      <td>0.243</td>\n",
       "      <td>0</td>\n",
       "      <td>0.513</td>\n",
       "      <td>0.443</td>\n",
       "      <td>0.343</td>\n",
       "      <td>1.104</td>\n",
       "      <td>-0.338</td>\n",
       "      <td>628</td>\n",
       "      <td>2020-01-01</td>\n",
       "      <td>0</td>\n",
       "    </tr>\n",
       "    <tr>\n",
       "      <th>2</th>\n",
       "      <td>16276</td>\n",
       "      <td>1.202</td>\n",
       "      <td>0.896</td>\n",
       "      <td>0.771</td>\n",
       "      <td>1.0</td>\n",
       "      <td>0.552</td>\n",
       "      <td>0.691</td>\n",
       "      <td>-0.521</td>\n",
       "      <td>1.219</td>\n",
       "      <td>0</td>\n",
       "      <td>0.513</td>\n",
       "      <td>0.443</td>\n",
       "      <td>0.343</td>\n",
       "      <td>1.104</td>\n",
       "      <td>0.470</td>\n",
       "      <td>636</td>\n",
       "      <td>2020-01-01</td>\n",
       "      <td>1</td>\n",
       "    </tr>\n",
       "    <tr>\n",
       "      <th>3</th>\n",
       "      <td>16316</td>\n",
       "      <td>1.332</td>\n",
       "      <td>0.896</td>\n",
       "      <td>0.873</td>\n",
       "      <td>1.0</td>\n",
       "      <td>0.552</td>\n",
       "      <td>0.691</td>\n",
       "      <td>-0.481</td>\n",
       "      <td>1.219</td>\n",
       "      <td>0</td>\n",
       "      <td>0.513</td>\n",
       "      <td>0.443</td>\n",
       "      <td>0.343</td>\n",
       "      <td>1.104</td>\n",
       "      <td>0.712</td>\n",
       "      <td>898</td>\n",
       "      <td>2020-01-01</td>\n",
       "      <td>1</td>\n",
       "    </tr>\n",
       "    <tr>\n",
       "      <th>4</th>\n",
       "      <td>17089</td>\n",
       "      <td>0.216</td>\n",
       "      <td>-0.470</td>\n",
       "      <td>0.022</td>\n",
       "      <td>1.0</td>\n",
       "      <td>-0.086</td>\n",
       "      <td>-0.919</td>\n",
       "      <td>-0.703</td>\n",
       "      <td>-1.316</td>\n",
       "      <td>2</td>\n",
       "      <td>-1.413</td>\n",
       "      <td>0.443</td>\n",
       "      <td>-1.502</td>\n",
       "      <td>1.104</td>\n",
       "      <td>0.712</td>\n",
       "      <td>300</td>\n",
       "      <td>2020-01-01</td>\n",
       "      <td>0</td>\n",
       "    </tr>\n",
       "  </tbody>\n",
       "</table>\n",
       "</div>"
      ],
      "text/plain": [
       "   image_id  image_run_date_amount  image_create_role_pay_num  \\\n",
       "0     15133                  1.332                      0.896   \n",
       "1     15213                 -0.363                     -0.470   \n",
       "2     16276                  1.202                      0.896   \n",
       "3     16316                  1.332                      0.896   \n",
       "4     17089                  0.216                     -0.470   \n",
       "\n",
       "   image_create_role_num  image_create_role_pay_sum  image_source_num  \\\n",
       "0                  1.902                        1.0             0.552   \n",
       "1                  0.022                        1.0             0.552   \n",
       "2                  0.771                        1.0             0.552   \n",
       "3                  0.873                        1.0             0.552   \n",
       "4                  0.022                        1.0            -0.086   \n",
       "\n",
       "   image_create_role_pay_rate  image_create_role_cost  \\\n",
       "0                       0.691                   1.315   \n",
       "1                      -0.919                   0.059   \n",
       "2                       0.691                  -0.521   \n",
       "3                       0.691                  -0.481   \n",
       "4                      -0.919                  -0.703   \n",
       "\n",
       "   image_create_role_pay_cost  image_valid_source_num  \\\n",
       "0                       1.219                       0   \n",
       "1                       0.243                       0   \n",
       "2                       1.219                       0   \n",
       "3                       1.219                       0   \n",
       "4                      -1.316                       2   \n",
       "\n",
       "   image_valid_source_rate  image_pay_sum_ability  image_pay_num_ability  \\\n",
       "0                    0.513                  0.443                  0.343   \n",
       "1                    0.513                  0.443                  0.343   \n",
       "2                    0.513                  0.443                  0.343   \n",
       "3                    0.513                  0.443                  0.343   \n",
       "4                   -1.413                  0.443                 -1.502   \n",
       "\n",
       "   image_create_role_roi  image_create_role_retain_1d  create_role_30_pay_sum  \\\n",
       "0                  1.104                        0.712                       0   \n",
       "1                  1.104                       -0.338                     628   \n",
       "2                  1.104                        0.470                     636   \n",
       "3                  1.104                        0.712                     898   \n",
       "4                  1.104                        0.712                     300   \n",
       "\n",
       "  model_run_datetime  label  \n",
       "0         2020-01-01      0  \n",
       "1         2020-01-01      0  \n",
       "2         2020-01-01      1  \n",
       "3         2020-01-01      1  \n",
       "4         2020-01-01      0  "
      ]
     },
     "execution_count": 78,
     "metadata": {},
     "output_type": "execute_result"
    }
   ],
   "source": [
    "image_info_change.head()"
   ]
  },
  {
   "cell_type": "code",
   "execution_count": 79,
   "metadata": {
    "scrolled": true
   },
   "outputs": [],
   "source": [
    "feature = image_info_change[select_feature].drop('label',axis=1)\n",
    "image_info_change['pred'] = 0.4* best_est_XGB.predict_proba(feature)[:,1] + 0.3*best_est_LGB.predict_proba(feature)[:,1] + 0.3*best_est_RF.predict_proba(feature)[:,1]"
   ]
  },
  {
   "cell_type": "code",
   "execution_count": 80,
   "metadata": {},
   "outputs": [
    {
     "data": {
      "text/plain": [
       "(18169, 19)"
      ]
     },
     "execution_count": 80,
     "metadata": {},
     "output_type": "execute_result"
    }
   ],
   "source": [
    "image_info_change.shape"
   ]
  },
  {
   "cell_type": "code",
   "execution_count": 81,
   "metadata": {},
   "outputs": [
    {
     "data": {
      "text/html": [
       "<div>\n",
       "<style scoped>\n",
       "    .dataframe tbody tr th:only-of-type {\n",
       "        vertical-align: middle;\n",
       "    }\n",
       "\n",
       "    .dataframe tbody tr th {\n",
       "        vertical-align: top;\n",
       "    }\n",
       "\n",
       "    .dataframe thead th {\n",
       "        text-align: right;\n",
       "    }\n",
       "</style>\n",
       "<table border=\"1\" class=\"dataframe\">\n",
       "  <thead>\n",
       "    <tr style=\"text-align: right;\">\n",
       "      <th></th>\n",
       "      <th>image_id</th>\n",
       "      <th>image_run_date_amount</th>\n",
       "      <th>image_create_role_pay_num</th>\n",
       "      <th>image_create_role_num</th>\n",
       "      <th>image_create_role_pay_sum</th>\n",
       "      <th>image_source_num</th>\n",
       "      <th>image_create_role_pay_rate</th>\n",
       "      <th>image_create_role_cost</th>\n",
       "      <th>image_create_role_pay_cost</th>\n",
       "      <th>image_valid_source_num</th>\n",
       "      <th>image_valid_source_rate</th>\n",
       "      <th>image_pay_sum_ability</th>\n",
       "      <th>image_pay_num_ability</th>\n",
       "      <th>image_create_role_roi</th>\n",
       "      <th>image_create_role_retain_1d</th>\n",
       "      <th>create_role_30_pay_sum</th>\n",
       "      <th>model_run_datetime</th>\n",
       "      <th>label</th>\n",
       "      <th>pred</th>\n",
       "    </tr>\n",
       "  </thead>\n",
       "  <tbody>\n",
       "    <tr>\n",
       "      <th>0</th>\n",
       "      <td>15133</td>\n",
       "      <td>1.332</td>\n",
       "      <td>0.896</td>\n",
       "      <td>1.902</td>\n",
       "      <td>1.0</td>\n",
       "      <td>0.552</td>\n",
       "      <td>0.691</td>\n",
       "      <td>1.315</td>\n",
       "      <td>1.219</td>\n",
       "      <td>0</td>\n",
       "      <td>0.513</td>\n",
       "      <td>0.443</td>\n",
       "      <td>0.343</td>\n",
       "      <td>1.104</td>\n",
       "      <td>0.712</td>\n",
       "      <td>0</td>\n",
       "      <td>2020-01-01</td>\n",
       "      <td>0</td>\n",
       "      <td>0.005736</td>\n",
       "    </tr>\n",
       "    <tr>\n",
       "      <th>1</th>\n",
       "      <td>15213</td>\n",
       "      <td>-0.363</td>\n",
       "      <td>-0.470</td>\n",
       "      <td>0.022</td>\n",
       "      <td>1.0</td>\n",
       "      <td>0.552</td>\n",
       "      <td>-0.919</td>\n",
       "      <td>0.059</td>\n",
       "      <td>0.243</td>\n",
       "      <td>0</td>\n",
       "      <td>0.513</td>\n",
       "      <td>0.443</td>\n",
       "      <td>0.343</td>\n",
       "      <td>1.104</td>\n",
       "      <td>-0.338</td>\n",
       "      <td>628</td>\n",
       "      <td>2020-01-01</td>\n",
       "      <td>0</td>\n",
       "      <td>0.114287</td>\n",
       "    </tr>\n",
       "    <tr>\n",
       "      <th>2</th>\n",
       "      <td>16276</td>\n",
       "      <td>1.202</td>\n",
       "      <td>0.896</td>\n",
       "      <td>0.771</td>\n",
       "      <td>1.0</td>\n",
       "      <td>0.552</td>\n",
       "      <td>0.691</td>\n",
       "      <td>-0.521</td>\n",
       "      <td>1.219</td>\n",
       "      <td>0</td>\n",
       "      <td>0.513</td>\n",
       "      <td>0.443</td>\n",
       "      <td>0.343</td>\n",
       "      <td>1.104</td>\n",
       "      <td>0.470</td>\n",
       "      <td>636</td>\n",
       "      <td>2020-01-01</td>\n",
       "      <td>1</td>\n",
       "      <td>0.207224</td>\n",
       "    </tr>\n",
       "    <tr>\n",
       "      <th>3</th>\n",
       "      <td>16316</td>\n",
       "      <td>1.332</td>\n",
       "      <td>0.896</td>\n",
       "      <td>0.873</td>\n",
       "      <td>1.0</td>\n",
       "      <td>0.552</td>\n",
       "      <td>0.691</td>\n",
       "      <td>-0.481</td>\n",
       "      <td>1.219</td>\n",
       "      <td>0</td>\n",
       "      <td>0.513</td>\n",
       "      <td>0.443</td>\n",
       "      <td>0.343</td>\n",
       "      <td>1.104</td>\n",
       "      <td>0.712</td>\n",
       "      <td>898</td>\n",
       "      <td>2020-01-01</td>\n",
       "      <td>1</td>\n",
       "      <td>0.052679</td>\n",
       "    </tr>\n",
       "    <tr>\n",
       "      <th>4</th>\n",
       "      <td>17089</td>\n",
       "      <td>0.216</td>\n",
       "      <td>-0.470</td>\n",
       "      <td>0.022</td>\n",
       "      <td>1.0</td>\n",
       "      <td>-0.086</td>\n",
       "      <td>-0.919</td>\n",
       "      <td>-0.703</td>\n",
       "      <td>-1.316</td>\n",
       "      <td>2</td>\n",
       "      <td>-1.413</td>\n",
       "      <td>0.443</td>\n",
       "      <td>-1.502</td>\n",
       "      <td>1.104</td>\n",
       "      <td>0.712</td>\n",
       "      <td>300</td>\n",
       "      <td>2020-01-01</td>\n",
       "      <td>0</td>\n",
       "      <td>0.161114</td>\n",
       "    </tr>\n",
       "  </tbody>\n",
       "</table>\n",
       "</div>"
      ],
      "text/plain": [
       "   image_id  image_run_date_amount  image_create_role_pay_num  \\\n",
       "0     15133                  1.332                      0.896   \n",
       "1     15213                 -0.363                     -0.470   \n",
       "2     16276                  1.202                      0.896   \n",
       "3     16316                  1.332                      0.896   \n",
       "4     17089                  0.216                     -0.470   \n",
       "\n",
       "   image_create_role_num  image_create_role_pay_sum  image_source_num  \\\n",
       "0                  1.902                        1.0             0.552   \n",
       "1                  0.022                        1.0             0.552   \n",
       "2                  0.771                        1.0             0.552   \n",
       "3                  0.873                        1.0             0.552   \n",
       "4                  0.022                        1.0            -0.086   \n",
       "\n",
       "   image_create_role_pay_rate  image_create_role_cost  \\\n",
       "0                       0.691                   1.315   \n",
       "1                      -0.919                   0.059   \n",
       "2                       0.691                  -0.521   \n",
       "3                       0.691                  -0.481   \n",
       "4                      -0.919                  -0.703   \n",
       "\n",
       "   image_create_role_pay_cost  image_valid_source_num  \\\n",
       "0                       1.219                       0   \n",
       "1                       0.243                       0   \n",
       "2                       1.219                       0   \n",
       "3                       1.219                       0   \n",
       "4                      -1.316                       2   \n",
       "\n",
       "   image_valid_source_rate  image_pay_sum_ability  image_pay_num_ability  \\\n",
       "0                    0.513                  0.443                  0.343   \n",
       "1                    0.513                  0.443                  0.343   \n",
       "2                    0.513                  0.443                  0.343   \n",
       "3                    0.513                  0.443                  0.343   \n",
       "4                   -1.413                  0.443                 -1.502   \n",
       "\n",
       "   image_create_role_roi  image_create_role_retain_1d  create_role_30_pay_sum  \\\n",
       "0                  1.104                        0.712                       0   \n",
       "1                  1.104                       -0.338                     628   \n",
       "2                  1.104                        0.470                     636   \n",
       "3                  1.104                        0.712                     898   \n",
       "4                  1.104                        0.712                     300   \n",
       "\n",
       "  model_run_datetime  label      pred  \n",
       "0         2020-01-01      0  0.005736  \n",
       "1         2020-01-01      0  0.114287  \n",
       "2         2020-01-01      1  0.207224  \n",
       "3         2020-01-01      1  0.052679  \n",
       "4         2020-01-01      0  0.161114  "
      ]
     },
     "execution_count": 81,
     "metadata": {},
     "output_type": "execute_result"
    }
   ],
   "source": [
    "image_info_change.head()"
   ]
  },
  {
   "cell_type": "code",
   "execution_count": 830,
   "metadata": {},
   "outputs": [],
   "source": [
    "image_info_change.to_csv('./image_info_change.csv',index=0)"
   ]
  },
  {
   "cell_type": "code",
   "execution_count": 831,
   "metadata": {},
   "outputs": [],
   "source": [
    "image_info_label.to_csv('./image_info_label.csv',index=0)"
   ]
  },
  {
   "cell_type": "code",
   "execution_count": 82,
   "metadata": {},
   "outputs": [
    {
     "data": {
      "image/png": "[encoded data removed]",
      "text/plain": [
       "<Figure size 720x576 with 1 Axes>"
      ]
     },
     "metadata": {
      "needs_background": "light"
     },
     "output_type": "display_data"
    }
   ],
   "source": [
    "fpr,tpr,_ = roc_curve(image_info_change['label'], image_info_change['pred'])\n",
    "roc_auc = auc(fpr, tpr)\n",
    "plt.figure(figsize=(10,8))\n",
    "plt.title('Receiver Operating Characteristic')\n",
    "sns.lineplot(fpr, tpr, label = 'AUC = %0.2f' % roc_auc)\n",
    "plt.legend(loc = 'lower right')\n",
    "plt.plot([0, 1], [0, 1],'r--')\n",
    "plt.ylabel('True Positive Rate')\n",
    "plt.xlabel('False Positive Rate')\n",
    "plt.show()"
   ]
  },
  {
   "cell_type": "code",
   "execution_count": 83,
   "metadata": {},
   "outputs": [
    {
     "name": "stdout",
     "output_type": "stream",
     "text": [
      "              precision    recall  f1-score   support\n",
      "\n",
      "           0       0.93      0.92      0.92     14197\n",
      "           1       0.71      0.74      0.73      3972\n",
      "\n",
      "    accuracy                           0.88     18169\n",
      "   macro avg       0.82      0.83      0.83     18169\n",
      "weighted avg       0.88      0.88      0.88     18169\n",
      "\n"
     ]
    }
   ],
   "source": [
    "y_pred_class = list(map(lambda x:1 if x>=0.3 else 0, image_info_change['pred']))\n",
    "print(classification_report(image_info_change['label'], y_pred_class))"
   ]
  },
  {
   "cell_type": "code",
   "execution_count": 84,
   "metadata": {},
   "outputs": [],
   "source": [
    "def Prob2Score(prob, basePoint=600, PDO=30):\n",
    "    #将概率转化成分数且为正整数\n",
    "    y = np.log(prob/(1-prob))\n",
    "    return (basePoint+int(PDO/np.log(2)*(y)))"
   ]
  },
  {
   "cell_type": "code",
   "execution_count": 85,
   "metadata": {},
   "outputs": [
    {
     "data": {
      "text/plain": [
       "564"
      ]
     },
     "execution_count": 85,
     "metadata": {},
     "output_type": "execute_result"
    }
   ],
   "source": [
    "Prob2Score(0.3)"
   ]
  },
  {
   "cell_type": "code",
   "execution_count": 86,
   "metadata": {},
   "outputs": [],
   "source": [
    "image_info_change['score'] = image_info_change['pred'].apply(Prob2Score)"
   ]
  },
  {
   "cell_type": "code",
   "execution_count": 87,
   "metadata": {},
   "outputs": [],
   "source": [
    "image_info_label['score'] = image_info_change['score']"
   ]
  },
  {
   "cell_type": "code",
   "execution_count": 88,
   "metadata": {},
   "outputs": [
    {
     "data": {
      "text/html": [
       "<div>\n",
       "<style scoped>\n",
       "    .dataframe tbody tr th:only-of-type {\n",
       "        vertical-align: middle;\n",
       "    }\n",
       "\n",
       "    .dataframe tbody tr th {\n",
       "        vertical-align: top;\n",
       "    }\n",
       "\n",
       "    .dataframe thead th {\n",
       "        text-align: right;\n",
       "    }\n",
       "</style>\n",
       "<table border=\"1\" class=\"dataframe\">\n",
       "  <thead>\n",
       "    <tr style=\"text-align: right;\">\n",
       "      <th></th>\n",
       "      <th>image_id</th>\n",
       "      <th>image_run_date_amount</th>\n",
       "      <th>image_create_role_pay_num</th>\n",
       "      <th>image_create_role_num</th>\n",
       "      <th>image_create_role_pay_sum</th>\n",
       "      <th>image_source_num</th>\n",
       "      <th>image_create_role_pay_rate</th>\n",
       "      <th>image_create_role_cost</th>\n",
       "      <th>image_create_role_pay_cost</th>\n",
       "      <th>image_valid_source_num</th>\n",
       "      <th>image_valid_source_rate</th>\n",
       "      <th>image_pay_sum_ability</th>\n",
       "      <th>image_pay_num_ability</th>\n",
       "      <th>image_create_role_roi</th>\n",
       "      <th>image_create_role_retain_1d</th>\n",
       "      <th>create_role_30_pay_sum</th>\n",
       "      <th>model_run_datetime</th>\n",
       "      <th>label</th>\n",
       "      <th>score</th>\n",
       "    </tr>\n",
       "  </thead>\n",
       "  <tbody>\n",
       "    <tr>\n",
       "      <th>0</th>\n",
       "      <td>15133</td>\n",
       "      <td>837.64</td>\n",
       "      <td>0</td>\n",
       "      <td>4</td>\n",
       "      <td>0</td>\n",
       "      <td>1</td>\n",
       "      <td>0.0000</td>\n",
       "      <td>209.410000</td>\n",
       "      <td>inf</td>\n",
       "      <td>0</td>\n",
       "      <td>0.0</td>\n",
       "      <td>0.0</td>\n",
       "      <td>0.0</td>\n",
       "      <td>0.000000</td>\n",
       "      <td>0.0000</td>\n",
       "      <td>0</td>\n",
       "      <td>2020-01-01</td>\n",
       "      <td>0</td>\n",
       "      <td>377</td>\n",
       "    </tr>\n",
       "    <tr>\n",
       "      <th>1</th>\n",
       "      <td>15213</td>\n",
       "      <td>11343.97</td>\n",
       "      <td>1</td>\n",
       "      <td>187</td>\n",
       "      <td>30</td>\n",
       "      <td>1</td>\n",
       "      <td>0.0053</td>\n",
       "      <td>60.662941</td>\n",
       "      <td>11343.97</td>\n",
       "      <td>0</td>\n",
       "      <td>0.0</td>\n",
       "      <td>0.0</td>\n",
       "      <td>0.0</td>\n",
       "      <td>0.002645</td>\n",
       "      <td>0.1344</td>\n",
       "      <td>628</td>\n",
       "      <td>2020-01-01</td>\n",
       "      <td>0</td>\n",
       "      <td>512</td>\n",
       "    </tr>\n",
       "    <tr>\n",
       "      <th>2</th>\n",
       "      <td>16276</td>\n",
       "      <td>1026.89</td>\n",
       "      <td>0</td>\n",
       "      <td>29</td>\n",
       "      <td>0</td>\n",
       "      <td>2</td>\n",
       "      <td>0.0000</td>\n",
       "      <td>35.410000</td>\n",
       "      <td>inf</td>\n",
       "      <td>0</td>\n",
       "      <td>0.0</td>\n",
       "      <td>0.0</td>\n",
       "      <td>0.0</td>\n",
       "      <td>0.000000</td>\n",
       "      <td>0.3774</td>\n",
       "      <td>636</td>\n",
       "      <td>2020-01-01</td>\n",
       "      <td>1</td>\n",
       "      <td>542</td>\n",
       "    </tr>\n",
       "    <tr>\n",
       "      <th>3</th>\n",
       "      <td>16316</td>\n",
       "      <td>799.72</td>\n",
       "      <td>0</td>\n",
       "      <td>20</td>\n",
       "      <td>0</td>\n",
       "      <td>1</td>\n",
       "      <td>0.0000</td>\n",
       "      <td>39.986000</td>\n",
       "      <td>inf</td>\n",
       "      <td>0</td>\n",
       "      <td>0.0</td>\n",
       "      <td>0.0</td>\n",
       "      <td>0.0</td>\n",
       "      <td>0.000000</td>\n",
       "      <td>0.0495</td>\n",
       "      <td>898</td>\n",
       "      <td>2020-01-01</td>\n",
       "      <td>1</td>\n",
       "      <td>475</td>\n",
       "    </tr>\n",
       "    <tr>\n",
       "      <th>4</th>\n",
       "      <td>17089</td>\n",
       "      <td>5653.74</td>\n",
       "      <td>2</td>\n",
       "      <td>242</td>\n",
       "      <td>24</td>\n",
       "      <td>4</td>\n",
       "      <td>0.0083</td>\n",
       "      <td>23.362562</td>\n",
       "      <td>2826.87</td>\n",
       "      <td>2</td>\n",
       "      <td>0.5</td>\n",
       "      <td>12.0</td>\n",
       "      <td>1.0</td>\n",
       "      <td>0.004245</td>\n",
       "      <td>0.0350</td>\n",
       "      <td>300</td>\n",
       "      <td>2020-01-01</td>\n",
       "      <td>0</td>\n",
       "      <td>529</td>\n",
       "    </tr>\n",
       "  </tbody>\n",
       "</table>\n",
       "</div>"
      ],
      "text/plain": [
       "   image_id  image_run_date_amount  image_create_role_pay_num  \\\n",
       "0     15133                 837.64                          0   \n",
       "1     15213               11343.97                          1   \n",
       "2     16276                1026.89                          0   \n",
       "3     16316                 799.72                          0   \n",
       "4     17089                5653.74                          2   \n",
       "\n",
       "   image_create_role_num  image_create_role_pay_sum  image_source_num  \\\n",
       "0                      4                          0                 1   \n",
       "1                    187                         30                 1   \n",
       "2                     29                          0                 2   \n",
       "3                     20                          0                 1   \n",
       "4                    242                         24                 4   \n",
       "\n",
       "   image_create_role_pay_rate  image_create_role_cost  \\\n",
       "0                      0.0000              209.410000   \n",
       "1                      0.0053               60.662941   \n",
       "2                      0.0000               35.410000   \n",
       "3                      0.0000               39.986000   \n",
       "4                      0.0083               23.362562   \n",
       "\n",
       "   image_create_role_pay_cost  image_valid_source_num  \\\n",
       "0                         inf                       0   \n",
       "1                    11343.97                       0   \n",
       "2                         inf                       0   \n",
       "3                         inf                       0   \n",
       "4                     2826.87                       2   \n",
       "\n",
       "   image_valid_source_rate  image_pay_sum_ability  image_pay_num_ability  \\\n",
       "0                      0.0                    0.0                    0.0   \n",
       "1                      0.0                    0.0                    0.0   \n",
       "2                      0.0                    0.0                    0.0   \n",
       "3                      0.0                    0.0                    0.0   \n",
       "4                      0.5                   12.0                    1.0   \n",
       "\n",
       "   image_create_role_roi  image_create_role_retain_1d  create_role_30_pay_sum  \\\n",
       "0               0.000000                       0.0000                       0   \n",
       "1               0.002645                       0.1344                     628   \n",
       "2               0.000000                       0.3774                     636   \n",
       "3               0.000000                       0.0495                     898   \n",
       "4               0.004245                       0.0350                     300   \n",
       "\n",
       "  model_run_datetime  label  score  \n",
       "0         2020-01-01      0    377  \n",
       "1         2020-01-01      0    512  \n",
       "2         2020-01-01      1    542  \n",
       "3         2020-01-01      1    475  \n",
       "4         2020-01-01      0    529  "
      ]
     },
     "execution_count": 88,
     "metadata": {},
     "output_type": "execute_result"
    }
   ],
   "source": [
    "image_info_label.head()"
   ]
  },
  {
   "cell_type": "code",
   "execution_count": 89,
   "metadata": {},
   "outputs": [
    {
     "data": {
      "image/png": "[encoded data removed]",
      "text/plain": [
       "<Figure size 432x288 with 1 Axes>"
      ]
     },
     "metadata": {
      "needs_background": "light"
     },
     "output_type": "display_data"
    }
   ],
   "source": [
    "box0 = image_info_label[image_info_label['label']==0]['score']\n",
    "box1 = image_info_label[image_info_label['label']==1]['score']\n",
    "plt.title('score for different box',fontsize=15)\n",
    "labels = 'box0','box1'\n",
    "plt.boxplot([box0,box1],labels=labels)\n",
    "plt.show()"
   ]
  },
  {
   "cell_type": "code",
   "execution_count": 90,
   "metadata": {},
   "outputs": [
    {
     "data": {
      "image/png": "[encoded data removed]",
      "text/plain": [
       "<Figure size 432x288 with 1 Axes>"
      ]
     },
     "metadata": {
      "needs_background": "light"
     },
     "output_type": "display_data"
    }
   ],
   "source": [
    "sns.distplot(image_info_label['score'])\n",
    "plt.show()"
   ]
  },
  {
   "cell_type": "code",
   "execution_count": 91,
   "metadata": {},
   "outputs": [
    {
     "data": {
      "text/plain": [
       "0.7445786542983498"
      ]
     },
     "execution_count": 91,
     "metadata": {},
     "output_type": "execute_result"
    }
   ],
   "source": [
    "image_info_label[image_info_label['score']>=600]['create_role_30_pay_sum'].sum() / image_info_label[image_info_label['score']>=600]['image_run_date_amount'].sum()"
   ]
  },
  {
   "cell_type": "code",
   "execution_count": 92,
   "metadata": {},
   "outputs": [
    {
     "data": {
      "text/plain": [
       "0.23557074495910818"
      ]
     },
     "execution_count": 92,
     "metadata": {},
     "output_type": "execute_result"
    }
   ],
   "source": [
    "image_info_label[image_info_label['score']<600]['create_role_30_pay_sum'].sum() / image_info_label[image_info_label['score']<600]['image_run_date_amount'].sum()"
   ]
  },
  {
   "cell_type": "code",
   "execution_count": 93,
   "metadata": {},
   "outputs": [
    {
     "data": {
      "text/plain": [
       "192796227"
      ]
     },
     "execution_count": 93,
     "metadata": {},
     "output_type": "execute_result"
    }
   ],
   "source": [
    "image_info_label['create_role_30_pay_sum'].sum()"
   ]
  },
  {
   "cell_type": "code",
   "execution_count": 94,
   "metadata": {},
   "outputs": [
    {
     "data": {
      "text/plain": [
       "35971767"
      ]
     },
     "execution_count": 94,
     "metadata": {},
     "output_type": "execute_result"
    }
   ],
   "source": [
    "image_info_label[image_info_label['score']<600]['create_role_30_pay_sum'].sum()"
   ]
  },
  {
   "cell_type": "code",
   "execution_count": 95,
   "metadata": {},
   "outputs": [
    {
     "data": {
      "text/plain": [
       "0.5306480249748728"
      ]
     },
     "execution_count": 95,
     "metadata": {},
     "output_type": "execute_result"
    }
   ],
   "source": [
    "image_info_label['create_role_30_pay_sum'].sum() / image_info_label['image_run_date_amount'].sum()"
   ]
  },
  {
   "cell_type": "code",
   "execution_count": 96,
   "metadata": {},
   "outputs": [
    {
     "data": {
      "text/plain": [
       "0.5797105989940574"
      ]
     },
     "execution_count": 96,
     "metadata": {},
     "output_type": "execute_result"
    }
   ],
   "source": [
    "image_info_label[image_info_label['score']>=600]['image_run_date_amount'].sum() / image_info_label['image_run_date_amount'].sum()"
   ]
  },
  {
   "cell_type": "code",
   "execution_count": null,
   "metadata": {},
   "outputs": [],
   "source": []
  },
  {
   "cell_type": "code",
   "execution_count": null,
   "metadata": {},
   "outputs": [],
   "source": []
  },
  {
   "cell_type": "code",
   "execution_count": 100,
   "metadata": {},
   "outputs": [
    {
     "data": {
      "text/plain": [
       "0.42775490410682476"
      ]
     },
     "execution_count": 100,
     "metadata": {},
     "output_type": "execute_result"
    }
   ],
   "source": [
    "image_info_label[image_info_label['score']>=660]['image_run_date_amount'].sum() / image_info_label['image_run_date_amount'].sum()"
   ]
  },
  {
   "cell_type": "code",
   "execution_count": 98,
   "metadata": {},
   "outputs": [
    {
     "name": "stdout",
     "output_type": "stream",
     "text": [
      "高分区ROI： 0.7676934306886135\n",
      "低分区ROI： 0.3534558821015802\n"
     ]
    }
   ],
   "source": [
    "print('高分区ROI：',image_info_label[image_info_label['score']>=660]['create_role_30_pay_sum'].sum() / image_info_label[image_info_label['score']>=660]['image_run_date_amount'].sum())\n",
    "print('低分区ROI：',image_info_label[image_info_label['score']<660]['create_role_30_pay_sum'].sum() / image_info_label[image_info_label['score']<660]['image_run_date_amount'].sum())"
   ]
  },
  {
   "cell_type": "code",
   "execution_count": 97,
   "metadata": {},
   "outputs": [
    {
     "name": "stdout",
     "output_type": "stream",
     "text": [
      "高分区ROI： 0.6766334987092074\n",
      "低分区ROI： 0.1678396495396418\n"
     ]
    }
   ],
   "source": [
    "print('高分区ROI：',image_info_label[image_info_label['score']>=560]['create_role_30_pay_sum'].sum() / image_info_label[image_info_label['score']>=560]['image_run_date_amount'].sum())\n",
    "print('低分区ROI：',image_info_label[image_info_label['score']<560]['create_role_30_pay_sum'].sum() / image_info_label[image_info_label['score']<560]['image_run_date_amount'].sum())"
   ]
  },
  {
   "cell_type": "code",
   "execution_count": 99,
   "metadata": {
    "scrolled": true
   },
   "outputs": [
    {
     "data": {
      "text/plain": [
       "image_create_role_cost        -0.435416\n",
       "image_create_role_pay_cost    -0.382098\n",
       "image_create_role_retain_1d    0.139213\n",
       "image_create_role_pay_rate     0.227995\n",
       "image_create_role_roi          0.333506\n",
       "image_create_role_num          0.425519\n",
       "image_valid_source_num         0.434825\n",
       "image_pay_sum_ability          0.449441\n",
       "image_create_role_pay_num      0.454060\n",
       "image_source_num               0.461705\n",
       "image_run_date_amount          0.470386\n",
       "image_create_role_pay_sum      0.483568\n",
       "image_pay_num_ability          0.488533\n",
       "image_valid_source_rate        0.530485\n",
       "score                          1.000000\n",
       "Name: score, dtype: float64"
      ]
     },
     "execution_count": 99,
     "metadata": {},
     "output_type": "execute_result"
    }
   ],
   "source": [
    "image_info_label.drop(['image_id','create_role_30_pay_sum','label'],axis=1).corr()['score'].sort_values()"
   ]
  },
  {
   "cell_type": "markdown",
   "metadata": {},
   "source": [
    "### Test"
   ]
  },
  {
   "cell_type": "code",
   "execution_count": 126,
   "metadata": {},
   "outputs": [],
   "source": [
    "test = pd.read_excel('./test.xls')"
   ]
  },
  {
   "cell_type": "code",
   "execution_count": 127,
   "metadata": {},
   "outputs": [
    {
     "data": {
      "text/html": [
       "<div>\n",
       "<style scoped>\n",
       "    .dataframe tbody tr th:only-of-type {\n",
       "        vertical-align: middle;\n",
       "    }\n",
       "\n",
       "    .dataframe tbody tr th {\n",
       "        vertical-align: top;\n",
       "    }\n",
       "\n",
       "    .dataframe thead th {\n",
       "        text-align: right;\n",
       "    }\n",
       "</style>\n",
       "<table border=\"1\" class=\"dataframe\">\n",
       "  <thead>\n",
       "    <tr style=\"text-align: right;\">\n",
       "      <th></th>\n",
       "      <th>image_id</th>\n",
       "      <th>image_run_date_amount</th>\n",
       "      <th>image_create_role_pay_num</th>\n",
       "      <th>image_create_role_num</th>\n",
       "      <th>image_create_role_pay_sum</th>\n",
       "      <th>image_source_num</th>\n",
       "      <th>image_create_role_pay_rate</th>\n",
       "      <th>image_create_role_cost</th>\n",
       "      <th>image_create_role_pay_cost</th>\n",
       "      <th>image_valid_source_num</th>\n",
       "      <th>image_valid_source_rate</th>\n",
       "      <th>image_pay_sum_ability</th>\n",
       "      <th>image_pay_num_ability</th>\n",
       "      <th>image_create_role_roi</th>\n",
       "      <th>image_create_role_retain_1d</th>\n",
       "      <th>create_role_30_pay_sum</th>\n",
       "      <th>model_run_datetime</th>\n",
       "      <th>data_win</th>\n",
       "    </tr>\n",
       "  </thead>\n",
       "  <tbody>\n",
       "    <tr>\n",
       "      <th>0</th>\n",
       "      <td>16276</td>\n",
       "      <td>5710.84</td>\n",
       "      <td>0</td>\n",
       "      <td>196</td>\n",
       "      <td>0</td>\n",
       "      <td>7</td>\n",
       "      <td>0.0</td>\n",
       "      <td>29.136939</td>\n",
       "      <td>0.0</td>\n",
       "      <td>0</td>\n",
       "      <td>0.0</td>\n",
       "      <td>0.0</td>\n",
       "      <td>0.0</td>\n",
       "      <td>0.0</td>\n",
       "      <td>0.1005</td>\n",
       "      <td>0</td>\n",
       "      <td>2020-10-02</td>\n",
       "      <td>3</td>\n",
       "    </tr>\n",
       "    <tr>\n",
       "      <th>1</th>\n",
       "      <td>16316</td>\n",
       "      <td>1023.57</td>\n",
       "      <td>0</td>\n",
       "      <td>7</td>\n",
       "      <td>0</td>\n",
       "      <td>2</td>\n",
       "      <td>0.0</td>\n",
       "      <td>146.224286</td>\n",
       "      <td>0.0</td>\n",
       "      <td>0</td>\n",
       "      <td>0.0</td>\n",
       "      <td>0.0</td>\n",
       "      <td>0.0</td>\n",
       "      <td>0.0</td>\n",
       "      <td>0.1000</td>\n",
       "      <td>0</td>\n",
       "      <td>2020-10-02</td>\n",
       "      <td>3</td>\n",
       "    </tr>\n",
       "    <tr>\n",
       "      <th>2</th>\n",
       "      <td>18216</td>\n",
       "      <td>3303.96</td>\n",
       "      <td>0</td>\n",
       "      <td>58</td>\n",
       "      <td>0</td>\n",
       "      <td>2</td>\n",
       "      <td>0.0</td>\n",
       "      <td>56.964828</td>\n",
       "      <td>0.0</td>\n",
       "      <td>0</td>\n",
       "      <td>0.0</td>\n",
       "      <td>0.0</td>\n",
       "      <td>0.0</td>\n",
       "      <td>0.0</td>\n",
       "      <td>0.0455</td>\n",
       "      <td>0</td>\n",
       "      <td>2020-10-02</td>\n",
       "      <td>3</td>\n",
       "    </tr>\n",
       "    <tr>\n",
       "      <th>3</th>\n",
       "      <td>19100</td>\n",
       "      <td>3739.89</td>\n",
       "      <td>0</td>\n",
       "      <td>66</td>\n",
       "      <td>0</td>\n",
       "      <td>1</td>\n",
       "      <td>0.0</td>\n",
       "      <td>56.665000</td>\n",
       "      <td>0.0</td>\n",
       "      <td>0</td>\n",
       "      <td>0.0</td>\n",
       "      <td>0.0</td>\n",
       "      <td>0.0</td>\n",
       "      <td>0.0</td>\n",
       "      <td>0.0735</td>\n",
       "      <td>0</td>\n",
       "      <td>2020-10-02</td>\n",
       "      <td>3</td>\n",
       "    </tr>\n",
       "    <tr>\n",
       "      <th>4</th>\n",
       "      <td>19208</td>\n",
       "      <td>4388.16</td>\n",
       "      <td>0</td>\n",
       "      <td>69</td>\n",
       "      <td>0</td>\n",
       "      <td>2</td>\n",
       "      <td>0.0</td>\n",
       "      <td>63.596522</td>\n",
       "      <td>0.0</td>\n",
       "      <td>0</td>\n",
       "      <td>0.0</td>\n",
       "      <td>0.0</td>\n",
       "      <td>0.0</td>\n",
       "      <td>0.0</td>\n",
       "      <td>0.0145</td>\n",
       "      <td>12</td>\n",
       "      <td>2020-10-02</td>\n",
       "      <td>3</td>\n",
       "    </tr>\n",
       "  </tbody>\n",
       "</table>\n",
       "</div>"
      ],
      "text/plain": [
       "   image_id  image_run_date_amount  image_create_role_pay_num  \\\n",
       "0     16276                5710.84                          0   \n",
       "1     16316                1023.57                          0   \n",
       "2     18216                3303.96                          0   \n",
       "3     19100                3739.89                          0   \n",
       "4     19208                4388.16                          0   \n",
       "\n",
       "   image_create_role_num  image_create_role_pay_sum  image_source_num  \\\n",
       "0                    196                          0                 7   \n",
       "1                      7                          0                 2   \n",
       "2                     58                          0                 2   \n",
       "3                     66                          0                 1   \n",
       "4                     69                          0                 2   \n",
       "\n",
       "   image_create_role_pay_rate  image_create_role_cost  \\\n",
       "0                         0.0               29.136939   \n",
       "1                         0.0              146.224286   \n",
       "2                         0.0               56.964828   \n",
       "3                         0.0               56.665000   \n",
       "4                         0.0               63.596522   \n",
       "\n",
       "   image_create_role_pay_cost  image_valid_source_num  \\\n",
       "0                         0.0                       0   \n",
       "1                         0.0                       0   \n",
       "2                         0.0                       0   \n",
       "3                         0.0                       0   \n",
       "4                         0.0                       0   \n",
       "\n",
       "   image_valid_source_rate  image_pay_sum_ability  image_pay_num_ability  \\\n",
       "0                      0.0                    0.0                    0.0   \n",
       "1                      0.0                    0.0                    0.0   \n",
       "2                      0.0                    0.0                    0.0   \n",
       "3                      0.0                    0.0                    0.0   \n",
       "4                      0.0                    0.0                    0.0   \n",
       "\n",
       "   image_create_role_roi  image_create_role_retain_1d  create_role_30_pay_sum  \\\n",
       "0                    0.0                       0.1005                       0   \n",
       "1                    0.0                       0.1000                       0   \n",
       "2                    0.0                       0.0455                       0   \n",
       "3                    0.0                       0.0735                       0   \n",
       "4                    0.0                       0.0145                      12   \n",
       "\n",
       "  model_run_datetime  data_win  \n",
       "0         2020-10-02         3  \n",
       "1         2020-10-02         3  \n",
       "2         2020-10-02         3  \n",
       "3         2020-10-02         3  \n",
       "4         2020-10-02         3  "
      ]
     },
     "execution_count": 127,
     "metadata": {},
     "output_type": "execute_result"
    }
   ],
   "source": [
    "test.head()"
   ]
  },
  {
   "cell_type": "code",
   "execution_count": 128,
   "metadata": {},
   "outputs": [
    {
     "data": {
      "text/plain": [
       "(2852, 18)"
      ]
     },
     "execution_count": 128,
     "metadata": {},
     "output_type": "execute_result"
    }
   ],
   "source": [
    "test.shape"
   ]
  },
  {
   "cell_type": "code",
   "execution_count": 129,
   "metadata": {},
   "outputs": [],
   "source": [
    "test_woe = test.copy()"
   ]
  },
  {
   "cell_type": "code",
   "execution_count": 119,
   "metadata": {},
   "outputs": [],
   "source": [
    "def FE(df):\n",
    "    df['image_create_role_cost'].replace(0, float('inf'), inplace=True)\n",
    "    df['image_create_role_pay_cost'].replace(0, float('inf'), inplace=True)\n",
    "    # 分桶定义（根据训练模型给出）\n",
    "    pinf = float('inf')  # 正无穷大\n",
    "    ninf = float('-inf')  # 负无穷大\n",
    "    cutx1 = [ninf, 891.102, 1409.628, 2165.43, 3167.068, 4656.48, 6886.692, 10651.84, 18862.02, 40665.782, pinf]\n",
    "    cutx2 = [ninf, 1, 3, 8, 12, 50, pinf]\n",
    "    cutx3 = [ninf, 6.0, 14.0, 27.0, 51.0, 85.0, 142.0, 244.0, 480.0, 1271.0, pinf]\n",
    "    cutx4 = [ninf, 60, 200, 700, 2000, 5000, 10000, pinf]\n",
    "    cutx5 = [ninf, 3, 6, 12, 20, 50, pinf]\n",
    "    cutx6 = [ninf, 0.005, 0.01, 0.015, 0.02, pinf]\n",
    "    cutx7 = [ninf, 20.073, 28.7217, 36.4717, 45.8384, 57.2259, 74.043, 98.3442, 141.3023, 254.55, pinf]\n",
    "    cutx8 = [ninf, 2000, 3000, 4000, 5000, 6000, 7000, 8000, 9000, 10000, 11000, 13000, pinf]\n",
    "    cutx9 = [ninf, 0.1, 0.2, 0.3, 0.4, 0.6, pinf]\n",
    "    cutx10 = [ninf, 50, 100, 200, 400, 1000, pinf]\n",
    "    cutx11 = [ninf, 1, 2, 5, 10, 20, pinf]\n",
    "    cutx12 = [ninf, 0.005, 0.01, 0.015, 0.02, 0.025, 0.05, pinf]\n",
    "    cutx13 = [ninf, 0.06, 0.1, 0.14, 0.2, 0.3, pinf]\n",
    "    \n",
    "    woex1 = [1.332, 1.202, 0.953, 0.845, 0.503, 0.216, 0.031, -0.363, -0.871, -1.702]\n",
    "    woex2 = [0.896, -0.47, -1.078, -1.616, -2.105, -4.266]\n",
    "    woex3 = [1.902, 1.227, 0.873, 0.771, 0.503, 0.215, 0.022, -0.394, -0.862, -1.784]\n",
    "    woex4 = [1.0, -0.098, -0.943, -1.772, -2.692, -3.759, -5.138]\n",
    "    woex5 = [0.552, -0.086, -0.573, -0.865, -1.345, -3.033]\n",
    "    woex6 = [0.691, -0.919, -0.999, -0.956, -0.646]\n",
    "    woex7 = [-0.609, -0.703, -0.521, -0.481, -0.139, 0.059, 0.359, 0.689, 1.315, 1.777]\n",
    "    woex8 = [-1.338, -1.316, -1.277, -0.962, -0.781, -0.609, -0.363, -0.261, -0.112, -0.076, 0.243, 1.219]\n",
    "    woex9 = [0.513, -0.717, -1.43, -1.04, -1.413, -1.256]\n",
    "    woex10 = [0.443, -0.981, -1.658, -2.221, -2.823, -3.33]\n",
    "    woex11 = [0.343, -1.502, -2.005, -2.372, -2.66, -2.883]\n",
    "    woex12 = [1.104, 0.044, -0.404, -0.896, -1.163, -1.872, -2.508]\n",
    "    woex13 = [0.712, -0.167, -0.338, -0.162, 0.212, 0.47]\n",
    "    \n",
    "    # 数据转化\n",
    "    df['image_run_date_amount'] = change_woe(df['image_run_date_amount'], cutx1, woex1)\n",
    "    df['image_create_role_pay_num'] = change_woe(df['image_create_role_pay_num'], cutx2, woex2)\n",
    "    df['image_create_role_num'] = change_woe(df['image_create_role_num'], cutx3, woex3)\n",
    "    df['image_create_role_pay_sum'] = change_woe(df['image_create_role_pay_sum'], cutx4,woex4)\n",
    "    df['image_source_num'] = change_woe(df['image_source_num'], cutx5, woex5)\n",
    "    df['image_create_role_pay_rate'] = change_woe(df['image_create_role_pay_rate'], cutx6,woex6)\n",
    "    df['image_create_role_cost'] = change_woe(df['image_create_role_cost'], cutx7, woex7)\n",
    "    df['image_create_role_pay_cost'] = change_woe(df['image_create_role_pay_cost'], cutx8,woex8)\n",
    "    df['image_valid_source_rate'] = change_woe(df['image_valid_source_rate'], cutx9,woex9)\n",
    "    df['image_pay_sum_ability'] = change_woe(df['image_pay_sum_ability'], cutx10, woex10)\n",
    "    df['image_pay_num_ability'] = change_woe(df['image_pay_num_ability'], cutx11, woex11)\n",
    "    df['image_create_role_roi'] = change_woe(df['image_create_role_roi'], cutx12, woex12)    \n",
    "    df['image_create_role_retain_1d'] = change_woe(df['image_create_role_retain_1d'],cutx13, woex13)\n",
    "    return df"
   ]
  },
  {
   "cell_type": "code",
   "execution_count": 130,
   "metadata": {},
   "outputs": [],
   "source": [
    "test_woe = FE(test_woe)"
   ]
  },
  {
   "cell_type": "code",
   "execution_count": 131,
   "metadata": {},
   "outputs": [
    {
     "data": {
      "text/html": [
       "<div>\n",
       "<style scoped>\n",
       "    .dataframe tbody tr th:only-of-type {\n",
       "        vertical-align: middle;\n",
       "    }\n",
       "\n",
       "    .dataframe tbody tr th {\n",
       "        vertical-align: top;\n",
       "    }\n",
       "\n",
       "    .dataframe thead th {\n",
       "        text-align: right;\n",
       "    }\n",
       "</style>\n",
       "<table border=\"1\" class=\"dataframe\">\n",
       "  <thead>\n",
       "    <tr style=\"text-align: right;\">\n",
       "      <th></th>\n",
       "      <th>image_id</th>\n",
       "      <th>image_run_date_amount</th>\n",
       "      <th>image_create_role_pay_num</th>\n",
       "      <th>image_create_role_num</th>\n",
       "      <th>image_create_role_pay_sum</th>\n",
       "      <th>image_source_num</th>\n",
       "      <th>image_create_role_pay_rate</th>\n",
       "      <th>image_create_role_cost</th>\n",
       "      <th>image_create_role_pay_cost</th>\n",
       "      <th>image_valid_source_num</th>\n",
       "      <th>image_valid_source_rate</th>\n",
       "      <th>image_pay_sum_ability</th>\n",
       "      <th>image_pay_num_ability</th>\n",
       "      <th>image_create_role_roi</th>\n",
       "      <th>image_create_role_retain_1d</th>\n",
       "      <th>create_role_30_pay_sum</th>\n",
       "      <th>model_run_datetime</th>\n",
       "      <th>data_win</th>\n",
       "    </tr>\n",
       "  </thead>\n",
       "  <tbody>\n",
       "    <tr>\n",
       "      <th>0</th>\n",
       "      <td>16276</td>\n",
       "      <td>0.216</td>\n",
       "      <td>0.896</td>\n",
       "      <td>0.022</td>\n",
       "      <td>1.0</td>\n",
       "      <td>-0.573</td>\n",
       "      <td>0.691</td>\n",
       "      <td>-0.521</td>\n",
       "      <td>1.219</td>\n",
       "      <td>0</td>\n",
       "      <td>0.513</td>\n",
       "      <td>0.443</td>\n",
       "      <td>0.343</td>\n",
       "      <td>1.104</td>\n",
       "      <td>-0.338</td>\n",
       "      <td>0</td>\n",
       "      <td>2020-10-02</td>\n",
       "      <td>3</td>\n",
       "    </tr>\n",
       "    <tr>\n",
       "      <th>1</th>\n",
       "      <td>16316</td>\n",
       "      <td>1.202</td>\n",
       "      <td>0.896</td>\n",
       "      <td>1.227</td>\n",
       "      <td>1.0</td>\n",
       "      <td>0.552</td>\n",
       "      <td>0.691</td>\n",
       "      <td>1.315</td>\n",
       "      <td>1.219</td>\n",
       "      <td>0</td>\n",
       "      <td>0.513</td>\n",
       "      <td>0.443</td>\n",
       "      <td>0.343</td>\n",
       "      <td>1.104</td>\n",
       "      <td>-0.338</td>\n",
       "      <td>0</td>\n",
       "      <td>2020-10-02</td>\n",
       "      <td>3</td>\n",
       "    </tr>\n",
       "    <tr>\n",
       "      <th>2</th>\n",
       "      <td>18216</td>\n",
       "      <td>0.503</td>\n",
       "      <td>0.896</td>\n",
       "      <td>0.503</td>\n",
       "      <td>1.0</td>\n",
       "      <td>0.552</td>\n",
       "      <td>0.691</td>\n",
       "      <td>-0.139</td>\n",
       "      <td>1.219</td>\n",
       "      <td>0</td>\n",
       "      <td>0.513</td>\n",
       "      <td>0.443</td>\n",
       "      <td>0.343</td>\n",
       "      <td>1.104</td>\n",
       "      <td>0.712</td>\n",
       "      <td>0</td>\n",
       "      <td>2020-10-02</td>\n",
       "      <td>3</td>\n",
       "    </tr>\n",
       "    <tr>\n",
       "      <th>3</th>\n",
       "      <td>19100</td>\n",
       "      <td>0.503</td>\n",
       "      <td>0.896</td>\n",
       "      <td>0.503</td>\n",
       "      <td>1.0</td>\n",
       "      <td>0.552</td>\n",
       "      <td>0.691</td>\n",
       "      <td>-0.139</td>\n",
       "      <td>1.219</td>\n",
       "      <td>0</td>\n",
       "      <td>0.513</td>\n",
       "      <td>0.443</td>\n",
       "      <td>0.343</td>\n",
       "      <td>1.104</td>\n",
       "      <td>-0.167</td>\n",
       "      <td>0</td>\n",
       "      <td>2020-10-02</td>\n",
       "      <td>3</td>\n",
       "    </tr>\n",
       "    <tr>\n",
       "      <th>4</th>\n",
       "      <td>19208</td>\n",
       "      <td>0.503</td>\n",
       "      <td>0.896</td>\n",
       "      <td>0.503</td>\n",
       "      <td>1.0</td>\n",
       "      <td>0.552</td>\n",
       "      <td>0.691</td>\n",
       "      <td>0.059</td>\n",
       "      <td>1.219</td>\n",
       "      <td>0</td>\n",
       "      <td>0.513</td>\n",
       "      <td>0.443</td>\n",
       "      <td>0.343</td>\n",
       "      <td>1.104</td>\n",
       "      <td>0.712</td>\n",
       "      <td>12</td>\n",
       "      <td>2020-10-02</td>\n",
       "      <td>3</td>\n",
       "    </tr>\n",
       "  </tbody>\n",
       "</table>\n",
       "</div>"
      ],
      "text/plain": [
       "   image_id  image_run_date_amount  image_create_role_pay_num  \\\n",
       "0     16276                  0.216                      0.896   \n",
       "1     16316                  1.202                      0.896   \n",
       "2     18216                  0.503                      0.896   \n",
       "3     19100                  0.503                      0.896   \n",
       "4     19208                  0.503                      0.896   \n",
       "\n",
       "   image_create_role_num  image_create_role_pay_sum  image_source_num  \\\n",
       "0                  0.022                        1.0            -0.573   \n",
       "1                  1.227                        1.0             0.552   \n",
       "2                  0.503                        1.0             0.552   \n",
       "3                  0.503                        1.0             0.552   \n",
       "4                  0.503                        1.0             0.552   \n",
       "\n",
       "   image_create_role_pay_rate  image_create_role_cost  \\\n",
       "0                       0.691                  -0.521   \n",
       "1                       0.691                   1.315   \n",
       "2                       0.691                  -0.139   \n",
       "3                       0.691                  -0.139   \n",
       "4                       0.691                   0.059   \n",
       "\n",
       "   image_create_role_pay_cost  image_valid_source_num  \\\n",
       "0                       1.219                       0   \n",
       "1                       1.219                       0   \n",
       "2                       1.219                       0   \n",
       "3                       1.219                       0   \n",
       "4                       1.219                       0   \n",
       "\n",
       "   image_valid_source_rate  image_pay_sum_ability  image_pay_num_ability  \\\n",
       "0                    0.513                  0.443                  0.343   \n",
       "1                    0.513                  0.443                  0.343   \n",
       "2                    0.513                  0.443                  0.343   \n",
       "3                    0.513                  0.443                  0.343   \n",
       "4                    0.513                  0.443                  0.343   \n",
       "\n",
       "   image_create_role_roi  image_create_role_retain_1d  create_role_30_pay_sum  \\\n",
       "0                  1.104                       -0.338                       0   \n",
       "1                  1.104                       -0.338                       0   \n",
       "2                  1.104                        0.712                       0   \n",
       "3                  1.104                       -0.167                       0   \n",
       "4                  1.104                        0.712                      12   \n",
       "\n",
       "  model_run_datetime  data_win  \n",
       "0         2020-10-02         3  \n",
       "1         2020-10-02         3  \n",
       "2         2020-10-02         3  \n",
       "3         2020-10-02         3  \n",
       "4         2020-10-02         3  "
      ]
     },
     "execution_count": 131,
     "metadata": {},
     "output_type": "execute_result"
    }
   ],
   "source": [
    "test_woe.head()"
   ]
  },
  {
   "cell_type": "code",
   "execution_count": 132,
   "metadata": {},
   "outputs": [],
   "source": [
    "select_feature = ['image_run_date_amount', 'image_create_role_pay_num',\n",
    "                  'image_create_role_num', 'image_create_role_pay_sum',\n",
    "                  'image_source_num', 'image_create_role_pay_rate',\n",
    "                  'image_create_role_cost', 'image_create_role_pay_cost',\n",
    "                  'image_valid_source_rate',\n",
    "                  'image_pay_sum_ability', 'image_pay_num_ability',\n",
    "                  'image_create_role_roi','image_create_role_retain_1d']\n",
    "\n",
    "\n",
    "feature = test_woe[select_feature]\n",
    "test_woe['pred'] = 0.4 * best_est_XGB.predict_proba(feature)[:, 1] + 0.3 * best_est_LGB.predict_proba(\n",
    "    feature)[:, 1] + 0.3 * best_est_RF.predict_proba(feature)[:, 1]\n",
    "test_woe['score'] = test_woe['pred'].apply(Prob2Score)\n",
    "test['score'] = test_woe['score']"
   ]
  },
  {
   "cell_type": "code",
   "execution_count": 133,
   "metadata": {},
   "outputs": [
    {
     "data": {
      "text/html": [
       "<div>\n",
       "<style scoped>\n",
       "    .dataframe tbody tr th:only-of-type {\n",
       "        vertical-align: middle;\n",
       "    }\n",
       "\n",
       "    .dataframe tbody tr th {\n",
       "        vertical-align: top;\n",
       "    }\n",
       "\n",
       "    .dataframe thead th {\n",
       "        text-align: right;\n",
       "    }\n",
       "</style>\n",
       "<table border=\"1\" class=\"dataframe\">\n",
       "  <thead>\n",
       "    <tr style=\"text-align: right;\">\n",
       "      <th></th>\n",
       "      <th>image_id</th>\n",
       "      <th>image_run_date_amount</th>\n",
       "      <th>image_create_role_pay_num</th>\n",
       "      <th>image_create_role_num</th>\n",
       "      <th>image_create_role_pay_sum</th>\n",
       "      <th>image_source_num</th>\n",
       "      <th>image_create_role_pay_rate</th>\n",
       "      <th>image_create_role_cost</th>\n",
       "      <th>image_create_role_pay_cost</th>\n",
       "      <th>image_valid_source_num</th>\n",
       "      <th>image_valid_source_rate</th>\n",
       "      <th>image_pay_sum_ability</th>\n",
       "      <th>image_pay_num_ability</th>\n",
       "      <th>image_create_role_roi</th>\n",
       "      <th>image_create_role_retain_1d</th>\n",
       "      <th>create_role_30_pay_sum</th>\n",
       "      <th>model_run_datetime</th>\n",
       "      <th>data_win</th>\n",
       "      <th>score</th>\n",
       "    </tr>\n",
       "  </thead>\n",
       "  <tbody>\n",
       "    <tr>\n",
       "      <th>468</th>\n",
       "      <td>23528</td>\n",
       "      <td>61831.84</td>\n",
       "      <td>11</td>\n",
       "      <td>1816</td>\n",
       "      <td>9178</td>\n",
       "      <td>13</td>\n",
       "      <td>0.0061</td>\n",
       "      <td>34.048370</td>\n",
       "      <td>5621.076364</td>\n",
       "      <td>0</td>\n",
       "      <td>0.0</td>\n",
       "      <td>0.0</td>\n",
       "      <td>0.0</td>\n",
       "      <td>0.148435</td>\n",
       "      <td>0.0853</td>\n",
       "      <td>22040</td>\n",
       "      <td>2020-10-06</td>\n",
       "      <td>3</td>\n",
       "      <td>772</td>\n",
       "    </tr>\n",
       "    <tr>\n",
       "      <th>365</th>\n",
       "      <td>23528</td>\n",
       "      <td>51672.50</td>\n",
       "      <td>10</td>\n",
       "      <td>1349</td>\n",
       "      <td>9130</td>\n",
       "      <td>12</td>\n",
       "      <td>0.0074</td>\n",
       "      <td>38.304299</td>\n",
       "      <td>5167.250000</td>\n",
       "      <td>0</td>\n",
       "      <td>0.0</td>\n",
       "      <td>0.0</td>\n",
       "      <td>0.0</td>\n",
       "      <td>0.176690</td>\n",
       "      <td>0.0896</td>\n",
       "      <td>25744</td>\n",
       "      <td>2020-10-05</td>\n",
       "      <td>3</td>\n",
       "      <td>770</td>\n",
       "    </tr>\n",
       "    <tr>\n",
       "      <th>250</th>\n",
       "      <td>23528</td>\n",
       "      <td>42023.21</td>\n",
       "      <td>9</td>\n",
       "      <td>837</td>\n",
       "      <td>2332</td>\n",
       "      <td>12</td>\n",
       "      <td>0.0108</td>\n",
       "      <td>50.206941</td>\n",
       "      <td>4669.245556</td>\n",
       "      <td>0</td>\n",
       "      <td>0.0</td>\n",
       "      <td>0.0</td>\n",
       "      <td>0.0</td>\n",
       "      <td>0.055493</td>\n",
       "      <td>0.0971</td>\n",
       "      <td>30194</td>\n",
       "      <td>2020-10-04</td>\n",
       "      <td>3</td>\n",
       "      <td>761</td>\n",
       "    </tr>\n",
       "    <tr>\n",
       "      <th>945</th>\n",
       "      <td>25345</td>\n",
       "      <td>46816.86</td>\n",
       "      <td>12</td>\n",
       "      <td>1970</td>\n",
       "      <td>2498</td>\n",
       "      <td>14</td>\n",
       "      <td>0.0061</td>\n",
       "      <td>23.764904</td>\n",
       "      <td>3901.405000</td>\n",
       "      <td>0</td>\n",
       "      <td>0.0</td>\n",
       "      <td>0.0</td>\n",
       "      <td>0.0</td>\n",
       "      <td>0.053357</td>\n",
       "      <td>0.0602</td>\n",
       "      <td>43030</td>\n",
       "      <td>2020-10-12</td>\n",
       "      <td>3</td>\n",
       "      <td>760</td>\n",
       "    </tr>\n",
       "    <tr>\n",
       "      <th>145</th>\n",
       "      <td>23528</td>\n",
       "      <td>36339.00</td>\n",
       "      <td>8</td>\n",
       "      <td>580</td>\n",
       "      <td>2184</td>\n",
       "      <td>12</td>\n",
       "      <td>0.0138</td>\n",
       "      <td>62.653448</td>\n",
       "      <td>4542.375000</td>\n",
       "      <td>0</td>\n",
       "      <td>0.0</td>\n",
       "      <td>0.0</td>\n",
       "      <td>0.0</td>\n",
       "      <td>0.060101</td>\n",
       "      <td>0.1181</td>\n",
       "      <td>29618</td>\n",
       "      <td>2020-10-03</td>\n",
       "      <td>3</td>\n",
       "      <td>753</td>\n",
       "    </tr>\n",
       "    <tr>\n",
       "      <th>...</th>\n",
       "      <td>...</td>\n",
       "      <td>...</td>\n",
       "      <td>...</td>\n",
       "      <td>...</td>\n",
       "      <td>...</td>\n",
       "      <td>...</td>\n",
       "      <td>...</td>\n",
       "      <td>...</td>\n",
       "      <td>...</td>\n",
       "      <td>...</td>\n",
       "      <td>...</td>\n",
       "      <td>...</td>\n",
       "      <td>...</td>\n",
       "      <td>...</td>\n",
       "      <td>...</td>\n",
       "      <td>...</td>\n",
       "      <td>...</td>\n",
       "      <td>...</td>\n",
       "      <td>...</td>\n",
       "    </tr>\n",
       "    <tr>\n",
       "      <th>30</th>\n",
       "      <td>21429</td>\n",
       "      <td>5779.85</td>\n",
       "      <td>0</td>\n",
       "      <td>1</td>\n",
       "      <td>0</td>\n",
       "      <td>2</td>\n",
       "      <td>0.0000</td>\n",
       "      <td>5779.850000</td>\n",
       "      <td>0.000000</td>\n",
       "      <td>0</td>\n",
       "      <td>0.0</td>\n",
       "      <td>0.0</td>\n",
       "      <td>0.0</td>\n",
       "      <td>0.000000</td>\n",
       "      <td>0.0000</td>\n",
       "      <td>0</td>\n",
       "      <td>2020-10-02</td>\n",
       "      <td>3</td>\n",
       "      <td>374</td>\n",
       "    </tr>\n",
       "    <tr>\n",
       "      <th>237</th>\n",
       "      <td>21429</td>\n",
       "      <td>5779.85</td>\n",
       "      <td>0</td>\n",
       "      <td>1</td>\n",
       "      <td>0</td>\n",
       "      <td>2</td>\n",
       "      <td>0.0000</td>\n",
       "      <td>5779.850000</td>\n",
       "      <td>0.000000</td>\n",
       "      <td>0</td>\n",
       "      <td>0.0</td>\n",
       "      <td>0.0</td>\n",
       "      <td>0.0</td>\n",
       "      <td>0.000000</td>\n",
       "      <td>0.0000</td>\n",
       "      <td>0</td>\n",
       "      <td>2020-10-04</td>\n",
       "      <td>3</td>\n",
       "      <td>374</td>\n",
       "    </tr>\n",
       "    <tr>\n",
       "      <th>136</th>\n",
       "      <td>21429</td>\n",
       "      <td>5779.85</td>\n",
       "      <td>0</td>\n",
       "      <td>1</td>\n",
       "      <td>0</td>\n",
       "      <td>2</td>\n",
       "      <td>0.0000</td>\n",
       "      <td>5779.850000</td>\n",
       "      <td>0.000000</td>\n",
       "      <td>0</td>\n",
       "      <td>0.0</td>\n",
       "      <td>0.0</td>\n",
       "      <td>0.0</td>\n",
       "      <td>0.000000</td>\n",
       "      <td>0.0000</td>\n",
       "      <td>0</td>\n",
       "      <td>2020-10-03</td>\n",
       "      <td>3</td>\n",
       "      <td>374</td>\n",
       "    </tr>\n",
       "    <tr>\n",
       "      <th>1640</th>\n",
       "      <td>19854</td>\n",
       "      <td>13027.36</td>\n",
       "      <td>0</td>\n",
       "      <td>0</td>\n",
       "      <td>0</td>\n",
       "      <td>1</td>\n",
       "      <td>0.0000</td>\n",
       "      <td>0.000000</td>\n",
       "      <td>0.000000</td>\n",
       "      <td>0</td>\n",
       "      <td>0.0</td>\n",
       "      <td>0.0</td>\n",
       "      <td>0.0</td>\n",
       "      <td>0.000000</td>\n",
       "      <td>0.0000</td>\n",
       "      <td>0</td>\n",
       "      <td>2020-10-22</td>\n",
       "      <td>3</td>\n",
       "      <td>369</td>\n",
       "    </tr>\n",
       "    <tr>\n",
       "      <th>1730</th>\n",
       "      <td>19854</td>\n",
       "      <td>13027.36</td>\n",
       "      <td>0</td>\n",
       "      <td>0</td>\n",
       "      <td>0</td>\n",
       "      <td>1</td>\n",
       "      <td>0.0000</td>\n",
       "      <td>0.000000</td>\n",
       "      <td>0.000000</td>\n",
       "      <td>0</td>\n",
       "      <td>0.0</td>\n",
       "      <td>0.0</td>\n",
       "      <td>0.0</td>\n",
       "      <td>0.000000</td>\n",
       "      <td>0.0000</td>\n",
       "      <td>0</td>\n",
       "      <td>2020-10-23</td>\n",
       "      <td>3</td>\n",
       "      <td>369</td>\n",
       "    </tr>\n",
       "  </tbody>\n",
       "</table>\n",
       "<p>2852 rows × 19 columns</p>\n",
       "</div>"
      ],
      "text/plain": [
       "      image_id  image_run_date_amount  image_create_role_pay_num  \\\n",
       "468      23528               61831.84                         11   \n",
       "365      23528               51672.50                         10   \n",
       "250      23528               42023.21                          9   \n",
       "945      25345               46816.86                         12   \n",
       "145      23528               36339.00                          8   \n",
       "...        ...                    ...                        ...   \n",
       "30       21429                5779.85                          0   \n",
       "237      21429                5779.85                          0   \n",
       "136      21429                5779.85                          0   \n",
       "1640     19854               13027.36                          0   \n",
       "1730     19854               13027.36                          0   \n",
       "\n",
       "      image_create_role_num  image_create_role_pay_sum  image_source_num  \\\n",
       "468                    1816                       9178                13   \n",
       "365                    1349                       9130                12   \n",
       "250                     837                       2332                12   \n",
       "945                    1970                       2498                14   \n",
       "145                     580                       2184                12   \n",
       "...                     ...                        ...               ...   \n",
       "30                        1                          0                 2   \n",
       "237                       1                          0                 2   \n",
       "136                       1                          0                 2   \n",
       "1640                      0                          0                 1   \n",
       "1730                      0                          0                 1   \n",
       "\n",
       "      image_create_role_pay_rate  image_create_role_cost  \\\n",
       "468                       0.0061               34.048370   \n",
       "365                       0.0074               38.304299   \n",
       "250                       0.0108               50.206941   \n",
       "945                       0.0061               23.764904   \n",
       "145                       0.0138               62.653448   \n",
       "...                          ...                     ...   \n",
       "30                        0.0000             5779.850000   \n",
       "237                       0.0000             5779.850000   \n",
       "136                       0.0000             5779.850000   \n",
       "1640                      0.0000                0.000000   \n",
       "1730                      0.0000                0.000000   \n",
       "\n",
       "      image_create_role_pay_cost  image_valid_source_num  \\\n",
       "468                  5621.076364                       0   \n",
       "365                  5167.250000                       0   \n",
       "250                  4669.245556                       0   \n",
       "945                  3901.405000                       0   \n",
       "145                  4542.375000                       0   \n",
       "...                          ...                     ...   \n",
       "30                      0.000000                       0   \n",
       "237                     0.000000                       0   \n",
       "136                     0.000000                       0   \n",
       "1640                    0.000000                       0   \n",
       "1730                    0.000000                       0   \n",
       "\n",
       "      image_valid_source_rate  image_pay_sum_ability  image_pay_num_ability  \\\n",
       "468                       0.0                    0.0                    0.0   \n",
       "365                       0.0                    0.0                    0.0   \n",
       "250                       0.0                    0.0                    0.0   \n",
       "945                       0.0                    0.0                    0.0   \n",
       "145                       0.0                    0.0                    0.0   \n",
       "...                       ...                    ...                    ...   \n",
       "30                        0.0                    0.0                    0.0   \n",
       "237                       0.0                    0.0                    0.0   \n",
       "136                       0.0                    0.0                    0.0   \n",
       "1640                      0.0                    0.0                    0.0   \n",
       "1730                      0.0                    0.0                    0.0   \n",
       "\n",
       "      image_create_role_roi  image_create_role_retain_1d  \\\n",
       "468                0.148435                       0.0853   \n",
       "365                0.176690                       0.0896   \n",
       "250                0.055493                       0.0971   \n",
       "945                0.053357                       0.0602   \n",
       "145                0.060101                       0.1181   \n",
       "...                     ...                          ...   \n",
       "30                 0.000000                       0.0000   \n",
       "237                0.000000                       0.0000   \n",
       "136                0.000000                       0.0000   \n",
       "1640               0.000000                       0.0000   \n",
       "1730               0.000000                       0.0000   \n",
       "\n",
       "      create_role_30_pay_sum model_run_datetime  data_win  score  \n",
       "468                    22040         2020-10-06         3    772  \n",
       "365                    25744         2020-10-05         3    770  \n",
       "250                    30194         2020-10-04         3    761  \n",
       "945                    43030         2020-10-12         3    760  \n",
       "145                    29618         2020-10-03         3    753  \n",
       "...                      ...                ...       ...    ...  \n",
       "30                         0         2020-10-02         3    374  \n",
       "237                        0         2020-10-04         3    374  \n",
       "136                        0         2020-10-03         3    374  \n",
       "1640                       0         2020-10-22         3    369  \n",
       "1730                       0         2020-10-23         3    369  \n",
       "\n",
       "[2852 rows x 19 columns]"
      ]
     },
     "execution_count": 133,
     "metadata": {},
     "output_type": "execute_result"
    }
   ],
   "source": [
    "test.sort_values('score',ascending=False)"
   ]
  },
  {
   "cell_type": "code",
   "execution_count": 134,
   "metadata": {},
   "outputs": [
    {
     "data": {
      "image/png": "[encoded data removed]",
      "text/plain": [
       "<Figure size 432x288 with 1 Axes>"
      ]
     },
     "metadata": {
      "needs_background": "light"
     },
     "output_type": "display_data"
    }
   ],
   "source": [
    "sns.distplot(test['score'])\n",
    "plt.show()"
   ]
  },
  {
   "cell_type": "code",
   "execution_count": 135,
   "metadata": {},
   "outputs": [
    {
     "data": {
      "text/plain": [
       "0.5429470851269514"
      ]
     },
     "execution_count": 135,
     "metadata": {},
     "output_type": "execute_result"
    }
   ],
   "source": [
    "test[test['score']>=600]['create_role_30_pay_sum'].sum() / test[test['score']>=600]['image_run_date_amount'].sum()"
   ]
  },
  {
   "cell_type": "code",
   "execution_count": 136,
   "metadata": {},
   "outputs": [
    {
     "data": {
      "text/plain": [
       "0.2901879701530566"
      ]
     },
     "execution_count": 136,
     "metadata": {},
     "output_type": "execute_result"
    }
   ],
   "source": [
    "test[test['score']<600]['create_role_30_pay_sum'].sum() / test[test['score']<600]['image_run_date_amount'].sum()"
   ]
  },
  {
   "cell_type": "code",
   "execution_count": 137,
   "metadata": {},
   "outputs": [
    {
     "name": "stdout",
     "output_type": "stream",
     "text": [
      "高分区ROI： 0.514222528342479\n",
      "低分区ROI： 0.23067923345178099\n"
     ]
    }
   ],
   "source": [
    "print('高分区ROI：',test[test['score']>=560]['create_role_30_pay_sum'].sum() / test[test['score']>=560]['image_run_date_amount'].sum())\n",
    "print('低分区ROI：',test[test['score']<560]['create_role_30_pay_sum'].sum() / test[test['score']<560]['image_run_date_amount'].sum())"
   ]
  }
 ],
 "metadata": {
  "kernelspec": {
   "display_name": "Python 3",
   "language": "python",
   "name": "python3"
  },
  "language_info": {
   "codemirror_mode": {
    "name": "ipython",
    "version": 3
   },
   "file_extension": ".py",
   "mimetype": "text/x-python",
   "name": "python",
   "nbconvert_exporter": "python",
   "pygments_lexer": "ipython3",
   "version": "3.7.6"
  }
 },
 "nbformat": 4,
 "nbformat_minor": 4
}
