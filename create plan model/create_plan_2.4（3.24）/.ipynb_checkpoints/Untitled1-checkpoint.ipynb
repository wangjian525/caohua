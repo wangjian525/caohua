{
 "cells": [
  {
   "cell_type": "code",
   "execution_count": 1,
   "metadata": {},
   "outputs": [],
   "source": [
    "import pandas as pd\n",
    "import numpy as np"
   ]
  },
  {
   "cell_type": "code",
   "execution_count": 2,
   "metadata": {},
   "outputs": [
    {
     "name": "stderr",
     "output_type": "stream",
     "text": [
      "C:\\Users\\Administrator\\anaconda3\\lib\\site-packages\\IPython\\core\\interactiveshell.py:3063: DtypeWarning: Columns (0) have mixed types.Specify dtype option on import or set low_memory=False.\n",
      "  interactivity=interactivity, compiler=compiler, result=result)\n"
     ]
    }
   ],
   "source": [
    "df = pd.read_csv('./user_info(2021-03-25提取前1周1天).csv')"
   ]
  },
  {
   "cell_type": "code",
   "execution_count": 3,
   "metadata": {},
   "outputs": [
    {
     "data": {
      "text/plain": [
       "(168549, 17)"
      ]
     },
     "execution_count": 3,
     "metadata": {},
     "output_type": "execute_result"
    }
   ],
   "source": [
    "df.shape"
   ]
  },
  {
   "cell_type": "code",
   "execution_count": 4,
   "metadata": {},
   "outputs": [
    {
     "data": {
      "text/html": [
       "<div>\n",
       "<style scoped>\n",
       "    .dataframe tbody tr th:only-of-type {\n",
       "        vertical-align: middle;\n",
       "    }\n",
       "\n",
       "    .dataframe tbody tr th {\n",
       "        vertical-align: top;\n",
       "    }\n",
       "\n",
       "    .dataframe thead th {\n",
       "        text-align: right;\n",
       "    }\n",
       "</style>\n",
       "<table border=\"1\" class=\"dataframe\">\n",
       "  <thead>\n",
       "    <tr style=\"text-align: right;\">\n",
       "      <th></th>\n",
       "      <th>cp_server_no</th>\n",
       "      <th>channel_id</th>\n",
       "      <th>source_id</th>\n",
       "      <th>user_id</th>\n",
       "      <th>mgame_id</th>\n",
       "      <th>role_id</th>\n",
       "      <th>create_role_time</th>\n",
       "      <th>cp_server_no_create_time</th>\n",
       "      <th>money</th>\n",
       "      <th>online_time</th>\n",
       "      <th>action</th>\n",
       "      <th>n_day</th>\n",
       "      <th>user_type</th>\n",
       "      <th>big_r_money_standard</th>\n",
       "      <th>mid_r_money_standard</th>\n",
       "      <th>create_role_date</th>\n",
       "      <th>create_role_cost</th>\n",
       "    </tr>\n",
       "  </thead>\n",
       "  <tbody>\n",
       "    <tr>\n",
       "      <th>0</th>\n",
       "      <td>662139</td>\n",
       "      <td>20545</td>\n",
       "      <td>537499</td>\n",
       "      <td>140269658</td>\n",
       "      <td>1056</td>\n",
       "      <td>174740594</td>\n",
       "      <td>2021-03-21 00:27:57</td>\n",
       "      <td>2021-03-20 23:03:22</td>\n",
       "      <td>16260.0</td>\n",
       "      <td>35064</td>\n",
       "      <td>1</td>\n",
       "      <td>1</td>\n",
       "      <td>big_R</td>\n",
       "      <td>226.0</td>\n",
       "      <td>86.0</td>\n",
       "      <td>2021-03-21</td>\n",
       "      <td>54.494314</td>\n",
       "    </tr>\n",
       "    <tr>\n",
       "      <th>1</th>\n",
       "      <td>662138</td>\n",
       "      <td>20637</td>\n",
       "      <td>543860</td>\n",
       "      <td>140253827</td>\n",
       "      <td>1056</td>\n",
       "      <td>174724029</td>\n",
       "      <td>2021-03-20 21:45:43</td>\n",
       "      <td>2021-03-20 21:12:17</td>\n",
       "      <td>8714.0</td>\n",
       "      <td>74392</td>\n",
       "      <td>1</td>\n",
       "      <td>1</td>\n",
       "      <td>big_R</td>\n",
       "      <td>226.0</td>\n",
       "      <td>86.0</td>\n",
       "      <td>2021-03-20</td>\n",
       "      <td>164.736250</td>\n",
       "    </tr>\n",
       "    <tr>\n",
       "      <th>2</th>\n",
       "      <td>662137</td>\n",
       "      <td>20754</td>\n",
       "      <td>544104</td>\n",
       "      <td>140243374</td>\n",
       "      <td>1056</td>\n",
       "      <td>174712871</td>\n",
       "      <td>2021-03-20 20:28:17</td>\n",
       "      <td>2021-03-20 19:21:18</td>\n",
       "      <td>6818.0</td>\n",
       "      <td>55830</td>\n",
       "      <td>1</td>\n",
       "      <td>1</td>\n",
       "      <td>big_R</td>\n",
       "      <td>226.0</td>\n",
       "      <td>86.0</td>\n",
       "      <td>2021-03-20</td>\n",
       "      <td>55.597931</td>\n",
       "    </tr>\n",
       "    <tr>\n",
       "      <th>3</th>\n",
       "      <td>662140</td>\n",
       "      <td>20540</td>\n",
       "      <td>543440</td>\n",
       "      <td>140288034</td>\n",
       "      <td>1056</td>\n",
       "      <td>174760310</td>\n",
       "      <td>2021-03-21 09:14:57</td>\n",
       "      <td>2021-03-21 02:37:05</td>\n",
       "      <td>6710.0</td>\n",
       "      <td>58080</td>\n",
       "      <td>1</td>\n",
       "      <td>1</td>\n",
       "      <td>big_R</td>\n",
       "      <td>226.0</td>\n",
       "      <td>86.0</td>\n",
       "      <td>2021-03-21</td>\n",
       "      <td>139.849811</td>\n",
       "    </tr>\n",
       "    <tr>\n",
       "      <th>4</th>\n",
       "      <td>662129</td>\n",
       "      <td>6770</td>\n",
       "      <td>536700</td>\n",
       "      <td>140117326</td>\n",
       "      <td>1056</td>\n",
       "      <td>174580542</td>\n",
       "      <td>2021-03-19 21:39:48</td>\n",
       "      <td>2021-03-19 20:03:33</td>\n",
       "      <td>6274.0</td>\n",
       "      <td>3006</td>\n",
       "      <td>1</td>\n",
       "      <td>1</td>\n",
       "      <td>big_R</td>\n",
       "      <td>226.0</td>\n",
       "      <td>86.0</td>\n",
       "      <td>2021-03-19</td>\n",
       "      <td>148.427273</td>\n",
       "    </tr>\n",
       "  </tbody>\n",
       "</table>\n",
       "</div>"
      ],
      "text/plain": [
       "  cp_server_no  channel_id  source_id    user_id  mgame_id    role_id  \\\n",
       "0       662139       20545     537499  140269658      1056  174740594   \n",
       "1       662138       20637     543860  140253827      1056  174724029   \n",
       "2       662137       20754     544104  140243374      1056  174712871   \n",
       "3       662140       20540     543440  140288034      1056  174760310   \n",
       "4       662129        6770     536700  140117326      1056  174580542   \n",
       "\n",
       "      create_role_time cp_server_no_create_time    money  online_time  action  \\\n",
       "0  2021-03-21 00:27:57      2021-03-20 23:03:22  16260.0        35064       1   \n",
       "1  2021-03-20 21:45:43      2021-03-20 21:12:17   8714.0        74392       1   \n",
       "2  2021-03-20 20:28:17      2021-03-20 19:21:18   6818.0        55830       1   \n",
       "3  2021-03-21 09:14:57      2021-03-21 02:37:05   6710.0        58080       1   \n",
       "4  2021-03-19 21:39:48      2021-03-19 20:03:33   6274.0         3006       1   \n",
       "\n",
       "   n_day user_type  big_r_money_standard  mid_r_money_standard  \\\n",
       "0      1     big_R                 226.0                  86.0   \n",
       "1      1     big_R                 226.0                  86.0   \n",
       "2      1     big_R                 226.0                  86.0   \n",
       "3      1     big_R                 226.0                  86.0   \n",
       "4      1     big_R                 226.0                  86.0   \n",
       "\n",
       "  create_role_date  create_role_cost  \n",
       "0       2021-03-21         54.494314  \n",
       "1       2021-03-20        164.736250  \n",
       "2       2021-03-20         55.597931  \n",
       "3       2021-03-21        139.849811  \n",
       "4       2021-03-19        148.427273  "
      ]
     },
     "execution_count": 4,
     "metadata": {},
     "output_type": "execute_result"
    }
   ],
   "source": [
    "df.head()"
   ]
  },
  {
   "cell_type": "code",
   "execution_count": 5,
   "metadata": {},
   "outputs": [],
   "source": [
    "df_big = df[df['user_type']=='big_R']"
   ]
  },
  {
   "cell_type": "code",
   "execution_count": 6,
   "metadata": {},
   "outputs": [
    {
     "data": {
      "text/plain": [
       "207"
      ]
     },
     "execution_count": 6,
     "metadata": {},
     "output_type": "execute_result"
    }
   ],
   "source": [
    "df_big['source_id'].nunique()"
   ]
  }
 ],
 "metadata": {
  "kernelspec": {
   "display_name": "Python 3",
   "language": "python",
   "name": "python3"
  },
  "language_info": {
   "codemirror_mode": {
    "name": "ipython",
    "version": 3
   },
   "file_extension": ".py",
   "mimetype": "text/x-python",
   "name": "python",
   "nbconvert_exporter": "python",
   "pygments_lexer": "ipython3",
   "version": "3.7.6"
  }
 },
 "nbformat": 4,
 "nbformat_minor": 4
}
