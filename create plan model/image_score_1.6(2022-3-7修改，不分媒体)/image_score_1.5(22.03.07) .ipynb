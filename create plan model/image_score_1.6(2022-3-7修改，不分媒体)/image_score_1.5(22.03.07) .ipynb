{
 "cells": [
  {
   "cell_type": "code",
   "execution_count": 1,
   "metadata": {},
   "outputs": [],
   "source": [
    "import pandas as pd\n",
    "import numpy as np\n",
    "import matplotlib.pyplot as plt\n",
    "import seaborn as sns\n",
    "import warnings\n",
    "warnings.filterwarnings('ignore')"
   ]
  },
  {
   "cell_type": "code",
   "execution_count": 2,
   "metadata": {},
   "outputs": [],
   "source": [
    "# image_info = pd.read_excel('./image_info.xls')\n",
    "image_info = pd.read_csv('./train_data_1056(22.03.07).csv')"
   ]
  },
  {
   "cell_type": "code",
   "execution_count": 3,
   "metadata": {},
   "outputs": [],
   "source": [
    "pd.set_option('display.max_columns',None)"
   ]
  },
  {
   "cell_type": "code",
   "execution_count": 4,
   "metadata": {},
   "outputs": [
    {
     "data": {
      "text/html": [
       "<div>\n",
       "<style scoped>\n",
       "    .dataframe tbody tr th:only-of-type {\n",
       "        vertical-align: middle;\n",
       "    }\n",
       "\n",
       "    .dataframe tbody tr th {\n",
       "        vertical-align: top;\n",
       "    }\n",
       "\n",
       "    .dataframe thead th {\n",
       "        text-align: right;\n",
       "    }\n",
       "</style>\n",
       "<table border=\"1\" class=\"dataframe\">\n",
       "  <thead>\n",
       "    <tr style=\"text-align: right;\">\n",
       "      <th></th>\n",
       "      <th>image_id</th>\n",
       "      <th>image_name</th>\n",
       "      <th>media_id</th>\n",
       "      <th>image_launch_time</th>\n",
       "      <th>image_source_total_num</th>\n",
       "      <th>image_run_date_amount</th>\n",
       "      <th>image_create_role_pay_num</th>\n",
       "      <th>image_create_role_num</th>\n",
       "      <th>image_create_role_pay_sum</th>\n",
       "      <th>image_source_num</th>\n",
       "      <th>image_create_role_pay_rate</th>\n",
       "      <th>image_create_role_cost</th>\n",
       "      <th>image_create_role_pay_cost</th>\n",
       "      <th>image_valid_source_num</th>\n",
       "      <th>image_valid_source_rate</th>\n",
       "      <th>image_pay_sum_ability</th>\n",
       "      <th>image_pay_num_ability</th>\n",
       "      <th>image_create_role_roi</th>\n",
       "      <th>image_create_role_retain_1d</th>\n",
       "      <th>create_role_30_pay_sum</th>\n",
       "      <th>model_run_datetime</th>\n",
       "      <th>data_win</th>\n",
       "    </tr>\n",
       "  </thead>\n",
       "  <tbody>\n",
       "    <tr>\n",
       "      <th>0</th>\n",
       "      <td>23509</td>\n",
       "      <td>SSR1414-竖版（3D混剪）</td>\n",
       "      <td>16</td>\n",
       "      <td>2020-07-16</td>\n",
       "      <td>489.0</td>\n",
       "      <td>3913.53</td>\n",
       "      <td>0.0</td>\n",
       "      <td>57.0</td>\n",
       "      <td>0.0</td>\n",
       "      <td>1.0</td>\n",
       "      <td>0.0000</td>\n",
       "      <td>68.658421</td>\n",
       "      <td>0.000000</td>\n",
       "      <td>0.0</td>\n",
       "      <td>0.0000</td>\n",
       "      <td>0.0</td>\n",
       "      <td>0.0</td>\n",
       "      <td>0.000000</td>\n",
       "      <td>0.0702</td>\n",
       "      <td>262.0</td>\n",
       "      <td>2021-05-01</td>\n",
       "      <td>3</td>\n",
       "    </tr>\n",
       "    <tr>\n",
       "      <th>1</th>\n",
       "      <td>24402</td>\n",
       "      <td>SSR1588-横版（端游混剪）</td>\n",
       "      <td>16</td>\n",
       "      <td>2020-08-17</td>\n",
       "      <td>978.0</td>\n",
       "      <td>39198.18</td>\n",
       "      <td>10.0</td>\n",
       "      <td>747.0</td>\n",
       "      <td>3472.0</td>\n",
       "      <td>16.0</td>\n",
       "      <td>0.0134</td>\n",
       "      <td>52.474137</td>\n",
       "      <td>3919.818000</td>\n",
       "      <td>0.0</td>\n",
       "      <td>0.0000</td>\n",
       "      <td>0.0</td>\n",
       "      <td>0.0</td>\n",
       "      <td>0.088576</td>\n",
       "      <td>0.0636</td>\n",
       "      <td>13370.0</td>\n",
       "      <td>2021-05-01</td>\n",
       "      <td>3</td>\n",
       "    </tr>\n",
       "    <tr>\n",
       "      <th>2</th>\n",
       "      <td>26441</td>\n",
       "      <td>SSR1909-竖版（3D混剪）</td>\n",
       "      <td>16</td>\n",
       "      <td>2020-11-10</td>\n",
       "      <td>757.0</td>\n",
       "      <td>78904.83</td>\n",
       "      <td>14.0</td>\n",
       "      <td>2120.0</td>\n",
       "      <td>1478.0</td>\n",
       "      <td>26.0</td>\n",
       "      <td>0.0066</td>\n",
       "      <td>37.219259</td>\n",
       "      <td>5636.059286</td>\n",
       "      <td>2.0</td>\n",
       "      <td>0.0769</td>\n",
       "      <td>739.0</td>\n",
       "      <td>7.0</td>\n",
       "      <td>0.018731</td>\n",
       "      <td>0.0729</td>\n",
       "      <td>44716.0</td>\n",
       "      <td>2021-05-01</td>\n",
       "      <td>3</td>\n",
       "    </tr>\n",
       "    <tr>\n",
       "      <th>3</th>\n",
       "      <td>27824</td>\n",
       "      <td>SSR2078-横版（3D混剪）</td>\n",
       "      <td>16</td>\n",
       "      <td>2020-12-16</td>\n",
       "      <td>508.0</td>\n",
       "      <td>9341.00</td>\n",
       "      <td>0.0</td>\n",
       "      <td>81.0</td>\n",
       "      <td>0.0</td>\n",
       "      <td>7.0</td>\n",
       "      <td>0.0000</td>\n",
       "      <td>115.320988</td>\n",
       "      <td>0.000000</td>\n",
       "      <td>0.0</td>\n",
       "      <td>0.0000</td>\n",
       "      <td>0.0</td>\n",
       "      <td>0.0</td>\n",
       "      <td>0.000000</td>\n",
       "      <td>0.1333</td>\n",
       "      <td>1496.0</td>\n",
       "      <td>2021-05-01</td>\n",
       "      <td>3</td>\n",
       "    </tr>\n",
       "    <tr>\n",
       "      <th>4</th>\n",
       "      <td>27945</td>\n",
       "      <td>SSR2101-横版（3D混剪)</td>\n",
       "      <td>16</td>\n",
       "      <td>2020-12-21</td>\n",
       "      <td>626.0</td>\n",
       "      <td>14992.50</td>\n",
       "      <td>2.0</td>\n",
       "      <td>117.0</td>\n",
       "      <td>254.0</td>\n",
       "      <td>3.0</td>\n",
       "      <td>0.0171</td>\n",
       "      <td>128.141026</td>\n",
       "      <td>7496.250000</td>\n",
       "      <td>0.0</td>\n",
       "      <td>0.0000</td>\n",
       "      <td>0.0</td>\n",
       "      <td>0.0</td>\n",
       "      <td>0.016942</td>\n",
       "      <td>0.1538</td>\n",
       "      <td>6368.0</td>\n",
       "      <td>2021-05-01</td>\n",
       "      <td>3</td>\n",
       "    </tr>\n",
       "  </tbody>\n",
       "</table>\n",
       "</div>"
      ],
      "text/plain": [
       "   image_id        image_name  media_id image_launch_time  \\\n",
       "0     23509  SSR1414-竖版（3D混剪）        16        2020-07-16   \n",
       "1     24402  SSR1588-横版（端游混剪）        16        2020-08-17   \n",
       "2     26441  SSR1909-竖版（3D混剪）        16        2020-11-10   \n",
       "3     27824  SSR2078-横版（3D混剪）        16        2020-12-16   \n",
       "4     27945  SSR2101-横版（3D混剪)        16        2020-12-21   \n",
       "\n",
       "   image_source_total_num  image_run_date_amount  image_create_role_pay_num  \\\n",
       "0                   489.0                3913.53                        0.0   \n",
       "1                   978.0               39198.18                       10.0   \n",
       "2                   757.0               78904.83                       14.0   \n",
       "3                   508.0                9341.00                        0.0   \n",
       "4                   626.0               14992.50                        2.0   \n",
       "\n",
       "   image_create_role_num  image_create_role_pay_sum  image_source_num  \\\n",
       "0                   57.0                        0.0               1.0   \n",
       "1                  747.0                     3472.0              16.0   \n",
       "2                 2120.0                     1478.0              26.0   \n",
       "3                   81.0                        0.0               7.0   \n",
       "4                  117.0                      254.0               3.0   \n",
       "\n",
       "   image_create_role_pay_rate  image_create_role_cost  \\\n",
       "0                      0.0000               68.658421   \n",
       "1                      0.0134               52.474137   \n",
       "2                      0.0066               37.219259   \n",
       "3                      0.0000              115.320988   \n",
       "4                      0.0171              128.141026   \n",
       "\n",
       "   image_create_role_pay_cost  image_valid_source_num  \\\n",
       "0                    0.000000                     0.0   \n",
       "1                 3919.818000                     0.0   \n",
       "2                 5636.059286                     2.0   \n",
       "3                    0.000000                     0.0   \n",
       "4                 7496.250000                     0.0   \n",
       "\n",
       "   image_valid_source_rate  image_pay_sum_ability  image_pay_num_ability  \\\n",
       "0                   0.0000                    0.0                    0.0   \n",
       "1                   0.0000                    0.0                    0.0   \n",
       "2                   0.0769                  739.0                    7.0   \n",
       "3                   0.0000                    0.0                    0.0   \n",
       "4                   0.0000                    0.0                    0.0   \n",
       "\n",
       "   image_create_role_roi  image_create_role_retain_1d  create_role_30_pay_sum  \\\n",
       "0               0.000000                       0.0702                   262.0   \n",
       "1               0.088576                       0.0636                 13370.0   \n",
       "2               0.018731                       0.0729                 44716.0   \n",
       "3               0.000000                       0.1333                  1496.0   \n",
       "4               0.016942                       0.1538                  6368.0   \n",
       "\n",
       "  model_run_datetime  data_win  \n",
       "0         2021-05-01         3  \n",
       "1         2021-05-01         3  \n",
       "2         2021-05-01         3  \n",
       "3         2021-05-01         3  \n",
       "4         2021-05-01         3  "
      ]
     },
     "execution_count": 4,
     "metadata": {},
     "output_type": "execute_result"
    }
   ],
   "source": [
    "image_info.head()"
   ]
  },
  {
   "cell_type": "code",
   "execution_count": 5,
   "metadata": {},
   "outputs": [
    {
     "data": {
      "text/plain": [
       "Index(['image_id', 'image_name', 'media_id', 'image_launch_time',\n",
       "       'image_source_total_num', 'image_run_date_amount',\n",
       "       'image_create_role_pay_num', 'image_create_role_num',\n",
       "       'image_create_role_pay_sum', 'image_source_num',\n",
       "       'image_create_role_pay_rate', 'image_create_role_cost',\n",
       "       'image_create_role_pay_cost', 'image_valid_source_num',\n",
       "       'image_valid_source_rate', 'image_pay_sum_ability',\n",
       "       'image_pay_num_ability', 'image_create_role_roi',\n",
       "       'image_create_role_retain_1d', 'create_role_30_pay_sum',\n",
       "       'model_run_datetime', 'data_win'],\n",
       "      dtype='object')"
      ]
     },
     "execution_count": 5,
     "metadata": {},
     "output_type": "execute_result"
    }
   ],
   "source": [
    "image_info.columns"
   ]
  },
  {
   "cell_type": "code",
   "execution_count": 6,
   "metadata": {},
   "outputs": [
    {
     "data": {
      "text/plain": [
       "'2021-05-01'"
      ]
     },
     "execution_count": 6,
     "metadata": {},
     "output_type": "execute_result"
    }
   ],
   "source": [
    "image_info['model_run_datetime'].min()"
   ]
  },
  {
   "cell_type": "code",
   "execution_count": 7,
   "metadata": {},
   "outputs": [
    {
     "data": {
      "text/plain": [
       "'2022-02-01'"
      ]
     },
     "execution_count": 7,
     "metadata": {},
     "output_type": "execute_result"
    }
   ],
   "source": [
    "image_info['model_run_datetime'].max()"
   ]
  },
  {
   "cell_type": "code",
   "execution_count": 8,
   "metadata": {},
   "outputs": [
    {
     "data": {
      "text/plain": [
       "(75175, 22)"
      ]
     },
     "execution_count": 8,
     "metadata": {},
     "output_type": "execute_result"
    }
   ],
   "source": [
    "image_info.shape"
   ]
  },
  {
   "cell_type": "code",
   "execution_count": 9,
   "metadata": {},
   "outputs": [
    {
     "data": {
      "text/plain": [
       "2581"
      ]
     },
     "execution_count": 9,
     "metadata": {},
     "output_type": "execute_result"
    }
   ],
   "source": [
    "image_info['image_id'].nunique()"
   ]
  },
  {
   "cell_type": "code",
   "execution_count": 10,
   "metadata": {},
   "outputs": [],
   "source": [
    "image_info['image_30_roi'] = image_info['create_role_30_pay_sum'] / image_info['image_run_date_amount']"
   ]
  },
  {
   "cell_type": "code",
   "execution_count": 11,
   "metadata": {},
   "outputs": [
    {
     "data": {
      "text/plain": [
       "image_30_roi                   1.000000\n",
       "image_create_role_roi          0.235949\n",
       "create_role_30_pay_sum         0.122365\n",
       "image_create_role_pay_rate     0.087855\n",
       "image_create_role_retain_1d    0.065373\n",
       "image_create_role_pay_sum      0.039919\n",
       "image_valid_source_rate        0.036365\n",
       "image_pay_sum_ability          0.028028\n",
       "image_valid_source_num         0.026599\n",
       "image_source_total_num         0.024990\n",
       "image_create_role_pay_num      0.016156\n",
       "image_source_num               0.014092\n",
       "image_pay_num_ability          0.012080\n",
       "image_create_role_num          0.010958\n",
       "image_run_date_amount          0.010309\n",
       "image_create_role_pay_cost     0.008397\n",
       "media_id                      -0.011729\n",
       "image_create_role_cost        -0.017878\n",
       "image_id                      -0.021848\n",
       "data_win                            NaN\n",
       "Name: image_30_roi, dtype: float64"
      ]
     },
     "execution_count": 11,
     "metadata": {},
     "output_type": "execute_result"
    }
   ],
   "source": [
    "image_info.corr()['image_30_roi'].sort_values(ascending=False)"
   ]
  },
  {
   "cell_type": "code",
   "execution_count": 12,
   "metadata": {},
   "outputs": [],
   "source": [
    "image_info['label'] = image_info['image_30_roi'].apply(lambda x:1 if x>=0.4 else(0 if x<0.25 else 2))"
   ]
  },
  {
   "cell_type": "code",
   "execution_count": 13,
   "metadata": {},
   "outputs": [],
   "source": [
    "image_info_label = image_info[image_info['label']!=2]"
   ]
  },
  {
   "cell_type": "markdown",
   "metadata": {},
   "source": [
    "### EDA"
   ]
  },
  {
   "cell_type": "code",
   "execution_count": 14,
   "metadata": {
    "scrolled": true
   },
   "outputs": [
    {
     "data": {
      "text/plain": [
       "(68929, 24)"
      ]
     },
     "execution_count": 14,
     "metadata": {},
     "output_type": "execute_result"
    }
   ],
   "source": [
    "image_info_label.shape"
   ]
  },
  {
   "cell_type": "code",
   "execution_count": 15,
   "metadata": {},
   "outputs": [],
   "source": [
    "image_info_label = image_info_label[image_info_label['image_run_date_amount']>=500]"
   ]
  },
  {
   "cell_type": "code",
   "execution_count": 16,
   "metadata": {},
   "outputs": [
    {
     "data": {
      "text/plain": [
       "(58800, 24)"
      ]
     },
     "execution_count": 16,
     "metadata": {},
     "output_type": "execute_result"
    }
   ],
   "source": [
    "image_info_label.shape"
   ]
  },
  {
   "cell_type": "code",
   "execution_count": 17,
   "metadata": {},
   "outputs": [
    {
     "data": {
      "text/plain": [
       "data_win                           1\n",
       "label                              2\n",
       "media_id                           2\n",
       "image_valid_source_num            50\n",
       "image_create_role_pay_num        149\n",
       "image_pay_num_ability            253\n",
       "model_run_datetime               277\n",
       "image_source_num                 299\n",
       "image_launch_time                334\n",
       "image_source_total_num           376\n",
       "image_valid_source_rate          511\n",
       "image_create_role_pay_rate       834\n",
       "image_pay_sum_ability           1677\n",
       "image_id                        2484\n",
       "image_name                      2484\n",
       "image_create_role_retain_1d     2616\n",
       "image_create_role_num           2639\n",
       "image_create_role_pay_sum       3638\n",
       "create_role_30_pay_sum         11194\n",
       "image_create_role_roi          21926\n",
       "image_create_role_pay_cost     27129\n",
       "image_30_roi                   38122\n",
       "image_run_date_amount          56220\n",
       "image_create_role_cost         56372\n",
       "dtype: int64"
      ]
     },
     "execution_count": 17,
     "metadata": {},
     "output_type": "execute_result"
    }
   ],
   "source": [
    "image_info_label.nunique().sort_values()"
   ]
  },
  {
   "cell_type": "code",
   "execution_count": 18,
   "metadata": {},
   "outputs": [],
   "source": [
    "image_info_label.drop(['data_win','image_30_roi'], axis=1, inplace=True)"
   ]
  },
  {
   "cell_type": "code",
   "execution_count": 19,
   "metadata": {
    "scrolled": true
   },
   "outputs": [
    {
     "data": {
      "text/plain": [
       "0.0     53476\n",
       "1.0      1058\n",
       "2.0       989\n",
       "3.0       768\n",
       "4.0       674\n",
       "5.0       444\n",
       "6.0       321\n",
       "7.0       243\n",
       "8.0       151\n",
       "9.0       136\n",
       "10.0      105\n",
       "11.0       68\n",
       "12.0       66\n",
       "13.0       53\n",
       "14.0       32\n",
       "15.0       31\n",
       "16.0       28\n",
       "17.0       21\n",
       "20.0       17\n",
       "18.0       17\n",
       "21.0       16\n",
       "19.0       10\n",
       "23.0        7\n",
       "30.0        6\n",
       "25.0        6\n",
       "26.0        6\n",
       "27.0        6\n",
       "22.0        6\n",
       "31.0        4\n",
       "24.0        4\n",
       "29.0        4\n",
       "28.0        3\n",
       "61.0        2\n",
       "34.0        2\n",
       "32.0        2\n",
       "53.0        2\n",
       "33.0        2\n",
       "35.0        2\n",
       "51.0        1\n",
       "38.0        1\n",
       "56.0        1\n",
       "43.0        1\n",
       "42.0        1\n",
       "65.0        1\n",
       "50.0        1\n",
       "46.0        1\n",
       "40.0        1\n",
       "45.0        1\n",
       "55.0        1\n",
       "36.0        1\n",
       "Name: image_valid_source_num, dtype: int64"
      ]
     },
     "execution_count": 19,
     "metadata": {},
     "output_type": "execute_result"
    }
   ],
   "source": [
    "image_info_label['image_valid_source_num'].value_counts()"
   ]
  },
  {
   "cell_type": "code",
   "execution_count": 20,
   "metadata": {},
   "outputs": [
    {
     "data": {
      "image/png": "[encoded data removed]",
      "text/plain": [
       "<Figure size 432x288 with 1 Axes>"
      ]
     },
     "metadata": {
      "needs_background": "light"
     },
     "output_type": "display_data"
    },
    {
     "data": {
      "image/png": "[encoded data removed]",
      "text/plain": [
       "<Figure size 432x288 with 1 Axes>"
      ]
     },
     "metadata": {
      "needs_background": "light"
     },
     "output_type": "display_data"
    },
    {
     "data": {
      "image/png": "[encoded data removed]",
      "text/plain": [
       "<Figure size 432x288 with 1 Axes>"
      ]
     },
     "metadata": {
      "needs_background": "light"
     },
     "output_type": "display_data"
    },
    {
     "data": {
      "image/png": "[encoded data removed]",
      "text/plain": [
       "<Figure size 432x288 with 1 Axes>"
      ]
     },
     "metadata": {
      "needs_background": "light"
     },
     "output_type": "display_data"
    },
    {
     "data": {
      "image/png": "[encoded data removed]",
      "text/plain": [
       "<Figure size 432x288 with 1 Axes>"
      ]
     },
     "metadata": {
      "needs_background": "light"
     },
     "output_type": "display_data"
    },
    {
     "data": {
      "image/png": "[encoded data removed]",
      "text/plain": [
       "<Figure size 432x288 with 1 Axes>"
      ]
     },
     "metadata": {
      "needs_background": "light"
     },
     "output_type": "display_data"
    },
    {
     "data": {
      "image/png": "[encoded data removed]",
      "text/plain": [
       "<Figure size 432x288 with 1 Axes>"
      ]
     },
     "metadata": {
      "needs_background": "light"
     },
     "output_type": "display_data"
    },
    {
     "data": {
      "image/png": "[encoded data removed]",
      "text/plain": [
       "<Figure size 432x288 with 1 Axes>"
      ]
     },
     "metadata": {
      "needs_background": "light"
     },
     "output_type": "display_data"
    },
    {
     "data": {
      "image/png": "[encoded data removed]",
      "text/plain": [
       "<Figure size 432x288 with 1 Axes>"
      ]
     },
     "metadata": {
      "needs_background": "light"
     },
     "output_type": "display_data"
    },
    {
     "data": {
      "image/png": "[encoded data removed]",
      "text/plain": [
       "<Figure size 432x288 with 1 Axes>"
      ]
     },
     "metadata": {
      "needs_background": "light"
     },
     "output_type": "display_data"
    }
   ],
   "source": [
    "columns = ['image_run_date_amount', 'image_create_role_pay_num',\n",
    "       'image_create_role_num', 'image_create_role_pay_sum',\n",
    "       'image_source_num', 'image_create_role_pay_rate',\n",
    "       'image_create_role_cost', 'image_create_role_pay_cost',\n",
    "       'image_create_role_roi', 'image_create_role_retain_1d']\n",
    "for col in columns:\n",
    "    sns.distplot(image_info_label[col])\n",
    "    plt.show()"
   ]
  },
  {
   "cell_type": "code",
   "execution_count": 21,
   "metadata": {
    "scrolled": true
   },
   "outputs": [
    {
     "data": {
      "text/plain": [
       "(1582, 22)"
      ]
     },
     "execution_count": 21,
     "metadata": {},
     "output_type": "execute_result"
    }
   ],
   "source": [
    "image_info_label[image_info_label['image_create_role_cost']>=800].shape"
   ]
  },
  {
   "cell_type": "code",
   "execution_count": 22,
   "metadata": {},
   "outputs": [],
   "source": [
    "image_info_label = image_info_label[image_info_label['image_create_role_cost']<800]"
   ]
  },
  {
   "cell_type": "code",
   "execution_count": 23,
   "metadata": {},
   "outputs": [],
   "source": [
    "image_info_label['image_create_role_cost'].replace(0,float('inf'),inplace=True)"
   ]
  },
  {
   "cell_type": "code",
   "execution_count": 24,
   "metadata": {},
   "outputs": [],
   "source": [
    "image_info_label['image_create_role_pay_cost'].replace(0,float('inf'),inplace=True)"
   ]
  },
  {
   "cell_type": "code",
   "execution_count": 25,
   "metadata": {},
   "outputs": [
    {
     "data": {
      "text/plain": [
       "283.648          1\n",
       "287.445          1\n",
       "290.035          1\n",
       "302.310          1\n",
       "302.320          1\n",
       "             ...  \n",
       "63130.230        1\n",
       "68889.630        1\n",
       "73714.320        1\n",
       "74693.290        1\n",
       "inf          30002\n",
       "Name: image_create_role_pay_cost, Length: 26997, dtype: int64"
      ]
     },
     "execution_count": 25,
     "metadata": {},
     "output_type": "execute_result"
    }
   ],
   "source": [
    "image_info_label['image_create_role_pay_cost'].value_counts().sort_index()"
   ]
  },
  {
   "cell_type": "code",
   "execution_count": 26,
   "metadata": {},
   "outputs": [],
   "source": [
    "image_info_label = image_info_label[image_info_label['image_create_role_pay_cost']>1000]"
   ]
  },
  {
   "cell_type": "code",
   "execution_count": 27,
   "metadata": {},
   "outputs": [
    {
     "data": {
      "text/plain": [
       "(56646, 22)"
      ]
     },
     "execution_count": 27,
     "metadata": {},
     "output_type": "execute_result"
    }
   ],
   "source": [
    "image_info_label.shape"
   ]
  },
  {
   "cell_type": "code",
   "execution_count": 28,
   "metadata": {},
   "outputs": [
    {
     "data": {
      "image/png": "[encoded data removed]",
      "text/plain": [
       "<Figure size 432x288 with 1 Axes>"
      ]
     },
     "metadata": {
      "needs_background": "light"
     },
     "output_type": "display_data"
    }
   ],
   "source": [
    "sns.countplot(x='label',data=image_info_label)\n",
    "plt.show()"
   ]
  },
  {
   "cell_type": "code",
   "execution_count": 29,
   "metadata": {},
   "outputs": [
    {
     "data": {
      "text/html": [
       "<div>\n",
       "<style scoped>\n",
       "    .dataframe tbody tr th:only-of-type {\n",
       "        vertical-align: middle;\n",
       "    }\n",
       "\n",
       "    .dataframe tbody tr th {\n",
       "        vertical-align: top;\n",
       "    }\n",
       "\n",
       "    .dataframe thead th {\n",
       "        text-align: right;\n",
       "    }\n",
       "</style>\n",
       "<table border=\"1\" class=\"dataframe\">\n",
       "  <thead>\n",
       "    <tr style=\"text-align: right;\">\n",
       "      <th></th>\n",
       "      <th>image_id</th>\n",
       "      <th>media_id</th>\n",
       "      <th>image_source_total_num</th>\n",
       "      <th>image_run_date_amount</th>\n",
       "      <th>image_create_role_pay_num</th>\n",
       "      <th>image_create_role_num</th>\n",
       "      <th>image_create_role_pay_sum</th>\n",
       "      <th>image_source_num</th>\n",
       "      <th>image_create_role_pay_rate</th>\n",
       "      <th>image_create_role_cost</th>\n",
       "      <th>image_create_role_pay_cost</th>\n",
       "      <th>image_valid_source_num</th>\n",
       "      <th>image_valid_source_rate</th>\n",
       "      <th>image_pay_sum_ability</th>\n",
       "      <th>image_pay_num_ability</th>\n",
       "      <th>image_create_role_roi</th>\n",
       "      <th>image_create_role_retain_1d</th>\n",
       "      <th>create_role_30_pay_sum</th>\n",
       "      <th>label</th>\n",
       "    </tr>\n",
       "  </thead>\n",
       "  <tbody>\n",
       "    <tr>\n",
       "      <th>image_id</th>\n",
       "      <td>1.000000</td>\n",
       "      <td>-0.051629</td>\n",
       "      <td>-0.346504</td>\n",
       "      <td>-0.135999</td>\n",
       "      <td>-0.148445</td>\n",
       "      <td>-0.139339</td>\n",
       "      <td>-0.119928</td>\n",
       "      <td>-0.106043</td>\n",
       "      <td>-0.022315</td>\n",
       "      <td>0.223591</td>\n",
       "      <td>0.090524</td>\n",
       "      <td>-0.015628</td>\n",
       "      <td>-0.027514</td>\n",
       "      <td>-0.010550</td>\n",
       "      <td>-0.013637</td>\n",
       "      <td>-0.042214</td>\n",
       "      <td>-0.083530</td>\n",
       "      <td>-0.118079</td>\n",
       "      <td>-0.134715</td>\n",
       "    </tr>\n",
       "    <tr>\n",
       "      <th>media_id</th>\n",
       "      <td>-0.051629</td>\n",
       "      <td>1.000000</td>\n",
       "      <td>0.064927</td>\n",
       "      <td>-0.069058</td>\n",
       "      <td>-0.099578</td>\n",
       "      <td>-0.083186</td>\n",
       "      <td>-0.079523</td>\n",
       "      <td>0.022597</td>\n",
       "      <td>-0.091750</td>\n",
       "      <td>-0.018717</td>\n",
       "      <td>0.113411</td>\n",
       "      <td>-0.029860</td>\n",
       "      <td>-0.053131</td>\n",
       "      <td>-0.033548</td>\n",
       "      <td>-0.040652</td>\n",
       "      <td>-0.043740</td>\n",
       "      <td>-0.128130</td>\n",
       "      <td>-0.054567</td>\n",
       "      <td>-0.054144</td>\n",
       "    </tr>\n",
       "    <tr>\n",
       "      <th>image_source_total_num</th>\n",
       "      <td>-0.346504</td>\n",
       "      <td>0.064927</td>\n",
       "      <td>1.000000</td>\n",
       "      <td>0.400354</td>\n",
       "      <td>0.351933</td>\n",
       "      <td>0.331163</td>\n",
       "      <td>0.308087</td>\n",
       "      <td>0.458869</td>\n",
       "      <td>0.032369</td>\n",
       "      <td>-0.152116</td>\n",
       "      <td>0.036801</td>\n",
       "      <td>0.020921</td>\n",
       "      <td>-0.019222</td>\n",
       "      <td>0.031573</td>\n",
       "      <td>0.042316</td>\n",
       "      <td>0.051390</td>\n",
       "      <td>0.060940</td>\n",
       "      <td>0.363236</td>\n",
       "      <td>0.243970</td>\n",
       "    </tr>\n",
       "    <tr>\n",
       "      <th>image_run_date_amount</th>\n",
       "      <td>-0.135999</td>\n",
       "      <td>-0.069058</td>\n",
       "      <td>0.400354</td>\n",
       "      <td>1.000000</td>\n",
       "      <td>0.957106</td>\n",
       "      <td>0.921852</td>\n",
       "      <td>0.820092</td>\n",
       "      <td>0.665675</td>\n",
       "      <td>0.027432</td>\n",
       "      <td>-0.195176</td>\n",
       "      <td>0.019286</td>\n",
       "      <td>-0.002230</td>\n",
       "      <td>-0.053105</td>\n",
       "      <td>0.065449</td>\n",
       "      <td>0.080246</td>\n",
       "      <td>0.084199</td>\n",
       "      <td>-0.045817</td>\n",
       "      <td>0.845171</td>\n",
       "      <td>0.342390</td>\n",
       "    </tr>\n",
       "    <tr>\n",
       "      <th>image_create_role_pay_num</th>\n",
       "      <td>-0.148445</td>\n",
       "      <td>-0.099578</td>\n",
       "      <td>0.351933</td>\n",
       "      <td>0.957106</td>\n",
       "      <td>1.000000</td>\n",
       "      <td>0.938729</td>\n",
       "      <td>0.837851</td>\n",
       "      <td>0.571257</td>\n",
       "      <td>0.073069</td>\n",
       "      <td>-0.185279</td>\n",
       "      <td>-0.132127</td>\n",
       "      <td>0.041266</td>\n",
       "      <td>-0.006824</td>\n",
       "      <td>0.079271</td>\n",
       "      <td>0.105805</td>\n",
       "      <td>0.098759</td>\n",
       "      <td>-0.025661</td>\n",
       "      <td>0.832246</td>\n",
       "      <td>0.338623</td>\n",
       "    </tr>\n",
       "    <tr>\n",
       "      <th>image_create_role_num</th>\n",
       "      <td>-0.139339</td>\n",
       "      <td>-0.083186</td>\n",
       "      <td>0.331163</td>\n",
       "      <td>0.921852</td>\n",
       "      <td>0.938729</td>\n",
       "      <td>1.000000</td>\n",
       "      <td>0.778939</td>\n",
       "      <td>0.537747</td>\n",
       "      <td>-0.010044</td>\n",
       "      <td>-0.201542</td>\n",
       "      <td>-0.051022</td>\n",
       "      <td>-0.012519</td>\n",
       "      <td>-0.041350</td>\n",
       "      <td>0.051824</td>\n",
       "      <td>0.065900</td>\n",
       "      <td>0.067859</td>\n",
       "      <td>-0.061570</td>\n",
       "      <td>0.804372</td>\n",
       "      <td>0.295375</td>\n",
       "    </tr>\n",
       "    <tr>\n",
       "      <th>image_create_role_pay_sum</th>\n",
       "      <td>-0.119928</td>\n",
       "      <td>-0.079523</td>\n",
       "      <td>0.308087</td>\n",
       "      <td>0.820092</td>\n",
       "      <td>0.837851</td>\n",
       "      <td>0.778939</td>\n",
       "      <td>1.000000</td>\n",
       "      <td>0.495822</td>\n",
       "      <td>0.054822</td>\n",
       "      <td>-0.142191</td>\n",
       "      <td>-0.086623</td>\n",
       "      <td>0.027070</td>\n",
       "      <td>-0.017899</td>\n",
       "      <td>0.131780</td>\n",
       "      <td>0.082505</td>\n",
       "      <td>0.281904</td>\n",
       "      <td>-0.021330</td>\n",
       "      <td>0.807926</td>\n",
       "      <td>0.366383</td>\n",
       "    </tr>\n",
       "    <tr>\n",
       "      <th>image_source_num</th>\n",
       "      <td>-0.106043</td>\n",
       "      <td>0.022597</td>\n",
       "      <td>0.458869</td>\n",
       "      <td>0.665675</td>\n",
       "      <td>0.571257</td>\n",
       "      <td>0.537747</td>\n",
       "      <td>0.495822</td>\n",
       "      <td>1.000000</td>\n",
       "      <td>0.053936</td>\n",
       "      <td>-0.163801</td>\n",
       "      <td>0.096498</td>\n",
       "      <td>0.035595</td>\n",
       "      <td>-0.074246</td>\n",
       "      <td>0.032654</td>\n",
       "      <td>0.037123</td>\n",
       "      <td>0.082243</td>\n",
       "      <td>-0.008786</td>\n",
       "      <td>0.571486</td>\n",
       "      <td>0.329923</td>\n",
       "    </tr>\n",
       "    <tr>\n",
       "      <th>image_create_role_pay_rate</th>\n",
       "      <td>-0.022315</td>\n",
       "      <td>-0.091750</td>\n",
       "      <td>0.032369</td>\n",
       "      <td>0.027432</td>\n",
       "      <td>0.073069</td>\n",
       "      <td>-0.010044</td>\n",
       "      <td>0.054822</td>\n",
       "      <td>0.053936</td>\n",
       "      <td>1.000000</td>\n",
       "      <td>0.122322</td>\n",
       "      <td>-0.368635</td>\n",
       "      <td>0.267326</td>\n",
       "      <td>0.358592</td>\n",
       "      <td>0.075756</td>\n",
       "      <td>0.134367</td>\n",
       "      <td>0.233255</td>\n",
       "      <td>0.271169</td>\n",
       "      <td>0.036376</td>\n",
       "      <td>0.165466</td>\n",
       "    </tr>\n",
       "    <tr>\n",
       "      <th>image_create_role_cost</th>\n",
       "      <td>0.223591</td>\n",
       "      <td>-0.018717</td>\n",
       "      <td>-0.152116</td>\n",
       "      <td>-0.195176</td>\n",
       "      <td>-0.185279</td>\n",
       "      <td>-0.201542</td>\n",
       "      <td>-0.142191</td>\n",
       "      <td>-0.163801</td>\n",
       "      <td>0.122322</td>\n",
       "      <td>1.000000</td>\n",
       "      <td>0.057508</td>\n",
       "      <td>-0.011687</td>\n",
       "      <td>-0.021522</td>\n",
       "      <td>-0.020964</td>\n",
       "      <td>-0.042007</td>\n",
       "      <td>-0.044667</td>\n",
       "      <td>0.194519</td>\n",
       "      <td>-0.166920</td>\n",
       "      <td>-0.195709</td>\n",
       "    </tr>\n",
       "    <tr>\n",
       "      <th>image_create_role_pay_cost</th>\n",
       "      <td>0.090524</td>\n",
       "      <td>0.113411</td>\n",
       "      <td>0.036801</td>\n",
       "      <td>0.019286</td>\n",
       "      <td>-0.132127</td>\n",
       "      <td>-0.051022</td>\n",
       "      <td>-0.086623</td>\n",
       "      <td>0.096498</td>\n",
       "      <td>-0.368635</td>\n",
       "      <td>0.057508</td>\n",
       "      <td>1.000000</td>\n",
       "      <td>-0.174636</td>\n",
       "      <td>-0.260216</td>\n",
       "      <td>-0.052882</td>\n",
       "      <td>-0.106902</td>\n",
       "      <td>-0.110627</td>\n",
       "      <td>-0.178821</td>\n",
       "      <td>-0.053018</td>\n",
       "      <td>-0.124401</td>\n",
       "    </tr>\n",
       "    <tr>\n",
       "      <th>image_valid_source_num</th>\n",
       "      <td>-0.015628</td>\n",
       "      <td>-0.029860</td>\n",
       "      <td>0.020921</td>\n",
       "      <td>-0.002230</td>\n",
       "      <td>0.041266</td>\n",
       "      <td>-0.012519</td>\n",
       "      <td>0.027070</td>\n",
       "      <td>0.035595</td>\n",
       "      <td>0.267326</td>\n",
       "      <td>-0.011687</td>\n",
       "      <td>-0.174636</td>\n",
       "      <td>1.000000</td>\n",
       "      <td>0.578602</td>\n",
       "      <td>0.106291</td>\n",
       "      <td>0.169754</td>\n",
       "      <td>0.093364</td>\n",
       "      <td>0.087077</td>\n",
       "      <td>0.016823</td>\n",
       "      <td>0.112451</td>\n",
       "    </tr>\n",
       "    <tr>\n",
       "      <th>image_valid_source_rate</th>\n",
       "      <td>-0.027514</td>\n",
       "      <td>-0.053131</td>\n",
       "      <td>-0.019222</td>\n",
       "      <td>-0.053105</td>\n",
       "      <td>-0.006824</td>\n",
       "      <td>-0.041350</td>\n",
       "      <td>-0.017899</td>\n",
       "      <td>-0.074246</td>\n",
       "      <td>0.358592</td>\n",
       "      <td>-0.021522</td>\n",
       "      <td>-0.260216</td>\n",
       "      <td>0.578602</td>\n",
       "      <td>1.000000</td>\n",
       "      <td>0.109585</td>\n",
       "      <td>0.234701</td>\n",
       "      <td>0.089057</td>\n",
       "      <td>0.113291</td>\n",
       "      <td>-0.025953</td>\n",
       "      <td>0.096148</td>\n",
       "    </tr>\n",
       "    <tr>\n",
       "      <th>image_pay_sum_ability</th>\n",
       "      <td>-0.010550</td>\n",
       "      <td>-0.033548</td>\n",
       "      <td>0.031573</td>\n",
       "      <td>0.065449</td>\n",
       "      <td>0.079271</td>\n",
       "      <td>0.051824</td>\n",
       "      <td>0.131780</td>\n",
       "      <td>0.032654</td>\n",
       "      <td>0.075756</td>\n",
       "      <td>-0.020964</td>\n",
       "      <td>-0.052882</td>\n",
       "      <td>0.106291</td>\n",
       "      <td>0.109585</td>\n",
       "      <td>1.000000</td>\n",
       "      <td>0.728046</td>\n",
       "      <td>0.162706</td>\n",
       "      <td>0.018894</td>\n",
       "      <td>0.098578</td>\n",
       "      <td>0.093155</td>\n",
       "    </tr>\n",
       "    <tr>\n",
       "      <th>image_pay_num_ability</th>\n",
       "      <td>-0.013637</td>\n",
       "      <td>-0.040652</td>\n",
       "      <td>0.042316</td>\n",
       "      <td>0.080246</td>\n",
       "      <td>0.105805</td>\n",
       "      <td>0.065900</td>\n",
       "      <td>0.082505</td>\n",
       "      <td>0.037123</td>\n",
       "      <td>0.134367</td>\n",
       "      <td>-0.042007</td>\n",
       "      <td>-0.106902</td>\n",
       "      <td>0.169754</td>\n",
       "      <td>0.234701</td>\n",
       "      <td>0.728046</td>\n",
       "      <td>1.000000</td>\n",
       "      <td>0.051176</td>\n",
       "      <td>0.028726</td>\n",
       "      <td>0.087176</td>\n",
       "      <td>0.079349</td>\n",
       "    </tr>\n",
       "    <tr>\n",
       "      <th>image_create_role_roi</th>\n",
       "      <td>-0.042214</td>\n",
       "      <td>-0.043740</td>\n",
       "      <td>0.051390</td>\n",
       "      <td>0.084199</td>\n",
       "      <td>0.098759</td>\n",
       "      <td>0.067859</td>\n",
       "      <td>0.281904</td>\n",
       "      <td>0.082243</td>\n",
       "      <td>0.233255</td>\n",
       "      <td>-0.044667</td>\n",
       "      <td>-0.110627</td>\n",
       "      <td>0.093364</td>\n",
       "      <td>0.089057</td>\n",
       "      <td>0.162706</td>\n",
       "      <td>0.051176</td>\n",
       "      <td>1.000000</td>\n",
       "      <td>0.047877</td>\n",
       "      <td>0.157196</td>\n",
       "      <td>0.252969</td>\n",
       "    </tr>\n",
       "    <tr>\n",
       "      <th>image_create_role_retain_1d</th>\n",
       "      <td>-0.083530</td>\n",
       "      <td>-0.128130</td>\n",
       "      <td>0.060940</td>\n",
       "      <td>-0.045817</td>\n",
       "      <td>-0.025661</td>\n",
       "      <td>-0.061570</td>\n",
       "      <td>-0.021330</td>\n",
       "      <td>-0.008786</td>\n",
       "      <td>0.271169</td>\n",
       "      <td>0.194519</td>\n",
       "      <td>-0.178821</td>\n",
       "      <td>0.087077</td>\n",
       "      <td>0.113291</td>\n",
       "      <td>0.018894</td>\n",
       "      <td>0.028726</td>\n",
       "      <td>0.047877</td>\n",
       "      <td>1.000000</td>\n",
       "      <td>-0.031019</td>\n",
       "      <td>0.059358</td>\n",
       "    </tr>\n",
       "    <tr>\n",
       "      <th>create_role_30_pay_sum</th>\n",
       "      <td>-0.118079</td>\n",
       "      <td>-0.054567</td>\n",
       "      <td>0.363236</td>\n",
       "      <td>0.845171</td>\n",
       "      <td>0.832246</td>\n",
       "      <td>0.804372</td>\n",
       "      <td>0.807926</td>\n",
       "      <td>0.571486</td>\n",
       "      <td>0.036376</td>\n",
       "      <td>-0.166920</td>\n",
       "      <td>-0.053018</td>\n",
       "      <td>0.016823</td>\n",
       "      <td>-0.025953</td>\n",
       "      <td>0.098578</td>\n",
       "      <td>0.087176</td>\n",
       "      <td>0.157196</td>\n",
       "      <td>-0.031019</td>\n",
       "      <td>1.000000</td>\n",
       "      <td>0.492448</td>\n",
       "    </tr>\n",
       "    <tr>\n",
       "      <th>label</th>\n",
       "      <td>-0.134715</td>\n",
       "      <td>-0.054144</td>\n",
       "      <td>0.243970</td>\n",
       "      <td>0.342390</td>\n",
       "      <td>0.338623</td>\n",
       "      <td>0.295375</td>\n",
       "      <td>0.366383</td>\n",
       "      <td>0.329923</td>\n",
       "      <td>0.165466</td>\n",
       "      <td>-0.195709</td>\n",
       "      <td>-0.124401</td>\n",
       "      <td>0.112451</td>\n",
       "      <td>0.096148</td>\n",
       "      <td>0.093155</td>\n",
       "      <td>0.079349</td>\n",
       "      <td>0.252969</td>\n",
       "      <td>0.059358</td>\n",
       "      <td>0.492448</td>\n",
       "      <td>1.000000</td>\n",
       "    </tr>\n",
       "  </tbody>\n",
       "</table>\n",
       "</div>"
      ],
      "text/plain": [
       "                             image_id  media_id  image_source_total_num  \\\n",
       "image_id                     1.000000 -0.051629               -0.346504   \n",
       "media_id                    -0.051629  1.000000                0.064927   \n",
       "image_source_total_num      -0.346504  0.064927                1.000000   \n",
       "image_run_date_amount       -0.135999 -0.069058                0.400354   \n",
       "image_create_role_pay_num   -0.148445 -0.099578                0.351933   \n",
       "image_create_role_num       -0.139339 -0.083186                0.331163   \n",
       "image_create_role_pay_sum   -0.119928 -0.079523                0.308087   \n",
       "image_source_num            -0.106043  0.022597                0.458869   \n",
       "image_create_role_pay_rate  -0.022315 -0.091750                0.032369   \n",
       "image_create_role_cost       0.223591 -0.018717               -0.152116   \n",
       "image_create_role_pay_cost   0.090524  0.113411                0.036801   \n",
       "image_valid_source_num      -0.015628 -0.029860                0.020921   \n",
       "image_valid_source_rate     -0.027514 -0.053131               -0.019222   \n",
       "image_pay_sum_ability       -0.010550 -0.033548                0.031573   \n",
       "image_pay_num_ability       -0.013637 -0.040652                0.042316   \n",
       "image_create_role_roi       -0.042214 -0.043740                0.051390   \n",
       "image_create_role_retain_1d -0.083530 -0.128130                0.060940   \n",
       "create_role_30_pay_sum      -0.118079 -0.054567                0.363236   \n",
       "label                       -0.134715 -0.054144                0.243970   \n",
       "\n",
       "                             image_run_date_amount  image_create_role_pay_num  \\\n",
       "image_id                                 -0.135999                  -0.148445   \n",
       "media_id                                 -0.069058                  -0.099578   \n",
       "image_source_total_num                    0.400354                   0.351933   \n",
       "image_run_date_amount                     1.000000                   0.957106   \n",
       "image_create_role_pay_num                 0.957106                   1.000000   \n",
       "image_create_role_num                     0.921852                   0.938729   \n",
       "image_create_role_pay_sum                 0.820092                   0.837851   \n",
       "image_source_num                          0.665675                   0.571257   \n",
       "image_create_role_pay_rate                0.027432                   0.073069   \n",
       "image_create_role_cost                   -0.195176                  -0.185279   \n",
       "image_create_role_pay_cost                0.019286                  -0.132127   \n",
       "image_valid_source_num                   -0.002230                   0.041266   \n",
       "image_valid_source_rate                  -0.053105                  -0.006824   \n",
       "image_pay_sum_ability                     0.065449                   0.079271   \n",
       "image_pay_num_ability                     0.080246                   0.105805   \n",
       "image_create_role_roi                     0.084199                   0.098759   \n",
       "image_create_role_retain_1d              -0.045817                  -0.025661   \n",
       "create_role_30_pay_sum                    0.845171                   0.832246   \n",
       "label                                     0.342390                   0.338623   \n",
       "\n",
       "                             image_create_role_num  image_create_role_pay_sum  \\\n",
       "image_id                                 -0.139339                  -0.119928   \n",
       "media_id                                 -0.083186                  -0.079523   \n",
       "image_source_total_num                    0.331163                   0.308087   \n",
       "image_run_date_amount                     0.921852                   0.820092   \n",
       "image_create_role_pay_num                 0.938729                   0.837851   \n",
       "image_create_role_num                     1.000000                   0.778939   \n",
       "image_create_role_pay_sum                 0.778939                   1.000000   \n",
       "image_source_num                          0.537747                   0.495822   \n",
       "image_create_role_pay_rate               -0.010044                   0.054822   \n",
       "image_create_role_cost                   -0.201542                  -0.142191   \n",
       "image_create_role_pay_cost               -0.051022                  -0.086623   \n",
       "image_valid_source_num                   -0.012519                   0.027070   \n",
       "image_valid_source_rate                  -0.041350                  -0.017899   \n",
       "image_pay_sum_ability                     0.051824                   0.131780   \n",
       "image_pay_num_ability                     0.065900                   0.082505   \n",
       "image_create_role_roi                     0.067859                   0.281904   \n",
       "image_create_role_retain_1d              -0.061570                  -0.021330   \n",
       "create_role_30_pay_sum                    0.804372                   0.807926   \n",
       "label                                     0.295375                   0.366383   \n",
       "\n",
       "                             image_source_num  image_create_role_pay_rate  \\\n",
       "image_id                            -0.106043                   -0.022315   \n",
       "media_id                             0.022597                   -0.091750   \n",
       "image_source_total_num               0.458869                    0.032369   \n",
       "image_run_date_amount                0.665675                    0.027432   \n",
       "image_create_role_pay_num            0.571257                    0.073069   \n",
       "image_create_role_num                0.537747                   -0.010044   \n",
       "image_create_role_pay_sum            0.495822                    0.054822   \n",
       "image_source_num                     1.000000                    0.053936   \n",
       "image_create_role_pay_rate           0.053936                    1.000000   \n",
       "image_create_role_cost              -0.163801                    0.122322   \n",
       "image_create_role_pay_cost           0.096498                   -0.368635   \n",
       "image_valid_source_num               0.035595                    0.267326   \n",
       "image_valid_source_rate             -0.074246                    0.358592   \n",
       "image_pay_sum_ability                0.032654                    0.075756   \n",
       "image_pay_num_ability                0.037123                    0.134367   \n",
       "image_create_role_roi                0.082243                    0.233255   \n",
       "image_create_role_retain_1d         -0.008786                    0.271169   \n",
       "create_role_30_pay_sum               0.571486                    0.036376   \n",
       "label                                0.329923                    0.165466   \n",
       "\n",
       "                             image_create_role_cost  \\\n",
       "image_id                                   0.223591   \n",
       "media_id                                  -0.018717   \n",
       "image_source_total_num                    -0.152116   \n",
       "image_run_date_amount                     -0.195176   \n",
       "image_create_role_pay_num                 -0.185279   \n",
       "image_create_role_num                     -0.201542   \n",
       "image_create_role_pay_sum                 -0.142191   \n",
       "image_source_num                          -0.163801   \n",
       "image_create_role_pay_rate                 0.122322   \n",
       "image_create_role_cost                     1.000000   \n",
       "image_create_role_pay_cost                 0.057508   \n",
       "image_valid_source_num                    -0.011687   \n",
       "image_valid_source_rate                   -0.021522   \n",
       "image_pay_sum_ability                     -0.020964   \n",
       "image_pay_num_ability                     -0.042007   \n",
       "image_create_role_roi                     -0.044667   \n",
       "image_create_role_retain_1d                0.194519   \n",
       "create_role_30_pay_sum                    -0.166920   \n",
       "label                                     -0.195709   \n",
       "\n",
       "                             image_create_role_pay_cost  \\\n",
       "image_id                                       0.090524   \n",
       "media_id                                       0.113411   \n",
       "image_source_total_num                         0.036801   \n",
       "image_run_date_amount                          0.019286   \n",
       "image_create_role_pay_num                     -0.132127   \n",
       "image_create_role_num                         -0.051022   \n",
       "image_create_role_pay_sum                     -0.086623   \n",
       "image_source_num                               0.096498   \n",
       "image_create_role_pay_rate                    -0.368635   \n",
       "image_create_role_cost                         0.057508   \n",
       "image_create_role_pay_cost                     1.000000   \n",
       "image_valid_source_num                        -0.174636   \n",
       "image_valid_source_rate                       -0.260216   \n",
       "image_pay_sum_ability                         -0.052882   \n",
       "image_pay_num_ability                         -0.106902   \n",
       "image_create_role_roi                         -0.110627   \n",
       "image_create_role_retain_1d                   -0.178821   \n",
       "create_role_30_pay_sum                        -0.053018   \n",
       "label                                         -0.124401   \n",
       "\n",
       "                             image_valid_source_num  image_valid_source_rate  \\\n",
       "image_id                                  -0.015628                -0.027514   \n",
       "media_id                                  -0.029860                -0.053131   \n",
       "image_source_total_num                     0.020921                -0.019222   \n",
       "image_run_date_amount                     -0.002230                -0.053105   \n",
       "image_create_role_pay_num                  0.041266                -0.006824   \n",
       "image_create_role_num                     -0.012519                -0.041350   \n",
       "image_create_role_pay_sum                  0.027070                -0.017899   \n",
       "image_source_num                           0.035595                -0.074246   \n",
       "image_create_role_pay_rate                 0.267326                 0.358592   \n",
       "image_create_role_cost                    -0.011687                -0.021522   \n",
       "image_create_role_pay_cost                -0.174636                -0.260216   \n",
       "image_valid_source_num                     1.000000                 0.578602   \n",
       "image_valid_source_rate                    0.578602                 1.000000   \n",
       "image_pay_sum_ability                      0.106291                 0.109585   \n",
       "image_pay_num_ability                      0.169754                 0.234701   \n",
       "image_create_role_roi                      0.093364                 0.089057   \n",
       "image_create_role_retain_1d                0.087077                 0.113291   \n",
       "create_role_30_pay_sum                     0.016823                -0.025953   \n",
       "label                                      0.112451                 0.096148   \n",
       "\n",
       "                             image_pay_sum_ability  image_pay_num_ability  \\\n",
       "image_id                                 -0.010550              -0.013637   \n",
       "media_id                                 -0.033548              -0.040652   \n",
       "image_source_total_num                    0.031573               0.042316   \n",
       "image_run_date_amount                     0.065449               0.080246   \n",
       "image_create_role_pay_num                 0.079271               0.105805   \n",
       "image_create_role_num                     0.051824               0.065900   \n",
       "image_create_role_pay_sum                 0.131780               0.082505   \n",
       "image_source_num                          0.032654               0.037123   \n",
       "image_create_role_pay_rate                0.075756               0.134367   \n",
       "image_create_role_cost                   -0.020964              -0.042007   \n",
       "image_create_role_pay_cost               -0.052882              -0.106902   \n",
       "image_valid_source_num                    0.106291               0.169754   \n",
       "image_valid_source_rate                   0.109585               0.234701   \n",
       "image_pay_sum_ability                     1.000000               0.728046   \n",
       "image_pay_num_ability                     0.728046               1.000000   \n",
       "image_create_role_roi                     0.162706               0.051176   \n",
       "image_create_role_retain_1d               0.018894               0.028726   \n",
       "create_role_30_pay_sum                    0.098578               0.087176   \n",
       "label                                     0.093155               0.079349   \n",
       "\n",
       "                             image_create_role_roi  \\\n",
       "image_id                                 -0.042214   \n",
       "media_id                                 -0.043740   \n",
       "image_source_total_num                    0.051390   \n",
       "image_run_date_amount                     0.084199   \n",
       "image_create_role_pay_num                 0.098759   \n",
       "image_create_role_num                     0.067859   \n",
       "image_create_role_pay_sum                 0.281904   \n",
       "image_source_num                          0.082243   \n",
       "image_create_role_pay_rate                0.233255   \n",
       "image_create_role_cost                   -0.044667   \n",
       "image_create_role_pay_cost               -0.110627   \n",
       "image_valid_source_num                    0.093364   \n",
       "image_valid_source_rate                   0.089057   \n",
       "image_pay_sum_ability                     0.162706   \n",
       "image_pay_num_ability                     0.051176   \n",
       "image_create_role_roi                     1.000000   \n",
       "image_create_role_retain_1d               0.047877   \n",
       "create_role_30_pay_sum                    0.157196   \n",
       "label                                     0.252969   \n",
       "\n",
       "                             image_create_role_retain_1d  \\\n",
       "image_id                                       -0.083530   \n",
       "media_id                                       -0.128130   \n",
       "image_source_total_num                          0.060940   \n",
       "image_run_date_amount                          -0.045817   \n",
       "image_create_role_pay_num                      -0.025661   \n",
       "image_create_role_num                          -0.061570   \n",
       "image_create_role_pay_sum                      -0.021330   \n",
       "image_source_num                               -0.008786   \n",
       "image_create_role_pay_rate                      0.271169   \n",
       "image_create_role_cost                          0.194519   \n",
       "image_create_role_pay_cost                     -0.178821   \n",
       "image_valid_source_num                          0.087077   \n",
       "image_valid_source_rate                         0.113291   \n",
       "image_pay_sum_ability                           0.018894   \n",
       "image_pay_num_ability                           0.028726   \n",
       "image_create_role_roi                           0.047877   \n",
       "image_create_role_retain_1d                     1.000000   \n",
       "create_role_30_pay_sum                         -0.031019   \n",
       "label                                           0.059358   \n",
       "\n",
       "                             create_role_30_pay_sum     label  \n",
       "image_id                                  -0.118079 -0.134715  \n",
       "media_id                                  -0.054567 -0.054144  \n",
       "image_source_total_num                     0.363236  0.243970  \n",
       "image_run_date_amount                      0.845171  0.342390  \n",
       "image_create_role_pay_num                  0.832246  0.338623  \n",
       "image_create_role_num                      0.804372  0.295375  \n",
       "image_create_role_pay_sum                  0.807926  0.366383  \n",
       "image_source_num                           0.571486  0.329923  \n",
       "image_create_role_pay_rate                 0.036376  0.165466  \n",
       "image_create_role_cost                    -0.166920 -0.195709  \n",
       "image_create_role_pay_cost                -0.053018 -0.124401  \n",
       "image_valid_source_num                     0.016823  0.112451  \n",
       "image_valid_source_rate                   -0.025953  0.096148  \n",
       "image_pay_sum_ability                      0.098578  0.093155  \n",
       "image_pay_num_ability                      0.087176  0.079349  \n",
       "image_create_role_roi                      0.157196  0.252969  \n",
       "image_create_role_retain_1d               -0.031019  0.059358  \n",
       "create_role_30_pay_sum                     1.000000  0.492448  \n",
       "label                                      0.492448  1.000000  "
      ]
     },
     "execution_count": 29,
     "metadata": {},
     "output_type": "execute_result"
    }
   ],
   "source": [
    "#多变量分析\n",
    "image_info_label.corr()"
   ]
  },
  {
   "cell_type": "code",
   "execution_count": 30,
   "metadata": {},
   "outputs": [],
   "source": [
    "#特征选择,woe分箱\n",
    "from scipy import stats\n",
    "def monoto_bin(Y, X, n = 20):\n",
    "    r = 0\n",
    "    total_bad = Y.sum()\n",
    "    total_good =Y.count()-total_bad  \n",
    "    while np.abs(r) < 0.9:\n",
    "        d1 = pd.DataFrame({\"X\": X, \"Y\": Y, \"Bucket\": pd.qcut(X, n,duplicates='raise')})\n",
    "        d2 = d1.groupby('Bucket', as_index = True)\n",
    "        r, p = stats.spearmanr(d2.mean().X, d2.mean().Y)\n",
    "        n = n - 1\n",
    "#     print(r)\n",
    "#     print(n)\n",
    "    d3 = pd.DataFrame(d2.min().X, columns = ['min_' + X.name])\n",
    "    d3['min_' + X.name] = d2.min().X\n",
    "    d3['max_' + X.name] = d2.max().X\n",
    "    d3[Y.name] = d2.sum().Y\n",
    "    d3['total'] = d2.count().Y\n",
    "    #d3[Y.name + '_rate'] = d2.mean().Y\n",
    "    d3['badattr']=d3[Y.name]/total_bad\n",
    "    d3['goodattr']=(d3['total']-d3[Y.name])/total_good\n",
    "    d3['woe'] = np.log(d3['goodattr']/d3['badattr'])\n",
    "    iv = ((d3['goodattr']-d3['badattr'])*d3['woe']).sum()\n",
    "    d4 = (d3.sort_values(by = 'min_' + X.name)).reset_index(drop = True)\n",
    "    print (\"=\" * 80)\n",
    "    cut = []\n",
    "    cut.append(float('-inf'))\n",
    "    for i in range(1,n+1):\n",
    "        qua =X.quantile(i/(n+1))\n",
    "        cut.append(round(qua,4))\n",
    "    cut.append(float('inf'))\n",
    "    woe = list(d4['woe'].round(3))\n",
    "    return d4,iv,cut,woe"
   ]
  },
  {
   "cell_type": "code",
   "execution_count": 32,
   "metadata": {},
   "outputs": [
    {
     "name": "stdout",
     "output_type": "stream",
     "text": [
      "================================================================================\n",
      "================================================================================\n",
      "================================================================================\n"
     ]
    }
   ],
   "source": [
    "dfx1,ivx1,cutx1,woex1 = monoto_bin(image_info_label['label'],image_info_label['image_run_date_amount'],n=10)\n",
    "# dfx2,ivx2,cutx2,woex2 = monoto_bin(image_info_label['label'],image_info_label['image_create_role_pay_num'],n=10)\n",
    "dfx3,ivx3,cutx3,woex3 = monoto_bin(image_info_label['label'],image_info_label['image_create_role_num'],n=10)\n",
    "# dfx4,ivx4,cutx4,woex4 = monoto_bin(image_info_label['label'],image_info_label['image_create_role_pay_sum'],n=10)\n",
    "# dfx5,ivx5,cutx5,woex5 = monoto_bin(image_info_label['label'],image_info_label['image_source_num'],n=10)\n",
    "# dfx6,ivx6,cutx6,woex6 = monoto_bin(image_info_label['label'],image_info_label['image_create_role_pay_rate'],n=10)\n",
    "dfx7,ivx7,cutx7,woex7 = monoto_bin(image_info_label['label'],image_info_label['image_create_role_cost'],n=10)\n",
    "# dfx8,ivx8,cutx8,woex8 = monoto_bin(image_info_label['label'],image_info_label['image_create_role_pay_cost'],n=10)\n",
    "# dfx9,ivx9,cutx9,woex9 = monoto_bin(image_info_label['label'],image_info_label['image_valid_source_rate'],n=10)\n",
    "# dfx10,ivx10,cutx10,woex10 = monoto_bin(image_info_label['label'],image_info_label['image_pay_sum_ability'],n=10)\n",
    "# dfx11,ivx11,cutx11,woex11 = monoto_bin(image_info_label['label'],image_info_label['image_pay_num_ability'],n=10)\n",
    "# dfx12,ivx12,cutx12,woex12 = monoto_bin(image_info_label['label'],image_info_label['image_create_role_roi'],n=10)\n",
    "# dfx13,ivx13,cutx13,woex13 = monoto_bin(image_info_label['label'],image_info_label['image_create_role_retain_1d'],n=10)"
   ]
  },
  {
   "cell_type": "code",
   "execution_count": 33,
   "metadata": {
    "scrolled": true
   },
   "outputs": [
    {
     "name": "stdout",
     "output_type": "stream",
     "text": [
      "[1.248, 1.196, 0.952, 0.745, 0.586, 0.363, 0.017, -0.337, -0.812, -1.839]\n"
     ]
    },
    {
     "data": {
      "image/png": "[encoded data removed]",
      "text/plain": [
       "<Figure size 432x288 with 1 Axes>"
      ]
     },
     "metadata": {
      "needs_background": "light"
     },
     "output_type": "display_data"
    },
    {
     "name": "stdout",
     "output_type": "stream",
     "text": [
      "[1.641, 1.242, 0.901, 0.784, 0.464, 0.242, 0.009, -0.34, -0.775, -1.885]\n"
     ]
    },
    {
     "data": {
      "image/png": "[encoded data removed]",
      "text/plain": [
       "<Figure size 432x288 with 1 Axes>"
      ]
     },
     "metadata": {
      "needs_background": "light"
     },
     "output_type": "display_data"
    },
    {
     "name": "stdout",
     "output_type": "stream",
     "text": [
      "[-0.856, -0.626, -0.399, -0.17, -0.044, 0.192, 0.36, 0.45, 0.83, 1.393]\n"
     ]
    },
    {
     "data": {
      "image/png": "[encoded data removed]",
      "text/plain": [
       "<Figure size 432x288 with 1 Axes>"
      ]
     },
     "metadata": {
      "needs_background": "light"
     },
     "output_type": "display_data"
    }
   ],
   "source": [
    "woex = [woex1,woex3,woex7]\n",
    "for col in woex:\n",
    "    print('{}'.format(col))\n",
    "    plt.bar(range(len(col)),col)\n",
    "    plt.show()"
   ]
  },
  {
   "cell_type": "code",
   "execution_count": 34,
   "metadata": {},
   "outputs": [],
   "source": [
    "def self_bin(Y, X, bin):\n",
    "    r = 0\n",
    "    total_bad = Y.sum()\n",
    "    total_good =Y.count()-total_bad  \n",
    "    d1 = pd.DataFrame({\"X\": X, \"Y\": Y, \"Bucket\": pd.cut(X, bin)})\n",
    "    d2 = d1.groupby('Bucket', as_index = True)\n",
    "    r, p = stats.spearmanr(d2.mean().X, d2.mean().Y)\n",
    "        \n",
    "    d3 = pd.DataFrame(d2.min().X, columns = ['min_' + X.name])\n",
    "    d3['min_' + X.name] = d2.min().X\n",
    "    d3['max_' + X.name] = d2.max().X\n",
    "    d3[Y.name] = d2.sum().Y\n",
    "    d3['total'] = d2.count().Y\n",
    "    #d3[Y.name + '_rate'] = d2.mean().Y\n",
    "    #好坏比，求woe,证据权重，自变量对目标变量有没有影响，什么影响\n",
    "    d3['badattr']=d3[Y.name]/total_bad\n",
    "    d3['goodattr']=(d3['total']-d3[Y.name])/total_good\n",
    "    d3['woe'] = np.log(d3['goodattr']/d3['badattr'])\n",
    "    #iv，信息值，自变量对于目标变量的影响程度\n",
    "    iv = ((d3['goodattr']-d3['badattr'])*d3['woe']).sum()\n",
    "    d4 = (d3.sort_values(by = 'min_' + X.name)).reset_index(drop = True)\n",
    "    print (\"=\" * 80)\n",
    "#     print (d4)\n",
    "    woe = list(d4['woe'].round(3))\n",
    "    return d4,iv,woe"
   ]
  },
  {
   "cell_type": "code",
   "execution_count": 35,
   "metadata": {
    "scrolled": true
   },
   "outputs": [
    {
     "data": {
      "text/plain": [
       "[-inf,\n",
       " 864.32,\n",
       " 1412.85,\n",
       " 2148.085,\n",
       " 3212.04,\n",
       " 4693.965,\n",
       " 6913.4,\n",
       " 10811.36,\n",
       " 18606.09,\n",
       " 38693.12,\n",
       " inf]"
      ]
     },
     "execution_count": 35,
     "metadata": {},
     "output_type": "execute_result"
    }
   ],
   "source": [
    "cutx1"
   ]
  },
  {
   "cell_type": "code",
   "execution_count": 46,
   "metadata": {},
   "outputs": [],
   "source": [
    "pinf = float('inf')#正无穷大\n",
    "ninf = float('-inf')#负无穷大\n",
    "cutx2 = [ninf, 1, 3, 8, 12,50,pinf]\n",
    "cutx4 = [ninf,60,200,700,2000,5000,10000,pinf]\n",
    "cutx5 = [ninf,3,6,12,20,50,pinf]\n",
    "cutx6 = [ninf,0.005,0.01,0.015,0.02,pinf]\n",
    "cutx8 = [ninf, 2000,3000,4000,5000,6000,7000,8000,9000,10000,11000,13000,pinf]\n",
    "cutx9 = [ninf, 0.1, 0.2, 0.3, 0.4,0.6,pinf]\n",
    "cutx10 = [ninf, 50,100,200, 400,1000, pinf]\n",
    "cutx11 = [ninf, 1,2,5,10,pinf]\n",
    "cutx12 = [ninf, 0.005,0.01,0.015,0.02,0.025,0.05,pinf]\n",
    "cutx13 = [ninf, 0.06,0.1,0.14,0.2,0.3,pinf]"
   ]
  },
  {
   "cell_type": "code",
   "execution_count": 43,
   "metadata": {
    "scrolled": true
   },
   "outputs": [
    {
     "data": {
      "text/plain": [
       "count    56646.000000\n",
       "mean         0.081438\n",
       "std          0.646915\n",
       "min          0.000000\n",
       "25%          0.000000\n",
       "50%          0.000000\n",
       "75%          0.000000\n",
       "max         59.500000\n",
       "Name: image_pay_num_ability, dtype: float64"
      ]
     },
     "execution_count": 43,
     "metadata": {},
     "output_type": "execute_result"
    }
   ],
   "source": [
    "image_info_label['image_pay_num_ability'].describe()"
   ]
  },
  {
   "cell_type": "code",
   "execution_count": 45,
   "metadata": {},
   "outputs": [
    {
     "data": {
      "image/png": "[encoded data removed]",
      "text/plain": [
       "<Figure size 432x288 with 1 Axes>"
      ]
     },
     "metadata": {
      "needs_background": "light"
     },
     "output_type": "display_data"
    }
   ],
   "source": [
    "plt.hist(image_info_label['image_pay_num_ability'],bins=50,range=(0,60))\n",
    "plt.show()"
   ]
  },
  {
   "cell_type": "code",
   "execution_count": 47,
   "metadata": {},
   "outputs": [
    {
     "name": "stdout",
     "output_type": "stream",
     "text": [
      "================================================================================\n",
      "================================================================================\n",
      "================================================================================\n",
      "================================================================================\n",
      "================================================================================\n",
      "================================================================================\n",
      "================================================================================\n",
      "================================================================================\n",
      "================================================================================\n",
      "================================================================================\n"
     ]
    }
   ],
   "source": [
    "dfx2,ivx2,woex2 = self_bin(image_info_label['label'],image_info_label['image_create_role_pay_num'],cutx2)\n",
    "dfx4,ivx4,woex4 = self_bin(image_info_label['label'],image_info_label['image_create_role_pay_sum'],cutx4)\n",
    "dfx5,ivx5,woex5 = self_bin(image_info_label['label'],image_info_label['image_source_num'],cutx5)\n",
    "dfx6,ivx6,woex6 = self_bin(image_info_label['label'],image_info_label['image_create_role_pay_rate'],cutx6)\n",
    "dfx8,ivx8,woex8 = self_bin(image_info_label['label'],image_info_label['image_create_role_pay_cost'],cutx8)\n",
    "dfx9,ivx9,woex9 = self_bin(image_info_label['label'],image_info_label['image_valid_source_rate'],cutx9)\n",
    "dfx10,ivx10,woex10 = self_bin(image_info_label['label'],image_info_label['image_pay_sum_ability'],cutx10)\n",
    "dfx11,ivx11,woex11 = self_bin(image_info_label['label'],image_info_label['image_pay_num_ability'],cutx11)\n",
    "dfx12,ivx12,woex12 = self_bin(image_info_label['label'],image_info_label['image_create_role_roi'],cutx12)\n",
    "dfx13,ivx13,woex13 = self_bin(image_info_label['label'],image_info_label['image_create_role_retain_1d'],cutx13)"
   ]
  },
  {
   "cell_type": "code",
   "execution_count": 48,
   "metadata": {},
   "outputs": [
    {
     "name": "stdout",
     "output_type": "stream",
     "text": [
      "woex1 = [1.248, 1.196, 0.952, 0.745, 0.586, 0.363, 0.017, -0.337, -0.812, -1.839]\n",
      "woex2 = [0.831, -0.553, -1.088, -1.573, -2.481, -5.379]\n",
      "woex3 = [1.641, 1.242, 0.901, 0.784, 0.464, 0.242, 0.009, -0.34, -0.775, -1.885]\n",
      "woex4 = [1.116, -0.054, -0.71, -1.493, -2.506, -3.988, -7.241]\n",
      "woex5 = [0.946, 0.679, 0.25, -0.13, -0.707, -1.864]\n",
      "woex6 = [1.235, -0.726, -1.053, -1.002, -0.688]\n",
      "woex7 = [-0.856, -0.626, -0.399, -0.17, -0.044, 0.192, 0.36, 0.45, 0.83, 1.393]\n",
      "woex8 = [-0.845, -0.891, -1.164, -1.09, -0.922, -0.791, -0.557, -0.479, -0.369, -0.354, -0.25, 1.156]\n",
      "woex9 = [0.079, -0.669, -0.729, -0.764, -0.633, -0.799]\n",
      "woex10 = [0.071, -0.863, -1.129, -1.893, -2.463, -3.042]\n",
      "woex11 = [0.023, -1.081, -1.191, -1.274, -3.433]\n",
      "woex12 = [1.169, 0.16, -0.183, -0.436, -0.705, -1.184, -2.472]\n",
      "woex13 = [2.013, -0.396, -0.474, 0.184, 0.018, 0.103]\n"
     ]
    }
   ],
   "source": [
    "for i in range(1,14):\n",
    "    exec(\"print('woex%s =',woex%s)\"%(i,i))"
   ]
  },
  {
   "cell_type": "code",
   "execution_count": 49,
   "metadata": {},
   "outputs": [
    {
     "name": "stdout",
     "output_type": "stream",
     "text": [
      "cutx1 = [-inf, 864.32, 1412.85, 2148.085, 3212.04, 4693.965, 6913.4, 10811.36, 18606.09, 38693.12, inf]\n",
      "cutx2 = [-inf, 1, 3, 8, 12, 50, inf]\n",
      "cutx3 = [-inf, 4.0, 7.0, 13.0, 21.0, 34.0, 55.0, 94.0, 177.0, 431.0, inf]\n",
      "cutx4 = [-inf, 60, 200, 700, 2000, 5000, 10000, inf]\n",
      "cutx5 = [-inf, 3, 6, 12, 20, 50, inf]\n",
      "cutx6 = [-inf, 0.005, 0.01, 0.015, 0.02, inf]\n",
      "cutx7 = [-inf, 57.2475, 76.5477, 94.7068, 113.6604, 136.6316, 165.7038, 205.66, 269.2838, 399.2947, inf]\n",
      "cutx8 = [-inf, 2000, 3000, 4000, 5000, 6000, 7000, 8000, 9000, 10000, 11000, 13000, inf]\n",
      "cutx9 = [-inf, 0.1, 0.2, 0.3, 0.4, 0.6, inf]\n",
      "cutx10 = [-inf, 50, 100, 200, 400, 1000, inf]\n",
      "cutx11 = [-inf, 1, 2, 5, 10, inf]\n",
      "cutx12 = [-inf, 0.005, 0.01, 0.015, 0.02, 0.025, 0.05, inf]\n",
      "cutx13 = [-inf, 0.06, 0.1, 0.14, 0.2, 0.3, inf]\n"
     ]
    }
   ],
   "source": [
    "for i in range(1,14):\n",
    "    exec(\"print('cutx%s =',cutx%s)\"%(i,i))"
   ]
  },
  {
   "cell_type": "code",
   "execution_count": 50,
   "metadata": {
    "scrolled": false
   },
   "outputs": [
    {
     "data": {
      "image/png": "[encoded data removed]",
      "text/plain": [
       "<Figure size 1440x576 with 1 Axes>"
      ]
     },
     "metadata": {
      "needs_background": "light"
     },
     "output_type": "display_data"
    }
   ],
   "source": [
    "y=[ivx1,ivx2,ivx3,ivx4,ivx5,ivx6,ivx7,ivx8,ivx9,ivx10,ivx11,ivx12,ivx13]\n",
    "index=['image_run_date_amount', 'image_create_role_pay_num',\n",
    "       'image_create_role_num', 'image_create_role_pay_sum',\n",
    "       'image_source_num', 'image_create_role_pay_rate',\n",
    "       'image_create_role_cost', 'image_create_role_pay_cost','image_valid_source_rate',\n",
    "       'image_pay_sum_ability', 'image_pay_num_ability',\n",
    "       'image_create_role_roi','image_create_role_retain_1d']\n",
    "fig= plt.figure(figsize = (20,8))\n",
    "ax1 = fig.add_subplot(1, 1, 1)\n",
    "ax1.bar(range(1,14), y, width=0.4,color = 'r',alpha = 0.6)#生成柱状图\n",
    "ax1.set_xticks(range(1,14))\n",
    "ax1.set_xticklabels(index, rotation=90, fontsize=12)\n",
    "ax1.set_ylabel('IV', fontsize=14)\n",
    "#在柱状图上添加数字标签\n",
    "for i, v in enumerate(y):\n",
    "    plt.text(i+1, v+0.01, '%.4f' % v, ha='center', va='bottom', fontsize=12)\n",
    "plt.show()"
   ]
  },
  {
   "cell_type": "code",
   "execution_count": 51,
   "metadata": {},
   "outputs": [],
   "source": [
    "\"\"\"\n",
    "根据IV值判断变量预测能力的标准:\n",
    "< 0.02： useless for predition\n",
    "0.02-0.1： weak predictor\n",
    "0.1-0.3： medium predictor\n",
    "0.3-0.5： strong predictor\n",
    "大于0.5： suspicious or too good to be true\n",
    "\"\"\"\n",
    "#删除掉iv小于0.1的变量\n",
    "select_feature = ['image_run_date_amount', 'image_create_role_pay_num',\n",
    "       'image_create_role_num', 'image_create_role_pay_sum',\n",
    "       'image_source_num', 'image_create_role_pay_rate',\n",
    "       'image_create_role_cost', 'image_create_role_pay_cost',\n",
    "       'image_valid_source_rate',\n",
    "       'image_pay_sum_ability', 'image_pay_num_ability',\n",
    "       'image_create_role_roi', 'label']"
   ]
  },
  {
   "cell_type": "code",
   "execution_count": 52,
   "metadata": {},
   "outputs": [
    {
     "data": {
      "text/plain": [
       "13"
      ]
     },
     "execution_count": 52,
     "metadata": {},
     "output_type": "execute_result"
    }
   ],
   "source": [
    "len(select_feature)"
   ]
  },
  {
   "cell_type": "code",
   "execution_count": 53,
   "metadata": {},
   "outputs": [],
   "source": [
    "def change_woe(d,cut,woe):\n",
    "    \"\"\"\n",
    "    将每个样本对应特征值更换为woe值\n",
    "    \"\"\"\n",
    "    list1=[]\n",
    "    i=0\n",
    "    while i<len(d):\n",
    "        value=d.values[i]\n",
    "        j=len(cut)-2\n",
    "        m=len(cut)-2\n",
    "        while j>=0:\n",
    "            if value>=cut[j]:\n",
    "                j=-1\n",
    "            else:\n",
    "                j -=1\n",
    "                m -= 1\n",
    "        list1.append(woe[m])\n",
    "        i += 1\n",
    "    return list1"
   ]
  },
  {
   "cell_type": "code",
   "execution_count": 54,
   "metadata": {},
   "outputs": [],
   "source": [
    "image_info_change = image_info_label.copy()"
   ]
  },
  {
   "cell_type": "code",
   "execution_count": 55,
   "metadata": {},
   "outputs": [
    {
     "data": {
      "text/plain": [
       "(56646, 22)"
      ]
     },
     "execution_count": 55,
     "metadata": {},
     "output_type": "execute_result"
    }
   ],
   "source": [
    "image_info_change.shape"
   ]
  },
  {
   "cell_type": "code",
   "execution_count": 57,
   "metadata": {},
   "outputs": [],
   "source": [
    "pinf = float('inf')#正无穷大\n",
    "ninf = float('-inf')#负无穷大\n",
    "woex1 = [1.248, 1.196, 0.952, 0.745, 0.586, 0.363, 0.017, -0.337, -0.812, -1.839]\n",
    "woex2 = [0.831, -0.553, -1.088, -1.573, -2.481, -5.379]\n",
    "woex3 = [1.641, 1.242, 0.901, 0.784, 0.464, 0.242, 0.009, -0.34, -0.775, -1.885]\n",
    "woex4 = [1.116, -0.054, -0.71, -1.493, -2.506, -3.988, -7.241]\n",
    "woex5 = [0.946, 0.679, 0.25, -0.13, -0.707, -1.864]\n",
    "woex6 = [1.235, -0.726, -1.053, -1.002, -0.688]\n",
    "woex7 = [-0.856, -0.626, -0.399, -0.17, -0.044, 0.192, 0.36, 0.45, 0.83, 1.393]\n",
    "woex8 = [-0.845, -0.891, -1.164, -1.09, -0.922, -0.791, -0.557, -0.479, -0.369, -0.354, -0.25, 1.156]\n",
    "woex9 = [0.079, -0.669, -0.729, -0.764, -0.633, -0.799]\n",
    "woex10 = [0.071, -0.863, -1.129, -1.893, -2.463, -3.042]\n",
    "woex11 = [0.023, -1.081, -1.191, -1.274, -3.433]\n",
    "woex12 = [1.169, 0.16, -0.183, -0.436, -0.705, -1.184, -2.472]\n",
    "\n",
    "cutx1 = [ninf, 864.32, 1412.85, 2148.085, 3212.04, 4693.965, 6913.4, 10811.36, 18606.09, 38693.12, pinf]\n",
    "cutx2 = [ninf, 1, 3, 8, 12, 50, pinf]\n",
    "cutx3 = [ninf, 4.0, 7.0, 13.0, 21.0, 34.0, 55.0, 94.0, 177.0, 431.0, pinf]\n",
    "cutx4 = [ninf, 60, 200, 700, 2000, 5000, 10000, pinf]\n",
    "cutx5 = [ninf, 3, 6, 12, 20, 50, pinf]\n",
    "cutx6 = [ninf, 0.005, 0.01, 0.015, 0.02, pinf]\n",
    "cutx7 = [ninf, 57.2475, 76.5477, 94.7068, 113.6604, 136.6316, 165.7038, 205.66, 269.2838, 399.2947, pinf]\n",
    "cutx8 = [ninf, 2000, 3000, 4000, 5000, 6000, 7000, 8000, 9000, 10000, 11000, 13000, pinf]\n",
    "cutx9 = [ninf, 0.1, 0.2, 0.3, 0.4, 0.6, pinf]\n",
    "cutx10 = [ninf, 50, 100, 200, 400, 1000, pinf]\n",
    "cutx11 = [ninf, 1, 2, 5, 10, pinf]\n",
    "cutx12 = [ninf, 0.005, 0.01, 0.015, 0.02, 0.025, 0.05, pinf]"
   ]
  },
  {
   "cell_type": "code",
   "execution_count": 58,
   "metadata": {},
   "outputs": [],
   "source": [
    "#数据转化\n",
    "image_info_change['image_run_date_amount'] = change_woe(image_info_change['image_run_date_amount'], cutx1, woex1)\n",
    "image_info_change['image_create_role_pay_num'] = change_woe(image_info_change['image_create_role_pay_num'], cutx2, woex2)\n",
    "image_info_change['image_create_role_num'] = change_woe(image_info_change['image_create_role_num'], cutx3, woex3)\n",
    "image_info_change['image_create_role_pay_sum'] = change_woe(image_info_change['image_create_role_pay_sum'], cutx4, woex4)\n",
    "image_info_change['image_source_num'] = change_woe(image_info_change['image_source_num'], cutx5, woex5)\n",
    "image_info_change['image_create_role_pay_rate'] = change_woe(image_info_change['image_create_role_pay_rate'], cutx6, woex6)\n",
    "image_info_change['image_create_role_cost'] = change_woe(image_info_change['image_create_role_cost'], cutx7, woex7)\n",
    "image_info_change['image_create_role_pay_cost'] = change_woe(image_info_change['image_create_role_pay_cost'], cutx8, woex8)\n",
    "image_info_change['image_valid_source_rate'] = change_woe(image_info_change['image_valid_source_rate'], cutx9, woex9)\n",
    "image_info_change['image_pay_sum_ability'] = change_woe(image_info_change['image_pay_sum_ability'], cutx10, woex10)\n",
    "image_info_change['image_pay_num_ability'] = change_woe(image_info_change['image_pay_num_ability'], cutx11, woex11)\n",
    "image_info_change['image_create_role_roi'] = change_woe(image_info_change['image_create_role_roi'], cutx12, woex12)"
   ]
  },
  {
   "cell_type": "code",
   "execution_count": 59,
   "metadata": {},
   "outputs": [
    {
     "data": {
      "text/plain": [
       "(56646, 22)"
      ]
     },
     "execution_count": 59,
     "metadata": {},
     "output_type": "execute_result"
    }
   ],
   "source": [
    "image_info_change.shape"
   ]
  },
  {
   "cell_type": "code",
   "execution_count": 60,
   "metadata": {},
   "outputs": [
    {
     "data": {
      "text/html": [
       "<div>\n",
       "<style scoped>\n",
       "    .dataframe tbody tr th:only-of-type {\n",
       "        vertical-align: middle;\n",
       "    }\n",
       "\n",
       "    .dataframe tbody tr th {\n",
       "        vertical-align: top;\n",
       "    }\n",
       "\n",
       "    .dataframe thead th {\n",
       "        text-align: right;\n",
       "    }\n",
       "</style>\n",
       "<table border=\"1\" class=\"dataframe\">\n",
       "  <thead>\n",
       "    <tr style=\"text-align: right;\">\n",
       "      <th></th>\n",
       "      <th>image_id</th>\n",
       "      <th>image_name</th>\n",
       "      <th>media_id</th>\n",
       "      <th>image_launch_time</th>\n",
       "      <th>image_source_total_num</th>\n",
       "      <th>image_run_date_amount</th>\n",
       "      <th>image_create_role_pay_num</th>\n",
       "      <th>image_create_role_num</th>\n",
       "      <th>image_create_role_pay_sum</th>\n",
       "      <th>image_source_num</th>\n",
       "      <th>image_create_role_pay_rate</th>\n",
       "      <th>image_create_role_cost</th>\n",
       "      <th>image_create_role_pay_cost</th>\n",
       "      <th>image_valid_source_num</th>\n",
       "      <th>image_valid_source_rate</th>\n",
       "      <th>image_pay_sum_ability</th>\n",
       "      <th>image_pay_num_ability</th>\n",
       "      <th>image_create_role_roi</th>\n",
       "      <th>image_create_role_retain_1d</th>\n",
       "      <th>create_role_30_pay_sum</th>\n",
       "      <th>model_run_datetime</th>\n",
       "      <th>label</th>\n",
       "    </tr>\n",
       "  </thead>\n",
       "  <tbody>\n",
       "    <tr>\n",
       "      <th>0</th>\n",
       "      <td>23509</td>\n",
       "      <td>SSR1414-竖版（3D混剪）</td>\n",
       "      <td>16</td>\n",
       "      <td>2020-07-16</td>\n",
       "      <td>489.0</td>\n",
       "      <td>0.586</td>\n",
       "      <td>0.831</td>\n",
       "      <td>0.009</td>\n",
       "      <td>1.116</td>\n",
       "      <td>0.946</td>\n",
       "      <td>1.235</td>\n",
       "      <td>-0.626</td>\n",
       "      <td>1.156</td>\n",
       "      <td>0.0</td>\n",
       "      <td>0.079</td>\n",
       "      <td>0.071</td>\n",
       "      <td>0.023</td>\n",
       "      <td>1.169</td>\n",
       "      <td>0.0702</td>\n",
       "      <td>262.0</td>\n",
       "      <td>2021-05-01</td>\n",
       "      <td>0</td>\n",
       "    </tr>\n",
       "    <tr>\n",
       "      <th>2</th>\n",
       "      <td>26441</td>\n",
       "      <td>SSR1909-竖版（3D混剪）</td>\n",
       "      <td>16</td>\n",
       "      <td>2020-11-10</td>\n",
       "      <td>757.0</td>\n",
       "      <td>-1.839</td>\n",
       "      <td>-2.481</td>\n",
       "      <td>-1.885</td>\n",
       "      <td>-1.493</td>\n",
       "      <td>-0.707</td>\n",
       "      <td>-0.726</td>\n",
       "      <td>-0.856</td>\n",
       "      <td>-0.922</td>\n",
       "      <td>2.0</td>\n",
       "      <td>0.079</td>\n",
       "      <td>-2.463</td>\n",
       "      <td>-1.274</td>\n",
       "      <td>-0.436</td>\n",
       "      <td>0.0729</td>\n",
       "      <td>44716.0</td>\n",
       "      <td>2021-05-01</td>\n",
       "      <td>1</td>\n",
       "    </tr>\n",
       "    <tr>\n",
       "      <th>3</th>\n",
       "      <td>27824</td>\n",
       "      <td>SSR2078-横版（3D混剪）</td>\n",
       "      <td>16</td>\n",
       "      <td>2020-12-16</td>\n",
       "      <td>508.0</td>\n",
       "      <td>0.017</td>\n",
       "      <td>0.831</td>\n",
       "      <td>0.009</td>\n",
       "      <td>1.116</td>\n",
       "      <td>0.250</td>\n",
       "      <td>1.235</td>\n",
       "      <td>-0.044</td>\n",
       "      <td>1.156</td>\n",
       "      <td>0.0</td>\n",
       "      <td>0.079</td>\n",
       "      <td>0.071</td>\n",
       "      <td>0.023</td>\n",
       "      <td>1.169</td>\n",
       "      <td>0.1333</td>\n",
       "      <td>1496.0</td>\n",
       "      <td>2021-05-01</td>\n",
       "      <td>0</td>\n",
       "    </tr>\n",
       "    <tr>\n",
       "      <th>4</th>\n",
       "      <td>27945</td>\n",
       "      <td>SSR2101-横版（3D混剪)</td>\n",
       "      <td>16</td>\n",
       "      <td>2020-12-21</td>\n",
       "      <td>626.0</td>\n",
       "      <td>-0.337</td>\n",
       "      <td>-0.553</td>\n",
       "      <td>-0.340</td>\n",
       "      <td>-0.710</td>\n",
       "      <td>0.679</td>\n",
       "      <td>-1.002</td>\n",
       "      <td>-0.044</td>\n",
       "      <td>-0.557</td>\n",
       "      <td>0.0</td>\n",
       "      <td>0.079</td>\n",
       "      <td>0.071</td>\n",
       "      <td>0.023</td>\n",
       "      <td>-0.436</td>\n",
       "      <td>0.1538</td>\n",
       "      <td>6368.0</td>\n",
       "      <td>2021-05-01</td>\n",
       "      <td>1</td>\n",
       "    </tr>\n",
       "    <tr>\n",
       "      <th>5</th>\n",
       "      <td>28193</td>\n",
       "      <td>SSR2138-竖版（3D混剪）~1</td>\n",
       "      <td>16</td>\n",
       "      <td>2020-12-28</td>\n",
       "      <td>626.0</td>\n",
       "      <td>1.248</td>\n",
       "      <td>0.831</td>\n",
       "      <td>0.784</td>\n",
       "      <td>1.116</td>\n",
       "      <td>0.679</td>\n",
       "      <td>1.235</td>\n",
       "      <td>-0.856</td>\n",
       "      <td>1.156</td>\n",
       "      <td>0.0</td>\n",
       "      <td>0.079</td>\n",
       "      <td>0.071</td>\n",
       "      <td>0.023</td>\n",
       "      <td>1.169</td>\n",
       "      <td>0.1250</td>\n",
       "      <td>0.0</td>\n",
       "      <td>2021-05-01</td>\n",
       "      <td>0</td>\n",
       "    </tr>\n",
       "  </tbody>\n",
       "</table>\n",
       "</div>"
      ],
      "text/plain": [
       "   image_id          image_name  media_id image_launch_time  \\\n",
       "0     23509    SSR1414-竖版（3D混剪）        16        2020-07-16   \n",
       "2     26441    SSR1909-竖版（3D混剪）        16        2020-11-10   \n",
       "3     27824    SSR2078-横版（3D混剪）        16        2020-12-16   \n",
       "4     27945    SSR2101-横版（3D混剪)        16        2020-12-21   \n",
       "5     28193  SSR2138-竖版（3D混剪）~1        16        2020-12-28   \n",
       "\n",
       "   image_source_total_num  image_run_date_amount  image_create_role_pay_num  \\\n",
       "0                   489.0                  0.586                      0.831   \n",
       "2                   757.0                 -1.839                     -2.481   \n",
       "3                   508.0                  0.017                      0.831   \n",
       "4                   626.0                 -0.337                     -0.553   \n",
       "5                   626.0                  1.248                      0.831   \n",
       "\n",
       "   image_create_role_num  image_create_role_pay_sum  image_source_num  \\\n",
       "0                  0.009                      1.116             0.946   \n",
       "2                 -1.885                     -1.493            -0.707   \n",
       "3                  0.009                      1.116             0.250   \n",
       "4                 -0.340                     -0.710             0.679   \n",
       "5                  0.784                      1.116             0.679   \n",
       "\n",
       "   image_create_role_pay_rate  image_create_role_cost  \\\n",
       "0                       1.235                  -0.626   \n",
       "2                      -0.726                  -0.856   \n",
       "3                       1.235                  -0.044   \n",
       "4                      -1.002                  -0.044   \n",
       "5                       1.235                  -0.856   \n",
       "\n",
       "   image_create_role_pay_cost  image_valid_source_num  \\\n",
       "0                       1.156                     0.0   \n",
       "2                      -0.922                     2.0   \n",
       "3                       1.156                     0.0   \n",
       "4                      -0.557                     0.0   \n",
       "5                       1.156                     0.0   \n",
       "\n",
       "   image_valid_source_rate  image_pay_sum_ability  image_pay_num_ability  \\\n",
       "0                    0.079                  0.071                  0.023   \n",
       "2                    0.079                 -2.463                 -1.274   \n",
       "3                    0.079                  0.071                  0.023   \n",
       "4                    0.079                  0.071                  0.023   \n",
       "5                    0.079                  0.071                  0.023   \n",
       "\n",
       "   image_create_role_roi  image_create_role_retain_1d  create_role_30_pay_sum  \\\n",
       "0                  1.169                       0.0702                   262.0   \n",
       "2                 -0.436                       0.0729                 44716.0   \n",
       "3                  1.169                       0.1333                  1496.0   \n",
       "4                 -0.436                       0.1538                  6368.0   \n",
       "5                  1.169                       0.1250                     0.0   \n",
       "\n",
       "  model_run_datetime  label  \n",
       "0         2021-05-01      0  \n",
       "2         2021-05-01      1  \n",
       "3         2021-05-01      0  \n",
       "4         2021-05-01      1  \n",
       "5         2021-05-01      0  "
      ]
     },
     "execution_count": 60,
     "metadata": {},
     "output_type": "execute_result"
    }
   ],
   "source": [
    "image_info_change.head()"
   ]
  },
  {
   "cell_type": "code",
   "execution_count": 61,
   "metadata": {},
   "outputs": [],
   "source": [
    "image_info_change.to_csv('./image_info_change.csv',index=0)"
   ]
  },
  {
   "cell_type": "code",
   "execution_count": 62,
   "metadata": {},
   "outputs": [],
   "source": [
    "data_info = image_info_change[select_feature]"
   ]
  },
  {
   "cell_type": "code",
   "execution_count": 63,
   "metadata": {},
   "outputs": [
    {
     "data": {
      "text/plain": [
       "(56646, 13)"
      ]
     },
     "execution_count": 63,
     "metadata": {},
     "output_type": "execute_result"
    }
   ],
   "source": [
    "data_info.shape"
   ]
  },
  {
   "cell_type": "code",
   "execution_count": 64,
   "metadata": {},
   "outputs": [],
   "source": [
    "#模型建立\n",
    "from sklearn.linear_model import LogisticRegression\n",
    "from sklearn.model_selection import train_test_split,GridSearchCV,RandomizedSearchCV\n",
    "from sklearn.ensemble import RandomForestClassifier\n",
    "from sklearn import svm\n",
    "import lightgbm as lgb\n",
    "from sklearn.neighbors import KNeighborsClassifier\n",
    "import time\n",
    "from sklearn.model_selection import cross_validate\n",
    "from sklearn.metrics import roc_curve, roc_auc_score,auc, classification_report"
   ]
  },
  {
   "cell_type": "code",
   "execution_count": 65,
   "metadata": {},
   "outputs": [],
   "source": [
    "x_train, x_test, y_train, y_test = train_test_split(data_info.drop('label',axis=1), data_info['label'], test_size=0.25, random_state=42)"
   ]
  },
  {
   "cell_type": "markdown",
   "metadata": {},
   "source": [
    "### RandomForestClassifier"
   ]
  },
  {
   "cell_type": "code",
   "execution_count": 66,
   "metadata": {},
   "outputs": [
    {
     "data": {
      "text/plain": [
       "RandomizedSearchCV(cv=5, estimator=RandomForestClassifier(),\n",
       "                   param_distributions={'max_depth': [2, 3, 5, 7, 9],\n",
       "                                        'min_samples_leaf': [2, 4, 6, 8],\n",
       "                                        'n_estimators': [9, 18, 27, 36, 100,\n",
       "                                                         150]})"
      ]
     },
     "execution_count": 66,
     "metadata": {},
     "output_type": "execute_result"
    }
   ],
   "source": [
    "RF = RandomForestClassifier()\n",
    "param_grid = { \n",
    "           \"n_estimators\" : [9, 18, 27, 36, 100, 150],\n",
    "           \"max_depth\" : [2,3,5,7,9],\n",
    "           \"min_samples_leaf\" : [2, 4, 6, 8]}\n",
    "RF_random = RandomizedSearchCV(RF, param_distributions=param_grid, cv=5)\n",
    "RF_random.fit(x_train, y_train)"
   ]
  },
  {
   "cell_type": "code",
   "execution_count": 67,
   "metadata": {},
   "outputs": [
    {
     "data": {
      "image/png": "[encoded data removed]",
      "text/plain": [
       "<Figure size 720x576 with 1 Axes>"
      ]
     },
     "metadata": {
      "needs_background": "light"
     },
     "output_type": "display_data"
    }
   ],
   "source": [
    "# 训练集评估\n",
    "best_est_RF = RF_random.best_estimator_\n",
    "y_pred = best_est_RF.predict_proba(x_train)\n",
    "y_pred = y_pred[:,1]\n",
    "fpr,tpr,_ = roc_curve(y_train, y_pred)\n",
    "roc_auc = auc(fpr, tpr)\n",
    "plt.figure(figsize=(10,8))\n",
    "plt.title('Receiver Operating Characteristic')\n",
    "sns.lineplot(fpr, tpr, label = 'AUC = %0.2f' % roc_auc)\n",
    "plt.legend(loc = 'lower right')\n",
    "plt.plot([0, 1], [0, 1],'r--')\n",
    "plt.ylabel('True Positive Rate')\n",
    "plt.xlabel('False Positive Rate')\n",
    "plt.show()"
   ]
  },
  {
   "cell_type": "code",
   "execution_count": 68,
   "metadata": {},
   "outputs": [
    {
     "data": {
      "image/png": "[encoded data removed]",
      "text/plain": [
       "<Figure size 720x576 with 1 Axes>"
      ]
     },
     "metadata": {
      "needs_background": "light"
     },
     "output_type": "display_data"
    }
   ],
   "source": [
    "# 测试集评估\n",
    "best_est_RF = RF_random.best_estimator_\n",
    "y_pred = best_est_RF.predict_proba(x_test)\n",
    "y_pred = y_pred[:,1]\n",
    "fpr,tpr,_ = roc_curve(y_test, y_pred)\n",
    "roc_auc = auc(fpr, tpr)\n",
    "plt.figure(figsize=(10,8))\n",
    "plt.title('Receiver Operating Characteristic')\n",
    "sns.lineplot(fpr, tpr, label = 'AUC = %0.2f' % roc_auc)\n",
    "plt.legend(loc = 'lower right')\n",
    "plt.plot([0, 1], [0, 1],'r--')\n",
    "plt.ylabel('True Positive Rate')\n",
    "plt.xlabel('False Positive Rate')\n",
    "plt.show()"
   ]
  },
  {
   "cell_type": "code",
   "execution_count": 69,
   "metadata": {
    "scrolled": true
   },
   "outputs": [
    {
     "name": "stdout",
     "output_type": "stream",
     "text": [
      "              precision    recall  f1-score   support\n",
      "\n",
      "           0       0.88      0.92      0.90     11073\n",
      "           1       0.65      0.57      0.61      3089\n",
      "\n",
      "    accuracy                           0.84     14162\n",
      "   macro avg       0.77      0.74      0.75     14162\n",
      "weighted avg       0.83      0.84      0.84     14162\n",
      "\n"
     ]
    }
   ],
   "source": [
    "y_pred_class = list(map(lambda x:1 if x>=0.35 else 0, y_pred))\n",
    "print(classification_report(y_test, y_pred_class))"
   ]
  },
  {
   "cell_type": "code",
   "execution_count": 70,
   "metadata": {},
   "outputs": [
    {
     "data": {
      "text/plain": [
       "['best_est_RF.pkl']"
      ]
     },
     "execution_count": 70,
     "metadata": {},
     "output_type": "execute_result"
    }
   ],
   "source": [
    "import joblib\n",
    "joblib.dump(best_est_RF, 'best_est_RF.pkl')"
   ]
  },
  {
   "cell_type": "markdown",
   "metadata": {},
   "source": [
    "### LogisticRegression"
   ]
  },
  {
   "cell_type": "code",
   "execution_count": 71,
   "metadata": {},
   "outputs": [
    {
     "data": {
      "text/plain": [
       "RandomizedSearchCV(cv=5, estimator=LogisticRegression(),\n",
       "                   param_distributions={'C': [0.1, 0.2, 0.3, 0.4, 0.5, 0.6, 0.7,\n",
       "                                              0.8, 0.9, 1]})"
      ]
     },
     "execution_count": 71,
     "metadata": {},
     "output_type": "execute_result"
    }
   ],
   "source": [
    "LR = LogisticRegression()\n",
    "param_grid = {\"C\" : [0.1,0.2,0.3, 0.4, 0.5, 0.6, 0.7,0.8,0.9, 1]}\n",
    "LR_random = RandomizedSearchCV(LR, param_distributions=param_grid, cv=5)\n",
    "LR_random.fit(x_train, y_train)"
   ]
  },
  {
   "cell_type": "code",
   "execution_count": 72,
   "metadata": {},
   "outputs": [
    {
     "data": {
      "image/png": "[encoded data removed]",
      "text/plain": [
       "<Figure size 720x576 with 1 Axes>"
      ]
     },
     "metadata": {
      "needs_background": "light"
     },
     "output_type": "display_data"
    }
   ],
   "source": [
    "# 测试集评估\n",
    "best_est_LR = LR_random.best_estimator_\n",
    "y_pred = best_est_LR.predict_proba(x_test)\n",
    "y_pred = y_pred[:,1]\n",
    "fpr,tpr,_ = roc_curve(y_test, y_pred)\n",
    "roc_auc = auc(fpr, tpr)\n",
    "plt.figure(figsize=(10,8))\n",
    "plt.title('Receiver Operating Characteristic')\n",
    "sns.lineplot(fpr, tpr, label = 'AUC = %0.2f' % roc_auc)\n",
    "plt.legend(loc = 'lower right')\n",
    "plt.plot([0, 1], [0, 1],'r--')\n",
    "plt.ylabel('True Positive Rate')\n",
    "plt.xlabel('False Positive Rate')\n",
    "plt.show()"
   ]
  },
  {
   "cell_type": "code",
   "execution_count": 73,
   "metadata": {},
   "outputs": [
    {
     "name": "stdout",
     "output_type": "stream",
     "text": [
      "              precision    recall  f1-score   support\n",
      "\n",
      "           0       0.89      0.89      0.89     11073\n",
      "           1       0.61      0.60      0.61      3089\n",
      "\n",
      "    accuracy                           0.83     14162\n",
      "   macro avg       0.75      0.75      0.75     14162\n",
      "weighted avg       0.83      0.83      0.83     14162\n",
      "\n"
     ]
    }
   ],
   "source": [
    "y_pred_class = list(map(lambda x:1 if x>=0.35 else 0, y_pred))\n",
    "print(classification_report(y_test, y_pred_class))"
   ]
  },
  {
   "cell_type": "markdown",
   "metadata": {},
   "source": [
    "### XGB"
   ]
  },
  {
   "cell_type": "code",
   "execution_count": 78,
   "metadata": {},
   "outputs": [
    {
     "data": {
      "text/plain": [
       "RandomizedSearchCV(cv=5,\n",
       "                   estimator=XGBClassifier(base_score=None, booster=None,\n",
       "                                           colsample_bylevel=None,\n",
       "                                           colsample_bynode=None,\n",
       "                                           colsample_bytree=None, gamma=None,\n",
       "                                           gpu_id=None, importance_type='gain',\n",
       "                                           interaction_constraints=None,\n",
       "                                           learning_rate=None,\n",
       "                                           max_delta_step=None, max_depth=None,\n",
       "                                           min_child_weight=None, missing=nan,\n",
       "                                           monotone_constraints=None,\n",
       "                                           n_estimators=100,...\n",
       "                                           num_parallel_tree=None,\n",
       "                                           random_state=None, reg_alpha=None,\n",
       "                                           reg_lambda=None,\n",
       "                                           scale_pos_weight=None,\n",
       "                                           subsample=None, tree_method=None,\n",
       "                                           validate_parameters=None,\n",
       "                                           verbosity=None),\n",
       "                   param_distributions={'colsample_bytree': [0.5, 0.7],\n",
       "                                        'gamma': [0.0, 0.1, 0.2, 0.3],\n",
       "                                        'learning_rate': [0.001, 0.01, 0.0001,\n",
       "                                                          0.05, 0.1],\n",
       "                                        'max_depth': [3, 4, 6, 8, 10, 12, 15,\n",
       "                                                      20, 25, 30],\n",
       "                                        'n_estimators': [100, 150, 200, 250,\n",
       "                                                         300]})"
      ]
     },
     "execution_count": 78,
     "metadata": {},
     "output_type": "execute_result"
    }
   ],
   "source": [
    "from xgboost import XGBClassifier\n",
    "XGB = XGBClassifier(n_jobs=-1) \n",
    " \n",
    "param_grid = {\n",
    "                  'n_estimators' :[100,150,200,250,300],\n",
    "                  \"learning_rate\" : [0.001,0.01,0.0001,0.05, 0.10 ],\n",
    "                  \"gamma\"            : [ 0.0, 0.1, 0.2 , 0.3 ],\n",
    "                  \"colsample_bytree\" : [0.5,0.7],\n",
    "                  'max_depth': [3,4,6,8,10,12,15,20,25,30]\n",
    "              }\n",
    "XGB_random = RandomizedSearchCV(XGB, param_distributions=param_grid, cv=5)\n",
    "XGB_random.fit(x_train,y_train)"
   ]
  },
  {
   "cell_type": "code",
   "execution_count": 79,
   "metadata": {},
   "outputs": [
    {
     "data": {
      "image/png": "[encoded data removed]",
      "text/plain": [
       "<Figure size 720x576 with 1 Axes>"
      ]
     },
     "metadata": {
      "needs_background": "light"
     },
     "output_type": "display_data"
    }
   ],
   "source": [
    "# 测试集评估\n",
    "best_est_XGB = XGB_random.best_estimator_\n",
    "y_pred = best_est_XGB.predict_proba(x_test)\n",
    "y_pred = y_pred[:,1]\n",
    "fpr,tpr,_ = roc_curve(y_test, y_pred)\n",
    "roc_auc = auc(fpr, tpr)\n",
    "plt.figure(figsize=(10,8))\n",
    "plt.title('Receiver Operating Characteristic')\n",
    "sns.lineplot(fpr, tpr, label = 'AUC = %0.2f' % roc_auc)\n",
    "plt.legend(loc = 'lower right')\n",
    "plt.plot([0, 1], [0, 1],'r--')\n",
    "plt.ylabel('True Positive Rate')\n",
    "plt.xlabel('False Positive Rate')\n",
    "plt.show()"
   ]
  },
  {
   "cell_type": "code",
   "execution_count": 80,
   "metadata": {},
   "outputs": [
    {
     "name": "stdout",
     "output_type": "stream",
     "text": [
      "              precision    recall  f1-score   support\n",
      "\n",
      "           0       0.89      0.89      0.89     11073\n",
      "           1       0.62      0.61      0.62      3089\n",
      "\n",
      "    accuracy                           0.83     14162\n",
      "   macro avg       0.75      0.75      0.75     14162\n",
      "weighted avg       0.83      0.83      0.83     14162\n",
      "\n"
     ]
    }
   ],
   "source": [
    "y_pred_class = list(map(lambda x:1 if x>=0.35 else 0, y_pred))\n",
    "print(classification_report(y_test, y_pred_class))"
   ]
  },
  {
   "cell_type": "code",
   "execution_count": 81,
   "metadata": {},
   "outputs": [
    {
     "data": {
      "text/plain": [
       "['best_est_XGB.pkl']"
      ]
     },
     "execution_count": 81,
     "metadata": {},
     "output_type": "execute_result"
    }
   ],
   "source": [
    "joblib.dump(best_est_XGB, 'best_est_XGB.pkl')"
   ]
  },
  {
   "cell_type": "markdown",
   "metadata": {},
   "source": [
    "### lgb"
   ]
  },
  {
   "cell_type": "code",
   "execution_count": 82,
   "metadata": {},
   "outputs": [],
   "source": [
    "from lightgbm import LGBMClassifier"
   ]
  },
  {
   "cell_type": "code",
   "execution_count": 83,
   "metadata": {},
   "outputs": [
    {
     "data": {
      "text/plain": [
       "RandomizedSearchCV(cv=5,\n",
       "                   estimator=LGBMClassifier(metric='auc', objective='binary'),\n",
       "                   param_distributions={'bagging_fraction': [0.6, 0.7, 0.8, 0.9,\n",
       "                                                             0.95],\n",
       "                                        'bagging_freq': [2, 4, 5, 6, 8],\n",
       "                                        'cat_smooth': [1, 10, 15, 20, 35],\n",
       "                                        'feature_fraction': [0.6, 0.7, 0.8, 0.9,\n",
       "                                                             0.95],\n",
       "                                        'lambda_l1': [0, 0.1, 0.4, 0.5, 0.6],\n",
       "                                        'lambda_l2': [0, 10, 15, 35, 40],\n",
       "                                        'learning_rate': [0.01, 0.02, 0.05, 0.1,\n",
       "                                                          0.15],\n",
       "                                        'max_depth': [15, 20, 25, 30, 35]})"
      ]
     },
     "execution_count": 83,
     "metadata": {},
     "output_type": "execute_result"
    }
   ],
   "source": [
    "LGB = LGBMClassifier(boosting_type='gbdt',objective = 'binary',metric = 'auc',n_jobs=-1) \n",
    "param_grid = {\n",
    "              'max_depth': [15, 20, 25, 30, 35],\n",
    "              'learning_rate': [0.01, 0.02, 0.05, 0.1, 0.15],\n",
    "              'feature_fraction': [0.6, 0.7, 0.8, 0.9, 0.95],\n",
    "              'bagging_fraction': [0.6, 0.7, 0.8, 0.9, 0.95],\n",
    "              'bagging_freq': [2, 4, 5, 6, 8],\n",
    "              'lambda_l1': [0, 0.1, 0.4, 0.5, 0.6],\n",
    "              'lambda_l2': [0, 10, 15, 35, 40],\n",
    "              'cat_smooth': [1, 10, 15, 20, 35]\n",
    "}\n",
    "LGB_random = RandomizedSearchCV(LGB, param_distributions=param_grid, cv=5)\n",
    "LGB_random.fit(x_train,y_train)"
   ]
  },
  {
   "cell_type": "code",
   "execution_count": 84,
   "metadata": {},
   "outputs": [
    {
     "data": {
      "image/png": "[encoded data removed]",
      "text/plain": [
       "<Figure size 720x576 with 1 Axes>"
      ]
     },
     "metadata": {
      "needs_background": "light"
     },
     "output_type": "display_data"
    }
   ],
   "source": [
    "# 测试集评估\n",
    "best_est_LGB = LGB_random.best_estimator_\n",
    "y_pred = best_est_LGB.predict_proba(x_test)\n",
    "y_pred = y_pred[:,1]\n",
    "fpr,tpr,_ = roc_curve(y_test, y_pred)\n",
    "roc_auc = auc(fpr, tpr)\n",
    "plt.figure(figsize=(10,8))\n",
    "plt.title('Receiver Operating Characteristic')\n",
    "sns.lineplot(fpr, tpr, label = 'AUC = %0.2f' % roc_auc)\n",
    "plt.legend(loc = 'lower right')\n",
    "plt.plot([0, 1], [0, 1],'r--')\n",
    "plt.ylabel('True Positive Rate')\n",
    "plt.xlabel('False Positive Rate')\n",
    "plt.show()"
   ]
  },
  {
   "cell_type": "code",
   "execution_count": 85,
   "metadata": {},
   "outputs": [
    {
     "name": "stdout",
     "output_type": "stream",
     "text": [
      "              precision    recall  f1-score   support\n",
      "\n",
      "           0       0.88      0.91      0.90     11073\n",
      "           1       0.64      0.56      0.60      3089\n",
      "\n",
      "    accuracy                           0.84     14162\n",
      "   macro avg       0.76      0.74      0.75     14162\n",
      "weighted avg       0.83      0.84      0.83     14162\n",
      "\n"
     ]
    }
   ],
   "source": [
    "y_pred_class = list(map(lambda x:1 if x>=0.35 else 0, y_pred))\n",
    "print(classification_report(y_test, y_pred_class))"
   ]
  },
  {
   "cell_type": "code",
   "execution_count": 86,
   "metadata": {},
   "outputs": [
    {
     "data": {
      "text/plain": [
       "['best_est_LGB.pkl']"
      ]
     },
     "execution_count": 86,
     "metadata": {},
     "output_type": "execute_result"
    }
   ],
   "source": [
    "joblib.dump(best_est_LGB, 'best_est_LGB.pkl')"
   ]
  },
  {
   "cell_type": "markdown",
   "metadata": {},
   "source": [
    "### 选XGB + LGB +RF融合"
   ]
  },
  {
   "cell_type": "code",
   "execution_count": 87,
   "metadata": {},
   "outputs": [
    {
     "data": {
      "text/plain": [
       "XGBClassifier(base_score=0.5, booster='gbtree', colsample_bylevel=1,\n",
       "              colsample_bynode=1, colsample_bytree=0.5, gamma=0.0, gpu_id=-1,\n",
       "              importance_type='gain', interaction_constraints='',\n",
       "              learning_rate=0.01, max_delta_step=0, max_depth=8,\n",
       "              min_child_weight=1, missing=nan, monotone_constraints='()',\n",
       "              n_estimators=150, n_jobs=-1, num_parallel_tree=1, random_state=0,\n",
       "              reg_alpha=0, reg_lambda=1, scale_pos_weight=1, subsample=1,\n",
       "              tree_method='exact', validate_parameters=1, verbosity=None)"
      ]
     },
     "execution_count": 87,
     "metadata": {},
     "output_type": "execute_result"
    }
   ],
   "source": [
    "XGB_random.best_estimator_"
   ]
  },
  {
   "cell_type": "code",
   "execution_count": 88,
   "metadata": {},
   "outputs": [
    {
     "data": {
      "text/plain": [
       "LGBMClassifier(bagging_fraction=0.7, bagging_freq=2, cat_smooth=15,\n",
       "               feature_fraction=0.7, lambda_l1=0, lambda_l2=15,\n",
       "               learning_rate=0.15, max_depth=25, metric='auc',\n",
       "               objective='binary')"
      ]
     },
     "execution_count": 88,
     "metadata": {},
     "output_type": "execute_result"
    }
   ],
   "source": [
    "LGB_random.best_estimator_"
   ]
  },
  {
   "cell_type": "code",
   "execution_count": 89,
   "metadata": {},
   "outputs": [
    {
     "data": {
      "text/plain": [
       "RandomForestClassifier(max_depth=9, min_samples_leaf=2, n_estimators=27)"
      ]
     },
     "execution_count": 89,
     "metadata": {},
     "output_type": "execute_result"
    }
   ],
   "source": [
    "RF_random.best_estimator_"
   ]
  },
  {
   "cell_type": "code",
   "execution_count": 90,
   "metadata": {},
   "outputs": [],
   "source": [
    "y_pred = 0.4* best_est_XGB.predict_proba(x_test)[:,1] + 0.3*best_est_LGB.predict_proba(x_test)[:,1] + 0.3*best_est_RF.predict_proba(x_test)[:,1]"
   ]
  },
  {
   "cell_type": "code",
   "execution_count": 91,
   "metadata": {},
   "outputs": [
    {
     "data": {
      "image/png": "[encoded data removed]",
      "text/plain": [
       "<Figure size 720x576 with 1 Axes>"
      ]
     },
     "metadata": {
      "needs_background": "light"
     },
     "output_type": "display_data"
    }
   ],
   "source": [
    "fpr,tpr,_ = roc_curve(y_test, y_pred)\n",
    "roc_auc = auc(fpr, tpr)\n",
    "plt.figure(figsize=(10,8))\n",
    "plt.title('Receiver Operating Characteristic')\n",
    "sns.lineplot(fpr, tpr, label = 'AUC = %0.2f' % roc_auc)\n",
    "plt.legend(loc = 'lower right')\n",
    "plt.plot([0, 1], [0, 1],'r--')\n",
    "plt.ylabel('True Positive Rate')\n",
    "plt.xlabel('False Positive Rate')\n",
    "plt.show()"
   ]
  },
  {
   "cell_type": "code",
   "execution_count": 92,
   "metadata": {},
   "outputs": [
    {
     "name": "stdout",
     "output_type": "stream",
     "text": [
      "              precision    recall  f1-score   support\n",
      "\n",
      "           0       0.90      0.87      0.89     11073\n",
      "           1       0.59      0.65      0.62      3089\n",
      "\n",
      "    accuracy                           0.83     14162\n",
      "   macro avg       0.75      0.76      0.75     14162\n",
      "weighted avg       0.83      0.83      0.83     14162\n",
      "\n"
     ]
    }
   ],
   "source": [
    "y_pred_class = list(map(lambda x:1 if x>=0.3 else 0, y_pred))\n",
    "print(classification_report(y_test, y_pred_class))"
   ]
  },
  {
   "cell_type": "markdown",
   "metadata": {},
   "source": [
    "### 转化为分数"
   ]
  },
  {
   "cell_type": "code",
   "execution_count": 93,
   "metadata": {
    "scrolled": true
   },
   "outputs": [
    {
     "data": {
      "text/html": [
       "<div>\n",
       "<style scoped>\n",
       "    .dataframe tbody tr th:only-of-type {\n",
       "        vertical-align: middle;\n",
       "    }\n",
       "\n",
       "    .dataframe tbody tr th {\n",
       "        vertical-align: top;\n",
       "    }\n",
       "\n",
       "    .dataframe thead th {\n",
       "        text-align: right;\n",
       "    }\n",
       "</style>\n",
       "<table border=\"1\" class=\"dataframe\">\n",
       "  <thead>\n",
       "    <tr style=\"text-align: right;\">\n",
       "      <th></th>\n",
       "      <th>image_id</th>\n",
       "      <th>image_name</th>\n",
       "      <th>media_id</th>\n",
       "      <th>image_launch_time</th>\n",
       "      <th>image_source_total_num</th>\n",
       "      <th>image_run_date_amount</th>\n",
       "      <th>image_create_role_pay_num</th>\n",
       "      <th>image_create_role_num</th>\n",
       "      <th>image_create_role_pay_sum</th>\n",
       "      <th>image_source_num</th>\n",
       "      <th>image_create_role_pay_rate</th>\n",
       "      <th>image_create_role_cost</th>\n",
       "      <th>image_create_role_pay_cost</th>\n",
       "      <th>image_valid_source_num</th>\n",
       "      <th>image_valid_source_rate</th>\n",
       "      <th>image_pay_sum_ability</th>\n",
       "      <th>image_pay_num_ability</th>\n",
       "      <th>image_create_role_roi</th>\n",
       "      <th>image_create_role_retain_1d</th>\n",
       "      <th>create_role_30_pay_sum</th>\n",
       "      <th>model_run_datetime</th>\n",
       "      <th>label</th>\n",
       "    </tr>\n",
       "  </thead>\n",
       "  <tbody>\n",
       "    <tr>\n",
       "      <th>0</th>\n",
       "      <td>23509</td>\n",
       "      <td>SSR1414-竖版（3D混剪）</td>\n",
       "      <td>16</td>\n",
       "      <td>2020-07-16</td>\n",
       "      <td>489.0</td>\n",
       "      <td>0.586</td>\n",
       "      <td>0.831</td>\n",
       "      <td>0.009</td>\n",
       "      <td>1.116</td>\n",
       "      <td>0.946</td>\n",
       "      <td>1.235</td>\n",
       "      <td>-0.626</td>\n",
       "      <td>1.156</td>\n",
       "      <td>0.0</td>\n",
       "      <td>0.079</td>\n",
       "      <td>0.071</td>\n",
       "      <td>0.023</td>\n",
       "      <td>1.169</td>\n",
       "      <td>0.0702</td>\n",
       "      <td>262.0</td>\n",
       "      <td>2021-05-01</td>\n",
       "      <td>0</td>\n",
       "    </tr>\n",
       "    <tr>\n",
       "      <th>2</th>\n",
       "      <td>26441</td>\n",
       "      <td>SSR1909-竖版（3D混剪）</td>\n",
       "      <td>16</td>\n",
       "      <td>2020-11-10</td>\n",
       "      <td>757.0</td>\n",
       "      <td>-1.839</td>\n",
       "      <td>-2.481</td>\n",
       "      <td>-1.885</td>\n",
       "      <td>-1.493</td>\n",
       "      <td>-0.707</td>\n",
       "      <td>-0.726</td>\n",
       "      <td>-0.856</td>\n",
       "      <td>-0.922</td>\n",
       "      <td>2.0</td>\n",
       "      <td>0.079</td>\n",
       "      <td>-2.463</td>\n",
       "      <td>-1.274</td>\n",
       "      <td>-0.436</td>\n",
       "      <td>0.0729</td>\n",
       "      <td>44716.0</td>\n",
       "      <td>2021-05-01</td>\n",
       "      <td>1</td>\n",
       "    </tr>\n",
       "    <tr>\n",
       "      <th>3</th>\n",
       "      <td>27824</td>\n",
       "      <td>SSR2078-横版（3D混剪）</td>\n",
       "      <td>16</td>\n",
       "      <td>2020-12-16</td>\n",
       "      <td>508.0</td>\n",
       "      <td>0.017</td>\n",
       "      <td>0.831</td>\n",
       "      <td>0.009</td>\n",
       "      <td>1.116</td>\n",
       "      <td>0.250</td>\n",
       "      <td>1.235</td>\n",
       "      <td>-0.044</td>\n",
       "      <td>1.156</td>\n",
       "      <td>0.0</td>\n",
       "      <td>0.079</td>\n",
       "      <td>0.071</td>\n",
       "      <td>0.023</td>\n",
       "      <td>1.169</td>\n",
       "      <td>0.1333</td>\n",
       "      <td>1496.0</td>\n",
       "      <td>2021-05-01</td>\n",
       "      <td>0</td>\n",
       "    </tr>\n",
       "    <tr>\n",
       "      <th>4</th>\n",
       "      <td>27945</td>\n",
       "      <td>SSR2101-横版（3D混剪)</td>\n",
       "      <td>16</td>\n",
       "      <td>2020-12-21</td>\n",
       "      <td>626.0</td>\n",
       "      <td>-0.337</td>\n",
       "      <td>-0.553</td>\n",
       "      <td>-0.340</td>\n",
       "      <td>-0.710</td>\n",
       "      <td>0.679</td>\n",
       "      <td>-1.002</td>\n",
       "      <td>-0.044</td>\n",
       "      <td>-0.557</td>\n",
       "      <td>0.0</td>\n",
       "      <td>0.079</td>\n",
       "      <td>0.071</td>\n",
       "      <td>0.023</td>\n",
       "      <td>-0.436</td>\n",
       "      <td>0.1538</td>\n",
       "      <td>6368.0</td>\n",
       "      <td>2021-05-01</td>\n",
       "      <td>1</td>\n",
       "    </tr>\n",
       "    <tr>\n",
       "      <th>5</th>\n",
       "      <td>28193</td>\n",
       "      <td>SSR2138-竖版（3D混剪）~1</td>\n",
       "      <td>16</td>\n",
       "      <td>2020-12-28</td>\n",
       "      <td>626.0</td>\n",
       "      <td>1.248</td>\n",
       "      <td>0.831</td>\n",
       "      <td>0.784</td>\n",
       "      <td>1.116</td>\n",
       "      <td>0.679</td>\n",
       "      <td>1.235</td>\n",
       "      <td>-0.856</td>\n",
       "      <td>1.156</td>\n",
       "      <td>0.0</td>\n",
       "      <td>0.079</td>\n",
       "      <td>0.071</td>\n",
       "      <td>0.023</td>\n",
       "      <td>1.169</td>\n",
       "      <td>0.1250</td>\n",
       "      <td>0.0</td>\n",
       "      <td>2021-05-01</td>\n",
       "      <td>0</td>\n",
       "    </tr>\n",
       "  </tbody>\n",
       "</table>\n",
       "</div>"
      ],
      "text/plain": [
       "   image_id          image_name  media_id image_launch_time  \\\n",
       "0     23509    SSR1414-竖版（3D混剪）        16        2020-07-16   \n",
       "2     26441    SSR1909-竖版（3D混剪）        16        2020-11-10   \n",
       "3     27824    SSR2078-横版（3D混剪）        16        2020-12-16   \n",
       "4     27945    SSR2101-横版（3D混剪)        16        2020-12-21   \n",
       "5     28193  SSR2138-竖版（3D混剪）~1        16        2020-12-28   \n",
       "\n",
       "   image_source_total_num  image_run_date_amount  image_create_role_pay_num  \\\n",
       "0                   489.0                  0.586                      0.831   \n",
       "2                   757.0                 -1.839                     -2.481   \n",
       "3                   508.0                  0.017                      0.831   \n",
       "4                   626.0                 -0.337                     -0.553   \n",
       "5                   626.0                  1.248                      0.831   \n",
       "\n",
       "   image_create_role_num  image_create_role_pay_sum  image_source_num  \\\n",
       "0                  0.009                      1.116             0.946   \n",
       "2                 -1.885                     -1.493            -0.707   \n",
       "3                  0.009                      1.116             0.250   \n",
       "4                 -0.340                     -0.710             0.679   \n",
       "5                  0.784                      1.116             0.679   \n",
       "\n",
       "   image_create_role_pay_rate  image_create_role_cost  \\\n",
       "0                       1.235                  -0.626   \n",
       "2                      -0.726                  -0.856   \n",
       "3                       1.235                  -0.044   \n",
       "4                      -1.002                  -0.044   \n",
       "5                       1.235                  -0.856   \n",
       "\n",
       "   image_create_role_pay_cost  image_valid_source_num  \\\n",
       "0                       1.156                     0.0   \n",
       "2                      -0.922                     2.0   \n",
       "3                       1.156                     0.0   \n",
       "4                      -0.557                     0.0   \n",
       "5                       1.156                     0.0   \n",
       "\n",
       "   image_valid_source_rate  image_pay_sum_ability  image_pay_num_ability  \\\n",
       "0                    0.079                  0.071                  0.023   \n",
       "2                    0.079                 -2.463                 -1.274   \n",
       "3                    0.079                  0.071                  0.023   \n",
       "4                    0.079                  0.071                  0.023   \n",
       "5                    0.079                  0.071                  0.023   \n",
       "\n",
       "   image_create_role_roi  image_create_role_retain_1d  create_role_30_pay_sum  \\\n",
       "0                  1.169                       0.0702                   262.0   \n",
       "2                 -0.436                       0.0729                 44716.0   \n",
       "3                  1.169                       0.1333                  1496.0   \n",
       "4                 -0.436                       0.1538                  6368.0   \n",
       "5                  1.169                       0.1250                     0.0   \n",
       "\n",
       "  model_run_datetime  label  \n",
       "0         2021-05-01      0  \n",
       "2         2021-05-01      1  \n",
       "3         2021-05-01      0  \n",
       "4         2021-05-01      1  \n",
       "5         2021-05-01      0  "
      ]
     },
     "execution_count": 93,
     "metadata": {},
     "output_type": "execute_result"
    }
   ],
   "source": [
    "image_info_change.head()"
   ]
  },
  {
   "cell_type": "code",
   "execution_count": 94,
   "metadata": {
    "scrolled": true
   },
   "outputs": [],
   "source": [
    "feature = image_info_change[select_feature].drop('label',axis=1)\n",
    "image_info_change['pred'] = 0.4* best_est_XGB.predict_proba(feature)[:,1] + 0.3*best_est_LGB.predict_proba(feature)[:,1] + 0.3*best_est_RF.predict_proba(feature)[:,1]"
   ]
  },
  {
   "cell_type": "code",
   "execution_count": 95,
   "metadata": {},
   "outputs": [
    {
     "data": {
      "text/plain": [
       "(56646, 23)"
      ]
     },
     "execution_count": 95,
     "metadata": {},
     "output_type": "execute_result"
    }
   ],
   "source": [
    "image_info_change.shape"
   ]
  },
  {
   "cell_type": "code",
   "execution_count": 96,
   "metadata": {},
   "outputs": [
    {
     "data": {
      "text/html": [
       "<div>\n",
       "<style scoped>\n",
       "    .dataframe tbody tr th:only-of-type {\n",
       "        vertical-align: middle;\n",
       "    }\n",
       "\n",
       "    .dataframe tbody tr th {\n",
       "        vertical-align: top;\n",
       "    }\n",
       "\n",
       "    .dataframe thead th {\n",
       "        text-align: right;\n",
       "    }\n",
       "</style>\n",
       "<table border=\"1\" class=\"dataframe\">\n",
       "  <thead>\n",
       "    <tr style=\"text-align: right;\">\n",
       "      <th></th>\n",
       "      <th>image_id</th>\n",
       "      <th>image_name</th>\n",
       "      <th>media_id</th>\n",
       "      <th>image_launch_time</th>\n",
       "      <th>image_source_total_num</th>\n",
       "      <th>image_run_date_amount</th>\n",
       "      <th>image_create_role_pay_num</th>\n",
       "      <th>image_create_role_num</th>\n",
       "      <th>image_create_role_pay_sum</th>\n",
       "      <th>image_source_num</th>\n",
       "      <th>image_create_role_pay_rate</th>\n",
       "      <th>image_create_role_cost</th>\n",
       "      <th>image_create_role_pay_cost</th>\n",
       "      <th>image_valid_source_num</th>\n",
       "      <th>image_valid_source_rate</th>\n",
       "      <th>image_pay_sum_ability</th>\n",
       "      <th>image_pay_num_ability</th>\n",
       "      <th>image_create_role_roi</th>\n",
       "      <th>image_create_role_retain_1d</th>\n",
       "      <th>create_role_30_pay_sum</th>\n",
       "      <th>model_run_datetime</th>\n",
       "      <th>label</th>\n",
       "      <th>pred</th>\n",
       "    </tr>\n",
       "  </thead>\n",
       "  <tbody>\n",
       "    <tr>\n",
       "      <th>0</th>\n",
       "      <td>23509</td>\n",
       "      <td>SSR1414-竖版（3D混剪）</td>\n",
       "      <td>16</td>\n",
       "      <td>2020-07-16</td>\n",
       "      <td>489.0</td>\n",
       "      <td>0.586</td>\n",
       "      <td>0.831</td>\n",
       "      <td>0.009</td>\n",
       "      <td>1.116</td>\n",
       "      <td>0.946</td>\n",
       "      <td>1.235</td>\n",
       "      <td>-0.626</td>\n",
       "      <td>1.156</td>\n",
       "      <td>0.0</td>\n",
       "      <td>0.079</td>\n",
       "      <td>0.071</td>\n",
       "      <td>0.023</td>\n",
       "      <td>1.169</td>\n",
       "      <td>0.0702</td>\n",
       "      <td>262.0</td>\n",
       "      <td>2021-05-01</td>\n",
       "      <td>0</td>\n",
       "      <td>0.105684</td>\n",
       "    </tr>\n",
       "    <tr>\n",
       "      <th>2</th>\n",
       "      <td>26441</td>\n",
       "      <td>SSR1909-竖版（3D混剪）</td>\n",
       "      <td>16</td>\n",
       "      <td>2020-11-10</td>\n",
       "      <td>757.0</td>\n",
       "      <td>-1.839</td>\n",
       "      <td>-2.481</td>\n",
       "      <td>-1.885</td>\n",
       "      <td>-1.493</td>\n",
       "      <td>-0.707</td>\n",
       "      <td>-0.726</td>\n",
       "      <td>-0.856</td>\n",
       "      <td>-0.922</td>\n",
       "      <td>2.0</td>\n",
       "      <td>0.079</td>\n",
       "      <td>-2.463</td>\n",
       "      <td>-1.274</td>\n",
       "      <td>-0.436</td>\n",
       "      <td>0.0729</td>\n",
       "      <td>44716.0</td>\n",
       "      <td>2021-05-01</td>\n",
       "      <td>1</td>\n",
       "      <td>0.607447</td>\n",
       "    </tr>\n",
       "    <tr>\n",
       "      <th>3</th>\n",
       "      <td>27824</td>\n",
       "      <td>SSR2078-横版（3D混剪）</td>\n",
       "      <td>16</td>\n",
       "      <td>2020-12-16</td>\n",
       "      <td>508.0</td>\n",
       "      <td>0.017</td>\n",
       "      <td>0.831</td>\n",
       "      <td>0.009</td>\n",
       "      <td>1.116</td>\n",
       "      <td>0.250</td>\n",
       "      <td>1.235</td>\n",
       "      <td>-0.044</td>\n",
       "      <td>1.156</td>\n",
       "      <td>0.0</td>\n",
       "      <td>0.079</td>\n",
       "      <td>0.071</td>\n",
       "      <td>0.023</td>\n",
       "      <td>1.169</td>\n",
       "      <td>0.1333</td>\n",
       "      <td>1496.0</td>\n",
       "      <td>2021-05-01</td>\n",
       "      <td>0</td>\n",
       "      <td>0.120919</td>\n",
       "    </tr>\n",
       "    <tr>\n",
       "      <th>4</th>\n",
       "      <td>27945</td>\n",
       "      <td>SSR2101-横版（3D混剪)</td>\n",
       "      <td>16</td>\n",
       "      <td>2020-12-21</td>\n",
       "      <td>626.0</td>\n",
       "      <td>-0.337</td>\n",
       "      <td>-0.553</td>\n",
       "      <td>-0.340</td>\n",
       "      <td>-0.710</td>\n",
       "      <td>0.679</td>\n",
       "      <td>-1.002</td>\n",
       "      <td>-0.044</td>\n",
       "      <td>-0.557</td>\n",
       "      <td>0.0</td>\n",
       "      <td>0.079</td>\n",
       "      <td>0.071</td>\n",
       "      <td>0.023</td>\n",
       "      <td>-0.436</td>\n",
       "      <td>0.1538</td>\n",
       "      <td>6368.0</td>\n",
       "      <td>2021-05-01</td>\n",
       "      <td>1</td>\n",
       "      <td>0.267172</td>\n",
       "    </tr>\n",
       "    <tr>\n",
       "      <th>5</th>\n",
       "      <td>28193</td>\n",
       "      <td>SSR2138-竖版（3D混剪）~1</td>\n",
       "      <td>16</td>\n",
       "      <td>2020-12-28</td>\n",
       "      <td>626.0</td>\n",
       "      <td>1.248</td>\n",
       "      <td>0.831</td>\n",
       "      <td>0.784</td>\n",
       "      <td>1.116</td>\n",
       "      <td>0.679</td>\n",
       "      <td>1.235</td>\n",
       "      <td>-0.856</td>\n",
       "      <td>1.156</td>\n",
       "      <td>0.0</td>\n",
       "      <td>0.079</td>\n",
       "      <td>0.071</td>\n",
       "      <td>0.023</td>\n",
       "      <td>1.169</td>\n",
       "      <td>0.1250</td>\n",
       "      <td>0.0</td>\n",
       "      <td>2021-05-01</td>\n",
       "      <td>0</td>\n",
       "      <td>0.186759</td>\n",
       "    </tr>\n",
       "  </tbody>\n",
       "</table>\n",
       "</div>"
      ],
      "text/plain": [
       "   image_id          image_name  media_id image_launch_time  \\\n",
       "0     23509    SSR1414-竖版（3D混剪）        16        2020-07-16   \n",
       "2     26441    SSR1909-竖版（3D混剪）        16        2020-11-10   \n",
       "3     27824    SSR2078-横版（3D混剪）        16        2020-12-16   \n",
       "4     27945    SSR2101-横版（3D混剪)        16        2020-12-21   \n",
       "5     28193  SSR2138-竖版（3D混剪）~1        16        2020-12-28   \n",
       "\n",
       "   image_source_total_num  image_run_date_amount  image_create_role_pay_num  \\\n",
       "0                   489.0                  0.586                      0.831   \n",
       "2                   757.0                 -1.839                     -2.481   \n",
       "3                   508.0                  0.017                      0.831   \n",
       "4                   626.0                 -0.337                     -0.553   \n",
       "5                   626.0                  1.248                      0.831   \n",
       "\n",
       "   image_create_role_num  image_create_role_pay_sum  image_source_num  \\\n",
       "0                  0.009                      1.116             0.946   \n",
       "2                 -1.885                     -1.493            -0.707   \n",
       "3                  0.009                      1.116             0.250   \n",
       "4                 -0.340                     -0.710             0.679   \n",
       "5                  0.784                      1.116             0.679   \n",
       "\n",
       "   image_create_role_pay_rate  image_create_role_cost  \\\n",
       "0                       1.235                  -0.626   \n",
       "2                      -0.726                  -0.856   \n",
       "3                       1.235                  -0.044   \n",
       "4                      -1.002                  -0.044   \n",
       "5                       1.235                  -0.856   \n",
       "\n",
       "   image_create_role_pay_cost  image_valid_source_num  \\\n",
       "0                       1.156                     0.0   \n",
       "2                      -0.922                     2.0   \n",
       "3                       1.156                     0.0   \n",
       "4                      -0.557                     0.0   \n",
       "5                       1.156                     0.0   \n",
       "\n",
       "   image_valid_source_rate  image_pay_sum_ability  image_pay_num_ability  \\\n",
       "0                    0.079                  0.071                  0.023   \n",
       "2                    0.079                 -2.463                 -1.274   \n",
       "3                    0.079                  0.071                  0.023   \n",
       "4                    0.079                  0.071                  0.023   \n",
       "5                    0.079                  0.071                  0.023   \n",
       "\n",
       "   image_create_role_roi  image_create_role_retain_1d  create_role_30_pay_sum  \\\n",
       "0                  1.169                       0.0702                   262.0   \n",
       "2                 -0.436                       0.0729                 44716.0   \n",
       "3                  1.169                       0.1333                  1496.0   \n",
       "4                 -0.436                       0.1538                  6368.0   \n",
       "5                  1.169                       0.1250                     0.0   \n",
       "\n",
       "  model_run_datetime  label      pred  \n",
       "0         2021-05-01      0  0.105684  \n",
       "2         2021-05-01      1  0.607447  \n",
       "3         2021-05-01      0  0.120919  \n",
       "4         2021-05-01      1  0.267172  \n",
       "5         2021-05-01      0  0.186759  "
      ]
     },
     "execution_count": 96,
     "metadata": {},
     "output_type": "execute_result"
    }
   ],
   "source": [
    "image_info_change.head()"
   ]
  },
  {
   "cell_type": "code",
   "execution_count": 97,
   "metadata": {},
   "outputs": [],
   "source": [
    "image_info_change.to_csv('./image_info_change.csv',index=0)"
   ]
  },
  {
   "cell_type": "code",
   "execution_count": 98,
   "metadata": {},
   "outputs": [],
   "source": [
    "image_info_label.to_csv('./image_info_label.csv',index=0)"
   ]
  },
  {
   "cell_type": "code",
   "execution_count": 99,
   "metadata": {},
   "outputs": [
    {
     "data": {
      "image/png": "[encoded data removed]",
      "text/plain": [
       "<Figure size 720x576 with 1 Axes>"
      ]
     },
     "metadata": {
      "needs_background": "light"
     },
     "output_type": "display_data"
    }
   ],
   "source": [
    "fpr,tpr,_ = roc_curve(image_info_change['label'], image_info_change['pred'])\n",
    "roc_auc = auc(fpr, tpr)\n",
    "plt.figure(figsize=(10,8))\n",
    "plt.title('Receiver Operating Characteristic')\n",
    "sns.lineplot(fpr, tpr, label = 'AUC = %0.2f' % roc_auc)\n",
    "plt.legend(loc = 'lower right')\n",
    "plt.plot([0, 1], [0, 1],'r--')\n",
    "plt.ylabel('True Positive Rate')\n",
    "plt.xlabel('False Positive Rate')\n",
    "plt.show()"
   ]
  },
  {
   "cell_type": "code",
   "execution_count": 100,
   "metadata": {},
   "outputs": [
    {
     "name": "stdout",
     "output_type": "stream",
     "text": [
      "              precision    recall  f1-score   support\n",
      "\n",
      "           0       0.90      0.88      0.89     44262\n",
      "           1       0.60      0.67      0.63     12384\n",
      "\n",
      "    accuracy                           0.83     56646\n",
      "   macro avg       0.75      0.77      0.76     56646\n",
      "weighted avg       0.84      0.83      0.83     56646\n",
      "\n"
     ]
    }
   ],
   "source": [
    "y_pred_class = list(map(lambda x:1 if x>=0.3 else 0, image_info_change['pred']))\n",
    "print(classification_report(image_info_change['label'], y_pred_class))"
   ]
  },
  {
   "cell_type": "code",
   "execution_count": 101,
   "metadata": {},
   "outputs": [],
   "source": [
    "def Prob2Score(prob, basePoint=600, PDO=30):\n",
    "    #将概率转化成分数且为正整数\n",
    "    y = np.log(prob/(1-prob))\n",
    "    return (basePoint+int(PDO/np.log(2)*(y)))"
   ]
  },
  {
   "cell_type": "code",
   "execution_count": 102,
   "metadata": {},
   "outputs": [
    {
     "data": {
      "text/plain": [
       "564"
      ]
     },
     "execution_count": 102,
     "metadata": {},
     "output_type": "execute_result"
    }
   ],
   "source": [
    "Prob2Score(0.3)"
   ]
  },
  {
   "cell_type": "code",
   "execution_count": 103,
   "metadata": {},
   "outputs": [],
   "source": [
    "image_info_change['score'] = image_info_change['pred'].apply(Prob2Score)"
   ]
  },
  {
   "cell_type": "code",
   "execution_count": 104,
   "metadata": {},
   "outputs": [],
   "source": [
    "image_info_label['score'] = image_info_change['score']"
   ]
  },
  {
   "cell_type": "code",
   "execution_count": 105,
   "metadata": {},
   "outputs": [
    {
     "data": {
      "text/html": [
       "<div>\n",
       "<style scoped>\n",
       "    .dataframe tbody tr th:only-of-type {\n",
       "        vertical-align: middle;\n",
       "    }\n",
       "\n",
       "    .dataframe tbody tr th {\n",
       "        vertical-align: top;\n",
       "    }\n",
       "\n",
       "    .dataframe thead th {\n",
       "        text-align: right;\n",
       "    }\n",
       "</style>\n",
       "<table border=\"1\" class=\"dataframe\">\n",
       "  <thead>\n",
       "    <tr style=\"text-align: right;\">\n",
       "      <th></th>\n",
       "      <th>image_id</th>\n",
       "      <th>image_name</th>\n",
       "      <th>media_id</th>\n",
       "      <th>image_launch_time</th>\n",
       "      <th>image_source_total_num</th>\n",
       "      <th>image_run_date_amount</th>\n",
       "      <th>image_create_role_pay_num</th>\n",
       "      <th>image_create_role_num</th>\n",
       "      <th>image_create_role_pay_sum</th>\n",
       "      <th>image_source_num</th>\n",
       "      <th>image_create_role_pay_rate</th>\n",
       "      <th>image_create_role_cost</th>\n",
       "      <th>image_create_role_pay_cost</th>\n",
       "      <th>image_valid_source_num</th>\n",
       "      <th>image_valid_source_rate</th>\n",
       "      <th>image_pay_sum_ability</th>\n",
       "      <th>image_pay_num_ability</th>\n",
       "      <th>image_create_role_roi</th>\n",
       "      <th>image_create_role_retain_1d</th>\n",
       "      <th>create_role_30_pay_sum</th>\n",
       "      <th>model_run_datetime</th>\n",
       "      <th>label</th>\n",
       "      <th>score</th>\n",
       "    </tr>\n",
       "  </thead>\n",
       "  <tbody>\n",
       "    <tr>\n",
       "      <th>0</th>\n",
       "      <td>23509</td>\n",
       "      <td>SSR1414-竖版（3D混剪）</td>\n",
       "      <td>16</td>\n",
       "      <td>2020-07-16</td>\n",
       "      <td>489.0</td>\n",
       "      <td>3913.53</td>\n",
       "      <td>0.0</td>\n",
       "      <td>57.0</td>\n",
       "      <td>0.0</td>\n",
       "      <td>1.0</td>\n",
       "      <td>0.0000</td>\n",
       "      <td>68.658421</td>\n",
       "      <td>inf</td>\n",
       "      <td>0.0</td>\n",
       "      <td>0.0000</td>\n",
       "      <td>0.0</td>\n",
       "      <td>0.0</td>\n",
       "      <td>0.000000</td>\n",
       "      <td>0.0702</td>\n",
       "      <td>262.0</td>\n",
       "      <td>2021-05-01</td>\n",
       "      <td>0</td>\n",
       "      <td>508</td>\n",
       "    </tr>\n",
       "    <tr>\n",
       "      <th>2</th>\n",
       "      <td>26441</td>\n",
       "      <td>SSR1909-竖版（3D混剪）</td>\n",
       "      <td>16</td>\n",
       "      <td>2020-11-10</td>\n",
       "      <td>757.0</td>\n",
       "      <td>78904.83</td>\n",
       "      <td>14.0</td>\n",
       "      <td>2120.0</td>\n",
       "      <td>1478.0</td>\n",
       "      <td>26.0</td>\n",
       "      <td>0.0066</td>\n",
       "      <td>37.219259</td>\n",
       "      <td>5636.059286</td>\n",
       "      <td>2.0</td>\n",
       "      <td>0.0769</td>\n",
       "      <td>739.0</td>\n",
       "      <td>7.0</td>\n",
       "      <td>0.018731</td>\n",
       "      <td>0.0729</td>\n",
       "      <td>44716.0</td>\n",
       "      <td>2021-05-01</td>\n",
       "      <td>1</td>\n",
       "      <td>618</td>\n",
       "    </tr>\n",
       "    <tr>\n",
       "      <th>3</th>\n",
       "      <td>27824</td>\n",
       "      <td>SSR2078-横版（3D混剪）</td>\n",
       "      <td>16</td>\n",
       "      <td>2020-12-16</td>\n",
       "      <td>508.0</td>\n",
       "      <td>9341.00</td>\n",
       "      <td>0.0</td>\n",
       "      <td>81.0</td>\n",
       "      <td>0.0</td>\n",
       "      <td>7.0</td>\n",
       "      <td>0.0000</td>\n",
       "      <td>115.320988</td>\n",
       "      <td>inf</td>\n",
       "      <td>0.0</td>\n",
       "      <td>0.0000</td>\n",
       "      <td>0.0</td>\n",
       "      <td>0.0</td>\n",
       "      <td>0.000000</td>\n",
       "      <td>0.1333</td>\n",
       "      <td>1496.0</td>\n",
       "      <td>2021-05-01</td>\n",
       "      <td>0</td>\n",
       "      <td>515</td>\n",
       "    </tr>\n",
       "    <tr>\n",
       "      <th>4</th>\n",
       "      <td>27945</td>\n",
       "      <td>SSR2101-横版（3D混剪)</td>\n",
       "      <td>16</td>\n",
       "      <td>2020-12-21</td>\n",
       "      <td>626.0</td>\n",
       "      <td>14992.50</td>\n",
       "      <td>2.0</td>\n",
       "      <td>117.0</td>\n",
       "      <td>254.0</td>\n",
       "      <td>3.0</td>\n",
       "      <td>0.0171</td>\n",
       "      <td>128.141026</td>\n",
       "      <td>7496.250000</td>\n",
       "      <td>0.0</td>\n",
       "      <td>0.0000</td>\n",
       "      <td>0.0</td>\n",
       "      <td>0.0</td>\n",
       "      <td>0.016942</td>\n",
       "      <td>0.1538</td>\n",
       "      <td>6368.0</td>\n",
       "      <td>2021-05-01</td>\n",
       "      <td>1</td>\n",
       "      <td>557</td>\n",
       "    </tr>\n",
       "    <tr>\n",
       "      <th>5</th>\n",
       "      <td>28193</td>\n",
       "      <td>SSR2138-竖版（3D混剪）~1</td>\n",
       "      <td>16</td>\n",
       "      <td>2020-12-28</td>\n",
       "      <td>626.0</td>\n",
       "      <td>656.07</td>\n",
       "      <td>0.0</td>\n",
       "      <td>15.0</td>\n",
       "      <td>0.0</td>\n",
       "      <td>3.0</td>\n",
       "      <td>0.0000</td>\n",
       "      <td>43.738000</td>\n",
       "      <td>inf</td>\n",
       "      <td>0.0</td>\n",
       "      <td>0.0000</td>\n",
       "      <td>0.0</td>\n",
       "      <td>0.0</td>\n",
       "      <td>0.000000</td>\n",
       "      <td>0.1250</td>\n",
       "      <td>0.0</td>\n",
       "      <td>2021-05-01</td>\n",
       "      <td>0</td>\n",
       "      <td>537</td>\n",
       "    </tr>\n",
       "  </tbody>\n",
       "</table>\n",
       "</div>"
      ],
      "text/plain": [
       "   image_id          image_name  media_id image_launch_time  \\\n",
       "0     23509    SSR1414-竖版（3D混剪）        16        2020-07-16   \n",
       "2     26441    SSR1909-竖版（3D混剪）        16        2020-11-10   \n",
       "3     27824    SSR2078-横版（3D混剪）        16        2020-12-16   \n",
       "4     27945    SSR2101-横版（3D混剪)        16        2020-12-21   \n",
       "5     28193  SSR2138-竖版（3D混剪）~1        16        2020-12-28   \n",
       "\n",
       "   image_source_total_num  image_run_date_amount  image_create_role_pay_num  \\\n",
       "0                   489.0                3913.53                        0.0   \n",
       "2                   757.0               78904.83                       14.0   \n",
       "3                   508.0                9341.00                        0.0   \n",
       "4                   626.0               14992.50                        2.0   \n",
       "5                   626.0                 656.07                        0.0   \n",
       "\n",
       "   image_create_role_num  image_create_role_pay_sum  image_source_num  \\\n",
       "0                   57.0                        0.0               1.0   \n",
       "2                 2120.0                     1478.0              26.0   \n",
       "3                   81.0                        0.0               7.0   \n",
       "4                  117.0                      254.0               3.0   \n",
       "5                   15.0                        0.0               3.0   \n",
       "\n",
       "   image_create_role_pay_rate  image_create_role_cost  \\\n",
       "0                      0.0000               68.658421   \n",
       "2                      0.0066               37.219259   \n",
       "3                      0.0000              115.320988   \n",
       "4                      0.0171              128.141026   \n",
       "5                      0.0000               43.738000   \n",
       "\n",
       "   image_create_role_pay_cost  image_valid_source_num  \\\n",
       "0                         inf                     0.0   \n",
       "2                 5636.059286                     2.0   \n",
       "3                         inf                     0.0   \n",
       "4                 7496.250000                     0.0   \n",
       "5                         inf                     0.0   \n",
       "\n",
       "   image_valid_source_rate  image_pay_sum_ability  image_pay_num_ability  \\\n",
       "0                   0.0000                    0.0                    0.0   \n",
       "2                   0.0769                  739.0                    7.0   \n",
       "3                   0.0000                    0.0                    0.0   \n",
       "4                   0.0000                    0.0                    0.0   \n",
       "5                   0.0000                    0.0                    0.0   \n",
       "\n",
       "   image_create_role_roi  image_create_role_retain_1d  create_role_30_pay_sum  \\\n",
       "0               0.000000                       0.0702                   262.0   \n",
       "2               0.018731                       0.0729                 44716.0   \n",
       "3               0.000000                       0.1333                  1496.0   \n",
       "4               0.016942                       0.1538                  6368.0   \n",
       "5               0.000000                       0.1250                     0.0   \n",
       "\n",
       "  model_run_datetime  label  score  \n",
       "0         2021-05-01      0    508  \n",
       "2         2021-05-01      1    618  \n",
       "3         2021-05-01      0    515  \n",
       "4         2021-05-01      1    557  \n",
       "5         2021-05-01      0    537  "
      ]
     },
     "execution_count": 105,
     "metadata": {},
     "output_type": "execute_result"
    }
   ],
   "source": [
    "image_info_label.head()"
   ]
  },
  {
   "cell_type": "code",
   "execution_count": 106,
   "metadata": {},
   "outputs": [
    {
     "data": {
      "image/png": "[encoded data removed]",
      "text/plain": [
       "<Figure size 432x288 with 1 Axes>"
      ]
     },
     "metadata": {
      "needs_background": "light"
     },
     "output_type": "display_data"
    }
   ],
   "source": [
    "box0 = image_info_label[image_info_label['label']==0]['score']\n",
    "box1 = image_info_label[image_info_label['label']==1]['score']\n",
    "plt.title('score for different box',fontsize=15)\n",
    "labels = 'box0','box1'\n",
    "plt.boxplot([box0,box1],labels=labels)\n",
    "plt.show()"
   ]
  },
  {
   "cell_type": "code",
   "execution_count": 107,
   "metadata": {},
   "outputs": [
    {
     "data": {
      "image/png": "[encoded data removed]",
      "text/plain": [
       "<Figure size 432x288 with 1 Axes>"
      ]
     },
     "metadata": {
      "needs_background": "light"
     },
     "output_type": "display_data"
    }
   ],
   "source": [
    "sns.distplot(image_info_label['score'])\n",
    "plt.show()"
   ]
  },
  {
   "cell_type": "code",
   "execution_count": 108,
   "metadata": {},
   "outputs": [
    {
     "data": {
      "text/plain": [
       "0.7666360527980214"
      ]
     },
     "execution_count": 108,
     "metadata": {},
     "output_type": "execute_result"
    }
   ],
   "source": [
    "image_info_label[image_info_label['score']>=600]['create_role_30_pay_sum'].sum() / image_info_label[image_info_label['score']>=600]['image_run_date_amount'].sum()"
   ]
  },
  {
   "cell_type": "code",
   "execution_count": 109,
   "metadata": {},
   "outputs": [
    {
     "data": {
      "text/plain": [
       "0.32362598067761966"
      ]
     },
     "execution_count": 109,
     "metadata": {},
     "output_type": "execute_result"
    }
   ],
   "source": [
    "image_info_label[image_info_label['score']<600]['create_role_30_pay_sum'].sum() / image_info_label[image_info_label['score']<600]['image_run_date_amount'].sum()"
   ]
  },
  {
   "cell_type": "code",
   "execution_count": 110,
   "metadata": {},
   "outputs": [
    {
     "data": {
      "text/plain": [
       "518394127.0"
      ]
     },
     "execution_count": 110,
     "metadata": {},
     "output_type": "execute_result"
    }
   ],
   "source": [
    "image_info_label['create_role_30_pay_sum'].sum()"
   ]
  },
  {
   "cell_type": "code",
   "execution_count": 111,
   "metadata": {},
   "outputs": [
    {
     "data": {
      "text/plain": [
       "137201191.0"
      ]
     },
     "execution_count": 111,
     "metadata": {},
     "output_type": "execute_result"
    }
   ],
   "source": [
    "image_info_label[image_info_label['score']<600]['create_role_30_pay_sum'].sum()"
   ]
  },
  {
   "cell_type": "code",
   "execution_count": 112,
   "metadata": {},
   "outputs": [
    {
     "data": {
      "text/plain": [
       "0.5627513732376456"
      ]
     },
     "execution_count": 112,
     "metadata": {},
     "output_type": "execute_result"
    }
   ],
   "source": [
    "image_info_label['create_role_30_pay_sum'].sum() / image_info_label['image_run_date_amount'].sum()"
   ]
  },
  {
   "cell_type": "code",
   "execution_count": 113,
   "metadata": {},
   "outputs": [
    {
     "data": {
      "text/plain": [
       "0.539774166793743"
      ]
     },
     "execution_count": 113,
     "metadata": {},
     "output_type": "execute_result"
    }
   ],
   "source": [
    "image_info_label[image_info_label['score']>=600]['image_run_date_amount'].sum() / image_info_label['image_run_date_amount'].sum()"
   ]
  },
  {
   "cell_type": "code",
   "execution_count": null,
   "metadata": {},
   "outputs": [],
   "source": []
  },
  {
   "cell_type": "code",
   "execution_count": null,
   "metadata": {},
   "outputs": [],
   "source": []
  },
  {
   "cell_type": "code",
   "execution_count": 114,
   "metadata": {},
   "outputs": [
    {
     "data": {
      "text/plain": [
       "0.32211298411412737"
      ]
     },
     "execution_count": 114,
     "metadata": {},
     "output_type": "execute_result"
    }
   ],
   "source": [
    "image_info_label[image_info_label['score']>=660]['image_run_date_amount'].sum() / image_info_label['image_run_date_amount'].sum()"
   ]
  },
  {
   "cell_type": "code",
   "execution_count": 115,
   "metadata": {},
   "outputs": [
    {
     "name": "stdout",
     "output_type": "stream",
     "text": [
      "高分区ROI： 0.8298825299669175\n",
      "低分区ROI： 0.4358181055581079\n"
     ]
    }
   ],
   "source": [
    "print('高分区ROI：',image_info_label[image_info_label['score']>=660]['create_role_30_pay_sum'].sum() / image_info_label[image_info_label['score']>=660]['image_run_date_amount'].sum())\n",
    "print('低分区ROI：',image_info_label[image_info_label['score']<660]['create_role_30_pay_sum'].sum() / image_info_label[image_info_label['score']<660]['image_run_date_amount'].sum())"
   ]
  },
  {
   "cell_type": "code",
   "execution_count": 116,
   "metadata": {},
   "outputs": [
    {
     "name": "stdout",
     "output_type": "stream",
     "text": [
      "高分区ROI： 0.6859166462829975\n",
      "低分区ROI： 0.23656219871579173\n"
     ]
    }
   ],
   "source": [
    "print('高分区ROI：',image_info_label[image_info_label['score']>=560]['create_role_30_pay_sum'].sum() / image_info_label[image_info_label['score']>=560]['image_run_date_amount'].sum())\n",
    "print('低分区ROI：',image_info_label[image_info_label['score']<560]['create_role_30_pay_sum'].sum() / image_info_label[image_info_label['score']<560]['image_run_date_amount'].sum())"
   ]
  },
  {
   "cell_type": "code",
   "execution_count": 117,
   "metadata": {
    "scrolled": true
   },
   "outputs": [
    {
     "data": {
      "text/plain": [
       "image_create_role_cost        -0.375306\n",
       "image_create_role_pay_cost    -0.218371\n",
       "media_id                      -0.097719\n",
       "image_create_role_retain_1d    0.015127\n",
       "image_pay_num_ability          0.142237\n",
       "image_pay_sum_ability          0.152418\n",
       "image_valid_source_rate        0.169814\n",
       "image_valid_source_num         0.187238\n",
       "image_create_role_pay_rate     0.319722\n",
       "image_source_total_num         0.355524\n",
       "image_create_role_roi          0.392495\n",
       "image_create_role_num          0.512175\n",
       "image_source_num               0.549110\n",
       "image_create_role_pay_num      0.589341\n",
       "image_run_date_amount          0.598829\n",
       "image_create_role_pay_sum      0.617849\n",
       "score                          1.000000\n",
       "Name: score, dtype: float64"
      ]
     },
     "execution_count": 117,
     "metadata": {},
     "output_type": "execute_result"
    }
   ],
   "source": [
    "image_info_label.drop(['image_id','create_role_30_pay_sum','label'],axis=1).corr()['score'].sort_values()"
   ]
  },
  {
   "cell_type": "markdown",
   "metadata": {},
   "source": [
    "### Test"
   ]
  },
  {
   "cell_type": "code",
   "execution_count": 100,
   "metadata": {},
   "outputs": [],
   "source": [
    "test = pd.read_excel('./test.xls')"
   ]
  },
  {
   "cell_type": "code",
   "execution_count": 101,
   "metadata": {},
   "outputs": [
    {
     "data": {
      "text/html": [
       "<div>\n",
       "<style scoped>\n",
       "    .dataframe tbody tr th:only-of-type {\n",
       "        vertical-align: middle;\n",
       "    }\n",
       "\n",
       "    .dataframe tbody tr th {\n",
       "        vertical-align: top;\n",
       "    }\n",
       "\n",
       "    .dataframe thead th {\n",
       "        text-align: right;\n",
       "    }\n",
       "</style>\n",
       "<table border=\"1\" class=\"dataframe\">\n",
       "  <thead>\n",
       "    <tr style=\"text-align: right;\">\n",
       "      <th></th>\n",
       "      <th>image_id</th>\n",
       "      <th>image_run_date_amount</th>\n",
       "      <th>image_create_role_pay_num</th>\n",
       "      <th>image_create_role_num</th>\n",
       "      <th>image_create_role_pay_sum</th>\n",
       "      <th>image_source_num</th>\n",
       "      <th>image_create_role_pay_rate</th>\n",
       "      <th>image_create_role_cost</th>\n",
       "      <th>image_create_role_pay_cost</th>\n",
       "      <th>image_valid_source_num</th>\n",
       "      <th>image_valid_source_rate</th>\n",
       "      <th>image_pay_sum_ability</th>\n",
       "      <th>image_pay_num_ability</th>\n",
       "      <th>image_create_role_roi</th>\n",
       "      <th>image_create_role_retain_1d</th>\n",
       "      <th>create_role_30_pay_sum</th>\n",
       "      <th>model_run_datetime</th>\n",
       "      <th>data_win</th>\n",
       "    </tr>\n",
       "  </thead>\n",
       "  <tbody>\n",
       "    <tr>\n",
       "      <th>0</th>\n",
       "      <td>16276</td>\n",
       "      <td>5710.84</td>\n",
       "      <td>0</td>\n",
       "      <td>196</td>\n",
       "      <td>0</td>\n",
       "      <td>7</td>\n",
       "      <td>0.0</td>\n",
       "      <td>29.136939</td>\n",
       "      <td>0.0</td>\n",
       "      <td>0</td>\n",
       "      <td>0.0</td>\n",
       "      <td>0.0</td>\n",
       "      <td>0.0</td>\n",
       "      <td>0.0</td>\n",
       "      <td>0.1005</td>\n",
       "      <td>0</td>\n",
       "      <td>2020-10-02</td>\n",
       "      <td>3</td>\n",
       "    </tr>\n",
       "    <tr>\n",
       "      <th>1</th>\n",
       "      <td>16316</td>\n",
       "      <td>1023.57</td>\n",
       "      <td>0</td>\n",
       "      <td>7</td>\n",
       "      <td>0</td>\n",
       "      <td>2</td>\n",
       "      <td>0.0</td>\n",
       "      <td>146.224286</td>\n",
       "      <td>0.0</td>\n",
       "      <td>0</td>\n",
       "      <td>0.0</td>\n",
       "      <td>0.0</td>\n",
       "      <td>0.0</td>\n",
       "      <td>0.0</td>\n",
       "      <td>0.1000</td>\n",
       "      <td>0</td>\n",
       "      <td>2020-10-02</td>\n",
       "      <td>3</td>\n",
       "    </tr>\n",
       "    <tr>\n",
       "      <th>2</th>\n",
       "      <td>18216</td>\n",
       "      <td>3303.96</td>\n",
       "      <td>0</td>\n",
       "      <td>58</td>\n",
       "      <td>0</td>\n",
       "      <td>2</td>\n",
       "      <td>0.0</td>\n",
       "      <td>56.964828</td>\n",
       "      <td>0.0</td>\n",
       "      <td>0</td>\n",
       "      <td>0.0</td>\n",
       "      <td>0.0</td>\n",
       "      <td>0.0</td>\n",
       "      <td>0.0</td>\n",
       "      <td>0.0455</td>\n",
       "      <td>0</td>\n",
       "      <td>2020-10-02</td>\n",
       "      <td>3</td>\n",
       "    </tr>\n",
       "    <tr>\n",
       "      <th>3</th>\n",
       "      <td>19100</td>\n",
       "      <td>3739.89</td>\n",
       "      <td>0</td>\n",
       "      <td>66</td>\n",
       "      <td>0</td>\n",
       "      <td>1</td>\n",
       "      <td>0.0</td>\n",
       "      <td>56.665000</td>\n",
       "      <td>0.0</td>\n",
       "      <td>0</td>\n",
       "      <td>0.0</td>\n",
       "      <td>0.0</td>\n",
       "      <td>0.0</td>\n",
       "      <td>0.0</td>\n",
       "      <td>0.0735</td>\n",
       "      <td>0</td>\n",
       "      <td>2020-10-02</td>\n",
       "      <td>3</td>\n",
       "    </tr>\n",
       "    <tr>\n",
       "      <th>4</th>\n",
       "      <td>19208</td>\n",
       "      <td>4388.16</td>\n",
       "      <td>0</td>\n",
       "      <td>69</td>\n",
       "      <td>0</td>\n",
       "      <td>2</td>\n",
       "      <td>0.0</td>\n",
       "      <td>63.596522</td>\n",
       "      <td>0.0</td>\n",
       "      <td>0</td>\n",
       "      <td>0.0</td>\n",
       "      <td>0.0</td>\n",
       "      <td>0.0</td>\n",
       "      <td>0.0</td>\n",
       "      <td>0.0145</td>\n",
       "      <td>12</td>\n",
       "      <td>2020-10-02</td>\n",
       "      <td>3</td>\n",
       "    </tr>\n",
       "  </tbody>\n",
       "</table>\n",
       "</div>"
      ],
      "text/plain": [
       "   image_id  image_run_date_amount  image_create_role_pay_num  \\\n",
       "0     16276                5710.84                          0   \n",
       "1     16316                1023.57                          0   \n",
       "2     18216                3303.96                          0   \n",
       "3     19100                3739.89                          0   \n",
       "4     19208                4388.16                          0   \n",
       "\n",
       "   image_create_role_num  image_create_role_pay_sum  image_source_num  \\\n",
       "0                    196                          0                 7   \n",
       "1                      7                          0                 2   \n",
       "2                     58                          0                 2   \n",
       "3                     66                          0                 1   \n",
       "4                     69                          0                 2   \n",
       "\n",
       "   image_create_role_pay_rate  image_create_role_cost  \\\n",
       "0                         0.0               29.136939   \n",
       "1                         0.0              146.224286   \n",
       "2                         0.0               56.964828   \n",
       "3                         0.0               56.665000   \n",
       "4                         0.0               63.596522   \n",
       "\n",
       "   image_create_role_pay_cost  image_valid_source_num  \\\n",
       "0                         0.0                       0   \n",
       "1                         0.0                       0   \n",
       "2                         0.0                       0   \n",
       "3                         0.0                       0   \n",
       "4                         0.0                       0   \n",
       "\n",
       "   image_valid_source_rate  image_pay_sum_ability  image_pay_num_ability  \\\n",
       "0                      0.0                    0.0                    0.0   \n",
       "1                      0.0                    0.0                    0.0   \n",
       "2                      0.0                    0.0                    0.0   \n",
       "3                      0.0                    0.0                    0.0   \n",
       "4                      0.0                    0.0                    0.0   \n",
       "\n",
       "   image_create_role_roi  image_create_role_retain_1d  create_role_30_pay_sum  \\\n",
       "0                    0.0                       0.1005                       0   \n",
       "1                    0.0                       0.1000                       0   \n",
       "2                    0.0                       0.0455                       0   \n",
       "3                    0.0                       0.0735                       0   \n",
       "4                    0.0                       0.0145                      12   \n",
       "\n",
       "  model_run_datetime  data_win  \n",
       "0         2020-10-02         3  \n",
       "1         2020-10-02         3  \n",
       "2         2020-10-02         3  \n",
       "3         2020-10-02         3  \n",
       "4         2020-10-02         3  "
      ]
     },
     "execution_count": 101,
     "metadata": {},
     "output_type": "execute_result"
    }
   ],
   "source": [
    "test.head()"
   ]
  },
  {
   "cell_type": "code",
   "execution_count": 102,
   "metadata": {},
   "outputs": [
    {
     "data": {
      "text/plain": [
       "(2852, 18)"
      ]
     },
     "execution_count": 102,
     "metadata": {},
     "output_type": "execute_result"
    }
   ],
   "source": [
    "test.shape"
   ]
  },
  {
   "cell_type": "code",
   "execution_count": 103,
   "metadata": {},
   "outputs": [],
   "source": [
    "test_woe = test.copy()"
   ]
  },
  {
   "cell_type": "code",
   "execution_count": 104,
   "metadata": {},
   "outputs": [],
   "source": [
    "def FE(df):\n",
    "    df['image_create_role_cost'].replace(0, float('inf'), inplace=True)\n",
    "    df['image_create_role_pay_cost'].replace(0, float('inf'), inplace=True)\n",
    "    # 分桶定义（根据训练模型给出）\n",
    "    pinf = float('inf')  # 正无穷大\n",
    "    ninf = float('-inf')  # 负无穷大\n",
    "    cutx1 = [ninf, 891.102, 1409.628, 2165.43, 3167.068, 4656.48, 6886.692, 10651.84, 18862.02, 40665.782, pinf]\n",
    "    cutx2 = [ninf, 1, 3, 8, 12, 50, pinf]\n",
    "    cutx3 = [ninf, 6.0, 14.0, 27.0, 51.0, 85.0, 142.0, 244.0, 480.0, 1271.0, pinf]\n",
    "    cutx4 = [ninf, 60, 200, 700, 2000, 5000, 10000, pinf]\n",
    "    cutx5 = [ninf, 3, 6, 12, 20, 50, pinf]\n",
    "    cutx6 = [ninf, 0.005, 0.01, 0.015, 0.02, pinf]\n",
    "    cutx7 = [ninf, 20.073, 28.7217, 36.4717, 45.8384, 57.2259, 74.043, 98.3442, 141.3023, 254.55, pinf]\n",
    "    cutx8 = [ninf, 2000, 3000, 4000, 5000, 6000, 7000, 8000, 9000, 10000, 11000, 13000, pinf]\n",
    "    cutx9 = [ninf, 0.1, 0.2, 0.3, 0.4, 0.6, pinf]\n",
    "    cutx10 = [ninf, 50, 100, 200, 400, 1000, pinf]\n",
    "    cutx11 = [ninf, 1, 2, 5, 10, 20, pinf]\n",
    "    cutx12 = [ninf, 0.005, 0.01, 0.015, 0.02, 0.025, 0.05, pinf]\n",
    "\n",
    "    \n",
    "    woex1 = [1.332, 1.202, 0.953, 0.845, 0.503, 0.216, 0.031, -0.363, -0.871, -1.702]\n",
    "    woex2 = [0.896, -0.47, -1.078, -1.616, -2.105, -4.266]\n",
    "    woex3 = [1.902, 1.227, 0.873, 0.771, 0.503, 0.215, 0.022, -0.394, -0.862, -1.784]\n",
    "    woex4 = [1.0, -0.098, -0.943, -1.772, -2.692, -3.759, -5.138]\n",
    "    woex5 = [0.552, -0.086, -0.573, -0.865, -1.345, -3.033]\n",
    "    woex6 = [0.691, -0.919, -0.999, -0.956, -0.646]\n",
    "    woex7 = [-0.609, -0.703, -0.521, -0.481, -0.139, 0.059, 0.359, 0.689, 1.315, 1.777]\n",
    "    woex8 = [-1.338, -1.316, -1.277, -0.962, -0.781, -0.609, -0.363, -0.261, -0.112, -0.076, 0.243, 1.219]\n",
    "    woex9 = [0.513, -0.717, -1.43, -1.04, -1.413, -1.256]\n",
    "    woex10 = [0.443, -0.981, -1.658, -2.221, -2.823, -3.33]\n",
    "    woex11 = [0.343, -1.502, -2.005, -2.372, -2.66, -2.883]\n",
    "    woex12 = [1.104, 0.044, -0.404, -0.896, -1.163, -1.872, -2.508]\n",
    "\n",
    "    \n",
    "    # 数据转化\n",
    "    df['image_run_date_amount'] = change_woe(df['image_run_date_amount'], cutx1, woex1)\n",
    "    df['image_create_role_pay_num'] = change_woe(df['image_create_role_pay_num'], cutx2, woex2)\n",
    "    df['image_create_role_num'] = change_woe(df['image_create_role_num'], cutx3, woex3)\n",
    "    df['image_create_role_pay_sum'] = change_woe(df['image_create_role_pay_sum'], cutx4,woex4)\n",
    "    df['image_source_num'] = change_woe(df['image_source_num'], cutx5, woex5)\n",
    "    df['image_create_role_pay_rate'] = change_woe(df['image_create_role_pay_rate'], cutx6,woex6)\n",
    "    df['image_create_role_cost'] = change_woe(df['image_create_role_cost'], cutx7, woex7)\n",
    "    df['image_create_role_pay_cost'] = change_woe(df['image_create_role_pay_cost'], cutx8,woex8)\n",
    "    df['image_valid_source_rate'] = change_woe(df['image_valid_source_rate'], cutx9,woex9)\n",
    "    df['image_pay_sum_ability'] = change_woe(df['image_pay_sum_ability'], cutx10, woex10)\n",
    "    df['image_pay_num_ability'] = change_woe(df['image_pay_num_ability'], cutx11, woex11)\n",
    "    df['image_create_role_roi'] = change_woe(df['image_create_role_roi'], cutx12, woex12)    \n",
    "\n",
    "    return df"
   ]
  },
  {
   "cell_type": "code",
   "execution_count": 105,
   "metadata": {},
   "outputs": [],
   "source": [
    "test_woe = FE(test_woe)"
   ]
  },
  {
   "cell_type": "code",
   "execution_count": 106,
   "metadata": {},
   "outputs": [
    {
     "data": {
      "text/html": [
       "<div>\n",
       "<style scoped>\n",
       "    .dataframe tbody tr th:only-of-type {\n",
       "        vertical-align: middle;\n",
       "    }\n",
       "\n",
       "    .dataframe tbody tr th {\n",
       "        vertical-align: top;\n",
       "    }\n",
       "\n",
       "    .dataframe thead th {\n",
       "        text-align: right;\n",
       "    }\n",
       "</style>\n",
       "<table border=\"1\" class=\"dataframe\">\n",
       "  <thead>\n",
       "    <tr style=\"text-align: right;\">\n",
       "      <th></th>\n",
       "      <th>image_id</th>\n",
       "      <th>image_run_date_amount</th>\n",
       "      <th>image_create_role_pay_num</th>\n",
       "      <th>image_create_role_num</th>\n",
       "      <th>image_create_role_pay_sum</th>\n",
       "      <th>image_source_num</th>\n",
       "      <th>image_create_role_pay_rate</th>\n",
       "      <th>image_create_role_cost</th>\n",
       "      <th>image_create_role_pay_cost</th>\n",
       "      <th>image_valid_source_num</th>\n",
       "      <th>image_valid_source_rate</th>\n",
       "      <th>image_pay_sum_ability</th>\n",
       "      <th>image_pay_num_ability</th>\n",
       "      <th>image_create_role_roi</th>\n",
       "      <th>image_create_role_retain_1d</th>\n",
       "      <th>create_role_30_pay_sum</th>\n",
       "      <th>model_run_datetime</th>\n",
       "      <th>data_win</th>\n",
       "    </tr>\n",
       "  </thead>\n",
       "  <tbody>\n",
       "    <tr>\n",
       "      <th>0</th>\n",
       "      <td>16276</td>\n",
       "      <td>0.216</td>\n",
       "      <td>0.896</td>\n",
       "      <td>0.022</td>\n",
       "      <td>1.0</td>\n",
       "      <td>-0.573</td>\n",
       "      <td>0.691</td>\n",
       "      <td>-0.521</td>\n",
       "      <td>1.219</td>\n",
       "      <td>0</td>\n",
       "      <td>0.513</td>\n",
       "      <td>0.443</td>\n",
       "      <td>0.343</td>\n",
       "      <td>1.104</td>\n",
       "      <td>0.1005</td>\n",
       "      <td>0</td>\n",
       "      <td>2020-10-02</td>\n",
       "      <td>3</td>\n",
       "    </tr>\n",
       "    <tr>\n",
       "      <th>1</th>\n",
       "      <td>16316</td>\n",
       "      <td>1.202</td>\n",
       "      <td>0.896</td>\n",
       "      <td>1.227</td>\n",
       "      <td>1.0</td>\n",
       "      <td>0.552</td>\n",
       "      <td>0.691</td>\n",
       "      <td>1.315</td>\n",
       "      <td>1.219</td>\n",
       "      <td>0</td>\n",
       "      <td>0.513</td>\n",
       "      <td>0.443</td>\n",
       "      <td>0.343</td>\n",
       "      <td>1.104</td>\n",
       "      <td>0.1000</td>\n",
       "      <td>0</td>\n",
       "      <td>2020-10-02</td>\n",
       "      <td>3</td>\n",
       "    </tr>\n",
       "    <tr>\n",
       "      <th>2</th>\n",
       "      <td>18216</td>\n",
       "      <td>0.503</td>\n",
       "      <td>0.896</td>\n",
       "      <td>0.503</td>\n",
       "      <td>1.0</td>\n",
       "      <td>0.552</td>\n",
       "      <td>0.691</td>\n",
       "      <td>-0.139</td>\n",
       "      <td>1.219</td>\n",
       "      <td>0</td>\n",
       "      <td>0.513</td>\n",
       "      <td>0.443</td>\n",
       "      <td>0.343</td>\n",
       "      <td>1.104</td>\n",
       "      <td>0.0455</td>\n",
       "      <td>0</td>\n",
       "      <td>2020-10-02</td>\n",
       "      <td>3</td>\n",
       "    </tr>\n",
       "    <tr>\n",
       "      <th>3</th>\n",
       "      <td>19100</td>\n",
       "      <td>0.503</td>\n",
       "      <td>0.896</td>\n",
       "      <td>0.503</td>\n",
       "      <td>1.0</td>\n",
       "      <td>0.552</td>\n",
       "      <td>0.691</td>\n",
       "      <td>-0.139</td>\n",
       "      <td>1.219</td>\n",
       "      <td>0</td>\n",
       "      <td>0.513</td>\n",
       "      <td>0.443</td>\n",
       "      <td>0.343</td>\n",
       "      <td>1.104</td>\n",
       "      <td>0.0735</td>\n",
       "      <td>0</td>\n",
       "      <td>2020-10-02</td>\n",
       "      <td>3</td>\n",
       "    </tr>\n",
       "    <tr>\n",
       "      <th>4</th>\n",
       "      <td>19208</td>\n",
       "      <td>0.503</td>\n",
       "      <td>0.896</td>\n",
       "      <td>0.503</td>\n",
       "      <td>1.0</td>\n",
       "      <td>0.552</td>\n",
       "      <td>0.691</td>\n",
       "      <td>0.059</td>\n",
       "      <td>1.219</td>\n",
       "      <td>0</td>\n",
       "      <td>0.513</td>\n",
       "      <td>0.443</td>\n",
       "      <td>0.343</td>\n",
       "      <td>1.104</td>\n",
       "      <td>0.0145</td>\n",
       "      <td>12</td>\n",
       "      <td>2020-10-02</td>\n",
       "      <td>3</td>\n",
       "    </tr>\n",
       "  </tbody>\n",
       "</table>\n",
       "</div>"
      ],
      "text/plain": [
       "   image_id  image_run_date_amount  image_create_role_pay_num  \\\n",
       "0     16276                  0.216                      0.896   \n",
       "1     16316                  1.202                      0.896   \n",
       "2     18216                  0.503                      0.896   \n",
       "3     19100                  0.503                      0.896   \n",
       "4     19208                  0.503                      0.896   \n",
       "\n",
       "   image_create_role_num  image_create_role_pay_sum  image_source_num  \\\n",
       "0                  0.022                        1.0            -0.573   \n",
       "1                  1.227                        1.0             0.552   \n",
       "2                  0.503                        1.0             0.552   \n",
       "3                  0.503                        1.0             0.552   \n",
       "4                  0.503                        1.0             0.552   \n",
       "\n",
       "   image_create_role_pay_rate  image_create_role_cost  \\\n",
       "0                       0.691                  -0.521   \n",
       "1                       0.691                   1.315   \n",
       "2                       0.691                  -0.139   \n",
       "3                       0.691                  -0.139   \n",
       "4                       0.691                   0.059   \n",
       "\n",
       "   image_create_role_pay_cost  image_valid_source_num  \\\n",
       "0                       1.219                       0   \n",
       "1                       1.219                       0   \n",
       "2                       1.219                       0   \n",
       "3                       1.219                       0   \n",
       "4                       1.219                       0   \n",
       "\n",
       "   image_valid_source_rate  image_pay_sum_ability  image_pay_num_ability  \\\n",
       "0                    0.513                  0.443                  0.343   \n",
       "1                    0.513                  0.443                  0.343   \n",
       "2                    0.513                  0.443                  0.343   \n",
       "3                    0.513                  0.443                  0.343   \n",
       "4                    0.513                  0.443                  0.343   \n",
       "\n",
       "   image_create_role_roi  image_create_role_retain_1d  create_role_30_pay_sum  \\\n",
       "0                  1.104                       0.1005                       0   \n",
       "1                  1.104                       0.1000                       0   \n",
       "2                  1.104                       0.0455                       0   \n",
       "3                  1.104                       0.0735                       0   \n",
       "4                  1.104                       0.0145                      12   \n",
       "\n",
       "  model_run_datetime  data_win  \n",
       "0         2020-10-02         3  \n",
       "1         2020-10-02         3  \n",
       "2         2020-10-02         3  \n",
       "3         2020-10-02         3  \n",
       "4         2020-10-02         3  "
      ]
     },
     "execution_count": 106,
     "metadata": {},
     "output_type": "execute_result"
    }
   ],
   "source": [
    "test_woe.head()"
   ]
  },
  {
   "cell_type": "code",
   "execution_count": 107,
   "metadata": {},
   "outputs": [],
   "source": [
    "select_feature = ['image_run_date_amount', 'image_create_role_pay_num',\n",
    "                  'image_create_role_num', 'image_create_role_pay_sum',\n",
    "                  'image_source_num', 'image_create_role_pay_rate',\n",
    "                  'image_create_role_cost', 'image_create_role_pay_cost',\n",
    "                  'image_valid_source_rate',\n",
    "                  'image_pay_sum_ability', 'image_pay_num_ability',\n",
    "                  'image_create_role_roi']\n",
    "\n",
    "\n",
    "feature = test_woe[select_feature]\n",
    "test_woe['pred'] = 0.4 * best_est_XGB.predict_proba(feature)[:, 1] + 0.3 * best_est_LGB.predict_proba(\n",
    "    feature)[:, 1] + 0.3 * best_est_RF.predict_proba(feature)[:, 1]\n",
    "test_woe['score'] = test_woe['pred'].apply(Prob2Score)\n",
    "test['score'] = test_woe['score']"
   ]
  },
  {
   "cell_type": "code",
   "execution_count": 108,
   "metadata": {},
   "outputs": [
    {
     "data": {
      "text/html": [
       "<div>\n",
       "<style scoped>\n",
       "    .dataframe tbody tr th:only-of-type {\n",
       "        vertical-align: middle;\n",
       "    }\n",
       "\n",
       "    .dataframe tbody tr th {\n",
       "        vertical-align: top;\n",
       "    }\n",
       "\n",
       "    .dataframe thead th {\n",
       "        text-align: right;\n",
       "    }\n",
       "</style>\n",
       "<table border=\"1\" class=\"dataframe\">\n",
       "  <thead>\n",
       "    <tr style=\"text-align: right;\">\n",
       "      <th></th>\n",
       "      <th>image_id</th>\n",
       "      <th>image_run_date_amount</th>\n",
       "      <th>image_create_role_pay_num</th>\n",
       "      <th>image_create_role_num</th>\n",
       "      <th>image_create_role_pay_sum</th>\n",
       "      <th>image_source_num</th>\n",
       "      <th>image_create_role_pay_rate</th>\n",
       "      <th>image_create_role_cost</th>\n",
       "      <th>image_create_role_pay_cost</th>\n",
       "      <th>image_valid_source_num</th>\n",
       "      <th>image_valid_source_rate</th>\n",
       "      <th>image_pay_sum_ability</th>\n",
       "      <th>image_pay_num_ability</th>\n",
       "      <th>image_create_role_roi</th>\n",
       "      <th>image_create_role_retain_1d</th>\n",
       "      <th>create_role_30_pay_sum</th>\n",
       "      <th>model_run_datetime</th>\n",
       "      <th>data_win</th>\n",
       "      <th>score</th>\n",
       "    </tr>\n",
       "  </thead>\n",
       "  <tbody>\n",
       "    <tr>\n",
       "      <th>2533</th>\n",
       "      <td>25825</td>\n",
       "      <td>89257.66</td>\n",
       "      <td>24</td>\n",
       "      <td>3084</td>\n",
       "      <td>10794</td>\n",
       "      <td>15</td>\n",
       "      <td>0.0078</td>\n",
       "      <td>28.942173</td>\n",
       "      <td>3719.069167</td>\n",
       "      <td>3</td>\n",
       "      <td>0.2000</td>\n",
       "      <td>3598.000000</td>\n",
       "      <td>8.0000</td>\n",
       "      <td>0.120931</td>\n",
       "      <td>0.0551</td>\n",
       "      <td>141734</td>\n",
       "      <td>2020-11-01</td>\n",
       "      <td>3</td>\n",
       "      <td>735</td>\n",
       "    </tr>\n",
       "    <tr>\n",
       "      <th>2362</th>\n",
       "      <td>25825</td>\n",
       "      <td>72470.33</td>\n",
       "      <td>16</td>\n",
       "      <td>2459</td>\n",
       "      <td>10570</td>\n",
       "      <td>14</td>\n",
       "      <td>0.0065</td>\n",
       "      <td>29.471464</td>\n",
       "      <td>4529.395625</td>\n",
       "      <td>4</td>\n",
       "      <td>0.2857</td>\n",
       "      <td>2642.500000</td>\n",
       "      <td>4.0000</td>\n",
       "      <td>0.145853</td>\n",
       "      <td>0.0479</td>\n",
       "      <td>65282</td>\n",
       "      <td>2020-10-30</td>\n",
       "      <td>3</td>\n",
       "      <td>729</td>\n",
       "    </tr>\n",
       "    <tr>\n",
       "      <th>890</th>\n",
       "      <td>25345</td>\n",
       "      <td>44824.88</td>\n",
       "      <td>13</td>\n",
       "      <td>1891</td>\n",
       "      <td>2510</td>\n",
       "      <td>13</td>\n",
       "      <td>0.0069</td>\n",
       "      <td>23.704326</td>\n",
       "      <td>3448.067692</td>\n",
       "      <td>11</td>\n",
       "      <td>0.8462</td>\n",
       "      <td>228.181818</td>\n",
       "      <td>1.1818</td>\n",
       "      <td>0.055996</td>\n",
       "      <td>0.0584</td>\n",
       "      <td>43770</td>\n",
       "      <td>2020-10-11</td>\n",
       "      <td>3</td>\n",
       "      <td>729</td>\n",
       "    </tr>\n",
       "    <tr>\n",
       "      <th>2618</th>\n",
       "      <td>25825</td>\n",
       "      <td>106045.10</td>\n",
       "      <td>22</td>\n",
       "      <td>3755</td>\n",
       "      <td>9820</td>\n",
       "      <td>19</td>\n",
       "      <td>0.0059</td>\n",
       "      <td>28.241039</td>\n",
       "      <td>4820.231818</td>\n",
       "      <td>13</td>\n",
       "      <td>0.6842</td>\n",
       "      <td>755.384615</td>\n",
       "      <td>1.6923</td>\n",
       "      <td>0.092602</td>\n",
       "      <td>0.0522</td>\n",
       "      <td>134730</td>\n",
       "      <td>2020-11-02</td>\n",
       "      <td>3</td>\n",
       "      <td>728</td>\n",
       "    </tr>\n",
       "    <tr>\n",
       "      <th>2446</th>\n",
       "      <td>25825</td>\n",
       "      <td>97988.29</td>\n",
       "      <td>24</td>\n",
       "      <td>3348</td>\n",
       "      <td>10926</td>\n",
       "      <td>16</td>\n",
       "      <td>0.0072</td>\n",
       "      <td>29.267709</td>\n",
       "      <td>4082.845417</td>\n",
       "      <td>4</td>\n",
       "      <td>0.2500</td>\n",
       "      <td>2731.500000</td>\n",
       "      <td>6.0000</td>\n",
       "      <td>0.111503</td>\n",
       "      <td>0.0548</td>\n",
       "      <td>141988</td>\n",
       "      <td>2020-10-31</td>\n",
       "      <td>3</td>\n",
       "      <td>726</td>\n",
       "    </tr>\n",
       "    <tr>\n",
       "      <th>...</th>\n",
       "      <td>...</td>\n",
       "      <td>...</td>\n",
       "      <td>...</td>\n",
       "      <td>...</td>\n",
       "      <td>...</td>\n",
       "      <td>...</td>\n",
       "      <td>...</td>\n",
       "      <td>...</td>\n",
       "      <td>...</td>\n",
       "      <td>...</td>\n",
       "      <td>...</td>\n",
       "      <td>...</td>\n",
       "      <td>...</td>\n",
       "      <td>...</td>\n",
       "      <td>...</td>\n",
       "      <td>...</td>\n",
       "      <td>...</td>\n",
       "      <td>...</td>\n",
       "      <td>...</td>\n",
       "    </tr>\n",
       "    <tr>\n",
       "      <th>752</th>\n",
       "      <td>24445</td>\n",
       "      <td>2059.11</td>\n",
       "      <td>0</td>\n",
       "      <td>8</td>\n",
       "      <td>0</td>\n",
       "      <td>3</td>\n",
       "      <td>0.0000</td>\n",
       "      <td>257.388750</td>\n",
       "      <td>0.000000</td>\n",
       "      <td>0</td>\n",
       "      <td>0.0000</td>\n",
       "      <td>0.000000</td>\n",
       "      <td>0.0000</td>\n",
       "      <td>0.000000</td>\n",
       "      <td>0.1250</td>\n",
       "      <td>4220</td>\n",
       "      <td>2020-10-09</td>\n",
       "      <td>3</td>\n",
       "      <td>469</td>\n",
       "    </tr>\n",
       "    <tr>\n",
       "      <th>674</th>\n",
       "      <td>24445</td>\n",
       "      <td>2059.11</td>\n",
       "      <td>0</td>\n",
       "      <td>8</td>\n",
       "      <td>0</td>\n",
       "      <td>3</td>\n",
       "      <td>0.0000</td>\n",
       "      <td>257.388750</td>\n",
       "      <td>0.000000</td>\n",
       "      <td>0</td>\n",
       "      <td>0.0000</td>\n",
       "      <td>0.000000</td>\n",
       "      <td>0.0000</td>\n",
       "      <td>0.000000</td>\n",
       "      <td>0.1250</td>\n",
       "      <td>4220</td>\n",
       "      <td>2020-10-08</td>\n",
       "      <td>3</td>\n",
       "      <td>469</td>\n",
       "    </tr>\n",
       "    <tr>\n",
       "      <th>2551</th>\n",
       "      <td>26121</td>\n",
       "      <td>1872.36</td>\n",
       "      <td>0</td>\n",
       "      <td>7</td>\n",
       "      <td>0</td>\n",
       "      <td>3</td>\n",
       "      <td>0.0000</td>\n",
       "      <td>267.480000</td>\n",
       "      <td>0.000000</td>\n",
       "      <td>0</td>\n",
       "      <td>0.0000</td>\n",
       "      <td>0.000000</td>\n",
       "      <td>0.0000</td>\n",
       "      <td>0.000000</td>\n",
       "      <td>0.2308</td>\n",
       "      <td>68</td>\n",
       "      <td>2020-11-01</td>\n",
       "      <td>3</td>\n",
       "      <td>469</td>\n",
       "    </tr>\n",
       "    <tr>\n",
       "      <th>820</th>\n",
       "      <td>24445</td>\n",
       "      <td>2059.11</td>\n",
       "      <td>0</td>\n",
       "      <td>8</td>\n",
       "      <td>0</td>\n",
       "      <td>3</td>\n",
       "      <td>0.0000</td>\n",
       "      <td>257.388750</td>\n",
       "      <td>0.000000</td>\n",
       "      <td>0</td>\n",
       "      <td>0.0000</td>\n",
       "      <td>0.000000</td>\n",
       "      <td>0.0000</td>\n",
       "      <td>0.000000</td>\n",
       "      <td>0.1250</td>\n",
       "      <td>4220</td>\n",
       "      <td>2020-10-10</td>\n",
       "      <td>3</td>\n",
       "      <td>469</td>\n",
       "    </tr>\n",
       "    <tr>\n",
       "      <th>1542</th>\n",
       "      <td>25757</td>\n",
       "      <td>1181.86</td>\n",
       "      <td>0</td>\n",
       "      <td>8</td>\n",
       "      <td>0</td>\n",
       "      <td>3</td>\n",
       "      <td>0.0000</td>\n",
       "      <td>147.732500</td>\n",
       "      <td>0.000000</td>\n",
       "      <td>0</td>\n",
       "      <td>0.0000</td>\n",
       "      <td>0.000000</td>\n",
       "      <td>0.0000</td>\n",
       "      <td>0.000000</td>\n",
       "      <td>0.0000</td>\n",
       "      <td>30</td>\n",
       "      <td>2020-10-20</td>\n",
       "      <td>3</td>\n",
       "      <td>467</td>\n",
       "    </tr>\n",
       "  </tbody>\n",
       "</table>\n",
       "<p>2852 rows × 19 columns</p>\n",
       "</div>"
      ],
      "text/plain": [
       "      image_id  image_run_date_amount  image_create_role_pay_num  \\\n",
       "2533     25825               89257.66                         24   \n",
       "2362     25825               72470.33                         16   \n",
       "890      25345               44824.88                         13   \n",
       "2618     25825              106045.10                         22   \n",
       "2446     25825               97988.29                         24   \n",
       "...        ...                    ...                        ...   \n",
       "752      24445                2059.11                          0   \n",
       "674      24445                2059.11                          0   \n",
       "2551     26121                1872.36                          0   \n",
       "820      24445                2059.11                          0   \n",
       "1542     25757                1181.86                          0   \n",
       "\n",
       "      image_create_role_num  image_create_role_pay_sum  image_source_num  \\\n",
       "2533                   3084                      10794                15   \n",
       "2362                   2459                      10570                14   \n",
       "890                    1891                       2510                13   \n",
       "2618                   3755                       9820                19   \n",
       "2446                   3348                      10926                16   \n",
       "...                     ...                        ...               ...   \n",
       "752                       8                          0                 3   \n",
       "674                       8                          0                 3   \n",
       "2551                      7                          0                 3   \n",
       "820                       8                          0                 3   \n",
       "1542                      8                          0                 3   \n",
       "\n",
       "      image_create_role_pay_rate  image_create_role_cost  \\\n",
       "2533                      0.0078               28.942173   \n",
       "2362                      0.0065               29.471464   \n",
       "890                       0.0069               23.704326   \n",
       "2618                      0.0059               28.241039   \n",
       "2446                      0.0072               29.267709   \n",
       "...                          ...                     ...   \n",
       "752                       0.0000              257.388750   \n",
       "674                       0.0000              257.388750   \n",
       "2551                      0.0000              267.480000   \n",
       "820                       0.0000              257.388750   \n",
       "1542                      0.0000              147.732500   \n",
       "\n",
       "      image_create_role_pay_cost  image_valid_source_num  \\\n",
       "2533                 3719.069167                       3   \n",
       "2362                 4529.395625                       4   \n",
       "890                  3448.067692                      11   \n",
       "2618                 4820.231818                      13   \n",
       "2446                 4082.845417                       4   \n",
       "...                          ...                     ...   \n",
       "752                     0.000000                       0   \n",
       "674                     0.000000                       0   \n",
       "2551                    0.000000                       0   \n",
       "820                     0.000000                       0   \n",
       "1542                    0.000000                       0   \n",
       "\n",
       "      image_valid_source_rate  image_pay_sum_ability  image_pay_num_ability  \\\n",
       "2533                   0.2000            3598.000000                 8.0000   \n",
       "2362                   0.2857            2642.500000                 4.0000   \n",
       "890                    0.8462             228.181818                 1.1818   \n",
       "2618                   0.6842             755.384615                 1.6923   \n",
       "2446                   0.2500            2731.500000                 6.0000   \n",
       "...                       ...                    ...                    ...   \n",
       "752                    0.0000               0.000000                 0.0000   \n",
       "674                    0.0000               0.000000                 0.0000   \n",
       "2551                   0.0000               0.000000                 0.0000   \n",
       "820                    0.0000               0.000000                 0.0000   \n",
       "1542                   0.0000               0.000000                 0.0000   \n",
       "\n",
       "      image_create_role_roi  image_create_role_retain_1d  \\\n",
       "2533               0.120931                       0.0551   \n",
       "2362               0.145853                       0.0479   \n",
       "890                0.055996                       0.0584   \n",
       "2618               0.092602                       0.0522   \n",
       "2446               0.111503                       0.0548   \n",
       "...                     ...                          ...   \n",
       "752                0.000000                       0.1250   \n",
       "674                0.000000                       0.1250   \n",
       "2551               0.000000                       0.2308   \n",
       "820                0.000000                       0.1250   \n",
       "1542               0.000000                       0.0000   \n",
       "\n",
       "      create_role_30_pay_sum model_run_datetime  data_win  score  \n",
       "2533                  141734         2020-11-01         3    735  \n",
       "2362                   65282         2020-10-30         3    729  \n",
       "890                    43770         2020-10-11         3    729  \n",
       "2618                  134730         2020-11-02         3    728  \n",
       "2446                  141988         2020-10-31         3    726  \n",
       "...                      ...                ...       ...    ...  \n",
       "752                     4220         2020-10-09         3    469  \n",
       "674                     4220         2020-10-08         3    469  \n",
       "2551                      68         2020-11-01         3    469  \n",
       "820                     4220         2020-10-10         3    469  \n",
       "1542                      30         2020-10-20         3    467  \n",
       "\n",
       "[2852 rows x 19 columns]"
      ]
     },
     "execution_count": 108,
     "metadata": {},
     "output_type": "execute_result"
    }
   ],
   "source": [
    "test.sort_values('score',ascending=False)"
   ]
  },
  {
   "cell_type": "code",
   "execution_count": 109,
   "metadata": {},
   "outputs": [
    {
     "data": {
      "image/png": "[encoded data removed]",
      "text/plain": [
       "<Figure size 432x288 with 1 Axes>"
      ]
     },
     "metadata": {
      "needs_background": "light"
     },
     "output_type": "display_data"
    }
   ],
   "source": [
    "sns.distplot(test['score'])\n",
    "plt.show()"
   ]
  },
  {
   "cell_type": "code",
   "execution_count": 110,
   "metadata": {},
   "outputs": [
    {
     "data": {
      "text/plain": [
       "0.549167637171736"
      ]
     },
     "execution_count": 110,
     "metadata": {},
     "output_type": "execute_result"
    }
   ],
   "source": [
    "test[test['score']>=600]['create_role_30_pay_sum'].sum() / test[test['score']>=600]['image_run_date_amount'].sum()"
   ]
  },
  {
   "cell_type": "code",
   "execution_count": 111,
   "metadata": {},
   "outputs": [
    {
     "data": {
      "text/plain": [
       "0.27111068946220107"
      ]
     },
     "execution_count": 111,
     "metadata": {},
     "output_type": "execute_result"
    }
   ],
   "source": [
    "test[test['score']<600]['create_role_30_pay_sum'].sum() / test[test['score']<600]['image_run_date_amount'].sum()"
   ]
  },
  {
   "cell_type": "code",
   "execution_count": 112,
   "metadata": {},
   "outputs": [
    {
     "name": "stdout",
     "output_type": "stream",
     "text": [
      "高分区ROI： 0.4904240827588625\n",
      "低分区ROI： 0.221839613226351\n"
     ]
    }
   ],
   "source": [
    "print('高分区ROI：',test[test['score']>=560]['create_role_30_pay_sum'].sum() / test[test['score']>=560]['image_run_date_amount'].sum())\n",
    "print('低分区ROI：',test[test['score']<560]['create_role_30_pay_sum'].sum() / test[test['score']<560]['image_run_date_amount'].sum())"
   ]
  },
  {
   "cell_type": "code",
   "execution_count": 113,
   "metadata": {},
   "outputs": [
    {
     "name": "stdout",
     "output_type": "stream",
     "text": [
      "高分区ROI： 0.4584466741476629\n",
      "低分区ROI： 0.19557384096132063\n"
     ]
    }
   ],
   "source": [
    "print('高分区ROI：',test[test['score']>=540]['create_role_30_pay_sum'].sum() / test[test['score']>=540]['image_run_date_amount'].sum())\n",
    "print('低分区ROI：',test[test['score']<540]['create_role_30_pay_sum'].sum() / test[test['score']<540]['image_run_date_amount'].sum())"
   ]
  },
  {
   "cell_type": "code",
   "execution_count": 114,
   "metadata": {},
   "outputs": [
    {
     "name": "stdout",
     "output_type": "stream",
     "text": [
      "高分区ROI： 0.4317974612458137\n",
      "低分区ROI： 0.1397669733474111\n"
     ]
    }
   ],
   "source": [
    "print('高分区ROI：',test[test['score']>=520]['create_role_30_pay_sum'].sum() / test[test['score']>=520]['image_run_date_amount'].sum())\n",
    "print('低分区ROI：',test[test['score']<520]['create_role_30_pay_sum'].sum() / test[test['score']<520]['image_run_date_amount'].sum())"
   ]
  },
  {
   "cell_type": "code",
   "execution_count": 115,
   "metadata": {},
   "outputs": [
    {
     "name": "stdout",
     "output_type": "stream",
     "text": [
      "高分区ROI： 0.40062306240147766\n",
      "低分区ROI： 0.14260480039549747\n"
     ]
    }
   ],
   "source": [
    "print('高分区ROI：',test[test['score']>=500]['create_role_30_pay_sum'].sum() / test[test['score']>=500]['image_run_date_amount'].sum())\n",
    "print('低分区ROI：',test[test['score']<500]['create_role_30_pay_sum'].sum() / test[test['score']<500]['image_run_date_amount'].sum())"
   ]
  },
  {
   "cell_type": "code",
   "execution_count": 116,
   "metadata": {},
   "outputs": [
    {
     "name": "stdout",
     "output_type": "stream",
     "text": [
      "全test样本的ROI为： 0.37838112139818614\n"
     ]
    }
   ],
   "source": [
    "print('全test样本的ROI为：',test['create_role_30_pay_sum'].sum() / test['image_run_date_amount'].sum())"
   ]
  },
  {
   "cell_type": "code",
   "execution_count": 117,
   "metadata": {},
   "outputs": [
    {
     "name": "stdout",
     "output_type": "stream",
     "text": [
      "高分区消耗金额占比 0.5828390168810047\n"
     ]
    }
   ],
   "source": [
    "print('高分区消耗金额占比',test[test['score']>=560]['image_run_date_amount'].sum() / test['image_run_date_amount'].sum())"
   ]
  },
  {
   "cell_type": "code",
   "execution_count": 118,
   "metadata": {},
   "outputs": [
    {
     "name": "stdout",
     "output_type": "stream",
     "text": [
      "高分区消耗金额占比 0.5828390168810047\n"
     ]
    }
   ],
   "source": [
    "print('高分区消耗金额占比',test[test['score']>=560]['image_run_date_amount'].sum() / test['image_run_date_amount'].sum())"
   ]
  },
  {
   "cell_type": "code",
   "execution_count": 119,
   "metadata": {},
   "outputs": [
    {
     "data": {
      "text/html": [
       "<div>\n",
       "<style scoped>\n",
       "    .dataframe tbody tr th:only-of-type {\n",
       "        vertical-align: middle;\n",
       "    }\n",
       "\n",
       "    .dataframe tbody tr th {\n",
       "        vertical-align: top;\n",
       "    }\n",
       "\n",
       "    .dataframe thead th {\n",
       "        text-align: right;\n",
       "    }\n",
       "</style>\n",
       "<table border=\"1\" class=\"dataframe\">\n",
       "  <thead>\n",
       "    <tr style=\"text-align: right;\">\n",
       "      <th></th>\n",
       "      <th>image_id</th>\n",
       "      <th>image_run_date_amount</th>\n",
       "      <th>image_create_role_pay_num</th>\n",
       "      <th>image_create_role_num</th>\n",
       "      <th>image_create_role_pay_sum</th>\n",
       "      <th>image_source_num</th>\n",
       "      <th>image_create_role_pay_rate</th>\n",
       "      <th>image_create_role_cost</th>\n",
       "      <th>image_create_role_pay_cost</th>\n",
       "      <th>image_valid_source_num</th>\n",
       "      <th>image_valid_source_rate</th>\n",
       "      <th>image_pay_sum_ability</th>\n",
       "      <th>image_pay_num_ability</th>\n",
       "      <th>image_create_role_roi</th>\n",
       "      <th>image_create_role_retain_1d</th>\n",
       "      <th>create_role_30_pay_sum</th>\n",
       "      <th>model_run_datetime</th>\n",
       "      <th>data_win</th>\n",
       "      <th>score</th>\n",
       "    </tr>\n",
       "  </thead>\n",
       "  <tbody>\n",
       "    <tr>\n",
       "      <th>0</th>\n",
       "      <td>16276</td>\n",
       "      <td>5710.84</td>\n",
       "      <td>0</td>\n",
       "      <td>196</td>\n",
       "      <td>0</td>\n",
       "      <td>7</td>\n",
       "      <td>0.0</td>\n",
       "      <td>29.136939</td>\n",
       "      <td>0.0</td>\n",
       "      <td>0</td>\n",
       "      <td>0.0</td>\n",
       "      <td>0.0</td>\n",
       "      <td>0.0</td>\n",
       "      <td>0.0</td>\n",
       "      <td>0.1005</td>\n",
       "      <td>0</td>\n",
       "      <td>2020-10-02</td>\n",
       "      <td>3</td>\n",
       "      <td>511</td>\n",
       "    </tr>\n",
       "    <tr>\n",
       "      <th>1</th>\n",
       "      <td>16316</td>\n",
       "      <td>1023.57</td>\n",
       "      <td>0</td>\n",
       "      <td>7</td>\n",
       "      <td>0</td>\n",
       "      <td>2</td>\n",
       "      <td>0.0</td>\n",
       "      <td>146.224286</td>\n",
       "      <td>0.0</td>\n",
       "      <td>0</td>\n",
       "      <td>0.0</td>\n",
       "      <td>0.0</td>\n",
       "      <td>0.0</td>\n",
       "      <td>0.0</td>\n",
       "      <td>0.1000</td>\n",
       "      <td>0</td>\n",
       "      <td>2020-10-02</td>\n",
       "      <td>3</td>\n",
       "      <td>470</td>\n",
       "    </tr>\n",
       "    <tr>\n",
       "      <th>2</th>\n",
       "      <td>18216</td>\n",
       "      <td>3303.96</td>\n",
       "      <td>0</td>\n",
       "      <td>58</td>\n",
       "      <td>0</td>\n",
       "      <td>2</td>\n",
       "      <td>0.0</td>\n",
       "      <td>56.964828</td>\n",
       "      <td>0.0</td>\n",
       "      <td>0</td>\n",
       "      <td>0.0</td>\n",
       "      <td>0.0</td>\n",
       "      <td>0.0</td>\n",
       "      <td>0.0</td>\n",
       "      <td>0.0455</td>\n",
       "      <td>0</td>\n",
       "      <td>2020-10-02</td>\n",
       "      <td>3</td>\n",
       "      <td>489</td>\n",
       "    </tr>\n",
       "    <tr>\n",
       "      <th>3</th>\n",
       "      <td>19100</td>\n",
       "      <td>3739.89</td>\n",
       "      <td>0</td>\n",
       "      <td>66</td>\n",
       "      <td>0</td>\n",
       "      <td>1</td>\n",
       "      <td>0.0</td>\n",
       "      <td>56.665000</td>\n",
       "      <td>0.0</td>\n",
       "      <td>0</td>\n",
       "      <td>0.0</td>\n",
       "      <td>0.0</td>\n",
       "      <td>0.0</td>\n",
       "      <td>0.0</td>\n",
       "      <td>0.0735</td>\n",
       "      <td>0</td>\n",
       "      <td>2020-10-02</td>\n",
       "      <td>3</td>\n",
       "      <td>489</td>\n",
       "    </tr>\n",
       "    <tr>\n",
       "      <th>4</th>\n",
       "      <td>19208</td>\n",
       "      <td>4388.16</td>\n",
       "      <td>0</td>\n",
       "      <td>69</td>\n",
       "      <td>0</td>\n",
       "      <td>2</td>\n",
       "      <td>0.0</td>\n",
       "      <td>63.596522</td>\n",
       "      <td>0.0</td>\n",
       "      <td>0</td>\n",
       "      <td>0.0</td>\n",
       "      <td>0.0</td>\n",
       "      <td>0.0</td>\n",
       "      <td>0.0</td>\n",
       "      <td>0.0145</td>\n",
       "      <td>12</td>\n",
       "      <td>2020-10-02</td>\n",
       "      <td>3</td>\n",
       "      <td>491</td>\n",
       "    </tr>\n",
       "  </tbody>\n",
       "</table>\n",
       "</div>"
      ],
      "text/plain": [
       "   image_id  image_run_date_amount  image_create_role_pay_num  \\\n",
       "0     16276                5710.84                          0   \n",
       "1     16316                1023.57                          0   \n",
       "2     18216                3303.96                          0   \n",
       "3     19100                3739.89                          0   \n",
       "4     19208                4388.16                          0   \n",
       "\n",
       "   image_create_role_num  image_create_role_pay_sum  image_source_num  \\\n",
       "0                    196                          0                 7   \n",
       "1                      7                          0                 2   \n",
       "2                     58                          0                 2   \n",
       "3                     66                          0                 1   \n",
       "4                     69                          0                 2   \n",
       "\n",
       "   image_create_role_pay_rate  image_create_role_cost  \\\n",
       "0                         0.0               29.136939   \n",
       "1                         0.0              146.224286   \n",
       "2                         0.0               56.964828   \n",
       "3                         0.0               56.665000   \n",
       "4                         0.0               63.596522   \n",
       "\n",
       "   image_create_role_pay_cost  image_valid_source_num  \\\n",
       "0                         0.0                       0   \n",
       "1                         0.0                       0   \n",
       "2                         0.0                       0   \n",
       "3                         0.0                       0   \n",
       "4                         0.0                       0   \n",
       "\n",
       "   image_valid_source_rate  image_pay_sum_ability  image_pay_num_ability  \\\n",
       "0                      0.0                    0.0                    0.0   \n",
       "1                      0.0                    0.0                    0.0   \n",
       "2                      0.0                    0.0                    0.0   \n",
       "3                      0.0                    0.0                    0.0   \n",
       "4                      0.0                    0.0                    0.0   \n",
       "\n",
       "   image_create_role_roi  image_create_role_retain_1d  create_role_30_pay_sum  \\\n",
       "0                    0.0                       0.1005                       0   \n",
       "1                    0.0                       0.1000                       0   \n",
       "2                    0.0                       0.0455                       0   \n",
       "3                    0.0                       0.0735                       0   \n",
       "4                    0.0                       0.0145                      12   \n",
       "\n",
       "  model_run_datetime  data_win  score  \n",
       "0         2020-10-02         3    511  \n",
       "1         2020-10-02         3    470  \n",
       "2         2020-10-02         3    489  \n",
       "3         2020-10-02         3    489  \n",
       "4         2020-10-02         3    491  "
      ]
     },
     "execution_count": 119,
     "metadata": {},
     "output_type": "execute_result"
    }
   ],
   "source": [
    "test.head()"
   ]
  },
  {
   "cell_type": "code",
   "execution_count": 144,
   "metadata": {},
   "outputs": [],
   "source": [
    "test.to_csv('./test_result.csv')"
   ]
  }
 ],
 "metadata": {
  "kernelspec": {
   "display_name": "Python 3",
   "language": "python",
   "name": "python3"
  },
  "language_info": {
   "codemirror_mode": {
    "name": "ipython",
    "version": 3
   },
   "file_extension": ".py",
   "mimetype": "text/x-python",
   "name": "python",
   "nbconvert_exporter": "python",
   "pygments_lexer": "ipython3",
   "version": "3.7.6"
  }
 },
 "nbformat": 4,
 "nbformat_minor": 4
}
