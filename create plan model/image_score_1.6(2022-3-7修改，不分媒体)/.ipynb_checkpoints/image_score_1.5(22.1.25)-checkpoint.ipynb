{
 "cells": [
  {
   "cell_type": "code",
   "execution_count": 1,
   "metadata": {},
   "outputs": [],
   "source": [
    "import pandas as pd\n",
    "import numpy as np\n",
    "import matplotlib.pyplot as plt\n",
    "import seaborn as sns\n",
    "import warnings\n",
    "warnings.filterwarnings('ignore')"
   ]
  },
  {
   "cell_type": "code",
   "execution_count": 2,
   "metadata": {},
   "outputs": [],
   "source": [
    "image_info = pd.read_csv('./train_data_1056（21.01.25）.csv')"
   ]
  },
  {
   "cell_type": "code",
   "execution_count": 3,
   "metadata": {},
   "outputs": [],
   "source": [
    "pd.set_option('display.max_columns',None)"
   ]
  },
  {
   "cell_type": "code",
   "execution_count": 4,
   "metadata": {},
   "outputs": [
    {
     "data": {
      "text/html": [
       "<div>\n",
       "<style scoped>\n",
       "    .dataframe tbody tr th:only-of-type {\n",
       "        vertical-align: middle;\n",
       "    }\n",
       "\n",
       "    .dataframe tbody tr th {\n",
       "        vertical-align: top;\n",
       "    }\n",
       "\n",
       "    .dataframe thead th {\n",
       "        text-align: right;\n",
       "    }\n",
       "</style>\n",
       "<table border=\"1\" class=\"dataframe\">\n",
       "  <thead>\n",
       "    <tr style=\"text-align: right;\">\n",
       "      <th></th>\n",
       "      <th>image_id</th>\n",
       "      <th>image_name</th>\n",
       "      <th>media_id</th>\n",
       "      <th>image_launch_time</th>\n",
       "      <th>image_source_total_num</th>\n",
       "      <th>image_run_date_amount</th>\n",
       "      <th>image_create_role_pay_num</th>\n",
       "      <th>image_create_role_num</th>\n",
       "      <th>image_create_role_pay_sum</th>\n",
       "      <th>image_source_num</th>\n",
       "      <th>image_create_role_pay_rate</th>\n",
       "      <th>image_create_role_cost</th>\n",
       "      <th>image_create_role_pay_cost</th>\n",
       "      <th>image_valid_source_num</th>\n",
       "      <th>image_valid_source_rate</th>\n",
       "      <th>image_pay_sum_ability</th>\n",
       "      <th>image_pay_num_ability</th>\n",
       "      <th>image_create_role_roi</th>\n",
       "      <th>image_create_role_retain_1d</th>\n",
       "      <th>create_role_30_pay_sum</th>\n",
       "      <th>model_run_datetime</th>\n",
       "      <th>data_win</th>\n",
       "    </tr>\n",
       "  </thead>\n",
       "  <tbody>\n",
       "    <tr>\n",
       "      <th>0</th>\n",
       "      <td>19100</td>\n",
       "      <td>SSR583-横版（混剪）</td>\n",
       "      <td>10</td>\n",
       "      <td>2020-01-06</td>\n",
       "      <td>82.0</td>\n",
       "      <td>186.18</td>\n",
       "      <td>0.0</td>\n",
       "      <td>0.0</td>\n",
       "      <td>0.0</td>\n",
       "      <td>1.0</td>\n",
       "      <td>0.0000</td>\n",
       "      <td>0.000000</td>\n",
       "      <td>0.000000</td>\n",
       "      <td>0.0</td>\n",
       "      <td>0.0</td>\n",
       "      <td>0.0</td>\n",
       "      <td>0.0</td>\n",
       "      <td>0.000000</td>\n",
       "      <td>0.0000</td>\n",
       "      <td>0.0</td>\n",
       "      <td>2021-03-01</td>\n",
       "      <td>3</td>\n",
       "    </tr>\n",
       "    <tr>\n",
       "      <th>1</th>\n",
       "      <td>23509</td>\n",
       "      <td>SSR1414-竖版（3D混剪）</td>\n",
       "      <td>10</td>\n",
       "      <td>2020-07-16</td>\n",
       "      <td>489.0</td>\n",
       "      <td>1683.18</td>\n",
       "      <td>0.0</td>\n",
       "      <td>38.0</td>\n",
       "      <td>0.0</td>\n",
       "      <td>6.0</td>\n",
       "      <td>0.0000</td>\n",
       "      <td>44.294211</td>\n",
       "      <td>0.000000</td>\n",
       "      <td>0.0</td>\n",
       "      <td>0.0</td>\n",
       "      <td>0.0</td>\n",
       "      <td>0.0</td>\n",
       "      <td>0.000000</td>\n",
       "      <td>0.0586</td>\n",
       "      <td>224.0</td>\n",
       "      <td>2021-03-01</td>\n",
       "      <td>3</td>\n",
       "    </tr>\n",
       "    <tr>\n",
       "      <th>2</th>\n",
       "      <td>23552</td>\n",
       "      <td>SSR1419-横版（3D混剪）</td>\n",
       "      <td>10</td>\n",
       "      <td>2020-07-14</td>\n",
       "      <td>312.0</td>\n",
       "      <td>1049.26</td>\n",
       "      <td>0.0</td>\n",
       "      <td>19.0</td>\n",
       "      <td>0.0</td>\n",
       "      <td>2.0</td>\n",
       "      <td>0.0000</td>\n",
       "      <td>55.224211</td>\n",
       "      <td>0.000000</td>\n",
       "      <td>0.0</td>\n",
       "      <td>0.0</td>\n",
       "      <td>0.0</td>\n",
       "      <td>0.0</td>\n",
       "      <td>0.000000</td>\n",
       "      <td>0.0000</td>\n",
       "      <td>0.0</td>\n",
       "      <td>2021-03-01</td>\n",
       "      <td>3</td>\n",
       "    </tr>\n",
       "    <tr>\n",
       "      <th>3</th>\n",
       "      <td>23656</td>\n",
       "      <td>SSR1428-竖版（混剪）</td>\n",
       "      <td>10</td>\n",
       "      <td>2020-07-20</td>\n",
       "      <td>320.0</td>\n",
       "      <td>13052.44</td>\n",
       "      <td>3.0</td>\n",
       "      <td>425.0</td>\n",
       "      <td>2334.0</td>\n",
       "      <td>4.0</td>\n",
       "      <td>0.0071</td>\n",
       "      <td>30.711624</td>\n",
       "      <td>4350.813333</td>\n",
       "      <td>0.0</td>\n",
       "      <td>0.0</td>\n",
       "      <td>0.0</td>\n",
       "      <td>0.0</td>\n",
       "      <td>0.178817</td>\n",
       "      <td>0.0862</td>\n",
       "      <td>11572.0</td>\n",
       "      <td>2021-03-01</td>\n",
       "      <td>3</td>\n",
       "    </tr>\n",
       "    <tr>\n",
       "      <th>4</th>\n",
       "      <td>23916</td>\n",
       "      <td>SSR1510-竖版（混剪）</td>\n",
       "      <td>10</td>\n",
       "      <td>2020-08-03</td>\n",
       "      <td>306.0</td>\n",
       "      <td>1680.15</td>\n",
       "      <td>0.0</td>\n",
       "      <td>12.0</td>\n",
       "      <td>0.0</td>\n",
       "      <td>1.0</td>\n",
       "      <td>0.0000</td>\n",
       "      <td>140.012500</td>\n",
       "      <td>0.000000</td>\n",
       "      <td>0.0</td>\n",
       "      <td>0.0</td>\n",
       "      <td>0.0</td>\n",
       "      <td>0.0</td>\n",
       "      <td>0.000000</td>\n",
       "      <td>0.3333</td>\n",
       "      <td>318.0</td>\n",
       "      <td>2021-03-01</td>\n",
       "      <td>3</td>\n",
       "    </tr>\n",
       "  </tbody>\n",
       "</table>\n",
       "</div>"
      ],
      "text/plain": [
       "   image_id        image_name  media_id image_launch_time  \\\n",
       "0     19100     SSR583-横版（混剪）        10        2020-01-06   \n",
       "1     23509  SSR1414-竖版（3D混剪）        10        2020-07-16   \n",
       "2     23552  SSR1419-横版（3D混剪）        10        2020-07-14   \n",
       "3     23656    SSR1428-竖版（混剪）        10        2020-07-20   \n",
       "4     23916    SSR1510-竖版（混剪）        10        2020-08-03   \n",
       "\n",
       "   image_source_total_num  image_run_date_amount  image_create_role_pay_num  \\\n",
       "0                    82.0                 186.18                        0.0   \n",
       "1                   489.0                1683.18                        0.0   \n",
       "2                   312.0                1049.26                        0.0   \n",
       "3                   320.0               13052.44                        3.0   \n",
       "4                   306.0                1680.15                        0.0   \n",
       "\n",
       "   image_create_role_num  image_create_role_pay_sum  image_source_num  \\\n",
       "0                    0.0                        0.0               1.0   \n",
       "1                   38.0                        0.0               6.0   \n",
       "2                   19.0                        0.0               2.0   \n",
       "3                  425.0                     2334.0               4.0   \n",
       "4                   12.0                        0.0               1.0   \n",
       "\n",
       "   image_create_role_pay_rate  image_create_role_cost  \\\n",
       "0                      0.0000                0.000000   \n",
       "1                      0.0000               44.294211   \n",
       "2                      0.0000               55.224211   \n",
       "3                      0.0071               30.711624   \n",
       "4                      0.0000              140.012500   \n",
       "\n",
       "   image_create_role_pay_cost  image_valid_source_num  \\\n",
       "0                    0.000000                     0.0   \n",
       "1                    0.000000                     0.0   \n",
       "2                    0.000000                     0.0   \n",
       "3                 4350.813333                     0.0   \n",
       "4                    0.000000                     0.0   \n",
       "\n",
       "   image_valid_source_rate  image_pay_sum_ability  image_pay_num_ability  \\\n",
       "0                      0.0                    0.0                    0.0   \n",
       "1                      0.0                    0.0                    0.0   \n",
       "2                      0.0                    0.0                    0.0   \n",
       "3                      0.0                    0.0                    0.0   \n",
       "4                      0.0                    0.0                    0.0   \n",
       "\n",
       "   image_create_role_roi  image_create_role_retain_1d  create_role_30_pay_sum  \\\n",
       "0               0.000000                       0.0000                     0.0   \n",
       "1               0.000000                       0.0586                   224.0   \n",
       "2               0.000000                       0.0000                     0.0   \n",
       "3               0.178817                       0.0862                 11572.0   \n",
       "4               0.000000                       0.3333                   318.0   \n",
       "\n",
       "  model_run_datetime  data_win  \n",
       "0         2021-03-01         3  \n",
       "1         2021-03-01         3  \n",
       "2         2021-03-01         3  \n",
       "3         2021-03-01         3  \n",
       "4         2021-03-01         3  "
      ]
     },
     "execution_count": 4,
     "metadata": {},
     "output_type": "execute_result"
    }
   ],
   "source": [
    "image_info.head()"
   ]
  },
  {
   "cell_type": "code",
   "execution_count": 5,
   "metadata": {},
   "outputs": [
    {
     "data": {
      "text/plain": [
       "Index(['image_id', 'image_name', 'media_id', 'image_launch_time',\n",
       "       'image_source_total_num', 'image_run_date_amount',\n",
       "       'image_create_role_pay_num', 'image_create_role_num',\n",
       "       'image_create_role_pay_sum', 'image_source_num',\n",
       "       'image_create_role_pay_rate', 'image_create_role_cost',\n",
       "       'image_create_role_pay_cost', 'image_valid_source_num',\n",
       "       'image_valid_source_rate', 'image_pay_sum_ability',\n",
       "       'image_pay_num_ability', 'image_create_role_roi',\n",
       "       'image_create_role_retain_1d', 'create_role_30_pay_sum',\n",
       "       'model_run_datetime', 'data_win'],\n",
       "      dtype='object')"
      ]
     },
     "execution_count": 5,
     "metadata": {},
     "output_type": "execute_result"
    }
   ],
   "source": [
    "image_info.columns"
   ]
  },
  {
   "cell_type": "code",
   "execution_count": 6,
   "metadata": {},
   "outputs": [
    {
     "data": {
      "text/plain": [
       "'2021-03-01'"
      ]
     },
     "execution_count": 6,
     "metadata": {},
     "output_type": "execute_result"
    }
   ],
   "source": [
    "image_info['model_run_datetime'].min()"
   ]
  },
  {
   "cell_type": "code",
   "execution_count": 7,
   "metadata": {},
   "outputs": [
    {
     "data": {
      "text/plain": [
       "'2021-12-20'"
      ]
     },
     "execution_count": 7,
     "metadata": {},
     "output_type": "execute_result"
    }
   ],
   "source": [
    "image_info['model_run_datetime'].max()"
   ]
  },
  {
   "cell_type": "code",
   "execution_count": 8,
   "metadata": {},
   "outputs": [
    {
     "data": {
      "text/plain": [
       "(72953, 22)"
      ]
     },
     "execution_count": 8,
     "metadata": {},
     "output_type": "execute_result"
    }
   ],
   "source": [
    "image_info.shape"
   ]
  },
  {
   "cell_type": "code",
   "execution_count": 9,
   "metadata": {},
   "outputs": [
    {
     "data": {
      "text/plain": [
       "2734"
      ]
     },
     "execution_count": 9,
     "metadata": {},
     "output_type": "execute_result"
    }
   ],
   "source": [
    "image_info['image_id'].nunique()"
   ]
  },
  {
   "cell_type": "code",
   "execution_count": 10,
   "metadata": {},
   "outputs": [],
   "source": [
    "image_info['image_30_roi'] = image_info['create_role_30_pay_sum'] / image_info['image_run_date_amount']"
   ]
  },
  {
   "cell_type": "code",
   "execution_count": 11,
   "metadata": {},
   "outputs": [
    {
     "data": {
      "text/plain": [
       "image_30_roi                   1.000000\n",
       "image_create_role_roi          0.286170\n",
       "create_role_30_pay_sum         0.118469\n",
       "image_create_role_pay_rate     0.089891\n",
       "image_pay_sum_ability          0.054539\n",
       "image_create_role_retain_1d    0.054346\n",
       "image_valid_source_rate        0.050468\n",
       "image_create_role_pay_sum      0.040945\n",
       "image_valid_source_num         0.025023\n",
       "image_source_total_num         0.022452\n",
       "image_create_role_pay_num      0.013150\n",
       "image_pay_num_ability          0.010298\n",
       "image_source_num               0.010038\n",
       "image_create_role_num          0.008251\n",
       "image_run_date_amount          0.006850\n",
       "image_create_role_pay_cost     0.004776\n",
       "image_id                      -0.011234\n",
       "media_id                      -0.015028\n",
       "image_create_role_cost        -0.017756\n",
       "data_win                            NaN\n",
       "Name: image_30_roi, dtype: float64"
      ]
     },
     "execution_count": 11,
     "metadata": {},
     "output_type": "execute_result"
    }
   ],
   "source": [
    "image_info.corr()['image_30_roi'].sort_values(ascending=False)"
   ]
  },
  {
   "cell_type": "code",
   "execution_count": 12,
   "metadata": {},
   "outputs": [],
   "source": [
    "image_info['label'] = image_info['image_30_roi'].apply(lambda x:1 if x>=0.4 else(0 if x<0.25 else 2))"
   ]
  },
  {
   "cell_type": "code",
   "execution_count": 13,
   "metadata": {},
   "outputs": [],
   "source": [
    "image_info_label = image_info[image_info['label']!=2]"
   ]
  },
  {
   "cell_type": "markdown",
   "metadata": {},
   "source": [
    "## EDA"
   ]
  },
  {
   "cell_type": "code",
   "execution_count": 14,
   "metadata": {},
   "outputs": [
    {
     "data": {
      "text/plain": [
       "(66510, 24)"
      ]
     },
     "execution_count": 14,
     "metadata": {},
     "output_type": "execute_result"
    }
   ],
   "source": [
    "image_info_label.shape"
   ]
  },
  {
   "cell_type": "code",
   "execution_count": 15,
   "metadata": {},
   "outputs": [],
   "source": [
    "image_info_label = image_info_label[image_info_label['image_run_date_amount']>=500]"
   ]
  },
  {
   "cell_type": "code",
   "execution_count": 16,
   "metadata": {},
   "outputs": [
    {
     "data": {
      "text/plain": [
       "(57173, 24)"
      ]
     },
     "execution_count": 16,
     "metadata": {},
     "output_type": "execute_result"
    }
   ],
   "source": [
    "image_info_label.shape"
   ]
  },
  {
   "cell_type": "code",
   "execution_count": 17,
   "metadata": {},
   "outputs": [
    {
     "data": {
      "text/plain": [
       "data_win                           1\n",
       "label                              2\n",
       "media_id                           2\n",
       "image_valid_source_num            55\n",
       "image_create_role_pay_num        149\n",
       "model_run_datetime               295\n",
       "image_source_num                 302\n",
       "image_pay_num_ability            307\n",
       "image_launch_time                348\n",
       "image_source_total_num           374\n",
       "image_valid_source_rate          569\n",
       "image_create_role_pay_rate       852\n",
       "image_pay_sum_ability           1866\n",
       "image_id                        2598\n",
       "image_name                      2598\n",
       "image_create_role_retain_1d     2665\n",
       "image_create_role_num           2801\n",
       "image_create_role_pay_sum       3846\n",
       "create_role_30_pay_sum         11729\n",
       "image_create_role_roi          22845\n",
       "image_create_role_pay_cost     27984\n",
       "image_30_roi                   38462\n",
       "image_run_date_amount          54570\n",
       "image_create_role_cost         54920\n",
       "dtype: int64"
      ]
     },
     "execution_count": 17,
     "metadata": {},
     "output_type": "execute_result"
    }
   ],
   "source": [
    "image_info_label.nunique().sort_values()"
   ]
  },
  {
   "cell_type": "code",
   "execution_count": 18,
   "metadata": {},
   "outputs": [],
   "source": [
    "image_info_label.drop(['data_win','image_30_roi'], axis=1, inplace=True)"
   ]
  },
  {
   "cell_type": "code",
   "execution_count": 19,
   "metadata": {
    "scrolled": true
   },
   "outputs": [
    {
     "data": {
      "text/plain": [
       "0.0      51681\n",
       "1.0       1086\n",
       "2.0        998\n",
       "3.0        740\n",
       "4.0        683\n",
       "5.0        474\n",
       "6.0        325\n",
       "7.0        240\n",
       "8.0        171\n",
       "9.0        151\n",
       "10.0       107\n",
       "12.0        77\n",
       "11.0        73\n",
       "13.0        65\n",
       "14.0        39\n",
       "15.0        34\n",
       "16.0        33\n",
       "17.0        27\n",
       "20.0        22\n",
       "18.0        18\n",
       "21.0        17\n",
       "19.0        12\n",
       "22.0         9\n",
       "27.0         8\n",
       "25.0         7\n",
       "23.0         7\n",
       "26.0         7\n",
       "30.0         7\n",
       "24.0         6\n",
       "29.0         5\n",
       "31.0         5\n",
       "28.0         4\n",
       "43.0         3\n",
       "35.0         3\n",
       "46.0         2\n",
       "32.0         2\n",
       "36.0         2\n",
       "33.0         2\n",
       "34.0         2\n",
       "61.0         2\n",
       "39.0         2\n",
       "53.0         2\n",
       "38.0         1\n",
       "42.0         1\n",
       "51.0         1\n",
       "50.0         1\n",
       "40.0         1\n",
       "45.0         1\n",
       "65.0         1\n",
       "55.0         1\n",
       "104.0        1\n",
       "37.0         1\n",
       "63.0         1\n",
       "47.0         1\n",
       "56.0         1\n",
       "Name: image_valid_source_num, dtype: int64"
      ]
     },
     "execution_count": 19,
     "metadata": {},
     "output_type": "execute_result"
    }
   ],
   "source": [
    "image_info_label['image_valid_source_num'].value_counts()"
   ]
  },
  {
   "cell_type": "code",
   "execution_count": 20,
   "metadata": {},
   "outputs": [
    {
     "data": {
      "image/png": "[encoded data removed]",
      "text/plain": [
       "<Figure size 432x288 with 1 Axes>"
      ]
     },
     "metadata": {
      "needs_background": "light"
     },
     "output_type": "display_data"
    },
    {
     "data": {
      "image/png": "[encoded data removed]",
      "text/plain": [
       "<Figure size 432x288 with 1 Axes>"
      ]
     },
     "metadata": {
      "needs_background": "light"
     },
     "output_type": "display_data"
    },
    {
     "data": {
      "image/png": "[encoded data removed]",
      "text/plain": [
       "<Figure size 432x288 with 1 Axes>"
      ]
     },
     "metadata": {
      "needs_background": "light"
     },
     "output_type": "display_data"
    },
    {
     "data": {
      "image/png": "[encoded data removed]",
      "text/plain": [
       "<Figure size 432x288 with 1 Axes>"
      ]
     },
     "metadata": {
      "needs_background": "light"
     },
     "output_type": "display_data"
    },
    {
     "data": {
      "image/png": "[encoded data removed]",
      "text/plain": [
       "<Figure size 432x288 with 1 Axes>"
      ]
     },
     "metadata": {
      "needs_background": "light"
     },
     "output_type": "display_data"
    },
    {
     "data": {
      "image/png": "[encoded data removed]",
      "text/plain": [
       "<Figure size 432x288 with 1 Axes>"
      ]
     },
     "metadata": {
      "needs_background": "light"
     },
     "output_type": "display_data"
    },
    {
     "data": {
      "image/png": "[encoded data removed]",
      "text/plain": [
       "<Figure size 432x288 with 1 Axes>"
      ]
     },
     "metadata": {
      "needs_background": "light"
     },
     "output_type": "display_data"
    },
    {
     "data": {
      "image/png": "[encoded data removed]",
      "text/plain": [
       "<Figure size 432x288 with 1 Axes>"
      ]
     },
     "metadata": {
      "needs_background": "light"
     },
     "output_type": "display_data"
    },
    {
     "data": {
      "image/png": "[encoded data removed]",
      "text/plain": [
       "<Figure size 432x288 with 1 Axes>"
      ]
     },
     "metadata": {
      "needs_background": "light"
     },
     "output_type": "display_data"
    },
    {
     "data": {
      "image/png": "[encoded data removed]",
      "text/plain": [
       "<Figure size 432x288 with 1 Axes>"
      ]
     },
     "metadata": {
      "needs_background": "light"
     },
     "output_type": "display_data"
    }
   ],
   "source": [
    "columns = ['image_run_date_amount', 'image_create_role_pay_num',\n",
    "       'image_create_role_num', 'image_create_role_pay_sum',\n",
    "       'image_source_num', 'image_create_role_pay_rate',\n",
    "       'image_create_role_cost', 'image_create_role_pay_cost',\n",
    "       'image_create_role_roi', 'image_create_role_retain_1d']\n",
    "for col in columns:\n",
    "    sns.distplot(image_info_label[col])\n",
    "    plt.show()"
   ]
  },
  {
   "cell_type": "code",
   "execution_count": 21,
   "metadata": {},
   "outputs": [
    {
     "data": {
      "text/plain": [
       "(1335, 22)"
      ]
     },
     "execution_count": 21,
     "metadata": {},
     "output_type": "execute_result"
    }
   ],
   "source": [
    "image_info_label[image_info_label['image_create_role_cost']>=800].shape"
   ]
  },
  {
   "cell_type": "code",
   "execution_count": 22,
   "metadata": {},
   "outputs": [],
   "source": [
    "image_info_label = image_info_label[image_info_label['image_create_role_cost']<800]"
   ]
  },
  {
   "cell_type": "code",
   "execution_count": 23,
   "metadata": {},
   "outputs": [],
   "source": [
    "image_info_label['image_create_role_cost'].replace(0,float('inf'),inplace=True)"
   ]
  },
  {
   "cell_type": "code",
   "execution_count": 24,
   "metadata": {},
   "outputs": [],
   "source": [
    "image_info_label['image_create_role_pay_cost'].replace(0,float('inf'),inplace=True)"
   ]
  },
  {
   "cell_type": "code",
   "execution_count": 25,
   "metadata": {
    "scrolled": true
   },
   "outputs": [
    {
     "data": {
      "text/plain": [
       "170.3275          1\n",
       "283.6480          1\n",
       "287.4450          1\n",
       "290.0350          1\n",
       "302.3100          1\n",
       "              ...  \n",
       "63130.2300        1\n",
       "68889.6300        1\n",
       "73714.3200        1\n",
       "74693.2900        1\n",
       "inf           27678\n",
       "Name: image_create_role_pay_cost, Length: 27870, dtype: int64"
      ]
     },
     "execution_count": 25,
     "metadata": {},
     "output_type": "execute_result"
    }
   ],
   "source": [
    "image_info_label['image_create_role_pay_cost'].value_counts().sort_index()"
   ]
  },
  {
   "cell_type": "code",
   "execution_count": 26,
   "metadata": {},
   "outputs": [],
   "source": [
    "image_info_label = image_info_label[image_info_label['image_create_role_pay_cost']>1000]"
   ]
  },
  {
   "cell_type": "code",
   "execution_count": 27,
   "metadata": {},
   "outputs": [
    {
     "data": {
      "text/plain": [
       "(55209, 22)"
      ]
     },
     "execution_count": 27,
     "metadata": {},
     "output_type": "execute_result"
    }
   ],
   "source": [
    "image_info_label.shape"
   ]
  },
  {
   "cell_type": "code",
   "execution_count": 28,
   "metadata": {},
   "outputs": [
    {
     "data": {
      "image/png": "[encoded data removed]",
      "text/plain": [
       "<Figure size 432x288 with 1 Axes>"
      ]
     },
     "metadata": {
      "needs_background": "light"
     },
     "output_type": "display_data"
    }
   ],
   "source": [
    "sns.countplot(x='label',data=image_info_label)\n",
    "plt.show()"
   ]
  },
  {
   "cell_type": "code",
   "execution_count": 29,
   "metadata": {},
   "outputs": [
    {
     "data": {
      "text/html": [
       "<div>\n",
       "<style scoped>\n",
       "    .dataframe tbody tr th:only-of-type {\n",
       "        vertical-align: middle;\n",
       "    }\n",
       "\n",
       "    .dataframe tbody tr th {\n",
       "        vertical-align: top;\n",
       "    }\n",
       "\n",
       "    .dataframe thead th {\n",
       "        text-align: right;\n",
       "    }\n",
       "</style>\n",
       "<table border=\"1\" class=\"dataframe\">\n",
       "  <thead>\n",
       "    <tr style=\"text-align: right;\">\n",
       "      <th></th>\n",
       "      <th>image_id</th>\n",
       "      <th>media_id</th>\n",
       "      <th>image_source_total_num</th>\n",
       "      <th>image_run_date_amount</th>\n",
       "      <th>image_create_role_pay_num</th>\n",
       "      <th>image_create_role_num</th>\n",
       "      <th>image_create_role_pay_sum</th>\n",
       "      <th>image_source_num</th>\n",
       "      <th>image_create_role_pay_rate</th>\n",
       "      <th>image_create_role_cost</th>\n",
       "      <th>image_create_role_pay_cost</th>\n",
       "      <th>image_valid_source_num</th>\n",
       "      <th>image_valid_source_rate</th>\n",
       "      <th>image_pay_sum_ability</th>\n",
       "      <th>image_pay_num_ability</th>\n",
       "      <th>image_create_role_roi</th>\n",
       "      <th>image_create_role_retain_1d</th>\n",
       "      <th>create_role_30_pay_sum</th>\n",
       "      <th>label</th>\n",
       "    </tr>\n",
       "  </thead>\n",
       "  <tbody>\n",
       "    <tr>\n",
       "      <th>image_id</th>\n",
       "      <td>1.000000</td>\n",
       "      <td>0.083278</td>\n",
       "      <td>-0.211063</td>\n",
       "      <td>-0.055186</td>\n",
       "      <td>-0.085418</td>\n",
       "      <td>-0.092927</td>\n",
       "      <td>-0.065774</td>\n",
       "      <td>0.011593</td>\n",
       "      <td>0.027013</td>\n",
       "      <td>0.256907</td>\n",
       "      <td>0.151194</td>\n",
       "      <td>-0.015352</td>\n",
       "      <td>-0.039393</td>\n",
       "      <td>-0.025355</td>\n",
       "      <td>-0.034929</td>\n",
       "      <td>-0.028353</td>\n",
       "      <td>-0.014473</td>\n",
       "      <td>-0.050358</td>\n",
       "      <td>-0.063571</td>\n",
       "    </tr>\n",
       "    <tr>\n",
       "      <th>media_id</th>\n",
       "      <td>0.083278</td>\n",
       "      <td>1.000000</td>\n",
       "      <td>0.038098</td>\n",
       "      <td>-0.080495</td>\n",
       "      <td>-0.113598</td>\n",
       "      <td>-0.092468</td>\n",
       "      <td>-0.097093</td>\n",
       "      <td>0.015148</td>\n",
       "      <td>-0.104226</td>\n",
       "      <td>-0.029620</td>\n",
       "      <td>0.122868</td>\n",
       "      <td>-0.034591</td>\n",
       "      <td>-0.058201</td>\n",
       "      <td>-0.033793</td>\n",
       "      <td>-0.043522</td>\n",
       "      <td>-0.053883</td>\n",
       "      <td>-0.162905</td>\n",
       "      <td>-0.069586</td>\n",
       "      <td>-0.075732</td>\n",
       "    </tr>\n",
       "    <tr>\n",
       "      <th>image_source_total_num</th>\n",
       "      <td>-0.211063</td>\n",
       "      <td>0.038098</td>\n",
       "      <td>1.000000</td>\n",
       "      <td>0.419459</td>\n",
       "      <td>0.369976</td>\n",
       "      <td>0.345036</td>\n",
       "      <td>0.319439</td>\n",
       "      <td>0.475499</td>\n",
       "      <td>0.029432</td>\n",
       "      <td>-0.153713</td>\n",
       "      <td>0.049719</td>\n",
       "      <td>0.029067</td>\n",
       "      <td>-0.020918</td>\n",
       "      <td>0.036254</td>\n",
       "      <td>0.052949</td>\n",
       "      <td>0.054245</td>\n",
       "      <td>0.039253</td>\n",
       "      <td>0.385209</td>\n",
       "      <td>0.256759</td>\n",
       "    </tr>\n",
       "    <tr>\n",
       "      <th>image_run_date_amount</th>\n",
       "      <td>-0.055186</td>\n",
       "      <td>-0.080495</td>\n",
       "      <td>0.419459</td>\n",
       "      <td>1.000000</td>\n",
       "      <td>0.958143</td>\n",
       "      <td>0.922742</td>\n",
       "      <td>0.816295</td>\n",
       "      <td>0.670385</td>\n",
       "      <td>0.026974</td>\n",
       "      <td>-0.181488</td>\n",
       "      <td>0.015859</td>\n",
       "      <td>0.012250</td>\n",
       "      <td>-0.053935</td>\n",
       "      <td>0.079304</td>\n",
       "      <td>0.103417</td>\n",
       "      <td>0.083727</td>\n",
       "      <td>-0.053553</td>\n",
       "      <td>0.853904</td>\n",
       "      <td>0.345179</td>\n",
       "    </tr>\n",
       "    <tr>\n",
       "      <th>image_create_role_pay_num</th>\n",
       "      <td>-0.085418</td>\n",
       "      <td>-0.113598</td>\n",
       "      <td>0.369976</td>\n",
       "      <td>0.958143</td>\n",
       "      <td>1.000000</td>\n",
       "      <td>0.934640</td>\n",
       "      <td>0.832869</td>\n",
       "      <td>0.579117</td>\n",
       "      <td>0.073067</td>\n",
       "      <td>-0.177339</td>\n",
       "      <td>-0.133051</td>\n",
       "      <td>0.062793</td>\n",
       "      <td>-0.006961</td>\n",
       "      <td>0.099770</td>\n",
       "      <td>0.138178</td>\n",
       "      <td>0.100666</td>\n",
       "      <td>-0.033597</td>\n",
       "      <td>0.839784</td>\n",
       "      <td>0.344498</td>\n",
       "    </tr>\n",
       "    <tr>\n",
       "      <th>image_create_role_num</th>\n",
       "      <td>-0.092927</td>\n",
       "      <td>-0.092468</td>\n",
       "      <td>0.345036</td>\n",
       "      <td>0.922742</td>\n",
       "      <td>0.934640</td>\n",
       "      <td>1.000000</td>\n",
       "      <td>0.772589</td>\n",
       "      <td>0.547509</td>\n",
       "      <td>-0.013826</td>\n",
       "      <td>-0.199702</td>\n",
       "      <td>-0.049610</td>\n",
       "      <td>0.000038</td>\n",
       "      <td>-0.043332</td>\n",
       "      <td>0.067530</td>\n",
       "      <td>0.090775</td>\n",
       "      <td>0.069419</td>\n",
       "      <td>-0.074765</td>\n",
       "      <td>0.810989</td>\n",
       "      <td>0.302194</td>\n",
       "    </tr>\n",
       "    <tr>\n",
       "      <th>image_create_role_pay_sum</th>\n",
       "      <td>-0.065774</td>\n",
       "      <td>-0.097093</td>\n",
       "      <td>0.319439</td>\n",
       "      <td>0.816295</td>\n",
       "      <td>0.832869</td>\n",
       "      <td>0.772589</td>\n",
       "      <td>1.000000</td>\n",
       "      <td>0.498584</td>\n",
       "      <td>0.054695</td>\n",
       "      <td>-0.136730</td>\n",
       "      <td>-0.088827</td>\n",
       "      <td>0.047268</td>\n",
       "      <td>-0.016170</td>\n",
       "      <td>0.151623</td>\n",
       "      <td>0.104371</td>\n",
       "      <td>0.281784</td>\n",
       "      <td>-0.028801</td>\n",
       "      <td>0.818142</td>\n",
       "      <td>0.371247</td>\n",
       "    </tr>\n",
       "    <tr>\n",
       "      <th>image_source_num</th>\n",
       "      <td>0.011593</td>\n",
       "      <td>0.015148</td>\n",
       "      <td>0.475499</td>\n",
       "      <td>0.670385</td>\n",
       "      <td>0.579117</td>\n",
       "      <td>0.547509</td>\n",
       "      <td>0.498584</td>\n",
       "      <td>1.000000</td>\n",
       "      <td>0.051931</td>\n",
       "      <td>-0.144578</td>\n",
       "      <td>0.101048</td>\n",
       "      <td>0.042476</td>\n",
       "      <td>-0.077616</td>\n",
       "      <td>0.034934</td>\n",
       "      <td>0.046696</td>\n",
       "      <td>0.079703</td>\n",
       "      <td>-0.016766</td>\n",
       "      <td>0.579624</td>\n",
       "      <td>0.328680</td>\n",
       "    </tr>\n",
       "    <tr>\n",
       "      <th>image_create_role_pay_rate</th>\n",
       "      <td>0.027013</td>\n",
       "      <td>-0.104226</td>\n",
       "      <td>0.029432</td>\n",
       "      <td>0.026974</td>\n",
       "      <td>0.073067</td>\n",
       "      <td>-0.013826</td>\n",
       "      <td>0.054695</td>\n",
       "      <td>0.051931</td>\n",
       "      <td>1.000000</td>\n",
       "      <td>0.148385</td>\n",
       "      <td>-0.359838</td>\n",
       "      <td>0.253572</td>\n",
       "      <td>0.355359</td>\n",
       "      <td>0.057588</td>\n",
       "      <td>0.097011</td>\n",
       "      <td>0.230147</td>\n",
       "      <td>0.284540</td>\n",
       "      <td>0.035769</td>\n",
       "      <td>0.160379</td>\n",
       "    </tr>\n",
       "    <tr>\n",
       "      <th>image_create_role_cost</th>\n",
       "      <td>0.256907</td>\n",
       "      <td>-0.029620</td>\n",
       "      <td>-0.153713</td>\n",
       "      <td>-0.181488</td>\n",
       "      <td>-0.177339</td>\n",
       "      <td>-0.199702</td>\n",
       "      <td>-0.136730</td>\n",
       "      <td>-0.144578</td>\n",
       "      <td>0.148385</td>\n",
       "      <td>1.000000</td>\n",
       "      <td>0.066019</td>\n",
       "      <td>-0.007380</td>\n",
       "      <td>-0.013614</td>\n",
       "      <td>-0.024204</td>\n",
       "      <td>-0.038168</td>\n",
       "      <td>-0.043331</td>\n",
       "      <td>0.230048</td>\n",
       "      <td>-0.160243</td>\n",
       "      <td>-0.186280</td>\n",
       "    </tr>\n",
       "    <tr>\n",
       "      <th>image_create_role_pay_cost</th>\n",
       "      <td>0.151194</td>\n",
       "      <td>0.122868</td>\n",
       "      <td>0.049719</td>\n",
       "      <td>0.015859</td>\n",
       "      <td>-0.133051</td>\n",
       "      <td>-0.049610</td>\n",
       "      <td>-0.088827</td>\n",
       "      <td>0.101048</td>\n",
       "      <td>-0.359838</td>\n",
       "      <td>0.066019</td>\n",
       "      <td>1.000000</td>\n",
       "      <td>-0.168689</td>\n",
       "      <td>-0.255951</td>\n",
       "      <td>-0.049940</td>\n",
       "      <td>-0.087995</td>\n",
       "      <td>-0.115050</td>\n",
       "      <td>-0.165862</td>\n",
       "      <td>-0.052235</td>\n",
       "      <td>-0.121952</td>\n",
       "    </tr>\n",
       "    <tr>\n",
       "      <th>image_valid_source_num</th>\n",
       "      <td>-0.015352</td>\n",
       "      <td>-0.034591</td>\n",
       "      <td>0.029067</td>\n",
       "      <td>0.012250</td>\n",
       "      <td>0.062793</td>\n",
       "      <td>0.000038</td>\n",
       "      <td>0.047268</td>\n",
       "      <td>0.042476</td>\n",
       "      <td>0.253572</td>\n",
       "      <td>-0.007380</td>\n",
       "      <td>-0.168689</td>\n",
       "      <td>1.000000</td>\n",
       "      <td>0.555745</td>\n",
       "      <td>0.086682</td>\n",
       "      <td>0.130429</td>\n",
       "      <td>0.091893</td>\n",
       "      <td>0.083185</td>\n",
       "      <td>0.033898</td>\n",
       "      <td>0.113324</td>\n",
       "    </tr>\n",
       "    <tr>\n",
       "      <th>image_valid_source_rate</th>\n",
       "      <td>-0.039393</td>\n",
       "      <td>-0.058201</td>\n",
       "      <td>-0.020918</td>\n",
       "      <td>-0.053935</td>\n",
       "      <td>-0.006961</td>\n",
       "      <td>-0.043332</td>\n",
       "      <td>-0.016170</td>\n",
       "      <td>-0.077616</td>\n",
       "      <td>0.355359</td>\n",
       "      <td>-0.013614</td>\n",
       "      <td>-0.255951</td>\n",
       "      <td>0.555745</td>\n",
       "      <td>1.000000</td>\n",
       "      <td>0.085038</td>\n",
       "      <td>0.165500</td>\n",
       "      <td>0.094240</td>\n",
       "      <td>0.115604</td>\n",
       "      <td>-0.024166</td>\n",
       "      <td>0.095157</td>\n",
       "    </tr>\n",
       "    <tr>\n",
       "      <th>image_pay_sum_ability</th>\n",
       "      <td>-0.025355</td>\n",
       "      <td>-0.033793</td>\n",
       "      <td>0.036254</td>\n",
       "      <td>0.079304</td>\n",
       "      <td>0.099770</td>\n",
       "      <td>0.067530</td>\n",
       "      <td>0.151623</td>\n",
       "      <td>0.034934</td>\n",
       "      <td>0.057588</td>\n",
       "      <td>-0.024204</td>\n",
       "      <td>-0.049940</td>\n",
       "      <td>0.086682</td>\n",
       "      <td>0.085038</td>\n",
       "      <td>1.000000</td>\n",
       "      <td>0.739300</td>\n",
       "      <td>0.149396</td>\n",
       "      <td>0.010660</td>\n",
       "      <td>0.105142</td>\n",
       "      <td>0.090235</td>\n",
       "    </tr>\n",
       "    <tr>\n",
       "      <th>image_pay_num_ability</th>\n",
       "      <td>-0.034929</td>\n",
       "      <td>-0.043522</td>\n",
       "      <td>0.052949</td>\n",
       "      <td>0.103417</td>\n",
       "      <td>0.138178</td>\n",
       "      <td>0.090775</td>\n",
       "      <td>0.104371</td>\n",
       "      <td>0.046696</td>\n",
       "      <td>0.097011</td>\n",
       "      <td>-0.038168</td>\n",
       "      <td>-0.087995</td>\n",
       "      <td>0.130429</td>\n",
       "      <td>0.165500</td>\n",
       "      <td>0.739300</td>\n",
       "      <td>1.000000</td>\n",
       "      <td>0.046486</td>\n",
       "      <td>0.018346</td>\n",
       "      <td>0.098103</td>\n",
       "      <td>0.077382</td>\n",
       "    </tr>\n",
       "    <tr>\n",
       "      <th>image_create_role_roi</th>\n",
       "      <td>-0.028353</td>\n",
       "      <td>-0.053883</td>\n",
       "      <td>0.054245</td>\n",
       "      <td>0.083727</td>\n",
       "      <td>0.100666</td>\n",
       "      <td>0.069419</td>\n",
       "      <td>0.281784</td>\n",
       "      <td>0.079703</td>\n",
       "      <td>0.230147</td>\n",
       "      <td>-0.043331</td>\n",
       "      <td>-0.115050</td>\n",
       "      <td>0.091893</td>\n",
       "      <td>0.094240</td>\n",
       "      <td>0.149396</td>\n",
       "      <td>0.046486</td>\n",
       "      <td>1.000000</td>\n",
       "      <td>0.041910</td>\n",
       "      <td>0.163120</td>\n",
       "      <td>0.257856</td>\n",
       "    </tr>\n",
       "    <tr>\n",
       "      <th>image_create_role_retain_1d</th>\n",
       "      <td>-0.014473</td>\n",
       "      <td>-0.162905</td>\n",
       "      <td>0.039253</td>\n",
       "      <td>-0.053553</td>\n",
       "      <td>-0.033597</td>\n",
       "      <td>-0.074765</td>\n",
       "      <td>-0.028801</td>\n",
       "      <td>-0.016766</td>\n",
       "      <td>0.284540</td>\n",
       "      <td>0.230048</td>\n",
       "      <td>-0.165862</td>\n",
       "      <td>0.083185</td>\n",
       "      <td>0.115604</td>\n",
       "      <td>0.010660</td>\n",
       "      <td>0.018346</td>\n",
       "      <td>0.041910</td>\n",
       "      <td>1.000000</td>\n",
       "      <td>-0.041096</td>\n",
       "      <td>0.039782</td>\n",
       "    </tr>\n",
       "    <tr>\n",
       "      <th>create_role_30_pay_sum</th>\n",
       "      <td>-0.050358</td>\n",
       "      <td>-0.069586</td>\n",
       "      <td>0.385209</td>\n",
       "      <td>0.853904</td>\n",
       "      <td>0.839784</td>\n",
       "      <td>0.810989</td>\n",
       "      <td>0.818142</td>\n",
       "      <td>0.579624</td>\n",
       "      <td>0.035769</td>\n",
       "      <td>-0.160243</td>\n",
       "      <td>-0.052235</td>\n",
       "      <td>0.033898</td>\n",
       "      <td>-0.024166</td>\n",
       "      <td>0.105142</td>\n",
       "      <td>0.098103</td>\n",
       "      <td>0.163120</td>\n",
       "      <td>-0.041096</td>\n",
       "      <td>1.000000</td>\n",
       "      <td>0.498391</td>\n",
       "    </tr>\n",
       "    <tr>\n",
       "      <th>label</th>\n",
       "      <td>-0.063571</td>\n",
       "      <td>-0.075732</td>\n",
       "      <td>0.256759</td>\n",
       "      <td>0.345179</td>\n",
       "      <td>0.344498</td>\n",
       "      <td>0.302194</td>\n",
       "      <td>0.371247</td>\n",
       "      <td>0.328680</td>\n",
       "      <td>0.160379</td>\n",
       "      <td>-0.186280</td>\n",
       "      <td>-0.121952</td>\n",
       "      <td>0.113324</td>\n",
       "      <td>0.095157</td>\n",
       "      <td>0.090235</td>\n",
       "      <td>0.077382</td>\n",
       "      <td>0.257856</td>\n",
       "      <td>0.039782</td>\n",
       "      <td>0.498391</td>\n",
       "      <td>1.000000</td>\n",
       "    </tr>\n",
       "  </tbody>\n",
       "</table>\n",
       "</div>"
      ],
      "text/plain": [
       "                             image_id  media_id  image_source_total_num  \\\n",
       "image_id                     1.000000  0.083278               -0.211063   \n",
       "media_id                     0.083278  1.000000                0.038098   \n",
       "image_source_total_num      -0.211063  0.038098                1.000000   \n",
       "image_run_date_amount       -0.055186 -0.080495                0.419459   \n",
       "image_create_role_pay_num   -0.085418 -0.113598                0.369976   \n",
       "image_create_role_num       -0.092927 -0.092468                0.345036   \n",
       "image_create_role_pay_sum   -0.065774 -0.097093                0.319439   \n",
       "image_source_num             0.011593  0.015148                0.475499   \n",
       "image_create_role_pay_rate   0.027013 -0.104226                0.029432   \n",
       "image_create_role_cost       0.256907 -0.029620               -0.153713   \n",
       "image_create_role_pay_cost   0.151194  0.122868                0.049719   \n",
       "image_valid_source_num      -0.015352 -0.034591                0.029067   \n",
       "image_valid_source_rate     -0.039393 -0.058201               -0.020918   \n",
       "image_pay_sum_ability       -0.025355 -0.033793                0.036254   \n",
       "image_pay_num_ability       -0.034929 -0.043522                0.052949   \n",
       "image_create_role_roi       -0.028353 -0.053883                0.054245   \n",
       "image_create_role_retain_1d -0.014473 -0.162905                0.039253   \n",
       "create_role_30_pay_sum      -0.050358 -0.069586                0.385209   \n",
       "label                       -0.063571 -0.075732                0.256759   \n",
       "\n",
       "                             image_run_date_amount  image_create_role_pay_num  \\\n",
       "image_id                                 -0.055186                  -0.085418   \n",
       "media_id                                 -0.080495                  -0.113598   \n",
       "image_source_total_num                    0.419459                   0.369976   \n",
       "image_run_date_amount                     1.000000                   0.958143   \n",
       "image_create_role_pay_num                 0.958143                   1.000000   \n",
       "image_create_role_num                     0.922742                   0.934640   \n",
       "image_create_role_pay_sum                 0.816295                   0.832869   \n",
       "image_source_num                          0.670385                   0.579117   \n",
       "image_create_role_pay_rate                0.026974                   0.073067   \n",
       "image_create_role_cost                   -0.181488                  -0.177339   \n",
       "image_create_role_pay_cost                0.015859                  -0.133051   \n",
       "image_valid_source_num                    0.012250                   0.062793   \n",
       "image_valid_source_rate                  -0.053935                  -0.006961   \n",
       "image_pay_sum_ability                     0.079304                   0.099770   \n",
       "image_pay_num_ability                     0.103417                   0.138178   \n",
       "image_create_role_roi                     0.083727                   0.100666   \n",
       "image_create_role_retain_1d              -0.053553                  -0.033597   \n",
       "create_role_30_pay_sum                    0.853904                   0.839784   \n",
       "label                                     0.345179                   0.344498   \n",
       "\n",
       "                             image_create_role_num  image_create_role_pay_sum  \\\n",
       "image_id                                 -0.092927                  -0.065774   \n",
       "media_id                                 -0.092468                  -0.097093   \n",
       "image_source_total_num                    0.345036                   0.319439   \n",
       "image_run_date_amount                     0.922742                   0.816295   \n",
       "image_create_role_pay_num                 0.934640                   0.832869   \n",
       "image_create_role_num                     1.000000                   0.772589   \n",
       "image_create_role_pay_sum                 0.772589                   1.000000   \n",
       "image_source_num                          0.547509                   0.498584   \n",
       "image_create_role_pay_rate               -0.013826                   0.054695   \n",
       "image_create_role_cost                   -0.199702                  -0.136730   \n",
       "image_create_role_pay_cost               -0.049610                  -0.088827   \n",
       "image_valid_source_num                    0.000038                   0.047268   \n",
       "image_valid_source_rate                  -0.043332                  -0.016170   \n",
       "image_pay_sum_ability                     0.067530                   0.151623   \n",
       "image_pay_num_ability                     0.090775                   0.104371   \n",
       "image_create_role_roi                     0.069419                   0.281784   \n",
       "image_create_role_retain_1d              -0.074765                  -0.028801   \n",
       "create_role_30_pay_sum                    0.810989                   0.818142   \n",
       "label                                     0.302194                   0.371247   \n",
       "\n",
       "                             image_source_num  image_create_role_pay_rate  \\\n",
       "image_id                             0.011593                    0.027013   \n",
       "media_id                             0.015148                   -0.104226   \n",
       "image_source_total_num               0.475499                    0.029432   \n",
       "image_run_date_amount                0.670385                    0.026974   \n",
       "image_create_role_pay_num            0.579117                    0.073067   \n",
       "image_create_role_num                0.547509                   -0.013826   \n",
       "image_create_role_pay_sum            0.498584                    0.054695   \n",
       "image_source_num                     1.000000                    0.051931   \n",
       "image_create_role_pay_rate           0.051931                    1.000000   \n",
       "image_create_role_cost              -0.144578                    0.148385   \n",
       "image_create_role_pay_cost           0.101048                   -0.359838   \n",
       "image_valid_source_num               0.042476                    0.253572   \n",
       "image_valid_source_rate             -0.077616                    0.355359   \n",
       "image_pay_sum_ability                0.034934                    0.057588   \n",
       "image_pay_num_ability                0.046696                    0.097011   \n",
       "image_create_role_roi                0.079703                    0.230147   \n",
       "image_create_role_retain_1d         -0.016766                    0.284540   \n",
       "create_role_30_pay_sum               0.579624                    0.035769   \n",
       "label                                0.328680                    0.160379   \n",
       "\n",
       "                             image_create_role_cost  \\\n",
       "image_id                                   0.256907   \n",
       "media_id                                  -0.029620   \n",
       "image_source_total_num                    -0.153713   \n",
       "image_run_date_amount                     -0.181488   \n",
       "image_create_role_pay_num                 -0.177339   \n",
       "image_create_role_num                     -0.199702   \n",
       "image_create_role_pay_sum                 -0.136730   \n",
       "image_source_num                          -0.144578   \n",
       "image_create_role_pay_rate                 0.148385   \n",
       "image_create_role_cost                     1.000000   \n",
       "image_create_role_pay_cost                 0.066019   \n",
       "image_valid_source_num                    -0.007380   \n",
       "image_valid_source_rate                   -0.013614   \n",
       "image_pay_sum_ability                     -0.024204   \n",
       "image_pay_num_ability                     -0.038168   \n",
       "image_create_role_roi                     -0.043331   \n",
       "image_create_role_retain_1d                0.230048   \n",
       "create_role_30_pay_sum                    -0.160243   \n",
       "label                                     -0.186280   \n",
       "\n",
       "                             image_create_role_pay_cost  \\\n",
       "image_id                                       0.151194   \n",
       "media_id                                       0.122868   \n",
       "image_source_total_num                         0.049719   \n",
       "image_run_date_amount                          0.015859   \n",
       "image_create_role_pay_num                     -0.133051   \n",
       "image_create_role_num                         -0.049610   \n",
       "image_create_role_pay_sum                     -0.088827   \n",
       "image_source_num                               0.101048   \n",
       "image_create_role_pay_rate                    -0.359838   \n",
       "image_create_role_cost                         0.066019   \n",
       "image_create_role_pay_cost                     1.000000   \n",
       "image_valid_source_num                        -0.168689   \n",
       "image_valid_source_rate                       -0.255951   \n",
       "image_pay_sum_ability                         -0.049940   \n",
       "image_pay_num_ability                         -0.087995   \n",
       "image_create_role_roi                         -0.115050   \n",
       "image_create_role_retain_1d                   -0.165862   \n",
       "create_role_30_pay_sum                        -0.052235   \n",
       "label                                         -0.121952   \n",
       "\n",
       "                             image_valid_source_num  image_valid_source_rate  \\\n",
       "image_id                                  -0.015352                -0.039393   \n",
       "media_id                                  -0.034591                -0.058201   \n",
       "image_source_total_num                     0.029067                -0.020918   \n",
       "image_run_date_amount                      0.012250                -0.053935   \n",
       "image_create_role_pay_num                  0.062793                -0.006961   \n",
       "image_create_role_num                      0.000038                -0.043332   \n",
       "image_create_role_pay_sum                  0.047268                -0.016170   \n",
       "image_source_num                           0.042476                -0.077616   \n",
       "image_create_role_pay_rate                 0.253572                 0.355359   \n",
       "image_create_role_cost                    -0.007380                -0.013614   \n",
       "image_create_role_pay_cost                -0.168689                -0.255951   \n",
       "image_valid_source_num                     1.000000                 0.555745   \n",
       "image_valid_source_rate                    0.555745                 1.000000   \n",
       "image_pay_sum_ability                      0.086682                 0.085038   \n",
       "image_pay_num_ability                      0.130429                 0.165500   \n",
       "image_create_role_roi                      0.091893                 0.094240   \n",
       "image_create_role_retain_1d                0.083185                 0.115604   \n",
       "create_role_30_pay_sum                     0.033898                -0.024166   \n",
       "label                                      0.113324                 0.095157   \n",
       "\n",
       "                             image_pay_sum_ability  image_pay_num_ability  \\\n",
       "image_id                                 -0.025355              -0.034929   \n",
       "media_id                                 -0.033793              -0.043522   \n",
       "image_source_total_num                    0.036254               0.052949   \n",
       "image_run_date_amount                     0.079304               0.103417   \n",
       "image_create_role_pay_num                 0.099770               0.138178   \n",
       "image_create_role_num                     0.067530               0.090775   \n",
       "image_create_role_pay_sum                 0.151623               0.104371   \n",
       "image_source_num                          0.034934               0.046696   \n",
       "image_create_role_pay_rate                0.057588               0.097011   \n",
       "image_create_role_cost                   -0.024204              -0.038168   \n",
       "image_create_role_pay_cost               -0.049940              -0.087995   \n",
       "image_valid_source_num                    0.086682               0.130429   \n",
       "image_valid_source_rate                   0.085038               0.165500   \n",
       "image_pay_sum_ability                     1.000000               0.739300   \n",
       "image_pay_num_ability                     0.739300               1.000000   \n",
       "image_create_role_roi                     0.149396               0.046486   \n",
       "image_create_role_retain_1d               0.010660               0.018346   \n",
       "create_role_30_pay_sum                    0.105142               0.098103   \n",
       "label                                     0.090235               0.077382   \n",
       "\n",
       "                             image_create_role_roi  \\\n",
       "image_id                                 -0.028353   \n",
       "media_id                                 -0.053883   \n",
       "image_source_total_num                    0.054245   \n",
       "image_run_date_amount                     0.083727   \n",
       "image_create_role_pay_num                 0.100666   \n",
       "image_create_role_num                     0.069419   \n",
       "image_create_role_pay_sum                 0.281784   \n",
       "image_source_num                          0.079703   \n",
       "image_create_role_pay_rate                0.230147   \n",
       "image_create_role_cost                   -0.043331   \n",
       "image_create_role_pay_cost               -0.115050   \n",
       "image_valid_source_num                    0.091893   \n",
       "image_valid_source_rate                   0.094240   \n",
       "image_pay_sum_ability                     0.149396   \n",
       "image_pay_num_ability                     0.046486   \n",
       "image_create_role_roi                     1.000000   \n",
       "image_create_role_retain_1d               0.041910   \n",
       "create_role_30_pay_sum                    0.163120   \n",
       "label                                     0.257856   \n",
       "\n",
       "                             image_create_role_retain_1d  \\\n",
       "image_id                                       -0.014473   \n",
       "media_id                                       -0.162905   \n",
       "image_source_total_num                          0.039253   \n",
       "image_run_date_amount                          -0.053553   \n",
       "image_create_role_pay_num                      -0.033597   \n",
       "image_create_role_num                          -0.074765   \n",
       "image_create_role_pay_sum                      -0.028801   \n",
       "image_source_num                               -0.016766   \n",
       "image_create_role_pay_rate                      0.284540   \n",
       "image_create_role_cost                          0.230048   \n",
       "image_create_role_pay_cost                     -0.165862   \n",
       "image_valid_source_num                          0.083185   \n",
       "image_valid_source_rate                         0.115604   \n",
       "image_pay_sum_ability                           0.010660   \n",
       "image_pay_num_ability                           0.018346   \n",
       "image_create_role_roi                           0.041910   \n",
       "image_create_role_retain_1d                     1.000000   \n",
       "create_role_30_pay_sum                         -0.041096   \n",
       "label                                           0.039782   \n",
       "\n",
       "                             create_role_30_pay_sum     label  \n",
       "image_id                                  -0.050358 -0.063571  \n",
       "media_id                                  -0.069586 -0.075732  \n",
       "image_source_total_num                     0.385209  0.256759  \n",
       "image_run_date_amount                      0.853904  0.345179  \n",
       "image_create_role_pay_num                  0.839784  0.344498  \n",
       "image_create_role_num                      0.810989  0.302194  \n",
       "image_create_role_pay_sum                  0.818142  0.371247  \n",
       "image_source_num                           0.579624  0.328680  \n",
       "image_create_role_pay_rate                 0.035769  0.160379  \n",
       "image_create_role_cost                    -0.160243 -0.186280  \n",
       "image_create_role_pay_cost                -0.052235 -0.121952  \n",
       "image_valid_source_num                     0.033898  0.113324  \n",
       "image_valid_source_rate                   -0.024166  0.095157  \n",
       "image_pay_sum_ability                      0.105142  0.090235  \n",
       "image_pay_num_ability                      0.098103  0.077382  \n",
       "image_create_role_roi                      0.163120  0.257856  \n",
       "image_create_role_retain_1d               -0.041096  0.039782  \n",
       "create_role_30_pay_sum                     1.000000  0.498391  \n",
       "label                                      0.498391  1.000000  "
      ]
     },
     "execution_count": 29,
     "metadata": {},
     "output_type": "execute_result"
    }
   ],
   "source": [
    "#多变量分析\n",
    "image_info_label.corr()"
   ]
  },
  {
   "cell_type": "code",
   "execution_count": 242,
   "metadata": {},
   "outputs": [],
   "source": [
    "image_info_label_10 = image_info_label[image_info_label['media_id']==10]\n",
    "image_info_label_16 = image_info_label[image_info_label['media_id']==16]"
   ]
  },
  {
   "cell_type": "markdown",
   "metadata": {},
   "source": [
    "## 头条"
   ]
  },
  {
   "cell_type": "code",
   "execution_count": 243,
   "metadata": {},
   "outputs": [],
   "source": [
    "#特征选择,woe分箱\n",
    "from scipy import stats\n",
    "def monoto_bin(Y, X, n = 20):\n",
    "    r = 0\n",
    "    total_bad = Y.sum()\n",
    "    total_good =Y.count()-total_bad  \n",
    "    while np.abs(r) < 0.9:\n",
    "        d1 = pd.DataFrame({\"X\": X, \"Y\": Y, \"Bucket\": pd.qcut(X, n,duplicates='raise')})\n",
    "        d2 = d1.groupby('Bucket', as_index = True)\n",
    "        r, p = stats.spearmanr(d2.mean().X, d2.mean().Y)\n",
    "        n = n - 1\n",
    "#     print(r)\n",
    "#     print(n)\n",
    "    d3 = pd.DataFrame(d2.min().X, columns = ['min_' + X.name])\n",
    "    d3['min_' + X.name] = d2.min().X\n",
    "    d3['max_' + X.name] = d2.max().X\n",
    "    d3[Y.name] = d2.sum().Y\n",
    "    d3['total'] = d2.count().Y\n",
    "    #d3[Y.name + '_rate'] = d2.mean().Y\n",
    "    d3['badattr']=d3[Y.name]/total_bad\n",
    "    d3['goodattr']=(d3['total']-d3[Y.name])/total_good\n",
    "    d3['woe'] = np.log(d3['goodattr']/d3['badattr'])\n",
    "    iv = ((d3['goodattr']-d3['badattr'])*d3['woe']).sum()\n",
    "    d4 = (d3.sort_values(by = 'min_' + X.name)).reset_index(drop = True)\n",
    "    print (\"=\" * 80)\n",
    "    cut = []\n",
    "    cut.append(float('-inf'))\n",
    "    for i in range(1,n+1):\n",
    "        qua =X.quantile(i/(n+1))\n",
    "        cut.append(round(qua,4))\n",
    "    cut.append(float('inf'))\n",
    "    woe = list(d4['woe'].round(3))\n",
    "    return d4,iv,cut,woe"
   ]
  },
  {
   "cell_type": "code",
   "execution_count": 244,
   "metadata": {},
   "outputs": [
    {
     "name": "stdout",
     "output_type": "stream",
     "text": [
      "================================================================================\n",
      "================================================================================\n",
      "================================================================================\n"
     ]
    }
   ],
   "source": [
    "dfx1,ivx1,cutx1,woex1 = monoto_bin(image_info_label_10['label'],image_info_label_10['image_run_date_amount'],n=10)\n",
    "# dfx2,ivx2,cutx2,woex2 = monoto_bin(image_info_label['label'],image_info_label['image_create_role_pay_num'],n=10)\n",
    "dfx3,ivx3,cutx3,woex3 = monoto_bin(image_info_label_10['label'],image_info_label_10['image_create_role_num'],n=10)\n",
    "# dfx4,ivx4,cutx4,woex4 = monoto_bin(image_info_label['label'],image_info_label['image_create_role_pay_sum'],n=10)\n",
    "# dfx5,ivx5,cutx5,woex5 = monoto_bin(image_info_label['label'],image_info_label['image_source_num'],n=10)\n",
    "# dfx6,ivx6,cutx6,woex6 = monoto_bin(image_info_label['label'],image_info_label['image_create_role_pay_rate'],n=10)\n",
    "dfx7,ivx7,cutx7,woex7 = monoto_bin(image_info_label_10['label'],image_info_label_10['image_create_role_cost'],n=10)\n",
    "# dfx8,ivx8,cutx8,woex8 = monoto_bin(image_info_label['label'],image_info_label['image_create_role_pay_cost'],n=10)\n",
    "# dfx9,ivx9,cutx9,woex9 = monoto_bin(image_info_label['label'],image_info_label['image_valid_source_rate'],n=10)\n",
    "# dfx10,ivx10,cutx10,woex10 = monoto_bin(image_info_label['label'],image_info_label['image_pay_sum_ability'],n=10)\n",
    "# dfx11,ivx11,cutx11,woex11 = monoto_bin(image_info_label['label'],image_info_label['image_pay_num_ability'],n=10)\n",
    "# dfx12,ivx12,cutx12,woex12 = monoto_bin(image_info_label['label'],image_info_label['image_create_role_roi'],n=10)\n",
    "# dfx13,ivx13,cutx13,woex13 = monoto_bin(image_info_label['label'],image_info_label['image_create_role_retain_1d'],n=10)"
   ]
  },
  {
   "cell_type": "code",
   "execution_count": 245,
   "metadata": {
    "scrolled": true
   },
   "outputs": [
    {
     "name": "stdout",
     "output_type": "stream",
     "text": [
      "[1.435, 1.089, 1.022, 0.69, 0.482, 0.235, -0.039, -0.448, -0.889, -1.964]\n"
     ]
    },
    {
     "data": {
      "image/png": "[encoded data removed]",
      "text/plain": [
       "<Figure size 432x288 with 1 Axes>"
      ]
     },
     "metadata": {
      "needs_background": "light"
     },
     "output_type": "display_data"
    },
    {
     "name": "stdout",
     "output_type": "stream",
     "text": [
      "[1.722, 1.294, 0.938, 0.795, 0.416, 0.231, -0.139, -0.437, -0.833, -2.205]\n"
     ]
    },
    {
     "data": {
      "image/png": "[encoded data removed]",
      "text/plain": [
       "<Figure size 432x288 with 1 Axes>"
      ]
     },
     "metadata": {
      "needs_background": "light"
     },
     "output_type": "display_data"
    },
    {
     "name": "stdout",
     "output_type": "stream",
     "text": [
      "[-0.884, -0.838, -0.547, -0.243, 0.148, 0.308, 0.401, 0.438, 0.839, 1.434]\n"
     ]
    },
    {
     "data": {
      "image/png": "[encoded data removed]",
      "text/plain": [
       "<Figure size 432x288 with 1 Axes>"
      ]
     },
     "metadata": {
      "needs_background": "light"
     },
     "output_type": "display_data"
    }
   ],
   "source": [
    "woex = [woex1,woex3,woex7]\n",
    "for col in woex:\n",
    "    print('{}'.format(col))\n",
    "    plt.bar(range(len(col)),col)\n",
    "    plt.show()"
   ]
  },
  {
   "cell_type": "code",
   "execution_count": 246,
   "metadata": {},
   "outputs": [],
   "source": [
    "def self_bin(Y, X, bin):\n",
    "    r = 0\n",
    "    total_bad = Y.sum()\n",
    "    total_good =Y.count()-total_bad  \n",
    "    d1 = pd.DataFrame({\"X\": X, \"Y\": Y, \"Bucket\": pd.cut(X, bin)})\n",
    "    d2 = d1.groupby('Bucket', as_index = True)\n",
    "    r, p = stats.spearmanr(d2.mean().X, d2.mean().Y)\n",
    "        \n",
    "    d3 = pd.DataFrame(d2.min().X, columns = ['min_' + X.name])\n",
    "    d3['min_' + X.name] = d2.min().X\n",
    "    d3['max_' + X.name] = d2.max().X\n",
    "    d3[Y.name] = d2.sum().Y\n",
    "    d3['total'] = d2.count().Y\n",
    "    #d3[Y.name + '_rate'] = d2.mean().Y\n",
    "    #好坏比，求woe,证据权重，自变量对目标变量有没有影响，什么影响\n",
    "    d3['badattr']=d3[Y.name]/total_bad\n",
    "    d3['goodattr']=(d3['total']-d3[Y.name])/total_good\n",
    "    d3['woe'] = np.log(d3['goodattr']/d3['badattr'])\n",
    "    #iv，信息值，自变量对于目标变量的影响程度\n",
    "    iv = ((d3['goodattr']-d3['badattr'])*d3['woe']).sum()\n",
    "    d4 = (d3.sort_values(by = 'min_' + X.name)).reset_index(drop = True)\n",
    "    print (\"=\" * 80)\n",
    "#     print (d4)\n",
    "    woe = list(d4['woe'].round(3))\n",
    "    return d4,iv,woe"
   ]
  },
  {
   "cell_type": "code",
   "execution_count": 247,
   "metadata": {},
   "outputs": [],
   "source": [
    "pinf = float('inf')#正无穷大\n",
    "ninf = float('-inf')#负无穷大\n",
    "cutx2 = [ninf, 1, 3, 8, 12,50,pinf]\n",
    "cutx4 = [ninf,60,200,700,2000,5000,10000,pinf]\n",
    "cutx5 = [ninf,3,6,12,20,50,pinf]\n",
    "cutx6 = [ninf,0.005,0.01,0.015,0.02,pinf]\n",
    "cutx8 = [ninf, 2000,3000,4000,5000,6000,7000,8000,9000,10000,11000,13000,pinf]\n",
    "cutx9 = [ninf, 0.1, 0.2, 0.3, 0.4,0.6,pinf]\n",
    "cutx10 = [ninf, 50,100,200, 400,1000, pinf]\n",
    "cutx11 = [ninf, 1,2,5,10,20,pinf]\n",
    "cutx12 = [ninf, 0.005,0.01,0.015,0.02,0.025,0.05,pinf]\n",
    "cutx13 = [ninf, 0.06,0.1,0.14,0.2,0.3,pinf]"
   ]
  },
  {
   "cell_type": "code",
   "execution_count": 248,
   "metadata": {
    "scrolled": true
   },
   "outputs": [
    {
     "data": {
      "text/plain": [
       "count    18386.000000\n",
       "mean         4.804090\n",
       "std         14.132926\n",
       "min          0.000000\n",
       "25%          0.000000\n",
       "50%          1.000000\n",
       "75%          4.000000\n",
       "max        374.000000\n",
       "Name: image_create_role_pay_num, dtype: float64"
      ]
     },
     "execution_count": 248,
     "metadata": {},
     "output_type": "execute_result"
    }
   ],
   "source": [
    "image_info_label_10['image_create_role_pay_num'].describe()"
   ]
  },
  {
   "cell_type": "code",
   "execution_count": 249,
   "metadata": {},
   "outputs": [
    {
     "data": {
      "image/png": "[encoded data removed]",
      "text/plain": [
       "<Figure size 432x288 with 1 Axes>"
      ]
     },
     "metadata": {
      "needs_background": "light"
     },
     "output_type": "display_data"
    }
   ],
   "source": [
    "plt.hist(image_info_label_10['image_create_role_pay_num'],bins=50,range=(0,200))\n",
    "plt.show()"
   ]
  },
  {
   "cell_type": "code",
   "execution_count": 250,
   "metadata": {},
   "outputs": [
    {
     "name": "stdout",
     "output_type": "stream",
     "text": [
      "================================================================================\n",
      "================================================================================\n",
      "================================================================================\n",
      "================================================================================\n",
      "================================================================================\n",
      "================================================================================\n",
      "================================================================================\n",
      "================================================================================\n",
      "================================================================================\n",
      "================================================================================\n"
     ]
    }
   ],
   "source": [
    "dfx2,ivx2,woex2 = self_bin(image_info_label_10['label'],image_info_label_10['image_create_role_pay_num'],cutx2)\n",
    "dfx4,ivx4,woex4 = self_bin(image_info_label_10['label'],image_info_label_10['image_create_role_pay_sum'],cutx4)\n",
    "dfx5,ivx5,woex5 = self_bin(image_info_label_10['label'],image_info_label_10['image_source_num'],cutx5)\n",
    "dfx6,ivx6,woex6 = self_bin(image_info_label_10['label'],image_info_label_10['image_create_role_pay_rate'],cutx6)\n",
    "dfx8,ivx8,woex8 = self_bin(image_info_label_10['label'],image_info_label_10['image_create_role_pay_cost'],cutx8)\n",
    "dfx9,ivx9,woex9 = self_bin(image_info_label_10['label'],image_info_label_10['image_valid_source_rate'],cutx9)\n",
    "dfx10,ivx10,woex10 = self_bin(image_info_label_10['label'],image_info_label_10['image_pay_sum_ability'],cutx10)\n",
    "dfx11,ivx11,woex11 = self_bin(image_info_label_10['label'],image_info_label_10['image_pay_num_ability'],cutx11)\n",
    "dfx12,ivx12,woex12 = self_bin(image_info_label_10['label'],image_info_label_10['image_create_role_roi'],cutx12)\n",
    "dfx13,ivx13,woex13 = self_bin(image_info_label_10['label'],image_info_label_10['image_create_role_retain_1d'],cutx13)"
   ]
  },
  {
   "cell_type": "code",
   "execution_count": 251,
   "metadata": {},
   "outputs": [
    {
     "name": "stdout",
     "output_type": "stream",
     "text": [
      "woex1 = [1.435, 1.089, 1.022, 0.69, 0.482, 0.235, -0.039, -0.448, -0.889, -1.964]\n",
      "woex2 = [0.976, -0.289, -0.841, -1.291, -2.064, -4.637]\n",
      "woex3 = [1.722, 1.294, 0.938, 0.795, 0.416, 0.231, -0.139, -0.437, -0.833, -2.205]\n",
      "woex4 = [1.256, 0.193, -0.385, -1.136, -1.974, -3.272, -6.459]\n",
      "woex5 = [0.912, 0.54, 0.092, -0.113, -0.673, -1.549]\n",
      "woex6 = [1.331, -0.716, -1.089, -0.913, -0.427]\n",
      "woex7 = [-0.884, -0.838, -0.547, -0.243, 0.148, 0.308, 0.401, 0.438, 0.839, 1.434]\n",
      "woex8 = [-0.814, -0.797, -1.077, -0.895, -0.592, -0.538, -0.139, 0.176, -0.018, 0.149, 0.274, 1.349]\n",
      "woex9 = [0.075, -0.614, -0.509, -0.532, -0.653, -0.639]\n",
      "woex10 = [0.077, -0.515, -0.805, -1.287, -1.688, -2.357]\n",
      "woex11 = [0.036, -0.96, -1.064, -0.734, -2.161, -3.335]\n",
      "woex12 = [1.337, 0.463, 0.124, -0.027, -0.354, -0.786, -2.192]\n",
      "woex13 = [1.573, -0.551, -0.373, 0.568, 0.134, 0.286]\n"
     ]
    }
   ],
   "source": [
    "for i in range(1,14):\n",
    "    exec(\"print('woex%s =',woex%s)\"%(i,i))"
   ]
  },
  {
   "cell_type": "code",
   "execution_count": 252,
   "metadata": {},
   "outputs": [
    {
     "name": "stdout",
     "output_type": "stream",
     "text": [
      "cutx1 = [-inf, 990.07, 1721.34, 2746.47, 4010.32, 5905.07, 8916.98, 14199.12, 24469.77, 51776.725, inf]\n",
      "cutx2 = [-inf, 1, 3, 8, 12, 50, inf]\n",
      "cutx3 = [-inf, 5.0, 10.0, 18.0, 30.0, 50.0, 82.0, 141.0, 266.0, 686.5, inf]\n",
      "cutx4 = [-inf, 60, 200, 700, 2000, 5000, 10000, inf]\n",
      "cutx5 = [-inf, 3, 6, 12, 20, 50, inf]\n",
      "cutx6 = [-inf, 0.005, 0.01, 0.015, 0.02, inf]\n",
      "cutx7 = [-inf, 45.7377, 58.2912, 72.3133, 90.4782, 117.7922, 156.6485, 205.7806, 268.4223, 389.8428, inf]\n",
      "cutx8 = [-inf, 2000, 3000, 4000, 5000, 6000, 7000, 8000, 9000, 10000, 11000, 13000, inf]\n",
      "cutx9 = [-inf, 0.1, 0.2, 0.3, 0.4, 0.6, inf]\n",
      "cutx10 = [-inf, 50, 100, 200, 400, 1000, inf]\n",
      "cutx11 = [-inf, 1, 2, 5, 10, 20, inf]\n",
      "cutx12 = [-inf, 0.005, 0.01, 0.015, 0.02, 0.025, 0.05, inf]\n",
      "cutx13 = [-inf, 0.06, 0.1, 0.14, 0.2, 0.3, inf]\n"
     ]
    }
   ],
   "source": [
    "for i in range(1,14):\n",
    "    exec(\"print('cutx%s =',cutx%s)\"%(i,i))"
   ]
  },
  {
   "cell_type": "code",
   "execution_count": 253,
   "metadata": {},
   "outputs": [
    {
     "data": {
      "image/png": "[encoded data removed]",
      "text/plain": [
       "<Figure size 1440x576 with 1 Axes>"
      ]
     },
     "metadata": {
      "needs_background": "light"
     },
     "output_type": "display_data"
    }
   ],
   "source": [
    "y=[ivx1,ivx2,ivx3,ivx4,ivx5,ivx6,ivx7,ivx8,ivx9,ivx10,ivx11,ivx12,ivx13]\n",
    "index=['image_run_date_amount', 'image_create_role_pay_num',\n",
    "       'image_create_role_num', 'image_create_role_pay_sum',\n",
    "       'image_source_num', 'image_create_role_pay_rate',\n",
    "       'image_create_role_cost', 'image_create_role_pay_cost','image_valid_source_rate',\n",
    "       'image_pay_sum_ability', 'image_pay_num_ability',\n",
    "       'image_create_role_roi','image_create_role_retain_1d']\n",
    "fig= plt.figure(figsize = (20,8))\n",
    "ax1 = fig.add_subplot(1, 1, 1)\n",
    "ax1.bar(range(1,14), y, width=0.4,color = 'r',alpha = 0.6)#生成柱状图\n",
    "ax1.set_xticks(range(1,14))\n",
    "ax1.set_xticklabels(index, rotation=90, fontsize=12)\n",
    "ax1.set_ylabel('IV', fontsize=14)\n",
    "#在柱状图上添加数字标签\n",
    "for i, v in enumerate(y):\n",
    "    plt.text(i+1, v+0.01, '%.4f' % v, ha='center', va='bottom', fontsize=12)\n",
    "plt.show()"
   ]
  },
  {
   "cell_type": "code",
   "execution_count": 254,
   "metadata": {},
   "outputs": [],
   "source": [
    "select_feature = ['image_run_date_amount', 'image_create_role_pay_num',\n",
    "       'image_create_role_num', 'image_create_role_pay_sum',\n",
    "       'image_source_num', 'image_create_role_pay_rate',\n",
    "       'image_create_role_cost', 'image_create_role_pay_cost',\n",
    "       'image_valid_source_rate',\n",
    "       'image_pay_sum_ability', 'image_pay_num_ability',\n",
    "       'image_create_role_roi', 'label']"
   ]
  },
  {
   "cell_type": "code",
   "execution_count": 255,
   "metadata": {},
   "outputs": [
    {
     "data": {
      "text/plain": [
       "13"
      ]
     },
     "execution_count": 255,
     "metadata": {},
     "output_type": "execute_result"
    }
   ],
   "source": [
    "len(select_feature)"
   ]
  },
  {
   "cell_type": "code",
   "execution_count": 256,
   "metadata": {},
   "outputs": [],
   "source": [
    "def change_woe(d,cut,woe):\n",
    "    \"\"\"\n",
    "    将每个样本对应特征值更换为woe值\n",
    "    \"\"\"\n",
    "    list1=[]\n",
    "    i=0\n",
    "    while i<len(d):\n",
    "        value=d.values[i]\n",
    "        j=len(cut)-2\n",
    "        m=len(cut)-2\n",
    "        while j>=0:\n",
    "            if value>=cut[j]:\n",
    "                j=-1\n",
    "            else:\n",
    "                j -=1\n",
    "                m -= 1\n",
    "        list1.append(woe[m])\n",
    "        i += 1\n",
    "    return list1"
   ]
  },
  {
   "cell_type": "code",
   "execution_count": 257,
   "metadata": {},
   "outputs": [],
   "source": [
    "image_info_change = image_info_label_10.copy()"
   ]
  },
  {
   "cell_type": "code",
   "execution_count": 258,
   "metadata": {},
   "outputs": [],
   "source": [
    "pinf = float('inf')#正无穷大\n",
    "ninf = float('-inf')#负无穷大\n",
    "woex1 = [1.435, 1.089, 1.022, 0.69, 0.482, 0.235, -0.039, -0.448, -0.889, -1.964]\n",
    "woex2 = [0.976, -0.289, -0.841, -1.291, -2.064, -4.637]\n",
    "woex3 = [1.722, 1.294, 0.938, 0.795, 0.416, 0.231, -0.139, -0.437, -0.833, -2.205]\n",
    "woex4 = [1.256, 0.193, -0.385, -1.136, -1.974, -3.272, -6.459]\n",
    "woex5 = [0.912, 0.54, 0.092, -0.113, -0.673, -1.549]\n",
    "woex6 = [1.331, -0.716, -1.089, -0.913, -0.427]\n",
    "woex7 = [-0.884, -0.838, -0.547, -0.243, 0.148, 0.308, 0.401, 0.438, 0.839, 1.434]\n",
    "woex8 = [-0.814, -0.797, -1.077, -0.895, -0.592, -0.538, -0.139, 0.176, -0.018, 0.149, 0.274, 1.349]\n",
    "woex9 = [0.075, -0.614, -0.509, -0.532, -0.653, -0.639]\n",
    "woex10 = [0.077, -0.515, -0.805, -1.287, -1.688, -2.357]\n",
    "woex11 = [0.036, -0.96, -1.064, -0.734, -2.161, -3.335]\n",
    "woex12 = [1.337, 0.463, 0.124, -0.027, -0.354, -0.786, -2.192]\n",
    "\n",
    "cutx1 = [ninf, 990.07, 1721.34, 2746.47, 4010.32, 5905.07, 8916.98, 14199.12, 24469.77, 51776.725, pinf]\n",
    "cutx2 = [ninf, 1, 3, 8, 12, 50, pinf]\n",
    "cutx3 = [ninf, 5.0, 10.0, 18.0, 30.0, 50.0, 82.0, 141.0, 266.0, 686.5, pinf]\n",
    "cutx4 = [ninf, 60, 200, 700, 2000, 5000, 10000, pinf]\n",
    "cutx5 = [ninf, 3, 6, 12, 20, 50, pinf]\n",
    "cutx6 = [ninf, 0.005, 0.01, 0.015, 0.02, pinf]\n",
    "cutx7 = [ninf, 45.7377, 58.2912, 72.3133, 90.4782, 117.7922, 156.6485, 205.7806, 268.4223, 389.8428, pinf]\n",
    "cutx8 = [ninf, 2000, 3000, 4000, 5000, 6000, 7000, 8000, 9000, 10000, 11000, 13000, pinf]\n",
    "cutx9 = [ninf, 0.1, 0.2, 0.3, 0.4, 0.6, pinf]\n",
    "cutx10 = [ninf, 50, 100, 200, 400, 1000, pinf]\n",
    "cutx11 = [ninf, 1, 2, 5, 10, 20, pinf]\n",
    "cutx12 = [ninf, 0.005, 0.01, 0.015, 0.02, 0.025, 0.05, pinf]"
   ]
  },
  {
   "cell_type": "code",
   "execution_count": 259,
   "metadata": {},
   "outputs": [],
   "source": [
    "#数据转化\n",
    "image_info_change['image_run_date_amount'] = change_woe(image_info_change['image_run_date_amount'], cutx1, woex1)\n",
    "image_info_change['image_create_role_pay_num'] = change_woe(image_info_change['image_create_role_pay_num'], cutx2, woex2)\n",
    "image_info_change['image_create_role_num'] = change_woe(image_info_change['image_create_role_num'], cutx3, woex3)\n",
    "image_info_change['image_create_role_pay_sum'] = change_woe(image_info_change['image_create_role_pay_sum'], cutx4, woex4)\n",
    "image_info_change['image_source_num'] = change_woe(image_info_change['image_source_num'], cutx5, woex5)\n",
    "image_info_change['image_create_role_pay_rate'] = change_woe(image_info_change['image_create_role_pay_rate'], cutx6, woex6)\n",
    "image_info_change['image_create_role_cost'] = change_woe(image_info_change['image_create_role_cost'], cutx7, woex7)\n",
    "image_info_change['image_create_role_pay_cost'] = change_woe(image_info_change['image_create_role_pay_cost'], cutx8, woex8)\n",
    "image_info_change['image_valid_source_rate'] = change_woe(image_info_change['image_valid_source_rate'], cutx9, woex9)\n",
    "image_info_change['image_pay_sum_ability'] = change_woe(image_info_change['image_pay_sum_ability'], cutx10, woex10)\n",
    "image_info_change['image_pay_num_ability'] = change_woe(image_info_change['image_pay_num_ability'], cutx11, woex11)\n",
    "image_info_change['image_create_role_roi'] = change_woe(image_info_change['image_create_role_roi'], cutx12, woex12)"
   ]
  },
  {
   "cell_type": "code",
   "execution_count": 260,
   "metadata": {},
   "outputs": [
    {
     "data": {
      "text/plain": [
       "(18386, 22)"
      ]
     },
     "execution_count": 260,
     "metadata": {},
     "output_type": "execute_result"
    }
   ],
   "source": [
    "image_info_change.shape"
   ]
  },
  {
   "cell_type": "code",
   "execution_count": 261,
   "metadata": {},
   "outputs": [
    {
     "data": {
      "text/html": [
       "<div>\n",
       "<style scoped>\n",
       "    .dataframe tbody tr th:only-of-type {\n",
       "        vertical-align: middle;\n",
       "    }\n",
       "\n",
       "    .dataframe tbody tr th {\n",
       "        vertical-align: top;\n",
       "    }\n",
       "\n",
       "    .dataframe thead th {\n",
       "        text-align: right;\n",
       "    }\n",
       "</style>\n",
       "<table border=\"1\" class=\"dataframe\">\n",
       "  <thead>\n",
       "    <tr style=\"text-align: right;\">\n",
       "      <th></th>\n",
       "      <th>image_id</th>\n",
       "      <th>image_name</th>\n",
       "      <th>media_id</th>\n",
       "      <th>image_launch_time</th>\n",
       "      <th>image_source_total_num</th>\n",
       "      <th>image_run_date_amount</th>\n",
       "      <th>image_create_role_pay_num</th>\n",
       "      <th>image_create_role_num</th>\n",
       "      <th>image_create_role_pay_sum</th>\n",
       "      <th>image_source_num</th>\n",
       "      <th>image_create_role_pay_rate</th>\n",
       "      <th>image_create_role_cost</th>\n",
       "      <th>image_create_role_pay_cost</th>\n",
       "      <th>image_valid_source_num</th>\n",
       "      <th>image_valid_source_rate</th>\n",
       "      <th>image_pay_sum_ability</th>\n",
       "      <th>image_pay_num_ability</th>\n",
       "      <th>image_create_role_roi</th>\n",
       "      <th>image_create_role_retain_1d</th>\n",
       "      <th>create_role_30_pay_sum</th>\n",
       "      <th>model_run_datetime</th>\n",
       "      <th>label</th>\n",
       "    </tr>\n",
       "  </thead>\n",
       "  <tbody>\n",
       "    <tr>\n",
       "      <th>1</th>\n",
       "      <td>23509</td>\n",
       "      <td>SSR1414-竖版（3D混剪）</td>\n",
       "      <td>10</td>\n",
       "      <td>2020-07-16</td>\n",
       "      <td>489.0</td>\n",
       "      <td>1.089</td>\n",
       "      <td>0.976</td>\n",
       "      <td>0.416</td>\n",
       "      <td>1.256</td>\n",
       "      <td>0.092</td>\n",
       "      <td>1.331</td>\n",
       "      <td>-0.884</td>\n",
       "      <td>1.349</td>\n",
       "      <td>0.0</td>\n",
       "      <td>0.075</td>\n",
       "      <td>0.077</td>\n",
       "      <td>0.036</td>\n",
       "      <td>1.337</td>\n",
       "      <td>0.0586</td>\n",
       "      <td>224.0</td>\n",
       "      <td>2021-03-01</td>\n",
       "      <td>0</td>\n",
       "    </tr>\n",
       "    <tr>\n",
       "      <th>2</th>\n",
       "      <td>23552</td>\n",
       "      <td>SSR1419-横版（3D混剪）</td>\n",
       "      <td>10</td>\n",
       "      <td>2020-07-14</td>\n",
       "      <td>312.0</td>\n",
       "      <td>1.089</td>\n",
       "      <td>0.976</td>\n",
       "      <td>0.795</td>\n",
       "      <td>1.256</td>\n",
       "      <td>0.912</td>\n",
       "      <td>1.331</td>\n",
       "      <td>-0.838</td>\n",
       "      <td>1.349</td>\n",
       "      <td>0.0</td>\n",
       "      <td>0.075</td>\n",
       "      <td>0.077</td>\n",
       "      <td>0.036</td>\n",
       "      <td>1.337</td>\n",
       "      <td>0.0000</td>\n",
       "      <td>0.0</td>\n",
       "      <td>2021-03-01</td>\n",
       "      <td>0</td>\n",
       "    </tr>\n",
       "    <tr>\n",
       "      <th>3</th>\n",
       "      <td>23656</td>\n",
       "      <td>SSR1428-竖版（混剪）</td>\n",
       "      <td>10</td>\n",
       "      <td>2020-07-20</td>\n",
       "      <td>320.0</td>\n",
       "      <td>-0.039</td>\n",
       "      <td>-0.841</td>\n",
       "      <td>-0.833</td>\n",
       "      <td>-1.974</td>\n",
       "      <td>0.540</td>\n",
       "      <td>-0.716</td>\n",
       "      <td>-0.884</td>\n",
       "      <td>-0.895</td>\n",
       "      <td>0.0</td>\n",
       "      <td>0.075</td>\n",
       "      <td>0.077</td>\n",
       "      <td>0.036</td>\n",
       "      <td>-2.192</td>\n",
       "      <td>0.0862</td>\n",
       "      <td>11572.0</td>\n",
       "      <td>2021-03-01</td>\n",
       "      <td>1</td>\n",
       "    </tr>\n",
       "    <tr>\n",
       "      <th>4</th>\n",
       "      <td>23916</td>\n",
       "      <td>SSR1510-竖版（混剪）</td>\n",
       "      <td>10</td>\n",
       "      <td>2020-08-03</td>\n",
       "      <td>306.0</td>\n",
       "      <td>1.089</td>\n",
       "      <td>0.976</td>\n",
       "      <td>0.938</td>\n",
       "      <td>1.256</td>\n",
       "      <td>0.912</td>\n",
       "      <td>1.331</td>\n",
       "      <td>0.308</td>\n",
       "      <td>1.349</td>\n",
       "      <td>0.0</td>\n",
       "      <td>0.075</td>\n",
       "      <td>0.077</td>\n",
       "      <td>0.036</td>\n",
       "      <td>1.337</td>\n",
       "      <td>0.3333</td>\n",
       "      <td>318.0</td>\n",
       "      <td>2021-03-01</td>\n",
       "      <td>0</td>\n",
       "    </tr>\n",
       "    <tr>\n",
       "      <th>5</th>\n",
       "      <td>24402</td>\n",
       "      <td>SSR1588-横版（端游混剪）</td>\n",
       "      <td>10</td>\n",
       "      <td>2020-08-17</td>\n",
       "      <td>978.0</td>\n",
       "      <td>-1.964</td>\n",
       "      <td>-2.064</td>\n",
       "      <td>-2.205</td>\n",
       "      <td>-3.272</td>\n",
       "      <td>-0.673</td>\n",
       "      <td>-0.716</td>\n",
       "      <td>-0.884</td>\n",
       "      <td>-1.077</td>\n",
       "      <td>0.0</td>\n",
       "      <td>0.075</td>\n",
       "      <td>0.077</td>\n",
       "      <td>0.036</td>\n",
       "      <td>-2.192</td>\n",
       "      <td>0.0426</td>\n",
       "      <td>47728.0</td>\n",
       "      <td>2021-03-01</td>\n",
       "      <td>1</td>\n",
       "    </tr>\n",
       "  </tbody>\n",
       "</table>\n",
       "</div>"
      ],
      "text/plain": [
       "   image_id        image_name  media_id image_launch_time  \\\n",
       "1     23509  SSR1414-竖版（3D混剪）        10        2020-07-16   \n",
       "2     23552  SSR1419-横版（3D混剪）        10        2020-07-14   \n",
       "3     23656    SSR1428-竖版（混剪）        10        2020-07-20   \n",
       "4     23916    SSR1510-竖版（混剪）        10        2020-08-03   \n",
       "5     24402  SSR1588-横版（端游混剪）        10        2020-08-17   \n",
       "\n",
       "   image_source_total_num  image_run_date_amount  image_create_role_pay_num  \\\n",
       "1                   489.0                  1.089                      0.976   \n",
       "2                   312.0                  1.089                      0.976   \n",
       "3                   320.0                 -0.039                     -0.841   \n",
       "4                   306.0                  1.089                      0.976   \n",
       "5                   978.0                 -1.964                     -2.064   \n",
       "\n",
       "   image_create_role_num  image_create_role_pay_sum  image_source_num  \\\n",
       "1                  0.416                      1.256             0.092   \n",
       "2                  0.795                      1.256             0.912   \n",
       "3                 -0.833                     -1.974             0.540   \n",
       "4                  0.938                      1.256             0.912   \n",
       "5                 -2.205                     -3.272            -0.673   \n",
       "\n",
       "   image_create_role_pay_rate  image_create_role_cost  \\\n",
       "1                       1.331                  -0.884   \n",
       "2                       1.331                  -0.838   \n",
       "3                      -0.716                  -0.884   \n",
       "4                       1.331                   0.308   \n",
       "5                      -0.716                  -0.884   \n",
       "\n",
       "   image_create_role_pay_cost  image_valid_source_num  \\\n",
       "1                       1.349                     0.0   \n",
       "2                       1.349                     0.0   \n",
       "3                      -0.895                     0.0   \n",
       "4                       1.349                     0.0   \n",
       "5                      -1.077                     0.0   \n",
       "\n",
       "   image_valid_source_rate  image_pay_sum_ability  image_pay_num_ability  \\\n",
       "1                    0.075                  0.077                  0.036   \n",
       "2                    0.075                  0.077                  0.036   \n",
       "3                    0.075                  0.077                  0.036   \n",
       "4                    0.075                  0.077                  0.036   \n",
       "5                    0.075                  0.077                  0.036   \n",
       "\n",
       "   image_create_role_roi  image_create_role_retain_1d  create_role_30_pay_sum  \\\n",
       "1                  1.337                       0.0586                   224.0   \n",
       "2                  1.337                       0.0000                     0.0   \n",
       "3                 -2.192                       0.0862                 11572.0   \n",
       "4                  1.337                       0.3333                   318.0   \n",
       "5                 -2.192                       0.0426                 47728.0   \n",
       "\n",
       "  model_run_datetime  label  \n",
       "1         2021-03-01      0  \n",
       "2         2021-03-01      0  \n",
       "3         2021-03-01      1  \n",
       "4         2021-03-01      0  \n",
       "5         2021-03-01      1  "
      ]
     },
     "execution_count": 261,
     "metadata": {},
     "output_type": "execute_result"
    }
   ],
   "source": [
    "image_info_change.head()"
   ]
  },
  {
   "cell_type": "code",
   "execution_count": 262,
   "metadata": {},
   "outputs": [],
   "source": [
    "# image_info_change.to_csv('./image_info_change.csv',index=0)"
   ]
  },
  {
   "cell_type": "code",
   "execution_count": 263,
   "metadata": {},
   "outputs": [],
   "source": [
    "data_info = image_info_change[select_feature]"
   ]
  },
  {
   "cell_type": "code",
   "execution_count": 264,
   "metadata": {},
   "outputs": [
    {
     "data": {
      "text/plain": [
       "(18386, 13)"
      ]
     },
     "execution_count": 264,
     "metadata": {},
     "output_type": "execute_result"
    }
   ],
   "source": [
    "data_info.shape"
   ]
  },
  {
   "cell_type": "code",
   "execution_count": 265,
   "metadata": {},
   "outputs": [],
   "source": [
    "#模型建立\n",
    "from sklearn.linear_model import LogisticRegression\n",
    "from sklearn.model_selection import train_test_split,GridSearchCV,RandomizedSearchCV\n",
    "from sklearn.ensemble import RandomForestClassifier\n",
    "from sklearn import svm\n",
    "import lightgbm as lgb\n",
    "from sklearn.neighbors import KNeighborsClassifier\n",
    "import time\n",
    "from sklearn.model_selection import cross_validate\n",
    "from sklearn.metrics import roc_curve, roc_auc_score,auc, classification_report"
   ]
  },
  {
   "cell_type": "code",
   "execution_count": 266,
   "metadata": {},
   "outputs": [],
   "source": [
    "x_train, x_test, y_train, y_test = train_test_split(data_info.drop('label',axis=1), data_info['label'], test_size=0.25, random_state=42)"
   ]
  },
  {
   "cell_type": "markdown",
   "metadata": {},
   "source": [
    "### RF"
   ]
  },
  {
   "cell_type": "code",
   "execution_count": 267,
   "metadata": {},
   "outputs": [
    {
     "data": {
      "text/plain": [
       "RandomizedSearchCV(cv=5, estimator=RandomForestClassifier(),\n",
       "                   param_distributions={'max_depth': [2, 3, 5, 7, 9],\n",
       "                                        'min_samples_leaf': [2, 4, 6, 8],\n",
       "                                        'n_estimators': [9, 18, 27, 36, 100,\n",
       "                                                         150]})"
      ]
     },
     "execution_count": 267,
     "metadata": {},
     "output_type": "execute_result"
    }
   ],
   "source": [
    "RF = RandomForestClassifier()\n",
    "param_grid = { \n",
    "           \"n_estimators\" : [9, 18, 27, 36, 100, 150],\n",
    "           \"max_depth\" : [2,3,5,7,9],\n",
    "           \"min_samples_leaf\" : [2, 4, 6, 8]}\n",
    "RF_random = RandomizedSearchCV(RF, param_distributions=param_grid, cv=5)\n",
    "RF_random.fit(x_train, y_train)"
   ]
  },
  {
   "cell_type": "code",
   "execution_count": 268,
   "metadata": {},
   "outputs": [
    {
     "data": {
      "image/png": "[encoded data removed]",
      "text/plain": [
       "<Figure size 720x576 with 1 Axes>"
      ]
     },
     "metadata": {
      "needs_background": "light"
     },
     "output_type": "display_data"
    }
   ],
   "source": [
    "# 训练集评估\n",
    "best_est_RF = RF_random.best_estimator_\n",
    "y_pred = best_est_RF.predict_proba(x_train)\n",
    "y_pred = y_pred[:,1]\n",
    "fpr,tpr,_ = roc_curve(y_train, y_pred)\n",
    "roc_auc = auc(fpr, tpr)\n",
    "plt.figure(figsize=(10,8))\n",
    "plt.title('Receiver Operating Characteristic')\n",
    "sns.lineplot(fpr, tpr, label = 'AUC = %0.2f' % roc_auc)\n",
    "plt.legend(loc = 'lower right')\n",
    "plt.plot([0, 1], [0, 1],'r--')\n",
    "plt.ylabel('True Positive Rate')\n",
    "plt.xlabel('False Positive Rate')\n",
    "plt.show()"
   ]
  },
  {
   "cell_type": "code",
   "execution_count": 269,
   "metadata": {},
   "outputs": [
    {
     "data": {
      "image/png": "[encoded data removed]",
      "text/plain": [
       "<Figure size 720x576 with 1 Axes>"
      ]
     },
     "metadata": {
      "needs_background": "light"
     },
     "output_type": "display_data"
    }
   ],
   "source": [
    "# 测试集评估\n",
    "best_est_RF = RF_random.best_estimator_\n",
    "y_pred = best_est_RF.predict_proba(x_test)\n",
    "y_pred = y_pred[:,1]\n",
    "fpr,tpr,_ = roc_curve(y_test, y_pred)\n",
    "roc_auc = auc(fpr, tpr)\n",
    "plt.figure(figsize=(10,8))\n",
    "plt.title('Receiver Operating Characteristic')\n",
    "sns.lineplot(fpr, tpr, label = 'AUC = %0.2f' % roc_auc)\n",
    "plt.legend(loc = 'lower right')\n",
    "plt.plot([0, 1], [0, 1],'r--')\n",
    "plt.ylabel('True Positive Rate')\n",
    "plt.xlabel('False Positive Rate')\n",
    "plt.show()"
   ]
  },
  {
   "cell_type": "code",
   "execution_count": 270,
   "metadata": {},
   "outputs": [
    {
     "name": "stdout",
     "output_type": "stream",
     "text": [
      "              precision    recall  f1-score   support\n",
      "\n",
      "           0       0.87      0.87      0.87      3274\n",
      "           1       0.68      0.67      0.68      1323\n",
      "\n",
      "    accuracy                           0.82      4597\n",
      "   macro avg       0.77      0.77      0.77      4597\n",
      "weighted avg       0.81      0.82      0.81      4597\n",
      "\n"
     ]
    }
   ],
   "source": [
    "y_pred_class = list(map(lambda x:1 if x>=0.35 else 0, y_pred))\n",
    "print(classification_report(y_test, y_pred_class))"
   ]
  },
  {
   "cell_type": "code",
   "execution_count": 271,
   "metadata": {},
   "outputs": [
    {
     "data": {
      "text/plain": [
       "['best_est_RF_mr_10.pkl']"
      ]
     },
     "execution_count": 271,
     "metadata": {},
     "output_type": "execute_result"
    }
   ],
   "source": [
    "import joblib\n",
    "joblib.dump(best_est_RF, 'best_est_RF_mr_10.pkl')"
   ]
  },
  {
   "cell_type": "markdown",
   "metadata": {},
   "source": [
    "#### XGB"
   ]
  },
  {
   "cell_type": "code",
   "execution_count": 272,
   "metadata": {},
   "outputs": [
    {
     "data": {
      "text/plain": [
       "RandomizedSearchCV(cv=5,\n",
       "                   estimator=XGBClassifier(base_score=None, booster=None,\n",
       "                                           colsample_bylevel=None,\n",
       "                                           colsample_bynode=None,\n",
       "                                           colsample_bytree=None, gamma=None,\n",
       "                                           gpu_id=None, importance_type='gain',\n",
       "                                           interaction_constraints=None,\n",
       "                                           learning_rate=None,\n",
       "                                           max_delta_step=None, max_depth=None,\n",
       "                                           min_child_weight=None, missing=nan,\n",
       "                                           monotone_constraints=None,\n",
       "                                           n_estimators=100,...\n",
       "                                           num_parallel_tree=None,\n",
       "                                           random_state=None, reg_alpha=None,\n",
       "                                           reg_lambda=None,\n",
       "                                           scale_pos_weight=None,\n",
       "                                           subsample=None, tree_method=None,\n",
       "                                           validate_parameters=None,\n",
       "                                           verbosity=None),\n",
       "                   param_distributions={'colsample_bytree': [0.5, 0.7],\n",
       "                                        'gamma': [0.0, 0.1, 0.2, 0.3],\n",
       "                                        'learning_rate': [0.001, 0.01, 0.0001,\n",
       "                                                          0.05, 0.1],\n",
       "                                        'max_depth': [3, 4, 6, 8, 10, 12, 15,\n",
       "                                                      20, 25, 30],\n",
       "                                        'n_estimators': [100, 150, 200, 250,\n",
       "                                                         300]})"
      ]
     },
     "execution_count": 272,
     "metadata": {},
     "output_type": "execute_result"
    }
   ],
   "source": [
    "from xgboost import XGBClassifier\n",
    "XGB = XGBClassifier(n_jobs=-1) \n",
    " \n",
    "param_grid = {\n",
    "                  'n_estimators' :[100,150,200,250,300],\n",
    "                  \"learning_rate\" : [0.001,0.01,0.0001,0.05, 0.10 ],\n",
    "                  \"gamma\"            : [ 0.0, 0.1, 0.2 , 0.3 ],\n",
    "                  \"colsample_bytree\" : [0.5,0.7],\n",
    "                  'max_depth': [3,4,6,8,10,12,15,20,25,30]\n",
    "              }\n",
    "XGB_random = RandomizedSearchCV(XGB, param_distributions=param_grid, cv=5)\n",
    "XGB_random.fit(x_train,y_train)"
   ]
  },
  {
   "cell_type": "code",
   "execution_count": 273,
   "metadata": {},
   "outputs": [
    {
     "data": {
      "image/png": "[encoded data removed]",
      "text/plain": [
       "<Figure size 720x576 with 1 Axes>"
      ]
     },
     "metadata": {
      "needs_background": "light"
     },
     "output_type": "display_data"
    }
   ],
   "source": [
    "# 测试集评估\n",
    "best_est_XGB = XGB_random.best_estimator_\n",
    "y_pred = best_est_XGB.predict_proba(x_test)\n",
    "y_pred = y_pred[:,1]\n",
    "fpr,tpr,_ = roc_curve(y_test, y_pred)\n",
    "roc_auc = auc(fpr, tpr)\n",
    "plt.figure(figsize=(10,8))\n",
    "plt.title('Receiver Operating Characteristic')\n",
    "sns.lineplot(fpr, tpr, label = 'AUC = %0.2f' % roc_auc)\n",
    "plt.legend(loc = 'lower right')\n",
    "plt.plot([0, 1], [0, 1],'r--')\n",
    "plt.ylabel('True Positive Rate')\n",
    "plt.xlabel('False Positive Rate')\n",
    "plt.show()"
   ]
  },
  {
   "cell_type": "code",
   "execution_count": 274,
   "metadata": {},
   "outputs": [
    {
     "name": "stdout",
     "output_type": "stream",
     "text": [
      "              precision    recall  f1-score   support\n",
      "\n",
      "           0       0.00      0.00      0.00      3274\n",
      "           1       0.29      1.00      0.45      1323\n",
      "\n",
      "    accuracy                           0.29      4597\n",
      "   macro avg       0.14      0.50      0.22      4597\n",
      "weighted avg       0.08      0.29      0.13      4597\n",
      "\n"
     ]
    }
   ],
   "source": [
    "y_pred_class = list(map(lambda x:1 if x>=0.35 else 0, y_pred))\n",
    "print(classification_report(y_test, y_pred_class))"
   ]
  },
  {
   "cell_type": "code",
   "execution_count": 275,
   "metadata": {},
   "outputs": [
    {
     "data": {
      "text/plain": [
       "['best_est_XGB_mr_10.pkl']"
      ]
     },
     "execution_count": 275,
     "metadata": {},
     "output_type": "execute_result"
    }
   ],
   "source": [
    "joblib.dump(best_est_XGB, 'best_est_XGB_mr_10.pkl')"
   ]
  },
  {
   "cell_type": "markdown",
   "metadata": {},
   "source": [
    "#### LGB"
   ]
  },
  {
   "cell_type": "code",
   "execution_count": 166,
   "metadata": {},
   "outputs": [],
   "source": [
    "from lightgbm import LGBMClassifier"
   ]
  },
  {
   "cell_type": "code",
   "execution_count": 276,
   "metadata": {},
   "outputs": [
    {
     "data": {
      "text/plain": [
       "RandomizedSearchCV(cv=5,\n",
       "                   estimator=LGBMClassifier(metric='auc', objective='binary'),\n",
       "                   param_distributions={'bagging_fraction': [0.6, 0.7, 0.8, 0.9,\n",
       "                                                             0.95],\n",
       "                                        'bagging_freq': [2, 4, 5, 6, 8],\n",
       "                                        'cat_smooth': [1, 10, 15, 20, 35],\n",
       "                                        'feature_fraction': [0.6, 0.7, 0.8, 0.9,\n",
       "                                                             0.95],\n",
       "                                        'lambda_l1': [0, 0.1, 0.4, 0.5, 0.6],\n",
       "                                        'lambda_l2': [0, 10, 15, 35, 40],\n",
       "                                        'learning_rate': [0.01, 0.02, 0.05, 0.1,\n",
       "                                                          0.15],\n",
       "                                        'max_depth': [15, 20, 25, 30, 35]})"
      ]
     },
     "execution_count": 276,
     "metadata": {},
     "output_type": "execute_result"
    }
   ],
   "source": [
    "LGB = LGBMClassifier(boosting_type='gbdt',objective = 'binary',metric = 'auc',n_jobs=-1) \n",
    "param_grid = {\n",
    "              'max_depth': [15, 20, 25, 30, 35],\n",
    "              'learning_rate': [0.01, 0.02, 0.05, 0.1, 0.15],\n",
    "              'feature_fraction': [0.6, 0.7, 0.8, 0.9, 0.95],\n",
    "              'bagging_fraction': [0.6, 0.7, 0.8, 0.9, 0.95],\n",
    "              'bagging_freq': [2, 4, 5, 6, 8],\n",
    "              'lambda_l1': [0, 0.1, 0.4, 0.5, 0.6],\n",
    "              'lambda_l2': [0, 10, 15, 35, 40],\n",
    "              'cat_smooth': [1, 10, 15, 20, 35]\n",
    "}\n",
    "LGB_random = RandomizedSearchCV(LGB, param_distributions=param_grid, cv=5)\n",
    "LGB_random.fit(x_train,y_train)"
   ]
  },
  {
   "cell_type": "code",
   "execution_count": 277,
   "metadata": {},
   "outputs": [
    {
     "data": {
      "image/png": "[encoded data removed]",
      "text/plain": [
       "<Figure size 720x576 with 1 Axes>"
      ]
     },
     "metadata": {
      "needs_background": "light"
     },
     "output_type": "display_data"
    }
   ],
   "source": [
    "# 测试集评估\n",
    "best_est_LGB = LGB_random.best_estimator_\n",
    "y_pred = best_est_LGB.predict_proba(x_test)\n",
    "y_pred = y_pred[:,1]\n",
    "fpr,tpr,_ = roc_curve(y_test, y_pred)\n",
    "roc_auc = auc(fpr, tpr)\n",
    "plt.figure(figsize=(10,8))\n",
    "plt.title('Receiver Operating Characteristic')\n",
    "sns.lineplot(fpr, tpr, label = 'AUC = %0.2f' % roc_auc)\n",
    "plt.legend(loc = 'lower right')\n",
    "plt.plot([0, 1], [0, 1],'r--')\n",
    "plt.ylabel('True Positive Rate')\n",
    "plt.xlabel('False Positive Rate')\n",
    "plt.show()"
   ]
  },
  {
   "cell_type": "code",
   "execution_count": 278,
   "metadata": {},
   "outputs": [
    {
     "name": "stdout",
     "output_type": "stream",
     "text": [
      "              precision    recall  f1-score   support\n",
      "\n",
      "           0       0.86      0.88      0.87      3274\n",
      "           1       0.68      0.65      0.67      1323\n",
      "\n",
      "    accuracy                           0.81      4597\n",
      "   macro avg       0.77      0.76      0.77      4597\n",
      "weighted avg       0.81      0.81      0.81      4597\n",
      "\n"
     ]
    }
   ],
   "source": [
    "y_pred_class = list(map(lambda x:1 if x>=0.35 else 0, y_pred))\n",
    "print(classification_report(y_test, y_pred_class))"
   ]
  },
  {
   "cell_type": "code",
   "execution_count": 279,
   "metadata": {},
   "outputs": [
    {
     "data": {
      "text/plain": [
       "['best_est_LGB_mr_10.pkl']"
      ]
     },
     "execution_count": 279,
     "metadata": {},
     "output_type": "execute_result"
    }
   ],
   "source": [
    "joblib.dump(best_est_LGB, 'best_est_LGB_mr_10.pkl')"
   ]
  },
  {
   "cell_type": "markdown",
   "metadata": {},
   "source": [
    "### 三模型融合"
   ]
  },
  {
   "cell_type": "code",
   "execution_count": 280,
   "metadata": {},
   "outputs": [],
   "source": [
    "y_pred = 0.4* best_est_XGB.predict_proba(x_test)[:,1] + 0.3*best_est_LGB.predict_proba(x_test)[:,1] + 0.3*best_est_RF.predict_proba(x_test)[:,1]"
   ]
  },
  {
   "cell_type": "code",
   "execution_count": 281,
   "metadata": {},
   "outputs": [
    {
     "data": {
      "image/png": "[encoded data removed]",
      "text/plain": [
       "<Figure size 720x576 with 1 Axes>"
      ]
     },
     "metadata": {
      "needs_background": "light"
     },
     "output_type": "display_data"
    }
   ],
   "source": [
    "fpr,tpr,_ = roc_curve(y_test, y_pred)\n",
    "roc_auc = auc(fpr, tpr)\n",
    "plt.figure(figsize=(10,8))\n",
    "plt.title('Receiver Operating Characteristic')\n",
    "sns.lineplot(fpr, tpr, label = 'AUC = %0.2f' % roc_auc)\n",
    "plt.legend(loc = 'lower right')\n",
    "plt.plot([0, 1], [0, 1],'r--')\n",
    "plt.ylabel('True Positive Rate')\n",
    "plt.xlabel('False Positive Rate')\n",
    "plt.show()"
   ]
  },
  {
   "cell_type": "code",
   "execution_count": 282,
   "metadata": {},
   "outputs": [
    {
     "name": "stdout",
     "output_type": "stream",
     "text": [
      "              precision    recall  f1-score   support\n",
      "\n",
      "           0       0.91      0.65      0.76      3274\n",
      "           1       0.49      0.85      0.62      1323\n",
      "\n",
      "    accuracy                           0.71      4597\n",
      "   macro avg       0.70      0.75      0.69      4597\n",
      "weighted avg       0.79      0.71      0.72      4597\n",
      "\n"
     ]
    }
   ],
   "source": [
    "y_pred_class = list(map(lambda x:1 if x>=0.3 else 0, y_pred))\n",
    "print(classification_report(y_test, y_pred_class))"
   ]
  },
  {
   "cell_type": "code",
   "execution_count": 283,
   "metadata": {},
   "outputs": [
    {
     "data": {
      "text/plain": [
       "(18386, 22)"
      ]
     },
     "execution_count": 283,
     "metadata": {},
     "output_type": "execute_result"
    }
   ],
   "source": [
    "image_info_change.shape"
   ]
  },
  {
   "cell_type": "code",
   "execution_count": 284,
   "metadata": {},
   "outputs": [],
   "source": [
    "feature = image_info_change[select_feature].drop('label',axis=1)\n",
    "image_info_change['pred'] = 0.4* best_est_XGB.predict_proba(feature)[:,1] + 0.3*best_est_LGB.predict_proba(feature)[:,1] + 0.3*best_est_RF.predict_proba(feature)[:,1]"
   ]
  },
  {
   "cell_type": "code",
   "execution_count": 285,
   "metadata": {},
   "outputs": [
    {
     "name": "stdout",
     "output_type": "stream",
     "text": [
      "              precision    recall  f1-score   support\n",
      "\n",
      "           0       0.92      0.66      0.77     13211\n",
      "           1       0.50      0.85      0.63      5175\n",
      "\n",
      "    accuracy                           0.72     18386\n",
      "   macro avg       0.71      0.76      0.70     18386\n",
      "weighted avg       0.80      0.72      0.73     18386\n",
      "\n"
     ]
    }
   ],
   "source": [
    "y_pred_class = list(map(lambda x:1 if x>=0.3 else 0, image_info_change['pred']))\n",
    "print(classification_report(image_info_change['label'], y_pred_class))"
   ]
  },
  {
   "cell_type": "code",
   "execution_count": 286,
   "metadata": {},
   "outputs": [],
   "source": [
    "def Prob2Score(prob, basePoint=600, PDO=30):\n",
    "    #将概率转化成分数且为正整数\n",
    "    y = np.log(prob/(1-prob))\n",
    "    return (basePoint+int(PDO/np.log(2)*(y)))"
   ]
  },
  {
   "cell_type": "code",
   "execution_count": 287,
   "metadata": {},
   "outputs": [],
   "source": [
    "image_info_change['score'] = image_info_change['pred'].apply(Prob2Score)"
   ]
  },
  {
   "cell_type": "code",
   "execution_count": 288,
   "metadata": {},
   "outputs": [],
   "source": [
    "image_info_label_10['score'] = image_info_change['score']"
   ]
  },
  {
   "cell_type": "code",
   "execution_count": 289,
   "metadata": {},
   "outputs": [
    {
     "data": {
      "text/html": [
       "<div>\n",
       "<style scoped>\n",
       "    .dataframe tbody tr th:only-of-type {\n",
       "        vertical-align: middle;\n",
       "    }\n",
       "\n",
       "    .dataframe tbody tr th {\n",
       "        vertical-align: top;\n",
       "    }\n",
       "\n",
       "    .dataframe thead th {\n",
       "        text-align: right;\n",
       "    }\n",
       "</style>\n",
       "<table border=\"1\" class=\"dataframe\">\n",
       "  <thead>\n",
       "    <tr style=\"text-align: right;\">\n",
       "      <th></th>\n",
       "      <th>image_id</th>\n",
       "      <th>image_name</th>\n",
       "      <th>media_id</th>\n",
       "      <th>image_launch_time</th>\n",
       "      <th>image_source_total_num</th>\n",
       "      <th>image_run_date_amount</th>\n",
       "      <th>image_create_role_pay_num</th>\n",
       "      <th>image_create_role_num</th>\n",
       "      <th>image_create_role_pay_sum</th>\n",
       "      <th>image_source_num</th>\n",
       "      <th>image_create_role_pay_rate</th>\n",
       "      <th>image_create_role_cost</th>\n",
       "      <th>image_create_role_pay_cost</th>\n",
       "      <th>image_valid_source_num</th>\n",
       "      <th>image_valid_source_rate</th>\n",
       "      <th>image_pay_sum_ability</th>\n",
       "      <th>image_pay_num_ability</th>\n",
       "      <th>image_create_role_roi</th>\n",
       "      <th>image_create_role_retain_1d</th>\n",
       "      <th>create_role_30_pay_sum</th>\n",
       "      <th>model_run_datetime</th>\n",
       "      <th>label</th>\n",
       "      <th>score</th>\n",
       "    </tr>\n",
       "  </thead>\n",
       "  <tbody>\n",
       "    <tr>\n",
       "      <th>1</th>\n",
       "      <td>23509</td>\n",
       "      <td>SSR1414-竖版（3D混剪）</td>\n",
       "      <td>10</td>\n",
       "      <td>2020-07-16</td>\n",
       "      <td>489.0</td>\n",
       "      <td>1683.18</td>\n",
       "      <td>0.0</td>\n",
       "      <td>38.0</td>\n",
       "      <td>0.0</td>\n",
       "      <td>6.0</td>\n",
       "      <td>0.0000</td>\n",
       "      <td>44.294211</td>\n",
       "      <td>inf</td>\n",
       "      <td>0.0</td>\n",
       "      <td>0.0</td>\n",
       "      <td>0.0</td>\n",
       "      <td>0.0</td>\n",
       "      <td>0.000000</td>\n",
       "      <td>0.0586</td>\n",
       "      <td>224.0</td>\n",
       "      <td>2021-03-01</td>\n",
       "      <td>0</td>\n",
       "      <td>565</td>\n",
       "    </tr>\n",
       "    <tr>\n",
       "      <th>2</th>\n",
       "      <td>23552</td>\n",
       "      <td>SSR1419-横版（3D混剪）</td>\n",
       "      <td>10</td>\n",
       "      <td>2020-07-14</td>\n",
       "      <td>312.0</td>\n",
       "      <td>1049.26</td>\n",
       "      <td>0.0</td>\n",
       "      <td>19.0</td>\n",
       "      <td>0.0</td>\n",
       "      <td>2.0</td>\n",
       "      <td>0.0000</td>\n",
       "      <td>55.224211</td>\n",
       "      <td>inf</td>\n",
       "      <td>0.0</td>\n",
       "      <td>0.0</td>\n",
       "      <td>0.0</td>\n",
       "      <td>0.0</td>\n",
       "      <td>0.000000</td>\n",
       "      <td>0.0000</td>\n",
       "      <td>0.0</td>\n",
       "      <td>2021-03-01</td>\n",
       "      <td>0</td>\n",
       "      <td>555</td>\n",
       "    </tr>\n",
       "    <tr>\n",
       "      <th>3</th>\n",
       "      <td>23656</td>\n",
       "      <td>SSR1428-竖版（混剪）</td>\n",
       "      <td>10</td>\n",
       "      <td>2020-07-20</td>\n",
       "      <td>320.0</td>\n",
       "      <td>13052.44</td>\n",
       "      <td>3.0</td>\n",
       "      <td>425.0</td>\n",
       "      <td>2334.0</td>\n",
       "      <td>4.0</td>\n",
       "      <td>0.0071</td>\n",
       "      <td>30.711624</td>\n",
       "      <td>4350.813333</td>\n",
       "      <td>0.0</td>\n",
       "      <td>0.0</td>\n",
       "      <td>0.0</td>\n",
       "      <td>0.0</td>\n",
       "      <td>0.178817</td>\n",
       "      <td>0.0862</td>\n",
       "      <td>11572.0</td>\n",
       "      <td>2021-03-01</td>\n",
       "      <td>1</td>\n",
       "      <td>638</td>\n",
       "    </tr>\n",
       "    <tr>\n",
       "      <th>4</th>\n",
       "      <td>23916</td>\n",
       "      <td>SSR1510-竖版（混剪）</td>\n",
       "      <td>10</td>\n",
       "      <td>2020-08-03</td>\n",
       "      <td>306.0</td>\n",
       "      <td>1680.15</td>\n",
       "      <td>0.0</td>\n",
       "      <td>12.0</td>\n",
       "      <td>0.0</td>\n",
       "      <td>1.0</td>\n",
       "      <td>0.0000</td>\n",
       "      <td>140.012500</td>\n",
       "      <td>inf</td>\n",
       "      <td>0.0</td>\n",
       "      <td>0.0</td>\n",
       "      <td>0.0</td>\n",
       "      <td>0.0</td>\n",
       "      <td>0.000000</td>\n",
       "      <td>0.3333</td>\n",
       "      <td>318.0</td>\n",
       "      <td>2021-03-01</td>\n",
       "      <td>0</td>\n",
       "      <td>548</td>\n",
       "    </tr>\n",
       "    <tr>\n",
       "      <th>5</th>\n",
       "      <td>24402</td>\n",
       "      <td>SSR1588-横版（端游混剪）</td>\n",
       "      <td>10</td>\n",
       "      <td>2020-08-17</td>\n",
       "      <td>978.0</td>\n",
       "      <td>105163.96</td>\n",
       "      <td>31.0</td>\n",
       "      <td>4537.0</td>\n",
       "      <td>6400.0</td>\n",
       "      <td>23.0</td>\n",
       "      <td>0.0068</td>\n",
       "      <td>23.179184</td>\n",
       "      <td>3392.385806</td>\n",
       "      <td>0.0</td>\n",
       "      <td>0.0</td>\n",
       "      <td>0.0</td>\n",
       "      <td>0.0</td>\n",
       "      <td>0.060857</td>\n",
       "      <td>0.0426</td>\n",
       "      <td>47728.0</td>\n",
       "      <td>2021-03-01</td>\n",
       "      <td>1</td>\n",
       "      <td>649</td>\n",
       "    </tr>\n",
       "  </tbody>\n",
       "</table>\n",
       "</div>"
      ],
      "text/plain": [
       "   image_id        image_name  media_id image_launch_time  \\\n",
       "1     23509  SSR1414-竖版（3D混剪）        10        2020-07-16   \n",
       "2     23552  SSR1419-横版（3D混剪）        10        2020-07-14   \n",
       "3     23656    SSR1428-竖版（混剪）        10        2020-07-20   \n",
       "4     23916    SSR1510-竖版（混剪）        10        2020-08-03   \n",
       "5     24402  SSR1588-横版（端游混剪）        10        2020-08-17   \n",
       "\n",
       "   image_source_total_num  image_run_date_amount  image_create_role_pay_num  \\\n",
       "1                   489.0                1683.18                        0.0   \n",
       "2                   312.0                1049.26                        0.0   \n",
       "3                   320.0               13052.44                        3.0   \n",
       "4                   306.0                1680.15                        0.0   \n",
       "5                   978.0              105163.96                       31.0   \n",
       "\n",
       "   image_create_role_num  image_create_role_pay_sum  image_source_num  \\\n",
       "1                   38.0                        0.0               6.0   \n",
       "2                   19.0                        0.0               2.0   \n",
       "3                  425.0                     2334.0               4.0   \n",
       "4                   12.0                        0.0               1.0   \n",
       "5                 4537.0                     6400.0              23.0   \n",
       "\n",
       "   image_create_role_pay_rate  image_create_role_cost  \\\n",
       "1                      0.0000               44.294211   \n",
       "2                      0.0000               55.224211   \n",
       "3                      0.0071               30.711624   \n",
       "4                      0.0000              140.012500   \n",
       "5                      0.0068               23.179184   \n",
       "\n",
       "   image_create_role_pay_cost  image_valid_source_num  \\\n",
       "1                         inf                     0.0   \n",
       "2                         inf                     0.0   \n",
       "3                 4350.813333                     0.0   \n",
       "4                         inf                     0.0   \n",
       "5                 3392.385806                     0.0   \n",
       "\n",
       "   image_valid_source_rate  image_pay_sum_ability  image_pay_num_ability  \\\n",
       "1                      0.0                    0.0                    0.0   \n",
       "2                      0.0                    0.0                    0.0   \n",
       "3                      0.0                    0.0                    0.0   \n",
       "4                      0.0                    0.0                    0.0   \n",
       "5                      0.0                    0.0                    0.0   \n",
       "\n",
       "   image_create_role_roi  image_create_role_retain_1d  create_role_30_pay_sum  \\\n",
       "1               0.000000                       0.0586                   224.0   \n",
       "2               0.000000                       0.0000                     0.0   \n",
       "3               0.178817                       0.0862                 11572.0   \n",
       "4               0.000000                       0.3333                   318.0   \n",
       "5               0.060857                       0.0426                 47728.0   \n",
       "\n",
       "  model_run_datetime  label  score  \n",
       "1         2021-03-01      0    565  \n",
       "2         2021-03-01      0    555  \n",
       "3         2021-03-01      1    638  \n",
       "4         2021-03-01      0    548  \n",
       "5         2021-03-01      1    649  "
      ]
     },
     "execution_count": 289,
     "metadata": {},
     "output_type": "execute_result"
    }
   ],
   "source": [
    "image_info_label_10.head()"
   ]
  },
  {
   "cell_type": "code",
   "execution_count": 290,
   "metadata": {},
   "outputs": [
    {
     "data": {
      "image/png": "[encoded data removed]",
      "text/plain": [
       "<Figure size 432x288 with 1 Axes>"
      ]
     },
     "metadata": {
      "needs_background": "light"
     },
     "output_type": "display_data"
    }
   ],
   "source": [
    "box0 = image_info_label_10[image_info_label_10['label']==0]['score']\n",
    "box1 = image_info_label_10[image_info_label_10['label']==1]['score']\n",
    "plt.title('score for different box',fontsize=15)\n",
    "labels = 'box0','box1'\n",
    "plt.boxplot([box0,box1],labels=labels)\n",
    "plt.show()"
   ]
  },
  {
   "cell_type": "code",
   "execution_count": 291,
   "metadata": {},
   "outputs": [
    {
     "name": "stdout",
     "output_type": "stream",
     "text": [
      "高分区ROI： 0.5974701959805957\n",
      "低分区ROI： nan\n"
     ]
    }
   ],
   "source": [
    "print('高分区ROI：',image_info_label_10[image_info_label_10['score']>=520]['create_role_30_pay_sum'].sum() / image_info_label_10[image_info_label_10['score']>=520]['image_run_date_amount'].sum())\n",
    "print('低分区ROI：',image_info_label_10[image_info_label_10['score']<520]['create_role_30_pay_sum'].sum() / image_info_label_10[image_info_label_10['score']<520]['image_run_date_amount'].sum())"
   ]
  },
  {
   "cell_type": "markdown",
   "metadata": {},
   "source": [
    "## 广点通"
   ]
  },
  {
   "cell_type": "code",
   "execution_count": 292,
   "metadata": {},
   "outputs": [
    {
     "data": {
      "text/plain": [
       "(36823, 22)"
      ]
     },
     "execution_count": 292,
     "metadata": {},
     "output_type": "execute_result"
    }
   ],
   "source": [
    "image_info_label_16.shape"
   ]
  },
  {
   "cell_type": "code",
   "execution_count": 293,
   "metadata": {},
   "outputs": [
    {
     "data": {
      "text/html": [
       "<div>\n",
       "<style scoped>\n",
       "    .dataframe tbody tr th:only-of-type {\n",
       "        vertical-align: middle;\n",
       "    }\n",
       "\n",
       "    .dataframe tbody tr th {\n",
       "        vertical-align: top;\n",
       "    }\n",
       "\n",
       "    .dataframe thead th {\n",
       "        text-align: right;\n",
       "    }\n",
       "</style>\n",
       "<table border=\"1\" class=\"dataframe\">\n",
       "  <thead>\n",
       "    <tr style=\"text-align: right;\">\n",
       "      <th></th>\n",
       "      <th>image_id</th>\n",
       "      <th>image_name</th>\n",
       "      <th>media_id</th>\n",
       "      <th>image_launch_time</th>\n",
       "      <th>image_source_total_num</th>\n",
       "      <th>image_run_date_amount</th>\n",
       "      <th>image_create_role_pay_num</th>\n",
       "      <th>image_create_role_num</th>\n",
       "      <th>image_create_role_pay_sum</th>\n",
       "      <th>image_source_num</th>\n",
       "      <th>image_create_role_pay_rate</th>\n",
       "      <th>image_create_role_cost</th>\n",
       "      <th>image_create_role_pay_cost</th>\n",
       "      <th>image_valid_source_num</th>\n",
       "      <th>image_valid_source_rate</th>\n",
       "      <th>image_pay_sum_ability</th>\n",
       "      <th>image_pay_num_ability</th>\n",
       "      <th>image_create_role_roi</th>\n",
       "      <th>image_create_role_retain_1d</th>\n",
       "      <th>create_role_30_pay_sum</th>\n",
       "      <th>model_run_datetime</th>\n",
       "      <th>label</th>\n",
       "    </tr>\n",
       "  </thead>\n",
       "  <tbody>\n",
       "    <tr>\n",
       "      <th>22</th>\n",
       "      <td>27824</td>\n",
       "      <td>SSR2078-横版（3D混剪）</td>\n",
       "      <td>16</td>\n",
       "      <td>2020-12-16</td>\n",
       "      <td>508.0</td>\n",
       "      <td>4122.44</td>\n",
       "      <td>1.0</td>\n",
       "      <td>11.0</td>\n",
       "      <td>760.0</td>\n",
       "      <td>2.0</td>\n",
       "      <td>0.0909</td>\n",
       "      <td>374.767273</td>\n",
       "      <td>4122.440000</td>\n",
       "      <td>0.0</td>\n",
       "      <td>0.0</td>\n",
       "      <td>0.0</td>\n",
       "      <td>0.0</td>\n",
       "      <td>0.184357</td>\n",
       "      <td>0.2778</td>\n",
       "      <td>2218.0</td>\n",
       "      <td>2021-03-01</td>\n",
       "      <td>1</td>\n",
       "    </tr>\n",
       "    <tr>\n",
       "      <th>28</th>\n",
       "      <td>28579</td>\n",
       "      <td>SSR2180-竖版（混剪）</td>\n",
       "      <td>16</td>\n",
       "      <td>2021-01-06</td>\n",
       "      <td>850.0</td>\n",
       "      <td>8872.63</td>\n",
       "      <td>2.0</td>\n",
       "      <td>123.0</td>\n",
       "      <td>324.0</td>\n",
       "      <td>4.0</td>\n",
       "      <td>0.0163</td>\n",
       "      <td>72.135203</td>\n",
       "      <td>4436.315000</td>\n",
       "      <td>0.0</td>\n",
       "      <td>0.0</td>\n",
       "      <td>0.0</td>\n",
       "      <td>0.0</td>\n",
       "      <td>0.036517</td>\n",
       "      <td>0.1149</td>\n",
       "      <td>464.0</td>\n",
       "      <td>2021-03-01</td>\n",
       "      <td>0</td>\n",
       "    </tr>\n",
       "    <tr>\n",
       "      <th>30</th>\n",
       "      <td>28594</td>\n",
       "      <td>SSR2185-横版（3D混剪）</td>\n",
       "      <td>16</td>\n",
       "      <td>2021-01-06</td>\n",
       "      <td>1383.0</td>\n",
       "      <td>41311.58</td>\n",
       "      <td>11.0</td>\n",
       "      <td>1566.0</td>\n",
       "      <td>810.0</td>\n",
       "      <td>37.0</td>\n",
       "      <td>0.0070</td>\n",
       "      <td>26.380319</td>\n",
       "      <td>3755.598182</td>\n",
       "      <td>0.0</td>\n",
       "      <td>0.0</td>\n",
       "      <td>0.0</td>\n",
       "      <td>0.0</td>\n",
       "      <td>0.019607</td>\n",
       "      <td>0.0770</td>\n",
       "      <td>9766.0</td>\n",
       "      <td>2021-03-01</td>\n",
       "      <td>0</td>\n",
       "    </tr>\n",
       "    <tr>\n",
       "      <th>33</th>\n",
       "      <td>28678</td>\n",
       "      <td>SSR2211-横版（混剪）</td>\n",
       "      <td>16</td>\n",
       "      <td>2021-01-08</td>\n",
       "      <td>308.0</td>\n",
       "      <td>1140.43</td>\n",
       "      <td>0.0</td>\n",
       "      <td>5.0</td>\n",
       "      <td>0.0</td>\n",
       "      <td>1.0</td>\n",
       "      <td>0.0000</td>\n",
       "      <td>228.086000</td>\n",
       "      <td>inf</td>\n",
       "      <td>0.0</td>\n",
       "      <td>0.0</td>\n",
       "      <td>0.0</td>\n",
       "      <td>0.0</td>\n",
       "      <td>0.000000</td>\n",
       "      <td>0.4000</td>\n",
       "      <td>0.0</td>\n",
       "      <td>2021-03-01</td>\n",
       "      <td>0</td>\n",
       "    </tr>\n",
       "    <tr>\n",
       "      <th>38</th>\n",
       "      <td>28800</td>\n",
       "      <td>SSR2248-竖版（3D混剪）</td>\n",
       "      <td>16</td>\n",
       "      <td>2021-01-12</td>\n",
       "      <td>657.0</td>\n",
       "      <td>3248.72</td>\n",
       "      <td>0.0</td>\n",
       "      <td>96.0</td>\n",
       "      <td>0.0</td>\n",
       "      <td>1.0</td>\n",
       "      <td>0.0000</td>\n",
       "      <td>33.840833</td>\n",
       "      <td>inf</td>\n",
       "      <td>0.0</td>\n",
       "      <td>0.0</td>\n",
       "      <td>0.0</td>\n",
       "      <td>0.0</td>\n",
       "      <td>0.000000</td>\n",
       "      <td>0.0986</td>\n",
       "      <td>3094.0</td>\n",
       "      <td>2021-03-01</td>\n",
       "      <td>1</td>\n",
       "    </tr>\n",
       "  </tbody>\n",
       "</table>\n",
       "</div>"
      ],
      "text/plain": [
       "    image_id        image_name  media_id image_launch_time  \\\n",
       "22     27824  SSR2078-横版（3D混剪）        16        2020-12-16   \n",
       "28     28579    SSR2180-竖版（混剪）        16        2021-01-06   \n",
       "30     28594  SSR2185-横版（3D混剪）        16        2021-01-06   \n",
       "33     28678    SSR2211-横版（混剪）        16        2021-01-08   \n",
       "38     28800  SSR2248-竖版（3D混剪）        16        2021-01-12   \n",
       "\n",
       "    image_source_total_num  image_run_date_amount  image_create_role_pay_num  \\\n",
       "22                   508.0                4122.44                        1.0   \n",
       "28                   850.0                8872.63                        2.0   \n",
       "30                  1383.0               41311.58                       11.0   \n",
       "33                   308.0                1140.43                        0.0   \n",
       "38                   657.0                3248.72                        0.0   \n",
       "\n",
       "    image_create_role_num  image_create_role_pay_sum  image_source_num  \\\n",
       "22                   11.0                      760.0               2.0   \n",
       "28                  123.0                      324.0               4.0   \n",
       "30                 1566.0                      810.0              37.0   \n",
       "33                    5.0                        0.0               1.0   \n",
       "38                   96.0                        0.0               1.0   \n",
       "\n",
       "    image_create_role_pay_rate  image_create_role_cost  \\\n",
       "22                      0.0909              374.767273   \n",
       "28                      0.0163               72.135203   \n",
       "30                      0.0070               26.380319   \n",
       "33                      0.0000              228.086000   \n",
       "38                      0.0000               33.840833   \n",
       "\n",
       "    image_create_role_pay_cost  image_valid_source_num  \\\n",
       "22                 4122.440000                     0.0   \n",
       "28                 4436.315000                     0.0   \n",
       "30                 3755.598182                     0.0   \n",
       "33                         inf                     0.0   \n",
       "38                         inf                     0.0   \n",
       "\n",
       "    image_valid_source_rate  image_pay_sum_ability  image_pay_num_ability  \\\n",
       "22                      0.0                    0.0                    0.0   \n",
       "28                      0.0                    0.0                    0.0   \n",
       "30                      0.0                    0.0                    0.0   \n",
       "33                      0.0                    0.0                    0.0   \n",
       "38                      0.0                    0.0                    0.0   \n",
       "\n",
       "    image_create_role_roi  image_create_role_retain_1d  \\\n",
       "22               0.184357                       0.2778   \n",
       "28               0.036517                       0.1149   \n",
       "30               0.019607                       0.0770   \n",
       "33               0.000000                       0.4000   \n",
       "38               0.000000                       0.0986   \n",
       "\n",
       "    create_role_30_pay_sum model_run_datetime  label  \n",
       "22                  2218.0         2021-03-01      1  \n",
       "28                   464.0         2021-03-01      0  \n",
       "30                  9766.0         2021-03-01      0  \n",
       "33                     0.0         2021-03-01      0  \n",
       "38                  3094.0         2021-03-01      1  "
      ]
     },
     "execution_count": 293,
     "metadata": {},
     "output_type": "execute_result"
    }
   ],
   "source": [
    "image_info_label_16.head()"
   ]
  },
  {
   "cell_type": "code",
   "execution_count": 294,
   "metadata": {},
   "outputs": [
    {
     "name": "stdout",
     "output_type": "stream",
     "text": [
      "================================================================================\n",
      "================================================================================\n",
      "================================================================================\n"
     ]
    }
   ],
   "source": [
    "dfx1,ivx1,cutx1,woex1 = monoto_bin(image_info_label_16['label'],image_info_label_16['image_run_date_amount'],n=10)\n",
    "# dfx2,ivx2,cutx2,woex2 = monoto_bin(image_info_label['label'],image_info_label['image_create_role_pay_num'],n=10)\n",
    "dfx3,ivx3,cutx3,woex3 = monoto_bin(image_info_label_16['label'],image_info_label_16['image_create_role_num'],n=10)\n",
    "# dfx4,ivx4,cutx4,woex4 = monoto_bin(image_info_label['label'],image_info_label['image_create_role_pay_sum'],n=10)\n",
    "# dfx5,ivx5,cutx5,woex5 = monoto_bin(image_info_label['label'],image_info_label['image_source_num'],n=10)\n",
    "# dfx6,ivx6,cutx6,woex6 = monoto_bin(image_info_label['label'],image_info_label['image_create_role_pay_rate'],n=10)\n",
    "dfx7,ivx7,cutx7,woex7 = monoto_bin(image_info_label_16['label'],image_info_label_16['image_create_role_cost'],n=10)\n",
    "# dfx8,ivx8,cutx8,woex8 = monoto_bin(image_info_label['label'],image_info_label['image_create_role_pay_cost'],n=10)\n",
    "# dfx9,ivx9,cutx9,woex9 = monoto_bin(image_info_label['label'],image_info_label['image_valid_source_rate'],n=10)\n",
    "# dfx10,ivx10,cutx10,woex10 = monoto_bin(image_info_label['label'],image_info_label['image_pay_sum_ability'],n=10)\n",
    "# dfx11,ivx11,cutx11,woex11 = monoto_bin(image_info_label['label'],image_info_label['image_pay_num_ability'],n=10)\n",
    "# dfx12,ivx12,cutx12,woex12 = monoto_bin(image_info_label['label'],image_info_label['image_create_role_roi'],n=10)\n",
    "# dfx13,ivx13,cutx13,woex13 = monoto_bin(image_info_label['label'],image_info_label['image_create_role_retain_1d'],n=10)"
   ]
  },
  {
   "cell_type": "code",
   "execution_count": 295,
   "metadata": {
    "scrolled": true
   },
   "outputs": [
    {
     "name": "stdout",
     "output_type": "stream",
     "text": [
      "[1.293, 1.211, 0.872, 0.717, 0.522, 0.371, 0.03, -0.352, -0.762, -1.795]\n"
     ]
    },
    {
     "data": {
      "image/png": "[encoded data removed]",
      "text/plain": [
       "<Figure size 432x288 with 1 Axes>"
      ]
     },
     "metadata": {
      "needs_background": "light"
     },
     "output_type": "display_data"
    },
    {
     "name": "stdout",
     "output_type": "stream",
     "text": [
      "[1.671, 1.2, 0.864, 0.72, 0.375, 0.25, -0.045, -0.323, -0.712, -1.78]\n"
     ]
    },
    {
     "data": {
      "image/png": "[encoded data removed]",
      "text/plain": [
       "<Figure size 432x288 with 1 Axes>"
      ]
     },
     "metadata": {
      "needs_background": "light"
     },
     "output_type": "display_data"
    },
    {
     "name": "stdout",
     "output_type": "stream",
     "text": [
      "[-0.454, -0.417, -0.377, -0.3, -0.213, -0.027, 0.174, 0.411, 0.758, 1.264]\n"
     ]
    },
    {
     "data": {
      "image/png": "[encoded data removed]",
      "text/plain": [
       "<Figure size 432x288 with 1 Axes>"
      ]
     },
     "metadata": {
      "needs_background": "light"
     },
     "output_type": "display_data"
    }
   ],
   "source": [
    "woex = [woex1,woex3,woex7]\n",
    "for col in woex:\n",
    "    print('{}'.format(col))\n",
    "    plt.bar(range(len(col)),col)\n",
    "    plt.show()"
   ]
  },
  {
   "cell_type": "code",
   "execution_count": 296,
   "metadata": {},
   "outputs": [],
   "source": [
    "pinf = float('inf')#正无穷大\n",
    "ninf = float('-inf')#负无穷大\n",
    "cutx2 = [ninf, 1, 3, 8, 12,50,pinf]\n",
    "cutx4 = [ninf,60,200,400,730,1000,1500,pinf]\n",
    "cutx5 = [ninf,3,6,12,20,50,pinf]\n",
    "cutx6 = [ninf,0.005,0.01,0.015,0.02,pinf]\n",
    "cutx8 = [ninf, 2000,3000,4000,5000,6000,7000,8000,9000,10000,11000,13000,pinf]\n",
    "cutx9 = [ninf, 0.1, 0.2, 0.3, 0.4,0.6,pinf]\n",
    "cutx10 = [ninf, 50,100,200, 400,1000, pinf]\n",
    "cutx11 = [ninf, 1,2,3,5,7,10,pinf]\n",
    "cutx12 = [ninf, 0.005,0.01,0.015,0.02,0.025,0.05,pinf]\n",
    "cutx13 = [ninf, 0.06,0.1,0.14,0.2,0.3,pinf]"
   ]
  },
  {
   "cell_type": "code",
   "execution_count": 297,
   "metadata": {},
   "outputs": [
    {
     "data": {
      "text/plain": [
       "count    55209.000000\n",
       "mean         0.102604\n",
       "std          0.947799\n",
       "min          0.000000\n",
       "25%          0.000000\n",
       "50%          0.000000\n",
       "75%          0.000000\n",
       "max        119.000000\n",
       "Name: image_pay_num_ability, dtype: float64"
      ]
     },
     "execution_count": 297,
     "metadata": {},
     "output_type": "execute_result"
    }
   ],
   "source": [
    "image_info_label['image_pay_num_ability'].describe()"
   ]
  },
  {
   "cell_type": "code",
   "execution_count": 298,
   "metadata": {},
   "outputs": [
    {
     "data": {
      "image/png": "[encoded data removed]",
      "text/plain": [
       "<Figure size 432x288 with 1 Axes>"
      ]
     },
     "metadata": {
      "needs_background": "light"
     },
     "output_type": "display_data"
    }
   ],
   "source": [
    "plt.hist(image_info_label['image_pay_num_ability'],bins=50,range=(0,10))\n",
    "plt.show()"
   ]
  },
  {
   "cell_type": "code",
   "execution_count": 299,
   "metadata": {},
   "outputs": [
    {
     "name": "stdout",
     "output_type": "stream",
     "text": [
      "================================================================================\n",
      "================================================================================\n",
      "================================================================================\n",
      "================================================================================\n",
      "================================================================================\n",
      "================================================================================\n",
      "================================================================================\n",
      "================================================================================\n",
      "================================================================================\n",
      "================================================================================\n"
     ]
    }
   ],
   "source": [
    "dfx2,ivx2,woex2 = self_bin(image_info_label_16['label'],image_info_label_16['image_create_role_pay_num'],cutx2)\n",
    "dfx4,ivx4,woex4 = self_bin(image_info_label_16['label'],image_info_label_16['image_create_role_pay_sum'],cutx4)\n",
    "dfx5,ivx5,woex5 = self_bin(image_info_label_16['label'],image_info_label_16['image_source_num'],cutx5)\n",
    "dfx6,ivx6,woex6 = self_bin(image_info_label_16['label'],image_info_label_16['image_create_role_pay_rate'],cutx6)\n",
    "dfx8,ivx8,woex8 = self_bin(image_info_label_16['label'],image_info_label_16['image_create_role_pay_cost'],cutx8)\n",
    "dfx9,ivx9,woex9 = self_bin(image_info_label_16['label'],image_info_label_16['image_valid_source_rate'],cutx9)\n",
    "dfx10,ivx10,woex10 = self_bin(image_info_label_16['label'],image_info_label_16['image_pay_sum_ability'],cutx10)\n",
    "dfx11,ivx11,woex11 = self_bin(image_info_label_16['label'],image_info_label_16['image_pay_num_ability'],cutx11)\n",
    "dfx12,ivx12,woex12 = self_bin(image_info_label_16['label'],image_info_label_16['image_create_role_roi'],cutx12)\n",
    "dfx13,ivx13,woex13 = self_bin(image_info_label_16['label'],image_info_label_16['image_create_role_retain_1d'],cutx13)"
   ]
  },
  {
   "cell_type": "code",
   "execution_count": 300,
   "metadata": {},
   "outputs": [
    {
     "name": "stdout",
     "output_type": "stream",
     "text": [
      "woex1 = [1.293, 1.211, 0.872, 0.717, 0.522, 0.371, 0.03, -0.352, -0.762, -1.795]\n",
      "woex2 = [0.766, -0.57, -1.081, -1.589, -2.573, -5.472]\n",
      "woex3 = [1.671, 1.2, 0.864, 0.72, 0.375, 0.25, -0.045, -0.323, -0.712, -1.78]\n",
      "woex4 = [1.063, -0.08, -0.628, -0.97, -1.31, -1.611, -2.827]\n",
      "woex5 = [1.017, 0.726, 0.305, -0.135, -0.678, -1.922]\n",
      "woex6 = [1.196, -0.627, -0.928, -1.002, -0.764]\n",
      "woex7 = [-0.454, -0.417, -0.377, -0.3, -0.213, -0.027, 0.174, 0.411, 0.758, 1.264]\n",
      "woex8 = [-0.776, -0.836, -1.0, -1.065, -0.967, -0.868, -0.691, -0.627, -0.441, -0.518, -0.34, 1.101]\n",
      "woex9 = [0.077, -0.884, -0.784, -0.836, -0.522, -0.77]\n",
      "woex10 = [0.075, -0.948, -1.4, -1.999, -2.787, -3.956]\n",
      "woex11 = [0.021, -0.915, -1.172, -1.696, -1.798, -2.864, -4.139]\n",
      "woex12 = [1.115, 0.071, -0.226, -0.479, -0.769, -1.242, -2.45]\n",
      "woex13 = [1.912, -0.277, -0.489, 0.073, 0.164, 0.449]\n"
     ]
    }
   ],
   "source": [
    "for i in range(1,14):\n",
    "    exec(\"print('woex%s =',woex%s)\"%(i,i))"
   ]
  },
  {
   "cell_type": "code",
   "execution_count": 301,
   "metadata": {},
   "outputs": [
    {
     "name": "stdout",
     "output_type": "stream",
     "text": [
      "cutx1 = [-inf, 862.718, 1381.224, 2080.83, 3104.046, 4540.15, 6680.812, 10427.578, 17861.208, 37181.156, inf]\n",
      "cutx2 = [-inf, 1, 3, 8, 12, 50, inf]\n",
      "cutx3 = [-inf, 4.0, 8.0, 14.0, 24.0, 37.0, 59.0, 100.0, 183.0, 422.0, inf]\n",
      "cutx4 = [-inf, 60, 200, 400, 730, 1000, 1500, inf]\n",
      "cutx5 = [-inf, 3, 6, 12, 20, 50, inf]\n",
      "cutx6 = [-inf, 0.005, 0.01, 0.015, 0.02, inf]\n",
      "cutx7 = [-inf, 56.1701, 73.815, 89.5744, 104.6829, 122.235, 144.0181, 174.7321, 225.1789, 336.0527, inf]\n",
      "cutx8 = [-inf, 2000, 3000, 4000, 5000, 6000, 7000, 8000, 9000, 10000, 11000, 13000, inf]\n",
      "cutx9 = [-inf, 0.1, 0.2, 0.3, 0.4, 0.6, inf]\n",
      "cutx10 = [-inf, 50, 100, 200, 400, 1000, inf]\n",
      "cutx11 = [-inf, 1, 2, 3, 5, 7, 10, inf]\n",
      "cutx12 = [-inf, 0.005, 0.01, 0.015, 0.02, 0.025, 0.05, inf]\n",
      "cutx13 = [-inf, 0.06, 0.1, 0.14, 0.2, 0.3, inf]\n"
     ]
    }
   ],
   "source": [
    "for i in range(1,14):\n",
    "    exec(\"print('cutx%s =',cutx%s)\"%(i,i))"
   ]
  },
  {
   "cell_type": "code",
   "execution_count": 302,
   "metadata": {},
   "outputs": [
    {
     "data": {
      "image/png": "[encoded data removed]",
      "text/plain": [
       "<Figure size 1440x576 with 1 Axes>"
      ]
     },
     "metadata": {
      "needs_background": "light"
     },
     "output_type": "display_data"
    }
   ],
   "source": [
    "y=[ivx1,ivx2,ivx3,ivx4,ivx5,ivx6,ivx7,ivx8,ivx9,ivx10,ivx11,ivx12,ivx13]\n",
    "index=['image_run_date_amount', 'image_create_role_pay_num',\n",
    "       'image_create_role_num', 'image_create_role_pay_sum',\n",
    "       'image_source_num', 'image_create_role_pay_rate',\n",
    "       'image_create_role_cost', 'image_create_role_pay_cost','image_valid_source_rate',\n",
    "       'image_pay_sum_ability', 'image_pay_num_ability',\n",
    "       'image_create_role_roi','image_create_role_retain_1d']\n",
    "fig= plt.figure(figsize = (20,8))\n",
    "ax1 = fig.add_subplot(1, 1, 1)\n",
    "ax1.bar(range(1,14), y, width=0.4,color = 'r',alpha = 0.6)#生成柱状图\n",
    "ax1.set_xticks(range(1,14))\n",
    "ax1.set_xticklabels(index, rotation=90, fontsize=12)\n",
    "ax1.set_ylabel('IV', fontsize=14)\n",
    "#在柱状图上添加数字标签\n",
    "for i, v in enumerate(y):\n",
    "    plt.text(i+1, v+0.01, '%.4f' % v, ha='center', va='bottom', fontsize=12)\n",
    "plt.show()"
   ]
  },
  {
   "cell_type": "code",
   "execution_count": 303,
   "metadata": {},
   "outputs": [],
   "source": [
    "image_info_change = image_info_label_16.copy()"
   ]
  },
  {
   "cell_type": "code",
   "execution_count": 304,
   "metadata": {},
   "outputs": [],
   "source": [
    "pinf = float('inf')#正无穷大\n",
    "ninf = float('-inf')#负无穷大\n",
    "woex1 = [1.293, 1.211, 0.872, 0.717, 0.522, 0.371, 0.03, -0.352, -0.762, -1.795]\n",
    "woex2 = [0.766, -0.57, -1.081, -1.589, -2.573, -5.472]\n",
    "woex3 = [1.671, 1.2, 0.864, 0.72, 0.375, 0.25, -0.045, -0.323, -0.712, -1.78]\n",
    "woex4 = [1.063, -0.08, -0.628, -0.97, -1.31, -1.611, -2.827]\n",
    "woex5 = [1.017, 0.726, 0.305, -0.135, -0.678, -1.922]\n",
    "woex6 = [1.196, -0.627, -0.928, -1.002, -0.764]\n",
    "woex7 = [-0.454, -0.417, -0.377, -0.3, -0.213, -0.027, 0.174, 0.411, 0.758, 1.264]\n",
    "woex8 = [-0.776, -0.836, -1.0, -1.065, -0.967, -0.868, -0.691, -0.627, -0.441, -0.518, -0.34, 1.101]\n",
    "woex9 = [0.077, -0.884, -0.784, -0.836, -0.522, -0.77]\n",
    "woex10 = [0.075, -0.948, -1.4, -1.999, -2.787, -3.956]\n",
    "woex11 = [0.021, -0.915, -1.172, -1.696, -1.798, -2.864, -4.139]\n",
    "woex12 = [1.115, 0.071, -0.226, -0.479, -0.769, -1.242, -2.45]\n",
    "cutx1 = [ninf, 862.718, 1381.224, 2080.83, 3104.046, 4540.15, 6680.812, 10427.578, 17861.208, 37181.156, pinf]\n",
    "cutx2 = [ninf, 1, 3, 8, 12, 50, pinf]\n",
    "cutx3 = [ninf, 4.0, 8.0, 14.0, 24.0, 37.0, 59.0, 100.0, 183.0, 422.0, pinf]\n",
    "cutx4 = [ninf, 60, 200, 400, 730, 1000, 1500, pinf]\n",
    "cutx5 = [ninf, 3, 6, 12, 20, 50, pinf]\n",
    "cutx6 = [ninf, 0.005, 0.01, 0.015, 0.02, pinf]\n",
    "cutx7 = [ninf, 56.1701, 73.815, 89.5744, 104.6829, 122.235, 144.0181, 174.7321, 225.1789, 336.0527, pinf]\n",
    "cutx8 = [ninf, 2000, 3000, 4000, 5000, 6000, 7000, 8000, 9000, 10000, 11000, 13000, pinf]\n",
    "cutx9 = [ninf, 0.1, 0.2, 0.3, 0.4, 0.6, pinf]\n",
    "cutx10 = [ninf, 50, 100, 200, 400, 1000, pinf]\n",
    "cutx11 = [ninf, 1, 2, 3, 5, 7, 10, pinf]\n",
    "cutx12 = [ninf, 0.005, 0.01, 0.015, 0.02, 0.025, 0.05, pinf]"
   ]
  },
  {
   "cell_type": "code",
   "execution_count": 305,
   "metadata": {},
   "outputs": [],
   "source": [
    "#数据转化\n",
    "image_info_change['image_run_date_amount'] = change_woe(image_info_change['image_run_date_amount'], cutx1, woex1)\n",
    "image_info_change['image_create_role_pay_num'] = change_woe(image_info_change['image_create_role_pay_num'], cutx2, woex2)\n",
    "image_info_change['image_create_role_num'] = change_woe(image_info_change['image_create_role_num'], cutx3, woex3)\n",
    "image_info_change['image_create_role_pay_sum'] = change_woe(image_info_change['image_create_role_pay_sum'], cutx4, woex4)\n",
    "image_info_change['image_source_num'] = change_woe(image_info_change['image_source_num'], cutx5, woex5)\n",
    "image_info_change['image_create_role_pay_rate'] = change_woe(image_info_change['image_create_role_pay_rate'], cutx6, woex6)\n",
    "image_info_change['image_create_role_cost'] = change_woe(image_info_change['image_create_role_cost'], cutx7, woex7)\n",
    "image_info_change['image_create_role_pay_cost'] = change_woe(image_info_change['image_create_role_pay_cost'], cutx8, woex8)\n",
    "image_info_change['image_valid_source_rate'] = change_woe(image_info_change['image_valid_source_rate'], cutx9, woex9)\n",
    "image_info_change['image_pay_sum_ability'] = change_woe(image_info_change['image_pay_sum_ability'], cutx10, woex10)\n",
    "image_info_change['image_pay_num_ability'] = change_woe(image_info_change['image_pay_num_ability'], cutx11, woex11)\n",
    "image_info_change['image_create_role_roi'] = change_woe(image_info_change['image_create_role_roi'], cutx12, woex12)"
   ]
  },
  {
   "cell_type": "code",
   "execution_count": 306,
   "metadata": {},
   "outputs": [],
   "source": [
    "data_info = image_info_change[select_feature]"
   ]
  },
  {
   "cell_type": "code",
   "execution_count": 307,
   "metadata": {},
   "outputs": [
    {
     "data": {
      "text/plain": [
       "(36823, 13)"
      ]
     },
     "execution_count": 307,
     "metadata": {},
     "output_type": "execute_result"
    }
   ],
   "source": [
    "data_info.shape"
   ]
  },
  {
   "cell_type": "code",
   "execution_count": 308,
   "metadata": {},
   "outputs": [],
   "source": [
    "x_train, x_test, y_train, y_test = train_test_split(data_info.drop('label',axis=1), data_info['label'], test_size=0.25, random_state=42)"
   ]
  },
  {
   "cell_type": "code",
   "execution_count": 309,
   "metadata": {},
   "outputs": [
    {
     "data": {
      "text/plain": [
       "RandomizedSearchCV(cv=5, estimator=RandomForestClassifier(),\n",
       "                   param_distributions={'max_depth': [2, 3, 5, 7, 9],\n",
       "                                        'min_samples_leaf': [2, 4, 6, 8],\n",
       "                                        'n_estimators': [9, 18, 27, 36, 100,\n",
       "                                                         150]})"
      ]
     },
     "execution_count": 309,
     "metadata": {},
     "output_type": "execute_result"
    }
   ],
   "source": [
    "RF = RandomForestClassifier()\n",
    "param_grid = { \n",
    "           \"n_estimators\" : [9, 18, 27, 36, 100, 150],\n",
    "           \"max_depth\" : [2,3,5,7,9],\n",
    "           \"min_samples_leaf\" : [2, 4, 6, 8]}\n",
    "RF_random = RandomizedSearchCV(RF, param_distributions=param_grid, cv=5)\n",
    "RF_random.fit(x_train, y_train)"
   ]
  },
  {
   "cell_type": "code",
   "execution_count": 310,
   "metadata": {},
   "outputs": [
    {
     "data": {
      "image/png": "[encoded data removed]",
      "text/plain": [
       "<Figure size 720x576 with 1 Axes>"
      ]
     },
     "metadata": {
      "needs_background": "light"
     },
     "output_type": "display_data"
    }
   ],
   "source": [
    "# 训练集评估\n",
    "best_est_RF = RF_random.best_estimator_\n",
    "y_pred = best_est_RF.predict_proba(x_train)\n",
    "y_pred = y_pred[:,1]\n",
    "fpr,tpr,_ = roc_curve(y_train, y_pred)\n",
    "roc_auc = auc(fpr, tpr)\n",
    "plt.figure(figsize=(10,8))\n",
    "plt.title('Receiver Operating Characteristic')\n",
    "sns.lineplot(fpr, tpr, label = 'AUC = %0.2f' % roc_auc)\n",
    "plt.legend(loc = 'lower right')\n",
    "plt.plot([0, 1], [0, 1],'r--')\n",
    "plt.ylabel('True Positive Rate')\n",
    "plt.xlabel('False Positive Rate')\n",
    "plt.show()"
   ]
  },
  {
   "cell_type": "code",
   "execution_count": 311,
   "metadata": {},
   "outputs": [
    {
     "data": {
      "image/png": "[encoded data removed]",
      "text/plain": [
       "<Figure size 720x576 with 1 Axes>"
      ]
     },
     "metadata": {
      "needs_background": "light"
     },
     "output_type": "display_data"
    }
   ],
   "source": [
    "# 测试集评估\n",
    "best_est_RF = RF_random.best_estimator_\n",
    "y_pred = best_est_RF.predict_proba(x_test)\n",
    "y_pred = y_pred[:,1]\n",
    "fpr,tpr,_ = roc_curve(y_test, y_pred)\n",
    "roc_auc = auc(fpr, tpr)\n",
    "plt.figure(figsize=(10,8))\n",
    "plt.title('Receiver Operating Characteristic')\n",
    "sns.lineplot(fpr, tpr, label = 'AUC = %0.2f' % roc_auc)\n",
    "plt.legend(loc = 'lower right')\n",
    "plt.plot([0, 1], [0, 1],'r--')\n",
    "plt.ylabel('True Positive Rate')\n",
    "plt.xlabel('False Positive Rate')\n",
    "plt.show()"
   ]
  },
  {
   "cell_type": "code",
   "execution_count": 312,
   "metadata": {},
   "outputs": [
    {
     "name": "stdout",
     "output_type": "stream",
     "text": [
      "              precision    recall  f1-score   support\n",
      "\n",
      "           0       0.89      0.91      0.90      7266\n",
      "           1       0.62      0.56      0.59      1940\n",
      "\n",
      "    accuracy                           0.83      9206\n",
      "   macro avg       0.75      0.74      0.74      9206\n",
      "weighted avg       0.83      0.83      0.83      9206\n",
      "\n"
     ]
    }
   ],
   "source": [
    "y_pred_class = list(map(lambda x:1 if x>=0.35 else 0, y_pred))\n",
    "print(classification_report(y_test, y_pred_class))"
   ]
  },
  {
   "cell_type": "code",
   "execution_count": 313,
   "metadata": {},
   "outputs": [
    {
     "data": {
      "text/plain": [
       "['best_est_RF_mr_16.pkl']"
      ]
     },
     "execution_count": 313,
     "metadata": {},
     "output_type": "execute_result"
    }
   ],
   "source": [
    "joblib.dump(best_est_RF, 'best_est_RF_mr_16.pkl')"
   ]
  },
  {
   "cell_type": "code",
   "execution_count": 314,
   "metadata": {},
   "outputs": [
    {
     "data": {
      "text/plain": [
       "RandomizedSearchCV(cv=5,\n",
       "                   estimator=XGBClassifier(base_score=None, booster=None,\n",
       "                                           colsample_bylevel=None,\n",
       "                                           colsample_bynode=None,\n",
       "                                           colsample_bytree=None, gamma=None,\n",
       "                                           gpu_id=None, importance_type='gain',\n",
       "                                           interaction_constraints=None,\n",
       "                                           learning_rate=None,\n",
       "                                           max_delta_step=None, max_depth=None,\n",
       "                                           min_child_weight=None, missing=nan,\n",
       "                                           monotone_constraints=None,\n",
       "                                           n_estimators=100,...\n",
       "                                           num_parallel_tree=None,\n",
       "                                           random_state=None, reg_alpha=None,\n",
       "                                           reg_lambda=None,\n",
       "                                           scale_pos_weight=None,\n",
       "                                           subsample=None, tree_method=None,\n",
       "                                           validate_parameters=None,\n",
       "                                           verbosity=None),\n",
       "                   param_distributions={'colsample_bytree': [0.5, 0.7],\n",
       "                                        'gamma': [0.0, 0.1, 0.2, 0.3],\n",
       "                                        'learning_rate': [0.001, 0.01, 0.0001,\n",
       "                                                          0.05, 0.1],\n",
       "                                        'max_depth': [3, 4, 6, 8, 10, 12, 15,\n",
       "                                                      20, 25, 30],\n",
       "                                        'n_estimators': [100, 150, 200, 250,\n",
       "                                                         300]})"
      ]
     },
     "execution_count": 314,
     "metadata": {},
     "output_type": "execute_result"
    }
   ],
   "source": [
    "from xgboost import XGBClassifier\n",
    "XGB = XGBClassifier(n_jobs=-1) \n",
    " \n",
    "param_grid = {\n",
    "                  'n_estimators' :[100,150,200,250,300],\n",
    "                  \"learning_rate\" : [0.001,0.01,0.0001,0.05, 0.10 ],\n",
    "                  \"gamma\"            : [ 0.0, 0.1, 0.2 , 0.3 ],\n",
    "                  \"colsample_bytree\" : [0.5,0.7],\n",
    "                  'max_depth': [3,4,6,8,10,12,15,20,25,30]\n",
    "              }\n",
    "XGB_random = RandomizedSearchCV(XGB, param_distributions=param_grid, cv=5)\n",
    "XGB_random.fit(x_train,y_train)"
   ]
  },
  {
   "cell_type": "code",
   "execution_count": 315,
   "metadata": {},
   "outputs": [
    {
     "data": {
      "image/png": "[encoded data removed]",
      "text/plain": [
       "<Figure size 720x576 with 1 Axes>"
      ]
     },
     "metadata": {
      "needs_background": "light"
     },
     "output_type": "display_data"
    }
   ],
   "source": [
    "# 测试集评估\n",
    "best_est_XGB = XGB_random.best_estimator_\n",
    "y_pred = best_est_XGB.predict_proba(x_test)\n",
    "y_pred = y_pred[:,1]\n",
    "fpr,tpr,_ = roc_curve(y_test, y_pred)\n",
    "roc_auc = auc(fpr, tpr)\n",
    "plt.figure(figsize=(10,8))\n",
    "plt.title('Receiver Operating Characteristic')\n",
    "sns.lineplot(fpr, tpr, label = 'AUC = %0.2f' % roc_auc)\n",
    "plt.legend(loc = 'lower right')\n",
    "plt.plot([0, 1], [0, 1],'r--')\n",
    "plt.ylabel('True Positive Rate')\n",
    "plt.xlabel('False Positive Rate')\n",
    "plt.show()"
   ]
  },
  {
   "cell_type": "code",
   "execution_count": 316,
   "metadata": {},
   "outputs": [
    {
     "name": "stdout",
     "output_type": "stream",
     "text": [
      "              precision    recall  f1-score   support\n",
      "\n",
      "           0       0.88      0.91      0.90      7266\n",
      "           1       0.62      0.55      0.58      1940\n",
      "\n",
      "    accuracy                           0.83      9206\n",
      "   macro avg       0.75      0.73      0.74      9206\n",
      "weighted avg       0.83      0.83      0.83      9206\n",
      "\n"
     ]
    }
   ],
   "source": [
    "y_pred_class = list(map(lambda x:1 if x>=0.35 else 0, y_pred))\n",
    "print(classification_report(y_test, y_pred_class))"
   ]
  },
  {
   "cell_type": "code",
   "execution_count": 317,
   "metadata": {},
   "outputs": [
    {
     "data": {
      "text/plain": [
       "['best_est_XGB_mr_16.pkl']"
      ]
     },
     "execution_count": 317,
     "metadata": {},
     "output_type": "execute_result"
    }
   ],
   "source": [
    "joblib.dump(best_est_XGB, 'best_est_XGB_mr_16.pkl')"
   ]
  },
  {
   "cell_type": "code",
   "execution_count": 318,
   "metadata": {},
   "outputs": [
    {
     "data": {
      "text/plain": [
       "RandomizedSearchCV(cv=5,\n",
       "                   estimator=LGBMClassifier(metric='auc', objective='binary'),\n",
       "                   param_distributions={'bagging_fraction': [0.6, 0.7, 0.8, 0.9,\n",
       "                                                             0.95],\n",
       "                                        'bagging_freq': [2, 4, 5, 6, 8],\n",
       "                                        'cat_smooth': [1, 10, 15, 20, 35],\n",
       "                                        'feature_fraction': [0.6, 0.7, 0.8, 0.9,\n",
       "                                                             0.95],\n",
       "                                        'lambda_l1': [0, 0.1, 0.4, 0.5, 0.6],\n",
       "                                        'lambda_l2': [0, 10, 15, 35, 40],\n",
       "                                        'learning_rate': [0.01, 0.02, 0.05, 0.1,\n",
       "                                                          0.15],\n",
       "                                        'max_depth': [15, 20, 25, 30, 35]})"
      ]
     },
     "execution_count": 318,
     "metadata": {},
     "output_type": "execute_result"
    }
   ],
   "source": [
    "LGB = LGBMClassifier(boosting_type='gbdt',objective = 'binary',metric = 'auc',n_jobs=-1) \n",
    "param_grid = {\n",
    "              'max_depth': [15, 20, 25, 30, 35],\n",
    "              'learning_rate': [0.01, 0.02, 0.05, 0.1, 0.15],\n",
    "              'feature_fraction': [0.6, 0.7, 0.8, 0.9, 0.95],\n",
    "              'bagging_fraction': [0.6, 0.7, 0.8, 0.9, 0.95],\n",
    "              'bagging_freq': [2, 4, 5, 6, 8],\n",
    "              'lambda_l1': [0, 0.1, 0.4, 0.5, 0.6],\n",
    "              'lambda_l2': [0, 10, 15, 35, 40],\n",
    "              'cat_smooth': [1, 10, 15, 20, 35]\n",
    "}\n",
    "LGB_random = RandomizedSearchCV(LGB, param_distributions=param_grid, cv=5)\n",
    "LGB_random.fit(x_train,y_train)"
   ]
  },
  {
   "cell_type": "code",
   "execution_count": 320,
   "metadata": {},
   "outputs": [
    {
     "data": {
      "image/png": "[encoded data removed]",
      "text/plain": [
       "<Figure size 720x576 with 1 Axes>"
      ]
     },
     "metadata": {
      "needs_background": "light"
     },
     "output_type": "display_data"
    }
   ],
   "source": [
    "# 测试集评估\n",
    "best_est_LGB = LGB_random.best_estimator_\n",
    "y_pred = best_est_LGB.predict_proba(x_test)\n",
    "y_pred = y_pred[:,1]\n",
    "fpr,tpr,_ = roc_curve(y_test, y_pred)\n",
    "roc_auc = auc(fpr, tpr)\n",
    "plt.figure(figsize=(10,8))\n",
    "plt.title('Receiver Operating Characteristic')\n",
    "sns.lineplot(fpr, tpr, label = 'AUC = %0.2f' % roc_auc)\n",
    "plt.legend(loc = 'lower right')\n",
    "plt.plot([0, 1], [0, 1],'r--')\n",
    "plt.ylabel('True Positive Rate')\n",
    "plt.xlabel('False Positive Rate')\n",
    "plt.show()"
   ]
  },
  {
   "cell_type": "code",
   "execution_count": 321,
   "metadata": {},
   "outputs": [
    {
     "name": "stdout",
     "output_type": "stream",
     "text": [
      "              precision    recall  f1-score   support\n",
      "\n",
      "           0       0.88      0.91      0.90      7266\n",
      "           1       0.63      0.55      0.59      1940\n",
      "\n",
      "    accuracy                           0.84      9206\n",
      "   macro avg       0.76      0.73      0.74      9206\n",
      "weighted avg       0.83      0.84      0.83      9206\n",
      "\n"
     ]
    }
   ],
   "source": [
    "y_pred_class = list(map(lambda x:1 if x>=0.35 else 0, y_pred))\n",
    "print(classification_report(y_test, y_pred_class))"
   ]
  },
  {
   "cell_type": "code",
   "execution_count": 322,
   "metadata": {},
   "outputs": [
    {
     "data": {
      "text/plain": [
       "['best_est_LGB_mr_16.pkl']"
      ]
     },
     "execution_count": 322,
     "metadata": {},
     "output_type": "execute_result"
    }
   ],
   "source": [
    "joblib.dump(best_est_LGB, 'best_est_LGB_mr_16.pkl')"
   ]
  },
  {
   "cell_type": "code",
   "execution_count": 323,
   "metadata": {},
   "outputs": [],
   "source": [
    "feature = image_info_change[select_feature].drop('label',axis=1)\n",
    "image_info_change['pred'] = 0.4* best_est_XGB.predict_proba(feature)[:,1] + 0.3*best_est_LGB.predict_proba(feature)[:,1] + 0.3*best_est_RF.predict_proba(feature)[:,1]"
   ]
  },
  {
   "cell_type": "code",
   "execution_count": 324,
   "metadata": {},
   "outputs": [
    {
     "data": {
      "image/png": "[encoded data removed]",
      "text/plain": [
       "<Figure size 720x576 with 1 Axes>"
      ]
     },
     "metadata": {
      "needs_background": "light"
     },
     "output_type": "display_data"
    }
   ],
   "source": [
    "fpr,tpr,_ = roc_curve(image_info_change['label'], image_info_change['pred'])\n",
    "roc_auc = auc(fpr, tpr)\n",
    "plt.figure(figsize=(10,8))\n",
    "plt.title('Receiver Operating Characteristic')\n",
    "sns.lineplot(fpr, tpr, label = 'AUC = %0.2f' % roc_auc)\n",
    "plt.legend(loc = 'lower right')\n",
    "plt.plot([0, 1], [0, 1],'r--')\n",
    "plt.ylabel('True Positive Rate')\n",
    "plt.xlabel('False Positive Rate')\n",
    "plt.show()"
   ]
  },
  {
   "cell_type": "code",
   "execution_count": 325,
   "metadata": {},
   "outputs": [
    {
     "name": "stdout",
     "output_type": "stream",
     "text": [
      "              precision    recall  f1-score   support\n",
      "\n",
      "           0       0.89      0.89      0.89     28971\n",
      "           1       0.60      0.61      0.61      7852\n",
      "\n",
      "    accuracy                           0.83     36823\n",
      "   macro avg       0.75      0.75      0.75     36823\n",
      "weighted avg       0.83      0.83      0.83     36823\n",
      "\n"
     ]
    }
   ],
   "source": [
    "y_pred_class = list(map(lambda x:1 if x>=0.3 else 0, image_info_change['pred']))\n",
    "print(classification_report(image_info_change['label'], y_pred_class))"
   ]
  },
  {
   "cell_type": "code",
   "execution_count": 326,
   "metadata": {},
   "outputs": [],
   "source": [
    "image_info_change['score'] = image_info_change['pred'].apply(Prob2Score)"
   ]
  },
  {
   "cell_type": "code",
   "execution_count": 327,
   "metadata": {},
   "outputs": [],
   "source": [
    "image_info_label_16['score'] = image_info_change['score']"
   ]
  },
  {
   "cell_type": "code",
   "execution_count": 328,
   "metadata": {},
   "outputs": [
    {
     "data": {
      "image/png": "[encoded data removed]",
      "text/plain": [
       "<Figure size 432x288 with 1 Axes>"
      ]
     },
     "metadata": {
      "needs_background": "light"
     },
     "output_type": "display_data"
    }
   ],
   "source": [
    "box0 = image_info_label_16[image_info_label_16['label']==0]['score']\n",
    "box1 = image_info_label_16[image_info_label_16['label']==1]['score']\n",
    "plt.title('score for different box',fontsize=15)\n",
    "labels = 'box0','box1'\n",
    "plt.boxplot([box0,box1],labels=labels)\n",
    "plt.show()"
   ]
  },
  {
   "cell_type": "code",
   "execution_count": 330,
   "metadata": {},
   "outputs": [
    {
     "data": {
      "image/png": "[encoded data removed]",
      "text/plain": [
       "<Figure size 432x288 with 1 Axes>"
      ]
     },
     "metadata": {
      "needs_background": "light"
     },
     "output_type": "display_data"
    }
   ],
   "source": [
    "sns.distplot(image_info_label_16['score'])\n",
    "plt.show()"
   ]
  },
  {
   "cell_type": "code",
   "execution_count": 332,
   "metadata": {},
   "outputs": [
    {
     "name": "stdout",
     "output_type": "stream",
     "text": [
      "高分区ROI： 0.6093400382751568\n",
      "低分区ROI： 0.1763407768951359\n"
     ]
    }
   ],
   "source": [
    "print('高分区ROI：',image_info_label_16[image_info_label_16['score']>=520]['create_role_30_pay_sum'].sum() / image_info_label_16[image_info_label_16['score']>=520]['image_run_date_amount'].sum())\n",
    "print('低分区ROI：',image_info_label_16[image_info_label_16['score']<520]['create_role_30_pay_sum'].sum() / image_info_label_16[image_info_label_16['score']<520]['image_run_date_amount'].sum())"
   ]
  },
  {
   "cell_type": "code",
   "execution_count": null,
   "metadata": {},
   "outputs": [],
   "source": []
  }
 ],
 "metadata": {
  "kernelspec": {
   "display_name": "Python 3",
   "language": "python",
   "name": "python3"
  },
  "language_info": {
   "codemirror_mode": {
    "name": "ipython",
    "version": 3
   },
   "file_extension": ".py",
   "mimetype": "text/x-python",
   "name": "python",
   "nbconvert_exporter": "python",
   "pygments_lexer": "ipython3",
   "version": "3.7.6"
  }
 },
 "nbformat": 4,
 "nbformat_minor": 4
}
