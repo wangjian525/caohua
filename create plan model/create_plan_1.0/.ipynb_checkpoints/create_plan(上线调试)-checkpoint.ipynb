{
 "cells": [
  {
   "cell_type": "code",
   "execution_count": 7,
   "metadata": {},
   "outputs": [],
   "source": [
    "import pandas as pd\n",
    "import numpy as np\n",
    "import matplotlib.pyplot as plt\n",
    "import seaborn as sns\n",
    "import json\n",
    "import tensorflow as tf\n",
    "from numpy import *\n",
    "from sklearn.model_selection import train_test_split\n",
    "from sklearn.decomposition import PCA\n",
    "from tensorflow.keras import layers,datasets\n",
    "from sklearn.preprocessing import LabelEncoder,MinMaxScaler,StandardScaler\n",
    "from tensorflow import keras\n",
    "import gc\n",
    "import warnings\n",
    "warnings.filterwarnings('ignore')\n",
    "import lightgbm as lgb\n",
    "import category_encoders as ce\n",
    "from sklearn.metrics import f1_score,classification_report,roc_auc_score\n",
    "from impala.dbapi import connect\n",
    "from impala.util import as_pandas\n",
    "import pymysql"
   ]
  },
  {
   "cell_type": "code",
   "execution_count": 14,
   "metadata": {},
   "outputs": [],
   "source": [
    "# 读取历史数据\n",
    "plan_info = pd.read_csv('./ptom_third_plan.csv')\n",
    "image_info = pd.read_csv('./image_info.csv')\n",
    "launch_report = pd.read_csv('./launch_report.csv')"
   ]
  },
  {
   "cell_type": "code",
   "execution_count": 15,
   "metadata": {},
   "outputs": [],
   "source": [
    "# 获取近期所有计划('2021年2月1号开始')\n",
    "def get_plan_info():\n",
    "    conn = pymysql.connect(host='192.168.0.65', port=3306, user='readonly',\n",
    "                        passwd='Kc&r+z1ql9x8za4kzfk761weq8ozGv3ZpI;RMe,#+s%c>t', db='db_ptom')\n",
    "    cur = conn.cursor(cursor=pymysql.cursors.DictCursor)\n",
    "    sql = '''\n",
    "        SELECT\n",
    "                * \n",
    "            FROM\n",
    "                db_ptom.ptom_third_plan p\n",
    "            WHERE\n",
    "                game_id IN (\n",
    "            1000840,\n",
    "            1000862,\n",
    "            1000869,\n",
    "            1000935,\n",
    "            1000947,\n",
    "            1000960,\n",
    "            1001049,\n",
    "            1001058,\n",
    "            1001063,\n",
    "            1001079,\n",
    "            1001059,\n",
    "            1000954,\n",
    "            1000993,\n",
    "            1000994,\n",
    "            1000992,\n",
    "            1001258,\n",
    "            1001294,\n",
    "            1001295,\n",
    "            1001310,\n",
    "            1001155,\n",
    "            1001257,\n",
    "            1001379,\n",
    "            1001193,\n",
    "            1001400,\n",
    "            1001401,\n",
    "            1001402,\n",
    "            1001439,\n",
    "            1001413,\n",
    "            1001414,\n",
    "            1001420,\n",
    "            1001425,\n",
    "            1001426,\n",
    "            1001430,\n",
    "            1001431,\n",
    "            1001259,\n",
    "            1000985,\n",
    "            1001454,\n",
    "            1001455,\n",
    "            1001457,\n",
    "            1001460,\n",
    "            1001194,\n",
    "            1001484,\n",
    "            1001440,\n",
    "            1001540,\n",
    "            1001541\n",
    "                ) \n",
    "                AND media_id = 10\n",
    "                AND create_time>=(NOW() - interval 168 hour)\n",
    "                            AND plan_id >= (\n",
    "                                select plan_id from db_ptom.ptom_plan\n",
    "                                where create_time >= '2021-02-01'\n",
    "                                and create_time >= '2021-01-31'\n",
    "                                limit 1\n",
    "                            )\n",
    "    '''\n",
    "    cur.execute(sql)\n",
    "    result_df = pd.read_sql(sql, conn)\n",
    "    cur.close()\n",
    "    conn.close()\n",
    "    return result_df"
   ]
  },
  {
   "cell_type": "code",
   "execution_count": 16,
   "metadata": {},
   "outputs": [],
   "source": [
    "# 获取image_id,label_ids\n",
    "def get_image_info():\n",
    "    conn = pymysql.connect(host='192.168.0.79', port=3306, user='readonly',\n",
    "                        passwd='Kc&r+z1ql9x8za4kzfk761weq8ozGv3ZpI;RMe,#+s%c>t')\n",
    "    cur = conn.cursor(cursor=pymysql.cursors.DictCursor)\n",
    "    sql = '''\n",
    "        SELECT\n",
    "            a.chl_user_id AS channel_id,\n",
    "            a.source_id,\n",
    "            a.image_id,\n",
    "            b.label_ids\n",
    "        FROM\n",
    "            db_data_ptom.ptom_plan a\n",
    "            LEFT JOIN\n",
    "            db_data_ptom.ptom_image_info b\n",
    "        on a.image_id = b.image_id\n",
    "        WHERE\n",
    "            a.game_id IN ( SELECT dev_game_id AS game_id FROM db_data.t_game_config WHERE game_id = 1056 AND dev_game_id IS NOT NULL ) \n",
    "            AND a.media_id = 10 \n",
    "            AND a.create_time >= '2021-02-01' \n",
    "        GROUP BY\n",
    "            a.chl_user_id,\n",
    "            a.source_id,\n",
    "            a.image_id\n",
    "    '''\n",
    "    cur.execute(sql)\n",
    "    result_df = pd.read_sql(sql, conn)\n",
    "    cur.close()\n",
    "    conn.close()\n",
    "    return result_df"
   ]
  },
  {
   "cell_type": "code",
   "execution_count": 17,
   "metadata": {},
   "outputs": [],
   "source": [
    "# 获取计划运营指标\n",
    "def get_launch_report():\n",
    "    conn = pymysql.connect(host='192.168.0.79', port=3306, user='readonly',\n",
    "                        passwd='Kc&r+z1ql9x8za4kzfk761weq8ozGv3ZpI;RMe,#+s%c>t')\n",
    "    cur = conn.cursor(cursor=pymysql.cursors.DictCursor)\n",
    "    sql = '''\n",
    "        SELECT\n",
    "            tdate,\n",
    "            channel_id,\n",
    "            source_id,\n",
    "            amount,\n",
    "            create_role_num,\n",
    "            pay_role_user_num,\n",
    "            new_role_money \n",
    "        FROM\n",
    "            db_stdata.st_lauch_report a \n",
    "        WHERE\n",
    "            a.tdate_type = 'day' \n",
    "            AND a.game_id IN ( SELECT dev_game_id AS game_id FROM db_data.t_game_config WHERE game_id = 1056 AND dev_game_id IS NOT NULL ) \n",
    "            AND a.tdate >= '2021-02-01'\n",
    "            AND a.media_id = 10\n",
    "            ANd a.amount>0\n",
    "    '''\n",
    "    cur.execute(sql)\n",
    "    result_df = pd.read_sql(sql, conn)\n",
    "    cur.close()\n",
    "    conn.close()\n",
    "    return result_df"
   ]
  },
  {
   "cell_type": "code",
   "execution_count": 18,
   "metadata": {},
   "outputs": [],
   "source": [
    "plan_info_new = get_plan_info()\n",
    "image_info_new = get_image_info()\n",
    "launch_report_new = get_image_info()"
   ]
  },
  {
   "cell_type": "code",
   "execution_count": 9,
   "metadata": {},
   "outputs": [
    {
     "data": {
      "text/plain": [
       "(2339, 37)"
      ]
     },
     "execution_count": 9,
     "metadata": {},
     "output_type": "execute_result"
    }
   ],
   "source": [
    "plan_info_new.shape"
   ]
  },
  {
   "cell_type": "code",
   "execution_count": 10,
   "metadata": {},
   "outputs": [
    {
     "data": {
      "text/plain": [
       "(31072, 37)"
      ]
     },
     "execution_count": 10,
     "metadata": {},
     "output_type": "execute_result"
    }
   ],
   "source": [
    "plan_info.shape"
   ]
  },
  {
   "cell_type": "code",
   "execution_count": 19,
   "metadata": {},
   "outputs": [],
   "source": [
    "plan_info = plan_info.append(plan_info_new)\n",
    "image_info = image_info.append(image_info_new)\n",
    "launch_report = launch_report.append(launch_report_new)"
   ]
  },
  {
   "cell_type": "code",
   "execution_count": 20,
   "metadata": {},
   "outputs": [
    {
     "data": {
      "text/plain": [
       "(33411, 37)"
      ]
     },
     "execution_count": 20,
     "metadata": {},
     "output_type": "execute_result"
    }
   ],
   "source": [
    "plan_info.shape"
   ]
  },
  {
   "cell_type": "code",
   "execution_count": 21,
   "metadata": {},
   "outputs": [
    {
     "data": {
      "text/plain": [
       "(48172, 4)"
      ]
     },
     "execution_count": 21,
     "metadata": {},
     "output_type": "execute_result"
    }
   ],
   "source": [
    "image_info.shape"
   ]
  },
  {
   "cell_type": "code",
   "execution_count": 22,
   "metadata": {},
   "outputs": [
    {
     "data": {
      "text/html": [
       "<div>\n",
       "<style scoped>\n",
       "    .dataframe tbody tr th:only-of-type {\n",
       "        vertical-align: middle;\n",
       "    }\n",
       "\n",
       "    .dataframe tbody tr th {\n",
       "        vertical-align: top;\n",
       "    }\n",
       "\n",
       "    .dataframe thead th {\n",
       "        text-align: right;\n",
       "    }\n",
       "</style>\n",
       "<table border=\"1\" class=\"dataframe\">\n",
       "  <thead>\n",
       "    <tr style=\"text-align: right;\">\n",
       "      <th></th>\n",
       "      <th>channel_id</th>\n",
       "      <th>source_id</th>\n",
       "      <th>image_id</th>\n",
       "      <th>label_ids</th>\n",
       "    </tr>\n",
       "  </thead>\n",
       "  <tbody>\n",
       "    <tr>\n",
       "      <th>0</th>\n",
       "      <td>6770</td>\n",
       "      <td>254303</td>\n",
       "      <td>19395.0</td>\n",
       "      <td>NaN</td>\n",
       "    </tr>\n",
       "    <tr>\n",
       "      <th>1</th>\n",
       "      <td>6770</td>\n",
       "      <td>254304</td>\n",
       "      <td>19418.0</td>\n",
       "      <td>NaN</td>\n",
       "    </tr>\n",
       "    <tr>\n",
       "      <th>2</th>\n",
       "      <td>6770</td>\n",
       "      <td>254305</td>\n",
       "      <td>19418.0</td>\n",
       "      <td>NaN</td>\n",
       "    </tr>\n",
       "    <tr>\n",
       "      <th>3</th>\n",
       "      <td>6770</td>\n",
       "      <td>254306</td>\n",
       "      <td>19395.0</td>\n",
       "      <td>NaN</td>\n",
       "    </tr>\n",
       "    <tr>\n",
       "      <th>4</th>\n",
       "      <td>6770</td>\n",
       "      <td>254307</td>\n",
       "      <td>19511.0</td>\n",
       "      <td>NaN</td>\n",
       "    </tr>\n",
       "  </tbody>\n",
       "</table>\n",
       "</div>"
      ],
      "text/plain": [
       "   channel_id  source_id  image_id label_ids\n",
       "0        6770     254303   19395.0       NaN\n",
       "1        6770     254304   19418.0       NaN\n",
       "2        6770     254305   19418.0       NaN\n",
       "3        6770     254306   19395.0       NaN\n",
       "4        6770     254307   19511.0       NaN"
      ]
     },
     "execution_count": 22,
     "metadata": {},
     "output_type": "execute_result"
    }
   ],
   "source": [
    "image_info.head()"
   ]
  },
  {
   "cell_type": "code",
   "execution_count": 23,
   "metadata": {},
   "outputs": [
    {
     "data": {
      "text/html": [
       "<div>\n",
       "<style scoped>\n",
       "    .dataframe tbody tr th:only-of-type {\n",
       "        vertical-align: middle;\n",
       "    }\n",
       "\n",
       "    .dataframe tbody tr th {\n",
       "        vertical-align: top;\n",
       "    }\n",
       "\n",
       "    .dataframe thead th {\n",
       "        text-align: right;\n",
       "    }\n",
       "</style>\n",
       "<table border=\"1\" class=\"dataframe\">\n",
       "  <thead>\n",
       "    <tr style=\"text-align: right;\">\n",
       "      <th></th>\n",
       "      <th>tdate</th>\n",
       "      <th>platform</th>\n",
       "      <th>game_id</th>\n",
       "      <th>channel_id</th>\n",
       "      <th>source_id</th>\n",
       "      <th>amount</th>\n",
       "      <th>create_role_num</th>\n",
       "      <th>pay_role_user_num</th>\n",
       "      <th>new_role_money</th>\n",
       "      <th>image_id</th>\n",
       "      <th>label_ids</th>\n",
       "    </tr>\n",
       "  </thead>\n",
       "  <tbody>\n",
       "    <tr>\n",
       "      <th>0</th>\n",
       "      <td>2020-1-1 00:00:00</td>\n",
       "      <td>1.0</td>\n",
       "      <td>1000840.0</td>\n",
       "      <td>6867</td>\n",
       "      <td>251792</td>\n",
       "      <td>2165.45</td>\n",
       "      <td>119.0</td>\n",
       "      <td>0.0</td>\n",
       "      <td>0.0</td>\n",
       "      <td>NaN</td>\n",
       "      <td>NaN</td>\n",
       "    </tr>\n",
       "    <tr>\n",
       "      <th>1</th>\n",
       "      <td>2020-1-1 00:00:00</td>\n",
       "      <td>1.0</td>\n",
       "      <td>1000840.0</td>\n",
       "      <td>7162</td>\n",
       "      <td>245825</td>\n",
       "      <td>134.10</td>\n",
       "      <td>10.0</td>\n",
       "      <td>0.0</td>\n",
       "      <td>0.0</td>\n",
       "      <td>NaN</td>\n",
       "      <td>NaN</td>\n",
       "    </tr>\n",
       "    <tr>\n",
       "      <th>2</th>\n",
       "      <td>2020-1-1 00:00:00</td>\n",
       "      <td>1.0</td>\n",
       "      <td>1000840.0</td>\n",
       "      <td>7162</td>\n",
       "      <td>245826</td>\n",
       "      <td>1524.50</td>\n",
       "      <td>74.0</td>\n",
       "      <td>0.0</td>\n",
       "      <td>0.0</td>\n",
       "      <td>NaN</td>\n",
       "      <td>NaN</td>\n",
       "    </tr>\n",
       "    <tr>\n",
       "      <th>3</th>\n",
       "      <td>2020-1-1 00:00:00</td>\n",
       "      <td>1.0</td>\n",
       "      <td>1000840.0</td>\n",
       "      <td>20754</td>\n",
       "      <td>251670</td>\n",
       "      <td>13.17</td>\n",
       "      <td>1.0</td>\n",
       "      <td>0.0</td>\n",
       "      <td>0.0</td>\n",
       "      <td>NaN</td>\n",
       "      <td>NaN</td>\n",
       "    </tr>\n",
       "    <tr>\n",
       "      <th>4</th>\n",
       "      <td>2020-1-1 00:00:00</td>\n",
       "      <td>1.0</td>\n",
       "      <td>1000840.0</td>\n",
       "      <td>20754</td>\n",
       "      <td>251671</td>\n",
       "      <td>3272.51</td>\n",
       "      <td>168.0</td>\n",
       "      <td>1.0</td>\n",
       "      <td>12.0</td>\n",
       "      <td>NaN</td>\n",
       "      <td>NaN</td>\n",
       "    </tr>\n",
       "  </tbody>\n",
       "</table>\n",
       "</div>"
      ],
      "text/plain": [
       "               tdate  platform    game_id  channel_id  source_id   amount  \\\n",
       "0  2020-1-1 00:00:00       1.0  1000840.0        6867     251792  2165.45   \n",
       "1  2020-1-1 00:00:00       1.0  1000840.0        7162     245825   134.10   \n",
       "2  2020-1-1 00:00:00       1.0  1000840.0        7162     245826  1524.50   \n",
       "3  2020-1-1 00:00:00       1.0  1000840.0       20754     251670    13.17   \n",
       "4  2020-1-1 00:00:00       1.0  1000840.0       20754     251671  3272.51   \n",
       "\n",
       "   create_role_num  pay_role_user_num  new_role_money  image_id label_ids  \n",
       "0            119.0                0.0             0.0       NaN       NaN  \n",
       "1             10.0                0.0             0.0       NaN       NaN  \n",
       "2             74.0                0.0             0.0       NaN       NaN  \n",
       "3              1.0                0.0             0.0       NaN       NaN  \n",
       "4            168.0                1.0            12.0       NaN       NaN  "
      ]
     },
     "execution_count": 23,
     "metadata": {},
     "output_type": "execute_result"
    }
   ],
   "source": [
    "launch_report.head()"
   ]
  }
 ],
 "metadata": {
  "kernelspec": {
   "display_name": "Python 3",
   "language": "python",
   "name": "python3"
  },
  "language_info": {
   "codemirror_mode": {
    "name": "ipython",
    "version": 3
   },
   "file_extension": ".py",
   "mimetype": "text/x-python",
   "name": "python",
   "nbconvert_exporter": "python",
   "pygments_lexer": "ipython3",
   "version": "3.7.6"
  }
 },
 "nbformat": 4,
 "nbformat_minor": 4
}
