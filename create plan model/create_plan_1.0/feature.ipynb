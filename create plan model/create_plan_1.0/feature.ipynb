{
 "cells": [
  {
   "cell_type": "code",
   "execution_count": 1,
   "metadata": {},
   "outputs": [],
   "source": [
    "import pandas as pd\n",
    "import numpy as np"
   ]
  },
  {
   "cell_type": "code",
   "execution_count": 2,
   "metadata": {},
   "outputs": [],
   "source": [
    "data = pd.read_csv('./out_put.csv')"
   ]
  },
  {
   "cell_type": "code",
   "execution_count": 4,
   "metadata": {},
   "outputs": [
    {
     "data": {
      "text/plain": [
       "(5578, 2)"
      ]
     },
     "execution_count": 4,
     "metadata": {},
     "output_type": "execute_result"
    }
   ],
   "source": [
    "data.shape"
   ]
  },
  {
   "cell_type": "code",
   "execution_count": 5,
   "metadata": {},
   "outputs": [
    {
     "data": {
      "text/html": [
       "<div>\n",
       "<style scoped>\n",
       "    .dataframe tbody tr th:only-of-type {\n",
       "        vertical-align: middle;\n",
       "    }\n",
       "\n",
       "    .dataframe tbody tr th {\n",
       "        vertical-align: top;\n",
       "    }\n",
       "\n",
       "    .dataframe thead th {\n",
       "        text-align: right;\n",
       "    }\n",
       "</style>\n",
       "<table border=\"1\" class=\"dataframe\">\n",
       "  <thead>\n",
       "    <tr style=\"text-align: right;\">\n",
       "      <th></th>\n",
       "      <th>outer_plan_param</th>\n",
       "      <th>create_time</th>\n",
       "    </tr>\n",
       "  </thead>\n",
       "  <tbody>\n",
       "    <tr>\n",
       "      <th>0</th>\n",
       "      <td>{\"app_type\":\"APP_ANDROID\",\"smart_bid_type\":\"SM...</td>\n",
       "      <td>2020-1-19 15:29:09</td>\n",
       "    </tr>\n",
       "    <tr>\n",
       "      <th>1</th>\n",
       "      <td>{\"app_type\":\"APP_ANDROID\",\"smart_bid_type\":\"SM...</td>\n",
       "      <td>2020-4-29 17:54:56</td>\n",
       "    </tr>\n",
       "    <tr>\n",
       "      <th>2</th>\n",
       "      <td>{\"app_type\":\"APP_ANDROID\",\"smart_bid_type\":\"SM...</td>\n",
       "      <td>2020-5-20 18:10:34</td>\n",
       "    </tr>\n",
       "    <tr>\n",
       "      <th>3</th>\n",
       "      <td>{\"app_type\":\"APP_ANDROID\",\"smart_bid_type\":\"SM...</td>\n",
       "      <td>2020-5-20 18:10:34</td>\n",
       "    </tr>\n",
       "    <tr>\n",
       "      <th>9</th>\n",
       "      <td>{\"app_type\":\"APP_ANDROID\",\"smart_bid_type\":\"SM...</td>\n",
       "      <td>2020-5-21 11:06:32</td>\n",
       "    </tr>\n",
       "    <tr>\n",
       "      <th>...</th>\n",
       "      <td>...</td>\n",
       "      <td>...</td>\n",
       "    </tr>\n",
       "    <tr>\n",
       "      <th>5391</th>\n",
       "      <td>{\"app_type\":\"APP_IOS\",\"smart_bid_type\":\"SMART_...</td>\n",
       "      <td>2020-9-4 10:48:57</td>\n",
       "    </tr>\n",
       "    <tr>\n",
       "      <th>5392</th>\n",
       "      <td>{\"app_type\":\"APP_IOS\",\"smart_bid_type\":\"SMART_...</td>\n",
       "      <td>2020-9-4 10:48:57</td>\n",
       "    </tr>\n",
       "    <tr>\n",
       "      <th>5393</th>\n",
       "      <td>{\"app_type\":\"APP_IOS\",\"smart_bid_type\":\"SMART_...</td>\n",
       "      <td>2020-9-4 10:48:57</td>\n",
       "    </tr>\n",
       "    <tr>\n",
       "      <th>5394</th>\n",
       "      <td>{\"app_type\":\"APP_IOS\",\"smart_bid_type\":\"SMART_...</td>\n",
       "      <td>2020-9-4 10:48:57</td>\n",
       "    </tr>\n",
       "    <tr>\n",
       "      <th>5395</th>\n",
       "      <td>{\"app_type\":\"APP_IOS\",\"smart_bid_type\":\"SMART_...</td>\n",
       "      <td>2020-9-4 10:48:57</td>\n",
       "    </tr>\n",
       "  </tbody>\n",
       "</table>\n",
       "<p>5578 rows × 2 columns</p>\n",
       "</div>"
      ],
      "text/plain": [
       "                                       outer_plan_param         create_time\n",
       "0     {\"app_type\":\"APP_ANDROID\",\"smart_bid_type\":\"SM...  2020-1-19 15:29:09\n",
       "1     {\"app_type\":\"APP_ANDROID\",\"smart_bid_type\":\"SM...  2020-4-29 17:54:56\n",
       "2     {\"app_type\":\"APP_ANDROID\",\"smart_bid_type\":\"SM...  2020-5-20 18:10:34\n",
       "3     {\"app_type\":\"APP_ANDROID\",\"smart_bid_type\":\"SM...  2020-5-20 18:10:34\n",
       "9     {\"app_type\":\"APP_ANDROID\",\"smart_bid_type\":\"SM...  2020-5-21 11:06:32\n",
       "...                                                 ...                 ...\n",
       "5391  {\"app_type\":\"APP_IOS\",\"smart_bid_type\":\"SMART_...   2020-9-4 10:48:57\n",
       "5392  {\"app_type\":\"APP_IOS\",\"smart_bid_type\":\"SMART_...   2020-9-4 10:48:57\n",
       "5393  {\"app_type\":\"APP_IOS\",\"smart_bid_type\":\"SMART_...   2020-9-4 10:48:57\n",
       "5394  {\"app_type\":\"APP_IOS\",\"smart_bid_type\":\"SMART_...   2020-9-4 10:48:57\n",
       "5395  {\"app_type\":\"APP_IOS\",\"smart_bid_type\":\"SMART_...   2020-9-4 10:48:57\n",
       "\n",
       "[5578 rows x 2 columns]"
      ]
     },
     "execution_count": 5,
     "metadata": {},
     "output_type": "execute_result"
    }
   ],
   "source": [
    "data.sort_values('create_time')"
   ]
  },
  {
   "cell_type": "code",
   "execution_count": 8,
   "metadata": {},
   "outputs": [
    {
     "name": "stdout",
     "output_type": "stream",
     "text": [
      "<class 'pandas.core.frame.DataFrame'>\n",
      "RangeIndex: 5578 entries, 0 to 5577\n",
      "Data columns (total 2 columns):\n",
      " #   Column            Non-Null Count  Dtype \n",
      "---  ------            --------------  ----- \n",
      " 0   outer_plan_param  5578 non-null   object\n",
      " 1   create_time       5578 non-null   object\n",
      "dtypes: object(2)\n",
      "memory usage: 87.3+ KB\n"
     ]
    }
   ],
   "source": [
    "data.info()"
   ]
  },
  {
   "cell_type": "code",
   "execution_count": 7,
   "metadata": {},
   "outputs": [
    {
     "data": {
      "text/plain": [
       "'{\"app_type\":\"APP_ANDROID\",\"smart_bid_type\":\"SMART_BID_CUSTOM\",\"gender\":\"NONE\",\"city\":[],\"app_behavior_target\":\"NONE\",\"ad_tag\":[],\"convert\":\"AD_CONVERT_TYPE_ACTIVE\",\"platform\":[\"ANDROID\"],\"union_video_type\":\"ORIGINAL_VIDEO\",\"exclude_flow_package\":[],\"external_url\":\"\",\"deep_bid_type\":\"DEEP_BID_DEFAULT\",\"activate_type\":\"NONE\",\"download_url\":\"\",\"audiences\":[{\"retargeting_tags_include\":[],\"retargeting_tags_exclude\":[],\"account_id\":5235}],\"retargeting_tags_exclude\":[],\"hide_if_converted\":\"AD\",\"timeRange\":\"NONE\",\"budget\":300,\"article_category\":[],\"ac\":\"NONE\",\"schedule_type\":\"SCHEDULE_FROM_NOW\",\"ad\":\"CONVERSION\",\"android_osv\":\"0.0\",\"flow_control_mode\":\"FLOW_CONTROL_MODE_FAST\",\"delivery_range\":\"DEFAULT\",\"end_time\":\"2020-01-19 23:59\",\"flow_package\":[],\"tags\":\"NONE\",\"start_time\":\"2020-01-19 00:00\",\"carrier\":\"NONE\",\"schedule_time\":\"000000000000000000000000000000000000000000000000000000000000000000000000000000000000000000000000000000000000000000000000000000000000000000000000000000000000000000000000000000000000000000000000000000000000000000000000000000000000000000000000000000000000000000000000000000000000000000000000000000000000000000000000000000000000000000000000\",\"superior_popularity_type\":\"NONE\",\"retargeting_tags_include\":[],\"device_brand\":[],\"download_type\":\"DOWNLOAD_URL\",\"district\":\"NONE\",\"cpa_bid\":2,\"budget_mode\":\"BUDGET_MODE_DAY\",\"app_category\":[],\"bid\":2,\"pricing\":\"PRICING_OCPM\",\"age\":\"NONE\"}'"
      ]
     },
     "execution_count": 7,
     "metadata": {},
     "output_type": "execute_result"
    }
   ],
   "source": [
    "data['outer_plan_param'].values[0]"
   ]
  }
 ],
 "metadata": {
  "kernelspec": {
   "display_name": "Python 3",
   "language": "python",
   "name": "python3"
  },
  "language_info": {
   "codemirror_mode": {
    "name": "ipython",
    "version": 3
   },
   "file_extension": ".py",
   "mimetype": "text/x-python",
   "name": "python",
   "nbconvert_exporter": "python",
   "pygments_lexer": "ipython3",
   "version": "3.7.6"
  }
 },
 "nbformat": 4,
 "nbformat_minor": 4
}
