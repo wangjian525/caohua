{
 "cells": [
  {
   "cell_type": "code",
   "execution_count": 11,
   "metadata": {},
   "outputs": [],
   "source": [
    "import pandas as pd\n",
    "import numpy as np\n",
    "import json\n",
    "import warnings\n",
    "warnings.filterwarnings('ignore')\n",
    "from impala.dbapi import connect\n",
    "from impala.util import as_pandas\n",
    "import pymysql"
   ]
  },
  {
   "cell_type": "code",
   "execution_count": 34,
   "metadata": {},
   "outputs": [],
   "source": [
    "pd.set_option('display.max_columns',None)"
   ]
  },
  {
   "cell_type": "code",
   "execution_count": 9,
   "metadata": {},
   "outputs": [],
   "source": [
    "# 获取score_image (分数大于550的image_id)\n",
    "def get_score_image():\n",
    "    conn = connect(host='192.168.0.88', port=10000, auth_mechanism='PLAIN', user='hadoop',\n",
    "                    password='Ycjh8FxiaoMtShZRd3-97%3hCEL0CK4ns1w', database='default')\n",
    "    cursor = conn.cursor()\n",
    "    sql_engine = 'set hive.execution.engine=tez'\n",
    "    sql = 'select image_id from dws.dws_image_score_d where media_id=10 and score>=550 and dt>=date_sub(CURRENT_DATE,1) group by image_id'\n",
    "    cursor.execute(sql_engine)\n",
    "    cursor.execute(sql)\n",
    "    result = as_pandas(cursor)\n",
    "    result['image_id'].values\n",
    "    # 关闭链接\n",
    "    cursor.close()\n",
    "    conn.close()\n",
    "    \n",
    "    return result['image_id'].values"
   ]
  },
  {
   "cell_type": "code",
   "execution_count": null,
   "metadata": {},
   "outputs": [],
   "source": []
  },
  {
   "cell_type": "code",
   "execution_count": 87,
   "metadata": {},
   "outputs": [],
   "source": [
    "# 获取近期（7天内）所有计划\n",
    "def get_plan_info():\n",
    "    conn = pymysql.connect(host='192.168.0.65', port=3306, user='readonly',\n",
    "                        passwd='Kc&r+z1ql9x8za4kzfk761weq8ozGv3ZpI;RMe,#+s%c>t', db='db_ptom')\n",
    "    cur = conn.cursor(cursor=pymysql.cursors.DictCursor)\n",
    "    sql = '''\n",
    "        SELECT\n",
    "                * \n",
    "            FROM\n",
    "                db_ptom.ptom_third_plan p\n",
    "            WHERE\n",
    "                game_id IN (\n",
    "            1000840,\n",
    "            1000862,\n",
    "            1000869,\n",
    "            1000935,\n",
    "            1000947,\n",
    "            1000960,\n",
    "            1001049,\n",
    "            1001058,\n",
    "            1001063,\n",
    "            1001079,\n",
    "            1001059,\n",
    "            1000954,\n",
    "            1000993,\n",
    "            1000994,\n",
    "            1000992,\n",
    "            1001258,\n",
    "            1001294,\n",
    "            1001295,\n",
    "            1001310,\n",
    "            1001155,\n",
    "            1001257,\n",
    "            1001379,\n",
    "            1001193,\n",
    "            1001400,\n",
    "            1001401,\n",
    "            1001402,\n",
    "            1001439,\n",
    "            1001413,\n",
    "            1001414,\n",
    "            1001420,\n",
    "            1001425,\n",
    "            1001426,\n",
    "            1001430,\n",
    "            1001431,\n",
    "            1001259,\n",
    "            1000985,\n",
    "            1001454,\n",
    "            1001455,\n",
    "            1001457,\n",
    "            1001460,\n",
    "            1001194,\n",
    "            1001484,\n",
    "            1001440,\n",
    "            1001540,\n",
    "            1001541\n",
    "                ) \n",
    "                AND media_id = 10\n",
    "                AND create_time>=(NOW() - interval 168 hour)\n",
    "                            AND plan_id >= (\n",
    "                                select plan_id from ptom_plan\n",
    "                                where create_time >= (NOW() - interval 168 hour)\n",
    "                                and create_time >= (NOW() - interval 192 hour)\n",
    "                                limit 1\n",
    "                            )\n",
    "    '''\n",
    "    cur.execute(sql)\n",
    "    result_df = pd.read_sql(sql, conn)\n",
    "    cur.close()\n",
    "    conn.close()\n",
    "    return result_df"
   ]
  },
  {
   "cell_type": "code",
   "execution_count": 24,
   "metadata": {},
   "outputs": [],
   "source": [
    "# 获取近期（7天内）所有计划\n",
    "# def get_plan_info():\n",
    "#     conn = pymysql.connect(host='192.168.0.65', port=3306, user='readonly',\n",
    "#                         passwd='Kc&r+z1ql9x8za4kzfk761weq8ozGv3ZpI;RMe,#+s%c>t', db='db_ptom')\n",
    "#     cur = conn.cursor(cursor=pymysql.cursors.DictCursor)\n",
    "#     sql = '''\n",
    "#         SELECT\n",
    "#             * \n",
    "#         FROM\n",
    "#             db_ptom.ptom_third_plan \n",
    "#         WHERE\n",
    "#             game_id IN (\n",
    "#         1000840,\n",
    "#         1000862,\n",
    "#         1000869,\n",
    "#         1000935,\n",
    "#         1000947,\n",
    "#         1000960,\n",
    "#         1001049,\n",
    "#         1001058,\n",
    "#         1001063,\n",
    "#         1001079,\n",
    "#         1001059,\n",
    "#         1000954,\n",
    "#         1000993,\n",
    "#         1000994,\n",
    "#         1000992,\n",
    "#         1001258,\n",
    "#         1001294,\n",
    "#         1001295,\n",
    "#         1001310,\n",
    "#         1001155,\n",
    "#         1001257,\n",
    "#         1001379,\n",
    "#         1001193,\n",
    "#         1001400,\n",
    "#         1001401,\n",
    "#         1001402,\n",
    "#         1001439,\n",
    "#         1001413,\n",
    "#         1001414,\n",
    "#         1001420,\n",
    "#         1001425,\n",
    "#         1001426,\n",
    "#         1001430,\n",
    "#         1001431,\n",
    "#         1001259,\n",
    "#         1000985,\n",
    "#         1001454,\n",
    "#         1001455,\n",
    "#         1001457,\n",
    "#         1001460,\n",
    "#         1001194,\n",
    "#         1001484,\n",
    "#         1001440,\n",
    "#         1001540,\n",
    "#         1001541\n",
    "#             ) \n",
    "#             AND media_id = 10\n",
    "#             AND create_time>=(NOW() - interval 168 hour)\n",
    "#     '''\n",
    "#     cur.execute(sql)\n",
    "#     result_df = pd.read_sql(sql, conn)\n",
    "#     cur.close()\n",
    "#     conn.close()\n",
    "#     return result_df"
   ]
  },
  {
   "cell_type": "code",
   "execution_count": 25,
   "metadata": {},
   "outputs": [],
   "source": [
    "# 获取近期计划的运营数据\n",
    "def get_now_plan_roi():\n",
    "    conn = pymysql.connect(host='192.168.0.79', port=3306, user='readonly',\n",
    "                        passwd='Kc&r+z1ql9x8za4kzfk761weq8ozGv3ZpI;RMe,#+s%c>t')\n",
    "    cur = conn.cursor(cursor=pymysql.cursors.DictCursor)\n",
    "    sql = '''\n",
    "        SELECT\n",
    "            a.channel_id as 'channel_id',\n",
    "            a.source_id as 'source_id',\n",
    "            a.amount as 'amount',\n",
    "            a.create_role_num as 'create_role_num',\n",
    "            b.new_role_money as 'new_role_money',\n",
    "            b.pay_role_user_num as 'pay_role_user_num'\n",
    "        FROM\n",
    "            (\n",
    "            SELECT\n",
    "                a.channel_id,\n",
    "                a.source_id,\n",
    "                sum(a.amount) as 'amount',\n",
    "                sum(a.create_role_num) as 'create_role_num' \n",
    "            FROM\n",
    "                db_stdata.st_lauch_report a\n",
    "            WHERE\n",
    "                a.tdate_type = 'day' \n",
    "                AND a.tdate >= date(NOW() - interval 168 hour)\n",
    "                AND a.tdate<=date(NOW() - interval 24 hour)\n",
    "                AND a.amount > 0 \n",
    "                AND a.media_id = 10 \n",
    "                AND a.game_id IN ( SELECT dev_game_id AS game_id FROM db_data.t_game_config WHERE game_id = 1056 AND dev_game_id IS NOT NULL )\n",
    "                GROUP BY a.channel_id,a.source_id\n",
    "                ) a\n",
    "            LEFT JOIN (\n",
    "            SELECT\n",
    "                c.channel_id,\n",
    "                c.source_id,\n",
    "                sum( c.create_role_money ) new_role_money,\n",
    "                IFNULL( sum( c.pay_role_user_num ), 0 ) AS pay_role_user_num \n",
    "            FROM\n",
    "                db_stdata.st_game_days c\n",
    "            WHERE\n",
    "                c.report_days = 7 \n",
    "                AND c.tdate = date(NOW() - interval 24 hour)\n",
    "                AND c.tdate_type = 'day' \n",
    "                AND c.query_type = 13 \n",
    "                AND c.game_id IN ( SELECT dev_game_id AS game_id FROM db_data.t_game_config WHERE game_id = 1056 AND dev_game_id IS NOT NULL ) \n",
    "            GROUP BY\n",
    "                c.channel_id,\n",
    "                c.source_id \n",
    "            HAVING\n",
    "                ( new_role_money > 0 OR pay_role_user_num > 0 ) \n",
    "            ) b ON a.source_id = b.source_id \n",
    "            AND a.channel_id = b.channel_id \n",
    "    '''\n",
    "    cur.execute(sql)\n",
    "    result_df = pd.read_sql(sql, conn)\n",
    "    cur.close()\n",
    "    conn.close()\n",
    "    return result_df"
   ]
  },
  {
   "cell_type": "code",
   "execution_count": 29,
   "metadata": {},
   "outputs": [],
   "source": [
    "# 获取image_id,label_ids\n",
    "def get_image_info():\n",
    "    conn = pymysql.connect(host='192.168.0.79', port=3306, user='readonly',\n",
    "                        passwd='Kc&r+z1ql9x8za4kzfk761weq8ozGv3ZpI;RMe,#+s%c>t')\n",
    "    cur = conn.cursor(cursor=pymysql.cursors.DictCursor)\n",
    "    sql = '''\n",
    "        SELECT\n",
    "            a.chl_user_id AS channel_id,\n",
    "            a.source_id,\n",
    "            a.image_id,\n",
    "            b.label_ids\n",
    "        FROM\n",
    "            db_data_ptom.ptom_plan a\n",
    "            LEFT JOIN\n",
    "            db_data_ptom.ptom_image_info b\n",
    "        on a.image_id = b.image_id\n",
    "        WHERE\n",
    "            a.game_id IN ( SELECT dev_game_id AS game_id FROM db_data.t_game_config WHERE game_id = 1056 AND dev_game_id IS NOT NULL ) \n",
    "            AND a.media_id = 10 \n",
    "            AND a.create_time >= '2020-10-01' \n",
    "        GROUP BY\n",
    "            a.chl_user_id,\n",
    "            a.source_id,\n",
    "            a.image_id\n",
    "    '''\n",
    "    cur.execute(sql)\n",
    "    result_df = pd.read_sql(sql, conn)\n",
    "    cur.close()\n",
    "    conn.close()\n",
    "    return result_df"
   ]
  },
  {
   "cell_type": "code",
   "execution_count": 89,
   "metadata": {},
   "outputs": [],
   "source": [
    "plan_info = get_plan_info()"
   ]
  },
  {
   "cell_type": "code",
   "execution_count": 90,
   "metadata": {},
   "outputs": [
    {
     "data": {
      "text/plain": [
       "(3096, 37)"
      ]
     },
     "execution_count": 90,
     "metadata": {},
     "output_type": "execute_result"
    }
   ],
   "source": [
    "plan_info.shape"
   ]
  },
  {
   "cell_type": "code",
   "execution_count": 88,
   "metadata": {},
   "outputs": [
    {
     "data": {
      "text/plain": [
       "(3109, 35)"
      ]
     },
     "execution_count": 88,
     "metadata": {},
     "output_type": "execute_result"
    }
   ],
   "source": [
    "plan_info.shape"
   ]
  },
  {
   "cell_type": "code",
   "execution_count": 30,
   "metadata": {},
   "outputs": [],
   "source": [
    "plan_info = get_plan_info()\n",
    "now_plan_roi = get_now_plan_roi()\n",
    "image_info = get_image_info()\n",
    "score_image = get_score_image()"
   ]
  },
  {
   "cell_type": "code",
   "execution_count": 31,
   "metadata": {},
   "outputs": [],
   "source": [
    "plan_info.drop('inventory_type', axis=1, inplace=True)\n",
    "plan_info.dropna(how='all', inplace=True, axis=1)\n",
    "plan_info.dropna(subset=['ad_info'],inplace=True)\n",
    "# 解析json\n",
    "plan_info['ad_info'] = plan_info['ad_info'].apply(json.loads)\n",
    "temp = plan_info['ad_info'].apply(pd.Series)\n",
    "plan_info = pd.concat([plan_info,temp], axis=1)\n",
    "plan_info.drop('ad_info', axis=1, inplace=True)\n",
    "temp = plan_info['audience'].apply(pd.Series)\n",
    "plan_info = pd.concat([plan_info,temp], axis=1)\n",
    "plan_info.drop('audience', axis=1, inplace=True)\n",
    "temp = plan_info['action'].apply(pd.Series)\n",
    "plan_info = pd.concat([plan_info,temp], axis=1)\n",
    "plan_info.drop('action', axis=1, inplace=True)\n",
    "plan_info.dropna(how='all', inplace=True, axis=1)\n",
    "plan_info = plan_info[['ad_account_id', 'game_id', 'channel_id', 'source_id', 'bid2',\n",
    "       'create_time', 'smart_bid_type', 'hide_if_exists', 'budget',\n",
    "       'delivery_range', 'adjust_cpa', 'inventory_type', 'hide_if_converted',\n",
    "       'flow_control_mode', 'schedule_time', 'cpa_bid', 'auto_extend_enabled',\n",
    "       'gender', 'city', 'platform', 'launch_price',\n",
    "       'retargeting_tags_exclude', 'interest_categories',\n",
    "       'ac', 'android_osv', 'location_type', 'retargeting_tags_include',\n",
    "       'retargeting_type', 'ios_osv', 'interest_action_mode', 'age',\n",
    "       'action_categories', 'action_days', 'action_scene']]"
   ]
  },
  {
   "cell_type": "code",
   "execution_count": 57,
   "metadata": {},
   "outputs": [],
   "source": [
    "df = pd.merge(plan_info,image_info,on=['channel_id','source_id'],how='left')\n",
    "df = pd.merge(df,now_plan_roi,on=['channel_id','source_id'],how='inner')\n",
    "df = df[df['pay_role_user_num'].notna()]\n",
    "df['roi'] = df['new_role_money']/df['amount']\n",
    "df['pay_cost'] = df['amount']/df['pay_role_user_num']"
   ]
  },
  {
   "cell_type": "code",
   "execution_count": 58,
   "metadata": {},
   "outputs": [],
   "source": [
    "df['platform'] = df['platform'].astype(str)\n",
    "df['platform'] = df['platform'].map({\"['ANDROID']\":1,\"['IOS']\":2})\n",
    "df['platform'] = df['platform'].astype(int)\n",
    "df['pay_cost_ok'] = df.apply(lambda x:1 if (x.platform==1)&(x.pay_cost<=5000) else (1 if \n",
    "                            (x.platform==2)&(x.pay_cost<=8000) else 0), axis=1)\n",
    "df['amount_ok'] = df.apply(lambda x:1 if (x.platform==1)&(x.amount>=5000) else (1 if \n",
    "                            (x.platform==2)&(x.amount>=8000) else 0), axis=1)\n",
    "df = df[(df['amount_ok']==1)&(df['pay_cost_ok']==1)]\n",
    "df = df[df['roi']>0.01]"
   ]
  },
  {
   "cell_type": "code",
   "execution_count": 59,
   "metadata": {},
   "outputs": [],
   "source": [
    "df.dropna(subset=['image_id'],inplace=True)\n",
    "df['image_id'] = df['image_id'].astype(int)\n",
    "df['pay_rate'] = df['pay_role_user_num'] / df['create_role_num']"
   ]
  },
  {
   "cell_type": "code",
   "execution_count": 60,
   "metadata": {},
   "outputs": [],
   "source": [
    "df = df[df['platform']==1]"
   ]
  },
  {
   "cell_type": "code",
   "execution_count": 70,
   "metadata": {},
   "outputs": [],
   "source": [
    "# 选ad_account_id、image_id、game_id，每个账号+素材8条\n",
    "ad_account_id_group = np.array([6620,6621,6867,6868])\n",
    "image_id_group =np.intersect1d(df['image_id'].unique(),scroe_image)\n",
    "plan = pd.DataFrame()\n",
    "for ad_account in ad_account_id_group:\n",
    "    for image in image_id_group:\n",
    "#         print(image)\n",
    "        temp = pd.DataFrame({'ad_account_id':[ad_account],'image_id':[image]})\n",
    "        plan = plan.append(temp)\n",
    "#         print(temp)\n",
    "plan = pd.DataFrame(np.repeat(plan.values,8,axis=0), columns=plan.columns)\n",
    "plan['game_id'] = 1001379"
   ]
  },
  {
   "cell_type": "code",
   "execution_count": 71,
   "metadata": {},
   "outputs": [],
   "source": [
    "# 选platform测试期默认[ANDROID]\n",
    "plan['platform']='[ANDROID]'"
   ]
  },
  {
   "cell_type": "code",
   "execution_count": 72,
   "metadata": {},
   "outputs": [],
   "source": [
    "# 选android_osv\n",
    "count_df = pd.DataFrame(data=df['android_osv'].value_counts()).reset_index()\n",
    "count_df.columns = ['col','counts']\n",
    "count_df['pct'] = count_df['counts'] / count_df['counts'].sum()\n",
    "plan['android_osv']=plan['platform'].apply(lambda x:'NONE' if x=='[IOS]' else \n",
    "                                           np.random.choice(count_df['col'].values, 1, p=count_df['pct'].values)[0])"
   ]
  },
  {
   "cell_type": "code",
   "execution_count": 73,
   "metadata": {},
   "outputs": [],
   "source": [
    "# 选ios_osv\n",
    "count_df = pd.DataFrame(data=df['ios_osv'].value_counts()).reset_index()\n",
    "count_df.columns = ['col','counts']\n",
    "count_df['pct'] = count_df['counts'] / count_df['counts'].sum()\n",
    "plan['ios_osv']=plan['platform'].apply(lambda x:'NONE' if x=='[ANDROID]' else \n",
    "                                           np.random.choice(count_df['col'].values, 1, p=count_df['pct'].values)[0])"
   ]
  },
  {
   "cell_type": "code",
   "execution_count": 74,
   "metadata": {},
   "outputs": [],
   "source": [
    "# 选budget \n",
    "plan['budget']= plan['platform'].apply(lambda x:3300 if x=='[ANDROID]' else 4000)"
   ]
  },
  {
   "cell_type": "code",
   "execution_count": 75,
   "metadata": {},
   "outputs": [],
   "source": [
    "# 选'retargeting_type','retargeting_tags_include','retargeting_tags_exclude'  人群包定向\n",
    "sample_df = df[['retargeting_type','retargeting_tags_include','retargeting_tags_exclude','pay_rate']]\n",
    "sample_df = sample_df.sample(n=plan.shape[0], replace=True, weights=sample_df['pay_rate']).drop('pay_rate',axis=1).reset_index(drop=True)\n",
    "plan = pd.concat([plan, sample_df], axis=1)"
   ]
  },
  {
   "cell_type": "code",
   "execution_count": 76,
   "metadata": {},
   "outputs": [],
   "source": [
    "# 选'interest_action_mode','action_scene','action_days','action_categories' ,'interest_categories' 行为兴趣\n",
    "sample_df = df[['interest_action_mode','action_scene','action_days','action_categories','interest_categories','pay_rate']]\n",
    "sample_df = sample_df.sample(n=plan.shape[0], replace=True, weights=sample_df['pay_rate']).drop('pay_rate',axis=1).reset_index(drop=True)\n",
    "plan = pd.concat([plan, sample_df], axis=1)"
   ]
  },
  {
   "cell_type": "code",
   "execution_count": 77,
   "metadata": {},
   "outputs": [],
   "source": [
    "# 选'smart_bid_type','adjust_cpa','cpa_bid','bid'出价方式\n",
    "sample_df = df[['smart_bid_type','adjust_cpa','cpa_bid','bid2','pay_rate']]\n",
    "sample_df = sample_df[sample_df['bid2']>=1500]\n",
    "sample_df = sample_df.sample(n=plan.shape[0], replace=True, weights=sample_df['pay_rate']).drop('pay_rate',axis=1).reset_index(drop=True)\n",
    "plan = pd.concat([plan, sample_df], axis=1)"
   ]
  },
  {
   "cell_type": "code",
   "execution_count": 78,
   "metadata": {},
   "outputs": [],
   "source": [
    "# 选\n",
    "cols = ['delivery_range','city','location_type','gender','age','ac','launch_price',\n",
    "       'auto_extend_enabled','hide_if_exists','hide_if_converted','schedule_time','flow_control_mode']\n",
    "for col in cols:\n",
    "    count_df = pd.DataFrame(data=df[col].value_counts()).reset_index()\n",
    "    count_df.columns = ['col','counts']\n",
    "    count_df['pct'] = count_df['counts'] / count_df['counts'].sum()\n",
    "    plan[col]=plan.apply(lambda x:np.random.choice(count_df['col'].values, 1, p=count_df['pct'].values)[0], axis=1)"
   ]
  },
  {
   "cell_type": "code",
   "execution_count": 117,
   "metadata": {},
   "outputs": [],
   "source": [
    "# 选inventory_type 创意投放位置\n",
    "count_df = pd.DataFrame(data=df['inventory_type'].value_counts()).reset_index()\n",
    "count_df.columns = ['col','counts']\n",
    "\n",
    "for i in range(count_df.shape[0]):\n",
    "    values = count_df.loc[i,'col']\n",
    "    \n",
    "    for value in values:\n",
    "        if value== None:\n",
    "            values.remove(value)\n",
    "    a = np.empty(1, dtype=object)\n",
    "    a[0] = values\n",
    "    count_df.loc[i,'col'] = a\n",
    "count_df['pct'] = count_df['counts'] / count_df['counts'].sum()\n",
    "plan['inventory_type']=plan.apply(lambda x:np.random.choice(count_df['col'].values, 1, p=count_df['pct'].values)[0], axis=1)"
   ]
  },
  {
   "cell_type": "code",
   "execution_count": 120,
   "metadata": {},
   "outputs": [
    {
     "data": {
      "text/plain": [
       "array([25547, 25562, 26241, 26441, 27434, 27672, 28541, 28594, 28678,\n",
       "       28722, 28744, 28787, 28800, 28803, 28849, 28870, 28891, 28976,\n",
       "       29000, 29045, 29075, 29160, 29186, 29356, 29409, 29437, 29451,\n",
       "       29477, 29479, 29481, 29512], dtype=int64)"
      ]
     },
     "execution_count": 120,
     "metadata": {},
     "output_type": "execute_result"
    }
   ],
   "source": [
    "plan['image_id'].unique()"
   ]
  },
  {
   "cell_type": "code",
   "execution_count": 119,
   "metadata": {},
   "outputs": [
    {
     "data": {
      "text/plain": [
       "(992, 32)"
      ]
     },
     "execution_count": 119,
     "metadata": {},
     "output_type": "execute_result"
    }
   ],
   "source": [
    "plan.shape"
   ]
  },
  {
   "cell_type": "code",
   "execution_count": 104,
   "metadata": {},
   "outputs": [],
   "source": [
    "plan_sample = plan.sample(10)"
   ]
  },
  {
   "cell_type": "code",
   "execution_count": 105,
   "metadata": {},
   "outputs": [
    {
     "data": {
      "text/plain": [
       "(10, 32)"
      ]
     },
     "execution_count": 105,
     "metadata": {},
     "output_type": "execute_result"
    }
   ],
   "source": [
    "plan_sample.shape"
   ]
  },
  {
   "cell_type": "code",
   "execution_count": 121,
   "metadata": {},
   "outputs": [
    {
     "data": {
      "text/plain": [
       "Index(['ad_account_id', 'image_id', 'game_id', 'platform', 'android_osv',\n",
       "       'ios_osv', 'budget', 'retargeting_type', 'retargeting_tags_include',\n",
       "       'retargeting_tags_exclude', 'interest_action_mode', 'action_scene',\n",
       "       'action_days', 'action_categories', 'interest_categories',\n",
       "       'smart_bid_type', 'adjust_cpa', 'cpa_bid', 'bid2', 'delivery_range',\n",
       "       'inventory_type', 'city', 'location_type', 'gender', 'age', 'ac',\n",
       "       'launch_price', 'auto_extend_enabled', 'hide_if_exists',\n",
       "       'hide_if_converted', 'schedule_time', 'flow_control_mode'],\n",
       "      dtype='object')"
      ]
     },
     "execution_count": 121,
     "metadata": {},
     "output_type": "execute_result"
    }
   ],
   "source": [
    "plan_sample.columns"
   ]
  },
  {
   "cell_type": "code",
   "execution_count": 118,
   "metadata": {},
   "outputs": [
    {
     "data": {
      "text/html": [
       "<div>\n",
       "<style scoped>\n",
       "    .dataframe tbody tr th:only-of-type {\n",
       "        vertical-align: middle;\n",
       "    }\n",
       "\n",
       "    .dataframe tbody tr th {\n",
       "        vertical-align: top;\n",
       "    }\n",
       "\n",
       "    .dataframe thead th {\n",
       "        text-align: right;\n",
       "    }\n",
       "</style>\n",
       "<table border=\"1\" class=\"dataframe\">\n",
       "  <thead>\n",
       "    <tr style=\"text-align: right;\">\n",
       "      <th></th>\n",
       "      <th>ad_account_id</th>\n",
       "      <th>image_id</th>\n",
       "      <th>game_id</th>\n",
       "      <th>platform</th>\n",
       "      <th>android_osv</th>\n",
       "      <th>ios_osv</th>\n",
       "      <th>budget</th>\n",
       "      <th>retargeting_type</th>\n",
       "      <th>retargeting_tags_include</th>\n",
       "      <th>retargeting_tags_exclude</th>\n",
       "      <th>interest_action_mode</th>\n",
       "      <th>action_scene</th>\n",
       "      <th>action_days</th>\n",
       "      <th>action_categories</th>\n",
       "      <th>interest_categories</th>\n",
       "      <th>smart_bid_type</th>\n",
       "      <th>adjust_cpa</th>\n",
       "      <th>cpa_bid</th>\n",
       "      <th>bid2</th>\n",
       "      <th>delivery_range</th>\n",
       "      <th>inventory_type</th>\n",
       "      <th>city</th>\n",
       "      <th>location_type</th>\n",
       "      <th>gender</th>\n",
       "      <th>age</th>\n",
       "      <th>ac</th>\n",
       "      <th>launch_price</th>\n",
       "      <th>auto_extend_enabled</th>\n",
       "      <th>hide_if_exists</th>\n",
       "      <th>hide_if_converted</th>\n",
       "      <th>schedule_time</th>\n",
       "      <th>flow_control_mode</th>\n",
       "    </tr>\n",
       "  </thead>\n",
       "  <tbody>\n",
       "    <tr>\n",
       "      <th>0</th>\n",
       "      <td>6620</td>\n",
       "      <td>25547</td>\n",
       "      <td>1001379</td>\n",
       "      <td>[ANDROID]</td>\n",
       "      <td>8.0</td>\n",
       "      <td>NONE</td>\n",
       "      <td>3300</td>\n",
       "      <td>RETARGETING_EXCLUDE</td>\n",
       "      <td>[]</td>\n",
       "      <td>[311914394, 311886984, 311886780, 308546996]</td>\n",
       "      <td>UNLIMITED</td>\n",
       "      <td>NaN</td>\n",
       "      <td>NaN</td>\n",
       "      <td>NaN</td>\n",
       "      <td>[]</td>\n",
       "      <td>SMART_BID_CUSTOM</td>\n",
       "      <td>0</td>\n",
       "      <td>2917.10</td>\n",
       "      <td>2917.10</td>\n",
       "      <td>DEFAULT</td>\n",
       "      <td>[INVENTORY_AWEME_FEED, INVENTORY_FEED]</td>\n",
       "      <td>[]</td>\n",
       "      <td>CURRENT</td>\n",
       "      <td>GENDER_MALE</td>\n",
       "      <td>[AGE_BETWEEN_24_30, AGE_BETWEEN_31_40, AGE_BET...</td>\n",
       "      <td>[4G, WIFI]</td>\n",
       "      <td>[0, 11000]</td>\n",
       "      <td>0</td>\n",
       "      <td>1</td>\n",
       "      <td>CUSTOMER</td>\n",
       "      <td>0000000000000000000000000000111111111111111111...</td>\n",
       "      <td>FLOW_CONTROL_MODE_FAST</td>\n",
       "    </tr>\n",
       "    <tr>\n",
       "      <th>1</th>\n",
       "      <td>6620</td>\n",
       "      <td>25547</td>\n",
       "      <td>1001379</td>\n",
       "      <td>[ANDROID]</td>\n",
       "      <td>8.0</td>\n",
       "      <td>NONE</td>\n",
       "      <td>3300</td>\n",
       "      <td>RETARGETING_EXCLUDE</td>\n",
       "      <td>[]</td>\n",
       "      <td>[316365390, 316737743]</td>\n",
       "      <td>UNLIMITED</td>\n",
       "      <td>NaN</td>\n",
       "      <td>NaN</td>\n",
       "      <td>NaN</td>\n",
       "      <td>[]</td>\n",
       "      <td>SMART_BID_CUSTOM</td>\n",
       "      <td>0</td>\n",
       "      <td>3000.00</td>\n",
       "      <td>3000.00</td>\n",
       "      <td>DEFAULT</td>\n",
       "      <td>[INVENTORY_HOTSOON_FEED, INVENTORY_UNION_SLOT,...</td>\n",
       "      <td>[]</td>\n",
       "      <td>CURRENT</td>\n",
       "      <td>GENDER_MALE</td>\n",
       "      <td>[AGE_BETWEEN_24_30, AGE_BETWEEN_31_40, AGE_BET...</td>\n",
       "      <td>[4G, WIFI]</td>\n",
       "      <td>[0, 11000]</td>\n",
       "      <td>0</td>\n",
       "      <td>0</td>\n",
       "      <td>CUSTOMER</td>\n",
       "      <td>0000000000000000000000000000001111111111111111...</td>\n",
       "      <td>FLOW_CONTROL_MODE_FAST</td>\n",
       "    </tr>\n",
       "    <tr>\n",
       "      <th>2</th>\n",
       "      <td>6620</td>\n",
       "      <td>25547</td>\n",
       "      <td>1001379</td>\n",
       "      <td>[ANDROID]</td>\n",
       "      <td>8.0</td>\n",
       "      <td>NONE</td>\n",
       "      <td>3300</td>\n",
       "      <td>NONE</td>\n",
       "      <td>[]</td>\n",
       "      <td>[]</td>\n",
       "      <td>UNLIMITED</td>\n",
       "      <td>NaN</td>\n",
       "      <td>NaN</td>\n",
       "      <td>NaN</td>\n",
       "      <td>[]</td>\n",
       "      <td>SMART_BID_CUSTOM</td>\n",
       "      <td>0</td>\n",
       "      <td>2903.84</td>\n",
       "      <td>2903.84</td>\n",
       "      <td>DEFAULT</td>\n",
       "      <td>[UNION_BOUTIQUE_GAME, INVENTORY_AWEME_FEED]</td>\n",
       "      <td>[]</td>\n",
       "      <td>CURRENT</td>\n",
       "      <td>NONE</td>\n",
       "      <td>[AGE_BETWEEN_24_30, AGE_BETWEEN_31_40, AGE_BET...</td>\n",
       "      <td>[WIFI, 4G]</td>\n",
       "      <td>[0, 11000]</td>\n",
       "      <td>1</td>\n",
       "      <td>0</td>\n",
       "      <td>ADVERTISER</td>\n",
       "      <td>0000000000000000000000000000111111111111111111...</td>\n",
       "      <td>FLOW_CONTROL_MODE_FAST</td>\n",
       "    </tr>\n",
       "    <tr>\n",
       "      <th>3</th>\n",
       "      <td>6620</td>\n",
       "      <td>25547</td>\n",
       "      <td>1001379</td>\n",
       "      <td>[ANDROID]</td>\n",
       "      <td>NONE</td>\n",
       "      <td>NONE</td>\n",
       "      <td>3300</td>\n",
       "      <td>NONE</td>\n",
       "      <td>[]</td>\n",
       "      <td>[]</td>\n",
       "      <td>RECOMMEND</td>\n",
       "      <td>NaN</td>\n",
       "      <td>NaN</td>\n",
       "      <td>NaN</td>\n",
       "      <td>[]</td>\n",
       "      <td>SMART_BID_CUSTOM</td>\n",
       "      <td>0</td>\n",
       "      <td>2988.00</td>\n",
       "      <td>2988.00</td>\n",
       "      <td>DEFAULT</td>\n",
       "      <td>[INVENTORY_AWEME_FEED, INVENTORY_FEED]</td>\n",
       "      <td>[]</td>\n",
       "      <td>CURRENT</td>\n",
       "      <td>NONE</td>\n",
       "      <td>[]</td>\n",
       "      <td>[WIFI, 4G]</td>\n",
       "      <td>[0, 11000]</td>\n",
       "      <td>0</td>\n",
       "      <td>0</td>\n",
       "      <td>CUSTOMER</td>\n",
       "      <td>0000000000000000000000000011111111111111111111...</td>\n",
       "      <td>FLOW_CONTROL_MODE_FAST</td>\n",
       "    </tr>\n",
       "    <tr>\n",
       "      <th>4</th>\n",
       "      <td>6620</td>\n",
       "      <td>25547</td>\n",
       "      <td>1001379</td>\n",
       "      <td>[ANDROID]</td>\n",
       "      <td>8.0</td>\n",
       "      <td>NONE</td>\n",
       "      <td>3300</td>\n",
       "      <td>RETARGETING_EXCLUDE</td>\n",
       "      <td>[]</td>\n",
       "      <td>[316309615]</td>\n",
       "      <td>UNLIMITED</td>\n",
       "      <td>NaN</td>\n",
       "      <td>NaN</td>\n",
       "      <td>NaN</td>\n",
       "      <td>[]</td>\n",
       "      <td>SMART_BID_CUSTOM</td>\n",
       "      <td>0</td>\n",
       "      <td>2996.64</td>\n",
       "      <td>2996.64</td>\n",
       "      <td>DEFAULT</td>\n",
       "      <td>[INVENTORY_AWEME_FEED, INVENTORY_VIDEO_FEED, I...</td>\n",
       "      <td>[]</td>\n",
       "      <td>CURRENT</td>\n",
       "      <td>GENDER_MALE</td>\n",
       "      <td>[AGE_ABOVE_50, AGE_BETWEEN_18_23, AGE_BETWEEN_...</td>\n",
       "      <td>[WIFI, 4G]</td>\n",
       "      <td>[0, 11000]</td>\n",
       "      <td>0</td>\n",
       "      <td>0</td>\n",
       "      <td>APP</td>\n",
       "      <td>0000000000000000000000000000111111111111111111...</td>\n",
       "      <td>FLOW_CONTROL_MODE_FAST</td>\n",
       "    </tr>\n",
       "  </tbody>\n",
       "</table>\n",
       "</div>"
      ],
      "text/plain": [
       "   ad_account_id  image_id  game_id   platform android_osv ios_osv  budget  \\\n",
       "0           6620     25547  1001379  [ANDROID]         8.0    NONE    3300   \n",
       "1           6620     25547  1001379  [ANDROID]         8.0    NONE    3300   \n",
       "2           6620     25547  1001379  [ANDROID]         8.0    NONE    3300   \n",
       "3           6620     25547  1001379  [ANDROID]        NONE    NONE    3300   \n",
       "4           6620     25547  1001379  [ANDROID]         8.0    NONE    3300   \n",
       "\n",
       "      retargeting_type retargeting_tags_include  \\\n",
       "0  RETARGETING_EXCLUDE                       []   \n",
       "1  RETARGETING_EXCLUDE                       []   \n",
       "2                 NONE                       []   \n",
       "3                 NONE                       []   \n",
       "4  RETARGETING_EXCLUDE                       []   \n",
       "\n",
       "                       retargeting_tags_exclude interest_action_mode  \\\n",
       "0  [311914394, 311886984, 311886780, 308546996]            UNLIMITED   \n",
       "1                        [316365390, 316737743]            UNLIMITED   \n",
       "2                                            []            UNLIMITED   \n",
       "3                                            []            RECOMMEND   \n",
       "4                                   [316309615]            UNLIMITED   \n",
       "\n",
       "  action_scene  action_days action_categories interest_categories  \\\n",
       "0          NaN          NaN               NaN                  []   \n",
       "1          NaN          NaN               NaN                  []   \n",
       "2          NaN          NaN               NaN                  []   \n",
       "3          NaN          NaN               NaN                  []   \n",
       "4          NaN          NaN               NaN                  []   \n",
       "\n",
       "     smart_bid_type  adjust_cpa  cpa_bid     bid2 delivery_range  \\\n",
       "0  SMART_BID_CUSTOM           0  2917.10  2917.10        DEFAULT   \n",
       "1  SMART_BID_CUSTOM           0  3000.00  3000.00        DEFAULT   \n",
       "2  SMART_BID_CUSTOM           0  2903.84  2903.84        DEFAULT   \n",
       "3  SMART_BID_CUSTOM           0  2988.00  2988.00        DEFAULT   \n",
       "4  SMART_BID_CUSTOM           0  2996.64  2996.64        DEFAULT   \n",
       "\n",
       "                                      inventory_type city location_type  \\\n",
       "0             [INVENTORY_AWEME_FEED, INVENTORY_FEED]   []       CURRENT   \n",
       "1  [INVENTORY_HOTSOON_FEED, INVENTORY_UNION_SLOT,...   []       CURRENT   \n",
       "2        [UNION_BOUTIQUE_GAME, INVENTORY_AWEME_FEED]   []       CURRENT   \n",
       "3             [INVENTORY_AWEME_FEED, INVENTORY_FEED]   []       CURRENT   \n",
       "4  [INVENTORY_AWEME_FEED, INVENTORY_VIDEO_FEED, I...   []       CURRENT   \n",
       "\n",
       "        gender                                                age          ac  \\\n",
       "0  GENDER_MALE  [AGE_BETWEEN_24_30, AGE_BETWEEN_31_40, AGE_BET...  [4G, WIFI]   \n",
       "1  GENDER_MALE  [AGE_BETWEEN_24_30, AGE_BETWEEN_31_40, AGE_BET...  [4G, WIFI]   \n",
       "2         NONE  [AGE_BETWEEN_24_30, AGE_BETWEEN_31_40, AGE_BET...  [WIFI, 4G]   \n",
       "3         NONE                                                 []  [WIFI, 4G]   \n",
       "4  GENDER_MALE  [AGE_ABOVE_50, AGE_BETWEEN_18_23, AGE_BETWEEN_...  [WIFI, 4G]   \n",
       "\n",
       "  launch_price  auto_extend_enabled  hide_if_exists hide_if_converted  \\\n",
       "0   [0, 11000]                    0               1          CUSTOMER   \n",
       "1   [0, 11000]                    0               0          CUSTOMER   \n",
       "2   [0, 11000]                    1               0        ADVERTISER   \n",
       "3   [0, 11000]                    0               0          CUSTOMER   \n",
       "4   [0, 11000]                    0               0               APP   \n",
       "\n",
       "                                       schedule_time       flow_control_mode  \n",
       "0  0000000000000000000000000000111111111111111111...  FLOW_CONTROL_MODE_FAST  \n",
       "1  0000000000000000000000000000001111111111111111...  FLOW_CONTROL_MODE_FAST  \n",
       "2  0000000000000000000000000000111111111111111111...  FLOW_CONTROL_MODE_FAST  \n",
       "3  0000000000000000000000000011111111111111111111...  FLOW_CONTROL_MODE_FAST  \n",
       "4  0000000000000000000000000000111111111111111111...  FLOW_CONTROL_MODE_FAST  "
      ]
     },
     "execution_count": 118,
     "metadata": {},
     "output_type": "execute_result"
    }
   ],
   "source": [
    "plan.head()"
   ]
  },
  {
   "cell_type": "code",
   "execution_count": 113,
   "metadata": {},
   "outputs": [
    {
     "data": {
      "text/plain": [
       "Index([                                                                                                               ['INVENTORY_AWEME_FEED', 'INVENTORY_FEED'],\n",
       "       ['INVENTORY_HOTSOON_FEED', 'INVENTORY_UNION_SLOT', None, 'INVENTORY_FEED', 'INVENTORY_UNION_SPLASH_SLOT', 'INVENTORY_AWEME_FEED', 'INVENTORY_VIDEO_FEED'],\n",
       "             ['INVENTORY_HOTSOON_FEED', 'INVENTORY_UNION_SLOT', 'INVENTORY_FEED', 'INVENTORY_UNION_SPLASH_SLOT', 'INVENTORY_AWEME_FEED', 'INVENTORY_VIDEO_FEED'],\n",
       "                                                                                                                                        ['INVENTORY_AWEME_FEED'],\n",
       "                                                                    ['INVENTORY_FEED', 'INVENTORY_HOTSOON_FEED', 'INVENTORY_AWEME_FEED', 'INVENTORY_VIDEO_FEED'],\n",
       "                                                                                              ['INVENTORY_FEED', 'INVENTORY_AWEME_FEED', 'INVENTORY_VIDEO_FEED'],\n",
       "                                                                                                                 ['UNION_BOUTIQUE_GAME', 'INVENTORY_AWEME_FEED'],\n",
       "                                                                                                                                              ['INVENTORY_FEED'],\n",
       "                                                                                      ['INVENTORY_AWEME_FEED', 'INVENTORY_VIDEO_FEED', 'INVENTORY_HOTSOON_FEED'],\n",
       "                                                                                         ['UNION_BOUTIQUE_GAME', 'INVENTORY_AWEME_FEED', 'INVENTORY_UNION_SLOT'],\n",
       "                                                                                                                                  ['INVENTORY_AWEME_FEED', None],\n",
       "                                                                                            ['INVENTORY_FEED', 'INVENTORY_HOTSOON_FEED', 'INVENTORY_AWEME_FEED'],\n",
       "                                                                                                                ['INVENTORY_AWEME_FEED', 'INVENTORY_VIDEO_FEED']],\n",
       "      dtype='object')"
      ]
     },
     "execution_count": 113,
     "metadata": {},
     "output_type": "execute_result"
    }
   ],
   "source": [
    "df['inventory_type'].value_counts().index"
   ]
  },
  {
   "cell_type": "code",
   "execution_count": null,
   "metadata": {},
   "outputs": [],
   "source": [
    "plan_sample['inventory_type']"
   ]
  },
  {
   "cell_type": "code",
   "execution_count": 106,
   "metadata": {},
   "outputs": [],
   "source": [
    "ad_info = []\n",
    "for i in range(plan_sample.shape[0]):\n",
    "    ad_info.append(json.loads(plan_sample.iloc[i].to_json()))"
   ]
  },
  {
   "cell_type": "code",
   "execution_count": 108,
   "metadata": {},
   "outputs": [
    {
     "data": {
      "text/plain": [
       "[INVENTORY_AWEME_FEED, INVENTORY_FEED]                                                                                                           497\n",
       "[INVENTORY_HOTSOON_FEED, INVENTORY_UNION_SLOT, None, INVENTORY_FEED, INVENTORY_UNION_SPLASH_SLOT, INVENTORY_AWEME_FEED, INVENTORY_VIDEO_FEED]    120\n",
       "[INVENTORY_HOTSOON_FEED, INVENTORY_UNION_SLOT, INVENTORY_FEED, INVENTORY_UNION_SPLASH_SLOT, INVENTORY_AWEME_FEED, INVENTORY_VIDEO_FEED]          109\n",
       "[INVENTORY_AWEME_FEED]                                                                                                                            80\n",
       "[INVENTORY_FEED, INVENTORY_HOTSOON_FEED, INVENTORY_AWEME_FEED, INVENTORY_VIDEO_FEED]                                                              41\n",
       "[INVENTORY_FEED, INVENTORY_AWEME_FEED, INVENTORY_VIDEO_FEED]                                                                                      38\n",
       "[UNION_BOUTIQUE_GAME, INVENTORY_AWEME_FEED]                                                                                                       28\n",
       "[INVENTORY_FEED]                                                                                                                                  27\n",
       "[INVENTORY_AWEME_FEED, INVENTORY_VIDEO_FEED, INVENTORY_HOTSOON_FEED]                                                                              25\n",
       "[UNION_BOUTIQUE_GAME, INVENTORY_AWEME_FEED, INVENTORY_UNION_SLOT]                                                                                 11\n",
       "[INVENTORY_AWEME_FEED, INVENTORY_VIDEO_FEED]                                                                                                       9\n",
       "[INVENTORY_FEED, INVENTORY_HOTSOON_FEED, INVENTORY_AWEME_FEED]                                                                                     4\n",
       "[INVENTORY_AWEME_FEED, None]                                                                                                                       3\n",
       "Name: inventory_type, dtype: int64"
      ]
     },
     "execution_count": 108,
     "metadata": {},
     "output_type": "execute_result"
    }
   ],
   "source": [
    "plan['inventory_type'].value_counts()"
   ]
  }
 ],
 "metadata": {
  "kernelspec": {
   "display_name": "Python 3",
   "language": "python",
   "name": "python3"
  },
  "language_info": {
   "codemirror_mode": {
    "name": "ipython",
    "version": 3
   },
   "file_extension": ".py",
   "mimetype": "text/x-python",
   "name": "python",
   "nbconvert_exporter": "python",
   "pygments_lexer": "ipython3",
   "version": "3.7.6"
  }
 },
 "nbformat": 4,
 "nbformat_minor": 4
}
