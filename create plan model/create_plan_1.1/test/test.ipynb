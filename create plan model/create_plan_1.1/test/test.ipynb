{
 "cells": [
  {
   "cell_type": "code",
   "execution_count": 39,
   "metadata": {},
   "outputs": [],
   "source": [
    "import pandas as pd\n",
    "import seaborn as sns\n",
    "import matplotlib.pyplot as plt"
   ]
  },
  {
   "cell_type": "code",
   "execution_count": 12,
   "metadata": {},
   "outputs": [],
   "source": [
    "result_df_test = pd.read_excel('./result_df_test.xls')\n",
    "image_info_sorce = pd.read_csv('./image_info_sorce_hist_test.csv',index_col=0)"
   ]
  },
  {
   "cell_type": "code",
   "execution_count": 13,
   "metadata": {},
   "outputs": [
    {
     "data": {
      "text/plain": [
       "(79, 41)"
      ]
     },
     "execution_count": 13,
     "metadata": {},
     "output_type": "execute_result"
    }
   ],
   "source": [
    "result_df_test.shape"
   ]
  },
  {
   "cell_type": "code",
   "execution_count": 14,
   "metadata": {},
   "outputs": [
    {
     "data": {
      "text/plain": [
       "(63, 41)"
      ]
     },
     "execution_count": 14,
     "metadata": {},
     "output_type": "execute_result"
    }
   ],
   "source": [
    "image_info_sorce.shape"
   ]
  },
  {
   "cell_type": "code",
   "execution_count": 19,
   "metadata": {},
   "outputs": [],
   "source": [
    "temp = image_info_sorce[['image_id','model_run_datetime','score']]"
   ]
  },
  {
   "cell_type": "code",
   "execution_count": 16,
   "metadata": {},
   "outputs": [
    {
     "data": {
      "text/html": [
       "<div>\n",
       "<style scoped>\n",
       "    .dataframe tbody tr th:only-of-type {\n",
       "        vertical-align: middle;\n",
       "    }\n",
       "\n",
       "    .dataframe tbody tr th {\n",
       "        vertical-align: top;\n",
       "    }\n",
       "\n",
       "    .dataframe thead th {\n",
       "        text-align: right;\n",
       "    }\n",
       "</style>\n",
       "<table border=\"1\" class=\"dataframe\">\n",
       "  <thead>\n",
       "    <tr style=\"text-align: right;\">\n",
       "      <th></th>\n",
       "      <th>image_id</th>\n",
       "      <th>image_run_date_amount</th>\n",
       "      <th>image_create_role_pay_num</th>\n",
       "      <th>image_create_role_num</th>\n",
       "      <th>image_create_role_pay_sum</th>\n",
       "      <th>image_source_num</th>\n",
       "      <th>image_create_role_pay_rate</th>\n",
       "      <th>image_create_role_cost</th>\n",
       "      <th>image_create_role_pay_cost</th>\n",
       "      <th>image_valid_source_num</th>\n",
       "      <th>...</th>\n",
       "      <th>like</th>\n",
       "      <th>dislike</th>\n",
       "      <th>follow</th>\n",
       "      <th>message_action</th>\n",
       "      <th>report</th>\n",
       "      <th>image_create_role_retain_1d</th>\n",
       "      <th>create_role_30_pay_sum</th>\n",
       "      <th>model_run_datetime</th>\n",
       "      <th>media_id</th>\n",
       "      <th>data_win</th>\n",
       "    </tr>\n",
       "  </thead>\n",
       "  <tbody>\n",
       "    <tr>\n",
       "      <th>0</th>\n",
       "      <td>20567</td>\n",
       "      <td>1284.77</td>\n",
       "      <td>1</td>\n",
       "      <td>30</td>\n",
       "      <td>30.0</td>\n",
       "      <td>1</td>\n",
       "      <td>0.0333</td>\n",
       "      <td>42.825667</td>\n",
       "      <td>1284.770000</td>\n",
       "      <td>1</td>\n",
       "      <td>...</td>\n",
       "      <td>566</td>\n",
       "      <td>19</td>\n",
       "      <td>0</td>\n",
       "      <td>0</td>\n",
       "      <td>2</td>\n",
       "      <td>0.0857</td>\n",
       "      <td>30.0</td>\n",
       "      <td>2020-11-02</td>\n",
       "      <td>10</td>\n",
       "      <td>3</td>\n",
       "    </tr>\n",
       "    <tr>\n",
       "      <th>1</th>\n",
       "      <td>21935</td>\n",
       "      <td>159.59</td>\n",
       "      <td>0</td>\n",
       "      <td>12</td>\n",
       "      <td>0.0</td>\n",
       "      <td>1</td>\n",
       "      <td>0.0000</td>\n",
       "      <td>13.299167</td>\n",
       "      <td>0.000000</td>\n",
       "      <td>0</td>\n",
       "      <td>...</td>\n",
       "      <td>0</td>\n",
       "      <td>0</td>\n",
       "      <td>0</td>\n",
       "      <td>0</td>\n",
       "      <td>0</td>\n",
       "      <td>0.0625</td>\n",
       "      <td>0.0</td>\n",
       "      <td>2020-11-02</td>\n",
       "      <td>10</td>\n",
       "      <td>3</td>\n",
       "    </tr>\n",
       "    <tr>\n",
       "      <th>2</th>\n",
       "      <td>23509</td>\n",
       "      <td>32225.57</td>\n",
       "      <td>9</td>\n",
       "      <td>1974</td>\n",
       "      <td>1134.0</td>\n",
       "      <td>8</td>\n",
       "      <td>0.0046</td>\n",
       "      <td>16.325010</td>\n",
       "      <td>3580.618889</td>\n",
       "      <td>6</td>\n",
       "      <td>...</td>\n",
       "      <td>673</td>\n",
       "      <td>202</td>\n",
       "      <td>0</td>\n",
       "      <td>0</td>\n",
       "      <td>21</td>\n",
       "      <td>0.0557</td>\n",
       "      <td>33758.0</td>\n",
       "      <td>2020-11-02</td>\n",
       "      <td>10</td>\n",
       "      <td>3</td>\n",
       "    </tr>\n",
       "    <tr>\n",
       "      <th>3</th>\n",
       "      <td>23552</td>\n",
       "      <td>2830.19</td>\n",
       "      <td>0</td>\n",
       "      <td>45</td>\n",
       "      <td>0.0</td>\n",
       "      <td>1</td>\n",
       "      <td>0.0000</td>\n",
       "      <td>62.893111</td>\n",
       "      <td>0.000000</td>\n",
       "      <td>0</td>\n",
       "      <td>...</td>\n",
       "      <td>94</td>\n",
       "      <td>10</td>\n",
       "      <td>0</td>\n",
       "      <td>0</td>\n",
       "      <td>0</td>\n",
       "      <td>0.0986</td>\n",
       "      <td>260.0</td>\n",
       "      <td>2020-11-02</td>\n",
       "      <td>10</td>\n",
       "      <td>3</td>\n",
       "    </tr>\n",
       "    <tr>\n",
       "      <th>4</th>\n",
       "      <td>23807</td>\n",
       "      <td>2831.05</td>\n",
       "      <td>1</td>\n",
       "      <td>134</td>\n",
       "      <td>30.0</td>\n",
       "      <td>1</td>\n",
       "      <td>0.0075</td>\n",
       "      <td>21.127239</td>\n",
       "      <td>2831.050000</td>\n",
       "      <td>1</td>\n",
       "      <td>...</td>\n",
       "      <td>87</td>\n",
       "      <td>5</td>\n",
       "      <td>0</td>\n",
       "      <td>0</td>\n",
       "      <td>0</td>\n",
       "      <td>0.0507</td>\n",
       "      <td>30.0</td>\n",
       "      <td>2020-11-02</td>\n",
       "      <td>10</td>\n",
       "      <td>3</td>\n",
       "    </tr>\n",
       "  </tbody>\n",
       "</table>\n",
       "<p>5 rows × 41 columns</p>\n",
       "</div>"
      ],
      "text/plain": [
       "   image_id  image_run_date_amount  image_create_role_pay_num  \\\n",
       "0     20567                1284.77                          1   \n",
       "1     21935                 159.59                          0   \n",
       "2     23509               32225.57                          9   \n",
       "3     23552                2830.19                          0   \n",
       "4     23807                2831.05                          1   \n",
       "\n",
       "   image_create_role_num  image_create_role_pay_sum  image_source_num  \\\n",
       "0                     30                       30.0                 1   \n",
       "1                     12                        0.0                 1   \n",
       "2                   1974                     1134.0                 8   \n",
       "3                     45                        0.0                 1   \n",
       "4                    134                       30.0                 1   \n",
       "\n",
       "   image_create_role_pay_rate  image_create_role_cost  \\\n",
       "0                      0.0333               42.825667   \n",
       "1                      0.0000               13.299167   \n",
       "2                      0.0046               16.325010   \n",
       "3                      0.0000               62.893111   \n",
       "4                      0.0075               21.127239   \n",
       "\n",
       "   image_create_role_pay_cost  image_valid_source_num  ...  like  dislike  \\\n",
       "0                 1284.770000                       1  ...   566       19   \n",
       "1                    0.000000                       0  ...     0        0   \n",
       "2                 3580.618889                       6  ...   673      202   \n",
       "3                    0.000000                       0  ...    94       10   \n",
       "4                 2831.050000                       1  ...    87        5   \n",
       "\n",
       "   follow  message_action report  image_create_role_retain_1d  \\\n",
       "0       0               0      2                       0.0857   \n",
       "1       0               0      0                       0.0625   \n",
       "2       0               0     21                       0.0557   \n",
       "3       0               0      0                       0.0986   \n",
       "4       0               0      0                       0.0507   \n",
       "\n",
       "   create_role_30_pay_sum  model_run_datetime  media_id  data_win  \n",
       "0                    30.0          2020-11-02        10         3  \n",
       "1                     0.0          2020-11-02        10         3  \n",
       "2                 33758.0          2020-11-02        10         3  \n",
       "3                   260.0          2020-11-02        10         3  \n",
       "4                    30.0          2020-11-02        10         3  \n",
       "\n",
       "[5 rows x 41 columns]"
      ]
     },
     "execution_count": 16,
     "metadata": {},
     "output_type": "execute_result"
    }
   ],
   "source": [
    "result_df_test.head()"
   ]
  },
  {
   "cell_type": "code",
   "execution_count": 22,
   "metadata": {},
   "outputs": [
    {
     "name": "stderr",
     "output_type": "stream",
     "text": [
      "C:\\Users\\Administrator\\anaconda3\\lib\\site-packages\\ipykernel_launcher.py:1: SettingWithCopyWarning: \n",
      "A value is trying to be set on a copy of a slice from a DataFrame.\n",
      "Try using .loc[row_indexer,col_indexer] = value instead\n",
      "\n",
      "See the caveats in the documentation: https://pandas.pydata.org/pandas-docs/stable/user_guide/indexing.html#returning-a-view-versus-a-copy\n",
      "  \"\"\"Entry point for launching an IPython kernel.\n"
     ]
    }
   ],
   "source": [
    "temp['model_run_datetime'] = pd.to_datetime(temp['model_run_datetime']).dt.date"
   ]
  },
  {
   "cell_type": "code",
   "execution_count": 27,
   "metadata": {},
   "outputs": [],
   "source": [
    "result_df_test['model_run_datetime'] = pd.to_datetime(result_df_test['model_run_datetime']).dt.date"
   ]
  },
  {
   "cell_type": "code",
   "execution_count": 28,
   "metadata": {},
   "outputs": [
    {
     "data": {
      "text/html": [
       "<div>\n",
       "<style scoped>\n",
       "    .dataframe tbody tr th:only-of-type {\n",
       "        vertical-align: middle;\n",
       "    }\n",
       "\n",
       "    .dataframe tbody tr th {\n",
       "        vertical-align: top;\n",
       "    }\n",
       "\n",
       "    .dataframe thead th {\n",
       "        text-align: right;\n",
       "    }\n",
       "</style>\n",
       "<table border=\"1\" class=\"dataframe\">\n",
       "  <thead>\n",
       "    <tr style=\"text-align: right;\">\n",
       "      <th></th>\n",
       "      <th>image_id</th>\n",
       "      <th>model_run_datetime</th>\n",
       "      <th>score</th>\n",
       "    </tr>\n",
       "  </thead>\n",
       "  <tbody>\n",
       "    <tr>\n",
       "      <th>0</th>\n",
       "      <td>20567</td>\n",
       "      <td>2020-11-02</td>\n",
       "      <td>529</td>\n",
       "    </tr>\n",
       "    <tr>\n",
       "      <th>2</th>\n",
       "      <td>23509</td>\n",
       "      <td>2020-11-02</td>\n",
       "      <td>657</td>\n",
       "    </tr>\n",
       "    <tr>\n",
       "      <th>3</th>\n",
       "      <td>23552</td>\n",
       "      <td>2020-11-02</td>\n",
       "      <td>489</td>\n",
       "    </tr>\n",
       "    <tr>\n",
       "      <th>4</th>\n",
       "      <td>23807</td>\n",
       "      <td>2020-11-02</td>\n",
       "      <td>582</td>\n",
       "    </tr>\n",
       "    <tr>\n",
       "      <th>5</th>\n",
       "      <td>24233</td>\n",
       "      <td>2020-11-02</td>\n",
       "      <td>546</td>\n",
       "    </tr>\n",
       "  </tbody>\n",
       "</table>\n",
       "</div>"
      ],
      "text/plain": [
       "   image_id model_run_datetime  score\n",
       "0     20567         2020-11-02    529\n",
       "2     23509         2020-11-02    657\n",
       "3     23552         2020-11-02    489\n",
       "4     23807         2020-11-02    582\n",
       "5     24233         2020-11-02    546"
      ]
     },
     "execution_count": 28,
     "metadata": {},
     "output_type": "execute_result"
    }
   ],
   "source": [
    "temp.head()"
   ]
  },
  {
   "cell_type": "code",
   "execution_count": 31,
   "metadata": {
    "scrolled": true
   },
   "outputs": [],
   "source": [
    "result = pd.merge(result_df_test,temp,on=['image_id','model_run_datetime'],how='inner')"
   ]
  },
  {
   "cell_type": "code",
   "execution_count": 32,
   "metadata": {},
   "outputs": [
    {
     "data": {
      "text/plain": [
       "(63, 42)"
      ]
     },
     "execution_count": 32,
     "metadata": {},
     "output_type": "execute_result"
    }
   ],
   "source": [
    "result.shape"
   ]
  },
  {
   "cell_type": "code",
   "execution_count": 33,
   "metadata": {},
   "outputs": [
    {
     "data": {
      "text/html": [
       "<div>\n",
       "<style scoped>\n",
       "    .dataframe tbody tr th:only-of-type {\n",
       "        vertical-align: middle;\n",
       "    }\n",
       "\n",
       "    .dataframe tbody tr th {\n",
       "        vertical-align: top;\n",
       "    }\n",
       "\n",
       "    .dataframe thead th {\n",
       "        text-align: right;\n",
       "    }\n",
       "</style>\n",
       "<table border=\"1\" class=\"dataframe\">\n",
       "  <thead>\n",
       "    <tr style=\"text-align: right;\">\n",
       "      <th></th>\n",
       "      <th>image_id</th>\n",
       "      <th>image_run_date_amount</th>\n",
       "      <th>image_create_role_pay_num</th>\n",
       "      <th>image_create_role_num</th>\n",
       "      <th>image_create_role_pay_sum</th>\n",
       "      <th>image_source_num</th>\n",
       "      <th>image_create_role_pay_rate</th>\n",
       "      <th>image_create_role_cost</th>\n",
       "      <th>image_create_role_pay_cost</th>\n",
       "      <th>image_valid_source_num</th>\n",
       "      <th>...</th>\n",
       "      <th>dislike</th>\n",
       "      <th>follow</th>\n",
       "      <th>message_action</th>\n",
       "      <th>report</th>\n",
       "      <th>image_create_role_retain_1d</th>\n",
       "      <th>create_role_30_pay_sum</th>\n",
       "      <th>model_run_datetime</th>\n",
       "      <th>media_id</th>\n",
       "      <th>data_win</th>\n",
       "      <th>score</th>\n",
       "    </tr>\n",
       "  </thead>\n",
       "  <tbody>\n",
       "    <tr>\n",
       "      <th>0</th>\n",
       "      <td>20567</td>\n",
       "      <td>1284.77</td>\n",
       "      <td>1</td>\n",
       "      <td>30</td>\n",
       "      <td>30.0</td>\n",
       "      <td>1</td>\n",
       "      <td>0.0333</td>\n",
       "      <td>42.825667</td>\n",
       "      <td>1284.770000</td>\n",
       "      <td>1</td>\n",
       "      <td>...</td>\n",
       "      <td>19</td>\n",
       "      <td>0</td>\n",
       "      <td>0</td>\n",
       "      <td>2</td>\n",
       "      <td>0.0857</td>\n",
       "      <td>30.0</td>\n",
       "      <td>2020-11-02</td>\n",
       "      <td>10</td>\n",
       "      <td>3</td>\n",
       "      <td>529</td>\n",
       "    </tr>\n",
       "    <tr>\n",
       "      <th>1</th>\n",
       "      <td>23509</td>\n",
       "      <td>32225.57</td>\n",
       "      <td>9</td>\n",
       "      <td>1974</td>\n",
       "      <td>1134.0</td>\n",
       "      <td>8</td>\n",
       "      <td>0.0046</td>\n",
       "      <td>16.325010</td>\n",
       "      <td>3580.618889</td>\n",
       "      <td>6</td>\n",
       "      <td>...</td>\n",
       "      <td>202</td>\n",
       "      <td>0</td>\n",
       "      <td>0</td>\n",
       "      <td>21</td>\n",
       "      <td>0.0557</td>\n",
       "      <td>33758.0</td>\n",
       "      <td>2020-11-02</td>\n",
       "      <td>10</td>\n",
       "      <td>3</td>\n",
       "      <td>657</td>\n",
       "    </tr>\n",
       "    <tr>\n",
       "      <th>2</th>\n",
       "      <td>23552</td>\n",
       "      <td>2830.19</td>\n",
       "      <td>0</td>\n",
       "      <td>45</td>\n",
       "      <td>0.0</td>\n",
       "      <td>1</td>\n",
       "      <td>0.0000</td>\n",
       "      <td>62.893111</td>\n",
       "      <td>0.000000</td>\n",
       "      <td>0</td>\n",
       "      <td>...</td>\n",
       "      <td>10</td>\n",
       "      <td>0</td>\n",
       "      <td>0</td>\n",
       "      <td>0</td>\n",
       "      <td>0.0986</td>\n",
       "      <td>260.0</td>\n",
       "      <td>2020-11-02</td>\n",
       "      <td>10</td>\n",
       "      <td>3</td>\n",
       "      <td>489</td>\n",
       "    </tr>\n",
       "    <tr>\n",
       "      <th>3</th>\n",
       "      <td>23807</td>\n",
       "      <td>2831.05</td>\n",
       "      <td>1</td>\n",
       "      <td>134</td>\n",
       "      <td>30.0</td>\n",
       "      <td>1</td>\n",
       "      <td>0.0075</td>\n",
       "      <td>21.127239</td>\n",
       "      <td>2831.050000</td>\n",
       "      <td>1</td>\n",
       "      <td>...</td>\n",
       "      <td>5</td>\n",
       "      <td>0</td>\n",
       "      <td>0</td>\n",
       "      <td>0</td>\n",
       "      <td>0.0507</td>\n",
       "      <td>30.0</td>\n",
       "      <td>2020-11-02</td>\n",
       "      <td>10</td>\n",
       "      <td>3</td>\n",
       "      <td>582</td>\n",
       "    </tr>\n",
       "    <tr>\n",
       "      <th>4</th>\n",
       "      <td>24233</td>\n",
       "      <td>5705.47</td>\n",
       "      <td>0</td>\n",
       "      <td>186</td>\n",
       "      <td>0.0</td>\n",
       "      <td>3</td>\n",
       "      <td>0.0000</td>\n",
       "      <td>30.674570</td>\n",
       "      <td>0.000000</td>\n",
       "      <td>0</td>\n",
       "      <td>...</td>\n",
       "      <td>32</td>\n",
       "      <td>0</td>\n",
       "      <td>0</td>\n",
       "      <td>5</td>\n",
       "      <td>0.0766</td>\n",
       "      <td>140.0</td>\n",
       "      <td>2020-11-02</td>\n",
       "      <td>10</td>\n",
       "      <td>3</td>\n",
       "      <td>546</td>\n",
       "    </tr>\n",
       "  </tbody>\n",
       "</table>\n",
       "<p>5 rows × 42 columns</p>\n",
       "</div>"
      ],
      "text/plain": [
       "   image_id  image_run_date_amount  image_create_role_pay_num  \\\n",
       "0     20567                1284.77                          1   \n",
       "1     23509               32225.57                          9   \n",
       "2     23552                2830.19                          0   \n",
       "3     23807                2831.05                          1   \n",
       "4     24233                5705.47                          0   \n",
       "\n",
       "   image_create_role_num  image_create_role_pay_sum  image_source_num  \\\n",
       "0                     30                       30.0                 1   \n",
       "1                   1974                     1134.0                 8   \n",
       "2                     45                        0.0                 1   \n",
       "3                    134                       30.0                 1   \n",
       "4                    186                        0.0                 3   \n",
       "\n",
       "   image_create_role_pay_rate  image_create_role_cost  \\\n",
       "0                      0.0333               42.825667   \n",
       "1                      0.0046               16.325010   \n",
       "2                      0.0000               62.893111   \n",
       "3                      0.0075               21.127239   \n",
       "4                      0.0000               30.674570   \n",
       "\n",
       "   image_create_role_pay_cost  image_valid_source_num  ...  dislike  follow  \\\n",
       "0                 1284.770000                       1  ...       19       0   \n",
       "1                 3580.618889                       6  ...      202       0   \n",
       "2                    0.000000                       0  ...       10       0   \n",
       "3                 2831.050000                       1  ...        5       0   \n",
       "4                    0.000000                       0  ...       32       0   \n",
       "\n",
       "   message_action  report image_create_role_retain_1d  create_role_30_pay_sum  \\\n",
       "0               0       2                      0.0857                    30.0   \n",
       "1               0      21                      0.0557                 33758.0   \n",
       "2               0       0                      0.0986                   260.0   \n",
       "3               0       0                      0.0507                    30.0   \n",
       "4               0       5                      0.0766                   140.0   \n",
       "\n",
       "   model_run_datetime  media_id  data_win  score  \n",
       "0          2020-11-02        10         3    529  \n",
       "1          2020-11-02        10         3    657  \n",
       "2          2020-11-02        10         3    489  \n",
       "3          2020-11-02        10         3    582  \n",
       "4          2020-11-02        10         3    546  \n",
       "\n",
       "[5 rows x 42 columns]"
      ]
     },
     "execution_count": 33,
     "metadata": {},
     "output_type": "execute_result"
    }
   ],
   "source": [
    "result.head()"
   ]
  },
  {
   "cell_type": "code",
   "execution_count": 34,
   "metadata": {},
   "outputs": [
    {
     "data": {
      "text/html": [
       "<div>\n",
       "<style scoped>\n",
       "    .dataframe tbody tr th:only-of-type {\n",
       "        vertical-align: middle;\n",
       "    }\n",
       "\n",
       "    .dataframe tbody tr th {\n",
       "        vertical-align: top;\n",
       "    }\n",
       "\n",
       "    .dataframe thead th {\n",
       "        text-align: right;\n",
       "    }\n",
       "</style>\n",
       "<table border=\"1\" class=\"dataframe\">\n",
       "  <thead>\n",
       "    <tr style=\"text-align: right;\">\n",
       "      <th></th>\n",
       "      <th>image_id</th>\n",
       "      <th>image_run_date_amount</th>\n",
       "      <th>image_create_role_pay_num</th>\n",
       "      <th>image_create_role_num</th>\n",
       "      <th>image_create_role_pay_sum</th>\n",
       "      <th>image_source_num</th>\n",
       "      <th>image_create_role_pay_rate</th>\n",
       "      <th>image_create_role_cost</th>\n",
       "      <th>image_create_role_pay_cost</th>\n",
       "      <th>image_valid_source_num</th>\n",
       "      <th>...</th>\n",
       "      <th>dislike</th>\n",
       "      <th>follow</th>\n",
       "      <th>message_action</th>\n",
       "      <th>report</th>\n",
       "      <th>image_create_role_retain_1d</th>\n",
       "      <th>create_role_30_pay_sum</th>\n",
       "      <th>model_run_datetime</th>\n",
       "      <th>media_id</th>\n",
       "      <th>data_win</th>\n",
       "      <th>score</th>\n",
       "    </tr>\n",
       "  </thead>\n",
       "  <tbody>\n",
       "    <tr>\n",
       "      <th>16</th>\n",
       "      <td>25825</td>\n",
       "      <td>105007.97</td>\n",
       "      <td>22</td>\n",
       "      <td>3735</td>\n",
       "      <td>9820.0</td>\n",
       "      <td>17</td>\n",
       "      <td>0.0059</td>\n",
       "      <td>28.114584</td>\n",
       "      <td>4773.089545</td>\n",
       "      <td>12</td>\n",
       "      <td>...</td>\n",
       "      <td>602</td>\n",
       "      <td>0</td>\n",
       "      <td>0</td>\n",
       "      <td>69</td>\n",
       "      <td>0.0522</td>\n",
       "      <td>134730.0</td>\n",
       "      <td>2020-11-02</td>\n",
       "      <td>10</td>\n",
       "      <td>3</td>\n",
       "      <td>740</td>\n",
       "    </tr>\n",
       "    <tr>\n",
       "      <th>47</th>\n",
       "      <td>25919</td>\n",
       "      <td>514120.06</td>\n",
       "      <td>127</td>\n",
       "      <td>5649</td>\n",
       "      <td>17158.0</td>\n",
       "      <td>71</td>\n",
       "      <td>0.0225</td>\n",
       "      <td>91.010809</td>\n",
       "      <td>4048.189449</td>\n",
       "      <td>71</td>\n",
       "      <td>...</td>\n",
       "      <td>1315</td>\n",
       "      <td>0</td>\n",
       "      <td>0</td>\n",
       "      <td>40</td>\n",
       "      <td>0.1545</td>\n",
       "      <td>271922.0</td>\n",
       "      <td>2020-11-03</td>\n",
       "      <td>10</td>\n",
       "      <td>3</td>\n",
       "      <td>673</td>\n",
       "    </tr>\n",
       "    <tr>\n",
       "      <th>1</th>\n",
       "      <td>23509</td>\n",
       "      <td>32225.57</td>\n",
       "      <td>9</td>\n",
       "      <td>1974</td>\n",
       "      <td>1134.0</td>\n",
       "      <td>8</td>\n",
       "      <td>0.0046</td>\n",
       "      <td>16.325010</td>\n",
       "      <td>3580.618889</td>\n",
       "      <td>6</td>\n",
       "      <td>...</td>\n",
       "      <td>202</td>\n",
       "      <td>0</td>\n",
       "      <td>0</td>\n",
       "      <td>21</td>\n",
       "      <td>0.0557</td>\n",
       "      <td>33758.0</td>\n",
       "      <td>2020-11-02</td>\n",
       "      <td>10</td>\n",
       "      <td>3</td>\n",
       "      <td>657</td>\n",
       "    </tr>\n",
       "    <tr>\n",
       "      <th>39</th>\n",
       "      <td>25562</td>\n",
       "      <td>110053.73</td>\n",
       "      <td>27</td>\n",
       "      <td>4513</td>\n",
       "      <td>3316.0</td>\n",
       "      <td>15</td>\n",
       "      <td>0.0060</td>\n",
       "      <td>24.385936</td>\n",
       "      <td>4076.064074</td>\n",
       "      <td>0</td>\n",
       "      <td>...</td>\n",
       "      <td>498</td>\n",
       "      <td>0</td>\n",
       "      <td>0</td>\n",
       "      <td>83</td>\n",
       "      <td>0.0565</td>\n",
       "      <td>100048.0</td>\n",
       "      <td>2020-11-03</td>\n",
       "      <td>10</td>\n",
       "      <td>3</td>\n",
       "      <td>656</td>\n",
       "    </tr>\n",
       "    <tr>\n",
       "      <th>54</th>\n",
       "      <td>26150</td>\n",
       "      <td>5722.65</td>\n",
       "      <td>2</td>\n",
       "      <td>167</td>\n",
       "      <td>546.0</td>\n",
       "      <td>3</td>\n",
       "      <td>0.0120</td>\n",
       "      <td>34.267365</td>\n",
       "      <td>2861.325000</td>\n",
       "      <td>2</td>\n",
       "      <td>...</td>\n",
       "      <td>18</td>\n",
       "      <td>0</td>\n",
       "      <td>0</td>\n",
       "      <td>4</td>\n",
       "      <td>0.0667</td>\n",
       "      <td>1256.0</td>\n",
       "      <td>2020-11-03</td>\n",
       "      <td>10</td>\n",
       "      <td>3</td>\n",
       "      <td>654</td>\n",
       "    </tr>\n",
       "    <tr>\n",
       "      <th>...</th>\n",
       "      <td>...</td>\n",
       "      <td>...</td>\n",
       "      <td>...</td>\n",
       "      <td>...</td>\n",
       "      <td>...</td>\n",
       "      <td>...</td>\n",
       "      <td>...</td>\n",
       "      <td>...</td>\n",
       "      <td>...</td>\n",
       "      <td>...</td>\n",
       "      <td>...</td>\n",
       "      <td>...</td>\n",
       "      <td>...</td>\n",
       "      <td>...</td>\n",
       "      <td>...</td>\n",
       "      <td>...</td>\n",
       "      <td>...</td>\n",
       "      <td>...</td>\n",
       "      <td>...</td>\n",
       "      <td>...</td>\n",
       "      <td>...</td>\n",
       "    </tr>\n",
       "    <tr>\n",
       "      <th>60</th>\n",
       "      <td>26232</td>\n",
       "      <td>1480.76</td>\n",
       "      <td>0</td>\n",
       "      <td>7</td>\n",
       "      <td>0.0</td>\n",
       "      <td>3</td>\n",
       "      <td>0.0000</td>\n",
       "      <td>211.537143</td>\n",
       "      <td>0.000000</td>\n",
       "      <td>0</td>\n",
       "      <td>...</td>\n",
       "      <td>0</td>\n",
       "      <td>0</td>\n",
       "      <td>0</td>\n",
       "      <td>0</td>\n",
       "      <td>0.0000</td>\n",
       "      <td>0.0</td>\n",
       "      <td>2020-11-03</td>\n",
       "      <td>10</td>\n",
       "      <td>3</td>\n",
       "      <td>460</td>\n",
       "    </tr>\n",
       "    <tr>\n",
       "      <th>5</th>\n",
       "      <td>24245</td>\n",
       "      <td>1144.87</td>\n",
       "      <td>0</td>\n",
       "      <td>19</td>\n",
       "      <td>0.0</td>\n",
       "      <td>1</td>\n",
       "      <td>0.0000</td>\n",
       "      <td>60.256316</td>\n",
       "      <td>0.000000</td>\n",
       "      <td>0</td>\n",
       "      <td>...</td>\n",
       "      <td>4</td>\n",
       "      <td>0</td>\n",
       "      <td>0</td>\n",
       "      <td>1</td>\n",
       "      <td>0.0000</td>\n",
       "      <td>0.0</td>\n",
       "      <td>2020-11-02</td>\n",
       "      <td>10</td>\n",
       "      <td>3</td>\n",
       "      <td>459</td>\n",
       "    </tr>\n",
       "    <tr>\n",
       "      <th>35</th>\n",
       "      <td>24426</td>\n",
       "      <td>2622.22</td>\n",
       "      <td>0</td>\n",
       "      <td>46</td>\n",
       "      <td>0.0</td>\n",
       "      <td>1</td>\n",
       "      <td>0.0000</td>\n",
       "      <td>57.004783</td>\n",
       "      <td>0.000000</td>\n",
       "      <td>0</td>\n",
       "      <td>...</td>\n",
       "      <td>43</td>\n",
       "      <td>0</td>\n",
       "      <td>0</td>\n",
       "      <td>0</td>\n",
       "      <td>0.0588</td>\n",
       "      <td>0.0</td>\n",
       "      <td>2020-11-03</td>\n",
       "      <td>10</td>\n",
       "      <td>3</td>\n",
       "      <td>458</td>\n",
       "    </tr>\n",
       "    <tr>\n",
       "      <th>59</th>\n",
       "      <td>26197</td>\n",
       "      <td>2218.80</td>\n",
       "      <td>0</td>\n",
       "      <td>40</td>\n",
       "      <td>0.0</td>\n",
       "      <td>2</td>\n",
       "      <td>0.0000</td>\n",
       "      <td>55.470000</td>\n",
       "      <td>0.000000</td>\n",
       "      <td>0</td>\n",
       "      <td>...</td>\n",
       "      <td>6</td>\n",
       "      <td>0</td>\n",
       "      <td>0</td>\n",
       "      <td>0</td>\n",
       "      <td>0.0435</td>\n",
       "      <td>0.0</td>\n",
       "      <td>2020-11-03</td>\n",
       "      <td>10</td>\n",
       "      <td>3</td>\n",
       "      <td>452</td>\n",
       "    </tr>\n",
       "    <tr>\n",
       "      <th>62</th>\n",
       "      <td>26241</td>\n",
       "      <td>4990.21</td>\n",
       "      <td>0</td>\n",
       "      <td>43</td>\n",
       "      <td>0.0</td>\n",
       "      <td>5</td>\n",
       "      <td>0.0000</td>\n",
       "      <td>116.051395</td>\n",
       "      <td>0.000000</td>\n",
       "      <td>0</td>\n",
       "      <td>...</td>\n",
       "      <td>20</td>\n",
       "      <td>0</td>\n",
       "      <td>0</td>\n",
       "      <td>0</td>\n",
       "      <td>0.0465</td>\n",
       "      <td>0.0</td>\n",
       "      <td>2020-11-03</td>\n",
       "      <td>10</td>\n",
       "      <td>3</td>\n",
       "      <td>424</td>\n",
       "    </tr>\n",
       "  </tbody>\n",
       "</table>\n",
       "<p>63 rows × 42 columns</p>\n",
       "</div>"
      ],
      "text/plain": [
       "    image_id  image_run_date_amount  image_create_role_pay_num  \\\n",
       "16     25825              105007.97                         22   \n",
       "47     25919              514120.06                        127   \n",
       "1      23509               32225.57                          9   \n",
       "39     25562              110053.73                         27   \n",
       "54     26150                5722.65                          2   \n",
       "..       ...                    ...                        ...   \n",
       "60     26232                1480.76                          0   \n",
       "5      24245                1144.87                          0   \n",
       "35     24426                2622.22                          0   \n",
       "59     26197                2218.80                          0   \n",
       "62     26241                4990.21                          0   \n",
       "\n",
       "    image_create_role_num  image_create_role_pay_sum  image_source_num  \\\n",
       "16                   3735                     9820.0                17   \n",
       "47                   5649                    17158.0                71   \n",
       "1                    1974                     1134.0                 8   \n",
       "39                   4513                     3316.0                15   \n",
       "54                    167                      546.0                 3   \n",
       "..                    ...                        ...               ...   \n",
       "60                      7                        0.0                 3   \n",
       "5                      19                        0.0                 1   \n",
       "35                     46                        0.0                 1   \n",
       "59                     40                        0.0                 2   \n",
       "62                     43                        0.0                 5   \n",
       "\n",
       "    image_create_role_pay_rate  image_create_role_cost  \\\n",
       "16                      0.0059               28.114584   \n",
       "47                      0.0225               91.010809   \n",
       "1                       0.0046               16.325010   \n",
       "39                      0.0060               24.385936   \n",
       "54                      0.0120               34.267365   \n",
       "..                         ...                     ...   \n",
       "60                      0.0000              211.537143   \n",
       "5                       0.0000               60.256316   \n",
       "35                      0.0000               57.004783   \n",
       "59                      0.0000               55.470000   \n",
       "62                      0.0000              116.051395   \n",
       "\n",
       "    image_create_role_pay_cost  image_valid_source_num  ...  dislike  follow  \\\n",
       "16                 4773.089545                      12  ...      602       0   \n",
       "47                 4048.189449                      71  ...     1315       0   \n",
       "1                  3580.618889                       6  ...      202       0   \n",
       "39                 4076.064074                       0  ...      498       0   \n",
       "54                 2861.325000                       2  ...       18       0   \n",
       "..                         ...                     ...  ...      ...     ...   \n",
       "60                    0.000000                       0  ...        0       0   \n",
       "5                     0.000000                       0  ...        4       0   \n",
       "35                    0.000000                       0  ...       43       0   \n",
       "59                    0.000000                       0  ...        6       0   \n",
       "62                    0.000000                       0  ...       20       0   \n",
       "\n",
       "    message_action  report image_create_role_retain_1d  \\\n",
       "16               0      69                      0.0522   \n",
       "47               0      40                      0.1545   \n",
       "1                0      21                      0.0557   \n",
       "39               0      83                      0.0565   \n",
       "54               0       4                      0.0667   \n",
       "..             ...     ...                         ...   \n",
       "60               0       0                      0.0000   \n",
       "5                0       1                      0.0000   \n",
       "35               0       0                      0.0588   \n",
       "59               0       0                      0.0435   \n",
       "62               0       0                      0.0465   \n",
       "\n",
       "    create_role_30_pay_sum  model_run_datetime  media_id  data_win  score  \n",
       "16                134730.0          2020-11-02        10         3    740  \n",
       "47                271922.0          2020-11-03        10         3    673  \n",
       "1                  33758.0          2020-11-02        10         3    657  \n",
       "39                100048.0          2020-11-03        10         3    656  \n",
       "54                  1256.0          2020-11-03        10         3    654  \n",
       "..                     ...                 ...       ...       ...    ...  \n",
       "60                     0.0          2020-11-03        10         3    460  \n",
       "5                      0.0          2020-11-02        10         3    459  \n",
       "35                     0.0          2020-11-03        10         3    458  \n",
       "59                     0.0          2020-11-03        10         3    452  \n",
       "62                     0.0          2020-11-03        10         3    424  \n",
       "\n",
       "[63 rows x 42 columns]"
      ]
     },
     "execution_count": 34,
     "metadata": {},
     "output_type": "execute_result"
    }
   ],
   "source": [
    "result.sort_values('score',ascending=False)"
   ]
  },
  {
   "cell_type": "code",
   "execution_count": 53,
   "metadata": {},
   "outputs": [],
   "source": [
    "result.to_csv('./result.csv')"
   ]
  },
  {
   "cell_type": "code",
   "execution_count": 44,
   "metadata": {},
   "outputs": [
    {
     "data": {
      "image/png": "[encoded data removed]",
      "text/plain": [
       "<Figure size 432x288 with 1 Axes>"
      ]
     },
     "metadata": {
      "needs_background": "light"
     },
     "output_type": "display_data"
    }
   ],
   "source": [
    "sns.distplot(result['score'],bins=20)\n",
    "plt.show()"
   ]
  },
  {
   "cell_type": "code",
   "execution_count": 51,
   "metadata": {},
   "outputs": [
    {
     "data": {
      "text/plain": [
       "539.7777777777778"
      ]
     },
     "execution_count": 51,
     "metadata": {},
     "output_type": "execute_result"
    }
   ],
   "source": [
    "result['score'].mean()"
   ]
  },
  {
   "cell_type": "code",
   "execution_count": 46,
   "metadata": {},
   "outputs": [
    {
     "name": "stdout",
     "output_type": "stream",
     "text": [
      "高分区ROI： 0.6373844966302583\n",
      "低分区ROI： 0.44171839174822003\n"
     ]
    }
   ],
   "source": [
    "print('高分区ROI：',result[result['score']>=600]['create_role_30_pay_sum'].sum() / result[result['score']>=600]['image_run_date_amount'].sum())\n",
    "print('低分区ROI：',result[result['score']<600]['create_role_30_pay_sum'].sum() / result[result['score']<600]['image_run_date_amount'].sum())"
   ]
  },
  {
   "cell_type": "code",
   "execution_count": 47,
   "metadata": {},
   "outputs": [
    {
     "data": {
      "text/plain": [
       "0.5646679294994746"
      ]
     },
     "execution_count": 47,
     "metadata": {},
     "output_type": "execute_result"
    }
   ],
   "source": [
    "result['create_role_30_pay_sum'].sum() / result['image_run_date_amount'].sum()"
   ]
  },
  {
   "cell_type": "code",
   "execution_count": 50,
   "metadata": {},
   "outputs": [
    {
     "name": "stdout",
     "output_type": "stream",
     "text": [
      "高分区ROI： 0.5903895093484415\n",
      "低分区ROI： 0.3924529016016893\n"
     ]
    }
   ],
   "source": [
    "print('高分区ROI：',result[result['score']>=520]['create_role_30_pay_sum'].sum() / result[result['score']>=520]['image_run_date_amount'].sum())\n",
    "print('低分区ROI：',result[result['score']<520]['create_role_30_pay_sum'].sum() / result[result['score']<520]['image_run_date_amount'].sum())"
   ]
  },
  {
   "cell_type": "code",
   "execution_count": 52,
   "metadata": {
    "scrolled": true
   },
   "outputs": [
    {
     "name": "stdout",
     "output_type": "stream",
     "text": [
      "高分区ROI： 0.5913158492585016\n",
      "低分区ROI： 0.42445737993473404\n"
     ]
    }
   ],
   "source": [
    "print('高分区ROI：',result[result['score']>=539]['create_role_30_pay_sum'].sum() / result[result['score']>=539]['image_run_date_amount'].sum())\n",
    "print('低分区ROI：',result[result['score']<539]['create_role_30_pay_sum'].sum() / result[result['score']<539]['image_run_date_amount'].sum())"
   ]
  },
  {
   "cell_type": "code",
   "execution_count": 54,
   "metadata": {},
   "outputs": [
    {
     "data": {
      "text/plain": [
       "0.6283640072733971"
      ]
     },
     "execution_count": 54,
     "metadata": {},
     "output_type": "execute_result"
    }
   ],
   "source": [
    "result[result['score']>=600]['image_run_date_amount'].sum() / result['image_run_date_amount'].sum()"
   ]
  },
  {
   "cell_type": "code",
   "execution_count": 55,
   "metadata": {},
   "outputs": [
    {
     "name": "stdout",
     "output_type": "stream",
     "text": [
      "高分区ROI： 0.624078397541524\n",
      "低分区ROI： 0.4946370581786861\n"
     ]
    }
   ],
   "source": [
    "print('高分区ROI：',result[result['score']>=630]['create_role_30_pay_sum'].sum() / result[result['score']>=630]['image_run_date_amount'].sum())\n",
    "print('低分区ROI：',result[result['score']<630]['create_role_30_pay_sum'].sum() / result[result['score']<630]['image_run_date_amount'].sum())"
   ]
  },
  {
   "cell_type": "code",
   "execution_count": 56,
   "metadata": {},
   "outputs": [
    {
     "name": "stdout",
     "output_type": "stream",
     "text": [
      "高分区ROI： 0.6568140680046419\n",
      "低分区ROI： 0.5273291087271518\n"
     ]
    }
   ],
   "source": [
    "print('高分区ROI：',result[result['score']>=660]['create_role_30_pay_sum'].sum() / result[result['score']>=660]['image_run_date_amount'].sum())\n",
    "print('低分区ROI：',result[result['score']<660]['create_role_30_pay_sum'].sum() / result[result['score']<660]['image_run_date_amount'].sum())"
   ]
  },
  {
   "cell_type": "code",
   "execution_count": 58,
   "metadata": {},
   "outputs": [
    {
     "data": {
      "text/plain": [
       "2147035.339999999"
      ]
     },
     "execution_count": 58,
     "metadata": {},
     "output_type": "execute_result"
    }
   ],
   "source": [
    "result['image_run_date_amount'].sum()"
   ]
  },
  {
   "cell_type": "code",
   "execution_count": 59,
   "metadata": {},
   "outputs": [
    {
     "name": "stdout",
     "output_type": "stream",
     "text": [
      "高分区ROI： 0.6144736683744623\n",
      "低分区ROI： 0.4475569578533075\n"
     ]
    }
   ],
   "source": [
    "print('高分区ROI：',result[result['score']>=560]['create_role_30_pay_sum'].sum() / result[result['score']>=560]['image_run_date_amount'].sum())\n",
    "print('低分区ROI：',result[result['score']<560]['create_role_30_pay_sum'].sum() / result[result['score']<560]['image_run_date_amount'].sum())"
   ]
  },
  {
   "cell_type": "code",
   "execution_count": 60,
   "metadata": {},
   "outputs": [
    {
     "data": {
      "text/plain": [
       "0.31746031746031744"
      ]
     },
     "execution_count": 60,
     "metadata": {},
     "output_type": "execute_result"
    }
   ],
   "source": [
    "result[result['score']>=560].shape[0]/result.shape[0]"
   ]
  },
  {
   "cell_type": "code",
   "execution_count": null,
   "metadata": {},
   "outputs": [],
   "source": []
  }
 ],
 "metadata": {
  "kernelspec": {
   "display_name": "Python 3",
   "language": "python",
   "name": "python3"
  },
  "language_info": {
   "codemirror_mode": {
    "name": "ipython",
    "version": 3
   },
   "file_extension": ".py",
   "mimetype": "text/x-python",
   "name": "python",
   "nbconvert_exporter": "python",
   "pygments_lexer": "ipython3",
   "version": "3.7.6"
  }
 },
 "nbformat": 4,
 "nbformat_minor": 4
}
