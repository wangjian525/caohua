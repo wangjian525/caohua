{
 "cells": [
  {
   "cell_type": "code",
   "execution_count": 1,
   "metadata": {},
   "outputs": [],
   "source": [
    "import pandas as pd\n",
    "import seaborn as sns\n",
    "import matplotlib.pyplot as plt"
   ]
  },
  {
   "cell_type": "code",
   "execution_count": 2,
   "metadata": {},
   "outputs": [],
   "source": [
    "result_df_test = pd.read_excel('./result_df_test_2.xls')\n",
    "image_info_sorce = pd.read_csv('./image_info_sorce_hist_test_2.csv',index_col=0)"
   ]
  },
  {
   "cell_type": "code",
   "execution_count": 3,
   "metadata": {},
   "outputs": [
    {
     "data": {
      "text/plain": [
       "(289, 41)"
      ]
     },
     "execution_count": 3,
     "metadata": {},
     "output_type": "execute_result"
    }
   ],
   "source": [
    "result_df_test.shape"
   ]
  },
  {
   "cell_type": "code",
   "execution_count": 4,
   "metadata": {},
   "outputs": [
    {
     "data": {
      "text/plain": [
       "(236, 41)"
      ]
     },
     "execution_count": 4,
     "metadata": {},
     "output_type": "execute_result"
    }
   ],
   "source": [
    "image_info_sorce.shape"
   ]
  },
  {
   "cell_type": "code",
   "execution_count": 5,
   "metadata": {},
   "outputs": [
    {
     "name": "stderr",
     "output_type": "stream",
     "text": [
      "C:\\Users\\Administrator\\anaconda3\\lib\\site-packages\\ipykernel_launcher.py:2: SettingWithCopyWarning: \n",
      "A value is trying to be set on a copy of a slice from a DataFrame.\n",
      "Try using .loc[row_indexer,col_indexer] = value instead\n",
      "\n",
      "See the caveats in the documentation: https://pandas.pydata.org/pandas-docs/stable/user_guide/indexing.html#returning-a-view-versus-a-copy\n",
      "  \n"
     ]
    }
   ],
   "source": [
    "temp = image_info_sorce[['image_id','model_run_datetime','score']]\n",
    "temp['model_run_datetime'] = pd.to_datetime(temp['model_run_datetime']).dt.date\n",
    "result_df_test['model_run_datetime'] = pd.to_datetime(result_df_test['model_run_datetime']).dt.date\n",
    "result = pd.merge(result_df_test,temp,on=['image_id','model_run_datetime'],how='inner')"
   ]
  },
  {
   "cell_type": "code",
   "execution_count": 6,
   "metadata": {},
   "outputs": [
    {
     "data": {
      "text/plain": [
       "(236, 42)"
      ]
     },
     "execution_count": 6,
     "metadata": {},
     "output_type": "execute_result"
    }
   ],
   "source": [
    "result.shape"
   ]
  },
  {
   "cell_type": "code",
   "execution_count": 7,
   "metadata": {
    "scrolled": true
   },
   "outputs": [
    {
     "data": {
      "text/html": [
       "<div>\n",
       "<style scoped>\n",
       "    .dataframe tbody tr th:only-of-type {\n",
       "        vertical-align: middle;\n",
       "    }\n",
       "\n",
       "    .dataframe tbody tr th {\n",
       "        vertical-align: top;\n",
       "    }\n",
       "\n",
       "    .dataframe thead th {\n",
       "        text-align: right;\n",
       "    }\n",
       "</style>\n",
       "<table border=\"1\" class=\"dataframe\">\n",
       "  <thead>\n",
       "    <tr style=\"text-align: right;\">\n",
       "      <th></th>\n",
       "      <th>image_id</th>\n",
       "      <th>image_run_date_amount</th>\n",
       "      <th>image_create_role_pay_num</th>\n",
       "      <th>image_create_role_num</th>\n",
       "      <th>image_create_role_pay_sum</th>\n",
       "      <th>image_source_num</th>\n",
       "      <th>image_create_role_pay_rate</th>\n",
       "      <th>image_create_role_cost</th>\n",
       "      <th>image_create_role_pay_cost</th>\n",
       "      <th>image_valid_source_num</th>\n",
       "      <th>...</th>\n",
       "      <th>dislike</th>\n",
       "      <th>follow</th>\n",
       "      <th>message_action</th>\n",
       "      <th>report</th>\n",
       "      <th>image_create_role_retain_1d</th>\n",
       "      <th>create_role_30_pay_sum</th>\n",
       "      <th>model_run_datetime</th>\n",
       "      <th>media_id</th>\n",
       "      <th>data_win</th>\n",
       "      <th>score</th>\n",
       "    </tr>\n",
       "  </thead>\n",
       "  <tbody>\n",
       "    <tr>\n",
       "      <th>205</th>\n",
       "      <td>18936</td>\n",
       "      <td>25486.89</td>\n",
       "      <td>11</td>\n",
       "      <td>740</td>\n",
       "      <td>1014.0</td>\n",
       "      <td>6</td>\n",
       "      <td>0.0149</td>\n",
       "      <td>34.441743</td>\n",
       "      <td>2316.990000</td>\n",
       "      <td>4</td>\n",
       "      <td>...</td>\n",
       "      <td>0</td>\n",
       "      <td>0</td>\n",
       "      <td>0</td>\n",
       "      <td>0</td>\n",
       "      <td>0.0730</td>\n",
       "      <td>12736.0</td>\n",
       "      <td>2019-12-31</td>\n",
       "      <td>10</td>\n",
       "      <td>3</td>\n",
       "      <td>739</td>\n",
       "    </tr>\n",
       "    <tr>\n",
       "      <th>175</th>\n",
       "      <td>18936</td>\n",
       "      <td>32942.87</td>\n",
       "      <td>12</td>\n",
       "      <td>939</td>\n",
       "      <td>1044.0</td>\n",
       "      <td>8</td>\n",
       "      <td>0.0128</td>\n",
       "      <td>35.082929</td>\n",
       "      <td>2745.239167</td>\n",
       "      <td>5</td>\n",
       "      <td>...</td>\n",
       "      <td>0</td>\n",
       "      <td>0</td>\n",
       "      <td>0</td>\n",
       "      <td>0</td>\n",
       "      <td>0.0699</td>\n",
       "      <td>28332.0</td>\n",
       "      <td>2019-12-30</td>\n",
       "      <td>10</td>\n",
       "      <td>3</td>\n",
       "      <td>737</td>\n",
       "    </tr>\n",
       "    <tr>\n",
       "      <th>77</th>\n",
       "      <td>19218</td>\n",
       "      <td>7227.57</td>\n",
       "      <td>2</td>\n",
       "      <td>246</td>\n",
       "      <td>616.0</td>\n",
       "      <td>4</td>\n",
       "      <td>0.0081</td>\n",
       "      <td>29.380366</td>\n",
       "      <td>3613.785000</td>\n",
       "      <td>2</td>\n",
       "      <td>...</td>\n",
       "      <td>0</td>\n",
       "      <td>0</td>\n",
       "      <td>0</td>\n",
       "      <td>0</td>\n",
       "      <td>0.0724</td>\n",
       "      <td>3766.0</td>\n",
       "      <td>2019-12-26</td>\n",
       "      <td>10</td>\n",
       "      <td>3</td>\n",
       "      <td>728</td>\n",
       "    </tr>\n",
       "    <tr>\n",
       "      <th>146</th>\n",
       "      <td>18936</td>\n",
       "      <td>39947.92</td>\n",
       "      <td>14</td>\n",
       "      <td>1190</td>\n",
       "      <td>1354.0</td>\n",
       "      <td>11</td>\n",
       "      <td>0.0118</td>\n",
       "      <td>33.569681</td>\n",
       "      <td>2853.422857</td>\n",
       "      <td>7</td>\n",
       "      <td>...</td>\n",
       "      <td>0</td>\n",
       "      <td>0</td>\n",
       "      <td>0</td>\n",
       "      <td>0</td>\n",
       "      <td>0.0615</td>\n",
       "      <td>29988.0</td>\n",
       "      <td>2019-12-29</td>\n",
       "      <td>10</td>\n",
       "      <td>3</td>\n",
       "      <td>727</td>\n",
       "    </tr>\n",
       "    <tr>\n",
       "      <th>96</th>\n",
       "      <td>19218</td>\n",
       "      <td>5749.97</td>\n",
       "      <td>2</td>\n",
       "      <td>204</td>\n",
       "      <td>616.0</td>\n",
       "      <td>3</td>\n",
       "      <td>0.0098</td>\n",
       "      <td>28.186127</td>\n",
       "      <td>2874.985000</td>\n",
       "      <td>2</td>\n",
       "      <td>...</td>\n",
       "      <td>0</td>\n",
       "      <td>0</td>\n",
       "      <td>0</td>\n",
       "      <td>0</td>\n",
       "      <td>0.0725</td>\n",
       "      <td>14684.0</td>\n",
       "      <td>2019-12-27</td>\n",
       "      <td>10</td>\n",
       "      <td>3</td>\n",
       "      <td>725</td>\n",
       "    </tr>\n",
       "    <tr>\n",
       "      <th>...</th>\n",
       "      <td>...</td>\n",
       "      <td>...</td>\n",
       "      <td>...</td>\n",
       "      <td>...</td>\n",
       "      <td>...</td>\n",
       "      <td>...</td>\n",
       "      <td>...</td>\n",
       "      <td>...</td>\n",
       "      <td>...</td>\n",
       "      <td>...</td>\n",
       "      <td>...</td>\n",
       "      <td>...</td>\n",
       "      <td>...</td>\n",
       "      <td>...</td>\n",
       "      <td>...</td>\n",
       "      <td>...</td>\n",
       "      <td>...</td>\n",
       "      <td>...</td>\n",
       "      <td>...</td>\n",
       "      <td>...</td>\n",
       "      <td>...</td>\n",
       "    </tr>\n",
       "    <tr>\n",
       "      <th>189</th>\n",
       "      <td>19139</td>\n",
       "      <td>1455.80</td>\n",
       "      <td>0</td>\n",
       "      <td>8</td>\n",
       "      <td>0.0</td>\n",
       "      <td>1</td>\n",
       "      <td>0.0000</td>\n",
       "      <td>181.975000</td>\n",
       "      <td>0.000000</td>\n",
       "      <td>0</td>\n",
       "      <td>...</td>\n",
       "      <td>0</td>\n",
       "      <td>0</td>\n",
       "      <td>0</td>\n",
       "      <td>0</td>\n",
       "      <td>0.0000</td>\n",
       "      <td>0.0</td>\n",
       "      <td>2019-12-30</td>\n",
       "      <td>10</td>\n",
       "      <td>3</td>\n",
       "      <td>423</td>\n",
       "    </tr>\n",
       "    <tr>\n",
       "      <th>193</th>\n",
       "      <td>19339</td>\n",
       "      <td>2600.29</td>\n",
       "      <td>0</td>\n",
       "      <td>6</td>\n",
       "      <td>0.0</td>\n",
       "      <td>1</td>\n",
       "      <td>0.0000</td>\n",
       "      <td>433.381667</td>\n",
       "      <td>0.000000</td>\n",
       "      <td>0</td>\n",
       "      <td>...</td>\n",
       "      <td>0</td>\n",
       "      <td>0</td>\n",
       "      <td>0</td>\n",
       "      <td>0</td>\n",
       "      <td>0.0556</td>\n",
       "      <td>0.0</td>\n",
       "      <td>2019-12-30</td>\n",
       "      <td>10</td>\n",
       "      <td>3</td>\n",
       "      <td>420</td>\n",
       "    </tr>\n",
       "    <tr>\n",
       "      <th>226</th>\n",
       "      <td>19339</td>\n",
       "      <td>2448.86</td>\n",
       "      <td>0</td>\n",
       "      <td>2</td>\n",
       "      <td>0.0</td>\n",
       "      <td>1</td>\n",
       "      <td>0.0000</td>\n",
       "      <td>1224.430000</td>\n",
       "      <td>0.000000</td>\n",
       "      <td>0</td>\n",
       "      <td>...</td>\n",
       "      <td>0</td>\n",
       "      <td>0</td>\n",
       "      <td>0</td>\n",
       "      <td>0</td>\n",
       "      <td>0.0000</td>\n",
       "      <td>0.0</td>\n",
       "      <td>2019-12-31</td>\n",
       "      <td>10</td>\n",
       "      <td>3</td>\n",
       "      <td>410</td>\n",
       "    </tr>\n",
       "    <tr>\n",
       "      <th>225</th>\n",
       "      <td>19329</td>\n",
       "      <td>1057.24</td>\n",
       "      <td>0</td>\n",
       "      <td>3</td>\n",
       "      <td>0.0</td>\n",
       "      <td>1</td>\n",
       "      <td>0.0000</td>\n",
       "      <td>352.413333</td>\n",
       "      <td>0.000000</td>\n",
       "      <td>0</td>\n",
       "      <td>...</td>\n",
       "      <td>0</td>\n",
       "      <td>0</td>\n",
       "      <td>0</td>\n",
       "      <td>0</td>\n",
       "      <td>0.0000</td>\n",
       "      <td>0.0</td>\n",
       "      <td>2019-12-31</td>\n",
       "      <td>10</td>\n",
       "      <td>3</td>\n",
       "      <td>409</td>\n",
       "    </tr>\n",
       "    <tr>\n",
       "      <th>233</th>\n",
       "      <td>19426</td>\n",
       "      <td>1475.60</td>\n",
       "      <td>0</td>\n",
       "      <td>2</td>\n",
       "      <td>0.0</td>\n",
       "      <td>2</td>\n",
       "      <td>0.0000</td>\n",
       "      <td>737.800000</td>\n",
       "      <td>0.000000</td>\n",
       "      <td>0</td>\n",
       "      <td>...</td>\n",
       "      <td>0</td>\n",
       "      <td>0</td>\n",
       "      <td>0</td>\n",
       "      <td>0</td>\n",
       "      <td>0.0000</td>\n",
       "      <td>0.0</td>\n",
       "      <td>2019-12-31</td>\n",
       "      <td>10</td>\n",
       "      <td>3</td>\n",
       "      <td>409</td>\n",
       "    </tr>\n",
       "  </tbody>\n",
       "</table>\n",
       "<p>236 rows × 42 columns</p>\n",
       "</div>"
      ],
      "text/plain": [
       "     image_id  image_run_date_amount  image_create_role_pay_num  \\\n",
       "205     18936               25486.89                         11   \n",
       "175     18936               32942.87                         12   \n",
       "77      19218                7227.57                          2   \n",
       "146     18936               39947.92                         14   \n",
       "96      19218                5749.97                          2   \n",
       "..        ...                    ...                        ...   \n",
       "189     19139                1455.80                          0   \n",
       "193     19339                2600.29                          0   \n",
       "226     19339                2448.86                          0   \n",
       "225     19329                1057.24                          0   \n",
       "233     19426                1475.60                          0   \n",
       "\n",
       "     image_create_role_num  image_create_role_pay_sum  image_source_num  \\\n",
       "205                    740                     1014.0                 6   \n",
       "175                    939                     1044.0                 8   \n",
       "77                     246                      616.0                 4   \n",
       "146                   1190                     1354.0                11   \n",
       "96                     204                      616.0                 3   \n",
       "..                     ...                        ...               ...   \n",
       "189                      8                        0.0                 1   \n",
       "193                      6                        0.0                 1   \n",
       "226                      2                        0.0                 1   \n",
       "225                      3                        0.0                 1   \n",
       "233                      2                        0.0                 2   \n",
       "\n",
       "     image_create_role_pay_rate  image_create_role_cost  \\\n",
       "205                      0.0149               34.441743   \n",
       "175                      0.0128               35.082929   \n",
       "77                       0.0081               29.380366   \n",
       "146                      0.0118               33.569681   \n",
       "96                       0.0098               28.186127   \n",
       "..                          ...                     ...   \n",
       "189                      0.0000              181.975000   \n",
       "193                      0.0000              433.381667   \n",
       "226                      0.0000             1224.430000   \n",
       "225                      0.0000              352.413333   \n",
       "233                      0.0000              737.800000   \n",
       "\n",
       "     image_create_role_pay_cost  image_valid_source_num  ...  dislike  follow  \\\n",
       "205                 2316.990000                       4  ...        0       0   \n",
       "175                 2745.239167                       5  ...        0       0   \n",
       "77                  3613.785000                       2  ...        0       0   \n",
       "146                 2853.422857                       7  ...        0       0   \n",
       "96                  2874.985000                       2  ...        0       0   \n",
       "..                          ...                     ...  ...      ...     ...   \n",
       "189                    0.000000                       0  ...        0       0   \n",
       "193                    0.000000                       0  ...        0       0   \n",
       "226                    0.000000                       0  ...        0       0   \n",
       "225                    0.000000                       0  ...        0       0   \n",
       "233                    0.000000                       0  ...        0       0   \n",
       "\n",
       "     message_action  report image_create_role_retain_1d  \\\n",
       "205               0       0                      0.0730   \n",
       "175               0       0                      0.0699   \n",
       "77                0       0                      0.0724   \n",
       "146               0       0                      0.0615   \n",
       "96                0       0                      0.0725   \n",
       "..              ...     ...                         ...   \n",
       "189               0       0                      0.0000   \n",
       "193               0       0                      0.0556   \n",
       "226               0       0                      0.0000   \n",
       "225               0       0                      0.0000   \n",
       "233               0       0                      0.0000   \n",
       "\n",
       "     create_role_30_pay_sum  model_run_datetime  media_id  data_win  score  \n",
       "205                 12736.0          2019-12-31        10         3    739  \n",
       "175                 28332.0          2019-12-30        10         3    737  \n",
       "77                   3766.0          2019-12-26        10         3    728  \n",
       "146                 29988.0          2019-12-29        10         3    727  \n",
       "96                  14684.0          2019-12-27        10         3    725  \n",
       "..                      ...                 ...       ...       ...    ...  \n",
       "189                     0.0          2019-12-30        10         3    423  \n",
       "193                     0.0          2019-12-30        10         3    420  \n",
       "226                     0.0          2019-12-31        10         3    410  \n",
       "225                     0.0          2019-12-31        10         3    409  \n",
       "233                     0.0          2019-12-31        10         3    409  \n",
       "\n",
       "[236 rows x 42 columns]"
      ]
     },
     "execution_count": 7,
     "metadata": {},
     "output_type": "execute_result"
    }
   ],
   "source": [
    "result.sort_values('score',ascending=False)"
   ]
  },
  {
   "cell_type": "code",
   "execution_count": 9,
   "metadata": {},
   "outputs": [
    {
     "data": {
      "image/png": "[encoded data removed]",
      "text/plain": [
       "<Figure size 432x288 with 1 Axes>"
      ]
     },
     "metadata": {
      "needs_background": "light"
     },
     "output_type": "display_data"
    }
   ],
   "source": [
    "sns.distplot(result['score'])\n",
    "plt.show()"
   ]
  },
  {
   "cell_type": "code",
   "execution_count": 10,
   "metadata": {},
   "outputs": [
    {
     "data": {
      "text/plain": [
       "553.1228813559322"
      ]
     },
     "execution_count": 10,
     "metadata": {},
     "output_type": "execute_result"
    }
   ],
   "source": [
    "result['score'].mean()"
   ]
  },
  {
   "cell_type": "code",
   "execution_count": 12,
   "metadata": {},
   "outputs": [
    {
     "name": "stdout",
     "output_type": "stream",
     "text": [
      "高分区ROI： 0.5598902115710839\n",
      "低分区ROI： 0.2658685142626924\n"
     ]
    }
   ],
   "source": [
    "print('高分区ROI：',result[result['score']>=553]['create_role_30_pay_sum'].sum() / result[result['score']>=553]['image_run_date_amount'].sum())\n",
    "print('低分区ROI：',result[result['score']<553]['create_role_30_pay_sum'].sum() / result[result['score']<553]['image_run_date_amount'].sum())"
   ]
  },
  {
   "cell_type": "code",
   "execution_count": 13,
   "metadata": {},
   "outputs": [
    {
     "data": {
      "text/plain": [
       "0.4668517047615556"
      ]
     },
     "execution_count": 13,
     "metadata": {},
     "output_type": "execute_result"
    }
   ],
   "source": [
    "result['create_role_30_pay_sum'].sum() / result['image_run_date_amount'].sum()"
   ]
  },
  {
   "cell_type": "code",
   "execution_count": 14,
   "metadata": {},
   "outputs": [
    {
     "data": {
      "text/plain": [
       "0.5093095733797728"
      ]
     },
     "execution_count": 14,
     "metadata": {},
     "output_type": "execute_result"
    }
   ],
   "source": [
    "result[result['score']>=600]['image_run_date_amount'].sum() / result['image_run_date_amount'].sum()"
   ]
  },
  {
   "cell_type": "code",
   "execution_count": 17,
   "metadata": {},
   "outputs": [
    {
     "data": {
      "text/plain": [
       "0.648779751841457"
      ]
     },
     "execution_count": 17,
     "metadata": {},
     "output_type": "execute_result"
    }
   ],
   "source": [
    "result[result['score']>=560]['image_run_date_amount'].sum() / result['image_run_date_amount'].sum()"
   ]
  },
  {
   "cell_type": "code",
   "execution_count": 16,
   "metadata": {},
   "outputs": [
    {
     "name": "stdout",
     "output_type": "stream",
     "text": [
      "高分区ROI： 0.5437044610484544\n",
      "低分区ROI： 0.32488804402853627\n"
     ]
    }
   ],
   "source": [
    "print('高分区ROI：',result[result['score']>=560]['create_role_30_pay_sum'].sum() / result[result['score']>=560]['image_run_date_amount'].sum())\n",
    "print('低分区ROI：',result[result['score']<560]['create_role_30_pay_sum'].sum() / result[result['score']<560]['image_run_date_amount'].sum())"
   ]
  },
  {
   "cell_type": "code",
   "execution_count": 18,
   "metadata": {},
   "outputs": [
    {
     "data": {
      "text/plain": [
       "0.3771186440677966"
      ]
     },
     "execution_count": 18,
     "metadata": {},
     "output_type": "execute_result"
    }
   ],
   "source": [
    "result[result['score']>=560].shape[0]/result.shape[0]"
   ]
  },
  {
   "cell_type": "code",
   "execution_count": 21,
   "metadata": {},
   "outputs": [
    {
     "data": {
      "text/plain": [
       "Timestamp('2020-01-01 00:00:00')"
      ]
     },
     "execution_count": 21,
     "metadata": {},
     "output_type": "execute_result"
    }
   ],
   "source": [
    "pd.to_datetime('2020-01-01 00:00:00',format='%Y-%m-%d ')"
   ]
  },
  {
   "cell_type": "code",
   "execution_count": 22,
   "metadata": {},
   "outputs": [
    {
     "name": "stdout",
     "output_type": "stream",
     "text": [
      "Help on function to_datetime in module pandas.core.tools.datetimes:\n",
      "\n",
      "to_datetime(arg, errors='raise', dayfirst=False, yearfirst=False, utc=None, format=None, exact=True, unit=None, infer_datetime_format=False, origin='unix', cache=True)\n",
      "    Convert argument to datetime.\n",
      "    \n",
      "    Parameters\n",
      "    ----------\n",
      "    arg : int, float, str, datetime, list, tuple, 1-d array, Series DataFrame/dict-like\n",
      "        The object to convert to a datetime.\n",
      "    errors : {'ignore', 'raise', 'coerce'}, default 'raise'\n",
      "        - If 'raise', then invalid parsing will raise an exception.\n",
      "        - If 'coerce', then invalid parsing will be set as NaT.\n",
      "        - If 'ignore', then invalid parsing will return the input.\n",
      "    dayfirst : bool, default False\n",
      "        Specify a date parse order if `arg` is str or its list-likes.\n",
      "        If True, parses dates with the day first, eg 10/11/12 is parsed as\n",
      "        2012-11-10.\n",
      "        Warning: dayfirst=True is not strict, but will prefer to parse\n",
      "        with day first (this is a known bug, based on dateutil behavior).\n",
      "    yearfirst : bool, default False\n",
      "        Specify a date parse order if `arg` is str or its list-likes.\n",
      "    \n",
      "        - If True parses dates with the year first, eg 10/11/12 is parsed as\n",
      "          2010-11-12.\n",
      "        - If both dayfirst and yearfirst are True, yearfirst is preceded (same\n",
      "          as dateutil).\n",
      "    \n",
      "        Warning: yearfirst=True is not strict, but will prefer to parse\n",
      "        with year first (this is a known bug, based on dateutil behavior).\n",
      "    utc : bool, default None\n",
      "        Return UTC DatetimeIndex if True (converting any tz-aware\n",
      "        datetime.datetime objects as well).\n",
      "    format : str, default None\n",
      "        The strftime to parse time, eg \"%d/%m/%Y\", note that \"%f\" will parse\n",
      "        all the way up to nanoseconds.\n",
      "        See strftime documentation for more information on choices:\n",
      "        https://docs.python.org/3/library/datetime.html#strftime-and-strptime-behavior.\n",
      "    exact : bool, True by default\n",
      "        Behaves as:\n",
      "        - If True, require an exact format match.\n",
      "        - If False, allow the format to match anywhere in the target string.\n",
      "    \n",
      "    unit : str, default 'ns'\n",
      "        The unit of the arg (D,s,ms,us,ns) denote the unit, which is an\n",
      "        integer or float number. This will be based off the origin.\n",
      "        Example, with unit='ms' and origin='unix' (the default), this\n",
      "        would calculate the number of milliseconds to the unix epoch start.\n",
      "    infer_datetime_format : bool, default False\n",
      "        If True and no `format` is given, attempt to infer the format of the\n",
      "        datetime strings, and if it can be inferred, switch to a faster\n",
      "        method of parsing them. In some cases this can increase the parsing\n",
      "        speed by ~5-10x.\n",
      "    origin : scalar, default 'unix'\n",
      "        Define the reference date. The numeric values would be parsed as number\n",
      "        of units (defined by `unit`) since this reference date.\n",
      "    \n",
      "        - If 'unix' (or POSIX) time; origin is set to 1970-01-01.\n",
      "        - If 'julian', unit must be 'D', and origin is set to beginning of\n",
      "          Julian Calendar. Julian day number 0 is assigned to the day starting\n",
      "          at noon on January 1, 4713 BC.\n",
      "        - If Timestamp convertible, origin is set to Timestamp identified by\n",
      "          origin.\n",
      "    cache : bool, default True\n",
      "        If True, use a cache of unique, converted dates to apply the datetime\n",
      "        conversion. May produce significant speed-up when parsing duplicate\n",
      "        date strings, especially ones with timezone offsets. The cache is only\n",
      "        used when there are at least 50 values. The presence of out-of-bounds\n",
      "        values will render the cache unusable and may slow down parsing.\n",
      "    \n",
      "        .. versionadded:: 0.23.0\n",
      "    \n",
      "        .. versionchanged:: 0.25.0\n",
      "            - changed default value from False to True.\n",
      "    \n",
      "    Returns\n",
      "    -------\n",
      "    datetime\n",
      "        If parsing succeeded.\n",
      "        Return type depends on input:\n",
      "    \n",
      "        - list-like: DatetimeIndex\n",
      "        - Series: Series of datetime64 dtype\n",
      "        - scalar: Timestamp\n",
      "    \n",
      "        In case when it is not possible to return designated types (e.g. when\n",
      "        any element of input is before Timestamp.min or after Timestamp.max)\n",
      "        return will have datetime.datetime type (or corresponding\n",
      "        array/Series).\n",
      "    \n",
      "    See Also\n",
      "    --------\n",
      "    DataFrame.astype : Cast argument to a specified dtype.\n",
      "    to_timedelta : Convert argument to timedelta.\n",
      "    convert_dtypes : Convert dtypes.\n",
      "    \n",
      "    Examples\n",
      "    --------\n",
      "    Assembling a datetime from multiple columns of a DataFrame. The keys can be\n",
      "    common abbreviations like ['year', 'month', 'day', 'minute', 'second',\n",
      "    'ms', 'us', 'ns']) or plurals of the same\n",
      "    \n",
      "    >>> df = pd.DataFrame({'year': [2015, 2016],\n",
      "    ...                    'month': [2, 3],\n",
      "    ...                    'day': [4, 5]})\n",
      "    >>> pd.to_datetime(df)\n",
      "    0   2015-02-04\n",
      "    1   2016-03-05\n",
      "    dtype: datetime64[ns]\n",
      "    \n",
      "    If a date does not meet the `timestamp limitations\n",
      "    <https://pandas.pydata.org/pandas-docs/stable/user_guide/timeseries.html\n",
      "    #timeseries-timestamp-limits>`_, passing errors='ignore'\n",
      "    will return the original input instead of raising any exception.\n",
      "    \n",
      "    Passing errors='coerce' will force an out-of-bounds date to NaT,\n",
      "    in addition to forcing non-dates (or non-parseable dates) to NaT.\n",
      "    \n",
      "    >>> pd.to_datetime('13000101', format='%Y%m%d', errors='ignore')\n",
      "    datetime.datetime(1300, 1, 1, 0, 0)\n",
      "    >>> pd.to_datetime('13000101', format='%Y%m%d', errors='coerce')\n",
      "    NaT\n",
      "    \n",
      "    Passing infer_datetime_format=True can often-times speedup a parsing\n",
      "    if its not an ISO8601 format exactly, but in a regular format.\n",
      "    \n",
      "    >>> s = pd.Series(['3/11/2000', '3/12/2000', '3/13/2000'] * 1000)\n",
      "    >>> s.head()\n",
      "    0    3/11/2000\n",
      "    1    3/12/2000\n",
      "    2    3/13/2000\n",
      "    3    3/11/2000\n",
      "    4    3/12/2000\n",
      "    dtype: object\n",
      "    \n",
      "    >>> %timeit pd.to_datetime(s, infer_datetime_format=True)  # doctest: +SKIP\n",
      "    100 loops, best of 3: 10.4 ms per loop\n",
      "    \n",
      "    >>> %timeit pd.to_datetime(s, infer_datetime_format=False)  # doctest: +SKIP\n",
      "    1 loop, best of 3: 471 ms per loop\n",
      "    \n",
      "    Using a unix epoch time\n",
      "    \n",
      "    >>> pd.to_datetime(1490195805, unit='s')\n",
      "    Timestamp('2017-03-22 15:16:45')\n",
      "    >>> pd.to_datetime(1490195805433502912, unit='ns')\n",
      "    Timestamp('2017-03-22 15:16:45.433502912')\n",
      "    \n",
      "    .. warning:: For float arg, precision rounding might happen. To prevent\n",
      "        unexpected behavior use a fixed-width exact type.\n",
      "    \n",
      "    Using a non-unix epoch origin\n",
      "    \n",
      "    >>> pd.to_datetime([1, 2, 3], unit='D',\n",
      "    ...                origin=pd.Timestamp('1960-01-01'))\n",
      "    DatetimeIndex(['1960-01-02', '1960-01-03', '1960-01-04'], dtype='datetime64[ns]', freq=None)\n",
      "\n"
     ]
    }
   ],
   "source": [
    "help(pd.to_datetime)"
   ]
  },
  {
   "cell_type": "code",
   "execution_count": null,
   "metadata": {},
   "outputs": [],
   "source": []
  }
 ],
 "metadata": {
  "kernelspec": {
   "display_name": "Python 3",
   "language": "python",
   "name": "python3"
  },
  "language_info": {
   "codemirror_mode": {
    "name": "ipython",
    "version": 3
   },
   "file_extension": ".py",
   "mimetype": "text/x-python",
   "name": "python",
   "nbconvert_exporter": "python",
   "pygments_lexer": "ipython3",
   "version": "3.7.6"
  }
 },
 "nbformat": 4,
 "nbformat_minor": 4
}
