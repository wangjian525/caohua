{
 "cells": [
  {
   "cell_type": "code",
   "execution_count": 1,
   "metadata": {},
   "outputs": [],
   "source": [
    "import pandas as pd\n",
    "import numpy as np\n",
    "import matplotlib.pyplot as plt\n",
    "import seaborn as sns\n",
    "import warnings\n",
    "warnings.filterwarnings('ignore')"
   ]
  },
  {
   "cell_type": "code",
   "execution_count": 2,
   "metadata": {},
   "outputs": [],
   "source": [
    "# image_info = pd.read_excel('./image_info.xls')"
   ]
  },
  {
   "cell_type": "code",
   "execution_count": 2,
   "metadata": {},
   "outputs": [],
   "source": [
    "import datetime"
   ]
  },
  {
   "cell_type": "code",
   "execution_count": 3,
   "metadata": {},
   "outputs": [],
   "source": [
    "image_info = pd.read_csv('./train_data_multiprocess.csv')"
   ]
  },
  {
   "cell_type": "code",
   "execution_count": 4,
   "metadata": {},
   "outputs": [],
   "source": [
    "pd.set_option('display.max_columns',None)"
   ]
  },
  {
   "cell_type": "code",
   "execution_count": 5,
   "metadata": {
    "scrolled": true
   },
   "outputs": [
    {
     "data": {
      "text/html": [
       "<div>\n",
       "<style scoped>\n",
       "    .dataframe tbody tr th:only-of-type {\n",
       "        vertical-align: middle;\n",
       "    }\n",
       "\n",
       "    .dataframe tbody tr th {\n",
       "        vertical-align: top;\n",
       "    }\n",
       "\n",
       "    .dataframe thead th {\n",
       "        text-align: right;\n",
       "    }\n",
       "</style>\n",
       "<table border=\"1\" class=\"dataframe\">\n",
       "  <thead>\n",
       "    <tr style=\"text-align: right;\">\n",
       "      <th></th>\n",
       "      <th>image_id</th>\n",
       "      <th>image_name</th>\n",
       "      <th>media_id</th>\n",
       "      <th>image_launch_time</th>\n",
       "      <th>image_source_total_num</th>\n",
       "      <th>image_run_date_amount</th>\n",
       "      <th>image_create_role_pay_num</th>\n",
       "      <th>image_create_role_num</th>\n",
       "      <th>image_create_role_pay_sum</th>\n",
       "      <th>image_source_num</th>\n",
       "      <th>image_create_role_pay_rate</th>\n",
       "      <th>image_create_role_cost</th>\n",
       "      <th>image_create_role_pay_cost</th>\n",
       "      <th>image_valid_source_num</th>\n",
       "      <th>image_valid_source_rate</th>\n",
       "      <th>image_pay_sum_ability</th>\n",
       "      <th>image_pay_num_ability</th>\n",
       "      <th>image_create_role_roi</th>\n",
       "      <th>image_create_role_retain_1d</th>\n",
       "      <th>create_role_30_pay_sum</th>\n",
       "      <th>model_run_datetime</th>\n",
       "      <th>data_win</th>\n",
       "    </tr>\n",
       "  </thead>\n",
       "  <tbody>\n",
       "    <tr>\n",
       "      <th>0</th>\n",
       "      <td>28073</td>\n",
       "      <td>QMZZ015-横版CHL（口播）</td>\n",
       "      <td>16</td>\n",
       "      <td>2020-12-25</td>\n",
       "      <td>377.0</td>\n",
       "      <td>4914.72</td>\n",
       "      <td>1.0</td>\n",
       "      <td>16.0</td>\n",
       "      <td>6.0</td>\n",
       "      <td>10.0</td>\n",
       "      <td>0.0625</td>\n",
       "      <td>307.170000</td>\n",
       "      <td>4914.72</td>\n",
       "      <td>0.0</td>\n",
       "      <td>0.0</td>\n",
       "      <td>0.0</td>\n",
       "      <td>0.0</td>\n",
       "      <td>0.001221</td>\n",
       "      <td>0.0455</td>\n",
       "      <td>6.0</td>\n",
       "      <td>2021-05-01</td>\n",
       "      <td>3</td>\n",
       "    </tr>\n",
       "    <tr>\n",
       "      <th>1</th>\n",
       "      <td>28164</td>\n",
       "      <td>GZDGB10</td>\n",
       "      <td>10</td>\n",
       "      <td>2020-12-27</td>\n",
       "      <td>25.0</td>\n",
       "      <td>647.31</td>\n",
       "      <td>1.0</td>\n",
       "      <td>2.0</td>\n",
       "      <td>6.0</td>\n",
       "      <td>8.0</td>\n",
       "      <td>0.5000</td>\n",
       "      <td>323.655000</td>\n",
       "      <td>647.31</td>\n",
       "      <td>0.0</td>\n",
       "      <td>0.0</td>\n",
       "      <td>0.0</td>\n",
       "      <td>0.0</td>\n",
       "      <td>0.009269</td>\n",
       "      <td>0.2727</td>\n",
       "      <td>12.0</td>\n",
       "      <td>2021-05-01</td>\n",
       "      <td>3</td>\n",
       "    </tr>\n",
       "    <tr>\n",
       "      <th>2</th>\n",
       "      <td>28237</td>\n",
       "      <td>gzdgBG04</td>\n",
       "      <td>10</td>\n",
       "      <td>2020-12-29</td>\n",
       "      <td>165.0</td>\n",
       "      <td>167.74</td>\n",
       "      <td>0.0</td>\n",
       "      <td>0.0</td>\n",
       "      <td>0.0</td>\n",
       "      <td>1.0</td>\n",
       "      <td>0.0000</td>\n",
       "      <td>0.000000</td>\n",
       "      <td>0.00</td>\n",
       "      <td>0.0</td>\n",
       "      <td>0.0</td>\n",
       "      <td>0.0</td>\n",
       "      <td>0.0</td>\n",
       "      <td>0.000000</td>\n",
       "      <td>NaN</td>\n",
       "      <td>NaN</td>\n",
       "      <td>2021-05-01</td>\n",
       "      <td>3</td>\n",
       "    </tr>\n",
       "    <tr>\n",
       "      <th>3</th>\n",
       "      <td>28239</td>\n",
       "      <td>gzdgBG18</td>\n",
       "      <td>10</td>\n",
       "      <td>2020-12-29</td>\n",
       "      <td>827.0</td>\n",
       "      <td>2594.60</td>\n",
       "      <td>0.0</td>\n",
       "      <td>17.0</td>\n",
       "      <td>0.0</td>\n",
       "      <td>16.0</td>\n",
       "      <td>0.0000</td>\n",
       "      <td>152.623529</td>\n",
       "      <td>0.00</td>\n",
       "      <td>0.0</td>\n",
       "      <td>0.0</td>\n",
       "      <td>0.0</td>\n",
       "      <td>0.0</td>\n",
       "      <td>0.000000</td>\n",
       "      <td>0.2321</td>\n",
       "      <td>1688.0</td>\n",
       "      <td>2021-05-01</td>\n",
       "      <td>3</td>\n",
       "    </tr>\n",
       "    <tr>\n",
       "      <th>4</th>\n",
       "      <td>28416</td>\n",
       "      <td>（Q）GZDGS029-LZQ 怀旧复古（微信640X360）</td>\n",
       "      <td>16</td>\n",
       "      <td>2020-12-30</td>\n",
       "      <td>57.0</td>\n",
       "      <td>132.33</td>\n",
       "      <td>0.0</td>\n",
       "      <td>0.0</td>\n",
       "      <td>0.0</td>\n",
       "      <td>3.0</td>\n",
       "      <td>0.0000</td>\n",
       "      <td>0.000000</td>\n",
       "      <td>0.00</td>\n",
       "      <td>0.0</td>\n",
       "      <td>0.0</td>\n",
       "      <td>0.0</td>\n",
       "      <td>0.0</td>\n",
       "      <td>0.000000</td>\n",
       "      <td>0.0000</td>\n",
       "      <td>0.0</td>\n",
       "      <td>2021-05-01</td>\n",
       "      <td>3</td>\n",
       "    </tr>\n",
       "  </tbody>\n",
       "</table>\n",
       "</div>"
      ],
      "text/plain": [
       "   image_id                       image_name  media_id image_launch_time  \\\n",
       "0     28073                QMZZ015-横版CHL（口播）        16        2020-12-25   \n",
       "1     28164                          GZDGB10        10        2020-12-27   \n",
       "2     28237                         gzdgBG04        10        2020-12-29   \n",
       "3     28239                         gzdgBG18        10        2020-12-29   \n",
       "4     28416  （Q）GZDGS029-LZQ 怀旧复古（微信640X360）        16        2020-12-30   \n",
       "\n",
       "   image_source_total_num  image_run_date_amount  image_create_role_pay_num  \\\n",
       "0                   377.0                4914.72                        1.0   \n",
       "1                    25.0                 647.31                        1.0   \n",
       "2                   165.0                 167.74                        0.0   \n",
       "3                   827.0                2594.60                        0.0   \n",
       "4                    57.0                 132.33                        0.0   \n",
       "\n",
       "   image_create_role_num  image_create_role_pay_sum  image_source_num  \\\n",
       "0                   16.0                        6.0              10.0   \n",
       "1                    2.0                        6.0               8.0   \n",
       "2                    0.0                        0.0               1.0   \n",
       "3                   17.0                        0.0              16.0   \n",
       "4                    0.0                        0.0               3.0   \n",
       "\n",
       "   image_create_role_pay_rate  image_create_role_cost  \\\n",
       "0                      0.0625              307.170000   \n",
       "1                      0.5000              323.655000   \n",
       "2                      0.0000                0.000000   \n",
       "3                      0.0000              152.623529   \n",
       "4                      0.0000                0.000000   \n",
       "\n",
       "   image_create_role_pay_cost  image_valid_source_num  \\\n",
       "0                     4914.72                     0.0   \n",
       "1                      647.31                     0.0   \n",
       "2                        0.00                     0.0   \n",
       "3                        0.00                     0.0   \n",
       "4                        0.00                     0.0   \n",
       "\n",
       "   image_valid_source_rate  image_pay_sum_ability  image_pay_num_ability  \\\n",
       "0                      0.0                    0.0                    0.0   \n",
       "1                      0.0                    0.0                    0.0   \n",
       "2                      0.0                    0.0                    0.0   \n",
       "3                      0.0                    0.0                    0.0   \n",
       "4                      0.0                    0.0                    0.0   \n",
       "\n",
       "   image_create_role_roi  image_create_role_retain_1d  create_role_30_pay_sum  \\\n",
       "0               0.001221                       0.0455                     6.0   \n",
       "1               0.009269                       0.2727                    12.0   \n",
       "2               0.000000                          NaN                     NaN   \n",
       "3               0.000000                       0.2321                  1688.0   \n",
       "4               0.000000                       0.0000                     0.0   \n",
       "\n",
       "  model_run_datetime  data_win  \n",
       "0         2021-05-01         3  \n",
       "1         2021-05-01         3  \n",
       "2         2021-05-01         3  \n",
       "3         2021-05-01         3  \n",
       "4         2021-05-01         3  "
      ]
     },
     "execution_count": 5,
     "metadata": {},
     "output_type": "execute_result"
    }
   ],
   "source": [
    "image_info.head()"
   ]
  },
  {
   "cell_type": "code",
   "execution_count": 6,
   "metadata": {},
   "outputs": [
    {
     "data": {
      "text/plain": [
       "3213"
      ]
     },
     "execution_count": 6,
     "metadata": {},
     "output_type": "execute_result"
    }
   ],
   "source": [
    "image_info['image_id'].nunique()"
   ]
  },
  {
   "cell_type": "code",
   "execution_count": 7,
   "metadata": {},
   "outputs": [],
   "source": [
    "image_info['image_30_roi'] = image_info['create_role_30_pay_sum'] / image_info['image_run_date_amount']"
   ]
  },
  {
   "cell_type": "code",
   "execution_count": 8,
   "metadata": {},
   "outputs": [
    {
     "data": {
      "text/plain": [
       "image_30_roi                   1.000000\n",
       "image_create_role_roi          0.238175\n",
       "create_role_30_pay_sum         0.203534\n",
       "image_pay_sum_ability          0.058686\n",
       "image_create_role_pay_rate     0.058353\n",
       "image_create_role_retain_1d    0.042217\n",
       "image_create_role_pay_sum      0.038738\n",
       "image_valid_source_rate        0.022856\n",
       "image_source_total_num         0.011114\n",
       "media_id                       0.010510\n",
       "image_pay_num_ability          0.007420\n",
       "image_valid_source_num         0.006885\n",
       "image_create_role_pay_num      0.002174\n",
       "image_create_role_num         -0.003259\n",
       "image_run_date_amount         -0.003454\n",
       "image_source_num              -0.005132\n",
       "image_id                      -0.005684\n",
       "image_create_role_pay_cost    -0.006566\n",
       "image_create_role_cost        -0.013941\n",
       "data_win                            NaN\n",
       "Name: image_30_roi, dtype: float64"
      ]
     },
     "execution_count": 8,
     "metadata": {},
     "output_type": "execute_result"
    }
   ],
   "source": [
    "image_info.corr()['image_30_roi'].sort_values(ascending=False)"
   ]
  },
  {
   "cell_type": "code",
   "execution_count": 9,
   "metadata": {},
   "outputs": [],
   "source": [
    "image_info['label'] = image_info['image_30_roi'].apply(lambda x:1 if x>=0.35 else(0 if x<0.25 else 2))"
   ]
  },
  {
   "cell_type": "code",
   "execution_count": 10,
   "metadata": {},
   "outputs": [
    {
     "data": {
      "text/plain": [
       "0    69053\n",
       "1     9558\n",
       "2     6278\n",
       "Name: label, dtype: int64"
      ]
     },
     "execution_count": 10,
     "metadata": {},
     "output_type": "execute_result"
    }
   ],
   "source": [
    "image_info['label'].value_counts()"
   ]
  },
  {
   "cell_type": "code",
   "execution_count": 11,
   "metadata": {},
   "outputs": [],
   "source": [
    "image_info_label = image_info[image_info['label']!=2]"
   ]
  },
  {
   "cell_type": "markdown",
   "metadata": {},
   "source": [
    "### EDA"
   ]
  },
  {
   "cell_type": "code",
   "execution_count": 12,
   "metadata": {
    "scrolled": true
   },
   "outputs": [
    {
     "data": {
      "text/plain": [
       "(78611, 24)"
      ]
     },
     "execution_count": 12,
     "metadata": {},
     "output_type": "execute_result"
    }
   ],
   "source": [
    "image_info_label.shape"
   ]
  },
  {
   "cell_type": "code",
   "execution_count": 13,
   "metadata": {},
   "outputs": [],
   "source": [
    "image_info_label = image_info_label[image_info_label['image_run_date_amount']>=500]"
   ]
  },
  {
   "cell_type": "code",
   "execution_count": 14,
   "metadata": {},
   "outputs": [
    {
     "data": {
      "text/plain": [
       "(60032, 24)"
      ]
     },
     "execution_count": 14,
     "metadata": {},
     "output_type": "execute_result"
    }
   ],
   "source": [
    "image_info_label.shape"
   ]
  },
  {
   "cell_type": "code",
   "execution_count": 15,
   "metadata": {},
   "outputs": [
    {
     "data": {
      "text/plain": [
       "data_win                           1\n",
       "label                              2\n",
       "media_id                           4\n",
       "image_valid_source_num            64\n",
       "image_source_num                 100\n",
       "image_create_role_pay_num        133\n",
       "image_source_total_num           226\n",
       "model_run_datetime               277\n",
       "image_launch_time                351\n",
       "image_valid_source_rate          389\n",
       "image_pay_num_ability            506\n",
       "image_create_role_num           1132\n",
       "image_create_role_pay_rate      1299\n",
       "image_create_role_retain_1d     2588\n",
       "image_id                        2908\n",
       "image_name                      2908\n",
       "image_pay_sum_ability           2920\n",
       "image_create_role_pay_sum       2947\n",
       "create_role_30_pay_sum          8520\n",
       "image_create_role_roi          21308\n",
       "image_create_role_pay_cost     31765\n",
       "image_30_roi                   40473\n",
       "image_run_date_amount          55251\n",
       "image_create_role_cost         56078\n",
       "dtype: int64"
      ]
     },
     "execution_count": 15,
     "metadata": {},
     "output_type": "execute_result"
    }
   ],
   "source": [
    "image_info_label.nunique().sort_values()"
   ]
  },
  {
   "cell_type": "code",
   "execution_count": 16,
   "metadata": {},
   "outputs": [],
   "source": [
    "image_info_label.drop(['data_win','image_30_roi','image_valid_source_num','image_pay_sum_ability','image_pay_num_ability'], axis=1, inplace=True)"
   ]
  },
  {
   "cell_type": "code",
   "execution_count": 17,
   "metadata": {},
   "outputs": [
    {
     "data": {
      "image/png": "[encoded data removed]",
      "text/plain": [
       "<Figure size 432x288 with 1 Axes>"
      ]
     },
     "metadata": {
      "needs_background": "light"
     },
     "output_type": "display_data"
    },
    {
     "data": {
      "image/png": "[encoded data removed]",
      "text/plain": [
       "<Figure size 432x288 with 1 Axes>"
      ]
     },
     "metadata": {
      "needs_background": "light"
     },
     "output_type": "display_data"
    },
    {
     "data": {
      "image/png": "[encoded data removed]",
      "text/plain": [
       "<Figure size 432x288 with 1 Axes>"
      ]
     },
     "metadata": {
      "needs_background": "light"
     },
     "output_type": "display_data"
    },
    {
     "data": {
      "image/png": "[encoded data removed]",
      "text/plain": [
       "<Figure size 432x288 with 1 Axes>"
      ]
     },
     "metadata": {
      "needs_background": "light"
     },
     "output_type": "display_data"
    },
    {
     "data": {
      "image/png": "[encoded data removed]",
      "text/plain": [
       "<Figure size 432x288 with 1 Axes>"
      ]
     },
     "metadata": {
      "needs_background": "light"
     },
     "output_type": "display_data"
    },
    {
     "data": {
      "image/png": "[encoded data removed]",
      "text/plain": [
       "<Figure size 432x288 with 1 Axes>"
      ]
     },
     "metadata": {
      "needs_background": "light"
     },
     "output_type": "display_data"
    },
    {
     "data": {
      "image/png": "[encoded data removed]",
      "text/plain": [
       "<Figure size 432x288 with 1 Axes>"
      ]
     },
     "metadata": {
      "needs_background": "light"
     },
     "output_type": "display_data"
    },
    {
     "data": {
      "image/png": "[encoded data removed]",
      "text/plain": [
       "<Figure size 432x288 with 1 Axes>"
      ]
     },
     "metadata": {
      "needs_background": "light"
     },
     "output_type": "display_data"
    },
    {
     "data": {
      "image/png": "[encoded data removed]",
      "text/plain": [
       "<Figure size 432x288 with 1 Axes>"
      ]
     },
     "metadata": {
      "needs_background": "light"
     },
     "output_type": "display_data"
    },
    {
     "data": {
      "image/png": "[encoded data removed]",
      "text/plain": [
       "<Figure size 432x288 with 1 Axes>"
      ]
     },
     "metadata": {
      "needs_background": "light"
     },
     "output_type": "display_data"
    }
   ],
   "source": [
    "columns = ['image_run_date_amount', 'image_create_role_pay_num',\n",
    "       'image_create_role_num', 'image_create_role_pay_sum',\n",
    "       'image_source_num', 'image_create_role_pay_rate',\n",
    "       'image_create_role_cost', 'image_create_role_pay_cost',\n",
    "       'image_create_role_roi', 'image_create_role_retain_1d']\n",
    "for col in columns:\n",
    "    sns.distplot(image_info_label[col])\n",
    "    plt.show()"
   ]
  },
  {
   "cell_type": "code",
   "execution_count": 18,
   "metadata": {
    "scrolled": true
   },
   "outputs": [
    {
     "data": {
      "text/plain": [
       "(2465, 19)"
      ]
     },
     "execution_count": 18,
     "metadata": {},
     "output_type": "execute_result"
    }
   ],
   "source": [
    "image_info_label[image_info_label['image_create_role_cost']>=800].shape"
   ]
  },
  {
   "cell_type": "code",
   "execution_count": 19,
   "metadata": {},
   "outputs": [],
   "source": [
    "image_info_label = image_info_label[image_info_label['image_create_role_cost']<800]"
   ]
  },
  {
   "cell_type": "code",
   "execution_count": 20,
   "metadata": {},
   "outputs": [],
   "source": [
    "image_info_label['image_create_role_cost'].replace(0,float('inf'),inplace=True)"
   ]
  },
  {
   "cell_type": "code",
   "execution_count": 21,
   "metadata": {},
   "outputs": [],
   "source": [
    "image_info_label['image_create_role_pay_cost'].replace(0,float('inf'),inplace=True)"
   ]
  },
  {
   "cell_type": "code",
   "execution_count": 22,
   "metadata": {},
   "outputs": [
    {
     "data": {
      "text/plain": [
       "1.565625e+02        1\n",
       "1.622550e+02        1\n",
       "1.686200e+02        1\n",
       "1.748867e+02        1\n",
       "1.774275e+02        1\n",
       "                ...  \n",
       "2.618359e+04        1\n",
       "3.187267e+04        1\n",
       "3.705534e+04        1\n",
       "3.876659e+04        1\n",
       "inf             25348\n",
       "Name: image_create_role_pay_cost, Length: 31338, dtype: int64"
      ]
     },
     "execution_count": 22,
     "metadata": {},
     "output_type": "execute_result"
    }
   ],
   "source": [
    "image_info_label['image_create_role_pay_cost'].value_counts().sort_index()"
   ]
  },
  {
   "cell_type": "code",
   "execution_count": 23,
   "metadata": {},
   "outputs": [],
   "source": [
    "image_info_label = image_info_label[image_info_label['image_create_role_pay_cost']>500]"
   ]
  },
  {
   "cell_type": "code",
   "execution_count": 24,
   "metadata": {},
   "outputs": [
    {
     "data": {
      "text/plain": [
       "(57161, 19)"
      ]
     },
     "execution_count": 24,
     "metadata": {},
     "output_type": "execute_result"
    }
   ],
   "source": [
    "image_info_label.shape"
   ]
  },
  {
   "cell_type": "code",
   "execution_count": 25,
   "metadata": {},
   "outputs": [
    {
     "data": {
      "image/png": "[encoded data removed]",
      "text/plain": [
       "<Figure size 432x288 with 1 Axes>"
      ]
     },
     "metadata": {
      "needs_background": "light"
     },
     "output_type": "display_data"
    }
   ],
   "source": [
    "sns.countplot(x='label',data=image_info_label)\n",
    "plt.show()"
   ]
  },
  {
   "cell_type": "code",
   "execution_count": 26,
   "metadata": {},
   "outputs": [
    {
     "data": {
      "text/plain": [
       "10    29219\n",
       "16    20604\n",
       "45     6447\n",
       "32      891\n",
       "Name: media_id, dtype: int64"
      ]
     },
     "execution_count": 26,
     "metadata": {},
     "output_type": "execute_result"
    }
   ],
   "source": [
    "image_info_label['media_id'].value_counts()"
   ]
  },
  {
   "cell_type": "code",
   "execution_count": 27,
   "metadata": {},
   "outputs": [
    {
     "data": {
      "text/html": [
       "<div>\n",
       "<style scoped>\n",
       "    .dataframe tbody tr th:only-of-type {\n",
       "        vertical-align: middle;\n",
       "    }\n",
       "\n",
       "    .dataframe tbody tr th {\n",
       "        vertical-align: top;\n",
       "    }\n",
       "\n",
       "    .dataframe thead th {\n",
       "        text-align: right;\n",
       "    }\n",
       "</style>\n",
       "<table border=\"1\" class=\"dataframe\">\n",
       "  <thead>\n",
       "    <tr style=\"text-align: right;\">\n",
       "      <th></th>\n",
       "      <th>image_id</th>\n",
       "      <th>media_id</th>\n",
       "      <th>image_source_total_num</th>\n",
       "      <th>image_run_date_amount</th>\n",
       "      <th>image_create_role_pay_num</th>\n",
       "      <th>image_create_role_num</th>\n",
       "      <th>image_create_role_pay_sum</th>\n",
       "      <th>image_source_num</th>\n",
       "      <th>image_create_role_pay_rate</th>\n",
       "      <th>image_create_role_cost</th>\n",
       "      <th>image_create_role_pay_cost</th>\n",
       "      <th>image_valid_source_rate</th>\n",
       "      <th>image_create_role_roi</th>\n",
       "      <th>image_create_role_retain_1d</th>\n",
       "      <th>create_role_30_pay_sum</th>\n",
       "      <th>label</th>\n",
       "    </tr>\n",
       "  </thead>\n",
       "  <tbody>\n",
       "    <tr>\n",
       "      <th>image_id</th>\n",
       "      <td>1.000000</td>\n",
       "      <td>0.101367</td>\n",
       "      <td>-0.234552</td>\n",
       "      <td>-0.005861</td>\n",
       "      <td>-0.010816</td>\n",
       "      <td>-0.055274</td>\n",
       "      <td>-0.024035</td>\n",
       "      <td>-0.023296</td>\n",
       "      <td>-0.001137</td>\n",
       "      <td>0.093543</td>\n",
       "      <td>0.045730</td>\n",
       "      <td>-0.015793</td>\n",
       "      <td>-0.027224</td>\n",
       "      <td>0.026817</td>\n",
       "      <td>-0.032805</td>\n",
       "      <td>-0.054119</td>\n",
       "    </tr>\n",
       "    <tr>\n",
       "      <th>media_id</th>\n",
       "      <td>0.101367</td>\n",
       "      <td>1.000000</td>\n",
       "      <td>-0.074415</td>\n",
       "      <td>-0.144351</td>\n",
       "      <td>-0.095836</td>\n",
       "      <td>-0.108654</td>\n",
       "      <td>-0.061665</td>\n",
       "      <td>-0.204210</td>\n",
       "      <td>-0.005266</td>\n",
       "      <td>-0.184624</td>\n",
       "      <td>-0.203590</td>\n",
       "      <td>0.152093</td>\n",
       "      <td>0.042788</td>\n",
       "      <td>-0.002193</td>\n",
       "      <td>-0.063441</td>\n",
       "      <td>-0.005777</td>\n",
       "    </tr>\n",
       "    <tr>\n",
       "      <th>image_source_total_num</th>\n",
       "      <td>-0.234552</td>\n",
       "      <td>-0.074415</td>\n",
       "      <td>1.000000</td>\n",
       "      <td>0.315317</td>\n",
       "      <td>0.277413</td>\n",
       "      <td>0.260786</td>\n",
       "      <td>0.204901</td>\n",
       "      <td>0.305480</td>\n",
       "      <td>0.021536</td>\n",
       "      <td>-0.109465</td>\n",
       "      <td>0.070652</td>\n",
       "      <td>0.016582</td>\n",
       "      <td>0.021679</td>\n",
       "      <td>0.046402</td>\n",
       "      <td>0.218557</td>\n",
       "      <td>0.165614</td>\n",
       "    </tr>\n",
       "    <tr>\n",
       "      <th>image_run_date_amount</th>\n",
       "      <td>-0.005861</td>\n",
       "      <td>-0.144351</td>\n",
       "      <td>0.315317</td>\n",
       "      <td>1.000000</td>\n",
       "      <td>0.932297</td>\n",
       "      <td>0.834089</td>\n",
       "      <td>0.684581</td>\n",
       "      <td>0.561659</td>\n",
       "      <td>0.025561</td>\n",
       "      <td>-0.120448</td>\n",
       "      <td>0.096398</td>\n",
       "      <td>0.012963</td>\n",
       "      <td>0.034652</td>\n",
       "      <td>-0.002327</td>\n",
       "      <td>0.568586</td>\n",
       "      <td>0.207549</td>\n",
       "    </tr>\n",
       "    <tr>\n",
       "      <th>image_create_role_pay_num</th>\n",
       "      <td>-0.010816</td>\n",
       "      <td>-0.095836</td>\n",
       "      <td>0.277413</td>\n",
       "      <td>0.932297</td>\n",
       "      <td>1.000000</td>\n",
       "      <td>0.819905</td>\n",
       "      <td>0.678556</td>\n",
       "      <td>0.469499</td>\n",
       "      <td>0.103171</td>\n",
       "      <td>-0.152813</td>\n",
       "      <td>-0.098824</td>\n",
       "      <td>0.156127</td>\n",
       "      <td>0.058855</td>\n",
       "      <td>0.011401</td>\n",
       "      <td>0.528318</td>\n",
       "      <td>0.215479</td>\n",
       "    </tr>\n",
       "    <tr>\n",
       "      <th>image_create_role_num</th>\n",
       "      <td>-0.055274</td>\n",
       "      <td>-0.108654</td>\n",
       "      <td>0.260786</td>\n",
       "      <td>0.834089</td>\n",
       "      <td>0.819905</td>\n",
       "      <td>1.000000</td>\n",
       "      <td>0.557308</td>\n",
       "      <td>0.424103</td>\n",
       "      <td>-0.024461</td>\n",
       "      <td>-0.237462</td>\n",
       "      <td>0.030698</td>\n",
       "      <td>0.055124</td>\n",
       "      <td>0.025284</td>\n",
       "      <td>-0.048096</td>\n",
       "      <td>0.456867</td>\n",
       "      <td>0.163349</td>\n",
       "    </tr>\n",
       "    <tr>\n",
       "      <th>image_create_role_pay_sum</th>\n",
       "      <td>-0.024035</td>\n",
       "      <td>-0.061665</td>\n",
       "      <td>0.204901</td>\n",
       "      <td>0.684581</td>\n",
       "      <td>0.678556</td>\n",
       "      <td>0.557308</td>\n",
       "      <td>1.000000</td>\n",
       "      <td>0.376705</td>\n",
       "      <td>0.066711</td>\n",
       "      <td>-0.076380</td>\n",
       "      <td>-0.030693</td>\n",
       "      <td>0.059619</td>\n",
       "      <td>0.338397</td>\n",
       "      <td>0.014778</td>\n",
       "      <td>0.649695</td>\n",
       "      <td>0.319335</td>\n",
       "    </tr>\n",
       "    <tr>\n",
       "      <th>image_source_num</th>\n",
       "      <td>-0.023296</td>\n",
       "      <td>-0.204210</td>\n",
       "      <td>0.305480</td>\n",
       "      <td>0.561659</td>\n",
       "      <td>0.469499</td>\n",
       "      <td>0.424103</td>\n",
       "      <td>0.376705</td>\n",
       "      <td>1.000000</td>\n",
       "      <td>0.026373</td>\n",
       "      <td>-0.017334</td>\n",
       "      <td>0.178788</td>\n",
       "      <td>-0.095928</td>\n",
       "      <td>0.028354</td>\n",
       "      <td>0.000275</td>\n",
       "      <td>0.331875</td>\n",
       "      <td>0.162684</td>\n",
       "    </tr>\n",
       "    <tr>\n",
       "      <th>image_create_role_pay_rate</th>\n",
       "      <td>-0.001137</td>\n",
       "      <td>-0.005266</td>\n",
       "      <td>0.021536</td>\n",
       "      <td>0.025561</td>\n",
       "      <td>0.103171</td>\n",
       "      <td>-0.024461</td>\n",
       "      <td>0.066711</td>\n",
       "      <td>0.026373</td>\n",
       "      <td>1.000000</td>\n",
       "      <td>0.151024</td>\n",
       "      <td>-0.397047</td>\n",
       "      <td>0.397530</td>\n",
       "      <td>0.193227</td>\n",
       "      <td>0.264483</td>\n",
       "      <td>0.041944</td>\n",
       "      <td>0.140963</td>\n",
       "    </tr>\n",
       "    <tr>\n",
       "      <th>image_create_role_cost</th>\n",
       "      <td>0.093543</td>\n",
       "      <td>-0.184624</td>\n",
       "      <td>-0.109465</td>\n",
       "      <td>-0.120448</td>\n",
       "      <td>-0.152813</td>\n",
       "      <td>-0.237462</td>\n",
       "      <td>-0.076380</td>\n",
       "      <td>-0.017334</td>\n",
       "      <td>0.151024</td>\n",
       "      <td>1.000000</td>\n",
       "      <td>0.172625</td>\n",
       "      <td>-0.165870</td>\n",
       "      <td>-0.028814</td>\n",
       "      <td>0.091761</td>\n",
       "      <td>-0.074318</td>\n",
       "      <td>-0.090496</td>\n",
       "    </tr>\n",
       "    <tr>\n",
       "      <th>image_create_role_pay_cost</th>\n",
       "      <td>0.045730</td>\n",
       "      <td>-0.203590</td>\n",
       "      <td>0.070652</td>\n",
       "      <td>0.096398</td>\n",
       "      <td>-0.098824</td>\n",
       "      <td>0.030698</td>\n",
       "      <td>-0.030693</td>\n",
       "      <td>0.178788</td>\n",
       "      <td>-0.397047</td>\n",
       "      <td>0.172625</td>\n",
       "      <td>1.000000</td>\n",
       "      <td>-0.449096</td>\n",
       "      <td>-0.102655</td>\n",
       "      <td>-0.139700</td>\n",
       "      <td>-0.000843</td>\n",
       "      <td>-0.076589</td>\n",
       "    </tr>\n",
       "    <tr>\n",
       "      <th>image_valid_source_rate</th>\n",
       "      <td>-0.015793</td>\n",
       "      <td>0.152093</td>\n",
       "      <td>0.016582</td>\n",
       "      <td>0.012963</td>\n",
       "      <td>0.156127</td>\n",
       "      <td>0.055124</td>\n",
       "      <td>0.059619</td>\n",
       "      <td>-0.095928</td>\n",
       "      <td>0.397530</td>\n",
       "      <td>-0.165870</td>\n",
       "      <td>-0.449096</td>\n",
       "      <td>1.000000</td>\n",
       "      <td>0.109960</td>\n",
       "      <td>0.096334</td>\n",
       "      <td>0.027815</td>\n",
       "      <td>0.125873</td>\n",
       "    </tr>\n",
       "    <tr>\n",
       "      <th>image_create_role_roi</th>\n",
       "      <td>-0.027224</td>\n",
       "      <td>0.042788</td>\n",
       "      <td>0.021679</td>\n",
       "      <td>0.034652</td>\n",
       "      <td>0.058855</td>\n",
       "      <td>0.025284</td>\n",
       "      <td>0.338397</td>\n",
       "      <td>0.028354</td>\n",
       "      <td>0.193227</td>\n",
       "      <td>-0.028814</td>\n",
       "      <td>-0.102655</td>\n",
       "      <td>0.109960</td>\n",
       "      <td>1.000000</td>\n",
       "      <td>0.066605</td>\n",
       "      <td>0.193582</td>\n",
       "      <td>0.259766</td>\n",
       "    </tr>\n",
       "    <tr>\n",
       "      <th>image_create_role_retain_1d</th>\n",
       "      <td>0.026817</td>\n",
       "      <td>-0.002193</td>\n",
       "      <td>0.046402</td>\n",
       "      <td>-0.002327</td>\n",
       "      <td>0.011401</td>\n",
       "      <td>-0.048096</td>\n",
       "      <td>0.014778</td>\n",
       "      <td>0.000275</td>\n",
       "      <td>0.264483</td>\n",
       "      <td>0.091761</td>\n",
       "      <td>-0.139700</td>\n",
       "      <td>0.096334</td>\n",
       "      <td>0.066605</td>\n",
       "      <td>1.000000</td>\n",
       "      <td>0.025941</td>\n",
       "      <td>0.105790</td>\n",
       "    </tr>\n",
       "    <tr>\n",
       "      <th>create_role_30_pay_sum</th>\n",
       "      <td>-0.032805</td>\n",
       "      <td>-0.063441</td>\n",
       "      <td>0.218557</td>\n",
       "      <td>0.568586</td>\n",
       "      <td>0.528318</td>\n",
       "      <td>0.456867</td>\n",
       "      <td>0.649695</td>\n",
       "      <td>0.331875</td>\n",
       "      <td>0.041944</td>\n",
       "      <td>-0.074318</td>\n",
       "      <td>-0.000843</td>\n",
       "      <td>0.027815</td>\n",
       "      <td>0.193582</td>\n",
       "      <td>0.025941</td>\n",
       "      <td>1.000000</td>\n",
       "      <td>0.474731</td>\n",
       "    </tr>\n",
       "    <tr>\n",
       "      <th>label</th>\n",
       "      <td>-0.054119</td>\n",
       "      <td>-0.005777</td>\n",
       "      <td>0.165614</td>\n",
       "      <td>0.207549</td>\n",
       "      <td>0.215479</td>\n",
       "      <td>0.163349</td>\n",
       "      <td>0.319335</td>\n",
       "      <td>0.162684</td>\n",
       "      <td>0.140963</td>\n",
       "      <td>-0.090496</td>\n",
       "      <td>-0.076589</td>\n",
       "      <td>0.125873</td>\n",
       "      <td>0.259766</td>\n",
       "      <td>0.105790</td>\n",
       "      <td>0.474731</td>\n",
       "      <td>1.000000</td>\n",
       "    </tr>\n",
       "  </tbody>\n",
       "</table>\n",
       "</div>"
      ],
      "text/plain": [
       "                             image_id  media_id  image_source_total_num  \\\n",
       "image_id                     1.000000  0.101367               -0.234552   \n",
       "media_id                     0.101367  1.000000               -0.074415   \n",
       "image_source_total_num      -0.234552 -0.074415                1.000000   \n",
       "image_run_date_amount       -0.005861 -0.144351                0.315317   \n",
       "image_create_role_pay_num   -0.010816 -0.095836                0.277413   \n",
       "image_create_role_num       -0.055274 -0.108654                0.260786   \n",
       "image_create_role_pay_sum   -0.024035 -0.061665                0.204901   \n",
       "image_source_num            -0.023296 -0.204210                0.305480   \n",
       "image_create_role_pay_rate  -0.001137 -0.005266                0.021536   \n",
       "image_create_role_cost       0.093543 -0.184624               -0.109465   \n",
       "image_create_role_pay_cost   0.045730 -0.203590                0.070652   \n",
       "image_valid_source_rate     -0.015793  0.152093                0.016582   \n",
       "image_create_role_roi       -0.027224  0.042788                0.021679   \n",
       "image_create_role_retain_1d  0.026817 -0.002193                0.046402   \n",
       "create_role_30_pay_sum      -0.032805 -0.063441                0.218557   \n",
       "label                       -0.054119 -0.005777                0.165614   \n",
       "\n",
       "                             image_run_date_amount  image_create_role_pay_num  \\\n",
       "image_id                                 -0.005861                  -0.010816   \n",
       "media_id                                 -0.144351                  -0.095836   \n",
       "image_source_total_num                    0.315317                   0.277413   \n",
       "image_run_date_amount                     1.000000                   0.932297   \n",
       "image_create_role_pay_num                 0.932297                   1.000000   \n",
       "image_create_role_num                     0.834089                   0.819905   \n",
       "image_create_role_pay_sum                 0.684581                   0.678556   \n",
       "image_source_num                          0.561659                   0.469499   \n",
       "image_create_role_pay_rate                0.025561                   0.103171   \n",
       "image_create_role_cost                   -0.120448                  -0.152813   \n",
       "image_create_role_pay_cost                0.096398                  -0.098824   \n",
       "image_valid_source_rate                   0.012963                   0.156127   \n",
       "image_create_role_roi                     0.034652                   0.058855   \n",
       "image_create_role_retain_1d              -0.002327                   0.011401   \n",
       "create_role_30_pay_sum                    0.568586                   0.528318   \n",
       "label                                     0.207549                   0.215479   \n",
       "\n",
       "                             image_create_role_num  image_create_role_pay_sum  \\\n",
       "image_id                                 -0.055274                  -0.024035   \n",
       "media_id                                 -0.108654                  -0.061665   \n",
       "image_source_total_num                    0.260786                   0.204901   \n",
       "image_run_date_amount                     0.834089                   0.684581   \n",
       "image_create_role_pay_num                 0.819905                   0.678556   \n",
       "image_create_role_num                     1.000000                   0.557308   \n",
       "image_create_role_pay_sum                 0.557308                   1.000000   \n",
       "image_source_num                          0.424103                   0.376705   \n",
       "image_create_role_pay_rate               -0.024461                   0.066711   \n",
       "image_create_role_cost                   -0.237462                  -0.076380   \n",
       "image_create_role_pay_cost                0.030698                  -0.030693   \n",
       "image_valid_source_rate                   0.055124                   0.059619   \n",
       "image_create_role_roi                     0.025284                   0.338397   \n",
       "image_create_role_retain_1d              -0.048096                   0.014778   \n",
       "create_role_30_pay_sum                    0.456867                   0.649695   \n",
       "label                                     0.163349                   0.319335   \n",
       "\n",
       "                             image_source_num  image_create_role_pay_rate  \\\n",
       "image_id                            -0.023296                   -0.001137   \n",
       "media_id                            -0.204210                   -0.005266   \n",
       "image_source_total_num               0.305480                    0.021536   \n",
       "image_run_date_amount                0.561659                    0.025561   \n",
       "image_create_role_pay_num            0.469499                    0.103171   \n",
       "image_create_role_num                0.424103                   -0.024461   \n",
       "image_create_role_pay_sum            0.376705                    0.066711   \n",
       "image_source_num                     1.000000                    0.026373   \n",
       "image_create_role_pay_rate           0.026373                    1.000000   \n",
       "image_create_role_cost              -0.017334                    0.151024   \n",
       "image_create_role_pay_cost           0.178788                   -0.397047   \n",
       "image_valid_source_rate             -0.095928                    0.397530   \n",
       "image_create_role_roi                0.028354                    0.193227   \n",
       "image_create_role_retain_1d          0.000275                    0.264483   \n",
       "create_role_30_pay_sum               0.331875                    0.041944   \n",
       "label                                0.162684                    0.140963   \n",
       "\n",
       "                             image_create_role_cost  \\\n",
       "image_id                                   0.093543   \n",
       "media_id                                  -0.184624   \n",
       "image_source_total_num                    -0.109465   \n",
       "image_run_date_amount                     -0.120448   \n",
       "image_create_role_pay_num                 -0.152813   \n",
       "image_create_role_num                     -0.237462   \n",
       "image_create_role_pay_sum                 -0.076380   \n",
       "image_source_num                          -0.017334   \n",
       "image_create_role_pay_rate                 0.151024   \n",
       "image_create_role_cost                     1.000000   \n",
       "image_create_role_pay_cost                 0.172625   \n",
       "image_valid_source_rate                   -0.165870   \n",
       "image_create_role_roi                     -0.028814   \n",
       "image_create_role_retain_1d                0.091761   \n",
       "create_role_30_pay_sum                    -0.074318   \n",
       "label                                     -0.090496   \n",
       "\n",
       "                             image_create_role_pay_cost  \\\n",
       "image_id                                       0.045730   \n",
       "media_id                                      -0.203590   \n",
       "image_source_total_num                         0.070652   \n",
       "image_run_date_amount                          0.096398   \n",
       "image_create_role_pay_num                     -0.098824   \n",
       "image_create_role_num                          0.030698   \n",
       "image_create_role_pay_sum                     -0.030693   \n",
       "image_source_num                               0.178788   \n",
       "image_create_role_pay_rate                    -0.397047   \n",
       "image_create_role_cost                         0.172625   \n",
       "image_create_role_pay_cost                     1.000000   \n",
       "image_valid_source_rate                       -0.449096   \n",
       "image_create_role_roi                         -0.102655   \n",
       "image_create_role_retain_1d                   -0.139700   \n",
       "create_role_30_pay_sum                        -0.000843   \n",
       "label                                         -0.076589   \n",
       "\n",
       "                             image_valid_source_rate  image_create_role_roi  \\\n",
       "image_id                                   -0.015793              -0.027224   \n",
       "media_id                                    0.152093               0.042788   \n",
       "image_source_total_num                      0.016582               0.021679   \n",
       "image_run_date_amount                       0.012963               0.034652   \n",
       "image_create_role_pay_num                   0.156127               0.058855   \n",
       "image_create_role_num                       0.055124               0.025284   \n",
       "image_create_role_pay_sum                   0.059619               0.338397   \n",
       "image_source_num                           -0.095928               0.028354   \n",
       "image_create_role_pay_rate                  0.397530               0.193227   \n",
       "image_create_role_cost                     -0.165870              -0.028814   \n",
       "image_create_role_pay_cost                 -0.449096              -0.102655   \n",
       "image_valid_source_rate                     1.000000               0.109960   \n",
       "image_create_role_roi                       0.109960               1.000000   \n",
       "image_create_role_retain_1d                 0.096334               0.066605   \n",
       "create_role_30_pay_sum                      0.027815               0.193582   \n",
       "label                                       0.125873               0.259766   \n",
       "\n",
       "                             image_create_role_retain_1d  \\\n",
       "image_id                                        0.026817   \n",
       "media_id                                       -0.002193   \n",
       "image_source_total_num                          0.046402   \n",
       "image_run_date_amount                          -0.002327   \n",
       "image_create_role_pay_num                       0.011401   \n",
       "image_create_role_num                          -0.048096   \n",
       "image_create_role_pay_sum                       0.014778   \n",
       "image_source_num                                0.000275   \n",
       "image_create_role_pay_rate                      0.264483   \n",
       "image_create_role_cost                          0.091761   \n",
       "image_create_role_pay_cost                     -0.139700   \n",
       "image_valid_source_rate                         0.096334   \n",
       "image_create_role_roi                           0.066605   \n",
       "image_create_role_retain_1d                     1.000000   \n",
       "create_role_30_pay_sum                          0.025941   \n",
       "label                                           0.105790   \n",
       "\n",
       "                             create_role_30_pay_sum     label  \n",
       "image_id                                  -0.032805 -0.054119  \n",
       "media_id                                  -0.063441 -0.005777  \n",
       "image_source_total_num                     0.218557  0.165614  \n",
       "image_run_date_amount                      0.568586  0.207549  \n",
       "image_create_role_pay_num                  0.528318  0.215479  \n",
       "image_create_role_num                      0.456867  0.163349  \n",
       "image_create_role_pay_sum                  0.649695  0.319335  \n",
       "image_source_num                           0.331875  0.162684  \n",
       "image_create_role_pay_rate                 0.041944  0.140963  \n",
       "image_create_role_cost                    -0.074318 -0.090496  \n",
       "image_create_role_pay_cost                -0.000843 -0.076589  \n",
       "image_valid_source_rate                    0.027815  0.125873  \n",
       "image_create_role_roi                      0.193582  0.259766  \n",
       "image_create_role_retain_1d                0.025941  0.105790  \n",
       "create_role_30_pay_sum                     1.000000  0.474731  \n",
       "label                                      0.474731  1.000000  "
      ]
     },
     "execution_count": 27,
     "metadata": {},
     "output_type": "execute_result"
    }
   ],
   "source": [
    "#多变量分析\n",
    "image_info_label.corr()"
   ]
  },
  {
   "cell_type": "code",
   "execution_count": 28,
   "metadata": {},
   "outputs": [],
   "source": [
    "#特征选择,woe分箱\n",
    "from scipy import stats\n",
    "def monoto_bin(Y, X, n = 20):\n",
    "    r = 0\n",
    "    total_bad = Y.sum()\n",
    "    total_good =Y.count()-total_bad  \n",
    "    while np.abs(r) < 0.9:\n",
    "        d1 = pd.DataFrame({\"X\": X, \"Y\": Y, \"Bucket\": pd.qcut(X, n,duplicates='raise')})\n",
    "        d2 = d1.groupby('Bucket', as_index = True)\n",
    "        r, p = stats.spearmanr(d2.mean().X, d2.mean().Y)\n",
    "        n = n - 1\n",
    "#     print(r)\n",
    "#     print(n)\n",
    "    d3 = pd.DataFrame(d2.min().X, columns = ['min_' + X.name])\n",
    "    d3['min_' + X.name] = d2.min().X\n",
    "    d3['max_' + X.name] = d2.max().X\n",
    "    d3[Y.name] = d2.sum().Y\n",
    "    d3['total'] = d2.count().Y\n",
    "    #d3[Y.name + '_rate'] = d2.mean().Y\n",
    "    d3['badattr']=d3[Y.name]/total_bad\n",
    "    d3['goodattr']=(d3['total']-d3[Y.name])/total_good\n",
    "    d3['woe'] = np.log(d3['goodattr']/d3['badattr'])\n",
    "    iv = ((d3['goodattr']-d3['badattr'])*d3['woe']).sum()\n",
    "    d4 = (d3.sort_values(by = 'min_' + X.name)).reset_index(drop = True)\n",
    "    print (\"=\" * 80)\n",
    "    cut = []\n",
    "    cut.append(float('-inf'))\n",
    "    for i in range(1,n+1):\n",
    "        qua =X.quantile(i/(n+1))\n",
    "        cut.append(round(qua,4))\n",
    "    cut.append(float('inf'))\n",
    "    woe = list(d4['woe'].round(3))\n",
    "    return d4,iv,cut,woe"
   ]
  },
  {
   "cell_type": "code",
   "execution_count": 29,
   "metadata": {},
   "outputs": [
    {
     "name": "stdout",
     "output_type": "stream",
     "text": [
      "================================================================================\n",
      "================================================================================\n"
     ]
    }
   ],
   "source": [
    "dfx1,ivx1,cutx1,woex1 = monoto_bin(image_info_label['label'],image_info_label['image_run_date_amount'],n=10)\n",
    "# dfx2,ivx2,cutx2,woex2 = monoto_bin(image_info_label['label'],image_info_label['image_create_role_pay_num'],n=10)\n",
    "dfx3,ivx3,cutx3,woex3 = monoto_bin(image_info_label['label'],image_info_label['image_create_role_num'],n=10)\n",
    "# dfx4,ivx4,cutx4,woex4 = monoto_bin(image_info_label['label'],image_info_label['image_create_role_pay_sum'],n=10)\n",
    "# dfx5,ivx5,cutx5,woex5 = monoto_bin(image_info_label['label'],image_info_label['image_source_num'],n=10)\n",
    "# dfx6,ivx6,cutx6,woex6 = monoto_bin(image_info_label['label'],image_info_label['image_create_role_pay_rate'],n=10)\n",
    "# dfx7,ivx7,cutx7,woex7 = monoto_bin(image_info_label['label'],image_info_label['image_create_role_cost'],n=10)\n",
    "# dfx8,ivx8,cutx8,woex8 = monoto_bin(image_info_label['label'],image_info_label['image_create_role_pay_cost'],n=10)\n",
    "# dfx9,ivx9,cutx9,woex9 = monoto_bin(image_info_label['label'],image_info_label['image_create_role_roi'],n=10)\n",
    "# dfx10,ivx10,cutx10,woex10 = monoto_bin(image_info_label['label'],image_info_label['image_create_role_retain_1d'],n=10)"
   ]
  },
  {
   "cell_type": "code",
   "execution_count": 30,
   "metadata": {
    "scrolled": true
   },
   "outputs": [
    {
     "name": "stdout",
     "output_type": "stream",
     "text": [
      "[0.903, 0.749, 0.622, 0.533, 0.348, 0.172, -0.067, -0.239, -0.544, -1.139]\n"
     ]
    },
    {
     "data": {
      "image/png": "[encoded data removed]",
      "text/plain": [
       "<Figure size 432x288 with 1 Axes>"
      ]
     },
     "metadata": {
      "needs_background": "light"
     },
     "output_type": "display_data"
    },
    {
     "name": "stdout",
     "output_type": "stream",
     "text": [
      "[1.148, 0.738, 0.587, 0.423, 0.29, 0.044, -0.025, -0.357, -0.609, -1.028]\n"
     ]
    },
    {
     "data": {
      "image/png": "[encoded data removed]",
      "text/plain": [
       "<Figure size 432x288 with 1 Axes>"
      ]
     },
     "metadata": {
      "needs_background": "light"
     },
     "output_type": "display_data"
    }
   ],
   "source": [
    "woex = [woex1,woex3]\n",
    "for col in woex:\n",
    "    print('{}'.format(col))\n",
    "    plt.bar(range(len(col)),col)\n",
    "    plt.show()"
   ]
  },
  {
   "cell_type": "code",
   "execution_count": 31,
   "metadata": {},
   "outputs": [],
   "source": [
    "def self_bin(Y, X, bin):\n",
    "    r = 0\n",
    "    total_bad = Y.sum()\n",
    "    total_good =Y.count()-total_bad  \n",
    "    d1 = pd.DataFrame({\"X\": X, \"Y\": Y, \"Bucket\": pd.cut(X, bin)})\n",
    "    d2 = d1.groupby('Bucket', as_index = True)\n",
    "    r, p = stats.spearmanr(d2.mean().X, d2.mean().Y)\n",
    "        \n",
    "    d3 = pd.DataFrame(d2.min().X, columns = ['min_' + X.name])\n",
    "    d3['min_' + X.name] = d2.min().X\n",
    "    d3['max_' + X.name] = d2.max().X\n",
    "    d3[Y.name] = d2.sum().Y\n",
    "    d3['total'] = d2.count().Y\n",
    "    #d3[Y.name + '_rate'] = d2.mean().Y\n",
    "    #好坏比，求woe,证据权重，自变量对目标变量有没有影响，什么影响\n",
    "    d3['badattr']=d3[Y.name]/total_bad\n",
    "    d3['goodattr']=(d3['total']-d3[Y.name])/total_good\n",
    "    d3['woe'] = np.log(d3['goodattr']/d3['badattr'])\n",
    "    #iv，信息值，自变量对于目标变量的影响程度\n",
    "    iv = ((d3['goodattr']-d3['badattr'])*d3['woe']).sum()\n",
    "    d4 = (d3.sort_values(by = 'min_' + X.name)).reset_index(drop = True)\n",
    "    print (\"=\" * 80)\n",
    "#     print (d4)\n",
    "    woe = list(d4['woe'].round(3))\n",
    "    return d4,iv,woe"
   ]
  },
  {
   "cell_type": "code",
   "execution_count": 32,
   "metadata": {},
   "outputs": [],
   "source": [
    "pinf = float('inf')#正无穷大\n",
    "ninf = float('-inf')#负无穷大\n",
    "cutx2 = [ninf, 1, 3, 8, 12,50,pinf]\n",
    "cutx4 = [ninf,60,100,300,600,1000,4000,pinf]\n",
    "cutx5 = [ninf,1,3,6,10,50,pinf]\n",
    "cutx6 = [ninf,0.01,0.025,0.05,0.075,pinf]\n",
    "cutx7 = [ninf, 50,100,150,200,300,400,pinf]\n",
    "cutx8 = [ninf, 2000,3000,4000,6000,8000,10000,pinf]\n",
    "cutx9 = [ninf, 0.01, 0.02, 0.03, 0.05,pinf]\n",
    "cutx10 = [ninf, 0.1, 0.2, 0.3, 0.4,0.6, pinf]"
   ]
  },
  {
   "cell_type": "code",
   "execution_count": 33,
   "metadata": {},
   "outputs": [
    {
     "name": "stdout",
     "output_type": "stream",
     "text": [
      "================================================================================\n",
      "================================================================================\n",
      "================================================================================\n",
      "================================================================================\n",
      "================================================================================\n",
      "================================================================================\n",
      "================================================================================\n",
      "================================================================================\n"
     ]
    }
   ],
   "source": [
    "dfx2,ivx2,woex2 = self_bin(image_info_label['label'],image_info_label['image_create_role_pay_num'],cutx2)\n",
    "dfx4,ivx4,woex4 = self_bin(image_info_label['label'],image_info_label['image_create_role_pay_sum'],cutx4)\n",
    "dfx5,ivx5,woex5 = self_bin(image_info_label['label'],image_info_label['image_source_num'],cutx5)\n",
    "dfx6,ivx6,woex6 = self_bin(image_info_label['label'],image_info_label['image_create_role_pay_rate'],cutx6)\n",
    "dfx7,ivx7,woex7 = self_bin(image_info_label['label'],image_info_label['image_create_role_cost'],cutx7)\n",
    "dfx8,ivx8,woex8 = self_bin(image_info_label['label'],image_info_label['image_create_role_pay_cost'],cutx8)\n",
    "dfx9,ivx9,woex9 = self_bin(image_info_label['label'],image_info_label['image_create_role_roi'],cutx9)\n",
    "dfx10,ivx10,woex10 = self_bin(image_info_label['label'],image_info_label['image_create_role_retain_1d'],cutx10)\n",
    "# dfx11,ivx11,woex11 = self_bin(image_info_label['label'],image_info_label['image_pay_num_ability'],cutx11)\n",
    "# dfx12,ivx12,woex12 = self_bin(image_info_label['label'],image_info_label['image_create_role_roi'],cutx12)"
   ]
  },
  {
   "cell_type": "code",
   "execution_count": 34,
   "metadata": {},
   "outputs": [
    {
     "name": "stdout",
     "output_type": "stream",
     "text": [
      "woex1 = [0.903, 0.749, 0.622, 0.533, 0.348, 0.172, -0.067, -0.239, -0.544, -1.139]\n",
      "woex2 = [0.666, -0.361, -0.807, -1.168, -1.446, -2.085]\n",
      "woex3 = [1.148, 0.738, 0.587, 0.423, 0.29, 0.044, -0.025, -0.357, -0.609, -1.028]\n",
      "woex4 = [0.799, -0.125, -0.587, -1.181, -1.593, -2.195, -3.37]\n",
      "woex5 = [0.369, 0.343, 0.083, -0.179, -0.684, -1.42]\n",
      "woex6 = [1.152, -0.099, -0.425, -0.643, -0.568]\n",
      "woex7 = [0.241, -0.201, -0.241, -0.264, 0.09, 0.332, 0.818]\n",
      "woex8 = [-0.631, -0.62, -0.51, -0.239, 0.016, 0.124, 1.146]\n",
      "woex9 = [0.785, -0.234, -0.729, -1.114, -2.194]\n",
      "woex10 = [1.857, -0.009, -0.477, -0.151, -0.057, 0.113]\n"
     ]
    }
   ],
   "source": [
    "for i in range(1,11):\n",
    "    exec(\"print('woex%s =',woex%s)\"%(i,i))"
   ]
  },
  {
   "cell_type": "code",
   "execution_count": 35,
   "metadata": {},
   "outputs": [
    {
     "name": "stdout",
     "output_type": "stream",
     "text": [
      "cutx1 = [-inf, 709.48, 1012.45, 1441.55, 2018.45, 2840.72, 4061.22, 5963.83, 9426.32, 17642.13, inf]\n",
      "cutx2 = [-inf, 1, 3, 8, 12, 50, inf]\n",
      "cutx3 = [-inf, 3.0, 5.0, 7.0, 11.0, 16.0, 24.0, 38.0, 63.0, 133.0, inf]\n",
      "cutx4 = [-inf, 60, 100, 300, 600, 1000, 4000, inf]\n",
      "cutx5 = [-inf, 1, 3, 6, 10, 50, inf]\n",
      "cutx6 = [-inf, 0.01, 0.025, 0.05, 0.075, inf]\n",
      "cutx7 = [-inf, 50, 100, 150, 200, 300, 400, inf]\n",
      "cutx8 = [-inf, 2000, 3000, 4000, 6000, 8000, 10000, inf]\n",
      "cutx9 = [-inf, 0.01, 0.02, 0.03, 0.05, inf]\n",
      "cutx10 = [-inf, 0.1, 0.2, 0.3, 0.4, 0.6, inf]\n"
     ]
    }
   ],
   "source": [
    "for i in range(1,11):\n",
    "    exec(\"print('cutx%s =',cutx%s)\"%(i,i))"
   ]
  },
  {
   "cell_type": "code",
   "execution_count": 36,
   "metadata": {
    "scrolled": true
   },
   "outputs": [
    {
     "data": {
      "text/plain": [
       "count    57161.000000\n",
       "mean         0.019324\n",
       "std          0.108024\n",
       "min          0.000000\n",
       "25%          0.000000\n",
       "50%          0.001484\n",
       "75%          0.011283\n",
       "max          8.828950\n",
       "Name: image_create_role_roi, dtype: float64"
      ]
     },
     "execution_count": 36,
     "metadata": {},
     "output_type": "execute_result"
    }
   ],
   "source": [
    "image_info_label['image_create_role_roi'].describe()"
   ]
  },
  {
   "cell_type": "code",
   "execution_count": 37,
   "metadata": {},
   "outputs": [
    {
     "data": {
      "image/png": "[encoded data removed]",
      "text/plain": [
       "<Figure size 432x288 with 1 Axes>"
      ]
     },
     "metadata": {
      "needs_background": "light"
     },
     "output_type": "display_data"
    }
   ],
   "source": [
    "plt.hist(image_info_label['image_create_role_roi'],bins=50,range=(0,0.3))\n",
    "plt.show()"
   ]
  },
  {
   "cell_type": "code",
   "execution_count": 38,
   "metadata": {},
   "outputs": [
    {
     "name": "stdout",
     "output_type": "stream",
     "text": [
      "[0.903, 0.749, 0.622, 0.533, 0.348, 0.172, -0.067, -0.239, -0.544, -1.139]\n"
     ]
    },
    {
     "data": {
      "image/png": "[encoded data removed]",
      "text/plain": [
       "<Figure size 432x288 with 1 Axes>"
      ]
     },
     "metadata": {
      "needs_background": "light"
     },
     "output_type": "display_data"
    },
    {
     "name": "stdout",
     "output_type": "stream",
     "text": [
      "[0.666, -0.361, -0.807, -1.168, -1.446, -2.085]\n"
     ]
    },
    {
     "data": {
      "image/png": "[encoded data removed]",
      "text/plain": [
       "<Figure size 432x288 with 1 Axes>"
      ]
     },
     "metadata": {
      "needs_background": "light"
     },
     "output_type": "display_data"
    },
    {
     "name": "stdout",
     "output_type": "stream",
     "text": [
      "[1.148, 0.738, 0.587, 0.423, 0.29, 0.044, -0.025, -0.357, -0.609, -1.028]\n"
     ]
    },
    {
     "data": {
      "image/png": "[encoded data removed]",
      "text/plain": [
       "<Figure size 432x288 with 1 Axes>"
      ]
     },
     "metadata": {
      "needs_background": "light"
     },
     "output_type": "display_data"
    },
    {
     "name": "stdout",
     "output_type": "stream",
     "text": [
      "[0.799, -0.125, -0.587, -1.181, -1.593, -2.195, -3.37]\n"
     ]
    },
    {
     "data": {
      "image/png": "[encoded data removed]",
      "text/plain": [
       "<Figure size 432x288 with 1 Axes>"
      ]
     },
     "metadata": {
      "needs_background": "light"
     },
     "output_type": "display_data"
    },
    {
     "name": "stdout",
     "output_type": "stream",
     "text": [
      "[0.369, 0.343, 0.083, -0.179, -0.684, -1.42]\n"
     ]
    },
    {
     "data": {
      "image/png": "[encoded data removed]",
      "text/plain": [
       "<Figure size 432x288 with 1 Axes>"
      ]
     },
     "metadata": {
      "needs_background": "light"
     },
     "output_type": "display_data"
    },
    {
     "name": "stdout",
     "output_type": "stream",
     "text": [
      "[1.152, -0.099, -0.425, -0.643, -0.568]\n"
     ]
    },
    {
     "data": {
      "image/png": "[encoded data removed]",
      "text/plain": [
       "<Figure size 432x288 with 1 Axes>"
      ]
     },
     "metadata": {
      "needs_background": "light"
     },
     "output_type": "display_data"
    },
    {
     "name": "stdout",
     "output_type": "stream",
     "text": [
      "[0.241, -0.201, -0.241, -0.264, 0.09, 0.332, 0.818]\n"
     ]
    },
    {
     "data": {
      "image/png": "[encoded data removed]",
      "text/plain": [
       "<Figure size 432x288 with 1 Axes>"
      ]
     },
     "metadata": {
      "needs_background": "light"
     },
     "output_type": "display_data"
    },
    {
     "name": "stdout",
     "output_type": "stream",
     "text": [
      "[-0.631, -0.62, -0.51, -0.239, 0.016, 0.124, 1.146]\n"
     ]
    },
    {
     "data": {
      "image/png": "[encoded data removed]",
      "text/plain": [
       "<Figure size 432x288 with 1 Axes>"
      ]
     },
     "metadata": {
      "needs_background": "light"
     },
     "output_type": "display_data"
    },
    {
     "name": "stdout",
     "output_type": "stream",
     "text": [
      "[0.785, -0.234, -0.729, -1.114, -2.194]\n"
     ]
    },
    {
     "data": {
      "image/png": "[encoded data removed]",
      "text/plain": [
       "<Figure size 432x288 with 1 Axes>"
      ]
     },
     "metadata": {
      "needs_background": "light"
     },
     "output_type": "display_data"
    },
    {
     "name": "stdout",
     "output_type": "stream",
     "text": [
      "[1.857, -0.009, -0.477, -0.151, -0.057, 0.113]\n"
     ]
    },
    {
     "data": {
      "image/png": "[encoded data removed]",
      "text/plain": [
       "<Figure size 432x288 with 1 Axes>"
      ]
     },
     "metadata": {
      "needs_background": "light"
     },
     "output_type": "display_data"
    }
   ],
   "source": [
    "woex = [woex1,woex2,woex3,woex4,woex5,woex6,woex7,woex8,woex9,woex10]\n",
    "for col in woex:\n",
    "    print('{}'.format(col))\n",
    "    plt.bar(range(len(col)),col)\n",
    "    plt.show()"
   ]
  },
  {
   "cell_type": "code",
   "execution_count": 40,
   "metadata": {},
   "outputs": [
    {
     "data": {
      "image/png": "[encoded data removed]",
      "text/plain": [
       "<Figure size 1440x576 with 1 Axes>"
      ]
     },
     "metadata": {
      "needs_background": "light"
     },
     "output_type": "display_data"
    }
   ],
   "source": [
    "y=[ivx1,ivx2,ivx3,ivx4,ivx5,ivx6,ivx7,ivx8,ivx9,ivx10]\n",
    "index=['image_run_date_amount', 'image_create_role_pay_num',\n",
    "       'image_create_role_num', 'image_create_role_pay_sum',\n",
    "       'image_source_num', 'image_create_role_pay_rate',\n",
    "       'image_create_role_cost', 'image_create_role_pay_cost',\n",
    "       'image_create_role_roi','image_create_role_retain_1d']\n",
    "fig= plt.figure(figsize = (20,8))\n",
    "ax1 = fig.add_subplot(1, 1, 1)\n",
    "ax1.bar(range(1,11), y, width=0.4,color = 'r',alpha = 0.6)#生成柱状图\n",
    "ax1.set_xticks(range(1,14))\n",
    "ax1.set_xticklabels(index, rotation=90, fontsize=12)\n",
    "ax1.set_ylabel('IV', fontsize=14)\n",
    "#在柱状图上添加数字标签\n",
    "for i, v in enumerate(y):\n",
    "    plt.text(i+1, v+0.01, '%.4f' % v, ha='center', va='bottom', fontsize=12)\n",
    "plt.show()"
   ]
  },
  {
   "cell_type": "code",
   "execution_count": 41,
   "metadata": {},
   "outputs": [],
   "source": [
    "\"\"\"\n",
    "根据IV值判断变量预测能力的标准:\n",
    "< 0.02： useless for predition\n",
    "0.02-0.1： weak predictor\n",
    "0.1-0.3： medium predictor\n",
    "0.3-0.5： strong predictor\n",
    "大于0.5： suspicious or too good to be true\n",
    "\"\"\"\n",
    "#删除掉iv小于0.1的变量\n",
    "select_feature = ['image_run_date_amount', 'image_create_role_pay_num',\n",
    "       'image_create_role_num', 'image_create_role_pay_sum',\n",
    "       'image_source_num', 'image_create_role_pay_rate',\n",
    "       'image_create_role_cost', 'image_create_role_pay_cost',\n",
    "       'image_create_role_roi', 'label']"
   ]
  },
  {
   "cell_type": "code",
   "execution_count": 42,
   "metadata": {},
   "outputs": [
    {
     "data": {
      "text/plain": [
       "10"
      ]
     },
     "execution_count": 42,
     "metadata": {},
     "output_type": "execute_result"
    }
   ],
   "source": [
    "len(select_feature)"
   ]
  },
  {
   "cell_type": "code",
   "execution_count": 43,
   "metadata": {},
   "outputs": [],
   "source": [
    "def change_woe(d,cut,woe):\n",
    "    \"\"\"\n",
    "    将每个样本对应特征值更换为woe值\n",
    "    \"\"\"\n",
    "    list1=[]\n",
    "    i=0\n",
    "    while i<len(d):\n",
    "        value=d.values[i]\n",
    "        j=len(cut)-2\n",
    "        m=len(cut)-2\n",
    "        while j>=0:\n",
    "            if value>=cut[j]:\n",
    "                j=-1\n",
    "            else:\n",
    "                j -=1\n",
    "                m -= 1\n",
    "        list1.append(woe[m])\n",
    "        i += 1\n",
    "    return list1"
   ]
  },
  {
   "cell_type": "code",
   "execution_count": 44,
   "metadata": {},
   "outputs": [],
   "source": [
    "image_info_change = image_info_label.copy()"
   ]
  },
  {
   "cell_type": "code",
   "execution_count": 45,
   "metadata": {},
   "outputs": [
    {
     "data": {
      "text/plain": [
       "(57161, 19)"
      ]
     },
     "execution_count": 45,
     "metadata": {},
     "output_type": "execute_result"
    }
   ],
   "source": [
    "image_info_change.shape"
   ]
  },
  {
   "cell_type": "code",
   "execution_count": 46,
   "metadata": {},
   "outputs": [],
   "source": [
    "pinf = float('inf')#正无穷大\n",
    "ninf = float('-inf')#负无穷大\n",
    "woex1 = [0.903, 0.749, 0.622, 0.533, 0.348, 0.172, -0.067, -0.239, -0.544, -1.139]\n",
    "woex2 = [0.666, -0.361, -0.807, -1.168, -1.446, -2.085]\n",
    "woex3 = [1.148, 0.738, 0.587, 0.423, 0.29, 0.044, -0.025, -0.357, -0.609, -1.028]\n",
    "woex4 = [0.799, -0.125, -0.587, -1.181, -1.593, -2.195, -3.37]\n",
    "woex5 = [0.369, 0.343, 0.083, -0.179, -0.684, -1.42]\n",
    "woex6 = [1.152, -0.099, -0.425, -0.643, -0.568]\n",
    "woex7 = [0.241, -0.201, -0.241, -0.264, 0.09, 0.332, 0.818]\n",
    "woex8 = [-0.631, -0.62, -0.51, -0.239, 0.016, 0.124, 1.146]\n",
    "woex9 = [0.785, -0.234, -0.729, -1.114, -2.194]\n",
    "woex10 = [1.857, -0.009, -0.477, -0.151, -0.057, 0.113]\n",
    "\n",
    "cutx1 = [ninf, 709.48, 1012.45, 1441.55, 2018.45, 2840.72, 4061.22, 5963.83, 9426.32, 17642.13, pinf]\n",
    "cutx2 = [ninf, 1, 3, 8, 12, 50, pinf]\n",
    "cutx3 = [ninf, 3.0, 5.0, 7.0, 11.0, 16.0, 24.0, 38.0, 63.0, 133.0, pinf]\n",
    "cutx4 = [ninf, 60, 100, 300, 600, 1000, 4000, pinf]\n",
    "cutx5 = [ninf, 1, 3, 6, 10, 50, pinf]\n",
    "cutx6 = [ninf, 0.01, 0.025, 0.05, 0.075, pinf]\n",
    "cutx7 = [ninf, 50, 100, 150, 200, 300, 400, pinf]\n",
    "cutx8 = [ninf, 2000, 3000, 4000, 6000, 8000, 10000, pinf]\n",
    "cutx9 = [ninf, 0.01, 0.02, 0.03, 0.05, pinf]\n",
    "cutx10 = [ninf, 0.1, 0.2, 0.3, 0.4, 0.6, pinf]"
   ]
  },
  {
   "cell_type": "code",
   "execution_count": 47,
   "metadata": {},
   "outputs": [],
   "source": [
    "#数据转化\n",
    "image_info_change['image_run_date_amount'] = change_woe(image_info_change['image_run_date_amount'], cutx1, woex1)\n",
    "image_info_change['image_create_role_pay_num'] = change_woe(image_info_change['image_create_role_pay_num'], cutx2, woex2)\n",
    "image_info_change['image_create_role_num'] = change_woe(image_info_change['image_create_role_num'], cutx3, woex3)\n",
    "image_info_change['image_create_role_pay_sum'] = change_woe(image_info_change['image_create_role_pay_sum'], cutx4, woex4)\n",
    "image_info_change['image_source_num'] = change_woe(image_info_change['image_source_num'], cutx5, woex5)\n",
    "image_info_change['image_create_role_pay_rate'] = change_woe(image_info_change['image_create_role_pay_rate'], cutx6, woex6)\n",
    "image_info_change['image_create_role_cost'] = change_woe(image_info_change['image_create_role_cost'], cutx7, woex7)\n",
    "image_info_change['image_create_role_pay_cost'] = change_woe(image_info_change['image_create_role_pay_cost'], cutx8, woex8)\n",
    "image_info_change['image_create_role_roi'] = change_woe(image_info_change['image_create_role_roi'], cutx9, woex9)\n",
    "image_info_change['image_create_role_retain_1d'] = change_woe(image_info_change['image_create_role_retain_1d'], cutx10, woex10)"
   ]
  },
  {
   "cell_type": "code",
   "execution_count": 48,
   "metadata": {},
   "outputs": [
    {
     "data": {
      "text/plain": [
       "(57161, 19)"
      ]
     },
     "execution_count": 48,
     "metadata": {},
     "output_type": "execute_result"
    }
   ],
   "source": [
    "image_info_change.shape"
   ]
  },
  {
   "cell_type": "code",
   "execution_count": 49,
   "metadata": {},
   "outputs": [
    {
     "data": {
      "text/html": [
       "<div>\n",
       "<style scoped>\n",
       "    .dataframe tbody tr th:only-of-type {\n",
       "        vertical-align: middle;\n",
       "    }\n",
       "\n",
       "    .dataframe tbody tr th {\n",
       "        vertical-align: top;\n",
       "    }\n",
       "\n",
       "    .dataframe thead th {\n",
       "        text-align: right;\n",
       "    }\n",
       "</style>\n",
       "<table border=\"1\" class=\"dataframe\">\n",
       "  <thead>\n",
       "    <tr style=\"text-align: right;\">\n",
       "      <th></th>\n",
       "      <th>image_id</th>\n",
       "      <th>image_name</th>\n",
       "      <th>media_id</th>\n",
       "      <th>image_launch_time</th>\n",
       "      <th>image_source_total_num</th>\n",
       "      <th>image_run_date_amount</th>\n",
       "      <th>image_create_role_pay_num</th>\n",
       "      <th>image_create_role_num</th>\n",
       "      <th>image_create_role_pay_sum</th>\n",
       "      <th>image_source_num</th>\n",
       "      <th>image_create_role_pay_rate</th>\n",
       "      <th>image_create_role_cost</th>\n",
       "      <th>image_create_role_pay_cost</th>\n",
       "      <th>image_valid_source_rate</th>\n",
       "      <th>image_create_role_roi</th>\n",
       "      <th>image_create_role_retain_1d</th>\n",
       "      <th>create_role_30_pay_sum</th>\n",
       "      <th>model_run_datetime</th>\n",
       "      <th>label</th>\n",
       "    </tr>\n",
       "  </thead>\n",
       "  <tbody>\n",
       "    <tr>\n",
       "      <th>0</th>\n",
       "      <td>28073</td>\n",
       "      <td>QMZZ015-横版CHL（口播）</td>\n",
       "      <td>16</td>\n",
       "      <td>2020-12-25</td>\n",
       "      <td>377.0</td>\n",
       "      <td>-0.067</td>\n",
       "      <td>-0.361</td>\n",
       "      <td>0.044</td>\n",
       "      <td>0.799</td>\n",
       "      <td>-0.684</td>\n",
       "      <td>-0.643</td>\n",
       "      <td>0.332</td>\n",
       "      <td>-0.239</td>\n",
       "      <td>0.0</td>\n",
       "      <td>0.785</td>\n",
       "      <td>1.857</td>\n",
       "      <td>6.0</td>\n",
       "      <td>2021-05-01</td>\n",
       "      <td>0</td>\n",
       "    </tr>\n",
       "    <tr>\n",
       "      <th>1</th>\n",
       "      <td>28164</td>\n",
       "      <td>GZDGB10</td>\n",
       "      <td>10</td>\n",
       "      <td>2020-12-27</td>\n",
       "      <td>25.0</td>\n",
       "      <td>0.903</td>\n",
       "      <td>-0.361</td>\n",
       "      <td>1.148</td>\n",
       "      <td>0.799</td>\n",
       "      <td>-0.179</td>\n",
       "      <td>-0.568</td>\n",
       "      <td>0.332</td>\n",
       "      <td>-0.631</td>\n",
       "      <td>0.0</td>\n",
       "      <td>0.785</td>\n",
       "      <td>-0.477</td>\n",
       "      <td>12.0</td>\n",
       "      <td>2021-05-01</td>\n",
       "      <td>0</td>\n",
       "    </tr>\n",
       "    <tr>\n",
       "      <th>3</th>\n",
       "      <td>28239</td>\n",
       "      <td>gzdgBG18</td>\n",
       "      <td>10</td>\n",
       "      <td>2020-12-29</td>\n",
       "      <td>827.0</td>\n",
       "      <td>0.348</td>\n",
       "      <td>0.666</td>\n",
       "      <td>0.044</td>\n",
       "      <td>0.799</td>\n",
       "      <td>-0.684</td>\n",
       "      <td>1.152</td>\n",
       "      <td>-0.264</td>\n",
       "      <td>1.146</td>\n",
       "      <td>0.0</td>\n",
       "      <td>0.785</td>\n",
       "      <td>-0.477</td>\n",
       "      <td>1688.0</td>\n",
       "      <td>2021-05-01</td>\n",
       "      <td>1</td>\n",
       "    </tr>\n",
       "    <tr>\n",
       "      <th>6</th>\n",
       "      <td>28460</td>\n",
       "      <td>GZDGS033-JXC+WZH开荒建造优化版-微信750x1334</td>\n",
       "      <td>16</td>\n",
       "      <td>2020-12-31</td>\n",
       "      <td>300.0</td>\n",
       "      <td>0.348</td>\n",
       "      <td>0.666</td>\n",
       "      <td>0.423</td>\n",
       "      <td>0.799</td>\n",
       "      <td>0.083</td>\n",
       "      <td>1.152</td>\n",
       "      <td>0.090</td>\n",
       "      <td>1.146</td>\n",
       "      <td>0.0</td>\n",
       "      <td>0.785</td>\n",
       "      <td>-0.009</td>\n",
       "      <td>0.0</td>\n",
       "      <td>2021-05-01</td>\n",
       "      <td>0</td>\n",
       "    </tr>\n",
       "    <tr>\n",
       "      <th>7</th>\n",
       "      <td>28681</td>\n",
       "      <td>GZDGS052-XY 3D仿014</td>\n",
       "      <td>16</td>\n",
       "      <td>2021-01-08</td>\n",
       "      <td>100.0</td>\n",
       "      <td>0.172</td>\n",
       "      <td>-0.361</td>\n",
       "      <td>0.044</td>\n",
       "      <td>-1.593</td>\n",
       "      <td>0.083</td>\n",
       "      <td>-0.425</td>\n",
       "      <td>-0.264</td>\n",
       "      <td>-0.510</td>\n",
       "      <td>0.0</td>\n",
       "      <td>-2.194</td>\n",
       "      <td>-0.009</td>\n",
       "      <td>15879.0</td>\n",
       "      <td>2021-05-01</td>\n",
       "      <td>1</td>\n",
       "    </tr>\n",
       "  </tbody>\n",
       "</table>\n",
       "</div>"
      ],
      "text/plain": [
       "   image_id                          image_name  media_id image_launch_time  \\\n",
       "0     28073                   QMZZ015-横版CHL（口播）        16        2020-12-25   \n",
       "1     28164                             GZDGB10        10        2020-12-27   \n",
       "3     28239                            gzdgBG18        10        2020-12-29   \n",
       "6     28460  GZDGS033-JXC+WZH开荒建造优化版-微信750x1334        16        2020-12-31   \n",
       "7     28681                  GZDGS052-XY 3D仿014        16        2021-01-08   \n",
       "\n",
       "   image_source_total_num  image_run_date_amount  image_create_role_pay_num  \\\n",
       "0                   377.0                 -0.067                     -0.361   \n",
       "1                    25.0                  0.903                     -0.361   \n",
       "3                   827.0                  0.348                      0.666   \n",
       "6                   300.0                  0.348                      0.666   \n",
       "7                   100.0                  0.172                     -0.361   \n",
       "\n",
       "   image_create_role_num  image_create_role_pay_sum  image_source_num  \\\n",
       "0                  0.044                      0.799            -0.684   \n",
       "1                  1.148                      0.799            -0.179   \n",
       "3                  0.044                      0.799            -0.684   \n",
       "6                  0.423                      0.799             0.083   \n",
       "7                  0.044                     -1.593             0.083   \n",
       "\n",
       "   image_create_role_pay_rate  image_create_role_cost  \\\n",
       "0                      -0.643                   0.332   \n",
       "1                      -0.568                   0.332   \n",
       "3                       1.152                  -0.264   \n",
       "6                       1.152                   0.090   \n",
       "7                      -0.425                  -0.264   \n",
       "\n",
       "   image_create_role_pay_cost  image_valid_source_rate  image_create_role_roi  \\\n",
       "0                      -0.239                      0.0                  0.785   \n",
       "1                      -0.631                      0.0                  0.785   \n",
       "3                       1.146                      0.0                  0.785   \n",
       "6                       1.146                      0.0                  0.785   \n",
       "7                      -0.510                      0.0                 -2.194   \n",
       "\n",
       "   image_create_role_retain_1d  create_role_30_pay_sum model_run_datetime  \\\n",
       "0                        1.857                     6.0         2021-05-01   \n",
       "1                       -0.477                    12.0         2021-05-01   \n",
       "3                       -0.477                  1688.0         2021-05-01   \n",
       "6                       -0.009                     0.0         2021-05-01   \n",
       "7                       -0.009                 15879.0         2021-05-01   \n",
       "\n",
       "   label  \n",
       "0      0  \n",
       "1      0  \n",
       "3      1  \n",
       "6      0  \n",
       "7      1  "
      ]
     },
     "execution_count": 49,
     "metadata": {},
     "output_type": "execute_result"
    }
   ],
   "source": [
    "image_info_change.head()"
   ]
  },
  {
   "cell_type": "code",
   "execution_count": 50,
   "metadata": {},
   "outputs": [],
   "source": [
    "image_info_change.to_csv('./image_info_change.csv',index=0)"
   ]
  },
  {
   "cell_type": "code",
   "execution_count": 51,
   "metadata": {},
   "outputs": [],
   "source": [
    "data_info = image_info_change[select_feature]"
   ]
  },
  {
   "cell_type": "code",
   "execution_count": 52,
   "metadata": {},
   "outputs": [
    {
     "data": {
      "text/plain": [
       "(57161, 10)"
      ]
     },
     "execution_count": 52,
     "metadata": {},
     "output_type": "execute_result"
    }
   ],
   "source": [
    "data_info.shape"
   ]
  },
  {
   "cell_type": "code",
   "execution_count": 53,
   "metadata": {},
   "outputs": [
    {
     "data": {
      "text/html": [
       "<div>\n",
       "<style scoped>\n",
       "    .dataframe tbody tr th:only-of-type {\n",
       "        vertical-align: middle;\n",
       "    }\n",
       "\n",
       "    .dataframe tbody tr th {\n",
       "        vertical-align: top;\n",
       "    }\n",
       "\n",
       "    .dataframe thead th {\n",
       "        text-align: right;\n",
       "    }\n",
       "</style>\n",
       "<table border=\"1\" class=\"dataframe\">\n",
       "  <thead>\n",
       "    <tr style=\"text-align: right;\">\n",
       "      <th></th>\n",
       "      <th>image_run_date_amount</th>\n",
       "      <th>image_create_role_pay_num</th>\n",
       "      <th>image_create_role_num</th>\n",
       "      <th>image_create_role_pay_sum</th>\n",
       "      <th>image_source_num</th>\n",
       "      <th>image_create_role_pay_rate</th>\n",
       "      <th>image_create_role_cost</th>\n",
       "      <th>image_create_role_pay_cost</th>\n",
       "      <th>image_create_role_roi</th>\n",
       "      <th>label</th>\n",
       "    </tr>\n",
       "  </thead>\n",
       "  <tbody>\n",
       "    <tr>\n",
       "      <th>0</th>\n",
       "      <td>-0.067</td>\n",
       "      <td>-0.361</td>\n",
       "      <td>0.044</td>\n",
       "      <td>0.799</td>\n",
       "      <td>-0.684</td>\n",
       "      <td>-0.643</td>\n",
       "      <td>0.332</td>\n",
       "      <td>-0.239</td>\n",
       "      <td>0.785</td>\n",
       "      <td>0</td>\n",
       "    </tr>\n",
       "    <tr>\n",
       "      <th>1</th>\n",
       "      <td>0.903</td>\n",
       "      <td>-0.361</td>\n",
       "      <td>1.148</td>\n",
       "      <td>0.799</td>\n",
       "      <td>-0.179</td>\n",
       "      <td>-0.568</td>\n",
       "      <td>0.332</td>\n",
       "      <td>-0.631</td>\n",
       "      <td>0.785</td>\n",
       "      <td>0</td>\n",
       "    </tr>\n",
       "    <tr>\n",
       "      <th>3</th>\n",
       "      <td>0.348</td>\n",
       "      <td>0.666</td>\n",
       "      <td>0.044</td>\n",
       "      <td>0.799</td>\n",
       "      <td>-0.684</td>\n",
       "      <td>1.152</td>\n",
       "      <td>-0.264</td>\n",
       "      <td>1.146</td>\n",
       "      <td>0.785</td>\n",
       "      <td>1</td>\n",
       "    </tr>\n",
       "    <tr>\n",
       "      <th>6</th>\n",
       "      <td>0.348</td>\n",
       "      <td>0.666</td>\n",
       "      <td>0.423</td>\n",
       "      <td>0.799</td>\n",
       "      <td>0.083</td>\n",
       "      <td>1.152</td>\n",
       "      <td>0.090</td>\n",
       "      <td>1.146</td>\n",
       "      <td>0.785</td>\n",
       "      <td>0</td>\n",
       "    </tr>\n",
       "    <tr>\n",
       "      <th>7</th>\n",
       "      <td>0.172</td>\n",
       "      <td>-0.361</td>\n",
       "      <td>0.044</td>\n",
       "      <td>-1.593</td>\n",
       "      <td>0.083</td>\n",
       "      <td>-0.425</td>\n",
       "      <td>-0.264</td>\n",
       "      <td>-0.510</td>\n",
       "      <td>-2.194</td>\n",
       "      <td>1</td>\n",
       "    </tr>\n",
       "  </tbody>\n",
       "</table>\n",
       "</div>"
      ],
      "text/plain": [
       "   image_run_date_amount  image_create_role_pay_num  image_create_role_num  \\\n",
       "0                 -0.067                     -0.361                  0.044   \n",
       "1                  0.903                     -0.361                  1.148   \n",
       "3                  0.348                      0.666                  0.044   \n",
       "6                  0.348                      0.666                  0.423   \n",
       "7                  0.172                     -0.361                  0.044   \n",
       "\n",
       "   image_create_role_pay_sum  image_source_num  image_create_role_pay_rate  \\\n",
       "0                      0.799            -0.684                      -0.643   \n",
       "1                      0.799            -0.179                      -0.568   \n",
       "3                      0.799            -0.684                       1.152   \n",
       "6                      0.799             0.083                       1.152   \n",
       "7                     -1.593             0.083                      -0.425   \n",
       "\n",
       "   image_create_role_cost  image_create_role_pay_cost  image_create_role_roi  \\\n",
       "0                   0.332                      -0.239                  0.785   \n",
       "1                   0.332                      -0.631                  0.785   \n",
       "3                  -0.264                       1.146                  0.785   \n",
       "6                   0.090                       1.146                  0.785   \n",
       "7                  -0.264                      -0.510                 -2.194   \n",
       "\n",
       "   label  \n",
       "0      0  \n",
       "1      0  \n",
       "3      1  \n",
       "6      0  \n",
       "7      1  "
      ]
     },
     "execution_count": 53,
     "metadata": {},
     "output_type": "execute_result"
    }
   ],
   "source": [
    "data_info.head()"
   ]
  },
  {
   "cell_type": "code",
   "execution_count": 54,
   "metadata": {},
   "outputs": [],
   "source": [
    "#模型建立\n",
    "from sklearn.linear_model import LogisticRegression\n",
    "from sklearn.model_selection import train_test_split,GridSearchCV,RandomizedSearchCV\n",
    "from sklearn.ensemble import RandomForestClassifier\n",
    "from sklearn import svm\n",
    "import lightgbm as lgb\n",
    "from sklearn.neighbors import KNeighborsClassifier\n",
    "import time\n",
    "from sklearn.model_selection import cross_validate\n",
    "from sklearn.metrics import roc_curve, roc_auc_score,auc, classification_report"
   ]
  },
  {
   "cell_type": "code",
   "execution_count": 55,
   "metadata": {},
   "outputs": [],
   "source": [
    "x_train, x_test, y_train, y_test = train_test_split(data_info.drop('label',axis=1), data_info['label'], test_size=0.25, random_state=42)"
   ]
  },
  {
   "cell_type": "markdown",
   "metadata": {},
   "source": [
    "### RandomForestClassifier"
   ]
  },
  {
   "cell_type": "code",
   "execution_count": 56,
   "metadata": {},
   "outputs": [
    {
     "data": {
      "text/plain": [
       "RandomizedSearchCV(cv=5, estimator=RandomForestClassifier(),\n",
       "                   param_distributions={'max_depth': [2, 3, 5, 7, 9],\n",
       "                                        'min_samples_leaf': [2, 4, 6, 8],\n",
       "                                        'n_estimators': [9, 18, 27, 36, 100,\n",
       "                                                         150]})"
      ]
     },
     "execution_count": 56,
     "metadata": {},
     "output_type": "execute_result"
    }
   ],
   "source": [
    "RF = RandomForestClassifier()\n",
    "param_grid = { \n",
    "           \"n_estimators\" : [9, 18, 27, 36, 100, 150],\n",
    "           \"max_depth\" : [2,3,5,7,9],\n",
    "           \"min_samples_leaf\" : [2, 4, 6, 8]}\n",
    "RF_random = RandomizedSearchCV(RF, param_distributions=param_grid, cv=5)\n",
    "RF_random.fit(x_train, y_train)"
   ]
  },
  {
   "cell_type": "code",
   "execution_count": 57,
   "metadata": {},
   "outputs": [
    {
     "data": {
      "image/png": "[encoded data removed]",
      "text/plain": [
       "<Figure size 720x576 with 1 Axes>"
      ]
     },
     "metadata": {
      "needs_background": "light"
     },
     "output_type": "display_data"
    }
   ],
   "source": [
    "# 训练集评估\n",
    "best_est_RF = RF_random.best_estimator_\n",
    "y_pred = best_est_RF.predict_proba(x_train)\n",
    "y_pred = y_pred[:,1]\n",
    "fpr,tpr,_ = roc_curve(y_train, y_pred)\n",
    "roc_auc = auc(fpr, tpr)\n",
    "plt.figure(figsize=(10,8))\n",
    "plt.title('Receiver Operating Characteristic')\n",
    "sns.lineplot(fpr, tpr, label = 'AUC = %0.2f' % roc_auc)\n",
    "plt.legend(loc = 'lower right')\n",
    "plt.plot([0, 1], [0, 1],'r--')\n",
    "plt.ylabel('True Positive Rate')\n",
    "plt.xlabel('False Positive Rate')\n",
    "plt.show()"
   ]
  },
  {
   "cell_type": "code",
   "execution_count": 58,
   "metadata": {},
   "outputs": [
    {
     "data": {
      "image/png": "[encoded data removed]",
      "text/plain": [
       "<Figure size 720x576 with 1 Axes>"
      ]
     },
     "metadata": {
      "needs_background": "light"
     },
     "output_type": "display_data"
    }
   ],
   "source": [
    "# 测试集评估\n",
    "best_est_RF = RF_random.best_estimator_\n",
    "y_pred = best_est_RF.predict_proba(x_test)\n",
    "y_pred = y_pred[:,1]\n",
    "fpr,tpr,_ = roc_curve(y_test, y_pred)\n",
    "roc_auc = auc(fpr, tpr)\n",
    "plt.figure(figsize=(10,8))\n",
    "plt.title('Receiver Operating Characteristic')\n",
    "sns.lineplot(fpr, tpr, label = 'AUC = %0.2f' % roc_auc)\n",
    "plt.legend(loc = 'lower right')\n",
    "plt.plot([0, 1], [0, 1],'r--')\n",
    "plt.ylabel('True Positive Rate')\n",
    "plt.xlabel('False Positive Rate')\n",
    "plt.show()"
   ]
  },
  {
   "cell_type": "code",
   "execution_count": 59,
   "metadata": {
    "scrolled": true
   },
   "outputs": [
    {
     "name": "stdout",
     "output_type": "stream",
     "text": [
      "              precision    recall  f1-score   support\n",
      "\n",
      "           0       0.90      0.95      0.93     12253\n",
      "           1       0.57      0.38      0.46      2038\n",
      "\n",
      "    accuracy                           0.87     14291\n",
      "   macro avg       0.73      0.67      0.69     14291\n",
      "weighted avg       0.85      0.87      0.86     14291\n",
      "\n"
     ]
    }
   ],
   "source": [
    "y_pred_class = list(map(lambda x:1 if x>=0.35 else 0, y_pred))\n",
    "print(classification_report(y_test, y_pred_class))"
   ]
  },
  {
   "cell_type": "code",
   "execution_count": 60,
   "metadata": {},
   "outputs": [
    {
     "data": {
      "text/plain": [
       "['best_est_RF.pkl']"
      ]
     },
     "execution_count": 60,
     "metadata": {},
     "output_type": "execute_result"
    }
   ],
   "source": [
    "import joblib\n",
    "joblib.dump(best_est_RF, 'best_est_RF.pkl')"
   ]
  },
  {
   "cell_type": "markdown",
   "metadata": {},
   "source": [
    "### XGB"
   ]
  },
  {
   "cell_type": "code",
   "execution_count": 61,
   "metadata": {},
   "outputs": [
    {
     "data": {
      "text/plain": [
       "RandomizedSearchCV(cv=5,\n",
       "                   estimator=XGBClassifier(base_score=None, booster=None,\n",
       "                                           colsample_bylevel=None,\n",
       "                                           colsample_bynode=None,\n",
       "                                           colsample_bytree=None, gamma=None,\n",
       "                                           gpu_id=None, importance_type='gain',\n",
       "                                           interaction_constraints=None,\n",
       "                                           learning_rate=None,\n",
       "                                           max_delta_step=None, max_depth=None,\n",
       "                                           min_child_weight=None, missing=nan,\n",
       "                                           monotone_constraints=None,\n",
       "                                           n_estimators=100,...\n",
       "                                           num_parallel_tree=None,\n",
       "                                           random_state=None, reg_alpha=None,\n",
       "                                           reg_lambda=None,\n",
       "                                           scale_pos_weight=None,\n",
       "                                           subsample=None, tree_method=None,\n",
       "                                           validate_parameters=None,\n",
       "                                           verbosity=None),\n",
       "                   param_distributions={'colsample_bytree': [0.5, 0.7],\n",
       "                                        'gamma': [0.0, 0.1, 0.2, 0.3],\n",
       "                                        'learning_rate': [0.001, 0.01, 0.0001,\n",
       "                                                          0.05, 0.1],\n",
       "                                        'max_depth': [3, 4, 6, 8, 10, 12, 15,\n",
       "                                                      20, 25, 30],\n",
       "                                        'n_estimators': [100, 150, 200, 250,\n",
       "                                                         300]})"
      ]
     },
     "execution_count": 61,
     "metadata": {},
     "output_type": "execute_result"
    }
   ],
   "source": [
    "from xgboost import XGBClassifier\n",
    "XGB = XGBClassifier(n_jobs=-1) \n",
    " \n",
    "param_grid = {\n",
    "                  'n_estimators' :[100,150,200,250,300],\n",
    "                  \"learning_rate\" : [0.001,0.01,0.0001,0.05, 0.10 ],\n",
    "                  \"gamma\"            : [ 0.0, 0.1, 0.2 , 0.3 ],\n",
    "                  \"colsample_bytree\" : [0.5,0.7],\n",
    "                  'max_depth': [3,4,6,8,10,12,15,20,25,30]\n",
    "              }\n",
    "XGB_random = RandomizedSearchCV(XGB, param_distributions=param_grid, cv=5)\n",
    "XGB_random.fit(x_train,y_train)"
   ]
  },
  {
   "cell_type": "code",
   "execution_count": 62,
   "metadata": {},
   "outputs": [
    {
     "data": {
      "image/png": "[encoded data removed]",
      "text/plain": [
       "<Figure size 720x576 with 1 Axes>"
      ]
     },
     "metadata": {
      "needs_background": "light"
     },
     "output_type": "display_data"
    }
   ],
   "source": [
    "# 测试集评估\n",
    "best_est_XGB = XGB_random.best_estimator_\n",
    "y_pred = best_est_XGB.predict_proba(x_test)\n",
    "y_pred = y_pred[:,1]\n",
    "fpr,tpr,_ = roc_curve(y_test, y_pred)\n",
    "roc_auc = auc(fpr, tpr)\n",
    "plt.figure(figsize=(10,8))\n",
    "plt.title('Receiver Operating Characteristic')\n",
    "sns.lineplot(fpr, tpr, label = 'AUC = %0.2f' % roc_auc)\n",
    "plt.legend(loc = 'lower right')\n",
    "plt.plot([0, 1], [0, 1],'r--')\n",
    "plt.ylabel('True Positive Rate')\n",
    "plt.xlabel('False Positive Rate')\n",
    "plt.show()"
   ]
  },
  {
   "cell_type": "code",
   "execution_count": 63,
   "metadata": {},
   "outputs": [
    {
     "name": "stdout",
     "output_type": "stream",
     "text": [
      "              precision    recall  f1-score   support\n",
      "\n",
      "           0       0.90      0.95      0.93     12253\n",
      "           1       0.57      0.38      0.46      2038\n",
      "\n",
      "    accuracy                           0.87     14291\n",
      "   macro avg       0.74      0.67      0.69     14291\n",
      "weighted avg       0.86      0.87      0.86     14291\n",
      "\n"
     ]
    }
   ],
   "source": [
    "y_pred_class = list(map(lambda x:1 if x>=0.35 else 0, y_pred))\n",
    "print(classification_report(y_test, y_pred_class))"
   ]
  },
  {
   "cell_type": "code",
   "execution_count": 64,
   "metadata": {},
   "outputs": [
    {
     "data": {
      "text/plain": [
       "['best_est_XGB.pkl']"
      ]
     },
     "execution_count": 64,
     "metadata": {},
     "output_type": "execute_result"
    }
   ],
   "source": [
    "joblib.dump(best_est_XGB, 'best_est_XGB.pkl')"
   ]
  },
  {
   "cell_type": "markdown",
   "metadata": {},
   "source": [
    "### lgb"
   ]
  },
  {
   "cell_type": "code",
   "execution_count": 65,
   "metadata": {},
   "outputs": [],
   "source": [
    "from lightgbm import LGBMClassifier"
   ]
  },
  {
   "cell_type": "code",
   "execution_count": 66,
   "metadata": {},
   "outputs": [
    {
     "data": {
      "text/plain": [
       "RandomizedSearchCV(cv=5,\n",
       "                   estimator=LGBMClassifier(metric='auc', objective='binary'),\n",
       "                   param_distributions={'bagging_fraction': [0.6, 0.7, 0.8, 0.9,\n",
       "                                                             0.95],\n",
       "                                        'bagging_freq': [2, 4, 5, 6, 8],\n",
       "                                        'cat_smooth': [1, 10, 15, 20, 35],\n",
       "                                        'feature_fraction': [0.6, 0.7, 0.8, 0.9,\n",
       "                                                             0.95],\n",
       "                                        'lambda_l1': [0, 0.1, 0.4, 0.5, 0.6],\n",
       "                                        'lambda_l2': [0, 10, 15, 35, 40],\n",
       "                                        'learning_rate': [0.01, 0.02, 0.05, 0.1,\n",
       "                                                          0.15],\n",
       "                                        'max_depth': [15, 20, 25, 30, 35]})"
      ]
     },
     "execution_count": 66,
     "metadata": {},
     "output_type": "execute_result"
    }
   ],
   "source": [
    "LGB = LGBMClassifier(boosting_type='gbdt',objective = 'binary',metric = 'auc',n_jobs=-1) \n",
    "param_grid = {\n",
    "              'max_depth': [15, 20, 25, 30, 35],\n",
    "              'learning_rate': [0.01, 0.02, 0.05, 0.1, 0.15],\n",
    "              'feature_fraction': [0.6, 0.7, 0.8, 0.9, 0.95],\n",
    "              'bagging_fraction': [0.6, 0.7, 0.8, 0.9, 0.95],\n",
    "              'bagging_freq': [2, 4, 5, 6, 8],\n",
    "              'lambda_l1': [0, 0.1, 0.4, 0.5, 0.6],\n",
    "              'lambda_l2': [0, 10, 15, 35, 40],\n",
    "              'cat_smooth': [1, 10, 15, 20, 35]\n",
    "}\n",
    "LGB_random = RandomizedSearchCV(LGB, param_distributions=param_grid, cv=5)\n",
    "LGB_random.fit(x_train,y_train)"
   ]
  },
  {
   "cell_type": "code",
   "execution_count": 67,
   "metadata": {},
   "outputs": [
    {
     "data": {
      "image/png": "[encoded data removed]",
      "text/plain": [
       "<Figure size 720x576 with 1 Axes>"
      ]
     },
     "metadata": {
      "needs_background": "light"
     },
     "output_type": "display_data"
    }
   ],
   "source": [
    "# 测试集评估\n",
    "best_est_LGB = LGB_random.best_estimator_\n",
    "y_pred = best_est_LGB.predict_proba(x_test)\n",
    "y_pred = y_pred[:,1]\n",
    "fpr,tpr,_ = roc_curve(y_test, y_pred)\n",
    "roc_auc = auc(fpr, tpr)\n",
    "plt.figure(figsize=(10,8))\n",
    "plt.title('Receiver Operating Characteristic')\n",
    "sns.lineplot(fpr, tpr, label = 'AUC = %0.2f' % roc_auc)\n",
    "plt.legend(loc = 'lower right')\n",
    "plt.plot([0, 1], [0, 1],'r--')\n",
    "plt.ylabel('True Positive Rate')\n",
    "plt.xlabel('False Positive Rate')\n",
    "plt.show()"
   ]
  },
  {
   "cell_type": "code",
   "execution_count": 68,
   "metadata": {},
   "outputs": [
    {
     "name": "stdout",
     "output_type": "stream",
     "text": [
      "              precision    recall  f1-score   support\n",
      "\n",
      "           0       0.90      0.95      0.93     12253\n",
      "           1       0.57      0.37      0.45      2038\n",
      "\n",
      "    accuracy                           0.87     14291\n",
      "   macro avg       0.73      0.66      0.69     14291\n",
      "weighted avg       0.85      0.87      0.86     14291\n",
      "\n"
     ]
    }
   ],
   "source": [
    "y_pred_class = list(map(lambda x:1 if x>=0.35 else 0, y_pred))\n",
    "print(classification_report(y_test, y_pred_class))"
   ]
  },
  {
   "cell_type": "code",
   "execution_count": 69,
   "metadata": {},
   "outputs": [
    {
     "data": {
      "text/plain": [
       "['best_est_LGB.pkl']"
      ]
     },
     "execution_count": 69,
     "metadata": {},
     "output_type": "execute_result"
    }
   ],
   "source": [
    "joblib.dump(best_est_LGB, 'best_est_LGB.pkl')"
   ]
  },
  {
   "cell_type": "markdown",
   "metadata": {},
   "source": [
    "### 选XGB + LGB +RF融合"
   ]
  },
  {
   "cell_type": "code",
   "execution_count": 70,
   "metadata": {},
   "outputs": [
    {
     "data": {
      "text/plain": [
       "XGBClassifier(base_score=0.5, booster='gbtree', colsample_bylevel=1,\n",
       "              colsample_bynode=1, colsample_bytree=0.5, gamma=0.3, gpu_id=-1,\n",
       "              importance_type='gain', interaction_constraints='',\n",
       "              learning_rate=0.01, max_delta_step=0, max_depth=10,\n",
       "              min_child_weight=1, missing=nan, monotone_constraints='()',\n",
       "              n_estimators=250, n_jobs=-1, num_parallel_tree=1, random_state=0,\n",
       "              reg_alpha=0, reg_lambda=1, scale_pos_weight=1, subsample=1,\n",
       "              tree_method='exact', validate_parameters=1, verbosity=None)"
      ]
     },
     "execution_count": 70,
     "metadata": {},
     "output_type": "execute_result"
    }
   ],
   "source": [
    "XGB_random.best_estimator_"
   ]
  },
  {
   "cell_type": "code",
   "execution_count": 71,
   "metadata": {},
   "outputs": [
    {
     "data": {
      "text/plain": [
       "LGBMClassifier(bagging_fraction=0.7, bagging_freq=6, cat_smooth=35,\n",
       "               feature_fraction=0.8, lambda_l1=0.1, lambda_l2=10,\n",
       "               learning_rate=0.05, max_depth=20, metric='auc',\n",
       "               objective='binary')"
      ]
     },
     "execution_count": 71,
     "metadata": {},
     "output_type": "execute_result"
    }
   ],
   "source": [
    "LGB_random.best_estimator_"
   ]
  },
  {
   "cell_type": "code",
   "execution_count": 72,
   "metadata": {},
   "outputs": [
    {
     "data": {
      "text/plain": [
       "RandomForestClassifier(max_depth=9, min_samples_leaf=4, n_estimators=36)"
      ]
     },
     "execution_count": 72,
     "metadata": {},
     "output_type": "execute_result"
    }
   ],
   "source": [
    "RF_random.best_estimator_"
   ]
  },
  {
   "cell_type": "code",
   "execution_count": 73,
   "metadata": {},
   "outputs": [],
   "source": [
    "y_pred = 0.4* best_est_XGB.predict_proba(x_test)[:,1] + 0.3*best_est_LGB.predict_proba(x_test)[:,1] + 0.3*best_est_RF.predict_proba(x_test)[:,1]"
   ]
  },
  {
   "cell_type": "code",
   "execution_count": 74,
   "metadata": {},
   "outputs": [
    {
     "data": {
      "image/png": "[encoded data removed]",
      "text/plain": [
       "<Figure size 720x576 with 1 Axes>"
      ]
     },
     "metadata": {
      "needs_background": "light"
     },
     "output_type": "display_data"
    }
   ],
   "source": [
    "fpr,tpr,_ = roc_curve(y_test, y_pred)\n",
    "roc_auc = auc(fpr, tpr)\n",
    "plt.figure(figsize=(10,8))\n",
    "plt.title('Receiver Operating Characteristic')\n",
    "sns.lineplot(fpr, tpr, label = 'AUC = %0.2f' % roc_auc)\n",
    "plt.legend(loc = 'lower right')\n",
    "plt.plot([0, 1], [0, 1],'r--')\n",
    "plt.ylabel('True Positive Rate')\n",
    "plt.xlabel('False Positive Rate')\n",
    "plt.show()"
   ]
  },
  {
   "cell_type": "code",
   "execution_count": 75,
   "metadata": {},
   "outputs": [
    {
     "name": "stdout",
     "output_type": "stream",
     "text": [
      "              precision    recall  f1-score   support\n",
      "\n",
      "           0       0.91      0.94      0.92     12253\n",
      "           1       0.53      0.43      0.48      2038\n",
      "\n",
      "    accuracy                           0.86     14291\n",
      "   macro avg       0.72      0.68      0.70     14291\n",
      "weighted avg       0.85      0.86      0.86     14291\n",
      "\n"
     ]
    }
   ],
   "source": [
    "y_pred_class = list(map(lambda x:1 if x>=0.3 else 0, y_pred))\n",
    "print(classification_report(y_test, y_pred_class))"
   ]
  },
  {
   "cell_type": "markdown",
   "metadata": {},
   "source": [
    "### 转化为分数"
   ]
  },
  {
   "cell_type": "code",
   "execution_count": 76,
   "metadata": {
    "scrolled": true
   },
   "outputs": [
    {
     "data": {
      "text/html": [
       "<div>\n",
       "<style scoped>\n",
       "    .dataframe tbody tr th:only-of-type {\n",
       "        vertical-align: middle;\n",
       "    }\n",
       "\n",
       "    .dataframe tbody tr th {\n",
       "        vertical-align: top;\n",
       "    }\n",
       "\n",
       "    .dataframe thead th {\n",
       "        text-align: right;\n",
       "    }\n",
       "</style>\n",
       "<table border=\"1\" class=\"dataframe\">\n",
       "  <thead>\n",
       "    <tr style=\"text-align: right;\">\n",
       "      <th></th>\n",
       "      <th>image_id</th>\n",
       "      <th>image_name</th>\n",
       "      <th>media_id</th>\n",
       "      <th>image_launch_time</th>\n",
       "      <th>image_source_total_num</th>\n",
       "      <th>image_run_date_amount</th>\n",
       "      <th>image_create_role_pay_num</th>\n",
       "      <th>image_create_role_num</th>\n",
       "      <th>image_create_role_pay_sum</th>\n",
       "      <th>image_source_num</th>\n",
       "      <th>image_create_role_pay_rate</th>\n",
       "      <th>image_create_role_cost</th>\n",
       "      <th>image_create_role_pay_cost</th>\n",
       "      <th>image_valid_source_rate</th>\n",
       "      <th>image_create_role_roi</th>\n",
       "      <th>image_create_role_retain_1d</th>\n",
       "      <th>create_role_30_pay_sum</th>\n",
       "      <th>model_run_datetime</th>\n",
       "      <th>label</th>\n",
       "    </tr>\n",
       "  </thead>\n",
       "  <tbody>\n",
       "    <tr>\n",
       "      <th>0</th>\n",
       "      <td>28073</td>\n",
       "      <td>QMZZ015-横版CHL（口播）</td>\n",
       "      <td>16</td>\n",
       "      <td>2020-12-25</td>\n",
       "      <td>377.0</td>\n",
       "      <td>-0.067</td>\n",
       "      <td>-0.361</td>\n",
       "      <td>0.044</td>\n",
       "      <td>0.799</td>\n",
       "      <td>-0.684</td>\n",
       "      <td>-0.643</td>\n",
       "      <td>0.332</td>\n",
       "      <td>-0.239</td>\n",
       "      <td>0.0</td>\n",
       "      <td>0.785</td>\n",
       "      <td>1.857</td>\n",
       "      <td>6.0</td>\n",
       "      <td>2021-05-01</td>\n",
       "      <td>0</td>\n",
       "    </tr>\n",
       "    <tr>\n",
       "      <th>1</th>\n",
       "      <td>28164</td>\n",
       "      <td>GZDGB10</td>\n",
       "      <td>10</td>\n",
       "      <td>2020-12-27</td>\n",
       "      <td>25.0</td>\n",
       "      <td>0.903</td>\n",
       "      <td>-0.361</td>\n",
       "      <td>1.148</td>\n",
       "      <td>0.799</td>\n",
       "      <td>-0.179</td>\n",
       "      <td>-0.568</td>\n",
       "      <td>0.332</td>\n",
       "      <td>-0.631</td>\n",
       "      <td>0.0</td>\n",
       "      <td>0.785</td>\n",
       "      <td>-0.477</td>\n",
       "      <td>12.0</td>\n",
       "      <td>2021-05-01</td>\n",
       "      <td>0</td>\n",
       "    </tr>\n",
       "    <tr>\n",
       "      <th>3</th>\n",
       "      <td>28239</td>\n",
       "      <td>gzdgBG18</td>\n",
       "      <td>10</td>\n",
       "      <td>2020-12-29</td>\n",
       "      <td>827.0</td>\n",
       "      <td>0.348</td>\n",
       "      <td>0.666</td>\n",
       "      <td>0.044</td>\n",
       "      <td>0.799</td>\n",
       "      <td>-0.684</td>\n",
       "      <td>1.152</td>\n",
       "      <td>-0.264</td>\n",
       "      <td>1.146</td>\n",
       "      <td>0.0</td>\n",
       "      <td>0.785</td>\n",
       "      <td>-0.477</td>\n",
       "      <td>1688.0</td>\n",
       "      <td>2021-05-01</td>\n",
       "      <td>1</td>\n",
       "    </tr>\n",
       "    <tr>\n",
       "      <th>6</th>\n",
       "      <td>28460</td>\n",
       "      <td>GZDGS033-JXC+WZH开荒建造优化版-微信750x1334</td>\n",
       "      <td>16</td>\n",
       "      <td>2020-12-31</td>\n",
       "      <td>300.0</td>\n",
       "      <td>0.348</td>\n",
       "      <td>0.666</td>\n",
       "      <td>0.423</td>\n",
       "      <td>0.799</td>\n",
       "      <td>0.083</td>\n",
       "      <td>1.152</td>\n",
       "      <td>0.090</td>\n",
       "      <td>1.146</td>\n",
       "      <td>0.0</td>\n",
       "      <td>0.785</td>\n",
       "      <td>-0.009</td>\n",
       "      <td>0.0</td>\n",
       "      <td>2021-05-01</td>\n",
       "      <td>0</td>\n",
       "    </tr>\n",
       "    <tr>\n",
       "      <th>7</th>\n",
       "      <td>28681</td>\n",
       "      <td>GZDGS052-XY 3D仿014</td>\n",
       "      <td>16</td>\n",
       "      <td>2021-01-08</td>\n",
       "      <td>100.0</td>\n",
       "      <td>0.172</td>\n",
       "      <td>-0.361</td>\n",
       "      <td>0.044</td>\n",
       "      <td>-1.593</td>\n",
       "      <td>0.083</td>\n",
       "      <td>-0.425</td>\n",
       "      <td>-0.264</td>\n",
       "      <td>-0.510</td>\n",
       "      <td>0.0</td>\n",
       "      <td>-2.194</td>\n",
       "      <td>-0.009</td>\n",
       "      <td>15879.0</td>\n",
       "      <td>2021-05-01</td>\n",
       "      <td>1</td>\n",
       "    </tr>\n",
       "  </tbody>\n",
       "</table>\n",
       "</div>"
      ],
      "text/plain": [
       "   image_id                          image_name  media_id image_launch_time  \\\n",
       "0     28073                   QMZZ015-横版CHL（口播）        16        2020-12-25   \n",
       "1     28164                             GZDGB10        10        2020-12-27   \n",
       "3     28239                            gzdgBG18        10        2020-12-29   \n",
       "6     28460  GZDGS033-JXC+WZH开荒建造优化版-微信750x1334        16        2020-12-31   \n",
       "7     28681                  GZDGS052-XY 3D仿014        16        2021-01-08   \n",
       "\n",
       "   image_source_total_num  image_run_date_amount  image_create_role_pay_num  \\\n",
       "0                   377.0                 -0.067                     -0.361   \n",
       "1                    25.0                  0.903                     -0.361   \n",
       "3                   827.0                  0.348                      0.666   \n",
       "6                   300.0                  0.348                      0.666   \n",
       "7                   100.0                  0.172                     -0.361   \n",
       "\n",
       "   image_create_role_num  image_create_role_pay_sum  image_source_num  \\\n",
       "0                  0.044                      0.799            -0.684   \n",
       "1                  1.148                      0.799            -0.179   \n",
       "3                  0.044                      0.799            -0.684   \n",
       "6                  0.423                      0.799             0.083   \n",
       "7                  0.044                     -1.593             0.083   \n",
       "\n",
       "   image_create_role_pay_rate  image_create_role_cost  \\\n",
       "0                      -0.643                   0.332   \n",
       "1                      -0.568                   0.332   \n",
       "3                       1.152                  -0.264   \n",
       "6                       1.152                   0.090   \n",
       "7                      -0.425                  -0.264   \n",
       "\n",
       "   image_create_role_pay_cost  image_valid_source_rate  image_create_role_roi  \\\n",
       "0                      -0.239                      0.0                  0.785   \n",
       "1                      -0.631                      0.0                  0.785   \n",
       "3                       1.146                      0.0                  0.785   \n",
       "6                       1.146                      0.0                  0.785   \n",
       "7                      -0.510                      0.0                 -2.194   \n",
       "\n",
       "   image_create_role_retain_1d  create_role_30_pay_sum model_run_datetime  \\\n",
       "0                        1.857                     6.0         2021-05-01   \n",
       "1                       -0.477                    12.0         2021-05-01   \n",
       "3                       -0.477                  1688.0         2021-05-01   \n",
       "6                       -0.009                     0.0         2021-05-01   \n",
       "7                       -0.009                 15879.0         2021-05-01   \n",
       "\n",
       "   label  \n",
       "0      0  \n",
       "1      0  \n",
       "3      1  \n",
       "6      0  \n",
       "7      1  "
      ]
     },
     "execution_count": 76,
     "metadata": {},
     "output_type": "execute_result"
    }
   ],
   "source": [
    "image_info_change.head()"
   ]
  },
  {
   "cell_type": "code",
   "execution_count": 77,
   "metadata": {
    "scrolled": true
   },
   "outputs": [],
   "source": [
    "feature = image_info_change[select_feature].drop('label',axis=1)\n",
    "image_info_change['pred'] = 0.4* best_est_XGB.predict_proba(feature)[:,1] + 0.3*best_est_LGB.predict_proba(feature)[:,1] + 0.3*best_est_RF.predict_proba(feature)[:,1]"
   ]
  },
  {
   "cell_type": "code",
   "execution_count": 78,
   "metadata": {},
   "outputs": [
    {
     "data": {
      "text/plain": [
       "(57161, 20)"
      ]
     },
     "execution_count": 78,
     "metadata": {},
     "output_type": "execute_result"
    }
   ],
   "source": [
    "image_info_change.shape"
   ]
  },
  {
   "cell_type": "code",
   "execution_count": 79,
   "metadata": {},
   "outputs": [
    {
     "data": {
      "text/html": [
       "<div>\n",
       "<style scoped>\n",
       "    .dataframe tbody tr th:only-of-type {\n",
       "        vertical-align: middle;\n",
       "    }\n",
       "\n",
       "    .dataframe tbody tr th {\n",
       "        vertical-align: top;\n",
       "    }\n",
       "\n",
       "    .dataframe thead th {\n",
       "        text-align: right;\n",
       "    }\n",
       "</style>\n",
       "<table border=\"1\" class=\"dataframe\">\n",
       "  <thead>\n",
       "    <tr style=\"text-align: right;\">\n",
       "      <th></th>\n",
       "      <th>image_id</th>\n",
       "      <th>image_name</th>\n",
       "      <th>media_id</th>\n",
       "      <th>image_launch_time</th>\n",
       "      <th>image_source_total_num</th>\n",
       "      <th>image_run_date_amount</th>\n",
       "      <th>image_create_role_pay_num</th>\n",
       "      <th>image_create_role_num</th>\n",
       "      <th>image_create_role_pay_sum</th>\n",
       "      <th>image_source_num</th>\n",
       "      <th>image_create_role_pay_rate</th>\n",
       "      <th>image_create_role_cost</th>\n",
       "      <th>image_create_role_pay_cost</th>\n",
       "      <th>image_valid_source_rate</th>\n",
       "      <th>image_create_role_roi</th>\n",
       "      <th>image_create_role_retain_1d</th>\n",
       "      <th>create_role_30_pay_sum</th>\n",
       "      <th>model_run_datetime</th>\n",
       "      <th>label</th>\n",
       "      <th>pred</th>\n",
       "    </tr>\n",
       "  </thead>\n",
       "  <tbody>\n",
       "    <tr>\n",
       "      <th>0</th>\n",
       "      <td>28073</td>\n",
       "      <td>QMZZ015-横版CHL（口播）</td>\n",
       "      <td>16</td>\n",
       "      <td>2020-12-25</td>\n",
       "      <td>377.0</td>\n",
       "      <td>-0.067</td>\n",
       "      <td>-0.361</td>\n",
       "      <td>0.044</td>\n",
       "      <td>0.799</td>\n",
       "      <td>-0.684</td>\n",
       "      <td>-0.643</td>\n",
       "      <td>0.332</td>\n",
       "      <td>-0.239</td>\n",
       "      <td>0.0</td>\n",
       "      <td>0.785</td>\n",
       "      <td>1.857</td>\n",
       "      <td>6.0</td>\n",
       "      <td>2021-05-01</td>\n",
       "      <td>0</td>\n",
       "      <td>0.114953</td>\n",
       "    </tr>\n",
       "    <tr>\n",
       "      <th>1</th>\n",
       "      <td>28164</td>\n",
       "      <td>GZDGB10</td>\n",
       "      <td>10</td>\n",
       "      <td>2020-12-27</td>\n",
       "      <td>25.0</td>\n",
       "      <td>0.903</td>\n",
       "      <td>-0.361</td>\n",
       "      <td>1.148</td>\n",
       "      <td>0.799</td>\n",
       "      <td>-0.179</td>\n",
       "      <td>-0.568</td>\n",
       "      <td>0.332</td>\n",
       "      <td>-0.631</td>\n",
       "      <td>0.0</td>\n",
       "      <td>0.785</td>\n",
       "      <td>-0.477</td>\n",
       "      <td>12.0</td>\n",
       "      <td>2021-05-01</td>\n",
       "      <td>0</td>\n",
       "      <td>0.093650</td>\n",
       "    </tr>\n",
       "    <tr>\n",
       "      <th>3</th>\n",
       "      <td>28239</td>\n",
       "      <td>gzdgBG18</td>\n",
       "      <td>10</td>\n",
       "      <td>2020-12-29</td>\n",
       "      <td>827.0</td>\n",
       "      <td>0.348</td>\n",
       "      <td>0.666</td>\n",
       "      <td>0.044</td>\n",
       "      <td>0.799</td>\n",
       "      <td>-0.684</td>\n",
       "      <td>1.152</td>\n",
       "      <td>-0.264</td>\n",
       "      <td>1.146</td>\n",
       "      <td>0.0</td>\n",
       "      <td>0.785</td>\n",
       "      <td>-0.477</td>\n",
       "      <td>1688.0</td>\n",
       "      <td>2021-05-01</td>\n",
       "      <td>1</td>\n",
       "      <td>0.086754</td>\n",
       "    </tr>\n",
       "    <tr>\n",
       "      <th>6</th>\n",
       "      <td>28460</td>\n",
       "      <td>GZDGS033-JXC+WZH开荒建造优化版-微信750x1334</td>\n",
       "      <td>16</td>\n",
       "      <td>2020-12-31</td>\n",
       "      <td>300.0</td>\n",
       "      <td>0.348</td>\n",
       "      <td>0.666</td>\n",
       "      <td>0.423</td>\n",
       "      <td>0.799</td>\n",
       "      <td>0.083</td>\n",
       "      <td>1.152</td>\n",
       "      <td>0.090</td>\n",
       "      <td>1.146</td>\n",
       "      <td>0.0</td>\n",
       "      <td>0.785</td>\n",
       "      <td>-0.009</td>\n",
       "      <td>0.0</td>\n",
       "      <td>2021-05-01</td>\n",
       "      <td>0</td>\n",
       "      <td>0.060277</td>\n",
       "    </tr>\n",
       "    <tr>\n",
       "      <th>7</th>\n",
       "      <td>28681</td>\n",
       "      <td>GZDGS052-XY 3D仿014</td>\n",
       "      <td>16</td>\n",
       "      <td>2021-01-08</td>\n",
       "      <td>100.0</td>\n",
       "      <td>0.172</td>\n",
       "      <td>-0.361</td>\n",
       "      <td>0.044</td>\n",
       "      <td>-1.593</td>\n",
       "      <td>0.083</td>\n",
       "      <td>-0.425</td>\n",
       "      <td>-0.264</td>\n",
       "      <td>-0.510</td>\n",
       "      <td>0.0</td>\n",
       "      <td>-2.194</td>\n",
       "      <td>-0.009</td>\n",
       "      <td>15879.0</td>\n",
       "      <td>2021-05-01</td>\n",
       "      <td>1</td>\n",
       "      <td>0.746231</td>\n",
       "    </tr>\n",
       "  </tbody>\n",
       "</table>\n",
       "</div>"
      ],
      "text/plain": [
       "   image_id                          image_name  media_id image_launch_time  \\\n",
       "0     28073                   QMZZ015-横版CHL（口播）        16        2020-12-25   \n",
       "1     28164                             GZDGB10        10        2020-12-27   \n",
       "3     28239                            gzdgBG18        10        2020-12-29   \n",
       "6     28460  GZDGS033-JXC+WZH开荒建造优化版-微信750x1334        16        2020-12-31   \n",
       "7     28681                  GZDGS052-XY 3D仿014        16        2021-01-08   \n",
       "\n",
       "   image_source_total_num  image_run_date_amount  image_create_role_pay_num  \\\n",
       "0                   377.0                 -0.067                     -0.361   \n",
       "1                    25.0                  0.903                     -0.361   \n",
       "3                   827.0                  0.348                      0.666   \n",
       "6                   300.0                  0.348                      0.666   \n",
       "7                   100.0                  0.172                     -0.361   \n",
       "\n",
       "   image_create_role_num  image_create_role_pay_sum  image_source_num  \\\n",
       "0                  0.044                      0.799            -0.684   \n",
       "1                  1.148                      0.799            -0.179   \n",
       "3                  0.044                      0.799            -0.684   \n",
       "6                  0.423                      0.799             0.083   \n",
       "7                  0.044                     -1.593             0.083   \n",
       "\n",
       "   image_create_role_pay_rate  image_create_role_cost  \\\n",
       "0                      -0.643                   0.332   \n",
       "1                      -0.568                   0.332   \n",
       "3                       1.152                  -0.264   \n",
       "6                       1.152                   0.090   \n",
       "7                      -0.425                  -0.264   \n",
       "\n",
       "   image_create_role_pay_cost  image_valid_source_rate  image_create_role_roi  \\\n",
       "0                      -0.239                      0.0                  0.785   \n",
       "1                      -0.631                      0.0                  0.785   \n",
       "3                       1.146                      0.0                  0.785   \n",
       "6                       1.146                      0.0                  0.785   \n",
       "7                      -0.510                      0.0                 -2.194   \n",
       "\n",
       "   image_create_role_retain_1d  create_role_30_pay_sum model_run_datetime  \\\n",
       "0                        1.857                     6.0         2021-05-01   \n",
       "1                       -0.477                    12.0         2021-05-01   \n",
       "3                       -0.477                  1688.0         2021-05-01   \n",
       "6                       -0.009                     0.0         2021-05-01   \n",
       "7                       -0.009                 15879.0         2021-05-01   \n",
       "\n",
       "   label      pred  \n",
       "0      0  0.114953  \n",
       "1      0  0.093650  \n",
       "3      1  0.086754  \n",
       "6      0  0.060277  \n",
       "7      1  0.746231  "
      ]
     },
     "execution_count": 79,
     "metadata": {},
     "output_type": "execute_result"
    }
   ],
   "source": [
    "image_info_change.head()"
   ]
  },
  {
   "cell_type": "code",
   "execution_count": 80,
   "metadata": {},
   "outputs": [],
   "source": [
    "image_info_change.to_csv('./image_info_change.csv',index=0)"
   ]
  },
  {
   "cell_type": "code",
   "execution_count": 101,
   "metadata": {},
   "outputs": [],
   "source": [
    "image_info_label.to_csv('./image_info_label.csv',index=0)"
   ]
  },
  {
   "cell_type": "code",
   "execution_count": 82,
   "metadata": {},
   "outputs": [
    {
     "data": {
      "image/png": "[encoded data removed]",
      "text/plain": [
       "<Figure size 720x576 with 1 Axes>"
      ]
     },
     "metadata": {
      "needs_background": "light"
     },
     "output_type": "display_data"
    }
   ],
   "source": [
    "fpr,tpr,_ = roc_curve(image_info_change['label'], image_info_change['pred'])\n",
    "roc_auc = auc(fpr, tpr)\n",
    "plt.figure(figsize=(10,8))\n",
    "plt.title('Receiver Operating Characteristic')\n",
    "sns.lineplot(fpr, tpr, label = 'AUC = %0.2f' % roc_auc)\n",
    "plt.legend(loc = 'lower right')\n",
    "plt.plot([0, 1], [0, 1],'r--')\n",
    "plt.ylabel('True Positive Rate')\n",
    "plt.xlabel('False Positive Rate')\n",
    "plt.show()"
   ]
  },
  {
   "cell_type": "code",
   "execution_count": 83,
   "metadata": {},
   "outputs": [
    {
     "name": "stdout",
     "output_type": "stream",
     "text": [
      "              precision    recall  f1-score   support\n",
      "\n",
      "           0       0.91      0.94      0.93     49133\n",
      "           1       0.54      0.45      0.50      8028\n",
      "\n",
      "    accuracy                           0.87     57161\n",
      "   macro avg       0.73      0.70      0.71     57161\n",
      "weighted avg       0.86      0.87      0.87     57161\n",
      "\n"
     ]
    }
   ],
   "source": [
    "y_pred_class = list(map(lambda x:1 if x>=0.3 else 0, image_info_change['pred']))\n",
    "print(classification_report(image_info_change['label'], y_pred_class))"
   ]
  },
  {
   "cell_type": "code",
   "execution_count": 84,
   "metadata": {},
   "outputs": [],
   "source": [
    "def Prob2Score(prob, basePoint=600, PDO=30):\n",
    "    #将概率转化成分数且为正整数\n",
    "    y = np.log(prob/(1-prob))\n",
    "    return (basePoint+int(PDO/np.log(2)*(y)))"
   ]
  },
  {
   "cell_type": "code",
   "execution_count": 85,
   "metadata": {},
   "outputs": [
    {
     "data": {
      "text/plain": [
       "564"
      ]
     },
     "execution_count": 85,
     "metadata": {},
     "output_type": "execute_result"
    }
   ],
   "source": [
    "Prob2Score(0.3)"
   ]
  },
  {
   "cell_type": "code",
   "execution_count": 86,
   "metadata": {},
   "outputs": [],
   "source": [
    "image_info_change['score'] = image_info_change['pred'].apply(Prob2Score)"
   ]
  },
  {
   "cell_type": "code",
   "execution_count": 87,
   "metadata": {},
   "outputs": [],
   "source": [
    "image_info_label['score'] = image_info_change['score']"
   ]
  },
  {
   "cell_type": "code",
   "execution_count": 88,
   "metadata": {},
   "outputs": [
    {
     "data": {
      "text/html": [
       "<div>\n",
       "<style scoped>\n",
       "    .dataframe tbody tr th:only-of-type {\n",
       "        vertical-align: middle;\n",
       "    }\n",
       "\n",
       "    .dataframe tbody tr th {\n",
       "        vertical-align: top;\n",
       "    }\n",
       "\n",
       "    .dataframe thead th {\n",
       "        text-align: right;\n",
       "    }\n",
       "</style>\n",
       "<table border=\"1\" class=\"dataframe\">\n",
       "  <thead>\n",
       "    <tr style=\"text-align: right;\">\n",
       "      <th></th>\n",
       "      <th>image_id</th>\n",
       "      <th>image_name</th>\n",
       "      <th>media_id</th>\n",
       "      <th>image_launch_time</th>\n",
       "      <th>image_source_total_num</th>\n",
       "      <th>image_run_date_amount</th>\n",
       "      <th>image_create_role_pay_num</th>\n",
       "      <th>image_create_role_num</th>\n",
       "      <th>image_create_role_pay_sum</th>\n",
       "      <th>image_source_num</th>\n",
       "      <th>image_create_role_pay_rate</th>\n",
       "      <th>image_create_role_cost</th>\n",
       "      <th>image_create_role_pay_cost</th>\n",
       "      <th>image_valid_source_rate</th>\n",
       "      <th>image_create_role_roi</th>\n",
       "      <th>image_create_role_retain_1d</th>\n",
       "      <th>create_role_30_pay_sum</th>\n",
       "      <th>model_run_datetime</th>\n",
       "      <th>label</th>\n",
       "      <th>score</th>\n",
       "    </tr>\n",
       "  </thead>\n",
       "  <tbody>\n",
       "    <tr>\n",
       "      <th>0</th>\n",
       "      <td>28073</td>\n",
       "      <td>QMZZ015-横版CHL（口播）</td>\n",
       "      <td>16</td>\n",
       "      <td>2020-12-25</td>\n",
       "      <td>377.0</td>\n",
       "      <td>4914.72</td>\n",
       "      <td>1.0</td>\n",
       "      <td>16.0</td>\n",
       "      <td>6.0</td>\n",
       "      <td>10.0</td>\n",
       "      <td>0.0625</td>\n",
       "      <td>307.170000</td>\n",
       "      <td>4914.72</td>\n",
       "      <td>0.0</td>\n",
       "      <td>0.001221</td>\n",
       "      <td>0.0455</td>\n",
       "      <td>6.0</td>\n",
       "      <td>2021-05-01</td>\n",
       "      <td>0</td>\n",
       "      <td>512</td>\n",
       "    </tr>\n",
       "    <tr>\n",
       "      <th>1</th>\n",
       "      <td>28164</td>\n",
       "      <td>GZDGB10</td>\n",
       "      <td>10</td>\n",
       "      <td>2020-12-27</td>\n",
       "      <td>25.0</td>\n",
       "      <td>647.31</td>\n",
       "      <td>1.0</td>\n",
       "      <td>2.0</td>\n",
       "      <td>6.0</td>\n",
       "      <td>8.0</td>\n",
       "      <td>0.5000</td>\n",
       "      <td>323.655000</td>\n",
       "      <td>647.31</td>\n",
       "      <td>0.0</td>\n",
       "      <td>0.009269</td>\n",
       "      <td>0.2727</td>\n",
       "      <td>12.0</td>\n",
       "      <td>2021-05-01</td>\n",
       "      <td>0</td>\n",
       "      <td>502</td>\n",
       "    </tr>\n",
       "    <tr>\n",
       "      <th>3</th>\n",
       "      <td>28239</td>\n",
       "      <td>gzdgBG18</td>\n",
       "      <td>10</td>\n",
       "      <td>2020-12-29</td>\n",
       "      <td>827.0</td>\n",
       "      <td>2594.60</td>\n",
       "      <td>0.0</td>\n",
       "      <td>17.0</td>\n",
       "      <td>0.0</td>\n",
       "      <td>16.0</td>\n",
       "      <td>0.0000</td>\n",
       "      <td>152.623529</td>\n",
       "      <td>inf</td>\n",
       "      <td>0.0</td>\n",
       "      <td>0.000000</td>\n",
       "      <td>0.2321</td>\n",
       "      <td>1688.0</td>\n",
       "      <td>2021-05-01</td>\n",
       "      <td>1</td>\n",
       "      <td>499</td>\n",
       "    </tr>\n",
       "    <tr>\n",
       "      <th>6</th>\n",
       "      <td>28460</td>\n",
       "      <td>GZDGS033-JXC+WZH开荒建造优化版-微信750x1334</td>\n",
       "      <td>16</td>\n",
       "      <td>2020-12-31</td>\n",
       "      <td>300.0</td>\n",
       "      <td>2426.12</td>\n",
       "      <td>0.0</td>\n",
       "      <td>10.0</td>\n",
       "      <td>0.0</td>\n",
       "      <td>4.0</td>\n",
       "      <td>0.0000</td>\n",
       "      <td>242.612000</td>\n",
       "      <td>inf</td>\n",
       "      <td>0.0</td>\n",
       "      <td>0.000000</td>\n",
       "      <td>0.1429</td>\n",
       "      <td>0.0</td>\n",
       "      <td>2021-05-01</td>\n",
       "      <td>0</td>\n",
       "      <td>482</td>\n",
       "    </tr>\n",
       "    <tr>\n",
       "      <th>7</th>\n",
       "      <td>28681</td>\n",
       "      <td>GZDGS052-XY 3D仿014</td>\n",
       "      <td>16</td>\n",
       "      <td>2021-01-08</td>\n",
       "      <td>100.0</td>\n",
       "      <td>3863.63</td>\n",
       "      <td>1.0</td>\n",
       "      <td>21.0</td>\n",
       "      <td>866.0</td>\n",
       "      <td>5.0</td>\n",
       "      <td>0.0476</td>\n",
       "      <td>183.982381</td>\n",
       "      <td>3863.63</td>\n",
       "      <td>0.0</td>\n",
       "      <td>0.224142</td>\n",
       "      <td>0.1892</td>\n",
       "      <td>15879.0</td>\n",
       "      <td>2021-05-01</td>\n",
       "      <td>1</td>\n",
       "      <td>646</td>\n",
       "    </tr>\n",
       "  </tbody>\n",
       "</table>\n",
       "</div>"
      ],
      "text/plain": [
       "   image_id                          image_name  media_id image_launch_time  \\\n",
       "0     28073                   QMZZ015-横版CHL（口播）        16        2020-12-25   \n",
       "1     28164                             GZDGB10        10        2020-12-27   \n",
       "3     28239                            gzdgBG18        10        2020-12-29   \n",
       "6     28460  GZDGS033-JXC+WZH开荒建造优化版-微信750x1334        16        2020-12-31   \n",
       "7     28681                  GZDGS052-XY 3D仿014        16        2021-01-08   \n",
       "\n",
       "   image_source_total_num  image_run_date_amount  image_create_role_pay_num  \\\n",
       "0                   377.0                4914.72                        1.0   \n",
       "1                    25.0                 647.31                        1.0   \n",
       "3                   827.0                2594.60                        0.0   \n",
       "6                   300.0                2426.12                        0.0   \n",
       "7                   100.0                3863.63                        1.0   \n",
       "\n",
       "   image_create_role_num  image_create_role_pay_sum  image_source_num  \\\n",
       "0                   16.0                        6.0              10.0   \n",
       "1                    2.0                        6.0               8.0   \n",
       "3                   17.0                        0.0              16.0   \n",
       "6                   10.0                        0.0               4.0   \n",
       "7                   21.0                      866.0               5.0   \n",
       "\n",
       "   image_create_role_pay_rate  image_create_role_cost  \\\n",
       "0                      0.0625              307.170000   \n",
       "1                      0.5000              323.655000   \n",
       "3                      0.0000              152.623529   \n",
       "6                      0.0000              242.612000   \n",
       "7                      0.0476              183.982381   \n",
       "\n",
       "   image_create_role_pay_cost  image_valid_source_rate  image_create_role_roi  \\\n",
       "0                     4914.72                      0.0               0.001221   \n",
       "1                      647.31                      0.0               0.009269   \n",
       "3                         inf                      0.0               0.000000   \n",
       "6                         inf                      0.0               0.000000   \n",
       "7                     3863.63                      0.0               0.224142   \n",
       "\n",
       "   image_create_role_retain_1d  create_role_30_pay_sum model_run_datetime  \\\n",
       "0                       0.0455                     6.0         2021-05-01   \n",
       "1                       0.2727                    12.0         2021-05-01   \n",
       "3                       0.2321                  1688.0         2021-05-01   \n",
       "6                       0.1429                     0.0         2021-05-01   \n",
       "7                       0.1892                 15879.0         2021-05-01   \n",
       "\n",
       "   label  score  \n",
       "0      0    512  \n",
       "1      0    502  \n",
       "3      1    499  \n",
       "6      0    482  \n",
       "7      1    646  "
      ]
     },
     "execution_count": 88,
     "metadata": {},
     "output_type": "execute_result"
    }
   ],
   "source": [
    "image_info_label.head()"
   ]
  },
  {
   "cell_type": "code",
   "execution_count": 89,
   "metadata": {},
   "outputs": [
    {
     "data": {
      "image/png": "[encoded data removed]",
      "text/plain": [
       "<Figure size 432x288 with 1 Axes>"
      ]
     },
     "metadata": {
      "needs_background": "light"
     },
     "output_type": "display_data"
    }
   ],
   "source": [
    "box0 = image_info_label[image_info_label['label']==0]['score']\n",
    "box1 = image_info_label[image_info_label['label']==1]['score']\n",
    "plt.title('score for different box',fontsize=15)\n",
    "labels = 'box0','box1'\n",
    "plt.boxplot([box0,box1],labels=labels)\n",
    "plt.show()"
   ]
  },
  {
   "cell_type": "code",
   "execution_count": 90,
   "metadata": {},
   "outputs": [
    {
     "data": {
      "image/png": "[encoded data removed]",
      "text/plain": [
       "<Figure size 432x288 with 1 Axes>"
      ]
     },
     "metadata": {
      "needs_background": "light"
     },
     "output_type": "display_data"
    }
   ],
   "source": [
    "sns.distplot(image_info_label['score'])\n",
    "plt.show()"
   ]
  },
  {
   "cell_type": "code",
   "execution_count": 91,
   "metadata": {},
   "outputs": [
    {
     "data": {
      "text/plain": [
       "0.8648744401872361"
      ]
     },
     "execution_count": 91,
     "metadata": {},
     "output_type": "execute_result"
    }
   ],
   "source": [
    "image_info_label[image_info_label['score']>=600]['create_role_30_pay_sum'].sum() / image_info_label[image_info_label['score']>=600]['image_run_date_amount'].sum()"
   ]
  },
  {
   "cell_type": "code",
   "execution_count": 92,
   "metadata": {},
   "outputs": [
    {
     "data": {
      "text/plain": [
       "0.2694751282926579"
      ]
     },
     "execution_count": 92,
     "metadata": {},
     "output_type": "execute_result"
    }
   ],
   "source": [
    "image_info_label[image_info_label['score']<600]['create_role_30_pay_sum'].sum() / image_info_label[image_info_label['score']<600]['image_run_date_amount'].sum()"
   ]
  },
  {
   "cell_type": "code",
   "execution_count": 93,
   "metadata": {},
   "outputs": [
    {
     "data": {
      "text/plain": [
       "168952095.0"
      ]
     },
     "execution_count": 93,
     "metadata": {},
     "output_type": "execute_result"
    }
   ],
   "source": [
    "image_info_label['create_role_30_pay_sum'].sum()"
   ]
  },
  {
   "cell_type": "code",
   "execution_count": 94,
   "metadata": {},
   "outputs": [
    {
     "data": {
      "text/plain": [
       "99791615.0"
      ]
     },
     "execution_count": 94,
     "metadata": {},
     "output_type": "execute_result"
    }
   ],
   "source": [
    "image_info_label[image_info_label['score']<600]['create_role_30_pay_sum'].sum()"
   ]
  },
  {
   "cell_type": "code",
   "execution_count": 95,
   "metadata": {},
   "outputs": [
    {
     "data": {
      "text/plain": [
       "0.375211981494767"
      ]
     },
     "execution_count": 95,
     "metadata": {},
     "output_type": "execute_result"
    }
   ],
   "source": [
    "image_info_label['create_role_30_pay_sum'].sum() / image_info_label['image_run_date_amount'].sum()"
   ]
  },
  {
   "cell_type": "code",
   "execution_count": 96,
   "metadata": {},
   "outputs": [
    {
     "data": {
      "text/plain": [
       "0.1775898142469316"
      ]
     },
     "execution_count": 96,
     "metadata": {},
     "output_type": "execute_result"
    }
   ],
   "source": [
    "image_info_label[image_info_label['score']>=600]['image_run_date_amount'].sum() / image_info_label['image_run_date_amount'].sum()"
   ]
  },
  {
   "cell_type": "code",
   "execution_count": null,
   "metadata": {},
   "outputs": [],
   "source": []
  },
  {
   "cell_type": "code",
   "execution_count": null,
   "metadata": {},
   "outputs": [],
   "source": []
  },
  {
   "cell_type": "code",
   "execution_count": 97,
   "metadata": {},
   "outputs": [
    {
     "data": {
      "text/plain": [
       "0.05275160742531236"
      ]
     },
     "execution_count": 97,
     "metadata": {},
     "output_type": "execute_result"
    }
   ],
   "source": [
    "image_info_label[image_info_label['score']>=660]['image_run_date_amount'].sum() / image_info_label['image_run_date_amount'].sum()"
   ]
  },
  {
   "cell_type": "code",
   "execution_count": 98,
   "metadata": {},
   "outputs": [
    {
     "name": "stdout",
     "output_type": "stream",
     "text": [
      "高分区ROI： 1.2219756305831333\n",
      "低分区ROI： 0.3280562998922642\n"
     ]
    }
   ],
   "source": [
    "print('高分区ROI：',image_info_label[image_info_label['score']>=660]['create_role_30_pay_sum'].sum() / image_info_label[image_info_label['score']>=660]['image_run_date_amount'].sum())\n",
    "print('低分区ROI：',image_info_label[image_info_label['score']<660]['create_role_30_pay_sum'].sum() / image_info_label[image_info_label['score']<660]['image_run_date_amount'].sum())"
   ]
  },
  {
   "cell_type": "code",
   "execution_count": 99,
   "metadata": {},
   "outputs": [
    {
     "name": "stdout",
     "output_type": "stream",
     "text": [
      "高分区ROI： 0.5883450683454893\n",
      "低分区ROI： 0.2059242364404389\n"
     ]
    }
   ],
   "source": [
    "print('高分区ROI：',image_info_label[image_info_label['score']>=560]['create_role_30_pay_sum'].sum() / image_info_label[image_info_label['score']>=560]['image_run_date_amount'].sum())\n",
    "print('低分区ROI：',image_info_label[image_info_label['score']<560]['create_role_30_pay_sum'].sum() / image_info_label[image_info_label['score']<560]['image_run_date_amount'].sum())"
   ]
  },
  {
   "cell_type": "code",
   "execution_count": 100,
   "metadata": {
    "scrolled": true
   },
   "outputs": [
    {
     "data": {
      "text/plain": [
       "image_create_role_cost        -0.291077\n",
       "image_create_role_pay_cost    -0.182248\n",
       "media_id                      -0.017830\n",
       "image_create_role_retain_1d    0.100789\n",
       "image_source_total_num         0.235196\n",
       "image_valid_source_rate        0.283008\n",
       "image_source_num               0.364082\n",
       "image_create_role_pay_rate     0.365761\n",
       "image_create_role_num          0.379215\n",
       "image_create_role_roi          0.445222\n",
       "image_run_date_amount          0.472282\n",
       "image_create_role_pay_num      0.495571\n",
       "image_create_role_pay_sum      0.574909\n",
       "score                          1.000000\n",
       "Name: score, dtype: float64"
      ]
     },
     "execution_count": 100,
     "metadata": {},
     "output_type": "execute_result"
    }
   ],
   "source": [
    "image_info_label.drop(['image_id','create_role_30_pay_sum','label'],axis=1).corr()['score'].sort_values()"
   ]
  },
  {
   "cell_type": "markdown",
   "metadata": {},
   "source": [
    "### Test"
   ]
  },
  {
   "cell_type": "code",
   "execution_count": 986,
   "metadata": {},
   "outputs": [],
   "source": [
    "test = pd.read_csv('./test_data.csv')"
   ]
  },
  {
   "cell_type": "code",
   "execution_count": 987,
   "metadata": {},
   "outputs": [
    {
     "data": {
      "text/html": [
       "<div>\n",
       "<style scoped>\n",
       "    .dataframe tbody tr th:only-of-type {\n",
       "        vertical-align: middle;\n",
       "    }\n",
       "\n",
       "    .dataframe tbody tr th {\n",
       "        vertical-align: top;\n",
       "    }\n",
       "\n",
       "    .dataframe thead th {\n",
       "        text-align: right;\n",
       "    }\n",
       "</style>\n",
       "<table border=\"1\" class=\"dataframe\">\n",
       "  <thead>\n",
       "    <tr style=\"text-align: right;\">\n",
       "      <th></th>\n",
       "      <th>image_id</th>\n",
       "      <th>image_name</th>\n",
       "      <th>media_id</th>\n",
       "      <th>image_launch_time</th>\n",
       "      <th>image_source_total_num</th>\n",
       "      <th>image_run_date_amount</th>\n",
       "      <th>image_create_role_pay_num</th>\n",
       "      <th>image_create_role_num</th>\n",
       "      <th>image_create_role_pay_sum</th>\n",
       "      <th>image_source_num</th>\n",
       "      <th>image_create_role_pay_rate</th>\n",
       "      <th>image_create_role_cost</th>\n",
       "      <th>image_create_role_pay_cost</th>\n",
       "      <th>image_valid_source_num</th>\n",
       "      <th>image_valid_source_rate</th>\n",
       "      <th>image_pay_sum_ability</th>\n",
       "      <th>image_pay_num_ability</th>\n",
       "      <th>image_create_role_roi</th>\n",
       "      <th>image_create_role_retain_1d</th>\n",
       "      <th>create_role_30_pay_sum</th>\n",
       "      <th>model_run_datetime</th>\n",
       "      <th>data_win</th>\n",
       "    </tr>\n",
       "  </thead>\n",
       "  <tbody>\n",
       "    <tr>\n",
       "      <th>0</th>\n",
       "      <td>27955</td>\n",
       "      <td>QMZT004-CHL</td>\n",
       "      <td>16</td>\n",
       "      <td>2020-12-30</td>\n",
       "      <td>68</td>\n",
       "      <td>4129.26</td>\n",
       "      <td>0.0</td>\n",
       "      <td>19.0</td>\n",
       "      <td>0.0</td>\n",
       "      <td>5</td>\n",
       "      <td>0.0000</td>\n",
       "      <td>217.329474</td>\n",
       "      <td>0.00</td>\n",
       "      <td>0.0</td>\n",
       "      <td>0.0</td>\n",
       "      <td>0.0</td>\n",
       "      <td>0.0</td>\n",
       "      <td>0.000000</td>\n",
       "      <td>0.1200</td>\n",
       "      <td>21310.0</td>\n",
       "      <td>2021-03-06</td>\n",
       "      <td>3</td>\n",
       "    </tr>\n",
       "    <tr>\n",
       "      <th>1</th>\n",
       "      <td>28049</td>\n",
       "      <td>QMZZ003-横版xy-640x360 ＜100mb 30s</td>\n",
       "      <td>10</td>\n",
       "      <td>2020-12-25</td>\n",
       "      <td>35</td>\n",
       "      <td>2027.80</td>\n",
       "      <td>0.0</td>\n",
       "      <td>9.0</td>\n",
       "      <td>0.0</td>\n",
       "      <td>1</td>\n",
       "      <td>0.0000</td>\n",
       "      <td>225.311111</td>\n",
       "      <td>0.00</td>\n",
       "      <td>0.0</td>\n",
       "      <td>0.0</td>\n",
       "      <td>0.0</td>\n",
       "      <td>0.0</td>\n",
       "      <td>0.000000</td>\n",
       "      <td>0.0000</td>\n",
       "      <td>0.0</td>\n",
       "      <td>2021-03-06</td>\n",
       "      <td>3</td>\n",
       "    </tr>\n",
       "    <tr>\n",
       "      <th>2</th>\n",
       "      <td>28054</td>\n",
       "      <td>QMZZ007-竖版LL</td>\n",
       "      <td>10</td>\n",
       "      <td>2020-12-26</td>\n",
       "      <td>29</td>\n",
       "      <td>505.42</td>\n",
       "      <td>1.0</td>\n",
       "      <td>3.0</td>\n",
       "      <td>6.0</td>\n",
       "      <td>1</td>\n",
       "      <td>0.3333</td>\n",
       "      <td>168.473333</td>\n",
       "      <td>505.42</td>\n",
       "      <td>1.0</td>\n",
       "      <td>1.0</td>\n",
       "      <td>6.0</td>\n",
       "      <td>1.0</td>\n",
       "      <td>0.011871</td>\n",
       "      <td>0.3333</td>\n",
       "      <td>24.0</td>\n",
       "      <td>2021-03-06</td>\n",
       "      <td>3</td>\n",
       "    </tr>\n",
       "    <tr>\n",
       "      <th>3</th>\n",
       "      <td>28061</td>\n",
       "      <td>QMZZ012-竖版ZDC</td>\n",
       "      <td>10</td>\n",
       "      <td>2020-12-26</td>\n",
       "      <td>110</td>\n",
       "      <td>3373.11</td>\n",
       "      <td>1.0</td>\n",
       "      <td>22.0</td>\n",
       "      <td>6.0</td>\n",
       "      <td>3</td>\n",
       "      <td>0.0455</td>\n",
       "      <td>153.323182</td>\n",
       "      <td>3373.11</td>\n",
       "      <td>0.0</td>\n",
       "      <td>0.0</td>\n",
       "      <td>0.0</td>\n",
       "      <td>0.0</td>\n",
       "      <td>0.001779</td>\n",
       "      <td>0.1556</td>\n",
       "      <td>917.0</td>\n",
       "      <td>2021-03-06</td>\n",
       "      <td>3</td>\n",
       "    </tr>\n",
       "    <tr>\n",
       "      <th>4</th>\n",
       "      <td>28073</td>\n",
       "      <td>QMZZ015-横版CHL（口播）</td>\n",
       "      <td>10</td>\n",
       "      <td>2020-12-25</td>\n",
       "      <td>196</td>\n",
       "      <td>5987.62</td>\n",
       "      <td>1.0</td>\n",
       "      <td>48.0</td>\n",
       "      <td>6.0</td>\n",
       "      <td>4</td>\n",
       "      <td>0.0208</td>\n",
       "      <td>124.742083</td>\n",
       "      <td>5987.62</td>\n",
       "      <td>0.0</td>\n",
       "      <td>0.0</td>\n",
       "      <td>0.0</td>\n",
       "      <td>0.0</td>\n",
       "      <td>0.001002</td>\n",
       "      <td>0.0980</td>\n",
       "      <td>42.0</td>\n",
       "      <td>2021-03-06</td>\n",
       "      <td>3</td>\n",
       "    </tr>\n",
       "  </tbody>\n",
       "</table>\n",
       "</div>"
      ],
      "text/plain": [
       "   image_id                       image_name  media_id image_launch_time  \\\n",
       "0     27955                      QMZT004-CHL        16        2020-12-30   \n",
       "1     28049  QMZZ003-横版xy-640x360 ＜100mb 30s        10        2020-12-25   \n",
       "2     28054                     QMZZ007-竖版LL        10        2020-12-26   \n",
       "3     28061                    QMZZ012-竖版ZDC        10        2020-12-26   \n",
       "4     28073                QMZZ015-横版CHL（口播）        10        2020-12-25   \n",
       "\n",
       "   image_source_total_num  image_run_date_amount  image_create_role_pay_num  \\\n",
       "0                      68                4129.26                        0.0   \n",
       "1                      35                2027.80                        0.0   \n",
       "2                      29                 505.42                        1.0   \n",
       "3                     110                3373.11                        1.0   \n",
       "4                     196                5987.62                        1.0   \n",
       "\n",
       "   image_create_role_num  image_create_role_pay_sum  image_source_num  \\\n",
       "0                   19.0                        0.0                 5   \n",
       "1                    9.0                        0.0                 1   \n",
       "2                    3.0                        6.0                 1   \n",
       "3                   22.0                        6.0                 3   \n",
       "4                   48.0                        6.0                 4   \n",
       "\n",
       "   image_create_role_pay_rate  image_create_role_cost  \\\n",
       "0                      0.0000              217.329474   \n",
       "1                      0.0000              225.311111   \n",
       "2                      0.3333              168.473333   \n",
       "3                      0.0455              153.323182   \n",
       "4                      0.0208              124.742083   \n",
       "\n",
       "   image_create_role_pay_cost  image_valid_source_num  \\\n",
       "0                        0.00                     0.0   \n",
       "1                        0.00                     0.0   \n",
       "2                      505.42                     1.0   \n",
       "3                     3373.11                     0.0   \n",
       "4                     5987.62                     0.0   \n",
       "\n",
       "   image_valid_source_rate  image_pay_sum_ability  image_pay_num_ability  \\\n",
       "0                      0.0                    0.0                    0.0   \n",
       "1                      0.0                    0.0                    0.0   \n",
       "2                      1.0                    6.0                    1.0   \n",
       "3                      0.0                    0.0                    0.0   \n",
       "4                      0.0                    0.0                    0.0   \n",
       "\n",
       "   image_create_role_roi  image_create_role_retain_1d  create_role_30_pay_sum  \\\n",
       "0               0.000000                       0.1200                 21310.0   \n",
       "1               0.000000                       0.0000                     0.0   \n",
       "2               0.011871                       0.3333                    24.0   \n",
       "3               0.001779                       0.1556                   917.0   \n",
       "4               0.001002                       0.0980                    42.0   \n",
       "\n",
       "  model_run_datetime  data_win  \n",
       "0         2021-03-06         3  \n",
       "1         2021-03-06         3  \n",
       "2         2021-03-06         3  \n",
       "3         2021-03-06         3  \n",
       "4         2021-03-06         3  "
      ]
     },
     "execution_count": 987,
     "metadata": {},
     "output_type": "execute_result"
    }
   ],
   "source": [
    "test.head()"
   ]
  },
  {
   "cell_type": "code",
   "execution_count": 988,
   "metadata": {},
   "outputs": [
    {
     "data": {
      "text/plain": [
       "0.34809427673215937"
      ]
     },
     "execution_count": 988,
     "metadata": {},
     "output_type": "execute_result"
    }
   ],
   "source": [
    "test['create_role_30_pay_sum'].sum() / test['image_run_date_amount'].sum()"
   ]
  },
  {
   "cell_type": "code",
   "execution_count": 633,
   "metadata": {},
   "outputs": [
    {
     "data": {
      "text/plain": [
       "(6136, 22)"
      ]
     },
     "execution_count": 633,
     "metadata": {},
     "output_type": "execute_result"
    }
   ],
   "source": [
    "test.shape"
   ]
  },
  {
   "cell_type": "code",
   "execution_count": 634,
   "metadata": {},
   "outputs": [],
   "source": [
    "test_woe = test.copy()"
   ]
  },
  {
   "cell_type": "code",
   "execution_count": 635,
   "metadata": {},
   "outputs": [],
   "source": [
    "def FE(df):\n",
    "    df['image_create_role_cost'].replace(0, float('inf'), inplace=True)\n",
    "    df['image_create_role_pay_cost'].replace(0, float('inf'), inplace=True)\n",
    "    # 分桶定义（根据训练模型给出）\n",
    "    pinf = float('inf')#正无穷大\n",
    "    ninf = float('-inf')#负无穷大\n",
    "    woex1 = [1.332, 1.202, 0.953, 0.845, 0.503, 0.216, 0.031, -0.363, -0.871, -1.702]\n",
    "    woex2 = [0.896, -0.47, -1.078, -1.616, -2.105, -4.266]\n",
    "    woex3 = [1.902, 1.227, 0.873, 0.771, 0.503, 0.215, 0.022, -0.394, -0.862, -1.784]\n",
    "    woex4 = [1.0, -0.098, -0.943, -1.772, -2.692, -3.759, -5.138]\n",
    "    woex5 = [0.552, -0.086, -0.573, -0.865, -1.345, -3.033]\n",
    "    woex6 = [0.691, -0.919, -0.999, -0.956, -0.646]\n",
    "    woex7 = [-0.609, -0.703, -0.521, -0.481, -0.139, 0.059, 0.359, 0.689, 1.315, 1.777]\n",
    "    woex8 = [-1.338, -1.316, -1.277, -0.962, -0.781, -0.609, -0.363, -0.261, -0.112, -0.076, 0.243, 1.219]\n",
    "    woex9 = [0.513, -0.717, -1.43, -1.04, -1.413, -1.256]\n",
    "    woex10 = [0.443, -0.981, -1.658, -2.221, -2.823, -3.33]\n",
    "    cutx1 = [ninf, 746.88, 1110.6, 1610.17, 2257.0, 3238.89, 4665.68, 6944.65, 11197.13, 24364.64, pinf]\n",
    "    cutx2 = [ninf, 1, 3, 8, 12, 50, pinf]\n",
    "    cutx3 = [ninf, 5.0, 9.0, 14.0, 21.0, 31.0, 48.0, 78.0, 138.0, 319.0, pinf]\n",
    "    cutx4 = [ninf, 60, 100, 300, 600, 1000, 4000, pinf]\n",
    "    cutx5 = [ninf, 1, 3, 6, 10, 50, pinf]\n",
    "    cutx6 = [ninf, 0.01, 0.025, 0.05, 0.075, pinf]\n",
    "    cutx7 = [ninf, 50, 100, 150, 200, 300, 400, pinf]\n",
    "    cutx8 = [ninf, 2000, 3000, 4000, 6000, 8000, 10000, pinf]\n",
    "    cutx9 = [ninf, 0.1, 0.2, 0.3, 0.4, 0.6, pinf]\n",
    "    cutx10 = [ninf, 0.1, 0.2, 0.3, 0.4, 0.6, pinf]\n",
    "\n",
    "    \n",
    "    # 数据转化\n",
    "    df['image_run_date_amount'] = change_woe(df['image_run_date_amount'], cutx1, woex1)\n",
    "    df['image_create_role_pay_num'] = change_woe(df['image_create_role_pay_num'], cutx2, woex2)\n",
    "    df['image_create_role_num'] = change_woe(df['image_create_role_num'], cutx3, woex3)\n",
    "    df['image_create_role_pay_sum'] = change_woe(df['image_create_role_pay_sum'], cutx4,woex4)\n",
    "    df['image_source_num'] = change_woe(df['image_source_num'], cutx5, woex5)\n",
    "    df['image_create_role_pay_rate'] = change_woe(df['image_create_role_pay_rate'], cutx6,woex6)\n",
    "    df['image_create_role_cost'] = change_woe(df['image_create_role_cost'], cutx7, woex7)\n",
    "    df['image_create_role_pay_cost'] = change_woe(df['image_create_role_pay_cost'], cutx8,woex8)\n",
    "#     df['image_valid_source_rate'] = change_woe(df['image_valid_source_rate'], cutx9,woex9)\n",
    "#     df['image_pay_sum_ability'] = change_woe(df['image_pay_sum_ability'], cutx10, woex10)\n",
    "#     df['image_pay_num_ability'] = change_woe(df['image_pay_num_ability'], cutx11, woex11)\n",
    "    df['image_create_role_roi'] = change_woe(df['image_create_role_roi'], cutx9, woex9)\n",
    "    df['image_create_role_retain_1d'] = change_woe(df['image_create_role_retain_1d'], cutx10, woex10) \n",
    "\n",
    "    return df"
   ]
  },
  {
   "cell_type": "code",
   "execution_count": 636,
   "metadata": {},
   "outputs": [],
   "source": [
    "test_woe = FE(test_woe)"
   ]
  },
  {
   "cell_type": "code",
   "execution_count": 637,
   "metadata": {},
   "outputs": [
    {
     "data": {
      "text/html": [
       "<div>\n",
       "<style scoped>\n",
       "    .dataframe tbody tr th:only-of-type {\n",
       "        vertical-align: middle;\n",
       "    }\n",
       "\n",
       "    .dataframe tbody tr th {\n",
       "        vertical-align: top;\n",
       "    }\n",
       "\n",
       "    .dataframe thead th {\n",
       "        text-align: right;\n",
       "    }\n",
       "</style>\n",
       "<table border=\"1\" class=\"dataframe\">\n",
       "  <thead>\n",
       "    <tr style=\"text-align: right;\">\n",
       "      <th></th>\n",
       "      <th>image_id</th>\n",
       "      <th>image_name</th>\n",
       "      <th>media_id</th>\n",
       "      <th>image_launch_time</th>\n",
       "      <th>image_source_total_num</th>\n",
       "      <th>image_run_date_amount</th>\n",
       "      <th>image_create_role_pay_num</th>\n",
       "      <th>image_create_role_num</th>\n",
       "      <th>image_create_role_pay_sum</th>\n",
       "      <th>image_source_num</th>\n",
       "      <th>image_create_role_pay_rate</th>\n",
       "      <th>image_create_role_cost</th>\n",
       "      <th>image_create_role_pay_cost</th>\n",
       "      <th>image_valid_source_num</th>\n",
       "      <th>image_valid_source_rate</th>\n",
       "      <th>image_pay_sum_ability</th>\n",
       "      <th>image_pay_num_ability</th>\n",
       "      <th>image_create_role_roi</th>\n",
       "      <th>image_create_role_retain_1d</th>\n",
       "      <th>create_role_30_pay_sum</th>\n",
       "      <th>model_run_datetime</th>\n",
       "      <th>data_win</th>\n",
       "    </tr>\n",
       "  </thead>\n",
       "  <tbody>\n",
       "    <tr>\n",
       "      <th>0</th>\n",
       "      <td>27955</td>\n",
       "      <td>QMZT004-CHL</td>\n",
       "      <td>16</td>\n",
       "      <td>2020-12-30</td>\n",
       "      <td>68</td>\n",
       "      <td>0.216</td>\n",
       "      <td>0.896</td>\n",
       "      <td>0.771</td>\n",
       "      <td>1.0</td>\n",
       "      <td>-0.573</td>\n",
       "      <td>0.691</td>\n",
       "      <td>-0.139</td>\n",
       "      <td>-0.363</td>\n",
       "      <td>0.0</td>\n",
       "      <td>0.0</td>\n",
       "      <td>0.0</td>\n",
       "      <td>0.0</td>\n",
       "      <td>0.513</td>\n",
       "      <td>-0.981</td>\n",
       "      <td>21310.0</td>\n",
       "      <td>2021-03-06</td>\n",
       "      <td>3</td>\n",
       "    </tr>\n",
       "    <tr>\n",
       "      <th>1</th>\n",
       "      <td>28049</td>\n",
       "      <td>QMZZ003-横版xy-640x360 ＜100mb 30s</td>\n",
       "      <td>10</td>\n",
       "      <td>2020-12-25</td>\n",
       "      <td>35</td>\n",
       "      <td>0.845</td>\n",
       "      <td>0.896</td>\n",
       "      <td>0.873</td>\n",
       "      <td>1.0</td>\n",
       "      <td>-0.086</td>\n",
       "      <td>0.691</td>\n",
       "      <td>-0.139</td>\n",
       "      <td>-0.363</td>\n",
       "      <td>0.0</td>\n",
       "      <td>0.0</td>\n",
       "      <td>0.0</td>\n",
       "      <td>0.0</td>\n",
       "      <td>0.513</td>\n",
       "      <td>0.443</td>\n",
       "      <td>0.0</td>\n",
       "      <td>2021-03-06</td>\n",
       "      <td>3</td>\n",
       "    </tr>\n",
       "    <tr>\n",
       "      <th>2</th>\n",
       "      <td>28054</td>\n",
       "      <td>QMZZ007-竖版LL</td>\n",
       "      <td>10</td>\n",
       "      <td>2020-12-26</td>\n",
       "      <td>29</td>\n",
       "      <td>1.332</td>\n",
       "      <td>-0.470</td>\n",
       "      <td>1.902</td>\n",
       "      <td>1.0</td>\n",
       "      <td>-0.086</td>\n",
       "      <td>-0.646</td>\n",
       "      <td>-0.481</td>\n",
       "      <td>-1.338</td>\n",
       "      <td>1.0</td>\n",
       "      <td>1.0</td>\n",
       "      <td>6.0</td>\n",
       "      <td>1.0</td>\n",
       "      <td>0.513</td>\n",
       "      <td>-2.221</td>\n",
       "      <td>24.0</td>\n",
       "      <td>2021-03-06</td>\n",
       "      <td>3</td>\n",
       "    </tr>\n",
       "    <tr>\n",
       "      <th>3</th>\n",
       "      <td>28061</td>\n",
       "      <td>QMZZ012-竖版ZDC</td>\n",
       "      <td>10</td>\n",
       "      <td>2020-12-26</td>\n",
       "      <td>110</td>\n",
       "      <td>0.216</td>\n",
       "      <td>-0.470</td>\n",
       "      <td>0.503</td>\n",
       "      <td>1.0</td>\n",
       "      <td>-0.573</td>\n",
       "      <td>-0.999</td>\n",
       "      <td>-0.481</td>\n",
       "      <td>-1.277</td>\n",
       "      <td>0.0</td>\n",
       "      <td>0.0</td>\n",
       "      <td>0.0</td>\n",
       "      <td>0.0</td>\n",
       "      <td>0.513</td>\n",
       "      <td>-0.981</td>\n",
       "      <td>917.0</td>\n",
       "      <td>2021-03-06</td>\n",
       "      <td>3</td>\n",
       "    </tr>\n",
       "    <tr>\n",
       "      <th>4</th>\n",
       "      <td>28073</td>\n",
       "      <td>QMZZ015-横版CHL（口播）</td>\n",
       "      <td>10</td>\n",
       "      <td>2020-12-25</td>\n",
       "      <td>196</td>\n",
       "      <td>0.031</td>\n",
       "      <td>-0.470</td>\n",
       "      <td>0.022</td>\n",
       "      <td>1.0</td>\n",
       "      <td>-0.573</td>\n",
       "      <td>-0.919</td>\n",
       "      <td>-0.521</td>\n",
       "      <td>-0.962</td>\n",
       "      <td>0.0</td>\n",
       "      <td>0.0</td>\n",
       "      <td>0.0</td>\n",
       "      <td>0.0</td>\n",
       "      <td>0.513</td>\n",
       "      <td>0.443</td>\n",
       "      <td>42.0</td>\n",
       "      <td>2021-03-06</td>\n",
       "      <td>3</td>\n",
       "    </tr>\n",
       "  </tbody>\n",
       "</table>\n",
       "</div>"
      ],
      "text/plain": [
       "   image_id                       image_name  media_id image_launch_time  \\\n",
       "0     27955                      QMZT004-CHL        16        2020-12-30   \n",
       "1     28049  QMZZ003-横版xy-640x360 ＜100mb 30s        10        2020-12-25   \n",
       "2     28054                     QMZZ007-竖版LL        10        2020-12-26   \n",
       "3     28061                    QMZZ012-竖版ZDC        10        2020-12-26   \n",
       "4     28073                QMZZ015-横版CHL（口播）        10        2020-12-25   \n",
       "\n",
       "   image_source_total_num  image_run_date_amount  image_create_role_pay_num  \\\n",
       "0                      68                  0.216                      0.896   \n",
       "1                      35                  0.845                      0.896   \n",
       "2                      29                  1.332                     -0.470   \n",
       "3                     110                  0.216                     -0.470   \n",
       "4                     196                  0.031                     -0.470   \n",
       "\n",
       "   image_create_role_num  image_create_role_pay_sum  image_source_num  \\\n",
       "0                  0.771                        1.0            -0.573   \n",
       "1                  0.873                        1.0            -0.086   \n",
       "2                  1.902                        1.0            -0.086   \n",
       "3                  0.503                        1.0            -0.573   \n",
       "4                  0.022                        1.0            -0.573   \n",
       "\n",
       "   image_create_role_pay_rate  image_create_role_cost  \\\n",
       "0                       0.691                  -0.139   \n",
       "1                       0.691                  -0.139   \n",
       "2                      -0.646                  -0.481   \n",
       "3                      -0.999                  -0.481   \n",
       "4                      -0.919                  -0.521   \n",
       "\n",
       "   image_create_role_pay_cost  image_valid_source_num  \\\n",
       "0                      -0.363                     0.0   \n",
       "1                      -0.363                     0.0   \n",
       "2                      -1.338                     1.0   \n",
       "3                      -1.277                     0.0   \n",
       "4                      -0.962                     0.0   \n",
       "\n",
       "   image_valid_source_rate  image_pay_sum_ability  image_pay_num_ability  \\\n",
       "0                      0.0                    0.0                    0.0   \n",
       "1                      0.0                    0.0                    0.0   \n",
       "2                      1.0                    6.0                    1.0   \n",
       "3                      0.0                    0.0                    0.0   \n",
       "4                      0.0                    0.0                    0.0   \n",
       "\n",
       "   image_create_role_roi  image_create_role_retain_1d  create_role_30_pay_sum  \\\n",
       "0                  0.513                       -0.981                 21310.0   \n",
       "1                  0.513                        0.443                     0.0   \n",
       "2                  0.513                       -2.221                    24.0   \n",
       "3                  0.513                       -0.981                   917.0   \n",
       "4                  0.513                        0.443                    42.0   \n",
       "\n",
       "  model_run_datetime  data_win  \n",
       "0         2021-03-06         3  \n",
       "1         2021-03-06         3  \n",
       "2         2021-03-06         3  \n",
       "3         2021-03-06         3  \n",
       "4         2021-03-06         3  "
      ]
     },
     "execution_count": 637,
     "metadata": {},
     "output_type": "execute_result"
    }
   ],
   "source": [
    "test_woe.head()"
   ]
  },
  {
   "cell_type": "code",
   "execution_count": 638,
   "metadata": {},
   "outputs": [],
   "source": [
    "select_feature = ['image_run_date_amount', 'image_create_role_pay_num',\n",
    "                  'image_create_role_num', 'image_create_role_pay_sum',\n",
    "                  'image_source_num', 'image_create_role_pay_rate',\n",
    "                  'image_create_role_cost', 'image_create_role_pay_cost',\n",
    "                  'image_create_role_roi','image_create_role_retain_1d']\n",
    "\n",
    "\n",
    "feature = test_woe[select_feature]\n",
    "test_woe['pred'] = 0.4 * best_est_XGB.predict_proba(feature)[:, 1] + 0.3 * best_est_LGB.predict_proba(\n",
    "    feature)[:, 1] + 0.3 * best_est_RF.predict_proba(feature)[:, 1]\n",
    "test_woe['score'] = test_woe['pred'].apply(Prob2Score)\n",
    "test['score'] = test_woe['score']"
   ]
  },
  {
   "cell_type": "code",
   "execution_count": 639,
   "metadata": {},
   "outputs": [
    {
     "data": {
      "text/html": [
       "<div>\n",
       "<style scoped>\n",
       "    .dataframe tbody tr th:only-of-type {\n",
       "        vertical-align: middle;\n",
       "    }\n",
       "\n",
       "    .dataframe tbody tr th {\n",
       "        vertical-align: top;\n",
       "    }\n",
       "\n",
       "    .dataframe thead th {\n",
       "        text-align: right;\n",
       "    }\n",
       "</style>\n",
       "<table border=\"1\" class=\"dataframe\">\n",
       "  <thead>\n",
       "    <tr style=\"text-align: right;\">\n",
       "      <th></th>\n",
       "      <th>image_id</th>\n",
       "      <th>image_name</th>\n",
       "      <th>media_id</th>\n",
       "      <th>image_launch_time</th>\n",
       "      <th>image_source_total_num</th>\n",
       "      <th>image_run_date_amount</th>\n",
       "      <th>image_create_role_pay_num</th>\n",
       "      <th>image_create_role_num</th>\n",
       "      <th>image_create_role_pay_sum</th>\n",
       "      <th>image_source_num</th>\n",
       "      <th>image_create_role_pay_rate</th>\n",
       "      <th>image_create_role_cost</th>\n",
       "      <th>image_create_role_pay_cost</th>\n",
       "      <th>image_valid_source_num</th>\n",
       "      <th>image_valid_source_rate</th>\n",
       "      <th>image_pay_sum_ability</th>\n",
       "      <th>image_pay_num_ability</th>\n",
       "      <th>image_create_role_roi</th>\n",
       "      <th>image_create_role_retain_1d</th>\n",
       "      <th>create_role_30_pay_sum</th>\n",
       "      <th>model_run_datetime</th>\n",
       "      <th>data_win</th>\n",
       "      <th>score</th>\n",
       "    </tr>\n",
       "  </thead>\n",
       "  <tbody>\n",
       "    <tr>\n",
       "      <th>879</th>\n",
       "      <td>30522</td>\n",
       "      <td>QMZZ483-横版ZDC</td>\n",
       "      <td>10</td>\n",
       "      <td>2021-03-04</td>\n",
       "      <td>18</td>\n",
       "      <td>11611.57</td>\n",
       "      <td>5.0</td>\n",
       "      <td>56.0</td>\n",
       "      <td>3612.0</td>\n",
       "      <td>9</td>\n",
       "      <td>0.0893</td>\n",
       "      <td>207.349464</td>\n",
       "      <td>2322.314000</td>\n",
       "      <td>9.0</td>\n",
       "      <td>1.0</td>\n",
       "      <td>401.333333</td>\n",
       "      <td>0.5556</td>\n",
       "      <td>0.311069</td>\n",
       "      <td>0.2034</td>\n",
       "      <td>34908.0</td>\n",
       "      <td>2021-03-09</td>\n",
       "      <td>3</td>\n",
       "      <td>712</td>\n",
       "    </tr>\n",
       "    <tr>\n",
       "      <th>5584</th>\n",
       "      <td>30889</td>\n",
       "      <td>GZDGS209-CYS  建造升级 3D</td>\n",
       "      <td>16</td>\n",
       "      <td>2021-03-11</td>\n",
       "      <td>22</td>\n",
       "      <td>5649.29</td>\n",
       "      <td>2.0</td>\n",
       "      <td>16.0</td>\n",
       "      <td>2214.0</td>\n",
       "      <td>5</td>\n",
       "      <td>0.1250</td>\n",
       "      <td>353.080625</td>\n",
       "      <td>2824.645000</td>\n",
       "      <td>0.0</td>\n",
       "      <td>0.0</td>\n",
       "      <td>0.000000</td>\n",
       "      <td>0.0000</td>\n",
       "      <td>0.391908</td>\n",
       "      <td>0.4375</td>\n",
       "      <td>23253.0</td>\n",
       "      <td>2021-03-25</td>\n",
       "      <td>3</td>\n",
       "      <td>709</td>\n",
       "    </tr>\n",
       "    <tr>\n",
       "      <th>5942</th>\n",
       "      <td>30889</td>\n",
       "      <td>GZDGS209-CYS  建造升级 3D</td>\n",
       "      <td>16</td>\n",
       "      <td>2021-03-11</td>\n",
       "      <td>22</td>\n",
       "      <td>5649.29</td>\n",
       "      <td>2.0</td>\n",
       "      <td>16.0</td>\n",
       "      <td>2214.0</td>\n",
       "      <td>5</td>\n",
       "      <td>0.1250</td>\n",
       "      <td>353.080625</td>\n",
       "      <td>2824.645000</td>\n",
       "      <td>0.0</td>\n",
       "      <td>0.0</td>\n",
       "      <td>0.000000</td>\n",
       "      <td>0.0000</td>\n",
       "      <td>0.391908</td>\n",
       "      <td>0.4211</td>\n",
       "      <td>23253.0</td>\n",
       "      <td>2021-03-26</td>\n",
       "      <td>3</td>\n",
       "      <td>709</td>\n",
       "    </tr>\n",
       "    <tr>\n",
       "      <th>4136</th>\n",
       "      <td>30042</td>\n",
       "      <td>QMZZ320-横版LL（TT）</td>\n",
       "      <td>10</td>\n",
       "      <td>2021-02-20</td>\n",
       "      <td>47</td>\n",
       "      <td>25095.04</td>\n",
       "      <td>7.0</td>\n",
       "      <td>155.0</td>\n",
       "      <td>5726.0</td>\n",
       "      <td>4</td>\n",
       "      <td>0.0452</td>\n",
       "      <td>161.903484</td>\n",
       "      <td>3585.005714</td>\n",
       "      <td>0.0</td>\n",
       "      <td>0.0</td>\n",
       "      <td>0.000000</td>\n",
       "      <td>0.0000</td>\n",
       "      <td>0.228173</td>\n",
       "      <td>0.2949</td>\n",
       "      <td>12007.0</td>\n",
       "      <td>2021-03-21</td>\n",
       "      <td>3</td>\n",
       "      <td>708</td>\n",
       "    </tr>\n",
       "    <tr>\n",
       "      <th>3827</th>\n",
       "      <td>30438</td>\n",
       "      <td>GZDGS172-LZQ+XF 解说海岛</td>\n",
       "      <td>10</td>\n",
       "      <td>2021-03-01</td>\n",
       "      <td>348</td>\n",
       "      <td>70845.79</td>\n",
       "      <td>19.0</td>\n",
       "      <td>528.0</td>\n",
       "      <td>7619.0</td>\n",
       "      <td>35</td>\n",
       "      <td>0.0360</td>\n",
       "      <td>134.177633</td>\n",
       "      <td>3728.725789</td>\n",
       "      <td>0.0</td>\n",
       "      <td>0.0</td>\n",
       "      <td>0.000000</td>\n",
       "      <td>0.0000</td>\n",
       "      <td>0.107543</td>\n",
       "      <td>0.1724</td>\n",
       "      <td>25643.0</td>\n",
       "      <td>2021-03-20</td>\n",
       "      <td>3</td>\n",
       "      <td>707</td>\n",
       "    </tr>\n",
       "    <tr>\n",
       "      <th>...</th>\n",
       "      <td>...</td>\n",
       "      <td>...</td>\n",
       "      <td>...</td>\n",
       "      <td>...</td>\n",
       "      <td>...</td>\n",
       "      <td>...</td>\n",
       "      <td>...</td>\n",
       "      <td>...</td>\n",
       "      <td>...</td>\n",
       "      <td>...</td>\n",
       "      <td>...</td>\n",
       "      <td>...</td>\n",
       "      <td>...</td>\n",
       "      <td>...</td>\n",
       "      <td>...</td>\n",
       "      <td>...</td>\n",
       "      <td>...</td>\n",
       "      <td>...</td>\n",
       "      <td>...</td>\n",
       "      <td>...</td>\n",
       "      <td>...</td>\n",
       "      <td>...</td>\n",
       "      <td>...</td>\n",
       "    </tr>\n",
       "    <tr>\n",
       "      <th>4554</th>\n",
       "      <td>30881</td>\n",
       "      <td>QMZZ518-横版LL（3D原创3渲染2）（TT）</td>\n",
       "      <td>16</td>\n",
       "      <td>2021-03-11</td>\n",
       "      <td>53</td>\n",
       "      <td>1190.89</td>\n",
       "      <td>0.0</td>\n",
       "      <td>7.0</td>\n",
       "      <td>0.0</td>\n",
       "      <td>1</td>\n",
       "      <td>0.0000</td>\n",
       "      <td>170.127143</td>\n",
       "      <td>0.000000</td>\n",
       "      <td>0.0</td>\n",
       "      <td>0.0</td>\n",
       "      <td>0.000000</td>\n",
       "      <td>0.0000</td>\n",
       "      <td>0.000000</td>\n",
       "      <td>0.0000</td>\n",
       "      <td>0.0</td>\n",
       "      <td>2021-03-22</td>\n",
       "      <td>3</td>\n",
       "      <td>455</td>\n",
       "    </tr>\n",
       "    <tr>\n",
       "      <th>4221</th>\n",
       "      <td>30881</td>\n",
       "      <td>QMZZ518-横版LL（3D原创3渲染2）（TT）</td>\n",
       "      <td>16</td>\n",
       "      <td>2021-03-11</td>\n",
       "      <td>53</td>\n",
       "      <td>1190.89</td>\n",
       "      <td>0.0</td>\n",
       "      <td>7.0</td>\n",
       "      <td>0.0</td>\n",
       "      <td>1</td>\n",
       "      <td>0.0000</td>\n",
       "      <td>170.127143</td>\n",
       "      <td>0.000000</td>\n",
       "      <td>0.0</td>\n",
       "      <td>0.0</td>\n",
       "      <td>0.000000</td>\n",
       "      <td>0.0000</td>\n",
       "      <td>0.000000</td>\n",
       "      <td>0.0000</td>\n",
       "      <td>0.0</td>\n",
       "      <td>2021-03-21</td>\n",
       "      <td>3</td>\n",
       "      <td>455</td>\n",
       "    </tr>\n",
       "    <tr>\n",
       "      <th>4625</th>\n",
       "      <td>31136</td>\n",
       "      <td>QMZZ575-竖版ZDC</td>\n",
       "      <td>10</td>\n",
       "      <td>2021-03-20</td>\n",
       "      <td>2</td>\n",
       "      <td>1144.05</td>\n",
       "      <td>0.0</td>\n",
       "      <td>7.0</td>\n",
       "      <td>0.0</td>\n",
       "      <td>1</td>\n",
       "      <td>0.0000</td>\n",
       "      <td>163.435714</td>\n",
       "      <td>0.000000</td>\n",
       "      <td>0.0</td>\n",
       "      <td>0.0</td>\n",
       "      <td>0.000000</td>\n",
       "      <td>0.0000</td>\n",
       "      <td>0.000000</td>\n",
       "      <td>0.0000</td>\n",
       "      <td>0.0</td>\n",
       "      <td>2021-03-22</td>\n",
       "      <td>3</td>\n",
       "      <td>455</td>\n",
       "    </tr>\n",
       "    <tr>\n",
       "      <th>4309</th>\n",
       "      <td>31136</td>\n",
       "      <td>QMZZ575-竖版ZDC</td>\n",
       "      <td>10</td>\n",
       "      <td>2021-03-20</td>\n",
       "      <td>2</td>\n",
       "      <td>1144.05</td>\n",
       "      <td>0.0</td>\n",
       "      <td>7.0</td>\n",
       "      <td>0.0</td>\n",
       "      <td>1</td>\n",
       "      <td>0.0000</td>\n",
       "      <td>163.435714</td>\n",
       "      <td>0.000000</td>\n",
       "      <td>0.0</td>\n",
       "      <td>0.0</td>\n",
       "      <td>0.000000</td>\n",
       "      <td>0.0000</td>\n",
       "      <td>0.000000</td>\n",
       "      <td>0.0000</td>\n",
       "      <td>0.0</td>\n",
       "      <td>2021-03-21</td>\n",
       "      <td>3</td>\n",
       "      <td>455</td>\n",
       "    </tr>\n",
       "    <tr>\n",
       "      <th>4885</th>\n",
       "      <td>30881</td>\n",
       "      <td>QMZZ518-横版LL（3D原创3渲染2）（TT）</td>\n",
       "      <td>16</td>\n",
       "      <td>2021-03-11</td>\n",
       "      <td>53</td>\n",
       "      <td>1190.89</td>\n",
       "      <td>0.0</td>\n",
       "      <td>7.0</td>\n",
       "      <td>0.0</td>\n",
       "      <td>1</td>\n",
       "      <td>0.0000</td>\n",
       "      <td>170.127143</td>\n",
       "      <td>0.000000</td>\n",
       "      <td>0.0</td>\n",
       "      <td>0.0</td>\n",
       "      <td>0.000000</td>\n",
       "      <td>0.0000</td>\n",
       "      <td>0.000000</td>\n",
       "      <td>0.0000</td>\n",
       "      <td>0.0</td>\n",
       "      <td>2021-03-23</td>\n",
       "      <td>3</td>\n",
       "      <td>455</td>\n",
       "    </tr>\n",
       "  </tbody>\n",
       "</table>\n",
       "<p>6136 rows × 23 columns</p>\n",
       "</div>"
      ],
      "text/plain": [
       "      image_id                  image_name  media_id image_launch_time  \\\n",
       "879      30522               QMZZ483-横版ZDC        10        2021-03-04   \n",
       "5584     30889       GZDGS209-CYS  建造升级 3D        16        2021-03-11   \n",
       "5942     30889       GZDGS209-CYS  建造升级 3D        16        2021-03-11   \n",
       "4136     30042            QMZZ320-横版LL（TT）        10        2021-02-20   \n",
       "3827     30438        GZDGS172-LZQ+XF 解说海岛        10        2021-03-01   \n",
       "...        ...                         ...       ...               ...   \n",
       "4554     30881  QMZZ518-横版LL（3D原创3渲染2）（TT）        16        2021-03-11   \n",
       "4221     30881  QMZZ518-横版LL（3D原创3渲染2）（TT）        16        2021-03-11   \n",
       "4625     31136               QMZZ575-竖版ZDC        10        2021-03-20   \n",
       "4309     31136               QMZZ575-竖版ZDC        10        2021-03-20   \n",
       "4885     30881  QMZZ518-横版LL（3D原创3渲染2）（TT）        16        2021-03-11   \n",
       "\n",
       "      image_source_total_num  image_run_date_amount  \\\n",
       "879                       18               11611.57   \n",
       "5584                      22                5649.29   \n",
       "5942                      22                5649.29   \n",
       "4136                      47               25095.04   \n",
       "3827                     348               70845.79   \n",
       "...                      ...                    ...   \n",
       "4554                      53                1190.89   \n",
       "4221                      53                1190.89   \n",
       "4625                       2                1144.05   \n",
       "4309                       2                1144.05   \n",
       "4885                      53                1190.89   \n",
       "\n",
       "      image_create_role_pay_num  image_create_role_num  \\\n",
       "879                         5.0                   56.0   \n",
       "5584                        2.0                   16.0   \n",
       "5942                        2.0                   16.0   \n",
       "4136                        7.0                  155.0   \n",
       "3827                       19.0                  528.0   \n",
       "...                         ...                    ...   \n",
       "4554                        0.0                    7.0   \n",
       "4221                        0.0                    7.0   \n",
       "4625                        0.0                    7.0   \n",
       "4309                        0.0                    7.0   \n",
       "4885                        0.0                    7.0   \n",
       "\n",
       "      image_create_role_pay_sum  image_source_num  image_create_role_pay_rate  \\\n",
       "879                      3612.0                 9                      0.0893   \n",
       "5584                     2214.0                 5                      0.1250   \n",
       "5942                     2214.0                 5                      0.1250   \n",
       "4136                     5726.0                 4                      0.0452   \n",
       "3827                     7619.0                35                      0.0360   \n",
       "...                         ...               ...                         ...   \n",
       "4554                        0.0                 1                      0.0000   \n",
       "4221                        0.0                 1                      0.0000   \n",
       "4625                        0.0                 1                      0.0000   \n",
       "4309                        0.0                 1                      0.0000   \n",
       "4885                        0.0                 1                      0.0000   \n",
       "\n",
       "      image_create_role_cost  image_create_role_pay_cost  \\\n",
       "879               207.349464                 2322.314000   \n",
       "5584              353.080625                 2824.645000   \n",
       "5942              353.080625                 2824.645000   \n",
       "4136              161.903484                 3585.005714   \n",
       "3827              134.177633                 3728.725789   \n",
       "...                      ...                         ...   \n",
       "4554              170.127143                    0.000000   \n",
       "4221              170.127143                    0.000000   \n",
       "4625              163.435714                    0.000000   \n",
       "4309              163.435714                    0.000000   \n",
       "4885              170.127143                    0.000000   \n",
       "\n",
       "      image_valid_source_num  image_valid_source_rate  image_pay_sum_ability  \\\n",
       "879                      9.0                      1.0             401.333333   \n",
       "5584                     0.0                      0.0               0.000000   \n",
       "5942                     0.0                      0.0               0.000000   \n",
       "4136                     0.0                      0.0               0.000000   \n",
       "3827                     0.0                      0.0               0.000000   \n",
       "...                      ...                      ...                    ...   \n",
       "4554                     0.0                      0.0               0.000000   \n",
       "4221                     0.0                      0.0               0.000000   \n",
       "4625                     0.0                      0.0               0.000000   \n",
       "4309                     0.0                      0.0               0.000000   \n",
       "4885                     0.0                      0.0               0.000000   \n",
       "\n",
       "      image_pay_num_ability  image_create_role_roi  \\\n",
       "879                  0.5556               0.311069   \n",
       "5584                 0.0000               0.391908   \n",
       "5942                 0.0000               0.391908   \n",
       "4136                 0.0000               0.228173   \n",
       "3827                 0.0000               0.107543   \n",
       "...                     ...                    ...   \n",
       "4554                 0.0000               0.000000   \n",
       "4221                 0.0000               0.000000   \n",
       "4625                 0.0000               0.000000   \n",
       "4309                 0.0000               0.000000   \n",
       "4885                 0.0000               0.000000   \n",
       "\n",
       "      image_create_role_retain_1d  create_role_30_pay_sum model_run_datetime  \\\n",
       "879                        0.2034                 34908.0         2021-03-09   \n",
       "5584                       0.4375                 23253.0         2021-03-25   \n",
       "5942                       0.4211                 23253.0         2021-03-26   \n",
       "4136                       0.2949                 12007.0         2021-03-21   \n",
       "3827                       0.1724                 25643.0         2021-03-20   \n",
       "...                           ...                     ...                ...   \n",
       "4554                       0.0000                     0.0         2021-03-22   \n",
       "4221                       0.0000                     0.0         2021-03-21   \n",
       "4625                       0.0000                     0.0         2021-03-22   \n",
       "4309                       0.0000                     0.0         2021-03-21   \n",
       "4885                       0.0000                     0.0         2021-03-23   \n",
       "\n",
       "      data_win  score  \n",
       "879          3    712  \n",
       "5584         3    709  \n",
       "5942         3    709  \n",
       "4136         3    708  \n",
       "3827         3    707  \n",
       "...        ...    ...  \n",
       "4554         3    455  \n",
       "4221         3    455  \n",
       "4625         3    455  \n",
       "4309         3    455  \n",
       "4885         3    455  \n",
       "\n",
       "[6136 rows x 23 columns]"
      ]
     },
     "execution_count": 639,
     "metadata": {},
     "output_type": "execute_result"
    }
   ],
   "source": [
    "test.sort_values('score',ascending=False)"
   ]
  },
  {
   "cell_type": "code",
   "execution_count": 640,
   "metadata": {},
   "outputs": [
    {
     "data": {
      "image/png": "[encoded data removed]",
      "text/plain": [
       "<Figure size 432x288 with 1 Axes>"
      ]
     },
     "metadata": {
      "needs_background": "light"
     },
     "output_type": "display_data"
    }
   ],
   "source": [
    "sns.distplot(test['score'])\n",
    "plt.show()"
   ]
  },
  {
   "cell_type": "code",
   "execution_count": 641,
   "metadata": {},
   "outputs": [
    {
     "data": {
      "text/plain": [
       "0.5088505179138543"
      ]
     },
     "execution_count": 641,
     "metadata": {},
     "output_type": "execute_result"
    }
   ],
   "source": [
    "test[test['score']>=600]['create_role_30_pay_sum'].sum() / test[test['score']>=600]['image_run_date_amount'].sum()"
   ]
  },
  {
   "cell_type": "code",
   "execution_count": 642,
   "metadata": {},
   "outputs": [
    {
     "data": {
      "text/plain": [
       "0.2626348183409853"
      ]
     },
     "execution_count": 642,
     "metadata": {},
     "output_type": "execute_result"
    }
   ],
   "source": [
    "test[test['score']<600]['create_role_30_pay_sum'].sum() / test[test['score']<600]['image_run_date_amount'].sum()"
   ]
  },
  {
   "cell_type": "code",
   "execution_count": 643,
   "metadata": {},
   "outputs": [
    {
     "name": "stdout",
     "output_type": "stream",
     "text": [
      "高分区ROI： 0.4637465296830412\n",
      "低分区ROI： 0.1785639594848544\n"
     ]
    }
   ],
   "source": [
    "print('高分区ROI：',test[test['score']>=560]['create_role_30_pay_sum'].sum() / test[test['score']>=560]['image_run_date_amount'].sum())\n",
    "print('低分区ROI：',test[test['score']<560]['create_role_30_pay_sum'].sum() / test[test['score']<560]['image_run_date_amount'].sum())"
   ]
  },
  {
   "cell_type": "code",
   "execution_count": 644,
   "metadata": {},
   "outputs": [
    {
     "name": "stdout",
     "output_type": "stream",
     "text": [
      "高分区ROI： 0.4209155255273085\n",
      "低分区ROI： 0.13466795348911828\n"
     ]
    }
   ],
   "source": [
    "print('高分区ROI：',test[test['score']>=540]['create_role_30_pay_sum'].sum() / test[test['score']>=540]['image_run_date_amount'].sum())\n",
    "print('低分区ROI：',test[test['score']<540]['create_role_30_pay_sum'].sum() / test[test['score']<540]['image_run_date_amount'].sum())"
   ]
  },
  {
   "cell_type": "code",
   "execution_count": 645,
   "metadata": {},
   "outputs": [
    {
     "name": "stdout",
     "output_type": "stream",
     "text": [
      "高分区ROI： 0.3878062797934832\n",
      "低分区ROI： 0.10088368544180555\n"
     ]
    }
   ],
   "source": [
    "print('高分区ROI：',test[test['score']>=520]['create_role_30_pay_sum'].sum() / test[test['score']>=520]['image_run_date_amount'].sum())\n",
    "print('低分区ROI：',test[test['score']<520]['create_role_30_pay_sum'].sum() / test[test['score']<520]['image_run_date_amount'].sum())"
   ]
  },
  {
   "cell_type": "code",
   "execution_count": 646,
   "metadata": {},
   "outputs": [
    {
     "name": "stdout",
     "output_type": "stream",
     "text": [
      "高分区ROI： 0.36841577876935167\n",
      "低分区ROI： 0.0784536792522435\n"
     ]
    }
   ],
   "source": [
    "print('高分区ROI：',test[test['score']>=500]['create_role_30_pay_sum'].sum() / test[test['score']>=500]['image_run_date_amount'].sum())\n",
    "print('低分区ROI：',test[test['score']<500]['create_role_30_pay_sum'].sum() / test[test['score']<500]['image_run_date_amount'].sum())"
   ]
  },
  {
   "cell_type": "code",
   "execution_count": 647,
   "metadata": {},
   "outputs": [
    {
     "name": "stdout",
     "output_type": "stream",
     "text": [
      "全test样本的ROI为： 0.34809427673215937\n"
     ]
    }
   ],
   "source": [
    "print('全test样本的ROI为：',test['create_role_30_pay_sum'].sum() / test['image_run_date_amount'].sum())"
   ]
  },
  {
   "cell_type": "code",
   "execution_count": 648,
   "metadata": {},
   "outputs": [
    {
     "name": "stdout",
     "output_type": "stream",
     "text": [
      "高分区消耗金额占比 0.5944624074658222\n"
     ]
    }
   ],
   "source": [
    "print('高分区消耗金额占比',test[test['score']>=560]['image_run_date_amount'].sum() / test['image_run_date_amount'].sum())"
   ]
  },
  {
   "cell_type": "code",
   "execution_count": 649,
   "metadata": {},
   "outputs": [
    {
     "name": "stdout",
     "output_type": "stream",
     "text": [
      "高分区消耗金额占比 0.5944624074658222\n"
     ]
    }
   ],
   "source": [
    "print('高分区消耗金额占比',test[test['score']>=560]['image_run_date_amount'].sum() / test['image_run_date_amount'].sum())"
   ]
  },
  {
   "cell_type": "code",
   "execution_count": 650,
   "metadata": {},
   "outputs": [
    {
     "data": {
      "text/html": [
       "<div>\n",
       "<style scoped>\n",
       "    .dataframe tbody tr th:only-of-type {\n",
       "        vertical-align: middle;\n",
       "    }\n",
       "\n",
       "    .dataframe tbody tr th {\n",
       "        vertical-align: top;\n",
       "    }\n",
       "\n",
       "    .dataframe thead th {\n",
       "        text-align: right;\n",
       "    }\n",
       "</style>\n",
       "<table border=\"1\" class=\"dataframe\">\n",
       "  <thead>\n",
       "    <tr style=\"text-align: right;\">\n",
       "      <th></th>\n",
       "      <th>image_id</th>\n",
       "      <th>image_name</th>\n",
       "      <th>media_id</th>\n",
       "      <th>image_launch_time</th>\n",
       "      <th>image_source_total_num</th>\n",
       "      <th>image_run_date_amount</th>\n",
       "      <th>image_create_role_pay_num</th>\n",
       "      <th>image_create_role_num</th>\n",
       "      <th>image_create_role_pay_sum</th>\n",
       "      <th>image_source_num</th>\n",
       "      <th>image_create_role_pay_rate</th>\n",
       "      <th>image_create_role_cost</th>\n",
       "      <th>image_create_role_pay_cost</th>\n",
       "      <th>image_valid_source_num</th>\n",
       "      <th>image_valid_source_rate</th>\n",
       "      <th>image_pay_sum_ability</th>\n",
       "      <th>image_pay_num_ability</th>\n",
       "      <th>image_create_role_roi</th>\n",
       "      <th>image_create_role_retain_1d</th>\n",
       "      <th>create_role_30_pay_sum</th>\n",
       "      <th>model_run_datetime</th>\n",
       "      <th>data_win</th>\n",
       "      <th>score</th>\n",
       "    </tr>\n",
       "  </thead>\n",
       "  <tbody>\n",
       "    <tr>\n",
       "      <th>0</th>\n",
       "      <td>27955</td>\n",
       "      <td>QMZT004-CHL</td>\n",
       "      <td>16</td>\n",
       "      <td>2020-12-30</td>\n",
       "      <td>68</td>\n",
       "      <td>4129.26</td>\n",
       "      <td>0.0</td>\n",
       "      <td>19.0</td>\n",
       "      <td>0.0</td>\n",
       "      <td>5</td>\n",
       "      <td>0.0000</td>\n",
       "      <td>217.329474</td>\n",
       "      <td>0.00</td>\n",
       "      <td>0.0</td>\n",
       "      <td>0.0</td>\n",
       "      <td>0.0</td>\n",
       "      <td>0.0</td>\n",
       "      <td>0.000000</td>\n",
       "      <td>0.1200</td>\n",
       "      <td>21310.0</td>\n",
       "      <td>2021-03-06</td>\n",
       "      <td>3</td>\n",
       "      <td>505</td>\n",
       "    </tr>\n",
       "    <tr>\n",
       "      <th>1</th>\n",
       "      <td>28049</td>\n",
       "      <td>QMZZ003-横版xy-640x360 ＜100mb 30s</td>\n",
       "      <td>10</td>\n",
       "      <td>2020-12-25</td>\n",
       "      <td>35</td>\n",
       "      <td>2027.80</td>\n",
       "      <td>0.0</td>\n",
       "      <td>9.0</td>\n",
       "      <td>0.0</td>\n",
       "      <td>1</td>\n",
       "      <td>0.0000</td>\n",
       "      <td>225.311111</td>\n",
       "      <td>0.00</td>\n",
       "      <td>0.0</td>\n",
       "      <td>0.0</td>\n",
       "      <td>0.0</td>\n",
       "      <td>0.0</td>\n",
       "      <td>0.000000</td>\n",
       "      <td>0.0000</td>\n",
       "      <td>0.0</td>\n",
       "      <td>2021-03-06</td>\n",
       "      <td>3</td>\n",
       "      <td>462</td>\n",
       "    </tr>\n",
       "    <tr>\n",
       "      <th>2</th>\n",
       "      <td>28054</td>\n",
       "      <td>QMZZ007-竖版LL</td>\n",
       "      <td>10</td>\n",
       "      <td>2020-12-26</td>\n",
       "      <td>29</td>\n",
       "      <td>505.42</td>\n",
       "      <td>1.0</td>\n",
       "      <td>3.0</td>\n",
       "      <td>6.0</td>\n",
       "      <td>1</td>\n",
       "      <td>0.3333</td>\n",
       "      <td>168.473333</td>\n",
       "      <td>505.42</td>\n",
       "      <td>1.0</td>\n",
       "      <td>1.0</td>\n",
       "      <td>6.0</td>\n",
       "      <td>1.0</td>\n",
       "      <td>0.011871</td>\n",
       "      <td>0.3333</td>\n",
       "      <td>24.0</td>\n",
       "      <td>2021-03-06</td>\n",
       "      <td>3</td>\n",
       "      <td>527</td>\n",
       "    </tr>\n",
       "    <tr>\n",
       "      <th>3</th>\n",
       "      <td>28061</td>\n",
       "      <td>QMZZ012-竖版ZDC</td>\n",
       "      <td>10</td>\n",
       "      <td>2020-12-26</td>\n",
       "      <td>110</td>\n",
       "      <td>3373.11</td>\n",
       "      <td>1.0</td>\n",
       "      <td>22.0</td>\n",
       "      <td>6.0</td>\n",
       "      <td>3</td>\n",
       "      <td>0.0455</td>\n",
       "      <td>153.323182</td>\n",
       "      <td>3373.11</td>\n",
       "      <td>0.0</td>\n",
       "      <td>0.0</td>\n",
       "      <td>0.0</td>\n",
       "      <td>0.0</td>\n",
       "      <td>0.001779</td>\n",
       "      <td>0.1556</td>\n",
       "      <td>917.0</td>\n",
       "      <td>2021-03-06</td>\n",
       "      <td>3</td>\n",
       "      <td>546</td>\n",
       "    </tr>\n",
       "    <tr>\n",
       "      <th>4</th>\n",
       "      <td>28073</td>\n",
       "      <td>QMZZ015-横版CHL（口播）</td>\n",
       "      <td>10</td>\n",
       "      <td>2020-12-25</td>\n",
       "      <td>196</td>\n",
       "      <td>5987.62</td>\n",
       "      <td>1.0</td>\n",
       "      <td>48.0</td>\n",
       "      <td>6.0</td>\n",
       "      <td>4</td>\n",
       "      <td>0.0208</td>\n",
       "      <td>124.742083</td>\n",
       "      <td>5987.62</td>\n",
       "      <td>0.0</td>\n",
       "      <td>0.0</td>\n",
       "      <td>0.0</td>\n",
       "      <td>0.0</td>\n",
       "      <td>0.001002</td>\n",
       "      <td>0.0980</td>\n",
       "      <td>42.0</td>\n",
       "      <td>2021-03-06</td>\n",
       "      <td>3</td>\n",
       "      <td>483</td>\n",
       "    </tr>\n",
       "  </tbody>\n",
       "</table>\n",
       "</div>"
      ],
      "text/plain": [
       "   image_id                       image_name  media_id image_launch_time  \\\n",
       "0     27955                      QMZT004-CHL        16        2020-12-30   \n",
       "1     28049  QMZZ003-横版xy-640x360 ＜100mb 30s        10        2020-12-25   \n",
       "2     28054                     QMZZ007-竖版LL        10        2020-12-26   \n",
       "3     28061                    QMZZ012-竖版ZDC        10        2020-12-26   \n",
       "4     28073                QMZZ015-横版CHL（口播）        10        2020-12-25   \n",
       "\n",
       "   image_source_total_num  image_run_date_amount  image_create_role_pay_num  \\\n",
       "0                      68                4129.26                        0.0   \n",
       "1                      35                2027.80                        0.0   \n",
       "2                      29                 505.42                        1.0   \n",
       "3                     110                3373.11                        1.0   \n",
       "4                     196                5987.62                        1.0   \n",
       "\n",
       "   image_create_role_num  image_create_role_pay_sum  image_source_num  \\\n",
       "0                   19.0                        0.0                 5   \n",
       "1                    9.0                        0.0                 1   \n",
       "2                    3.0                        6.0                 1   \n",
       "3                   22.0                        6.0                 3   \n",
       "4                   48.0                        6.0                 4   \n",
       "\n",
       "   image_create_role_pay_rate  image_create_role_cost  \\\n",
       "0                      0.0000              217.329474   \n",
       "1                      0.0000              225.311111   \n",
       "2                      0.3333              168.473333   \n",
       "3                      0.0455              153.323182   \n",
       "4                      0.0208              124.742083   \n",
       "\n",
       "   image_create_role_pay_cost  image_valid_source_num  \\\n",
       "0                        0.00                     0.0   \n",
       "1                        0.00                     0.0   \n",
       "2                      505.42                     1.0   \n",
       "3                     3373.11                     0.0   \n",
       "4                     5987.62                     0.0   \n",
       "\n",
       "   image_valid_source_rate  image_pay_sum_ability  image_pay_num_ability  \\\n",
       "0                      0.0                    0.0                    0.0   \n",
       "1                      0.0                    0.0                    0.0   \n",
       "2                      1.0                    6.0                    1.0   \n",
       "3                      0.0                    0.0                    0.0   \n",
       "4                      0.0                    0.0                    0.0   \n",
       "\n",
       "   image_create_role_roi  image_create_role_retain_1d  create_role_30_pay_sum  \\\n",
       "0               0.000000                       0.1200                 21310.0   \n",
       "1               0.000000                       0.0000                     0.0   \n",
       "2               0.011871                       0.3333                    24.0   \n",
       "3               0.001779                       0.1556                   917.0   \n",
       "4               0.001002                       0.0980                    42.0   \n",
       "\n",
       "  model_run_datetime  data_win  score  \n",
       "0         2021-03-06         3    505  \n",
       "1         2021-03-06         3    462  \n",
       "2         2021-03-06         3    527  \n",
       "3         2021-03-06         3    546  \n",
       "4         2021-03-06         3    483  "
      ]
     },
     "execution_count": 650,
     "metadata": {},
     "output_type": "execute_result"
    }
   ],
   "source": [
    "test.head()"
   ]
  },
  {
   "cell_type": "code",
   "execution_count": 144,
   "metadata": {},
   "outputs": [],
   "source": [
    "test.to_csv('./test_result.csv')"
   ]
  },
  {
   "cell_type": "code",
   "execution_count": null,
   "metadata": {},
   "outputs": [],
   "source": []
  },
  {
   "cell_type": "code",
   "execution_count": null,
   "metadata": {},
   "outputs": [],
   "source": []
  }
 ],
 "metadata": {
  "kernelspec": {
   "display_name": "Python 3",
   "language": "python",
   "name": "python3"
  },
  "language_info": {
   "codemirror_mode": {
    "name": "ipython",
    "version": 3
   },
   "file_extension": ".py",
   "mimetype": "text/x-python",
   "name": "python",
   "nbconvert_exporter": "python",
   "pygments_lexer": "ipython3",
   "version": "3.7.6"
  }
 },
 "nbformat": 4,
 "nbformat_minor": 4
}
