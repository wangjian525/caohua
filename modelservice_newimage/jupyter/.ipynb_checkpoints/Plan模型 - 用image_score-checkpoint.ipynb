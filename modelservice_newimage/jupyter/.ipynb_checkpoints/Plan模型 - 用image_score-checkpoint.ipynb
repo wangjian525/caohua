{
 "cells": [
  {
   "cell_type": "markdown",
   "id": "25646f34",
   "metadata": {},
   "source": [
    "# 自动化计划属性组合\n",
    "* <font color=red>目的</font>：结合新素材评分，自动化新建计划各个属性的组合流程；\n",
    "* <font color=red>已实现思路</font>：\n",
    "* 1）概率随机初始化多条属性选项的计划，对其分别进行概率评分，然后组合账号、素材的对应关系，做阈值条件筛选；\n",
    "\n",
    "* <font color=red>优化思路</font>：\n",
    "* 1）决策树模型的逆向推理之根据目标值Y来反推特征X集合；   \n",
    "   > 难点：没有具体代码实现，或者很难实现，因为确实非线性问题反推有无穷多解，即使实现了估计计算复杂度也不低\n",
    "* 2）决策树模型的常规推理后，输出每一个结点的规则条件，然后按照整体规则逻辑，一步一步随机选择符合子节点子规则预期的条件取值；✔   \n",
    "* 3）图神经网络Pointer Network，解决组合调度优化问题；   \n",
    "   > 难点：更偏统筹/动态优化，而且涉及不同属性取值的先后关系，场景有点差异\n",
    "* 4）概率采样 + 频繁项集 + roi或pay_rate排名靠前优质定向采样；✔\n",
    "* <font color=red>用image_score</font>：表示特征字段利用了素材score，新素材因为可以有评分score，所以适用于新素材计划的概率评估"
   ]
  },
  {
   "cell_type": "code",
   "execution_count": 1,
   "id": "c005a11f",
   "metadata": {
    "ExecuteTime": {
     "end_time": "2021-06-15T08:30:30.551109Z",
     "start_time": "2021-06-15T08:30:29.497605Z"
    }
   },
   "outputs": [],
   "source": [
    "import pandas as pd\n",
    "import numpy as np\n",
    "pd.set_option(\"display.max_columns\", None)\n",
    "from impala.dbapi import connect\n",
    "from impala.util import as_pandas\n",
    "import gc\n",
    "import json\n",
    "import pymysql\n",
    "import datetime\n",
    "from sklearn.preprocessing import LabelEncoder, StandardScaler\n",
    "from tqdm.auto import tqdm\n",
    "tqdm.pandas(desc=\"Processing!\")\n",
    "\n",
    "from script.dtc_rule import tree_to_code\n",
    "\n",
    "# from script.weight import weights_calcul, weights_assign  # 权值编、解码脚本"
   ]
  },
  {
   "cell_type": "markdown",
   "id": "48182702",
   "metadata": {},
   "source": [
    "## 数据：计划信息+素材信息+运营指标信息\n",
    "* 计划信息表：含有各计划创建的属性详情（有缺失）；\n",
    "* 素材信息表：含有各素材的素材ID以及素材标签情况；\n",
    "* 运营信息表：含有各计划上线跑分的指标情况，只用于后续打标签；"
   ]
  },
  {
   "cell_type": "code",
   "execution_count": 2,
   "id": "bee30398",
   "metadata": {
    "ExecuteTime": {
     "end_time": "2021-06-15T08:30:30.557547Z",
     "start_time": "2021-06-15T08:30:30.552986Z"
    }
   },
   "outputs": [],
   "source": [
    "def get_game_id():\n",
    "    conn = pymysql.connect(host='192.168.0.79', port=3306, user='readonly',\n",
    "                           passwd='Kc&r+z1ql9x8za4kzfk761weq8ozGv3ZpI;RMe,#+s%c>t')\n",
    "    cur = conn.cursor(cursor=pymysql.cursors.DictCursor)\n",
    "    sql = '''\n",
    "        SELECT dev_game_id AS game_id FROM db_data.t_game_config WHERE game_id = 1056 AND dev_game_id IS NOT NULL \n",
    "    '''\n",
    "    cur.execute(sql)\n",
    "    result_df = cur.fetchall()\n",
    "    cur.close()\n",
    "    conn.close()\n",
    "    return result_df"
   ]
  },
  {
   "cell_type": "markdown",
   "id": "9e09acc6",
   "metadata": {},
   "source": [
    "### 采集：计划信息"
   ]
  },
  {
   "cell_type": "code",
   "execution_count": 3,
   "id": "9f52a68a",
   "metadata": {
    "ExecuteTime": {
     "end_time": "2021-06-15T08:30:32.148015Z",
     "start_time": "2021-06-15T08:30:30.559802Z"
    }
   },
   "outputs": [],
   "source": [
    "plan_info = pd.read_csv('/home/data/ch_data/ptom_third_plan.csv')"
   ]
  },
  {
   "cell_type": "code",
   "execution_count": 4,
   "id": "930c62fc",
   "metadata": {
    "ExecuteTime": {
     "end_time": "2021-06-15T08:30:32.155380Z",
     "start_time": "2021-06-15T08:30:32.150039Z"
    }
   },
   "outputs": [],
   "source": [
    "def get_plan_info():\n",
    "    game_id = get_game_id()\n",
    "    game_id = list(map(lambda x: x['game_id'], game_id))\n",
    "    game_id = [str(i) for i in game_id]\n",
    "    game_id = ','.join(game_id)\n",
    "    conn = pymysql.connect(host='192.168.0.65', port=3306, user='readonly',\n",
    "                           passwd='Kc&r+z1ql9x8za4kzfk761weq8ozGv3ZpI;RMe,#+s%c>t', db='db_ptom')\n",
    "    cur = conn.cursor(cursor=pymysql.cursors.DictCursor)\n",
    "    sql = '''\n",
    "    /*手动查询*/\n",
    "        SELECT\n",
    "                * \n",
    "            FROM\n",
    "                db_ptom.ptom_third_plan p\n",
    "            WHERE\n",
    "                game_id IN ({})\n",
    "                AND media_id = 10\n",
    "                AND create_time>='2020-01-01'\n",
    "                AND create_time<= date(NOW())\n",
    "                            AND plan_id >= (\n",
    "                                select plan_id from db_ptom.ptom_plan\n",
    "                                where create_time >= '2021-04-23'\n",
    "                                and create_time <= '2021-04-24'\n",
    "                                limit 1\n",
    "                            )\n",
    "    '''\n",
    "    finalSql = sql.format(game_id)\n",
    "    result_df = pd.read_sql(finalSql, conn)\n",
    "    cur.close()\n",
    "    conn.close()\n",
    "    return result_df"
   ]
  },
  {
   "cell_type": "code",
   "execution_count": 5,
   "id": "748d408a",
   "metadata": {
    "ExecuteTime": {
     "end_time": "2021-06-15T08:30:39.549558Z",
     "start_time": "2021-06-15T08:30:32.157618Z"
    }
   },
   "outputs": [],
   "source": [
    "plan_info_new = get_plan_info()"
   ]
  },
  {
   "cell_type": "markdown",
   "id": "8cfb9245",
   "metadata": {},
   "source": [
    "### 采集：素材信息"
   ]
  },
  {
   "cell_type": "code",
   "execution_count": 6,
   "id": "cabca997",
   "metadata": {
    "ExecuteTime": {
     "end_time": "2021-06-15T08:30:39.572343Z",
     "start_time": "2021-06-15T08:30:39.551445Z"
    }
   },
   "outputs": [],
   "source": [
    "image_info = pd.read_csv('/home/data/ch_data/image_info.csv')"
   ]
  },
  {
   "cell_type": "code",
   "execution_count": 7,
   "id": "5fbd5ea2",
   "metadata": {
    "ExecuteTime": {
     "end_time": "2021-06-15T08:30:39.577827Z",
     "start_time": "2021-06-15T08:30:39.574119Z"
    }
   },
   "outputs": [],
   "source": [
    "def get_image_info():\n",
    "    conn = pymysql.connect(host='192.168.0.79', port=3306, user='readonly',\n",
    "                           passwd='Kc&r+z1ql9x8za4kzfk761weq8ozGv3ZpI;RMe,#+s%c>t')\n",
    "    cur = conn.cursor(cursor=pymysql.cursors.DictCursor)\n",
    "    sql = '''\n",
    "        SELECT\n",
    "            a.chl_user_id AS channel_id,\n",
    "            a.source_id,\n",
    "            a.image_id,\n",
    "            b.label_ids\n",
    "        FROM\n",
    "            db_data_ptom.ptom_plan a\n",
    "            LEFT JOIN\n",
    "            db_data_ptom.ptom_image_info b\n",
    "        on a.image_id = b.image_id\n",
    "        WHERE\n",
    "            a.game_id IN ( SELECT dev_game_id AS game_id FROM db_data.t_game_config WHERE game_id = 1056 AND dev_game_id IS NOT NULL ) \n",
    "            AND a.media_id = 10 \n",
    "            AND a.create_time >= '2020-01-01' \n",
    "        GROUP BY\n",
    "            a.chl_user_id,\n",
    "            a.source_id,\n",
    "            a.image_id\n",
    "    '''\n",
    "    cur.execute(sql)\n",
    "    result_df = pd.read_sql(sql, conn)\n",
    "    cur.close()\n",
    "    conn.close()\n",
    "    return result_df"
   ]
  },
  {
   "cell_type": "code",
   "execution_count": 8,
   "id": "db749fcb",
   "metadata": {
    "ExecuteTime": {
     "end_time": "2021-06-15T08:30:43.103932Z",
     "start_time": "2021-06-15T08:30:39.580693Z"
    }
   },
   "outputs": [],
   "source": [
    "image_info_new = get_image_info()"
   ]
  },
  {
   "cell_type": "markdown",
   "id": "bd4b609e",
   "metadata": {},
   "source": [
    "### 采集：运营信息"
   ]
  },
  {
   "cell_type": "code",
   "execution_count": 9,
   "id": "faa0b10e",
   "metadata": {
    "ExecuteTime": {
     "end_time": "2021-06-15T08:30:43.127839Z",
     "start_time": "2021-06-15T08:30:43.106280Z"
    }
   },
   "outputs": [],
   "source": [
    "launch_report = pd.read_csv('/home/data/ch_data/launch_report.csv')"
   ]
  },
  {
   "cell_type": "code",
   "execution_count": 10,
   "id": "72bf6495",
   "metadata": {
    "ExecuteTime": {
     "end_time": "2021-06-15T08:30:43.134913Z",
     "start_time": "2021-06-15T08:30:43.129506Z"
    }
   },
   "outputs": [],
   "source": [
    "def get_launch_report():\n",
    "    game_id = get_game_id()\n",
    "    game_id = list(map(lambda x: x['game_id'], game_id))\n",
    "    game_id = [str(i) for i in game_id]\n",
    "    game_id = ','.join(game_id)\n",
    "\n",
    "    conn = pymysql.connect(host='192.168.0.79', port=3306, user='readonly',\n",
    "                           passwd='Kc&r+z1ql9x8za4kzfk761weq8ozGv3ZpI;RMe,#+s%c>t')\n",
    "    cur = conn.cursor(cursor=pymysql.cursors.DictCursor)\n",
    "    sql = '''\n",
    "        /*手动查询*/\n",
    "        SELECT\n",
    "            a.chl_user_id AS channel_id,\n",
    "            a.source_id AS source_id,\n",
    "            b.tdate,\n",
    "            b.amount,\n",
    "            b.new_role_money,\n",
    "            b.new_role_money / b.amount as roi,\n",
    "            b.pay_role_user_num / b.create_role_num as pay_rate\n",
    "        FROM\n",
    "            db_data_ptom.ptom_plan a\n",
    "            LEFT JOIN db_stdata.st_lauch_report b ON a.chl_user_id = b.channel_id \n",
    "            AND a.source_id = b.source_id \n",
    "        WHERE\n",
    "            a.create_time >= '2020-01-01' \n",
    "            AND b.tdate >= '2020-01-01' \n",
    "            AND b.tdate_type = 'day' \n",
    "            AND b.media_id = 10\n",
    "            AND b.game_id IN ({})\n",
    "            AND b.amount >= 500\n",
    "    '''\n",
    "    finalSql = sql.format(game_id)\n",
    "    cur.execute(finalSql)\n",
    "    result_df = pd.read_sql(finalSql, conn)\n",
    "    cur.close()\n",
    "    conn.close()\n",
    "    result_df['tdate'] = pd.to_datetime(result_df['tdate'])\n",
    "    result_df = result_df.sort_values('tdate')\n",
    "    result_df = result_df.drop_duplicates(['channel_id', 'source_id'], keep='first')\n",
    "\n",
    "    return result_df"
   ]
  },
  {
   "cell_type": "code",
   "execution_count": 11,
   "id": "d1d3d53a",
   "metadata": {
    "ExecuteTime": {
     "end_time": "2021-06-15T08:31:15.227015Z",
     "start_time": "2021-06-15T08:30:43.136507Z"
    }
   },
   "outputs": [],
   "source": [
    "launch_report_new = get_launch_report()"
   ]
  },
  {
   "cell_type": "markdown",
   "id": "b03fa136",
   "metadata": {},
   "source": [
    "### 采集附加：素材评分信息"
   ]
  },
  {
   "cell_type": "code",
   "execution_count": 12,
   "id": "64c581b1",
   "metadata": {
    "ExecuteTime": {
     "end_time": "2021-06-15T08:31:15.728987Z",
     "start_time": "2021-06-15T08:31:15.228532Z"
    }
   },
   "outputs": [],
   "source": [
    "image_score = pd.read_csv('/home/data/ch_data/dws_image_score_d.csv', encoding='GB2312')"
   ]
  },
  {
   "cell_type": "code",
   "execution_count": 13,
   "id": "ca32f130",
   "metadata": {
    "ExecuteTime": {
     "end_time": "2021-06-15T08:31:15.767493Z",
     "start_time": "2021-06-15T08:31:15.730673Z"
    }
   },
   "outputs": [],
   "source": [
    "image_score.dropna(subset=['image_id', 'score'], inplace=True)"
   ]
  },
  {
   "cell_type": "code",
   "execution_count": 14,
   "id": "febb2d8b",
   "metadata": {
    "ExecuteTime": {
     "end_time": "2021-06-15T08:31:15.796436Z",
     "start_time": "2021-06-15T08:31:15.768911Z"
    }
   },
   "outputs": [],
   "source": [
    "image_score = image_score[['image_id', 'model_run_datetime', 'score']]\n",
    "image_score.columns = ['image_id', 'create_time', 'image_score']\n",
    "image_score.drop_duplicates(inplace=True)"
   ]
  },
  {
   "cell_type": "markdown",
   "id": "3403c6aa",
   "metadata": {},
   "source": [
    "### 合并"
   ]
  },
  {
   "cell_type": "code",
   "execution_count": 15,
   "id": "3f0e738e",
   "metadata": {
    "ExecuteTime": {
     "end_time": "2021-06-15T08:31:15.804460Z",
     "start_time": "2021-06-15T08:31:15.797785Z"
    }
   },
   "outputs": [],
   "source": [
    "def get_plan_json(plan_info):\n",
    "    plan_info.drop(['inventory_type', 'budget'], axis=1, inplace=True)\n",
    "    plan_info.dropna(how='all', inplace=True, axis=1)\n",
    "    plan_info.dropna(subset=['ad_info'], inplace=True)\n",
    "    # 解析json\n",
    "    plan_info['ad_info'] = plan_info['ad_info'].apply(json.loads)\n",
    "    temp = plan_info['ad_info'].apply(pd.Series)\n",
    "    plan_info = pd.concat([plan_info, temp], axis=1)\n",
    "    plan_info.drop('ad_info', axis=1, inplace=True)\n",
    "    temp = plan_info['audience'].apply(pd.Series)\n",
    "    plan_info = pd.concat([plan_info, temp], axis=1)\n",
    "    plan_info.drop('audience', axis=1, inplace=True)\n",
    "    temp = plan_info['action'].apply(pd.Series)\n",
    "    plan_info = pd.concat([plan_info, temp], axis=1)\n",
    "    plan_info.drop('action', axis=1, inplace=True)\n",
    "    plan_info.dropna(how='all', inplace=True, axis=1)\n",
    "    plan_info = plan_info[['ad_account_id', 'game_id', 'channel_id', 'source_id',\n",
    "                           'create_time', 'smart_bid_type', 'hide_if_exists', 'budget',\n",
    "                           'delivery_range', 'adjust_cpa', 'inventory_type', 'hide_if_converted',\n",
    "                           'flow_control_mode', 'schedule_time', 'cpa_bid', 'auto_extend_enabled',\n",
    "                           'gender', 'city', 'platform', 'launch_price',\n",
    "                           'retargeting_tags_exclude', 'interest_categories',\n",
    "                           'ac', 'android_osv', 'location_type', 'retargeting_tags_include',\n",
    "                           'retargeting_type', 'ios_osv', 'interest_action_mode', 'age',\n",
    "                           'action_categories', 'action_days', 'action_scene', 'deep_bid_type']]\n",
    "    return plan_info"
   ]
  },
  {
   "cell_type": "code",
   "execution_count": 16,
   "id": "b1c03e88",
   "metadata": {
    "ExecuteTime": {
     "end_time": "2021-06-15T08:32:42.677222Z",
     "start_time": "2021-06-15T08:31:15.806189Z"
    }
   },
   "outputs": [],
   "source": [
    "# 计划\n",
    "plan_info = plan_info.append(plan_info_new)\n",
    "plan_info = get_plan_json(plan_info)\n",
    "plan_info.dropna(subset=['cpa_bid'], inplace=True)\n",
    "# 素材\n",
    "image_info = image_info.append(image_info_new)\n",
    "image_info.dropna(subset=['image_id'], inplace=True)\n",
    "image_info['image_id'] = image_info['image_id'].astype(int)\n",
    "# 运营\n",
    "launch_report = launch_report.append(launch_report_new)"
   ]
  },
  {
   "cell_type": "markdown",
   "id": "9ed21f95",
   "metadata": {
    "ExecuteTime": {
     "end_time": "2021-06-07T07:06:12.297264Z",
     "start_time": "2021-06-07T07:06:11.724848Z"
    }
   },
   "source": [
    "* 拼接+过滤"
   ]
  },
  {
   "cell_type": "code",
   "execution_count": 17,
   "id": "a7708ea5",
   "metadata": {
    "ExecuteTime": {
     "end_time": "2021-06-15T08:32:45.009666Z",
     "start_time": "2021-06-15T08:32:42.678817Z"
    }
   },
   "outputs": [],
   "source": [
    "df = pd.merge(plan_info, image_info, on=['channel_id', 'source_id'], how='left')\n",
    "df.dropna(subset=['image_id'], inplace=True)\n",
    "df = pd.merge(df, launch_report, on=['channel_id', 'source_id'], how='left')\n",
    "df.drop(df[df['tdate'].isna()].index, inplace=True)\n",
    "df = df[df['amount'] >= 500]"
   ]
  },
  {
   "cell_type": "markdown",
   "id": "9d59fb23",
   "metadata": {},
   "source": [
    "### 字段处理\n",
    "* ROI指标打标签"
   ]
  },
  {
   "cell_type": "code",
   "execution_count": 18,
   "id": "d73847a0",
   "metadata": {
    "ExecuteTime": {
     "end_time": "2021-06-15T08:32:45.337872Z",
     "start_time": "2021-06-15T08:32:45.011294Z"
    }
   },
   "outputs": [],
   "source": [
    "df.dropna(subset=['roi'], inplace=True)\n",
    "df.dropna(subset=['new_role_money'], inplace=True)\n",
    "df.dropna(subset=['amount'], inplace=True)"
   ]
  },
  {
   "cell_type": "code",
   "execution_count": 19,
   "id": "b478c491",
   "metadata": {
    "ExecuteTime": {
     "end_time": "2021-06-15T08:32:49.042303Z",
     "start_time": "2021-06-15T08:32:45.339675Z"
    }
   },
   "outputs": [],
   "source": [
    "df['platform'] = df['platform'].astype(str)\n",
    "df['platform'] = df['platform'].map({\"['ANDROID']\": 1, \"['IOS']\": 2})\n",
    "df['label'] = df.apply(lambda x: 1 if x.new_role_money / x.amount >= 0.01 or x.roi >= 0.01 else 0, axis=1)  # 打标签\n",
    "df['ad_account_id'] = df['ad_account_id'].astype('int')\n",
    "df['image_id'] = df['image_id'].astype('int')\n",
    "df.rename(columns={'tdate': 'create_date'}, inplace=True)\n",
    "df['create_date'] = pd.to_datetime(df['create_date'])\n",
    "df['create_time'] = pd.to_datetime(df['create_time'])"
   ]
  },
  {
   "cell_type": "code",
   "execution_count": 20,
   "id": "484caad5",
   "metadata": {
    "ExecuteTime": {
     "end_time": "2021-06-15T08:32:49.131047Z",
     "start_time": "2021-06-15T08:32:49.043977Z"
    }
   },
   "outputs": [],
   "source": [
    "df.drop(['channel_id', 'source_id', 'schedule_time', 'amount', 'roi', 'pay_rate', 'new_role_money'], axis=1, inplace=True)"
   ]
  },
  {
   "cell_type": "markdown",
   "id": "5763eef6",
   "metadata": {},
   "source": [
    "#### label_ids处理"
   ]
  },
  {
   "cell_type": "code",
   "execution_count": 21,
   "id": "47aea88a",
   "metadata": {
    "ExecuteTime": {
     "end_time": "2021-06-15T08:32:49.431023Z",
     "start_time": "2021-06-15T08:32:49.132623Z"
    }
   },
   "outputs": [],
   "source": [
    "df = df[df['label_ids'].notnull() & (df['label_ids'] != '-1') & (df['label_ids'] != '\\\"-1')]\n",
    "df['label_ids'] = df['label_ids'].str.replace('-1;', '')\n",
    "df['label_ids'] = df['label_ids'].str.replace('-1,', '')\n",
    "df['label_ids'] = df['label_ids'].str.replace('\\\"', '') \n",
    "df['label_ids'] = df['label_ids'].str.replace(';', ',')"
   ]
  },
  {
   "cell_type": "code",
   "execution_count": 22,
   "id": "f7ce8920",
   "metadata": {
    "ExecuteTime": {
     "end_time": "2021-06-15T08:32:49.473029Z",
     "start_time": "2021-06-15T08:32:49.432550Z"
    }
   },
   "outputs": [],
   "source": [
    "df['label_ids'] = df['label_ids'].apply(lambda x: x.split(','))"
   ]
  },
  {
   "cell_type": "markdown",
   "id": "c94f63a9",
   "metadata": {},
   "source": [
    "#### 特殊字段"
   ]
  },
  {
   "cell_type": "code",
   "execution_count": 23,
   "id": "cc0e2d51",
   "metadata": {
    "ExecuteTime": {
     "end_time": "2021-06-15T08:32:52.021492Z",
     "start_time": "2021-06-15T08:32:49.477703Z"
    }
   },
   "outputs": [],
   "source": [
    "df = df.mask(df.applymap(str).eq('[]'))  # 空list替换为NaN"
   ]
  },
  {
   "cell_type": "code",
   "execution_count": 24,
   "id": "110b6693",
   "metadata": {
    "ExecuteTime": {
     "end_time": "2021-06-15T08:32:54.773642Z",
     "start_time": "2021-06-15T08:32:52.024045Z"
    }
   },
   "outputs": [],
   "source": [
    "df = df.mask(df.applymap(str).eq('NONE'))  # NONE替换为NaN"
   ]
  },
  {
   "cell_type": "markdown",
   "id": "bdb03936",
   "metadata": {},
   "source": [
    "#### 缺失统计\n",
    "* 这里的缺失不代表取值不确定，而是没有条件定向的限制，所以不应该过滤"
   ]
  },
  {
   "cell_type": "code",
   "execution_count": 25,
   "id": "ff333dfc",
   "metadata": {
    "ExecuteTime": {
     "end_time": "2021-06-15T08:32:54.931135Z",
     "start_time": "2021-06-15T08:32:54.775461Z"
    }
   },
   "outputs": [],
   "source": [
    "from matplotlib import pyplot as plt"
   ]
  },
  {
   "cell_type": "code",
   "execution_count": 26,
   "id": "e9c1e7e4",
   "metadata": {
    "ExecuteTime": {
     "end_time": "2021-06-15T08:32:55.451491Z",
     "start_time": "2021-06-15T08:32:54.932653Z"
    }
   },
   "outputs": [
    {
     "data": {
      "image/png": "[encoded data removed]",
      "text/plain": [
       "<Figure size 576x720 with 1 Axes>"
      ]
     },
     "metadata": {
      "needs_background": "light"
     },
     "output_type": "display_data"
    }
   ],
   "source": [
    "# 各字段缺失率统计\n",
    "na_rate = (len(df) - df.count()) / len(df)  # 缺失率\n",
    "a = na_rate.sort_values(ascending=False)  # 倒序\n",
    "a1 = pd.DataFrame(a)\n",
    "plt.style.use('bmh')\n",
    "plt.figure(figsize = (8,10))\n",
    "plt.barh(range(df.shape[1]),a1[0])\n",
    "plt.xlabel('na_rate')\n",
    "plt.xlim([0,1])\n",
    "plt.yticks(range(df.shape[1]),a1.index.values.tolist())\n",
    "for x,y in enumerate(a1[0]):\n",
    "    plt.text(y,x,'%.3f'%y, va='bottom')"
   ]
  },
  {
   "cell_type": "code",
   "execution_count": 27,
   "id": "56822ca8",
   "metadata": {
    "ExecuteTime": {
     "end_time": "2021-06-15T08:32:55.456460Z",
     "start_time": "2021-06-15T08:32:55.453260Z"
    }
   },
   "outputs": [],
   "source": [
    "# df.drop(['schedule_time', 'ios_osv', 'retargeting_tags_include', 'city', 'interest_categories', 'action_categories', 'action_scene', 'action_days', 'android_osv', 'ac', 'retargeting_tags_exclude', 'deep_bid_type', 'retargeting_type'], axis=1, inplace=True)  # 删除缺失率超25%的字段\n",
    "# df.drop_duplicates(inplace=True)  # keep=first"
   ]
  },
  {
   "cell_type": "code",
   "execution_count": 28,
   "id": "b559f458",
   "metadata": {
    "ExecuteTime": {
     "end_time": "2021-06-15T08:32:55.595822Z",
     "start_time": "2021-06-15T08:32:55.458568Z"
    }
   },
   "outputs": [
    {
     "name": "stdout",
     "output_type": "stream",
     "text": [
      "<class 'pandas.core.frame.DataFrame'>\n",
      "RangeIndex: 131296 entries, 0 to 131295\n",
      "Data columns (total 35 columns):\n",
      " #   Column                    Non-Null Count   Dtype         \n",
      "---  ------                    --------------   -----         \n",
      " 0   ad_account_id             131296 non-null  int64         \n",
      " 1   game_id                   131296 non-null  int64         \n",
      " 2   create_time               131296 non-null  datetime64[ns]\n",
      " 3   smart_bid_type            131296 non-null  object        \n",
      " 4   hide_if_exists            131296 non-null  int64         \n",
      " 5   budget                    131296 non-null  float64       \n",
      " 6   delivery_range            131296 non-null  object        \n",
      " 7   adjust_cpa                110604 non-null  float64       \n",
      " 8   inventory_type            131240 non-null  object        \n",
      " 9   hide_if_converted         131296 non-null  object        \n",
      " 10  flow_control_mode         131296 non-null  object        \n",
      " 11  cpa_bid                   131296 non-null  float64       \n",
      " 12  auto_extend_enabled       131296 non-null  int64         \n",
      " 13  gender                    104402 non-null  object        \n",
      " 14  city                      22390 non-null   object        \n",
      " 15  platform                  131296 non-null  int64         \n",
      " 16  launch_price              116429 non-null  object        \n",
      " 17  retargeting_tags_exclude  76002 non-null   object        \n",
      " 18  interest_categories       26020 non-null   object        \n",
      " 19  ac                        74528 non-null   object        \n",
      " 20  android_osv               71811 non-null   object        \n",
      " 21  location_type             131296 non-null  object        \n",
      " 22  retargeting_tags_include  22194 non-null   object        \n",
      " 23  retargeting_type          78214 non-null   object        \n",
      " 24  ios_osv                   3920 non-null    object        \n",
      " 25  interest_action_mode      131246 non-null  object        \n",
      " 26  age                       98404 non-null   object        \n",
      " 27  action_categories         29739 non-null   object        \n",
      " 28  action_days               32377 non-null   float64       \n",
      " 29  action_scene              32377 non-null   object        \n",
      " 30  deep_bid_type             88700 non-null   object        \n",
      " 31  image_id                  131296 non-null  int64         \n",
      " 32  label_ids                 131296 non-null  object        \n",
      " 33  create_date               131296 non-null  datetime64[ns]\n",
      " 34  label                     131296 non-null  int64         \n",
      "dtypes: datetime64[ns](2), float64(4), int64(7), object(22)\n",
      "memory usage: 35.1+ MB\n"
     ]
    }
   ],
   "source": [
    "df.reset_index(drop=True, inplace=True)\n",
    "df.info()"
   ]
  },
  {
   "cell_type": "code",
   "execution_count": 29,
   "id": "cc5f056e",
   "metadata": {
    "ExecuteTime": {
     "end_time": "2021-06-15T08:32:55.631988Z",
     "start_time": "2021-06-15T08:32:55.597632Z"
    }
   },
   "outputs": [
    {
     "data": {
      "text/html": [
       "<div>\n",
       "<style scoped>\n",
       "    .dataframe tbody tr th:only-of-type {\n",
       "        vertical-align: middle;\n",
       "    }\n",
       "\n",
       "    .dataframe tbody tr th {\n",
       "        vertical-align: top;\n",
       "    }\n",
       "\n",
       "    .dataframe thead th {\n",
       "        text-align: right;\n",
       "    }\n",
       "</style>\n",
       "<table border=\"1\" class=\"dataframe\">\n",
       "  <thead>\n",
       "    <tr style=\"text-align: right;\">\n",
       "      <th></th>\n",
       "      <th>ad_account_id</th>\n",
       "      <th>game_id</th>\n",
       "      <th>create_time</th>\n",
       "      <th>smart_bid_type</th>\n",
       "      <th>hide_if_exists</th>\n",
       "      <th>budget</th>\n",
       "      <th>delivery_range</th>\n",
       "      <th>adjust_cpa</th>\n",
       "      <th>inventory_type</th>\n",
       "      <th>hide_if_converted</th>\n",
       "      <th>flow_control_mode</th>\n",
       "      <th>cpa_bid</th>\n",
       "      <th>auto_extend_enabled</th>\n",
       "      <th>gender</th>\n",
       "      <th>city</th>\n",
       "      <th>platform</th>\n",
       "      <th>launch_price</th>\n",
       "      <th>retargeting_tags_exclude</th>\n",
       "      <th>interest_categories</th>\n",
       "      <th>ac</th>\n",
       "      <th>android_osv</th>\n",
       "      <th>location_type</th>\n",
       "      <th>retargeting_tags_include</th>\n",
       "      <th>retargeting_type</th>\n",
       "      <th>ios_osv</th>\n",
       "      <th>interest_action_mode</th>\n",
       "      <th>age</th>\n",
       "      <th>action_categories</th>\n",
       "      <th>action_days</th>\n",
       "      <th>action_scene</th>\n",
       "      <th>deep_bid_type</th>\n",
       "      <th>image_id</th>\n",
       "      <th>label_ids</th>\n",
       "      <th>create_date</th>\n",
       "      <th>label</th>\n",
       "    </tr>\n",
       "  </thead>\n",
       "  <tbody>\n",
       "    <tr>\n",
       "      <th>0</th>\n",
       "      <td>4003</td>\n",
       "      <td>1000840</td>\n",
       "      <td>2020-01-29 18:01:59</td>\n",
       "      <td>SMART_BID_CONSERVATIVE</td>\n",
       "      <td>0</td>\n",
       "      <td>10000.0</td>\n",
       "      <td>DEFAULT</td>\n",
       "      <td>0.0</td>\n",
       "      <td>[INVENTORY_FEED, INVENTORY_HOTSOON_FEED, INVEN...</td>\n",
       "      <td>AD</td>\n",
       "      <td>FLOW_CONTROL_MODE_FAST</td>\n",
       "      <td>1377.89</td>\n",
       "      <td>0</td>\n",
       "      <td>GENDER_MALE</td>\n",
       "      <td>[11, 12, 13, 14, 15, 21, 22, 23, 31, 32, 33, 3...</td>\n",
       "      <td>1</td>\n",
       "      <td>NaN</td>\n",
       "      <td>NaN</td>\n",
       "      <td>NaN</td>\n",
       "      <td>NaN</td>\n",
       "      <td>NaN</td>\n",
       "      <td>CURRENT</td>\n",
       "      <td>NaN</td>\n",
       "      <td>NaN</td>\n",
       "      <td>NaN</td>\n",
       "      <td>UNLIMITED</td>\n",
       "      <td>[AGE_BETWEEN_24_30, AGE_BETWEEN_31_40, AGE_BET...</td>\n",
       "      <td>NaN</td>\n",
       "      <td>NaN</td>\n",
       "      <td>NaN</td>\n",
       "      <td>NaN</td>\n",
       "      <td>19636</td>\n",
       "      <td>[19]</td>\n",
       "      <td>2020-01-29</td>\n",
       "      <td>1</td>\n",
       "    </tr>\n",
       "    <tr>\n",
       "      <th>1</th>\n",
       "      <td>4003</td>\n",
       "      <td>1000840</td>\n",
       "      <td>2020-01-29 18:01:59</td>\n",
       "      <td>SMART_BID_CONSERVATIVE</td>\n",
       "      <td>0</td>\n",
       "      <td>10000.0</td>\n",
       "      <td>DEFAULT</td>\n",
       "      <td>0.0</td>\n",
       "      <td>[INVENTORY_FEED, INVENTORY_HOTSOON_FEED, INVEN...</td>\n",
       "      <td>AD</td>\n",
       "      <td>FLOW_CONTROL_MODE_FAST</td>\n",
       "      <td>1377.89</td>\n",
       "      <td>0</td>\n",
       "      <td>GENDER_MALE</td>\n",
       "      <td>[11, 12, 13, 14, 15, 21, 22, 23, 31, 32, 33, 3...</td>\n",
       "      <td>1</td>\n",
       "      <td>NaN</td>\n",
       "      <td>NaN</td>\n",
       "      <td>NaN</td>\n",
       "      <td>NaN</td>\n",
       "      <td>NaN</td>\n",
       "      <td>CURRENT</td>\n",
       "      <td>NaN</td>\n",
       "      <td>NaN</td>\n",
       "      <td>NaN</td>\n",
       "      <td>UNLIMITED</td>\n",
       "      <td>[AGE_BETWEEN_24_30, AGE_BETWEEN_31_40, AGE_BET...</td>\n",
       "      <td>NaN</td>\n",
       "      <td>NaN</td>\n",
       "      <td>NaN</td>\n",
       "      <td>NaN</td>\n",
       "      <td>19636</td>\n",
       "      <td>[19]</td>\n",
       "      <td>2020-01-29</td>\n",
       "      <td>1</td>\n",
       "    </tr>\n",
       "    <tr>\n",
       "      <th>2</th>\n",
       "      <td>4003</td>\n",
       "      <td>1000840</td>\n",
       "      <td>2020-01-29 18:01:59</td>\n",
       "      <td>SMART_BID_CONSERVATIVE</td>\n",
       "      <td>0</td>\n",
       "      <td>10000.0</td>\n",
       "      <td>DEFAULT</td>\n",
       "      <td>0.0</td>\n",
       "      <td>[INVENTORY_FEED, INVENTORY_HOTSOON_FEED, INVEN...</td>\n",
       "      <td>AD</td>\n",
       "      <td>FLOW_CONTROL_MODE_FAST</td>\n",
       "      <td>1377.89</td>\n",
       "      <td>0</td>\n",
       "      <td>GENDER_MALE</td>\n",
       "      <td>[11, 12, 13, 14, 15, 21, 22, 23, 31, 32, 33, 3...</td>\n",
       "      <td>1</td>\n",
       "      <td>NaN</td>\n",
       "      <td>NaN</td>\n",
       "      <td>NaN</td>\n",
       "      <td>NaN</td>\n",
       "      <td>NaN</td>\n",
       "      <td>CURRENT</td>\n",
       "      <td>NaN</td>\n",
       "      <td>NaN</td>\n",
       "      <td>NaN</td>\n",
       "      <td>UNLIMITED</td>\n",
       "      <td>[AGE_BETWEEN_24_30, AGE_BETWEEN_31_40, AGE_BET...</td>\n",
       "      <td>NaN</td>\n",
       "      <td>NaN</td>\n",
       "      <td>NaN</td>\n",
       "      <td>NaN</td>\n",
       "      <td>19636</td>\n",
       "      <td>[19]</td>\n",
       "      <td>2020-01-29</td>\n",
       "      <td>1</td>\n",
       "    </tr>\n",
       "    <tr>\n",
       "      <th>3</th>\n",
       "      <td>4003</td>\n",
       "      <td>1000840</td>\n",
       "      <td>2020-01-29 18:01:59</td>\n",
       "      <td>SMART_BID_CONSERVATIVE</td>\n",
       "      <td>0</td>\n",
       "      <td>10000.0</td>\n",
       "      <td>DEFAULT</td>\n",
       "      <td>0.0</td>\n",
       "      <td>[INVENTORY_FEED, INVENTORY_HOTSOON_FEED, INVEN...</td>\n",
       "      <td>AD</td>\n",
       "      <td>FLOW_CONTROL_MODE_FAST</td>\n",
       "      <td>1377.89</td>\n",
       "      <td>0</td>\n",
       "      <td>GENDER_MALE</td>\n",
       "      <td>[11, 12, 13, 14, 15, 21, 22, 23, 31, 32, 33, 3...</td>\n",
       "      <td>1</td>\n",
       "      <td>NaN</td>\n",
       "      <td>NaN</td>\n",
       "      <td>NaN</td>\n",
       "      <td>NaN</td>\n",
       "      <td>NaN</td>\n",
       "      <td>CURRENT</td>\n",
       "      <td>NaN</td>\n",
       "      <td>NaN</td>\n",
       "      <td>NaN</td>\n",
       "      <td>UNLIMITED</td>\n",
       "      <td>[AGE_BETWEEN_24_30, AGE_BETWEEN_31_40, AGE_BET...</td>\n",
       "      <td>NaN</td>\n",
       "      <td>NaN</td>\n",
       "      <td>NaN</td>\n",
       "      <td>NaN</td>\n",
       "      <td>19636</td>\n",
       "      <td>[19]</td>\n",
       "      <td>2020-01-29</td>\n",
       "      <td>1</td>\n",
       "    </tr>\n",
       "    <tr>\n",
       "      <th>4</th>\n",
       "      <td>4003</td>\n",
       "      <td>1000840</td>\n",
       "      <td>2020-01-30 14:32:38</td>\n",
       "      <td>SMART_BID_CONSERVATIVE</td>\n",
       "      <td>0</td>\n",
       "      <td>10000.0</td>\n",
       "      <td>DEFAULT</td>\n",
       "      <td>0.0</td>\n",
       "      <td>[INVENTORY_FEED, INVENTORY_HOTSOON_FEED, INVEN...</td>\n",
       "      <td>AD</td>\n",
       "      <td>FLOW_CONTROL_MODE_FAST</td>\n",
       "      <td>1484.64</td>\n",
       "      <td>0</td>\n",
       "      <td>GENDER_MALE</td>\n",
       "      <td>[11, 12, 13, 14, 15, 21, 22, 23, 31, 32, 33, 3...</td>\n",
       "      <td>1</td>\n",
       "      <td>NaN</td>\n",
       "      <td>NaN</td>\n",
       "      <td>NaN</td>\n",
       "      <td>NaN</td>\n",
       "      <td>NaN</td>\n",
       "      <td>CURRENT</td>\n",
       "      <td>NaN</td>\n",
       "      <td>NaN</td>\n",
       "      <td>NaN</td>\n",
       "      <td>UNLIMITED</td>\n",
       "      <td>[AGE_BETWEEN_24_30, AGE_BETWEEN_31_40, AGE_BET...</td>\n",
       "      <td>NaN</td>\n",
       "      <td>NaN</td>\n",
       "      <td>NaN</td>\n",
       "      <td>NaN</td>\n",
       "      <td>19636</td>\n",
       "      <td>[19]</td>\n",
       "      <td>2020-01-30</td>\n",
       "      <td>1</td>\n",
       "    </tr>\n",
       "  </tbody>\n",
       "</table>\n",
       "</div>"
      ],
      "text/plain": [
       "   ad_account_id  game_id         create_time          smart_bid_type  \\\n",
       "0           4003  1000840 2020-01-29 18:01:59  SMART_BID_CONSERVATIVE   \n",
       "1           4003  1000840 2020-01-29 18:01:59  SMART_BID_CONSERVATIVE   \n",
       "2           4003  1000840 2020-01-29 18:01:59  SMART_BID_CONSERVATIVE   \n",
       "3           4003  1000840 2020-01-29 18:01:59  SMART_BID_CONSERVATIVE   \n",
       "4           4003  1000840 2020-01-30 14:32:38  SMART_BID_CONSERVATIVE   \n",
       "\n",
       "   hide_if_exists   budget delivery_range  adjust_cpa  \\\n",
       "0               0  10000.0        DEFAULT         0.0   \n",
       "1               0  10000.0        DEFAULT         0.0   \n",
       "2               0  10000.0        DEFAULT         0.0   \n",
       "3               0  10000.0        DEFAULT         0.0   \n",
       "4               0  10000.0        DEFAULT         0.0   \n",
       "\n",
       "                                      inventory_type hide_if_converted  \\\n",
       "0  [INVENTORY_FEED, INVENTORY_HOTSOON_FEED, INVEN...                AD   \n",
       "1  [INVENTORY_FEED, INVENTORY_HOTSOON_FEED, INVEN...                AD   \n",
       "2  [INVENTORY_FEED, INVENTORY_HOTSOON_FEED, INVEN...                AD   \n",
       "3  [INVENTORY_FEED, INVENTORY_HOTSOON_FEED, INVEN...                AD   \n",
       "4  [INVENTORY_FEED, INVENTORY_HOTSOON_FEED, INVEN...                AD   \n",
       "\n",
       "        flow_control_mode  cpa_bid  auto_extend_enabled       gender  \\\n",
       "0  FLOW_CONTROL_MODE_FAST  1377.89                    0  GENDER_MALE   \n",
       "1  FLOW_CONTROL_MODE_FAST  1377.89                    0  GENDER_MALE   \n",
       "2  FLOW_CONTROL_MODE_FAST  1377.89                    0  GENDER_MALE   \n",
       "3  FLOW_CONTROL_MODE_FAST  1377.89                    0  GENDER_MALE   \n",
       "4  FLOW_CONTROL_MODE_FAST  1484.64                    0  GENDER_MALE   \n",
       "\n",
       "                                                city  platform launch_price  \\\n",
       "0  [11, 12, 13, 14, 15, 21, 22, 23, 31, 32, 33, 3...         1          NaN   \n",
       "1  [11, 12, 13, 14, 15, 21, 22, 23, 31, 32, 33, 3...         1          NaN   \n",
       "2  [11, 12, 13, 14, 15, 21, 22, 23, 31, 32, 33, 3...         1          NaN   \n",
       "3  [11, 12, 13, 14, 15, 21, 22, 23, 31, 32, 33, 3...         1          NaN   \n",
       "4  [11, 12, 13, 14, 15, 21, 22, 23, 31, 32, 33, 3...         1          NaN   \n",
       "\n",
       "  retargeting_tags_exclude interest_categories   ac android_osv location_type  \\\n",
       "0                      NaN                 NaN  NaN         NaN       CURRENT   \n",
       "1                      NaN                 NaN  NaN         NaN       CURRENT   \n",
       "2                      NaN                 NaN  NaN         NaN       CURRENT   \n",
       "3                      NaN                 NaN  NaN         NaN       CURRENT   \n",
       "4                      NaN                 NaN  NaN         NaN       CURRENT   \n",
       "\n",
       "  retargeting_tags_include retargeting_type ios_osv interest_action_mode  \\\n",
       "0                      NaN              NaN     NaN            UNLIMITED   \n",
       "1                      NaN              NaN     NaN            UNLIMITED   \n",
       "2                      NaN              NaN     NaN            UNLIMITED   \n",
       "3                      NaN              NaN     NaN            UNLIMITED   \n",
       "4                      NaN              NaN     NaN            UNLIMITED   \n",
       "\n",
       "                                                 age action_categories  \\\n",
       "0  [AGE_BETWEEN_24_30, AGE_BETWEEN_31_40, AGE_BET...               NaN   \n",
       "1  [AGE_BETWEEN_24_30, AGE_BETWEEN_31_40, AGE_BET...               NaN   \n",
       "2  [AGE_BETWEEN_24_30, AGE_BETWEEN_31_40, AGE_BET...               NaN   \n",
       "3  [AGE_BETWEEN_24_30, AGE_BETWEEN_31_40, AGE_BET...               NaN   \n",
       "4  [AGE_BETWEEN_24_30, AGE_BETWEEN_31_40, AGE_BET...               NaN   \n",
       "\n",
       "   action_days action_scene deep_bid_type  image_id label_ids create_date  \\\n",
       "0          NaN          NaN           NaN     19636      [19]  2020-01-29   \n",
       "1          NaN          NaN           NaN     19636      [19]  2020-01-29   \n",
       "2          NaN          NaN           NaN     19636      [19]  2020-01-29   \n",
       "3          NaN          NaN           NaN     19636      [19]  2020-01-29   \n",
       "4          NaN          NaN           NaN     19636      [19]  2020-01-30   \n",
       "\n",
       "   label  \n",
       "0      1  \n",
       "1      1  \n",
       "2      1  \n",
       "3      1  \n",
       "4      1  "
      ]
     },
     "execution_count": 29,
     "metadata": {},
     "output_type": "execute_result"
    }
   ],
   "source": [
    "df.head()"
   ]
  },
  {
   "cell_type": "markdown",
   "id": "96c43765",
   "metadata": {},
   "source": [
    "## 特征工程\n",
    "* 连续值标准化;\n",
    "* 离散值2种方式;"
   ]
  },
  {
   "cell_type": "markdown",
   "id": "579a3ba9",
   "metadata": {
    "ExecuteTime": {
     "end_time": "2021-06-04T08:41:24.156824Z",
     "start_time": "2021-06-04T08:41:24.153769Z"
    }
   },
   "source": [
    "### 离散值\n",
    "* Embedding编码：list定向组合的特征"
   ]
  },
  {
   "cell_type": "code",
   "execution_count": 30,
   "id": "82bcf4a0",
   "metadata": {
    "ExecuteTime": {
     "end_time": "2021-06-15T08:32:55.639681Z",
     "start_time": "2021-06-15T08:32:55.634041Z"
    }
   },
   "outputs": [],
   "source": [
    "def get_mutil_feature(data):\n",
    "    cols = ['inventory_type', 'age', 'label_ids', 'ac']\n",
    "    for col in cols:\n",
    "        data[col] = data[col].apply(lambda x: x if x == x else np.nan)\n",
    "        data = data.join(data[col].str.join('|').str.get_dummies().add_prefix(col + '_').reset_index(drop=True))\n",
    "        data.drop(col, axis=1, inplace=True)\n",
    "    # gc.collect()\n",
    "    return data"
   ]
  },
  {
   "cell_type": "code",
   "execution_count": 31,
   "id": "f9be50f9",
   "metadata": {
    "ExecuteTime": {
     "end_time": "2021-06-15T08:33:00.479802Z",
     "start_time": "2021-06-15T08:32:55.642418Z"
    }
   },
   "outputs": [],
   "source": [
    "df = get_mutil_feature(df)"
   ]
  },
  {
   "cell_type": "markdown",
   "id": "73a7fa1c",
   "metadata": {},
   "source": [
    "* 其他全部数字编码"
   ]
  },
  {
   "cell_type": "code",
   "execution_count": 32,
   "id": "e25ee65e",
   "metadata": {
    "ExecuteTime": {
     "end_time": "2021-06-15T08:33:00.483866Z",
     "start_time": "2021-06-15T08:33:00.481317Z"
    }
   },
   "outputs": [],
   "source": [
    "cat_cols = ['ad_account_id', 'game_id', 'delivery_range', 'flow_control_mode','adjust_cpa',\n",
    "            'smart_bid_type', 'hide_if_converted', 'hide_if_exists', 'auto_extend_enabled', 'gender', \n",
    "            'location_type', 'launch_price', 'retargeting_type',\n",
    "            'android_osv', 'interest_action_mode', 'action_days','deep_bid_type']"
   ]
  },
  {
   "cell_type": "code",
   "execution_count": 33,
   "id": "b58e05b3",
   "metadata": {
    "ExecuteTime": {
     "end_time": "2021-06-15T08:33:02.527494Z",
     "start_time": "2021-06-15T08:33:00.485498Z"
    }
   },
   "outputs": [],
   "source": [
    "for col in cat_cols:\n",
    "    le = LabelEncoder()\n",
    "    df[col] = df[col].astype(str)\n",
    "    df[col] = le.fit_transform(df[col])\n",
    "    res = {}\n",
    "    for cl in le.classes_:\n",
    "        res.update({cl:le.transform([cl])[0]})\n",
    "    frame = pd.DataFrame.from_dict(res, orient='index', columns=['values'])\n",
    "#     frame.to_csv(\"./tmp/{}.csv\".format(col))"
   ]
  },
  {
   "cell_type": "code",
   "execution_count": 34,
   "id": "90fa196f",
   "metadata": {
    "ExecuteTime": {
     "end_time": "2021-06-15T08:33:02.579323Z",
     "start_time": "2021-06-15T08:33:02.528928Z"
    }
   },
   "outputs": [],
   "source": [
    "df = df.drop(['create_date', 'city', 'action_categories', 'action_scene', 'interest_categories', 'retargeting_tags_include', 'retargeting_tags_exclude'], axis=1)\n",
    "# df = df[['cpa_bid', 'budget', 'image_id', 'label']]"
   ]
  },
  {
   "cell_type": "code",
   "execution_count": 35,
   "id": "0b2cf63d",
   "metadata": {
    "ExecuteTime": {
     "end_time": "2021-06-15T08:33:02.607924Z",
     "start_time": "2021-06-15T08:33:02.580818Z"
    }
   },
   "outputs": [
    {
     "data": {
      "text/html": [
       "<div>\n",
       "<style scoped>\n",
       "    .dataframe tbody tr th:only-of-type {\n",
       "        vertical-align: middle;\n",
       "    }\n",
       "\n",
       "    .dataframe tbody tr th {\n",
       "        vertical-align: top;\n",
       "    }\n",
       "\n",
       "    .dataframe thead th {\n",
       "        text-align: right;\n",
       "    }\n",
       "</style>\n",
       "<table border=\"1\" class=\"dataframe\">\n",
       "  <thead>\n",
       "    <tr style=\"text-align: right;\">\n",
       "      <th></th>\n",
       "      <th>ad_account_id</th>\n",
       "      <th>game_id</th>\n",
       "      <th>create_time</th>\n",
       "      <th>smart_bid_type</th>\n",
       "      <th>hide_if_exists</th>\n",
       "      <th>budget</th>\n",
       "      <th>delivery_range</th>\n",
       "      <th>adjust_cpa</th>\n",
       "      <th>hide_if_converted</th>\n",
       "      <th>flow_control_mode</th>\n",
       "      <th>cpa_bid</th>\n",
       "      <th>auto_extend_enabled</th>\n",
       "      <th>gender</th>\n",
       "      <th>platform</th>\n",
       "      <th>launch_price</th>\n",
       "      <th>android_osv</th>\n",
       "      <th>location_type</th>\n",
       "      <th>retargeting_type</th>\n",
       "      <th>ios_osv</th>\n",
       "      <th>interest_action_mode</th>\n",
       "      <th>action_days</th>\n",
       "      <th>deep_bid_type</th>\n",
       "      <th>image_id</th>\n",
       "      <th>label</th>\n",
       "      <th>inventory_type_INVENTORY_AWEME_FEED</th>\n",
       "      <th>inventory_type_INVENTORY_AWEME_SEARCH</th>\n",
       "      <th>inventory_type_INVENTORY_FEED</th>\n",
       "      <th>inventory_type_INVENTORY_HOTSOON_FEED</th>\n",
       "      <th>inventory_type_INVENTORY_SEARCH</th>\n",
       "      <th>inventory_type_INVENTORY_TOMATO_NOVEL</th>\n",
       "      <th>inventory_type_INVENTORY_UNION_SLOT</th>\n",
       "      <th>inventory_type_INVENTORY_UNION_SPLASH_SLOT</th>\n",
       "      <th>inventory_type_INVENTORY_VIDEO_FEED</th>\n",
       "      <th>inventory_type_UNION_BOUTIQUE_GAME</th>\n",
       "      <th>age_AGE_ABOVE_50</th>\n",
       "      <th>age_AGE_BETWEEN_18_23</th>\n",
       "      <th>age_AGE_BETWEEN_24_30</th>\n",
       "      <th>age_AGE_BETWEEN_31_40</th>\n",
       "      <th>age_AGE_BETWEEN_41_49</th>\n",
       "      <th>label_ids_100</th>\n",
       "      <th>label_ids_101</th>\n",
       "      <th>label_ids_103</th>\n",
       "      <th>label_ids_111</th>\n",
       "      <th>label_ids_127</th>\n",
       "      <th>label_ids_13</th>\n",
       "      <th>label_ids_145</th>\n",
       "      <th>label_ids_149</th>\n",
       "      <th>label_ids_158</th>\n",
       "      <th>label_ids_19</th>\n",
       "      <th>label_ids_20</th>\n",
       "      <th>label_ids_22</th>\n",
       "      <th>label_ids_27</th>\n",
       "      <th>label_ids_67</th>\n",
       "      <th>label_ids_95</th>\n",
       "      <th>label_ids_96</th>\n",
       "      <th>label_ids_98</th>\n",
       "      <th>label_ids_99</th>\n",
       "      <th>ac_2G</th>\n",
       "      <th>ac_3G</th>\n",
       "      <th>ac_4G</th>\n",
       "      <th>ac_WIFI</th>\n",
       "    </tr>\n",
       "  </thead>\n",
       "  <tbody>\n",
       "    <tr>\n",
       "      <th>0</th>\n",
       "      <td>2</td>\n",
       "      <td>0</td>\n",
       "      <td>2020-01-29 18:01:59</td>\n",
       "      <td>0</td>\n",
       "      <td>0</td>\n",
       "      <td>10000.0</td>\n",
       "      <td>0</td>\n",
       "      <td>0</td>\n",
       "      <td>0</td>\n",
       "      <td>1</td>\n",
       "      <td>1377.89</td>\n",
       "      <td>0</td>\n",
       "      <td>1</td>\n",
       "      <td>1</td>\n",
       "      <td>11</td>\n",
       "      <td>8</td>\n",
       "      <td>1</td>\n",
       "      <td>2</td>\n",
       "      <td>NaN</td>\n",
       "      <td>2</td>\n",
       "      <td>7</td>\n",
       "      <td>7</td>\n",
       "      <td>19636</td>\n",
       "      <td>1</td>\n",
       "      <td>1</td>\n",
       "      <td>0</td>\n",
       "      <td>1</td>\n",
       "      <td>1</td>\n",
       "      <td>0</td>\n",
       "      <td>0</td>\n",
       "      <td>0</td>\n",
       "      <td>0</td>\n",
       "      <td>1</td>\n",
       "      <td>0</td>\n",
       "      <td>0</td>\n",
       "      <td>0</td>\n",
       "      <td>1</td>\n",
       "      <td>1</td>\n",
       "      <td>1</td>\n",
       "      <td>0</td>\n",
       "      <td>0</td>\n",
       "      <td>0</td>\n",
       "      <td>0</td>\n",
       "      <td>0</td>\n",
       "      <td>0</td>\n",
       "      <td>0</td>\n",
       "      <td>0</td>\n",
       "      <td>0</td>\n",
       "      <td>1</td>\n",
       "      <td>0</td>\n",
       "      <td>0</td>\n",
       "      <td>0</td>\n",
       "      <td>0</td>\n",
       "      <td>0</td>\n",
       "      <td>0</td>\n",
       "      <td>0</td>\n",
       "      <td>0</td>\n",
       "      <td>0</td>\n",
       "      <td>0</td>\n",
       "      <td>0</td>\n",
       "      <td>0</td>\n",
       "    </tr>\n",
       "    <tr>\n",
       "      <th>1</th>\n",
       "      <td>2</td>\n",
       "      <td>0</td>\n",
       "      <td>2020-01-29 18:01:59</td>\n",
       "      <td>0</td>\n",
       "      <td>0</td>\n",
       "      <td>10000.0</td>\n",
       "      <td>0</td>\n",
       "      <td>0</td>\n",
       "      <td>0</td>\n",
       "      <td>1</td>\n",
       "      <td>1377.89</td>\n",
       "      <td>0</td>\n",
       "      <td>1</td>\n",
       "      <td>1</td>\n",
       "      <td>11</td>\n",
       "      <td>8</td>\n",
       "      <td>1</td>\n",
       "      <td>2</td>\n",
       "      <td>NaN</td>\n",
       "      <td>2</td>\n",
       "      <td>7</td>\n",
       "      <td>7</td>\n",
       "      <td>19636</td>\n",
       "      <td>1</td>\n",
       "      <td>1</td>\n",
       "      <td>0</td>\n",
       "      <td>1</td>\n",
       "      <td>1</td>\n",
       "      <td>0</td>\n",
       "      <td>0</td>\n",
       "      <td>0</td>\n",
       "      <td>0</td>\n",
       "      <td>1</td>\n",
       "      <td>0</td>\n",
       "      <td>0</td>\n",
       "      <td>0</td>\n",
       "      <td>1</td>\n",
       "      <td>1</td>\n",
       "      <td>1</td>\n",
       "      <td>0</td>\n",
       "      <td>0</td>\n",
       "      <td>0</td>\n",
       "      <td>0</td>\n",
       "      <td>0</td>\n",
       "      <td>0</td>\n",
       "      <td>0</td>\n",
       "      <td>0</td>\n",
       "      <td>0</td>\n",
       "      <td>1</td>\n",
       "      <td>0</td>\n",
       "      <td>0</td>\n",
       "      <td>0</td>\n",
       "      <td>0</td>\n",
       "      <td>0</td>\n",
       "      <td>0</td>\n",
       "      <td>0</td>\n",
       "      <td>0</td>\n",
       "      <td>0</td>\n",
       "      <td>0</td>\n",
       "      <td>0</td>\n",
       "      <td>0</td>\n",
       "    </tr>\n",
       "    <tr>\n",
       "      <th>2</th>\n",
       "      <td>2</td>\n",
       "      <td>0</td>\n",
       "      <td>2020-01-29 18:01:59</td>\n",
       "      <td>0</td>\n",
       "      <td>0</td>\n",
       "      <td>10000.0</td>\n",
       "      <td>0</td>\n",
       "      <td>0</td>\n",
       "      <td>0</td>\n",
       "      <td>1</td>\n",
       "      <td>1377.89</td>\n",
       "      <td>0</td>\n",
       "      <td>1</td>\n",
       "      <td>1</td>\n",
       "      <td>11</td>\n",
       "      <td>8</td>\n",
       "      <td>1</td>\n",
       "      <td>2</td>\n",
       "      <td>NaN</td>\n",
       "      <td>2</td>\n",
       "      <td>7</td>\n",
       "      <td>7</td>\n",
       "      <td>19636</td>\n",
       "      <td>1</td>\n",
       "      <td>1</td>\n",
       "      <td>0</td>\n",
       "      <td>1</td>\n",
       "      <td>1</td>\n",
       "      <td>0</td>\n",
       "      <td>0</td>\n",
       "      <td>0</td>\n",
       "      <td>0</td>\n",
       "      <td>1</td>\n",
       "      <td>0</td>\n",
       "      <td>0</td>\n",
       "      <td>0</td>\n",
       "      <td>1</td>\n",
       "      <td>1</td>\n",
       "      <td>1</td>\n",
       "      <td>0</td>\n",
       "      <td>0</td>\n",
       "      <td>0</td>\n",
       "      <td>0</td>\n",
       "      <td>0</td>\n",
       "      <td>0</td>\n",
       "      <td>0</td>\n",
       "      <td>0</td>\n",
       "      <td>0</td>\n",
       "      <td>1</td>\n",
       "      <td>0</td>\n",
       "      <td>0</td>\n",
       "      <td>0</td>\n",
       "      <td>0</td>\n",
       "      <td>0</td>\n",
       "      <td>0</td>\n",
       "      <td>0</td>\n",
       "      <td>0</td>\n",
       "      <td>0</td>\n",
       "      <td>0</td>\n",
       "      <td>0</td>\n",
       "      <td>0</td>\n",
       "    </tr>\n",
       "    <tr>\n",
       "      <th>3</th>\n",
       "      <td>2</td>\n",
       "      <td>0</td>\n",
       "      <td>2020-01-29 18:01:59</td>\n",
       "      <td>0</td>\n",
       "      <td>0</td>\n",
       "      <td>10000.0</td>\n",
       "      <td>0</td>\n",
       "      <td>0</td>\n",
       "      <td>0</td>\n",
       "      <td>1</td>\n",
       "      <td>1377.89</td>\n",
       "      <td>0</td>\n",
       "      <td>1</td>\n",
       "      <td>1</td>\n",
       "      <td>11</td>\n",
       "      <td>8</td>\n",
       "      <td>1</td>\n",
       "      <td>2</td>\n",
       "      <td>NaN</td>\n",
       "      <td>2</td>\n",
       "      <td>7</td>\n",
       "      <td>7</td>\n",
       "      <td>19636</td>\n",
       "      <td>1</td>\n",
       "      <td>1</td>\n",
       "      <td>0</td>\n",
       "      <td>1</td>\n",
       "      <td>1</td>\n",
       "      <td>0</td>\n",
       "      <td>0</td>\n",
       "      <td>0</td>\n",
       "      <td>0</td>\n",
       "      <td>1</td>\n",
       "      <td>0</td>\n",
       "      <td>0</td>\n",
       "      <td>0</td>\n",
       "      <td>1</td>\n",
       "      <td>1</td>\n",
       "      <td>1</td>\n",
       "      <td>0</td>\n",
       "      <td>0</td>\n",
       "      <td>0</td>\n",
       "      <td>0</td>\n",
       "      <td>0</td>\n",
       "      <td>0</td>\n",
       "      <td>0</td>\n",
       "      <td>0</td>\n",
       "      <td>0</td>\n",
       "      <td>1</td>\n",
       "      <td>0</td>\n",
       "      <td>0</td>\n",
       "      <td>0</td>\n",
       "      <td>0</td>\n",
       "      <td>0</td>\n",
       "      <td>0</td>\n",
       "      <td>0</td>\n",
       "      <td>0</td>\n",
       "      <td>0</td>\n",
       "      <td>0</td>\n",
       "      <td>0</td>\n",
       "      <td>0</td>\n",
       "    </tr>\n",
       "    <tr>\n",
       "      <th>4</th>\n",
       "      <td>2</td>\n",
       "      <td>0</td>\n",
       "      <td>2020-01-30 14:32:38</td>\n",
       "      <td>0</td>\n",
       "      <td>0</td>\n",
       "      <td>10000.0</td>\n",
       "      <td>0</td>\n",
       "      <td>0</td>\n",
       "      <td>0</td>\n",
       "      <td>1</td>\n",
       "      <td>1484.64</td>\n",
       "      <td>0</td>\n",
       "      <td>1</td>\n",
       "      <td>1</td>\n",
       "      <td>11</td>\n",
       "      <td>8</td>\n",
       "      <td>1</td>\n",
       "      <td>2</td>\n",
       "      <td>NaN</td>\n",
       "      <td>2</td>\n",
       "      <td>7</td>\n",
       "      <td>7</td>\n",
       "      <td>19636</td>\n",
       "      <td>1</td>\n",
       "      <td>1</td>\n",
       "      <td>0</td>\n",
       "      <td>1</td>\n",
       "      <td>1</td>\n",
       "      <td>0</td>\n",
       "      <td>0</td>\n",
       "      <td>0</td>\n",
       "      <td>0</td>\n",
       "      <td>1</td>\n",
       "      <td>0</td>\n",
       "      <td>0</td>\n",
       "      <td>0</td>\n",
       "      <td>1</td>\n",
       "      <td>1</td>\n",
       "      <td>1</td>\n",
       "      <td>0</td>\n",
       "      <td>0</td>\n",
       "      <td>0</td>\n",
       "      <td>0</td>\n",
       "      <td>0</td>\n",
       "      <td>0</td>\n",
       "      <td>0</td>\n",
       "      <td>0</td>\n",
       "      <td>0</td>\n",
       "      <td>1</td>\n",
       "      <td>0</td>\n",
       "      <td>0</td>\n",
       "      <td>0</td>\n",
       "      <td>0</td>\n",
       "      <td>0</td>\n",
       "      <td>0</td>\n",
       "      <td>0</td>\n",
       "      <td>0</td>\n",
       "      <td>0</td>\n",
       "      <td>0</td>\n",
       "      <td>0</td>\n",
       "      <td>0</td>\n",
       "    </tr>\n",
       "  </tbody>\n",
       "</table>\n",
       "</div>"
      ],
      "text/plain": [
       "   ad_account_id  game_id         create_time  smart_bid_type  hide_if_exists  \\\n",
       "0              2        0 2020-01-29 18:01:59               0               0   \n",
       "1              2        0 2020-01-29 18:01:59               0               0   \n",
       "2              2        0 2020-01-29 18:01:59               0               0   \n",
       "3              2        0 2020-01-29 18:01:59               0               0   \n",
       "4              2        0 2020-01-30 14:32:38               0               0   \n",
       "\n",
       "    budget  delivery_range  adjust_cpa  hide_if_converted  flow_control_mode  \\\n",
       "0  10000.0               0           0                  0                  1   \n",
       "1  10000.0               0           0                  0                  1   \n",
       "2  10000.0               0           0                  0                  1   \n",
       "3  10000.0               0           0                  0                  1   \n",
       "4  10000.0               0           0                  0                  1   \n",
       "\n",
       "   cpa_bid  auto_extend_enabled  gender  platform  launch_price  android_osv  \\\n",
       "0  1377.89                    0       1         1            11            8   \n",
       "1  1377.89                    0       1         1            11            8   \n",
       "2  1377.89                    0       1         1            11            8   \n",
       "3  1377.89                    0       1         1            11            8   \n",
       "4  1484.64                    0       1         1            11            8   \n",
       "\n",
       "   location_type  retargeting_type ios_osv  interest_action_mode  action_days  \\\n",
       "0              1                 2     NaN                     2            7   \n",
       "1              1                 2     NaN                     2            7   \n",
       "2              1                 2     NaN                     2            7   \n",
       "3              1                 2     NaN                     2            7   \n",
       "4              1                 2     NaN                     2            7   \n",
       "\n",
       "   deep_bid_type  image_id  label  inventory_type_INVENTORY_AWEME_FEED  \\\n",
       "0              7     19636      1                                    1   \n",
       "1              7     19636      1                                    1   \n",
       "2              7     19636      1                                    1   \n",
       "3              7     19636      1                                    1   \n",
       "4              7     19636      1                                    1   \n",
       "\n",
       "   inventory_type_INVENTORY_AWEME_SEARCH  inventory_type_INVENTORY_FEED  \\\n",
       "0                                      0                              1   \n",
       "1                                      0                              1   \n",
       "2                                      0                              1   \n",
       "3                                      0                              1   \n",
       "4                                      0                              1   \n",
       "\n",
       "   inventory_type_INVENTORY_HOTSOON_FEED  inventory_type_INVENTORY_SEARCH  \\\n",
       "0                                      1                                0   \n",
       "1                                      1                                0   \n",
       "2                                      1                                0   \n",
       "3                                      1                                0   \n",
       "4                                      1                                0   \n",
       "\n",
       "   inventory_type_INVENTORY_TOMATO_NOVEL  inventory_type_INVENTORY_UNION_SLOT  \\\n",
       "0                                      0                                    0   \n",
       "1                                      0                                    0   \n",
       "2                                      0                                    0   \n",
       "3                                      0                                    0   \n",
       "4                                      0                                    0   \n",
       "\n",
       "   inventory_type_INVENTORY_UNION_SPLASH_SLOT  \\\n",
       "0                                           0   \n",
       "1                                           0   \n",
       "2                                           0   \n",
       "3                                           0   \n",
       "4                                           0   \n",
       "\n",
       "   inventory_type_INVENTORY_VIDEO_FEED  inventory_type_UNION_BOUTIQUE_GAME  \\\n",
       "0                                    1                                   0   \n",
       "1                                    1                                   0   \n",
       "2                                    1                                   0   \n",
       "3                                    1                                   0   \n",
       "4                                    1                                   0   \n",
       "\n",
       "   age_AGE_ABOVE_50  age_AGE_BETWEEN_18_23  age_AGE_BETWEEN_24_30  \\\n",
       "0                 0                      0                      1   \n",
       "1                 0                      0                      1   \n",
       "2                 0                      0                      1   \n",
       "3                 0                      0                      1   \n",
       "4                 0                      0                      1   \n",
       "\n",
       "   age_AGE_BETWEEN_31_40  age_AGE_BETWEEN_41_49  label_ids_100  label_ids_101  \\\n",
       "0                      1                      1              0              0   \n",
       "1                      1                      1              0              0   \n",
       "2                      1                      1              0              0   \n",
       "3                      1                      1              0              0   \n",
       "4                      1                      1              0              0   \n",
       "\n",
       "   label_ids_103  label_ids_111  label_ids_127  label_ids_13  label_ids_145  \\\n",
       "0              0              0              0             0              0   \n",
       "1              0              0              0             0              0   \n",
       "2              0              0              0             0              0   \n",
       "3              0              0              0             0              0   \n",
       "4              0              0              0             0              0   \n",
       "\n",
       "   label_ids_149  label_ids_158  label_ids_19  label_ids_20  label_ids_22  \\\n",
       "0              0              0             1             0             0   \n",
       "1              0              0             1             0             0   \n",
       "2              0              0             1             0             0   \n",
       "3              0              0             1             0             0   \n",
       "4              0              0             1             0             0   \n",
       "\n",
       "   label_ids_27  label_ids_67  label_ids_95  label_ids_96  label_ids_98  \\\n",
       "0             0             0             0             0             0   \n",
       "1             0             0             0             0             0   \n",
       "2             0             0             0             0             0   \n",
       "3             0             0             0             0             0   \n",
       "4             0             0             0             0             0   \n",
       "\n",
       "   label_ids_99  ac_2G  ac_3G  ac_4G  ac_WIFI  \n",
       "0             0      0      0      0        0  \n",
       "1             0      0      0      0        0  \n",
       "2             0      0      0      0        0  \n",
       "3             0      0      0      0        0  \n",
       "4             0      0      0      0        0  "
      ]
     },
     "execution_count": 35,
     "metadata": {},
     "output_type": "execute_result"
    }
   ],
   "source": [
    "df.reset_index(drop=True, inplace=True)\n",
    "df.head()"
   ]
  },
  {
   "cell_type": "code",
   "execution_count": 36,
   "id": "8190a3ba",
   "metadata": {
    "ExecuteTime": {
     "end_time": "2021-06-15T08:33:02.615311Z",
     "start_time": "2021-06-15T08:33:02.609592Z"
    }
   },
   "outputs": [
    {
     "data": {
      "text/plain": [
       "Index(['ad_account_id', 'game_id', 'create_time', 'smart_bid_type',\n",
       "       'hide_if_exists', 'budget', 'delivery_range', 'adjust_cpa',\n",
       "       'hide_if_converted', 'flow_control_mode', 'cpa_bid',\n",
       "       'auto_extend_enabled', 'gender', 'platform', 'launch_price',\n",
       "       'android_osv', 'location_type', 'retargeting_type', 'ios_osv',\n",
       "       'interest_action_mode', 'action_days', 'deep_bid_type', 'image_id',\n",
       "       'label', 'inventory_type_INVENTORY_AWEME_FEED',\n",
       "       'inventory_type_INVENTORY_AWEME_SEARCH',\n",
       "       'inventory_type_INVENTORY_FEED',\n",
       "       'inventory_type_INVENTORY_HOTSOON_FEED',\n",
       "       'inventory_type_INVENTORY_SEARCH',\n",
       "       'inventory_type_INVENTORY_TOMATO_NOVEL',\n",
       "       'inventory_type_INVENTORY_UNION_SLOT',\n",
       "       'inventory_type_INVENTORY_UNION_SPLASH_SLOT',\n",
       "       'inventory_type_INVENTORY_VIDEO_FEED',\n",
       "       'inventory_type_UNION_BOUTIQUE_GAME', 'age_AGE_ABOVE_50',\n",
       "       'age_AGE_BETWEEN_18_23', 'age_AGE_BETWEEN_24_30',\n",
       "       'age_AGE_BETWEEN_31_40', 'age_AGE_BETWEEN_41_49', 'label_ids_100',\n",
       "       'label_ids_101', 'label_ids_103', 'label_ids_111', 'label_ids_127',\n",
       "       'label_ids_13', 'label_ids_145', 'label_ids_149', 'label_ids_158',\n",
       "       'label_ids_19', 'label_ids_20', 'label_ids_22', 'label_ids_27',\n",
       "       'label_ids_67', 'label_ids_95', 'label_ids_96', 'label_ids_98',\n",
       "       'label_ids_99', 'ac_2G', 'ac_3G', 'ac_4G', 'ac_WIFI'],\n",
       "      dtype='object')"
      ]
     },
     "execution_count": 36,
     "metadata": {},
     "output_type": "execute_result"
    }
   ],
   "source": [
    "df.columns"
   ]
  },
  {
   "cell_type": "code",
   "execution_count": 37,
   "id": "d9c0b69f",
   "metadata": {
    "ExecuteTime": {
     "end_time": "2021-06-15T08:33:02.620825Z",
     "start_time": "2021-06-15T08:33:02.617065Z"
    }
   },
   "outputs": [],
   "source": [
    "# df['budget'].isnull().any()"
   ]
  },
  {
   "cell_type": "markdown",
   "id": "5ded4435",
   "metadata": {},
   "source": [
    "### 去重"
   ]
  },
  {
   "cell_type": "code",
   "execution_count": 38,
   "id": "f327f29d",
   "metadata": {
    "ExecuteTime": {
     "end_time": "2021-06-15T08:33:02.749366Z",
     "start_time": "2021-06-15T08:33:02.622603Z"
    }
   },
   "outputs": [
    {
     "data": {
      "text/html": [
       "<div>\n",
       "<style scoped>\n",
       "    .dataframe tbody tr th:only-of-type {\n",
       "        vertical-align: middle;\n",
       "    }\n",
       "\n",
       "    .dataframe tbody tr th {\n",
       "        vertical-align: top;\n",
       "    }\n",
       "\n",
       "    .dataframe thead th {\n",
       "        text-align: right;\n",
       "    }\n",
       "</style>\n",
       "<table border=\"1\" class=\"dataframe\">\n",
       "  <thead>\n",
       "    <tr style=\"text-align: right;\">\n",
       "      <th></th>\n",
       "      <th>ad_account_id</th>\n",
       "      <th>game_id</th>\n",
       "      <th>create_time</th>\n",
       "      <th>smart_bid_type</th>\n",
       "      <th>hide_if_exists</th>\n",
       "      <th>budget</th>\n",
       "      <th>delivery_range</th>\n",
       "      <th>adjust_cpa</th>\n",
       "      <th>hide_if_converted</th>\n",
       "      <th>flow_control_mode</th>\n",
       "      <th>cpa_bid</th>\n",
       "      <th>auto_extend_enabled</th>\n",
       "      <th>gender</th>\n",
       "      <th>platform</th>\n",
       "      <th>launch_price</th>\n",
       "      <th>android_osv</th>\n",
       "      <th>location_type</th>\n",
       "      <th>retargeting_type</th>\n",
       "      <th>ios_osv</th>\n",
       "      <th>interest_action_mode</th>\n",
       "      <th>action_days</th>\n",
       "      <th>deep_bid_type</th>\n",
       "      <th>image_id</th>\n",
       "      <th>label</th>\n",
       "      <th>inventory_type_INVENTORY_AWEME_FEED</th>\n",
       "      <th>inventory_type_INVENTORY_AWEME_SEARCH</th>\n",
       "      <th>inventory_type_INVENTORY_FEED</th>\n",
       "      <th>inventory_type_INVENTORY_HOTSOON_FEED</th>\n",
       "      <th>inventory_type_INVENTORY_SEARCH</th>\n",
       "      <th>inventory_type_INVENTORY_TOMATO_NOVEL</th>\n",
       "      <th>inventory_type_INVENTORY_UNION_SLOT</th>\n",
       "      <th>inventory_type_INVENTORY_UNION_SPLASH_SLOT</th>\n",
       "      <th>inventory_type_INVENTORY_VIDEO_FEED</th>\n",
       "      <th>inventory_type_UNION_BOUTIQUE_GAME</th>\n",
       "      <th>age_AGE_ABOVE_50</th>\n",
       "      <th>age_AGE_BETWEEN_18_23</th>\n",
       "      <th>age_AGE_BETWEEN_24_30</th>\n",
       "      <th>age_AGE_BETWEEN_31_40</th>\n",
       "      <th>age_AGE_BETWEEN_41_49</th>\n",
       "      <th>label_ids_100</th>\n",
       "      <th>label_ids_101</th>\n",
       "      <th>label_ids_103</th>\n",
       "      <th>label_ids_111</th>\n",
       "      <th>label_ids_127</th>\n",
       "      <th>label_ids_13</th>\n",
       "      <th>label_ids_145</th>\n",
       "      <th>label_ids_149</th>\n",
       "      <th>label_ids_158</th>\n",
       "      <th>label_ids_19</th>\n",
       "      <th>label_ids_20</th>\n",
       "      <th>label_ids_22</th>\n",
       "      <th>label_ids_27</th>\n",
       "      <th>label_ids_67</th>\n",
       "      <th>label_ids_95</th>\n",
       "      <th>label_ids_96</th>\n",
       "      <th>label_ids_98</th>\n",
       "      <th>label_ids_99</th>\n",
       "      <th>ac_2G</th>\n",
       "      <th>ac_3G</th>\n",
       "      <th>ac_4G</th>\n",
       "      <th>ac_WIFI</th>\n",
       "    </tr>\n",
       "  </thead>\n",
       "  <tbody>\n",
       "    <tr>\n",
       "      <th>0</th>\n",
       "      <td>2</td>\n",
       "      <td>0</td>\n",
       "      <td>2020-01-29 18:01:59</td>\n",
       "      <td>0</td>\n",
       "      <td>0</td>\n",
       "      <td>10000.0</td>\n",
       "      <td>0</td>\n",
       "      <td>0</td>\n",
       "      <td>0</td>\n",
       "      <td>1</td>\n",
       "      <td>1377.89</td>\n",
       "      <td>0</td>\n",
       "      <td>1</td>\n",
       "      <td>1</td>\n",
       "      <td>11</td>\n",
       "      <td>8</td>\n",
       "      <td>1</td>\n",
       "      <td>2</td>\n",
       "      <td>NaN</td>\n",
       "      <td>2</td>\n",
       "      <td>7</td>\n",
       "      <td>7</td>\n",
       "      <td>19636</td>\n",
       "      <td>1</td>\n",
       "      <td>1</td>\n",
       "      <td>0</td>\n",
       "      <td>1</td>\n",
       "      <td>1</td>\n",
       "      <td>0</td>\n",
       "      <td>0</td>\n",
       "      <td>0</td>\n",
       "      <td>0</td>\n",
       "      <td>1</td>\n",
       "      <td>0</td>\n",
       "      <td>0</td>\n",
       "      <td>0</td>\n",
       "      <td>1</td>\n",
       "      <td>1</td>\n",
       "      <td>1</td>\n",
       "      <td>0</td>\n",
       "      <td>0</td>\n",
       "      <td>0</td>\n",
       "      <td>0</td>\n",
       "      <td>0</td>\n",
       "      <td>0</td>\n",
       "      <td>0</td>\n",
       "      <td>0</td>\n",
       "      <td>0</td>\n",
       "      <td>1</td>\n",
       "      <td>0</td>\n",
       "      <td>0</td>\n",
       "      <td>0</td>\n",
       "      <td>0</td>\n",
       "      <td>0</td>\n",
       "      <td>0</td>\n",
       "      <td>0</td>\n",
       "      <td>0</td>\n",
       "      <td>0</td>\n",
       "      <td>0</td>\n",
       "      <td>0</td>\n",
       "      <td>0</td>\n",
       "    </tr>\n",
       "    <tr>\n",
       "      <th>1</th>\n",
       "      <td>2</td>\n",
       "      <td>0</td>\n",
       "      <td>2020-01-30 14:32:38</td>\n",
       "      <td>0</td>\n",
       "      <td>0</td>\n",
       "      <td>10000.0</td>\n",
       "      <td>0</td>\n",
       "      <td>0</td>\n",
       "      <td>0</td>\n",
       "      <td>1</td>\n",
       "      <td>1484.64</td>\n",
       "      <td>0</td>\n",
       "      <td>1</td>\n",
       "      <td>1</td>\n",
       "      <td>11</td>\n",
       "      <td>8</td>\n",
       "      <td>1</td>\n",
       "      <td>2</td>\n",
       "      <td>NaN</td>\n",
       "      <td>2</td>\n",
       "      <td>7</td>\n",
       "      <td>7</td>\n",
       "      <td>19636</td>\n",
       "      <td>1</td>\n",
       "      <td>1</td>\n",
       "      <td>0</td>\n",
       "      <td>1</td>\n",
       "      <td>1</td>\n",
       "      <td>0</td>\n",
       "      <td>0</td>\n",
       "      <td>0</td>\n",
       "      <td>0</td>\n",
       "      <td>1</td>\n",
       "      <td>0</td>\n",
       "      <td>0</td>\n",
       "      <td>0</td>\n",
       "      <td>1</td>\n",
       "      <td>1</td>\n",
       "      <td>1</td>\n",
       "      <td>0</td>\n",
       "      <td>0</td>\n",
       "      <td>0</td>\n",
       "      <td>0</td>\n",
       "      <td>0</td>\n",
       "      <td>0</td>\n",
       "      <td>0</td>\n",
       "      <td>0</td>\n",
       "      <td>0</td>\n",
       "      <td>1</td>\n",
       "      <td>0</td>\n",
       "      <td>0</td>\n",
       "      <td>0</td>\n",
       "      <td>0</td>\n",
       "      <td>0</td>\n",
       "      <td>0</td>\n",
       "      <td>0</td>\n",
       "      <td>0</td>\n",
       "      <td>0</td>\n",
       "      <td>0</td>\n",
       "      <td>0</td>\n",
       "      <td>0</td>\n",
       "    </tr>\n",
       "    <tr>\n",
       "      <th>2</th>\n",
       "      <td>5</td>\n",
       "      <td>0</td>\n",
       "      <td>2020-01-16 10:37:52</td>\n",
       "      <td>0</td>\n",
       "      <td>0</td>\n",
       "      <td>20000.0</td>\n",
       "      <td>0</td>\n",
       "      <td>0</td>\n",
       "      <td>0</td>\n",
       "      <td>1</td>\n",
       "      <td>2325.24</td>\n",
       "      <td>0</td>\n",
       "      <td>1</td>\n",
       "      <td>1</td>\n",
       "      <td>11</td>\n",
       "      <td>8</td>\n",
       "      <td>1</td>\n",
       "      <td>2</td>\n",
       "      <td>NaN</td>\n",
       "      <td>2</td>\n",
       "      <td>7</td>\n",
       "      <td>7</td>\n",
       "      <td>19636</td>\n",
       "      <td>1</td>\n",
       "      <td>1</td>\n",
       "      <td>0</td>\n",
       "      <td>1</td>\n",
       "      <td>1</td>\n",
       "      <td>0</td>\n",
       "      <td>0</td>\n",
       "      <td>0</td>\n",
       "      <td>0</td>\n",
       "      <td>1</td>\n",
       "      <td>0</td>\n",
       "      <td>1</td>\n",
       "      <td>0</td>\n",
       "      <td>1</td>\n",
       "      <td>1</td>\n",
       "      <td>1</td>\n",
       "      <td>0</td>\n",
       "      <td>0</td>\n",
       "      <td>0</td>\n",
       "      <td>0</td>\n",
       "      <td>0</td>\n",
       "      <td>0</td>\n",
       "      <td>0</td>\n",
       "      <td>0</td>\n",
       "      <td>0</td>\n",
       "      <td>1</td>\n",
       "      <td>0</td>\n",
       "      <td>0</td>\n",
       "      <td>0</td>\n",
       "      <td>0</td>\n",
       "      <td>0</td>\n",
       "      <td>0</td>\n",
       "      <td>0</td>\n",
       "      <td>0</td>\n",
       "      <td>0</td>\n",
       "      <td>0</td>\n",
       "      <td>0</td>\n",
       "      <td>0</td>\n",
       "    </tr>\n",
       "    <tr>\n",
       "      <th>3</th>\n",
       "      <td>5</td>\n",
       "      <td>0</td>\n",
       "      <td>2020-01-16 10:44:11</td>\n",
       "      <td>0</td>\n",
       "      <td>0</td>\n",
       "      <td>30000.0</td>\n",
       "      <td>0</td>\n",
       "      <td>1</td>\n",
       "      <td>0</td>\n",
       "      <td>1</td>\n",
       "      <td>1604.83</td>\n",
       "      <td>0</td>\n",
       "      <td>1</td>\n",
       "      <td>1</td>\n",
       "      <td>11</td>\n",
       "      <td>8</td>\n",
       "      <td>1</td>\n",
       "      <td>1</td>\n",
       "      <td>NaN</td>\n",
       "      <td>2</td>\n",
       "      <td>7</td>\n",
       "      <td>7</td>\n",
       "      <td>19636</td>\n",
       "      <td>1</td>\n",
       "      <td>1</td>\n",
       "      <td>0</td>\n",
       "      <td>1</td>\n",
       "      <td>1</td>\n",
       "      <td>0</td>\n",
       "      <td>0</td>\n",
       "      <td>0</td>\n",
       "      <td>0</td>\n",
       "      <td>1</td>\n",
       "      <td>0</td>\n",
       "      <td>1</td>\n",
       "      <td>0</td>\n",
       "      <td>1</td>\n",
       "      <td>1</td>\n",
       "      <td>1</td>\n",
       "      <td>0</td>\n",
       "      <td>0</td>\n",
       "      <td>0</td>\n",
       "      <td>0</td>\n",
       "      <td>0</td>\n",
       "      <td>0</td>\n",
       "      <td>0</td>\n",
       "      <td>0</td>\n",
       "      <td>0</td>\n",
       "      <td>1</td>\n",
       "      <td>0</td>\n",
       "      <td>0</td>\n",
       "      <td>0</td>\n",
       "      <td>0</td>\n",
       "      <td>0</td>\n",
       "      <td>0</td>\n",
       "      <td>0</td>\n",
       "      <td>0</td>\n",
       "      <td>0</td>\n",
       "      <td>0</td>\n",
       "      <td>0</td>\n",
       "      <td>0</td>\n",
       "    </tr>\n",
       "    <tr>\n",
       "      <th>4</th>\n",
       "      <td>5</td>\n",
       "      <td>0</td>\n",
       "      <td>2020-01-16 15:04:46</td>\n",
       "      <td>0</td>\n",
       "      <td>0</td>\n",
       "      <td>30000.0</td>\n",
       "      <td>0</td>\n",
       "      <td>0</td>\n",
       "      <td>0</td>\n",
       "      <td>1</td>\n",
       "      <td>1642.21</td>\n",
       "      <td>0</td>\n",
       "      <td>1</td>\n",
       "      <td>1</td>\n",
       "      <td>11</td>\n",
       "      <td>8</td>\n",
       "      <td>1</td>\n",
       "      <td>1</td>\n",
       "      <td>NaN</td>\n",
       "      <td>2</td>\n",
       "      <td>7</td>\n",
       "      <td>7</td>\n",
       "      <td>19636</td>\n",
       "      <td>0</td>\n",
       "      <td>1</td>\n",
       "      <td>0</td>\n",
       "      <td>1</td>\n",
       "      <td>1</td>\n",
       "      <td>0</td>\n",
       "      <td>0</td>\n",
       "      <td>0</td>\n",
       "      <td>0</td>\n",
       "      <td>1</td>\n",
       "      <td>0</td>\n",
       "      <td>0</td>\n",
       "      <td>0</td>\n",
       "      <td>1</td>\n",
       "      <td>1</td>\n",
       "      <td>1</td>\n",
       "      <td>0</td>\n",
       "      <td>0</td>\n",
       "      <td>0</td>\n",
       "      <td>0</td>\n",
       "      <td>0</td>\n",
       "      <td>0</td>\n",
       "      <td>0</td>\n",
       "      <td>0</td>\n",
       "      <td>0</td>\n",
       "      <td>1</td>\n",
       "      <td>0</td>\n",
       "      <td>0</td>\n",
       "      <td>0</td>\n",
       "      <td>0</td>\n",
       "      <td>0</td>\n",
       "      <td>0</td>\n",
       "      <td>0</td>\n",
       "      <td>0</td>\n",
       "      <td>0</td>\n",
       "      <td>0</td>\n",
       "      <td>0</td>\n",
       "      <td>0</td>\n",
       "    </tr>\n",
       "  </tbody>\n",
       "</table>\n",
       "</div>"
      ],
      "text/plain": [
       "   ad_account_id  game_id         create_time  smart_bid_type  hide_if_exists  \\\n",
       "0              2        0 2020-01-29 18:01:59               0               0   \n",
       "1              2        0 2020-01-30 14:32:38               0               0   \n",
       "2              5        0 2020-01-16 10:37:52               0               0   \n",
       "3              5        0 2020-01-16 10:44:11               0               0   \n",
       "4              5        0 2020-01-16 15:04:46               0               0   \n",
       "\n",
       "    budget  delivery_range  adjust_cpa  hide_if_converted  flow_control_mode  \\\n",
       "0  10000.0               0           0                  0                  1   \n",
       "1  10000.0               0           0                  0                  1   \n",
       "2  20000.0               0           0                  0                  1   \n",
       "3  30000.0               0           1                  0                  1   \n",
       "4  30000.0               0           0                  0                  1   \n",
       "\n",
       "   cpa_bid  auto_extend_enabled  gender  platform  launch_price  android_osv  \\\n",
       "0  1377.89                    0       1         1            11            8   \n",
       "1  1484.64                    0       1         1            11            8   \n",
       "2  2325.24                    0       1         1            11            8   \n",
       "3  1604.83                    0       1         1            11            8   \n",
       "4  1642.21                    0       1         1            11            8   \n",
       "\n",
       "   location_type  retargeting_type ios_osv  interest_action_mode  action_days  \\\n",
       "0              1                 2     NaN                     2            7   \n",
       "1              1                 2     NaN                     2            7   \n",
       "2              1                 2     NaN                     2            7   \n",
       "3              1                 1     NaN                     2            7   \n",
       "4              1                 1     NaN                     2            7   \n",
       "\n",
       "   deep_bid_type  image_id  label  inventory_type_INVENTORY_AWEME_FEED  \\\n",
       "0              7     19636      1                                    1   \n",
       "1              7     19636      1                                    1   \n",
       "2              7     19636      1                                    1   \n",
       "3              7     19636      1                                    1   \n",
       "4              7     19636      0                                    1   \n",
       "\n",
       "   inventory_type_INVENTORY_AWEME_SEARCH  inventory_type_INVENTORY_FEED  \\\n",
       "0                                      0                              1   \n",
       "1                                      0                              1   \n",
       "2                                      0                              1   \n",
       "3                                      0                              1   \n",
       "4                                      0                              1   \n",
       "\n",
       "   inventory_type_INVENTORY_HOTSOON_FEED  inventory_type_INVENTORY_SEARCH  \\\n",
       "0                                      1                                0   \n",
       "1                                      1                                0   \n",
       "2                                      1                                0   \n",
       "3                                      1                                0   \n",
       "4                                      1                                0   \n",
       "\n",
       "   inventory_type_INVENTORY_TOMATO_NOVEL  inventory_type_INVENTORY_UNION_SLOT  \\\n",
       "0                                      0                                    0   \n",
       "1                                      0                                    0   \n",
       "2                                      0                                    0   \n",
       "3                                      0                                    0   \n",
       "4                                      0                                    0   \n",
       "\n",
       "   inventory_type_INVENTORY_UNION_SPLASH_SLOT  \\\n",
       "0                                           0   \n",
       "1                                           0   \n",
       "2                                           0   \n",
       "3                                           0   \n",
       "4                                           0   \n",
       "\n",
       "   inventory_type_INVENTORY_VIDEO_FEED  inventory_type_UNION_BOUTIQUE_GAME  \\\n",
       "0                                    1                                   0   \n",
       "1                                    1                                   0   \n",
       "2                                    1                                   0   \n",
       "3                                    1                                   0   \n",
       "4                                    1                                   0   \n",
       "\n",
       "   age_AGE_ABOVE_50  age_AGE_BETWEEN_18_23  age_AGE_BETWEEN_24_30  \\\n",
       "0                 0                      0                      1   \n",
       "1                 0                      0                      1   \n",
       "2                 1                      0                      1   \n",
       "3                 1                      0                      1   \n",
       "4                 0                      0                      1   \n",
       "\n",
       "   age_AGE_BETWEEN_31_40  age_AGE_BETWEEN_41_49  label_ids_100  label_ids_101  \\\n",
       "0                      1                      1              0              0   \n",
       "1                      1                      1              0              0   \n",
       "2                      1                      1              0              0   \n",
       "3                      1                      1              0              0   \n",
       "4                      1                      1              0              0   \n",
       "\n",
       "   label_ids_103  label_ids_111  label_ids_127  label_ids_13  label_ids_145  \\\n",
       "0              0              0              0             0              0   \n",
       "1              0              0              0             0              0   \n",
       "2              0              0              0             0              0   \n",
       "3              0              0              0             0              0   \n",
       "4              0              0              0             0              0   \n",
       "\n",
       "   label_ids_149  label_ids_158  label_ids_19  label_ids_20  label_ids_22  \\\n",
       "0              0              0             1             0             0   \n",
       "1              0              0             1             0             0   \n",
       "2              0              0             1             0             0   \n",
       "3              0              0             1             0             0   \n",
       "4              0              0             1             0             0   \n",
       "\n",
       "   label_ids_27  label_ids_67  label_ids_95  label_ids_96  label_ids_98  \\\n",
       "0             0             0             0             0             0   \n",
       "1             0             0             0             0             0   \n",
       "2             0             0             0             0             0   \n",
       "3             0             0             0             0             0   \n",
       "4             0             0             0             0             0   \n",
       "\n",
       "   label_ids_99  ac_2G  ac_3G  ac_4G  ac_WIFI  \n",
       "0             0      0      0      0        0  \n",
       "1             0      0      0      0        0  \n",
       "2             0      0      0      0        0  \n",
       "3             0      0      0      0        0  \n",
       "4             0      0      0      0        0  "
      ]
     },
     "execution_count": 38,
     "metadata": {},
     "output_type": "execute_result"
    }
   ],
   "source": [
    "df.drop_duplicates(inplace=True)  # keep=first\n",
    "df.dropna(how='all', inplace=True)\n",
    "df.reset_index(drop=True, inplace=True)\n",
    "df.head()"
   ]
  },
  {
   "cell_type": "code",
   "execution_count": 39,
   "id": "25629fed",
   "metadata": {
    "ExecuteTime": {
     "end_time": "2021-06-15T08:33:02.758619Z",
     "start_time": "2021-06-15T08:33:02.751159Z"
    }
   },
   "outputs": [
    {
     "name": "stdout",
     "output_type": "stream",
     "text": [
      "数据量： 39582\n"
     ]
    },
    {
     "data": {
      "text/plain": [
       "0    33699\n",
       "1     5883\n",
       "Name: label, dtype: int64"
      ]
     },
     "execution_count": 39,
     "metadata": {},
     "output_type": "execute_result"
    }
   ],
   "source": [
    "print(\"数据量：\", len(df))\n",
    "df['label'].value_counts()"
   ]
  },
  {
   "cell_type": "code",
   "execution_count": 40,
   "id": "c2d7dc6a",
   "metadata": {
    "ExecuteTime": {
     "end_time": "2021-06-15T08:33:02.762788Z",
     "start_time": "2021-06-15T08:33:02.760415Z"
    }
   },
   "outputs": [],
   "source": [
    "# df = pd.concat([df[df['label'] == 0].sample(len(df[df['label'] == 1])), df[df['label'] == 1]])  # 随机负采样,平衡正负样本"
   ]
  },
  {
   "cell_type": "markdown",
   "id": "c1ac14e0",
   "metadata": {},
   "source": [
    "## 提取类\n",
    "* 为每条计划分配image_id对应，且create_time距离最近的score打分"
   ]
  },
  {
   "cell_type": "code",
   "execution_count": 41,
   "id": "fe4eaa04",
   "metadata": {
    "ExecuteTime": {
     "end_time": "2021-06-15T08:33:02.874039Z",
     "start_time": "2021-06-15T08:33:02.764537Z"
    }
   },
   "outputs": [],
   "source": [
    "df['create_time'] = df['create_time'].apply(lambda x: x.date())"
   ]
  },
  {
   "cell_type": "code",
   "execution_count": 42,
   "id": "420ee3de",
   "metadata": {
    "ExecuteTime": {
     "end_time": "2021-06-15T08:33:03.407847Z",
     "start_time": "2021-06-15T08:33:02.875435Z"
    }
   },
   "outputs": [],
   "source": [
    "image_score['create_time'] = pd.to_datetime(image_score['create_time'], format='%Y-%m-%d')\n",
    "image_score['create_time'] = image_score['create_time'].apply(lambda x: x.date())"
   ]
  },
  {
   "cell_type": "code",
   "execution_count": 43,
   "id": "361d8b28",
   "metadata": {
    "ExecuteTime": {
     "end_time": "2021-06-15T08:34:23.148451Z",
     "start_time": "2021-06-15T08:33:03.409368Z"
    }
   },
   "outputs": [
    {
     "data": {
      "application/vnd.jupyter.widget-view+json": {
       "model_id": "1e295af364824a6e9324889b34046347",
       "version_major": 2,
       "version_minor": 0
      },
      "text/plain": [
       "Processing!:   0%|          | 0/39582 [00:00<?, ?it/s]"
      ]
     },
     "metadata": {},
     "output_type": "display_data"
    }
   ],
   "source": [
    "def _score(x, d):\n",
    "    d = d[d['image_id'] == x['image_id']]\n",
    "    seri = (x['create_time'] - d['create_time']).abs()\n",
    "    return d[seri == seri.min()]['image_score'].mean()\n",
    "\n",
    "df['image_score'] = df.progress_apply(lambda x: _score(x, image_score), axis=1)"
   ]
  },
  {
   "cell_type": "code",
   "execution_count": 44,
   "id": "312ae914",
   "metadata": {
    "ExecuteTime": {
     "end_time": "2021-06-15T08:34:23.158282Z",
     "start_time": "2021-06-15T08:34:23.150245Z"
    }
   },
   "outputs": [],
   "source": [
    "df = df.drop(['image_id', 'create_time', 'ios_osv'], axis=1)"
   ]
  },
  {
   "cell_type": "code",
   "execution_count": 45,
   "id": "a409dbe9",
   "metadata": {
    "ExecuteTime": {
     "end_time": "2021-06-15T08:34:23.233850Z",
     "start_time": "2021-06-15T08:34:23.160051Z"
    }
   },
   "outputs": [
    {
     "data": {
      "text/html": [
       "<div>\n",
       "<style scoped>\n",
       "    .dataframe tbody tr th:only-of-type {\n",
       "        vertical-align: middle;\n",
       "    }\n",
       "\n",
       "    .dataframe tbody tr th {\n",
       "        vertical-align: top;\n",
       "    }\n",
       "\n",
       "    .dataframe thead th {\n",
       "        text-align: right;\n",
       "    }\n",
       "</style>\n",
       "<table border=\"1\" class=\"dataframe\">\n",
       "  <thead>\n",
       "    <tr style=\"text-align: right;\">\n",
       "      <th></th>\n",
       "      <th>ad_account_id</th>\n",
       "      <th>game_id</th>\n",
       "      <th>smart_bid_type</th>\n",
       "      <th>hide_if_exists</th>\n",
       "      <th>budget</th>\n",
       "      <th>delivery_range</th>\n",
       "      <th>adjust_cpa</th>\n",
       "      <th>hide_if_converted</th>\n",
       "      <th>flow_control_mode</th>\n",
       "      <th>cpa_bid</th>\n",
       "      <th>auto_extend_enabled</th>\n",
       "      <th>gender</th>\n",
       "      <th>platform</th>\n",
       "      <th>launch_price</th>\n",
       "      <th>android_osv</th>\n",
       "      <th>location_type</th>\n",
       "      <th>retargeting_type</th>\n",
       "      <th>interest_action_mode</th>\n",
       "      <th>action_days</th>\n",
       "      <th>deep_bid_type</th>\n",
       "      <th>label</th>\n",
       "      <th>inventory_type_INVENTORY_AWEME_FEED</th>\n",
       "      <th>inventory_type_INVENTORY_AWEME_SEARCH</th>\n",
       "      <th>inventory_type_INVENTORY_FEED</th>\n",
       "      <th>inventory_type_INVENTORY_HOTSOON_FEED</th>\n",
       "      <th>inventory_type_INVENTORY_SEARCH</th>\n",
       "      <th>inventory_type_INVENTORY_TOMATO_NOVEL</th>\n",
       "      <th>inventory_type_INVENTORY_UNION_SLOT</th>\n",
       "      <th>inventory_type_INVENTORY_UNION_SPLASH_SLOT</th>\n",
       "      <th>inventory_type_INVENTORY_VIDEO_FEED</th>\n",
       "      <th>inventory_type_UNION_BOUTIQUE_GAME</th>\n",
       "      <th>age_AGE_ABOVE_50</th>\n",
       "      <th>age_AGE_BETWEEN_18_23</th>\n",
       "      <th>age_AGE_BETWEEN_24_30</th>\n",
       "      <th>age_AGE_BETWEEN_31_40</th>\n",
       "      <th>age_AGE_BETWEEN_41_49</th>\n",
       "      <th>label_ids_100</th>\n",
       "      <th>label_ids_101</th>\n",
       "      <th>label_ids_103</th>\n",
       "      <th>label_ids_111</th>\n",
       "      <th>label_ids_127</th>\n",
       "      <th>label_ids_13</th>\n",
       "      <th>label_ids_145</th>\n",
       "      <th>label_ids_149</th>\n",
       "      <th>label_ids_158</th>\n",
       "      <th>label_ids_19</th>\n",
       "      <th>label_ids_20</th>\n",
       "      <th>label_ids_22</th>\n",
       "      <th>label_ids_27</th>\n",
       "      <th>label_ids_67</th>\n",
       "      <th>label_ids_95</th>\n",
       "      <th>label_ids_96</th>\n",
       "      <th>label_ids_98</th>\n",
       "      <th>label_ids_99</th>\n",
       "      <th>ac_2G</th>\n",
       "      <th>ac_3G</th>\n",
       "      <th>ac_4G</th>\n",
       "      <th>ac_WIFI</th>\n",
       "      <th>image_score</th>\n",
       "    </tr>\n",
       "  </thead>\n",
       "  <tbody>\n",
       "    <tr>\n",
       "      <th>0</th>\n",
       "      <td>2</td>\n",
       "      <td>0</td>\n",
       "      <td>0</td>\n",
       "      <td>0</td>\n",
       "      <td>10000.0</td>\n",
       "      <td>0</td>\n",
       "      <td>0</td>\n",
       "      <td>0</td>\n",
       "      <td>1</td>\n",
       "      <td>1377.89</td>\n",
       "      <td>0</td>\n",
       "      <td>1</td>\n",
       "      <td>1</td>\n",
       "      <td>11</td>\n",
       "      <td>8</td>\n",
       "      <td>1</td>\n",
       "      <td>2</td>\n",
       "      <td>2</td>\n",
       "      <td>7</td>\n",
       "      <td>7</td>\n",
       "      <td>1</td>\n",
       "      <td>1</td>\n",
       "      <td>0</td>\n",
       "      <td>1</td>\n",
       "      <td>1</td>\n",
       "      <td>0</td>\n",
       "      <td>0</td>\n",
       "      <td>0</td>\n",
       "      <td>0</td>\n",
       "      <td>1</td>\n",
       "      <td>0</td>\n",
       "      <td>0</td>\n",
       "      <td>0</td>\n",
       "      <td>1</td>\n",
       "      <td>1</td>\n",
       "      <td>1</td>\n",
       "      <td>0</td>\n",
       "      <td>0</td>\n",
       "      <td>0</td>\n",
       "      <td>0</td>\n",
       "      <td>0</td>\n",
       "      <td>0</td>\n",
       "      <td>0</td>\n",
       "      <td>0</td>\n",
       "      <td>0</td>\n",
       "      <td>1</td>\n",
       "      <td>0</td>\n",
       "      <td>0</td>\n",
       "      <td>0</td>\n",
       "      <td>0</td>\n",
       "      <td>0</td>\n",
       "      <td>0</td>\n",
       "      <td>0</td>\n",
       "      <td>0</td>\n",
       "      <td>0</td>\n",
       "      <td>0</td>\n",
       "      <td>0</td>\n",
       "      <td>0</td>\n",
       "      <td>405.0</td>\n",
       "    </tr>\n",
       "    <tr>\n",
       "      <th>1</th>\n",
       "      <td>2</td>\n",
       "      <td>0</td>\n",
       "      <td>0</td>\n",
       "      <td>0</td>\n",
       "      <td>10000.0</td>\n",
       "      <td>0</td>\n",
       "      <td>0</td>\n",
       "      <td>0</td>\n",
       "      <td>1</td>\n",
       "      <td>1484.64</td>\n",
       "      <td>0</td>\n",
       "      <td>1</td>\n",
       "      <td>1</td>\n",
       "      <td>11</td>\n",
       "      <td>8</td>\n",
       "      <td>1</td>\n",
       "      <td>2</td>\n",
       "      <td>2</td>\n",
       "      <td>7</td>\n",
       "      <td>7</td>\n",
       "      <td>1</td>\n",
       "      <td>1</td>\n",
       "      <td>0</td>\n",
       "      <td>1</td>\n",
       "      <td>1</td>\n",
       "      <td>0</td>\n",
       "      <td>0</td>\n",
       "      <td>0</td>\n",
       "      <td>0</td>\n",
       "      <td>1</td>\n",
       "      <td>0</td>\n",
       "      <td>0</td>\n",
       "      <td>0</td>\n",
       "      <td>1</td>\n",
       "      <td>1</td>\n",
       "      <td>1</td>\n",
       "      <td>0</td>\n",
       "      <td>0</td>\n",
       "      <td>0</td>\n",
       "      <td>0</td>\n",
       "      <td>0</td>\n",
       "      <td>0</td>\n",
       "      <td>0</td>\n",
       "      <td>0</td>\n",
       "      <td>0</td>\n",
       "      <td>1</td>\n",
       "      <td>0</td>\n",
       "      <td>0</td>\n",
       "      <td>0</td>\n",
       "      <td>0</td>\n",
       "      <td>0</td>\n",
       "      <td>0</td>\n",
       "      <td>0</td>\n",
       "      <td>0</td>\n",
       "      <td>0</td>\n",
       "      <td>0</td>\n",
       "      <td>0</td>\n",
       "      <td>0</td>\n",
       "      <td>405.0</td>\n",
       "    </tr>\n",
       "    <tr>\n",
       "      <th>2</th>\n",
       "      <td>5</td>\n",
       "      <td>0</td>\n",
       "      <td>0</td>\n",
       "      <td>0</td>\n",
       "      <td>20000.0</td>\n",
       "      <td>0</td>\n",
       "      <td>0</td>\n",
       "      <td>0</td>\n",
       "      <td>1</td>\n",
       "      <td>2325.24</td>\n",
       "      <td>0</td>\n",
       "      <td>1</td>\n",
       "      <td>1</td>\n",
       "      <td>11</td>\n",
       "      <td>8</td>\n",
       "      <td>1</td>\n",
       "      <td>2</td>\n",
       "      <td>2</td>\n",
       "      <td>7</td>\n",
       "      <td>7</td>\n",
       "      <td>1</td>\n",
       "      <td>1</td>\n",
       "      <td>0</td>\n",
       "      <td>1</td>\n",
       "      <td>1</td>\n",
       "      <td>0</td>\n",
       "      <td>0</td>\n",
       "      <td>0</td>\n",
       "      <td>0</td>\n",
       "      <td>1</td>\n",
       "      <td>0</td>\n",
       "      <td>1</td>\n",
       "      <td>0</td>\n",
       "      <td>1</td>\n",
       "      <td>1</td>\n",
       "      <td>1</td>\n",
       "      <td>0</td>\n",
       "      <td>0</td>\n",
       "      <td>0</td>\n",
       "      <td>0</td>\n",
       "      <td>0</td>\n",
       "      <td>0</td>\n",
       "      <td>0</td>\n",
       "      <td>0</td>\n",
       "      <td>0</td>\n",
       "      <td>1</td>\n",
       "      <td>0</td>\n",
       "      <td>0</td>\n",
       "      <td>0</td>\n",
       "      <td>0</td>\n",
       "      <td>0</td>\n",
       "      <td>0</td>\n",
       "      <td>0</td>\n",
       "      <td>0</td>\n",
       "      <td>0</td>\n",
       "      <td>0</td>\n",
       "      <td>0</td>\n",
       "      <td>0</td>\n",
       "      <td>405.0</td>\n",
       "    </tr>\n",
       "    <tr>\n",
       "      <th>3</th>\n",
       "      <td>5</td>\n",
       "      <td>0</td>\n",
       "      <td>0</td>\n",
       "      <td>0</td>\n",
       "      <td>30000.0</td>\n",
       "      <td>0</td>\n",
       "      <td>1</td>\n",
       "      <td>0</td>\n",
       "      <td>1</td>\n",
       "      <td>1604.83</td>\n",
       "      <td>0</td>\n",
       "      <td>1</td>\n",
       "      <td>1</td>\n",
       "      <td>11</td>\n",
       "      <td>8</td>\n",
       "      <td>1</td>\n",
       "      <td>1</td>\n",
       "      <td>2</td>\n",
       "      <td>7</td>\n",
       "      <td>7</td>\n",
       "      <td>1</td>\n",
       "      <td>1</td>\n",
       "      <td>0</td>\n",
       "      <td>1</td>\n",
       "      <td>1</td>\n",
       "      <td>0</td>\n",
       "      <td>0</td>\n",
       "      <td>0</td>\n",
       "      <td>0</td>\n",
       "      <td>1</td>\n",
       "      <td>0</td>\n",
       "      <td>1</td>\n",
       "      <td>0</td>\n",
       "      <td>1</td>\n",
       "      <td>1</td>\n",
       "      <td>1</td>\n",
       "      <td>0</td>\n",
       "      <td>0</td>\n",
       "      <td>0</td>\n",
       "      <td>0</td>\n",
       "      <td>0</td>\n",
       "      <td>0</td>\n",
       "      <td>0</td>\n",
       "      <td>0</td>\n",
       "      <td>0</td>\n",
       "      <td>1</td>\n",
       "      <td>0</td>\n",
       "      <td>0</td>\n",
       "      <td>0</td>\n",
       "      <td>0</td>\n",
       "      <td>0</td>\n",
       "      <td>0</td>\n",
       "      <td>0</td>\n",
       "      <td>0</td>\n",
       "      <td>0</td>\n",
       "      <td>0</td>\n",
       "      <td>0</td>\n",
       "      <td>0</td>\n",
       "      <td>405.0</td>\n",
       "    </tr>\n",
       "    <tr>\n",
       "      <th>4</th>\n",
       "      <td>5</td>\n",
       "      <td>0</td>\n",
       "      <td>0</td>\n",
       "      <td>0</td>\n",
       "      <td>30000.0</td>\n",
       "      <td>0</td>\n",
       "      <td>0</td>\n",
       "      <td>0</td>\n",
       "      <td>1</td>\n",
       "      <td>1642.21</td>\n",
       "      <td>0</td>\n",
       "      <td>1</td>\n",
       "      <td>1</td>\n",
       "      <td>11</td>\n",
       "      <td>8</td>\n",
       "      <td>1</td>\n",
       "      <td>1</td>\n",
       "      <td>2</td>\n",
       "      <td>7</td>\n",
       "      <td>7</td>\n",
       "      <td>0</td>\n",
       "      <td>1</td>\n",
       "      <td>0</td>\n",
       "      <td>1</td>\n",
       "      <td>1</td>\n",
       "      <td>0</td>\n",
       "      <td>0</td>\n",
       "      <td>0</td>\n",
       "      <td>0</td>\n",
       "      <td>1</td>\n",
       "      <td>0</td>\n",
       "      <td>0</td>\n",
       "      <td>0</td>\n",
       "      <td>1</td>\n",
       "      <td>1</td>\n",
       "      <td>1</td>\n",
       "      <td>0</td>\n",
       "      <td>0</td>\n",
       "      <td>0</td>\n",
       "      <td>0</td>\n",
       "      <td>0</td>\n",
       "      <td>0</td>\n",
       "      <td>0</td>\n",
       "      <td>0</td>\n",
       "      <td>0</td>\n",
       "      <td>1</td>\n",
       "      <td>0</td>\n",
       "      <td>0</td>\n",
       "      <td>0</td>\n",
       "      <td>0</td>\n",
       "      <td>0</td>\n",
       "      <td>0</td>\n",
       "      <td>0</td>\n",
       "      <td>0</td>\n",
       "      <td>0</td>\n",
       "      <td>0</td>\n",
       "      <td>0</td>\n",
       "      <td>0</td>\n",
       "      <td>405.0</td>\n",
       "    </tr>\n",
       "  </tbody>\n",
       "</table>\n",
       "</div>"
      ],
      "text/plain": [
       "   ad_account_id  game_id  smart_bid_type  hide_if_exists   budget  \\\n",
       "0              2        0               0               0  10000.0   \n",
       "1              2        0               0               0  10000.0   \n",
       "2              5        0               0               0  20000.0   \n",
       "3              5        0               0               0  30000.0   \n",
       "4              5        0               0               0  30000.0   \n",
       "\n",
       "   delivery_range  adjust_cpa  hide_if_converted  flow_control_mode  cpa_bid  \\\n",
       "0               0           0                  0                  1  1377.89   \n",
       "1               0           0                  0                  1  1484.64   \n",
       "2               0           0                  0                  1  2325.24   \n",
       "3               0           1                  0                  1  1604.83   \n",
       "4               0           0                  0                  1  1642.21   \n",
       "\n",
       "   auto_extend_enabled  gender  platform  launch_price  android_osv  \\\n",
       "0                    0       1         1            11            8   \n",
       "1                    0       1         1            11            8   \n",
       "2                    0       1         1            11            8   \n",
       "3                    0       1         1            11            8   \n",
       "4                    0       1         1            11            8   \n",
       "\n",
       "   location_type  retargeting_type  interest_action_mode  action_days  \\\n",
       "0              1                 2                     2            7   \n",
       "1              1                 2                     2            7   \n",
       "2              1                 2                     2            7   \n",
       "3              1                 1                     2            7   \n",
       "4              1                 1                     2            7   \n",
       "\n",
       "   deep_bid_type  label  inventory_type_INVENTORY_AWEME_FEED  \\\n",
       "0              7      1                                    1   \n",
       "1              7      1                                    1   \n",
       "2              7      1                                    1   \n",
       "3              7      1                                    1   \n",
       "4              7      0                                    1   \n",
       "\n",
       "   inventory_type_INVENTORY_AWEME_SEARCH  inventory_type_INVENTORY_FEED  \\\n",
       "0                                      0                              1   \n",
       "1                                      0                              1   \n",
       "2                                      0                              1   \n",
       "3                                      0                              1   \n",
       "4                                      0                              1   \n",
       "\n",
       "   inventory_type_INVENTORY_HOTSOON_FEED  inventory_type_INVENTORY_SEARCH  \\\n",
       "0                                      1                                0   \n",
       "1                                      1                                0   \n",
       "2                                      1                                0   \n",
       "3                                      1                                0   \n",
       "4                                      1                                0   \n",
       "\n",
       "   inventory_type_INVENTORY_TOMATO_NOVEL  inventory_type_INVENTORY_UNION_SLOT  \\\n",
       "0                                      0                                    0   \n",
       "1                                      0                                    0   \n",
       "2                                      0                                    0   \n",
       "3                                      0                                    0   \n",
       "4                                      0                                    0   \n",
       "\n",
       "   inventory_type_INVENTORY_UNION_SPLASH_SLOT  \\\n",
       "0                                           0   \n",
       "1                                           0   \n",
       "2                                           0   \n",
       "3                                           0   \n",
       "4                                           0   \n",
       "\n",
       "   inventory_type_INVENTORY_VIDEO_FEED  inventory_type_UNION_BOUTIQUE_GAME  \\\n",
       "0                                    1                                   0   \n",
       "1                                    1                                   0   \n",
       "2                                    1                                   0   \n",
       "3                                    1                                   0   \n",
       "4                                    1                                   0   \n",
       "\n",
       "   age_AGE_ABOVE_50  age_AGE_BETWEEN_18_23  age_AGE_BETWEEN_24_30  \\\n",
       "0                 0                      0                      1   \n",
       "1                 0                      0                      1   \n",
       "2                 1                      0                      1   \n",
       "3                 1                      0                      1   \n",
       "4                 0                      0                      1   \n",
       "\n",
       "   age_AGE_BETWEEN_31_40  age_AGE_BETWEEN_41_49  label_ids_100  label_ids_101  \\\n",
       "0                      1                      1              0              0   \n",
       "1                      1                      1              0              0   \n",
       "2                      1                      1              0              0   \n",
       "3                      1                      1              0              0   \n",
       "4                      1                      1              0              0   \n",
       "\n",
       "   label_ids_103  label_ids_111  label_ids_127  label_ids_13  label_ids_145  \\\n",
       "0              0              0              0             0              0   \n",
       "1              0              0              0             0              0   \n",
       "2              0              0              0             0              0   \n",
       "3              0              0              0             0              0   \n",
       "4              0              0              0             0              0   \n",
       "\n",
       "   label_ids_149  label_ids_158  label_ids_19  label_ids_20  label_ids_22  \\\n",
       "0              0              0             1             0             0   \n",
       "1              0              0             1             0             0   \n",
       "2              0              0             1             0             0   \n",
       "3              0              0             1             0             0   \n",
       "4              0              0             1             0             0   \n",
       "\n",
       "   label_ids_27  label_ids_67  label_ids_95  label_ids_96  label_ids_98  \\\n",
       "0             0             0             0             0             0   \n",
       "1             0             0             0             0             0   \n",
       "2             0             0             0             0             0   \n",
       "3             0             0             0             0             0   \n",
       "4             0             0             0             0             0   \n",
       "\n",
       "   label_ids_99  ac_2G  ac_3G  ac_4G  ac_WIFI  image_score  \n",
       "0             0      0      0      0        0        405.0  \n",
       "1             0      0      0      0        0        405.0  \n",
       "2             0      0      0      0        0        405.0  \n",
       "3             0      0      0      0        0        405.0  \n",
       "4             0      0      0      0        0        405.0  "
      ]
     },
     "execution_count": 45,
     "metadata": {},
     "output_type": "execute_result"
    }
   ],
   "source": [
    "df.drop_duplicates(inplace=True)  # keep=first\n",
    "df.dropna(how='all', inplace=True)\n",
    "df.reset_index(drop=True, inplace=True)\n",
    "df.head()"
   ]
  },
  {
   "cell_type": "code",
   "execution_count": 46,
   "id": "6c10bc2b",
   "metadata": {
    "ExecuteTime": {
     "end_time": "2021-06-15T08:34:23.243308Z",
     "start_time": "2021-06-15T08:34:23.235456Z"
    }
   },
   "outputs": [
    {
     "name": "stdout",
     "output_type": "stream",
     "text": [
      "数据量： 38217\n"
     ]
    },
    {
     "data": {
      "text/plain": [
       "0    32367\n",
       "1     5850\n",
       "Name: label, dtype: int64"
      ]
     },
     "execution_count": 46,
     "metadata": {},
     "output_type": "execute_result"
    }
   ],
   "source": [
    "print(\"数据量：\", len(df))\n",
    "df['label'].value_counts()"
   ]
  },
  {
   "cell_type": "markdown",
   "id": "846e25df",
   "metadata": {},
   "source": [
    "## 建模"
   ]
  },
  {
   "cell_type": "code",
   "execution_count": 47,
   "id": "5398d35f",
   "metadata": {
    "ExecuteTime": {
     "end_time": "2021-06-15T08:34:23.435588Z",
     "start_time": "2021-06-15T08:34:23.245029Z"
    }
   },
   "outputs": [
    {
     "name": "stderr",
     "output_type": "stream",
     "text": [
      "/root/anaconda3/lib/python3.7/site-packages/sklearn/ensemble/weight_boosting.py:29: DeprecationWarning: numpy.core.umath_tests is an internal NumPy module and should not be imported. It will be removed in a future NumPy release.\n",
      "  from numpy.core.umath_tests import inner1d\n",
      "/root/anaconda3/lib/python3.7/site-packages/sklearn/ensemble/gradient_boosting.py:34: DeprecationWarning: `np.bool` is a deprecated alias for the builtin `bool`. To silence this warning, use `bool` by itself. Doing this will not modify any behavior and is safe. If you specifically wanted the numpy scalar type, use `np.bool_` here.\n",
      "Deprecated in NumPy 1.20; for more details and guidance: https://numpy.org/devdocs/release/1.20.0-notes.html#deprecations\n",
      "  from ._gradient_boosting import predict_stages\n",
      "/root/anaconda3/lib/python3.7/site-packages/sklearn/ensemble/gradient_boosting.py:34: DeprecationWarning: `np.bool` is a deprecated alias for the builtin `bool`. To silence this warning, use `bool` by itself. Doing this will not modify any behavior and is safe. If you specifically wanted the numpy scalar type, use `np.bool_` here.\n",
      "Deprecated in NumPy 1.20; for more details and guidance: https://numpy.org/devdocs/release/1.20.0-notes.html#deprecations\n",
      "  from ._gradient_boosting import predict_stages\n"
     ]
    }
   ],
   "source": [
    "from sklearn.model_selection import train_test_split, GridSearchCV\n",
    "from sklearn.tree import DecisionTreeClassifier  # 决策树模型\n",
    "from xgboost import XGBClassifier  # XGB树模型集成\n",
    "from sklearn.ensemble import RandomForestClassifier # 随机森林\n",
    "from sklearn import tree\n",
    "import xgboost\n",
    "import pydotplus\n",
    "from collections import Counter\n",
    "from sklearn.metrics import classification_report"
   ]
  },
  {
   "cell_type": "code",
   "execution_count": 48,
   "id": "3050bd6f",
   "metadata": {
    "ExecuteTime": {
     "end_time": "2021-06-15T08:34:23.444936Z",
     "start_time": "2021-06-15T08:34:23.437209Z"
    }
   },
   "outputs": [],
   "source": [
    "X = df.drop(['label'], axis=1)\n",
    "Y = df['label']"
   ]
  },
  {
   "cell_type": "code",
   "execution_count": 49,
   "id": "8a48f797",
   "metadata": {
    "ExecuteTime": {
     "end_time": "2021-06-15T08:34:23.464390Z",
     "start_time": "2021-06-15T08:34:23.446651Z"
    }
   },
   "outputs": [
    {
     "name": "stdout",
     "output_type": "stream",
     "text": [
      "[(26751, 58), (11466, 58), (26751,), (11466,)]\n"
     ]
    }
   ],
   "source": [
    "X_train, X_test, Y_train, Y_test = train_test_split(X, Y, test_size = 0.3, random_state = 2021, shuffle=True)\n",
    "print([datas.shape for datas in [X_train, X_test, Y_train, Y_test]])"
   ]
  },
  {
   "cell_type": "code",
   "execution_count": 50,
   "id": "61985347",
   "metadata": {
    "ExecuteTime": {
     "end_time": "2021-06-15T08:34:23.474873Z",
     "start_time": "2021-06-15T08:34:23.465972Z"
    }
   },
   "outputs": [
    {
     "name": "stdout",
     "output_type": "stream",
     "text": [
      "训练集: Counter({0: 22689, 1: 4062})\n",
      "测试集: Counter({0: 9678, 1: 1788})\n"
     ]
    }
   ],
   "source": [
    "print('训练集:', Counter(Y_train))\n",
    "print('测试集:', Counter(Y_test))"
   ]
  },
  {
   "cell_type": "code",
   "execution_count": 51,
   "id": "f3c235ac",
   "metadata": {
    "ExecuteTime": {
     "end_time": "2021-06-15T08:34:23.486173Z",
     "start_time": "2021-06-15T08:34:23.476963Z"
    }
   },
   "outputs": [],
   "source": [
    "MLA = [XGBClassifier(scale_pos_weight=round(Counter(Y_train)[0] / Counter(Y_train)[1], 2)),   # 加权 scale_pos_weight=round(Counter(Y_train)[0] / Counter(Y_train)[1], 2)\n",
    "       RandomForestClassifier(),  # 加权 class_weight = dict({0:Counter(Y_train)[0], 1:Counter(Y_train)[1]})\n",
    "       DecisionTreeClassifier()]  # 加权 class_weight = 'balanced'"
   ]
  },
  {
   "cell_type": "markdown",
   "id": "279e548b",
   "metadata": {},
   "source": [
    "### XGB"
   ]
  },
  {
   "cell_type": "code",
   "execution_count": 52,
   "id": "ce0628da",
   "metadata": {
    "ExecuteTime": {
     "end_time": "2021-06-15T08:34:23.491796Z",
     "start_time": "2021-06-15T08:34:23.487937Z"
    }
   },
   "outputs": [],
   "source": [
    "xgb_model = MLA[0]"
   ]
  },
  {
   "cell_type": "code",
   "execution_count": 53,
   "id": "72fae5cb",
   "metadata": {
    "ExecuteTime": {
     "end_time": "2021-06-15T08:34:24.940486Z",
     "start_time": "2021-06-15T08:34:23.493618Z"
    }
   },
   "outputs": [
    {
     "name": "stderr",
     "output_type": "stream",
     "text": [
      "/root/anaconda3/lib/python3.7/site-packages/xgboost/sklearn.py:1146: UserWarning: The use of label encoder in XGBClassifier is deprecated and will be removed in a future release. To remove this warning, do the following: 1) Pass option use_label_encoder=False when constructing XGBClassifier object; and 2) Encode your labels (y) as integers starting with 0, i.e. 0, 1, 2, ..., [num_class - 1].\n",
      "  warnings.warn(label_encoder_deprecation_msg, UserWarning)\n"
     ]
    },
    {
     "name": "stdout",
     "output_type": "stream",
     "text": [
      "[17:34:23] WARNING: ../src/learner.cc:1095: Starting in XGBoost 1.3.0, the default evaluation metric used with the objective 'binary:logistic' was changed from 'error' to 'logloss'. Explicitly set eval_metric if you'd like to restore the old behavior.\n"
     ]
    },
    {
     "name": "stderr",
     "output_type": "stream",
     "text": [
      "/root/anaconda3/lib/python3.7/site-packages/sklearn/preprocessing/label.py:151: DeprecationWarning: The truth value of an empty array is ambiguous. Returning False, but in future this will result in an error. Use `array.size > 0` to check that an array is not empty.\n",
      "  if diff:\n",
      "/root/anaconda3/lib/python3.7/site-packages/sklearn/preprocessing/label.py:151: DeprecationWarning: The truth value of an empty array is ambiguous. Returning False, but in future this will result in an error. Use `array.size > 0` to check that an array is not empty.\n",
      "  if diff:\n"
     ]
    }
   ],
   "source": [
    "xgb_model.fit(X_train, Y_train)\n",
    "xgb_test_pred = xgb_model.predict(X_test)\n",
    "xgb_test_pred = np.expand_dims(xgb_test_pred, axis=-1)\n",
    "\n",
    "xgb_train_pred = xgb_model.predict(X_train)\n",
    "xgb_train_pred = np.expand_dims(xgb_train_pred, axis=-1)"
   ]
  },
  {
   "cell_type": "code",
   "execution_count": 54,
   "id": "91b62c18",
   "metadata": {
    "ExecuteTime": {
     "end_time": "2021-06-15T08:34:24.972818Z",
     "start_time": "2021-06-15T08:34:24.950084Z"
    }
   },
   "outputs": [
    {
     "name": "stdout",
     "output_type": "stream",
     "text": [
      "训练集效果:\n",
      "             precision    recall  f1-score   support\n",
      "\n",
      "    class 0       0.97      0.85      0.91     22689\n",
      "    class 1       0.51      0.83      0.63      4062\n",
      "\n",
      "avg / total       0.90      0.85      0.86     26751\n",
      "\n"
     ]
    }
   ],
   "source": [
    "y_true = Y_train\n",
    "y_pred = xgb_train_pred\n",
    "target_names = ['class 0', 'class 1']\n",
    "print(\"训练集效果:\")\n",
    "print(classification_report(y_true, y_pred, target_names=target_names))"
   ]
  },
  {
   "cell_type": "code",
   "execution_count": 55,
   "id": "bbe12cf9",
   "metadata": {
    "ExecuteTime": {
     "end_time": "2021-06-15T08:34:24.998679Z",
     "start_time": "2021-06-15T08:34:24.981324Z"
    }
   },
   "outputs": [
    {
     "name": "stdout",
     "output_type": "stream",
     "text": [
      "测试集效果:\n",
      "             precision    recall  f1-score   support\n",
      "\n",
      "    class 0       0.89      0.80      0.84      9678\n",
      "    class 1       0.31      0.49      0.38      1788\n",
      "\n",
      "avg / total       0.80      0.75      0.77     11466\n",
      "\n"
     ]
    }
   ],
   "source": [
    "y_true = Y_test\n",
    "y_pred = xgb_test_pred\n",
    "target_names = ['class 0', 'class 1']\n",
    "print(\"测试集效果:\")\n",
    "print(classification_report(y_true, y_pred, target_names=target_names))"
   ]
  },
  {
   "cell_type": "code",
   "execution_count": 56,
   "id": "8c32ccc1",
   "metadata": {
    "ExecuteTime": {
     "end_time": "2021-06-15T08:34:25.304096Z",
     "start_time": "2021-06-15T08:34:25.007149Z"
    }
   },
   "outputs": [
    {
     "data": {
      "image/png": "[encoded data removed]",
      "text/plain": [
       "<Figure size 360x720 with 1 Axes>"
      ]
     },
     "metadata": {
      "needs_background": "light"
     },
     "output_type": "display_data"
    }
   ],
   "source": [
    "from xgboost import plot_importance\n",
    "fig, ax = plt.subplots(figsize=(5, 10))\n",
    "ax.set_title('Feature Importance', fontsize=12, color='r')\n",
    "plot_importance(xgb_model, height=0.5, max_num_features=12, ax=ax)\n",
    "plt.show()"
   ]
  },
  {
   "cell_type": "markdown",
   "id": "62d903a8",
   "metadata": {},
   "source": [
    "### RF"
   ]
  },
  {
   "cell_type": "code",
   "execution_count": 57,
   "id": "dd42ea66",
   "metadata": {
    "ExecuteTime": {
     "end_time": "2021-06-15T08:34:25.308392Z",
     "start_time": "2021-06-15T08:34:25.305932Z"
    }
   },
   "outputs": [],
   "source": [
    "rf_model = MLA[1]"
   ]
  },
  {
   "cell_type": "code",
   "execution_count": 58,
   "id": "ffad9006",
   "metadata": {
    "ExecuteTime": {
     "end_time": "2021-06-15T08:34:25.402194Z",
     "start_time": "2021-06-15T08:34:25.310308Z"
    }
   },
   "outputs": [
    {
     "ename": "ValueError",
     "evalue": "Input contains NaN, infinity or a value too large for dtype('float32').",
     "output_type": "error",
     "traceback": [
      "\u001b[0;31m---------------------------------------------------------------------------\u001b[0m",
      "\u001b[0;31mValueError\u001b[0m                                Traceback (most recent call last)",
      "\u001b[0;32m<ipython-input-58-f7d8fc2195dc>\u001b[0m in \u001b[0;36m<module>\u001b[0;34m\u001b[0m\n\u001b[0;32m----> 1\u001b[0;31m \u001b[0mrf_model\u001b[0m \u001b[0;34m=\u001b[0m \u001b[0mrf_model\u001b[0m\u001b[0;34m.\u001b[0m\u001b[0mfit\u001b[0m\u001b[0;34m(\u001b[0m\u001b[0mX_train\u001b[0m\u001b[0;34m,\u001b[0m \u001b[0mY_train\u001b[0m\u001b[0;34m)\u001b[0m\u001b[0;34m\u001b[0m\u001b[0m\n\u001b[0m",
      "\u001b[0;32m~/anaconda3/lib/python3.7/site-packages/sklearn/ensemble/forest.py\u001b[0m in \u001b[0;36mfit\u001b[0;34m(self, X, y, sample_weight)\u001b[0m\n\u001b[1;32m    245\u001b[0m         \"\"\"\n\u001b[1;32m    246\u001b[0m         \u001b[0;31m# Validate or convert input data\u001b[0m\u001b[0;34m\u001b[0m\u001b[0;34m\u001b[0m\u001b[0m\n\u001b[0;32m--> 247\u001b[0;31m         \u001b[0mX\u001b[0m \u001b[0;34m=\u001b[0m \u001b[0mcheck_array\u001b[0m\u001b[0;34m(\u001b[0m\u001b[0mX\u001b[0m\u001b[0;34m,\u001b[0m \u001b[0maccept_sparse\u001b[0m\u001b[0;34m=\u001b[0m\u001b[0;34m\"csc\"\u001b[0m\u001b[0;34m,\u001b[0m \u001b[0mdtype\u001b[0m\u001b[0;34m=\u001b[0m\u001b[0mDTYPE\u001b[0m\u001b[0;34m)\u001b[0m\u001b[0;34m\u001b[0m\u001b[0m\n\u001b[0m\u001b[1;32m    248\u001b[0m         \u001b[0my\u001b[0m \u001b[0;34m=\u001b[0m \u001b[0mcheck_array\u001b[0m\u001b[0;34m(\u001b[0m\u001b[0my\u001b[0m\u001b[0;34m,\u001b[0m \u001b[0maccept_sparse\u001b[0m\u001b[0;34m=\u001b[0m\u001b[0;34m'csc'\u001b[0m\u001b[0;34m,\u001b[0m \u001b[0mensure_2d\u001b[0m\u001b[0;34m=\u001b[0m\u001b[0;32mFalse\u001b[0m\u001b[0;34m,\u001b[0m \u001b[0mdtype\u001b[0m\u001b[0;34m=\u001b[0m\u001b[0;32mNone\u001b[0m\u001b[0;34m)\u001b[0m\u001b[0;34m\u001b[0m\u001b[0m\n\u001b[1;32m    249\u001b[0m         \u001b[0;32mif\u001b[0m \u001b[0msample_weight\u001b[0m \u001b[0;32mis\u001b[0m \u001b[0;32mnot\u001b[0m \u001b[0;32mNone\u001b[0m\u001b[0;34m:\u001b[0m\u001b[0;34m\u001b[0m\u001b[0m\n",
      "\u001b[0;32m~/anaconda3/lib/python3.7/site-packages/sklearn/utils/validation.py\u001b[0m in \u001b[0;36mcheck_array\u001b[0;34m(array, accept_sparse, dtype, order, copy, force_all_finite, ensure_2d, allow_nd, ensure_min_samples, ensure_min_features, warn_on_dtype, estimator)\u001b[0m\n\u001b[1;32m    451\u001b[0m                              % (array.ndim, estimator_name))\n\u001b[1;32m    452\u001b[0m         \u001b[0;32mif\u001b[0m \u001b[0mforce_all_finite\u001b[0m\u001b[0;34m:\u001b[0m\u001b[0;34m\u001b[0m\u001b[0m\n\u001b[0;32m--> 453\u001b[0;31m             \u001b[0m_assert_all_finite\u001b[0m\u001b[0;34m(\u001b[0m\u001b[0marray\u001b[0m\u001b[0;34m)\u001b[0m\u001b[0;34m\u001b[0m\u001b[0m\n\u001b[0m\u001b[1;32m    454\u001b[0m \u001b[0;34m\u001b[0m\u001b[0m\n\u001b[1;32m    455\u001b[0m     \u001b[0mshape_repr\u001b[0m \u001b[0;34m=\u001b[0m \u001b[0m_shape_repr\u001b[0m\u001b[0;34m(\u001b[0m\u001b[0marray\u001b[0m\u001b[0;34m.\u001b[0m\u001b[0mshape\u001b[0m\u001b[0;34m)\u001b[0m\u001b[0;34m\u001b[0m\u001b[0m\n",
      "\u001b[0;32m~/anaconda3/lib/python3.7/site-packages/sklearn/utils/validation.py\u001b[0m in \u001b[0;36m_assert_all_finite\u001b[0;34m(X)\u001b[0m\n\u001b[1;32m     42\u001b[0m             and not np.isfinite(X).all()):\n\u001b[1;32m     43\u001b[0m         raise ValueError(\"Input contains NaN, infinity\"\n\u001b[0;32m---> 44\u001b[0;31m                          \" or a value too large for %r.\" % X.dtype)\n\u001b[0m\u001b[1;32m     45\u001b[0m \u001b[0;34m\u001b[0m\u001b[0m\n\u001b[1;32m     46\u001b[0m \u001b[0;34m\u001b[0m\u001b[0m\n",
      "\u001b[0;31mValueError\u001b[0m: Input contains NaN, infinity or a value too large for dtype('float32')."
     ]
    }
   ],
   "source": [
    "rf_model = rf_model.fit(X_train, Y_train)"
   ]
  },
  {
   "cell_type": "code",
   "execution_count": null,
   "id": "cf3fd9d5",
   "metadata": {
    "ExecuteTime": {
     "end_time": "2021-06-15T08:34:25.404056Z",
     "start_time": "2021-06-15T08:30:29.664Z"
    }
   },
   "outputs": [],
   "source": [
    "rf_train_pred = rf_model.predict(X_train)\n",
    "rf_test_pred = rf_model.predict(X_test)"
   ]
  },
  {
   "cell_type": "code",
   "execution_count": null,
   "id": "0847b9ad",
   "metadata": {
    "ExecuteTime": {
     "end_time": "2021-06-15T08:34:25.404865Z",
     "start_time": "2021-06-15T08:30:29.665Z"
    }
   },
   "outputs": [],
   "source": [
    "y_true = Y_train\n",
    "y_pred = rf_train_pred\n",
    "target_names = ['class 0', 'class 1']\n",
    "print(\"训练集效果:\")\n",
    "print(classification_report(y_true, y_pred, target_names=target_names))"
   ]
  },
  {
   "cell_type": "code",
   "execution_count": null,
   "id": "f80e79ff",
   "metadata": {
    "ExecuteTime": {
     "end_time": "2021-06-15T08:34:25.405917Z",
     "start_time": "2021-06-15T08:30:29.668Z"
    }
   },
   "outputs": [],
   "source": [
    "y_true = Y_test\n",
    "y_pred = rf_test_pred\n",
    "target_names = ['class 0', 'class 1']\n",
    "print(\"测试集效果:\")\n",
    "print(classification_report(y_true, y_pred, target_names=target_names))"
   ]
  },
  {
   "cell_type": "markdown",
   "id": "bd13a51d",
   "metadata": {},
   "source": [
    "### 决策树"
   ]
  },
  {
   "cell_type": "code",
   "execution_count": null,
   "id": "d8b65eb9",
   "metadata": {
    "ExecuteTime": {
     "end_time": "2021-06-15T08:34:25.406634Z",
     "start_time": "2021-06-15T08:30:29.670Z"
    }
   },
   "outputs": [],
   "source": [
    "dtc_model = MLA[2]"
   ]
  },
  {
   "cell_type": "code",
   "execution_count": null,
   "id": "a7399e48",
   "metadata": {
    "ExecuteTime": {
     "end_time": "2021-06-15T08:34:25.407423Z",
     "start_time": "2021-06-15T08:30:29.672Z"
    }
   },
   "outputs": [],
   "source": [
    "dtc_model.fit(X_train, Y_train)"
   ]
  },
  {
   "cell_type": "code",
   "execution_count": null,
   "id": "c2ab2de6",
   "metadata": {
    "ExecuteTime": {
     "end_time": "2021-06-15T08:34:25.408247Z",
     "start_time": "2021-06-15T08:30:29.673Z"
    }
   },
   "outputs": [],
   "source": [
    "dtc_train_pred = dtc_model.predict(X_train)\n",
    "dtc_test_pred = dtc_model.predict(X_test)"
   ]
  },
  {
   "cell_type": "code",
   "execution_count": null,
   "id": "58b191ac",
   "metadata": {
    "ExecuteTime": {
     "end_time": "2021-06-15T08:34:25.408956Z",
     "start_time": "2021-06-15T08:30:29.675Z"
    }
   },
   "outputs": [],
   "source": [
    "y_true = Y_train\n",
    "y_pred = dtc_train_pred\n",
    "target_names = ['class 0', 'class 1']\n",
    "print(\"训练集效果:\")\n",
    "print(classification_report(y_true, y_pred, target_names=target_names))"
   ]
  },
  {
   "cell_type": "code",
   "execution_count": null,
   "id": "3f9bc9e1",
   "metadata": {
    "ExecuteTime": {
     "end_time": "2021-06-15T08:34:25.409958Z",
     "start_time": "2021-06-15T08:30:29.676Z"
    }
   },
   "outputs": [],
   "source": [
    "y_true = Y_test\n",
    "y_pred = dtc_test_pred\n",
    "target_names = ['class 0', 'class 1']\n",
    "print(\"测试集效果:\")\n",
    "print(classification_report(y_true, y_pred, target_names=target_names))"
   ]
  },
  {
   "cell_type": "markdown",
   "id": "9c9ce6b0",
   "metadata": {},
   "source": [
    "## 规则输出\n",
    "* XGB提取决策规则\n",
    "* RF提取决策规则"
   ]
  },
  {
   "cell_type": "code",
   "execution_count": null,
   "id": "73f32e68",
   "metadata": {
    "ExecuteTime": {
     "end_time": "2021-06-15T08:34:25.410893Z",
     "start_time": "2021-06-15T08:30:29.678Z"
    }
   },
   "outputs": [],
   "source": [
    "import re"
   ]
  },
  {
   "cell_type": "markdown",
   "id": "888a1a4e",
   "metadata": {},
   "source": [
    "### XGB规则\n",
    "* 可视化决策树图"
   ]
  },
  {
   "cell_type": "code",
   "execution_count": null,
   "id": "e81bacf7",
   "metadata": {
    "ExecuteTime": {
     "end_time": "2021-06-15T08:34:25.411851Z",
     "start_time": "2021-06-15T08:30:29.679Z"
    }
   },
   "outputs": [],
   "source": [
    "# xgb_model.get_booster().dump_model('./xgb_model.txt', with_stats=True)"
   ]
  },
  {
   "cell_type": "code",
   "execution_count": null,
   "id": "550bfe4a",
   "metadata": {
    "ExecuteTime": {
     "end_time": "2021-06-15T08:34:25.412730Z",
     "start_time": "2021-06-15T08:30:29.681Z"
    }
   },
   "outputs": [],
   "source": [
    "# with open('xgb_model.txt', 'r') as f:\n",
    "#     lines = f.readlines()"
   ]
  },
  {
   "cell_type": "code",
   "execution_count": null,
   "id": "1057e0a3",
   "metadata": {
    "ExecuteTime": {
     "end_time": "2021-06-15T08:34:25.413663Z",
     "start_time": "2021-06-15T08:30:29.682Z"
    }
   },
   "outputs": [],
   "source": [
    "# digraph = xgboost.to_graphviz(xgb_model, num_trees=99)\n",
    "# digraph.format = 'png'\n",
    "# digraph.view('./plan_xgb')"
   ]
  },
  {
   "cell_type": "markdown",
   "id": "455046ee",
   "metadata": {},
   "source": [
    "### 决策树规则"
   ]
  },
  {
   "cell_type": "markdown",
   "id": "7d3f5bd5",
   "metadata": {},
   "source": [
    "* 可视化 if else 代码"
   ]
  },
  {
   "cell_type": "code",
   "execution_count": null,
   "id": "ddaa006f",
   "metadata": {
    "ExecuteTime": {
     "end_time": "2021-06-15T08:34:25.414669Z",
     "start_time": "2021-06-15T08:30:29.685Z"
    }
   },
   "outputs": [],
   "source": [
    "fea_names = df.drop(['label'], axis=1).columns.to_list()\n",
    "tar_names = ['bad_plan', 'good_plan']"
   ]
  },
  {
   "cell_type": "code",
   "execution_count": null,
   "id": "ae0ddc42",
   "metadata": {
    "ExecuteTime": {
     "end_time": "2021-06-15T08:34:25.415601Z",
     "start_time": "2021-06-15T08:30:29.687Z"
    }
   },
   "outputs": [],
   "source": [
    "tree_to_code(dtc_model, fea_names, tar_names)"
   ]
  },
  {
   "cell_type": "markdown",
   "id": "a41e8472",
   "metadata": {},
   "source": [
    "* 可视化决策树图"
   ]
  },
  {
   "cell_type": "code",
   "execution_count": null,
   "id": "d1625fe3",
   "metadata": {
    "ExecuteTime": {
     "end_time": "2021-06-15T08:34:25.416671Z",
     "start_time": "2021-06-15T08:30:29.689Z"
    }
   },
   "outputs": [],
   "source": [
    "dot_data = tree.export_graphviz(dtc_model, out_file=None, feature_names=fea_names, class_names=target_names,\n",
    "                                filled=True,\n",
    "                                rounded=True,\n",
    "                                )\n",
    "graph = pydotplus.graph_from_dot_data(dot_data)\n",
    "graph.write_pdf(\"code.pdf\")"
   ]
  },
  {
   "cell_type": "markdown",
   "id": "d8b04739",
   "metadata": {},
   "source": [
    "## 模型保存"
   ]
  },
  {
   "cell_type": "code",
   "execution_count": null,
   "id": "74635c55",
   "metadata": {
    "ExecuteTime": {
     "end_time": "2021-06-15T08:34:25.417879Z",
     "start_time": "2021-06-15T08:30:29.691Z"
    }
   },
   "outputs": [],
   "source": [
    "import joblib"
   ]
  },
  {
   "cell_type": "code",
   "execution_count": null,
   "id": "2c4e6fa3",
   "metadata": {
    "ExecuteTime": {
     "end_time": "2021-06-15T08:34:25.418637Z",
     "start_time": "2021-06-15T08:30:29.692Z"
    }
   },
   "outputs": [],
   "source": [
    "# joblib.dump(xgb_model, './aimodel/xgb_plan.pt')"
   ]
  },
  {
   "cell_type": "code",
   "execution_count": null,
   "id": "5224c90f",
   "metadata": {},
   "outputs": [],
   "source": []
  }
 ],
 "metadata": {
  "kernelspec": {
   "display_name": "Python 3",
   "language": "python",
   "name": "python3"
  },
  "language_info": {
   "codemirror_mode": {
    "name": "ipython",
    "version": 3
   },
   "file_extension": ".py",
   "mimetype": "text/x-python",
   "name": "python",
   "nbconvert_exporter": "python",
   "pygments_lexer": "ipython3",
   "version": "3.7.0"
  },
  "toc": {
   "base_numbering": 1,
   "nav_menu": {},
   "number_sections": true,
   "sideBar": true,
   "skip_h1_title": false,
   "title_cell": "Table of Contents",
   "title_sidebar": "Contents",
   "toc_cell": false,
   "toc_position": {
    "height": "calc(100% - 180px)",
    "left": "10px",
    "top": "150px",
    "width": "190px"
   },
   "toc_section_display": true,
   "toc_window_display": true
  }
 },
 "nbformat": 4,
 "nbformat_minor": 5
}
