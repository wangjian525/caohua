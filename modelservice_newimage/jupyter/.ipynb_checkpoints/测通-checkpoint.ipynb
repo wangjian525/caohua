{
 "cells": [
  {
   "cell_type": "markdown",
   "id": "58be732b",
   "metadata": {
    "ExecuteTime": {
     "end_time": "2021-06-15T08:45:00.224749Z",
     "start_time": "2021-06-15T08:45:00.220249Z"
    }
   },
   "source": [
    "# 本地测试"
   ]
  },
  {
   "cell_type": "code",
   "execution_count": 1,
   "id": "e4962dcd",
   "metadata": {
    "ExecuteTime": {
     "end_time": "2021-07-05T07:22:31.465937Z",
     "start_time": "2021-07-05T07:22:31.453097Z"
    }
   },
   "outputs": [
    {
     "data": {
      "text/plain": [
       "'/home/caohua/image_new/jupyter'"
      ]
     },
     "execution_count": 1,
     "metadata": {},
     "output_type": "execute_result"
    }
   ],
   "source": [
    "import os\n",
    "os.getcwd()"
   ]
  },
  {
   "cell_type": "code",
   "execution_count": 2,
   "id": "839952e2",
   "metadata": {
    "ExecuteTime": {
     "end_time": "2021-07-05T07:22:31.471604Z",
     "start_time": "2021-07-05T07:22:31.467899Z"
    }
   },
   "outputs": [],
   "source": [
    "os.chdir(os.path.dirname(os.getcwd()))"
   ]
  },
  {
   "cell_type": "code",
   "execution_count": 3,
   "id": "8311756f",
   "metadata": {
    "ExecuteTime": {
     "end_time": "2021-07-05T07:22:31.479040Z",
     "start_time": "2021-07-05T07:22:31.474185Z"
    }
   },
   "outputs": [
    {
     "data": {
      "text/plain": [
       "'/home/caohua/image_new'"
      ]
     },
     "execution_count": 3,
     "metadata": {},
     "output_type": "execute_result"
    }
   ],
   "source": [
    "os.getcwd()"
   ]
  },
  {
   "cell_type": "markdown",
   "id": "8d09b248",
   "metadata": {},
   "source": [
    "## 初步评分"
   ]
  },
  {
   "cell_type": "code",
   "execution_count": 4,
   "id": "d40cbe3e",
   "metadata": {
    "ExecuteTime": {
     "end_time": "2021-07-05T07:22:32.172803Z",
     "start_time": "2021-07-05T07:22:31.481592Z"
    }
   },
   "outputs": [],
   "source": [
    "from image_score_pre_new import *"
   ]
  },
  {
   "cell_type": "code",
   "execution_count": 5,
   "id": "6c453a55",
   "metadata": {
    "ExecuteTime": {
     "end_time": "2021-07-05T07:22:32.176930Z",
     "start_time": "2021-07-05T07:22:32.174570Z"
    }
   },
   "outputs": [],
   "source": [
    "# new_image_score = NewImageScore()"
   ]
  },
  {
   "cell_type": "code",
   "execution_count": 6,
   "id": "8df1cfa9",
   "metadata": {
    "ExecuteTime": {
     "end_time": "2021-07-05T07:22:32.190842Z",
     "start_time": "2021-07-05T07:22:32.178787Z"
    }
   },
   "outputs": [],
   "source": [
    "# df = new_image_score()\n",
    "# df.head()"
   ]
  },
  {
   "cell_type": "code",
   "execution_count": 7,
   "id": "6928dfc1",
   "metadata": {
    "ExecuteTime": {
     "end_time": "2021-07-05T07:22:32.196908Z",
     "start_time": "2021-07-05T07:22:32.192496Z"
    }
   },
   "outputs": [],
   "source": [
    "# new_image_score.load_to_hive()"
   ]
  },
  {
   "cell_type": "markdown",
   "id": "0d5e3baf",
   "metadata": {},
   "source": [
    "## 计划创建"
   ]
  },
  {
   "cell_type": "code",
   "execution_count": 8,
   "id": "1df76124",
   "metadata": {
    "ExecuteTime": {
     "end_time": "2021-07-05T07:22:32.711317Z",
     "start_time": "2021-07-05T07:22:32.199123Z"
    }
   },
   "outputs": [],
   "source": [
    "from create_plan_with_train import *"
   ]
  },
  {
   "cell_type": "code",
   "execution_count": null,
   "id": "2cca6861",
   "metadata": {
    "ExecuteTime": {
     "start_time": "2021-07-05T07:22:31.458Z"
    }
   },
   "outputs": [],
   "source": [
    "plan_creator = NewCreatePlan()"
   ]
  },
  {
   "cell_type": "code",
   "execution_count": null,
   "id": "43254b13",
   "metadata": {
    "ExecuteTime": {
     "start_time": "2021-07-05T07:22:31.459Z"
    }
   },
   "outputs": [],
   "source": [
    "rsp = plan_creator()"
   ]
  },
  {
   "cell_type": "code",
   "execution_count": null,
   "id": "aa210c5c",
   "metadata": {
    "ExecuteTime": {
     "start_time": "2021-07-05T07:22:31.460Z"
    }
   },
   "outputs": [],
   "source": [
    "rsp"
   ]
  },
  {
   "cell_type": "code",
   "execution_count": null,
   "id": "0f5030ec",
   "metadata": {},
   "outputs": [],
   "source": []
  }
 ],
 "metadata": {
  "kernelspec": {
   "display_name": "Python 3",
   "language": "python",
   "name": "python3"
  },
  "language_info": {
   "codemirror_mode": {
    "name": "ipython",
    "version": 3
   },
   "file_extension": ".py",
   "mimetype": "text/x-python",
   "name": "python",
   "nbconvert_exporter": "python",
   "pygments_lexer": "ipython3",
   "version": "3.7.0"
  },
  "toc": {
   "base_numbering": 1,
   "nav_menu": {},
   "number_sections": true,
   "sideBar": true,
   "skip_h1_title": false,
   "title_cell": "Table of Contents",
   "title_sidebar": "Contents",
   "toc_cell": false,
   "toc_position": {
    "height": "calc(100% - 180px)",
    "left": "10px",
    "top": "150px",
    "width": "165px"
   },
   "toc_section_display": true,
   "toc_window_display": true
  }
 },
 "nbformat": 4,
 "nbformat_minor": 5
}
