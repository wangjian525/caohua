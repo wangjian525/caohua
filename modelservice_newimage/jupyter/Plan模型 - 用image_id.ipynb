{
 "cells": [
  {
   "cell_type": "markdown",
   "id": "25646f34",
   "metadata": {},
   "source": [
    "# 自动化计划属性组合\n",
    "* <font color=red>目的</font>：结合新素材评分，自动化新建计划各个属性的组合流程；\n",
    "* <font color=red>已实现思路</font>：\n",
    "* 1）概率随机初始化多条属性选项的计划，对其分别进行概率评分，然后组合账号、素材的对应关系，做阈值条件筛选；\n",
    "\n",
    "* <font color=red>优化思路</font>：\n",
    "* 1）决策树模型的逆向推理之根据目标值Y来反推特征X集合；   \n",
    "   > 难点：没有具体代码实现，或者很难实现，因为确实非线性问题反推有无穷多解，即使实现了估计计算复杂度也不低\n",
    "* 2）决策树模型的常规推理后，输出每一个结点的规则条件，然后按照整体规则逻辑，一步一步随机选择符合子节点子规则预期的条件取值；✔   \n",
    "* 3）图神经网络Pointer Network，解决组合调度优化问题；   \n",
    "   > 难点：更偏统筹/动态优化，而且涉及不同属性取值的先后关系，场景有点差异\n",
    "* 4）概率采样 + 频繁项集 + roi或pay_rate排名靠前优质定向采样；✔\n",
    "\n",
    "* <font color=red>用image_id</font>：表示特征字段利用了素材ID，但是新素材因为是全新的ID，所以不适用于新素材计划的概率评估"
   ]
  },
  {
   "cell_type": "code",
   "execution_count": 1,
   "id": "c005a11f",
   "metadata": {
    "ExecuteTime": {
     "end_time": "2021-06-10T06:17:24.812431Z",
     "start_time": "2021-06-10T06:17:23.438767Z"
    }
   },
   "outputs": [],
   "source": [
    "import pandas as pd\n",
    "import numpy as np\n",
    "pd.set_option(\"display.max_columns\", None)\n",
    "from impala.dbapi import connect\n",
    "from impala.util import as_pandas\n",
    "import gc\n",
    "import json\n",
    "import pymysql\n",
    "import datetime\n",
    "from sklearn.preprocessing import LabelEncoder, StandardScaler\n",
    "from tqdm.auto import tqdm\n",
    "tqdm.pandas(desc=\"Processing!\")\n",
    "\n",
    "from script.dtc_rule import tree_to_code\n",
    "\n",
    "# from script.weight import weights_calcul, weights_assign  # 权值编、解码脚本"
   ]
  },
  {
   "cell_type": "markdown",
   "id": "48182702",
   "metadata": {},
   "source": [
    "## 数据：计划信息+素材信息+运营指标信息\n",
    "* 计划信息表：含有各计划创建的属性详情（有缺失）；\n",
    "* 素材信息表：含有各素材的素材ID以及素材标签情况；\n",
    "* 运营信息表：含有各计划上线跑分的指标情况，只用于后续打标签；"
   ]
  },
  {
   "cell_type": "code",
   "execution_count": 2,
   "id": "bee30398",
   "metadata": {
    "ExecuteTime": {
     "end_time": "2021-06-10T06:17:24.819345Z",
     "start_time": "2021-06-10T06:17:24.814295Z"
    }
   },
   "outputs": [],
   "source": [
    "def get_game_id():\n",
    "    conn = pymysql.connect(host='192.168.0.79', port=3306, user='readonly',\n",
    "                           passwd='Kc&r+z1ql9x8za4kzfk761weq8ozGv3ZpI;RMe,#+s%c>t')\n",
    "    cur = conn.cursor(cursor=pymysql.cursors.DictCursor)\n",
    "    sql = '''\n",
    "        SELECT dev_game_id AS game_id FROM db_data.t_game_config WHERE game_id = 1056 AND dev_game_id IS NOT NULL \n",
    "    '''\n",
    "    cur.execute(sql)\n",
    "    result_df = cur.fetchall()\n",
    "    cur.close()\n",
    "    conn.close()\n",
    "    return result_df"
   ]
  },
  {
   "cell_type": "markdown",
   "id": "9e09acc6",
   "metadata": {},
   "source": [
    "### 采集：计划信息"
   ]
  },
  {
   "cell_type": "code",
   "execution_count": 3,
   "id": "9f52a68a",
   "metadata": {
    "ExecuteTime": {
     "end_time": "2021-06-10T06:17:26.434073Z",
     "start_time": "2021-06-10T06:17:24.822058Z"
    }
   },
   "outputs": [],
   "source": [
    "plan_info = pd.read_csv('/home/data/ch_data/ptom_third_plan.csv')"
   ]
  },
  {
   "cell_type": "code",
   "execution_count": 4,
   "id": "930c62fc",
   "metadata": {
    "ExecuteTime": {
     "end_time": "2021-06-10T06:17:26.440328Z",
     "start_time": "2021-06-10T06:17:26.436043Z"
    }
   },
   "outputs": [],
   "source": [
    "def get_plan_info():\n",
    "    game_id = get_game_id()\n",
    "    game_id = list(map(lambda x: x['game_id'], game_id))\n",
    "    game_id = [str(i) for i in game_id]\n",
    "    game_id = ','.join(game_id)\n",
    "    conn = pymysql.connect(host='192.168.0.65', port=3306, user='readonly',\n",
    "                           passwd='Kc&r+z1ql9x8za4kzfk761weq8ozGv3ZpI;RMe,#+s%c>t', db='db_ptom')\n",
    "    cur = conn.cursor(cursor=pymysql.cursors.DictCursor)\n",
    "    sql = '''\n",
    "    /*手动查询*/\n",
    "        SELECT\n",
    "                * \n",
    "            FROM\n",
    "                db_ptom.ptom_third_plan p\n",
    "            WHERE\n",
    "                game_id IN ({})\n",
    "                AND media_id = 10\n",
    "                AND create_time>='2020-01-01'\n",
    "                AND create_time<= date(NOW())\n",
    "                            AND plan_id >= (\n",
    "                                select plan_id from db_ptom.ptom_plan\n",
    "                                where create_time >= '2021-04-23'\n",
    "                                and create_time <= '2021-04-24'\n",
    "                                limit 1\n",
    "                            )\n",
    "    '''\n",
    "    finalSql = sql.format(game_id)\n",
    "    result_df = pd.read_sql(finalSql, conn)\n",
    "    cur.close()\n",
    "    conn.close()\n",
    "    return result_df"
   ]
  },
  {
   "cell_type": "code",
   "execution_count": 5,
   "id": "748d408a",
   "metadata": {
    "ExecuteTime": {
     "end_time": "2021-06-10T06:17:31.184456Z",
     "start_time": "2021-06-10T06:17:26.441936Z"
    }
   },
   "outputs": [],
   "source": [
    "plan_info_new = get_plan_info()"
   ]
  },
  {
   "cell_type": "markdown",
   "id": "8cfb9245",
   "metadata": {},
   "source": [
    "### 采集：素材信息"
   ]
  },
  {
   "cell_type": "code",
   "execution_count": 6,
   "id": "cabca997",
   "metadata": {
    "ExecuteTime": {
     "end_time": "2021-06-10T06:17:31.207174Z",
     "start_time": "2021-06-10T06:17:31.186149Z"
    }
   },
   "outputs": [],
   "source": [
    "image_info = pd.read_csv('/home/data/ch_data/image_info.csv')"
   ]
  },
  {
   "cell_type": "code",
   "execution_count": 7,
   "id": "5fbd5ea2",
   "metadata": {
    "ExecuteTime": {
     "end_time": "2021-06-10T06:17:31.212637Z",
     "start_time": "2021-06-10T06:17:31.208922Z"
    }
   },
   "outputs": [],
   "source": [
    "def get_image_info():\n",
    "    conn = pymysql.connect(host='192.168.0.79', port=3306, user='readonly',\n",
    "                           passwd='Kc&r+z1ql9x8za4kzfk761weq8ozGv3ZpI;RMe,#+s%c>t')\n",
    "    cur = conn.cursor(cursor=pymysql.cursors.DictCursor)\n",
    "    sql = '''\n",
    "        SELECT\n",
    "            a.chl_user_id AS channel_id,\n",
    "            a.source_id,\n",
    "            a.image_id,\n",
    "            b.label_ids\n",
    "        FROM\n",
    "            db_data_ptom.ptom_plan a\n",
    "            LEFT JOIN\n",
    "            db_data_ptom.ptom_image_info b\n",
    "        on a.image_id = b.image_id\n",
    "        WHERE\n",
    "            a.game_id IN ( SELECT dev_game_id AS game_id FROM db_data.t_game_config WHERE game_id = 1056 AND dev_game_id IS NOT NULL ) \n",
    "            AND a.media_id = 10 \n",
    "            AND a.create_time >= '2020-01-01' \n",
    "        GROUP BY\n",
    "            a.chl_user_id,\n",
    "            a.source_id,\n",
    "            a.image_id\n",
    "    '''\n",
    "    cur.execute(sql)\n",
    "    result_df = pd.read_sql(sql, conn)\n",
    "    cur.close()\n",
    "    conn.close()\n",
    "    return result_df"
   ]
  },
  {
   "cell_type": "code",
   "execution_count": 8,
   "id": "db749fcb",
   "metadata": {
    "ExecuteTime": {
     "end_time": "2021-06-10T06:17:34.915048Z",
     "start_time": "2021-06-10T06:17:31.215845Z"
    }
   },
   "outputs": [],
   "source": [
    "image_info_new = get_image_info()"
   ]
  },
  {
   "cell_type": "markdown",
   "id": "bd4b609e",
   "metadata": {},
   "source": [
    "### 采集：运营信息"
   ]
  },
  {
   "cell_type": "code",
   "execution_count": 9,
   "id": "faa0b10e",
   "metadata": {
    "ExecuteTime": {
     "end_time": "2021-06-10T06:17:34.939068Z",
     "start_time": "2021-06-10T06:17:34.917661Z"
    }
   },
   "outputs": [],
   "source": [
    "launch_report = pd.read_csv('/home/data/ch_data/launch_report.csv')"
   ]
  },
  {
   "cell_type": "code",
   "execution_count": 10,
   "id": "72bf6495",
   "metadata": {
    "ExecuteTime": {
     "end_time": "2021-06-10T06:17:34.946106Z",
     "start_time": "2021-06-10T06:17:34.940856Z"
    }
   },
   "outputs": [],
   "source": [
    "def get_launch_report():\n",
    "    game_id = get_game_id()\n",
    "    game_id = list(map(lambda x: x['game_id'], game_id))\n",
    "    game_id = [str(i) for i in game_id]\n",
    "    game_id = ','.join(game_id)\n",
    "\n",
    "    conn = pymysql.connect(host='192.168.0.79', port=3306, user='readonly',\n",
    "                           passwd='Kc&r+z1ql9x8za4kzfk761weq8ozGv3ZpI;RMe,#+s%c>t')\n",
    "    cur = conn.cursor(cursor=pymysql.cursors.DictCursor)\n",
    "    sql = '''\n",
    "        /*手动查询*/\n",
    "        SELECT\n",
    "            a.chl_user_id AS channel_id,\n",
    "            a.source_id AS source_id,\n",
    "            b.tdate,\n",
    "            b.amount,\n",
    "            b.new_role_money,\n",
    "            b.new_role_money / b.amount as roi,\n",
    "            b.pay_role_user_num / b.create_role_num as pay_rate\n",
    "        FROM\n",
    "            db_data_ptom.ptom_plan a\n",
    "            LEFT JOIN db_stdata.st_lauch_report b ON a.chl_user_id = b.channel_id \n",
    "            AND a.source_id = b.source_id \n",
    "        WHERE\n",
    "            a.create_time >= '2020-01-01' \n",
    "            AND b.tdate >= '2020-01-01' \n",
    "            AND b.tdate_type = 'day' \n",
    "            AND b.media_id = 10\n",
    "            AND b.game_id IN ({})\n",
    "            AND b.amount >= 500\n",
    "    '''\n",
    "    finalSql = sql.format(game_id)\n",
    "    cur.execute(finalSql)\n",
    "    result_df = pd.read_sql(finalSql, conn)\n",
    "    cur.close()\n",
    "    conn.close()\n",
    "    result_df['tdate'] = pd.to_datetime(result_df['tdate'])\n",
    "    result_df = result_df.sort_values('tdate')\n",
    "    result_df = result_df.drop_duplicates(['channel_id', 'source_id'], keep='first')\n",
    "\n",
    "    return result_df"
   ]
  },
  {
   "cell_type": "code",
   "execution_count": 11,
   "id": "d1d3d53a",
   "metadata": {
    "ExecuteTime": {
     "end_time": "2021-06-10T06:18:09.021186Z",
     "start_time": "2021-06-10T06:17:34.948048Z"
    }
   },
   "outputs": [],
   "source": [
    "launch_report_new = get_launch_report()"
   ]
  },
  {
   "cell_type": "markdown",
   "id": "b03fa136",
   "metadata": {},
   "source": [
    "### 采集附加：素材评分信息"
   ]
  },
  {
   "cell_type": "code",
   "execution_count": 12,
   "id": "64c581b1",
   "metadata": {
    "ExecuteTime": {
     "end_time": "2021-06-10T06:18:09.025993Z",
     "start_time": "2021-06-10T06:18:09.022531Z"
    }
   },
   "outputs": [],
   "source": [
    "# image_score = pd.read_csv('/home/data/ch_data/dws_image_score_d.csv', encoding='GB2312')"
   ]
  },
  {
   "cell_type": "code",
   "execution_count": 13,
   "id": "ca32f130",
   "metadata": {
    "ExecuteTime": {
     "end_time": "2021-06-10T06:18:09.040330Z",
     "start_time": "2021-06-10T06:18:09.027928Z"
    }
   },
   "outputs": [],
   "source": [
    "# image_score.dropna(subset=['image_id', 'score'], inplace=True)"
   ]
  },
  {
   "cell_type": "code",
   "execution_count": 14,
   "id": "febb2d8b",
   "metadata": {
    "ExecuteTime": {
     "end_time": "2021-06-10T06:18:09.046189Z",
     "start_time": "2021-06-10T06:18:09.042209Z"
    }
   },
   "outputs": [],
   "source": [
    "# image_score = image_score[['image_id', 'model_run_datetime', 'score']]\n",
    "# image_score.columns = ['image_id', 'create_time', 'image_score']\n",
    "# image_score.drop_duplicates(inplace=True)"
   ]
  },
  {
   "cell_type": "markdown",
   "id": "3403c6aa",
   "metadata": {},
   "source": [
    "### 合并"
   ]
  },
  {
   "cell_type": "code",
   "execution_count": 15,
   "id": "3f0e738e",
   "metadata": {
    "ExecuteTime": {
     "end_time": "2021-06-10T06:18:09.055079Z",
     "start_time": "2021-06-10T06:18:09.048239Z"
    }
   },
   "outputs": [],
   "source": [
    "def get_plan_json(plan_info):\n",
    "    plan_info.drop(['inventory_type', 'budget'], axis=1, inplace=True)\n",
    "    plan_info.dropna(how='all', inplace=True, axis=1)\n",
    "    plan_info.dropna(subset=['ad_info'], inplace=True)\n",
    "    # 解析json\n",
    "    plan_info['ad_info'] = plan_info['ad_info'].apply(json.loads)\n",
    "    temp = plan_info['ad_info'].apply(pd.Series)\n",
    "    plan_info = pd.concat([plan_info, temp], axis=1)\n",
    "    plan_info.drop('ad_info', axis=1, inplace=True)\n",
    "    temp = plan_info['audience'].apply(pd.Series)\n",
    "    plan_info = pd.concat([plan_info, temp], axis=1)\n",
    "    plan_info.drop('audience', axis=1, inplace=True)\n",
    "    temp = plan_info['action'].apply(pd.Series)\n",
    "    plan_info = pd.concat([plan_info, temp], axis=1)\n",
    "    plan_info.drop('action', axis=1, inplace=True)\n",
    "    plan_info.dropna(how='all', inplace=True, axis=1)\n",
    "    plan_info = plan_info[['ad_account_id', 'game_id', 'channel_id', 'source_id',\n",
    "                           'create_time', 'smart_bid_type', 'hide_if_exists', 'budget',\n",
    "                           'delivery_range', 'adjust_cpa', 'inventory_type', 'hide_if_converted',\n",
    "                           'flow_control_mode', 'schedule_time', 'cpa_bid', 'auto_extend_enabled',\n",
    "                           'gender', 'city', 'platform', 'launch_price',\n",
    "                           'retargeting_tags_exclude', 'interest_categories',\n",
    "                           'ac', 'android_osv', 'location_type', 'retargeting_tags_include',\n",
    "                           'retargeting_type', 'ios_osv', 'interest_action_mode', 'age',\n",
    "                           'action_categories', 'action_days', 'action_scene', 'deep_bid_type']]\n",
    "    return plan_info"
   ]
  },
  {
   "cell_type": "code",
   "execution_count": 16,
   "id": "b1c03e88",
   "metadata": {
    "ExecuteTime": {
     "end_time": "2021-06-10T06:19:33.449901Z",
     "start_time": "2021-06-10T06:18:09.056974Z"
    }
   },
   "outputs": [],
   "source": [
    "# 计划\n",
    "plan_info = plan_info.append(plan_info_new)\n",
    "plan_info = get_plan_json(plan_info)\n",
    "plan_info.dropna(subset=['cpa_bid'], inplace=True)\n",
    "# 素材\n",
    "image_info = image_info.append(image_info_new)\n",
    "# image_info = pd.merge(image_info, image_score, on=['image_id'], how='inner')\n",
    "image_info.dropna(subset=['image_id'], inplace=True)\n",
    "image_info['image_id'] = image_info['image_id'].astype(int)\n",
    "# 运营\n",
    "launch_report = launch_report.append(launch_report_new)"
   ]
  },
  {
   "cell_type": "markdown",
   "id": "9ed21f95",
   "metadata": {
    "ExecuteTime": {
     "end_time": "2021-06-07T07:06:12.297264Z",
     "start_time": "2021-06-07T07:06:11.724848Z"
    }
   },
   "source": [
    "* 拼接+过滤"
   ]
  },
  {
   "cell_type": "code",
   "execution_count": 17,
   "id": "a7708ea5",
   "metadata": {
    "ExecuteTime": {
     "end_time": "2021-06-10T06:19:36.540670Z",
     "start_time": "2021-06-10T06:19:33.451756Z"
    }
   },
   "outputs": [],
   "source": [
    "df = pd.merge(plan_info, image_info, on=['channel_id', 'source_id'], how='left')\n",
    "df.dropna(subset=['image_id'], inplace=True)\n",
    "df = pd.merge(df, launch_report, on=['channel_id', 'source_id'], how='left')\n",
    "df.drop(df[df['tdate'].isna()].index, inplace=True)\n",
    "df = df[df['amount'] >= 500]"
   ]
  },
  {
   "cell_type": "markdown",
   "id": "9d59fb23",
   "metadata": {},
   "source": [
    "### 字段处理\n",
    "* ROI指标打标签"
   ]
  },
  {
   "cell_type": "code",
   "execution_count": 18,
   "id": "d73847a0",
   "metadata": {
    "ExecuteTime": {
     "end_time": "2021-06-10T06:19:37.142780Z",
     "start_time": "2021-06-10T06:19:36.542831Z"
    }
   },
   "outputs": [],
   "source": [
    "df.dropna(subset=['roi'], inplace=True)\n",
    "df.dropna(subset=['new_role_money'], inplace=True)\n",
    "df.dropna(subset=['amount'], inplace=True)"
   ]
  },
  {
   "cell_type": "code",
   "execution_count": 19,
   "id": "b478c491",
   "metadata": {
    "ExecuteTime": {
     "end_time": "2021-06-10T06:19:44.970923Z",
     "start_time": "2021-06-10T06:19:37.144986Z"
    }
   },
   "outputs": [],
   "source": [
    "df['platform'] = df['platform'].astype(str)\n",
    "df['platform'] = df['platform'].map({\"['ANDROID']\": 1, \"['IOS']\": 2})\n",
    "df['label'] = df.apply(lambda x: 1 if x.new_role_money / x.amount >= 0.01 or x.roi >= 0.01 else 0, axis=1)  # 打标签\n",
    "df['ad_account_id'] = df['ad_account_id'].astype('int')\n",
    "df['image_id'] = df['image_id'].astype('int')\n",
    "df.rename(columns={'tdate': 'create_date'}, inplace=True)\n",
    "df['create_date'] = pd.to_datetime(df['create_date'])\n",
    "df['create_time'] = pd.to_datetime(df['create_time'])"
   ]
  },
  {
   "cell_type": "code",
   "execution_count": 20,
   "id": "484caad5",
   "metadata": {
    "ExecuteTime": {
     "end_time": "2021-06-10T06:19:45.093225Z",
     "start_time": "2021-06-10T06:19:44.973053Z"
    }
   },
   "outputs": [],
   "source": [
    "df.drop(['channel_id', 'source_id', 'schedule_time', 'amount', 'roi', 'pay_rate', 'new_role_money'], axis=1, inplace=True)"
   ]
  },
  {
   "cell_type": "markdown",
   "id": "c94f63a9",
   "metadata": {},
   "source": [
    "#### 特殊字段"
   ]
  },
  {
   "cell_type": "code",
   "execution_count": 21,
   "id": "cc0e2d51",
   "metadata": {
    "ExecuteTime": {
     "end_time": "2021-06-10T06:19:48.903825Z",
     "start_time": "2021-06-10T06:19:45.095052Z"
    }
   },
   "outputs": [],
   "source": [
    "df = df.mask(df.applymap(str).eq('[]'))  # 空list替换为NaN"
   ]
  },
  {
   "cell_type": "code",
   "execution_count": 22,
   "id": "110b6693",
   "metadata": {
    "ExecuteTime": {
     "end_time": "2021-06-10T06:19:52.930990Z",
     "start_time": "2021-06-10T06:19:48.905590Z"
    }
   },
   "outputs": [],
   "source": [
    "df = df.mask(df.applymap(str).eq('NONE'))  # NONE替换为NaN"
   ]
  },
  {
   "cell_type": "markdown",
   "id": "bdb03936",
   "metadata": {},
   "source": [
    "#### 缺失统计\n",
    "* 这里的缺失不代表取值不确定，而是没有条件定向的限制，所以不应该过滤"
   ]
  },
  {
   "cell_type": "code",
   "execution_count": 23,
   "id": "ff333dfc",
   "metadata": {
    "ExecuteTime": {
     "end_time": "2021-06-10T06:19:53.262525Z",
     "start_time": "2021-06-10T06:19:52.938862Z"
    }
   },
   "outputs": [],
   "source": [
    "from matplotlib import pyplot as plt"
   ]
  },
  {
   "cell_type": "code",
   "execution_count": 24,
   "id": "e9c1e7e4",
   "metadata": {
    "ExecuteTime": {
     "end_time": "2021-06-10T06:19:53.870562Z",
     "start_time": "2021-06-10T06:19:53.265165Z"
    }
   },
   "outputs": [
    {
     "data": {
      "image/png": "[encoded data removed]",
      "text/plain": [
       "<Figure size 576x720 with 1 Axes>"
      ]
     },
     "metadata": {
      "needs_background": "light"
     },
     "output_type": "display_data"
    }
   ],
   "source": [
    "# 各字段缺失率统计\n",
    "na_rate = (len(df) - df.count()) / len(df)  # 缺失率\n",
    "a = na_rate.sort_values(ascending=False)  # 倒序\n",
    "a1 = pd.DataFrame(a)\n",
    "plt.style.use('bmh')\n",
    "plt.figure(figsize = (8,10))\n",
    "plt.barh(range(df.shape[1]),a1[0])\n",
    "plt.xlabel('na_rate')\n",
    "plt.xlim([0,1])\n",
    "plt.yticks(range(df.shape[1]),a1.index.values.tolist())\n",
    "for x,y in enumerate(a1[0]):\n",
    "    plt.text(y,x,'%.3f'%y, va='bottom')"
   ]
  },
  {
   "cell_type": "code",
   "execution_count": 25,
   "id": "56822ca8",
   "metadata": {
    "ExecuteTime": {
     "end_time": "2021-06-10T06:19:53.875385Z",
     "start_time": "2021-06-10T06:19:53.872846Z"
    }
   },
   "outputs": [],
   "source": [
    "# df.drop(['schedule_time', 'ios_osv', 'retargeting_tags_include', 'city', 'interest_categories', 'action_categories', 'action_scene', 'action_days', 'android_osv', 'ac', 'retargeting_tags_exclude', 'deep_bid_type', 'retargeting_type'], axis=1, inplace=True)  # 删除缺失率超25%的字段\n",
    "# df.drop_duplicates(inplace=True)  # keep=first"
   ]
  },
  {
   "cell_type": "code",
   "execution_count": 26,
   "id": "b559f458",
   "metadata": {
    "ExecuteTime": {
     "end_time": "2021-06-10T06:19:54.072234Z",
     "start_time": "2021-06-10T06:19:53.878077Z"
    }
   },
   "outputs": [
    {
     "name": "stdout",
     "output_type": "stream",
     "text": [
      "<class 'pandas.core.frame.DataFrame'>\n",
      "RangeIndex: 155246 entries, 0 to 155245\n",
      "Data columns (total 35 columns):\n",
      " #   Column                    Non-Null Count   Dtype         \n",
      "---  ------                    --------------   -----         \n",
      " 0   ad_account_id             155246 non-null  int64         \n",
      " 1   game_id                   155246 non-null  int64         \n",
      " 2   create_time               155246 non-null  datetime64[ns]\n",
      " 3   smart_bid_type            155246 non-null  object        \n",
      " 4   hide_if_exists            155246 non-null  int64         \n",
      " 5   budget                    155246 non-null  float64       \n",
      " 6   delivery_range            155246 non-null  object        \n",
      " 7   adjust_cpa                128160 non-null  float64       \n",
      " 8   inventory_type            155110 non-null  object        \n",
      " 9   hide_if_converted         155246 non-null  object        \n",
      " 10  flow_control_mode         155246 non-null  object        \n",
      " 11  cpa_bid                   155246 non-null  float64       \n",
      " 12  auto_extend_enabled       155246 non-null  int64         \n",
      " 13  gender                    128186 non-null  object        \n",
      " 14  city                      32686 non-null   object        \n",
      " 15  platform                  155246 non-null  int64         \n",
      " 16  launch_price              122217 non-null  object        \n",
      " 17  retargeting_tags_exclude  90292 non-null   object        \n",
      " 18  interest_categories       35650 non-null   object        \n",
      " 19  ac                        86303 non-null   object        \n",
      " 20  android_osv               82069 non-null   object        \n",
      " 21  location_type             155246 non-null  object        \n",
      " 22  retargeting_tags_include  28659 non-null   object        \n",
      " 23  retargeting_type          94504 non-null   object        \n",
      " 24  ios_osv                   7302 non-null    object        \n",
      " 25  interest_action_mode      154938 non-null  object        \n",
      " 26  age                       119253 non-null  object        \n",
      " 27  action_categories         39929 non-null   object        \n",
      " 28  action_days               44123 non-null   float64       \n",
      " 29  action_scene              44123 non-null   object        \n",
      " 30  deep_bid_type             88970 non-null   object        \n",
      " 31  image_id                  155246 non-null  int64         \n",
      " 32  label_ids                 133366 non-null  object        \n",
      " 33  create_date               155246 non-null  datetime64[ns]\n",
      " 34  label                     155246 non-null  int64         \n",
      "dtypes: datetime64[ns](2), float64(4), int64(7), object(22)\n",
      "memory usage: 41.5+ MB\n"
     ]
    }
   ],
   "source": [
    "df.reset_index(drop=True, inplace=True)\n",
    "df.info()"
   ]
  },
  {
   "cell_type": "code",
   "execution_count": 27,
   "id": "cc5f056e",
   "metadata": {
    "ExecuteTime": {
     "end_time": "2021-06-10T06:19:54.105823Z",
     "start_time": "2021-06-10T06:19:54.074344Z"
    }
   },
   "outputs": [
    {
     "data": {
      "text/html": [
       "<div>\n",
       "<style scoped>\n",
       "    .dataframe tbody tr th:only-of-type {\n",
       "        vertical-align: middle;\n",
       "    }\n",
       "\n",
       "    .dataframe tbody tr th {\n",
       "        vertical-align: top;\n",
       "    }\n",
       "\n",
       "    .dataframe thead th {\n",
       "        text-align: right;\n",
       "    }\n",
       "</style>\n",
       "<table border=\"1\" class=\"dataframe\">\n",
       "  <thead>\n",
       "    <tr style=\"text-align: right;\">\n",
       "      <th></th>\n",
       "      <th>ad_account_id</th>\n",
       "      <th>game_id</th>\n",
       "      <th>create_time</th>\n",
       "      <th>smart_bid_type</th>\n",
       "      <th>hide_if_exists</th>\n",
       "      <th>budget</th>\n",
       "      <th>delivery_range</th>\n",
       "      <th>adjust_cpa</th>\n",
       "      <th>inventory_type</th>\n",
       "      <th>hide_if_converted</th>\n",
       "      <th>flow_control_mode</th>\n",
       "      <th>cpa_bid</th>\n",
       "      <th>auto_extend_enabled</th>\n",
       "      <th>gender</th>\n",
       "      <th>city</th>\n",
       "      <th>platform</th>\n",
       "      <th>launch_price</th>\n",
       "      <th>retargeting_tags_exclude</th>\n",
       "      <th>interest_categories</th>\n",
       "      <th>ac</th>\n",
       "      <th>android_osv</th>\n",
       "      <th>location_type</th>\n",
       "      <th>retargeting_tags_include</th>\n",
       "      <th>retargeting_type</th>\n",
       "      <th>ios_osv</th>\n",
       "      <th>interest_action_mode</th>\n",
       "      <th>age</th>\n",
       "      <th>action_categories</th>\n",
       "      <th>action_days</th>\n",
       "      <th>action_scene</th>\n",
       "      <th>deep_bid_type</th>\n",
       "      <th>image_id</th>\n",
       "      <th>label_ids</th>\n",
       "      <th>create_date</th>\n",
       "      <th>label</th>\n",
       "    </tr>\n",
       "  </thead>\n",
       "  <tbody>\n",
       "    <tr>\n",
       "      <th>0</th>\n",
       "      <td>4003</td>\n",
       "      <td>1000840</td>\n",
       "      <td>2020-01-19 16:18:31</td>\n",
       "      <td>SMART_BID_CONSERVATIVE</td>\n",
       "      <td>0</td>\n",
       "      <td>5000.0</td>\n",
       "      <td>UNION</td>\n",
       "      <td>0.0</td>\n",
       "      <td>[INVENTORY_UNION_SLOT]</td>\n",
       "      <td>AD</td>\n",
       "      <td>FLOW_CONTROL_MODE_FAST</td>\n",
       "      <td>1135.73</td>\n",
       "      <td>0</td>\n",
       "      <td>GENDER_MALE</td>\n",
       "      <td>NaN</td>\n",
       "      <td>1</td>\n",
       "      <td>NaN</td>\n",
       "      <td>NaN</td>\n",
       "      <td>NaN</td>\n",
       "      <td>NaN</td>\n",
       "      <td>NaN</td>\n",
       "      <td>CURRENT</td>\n",
       "      <td>NaN</td>\n",
       "      <td>NaN</td>\n",
       "      <td>NaN</td>\n",
       "      <td>UNLIMITED</td>\n",
       "      <td>[AGE_BETWEEN_24_30, AGE_BETWEEN_31_40, AGE_BET...</td>\n",
       "      <td>NaN</td>\n",
       "      <td>NaN</td>\n",
       "      <td>NaN</td>\n",
       "      <td>NaN</td>\n",
       "      <td>19788</td>\n",
       "      <td>NaN</td>\n",
       "      <td>2020-01-21</td>\n",
       "      <td>0</td>\n",
       "    </tr>\n",
       "    <tr>\n",
       "      <th>1</th>\n",
       "      <td>4003</td>\n",
       "      <td>1000840</td>\n",
       "      <td>2020-01-19 16:18:31</td>\n",
       "      <td>SMART_BID_CONSERVATIVE</td>\n",
       "      <td>0</td>\n",
       "      <td>5000.0</td>\n",
       "      <td>UNION</td>\n",
       "      <td>0.0</td>\n",
       "      <td>[INVENTORY_UNION_SLOT]</td>\n",
       "      <td>AD</td>\n",
       "      <td>FLOW_CONTROL_MODE_FAST</td>\n",
       "      <td>1135.73</td>\n",
       "      <td>0</td>\n",
       "      <td>GENDER_MALE</td>\n",
       "      <td>NaN</td>\n",
       "      <td>1</td>\n",
       "      <td>NaN</td>\n",
       "      <td>NaN</td>\n",
       "      <td>NaN</td>\n",
       "      <td>NaN</td>\n",
       "      <td>NaN</td>\n",
       "      <td>CURRENT</td>\n",
       "      <td>NaN</td>\n",
       "      <td>NaN</td>\n",
       "      <td>NaN</td>\n",
       "      <td>UNLIMITED</td>\n",
       "      <td>[AGE_BETWEEN_24_30, AGE_BETWEEN_31_40, AGE_BET...</td>\n",
       "      <td>NaN</td>\n",
       "      <td>NaN</td>\n",
       "      <td>NaN</td>\n",
       "      <td>NaN</td>\n",
       "      <td>19788</td>\n",
       "      <td>NaN</td>\n",
       "      <td>2020-01-21</td>\n",
       "      <td>0</td>\n",
       "    </tr>\n",
       "    <tr>\n",
       "      <th>2</th>\n",
       "      <td>4003</td>\n",
       "      <td>1000840</td>\n",
       "      <td>2020-01-19 16:18:31</td>\n",
       "      <td>SMART_BID_CONSERVATIVE</td>\n",
       "      <td>0</td>\n",
       "      <td>5000.0</td>\n",
       "      <td>UNION</td>\n",
       "      <td>0.0</td>\n",
       "      <td>[INVENTORY_UNION_SLOT]</td>\n",
       "      <td>AD</td>\n",
       "      <td>FLOW_CONTROL_MODE_FAST</td>\n",
       "      <td>1135.73</td>\n",
       "      <td>0</td>\n",
       "      <td>GENDER_MALE</td>\n",
       "      <td>NaN</td>\n",
       "      <td>1</td>\n",
       "      <td>NaN</td>\n",
       "      <td>NaN</td>\n",
       "      <td>NaN</td>\n",
       "      <td>NaN</td>\n",
       "      <td>NaN</td>\n",
       "      <td>CURRENT</td>\n",
       "      <td>NaN</td>\n",
       "      <td>NaN</td>\n",
       "      <td>NaN</td>\n",
       "      <td>UNLIMITED</td>\n",
       "      <td>[AGE_BETWEEN_24_30, AGE_BETWEEN_31_40, AGE_BET...</td>\n",
       "      <td>NaN</td>\n",
       "      <td>NaN</td>\n",
       "      <td>NaN</td>\n",
       "      <td>NaN</td>\n",
       "      <td>19788</td>\n",
       "      <td>None</td>\n",
       "      <td>2020-01-21</td>\n",
       "      <td>0</td>\n",
       "    </tr>\n",
       "    <tr>\n",
       "      <th>3</th>\n",
       "      <td>4003</td>\n",
       "      <td>1000840</td>\n",
       "      <td>2020-01-19 16:18:31</td>\n",
       "      <td>SMART_BID_CONSERVATIVE</td>\n",
       "      <td>0</td>\n",
       "      <td>5000.0</td>\n",
       "      <td>UNION</td>\n",
       "      <td>0.0</td>\n",
       "      <td>[INVENTORY_UNION_SLOT]</td>\n",
       "      <td>AD</td>\n",
       "      <td>FLOW_CONTROL_MODE_FAST</td>\n",
       "      <td>1135.73</td>\n",
       "      <td>0</td>\n",
       "      <td>GENDER_MALE</td>\n",
       "      <td>NaN</td>\n",
       "      <td>1</td>\n",
       "      <td>NaN</td>\n",
       "      <td>NaN</td>\n",
       "      <td>NaN</td>\n",
       "      <td>NaN</td>\n",
       "      <td>NaN</td>\n",
       "      <td>CURRENT</td>\n",
       "      <td>NaN</td>\n",
       "      <td>NaN</td>\n",
       "      <td>NaN</td>\n",
       "      <td>UNLIMITED</td>\n",
       "      <td>[AGE_BETWEEN_24_30, AGE_BETWEEN_31_40, AGE_BET...</td>\n",
       "      <td>NaN</td>\n",
       "      <td>NaN</td>\n",
       "      <td>NaN</td>\n",
       "      <td>NaN</td>\n",
       "      <td>19788</td>\n",
       "      <td>None</td>\n",
       "      <td>2020-01-21</td>\n",
       "      <td>0</td>\n",
       "    </tr>\n",
       "    <tr>\n",
       "      <th>4</th>\n",
       "      <td>4003</td>\n",
       "      <td>1000840</td>\n",
       "      <td>2020-01-20 14:35:23</td>\n",
       "      <td>SMART_BID_CONSERVATIVE</td>\n",
       "      <td>0</td>\n",
       "      <td>8000.0</td>\n",
       "      <td>UNION</td>\n",
       "      <td>0.0</td>\n",
       "      <td>[INVENTORY_UNION_SLOT]</td>\n",
       "      <td>AD</td>\n",
       "      <td>FLOW_CONTROL_MODE_FAST</td>\n",
       "      <td>1180.24</td>\n",
       "      <td>0</td>\n",
       "      <td>GENDER_MALE</td>\n",
       "      <td>NaN</td>\n",
       "      <td>1</td>\n",
       "      <td>NaN</td>\n",
       "      <td>NaN</td>\n",
       "      <td>NaN</td>\n",
       "      <td>NaN</td>\n",
       "      <td>NaN</td>\n",
       "      <td>CURRENT</td>\n",
       "      <td>NaN</td>\n",
       "      <td>NaN</td>\n",
       "      <td>NaN</td>\n",
       "      <td>UNLIMITED</td>\n",
       "      <td>[AGE_BETWEEN_24_30, AGE_BETWEEN_31_40, AGE_BET...</td>\n",
       "      <td>NaN</td>\n",
       "      <td>NaN</td>\n",
       "      <td>NaN</td>\n",
       "      <td>NaN</td>\n",
       "      <td>19791</td>\n",
       "      <td>NaN</td>\n",
       "      <td>2020-01-20</td>\n",
       "      <td>0</td>\n",
       "    </tr>\n",
       "  </tbody>\n",
       "</table>\n",
       "</div>"
      ],
      "text/plain": [
       "   ad_account_id  game_id         create_time          smart_bid_type  \\\n",
       "0           4003  1000840 2020-01-19 16:18:31  SMART_BID_CONSERVATIVE   \n",
       "1           4003  1000840 2020-01-19 16:18:31  SMART_BID_CONSERVATIVE   \n",
       "2           4003  1000840 2020-01-19 16:18:31  SMART_BID_CONSERVATIVE   \n",
       "3           4003  1000840 2020-01-19 16:18:31  SMART_BID_CONSERVATIVE   \n",
       "4           4003  1000840 2020-01-20 14:35:23  SMART_BID_CONSERVATIVE   \n",
       "\n",
       "   hide_if_exists  budget delivery_range  adjust_cpa          inventory_type  \\\n",
       "0               0  5000.0          UNION         0.0  [INVENTORY_UNION_SLOT]   \n",
       "1               0  5000.0          UNION         0.0  [INVENTORY_UNION_SLOT]   \n",
       "2               0  5000.0          UNION         0.0  [INVENTORY_UNION_SLOT]   \n",
       "3               0  5000.0          UNION         0.0  [INVENTORY_UNION_SLOT]   \n",
       "4               0  8000.0          UNION         0.0  [INVENTORY_UNION_SLOT]   \n",
       "\n",
       "  hide_if_converted       flow_control_mode  cpa_bid  auto_extend_enabled  \\\n",
       "0                AD  FLOW_CONTROL_MODE_FAST  1135.73                    0   \n",
       "1                AD  FLOW_CONTROL_MODE_FAST  1135.73                    0   \n",
       "2                AD  FLOW_CONTROL_MODE_FAST  1135.73                    0   \n",
       "3                AD  FLOW_CONTROL_MODE_FAST  1135.73                    0   \n",
       "4                AD  FLOW_CONTROL_MODE_FAST  1180.24                    0   \n",
       "\n",
       "        gender city  platform launch_price retargeting_tags_exclude  \\\n",
       "0  GENDER_MALE  NaN         1          NaN                      NaN   \n",
       "1  GENDER_MALE  NaN         1          NaN                      NaN   \n",
       "2  GENDER_MALE  NaN         1          NaN                      NaN   \n",
       "3  GENDER_MALE  NaN         1          NaN                      NaN   \n",
       "4  GENDER_MALE  NaN         1          NaN                      NaN   \n",
       "\n",
       "  interest_categories   ac android_osv location_type retargeting_tags_include  \\\n",
       "0                 NaN  NaN         NaN       CURRENT                      NaN   \n",
       "1                 NaN  NaN         NaN       CURRENT                      NaN   \n",
       "2                 NaN  NaN         NaN       CURRENT                      NaN   \n",
       "3                 NaN  NaN         NaN       CURRENT                      NaN   \n",
       "4                 NaN  NaN         NaN       CURRENT                      NaN   \n",
       "\n",
       "  retargeting_type ios_osv interest_action_mode  \\\n",
       "0              NaN     NaN            UNLIMITED   \n",
       "1              NaN     NaN            UNLIMITED   \n",
       "2              NaN     NaN            UNLIMITED   \n",
       "3              NaN     NaN            UNLIMITED   \n",
       "4              NaN     NaN            UNLIMITED   \n",
       "\n",
       "                                                 age action_categories  \\\n",
       "0  [AGE_BETWEEN_24_30, AGE_BETWEEN_31_40, AGE_BET...               NaN   \n",
       "1  [AGE_BETWEEN_24_30, AGE_BETWEEN_31_40, AGE_BET...               NaN   \n",
       "2  [AGE_BETWEEN_24_30, AGE_BETWEEN_31_40, AGE_BET...               NaN   \n",
       "3  [AGE_BETWEEN_24_30, AGE_BETWEEN_31_40, AGE_BET...               NaN   \n",
       "4  [AGE_BETWEEN_24_30, AGE_BETWEEN_31_40, AGE_BET...               NaN   \n",
       "\n",
       "   action_days action_scene deep_bid_type  image_id label_ids create_date  \\\n",
       "0          NaN          NaN           NaN     19788       NaN  2020-01-21   \n",
       "1          NaN          NaN           NaN     19788       NaN  2020-01-21   \n",
       "2          NaN          NaN           NaN     19788      None  2020-01-21   \n",
       "3          NaN          NaN           NaN     19788      None  2020-01-21   \n",
       "4          NaN          NaN           NaN     19791       NaN  2020-01-20   \n",
       "\n",
       "   label  \n",
       "0      0  \n",
       "1      0  \n",
       "2      0  \n",
       "3      0  \n",
       "4      0  "
      ]
     },
     "execution_count": 27,
     "metadata": {},
     "output_type": "execute_result"
    }
   ],
   "source": [
    "df.head()"
   ]
  },
  {
   "cell_type": "markdown",
   "id": "96c43765",
   "metadata": {},
   "source": [
    "## 特征工程\n",
    "* 连续值标准化;\n",
    "* 离散值2种方式;"
   ]
  },
  {
   "cell_type": "markdown",
   "id": "579a3ba9",
   "metadata": {
    "ExecuteTime": {
     "end_time": "2021-06-04T08:41:24.156824Z",
     "start_time": "2021-06-04T08:41:24.153769Z"
    }
   },
   "source": [
    "### 离散值\n",
    "* Embedding编码：list定向组合的特征"
   ]
  },
  {
   "cell_type": "code",
   "execution_count": 28,
   "id": "82bcf4a0",
   "metadata": {
    "ExecuteTime": {
     "end_time": "2021-06-10T06:19:54.112420Z",
     "start_time": "2021-06-10T06:19:54.108123Z"
    }
   },
   "outputs": [],
   "source": [
    "def get_mutil_feature(data):\n",
    "    cols = ['inventory_type', 'age', 'label_ids', 'ac']\n",
    "    for col in cols:\n",
    "        data[col] = data[col].apply(lambda x: x if x == x else np.nan)\n",
    "        data = data.join(data[col].str.join('|').str.get_dummies().add_prefix(col + '_').reset_index(drop=True))\n",
    "        data.drop(col, axis=1, inplace=True)\n",
    "    # gc.collect()\n",
    "    return data"
   ]
  },
  {
   "cell_type": "code",
   "execution_count": 29,
   "id": "f9be50f9",
   "metadata": {
    "ExecuteTime": {
     "end_time": "2021-06-10T06:19:59.990469Z",
     "start_time": "2021-06-10T06:19:54.114665Z"
    }
   },
   "outputs": [],
   "source": [
    "df = get_mutil_feature(df)"
   ]
  },
  {
   "cell_type": "markdown",
   "id": "73a7fa1c",
   "metadata": {},
   "source": [
    "* 其他全部数字编码"
   ]
  },
  {
   "cell_type": "code",
   "execution_count": 30,
   "id": "e25ee65e",
   "metadata": {
    "ExecuteTime": {
     "end_time": "2021-06-10T06:19:59.994927Z",
     "start_time": "2021-06-10T06:19:59.992022Z"
    }
   },
   "outputs": [],
   "source": [
    "cat_cols = ['ad_account_id', 'game_id', 'delivery_range', 'flow_control_mode','adjust_cpa',\n",
    "            'smart_bid_type', 'hide_if_converted', 'gender', 'location_type', 'launch_price', 'retargeting_type',\n",
    "            'android_osv', 'ios_osv', 'interest_action_mode', 'action_days', 'image_id','deep_bid_type']"
   ]
  },
  {
   "cell_type": "code",
   "execution_count": 31,
   "id": "b58e05b3",
   "metadata": {
    "ExecuteTime": {
     "end_time": "2021-06-10T06:20:04.984406Z",
     "start_time": "2021-06-10T06:19:59.997332Z"
    }
   },
   "outputs": [],
   "source": [
    "for col in cat_cols:\n",
    "    le = LabelEncoder()\n",
    "    df[col] = df[col].astype(str)\n",
    "    df[col] = le.fit_transform(df[col])\n",
    "    res = {}\n",
    "    for cl in le.classes_:\n",
    "        res.update({cl:le.transform([cl])[0]})\n",
    "    frame = pd.DataFrame.from_dict(res, orient='index', columns=['values'])\n",
    "    frame.to_csv(\"./tmp/{}.csv\".format(col))"
   ]
  },
  {
   "cell_type": "code",
   "execution_count": 32,
   "id": "90fa196f",
   "metadata": {
    "ExecuteTime": {
     "end_time": "2021-06-10T06:20:05.033427Z",
     "start_time": "2021-06-10T06:20:04.985879Z"
    }
   },
   "outputs": [],
   "source": [
    "df = df.drop(['create_time', 'create_date', 'city', 'action_categories', 'action_scene', 'interest_categories', 'retargeting_tags_include', 'retargeting_tags_exclude'], axis=1)\n",
    "# df = df[['cpa_bid', 'budget', 'image_id', 'label']]"
   ]
  },
  {
   "cell_type": "code",
   "execution_count": 33,
   "id": "0b2cf63d",
   "metadata": {
    "ExecuteTime": {
     "end_time": "2021-06-10T06:20:05.063175Z",
     "start_time": "2021-06-10T06:20:05.035047Z"
    }
   },
   "outputs": [
    {
     "data": {
      "text/html": [
       "<div>\n",
       "<style scoped>\n",
       "    .dataframe tbody tr th:only-of-type {\n",
       "        vertical-align: middle;\n",
       "    }\n",
       "\n",
       "    .dataframe tbody tr th {\n",
       "        vertical-align: top;\n",
       "    }\n",
       "\n",
       "    .dataframe thead th {\n",
       "        text-align: right;\n",
       "    }\n",
       "</style>\n",
       "<table border=\"1\" class=\"dataframe\">\n",
       "  <thead>\n",
       "    <tr style=\"text-align: right;\">\n",
       "      <th></th>\n",
       "      <th>ad_account_id</th>\n",
       "      <th>game_id</th>\n",
       "      <th>smart_bid_type</th>\n",
       "      <th>hide_if_exists</th>\n",
       "      <th>budget</th>\n",
       "      <th>delivery_range</th>\n",
       "      <th>adjust_cpa</th>\n",
       "      <th>hide_if_converted</th>\n",
       "      <th>flow_control_mode</th>\n",
       "      <th>cpa_bid</th>\n",
       "      <th>auto_extend_enabled</th>\n",
       "      <th>gender</th>\n",
       "      <th>platform</th>\n",
       "      <th>launch_price</th>\n",
       "      <th>android_osv</th>\n",
       "      <th>location_type</th>\n",
       "      <th>retargeting_type</th>\n",
       "      <th>ios_osv</th>\n",
       "      <th>interest_action_mode</th>\n",
       "      <th>action_days</th>\n",
       "      <th>deep_bid_type</th>\n",
       "      <th>image_id</th>\n",
       "      <th>label</th>\n",
       "      <th>inventory_type_INVENTORY_AWEME_FEED</th>\n",
       "      <th>inventory_type_INVENTORY_AWEME_SEARCH</th>\n",
       "      <th>inventory_type_INVENTORY_FEED</th>\n",
       "      <th>inventory_type_INVENTORY_HOTSOON_FEED</th>\n",
       "      <th>inventory_type_INVENTORY_SEARCH</th>\n",
       "      <th>inventory_type_INVENTORY_TOMATO_NOVEL</th>\n",
       "      <th>inventory_type_INVENTORY_UNION_SLOT</th>\n",
       "      <th>inventory_type_INVENTORY_UNION_SPLASH_SLOT</th>\n",
       "      <th>inventory_type_INVENTORY_VIDEO_FEED</th>\n",
       "      <th>inventory_type_UNION_BOUTIQUE_GAME</th>\n",
       "      <th>age_AGE_ABOVE_50</th>\n",
       "      <th>age_AGE_BETWEEN_18_23</th>\n",
       "      <th>age_AGE_BETWEEN_24_30</th>\n",
       "      <th>age_AGE_BETWEEN_31_40</th>\n",
       "      <th>age_AGE_BETWEEN_41_49</th>\n",
       "      <th>label_ids_,</th>\n",
       "      <th>label_ids_-</th>\n",
       "      <th>label_ids_0</th>\n",
       "      <th>label_ids_1</th>\n",
       "      <th>label_ids_2</th>\n",
       "      <th>label_ids_3</th>\n",
       "      <th>label_ids_4</th>\n",
       "      <th>label_ids_5</th>\n",
       "      <th>label_ids_6</th>\n",
       "      <th>label_ids_7</th>\n",
       "      <th>label_ids_8</th>\n",
       "      <th>label_ids_9</th>\n",
       "      <th>ac_2G</th>\n",
       "      <th>ac_3G</th>\n",
       "      <th>ac_4G</th>\n",
       "      <th>ac_WIFI</th>\n",
       "    </tr>\n",
       "  </thead>\n",
       "  <tbody>\n",
       "    <tr>\n",
       "      <th>0</th>\n",
       "      <td>2</td>\n",
       "      <td>0</td>\n",
       "      <td>0</td>\n",
       "      <td>0</td>\n",
       "      <td>5000.0</td>\n",
       "      <td>1</td>\n",
       "      <td>0</td>\n",
       "      <td>0</td>\n",
       "      <td>1</td>\n",
       "      <td>1135.73</td>\n",
       "      <td>0</td>\n",
       "      <td>1</td>\n",
       "      <td>1</td>\n",
       "      <td>12</td>\n",
       "      <td>9</td>\n",
       "      <td>1</td>\n",
       "      <td>2</td>\n",
       "      <td>12</td>\n",
       "      <td>2</td>\n",
       "      <td>7</td>\n",
       "      <td>8</td>\n",
       "      <td>115</td>\n",
       "      <td>0</td>\n",
       "      <td>0</td>\n",
       "      <td>0</td>\n",
       "      <td>0</td>\n",
       "      <td>0</td>\n",
       "      <td>0</td>\n",
       "      <td>0</td>\n",
       "      <td>1</td>\n",
       "      <td>0</td>\n",
       "      <td>0</td>\n",
       "      <td>0</td>\n",
       "      <td>1</td>\n",
       "      <td>0</td>\n",
       "      <td>1</td>\n",
       "      <td>1</td>\n",
       "      <td>1</td>\n",
       "      <td>0</td>\n",
       "      <td>0</td>\n",
       "      <td>0</td>\n",
       "      <td>0</td>\n",
       "      <td>0</td>\n",
       "      <td>0</td>\n",
       "      <td>0</td>\n",
       "      <td>0</td>\n",
       "      <td>0</td>\n",
       "      <td>0</td>\n",
       "      <td>0</td>\n",
       "      <td>0</td>\n",
       "      <td>0</td>\n",
       "      <td>0</td>\n",
       "      <td>0</td>\n",
       "      <td>0</td>\n",
       "    </tr>\n",
       "    <tr>\n",
       "      <th>1</th>\n",
       "      <td>2</td>\n",
       "      <td>0</td>\n",
       "      <td>0</td>\n",
       "      <td>0</td>\n",
       "      <td>5000.0</td>\n",
       "      <td>1</td>\n",
       "      <td>0</td>\n",
       "      <td>0</td>\n",
       "      <td>1</td>\n",
       "      <td>1135.73</td>\n",
       "      <td>0</td>\n",
       "      <td>1</td>\n",
       "      <td>1</td>\n",
       "      <td>12</td>\n",
       "      <td>9</td>\n",
       "      <td>1</td>\n",
       "      <td>2</td>\n",
       "      <td>12</td>\n",
       "      <td>2</td>\n",
       "      <td>7</td>\n",
       "      <td>8</td>\n",
       "      <td>115</td>\n",
       "      <td>0</td>\n",
       "      <td>0</td>\n",
       "      <td>0</td>\n",
       "      <td>0</td>\n",
       "      <td>0</td>\n",
       "      <td>0</td>\n",
       "      <td>0</td>\n",
       "      <td>1</td>\n",
       "      <td>0</td>\n",
       "      <td>0</td>\n",
       "      <td>0</td>\n",
       "      <td>1</td>\n",
       "      <td>0</td>\n",
       "      <td>1</td>\n",
       "      <td>1</td>\n",
       "      <td>1</td>\n",
       "      <td>0</td>\n",
       "      <td>0</td>\n",
       "      <td>0</td>\n",
       "      <td>0</td>\n",
       "      <td>0</td>\n",
       "      <td>0</td>\n",
       "      <td>0</td>\n",
       "      <td>0</td>\n",
       "      <td>0</td>\n",
       "      <td>0</td>\n",
       "      <td>0</td>\n",
       "      <td>0</td>\n",
       "      <td>0</td>\n",
       "      <td>0</td>\n",
       "      <td>0</td>\n",
       "      <td>0</td>\n",
       "    </tr>\n",
       "    <tr>\n",
       "      <th>2</th>\n",
       "      <td>2</td>\n",
       "      <td>0</td>\n",
       "      <td>0</td>\n",
       "      <td>0</td>\n",
       "      <td>5000.0</td>\n",
       "      <td>1</td>\n",
       "      <td>0</td>\n",
       "      <td>0</td>\n",
       "      <td>1</td>\n",
       "      <td>1135.73</td>\n",
       "      <td>0</td>\n",
       "      <td>1</td>\n",
       "      <td>1</td>\n",
       "      <td>12</td>\n",
       "      <td>9</td>\n",
       "      <td>1</td>\n",
       "      <td>2</td>\n",
       "      <td>12</td>\n",
       "      <td>2</td>\n",
       "      <td>7</td>\n",
       "      <td>8</td>\n",
       "      <td>115</td>\n",
       "      <td>0</td>\n",
       "      <td>0</td>\n",
       "      <td>0</td>\n",
       "      <td>0</td>\n",
       "      <td>0</td>\n",
       "      <td>0</td>\n",
       "      <td>0</td>\n",
       "      <td>1</td>\n",
       "      <td>0</td>\n",
       "      <td>0</td>\n",
       "      <td>0</td>\n",
       "      <td>1</td>\n",
       "      <td>0</td>\n",
       "      <td>1</td>\n",
       "      <td>1</td>\n",
       "      <td>1</td>\n",
       "      <td>0</td>\n",
       "      <td>0</td>\n",
       "      <td>0</td>\n",
       "      <td>0</td>\n",
       "      <td>0</td>\n",
       "      <td>0</td>\n",
       "      <td>0</td>\n",
       "      <td>0</td>\n",
       "      <td>0</td>\n",
       "      <td>0</td>\n",
       "      <td>0</td>\n",
       "      <td>0</td>\n",
       "      <td>0</td>\n",
       "      <td>0</td>\n",
       "      <td>0</td>\n",
       "      <td>0</td>\n",
       "    </tr>\n",
       "    <tr>\n",
       "      <th>3</th>\n",
       "      <td>2</td>\n",
       "      <td>0</td>\n",
       "      <td>0</td>\n",
       "      <td>0</td>\n",
       "      <td>5000.0</td>\n",
       "      <td>1</td>\n",
       "      <td>0</td>\n",
       "      <td>0</td>\n",
       "      <td>1</td>\n",
       "      <td>1135.73</td>\n",
       "      <td>0</td>\n",
       "      <td>1</td>\n",
       "      <td>1</td>\n",
       "      <td>12</td>\n",
       "      <td>9</td>\n",
       "      <td>1</td>\n",
       "      <td>2</td>\n",
       "      <td>12</td>\n",
       "      <td>2</td>\n",
       "      <td>7</td>\n",
       "      <td>8</td>\n",
       "      <td>115</td>\n",
       "      <td>0</td>\n",
       "      <td>0</td>\n",
       "      <td>0</td>\n",
       "      <td>0</td>\n",
       "      <td>0</td>\n",
       "      <td>0</td>\n",
       "      <td>0</td>\n",
       "      <td>1</td>\n",
       "      <td>0</td>\n",
       "      <td>0</td>\n",
       "      <td>0</td>\n",
       "      <td>1</td>\n",
       "      <td>0</td>\n",
       "      <td>1</td>\n",
       "      <td>1</td>\n",
       "      <td>1</td>\n",
       "      <td>0</td>\n",
       "      <td>0</td>\n",
       "      <td>0</td>\n",
       "      <td>0</td>\n",
       "      <td>0</td>\n",
       "      <td>0</td>\n",
       "      <td>0</td>\n",
       "      <td>0</td>\n",
       "      <td>0</td>\n",
       "      <td>0</td>\n",
       "      <td>0</td>\n",
       "      <td>0</td>\n",
       "      <td>0</td>\n",
       "      <td>0</td>\n",
       "      <td>0</td>\n",
       "      <td>0</td>\n",
       "    </tr>\n",
       "    <tr>\n",
       "      <th>4</th>\n",
       "      <td>2</td>\n",
       "      <td>0</td>\n",
       "      <td>0</td>\n",
       "      <td>0</td>\n",
       "      <td>8000.0</td>\n",
       "      <td>1</td>\n",
       "      <td>0</td>\n",
       "      <td>0</td>\n",
       "      <td>1</td>\n",
       "      <td>1180.24</td>\n",
       "      <td>0</td>\n",
       "      <td>1</td>\n",
       "      <td>1</td>\n",
       "      <td>12</td>\n",
       "      <td>9</td>\n",
       "      <td>1</td>\n",
       "      <td>2</td>\n",
       "      <td>12</td>\n",
       "      <td>2</td>\n",
       "      <td>7</td>\n",
       "      <td>8</td>\n",
       "      <td>117</td>\n",
       "      <td>0</td>\n",
       "      <td>0</td>\n",
       "      <td>0</td>\n",
       "      <td>0</td>\n",
       "      <td>0</td>\n",
       "      <td>0</td>\n",
       "      <td>0</td>\n",
       "      <td>1</td>\n",
       "      <td>0</td>\n",
       "      <td>0</td>\n",
       "      <td>0</td>\n",
       "      <td>1</td>\n",
       "      <td>0</td>\n",
       "      <td>1</td>\n",
       "      <td>1</td>\n",
       "      <td>1</td>\n",
       "      <td>0</td>\n",
       "      <td>0</td>\n",
       "      <td>0</td>\n",
       "      <td>0</td>\n",
       "      <td>0</td>\n",
       "      <td>0</td>\n",
       "      <td>0</td>\n",
       "      <td>0</td>\n",
       "      <td>0</td>\n",
       "      <td>0</td>\n",
       "      <td>0</td>\n",
       "      <td>0</td>\n",
       "      <td>0</td>\n",
       "      <td>0</td>\n",
       "      <td>0</td>\n",
       "      <td>0</td>\n",
       "    </tr>\n",
       "  </tbody>\n",
       "</table>\n",
       "</div>"
      ],
      "text/plain": [
       "   ad_account_id  game_id  smart_bid_type  hide_if_exists  budget  \\\n",
       "0              2        0               0               0  5000.0   \n",
       "1              2        0               0               0  5000.0   \n",
       "2              2        0               0               0  5000.0   \n",
       "3              2        0               0               0  5000.0   \n",
       "4              2        0               0               0  8000.0   \n",
       "\n",
       "   delivery_range  adjust_cpa  hide_if_converted  flow_control_mode  cpa_bid  \\\n",
       "0               1           0                  0                  1  1135.73   \n",
       "1               1           0                  0                  1  1135.73   \n",
       "2               1           0                  0                  1  1135.73   \n",
       "3               1           0                  0                  1  1135.73   \n",
       "4               1           0                  0                  1  1180.24   \n",
       "\n",
       "   auto_extend_enabled  gender  platform  launch_price  android_osv  \\\n",
       "0                    0       1         1            12            9   \n",
       "1                    0       1         1            12            9   \n",
       "2                    0       1         1            12            9   \n",
       "3                    0       1         1            12            9   \n",
       "4                    0       1         1            12            9   \n",
       "\n",
       "   location_type  retargeting_type  ios_osv  interest_action_mode  \\\n",
       "0              1                 2       12                     2   \n",
       "1              1                 2       12                     2   \n",
       "2              1                 2       12                     2   \n",
       "3              1                 2       12                     2   \n",
       "4              1                 2       12                     2   \n",
       "\n",
       "   action_days  deep_bid_type  image_id  label  \\\n",
       "0            7              8       115      0   \n",
       "1            7              8       115      0   \n",
       "2            7              8       115      0   \n",
       "3            7              8       115      0   \n",
       "4            7              8       117      0   \n",
       "\n",
       "   inventory_type_INVENTORY_AWEME_FEED  inventory_type_INVENTORY_AWEME_SEARCH  \\\n",
       "0                                    0                                      0   \n",
       "1                                    0                                      0   \n",
       "2                                    0                                      0   \n",
       "3                                    0                                      0   \n",
       "4                                    0                                      0   \n",
       "\n",
       "   inventory_type_INVENTORY_FEED  inventory_type_INVENTORY_HOTSOON_FEED  \\\n",
       "0                              0                                      0   \n",
       "1                              0                                      0   \n",
       "2                              0                                      0   \n",
       "3                              0                                      0   \n",
       "4                              0                                      0   \n",
       "\n",
       "   inventory_type_INVENTORY_SEARCH  inventory_type_INVENTORY_TOMATO_NOVEL  \\\n",
       "0                                0                                      0   \n",
       "1                                0                                      0   \n",
       "2                                0                                      0   \n",
       "3                                0                                      0   \n",
       "4                                0                                      0   \n",
       "\n",
       "   inventory_type_INVENTORY_UNION_SLOT  \\\n",
       "0                                    1   \n",
       "1                                    1   \n",
       "2                                    1   \n",
       "3                                    1   \n",
       "4                                    1   \n",
       "\n",
       "   inventory_type_INVENTORY_UNION_SPLASH_SLOT  \\\n",
       "0                                           0   \n",
       "1                                           0   \n",
       "2                                           0   \n",
       "3                                           0   \n",
       "4                                           0   \n",
       "\n",
       "   inventory_type_INVENTORY_VIDEO_FEED  inventory_type_UNION_BOUTIQUE_GAME  \\\n",
       "0                                    0                                   0   \n",
       "1                                    0                                   0   \n",
       "2                                    0                                   0   \n",
       "3                                    0                                   0   \n",
       "4                                    0                                   0   \n",
       "\n",
       "   age_AGE_ABOVE_50  age_AGE_BETWEEN_18_23  age_AGE_BETWEEN_24_30  \\\n",
       "0                 1                      0                      1   \n",
       "1                 1                      0                      1   \n",
       "2                 1                      0                      1   \n",
       "3                 1                      0                      1   \n",
       "4                 1                      0                      1   \n",
       "\n",
       "   age_AGE_BETWEEN_31_40  age_AGE_BETWEEN_41_49  label_ids_,  label_ids_-  \\\n",
       "0                      1                      1            0            0   \n",
       "1                      1                      1            0            0   \n",
       "2                      1                      1            0            0   \n",
       "3                      1                      1            0            0   \n",
       "4                      1                      1            0            0   \n",
       "\n",
       "   label_ids_0  label_ids_1  label_ids_2  label_ids_3  label_ids_4  \\\n",
       "0            0            0            0            0            0   \n",
       "1            0            0            0            0            0   \n",
       "2            0            0            0            0            0   \n",
       "3            0            0            0            0            0   \n",
       "4            0            0            0            0            0   \n",
       "\n",
       "   label_ids_5  label_ids_6  label_ids_7  label_ids_8  label_ids_9  ac_2G  \\\n",
       "0            0            0            0            0            0      0   \n",
       "1            0            0            0            0            0      0   \n",
       "2            0            0            0            0            0      0   \n",
       "3            0            0            0            0            0      0   \n",
       "4            0            0            0            0            0      0   \n",
       "\n",
       "   ac_3G  ac_4G  ac_WIFI  \n",
       "0      0      0        0  \n",
       "1      0      0        0  \n",
       "2      0      0        0  \n",
       "3      0      0        0  \n",
       "4      0      0        0  "
      ]
     },
     "execution_count": 33,
     "metadata": {},
     "output_type": "execute_result"
    }
   ],
   "source": [
    "df.reset_index(drop=True, inplace=True)\n",
    "df.head()"
   ]
  },
  {
   "cell_type": "code",
   "execution_count": 34,
   "id": "d9c0b69f",
   "metadata": {
    "ExecuteTime": {
     "end_time": "2021-06-10T06:20:05.068210Z",
     "start_time": "2021-06-10T06:20:05.065217Z"
    }
   },
   "outputs": [],
   "source": [
    "# df['budget'].isnull().any()"
   ]
  },
  {
   "cell_type": "markdown",
   "id": "5ded4435",
   "metadata": {},
   "source": [
    "### 去重"
   ]
  },
  {
   "cell_type": "code",
   "execution_count": 35,
   "id": "f327f29d",
   "metadata": {
    "ExecuteTime": {
     "end_time": "2021-06-10T06:20:05.198645Z",
     "start_time": "2021-06-10T06:20:05.070300Z"
    }
   },
   "outputs": [
    {
     "data": {
      "text/html": [
       "<div>\n",
       "<style scoped>\n",
       "    .dataframe tbody tr th:only-of-type {\n",
       "        vertical-align: middle;\n",
       "    }\n",
       "\n",
       "    .dataframe tbody tr th {\n",
       "        vertical-align: top;\n",
       "    }\n",
       "\n",
       "    .dataframe thead th {\n",
       "        text-align: right;\n",
       "    }\n",
       "</style>\n",
       "<table border=\"1\" class=\"dataframe\">\n",
       "  <thead>\n",
       "    <tr style=\"text-align: right;\">\n",
       "      <th></th>\n",
       "      <th>ad_account_id</th>\n",
       "      <th>game_id</th>\n",
       "      <th>smart_bid_type</th>\n",
       "      <th>hide_if_exists</th>\n",
       "      <th>budget</th>\n",
       "      <th>delivery_range</th>\n",
       "      <th>adjust_cpa</th>\n",
       "      <th>hide_if_converted</th>\n",
       "      <th>flow_control_mode</th>\n",
       "      <th>cpa_bid</th>\n",
       "      <th>auto_extend_enabled</th>\n",
       "      <th>gender</th>\n",
       "      <th>platform</th>\n",
       "      <th>launch_price</th>\n",
       "      <th>android_osv</th>\n",
       "      <th>location_type</th>\n",
       "      <th>retargeting_type</th>\n",
       "      <th>ios_osv</th>\n",
       "      <th>interest_action_mode</th>\n",
       "      <th>action_days</th>\n",
       "      <th>deep_bid_type</th>\n",
       "      <th>image_id</th>\n",
       "      <th>label</th>\n",
       "      <th>inventory_type_INVENTORY_AWEME_FEED</th>\n",
       "      <th>inventory_type_INVENTORY_AWEME_SEARCH</th>\n",
       "      <th>inventory_type_INVENTORY_FEED</th>\n",
       "      <th>inventory_type_INVENTORY_HOTSOON_FEED</th>\n",
       "      <th>inventory_type_INVENTORY_SEARCH</th>\n",
       "      <th>inventory_type_INVENTORY_TOMATO_NOVEL</th>\n",
       "      <th>inventory_type_INVENTORY_UNION_SLOT</th>\n",
       "      <th>inventory_type_INVENTORY_UNION_SPLASH_SLOT</th>\n",
       "      <th>inventory_type_INVENTORY_VIDEO_FEED</th>\n",
       "      <th>inventory_type_UNION_BOUTIQUE_GAME</th>\n",
       "      <th>age_AGE_ABOVE_50</th>\n",
       "      <th>age_AGE_BETWEEN_18_23</th>\n",
       "      <th>age_AGE_BETWEEN_24_30</th>\n",
       "      <th>age_AGE_BETWEEN_31_40</th>\n",
       "      <th>age_AGE_BETWEEN_41_49</th>\n",
       "      <th>label_ids_,</th>\n",
       "      <th>label_ids_-</th>\n",
       "      <th>label_ids_0</th>\n",
       "      <th>label_ids_1</th>\n",
       "      <th>label_ids_2</th>\n",
       "      <th>label_ids_3</th>\n",
       "      <th>label_ids_4</th>\n",
       "      <th>label_ids_5</th>\n",
       "      <th>label_ids_6</th>\n",
       "      <th>label_ids_7</th>\n",
       "      <th>label_ids_8</th>\n",
       "      <th>label_ids_9</th>\n",
       "      <th>ac_2G</th>\n",
       "      <th>ac_3G</th>\n",
       "      <th>ac_4G</th>\n",
       "      <th>ac_WIFI</th>\n",
       "    </tr>\n",
       "  </thead>\n",
       "  <tbody>\n",
       "    <tr>\n",
       "      <th>0</th>\n",
       "      <td>2</td>\n",
       "      <td>0</td>\n",
       "      <td>0</td>\n",
       "      <td>0</td>\n",
       "      <td>5000.0</td>\n",
       "      <td>1</td>\n",
       "      <td>0</td>\n",
       "      <td>0</td>\n",
       "      <td>1</td>\n",
       "      <td>1135.73</td>\n",
       "      <td>0</td>\n",
       "      <td>1</td>\n",
       "      <td>1</td>\n",
       "      <td>12</td>\n",
       "      <td>9</td>\n",
       "      <td>1</td>\n",
       "      <td>2</td>\n",
       "      <td>12</td>\n",
       "      <td>2</td>\n",
       "      <td>7</td>\n",
       "      <td>8</td>\n",
       "      <td>115</td>\n",
       "      <td>0</td>\n",
       "      <td>0</td>\n",
       "      <td>0</td>\n",
       "      <td>0</td>\n",
       "      <td>0</td>\n",
       "      <td>0</td>\n",
       "      <td>0</td>\n",
       "      <td>1</td>\n",
       "      <td>0</td>\n",
       "      <td>0</td>\n",
       "      <td>0</td>\n",
       "      <td>1</td>\n",
       "      <td>0</td>\n",
       "      <td>1</td>\n",
       "      <td>1</td>\n",
       "      <td>1</td>\n",
       "      <td>0</td>\n",
       "      <td>0</td>\n",
       "      <td>0</td>\n",
       "      <td>0</td>\n",
       "      <td>0</td>\n",
       "      <td>0</td>\n",
       "      <td>0</td>\n",
       "      <td>0</td>\n",
       "      <td>0</td>\n",
       "      <td>0</td>\n",
       "      <td>0</td>\n",
       "      <td>0</td>\n",
       "      <td>0</td>\n",
       "      <td>0</td>\n",
       "      <td>0</td>\n",
       "      <td>0</td>\n",
       "    </tr>\n",
       "    <tr>\n",
       "      <th>1</th>\n",
       "      <td>2</td>\n",
       "      <td>0</td>\n",
       "      <td>0</td>\n",
       "      <td>0</td>\n",
       "      <td>8000.0</td>\n",
       "      <td>1</td>\n",
       "      <td>0</td>\n",
       "      <td>0</td>\n",
       "      <td>1</td>\n",
       "      <td>1180.24</td>\n",
       "      <td>0</td>\n",
       "      <td>1</td>\n",
       "      <td>1</td>\n",
       "      <td>12</td>\n",
       "      <td>9</td>\n",
       "      <td>1</td>\n",
       "      <td>2</td>\n",
       "      <td>12</td>\n",
       "      <td>2</td>\n",
       "      <td>7</td>\n",
       "      <td>8</td>\n",
       "      <td>117</td>\n",
       "      <td>0</td>\n",
       "      <td>0</td>\n",
       "      <td>0</td>\n",
       "      <td>0</td>\n",
       "      <td>0</td>\n",
       "      <td>0</td>\n",
       "      <td>0</td>\n",
       "      <td>1</td>\n",
       "      <td>0</td>\n",
       "      <td>0</td>\n",
       "      <td>0</td>\n",
       "      <td>1</td>\n",
       "      <td>0</td>\n",
       "      <td>1</td>\n",
       "      <td>1</td>\n",
       "      <td>1</td>\n",
       "      <td>0</td>\n",
       "      <td>0</td>\n",
       "      <td>0</td>\n",
       "      <td>0</td>\n",
       "      <td>0</td>\n",
       "      <td>0</td>\n",
       "      <td>0</td>\n",
       "      <td>0</td>\n",
       "      <td>0</td>\n",
       "      <td>0</td>\n",
       "      <td>0</td>\n",
       "      <td>0</td>\n",
       "      <td>0</td>\n",
       "      <td>0</td>\n",
       "      <td>0</td>\n",
       "      <td>0</td>\n",
       "    </tr>\n",
       "    <tr>\n",
       "      <th>2</th>\n",
       "      <td>2</td>\n",
       "      <td>0</td>\n",
       "      <td>0</td>\n",
       "      <td>0</td>\n",
       "      <td>10000.0</td>\n",
       "      <td>0</td>\n",
       "      <td>0</td>\n",
       "      <td>0</td>\n",
       "      <td>1</td>\n",
       "      <td>1377.89</td>\n",
       "      <td>0</td>\n",
       "      <td>1</td>\n",
       "      <td>1</td>\n",
       "      <td>12</td>\n",
       "      <td>9</td>\n",
       "      <td>1</td>\n",
       "      <td>2</td>\n",
       "      <td>12</td>\n",
       "      <td>2</td>\n",
       "      <td>7</td>\n",
       "      <td>8</td>\n",
       "      <td>92</td>\n",
       "      <td>1</td>\n",
       "      <td>1</td>\n",
       "      <td>0</td>\n",
       "      <td>1</td>\n",
       "      <td>1</td>\n",
       "      <td>0</td>\n",
       "      <td>0</td>\n",
       "      <td>0</td>\n",
       "      <td>0</td>\n",
       "      <td>1</td>\n",
       "      <td>0</td>\n",
       "      <td>0</td>\n",
       "      <td>0</td>\n",
       "      <td>1</td>\n",
       "      <td>1</td>\n",
       "      <td>1</td>\n",
       "      <td>0</td>\n",
       "      <td>0</td>\n",
       "      <td>0</td>\n",
       "      <td>1</td>\n",
       "      <td>0</td>\n",
       "      <td>0</td>\n",
       "      <td>0</td>\n",
       "      <td>0</td>\n",
       "      <td>0</td>\n",
       "      <td>0</td>\n",
       "      <td>0</td>\n",
       "      <td>1</td>\n",
       "      <td>0</td>\n",
       "      <td>0</td>\n",
       "      <td>0</td>\n",
       "      <td>0</td>\n",
       "    </tr>\n",
       "    <tr>\n",
       "      <th>3</th>\n",
       "      <td>2</td>\n",
       "      <td>0</td>\n",
       "      <td>0</td>\n",
       "      <td>0</td>\n",
       "      <td>10000.0</td>\n",
       "      <td>0</td>\n",
       "      <td>0</td>\n",
       "      <td>0</td>\n",
       "      <td>1</td>\n",
       "      <td>1431.96</td>\n",
       "      <td>0</td>\n",
       "      <td>1</td>\n",
       "      <td>1</td>\n",
       "      <td>12</td>\n",
       "      <td>9</td>\n",
       "      <td>1</td>\n",
       "      <td>2</td>\n",
       "      <td>12</td>\n",
       "      <td>2</td>\n",
       "      <td>7</td>\n",
       "      <td>8</td>\n",
       "      <td>130</td>\n",
       "      <td>0</td>\n",
       "      <td>1</td>\n",
       "      <td>0</td>\n",
       "      <td>1</td>\n",
       "      <td>1</td>\n",
       "      <td>0</td>\n",
       "      <td>0</td>\n",
       "      <td>0</td>\n",
       "      <td>0</td>\n",
       "      <td>1</td>\n",
       "      <td>0</td>\n",
       "      <td>0</td>\n",
       "      <td>0</td>\n",
       "      <td>1</td>\n",
       "      <td>1</td>\n",
       "      <td>1</td>\n",
       "      <td>0</td>\n",
       "      <td>0</td>\n",
       "      <td>0</td>\n",
       "      <td>0</td>\n",
       "      <td>0</td>\n",
       "      <td>0</td>\n",
       "      <td>0</td>\n",
       "      <td>0</td>\n",
       "      <td>0</td>\n",
       "      <td>0</td>\n",
       "      <td>0</td>\n",
       "      <td>0</td>\n",
       "      <td>0</td>\n",
       "      <td>0</td>\n",
       "      <td>0</td>\n",
       "      <td>0</td>\n",
       "    </tr>\n",
       "    <tr>\n",
       "      <th>4</th>\n",
       "      <td>2</td>\n",
       "      <td>0</td>\n",
       "      <td>0</td>\n",
       "      <td>0</td>\n",
       "      <td>10000.0</td>\n",
       "      <td>0</td>\n",
       "      <td>0</td>\n",
       "      <td>0</td>\n",
       "      <td>1</td>\n",
       "      <td>1484.64</td>\n",
       "      <td>0</td>\n",
       "      <td>1</td>\n",
       "      <td>1</td>\n",
       "      <td>12</td>\n",
       "      <td>9</td>\n",
       "      <td>1</td>\n",
       "      <td>2</td>\n",
       "      <td>12</td>\n",
       "      <td>2</td>\n",
       "      <td>7</td>\n",
       "      <td>8</td>\n",
       "      <td>92</td>\n",
       "      <td>1</td>\n",
       "      <td>1</td>\n",
       "      <td>0</td>\n",
       "      <td>1</td>\n",
       "      <td>1</td>\n",
       "      <td>0</td>\n",
       "      <td>0</td>\n",
       "      <td>0</td>\n",
       "      <td>0</td>\n",
       "      <td>1</td>\n",
       "      <td>0</td>\n",
       "      <td>0</td>\n",
       "      <td>0</td>\n",
       "      <td>1</td>\n",
       "      <td>1</td>\n",
       "      <td>1</td>\n",
       "      <td>0</td>\n",
       "      <td>0</td>\n",
       "      <td>0</td>\n",
       "      <td>1</td>\n",
       "      <td>0</td>\n",
       "      <td>0</td>\n",
       "      <td>0</td>\n",
       "      <td>0</td>\n",
       "      <td>0</td>\n",
       "      <td>0</td>\n",
       "      <td>0</td>\n",
       "      <td>1</td>\n",
       "      <td>0</td>\n",
       "      <td>0</td>\n",
       "      <td>0</td>\n",
       "      <td>0</td>\n",
       "    </tr>\n",
       "  </tbody>\n",
       "</table>\n",
       "</div>"
      ],
      "text/plain": [
       "   ad_account_id  game_id  smart_bid_type  hide_if_exists   budget  \\\n",
       "0              2        0               0               0   5000.0   \n",
       "1              2        0               0               0   8000.0   \n",
       "2              2        0               0               0  10000.0   \n",
       "3              2        0               0               0  10000.0   \n",
       "4              2        0               0               0  10000.0   \n",
       "\n",
       "   delivery_range  adjust_cpa  hide_if_converted  flow_control_mode  cpa_bid  \\\n",
       "0               1           0                  0                  1  1135.73   \n",
       "1               1           0                  0                  1  1180.24   \n",
       "2               0           0                  0                  1  1377.89   \n",
       "3               0           0                  0                  1  1431.96   \n",
       "4               0           0                  0                  1  1484.64   \n",
       "\n",
       "   auto_extend_enabled  gender  platform  launch_price  android_osv  \\\n",
       "0                    0       1         1            12            9   \n",
       "1                    0       1         1            12            9   \n",
       "2                    0       1         1            12            9   \n",
       "3                    0       1         1            12            9   \n",
       "4                    0       1         1            12            9   \n",
       "\n",
       "   location_type  retargeting_type  ios_osv  interest_action_mode  \\\n",
       "0              1                 2       12                     2   \n",
       "1              1                 2       12                     2   \n",
       "2              1                 2       12                     2   \n",
       "3              1                 2       12                     2   \n",
       "4              1                 2       12                     2   \n",
       "\n",
       "   action_days  deep_bid_type  image_id  label  \\\n",
       "0            7              8       115      0   \n",
       "1            7              8       117      0   \n",
       "2            7              8        92      1   \n",
       "3            7              8       130      0   \n",
       "4            7              8        92      1   \n",
       "\n",
       "   inventory_type_INVENTORY_AWEME_FEED  inventory_type_INVENTORY_AWEME_SEARCH  \\\n",
       "0                                    0                                      0   \n",
       "1                                    0                                      0   \n",
       "2                                    1                                      0   \n",
       "3                                    1                                      0   \n",
       "4                                    1                                      0   \n",
       "\n",
       "   inventory_type_INVENTORY_FEED  inventory_type_INVENTORY_HOTSOON_FEED  \\\n",
       "0                              0                                      0   \n",
       "1                              0                                      0   \n",
       "2                              1                                      1   \n",
       "3                              1                                      1   \n",
       "4                              1                                      1   \n",
       "\n",
       "   inventory_type_INVENTORY_SEARCH  inventory_type_INVENTORY_TOMATO_NOVEL  \\\n",
       "0                                0                                      0   \n",
       "1                                0                                      0   \n",
       "2                                0                                      0   \n",
       "3                                0                                      0   \n",
       "4                                0                                      0   \n",
       "\n",
       "   inventory_type_INVENTORY_UNION_SLOT  \\\n",
       "0                                    1   \n",
       "1                                    1   \n",
       "2                                    0   \n",
       "3                                    0   \n",
       "4                                    0   \n",
       "\n",
       "   inventory_type_INVENTORY_UNION_SPLASH_SLOT  \\\n",
       "0                                           0   \n",
       "1                                           0   \n",
       "2                                           0   \n",
       "3                                           0   \n",
       "4                                           0   \n",
       "\n",
       "   inventory_type_INVENTORY_VIDEO_FEED  inventory_type_UNION_BOUTIQUE_GAME  \\\n",
       "0                                    0                                   0   \n",
       "1                                    0                                   0   \n",
       "2                                    1                                   0   \n",
       "3                                    1                                   0   \n",
       "4                                    1                                   0   \n",
       "\n",
       "   age_AGE_ABOVE_50  age_AGE_BETWEEN_18_23  age_AGE_BETWEEN_24_30  \\\n",
       "0                 1                      0                      1   \n",
       "1                 1                      0                      1   \n",
       "2                 0                      0                      1   \n",
       "3                 0                      0                      1   \n",
       "4                 0                      0                      1   \n",
       "\n",
       "   age_AGE_BETWEEN_31_40  age_AGE_BETWEEN_41_49  label_ids_,  label_ids_-  \\\n",
       "0                      1                      1            0            0   \n",
       "1                      1                      1            0            0   \n",
       "2                      1                      1            0            0   \n",
       "3                      1                      1            0            0   \n",
       "4                      1                      1            0            0   \n",
       "\n",
       "   label_ids_0  label_ids_1  label_ids_2  label_ids_3  label_ids_4  \\\n",
       "0            0            0            0            0            0   \n",
       "1            0            0            0            0            0   \n",
       "2            0            1            0            0            0   \n",
       "3            0            0            0            0            0   \n",
       "4            0            1            0            0            0   \n",
       "\n",
       "   label_ids_5  label_ids_6  label_ids_7  label_ids_8  label_ids_9  ac_2G  \\\n",
       "0            0            0            0            0            0      0   \n",
       "1            0            0            0            0            0      0   \n",
       "2            0            0            0            0            1      0   \n",
       "3            0            0            0            0            0      0   \n",
       "4            0            0            0            0            1      0   \n",
       "\n",
       "   ac_3G  ac_4G  ac_WIFI  \n",
       "0      0      0        0  \n",
       "1      0      0        0  \n",
       "2      0      0        0  \n",
       "3      0      0        0  \n",
       "4      0      0        0  "
      ]
     },
     "execution_count": 35,
     "metadata": {},
     "output_type": "execute_result"
    }
   ],
   "source": [
    "df.drop_duplicates(inplace=True)  # keep=first\n",
    "df.dropna(how='all', inplace=True)\n",
    "df.reset_index(drop=True, inplace=True)\n",
    "df.head()"
   ]
  },
  {
   "cell_type": "code",
   "execution_count": 36,
   "id": "25629fed",
   "metadata": {
    "ExecuteTime": {
     "end_time": "2021-06-10T06:20:05.209365Z",
     "start_time": "2021-06-10T06:20:05.201123Z"
    }
   },
   "outputs": [
    {
     "name": "stdout",
     "output_type": "stream",
     "text": [
      "数据量： 44134\n"
     ]
    },
    {
     "data": {
      "text/plain": [
       "0    37470\n",
       "1     6664\n",
       "Name: label, dtype: int64"
      ]
     },
     "execution_count": 36,
     "metadata": {},
     "output_type": "execute_result"
    }
   ],
   "source": [
    "print(\"数据量：\", len(df))\n",
    "df['label'].value_counts()"
   ]
  },
  {
   "cell_type": "code",
   "execution_count": 37,
   "id": "c2d7dc6a",
   "metadata": {
    "ExecuteTime": {
     "end_time": "2021-06-10T06:20:05.214431Z",
     "start_time": "2021-06-10T06:20:05.211457Z"
    }
   },
   "outputs": [],
   "source": [
    "# df = pd.concat([df[df['label'] == 0].sample(len(df[df['label'] == 1])), df[df['label'] == 1]])  # 随机负采样,平衡正负样本"
   ]
  },
  {
   "cell_type": "markdown",
   "id": "846e25df",
   "metadata": {},
   "source": [
    "## 建模"
   ]
  },
  {
   "cell_type": "code",
   "execution_count": 38,
   "id": "5398d35f",
   "metadata": {
    "ExecuteTime": {
     "end_time": "2021-06-10T06:20:05.512644Z",
     "start_time": "2021-06-10T06:20:05.216377Z"
    }
   },
   "outputs": [
    {
     "name": "stderr",
     "output_type": "stream",
     "text": [
      "/root/anaconda3/lib/python3.7/site-packages/sklearn/ensemble/weight_boosting.py:29: DeprecationWarning: numpy.core.umath_tests is an internal NumPy module and should not be imported. It will be removed in a future NumPy release.\n",
      "  from numpy.core.umath_tests import inner1d\n",
      "/root/anaconda3/lib/python3.7/site-packages/sklearn/ensemble/gradient_boosting.py:34: DeprecationWarning: `np.bool` is a deprecated alias for the builtin `bool`. To silence this warning, use `bool` by itself. Doing this will not modify any behavior and is safe. If you specifically wanted the numpy scalar type, use `np.bool_` here.\n",
      "Deprecated in NumPy 1.20; for more details and guidance: https://numpy.org/devdocs/release/1.20.0-notes.html#deprecations\n",
      "  from ._gradient_boosting import predict_stages\n",
      "/root/anaconda3/lib/python3.7/site-packages/sklearn/ensemble/gradient_boosting.py:34: DeprecationWarning: `np.bool` is a deprecated alias for the builtin `bool`. To silence this warning, use `bool` by itself. Doing this will not modify any behavior and is safe. If you specifically wanted the numpy scalar type, use `np.bool_` here.\n",
      "Deprecated in NumPy 1.20; for more details and guidance: https://numpy.org/devdocs/release/1.20.0-notes.html#deprecations\n",
      "  from ._gradient_boosting import predict_stages\n"
     ]
    }
   ],
   "source": [
    "from sklearn.model_selection import train_test_split, GridSearchCV\n",
    "from sklearn.tree import DecisionTreeClassifier  # 决策树模型\n",
    "from xgboost import XGBClassifier  # XGB树模型集成\n",
    "from sklearn.ensemble import RandomForestClassifier # 随机森林\n",
    "from sklearn import tree\n",
    "import xgboost\n",
    "import pydotplus\n",
    "from collections import Counter\n",
    "from sklearn.metrics import classification_report"
   ]
  },
  {
   "cell_type": "code",
   "execution_count": 39,
   "id": "3050bd6f",
   "metadata": {
    "ExecuteTime": {
     "end_time": "2021-06-10T06:20:05.522303Z",
     "start_time": "2021-06-10T06:20:05.514287Z"
    }
   },
   "outputs": [],
   "source": [
    "X = df.drop(['label'], axis=1)\n",
    "Y = df['label']"
   ]
  },
  {
   "cell_type": "code",
   "execution_count": 40,
   "id": "8a48f797",
   "metadata": {
    "ExecuteTime": {
     "end_time": "2021-06-10T06:20:05.546853Z",
     "start_time": "2021-06-10T06:20:05.524553Z"
    }
   },
   "outputs": [
    {
     "name": "stdout",
     "output_type": "stream",
     "text": [
      "[(30893, 53), (13241, 53), (30893,), (13241,)]\n"
     ]
    }
   ],
   "source": [
    "X_train, X_test, Y_train, Y_test = train_test_split(X, Y, test_size = 0.3, random_state = 2021, shuffle=True)\n",
    "print([datas.shape for datas in [X_train, X_test, Y_train, Y_test]])"
   ]
  },
  {
   "cell_type": "code",
   "execution_count": 41,
   "id": "61985347",
   "metadata": {
    "ExecuteTime": {
     "end_time": "2021-06-10T06:20:05.557449Z",
     "start_time": "2021-06-10T06:20:05.548793Z"
    }
   },
   "outputs": [
    {
     "name": "stdout",
     "output_type": "stream",
     "text": [
      "训练集: Counter({0: 26299, 1: 4594})\n",
      "测试集: Counter({0: 11171, 1: 2070})\n"
     ]
    }
   ],
   "source": [
    "print('训练集:', Counter(Y_train))\n",
    "print('测试集:', Counter(Y_test))"
   ]
  },
  {
   "cell_type": "code",
   "execution_count": 42,
   "id": "f3c235ac",
   "metadata": {
    "ExecuteTime": {
     "end_time": "2021-06-10T06:20:05.563579Z",
     "start_time": "2021-06-10T06:20:05.559678Z"
    }
   },
   "outputs": [],
   "source": [
    "MLA = [XGBClassifier(),   # 加权 scale_pos_weight=round(Counter(Y_train)[0] / (2 * Counter(Y_train)[1]), 2)\n",
    "       RandomForestClassifier(),  # 加权 class_weight = dict({0:Counter(Y_train)[0], 1:Counter(Y_train)[1]})\n",
    "       DecisionTreeClassifier()]  # 加权 class_weight = 'balanced'"
   ]
  },
  {
   "cell_type": "markdown",
   "id": "279e548b",
   "metadata": {},
   "source": [
    "### XGB"
   ]
  },
  {
   "cell_type": "code",
   "execution_count": 43,
   "id": "ce0628da",
   "metadata": {
    "ExecuteTime": {
     "end_time": "2021-06-10T06:20:05.571652Z",
     "start_time": "2021-06-10T06:20:05.565824Z"
    }
   },
   "outputs": [],
   "source": [
    "xgb_model = MLA[0]"
   ]
  },
  {
   "cell_type": "code",
   "execution_count": 44,
   "id": "72fae5cb",
   "metadata": {
    "ExecuteTime": {
     "end_time": "2021-06-10T06:20:07.272994Z",
     "start_time": "2021-06-10T06:20:05.573537Z"
    }
   },
   "outputs": [
    {
     "name": "stderr",
     "output_type": "stream",
     "text": [
      "/root/anaconda3/lib/python3.7/site-packages/xgboost/sklearn.py:1146: UserWarning: The use of label encoder in XGBClassifier is deprecated and will be removed in a future release. To remove this warning, do the following: 1) Pass option use_label_encoder=False when constructing XGBClassifier object; and 2) Encode your labels (y) as integers starting with 0, i.e. 0, 1, 2, ..., [num_class - 1].\n",
      "  warnings.warn(label_encoder_deprecation_msg, UserWarning)\n"
     ]
    },
    {
     "name": "stdout",
     "output_type": "stream",
     "text": [
      "[15:20:05] WARNING: ../src/learner.cc:1095: Starting in XGBoost 1.3.0, the default evaluation metric used with the objective 'binary:logistic' was changed from 'error' to 'logloss'. Explicitly set eval_metric if you'd like to restore the old behavior.\n"
     ]
    },
    {
     "name": "stderr",
     "output_type": "stream",
     "text": [
      "/root/anaconda3/lib/python3.7/site-packages/sklearn/preprocessing/label.py:151: DeprecationWarning: The truth value of an empty array is ambiguous. Returning False, but in future this will result in an error. Use `array.size > 0` to check that an array is not empty.\n",
      "  if diff:\n",
      "/root/anaconda3/lib/python3.7/site-packages/sklearn/preprocessing/label.py:151: DeprecationWarning: The truth value of an empty array is ambiguous. Returning False, but in future this will result in an error. Use `array.size > 0` to check that an array is not empty.\n",
      "  if diff:\n"
     ]
    }
   ],
   "source": [
    "xgb_model.fit(X_train, Y_train)\n",
    "xgb_test_pred = xgb_model.predict(X_test)\n",
    "xgb_test_pred = np.expand_dims(xgb_test_pred, axis=-1)\n",
    "\n",
    "xgb_train_pred = xgb_model.predict(X_train)\n",
    "xgb_train_pred = np.expand_dims(xgb_train_pred, axis=-1)"
   ]
  },
  {
   "cell_type": "code",
   "execution_count": 45,
   "id": "91b62c18",
   "metadata": {
    "ExecuteTime": {
     "end_time": "2021-06-10T06:20:07.287735Z",
     "start_time": "2021-06-10T06:20:07.275520Z"
    }
   },
   "outputs": [
    {
     "name": "stdout",
     "output_type": "stream",
     "text": [
      "训练集效果:\n",
      "             precision    recall  f1-score   support\n",
      "\n",
      "    class 0       0.90      0.99      0.94     26299\n",
      "    class 1       0.85      0.34      0.48      4594\n",
      "\n",
      "avg / total       0.89      0.89      0.87     30893\n",
      "\n"
     ]
    }
   ],
   "source": [
    "y_true = Y_train\n",
    "y_pred = xgb_train_pred\n",
    "target_names = ['class 0', 'class 1']\n",
    "print(\"训练集效果:\")\n",
    "print(classification_report(y_true, y_pred, target_names=target_names))"
   ]
  },
  {
   "cell_type": "code",
   "execution_count": 46,
   "id": "bbe12cf9",
   "metadata": {
    "ExecuteTime": {
     "end_time": "2021-06-10T06:20:07.322544Z",
     "start_time": "2021-06-10T06:20:07.290060Z"
    }
   },
   "outputs": [
    {
     "name": "stdout",
     "output_type": "stream",
     "text": [
      "测试集效果:\n",
      "             precision    recall  f1-score   support\n",
      "\n",
      "    class 0       0.87      0.97      0.92     11171\n",
      "    class 1       0.56      0.20      0.29      2070\n",
      "\n",
      "avg / total       0.82      0.85      0.82     13241\n",
      "\n"
     ]
    }
   ],
   "source": [
    "y_true = Y_test\n",
    "y_pred = xgb_test_pred\n",
    "target_names = ['class 0', 'class 1']\n",
    "print(\"测试集效果:\")\n",
    "print(classification_report(y_true, y_pred, target_names=target_names))"
   ]
  },
  {
   "cell_type": "code",
   "execution_count": 47,
   "id": "8c32ccc1",
   "metadata": {
    "ExecuteTime": {
     "end_time": "2021-06-10T06:20:07.618134Z",
     "start_time": "2021-06-10T06:20:07.324601Z"
    }
   },
   "outputs": [
    {
     "data": {
      "image/png": "[encoded data removed]",
      "text/plain": [
       "<Figure size 360x720 with 1 Axes>"
      ]
     },
     "metadata": {
      "needs_background": "light"
     },
     "output_type": "display_data"
    }
   ],
   "source": [
    "from xgboost import plot_importance\n",
    "fig, ax = plt.subplots(figsize=(5, 10))\n",
    "ax.set_title('Feature Importance', fontsize=12, color='r')\n",
    "plot_importance(xgb_model, height=0.5, max_num_features=12, ax=ax)\n",
    "plt.show()"
   ]
  },
  {
   "cell_type": "markdown",
   "id": "62d903a8",
   "metadata": {},
   "source": [
    "### RF"
   ]
  },
  {
   "cell_type": "code",
   "execution_count": 48,
   "id": "dd42ea66",
   "metadata": {
    "ExecuteTime": {
     "end_time": "2021-06-10T06:20:07.622786Z",
     "start_time": "2021-06-10T06:20:07.619820Z"
    }
   },
   "outputs": [],
   "source": [
    "rf_model = MLA[1]"
   ]
  },
  {
   "cell_type": "code",
   "execution_count": 49,
   "id": "ffad9006",
   "metadata": {
    "ExecuteTime": {
     "end_time": "2021-06-10T06:20:08.020729Z",
     "start_time": "2021-06-10T06:20:07.624888Z"
    }
   },
   "outputs": [
    {
     "name": "stderr",
     "output_type": "stream",
     "text": [
      "/root/anaconda3/lib/python3.7/site-packages/sklearn/ensemble/forest.py:482: DeprecationWarning: `np.int` is a deprecated alias for the builtin `int`. To silence this warning, use `int` by itself. Doing this will not modify any behavior and is safe. When replacing `np.int`, you may wish to use e.g. `np.int64` or `np.int32` to specify the precision. If you wish to review your current use, check the release note link for additional information.\n",
      "Deprecated in NumPy 1.20; for more details and guidance: https://numpy.org/devdocs/release/1.20.0-notes.html#deprecations\n",
      "  y_store_unique_indices = np.zeros(y.shape, dtype=np.int)\n",
      "/root/anaconda3/lib/python3.7/site-packages/sklearn/tree/tree.py:149: DeprecationWarning: `np.int` is a deprecated alias for the builtin `int`. To silence this warning, use `int` by itself. Doing this will not modify any behavior and is safe. When replacing `np.int`, you may wish to use e.g. `np.int64` or `np.int32` to specify the precision. If you wish to review your current use, check the release note link for additional information.\n",
      "Deprecated in NumPy 1.20; for more details and guidance: https://numpy.org/devdocs/release/1.20.0-notes.html#deprecations\n",
      "  y_encoded = np.zeros(y.shape, dtype=np.int)\n",
      "/root/anaconda3/lib/python3.7/site-packages/sklearn/tree/tree.py:149: DeprecationWarning: `np.int` is a deprecated alias for the builtin `int`. To silence this warning, use `int` by itself. Doing this will not modify any behavior and is safe. When replacing `np.int`, you may wish to use e.g. `np.int64` or `np.int32` to specify the precision. If you wish to review your current use, check the release note link for additional information.\n",
      "Deprecated in NumPy 1.20; for more details and guidance: https://numpy.org/devdocs/release/1.20.0-notes.html#deprecations\n",
      "  y_encoded = np.zeros(y.shape, dtype=np.int)\n",
      "/root/anaconda3/lib/python3.7/site-packages/sklearn/tree/tree.py:149: DeprecationWarning: `np.int` is a deprecated alias for the builtin `int`. To silence this warning, use `int` by itself. Doing this will not modify any behavior and is safe. When replacing `np.int`, you may wish to use e.g. `np.int64` or `np.int32` to specify the precision. If you wish to review your current use, check the release note link for additional information.\n",
      "Deprecated in NumPy 1.20; for more details and guidance: https://numpy.org/devdocs/release/1.20.0-notes.html#deprecations\n",
      "  y_encoded = np.zeros(y.shape, dtype=np.int)\n",
      "/root/anaconda3/lib/python3.7/site-packages/sklearn/tree/tree.py:149: DeprecationWarning: `np.int` is a deprecated alias for the builtin `int`. To silence this warning, use `int` by itself. Doing this will not modify any behavior and is safe. When replacing `np.int`, you may wish to use e.g. `np.int64` or `np.int32` to specify the precision. If you wish to review your current use, check the release note link for additional information.\n",
      "Deprecated in NumPy 1.20; for more details and guidance: https://numpy.org/devdocs/release/1.20.0-notes.html#deprecations\n",
      "  y_encoded = np.zeros(y.shape, dtype=np.int)\n",
      "/root/anaconda3/lib/python3.7/site-packages/sklearn/tree/tree.py:149: DeprecationWarning: `np.int` is a deprecated alias for the builtin `int`. To silence this warning, use `int` by itself. Doing this will not modify any behavior and is safe. When replacing `np.int`, you may wish to use e.g. `np.int64` or `np.int32` to specify the precision. If you wish to review your current use, check the release note link for additional information.\n",
      "Deprecated in NumPy 1.20; for more details and guidance: https://numpy.org/devdocs/release/1.20.0-notes.html#deprecations\n",
      "  y_encoded = np.zeros(y.shape, dtype=np.int)\n",
      "/root/anaconda3/lib/python3.7/site-packages/sklearn/tree/tree.py:149: DeprecationWarning: `np.int` is a deprecated alias for the builtin `int`. To silence this warning, use `int` by itself. Doing this will not modify any behavior and is safe. When replacing `np.int`, you may wish to use e.g. `np.int64` or `np.int32` to specify the precision. If you wish to review your current use, check the release note link for additional information.\n",
      "Deprecated in NumPy 1.20; for more details and guidance: https://numpy.org/devdocs/release/1.20.0-notes.html#deprecations\n",
      "  y_encoded = np.zeros(y.shape, dtype=np.int)\n",
      "/root/anaconda3/lib/python3.7/site-packages/sklearn/tree/tree.py:149: DeprecationWarning: `np.int` is a deprecated alias for the builtin `int`. To silence this warning, use `int` by itself. Doing this will not modify any behavior and is safe. When replacing `np.int`, you may wish to use e.g. `np.int64` or `np.int32` to specify the precision. If you wish to review your current use, check the release note link for additional information.\n",
      "Deprecated in NumPy 1.20; for more details and guidance: https://numpy.org/devdocs/release/1.20.0-notes.html#deprecations\n",
      "  y_encoded = np.zeros(y.shape, dtype=np.int)\n",
      "/root/anaconda3/lib/python3.7/site-packages/sklearn/tree/tree.py:149: DeprecationWarning: `np.int` is a deprecated alias for the builtin `int`. To silence this warning, use `int` by itself. Doing this will not modify any behavior and is safe. When replacing `np.int`, you may wish to use e.g. `np.int64` or `np.int32` to specify the precision. If you wish to review your current use, check the release note link for additional information.\n",
      "Deprecated in NumPy 1.20; for more details and guidance: https://numpy.org/devdocs/release/1.20.0-notes.html#deprecations\n",
      "  y_encoded = np.zeros(y.shape, dtype=np.int)\n",
      "/root/anaconda3/lib/python3.7/site-packages/sklearn/tree/tree.py:149: DeprecationWarning: `np.int` is a deprecated alias for the builtin `int`. To silence this warning, use `int` by itself. Doing this will not modify any behavior and is safe. When replacing `np.int`, you may wish to use e.g. `np.int64` or `np.int32` to specify the precision. If you wish to review your current use, check the release note link for additional information.\n",
      "Deprecated in NumPy 1.20; for more details and guidance: https://numpy.org/devdocs/release/1.20.0-notes.html#deprecations\n",
      "  y_encoded = np.zeros(y.shape, dtype=np.int)\n",
      "/root/anaconda3/lib/python3.7/site-packages/sklearn/tree/tree.py:149: DeprecationWarning: `np.int` is a deprecated alias for the builtin `int`. To silence this warning, use `int` by itself. Doing this will not modify any behavior and is safe. When replacing `np.int`, you may wish to use e.g. `np.int64` or `np.int32` to specify the precision. If you wish to review your current use, check the release note link for additional information.\n",
      "Deprecated in NumPy 1.20; for more details and guidance: https://numpy.org/devdocs/release/1.20.0-notes.html#deprecations\n",
      "  y_encoded = np.zeros(y.shape, dtype=np.int)\n"
     ]
    }
   ],
   "source": [
    "rf_model = rf_model.fit(X_train, Y_train)"
   ]
  },
  {
   "cell_type": "code",
   "execution_count": 50,
   "id": "cf3fd9d5",
   "metadata": {
    "ExecuteTime": {
     "end_time": "2021-06-10T06:20:08.130168Z",
     "start_time": "2021-06-10T06:20:08.022398Z"
    }
   },
   "outputs": [
    {
     "name": "stderr",
     "output_type": "stream",
     "text": [
      "/root/anaconda3/lib/python3.7/site-packages/sklearn/ensemble/base.py:157: DeprecationWarning: `np.int` is a deprecated alias for the builtin `int`. To silence this warning, use `int` by itself. Doing this will not modify any behavior and is safe. When replacing `np.int`, you may wish to use e.g. `np.int64` or `np.int32` to specify the precision. If you wish to review your current use, check the release note link for additional information.\n",
      "Deprecated in NumPy 1.20; for more details and guidance: https://numpy.org/devdocs/release/1.20.0-notes.html#deprecations\n",
      "  dtype=np.int)\n",
      "/root/anaconda3/lib/python3.7/site-packages/sklearn/ensemble/base.py:157: DeprecationWarning: `np.int` is a deprecated alias for the builtin `int`. To silence this warning, use `int` by itself. Doing this will not modify any behavior and is safe. When replacing `np.int`, you may wish to use e.g. `np.int64` or `np.int32` to specify the precision. If you wish to review your current use, check the release note link for additional information.\n",
      "Deprecated in NumPy 1.20; for more details and guidance: https://numpy.org/devdocs/release/1.20.0-notes.html#deprecations\n",
      "  dtype=np.int)\n"
     ]
    }
   ],
   "source": [
    "rf_train_pred = rf_model.predict(X_train)\n",
    "rf_test_pred = rf_model.predict(X_test)"
   ]
  },
  {
   "cell_type": "code",
   "execution_count": 51,
   "id": "0847b9ad",
   "metadata": {
    "ExecuteTime": {
     "end_time": "2021-06-10T06:20:08.141928Z",
     "start_time": "2021-06-10T06:20:08.131940Z"
    }
   },
   "outputs": [
    {
     "name": "stdout",
     "output_type": "stream",
     "text": [
      "训练集效果:\n",
      "             precision    recall  f1-score   support\n",
      "\n",
      "    class 0       0.97      1.00      0.99     26299\n",
      "    class 1       0.98      0.85      0.91      4594\n",
      "\n",
      "avg / total       0.98      0.98      0.97     30893\n",
      "\n"
     ]
    }
   ],
   "source": [
    "y_true = Y_train\n",
    "y_pred = rf_train_pred\n",
    "target_names = ['class 0', 'class 1']\n",
    "print(\"训练集效果:\")\n",
    "print(classification_report(y_true, y_pred, target_names=target_names))"
   ]
  },
  {
   "cell_type": "code",
   "execution_count": 52,
   "id": "f80e79ff",
   "metadata": {
    "ExecuteTime": {
     "end_time": "2021-06-10T06:20:08.152200Z",
     "start_time": "2021-06-10T06:20:08.143837Z"
    }
   },
   "outputs": [
    {
     "name": "stdout",
     "output_type": "stream",
     "text": [
      "测试集效果:\n",
      "             precision    recall  f1-score   support\n",
      "\n",
      "    class 0       0.86      0.95      0.90     11171\n",
      "    class 1       0.39      0.16      0.23      2070\n",
      "\n",
      "avg / total       0.79      0.83      0.80     13241\n",
      "\n"
     ]
    }
   ],
   "source": [
    "y_true = Y_test\n",
    "y_pred = rf_test_pred\n",
    "target_names = ['class 0', 'class 1']\n",
    "print(\"测试集效果:\")\n",
    "print(classification_report(y_true, y_pred, target_names=target_names))"
   ]
  },
  {
   "cell_type": "markdown",
   "id": "bd13a51d",
   "metadata": {},
   "source": [
    "### 决策树"
   ]
  },
  {
   "cell_type": "code",
   "execution_count": 53,
   "id": "d8b65eb9",
   "metadata": {
    "ExecuteTime": {
     "end_time": "2021-06-10T06:20:08.157301Z",
     "start_time": "2021-06-10T06:20:08.154184Z"
    }
   },
   "outputs": [],
   "source": [
    "dtc_model = MLA[2]"
   ]
  },
  {
   "cell_type": "code",
   "execution_count": 54,
   "id": "a7399e48",
   "metadata": {
    "ExecuteTime": {
     "end_time": "2021-06-10T06:20:08.473606Z",
     "start_time": "2021-06-10T06:20:08.159244Z"
    }
   },
   "outputs": [
    {
     "name": "stderr",
     "output_type": "stream",
     "text": [
      "/root/anaconda3/lib/python3.7/site-packages/sklearn/tree/tree.py:149: DeprecationWarning: `np.int` is a deprecated alias for the builtin `int`. To silence this warning, use `int` by itself. Doing this will not modify any behavior and is safe. When replacing `np.int`, you may wish to use e.g. `np.int64` or `np.int32` to specify the precision. If you wish to review your current use, check the release note link for additional information.\n",
      "Deprecated in NumPy 1.20; for more details and guidance: https://numpy.org/devdocs/release/1.20.0-notes.html#deprecations\n",
      "  y_encoded = np.zeros(y.shape, dtype=np.int)\n"
     ]
    },
    {
     "data": {
      "text/plain": [
       "DecisionTreeClassifier(class_weight=None, criterion='gini', max_depth=None,\n",
       "            max_features=None, max_leaf_nodes=None,\n",
       "            min_impurity_decrease=0.0, min_impurity_split=None,\n",
       "            min_samples_leaf=1, min_samples_split=2,\n",
       "            min_weight_fraction_leaf=0.0, presort=False, random_state=None,\n",
       "            splitter='best')"
      ]
     },
     "execution_count": 54,
     "metadata": {},
     "output_type": "execute_result"
    }
   ],
   "source": [
    "dtc_model.fit(X_train, Y_train)"
   ]
  },
  {
   "cell_type": "code",
   "execution_count": 55,
   "id": "c2ab2de6",
   "metadata": {
    "ExecuteTime": {
     "end_time": "2021-06-10T06:20:08.497236Z",
     "start_time": "2021-06-10T06:20:08.475633Z"
    }
   },
   "outputs": [],
   "source": [
    "dtc_train_pred = dtc_model.predict(X_train)\n",
    "dtc_test_pred = dtc_model.predict(X_test)"
   ]
  },
  {
   "cell_type": "code",
   "execution_count": 56,
   "id": "58b191ac",
   "metadata": {
    "ExecuteTime": {
     "end_time": "2021-06-10T06:20:08.510931Z",
     "start_time": "2021-06-10T06:20:08.499073Z"
    }
   },
   "outputs": [
    {
     "name": "stdout",
     "output_type": "stream",
     "text": [
      "训练集效果:\n",
      "             precision    recall  f1-score   support\n",
      "\n",
      "    class 0       0.99      1.00      1.00     26299\n",
      "    class 1       1.00      0.96      0.98      4594\n",
      "\n",
      "avg / total       0.99      0.99      0.99     30893\n",
      "\n"
     ]
    }
   ],
   "source": [
    "y_true = Y_train\n",
    "y_pred = dtc_train_pred\n",
    "target_names = ['class 0', 'class 1']\n",
    "print(\"训练集效果:\")\n",
    "print(classification_report(y_true, y_pred, target_names=target_names))"
   ]
  },
  {
   "cell_type": "code",
   "execution_count": 57,
   "id": "3f9bc9e1",
   "metadata": {
    "ExecuteTime": {
     "end_time": "2021-06-10T06:20:08.521372Z",
     "start_time": "2021-06-10T06:20:08.513103Z"
    }
   },
   "outputs": [
    {
     "name": "stdout",
     "output_type": "stream",
     "text": [
      "测试集效果:\n",
      "             precision    recall  f1-score   support\n",
      "\n",
      "    class 0       0.87      0.87      0.87     11171\n",
      "    class 1       0.28      0.29      0.28      2070\n",
      "\n",
      "avg / total       0.78      0.77      0.78     13241\n",
      "\n"
     ]
    }
   ],
   "source": [
    "y_true = Y_test\n",
    "y_pred = dtc_test_pred\n",
    "target_names = ['class 0', 'class 1']\n",
    "print(\"测试集效果:\")\n",
    "print(classification_report(y_true, y_pred, target_names=target_names))"
   ]
  },
  {
   "cell_type": "markdown",
   "id": "9c9ce6b0",
   "metadata": {},
   "source": [
    "## 规则输出\n",
    "* XGB提取决策规则\n",
    "* RF提取决策规则"
   ]
  },
  {
   "cell_type": "code",
   "execution_count": 58,
   "id": "73f32e68",
   "metadata": {
    "ExecuteTime": {
     "end_time": "2021-06-10T06:20:08.526385Z",
     "start_time": "2021-06-10T06:20:08.523753Z"
    }
   },
   "outputs": [],
   "source": [
    "import re"
   ]
  },
  {
   "cell_type": "markdown",
   "id": "888a1a4e",
   "metadata": {},
   "source": [
    "### XGB规则\n",
    "* 可视化决策树图"
   ]
  },
  {
   "cell_type": "code",
   "execution_count": 59,
   "id": "e81bacf7",
   "metadata": {
    "ExecuteTime": {
     "end_time": "2021-06-10T06:20:08.574293Z",
     "start_time": "2021-06-10T06:20:08.528181Z"
    }
   },
   "outputs": [],
   "source": [
    "# xgb_model.get_booster().dump_model('./xgb_model.txt', with_stats=True)"
   ]
  },
  {
   "cell_type": "code",
   "execution_count": 60,
   "id": "550bfe4a",
   "metadata": {
    "ExecuteTime": {
     "end_time": "2021-06-10T06:20:08.582243Z",
     "start_time": "2021-06-10T06:20:08.575922Z"
    }
   },
   "outputs": [],
   "source": [
    "# with open('xgb_model.txt', 'r') as f:\n",
    "#     lines = f.readlines()"
   ]
  },
  {
   "cell_type": "code",
   "execution_count": 61,
   "id": "1057e0a3",
   "metadata": {
    "ExecuteTime": {
     "end_time": "2021-06-10T06:20:09.006620Z",
     "start_time": "2021-06-10T06:20:08.584337Z"
    }
   },
   "outputs": [
    {
     "data": {
      "text/plain": [
       "'./plan_xgb.png'"
      ]
     },
     "execution_count": 61,
     "metadata": {},
     "output_type": "execute_result"
    }
   ],
   "source": [
    "# digraph = xgboost.to_graphviz(xgb_model, num_trees=99)\n",
    "# digraph.format = 'png'\n",
    "# digraph.view('./plan_xgb')"
   ]
  },
  {
   "cell_type": "markdown",
   "id": "455046ee",
   "metadata": {},
   "source": [
    "### 决策树规则"
   ]
  },
  {
   "cell_type": "markdown",
   "id": "7d3f5bd5",
   "metadata": {},
   "source": [
    "* 可视化 if else 代码"
   ]
  },
  {
   "cell_type": "code",
   "execution_count": 62,
   "id": "ddaa006f",
   "metadata": {
    "ExecuteTime": {
     "end_time": "2021-06-10T06:20:09.018146Z",
     "start_time": "2021-06-10T06:20:09.008960Z"
    }
   },
   "outputs": [],
   "source": [
    "fea_names = df.drop(['label'], axis=1).columns.to_list()\n",
    "tar_names = ['bad_plan', 'good_plan']"
   ]
  },
  {
   "cell_type": "code",
   "execution_count": 63,
   "id": "ae0ddc42",
   "metadata": {
    "ExecuteTime": {
     "end_time": "2021-06-10T06:20:10.249080Z",
     "start_time": "2021-06-10T06:20:09.020203Z"
    }
   },
   "outputs": [
    {
     "name": "stdout",
     "output_type": "stream",
     "text": [
      "feature_name: ['budget', 'platform', 'budget', 'inventory_type_INVENTORY_TOMATO_NOVEL', 'budget', 'game_id', 'cpa_bid', 'cpa_bid', 'deep_bid_type', 'image_id', 'undefined!', 'cpa_bid', 'undefined!', 'hide_if_converted', 'auto_extend_enabled', 'undefined!', 'inventory_type_INVENTORY_VIDEO_FEED', 'label_ids_9', 'image_id', 'undefined!', 'image_id', 'image_id', 'image_id', 'cpa_bid', 'ac_4G', 'undefined!', 'image_id', 'undefined!', 'undefined!', 'undefined!', 'undefined!', 'undefined!', 'undefined!', 'undefined!', 'undefined!', 'label_ids_0', 'undefined!', 'undefined!', 'undefined!', 'inventory_type_INVENTORY_FEED', 'undefined!', 'image_id', 'image_id', 'retargeting_type', 'image_id', 'undefined!', 'cpa_bid', 'undefined!', 'undefined!', 'undefined!', 'undefined!', 'label_ids_2', 'label_ids_-', 'image_id', 'ac_WIFI', 'undefined!', 'ad_account_id', 'undefined!', 'ad_account_id', 'undefined!', 'ad_account_id', 'undefined!', 'undefined!', 'image_id', 'ac_4G', 'undefined!', 'ad_account_id', 'undefined!', 'undefined!', 'undefined!', 'cpa_bid', 'undefined!', 'ac_4G', 'undefined!', 'ad_account_id', 'undefined!', 'undefined!', 'image_id', 'inventory_type_INVENTORY_VIDEO_FEED', 'launch_price', 'android_osv', 'age_AGE_BETWEEN_18_23', 'ad_account_id', 'label_ids_1', 'undefined!', 'undefined!', 'undefined!', 'cpa_bid', 'image_id', 'undefined!', 'gender', 'undefined!', 'image_id', 'undefined!', 'image_id', 'undefined!', 'image_id', 'undefined!', 'undefined!', 'undefined!', 'image_id', 'image_id', 'cpa_bid', 'undefined!', 'undefined!', 'undefined!', 'age_AGE_BETWEEN_24_30', 'undefined!', 'image_id', 'undefined!', 'undefined!', 'undefined!', 'undefined!', 'ad_account_id', 'image_id', 'cpa_bid', 'age_AGE_BETWEEN_18_23', 'label_ids_,', 'undefined!', 'undefined!', 'undefined!', 'undefined!', 'undefined!', 'budget', 'undefined!', 'ad_account_id', 'undefined!', 'cpa_bid', 'undefined!', 'undefined!', 'image_id', 'image_id', 'cpa_bid', 'cpa_bid', 'budget', 'budget', 'auto_extend_enabled', 'inventory_type_INVENTORY_AWEME_FEED', 'launch_price', 'image_id', 'undefined!', 'undefined!', 'ad_account_id', 'cpa_bid', 'undefined!', 'undefined!', 'budget', 'cpa_bid', 'undefined!', 'undefined!', 'interest_action_mode', 'undefined!', 'smart_bid_type', 'undefined!', 'undefined!', 'cpa_bid', 'label_ids_1', 'undefined!', 'undefined!', 'gender', 'image_id', 'adjust_cpa', 'retargeting_type', 'cpa_bid', 'undefined!', 'undefined!', 'cpa_bid', 'image_id', 'image_id', 'undefined!', 'undefined!', 'undefined!', 'undefined!', 'undefined!', 'android_osv', 'image_id', 'cpa_bid', 'undefined!', 'cpa_bid', 'undefined!', 'undefined!', 'inventory_type_INVENTORY_VIDEO_FEED', 'undefined!', 'undefined!', 'image_id', 'image_id', 'inventory_type_INVENTORY_FEED', 'smart_bid_type', 'cpa_bid', 'undefined!', 'undefined!', 'undefined!', 'cpa_bid', 'cpa_bid', 'undefined!', 'image_id', 'undefined!', 'undefined!', 'image_id', 'undefined!', 'cpa_bid', 'undefined!', 'cpa_bid', 'undefined!', 'cpa_bid', 'undefined!', 'cpa_bid', 'undefined!', 'undefined!', 'cpa_bid', 'undefined!', 'undefined!', 'undefined!', 'flow_control_mode', 'undefined!', 'image_id', 'image_id', 'undefined!', 'adjust_cpa', 'undefined!', 'undefined!', 'undefined!', 'undefined!', 'interest_action_mode', 'image_id', 'undefined!', 'image_id', 'undefined!', 'budget', 'cpa_bid', 'age_AGE_BETWEEN_41_49', 'undefined!', 'undefined!', 'undefined!', 'cpa_bid', 'undefined!', 'cpa_bid', 'cpa_bid', 'inventory_type_INVENTORY_UNION_SLOT', 'undefined!', 'undefined!', 'undefined!', 'inventory_type_INVENTORY_AWEME_FEED', 'undefined!', 'cpa_bid', 'cpa_bid', 'undefined!', 'retargeting_type', 'undefined!', 'undefined!', 'undefined!', 'cpa_bid', 'cpa_bid', 'undefined!', 'budget', 'undefined!', 'hide_if_exists', 'undefined!', 'undefined!', 'undefined!', 'flow_control_mode', 'retargeting_type', 'age_AGE_BETWEEN_18_23', 'cpa_bid', 'location_type', 'label_ids_1', 'undefined!', 'undefined!', 'undefined!', 'undefined!', 'undefined!', 'undefined!', 'image_id', 'image_id', 'cpa_bid', 'smart_bid_type', 'undefined!', 'undefined!', 'budget', 'undefined!', 'label_ids_9', 'undefined!', 'undefined!', 'undefined!', 'cpa_bid', 'undefined!', 'image_id', 'smart_bid_type', 'game_id', 'undefined!', 'undefined!', 'undefined!', 'gender', 'ad_account_id', 'image_id', 'action_days', 'undefined!', 'undefined!', 'undefined!', 'image_id', 'undefined!', 'undefined!', 'undefined!', 'ad_account_id', 'cpa_bid', 'hide_if_exists', 'image_id', 'undefined!', 'undefined!', 'inventory_type_INVENTORY_UNION_SLOT', 'undefined!', 'undefined!', 'cpa_bid', 'cpa_bid', 'image_id', 'budget', 'image_id', 'undefined!', 'inventory_type_INVENTORY_HOTSOON_FEED', 'undefined!', 'undefined!', 'undefined!', 'inventory_type_INVENTORY_HOTSOON_FEED', 'age_AGE_BETWEEN_41_49', 'cpa_bid', 'undefined!', 'undefined!', 'undefined!', 'undefined!', 'budget', 'undefined!', 'image_id', 'image_id', 'adjust_cpa', 'undefined!', 'inventory_type_INVENTORY_UNION_SLOT', 'undefined!', 'undefined!', 'undefined!', 'undefined!', 'age_AGE_BETWEEN_41_49', 'inventory_type_INVENTORY_HOTSOON_FEED', 'undefined!', 'hide_if_exists', 'undefined!', 'undefined!', 'game_id', 'inventory_type_INVENTORY_HOTSOON_FEED', 'adjust_cpa', 'undefined!', 'android_osv', 'budget', 'undefined!', 'launch_price', 'cpa_bid', 'undefined!', 'undefined!', 'undefined!', 'location_type', 'undefined!', 'undefined!', 'inventory_type_INVENTORY_UNION_SLOT', 'undefined!', 'hide_if_exists', 'undefined!', 'undefined!', 'undefined!', 'undefined!', 'gender', 'inventory_type_INVENTORY_UNION_SLOT', 'ad_account_id', 'inventory_type_INVENTORY_VIDEO_FEED', 'cpa_bid', 'undefined!', 'undefined!', 'undefined!', 'undefined!', 'launch_price', 'interest_action_mode', 'undefined!', 'label_ids_1', 'undefined!', 'hide_if_exists', 'undefined!', 'undefined!', 'undefined!', 'launch_price', 'undefined!', 'undefined!', 'hide_if_exists', 'flow_control_mode', 'retargeting_type', 'budget', 'inventory_type_INVENTORY_HOTSOON_FEED', 'inventory_type_INVENTORY_VIDEO_FEED', 'adjust_cpa', 'undefined!', 'label_ids_0', 'undefined!', 'undefined!', 'undefined!', 'gender', 'undefined!', 'label_ids_-', 'undefined!', 'undefined!', 'undefined!', 'undefined!', 'ad_account_id', 'cpa_bid', 'adjust_cpa', 'undefined!', 'undefined!', 'undefined!', 'cpa_bid', 'android_osv', 'undefined!', 'undefined!', 'undefined!', 'ad_account_id', 'launch_price', 'undefined!', 'ac_4G', 'cpa_bid', 'inventory_type_INVENTORY_UNION_SLOT', 'undefined!', 'undefined!', 'undefined!', 'undefined!', 'launch_price', 'undefined!', 'undefined!', 'image_id', 'interest_action_mode', 'hide_if_converted', 'cpa_bid', 'android_osv', 'image_id', 'ad_account_id', 'image_id', 'undefined!', 'inventory_type_INVENTORY_VIDEO_FEED', 'undefined!', 'undefined!', 'retargeting_type', 'undefined!', 'adjust_cpa', 'cpa_bid', 'budget', 'cpa_bid', 'undefined!', 'image_id', 'undefined!', 'undefined!', 'undefined!', 'undefined!', 'undefined!', 'undefined!', 'cpa_bid', 'ac_WIFI', 'inventory_type_INVENTORY_UNION_SLOT', 'image_id', 'undefined!', 'undefined!', 'undefined!', 'undefined!', 'undefined!', 'age_AGE_BETWEEN_18_23', 'cpa_bid', 'budget', 'android_osv', 'location_type', 'action_days', 'inventory_type_UNION_BOUTIQUE_GAME', 'undefined!', 'undefined!', 'image_id', 'game_id', 'undefined!', 'label_ids_2', 'undefined!', 'hide_if_exists', 'cpa_bid', 'adjust_cpa', 'undefined!', 'label_ids_0', 'ad_account_id', 'undefined!', 'undefined!', 'undefined!', 'ad_account_id', 'age_AGE_BETWEEN_24_30', 'undefined!', 'undefined!', 'undefined!', 'image_id', 'undefined!', 'undefined!', 'budget', 'undefined!', 'image_id', 'ad_account_id', 'undefined!', 'undefined!', 'cpa_bid', 'cpa_bid', 'undefined!', 'undefined!', 'undefined!', 'age_AGE_BETWEEN_24_30', 'label_ids_2', 'undefined!', 'undefined!', 'undefined!', 'cpa_bid', 'cpa_bid', 'cpa_bid', 'launch_price', 'location_type', 'undefined!', 'undefined!', 'undefined!', 'label_ids_,', 'undefined!', 'undefined!', 'undefined!', 'ad_account_id', 'undefined!', 'flow_control_mode', 'adjust_cpa', 'undefined!', 'undefined!', 'undefined!', 'game_id', 'age_AGE_BETWEEN_41_49', 'cpa_bid', 'retargeting_type', 'undefined!', 'undefined!', 'undefined!', 'undefined!', 'smart_bid_type', 'undefined!', 'undefined!', 'inventory_type_INVENTORY_VIDEO_FEED', 'undefined!', 'undefined!', 'flow_control_mode', 'budget', 'label_ids_2', 'undefined!', 'undefined!', 'cpa_bid', 'cpa_bid', 'cpa_bid', 'ad_account_id', 'cpa_bid', 'budget', 'cpa_bid', 'undefined!', 'ac_WIFI', 'undefined!', 'undefined!', 'undefined!', 'hide_if_exists', 'undefined!', 'undefined!', 'label_ids_2', 'undefined!', 'undefined!', 'undefined!', 'undefined!', 'cpa_bid', 'undefined!', 'inventory_type_INVENTORY_FEED', 'undefined!', 'android_osv', 'undefined!', 'label_ids_9', 'undefined!', 'retargeting_type', 'undefined!', 'undefined!', 'ad_account_id', 'undefined!', 'undefined!', 'launch_price', 'undefined!', 'undefined!', 'inventory_type_INVENTORY_UNION_SPLASH_SLOT', 'ad_account_id', 'cpa_bid', 'ad_account_id', 'image_id', 'undefined!', 'label_ids_1', 'age_AGE_BETWEEN_41_49', 'undefined!', 'undefined!', 'undefined!', 'image_id', 'undefined!', 'inventory_type_UNION_BOUTIQUE_GAME', 'image_id', 'location_type', 'undefined!', 'undefined!', 'android_osv', 'image_id', 'image_id', 'image_id', 'cpa_bid', 'undefined!', 'undefined!', 'undefined!', 'cpa_bid', 'ad_account_id', 'undefined!', 'inventory_type_INVENTORY_UNION_SLOT', 'undefined!', 'undefined!', 'undefined!', 'undefined!', 'undefined!', 'image_id', 'cpa_bid', 'undefined!', 'undefined!', 'undefined!', 'image_id', 'undefined!', 'undefined!', 'cpa_bid', 'flow_control_mode', 'image_id', 'undefined!', 'label_ids_1', 'adjust_cpa', 'inventory_type_INVENTORY_FEED', 'undefined!', 'age_AGE_BETWEEN_41_49', 'undefined!', 'undefined!', 'undefined!', 'undefined!', 'undefined!', 'cpa_bid', 'undefined!', 'ad_account_id', 'budget', 'flow_control_mode', 'label_ids_0', 'undefined!', 'game_id', 'undefined!', 'ad_account_id', 'undefined!', 'undefined!', 'retargeting_type', 'undefined!', 'undefined!', 'label_ids_9', 'undefined!', 'android_osv', 'image_id', 'image_id', 'undefined!', 'undefined!', 'undefined!', 'undefined!', 'gender', 'undefined!', 'undefined!', 'deep_bid_type', 'undefined!', 'flow_control_mode', 'cpa_bid', 'ad_account_id', 'label_ids_2', 'undefined!', 'image_id', 'cpa_bid', 'cpa_bid', 'undefined!', 'undefined!', 'undefined!', 'undefined!', 'image_id', 'adjust_cpa', 'label_ids_,', 'undefined!', 'age_AGE_BETWEEN_18_23', 'undefined!', 'ad_account_id', 'age_AGE_BETWEEN_41_49', 'undefined!', 'undefined!', 'undefined!', 'budget', 'undefined!', 'undefined!', 'android_osv', 'undefined!', 'undefined!', 'cpa_bid', 'undefined!', 'budget', 'undefined!', 'image_id', 'image_id', 'undefined!', 'cpa_bid', 'undefined!', 'undefined!', 'undefined!', 'label_ids_9', 'age_AGE_BETWEEN_41_49', 'ad_account_id', 'undefined!', 'cpa_bid', 'undefined!', 'label_ids_-', 'undefined!', 'cpa_bid', 'undefined!', 'undefined!', 'undefined!', 'undefined!', 'budget', 'android_osv', 'cpa_bid', 'inventory_type_UNION_BOUTIQUE_GAME', 'image_id', 'android_osv', 'gender', 'launch_price', 'image_id', 'undefined!', 'image_id', 'interest_action_mode', 'undefined!', 'image_id', 'ad_account_id', 'label_ids_1', 'retargeting_type', 'undefined!', 'inventory_type_INVENTORY_UNION_SPLASH_SLOT', 'hide_if_converted', 'undefined!', 'ad_account_id', 'cpa_bid', 'undefined!', 'undefined!', 'undefined!', 'retargeting_type', 'undefined!', 'image_id', 'undefined!', 'undefined!', 'image_id', 'image_id', 'label_ids_9', 'undefined!', 'retargeting_type', 'undefined!', 'ad_account_id', 'image_id', 'undefined!', 'undefined!', 'undefined!', 'hide_if_converted', 'undefined!', 'retargeting_type', 'undefined!', 'undefined!', 'undefined!', 'ad_account_id', 'undefined!', 'label_ids_7', 'undefined!', 'cpa_bid', 'undefined!', 'undefined!', 'budget', 'undefined!', 'undefined!', 'undefined!', 'undefined!', 'label_ids_7', 'undefined!', 'image_id', 'undefined!', 'undefined!', 'hide_if_exists', 'ad_account_id', 'image_id', 'gender', 'age_AGE_BETWEEN_18_23', 'undefined!', 'deep_bid_type', 'undefined!', 'undefined!', 'undefined!', 'undefined!', 'ad_account_id', 'ad_account_id', 'inventory_type_INVENTORY_UNION_SLOT', 'ac_WIFI', 'launch_price', 'undefined!', 'image_id', 'undefined!', 'game_id', 'undefined!', 'label_ids_3', 'undefined!', 'undefined!', 'image_id', 'undefined!', 'image_id', 'undefined!', 'undefined!', 'age_AGE_ABOVE_50', 'label_ids_3', 'image_id', 'undefined!', 'image_id', 'undefined!', 'undefined!', 'interest_action_mode', 'undefined!', 'undefined!', 'undefined!', 'label_ids_,', 'hide_if_converted', 'image_id', 'undefined!', 'undefined!', 'interest_action_mode', 'undefined!', 'image_id', 'image_id', 'undefined!', 'undefined!', 'image_id', 'undefined!', 'cpa_bid', 'image_id', 'undefined!', 'undefined!', 'undefined!', 'hide_if_converted', 'undefined!', 'undefined!', 'undefined!', 'image_id', 'cpa_bid', 'undefined!', 'image_id', 'undefined!', 'undefined!', 'undefined!', 'undefined!', 'retargeting_type', 'undefined!', 'ad_account_id', 'undefined!', 'undefined!', 'cpa_bid', 'undefined!', 'undefined!', 'image_id', 'android_osv', 'cpa_bid', 'ad_account_id', 'cpa_bid', 'action_days', 'undefined!', 'hide_if_converted', 'location_type', 'image_id', 'hide_if_converted', 'inventory_type_INVENTORY_SEARCH', 'image_id', 'age_AGE_BETWEEN_31_40', 'budget', 'cpa_bid', 'budget', 'budget', 'flow_control_mode', 'cpa_bid', 'undefined!', 'inventory_type_INVENTORY_UNION_SLOT', 'undefined!', 'undefined!', 'undefined!', 'undefined!', 'hide_if_converted', 'undefined!', 'launch_price', 'undefined!', 'retargeting_type', 'label_ids_1', 'location_type', 'flow_control_mode', 'undefined!', 'undefined!', 'undefined!', 'undefined!', 'undefined!', 'undefined!', 'ad_account_id', 'image_id', 'flow_control_mode', 'undefined!', 'budget', 'undefined!', 'game_id', 'inventory_type_INVENTORY_HOTSOON_FEED', 'undefined!', 'gender', 'hide_if_converted', 'undefined!', 'image_id', 'undefined!', 'undefined!', 'undefined!', 'undefined!', 'cpa_bid', 'undefined!', 'undefined!', 'undefined!', 'retargeting_type', 'label_ids_1', 'ad_account_id', 'cpa_bid', 'hide_if_exists', 'budget', 'deep_bid_type', 'undefined!', 'undefined!', 'image_id', 'image_id', 'hide_if_converted', 'undefined!', 'ad_account_id', 'ad_account_id', 'image_id', 'undefined!', 'image_id', 'undefined!', 'undefined!', 'launch_price', 'age_AGE_BETWEEN_18_23', 'undefined!', 'undefined!', 'undefined!', 'undefined!', 'ad_account_id', 'undefined!', 'undefined!', 'cpa_bid', 'ad_account_id', 'image_id', 'undefined!', 'age_AGE_BETWEEN_18_23', 'undefined!', 'undefined!', 'cpa_bid', 'undefined!', 'undefined!', 'cpa_bid', 'image_id', 'smart_bid_type', 'inventory_type_INVENTORY_UNION_SLOT', 'undefined!', 'undefined!', 'undefined!', 'interest_action_mode', 'undefined!', 'image_id', 'inventory_type_INVENTORY_AWEME_FEED', 'undefined!', 'adjust_cpa', 'undefined!', 'cpa_bid', 'undefined!', 'undefined!', 'cpa_bid', 'image_id', 'undefined!', 'undefined!', 'image_id', 'undefined!', 'image_id', 'ad_account_id', 'undefined!', 'undefined!', 'undefined!', 'image_id', 'undefined!', 'undefined!', 'smart_bid_type', 'launch_price', 'inventory_type_INVENTORY_UNION_SLOT', 'undefined!', 'undefined!', 'undefined!', 'undefined!', 'undefined!', 'image_id', 'undefined!', 'undefined!', 'game_id', 'inventory_type_INVENTORY_UNION_SPLASH_SLOT', 'ad_account_id', 'cpa_bid', 'inventory_type_INVENTORY_AWEME_FEED', 'undefined!', 'inventory_type_INVENTORY_VIDEO_FEED', 'image_id', 'hide_if_converted', 'ad_account_id', 'cpa_bid', 'image_id', 'undefined!', 'deep_bid_type', 'label_ids_9', 'undefined!', 'undefined!', 'undefined!', 'undefined!', 'undefined!', 'undefined!', 'ad_account_id', 'undefined!', 'image_id', 'ad_account_id', 'image_id', 'undefined!', 'undefined!', 'undefined!', 'undefined!', 'undefined!', 'label_ids_2', 'image_id', 'image_id', 'undefined!', 'ad_account_id', 'undefined!', 'ad_account_id', 'image_id', 'undefined!', 'undefined!', 'label_ids_0', 'undefined!', 'hide_if_converted', 'undefined!', 'age_AGE_BETWEEN_18_23', 'undefined!', 'undefined!', 'undefined!', 'image_id', 'undefined!', 'undefined!', 'undefined!', 'cpa_bid', 'undefined!', 'age_AGE_BETWEEN_18_23', 'image_id', 'label_ids_0', 'undefined!', 'undefined!', 'undefined!', 'undefined!', 'gender', 'adjust_cpa', 'undefined!', 'hide_if_converted', 'label_ids_,', 'undefined!', 'action_days', 'undefined!', 'undefined!', 'undefined!', 'ad_account_id', 'undefined!', 'undefined!', 'ad_account_id', 'smart_bid_type', 'image_id', 'undefined!', 'cpa_bid', 'image_id', 'image_id', 'undefined!', 'undefined!', 'undefined!', 'undefined!', 'location_type', 'image_id', 'budget', 'ac_4G', 'undefined!', 'launch_price', 'undefined!', 'inventory_type_INVENTORY_UNION_SPLASH_SLOT', 'launch_price', 'cpa_bid', 'undefined!', 'undefined!', 'interest_action_mode', 'image_id', 'undefined!', 'undefined!', 'undefined!', 'flow_control_mode', 'undefined!', 'hide_if_exists', 'action_days', 'retargeting_type', 'undefined!', 'undefined!', 'undefined!', 'retargeting_type', 'deep_bid_type', 'image_id', 'undefined!', 'undefined!', 'undefined!', 'undefined!', 'undefined!', 'inventory_type_INVENTORY_VIDEO_FEED', 'launch_price', 'undefined!', 'undefined!', 'undefined!', 'image_id', 'undefined!', 'launch_price', 'interest_action_mode', 'inventory_type_INVENTORY_UNION_SLOT', 'label_ids_9', 'image_id', 'undefined!', 'image_id', 'deep_bid_type', 'ad_account_id', 'undefined!', 'undefined!', 'undefined!', 'undefined!', 'ad_account_id', 'undefined!', 'undefined!', 'inventory_type_INVENTORY_UNION_SPLASH_SLOT', 'undefined!', 'image_id', 'image_id', 'undefined!', 'undefined!', 'undefined!', 'image_id', 'hide_if_converted', 'cpa_bid', 'age_AGE_BETWEEN_18_23', 'image_id', 'undefined!', 'label_ids_0', 'cpa_bid', 'undefined!', 'undefined!', 'cpa_bid', 'undefined!', 'ad_account_id', 'image_id', 'undefined!', 'undefined!', 'image_id', 'ad_account_id', 'undefined!', 'undefined!', 'cpa_bid', 'label_ids_3', 'inventory_type_INVENTORY_UNION_SPLASH_SLOT', 'image_id', 'ad_account_id', 'image_id', 'undefined!', 'retargeting_type', 'adjust_cpa', 'image_id', 'image_id', 'undefined!', 'undefined!', 'undefined!', 'undefined!', 'undefined!', 'image_id', 'undefined!', 'retargeting_type', 'image_id', 'undefined!', 'image_id', 'undefined!', 'undefined!', 'undefined!', 'image_id', 'undefined!', 'ad_account_id', 'undefined!', 'undefined!', 'adjust_cpa', 'undefined!', 'image_id', 'undefined!', 'undefined!', 'undefined!', 'undefined!', 'undefined!', 'undefined!', 'undefined!', 'undefined!', 'image_id', 'image_id', 'ac_4G', 'undefined!', 'undefined!', 'undefined!', 'undefined!', 'cpa_bid', 'label_ids_3', 'cpa_bid', 'undefined!', 'undefined!', 'undefined!', 'undefined!', 'cpa_bid', 'label_ids_9', 'age_AGE_BETWEEN_18_23', 'undefined!', 'image_id', 'undefined!', 'undefined!', 'ad_account_id', 'undefined!', 'undefined!', 'deep_bid_type', 'inventory_type_INVENTORY_HOTSOON_FEED', 'label_ids_9', 'hide_if_converted', 'image_id', 'image_id', 'ad_account_id', 'cpa_bid', 'cpa_bid', 'retargeting_type', 'image_id', 'image_id', 'ad_account_id', 'undefined!', 'ad_account_id', 'label_ids_3', 'undefined!', 'undefined!', 'label_ids_2', 'retargeting_type', 'ad_account_id', 'image_id', 'undefined!', 'undefined!', 'undefined!', 'ad_account_id', 'undefined!', 'undefined!', 'undefined!', 'action_days', 'undefined!', 'undefined!', 'undefined!', 'ad_account_id', 'undefined!', 'undefined!', 'undefined!', 'retargeting_type', 'image_id', 'retargeting_type', 'undefined!', 'label_ids_3', 'ad_account_id', 'undefined!', 'undefined!', 'undefined!', 'label_ids_7', 'undefined!', 'retargeting_type', 'undefined!', 'image_id', 'ad_account_id', 'undefined!', 'undefined!', 'ad_account_id', 'undefined!', 'undefined!', 'undefined!', 'image_id', 'retargeting_type', 'interest_action_mode', 'undefined!', 'cpa_bid', 'undefined!', 'label_ids_7', 'cpa_bid', 'undefined!', 'undefined!', 'undefined!', 'label_ids_0', 'undefined!', 'ac_WIFI', 'undefined!', 'android_osv', 'undefined!', 'undefined!', 'ad_account_id', 'undefined!', 'image_id', 'undefined!', 'undefined!', 'interest_action_mode', 'undefined!', 'ad_account_id', 'undefined!', 'undefined!', 'undefined!', 'label_ids_3', 'undefined!', 'ad_account_id', 'undefined!', 'image_id', 'undefined!', 'undefined!', 'ad_account_id', 'undefined!', 'ad_account_id', 'cpa_bid', 'undefined!', 'undefined!', 'undefined!', 'undefined!', 'image_id', 'image_id', 'undefined!', 'label_ids_2', 'label_ids_0', 'ad_account_id', 'undefined!', 'undefined!', 'undefined!', 'action_days', 'image_id', 'undefined!', 'image_id', 'undefined!', 'undefined!', 'undefined!', 'undefined!', 'label_ids_2', 'image_id', 'gender', 'undefined!', 'image_id', 'undefined!', 'hide_if_exists', 'undefined!', 'undefined!', 'hide_if_exists', 'undefined!', 'undefined!', 'age_AGE_BETWEEN_18_23', 'undefined!', 'interest_action_mode', 'undefined!', 'undefined!', 'undefined!', 'ad_account_id', 'gender', 'undefined!', 'undefined!', 'android_osv', 'smart_bid_type', 'hide_if_converted', 'age_AGE_BETWEEN_41_49', 'undefined!', 'undefined!', 'undefined!', 'undefined!', 'ad_account_id', 'undefined!', 'ad_account_id', 'undefined!', 'cpa_bid', 'undefined!', 'undefined!', 'ad_account_id', 'ac_WIFI', 'undefined!', 'image_id', 'deep_bid_type', 'retargeting_type', 'image_id', 'undefined!', 'image_id', 'undefined!', 'image_id', 'label_ids_7', 'interest_action_mode', 'undefined!', 'undefined!', 'undefined!', 'label_ids_7', 'undefined!', 'undefined!', 'image_id', 'inventory_type_INVENTORY_FEED', 'undefined!', 'undefined!', 'undefined!', 'action_days', 'undefined!', 'label_ids_0', 'image_id', 'undefined!', 'undefined!', 'image_id', 'undefined!', 'image_id', 'undefined!', 'undefined!', 'undefined!', 'image_id', 'launch_price', 'image_id', 'undefined!', 'image_id', 'retargeting_type', 'undefined!', 'undefined!', 'undefined!', 'gender', 'undefined!', 'undefined!', 'action_days', 'undefined!', 'undefined!', 'image_id', 'budget', 'cpa_bid', 'retargeting_type', 'undefined!', 'cpa_bid', 'image_id', 'undefined!', 'undefined!', 'undefined!', 'undefined!', 'adjust_cpa', 'age_AGE_ABOVE_50', 'deep_bid_type', 'undefined!', 'ad_account_id', 'undefined!', 'image_id', 'undefined!', 'undefined!', 'image_id', 'ad_account_id', 'undefined!', 'undefined!', 'ad_account_id', 'inventory_type_INVENTORY_AWEME_FEED', 'image_id', 'cpa_bid', 'undefined!', 'ad_account_id', 'image_id', 'undefined!', 'ad_account_id', 'undefined!', 'undefined!', 'undefined!', 'undefined!', 'inventory_type_INVENTORY_HOTSOON_FEED', 'undefined!', 'action_days', 'undefined!', 'undefined!', 'image_id', 'undefined!', 'undefined!', 'game_id', 'flow_control_mode', 'location_type', 'interest_action_mode', 'undefined!', 'undefined!', 'action_days', 'ad_account_id', 'undefined!', 'age_AGE_BETWEEN_18_23', 'location_type', 'undefined!', 'undefined!', 'image_id', 'inventory_type_INVENTORY_FEED', 'cpa_bid', 'undefined!', 'undefined!', 'undefined!', 'undefined!', 'image_id', 'age_AGE_ABOVE_50', 'cpa_bid', 'undefined!', 'inventory_type_INVENTORY_HOTSOON_FEED', 'undefined!', 'label_ids_1', 'undefined!', 'budget', 'undefined!', 'undefined!', 'label_ids_1', 'undefined!', 'undefined!', 'undefined!', 'hide_if_exists', 'age_AGE_BETWEEN_24_30', 'undefined!', 'undefined!', 'undefined!', 'image_id', 'ad_account_id', 'undefined!', 'undefined!', 'undefined!', 'smart_bid_type', 'label_ids_7', 'undefined!', 'age_AGE_ABOVE_50', 'gender', 'undefined!', 'undefined!', 'undefined!', 'retargeting_type', 'cpa_bid', 'ad_account_id', 'undefined!', 'undefined!', 'image_id', 'image_id', 'inventory_type_INVENTORY_HOTSOON_FEED', 'ad_account_id', 'game_id', 'ad_account_id', 'undefined!', 'label_ids_9', 'budget', 'image_id', 'cpa_bid', 'inventory_type_INVENTORY_VIDEO_FEED', 'undefined!', 'hide_if_exists', 'undefined!', 'undefined!', 'inventory_type_INVENTORY_FEED', 'age_AGE_ABOVE_50', 'undefined!', 'undefined!', 'age_AGE_ABOVE_50', 'undefined!', 'undefined!', 'undefined!', 'undefined!', 'undefined!', 'undefined!', 'ac_WIFI', 'undefined!', 'image_id', 'undefined!', 'undefined!', 'undefined!', 'age_AGE_ABOVE_50', 'image_id', 'image_id', 'undefined!', 'undefined!', 'undefined!', 'cpa_bid', 'undefined!', 'image_id', 'cpa_bid', 'undefined!', 'undefined!', 'inventory_type_INVENTORY_FEED', 'ad_account_id', 'undefined!', 'undefined!', 'undefined!', 'undefined!', 'image_id', 'interest_action_mode', 'undefined!', 'undefined!', 'ad_account_id', 'ad_account_id', 'inventory_type_INVENTORY_FEED', 'image_id', 'label_ids_7', 'undefined!', 'undefined!', 'undefined!', 'image_id', 'cpa_bid', 'inventory_type_INVENTORY_UNION_SLOT', 'inventory_type_INVENTORY_AWEME_FEED', 'image_id', 'image_id', 'undefined!', 'undefined!', 'undefined!', 'undefined!', 'action_days', 'inventory_type_INVENTORY_UNION_SPLASH_SLOT', 'undefined!', 'undefined!', 'age_AGE_BETWEEN_41_49', 'undefined!', 'label_ids_3', 'undefined!', 'age_AGE_BETWEEN_18_23', 'launch_price', 'hide_if_exists', 'undefined!', 'undefined!', 'undefined!', 'undefined!', 'retargeting_type', 'undefined!', 'undefined!', 'age_AGE_BETWEEN_24_30', 'flow_control_mode', 'cpa_bid', 'launch_price', 'inventory_type_INVENTORY_VIDEO_FEED', 'interest_action_mode', 'ad_account_id', 'undefined!', 'hide_if_converted', 'undefined!', 'undefined!', 'undefined!', 'undefined!', 'inventory_type_INVENTORY_VIDEO_FEED', 'undefined!', 'undefined!', 'undefined!', 'label_ids_7', 'undefined!', 'undefined!', 'inventory_type_INVENTORY_VIDEO_FEED', 'image_id', 'image_id', 'interest_action_mode', 'image_id', 'budget', 'undefined!', 'ad_account_id', 'label_ids_2', 'inventory_type_INVENTORY_AWEME_FEED', 'undefined!', 'undefined!', 'undefined!', 'image_id', 'undefined!', 'undefined!', 'interest_action_mode', 'undefined!', 'label_ids_2', 'undefined!', 'undefined!', 'inventory_type_INVENTORY_AWEME_FEED', 'label_ids_2', 'undefined!', 'ac_WIFI', 'undefined!', 'undefined!', 'undefined!', 'interest_action_mode', 'undefined!', 'undefined!', 'undefined!', 'image_id', 'undefined!', 'image_id', 'ad_account_id', 'undefined!', 'launch_price', 'undefined!', 'undefined!', 'undefined!', 'budget', 'age_AGE_ABOVE_50', 'inventory_type_INVENTORY_FEED', 'image_id', 'undefined!', 'undefined!', 'undefined!', 'undefined!', 'inventory_type_INVENTORY_FEED', 'undefined!', 'inventory_type_INVENTORY_HOTSOON_FEED', 'undefined!', 'image_id', 'undefined!', 'ac_4G', 'image_id', 'undefined!', 'undefined!', 'undefined!', 'location_type', 'ad_account_id', 'undefined!', 'age_AGE_BETWEEN_41_49', 'ad_account_id', 'undefined!', 'undefined!', 'undefined!', 'undefined!', 'inventory_type_INVENTORY_AWEME_SEARCH', 'budget', 'image_id', 'ad_account_id', 'image_id', 'ad_account_id', 'undefined!', 'image_id', 'hide_if_converted', 'adjust_cpa', 'ad_account_id', 'undefined!', 'undefined!', 'undefined!', 'gender', 'undefined!', 'undefined!', 'inventory_type_INVENTORY_FEED', 'ad_account_id', 'image_id', 'undefined!', 'ad_account_id', 'undefined!', 'undefined!', 'undefined!', 'age_AGE_BETWEEN_18_23', 'retargeting_type', 'undefined!', 'label_ids_0', 'gender', 'undefined!', 'undefined!', 'budget', 'inventory_type_INVENTORY_UNION_SLOT', 'label_ids_1', 'undefined!', 'undefined!', 'undefined!', 'cpa_bid', 'undefined!', 'cpa_bid', 'undefined!', 'undefined!', 'image_id', 'cpa_bid', 'age_AGE_BETWEEN_41_49', 'undefined!', 'undefined!', 'undefined!', 'interest_action_mode', 'retargeting_type', 'inventory_type_INVENTORY_VIDEO_FEED', 'label_ids_,', 'image_id', 'undefined!', 'deep_bid_type', 'undefined!', 'undefined!', 'undefined!', 'undefined!', 'undefined!', 'undefined!', 'retargeting_type', 'game_id', 'budget', 'undefined!', 'adjust_cpa', 'inventory_type_INVENTORY_UNION_SLOT', 'location_type', 'inventory_type_INVENTORY_VIDEO_FEED', 'undefined!', 'undefined!', 'undefined!', 'undefined!', 'undefined!', 'undefined!', 'interest_action_mode', 'inventory_type_INVENTORY_HOTSOON_FEED', 'undefined!', 'undefined!', 'undefined!', 'retargeting_type', 'undefined!', 'image_id', 'undefined!', 'undefined!', 'ad_account_id', 'age_AGE_ABOVE_50', 'undefined!', 'ad_account_id', 'image_id', 'undefined!', 'undefined!', 'undefined!', 'cpa_bid', 'cpa_bid', 'undefined!', 'undefined!', 'age_AGE_BETWEEN_41_49', 'undefined!', 'retargeting_type', 'undefined!', 'budget', 'undefined!', 'undefined!', 'undefined!', 'undefined!', 'cpa_bid', 'undefined!', 'cpa_bid', 'undefined!', 'undefined!', 'image_id', 'cpa_bid', 'undefined!', 'ad_account_id', 'delivery_range', 'location_type', 'flow_control_mode', 'smart_bid_type', 'image_id', 'undefined!', 'undefined!', 'ad_account_id', 'ad_account_id', 'flow_control_mode', 'hide_if_converted', 'undefined!', 'retargeting_type', 'undefined!', 'budget', 'undefined!', 'undefined!', 'age_AGE_BETWEEN_24_30', 'hide_if_converted', 'image_id', 'undefined!', 'ac_4G', 'label_ids_3', 'undefined!', 'undefined!', 'undefined!', 'ad_account_id', 'budget', 'undefined!', 'undefined!', 'inventory_type_INVENTORY_FEED', 'interest_action_mode', 'image_id', 'ad_account_id', 'undefined!', 'image_id', 'undefined!', 'undefined!', 'undefined!', 'image_id', 'undefined!', 'undefined!', 'undefined!', 'cpa_bid', 'undefined!', 'label_ids_0', 'label_ids_,', 'interest_action_mode', 'undefined!', 'ac_WIFI', 'image_id', 'undefined!', 'undefined!', 'label_ids_2', 'undefined!', 'deep_bid_type', 'undefined!', 'image_id', 'undefined!', 'ad_account_id', 'undefined!', 'undefined!', 'ad_account_id', 'undefined!', 'undefined!', 'image_id', 'inventory_type_INVENTORY_UNION_SPLASH_SLOT', 'age_AGE_BETWEEN_41_49', 'label_ids_1', 'budget', 'undefined!', 'ad_account_id', 'undefined!', 'undefined!', 'undefined!', 'ad_account_id', 'hide_if_converted', 'inventory_type_INVENTORY_FEED', 'undefined!', 'image_id', 'undefined!', 'image_id', 'ad_account_id', 'image_id', 'undefined!', 'undefined!', 'image_id', 'undefined!', 'label_ids_1', 'undefined!', 'undefined!', 'retargeting_type', 'undefined!', 'ad_account_id', 'undefined!', 'undefined!', 'undefined!', 'ad_account_id', 'image_id', 'image_id', 'undefined!', 'deep_bid_type', 'undefined!', 'undefined!', 'undefined!', 'image_id', 'undefined!', 'action_days', 'hide_if_converted', 'undefined!', 'undefined!', 'ad_account_id', 'image_id', 'ad_account_id', 'gender', 'ac_WIFI', 'retargeting_type', 'undefined!', 'age_AGE_BETWEEN_18_23', 'undefined!', 'undefined!', 'undefined!', 'image_id', 'undefined!', 'undefined!', 'undefined!', 'ad_account_id', 'undefined!', 'retargeting_type', 'undefined!', 'hide_if_converted', 'undefined!', 'undefined!', 'undefined!', 'label_ids_3', 'age_AGE_BETWEEN_18_23', 'undefined!', 'undefined!', 'undefined!', 'ad_account_id', 'label_ids_1', 'undefined!', 'undefined!', 'undefined!', 'undefined!', 'age_AGE_ABOVE_50', 'image_id', 'launch_price', 'hide_if_converted', 'cpa_bid', 'deep_bid_type', 'undefined!', 'undefined!', 'undefined!', 'undefined!', 'launch_price', 'undefined!', 'undefined!', 'undefined!', 'cpa_bid', 'inventory_type_INVENTORY_AWEME_FEED', 'cpa_bid', 'image_id', 'cpa_bid', 'label_ids_1', 'undefined!', 'undefined!', 'undefined!', 'label_ids_9', 'undefined!', 'image_id', 'undefined!', 'ad_account_id', 'undefined!', 'ad_account_id', 'undefined!', 'undefined!', 'undefined!', 'label_ids_3', 'undefined!', 'retargeting_type', 'undefined!', 'undefined!', 'ad_account_id', 'image_id', 'interest_action_mode', 'undefined!', 'inventory_type_INVENTORY_HOTSOON_FEED', 'undefined!', 'image_id', 'image_id', 'undefined!', 'image_id', 'undefined!', 'undefined!', 'undefined!', 'ad_account_id', 'undefined!', 'gender', 'undefined!', 'image_id', 'undefined!', 'undefined!', 'undefined!', 'inventory_type_INVENTORY_UNION_SLOT', 'undefined!', 'undefined!', 'launch_price', 'ad_account_id', 'image_id', 'retargeting_type', 'undefined!', 'image_id', 'undefined!', 'undefined!', 'undefined!', 'undefined!', 'undefined!', 'age_AGE_BETWEEN_31_40', 'undefined!', 'undefined!', 'image_id', 'gender', 'hide_if_converted', 'cpa_bid', 'action_days', 'undefined!', 'undefined!', 'undefined!', 'age_AGE_ABOVE_50', 'undefined!', 'retargeting_type', 'undefined!', 'undefined!', 'retargeting_type', 'undefined!', 'undefined!', 'cpa_bid', 'inventory_type_INVENTORY_FEED', 'age_AGE_BETWEEN_18_23', 'undefined!', 'image_id', 'retargeting_type', 'cpa_bid', 'undefined!', 'image_id', 'undefined!', 'label_ids_,', 'undefined!', 'undefined!', 'undefined!', 'undefined!', 'cpa_bid', 'launch_price', 'location_type', 'undefined!', 'cpa_bid', 'undefined!', 'ac_4G', 'age_AGE_ABOVE_50', 'gender', 'ad_account_id', 'label_ids_2', 'undefined!', 'undefined!', 'undefined!', 'undefined!', 'undefined!', 'label_ids_1', 'gender', 'age_AGE_BETWEEN_31_40', 'image_id', 'undefined!', 'undefined!', 'undefined!', 'image_id', 'image_id', 'action_days', 'undefined!', 'undefined!', 'image_id', 'undefined!', 'age_AGE_BETWEEN_18_23', 'image_id', 'interest_action_mode', 'ad_account_id', 'undefined!', 'undefined!', 'undefined!', 'ad_account_id', 'undefined!', 'undefined!', 'undefined!', 'undefined!', 'undefined!', 'undefined!', 'undefined!', 'label_ids_9', 'location_type', 'ad_account_id', 'undefined!', 'inventory_type_INVENTORY_AWEME_FEED', 'label_ids_1', 'image_id', 'undefined!', 'undefined!', 'undefined!', 'interest_action_mode', 'auto_extend_enabled', 'undefined!', 'undefined!', 'undefined!', 'inventory_type_INVENTORY_HOTSOON_FEED', 'undefined!', 'undefined!', 'ad_account_id', 'undefined!', 'inventory_type_UNION_BOUTIQUE_GAME', 'cpa_bid', 'cpa_bid', 'undefined!', 'ad_account_id', 'undefined!', 'undefined!', 'undefined!', 'undefined!', 'ad_account_id', 'image_id', 'age_AGE_ABOVE_50', 'label_ids_,', 'ad_account_id', 'cpa_bid', 'label_ids_0', 'location_type', 'undefined!', 'age_AGE_BETWEEN_41_49', 'retargeting_type', 'image_id', 'budget', 'image_id', 'undefined!', 'ad_account_id', 'undefined!', 'undefined!', 'undefined!', 'undefined!', 'undefined!', 'ad_account_id', 'hide_if_converted', 'interest_action_mode', 'undefined!', 'undefined!', 'undefined!', 'image_id', 'undefined!', 'undefined!', 'ac_4G', 'gender', 'undefined!', 'undefined!', 'flow_control_mode', 'age_AGE_BETWEEN_41_49', 'age_AGE_BETWEEN_24_30', 'hide_if_exists', 'inventory_type_INVENTORY_VIDEO_FEED', 'launch_price', 'undefined!', 'undefined!', 'undefined!', 'undefined!', 'undefined!', 'interest_action_mode', 'undefined!', 'flow_control_mode', 'undefined!', 'undefined!', 'inventory_type_INVENTORY_VIDEO_FEED', 'undefined!', 'undefined!', 'label_ids_7', 'adjust_cpa', 'image_id', 'age_AGE_BETWEEN_31_40', 'inventory_type_INVENTORY_VIDEO_FEED', 'image_id', 'image_id', 'undefined!', 'undefined!', 'undefined!', 'hide_if_exists', 'flow_control_mode', 'location_type', 'undefined!', 'undefined!', 'undefined!', 'undefined!', 'inventory_type_INVENTORY_UNION_SLOT', 'cpa_bid', 'undefined!', 'interest_action_mode', 'hide_if_converted', 'undefined!', 'undefined!', 'gender', 'launch_price', 'ad_account_id', 'deep_bid_type', 'ad_account_id', 'undefined!', 'hide_if_converted', 'undefined!', 'undefined!', 'undefined!', 'undefined!', 'deep_bid_type', 'undefined!', 'cpa_bid', 'undefined!', 'undefined!', 'game_id', 'undefined!', 'ad_account_id', 'undefined!', 'hide_if_converted', 'cpa_bid', 'undefined!', 'undefined!', 'undefined!', 'launch_price', 'hide_if_exists', 'undefined!', 'undefined!', 'undefined!', 'image_id', 'gender', 'retargeting_type', 'deep_bid_type', 'ad_account_id', 'ad_account_id', 'undefined!', 'undefined!', 'hide_if_converted', 'image_id', 'undefined!', 'label_ids_3', 'undefined!', 'undefined!', 'age_AGE_BETWEEN_18_23', 'interest_action_mode', 'image_id', 'undefined!', 'undefined!', 'undefined!', 'undefined!', 'undefined!', 'undefined!', 'ad_account_id', 'undefined!', 'hide_if_converted', 'undefined!', 'undefined!', 'gender', 'undefined!', 'undefined!', 'undefined!', 'location_type', 'image_id', 'flow_control_mode', 'budget', 'launch_price', 'undefined!', 'image_id', 'undefined!', 'undefined!', 'age_AGE_BETWEEN_41_49', 'image_id', 'undefined!', 'hide_if_converted', 'hide_if_converted', 'undefined!', 'launch_price', 'retargeting_type', 'undefined!', 'retargeting_type', 'undefined!', 'ad_account_id', 'undefined!', 'undefined!', 'undefined!', 'undefined!', 'undefined!', 'location_type', 'undefined!', 'undefined!', 'ac_WIFI', 'inventory_type_INVENTORY_VIDEO_FEED', 'gender', 'launch_price', 'age_AGE_BETWEEN_24_30', 'cpa_bid', 'undefined!', 'undefined!', 'image_id', 'interest_action_mode', 'undefined!', 'image_id', 'undefined!', 'age_AGE_BETWEEN_41_49', 'undefined!', 'ad_account_id', 'undefined!', 'undefined!', 'retargeting_type', 'age_AGE_BETWEEN_18_23', 'retargeting_type', 'undefined!', 'undefined!', 'undefined!', 'undefined!', 'image_id', 'age_AGE_BETWEEN_41_49', 'image_id', 'image_id', 'undefined!', 'age_AGE_BETWEEN_18_23', 'undefined!', 'undefined!', 'undefined!', 'undefined!', 'undefined!', 'undefined!', 'undefined!', 'image_id', 'image_id', 'image_id', 'launch_price', 'undefined!', 'undefined!', 'smart_bid_type', 'ad_account_id', 'undefined!', 'undefined!', 'action_days', 'age_AGE_BETWEEN_18_23', 'inventory_type_INVENTORY_FEED', 'undefined!', 'undefined!', 'undefined!', 'age_AGE_BETWEEN_18_23', 'undefined!', 'ad_account_id', 'undefined!', 'undefined!', 'inventory_type_INVENTORY_FEED', 'deep_bid_type', 'android_osv', 'hide_if_converted', 'ad_account_id', 'hide_if_converted', 'age_AGE_BETWEEN_24_30', 'launch_price', 'undefined!', 'ad_account_id', 'undefined!', 'undefined!', 'ad_account_id', 'undefined!', 'undefined!', 'undefined!', 'undefined!', 'gender', 'retargeting_type', 'undefined!', 'undefined!', 'undefined!', 'undefined!', 'undefined!', 'age_AGE_BETWEEN_41_49', 'undefined!', 'launch_price', 'ad_account_id', 'cpa_bid', 'age_AGE_BETWEEN_18_23', 'image_id', 'hide_if_converted', 'undefined!', 'interest_action_mode', 'undefined!', 'undefined!', 'deep_bid_type', 'undefined!', 'ad_account_id', 'undefined!', 'undefined!', 'undefined!', 'undefined!', 'gender', 'ad_account_id', 'undefined!', 'image_id', 'interest_action_mode', 'undefined!', 'undefined!', 'undefined!', 'image_id', 'undefined!', 'undefined!', 'inventory_type_INVENTORY_UNION_SLOT', 'undefined!', 'undefined!', 'ad_account_id', 'inventory_type_INVENTORY_FEED', 'undefined!', 'deep_bid_type', 'undefined!', 'image_id', 'image_id', 'undefined!', 'image_id', 'ad_account_id', 'undefined!', 'undefined!', 'ad_account_id', 'undefined!', 'undefined!', 'undefined!', 'hide_if_exists', 'gender', 'interest_action_mode', 'undefined!', 'inventory_type_INVENTORY_HOTSOON_FEED', 'hide_if_converted', 'ad_account_id', 'ad_account_id', 'undefined!', 'undefined!', 'image_id', 'image_id', 'undefined!', 'ad_account_id', 'undefined!', 'deep_bid_type', 'undefined!', 'undefined!', 'undefined!', 'undefined!', 'retargeting_type', 'hide_if_converted', 'undefined!', 'ad_account_id', 'undefined!', 'undefined!', 'undefined!', 'retargeting_type', 'undefined!', 'inventory_type_INVENTORY_HOTSOON_FEED', 'interest_action_mode', 'ad_account_id', 'undefined!', 'action_days', 'image_id', 'undefined!', 'cpa_bid', 'undefined!', 'undefined!', 'undefined!', 'undefined!', 'undefined!', 'retargeting_type', 'inventory_type_INVENTORY_UNION_SPLASH_SLOT', 'undefined!', 'undefined!', 'undefined!', 'retargeting_type', 'undefined!', 'image_id', 'undefined!', 'image_id', 'undefined!', 'image_id', 'undefined!', 'undefined!', 'action_days', 'undefined!', 'cpa_bid', 'inventory_type_INVENTORY_VIDEO_FEED', 'image_id', 'image_id', 'undefined!', 'deep_bid_type', 'undefined!', 'launch_price', 'gender', 'image_id', 'label_ids_2', 'ac_WIFI', 'undefined!', 'cpa_bid', 'undefined!', 'undefined!', 'undefined!', 'undefined!', 'undefined!', 'undefined!', 'launch_price', 'undefined!', 'label_ids_7', 'undefined!', 'image_id', 'undefined!', 'undefined!', 'label_ids_0', 'image_id', 'undefined!', 'auto_extend_enabled', 'cpa_bid', 'undefined!', 'undefined!', 'undefined!', 'undefined!', 'retargeting_type', 'ad_account_id', 'undefined!', 'cpa_bid', 'undefined!', 'undefined!', 'undefined!', 'gender', 'undefined!', 'hide_if_converted', 'inventory_type_INVENTORY_AWEME_FEED', 'undefined!', 'undefined!', 'undefined!', 'hide_if_converted', 'hide_if_converted', 'undefined!', 'image_id', 'undefined!', 'image_id', 'undefined!', 'ad_account_id', 'undefined!', 'undefined!', 'image_id', 'image_id', 'inventory_type_INVENTORY_AWEME_FEED', 'image_id', 'undefined!', 'action_days', 'ad_account_id', 'undefined!', 'undefined!', 'ad_account_id', 'ad_account_id', 'undefined!', 'undefined!', 'undefined!', 'undefined!', 'undefined!', 'image_id', 'game_id', 'undefined!', 'image_id', 'undefined!', 'image_id', 'ad_account_id', 'undefined!', 'retargeting_type', 'undefined!', 'inventory_type_INVENTORY_FEED', 'undefined!', 'undefined!', 'ad_account_id', 'image_id', 'ad_account_id', 'undefined!', 'undefined!', 'image_id', 'undefined!', 'launch_price', 'undefined!', 'undefined!', 'label_ids_2', 'inventory_type_INVENTORY_FEED', 'undefined!', 'undefined!', 'image_id', 'retargeting_type', 'undefined!', 'undefined!', 'image_id', 'ad_account_id', 'undefined!', 'undefined!', 'deep_bid_type', 'ac_WIFI', 'image_id', 'cpa_bid', 'undefined!', 'undefined!', 'undefined!', 'cpa_bid', 'ad_account_id', 'retargeting_type', 'undefined!', 'inventory_type_INVENTORY_AWEME_FEED', 'undefined!', 'undefined!', 'undefined!', 'inventory_type_INVENTORY_AWEME_FEED', 'undefined!', 'undefined!', 'cpa_bid', 'gender', 'undefined!', 'ad_account_id', 'launch_price', 'ac_4G', 'undefined!', 'undefined!', 'undefined!', 'launch_price', 'undefined!', 'undefined!', 'inventory_type_INVENTORY_FEED', 'undefined!', 'retargeting_type', 'ad_account_id', 'undefined!', 'undefined!', 'undefined!', 'image_id', 'undefined!', 'inventory_type_INVENTORY_FEED', 'cpa_bid', 'image_id', 'ad_account_id', 'image_id', 'undefined!', 'undefined!', 'undefined!', 'label_ids_1', 'undefined!', 'cpa_bid', 'undefined!', 'ad_account_id', 'undefined!', 'image_id', 'undefined!', 'retargeting_type', 'label_ids_7', 'undefined!', 'undefined!', 'image_id', 'undefined!', 'undefined!', 'image_id', 'image_id', 'undefined!', 'launch_price', 'undefined!', 'undefined!', 'undefined!', 'label_ids_3', 'launch_price', 'ac_4G', 'ad_account_id', 'undefined!', 'image_id', 'deep_bid_type', 'undefined!', 'undefined!', 'undefined!', 'cpa_bid', 'ad_account_id', 'undefined!', 'ad_account_id', 'image_id', 'cpa_bid', 'undefined!', 'cpa_bid', 'undefined!', 'undefined!', 'image_id', 'undefined!', 'retargeting_type', 'image_id', 'undefined!', 'gender', 'image_id', 'ad_account_id', 'undefined!', 'cpa_bid', 'undefined!', 'label_ids_2', 'undefined!', 'undefined!', 'ad_account_id', 'undefined!', 'cpa_bid', 'undefined!', 'undefined!', 'undefined!', 'cpa_bid', 'label_ids_4', 'label_ids_7', 'undefined!', 'image_id', 'undefined!', 'image_id', 'ad_account_id', 'undefined!', 'image_id', 'undefined!', 'undefined!', 'ad_account_id', 'undefined!', 'undefined!', 'undefined!', 'undefined!', 'undefined!', 'inventory_type_INVENTORY_VIDEO_FEED', 'undefined!', 'inventory_type_INVENTORY_UNION_SLOT', 'undefined!', 'ad_account_id', 'undefined!', 'undefined!', 'ac_4G', 'undefined!', 'ad_account_id', 'image_id', 'undefined!', 'cpa_bid', 'image_id', 'undefined!', 'undefined!', 'undefined!', 'undefined!', 'undefined!', 'location_type', 'interest_action_mode', 'undefined!', 'undefined!', 'ad_account_id', 'image_id', 'hide_if_converted', 'label_ids_0', 'undefined!', 'cpa_bid', 'deep_bid_type', 'image_id', 'undefined!', 'image_id', 'ad_account_id', 'undefined!', 'undefined!', 'undefined!', 'label_ids_3', 'age_AGE_BETWEEN_18_23', 'image_id', 'ad_account_id', 'undefined!', 'ad_account_id', 'undefined!', 'undefined!', 'undefined!', 'undefined!', 'undefined!', 'undefined!', 'ad_account_id', 'ad_account_id', 'undefined!', 'undefined!', 'label_ids_7', 'undefined!', 'retargeting_type', 'undefined!', 'ac_4G', 'age_AGE_BETWEEN_18_23', 'interest_action_mode', 'undefined!', 'undefined!', 'undefined!', 'undefined!', 'undefined!', 'image_id', 'label_ids_2', 'undefined!', 'inventory_type_INVENTORY_VIDEO_FEED', 'cpa_bid', 'cpa_bid', 'undefined!', 'undefined!', 'game_id', 'label_ids_7', 'undefined!', 'cpa_bid', 'undefined!', 'undefined!', 'gender', 'ac_4G', 'cpa_bid', 'age_AGE_BETWEEN_24_30', 'undefined!', 'undefined!', 'undefined!', 'undefined!', 'image_id', 'cpa_bid', 'retargeting_type', 'age_AGE_BETWEEN_18_23', 'ac_WIFI', 'undefined!', 'undefined!', 'undefined!', 'cpa_bid', 'launch_price', 'ad_account_id', 'undefined!', 'undefined!', 'undefined!', 'undefined!', 'undefined!', 'undefined!', 'cpa_bid', 'interest_action_mode', 'age_AGE_BETWEEN_18_23', 'ad_account_id', 'label_ids_7', 'undefined!', 'undefined!', 'undefined!', 'undefined!', 'label_ids_1', 'undefined!', 'auto_extend_enabled', 'undefined!', 'cpa_bid', 'ad_account_id', 'undefined!', 'undefined!', 'undefined!', 'undefined!', 'age_AGE_BETWEEN_24_30', 'undefined!', 'ad_account_id', 'image_id', 'ad_account_id', 'undefined!', 'undefined!', 'image_id', 'gender', 'inventory_type_INVENTORY_AWEME_FEED', 'label_ids_7', 'undefined!', 'cpa_bid', 'undefined!', 'undefined!', 'undefined!', 'label_ids_7', 'undefined!', 'undefined!', 'undefined!', 'undefined!', 'gender', 'undefined!', 'retargeting_type', 'image_id', 'undefined!', 'ad_account_id', 'undefined!', 'undefined!', 'retargeting_type', 'image_id', 'ad_account_id', 'label_ids_,', 'undefined!', 'hide_if_converted', 'undefined!', 'undefined!', 'label_ids_7', 'undefined!', 'cpa_bid', 'inventory_type_UNION_BOUTIQUE_GAME', 'undefined!', 'image_id', 'undefined!', 'undefined!', 'image_id', 'inventory_type_INVENTORY_FEED', 'undefined!', 'undefined!', 'undefined!', 'undefined!', 'hide_if_converted', 'ad_account_id', 'action_days', 'inventory_type_INVENTORY_VIDEO_FEED', 'undefined!', 'age_AGE_BETWEEN_31_40', 'undefined!', 'undefined!', 'undefined!', 'undefined!', 'undefined!', 'cpa_bid', 'label_ids_1', 'undefined!', 'ac_4G', 'image_id', 'cpa_bid', 'undefined!', 'undefined!', 'undefined!', 'undefined!', 'image_id', 'undefined!', 'retargeting_type', 'cpa_bid', 'age_AGE_ABOVE_50', 'image_id', 'label_ids_7', 'undefined!', 'age_AGE_BETWEEN_18_23', 'undefined!', 'undefined!', 'undefined!', 'undefined!', 'image_id', 'budget', 'age_AGE_BETWEEN_31_40', 'inventory_type_INVENTORY_UNION_SPLASH_SLOT', 'undefined!', 'undefined!', 'image_id', 'undefined!', 'inventory_type_INVENTORY_VIDEO_FEED', 'undefined!', 'image_id', 'undefined!', 'undefined!', 'inventory_type_INVENTORY_AWEME_SEARCH', 'age_AGE_BETWEEN_18_23', 'image_id', 'image_id', 'cpa_bid', 'hide_if_converted', 'cpa_bid', 'budget', 'undefined!', 'undefined!', 'label_ids_3', 'undefined!', 'adjust_cpa', 'undefined!', 'image_id', 'undefined!', 'undefined!', 'game_id', 'undefined!', 'inventory_type_INVENTORY_UNION_SPLASH_SLOT', 'ad_account_id', 'age_AGE_BETWEEN_41_49', 'cpa_bid', 'undefined!', 'ad_account_id', 'age_AGE_BETWEEN_24_30', 'undefined!', 'undefined!', 'undefined!', 'launch_price', 'undefined!', 'undefined!', 'cpa_bid', 'undefined!', 'cpa_bid', 'undefined!', 'undefined!', 'undefined!', 'cpa_bid', 'inventory_type_INVENTORY_HOTSOON_FEED', 'undefined!', 'undefined!', 'image_id', 'image_id', 'gender', 'undefined!', 'undefined!', 'undefined!', 'undefined!', 'image_id', 'inventory_type_INVENTORY_UNION_SLOT', 'label_ids_2', 'ad_account_id', 'undefined!', 'undefined!', 'undefined!', 'undefined!', 'interest_action_mode', 'image_id', 'undefined!', 'hide_if_converted', 'undefined!', 'undefined!', 'undefined!', 'undefined!', 'undefined!', 'age_AGE_BETWEEN_41_49', 'undefined!', 'undefined!', 'ad_account_id', 'hide_if_exists', 'age_AGE_ABOVE_50', 'interest_action_mode', 'undefined!', 'launch_price', 'cpa_bid', 'undefined!', 'inventory_type_INVENTORY_UNION_SLOT', 'ad_account_id', 'undefined!', 'image_id', 'ac_4G', 'undefined!', 'undefined!', 'undefined!', 'undefined!', 'undefined!', 'undefined!', 'undefined!', 'image_id', 'smart_bid_type', 'ad_account_id', 'undefined!', 'undefined!', 'ad_account_id', 'undefined!', 'hide_if_converted', 'cpa_bid', 'undefined!', 'label_ids_9', 'gender', 'undefined!', 'undefined!', 'undefined!', 'gender', 'undefined!', 'inventory_type_INVENTORY_UNION_SLOT', 'undefined!', 'cpa_bid', 'undefined!', 'undefined!', 'age_AGE_ABOVE_50', 'undefined!', 'undefined!', 'deep_bid_type', 'hide_if_converted', 'inventory_type_INVENTORY_AWEME_SEARCH', 'ad_account_id', 'ad_account_id', 'image_id', 'cpa_bid', 'undefined!', 'cpa_bid', 'undefined!', 'undefined!', 'inventory_type_INVENTORY_UNION_SPLASH_SLOT', 'undefined!', 'image_id', 'undefined!', 'image_id', 'cpa_bid', 'undefined!', 'undefined!', 'undefined!', 'image_id', 'undefined!', 'image_id', 'inventory_type_INVENTORY_FEED', 'undefined!', 'undefined!', 'undefined!', 'undefined!', 'inventory_type_INVENTORY_VIDEO_FEED', 'undefined!', 'undefined!', 'inventory_type_INVENTORY_VIDEO_FEED', 'undefined!', 'undefined!', 'label_ids_2', 'age_AGE_ABOVE_50', 'image_id', 'undefined!', 'inventory_type_INVENTORY_UNION_SLOT', 'undefined!', 'undefined!', 'image_id', 'undefined!', 'location_type', 'undefined!', 'cpa_bid', 'undefined!', 'undefined!', 'cpa_bid', 'ad_account_id', 'image_id', 'inventory_type_INVENTORY_FEED', 'undefined!', 'image_id', 'image_id', 'cpa_bid', 'cpa_bid', 'adjust_cpa', 'cpa_bid', 'image_id', 'undefined!', 'image_id', 'undefined!', 'cpa_bid', 'hide_if_converted', 'image_id', 'undefined!', 'undefined!', 'undefined!', 'undefined!', 'undefined!', 'cpa_bid', 'cpa_bid', 'undefined!', 'undefined!', 'label_ids_,', 'ad_account_id', 'image_id', 'undefined!', 'image_id', 'undefined!', 'undefined!', 'undefined!', 'hide_if_converted', 'undefined!', 'undefined!', 'undefined!', 'undefined!', 'gender', 'retargeting_type', 'cpa_bid', 'undefined!', 'undefined!', 'undefined!', 'undefined!', 'undefined!', 'ad_account_id', 'undefined!', 'undefined!', 'undefined!', 'undefined!', 'game_id', 'budget', 'image_id', 'auto_extend_enabled', 'location_type', 'retargeting_type', 'undefined!', 'undefined!', 'flow_control_mode', 'inventory_type_INVENTORY_VIDEO_FEED', 'undefined!', 'ac_WIFI', 'undefined!', 'undefined!', 'undefined!', 'inventory_type_INVENTORY_UNION_SLOT', 'label_ids_1', 'undefined!', 'undefined!', 'undefined!', 'ad_account_id', 'image_id', 'gender', 'image_id', 'cpa_bid', 'undefined!', 'cpa_bid', 'inventory_type_INVENTORY_FEED', 'undefined!', 'cpa_bid', 'undefined!', 'hide_if_converted', 'label_ids_-', 'undefined!', 'undefined!', 'label_ids_,', 'undefined!', 'undefined!', 'undefined!', 'undefined!', 'undefined!', 'image_id', 'image_id', 'hide_if_converted', 'cpa_bid', 'undefined!', 'interest_action_mode', 'deep_bid_type', 'image_id', 'undefined!', 'undefined!', 'undefined!', 'cpa_bid', 'undefined!', 'image_id', 'undefined!', 'age_AGE_BETWEEN_18_23', 'undefined!', 'undefined!', 'cpa_bid', 'cpa_bid', 'undefined!', 'undefined!', 'undefined!', 'undefined!', 'cpa_bid', 'ad_account_id', 'undefined!', 'undefined!', 'undefined!', 'undefined!', 'game_id', 'undefined!', 'undefined!', 'budget', 'undefined!', 'label_ids_,', 'deep_bid_type', 'cpa_bid', 'cpa_bid', 'ad_account_id', 'cpa_bid', 'undefined!', 'label_ids_2', 'undefined!', 'label_ids_1', 'image_id', 'interest_action_mode', 'undefined!', 'image_id', 'undefined!', 'hide_if_converted', 'undefined!', 'image_id', 'image_id', 'undefined!', 'image_id', 'image_id', 'label_ids_0', 'undefined!', 'undefined!', 'undefined!', 'image_id', 'retargeting_type', 'undefined!', 'undefined!', 'age_AGE_BETWEEN_18_23', 'undefined!', 'image_id', 'undefined!', 'undefined!', 'undefined!', 'hide_if_converted', 'undefined!', 'cpa_bid', 'undefined!', 'undefined!', 'action_days', 'undefined!', 'undefined!', 'hide_if_converted', 'retargeting_type', 'location_type', 'inventory_type_INVENTORY_HOTSOON_FEED', 'label_ids_1', 'image_id', 'undefined!', 'image_id', 'undefined!', 'undefined!', 'ad_account_id', 'hide_if_converted', 'image_id', 'image_id', 'android_osv', 'label_ids_7', 'undefined!', 'undefined!', 'undefined!', 'undefined!', 'undefined!', 'undefined!', 'cpa_bid', 'undefined!', 'ad_account_id', 'undefined!', 'undefined!', 'image_id', 'undefined!', 'undefined!', 'undefined!', 'hide_if_exists', 'image_id', 'interest_action_mode', 'ad_account_id', 'undefined!', 'age_AGE_BETWEEN_41_49', 'undefined!', 'ad_account_id', 'image_id', 'undefined!', 'undefined!', 'undefined!', 'cpa_bid', 'undefined!', 'ad_account_id', 'age_AGE_BETWEEN_41_49', 'undefined!', 'undefined!', 'undefined!', 'image_id', 'cpa_bid', 'undefined!', 'undefined!', 'undefined!', 'launch_price', 'undefined!', 'undefined!', 'ad_account_id', 'cpa_bid', 'label_ids_3', 'label_ids_9', 'undefined!', 'undefined!', 'undefined!', 'image_id', 'undefined!', 'image_id', 'undefined!', 'image_id', 'age_AGE_BETWEEN_31_40', 'ad_account_id', 'undefined!', 'undefined!', 'undefined!', 'undefined!', 'cpa_bid', 'undefined!', 'label_ids_-', 'undefined!', 'ad_account_id', 'undefined!', 'undefined!', 'undefined!', 'gender', 'label_ids_2', 'cpa_bid', 'cpa_bid', 'image_id', 'undefined!', 'ad_account_id', 'undefined!', 'undefined!', 'undefined!', 'budget', 'ad_account_id', 'undefined!', 'undefined!', 'label_ids_5', 'adjust_cpa', 'deep_bid_type', 'undefined!', 'ad_account_id', 'undefined!', 'ad_account_id', 'label_ids_3', 'undefined!', 'undefined!', 'undefined!', 'age_AGE_BETWEEN_18_23', 'undefined!', 'undefined!', 'cpa_bid', 'undefined!', 'ad_account_id', 'undefined!', 'undefined!', 'ad_account_id', 'budget', 'deep_bid_type', 'undefined!', 'image_id', 'undefined!', 'undefined!', 'inventory_type_INVENTORY_UNION_SPLASH_SLOT', 'undefined!', 'undefined!', 'ad_account_id', 'image_id', 'undefined!', 'cpa_bid', 'undefined!', 'undefined!', 'image_id', 'ad_account_id', 'image_id', 'ad_account_id', 'label_ids_0', 'undefined!', 'cpa_bid', 'cpa_bid', 'cpa_bid', 'image_id', 'undefined!', 'cpa_bid', 'undefined!', 'undefined!', 'undefined!', 'undefined!', 'cpa_bid', 'undefined!', 'undefined!', 'action_days', 'label_ids_1', 'undefined!', 'image_id', 'flow_control_mode', 'undefined!', 'undefined!', 'ad_account_id', 'cpa_bid', 'undefined!', 'undefined!', 'undefined!', 'auto_extend_enabled', 'cpa_bid', 'budget', 'undefined!', 'undefined!', 'ad_account_id', 'cpa_bid', 'undefined!', 'image_id', 'image_id', 'undefined!', 'undefined!', 'undefined!', 'ad_account_id', 'inventory_type_INVENTORY_VIDEO_FEED', 'undefined!', 'undefined!', 'undefined!', 'image_id', 'undefined!', 'deep_bid_type', 'undefined!', 'undefined!', 'ad_account_id', 'cpa_bid', 'undefined!', 'undefined!', 'undefined!', 'cpa_bid', 'cpa_bid', 'undefined!', 'undefined!', 'undefined!', 'undefined!', 'ad_account_id', 'ad_account_id', 'age_AGE_BETWEEN_18_23', 'interest_action_mode', 'cpa_bid', 'undefined!', 'ad_account_id', 'hide_if_converted', 'undefined!', 'undefined!', 'undefined!', 'undefined!', 'image_id', 'cpa_bid', 'undefined!', 'android_osv', 'undefined!', 'undefined!', 'undefined!', 'interest_action_mode', 'undefined!', 'retargeting_type', 'inventory_type_INVENTORY_VIDEO_FEED', 'undefined!', 'ad_account_id', 'label_ids_0', 'undefined!', 'image_id', 'undefined!', 'undefined!', 'undefined!', 'label_ids_1', 'image_id', 'undefined!', 'label_ids_7', 'undefined!', 'undefined!', 'undefined!', 'retargeting_type', 'ad_account_id', 'ad_account_id', 'undefined!', 'age_AGE_BETWEEN_31_40', 'undefined!', 'undefined!', 'undefined!', 'hide_if_converted', 'cpa_bid', 'image_id', 'undefined!', 'image_id', 'undefined!', 'label_ids_2', 'undefined!', 'image_id', 'undefined!', 'undefined!', 'ad_account_id', 'undefined!', 'ad_account_id', 'undefined!', 'undefined!', 'undefined!', 'image_id', 'inventory_type_INVENTORY_AWEME_FEED', 'undefined!', 'inventory_type_INVENTORY_FEED', 'ad_account_id', 'undefined!', 'label_ids_3', 'undefined!', 'undefined!', 'age_AGE_BETWEEN_31_40', 'retargeting_type', 'inventory_type_INVENTORY_UNION_SPLASH_SLOT', 'undefined!', 'retargeting_type', 'undefined!', 'undefined!', 'budget', 'undefined!', 'undefined!', 'image_id', 'ad_account_id', 'gender', 'undefined!', 'cpa_bid', 'image_id', 'undefined!', 'label_ids_1', 'undefined!', 'undefined!', 'undefined!', 'image_id', 'undefined!', 'undefined!', 'label_ids_7', 'undefined!', 'ad_account_id', 'undefined!', 'image_id', 'undefined!', 'undefined!', 'cpa_bid', 'ad_account_id', 'inventory_type_INVENTORY_AWEME_FEED', 'cpa_bid', 'label_ids_2', 'undefined!', 'retargeting_type', 'undefined!', 'undefined!', 'cpa_bid', 'image_id', 'age_AGE_BETWEEN_18_23', 'undefined!', 'undefined!', 'cpa_bid', 'cpa_bid', 'label_ids_7', 'undefined!', 'cpa_bid', 'undefined!', 'undefined!', 'undefined!', 'undefined!', 'undefined!', 'label_ids_9', 'undefined!', 'inventory_type_INVENTORY_UNION_SLOT', 'undefined!', 'undefined!', 'label_ids_3', 'undefined!', 'cpa_bid', 'undefined!', 'image_id', 'undefined!', 'undefined!', 'label_ids_7', 'undefined!', 'undefined!', 'image_id', 'age_AGE_BETWEEN_31_40', 'android_osv', 'inventory_type_INVENTORY_FEED', 'undefined!', 'undefined!', 'undefined!', 'undefined!', 'cpa_bid', 'cpa_bid', 'budget', 'cpa_bid', 'ad_account_id', 'label_ids_4', 'location_type', 'undefined!', 'undefined!', 'undefined!', 'gender', 'undefined!', 'ad_account_id', 'undefined!', 'hide_if_converted', 'undefined!', 'undefined!', 'undefined!', 'undefined!', 'gender', 'budget', 'ad_account_id', 'undefined!', 'ad_account_id', 'android_osv', 'label_ids_7', 'undefined!', 'undefined!', 'label_ids_9', 'undefined!', 'cpa_bid', 'undefined!', 'undefined!', 'undefined!', 'cpa_bid', 'undefined!', 'undefined!', 'ad_account_id', 'cpa_bid', 'cpa_bid', 'age_AGE_BETWEEN_18_23', 'android_osv', 'undefined!', 'cpa_bid', 'ac_4G', 'undefined!', 'undefined!', 'cpa_bid', 'undefined!', 'cpa_bid', 'undefined!', 'inventory_type_INVENTORY_HOTSOON_FEED', 'ad_account_id', 'undefined!', 'label_ids_9', 'undefined!', 'undefined!', 'ad_account_id', 'hide_if_converted', 'undefined!', 'undefined!', 'undefined!', 'undefined!', 'undefined!', 'undefined!', 'undefined!', 'ad_account_id', 'budget', 'undefined!', 'budget', 'undefined!', 'undefined!', 'undefined!', 'image_id', 'image_id', 'gender', 'inventory_type_INVENTORY_UNION_SLOT', 'undefined!', 'location_type', 'inventory_type_INVENTORY_UNION_SPLASH_SLOT', 'ac_WIFI', 'image_id', 'undefined!', 'inventory_type_INVENTORY_VIDEO_FEED', 'ad_account_id', 'undefined!', 'undefined!', 'undefined!', 'image_id', 'undefined!', 'undefined!', 'label_ids_7', 'android_osv', 'label_ids_1', 'undefined!', 'undefined!', 'undefined!', 'interest_action_mode', 'undefined!', 'undefined!', 'retargeting_type', 'undefined!', 'undefined!', 'budget', 'ad_account_id', 'undefined!', 'undefined!', 'undefined!', 'cpa_bid', 'cpa_bid', 'undefined!', 'undefined!', 'ad_account_id', 'image_id', 'undefined!', 'undefined!', 'image_id', 'cpa_bid', 'image_id', 'inventory_type_INVENTORY_UNION_SLOT', 'undefined!', 'age_AGE_BETWEEN_31_40', 'undefined!', 'ad_account_id', 'undefined!', 'undefined!', 'undefined!', 'ad_account_id', 'undefined!', 'label_ids_7', 'undefined!', 'age_AGE_BETWEEN_24_30', 'ad_account_id', 'undefined!', 'undefined!', 'undefined!', 'label_ids_7', 'undefined!', 'inventory_type_INVENTORY_UNION_SLOT', 'undefined!', 'undefined!', 'image_id', 'undefined!', 'undefined!', 'cpa_bid', 'ad_account_id', 'cpa_bid', 'launch_price', 'budget', 'hide_if_converted', 'cpa_bid', 'image_id', 'image_id', 'budget', 'hide_if_converted', 'label_ids_9', 'undefined!', 'age_AGE_ABOVE_50', 'undefined!', 'undefined!', 'budget', 'image_id', 'image_id', 'ad_account_id', 'inventory_type_INVENTORY_VIDEO_FEED', 'undefined!', 'age_AGE_BETWEEN_41_49', 'image_id', 'label_ids_0', 'undefined!', 'undefined!', 'undefined!', 'undefined!', 'image_id', 'age_AGE_ABOVE_50', 'age_AGE_BETWEEN_18_23', 'undefined!', 'interest_action_mode', 'undefined!', 'image_id', 'undefined!', 'cpa_bid', 'undefined!', 'undefined!', 'cpa_bid', 'undefined!', 'ad_account_id', 'undefined!', 'undefined!', 'cpa_bid', 'undefined!', 'undefined!', 'age_AGE_BETWEEN_18_23', 'undefined!', 'cpa_bid', 'undefined!', 'undefined!', 'ac_4G', 'action_days', 'label_ids_-', 'ad_account_id', 'undefined!', 'cpa_bid', 'age_AGE_BETWEEN_41_49', 'undefined!', 'undefined!', 'undefined!', 'undefined!', 'undefined!', 'undefined!', 'cpa_bid', 'cpa_bid', 'image_id', 'image_id', 'undefined!', 'image_id', 'undefined!', 'image_id', 'undefined!', 'age_AGE_BETWEEN_41_49', 'undefined!', 'undefined!', 'undefined!', 'undefined!', 'undefined!', 'image_id', 'undefined!', 'undefined!', 'ac_WIFI', 'undefined!', 'undefined!', 'cpa_bid', 'undefined!', 'cpa_bid', 'cpa_bid', 'undefined!', 'undefined!', 'image_id', 'ad_account_id', 'label_ids_6', 'undefined!', 'undefined!', 'image_id', 'ad_account_id', 'retargeting_type', 'undefined!', 'budget', 'image_id', 'undefined!', 'image_id', 'undefined!', 'image_id', 'image_id', 'undefined!', 'undefined!', 'undefined!', 'image_id', 'label_ids_7', 'undefined!', 'undefined!', 'cpa_bid', 'undefined!', 'adjust_cpa', 'undefined!', 'undefined!', 'launch_price', 'undefined!', 'image_id', 'undefined!', 'adjust_cpa', 'undefined!', 'undefined!', 'image_id', 'undefined!', 'gender', 'undefined!', 'image_id', 'undefined!', 'undefined!', 'image_id', 'undefined!', 'undefined!', 'label_ids_6', 'cpa_bid', 'image_id', 'undefined!', 'undefined!', 'image_id', 'adjust_cpa', 'hide_if_converted', 'game_id', 'undefined!', 'cpa_bid', 'undefined!', 'cpa_bid', 'undefined!', 'undefined!', 'undefined!', 'label_ids_-', 'image_id', 'undefined!', 'deep_bid_type', 'undefined!', 'image_id', 'undefined!', 'cpa_bid', 'image_id', 'image_id', 'undefined!', 'undefined!', 'undefined!', 'interest_action_mode', 'retargeting_type', 'undefined!', 'undefined!', 'undefined!', 'undefined!', 'label_ids_7', 'cpa_bid', 'cpa_bid', 'label_ids_9', 'inventory_type_INVENTORY_FEED', 'image_id', 'undefined!', 'undefined!', 'undefined!', 'cpa_bid', 'undefined!', 'cpa_bid', 'undefined!', 'undefined!', 'undefined!', 'game_id', 'flow_control_mode', 'interest_action_mode', 'label_ids_1', 'image_id', 'undefined!', 'undefined!', 'undefined!', 'undefined!', 'retargeting_type', 'undefined!', 'hide_if_converted', 'ad_account_id', 'undefined!', 'ac_WIFI', 'undefined!', 'undefined!', 'undefined!', 'cpa_bid', 'undefined!', 'undefined!', 'age_AGE_ABOVE_50', 'ad_account_id', 'image_id', 'android_osv', 'cpa_bid', 'interest_action_mode', 'undefined!', 'image_id', 'undefined!', 'hide_if_converted', 'ad_account_id', 'undefined!', 'undefined!', 'undefined!', 'undefined!', 'undefined!', 'retargeting_type', 'undefined!', 'ad_account_id', 'undefined!', 'cpa_bid', 'cpa_bid', 'undefined!', 'undefined!', 'undefined!', 'cpa_bid', 'cpa_bid', 'undefined!', 'undefined!', 'hide_if_converted', 'ad_account_id', 'ac_WIFI', 'undefined!', 'image_id', 'undefined!', 'undefined!', 'undefined!', 'undefined!', 'game_id', 'cpa_bid', 'cpa_bid', 'undefined!', 'undefined!', 'undefined!', 'undefined!', 'launch_price', 'undefined!', 'undefined!', 'label_ids_9', 'undefined!', 'undefined!', 'android_osv', 'image_id', 'image_id', 'image_id', 'interest_action_mode', 'undefined!', 'undefined!', 'undefined!', 'inventory_type_INVENTORY_VIDEO_FEED', 'undefined!', 'ac_4G', 'undefined!', 'interest_action_mode', 'action_days', 'ad_account_id', 'undefined!', 'label_ids_,', 'inventory_type_INVENTORY_UNION_SLOT', 'retargeting_type', 'undefined!', 'deep_bid_type', 'image_id', 'undefined!', 'undefined!', 'undefined!', 'image_id', 'retargeting_type', 'undefined!', 'undefined!', 'undefined!', 'inventory_type_INVENTORY_UNION_SLOT', 'adjust_cpa', 'undefined!', 'undefined!', 'undefined!', 'undefined!', 'undefined!', 'undefined!', 'image_id', 'undefined!', 'label_ids_0', 'undefined!', 'undefined!', 'ac_4G', 'interest_action_mode', 'image_id', 'undefined!', 'image_id', 'undefined!', 'undefined!', 'cpa_bid', 'ad_account_id', 'undefined!', 'undefined!', 'undefined!', 'undefined!', 'undefined!', 'hide_if_converted', 'auto_extend_enabled', 'budget', 'ad_account_id', 'ad_account_id', 'location_type', 'cpa_bid', 'ad_account_id', 'undefined!', 'undefined!', 'undefined!', 'android_osv', 'cpa_bid', 'launch_price', 'undefined!', 'label_ids_8', 'undefined!', 'undefined!', 'label_ids_7', 'undefined!', 'image_id', 'undefined!', 'undefined!', 'image_id', 'age_AGE_BETWEEN_24_30', 'label_ids_1', 'image_id', 'undefined!', 'image_id', 'undefined!', 'image_id', 'undefined!', 'ac_4G', 'undefined!', 'undefined!', 'undefined!', 'undefined!', 'ad_account_id', 'undefined!', 'image_id', 'undefined!', 'undefined!', 'label_ids_0', 'undefined!', 'image_id', 'cpa_bid', 'undefined!', 'age_AGE_BETWEEN_31_40', 'undefined!', 'cpa_bid', 'undefined!', 'undefined!', 'cpa_bid', 'label_ids_2', 'undefined!', 'undefined!', 'undefined!', 'cpa_bid', 'image_id', 'cpa_bid', 'image_id', 'inventory_type_INVENTORY_UNION_SLOT', 'undefined!', 'undefined!', 'ad_account_id', 'image_id', 'cpa_bid', 'undefined!', 'undefined!', 'undefined!', 'image_id', 'image_id', 'undefined!', 'undefined!', 'undefined!', 'gender', 'android_osv', 'image_id', 'undefined!', 'ad_account_id', 'undefined!', 'undefined!', 'cpa_bid', 'image_id', 'undefined!', 'undefined!', 'retargeting_type', 'undefined!', 'image_id', 'cpa_bid', 'undefined!', 'undefined!', 'undefined!', 'undefined!', 'undefined!', 'interest_action_mode', 'cpa_bid', 'gender', 'cpa_bid', 'undefined!', 'label_ids_1', 'undefined!', 'undefined!', 'undefined!', 'undefined!', 'undefined!', 'ac_4G', 'image_id', 'undefined!', 'image_id', 'undefined!', 'undefined!', 'undefined!', 'undefined!', 'budget', 'image_id', 'undefined!', 'undefined!', 'ad_account_id', 'budget', 'budget', 'image_id', 'location_type', 'retargeting_type', 'undefined!', 'undefined!', 'image_id', 'cpa_bid', 'ad_account_id', 'undefined!', 'age_AGE_BETWEEN_41_49', 'undefined!', 'undefined!', 'cpa_bid', 'image_id', 'undefined!', 'undefined!', 'undefined!', 'smart_bid_type', 'image_id', 'undefined!', 'undefined!', 'ad_account_id', 'image_id', 'undefined!', 'cpa_bid', 'image_id', 'auto_extend_enabled', 'undefined!', 'undefined!', 'undefined!', 'undefined!', 'undefined!', 'image_id', 'ad_account_id', 'undefined!', 'flow_control_mode', 'undefined!', 'age_AGE_BETWEEN_18_23', 'undefined!', 'ad_account_id', 'undefined!', 'undefined!', 'inventory_type_INVENTORY_HOTSOON_FEED', 'cpa_bid', 'android_osv', 'ad_account_id', 'image_id', 'image_id', 'undefined!', 'ad_account_id', 'undefined!', 'image_id', 'retargeting_type', 'ad_account_id', 'undefined!', 'undefined!', 'undefined!', 'undefined!', 'image_id', 'undefined!', 'image_id', 'image_id', 'hide_if_converted', 'ad_account_id', 'undefined!', 'undefined!', 'undefined!', 'undefined!', 'inventory_type_INVENTORY_FEED', 'undefined!', 'undefined!', 'ad_account_id', 'image_id', 'deep_bid_type', 'undefined!', 'cpa_bid', 'undefined!', 'undefined!', 'android_osv', 'undefined!', 'retargeting_type', 'label_ids_4', 'undefined!', 'undefined!', 'undefined!', 'label_ids_9', 'undefined!', 'image_id', 'undefined!', 'retargeting_type', 'undefined!', 'undefined!', 'ac_WIFI', 'inventory_type_INVENTORY_AWEME_FEED', 'ad_account_id', 'label_ids_1', 'image_id', 'cpa_bid', 'undefined!', 'undefined!', 'undefined!', 'undefined!', 'undefined!', 'undefined!', 'inventory_type_INVENTORY_FEED', 'undefined!', 'undefined!', 'launch_price', 'cpa_bid', 'undefined!', 'cpa_bid', 'undefined!', 'cpa_bid', 'image_id', 'ad_account_id', 'age_AGE_BETWEEN_18_23', 'undefined!', 'ac_WIFI', 'image_id', 'undefined!', 'undefined!', 'cpa_bid', 'undefined!', 'label_ids_0', 'ad_account_id', 'undefined!', 'undefined!', 'undefined!', 'gender', 'undefined!', 'undefined!', 'undefined!', 'label_ids_0', 'ac_WIFI', 'ad_account_id', 'undefined!', 'label_ids_7', 'undefined!', 'image_id', 'undefined!', 'undefined!', 'undefined!', 'action_days', 'undefined!', 'image_id', 'undefined!', 'ad_account_id', 'retargeting_type', 'undefined!', 'ad_account_id', 'undefined!', 'undefined!', 'undefined!', 'undefined!', 'image_id', 'undefined!', 'image_id', 'ad_account_id', 'undefined!', 'undefined!', 'undefined!', 'age_AGE_BETWEEN_41_49', 'undefined!', 'undefined!', 'undefined!', 'cpa_bid', 'image_id', 'image_id', 'undefined!', 'ad_account_id', 'undefined!', 'hide_if_converted', 'undefined!', 'undefined!', 'undefined!', 'cpa_bid', 'undefined!', 'image_id', 'undefined!', 'undefined!', 'undefined!', 'game_id', 'budget', 'ad_account_id', 'label_ids_2', 'image_id', 'deep_bid_type', 'adjust_cpa', 'undefined!', 'undefined!', 'image_id', 'action_days', 'launch_price', 'label_ids_1', 'smart_bid_type', 'undefined!', 'undefined!', 'undefined!', 'image_id', 'cpa_bid', 'undefined!', 'inventory_type_INVENTORY_VIDEO_FEED', 'undefined!', 'undefined!', 'cpa_bid', 'undefined!', 'undefined!', 'undefined!', 'hide_if_converted', 'undefined!', 'undefined!', 'ad_account_id', 'flow_control_mode', 'image_id', 'undefined!', 'interest_action_mode', 'undefined!', 'undefined!', 'inventory_type_INVENTORY_VIDEO_FEED', 'cpa_bid', 'undefined!', 'image_id', 'undefined!', 'undefined!', 'undefined!', 'undefined!', 'image_id', 'interest_action_mode', 'label_ids_4', 'ac_WIFI', 'undefined!', 'hide_if_converted', 'cpa_bid', 'age_AGE_BETWEEN_41_49', 'undefined!', 'image_id', 'game_id', 'undefined!', 'cpa_bid', 'undefined!', 'undefined!', 'undefined!', 'undefined!', 'adjust_cpa', 'image_id', 'undefined!', 'inventory_type_INVENTORY_UNION_SLOT', 'cpa_bid', 'undefined!', 'inventory_type_INVENTORY_VIDEO_FEED', 'undefined!', 'image_id', 'undefined!', 'undefined!', 'undefined!', 'cpa_bid', 'undefined!', 'undefined!', 'undefined!', 'image_id', 'retargeting_type', 'android_osv', 'undefined!', 'undefined!', 'undefined!', 'inventory_type_INVENTORY_FEED', 'image_id', 'undefined!', 'image_id', 'undefined!', 'label_ids_,', 'undefined!', 'undefined!', 'inventory_type_UNION_BOUTIQUE_GAME', 'deep_bid_type', 'hide_if_converted', 'deep_bid_type', 'undefined!', 'undefined!', 'cpa_bid', 'cpa_bid', 'undefined!', 'ac_4G', 'ad_account_id', 'undefined!', 'age_AGE_BETWEEN_31_40', 'undefined!', 'hide_if_converted', 'undefined!', 'undefined!', 'image_id', 'retargeting_type', 'undefined!', 'undefined!', 'undefined!', 'undefined!', 'undefined!', 'age_AGE_BETWEEN_31_40', 'undefined!', 'undefined!', 'undefined!', 'cpa_bid', 'budget', 'cpa_bid', 'image_id', 'auto_extend_enabled', 'inventory_type_INVENTORY_AWEME_FEED', 'cpa_bid', 'ad_account_id', 'undefined!', 'age_AGE_BETWEEN_18_23', 'undefined!', 'age_AGE_ABOVE_50', 'undefined!', 'undefined!', 'image_id', 'undefined!', 'undefined!', 'ad_account_id', 'undefined!', 'hide_if_converted', 'cpa_bid', 'undefined!', 'cpa_bid', 'ad_account_id', 'undefined!', 'interest_action_mode', 'undefined!', 'ac_4G', 'undefined!', 'undefined!', 'ad_account_id', 'ad_account_id', 'undefined!', 'cpa_bid', 'undefined!', 'image_id', 'label_ids_2', 'undefined!', 'image_id', 'undefined!', 'image_id', 'undefined!', 'undefined!', 'undefined!', 'hide_if_converted', 'flow_control_mode', 'image_id', 'inventory_type_INVENTORY_HOTSOON_FEED', 'undefined!', 'image_id', 'undefined!', 'cpa_bid', 'undefined!', 'undefined!', 'image_id', 'undefined!', 'cpa_bid', 'undefined!', 'retargeting_type', 'undefined!', 'undefined!', 'image_id', 'undefined!', 'image_id', 'undefined!', 'ad_account_id', 'hide_if_exists', 'interest_action_mode', 'undefined!', 'label_ids_0', 'ad_account_id', 'undefined!', 'inventory_type_INVENTORY_HOTSOON_FEED', 'age_AGE_BETWEEN_31_40', 'undefined!', 'undefined!', 'undefined!', 'undefined!', 'undefined!', 'undefined!', 'label_ids_3', 'undefined!', 'gender', 'undefined!', 'undefined!', 'cpa_bid', 'age_AGE_ABOVE_50', 'cpa_bid', 'ac_4G', 'undefined!', 'undefined!', 'undefined!', 'undefined!', 'image_id', 'undefined!', 'label_ids_7', 'undefined!', 'undefined!', 'undefined!', 'age_AGE_ABOVE_50', 'undefined!', 'undefined!', 'undefined!', 'age_AGE_BETWEEN_24_30', 'retargeting_type', 'inventory_type_INVENTORY_UNION_SPLASH_SLOT', 'undefined!', 'undefined!', 'undefined!', 'image_id', 'undefined!', 'ad_account_id', 'image_id', 'undefined!', 'undefined!', 'cpa_bid', 'undefined!', 'label_ids_1', 'cpa_bid', 'undefined!', 'image_id', 'undefined!', 'retargeting_type', 'cpa_bid', 'undefined!', 'undefined!', 'cpa_bid', 'ad_account_id', 'undefined!', 'undefined!', 'undefined!', 'cpa_bid', 'undefined!', 'cpa_bid', 'undefined!', 'undefined!', 'image_id', 'label_ids_7', 'cpa_bid', 'age_AGE_ABOVE_50', 'undefined!', 'undefined!', 'budget', 'launch_price', 'budget', 'image_id', 'cpa_bid', 'hide_if_converted', 'gender', 'deep_bid_type', 'undefined!', 'ad_account_id', 'image_id', 'undefined!', 'undefined!', 'undefined!', 'undefined!', 'cpa_bid', 'ad_account_id', 'image_id', 'label_ids_-', 'undefined!', 'inventory_type_INVENTORY_HOTSOON_FEED', 'undefined!', 'inventory_type_INVENTORY_UNION_SPLASH_SLOT', 'undefined!', 'undefined!', 'image_id', 'inventory_type_INVENTORY_UNION_SPLASH_SLOT', 'gender', 'inventory_type_INVENTORY_UNION_SLOT', 'inventory_type_INVENTORY_VIDEO_FEED', 'undefined!', 'adjust_cpa', 'cpa_bid', 'undefined!', 'inventory_type_INVENTORY_HOTSOON_FEED', 'undefined!', 'undefined!', 'undefined!', 'undefined!', 'undefined!', 'undefined!', 'inventory_type_INVENTORY_VIDEO_FEED', 'age_AGE_BETWEEN_18_23', 'label_ids_3', 'ad_account_id', 'undefined!', 'label_ids_0', 'undefined!', 'undefined!', 'android_osv', 'image_id', 'undefined!', 'undefined!', 'undefined!', 'undefined!', 'undefined!', 'undefined!', 'inventory_type_INVENTORY_UNION_SLOT', 'undefined!', 'image_id', 'undefined!', 'image_id', 'undefined!', 'undefined!', 'image_id', 'age_AGE_BETWEEN_41_49', 'undefined!', 'interest_action_mode', 'undefined!', 'cpa_bid', 'undefined!', 'undefined!', 'flow_control_mode', 'ad_account_id', 'undefined!', 'undefined!', 'game_id', 'image_id', 'undefined!', 'undefined!', 'cpa_bid', 'undefined!', 'cpa_bid', 'undefined!', 'undefined!', 'cpa_bid', 'cpa_bid', 'age_AGE_ABOVE_50', 'inventory_type_INVENTORY_VIDEO_FEED', 'undefined!', 'undefined!', 'undefined!', 'undefined!', 'undefined!', 'image_id', 'undefined!', 'image_id', 'age_AGE_BETWEEN_41_49', 'hide_if_converted', 'age_AGE_BETWEEN_24_30', 'launch_price', 'undefined!', 'undefined!', 'undefined!', 'cpa_bid', 'inventory_type_INVENTORY_UNION_SLOT', 'undefined!', 'ad_account_id', 'undefined!', 'label_ids_0', 'undefined!', 'interest_action_mode', 'undefined!', 'undefined!', 'undefined!', 'inventory_type_INVENTORY_AWEME_FEED', 'cpa_bid', 'undefined!', 'retargeting_type', 'undefined!', 'cpa_bid', 'label_ids_0', 'undefined!', 'undefined!', 'undefined!', 'auto_extend_enabled', 'deep_bid_type', 'cpa_bid', 'undefined!', 'cpa_bid', 'undefined!', 'undefined!', 'undefined!', 'cpa_bid', 'undefined!', 'undefined!', 'ad_account_id', 'deep_bid_type', 'undefined!', 'label_ids_9', 'undefined!', 'age_AGE_BETWEEN_18_23', 'inventory_type_INVENTORY_UNION_SLOT', 'undefined!', 'undefined!', 'undefined!', 'ad_account_id', 'ad_account_id', 'ad_account_id', 'undefined!', 'label_ids_9', 'undefined!', 'retargeting_type', 'undefined!', 'undefined!', 'label_ids_1', 'age_AGE_BETWEEN_41_49', 'undefined!', 'location_type', 'undefined!', 'image_id', 'cpa_bid', 'undefined!', 'undefined!', 'undefined!', 'undefined!', 'android_osv', 'launch_price', 'age_AGE_ABOVE_50', 'undefined!', 'label_ids_,', 'undefined!', 'undefined!', 'ad_account_id', 'undefined!', 'undefined!', 'cpa_bid', 'cpa_bid', 'inventory_type_INVENTORY_UNION_SPLASH_SLOT', 'undefined!', 'undefined!', 'ac_4G', 'undefined!', 'age_AGE_BETWEEN_24_30', 'undefined!', 'undefined!', 'cpa_bid', 'undefined!', 'label_ids_0', 'undefined!', 'undefined!', 'deep_bid_type', 'undefined!', 'image_id', 'undefined!', 'undefined!', 'undefined!', 'android_osv', 'interest_action_mode', 'cpa_bid', 'ad_account_id', 'launch_price', 'undefined!', 'age_AGE_BETWEEN_31_40', 'undefined!', 'undefined!', 'undefined!', 'cpa_bid', 'undefined!', 'cpa_bid', 'undefined!', 'undefined!', 'ad_account_id', 'undefined!', 'cpa_bid', 'ad_account_id', 'undefined!', 'undefined!', 'undefined!', 'cpa_bid', 'deep_bid_type', 'age_AGE_ABOVE_50', 'image_id', 'ad_account_id', 'image_id', 'undefined!', 'image_id', 'undefined!', 'undefined!', 'undefined!', 'age_AGE_BETWEEN_18_23', 'undefined!', 'undefined!', 'undefined!', 'flow_control_mode', 'undefined!', 'interest_action_mode', 'undefined!', 'age_AGE_ABOVE_50', 'undefined!', 'retargeting_type', 'undefined!', 'undefined!', 'cpa_bid', 'flow_control_mode', 'inventory_type_INVENTORY_HOTSOON_FEED', 'undefined!', 'undefined!', 'ad_account_id', 'image_id', 'undefined!', 'age_AGE_BETWEEN_31_40', 'undefined!', 'undefined!', 'undefined!', 'undefined!', 'image_id', 'cpa_bid', 'cpa_bid', 'ad_account_id', 'retargeting_type', 'undefined!', 'undefined!', 'image_id', 'image_id', 'cpa_bid', 'gender', 'ad_account_id', 'label_ids_9', 'undefined!', 'undefined!', 'cpa_bid', 'cpa_bid', 'location_type', 'undefined!', 'label_ids_,', 'hide_if_exists', 'image_id', 'undefined!', 'cpa_bid', 'undefined!', 'undefined!', 'image_id', 'undefined!', 'undefined!', 'cpa_bid', 'undefined!', 'undefined!', 'undefined!', 'interest_action_mode', 'undefined!', 'undefined!', 'undefined!', 'hide_if_converted', 'inventory_type_INVENTORY_UNION_SPLASH_SLOT', 'deep_bid_type', 'ad_account_id', 'undefined!', 'deep_bid_type', 'undefined!', 'label_ids_3', 'undefined!', 'undefined!', 'image_id', 'undefined!', 'cpa_bid', 'label_ids_1', 'undefined!', 'undefined!', 'action_days', 'undefined!', 'undefined!', 'gender', 'undefined!', 'undefined!', 'cpa_bid', 'label_ids_7', 'image_id', 'image_id', 'image_id', 'cpa_bid', 'cpa_bid', 'undefined!', 'label_ids_9', 'ad_account_id', 'interest_action_mode', 'undefined!', 'undefined!', 'undefined!', 'undefined!', 'undefined!', 'cpa_bid', 'undefined!', 'undefined!', 'undefined!', 'undefined!', 'age_AGE_ABOVE_50', 'ad_account_id', 'image_id', 'undefined!', 'undefined!', 'undefined!', 'ad_account_id', 'undefined!', 'ad_account_id', 'undefined!', 'undefined!', 'inventory_type_INVENTORY_HOTSOON_FEED', 'undefined!', 'undefined!', 'interest_action_mode', 'undefined!', 'location_type', 'label_ids_9', 'undefined!', 'hide_if_converted', 'undefined!', 'undefined!', 'undefined!', 'budget', 'cpa_bid', 'undefined!', 'image_id', 'undefined!', 'undefined!', 'undefined!', 'image_id', 'image_id', 'age_AGE_BETWEEN_41_49', 'undefined!', 'cpa_bid', 'cpa_bid', 'image_id', 'undefined!', 'image_id', 'undefined!', 'undefined!', 'age_AGE_BETWEEN_24_30', 'interest_action_mode', 'undefined!', 'undefined!', 'retargeting_type', 'undefined!', 'ad_account_id', 'cpa_bid', 'undefined!', 'undefined!', 'undefined!', 'undefined!', 'retargeting_type', 'age_AGE_BETWEEN_24_30', 'cpa_bid', 'undefined!', 'undefined!', 'undefined!', 'undefined!', 'undefined!', 'gender', 'undefined!', 'image_id', 'undefined!', 'undefined!', 'cpa_bid', 'inventory_type_INVENTORY_VIDEO_FEED', 'label_ids_,', 'cpa_bid', 'cpa_bid', 'undefined!', 'undefined!', 'undefined!', 'cpa_bid', 'undefined!', 'undefined!', 'undefined!', 'age_AGE_BETWEEN_18_23', 'image_id', 'ad_account_id', 'cpa_bid', 'undefined!', 'age_AGE_BETWEEN_31_40', 'cpa_bid', 'undefined!', 'undefined!', 'undefined!', 'image_id', 'image_id', 'flow_control_mode', 'ad_account_id', 'location_type', 'undefined!', 'undefined!', 'undefined!', 'deep_bid_type', 'undefined!', 'undefined!', 'label_ids_3', 'image_id', 'undefined!', 'gender', 'undefined!', 'undefined!', 'ad_account_id', 'undefined!', 'hide_if_converted', 'undefined!', 'undefined!', 'age_AGE_ABOVE_50', 'undefined!', 'undefined!', 'undefined!', 'ad_account_id', 'label_ids_1', 'undefined!', 'undefined!', 'undefined!', 'budget', 'image_id', 'age_AGE_BETWEEN_18_23', 'undefined!', 'undefined!', 'label_ids_0', 'location_type', 'image_id', 'gender', 'inventory_type_INVENTORY_AWEME_FEED', 'ad_account_id', 'undefined!', 'undefined!', 'budget', 'budget', 'game_id', 'undefined!', 'game_id', 'undefined!', 'undefined!', 'undefined!', 'hide_if_exists', 'undefined!', 'deep_bid_type', 'location_type', 'undefined!', 'undefined!', 'undefined!', 'cpa_bid', 'undefined!', 'undefined!', 'label_ids_6', 'age_AGE_BETWEEN_18_23', 'inventory_type_INVENTORY_UNION_SPLASH_SLOT', 'undefined!', 'image_id', 'image_id', 'undefined!', 'undefined!', 'undefined!', 'image_id', 'undefined!', 'undefined!', 'launch_price', 'interest_action_mode', 'undefined!', 'undefined!', 'undefined!', 'image_id', 'retargeting_type', 'ac_4G', 'undefined!', 'label_ids_2', 'inventory_type_INVENTORY_UNION_SLOT', 'undefined!', 'undefined!', 'undefined!', 'undefined!', 'undefined!', 'image_id', 'undefined!', 'ad_account_id', 'inventory_type_INVENTORY_UNION_SPLASH_SLOT', 'cpa_bid', 'undefined!', 'retargeting_type', 'image_id', 'undefined!', 'undefined!', 'undefined!', 'launch_price', 'image_id', 'undefined!', 'retargeting_type', 'undefined!', 'image_id', 'image_id', 'age_AGE_BETWEEN_41_49', 'undefined!', 'undefined!', 'undefined!', 'undefined!', 'undefined!', 'inventory_type_INVENTORY_FEED', 'deep_bid_type', 'undefined!', 'undefined!', 'cpa_bid', 'undefined!', 'cpa_bid', 'undefined!', 'undefined!', 'hide_if_converted', 'ad_account_id', 'budget', 'cpa_bid', 'undefined!', 'undefined!', 'undefined!', 'inventory_type_INVENTORY_FEED', 'location_type', 'undefined!', 'cpa_bid', 'undefined!', 'image_id', 'cpa_bid', 'undefined!', 'ad_account_id', 'undefined!', 'ad_account_id', 'undefined!', 'undefined!', 'image_id', 'ad_account_id', 'action_days', 'undefined!', 'image_id', 'undefined!', 'undefined!', 'cpa_bid', 'undefined!', 'image_id', 'undefined!', 'image_id', 'undefined!', 'undefined!', 'cpa_bid', 'undefined!', 'undefined!', 'inventory_type_UNION_BOUTIQUE_GAME', 'image_id', 'auto_extend_enabled', 'cpa_bid', 'undefined!', 'cpa_bid', 'image_id', 'undefined!', 'undefined!', 'interest_action_mode', 'inventory_type_INVENTORY_UNION_SPLASH_SLOT', 'undefined!', 'cpa_bid', 'game_id', 'undefined!', 'undefined!', 'undefined!', 'undefined!', 'image_id', 'undefined!', 'undefined!', 'flow_control_mode', 'undefined!', 'image_id', 'cpa_bid', 'interest_action_mode', 'undefined!', 'undefined!', 'label_ids_2', 'image_id', 'age_AGE_BETWEEN_31_40', 'undefined!', 'cpa_bid', 'undefined!', 'image_id', 'cpa_bid', 'undefined!', 'android_osv', 'undefined!', 'inventory_type_INVENTORY_UNION_SPLASH_SLOT', 'budget', 'undefined!', 'image_id', 'undefined!', 'image_id', 'undefined!', 'undefined!', 'undefined!', 'cpa_bid', 'undefined!', 'image_id', 'label_ids_6', 'undefined!', 'undefined!', 'undefined!', 'retargeting_type', 'undefined!', 'undefined!', 'game_id', 'deep_bid_type', 'undefined!', 'android_osv', 'undefined!', 'label_ids_0', 'retargeting_type', 'undefined!', 'image_id', 'undefined!', 'image_id', 'undefined!', 'inventory_type_INVENTORY_UNION_SLOT', 'undefined!', 'undefined!', 'undefined!', 'image_id', 'undefined!', 'undefined!', 'cpa_bid', 'cpa_bid', 'undefined!', 'undefined!', 'undefined!', 'undefined!', 'delivery_range', 'budget', 'cpa_bid', 'label_ids_6', 'image_id', 'age_AGE_BETWEEN_41_49', 'undefined!', 'undefined!', 'retargeting_type', 'flow_control_mode', 'cpa_bid', 'undefined!', 'undefined!', 'ad_account_id', 'undefined!', 'ad_account_id', 'undefined!', 'image_id', 'age_AGE_BETWEEN_31_40', 'cpa_bid', 'undefined!', 'cpa_bid', 'undefined!', 'undefined!', 'cpa_bid', 'ad_account_id', 'undefined!', 'undefined!', 'age_AGE_BETWEEN_18_23', 'undefined!', 'cpa_bid', 'label_ids_3', 'undefined!', 'age_AGE_BETWEEN_41_49', 'undefined!', 'undefined!', 'image_id', 'undefined!', 'undefined!', 'cpa_bid', 'android_osv', 'undefined!', 'undefined!', 'undefined!', 'undefined!', 'image_id', 'undefined!', 'undefined!', 'cpa_bid', 'label_ids_1', 'undefined!', 'adjust_cpa', 'undefined!', 'budget', 'undefined!', 'image_id', 'inventory_type_INVENTORY_VIDEO_FEED', 'undefined!', 'label_ids_3', 'undefined!', 'image_id', 'undefined!', 'image_id', 'undefined!', 'undefined!', 'undefined!', 'ad_account_id', 'interest_action_mode', 'label_ids_,', 'cpa_bid', 'cpa_bid', 'image_id', 'undefined!', 'image_id', 'undefined!', 'undefined!', 'label_ids_7', 'deep_bid_type', 'budget', 'undefined!', 'undefined!', 'cpa_bid', 'retargeting_type', 'undefined!', 'hide_if_exists', 'undefined!', 'image_id', 'undefined!', 'age_AGE_BETWEEN_41_49', 'undefined!', 'undefined!', 'cpa_bid', 'undefined!', 'undefined!', 'ad_account_id', 'image_id', 'undefined!', 'undefined!', 'undefined!', 'cpa_bid', 'undefined!', 'undefined!', 'inventory_type_INVENTORY_AWEME_FEED', 'undefined!', 'undefined!', 'undefined!', 'ac_WIFI', 'undefined!', 'undefined!', 'flow_control_mode', 'undefined!', 'undefined!', 'label_ids_1', 'undefined!', 'undefined!', 'game_id', 'cpa_bid', 'image_id', 'ad_account_id', 'cpa_bid', 'undefined!', 'undefined!', 'undefined!', 'age_AGE_ABOVE_50', 'cpa_bid', 'undefined!', 'age_AGE_BETWEEN_31_40', 'image_id', 'label_ids_9', 'budget', 'undefined!', 'image_id', 'image_id', 'undefined!', 'undefined!', 'undefined!', 'undefined!', 'label_ids_9', 'inventory_type_INVENTORY_HOTSOON_FEED', 'undefined!', 'image_id', 'undefined!', 'undefined!', 'undefined!', 'deep_bid_type', 'image_id', 'interest_action_mode', 'label_ids_0', 'undefined!', 'cpa_bid', 'image_id', 'undefined!', 'undefined!', 'ad_account_id', 'cpa_bid', 'image_id', 'undefined!', 'undefined!', 'undefined!', 'undefined!', 'ac_WIFI', 'undefined!', 'undefined!', 'undefined!', 'game_id', 'cpa_bid', 'location_type', 'cpa_bid', 'ad_account_id', 'undefined!', 'interest_action_mode', 'ad_account_id', 'label_ids_0', 'undefined!', 'image_id', 'age_AGE_BETWEEN_18_23', 'ad_account_id', 'undefined!', 'cpa_bid', 'undefined!', 'label_ids_,', 'cpa_bid', 'undefined!', 'cpa_bid', 'undefined!', 'undefined!', 'undefined!', 'cpa_bid', 'undefined!', 'undefined!', 'undefined!', 'cpa_bid', 'undefined!', 'undefined!', 'cpa_bid', 'cpa_bid', 'undefined!', 'undefined!', 'ad_account_id', 'label_ids_2', 'undefined!', 'undefined!', 'undefined!', 'undefined!', 'undefined!', 'undefined!', 'label_ids_1', 'ac_WIFI', 'undefined!', 'undefined!', 'undefined!', 'undefined!', 'ad_account_id', 'interest_action_mode', 'label_ids_2', 'undefined!', 'label_ids_7', 'ad_account_id', 'image_id', 'undefined!', 'undefined!', 'undefined!', 'undefined!', 'undefined!', 'undefined!', 'budget', 'age_AGE_BETWEEN_31_40', 'deep_bid_type', 'image_id', 'ad_account_id', 'undefined!', 'ad_account_id', 'undefined!', 'inventory_type_INVENTORY_FEED', 'undefined!', 'ad_account_id', 'undefined!', 'cpa_bid', 'inventory_type_INVENTORY_UNION_SPLASH_SLOT', 'undefined!', 'cpa_bid', 'ad_account_id', 'undefined!', 'location_type', 'cpa_bid', 'image_id', 'ad_account_id', 'undefined!', 'undefined!', 'undefined!', 'label_ids_7', 'undefined!', 'ad_account_id', 'undefined!', 'image_id', 'undefined!', 'undefined!', 'undefined!', 'undefined!', 'undefined!', 'ad_account_id', 'undefined!', 'cpa_bid', 'launch_price', 'cpa_bid', 'budget', 'undefined!', 'cpa_bid', 'undefined!', 'undefined!', 'ad_account_id', 'retargeting_type', 'undefined!', 'ad_account_id', 'undefined!', 'image_id', 'image_id', 'undefined!', 'image_id', 'undefined!', 'undefined!', 'undefined!', 'undefined!', 'undefined!', 'interest_action_mode', 'undefined!', 'undefined!', 'undefined!', 'cpa_bid', 'image_id', 'undefined!', 'undefined!', 'auto_extend_enabled', 'hide_if_converted', 'label_ids_2', 'undefined!', 'cpa_bid', 'ad_account_id', 'undefined!', 'cpa_bid', 'undefined!', 'undefined!', 'undefined!', 'age_AGE_ABOVE_50', 'undefined!', 'cpa_bid', 'ad_account_id', 'inventory_type_INVENTORY_FEED', 'label_ids_7', 'undefined!', 'undefined!', 'undefined!', 'undefined!', 'undefined!', 'cpa_bid', 'undefined!', 'cpa_bid', 'undefined!', 'undefined!', 'cpa_bid', 'hide_if_converted', 'undefined!', 'image_id', 'cpa_bid', 'undefined!', 'cpa_bid', 'undefined!', 'cpa_bid', 'undefined!', 'cpa_bid', 'label_ids_7', 'undefined!', 'undefined!', 'undefined!', 'undefined!', 'undefined!', 'budget', 'ad_account_id', 'android_osv', 'cpa_bid', 'image_id', 'undefined!', 'ad_account_id', 'cpa_bid', 'undefined!', 'image_id', 'undefined!', 'image_id', 'undefined!', 'undefined!', 'undefined!', 'image_id', 'interest_action_mode', 'android_osv', 'inventory_type_INVENTORY_HOTSOON_FEED', 'undefined!', 'undefined!', 'image_id', 'launch_price', 'ad_account_id', 'undefined!', 'image_id', 'cpa_bid', 'undefined!', 'image_id', 'undefined!', 'undefined!', 'cpa_bid', 'undefined!', 'cpa_bid', 'undefined!', 'undefined!', 'undefined!', 'cpa_bid', 'undefined!', 'ad_account_id', 'image_id', 'action_days', 'undefined!', 'cpa_bid', 'undefined!', 'undefined!', 'undefined!', 'undefined!', 'label_ids_9', 'undefined!', 'deep_bid_type', 'undefined!', 'undefined!', 'ad_account_id', 'cpa_bid', 'undefined!', 'undefined!', 'cpa_bid', 'age_AGE_BETWEEN_31_40', 'image_id', 'undefined!', 'undefined!', 'undefined!', 'undefined!', 'budget', 'launch_price', 'inventory_type_INVENTORY_FEED', 'ad_account_id', 'image_id', 'launch_price', 'undefined!', 'undefined!', 'android_osv', 'image_id', 'undefined!', 'image_id', 'undefined!', 'image_id', 'undefined!', 'cpa_bid', 'undefined!', 'undefined!', 'undefined!', 'undefined!', 'cpa_bid', 'hide_if_converted', 'image_id', 'undefined!', 'retargeting_type', 'budget', 'image_id', 'age_AGE_BETWEEN_24_30', 'undefined!', 'undefined!', 'android_osv', 'image_id', 'undefined!', 'age_AGE_BETWEEN_41_49', 'undefined!', 'undefined!', 'undefined!', 'image_id', 'undefined!', 'undefined!', 'age_AGE_BETWEEN_31_40', 'ac_WIFI', 'budget', 'inventory_type_INVENTORY_HOTSOON_FEED', 'undefined!', 'undefined!', 'image_id', 'hide_if_converted', 'cpa_bid', 'ad_account_id', 'undefined!', 'interest_action_mode', 'ad_account_id', 'undefined!', 'undefined!', 'cpa_bid', 'image_id', 'undefined!', 'undefined!', 'image_id', 'budget', 'undefined!', 'undefined!', 'undefined!', 'cpa_bid', 'undefined!', 'image_id', 'image_id', 'inventory_type_INVENTORY_VIDEO_FEED', 'ad_account_id', 'undefined!', 'undefined!', 'label_ids_-', 'undefined!', 'cpa_bid', 'game_id', 'undefined!', 'undefined!', 'gender', 'undefined!', 'undefined!', 'cpa_bid', 'cpa_bid', 'gender', 'undefined!', 'undefined!', 'ad_account_id', 'undefined!', 'cpa_bid', 'cpa_bid', 'undefined!', 'undefined!', 'undefined!', 'cpa_bid', 'budget', 'ad_account_id', 'budget', 'ad_account_id', 'undefined!', 'undefined!', 'undefined!', 'cpa_bid', 'cpa_bid', 'undefined!', 'undefined!', 'undefined!', 'undefined!', 'interest_action_mode', 'undefined!', 'undefined!', 'cpa_bid', 'ad_account_id', 'inventory_type_INVENTORY_UNION_SPLASH_SLOT', 'undefined!', 'ad_account_id', 'cpa_bid', 'label_ids_7', 'undefined!', 'game_id', 'ad_account_id', 'undefined!', 'undefined!', 'undefined!', 'undefined!', 'undefined!', 'ad_account_id', 'undefined!', 'undefined!', 'undefined!', 'undefined!', 'game_id', 'budget', 'cpa_bid', 'undefined!', 'undefined!', 'cpa_bid', 'cpa_bid', 'gender', 'cpa_bid', 'undefined!', 'undefined!', 'ad_account_id', 'undefined!', 'cpa_bid', 'undefined!', 'undefined!', 'cpa_bid', 'undefined!', 'cpa_bid', 'image_id', 'inventory_type_INVENTORY_HOTSOON_FEED', 'undefined!', 'location_type', 'undefined!', 'image_id', 'deep_bid_type', 'undefined!', 'undefined!', 'undefined!', 'undefined!', 'undefined!', 'undefined!', 'undefined!', 'ad_account_id', 'undefined!', 'image_id', 'deep_bid_type', 'undefined!', 'image_id', 'undefined!', 'undefined!', 'image_id', 'undefined!', 'game_id', 'undefined!', 'undefined!', 'image_id', 'image_id', 'cpa_bid', 'undefined!', 'cpa_bid', 'image_id', 'undefined!', 'cpa_bid', 'undefined!', 'auto_extend_enabled', 'undefined!', 'undefined!', 'undefined!', 'undefined!', 'inventory_type_INVENTORY_UNION_SPLASH_SLOT', 'ad_account_id', 'inventory_type_INVENTORY_UNION_SLOT', 'interest_action_mode', 'cpa_bid', 'undefined!', 'ad_account_id', 'undefined!', 'image_id', 'undefined!', 'undefined!', 'undefined!', 'image_id', 'ad_account_id', 'undefined!', 'label_ids_2', 'undefined!', 'undefined!', 'undefined!', 'undefined!', 'image_id', 'hide_if_converted', 'image_id', 'cpa_bid', 'ad_account_id', 'ad_account_id', 'undefined!', 'cpa_bid', 'undefined!', 'undefined!', 'undefined!', 'cpa_bid', 'undefined!', 'undefined!', 'image_id', 'auto_extend_enabled', 'android_osv', 'undefined!', 'undefined!', 'undefined!', 'age_AGE_BETWEEN_41_49', 'image_id', 'image_id', 'ad_account_id', 'undefined!', 'cpa_bid', 'undefined!', 'undefined!', 'undefined!', 'undefined!', 'auto_extend_enabled', 'game_id', 'image_id', 'cpa_bid', 'undefined!', 'cpa_bid', 'undefined!', 'image_id', 'ad_account_id', 'ad_account_id', 'ad_account_id', 'undefined!', 'android_osv', 'undefined!', 'undefined!', 'undefined!', 'ad_account_id', 'undefined!', 'label_ids_1', 'cpa_bid', 'image_id', 'undefined!', 'undefined!', 'undefined!', 'deep_bid_type', 'undefined!', 'undefined!', 'ad_account_id', 'launch_price', 'cpa_bid', 'cpa_bid', 'ac_WIFI', 'ad_account_id', 'undefined!', 'ad_account_id', 'cpa_bid', 'undefined!', 'undefined!', 'undefined!', 'undefined!', 'undefined!', 'undefined!', 'undefined!', 'launch_price', 'undefined!', 'undefined!', 'cpa_bid', 'cpa_bid', 'undefined!', 'undefined!', 'undefined!', 'cpa_bid', 'cpa_bid', 'image_id', 'undefined!', 'undefined!', 'age_AGE_BETWEEN_18_23', 'undefined!', 'image_id', 'undefined!', 'undefined!', 'undefined!', 'undefined!', 'cpa_bid', 'cpa_bid', 'cpa_bid', 'image_id', 'image_id', 'undefined!', 'image_id', 'undefined!', 'undefined!', 'undefined!', 'undefined!', 'cpa_bid', 'cpa_bid', 'cpa_bid', 'cpa_bid', 'image_id', 'cpa_bid', 'cpa_bid', 'image_id', 'image_id', 'undefined!', 'cpa_bid', 'undefined!', 'undefined!', 'cpa_bid', 'undefined!', 'cpa_bid', 'undefined!', 'undefined!', 'undefined!', 'undefined!', 'cpa_bid', 'gender', 'auto_extend_enabled', 'undefined!', 'undefined!', 'ad_account_id', 'undefined!', 'cpa_bid', 'undefined!', 'undefined!', 'ad_account_id', 'undefined!', 'undefined!', 'cpa_bid', 'undefined!', 'image_id', 'undefined!', 'cpa_bid', 'undefined!', 'undefined!', 'undefined!', 'cpa_bid', 'android_osv', 'undefined!', 'undefined!', 'image_id', 'auto_extend_enabled', 'undefined!', 'label_ids_1', 'retargeting_type', 'image_id', 'undefined!', 'undefined!', 'gender', 'image_id', 'undefined!', 'undefined!', 'undefined!', 'undefined!', 'launch_price', 'image_id', 'ad_account_id', 'undefined!', 'undefined!', 'undefined!', 'image_id', 'undefined!', 'undefined!', 'undefined!', 'undefined!', 'age_AGE_ABOVE_50', 'ad_account_id', 'undefined!', 'undefined!', 'undefined!', 'ad_account_id', 'image_id', 'inventory_type_INVENTORY_HOTSOON_FEED', 'cpa_bid', 'undefined!', 'undefined!', 'undefined!', 'ac_WIFI', 'cpa_bid', 'undefined!', 'undefined!', 'undefined!', 'image_id', 'age_AGE_BETWEEN_31_40', 'label_ids_9', 'cpa_bid', 'cpa_bid', 'undefined!', 'image_id', 'undefined!', 'undefined!', 'cpa_bid', 'undefined!', 'cpa_bid', 'undefined!', 'undefined!', 'undefined!', 'cpa_bid', 'cpa_bid', 'undefined!', 'inventory_type_INVENTORY_HOTSOON_FEED', 'undefined!', 'undefined!', 'undefined!', 'image_id', 'undefined!', 'cpa_bid', 'ad_account_id', 'undefined!', 'undefined!', 'ad_account_id', 'undefined!', 'age_AGE_BETWEEN_41_49', 'image_id', 'undefined!', 'image_id', 'undefined!', 'undefined!', 'undefined!', 'cpa_bid', 'undefined!', 'ad_account_id', 'undefined!', 'image_id', 'label_ids_7', 'cpa_bid', 'undefined!', 'undefined!', 'age_AGE_ABOVE_50', 'undefined!', 'cpa_bid', 'undefined!', 'undefined!', 'undefined!', 'cpa_bid', 'cpa_bid', 'age_AGE_BETWEEN_31_40', 'undefined!', 'undefined!', 'image_id', 'undefined!', 'image_id', 'undefined!', 'undefined!', 'undefined!', 'ad_account_id', 'game_id', 'budget', 'cpa_bid', 'ad_account_id', 'image_id', 'android_osv', 'undefined!', 'budget', 'ad_account_id', 'undefined!', 'ad_account_id', 'undefined!', 'cpa_bid', 'undefined!', 'cpa_bid', 'undefined!', 'undefined!', 'undefined!', 'image_id', 'interest_action_mode', 'age_AGE_BETWEEN_41_49', 'undefined!', 'undefined!', 'undefined!', 'image_id', 'age_AGE_ABOVE_50', 'cpa_bid', 'cpa_bid', 'cpa_bid', 'ad_account_id', 'undefined!', 'ad_account_id', 'cpa_bid', 'undefined!', 'undefined!', 'image_id', 'undefined!', 'android_osv', 'undefined!', 'undefined!', 'undefined!', 'undefined!', 'android_osv', 'undefined!', 'cpa_bid', 'undefined!', 'undefined!', 'undefined!', 'cpa_bid', 'label_ids_0', 'undefined!', 'age_AGE_BETWEEN_18_23', 'ad_account_id', 'undefined!', 'undefined!', 'ad_account_id', 'ad_account_id', 'undefined!', 'gender', 'undefined!', 'undefined!', 'undefined!', 'cpa_bid', 'undefined!', 'cpa_bid', 'undefined!', 'cpa_bid', 'cpa_bid', 'age_AGE_BETWEEN_31_40', 'android_osv', 'undefined!', 'undefined!', 'undefined!', 'gender', 'undefined!', 'undefined!', 'image_id', 'image_id', 'cpa_bid', 'undefined!', 'hide_if_converted', 'cpa_bid', 'gender', 'undefined!', 'undefined!', 'launch_price', 'android_osv', 'undefined!', 'cpa_bid', 'undefined!', 'age_AGE_BETWEEN_31_40', 'ad_account_id', 'image_id', 'image_id', 'ad_account_id', 'adjust_cpa', 'undefined!', 'undefined!', 'undefined!', 'undefined!', 'interest_action_mode', 'undefined!', 'undefined!', 'undefined!', 'undefined!', 'undefined!', 'undefined!', 'undefined!', 'image_id', 'cpa_bid', 'label_ids_4', 'cpa_bid', 'undefined!', 'undefined!', 'undefined!', 'ad_account_id', 'undefined!', 'cpa_bid', 'age_AGE_BETWEEN_18_23', 'age_AGE_ABOVE_50', 'undefined!', 'undefined!', 'undefined!', 'undefined!', 'cpa_bid', 'cpa_bid', 'cpa_bid', 'undefined!', 'undefined!', 'launch_price', 'cpa_bid', 'cpa_bid', 'gender', 'undefined!', 'ad_account_id', 'undefined!', 'ad_account_id', 'cpa_bid', 'undefined!', 'undefined!', 'undefined!', 'image_id', 'undefined!', 'image_id', 'undefined!', 'undefined!', 'undefined!', 'gender', 'undefined!', 'undefined!', 'ad_account_id', 'image_id', 'cpa_bid', 'age_AGE_BETWEEN_41_49', 'undefined!', 'undefined!', 'age_AGE_BETWEEN_24_30', 'undefined!', 'undefined!', 'undefined!', 'hide_if_converted', 'image_id', 'undefined!', 'android_osv', 'undefined!', 'undefined!', 'undefined!', 'android_osv', 'ad_account_id', 'undefined!', 'ad_account_id', 'undefined!', 'undefined!', 'undefined!', 'ad_account_id', 'undefined!', 'inventory_type_INVENTORY_HOTSOON_FEED', 'undefined!', 'cpa_bid', 'image_id', 'undefined!', 'image_id', 'undefined!', 'undefined!', 'undefined!', 'cpa_bid', 'cpa_bid', 'image_id', 'image_id', 'cpa_bid', 'inventory_type_UNION_BOUTIQUE_GAME', 'auto_extend_enabled', 'hide_if_converted', 'cpa_bid', 'android_osv', 'undefined!', 'cpa_bid', 'cpa_bid', 'undefined!', 'gender', 'cpa_bid', 'undefined!', 'cpa_bid', 'image_id', 'undefined!', 'ad_account_id', 'ad_account_id', 'image_id', 'undefined!', 'undefined!', 'undefined!', 'image_id', 'cpa_bid', 'undefined!', 'undefined!', 'undefined!', 'undefined!', 'undefined!', 'ad_account_id', 'undefined!', 'hide_if_converted', 'age_AGE_BETWEEN_18_23', 'cpa_bid', 'image_id', 'cpa_bid', 'image_id', 'undefined!', 'undefined!', 'undefined!', 'undefined!', 'undefined!', 'undefined!', 'undefined!', 'undefined!', 'undefined!', 'cpa_bid', 'age_AGE_BETWEEN_31_40', 'undefined!', 'undefined!', 'image_id', 'interest_action_mode', 'cpa_bid', 'undefined!', 'cpa_bid', 'undefined!', 'cpa_bid', 'undefined!', 'undefined!', 'ad_account_id', 'ad_account_id', 'undefined!', 'interest_action_mode', 'undefined!', 'undefined!', 'undefined!', 'action_days', 'cpa_bid', 'undefined!', 'cpa_bid', 'undefined!', 'undefined!', 'undefined!', 'undefined!', 'undefined!', 'age_AGE_ABOVE_50', 'ad_account_id', 'cpa_bid', 'cpa_bid', 'undefined!', 'undefined!', 'undefined!', 'undefined!', 'undefined!', 'image_id', 'image_id', 'image_id', 'hide_if_converted', 'game_id', 'undefined!', 'cpa_bid', 'age_AGE_BETWEEN_41_49', 'cpa_bid', 'undefined!', 'cpa_bid', 'cpa_bid', 'undefined!', 'ad_account_id', 'android_osv', 'undefined!', 'image_id', 'auto_extend_enabled', 'undefined!', 'cpa_bid', 'undefined!', 'undefined!', 'label_ids_9', 'undefined!', 'cpa_bid', 'action_days', 'undefined!', 'undefined!', 'undefined!', 'undefined!', 'undefined!', 'image_id', 'ad_account_id', 'undefined!', 'undefined!', 'undefined!', 'cpa_bid', 'undefined!', 'ad_account_id', 'auto_extend_enabled', 'undefined!', 'undefined!', 'undefined!', 'image_id', 'cpa_bid', 'undefined!', 'gender', 'undefined!', 'image_id', 'cpa_bid', 'undefined!', 'cpa_bid', 'undefined!', 'undefined!', 'undefined!', 'undefined!', 'interest_action_mode', 'undefined!', 'undefined!', 'undefined!', 'ad_account_id', 'undefined!', 'undefined!', 'undefined!', 'label_ids_,', 'ac_4G', 'image_id', 'ad_account_id', 'label_ids_3', 'age_AGE_BETWEEN_18_23', 'undefined!', 'undefined!', 'undefined!', 'cpa_bid', 'undefined!', 'cpa_bid', 'location_type', 'undefined!', 'deep_bid_type', 'undefined!', 'label_ids_9', 'label_ids_3', 'undefined!', 'cpa_bid', 'undefined!', 'undefined!', 'undefined!', 'undefined!', 'image_id', 'label_ids_7', 'ad_account_id', 'inventory_type_INVENTORY_UNION_SLOT', 'ad_account_id', 'undefined!', 'undefined!', 'android_osv', 'budget', 'label_ids_2', 'undefined!', 'cpa_bid', 'undefined!', 'undefined!', 'image_id', 'launch_price', 'age_AGE_BETWEEN_41_49', 'game_id', 'undefined!', 'image_id', 'undefined!', 'image_id', 'undefined!', 'undefined!', 'cpa_bid', 'undefined!', 'gender', 'age_AGE_ABOVE_50', 'retargeting_type', 'undefined!', 'ad_account_id', 'undefined!', 'image_id', 'launch_price', 'undefined!', 'undefined!', 'undefined!', 'image_id', 'undefined!', 'age_AGE_BETWEEN_18_23', 'undefined!', 'undefined!', 'undefined!', 'ad_account_id', 'undefined!', 'cpa_bid', 'undefined!', 'undefined!', 'undefined!', 'ad_account_id', 'interest_action_mode', 'undefined!', 'image_id', 'cpa_bid', 'undefined!', 'undefined!', 'undefined!', 'image_id', 'cpa_bid', 'cpa_bid', 'interest_action_mode', 'gender', 'undefined!', 'undefined!', 'image_id', 'ad_account_id', 'undefined!', 'ad_account_id', 'undefined!', 'undefined!', 'undefined!', 'undefined!', 'cpa_bid', 'undefined!', 'hide_if_converted', 'cpa_bid', 'undefined!', 'image_id', 'undefined!', 'undefined!', 'cpa_bid', 'undefined!', 'cpa_bid', 'undefined!', 'undefined!', 'image_id', 'cpa_bid', 'undefined!', 'image_id', 'ad_account_id', 'undefined!', 'game_id', 'undefined!', 'undefined!', 'undefined!', 'undefined!', 'launch_price', 'undefined!', 'undefined!', 'flow_control_mode', 'retargeting_type', 'undefined!', 'undefined!', 'launch_price', 'hide_if_converted', 'image_id', 'image_id', 'age_AGE_BETWEEN_24_30', 'undefined!', 'undefined!', 'ad_account_id', 'undefined!', 'action_days', 'undefined!', 'undefined!', 'cpa_bid', 'ad_account_id', 'hide_if_converted', 'gender', 'cpa_bid', 'undefined!', 'image_id', 'undefined!', 'game_id', 'image_id', 'image_id', 'ad_account_id', 'undefined!', 'undefined!', 'undefined!', 'undefined!', 'undefined!', 'ad_account_id', 'undefined!', 'undefined!', 'undefined!', 'ad_account_id', 'age_AGE_BETWEEN_18_23', 'cpa_bid', 'image_id', 'gender', 'cpa_bid', 'image_id', 'undefined!', 'undefined!', 'undefined!', 'cpa_bid', 'undefined!', 'undefined!', 'image_id', 'undefined!', 'undefined!', 'cpa_bid', 'image_id', 'cpa_bid', 'image_id', 'undefined!', 'image_id', 'undefined!', 'undefined!', 'undefined!', 'undefined!', 'cpa_bid', 'image_id', 'image_id', 'image_id', 'cpa_bid', 'inventory_type_INVENTORY_UNION_SPLASH_SLOT', 'undefined!', 'undefined!', 'undefined!', 'cpa_bid', 'undefined!', 'inventory_type_INVENTORY_UNION_SPLASH_SLOT', 'undefined!', 'undefined!', 'inventory_type_INVENTORY_UNION_SPLASH_SLOT', 'undefined!', 'image_id', 'image_id', 'cpa_bid', 'undefined!', 'undefined!', 'undefined!', 'cpa_bid', 'undefined!', 'undefined!', 'undefined!', 'undefined!', 'undefined!', 'inventory_type_INVENTORY_VIDEO_FEED', 'undefined!', 'hide_if_converted', 'cpa_bid', 'cpa_bid', 'ad_account_id', 'ad_account_id', 'image_id', 'undefined!', 'ad_account_id', 'image_id', 'cpa_bid', 'image_id', 'cpa_bid', 'undefined!', 'undefined!', 'undefined!', 'image_id', 'cpa_bid', 'undefined!', 'undefined!', 'undefined!', 'cpa_bid', 'undefined!', 'gender', 'undefined!', 'undefined!', 'interest_action_mode', 'cpa_bid', 'undefined!', 'undefined!', 'image_id', 'undefined!', 'cpa_bid', 'undefined!', 'cpa_bid', 'undefined!', 'image_id', 'undefined!', 'image_id', 'undefined!', 'undefined!', 'age_AGE_BETWEEN_24_30', 'undefined!', 'cpa_bid', 'undefined!', 'undefined!', 'image_id', 'cpa_bid', 'cpa_bid', 'undefined!', 'undefined!', 'undefined!', 'undefined!', 'interest_action_mode', 'undefined!', 'age_AGE_BETWEEN_31_40', 'undefined!', 'cpa_bid', 'undefined!', 'undefined!', 'cpa_bid', 'undefined!', 'cpa_bid', 'undefined!', 'undefined!', 'ad_account_id', 'undefined!', 'cpa_bid', 'undefined!', 'cpa_bid', 'undefined!', 'image_id', 'cpa_bid', 'undefined!', 'interest_action_mode', 'undefined!', 'cpa_bid', 'undefined!', 'ad_account_id', 'image_id', 'undefined!', 'cpa_bid', 'undefined!', 'cpa_bid', 'undefined!', 'undefined!', 'cpa_bid', 'undefined!', 'undefined!', 'interest_action_mode', 'undefined!', 'auto_extend_enabled', 'undefined!', 'undefined!', 'cpa_bid', 'undefined!', 'undefined!', 'ad_account_id', 'deep_bid_type', 'undefined!', 'undefined!', 'undefined!', 'image_id', 'android_osv', 'cpa_bid', 'undefined!', 'undefined!', 'undefined!', 'undefined!', 'age_AGE_BETWEEN_41_49', 'undefined!', 'undefined!', 'age_AGE_BETWEEN_18_23', 'adjust_cpa', 'undefined!', 'image_id', 'undefined!', 'cpa_bid', 'location_type', 'undefined!', 'undefined!', 'undefined!', 'undefined!', 'cpa_bid', 'cpa_bid', 'gender', 'undefined!', 'retargeting_type', 'undefined!', 'undefined!', 'undefined!', 'undefined!', 'cpa_bid', 'cpa_bid', 'label_ids_2', 'cpa_bid', 'age_AGE_BETWEEN_24_30', 'undefined!', 'undefined!', 'undefined!', 'image_id', 'cpa_bid', 'cpa_bid', 'undefined!', 'undefined!', 'undefined!', 'undefined!', 'image_id', 'android_osv', 'undefined!', 'image_id', 'gender', 'undefined!', 'cpa_bid', 'undefined!', 'undefined!', 'undefined!', 'undefined!', 'age_AGE_BETWEEN_18_23', 'undefined!', 'undefined!', 'cpa_bid', 'undefined!', 'cpa_bid', 'undefined!', 'image_id', 'gender', 'cpa_bid', 'undefined!', 'undefined!', 'undefined!', 'image_id', 'undefined!', 'age_AGE_BETWEEN_18_23', 'image_id', 'cpa_bid', 'undefined!', 'undefined!', 'undefined!', 'ad_account_id', 'cpa_bid', 'hide_if_converted', 'undefined!', 'cpa_bid', 'undefined!', 'undefined!', 'undefined!', 'undefined!', 'budget', 'launch_price', 'label_ids_,', 'ad_account_id', 'image_id', 'android_osv', 'undefined!', 'cpa_bid', 'image_id', 'label_ids_7', 'undefined!', 'undefined!', 'image_id', 'undefined!', 'image_id', 'undefined!', 'gender', 'cpa_bid', 'inventory_type_INVENTORY_FEED', 'undefined!', 'cpa_bid', 'undefined!', 'undefined!', 'undefined!', 'undefined!', 'undefined!', 'undefined!', 'image_id', 'hide_if_converted', 'cpa_bid', 'image_id', 'undefined!', 'undefined!', 'undefined!', 'undefined!', 'hide_if_converted', 'undefined!', 'cpa_bid', 'undefined!', 'undefined!', 'undefined!', 'cpa_bid', 'undefined!', 'label_ids_-', 'ad_account_id', 'cpa_bid', 'undefined!', 'undefined!', 'cpa_bid', 'inventory_type_INVENTORY_UNION_SPLASH_SLOT', 'ad_account_id', 'image_id', 'undefined!', 'image_id', 'undefined!', 'undefined!', 'undefined!', 'image_id', 'undefined!', 'undefined!', 'undefined!', 'undefined!', 'inventory_type_INVENTORY_UNION_SLOT', 'gender', 'undefined!', 'image_id', 'undefined!', 'undefined!', 'cpa_bid', 'cpa_bid', 'undefined!', 'undefined!', 'android_osv', 'image_id', 'image_id', 'undefined!', 'age_AGE_BETWEEN_18_23', 'undefined!', 'gender', 'undefined!', 'android_osv', 'undefined!', 'undefined!', 'undefined!', 'interest_action_mode', 'cpa_bid', 'undefined!', 'auto_extend_enabled', 'undefined!', 'undefined!', 'undefined!', 'budget', 'image_id', 'undefined!', 'image_id', 'budget', 'cpa_bid', 'undefined!', 'age_AGE_BETWEEN_41_49', 'undefined!', 'label_ids_,', 'cpa_bid', 'cpa_bid', 'ad_account_id', 'hide_if_converted', 'undefined!', 'cpa_bid', 'image_id', 'undefined!', 'undefined!', 'image_id', 'cpa_bid', 'android_osv', 'undefined!', 'cpa_bid', 'undefined!', 'undefined!', 'label_ids_0', 'undefined!', 'ad_account_id', 'undefined!', 'undefined!', 'ad_account_id', 'ad_account_id', 'undefined!', 'undefined!', 'undefined!', 'cpa_bid', 'hide_if_converted', 'ad_account_id', 'undefined!', 'android_osv', 'undefined!', 'undefined!', 'undefined!', 'cpa_bid', 'undefined!', 'undefined!', 'undefined!', 'cpa_bid', 'cpa_bid', 'cpa_bid', 'ad_account_id', 'cpa_bid', 'gender', 'undefined!', 'undefined!', 'undefined!', 'label_ids_1', 'hide_if_converted', 'undefined!', 'android_osv', 'undefined!', 'image_id', 'image_id', 'cpa_bid', 'ad_account_id', 'undefined!', 'cpa_bid', 'undefined!', 'undefined!', 'cpa_bid', 'undefined!', 'undefined!', 'undefined!', 'undefined!', 'gender', 'undefined!', 'undefined!', 'undefined!', 'cpa_bid', 'undefined!', 'cpa_bid', 'inventory_type_INVENTORY_UNION_SPLASH_SLOT', 'undefined!', 'undefined!', 'cpa_bid', 'ad_account_id', 'hide_if_converted', 'image_id', 'image_id', 'undefined!', 'ad_account_id', 'undefined!', 'undefined!', 'undefined!', 'image_id', 'gender', 'undefined!', 'ad_account_id', 'inventory_type_INVENTORY_UNION_SPLASH_SLOT', 'undefined!', 'undefined!', 'undefined!', 'undefined!', 'undefined!', 'undefined!', 'cpa_bid', 'undefined!', 'image_id', 'cpa_bid', 'cpa_bid', 'cpa_bid', 'cpa_bid', 'game_id', 'image_id', 'gender', 'undefined!', 'label_ids_0', 'hide_if_converted', 'undefined!', 'undefined!', 'undefined!', 'image_id', 'undefined!', 'image_id', 'undefined!', 'cpa_bid', 'gender', 'ad_account_id', 'undefined!', 'undefined!', 'undefined!', 'undefined!', 'undefined!', 'undefined!', 'inventory_type_INVENTORY_FEED', 'gender', 'undefined!', 'undefined!', 'image_id', 'hide_if_converted', 'ad_account_id', 'cpa_bid', 'undefined!', 'undefined!', 'undefined!', 'undefined!', 'launch_price', 'cpa_bid', 'undefined!', 'undefined!', 'undefined!', 'cpa_bid', 'undefined!', 'cpa_bid', 'undefined!', 'launch_price', 'image_id', 'undefined!', 'image_id', 'undefined!', 'inventory_type_INVENTORY_FEED', 'undefined!', 'undefined!', 'undefined!', 'cpa_bid', 'image_id', 'hide_if_converted', 'undefined!', 'undefined!', 'undefined!', 'undefined!', 'cpa_bid', 'inventory_type_INVENTORY_UNION_SPLASH_SLOT', 'undefined!', 'undefined!', 'image_id', 'undefined!', 'label_ids_2', 'undefined!', 'image_id', 'image_id', 'undefined!', 'undefined!', 'undefined!', 'cpa_bid', 'undefined!', 'cpa_bid', 'undefined!', 'hide_if_converted', 'undefined!', 'cpa_bid', 'undefined!', 'inventory_type_INVENTORY_FEED', 'undefined!', 'interest_action_mode', 'undefined!', 'label_ids_-', 'ad_account_id', 'undefined!', 'undefined!', 'undefined!', 'budget', 'cpa_bid', 'image_id', 'undefined!', 'undefined!', 'image_id', 'cpa_bid', 'undefined!', 'cpa_bid', 'undefined!', 'cpa_bid', 'undefined!', 'game_id', 'undefined!', 'undefined!', 'hide_if_converted', 'undefined!', 'image_id', 'undefined!', 'undefined!', 'label_ids_7', 'cpa_bid', 'undefined!', 'cpa_bid', 'undefined!', 'undefined!', 'undefined!', 'undefined!', 'image_id', 'cpa_bid', 'undefined!', 'undefined!', 'ad_account_id', 'undefined!', 'gender', 'undefined!', 'hide_if_converted', 'undefined!', 'image_id', 'undefined!', 'undefined!', 'hide_if_converted', 'cpa_bid', 'image_id', 'budget', 'ad_account_id', 'budget', 'inventory_type_UNION_BOUTIQUE_GAME', 'cpa_bid', 'cpa_bid', 'image_id', 'undefined!', 'undefined!', 'undefined!', 'ad_account_id', 'cpa_bid', 'budget', 'action_days', 'undefined!', 'undefined!', 'undefined!', 'undefined!', 'label_ids_9', 'image_id', 'undefined!', 'image_id', 'undefined!', 'cpa_bid', 'android_osv', 'image_id', 'undefined!', 'undefined!', 'undefined!', 'undefined!', 'undefined!', 'undefined!', 'undefined!', 'undefined!', 'inventory_type_INVENTORY_HOTSOON_FEED', 'undefined!', 'undefined!', 'image_id', 'adjust_cpa', 'age_AGE_BETWEEN_41_49', 'budget', 'undefined!', 'undefined!', 'image_id', 'cpa_bid', 'undefined!', 'image_id', 'undefined!', 'inventory_type_UNION_BOUTIQUE_GAME', 'undefined!', 'undefined!', 'game_id', 'budget', 'cpa_bid', 'image_id', 'undefined!', 'undefined!', 'undefined!', 'undefined!', 'undefined!', 'android_osv', 'ad_account_id', 'cpa_bid', 'age_AGE_BETWEEN_31_40', 'undefined!', 'ad_account_id', 'undefined!', 'undefined!', 'retargeting_type', 'adjust_cpa', 'undefined!', 'undefined!', 'undefined!', 'undefined!', 'image_id', 'image_id', 'undefined!', 'undefined!', 'undefined!', 'ad_account_id', 'action_days', 'flow_control_mode', 'undefined!', 'inventory_type_INVENTORY_UNION_SPLASH_SLOT', 'cpa_bid', 'location_type', 'cpa_bid', 'undefined!', 'undefined!', 'undefined!', 'undefined!', 'hide_if_converted', 'undefined!', 'age_AGE_BETWEEN_41_49', 'undefined!', 'cpa_bid', 'undefined!', 'undefined!', 'game_id', 'undefined!', 'ad_account_id', 'ac_4G', 'undefined!', 'hide_if_exists', 'undefined!', 'undefined!', 'label_ids_-', 'hide_if_converted', 'ad_account_id', 'gender', 'image_id', 'image_id', 'undefined!', 'cpa_bid', 'undefined!', 'age_AGE_BETWEEN_41_49', 'image_id', 'undefined!', 'undefined!', 'undefined!', 'undefined!', 'undefined!', 'undefined!', 'undefined!', 'age_AGE_BETWEEN_24_30', 'gender', 'undefined!', 'cpa_bid', 'undefined!', 'undefined!', 'undefined!', 'image_id', 'cpa_bid', 'interest_action_mode', 'undefined!', 'undefined!', 'undefined!', 'image_id', 'undefined!', 'game_id', 'undefined!', 'budget', 'undefined!', 'undefined!', 'image_id', 'inventory_type_INVENTORY_VIDEO_FEED', 'cpa_bid', 'interest_action_mode', 'action_days', 'undefined!', 'ad_account_id', 'image_id', 'undefined!', 'image_id', 'undefined!', 'image_id', 'undefined!', 'hide_if_exists', 'age_AGE_BETWEEN_41_49', 'interest_action_mode', 'undefined!', 'inventory_type_INVENTORY_FEED', 'image_id', 'undefined!', 'undefined!', 'undefined!', 'undefined!', 'cpa_bid', 'undefined!', 'label_ids_,', 'undefined!', 'adjust_cpa', 'undefined!', 'undefined!', 'ad_account_id', 'budget', 'undefined!', 'undefined!', 'undefined!', 'undefined!', 'label_ids_,', 'label_ids_0', 'image_id', 'image_id', 'image_id', 'image_id', 'undefined!', 'interest_action_mode', 'launch_price', 'undefined!', 'undefined!', 'undefined!', 'undefined!', 'undefined!', 'undefined!', 'undefined!', 'launch_price', 'image_id', 'undefined!', 'undefined!', 'undefined!', 'location_type', 'inventory_type_INVENTORY_UNION_SPLASH_SLOT', 'auto_extend_enabled', 'label_ids_2', 'age_AGE_BETWEEN_18_23', 'cpa_bid', 'undefined!', 'retargeting_type', 'undefined!', 'undefined!', 'budget', 'undefined!', 'undefined!', 'ac_WIFI', 'undefined!', 'ad_account_id', 'undefined!', 'undefined!', 'undefined!', 'budget', 'image_id', 'cpa_bid', 'undefined!', 'game_id', 'auto_extend_enabled', 'budget', 'budget', 'label_ids_-', 'launch_price', 'undefined!', 'android_osv', 'undefined!', 'image_id', 'undefined!', 'undefined!', 'undefined!', 'undefined!', 'undefined!', 'cpa_bid', 'undefined!', 'undefined!', 'interest_action_mode', 'cpa_bid', 'undefined!', 'undefined!', 'image_id', 'undefined!', 'age_AGE_BETWEEN_24_30', 'undefined!', 'undefined!', 'undefined!', 'undefined!', 'ac_2G', 'hide_if_converted', 'image_id', 'ad_account_id', 'interest_action_mode', 'undefined!', 'undefined!', 'budget', 'action_days', 'retargeting_type', 'ac_WIFI', 'inventory_type_INVENTORY_HOTSOON_FEED', 'undefined!', 'image_id', 'undefined!', 'ad_account_id', 'undefined!', 'image_id', 'image_id', 'cpa_bid', 'undefined!', 'smart_bid_type', 'image_id', 'undefined!', 'undefined!', 'undefined!', 'undefined!', 'image_id', 'undefined!', 'undefined!', 'undefined!', 'undefined!', 'budget', 'ad_account_id', 'undefined!', 'image_id', 'undefined!', 'smart_bid_type', 'undefined!', 'undefined!', 'undefined!', 'cpa_bid', 'image_id', 'budget', 'undefined!', 'undefined!', 'image_id', 'undefined!', 'action_days', 'undefined!', 'undefined!', 'image_id', 'undefined!', 'undefined!', 'ad_account_id', 'undefined!', 'age_AGE_BETWEEN_18_23', 'inventory_type_INVENTORY_AWEME_FEED', 'undefined!', 'undefined!', 'undefined!', 'budget', 'game_id', 'location_type', 'cpa_bid', 'inventory_type_INVENTORY_UNION_SLOT', 'cpa_bid', 'undefined!', 'label_ids_9', 'undefined!', 'undefined!', 'undefined!', 'image_id', 'undefined!', 'interest_action_mode', 'cpa_bid', 'android_osv', 'ac_WIFI', 'undefined!', 'retargeting_type', 'undefined!', 'undefined!', 'ad_account_id', 'cpa_bid', 'image_id', 'undefined!', 'undefined!', 'budget', 'cpa_bid', 'age_AGE_ABOVE_50', 'undefined!', 'undefined!', 'undefined!', 'undefined!', 'age_AGE_BETWEEN_41_49', 'undefined!', 'undefined!', 'age_AGE_BETWEEN_31_40', 'undefined!', 'undefined!', 'image_id', 'age_AGE_BETWEEN_18_23', 'flow_control_mode', 'image_id', 'age_AGE_BETWEEN_31_40', 'undefined!', 'undefined!', 'undefined!', 'label_ids_7', 'undefined!', 'undefined!', 'age_AGE_BETWEEN_41_49', 'undefined!', 'undefined!', 'undefined!', 'budget', 'undefined!', 'action_days', 'image_id', 'undefined!', 'undefined!', 'undefined!', 'adjust_cpa', 'retargeting_type', 'inventory_type_INVENTORY_AWEME_FEED', 'undefined!', 'undefined!', 'undefined!', 'undefined!', 'undefined!', 'undefined!', 'image_id', 'image_id', 'ad_account_id', 'cpa_bid', 'label_ids_0', 'ad_account_id', 'undefined!', 'location_type', 'undefined!', 'undefined!', 'undefined!', 'undefined!', 'cpa_bid', 'undefined!', 'age_AGE_BETWEEN_18_23', 'budget', 'interest_action_mode', 'hide_if_converted', 'retargeting_type', 'undefined!', 'undefined!', 'budget', 'undefined!', 'retargeting_type', 'undefined!', 'hide_if_converted', 'undefined!', 'undefined!', 'launch_price', 'undefined!', 'smart_bid_type', 'undefined!', 'undefined!', 'undefined!', 'budget', 'label_ids_9', 'undefined!', 'image_id', 'undefined!', 'undefined!', 'image_id', 'undefined!', 'cpa_bid', 'undefined!', 'budget', 'cpa_bid', 'undefined!', 'undefined!', 'undefined!', 'ad_account_id', 'undefined!', 'budget', 'undefined!', 'game_id', 'undefined!', 'android_osv', 'undefined!', 'undefined!', 'budget', 'image_id', 'game_id', 'location_type', 'cpa_bid', 'undefined!', 'flow_control_mode', 'age_AGE_BETWEEN_18_23', 'cpa_bid', 'ad_account_id', 'label_ids_8', 'undefined!', 'image_id', 'undefined!', 'image_id', 'undefined!', 'undefined!', 'inventory_type_INVENTORY_AWEME_FEED', 'undefined!', 'image_id', 'cpa_bid', 'undefined!', 'interest_action_mode', 'undefined!', 'undefined!', 'undefined!', 'cpa_bid', 'undefined!', 'undefined!', 'retargeting_type', 'cpa_bid', 'adjust_cpa', 'undefined!', 'undefined!', 'android_osv', 'undefined!', 'ad_account_id', 'label_ids_0', 'undefined!', 'undefined!', 'undefined!', 'undefined!', 'undefined!', 'cpa_bid', 'undefined!', 'undefined!', 'age_AGE_BETWEEN_31_40', 'undefined!', 'undefined!', 'cpa_bid', 'label_ids_4', 'undefined!', 'undefined!', 'undefined!', 'age_AGE_BETWEEN_18_23', 'interest_action_mode', 'undefined!', 'ad_account_id', 'auto_extend_enabled', 'inventory_type_INVENTORY_UNION_SLOT', 'undefined!', 'inventory_type_INVENTORY_UNION_SPLASH_SLOT', 'undefined!', 'undefined!', 'undefined!', 'retargeting_type', 'undefined!', 'undefined!', 'undefined!', 'budget', 'cpa_bid', 'location_type', 'undefined!', 'cpa_bid', 'undefined!', 'image_id', 'image_id', 'deep_bid_type', 'label_ids_0', 'undefined!', 'undefined!', 'image_id', 'image_id', 'game_id', 'undefined!', 'undefined!', 'undefined!', 'undefined!', 'undefined!', 'cpa_bid', 'undefined!', 'undefined!', 'retargeting_type', 'label_ids_7', 'undefined!', 'undefined!', 'inventory_type_INVENTORY_AWEME_FEED', 'ad_account_id', 'label_ids_9', 'ad_account_id', 'undefined!', 'undefined!', 'undefined!', 'undefined!', 'image_id', 'cpa_bid', 'undefined!', 'undefined!', 'undefined!', 'image_id', 'cpa_bid', 'cpa_bid', 'label_ids_,', 'game_id', 'image_id', 'cpa_bid', 'undefined!', 'image_id', 'label_ids_9', 'undefined!', 'ad_account_id', 'undefined!', 'undefined!', 'game_id', 'undefined!', 'ad_account_id', 'label_ids_0', 'interest_action_mode', 'label_ids_9', 'inventory_type_INVENTORY_FEED', 'age_AGE_BETWEEN_24_30', 'undefined!', 'undefined!', 'ac_4G', 'ad_account_id', 'undefined!', 'undefined!', 'cpa_bid', 'interest_action_mode', 'undefined!', 'budget', 'cpa_bid', 'undefined!', 'undefined!', 'undefined!', 'retargeting_type', 'undefined!', 'undefined!', 'ad_account_id', 'undefined!', 'undefined!', 'retargeting_type', 'undefined!', 'undefined!', 'cpa_bid', 'age_AGE_ABOVE_50', 'undefined!', 'undefined!', 'cpa_bid', 'undefined!', 'budget', 'location_type', 'undefined!', 'undefined!', 'age_AGE_BETWEEN_18_23', 'game_id', 'game_id', 'inventory_type_INVENTORY_UNION_SPLASH_SLOT', 'undefined!', 'undefined!', 'undefined!', 'undefined!', 'undefined!', 'image_id', 'undefined!', 'launch_price', 'undefined!', 'location_type', 'undefined!', 'undefined!', 'cpa_bid', 'inventory_type_INVENTORY_HOTSOON_FEED', 'cpa_bid', 'undefined!', 'inventory_type_INVENTORY_UNION_SLOT', 'undefined!', 'undefined!', 'undefined!', 'cpa_bid', 'undefined!', 'undefined!', 'undefined!', 'cpa_bid', 'undefined!', 'budget', 'image_id', 'inventory_type_INVENTORY_HOTSOON_FEED', 'undefined!', 'undefined!', 'undefined!', 'undefined!', 'image_id', 'label_ids_7', 'android_osv', 'undefined!', 'undefined!', 'age_AGE_BETWEEN_41_49', 'cpa_bid', 'undefined!', 'budget', 'undefined!', 'inventory_type_INVENTORY_AWEME_FEED', 'undefined!', 'undefined!', 'undefined!', 'undefined!', 'undefined!', 'android_osv', 'image_id', 'age_AGE_BETWEEN_18_23', 'undefined!', 'budget', 'undefined!', 'undefined!', 'undefined!', 'image_id', 'budget', 'undefined!', 'undefined!', 'image_id', 'undefined!', 'undefined!', 'game_id', 'game_id', 'budget', 'budget', 'undefined!', 'image_id', 'launch_price', 'cpa_bid', 'undefined!', 'undefined!', 'label_ids_9', 'cpa_bid', 'age_AGE_BETWEEN_18_23', 'undefined!', 'cpa_bid', 'ios_osv', 'inventory_type_INVENTORY_VIDEO_FEED', 'cpa_bid', 'undefined!', 'undefined!', 'undefined!', 'undefined!', 'undefined!', 'undefined!', 'adjust_cpa', 'retargeting_type', 'ad_account_id', 'undefined!', 'undefined!', 'cpa_bid', 'undefined!', 'cpa_bid', 'undefined!', 'undefined!', 'undefined!', 'image_id', 'undefined!', 'ac_4G', 'hide_if_converted', 'ad_account_id', 'cpa_bid', 'undefined!', 'cpa_bid', 'undefined!', 'undefined!', 'undefined!', 'retargeting_type', 'undefined!', 'image_id', 'undefined!', 'undefined!', 'cpa_bid', 'cpa_bid', 'cpa_bid', 'undefined!', 'cpa_bid', 'image_id', 'ad_account_id', 'cpa_bid', 'location_type', 'image_id', 'undefined!', 'image_id', 'undefined!', 'undefined!', 'budget', 'cpa_bid', 'retargeting_type', 'undefined!', 'undefined!', 'undefined!', 'undefined!', 'inventory_type_INVENTORY_HOTSOON_FEED', 'undefined!', 'undefined!', 'inventory_type_INVENTORY_UNION_SLOT', 'undefined!', 'retargeting_type', 'undefined!', 'undefined!', 'undefined!', 'budget', 'inventory_type_INVENTORY_FEED', 'undefined!', 'image_id', 'ad_account_id', 'inventory_type_INVENTORY_VIDEO_FEED', 'undefined!', 'undefined!', 'undefined!', 'undefined!', 'ad_account_id', 'retargeting_type', 'undefined!', 'cpa_bid', 'undefined!', 'action_days', 'undefined!', 'undefined!', 'inventory_type_INVENTORY_HOTSOON_FEED', 'undefined!', 'action_days', 'cpa_bid', 'undefined!', 'undefined!', 'undefined!', 'undefined!', 'auto_extend_enabled', 'undefined!', 'undefined!', 'budget', 'cpa_bid', 'ac_WIFI', 'cpa_bid', 'adjust_cpa', 'undefined!', 'undefined!', 'inventory_type_INVENTORY_FEED', 'undefined!', 'budget', 'inventory_type_INVENTORY_UNION_SLOT', 'image_id', 'undefined!', 'undefined!', 'undefined!', 'undefined!', 'adjust_cpa', 'gender', 'undefined!', 'undefined!', 'cpa_bid', 'undefined!', 'label_ids_9', 'cpa_bid', 'undefined!', 'action_days', 'inventory_type_INVENTORY_UNION_SLOT', 'retargeting_type', 'undefined!', 'image_id', 'undefined!', 'undefined!', 'undefined!', 'cpa_bid', 'budget', 'retargeting_type', 'undefined!', 'undefined!', 'undefined!', 'undefined!', 'undefined!', 'ad_account_id', 'ad_account_id', 'undefined!', 'location_type', 'undefined!', 'age_AGE_ABOVE_50', 'interest_action_mode', 'undefined!', 'undefined!', 'auto_extend_enabled', 'cpa_bid', 'undefined!', 'undefined!', 'undefined!', 'age_AGE_ABOVE_50', 'undefined!', 'undefined!', 'launch_price', 'undefined!', 'age_AGE_BETWEEN_18_23', 'delivery_range', 'adjust_cpa', 'undefined!', 'ad_account_id', 'retargeting_type', 'undefined!', 'undefined!', 'image_id', 'undefined!', 'cpa_bid', 'age_AGE_BETWEEN_41_49', 'undefined!', 'undefined!', 'interest_action_mode', 'undefined!', 'image_id', 'undefined!', 'undefined!', 'undefined!', 'image_id', 'retargeting_type', 'undefined!', 'ad_account_id', 'inventory_type_INVENTORY_HOTSOON_FEED', 'undefined!', 'undefined!', 'budget', 'cpa_bid', 'undefined!', 'image_id', 'undefined!', 'undefined!', 'undefined!', 'undefined!', 'ad_account_id', 'age_AGE_ABOVE_50', 'deep_bid_type', 'age_AGE_BETWEEN_24_30', 'undefined!', 'undefined!', 'image_id', 'image_id', 'image_id', 'budget', 'undefined!', 'cpa_bid', 'cpa_bid', 'undefined!', 'undefined!', 'cpa_bid', 'undefined!', 'cpa_bid', 'undefined!', 'undefined!', 'budget', 'undefined!', 'budget', 'undefined!', 'undefined!', 'cpa_bid', 'hide_if_converted', 'undefined!', 'undefined!', 'cpa_bid', 'image_id', 'ad_account_id', 'undefined!', 'cpa_bid', 'undefined!', 'undefined!', 'budget', 'ad_account_id', 'undefined!', 'auto_extend_enabled', 'label_ids_9', 'undefined!', 'image_id', 'undefined!', 'interest_action_mode', 'undefined!', 'undefined!', 'cpa_bid', 'ad_account_id', 'undefined!', 'undefined!', 'undefined!', 'budget', 'undefined!', 'undefined!', 'cpa_bid', 'image_id', 'undefined!', 'undefined!', 'cpa_bid', 'cpa_bid', 'hide_if_converted', 'cpa_bid', 'label_ids_1', 'age_AGE_BETWEEN_41_49', 'flow_control_mode', 'cpa_bid', 'cpa_bid', 'undefined!', 'undefined!', 'ad_account_id', 'undefined!', 'image_id', 'label_ids_0', 'undefined!', 'undefined!', 'undefined!', 'undefined!', 'location_type', 'launch_price', 'image_id', 'ad_account_id', 'ios_osv', 'ios_osv', 'undefined!', 'inventory_type_INVENTORY_UNION_SLOT', 'undefined!', 'undefined!', 'adjust_cpa', 'undefined!', 'image_id', 'image_id', 'undefined!', 'undefined!', 'undefined!', 'interest_action_mode', 'inventory_type_INVENTORY_UNION_SPLASH_SLOT', 'undefined!', 'label_ids_0', 'image_id', 'undefined!', 'undefined!', 'undefined!', 'image_id', 'undefined!', 'undefined!', 'image_id', 'inventory_type_INVENTORY_UNION_SPLASH_SLOT', 'undefined!', 'undefined!', 'image_id', 'image_id', 'undefined!', 'undefined!', 'undefined!', 'label_ids_7', 'image_id', 'image_id', 'undefined!', 'undefined!', 'retargeting_type', 'undefined!', 'ad_account_id', 'age_AGE_BETWEEN_18_23', 'image_id', 'cpa_bid', 'undefined!', 'inventory_type_INVENTORY_UNION_SPLASH_SLOT', 'inventory_type_UNION_BOUTIQUE_GAME', 'inventory_type_INVENTORY_UNION_SLOT', 'cpa_bid', 'cpa_bid', 'undefined!', 'undefined!', 'undefined!', 'undefined!', 'undefined!', 'undefined!', 'undefined!', 'undefined!', 'undefined!', 'undefined!', 'retargeting_type', 'undefined!', 'undefined!', 'budget', 'launch_price', 'age_AGE_BETWEEN_41_49', 'undefined!', 'undefined!', 'undefined!', 'cpa_bid', 'undefined!', 'interest_action_mode', 'undefined!', 'ios_osv', 'undefined!', 'undefined!', 'cpa_bid', 'undefined!', 'inventory_type_UNION_BOUTIQUE_GAME', 'undefined!', 'inventory_type_INVENTORY_HOTSOON_FEED', 'undefined!', 'undefined!', 'ad_account_id', 'budget', 'undefined!', 'undefined!', 'undefined!', 'label_ids_1', 'undefined!', 'undefined!', 'flow_control_mode', 'ad_account_id', 'undefined!', 'ad_account_id', 'label_ids_2', 'undefined!', 'undefined!', 'image_id', 'image_id', 'undefined!', 'ad_account_id', 'undefined!', 'hide_if_converted', 'undefined!', 'undefined!', 'image_id', 'undefined!', 'image_id', 'undefined!', 'undefined!', 'inventory_type_UNION_BOUTIQUE_GAME', 'undefined!', 'undefined!', 'image_id', 'undefined!', 'image_id', 'image_id', 'cpa_bid', 'smart_bid_type', 'cpa_bid', 'ad_account_id', 'undefined!', 'undefined!', 'undefined!', 'undefined!', 'undefined!', 'undefined!', 'cpa_bid', 'label_ids_2', 'ad_account_id', 'undefined!', 'label_ids_3', 'image_id', 'undefined!', 'undefined!', 'undefined!', 'undefined!', 'inventory_type_INVENTORY_UNION_SPLASH_SLOT', 'label_ids_9', 'undefined!', 'ad_account_id', 'gender', 'interest_action_mode', 'undefined!', 'image_id', 'undefined!', 'undefined!', 'undefined!', 'undefined!', 'image_id', 'undefined!', 'image_id', 'undefined!', 'undefined!', 'budget', 'ad_account_id', 'adjust_cpa', 'auto_extend_enabled', 'budget', 'undefined!', 'cpa_bid', 'budget', 'undefined!', 'ad_account_id', 'undefined!', 'undefined!', 'ac_WIFI', 'cpa_bid', 'undefined!', 'undefined!', 'undefined!', 'undefined!', 'undefined!', 'inventory_type_INVENTORY_UNION_SLOT', 'undefined!', 'undefined!', 'smart_bid_type', 'undefined!', 'undefined!', 'budget', 'label_ids_1', 'image_id', 'image_id', 'image_id', 'cpa_bid', 'undefined!', 'ad_account_id', 'image_id', 'action_days', 'inventory_type_INVENTORY_AWEME_FEED', 'undefined!', 'cpa_bid', 'undefined!', 'undefined!', 'undefined!', 'undefined!', 'undefined!', 'ad_account_id', 'undefined!', 'undefined!', 'undefined!', 'age_AGE_BETWEEN_31_40', 'ad_account_id', 'retargeting_type', 'image_id', 'undefined!', 'undefined!', 'undefined!', 'ios_osv', 'hide_if_converted', 'undefined!', 'undefined!', 'flow_control_mode', 'game_id', 'undefined!', 'undefined!', 'cpa_bid', 'cpa_bid', 'ad_account_id', 'undefined!', 'undefined!', 'undefined!', 'budget', 'cpa_bid', 'undefined!', 'undefined!', 'undefined!', 'budget', 'label_ids_6', 'undefined!', 'interest_action_mode', 'undefined!', 'location_type', 'undefined!', 'cpa_bid', 'undefined!', 'undefined!', 'inventory_type_INVENTORY_UNION_SPLASH_SLOT', 'image_id', 'image_id', 'image_id', 'image_id', 'undefined!', 'ad_account_id', 'undefined!', 'inventory_type_INVENTORY_VIDEO_FEED', 'undefined!', 'undefined!', 'undefined!', 'image_id', 'undefined!', 'cpa_bid', 'cpa_bid', 'image_id', 'undefined!', 'ad_account_id', 'undefined!', 'undefined!', 'undefined!', 'undefined!', 'undefined!', 'image_id', 'undefined!', 'image_id', 'undefined!', 'image_id', 'action_days', 'cpa_bid', 'undefined!', 'undefined!', 'undefined!', 'label_ids_0', 'undefined!', 'image_id', 'undefined!', 'image_id', 'image_id', 'cpa_bid', 'game_id', 'undefined!', 'undefined!', 'undefined!', 'undefined!', 'undefined!', 'ad_account_id', 'image_id', 'image_id', 'image_id', 'ad_account_id', 'cpa_bid', 'undefined!', 'undefined!', 'undefined!', 'flow_control_mode', 'ios_osv', 'image_id', 'image_id', 'undefined!', 'undefined!', 'gender', 'undefined!', 'budget', 'undefined!', 'undefined!', 'hide_if_converted', 'budget', 'ad_account_id', 'undefined!', 'image_id', 'age_AGE_BETWEEN_18_23', 'undefined!', 'action_days', 'cpa_bid', 'undefined!', 'cpa_bid', 'inventory_type_INVENTORY_UNION_SLOT', 'budget', 'undefined!', 'undefined!', 'undefined!', 'undefined!', 'undefined!', 'image_id', 'label_ids_-', 'inventory_type_INVENTORY_VIDEO_FEED', 'ac_4G', 'undefined!', 'undefined!', 'inventory_type_INVENTORY_UNION_SPLASH_SLOT', 'undefined!', 'cpa_bid', 'undefined!', 'undefined!', 'undefined!', 'undefined!', 'budget', 'budget', 'cpa_bid', 'image_id', 'undefined!', 'image_id', 'undefined!', 'undefined!', 'ad_account_id', 'image_id', 'undefined!', 'image_id', 'undefined!', 'undefined!', 'cpa_bid', 'undefined!', 'undefined!', 'undefined!', 'ad_account_id', 'action_days', 'ad_account_id', 'image_id', 'image_id', 'image_id', 'inventory_type_INVENTORY_VIDEO_FEED', 'game_id', 'cpa_bid', 'inventory_type_INVENTORY_AWEME_FEED', 'undefined!', 'undefined!', 'undefined!', 'undefined!', 'undefined!', 'undefined!', 'smart_bid_type', 'undefined!', 'undefined!', 'inventory_type_INVENTORY_UNION_SPLASH_SLOT', 'undefined!', 'label_ids_3', 'cpa_bid', 'undefined!', 'deep_bid_type', 'undefined!', 'undefined!', 'undefined!', 'image_id', 'label_ids_0', 'image_id', 'undefined!', 'image_id', 'ad_account_id', 'undefined!', 'undefined!', 'undefined!', 'game_id', 'adjust_cpa', 'undefined!', 'undefined!', 'undefined!', 'undefined!', 'image_id', 'undefined!', 'image_id', 'undefined!', 'ad_account_id', 'undefined!', 'image_id', 'undefined!', 'ad_account_id', 'age_AGE_BETWEEN_41_49', 'label_ids_0', 'undefined!', 'undefined!', 'undefined!', 'undefined!', 'inventory_type_INVENTORY_UNION_SPLASH_SLOT', 'undefined!', 'undefined!', 'age_AGE_BETWEEN_18_23', 'image_id', 'budget', 'label_ids_9', 'undefined!', 'undefined!', 'image_id', 'image_id', 'undefined!', 'image_id', 'smart_bid_type', 'undefined!', 'undefined!', 'undefined!', 'cpa_bid', 'undefined!', 'undefined!', 'undefined!', 'cpa_bid', 'cpa_bid', 'undefined!', 'undefined!', 'undefined!', 'inventory_type_INVENTORY_FEED', 'undefined!', 'undefined!', 'auto_extend_enabled', 'budget', 'hide_if_converted', 'interest_action_mode', 'image_id', 'undefined!', 'retargeting_type', 'undefined!', 'cpa_bid', 'undefined!', 'undefined!', 'cpa_bid', 'undefined!', 'age_AGE_BETWEEN_24_30', 'undefined!', 'undefined!', 'undefined!', 'hide_if_converted', 'image_id', 'undefined!', 'age_AGE_BETWEEN_31_40', 'undefined!', 'undefined!', 'cpa_bid', 'undefined!', 'image_id', 'undefined!', 'interest_action_mode', 'undefined!', 'smart_bid_type', 'undefined!', 'undefined!', 'undefined!', 'undefined!', 'adjust_cpa', 'age_AGE_ABOVE_50', 'undefined!', 'image_id', 'inventory_type_INVENTORY_FEED', 'undefined!', 'undefined!', 'interest_action_mode', 'budget', 'undefined!', 'undefined!', 'image_id', 'ac_WIFI', 'undefined!', 'undefined!', 'undefined!', 'cpa_bid', 'location_type', 'hide_if_converted', 'undefined!', 'inventory_type_INVENTORY_UNION_SLOT', 'undefined!', 'undefined!', 'image_id', 'image_id', 'undefined!', 'age_AGE_BETWEEN_24_30', 'undefined!', 'undefined!', 'hide_if_converted', 'interest_action_mode', 'action_days', 'undefined!', 'deep_bid_type', 'undefined!', 'undefined!', 'undefined!', 'undefined!', 'label_ids_-', 'undefined!', 'image_id', 'undefined!', 'undefined!', 'budget', 'label_ids_1', 'undefined!', 'undefined!', 'location_type', 'undefined!', 'image_id', 'ad_account_id', 'budget', 'launch_price', 'cpa_bid', 'undefined!', 'adjust_cpa', 'undefined!', 'image_id', 'cpa_bid', 'label_ids_2', 'inventory_type_INVENTORY_HOTSOON_FEED', 'undefined!', 'undefined!', 'undefined!', 'undefined!', 'budget', 'undefined!', 'image_id', 'undefined!', 'inventory_type_INVENTORY_HOTSOON_FEED', 'undefined!', 'ad_account_id', 'game_id', 'undefined!', 'inventory_type_INVENTORY_UNION_SPLASH_SLOT', 'undefined!', 'cpa_bid', 'undefined!', 'undefined!', 'undefined!', 'label_ids_9', 'undefined!', 'undefined!', 'inventory_type_INVENTORY_FEED', 'label_ids_1', 'adjust_cpa', 'undefined!', 'undefined!', 'undefined!', 'undefined!', 'undefined!', 'hide_if_converted', 'inventory_type_INVENTORY_UNION_SLOT', 'retargeting_type', 'undefined!', 'inventory_type_INVENTORY_VIDEO_FEED', 'undefined!', 'label_ids_0', 'undefined!', 'image_id', 'undefined!', 'inventory_type_INVENTORY_HOTSOON_FEED', 'ac_4G', 'undefined!', 'image_id', 'undefined!', 'undefined!', 'undefined!', 'label_ids_2', 'undefined!', 'label_ids_0', 'adjust_cpa', 'undefined!', 'undefined!', 'undefined!', 'undefined!', 'budget', 'ad_account_id', 'flow_control_mode', 'budget', 'image_id', 'inventory_type_INVENTORY_UNION_SLOT', 'image_id', 'location_type', 'undefined!', 'budget', 'budget', 'undefined!', 'undefined!', 'undefined!', 'undefined!', 'inventory_type_INVENTORY_UNION_SPLASH_SLOT', 'undefined!', 'gender', 'budget', 'label_ids_9', 'undefined!', 'interest_action_mode', 'undefined!', 'deep_bid_type', 'undefined!', 'undefined!', 'cpa_bid', 'undefined!', 'undefined!', 'interest_action_mode', 'undefined!', 'game_id', 'undefined!', 'undefined!', 'undefined!', 'undefined!', 'undefined!', 'label_ids_1', 'budget', 'ad_account_id', 'undefined!', 'ad_account_id', 'image_id', 'inventory_type_INVENTORY_VIDEO_FEED', 'image_id', 'undefined!', 'image_id', 'undefined!', 'undefined!', 'undefined!', 'image_id', 'undefined!', 'undefined!', 'retargeting_type', 'cpa_bid', 'adjust_cpa', 'undefined!', 'image_id', 'label_ids_2', 'undefined!', 'interest_action_mode', 'undefined!', 'game_id', 'undefined!', 'image_id', 'undefined!', 'age_AGE_BETWEEN_41_49', 'image_id', 'undefined!', 'undefined!', 'image_id', 'undefined!', 'undefined!', 'undefined!', 'cpa_bid', 'undefined!', 'image_id', 'age_AGE_BETWEEN_18_23', 'undefined!', 'undefined!', 'action_days', 'cpa_bid', 'ad_account_id', 'undefined!', 'undefined!', 'undefined!', 'undefined!', 'budget', 'cpa_bid', 'undefined!', 'undefined!', 'image_id', 'inventory_type_INVENTORY_UNION_SLOT', 'undefined!', 'undefined!', 'cpa_bid', 'cpa_bid', 'location_type', 'undefined!', 'age_AGE_BETWEEN_24_30', 'image_id', 'image_id', 'undefined!', 'undefined!', 'undefined!', 'undefined!', 'cpa_bid', 'undefined!', 'ad_account_id', 'budget', 'budget', 'image_id', 'undefined!', 'image_id', 'undefined!', 'undefined!', 'undefined!', 'undefined!', 'image_id', 'cpa_bid', 'undefined!', 'undefined!', 'undefined!', 'ad_account_id', 'undefined!', 'undefined!', 'undefined!', 'inventory_type_INVENTORY_TOMATO_NOVEL', 'budget', 'ios_osv', 'deep_bid_type', 'location_type', 'game_id', 'image_id', 'undefined!', 'undefined!', 'undefined!', 'inventory_type_INVENTORY_AWEME_FEED', 'image_id', 'cpa_bid', 'undefined!', 'undefined!', 'undefined!', 'undefined!', 'undefined!', 'ad_account_id', 'ad_account_id', 'image_id', 'budget', 'cpa_bid', 'label_ids_7', 'image_id', 'deep_bid_type', 'budget', 'undefined!', 'undefined!', 'undefined!', 'undefined!', 'ad_account_id', 'undefined!', 'image_id', 'cpa_bid', 'undefined!', 'undefined!', 'undefined!', 'game_id', 'age_AGE_BETWEEN_18_23', 'interest_action_mode', 'cpa_bid', 'undefined!', 'adjust_cpa', 'age_AGE_BETWEEN_24_30', 'undefined!', 'undefined!', 'undefined!', 'image_id', 'undefined!', 'image_id', 'undefined!', 'image_id', 'undefined!', 'undefined!', 'label_ids_-', 'ac_4G', 'undefined!', 'undefined!', 'undefined!', 'undefined!', 'ad_account_id', 'image_id', 'image_id', 'undefined!', 'undefined!', 'undefined!', 'image_id', 'undefined!', 'cpa_bid', 'age_AGE_BETWEEN_41_49', 'ac_WIFI', 'image_id', 'undefined!', 'undefined!', 'undefined!', 'undefined!', 'undefined!', 'inventory_type_INVENTORY_UNION_SLOT', 'image_id', 'ad_account_id', 'undefined!', 'undefined!', 'undefined!', 'label_ids_-', 'retargeting_type', 'interest_action_mode', 'undefined!', 'label_ids_9', 'undefined!', 'gender', 'undefined!', 'budget', 'hide_if_converted', 'undefined!', 'undefined!', 'undefined!', 'inventory_type_INVENTORY_VIDEO_FEED', 'hide_if_converted', 'ac_3G', 'undefined!', 'image_id', 'image_id', 'undefined!', 'undefined!', 'undefined!', 'undefined!', 'age_AGE_BETWEEN_18_23', 'undefined!', 'image_id', 'ad_account_id', 'undefined!', 'age_AGE_ABOVE_50', 'undefined!', 'undefined!', 'undefined!', 'undefined!', 'smart_bid_type', 'image_id', 'undefined!', 'cpa_bid', 'image_id', 'undefined!', 'game_id', 'image_id', 'undefined!', 'image_id', 'ad_account_id', 'undefined!', 'undefined!', 'budget', 'hide_if_converted', 'undefined!', 'hide_if_converted', 'undefined!', 'retargeting_type', 'undefined!', 'undefined!', 'undefined!', 'game_id', 'image_id', 'image_id', 'image_id', 'cpa_bid', 'gender', 'image_id', 'ac_4G', 'undefined!', 'undefined!', 'label_ids_9', 'ad_account_id', 'action_days', 'undefined!', 'undefined!', 'image_id', 'cpa_bid', 'ad_account_id', 'undefined!', 'undefined!', 'undefined!', 'undefined!', 'ad_account_id', 'undefined!', 'undefined!', 'undefined!', 'ad_account_id', 'inventory_type_INVENTORY_VIDEO_FEED', 'action_days', 'undefined!', 'undefined!', 'age_AGE_BETWEEN_31_40', 'interest_action_mode', 'undefined!', 'location_type', 'undefined!', 'undefined!', 'undefined!', 'inventory_type_INVENTORY_HOTSOON_FEED', 'undefined!', 'label_ids_9', 'undefined!', 'undefined!', 'undefined!', 'image_id', 'image_id', 'undefined!', 'ac_4G', 'undefined!', 'undefined!', 'undefined!', 'label_ids_9', 'ad_account_id', 'undefined!', 'undefined!', 'undefined!', 'undefined!', 'budget', 'undefined!', 'undefined!', 'budget', 'age_AGE_ABOVE_50', 'image_id', 'ac_WIFI', 'undefined!', 'undefined!', 'undefined!', 'image_id', 'undefined!', 'inventory_type_INVENTORY_UNION_SPLASH_SLOT', 'image_id', 'undefined!', 'undefined!', 'undefined!', 'ad_account_id', 'hide_if_converted', 'undefined!', 'retargeting_type', 'image_id', 'cpa_bid', 'ad_account_id', 'undefined!', 'undefined!', 'undefined!', 'undefined!', 'retargeting_type', 'image_id', 'undefined!', 'undefined!', 'ad_account_id', 'age_AGE_ABOVE_50', 'cpa_bid', 'game_id', 'undefined!', 'ad_account_id', 'undefined!', 'location_type', 'image_id', 'undefined!', 'label_ids_3', 'image_id', 'undefined!', 'undefined!', 'image_id', 'image_id', 'undefined!', 'undefined!', 'undefined!', 'undefined!', 'gender', 'image_id', 'age_AGE_BETWEEN_41_49', 'undefined!', 'inventory_type_INVENTORY_UNION_SLOT', 'undefined!', 'undefined!', 'age_AGE_BETWEEN_31_40', 'interest_action_mode', 'undefined!', 'undefined!', 'undefined!', 'undefined!', 'cpa_bid', 'undefined!', 'image_id', 'game_id', 'cpa_bid', 'image_id', 'ac_4G', 'label_ids_0', 'undefined!', 'label_ids_3', 'undefined!', 'undefined!', 'image_id', 'undefined!', 'undefined!', 'undefined!', 'undefined!', 'undefined!', 'undefined!', 'age_AGE_BETWEEN_18_23', 'age_AGE_BETWEEN_41_49', 'cpa_bid', 'undefined!', 'label_ids_-', 'undefined!', 'undefined!', 'cpa_bid', 'image_id', 'location_type', 'image_id', 'undefined!', 'undefined!', 'undefined!', 'undefined!', 'location_type', 'image_id', 'image_id', 'undefined!', 'image_id', 'game_id', 'undefined!', 'ad_account_id', 'cpa_bid', 'undefined!', 'image_id', 'undefined!', 'undefined!', 'undefined!', 'undefined!', 'undefined!', 'hide_if_converted', 'ad_account_id', 'undefined!', 'label_ids_0', 'undefined!', 'undefined!', 'undefined!', 'image_id', 'location_type', 'undefined!', 'ad_account_id', 'undefined!', 'undefined!', 'cpa_bid', 'ac_WIFI', 'image_id', 'image_id', 'undefined!', 'cpa_bid', 'undefined!', 'undefined!', 'undefined!', 'undefined!', 'inventory_type_INVENTORY_HOTSOON_FEED', 'undefined!', 'cpa_bid', 'image_id', 'undefined!', 'image_id', 'undefined!', 'undefined!', 'undefined!', 'image_id', 'hide_if_converted', 'action_days', 'age_AGE_BETWEEN_31_40', 'label_ids_9', 'undefined!', 'undefined!', 'undefined!', 'retargeting_type', 'image_id', 'undefined!', 'undefined!', 'undefined!', 'label_ids_2', 'cpa_bid', 'undefined!', 'image_id', 'retargeting_type', 'hide_if_converted', 'undefined!', 'undefined!', 'undefined!', 'cpa_bid', 'inventory_type_INVENTORY_AWEME_FEED', 'undefined!', 'undefined!', 'undefined!', 'undefined!', 'undefined!', 'flow_control_mode', 'label_ids_9', 'interest_action_mode', 'image_id', 'undefined!', 'undefined!', 'undefined!', 'cpa_bid', 'cpa_bid', 'game_id', 'inventory_type_INVENTORY_UNION_SPLASH_SLOT', 'undefined!', 'undefined!', 'inventory_type_INVENTORY_VIDEO_FEED', 'cpa_bid', 'undefined!', 'undefined!', 'undefined!', 'undefined!', 'undefined!', 'image_id', 'undefined!', 'undefined!', 'ad_account_id', 'gender', 'image_id', 'label_ids_2', 'interest_action_mode', 'undefined!', 'inventory_type_INVENTORY_UNION_SLOT', 'ad_account_id', 'undefined!', 'location_type', 'age_AGE_BETWEEN_31_40', 'smart_bid_type', 'image_id', 'undefined!', 'cpa_bid', 'undefined!', 'image_id', 'undefined!', 'image_id', 'undefined!', 'ad_account_id', 'undefined!', 'label_ids_0', 'undefined!', 'undefined!', 'undefined!', 'undefined!', 'undefined!', 'image_id', 'ad_account_id', 'undefined!', 'undefined!', 'image_id', 'undefined!', 'image_id', 'undefined!', 'age_AGE_BETWEEN_18_23', 'undefined!', 'game_id', 'undefined!', 'image_id', 'undefined!', 'undefined!', 'budget', 'undefined!', 'hide_if_converted', 'undefined!', 'image_id', 'adjust_cpa', 'undefined!', 'image_id', 'image_id', 'undefined!', 'undefined!', 'undefined!', 'inventory_type_INVENTORY_UNION_SPLASH_SLOT', 'undefined!', 'undefined!', 'undefined!', 'image_id', 'ac_WIFI', 'hide_if_converted', 'undefined!', 'undefined!', 'undefined!', 'undefined!', 'undefined!', 'hide_if_converted', 'age_AGE_BETWEEN_24_30', 'game_id', 'undefined!', 'label_ids_0', 'cpa_bid', 'undefined!', 'cpa_bid', 'undefined!', 'flow_control_mode', 'undefined!', 'image_id', 'undefined!', 'flow_control_mode', 'interest_action_mode', 'undefined!', 'ad_account_id', 'undefined!', 'undefined!', 'undefined!', 'undefined!', 'ios_osv', 'image_id', 'undefined!', 'undefined!', 'image_id', 'interest_action_mode', 'undefined!', 'undefined!', 'undefined!', 'cpa_bid', 'image_id', 'image_id', 'undefined!', 'cpa_bid', 'image_id', 'undefined!', 'undefined!', 'image_id', 'undefined!', 'label_ids_,', 'undefined!', 'cpa_bid', 'undefined!', 'undefined!', 'undefined!', 'undefined!', 'inventory_type_INVENTORY_VIDEO_FEED', 'undefined!', 'ad_account_id', 'undefined!', 'age_AGE_BETWEEN_24_30', 'undefined!', 'ad_account_id', 'image_id', 'age_AGE_BETWEEN_18_23', 'undefined!', 'undefined!', 'undefined!', 'undefined!', 'image_id', 'platform', 'ad_account_id', 'budget', 'cpa_bid', 'cpa_bid', 'ad_account_id', 'image_id', 'budget', 'cpa_bid', 'undefined!', 'cpa_bid', 'age_AGE_BETWEEN_31_40', 'undefined!', 'undefined!', 'budget', 'android_osv', 'inventory_type_UNION_BOUTIQUE_GAME', 'undefined!', 'undefined!', 'undefined!', 'cpa_bid', 'ad_account_id', 'image_id', 'flow_control_mode', 'undefined!', 'undefined!', 'undefined!', 'undefined!', 'cpa_bid', 'undefined!', 'undefined!', 'ad_account_id', 'undefined!', 'retargeting_type', 'undefined!', 'undefined!', 'android_osv', 'budget', 'undefined!', 'undefined!', 'cpa_bid', 'cpa_bid', 'age_AGE_BETWEEN_24_30', 'image_id', 'undefined!', 'location_type', 'undefined!', 'cpa_bid', 'inventory_type_INVENTORY_VIDEO_FEED', 'undefined!', 'undefined!', 'undefined!', 'inventory_type_INVENTORY_AWEME_FEED', 'auto_extend_enabled', 'inventory_type_INVENTORY_SEARCH', 'interest_action_mode', 'flow_control_mode', 'cpa_bid', 'undefined!', 'adjust_cpa', 'undefined!', 'undefined!', 'undefined!', 'label_ids_0', 'undefined!', 'undefined!', 'undefined!', 'undefined!', 'image_id', 'location_type', 'adjust_cpa', 'undefined!', 'cpa_bid', 'undefined!', 'undefined!', 'inventory_type_INVENTORY_FEED', 'undefined!', 'ad_account_id', 'hide_if_converted', 'inventory_type_INVENTORY_UNION_SLOT', 'cpa_bid', 'budget', 'smart_bid_type', 'undefined!', 'undefined!', 'undefined!', 'budget', 'undefined!', 'action_days', 'undefined!', 'undefined!', 'undefined!', 'undefined!', 'undefined!', 'cpa_bid', 'image_id', 'ad_account_id', 'image_id', 'undefined!', 'inventory_type_INVENTORY_FEED', 'undefined!', 'ad_account_id', 'undefined!', 'cpa_bid', 'cpa_bid', 'undefined!', 'undefined!', 'hide_if_converted', 'undefined!', 'flow_control_mode', 'interest_action_mode', 'undefined!', 'cpa_bid', 'undefined!', 'undefined!', 'undefined!', 'undefined!', 'image_id', 'location_type', 'hide_if_exists', 'undefined!', 'ad_account_id', 'undefined!', 'undefined!', 'flow_control_mode', 'undefined!', 'adjust_cpa', 'cpa_bid', 'undefined!', 'interest_action_mode', 'undefined!', 'undefined!', 'budget', 'undefined!', 'image_id', 'age_AGE_BETWEEN_18_23', 'undefined!', 'undefined!', 'undefined!', 'image_id', 'cpa_bid', 'flow_control_mode', 'image_id', 'location_type', 'undefined!', 'undefined!', 'undefined!', 'inventory_type_INVENTORY_UNION_SLOT', 'image_id', 'image_id', 'age_AGE_ABOVE_50', 'undefined!', 'undefined!', 'undefined!', 'ad_account_id', 'undefined!', 'undefined!', 'interest_action_mode', 'undefined!', 'undefined!', 'cpa_bid', 'budget', 'undefined!', 'undefined!', 'launch_price', 'undefined!', 'inventory_type_INVENTORY_HOTSOON_FEED', 'undefined!', 'age_AGE_BETWEEN_18_23', 'ad_account_id', 'undefined!', 'cpa_bid', 'undefined!', 'budget', 'undefined!', 'interest_action_mode', 'budget', 'undefined!', 'undefined!', 'inventory_type_INVENTORY_UNION_SLOT', 'undefined!', 'undefined!', 'undefined!', 'undefined!', 'undefined!', 'android_osv', 'ad_account_id', 'undefined!', 'budget', 'image_id', 'interest_action_mode', 'undefined!', 'undefined!', 'undefined!', 'hide_if_exists', 'ad_account_id', 'undefined!', 'age_AGE_BETWEEN_18_23', 'undefined!', 'undefined!', 'undefined!', 'undefined!', 'inventory_type_INVENTORY_UNION_SPLASH_SLOT', 'ad_account_id', 'undefined!', 'budget', 'image_id', 'ad_account_id', 'image_id', 'budget', 'interest_action_mode', 'undefined!', 'undefined!', 'undefined!', 'undefined!', 'undefined!', 'image_id', 'budget', 'undefined!', 'image_id', 'undefined!', 'undefined!', 'inventory_type_INVENTORY_VIDEO_FEED', 'smart_bid_type', 'cpa_bid', 'undefined!', 'undefined!', 'undefined!', 'undefined!', 'undefined!', 'cpa_bid', 'hide_if_exists', 'adjust_cpa', 'undefined!', 'undefined!', 'undefined!', 'undefined!', 'ad_account_id', 'cpa_bid', 'image_id', 'cpa_bid', 'undefined!', 'cpa_bid', 'launch_price', 'undefined!', 'undefined!', 'undefined!', 'interest_action_mode', 'label_ids_1', 'ad_account_id', 'gender', 'undefined!', 'undefined!', 'image_id', 'cpa_bid', 'undefined!', 'smart_bid_type', 'undefined!', 'image_id', 'undefined!', 'undefined!', 'undefined!', 'undefined!', 'undefined!', 'undefined!', 'cpa_bid', 'cpa_bid', 'adjust_cpa', 'cpa_bid', 'image_id', 'undefined!', 'image_id', 'undefined!', 'image_id', 'undefined!', 'undefined!', 'undefined!', 'inventory_type_INVENTORY_VIDEO_FEED', 'hide_if_converted', 'undefined!', 'image_id', 'undefined!', 'undefined!', 'undefined!', 'interest_action_mode', 'undefined!', 'launch_price', 'undefined!', 'undefined!', 'delivery_range', 'cpa_bid', 'launch_price', 'undefined!', 'budget', 'budget', 'age_AGE_BETWEEN_24_30', 'undefined!', 'image_id', 'age_AGE_BETWEEN_41_49', 'cpa_bid', 'undefined!', 'undefined!', 'inventory_type_INVENTORY_UNION_SLOT', 'undefined!', 'image_id', 'undefined!', 'undefined!', 'label_ids_1', 'undefined!', 'undefined!', 'image_id', 'cpa_bid', 'undefined!', 'undefined!', 'undefined!', 'undefined!', 'undefined!', 'undefined!', 'ad_account_id', 'budget', 'undefined!', 'undefined!', 'cpa_bid', 'undefined!', 'budget', 'undefined!', 'undefined!', 'launch_price', 'age_AGE_BETWEEN_41_49', 'ad_account_id', 'label_ids_7', 'retargeting_type', 'smart_bid_type', 'image_id', 'undefined!', 'action_days', 'label_ids_1', 'cpa_bid', 'undefined!', 'undefined!', 'undefined!', 'image_id', 'budget', 'image_id', 'cpa_bid', 'undefined!', 'ac_WIFI', 'undefined!', 'interest_action_mode', 'undefined!', 'label_ids_,', 'cpa_bid', 'undefined!', 'android_osv', 'budget', 'undefined!', 'image_id', 'undefined!', 'undefined!', 'undefined!', 'undefined!', 'budget', 'undefined!', 'undefined!', 'undefined!', 'location_type', 'undefined!', 'undefined!', 'retargeting_type', 'hide_if_converted', 'budget', 'budget', 'undefined!', 'undefined!', 'age_AGE_BETWEEN_24_30', 'undefined!', 'label_ids_3', 'undefined!', 'undefined!', 'undefined!', 'cpa_bid', 'ac_WIFI', 'undefined!', 'cpa_bid', 'ad_account_id', 'undefined!', 'undefined!', 'undefined!', 'ad_account_id', 'image_id', 'undefined!', 'undefined!', 'action_days', 'label_ids_-', 'undefined!', 'undefined!', 'undefined!', 'undefined!', 'flow_control_mode', 'auto_extend_enabled', 'undefined!', 'image_id', 'undefined!', 'undefined!', 'undefined!', 'undefined!', 'cpa_bid', 'cpa_bid', 'budget', 'inventory_type_INVENTORY_FEED', 'undefined!', 'android_osv', 'ad_account_id', 'retargeting_type', 'cpa_bid', 'image_id', 'undefined!', 'undefined!', 'undefined!', 'undefined!', 'image_id', 'undefined!', 'image_id', 'retargeting_type', 'undefined!', 'hide_if_exists', 'undefined!', 'undefined!', 'undefined!', 'label_ids_1', 'undefined!', 'undefined!', 'budget', 'budget', 'budget', 'undefined!', 'cpa_bid', 'game_id', 'undefined!', 'undefined!', 'ad_account_id', 'android_osv', 'undefined!', 'action_days', 'undefined!', 'undefined!', 'undefined!', 'cpa_bid', 'label_ids_0', 'ad_account_id', 'undefined!', 'flow_control_mode', 'undefined!', 'ad_account_id', 'undefined!', 'undefined!', 'undefined!', 'image_id', 'label_ids_1', 'undefined!', 'undefined!', 'undefined!', 'image_id', 'image_id', 'interest_action_mode', 'undefined!', 'undefined!', 'undefined!', 'budget', 'undefined!', 'ad_account_id', 'ac_4G', 'image_id', 'undefined!', 'undefined!', 'label_ids_0', 'cpa_bid', 'image_id', 'adjust_cpa', 'undefined!', 'undefined!', 'undefined!', 'undefined!', 'undefined!', 'budget', 'undefined!', 'budget', 'label_ids_2', 'undefined!', 'undefined!', 'image_id', 'undefined!', 'image_id', 'undefined!', 'inventory_type_INVENTORY_HOTSOON_FEED', 'retargeting_type', 'undefined!', 'undefined!', 'undefined!', 'undefined!', 'image_id', 'location_type', 'undefined!', 'inventory_type_INVENTORY_AWEME_FEED', 'hide_if_exists', 'cpa_bid', 'undefined!', 'undefined!', 'undefined!', 'cpa_bid', 'undefined!', 'interest_action_mode', 'cpa_bid', 'budget', 'retargeting_type', 'hide_if_exists', 'cpa_bid', 'undefined!', 'cpa_bid', 'label_ids_-', 'android_osv', 'undefined!', 'undefined!', 'undefined!', 'budget', 'label_ids_2', 'undefined!', 'undefined!', 'undefined!', 'flow_control_mode', 'undefined!', 'undefined!', 'undefined!', 'label_ids_2', 'android_osv', 'undefined!', 'undefined!', 'undefined!', 'undefined!', 'label_ids_1', 'undefined!', 'location_type', 'undefined!', 'undefined!', 'undefined!', 'budget', 'image_id', 'image_id', 'image_id', 'inventory_type_INVENTORY_UNION_SPLASH_SLOT', 'undefined!', 'undefined!', 'undefined!', 'android_osv', 'undefined!', 'undefined!', 'label_ids_9', 'android_osv', 'undefined!', 'image_id', 'undefined!', 'age_AGE_BETWEEN_18_23', 'undefined!', 'undefined!', 'cpa_bid', 'cpa_bid', 'undefined!', 'undefined!', 'ad_account_id', 'undefined!', 'undefined!', 'cpa_bid', 'hide_if_exists', 'inventory_type_INVENTORY_SEARCH', 'game_id', 'inventory_type_INVENTORY_HOTSOON_FEED', 'smart_bid_type', 'label_ids_2', 'ad_account_id', 'undefined!', 'ad_account_id', 'cpa_bid', 'image_id', 'label_ids_1', 'undefined!', 'undefined!', 'undefined!', 'undefined!', 'cpa_bid', 'ad_account_id', 'age_AGE_BETWEEN_31_40', 'budget', 'undefined!', 'undefined!', 'undefined!', 'undefined!', 'undefined!', 'cpa_bid', 'undefined!', 'undefined!', 'undefined!', 'location_type', 'budget', 'undefined!', 'action_days', 'undefined!', 'age_AGE_BETWEEN_41_49', 'undefined!', 'undefined!', 'label_ids_2', 'budget', 'launch_price', 'undefined!', 'undefined!', 'ad_account_id', 'age_AGE_BETWEEN_31_40', 'undefined!', 'undefined!', 'cpa_bid', 'adjust_cpa', 'cpa_bid', 'retargeting_type', 'undefined!', 'undefined!', 'budget', 'cpa_bid', 'undefined!', 'cpa_bid', 'undefined!', 'undefined!', 'undefined!', 'undefined!', 'image_id', 'undefined!', 'budget', 'undefined!', 'cpa_bid', 'undefined!', 'age_AGE_BETWEEN_18_23', 'undefined!', 'undefined!', 'inventory_type_UNION_BOUTIQUE_GAME', 'undefined!', 'budget', 'undefined!', 'undefined!', 'budget', 'inventory_type_UNION_BOUTIQUE_GAME', 'launch_price', 'image_id', 'undefined!', 'undefined!', 'undefined!', 'ac_4G', 'undefined!', 'undefined!', 'cpa_bid', 'inventory_type_UNION_BOUTIQUE_GAME', 'ac_WIFI', 'undefined!', 'undefined!', 'undefined!', 'budget', 'location_type', 'undefined!', 'undefined!', 'undefined!', 'undefined!', 'image_id', 'budget', 'image_id', 'budget', 'budget', 'undefined!', 'cpa_bid', 'undefined!', 'undefined!', 'undefined!', 'launch_price', 'cpa_bid', 'undefined!', 'undefined!', 'android_osv', 'undefined!', 'ad_account_id', 'budget', 'adjust_cpa', 'undefined!', 'undefined!', 'ad_account_id', 'image_id', 'undefined!', 'budget', 'undefined!', 'undefined!', 'image_id', 'undefined!', 'image_id', 'undefined!', 'undefined!', 'inventory_type_INVENTORY_VIDEO_FEED', 'undefined!', 'undefined!', 'image_id', 'retargeting_type', 'undefined!', 'undefined!', 'undefined!', 'hide_if_converted', 'image_id', 'undefined!', 'age_AGE_BETWEEN_41_49', 'undefined!', 'undefined!', 'location_type', 'ad_account_id', 'undefined!', 'cpa_bid', 'undefined!', 'inventory_type_INVENTORY_UNION_SLOT', 'ad_account_id', 'undefined!', 'action_days', 'budget', 'undefined!', 'undefined!', 'undefined!', 'undefined!', 'location_type', 'image_id', 'cpa_bid', 'undefined!', 'cpa_bid', 'budget', 'undefined!', 'undefined!', 'undefined!', 'undefined!', 'undefined!', 'inventory_type_INVENTORY_FEED', 'image_id', 'undefined!', 'undefined!', 'hide_if_exists', 'auto_extend_enabled', 'budget', 'android_osv', 'inventory_type_INVENTORY_HOTSOON_FEED', 'game_id', 'undefined!', 'undefined!', 'undefined!', 'undefined!', 'image_id', 'image_id', 'undefined!', 'undefined!', 'image_id', 'inventory_type_INVENTORY_UNION_SPLASH_SLOT', 'undefined!', 'budget', 'undefined!', 'undefined!', 'adjust_cpa', 'undefined!', 'undefined!', 'image_id', 'undefined!', 'undefined!', 'cpa_bid', 'image_id', 'undefined!', 'undefined!', 'flow_control_mode', 'label_ids_2', 'action_days', 'undefined!', 'undefined!', 'undefined!', 'image_id', 'image_id', 'undefined!', 'inventory_type_INVENTORY_VIDEO_FEED', 'undefined!', 'undefined!', 'undefined!', 'age_AGE_BETWEEN_24_30', 'ad_account_id', 'undefined!', 'undefined!', 'ad_account_id', 'launch_price', 'location_type', 'undefined!', 'undefined!', 'cpa_bid', 'undefined!', 'budget', 'ad_account_id', 'undefined!', 'cpa_bid', 'label_ids_9', 'undefined!', 'undefined!', 'undefined!', 'action_days', 'undefined!', 'smart_bid_type', 'undefined!', 'interest_action_mode', 'undefined!', 'undefined!', 'flow_control_mode', 'undefined!', 'ac_WIFI', 'undefined!', 'undefined!', 'ac_WIFI', 'android_osv', 'budget', 'game_id', 'retargeting_type', 'inventory_type_INVENTORY_UNION_SLOT', 'undefined!', 'inventory_type_INVENTORY_UNION_SPLASH_SLOT', 'cpa_bid', 'undefined!', 'undefined!', 'undefined!', 'budget', 'launch_price', 'hide_if_converted', 'undefined!', 'undefined!', 'action_days', 'cpa_bid', 'undefined!', 'undefined!', 'undefined!', 'undefined!', 'undefined!', 'interest_action_mode', 'undefined!', 'cpa_bid', 'label_ids_1', 'age_AGE_BETWEEN_24_30', 'undefined!', 'undefined!', 'undefined!', 'undefined!', 'ad_account_id', 'image_id', 'undefined!', 'undefined!', 'retargeting_type', 'inventory_type_INVENTORY_VIDEO_FEED', 'image_id', 'hide_if_converted', 'undefined!', 'undefined!', 'ad_account_id', 'undefined!', 'undefined!', 'age_AGE_BETWEEN_18_23', 'undefined!', 'undefined!', 'undefined!', 'age_AGE_BETWEEN_41_49', 'inventory_type_INVENTORY_HOTSOON_FEED', 'undefined!', 'label_ids_,', 'interest_action_mode', 'budget', 'image_id', 'undefined!', 'image_id', 'image_id', 'location_type', 'image_id', 'undefined!', 'undefined!', 'undefined!', 'undefined!', 'undefined!', 'undefined!', 'budget', 'undefined!', 'undefined!', 'undefined!', 'retargeting_type', 'inventory_type_INVENTORY_HOTSOON_FEED', 'label_ids_0', 'undefined!', 'image_id', 'budget', 'ad_account_id', 'undefined!', 'ad_account_id', 'undefined!', 'undefined!', 'undefined!', 'location_type', 'undefined!', 'launch_price', 'cpa_bid', 'undefined!', 'image_id', 'undefined!', 'undefined!', 'undefined!', 'image_id', 'undefined!', 'deep_bid_type', 'undefined!', 'ad_account_id', 'image_id', 'undefined!', 'label_ids_1', 'undefined!', 'undefined!', 'undefined!', 'location_type', 'cpa_bid', 'undefined!', 'ad_account_id', 'budget', 'undefined!', 'undefined!', 'hide_if_converted', 'image_id', 'undefined!', 'undefined!', 'undefined!', 'undefined!', 'game_id', 'cpa_bid', 'adjust_cpa', 'game_id', 'budget', 'flow_control_mode', 'interest_action_mode', 'budget', 'ac_WIFI', 'image_id', 'ad_account_id', 'undefined!', 'undefined!', 'budget', 'image_id', 'adjust_cpa', 'age_AGE_BETWEEN_41_49', 'undefined!', 'cpa_bid', 'undefined!', 'undefined!', 'location_type', 'undefined!', 'image_id', 'undefined!', 'cpa_bid', 'undefined!', 'cpa_bid', 'undefined!', 'undefined!', 'undefined!', 'undefined!', 'image_id', 'cpa_bid', 'undefined!', 'undefined!', 'cpa_bid', 'undefined!', 'age_AGE_BETWEEN_31_40', 'undefined!', 'undefined!', 'budget', 'cpa_bid', 'budget', 'ios_osv', 'label_ids_1', 'undefined!', 'undefined!', 'undefined!', 'image_id', 'inventory_type_INVENTORY_VIDEO_FEED', 'label_ids_1', 'undefined!', 'undefined!', 'undefined!', 'location_type', 'undefined!', 'cpa_bid', 'undefined!', 'cpa_bid', 'undefined!', 'undefined!', 'image_id', 'undefined!', 'adjust_cpa', 'cpa_bid', 'undefined!', 'cpa_bid', 'image_id', 'undefined!', 'undefined!', 'undefined!', 'undefined!', 'cpa_bid', 'flow_control_mode', 'inventory_type_INVENTORY_UNION_SLOT', 'undefined!', 'undefined!', 'undefined!', 'image_id', 'image_id', 'ios_osv', 'budget', 'undefined!', 'ad_account_id', 'image_id', 'undefined!', 'cpa_bid', 'undefined!', 'undefined!', 'undefined!', 'undefined!', 'undefined!', 'undefined!', 'inventory_type_INVENTORY_HOTSOON_FEED', 'undefined!', 'image_id', 'image_id', 'undefined!', 'undefined!', 'inventory_type_UNION_BOUTIQUE_GAME', 'age_AGE_BETWEEN_18_23', 'cpa_bid', 'image_id', 'undefined!', 'ios_osv', 'undefined!', 'undefined!', 'interest_action_mode', 'ad_account_id', 'cpa_bid', 'undefined!', 'undefined!', 'undefined!', 'undefined!', 'undefined!', 'undefined!', 'cpa_bid', 'undefined!', 'undefined!', 'image_id', 'undefined!', 'image_id', 'undefined!', 'cpa_bid', 'undefined!', 'action_days', 'ios_osv', 'undefined!', 'image_id', 'undefined!', 'image_id', 'undefined!', 'undefined!', 'undefined!', 'age_AGE_BETWEEN_24_30', 'undefined!', 'budget', 'undefined!', 'budget', 'undefined!', 'cpa_bid', 'image_id', 'flow_control_mode', 'undefined!', 'undefined!', 'undefined!', 'undefined!', 'cpa_bid', 'image_id', 'image_id', 'budget', 'ios_osv', 'budget', 'undefined!', 'undefined!', 'undefined!', 'inventory_type_UNION_BOUTIQUE_GAME', 'undefined!', 'undefined!', 'interest_action_mode', 'undefined!', 'undefined!', 'undefined!', 'undefined!', 'budget', 'ad_account_id', 'budget', 'cpa_bid', 'label_ids_,', 'ad_account_id', 'ad_account_id', 'ad_account_id', 'cpa_bid', 'cpa_bid', 'inventory_type_INVENTORY_UNION_SLOT', 'age_AGE_BETWEEN_18_23', 'age_AGE_ABOVE_50', 'location_type', 'auto_extend_enabled', 'undefined!', 'undefined!', 'ad_account_id', 'cpa_bid', 'undefined!', 'undefined!', 'undefined!', 'undefined!', 'adjust_cpa', 'inventory_type_INVENTORY_VIDEO_FEED', 'cpa_bid', 'undefined!', 'undefined!', 'undefined!', 'inventory_type_INVENTORY_HOTSOON_FEED', 'undefined!', 'undefined!', 'cpa_bid', 'undefined!', 'cpa_bid', 'undefined!', 'undefined!', 'image_id', 'undefined!', 'undefined!', 'cpa_bid', 'image_id', 'image_id', 'undefined!', 'undefined!', 'undefined!', 'budget', 'undefined!', 'cpa_bid', 'undefined!', 'cpa_bid', 'smart_bid_type', 'age_AGE_BETWEEN_18_23', 'undefined!', 'image_id', 'undefined!', 'image_id', 'undefined!', 'undefined!', 'ac_4G', 'undefined!', 'undefined!', 'hide_if_converted', 'undefined!', 'retargeting_type', 'undefined!', 'label_ids_0', 'cpa_bid', 'budget', 'undefined!', 'retargeting_type', 'undefined!', 'undefined!', 'label_ids_-', 'cpa_bid', 'undefined!', 'budget', 'undefined!', 'interest_action_mode', 'undefined!', 'undefined!', 'ac_4G', 'undefined!', 'undefined!', 'undefined!', 'adjust_cpa', 'undefined!', 'interest_action_mode', 'undefined!', 'cpa_bid', 'undefined!', 'undefined!', 'delivery_range', 'budget', 'image_id', 'image_id', 'undefined!', 'undefined!', 'undefined!', 'adjust_cpa', 'undefined!', 'undefined!', 'budget', 'undefined!', 'undefined!', 'cpa_bid', 'undefined!', 'image_id', 'image_id', 'undefined!', 'undefined!', 'undefined!', 'budget', 'budget', 'undefined!', 'ad_account_id', 'ac_WIFI', 'undefined!', 'undefined!', 'undefined!', 'image_id', 'undefined!', 'undefined!', 'budget', 'budget', 'undefined!', 'undefined!', 'inventory_type_INVENTORY_FEED', 'cpa_bid', 'inventory_type_INVENTORY_UNION_SLOT', 'undefined!', 'undefined!', 'undefined!', 'image_id', 'undefined!', 'image_id', 'deep_bid_type', 'undefined!', 'cpa_bid', 'interest_action_mode', 'undefined!', 'undefined!', 'ad_account_id', 'image_id', 'undefined!', 'undefined!', 'flow_control_mode', 'budget', 'undefined!', 'undefined!', 'budget', 'undefined!', 'cpa_bid', 'undefined!', 'cpa_bid', 'label_ids_-', 'undefined!', 'undefined!', 'budget', 'cpa_bid', 'undefined!', 'undefined!', 'ac_WIFI', 'image_id', 'image_id', 'undefined!', 'undefined!', 'undefined!', 'undefined!', 'budget', 'cpa_bid', 'inventory_type_INVENTORY_UNION_SPLASH_SLOT', 'image_id', 'ad_account_id', 'ios_osv', 'budget', 'hide_if_converted', 'undefined!', 'undefined!', 'undefined!', 'undefined!', 'age_AGE_BETWEEN_24_30', 'undefined!', 'undefined!', 'undefined!', 'undefined!', 'location_type', 'cpa_bid', 'undefined!', 'cpa_bid', 'undefined!', 'undefined!', 'age_AGE_ABOVE_50', 'undefined!', 'undefined!', 'ad_account_id', 'budget', 'undefined!', 'undefined!', 'cpa_bid', 'undefined!', 'undefined!', 'adjust_cpa', 'ad_account_id', 'cpa_bid', 'undefined!', 'undefined!', 'undefined!', 'age_AGE_ABOVE_50', 'undefined!', 'undefined!', 'budget', 'cpa_bid', 'undefined!', 'ad_account_id', 'undefined!', 'label_ids_3', 'budget', 'undefined!', 'inventory_type_INVENTORY_UNION_SPLASH_SLOT', 'undefined!', 'label_ids_0', 'undefined!', 'undefined!', 'retargeting_type', 'undefined!', 'undefined!', 'image_id', 'cpa_bid', 'undefined!', 'budget', 'undefined!', 'undefined!', 'image_id', 'cpa_bid', 'budget', 'cpa_bid', 'auto_extend_enabled', 'cpa_bid', 'image_id', 'undefined!', 'ad_account_id', 'label_ids_2', 'inventory_type_INVENTORY_HOTSOON_FEED', 'interest_action_mode', 'image_id', 'undefined!', 'image_id', 'undefined!', 'undefined!', 'undefined!', 'undefined!', 'undefined!', 'ad_account_id', 'undefined!', 'image_id', 'budget', 'undefined!', 'image_id', 'undefined!', 'undefined!', 'adjust_cpa', 'cpa_bid', 'undefined!', 'action_days', 'undefined!', 'undefined!', 'label_ids_0', 'undefined!', 'undefined!', 'undefined!', 'ad_account_id', 'undefined!', 'undefined!', 'age_AGE_BETWEEN_41_49', 'undefined!', 'undefined!', 'budget', 'inventory_type_INVENTORY_VIDEO_FEED', 'image_id', 'image_id', 'undefined!', 'undefined!', 'undefined!', 'inventory_type_INVENTORY_UNION_SPLASH_SLOT', 'undefined!', 'interest_action_mode', 'undefined!', 'undefined!', 'deep_bid_type', 'image_id', 'undefined!', 'undefined!', 'ad_account_id', 'label_ids_0', 'undefined!', 'image_id', 'undefined!', 'undefined!', 'undefined!', 'undefined!', 'image_id', 'cpa_bid', 'image_id', 'undefined!', 'inventory_type_INVENTORY_HOTSOON_FEED', 'age_AGE_BETWEEN_41_49', 'undefined!', 'budget', 'label_ids_2', 'undefined!', 'undefined!', 'undefined!', 'cpa_bid', 'cpa_bid', 'undefined!', 'undefined!', 'undefined!', 'undefined!', 'ad_account_id', 'cpa_bid', 'undefined!', 'image_id', 'undefined!', 'budget', 'undefined!', 'undefined!', 'undefined!', 'budget', 'undefined!', 'ad_account_id', 'undefined!', 'undefined!', 'launch_price', 'adjust_cpa', 'cpa_bid', 'image_id', 'inventory_type_UNION_BOUTIQUE_GAME', 'cpa_bid', 'flow_control_mode', 'undefined!', 'undefined!', 'undefined!', 'action_days', 'undefined!', 'undefined!', 'flow_control_mode', 'undefined!', 'image_id', 'undefined!', 'undefined!', 'ac_WIFI', 'undefined!', 'undefined!', 'image_id', 'ad_account_id', 'age_AGE_BETWEEN_18_23', 'image_id', 'budget', 'undefined!', 'ad_account_id', 'undefined!', 'undefined!', 'ad_account_id', 'undefined!', 'cpa_bid', 'image_id', 'budget', 'budget', 'undefined!', 'label_ids_2', 'undefined!', 'image_id', 'undefined!', 'undefined!', 'undefined!', 'undefined!', 'cpa_bid', 'game_id', 'undefined!', 'undefined!', 'inventory_type_INVENTORY_UNION_SLOT', 'undefined!', 'undefined!', 'undefined!', 'undefined!', 'inventory_type_INVENTORY_VIDEO_FEED', 'undefined!', 'cpa_bid', 'undefined!', 'undefined!', 'age_AGE_BETWEEN_24_30', 'undefined!', 'cpa_bid', 'inventory_type_INVENTORY_HOTSOON_FEED', 'flow_control_mode', 'undefined!', 'undefined!', 'undefined!', 'budget', 'label_ids_1', 'undefined!', 'budget', 'undefined!', 'undefined!', 'location_type', 'undefined!', 'undefined!', 'cpa_bid', 'image_id', 'cpa_bid', 'gender', 'undefined!', 'ad_account_id', 'undefined!', 'android_osv', 'undefined!', 'cpa_bid', 'undefined!', 'undefined!', 'retargeting_type', 'cpa_bid', 'android_osv', 'budget', 'undefined!', 'image_id', 'undefined!', 'undefined!', 'location_type', 'age_AGE_ABOVE_50', 'undefined!', 'label_ids_1', 'undefined!', 'undefined!', 'undefined!', 'age_AGE_BETWEEN_41_49', 'image_id', 'image_id', 'undefined!', 'undefined!', 'undefined!', 'image_id', 'undefined!', 'cpa_bid', 'cpa_bid', 'budget', 'undefined!', 'undefined!', 'undefined!', 'undefined!', 'label_ids_1', 'age_AGE_BETWEEN_18_23', 'ad_account_id', 'cpa_bid', 'undefined!', 'cpa_bid', 'interest_action_mode', 'interest_action_mode', 'cpa_bid', 'undefined!', 'image_id', 'inventory_type_INVENTORY_UNION_SLOT', 'undefined!', 'undefined!', 'undefined!', 'undefined!', 'undefined!', 'undefined!', 'budget', 'undefined!', 'age_AGE_BETWEEN_41_49', 'undefined!', 'undefined!', 'gender', 'image_id', 'undefined!', 'image_id', 'undefined!', 'budget', 'cpa_bid', 'undefined!', 'cpa_bid', 'undefined!', 'cpa_bid', 'image_id', 'undefined!', 'undefined!', 'undefined!', 'undefined!', 'undefined!', 'hide_if_exists', 'budget', 'cpa_bid', 'undefined!', 'ad_account_id', 'label_ids_7', 'undefined!', 'undefined!', 'cpa_bid', 'age_AGE_BETWEEN_18_23', 'undefined!', 'undefined!', 'cpa_bid', 'undefined!', 'cpa_bid', 'undefined!', 'undefined!', 'undefined!', 'undefined!', 'launch_price', 'image_id', 'inventory_type_INVENTORY_FEED', 'undefined!', 'image_id', 'hide_if_converted', 'age_AGE_BETWEEN_24_30', 'cpa_bid', 'undefined!', 'undefined!', 'undefined!', 'image_id', 'undefined!', 'cpa_bid', 'undefined!', 'undefined!', 'budget', 'age_AGE_BETWEEN_41_49', 'cpa_bid', 'undefined!', 'undefined!', 'undefined!', 'undefined!', 'image_id', 'undefined!', 'inventory_type_INVENTORY_FEED', 'undefined!', 'undefined!', 'cpa_bid', 'undefined!', 'image_id', 'ad_account_id', 'hide_if_converted', 'undefined!', 'undefined!', 'ad_account_id', 'undefined!', 'budget', 'label_ids_2', 'undefined!', 'undefined!', 'undefined!', 'undefined!', 'image_id', 'adjust_cpa', 'budget', 'ad_account_id', 'image_id', 'image_id', 'android_osv', 'undefined!', 'retargeting_type', 'ad_account_id', 'launch_price', 'inventory_type_INVENTORY_HOTSOON_FEED', 'ad_account_id', 'hide_if_converted', 'label_ids_-', 'undefined!', 'undefined!', 'label_ids_2', 'undefined!', 'undefined!', 'undefined!', 'undefined!', 'undefined!', 'undefined!', 'gender', 'undefined!', 'hide_if_converted', 'undefined!', 'undefined!', 'android_osv', 'inventory_type_INVENTORY_UNION_SPLASH_SLOT', 'ad_account_id', 'undefined!', 'undefined!', 'undefined!', 'age_AGE_BETWEEN_18_23', 'undefined!', 'ad_account_id', 'undefined!', 'undefined!', 'game_id', 'label_ids_7', 'deep_bid_type', 'ad_account_id', 'age_AGE_ABOVE_50', 'ad_account_id', 'cpa_bid', 'undefined!', 'undefined!', 'hide_if_converted', 'game_id', 'inventory_type_INVENTORY_HOTSOON_FEED', 'undefined!', 'platform', 'undefined!', 'undefined!', 'cpa_bid', 'budget', 'undefined!', 'undefined!', 'retargeting_type', 'label_ids_9', 'undefined!', 'ad_account_id', 'undefined!', 'undefined!', 'undefined!', 'label_ids_1', 'age_AGE_BETWEEN_24_30', 'undefined!', 'undefined!', 'undefined!', 'hide_if_converted', 'undefined!', 'undefined!', 'age_AGE_ABOVE_50', 'undefined!', 'undefined!', 'gender', 'undefined!', 'image_id', 'budget', 'image_id', 'undefined!', 'undefined!', 'undefined!', 'undefined!', 'interest_action_mode', 'image_id', 'age_AGE_BETWEEN_18_23', 'ad_account_id', 'budget', 'cpa_bid', 'undefined!', 'image_id', 'cpa_bid', 'undefined!', 'cpa_bid', 'undefined!', 'undefined!', 'undefined!', 'undefined!', 'image_id', 'cpa_bid', 'undefined!', 'undefined!', 'undefined!', 'budget', 'retargeting_type', 'undefined!', 'ad_account_id', 'ad_account_id', 'undefined!', 'label_ids_,', 'undefined!', 'undefined!', 'undefined!', 'ad_account_id', 'undefined!', 'undefined!', 'cpa_bid', 'age_AGE_BETWEEN_31_40', 'undefined!', 'undefined!', 'undefined!', 'age_AGE_BETWEEN_31_40', 'cpa_bid', 'image_id', 'launch_price', 'auto_extend_enabled', 'cpa_bid', 'undefined!', 'hide_if_converted', 'undefined!', 'undefined!', 'undefined!', 'undefined!', 'ad_account_id', 'inventory_type_INVENTORY_VIDEO_FEED', 'image_id', 'undefined!', 'cpa_bid', 'undefined!', 'undefined!', 'undefined!', 'undefined!', 'undefined!', 'deep_bid_type', 'budget', 'image_id', 'age_AGE_ABOVE_50', 'undefined!', 'undefined!', 'undefined!', 'undefined!', 'image_id', 'location_type', 'undefined!', 'undefined!', 'image_id', 'undefined!', 'ad_account_id', 'undefined!', 'undefined!', 'label_ids_9', 'android_osv', 'budget', 'ad_account_id', 'undefined!', 'undefined!', 'age_AGE_BETWEEN_24_30', 'cpa_bid', 'undefined!', 'label_ids_2', 'undefined!', 'undefined!', 'image_id', 'undefined!', 'undefined!', 'inventory_type_INVENTORY_UNION_SLOT', 'hide_if_converted', 'interest_action_mode', 'undefined!', 'undefined!', 'undefined!', 'image_id', 'cpa_bid', 'label_ids_0', 'undefined!', 'undefined!', 'undefined!', 'undefined!', 'inventory_type_INVENTORY_FEED', 'undefined!', 'undefined!', 'ad_account_id', 'location_type', 'undefined!', 'age_AGE_BETWEEN_24_30', 'image_id', 'undefined!', 'undefined!', 'undefined!', 'undefined!', 'label_ids_-', 'image_id', 'budget', 'cpa_bid', 'ad_account_id', 'hide_if_converted', 'undefined!', 'undefined!', 'undefined!', 'undefined!', 'age_AGE_BETWEEN_41_49', 'undefined!', 'undefined!', 'undefined!', 'ac_4G', 'undefined!', 'undefined!', 'cpa_bid', 'label_ids_1', 'cpa_bid', 'ad_account_id', 'undefined!', 'undefined!', 'ad_account_id', 'undefined!', 'age_AGE_ABOVE_50', 'image_id', 'inventory_type_INVENTORY_HOTSOON_FEED', 'age_AGE_BETWEEN_31_40', 'undefined!', 'undefined!', 'undefined!', 'undefined!', 'undefined!', 'budget', 'image_id', 'location_type', 'undefined!', 'undefined!', 'ac_4G', 'budget', 'undefined!', 'image_id', 'undefined!', 'undefined!', 'cpa_bid', 'flow_control_mode', 'undefined!', 'inventory_type_INVENTORY_AWEME_FEED', 'undefined!', 'game_id', 'image_id', 'undefined!', 'undefined!', 'undefined!', 'label_ids_,', 'undefined!', 'cpa_bid', 'undefined!', 'undefined!', 'inventory_type_INVENTORY_UNION_SLOT', 'interest_action_mode', 'cpa_bid', 'undefined!', 'undefined!', 'budget', 'image_id', 'cpa_bid', 'image_id', 'cpa_bid', 'undefined!', 'undefined!', 'undefined!', 'image_id', 'image_id', 'label_ids_3', 'undefined!', 'deep_bid_type', 'game_id', 'undefined!', 'ad_account_id', 'undefined!', 'undefined!', 'undefined!', 'undefined!', 'image_id', 'undefined!', 'ad_account_id', 'undefined!', 'undefined!', 'image_id', 'undefined!', 'undefined!', 'label_ids_0', 'undefined!', 'undefined!', 'undefined!', 'undefined!', 'interest_action_mode', 'budget', 'hide_if_converted', 'undefined!', 'inventory_type_INVENTORY_FEED', 'ad_account_id', 'undefined!', 'ad_account_id', 'undefined!', 'android_osv', 'undefined!', 'retargeting_type', 'undefined!', 'undefined!', 'inventory_type_INVENTORY_UNION_SPLASH_SLOT', 'ad_account_id', 'flow_control_mode', 'undefined!', 'ad_account_id', 'undefined!', 'undefined!', 'undefined!', 'deep_bid_type', 'cpa_bid', 'image_id', 'undefined!', 'undefined!', 'undefined!', 'undefined!', 'undefined!', 'image_id', 'inventory_type_INVENTORY_UNION_SLOT', 'cpa_bid', 'ad_account_id', 'undefined!', 'image_id', 'undefined!', 'undefined!', 'label_ids_1', 'gender', 'budget', 'adjust_cpa', 'undefined!', 'platform', 'cpa_bid', 'undefined!', 'undefined!', 'undefined!', 'hide_if_converted', 'undefined!', 'undefined!', 'platform', 'undefined!', 'undefined!', 'inventory_type_INVENTORY_AWEME_FEED', 'interest_action_mode', 'undefined!', 'age_AGE_BETWEEN_41_49', 'ad_account_id', 'undefined!', 'undefined!', 'undefined!', 'cpa_bid', 'hide_if_converted', 'budget', 'ad_account_id', 'undefined!', 'budget', 'inventory_type_INVENTORY_HOTSOON_FEED', 'retargeting_type', 'undefined!', 'age_AGE_ABOVE_50', 'undefined!', 'undefined!', 'undefined!', 'undefined!', 'undefined!', 'undefined!', 'gender', 'budget', 'ad_account_id', 'undefined!', 'game_id', 'undefined!', 'cpa_bid', 'deep_bid_type', 'flow_control_mode', 'undefined!', 'ad_account_id', 'inventory_type_INVENTORY_FEED', 'undefined!', 'image_id', 'undefined!', 'hide_if_converted', 'undefined!', 'undefined!', 'budget', 'undefined!', 'age_AGE_ABOVE_50', 'undefined!', 'undefined!', 'launch_price', 'undefined!', 'ac_WIFI', 'undefined!', 'undefined!', 'undefined!', 'undefined!', 'budget', 'ad_account_id', 'undefined!', 'game_id', 'undefined!', 'retargeting_type', 'undefined!', 'undefined!', 'undefined!', 'adjust_cpa', 'ad_account_id', 'image_id', 'age_AGE_ABOVE_50', 'undefined!', 'undefined!', 'undefined!', 'ad_account_id', 'image_id', 'undefined!', 'undefined!', 'undefined!', 'age_AGE_ABOVE_50', 'undefined!', 'undefined!', 'image_id', 'budget', 'budget', 'ad_account_id', 'ad_account_id', 'cpa_bid', 'ad_account_id', 'undefined!', 'image_id', 'undefined!', 'label_ids_,', 'undefined!', 'undefined!', 'undefined!', 'retargeting_type', 'age_AGE_BETWEEN_41_49', 'label_ids_0', 'undefined!', 'image_id', 'undefined!', 'launch_price', 'image_id', 'undefined!', 'cpa_bid', 'undefined!', 'undefined!', 'undefined!', 'label_ids_9', 'image_id', 'image_id', 'label_ids_1', 'undefined!', 'undefined!', 'image_id', 'image_id', 'undefined!', 'undefined!', 'undefined!', 'undefined!', 'image_id', 'hide_if_converted', 'undefined!', 'undefined!', 'undefined!', 'budget', 'cpa_bid', 'label_ids_0', 'undefined!', 'undefined!', 'hide_if_converted', 'label_ids_0', 'undefined!', 'ac_WIFI', 'cpa_bid', 'undefined!', 'undefined!', 'undefined!', 'undefined!', 'image_id', 'undefined!', 'label_ids_3', 'ad_account_id', 'cpa_bid', 'undefined!', 'undefined!', 'undefined!', 'undefined!', 'budget', 'label_ids_,', 'image_id', 'ad_account_id', 'image_id', 'label_ids_1', 'undefined!', 'retargeting_type', 'undefined!', 'label_ids_7', 'hide_if_converted', 'undefined!', 'undefined!', 'undefined!', 'undefined!', 'image_id', 'image_id', 'cpa_bid', 'cpa_bid', 'gender', 'label_ids_3', 'retargeting_type', 'launch_price', 'undefined!', 'undefined!', 'launch_price', 'ac_WIFI', 'undefined!', 'cpa_bid', 'undefined!', 'undefined!', 'undefined!', 'undefined!', 'ad_account_id', 'undefined!', 'hide_if_converted', 'undefined!', 'cpa_bid', 'undefined!', 'undefined!', 'label_ids_7', 'undefined!', 'undefined!', 'undefined!', 'launch_price', 'inventory_type_INVENTORY_UNION_SLOT', 'cpa_bid', 'cpa_bid', 'undefined!', 'undefined!', 'undefined!', 'label_ids_2', 'undefined!', 'ad_account_id', 'undefined!', 'undefined!', 'undefined!', 'ad_account_id', 'hide_if_converted', 'budget', 'undefined!', 'age_AGE_BETWEEN_18_23', 'undefined!', 'undefined!', 'undefined!', 'undefined!', 'launch_price', 'flow_control_mode', 'inventory_type_INVENTORY_FEED', 'undefined!', 'cpa_bid', 'hide_if_converted', 'undefined!', 'undefined!', 'undefined!', 'android_osv', 'deep_bid_type', 'undefined!', 'undefined!', 'hide_if_converted', 'cpa_bid', 'image_id', 'gender', 'label_ids_0', 'undefined!', 'cpa_bid', 'undefined!', 'undefined!', 'undefined!', 'undefined!', 'undefined!', 'undefined!', 'undefined!', 'undefined!', 'label_ids_7', 'undefined!', 'undefined!', 'age_AGE_BETWEEN_41_49', 'undefined!', 'hide_if_converted', 'undefined!', 'undefined!', 'inventory_type_INVENTORY_UNION_SLOT', 'undefined!', 'cpa_bid', 'undefined!', 'undefined!', 'deep_bid_type', 'undefined!', 'undefined!']\n"
     ]
    }
   ],
   "source": [
    "tree_to_code(dtc_model, fea_names, tar_names)"
   ]
  },
  {
   "cell_type": "markdown",
   "id": "a41e8472",
   "metadata": {},
   "source": [
    "* 可视化决策树图"
   ]
  },
  {
   "cell_type": "code",
   "execution_count": 64,
   "id": "d1625fe3",
   "metadata": {
    "ExecuteTime": {
     "end_time": "2021-06-10T06:22:57.375702Z",
     "start_time": "2021-06-10T06:20:10.250824Z"
    }
   },
   "outputs": [
    {
     "data": {
      "text/plain": [
       "True"
      ]
     },
     "execution_count": 64,
     "metadata": {},
     "output_type": "execute_result"
    }
   ],
   "source": [
    "dot_data = tree.export_graphviz(dtc_model, out_file=None, feature_names=fea_names, class_names=target_names,\n",
    "                                filled=True,\n",
    "                                rounded=True,\n",
    "                                )\n",
    "graph = pydotplus.graph_from_dot_data(dot_data)\n",
    "graph.write_pdf(\"code.pdf\")"
   ]
  },
  {
   "cell_type": "code",
   "execution_count": 65,
   "id": "ccbe8702",
   "metadata": {
    "ExecuteTime": {
     "end_time": "2021-06-10T06:22:57.389347Z",
     "start_time": "2021-06-10T06:22:57.378095Z"
    }
   },
   "outputs": [
    {
     "data": {
      "text/plain": [
       "['ad_account_id',\n",
       " 'game_id',\n",
       " 'smart_bid_type',\n",
       " 'hide_if_exists',\n",
       " 'budget',\n",
       " 'delivery_range',\n",
       " 'adjust_cpa',\n",
       " 'hide_if_converted',\n",
       " 'flow_control_mode',\n",
       " 'cpa_bid',\n",
       " 'auto_extend_enabled',\n",
       " 'gender',\n",
       " 'platform',\n",
       " 'launch_price',\n",
       " 'android_osv',\n",
       " 'location_type',\n",
       " 'retargeting_type',\n",
       " 'ios_osv',\n",
       " 'interest_action_mode',\n",
       " 'action_days',\n",
       " 'deep_bid_type',\n",
       " 'image_id',\n",
       " 'inventory_type_INVENTORY_AWEME_FEED',\n",
       " 'inventory_type_INVENTORY_AWEME_SEARCH',\n",
       " 'inventory_type_INVENTORY_FEED',\n",
       " 'inventory_type_INVENTORY_HOTSOON_FEED',\n",
       " 'inventory_type_INVENTORY_SEARCH',\n",
       " 'inventory_type_INVENTORY_TOMATO_NOVEL',\n",
       " 'inventory_type_INVENTORY_UNION_SLOT',\n",
       " 'inventory_type_INVENTORY_UNION_SPLASH_SLOT',\n",
       " 'inventory_type_INVENTORY_VIDEO_FEED',\n",
       " 'inventory_type_UNION_BOUTIQUE_GAME',\n",
       " 'age_AGE_ABOVE_50',\n",
       " 'age_AGE_BETWEEN_18_23',\n",
       " 'age_AGE_BETWEEN_24_30',\n",
       " 'age_AGE_BETWEEN_31_40',\n",
       " 'age_AGE_BETWEEN_41_49',\n",
       " 'label_ids_,',\n",
       " 'label_ids_-',\n",
       " 'label_ids_0',\n",
       " 'label_ids_1',\n",
       " 'label_ids_2',\n",
       " 'label_ids_3',\n",
       " 'label_ids_4',\n",
       " 'label_ids_5',\n",
       " 'label_ids_6',\n",
       " 'label_ids_7',\n",
       " 'label_ids_8',\n",
       " 'label_ids_9',\n",
       " 'ac_2G',\n",
       " 'ac_3G',\n",
       " 'ac_4G',\n",
       " 'ac_WIFI']"
      ]
     },
     "execution_count": 65,
     "metadata": {},
     "output_type": "execute_result"
    }
   ],
   "source": [
    "df.drop(['label'], axis=1).columns.to_list()"
   ]
  },
  {
   "cell_type": "code",
   "execution_count": null,
   "id": "d0466f7b",
   "metadata": {},
   "outputs": [],
   "source": []
  }
 ],
 "metadata": {
  "kernelspec": {
   "display_name": "Python 3",
   "language": "python",
   "name": "python3"
  },
  "language_info": {
   "codemirror_mode": {
    "name": "ipython",
    "version": 3
   },
   "file_extension": ".py",
   "mimetype": "text/x-python",
   "name": "python",
   "nbconvert_exporter": "python",
   "pygments_lexer": "ipython3",
   "version": "3.7.0"
  },
  "toc": {
   "base_numbering": 1,
   "nav_menu": {},
   "number_sections": true,
   "sideBar": true,
   "skip_h1_title": false,
   "title_cell": "Table of Contents",
   "title_sidebar": "Contents",
   "toc_cell": false,
   "toc_position": {
    "height": "calc(100% - 180px)",
    "left": "10px",
    "top": "150px",
    "width": "190px"
   },
   "toc_section_display": true,
   "toc_window_display": true
  }
 },
 "nbformat": 4,
 "nbformat_minor": 5
}
