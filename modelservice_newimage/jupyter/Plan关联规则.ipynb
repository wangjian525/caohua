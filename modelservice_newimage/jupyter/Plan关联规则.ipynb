{
 "cells": [
  {
   "cell_type": "markdown",
   "id": "25646f34",
   "metadata": {},
   "source": [
    "# 定向勾选属性关联规则\n",
    "* 频繁项集查找"
   ]
  },
  {
   "cell_type": "code",
   "execution_count": 1,
   "id": "c005a11f",
   "metadata": {
    "ExecuteTime": {
     "end_time": "2021-06-11T03:32:46.888362Z",
     "start_time": "2021-06-11T03:32:45.624674Z"
    }
   },
   "outputs": [],
   "source": [
    "import pandas as pd\n",
    "import numpy as np\n",
    "pd.set_option(\"display.max_columns\", None)\n",
    "from impala.dbapi import connect\n",
    "from impala.util import as_pandas\n",
    "# import g/c\n",
    "import json\n",
    "import pymysql\n",
    "import datetime\n",
    "from sklearn.preprocessing import LabelEncoder, StandardScaler\n",
    "from tqdm.auto import tqdm\n",
    "tqdm.pandas(desc=\"Processing!\")\n",
    "\n",
    "# from script.weight import weights_calcul, weights_assign  # 权值编、解码脚本"
   ]
  },
  {
   "cell_type": "markdown",
   "id": "48182702",
   "metadata": {},
   "source": [
    "## 数据：计划信息+素材信息+运营指标信息\n",
    "* 计划信息表：含有各计划创建的属性详情（有缺失）；\n",
    "* 素材信息表：含有各素材的素材ID以及素材标签情况；\n",
    "* 运营信息表：含有各计划上线跑分的指标情况，只用于后续打标签；"
   ]
  },
  {
   "cell_type": "code",
   "execution_count": 2,
   "id": "bee30398",
   "metadata": {
    "ExecuteTime": {
     "end_time": "2021-06-11T03:32:46.893852Z",
     "start_time": "2021-06-11T03:32:46.890185Z"
    }
   },
   "outputs": [],
   "source": [
    "def get_game_id():\n",
    "    conn = pymysql.connect(host='192.168.0.79', port=3306, user='readonly',\n",
    "                           passwd='Kc&r+z1ql9x8za4kzfk761weq8ozGv3ZpI;RMe,#+s%c>t')\n",
    "    cur = conn.cursor(cursor=pymysql.cursors.DictCursor)\n",
    "    sql = '''\n",
    "        SELECT dev_game_id AS game_id FROM db_data.t_game_config WHERE game_id = 1056 AND dev_game_id IS NOT NULL \n",
    "    '''\n",
    "    cur.execute(sql)\n",
    "    result_df = cur.fetchall()\n",
    "    cur.close()\n",
    "    conn.close()\n",
    "    return result_df"
   ]
  },
  {
   "cell_type": "markdown",
   "id": "9e09acc6",
   "metadata": {},
   "source": [
    "### 采集：计划信息"
   ]
  },
  {
   "cell_type": "code",
   "execution_count": 3,
   "id": "9f52a68a",
   "metadata": {
    "ExecuteTime": {
     "end_time": "2021-06-11T03:32:48.736007Z",
     "start_time": "2021-06-11T03:32:46.896200Z"
    }
   },
   "outputs": [],
   "source": [
    "plan_info = pd.read_csv('/home/data/ch_data/ptom_third_plan.csv')"
   ]
  },
  {
   "cell_type": "code",
   "execution_count": 4,
   "id": "930c62fc",
   "metadata": {
    "ExecuteTime": {
     "end_time": "2021-06-11T03:32:48.742911Z",
     "start_time": "2021-06-11T03:32:48.737719Z"
    }
   },
   "outputs": [],
   "source": [
    "def get_plan_info():\n",
    "    game_id = get_game_id()\n",
    "    game_id = list(map(lambda x: x['game_id'], game_id))\n",
    "    game_id = [str(i) for i in game_id]\n",
    "    game_id = ','.join(game_id)\n",
    "    conn = pymysql.connect(host='192.168.0.65', port=3306, user='readonly',\n",
    "                           passwd='Kc&r+z1ql9x8za4kzfk761weq8ozGv3ZpI;RMe,#+s%c>t', db='db_ptom')\n",
    "    cur = conn.cursor(cursor=pymysql.cursors.DictCursor)\n",
    "    sql = '''\n",
    "    /*手动查询*/\n",
    "        SELECT\n",
    "                * \n",
    "            FROM\n",
    "                db_ptom.ptom_third_plan p\n",
    "            WHERE\n",
    "                game_id IN ({})\n",
    "                AND media_id = 10\n",
    "                AND create_time>='2020-01-01'\n",
    "                AND create_time<= date(NOW())\n",
    "                            AND plan_id >= (\n",
    "                                select plan_id from db_ptom.ptom_plan\n",
    "                                where create_time >= '2021-04-23'\n",
    "                                and create_time <= '2021-04-24'\n",
    "                                limit 1\n",
    "                            )\n",
    "    '''\n",
    "    finalSql = sql.format(game_id)\n",
    "    result_df = pd.read_sql(finalSql, conn)\n",
    "    cur.close()\n",
    "    conn.close()\n",
    "    return result_df"
   ]
  },
  {
   "cell_type": "code",
   "execution_count": 5,
   "id": "748d408a",
   "metadata": {
    "ExecuteTime": {
     "end_time": "2021-06-11T03:32:55.153716Z",
     "start_time": "2021-06-11T03:32:48.745186Z"
    }
   },
   "outputs": [],
   "source": [
    "plan_info_new = get_plan_info()"
   ]
  },
  {
   "cell_type": "markdown",
   "id": "8cfb9245",
   "metadata": {},
   "source": [
    "### 采集：素材信息"
   ]
  },
  {
   "cell_type": "code",
   "execution_count": 6,
   "id": "cabca997",
   "metadata": {
    "ExecuteTime": {
     "end_time": "2021-06-11T03:32:55.180269Z",
     "start_time": "2021-06-11T03:32:55.155305Z"
    }
   },
   "outputs": [],
   "source": [
    "image_info = pd.read_csv('/home/data/ch_data/image_info.csv')"
   ]
  },
  {
   "cell_type": "code",
   "execution_count": 7,
   "id": "5fbd5ea2",
   "metadata": {
    "ExecuteTime": {
     "end_time": "2021-06-11T03:32:55.185867Z",
     "start_time": "2021-06-11T03:32:55.182120Z"
    }
   },
   "outputs": [],
   "source": [
    "def get_image_info():\n",
    "    conn = pymysql.connect(host='192.168.0.79', port=3306, user='readonly',\n",
    "                           passwd='Kc&r+z1ql9x8za4kzfk761weq8ozGv3ZpI;RMe,#+s%c>t')\n",
    "    cur = conn.cursor(cursor=pymysql.cursors.DictCursor)\n",
    "    sql = '''\n",
    "        SELECT\n",
    "            a.chl_user_id AS channel_id,\n",
    "            a.source_id,\n",
    "            a.image_id,\n",
    "            b.label_ids\n",
    "        FROM\n",
    "            db_data_ptom.ptom_plan a\n",
    "            LEFT JOIN\n",
    "            db_data_ptom.ptom_image_info b\n",
    "        on a.image_id = b.image_id\n",
    "        WHERE\n",
    "            a.game_id IN ( SELECT dev_game_id AS game_id FROM db_data.t_game_config WHERE game_id = 1056 AND dev_game_id IS NOT NULL ) \n",
    "            AND a.media_id = 10 \n",
    "            AND a.create_time >= '2020-01-01' \n",
    "        GROUP BY\n",
    "            a.chl_user_id,\n",
    "            a.source_id,\n",
    "            a.image_id\n",
    "    '''\n",
    "    cur.execute(sql)\n",
    "    result_df = pd.read_sql(sql, conn)\n",
    "    cur.close()\n",
    "    conn.close()\n",
    "    return result_df"
   ]
  },
  {
   "cell_type": "code",
   "execution_count": 8,
   "id": "db749fcb",
   "metadata": {
    "ExecuteTime": {
     "end_time": "2021-06-11T03:32:58.624238Z",
     "start_time": "2021-06-11T03:32:55.188508Z"
    }
   },
   "outputs": [],
   "source": [
    "image_info_new = get_image_info()"
   ]
  },
  {
   "cell_type": "markdown",
   "id": "bd4b609e",
   "metadata": {},
   "source": [
    "### 采集：运营信息"
   ]
  },
  {
   "cell_type": "code",
   "execution_count": 9,
   "id": "faa0b10e",
   "metadata": {
    "ExecuteTime": {
     "end_time": "2021-06-11T03:32:58.656742Z",
     "start_time": "2021-06-11T03:32:58.626162Z"
    }
   },
   "outputs": [],
   "source": [
    "launch_report = pd.read_csv('/home/data/ch_data/launch_report.csv')"
   ]
  },
  {
   "cell_type": "code",
   "execution_count": 10,
   "id": "72bf6495",
   "metadata": {
    "ExecuteTime": {
     "end_time": "2021-06-11T03:32:58.663220Z",
     "start_time": "2021-06-11T03:32:58.658290Z"
    }
   },
   "outputs": [],
   "source": [
    "def get_launch_report():\n",
    "    game_id = get_game_id()\n",
    "    game_id = list(map(lambda x: x['game_id'], game_id))\n",
    "    game_id = [str(i) for i in game_id]\n",
    "    game_id = ','.join(game_id)\n",
    "\n",
    "    conn = pymysql.connect(host='192.168.0.79', port=3306, user='readonly',\n",
    "                           passwd='Kc&r+z1ql9x8za4kzfk761weq8ozGv3ZpI;RMe,#+s%c>t')\n",
    "    cur = conn.cursor(cursor=pymysql.cursors.DictCursor)\n",
    "    sql = '''\n",
    "        /*手动查询*/\n",
    "        SELECT\n",
    "            a.chl_user_id AS channel_id,\n",
    "            a.source_id AS source_id,\n",
    "            b.tdate,\n",
    "            b.amount,\n",
    "            b.new_role_money,\n",
    "            b.new_role_money / b.amount as roi,\n",
    "            b.pay_role_user_num / b.create_role_num as pay_rate\n",
    "        FROM\n",
    "            db_data_ptom.ptom_plan a\n",
    "            LEFT JOIN db_stdata.st_lauch_report b ON a.chl_user_id = b.channel_id \n",
    "            AND a.source_id = b.source_id \n",
    "        WHERE\n",
    "            a.create_time >= '2020-01-01' \n",
    "            AND b.tdate >= '2020-01-01' \n",
    "            AND b.tdate_type = 'day' \n",
    "            AND b.media_id = 10\n",
    "            AND b.game_id IN ({})\n",
    "            AND b.amount >= 500\n",
    "    '''\n",
    "    finalSql = sql.format(game_id)\n",
    "    cur.execute(finalSql)\n",
    "    result_df = pd.read_sql(finalSql, conn)\n",
    "    cur.close()\n",
    "    conn.close()\n",
    "    result_df['tdate'] = pd.to_datetime(result_df['tdate'])\n",
    "    result_df = result_df.sort_values('tdate')\n",
    "    result_df = result_df.drop_duplicates(['channel_id', 'source_id'], keep='first')\n",
    "\n",
    "    return result_df"
   ]
  },
  {
   "cell_type": "code",
   "execution_count": 11,
   "id": "d1d3d53a",
   "metadata": {
    "ExecuteTime": {
     "end_time": "2021-06-11T03:33:33.266274Z",
     "start_time": "2021-06-11T03:32:58.665202Z"
    }
   },
   "outputs": [],
   "source": [
    "launch_report_new = get_launch_report()"
   ]
  },
  {
   "cell_type": "markdown",
   "id": "3403c6aa",
   "metadata": {},
   "source": [
    "### 合并"
   ]
  },
  {
   "cell_type": "code",
   "execution_count": 12,
   "id": "3f0e738e",
   "metadata": {
    "ExecuteTime": {
     "end_time": "2021-06-11T03:33:33.275419Z",
     "start_time": "2021-06-11T03:33:33.267903Z"
    }
   },
   "outputs": [],
   "source": [
    "def get_plan_json(plan_info):\n",
    "    plan_info.drop(['inventory_type', 'budget'], axis=1, inplace=True)\n",
    "    plan_info.dropna(how='all', inplace=True, axis=1)\n",
    "    plan_info.dropna(subset=['ad_info'], inplace=True)\n",
    "    # 解析json\n",
    "    plan_info['ad_info'] = plan_info['ad_info'].apply(json.loads)\n",
    "    temp = plan_info['ad_info'].apply(pd.Series)\n",
    "    plan_info = pd.concat([plan_info, temp], axis=1)\n",
    "    plan_info.drop('ad_info', axis=1, inplace=True)\n",
    "    temp = plan_info['audience'].apply(pd.Series)\n",
    "    plan_info = pd.concat([plan_info, temp], axis=1)\n",
    "    plan_info.drop('audience', axis=1, inplace=True)\n",
    "    temp = plan_info['action'].apply(pd.Series)\n",
    "    plan_info = pd.concat([plan_info, temp], axis=1)\n",
    "    plan_info.drop('action', axis=1, inplace=True)\n",
    "    plan_info.dropna(how='all', inplace=True, axis=1)\n",
    "    plan_info = plan_info[['ad_account_id', 'game_id', 'channel_id', 'source_id',\n",
    "                           'create_time', 'smart_bid_type', 'hide_if_exists', 'budget',\n",
    "                           'delivery_range', 'adjust_cpa', 'inventory_type', 'hide_if_converted',\n",
    "                           'flow_control_mode', 'schedule_time', 'cpa_bid', 'auto_extend_enabled',\n",
    "                           'gender', 'city', 'platform', 'launch_price',\n",
    "                           'retargeting_tags_exclude', 'interest_categories',\n",
    "                           'ac', 'android_osv', 'location_type', 'retargeting_tags_include',\n",
    "                           'retargeting_type', 'ios_osv', 'interest_action_mode', 'age',\n",
    "                           'action_categories', 'action_days', 'action_scene', 'deep_bid_type']]\n",
    "    return plan_info"
   ]
  },
  {
   "cell_type": "code",
   "execution_count": 13,
   "id": "b1c03e88",
   "metadata": {
    "ExecuteTime": {
     "end_time": "2021-06-11T03:34:59.441741Z",
     "start_time": "2021-06-11T03:33:33.277810Z"
    }
   },
   "outputs": [],
   "source": [
    "# 计划\n",
    "plan_info = plan_info.append(plan_info_new)\n",
    "plan_info = get_plan_json(plan_info)\n",
    "plan_info.dropna(subset=['cpa_bid'], inplace=True)\n",
    "# 素材\n",
    "image_info = image_info.append(image_info_new)\n",
    "image_info.dropna(subset=['image_id'], inplace=True)\n",
    "image_info['image_id'] = image_info['image_id'].astype(int)\n",
    "# 运营\n",
    "launch_report = launch_report.append(launch_report_new)"
   ]
  },
  {
   "cell_type": "markdown",
   "id": "9ed21f95",
   "metadata": {
    "ExecuteTime": {
     "end_time": "2021-06-07T07:06:12.297264Z",
     "start_time": "2021-06-07T07:06:11.724848Z"
    }
   },
   "source": [
    "* 拼接+过滤"
   ]
  },
  {
   "cell_type": "code",
   "execution_count": 14,
   "id": "a7708ea5",
   "metadata": {
    "ExecuteTime": {
     "end_time": "2021-06-11T03:35:01.605271Z",
     "start_time": "2021-06-11T03:34:59.443294Z"
    }
   },
   "outputs": [],
   "source": [
    "df = pd.merge(plan_info, image_info, on=['channel_id', 'source_id'], how='left')\n",
    "df.dropna(subset=['image_id'], inplace=True)\n",
    "df = pd.merge(df, launch_report, on=['channel_id', 'source_id'], how='left')\n",
    "df.drop(df[df['tdate'].isna()].index, inplace=True)\n",
    "df = df[df['amount'] >= 500]"
   ]
  },
  {
   "cell_type": "markdown",
   "id": "9d59fb23",
   "metadata": {},
   "source": [
    "### 字段处理\n",
    "* ROI指标打标签"
   ]
  },
  {
   "cell_type": "code",
   "execution_count": 15,
   "id": "d73847a0",
   "metadata": {
    "ExecuteTime": {
     "end_time": "2021-06-11T03:35:01.909738Z",
     "start_time": "2021-06-11T03:35:01.606943Z"
    }
   },
   "outputs": [],
   "source": [
    "df.dropna(subset=['roi'], inplace=True)\n",
    "df.dropna(subset=['new_role_money'], inplace=True)\n",
    "df.dropna(subset=['amount'], inplace=True)"
   ]
  },
  {
   "cell_type": "code",
   "execution_count": 16,
   "id": "b478c491",
   "metadata": {
    "ExecuteTime": {
     "end_time": "2021-06-11T03:35:05.624197Z",
     "start_time": "2021-06-11T03:35:01.911259Z"
    }
   },
   "outputs": [],
   "source": [
    "df['platform'] = df['platform'].astype(str)\n",
    "df['platform'] = df['platform'].map({\"['ANDROID']\": 1, \"['IOS']\": 2})\n",
    "df['label'] = df.apply(lambda x: 1 if x.new_role_money / x.amount >= 0.001 or x.roi >= 0.001 else 0, axis=1)  # 打标签\n",
    "df['ad_account_id'] = df['ad_account_id'].astype('int')\n",
    "df['image_id'] = df['image_id'].astype('int')\n",
    "df.rename(columns={'tdate': 'create_date'}, inplace=True)\n",
    "df['create_date'] = pd.to_datetime(df['create_date'])\n",
    "df['create_time'] = pd.to_datetime(df['create_time'])"
   ]
  },
  {
   "cell_type": "code",
   "execution_count": 17,
   "id": "484caad5",
   "metadata": {
    "ExecuteTime": {
     "end_time": "2021-06-11T03:35:05.701264Z",
     "start_time": "2021-06-11T03:35:05.625720Z"
    }
   },
   "outputs": [],
   "source": [
    "df.drop(['channel_id', 'source_id', 'amount', 'roi', 'pay_rate', 'new_role_money'], axis=1, inplace=True)"
   ]
  },
  {
   "cell_type": "markdown",
   "id": "c94f63a9",
   "metadata": {},
   "source": [
    "#### 特殊字段"
   ]
  },
  {
   "cell_type": "code",
   "execution_count": 18,
   "id": "cc0e2d51",
   "metadata": {
    "ExecuteTime": {
     "end_time": "2021-06-11T03:35:08.612927Z",
     "start_time": "2021-06-11T03:35:05.702739Z"
    }
   },
   "outputs": [],
   "source": [
    "df = df.mask(df.applymap(str).eq('[]'))  # 空list替换为NaN"
   ]
  },
  {
   "cell_type": "code",
   "execution_count": 19,
   "id": "110b6693",
   "metadata": {
    "ExecuteTime": {
     "end_time": "2021-06-11T03:35:11.734517Z",
     "start_time": "2021-06-11T03:35:08.614592Z"
    }
   },
   "outputs": [],
   "source": [
    "df = df.mask(df.applymap(str).eq('NONE'))  # NONE替换为NaN"
   ]
  },
  {
   "cell_type": "markdown",
   "id": "bdb03936",
   "metadata": {},
   "source": [
    "#### 缺失统计\n",
    "* 这里的缺失不代表取值不确定，而是没有条件定向的限制，所以不应该过滤"
   ]
  },
  {
   "cell_type": "code",
   "execution_count": 20,
   "id": "ff333dfc",
   "metadata": {
    "ExecuteTime": {
     "end_time": "2021-06-11T03:35:11.955721Z",
     "start_time": "2021-06-11T03:35:11.736162Z"
    }
   },
   "outputs": [],
   "source": [
    "from matplotlib import pyplot as plt"
   ]
  },
  {
   "cell_type": "code",
   "execution_count": 21,
   "id": "e9c1e7e4",
   "metadata": {
    "ExecuteTime": {
     "end_time": "2021-06-11T03:35:12.770386Z",
     "start_time": "2021-06-11T03:35:11.957252Z"
    }
   },
   "outputs": [
    {
     "data": {
      "image/png": "[encoded data removed]",
      "text/plain": [
       "<Figure size 576x720 with 1 Axes>"
      ]
     },
     "metadata": {
      "needs_background": "light"
     },
     "output_type": "display_data"
    }
   ],
   "source": [
    "# 各字段缺失率统计\n",
    "na_rate = (len(df) - df.count()) / len(df)  # 缺失率\n",
    "a = na_rate.sort_values(ascending=False)  # 倒序\n",
    "a1 = pd.DataFrame(a)\n",
    "plt.style.use('bmh')\n",
    "plt.figure(figsize = (8,10))\n",
    "plt.barh(range(df.shape[1]),a1[0])\n",
    "plt.xlabel('na_rate')\n",
    "plt.xlim([0,1])\n",
    "plt.yticks(range(df.shape[1]),a1.index.values.tolist())\n",
    "for x,y in enumerate(a1[0]):\n",
    "    plt.text(y,x,'%.3f'%y, va='bottom')"
   ]
  },
  {
   "cell_type": "code",
   "execution_count": 22,
   "id": "56822ca8",
   "metadata": {
    "ExecuteTime": {
     "end_time": "2021-06-11T03:35:12.775944Z",
     "start_time": "2021-06-11T03:35:12.773432Z"
    }
   },
   "outputs": [],
   "source": [
    "# df.drop(['schedule_time', 'ios_osv', 'retargeting_tags_include', 'city', 'interest_categories', 'action_categories', 'action_scene', 'action_days', 'android_osv', 'ac', 'retargeting_tags_exclude', 'deep_bid_type', 'retargeting_type'], axis=1, inplace=True)  # 删除缺失率超25%的字段\n",
    "# df.drop_duplicates(inplace=True)  # keep=first"
   ]
  },
  {
   "cell_type": "code",
   "execution_count": 23,
   "id": "b559f458",
   "metadata": {
    "ExecuteTime": {
     "end_time": "2021-06-11T03:35:12.945018Z",
     "start_time": "2021-06-11T03:35:12.777842Z"
    }
   },
   "outputs": [
    {
     "name": "stdout",
     "output_type": "stream",
     "text": [
      "<class 'pandas.core.frame.DataFrame'>\n",
      "RangeIndex: 155435 entries, 0 to 155434\n",
      "Data columns (total 36 columns):\n",
      " #   Column                    Non-Null Count   Dtype         \n",
      "---  ------                    --------------   -----         \n",
      " 0   ad_account_id             155435 non-null  int64         \n",
      " 1   game_id                   155435 non-null  int64         \n",
      " 2   create_time               155435 non-null  datetime64[ns]\n",
      " 3   smart_bid_type            155435 non-null  object        \n",
      " 4   hide_if_exists            155435 non-null  int64         \n",
      " 5   budget                    155435 non-null  float64       \n",
      " 6   delivery_range            155435 non-null  object        \n",
      " 7   adjust_cpa                128318 non-null  float64       \n",
      " 8   inventory_type            155299 non-null  object        \n",
      " 9   hide_if_converted         155435 non-null  object        \n",
      " 10  flow_control_mode         155435 non-null  object        \n",
      " 11  schedule_time             155435 non-null  object        \n",
      " 12  cpa_bid                   155435 non-null  float64       \n",
      " 13  auto_extend_enabled       155435 non-null  int64         \n",
      " 14  gender                    128280 non-null  object        \n",
      " 15  city                      32686 non-null   object        \n",
      " 16  platform                  155435 non-null  int64         \n",
      " 17  launch_price              122405 non-null  object        \n",
      " 18  retargeting_tags_exclude  90320 non-null   object        \n",
      " 19  interest_categories       35656 non-null   object        \n",
      " 20  ac                        86303 non-null   object        \n",
      " 21  android_osv               82149 non-null   object        \n",
      " 22  location_type             155435 non-null  object        \n",
      " 23  retargeting_tags_include  28670 non-null   object        \n",
      " 24  retargeting_type          94504 non-null   object        \n",
      " 25  ios_osv                   7302 non-null    object        \n",
      " 26  interest_action_mode      155127 non-null  object        \n",
      " 27  age                       119368 non-null  object        \n",
      " 28  action_categories         39935 non-null   object        \n",
      " 29  action_days               44129 non-null   float64       \n",
      " 30  action_scene              44129 non-null   object        \n",
      " 31  deep_bid_type             89159 non-null   object        \n",
      " 32  image_id                  155435 non-null  int64         \n",
      " 33  label_ids                 133555 non-null  object        \n",
      " 34  create_date               155435 non-null  datetime64[ns]\n",
      " 35  label                     155435 non-null  int64         \n",
      "dtypes: datetime64[ns](2), float64(4), int64(7), object(23)\n",
      "memory usage: 42.7+ MB\n"
     ]
    }
   ],
   "source": [
    "df.reset_index(drop=True, inplace=True)\n",
    "df.info()"
   ]
  },
  {
   "cell_type": "code",
   "execution_count": 24,
   "id": "cc5f056e",
   "metadata": {
    "ExecuteTime": {
     "end_time": "2021-06-11T03:35:12.975840Z",
     "start_time": "2021-06-11T03:35:12.946545Z"
    }
   },
   "outputs": [
    {
     "data": {
      "text/html": [
       "<div>\n",
       "<style scoped>\n",
       "    .dataframe tbody tr th:only-of-type {\n",
       "        vertical-align: middle;\n",
       "    }\n",
       "\n",
       "    .dataframe tbody tr th {\n",
       "        vertical-align: top;\n",
       "    }\n",
       "\n",
       "    .dataframe thead th {\n",
       "        text-align: right;\n",
       "    }\n",
       "</style>\n",
       "<table border=\"1\" class=\"dataframe\">\n",
       "  <thead>\n",
       "    <tr style=\"text-align: right;\">\n",
       "      <th></th>\n",
       "      <th>ad_account_id</th>\n",
       "      <th>game_id</th>\n",
       "      <th>create_time</th>\n",
       "      <th>smart_bid_type</th>\n",
       "      <th>hide_if_exists</th>\n",
       "      <th>budget</th>\n",
       "      <th>delivery_range</th>\n",
       "      <th>adjust_cpa</th>\n",
       "      <th>inventory_type</th>\n",
       "      <th>hide_if_converted</th>\n",
       "      <th>flow_control_mode</th>\n",
       "      <th>schedule_time</th>\n",
       "      <th>cpa_bid</th>\n",
       "      <th>auto_extend_enabled</th>\n",
       "      <th>gender</th>\n",
       "      <th>city</th>\n",
       "      <th>platform</th>\n",
       "      <th>launch_price</th>\n",
       "      <th>retargeting_tags_exclude</th>\n",
       "      <th>interest_categories</th>\n",
       "      <th>ac</th>\n",
       "      <th>android_osv</th>\n",
       "      <th>location_type</th>\n",
       "      <th>retargeting_tags_include</th>\n",
       "      <th>retargeting_type</th>\n",
       "      <th>ios_osv</th>\n",
       "      <th>interest_action_mode</th>\n",
       "      <th>age</th>\n",
       "      <th>action_categories</th>\n",
       "      <th>action_days</th>\n",
       "      <th>action_scene</th>\n",
       "      <th>deep_bid_type</th>\n",
       "      <th>image_id</th>\n",
       "      <th>label_ids</th>\n",
       "      <th>create_date</th>\n",
       "      <th>label</th>\n",
       "    </tr>\n",
       "  </thead>\n",
       "  <tbody>\n",
       "    <tr>\n",
       "      <th>0</th>\n",
       "      <td>4003</td>\n",
       "      <td>1000840</td>\n",
       "      <td>2020-01-19 16:18:31</td>\n",
       "      <td>SMART_BID_CONSERVATIVE</td>\n",
       "      <td>0</td>\n",
       "      <td>5000.0</td>\n",
       "      <td>UNION</td>\n",
       "      <td>0.0</td>\n",
       "      <td>[INVENTORY_UNION_SLOT]</td>\n",
       "      <td>AD</td>\n",
       "      <td>FLOW_CONTROL_MODE_FAST</td>\n",
       "      <td>1111111111111111111111111111111111111111111111...</td>\n",
       "      <td>1135.73</td>\n",
       "      <td>0</td>\n",
       "      <td>GENDER_MALE</td>\n",
       "      <td>NaN</td>\n",
       "      <td>1</td>\n",
       "      <td>NaN</td>\n",
       "      <td>NaN</td>\n",
       "      <td>NaN</td>\n",
       "      <td>NaN</td>\n",
       "      <td>NaN</td>\n",
       "      <td>CURRENT</td>\n",
       "      <td>NaN</td>\n",
       "      <td>NaN</td>\n",
       "      <td>NaN</td>\n",
       "      <td>UNLIMITED</td>\n",
       "      <td>[AGE_BETWEEN_24_30, AGE_BETWEEN_31_40, AGE_BET...</td>\n",
       "      <td>NaN</td>\n",
       "      <td>NaN</td>\n",
       "      <td>NaN</td>\n",
       "      <td>NaN</td>\n",
       "      <td>19788</td>\n",
       "      <td>NaN</td>\n",
       "      <td>2020-01-21</td>\n",
       "      <td>0</td>\n",
       "    </tr>\n",
       "    <tr>\n",
       "      <th>1</th>\n",
       "      <td>4003</td>\n",
       "      <td>1000840</td>\n",
       "      <td>2020-01-19 16:18:31</td>\n",
       "      <td>SMART_BID_CONSERVATIVE</td>\n",
       "      <td>0</td>\n",
       "      <td>5000.0</td>\n",
       "      <td>UNION</td>\n",
       "      <td>0.0</td>\n",
       "      <td>[INVENTORY_UNION_SLOT]</td>\n",
       "      <td>AD</td>\n",
       "      <td>FLOW_CONTROL_MODE_FAST</td>\n",
       "      <td>1111111111111111111111111111111111111111111111...</td>\n",
       "      <td>1135.73</td>\n",
       "      <td>0</td>\n",
       "      <td>GENDER_MALE</td>\n",
       "      <td>NaN</td>\n",
       "      <td>1</td>\n",
       "      <td>NaN</td>\n",
       "      <td>NaN</td>\n",
       "      <td>NaN</td>\n",
       "      <td>NaN</td>\n",
       "      <td>NaN</td>\n",
       "      <td>CURRENT</td>\n",
       "      <td>NaN</td>\n",
       "      <td>NaN</td>\n",
       "      <td>NaN</td>\n",
       "      <td>UNLIMITED</td>\n",
       "      <td>[AGE_BETWEEN_24_30, AGE_BETWEEN_31_40, AGE_BET...</td>\n",
       "      <td>NaN</td>\n",
       "      <td>NaN</td>\n",
       "      <td>NaN</td>\n",
       "      <td>NaN</td>\n",
       "      <td>19788</td>\n",
       "      <td>NaN</td>\n",
       "      <td>2020-01-21</td>\n",
       "      <td>0</td>\n",
       "    </tr>\n",
       "    <tr>\n",
       "      <th>2</th>\n",
       "      <td>4003</td>\n",
       "      <td>1000840</td>\n",
       "      <td>2020-01-19 16:18:31</td>\n",
       "      <td>SMART_BID_CONSERVATIVE</td>\n",
       "      <td>0</td>\n",
       "      <td>5000.0</td>\n",
       "      <td>UNION</td>\n",
       "      <td>0.0</td>\n",
       "      <td>[INVENTORY_UNION_SLOT]</td>\n",
       "      <td>AD</td>\n",
       "      <td>FLOW_CONTROL_MODE_FAST</td>\n",
       "      <td>1111111111111111111111111111111111111111111111...</td>\n",
       "      <td>1135.73</td>\n",
       "      <td>0</td>\n",
       "      <td>GENDER_MALE</td>\n",
       "      <td>NaN</td>\n",
       "      <td>1</td>\n",
       "      <td>NaN</td>\n",
       "      <td>NaN</td>\n",
       "      <td>NaN</td>\n",
       "      <td>NaN</td>\n",
       "      <td>NaN</td>\n",
       "      <td>CURRENT</td>\n",
       "      <td>NaN</td>\n",
       "      <td>NaN</td>\n",
       "      <td>NaN</td>\n",
       "      <td>UNLIMITED</td>\n",
       "      <td>[AGE_BETWEEN_24_30, AGE_BETWEEN_31_40, AGE_BET...</td>\n",
       "      <td>NaN</td>\n",
       "      <td>NaN</td>\n",
       "      <td>NaN</td>\n",
       "      <td>NaN</td>\n",
       "      <td>19788</td>\n",
       "      <td>None</td>\n",
       "      <td>2020-01-21</td>\n",
       "      <td>0</td>\n",
       "    </tr>\n",
       "    <tr>\n",
       "      <th>3</th>\n",
       "      <td>4003</td>\n",
       "      <td>1000840</td>\n",
       "      <td>2020-01-19 16:18:31</td>\n",
       "      <td>SMART_BID_CONSERVATIVE</td>\n",
       "      <td>0</td>\n",
       "      <td>5000.0</td>\n",
       "      <td>UNION</td>\n",
       "      <td>0.0</td>\n",
       "      <td>[INVENTORY_UNION_SLOT]</td>\n",
       "      <td>AD</td>\n",
       "      <td>FLOW_CONTROL_MODE_FAST</td>\n",
       "      <td>1111111111111111111111111111111111111111111111...</td>\n",
       "      <td>1135.73</td>\n",
       "      <td>0</td>\n",
       "      <td>GENDER_MALE</td>\n",
       "      <td>NaN</td>\n",
       "      <td>1</td>\n",
       "      <td>NaN</td>\n",
       "      <td>NaN</td>\n",
       "      <td>NaN</td>\n",
       "      <td>NaN</td>\n",
       "      <td>NaN</td>\n",
       "      <td>CURRENT</td>\n",
       "      <td>NaN</td>\n",
       "      <td>NaN</td>\n",
       "      <td>NaN</td>\n",
       "      <td>UNLIMITED</td>\n",
       "      <td>[AGE_BETWEEN_24_30, AGE_BETWEEN_31_40, AGE_BET...</td>\n",
       "      <td>NaN</td>\n",
       "      <td>NaN</td>\n",
       "      <td>NaN</td>\n",
       "      <td>NaN</td>\n",
       "      <td>19788</td>\n",
       "      <td>None</td>\n",
       "      <td>2020-01-21</td>\n",
       "      <td>0</td>\n",
       "    </tr>\n",
       "    <tr>\n",
       "      <th>4</th>\n",
       "      <td>4003</td>\n",
       "      <td>1000840</td>\n",
       "      <td>2020-01-20 14:35:23</td>\n",
       "      <td>SMART_BID_CONSERVATIVE</td>\n",
       "      <td>0</td>\n",
       "      <td>8000.0</td>\n",
       "      <td>UNION</td>\n",
       "      <td>0.0</td>\n",
       "      <td>[INVENTORY_UNION_SLOT]</td>\n",
       "      <td>AD</td>\n",
       "      <td>FLOW_CONTROL_MODE_FAST</td>\n",
       "      <td>1111111111111111111111111111111111111111111111...</td>\n",
       "      <td>1180.24</td>\n",
       "      <td>0</td>\n",
       "      <td>GENDER_MALE</td>\n",
       "      <td>NaN</td>\n",
       "      <td>1</td>\n",
       "      <td>NaN</td>\n",
       "      <td>NaN</td>\n",
       "      <td>NaN</td>\n",
       "      <td>NaN</td>\n",
       "      <td>NaN</td>\n",
       "      <td>CURRENT</td>\n",
       "      <td>NaN</td>\n",
       "      <td>NaN</td>\n",
       "      <td>NaN</td>\n",
       "      <td>UNLIMITED</td>\n",
       "      <td>[AGE_BETWEEN_24_30, AGE_BETWEEN_31_40, AGE_BET...</td>\n",
       "      <td>NaN</td>\n",
       "      <td>NaN</td>\n",
       "      <td>NaN</td>\n",
       "      <td>NaN</td>\n",
       "      <td>19791</td>\n",
       "      <td>NaN</td>\n",
       "      <td>2020-01-20</td>\n",
       "      <td>0</td>\n",
       "    </tr>\n",
       "  </tbody>\n",
       "</table>\n",
       "</div>"
      ],
      "text/plain": [
       "   ad_account_id  game_id         create_time          smart_bid_type  \\\n",
       "0           4003  1000840 2020-01-19 16:18:31  SMART_BID_CONSERVATIVE   \n",
       "1           4003  1000840 2020-01-19 16:18:31  SMART_BID_CONSERVATIVE   \n",
       "2           4003  1000840 2020-01-19 16:18:31  SMART_BID_CONSERVATIVE   \n",
       "3           4003  1000840 2020-01-19 16:18:31  SMART_BID_CONSERVATIVE   \n",
       "4           4003  1000840 2020-01-20 14:35:23  SMART_BID_CONSERVATIVE   \n",
       "\n",
       "   hide_if_exists  budget delivery_range  adjust_cpa          inventory_type  \\\n",
       "0               0  5000.0          UNION         0.0  [INVENTORY_UNION_SLOT]   \n",
       "1               0  5000.0          UNION         0.0  [INVENTORY_UNION_SLOT]   \n",
       "2               0  5000.0          UNION         0.0  [INVENTORY_UNION_SLOT]   \n",
       "3               0  5000.0          UNION         0.0  [INVENTORY_UNION_SLOT]   \n",
       "4               0  8000.0          UNION         0.0  [INVENTORY_UNION_SLOT]   \n",
       "\n",
       "  hide_if_converted       flow_control_mode  \\\n",
       "0                AD  FLOW_CONTROL_MODE_FAST   \n",
       "1                AD  FLOW_CONTROL_MODE_FAST   \n",
       "2                AD  FLOW_CONTROL_MODE_FAST   \n",
       "3                AD  FLOW_CONTROL_MODE_FAST   \n",
       "4                AD  FLOW_CONTROL_MODE_FAST   \n",
       "\n",
       "                                       schedule_time  cpa_bid  \\\n",
       "0  1111111111111111111111111111111111111111111111...  1135.73   \n",
       "1  1111111111111111111111111111111111111111111111...  1135.73   \n",
       "2  1111111111111111111111111111111111111111111111...  1135.73   \n",
       "3  1111111111111111111111111111111111111111111111...  1135.73   \n",
       "4  1111111111111111111111111111111111111111111111...  1180.24   \n",
       "\n",
       "   auto_extend_enabled       gender city  platform launch_price  \\\n",
       "0                    0  GENDER_MALE  NaN         1          NaN   \n",
       "1                    0  GENDER_MALE  NaN         1          NaN   \n",
       "2                    0  GENDER_MALE  NaN         1          NaN   \n",
       "3                    0  GENDER_MALE  NaN         1          NaN   \n",
       "4                    0  GENDER_MALE  NaN         1          NaN   \n",
       "\n",
       "  retargeting_tags_exclude interest_categories   ac android_osv location_type  \\\n",
       "0                      NaN                 NaN  NaN         NaN       CURRENT   \n",
       "1                      NaN                 NaN  NaN         NaN       CURRENT   \n",
       "2                      NaN                 NaN  NaN         NaN       CURRENT   \n",
       "3                      NaN                 NaN  NaN         NaN       CURRENT   \n",
       "4                      NaN                 NaN  NaN         NaN       CURRENT   \n",
       "\n",
       "  retargeting_tags_include retargeting_type ios_osv interest_action_mode  \\\n",
       "0                      NaN              NaN     NaN            UNLIMITED   \n",
       "1                      NaN              NaN     NaN            UNLIMITED   \n",
       "2                      NaN              NaN     NaN            UNLIMITED   \n",
       "3                      NaN              NaN     NaN            UNLIMITED   \n",
       "4                      NaN              NaN     NaN            UNLIMITED   \n",
       "\n",
       "                                                 age action_categories  \\\n",
       "0  [AGE_BETWEEN_24_30, AGE_BETWEEN_31_40, AGE_BET...               NaN   \n",
       "1  [AGE_BETWEEN_24_30, AGE_BETWEEN_31_40, AGE_BET...               NaN   \n",
       "2  [AGE_BETWEEN_24_30, AGE_BETWEEN_31_40, AGE_BET...               NaN   \n",
       "3  [AGE_BETWEEN_24_30, AGE_BETWEEN_31_40, AGE_BET...               NaN   \n",
       "4  [AGE_BETWEEN_24_30, AGE_BETWEEN_31_40, AGE_BET...               NaN   \n",
       "\n",
       "   action_days action_scene deep_bid_type  image_id label_ids create_date  \\\n",
       "0          NaN          NaN           NaN     19788       NaN  2020-01-21   \n",
       "1          NaN          NaN           NaN     19788       NaN  2020-01-21   \n",
       "2          NaN          NaN           NaN     19788      None  2020-01-21   \n",
       "3          NaN          NaN           NaN     19788      None  2020-01-21   \n",
       "4          NaN          NaN           NaN     19791       NaN  2020-01-20   \n",
       "\n",
       "   label  \n",
       "0      0  \n",
       "1      0  \n",
       "2      0  \n",
       "3      0  \n",
       "4      0  "
      ]
     },
     "execution_count": 24,
     "metadata": {},
     "output_type": "execute_result"
    }
   ],
   "source": [
    "df.head()"
   ]
  },
  {
   "cell_type": "code",
   "execution_count": 33,
   "id": "3cdeb56a",
   "metadata": {
    "ExecuteTime": {
     "end_time": "2021-06-11T03:50:05.586168Z",
     "start_time": "2021-06-11T03:50:05.323897Z"
    }
   },
   "outputs": [],
   "source": [
    "df = df[df['label_ids'].notnull() & (df['label_ids'] != '-1') & (df['label_ids'] != '\\\"-1')]\n",
    "df['label_ids'] = df['label_ids'].str.replace('-1;', '')\n",
    "df['label_ids'] = df['label_ids'].str.replace('-1,', '')\n",
    "df['label_ids'] = df['label_ids'].str.replace('\\\"', '') \n",
    "df['label_ids'] = df['label_ids'].str.replace(';', ',')"
   ]
  },
  {
   "cell_type": "code",
   "execution_count": 34,
   "id": "507b1cea",
   "metadata": {
    "ExecuteTime": {
     "end_time": "2021-06-11T03:50:06.470482Z",
     "start_time": "2021-06-11T03:50:06.411345Z"
    }
   },
   "outputs": [
    {
     "data": {
      "text/plain": [
       "48348            19,103\n",
       "48349            19,103\n",
       "48350            19,103\n",
       "48351            19,103\n",
       "50176             19,20\n",
       "              ...      \n",
       "154094    20,27,111,149\n",
       "154097    20,27,111,149\n",
       "154098    20,27,111,149\n",
       "154101    20,27,111,149\n",
       "154105    20,27,111,149\n",
       "Name: label_ids, Length: 782, dtype: object"
      ]
     },
     "execution_count": 34,
     "metadata": {},
     "output_type": "execute_result"
    }
   ],
   "source": [
    "df['label_ids'][df['label_ids'].apply(lambda x:True if len(str(x).split(',')) > 1 else False)]"
   ]
  },
  {
   "cell_type": "markdown",
   "id": "96c43765",
   "metadata": {},
   "source": [
    "## 关联规则\n",
    "* 适用于hotting编码字段（勾选分组）HOTTING_COLS = ['inventory_type', 'age', 'label_ids', 'ac',......]"
   ]
  },
  {
   "cell_type": "code",
   "execution_count": 273,
   "id": "10897ad9",
   "metadata": {
    "ExecuteTime": {
     "end_time": "2021-06-09T09:20:31.928040Z",
     "start_time": "2021-06-09T09:20:31.907956Z"
    }
   },
   "outputs": [],
   "source": [
    "df_list = df[['inventory_type', 'age', 'label_ids', 'ac', 'interest_categories', 'label']]"
   ]
  },
  {
   "cell_type": "code",
   "execution_count": 274,
   "id": "b4228ae8",
   "metadata": {
    "ExecuteTime": {
     "end_time": "2021-06-09T09:20:32.228806Z",
     "start_time": "2021-06-09T09:20:32.220030Z"
    }
   },
   "outputs": [],
   "source": [
    "df_list_pos = df_list[df_list['label']==1]"
   ]
  },
  {
   "cell_type": "code",
   "execution_count": 275,
   "id": "60123c94",
   "metadata": {
    "ExecuteTime": {
     "end_time": "2021-06-09T09:20:33.463929Z",
     "start_time": "2021-06-09T09:20:33.436634Z"
    }
   },
   "outputs": [],
   "source": [
    "def _filter(x):\n",
    "    return True if isinstance(x, list) else False\n",
    "\n",
    "def _distinct(x):\n",
    "    return len(x)\n",
    "\n",
    "boolea = df_list_pos['age'].apply(_filter)\n",
    "df_list_pos = df_list_pos[boolea]\n",
    "prefix = df_list_pos['age'].to_list()\n",
    "\n",
    "lenth = df_list_pos['age'].apply(_distinct)\n",
    "distinct = max(lenth)"
   ]
  },
  {
   "cell_type": "code",
   "execution_count": 276,
   "id": "cac0ae59",
   "metadata": {
    "ExecuteTime": {
     "end_time": "2021-06-09T09:20:33.863521Z",
     "start_time": "2021-06-09T09:20:33.860391Z"
    }
   },
   "outputs": [],
   "source": [
    "from prefixspan import PrefixSpan"
   ]
  },
  {
   "cell_type": "code",
   "execution_count": 278,
   "id": "da230863",
   "metadata": {
    "ExecuteTime": {
     "end_time": "2021-06-09T09:21:14.934910Z",
     "start_time": "2021-06-09T09:21:14.932054Z"
    }
   },
   "outputs": [],
   "source": [
    "ps = PrefixSpan(prefix)"
   ]
  },
  {
   "cell_type": "code",
   "execution_count": 281,
   "id": "e34dbc85",
   "metadata": {
    "ExecuteTime": {
     "end_time": "2021-06-09T09:29:06.227459Z",
     "start_time": "2021-06-09T09:29:05.852491Z"
    }
   },
   "outputs": [
    {
     "name": "stdout",
     "output_type": "stream",
     "text": [
      "字段 ’age’ Top(1, 频繁项集): [(23523, ['AGE_BETWEEN_31_40']), (23287, ['AGE_BETWEEN_24_30']), (20490, ['AGE_BETWEEN_41_49'])] \n",
      "\n",
      "字段 ’age’ Top(2, 频繁项集): [(22709, ['AGE_BETWEEN_24_30', 'AGE_BETWEEN_31_40']), (20203, ['AGE_BETWEEN_31_40', 'AGE_BETWEEN_41_49']), (19734, ['AGE_BETWEEN_24_30', 'AGE_BETWEEN_41_49'])] \n",
      "\n",
      "字段 ’age’ Top(3, 频繁项集): [(19455, ['AGE_BETWEEN_24_30', 'AGE_BETWEEN_31_40', 'AGE_BETWEEN_41_49']), (7105, ['AGE_BETWEEN_18_23', 'AGE_BETWEEN_24_30', 'AGE_BETWEEN_31_40']), (5500, ['AGE_BETWEEN_18_23', 'AGE_BETWEEN_31_40', 'AGE_BETWEEN_41_49'])] \n",
      "\n"
     ]
    }
   ],
   "source": [
    "for num in range(3):\n",
    "    ps.minlen = num + 1\n",
    "    ps.maxlen = num + 1\n",
    "    # ps.minsup = 0.1\n",
    "    print('字段 ’age’ Top({}, 频繁项集):'.format(num + 1), ps.topk(3), '\\n')"
   ]
  },
  {
   "cell_type": "code",
   "execution_count": null,
   "id": "dab8e8f5",
   "metadata": {},
   "outputs": [],
   "source": []
  }
 ],
 "metadata": {
  "kernelspec": {
   "display_name": "Python 3",
   "language": "python",
   "name": "python3"
  },
  "language_info": {
   "codemirror_mode": {
    "name": "ipython",
    "version": 3
   },
   "file_extension": ".py",
   "mimetype": "text/x-python",
   "name": "python",
   "nbconvert_exporter": "python",
   "pygments_lexer": "ipython3",
   "version": "3.7.0"
  },
  "toc": {
   "base_numbering": 1,
   "nav_menu": {},
   "number_sections": true,
   "sideBar": true,
   "skip_h1_title": false,
   "title_cell": "Table of Contents",
   "title_sidebar": "Contents",
   "toc_cell": false,
   "toc_position": {
    "height": "calc(100% - 180px)",
    "left": "10px",
    "top": "150px",
    "width": "190px"
   },
   "toc_section_display": true,
   "toc_window_display": true
  }
 },
 "nbformat": 4,
 "nbformat_minor": 5
}
