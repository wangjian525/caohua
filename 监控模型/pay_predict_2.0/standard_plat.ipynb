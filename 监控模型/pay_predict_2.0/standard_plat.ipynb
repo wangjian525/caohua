{
 "cells": [
  {
   "cell_type": "code",
   "execution_count": 39,
   "metadata": {},
   "outputs": [],
   "source": [
    "import pandas as pd\n",
    "import numpy as np\n",
    "import matplotlib.pyplot as plt\n",
    "import datetime"
   ]
  },
  {
   "cell_type": "code",
   "execution_count": 84,
   "metadata": {
    "scrolled": true
   },
   "outputs": [
    {
     "name": "stderr",
     "output_type": "stream",
     "text": [
      "C:\\Users\\Administrator\\anaconda3\\lib\\site-packages\\IPython\\core\\interactiveshell.py:3063: DtypeWarning: Columns (2,3) have mixed types.Specify dtype option on import or set low_memory=False.\n",
      "  interactivity=interactivity, compiler=compiler, result=result)\n"
     ]
    }
   ],
   "source": [
    "standard_info = pd.read_csv('./standard_info.csv')\n",
    "standard_info.drop_duplicates(inplace=True)\n",
    "pd.set_option('display.max_columns',None)\n",
    "game_info = pd.read_csv('game_info.csv')"
   ]
  },
  {
   "cell_type": "code",
   "execution_count": 85,
   "metadata": {},
   "outputs": [],
   "source": [
    "standard_info = pd.merge(standard_info,game_info,on='game_id',how='left',validate='many_to_one')"
   ]
  },
  {
   "cell_type": "code",
   "execution_count": 75,
   "metadata": {},
   "outputs": [],
   "source": [
    "columns = ['source_run_7date_bigrate','source_run_7date_midrate','source_run_7date_minrate',\n",
    "                                                      'source_run_7date_comrate','source_run_7date_rubrate']\n",
    "for i in range(1,4):\n",
    "    exec(\"source_info_2_grade_%s_user = pd.DataFrame(columns=columns)\"%(i))\n",
    "\n",
    "standard_info_duplicates_user = standard_info[standard_info['role_data_type'] == 7].drop_duplicates(['user_id','cp_server_no','cp_role_id'])\n",
    "standard_info_duplicates_user = standard_info_duplicates_user[standard_info_duplicates_user['source_amount']!=0]\n",
    "standard_info_duplicates_user['b_r'] = (standard_info_duplicates_user['role_created_30_pay_sum']>=2000).astype(int)\n",
    "standard_info_duplicates_user['m_r'] = ((standard_info_duplicates_user['role_created_30_pay_sum']<2000) & (standard_info_duplicates_user['role_created_30_pay_sum']>=100)).astype(int)\n",
    "standard_info_duplicates_user['s_r'] = ((standard_info_duplicates_user['role_created_30_pay_sum']<100) & (standard_info_duplicates_user['role_created_30_pay_sum']>0)).astype(int)\n",
    "standard_info_duplicates_user['rubbish'] = ((standard_info_duplicates_user['role_created_7_online']<=600) & (standard_info_duplicates_user['role_created_7_login_num']<=2)&\n",
    "                            (standard_info_duplicates_user['role_created_7_max_role_level']<=10)&(standard_info_duplicates_user['role_created_30_pay_sum']==0)).astype(int)\n",
    "standard_info_duplicates_user['common'] = (~((standard_info_duplicates_user['role_created_7_online']<=600) & (standard_info_duplicates_user['role_created_7_login_num']<=2)&\n",
    "            (standard_info_duplicates_user['role_created_7_max_role_level']<=10)) &(standard_info_duplicates_user['role_created_30_pay_sum']==0)).astype(int)\n",
    "groups = standard_info_duplicates_user.groupby(['channel_id','source_id','create_role_date'])\n",
    "\n",
    "temp = groups['role_created_30_pay_sum'].agg([('source_30_pay_sum','sum')]).reset_index()\n",
    "standard_info_duplicates_user = pd.merge(standard_info_duplicates_user,temp,on=['channel_id','source_id','create_role_date'],how='left',validate='many_to_one')\n",
    "\n",
    "# standard_info_duplicates_user['30_ROI'] = standard_info_duplicates_user['source_30_pay_sum']/(standard_info_duplicates_user['source_amount']+1e-4)\n",
    "\n",
    "# standard_info_duplicates_m_user = standard_info_duplicates_user[(standard_info_duplicates_user['30_ROI']>=0.5)&(standard_info_duplicates_user['30_ROI']<=0.8)]\n",
    "# source_grade_1_user = standard_info_duplicates_user[standard_info_duplicates_user['source_amount']>=5000]\n",
    "# source_grade_2_user = standard_info_duplicates_user[(standard_info_duplicates_user['source_amount']<5000)&(standard_info_duplicates_user['source_amount']>=500)]\n",
    "# source_grade_3_user = standard_info_duplicates_user[standard_info_duplicates_user['source_amount']<500]"
   ]
  },
  {
   "cell_type": "code",
   "execution_count": 21,
   "metadata": {},
   "outputs": [
    {
     "data": {
      "text/plain": [
       "array([2, 1], dtype=int64)"
      ]
     },
     "execution_count": 21,
     "metadata": {},
     "output_type": "execute_result"
    }
   ],
   "source": [
    "source_grade_1_user['game_platform'].unique()"
   ]
  },
  {
   "cell_type": "code",
   "execution_count": 43,
   "metadata": {},
   "outputs": [],
   "source": [
    "source_run_7date_bigrate_grade_1 = []\n",
    "source_run_7date_midrate_grade_1 = []\n",
    "source_run_7date_minrate_grade_1 = []\n",
    "source_run_7date_comrate_grade_1 = []\n",
    "source_run_7date_rubrate_grade_1 = []\n",
    "#         cols = ['b_r','m_r','s_r','common','rubbish']\n",
    "for game_platform in range(1,3):\n",
    "    source_grade_1_game_platform = source_grade_1_user[source_grade_1_user['game_platform'] == game_platform]\n",
    "\n",
    "    source_run_7date_bigrate_grade_1_game_id = round(source_grade_1_game_platform['b_r'].sum()/source_grade_1_game_platform.shape[0],4)\n",
    "    source_run_7date_bigrate_grade_1.append(source_run_7date_bigrate_grade_1_game_id)\n",
    "\n",
    "    source_run_7date_midrate_grade_1_game_id = round(source_grade_1_game_platform['m_r'].sum()/source_grade_1_game_platform.shape[0],4)\n",
    "    source_run_7date_midrate_grade_1.append(source_run_7date_midrate_grade_1_game_id)\n",
    "\n",
    "    source_run_7date_minrate_grade_1_game_id = round(source_grade_1_game_platform['s_r'].sum()/source_grade_1_game_platform.shape[0],4)\n",
    "    source_run_7date_minrate_grade_1.append(source_run_7date_minrate_grade_1_game_id)\n",
    "\n",
    "    source_run_7date_comrate_grade_1_game_id = round(source_grade_1_game_platform['common'].sum()/source_grade_1_game_platform.shape[0],4)\n",
    "    source_run_7date_comrate_grade_1.append(source_run_7date_comrate_grade_1_game_id)\n",
    "\n",
    "    source_run_7date_rubrate_grade_1_game_id = round(source_grade_1_game_platform['rubbish'].sum()/source_grade_1_game_platform.shape[0],4)\n",
    "    source_run_7date_rubrate_grade_1.append(source_run_7date_rubrate_grade_1_game_id)"
   ]
  },
  {
   "cell_type": "code",
   "execution_count": 44,
   "metadata": {},
   "outputs": [
    {
     "data": {
      "text/plain": [
       "[0.0008, 0.0027]"
      ]
     },
     "execution_count": 44,
     "metadata": {},
     "output_type": "execute_result"
    }
   ],
   "source": [
    "source_run_7date_bigrate_grade_1"
   ]
  },
  {
   "cell_type": "code",
   "execution_count": 45,
   "metadata": {},
   "outputs": [
    {
     "data": {
      "text/plain": [
       "[0.005, 0.0108]"
      ]
     },
     "execution_count": 45,
     "metadata": {},
     "output_type": "execute_result"
    }
   ],
   "source": [
    "source_run_7date_midrate_grade_1"
   ]
  },
  {
   "cell_type": "code",
   "execution_count": 46,
   "metadata": {},
   "outputs": [
    {
     "data": {
      "text/plain": [
       "[0.0063, 0.0108]"
      ]
     },
     "execution_count": 46,
     "metadata": {},
     "output_type": "execute_result"
    }
   ],
   "source": [
    "source_run_7date_minrate_grade_1"
   ]
  },
  {
   "cell_type": "code",
   "execution_count": 47,
   "metadata": {},
   "outputs": [
    {
     "data": {
      "text/plain": [
       "[0.1853, 0.5701]"
      ]
     },
     "execution_count": 47,
     "metadata": {},
     "output_type": "execute_result"
    }
   ],
   "source": [
    "source_run_7date_comrate_grade_1"
   ]
  },
  {
   "cell_type": "code",
   "execution_count": 48,
   "metadata": {},
   "outputs": [
    {
     "data": {
      "text/plain": [
       "[0.8026, 0.4056]"
      ]
     },
     "execution_count": 48,
     "metadata": {},
     "output_type": "execute_result"
    }
   ],
   "source": [
    "source_run_7date_rubrate_grade_1"
   ]
  },
  {
   "cell_type": "code",
   "execution_count": null,
   "metadata": {},
   "outputs": [],
   "source": []
  },
  {
   "cell_type": "code",
   "execution_count": null,
   "metadata": {},
   "outputs": [],
   "source": []
  },
  {
   "cell_type": "code",
   "execution_count": null,
   "metadata": {},
   "outputs": [],
   "source": []
  },
  {
   "cell_type": "code",
   "execution_count": null,
   "metadata": {},
   "outputs": [],
   "source": []
  },
  {
   "cell_type": "code",
   "execution_count": 86,
   "metadata": {},
   "outputs": [],
   "source": [
    "standard_info_duplicates = standard_info[standard_info['role_data_type'] == 7].drop_duplicates(['user_id','cp_server_no','cp_role_id'])\n",
    "# standard_info_duplicates = standard_info_duplicates[standard_info_duplicates['source_amount']!=0]\n",
    "\n",
    "source_grade_1 = standard_info_duplicates[standard_info_duplicates['source_amount']>=5000]\n",
    "source_grade_2 = standard_info_duplicates[(standard_info_duplicates['source_amount']<5000)&(standard_info_duplicates['source_amount']>=500)]\n",
    "source_grade_3 = standard_info_duplicates[standard_info_duplicates['source_amount']<500]\n",
    "\n",
    "\n"
   ]
  },
  {
   "cell_type": "code",
   "execution_count": 87,
   "metadata": {},
   "outputs": [
    {
     "data": {
      "text/html": [
       "<div>\n",
       "<style scoped>\n",
       "    .dataframe tbody tr th:only-of-type {\n",
       "        vertical-align: middle;\n",
       "    }\n",
       "\n",
       "    .dataframe tbody tr th {\n",
       "        vertical-align: top;\n",
       "    }\n",
       "\n",
       "    .dataframe thead th {\n",
       "        text-align: right;\n",
       "    }\n",
       "</style>\n",
       "<table border=\"1\" class=\"dataframe\">\n",
       "  <thead>\n",
       "    <tr style=\"text-align: right;\">\n",
       "      <th></th>\n",
       "      <th>user_id</th>\n",
       "      <th>mgame_id</th>\n",
       "      <th>cp_server_no</th>\n",
       "      <th>cp_role_id</th>\n",
       "      <th>role_data_type</th>\n",
       "      <th>role_id</th>\n",
       "      <th>channel_id</th>\n",
       "      <th>source_id</th>\n",
       "      <th>game_id</th>\n",
       "      <th>media_id</th>\n",
       "      <th>create_role_date</th>\n",
       "      <th>create_role_time</th>\n",
       "      <th>role_created_7_login_num</th>\n",
       "      <th>role_created_7_max_role_level</th>\n",
       "      <th>role_created_7_online</th>\n",
       "      <th>pay_sum</th>\n",
       "      <th>role_created_30_pay_sum</th>\n",
       "      <th>source_amount</th>\n",
       "      <th>game_platform</th>\n",
       "    </tr>\n",
       "  </thead>\n",
       "  <tbody>\n",
       "    <tr>\n",
       "      <th>1065</th>\n",
       "      <td>115159942</td>\n",
       "      <td>1056</td>\n",
       "      <td>660918</td>\n",
       "      <td>18242942</td>\n",
       "      <td>7</td>\n",
       "      <td>151994428</td>\n",
       "      <td>6867</td>\n",
       "      <td>284945</td>\n",
       "      <td>1001049</td>\n",
       "      <td>16</td>\n",
       "      <td>2020-06-20</td>\n",
       "      <td>2020-06-20 07:34:17</td>\n",
       "      <td>1</td>\n",
       "      <td>1</td>\n",
       "      <td>0</td>\n",
       "      <td>0.0</td>\n",
       "      <td>0.0</td>\n",
       "      <td>14111.56</td>\n",
       "      <td>1</td>\n",
       "    </tr>\n",
       "    <tr>\n",
       "      <th>1108</th>\n",
       "      <td>115193296</td>\n",
       "      <td>1056</td>\n",
       "      <td>660920</td>\n",
       "      <td>18254038</td>\n",
       "      <td>7</td>\n",
       "      <td>152023916</td>\n",
       "      <td>6867</td>\n",
       "      <td>284945</td>\n",
       "      <td>1001049</td>\n",
       "      <td>16</td>\n",
       "      <td>2020-06-20</td>\n",
       "      <td>2020-06-20 18:50:17</td>\n",
       "      <td>1</td>\n",
       "      <td>1</td>\n",
       "      <td>10</td>\n",
       "      <td>0.0</td>\n",
       "      <td>0.0</td>\n",
       "      <td>14111.56</td>\n",
       "      <td>1</td>\n",
       "    </tr>\n",
       "    <tr>\n",
       "      <th>1109</th>\n",
       "      <td>115166800</td>\n",
       "      <td>1056</td>\n",
       "      <td>660919</td>\n",
       "      <td>18244529</td>\n",
       "      <td>7</td>\n",
       "      <td>152000242</td>\n",
       "      <td>6867</td>\n",
       "      <td>284945</td>\n",
       "      <td>1001049</td>\n",
       "      <td>16</td>\n",
       "      <td>2020-06-20</td>\n",
       "      <td>2020-06-20 11:25:31</td>\n",
       "      <td>1</td>\n",
       "      <td>7</td>\n",
       "      <td>1996</td>\n",
       "      <td>0.0</td>\n",
       "      <td>0.0</td>\n",
       "      <td>14111.56</td>\n",
       "      <td>1</td>\n",
       "    </tr>\n",
       "    <tr>\n",
       "      <th>1125</th>\n",
       "      <td>115184223</td>\n",
       "      <td>1056</td>\n",
       "      <td>660920</td>\n",
       "      <td>18250953</td>\n",
       "      <td>7</td>\n",
       "      <td>152015901</td>\n",
       "      <td>6867</td>\n",
       "      <td>284945</td>\n",
       "      <td>1001049</td>\n",
       "      <td>16</td>\n",
       "      <td>2020-06-20</td>\n",
       "      <td>2020-06-20 15:50:12</td>\n",
       "      <td>1</td>\n",
       "      <td>13</td>\n",
       "      <td>1200</td>\n",
       "      <td>0.0</td>\n",
       "      <td>0.0</td>\n",
       "      <td>14111.56</td>\n",
       "      <td>1</td>\n",
       "    </tr>\n",
       "    <tr>\n",
       "      <th>1128</th>\n",
       "      <td>115173431</td>\n",
       "      <td>1056</td>\n",
       "      <td>660919</td>\n",
       "      <td>18247080</td>\n",
       "      <td>7</td>\n",
       "      <td>152006480</td>\n",
       "      <td>6867</td>\n",
       "      <td>284945</td>\n",
       "      <td>1001049</td>\n",
       "      <td>16</td>\n",
       "      <td>2020-06-20</td>\n",
       "      <td>2020-06-20 12:56:30</td>\n",
       "      <td>1</td>\n",
       "      <td>1</td>\n",
       "      <td>31</td>\n",
       "      <td>0.0</td>\n",
       "      <td>0.0</td>\n",
       "      <td>14111.56</td>\n",
       "      <td>1</td>\n",
       "    </tr>\n",
       "  </tbody>\n",
       "</table>\n",
       "</div>"
      ],
      "text/plain": [
       "        user_id  mgame_id cp_server_no cp_role_id  role_data_type    role_id  \\\n",
       "1065  115159942      1056       660918   18242942               7  151994428   \n",
       "1108  115193296      1056       660920   18254038               7  152023916   \n",
       "1109  115166800      1056       660919   18244529               7  152000242   \n",
       "1125  115184223      1056       660920   18250953               7  152015901   \n",
       "1128  115173431      1056       660919   18247080               7  152006480   \n",
       "\n",
       "      channel_id  source_id  game_id  media_id create_role_date  \\\n",
       "1065        6867     284945  1001049        16       2020-06-20   \n",
       "1108        6867     284945  1001049        16       2020-06-20   \n",
       "1109        6867     284945  1001049        16       2020-06-20   \n",
       "1125        6867     284945  1001049        16       2020-06-20   \n",
       "1128        6867     284945  1001049        16       2020-06-20   \n",
       "\n",
       "         create_role_time  role_created_7_login_num  \\\n",
       "1065  2020-06-20 07:34:17                         1   \n",
       "1108  2020-06-20 18:50:17                         1   \n",
       "1109  2020-06-20 11:25:31                         1   \n",
       "1125  2020-06-20 15:50:12                         1   \n",
       "1128  2020-06-20 12:56:30                         1   \n",
       "\n",
       "      role_created_7_max_role_level  role_created_7_online  pay_sum  \\\n",
       "1065                              1                      0      0.0   \n",
       "1108                              1                     10      0.0   \n",
       "1109                              7                   1996      0.0   \n",
       "1125                             13                   1200      0.0   \n",
       "1128                              1                     31      0.0   \n",
       "\n",
       "      role_created_30_pay_sum  source_amount  game_platform  \n",
       "1065                      0.0       14111.56              1  \n",
       "1108                      0.0       14111.56              1  \n",
       "1109                      0.0       14111.56              1  \n",
       "1125                      0.0       14111.56              1  \n",
       "1128                      0.0       14111.56              1  "
      ]
     },
     "execution_count": 87,
     "metadata": {},
     "output_type": "execute_result"
    }
   ],
   "source": [
    "source_grade_1.head()"
   ]
  },
  {
   "cell_type": "code",
   "execution_count": 88,
   "metadata": {},
   "outputs": [],
   "source": [
    "def dell(df):\n",
    "    groups = df.groupby(['channel_id','source_id'])\n",
    "    temp = groups['pay_sum'].agg([('pay_sum_nd','sum')]).reset_index()\n",
    "    df = pd.merge(df,temp,on=['channel_id','source_id'],how='left',validate='many_to_one')\n",
    "\n",
    "\n",
    "    temp = groups['role_created_30_pay_sum'].agg([('source_30_pay_sum','sum')]).reset_index()\n",
    "    df = pd.merge(df,temp,on=['channel_id','source_id'],how='left',validate='many_to_one')\n",
    "\n",
    "    temp = groups['user_id'].agg([('user_num','count')]).reset_index()\n",
    "    df = pd.merge(df,temp,on=['channel_id','source_id'],how='left',validate='many_to_one')\n",
    "    df = df[['channel_id','source_id','create_role_date','source_amount','game_platform',\n",
    "                                                 'pay_sum_nd','source_30_pay_sum','user_num']].drop_duplicates()\n",
    "    groups = df.groupby(['channel_id','source_id'])\n",
    "    temp = groups['source_amount'].agg([('source_amount_sum','sum')]).reset_index()\n",
    "    df = pd.merge(df,temp,on=['channel_id','source_id'],how='left',validate='many_to_one')\n",
    "    df = df[['channel_id','source_id','source_amount_sum','game_platform',\n",
    "                                                  'pay_sum_nd','source_30_pay_sum','user_num']].drop_duplicates()\n",
    "    return df"
   ]
  },
  {
   "cell_type": "code",
   "execution_count": 89,
   "metadata": {},
   "outputs": [],
   "source": [
    "source_grade_1 = dell(source_grade_1)\n",
    "source_grade_2 = dell(source_grade_2)\n",
    "source_grade_3 = dell(source_grade_3)"
   ]
  },
  {
   "cell_type": "code",
   "execution_count": 90,
   "metadata": {},
   "outputs": [
    {
     "data": {
      "text/html": [
       "<div>\n",
       "<style scoped>\n",
       "    .dataframe tbody tr th:only-of-type {\n",
       "        vertical-align: middle;\n",
       "    }\n",
       "\n",
       "    .dataframe tbody tr th {\n",
       "        vertical-align: top;\n",
       "    }\n",
       "\n",
       "    .dataframe thead th {\n",
       "        text-align: right;\n",
       "    }\n",
       "</style>\n",
       "<table border=\"1\" class=\"dataframe\">\n",
       "  <thead>\n",
       "    <tr style=\"text-align: right;\">\n",
       "      <th></th>\n",
       "      <th>channel_id</th>\n",
       "      <th>source_id</th>\n",
       "      <th>source_amount_sum</th>\n",
       "      <th>game_platform</th>\n",
       "      <th>pay_sum_nd</th>\n",
       "      <th>source_30_pay_sum</th>\n",
       "      <th>user_num</th>\n",
       "    </tr>\n",
       "  </thead>\n",
       "  <tbody>\n",
       "    <tr>\n",
       "      <th>0</th>\n",
       "      <td>6867</td>\n",
       "      <td>284945</td>\n",
       "      <td>109914.02</td>\n",
       "      <td>1</td>\n",
       "      <td>13136.0</td>\n",
       "      <td>60660.0</td>\n",
       "      <td>2559</td>\n",
       "    </tr>\n",
       "    <tr>\n",
       "      <th>1</th>\n",
       "      <td>20144</td>\n",
       "      <td>320649</td>\n",
       "      <td>342437.09</td>\n",
       "      <td>2</td>\n",
       "      <td>29532.0</td>\n",
       "      <td>74176.0</td>\n",
       "      <td>2561</td>\n",
       "    </tr>\n",
       "    <tr>\n",
       "      <th>2</th>\n",
       "      <td>20545</td>\n",
       "      <td>320012</td>\n",
       "      <td>23128.05</td>\n",
       "      <td>1</td>\n",
       "      <td>1312.0</td>\n",
       "      <td>1764.0</td>\n",
       "      <td>646</td>\n",
       "    </tr>\n",
       "    <tr>\n",
       "      <th>3</th>\n",
       "      <td>20635</td>\n",
       "      <td>270722</td>\n",
       "      <td>42129.05</td>\n",
       "      <td>1</td>\n",
       "      <td>8466.0</td>\n",
       "      <td>14652.0</td>\n",
       "      <td>2520</td>\n",
       "    </tr>\n",
       "    <tr>\n",
       "      <th>4</th>\n",
       "      <td>20953</td>\n",
       "      <td>320464</td>\n",
       "      <td>8702.01</td>\n",
       "      <td>1</td>\n",
       "      <td>21556.0</td>\n",
       "      <td>26092.0</td>\n",
       "      <td>416</td>\n",
       "    </tr>\n",
       "  </tbody>\n",
       "</table>\n",
       "</div>"
      ],
      "text/plain": [
       "   channel_id  source_id  source_amount_sum  game_platform  pay_sum_nd  \\\n",
       "0        6867     284945          109914.02              1     13136.0   \n",
       "1       20144     320649          342437.09              2     29532.0   \n",
       "2       20545     320012           23128.05              1      1312.0   \n",
       "3       20635     270722           42129.05              1      8466.0   \n",
       "4       20953     320464            8702.01              1     21556.0   \n",
       "\n",
       "   source_30_pay_sum  user_num  \n",
       "0            60660.0      2559  \n",
       "1            74176.0      2561  \n",
       "2             1764.0       646  \n",
       "3            14652.0      2520  \n",
       "4            26092.0       416  "
      ]
     },
     "execution_count": 90,
     "metadata": {},
     "output_type": "execute_result"
    }
   ],
   "source": [
    "source_grade_1.head()"
   ]
  },
  {
   "cell_type": "code",
   "execution_count": 98,
   "metadata": {},
   "outputs": [],
   "source": [
    "an_1 = source_grade_1[source_grade_1['game_platform']==1]\n",
    "ios_1 = source_grade_1[source_grade_1['game_platform']==2]"
   ]
  },
  {
   "cell_type": "code",
   "execution_count": 99,
   "metadata": {
    "scrolled": true
   },
   "outputs": [
    {
     "data": {
      "text/plain": [
       "0.5607288676382796"
      ]
     },
     "execution_count": 99,
     "metadata": {},
     "output_type": "execute_result"
    }
   ],
   "source": [
    "an_1['source_30_pay_sum'].sum()/an_1['source_amount_sum'].sum()"
   ]
  },
  {
   "cell_type": "code",
   "execution_count": 100,
   "metadata": {},
   "outputs": [
    {
     "data": {
      "text/plain": [
       "0.4351998459612122"
      ]
     },
     "execution_count": 100,
     "metadata": {},
     "output_type": "execute_result"
    }
   ],
   "source": [
    "ios_1['source_30_pay_sum'].sum()/ios_1['source_amount_sum'].sum()"
   ]
  },
  {
   "cell_type": "code",
   "execution_count": 101,
   "metadata": {},
   "outputs": [],
   "source": [
    "an_2 = source_grade_2[source_grade_2['game_platform']==1]\n",
    "ios_2 = source_grade_2[source_grade_2['game_platform']==2]"
   ]
  },
  {
   "cell_type": "code",
   "execution_count": 102,
   "metadata": {},
   "outputs": [
    {
     "data": {
      "text/plain": [
       "0.304036376982379"
      ]
     },
     "execution_count": 102,
     "metadata": {},
     "output_type": "execute_result"
    }
   ],
   "source": [
    "an_2['source_30_pay_sum'].sum()/an_2['source_amount_sum'].sum()"
   ]
  },
  {
   "cell_type": "code",
   "execution_count": 103,
   "metadata": {},
   "outputs": [
    {
     "data": {
      "text/plain": [
       "0.3254751305632187"
      ]
     },
     "execution_count": 103,
     "metadata": {},
     "output_type": "execute_result"
    }
   ],
   "source": [
    "ios_2['source_30_pay_sum'].sum()/ios_2['source_amount_sum'].sum()"
   ]
  },
  {
   "cell_type": "code",
   "execution_count": 104,
   "metadata": {},
   "outputs": [],
   "source": [
    "an_3 = source_grade_3[source_grade_3['game_platform']==1]\n",
    "ios_3 = source_grade_3[source_grade_3['game_platform']==2]"
   ]
  },
  {
   "cell_type": "code",
   "execution_count": 105,
   "metadata": {},
   "outputs": [
    {
     "data": {
      "text/plain": [
       "1.5783993842167818"
      ]
     },
     "execution_count": 105,
     "metadata": {},
     "output_type": "execute_result"
    }
   ],
   "source": [
    "an_3['source_30_pay_sum'].sum()/an_3['source_amount_sum'].sum()"
   ]
  },
  {
   "cell_type": "code",
   "execution_count": 106,
   "metadata": {},
   "outputs": [
    {
     "data": {
      "text/plain": [
       "4.395218417458397"
      ]
     },
     "execution_count": 106,
     "metadata": {},
     "output_type": "execute_result"
    }
   ],
   "source": [
    "ios_3['source_30_pay_sum'].sum()/ios_3['source_amount_sum'].sum()"
   ]
  },
  {
   "cell_type": "code",
   "execution_count": 111,
   "metadata": {},
   "outputs": [
    {
     "data": {
      "text/plain": [
       "1008174.0"
      ]
     },
     "execution_count": 111,
     "metadata": {},
     "output_type": "execute_result"
    }
   ],
   "source": [
    "ios_2['source_30_pay_sum'].sum()"
   ]
  },
  {
   "cell_type": "code",
   "execution_count": 107,
   "metadata": {},
   "outputs": [
    {
     "data": {
      "text/plain": [
       "4720900.0"
      ]
     },
     "execution_count": 107,
     "metadata": {},
     "output_type": "execute_result"
    }
   ],
   "source": [
    "ios_1['source_30_pay_sum'].sum()+ios_2['source_30_pay_sum'].sum()+ios_3['source_30_pay_sum'].sum()"
   ]
  },
  {
   "cell_type": "code",
   "execution_count": 108,
   "metadata": {},
   "outputs": [
    {
     "data": {
      "text/plain": [
       "8542158.990000002"
      ]
     },
     "execution_count": 108,
     "metadata": {},
     "output_type": "execute_result"
    }
   ],
   "source": [
    "ios_1['source_amount_sum'].sum()+ios_2['source_amount_sum'].sum()+ios_3['source_amount_sum'].sum()"
   ]
  },
  {
   "cell_type": "code",
   "execution_count": 109,
   "metadata": {},
   "outputs": [
    {
     "data": {
      "text/plain": [
       "5393256.0"
      ]
     },
     "execution_count": 109,
     "metadata": {},
     "output_type": "execute_result"
    }
   ],
   "source": [
    "an_1['source_30_pay_sum'].sum()+an_2['source_30_pay_sum'].sum()+an_3['source_30_pay_sum'].sum()"
   ]
  },
  {
   "cell_type": "code",
   "execution_count": 110,
   "metadata": {},
   "outputs": [
    {
     "data": {
      "text/plain": [
       "11500038.270000001"
      ]
     },
     "execution_count": 110,
     "metadata": {},
     "output_type": "execute_result"
    }
   ],
   "source": [
    "an_1['source_amount_sum'].sum()+an_2['source_amount_sum'].sum()+an_3['source_amount_sum'].sum()"
   ]
  },
  {
   "cell_type": "code",
   "execution_count": null,
   "metadata": {},
   "outputs": [],
   "source": [
    "groups = standard_info_duplicates.groupby(['channel_id','source_id'])\n",
    "temp = groups['pay_sum'].agg([('pay_sum_nd','sum')]).reset_index()\n",
    "standard_info_duplicates = pd.merge(standard_info_duplicates,temp,on=['channel_id','source_id'],how='left',validate='many_to_one')\n",
    "\n",
    "\n",
    "temp = groups['role_created_30_pay_sum'].agg([('source_30_pay_sum','sum')]).reset_index()\n",
    "standard_info_duplicates = pd.merge(standard_info_duplicates,temp,on=['channel_id','source_id'],how='left',validate='many_to_one')\n",
    "\n",
    "temp = groups['user_id'].agg([('user_num','count')]).reset_index()\n",
    "standard_info_duplicates = pd.merge(standard_info_duplicates,temp,on=['channel_id','source_id'],how='left',validate='many_to_one')\n",
    "\n",
    "# standard_info_duplicates = standard_info_duplicates[['channel_id','source_id','create_role_date','source_amount','game_platform',\n",
    "#                                                  'source_30_pay_sum']].drop_duplicates()\n",
    "# standard_info_duplicates['30_ROI'] = standard_info_duplicates['source_30_pay_sum']/(standard_info_duplicates['source_amount']+1e-4)\n",
    "\n",
    "# standard_info_duplicates_m = standard_info_duplicates[(standard_info_duplicates['30_ROI']>=0.5)&(standard_info_duplicates['30_ROI']<=0.8)]\n"
   ]
  },
  {
   "cell_type": "code",
   "execution_count": 53,
   "metadata": {},
   "outputs": [],
   "source": [
    "standard_info_duplicates = standard_info_duplicates[['channel_id','source_id','create_role_date','source_amount','game_platform',\n",
    "                                                 'pay_sum_nd','source_30_pay_sum','user_num']].drop_duplicates()\n",
    "groups = standard_info_duplicates.groupby(['channel_id','source_id'])\n",
    "temp = groups['source_amount'].agg([('source_amount_sum','sum')]).reset_index()\n",
    "standard_info_duplicates = pd.merge(standard_info_duplicates,temp,on=['channel_id','source_id'],how='left',validate='many_to_one')"
   ]
  },
  {
   "cell_type": "code",
   "execution_count": 54,
   "metadata": {},
   "outputs": [],
   "source": [
    "standard_info_duplicates = standard_info_duplicates[['channel_id','source_id','source_amount_sum','game_platform',\n",
    "                                                  'pay_sum_nd','source_30_pay_sum','user_num']].drop_duplicates()"
   ]
  },
  {
   "cell_type": "code",
   "execution_count": 59,
   "metadata": {},
   "outputs": [],
   "source": [
    "source_grade_1 = standard_info_duplicates[standard_info_duplicates['source_amount_sum']>=5000]\n",
    "source_grade_2 = standard_info_duplicates[(standard_info_duplicates['source_amount_sum']<5000)&(standard_info_duplicates['source_amount_sum']>=500)]\n",
    "source_grade_3 = standard_info_duplicates[standard_info_duplicates['source_amount_sum']<500]"
   ]
  },
  {
   "cell_type": "code",
   "execution_count": null,
   "metadata": {},
   "outputs": [],
   "source": []
  },
  {
   "cell_type": "code",
   "execution_count": null,
   "metadata": {},
   "outputs": [],
   "source": []
  },
  {
   "cell_type": "code",
   "execution_count": null,
   "metadata": {},
   "outputs": [],
   "source": []
  },
  {
   "cell_type": "code",
   "execution_count": null,
   "metadata": {},
   "outputs": [],
   "source": []
  },
  {
   "cell_type": "code",
   "execution_count": null,
   "metadata": {},
   "outputs": [],
   "source": []
  },
  {
   "cell_type": "code",
   "execution_count": null,
   "metadata": {},
   "outputs": [],
   "source": []
  },
  {
   "cell_type": "code",
   "execution_count": null,
   "metadata": {},
   "outputs": [],
   "source": []
  },
  {
   "cell_type": "code",
   "execution_count": null,
   "metadata": {},
   "outputs": [],
   "source": []
  },
  {
   "cell_type": "code",
   "execution_count": null,
   "metadata": {},
   "outputs": [],
   "source": []
  },
  {
   "cell_type": "code",
   "execution_count": null,
   "metadata": {},
   "outputs": [],
   "source": []
  },
  {
   "cell_type": "code",
   "execution_count": 112,
   "metadata": {},
   "outputs": [],
   "source": [
    "# n天\n",
    "def standard_compute(standard_info):\n",
    "    # 用户质量维度\n",
    "    columns = ['source_run_7date_bigrate','source_run_7date_midrate','source_run_7date_minrate',\n",
    "                                                      'source_run_7date_comrate','source_run_7date_rubrate']\n",
    "    for i in range(1,4):\n",
    "        exec(\"source_info_2_grade_%s_user = pd.DataFrame(columns=columns)\"%(i))\n",
    "\n",
    "    standard_info_duplicates_user = standard_info[standard_info['role_data_type'] == 7].drop_duplicates(['user_id','cp_server_no','cp_role_id'])\n",
    "    standard_info_duplicates_user = standard_info_duplicates_user[standard_info_duplicates_user['source_amount']!=0]\n",
    "    standard_info_duplicates_user['b_r'] = (standard_info_duplicates_user['role_created_30_pay_sum']>=2000).astype(int)\n",
    "    standard_info_duplicates_user['m_r'] = ((standard_info_duplicates_user['role_created_30_pay_sum']<2000) & (standard_info_duplicates_user['role_created_30_pay_sum']>=100)).astype(int)\n",
    "    standard_info_duplicates_user['s_r'] = ((standard_info_duplicates_user['role_created_30_pay_sum']<100) & (standard_info_duplicates_user['role_created_30_pay_sum']>0)).astype(int)\n",
    "    standard_info_duplicates_user['rubbish'] = ((standard_info_duplicates_user['role_created_7_online']<=600) & (standard_info_duplicates_user['role_created_7_login_num']<=2)&\n",
    "                                (standard_info_duplicates_user['role_created_7_max_role_level']<=10)&(standard_info_duplicates_user['role_created_30_pay_sum']==0)).astype(int)\n",
    "    standard_info_duplicates_user['common'] = (~((standard_info_duplicates_user['role_created_7_online']<=600) & (standard_info_duplicates_user['role_created_7_login_num']<=2)&\n",
    "                (standard_info_duplicates_user['role_created_7_max_role_level']<=10)) &(standard_info_duplicates_user['role_created_30_pay_sum']==0)).astype(int)\n",
    "    groups = standard_info_duplicates_user.groupby(['channel_id','source_id','create_role_date'])\n",
    "\n",
    "    temp = groups['role_created_30_pay_sum'].agg([('source_30_pay_sum','sum')]).reset_index()\n",
    "    standard_info_duplicates_user = pd.merge(standard_info_duplicates_user,temp,on=['channel_id','source_id','create_role_date'],how='left',validate='many_to_one')\n",
    "\n",
    "    # standard_info_duplicates_user['30_ROI'] = standard_info_duplicates_user['source_30_pay_sum']/(standard_info_duplicates_user['source_amount']+1e-4)\n",
    "\n",
    "    # standard_info_duplicates_m_user = standard_info_duplicates_user[(standard_info_duplicates_user['30_ROI']>=0.5)&(standard_info_duplicates_user['30_ROI']<=0.8)]\n",
    "    source_grade_1_user = standard_info_duplicates_user[standard_info_duplicates_user['source_amount']>=5000]\n",
    "    source_grade_2_user = standard_info_duplicates_user[(standard_info_duplicates_user['source_amount']<5000)&(standard_info_duplicates_user['source_amount']>=500)]\n",
    "    source_grade_3_user = standard_info_duplicates_user[standard_info_duplicates_user['source_amount']<500]\n",
    "    \n",
    "    # grade_1\n",
    "    if len(source_grade_1_user['game_id'].unique())!=0:\n",
    "        source_run_7date_bigrate_grade_1 = []\n",
    "        source_run_7date_midrate_grade_1 = []\n",
    "        source_run_7date_minrate_grade_1 = []\n",
    "        source_run_7date_comrate_grade_1 = []\n",
    "        source_run_7date_rubrate_grade_1 = []\n",
    "#         cols = ['b_r','m_r','s_r','common','rubbish']\n",
    "        for game_platform in range(1,3):\n",
    "            source_grade_1_game_platform = source_grade_1_user[source_grade_1_user['game_platform'] == game_platform]\n",
    "\n",
    "            source_run_7date_bigrate_grade_1_game_id = round(source_grade_1_game_platform['b_r'].sum()/source_grade_1_game_platform.shape[0],4)\n",
    "            source_run_7date_bigrate_grade_1.append(source_run_7date_bigrate_grade_1_game_id)\n",
    "\n",
    "            source_run_7date_midrate_grade_1_game_id = round(source_grade_1_game_platform['m_r'].sum()/source_grade_1_game_platform.shape[0],4)\n",
    "            source_run_7date_midrate_grade_1.append(source_run_7date_midrate_grade_1_game_id)\n",
    "\n",
    "            source_run_7date_minrate_grade_1_game_id = round(source_grade_1_game_platform['s_r'].sum()/source_grade_1_game_platform.shape[0],4)\n",
    "            source_run_7date_minrate_grade_1.append(source_run_7date_minrate_grade_1_game_id)\n",
    "\n",
    "            source_run_7date_comrate_grade_1_game_id = round(source_grade_1_game_platform['common'].sum()/source_grade_1_game_platform.shape[0],4)\n",
    "            source_run_7date_comrate_grade_1.append(source_run_7date_comrate_grade_1_game_id)\n",
    "\n",
    "            source_run_7date_rubrate_grade_1_game_id = round(source_grade_1_game_platform['rubbish'].sum()/source_grade_1_game_platform.shape[0],4)\n",
    "            source_run_7date_rubrate_grade_1.append(source_run_7date_rubrate_grade_1_game_id)\n",
    "    \n",
    "    # grade_2\n",
    "    if len(source_grade_2_user['game_id'].unique())!=0:\n",
    "        source_run_7date_bigrate_grade_2 = []\n",
    "        source_run_7date_midrate_grade_2 = []\n",
    "        source_run_7date_minrate_grade_2 = []\n",
    "        source_run_7date_comrate_grade_2 = []\n",
    "        source_run_7date_rubrate_grade_2 = []\n",
    "        for game_platform in range(1,3):\n",
    "            source_grade_2_game_platform = source_grade_2_user[source_grade_2_user['game_platform'] == game_platform]\n",
    "\n",
    "            source_run_7date_bigrate_grade_2_game_id = round(source_grade_2_game_platform['b_r'].sum()/source_grade_2_game_platform.shape[0],4)\n",
    "            source_run_7date_bigrate_grade_2.append(source_run_7date_bigrate_grade_2_game_id)\n",
    "\n",
    "            source_run_7date_midrate_grade_2_game_id = round(source_grade_2_game_platform['m_r'].sum()/source_grade_2_game_platform.shape[0],4)\n",
    "            source_run_7date_midrate_grade_2.append(source_run_7date_midrate_grade_2_game_id)\n",
    "\n",
    "            source_run_7date_minrate_grade_2_game_id = round(source_grade_2_game_platform['s_r'].sum()/source_grade_2_game_platform.shape[0],4)\n",
    "            source_run_7date_minrate_grade_2.append(source_run_7date_minrate_grade_2_game_id)\n",
    "\n",
    "            source_run_7date_comrate_grade_2_game_id = round(source_grade_2_game_platform['common'].sum()/source_grade_2_game_platform.shape[0],4)\n",
    "            source_run_7date_comrate_grade_2.append(source_run_7date_comrate_grade_2_game_id)\n",
    "\n",
    "            source_run_7date_rubrate_grade_2_game_id = round(source_grade_2_game_platform['rubbish'].sum()/source_grade_2_game_platform.shape[0],4)\n",
    "            source_run_7date_rubrate_grade_2.append(source_run_7date_rubrate_grade_2_game_id)\n",
    "    \n",
    "    # grade_3\n",
    "    if len(source_grade_3_user['game_id'].unique())!=0:\n",
    "        source_run_7date_bigrate_grade_3 = []\n",
    "        source_run_7date_midrate_grade_3 = []\n",
    "        source_run_7date_minrate_grade_3 = []\n",
    "        source_run_7date_comrate_grade_3 = []\n",
    "        source_run_7date_rubrate_grade_3 = []\n",
    "        for game_platform in range(1,3):\n",
    "            source_grade_3_game_platform = source_grade_3_user[source_grade_3_user['game_platform'] == game_platform]\n",
    "\n",
    "            source_run_7date_bigrate_grade_3_game_id = round(source_grade_3_game_platform['b_r'].sum()/source_grade_3_game_platform.shape[0],4)\n",
    "            source_run_7date_bigrate_grade_3.append(source_run_7date_bigrate_grade_3_game_id)\n",
    "\n",
    "            source_run_7date_midrate_grade_3_game_id = round(source_grade_3_game_platform['m_r'].sum()/source_grade_3_game_platform.shape[0],4)\n",
    "            source_run_7date_midrate_grade_3.append(source_run_7date_midrate_grade_3_game_id)\n",
    "\n",
    "            source_run_7date_minrate_grade_3_game_id = round(source_grade_3_game_platform['s_r'].sum()/source_grade_3_game_platform.shape[0],4)\n",
    "            source_run_7date_minrate_grade_3.append(source_run_7date_minrate_grade_3_game_id)\n",
    "\n",
    "            source_run_7date_comrate_grade_3_game_id = round(source_grade_3_game_platform['common'].sum()/source_grade_3_game_platform.shape[0],4)\n",
    "            source_run_7date_comrate_grade_3.append(source_run_7date_comrate_grade_3_game_id)\n",
    "\n",
    "            source_run_7date_rubrate_grade_3_game_id = round(source_grade_3_game_platform['rubbish'].sum()/source_grade_3_game_platform.shape[0],4)\n",
    "            source_run_7date_rubrate_grade_3.append(source_run_7date_rubrate_grade_3_game_id)\n",
    "            \n",
    "    \n",
    "    source_info_2_grade_1_user['source_run_7date_bigrate'] = source_run_7date_bigrate_grade_1\n",
    "    source_info_2_grade_1_user['source_run_7date_midrate'] = source_run_7date_midrate_grade_1\n",
    "    source_info_2_grade_1_user['source_run_7date_minrate'] = source_run_7date_minrate_grade_1\n",
    "    source_info_2_grade_1_user['source_run_7date_comrate'] = source_run_7date_comrate_grade_1\n",
    "    source_info_2_grade_1_user['source_run_7date_rubrate'] = source_run_7date_rubrate_grade_1\n",
    "    \n",
    "\n",
    "   \n",
    "    source_info_2_grade_2_user['source_run_7date_bigrate'] = source_run_7date_bigrate_grade_2\n",
    "    source_info_2_grade_2_user['source_run_7date_midrate'] = source_run_7date_midrate_grade_2\n",
    "    source_info_2_grade_2_user['source_run_7date_minrate'] = source_run_7date_minrate_grade_2\n",
    "    source_info_2_grade_2_user['source_run_7date_comrate'] = source_run_7date_comrate_grade_2\n",
    "    source_info_2_grade_2_user['source_run_7date_rubrate'] = source_run_7date_rubrate_grade_2\n",
    "\n",
    "    \n",
    "    source_info_2_grade_3_user['source_run_7date_bigrate'] = source_run_7date_bigrate_grade_3\n",
    "    source_info_2_grade_3_user['source_run_7date_midrate'] = source_run_7date_midrate_grade_3\n",
    "    source_info_2_grade_3_user['source_run_7date_minrate'] = source_run_7date_minrate_grade_3\n",
    "    source_info_2_grade_3_user['source_run_7date_comrate'] = source_run_7date_comrate_grade_3\n",
    "    source_info_2_grade_3_user['source_run_7date_rubrate'] = source_run_7date_rubrate_grade_3 \n",
    "    \n",
    "    source_info_2_user = pd.concat([source_info_2_grade_1_user,source_info_2_grade_2_user,source_info_2_grade_3_user]).reset_index(drop=True)        \n",
    "            \n",
    "    # 计划成本、ROI维度\n",
    "    source_info_2_grade_1 = pd.DataFrame(columns=['source_cost','standard_run_date','game_id','source_run_date_cost','source_run_date_roi_1',\n",
    "                                                      'source_run_date_roi_2','source_run_date_roi_3','source_run_date_roi_4','source_run_date_roi_5',\n",
    "                                                      'source_run_date_roi_6','source_run_date_roi_7','source_run_date_predict_roi_30'])\n",
    "    source_info_2_grade_2 = pd.DataFrame(columns=['source_cost','standard_run_date','game_id','source_run_date_cost','source_run_date_roi_1',\n",
    "                                                      'source_run_date_roi_2','source_run_date_roi_3','source_run_date_roi_4','source_run_date_roi_5',\n",
    "                                                      'source_run_date_roi_6','source_run_date_roi_7','source_run_date_predict_roi_30'])\n",
    "    source_info_2_grade_3 = pd.DataFrame(columns=['source_cost','standard_run_date','game_id','source_run_date_cost','source_run_date_roi_1',\n",
    "                                                      'source_run_date_roi_2','source_run_date_roi_3','source_run_date_roi_4','source_run_date_roi_5',\n",
    "                                                      'source_run_date_roi_6','source_run_date_roi_7','source_run_date_predict_roi_30'])\n",
    "    for i in range(1,8):\n",
    "        standard_info_duplicates = standard_info[standard_info['role_data_type'] == i].drop_duplicates(['user_id','cp_server_no','cp_role_id'])\n",
    "        # standard_info_duplicates = standard_info_duplicates[standard_info_duplicates['source_amount']!=0]\n",
    "\n",
    "        source_grade_1 = standard_info_duplicates[standard_info_duplicates['source_amount']>=5000]\n",
    "        source_grade_2 = standard_info_duplicates[(standard_info_duplicates['source_amount']<5000)&(standard_info_duplicates['source_amount']>=500)]\n",
    "        source_grade_3 = standard_info_duplicates[standard_info_duplicates['source_amount']<500]\n",
    "        \n",
    "        def dell(df):\n",
    "            groups = df.groupby(['channel_id','source_id'])\n",
    "            temp = groups['pay_sum'].agg([('pay_sum_nd','sum')]).reset_index()\n",
    "            df = pd.merge(df,temp,on=['channel_id','source_id'],how='left',validate='many_to_one')\n",
    "\n",
    "\n",
    "            temp = groups['role_created_30_pay_sum'].agg([('source_30_pay_sum','sum')]).reset_index()\n",
    "            df = pd.merge(df,temp,on=['channel_id','source_id'],how='left',validate='many_to_one')\n",
    "\n",
    "            temp = groups['user_id'].agg([('user_num','count')]).reset_index()\n",
    "            df = pd.merge(df,temp,on=['channel_id','source_id'],how='left',validate='many_to_one')\n",
    "            df = df[['channel_id','source_id','create_role_date','source_amount','game_platform',\n",
    "                                                         'pay_sum_nd','source_30_pay_sum','user_num']].drop_duplicates()\n",
    "            groups = df.groupby(['channel_id','source_id'])\n",
    "            temp = groups['source_amount'].agg([('source_amount_sum','sum')]).reset_index()\n",
    "            df = pd.merge(df,temp,on=['channel_id','source_id'],how='left',validate='many_to_one')\n",
    "            df = df[['channel_id','source_id','source_amount_sum','game_platform',\n",
    "                                                          'pay_sum_nd','source_30_pay_sum','user_num']].drop_duplicates()\n",
    "            return df\n",
    "        source_grade_1 = dell(source_grade_1)\n",
    "        source_grade_2 = dell(source_grade_2)\n",
    "        source_grade_3 = dell(source_grade_3)\n",
    "        \n",
    "        \n",
    "        # grade_1\n",
    "        if len(source_grade_1['game_platform'].unique())!=0:\n",
    "            source_run_date_cost_grade_1 = []\n",
    "            source_run_date_predict_roi_30_grade_1 = []\n",
    "            exec(\"source_run_date_roi_%s_grade_1 = []\"%(i))    \n",
    "            for game_platform in range(1,3):\n",
    "                source_grade_1_game_id = source_grade_1[source_grade_1['game_platform'] == game_platform]\n",
    "                source_run_date_cost_grade_1_game_id = round(source_grade_1_game_id[source_grade_1_game_id['user_num']!=0]['source_amount_sum'].sum()/source_grade_1_game_id[source_grade_1_game_id['user_num']!=0]['user_num'].sum(),2)\n",
    "                source_run_date_cost_grade_1.append(source_run_date_cost_grade_1_game_id)\n",
    "                source_run_date_predict_roi_30_grade_1_game_id = round(source_grade_1_game_id['source_30_pay_sum'].sum()/source_grade_1_game_id['source_amount_sum'].sum(),6)\n",
    "                source_run_date_predict_roi_30_grade_1.append(source_run_date_predict_roi_30_grade_1_game_id)\n",
    "                exec(\"source_run_date_roi_%s_grade_1_game_id = round(source_grade_1_game_id['pay_sum_nd'].sum()/source_grade_1_game_id['source_amount_sum'].sum(),6)\"%(i))\n",
    "                exec(\"source_run_date_roi_%s_grade_1.append(source_run_date_roi_%s_grade_1_game_id)\"%(i,i))\n",
    "            \n",
    "        # grade_2\n",
    "        if len(source_grade_2['game_platform'].unique())!=0:\n",
    "            source_run_date_cost_grade_2 = []\n",
    "            source_run_date_predict_roi_30_grade_2 = []\n",
    "            exec(\"source_run_date_roi_%s_grade_2 = []\"%(i))    \n",
    "            for game_platform in range(1,3):\n",
    "                source_grade_2_game_id = source_grade_2[source_grade_2['game_platform'] == game_platform]\n",
    "                source_run_date_cost_grade_2_game_id = round(source_grade_2_game_id[source_grade_2_game_id['user_num']!=0]['source_amount_sum'].sum()/source_grade_2_game_id[source_grade_2_game_id['user_num']!=0]['user_num'].sum(),2)\n",
    "                source_run_date_cost_grade_2.append(source_run_date_cost_grade_2_game_id)\n",
    "                source_run_date_predict_roi_30_grade_2_game_id = round(source_grade_2_game_id['source_30_pay_sum'].sum()/source_grade_2_game_id['source_amount_sum'].sum(),6)\n",
    "                source_run_date_predict_roi_30_grade_2.append(source_run_date_predict_roi_30_grade_2_game_id)\n",
    "                exec(\"source_run_date_roi_%s_grade_2_game_id = round(source_grade_2_game_id['pay_sum_nd'].sum()/source_grade_2_game_id['source_amount_sum'].sum(),6)\"%(i))\n",
    "                exec(\"source_run_date_roi_%s_grade_2.append(source_run_date_roi_%s_grade_2_game_id)\"%(i,i))\n",
    "            \n",
    "           \n",
    "\n",
    "        # grade_3\n",
    "        if len(source_grade_3['game_platform'].unique())!=0:\n",
    "            source_run_date_cost_grade_3 = []\n",
    "            source_run_date_predict_roi_30_grade_3 = []\n",
    "            exec(\"source_run_date_roi_%s_grade_3 = []\"%(i))    \n",
    "            for game_platform in range(1,3):\n",
    "                source_grade_3_game_id = source_grade_3[source_grade_3['game_platform'] == game_platform]\n",
    "                source_run_date_cost_grade_3_game_id = round(source_grade_3_game_id[source_grade_3_game_id['user_num']!=0]['source_amount_sum'].sum()/source_grade_3_game_id[source_grade_3_game_id['user_num']!=0]['user_num'].sum(),2)\n",
    "                source_run_date_cost_grade_3.append(source_run_date_cost_grade_3_game_id)\n",
    "                source_run_date_predict_roi_30_grade_3_game_id = round(source_grade_3_game_id['source_30_pay_sum'].sum()/source_grade_3_game_id['source_amount_sum'].sum(),6)\n",
    "                source_run_date_predict_roi_30_grade_3.append(source_run_date_predict_roi_30_grade_3_game_id)\n",
    "                exec(\"source_run_date_roi_%s_grade_3_game_id = round(source_grade_3_game_id['pay_sum_nd'].sum()/source_grade_3_game_id['source_amount_sum'].sum(),6)\"%(i))\n",
    "                exec(\"source_run_date_roi_%s_grade_3.append(source_run_date_roi_%s_grade_3_game_id)\"%(i,i))\n",
    "                                           \n",
    "        source_info_2_grade_1['game_platform'] = range(1,3)\n",
    "        source_info_2_grade_1['source_run_date_cost'] = source_run_date_cost_grade_1\n",
    "        exec(\"source_info_2_grade_1['source_run_date_roi_%s'] = source_run_date_roi_%s_grade_1\"%(i,i))\n",
    "        source_info_2_grade_1['source_run_date_predict_roi_30'] = source_run_date_predict_roi_30_grade_1\n",
    "        source_info_2_grade_1['source_cost'] = '>=5000'\n",
    "        source_info_2_grade_1['standard_run_date'] = datetime.date.today()\n",
    "   \n",
    "        source_info_2_grade_2['game_platform'] = range(1,3)\n",
    "        source_info_2_grade_2['source_run_date_cost'] = source_run_date_cost_grade_2\n",
    "        exec(\"source_info_2_grade_2['source_run_date_roi_%s'] = source_run_date_roi_%s_grade_2\"%(i,i))\n",
    "        source_info_2_grade_2['source_run_date_predict_roi_30'] = source_run_date_predict_roi_30_grade_2\n",
    "        source_info_2_grade_2['source_cost'] = '<5000 and >=500'\n",
    "        source_info_2_grade_2['standard_run_date'] = datetime.date.today()\n",
    "\n",
    "        source_info_2_grade_3['game_platform'] = range(1,3)\n",
    "        source_info_2_grade_3['source_run_date_cost'] = source_run_date_cost_grade_3\n",
    "        exec(\"source_info_2_grade_3['source_run_date_roi_%s'] = source_run_date_roi_%s_grade_3\"%(i,i))\n",
    "        source_info_2_grade_3['source_run_date_predict_roi_30'] = source_run_date_predict_roi_30_grade_3\n",
    "        source_info_2_grade_3['source_cost'] = '<500'\n",
    "        source_info_2_grade_3['standard_run_date'] = datetime.date.today()\n",
    "    \n",
    "    source_info_2 = pd.concat([source_info_2_grade_1,source_info_2_grade_2,source_info_2_grade_3]).reset_index(drop=True)\n",
    "    df = pd.concat([source_info_2,source_info_2_user], axis=1)\n",
    "    return df"
   ]
  },
  {
   "cell_type": "code",
   "execution_count": null,
   "metadata": {},
   "outputs": [],
   "source": []
  },
  {
   "cell_type": "code",
   "execution_count": 30,
   "metadata": {},
   "outputs": [
    {
     "data": {
      "text/html": [
       "<div>\n",
       "<style scoped>\n",
       "    .dataframe tbody tr th:only-of-type {\n",
       "        vertical-align: middle;\n",
       "    }\n",
       "\n",
       "    .dataframe tbody tr th {\n",
       "        vertical-align: top;\n",
       "    }\n",
       "\n",
       "    .dataframe thead th {\n",
       "        text-align: right;\n",
       "    }\n",
       "</style>\n",
       "<table border=\"1\" class=\"dataframe\">\n",
       "  <thead>\n",
       "    <tr style=\"text-align: right;\">\n",
       "      <th></th>\n",
       "      <th>user_id</th>\n",
       "      <th>mgame_id</th>\n",
       "      <th>cp_server_no</th>\n",
       "      <th>cp_role_id</th>\n",
       "      <th>role_data_type</th>\n",
       "      <th>role_id</th>\n",
       "      <th>channel_id</th>\n",
       "      <th>source_id</th>\n",
       "      <th>game_id</th>\n",
       "      <th>media_id</th>\n",
       "      <th>create_role_date</th>\n",
       "      <th>create_role_time</th>\n",
       "      <th>role_created_7_login_num</th>\n",
       "      <th>role_created_7_max_role_level</th>\n",
       "      <th>role_created_7_online</th>\n",
       "      <th>pay_sum</th>\n",
       "      <th>role_created_30_pay_sum</th>\n",
       "      <th>source_amount</th>\n",
       "      <th>game_platform</th>\n",
       "    </tr>\n",
       "  </thead>\n",
       "  <tbody>\n",
       "    <tr>\n",
       "      <th>0</th>\n",
       "      <td>114825296</td>\n",
       "      <td>1056</td>\n",
       "      <td>660845</td>\n",
       "      <td>18145498</td>\n",
       "      <td>4</td>\n",
       "      <td>152028601</td>\n",
       "      <td>6770</td>\n",
       "      <td>298742</td>\n",
       "      <td>1001049</td>\n",
       "      <td>16</td>\n",
       "      <td>2020-06-20</td>\n",
       "      <td>2020-06-20 20:36:16</td>\n",
       "      <td>12</td>\n",
       "      <td>44</td>\n",
       "      <td>8800</td>\n",
       "      <td>0.0</td>\n",
       "      <td>0.0</td>\n",
       "      <td>0.0</td>\n",
       "      <td>1</td>\n",
       "    </tr>\n",
       "    <tr>\n",
       "      <th>1</th>\n",
       "      <td>114825296</td>\n",
       "      <td>1056</td>\n",
       "      <td>660845</td>\n",
       "      <td>18145498</td>\n",
       "      <td>7</td>\n",
       "      <td>152028601</td>\n",
       "      <td>6770</td>\n",
       "      <td>298742</td>\n",
       "      <td>1001049</td>\n",
       "      <td>16</td>\n",
       "      <td>2020-06-20</td>\n",
       "      <td>2020-06-20 20:36:16</td>\n",
       "      <td>12</td>\n",
       "      <td>44</td>\n",
       "      <td>8800</td>\n",
       "      <td>0.0</td>\n",
       "      <td>0.0</td>\n",
       "      <td>0.0</td>\n",
       "      <td>1</td>\n",
       "    </tr>\n",
       "    <tr>\n",
       "      <th>2</th>\n",
       "      <td>114825296</td>\n",
       "      <td>1056</td>\n",
       "      <td>660845</td>\n",
       "      <td>18145498</td>\n",
       "      <td>6</td>\n",
       "      <td>152028601</td>\n",
       "      <td>6770</td>\n",
       "      <td>298742</td>\n",
       "      <td>1001049</td>\n",
       "      <td>16</td>\n",
       "      <td>2020-06-20</td>\n",
       "      <td>2020-06-20 20:36:16</td>\n",
       "      <td>12</td>\n",
       "      <td>44</td>\n",
       "      <td>8800</td>\n",
       "      <td>0.0</td>\n",
       "      <td>0.0</td>\n",
       "      <td>0.0</td>\n",
       "      <td>1</td>\n",
       "    </tr>\n",
       "    <tr>\n",
       "      <th>3</th>\n",
       "      <td>115184473</td>\n",
       "      <td>1056</td>\n",
       "      <td>660920</td>\n",
       "      <td>18251048</td>\n",
       "      <td>0</td>\n",
       "      <td>152016127</td>\n",
       "      <td>6770</td>\n",
       "      <td>298742</td>\n",
       "      <td>1001049</td>\n",
       "      <td>16</td>\n",
       "      <td>2020-06-20</td>\n",
       "      <td>2020-06-20 15:54:56</td>\n",
       "      <td>16</td>\n",
       "      <td>43</td>\n",
       "      <td>25189</td>\n",
       "      <td>0.0</td>\n",
       "      <td>0.0</td>\n",
       "      <td>0.0</td>\n",
       "      <td>1</td>\n",
       "    </tr>\n",
       "    <tr>\n",
       "      <th>4</th>\n",
       "      <td>114825296</td>\n",
       "      <td>1056</td>\n",
       "      <td>660845</td>\n",
       "      <td>18145498</td>\n",
       "      <td>1</td>\n",
       "      <td>152028601</td>\n",
       "      <td>6770</td>\n",
       "      <td>298742</td>\n",
       "      <td>1001049</td>\n",
       "      <td>16</td>\n",
       "      <td>2020-06-20</td>\n",
       "      <td>2020-06-20 20:36:16</td>\n",
       "      <td>8</td>\n",
       "      <td>33</td>\n",
       "      <td>6873</td>\n",
       "      <td>0.0</td>\n",
       "      <td>0.0</td>\n",
       "      <td>0.0</td>\n",
       "      <td>1</td>\n",
       "    </tr>\n",
       "  </tbody>\n",
       "</table>\n",
       "</div>"
      ],
      "text/plain": [
       "     user_id  mgame_id cp_server_no cp_role_id  role_data_type    role_id  \\\n",
       "0  114825296      1056       660845   18145498               4  152028601   \n",
       "1  114825296      1056       660845   18145498               7  152028601   \n",
       "2  114825296      1056       660845   18145498               6  152028601   \n",
       "3  115184473      1056       660920   18251048               0  152016127   \n",
       "4  114825296      1056       660845   18145498               1  152028601   \n",
       "\n",
       "   channel_id  source_id  game_id  media_id create_role_date  \\\n",
       "0        6770     298742  1001049        16       2020-06-20   \n",
       "1        6770     298742  1001049        16       2020-06-20   \n",
       "2        6770     298742  1001049        16       2020-06-20   \n",
       "3        6770     298742  1001049        16       2020-06-20   \n",
       "4        6770     298742  1001049        16       2020-06-20   \n",
       "\n",
       "      create_role_time  role_created_7_login_num  \\\n",
       "0  2020-06-20 20:36:16                        12   \n",
       "1  2020-06-20 20:36:16                        12   \n",
       "2  2020-06-20 20:36:16                        12   \n",
       "3  2020-06-20 15:54:56                        16   \n",
       "4  2020-06-20 20:36:16                         8   \n",
       "\n",
       "   role_created_7_max_role_level  role_created_7_online  pay_sum  \\\n",
       "0                             44                   8800      0.0   \n",
       "1                             44                   8800      0.0   \n",
       "2                             44                   8800      0.0   \n",
       "3                             43                  25189      0.0   \n",
       "4                             33                   6873      0.0   \n",
       "\n",
       "   role_created_30_pay_sum  source_amount  game_platform  \n",
       "0                      0.0            0.0              1  \n",
       "1                      0.0            0.0              1  \n",
       "2                      0.0            0.0              1  \n",
       "3                      0.0            0.0              1  \n",
       "4                      0.0            0.0              1  "
      ]
     },
     "execution_count": 30,
     "metadata": {},
     "output_type": "execute_result"
    }
   ],
   "source": [
    "standard_info.head()"
   ]
  },
  {
   "cell_type": "code",
   "execution_count": 113,
   "metadata": {},
   "outputs": [
    {
     "name": "stdout",
     "output_type": "stream",
     "text": [
      "Wall time: 17.7 s\n"
     ]
    }
   ],
   "source": [
    "%%time\n",
    "df = standard_compute(standard_info)"
   ]
  },
  {
   "cell_type": "code",
   "execution_count": 114,
   "metadata": {
    "scrolled": true
   },
   "outputs": [
    {
     "data": {
      "text/html": [
       "<div>\n",
       "<style scoped>\n",
       "    .dataframe tbody tr th:only-of-type {\n",
       "        vertical-align: middle;\n",
       "    }\n",
       "\n",
       "    .dataframe tbody tr th {\n",
       "        vertical-align: top;\n",
       "    }\n",
       "\n",
       "    .dataframe thead th {\n",
       "        text-align: right;\n",
       "    }\n",
       "</style>\n",
       "<table border=\"1\" class=\"dataframe\">\n",
       "  <thead>\n",
       "    <tr style=\"text-align: right;\">\n",
       "      <th></th>\n",
       "      <th>source_cost</th>\n",
       "      <th>standard_run_date</th>\n",
       "      <th>game_id</th>\n",
       "      <th>source_run_date_cost</th>\n",
       "      <th>source_run_date_roi_1</th>\n",
       "      <th>source_run_date_roi_2</th>\n",
       "      <th>source_run_date_roi_3</th>\n",
       "      <th>source_run_date_roi_4</th>\n",
       "      <th>source_run_date_roi_5</th>\n",
       "      <th>source_run_date_roi_6</th>\n",
       "      <th>source_run_date_roi_7</th>\n",
       "      <th>source_run_date_predict_roi_30</th>\n",
       "      <th>game_platform</th>\n",
       "      <th>source_run_7date_bigrate</th>\n",
       "      <th>source_run_7date_midrate</th>\n",
       "      <th>source_run_7date_minrate</th>\n",
       "      <th>source_run_7date_comrate</th>\n",
       "      <th>source_run_7date_rubrate</th>\n",
       "    </tr>\n",
       "  </thead>\n",
       "  <tbody>\n",
       "    <tr>\n",
       "      <th>0</th>\n",
       "      <td>&gt;=5000</td>\n",
       "      <td>2020-08-29</td>\n",
       "      <td>NaN</td>\n",
       "      <td>19.75</td>\n",
       "      <td>0.066037</td>\n",
       "      <td>0.109233</td>\n",
       "      <td>0.143968</td>\n",
       "      <td>0.165771</td>\n",
       "      <td>0.185659</td>\n",
       "      <td>0.206392</td>\n",
       "      <td>0.222593</td>\n",
       "      <td>0.560729</td>\n",
       "      <td>1</td>\n",
       "      <td>0.0008</td>\n",
       "      <td>0.0050</td>\n",
       "      <td>0.0063</td>\n",
       "      <td>0.1853</td>\n",
       "      <td>0.8026</td>\n",
       "    </tr>\n",
       "    <tr>\n",
       "      <th>1</th>\n",
       "      <td>&gt;=5000</td>\n",
       "      <td>2020-08-29</td>\n",
       "      <td>NaN</td>\n",
       "      <td>82.90</td>\n",
       "      <td>0.038840</td>\n",
       "      <td>0.070795</td>\n",
       "      <td>0.092892</td>\n",
       "      <td>0.111733</td>\n",
       "      <td>0.126210</td>\n",
       "      <td>0.145082</td>\n",
       "      <td>0.154908</td>\n",
       "      <td>0.435200</td>\n",
       "      <td>2</td>\n",
       "      <td>0.0027</td>\n",
       "      <td>0.0108</td>\n",
       "      <td>0.0108</td>\n",
       "      <td>0.5701</td>\n",
       "      <td>0.4056</td>\n",
       "    </tr>\n",
       "    <tr>\n",
       "      <th>2</th>\n",
       "      <td>&lt;5000 and &gt;=500</td>\n",
       "      <td>2020-08-29</td>\n",
       "      <td>NaN</td>\n",
       "      <td>21.59</td>\n",
       "      <td>0.037315</td>\n",
       "      <td>0.059658</td>\n",
       "      <td>0.078927</td>\n",
       "      <td>0.094000</td>\n",
       "      <td>0.105605</td>\n",
       "      <td>0.116874</td>\n",
       "      <td>0.127383</td>\n",
       "      <td>0.304036</td>\n",
       "      <td>1</td>\n",
       "      <td>0.0006</td>\n",
       "      <td>0.0041</td>\n",
       "      <td>0.0059</td>\n",
       "      <td>0.2067</td>\n",
       "      <td>0.7827</td>\n",
       "    </tr>\n",
       "    <tr>\n",
       "      <th>3</th>\n",
       "      <td>&lt;5000 and &gt;=500</td>\n",
       "      <td>2020-08-29</td>\n",
       "      <td>NaN</td>\n",
       "      <td>55.11</td>\n",
       "      <td>0.039272</td>\n",
       "      <td>0.063950</td>\n",
       "      <td>0.080071</td>\n",
       "      <td>0.096123</td>\n",
       "      <td>0.108685</td>\n",
       "      <td>0.120426</td>\n",
       "      <td>0.128262</td>\n",
       "      <td>0.325475</td>\n",
       "      <td>2</td>\n",
       "      <td>0.0014</td>\n",
       "      <td>0.0065</td>\n",
       "      <td>0.0067</td>\n",
       "      <td>0.5154</td>\n",
       "      <td>0.4700</td>\n",
       "    </tr>\n",
       "    <tr>\n",
       "      <th>4</th>\n",
       "      <td>&lt;500</td>\n",
       "      <td>2020-08-29</td>\n",
       "      <td>NaN</td>\n",
       "      <td>8.30</td>\n",
       "      <td>0.283611</td>\n",
       "      <td>0.385126</td>\n",
       "      <td>0.493963</td>\n",
       "      <td>0.580518</td>\n",
       "      <td>0.612603</td>\n",
       "      <td>0.659836</td>\n",
       "      <td>0.710978</td>\n",
       "      <td>1.578399</td>\n",
       "      <td>1</td>\n",
       "      <td>0.0008</td>\n",
       "      <td>0.0051</td>\n",
       "      <td>0.0064</td>\n",
       "      <td>0.2706</td>\n",
       "      <td>0.7172</td>\n",
       "    </tr>\n",
       "    <tr>\n",
       "      <th>5</th>\n",
       "      <td>&lt;500</td>\n",
       "      <td>2020-08-29</td>\n",
       "      <td>NaN</td>\n",
       "      <td>7.26</td>\n",
       "      <td>0.509354</td>\n",
       "      <td>0.796508</td>\n",
       "      <td>1.124812</td>\n",
       "      <td>1.295473</td>\n",
       "      <td>1.416140</td>\n",
       "      <td>1.565834</td>\n",
       "      <td>1.721301</td>\n",
       "      <td>4.395218</td>\n",
       "      <td>2</td>\n",
       "      <td>0.0009</td>\n",
       "      <td>0.0061</td>\n",
       "      <td>0.0067</td>\n",
       "      <td>0.4516</td>\n",
       "      <td>0.5347</td>\n",
       "    </tr>\n",
       "  </tbody>\n",
       "</table>\n",
       "</div>"
      ],
      "text/plain": [
       "       source_cost standard_run_date game_id  source_run_date_cost  \\\n",
       "0           >=5000        2020-08-29     NaN                 19.75   \n",
       "1           >=5000        2020-08-29     NaN                 82.90   \n",
       "2  <5000 and >=500        2020-08-29     NaN                 21.59   \n",
       "3  <5000 and >=500        2020-08-29     NaN                 55.11   \n",
       "4             <500        2020-08-29     NaN                  8.30   \n",
       "5             <500        2020-08-29     NaN                  7.26   \n",
       "\n",
       "   source_run_date_roi_1  source_run_date_roi_2  source_run_date_roi_3  \\\n",
       "0               0.066037               0.109233               0.143968   \n",
       "1               0.038840               0.070795               0.092892   \n",
       "2               0.037315               0.059658               0.078927   \n",
       "3               0.039272               0.063950               0.080071   \n",
       "4               0.283611               0.385126               0.493963   \n",
       "5               0.509354               0.796508               1.124812   \n",
       "\n",
       "   source_run_date_roi_4  source_run_date_roi_5  source_run_date_roi_6  \\\n",
       "0               0.165771               0.185659               0.206392   \n",
       "1               0.111733               0.126210               0.145082   \n",
       "2               0.094000               0.105605               0.116874   \n",
       "3               0.096123               0.108685               0.120426   \n",
       "4               0.580518               0.612603               0.659836   \n",
       "5               1.295473               1.416140               1.565834   \n",
       "\n",
       "   source_run_date_roi_7  source_run_date_predict_roi_30  game_platform  \\\n",
       "0               0.222593                        0.560729              1   \n",
       "1               0.154908                        0.435200              2   \n",
       "2               0.127383                        0.304036              1   \n",
       "3               0.128262                        0.325475              2   \n",
       "4               0.710978                        1.578399              1   \n",
       "5               1.721301                        4.395218              2   \n",
       "\n",
       "   source_run_7date_bigrate  source_run_7date_midrate  \\\n",
       "0                    0.0008                    0.0050   \n",
       "1                    0.0027                    0.0108   \n",
       "2                    0.0006                    0.0041   \n",
       "3                    0.0014                    0.0065   \n",
       "4                    0.0008                    0.0051   \n",
       "5                    0.0009                    0.0061   \n",
       "\n",
       "   source_run_7date_minrate  source_run_7date_comrate  \\\n",
       "0                    0.0063                    0.1853   \n",
       "1                    0.0108                    0.5701   \n",
       "2                    0.0059                    0.2067   \n",
       "3                    0.0067                    0.5154   \n",
       "4                    0.0064                    0.2706   \n",
       "5                    0.0067                    0.4516   \n",
       "\n",
       "   source_run_7date_rubrate  \n",
       "0                    0.8026  \n",
       "1                    0.4056  \n",
       "2                    0.7827  \n",
       "3                    0.4700  \n",
       "4                    0.7172  \n",
       "5                    0.5347  "
      ]
     },
     "execution_count": 114,
     "metadata": {},
     "output_type": "execute_result"
    }
   ],
   "source": [
    "df"
   ]
  },
  {
   "cell_type": "code",
   "execution_count": null,
   "metadata": {},
   "outputs": [],
   "source": []
  }
 ],
 "metadata": {
  "kernelspec": {
   "display_name": "Python 3",
   "language": "python",
   "name": "python3"
  },
  "language_info": {
   "codemirror_mode": {
    "name": "ipython",
    "version": 3
   },
   "file_extension": ".py",
   "mimetype": "text/x-python",
   "name": "python",
   "nbconvert_exporter": "python",
   "pygments_lexer": "ipython3",
   "version": "3.7.6"
  }
 },
 "nbformat": 4,
 "nbformat_minor": 4
}
