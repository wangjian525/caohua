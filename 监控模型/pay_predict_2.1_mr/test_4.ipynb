{
 "cells": [
  {
   "cell_type": "code",
   "execution_count": 42,
   "metadata": {},
   "outputs": [],
   "source": [
    "import pandas as pd\n",
    "import numpy as np\n",
    "import warnings\n",
    "import datetime\n",
    "warnings.filterwarnings('ignore')"
   ]
  },
  {
   "cell_type": "code",
   "execution_count": 61,
   "metadata": {},
   "outputs": [],
   "source": [
    "source_predict_1 = pd.read_csv('./source_predict_1.csv')\n",
    "source_predict_2 = pd.read_csv('./source_predict_2.csv')\n",
    "source_predict_3 = pd.read_csv('./source_predict_3.csv')\n",
    "source_predict_7 = pd.read_csv('./source_predict_7.csv')\n",
    "pd.set_option('display.max_columns',None)"
   ]
  },
  {
   "cell_type": "code",
   "execution_count": 62,
   "metadata": {},
   "outputs": [],
   "source": [
    "source_predict_7['source_run_date'] = pd.to_datetime(source_predict_7['source_run_date']).dt.date\n",
    "source_predict_7.drop_duplicates(inplace=True)"
   ]
  },
  {
   "cell_type": "code",
   "execution_count": 63,
   "metadata": {},
   "outputs": [],
   "source": [
    "source_predict_7=source_predict_7[source_predict_7['media_id']==10]"
   ]
  },
  {
   "cell_type": "code",
   "execution_count": 64,
   "metadata": {},
   "outputs": [],
   "source": [
    "df_0 = source_predict_7[source_predict_7['source_model_predict_type'] == 0]"
   ]
  },
  {
   "cell_type": "code",
   "execution_count": 65,
   "metadata": {},
   "outputs": [],
   "source": [
    "df_0.sort_values('source_run_date',inplace=True)"
   ]
  },
  {
   "cell_type": "code",
   "execution_count": 66,
   "metadata": {},
   "outputs": [],
   "source": [
    "df_0_1 = df_0.drop_duplicates(subset=['channel_id','source_id'],keep='first')"
   ]
  },
  {
   "cell_type": "code",
   "execution_count": 67,
   "metadata": {},
   "outputs": [],
   "source": [
    "df_0_1 = df_0_1[['channel_id','source_id','source_run_date']]\n",
    "df_0_1['time_0'] = df_0_1['source_run_date'].astype(np.str).str[-2:].astype(np.int64)\n",
    "df_0_1.drop('source_run_date',axis=1,inplace=True)"
   ]
  },
  {
   "cell_type": "code",
   "execution_count": 294,
   "metadata": {},
   "outputs": [],
   "source": [
    "data = pd.read_csv('./data.csv',index_col=0)"
   ]
  },
  {
   "cell_type": "code",
   "execution_count": null,
   "metadata": {},
   "outputs": [],
   "source": []
  },
  {
   "cell_type": "code",
   "execution_count": 295,
   "metadata": {},
   "outputs": [],
   "source": [
    "data['channel_id'] = data['channel_id'].astype(np.int64)\n",
    "data['source_id'] = data['source_id'].astype(np.int64)"
   ]
  },
  {
   "cell_type": "code",
   "execution_count": 297,
   "metadata": {},
   "outputs": [],
   "source": [
    "data_500= data[(data['time']<=10)&(data['amount']>=500)]"
   ]
  },
  {
   "cell_type": "code",
   "execution_count": 298,
   "metadata": {},
   "outputs": [
    {
     "data": {
      "text/html": [
       "<div>\n",
       "<style scoped>\n",
       "    .dataframe tbody tr th:only-of-type {\n",
       "        vertical-align: middle;\n",
       "    }\n",
       "\n",
       "    .dataframe tbody tr th {\n",
       "        vertical-align: top;\n",
       "    }\n",
       "\n",
       "    .dataframe thead th {\n",
       "        text-align: right;\n",
       "    }\n",
       "</style>\n",
       "<table border=\"1\" class=\"dataframe\">\n",
       "  <thead>\n",
       "    <tr style=\"text-align: right;\">\n",
       "      <th></th>\n",
       "      <th>channel_id</th>\n",
       "      <th>source_id</th>\n",
       "      <th>30ROI</th>\n",
       "      <th>创角30日LTV</th>\n",
       "      <th>创角账号数</th>\n",
       "      <th>amount</th>\n",
       "      <th>time</th>\n",
       "      <th>pay_sum</th>\n",
       "    </tr>\n",
       "  </thead>\n",
       "  <tbody>\n",
       "    <tr>\n",
       "      <th>1</th>\n",
       "      <td>20540</td>\n",
       "      <td>323114</td>\n",
       "      <td>0.0</td>\n",
       "      <td>0.0</td>\n",
       "      <td>0.0</td>\n",
       "      <td>589.49</td>\n",
       "      <td>1</td>\n",
       "      <td>0.0</td>\n",
       "    </tr>\n",
       "    <tr>\n",
       "      <th>2</th>\n",
       "      <td>20540</td>\n",
       "      <td>323113</td>\n",
       "      <td>0.0</td>\n",
       "      <td>0.0</td>\n",
       "      <td>0.0</td>\n",
       "      <td>536.25</td>\n",
       "      <td>1</td>\n",
       "      <td>0.0</td>\n",
       "    </tr>\n",
       "    <tr>\n",
       "      <th>3</th>\n",
       "      <td>20953</td>\n",
       "      <td>323225</td>\n",
       "      <td>0.0</td>\n",
       "      <td>0.0</td>\n",
       "      <td>2.0</td>\n",
       "      <td>1071.33</td>\n",
       "      <td>1</td>\n",
       "      <td>0.0</td>\n",
       "    </tr>\n",
       "    <tr>\n",
       "      <th>4</th>\n",
       "      <td>21116</td>\n",
       "      <td>322970</td>\n",
       "      <td>0.0</td>\n",
       "      <td>0.0</td>\n",
       "      <td>1.0</td>\n",
       "      <td>523.95</td>\n",
       "      <td>1</td>\n",
       "      <td>0.0</td>\n",
       "    </tr>\n",
       "    <tr>\n",
       "      <th>5</th>\n",
       "      <td>20953</td>\n",
       "      <td>323072</td>\n",
       "      <td>0.0</td>\n",
       "      <td>0.0</td>\n",
       "      <td>1.0</td>\n",
       "      <td>500.96</td>\n",
       "      <td>1</td>\n",
       "      <td>0.0</td>\n",
       "    </tr>\n",
       "  </tbody>\n",
       "</table>\n",
       "</div>"
      ],
      "text/plain": [
       "   channel_id  source_id  30ROI  创角30日LTV  创角账号数   amount  time  pay_sum\n",
       "1       20540     323114    0.0       0.0    0.0   589.49     1      0.0\n",
       "2       20540     323113    0.0       0.0    0.0   536.25     1      0.0\n",
       "3       20953     323225    0.0       0.0    2.0  1071.33     1      0.0\n",
       "4       21116     322970    0.0       0.0    1.0   523.95     1      0.0\n",
       "5       20953     323072    0.0       0.0    1.0   500.96     1      0.0"
      ]
     },
     "execution_count": 298,
     "metadata": {},
     "output_type": "execute_result"
    }
   ],
   "source": [
    "data_500.head()"
   ]
  },
  {
   "cell_type": "code",
   "execution_count": 299,
   "metadata": {},
   "outputs": [
    {
     "data": {
      "text/html": [
       "<div>\n",
       "<style scoped>\n",
       "    .dataframe tbody tr th:only-of-type {\n",
       "        vertical-align: middle;\n",
       "    }\n",
       "\n",
       "    .dataframe tbody tr th {\n",
       "        vertical-align: top;\n",
       "    }\n",
       "\n",
       "    .dataframe thead th {\n",
       "        text-align: right;\n",
       "    }\n",
       "</style>\n",
       "<table border=\"1\" class=\"dataframe\">\n",
       "  <thead>\n",
       "    <tr style=\"text-align: right;\">\n",
       "      <th></th>\n",
       "      <th>channel_id</th>\n",
       "      <th>source_id</th>\n",
       "      <th>time_0</th>\n",
       "    </tr>\n",
       "  </thead>\n",
       "  <tbody>\n",
       "    <tr>\n",
       "      <th>1426</th>\n",
       "      <td>20143</td>\n",
       "      <td>321957</td>\n",
       "      <td>1</td>\n",
       "    </tr>\n",
       "    <tr>\n",
       "      <th>5673</th>\n",
       "      <td>20754</td>\n",
       "      <td>322678</td>\n",
       "      <td>1</td>\n",
       "    </tr>\n",
       "    <tr>\n",
       "      <th>5667</th>\n",
       "      <td>20754</td>\n",
       "      <td>322677</td>\n",
       "      <td>1</td>\n",
       "    </tr>\n",
       "    <tr>\n",
       "      <th>9698</th>\n",
       "      <td>21116</td>\n",
       "      <td>322495</td>\n",
       "      <td>1</td>\n",
       "    </tr>\n",
       "    <tr>\n",
       "      <th>1438</th>\n",
       "      <td>20143</td>\n",
       "      <td>321959</td>\n",
       "      <td>1</td>\n",
       "    </tr>\n",
       "  </tbody>\n",
       "</table>\n",
       "</div>"
      ],
      "text/plain": [
       "      channel_id  source_id  time_0\n",
       "1426       20143     321957       1\n",
       "5673       20754     322678       1\n",
       "5667       20754     322677       1\n",
       "9698       21116     322495       1\n",
       "1438       20143     321959       1"
      ]
     },
     "execution_count": 299,
     "metadata": {},
     "output_type": "execute_result"
    }
   ],
   "source": [
    "df_0_1.head()"
   ]
  },
  {
   "cell_type": "code",
   "execution_count": 300,
   "metadata": {},
   "outputs": [
    {
     "data": {
      "text/plain": [
       "(1348, 3)"
      ]
     },
     "execution_count": 300,
     "metadata": {},
     "output_type": "execute_result"
    }
   ],
   "source": [
    "df_0_1.shape"
   ]
  },
  {
   "cell_type": "code",
   "execution_count": 302,
   "metadata": {},
   "outputs": [
    {
     "data": {
      "text/plain": [
       "(1584, 8)"
      ]
     },
     "execution_count": 302,
     "metadata": {},
     "output_type": "execute_result"
    }
   ],
   "source": [
    "data_500.shape"
   ]
  },
  {
   "cell_type": "code",
   "execution_count": 303,
   "metadata": {},
   "outputs": [],
   "source": [
    "data_merge = pd.merge(data_500,df_0_1,on=['channel_id','source_id'],how='left',validate='many_to_one')"
   ]
  },
  {
   "cell_type": "code",
   "execution_count": 304,
   "metadata": {},
   "outputs": [
    {
     "data": {
      "text/plain": [
       "(1584, 9)"
      ]
     },
     "execution_count": 304,
     "metadata": {},
     "output_type": "execute_result"
    }
   ],
   "source": [
    "data_merge.shape"
   ]
  },
  {
   "cell_type": "code",
   "execution_count": 305,
   "metadata": {},
   "outputs": [
    {
     "data": {
      "text/html": [
       "<div>\n",
       "<style scoped>\n",
       "    .dataframe tbody tr th:only-of-type {\n",
       "        vertical-align: middle;\n",
       "    }\n",
       "\n",
       "    .dataframe tbody tr th {\n",
       "        vertical-align: top;\n",
       "    }\n",
       "\n",
       "    .dataframe thead th {\n",
       "        text-align: right;\n",
       "    }\n",
       "</style>\n",
       "<table border=\"1\" class=\"dataframe\">\n",
       "  <thead>\n",
       "    <tr style=\"text-align: right;\">\n",
       "      <th></th>\n",
       "      <th>channel_id</th>\n",
       "      <th>source_id</th>\n",
       "      <th>30ROI</th>\n",
       "      <th>创角30日LTV</th>\n",
       "      <th>创角账号数</th>\n",
       "      <th>amount</th>\n",
       "      <th>time</th>\n",
       "      <th>pay_sum</th>\n",
       "      <th>time_0</th>\n",
       "    </tr>\n",
       "  </thead>\n",
       "  <tbody>\n",
       "    <tr>\n",
       "      <th>0</th>\n",
       "      <td>20540</td>\n",
       "      <td>323114</td>\n",
       "      <td>0.0</td>\n",
       "      <td>0.0</td>\n",
       "      <td>0.0</td>\n",
       "      <td>589.49</td>\n",
       "      <td>1</td>\n",
       "      <td>0.0</td>\n",
       "      <td>2.0</td>\n",
       "    </tr>\n",
       "    <tr>\n",
       "      <th>1</th>\n",
       "      <td>20540</td>\n",
       "      <td>323113</td>\n",
       "      <td>0.0</td>\n",
       "      <td>0.0</td>\n",
       "      <td>0.0</td>\n",
       "      <td>536.25</td>\n",
       "      <td>1</td>\n",
       "      <td>0.0</td>\n",
       "      <td>2.0</td>\n",
       "    </tr>\n",
       "    <tr>\n",
       "      <th>2</th>\n",
       "      <td>20953</td>\n",
       "      <td>323225</td>\n",
       "      <td>0.0</td>\n",
       "      <td>0.0</td>\n",
       "      <td>2.0</td>\n",
       "      <td>1071.33</td>\n",
       "      <td>1</td>\n",
       "      <td>0.0</td>\n",
       "      <td>1.0</td>\n",
       "    </tr>\n",
       "    <tr>\n",
       "      <th>3</th>\n",
       "      <td>21116</td>\n",
       "      <td>322970</td>\n",
       "      <td>0.0</td>\n",
       "      <td>0.0</td>\n",
       "      <td>1.0</td>\n",
       "      <td>523.95</td>\n",
       "      <td>1</td>\n",
       "      <td>0.0</td>\n",
       "      <td>2.0</td>\n",
       "    </tr>\n",
       "    <tr>\n",
       "      <th>4</th>\n",
       "      <td>20953</td>\n",
       "      <td>323072</td>\n",
       "      <td>0.0</td>\n",
       "      <td>0.0</td>\n",
       "      <td>1.0</td>\n",
       "      <td>500.96</td>\n",
       "      <td>1</td>\n",
       "      <td>0.0</td>\n",
       "      <td>1.0</td>\n",
       "    </tr>\n",
       "  </tbody>\n",
       "</table>\n",
       "</div>"
      ],
      "text/plain": [
       "   channel_id  source_id  30ROI  创角30日LTV  创角账号数   amount  time  pay_sum  \\\n",
       "0       20540     323114    0.0       0.0    0.0   589.49     1      0.0   \n",
       "1       20540     323113    0.0       0.0    0.0   536.25     1      0.0   \n",
       "2       20953     323225    0.0       0.0    2.0  1071.33     1      0.0   \n",
       "3       21116     322970    0.0       0.0    1.0   523.95     1      0.0   \n",
       "4       20953     323072    0.0       0.0    1.0   500.96     1      0.0   \n",
       "\n",
       "   time_0  \n",
       "0     2.0  \n",
       "1     2.0  \n",
       "2     1.0  \n",
       "3     2.0  \n",
       "4     1.0  "
      ]
     },
     "execution_count": 305,
     "metadata": {},
     "output_type": "execute_result"
    }
   ],
   "source": [
    "data_merge.head()"
   ]
  },
  {
   "cell_type": "code",
   "execution_count": 306,
   "metadata": {},
   "outputs": [
    {
     "data": {
      "text/plain": [
       "channel_id     0\n",
       "source_id      0\n",
       "30ROI          0\n",
       "创角30日LTV       0\n",
       "创角账号数          0\n",
       "amount         0\n",
       "time           0\n",
       "pay_sum        0\n",
       "time_0        96\n",
       "dtype: int64"
      ]
     },
     "execution_count": 306,
     "metadata": {},
     "output_type": "execute_result"
    }
   ],
   "source": [
    "data_merge.isna().sum()"
   ]
  },
  {
   "cell_type": "code",
   "execution_count": 307,
   "metadata": {},
   "outputs": [
    {
     "data": {
      "text/html": [
       "<div>\n",
       "<style scoped>\n",
       "    .dataframe tbody tr th:only-of-type {\n",
       "        vertical-align: middle;\n",
       "    }\n",
       "\n",
       "    .dataframe tbody tr th {\n",
       "        vertical-align: top;\n",
       "    }\n",
       "\n",
       "    .dataframe thead th {\n",
       "        text-align: right;\n",
       "    }\n",
       "</style>\n",
       "<table border=\"1\" class=\"dataframe\">\n",
       "  <thead>\n",
       "    <tr style=\"text-align: right;\">\n",
       "      <th></th>\n",
       "      <th>channel_id</th>\n",
       "      <th>source_id</th>\n",
       "      <th>30ROI</th>\n",
       "      <th>创角30日LTV</th>\n",
       "      <th>创角账号数</th>\n",
       "      <th>amount</th>\n",
       "      <th>time</th>\n",
       "      <th>pay_sum</th>\n",
       "      <th>time_0</th>\n",
       "    </tr>\n",
       "  </thead>\n",
       "  <tbody>\n",
       "    <tr>\n",
       "      <th>0</th>\n",
       "      <td>20540</td>\n",
       "      <td>323114</td>\n",
       "      <td>0.0</td>\n",
       "      <td>0.0</td>\n",
       "      <td>0.0</td>\n",
       "      <td>589.49</td>\n",
       "      <td>1</td>\n",
       "      <td>0.0</td>\n",
       "      <td>2.0</td>\n",
       "    </tr>\n",
       "    <tr>\n",
       "      <th>1</th>\n",
       "      <td>20540</td>\n",
       "      <td>323113</td>\n",
       "      <td>0.0</td>\n",
       "      <td>0.0</td>\n",
       "      <td>0.0</td>\n",
       "      <td>536.25</td>\n",
       "      <td>1</td>\n",
       "      <td>0.0</td>\n",
       "      <td>2.0</td>\n",
       "    </tr>\n",
       "    <tr>\n",
       "      <th>2</th>\n",
       "      <td>20953</td>\n",
       "      <td>323225</td>\n",
       "      <td>0.0</td>\n",
       "      <td>0.0</td>\n",
       "      <td>2.0</td>\n",
       "      <td>1071.33</td>\n",
       "      <td>1</td>\n",
       "      <td>0.0</td>\n",
       "      <td>1.0</td>\n",
       "    </tr>\n",
       "    <tr>\n",
       "      <th>3</th>\n",
       "      <td>21116</td>\n",
       "      <td>322970</td>\n",
       "      <td>0.0</td>\n",
       "      <td>0.0</td>\n",
       "      <td>1.0</td>\n",
       "      <td>523.95</td>\n",
       "      <td>1</td>\n",
       "      <td>0.0</td>\n",
       "      <td>2.0</td>\n",
       "    </tr>\n",
       "    <tr>\n",
       "      <th>4</th>\n",
       "      <td>20953</td>\n",
       "      <td>323072</td>\n",
       "      <td>0.0</td>\n",
       "      <td>0.0</td>\n",
       "      <td>1.0</td>\n",
       "      <td>500.96</td>\n",
       "      <td>1</td>\n",
       "      <td>0.0</td>\n",
       "      <td>1.0</td>\n",
       "    </tr>\n",
       "  </tbody>\n",
       "</table>\n",
       "</div>"
      ],
      "text/plain": [
       "   channel_id  source_id  30ROI  创角30日LTV  创角账号数   amount  time  pay_sum  \\\n",
       "0       20540     323114    0.0       0.0    0.0   589.49     1      0.0   \n",
       "1       20540     323113    0.0       0.0    0.0   536.25     1      0.0   \n",
       "2       20953     323225    0.0       0.0    2.0  1071.33     1      0.0   \n",
       "3       21116     322970    0.0       0.0    1.0   523.95     1      0.0   \n",
       "4       20953     323072    0.0       0.0    1.0   500.96     1      0.0   \n",
       "\n",
       "   time_0  \n",
       "0     2.0  \n",
       "1     2.0  \n",
       "2     1.0  \n",
       "3     2.0  \n",
       "4     1.0  "
      ]
     },
     "execution_count": 307,
     "metadata": {},
     "output_type": "execute_result"
    }
   ],
   "source": [
    "data_merge.head()"
   ]
  },
  {
   "cell_type": "code",
   "execution_count": 308,
   "metadata": {},
   "outputs": [],
   "source": [
    "data_merge.dropna(how='any',inplace=True)\n",
    "data_merge['time_0'] = data_merge['time_0'].astype(np.int64)"
   ]
  },
  {
   "cell_type": "code",
   "execution_count": 309,
   "metadata": {},
   "outputs": [],
   "source": [
    "data_merge['istrue'] = (data_merge['time']>=data_merge['time_0'])"
   ]
  },
  {
   "cell_type": "code",
   "execution_count": 310,
   "metadata": {},
   "outputs": [],
   "source": [
    "data_merge_true=data_merge[data_merge['istrue']==1]"
   ]
  },
  {
   "cell_type": "code",
   "execution_count": 311,
   "metadata": {},
   "outputs": [
    {
     "data": {
      "text/plain": [
       "(1085, 10)"
      ]
     },
     "execution_count": 311,
     "metadata": {},
     "output_type": "execute_result"
    }
   ],
   "source": [
    "data_merge_true.shape"
   ]
  },
  {
   "cell_type": "code",
   "execution_count": 312,
   "metadata": {},
   "outputs": [
    {
     "data": {
      "text/html": [
       "<div>\n",
       "<style scoped>\n",
       "    .dataframe tbody tr th:only-of-type {\n",
       "        vertical-align: middle;\n",
       "    }\n",
       "\n",
       "    .dataframe tbody tr th {\n",
       "        vertical-align: top;\n",
       "    }\n",
       "\n",
       "    .dataframe thead th {\n",
       "        text-align: right;\n",
       "    }\n",
       "</style>\n",
       "<table border=\"1\" class=\"dataframe\">\n",
       "  <thead>\n",
       "    <tr style=\"text-align: right;\">\n",
       "      <th></th>\n",
       "      <th>channel_id</th>\n",
       "      <th>source_id</th>\n",
       "      <th>30ROI</th>\n",
       "      <th>创角30日LTV</th>\n",
       "      <th>创角账号数</th>\n",
       "      <th>amount</th>\n",
       "      <th>time</th>\n",
       "      <th>pay_sum</th>\n",
       "      <th>time_0</th>\n",
       "      <th>istrue</th>\n",
       "    </tr>\n",
       "  </thead>\n",
       "  <tbody>\n",
       "    <tr>\n",
       "      <th>2</th>\n",
       "      <td>20953</td>\n",
       "      <td>323225</td>\n",
       "      <td>0.0</td>\n",
       "      <td>0.0</td>\n",
       "      <td>2.0</td>\n",
       "      <td>1071.33</td>\n",
       "      <td>1</td>\n",
       "      <td>0.0</td>\n",
       "      <td>1</td>\n",
       "      <td>True</td>\n",
       "    </tr>\n",
       "    <tr>\n",
       "      <th>4</th>\n",
       "      <td>20953</td>\n",
       "      <td>323072</td>\n",
       "      <td>0.0</td>\n",
       "      <td>0.0</td>\n",
       "      <td>1.0</td>\n",
       "      <td>500.96</td>\n",
       "      <td>1</td>\n",
       "      <td>0.0</td>\n",
       "      <td>1</td>\n",
       "      <td>True</td>\n",
       "    </tr>\n",
       "    <tr>\n",
       "      <th>5</th>\n",
       "      <td>20540</td>\n",
       "      <td>323110</td>\n",
       "      <td>0.0</td>\n",
       "      <td>0.0</td>\n",
       "      <td>2.0</td>\n",
       "      <td>704.30</td>\n",
       "      <td>1</td>\n",
       "      <td>0.0</td>\n",
       "      <td>1</td>\n",
       "      <td>True</td>\n",
       "    </tr>\n",
       "    <tr>\n",
       "      <th>6</th>\n",
       "      <td>20540</td>\n",
       "      <td>323111</td>\n",
       "      <td>0.0</td>\n",
       "      <td>0.0</td>\n",
       "      <td>1.0</td>\n",
       "      <td>627.43</td>\n",
       "      <td>1</td>\n",
       "      <td>0.0</td>\n",
       "      <td>1</td>\n",
       "      <td>True</td>\n",
       "    </tr>\n",
       "    <tr>\n",
       "      <th>8</th>\n",
       "      <td>21117</td>\n",
       "      <td>323205</td>\n",
       "      <td>0.0</td>\n",
       "      <td>0.0</td>\n",
       "      <td>5.0</td>\n",
       "      <td>1838.10</td>\n",
       "      <td>1</td>\n",
       "      <td>0.0</td>\n",
       "      <td>1</td>\n",
       "      <td>True</td>\n",
       "    </tr>\n",
       "  </tbody>\n",
       "</table>\n",
       "</div>"
      ],
      "text/plain": [
       "   channel_id  source_id  30ROI  创角30日LTV  创角账号数   amount  time  pay_sum  \\\n",
       "2       20953     323225    0.0       0.0    2.0  1071.33     1      0.0   \n",
       "4       20953     323072    0.0       0.0    1.0   500.96     1      0.0   \n",
       "5       20540     323110    0.0       0.0    2.0   704.30     1      0.0   \n",
       "6       20540     323111    0.0       0.0    1.0   627.43     1      0.0   \n",
       "8       21117     323205    0.0       0.0    5.0  1838.10     1      0.0   \n",
       "\n",
       "   time_0  istrue  \n",
       "2       1    True  \n",
       "4       1    True  \n",
       "5       1    True  \n",
       "6       1    True  \n",
       "8       1    True  "
      ]
     },
     "execution_count": 312,
     "metadata": {},
     "output_type": "execute_result"
    }
   ],
   "source": [
    "data_merge_true.head()"
   ]
  },
  {
   "cell_type": "code",
   "execution_count": 313,
   "metadata": {},
   "outputs": [
    {
     "data": {
      "text/plain": [
       "1085"
      ]
     },
     "execution_count": 313,
     "metadata": {},
     "output_type": "execute_result"
    }
   ],
   "source": [
    "groups = data_merge_true.groupby(['channel_id','source_id','time'])\n",
    "groups.ngroups"
   ]
  },
  {
   "cell_type": "code",
   "execution_count": 314,
   "metadata": {},
   "outputs": [
    {
     "data": {
      "text/plain": [
       "0.49539707159011426"
      ]
     },
     "execution_count": 314,
     "metadata": {},
     "output_type": "execute_result"
    }
   ],
   "source": [
    "data_merge_true['pay_sum'].sum()/data_merge_true['amount'].sum()"
   ]
  },
  {
   "cell_type": "code",
   "execution_count": 315,
   "metadata": {},
   "outputs": [
    {
     "data": {
      "text/plain": [
       "1290752.002116"
      ]
     },
     "execution_count": 315,
     "metadata": {},
     "output_type": "execute_result"
    }
   ],
   "source": [
    "data_merge_true['pay_sum'].sum()"
   ]
  },
  {
   "cell_type": "code",
   "execution_count": 316,
   "metadata": {},
   "outputs": [
    {
     "data": {
      "text/plain": [
       "2605489.7699999996"
      ]
     },
     "execution_count": 316,
     "metadata": {},
     "output_type": "execute_result"
    }
   ],
   "source": [
    "data_merge_true['amount'].sum()"
   ]
  },
  {
   "cell_type": "code",
   "execution_count": 318,
   "metadata": {},
   "outputs": [
    {
     "data": {
      "text/plain": [
       "0.4408462689216105"
      ]
     },
     "execution_count": 318,
     "metadata": {},
     "output_type": "execute_result"
    }
   ],
   "source": [
    "data_500['pay_sum'].sum()/data_500['amount'].sum()"
   ]
  },
  {
   "cell_type": "code",
   "execution_count": 268,
   "metadata": {},
   "outputs": [
    {
     "data": {
      "text/plain": [
       "3668376.29"
      ]
     },
     "execution_count": 268,
     "metadata": {},
     "output_type": "execute_result"
    }
   ],
   "source": [
    "data['amount'].sum()"
   ]
  },
  {
   "cell_type": "code",
   "execution_count": null,
   "metadata": {},
   "outputs": [],
   "source": []
  },
  {
   "cell_type": "code",
   "execution_count": 319,
   "metadata": {},
   "outputs": [
    {
     "data": {
      "text/plain": [
       "12662123.25"
      ]
     },
     "execution_count": 319,
     "metadata": {},
     "output_type": "execute_result"
    }
   ],
   "source": [
    "data['amount'].sum()-data_merge_true['amount'].sum()"
   ]
  },
  {
   "cell_type": "code",
   "execution_count": 320,
   "metadata": {},
   "outputs": [
    {
     "data": {
      "text/plain": [
       "4200155.995463"
      ]
     },
     "execution_count": 320,
     "metadata": {},
     "output_type": "execute_result"
    }
   ],
   "source": [
    "data['pay_sum'].sum()-data_merge_true['pay_sum'].sum()"
   ]
  },
  {
   "cell_type": "code",
   "execution_count": 321,
   "metadata": {},
   "outputs": [
    {
     "data": {
      "text/plain": [
       "0.33171024420908235"
      ]
     },
     "execution_count": 321,
     "metadata": {},
     "output_type": "execute_result"
    }
   ],
   "source": [
    "(data['pay_sum'].sum()-data_merge_true['pay_sum'].sum())/(data['amount'].sum()-data_merge_true['amount'].sum())"
   ]
  },
  {
   "cell_type": "code",
   "execution_count": null,
   "metadata": {},
   "outputs": [],
   "source": []
  },
  {
   "cell_type": "code",
   "execution_count": null,
   "metadata": {},
   "outputs": [],
   "source": []
  },
  {
   "cell_type": "code",
   "execution_count": 203,
   "metadata": {},
   "outputs": [],
   "source": [
    "data_merge.sort_values(['source_id','time'],inplace=True)"
   ]
  },
  {
   "cell_type": "code",
   "execution_count": 209,
   "metadata": {},
   "outputs": [
    {
     "data": {
      "text/html": [
       "<div>\n",
       "<style scoped>\n",
       "    .dataframe tbody tr th:only-of-type {\n",
       "        vertical-align: middle;\n",
       "    }\n",
       "\n",
       "    .dataframe tbody tr th {\n",
       "        vertical-align: top;\n",
       "    }\n",
       "\n",
       "    .dataframe thead th {\n",
       "        text-align: right;\n",
       "    }\n",
       "</style>\n",
       "<table border=\"1\" class=\"dataframe\">\n",
       "  <thead>\n",
       "    <tr style=\"text-align: right;\">\n",
       "      <th></th>\n",
       "      <th>channel_id</th>\n",
       "      <th>source_id</th>\n",
       "      <th>30ROI</th>\n",
       "      <th>创角30日LTV</th>\n",
       "      <th>创角账号数</th>\n",
       "      <th>amount</th>\n",
       "      <th>time</th>\n",
       "      <th>pay_sum</th>\n",
       "      <th>time_0</th>\n",
       "      <th>istrue</th>\n",
       "    </tr>\n",
       "  </thead>\n",
       "  <tbody>\n",
       "    <tr>\n",
       "      <th>120</th>\n",
       "      <td>20755</td>\n",
       "      <td>322389</td>\n",
       "      <td>18.146644</td>\n",
       "      <td>221.840173</td>\n",
       "      <td>463.0</td>\n",
       "      <td>5660.11</td>\n",
       "      <td>1</td>\n",
       "      <td>102712.000099</td>\n",
       "      <td>1</td>\n",
       "      <td>True</td>\n",
       "    </tr>\n",
       "    <tr>\n",
       "      <th>1566</th>\n",
       "      <td>20754</td>\n",
       "      <td>322678</td>\n",
       "      <td>4.639232</td>\n",
       "      <td>37.678032</td>\n",
       "      <td>2317.0</td>\n",
       "      <td>18817.77</td>\n",
       "      <td>10</td>\n",
       "      <td>87300.000144</td>\n",
       "      <td>1</td>\n",
       "      <td>True</td>\n",
       "    </tr>\n",
       "    <tr>\n",
       "      <th>461</th>\n",
       "      <td>20754</td>\n",
       "      <td>321941</td>\n",
       "      <td>2.544016</td>\n",
       "      <td>18.543295</td>\n",
       "      <td>3788.0</td>\n",
       "      <td>27610.68</td>\n",
       "      <td>3</td>\n",
       "      <td>70242.001460</td>\n",
       "      <td>1</td>\n",
       "      <td>True</td>\n",
       "    </tr>\n",
       "    <tr>\n",
       "      <th>299</th>\n",
       "      <td>20754</td>\n",
       "      <td>322312</td>\n",
       "      <td>3.387376</td>\n",
       "      <td>40.237113</td>\n",
       "      <td>1552.0</td>\n",
       "      <td>18435.51</td>\n",
       "      <td>2</td>\n",
       "      <td>62447.999376</td>\n",
       "      <td>1</td>\n",
       "      <td>True</td>\n",
       "    </tr>\n",
       "    <tr>\n",
       "      <th>1308</th>\n",
       "      <td>20755</td>\n",
       "      <td>324504</td>\n",
       "      <td>12.454156</td>\n",
       "      <td>454.644628</td>\n",
       "      <td>121.0</td>\n",
       "      <td>4417.16</td>\n",
       "      <td>9</td>\n",
       "      <td>55011.999988</td>\n",
       "      <td>5</td>\n",
       "      <td>True</td>\n",
       "    </tr>\n",
       "    <tr>\n",
       "      <th>414</th>\n",
       "      <td>21116</td>\n",
       "      <td>322699</td>\n",
       "      <td>20.845508</td>\n",
       "      <td>408.895522</td>\n",
       "      <td>134.0</td>\n",
       "      <td>2628.48</td>\n",
       "      <td>3</td>\n",
       "      <td>54791.999948</td>\n",
       "      <td>3</td>\n",
       "      <td>True</td>\n",
       "    </tr>\n",
       "    <tr>\n",
       "      <th>758</th>\n",
       "      <td>20754</td>\n",
       "      <td>324409</td>\n",
       "      <td>4.499833</td>\n",
       "      <td>66.978947</td>\n",
       "      <td>760.0</td>\n",
       "      <td>11312.42</td>\n",
       "      <td>5</td>\n",
       "      <td>50903.999720</td>\n",
       "      <td>3</td>\n",
       "      <td>True</td>\n",
       "    </tr>\n",
       "    <tr>\n",
       "      <th>1045</th>\n",
       "      <td>21116</td>\n",
       "      <td>323734</td>\n",
       "      <td>6.962956</td>\n",
       "      <td>132.157303</td>\n",
       "      <td>356.0</td>\n",
       "      <td>6756.90</td>\n",
       "      <td>7</td>\n",
       "      <td>47047.999868</td>\n",
       "      <td>2</td>\n",
       "      <td>True</td>\n",
       "    </tr>\n",
       "    <tr>\n",
       "      <th>1191</th>\n",
       "      <td>20754</td>\n",
       "      <td>322678</td>\n",
       "      <td>8.122146</td>\n",
       "      <td>75.269155</td>\n",
       "      <td>509.0</td>\n",
       "      <td>4716.98</td>\n",
       "      <td>8</td>\n",
       "      <td>38311.999895</td>\n",
       "      <td>1</td>\n",
       "      <td>True</td>\n",
       "    </tr>\n",
       "    <tr>\n",
       "      <th>542</th>\n",
       "      <td>21117</td>\n",
       "      <td>322743</td>\n",
       "      <td>15.508201</td>\n",
       "      <td>651.843137</td>\n",
       "      <td>51.0</td>\n",
       "      <td>2143.64</td>\n",
       "      <td>4</td>\n",
       "      <td>33243.999987</td>\n",
       "      <td>2</td>\n",
       "      <td>True</td>\n",
       "    </tr>\n",
       "    <tr>\n",
       "      <th>152</th>\n",
       "      <td>20646</td>\n",
       "      <td>322830</td>\n",
       "      <td>38.471290</td>\n",
       "      <td>8194.000000</td>\n",
       "      <td>4.0</td>\n",
       "      <td>851.96</td>\n",
       "      <td>2</td>\n",
       "      <td>32776.000000</td>\n",
       "      <td>1</td>\n",
       "      <td>True</td>\n",
       "    </tr>\n",
       "    <tr>\n",
       "      <th>1036</th>\n",
       "      <td>21116</td>\n",
       "      <td>322468</td>\n",
       "      <td>1.889397</td>\n",
       "      <td>49.637500</td>\n",
       "      <td>640.0</td>\n",
       "      <td>16813.83</td>\n",
       "      <td>7</td>\n",
       "      <td>31768.000000</td>\n",
       "      <td>1</td>\n",
       "      <td>True</td>\n",
       "    </tr>\n",
       "    <tr>\n",
       "      <th>394</th>\n",
       "      <td>20754</td>\n",
       "      <td>319109</td>\n",
       "      <td>2.081558</td>\n",
       "      <td>82.974648</td>\n",
       "      <td>355.0</td>\n",
       "      <td>14150.94</td>\n",
       "      <td>3</td>\n",
       "      <td>29456.000040</td>\n",
       "      <td>1</td>\n",
       "      <td>True</td>\n",
       "    </tr>\n",
       "    <tr>\n",
       "      <th>1256</th>\n",
       "      <td>20144</td>\n",
       "      <td>324907</td>\n",
       "      <td>6.151917</td>\n",
       "      <td>503.191489</td>\n",
       "      <td>47.0</td>\n",
       "      <td>3844.33</td>\n",
       "      <td>9</td>\n",
       "      <td>23649.999983</td>\n",
       "      <td>5</td>\n",
       "      <td>True</td>\n",
       "    </tr>\n",
       "    <tr>\n",
       "      <th>202</th>\n",
       "      <td>21116</td>\n",
       "      <td>322695</td>\n",
       "      <td>5.046256</td>\n",
       "      <td>392.250000</td>\n",
       "      <td>56.0</td>\n",
       "      <td>4352.93</td>\n",
       "      <td>2</td>\n",
       "      <td>21966.000000</td>\n",
       "      <td>2</td>\n",
       "      <td>True</td>\n",
       "    </tr>\n",
       "    <tr>\n",
       "      <th>115</th>\n",
       "      <td>21087</td>\n",
       "      <td>322892</td>\n",
       "      <td>13.375200</td>\n",
       "      <td>184.706897</td>\n",
       "      <td>116.0</td>\n",
       "      <td>1601.92</td>\n",
       "      <td>1</td>\n",
       "      <td>21426.000052</td>\n",
       "      <td>1</td>\n",
       "      <td>True</td>\n",
       "    </tr>\n",
       "    <tr>\n",
       "      <th>365</th>\n",
       "      <td>20953</td>\n",
       "      <td>322975</td>\n",
       "      <td>3.927737</td>\n",
       "      <td>308.892308</td>\n",
       "      <td>65.0</td>\n",
       "      <td>5111.85</td>\n",
       "      <td>3</td>\n",
       "      <td>20078.000020</td>\n",
       "      <td>3</td>\n",
       "      <td>True</td>\n",
       "    </tr>\n",
       "    <tr>\n",
       "      <th>896</th>\n",
       "      <td>20755</td>\n",
       "      <td>322389</td>\n",
       "      <td>1.405560</td>\n",
       "      <td>40.674847</td>\n",
       "      <td>489.0</td>\n",
       "      <td>14150.94</td>\n",
       "      <td>6</td>\n",
       "      <td>19890.000183</td>\n",
       "      <td>1</td>\n",
       "      <td>True</td>\n",
       "    </tr>\n",
       "    <tr>\n",
       "      <th>654</th>\n",
       "      <td>20954</td>\n",
       "      <td>324403</td>\n",
       "      <td>2.705452</td>\n",
       "      <td>521.555556</td>\n",
       "      <td>36.0</td>\n",
       "      <td>6940.06</td>\n",
       "      <td>5</td>\n",
       "      <td>18776.000016</td>\n",
       "      <td>9</td>\n",
       "      <td>False</td>\n",
       "    </tr>\n",
       "    <tr>\n",
       "      <th>305</th>\n",
       "      <td>20540</td>\n",
       "      <td>322365</td>\n",
       "      <td>4.173021</td>\n",
       "      <td>43.768817</td>\n",
       "      <td>372.0</td>\n",
       "      <td>3901.73</td>\n",
       "      <td>2</td>\n",
       "      <td>16281.999924</td>\n",
       "      <td>2</td>\n",
       "      <td>True</td>\n",
       "    </tr>\n",
       "  </tbody>\n",
       "</table>\n",
       "</div>"
      ],
      "text/plain": [
       "      channel_id  source_id      30ROI     创角30日LTV   创角账号数    amount  time  \\\n",
       "120        20755     322389  18.146644   221.840173   463.0   5660.11     1   \n",
       "1566       20754     322678   4.639232    37.678032  2317.0  18817.77    10   \n",
       "461        20754     321941   2.544016    18.543295  3788.0  27610.68     3   \n",
       "299        20754     322312   3.387376    40.237113  1552.0  18435.51     2   \n",
       "1308       20755     324504  12.454156   454.644628   121.0   4417.16     9   \n",
       "414        21116     322699  20.845508   408.895522   134.0   2628.48     3   \n",
       "758        20754     324409   4.499833    66.978947   760.0  11312.42     5   \n",
       "1045       21116     323734   6.962956   132.157303   356.0   6756.90     7   \n",
       "1191       20754     322678   8.122146    75.269155   509.0   4716.98     8   \n",
       "542        21117     322743  15.508201   651.843137    51.0   2143.64     4   \n",
       "152        20646     322830  38.471290  8194.000000     4.0    851.96     2   \n",
       "1036       21116     322468   1.889397    49.637500   640.0  16813.83     7   \n",
       "394        20754     319109   2.081558    82.974648   355.0  14150.94     3   \n",
       "1256       20144     324907   6.151917   503.191489    47.0   3844.33     9   \n",
       "202        21116     322695   5.046256   392.250000    56.0   4352.93     2   \n",
       "115        21087     322892  13.375200   184.706897   116.0   1601.92     1   \n",
       "365        20953     322975   3.927737   308.892308    65.0   5111.85     3   \n",
       "896        20755     322389   1.405560    40.674847   489.0  14150.94     6   \n",
       "654        20954     324403   2.705452   521.555556    36.0   6940.06     5   \n",
       "305        20540     322365   4.173021    43.768817   372.0   3901.73     2   \n",
       "\n",
       "            pay_sum  time_0  istrue  \n",
       "120   102712.000099       1    True  \n",
       "1566   87300.000144       1    True  \n",
       "461    70242.001460       1    True  \n",
       "299    62447.999376       1    True  \n",
       "1308   55011.999988       5    True  \n",
       "414    54791.999948       3    True  \n",
       "758    50903.999720       3    True  \n",
       "1045   47047.999868       2    True  \n",
       "1191   38311.999895       1    True  \n",
       "542    33243.999987       2    True  \n",
       "152    32776.000000       1    True  \n",
       "1036   31768.000000       1    True  \n",
       "394    29456.000040       1    True  \n",
       "1256   23649.999983       5    True  \n",
       "202    21966.000000       2    True  \n",
       "115    21426.000052       1    True  \n",
       "365    20078.000020       3    True  \n",
       "896    19890.000183       1    True  \n",
       "654    18776.000016       9   False  \n",
       "305    16281.999924       2    True  "
      ]
     },
     "execution_count": 209,
     "metadata": {},
     "output_type": "execute_result"
    }
   ],
   "source": [
    "data_merge.sort_values('pay_sum',ascending=False).head(20)"
   ]
  },
  {
   "cell_type": "code",
   "execution_count": 233,
   "metadata": {},
   "outputs": [
    {
     "data": {
      "text/html": [
       "<div>\n",
       "<style scoped>\n",
       "    .dataframe tbody tr th:only-of-type {\n",
       "        vertical-align: middle;\n",
       "    }\n",
       "\n",
       "    .dataframe tbody tr th {\n",
       "        vertical-align: top;\n",
       "    }\n",
       "\n",
       "    .dataframe thead th {\n",
       "        text-align: right;\n",
       "    }\n",
       "</style>\n",
       "<table border=\"1\" class=\"dataframe\">\n",
       "  <thead>\n",
       "    <tr style=\"text-align: right;\">\n",
       "      <th></th>\n",
       "      <th>channel_id</th>\n",
       "      <th>source_id</th>\n",
       "      <th>30ROI</th>\n",
       "      <th>创角30日LTV</th>\n",
       "      <th>创角账号数</th>\n",
       "      <th>amount</th>\n",
       "      <th>time</th>\n",
       "      <th>pay_sum</th>\n",
       "    </tr>\n",
       "  </thead>\n",
       "  <tbody>\n",
       "    <tr>\n",
       "      <th>264</th>\n",
       "      <td>21116</td>\n",
       "      <td>322468</td>\n",
       "      <td>1.704245</td>\n",
       "      <td>20.104012</td>\n",
       "      <td>673.0</td>\n",
       "      <td>7939.00</td>\n",
       "      <td>1</td>\n",
       "      <td>13530.000076</td>\n",
       "    </tr>\n",
       "    <tr>\n",
       "      <th>265</th>\n",
       "      <td>21116</td>\n",
       "      <td>322468</td>\n",
       "      <td>0.005210</td>\n",
       "      <td>0.073529</td>\n",
       "      <td>408.0</td>\n",
       "      <td>5758.12</td>\n",
       "      <td>2</td>\n",
       "      <td>29.999832</td>\n",
       "    </tr>\n",
       "    <tr>\n",
       "      <th>244</th>\n",
       "      <td>21116</td>\n",
       "      <td>322468</td>\n",
       "      <td>0.234512</td>\n",
       "      <td>2.752525</td>\n",
       "      <td>396.0</td>\n",
       "      <td>4647.95</td>\n",
       "      <td>3</td>\n",
       "      <td>1089.999900</td>\n",
       "    </tr>\n",
       "    <tr>\n",
       "      <th>267</th>\n",
       "      <td>21116</td>\n",
       "      <td>322468</td>\n",
       "      <td>0.000000</td>\n",
       "      <td>0.000000</td>\n",
       "      <td>98.0</td>\n",
       "      <td>1202.82</td>\n",
       "      <td>4</td>\n",
       "      <td>0.000000</td>\n",
       "    </tr>\n",
       "    <tr>\n",
       "      <th>204</th>\n",
       "      <td>21116</td>\n",
       "      <td>322468</td>\n",
       "      <td>0.145094</td>\n",
       "      <td>1.863248</td>\n",
       "      <td>117.0</td>\n",
       "      <td>1502.47</td>\n",
       "      <td>5</td>\n",
       "      <td>218.000016</td>\n",
       "    </tr>\n",
       "    <tr>\n",
       "      <th>254</th>\n",
       "      <td>21116</td>\n",
       "      <td>322468</td>\n",
       "      <td>0.000000</td>\n",
       "      <td>0.000000</td>\n",
       "      <td>152.0</td>\n",
       "      <td>2499.21</td>\n",
       "      <td>6</td>\n",
       "      <td>0.000000</td>\n",
       "    </tr>\n",
       "    <tr>\n",
       "      <th>253</th>\n",
       "      <td>21116</td>\n",
       "      <td>322468</td>\n",
       "      <td>1.889397</td>\n",
       "      <td>49.637500</td>\n",
       "      <td>640.0</td>\n",
       "      <td>16813.83</td>\n",
       "      <td>7</td>\n",
       "      <td>31768.000000</td>\n",
       "    </tr>\n",
       "    <tr>\n",
       "      <th>324</th>\n",
       "      <td>21116</td>\n",
       "      <td>322468</td>\n",
       "      <td>0.127161</td>\n",
       "      <td>2.807980</td>\n",
       "      <td>401.0</td>\n",
       "      <td>8854.90</td>\n",
       "      <td>8</td>\n",
       "      <td>1125.999980</td>\n",
       "    </tr>\n",
       "    <tr>\n",
       "      <th>307</th>\n",
       "      <td>21116</td>\n",
       "      <td>322468</td>\n",
       "      <td>0.281578</td>\n",
       "      <td>8.856089</td>\n",
       "      <td>1084.0</td>\n",
       "      <td>34093.56</td>\n",
       "      <td>9</td>\n",
       "      <td>9600.000476</td>\n",
       "    </tr>\n",
       "    <tr>\n",
       "      <th>322</th>\n",
       "      <td>21116</td>\n",
       "      <td>322468</td>\n",
       "      <td>0.001740</td>\n",
       "      <td>0.043796</td>\n",
       "      <td>274.0</td>\n",
       "      <td>6898.19</td>\n",
       "      <td>10</td>\n",
       "      <td>12.000104</td>\n",
       "    </tr>\n",
       "  </tbody>\n",
       "</table>\n",
       "</div>"
      ],
      "text/plain": [
       "     channel_id  source_id     30ROI   创角30日LTV   创角账号数    amount  time  \\\n",
       "264       21116     322468  1.704245  20.104012   673.0   7939.00     1   \n",
       "265       21116     322468  0.005210   0.073529   408.0   5758.12     2   \n",
       "244       21116     322468  0.234512   2.752525   396.0   4647.95     3   \n",
       "267       21116     322468  0.000000   0.000000    98.0   1202.82     4   \n",
       "204       21116     322468  0.145094   1.863248   117.0   1502.47     5   \n",
       "254       21116     322468  0.000000   0.000000   152.0   2499.21     6   \n",
       "253       21116     322468  1.889397  49.637500   640.0  16813.83     7   \n",
       "324       21116     322468  0.127161   2.807980   401.0   8854.90     8   \n",
       "307       21116     322468  0.281578   8.856089  1084.0  34093.56     9   \n",
       "322       21116     322468  0.001740   0.043796   274.0   6898.19    10   \n",
       "\n",
       "          pay_sum  \n",
       "264  13530.000076  \n",
       "265     29.999832  \n",
       "244   1089.999900  \n",
       "267      0.000000  \n",
       "204    218.000016  \n",
       "254      0.000000  \n",
       "253  31768.000000  \n",
       "324   1125.999980  \n",
       "307   9600.000476  \n",
       "322     12.000104  "
      ]
     },
     "execution_count": 233,
     "metadata": {},
     "output_type": "execute_result"
    }
   ],
   "source": [
    "data[data['source_id']==322468]"
   ]
  },
  {
   "cell_type": "code",
   "execution_count": 234,
   "metadata": {},
   "outputs": [
    {
     "data": {
      "text/html": [
       "<div>\n",
       "<style scoped>\n",
       "    .dataframe tbody tr th:only-of-type {\n",
       "        vertical-align: middle;\n",
       "    }\n",
       "\n",
       "    .dataframe tbody tr th {\n",
       "        vertical-align: top;\n",
       "    }\n",
       "\n",
       "    .dataframe thead th {\n",
       "        text-align: right;\n",
       "    }\n",
       "</style>\n",
       "<table border=\"1\" class=\"dataframe\">\n",
       "  <thead>\n",
       "    <tr style=\"text-align: right;\">\n",
       "      <th></th>\n",
       "      <th>channel_id</th>\n",
       "      <th>source_id</th>\n",
       "      <th>game_id</th>\n",
       "      <th>media_id</th>\n",
       "      <th>source_run_date_amount</th>\n",
       "      <th>source_run_date</th>\n",
       "      <th>source_30_roi_predict</th>\n",
       "      <th>add_time</th>\n",
       "      <th>up_time</th>\n",
       "      <th>source_model_type</th>\n",
       "      <th>source_model_predict_type</th>\n",
       "      <th>source_30_predict_amount</th>\n",
       "    </tr>\n",
       "  </thead>\n",
       "  <tbody>\n",
       "    <tr>\n",
       "      <th>9594</th>\n",
       "      <td>21116</td>\n",
       "      <td>322468</td>\n",
       "      <td>1000840</td>\n",
       "      <td>10</td>\n",
       "      <td>32501.70</td>\n",
       "      <td>2020-07-01</td>\n",
       "      <td>0.327607</td>\n",
       "      <td>2020-9-5 20:24:54</td>\n",
       "      <td>2020-9-5 20:24:54</td>\n",
       "      <td>3</td>\n",
       "      <td>0</td>\n",
       "      <td>10647.77</td>\n",
       "    </tr>\n",
       "    <tr>\n",
       "      <th>9595</th>\n",
       "      <td>21116</td>\n",
       "      <td>322468</td>\n",
       "      <td>1000840</td>\n",
       "      <td>10</td>\n",
       "      <td>33659.72</td>\n",
       "      <td>2020-07-02</td>\n",
       "      <td>0.462084</td>\n",
       "      <td>2020-9-5 20:28:40</td>\n",
       "      <td>2020-9-5 20:28:40</td>\n",
       "      <td>3</td>\n",
       "      <td>1</td>\n",
       "      <td>15553.61</td>\n",
       "    </tr>\n",
       "    <tr>\n",
       "      <th>9596</th>\n",
       "      <td>21116</td>\n",
       "      <td>322468</td>\n",
       "      <td>1000840</td>\n",
       "      <td>10</td>\n",
       "      <td>24884.34</td>\n",
       "      <td>2020-07-03</td>\n",
       "      <td>0.375626</td>\n",
       "      <td>2020-9-5 20:32:04</td>\n",
       "      <td>2020-9-5 20:32:04</td>\n",
       "      <td>3</td>\n",
       "      <td>0</td>\n",
       "      <td>9347.20</td>\n",
       "    </tr>\n",
       "    <tr>\n",
       "      <th>9597</th>\n",
       "      <td>21116</td>\n",
       "      <td>322468</td>\n",
       "      <td>1000840</td>\n",
       "      <td>10</td>\n",
       "      <td>18345.07</td>\n",
       "      <td>2020-07-04</td>\n",
       "      <td>0.544742</td>\n",
       "      <td>2020-9-5 20:35:34</td>\n",
       "      <td>2020-9-5 20:35:34</td>\n",
       "      <td>3</td>\n",
       "      <td>1</td>\n",
       "      <td>9993.33</td>\n",
       "    </tr>\n",
       "    <tr>\n",
       "      <th>9598</th>\n",
       "      <td>21116</td>\n",
       "      <td>322468</td>\n",
       "      <td>1000840</td>\n",
       "      <td>10</td>\n",
       "      <td>11608.89</td>\n",
       "      <td>2020-07-05</td>\n",
       "      <td>0.171310</td>\n",
       "      <td>2020-9-5 20:39:27</td>\n",
       "      <td>2020-9-5 20:39:27</td>\n",
       "      <td>3</td>\n",
       "      <td>0</td>\n",
       "      <td>1988.72</td>\n",
       "    </tr>\n",
       "    <tr>\n",
       "      <th>9599</th>\n",
       "      <td>21116</td>\n",
       "      <td>322468</td>\n",
       "      <td>1000840</td>\n",
       "      <td>10</td>\n",
       "      <td>7353.24</td>\n",
       "      <td>2020-07-06</td>\n",
       "      <td>0.352186</td>\n",
       "      <td>2020-9-5 20:42:09</td>\n",
       "      <td>2020-9-5 20:42:09</td>\n",
       "      <td>3</td>\n",
       "      <td>0</td>\n",
       "      <td>2589.71</td>\n",
       "    </tr>\n",
       "    <tr>\n",
       "      <th>9600</th>\n",
       "      <td>21116</td>\n",
       "      <td>322468</td>\n",
       "      <td>1000840</td>\n",
       "      <td>10</td>\n",
       "      <td>5204.50</td>\n",
       "      <td>2020-07-07</td>\n",
       "      <td>0.144331</td>\n",
       "      <td>2020-9-5 20:45:31</td>\n",
       "      <td>2020-9-5 20:45:31</td>\n",
       "      <td>3</td>\n",
       "      <td>0</td>\n",
       "      <td>751.17</td>\n",
       "    </tr>\n",
       "    <tr>\n",
       "      <th>9601</th>\n",
       "      <td>21116</td>\n",
       "      <td>322468</td>\n",
       "      <td>1000840</td>\n",
       "      <td>10</td>\n",
       "      <td>20815.51</td>\n",
       "      <td>2020-07-08</td>\n",
       "      <td>0.093919</td>\n",
       "      <td>2020-9-5 20:48:52</td>\n",
       "      <td>2020-9-5 20:48:52</td>\n",
       "      <td>3</td>\n",
       "      <td>0</td>\n",
       "      <td>1954.97</td>\n",
       "    </tr>\n",
       "    <tr>\n",
       "      <th>9602</th>\n",
       "      <td>21116</td>\n",
       "      <td>322468</td>\n",
       "      <td>1000840</td>\n",
       "      <td>10</td>\n",
       "      <td>28167.94</td>\n",
       "      <td>2020-07-09</td>\n",
       "      <td>0.260294</td>\n",
       "      <td>2020-9-5 20:53:29</td>\n",
       "      <td>2020-9-5 20:53:29</td>\n",
       "      <td>3</td>\n",
       "      <td>0</td>\n",
       "      <td>7331.95</td>\n",
       "    </tr>\n",
       "    <tr>\n",
       "      <th>9603</th>\n",
       "      <td>21116</td>\n",
       "      <td>322468</td>\n",
       "      <td>1000840</td>\n",
       "      <td>10</td>\n",
       "      <td>59762.29</td>\n",
       "      <td>2020-07-10</td>\n",
       "      <td>0.297007</td>\n",
       "      <td>2020-9-5 20:57:07</td>\n",
       "      <td>2020-9-5 20:57:07</td>\n",
       "      <td>3</td>\n",
       "      <td>0</td>\n",
       "      <td>17749.81</td>\n",
       "    </tr>\n",
       "  </tbody>\n",
       "</table>\n",
       "</div>"
      ],
      "text/plain": [
       "      channel_id  source_id  game_id  media_id  source_run_date_amount  \\\n",
       "9594       21116     322468  1000840        10                32501.70   \n",
       "9595       21116     322468  1000840        10                33659.72   \n",
       "9596       21116     322468  1000840        10                24884.34   \n",
       "9597       21116     322468  1000840        10                18345.07   \n",
       "9598       21116     322468  1000840        10                11608.89   \n",
       "9599       21116     322468  1000840        10                 7353.24   \n",
       "9600       21116     322468  1000840        10                 5204.50   \n",
       "9601       21116     322468  1000840        10                20815.51   \n",
       "9602       21116     322468  1000840        10                28167.94   \n",
       "9603       21116     322468  1000840        10                59762.29   \n",
       "\n",
       "     source_run_date  source_30_roi_predict           add_time  \\\n",
       "9594      2020-07-01               0.327607  2020-9-5 20:24:54   \n",
       "9595      2020-07-02               0.462084  2020-9-5 20:28:40   \n",
       "9596      2020-07-03               0.375626  2020-9-5 20:32:04   \n",
       "9597      2020-07-04               0.544742  2020-9-5 20:35:34   \n",
       "9598      2020-07-05               0.171310  2020-9-5 20:39:27   \n",
       "9599      2020-07-06               0.352186  2020-9-5 20:42:09   \n",
       "9600      2020-07-07               0.144331  2020-9-5 20:45:31   \n",
       "9601      2020-07-08               0.093919  2020-9-5 20:48:52   \n",
       "9602      2020-07-09               0.260294  2020-9-5 20:53:29   \n",
       "9603      2020-07-10               0.297007  2020-9-5 20:57:07   \n",
       "\n",
       "                up_time  source_model_type  source_model_predict_type  \\\n",
       "9594  2020-9-5 20:24:54                  3                          0   \n",
       "9595  2020-9-5 20:28:40                  3                          1   \n",
       "9596  2020-9-5 20:32:04                  3                          0   \n",
       "9597  2020-9-5 20:35:34                  3                          1   \n",
       "9598  2020-9-5 20:39:27                  3                          0   \n",
       "9599  2020-9-5 20:42:09                  3                          0   \n",
       "9600  2020-9-5 20:45:31                  3                          0   \n",
       "9601  2020-9-5 20:48:52                  3                          0   \n",
       "9602  2020-9-5 20:53:29                  3                          0   \n",
       "9603  2020-9-5 20:57:07                  3                          0   \n",
       "\n",
       "      source_30_predict_amount  \n",
       "9594                  10647.77  \n",
       "9595                  15553.61  \n",
       "9596                   9347.20  \n",
       "9597                   9993.33  \n",
       "9598                   1988.72  \n",
       "9599                   2589.71  \n",
       "9600                    751.17  \n",
       "9601                   1954.97  \n",
       "9602                   7331.95  \n",
       "9603                  17749.81  "
      ]
     },
     "execution_count": 234,
     "metadata": {},
     "output_type": "execute_result"
    }
   ],
   "source": [
    "source_predict_7[source_predict_7['source_id']==322468]"
   ]
  },
  {
   "cell_type": "code",
   "execution_count": 248,
   "metadata": {},
   "outputs": [],
   "source": [
    "data_merge['istrue_f'] = (data_merge['time']<data_merge['time_0'])"
   ]
  },
  {
   "cell_type": "code",
   "execution_count": 249,
   "metadata": {},
   "outputs": [],
   "source": [
    "data_merge_true_f=data_merge[data_merge['istrue_f']==1]"
   ]
  },
  {
   "cell_type": "code",
   "execution_count": 250,
   "metadata": {},
   "outputs": [
    {
     "data": {
      "text/plain": [
       "156047.998711"
      ]
     },
     "execution_count": 250,
     "metadata": {},
     "output_type": "execute_result"
    }
   ],
   "source": [
    "data_merge_true_f['pay_sum'].sum()"
   ]
  },
  {
   "cell_type": "code",
   "execution_count": 251,
   "metadata": {},
   "outputs": [
    {
     "data": {
      "text/plain": [
       "2605489.7699999996"
      ]
     },
     "execution_count": 251,
     "metadata": {},
     "output_type": "execute_result"
    }
   ],
   "source": [
    "data_merge_true['amount'].sum()"
   ]
  },
  {
   "cell_type": "code",
   "execution_count": 252,
   "metadata": {},
   "outputs": [
    {
     "data": {
      "text/plain": [
       "0.059892002074911244"
      ]
     },
     "execution_count": 252,
     "metadata": {},
     "output_type": "execute_result"
    }
   ],
   "source": [
    "data_merge_true_f['pay_sum'].sum()/data_merge_true['amount'].sum()"
   ]
  },
  {
   "cell_type": "code",
   "execution_count": null,
   "metadata": {},
   "outputs": [],
   "source": []
  },
  {
   "cell_type": "code",
   "execution_count": null,
   "metadata": {},
   "outputs": [],
   "source": []
  }
 ],
 "metadata": {
  "kernelspec": {
   "display_name": "Python 3",
   "language": "python",
   "name": "python3"
  },
  "language_info": {
   "codemirror_mode": {
    "name": "ipython",
    "version": 3
   },
   "file_extension": ".py",
   "mimetype": "text/x-python",
   "name": "python",
   "nbconvert_exporter": "python",
   "pygments_lexer": "ipython3",
   "version": "3.7.6"
  }
 },
 "nbformat": 4,
 "nbformat_minor": 4
}
