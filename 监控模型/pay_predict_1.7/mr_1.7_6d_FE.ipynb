{
 "cells": [
  {
   "cell_type": "code",
   "execution_count": 1,
   "metadata": {},
   "outputs": [],
   "source": [
    "import warnings\n",
    "warnings.filterwarnings('ignore')\n",
    "import pandas as pd\n",
    "import numpy as np\n",
    "import matplotlib.pyplot as plt\n",
    "import seaborn as sns\n",
    "import missingno as msno\n",
    "import datetime,gc,math\n",
    "import random\n",
    "import lightgbm as lgb\n",
    "from sklearn.model_selection import KFold, train_test_split\n",
    "from sklearn.preprocessing import LabelEncoder, OneHotEncoder,MinMaxScaler, StandardScaler\n",
    "from sklearn.metrics import recall_score, auc, accuracy_score, f1_score, precision_score, classification_report, roc_auc_score,mean_squared_error\n",
    "from pandas.api.types import is_categorical_dtype\n",
    "from pandas.api.types import is_datetime64_any_dtype as is_datetime\n",
    "from sklearn.linear_model import LinearRegression\n",
    "from sklearn.metrics import mean_absolute_error\n",
    "%matplotlib inline"
   ]
  },
  {
   "cell_type": "code",
   "execution_count": 2,
   "metadata": {},
   "outputs": [],
   "source": [
    "def active_time_transform(df):\n",
    "    df['role_created_active_time'].fillna('\"0-8,0\",\"8-12,0\",\"12-14,0\",\"14-18,0\",\"18-24,0\"', inplace=True)\n",
    "    df['role_created_active_time'] = df['role_created_active_time'].apply(lambda x:str(x)[1:-1])\n",
    "    temp = df['role_created_active_time'].str.split(',',expand=True).iloc[:,[1,3,5,7,9]].rename(columns={1:'active_0-8',\n",
    "                                        3:'active_8-12',5:'active_12-14',7:'active_14-18',9:'active_18-24'})\n",
    "    for i in range(len(temp.columns)):\n",
    "        temp.iloc[:,i] = temp.iloc[:,i].apply(lambda x:str(x)[:-1])\n",
    "    df = df.join(temp).drop(['role_created_active_time'], axis=1)\n",
    "    return df\n",
    "\n",
    "def pay_grade_transform(df):\n",
    "    df['pay_grade'].fillna('[0,0,0,0,0,0,0]',inplace=True)\n",
    "    df['pay_grade'] = df['pay_grade'].apply(lambda x:str(x)[1:-1])\n",
    "    temp = df['pay_grade'].str.split(',',expand=True).rename(columns={0:'pay_grade_1',\n",
    "                1:'pay_grade_2',2:'pay_grade_3',3:'pay_grade_4',4:'pay_grade_5',5:'pay_grade_6',6:'pay_grade_7'})\n",
    "    df = df.join(temp).drop(['pay_grade'], axis=1)\n",
    "    return df"
   ]
  },
  {
   "cell_type": "code",
   "execution_count": 3,
   "metadata": {},
   "outputs": [
    {
     "name": "stdout",
     "output_type": "stream",
     "text": [
      "Wall time: 1min 44s\n"
     ]
    }
   ],
   "source": [
    "%%time\n",
    "role_info = pd.read_csv('./data/mr_role_6d.csv')\n",
    "role_info.drop_duplicates(subset=['user_id','cp_server_no','cp_role_id'],inplace=True)\n",
    "role_info = active_time_transform(role_info)\n",
    "role_info = pay_grade_transform(role_info)\n",
    "role_info.to_pickle('./role_info_6d.pickle')"
   ]
  },
  {
   "cell_type": "code",
   "execution_count": 4,
   "metadata": {},
   "outputs": [],
   "source": [
    "# role_info = pd.read_pickle('./role_info_6d.pickle')\n",
    "# 删除2020-7-19日前30天的数据\n",
    "role_info['create_role_time'] = pd.to_datetime(role_info['create_role_time'], format='%Y-%m-%d %H:%M:%S')\n",
    "role_info.drop(role_info[role_info['create_role_time'] > (role_info['create_role_time'].max() + \n",
    "                                                          datetime.timedelta(-30))].index,inplace=True)"
   ]
  },
  {
   "cell_type": "code",
   "execution_count": 5,
   "metadata": {},
   "outputs": [],
   "source": [
    "# 删除没有心跳数据的样本(1、没有登录;2、没有拿到心跳)\n",
    "role_info.dropna(subset=['role_created_login_num'], inplace=True)\n",
    "role_info.dropna(subset=['role_created_online'], inplace=True)\n",
    "role_info['pay_num'].fillna(0, inplace=True)\n",
    "role_info['pay_sum'].fillna(0, inplace=True)\n",
    "role_info['role_created_active'] = role_info['role_created_active'].clip(0,6)\n",
    "role_info['pay_rate'] = role_info['pay_num'] / (role_info['role_created_active'] + 1e-4)\n",
    "role_info['pay_avg'] = role_info['pay_sum'] / (role_info['pay_num'] + 1e-4)"
   ]
  },
  {
   "cell_type": "code",
   "execution_count": 6,
   "metadata": {},
   "outputs": [],
   "source": [
    "# 清洗设备金额\n",
    "role_info.loc[role_info['p_model'] == 'iPhone 6s Plus','model_money'] = 3500\n",
    "role_info.loc[role_info['p_model'] == 'iPhone12,1','model_money'] = 5000\n",
    "role_info.loc[role_info['p_model'] == 'iPhone12,1','model_money'] = 2500\n",
    "role_info.loc[role_info['p_model'] == 'iPhone12,1','model_money'] = 2000\n",
    "role_info['model_money'] = role_info['model_money'].replace(0, np.nan)\n",
    "role_info['model_money'].fillna(role_info[role_info['model_money'] !=0]['model_money'].mean(),inplace=True)\n",
    "bins=[0,1000,1500,2000,2500,3000,3500,4000,4500,5000,6000,8000,10000]\n",
    "role_info['model_money_level'] = pd.cut(role_info['model_money'],bins,labels=False)"
   ]
  },
  {
   "cell_type": "code",
   "execution_count": 7,
   "metadata": {},
   "outputs": [],
   "source": [
    "# 清洗login_num\n",
    "# 截取3登陆次数大于200的样本\n",
    "role_info['role_created_login_num'].clip(1,200,inplace=True)\n",
    "tmp = role_info[role_info['role_created_login_num'] <3]\n",
    "tmp['role_created_login_num'] = tmp['max_role_level'] * (\n",
    "            role_info['role_created_login_num'].mean()/role_info['max_role_level'].mean())\n",
    "role_info['role_created_login_num'].update(tmp['role_created_login_num'])\n",
    "role_info['role_created_login_num'].clip(1,200,inplace=True)"
   ]
  },
  {
   "cell_type": "code",
   "execution_count": 8,
   "metadata": {},
   "outputs": [
    {
     "data": {
      "image/png": "[encoded data removed]",
      "text/plain": [
       "<Figure size 432x288 with 1 Axes>"
      ]
     },
     "metadata": {
      "needs_background": "light"
     },
     "output_type": "display_data"
    }
   ],
   "source": [
    "plt.hist(role_info['max_role_level'],bins=100,range=(0,120))\n",
    "plt.show()"
   ]
  },
  {
   "cell_type": "code",
   "execution_count": 9,
   "metadata": {},
   "outputs": [],
   "source": [
    "# 清洗max_role_level\n",
    "# 按前6天在线时长更新等级小于5级的\n",
    "tmp = role_info[role_info['max_role_level'] <5]\n",
    "tmp['max_role_level'] = tmp['role_created_online'] * (\n",
    "    role_info['max_role_level'].mean()/role_info['role_created_online'].mean())\n",
    "role_info['max_role_level'].update(tmp['max_role_level'])\n",
    "# 截取等级大于100级的\n",
    "role_info['max_role_level'].clip(1,100,inplace=True)"
   ]
  },
  {
   "cell_type": "code",
   "execution_count": 10,
   "metadata": {},
   "outputs": [],
   "source": [
    "# 清洗online\n",
    "# 按等级补全在线时长\n",
    "tmp = role_info[role_info['role_created_online'] <1800]\n",
    "tmp['role_created_online'] = tmp['max_role_level'] * (role_info['role_created_online'].mean()/role_info['max_role_level'].mean())\n",
    "role_info['role_created_online'].update(tmp['role_created_online'])\n",
    "# 截断 最小5分钟，最大48小时\n",
    "role_info['role_created_online'].clip(300,172800,inplace=True)"
   ]
  },
  {
   "cell_type": "code",
   "execution_count": 11,
   "metadata": {},
   "outputs": [],
   "source": [
    "# 处理时间特征create_role_time\n",
    "role_info = role_info.sort_values('create_role_time').reset_index(drop=True)\n",
    "role_info['hour'] = role_info['create_role_time'].dt.hour\n",
    "role_info['weekend'] = role_info['create_role_time'].dt.weekday\n",
    "holidays = ['2019-09-13','2019-09-14','2019-09-15','2019-10-01','2019-10-02','2019-10-03','2019-10-04','2019-10-05','2019-10-06','2019-10-07',\n",
    "            '2020-01-01','2020-01-24','2020-01-25','2020-01-26','2020-01-27','2020-01-28','2020-01-29','2020-01-30','2020-04-04','2020-04-05',\n",
    "            '2020-04-06','2020-04-04','2020-05-01','2020-05-02','2020-05-03','2020-05-04','2020-05-05','2020-06-25','2020-06-27']\n",
    "role_info['timestamp'] = role_info['create_role_time'].dt.date.apply(lambda x:str(x))\n",
    "role_info['is_holidays'] = (role_info['timestamp'].isin(holidays)).astype(int)\n",
    "role_info.drop(['timestamp'], axis=1, inplace=True)"
   ]
  },
  {
   "cell_type": "code",
   "execution_count": 12,
   "metadata": {
    "scrolled": true
   },
   "outputs": [],
   "source": [
    "# 合并role_user\n",
    "user_info = pd.read_csv('./user_info.csv')\n",
    "user_info.drop_duplicates(inplace=True)\n",
    "data = pd.merge(role_info,user_info,on='user_id',how='left',validate='many_to_one')\n",
    "# 标记用户时否绑定了手机，绑定;1    未绑定：0\n",
    "data['mobile'] = pd.to_numeric(data['mobile'],errors='coerce')\n",
    "data['mobile'] = data['mobile'].apply(lambda x:0 if np.isnan(x) == True else 1)\n",
    "# 用户注册时间与角色注册时间的时间差,并进行分桶\n",
    "data['reg_date'] = pd.to_datetime(data['reg_date'])\n",
    "data['time_interval'] = (data['create_role_time'] - data['reg_date']).dt.total_seconds()/3600\n",
    "data['time_interval'] = data['time_interval'].clip(0,2000)\n",
    "data['time_interval'] = pd.cut(data['time_interval'], bins=[0,1,3,12,24,72,168,720,2000],labels=False)\n",
    "\n",
    "data['active_0-8'] = pd.to_numeric(data['active_0-8'], errors='coerce')\n",
    "data['active_8-12'] = pd.to_numeric(data['active_8-12'], errors='coerce')\n",
    "data['active_12-14'] = pd.to_numeric(data['active_12-14'], errors='coerce')\n",
    "data['active_14-18'] = pd.to_numeric(data['active_14-18'], errors='coerce')\n",
    "data['active_18-24'] = pd.to_numeric(data['active_18-24'], errors='coerce')"
   ]
  },
  {
   "cell_type": "code",
   "execution_count": 13,
   "metadata": {},
   "outputs": [],
   "source": [
    "data['pay_grade_1'] = pd.to_numeric(data['pay_grade_1'], errors='coerce')\n",
    "data['pay_grade_2'] = pd.to_numeric(data['pay_grade_2'], errors='coerce')\n",
    "data['pay_grade_3'] = pd.to_numeric(data['pay_grade_3'], errors='coerce')\n",
    "data['pay_grade_4'] = pd.to_numeric(data['pay_grade_4'], errors='coerce')\n",
    "data['pay_grade_5'] = pd.to_numeric(data['pay_grade_5'], errors='coerce')\n",
    "data['pay_grade_6'] = pd.to_numeric(data['pay_grade_6'], errors='coerce')\n",
    "data['pay_grade_7'] = pd.to_numeric(data['pay_grade_7'], errors='coerce')\n",
    "role_created_30_pay_sum = pd.read_csv('./data/role_created_30_pay_sum.csv',index_col=0)\n",
    "# 对连接的关键字进行字符化或者整型化的调整\n",
    "role_created_30_pay_sum['user_id'] = role_created_30_pay_sum['user_id'].astype(str)\n",
    "role_created_30_pay_sum['mgame_id'] = role_created_30_pay_sum['mgame_id'].astype(str)\n",
    "role_created_30_pay_sum['cp_server_no'] = role_created_30_pay_sum['cp_server_no'].astype(str)\n",
    "role_created_30_pay_sum['cp_role_id'] = role_created_30_pay_sum['cp_role_id'].astype(str)\n",
    "data['user_id'] = data['user_id'].astype(str)\n",
    "data['mgame_id'] = data['mgame_id'].astype(str)\n",
    "data['cp_server_no'] = data['cp_server_no'].astype(str)\n",
    "data['cp_role_id'] = data['cp_role_id'].astype(str)\n",
    "role_created_30_pay_sum.drop_duplicates(subset=['user_id','cp_server_no','mgame_id','cp_role_id'],inplace=True)\n",
    "data.drop_duplicates(subset=['user_id','cp_server_no','mgame_id','cp_role_id'],inplace=True)\n",
    "data = pd.merge(data,role_created_30_pay_sum,on=['user_id','mgame_id','cp_server_no','cp_role_id'],how='left',validate='one_to_one')"
   ]
  },
  {
   "cell_type": "code",
   "execution_count": 14,
   "metadata": {},
   "outputs": [
    {
     "data": {
      "text/plain": [
       "9181"
      ]
     },
     "execution_count": 14,
     "metadata": {},
     "output_type": "execute_result"
    }
   ],
   "source": [
    "data.to_pickle('./data_6d.pickle')\n",
    "del role_info,tmp,data,role_created_30_pay_sum,user_info\n",
    "gc.collect()"
   ]
  },
  {
   "cell_type": "code",
   "execution_count": null,
   "metadata": {},
   "outputs": [],
   "source": []
  }
 ],
 "metadata": {
  "kernelspec": {
   "display_name": "Python 3",
   "language": "python",
   "name": "python3"
  },
  "language_info": {
   "codemirror_mode": {
    "name": "ipython",
    "version": 3
   },
   "file_extension": ".py",
   "mimetype": "text/x-python",
   "name": "python",
   "nbconvert_exporter": "python",
   "pygments_lexer": "ipython3",
   "version": "3.7.6"
  }
 },
 "nbformat": 4,
 "nbformat_minor": 4
}
