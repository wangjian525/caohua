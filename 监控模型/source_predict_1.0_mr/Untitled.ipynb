{
 "cells": [
  {
   "cell_type": "code",
   "execution_count": 1,
   "metadata": {},
   "outputs": [],
   "source": [
    "import pandas as pd\n",
    "import numpy as np\n",
    "import datetime\n",
    "import warnings\n",
    "import joblib\n",
    "warnings.filterwarnings('ignore')"
   ]
  },
  {
   "cell_type": "code",
   "execution_count": 3,
   "metadata": {},
   "outputs": [],
   "source": [
    "source_pay_sum_1d_info = pd.read_csv('./source_pay_sum_1d_info.csv')\n",
    "source_pay_sum_2d_info = pd.read_csv('./source_pay_sum_2d_info.csv')\n",
    "source_pay_sum_3d_info = pd.read_csv('./source_pay_sum_3d_info.csv')\n",
    "source_pay_sum_4d_info = pd.read_csv('./source_pay_sum_4d_info.csv')\n",
    "source_pay_sum_5d_info = pd.read_csv('./source_pay_sum_5d_info.csv')\n",
    "source_pay_sum_6d_info = pd.read_csv('./source_pay_sum_6d_info.csv')\n",
    "source_pay_sum_7d_info = pd.read_csv('./source_pay_sum_7d_info.csv')"
   ]
  },
  {
   "cell_type": "code",
   "execution_count": 17,
   "metadata": {
    "scrolled": false
   },
   "outputs": [
    {
     "data": {
      "text/plain": [
       "(30845, 4)"
      ]
     },
     "execution_count": 17,
     "metadata": {},
     "output_type": "execute_result"
    }
   ],
   "source": [
    "source_pay_sum_3d_info.shape"
   ]
  },
  {
   "cell_type": "code",
   "execution_count": 8,
   "metadata": {},
   "outputs": [],
   "source": [
    "source_pay_sum_1d_info.rename(columns={'create_role_money_sum':'create_role_1d_money_sum'},inplace=True)\n",
    "source_pay_sum_2d_info.rename(columns={'create_role_money_sum':'create_role_2d_money_sum'},inplace=True)\n",
    "source_pay_sum_3d_info.rename(columns={'create_role_money_sum':'create_role_3d_money_sum'},inplace=True)\n",
    "source_pay_sum_4d_info.rename(columns={'create_role_money_sum':'create_role_4d_money_sum'},inplace=True)\n",
    "source_pay_sum_5d_info.rename(columns={'create_role_money_sum':'create_role_5d_money_sum'},inplace=True)\n",
    "source_pay_sum_6d_info.rename(columns={'create_role_money_sum':'create_role_6d_money_sum'},inplace=True)\n",
    "source_pay_sum_7d_info.rename(columns={'create_role_money_sum':'create_role_7d_money_sum'},inplace=True)"
   ]
  },
  {
   "cell_type": "code",
   "execution_count": 14,
   "metadata": {},
   "outputs": [],
   "source": [
    "source_pay_sum_1d_info.drop_duplicates(['channel_id','source_id','tdate'],inplace=True)\n",
    "source_pay_sum_2d_info.drop_duplicates(['channel_id','source_id','tdate'],inplace=True)\n",
    "source_pay_sum_3d_info.drop_duplicates(['channel_id','source_id','tdate'],inplace=True)\n",
    "source_pay_sum_4d_info.drop_duplicates(['channel_id','source_id','tdate'],inplace=True)\n",
    "source_pay_sum_5d_info.drop_duplicates(['channel_id','source_id','tdate'],inplace=True)\n",
    "source_pay_sum_6d_info.drop_duplicates(['channel_id','source_id','tdate'],inplace=True)\n",
    "source_pay_sum_7d_info.drop_duplicates(['channel_id','source_id','tdate'],inplace=True)"
   ]
  },
  {
   "cell_type": "code",
   "execution_count": 9,
   "metadata": {},
   "outputs": [
    {
     "data": {
      "text/html": [
       "<div>\n",
       "<style scoped>\n",
       "    .dataframe tbody tr th:only-of-type {\n",
       "        vertical-align: middle;\n",
       "    }\n",
       "\n",
       "    .dataframe tbody tr th {\n",
       "        vertical-align: top;\n",
       "    }\n",
       "\n",
       "    .dataframe thead th {\n",
       "        text-align: right;\n",
       "    }\n",
       "</style>\n",
       "<table border=\"1\" class=\"dataframe\">\n",
       "  <thead>\n",
       "    <tr style=\"text-align: right;\">\n",
       "      <th></th>\n",
       "      <th>tdate</th>\n",
       "      <th>channel_id</th>\n",
       "      <th>source_id</th>\n",
       "      <th>create_role_1d_money_sum</th>\n",
       "    </tr>\n",
       "  </thead>\n",
       "  <tbody>\n",
       "    <tr>\n",
       "      <th>0</th>\n",
       "      <td>2020-6-21 00:00:00</td>\n",
       "      <td>-1</td>\n",
       "      <td>-1</td>\n",
       "      <td>6206</td>\n",
       "    </tr>\n",
       "    <tr>\n",
       "      <th>1</th>\n",
       "      <td>2020-6-21 00:00:00</td>\n",
       "      <td>-1</td>\n",
       "      <td>-1</td>\n",
       "      <td>0</td>\n",
       "    </tr>\n",
       "    <tr>\n",
       "      <th>2</th>\n",
       "      <td>2020-6-21 00:00:00</td>\n",
       "      <td>-1</td>\n",
       "      <td>-1</td>\n",
       "      <td>0</td>\n",
       "    </tr>\n",
       "    <tr>\n",
       "      <th>3</th>\n",
       "      <td>2020-6-21 00:00:00</td>\n",
       "      <td>-1</td>\n",
       "      <td>-1</td>\n",
       "      <td>0</td>\n",
       "    </tr>\n",
       "    <tr>\n",
       "      <th>4</th>\n",
       "      <td>2020-6-21 00:00:00</td>\n",
       "      <td>-1</td>\n",
       "      <td>-1</td>\n",
       "      <td>0</td>\n",
       "    </tr>\n",
       "  </tbody>\n",
       "</table>\n",
       "</div>"
      ],
      "text/plain": [
       "                tdate  channel_id  source_id  create_role_1d_money_sum\n",
       "0  2020-6-21 00:00:00          -1         -1                      6206\n",
       "1  2020-6-21 00:00:00          -1         -1                         0\n",
       "2  2020-6-21 00:00:00          -1         -1                         0\n",
       "3  2020-6-21 00:00:00          -1         -1                         0\n",
       "4  2020-6-21 00:00:00          -1         -1                         0"
      ]
     },
     "execution_count": 9,
     "metadata": {},
     "output_type": "execute_result"
    }
   ],
   "source": [
    "source_pay_sum_1d_info.head()"
   ]
  },
  {
   "cell_type": "code",
   "execution_count": 5,
   "metadata": {},
   "outputs": [
    {
     "data": {
      "text/plain": [
       "(46416, 4)"
      ]
     },
     "execution_count": 5,
     "metadata": {},
     "output_type": "execute_result"
    }
   ],
   "source": [
    "source_pay_sum_2d_info.shape"
   ]
  },
  {
   "cell_type": "code",
   "execution_count": 6,
   "metadata": {},
   "outputs": [
    {
     "data": {
      "text/plain": [
       "(46488, 4)"
      ]
     },
     "execution_count": 6,
     "metadata": {},
     "output_type": "execute_result"
    }
   ],
   "source": [
    "source_pay_sum_3d_info.shape"
   ]
  },
  {
   "cell_type": "code",
   "execution_count": 18,
   "metadata": {},
   "outputs": [],
   "source": [
    "df = pd.merge(source_pay_sum_1d_info,source_pay_sum_2d_info,on=['channel_id','source_id','tdate'],how='inner',validate='one_to_one')"
   ]
  },
  {
   "cell_type": "code",
   "execution_count": 20,
   "metadata": {},
   "outputs": [],
   "source": [
    "df = pd.merge(df,source_pay_sum_3d_info,on=['channel_id','source_id','tdate'],how='inner',validate='one_to_one')\n",
    "df = pd.merge(df,source_pay_sum_4d_info,on=['channel_id','source_id','tdate'],how='inner',validate='one_to_one')\n",
    "df = pd.merge(df,source_pay_sum_5d_info,on=['channel_id','source_id','tdate'],how='inner',validate='one_to_one')\n",
    "df = pd.merge(df,source_pay_sum_6d_info,on=['channel_id','source_id','tdate'],how='inner',validate='one_to_one')\n",
    "df = pd.merge(df,source_pay_sum_7d_info,on=['channel_id','source_id','tdate'],how='inner',validate='one_to_one')\n"
   ]
  },
  {
   "cell_type": "code",
   "execution_count": 21,
   "metadata": {},
   "outputs": [
    {
     "data": {
      "text/html": [
       "<div>\n",
       "<style scoped>\n",
       "    .dataframe tbody tr th:only-of-type {\n",
       "        vertical-align: middle;\n",
       "    }\n",
       "\n",
       "    .dataframe tbody tr th {\n",
       "        vertical-align: top;\n",
       "    }\n",
       "\n",
       "    .dataframe thead th {\n",
       "        text-align: right;\n",
       "    }\n",
       "</style>\n",
       "<table border=\"1\" class=\"dataframe\">\n",
       "  <thead>\n",
       "    <tr style=\"text-align: right;\">\n",
       "      <th></th>\n",
       "      <th>tdate</th>\n",
       "      <th>channel_id</th>\n",
       "      <th>source_id</th>\n",
       "      <th>create_role_1d_money_sum</th>\n",
       "      <th>create_role_2d_money_sum</th>\n",
       "      <th>create_role_3d_money_sum</th>\n",
       "      <th>create_role_4d_money_sum</th>\n",
       "      <th>create_role_5d_money_sum</th>\n",
       "      <th>create_role_6d_money_sum</th>\n",
       "      <th>create_role_7d_money_sum</th>\n",
       "    </tr>\n",
       "  </thead>\n",
       "  <tbody>\n",
       "    <tr>\n",
       "      <th>0</th>\n",
       "      <td>2020-6-21 00:00:00</td>\n",
       "      <td>-1</td>\n",
       "      <td>-1</td>\n",
       "      <td>6206</td>\n",
       "      <td>11946</td>\n",
       "      <td>15596</td>\n",
       "      <td>19328</td>\n",
       "      <td>23854</td>\n",
       "      <td>26072</td>\n",
       "      <td>31208</td>\n",
       "    </tr>\n",
       "    <tr>\n",
       "      <th>1</th>\n",
       "      <td>2020-6-21 00:00:00</td>\n",
       "      <td>6770</td>\n",
       "      <td>214140</td>\n",
       "      <td>0</td>\n",
       "      <td>0</td>\n",
       "      <td>0</td>\n",
       "      <td>0</td>\n",
       "      <td>0</td>\n",
       "      <td>0</td>\n",
       "      <td>0</td>\n",
       "    </tr>\n",
       "    <tr>\n",
       "      <th>2</th>\n",
       "      <td>2020-6-21 00:00:00</td>\n",
       "      <td>6770</td>\n",
       "      <td>214852</td>\n",
       "      <td>0</td>\n",
       "      <td>0</td>\n",
       "      <td>0</td>\n",
       "      <td>0</td>\n",
       "      <td>0</td>\n",
       "      <td>0</td>\n",
       "      <td>0</td>\n",
       "    </tr>\n",
       "    <tr>\n",
       "      <th>3</th>\n",
       "      <td>2020-6-21 00:00:00</td>\n",
       "      <td>6770</td>\n",
       "      <td>255940</td>\n",
       "      <td>0</td>\n",
       "      <td>0</td>\n",
       "      <td>0</td>\n",
       "      <td>0</td>\n",
       "      <td>0</td>\n",
       "      <td>0</td>\n",
       "      <td>0</td>\n",
       "    </tr>\n",
       "    <tr>\n",
       "      <th>4</th>\n",
       "      <td>2020-6-21 00:00:00</td>\n",
       "      <td>6770</td>\n",
       "      <td>257299</td>\n",
       "      <td>0</td>\n",
       "      <td>0</td>\n",
       "      <td>0</td>\n",
       "      <td>0</td>\n",
       "      <td>0</td>\n",
       "      <td>0</td>\n",
       "      <td>0</td>\n",
       "    </tr>\n",
       "  </tbody>\n",
       "</table>\n",
       "</div>"
      ],
      "text/plain": [
       "                tdate  channel_id  source_id  create_role_1d_money_sum  \\\n",
       "0  2020-6-21 00:00:00          -1         -1                      6206   \n",
       "1  2020-6-21 00:00:00        6770     214140                         0   \n",
       "2  2020-6-21 00:00:00        6770     214852                         0   \n",
       "3  2020-6-21 00:00:00        6770     255940                         0   \n",
       "4  2020-6-21 00:00:00        6770     257299                         0   \n",
       "\n",
       "   create_role_2d_money_sum  create_role_3d_money_sum  \\\n",
       "0                     11946                     15596   \n",
       "1                         0                         0   \n",
       "2                         0                         0   \n",
       "3                         0                         0   \n",
       "4                         0                         0   \n",
       "\n",
       "   create_role_4d_money_sum  create_role_5d_money_sum  \\\n",
       "0                     19328                     23854   \n",
       "1                         0                         0   \n",
       "2                         0                         0   \n",
       "3                         0                         0   \n",
       "4                         0                         0   \n",
       "\n",
       "   create_role_6d_money_sum  create_role_7d_money_sum  \n",
       "0                     26072                     31208  \n",
       "1                         0                         0  \n",
       "2                         0                         0  \n",
       "3                         0                         0  \n",
       "4                         0                         0  "
      ]
     },
     "execution_count": 21,
     "metadata": {},
     "output_type": "execute_result"
    }
   ],
   "source": [
    "df.head()"
   ]
  },
  {
   "cell_type": "code",
   "execution_count": 23,
   "metadata": {},
   "outputs": [],
   "source": [
    "df.to_csv('./source_pay_sum_1d_7d_info.csv')"
   ]
  },
  {
   "cell_type": "code",
   "execution_count": null,
   "metadata": {},
   "outputs": [],
   "source": []
  }
 ],
 "metadata": {
  "kernelspec": {
   "display_name": "Python 3",
   "language": "python",
   "name": "python3"
  },
  "language_info": {
   "codemirror_mode": {
    "name": "ipython",
    "version": 3
   },
   "file_extension": ".py",
   "mimetype": "text/x-python",
   "name": "python",
   "nbconvert_exporter": "python",
   "pygments_lexer": "ipython3",
   "version": "3.7.6"
  }
 },
 "nbformat": 4,
 "nbformat_minor": 4
}
