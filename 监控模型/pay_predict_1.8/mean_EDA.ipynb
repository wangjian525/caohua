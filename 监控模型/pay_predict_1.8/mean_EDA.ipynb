{
 "cells": [
  {
   "cell_type": "code",
   "execution_count": 1,
   "metadata": {},
   "outputs": [],
   "source": [
    "import pandas as pd\n",
    "import numpy as np\n",
    "import joblib\n",
    "import warnings\n",
    "warnings.filterwarnings('ignore')\n",
    "import matplotlib.pyplot as plt"
   ]
  },
  {
   "cell_type": "code",
   "execution_count": 14,
   "metadata": {},
   "outputs": [],
   "source": [
    "user_info = pd.read_csv('./user_info.csv')\n",
    "user_info['reg_date'] = pd.to_datetime(user_info['reg_date']).dt.date\n",
    "source_1 = pd.read_csv('./source_1.csv')\n",
    "source_2 = pd.read_csv('./source_2.csv')\n",
    "role_info_3d = pd.read_pickle('./role_info_3d.pkl')"
   ]
  },
  {
   "cell_type": "code",
   "execution_count": 15,
   "metadata": {},
   "outputs": [],
   "source": [
    "source_1.rename(columns={'chl_user_id':'channel_id'},inplace=True)\n",
    "source_1.drop_duplicates(subset=['channel_id','source_id'],inplace=True)\n",
    "source = pd.merge(source_1,source_2,on=['channel_id','source_id'],how='left',validate='one_to_many')\n",
    "source.dropna(inplace=True)\n",
    "source['create_time'] = pd.to_datetime(source['create_time']).dt.date\n",
    "source['tdate'] = pd.to_datetime(source['tdate']).dt.date\n",
    "source.rename(columns={'tdate':'reg_date'},inplace=True)"
   ]
  },
  {
   "cell_type": "code",
   "execution_count": 19,
   "metadata": {},
   "outputs": [],
   "source": [
    "user_info = user_info[['user_id','channel_id','source_id','reg_date']]\n",
    "user_info.drop_duplicates(inplace=True)"
   ]
  },
  {
   "cell_type": "code",
   "execution_count": 20,
   "metadata": {},
   "outputs": [],
   "source": [
    "source.drop_duplicates(subset=['channel_id','source_id','reg_date'],inplace=True)\n",
    "source_info = pd.merge(source,user_info,on=['channel_id','source_id','reg_date'],how='left',validate='one_to_many')\n",
    "source_info.dropna(inplace=True)"
   ]
  },
  {
   "cell_type": "code",
   "execution_count": 22,
   "metadata": {},
   "outputs": [],
   "source": [
    "source_info['user_id'] = source_info['user_id'].astype(np.int64)\n",
    "role_info_3d['user_id'] = role_info_3d['user_id'].astype(np.int64)\n",
    "data = pd.merge(source_info,role_info_3d,on='user_id',how='left',validate='one_to_many')\n",
    "data.dropna(inplace=True)"
   ]
  },
  {
   "cell_type": "code",
   "execution_count": 26,
   "metadata": {},
   "outputs": [],
   "source": [
    "pd.set_option('display.max_columns',None)"
   ]
  },
  {
   "cell_type": "code",
   "execution_count": 24,
   "metadata": {},
   "outputs": [],
   "source": [
    "data_amount_y = data[data['amount']!=0]"
   ]
  },
  {
   "cell_type": "code",
   "execution_count": 25,
   "metadata": {},
   "outputs": [
    {
     "data": {
      "text/plain": [
       "(3628022, 34)"
      ]
     },
     "execution_count": 25,
     "metadata": {},
     "output_type": "execute_result"
    }
   ],
   "source": [
    "data_amount_y.shape"
   ]
  },
  {
   "cell_type": "code",
   "execution_count": 58,
   "metadata": {
    "scrolled": false
   },
   "outputs": [
    {
     "data": {
      "text/html": [
       "<div>\n",
       "<style scoped>\n",
       "    .dataframe tbody tr th:only-of-type {\n",
       "        vertical-align: middle;\n",
       "    }\n",
       "\n",
       "    .dataframe tbody tr th {\n",
       "        vertical-align: top;\n",
       "    }\n",
       "\n",
       "    .dataframe thead th {\n",
       "        text-align: right;\n",
       "    }\n",
       "</style>\n",
       "<table border=\"1\" class=\"dataframe\">\n",
       "  <thead>\n",
       "    <tr style=\"text-align: right;\">\n",
       "      <th></th>\n",
       "      <th>channel_id</th>\n",
       "      <th>source_id</th>\n",
       "      <th>create_time</th>\n",
       "      <th>reg_date</th>\n",
       "      <th>amount</th>\n",
       "      <th>paper_use_amount</th>\n",
       "      <th>click_num</th>\n",
       "      <th>down_num</th>\n",
       "      <th>pv</th>\n",
       "      <th>create_role_num</th>\n",
       "      <th>user_id</th>\n",
       "      <th>cp_server_no</th>\n",
       "      <th>cp_role_id</th>\n",
       "      <th>role_created_login_num</th>\n",
       "      <th>role_created_active</th>\n",
       "      <th>role_created_online</th>\n",
       "      <th>max_role_level</th>\n",
       "      <th>ip_num</th>\n",
       "      <th>pay_num</th>\n",
       "      <th>pay_sum</th>\n",
       "      <th>active_0-8</th>\n",
       "      <th>active_8-12</th>\n",
       "      <th>active_12-14</th>\n",
       "      <th>active_14-18</th>\n",
       "      <th>active_18-24</th>\n",
       "      <th>pay_grade_1</th>\n",
       "      <th>pay_grade_2</th>\n",
       "      <th>pay_grade_3</th>\n",
       "      <th>pay_grade_4</th>\n",
       "      <th>pay_grade_5</th>\n",
       "      <th>pay_grade_6</th>\n",
       "      <th>pay_rate</th>\n",
       "      <th>pay_avg</th>\n",
       "      <th>role_created_30_pay_sum</th>\n",
       "      <th>cpc</th>\n",
       "      <th>source_pay_sum</th>\n",
       "      <th>b_r</th>\n",
       "      <th>m_r</th>\n",
       "      <th>s_r</th>\n",
       "      <th>rubbish</th>\n",
       "      <th>common</th>\n",
       "    </tr>\n",
       "  </thead>\n",
       "  <tbody>\n",
       "    <tr>\n",
       "      <th>0</th>\n",
       "      <td>20953</td>\n",
       "      <td>252731</td>\n",
       "      <td>2020-01-02</td>\n",
       "      <td>2020-01-02</td>\n",
       "      <td>1562.56</td>\n",
       "      <td>1562.56</td>\n",
       "      <td>1552.0</td>\n",
       "      <td>55.0</td>\n",
       "      <td>53605.0</td>\n",
       "      <td>51.0</td>\n",
       "      <td>100261967</td>\n",
       "      <td>660192</td>\n",
       "      <td>13814061</td>\n",
       "      <td>1.0</td>\n",
       "      <td>1.0</td>\n",
       "      <td>0.0</td>\n",
       "      <td>1.0</td>\n",
       "      <td>1.0</td>\n",
       "      <td>0.0</td>\n",
       "      <td>0.0</td>\n",
       "      <td>0.0</td>\n",
       "      <td>0.0</td>\n",
       "      <td>0.0</td>\n",
       "      <td>1.0</td>\n",
       "      <td>0.0</td>\n",
       "      <td>0.0</td>\n",
       "      <td>0.0</td>\n",
       "      <td>0.0</td>\n",
       "      <td>0.0</td>\n",
       "      <td>0.0</td>\n",
       "      <td>0.0</td>\n",
       "      <td>0.0</td>\n",
       "      <td>0.0</td>\n",
       "      <td>0.0</td>\n",
       "      <td>30.638371</td>\n",
       "      <td>0.0</td>\n",
       "      <td>0</td>\n",
       "      <td>0</td>\n",
       "      <td>0</td>\n",
       "      <td>1</td>\n",
       "      <td>0</td>\n",
       "    </tr>\n",
       "    <tr>\n",
       "      <th>1</th>\n",
       "      <td>20953</td>\n",
       "      <td>252731</td>\n",
       "      <td>2020-01-02</td>\n",
       "      <td>2020-01-02</td>\n",
       "      <td>1562.56</td>\n",
       "      <td>1562.56</td>\n",
       "      <td>1552.0</td>\n",
       "      <td>55.0</td>\n",
       "      <td>53605.0</td>\n",
       "      <td>51.0</td>\n",
       "      <td>100262535</td>\n",
       "      <td>660191</td>\n",
       "      <td>13814172</td>\n",
       "      <td>40.0</td>\n",
       "      <td>3.0</td>\n",
       "      <td>50265.0</td>\n",
       "      <td>57.0</td>\n",
       "      <td>2.0</td>\n",
       "      <td>0.0</td>\n",
       "      <td>0.0</td>\n",
       "      <td>68.0</td>\n",
       "      <td>33.0</td>\n",
       "      <td>7.0</td>\n",
       "      <td>27.0</td>\n",
       "      <td>44.0</td>\n",
       "      <td>0.0</td>\n",
       "      <td>0.0</td>\n",
       "      <td>0.0</td>\n",
       "      <td>0.0</td>\n",
       "      <td>0.0</td>\n",
       "      <td>0.0</td>\n",
       "      <td>0.0</td>\n",
       "      <td>0.0</td>\n",
       "      <td>0.0</td>\n",
       "      <td>30.638371</td>\n",
       "      <td>0.0</td>\n",
       "      <td>0</td>\n",
       "      <td>0</td>\n",
       "      <td>0</td>\n",
       "      <td>0</td>\n",
       "      <td>1</td>\n",
       "    </tr>\n",
       "    <tr>\n",
       "      <th>2</th>\n",
       "      <td>20953</td>\n",
       "      <td>252731</td>\n",
       "      <td>2020-01-02</td>\n",
       "      <td>2020-01-02</td>\n",
       "      <td>1562.56</td>\n",
       "      <td>1562.56</td>\n",
       "      <td>1552.0</td>\n",
       "      <td>55.0</td>\n",
       "      <td>53605.0</td>\n",
       "      <td>51.0</td>\n",
       "      <td>100262535</td>\n",
       "      <td>660192</td>\n",
       "      <td>13814172</td>\n",
       "      <td>27.0</td>\n",
       "      <td>3.0</td>\n",
       "      <td>46271.0</td>\n",
       "      <td>57.0</td>\n",
       "      <td>2.0</td>\n",
       "      <td>0.0</td>\n",
       "      <td>0.0</td>\n",
       "      <td>35.0</td>\n",
       "      <td>16.0</td>\n",
       "      <td>0.0</td>\n",
       "      <td>27.0</td>\n",
       "      <td>68.0</td>\n",
       "      <td>0.0</td>\n",
       "      <td>0.0</td>\n",
       "      <td>0.0</td>\n",
       "      <td>0.0</td>\n",
       "      <td>0.0</td>\n",
       "      <td>0.0</td>\n",
       "      <td>0.0</td>\n",
       "      <td>0.0</td>\n",
       "      <td>0.0</td>\n",
       "      <td>30.638371</td>\n",
       "      <td>0.0</td>\n",
       "      <td>0</td>\n",
       "      <td>0</td>\n",
       "      <td>0</td>\n",
       "      <td>0</td>\n",
       "      <td>1</td>\n",
       "    </tr>\n",
       "    <tr>\n",
       "      <th>3</th>\n",
       "      <td>20953</td>\n",
       "      <td>252731</td>\n",
       "      <td>2020-01-02</td>\n",
       "      <td>2020-01-02</td>\n",
       "      <td>1562.56</td>\n",
       "      <td>1562.56</td>\n",
       "      <td>1552.0</td>\n",
       "      <td>55.0</td>\n",
       "      <td>53605.0</td>\n",
       "      <td>51.0</td>\n",
       "      <td>100262535</td>\n",
       "      <td>660193</td>\n",
       "      <td>13814172</td>\n",
       "      <td>19.0</td>\n",
       "      <td>3.0</td>\n",
       "      <td>25424.0</td>\n",
       "      <td>54.0</td>\n",
       "      <td>2.0</td>\n",
       "      <td>0.0</td>\n",
       "      <td>0.0</td>\n",
       "      <td>14.0</td>\n",
       "      <td>12.0</td>\n",
       "      <td>18.0</td>\n",
       "      <td>15.0</td>\n",
       "      <td>21.0</td>\n",
       "      <td>0.0</td>\n",
       "      <td>0.0</td>\n",
       "      <td>0.0</td>\n",
       "      <td>0.0</td>\n",
       "      <td>0.0</td>\n",
       "      <td>0.0</td>\n",
       "      <td>0.0</td>\n",
       "      <td>0.0</td>\n",
       "      <td>0.0</td>\n",
       "      <td>30.638371</td>\n",
       "      <td>0.0</td>\n",
       "      <td>0</td>\n",
       "      <td>0</td>\n",
       "      <td>0</td>\n",
       "      <td>0</td>\n",
       "      <td>1</td>\n",
       "    </tr>\n",
       "    <tr>\n",
       "      <th>4</th>\n",
       "      <td>20953</td>\n",
       "      <td>252731</td>\n",
       "      <td>2020-01-02</td>\n",
       "      <td>2020-01-02</td>\n",
       "      <td>1562.56</td>\n",
       "      <td>1562.56</td>\n",
       "      <td>1552.0</td>\n",
       "      <td>55.0</td>\n",
       "      <td>53605.0</td>\n",
       "      <td>51.0</td>\n",
       "      <td>100268013</td>\n",
       "      <td>660192</td>\n",
       "      <td>13815011</td>\n",
       "      <td>1.0</td>\n",
       "      <td>1.0</td>\n",
       "      <td>0.0</td>\n",
       "      <td>1.0</td>\n",
       "      <td>1.0</td>\n",
       "      <td>0.0</td>\n",
       "      <td>0.0</td>\n",
       "      <td>0.0</td>\n",
       "      <td>0.0</td>\n",
       "      <td>0.0</td>\n",
       "      <td>0.0</td>\n",
       "      <td>1.0</td>\n",
       "      <td>0.0</td>\n",
       "      <td>0.0</td>\n",
       "      <td>0.0</td>\n",
       "      <td>0.0</td>\n",
       "      <td>0.0</td>\n",
       "      <td>0.0</td>\n",
       "      <td>0.0</td>\n",
       "      <td>0.0</td>\n",
       "      <td>0.0</td>\n",
       "      <td>30.638371</td>\n",
       "      <td>0.0</td>\n",
       "      <td>0</td>\n",
       "      <td>0</td>\n",
       "      <td>0</td>\n",
       "      <td>1</td>\n",
       "      <td>0</td>\n",
       "    </tr>\n",
       "  </tbody>\n",
       "</table>\n",
       "</div>"
      ],
      "text/plain": [
       "   channel_id  source_id create_time    reg_date   amount  paper_use_amount  \\\n",
       "0       20953     252731  2020-01-02  2020-01-02  1562.56           1562.56   \n",
       "1       20953     252731  2020-01-02  2020-01-02  1562.56           1562.56   \n",
       "2       20953     252731  2020-01-02  2020-01-02  1562.56           1562.56   \n",
       "3       20953     252731  2020-01-02  2020-01-02  1562.56           1562.56   \n",
       "4       20953     252731  2020-01-02  2020-01-02  1562.56           1562.56   \n",
       "\n",
       "   click_num  down_num       pv  create_role_num    user_id cp_server_no  \\\n",
       "0     1552.0      55.0  53605.0             51.0  100261967       660192   \n",
       "1     1552.0      55.0  53605.0             51.0  100262535       660191   \n",
       "2     1552.0      55.0  53605.0             51.0  100262535       660192   \n",
       "3     1552.0      55.0  53605.0             51.0  100262535       660193   \n",
       "4     1552.0      55.0  53605.0             51.0  100268013       660192   \n",
       "\n",
       "  cp_role_id  role_created_login_num  role_created_active  \\\n",
       "0   13814061                     1.0                  1.0   \n",
       "1   13814172                    40.0                  3.0   \n",
       "2   13814172                    27.0                  3.0   \n",
       "3   13814172                    19.0                  3.0   \n",
       "4   13815011                     1.0                  1.0   \n",
       "\n",
       "   role_created_online  max_role_level  ip_num  pay_num  pay_sum  active_0-8  \\\n",
       "0                  0.0             1.0     1.0      0.0      0.0         0.0   \n",
       "1              50265.0            57.0     2.0      0.0      0.0        68.0   \n",
       "2              46271.0            57.0     2.0      0.0      0.0        35.0   \n",
       "3              25424.0            54.0     2.0      0.0      0.0        14.0   \n",
       "4                  0.0             1.0     1.0      0.0      0.0         0.0   \n",
       "\n",
       "   active_8-12  active_12-14  active_14-18  active_18-24  pay_grade_1  \\\n",
       "0          0.0           0.0           1.0           0.0          0.0   \n",
       "1         33.0           7.0          27.0          44.0          0.0   \n",
       "2         16.0           0.0          27.0          68.0          0.0   \n",
       "3         12.0          18.0          15.0          21.0          0.0   \n",
       "4          0.0           0.0           0.0           1.0          0.0   \n",
       "\n",
       "   pay_grade_2  pay_grade_3  pay_grade_4  pay_grade_5  pay_grade_6  pay_rate  \\\n",
       "0          0.0          0.0          0.0          0.0          0.0       0.0   \n",
       "1          0.0          0.0          0.0          0.0          0.0       0.0   \n",
       "2          0.0          0.0          0.0          0.0          0.0       0.0   \n",
       "3          0.0          0.0          0.0          0.0          0.0       0.0   \n",
       "4          0.0          0.0          0.0          0.0          0.0       0.0   \n",
       "\n",
       "   pay_avg  role_created_30_pay_sum        cpc  source_pay_sum  b_r  m_r  s_r  \\\n",
       "0      0.0                      0.0  30.638371             0.0    0    0    0   \n",
       "1      0.0                      0.0  30.638371             0.0    0    0    0   \n",
       "2      0.0                      0.0  30.638371             0.0    0    0    0   \n",
       "3      0.0                      0.0  30.638371             0.0    0    0    0   \n",
       "4      0.0                      0.0  30.638371             0.0    0    0    0   \n",
       "\n",
       "   rubbish  common  \n",
       "0        1       0  \n",
       "1        0       1  \n",
       "2        0       1  \n",
       "3        0       1  \n",
       "4        1       0  "
      ]
     },
     "execution_count": 58,
     "metadata": {},
     "output_type": "execute_result"
    }
   ],
   "source": [
    "data_amount_y.head()"
   ]
  },
  {
   "cell_type": "code",
   "execution_count": 28,
   "metadata": {},
   "outputs": [],
   "source": [
    "# 统计cpc(计划创角成本)\n",
    "data_amount_y['cpc'] = data_amount_y['amount']/(data_amount_y['create_role_num']+1e-4)"
   ]
  },
  {
   "cell_type": "code",
   "execution_count": 29,
   "metadata": {},
   "outputs": [],
   "source": [
    "# 统计每条计划的30天回款source_pay_sum\n",
    "group_1 = data_amount_y.groupby(['channel_id','source_id','reg_date'])\n",
    "temp = group_1['role_created_30_pay_sum'].agg([('source_pay_sum', 'sum')]).reset_index()\n",
    "data_amount_y = pd.merge(data_amount_y,temp,on=['channel_id','source_id','reg_date'],how='left',validate='many_to_one')"
   ]
  },
  {
   "cell_type": "code",
   "execution_count": 35,
   "metadata": {},
   "outputs": [],
   "source": [
    "data_amount_y['b_r'] = (data_amount_y['role_created_30_pay_sum']>=2000).astype(int)\n",
    "data_amount_y['m_r'] = ((data_amount_y['role_created_30_pay_sum']<2000) & (data_amount_y['role_created_30_pay_sum']>=100)).astype(int)\n",
    "data_amount_y['s_r'] = ((data_amount_y['role_created_30_pay_sum']<100) & (data_amount_y['role_created_30_pay_sum']>0)).astype(int)"
   ]
  },
  {
   "cell_type": "code",
   "execution_count": 53,
   "metadata": {},
   "outputs": [],
   "source": [
    "data_amount_y['rubbish'] = ((data_amount_y['role_created_online']<=600) & (data_amount_y['role_created_login_num']<=2)&\n",
    "                            (data_amount_y['max_role_level']<=5)&(data_amount_y['role_created_30_pay_sum']==0)).astype(int)\n",
    "data_amount_y['common'] = (~((data_amount_y['role_created_online']<=600) & (data_amount_y['role_created_login_num']<=2)&\n",
    "                (data_amount_y['max_role_level']<=5)) &(data_amount_y['role_created_30_pay_sum']==0)).astype(int)"
   ]
  },
  {
   "cell_type": "code",
   "execution_count": 108,
   "metadata": {},
   "outputs": [],
   "source": [
    "data_amount_y.to_pickle('./data_amount_y.pkl')"
   ]
  },
  {
   "cell_type": "code",
   "execution_count": 54,
   "metadata": {},
   "outputs": [
    {
     "name": "stdout",
     "output_type": "stream",
     "text": [
      "4773\n",
      "30330\n",
      "36002\n",
      "2023913\n",
      "1533004\n"
     ]
    }
   ],
   "source": [
    "print(data_amount_y['b_r'].sum())\n",
    "print(data_amount_y['m_r'].sum())\n",
    "print(data_amount_y['s_r'].sum())\n",
    "print(data_amount_y['rubbish'].sum())\n",
    "print(data_amount_y['common'].sum())"
   ]
  },
  {
   "cell_type": "code",
   "execution_count": 59,
   "metadata": {},
   "outputs": [
    {
     "name": "stdout",
     "output_type": "stream",
     "text": [
      "0.0013155929043429174\n",
      "0.008359927255126898\n",
      "0.009923313585198767\n",
      "0.5578557682395531\n",
      "0.4225453980157783\n"
     ]
    }
   ],
   "source": [
    "print(data_amount_y['b_r'].sum()/data_amount_y.shape[0])\n",
    "print(data_amount_y['m_r'].sum()/data_amount_y.shape[0])\n",
    "print(data_amount_y['s_r'].sum()/data_amount_y.shape[0])\n",
    "print(data_amount_y['rubbish'].sum()/data_amount_y.shape[0])\n",
    "print(data_amount_y['common'].sum()/data_amount_y.shape[0])"
   ]
  },
  {
   "cell_type": "code",
   "execution_count": 61,
   "metadata": {},
   "outputs": [
    {
     "data": {
      "image/png": "[encoded data removed]",
      "text/plain": [
       "<Figure size 360x360 with 1 Axes>"
      ]
     },
     "metadata": {
      "needs_background": "light"
     },
     "output_type": "display_data"
    }
   ],
   "source": [
    "plt.figure(figsize=(5,5))\n",
    "plt.hist(data_amount_y['amount'],bins=100,range=(0,100000))\n",
    "plt.show()"
   ]
  },
  {
   "cell_type": "code",
   "execution_count": 63,
   "metadata": {},
   "outputs": [],
   "source": [
    "source_grade_1 = data_amount_y[data_amount_y['amount']>=30000]\n",
    "source_grade_2 = data_amount_y[(data_amount_y['amount']<30000)&(data_amount_y['amount']>=10000)]\n",
    "source_grade_3 = data_amount_y[(data_amount_y['amount']<10000)&(data_amount_y['amount']>=2000)]\n",
    "source_grade_4 = data_amount_y[(data_amount_y['amount']<2000)&(data_amount_y['amount']>=500)]\n",
    "source_grade_5 = data_amount_y[data_amount_y['amount']<500]"
   ]
  },
  {
   "cell_type": "code",
   "execution_count": 68,
   "metadata": {},
   "outputs": [
    {
     "name": "stdout",
     "output_type": "stream",
     "text": [
      "0.0017201065498226003\n",
      "0.010083079826581584\n",
      "0.01131486968323204\n",
      "0.5333980023008075\n",
      "0.4434839416395563\n"
     ]
    }
   ],
   "source": [
    "# source_grade_1的用户质量分布\n",
    "b_r = source_grade_1['b_r'].sum()/source_grade_1.shape[0]\n",
    "m_r = source_grade_1['m_r'].sum()/source_grade_1.shape[0]\n",
    "s_r = source_grade_1['s_r'].sum()/source_grade_1.shape[0]\n",
    "rubbish = source_grade_1['rubbish'].sum()/source_grade_1.shape[0]\n",
    "common = source_grade_1['common'].sum()/source_grade_1.shape[0]\n",
    "print(source_grade_1['b_r'].sum()/source_grade_1.shape[0])\n",
    "print(source_grade_1['m_r'].sum()/source_grade_1.shape[0])\n",
    "print(source_grade_1['s_r'].sum()/source_grade_1.shape[0])\n",
    "print(source_grade_1['rubbish'].sum()/source_grade_1.shape[0])\n",
    "print(source_grade_1['common'].sum()/source_grade_1.shape[0])"
   ]
  },
  {
   "cell_type": "code",
   "execution_count": 90,
   "metadata": {},
   "outputs": [
    {
     "data": {
      "image/png": "[encoded data removed]",
      "text/plain": [
       "<Figure size 432x288 with 1 Axes>"
      ]
     },
     "metadata": {},
     "output_type": "display_data"
    }
   ],
   "source": [
    "label_list = ['b_r','m_r','s_r','rubbish','common']\n",
    "size = [b_r,m_r,s_r,rubbish,common]\n",
    "plt.pie(size,labels=label_list,autopct=\"%1.1f%%\",startangle=90,pctdistance=0.6)\n",
    "plt.show()"
   ]
  },
  {
   "cell_type": "code",
   "execution_count": 74,
   "metadata": {},
   "outputs": [
    {
     "name": "stdout",
     "output_type": "stream",
     "text": [
      "0.0015277103400904999\n",
      "0.00920286679851557\n",
      "0.010667057117418374\n",
      "0.5384602962186208\n",
      "0.44014206952535473\n"
     ]
    },
    {
     "data": {
      "image/png": "[encoded data removed]",
      "text/plain": [
       "<Figure size 432x288 with 1 Axes>"
      ]
     },
     "metadata": {},
     "output_type": "display_data"
    }
   ],
   "source": [
    "# source_grade_2的用户质量分布\n",
    "b_r_2 = source_grade_2['b_r'].sum()/source_grade_2.shape[0]\n",
    "m_r_2 = source_grade_2['m_r'].sum()/source_grade_2.shape[0]\n",
    "s_r_2 = source_grade_2['s_r'].sum()/source_grade_2.shape[0]\n",
    "rubbish_2 = source_grade_2['rubbish'].sum()/source_grade_2.shape[0]\n",
    "common_2 = source_grade_2['common'].sum()/source_grade_2.shape[0]\n",
    "print(b_r_2)\n",
    "print(m_r_2)\n",
    "print(s_r_2)\n",
    "print(rubbish_2)\n",
    "print(common_2)\n",
    "label_list = ['b_r','m_r','s_r','rubbish','common']\n",
    "size = [b_r_2, m_r_2, s_r_2, rubbish_2, common_2]\n",
    "plt.pie(size,labels=label_list,autopct=\"%1.1f%%\",startangle=90,pctdistance=0.6)\n",
    "plt.show()"
   ]
  },
  {
   "cell_type": "code",
   "execution_count": 75,
   "metadata": {},
   "outputs": [
    {
     "name": "stdout",
     "output_type": "stream",
     "text": [
      "0.0012066204852786268\n",
      "0.008135035311748503\n",
      "0.00975371669274978\n",
      "0.5768369891923003\n",
      "0.4040676383179228\n"
     ]
    },
    {
     "data": {
      "image/png": "[encoded data removed]",
      "text/plain": [
       "<Figure size 432x288 with 1 Axes>"
      ]
     },
     "metadata": {},
     "output_type": "display_data"
    }
   ],
   "source": [
    "# source_grade_3的用户质量分布\n",
    "b_r_3 = source_grade_3['b_r'].sum()/source_grade_3.shape[0]\n",
    "m_r_3 = source_grade_3['m_r'].sum()/source_grade_3.shape[0]\n",
    "s_r_3 = source_grade_3['s_r'].sum()/source_grade_3.shape[0]\n",
    "rubbish_3 = source_grade_3['rubbish'].sum()/source_grade_3.shape[0]\n",
    "common_3 = source_grade_3['common'].sum()/source_grade_3.shape[0]\n",
    "print(b_r_3)\n",
    "print(m_r_3)\n",
    "print(s_r_3)\n",
    "print(rubbish_3)\n",
    "print(common_3)\n",
    "label_list = ['b_r','m_r','s_r','rubbish','common']\n",
    "size = [b_r_3, m_r_3, s_r_3, rubbish_3, common_3]\n",
    "plt.pie(size,labels=label_list,autopct=\"%1.1f%%\",startangle=90,pctdistance=0.6)\n",
    "plt.show()"
   ]
  },
  {
   "cell_type": "code",
   "execution_count": 76,
   "metadata": {},
   "outputs": [
    {
     "name": "stdout",
     "output_type": "stream",
     "text": [
      "0.0009479708272281951\n",
      "0.006223634561367716\n",
      "0.008090724929778031\n",
      "0.561037986839692\n",
      "0.4236996828419341\n"
     ]
    },
    {
     "data": {
      "image/png": "[encoded data removed]",
      "text/plain": [
       "<Figure size 432x288 with 1 Axes>"
      ]
     },
     "metadata": {},
     "output_type": "display_data"
    }
   ],
   "source": [
    "# source_grade_4的用户质量分布\n",
    "b_r_4 = source_grade_4['b_r'].sum()/source_grade_4.shape[0]\n",
    "m_r_4 = source_grade_4['m_r'].sum()/source_grade_4.shape[0]\n",
    "s_r_4 = source_grade_4['s_r'].sum()/source_grade_4.shape[0]\n",
    "rubbish_4 = source_grade_4['rubbish'].sum()/source_grade_4.shape[0]\n",
    "common_4 = source_grade_4['common'].sum()/source_grade_4.shape[0]\n",
    "print(b_r_4)\n",
    "print(m_r_4)\n",
    "print(s_r_4)\n",
    "print(rubbish_4)\n",
    "print(common_4)\n",
    "label_list = ['b_r','m_r','s_r','rubbish','common']\n",
    "size = [b_r_4, m_r_4, s_r_4, rubbish_4, common_4]\n",
    "plt.pie(size,labels=label_list,autopct=\"%1.1f%%\",startangle=90,pctdistance=0.6)\n",
    "plt.show()"
   ]
  },
  {
   "cell_type": "code",
   "execution_count": 77,
   "metadata": {},
   "outputs": [
    {
     "name": "stdout",
     "output_type": "stream",
     "text": [
      "0.0011003153582410674\n",
      "0.006818025523386614\n",
      "0.008419377339398166\n",
      "0.5198204128147442\n",
      "0.4638418689642299\n"
     ]
    },
    {
     "data": {
      "image/png": "[encoded data removed]",
      "text/plain": [
       "<Figure size 432x288 with 1 Axes>"
      ]
     },
     "metadata": {},
     "output_type": "display_data"
    }
   ],
   "source": [
    "# source_grade_5的用户质量分布\n",
    "b_r_5 = source_grade_5['b_r'].sum()/source_grade_5.shape[0]\n",
    "m_r_5 = source_grade_5['m_r'].sum()/source_grade_5.shape[0]\n",
    "s_r_5 = source_grade_5['s_r'].sum()/source_grade_5.shape[0]\n",
    "rubbish_5 = source_grade_5['rubbish'].sum()/source_grade_5.shape[0]\n",
    "common_5 = source_grade_5['common'].sum()/source_grade_5.shape[0]\n",
    "print(b_r_5)\n",
    "print(m_r_5)\n",
    "print(s_r_5)\n",
    "print(rubbish_5)\n",
    "print(common_5)\n",
    "label_list = ['b_r','m_r','s_r','rubbish','common']\n",
    "size = [b_r_5, m_r_5, s_r_5, rubbish_5, common_5]\n",
    "plt.pie(size,labels=label_list,autopct=\"%1.1f%%\",startangle=90,pctdistance=0.6)\n",
    "plt.show()"
   ]
  },
  {
   "cell_type": "code",
   "execution_count": 65,
   "metadata": {},
   "outputs": [
    {
     "name": "stdout",
     "output_type": "stream",
     "text": [
      "0.1253087770691578\n",
      "0.25601856879588936\n",
      "0.45686657908910144\n",
      "0.1337497402165698\n",
      "0.02805633482928163\n"
     ]
    }
   ],
   "source": [
    "print(source_grade_1.shape[0]/data_amount_y.shape[0])\n",
    "print(source_grade_2.shape[0]/data_amount_y.shape[0])\n",
    "print(source_grade_3.shape[0]/data_amount_y.shape[0])\n",
    "print(source_grade_4.shape[0]/data_amount_y.shape[0])\n",
    "print(source_grade_5.shape[0]/data_amount_y.shape[0])"
   ]
  },
  {
   "cell_type": "code",
   "execution_count": 78,
   "metadata": {},
   "outputs": [
    {
     "data": {
      "text/html": [
       "<div>\n",
       "<style scoped>\n",
       "    .dataframe tbody tr th:only-of-type {\n",
       "        vertical-align: middle;\n",
       "    }\n",
       "\n",
       "    .dataframe tbody tr th {\n",
       "        vertical-align: top;\n",
       "    }\n",
       "\n",
       "    .dataframe thead th {\n",
       "        text-align: right;\n",
       "    }\n",
       "</style>\n",
       "<table border=\"1\" class=\"dataframe\">\n",
       "  <thead>\n",
       "    <tr style=\"text-align: right;\">\n",
       "      <th></th>\n",
       "      <th>channel_id</th>\n",
       "      <th>source_id</th>\n",
       "      <th>create_time</th>\n",
       "      <th>reg_date</th>\n",
       "      <th>amount</th>\n",
       "      <th>paper_use_amount</th>\n",
       "      <th>click_num</th>\n",
       "      <th>down_num</th>\n",
       "      <th>pv</th>\n",
       "      <th>create_role_num</th>\n",
       "      <th>user_id</th>\n",
       "      <th>cp_server_no</th>\n",
       "      <th>cp_role_id</th>\n",
       "      <th>role_created_login_num</th>\n",
       "      <th>role_created_active</th>\n",
       "      <th>role_created_online</th>\n",
       "      <th>max_role_level</th>\n",
       "      <th>ip_num</th>\n",
       "      <th>pay_num</th>\n",
       "      <th>pay_sum</th>\n",
       "      <th>active_0-8</th>\n",
       "      <th>active_8-12</th>\n",
       "      <th>active_12-14</th>\n",
       "      <th>active_14-18</th>\n",
       "      <th>active_18-24</th>\n",
       "      <th>pay_grade_1</th>\n",
       "      <th>pay_grade_2</th>\n",
       "      <th>pay_grade_3</th>\n",
       "      <th>pay_grade_4</th>\n",
       "      <th>pay_grade_5</th>\n",
       "      <th>pay_grade_6</th>\n",
       "      <th>pay_rate</th>\n",
       "      <th>pay_avg</th>\n",
       "      <th>role_created_30_pay_sum</th>\n",
       "      <th>cpc</th>\n",
       "      <th>source_pay_sum</th>\n",
       "      <th>b_r</th>\n",
       "      <th>m_r</th>\n",
       "      <th>s_r</th>\n",
       "      <th>rubbish</th>\n",
       "      <th>common</th>\n",
       "    </tr>\n",
       "  </thead>\n",
       "  <tbody>\n",
       "    <tr>\n",
       "      <th>0</th>\n",
       "      <td>20953</td>\n",
       "      <td>252731</td>\n",
       "      <td>2020-01-02</td>\n",
       "      <td>2020-01-02</td>\n",
       "      <td>1562.56</td>\n",
       "      <td>1562.56</td>\n",
       "      <td>1552.0</td>\n",
       "      <td>55.0</td>\n",
       "      <td>53605.0</td>\n",
       "      <td>51.0</td>\n",
       "      <td>100261967</td>\n",
       "      <td>660192</td>\n",
       "      <td>13814061</td>\n",
       "      <td>1.0</td>\n",
       "      <td>1.0</td>\n",
       "      <td>0.0</td>\n",
       "      <td>1.0</td>\n",
       "      <td>1.0</td>\n",
       "      <td>0.0</td>\n",
       "      <td>0.0</td>\n",
       "      <td>0.0</td>\n",
       "      <td>0.0</td>\n",
       "      <td>0.0</td>\n",
       "      <td>1.0</td>\n",
       "      <td>0.0</td>\n",
       "      <td>0.0</td>\n",
       "      <td>0.0</td>\n",
       "      <td>0.0</td>\n",
       "      <td>0.0</td>\n",
       "      <td>0.0</td>\n",
       "      <td>0.0</td>\n",
       "      <td>0.0</td>\n",
       "      <td>0.0</td>\n",
       "      <td>0.0</td>\n",
       "      <td>30.638371</td>\n",
       "      <td>0.0</td>\n",
       "      <td>0</td>\n",
       "      <td>0</td>\n",
       "      <td>0</td>\n",
       "      <td>1</td>\n",
       "      <td>0</td>\n",
       "    </tr>\n",
       "    <tr>\n",
       "      <th>1</th>\n",
       "      <td>20953</td>\n",
       "      <td>252731</td>\n",
       "      <td>2020-01-02</td>\n",
       "      <td>2020-01-02</td>\n",
       "      <td>1562.56</td>\n",
       "      <td>1562.56</td>\n",
       "      <td>1552.0</td>\n",
       "      <td>55.0</td>\n",
       "      <td>53605.0</td>\n",
       "      <td>51.0</td>\n",
       "      <td>100262535</td>\n",
       "      <td>660191</td>\n",
       "      <td>13814172</td>\n",
       "      <td>40.0</td>\n",
       "      <td>3.0</td>\n",
       "      <td>50265.0</td>\n",
       "      <td>57.0</td>\n",
       "      <td>2.0</td>\n",
       "      <td>0.0</td>\n",
       "      <td>0.0</td>\n",
       "      <td>68.0</td>\n",
       "      <td>33.0</td>\n",
       "      <td>7.0</td>\n",
       "      <td>27.0</td>\n",
       "      <td>44.0</td>\n",
       "      <td>0.0</td>\n",
       "      <td>0.0</td>\n",
       "      <td>0.0</td>\n",
       "      <td>0.0</td>\n",
       "      <td>0.0</td>\n",
       "      <td>0.0</td>\n",
       "      <td>0.0</td>\n",
       "      <td>0.0</td>\n",
       "      <td>0.0</td>\n",
       "      <td>30.638371</td>\n",
       "      <td>0.0</td>\n",
       "      <td>0</td>\n",
       "      <td>0</td>\n",
       "      <td>0</td>\n",
       "      <td>0</td>\n",
       "      <td>1</td>\n",
       "    </tr>\n",
       "    <tr>\n",
       "      <th>2</th>\n",
       "      <td>20953</td>\n",
       "      <td>252731</td>\n",
       "      <td>2020-01-02</td>\n",
       "      <td>2020-01-02</td>\n",
       "      <td>1562.56</td>\n",
       "      <td>1562.56</td>\n",
       "      <td>1552.0</td>\n",
       "      <td>55.0</td>\n",
       "      <td>53605.0</td>\n",
       "      <td>51.0</td>\n",
       "      <td>100262535</td>\n",
       "      <td>660192</td>\n",
       "      <td>13814172</td>\n",
       "      <td>27.0</td>\n",
       "      <td>3.0</td>\n",
       "      <td>46271.0</td>\n",
       "      <td>57.0</td>\n",
       "      <td>2.0</td>\n",
       "      <td>0.0</td>\n",
       "      <td>0.0</td>\n",
       "      <td>35.0</td>\n",
       "      <td>16.0</td>\n",
       "      <td>0.0</td>\n",
       "      <td>27.0</td>\n",
       "      <td>68.0</td>\n",
       "      <td>0.0</td>\n",
       "      <td>0.0</td>\n",
       "      <td>0.0</td>\n",
       "      <td>0.0</td>\n",
       "      <td>0.0</td>\n",
       "      <td>0.0</td>\n",
       "      <td>0.0</td>\n",
       "      <td>0.0</td>\n",
       "      <td>0.0</td>\n",
       "      <td>30.638371</td>\n",
       "      <td>0.0</td>\n",
       "      <td>0</td>\n",
       "      <td>0</td>\n",
       "      <td>0</td>\n",
       "      <td>0</td>\n",
       "      <td>1</td>\n",
       "    </tr>\n",
       "    <tr>\n",
       "      <th>3</th>\n",
       "      <td>20953</td>\n",
       "      <td>252731</td>\n",
       "      <td>2020-01-02</td>\n",
       "      <td>2020-01-02</td>\n",
       "      <td>1562.56</td>\n",
       "      <td>1562.56</td>\n",
       "      <td>1552.0</td>\n",
       "      <td>55.0</td>\n",
       "      <td>53605.0</td>\n",
       "      <td>51.0</td>\n",
       "      <td>100262535</td>\n",
       "      <td>660193</td>\n",
       "      <td>13814172</td>\n",
       "      <td>19.0</td>\n",
       "      <td>3.0</td>\n",
       "      <td>25424.0</td>\n",
       "      <td>54.0</td>\n",
       "      <td>2.0</td>\n",
       "      <td>0.0</td>\n",
       "      <td>0.0</td>\n",
       "      <td>14.0</td>\n",
       "      <td>12.0</td>\n",
       "      <td>18.0</td>\n",
       "      <td>15.0</td>\n",
       "      <td>21.0</td>\n",
       "      <td>0.0</td>\n",
       "      <td>0.0</td>\n",
       "      <td>0.0</td>\n",
       "      <td>0.0</td>\n",
       "      <td>0.0</td>\n",
       "      <td>0.0</td>\n",
       "      <td>0.0</td>\n",
       "      <td>0.0</td>\n",
       "      <td>0.0</td>\n",
       "      <td>30.638371</td>\n",
       "      <td>0.0</td>\n",
       "      <td>0</td>\n",
       "      <td>0</td>\n",
       "      <td>0</td>\n",
       "      <td>0</td>\n",
       "      <td>1</td>\n",
       "    </tr>\n",
       "    <tr>\n",
       "      <th>4</th>\n",
       "      <td>20953</td>\n",
       "      <td>252731</td>\n",
       "      <td>2020-01-02</td>\n",
       "      <td>2020-01-02</td>\n",
       "      <td>1562.56</td>\n",
       "      <td>1562.56</td>\n",
       "      <td>1552.0</td>\n",
       "      <td>55.0</td>\n",
       "      <td>53605.0</td>\n",
       "      <td>51.0</td>\n",
       "      <td>100268013</td>\n",
       "      <td>660192</td>\n",
       "      <td>13815011</td>\n",
       "      <td>1.0</td>\n",
       "      <td>1.0</td>\n",
       "      <td>0.0</td>\n",
       "      <td>1.0</td>\n",
       "      <td>1.0</td>\n",
       "      <td>0.0</td>\n",
       "      <td>0.0</td>\n",
       "      <td>0.0</td>\n",
       "      <td>0.0</td>\n",
       "      <td>0.0</td>\n",
       "      <td>0.0</td>\n",
       "      <td>1.0</td>\n",
       "      <td>0.0</td>\n",
       "      <td>0.0</td>\n",
       "      <td>0.0</td>\n",
       "      <td>0.0</td>\n",
       "      <td>0.0</td>\n",
       "      <td>0.0</td>\n",
       "      <td>0.0</td>\n",
       "      <td>0.0</td>\n",
       "      <td>0.0</td>\n",
       "      <td>30.638371</td>\n",
       "      <td>0.0</td>\n",
       "      <td>0</td>\n",
       "      <td>0</td>\n",
       "      <td>0</td>\n",
       "      <td>1</td>\n",
       "      <td>0</td>\n",
       "    </tr>\n",
       "  </tbody>\n",
       "</table>\n",
       "</div>"
      ],
      "text/plain": [
       "   channel_id  source_id create_time    reg_date   amount  paper_use_amount  \\\n",
       "0       20953     252731  2020-01-02  2020-01-02  1562.56           1562.56   \n",
       "1       20953     252731  2020-01-02  2020-01-02  1562.56           1562.56   \n",
       "2       20953     252731  2020-01-02  2020-01-02  1562.56           1562.56   \n",
       "3       20953     252731  2020-01-02  2020-01-02  1562.56           1562.56   \n",
       "4       20953     252731  2020-01-02  2020-01-02  1562.56           1562.56   \n",
       "\n",
       "   click_num  down_num       pv  create_role_num    user_id cp_server_no  \\\n",
       "0     1552.0      55.0  53605.0             51.0  100261967       660192   \n",
       "1     1552.0      55.0  53605.0             51.0  100262535       660191   \n",
       "2     1552.0      55.0  53605.0             51.0  100262535       660192   \n",
       "3     1552.0      55.0  53605.0             51.0  100262535       660193   \n",
       "4     1552.0      55.0  53605.0             51.0  100268013       660192   \n",
       "\n",
       "  cp_role_id  role_created_login_num  role_created_active  \\\n",
       "0   13814061                     1.0                  1.0   \n",
       "1   13814172                    40.0                  3.0   \n",
       "2   13814172                    27.0                  3.0   \n",
       "3   13814172                    19.0                  3.0   \n",
       "4   13815011                     1.0                  1.0   \n",
       "\n",
       "   role_created_online  max_role_level  ip_num  pay_num  pay_sum  active_0-8  \\\n",
       "0                  0.0             1.0     1.0      0.0      0.0         0.0   \n",
       "1              50265.0            57.0     2.0      0.0      0.0        68.0   \n",
       "2              46271.0            57.0     2.0      0.0      0.0        35.0   \n",
       "3              25424.0            54.0     2.0      0.0      0.0        14.0   \n",
       "4                  0.0             1.0     1.0      0.0      0.0         0.0   \n",
       "\n",
       "   active_8-12  active_12-14  active_14-18  active_18-24  pay_grade_1  \\\n",
       "0          0.0           0.0           1.0           0.0          0.0   \n",
       "1         33.0           7.0          27.0          44.0          0.0   \n",
       "2         16.0           0.0          27.0          68.0          0.0   \n",
       "3         12.0          18.0          15.0          21.0          0.0   \n",
       "4          0.0           0.0           0.0           1.0          0.0   \n",
       "\n",
       "   pay_grade_2  pay_grade_3  pay_grade_4  pay_grade_5  pay_grade_6  pay_rate  \\\n",
       "0          0.0          0.0          0.0          0.0          0.0       0.0   \n",
       "1          0.0          0.0          0.0          0.0          0.0       0.0   \n",
       "2          0.0          0.0          0.0          0.0          0.0       0.0   \n",
       "3          0.0          0.0          0.0          0.0          0.0       0.0   \n",
       "4          0.0          0.0          0.0          0.0          0.0       0.0   \n",
       "\n",
       "   pay_avg  role_created_30_pay_sum        cpc  source_pay_sum  b_r  m_r  s_r  \\\n",
       "0      0.0                      0.0  30.638371             0.0    0    0    0   \n",
       "1      0.0                      0.0  30.638371             0.0    0    0    0   \n",
       "2      0.0                      0.0  30.638371             0.0    0    0    0   \n",
       "3      0.0                      0.0  30.638371             0.0    0    0    0   \n",
       "4      0.0                      0.0  30.638371             0.0    0    0    0   \n",
       "\n",
       "   rubbish  common  \n",
       "0        1       0  \n",
       "1        0       1  \n",
       "2        0       1  \n",
       "3        0       1  \n",
       "4        1       0  "
      ]
     },
     "execution_count": 78,
     "metadata": {},
     "output_type": "execute_result"
    }
   ],
   "source": [
    "data_amount_y.head()"
   ]
  },
  {
   "cell_type": "code",
   "execution_count": 80,
   "metadata": {},
   "outputs": [],
   "source": [
    "soure_amout_y = data_amount_y[['channel_id','source_id','create_time','reg_date','amount','paper_use_amount','click_num','down_num',\n",
    "              'create_role_num','cpc','source_pay_sum']]"
   ]
  },
  {
   "cell_type": "code",
   "execution_count": 81,
   "metadata": {},
   "outputs": [],
   "source": [
    "soure_amout_y.drop_duplicates(['channel_id','source_id','reg_date'],inplace=True)"
   ]
  },
  {
   "cell_type": "code",
   "execution_count": 82,
   "metadata": {},
   "outputs": [
    {
     "data": {
      "text/plain": [
       "(39764, 11)"
      ]
     },
     "execution_count": 82,
     "metadata": {},
     "output_type": "execute_result"
    }
   ],
   "source": [
    "soure_amout_y.shape"
   ]
  },
  {
   "cell_type": "code",
   "execution_count": 83,
   "metadata": {},
   "outputs": [],
   "source": [
    "source_grade_1_1 = soure_amout_y[soure_amout_y['amount']>=30000]\n",
    "source_grade_1_2 = soure_amout_y[(soure_amout_y['amount']<30000)&(soure_amout_y['amount']>=10000)]\n",
    "source_grade_1_3 = soure_amout_y[(soure_amout_y['amount']<10000)&(soure_amout_y['amount']>=2000)]\n",
    "source_grade_1_4 = soure_amout_y[(soure_amout_y['amount']<2000)&(soure_amout_y['amount']>=500)]\n",
    "source_grade_1_5 = soure_amout_y[soure_amout_y['amount']<500]"
   ]
  },
  {
   "cell_type": "code",
   "execution_count": 84,
   "metadata": {},
   "outputs": [
    {
     "name": "stdout",
     "output_type": "stream",
     "text": [
      "0.009028266773966401\n",
      "0.04680112664721859\n",
      "0.28226536565737853\n",
      "0.3268534352680817\n",
      "0.3350518056533548\n"
     ]
    }
   ],
   "source": [
    "print(source_grade_1_1.shape[0]/soure_amout_y.shape[0])\n",
    "print(source_grade_1_2.shape[0]/soure_amout_y.shape[0])\n",
    "print(source_grade_1_3.shape[0]/soure_amout_y.shape[0])\n",
    "print(source_grade_1_4.shape[0]/soure_amout_y.shape[0])\n",
    "print(source_grade_1_5.shape[0]/soure_amout_y.shape[0])"
   ]
  },
  {
   "cell_type": "code",
   "execution_count": 85,
   "metadata": {},
   "outputs": [
    {
     "name": "stdout",
     "output_type": "stream",
     "text": [
      "source_grade_1平均cpc: 92.59\n",
      "source_grade_2平均cpc: 102.43\n",
      "source_grade_3平均cpc: 50.23\n",
      "source_grade_4平均cpc: 71.86\n",
      "source_grade_5平均cpc: 64.34\n"
     ]
    }
   ],
   "source": [
    "print('source_grade_1平均cpc:',round(source_grade_1_1[source_grade_1_1['create_role_num']!=0]['cpc'].mean(),2))\n",
    "print('source_grade_2平均cpc:',round(source_grade_1_2[source_grade_1_2['create_role_num']!=0]['cpc'].mean(),2))\n",
    "print('source_grade_3平均cpc:',round(source_grade_1_3[source_grade_1_3['create_role_num']!=0]['cpc'].mean(),2))\n",
    "print('source_grade_4平均cpc:',round(source_grade_1_4[source_grade_1_4['create_role_num']!=0]['cpc'].mean(),2))\n",
    "print('source_grade_5平均cpc:',round(source_grade_1_5[source_grade_1_5['create_role_num']!=0]['cpc'].mean(),2))"
   ]
  },
  {
   "cell_type": "code",
   "execution_count": 86,
   "metadata": {},
   "outputs": [
    {
     "name": "stdout",
     "output_type": "stream",
     "text": [
      "source_grade_1平均30日ROI 0.53\n",
      "source_grade_2平均30日ROI 0.59\n",
      "source_grade_3平均30日ROI 0.53\n",
      "source_grade_4平均30日ROI 0.42\n",
      "source_grade_5平均30日ROI 0.51\n"
     ]
    }
   ],
   "source": [
    "print('source_grade_1平均30日ROI',round(source_grade_1_1['source_pay_sum'].sum()/source_grade_1_1['amount'].sum(),2))\n",
    "print('source_grade_2平均30日ROI',round(source_grade_1_2['source_pay_sum'].sum()/source_grade_1_2['amount'].sum(),2))\n",
    "print('source_grade_3平均30日ROI',round(source_grade_1_3['source_pay_sum'].sum()/source_grade_1_3['amount'].sum(),2))\n",
    "print('source_grade_4平均30日ROI',round(source_grade_1_4['source_pay_sum'].sum()/source_grade_1_4['amount'].sum(),2))\n",
    "print('source_grade_5平均30日ROI',round(source_grade_1_5['source_pay_sum'].sum()/source_grade_1_5['amount'].sum(),2))"
   ]
  }
 ],
 "metadata": {
  "kernelspec": {
   "display_name": "Python 3",
   "language": "python",
   "name": "python3"
  },
  "language_info": {
   "codemirror_mode": {
    "name": "ipython",
    "version": 3
   },
   "file_extension": ".py",
   "mimetype": "text/x-python",
   "name": "python",
   "nbconvert_exporter": "python",
   "pygments_lexer": "ipython3",
   "version": "3.7.6"
  }
 },
 "nbformat": 4,
 "nbformat_minor": 4
}
