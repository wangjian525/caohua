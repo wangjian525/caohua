{
 "cells": [
  {
   "cell_type": "code",
   "execution_count": 2,
   "metadata": {},
   "outputs": [
    {
     "ename": "NameError",
     "evalue": "name 'joblib' is not defined",
     "output_type": "error",
     "traceback": [
      "\u001b[1;31m---------------------------------------------------------------------------\u001b[0m",
      "\u001b[1;31mNameError\u001b[0m                                 Traceback (most recent call last)",
      "\u001b[1;32m<ipython-input-2-0179aefb4c7b>\u001b[0m in \u001b[0;36m<module>\u001b[1;34m\u001b[0m\n\u001b[0;32m     72\u001b[0m \u001b[1;33m\u001b[0m\u001b[0m\n\u001b[0;32m     73\u001b[0m \u001b[1;32mif\u001b[0m \u001b[0m__name__\u001b[0m \u001b[1;33m==\u001b[0m \u001b[1;34m'__main__'\u001b[0m\u001b[1;33m:\u001b[0m\u001b[1;33m\u001b[0m\u001b[1;33m\u001b[0m\u001b[0m\n\u001b[1;32m---> 74\u001b[1;33m     \u001b[0mmr_model_1d\u001b[0m\u001b[1;33m(\u001b[0m\u001b[1;33m)\u001b[0m\u001b[1;33m\u001b[0m\u001b[1;33m\u001b[0m\u001b[0m\n\u001b[0m",
      "\u001b[1;32m<ipython-input-2-0179aefb4c7b>\u001b[0m in \u001b[0;36mmr_model_1d\u001b[1;34m()\u001b[0m\n\u001b[0;32m     60\u001b[0m \u001b[1;33m\u001b[0m\u001b[0m\n\u001b[0;32m     61\u001b[0m     \u001b[1;31m# 模型加载\u001b[0m\u001b[1;33m\u001b[0m\u001b[1;33m\u001b[0m\u001b[1;33m\u001b[0m\u001b[0m\n\u001b[1;32m---> 62\u001b[1;33m     \u001b[0mlgb_r_1d\u001b[0m \u001b[1;33m=\u001b[0m \u001b[0mjoblib\u001b[0m\u001b[1;33m.\u001b[0m\u001b[0mload\u001b[0m\u001b[1;33m(\u001b[0m\u001b[1;34m'./lgb_r_1d.pkl'\u001b[0m\u001b[1;33m)\u001b[0m\u001b[1;33m\u001b[0m\u001b[1;33m\u001b[0m\u001b[0m\n\u001b[0m\u001b[0;32m     63\u001b[0m     \u001b[1;31m# 付费金额预测\u001b[0m\u001b[1;33m\u001b[0m\u001b[1;33m\u001b[0m\u001b[1;33m\u001b[0m\u001b[0m\n\u001b[0;32m     64\u001b[0m     \u001b[0mrole_info_nopay_online_n\u001b[0m\u001b[1;33m[\u001b[0m\u001b[1;34m'predict_30_pay'\u001b[0m\u001b[1;33m]\u001b[0m \u001b[1;33m=\u001b[0m \u001b[1;36m0\u001b[0m\u001b[1;33m\u001b[0m\u001b[1;33m\u001b[0m\u001b[0m\n",
      "\u001b[1;31mNameError\u001b[0m: name 'joblib' is not defined"
     ]
    }
   ],
   "source": [
    "import pandas as pd\n",
    "import numpy as np\n",
    "import joblib\n",
    "\n",
    "\n",
    "def mr_model_1d():\n",
    "    def active_time_transform(df):\n",
    "        df['role_created_active_time'].fillna('\"0-8,0\",\"8-12,0\",\"12-14,0\",\"14-18,0\",\"18-24,0\"', inplace=True)\n",
    "        df['role_created_active_time'] = df['role_created_active_time'].apply(lambda x:str(x)[1:-1])\n",
    "        temp = df['role_created_active_time'].str.split(',',expand=True).iloc[:,[1,3,5,7,9]].rename(columns={1:'active_0-8',\n",
    "                                            3:'active_8-12',5:'active_12-14',7:'active_14-18',9:'active_18-24'})\n",
    "        for i in range(len(temp.columns)):\n",
    "            temp.iloc[:,i] = temp.iloc[:,i].apply(lambda x:str(x)[:-1])\n",
    "        df = df.join(temp).drop(['role_created_active_time'], axis=1)\n",
    "        return df\n",
    "\n",
    "    def pay_grade_transform(df):\n",
    "        df['pay_grade'].fillna('[0,0,0,0,0,0,0]',inplace=True)\n",
    "        df['pay_grade'] = df['pay_grade'].apply(lambda x:str(x)[1:-1])\n",
    "        temp = df['pay_grade'].str.split(',',expand=True).rename(columns={0:'pay_grade_1',\n",
    "                    1:'pay_grade_2',2:'pay_grade_3',3:'pay_grade_4',4:'pay_grade_5',5:'pay_grade_6',6:'pay_grade_7'})\n",
    "        df = df.join(temp).drop(['pay_grade'], axis=1)\n",
    "        return df\n",
    "\n",
    "    # 数据加载\n",
    "    role_info = pd.read_csv('./data/mr_role_1d.csv')\n",
    "    # 数据清洗\n",
    "    role_info = active_time_transform(role_info)\n",
    "    role_info = pay_grade_transform(role_info)\n",
    "    role_info['pay_num'].fillna(0, inplace=True)\n",
    "    role_info['pay_sum'].fillna(0, inplace=True)\n",
    "    role_info['role_created_active'] = role_info['role_created_active'].clip(0,1)\n",
    "    role_info['pay_rate'] = role_info['pay_num'] / (role_info['role_created_active'] + 1e-4)\n",
    "    role_info['pay_avg'] = role_info['pay_sum'] / (role_info['pay_num'] + 1e-4)\n",
    "    # 特征选择\n",
    "    select_features = ['user_id','cp_server_no','cp_role_id','role_created_login_num',\n",
    "           'role_created_active', 'role_created_online',\n",
    "           'max_role_level', 'ip_num',\n",
    "           'pay_num', 'pay_sum', 'active_0-8', 'active_8-12', 'active_12-14',\n",
    "           'active_14-18', 'active_18-24', 'pay_grade_1', 'pay_grade_2',\n",
    "           'pay_grade_3', 'pay_grade_4', 'pay_grade_5', 'pay_grade_6',\n",
    "           'pay_rate', 'pay_avg']\n",
    "    role_info = role_info[select_features]\n",
    "    col_list = ['active_0-8','active_8-12','active_12-14','active_14-18','active_18-24','pay_grade_1','pay_grade_2',\n",
    "                'pay_grade_3','pay_grade_4','pay_grade_5','pay_grade_6']\n",
    "    for col in col_list:\n",
    "        role_info[col] = pd.to_numeric(role_info[col], errors='coerce')\n",
    "\n",
    "    # 根据角色行为分类\n",
    "    role_info_pay = role_info[role_info['pay_sum']!=0]\n",
    "    role_info_nopay = role_info[role_info['pay_sum']==0]\n",
    "    role_info_nopay_online_n = role_info_nopay[(role_info_nopay['role_created_online']==300) | (role_info_nopay['role_created_login_num']<3)|(role_info_nopay['max_role_level']==1)]\n",
    "    role_info_nopay_online_y = role_info_nopay.loc[np.setdiff1d(role_info_nopay.index, role_info_nopay_online_n.index),:]\n",
    "\n",
    "    # 标记角户质量不付费不在线0;不付费在线1;付费2\n",
    "    role_info_nopay_online_n['role_type'] = 0\n",
    "    role_info_nopay_online_y['role_type'] = 1\n",
    "    role_info_pay['role_type'] = 2\n",
    "\n",
    "\n",
    "    # 模型加载\n",
    "    lgb_r_1d = joblib.load('./lgb_r_1d.pkl')\n",
    "    # 付费金额预测\n",
    "    role_info_nopay_online_n['predict_30_pay'] = 0\n",
    "    role_info_nopay_online_y['predict_30_pay'] = 0\n",
    "    role_info_pay['predict_30_pay'] = np.expm1(lgb_r_1d.predict(role_info_pay.drop(['user_id','cp_server_no','role_type',\n",
    "                                                                'cp_role_id'],axis=1)))*2.1\n",
    "    # 数据输出\n",
    "    role_info_predict = pd.concat([role_info_payrole_info_nopay_online_n,role_info_nopay_online_y],axis=0)\n",
    "    role_info_predict.to_csv('./role_info_predict.csv')\n",
    "    \n",
    "\n",
    "if __name__ == '__main__':\n",
    "    mr_model_1d()"
   ]
  },
  {
   "cell_type": "code",
   "execution_count": null,
   "metadata": {},
   "outputs": [],
   "source": []
  }
 ],
 "metadata": {
  "kernelspec": {
   "display_name": "Python 3",
   "language": "python",
   "name": "python3"
  },
  "language_info": {
   "codemirror_mode": {
    "name": "ipython",
    "version": 3
   },
   "file_extension": ".py",
   "mimetype": "text/x-python",
   "name": "python",
   "nbconvert_exporter": "python",
   "pygments_lexer": "ipython3",
   "version": "3.7.6"
  }
 },
 "nbformat": 4,
 "nbformat_minor": 4
}
