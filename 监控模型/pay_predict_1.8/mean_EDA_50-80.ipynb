{
 "cells": [
  {
   "cell_type": "code",
   "execution_count": 1,
   "metadata": {},
   "outputs": [],
   "source": [
    "import pandas as pd\n",
    "import numpy as np\n",
    "import joblib\n",
    "import warnings\n",
    "warnings.filterwarnings('ignore')\n",
    "import matplotlib.pyplot as plt"
   ]
  },
  {
   "cell_type": "code",
   "execution_count": 2,
   "metadata": {},
   "outputs": [],
   "source": [
    "data_amount_y = pd.read_pickle('./data_amount_y.pkl')"
   ]
  },
  {
   "cell_type": "code",
   "execution_count": 4,
   "metadata": {},
   "outputs": [
    {
     "data": {
      "text/html": [
       "<div>\n",
       "<style scoped>\n",
       "    .dataframe tbody tr th:only-of-type {\n",
       "        vertical-align: middle;\n",
       "    }\n",
       "\n",
       "    .dataframe tbody tr th {\n",
       "        vertical-align: top;\n",
       "    }\n",
       "\n",
       "    .dataframe thead th {\n",
       "        text-align: right;\n",
       "    }\n",
       "</style>\n",
       "<table border=\"1\" class=\"dataframe\">\n",
       "  <thead>\n",
       "    <tr style=\"text-align: right;\">\n",
       "      <th></th>\n",
       "      <th>channel_id</th>\n",
       "      <th>source_id</th>\n",
       "      <th>create_time</th>\n",
       "      <th>reg_date</th>\n",
       "      <th>amount</th>\n",
       "      <th>paper_use_amount</th>\n",
       "      <th>click_num</th>\n",
       "      <th>down_num</th>\n",
       "      <th>pv</th>\n",
       "      <th>create_role_num</th>\n",
       "      <th>user_id</th>\n",
       "      <th>cp_server_no</th>\n",
       "      <th>cp_role_id</th>\n",
       "      <th>role_created_login_num</th>\n",
       "      <th>role_created_active</th>\n",
       "      <th>role_created_online</th>\n",
       "      <th>max_role_level</th>\n",
       "      <th>ip_num</th>\n",
       "      <th>pay_num</th>\n",
       "      <th>pay_sum</th>\n",
       "      <th>active_0-8</th>\n",
       "      <th>active_8-12</th>\n",
       "      <th>active_12-14</th>\n",
       "      <th>active_14-18</th>\n",
       "      <th>active_18-24</th>\n",
       "      <th>pay_grade_1</th>\n",
       "      <th>pay_grade_2</th>\n",
       "      <th>pay_grade_3</th>\n",
       "      <th>pay_grade_4</th>\n",
       "      <th>pay_grade_5</th>\n",
       "      <th>pay_grade_6</th>\n",
       "      <th>pay_rate</th>\n",
       "      <th>pay_avg</th>\n",
       "      <th>role_created_30_pay_sum</th>\n",
       "      <th>cpc</th>\n",
       "      <th>source_pay_sum</th>\n",
       "      <th>b_r</th>\n",
       "      <th>m_r</th>\n",
       "      <th>s_r</th>\n",
       "      <th>rubbish</th>\n",
       "      <th>common</th>\n",
       "      <th>ROI</th>\n",
       "    </tr>\n",
       "  </thead>\n",
       "  <tbody>\n",
       "    <tr>\n",
       "      <th>0</th>\n",
       "      <td>20953</td>\n",
       "      <td>252731</td>\n",
       "      <td>2020-01-02</td>\n",
       "      <td>2020-01-02</td>\n",
       "      <td>1562.56</td>\n",
       "      <td>1562.56</td>\n",
       "      <td>1552.0</td>\n",
       "      <td>55.0</td>\n",
       "      <td>53605.0</td>\n",
       "      <td>51.0</td>\n",
       "      <td>100261967</td>\n",
       "      <td>660192</td>\n",
       "      <td>13814061</td>\n",
       "      <td>1.0</td>\n",
       "      <td>1.0</td>\n",
       "      <td>0.0</td>\n",
       "      <td>1.0</td>\n",
       "      <td>1.0</td>\n",
       "      <td>0.0</td>\n",
       "      <td>0.0</td>\n",
       "      <td>0.0</td>\n",
       "      <td>0.0</td>\n",
       "      <td>0.0</td>\n",
       "      <td>1.0</td>\n",
       "      <td>0.0</td>\n",
       "      <td>0.0</td>\n",
       "      <td>0.0</td>\n",
       "      <td>0.0</td>\n",
       "      <td>0.0</td>\n",
       "      <td>0.0</td>\n",
       "      <td>0.0</td>\n",
       "      <td>0.0</td>\n",
       "      <td>0.0</td>\n",
       "      <td>0.0</td>\n",
       "      <td>30.638371</td>\n",
       "      <td>0.0</td>\n",
       "      <td>0</td>\n",
       "      <td>0</td>\n",
       "      <td>0</td>\n",
       "      <td>1</td>\n",
       "      <td>0</td>\n",
       "      <td>0.0</td>\n",
       "    </tr>\n",
       "    <tr>\n",
       "      <th>1</th>\n",
       "      <td>20953</td>\n",
       "      <td>252731</td>\n",
       "      <td>2020-01-02</td>\n",
       "      <td>2020-01-02</td>\n",
       "      <td>1562.56</td>\n",
       "      <td>1562.56</td>\n",
       "      <td>1552.0</td>\n",
       "      <td>55.0</td>\n",
       "      <td>53605.0</td>\n",
       "      <td>51.0</td>\n",
       "      <td>100262535</td>\n",
       "      <td>660191</td>\n",
       "      <td>13814172</td>\n",
       "      <td>40.0</td>\n",
       "      <td>3.0</td>\n",
       "      <td>50265.0</td>\n",
       "      <td>57.0</td>\n",
       "      <td>2.0</td>\n",
       "      <td>0.0</td>\n",
       "      <td>0.0</td>\n",
       "      <td>68.0</td>\n",
       "      <td>33.0</td>\n",
       "      <td>7.0</td>\n",
       "      <td>27.0</td>\n",
       "      <td>44.0</td>\n",
       "      <td>0.0</td>\n",
       "      <td>0.0</td>\n",
       "      <td>0.0</td>\n",
       "      <td>0.0</td>\n",
       "      <td>0.0</td>\n",
       "      <td>0.0</td>\n",
       "      <td>0.0</td>\n",
       "      <td>0.0</td>\n",
       "      <td>0.0</td>\n",
       "      <td>30.638371</td>\n",
       "      <td>0.0</td>\n",
       "      <td>0</td>\n",
       "      <td>0</td>\n",
       "      <td>0</td>\n",
       "      <td>0</td>\n",
       "      <td>1</td>\n",
       "      <td>0.0</td>\n",
       "    </tr>\n",
       "    <tr>\n",
       "      <th>2</th>\n",
       "      <td>20953</td>\n",
       "      <td>252731</td>\n",
       "      <td>2020-01-02</td>\n",
       "      <td>2020-01-02</td>\n",
       "      <td>1562.56</td>\n",
       "      <td>1562.56</td>\n",
       "      <td>1552.0</td>\n",
       "      <td>55.0</td>\n",
       "      <td>53605.0</td>\n",
       "      <td>51.0</td>\n",
       "      <td>100262535</td>\n",
       "      <td>660192</td>\n",
       "      <td>13814172</td>\n",
       "      <td>27.0</td>\n",
       "      <td>3.0</td>\n",
       "      <td>46271.0</td>\n",
       "      <td>57.0</td>\n",
       "      <td>2.0</td>\n",
       "      <td>0.0</td>\n",
       "      <td>0.0</td>\n",
       "      <td>35.0</td>\n",
       "      <td>16.0</td>\n",
       "      <td>0.0</td>\n",
       "      <td>27.0</td>\n",
       "      <td>68.0</td>\n",
       "      <td>0.0</td>\n",
       "      <td>0.0</td>\n",
       "      <td>0.0</td>\n",
       "      <td>0.0</td>\n",
       "      <td>0.0</td>\n",
       "      <td>0.0</td>\n",
       "      <td>0.0</td>\n",
       "      <td>0.0</td>\n",
       "      <td>0.0</td>\n",
       "      <td>30.638371</td>\n",
       "      <td>0.0</td>\n",
       "      <td>0</td>\n",
       "      <td>0</td>\n",
       "      <td>0</td>\n",
       "      <td>0</td>\n",
       "      <td>1</td>\n",
       "      <td>0.0</td>\n",
       "    </tr>\n",
       "    <tr>\n",
       "      <th>3</th>\n",
       "      <td>20953</td>\n",
       "      <td>252731</td>\n",
       "      <td>2020-01-02</td>\n",
       "      <td>2020-01-02</td>\n",
       "      <td>1562.56</td>\n",
       "      <td>1562.56</td>\n",
       "      <td>1552.0</td>\n",
       "      <td>55.0</td>\n",
       "      <td>53605.0</td>\n",
       "      <td>51.0</td>\n",
       "      <td>100262535</td>\n",
       "      <td>660193</td>\n",
       "      <td>13814172</td>\n",
       "      <td>19.0</td>\n",
       "      <td>3.0</td>\n",
       "      <td>25424.0</td>\n",
       "      <td>54.0</td>\n",
       "      <td>2.0</td>\n",
       "      <td>0.0</td>\n",
       "      <td>0.0</td>\n",
       "      <td>14.0</td>\n",
       "      <td>12.0</td>\n",
       "      <td>18.0</td>\n",
       "      <td>15.0</td>\n",
       "      <td>21.0</td>\n",
       "      <td>0.0</td>\n",
       "      <td>0.0</td>\n",
       "      <td>0.0</td>\n",
       "      <td>0.0</td>\n",
       "      <td>0.0</td>\n",
       "      <td>0.0</td>\n",
       "      <td>0.0</td>\n",
       "      <td>0.0</td>\n",
       "      <td>0.0</td>\n",
       "      <td>30.638371</td>\n",
       "      <td>0.0</td>\n",
       "      <td>0</td>\n",
       "      <td>0</td>\n",
       "      <td>0</td>\n",
       "      <td>0</td>\n",
       "      <td>1</td>\n",
       "      <td>0.0</td>\n",
       "    </tr>\n",
       "    <tr>\n",
       "      <th>4</th>\n",
       "      <td>20953</td>\n",
       "      <td>252731</td>\n",
       "      <td>2020-01-02</td>\n",
       "      <td>2020-01-02</td>\n",
       "      <td>1562.56</td>\n",
       "      <td>1562.56</td>\n",
       "      <td>1552.0</td>\n",
       "      <td>55.0</td>\n",
       "      <td>53605.0</td>\n",
       "      <td>51.0</td>\n",
       "      <td>100268013</td>\n",
       "      <td>660192</td>\n",
       "      <td>13815011</td>\n",
       "      <td>1.0</td>\n",
       "      <td>1.0</td>\n",
       "      <td>0.0</td>\n",
       "      <td>1.0</td>\n",
       "      <td>1.0</td>\n",
       "      <td>0.0</td>\n",
       "      <td>0.0</td>\n",
       "      <td>0.0</td>\n",
       "      <td>0.0</td>\n",
       "      <td>0.0</td>\n",
       "      <td>0.0</td>\n",
       "      <td>1.0</td>\n",
       "      <td>0.0</td>\n",
       "      <td>0.0</td>\n",
       "      <td>0.0</td>\n",
       "      <td>0.0</td>\n",
       "      <td>0.0</td>\n",
       "      <td>0.0</td>\n",
       "      <td>0.0</td>\n",
       "      <td>0.0</td>\n",
       "      <td>0.0</td>\n",
       "      <td>30.638371</td>\n",
       "      <td>0.0</td>\n",
       "      <td>0</td>\n",
       "      <td>0</td>\n",
       "      <td>0</td>\n",
       "      <td>1</td>\n",
       "      <td>0</td>\n",
       "      <td>0.0</td>\n",
       "    </tr>\n",
       "  </tbody>\n",
       "</table>\n",
       "</div>"
      ],
      "text/plain": [
       "   channel_id  source_id create_time    reg_date   amount  paper_use_amount  \\\n",
       "0       20953     252731  2020-01-02  2020-01-02  1562.56           1562.56   \n",
       "1       20953     252731  2020-01-02  2020-01-02  1562.56           1562.56   \n",
       "2       20953     252731  2020-01-02  2020-01-02  1562.56           1562.56   \n",
       "3       20953     252731  2020-01-02  2020-01-02  1562.56           1562.56   \n",
       "4       20953     252731  2020-01-02  2020-01-02  1562.56           1562.56   \n",
       "\n",
       "   click_num  down_num       pv  create_role_num    user_id cp_server_no  \\\n",
       "0     1552.0      55.0  53605.0             51.0  100261967       660192   \n",
       "1     1552.0      55.0  53605.0             51.0  100262535       660191   \n",
       "2     1552.0      55.0  53605.0             51.0  100262535       660192   \n",
       "3     1552.0      55.0  53605.0             51.0  100262535       660193   \n",
       "4     1552.0      55.0  53605.0             51.0  100268013       660192   \n",
       "\n",
       "  cp_role_id  role_created_login_num  role_created_active  \\\n",
       "0   13814061                     1.0                  1.0   \n",
       "1   13814172                    40.0                  3.0   \n",
       "2   13814172                    27.0                  3.0   \n",
       "3   13814172                    19.0                  3.0   \n",
       "4   13815011                     1.0                  1.0   \n",
       "\n",
       "   role_created_online  max_role_level  ip_num  pay_num  pay_sum  active_0-8  \\\n",
       "0                  0.0             1.0     1.0      0.0      0.0         0.0   \n",
       "1              50265.0            57.0     2.0      0.0      0.0        68.0   \n",
       "2              46271.0            57.0     2.0      0.0      0.0        35.0   \n",
       "3              25424.0            54.0     2.0      0.0      0.0        14.0   \n",
       "4                  0.0             1.0     1.0      0.0      0.0         0.0   \n",
       "\n",
       "   active_8-12  active_12-14  active_14-18  active_18-24  pay_grade_1  \\\n",
       "0          0.0           0.0           1.0           0.0          0.0   \n",
       "1         33.0           7.0          27.0          44.0          0.0   \n",
       "2         16.0           0.0          27.0          68.0          0.0   \n",
       "3         12.0          18.0          15.0          21.0          0.0   \n",
       "4          0.0           0.0           0.0           1.0          0.0   \n",
       "\n",
       "   pay_grade_2  pay_grade_3  pay_grade_4  pay_grade_5  pay_grade_6  pay_rate  \\\n",
       "0          0.0          0.0          0.0          0.0          0.0       0.0   \n",
       "1          0.0          0.0          0.0          0.0          0.0       0.0   \n",
       "2          0.0          0.0          0.0          0.0          0.0       0.0   \n",
       "3          0.0          0.0          0.0          0.0          0.0       0.0   \n",
       "4          0.0          0.0          0.0          0.0          0.0       0.0   \n",
       "\n",
       "   pay_avg  role_created_30_pay_sum        cpc  source_pay_sum  b_r  m_r  s_r  \\\n",
       "0      0.0                      0.0  30.638371             0.0    0    0    0   \n",
       "1      0.0                      0.0  30.638371             0.0    0    0    0   \n",
       "2      0.0                      0.0  30.638371             0.0    0    0    0   \n",
       "3      0.0                      0.0  30.638371             0.0    0    0    0   \n",
       "4      0.0                      0.0  30.638371             0.0    0    0    0   \n",
       "\n",
       "   rubbish  common  ROI  \n",
       "0        1       0  0.0  \n",
       "1        0       1  0.0  \n",
       "2        0       1  0.0  \n",
       "3        0       1  0.0  \n",
       "4        1       0  0.0  "
      ]
     },
     "execution_count": 4,
     "metadata": {},
     "output_type": "execute_result"
    }
   ],
   "source": [
    "pd.set_option('display.max_columns',None)\n",
    "data_amount_y.head()"
   ]
  },
  {
   "cell_type": "code",
   "execution_count": 5,
   "metadata": {},
   "outputs": [],
   "source": [
    "data_amount_m = data_amount_y[(data_amount_y['ROI']>=0.5)&(data_amount_y['ROI']<=0.8)]"
   ]
  },
  {
   "cell_type": "code",
   "execution_count": 6,
   "metadata": {},
   "outputs": [],
   "source": [
    "source_grade_1 = data_amount_m[data_amount_m['amount']>=30000]\n",
    "source_grade_2 = data_amount_m[(data_amount_m['amount']<30000)&(data_amount_m['amount']>=10000)]\n",
    "source_grade_3 = data_amount_m[(data_amount_m['amount']<10000)&(data_amount_m['amount']>=2000)]\n",
    "source_grade_4 = data_amount_m[(data_amount_m['amount']<2000)&(data_amount_m['amount']>=500)]\n",
    "source_grade_5 = data_amount_m[data_amount_m['amount']<500]"
   ]
  },
  {
   "cell_type": "code",
   "execution_count": 9,
   "metadata": {},
   "outputs": [
    {
     "name": "stdout",
     "output_type": "stream",
     "text": [
      "0.001773067110590136\n",
      "0.009929175819304761\n",
      "0.010904362730129336\n",
      "0.5683468119268315\n",
      "0.40904658241314434\n"
     ]
    },
    {
     "data": {
      "image/png": "[encoded data removed]",
      "text/plain": [
       "<Figure size 432x288 with 1 Axes>"
      ]
     },
     "metadata": {},
     "output_type": "display_data"
    }
   ],
   "source": [
    "# source_grade_1的用户质量分布\n",
    "b_r = source_grade_1['b_r'].sum()/source_grade_1.shape[0]\n",
    "m_r = source_grade_1['m_r'].sum()/source_grade_1.shape[0]\n",
    "s_r = source_grade_1['s_r'].sum()/source_grade_1.shape[0]\n",
    "rubbish_r = source_grade_1['rubbish'].sum()/source_grade_1.shape[0]\n",
    "common_r = source_grade_1['common'].sum()/source_grade_1.shape[0]\n",
    "print(b_r)\n",
    "print(m_r)\n",
    "print(s_r)\n",
    "print(rubbish_r)\n",
    "print(common_r)\n",
    "label_list = ['b_r','m_r','s_r','rubbish_r','common_r']\n",
    "size = [b_r,m_r,s_r,rubbish_r,common_r]\n",
    "plt.pie(size,labels=label_list,autopct=\"%1.1f%%\",startangle=90,pctdistance=0.6)\n",
    "plt.show()"
   ]
  },
  {
   "cell_type": "code",
   "execution_count": 10,
   "metadata": {},
   "outputs": [
    {
     "name": "stdout",
     "output_type": "stream",
     "text": [
      "0.001968009663606072\n",
      "0.009582171189695773\n",
      "0.010444023697550845\n",
      "0.5729554754779209\n",
      "0.40505031997122637\n"
     ]
    },
    {
     "data": {
      "image/png": "[encoded data removed]",
      "text/plain": [
       "<Figure size 432x288 with 1 Axes>"
      ]
     },
     "metadata": {},
     "output_type": "display_data"
    }
   ],
   "source": [
    "# source_grade_2的用户质量分布\n",
    "b_r_2 = source_grade_2['b_r'].sum()/source_grade_2.shape[0]\n",
    "m_r_2 = source_grade_2['m_r'].sum()/source_grade_2.shape[0]\n",
    "s_r_2 = source_grade_2['s_r'].sum()/source_grade_2.shape[0]\n",
    "rubbish_2 = source_grade_2['rubbish'].sum()/source_grade_2.shape[0]\n",
    "common_2 = source_grade_2['common'].sum()/source_grade_2.shape[0]\n",
    "print(b_r_2)\n",
    "print(m_r_2)\n",
    "print(s_r_2)\n",
    "print(rubbish_2)\n",
    "print(common_2)\n",
    "label_list = ['b_r','m_r','s_r','rubbish','common']\n",
    "size = [b_r_2, m_r_2, s_r_2, rubbish_2, common_2]\n",
    "plt.pie(size,labels=label_list,autopct=\"%1.1f%%\",startangle=90,pctdistance=0.6)\n",
    "plt.show()"
   ]
  },
  {
   "cell_type": "code",
   "execution_count": 11,
   "metadata": {},
   "outputs": [
    {
     "name": "stdout",
     "output_type": "stream",
     "text": [
      "0.001984009224795028\n",
      "0.01249756238182851\n",
      "0.011056188158686824\n",
      "0.5844433327963507\n",
      "0.39001890743833884\n"
     ]
    },
    {
     "data": {
      "image/png": "[encoded data removed]",
      "text/plain": [
       "<Figure size 432x288 with 1 Axes>"
      ]
     },
     "metadata": {},
     "output_type": "display_data"
    }
   ],
   "source": [
    "# source_grade_3的用户质量分布\n",
    "b_r_3 = source_grade_3['b_r'].sum()/source_grade_3.shape[0]\n",
    "m_r_3 = source_grade_3['m_r'].sum()/source_grade_3.shape[0]\n",
    "s_r_3 = source_grade_3['s_r'].sum()/source_grade_3.shape[0]\n",
    "rubbish_3 = source_grade_3['rubbish'].sum()/source_grade_3.shape[0]\n",
    "common_3 = source_grade_3['common'].sum()/source_grade_3.shape[0]\n",
    "print(b_r_3)\n",
    "print(m_r_3)\n",
    "print(s_r_3)\n",
    "print(rubbish_3)\n",
    "print(common_3)\n",
    "label_list = ['b_r','m_r','s_r','rubbish','common']\n",
    "size = [b_r_3, m_r_3, s_r_3, rubbish_3, common_3]\n",
    "plt.pie(size,labels=label_list,autopct=\"%1.1f%%\",startangle=90,pctdistance=0.6)\n",
    "plt.show()"
   ]
  },
  {
   "cell_type": "code",
   "execution_count": 12,
   "metadata": {},
   "outputs": [
    {
     "name": "stdout",
     "output_type": "stream",
     "text": [
      "0.0\n",
      "0.022928417480625487\n",
      "0.00985921951666896\n",
      "0.564956206722612\n",
      "0.40225615628009354\n"
     ]
    },
    {
     "data": {
      "image/png": "[encoded data removed]",
      "text/plain": [
       "<Figure size 432x288 with 1 Axes>"
      ]
     },
     "metadata": {},
     "output_type": "display_data"
    }
   ],
   "source": [
    "# source_grade_4的用户质量分布\n",
    "b_r_4 = source_grade_4['b_r'].sum()/source_grade_4.shape[0]\n",
    "m_r_4 = source_grade_4['m_r'].sum()/source_grade_4.shape[0]\n",
    "s_r_4 = source_grade_4['s_r'].sum()/source_grade_4.shape[0]\n",
    "rubbish_4 = source_grade_4['rubbish'].sum()/source_grade_4.shape[0]\n",
    "common_4 = source_grade_4['common'].sum()/source_grade_4.shape[0]\n",
    "print(b_r_4)\n",
    "print(m_r_4)\n",
    "print(s_r_4)\n",
    "print(rubbish_4)\n",
    "print(common_4)\n",
    "label_list = ['b_r','m_r','s_r','rubbish','common']\n",
    "size = [b_r_4, m_r_4, s_r_4, rubbish_4, common_4]\n",
    "plt.pie(size,labels=label_list,autopct=\"%1.1f%%\",startangle=90,pctdistance=0.6)\n",
    "plt.show()"
   ]
  },
  {
   "cell_type": "code",
   "execution_count": 13,
   "metadata": {},
   "outputs": [
    {
     "name": "stdout",
     "output_type": "stream",
     "text": [
      "0.0\n",
      "0.04895960832313342\n",
      "0.033659730722154224\n",
      "0.4730722154222766\n",
      "0.44430844553243576\n"
     ]
    },
    {
     "data": {
      "image/png": "[encoded data removed]",
      "text/plain": [
       "<Figure size 432x288 with 1 Axes>"
      ]
     },
     "metadata": {},
     "output_type": "display_data"
    }
   ],
   "source": [
    "# source_grade_5的用户质量分布\n",
    "b_r_5 = source_grade_5['b_r'].sum()/source_grade_5.shape[0]\n",
    "m_r_5 = source_grade_5['m_r'].sum()/source_grade_5.shape[0]\n",
    "s_r_5 = source_grade_5['s_r'].sum()/source_grade_5.shape[0]\n",
    "rubbish_5 = source_grade_5['rubbish'].sum()/source_grade_5.shape[0]\n",
    "common_5 = source_grade_5['common'].sum()/source_grade_5.shape[0]\n",
    "print(b_r_5)\n",
    "print(m_r_5)\n",
    "print(s_r_5)\n",
    "print(rubbish_5)\n",
    "print(common_5)\n",
    "label_list = ['b_r','m_r','s_r','rubbish','common']\n",
    "size = [b_r_5, m_r_5, s_r_5, rubbish_5, common_5]\n",
    "plt.pie(size,labels=label_list,autopct=\"%1.1f%%\",startangle=90,pctdistance=0.6)\n",
    "plt.show()"
   ]
  },
  {
   "cell_type": "code",
   "execution_count": 14,
   "metadata": {},
   "outputs": [
    {
     "name": "stdout",
     "output_type": "stream",
     "text": [
      "0.2601317070670835\n",
      "0.37758673704709683\n",
      "0.3022164710705683\n",
      "0.05587813252703326\n",
      "0.004186952288218111\n"
     ]
    }
   ],
   "source": [
    "print(source_grade_1.shape[0]/data_amount_m.shape[0])\n",
    "print(source_grade_2.shape[0]/data_amount_m.shape[0])\n",
    "print(source_grade_3.shape[0]/data_amount_m.shape[0])\n",
    "print(source_grade_4.shape[0]/data_amount_m.shape[0])\n",
    "print(source_grade_5.shape[0]/data_amount_m.shape[0])"
   ]
  },
  {
   "cell_type": "code",
   "execution_count": 15,
   "metadata": {},
   "outputs": [],
   "source": [
    "soure_amout_y = data_amount_m[['channel_id','source_id','create_time','reg_date','amount','paper_use_amount','click_num','down_num',\n",
    "              'create_role_num','cpc','source_pay_sum']]"
   ]
  },
  {
   "cell_type": "code",
   "execution_count": 16,
   "metadata": {},
   "outputs": [],
   "source": [
    "soure_amout_y.drop_duplicates(['channel_id','source_id','reg_date'],inplace=True)"
   ]
  },
  {
   "cell_type": "code",
   "execution_count": 17,
   "metadata": {},
   "outputs": [
    {
     "data": {
      "text/plain": [
       "(1309, 11)"
      ]
     },
     "execution_count": 17,
     "metadata": {},
     "output_type": "execute_result"
    }
   ],
   "source": [
    "soure_amout_y.shape"
   ]
  },
  {
   "cell_type": "code",
   "execution_count": 18,
   "metadata": {},
   "outputs": [],
   "source": [
    "source_grade_1_1 = soure_amout_y[soure_amout_y['amount']>=30000]\n",
    "source_grade_1_2 = soure_amout_y[(soure_amout_y['amount']<30000)&(soure_amout_y['amount']>=10000)]\n",
    "source_grade_1_3 = soure_amout_y[(soure_amout_y['amount']<10000)&(soure_amout_y['amount']>=2000)]\n",
    "source_grade_1_4 = soure_amout_y[(soure_amout_y['amount']<2000)&(soure_amout_y['amount']>=500)]\n",
    "source_grade_1_5 = soure_amout_y[soure_amout_y['amount']<500]"
   ]
  },
  {
   "cell_type": "code",
   "execution_count": 19,
   "metadata": {},
   "outputs": [
    {
     "name": "stdout",
     "output_type": "stream",
     "text": [
      "0.03896103896103896\n",
      "0.1627196333078686\n",
      "0.44614209320091675\n",
      "0.2727272727272727\n",
      "0.07944996180290298\n"
     ]
    }
   ],
   "source": [
    "print(source_grade_1_1.shape[0]/soure_amout_y.shape[0])\n",
    "print(source_grade_1_2.shape[0]/soure_amout_y.shape[0])\n",
    "print(source_grade_1_3.shape[0]/soure_amout_y.shape[0])\n",
    "print(source_grade_1_4.shape[0]/soure_amout_y.shape[0])\n",
    "print(source_grade_1_5.shape[0]/soure_amout_y.shape[0])"
   ]
  },
  {
   "cell_type": "code",
   "execution_count": 20,
   "metadata": {},
   "outputs": [
    {
     "name": "stdout",
     "output_type": "stream",
     "text": [
      "source_grade_1平均cpc: 48.51\n",
      "source_grade_2平均cpc: 48.36\n",
      "source_grade_3平均cpc: 35.15\n",
      "source_grade_4平均cpc: 40.62\n",
      "source_grade_5平均cpc: 37.71\n"
     ]
    }
   ],
   "source": [
    "print('source_grade_1平均cpc:',round(source_grade_1_1[source_grade_1_1['create_role_num']!=0]['cpc'].mean(),2))\n",
    "print('source_grade_2平均cpc:',round(source_grade_1_2[source_grade_1_2['create_role_num']!=0]['cpc'].mean(),2))\n",
    "print('source_grade_3平均cpc:',round(source_grade_1_3[source_grade_1_3['create_role_num']!=0]['cpc'].mean(),2))\n",
    "print('source_grade_4平均cpc:',round(source_grade_1_4[source_grade_1_4['create_role_num']!=0]['cpc'].mean(),2))\n",
    "print('source_grade_5平均cpc:',round(source_grade_1_5[source_grade_1_5['create_role_num']!=0]['cpc'].mean(),2))"
   ]
  },
  {
   "cell_type": "code",
   "execution_count": 30,
   "metadata": {},
   "outputs": [
    {
     "data": {
      "text/plain": [
       "(584, 11)"
      ]
     },
     "execution_count": 30,
     "metadata": {},
     "output_type": "execute_result"
    }
   ],
   "source": [
    "source_grade_1_3.shape"
   ]
  },
  {
   "cell_type": "code",
   "execution_count": 32,
   "metadata": {},
   "outputs": [
    {
     "data": {
      "text/plain": [
       "1670952.0"
      ]
     },
     "execution_count": 32,
     "metadata": {},
     "output_type": "execute_result"
    }
   ],
   "source": [
    "source_grade_1_3['source_pay_sum'].sum()"
   ]
  },
  {
   "cell_type": "code",
   "execution_count": 33,
   "metadata": {},
   "outputs": [
    {
     "data": {
      "text/plain": [
       "258742.0"
      ]
     },
     "execution_count": 33,
     "metadata": {},
     "output_type": "execute_result"
    }
   ],
   "source": [
    "source_grade_1_4['source_pay_sum'].sum()"
   ]
  },
  {
   "cell_type": "code",
   "execution_count": 34,
   "metadata": {},
   "outputs": [
    {
     "name": "stdout",
     "output_type": "stream",
     "text": [
      "source_grade_1平均30日ROI 0.64\n",
      "source_grade_2平均30日ROI 0.64\n",
      "source_grade_3平均30日ROI 0.64\n",
      "source_grade_4平均30日ROI 0.64\n",
      "source_grade_5平均30日ROI 0.63\n"
     ]
    }
   ],
   "source": [
    "print('source_grade_1平均30日ROI',round(source_grade_1_1['source_pay_sum'].sum()/source_grade_1_1['amount'].sum(),2))\n",
    "print('source_grade_2平均30日ROI',round(source_grade_1_2['source_pay_sum'].sum()/source_grade_1_2['amount'].sum(),2))\n",
    "print('source_grade_3平均30日ROI',round(source_grade_1_3['source_pay_sum'].sum()/source_grade_1_3['amount'].sum(),2))\n",
    "print('source_grade_4平均30日ROI',round(source_grade_1_4['source_pay_sum'].sum()/source_grade_1_4['amount'].sum(),2))\n",
    "print('source_grade_5平均30日ROI',round(source_grade_1_5['source_pay_sum'].sum()/source_grade_1_5['amount'].sum(),2))"
   ]
  },
  {
   "cell_type": "code",
   "execution_count": 22,
   "metadata": {},
   "outputs": [
    {
     "name": "stdout",
     "output_type": "stream",
     "text": [
      "source_grade_1平均创角数 1977.9\n",
      "source_grade_2平均创角数 701.12\n",
      "source_grade_3平均创角数 204.32\n",
      "source_grade_4平均创角数 61.27\n",
      "source_grade_5平均创角数 14.79\n"
     ]
    }
   ],
   "source": [
    "print('source_grade_1平均创角数',round(source_grade_1_1['create_role_num'].mean(),2))\n",
    "print('source_grade_2平均创角数',round(source_grade_1_2['create_role_num'].mean(),2))\n",
    "print('source_grade_3平均创角数',round(source_grade_1_3['create_role_num'].mean(),2))\n",
    "print('source_grade_4平均创角数',round(source_grade_1_4['create_role_num'].mean(),2))\n",
    "print('source_grade_5平均创角数',round(source_grade_1_5['create_role_num'].mean(),2))"
   ]
  },
  {
   "cell_type": "code",
   "execution_count": 23,
   "metadata": {
    "scrolled": false
   },
   "outputs": [
    {
     "data": {
      "text/html": [
       "<div>\n",
       "<style scoped>\n",
       "    .dataframe tbody tr th:only-of-type {\n",
       "        vertical-align: middle;\n",
       "    }\n",
       "\n",
       "    .dataframe tbody tr th {\n",
       "        vertical-align: top;\n",
       "    }\n",
       "\n",
       "    .dataframe thead th {\n",
       "        text-align: right;\n",
       "    }\n",
       "</style>\n",
       "<table border=\"1\" class=\"dataframe\">\n",
       "  <thead>\n",
       "    <tr style=\"text-align: right;\">\n",
       "      <th></th>\n",
       "      <th>channel_id</th>\n",
       "      <th>source_id</th>\n",
       "      <th>create_time</th>\n",
       "      <th>reg_date</th>\n",
       "      <th>amount</th>\n",
       "      <th>paper_use_amount</th>\n",
       "      <th>click_num</th>\n",
       "      <th>down_num</th>\n",
       "      <th>pv</th>\n",
       "      <th>create_role_num</th>\n",
       "      <th>user_id</th>\n",
       "      <th>cp_server_no</th>\n",
       "      <th>cp_role_id</th>\n",
       "      <th>role_created_login_num</th>\n",
       "      <th>role_created_active</th>\n",
       "      <th>role_created_online</th>\n",
       "      <th>max_role_level</th>\n",
       "      <th>ip_num</th>\n",
       "      <th>pay_num</th>\n",
       "      <th>pay_sum</th>\n",
       "      <th>active_0-8</th>\n",
       "      <th>active_8-12</th>\n",
       "      <th>active_12-14</th>\n",
       "      <th>active_14-18</th>\n",
       "      <th>active_18-24</th>\n",
       "      <th>pay_grade_1</th>\n",
       "      <th>pay_grade_2</th>\n",
       "      <th>pay_grade_3</th>\n",
       "      <th>pay_grade_4</th>\n",
       "      <th>pay_grade_5</th>\n",
       "      <th>pay_grade_6</th>\n",
       "      <th>pay_rate</th>\n",
       "      <th>pay_avg</th>\n",
       "      <th>role_created_30_pay_sum</th>\n",
       "      <th>cpc</th>\n",
       "      <th>source_pay_sum</th>\n",
       "      <th>b_r</th>\n",
       "      <th>m_r</th>\n",
       "      <th>s_r</th>\n",
       "      <th>rubbish</th>\n",
       "      <th>common</th>\n",
       "      <th>ROI</th>\n",
       "    </tr>\n",
       "  </thead>\n",
       "  <tbody>\n",
       "    <tr>\n",
       "      <th>0</th>\n",
       "      <td>20953</td>\n",
       "      <td>252731</td>\n",
       "      <td>2020-01-02</td>\n",
       "      <td>2020-01-02</td>\n",
       "      <td>1562.56</td>\n",
       "      <td>1562.56</td>\n",
       "      <td>1552.0</td>\n",
       "      <td>55.0</td>\n",
       "      <td>53605.0</td>\n",
       "      <td>51.0</td>\n",
       "      <td>100261967</td>\n",
       "      <td>660192</td>\n",
       "      <td>13814061</td>\n",
       "      <td>1.0</td>\n",
       "      <td>1.0</td>\n",
       "      <td>0.0</td>\n",
       "      <td>1.0</td>\n",
       "      <td>1.0</td>\n",
       "      <td>0.0</td>\n",
       "      <td>0.0</td>\n",
       "      <td>0.0</td>\n",
       "      <td>0.0</td>\n",
       "      <td>0.0</td>\n",
       "      <td>1.0</td>\n",
       "      <td>0.0</td>\n",
       "      <td>0.0</td>\n",
       "      <td>0.0</td>\n",
       "      <td>0.0</td>\n",
       "      <td>0.0</td>\n",
       "      <td>0.0</td>\n",
       "      <td>0.0</td>\n",
       "      <td>0.0</td>\n",
       "      <td>0.0</td>\n",
       "      <td>0.0</td>\n",
       "      <td>30.638371</td>\n",
       "      <td>0.0</td>\n",
       "      <td>0</td>\n",
       "      <td>0</td>\n",
       "      <td>0</td>\n",
       "      <td>1</td>\n",
       "      <td>0</td>\n",
       "      <td>0.0</td>\n",
       "    </tr>\n",
       "    <tr>\n",
       "      <th>1</th>\n",
       "      <td>20953</td>\n",
       "      <td>252731</td>\n",
       "      <td>2020-01-02</td>\n",
       "      <td>2020-01-02</td>\n",
       "      <td>1562.56</td>\n",
       "      <td>1562.56</td>\n",
       "      <td>1552.0</td>\n",
       "      <td>55.0</td>\n",
       "      <td>53605.0</td>\n",
       "      <td>51.0</td>\n",
       "      <td>100262535</td>\n",
       "      <td>660191</td>\n",
       "      <td>13814172</td>\n",
       "      <td>40.0</td>\n",
       "      <td>3.0</td>\n",
       "      <td>50265.0</td>\n",
       "      <td>57.0</td>\n",
       "      <td>2.0</td>\n",
       "      <td>0.0</td>\n",
       "      <td>0.0</td>\n",
       "      <td>68.0</td>\n",
       "      <td>33.0</td>\n",
       "      <td>7.0</td>\n",
       "      <td>27.0</td>\n",
       "      <td>44.0</td>\n",
       "      <td>0.0</td>\n",
       "      <td>0.0</td>\n",
       "      <td>0.0</td>\n",
       "      <td>0.0</td>\n",
       "      <td>0.0</td>\n",
       "      <td>0.0</td>\n",
       "      <td>0.0</td>\n",
       "      <td>0.0</td>\n",
       "      <td>0.0</td>\n",
       "      <td>30.638371</td>\n",
       "      <td>0.0</td>\n",
       "      <td>0</td>\n",
       "      <td>0</td>\n",
       "      <td>0</td>\n",
       "      <td>0</td>\n",
       "      <td>1</td>\n",
       "      <td>0.0</td>\n",
       "    </tr>\n",
       "    <tr>\n",
       "      <th>2</th>\n",
       "      <td>20953</td>\n",
       "      <td>252731</td>\n",
       "      <td>2020-01-02</td>\n",
       "      <td>2020-01-02</td>\n",
       "      <td>1562.56</td>\n",
       "      <td>1562.56</td>\n",
       "      <td>1552.0</td>\n",
       "      <td>55.0</td>\n",
       "      <td>53605.0</td>\n",
       "      <td>51.0</td>\n",
       "      <td>100262535</td>\n",
       "      <td>660192</td>\n",
       "      <td>13814172</td>\n",
       "      <td>27.0</td>\n",
       "      <td>3.0</td>\n",
       "      <td>46271.0</td>\n",
       "      <td>57.0</td>\n",
       "      <td>2.0</td>\n",
       "      <td>0.0</td>\n",
       "      <td>0.0</td>\n",
       "      <td>35.0</td>\n",
       "      <td>16.0</td>\n",
       "      <td>0.0</td>\n",
       "      <td>27.0</td>\n",
       "      <td>68.0</td>\n",
       "      <td>0.0</td>\n",
       "      <td>0.0</td>\n",
       "      <td>0.0</td>\n",
       "      <td>0.0</td>\n",
       "      <td>0.0</td>\n",
       "      <td>0.0</td>\n",
       "      <td>0.0</td>\n",
       "      <td>0.0</td>\n",
       "      <td>0.0</td>\n",
       "      <td>30.638371</td>\n",
       "      <td>0.0</td>\n",
       "      <td>0</td>\n",
       "      <td>0</td>\n",
       "      <td>0</td>\n",
       "      <td>0</td>\n",
       "      <td>1</td>\n",
       "      <td>0.0</td>\n",
       "    </tr>\n",
       "    <tr>\n",
       "      <th>3</th>\n",
       "      <td>20953</td>\n",
       "      <td>252731</td>\n",
       "      <td>2020-01-02</td>\n",
       "      <td>2020-01-02</td>\n",
       "      <td>1562.56</td>\n",
       "      <td>1562.56</td>\n",
       "      <td>1552.0</td>\n",
       "      <td>55.0</td>\n",
       "      <td>53605.0</td>\n",
       "      <td>51.0</td>\n",
       "      <td>100262535</td>\n",
       "      <td>660193</td>\n",
       "      <td>13814172</td>\n",
       "      <td>19.0</td>\n",
       "      <td>3.0</td>\n",
       "      <td>25424.0</td>\n",
       "      <td>54.0</td>\n",
       "      <td>2.0</td>\n",
       "      <td>0.0</td>\n",
       "      <td>0.0</td>\n",
       "      <td>14.0</td>\n",
       "      <td>12.0</td>\n",
       "      <td>18.0</td>\n",
       "      <td>15.0</td>\n",
       "      <td>21.0</td>\n",
       "      <td>0.0</td>\n",
       "      <td>0.0</td>\n",
       "      <td>0.0</td>\n",
       "      <td>0.0</td>\n",
       "      <td>0.0</td>\n",
       "      <td>0.0</td>\n",
       "      <td>0.0</td>\n",
       "      <td>0.0</td>\n",
       "      <td>0.0</td>\n",
       "      <td>30.638371</td>\n",
       "      <td>0.0</td>\n",
       "      <td>0</td>\n",
       "      <td>0</td>\n",
       "      <td>0</td>\n",
       "      <td>0</td>\n",
       "      <td>1</td>\n",
       "      <td>0.0</td>\n",
       "    </tr>\n",
       "    <tr>\n",
       "      <th>4</th>\n",
       "      <td>20953</td>\n",
       "      <td>252731</td>\n",
       "      <td>2020-01-02</td>\n",
       "      <td>2020-01-02</td>\n",
       "      <td>1562.56</td>\n",
       "      <td>1562.56</td>\n",
       "      <td>1552.0</td>\n",
       "      <td>55.0</td>\n",
       "      <td>53605.0</td>\n",
       "      <td>51.0</td>\n",
       "      <td>100268013</td>\n",
       "      <td>660192</td>\n",
       "      <td>13815011</td>\n",
       "      <td>1.0</td>\n",
       "      <td>1.0</td>\n",
       "      <td>0.0</td>\n",
       "      <td>1.0</td>\n",
       "      <td>1.0</td>\n",
       "      <td>0.0</td>\n",
       "      <td>0.0</td>\n",
       "      <td>0.0</td>\n",
       "      <td>0.0</td>\n",
       "      <td>0.0</td>\n",
       "      <td>0.0</td>\n",
       "      <td>1.0</td>\n",
       "      <td>0.0</td>\n",
       "      <td>0.0</td>\n",
       "      <td>0.0</td>\n",
       "      <td>0.0</td>\n",
       "      <td>0.0</td>\n",
       "      <td>0.0</td>\n",
       "      <td>0.0</td>\n",
       "      <td>0.0</td>\n",
       "      <td>0.0</td>\n",
       "      <td>30.638371</td>\n",
       "      <td>0.0</td>\n",
       "      <td>0</td>\n",
       "      <td>0</td>\n",
       "      <td>0</td>\n",
       "      <td>1</td>\n",
       "      <td>0</td>\n",
       "      <td>0.0</td>\n",
       "    </tr>\n",
       "  </tbody>\n",
       "</table>\n",
       "</div>"
      ],
      "text/plain": [
       "   channel_id  source_id create_time    reg_date   amount  paper_use_amount  \\\n",
       "0       20953     252731  2020-01-02  2020-01-02  1562.56           1562.56   \n",
       "1       20953     252731  2020-01-02  2020-01-02  1562.56           1562.56   \n",
       "2       20953     252731  2020-01-02  2020-01-02  1562.56           1562.56   \n",
       "3       20953     252731  2020-01-02  2020-01-02  1562.56           1562.56   \n",
       "4       20953     252731  2020-01-02  2020-01-02  1562.56           1562.56   \n",
       "\n",
       "   click_num  down_num       pv  create_role_num    user_id cp_server_no  \\\n",
       "0     1552.0      55.0  53605.0             51.0  100261967       660192   \n",
       "1     1552.0      55.0  53605.0             51.0  100262535       660191   \n",
       "2     1552.0      55.0  53605.0             51.0  100262535       660192   \n",
       "3     1552.0      55.0  53605.0             51.0  100262535       660193   \n",
       "4     1552.0      55.0  53605.0             51.0  100268013       660192   \n",
       "\n",
       "  cp_role_id  role_created_login_num  role_created_active  \\\n",
       "0   13814061                     1.0                  1.0   \n",
       "1   13814172                    40.0                  3.0   \n",
       "2   13814172                    27.0                  3.0   \n",
       "3   13814172                    19.0                  3.0   \n",
       "4   13815011                     1.0                  1.0   \n",
       "\n",
       "   role_created_online  max_role_level  ip_num  pay_num  pay_sum  active_0-8  \\\n",
       "0                  0.0             1.0     1.0      0.0      0.0         0.0   \n",
       "1              50265.0            57.0     2.0      0.0      0.0        68.0   \n",
       "2              46271.0            57.0     2.0      0.0      0.0        35.0   \n",
       "3              25424.0            54.0     2.0      0.0      0.0        14.0   \n",
       "4                  0.0             1.0     1.0      0.0      0.0         0.0   \n",
       "\n",
       "   active_8-12  active_12-14  active_14-18  active_18-24  pay_grade_1  \\\n",
       "0          0.0           0.0           1.0           0.0          0.0   \n",
       "1         33.0           7.0          27.0          44.0          0.0   \n",
       "2         16.0           0.0          27.0          68.0          0.0   \n",
       "3         12.0          18.0          15.0          21.0          0.0   \n",
       "4          0.0           0.0           0.0           1.0          0.0   \n",
       "\n",
       "   pay_grade_2  pay_grade_3  pay_grade_4  pay_grade_5  pay_grade_6  pay_rate  \\\n",
       "0          0.0          0.0          0.0          0.0          0.0       0.0   \n",
       "1          0.0          0.0          0.0          0.0          0.0       0.0   \n",
       "2          0.0          0.0          0.0          0.0          0.0       0.0   \n",
       "3          0.0          0.0          0.0          0.0          0.0       0.0   \n",
       "4          0.0          0.0          0.0          0.0          0.0       0.0   \n",
       "\n",
       "   pay_avg  role_created_30_pay_sum        cpc  source_pay_sum  b_r  m_r  s_r  \\\n",
       "0      0.0                      0.0  30.638371             0.0    0    0    0   \n",
       "1      0.0                      0.0  30.638371             0.0    0    0    0   \n",
       "2      0.0                      0.0  30.638371             0.0    0    0    0   \n",
       "3      0.0                      0.0  30.638371             0.0    0    0    0   \n",
       "4      0.0                      0.0  30.638371             0.0    0    0    0   \n",
       "\n",
       "   rubbish  common  ROI  \n",
       "0        1       0  0.0  \n",
       "1        0       1  0.0  \n",
       "2        0       1  0.0  \n",
       "3        0       1  0.0  \n",
       "4        1       0  0.0  "
      ]
     },
     "execution_count": 23,
     "metadata": {},
     "output_type": "execute_result"
    }
   ],
   "source": [
    "data_amount_y.head()"
   ]
  },
  {
   "cell_type": "code",
   "execution_count": 24,
   "metadata": {},
   "outputs": [],
   "source": [
    "data_amount_y_1 = data_amount_y.drop_duplicates(['channel_id','source_id','reg_date'])"
   ]
  },
  {
   "cell_type": "code",
   "execution_count": 36,
   "metadata": {},
   "outputs": [],
   "source": [
    "data_amount_y_1 = data_amount_y_1[data_amount_y_1['amount']>=500]"
   ]
  },
  {
   "cell_type": "code",
   "execution_count": 39,
   "metadata": {},
   "outputs": [
    {
     "data": {
      "text/plain": [
       "0.8505729737907038"
      ]
     },
     "execution_count": 39,
     "metadata": {},
     "output_type": "execute_result"
    }
   ],
   "source": [
    "data_amount_y_1[data_amount_y_1['ROI']<0.5].shape[0]/data_amount_y_1.shape[0]"
   ]
  },
  {
   "cell_type": "code",
   "execution_count": 40,
   "metadata": {},
   "outputs": [
    {
     "data": {
      "text/plain": [
       "0.7890397488748534"
      ]
     },
     "execution_count": 40,
     "metadata": {},
     "output_type": "execute_result"
    }
   ],
   "source": [
    "data_amount_y_1[data_amount_y_1['ROI']<0.3].shape[0]/data_amount_y_1.shape[0]"
   ]
  },
  {
   "cell_type": "code",
   "execution_count": 41,
   "metadata": {},
   "outputs": [
    {
     "data": {
      "text/plain": [
       "0.7333308119965205"
      ]
     },
     "execution_count": 41,
     "metadata": {},
     "output_type": "execute_result"
    }
   ],
   "source": [
    "data_amount_y_1[data_amount_y_1['ROI']<0.2].shape[0]/data_amount_y_1.shape[0]"
   ]
  },
  {
   "cell_type": "code",
   "execution_count": 42,
   "metadata": {},
   "outputs": [
    {
     "data": {
      "text/plain": [
       "0.6382133807344654"
      ]
     },
     "execution_count": 42,
     "metadata": {},
     "output_type": "execute_result"
    }
   ],
   "source": [
    "data_amount_y_1[data_amount_y_1['ROI']<0.1].shape[0]/data_amount_y_1.shape[0]"
   ]
  },
  {
   "cell_type": "code",
   "execution_count": 46,
   "metadata": {},
   "outputs": [
    {
     "data": {
      "text/plain": [
       "59843006.839999996"
      ]
     },
     "execution_count": 46,
     "metadata": {},
     "output_type": "execute_result"
    }
   ],
   "source": [
    "data_amount_y_1[data_amount_y_1['ROI']<0.2]['amount'].sum()"
   ]
  },
  {
   "cell_type": "code",
   "execution_count": 45,
   "metadata": {},
   "outputs": [
    {
     "data": {
      "text/plain": [
       "0.5594135483286952"
      ]
     },
     "execution_count": 45,
     "metadata": {},
     "output_type": "execute_result"
    }
   ],
   "source": [
    "data_amount_y_1[data_amount_y_1['ROI']<0.2]['amount'].sum()/data_amount_y_1['amount'].sum()"
   ]
  },
  {
   "cell_type": "code",
   "execution_count": null,
   "metadata": {},
   "outputs": [],
   "source": []
  }
 ],
 "metadata": {
  "kernelspec": {
   "display_name": "Python 3",
   "language": "python",
   "name": "python3"
  },
  "language_info": {
   "codemirror_mode": {
    "name": "ipython",
    "version": 3
   },
   "file_extension": ".py",
   "mimetype": "text/x-python",
   "name": "python",
   "nbconvert_exporter": "python",
   "pygments_lexer": "ipython3",
   "version": "3.7.6"
  }
 },
 "nbformat": 4,
 "nbformat_minor": 4
}
