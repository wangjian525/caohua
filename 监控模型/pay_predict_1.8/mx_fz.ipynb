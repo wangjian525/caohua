{
 "cells": [
  {
   "cell_type": "code",
   "execution_count": 53,
   "metadata": {},
   "outputs": [],
   "source": [
    "import web\n",
    "import time\n",
    "import logging\n",
    "import json\n",
    "import pandas as pd\n",
    "import numpy as np\n",
    "import joblib"
   ]
  },
  {
   "cell_type": "code",
   "execution_count": 54,
   "metadata": {},
   "outputs": [],
   "source": [
    "model_path = \"./\"\n",
    "lgb_r_1d = joblib.load(model_path + 'lgb_r_1d.pkl')\n",
    "lgb_r_2d = joblib.load(model_path + 'lgb_r_2d.pkl')\n",
    "lgb_r_3d = joblib.load(model_path + 'lgb_r_3d.pkl')\n",
    "lgb_r_4d = joblib.load(model_path + 'lgb_r_4d.pkl')\n",
    "lgb_r_5d = joblib.load(model_path + 'lgb_r_5d.pkl')\n",
    "lgb_r_6d = joblib.load(model_path + 'lgb_r_6d.pkl')\n",
    "lgb_r_7d = joblib.load(model_path + 'lgb_r_7d.pkl')\n",
    "source_lgb_b = joblib.load(model_path + 'source_lgb_b.pkl')"
   ]
  },
  {
   "cell_type": "code",
   "execution_count": 114,
   "metadata": {},
   "outputs": [],
   "source": [
    "def do_role_info(jsondata):\n",
    "    src_role_info = pd.DataFrame(data=jsondata['data'], columns=jsondata['columns'])\n",
    "    # 根据角色创建时间类型分组\n",
    "    role_info_predict = None\n",
    "    for role_data_type in [0, 1, 2, 3, 4, 5, 6, 7]:\n",
    "        role_info = src_role_info[src_role_info['role_data_type'] == role_data_type]\n",
    "        if role_info.size == 0:\n",
    "            continue\n",
    "        # 特征选择\n",
    "        select_features = [\"user_id\", \"cp_server_no\", \"mgame_id\", \"cp_role_id\", \"role_id\", \"create_role_time\",\n",
    "                           \"create_role_date\",\"channel_id\", \"source_id\", \"game_id\", \"media_id\", \"role_data_type\",\n",
    "                           \"role_created_login_num\", \"role_created_active\", \"role_created_online\", \"max_role_level\",\n",
    "                           \"ip_num\", \"pay_num\",\"pay_sum\",\"active_0-8\", \"active_8-12\", \"active_12-14\", \"active_14-18\",\n",
    "                           \"active_18-24\",\"pay_grade_1\", \"pay_grade_2\", \"pay_grade_3\", \"pay_grade_4\",\n",
    "                           \"pay_grade_5\", \"pay_grade_6\",\"pay_rate\", \"pay_avg\"]\n",
    "        role_info = role_info[select_features]\n",
    "        # 根据角色行为分类\n",
    "        role_info_pay = role_info[role_info['pay_sum'] != 0]\n",
    "        role_info_nopay = role_info[role_info['pay_sum'] == 0]\n",
    "        role_info_nopay_online_n = role_info_nopay[(role_info_nopay['role_created_online'] <= 600) &\n",
    "                        (role_info_nopay['role_created_login_num'] <= 2) & (role_info_nopay['max_role_level'] <= 10)]\n",
    "        role_info_nopay_online_y = role_info_nopay[~((role_info_nopay['role_created_online'] <= 600) &\n",
    "                       (role_info_nopay['role_created_login_num'] <= 2) & (role_info_nopay['max_role_level'] <= 10))]\n",
    "\n",
    "        # 标记角户质量不付费不在线0;不付费在线1;付费2\n",
    "        role_info_nopay_online_n['role_type'] = 0\n",
    "        role_info_nopay_online_y['role_type'] = 1\n",
    "        role_info_pay['role_type'] = 2\n",
    "\n",
    "        # 付费金额预测\n",
    "        role_info_nopay_online_n['predict_30_pay'] = 0\n",
    "        role_info_nopay_online_y['predict_30_pay'] = 0\n",
    "        drop_features = ['user_id', 'cp_server_no', 'mgame_id', 'cp_role_id', 'role_id', 'create_role_time','create_role_date',\n",
    "                         'role_type',\"channel_id\", \"source_id\", \"game_id\", \"media_id\", \"role_data_type\"]\n",
    "        if role_info_pay.size != 0:\n",
    "            if role_data_type == 0 or role_data_type == 1:\n",
    "                role_info_pay['predict_30_pay'] = np.expm1(lgb_r_1d.predict(role_info_pay.drop(drop_features, axis=1))) * 2.1\n",
    "            elif role_data_type == 2:\n",
    "                role_info_pay['predict_30_pay'] = np.expm1(lgb_r_2d.predict(role_info_pay.drop(drop_features, axis=1))) * 1.64\n",
    "            elif role_data_type == 3:\n",
    "                role_info_pay['predict_30_pay'] = np.expm1(lgb_r_3d.predict(role_info_pay.drop(drop_features, axis=1))) * 1.54\n",
    "            elif role_data_type == 4:\n",
    "                role_info_pay['predict_30_pay'] = np.expm1(lgb_r_4d.predict(role_info_pay.drop(drop_features, axis=1))) * 1.39\n",
    "            elif role_data_type == 5:\n",
    "                role_info_pay['predict_30_pay'] = np.expm1(lgb_r_5d.predict(role_info_pay.drop(drop_features, axis=1))) * 1.32\n",
    "            elif role_data_type == 6:\n",
    "                role_info_pay['predict_30_pay'] = np.expm1(lgb_r_6d.predict(role_info_pay.drop(drop_features, axis=1))) * 1.29\n",
    "            elif role_data_type == 7:\n",
    "                role_info_pay['predict_30_pay'] = np.expm1(lgb_r_7d.predict(role_info_pay.drop(drop_features, axis=1))) * 1.255\n",
    "        # 数据输出\n",
    "        if role_info_predict is None:\n",
    "            role_info_predict = pd.concat([role_info_pay, role_info_nopay_online_n, role_info_nopay_online_y], axis=0)\n",
    "        else:\n",
    "            role_info_predict = pd.concat([role_info_predict, role_info_pay, role_info_nopay_online_n,\n",
    "                                           role_info_nopay_online_y], axis=0)\n",
    "        role_info_predict = role_info_predict[['user_id', 'cp_server_no', 'mgame_id', 'cp_role_id', 'create_role_time','create_role_date',\n",
    "                         'role_type',\"channel_id\", \"source_id\", \"game_id\", \"media_id\", \"role_data_type\",'predict_30_pay']]\n",
    "    return {\"columns\": role_info_predict.columns.values.tolist(), \"list\": role_info_predict.values.tolist()}"
   ]
  },
  {
   "cell_type": "code",
   "execution_count": 122,
   "metadata": {},
   "outputs": [],
   "source": [
    "jsondata = {\"action\": \"role_info\",\n",
    "      \"columns\": [\"user_id\", \"cp_server_no\", \"mgame_id\", \"cp_role_id\", \"role_id\",\"create_role_time\", \"create_role_date\", \"channel_id\", \"source_id\", \"game_id\",\"media_id\",\"role_data_type\", \n",
    "          \"role_created_login_num\", \"role_created_active\", \"role_created_online\", \"max_role_level\", \"ip_num\", \"pay_num\", \"pay_sum\", \n",
    "          \"active_0-8\", \"active_8-12\", \"active_12-14\", \"active_14-18\", \"active_18-24\", \n",
    "          \"pay_grade_1\", \"pay_grade_2\", \"pay_grade_3\", \"pay_grade_4\", \"pay_grade_5\", \"pay_grade_6\", \n",
    "          \"pay_rate\", \"pay_avg\"],\n",
    "      \"data\": data[0]}"
   ]
  },
  {
   "cell_type": "code",
   "execution_count": 137,
   "metadata": {},
   "outputs": [],
   "source": [
    "jsondata = {\"action\": \"role_info\",\n",
    "      \"columns\": [\"user_id\", \"cp_server_no\", \"mgame_id\", \"cp_role_id\", \"role_id\",\"create_role_time\", \"create_role_date\", \"channel_id\", \"source_id\", \"game_id\",\"media_id\",\"role_data_type\", \n",
    "          \"role_created_login_num\", \"role_created_active\", \"role_created_online\", \"max_role_level\", \"ip_num\", \"pay_num\", \"pay_sum\", \n",
    "          \"active_0-8\", \"active_8-12\", \"active_12-14\", \"active_14-18\", \"active_18-24\", \n",
    "          \"pay_grade_1\", \"pay_grade_2\", \"pay_grade_3\", \"pay_grade_4\", \"pay_grade_5\", \"pay_grade_6\", \n",
    "          \"pay_rate\", \"pay_avg\"],\n",
    "      \"data\": [[120234147,\n",
    " 'S1164',\n",
    " 1056,\n",
    " '19764109',\n",
    " 14274099,\n",
    " '2020-08-18 10:04:43',\n",
    " '2020/8/18',\n",
    " 20638,\n",
    " 331512,\n",
    " 1000993,\n",
    " 16,\n",
    " 2,\n",
    " 0,\n",
    " 0,\n",
    " 0,\n",
    " 0,\n",
    " 0,\n",
    " 0,\n",
    " 0,\n",
    " 0,\n",
    " 0,\n",
    " 0,\n",
    " 0,\n",
    " 0,\n",
    " 0,\n",
    " 0,\n",
    " 0,\n",
    " 0,\n",
    " 0,\n",
    " 0,\n",
    " 0.0,\n",
    " 0.0]]}"
   ]
  },
  {
   "cell_type": "code",
   "execution_count": 138,
   "metadata": {
    "scrolled": true
   },
   "outputs": [
    {
     "data": {
      "text/plain": [
       "{'columns': ['user_id',\n",
       "  'cp_server_no',\n",
       "  'mgame_id',\n",
       "  'cp_role_id',\n",
       "  'create_role_time',\n",
       "  'create_role_date',\n",
       "  'role_type',\n",
       "  'channel_id',\n",
       "  'source_id',\n",
       "  'game_id',\n",
       "  'media_id',\n",
       "  'role_data_type',\n",
       "  'predict_30_pay'],\n",
       " 'list': [[120234147,\n",
       "   'S1164',\n",
       "   1056,\n",
       "   '19764109',\n",
       "   '2020-08-18 10:04:43',\n",
       "   '2020/8/18',\n",
       "   0,\n",
       "   20638,\n",
       "   331512,\n",
       "   1000993,\n",
       "   16,\n",
       "   2,\n",
       "   0.0]]}"
      ]
     },
     "execution_count": 138,
     "metadata": {},
     "output_type": "execute_result"
    }
   ],
   "source": [
    "do_role_info(jsondata)"
   ]
  },
  {
   "cell_type": "code",
   "execution_count": 102,
   "metadata": {},
   "outputs": [],
   "source": [
    "src_role_info = pd.DataFrame(jsondata['data'],columns=jsondata['columns'])"
   ]
  },
  {
   "cell_type": "code",
   "execution_count": 103,
   "metadata": {},
   "outputs": [],
   "source": [
    "src_role_info = pd.DataFrame([data[0][0]],columns=jsondata['columns'])\n"
   ]
  },
  {
   "cell_type": "code",
   "execution_count": 104,
   "metadata": {},
   "outputs": [],
   "source": [
    "pd.set_option('display.max_columns',None)"
   ]
  },
  {
   "cell_type": "code",
   "execution_count": 105,
   "metadata": {},
   "outputs": [
    {
     "data": {
      "text/plain": [
       "(1, 32)"
      ]
     },
     "execution_count": 105,
     "metadata": {},
     "output_type": "execute_result"
    }
   ],
   "source": [
    "src_role_info[src_role_info['role_data_type'] == 0].shape"
   ]
  },
  {
   "cell_type": "code",
   "execution_count": 106,
   "metadata": {},
   "outputs": [],
   "source": [
    "role_info = src_role_info[src_role_info['role_data_type'] == 0]"
   ]
  },
  {
   "cell_type": "code",
   "execution_count": 107,
   "metadata": {},
   "outputs": [
    {
     "data": {
      "text/html": [
       "<div>\n",
       "<style scoped>\n",
       "    .dataframe tbody tr th:only-of-type {\n",
       "        vertical-align: middle;\n",
       "    }\n",
       "\n",
       "    .dataframe tbody tr th {\n",
       "        vertical-align: top;\n",
       "    }\n",
       "\n",
       "    .dataframe thead th {\n",
       "        text-align: right;\n",
       "    }\n",
       "</style>\n",
       "<table border=\"1\" class=\"dataframe\">\n",
       "  <thead>\n",
       "    <tr style=\"text-align: right;\">\n",
       "      <th></th>\n",
       "      <th>user_id</th>\n",
       "      <th>cp_server_no</th>\n",
       "      <th>mgame_id</th>\n",
       "      <th>cp_role_id</th>\n",
       "      <th>role_id</th>\n",
       "      <th>create_role_time</th>\n",
       "      <th>create_role_date</th>\n",
       "      <th>channel_id</th>\n",
       "      <th>source_id</th>\n",
       "      <th>game_id</th>\n",
       "      <th>media_id</th>\n",
       "      <th>role_data_type</th>\n",
       "      <th>role_created_login_num</th>\n",
       "      <th>role_created_active</th>\n",
       "      <th>role_created_online</th>\n",
       "      <th>max_role_level</th>\n",
       "      <th>ip_num</th>\n",
       "      <th>pay_num</th>\n",
       "      <th>pay_sum</th>\n",
       "      <th>active_0-8</th>\n",
       "      <th>active_8-12</th>\n",
       "      <th>active_12-14</th>\n",
       "      <th>active_14-18</th>\n",
       "      <th>active_18-24</th>\n",
       "      <th>pay_grade_1</th>\n",
       "      <th>pay_grade_2</th>\n",
       "      <th>pay_grade_3</th>\n",
       "      <th>pay_grade_4</th>\n",
       "      <th>pay_grade_5</th>\n",
       "      <th>pay_grade_6</th>\n",
       "      <th>pay_rate</th>\n",
       "      <th>pay_avg</th>\n",
       "    </tr>\n",
       "  </thead>\n",
       "  <tbody>\n",
       "    <tr>\n",
       "      <th>0</th>\n",
       "      <td>120234147</td>\n",
       "      <td>S1164</td>\n",
       "      <td>1056</td>\n",
       "      <td>19764109</td>\n",
       "      <td>14274099</td>\n",
       "      <td>2020-08-18 10:04:43</td>\n",
       "      <td>2020/8/18</td>\n",
       "      <td>20638</td>\n",
       "      <td>331512</td>\n",
       "      <td>1000993</td>\n",
       "      <td>16</td>\n",
       "      <td>0</td>\n",
       "      <td>7</td>\n",
       "      <td>1</td>\n",
       "      <td>0</td>\n",
       "      <td>8</td>\n",
       "      <td>1</td>\n",
       "      <td>0</td>\n",
       "      <td>0.0</td>\n",
       "      <td>0</td>\n",
       "      <td>3</td>\n",
       "      <td>0</td>\n",
       "      <td>0</td>\n",
       "      <td>0</td>\n",
       "      <td>0</td>\n",
       "      <td>0</td>\n",
       "      <td>0</td>\n",
       "      <td>0</td>\n",
       "      <td>0</td>\n",
       "      <td>0</td>\n",
       "      <td>0.0</td>\n",
       "      <td>0.0</td>\n",
       "    </tr>\n",
       "  </tbody>\n",
       "</table>\n",
       "</div>"
      ],
      "text/plain": [
       "     user_id cp_server_no  mgame_id cp_role_id   role_id     create_role_time  \\\n",
       "0  120234147        S1164      1056   19764109  14274099  2020-08-18 10:04:43   \n",
       "\n",
       "  create_role_date  channel_id  source_id  game_id  media_id  role_data_type  \\\n",
       "0        2020/8/18       20638     331512  1000993        16               0   \n",
       "\n",
       "   role_created_login_num  role_created_active  role_created_online  \\\n",
       "0                       7                    1                    0   \n",
       "\n",
       "   max_role_level  ip_num  pay_num  pay_sum  active_0-8  active_8-12  \\\n",
       "0               8       1        0      0.0           0            3   \n",
       "\n",
       "   active_12-14  active_14-18  active_18-24  pay_grade_1  pay_grade_2  \\\n",
       "0             0             0             0            0            0   \n",
       "\n",
       "   pay_grade_3  pay_grade_4  pay_grade_5  pay_grade_6  pay_rate  pay_avg  \n",
       "0            0            0            0            0       0.0      0.0  "
      ]
     },
     "execution_count": 107,
     "metadata": {},
     "output_type": "execute_result"
    }
   ],
   "source": [
    "role_info"
   ]
  },
  {
   "cell_type": "code",
   "execution_count": 108,
   "metadata": {},
   "outputs": [],
   "source": [
    "role_info_pay = role_info[role_info['pay_sum'] != 0]\n",
    "role_info_nopay = role_info[role_info['pay_sum'] == 0]\n",
    "role_info_nopay_online_n = role_info_nopay[(role_info_nopay['role_created_online'] <= 600) &\n",
    "                (role_info_nopay['role_created_login_num'] <= 2) & (role_info_nopay['max_role_level'] <= 10)]\n",
    "role_info_nopay_online_y = role_info_nopay[~((role_info_nopay['role_created_online'] <= 600) &\n",
    "               (role_info_nopay['role_created_login_num'] <= 2) & (role_info_nopay['max_role_level'] <= 10))]\n",
    "\n",
    "# 标记角户质量不付费不在线0;不付费在线1;付费2\n",
    "role_info_nopay_online_n['role_type'] = 0\n",
    "role_info_nopay_online_y['role_type'] = 1\n",
    "role_info_pay['role_type'] = 2"
   ]
  },
  {
   "cell_type": "code",
   "execution_count": 109,
   "metadata": {},
   "outputs": [
    {
     "data": {
      "text/html": [
       "<div>\n",
       "<style scoped>\n",
       "    .dataframe tbody tr th:only-of-type {\n",
       "        vertical-align: middle;\n",
       "    }\n",
       "\n",
       "    .dataframe tbody tr th {\n",
       "        vertical-align: top;\n",
       "    }\n",
       "\n",
       "    .dataframe thead th {\n",
       "        text-align: right;\n",
       "    }\n",
       "</style>\n",
       "<table border=\"1\" class=\"dataframe\">\n",
       "  <thead>\n",
       "    <tr style=\"text-align: right;\">\n",
       "      <th></th>\n",
       "      <th>user_id</th>\n",
       "      <th>cp_server_no</th>\n",
       "      <th>mgame_id</th>\n",
       "      <th>cp_role_id</th>\n",
       "      <th>role_id</th>\n",
       "      <th>create_role_time</th>\n",
       "      <th>create_role_date</th>\n",
       "      <th>channel_id</th>\n",
       "      <th>source_id</th>\n",
       "      <th>game_id</th>\n",
       "      <th>media_id</th>\n",
       "      <th>role_data_type</th>\n",
       "      <th>role_created_login_num</th>\n",
       "      <th>role_created_active</th>\n",
       "      <th>role_created_online</th>\n",
       "      <th>max_role_level</th>\n",
       "      <th>ip_num</th>\n",
       "      <th>pay_num</th>\n",
       "      <th>pay_sum</th>\n",
       "      <th>active_0-8</th>\n",
       "      <th>active_8-12</th>\n",
       "      <th>active_12-14</th>\n",
       "      <th>active_14-18</th>\n",
       "      <th>active_18-24</th>\n",
       "      <th>pay_grade_1</th>\n",
       "      <th>pay_grade_2</th>\n",
       "      <th>pay_grade_3</th>\n",
       "      <th>pay_grade_4</th>\n",
       "      <th>pay_grade_5</th>\n",
       "      <th>pay_grade_6</th>\n",
       "      <th>pay_rate</th>\n",
       "      <th>pay_avg</th>\n",
       "      <th>role_type</th>\n",
       "    </tr>\n",
       "  </thead>\n",
       "  <tbody>\n",
       "  </tbody>\n",
       "</table>\n",
       "</div>"
      ],
      "text/plain": [
       "Empty DataFrame\n",
       "Columns: [user_id, cp_server_no, mgame_id, cp_role_id, role_id, create_role_time, create_role_date, channel_id, source_id, game_id, media_id, role_data_type, role_created_login_num, role_created_active, role_created_online, max_role_level, ip_num, pay_num, pay_sum, active_0-8, active_8-12, active_12-14, active_14-18, active_18-24, pay_grade_1, pay_grade_2, pay_grade_3, pay_grade_4, pay_grade_5, pay_grade_6, pay_rate, pay_avg, role_type]\n",
       "Index: []"
      ]
     },
     "execution_count": 109,
     "metadata": {},
     "output_type": "execute_result"
    }
   ],
   "source": [
    "role_info_pay"
   ]
  },
  {
   "cell_type": "code",
   "execution_count": 96,
   "metadata": {},
   "outputs": [],
   "source": [
    "select_features = [\"user_id\", \"cp_server_no\", \"mgame_id\", \"cp_role_id\", \"role_id\", \"create_role_time\",\n",
    "                   \"create_role_date\",\"channel_id\", \"source_id\", \"game_id\", \"media_id\", \"role_data_type\",\n",
    "                   \"role_created_login_num\", \"role_created_active\", \"role_created_online\", \"max_role_level\",\n",
    "                   \"ip_num\", \"pay_num\",\"pay_sum\",\"active_0-8\", \"active_8-12\", \"active_12-14\", \"active_14-18\",\n",
    "                   \"active_18-24\",\"pay_grade_1\", \"pay_grade_2\", \"pay_grade_3\", \"pay_grade_4\",\n",
    "                   \"pay_grade_5\", \"pay_grade_6\",\"pay_rate\", \"pay_avg\"]\n",
    "role_info = role_info[select_features]"
   ]
  },
  {
   "cell_type": "code",
   "execution_count": 97,
   "metadata": {},
   "outputs": [],
   "source": [
    "drop_features = ['user_id', 'cp_server_no', 'mgame_id', 'cp_role_id', 'role_id', 'create_role_time','create_role_date',\n",
    "                 'role_type',\"channel_id\", \"source_id\", \"game_id\", \"media_id\", \"role_data_type\"]"
   ]
  },
  {
   "cell_type": "code",
   "execution_count": 101,
   "metadata": {},
   "outputs": [
    {
     "data": {
      "text/html": [
       "<div>\n",
       "<style scoped>\n",
       "    .dataframe tbody tr th:only-of-type {\n",
       "        vertical-align: middle;\n",
       "    }\n",
       "\n",
       "    .dataframe tbody tr th {\n",
       "        vertical-align: top;\n",
       "    }\n",
       "\n",
       "    .dataframe thead th {\n",
       "        text-align: right;\n",
       "    }\n",
       "</style>\n",
       "<table border=\"1\" class=\"dataframe\">\n",
       "  <thead>\n",
       "    <tr style=\"text-align: right;\">\n",
       "      <th></th>\n",
       "      <th>user_id</th>\n",
       "      <th>cp_server_no</th>\n",
       "      <th>mgame_id</th>\n",
       "      <th>cp_role_id</th>\n",
       "      <th>role_id</th>\n",
       "      <th>create_role_time</th>\n",
       "      <th>create_role_date</th>\n",
       "      <th>channel_id</th>\n",
       "      <th>source_id</th>\n",
       "      <th>game_id</th>\n",
       "      <th>media_id</th>\n",
       "      <th>role_data_type</th>\n",
       "      <th>role_created_login_num</th>\n",
       "      <th>role_created_active</th>\n",
       "      <th>role_created_online</th>\n",
       "      <th>max_role_level</th>\n",
       "      <th>ip_num</th>\n",
       "      <th>pay_num</th>\n",
       "      <th>pay_sum</th>\n",
       "      <th>active_0-8</th>\n",
       "      <th>active_8-12</th>\n",
       "      <th>active_12-14</th>\n",
       "      <th>active_14-18</th>\n",
       "      <th>active_18-24</th>\n",
       "      <th>pay_grade_1</th>\n",
       "      <th>pay_grade_2</th>\n",
       "      <th>pay_grade_3</th>\n",
       "      <th>pay_grade_4</th>\n",
       "      <th>pay_grade_5</th>\n",
       "      <th>pay_grade_6</th>\n",
       "      <th>pay_rate</th>\n",
       "      <th>pay_avg</th>\n",
       "      <th>role_type</th>\n",
       "    </tr>\n",
       "  </thead>\n",
       "  <tbody>\n",
       "  </tbody>\n",
       "</table>\n",
       "</div>"
      ],
      "text/plain": [
       "Empty DataFrame\n",
       "Columns: [user_id, cp_server_no, mgame_id, cp_role_id, role_id, create_role_time, create_role_date, channel_id, source_id, game_id, media_id, role_data_type, role_created_login_num, role_created_active, role_created_online, max_role_level, ip_num, pay_num, pay_sum, active_0-8, active_8-12, active_12-14, active_14-18, active_18-24, pay_grade_1, pay_grade_2, pay_grade_3, pay_grade_4, pay_grade_5, pay_grade_6, pay_rate, pay_avg, role_type]\n",
       "Index: []"
      ]
     },
     "execution_count": 101,
     "metadata": {},
     "output_type": "execute_result"
    }
   ],
   "source": [
    "role_info_pay"
   ]
  },
  {
   "cell_type": "code",
   "execution_count": 99,
   "metadata": {},
   "outputs": [],
   "source": [
    "df1 = role_info_pay.drop(drop_features, axis=1)"
   ]
  },
  {
   "cell_type": "code",
   "execution_count": 100,
   "metadata": {},
   "outputs": [
    {
     "data": {
      "text/html": [
       "<div>\n",
       "<style scoped>\n",
       "    .dataframe tbody tr th:only-of-type {\n",
       "        vertical-align: middle;\n",
       "    }\n",
       "\n",
       "    .dataframe tbody tr th {\n",
       "        vertical-align: top;\n",
       "    }\n",
       "\n",
       "    .dataframe thead th {\n",
       "        text-align: right;\n",
       "    }\n",
       "</style>\n",
       "<table border=\"1\" class=\"dataframe\">\n",
       "  <thead>\n",
       "    <tr style=\"text-align: right;\">\n",
       "      <th></th>\n",
       "      <th>role_created_login_num</th>\n",
       "      <th>role_created_active</th>\n",
       "      <th>role_created_online</th>\n",
       "      <th>max_role_level</th>\n",
       "      <th>ip_num</th>\n",
       "      <th>pay_num</th>\n",
       "      <th>pay_sum</th>\n",
       "      <th>active_0-8</th>\n",
       "      <th>active_8-12</th>\n",
       "      <th>active_12-14</th>\n",
       "      <th>active_14-18</th>\n",
       "      <th>active_18-24</th>\n",
       "      <th>pay_grade_1</th>\n",
       "      <th>pay_grade_2</th>\n",
       "      <th>pay_grade_3</th>\n",
       "      <th>pay_grade_4</th>\n",
       "      <th>pay_grade_5</th>\n",
       "      <th>pay_grade_6</th>\n",
       "      <th>pay_rate</th>\n",
       "      <th>pay_avg</th>\n",
       "    </tr>\n",
       "  </thead>\n",
       "  <tbody>\n",
       "  </tbody>\n",
       "</table>\n",
       "</div>"
      ],
      "text/plain": [
       "Empty DataFrame\n",
       "Columns: [role_created_login_num, role_created_active, role_created_online, max_role_level, ip_num, pay_num, pay_sum, active_0-8, active_8-12, active_12-14, active_14-18, active_18-24, pay_grade_1, pay_grade_2, pay_grade_3, pay_grade_4, pay_grade_5, pay_grade_6, pay_rate, pay_avg]\n",
       "Index: []"
      ]
     },
     "execution_count": 100,
     "metadata": {},
     "output_type": "execute_result"
    }
   ],
   "source": [
    "df1"
   ]
  },
  {
   "cell_type": "code",
   "execution_count": 98,
   "metadata": {},
   "outputs": [
    {
     "ename": "ValueError",
     "evalue": "Input data must be 2 dimensional and non empty.",
     "output_type": "error",
     "traceback": [
      "\u001b[1;31m---------------------------------------------------------------------------\u001b[0m",
      "\u001b[1;31mValueError\u001b[0m                                Traceback (most recent call last)",
      "\u001b[1;32m<ipython-input-98-9f10b65dccbd>\u001b[0m in \u001b[0;36m<module>\u001b[1;34m\u001b[0m\n\u001b[1;32m----> 1\u001b[1;33m \u001b[0mlgb_r_1d\u001b[0m\u001b[1;33m.\u001b[0m\u001b[0mpredict\u001b[0m\u001b[1;33m(\u001b[0m\u001b[0mrole_info_pay\u001b[0m\u001b[1;33m.\u001b[0m\u001b[0mdrop\u001b[0m\u001b[1;33m(\u001b[0m\u001b[0mdrop_features\u001b[0m\u001b[1;33m,\u001b[0m \u001b[0maxis\u001b[0m\u001b[1;33m=\u001b[0m\u001b[1;36m1\u001b[0m\u001b[1;33m)\u001b[0m\u001b[1;33m)\u001b[0m\u001b[1;33m\u001b[0m\u001b[1;33m\u001b[0m\u001b[0m\n\u001b[0m",
      "\u001b[1;32m~\\anaconda3\\lib\\site-packages\\lightgbm\\basic.py\u001b[0m in \u001b[0;36mpredict\u001b[1;34m(self, data, num_iteration, raw_score, pred_leaf, pred_contrib, data_has_header, is_reshape, **kwargs)\u001b[0m\n\u001b[0;32m   2413\u001b[0m         return predictor.predict(data, num_iteration,\n\u001b[0;32m   2414\u001b[0m                                  \u001b[0mraw_score\u001b[0m\u001b[1;33m,\u001b[0m \u001b[0mpred_leaf\u001b[0m\u001b[1;33m,\u001b[0m \u001b[0mpred_contrib\u001b[0m\u001b[1;33m,\u001b[0m\u001b[1;33m\u001b[0m\u001b[1;33m\u001b[0m\u001b[0m\n\u001b[1;32m-> 2415\u001b[1;33m                                  data_has_header, is_reshape)\n\u001b[0m\u001b[0;32m   2416\u001b[0m \u001b[1;33m\u001b[0m\u001b[0m\n\u001b[0;32m   2417\u001b[0m     \u001b[1;32mdef\u001b[0m \u001b[0mrefit\u001b[0m\u001b[1;33m(\u001b[0m\u001b[0mself\u001b[0m\u001b[1;33m,\u001b[0m \u001b[0mdata\u001b[0m\u001b[1;33m,\u001b[0m \u001b[0mlabel\u001b[0m\u001b[1;33m,\u001b[0m \u001b[0mdecay_rate\u001b[0m\u001b[1;33m=\u001b[0m\u001b[1;36m0.9\u001b[0m\u001b[1;33m,\u001b[0m \u001b[1;33m**\u001b[0m\u001b[0mkwargs\u001b[0m\u001b[1;33m)\u001b[0m\u001b[1;33m:\u001b[0m\u001b[1;33m\u001b[0m\u001b[1;33m\u001b[0m\u001b[0m\n",
      "\u001b[1;32m~\\anaconda3\\lib\\site-packages\\lightgbm\\basic.py\u001b[0m in \u001b[0;36mpredict\u001b[1;34m(self, data, num_iteration, raw_score, pred_leaf, pred_contrib, data_has_header, is_reshape)\u001b[0m\n\u001b[0;32m    502\u001b[0m         \u001b[1;32mif\u001b[0m \u001b[0misinstance\u001b[0m\u001b[1;33m(\u001b[0m\u001b[0mdata\u001b[0m\u001b[1;33m,\u001b[0m \u001b[0mDataset\u001b[0m\u001b[1;33m)\u001b[0m\u001b[1;33m:\u001b[0m\u001b[1;33m\u001b[0m\u001b[1;33m\u001b[0m\u001b[0m\n\u001b[0;32m    503\u001b[0m             \u001b[1;32mraise\u001b[0m \u001b[0mTypeError\u001b[0m\u001b[1;33m(\u001b[0m\u001b[1;34m\"Cannot use Dataset instance for prediction, please use raw data instead\"\u001b[0m\u001b[1;33m)\u001b[0m\u001b[1;33m\u001b[0m\u001b[1;33m\u001b[0m\u001b[0m\n\u001b[1;32m--> 504\u001b[1;33m         \u001b[0mdata\u001b[0m \u001b[1;33m=\u001b[0m \u001b[0m_data_from_pandas\u001b[0m\u001b[1;33m(\u001b[0m\u001b[0mdata\u001b[0m\u001b[1;33m,\u001b[0m \u001b[1;32mNone\u001b[0m\u001b[1;33m,\u001b[0m \u001b[1;32mNone\u001b[0m\u001b[1;33m,\u001b[0m \u001b[0mself\u001b[0m\u001b[1;33m.\u001b[0m\u001b[0mpandas_categorical\u001b[0m\u001b[1;33m)\u001b[0m\u001b[1;33m[\u001b[0m\u001b[1;36m0\u001b[0m\u001b[1;33m]\u001b[0m\u001b[1;33m\u001b[0m\u001b[1;33m\u001b[0m\u001b[0m\n\u001b[0m\u001b[0;32m    505\u001b[0m         \u001b[0mpredict_type\u001b[0m \u001b[1;33m=\u001b[0m \u001b[0mC_API_PREDICT_NORMAL\u001b[0m\u001b[1;33m\u001b[0m\u001b[1;33m\u001b[0m\u001b[0m\n\u001b[0;32m    506\u001b[0m         \u001b[1;32mif\u001b[0m \u001b[0mraw_score\u001b[0m\u001b[1;33m:\u001b[0m\u001b[1;33m\u001b[0m\u001b[1;33m\u001b[0m\u001b[0m\n",
      "\u001b[1;32m~\\anaconda3\\lib\\site-packages\\lightgbm\\basic.py\u001b[0m in \u001b[0;36m_data_from_pandas\u001b[1;34m(data, feature_name, categorical_feature, pandas_categorical)\u001b[0m\n\u001b[0;32m    313\u001b[0m     \u001b[1;32mif\u001b[0m \u001b[0misinstance\u001b[0m\u001b[1;33m(\u001b[0m\u001b[0mdata\u001b[0m\u001b[1;33m,\u001b[0m \u001b[0mDataFrame\u001b[0m\u001b[1;33m)\u001b[0m\u001b[1;33m:\u001b[0m\u001b[1;33m\u001b[0m\u001b[1;33m\u001b[0m\u001b[0m\n\u001b[0;32m    314\u001b[0m         \u001b[1;32mif\u001b[0m \u001b[0mlen\u001b[0m\u001b[1;33m(\u001b[0m\u001b[0mdata\u001b[0m\u001b[1;33m.\u001b[0m\u001b[0mshape\u001b[0m\u001b[1;33m)\u001b[0m \u001b[1;33m!=\u001b[0m \u001b[1;36m2\u001b[0m \u001b[1;32mor\u001b[0m \u001b[0mdata\u001b[0m\u001b[1;33m.\u001b[0m\u001b[0mshape\u001b[0m\u001b[1;33m[\u001b[0m\u001b[1;36m0\u001b[0m\u001b[1;33m]\u001b[0m \u001b[1;33m<\u001b[0m \u001b[1;36m1\u001b[0m\u001b[1;33m:\u001b[0m\u001b[1;33m\u001b[0m\u001b[1;33m\u001b[0m\u001b[0m\n\u001b[1;32m--> 315\u001b[1;33m             \u001b[1;32mraise\u001b[0m \u001b[0mValueError\u001b[0m\u001b[1;33m(\u001b[0m\u001b[1;34m'Input data must be 2 dimensional and non empty.'\u001b[0m\u001b[1;33m)\u001b[0m\u001b[1;33m\u001b[0m\u001b[1;33m\u001b[0m\u001b[0m\n\u001b[0m\u001b[0;32m    316\u001b[0m         \u001b[1;32mif\u001b[0m \u001b[0mfeature_name\u001b[0m \u001b[1;33m==\u001b[0m \u001b[1;34m'auto'\u001b[0m \u001b[1;32mor\u001b[0m \u001b[0mfeature_name\u001b[0m \u001b[1;32mis\u001b[0m \u001b[1;32mNone\u001b[0m\u001b[1;33m:\u001b[0m\u001b[1;33m\u001b[0m\u001b[1;33m\u001b[0m\u001b[0m\n\u001b[0;32m    317\u001b[0m             \u001b[0mdata\u001b[0m \u001b[1;33m=\u001b[0m \u001b[0mdata\u001b[0m\u001b[1;33m.\u001b[0m\u001b[0mrename\u001b[0m\u001b[1;33m(\u001b[0m\u001b[0mcolumns\u001b[0m\u001b[1;33m=\u001b[0m\u001b[0mstr\u001b[0m\u001b[1;33m)\u001b[0m\u001b[1;33m\u001b[0m\u001b[1;33m\u001b[0m\u001b[0m\n",
      "\u001b[1;31mValueError\u001b[0m: Input data must be 2 dimensional and non empty."
     ]
    }
   ],
   "source": [
    "lgb_r_1d.predict(role_info_pay.drop(drop_features, axis=1))"
   ]
  },
  {
   "cell_type": "code",
   "execution_count": null,
   "metadata": {},
   "outputs": [],
   "source": [
    "\n",
    "# 根据角色行为分类\n",
    "role_info_pay = role_info[role_info['pay_sum'] != 0]\n",
    "role_info_nopay = role_info[role_info['pay_sum'] == 0]\n",
    "role_info_nopay_online_n = role_info_nopay[(role_info_nopay['role_created_online'] <= 600) &\n",
    "                (role_info_nopay['role_created_login_num'] <= 2) & (role_info_nopay['max_role_level'] <= 10)]\n",
    "role_info_nopay_online_y = role_info_nopay[~((role_info_nopay['role_created_online'] <= 600) &\n",
    "               (role_info_nopay['role_created_login_num'] <= 2) & (role_info_nopay['max_role_level'] <= 10))]\n",
    "\n",
    "# 标记角户质量不付费不在线0;不付费在线1;付费2\n",
    "role_info_nopay_online_n['role_type'] = 0\n",
    "role_info_nopay_online_y['role_type'] = 1\n",
    "role_info_pay['role_type'] = 2\n",
    "\n",
    "# 付费金额预测\n",
    "role_info_nopay_online_n['predict_30_pay'] = 0\n",
    "role_info_nopay_online_y['predict_30_pay'] = 0\n",
    "drop_features = ['user_id', 'cp_server_no', 'mgame_id', 'cp_role_id', 'role_id', 'create_role_time','create_role_date',\n",
    "                 'role_type',\"channel_id\", \"source_id\", \"game_id\", \"media_id\", \"role_data_type\"]\n",
    "print(role_info_pay.drop(drop_features, axis=1).shape)\n",
    "print(role_data_type)\n",
    "if role_data_type == 0 | role_data_type == 1:\n",
    "    role_info_pay['predict_30_pay'] = np.expm1(lgb_r_1d.predict(role_info_pay.drop(drop_features, axis=1))) * 2.1"
   ]
  },
  {
   "cell_type": "code",
   "execution_count": 91,
   "metadata": {},
   "outputs": [
    {
     "name": "stdout",
     "output_type": "stream",
     "text": [
      "(1, 32)\n",
      "(0, 20)\n",
      "0\n"
     ]
    }
   ],
   "source": [
    "for role_data_type in [0, 1, 2, 3, 4, 5, 6, 7]:\n",
    "    role_info = src_role_info[src_role_info['role_data_type'] == role_data_type]\n",
    "    if role_info.size == 0:\n",
    "        continue\n",
    "    print(role_info.shape)\n",
    "    select_features = [\"user_id\", \"cp_server_no\", \"mgame_id\", \"cp_role_id\", \"role_id\", \"create_role_time\",\n",
    "                       \"create_role_date\",\"channel_id\", \"source_id\", \"game_id\", \"media_id\", \"role_data_type\",\n",
    "                       \"role_created_login_num\", \"role_created_active\", \"role_created_online\", \"max_role_level\",\n",
    "                       \"ip_num\", \"pay_num\",\"pay_sum\",\"active_0-8\", \"active_8-12\", \"active_12-14\", \"active_14-18\",\n",
    "                       \"active_18-24\",\"pay_grade_1\", \"pay_grade_2\", \"pay_grade_3\", \"pay_grade_4\",\n",
    "                       \"pay_grade_5\", \"pay_grade_6\",\"pay_rate\", \"pay_avg\"]\n",
    "    role_info = role_info[select_features]\n",
    "    # 根据角色行为分类\n",
    "    role_info_pay = role_info[role_info['pay_sum'] != 0]\n",
    "    role_info_nopay = role_info[role_info['pay_sum'] == 0]\n",
    "    role_info_nopay_online_n = role_info_nopay[(role_info_nopay['role_created_online'] <= 600) &\n",
    "                    (role_info_nopay['role_created_login_num'] <= 2) & (role_info_nopay['max_role_level'] <= 10)]\n",
    "    role_info_nopay_online_y = role_info_nopay[~((role_info_nopay['role_created_online'] <= 600) &\n",
    "                   (role_info_nopay['role_created_login_num'] <= 2) & (role_info_nopay['max_role_level'] <= 10))]\n",
    "\n",
    "    # 标记角户质量不付费不在线0;不付费在线1;付费2\n",
    "    role_info_nopay_online_n['role_type'] = 0\n",
    "    role_info_nopay_online_y['role_type'] = 1\n",
    "    role_info_pay['role_type'] = 2\n",
    "\n",
    "    # 付费金额预测\n",
    "    role_info_nopay_online_n['predict_30_pay'] = 0\n",
    "    role_info_nopay_online_y['predict_30_pay'] = 0\n",
    "    drop_features = ['user_id', 'cp_server_no', 'mgame_id', 'cp_role_id', 'role_id', 'create_role_time','create_role_date',\n",
    "                     'role_type',\"channel_id\", \"source_id\", \"game_id\", \"media_id\", \"role_data_type\"]\n",
    "    print(role_info_pay.drop(drop_features, axis=1).shape)\n",
    "    print(role_data_type)\n",
    "    if role_data_type == 0 | role_data_type == 1:\n",
    "        role_info_pay['predict_30_pay'] = np.expm1(lgb_r_1d.predict(role_info_pay.drop(drop_features, axis=1))) * 2.1\n",
    "    #         if role_data_type == 0:\n",
    "    #             role_info_pay['predict_30_pay'] = np.expm1(lgb_r_1d.predict(role_info_pay.drop(drop_features, axis=1))) * 2.1\n",
    "\n",
    "    #         elif role_data_type == 1:\n",
    "    #             role_info_pay['predict_30_pay'] = np.expm1(lgb_r_1d.predict(role_info_pay.drop(drop_features, axis=1))) * 2.1\n",
    "\n",
    "\n",
    "    #         print(role_info_pay['predict_30_pay'])"
   ]
  },
  {
   "cell_type": "code",
   "execution_count": 93,
   "metadata": {},
   "outputs": [
    {
     "data": {
      "text/html": [
       "<div>\n",
       "<style scoped>\n",
       "    .dataframe tbody tr th:only-of-type {\n",
       "        vertical-align: middle;\n",
       "    }\n",
       "\n",
       "    .dataframe tbody tr th {\n",
       "        vertical-align: top;\n",
       "    }\n",
       "\n",
       "    .dataframe thead th {\n",
       "        text-align: right;\n",
       "    }\n",
       "</style>\n",
       "<table border=\"1\" class=\"dataframe\">\n",
       "  <thead>\n",
       "    <tr style=\"text-align: right;\">\n",
       "      <th></th>\n",
       "      <th>user_id</th>\n",
       "      <th>cp_server_no</th>\n",
       "      <th>mgame_id</th>\n",
       "      <th>cp_role_id</th>\n",
       "      <th>role_id</th>\n",
       "      <th>create_role_time</th>\n",
       "      <th>create_role_date</th>\n",
       "      <th>channel_id</th>\n",
       "      <th>source_id</th>\n",
       "      <th>game_id</th>\n",
       "      <th>media_id</th>\n",
       "      <th>role_data_type</th>\n",
       "      <th>role_created_login_num</th>\n",
       "      <th>role_created_active</th>\n",
       "      <th>role_created_online</th>\n",
       "      <th>max_role_level</th>\n",
       "      <th>ip_num</th>\n",
       "      <th>pay_num</th>\n",
       "      <th>pay_sum</th>\n",
       "      <th>active_0-8</th>\n",
       "      <th>active_8-12</th>\n",
       "      <th>active_12-14</th>\n",
       "      <th>active_14-18</th>\n",
       "      <th>active_18-24</th>\n",
       "      <th>pay_grade_1</th>\n",
       "      <th>pay_grade_2</th>\n",
       "      <th>pay_grade_3</th>\n",
       "      <th>pay_grade_4</th>\n",
       "      <th>pay_grade_5</th>\n",
       "      <th>pay_grade_6</th>\n",
       "      <th>pay_rate</th>\n",
       "      <th>pay_avg</th>\n",
       "      <th>role_type</th>\n",
       "    </tr>\n",
       "  </thead>\n",
       "  <tbody>\n",
       "  </tbody>\n",
       "</table>\n",
       "</div>"
      ],
      "text/plain": [
       "Empty DataFrame\n",
       "Columns: [user_id, cp_server_no, mgame_id, cp_role_id, role_id, create_role_time, create_role_date, channel_id, source_id, game_id, media_id, role_data_type, role_created_login_num, role_created_active, role_created_online, max_role_level, ip_num, pay_num, pay_sum, active_0-8, active_8-12, active_12-14, active_14-18, active_18-24, pay_grade_1, pay_grade_2, pay_grade_3, pay_grade_4, pay_grade_5, pay_grade_6, pay_rate, pay_avg, role_type]\n",
       "Index: []"
      ]
     },
     "execution_count": 93,
     "metadata": {},
     "output_type": "execute_result"
    }
   ],
   "source": [
    "role_info_pay"
   ]
  },
  {
   "cell_type": "code",
   "execution_count": 49,
   "metadata": {},
   "outputs": [
    {
     "data": {
      "text/plain": [
       "True"
      ]
     },
     "execution_count": 49,
     "metadata": {},
     "output_type": "execute_result"
    }
   ],
   "source": [
    "(role_data_type==0 or role_data_type ==1)"
   ]
  },
  {
   "cell_type": "code",
   "execution_count": 48,
   "metadata": {},
   "outputs": [
    {
     "data": {
      "text/plain": [
       "False"
      ]
     },
     "execution_count": 48,
     "metadata": {},
     "output_type": "execute_result"
    }
   ],
   "source": [
    "(role_data_type==0 | role_data_type ==1)"
   ]
  },
  {
   "cell_type": "code",
   "execution_count": 44,
   "metadata": {
    "scrolled": true
   },
   "outputs": [
    {
     "data": {
      "text/plain": [
       "7"
      ]
     },
     "execution_count": 44,
     "metadata": {},
     "output_type": "execute_result"
    }
   ],
   "source": [
    "role_data_type"
   ]
  },
  {
   "cell_type": "code",
   "execution_count": 42,
   "metadata": {},
   "outputs": [
    {
     "ename": "KeyError",
     "evalue": "'predict_30_pay'",
     "output_type": "error",
     "traceback": [
      "\u001b[1;31m---------------------------------------------------------------------------\u001b[0m",
      "\u001b[1;31mKeyError\u001b[0m                                  Traceback (most recent call last)",
      "\u001b[1;32m~\\anaconda3\\lib\\site-packages\\pandas\\core\\indexes\\base.py\u001b[0m in \u001b[0;36mget_loc\u001b[1;34m(self, key, method, tolerance)\u001b[0m\n\u001b[0;32m   2645\u001b[0m             \u001b[1;32mtry\u001b[0m\u001b[1;33m:\u001b[0m\u001b[1;33m\u001b[0m\u001b[1;33m\u001b[0m\u001b[0m\n\u001b[1;32m-> 2646\u001b[1;33m                 \u001b[1;32mreturn\u001b[0m \u001b[0mself\u001b[0m\u001b[1;33m.\u001b[0m\u001b[0m_engine\u001b[0m\u001b[1;33m.\u001b[0m\u001b[0mget_loc\u001b[0m\u001b[1;33m(\u001b[0m\u001b[0mkey\u001b[0m\u001b[1;33m)\u001b[0m\u001b[1;33m\u001b[0m\u001b[1;33m\u001b[0m\u001b[0m\n\u001b[0m\u001b[0;32m   2647\u001b[0m             \u001b[1;32mexcept\u001b[0m \u001b[0mKeyError\u001b[0m\u001b[1;33m:\u001b[0m\u001b[1;33m\u001b[0m\u001b[1;33m\u001b[0m\u001b[0m\n",
      "\u001b[1;32mpandas\\_libs\\index.pyx\u001b[0m in \u001b[0;36mpandas._libs.index.IndexEngine.get_loc\u001b[1;34m()\u001b[0m\n",
      "\u001b[1;32mpandas\\_libs\\index.pyx\u001b[0m in \u001b[0;36mpandas._libs.index.IndexEngine.get_loc\u001b[1;34m()\u001b[0m\n",
      "\u001b[1;32mpandas\\_libs\\hashtable_class_helper.pxi\u001b[0m in \u001b[0;36mpandas._libs.hashtable.PyObjectHashTable.get_item\u001b[1;34m()\u001b[0m\n",
      "\u001b[1;32mpandas\\_libs\\hashtable_class_helper.pxi\u001b[0m in \u001b[0;36mpandas._libs.hashtable.PyObjectHashTable.get_item\u001b[1;34m()\u001b[0m\n",
      "\u001b[1;31mKeyError\u001b[0m: 'predict_30_pay'",
      "\nDuring handling of the above exception, another exception occurred:\n",
      "\u001b[1;31mKeyError\u001b[0m                                  Traceback (most recent call last)",
      "\u001b[1;32m<ipython-input-42-9a7873d549b7>\u001b[0m in \u001b[0;36m<module>\u001b[1;34m\u001b[0m\n\u001b[1;32m----> 1\u001b[1;33m \u001b[0mrole_info_pay\u001b[0m\u001b[1;33m[\u001b[0m\u001b[1;34m'predict_30_pay'\u001b[0m\u001b[1;33m]\u001b[0m\u001b[1;33m\u001b[0m\u001b[1;33m\u001b[0m\u001b[0m\n\u001b[0m",
      "\u001b[1;32m~\\anaconda3\\lib\\site-packages\\pandas\\core\\frame.py\u001b[0m in \u001b[0;36m__getitem__\u001b[1;34m(self, key)\u001b[0m\n\u001b[0;32m   2798\u001b[0m             \u001b[1;32mif\u001b[0m \u001b[0mself\u001b[0m\u001b[1;33m.\u001b[0m\u001b[0mcolumns\u001b[0m\u001b[1;33m.\u001b[0m\u001b[0mnlevels\u001b[0m \u001b[1;33m>\u001b[0m \u001b[1;36m1\u001b[0m\u001b[1;33m:\u001b[0m\u001b[1;33m\u001b[0m\u001b[1;33m\u001b[0m\u001b[0m\n\u001b[0;32m   2799\u001b[0m                 \u001b[1;32mreturn\u001b[0m \u001b[0mself\u001b[0m\u001b[1;33m.\u001b[0m\u001b[0m_getitem_multilevel\u001b[0m\u001b[1;33m(\u001b[0m\u001b[0mkey\u001b[0m\u001b[1;33m)\u001b[0m\u001b[1;33m\u001b[0m\u001b[1;33m\u001b[0m\u001b[0m\n\u001b[1;32m-> 2800\u001b[1;33m             \u001b[0mindexer\u001b[0m \u001b[1;33m=\u001b[0m \u001b[0mself\u001b[0m\u001b[1;33m.\u001b[0m\u001b[0mcolumns\u001b[0m\u001b[1;33m.\u001b[0m\u001b[0mget_loc\u001b[0m\u001b[1;33m(\u001b[0m\u001b[0mkey\u001b[0m\u001b[1;33m)\u001b[0m\u001b[1;33m\u001b[0m\u001b[1;33m\u001b[0m\u001b[0m\n\u001b[0m\u001b[0;32m   2801\u001b[0m             \u001b[1;32mif\u001b[0m \u001b[0mis_integer\u001b[0m\u001b[1;33m(\u001b[0m\u001b[0mindexer\u001b[0m\u001b[1;33m)\u001b[0m\u001b[1;33m:\u001b[0m\u001b[1;33m\u001b[0m\u001b[1;33m\u001b[0m\u001b[0m\n\u001b[0;32m   2802\u001b[0m                 \u001b[0mindexer\u001b[0m \u001b[1;33m=\u001b[0m \u001b[1;33m[\u001b[0m\u001b[0mindexer\u001b[0m\u001b[1;33m]\u001b[0m\u001b[1;33m\u001b[0m\u001b[1;33m\u001b[0m\u001b[0m\n",
      "\u001b[1;32m~\\anaconda3\\lib\\site-packages\\pandas\\core\\indexes\\base.py\u001b[0m in \u001b[0;36mget_loc\u001b[1;34m(self, key, method, tolerance)\u001b[0m\n\u001b[0;32m   2646\u001b[0m                 \u001b[1;32mreturn\u001b[0m \u001b[0mself\u001b[0m\u001b[1;33m.\u001b[0m\u001b[0m_engine\u001b[0m\u001b[1;33m.\u001b[0m\u001b[0mget_loc\u001b[0m\u001b[1;33m(\u001b[0m\u001b[0mkey\u001b[0m\u001b[1;33m)\u001b[0m\u001b[1;33m\u001b[0m\u001b[1;33m\u001b[0m\u001b[0m\n\u001b[0;32m   2647\u001b[0m             \u001b[1;32mexcept\u001b[0m \u001b[0mKeyError\u001b[0m\u001b[1;33m:\u001b[0m\u001b[1;33m\u001b[0m\u001b[1;33m\u001b[0m\u001b[0m\n\u001b[1;32m-> 2648\u001b[1;33m                 \u001b[1;32mreturn\u001b[0m \u001b[0mself\u001b[0m\u001b[1;33m.\u001b[0m\u001b[0m_engine\u001b[0m\u001b[1;33m.\u001b[0m\u001b[0mget_loc\u001b[0m\u001b[1;33m(\u001b[0m\u001b[0mself\u001b[0m\u001b[1;33m.\u001b[0m\u001b[0m_maybe_cast_indexer\u001b[0m\u001b[1;33m(\u001b[0m\u001b[0mkey\u001b[0m\u001b[1;33m)\u001b[0m\u001b[1;33m)\u001b[0m\u001b[1;33m\u001b[0m\u001b[1;33m\u001b[0m\u001b[0m\n\u001b[0m\u001b[0;32m   2649\u001b[0m         \u001b[0mindexer\u001b[0m \u001b[1;33m=\u001b[0m \u001b[0mself\u001b[0m\u001b[1;33m.\u001b[0m\u001b[0mget_indexer\u001b[0m\u001b[1;33m(\u001b[0m\u001b[1;33m[\u001b[0m\u001b[0mkey\u001b[0m\u001b[1;33m]\u001b[0m\u001b[1;33m,\u001b[0m \u001b[0mmethod\u001b[0m\u001b[1;33m=\u001b[0m\u001b[0mmethod\u001b[0m\u001b[1;33m,\u001b[0m \u001b[0mtolerance\u001b[0m\u001b[1;33m=\u001b[0m\u001b[0mtolerance\u001b[0m\u001b[1;33m)\u001b[0m\u001b[1;33m\u001b[0m\u001b[1;33m\u001b[0m\u001b[0m\n\u001b[0;32m   2650\u001b[0m         \u001b[1;32mif\u001b[0m \u001b[0mindexer\u001b[0m\u001b[1;33m.\u001b[0m\u001b[0mndim\u001b[0m \u001b[1;33m>\u001b[0m \u001b[1;36m1\u001b[0m \u001b[1;32mor\u001b[0m \u001b[0mindexer\u001b[0m\u001b[1;33m.\u001b[0m\u001b[0msize\u001b[0m \u001b[1;33m>\u001b[0m \u001b[1;36m1\u001b[0m\u001b[1;33m:\u001b[0m\u001b[1;33m\u001b[0m\u001b[1;33m\u001b[0m\u001b[0m\n",
      "\u001b[1;32mpandas\\_libs\\index.pyx\u001b[0m in \u001b[0;36mpandas._libs.index.IndexEngine.get_loc\u001b[1;34m()\u001b[0m\n",
      "\u001b[1;32mpandas\\_libs\\index.pyx\u001b[0m in \u001b[0;36mpandas._libs.index.IndexEngine.get_loc\u001b[1;34m()\u001b[0m\n",
      "\u001b[1;32mpandas\\_libs\\hashtable_class_helper.pxi\u001b[0m in \u001b[0;36mpandas._libs.hashtable.PyObjectHashTable.get_item\u001b[1;34m()\u001b[0m\n",
      "\u001b[1;32mpandas\\_libs\\hashtable_class_helper.pxi\u001b[0m in \u001b[0;36mpandas._libs.hashtable.PyObjectHashTable.get_item\u001b[1;34m()\u001b[0m\n",
      "\u001b[1;31mKeyError\u001b[0m: 'predict_30_pay'"
     ]
    }
   ],
   "source": [
    "role_info_pay['predict_30_pay']"
   ]
  },
  {
   "cell_type": "code",
   "execution_count": 25,
   "metadata": {},
   "outputs": [
    {
     "name": "stdout",
     "output_type": "stream",
     "text": [
      "0    True\n",
      "Name: role_data_type, dtype: bool\n",
      "0    False\n",
      "Name: role_data_type, dtype: bool\n",
      "0    False\n",
      "Name: role_data_type, dtype: bool\n",
      "0    False\n",
      "Name: role_data_type, dtype: bool\n",
      "0    False\n",
      "Name: role_data_type, dtype: bool\n",
      "0    False\n",
      "Name: role_data_type, dtype: bool\n",
      "0    False\n",
      "Name: role_data_type, dtype: bool\n",
      "0    False\n",
      "Name: role_data_type, dtype: bool\n"
     ]
    }
   ],
   "source": [
    "for role_data_type in [0, 1, 2, 3, 4, 5, 6, 7]:\n",
    "    print(src_role_info['role_data_type'] == role_data_type)"
   ]
  },
  {
   "cell_type": "code",
   "execution_count": 20,
   "metadata": {},
   "outputs": [],
   "source": [
    "for role_data_type in [0, 1, 2, 3, 4, 5, 6, 7]:\n",
    "        role_info = src_role_info[src_role_info['role_data_type'] == role_data_type]"
   ]
  },
  {
   "cell_type": "code",
   "execution_count": 21,
   "metadata": {},
   "outputs": [
    {
     "data": {
      "text/html": [
       "<div>\n",
       "<style scoped>\n",
       "    .dataframe tbody tr th:only-of-type {\n",
       "        vertical-align: middle;\n",
       "    }\n",
       "\n",
       "    .dataframe tbody tr th {\n",
       "        vertical-align: top;\n",
       "    }\n",
       "\n",
       "    .dataframe thead th {\n",
       "        text-align: right;\n",
       "    }\n",
       "</style>\n",
       "<table border=\"1\" class=\"dataframe\">\n",
       "  <thead>\n",
       "    <tr style=\"text-align: right;\">\n",
       "      <th></th>\n",
       "      <th>user_id</th>\n",
       "      <th>cp_server_no</th>\n",
       "      <th>mgame_id</th>\n",
       "      <th>cp_role_id</th>\n",
       "      <th>role_id</th>\n",
       "      <th>create_role_time</th>\n",
       "      <th>create_role_date</th>\n",
       "      <th>channel_id</th>\n",
       "      <th>source_id</th>\n",
       "      <th>game_id</th>\n",
       "      <th>media_id</th>\n",
       "      <th>role_data_type</th>\n",
       "      <th>role_created_login_num</th>\n",
       "      <th>role_created_active</th>\n",
       "      <th>role_created_online</th>\n",
       "      <th>max_role_level</th>\n",
       "      <th>ip_num</th>\n",
       "      <th>pay_num</th>\n",
       "      <th>pay_sum</th>\n",
       "      <th>active_0-8</th>\n",
       "      <th>active_8-12</th>\n",
       "      <th>active_12-14</th>\n",
       "      <th>active_14-18</th>\n",
       "      <th>active_18-24</th>\n",
       "      <th>pay_grade_1</th>\n",
       "      <th>pay_grade_2</th>\n",
       "      <th>pay_grade_3</th>\n",
       "      <th>pay_grade_4</th>\n",
       "      <th>pay_grade_5</th>\n",
       "      <th>pay_grade_6</th>\n",
       "      <th>pay_rate</th>\n",
       "      <th>pay_avg</th>\n",
       "    </tr>\n",
       "  </thead>\n",
       "  <tbody>\n",
       "  </tbody>\n",
       "</table>\n",
       "</div>"
      ],
      "text/plain": [
       "Empty DataFrame\n",
       "Columns: [user_id, cp_server_no, mgame_id, cp_role_id, role_id, create_role_time, create_role_date, channel_id, source_id, game_id, media_id, role_data_type, role_created_login_num, role_created_active, role_created_online, max_role_level, ip_num, pay_num, pay_sum, active_0-8, active_8-12, active_12-14, active_14-18, active_18-24, pay_grade_1, pay_grade_2, pay_grade_3, pay_grade_4, pay_grade_5, pay_grade_6, pay_rate, pay_avg]\n",
       "Index: []"
      ]
     },
     "execution_count": 21,
     "metadata": {},
     "output_type": "execute_result"
    }
   ],
   "source": [
    "role_info"
   ]
  }
 ],
 "metadata": {
  "kernelspec": {
   "display_name": "Python 3",
   "language": "python",
   "name": "python3"
  },
  "language_info": {
   "codemirror_mode": {
    "name": "ipython",
    "version": 3
   },
   "file_extension": ".py",
   "mimetype": "text/x-python",
   "name": "python",
   "nbconvert_exporter": "python",
   "pygments_lexer": "ipython3",
   "version": "3.7.6"
  }
 },
 "nbformat": 4,
 "nbformat_minor": 4
}
