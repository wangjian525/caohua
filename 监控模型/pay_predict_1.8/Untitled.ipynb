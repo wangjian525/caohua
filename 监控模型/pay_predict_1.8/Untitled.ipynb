{
 "cells": [
  {
   "cell_type": "code",
   "execution_count": 2,
   "metadata": {},
   "outputs": [],
   "source": [
    "import web\n",
    "import time\n",
    "import logging\n",
    "import json\n",
    "import pandas as pd\n",
    "import numpy as np\n",
    "import joblib\n",
    "\n",
    "model_path = './'\n",
    "lgb_r_1d = joblib.load(model_path + 'lgb_r_1d.pkl')\n",
    "lgb_r_2d = joblib.load(model_path + 'lgb_r_2d.pkl')\n",
    "lgb_r_3d = joblib.load(model_path + 'lgb_r_3d.pkl')\n",
    "lgb_r_4d = joblib.load(model_path + 'lgb_r_4d.pkl')\n",
    "lgb_r_5d = joblib.load(model_path + 'lgb_r_5d.pkl')\n",
    "lgb_r_6d = joblib.load(model_path + 'lgb_r_6d.pkl')\n",
    "lgb_r_7d = joblib.load(model_path + 'lgb_r_7d.pkl')\n",
    "source_lgb_b = joblib.load(model_path + 'source_lgb_b.pkl')"
   ]
  },
  {
   "cell_type": "code",
   "execution_count": 14,
   "metadata": {},
   "outputs": [],
   "source": [
    "def do_source_info_1(jsondata):\n",
    "    '''\n",
    "    :param jsondata: {columns : 'channel_id','source_id','source_run_date','source_run_date_amount','type_0_rate',\n",
    "                      'type_1_rate','type_2_rate','source_30_roi_predict'}\n",
    "    :return:\n",
    "    '''\n",
    "\n",
    "    source_info_1 = pd.DataFrame(data=jsondata['data'], columns=jsondata['columns'])\n",
    "    source_info_1 = source_info_1[source_info_1['source_run_date_amount']>=500]\n",
    "    # 实时模型预测：差计划source_type=0；观望source_type=1\n",
    "    drop_features = ['channel_id', 'source_id', 'source_run_date','source_run_date_amount']\n",
    "    source_info_1['source_type'] = source_lgb_b.predict(source_info_1.drop(drop_features, axis=1))\n",
    "    source_info_1['source_type'] = source_info_1['source_type'].apply(lambda x: 0 if x < 0.3 else 1)\n",
    "    # 数据输出\n",
    "    source_info_1 = source_info_1[['channel_id', 'source_id', 'source_run_date',\n",
    "                                   'source_run_date_amount', 'source_type']]\n",
    "\n",
    "    return {\"columns\": source_info_1.columns.values.tolist(), \"list\": source_info_1.values.tolist()}\n"
   ]
  },
  {
   "cell_type": "code",
   "execution_count": 4,
   "metadata": {},
   "outputs": [],
   "source": [
    "jsondata = { \n",
    "      \"columns\": [\"channel_id\",\"source_id\",\"source_run_date\",\"source_run_date_amount\",\"type_0_rate\",\"type_1_rate\",\"type_2_rate\",\"source_30_roi_predict\"],\n",
    "      \"data\":[[1,1,\"2020-03-30\",1000,0.5,0.3,0.2,0.3],\n",
    "            [2,3,\"2020-03-30\",1000,0.4,0.3,0.3,0.3]\n",
    "      ]\n",
    "    }"
   ]
  },
  {
   "cell_type": "code",
   "execution_count": 7,
   "metadata": {},
   "outputs": [],
   "source": [
    "source_info_1 = pd.DataFrame(data=jsondata['data'], columns=jsondata['columns'])"
   ]
  },
  {
   "cell_type": "code",
   "execution_count": 8,
   "metadata": {},
   "outputs": [
    {
     "data": {
      "text/html": [
       "<div>\n",
       "<style scoped>\n",
       "    .dataframe tbody tr th:only-of-type {\n",
       "        vertical-align: middle;\n",
       "    }\n",
       "\n",
       "    .dataframe tbody tr th {\n",
       "        vertical-align: top;\n",
       "    }\n",
       "\n",
       "    .dataframe thead th {\n",
       "        text-align: right;\n",
       "    }\n",
       "</style>\n",
       "<table border=\"1\" class=\"dataframe\">\n",
       "  <thead>\n",
       "    <tr style=\"text-align: right;\">\n",
       "      <th></th>\n",
       "      <th>channel_id</th>\n",
       "      <th>source_id</th>\n",
       "      <th>source_run_date</th>\n",
       "      <th>source_run_date_amount</th>\n",
       "      <th>type_0_rate</th>\n",
       "      <th>type_1_rate</th>\n",
       "      <th>type_2_rate</th>\n",
       "      <th>source_30_roi_predict</th>\n",
       "    </tr>\n",
       "  </thead>\n",
       "  <tbody>\n",
       "    <tr>\n",
       "      <th>0</th>\n",
       "      <td>1</td>\n",
       "      <td>1</td>\n",
       "      <td>2020-03-30</td>\n",
       "      <td>1000</td>\n",
       "      <td>0.5</td>\n",
       "      <td>0.3</td>\n",
       "      <td>0.2</td>\n",
       "      <td>0.3</td>\n",
       "    </tr>\n",
       "    <tr>\n",
       "      <th>1</th>\n",
       "      <td>2</td>\n",
       "      <td>3</td>\n",
       "      <td>2020-03-30</td>\n",
       "      <td>1000</td>\n",
       "      <td>0.4</td>\n",
       "      <td>0.3</td>\n",
       "      <td>0.3</td>\n",
       "      <td>0.3</td>\n",
       "    </tr>\n",
       "  </tbody>\n",
       "</table>\n",
       "</div>"
      ],
      "text/plain": [
       "   channel_id  source_id source_run_date  source_run_date_amount  type_0_rate  \\\n",
       "0           1          1      2020-03-30                    1000          0.5   \n",
       "1           2          3      2020-03-30                    1000          0.4   \n",
       "\n",
       "   type_1_rate  type_2_rate  source_30_roi_predict  \n",
       "0          0.3          0.2                    0.3  \n",
       "1          0.3          0.3                    0.3  "
      ]
     },
     "execution_count": 8,
     "metadata": {},
     "output_type": "execute_result"
    }
   ],
   "source": [
    "source_info_1"
   ]
  },
  {
   "cell_type": "code",
   "execution_count": 9,
   "metadata": {},
   "outputs": [
    {
     "data": {
      "text/plain": [
       "0    1000\n",
       "1    1000\n",
       "Name: source_run_date_amount, dtype: int64"
      ]
     },
     "execution_count": 9,
     "metadata": {},
     "output_type": "execute_result"
    }
   ],
   "source": [
    "source_info_1['source_run_date_amount']"
   ]
  },
  {
   "cell_type": "code",
   "execution_count": 6,
   "metadata": {},
   "outputs": [
    {
     "name": "stdout",
     "output_type": "stream",
     "text": [
      "{'columns': ['channel_id', 'source_id', 'source_run_date', 'source_run_date_amount', 'type_0_rate', 'type_1_rate', 'type_2_rate', 'source_30_roi_predict'], 'data': [[1, 1, '2020-03-30', 1000, 0.5, 0.3, 0.2, 0.3], [2, 3, '2020-03-30', 1000, 0.4, 0.3, 0.3, 0.3]]}\n"
     ]
    }
   ],
   "source": [
    "print(jsondata)"
   ]
  },
  {
   "cell_type": "code",
   "execution_count": 15,
   "metadata": {},
   "outputs": [
    {
     "data": {
      "text/plain": [
       "{'columns': ['channel_id',\n",
       "  'source_id',\n",
       "  'source_run_date',\n",
       "  'source_run_date_amount',\n",
       "  'source_type'],\n",
       " 'list': [[1, 1, '2020-03-30', 1000, 1], [2, 3, '2020-03-30', 1000, 1]]}"
      ]
     },
     "execution_count": 15,
     "metadata": {},
     "output_type": "execute_result"
    }
   ],
   "source": [
    "do_source_info_1(jsondata=jsondata)"
   ]
  },
  {
   "cell_type": "code",
   "execution_count": null,
   "metadata": {},
   "outputs": [],
   "source": []
  }
 ],
 "metadata": {
  "kernelspec": {
   "display_name": "Python 3",
   "language": "python",
   "name": "python3"
  },
  "language_info": {
   "codemirror_mode": {
    "name": "ipython",
    "version": 3
   },
   "file_extension": ".py",
   "mimetype": "text/x-python",
   "name": "python",
   "nbconvert_exporter": "python",
   "pygments_lexer": "ipython3",
   "version": "3.7.6"
  }
 },
 "nbformat": 4,
 "nbformat_minor": 4
}
