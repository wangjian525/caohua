{
 "cells": [
  {
   "cell_type": "code",
   "execution_count": 1,
   "metadata": {},
   "outputs": [],
   "source": [
    "import pandas as pd\n",
    "import numpy as np\n",
    "import datetime\n",
    "import warnings\n",
    "import joblib\n",
    "import os\n",
    "warnings.filterwarnings('ignore')\n",
    "pd.set_option('display.max_columns',None)"
   ]
  },
  {
   "cell_type": "code",
   "execution_count": 105,
   "metadata": {},
   "outputs": [],
   "source": [
    "file_list = []\n",
    "for root_dir,sub_dir,files in os.walk('./data'):\n",
    "    file_list.append(files)\n",
    "file_list = file_list[0]\n",
    "dataframe_list = pd.DataFrame()\n",
    "for file in files:\n",
    "    if file.endswith('xls'):\n",
    "        file_name = os.path.join(root_dir,file)\n",
    "        df = pd.read_excel(file_name)\n",
    "        dataframe_list = dataframe_list.append(df)"
   ]
  },
  {
   "cell_type": "code",
   "execution_count": 106,
   "metadata": {},
   "outputs": [],
   "source": [
    "dataframe_list.drop(['Unnamed: 18','Unnamed: 19','Unnamed: 20','Unnamed: 21','Unnamed: 22','Unnamed: 23','创角账号数'],\n",
    "                    axis=1,inplace=True)\n",
    "dataframe_list.columns = ['plan_name','channel_id','source_id','data_win','source_run_datetime','create_time','plan_id',\n",
    "                         'game_id','platform','source_run_date_amount','create_role_num','create_role_cost','create_role_pay_num',\n",
    "                          'create_role_pay_cost','create_role_pay_sum','create_role_roi','create_role_retain_1d']\n",
    "dataframe_list.dropna(how='any',inplace=True)"
   ]
  },
  {
   "cell_type": "code",
   "execution_count": 107,
   "metadata": {},
   "outputs": [
    {
     "data": {
      "text/plain": [
       "(1718817, 17)"
      ]
     },
     "execution_count": 107,
     "metadata": {},
     "output_type": "execute_result"
    }
   ],
   "source": [
    "dataframe_list.shape"
   ]
  },
  {
   "cell_type": "code",
   "execution_count": 108,
   "metadata": {},
   "outputs": [],
   "source": [
    "dataframe_list = dataframe_list[dataframe_list['source_run_date_amount'] > 0]"
   ]
  },
  {
   "cell_type": "code",
   "execution_count": 110,
   "metadata": {},
   "outputs": [
    {
     "data": {
      "text/plain": [
       "(399792, 17)"
      ]
     },
     "execution_count": 110,
     "metadata": {},
     "output_type": "execute_result"
    }
   ],
   "source": [
    "dataframe_list.shape"
   ]
  },
  {
   "cell_type": "code",
   "execution_count": 111,
   "metadata": {},
   "outputs": [],
   "source": [
    "dataframe_list.sort_values(by='data_win',inplace=True)"
   ]
  },
  {
   "cell_type": "code",
   "execution_count": 113,
   "metadata": {},
   "outputs": [],
   "source": [
    "dataframe_list.drop_duplicates(subset=['channel_id','source_id','source_run_date_amount','create_role_num'],keep='first'\n",
    "                               ,inplace=True)"
   ]
  },
  {
   "cell_type": "code",
   "execution_count": 114,
   "metadata": {},
   "outputs": [
    {
     "data": {
      "text/plain": [
       "(102843, 17)"
      ]
     },
     "execution_count": 114,
     "metadata": {},
     "output_type": "execute_result"
    }
   ],
   "source": [
    "dataframe_list.shape"
   ]
  },
  {
   "cell_type": "code",
   "execution_count": 116,
   "metadata": {},
   "outputs": [],
   "source": [
    "dataframe_list['channel_id'] = dataframe_list['channel_id'].astype(np.int64)\n",
    "dataframe_list['source_id'] = dataframe_list['source_id'].astype(np.int64)\n",
    "dataframe_list['data_win'] = dataframe_list['data_win'].astype(np.int64)\n",
    "dataframe_list['plan_id'] = dataframe_list['plan_id'].astype(np.int64)\n",
    "dataframe_list['platform'] = dataframe_list['platform'].astype(np.int64)\n",
    "dataframe_list['game_id'] = dataframe_list['game_id'].astype(np.int64)\n",
    "dataframe_list['source_run_datetime'] = pd.to_datetime(dataframe_list['source_run_datetime'])"
   ]
  },
  {
   "cell_type": "code",
   "execution_count": 117,
   "metadata": {},
   "outputs": [
    {
     "data": {
      "text/html": [
       "<div>\n",
       "<style scoped>\n",
       "    .dataframe tbody tr th:only-of-type {\n",
       "        vertical-align: middle;\n",
       "    }\n",
       "\n",
       "    .dataframe tbody tr th {\n",
       "        vertical-align: top;\n",
       "    }\n",
       "\n",
       "    .dataframe thead th {\n",
       "        text-align: right;\n",
       "    }\n",
       "</style>\n",
       "<table border=\"1\" class=\"dataframe\">\n",
       "  <thead>\n",
       "    <tr style=\"text-align: right;\">\n",
       "      <th></th>\n",
       "      <th>plan_name</th>\n",
       "      <th>channel_id</th>\n",
       "      <th>source_id</th>\n",
       "      <th>data_win</th>\n",
       "      <th>source_run_datetime</th>\n",
       "      <th>create_time</th>\n",
       "      <th>plan_id</th>\n",
       "      <th>game_id</th>\n",
       "      <th>platform</th>\n",
       "      <th>source_run_date_amount</th>\n",
       "      <th>create_role_num</th>\n",
       "      <th>create_role_cost</th>\n",
       "      <th>create_role_pay_num</th>\n",
       "      <th>create_role_pay_cost</th>\n",
       "      <th>create_role_pay_sum</th>\n",
       "      <th>create_role_roi</th>\n",
       "      <th>create_role_retain_1d</th>\n",
       "    </tr>\n",
       "  </thead>\n",
       "  <tbody>\n",
       "    <tr>\n",
       "      <th>1</th>\n",
       "      <td>番茄小说-末日安卓</td>\n",
       "      <td>7162</td>\n",
       "      <td>299591</td>\n",
       "      <td>0</td>\n",
       "      <td>2020-05-01</td>\n",
       "      <td>2020-04-24</td>\n",
       "      <td>289813</td>\n",
       "      <td>1001049</td>\n",
       "      <td>1</td>\n",
       "      <td>200000.00</td>\n",
       "      <td>690.0</td>\n",
       "      <td>290.275762</td>\n",
       "      <td>3.0</td>\n",
       "      <td>66666.666667</td>\n",
       "      <td>318.0</td>\n",
       "      <td>0.00159</td>\n",
       "      <td>0.0522</td>\n",
       "    </tr>\n",
       "    <tr>\n",
       "      <th>197</th>\n",
       "      <td>HSX-TT-WQ-废土-0518_4</td>\n",
       "      <td>20541</td>\n",
       "      <td>311564</td>\n",
       "      <td>0</td>\n",
       "      <td>2020-05-19</td>\n",
       "      <td>2020-05-18</td>\n",
       "      <td>301786</td>\n",
       "      <td>1000993</td>\n",
       "      <td>2</td>\n",
       "      <td>657.55</td>\n",
       "      <td>3.0</td>\n",
       "      <td>219.183333</td>\n",
       "      <td>0.0</td>\n",
       "      <td>0.000000</td>\n",
       "      <td>0.0</td>\n",
       "      <td>0.00000</td>\n",
       "      <td>0.0000</td>\n",
       "    </tr>\n",
       "    <tr>\n",
       "      <th>198</th>\n",
       "      <td>HSX-TT-WQ-废土-0518_6</td>\n",
       "      <td>20541</td>\n",
       "      <td>311566</td>\n",
       "      <td>0</td>\n",
       "      <td>2020-05-19</td>\n",
       "      <td>2020-05-18</td>\n",
       "      <td>301788</td>\n",
       "      <td>1000993</td>\n",
       "      <td>2</td>\n",
       "      <td>384.88</td>\n",
       "      <td>3.0</td>\n",
       "      <td>128.293333</td>\n",
       "      <td>0.0</td>\n",
       "      <td>0.000000</td>\n",
       "      <td>0.0</td>\n",
       "      <td>0.00000</td>\n",
       "      <td>0.0000</td>\n",
       "    </tr>\n",
       "    <tr>\n",
       "      <th>199</th>\n",
       "      <td>mei-末日-new-5.18_2</td>\n",
       "      <td>20953</td>\n",
       "      <td>311781</td>\n",
       "      <td>0</td>\n",
       "      <td>2020-05-19</td>\n",
       "      <td>2020-05-18</td>\n",
       "      <td>302003</td>\n",
       "      <td>1001049</td>\n",
       "      <td>1</td>\n",
       "      <td>274.87</td>\n",
       "      <td>3.0</td>\n",
       "      <td>91.623333</td>\n",
       "      <td>0.0</td>\n",
       "      <td>0.000000</td>\n",
       "      <td>0.0</td>\n",
       "      <td>0.00000</td>\n",
       "      <td>0.0000</td>\n",
       "    </tr>\n",
       "    <tr>\n",
       "      <th>200</th>\n",
       "      <td>zhu-废土-IOS-5.18_2</td>\n",
       "      <td>20954</td>\n",
       "      <td>311786</td>\n",
       "      <td>0</td>\n",
       "      <td>2020-05-19</td>\n",
       "      <td>2020-05-18</td>\n",
       "      <td>302008</td>\n",
       "      <td>1000993</td>\n",
       "      <td>2</td>\n",
       "      <td>274.48</td>\n",
       "      <td>3.0</td>\n",
       "      <td>91.493333</td>\n",
       "      <td>0.0</td>\n",
       "      <td>0.000000</td>\n",
       "      <td>0.0</td>\n",
       "      <td>0.00000</td>\n",
       "      <td>0.0000</td>\n",
       "    </tr>\n",
       "  </tbody>\n",
       "</table>\n",
       "</div>"
      ],
      "text/plain": [
       "               plan_name  channel_id  source_id  data_win source_run_datetime  \\\n",
       "1              番茄小说-末日安卓        7162     299591         0          2020-05-01   \n",
       "197  HSX-TT-WQ-废土-0518_4       20541     311564         0          2020-05-19   \n",
       "198  HSX-TT-WQ-废土-0518_6       20541     311566         0          2020-05-19   \n",
       "199    mei-末日-new-5.18_2       20953     311781         0          2020-05-19   \n",
       "200    zhu-废土-IOS-5.18_2       20954     311786         0          2020-05-19   \n",
       "\n",
       "    create_time  plan_id  game_id  platform  source_run_date_amount  \\\n",
       "1    2020-04-24   289813  1001049         1               200000.00   \n",
       "197  2020-05-18   301786  1000993         2                  657.55   \n",
       "198  2020-05-18   301788  1000993         2                  384.88   \n",
       "199  2020-05-18   302003  1001049         1                  274.87   \n",
       "200  2020-05-18   302008  1000993         2                  274.48   \n",
       "\n",
       "     create_role_num  create_role_cost  create_role_pay_num  \\\n",
       "1              690.0        290.275762                  3.0   \n",
       "197              3.0        219.183333                  0.0   \n",
       "198              3.0        128.293333                  0.0   \n",
       "199              3.0         91.623333                  0.0   \n",
       "200              3.0         91.493333                  0.0   \n",
       "\n",
       "     create_role_pay_cost  create_role_pay_sum  create_role_roi  \\\n",
       "1            66666.666667                318.0          0.00159   \n",
       "197              0.000000                  0.0          0.00000   \n",
       "198              0.000000                  0.0          0.00000   \n",
       "199              0.000000                  0.0          0.00000   \n",
       "200              0.000000                  0.0          0.00000   \n",
       "\n",
       "     create_role_retain_1d  \n",
       "1                   0.0522  \n",
       "197                 0.0000  \n",
       "198                 0.0000  \n",
       "199                 0.0000  \n",
       "200                 0.0000  "
      ]
     },
     "execution_count": 117,
     "metadata": {},
     "output_type": "execute_result"
    }
   ],
   "source": [
    "dataframe_list.head()"
   ]
  },
  {
   "cell_type": "code",
   "execution_count": 118,
   "metadata": {},
   "outputs": [],
   "source": [
    "# 读取头条5-7月份计划30日回款信息\n",
    "pay_info = pd.read_csv('./30_d_pay_sum.csv')\n",
    "pay_info['source_run_datetime'] = pd.to_datetime(pay_info['source_run_datetime'])\n",
    "pay_info.drop(pay_info[pay_info['channel_id']==-1].index,inplace=True)"
   ]
  },
  {
   "cell_type": "code",
   "execution_count": 232,
   "metadata": {},
   "outputs": [
    {
     "data": {
      "text/plain": [
       "(60118, 4)"
      ]
     },
     "execution_count": 232,
     "metadata": {},
     "output_type": "execute_result"
    }
   ],
   "source": [
    "pay_info.shape"
   ]
  },
  {
   "cell_type": "code",
   "execution_count": 218,
   "metadata": {},
   "outputs": [],
   "source": [
    "data_pay = dataframe_list[dataframe_list['data_win'] == 0]"
   ]
  },
  {
   "cell_type": "code",
   "execution_count": 233,
   "metadata": {},
   "outputs": [
    {
     "data": {
      "text/plain": [
       "(20694, 5)"
      ]
     },
     "execution_count": 233,
     "metadata": {},
     "output_type": "execute_result"
    }
   ],
   "source": [
    "data_pay.shape"
   ]
  },
  {
   "cell_type": "code",
   "execution_count": 219,
   "metadata": {},
   "outputs": [],
   "source": [
    "data_pay = pd.merge(data_pay,pay_info,on=['channel_id','source_id','source_run_datetime'],how='left',\n",
    "                validate='one_to_one')\n",
    "data_pay.dropna(how='any',inplace=True)"
   ]
  },
  {
   "cell_type": "code",
   "execution_count": 220,
   "metadata": {},
   "outputs": [],
   "source": [
    "data_pay['30_ROI'] = round(data_pay['30_d_pay_sum']/data_pay['source_run_date_amount'],6)"
   ]
  },
  {
   "cell_type": "code",
   "execution_count": 224,
   "metadata": {},
   "outputs": [],
   "source": [
    "data_pay = data_pay[['channel_id','source_id','source_run_datetime','30_d_pay_sum','30_ROI']]"
   ]
  },
  {
   "cell_type": "code",
   "execution_count": 225,
   "metadata": {},
   "outputs": [
    {
     "data": {
      "text/html": [
       "<div>\n",
       "<style scoped>\n",
       "    .dataframe tbody tr th:only-of-type {\n",
       "        vertical-align: middle;\n",
       "    }\n",
       "\n",
       "    .dataframe tbody tr th {\n",
       "        vertical-align: top;\n",
       "    }\n",
       "\n",
       "    .dataframe thead th {\n",
       "        text-align: right;\n",
       "    }\n",
       "</style>\n",
       "<table border=\"1\" class=\"dataframe\">\n",
       "  <thead>\n",
       "    <tr style=\"text-align: right;\">\n",
       "      <th></th>\n",
       "      <th>channel_id</th>\n",
       "      <th>source_id</th>\n",
       "      <th>source_run_datetime</th>\n",
       "      <th>30_d_pay_sum</th>\n",
       "      <th>30_ROI</th>\n",
       "    </tr>\n",
       "  </thead>\n",
       "  <tbody>\n",
       "    <tr>\n",
       "      <th>0</th>\n",
       "      <td>7162</td>\n",
       "      <td>299591</td>\n",
       "      <td>2020-05-01</td>\n",
       "      <td>4654.0</td>\n",
       "      <td>0.02327</td>\n",
       "    </tr>\n",
       "    <tr>\n",
       "      <th>1</th>\n",
       "      <td>20541</td>\n",
       "      <td>311564</td>\n",
       "      <td>2020-05-19</td>\n",
       "      <td>0.0</td>\n",
       "      <td>0.00000</td>\n",
       "    </tr>\n",
       "    <tr>\n",
       "      <th>2</th>\n",
       "      <td>20541</td>\n",
       "      <td>311566</td>\n",
       "      <td>2020-05-19</td>\n",
       "      <td>0.0</td>\n",
       "      <td>0.00000</td>\n",
       "    </tr>\n",
       "    <tr>\n",
       "      <th>3</th>\n",
       "      <td>20953</td>\n",
       "      <td>311781</td>\n",
       "      <td>2020-05-19</td>\n",
       "      <td>0.0</td>\n",
       "      <td>0.00000</td>\n",
       "    </tr>\n",
       "    <tr>\n",
       "      <th>4</th>\n",
       "      <td>20954</td>\n",
       "      <td>311786</td>\n",
       "      <td>2020-05-19</td>\n",
       "      <td>0.0</td>\n",
       "      <td>0.00000</td>\n",
       "    </tr>\n",
       "  </tbody>\n",
       "</table>\n",
       "</div>"
      ],
      "text/plain": [
       "   channel_id  source_id source_run_datetime  30_d_pay_sum   30_ROI\n",
       "0        7162     299591          2020-05-01        4654.0  0.02327\n",
       "1       20541     311564          2020-05-19           0.0  0.00000\n",
       "2       20541     311566          2020-05-19           0.0  0.00000\n",
       "3       20953     311781          2020-05-19           0.0  0.00000\n",
       "4       20954     311786          2020-05-19           0.0  0.00000"
      ]
     },
     "execution_count": 225,
     "metadata": {},
     "output_type": "execute_result"
    }
   ],
   "source": [
    "data_pay.head()"
   ]
  },
  {
   "cell_type": "code",
   "execution_count": 227,
   "metadata": {},
   "outputs": [
    {
     "data": {
      "text/html": [
       "<div>\n",
       "<style scoped>\n",
       "    .dataframe tbody tr th:only-of-type {\n",
       "        vertical-align: middle;\n",
       "    }\n",
       "\n",
       "    .dataframe tbody tr th {\n",
       "        vertical-align: top;\n",
       "    }\n",
       "\n",
       "    .dataframe thead th {\n",
       "        text-align: right;\n",
       "    }\n",
       "</style>\n",
       "<table border=\"1\" class=\"dataframe\">\n",
       "  <thead>\n",
       "    <tr style=\"text-align: right;\">\n",
       "      <th></th>\n",
       "      <th>plan_name</th>\n",
       "      <th>channel_id</th>\n",
       "      <th>source_id</th>\n",
       "      <th>data_win</th>\n",
       "      <th>source_run_datetime</th>\n",
       "      <th>create_time</th>\n",
       "      <th>plan_id</th>\n",
       "      <th>game_id</th>\n",
       "      <th>platform</th>\n",
       "      <th>source_run_date_amount</th>\n",
       "      <th>create_role_num</th>\n",
       "      <th>create_role_cost</th>\n",
       "      <th>create_role_pay_num</th>\n",
       "      <th>create_role_pay_cost</th>\n",
       "      <th>create_role_pay_sum</th>\n",
       "      <th>create_role_roi</th>\n",
       "      <th>create_role_retain_1d</th>\n",
       "      <th>30_d_pay_sum</th>\n",
       "      <th>30_ROI</th>\n",
       "    </tr>\n",
       "  </thead>\n",
       "  <tbody>\n",
       "    <tr>\n",
       "      <th>0</th>\n",
       "      <td>番茄小说-末日安卓</td>\n",
       "      <td>7162</td>\n",
       "      <td>299591</td>\n",
       "      <td>0</td>\n",
       "      <td>2020-05-01</td>\n",
       "      <td>2020-04-24</td>\n",
       "      <td>289813</td>\n",
       "      <td>1001049</td>\n",
       "      <td>1</td>\n",
       "      <td>200000.00</td>\n",
       "      <td>690.0</td>\n",
       "      <td>290.275762</td>\n",
       "      <td>3.0</td>\n",
       "      <td>66666.666667</td>\n",
       "      <td>318.0</td>\n",
       "      <td>0.00159</td>\n",
       "      <td>0.0522</td>\n",
       "      <td>4654.0</td>\n",
       "      <td>0.02327</td>\n",
       "    </tr>\n",
       "    <tr>\n",
       "      <th>1</th>\n",
       "      <td>HSX-TT-WQ-废土-0518_4</td>\n",
       "      <td>20541</td>\n",
       "      <td>311564</td>\n",
       "      <td>0</td>\n",
       "      <td>2020-05-19</td>\n",
       "      <td>2020-05-18</td>\n",
       "      <td>301786</td>\n",
       "      <td>1000993</td>\n",
       "      <td>2</td>\n",
       "      <td>657.55</td>\n",
       "      <td>3.0</td>\n",
       "      <td>219.183333</td>\n",
       "      <td>0.0</td>\n",
       "      <td>0.000000</td>\n",
       "      <td>0.0</td>\n",
       "      <td>0.00000</td>\n",
       "      <td>0.0000</td>\n",
       "      <td>0.0</td>\n",
       "      <td>0.00000</td>\n",
       "    </tr>\n",
       "    <tr>\n",
       "      <th>2</th>\n",
       "      <td>HSX-TT-WQ-废土-0518_6</td>\n",
       "      <td>20541</td>\n",
       "      <td>311566</td>\n",
       "      <td>0</td>\n",
       "      <td>2020-05-19</td>\n",
       "      <td>2020-05-18</td>\n",
       "      <td>301788</td>\n",
       "      <td>1000993</td>\n",
       "      <td>2</td>\n",
       "      <td>384.88</td>\n",
       "      <td>3.0</td>\n",
       "      <td>128.293333</td>\n",
       "      <td>0.0</td>\n",
       "      <td>0.000000</td>\n",
       "      <td>0.0</td>\n",
       "      <td>0.00000</td>\n",
       "      <td>0.0000</td>\n",
       "      <td>0.0</td>\n",
       "      <td>0.00000</td>\n",
       "    </tr>\n",
       "    <tr>\n",
       "      <th>3</th>\n",
       "      <td>mei-末日-new-5.18_2</td>\n",
       "      <td>20953</td>\n",
       "      <td>311781</td>\n",
       "      <td>0</td>\n",
       "      <td>2020-05-19</td>\n",
       "      <td>2020-05-18</td>\n",
       "      <td>302003</td>\n",
       "      <td>1001049</td>\n",
       "      <td>1</td>\n",
       "      <td>274.87</td>\n",
       "      <td>3.0</td>\n",
       "      <td>91.623333</td>\n",
       "      <td>0.0</td>\n",
       "      <td>0.000000</td>\n",
       "      <td>0.0</td>\n",
       "      <td>0.00000</td>\n",
       "      <td>0.0000</td>\n",
       "      <td>0.0</td>\n",
       "      <td>0.00000</td>\n",
       "    </tr>\n",
       "    <tr>\n",
       "      <th>4</th>\n",
       "      <td>zhu-废土-IOS-5.18_2</td>\n",
       "      <td>20954</td>\n",
       "      <td>311786</td>\n",
       "      <td>0</td>\n",
       "      <td>2020-05-19</td>\n",
       "      <td>2020-05-18</td>\n",
       "      <td>302008</td>\n",
       "      <td>1000993</td>\n",
       "      <td>2</td>\n",
       "      <td>274.48</td>\n",
       "      <td>3.0</td>\n",
       "      <td>91.493333</td>\n",
       "      <td>0.0</td>\n",
       "      <td>0.000000</td>\n",
       "      <td>0.0</td>\n",
       "      <td>0.00000</td>\n",
       "      <td>0.0000</td>\n",
       "      <td>0.0</td>\n",
       "      <td>0.00000</td>\n",
       "    </tr>\n",
       "  </tbody>\n",
       "</table>\n",
       "</div>"
      ],
      "text/plain": [
       "             plan_name  channel_id  source_id  data_win source_run_datetime  \\\n",
       "0            番茄小说-末日安卓        7162     299591         0          2020-05-01   \n",
       "1  HSX-TT-WQ-废土-0518_4       20541     311564         0          2020-05-19   \n",
       "2  HSX-TT-WQ-废土-0518_6       20541     311566         0          2020-05-19   \n",
       "3    mei-末日-new-5.18_2       20953     311781         0          2020-05-19   \n",
       "4    zhu-废土-IOS-5.18_2       20954     311786         0          2020-05-19   \n",
       "\n",
       "  create_time  plan_id  game_id  platform  source_run_date_amount  \\\n",
       "0  2020-04-24   289813  1001049         1               200000.00   \n",
       "1  2020-05-18   301786  1000993         2                  657.55   \n",
       "2  2020-05-18   301788  1000993         2                  384.88   \n",
       "3  2020-05-18   302003  1001049         1                  274.87   \n",
       "4  2020-05-18   302008  1000993         2                  274.48   \n",
       "\n",
       "   create_role_num  create_role_cost  create_role_pay_num  \\\n",
       "0            690.0        290.275762                  3.0   \n",
       "1              3.0        219.183333                  0.0   \n",
       "2              3.0        128.293333                  0.0   \n",
       "3              3.0         91.623333                  0.0   \n",
       "4              3.0         91.493333                  0.0   \n",
       "\n",
       "   create_role_pay_cost  create_role_pay_sum  create_role_roi  \\\n",
       "0          66666.666667                318.0          0.00159   \n",
       "1              0.000000                  0.0          0.00000   \n",
       "2              0.000000                  0.0          0.00000   \n",
       "3              0.000000                  0.0          0.00000   \n",
       "4              0.000000                  0.0          0.00000   \n",
       "\n",
       "   create_role_retain_1d  30_d_pay_sum   30_ROI  \n",
       "0                 0.0522        4654.0  0.02327  \n",
       "1                 0.0000           0.0  0.00000  \n",
       "2                 0.0000           0.0  0.00000  \n",
       "3                 0.0000           0.0  0.00000  \n",
       "4                 0.0000           0.0  0.00000  "
      ]
     },
     "execution_count": 227,
     "metadata": {},
     "output_type": "execute_result"
    }
   ],
   "source": [
    "data = pd.merge(dataframe_list,data_pay,on=['channel_id','source_id','source_run_datetime'],how='left',\n",
    "                validate='many_to_one')\n",
    "data.dropna(how='any',inplace=True)\n",
    "data.head()"
   ]
  },
  {
   "cell_type": "code",
   "execution_count": 228,
   "metadata": {},
   "outputs": [
    {
     "data": {
      "text/plain": [
       "(44703, 19)"
      ]
     },
     "execution_count": 228,
     "metadata": {},
     "output_type": "execute_result"
    }
   ],
   "source": [
    "data.shape"
   ]
  },
  {
   "cell_type": "code",
   "execution_count": 235,
   "metadata": {
    "scrolled": true
   },
   "outputs": [
    {
     "data": {
      "text/plain": [
       "0    20694\n",
       "2     8156\n",
       "3     5328\n",
       "4     3752\n",
       "5     2794\n",
       "6     2164\n",
       "7     1736\n",
       "1       79\n",
       "Name: data_win, dtype: int64"
      ]
     },
     "execution_count": 235,
     "metadata": {},
     "output_type": "execute_result"
    }
   ],
   "source": [
    "data['data_win'].value_counts()"
   ]
  },
  {
   "cell_type": "code",
   "execution_count": 272,
   "metadata": {},
   "outputs": [],
   "source": [
    "data_ignore = data[data['source_run_date_amount'] < 500]\n",
    "data_not_ignore = data[data['source_run_date_amount'] >= 500]"
   ]
  },
  {
   "cell_type": "code",
   "execution_count": 273,
   "metadata": {},
   "outputs": [],
   "source": [
    "data_an = data_not_ignore[data_not_ignore['platform'] == 1]\n",
    "data_ios = data_not_ignore[data_not_ignore['platform'] == 2]"
   ]
  },
  {
   "cell_type": "code",
   "execution_count": 274,
   "metadata": {},
   "outputs": [],
   "source": [
    "data_win_0 = data_an[data_an['data_win'] == 0]\n",
    "data_win_1 = data_an[data_an['data_win'] == 1]\n",
    "data_win_2 = data_an[data_an['data_win'] == 2]\n",
    "data_win_3 = data_an[data_an['data_win'] == 3]\n",
    "data_win_4 = data_an[data_an['data_win'] == 4]\n",
    "data_win_5 = data_an[data_an['data_win'] == 5]\n",
    "data_win_6 = data_an[data_an['data_win'] == 6]\n",
    "data_win_7 = data_an[data_an['data_win'] == 7]\n",
    "data_win_0_ios = data_ios[data_ios['data_win'] == 0]\n",
    "data_win_1_ios = data_ios[data_ios['data_win'] == 1]\n",
    "data_win_2_ios = data_ios[data_ios['data_win'] == 2]\n",
    "data_win_3_ios = data_ios[data_ios['data_win'] == 3]\n",
    "data_win_4_ios = data_ios[data_ios['data_win'] == 4]\n",
    "data_win_5_ios = data_ios[data_ios['data_win'] == 5]\n",
    "data_win_6_ios = data_ios[data_ios['data_win'] == 6]\n",
    "data_win_7_ios = data_ios[data_ios['data_win'] == 7]"
   ]
  },
  {
   "cell_type": "code",
   "execution_count": 275,
   "metadata": {},
   "outputs": [
    {
     "name": "stdout",
     "output_type": "stream",
     "text": [
      "3769735.67\n",
      "210354.0\n",
      "17.920912699544576\n"
     ]
    }
   ],
   "source": [
    "print(data_win_0[data_win_0['30_ROI'] > 0.4]['source_run_date_amount'].sum())\n",
    "print(data_win_0[data_win_0['30_ROI'] > 0.4]['create_role_num'].sum())\n",
    "print(data_win_0[data_win_0['30_ROI'] > 0.4]['source_run_date_amount'].sum()/data_win_0[data_win_0['30_ROI'] > 0.4]['create_role_num'].sum())"
   ]
  },
  {
   "cell_type": "code",
   "execution_count": 276,
   "metadata": {},
   "outputs": [
    {
     "name": "stdout",
     "output_type": "stream",
     "text": [
      "17138689.020000003\n",
      "732405.0\n",
      "23.400562557601333\n"
     ]
    }
   ],
   "source": [
    "print(data_win_0[data_win_0['30_ROI'] < 0.4]['source_run_date_amount'].sum())\n",
    "print(data_win_0[data_win_0['30_ROI'] < 0.4]['create_role_num'].sum())\n",
    "print(data_win_0[data_win_0['30_ROI'] < 0.4]['source_run_date_amount'].sum()/data_win_0[data_win_0['30_ROI'] < 0.4]['create_role_num'].sum())"
   ]
  },
  {
   "cell_type": "code",
   "execution_count": 277,
   "metadata": {},
   "outputs": [],
   "source": [
    "data_win_0['label'] = data_win_0.apply(lambda x:1 if x.create_role_num == 0 else \n",
    "                                (1 if x.create_role_cost>=30 else (1 if x.create_role_pay_sum==0 else 0) ),axis=1)"
   ]
  },
  {
   "cell_type": "code",
   "execution_count": 278,
   "metadata": {},
   "outputs": [
    {
     "data": {
      "text/plain": [
       "1    7340\n",
       "0    1258\n",
       "Name: label, dtype: int64"
      ]
     },
     "execution_count": 278,
     "metadata": {},
     "output_type": "execute_result"
    }
   ],
   "source": [
    "data_win_0['label'].value_counts()"
   ]
  },
  {
   "cell_type": "code",
   "execution_count": 279,
   "metadata": {},
   "outputs": [
    {
     "name": "stdout",
     "output_type": "stream",
     "text": [
      "1444682.88\n",
      "32085.0\n",
      "45.02673772791024\n"
     ]
    }
   ],
   "source": [
    "print(data_win_0_ios[data_win_0_ios['30_ROI'] > 0.3]['source_run_date_amount'].sum())\n",
    "print(data_win_0_ios[data_win_0_ios['30_ROI'] > 0.3]['create_role_num'].sum())\n",
    "print(data_win_0_ios[data_win_0_ios['30_ROI'] > 0.3]['source_run_date_amount'].sum()/data_win_0_ios[data_win_0_ios['30_ROI'] > 0.3]['create_role_num'].sum())"
   ]
  },
  {
   "cell_type": "code",
   "execution_count": 280,
   "metadata": {},
   "outputs": [
    {
     "name": "stdout",
     "output_type": "stream",
     "text": [
      "6926063.46\n",
      "116584.0\n",
      "59.40835329033143\n"
     ]
    }
   ],
   "source": [
    "print(data_win_0_ios[data_win_0_ios['30_ROI'] < 0.3]['source_run_date_amount'].sum())\n",
    "print(data_win_0_ios[data_win_0_ios['30_ROI'] < 0.3]['create_role_num'].sum())\n",
    "print(data_win_0_ios[data_win_0_ios['30_ROI'] < 0.3]['source_run_date_amount'].sum()/data_win_0_ios[data_win_0_ios['30_ROI'] < 0.3]['create_role_num'].sum())"
   ]
  },
  {
   "cell_type": "code",
   "execution_count": 283,
   "metadata": {},
   "outputs": [],
   "source": [
    "data_win_0_ios['label'] = data_win_0_ios.apply(lambda x:1 if x.create_role_num == 0 else \n",
    "                                (1 if x.create_role_cost>=60 else (1 if x.create_role_pay_sum==0 else 0) ),axis=1)"
   ]
  },
  {
   "cell_type": "code",
   "execution_count": 284,
   "metadata": {
    "scrolled": true
   },
   "outputs": [
    {
     "data": {
      "text/plain": [
       "1    3342\n",
       "0     312\n",
       "Name: label, dtype: int64"
      ]
     },
     "execution_count": 284,
     "metadata": {},
     "output_type": "execute_result"
    }
   ],
   "source": [
    "data_win_0_ios['label'].value_counts()"
   ]
  },
  {
   "cell_type": "markdown",
   "metadata": {},
   "source": [
    "# win = 1"
   ]
  },
  {
   "cell_type": "code",
   "execution_count": 285,
   "metadata": {},
   "outputs": [],
   "source": [
    "data_win_1['label'] = data_win_1.apply(lambda x:1 if x.create_role_num == 0 else \n",
    "                                (1 if x.create_role_cost>=30 else (1 if x.create_role_pay_sum==0 else 0) ),axis=1)\n",
    "data_win_1_ios['label'] = data_win_1_ios.apply(lambda x:1 if x.create_role_num == 0 else \n",
    "                                (1 if x.create_role_cost>=60 else (1 if x.create_role_pay_sum==0 else 0) ),axis=1)"
   ]
  },
  {
   "cell_type": "markdown",
   "metadata": {},
   "source": [
    "# win = 2"
   ]
  },
  {
   "cell_type": "code",
   "execution_count": 286,
   "metadata": {},
   "outputs": [
    {
     "data": {
      "text/html": [
       "<div>\n",
       "<style scoped>\n",
       "    .dataframe tbody tr th:only-of-type {\n",
       "        vertical-align: middle;\n",
       "    }\n",
       "\n",
       "    .dataframe tbody tr th {\n",
       "        vertical-align: top;\n",
       "    }\n",
       "\n",
       "    .dataframe thead th {\n",
       "        text-align: right;\n",
       "    }\n",
       "</style>\n",
       "<table border=\"1\" class=\"dataframe\">\n",
       "  <thead>\n",
       "    <tr style=\"text-align: right;\">\n",
       "      <th></th>\n",
       "      <th>plan_name</th>\n",
       "      <th>channel_id</th>\n",
       "      <th>source_id</th>\n",
       "      <th>data_win</th>\n",
       "      <th>source_run_datetime</th>\n",
       "      <th>create_time</th>\n",
       "      <th>plan_id</th>\n",
       "      <th>game_id</th>\n",
       "      <th>platform</th>\n",
       "      <th>source_run_date_amount</th>\n",
       "      <th>create_role_num</th>\n",
       "      <th>create_role_cost</th>\n",
       "      <th>create_role_pay_num</th>\n",
       "      <th>create_role_pay_cost</th>\n",
       "      <th>create_role_pay_sum</th>\n",
       "      <th>create_role_roi</th>\n",
       "      <th>create_role_retain_1d</th>\n",
       "      <th>30_d_pay_sum</th>\n",
       "      <th>30_ROI</th>\n",
       "    </tr>\n",
       "  </thead>\n",
       "  <tbody>\n",
       "    <tr>\n",
       "      <th>25899</th>\n",
       "      <td>HSX-TT-YX-末日-0527_1</td>\n",
       "      <td>20540</td>\n",
       "      <td>315443</td>\n",
       "      <td>2</td>\n",
       "      <td>2020-05-29</td>\n",
       "      <td>2020-05-27</td>\n",
       "      <td>305665</td>\n",
       "      <td>1000840</td>\n",
       "      <td>1</td>\n",
       "      <td>2384.15</td>\n",
       "      <td>16.0</td>\n",
       "      <td>149.009375</td>\n",
       "      <td>1.0</td>\n",
       "      <td>2384.15</td>\n",
       "      <td>68.0</td>\n",
       "      <td>0.028522</td>\n",
       "      <td>0.0625</td>\n",
       "      <td>0.0</td>\n",
       "      <td>0.000000</td>\n",
       "    </tr>\n",
       "    <tr>\n",
       "      <th>25902</th>\n",
       "      <td>Li-fpftt-mrwc_5.27_12</td>\n",
       "      <td>21116</td>\n",
       "      <td>315495</td>\n",
       "      <td>2</td>\n",
       "      <td>2020-05-29</td>\n",
       "      <td>2020-05-27</td>\n",
       "      <td>305717</td>\n",
       "      <td>1000840</td>\n",
       "      <td>1</td>\n",
       "      <td>1400.60</td>\n",
       "      <td>17.0</td>\n",
       "      <td>82.388235</td>\n",
       "      <td>1.0</td>\n",
       "      <td>1400.60</td>\n",
       "      <td>72.0</td>\n",
       "      <td>0.051407</td>\n",
       "      <td>0.0588</td>\n",
       "      <td>0.0</td>\n",
       "      <td>0.000000</td>\n",
       "    </tr>\n",
       "    <tr>\n",
       "      <th>25915</th>\n",
       "      <td>ku11-mrwc-7.17_19</td>\n",
       "      <td>20754</td>\n",
       "      <td>332076</td>\n",
       "      <td>2</td>\n",
       "      <td>2020-07-21</td>\n",
       "      <td>2020-07-17</td>\n",
       "      <td>322296</td>\n",
       "      <td>1000840</td>\n",
       "      <td>1</td>\n",
       "      <td>5794.75</td>\n",
       "      <td>428.0</td>\n",
       "      <td>13.570843</td>\n",
       "      <td>5.0</td>\n",
       "      <td>1158.95</td>\n",
       "      <td>156.0</td>\n",
       "      <td>0.026921</td>\n",
       "      <td>0.0820</td>\n",
       "      <td>24.0</td>\n",
       "      <td>0.008463</td>\n",
       "    </tr>\n",
       "    <tr>\n",
       "      <th>25916</th>\n",
       "      <td>HSX-TT-CH104-末日危城-SSR1417_4</td>\n",
       "      <td>20540</td>\n",
       "      <td>332602</td>\n",
       "      <td>2</td>\n",
       "      <td>2020-07-21</td>\n",
       "      <td>2020-07-18</td>\n",
       "      <td>322822</td>\n",
       "      <td>1000840</td>\n",
       "      <td>1</td>\n",
       "      <td>5844.23</td>\n",
       "      <td>426.0</td>\n",
       "      <td>13.751129</td>\n",
       "      <td>0.0</td>\n",
       "      <td>0.00</td>\n",
       "      <td>0.0</td>\n",
       "      <td>0.000000</td>\n",
       "      <td>0.1059</td>\n",
       "      <td>236.0</td>\n",
       "      <td>0.139854</td>\n",
       "    </tr>\n",
       "    <tr>\n",
       "      <th>25918</th>\n",
       "      <td>Fu-fpftt-mrwc_7.16_85</td>\n",
       "      <td>21116</td>\n",
       "      <td>331495</td>\n",
       "      <td>2</td>\n",
       "      <td>2020-07-21</td>\n",
       "      <td>2020-07-16</td>\n",
       "      <td>321715</td>\n",
       "      <td>1000840</td>\n",
       "      <td>1</td>\n",
       "      <td>5745.22</td>\n",
       "      <td>391.0</td>\n",
       "      <td>15.039843</td>\n",
       "      <td>2.0</td>\n",
       "      <td>2872.61</td>\n",
       "      <td>24.0</td>\n",
       "      <td>0.004177</td>\n",
       "      <td>0.0681</td>\n",
       "      <td>336.0</td>\n",
       "      <td>0.137300</td>\n",
       "    </tr>\n",
       "  </tbody>\n",
       "</table>\n",
       "</div>"
      ],
      "text/plain": [
       "                         plan_name  channel_id  source_id  data_win  \\\n",
       "25899          HSX-TT-YX-末日-0527_1       20540     315443         2   \n",
       "25902        Li-fpftt-mrwc_5.27_12       21116     315495         2   \n",
       "25915            ku11-mrwc-7.17_19       20754     332076         2   \n",
       "25916  HSX-TT-CH104-末日危城-SSR1417_4       20540     332602         2   \n",
       "25918        Fu-fpftt-mrwc_7.16_85       21116     331495         2   \n",
       "\n",
       "      source_run_datetime create_time  plan_id  game_id  platform  \\\n",
       "25899          2020-05-29  2020-05-27   305665  1000840         1   \n",
       "25902          2020-05-29  2020-05-27   305717  1000840         1   \n",
       "25915          2020-07-21  2020-07-17   322296  1000840         1   \n",
       "25916          2020-07-21  2020-07-18   322822  1000840         1   \n",
       "25918          2020-07-21  2020-07-16   321715  1000840         1   \n",
       "\n",
       "       source_run_date_amount  create_role_num  create_role_cost  \\\n",
       "25899                 2384.15             16.0        149.009375   \n",
       "25902                 1400.60             17.0         82.388235   \n",
       "25915                 5794.75            428.0         13.570843   \n",
       "25916                 5844.23            426.0         13.751129   \n",
       "25918                 5745.22            391.0         15.039843   \n",
       "\n",
       "       create_role_pay_num  create_role_pay_cost  create_role_pay_sum  \\\n",
       "25899                  1.0               2384.15                 68.0   \n",
       "25902                  1.0               1400.60                 72.0   \n",
       "25915                  5.0               1158.95                156.0   \n",
       "25916                  0.0                  0.00                  0.0   \n",
       "25918                  2.0               2872.61                 24.0   \n",
       "\n",
       "       create_role_roi  create_role_retain_1d  30_d_pay_sum    30_ROI  \n",
       "25899         0.028522                 0.0625           0.0  0.000000  \n",
       "25902         0.051407                 0.0588           0.0  0.000000  \n",
       "25915         0.026921                 0.0820          24.0  0.008463  \n",
       "25916         0.000000                 0.1059         236.0  0.139854  \n",
       "25918         0.004177                 0.0681         336.0  0.137300  "
      ]
     },
     "execution_count": 286,
     "metadata": {},
     "output_type": "execute_result"
    }
   ],
   "source": [
    "data_win_2.head()"
   ]
  },
  {
   "cell_type": "code",
   "execution_count": 287,
   "metadata": {},
   "outputs": [
    {
     "name": "stdout",
     "output_type": "stream",
     "text": [
      "3413676.87\n",
      "231186.0\n",
      "0.06772345737574159\n"
     ]
    }
   ],
   "source": [
    "print(data_win_2[data_win_2['30_ROI'] > 0.4]['source_run_date_amount'].sum())\n",
    "print(data_win_2[data_win_2['30_ROI'] > 0.4]['create_role_pay_sum'].sum())\n",
    "print(data_win_2[data_win_2['30_ROI'] > 0.4]['create_role_pay_sum'].sum()/data_win_2[data_win_2['30_ROI'] > 0.4]['source_run_date_amount'].sum())"
   ]
  },
  {
   "cell_type": "code",
   "execution_count": 288,
   "metadata": {},
   "outputs": [
    {
     "name": "stdout",
     "output_type": "stream",
     "text": [
      "18060500.75\n",
      "857556.0\n",
      "0.04748240438460711\n"
     ]
    }
   ],
   "source": [
    "print(data_win_2[data_win_2['30_ROI'] < 0.4]['source_run_date_amount'].sum())\n",
    "print(data_win_2[data_win_2['30_ROI'] < 0.4]['create_role_pay_sum'].sum())\n",
    "print(data_win_2[data_win_2['30_ROI'] < 0.4]['create_role_pay_sum'].sum()/data_win_2[data_win_2['30_ROI'] < 0.4]['source_run_date_amount'].sum())"
   ]
  },
  {
   "cell_type": "code",
   "execution_count": 289,
   "metadata": {},
   "outputs": [
    {
     "name": "stdout",
     "output_type": "stream",
     "text": [
      "1527353.27\n",
      "69388.0\n",
      "0.0454302232253053\n"
     ]
    }
   ],
   "source": [
    "print(data_win_2_ios[data_win_2_ios['30_ROI'] > 0.3]['source_run_date_amount'].sum())\n",
    "print(data_win_2_ios[data_win_2_ios['30_ROI'] > 0.3]['create_role_pay_sum'].sum())\n",
    "print(data_win_2_ios[data_win_2_ios['30_ROI'] > 0.3]['create_role_pay_sum'].sum()/data_win_2_ios[data_win_2_ios['30_ROI'] > 0.3]['source_run_date_amount'].sum())"
   ]
  },
  {
   "cell_type": "code",
   "execution_count": 290,
   "metadata": {},
   "outputs": [
    {
     "name": "stdout",
     "output_type": "stream",
     "text": [
      "6802233.5600000005\n",
      "325368.0\n",
      "0.04783252399819097\n"
     ]
    }
   ],
   "source": [
    "print(data_win_2_ios[data_win_2_ios['30_ROI'] < 0.3]['source_run_date_amount'].sum())\n",
    "print(data_win_2_ios[data_win_2_ios['30_ROI'] < 0.3]['create_role_pay_sum'].sum())\n",
    "print(data_win_2_ios[data_win_2_ios['30_ROI'] < 0.3]['create_role_pay_sum'].sum()/data_win_2_ios[data_win_2_ios['30_ROI'] < 0.3]['source_run_date_amount'].sum())"
   ]
  },
  {
   "cell_type": "code",
   "execution_count": 291,
   "metadata": {},
   "outputs": [],
   "source": [
    "data_win_2['label'] = data_win_2.apply(lambda x:1 if x.create_role_num == 0 else \n",
    "                                (1 if x.create_role_cost>=30 else (1 if x.create_role_roi<=0.04 else 0) ),axis=1)\n",
    "data_win_2_ios['label'] = data_win_2_ios.apply(lambda x:1 if x.create_role_num == 0 else \n",
    "                                (1 if x.create_role_cost>=60 else (1 if x.create_role_roi<=0.03 else 0) ),axis=1)"
   ]
  },
  {
   "cell_type": "code",
   "execution_count": 292,
   "metadata": {},
   "outputs": [
    {
     "data": {
      "text/plain": [
       "1    4591\n",
       "0     499\n",
       "Name: label, dtype: int64"
      ]
     },
     "execution_count": 292,
     "metadata": {},
     "output_type": "execute_result"
    }
   ],
   "source": [
    "data_win_2['label'].value_counts()"
   ]
  },
  {
   "cell_type": "code",
   "execution_count": 293,
   "metadata": {
    "scrolled": true
   },
   "outputs": [
    {
     "data": {
      "text/plain": [
       "1    1929\n",
       "0     184\n",
       "Name: label, dtype: int64"
      ]
     },
     "execution_count": 293,
     "metadata": {},
     "output_type": "execute_result"
    }
   ],
   "source": [
    "data_win_2_ios['label'].value_counts()"
   ]
  },
  {
   "cell_type": "markdown",
   "metadata": {},
   "source": [
    "# win = 3"
   ]
  },
  {
   "cell_type": "code",
   "execution_count": 294,
   "metadata": {},
   "outputs": [
    {
     "data": {
      "text/plain": [
       "(3471, 19)"
      ]
     },
     "execution_count": 294,
     "metadata": {},
     "output_type": "execute_result"
    }
   ],
   "source": [
    "data_win_3.shape"
   ]
  },
  {
   "cell_type": "code",
   "execution_count": 295,
   "metadata": {},
   "outputs": [
    {
     "data": {
      "text/html": [
       "<div>\n",
       "<style scoped>\n",
       "    .dataframe tbody tr th:only-of-type {\n",
       "        vertical-align: middle;\n",
       "    }\n",
       "\n",
       "    .dataframe tbody tr th {\n",
       "        vertical-align: top;\n",
       "    }\n",
       "\n",
       "    .dataframe thead th {\n",
       "        text-align: right;\n",
       "    }\n",
       "</style>\n",
       "<table border=\"1\" class=\"dataframe\">\n",
       "  <thead>\n",
       "    <tr style=\"text-align: right;\">\n",
       "      <th></th>\n",
       "      <th>plan_name</th>\n",
       "      <th>channel_id</th>\n",
       "      <th>source_id</th>\n",
       "      <th>data_win</th>\n",
       "      <th>source_run_datetime</th>\n",
       "      <th>create_time</th>\n",
       "      <th>plan_id</th>\n",
       "      <th>game_id</th>\n",
       "      <th>platform</th>\n",
       "      <th>source_run_date_amount</th>\n",
       "      <th>create_role_num</th>\n",
       "      <th>create_role_cost</th>\n",
       "      <th>create_role_pay_num</th>\n",
       "      <th>create_role_pay_cost</th>\n",
       "      <th>create_role_pay_sum</th>\n",
       "      <th>create_role_roi</th>\n",
       "      <th>create_role_retain_1d</th>\n",
       "      <th>30_d_pay_sum</th>\n",
       "      <th>30_ROI</th>\n",
       "    </tr>\n",
       "  </thead>\n",
       "  <tbody>\n",
       "    <tr>\n",
       "      <th>46496</th>\n",
       "      <td>ZO-fpftt-mrwc_6.6_70</td>\n",
       "      <td>21116</td>\n",
       "      <td>317271</td>\n",
       "      <td>3</td>\n",
       "      <td>2020-06-09</td>\n",
       "      <td>2020-06-06</td>\n",
       "      <td>307493</td>\n",
       "      <td>1000840</td>\n",
       "      <td>1</td>\n",
       "      <td>2095.98</td>\n",
       "      <td>59.0</td>\n",
       "      <td>35.525085</td>\n",
       "      <td>0.0</td>\n",
       "      <td>0.0</td>\n",
       "      <td>0.0</td>\n",
       "      <td>0.0</td>\n",
       "      <td>0.0847</td>\n",
       "      <td>0.0</td>\n",
       "      <td>0.000000</td>\n",
       "    </tr>\n",
       "    <tr>\n",
       "      <th>46512</th>\n",
       "      <td>cxq-ttpan生机0605_6</td>\n",
       "      <td>20646</td>\n",
       "      <td>317227</td>\n",
       "      <td>3</td>\n",
       "      <td>2020-06-09</td>\n",
       "      <td>2020-06-05</td>\n",
       "      <td>307449</td>\n",
       "      <td>1001049</td>\n",
       "      <td>1</td>\n",
       "      <td>1730.19</td>\n",
       "      <td>47.0</td>\n",
       "      <td>36.812553</td>\n",
       "      <td>0.0</td>\n",
       "      <td>0.0</td>\n",
       "      <td>0.0</td>\n",
       "      <td>0.0</td>\n",
       "      <td>0.0426</td>\n",
       "      <td>0.0</td>\n",
       "      <td>0.000000</td>\n",
       "    </tr>\n",
       "    <tr>\n",
       "      <th>46515</th>\n",
       "      <td>cxq-ttlai危城0606_5</td>\n",
       "      <td>20646</td>\n",
       "      <td>317346</td>\n",
       "      <td>3</td>\n",
       "      <td>2020-06-09</td>\n",
       "      <td>2020-06-06</td>\n",
       "      <td>307568</td>\n",
       "      <td>1000840</td>\n",
       "      <td>1</td>\n",
       "      <td>3312.91</td>\n",
       "      <td>48.0</td>\n",
       "      <td>69.018958</td>\n",
       "      <td>0.0</td>\n",
       "      <td>0.0</td>\n",
       "      <td>0.0</td>\n",
       "      <td>0.0</td>\n",
       "      <td>0.0833</td>\n",
       "      <td>0.0</td>\n",
       "      <td>0.000000</td>\n",
       "    </tr>\n",
       "    <tr>\n",
       "      <th>46521</th>\n",
       "      <td>ROI- Wu-ftt-末日_7.25_177</td>\n",
       "      <td>21116</td>\n",
       "      <td>335741</td>\n",
       "      <td>3</td>\n",
       "      <td>2020-07-31</td>\n",
       "      <td>2020-07-25</td>\n",
       "      <td>325961</td>\n",
       "      <td>1000840</td>\n",
       "      <td>1</td>\n",
       "      <td>1138.44</td>\n",
       "      <td>19.0</td>\n",
       "      <td>59.917895</td>\n",
       "      <td>0.0</td>\n",
       "      <td>0.0</td>\n",
       "      <td>0.0</td>\n",
       "      <td>0.0</td>\n",
       "      <td>0.0000</td>\n",
       "      <td>0.0</td>\n",
       "      <td>0.000000</td>\n",
       "    </tr>\n",
       "    <tr>\n",
       "      <th>46532</th>\n",
       "      <td>7ttyrf_末日ROI_7.28_5</td>\n",
       "      <td>6770</td>\n",
       "      <td>336715</td>\n",
       "      <td>3</td>\n",
       "      <td>2020-07-31</td>\n",
       "      <td>2020-07-28</td>\n",
       "      <td>326932</td>\n",
       "      <td>1000840</td>\n",
       "      <td>1</td>\n",
       "      <td>2958.51</td>\n",
       "      <td>39.0</td>\n",
       "      <td>77.855526</td>\n",
       "      <td>0.0</td>\n",
       "      <td>0.0</td>\n",
       "      <td>0.0</td>\n",
       "      <td>0.0</td>\n",
       "      <td>0.0526</td>\n",
       "      <td>238.0</td>\n",
       "      <td>0.389927</td>\n",
       "    </tr>\n",
       "  </tbody>\n",
       "</table>\n",
       "</div>"
      ],
      "text/plain": [
       "                     plan_name  channel_id  source_id  data_win  \\\n",
       "46496     ZO-fpftt-mrwc_6.6_70       21116     317271         3   \n",
       "46512        cxq-ttpan生机0605_6       20646     317227         3   \n",
       "46515        cxq-ttlai危城0606_5       20646     317346         3   \n",
       "46521  ROI- Wu-ftt-末日_7.25_177       21116     335741         3   \n",
       "46532      7ttyrf_末日ROI_7.28_5        6770     336715         3   \n",
       "\n",
       "      source_run_datetime create_time  plan_id  game_id  platform  \\\n",
       "46496          2020-06-09  2020-06-06   307493  1000840         1   \n",
       "46512          2020-06-09  2020-06-05   307449  1001049         1   \n",
       "46515          2020-06-09  2020-06-06   307568  1000840         1   \n",
       "46521          2020-07-31  2020-07-25   325961  1000840         1   \n",
       "46532          2020-07-31  2020-07-28   326932  1000840         1   \n",
       "\n",
       "       source_run_date_amount  create_role_num  create_role_cost  \\\n",
       "46496                 2095.98             59.0         35.525085   \n",
       "46512                 1730.19             47.0         36.812553   \n",
       "46515                 3312.91             48.0         69.018958   \n",
       "46521                 1138.44             19.0         59.917895   \n",
       "46532                 2958.51             39.0         77.855526   \n",
       "\n",
       "       create_role_pay_num  create_role_pay_cost  create_role_pay_sum  \\\n",
       "46496                  0.0                   0.0                  0.0   \n",
       "46512                  0.0                   0.0                  0.0   \n",
       "46515                  0.0                   0.0                  0.0   \n",
       "46521                  0.0                   0.0                  0.0   \n",
       "46532                  0.0                   0.0                  0.0   \n",
       "\n",
       "       create_role_roi  create_role_retain_1d  30_d_pay_sum    30_ROI  \n",
       "46496              0.0                 0.0847           0.0  0.000000  \n",
       "46512              0.0                 0.0426           0.0  0.000000  \n",
       "46515              0.0                 0.0833           0.0  0.000000  \n",
       "46521              0.0                 0.0000           0.0  0.000000  \n",
       "46532              0.0                 0.0526         238.0  0.389927  "
      ]
     },
     "execution_count": 295,
     "metadata": {},
     "output_type": "execute_result"
    }
   ],
   "source": [
    "data_win_3.head()"
   ]
  },
  {
   "cell_type": "code",
   "execution_count": 296,
   "metadata": {},
   "outputs": [
    {
     "data": {
      "text/plain": [
       "(1254, 19)"
      ]
     },
     "execution_count": 296,
     "metadata": {},
     "output_type": "execute_result"
    }
   ],
   "source": [
    "data_win_3[data_win_3['create_role_pay_num']==0].shape"
   ]
  },
  {
   "cell_type": "code",
   "execution_count": 297,
   "metadata": {},
   "outputs": [
    {
     "name": "stdout",
     "output_type": "stream",
     "text": [
      "3589686.24\n",
      "1477.0\n",
      "2430.390142180095\n"
     ]
    }
   ],
   "source": [
    "print(data_win_3[data_win_3['30_ROI'] > 0.4]['source_run_date_amount'].sum())\n",
    "print(data_win_3[data_win_3['30_ROI'] > 0.4]['create_role_pay_num'].sum())\n",
    "print(data_win_3[data_win_3['30_ROI'] > 0.4]['source_run_date_amount'].sum()/data_win_3[data_win_3['30_ROI'] > 0.4]['create_role_pay_num'].sum())"
   ]
  },
  {
   "cell_type": "code",
   "execution_count": 298,
   "metadata": {},
   "outputs": [
    {
     "name": "stdout",
     "output_type": "stream",
     "text": [
      "19596677.87\n",
      "7071.0\n",
      "2771.4153401216236\n"
     ]
    }
   ],
   "source": [
    "print(data_win_3[data_win_3['30_ROI'] < 0.4]['source_run_date_amount'].sum())\n",
    "print(data_win_3[data_win_3['30_ROI'] < 0.4]['create_role_pay_num'].sum())\n",
    "print(data_win_3[data_win_3['30_ROI'] < 0.4]['source_run_date_amount'].sum()/data_win_3[data_win_3['30_ROI'] < 0.4]['create_role_pay_num'].sum())"
   ]
  },
  {
   "cell_type": "code",
   "execution_count": 299,
   "metadata": {},
   "outputs": [
    {
     "name": "stdout",
     "output_type": "stream",
     "text": [
      "1565094.4700000002\n",
      "394.0\n",
      "3972.320989847716\n"
     ]
    }
   ],
   "source": [
    "print(data_win_3_ios[data_win_3_ios['30_ROI'] > 0.3]['source_run_date_amount'].sum())\n",
    "print(data_win_3_ios[data_win_3_ios['30_ROI'] > 0.3]['create_role_pay_num'].sum())\n",
    "print(data_win_3_ios[data_win_3_ios['30_ROI'] > 0.3]['source_run_date_amount'].sum()/data_win_3_ios[data_win_3_ios['30_ROI'] > 0.3]['create_role_pay_num'].sum())"
   ]
  },
  {
   "cell_type": "code",
   "execution_count": 300,
   "metadata": {},
   "outputs": [
    {
     "name": "stdout",
     "output_type": "stream",
     "text": [
      "7029432.300000001\n",
      "1631.0\n",
      "4309.891048436542\n"
     ]
    }
   ],
   "source": [
    "print(data_win_3_ios[data_win_3_ios['30_ROI'] < 0.3]['source_run_date_amount'].sum())\n",
    "print(data_win_3_ios[data_win_3_ios['30_ROI'] < 0.3]['create_role_pay_num'].sum())\n",
    "print(data_win_3_ios[data_win_3_ios['30_ROI'] < 0.3]['source_run_date_amount'].sum()/data_win_3_ios[data_win_3_ios['30_ROI'] < 0.3]['create_role_pay_num'].sum())"
   ]
  },
  {
   "cell_type": "code",
   "execution_count": 458,
   "metadata": {},
   "outputs": [
    {
     "name": "stdout",
     "output_type": "stream",
     "text": [
      "3589686.24\n",
      "309134.0\n",
      "0.08611727580959833\n"
     ]
    }
   ],
   "source": [
    "print(data_win_3[data_win_3['30_ROI'] > 0.4]['source_run_date_amount'].sum())\n",
    "print(data_win_3[data_win_3['30_ROI'] > 0.4]['create_role_pay_sum'].sum())\n",
    "print(data_win_3[data_win_3['30_ROI'] > 0.4]['create_role_pay_sum'].sum()/data_win_3[data_win_3['30_ROI'] > 0.4]['source_run_date_amount'].sum())"
   ]
  },
  {
   "cell_type": "code",
   "execution_count": 459,
   "metadata": {},
   "outputs": [
    {
     "name": "stdout",
     "output_type": "stream",
     "text": [
      "19596677.87\n",
      "1507582.0\n",
      "0.07693048842262773\n"
     ]
    }
   ],
   "source": [
    "print(data_win_3[data_win_3['30_ROI'] < 0.4]['source_run_date_amount'].sum())\n",
    "print(data_win_3[data_win_3['30_ROI'] < 0.4]['create_role_pay_sum'].sum())\n",
    "print(data_win_3[data_win_3['30_ROI'] < 0.4]['create_role_pay_sum'].sum()/data_win_3[data_win_3['30_ROI'] < 0.4]['source_run_date_amount'].sum())"
   ]
  },
  {
   "cell_type": "code",
   "execution_count": 460,
   "metadata": {},
   "outputs": [
    {
     "name": "stdout",
     "output_type": "stream",
     "text": [
      "1565094.4700000002\n",
      "80058.0\n",
      "0.051152183803959125\n"
     ]
    }
   ],
   "source": [
    "print(data_win_3_ios[data_win_3_ios['30_ROI'] > 0.3]['source_run_date_amount'].sum())\n",
    "print(data_win_3_ios[data_win_3_ios['30_ROI'] > 0.3]['create_role_pay_sum'].sum())\n",
    "print(data_win_3_ios[data_win_3_ios['30_ROI'] > 0.3]['create_role_pay_sum'].sum()/data_win_3_ios[data_win_3_ios['30_ROI'] > 0.3]['source_run_date_amount'].sum())"
   ]
  },
  {
   "cell_type": "code",
   "execution_count": 461,
   "metadata": {},
   "outputs": [
    {
     "name": "stdout",
     "output_type": "stream",
     "text": [
      "7029432.300000001\n",
      "568392.0\n",
      "0.08085887675452823\n"
     ]
    }
   ],
   "source": [
    "print(data_win_3_ios[data_win_3_ios['30_ROI'] < 0.3]['source_run_date_amount'].sum())\n",
    "print(data_win_3_ios[data_win_3_ios['30_ROI'] < 0.3]['create_role_pay_sum'].sum())\n",
    "print(data_win_3_ios[data_win_3_ios['30_ROI'] < 0.3]['create_role_pay_sum'].sum()/data_win_3_ios[data_win_3_ios['30_ROI'] < 0.3]['source_run_date_amount'].sum())"
   ]
  },
  {
   "cell_type": "code",
   "execution_count": null,
   "metadata": {},
   "outputs": [],
   "source": []
  },
  {
   "cell_type": "code",
   "execution_count": 454,
   "metadata": {},
   "outputs": [
    {
     "name": "stdout",
     "output_type": "stream",
     "text": [
      "0.09837724358974348\n",
      "0.08766866096866094\n"
     ]
    }
   ],
   "source": [
    "print(data_win_3[data_win_3['30_ROI'] < 0.4]['create_role_retain_1d'].mean())\n",
    "print(data_win_3[data_win_3['30_ROI'] > 0.4]['create_role_retain_1d'].mean())"
   ]
  },
  {
   "cell_type": "code",
   "execution_count": 455,
   "metadata": {},
   "outputs": [
    {
     "name": "stdout",
     "output_type": "stream",
     "text": [
      "0.10021851278079016\n",
      "0.09067941176470595\n"
     ]
    }
   ],
   "source": [
    "print(data_win_3_ios[data_win_3_ios['30_ROI'] < 0.3]['create_role_retain_1d'].mean())\n",
    "print(data_win_3_ios[data_win_3_ios['30_ROI'] > 0.3]['create_role_retain_1d'].mean())"
   ]
  },
  {
   "cell_type": "code",
   "execution_count": 495,
   "metadata": {},
   "outputs": [],
   "source": [
    "data_win_3['label'] = data_win_3.apply(lambda x:1 if x.create_role_num == 0 else(1 if x.create_role_pay_num==0 else (1 if x.create_role_pay_cost > 3000 else (1 if x.create_role_retain_1d<0.07 else(1 if x.create_role_roi<0.08 else 0)))),axis=1)\n",
    "data_win_3_ios['label'] = data_win_3_ios.apply(lambda x:1 if x.create_role_num == 0 else(1 if x.create_role_pay_num==0 else (1 if x.create_role_pay_cost >6000 else (1 if x.create_role_retain_1d<0.07 else(1 if x.create_role_roi<0.06 else 0)))),axis=1)"
   ]
  },
  {
   "cell_type": "code",
   "execution_count": 496,
   "metadata": {
    "scrolled": false
   },
   "outputs": [
    {
     "data": {
      "text/plain": [
       "1    3203\n",
       "0     268\n",
       "Name: label, dtype: int64"
      ]
     },
     "execution_count": 496,
     "metadata": {},
     "output_type": "execute_result"
    }
   ],
   "source": [
    "data_win_3['label'].value_counts()"
   ]
  },
  {
   "cell_type": "code",
   "execution_count": 497,
   "metadata": {
    "scrolled": true
   },
   "outputs": [
    {
     "data": {
      "text/plain": [
       "1    1301\n",
       "0     126\n",
       "Name: label, dtype: int64"
      ]
     },
     "execution_count": 497,
     "metadata": {},
     "output_type": "execute_result"
    }
   ],
   "source": [
    "data_win_3_ios['label'].value_counts()"
   ]
  },
  {
   "cell_type": "markdown",
   "metadata": {},
   "source": [
    "# win = 7"
   ]
  },
  {
   "cell_type": "code",
   "execution_count": 501,
   "metadata": {},
   "outputs": [],
   "source": [
    "data_win_6['label'] = data_win_6.apply(lambda x:1 if x.create_role_num == 0 else(1 if x.create_role_pay_num==0 else (1 if x.create_role_cost>=150 else (1 if x.create_role_pay_cost >6000 else (0 if x.create_role_roi>=0.13 else 1)))),axis=1)\n",
    "data_win_6_ios['label'] = data_win_6_ios.apply(lambda x:1 if x.create_role_num == 0 else(1 if x.create_role_pay_num==0 else (1 if x.create_role_cost>=300 else (1 if x.create_role_pay_cost >10000 else (0 if x.create_role_roi>=0.12 else 1)))),axis=1)"
   ]
  },
  {
   "cell_type": "code",
   "execution_count": 502,
   "metadata": {},
   "outputs": [
    {
     "data": {
      "text/plain": [
       "1    1049\n",
       "0     398\n",
       "Name: label, dtype: int64"
      ]
     },
     "execution_count": 502,
     "metadata": {},
     "output_type": "execute_result"
    }
   ],
   "source": [
    "data_win_6['label'].value_counts()"
   ]
  },
  {
   "cell_type": "code",
   "execution_count": 503,
   "metadata": {},
   "outputs": [
    {
     "data": {
      "text/plain": [
       "1    429\n",
       "0    171\n",
       "Name: label, dtype: int64"
      ]
     },
     "execution_count": 503,
     "metadata": {},
     "output_type": "execute_result"
    }
   ],
   "source": [
    "data_win_6_ios['label'].value_counts()"
   ]
  },
  {
   "cell_type": "code",
   "execution_count": null,
   "metadata": {},
   "outputs": [],
   "source": []
  }
 ],
 "metadata": {
  "kernelspec": {
   "display_name": "Python 3",
   "language": "python",
   "name": "python3"
  },
  "language_info": {
   "codemirror_mode": {
    "name": "ipython",
    "version": 3
   },
   "file_extension": ".py",
   "mimetype": "text/x-python",
   "name": "python",
   "nbconvert_exporter": "python",
   "pygments_lexer": "ipython3",
   "version": "3.7.6"
  }
 },
 "nbformat": 4,
 "nbformat_minor": 4
}
