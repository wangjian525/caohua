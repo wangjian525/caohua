{
 "cells": [
  {
   "cell_type": "code",
   "execution_count": null,
   "metadata": {},
   "outputs": [],
   "source": [
    "def source_predict(jsondata):\n",
    "    '''\n",
    "    :param jsondata: {\"columns\": [\"channel_id\",\"source_id\",\"data_win\",\"source_run_datetime\",\"create_time\",\"media_id\",\"game_id\",\"platform\",\"source_run_date_amount\",\"create_role_num\",\n",
    "    \"create_role_cost\",\"create_role_pay_num\",\"create_role_pay_cost\",\"create_role_pay_sum\",\"create_role_roi\",\"create_role_retain_1d\"]}\n",
    "    :return:\n",
    "    '''\n",
    "    src_source_info = pd.DataFrame(data=jsondata['data'], columns=jsondata['columns'])\n",
    "    # 根据角色创建时间类型分组\n",
    "    columns = [\"channel_id\",\"source_id\",\"data_win\",\"source_run_datetime\",\"create_time\",\"media_id\",\"game_id\",\"platform\",\"source_run_date_amount\",\"create_role_num\",\"create_role_cost\",\n",
    "        \"create_role_pay_num\",\"create_role_pay_cost\",\"create_role_pay_sum\",\"create_role_roi\",\"create_role_retain_1d\",\"label\"]\n",
    "    source_predict = pd.DataFrame(columns=columns)\n",
    "\n",
    "    src_source_info_0 = src_source_info[src_source_info['data_win'] == 0]\n",
    "    src_source_info_1_7 = src_source_info[src_source_info['data_win'] != 0]\n",
    "    drop_features_0 = [\"channel_id\",\"source_id\",\"source_run_datetime\",\"create_time\",\"media_id\",\"game_id\",\"create_role_pay_num\",\"create_role_pay_sum\",\"create_role_retain_1d\"]\n",
    "    drop_features_1_7 = [\"channel_id\", \"source_id\", \"source_run_datetime\", \"create_time\", \"media_id\", \"game_id\",\"create_role_pay_num\", \"create_role_pay_sum\"]\n",
    "    if src_source_info_0.shape[0] != 0:\n",
    "        src_source_info_0['label'] = source_lgb_b_cv_0.predict(src_source_info_0.drop(drop_features_0, axis=1))\n",
    "        src_source_info_0['label'] = src_source_info_0['label'].apply(lambda x: 1 if x >= 0.7 else 0)\n",
    "    if src_source_info_1_7.shape[0] != 0:\n",
    "        src_source_info_1_7['label'] = source_lgb_b_cv.predict(src_source_info_1_7.drop(drop_features_1_7, axis=1))\n",
    "        src_source_info_1_7['label'] = src_source_info_1_7['label'].apply(lambda x: 1 if x >= 0.5 else 0)\n",
    "\n",
    "    # 数据输出\n",
    "    source_predict = source_predict.append(src_source_info_0).append(src_source_info_1_7)\n",
    "    source_predict['label'] = source_predict['label'].astype(int)\n",
    "\n",
    "    return {\"columns\": source_predict.columns.values.tolist(), \"list\": source_predict.values.tolist()}"
   ]
  }
 ],
 "metadata": {
  "kernelspec": {
   "display_name": "Python 3",
   "language": "python",
   "name": "python3"
  },
  "language_info": {
   "codemirror_mode": {
    "name": "ipython",
    "version": 3
   },
   "file_extension": ".py",
   "mimetype": "text/x-python",
   "name": "python",
   "nbconvert_exporter": "python",
   "pygments_lexer": "ipython3",
   "version": "3.7.6"
  }
 },
 "nbformat": 4,
 "nbformat_minor": 4
}
