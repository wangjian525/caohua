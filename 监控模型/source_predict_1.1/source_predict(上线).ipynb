{
 "cells": [
  {
   "cell_type": "code",
   "execution_count": 1,
   "metadata": {},
   "outputs": [
    {
     "name": "stderr",
     "output_type": "stream",
     "text": [
      "C:\\Users\\Administrator\\anaconda3\\lib\\importlib\\_bootstrap.py:219: RuntimeWarning: numpy.ufunc size changed, may indicate binary incompatibility. Expected 192 from C header, got 216 from PyObject\n",
      "  return f(*args, **kwds)\n"
     ]
    }
   ],
   "source": [
    "import pandas as pd\n",
    "import numpy as np\n",
    "import datetime\n",
    "import warnings\n",
    "import joblib\n",
    "import os\n",
    "warnings.filterwarnings('ignore')\n",
    "pd.set_option('display.max_columns',None)\n",
    "import lightgbm as lgb\n",
    "from sklearn.model_selection import KFold, train_test_split"
   ]
  },
  {
   "cell_type": "code",
   "execution_count": 41,
   "metadata": {},
   "outputs": [],
   "source": [
    "gbdt = joblib.load('./gbdt.pkl')"
   ]
  },
  {
   "cell_type": "code",
   "execution_count": 2,
   "metadata": {},
   "outputs": [],
   "source": [
    "# 数据加载\n",
    "file_list = []\n",
    "for root_dir,sub_dir,files in os.walk('./data'):\n",
    "    file_list.append(files)\n",
    "file_list = file_list[0]\n",
    "dataframe_list = pd.DataFrame()\n",
    "for file in files:\n",
    "    if file.endswith('xls'):\n",
    "        file_name = os.path.join(root_dir,file)\n",
    "        df = pd.read_excel(file_name)\n",
    "        dataframe_list = dataframe_list.append(df)\n",
    "dataframe_list.drop(['Unnamed: 18','Unnamed: 19','Unnamed: 20','Unnamed: 21','Unnamed: 22','Unnamed: 23','创角账号数'],\n",
    "                    axis=1,inplace=True)\n",
    "dataframe_list.columns = ['plan_name','channel_id','source_id','data_win','source_run_datetime','create_time','plan_id',\n",
    "                         'game_id','platform','source_run_date_amount','create_role_num','create_role_cost','create_role_pay_num',\n",
    "                          'create_role_pay_cost','create_role_pay_sum','create_role_roi','create_role_retain_1d']\n",
    "dataframe_list.dropna(how='any',inplace=True)"
   ]
  },
  {
   "cell_type": "code",
   "execution_count": 4,
   "metadata": {},
   "outputs": [],
   "source": [
    "dataframe_list['media_id'] = 10"
   ]
  },
  {
   "cell_type": "code",
   "execution_count": 6,
   "metadata": {},
   "outputs": [],
   "source": [
    "# 入参\n",
    "# \"columns\": [\"channel_id\",\"source_id\",\"data_win\",\"source_run_datetime\",\"create_time\",\"media_id\",\"game_id\",\"platform\",\n",
    "#      \"source_run_date_amount\",\"create_role_num\",\"create_role_cost\",\"create_role_pay_num\",\"create_role_pay_cost\",\n",
    "#             \"create_role_pay_sum\",\"create_role_roi\",\"create_role_retain_1d\"]"
   ]
  },
  {
   "cell_type": "code",
   "execution_count": 7,
   "metadata": {},
   "outputs": [],
   "source": [
    "data = dataframe_list[[\"channel_id\",\"source_id\",\"data_win\",\"source_run_datetime\",\"create_time\",\"media_id\",\"game_id\",\"platform\",\n",
    "     \"source_run_date_amount\",\"create_role_num\",\"create_role_cost\",\"create_role_pay_num\",\"create_role_pay_cost\",\n",
    "            \"create_role_pay_sum\",\"create_role_roi\",\"create_role_retain_1d\"]]"
   ]
  },
  {
   "cell_type": "code",
   "execution_count": 8,
   "metadata": {},
   "outputs": [
    {
     "data": {
      "text/html": [
       "<div>\n",
       "<style scoped>\n",
       "    .dataframe tbody tr th:only-of-type {\n",
       "        vertical-align: middle;\n",
       "    }\n",
       "\n",
       "    .dataframe tbody tr th {\n",
       "        vertical-align: top;\n",
       "    }\n",
       "\n",
       "    .dataframe thead th {\n",
       "        text-align: right;\n",
       "    }\n",
       "</style>\n",
       "<table border=\"1\" class=\"dataframe\">\n",
       "  <thead>\n",
       "    <tr style=\"text-align: right;\">\n",
       "      <th></th>\n",
       "      <th>channel_id</th>\n",
       "      <th>source_id</th>\n",
       "      <th>data_win</th>\n",
       "      <th>source_run_datetime</th>\n",
       "      <th>create_time</th>\n",
       "      <th>media_id</th>\n",
       "      <th>game_id</th>\n",
       "      <th>platform</th>\n",
       "      <th>source_run_date_amount</th>\n",
       "      <th>create_role_num</th>\n",
       "      <th>create_role_cost</th>\n",
       "      <th>create_role_pay_num</th>\n",
       "      <th>create_role_pay_cost</th>\n",
       "      <th>create_role_pay_sum</th>\n",
       "      <th>create_role_roi</th>\n",
       "      <th>create_role_retain_1d</th>\n",
       "    </tr>\n",
       "  </thead>\n",
       "  <tbody>\n",
       "    <tr>\n",
       "      <th>1</th>\n",
       "      <td>7162.0</td>\n",
       "      <td>299591.0</td>\n",
       "      <td>0.0</td>\n",
       "      <td>2020-05-01</td>\n",
       "      <td>2020-04-24</td>\n",
       "      <td>10</td>\n",
       "      <td>1001049.0</td>\n",
       "      <td>1.0</td>\n",
       "      <td>200000.00</td>\n",
       "      <td>690.0</td>\n",
       "      <td>290.275762</td>\n",
       "      <td>3.0</td>\n",
       "      <td>66666.666667</td>\n",
       "      <td>318.0</td>\n",
       "      <td>0.001590</td>\n",
       "      <td>0.0522</td>\n",
       "    </tr>\n",
       "    <tr>\n",
       "      <th>2</th>\n",
       "      <td>6770.0</td>\n",
       "      <td>297966.0</td>\n",
       "      <td>0.0</td>\n",
       "      <td>2020-05-01</td>\n",
       "      <td>2020-04-21</td>\n",
       "      <td>10</td>\n",
       "      <td>1001049.0</td>\n",
       "      <td>1.0</td>\n",
       "      <td>0.00</td>\n",
       "      <td>682.0</td>\n",
       "      <td>0.000000</td>\n",
       "      <td>6.0</td>\n",
       "      <td>0.000000</td>\n",
       "      <td>590.0</td>\n",
       "      <td>0.000000</td>\n",
       "      <td>0.0940</td>\n",
       "    </tr>\n",
       "    <tr>\n",
       "      <th>3</th>\n",
       "      <td>20754.0</td>\n",
       "      <td>304584.0</td>\n",
       "      <td>0.0</td>\n",
       "      <td>2020-05-01</td>\n",
       "      <td>2020-05-01</td>\n",
       "      <td>10</td>\n",
       "      <td>1001049.0</td>\n",
       "      <td>1.0</td>\n",
       "      <td>6603.77</td>\n",
       "      <td>640.0</td>\n",
       "      <td>10.334538</td>\n",
       "      <td>3.0</td>\n",
       "      <td>2201.256667</td>\n",
       "      <td>66.0</td>\n",
       "      <td>0.009994</td>\n",
       "      <td>0.0516</td>\n",
       "    </tr>\n",
       "    <tr>\n",
       "      <th>4</th>\n",
       "      <td>20754.0</td>\n",
       "      <td>304143.0</td>\n",
       "      <td>0.0</td>\n",
       "      <td>2020-05-01</td>\n",
       "      <td>2020-04-30</td>\n",
       "      <td>10</td>\n",
       "      <td>1000840.0</td>\n",
       "      <td>1.0</td>\n",
       "      <td>6640.08</td>\n",
       "      <td>406.0</td>\n",
       "      <td>16.476625</td>\n",
       "      <td>2.0</td>\n",
       "      <td>3320.040000</td>\n",
       "      <td>218.0</td>\n",
       "      <td>0.032831</td>\n",
       "      <td>0.0571</td>\n",
       "    </tr>\n",
       "    <tr>\n",
       "      <th>5</th>\n",
       "      <td>20754.0</td>\n",
       "      <td>301128.0</td>\n",
       "      <td>0.0</td>\n",
       "      <td>2020-05-01</td>\n",
       "      <td>2020-04-27</td>\n",
       "      <td>10</td>\n",
       "      <td>1000840.0</td>\n",
       "      <td>1.0</td>\n",
       "      <td>3850.09</td>\n",
       "      <td>270.0</td>\n",
       "      <td>14.474023</td>\n",
       "      <td>3.0</td>\n",
       "      <td>1283.363333</td>\n",
       "      <td>66.0</td>\n",
       "      <td>0.017143</td>\n",
       "      <td>0.0451</td>\n",
       "    </tr>\n",
       "  </tbody>\n",
       "</table>\n",
       "</div>"
      ],
      "text/plain": [
       "   channel_id  source_id  data_win source_run_datetime create_time  media_id  \\\n",
       "1      7162.0   299591.0       0.0          2020-05-01  2020-04-24        10   \n",
       "2      6770.0   297966.0       0.0          2020-05-01  2020-04-21        10   \n",
       "3     20754.0   304584.0       0.0          2020-05-01  2020-05-01        10   \n",
       "4     20754.0   304143.0       0.0          2020-05-01  2020-04-30        10   \n",
       "5     20754.0   301128.0       0.0          2020-05-01  2020-04-27        10   \n",
       "\n",
       "     game_id  platform  source_run_date_amount  create_role_num  \\\n",
       "1  1001049.0       1.0               200000.00            690.0   \n",
       "2  1001049.0       1.0                    0.00            682.0   \n",
       "3  1001049.0       1.0                 6603.77            640.0   \n",
       "4  1000840.0       1.0                 6640.08            406.0   \n",
       "5  1000840.0       1.0                 3850.09            270.0   \n",
       "\n",
       "   create_role_cost  create_role_pay_num  create_role_pay_cost  \\\n",
       "1        290.275762                  3.0          66666.666667   \n",
       "2          0.000000                  6.0              0.000000   \n",
       "3         10.334538                  3.0           2201.256667   \n",
       "4         16.476625                  2.0           3320.040000   \n",
       "5         14.474023                  3.0           1283.363333   \n",
       "\n",
       "   create_role_pay_sum  create_role_roi  create_role_retain_1d  \n",
       "1                318.0         0.001590                 0.0522  \n",
       "2                590.0         0.000000                 0.0940  \n",
       "3                 66.0         0.009994                 0.0516  \n",
       "4                218.0         0.032831                 0.0571  \n",
       "5                 66.0         0.017143                 0.0451  "
      ]
     },
     "execution_count": 8,
     "metadata": {},
     "output_type": "execute_result"
    }
   ],
   "source": [
    "data.head()"
   ]
  },
  {
   "cell_type": "code",
   "execution_count": 38,
   "metadata": {},
   "outputs": [
    {
     "data": {
      "text/plain": [
       "(1718817, 16)"
      ]
     },
     "execution_count": 38,
     "metadata": {},
     "output_type": "execute_result"
    }
   ],
   "source": [
    "data.shape"
   ]
  },
  {
   "cell_type": "code",
   "execution_count": 63,
   "metadata": {
    "scrolled": true
   },
   "outputs": [
    {
     "data": {
      "text/plain": [
       "array([[7162.0, 299591.0, 0.0, ..., 318.0, 0.00159, 0.0522],\n",
       "       [6770.0, 297966.0, 0.0, ..., 590.0, 0.0, 0.094],\n",
       "       [20754.0, 304584.0, 0.0, ..., 66.0, 0.0099943, 0.0516],\n",
       "       ...,\n",
       "       [20452.0, 337576.0, 7.0, ..., 0.0, 0.0, 0.0],\n",
       "       [20452.0, 337578.0, 7.0, ..., 0.0, 0.0, 0.0],\n",
       "       [20143.0, 337587.0, 7.0, ..., 0.0, 0.0, 0.0]], dtype=object)"
      ]
     },
     "execution_count": 63,
     "metadata": {},
     "output_type": "execute_result"
    }
   ],
   "source": [
    "data.values"
   ]
  },
  {
   "cell_type": "code",
   "execution_count": 65,
   "metadata": {},
   "outputs": [],
   "source": [
    "aa = pd.DataFrame({'A':[1,2,3],'B':[4,5,6]})"
   ]
  },
  {
   "cell_type": "code",
   "execution_count": 141,
   "metadata": {},
   "outputs": [],
   "source": [
    "aa = data.sample(100000)"
   ]
  },
  {
   "cell_type": "code",
   "execution_count": 103,
   "metadata": {},
   "outputs": [],
   "source": [
    "aa['create_time'] = aa['create_time'].astype(str)"
   ]
  },
  {
   "cell_type": "code",
   "execution_count": 84,
   "metadata": {},
   "outputs": [],
   "source": [
    "aa = aa.values.tolist()"
   ]
  },
  {
   "cell_type": "code",
   "execution_count": 86,
   "metadata": {},
   "outputs": [],
   "source": [
    "file=open('data.txt','w') \n",
    "file.write(str(aa)); \n",
    "file.close() "
   ]
  },
  {
   "cell_type": "code",
   "execution_count": 111,
   "metadata": {},
   "outputs": [],
   "source": [
    "jsondata = {\"columns\": [\"channel_id\",\"source_id\",\"data_win\",\"source_run_datetime\",\"create_time\",\"media_id\",\"game_id\",\"platform\",\"source_run_date_amount\",\"create_role_num\",\n",
    "    \"create_role_cost\",\"create_role_pay_num\",\"create_role_pay_cost\",\"create_role_pay_sum\",\"create_role_roi\",\"create_role_retain_1d\"],\n",
    "           \"data\":aa.values.tolist()}"
   ]
  },
  {
   "cell_type": "code",
   "execution_count": 107,
   "metadata": {},
   "outputs": [
    {
     "data": {
      "text/plain": [
       "dict"
      ]
     },
     "execution_count": 107,
     "metadata": {},
     "output_type": "execute_result"
    }
   ],
   "source": [
    "type(jsondata)"
   ]
  },
  {
   "cell_type": "code",
   "execution_count": 110,
   "metadata": {},
   "outputs": [
    {
     "data": {
      "text/plain": [
       "{'columns': ['channel_id',\n",
       "  'source_id',\n",
       "  'data_win',\n",
       "  'source_run_datetime',\n",
       "  'create_time',\n",
       "  'media_id',\n",
       "  'game_id',\n",
       "  'platform',\n",
       "  'source_run_date_amount',\n",
       "  'create_role_num',\n",
       "  'create_role_cost',\n",
       "  'create_role_pay_num',\n",
       "  'create_role_pay_cost',\n",
       "  'create_role_pay_sum',\n",
       "  'create_role_roi',\n",
       "  'create_role_retain_1d'],\n",
       " 'data': array([[7162.0, 261134.0, 7.0, ..., 0.0, 0.0, 0.0],\n",
       "        [6867.0, 294573.0, 5.0, ..., 0.0, 0.0, 0.0],\n",
       "        [7162.0, 217274.0, 6.0, ..., 0.0, 0.0, 0.0],\n",
       "        ...,\n",
       "        [21088.0, 333893.0, 5.0, ..., 0.0, 0.0, 0.0],\n",
       "        [20754.0, 292204.0, 2.0, ..., 0.0, 0.0, 0.0],\n",
       "        [20143.0, 314932.0, 2.0, ..., 0.0, 0.0, 0.0]], dtype=object)}"
      ]
     },
     "execution_count": 110,
     "metadata": {},
     "output_type": "execute_result"
    }
   ],
   "source": [
    "jsondata"
   ]
  },
  {
   "cell_type": "code",
   "execution_count": 117,
   "metadata": {},
   "outputs": [],
   "source": [
    "# j = json.dumps(jsondata)"
   ]
  },
  {
   "cell_type": "code",
   "execution_count": 116,
   "metadata": {},
   "outputs": [],
   "source": [
    "# import json\n",
    "\n",
    "# with open(\"tmp.txt\", \"w\") as fp:\n",
    "#     fp.write(json.dumps(jsondata))"
   ]
  },
  {
   "cell_type": "code",
   "execution_count": 112,
   "metadata": {},
   "outputs": [],
   "source": [
    "columns_1 = source_predict(jsondata=jsondata)['columns']\n",
    "data_1 = source_predict(jsondata=jsondata)['list']"
   ]
  },
  {
   "cell_type": "code",
   "execution_count": 45,
   "metadata": {},
   "outputs": [],
   "source": [
    "result = pd.DataFrame(data=data_1,columns=columns_1)"
   ]
  },
  {
   "cell_type": "code",
   "execution_count": 47,
   "metadata": {},
   "outputs": [
    {
     "data": {
      "text/plain": [
       "(30194, 17)"
      ]
     },
     "execution_count": 47,
     "metadata": {},
     "output_type": "execute_result"
    }
   ],
   "source": [
    "result.shape"
   ]
  },
  {
   "cell_type": "code",
   "execution_count": 48,
   "metadata": {},
   "outputs": [
    {
     "data": {
      "text/plain": [
       "500.15"
      ]
     },
     "execution_count": 48,
     "metadata": {},
     "output_type": "execute_result"
    }
   ],
   "source": [
    "result['source_run_date_amount'].min()"
   ]
  },
  {
   "cell_type": "code",
   "execution_count": 49,
   "metadata": {},
   "outputs": [
    {
     "data": {
      "text/plain": [
       "30194"
      ]
     },
     "execution_count": 49,
     "metadata": {},
     "output_type": "execute_result"
    }
   ],
   "source": [
    "groups = result.groupby(['channel_id','source_id','source_run_datetime'])\n",
    "groups.ngroups"
   ]
  },
  {
   "cell_type": "code",
   "execution_count": 50,
   "metadata": {},
   "outputs": [
    {
     "data": {
      "text/plain": [
       "1    27087\n",
       "0     3107\n",
       "Name: label, dtype: int64"
      ]
     },
     "execution_count": 50,
     "metadata": {},
     "output_type": "execute_result"
    }
   ],
   "source": [
    "result['label'].value_counts()"
   ]
  },
  {
   "cell_type": "code",
   "execution_count": 51,
   "metadata": {},
   "outputs": [
    {
     "data": {
      "text/plain": [
       "0.0    1848\n",
       "3.0     708\n",
       "7.0     373\n",
       "2.0     178\n",
       "Name: data_win, dtype: int64"
      ]
     },
     "execution_count": 51,
     "metadata": {},
     "output_type": "execute_result"
    }
   ],
   "source": [
    "result[result['label']==0]['data_win'].value_counts()"
   ]
  },
  {
   "cell_type": "code",
   "execution_count": 53,
   "metadata": {
    "scrolled": true
   },
   "outputs": [
    {
     "data": {
      "text/html": [
       "<div>\n",
       "<style scoped>\n",
       "    .dataframe tbody tr th:only-of-type {\n",
       "        vertical-align: middle;\n",
       "    }\n",
       "\n",
       "    .dataframe tbody tr th {\n",
       "        vertical-align: top;\n",
       "    }\n",
       "\n",
       "    .dataframe thead th {\n",
       "        text-align: right;\n",
       "    }\n",
       "</style>\n",
       "<table border=\"1\" class=\"dataframe\">\n",
       "  <thead>\n",
       "    <tr style=\"text-align: right;\">\n",
       "      <th></th>\n",
       "      <th>channel_id</th>\n",
       "      <th>source_id</th>\n",
       "      <th>data_win</th>\n",
       "      <th>source_run_datetime</th>\n",
       "      <th>create_time</th>\n",
       "      <th>media_id</th>\n",
       "      <th>game_id</th>\n",
       "      <th>platform</th>\n",
       "      <th>source_run_date_amount</th>\n",
       "      <th>create_role_num</th>\n",
       "      <th>create_role_cost</th>\n",
       "      <th>create_role_pay_num</th>\n",
       "      <th>create_role_pay_cost</th>\n",
       "      <th>create_role_pay_sum</th>\n",
       "      <th>create_role_roi</th>\n",
       "      <th>create_role_retain_1d</th>\n",
       "      <th>label</th>\n",
       "    </tr>\n",
       "  </thead>\n",
       "  <tbody>\n",
       "    <tr>\n",
       "      <th>7</th>\n",
       "      <td>20954.0</td>\n",
       "      <td>336540.0</td>\n",
       "      <td>0.0</td>\n",
       "      <td>2020-07-30</td>\n",
       "      <td>2020-07-28</td>\n",
       "      <td>10</td>\n",
       "      <td>1000993.0</td>\n",
       "      <td>2.0</td>\n",
       "      <td>22838.39</td>\n",
       "      <td>648.0</td>\n",
       "      <td>35.353545</td>\n",
       "      <td>5.0</td>\n",
       "      <td>4567.678000</td>\n",
       "      <td>158.0</td>\n",
       "      <td>0.006918</td>\n",
       "      <td>0.0867</td>\n",
       "      <td>0</td>\n",
       "    </tr>\n",
       "    <tr>\n",
       "      <th>12</th>\n",
       "      <td>20755.0</td>\n",
       "      <td>336867.0</td>\n",
       "      <td>0.0</td>\n",
       "      <td>2020-07-30</td>\n",
       "      <td>2020-07-29</td>\n",
       "      <td>10</td>\n",
       "      <td>1000993.0</td>\n",
       "      <td>2.0</td>\n",
       "      <td>1286.17</td>\n",
       "      <td>46.0</td>\n",
       "      <td>27.960217</td>\n",
       "      <td>1.0</td>\n",
       "      <td>1286.170000</td>\n",
       "      <td>12.0</td>\n",
       "      <td>0.009330</td>\n",
       "      <td>0.0435</td>\n",
       "      <td>0</td>\n",
       "    </tr>\n",
       "    <tr>\n",
       "      <th>18</th>\n",
       "      <td>20755.0</td>\n",
       "      <td>307729.0</td>\n",
       "      <td>0.0</td>\n",
       "      <td>2020-05-09</td>\n",
       "      <td>2020-05-09</td>\n",
       "      <td>10</td>\n",
       "      <td>1000993.0</td>\n",
       "      <td>2.0</td>\n",
       "      <td>4528.30</td>\n",
       "      <td>137.0</td>\n",
       "      <td>33.053285</td>\n",
       "      <td>1.0</td>\n",
       "      <td>4528.300000</td>\n",
       "      <td>30.0</td>\n",
       "      <td>0.006625</td>\n",
       "      <td>0.0657</td>\n",
       "      <td>0</td>\n",
       "    </tr>\n",
       "    <tr>\n",
       "      <th>22</th>\n",
       "      <td>20954.0</td>\n",
       "      <td>336540.0</td>\n",
       "      <td>0.0</td>\n",
       "      <td>2020-07-29</td>\n",
       "      <td>2020-07-28</td>\n",
       "      <td>10</td>\n",
       "      <td>1000993.0</td>\n",
       "      <td>2.0</td>\n",
       "      <td>42549.78</td>\n",
       "      <td>982.0</td>\n",
       "      <td>43.418143</td>\n",
       "      <td>11.0</td>\n",
       "      <td>3868.161818</td>\n",
       "      <td>700.0</td>\n",
       "      <td>0.016451</td>\n",
       "      <td>0.0918</td>\n",
       "      <td>0</td>\n",
       "    </tr>\n",
       "    <tr>\n",
       "      <th>32</th>\n",
       "      <td>20954.0</td>\n",
       "      <td>307422.0</td>\n",
       "      <td>0.0</td>\n",
       "      <td>2020-05-09</td>\n",
       "      <td>2020-05-09</td>\n",
       "      <td>10</td>\n",
       "      <td>1000993.0</td>\n",
       "      <td>2.0</td>\n",
       "      <td>3695.65</td>\n",
       "      <td>98.0</td>\n",
       "      <td>37.710714</td>\n",
       "      <td>1.0</td>\n",
       "      <td>3695.650000</td>\n",
       "      <td>60.0</td>\n",
       "      <td>0.016235</td>\n",
       "      <td>0.0510</td>\n",
       "      <td>0</td>\n",
       "    </tr>\n",
       "  </tbody>\n",
       "</table>\n",
       "</div>"
      ],
      "text/plain": [
       "    channel_id  source_id  data_win source_run_datetime create_time  media_id  \\\n",
       "7      20954.0   336540.0       0.0          2020-07-30  2020-07-28        10   \n",
       "12     20755.0   336867.0       0.0          2020-07-30  2020-07-29        10   \n",
       "18     20755.0   307729.0       0.0          2020-05-09  2020-05-09        10   \n",
       "22     20954.0   336540.0       0.0          2020-07-29  2020-07-28        10   \n",
       "32     20954.0   307422.0       0.0          2020-05-09  2020-05-09        10   \n",
       "\n",
       "      game_id  platform  source_run_date_amount  create_role_num  \\\n",
       "7   1000993.0       2.0                22838.39            648.0   \n",
       "12  1000993.0       2.0                 1286.17             46.0   \n",
       "18  1000993.0       2.0                 4528.30            137.0   \n",
       "22  1000993.0       2.0                42549.78            982.0   \n",
       "32  1000993.0       2.0                 3695.65             98.0   \n",
       "\n",
       "    create_role_cost  create_role_pay_num  create_role_pay_cost  \\\n",
       "7          35.353545                  5.0           4567.678000   \n",
       "12         27.960217                  1.0           1286.170000   \n",
       "18         33.053285                  1.0           4528.300000   \n",
       "22         43.418143                 11.0           3868.161818   \n",
       "32         37.710714                  1.0           3695.650000   \n",
       "\n",
       "    create_role_pay_sum  create_role_roi  create_role_retain_1d  label  \n",
       "7                 158.0         0.006918                 0.0867      0  \n",
       "12                 12.0         0.009330                 0.0435      0  \n",
       "18                 30.0         0.006625                 0.0657      0  \n",
       "22                700.0         0.016451                 0.0918      0  \n",
       "32                 60.0         0.016235                 0.0510      0  "
      ]
     },
     "execution_count": 53,
     "metadata": {},
     "output_type": "execute_result"
    }
   ],
   "source": [
    "result[result['label']==0].head()"
   ]
  },
  {
   "cell_type": "code",
   "execution_count": 56,
   "metadata": {},
   "outputs": [],
   "source": [
    "result.to_csv('./result.csv')"
   ]
  },
  {
   "cell_type": "code",
   "execution_count": 90,
   "metadata": {},
   "outputs": [
    {
     "data": {
      "text/html": [
       "<div>\n",
       "<style scoped>\n",
       "    .dataframe tbody tr th:only-of-type {\n",
       "        vertical-align: middle;\n",
       "    }\n",
       "\n",
       "    .dataframe tbody tr th {\n",
       "        vertical-align: top;\n",
       "    }\n",
       "\n",
       "    .dataframe thead th {\n",
       "        text-align: right;\n",
       "    }\n",
       "</style>\n",
       "<table border=\"1\" class=\"dataframe\">\n",
       "  <thead>\n",
       "    <tr style=\"text-align: right;\">\n",
       "      <th></th>\n",
       "      <th>channel_id</th>\n",
       "      <th>source_id</th>\n",
       "      <th>data_win</th>\n",
       "      <th>source_run_datetime</th>\n",
       "      <th>create_time</th>\n",
       "      <th>media_id</th>\n",
       "      <th>game_id</th>\n",
       "      <th>platform</th>\n",
       "      <th>source_run_date_amount</th>\n",
       "      <th>create_role_num</th>\n",
       "      <th>create_role_cost</th>\n",
       "      <th>create_role_pay_num</th>\n",
       "      <th>create_role_pay_cost</th>\n",
       "      <th>create_role_pay_sum</th>\n",
       "      <th>create_role_roi</th>\n",
       "      <th>create_role_retain_1d</th>\n",
       "    </tr>\n",
       "  </thead>\n",
       "  <tbody>\n",
       "    <tr>\n",
       "      <th>15390</th>\n",
       "      <td>20545.0</td>\n",
       "      <td>301828.0</td>\n",
       "      <td>5.0</td>\n",
       "      <td>2020-07-21</td>\n",
       "      <td>2020-04-28</td>\n",
       "      <td>10</td>\n",
       "      <td>1000840.0</td>\n",
       "      <td>1.0</td>\n",
       "      <td>0.00</td>\n",
       "      <td>0.0</td>\n",
       "      <td>0.00</td>\n",
       "      <td>0.0</td>\n",
       "      <td>0.0</td>\n",
       "      <td>0.0</td>\n",
       "      <td>0.0</td>\n",
       "      <td>0.0000</td>\n",
       "    </tr>\n",
       "    <tr>\n",
       "      <th>18046</th>\n",
       "      <td>20755.0</td>\n",
       "      <td>243404.0</td>\n",
       "      <td>1.0</td>\n",
       "      <td>2020-05-11</td>\n",
       "      <td>2019-12-07</td>\n",
       "      <td>10</td>\n",
       "      <td>1000954.0</td>\n",
       "      <td>2.0</td>\n",
       "      <td>0.00</td>\n",
       "      <td>0.0</td>\n",
       "      <td>0.00</td>\n",
       "      <td>0.0</td>\n",
       "      <td>0.0</td>\n",
       "      <td>0.0</td>\n",
       "      <td>0.0</td>\n",
       "      <td>0.0000</td>\n",
       "    </tr>\n",
       "    <tr>\n",
       "      <th>41770</th>\n",
       "      <td>20953.0</td>\n",
       "      <td>319112.0</td>\n",
       "      <td>4.0</td>\n",
       "      <td>2020-06-17</td>\n",
       "      <td>2020-06-13</td>\n",
       "      <td>10</td>\n",
       "      <td>1000840.0</td>\n",
       "      <td>1.0</td>\n",
       "      <td>558.25</td>\n",
       "      <td>7.0</td>\n",
       "      <td>79.75</td>\n",
       "      <td>0.0</td>\n",
       "      <td>0.0</td>\n",
       "      <td>0.0</td>\n",
       "      <td>0.0</td>\n",
       "      <td>0.1429</td>\n",
       "    </tr>\n",
       "    <tr>\n",
       "      <th>14267</th>\n",
       "      <td>20754.0</td>\n",
       "      <td>332926.0</td>\n",
       "      <td>6.0</td>\n",
       "      <td>2020-07-28</td>\n",
       "      <td>2020-07-19</td>\n",
       "      <td>10</td>\n",
       "      <td>1000840.0</td>\n",
       "      <td>1.0</td>\n",
       "      <td>0.19</td>\n",
       "      <td>1.0</td>\n",
       "      <td>0.19</td>\n",
       "      <td>0.0</td>\n",
       "      <td>0.0</td>\n",
       "      <td>0.0</td>\n",
       "      <td>0.0</td>\n",
       "      <td>0.0000</td>\n",
       "    </tr>\n",
       "    <tr>\n",
       "      <th>3088</th>\n",
       "      <td>20754.0</td>\n",
       "      <td>222773.0</td>\n",
       "      <td>2.0</td>\n",
       "      <td>2020-06-06</td>\n",
       "      <td>2019-10-22</td>\n",
       "      <td>10</td>\n",
       "      <td>1000960.0</td>\n",
       "      <td>1.0</td>\n",
       "      <td>0.00</td>\n",
       "      <td>0.0</td>\n",
       "      <td>0.00</td>\n",
       "      <td>0.0</td>\n",
       "      <td>0.0</td>\n",
       "      <td>0.0</td>\n",
       "      <td>0.0</td>\n",
       "      <td>0.0000</td>\n",
       "    </tr>\n",
       "  </tbody>\n",
       "</table>\n",
       "</div>"
      ],
      "text/plain": [
       "       channel_id  source_id  data_win source_run_datetime create_time  \\\n",
       "15390     20545.0   301828.0       5.0          2020-07-21  2020-04-28   \n",
       "18046     20755.0   243404.0       1.0          2020-05-11  2019-12-07   \n",
       "41770     20953.0   319112.0       4.0          2020-06-17  2020-06-13   \n",
       "14267     20754.0   332926.0       6.0          2020-07-28  2020-07-19   \n",
       "3088      20754.0   222773.0       2.0          2020-06-06  2019-10-22   \n",
       "\n",
       "       media_id    game_id  platform  source_run_date_amount  create_role_num  \\\n",
       "15390        10  1000840.0       1.0                    0.00              0.0   \n",
       "18046        10  1000954.0       2.0                    0.00              0.0   \n",
       "41770        10  1000840.0       1.0                  558.25              7.0   \n",
       "14267        10  1000840.0       1.0                    0.19              1.0   \n",
       "3088         10  1000960.0       1.0                    0.00              0.0   \n",
       "\n",
       "       create_role_cost  create_role_pay_num  create_role_pay_cost  \\\n",
       "15390              0.00                  0.0                   0.0   \n",
       "18046              0.00                  0.0                   0.0   \n",
       "41770             79.75                  0.0                   0.0   \n",
       "14267              0.19                  0.0                   0.0   \n",
       "3088               0.00                  0.0                   0.0   \n",
       "\n",
       "       create_role_pay_sum  create_role_roi  create_role_retain_1d  \n",
       "15390                  0.0              0.0                 0.0000  \n",
       "18046                  0.0              0.0                 0.0000  \n",
       "41770                  0.0              0.0                 0.1429  \n",
       "14267                  0.0              0.0                 0.0000  \n",
       "3088                   0.0              0.0                 0.0000  "
      ]
     },
     "execution_count": 90,
     "metadata": {},
     "output_type": "execute_result"
    }
   ],
   "source": [
    "aa.head()"
   ]
  },
  {
   "cell_type": "code",
   "execution_count": 262,
   "metadata": {},
   "outputs": [],
   "source": [
    "bb = pd.DataFrame(data=[[1,1,3,\"2020-03-30\",\"2020-03-30\",10,80024,1,1000,5,100,2,250,20,0.25,0.2],\n",
    "      [1,1,7,\"2020-03-30\",\"2020-03-30\",10,80023,2,2000,10,0,4,500,40,0.5,0.2]],columns = [\"channel_id\",\"source_id\",\"data_win\",\"source_run_datetime\",\"create_time\",\"media_id\",\"game_id\",\"platform\",\"source_run_date_amount\",\"create_role_num\",\n",
    "    \"create_role_cost\",\"create_role_pay_num\",\"create_role_pay_cost\",\"create_role_pay_sum\",\"create_role_roi\",\"create_role_retain_1d\"])"
   ]
  },
  {
   "cell_type": "code",
   "execution_count": 263,
   "metadata": {},
   "outputs": [
    {
     "data": {
      "text/html": [
       "<div>\n",
       "<style scoped>\n",
       "    .dataframe tbody tr th:only-of-type {\n",
       "        vertical-align: middle;\n",
       "    }\n",
       "\n",
       "    .dataframe tbody tr th {\n",
       "        vertical-align: top;\n",
       "    }\n",
       "\n",
       "    .dataframe thead th {\n",
       "        text-align: right;\n",
       "    }\n",
       "</style>\n",
       "<table border=\"1\" class=\"dataframe\">\n",
       "  <thead>\n",
       "    <tr style=\"text-align: right;\">\n",
       "      <th></th>\n",
       "      <th>channel_id</th>\n",
       "      <th>source_id</th>\n",
       "      <th>data_win</th>\n",
       "      <th>source_run_datetime</th>\n",
       "      <th>create_time</th>\n",
       "      <th>media_id</th>\n",
       "      <th>game_id</th>\n",
       "      <th>platform</th>\n",
       "      <th>source_run_date_amount</th>\n",
       "      <th>create_role_num</th>\n",
       "      <th>create_role_cost</th>\n",
       "      <th>create_role_pay_num</th>\n",
       "      <th>create_role_pay_cost</th>\n",
       "      <th>create_role_pay_sum</th>\n",
       "      <th>create_role_roi</th>\n",
       "      <th>create_role_retain_1d</th>\n",
       "    </tr>\n",
       "  </thead>\n",
       "  <tbody>\n",
       "    <tr>\n",
       "      <th>0</th>\n",
       "      <td>1</td>\n",
       "      <td>1</td>\n",
       "      <td>3</td>\n",
       "      <td>2020-03-30</td>\n",
       "      <td>2020-03-30</td>\n",
       "      <td>10</td>\n",
       "      <td>80024</td>\n",
       "      <td>1</td>\n",
       "      <td>1000</td>\n",
       "      <td>5</td>\n",
       "      <td>100</td>\n",
       "      <td>2</td>\n",
       "      <td>250</td>\n",
       "      <td>20</td>\n",
       "      <td>0.25</td>\n",
       "      <td>0.2</td>\n",
       "    </tr>\n",
       "    <tr>\n",
       "      <th>1</th>\n",
       "      <td>1</td>\n",
       "      <td>1</td>\n",
       "      <td>7</td>\n",
       "      <td>2020-03-30</td>\n",
       "      <td>2020-03-30</td>\n",
       "      <td>10</td>\n",
       "      <td>80023</td>\n",
       "      <td>2</td>\n",
       "      <td>2000</td>\n",
       "      <td>10</td>\n",
       "      <td>0</td>\n",
       "      <td>4</td>\n",
       "      <td>500</td>\n",
       "      <td>40</td>\n",
       "      <td>0.50</td>\n",
       "      <td>0.2</td>\n",
       "    </tr>\n",
       "  </tbody>\n",
       "</table>\n",
       "</div>"
      ],
      "text/plain": [
       "   channel_id  source_id  data_win source_run_datetime create_time  media_id  \\\n",
       "0           1          1         3          2020-03-30  2020-03-30        10   \n",
       "1           1          1         7          2020-03-30  2020-03-30        10   \n",
       "\n",
       "   game_id  platform  source_run_date_amount  create_role_num  \\\n",
       "0    80024         1                    1000                5   \n",
       "1    80023         2                    2000               10   \n",
       "\n",
       "   create_role_cost  create_role_pay_num  create_role_pay_cost  \\\n",
       "0               100                    2                   250   \n",
       "1                 0                    4                   500   \n",
       "\n",
       "   create_role_pay_sum  create_role_roi  create_role_retain_1d  \n",
       "0                   20             0.25                    0.2  \n",
       "1                   40             0.50                    0.2  "
      ]
     },
     "execution_count": 263,
     "metadata": {},
     "output_type": "execute_result"
    }
   ],
   "source": [
    "bb"
   ]
  },
  {
   "cell_type": "code",
   "execution_count": 264,
   "metadata": {},
   "outputs": [],
   "source": [
    "jsondata = {\"columns\": [\"channel_id\",\"source_id\",\"data_win\",\"source_run_datetime\",\"create_time\",\"media_id\",\"game_id\",\"platform\",\"source_run_date_amount\",\"create_role_num\",\n",
    "    \"create_role_cost\",\"create_role_pay_num\",\"create_role_pay_cost\",\"create_role_pay_sum\",\"create_role_roi\",\"create_role_retain_1d\"],\n",
    "           \"data\":bb.values}"
   ]
  },
  {
   "cell_type": "code",
   "execution_count": 265,
   "metadata": {},
   "outputs": [],
   "source": [
    "columns_1 = source_predict(jsondata)['columns']\n",
    "data_1 = source_predict(jsondata)['list']"
   ]
  },
  {
   "cell_type": "code",
   "execution_count": 266,
   "metadata": {},
   "outputs": [
    {
     "data": {
      "text/plain": [
       "[[1,\n",
       "  1,\n",
       "  3,\n",
       "  '2020-03-30',\n",
       "  '2020-03-30',\n",
       "  10,\n",
       "  80024,\n",
       "  1,\n",
       "  1000,\n",
       "  5,\n",
       "  100,\n",
       "  2,\n",
       "  250,\n",
       "  20,\n",
       "  0.25,\n",
       "  0.2,\n",
       "  1]]"
      ]
     },
     "execution_count": 266,
     "metadata": {},
     "output_type": "execute_result"
    }
   ],
   "source": [
    "data_1"
   ]
  },
  {
   "cell_type": "code",
   "execution_count": null,
   "metadata": {},
   "outputs": [],
   "source": [
    "def source_predict(jsondata):\n",
    "    '''\n",
    "    :param jsondata: {\"columns\": [\"channel_id\",\"source_id\",\"data_win\",\"source_run_datetime\",\"create_time\",\"media_id\",\"game_id\",\"platform\",\"source_run_date_amount\",\"create_role_num\",\n",
    "    \"create_role_cost\",\"create_role_pay_num\",\"create_role_pay_cost\",\"create_role_pay_sum\",\"create_role_roi\",\"create_role_retain_1d\"]}\n",
    "    :return:\n",
    "    '''\n",
    "    data = pd.DataFrame(data=jsondata['data'], columns=jsondata['columns'])\n",
    "    # 数据预处理\n",
    "    data = data[data['source_run_date_amount'] > 0]    # 删除消耗为0的数据\n",
    "    # 去重，处理某天没有消耗的情况\n",
    "    data.sort_values(by='data_win',inplace=True)\n",
    "    data.drop_duplicates(subset=['channel_id','source_id','source_run_date_amount','create_role_num'],keep='first'\n",
    "                           ,inplace=True)\n",
    "    # 对消耗500元以下的不作判断，对数据按平台、win进行分类处理\n",
    "    data_ignore = data[data['source_run_date_amount'] < 500]\n",
    "    data_not_ignore = data[data['source_run_date_amount'] >= 500]\n",
    "    \n",
    "    data_an = data_not_ignore[data_not_ignore['platform'] == 1]\n",
    "    data_ios = data_not_ignore[data_not_ignore['platform'] == 2]\n",
    "\n",
    "    data_win_0 = data_an[data_an['data_win'] == 0]\n",
    "    data_win_1 = data_an[data_an['data_win'] == 1]\n",
    "    data_win_2 = data_an[data_an['data_win'] == 2]\n",
    "    data_win_3 = data_an[data_an['data_win'] == 3]\n",
    "    data_win_7 = data_an[data_an['data_win'] == 7]\n",
    "\n",
    "    data_win_0_ios = data_ios[data_ios['data_win'] == 0]\n",
    "    data_win_1_ios = data_ios[data_ios['data_win'] == 1]\n",
    "    data_win_2_ios = data_ios[data_ios['data_win'] == 2]\n",
    "    data_win_3_ios = data_ios[data_ios['data_win'] == 3]\n",
    "    data_win_7_ios = data_ios[data_ios['data_win'] == 7]\n",
    "    \n",
    "    result_df = pd.DataFrame()\n",
    "    temp_df = pd.DataFrame()\n",
    "    # win=0预判\n",
    "    if data_win_0.shape[0] != 0:\n",
    "        data_win_0['label'] = data_win_0.apply(lambda x:1 if x.create_role_num == 0 else (1 if (x.create_role_cost>=20)&\n",
    "            (x.create_role_pay_num==0) else(0 if (x.create_role_cost<=70)&(x.create_role_roi>=0.02) else \n",
    "                                            (1 if x.create_role_cost>=50 else 2))),axis=1)\n",
    "        result_df = result_df.append(data_win_0[(data_win_0['label'] == 1)| (data_win_0['label'] == 0)])\n",
    "        temp_df = temp_df.append(data_win_0[data_win_0['label'] == 2])\n",
    "    if data_win_0_ios.shape[0] != 0:    \n",
    "        data_win_0_ios['label'] = data_win_0_ios.apply(lambda x:1 if x.create_role_num == 0 else (1 if (x.create_role_cost>=40)&\n",
    "            (x.create_role_pay_num==0) else(0 if (x.create_role_cost<=300)&(x.create_role_roi>=0.02) else \n",
    "                                            (1 if x.create_role_cost>=120 else 2))),axis=1)\n",
    "        result_df = result_df.append(data_win_0_ios[(data_win_0_ios['label'] == 1)| (data_win_0_ios['label'] == 0)])\n",
    "        temp_df = temp_df.append(data_win_0_ios[data_win_0_ios['label'] == 2])\n",
    "        \n",
    "    # win=1预判\n",
    "    if data_win_1.shape[0] != 0:\n",
    "        data_win_1['label'] = data_win_1.apply(lambda x:1 if x.create_role_num == 0 else (0 if (x.create_role_cost<=70)&(x.create_role_roi>=0.02)\n",
    "                                    else (1 if x.create_role_cost>=50 else (1 if x.create_role_pay_sum==0 else 2))),axis=1)\n",
    "        result_df = result_df.append(data_win_1[(data_win_1['label'] == 1)| (data_win_1['label'] == 0)])\n",
    "        temp_df = temp_df.append(data_win_1[data_win_1['label'] == 2])\n",
    "    if data_win_1_ios.shape[0] != 0:\n",
    "        data_win_1_ios['label'] = data_win_1_ios.apply(lambda x:1 if x.create_role_num == 0 else (0 if (x.create_role_cost<=300)&(x.create_role_roi>=0.02)\n",
    "                                        else (1 if x.create_role_cost>=120 else (1 if x.create_role_pay_sum==0 else 2))),axis=1)\n",
    "        result_df = result_df.append(data_win_1_ios[(data_win_1_ios['label'] == 1)| (data_win_1_ios['label'] == 0)])\n",
    "        temp_df = temp_df.append(data_win_1_ios[data_win_1_ios['label'] == 2])\n",
    "    \n",
    "    # win=2预判\n",
    "    if data_win_2.shape[0] != 0:\n",
    "        data_win_2['label'] = data_win_2.apply(lambda x:1 if x.create_role_num == 0 else (0 if (x.create_role_cost<=70)&(x.create_role_roi>=0.045)\n",
    "                                    else (1 if x.create_role_cost>=50 else (1 if x.create_role_roi<=0.03 else 2))),axis=1)\n",
    "        result_df = result_df.append(data_win_2[(data_win_2['label'] == 1)| (data_win_2['label'] == 0)])\n",
    "        temp_df = temp_df.append(data_win_2[data_win_2['label'] == 2])\n",
    "        \n",
    "    if data_win_2_ios.shape[0] != 0:\n",
    "        data_win_2_ios['label'] = data_win_2_ios.apply(lambda x:1 if x.create_role_num == 0 else (0 if (x.create_role_cost<=250)&(x.create_role_roi>=0.045)\n",
    "                                        else (1 if x.create_role_cost>=120 else (1 if x.create_role_roi<=0.02 else 2))),axis=1)\n",
    "        result_df = result_df.append(data_win_2_ios[(data_win_2_ios['label'] == 1)| (data_win_2_ios['label'] == 0)])\n",
    "        temp_df = temp_df.append(data_win_2_ios[data_win_2_ios['label'] == 2])\n",
    "   \n",
    "    # win=3预判\n",
    "    if data_win_3.shape[0] != 0:\n",
    "        data_win_3['label'] = data_win_3.apply(lambda x:1 if x.create_role_num == 0 else(1 if x.create_role_pay_num==0 else (0 if (x.create_role_cost<=70)&(x.create_role_roi>=0.07)\n",
    "            else (1 if x.create_role_pay_cost > 5000 else (1 if x.create_role_retain_1d<0.05 else(1 if x.create_role_roi<0.04 else 2))))),axis=1)\n",
    "        result_df = result_df.append(data_win_3[(data_win_3['label'] == 1)| (data_win_3['label'] == 0)])\n",
    "        temp_df = temp_df.append(data_win_3[data_win_3['label'] == 2])\n",
    "    if data_win_3_ios.shape[0] != 0:\n",
    "        data_win_3_ios['label'] = data_win_3_ios.apply(lambda x:1 if x.create_role_num == 0 else(1 if x.create_role_pay_num==0 else (0 if (x.create_role_cost<=250)&(x.create_role_roi>=0.07)\n",
    "                else (1 if x.create_role_pay_cost >10000 else (1 if x.create_role_retain_1d<0.05 else(1 if x.create_role_roi<0.04 else 2))))),axis=1)\n",
    "        result_df = result_df.append(data_win_3_ios[(data_win_3_ios['label'] == 1)| (data_win_3_ios['label'] == 0)])\n",
    "        temp_df = temp_df.append(data_win_3_ios[data_win_3_ios['label'] == 2])\n",
    "    \n",
    "    \n",
    "    # 模型预测\n",
    "    if temp_df.shape[0] != 0:\n",
    "        temp_df['label'] = gbdt.predict(temp_df[['data_win','platform','create_role_cost','create_role_pay_cost','create_role_roi']])\n",
    "    # win=7\n",
    "    if data_win_7.shape[0] != 0:\n",
    "        data_win_7['label'] = data_win_7.apply(lambda x:1 if x.create_role_num == 0 else (0 if (x.create_role_cost<=50)&(x.create_role_roi>=0.125)&(x.create_role_pay_cost<=4000) else 1), axis=1)\n",
    "        result_df = result_df.append(data_win_7[(data_win_7['label'] == 1)| (data_win_7['label'] == 0)])\n",
    "        temp_df = temp_df.append(data_win_7[data_win_7['label'] == 2])\n",
    "    if data_win_7_ios.shape[0] != 0:\n",
    "        data_win_7_ios['label'] = data_win_7_ios.apply(lambda x:1 if x.create_role_num == 0 else (0 if (x.create_role_cost<=100)&(x.create_role_roi>=0.11)&(x.create_role_pay_cost<=8000) else 1), axis=1)\n",
    "        result_df = result_df.append(data_win_7_ios[(data_win_7_ios['label'] == 1)| (data_win_7_ios['label'] == 0)])\n",
    "        temp_df = temp_df.append(data_win_7_ios[data_win_7_ios['label'] == 2])\n",
    "        \n",
    "    result_temp = result_df.append(temp_df)\n",
    "    \n",
    "    # 结果输出\n",
    "    if result_temp.shape[0]!=0:\n",
    "        part_1 = result_temp[result_temp['data_win']==0]\n",
    "        part_2 = result_temp[result_temp['data_win']==7]\n",
    "        if part_1.shape[0] != 0:\n",
    "            temp = result_temp.drop(part_1.index,axis=0)\n",
    "        else:\n",
    "            temp = result_temp\n",
    "        if temp.shape[0] != 0:\n",
    "            if part_2.shape[0] != 0:\n",
    "                temp = temp.drop(part_2.index,axis=0)\n",
    "            # win1,2,3按优先级3,2,1进行去重\n",
    "            temp.sort_values('data_win',ascending=False,inplace=True)\n",
    "            temp.drop_duplicates(['channel_id','source_id','source_run_datetime'],keep='first',inplace=True)\n",
    "            # win1,2,3去重后，与win0进行去重，优先win=0\n",
    "            if part_1.shape[0] != 0:\n",
    "                temp = pd.concat([temp,part_1], axis=0)\n",
    "                temp.sort_values('data_win',inplace=True)\n",
    "                temp.drop_duplicates(['channel_id','source_id','source_run_datetime'],keep='first',inplace=True)\n",
    "            # 再去win=7进行去重，win=7优先级小\n",
    "            if part_2.shape[0] != 0:\n",
    "                temp = pd.concat([temp,part_2], axis=0)\n",
    "                temp.sort_values('data_win',inplace=True)\n",
    "                temp.drop_duplicates(['channel_id','source_id','source_run_datetime'],keep='first',inplace=True)\n",
    "            source_predict = temp \n",
    "            \n",
    "        elif part_1.shape[0]!=0:\n",
    "            temp = part_1\n",
    "            if part_2.shape[0] != 0:\n",
    "                temp = pd.concat([temp,part_2], axis=0)\n",
    "                temp.sort_values('data_win',inplace=True)\n",
    "                temp.drop_duplicates(['channel_id','source_id','source_run_datetime'],keep='first',inplace=True)\n",
    "            source_predict = temp \n",
    "            \n",
    "        else:\n",
    "            source_predict = part_2\n",
    "    else:\n",
    "        source_predict = pd.DataFrame(columns=[\"channel_id\",\"source_id\",\"data_win\",\"source_run_datetime\",\"create_time\",\n",
    "                            \"media_id\",\"game_id\",\"platform\",\"source_run_date_amount\",\"create_role_num\",\"create_role_cost\",\n",
    "                            \"create_role_pay_num\",\"create_role_pay_cost\",\"create_role_pay_sum\",\"create_role_roi\",\n",
    "                            \"create_role_retain_1d\",\"label\"])    \n",
    "    source_predict['label'] = source_predict['label'].astype(int)\n",
    "\n",
    "    return {\"columns\": source_predict.columns.values.tolist(), \"list\": source_predict.values.tolist()}"
   ]
  },
  {
   "cell_type": "code",
   "execution_count": 246,
   "metadata": {},
   "outputs": [],
   "source": [
    "def source_predict(jsondata):\n",
    "    '''\n",
    "    :param jsondata: {\"columns\": [\"channel_id\",\"source_id\",\"data_win\",\"source_run_datetime\",\"create_time\",\"media_id\",\"game_id\",\"platform\",\"source_run_date_amount\",\"create_role_num\",\n",
    "    \"create_role_cost\",\"create_role_pay_num\",\"create_role_pay_cost\",\"create_role_pay_sum\",\"create_role_roi\",\"create_role_retain_1d\"]}\n",
    "    :return:\n",
    "    '''\n",
    "    data = pd.DataFrame(data=jsondata['data'], columns=jsondata['columns'])\n",
    "    # 数据预处理\n",
    "    data = data[data['source_run_date_amount'] > 0]    # 删除消耗为0的数据\n",
    "    # 去重，处理某天没有消耗的情况\n",
    "#     if data.shape[0] != 0:\n",
    "    data.sort_values(by='data_win',inplace=True)\n",
    "    data.drop_duplicates(subset=['channel_id','source_id','source_run_date_amount','create_role_num'],keep='first'\n",
    "                           ,inplace=True)\n",
    "    # 对消耗500元以下的不作判断，对数据按平台、win进行分类处理\n",
    "    data_ignore = data[data['source_run_date_amount'] < 500]\n",
    "    data_not_ignore = data[data['source_run_date_amount'] >= 500]\n",
    "    \n",
    "    data_an = data_not_ignore[data_not_ignore['platform'] == 1]\n",
    "    data_ios = data_not_ignore[data_not_ignore['platform'] == 2]\n",
    "#     if data_an.shape[0] != 0:\n",
    "    data_win_0 = data_an[data_an['data_win'] == 0]\n",
    "    data_win_1 = data_an[data_an['data_win'] == 1]\n",
    "    data_win_2 = data_an[data_an['data_win'] == 2]\n",
    "    data_win_3 = data_an[data_an['data_win'] == 3]\n",
    "    data_win_7 = data_an[data_an['data_win'] == 7]\n",
    "#     else:\n",
    "#         data_win_0 = pd.DataFrame()\n",
    "#         data_win_1 = pd.DataFrame()\n",
    "#         data_win_2 = pd.DataFrame()\n",
    "#         data_win_3 = pd.DataFrame()\n",
    "#         data_win_7 = pd.DataFrame()\n",
    "\n",
    "#     if data_ios.shape[0] != 0:\n",
    "    data_win_0_ios = data_ios[data_ios['data_win'] == 0]\n",
    "    data_win_1_ios = data_ios[data_ios['data_win'] == 1]\n",
    "    data_win_2_ios = data_ios[data_ios['data_win'] == 2]\n",
    "    data_win_3_ios = data_ios[data_ios['data_win'] == 3]\n",
    "    data_win_7_ios = data_ios[data_ios['data_win'] == 7]\n",
    "#     else:\n",
    "#         data_win_0_ios = pd.DataFrame()\n",
    "#         data_win_1_ios = pd.DataFrame()\n",
    "#         data_win_2_ios = pd.DataFrame()\n",
    "#         data_win_3_ios = pd.DataFrame()\n",
    "#         data_win_7_ios = pd.DataFrame()  \n",
    "        \n",
    "#     if data_not_ignore.shape[0] != 0:\n",
    "#         data_an = data_not_ignore[data_not_ignore['platform'] == 1]\n",
    "#         data_ios = data_not_ignore[data_not_ignore['platform'] == 2]\n",
    "#         if data_an.shape[0] != 0:\n",
    "#             data_win_0 = data_an[data_an['data_win'] == 0]\n",
    "#             data_win_1 = data_an[data_an['data_win'] == 1]\n",
    "#             data_win_2 = data_an[data_an['data_win'] == 2]\n",
    "#             data_win_3 = data_an[data_an['data_win'] == 3]\n",
    "#             data_win_7 = data_an[data_an['data_win'] == 7]\n",
    "#         else:\n",
    "#             data_win_0 = pd.DataFrame()\n",
    "#             data_win_1 = pd.DataFrame()\n",
    "#             data_win_2 = pd.DataFrame()\n",
    "#             data_win_3 = pd.DataFrame()\n",
    "#             data_win_7 = pd.DataFrame()\n",
    "            \n",
    "#         if data_ios.shape[0] != 0:\n",
    "#             data_win_0_ios = data_ios[data_ios['data_win'] == 0]\n",
    "#             data_win_1_ios = data_ios[data_ios['data_win'] == 1]\n",
    "#             data_win_2_ios = data_ios[data_ios['data_win'] == 2]\n",
    "#             data_win_3_ios = data_ios[data_ios['data_win'] == 3]\n",
    "#             data_win_7_ios = data_ios[data_ios['data_win'] == 7]\n",
    "#         else:\n",
    "#             data_win_0_ios = pd.DataFrame()\n",
    "#             data_win_1_ios = pd.DataFrame()\n",
    "#             data_win_2_ios = pd.DataFrame()\n",
    "#             data_win_3_ios = pd.DataFrame()\n",
    "#             data_win_7_ios = pd.DataFrame()\n",
    "    \n",
    "    result_df = pd.DataFrame()\n",
    "    temp_df = pd.DataFrame()\n",
    "    # win=0预判\n",
    "    if data_win_0.shape[0] != 0:\n",
    "        data_win_0['label'] = data_win_0.apply(lambda x:1 if x.create_role_num == 0 else (1 if (x.create_role_cost>=20)&\n",
    "            (x.create_role_pay_num==0) else(0 if (x.create_role_cost<=70)&(x.create_role_roi>=0.02) else \n",
    "                                            (1 if x.create_role_cost>=50 else 2))),axis=1)\n",
    "        result_df = result_df.append(data_win_0[(data_win_0['label'] == 1)| (data_win_0['label'] == 0)])\n",
    "        temp_df = temp_df.append(data_win_0[data_win_0['label'] == 2])\n",
    "    if data_win_0_ios.shape[0] != 0:    \n",
    "        data_win_0_ios['label'] = data_win_0_ios.apply(lambda x:1 if x.create_role_num == 0 else (1 if (x.create_role_cost>=40)&\n",
    "            (x.create_role_pay_num==0) else(0 if (x.create_role_cost<=300)&(x.create_role_roi>=0.02) else \n",
    "                                            (1 if x.create_role_cost>=120 else 2))),axis=1)\n",
    "        result_df = result_df.append(data_win_0_ios[(data_win_0_ios['label'] == 1)| (data_win_0_ios['label'] == 0)])\n",
    "        temp_df = temp_df.append(data_win_0_ios[data_win_0_ios['label'] == 2])\n",
    "        \n",
    "    # win=1预判\n",
    "    if data_win_1.shape[0] != 0:\n",
    "        data_win_1['label'] = data_win_1.apply(lambda x:1 if x.create_role_num == 0 else (0 if (x.create_role_cost<=70)&(x.create_role_roi>=0.02)\n",
    "                                    else (1 if x.create_role_cost>=50 else (1 if x.create_role_pay_sum==0 else 2))),axis=1)\n",
    "        result_df = result_df.append(data_win_1[(data_win_1['label'] == 1)| (data_win_1['label'] == 0)])\n",
    "        temp_df = temp_df.append(data_win_1[data_win_1['label'] == 2])\n",
    "    if data_win_1_ios.shape[0] != 0:\n",
    "        data_win_1_ios['label'] = data_win_1_ios.apply(lambda x:1 if x.create_role_num == 0 else (0 if (x.create_role_cost<=300)&(x.create_role_roi>=0.02)\n",
    "                                        else (1 if x.create_role_cost>=120 else (1 if x.create_role_pay_sum==0 else 2))),axis=1)\n",
    "        result_df = result_df.append(data_win_1_ios[(data_win_1_ios['label'] == 1)| (data_win_1_ios['label'] == 0)])\n",
    "        temp_df = temp_df.append(data_win_1_ios[data_win_1_ios['label'] == 2])\n",
    "    \n",
    "    # win=2预判\n",
    "    if data_win_2.shape[0] != 0:\n",
    "        data_win_2['label'] = data_win_2.apply(lambda x:1 if x.create_role_num == 0 else (0 if (x.create_role_cost<=70)&(x.create_role_roi>=0.045)\n",
    "                                    else (1 if x.create_role_cost>=50 else (1 if x.create_role_roi<=0.03 else 2))),axis=1)\n",
    "        result_df = result_df.append(data_win_2[(data_win_2['label'] == 1)| (data_win_2['label'] == 0)])\n",
    "        temp_df = temp_df.append(data_win_2[data_win_2['label'] == 2])\n",
    "        \n",
    "    if data_win_2_ios.shape[0] != 0:\n",
    "        data_win_2_ios['label'] = data_win_2_ios.apply(lambda x:1 if x.create_role_num == 0 else (0 if (x.create_role_cost<=250)&(x.create_role_roi>=0.045)\n",
    "                                        else (1 if x.create_role_cost>=120 else (1 if x.create_role_roi<=0.02 else 2))),axis=1)\n",
    "        result_df = result_df.append(data_win_2_ios[(data_win_2_ios['label'] == 1)| (data_win_2_ios['label'] == 0)])\n",
    "        temp_df = temp_df.append(data_win_2_ios[data_win_2_ios['label'] == 2])\n",
    "   \n",
    "    # win=3预判\n",
    "    if data_win_3.shape[0] != 0:\n",
    "        data_win_3['label'] = data_win_3.apply(lambda x:1 if x.create_role_num == 0 else(1 if x.create_role_pay_num==0 else (0 if (x.create_role_cost<=70)&(x.create_role_roi>=0.07)\n",
    "            else (1 if x.create_role_pay_cost > 5000 else (1 if x.create_role_retain_1d<0.05 else(1 if x.create_role_roi<0.04 else 2))))),axis=1)\n",
    "        result_df = result_df.append(data_win_3[(data_win_3['label'] == 1)| (data_win_3['label'] == 0)])\n",
    "        temp_df = temp_df.append(data_win_3[data_win_3['label'] == 2])\n",
    "    if data_win_3_ios.shape[0] != 0:\n",
    "        data_win_3_ios['label'] = data_win_3_ios.apply(lambda x:1 if x.create_role_num == 0 else(1 if x.create_role_pay_num==0 else (0 if (x.create_role_cost<=250)&(x.create_role_roi>=0.07)\n",
    "                else (1 if x.create_role_pay_cost >10000 else (1 if x.create_role_retain_1d<0.05 else(1 if x.create_role_roi<0.04 else 2))))),axis=1)\n",
    "        result_df = result_df.append(data_win_3_ios[(data_win_3_ios['label'] == 1)| (data_win_3_ios['label'] == 0)])\n",
    "        temp_df = temp_df.append(data_win_3_ios[data_win_3_ios['label'] == 2])\n",
    "    \n",
    "    \n",
    "    # 模型预测\n",
    "    if temp_df.shape[0] != 0:\n",
    "        temp_df['label'] = gbdt.predict(temp_df[['data_win','platform','create_role_cost','create_role_pay_cost','create_role_roi']])\n",
    "    # win=7\n",
    "    if data_win_7.shape[0] != 0:\n",
    "        data_win_7['label'] = data_win_7.apply(lambda x:1 if x.create_role_num == 0 else (0 if (x.create_role_cost<=50)&(x.create_role_roi>=0.125)&(x.create_role_pay_cost<=4000) else 1), axis=1)\n",
    "        result_df = result_df.append(data_win_7[(data_win_7['label'] == 1)| (data_win_7['label'] == 0)])\n",
    "        temp_df = temp_df.append(data_win_7[data_win_7['label'] == 2])\n",
    "    if data_win_7_ios.shape[0] != 0:\n",
    "        data_win_7_ios['label'] = data_win_7_ios.apply(lambda x:1 if x.create_role_num == 0 else (0 if (x.create_role_cost<=100)&(x.create_role_roi>=0.11)&(x.create_role_pay_cost<=8000) else 1), axis=1)\n",
    "        result_df = result_df.append(data_win_7_ios[(data_win_7_ios['label'] == 1)| (data_win_7_ios['label'] == 0)])\n",
    "        temp_df = temp_df.append(data_win_7_ios[data_win_7_ios['label'] == 2])\n",
    "        \n",
    "    result_temp = result_df.append(temp_df)\n",
    "    \n",
    "    # 结果输出\n",
    "    if result_temp.shape[0]!=0:\n",
    "        part_1 = result_temp[result_temp['data_win']==0]\n",
    "        part_2 = result_temp[result_temp['data_win']==7]\n",
    "        if part_1.shape[0] != 0:\n",
    "            temp = result_temp.drop(part_1.index,axis=0)\n",
    "        else:\n",
    "            temp = result_temp\n",
    "        if temp.shape[0] != 0:\n",
    "            if part_2.shape[0] != 0:\n",
    "                temp = temp.drop(part_2.index,axis=0)\n",
    "            # win1,2,3按优先级3,2,1进行去重\n",
    "            temp.sort_values('data_win',ascending=False,inplace=True)\n",
    "            temp.drop_duplicates(['channel_id','source_id','source_run_datetime'],keep='first',inplace=True)\n",
    "            # win1,2,3去重后，与win0进行去重，优先win=0\n",
    "            if part_1.shape[0] != 0:\n",
    "                temp = pd.concat([temp,part_1], axis=0)\n",
    "                temp.sort_values('data_win',inplace=True)\n",
    "                temp.drop_duplicates(['channel_id','source_id','source_run_datetime'],keep='first',inplace=True)\n",
    "            # 再去win=7进行去重，win=7优先级小\n",
    "            if part_2.shape[0] != 0:\n",
    "                temp = pd.concat([temp,part_2], axis=0)\n",
    "                temp.sort_values('data_win',inplace=True)\n",
    "                temp.drop_duplicates(['channel_id','source_id','source_run_datetime'],keep='first',inplace=True)\n",
    "            source_predict = temp \n",
    "            \n",
    "        elif part_1.shape[0]!=0:\n",
    "            temp = part_1\n",
    "            if part_2.shape[0] != 0:\n",
    "                temp = pd.concat([temp,part_2], axis=0)\n",
    "                temp.sort_values('data_win',inplace=True)\n",
    "                temp.drop_duplicates(['channel_id','source_id','source_run_datetime'],keep='first',inplace=True)\n",
    "            source_predict = temp \n",
    "            \n",
    "        else:\n",
    "            source_predict = part_2\n",
    "    else:\n",
    "        source_predict = pd.DataFrame(columns=[\"channel_id\",\"source_id\",\"data_win\",\"source_run_datetime\",\"create_time\",\n",
    "                            \"media_id\",\"game_id\",\"platform\",\"source_run_date_amount\",\"create_role_num\",\"create_role_cost\",\n",
    "                            \"create_role_pay_num\",\"create_role_pay_cost\",\"create_role_pay_sum\",\"create_role_roi\",\n",
    "                            \"create_role_retain_1d\",\"label\"])    \n",
    "    source_predict['label'] = source_predict['label'].astype(int)\n",
    "\n",
    "    return {\"columns\": source_predict.columns.values.tolist(), \"list\": source_predict.values.tolist()}"
   ]
  },
  {
   "cell_type": "code",
   "execution_count": 126,
   "metadata": {},
   "outputs": [],
   "source": [
    "source_predict = pd.DataFrame(columns=[\"channel_id\",\"source_id\",\"data_win\",\"source_run_datetime\",\"create_time\",\n",
    "                    \"media_id\",\"game_id\",\"platform\",\"source_run_date_amount\",\"create_role_num\",\"create_role_cost\",\n",
    "                    \"create_role_pay_num\",\"create_role_pay_cost\",\"create_role_pay_sum\",\"create_role_roi\",\n",
    "                    \"create_role_retain_1d\",\"label\"])"
   ]
  },
  {
   "cell_type": "code",
   "execution_count": 300,
   "metadata": {},
   "outputs": [],
   "source": [
    "aa = pd.DataFrame({\"A\":[1,2,1,1,1,1,1,1],\"B\":[6,4,6,4,5,4,5,7]})\n",
    "bb = pd.DataFrame()"
   ]
  },
  {
   "cell_type": "code",
   "execution_count": 301,
   "metadata": {},
   "outputs": [],
   "source": [
    "def sq(x):\n",
    "    return x**2"
   ]
  },
  {
   "cell_type": "code",
   "execution_count": 310,
   "metadata": {},
   "outputs": [
    {
     "ename": "AttributeError",
     "evalue": "'map' object has no attribute 'value'",
     "output_type": "error",
     "traceback": [
      "\u001b[1;31m---------------------------------------------------------------------------\u001b[0m",
      "\u001b[1;31mAttributeError\u001b[0m                            Traceback (most recent call last)",
      "\u001b[1;32m<ipython-input-310-95a52a99aadc>\u001b[0m in \u001b[0;36m<module>\u001b[1;34m\u001b[0m\n\u001b[1;32m----> 1\u001b[1;33m \u001b[0maa\u001b[0m\u001b[1;33m[\u001b[0m\u001b[1;34m'C'\u001b[0m\u001b[1;33m]\u001b[0m \u001b[1;33m=\u001b[0m \u001b[0mmap\u001b[0m\u001b[1;33m(\u001b[0m\u001b[0msq\u001b[0m\u001b[1;33m,\u001b[0m\u001b[0maa\u001b[0m\u001b[1;33m[\u001b[0m\u001b[1;34m'B'\u001b[0m\u001b[1;33m]\u001b[0m\u001b[1;33m)\u001b[0m\u001b[1;33m.\u001b[0m\u001b[0mvalue\u001b[0m\u001b[1;33m\u001b[0m\u001b[1;33m\u001b[0m\u001b[0m\n\u001b[0m",
      "\u001b[1;31mAttributeError\u001b[0m: 'map' object has no attribute 'value'"
     ]
    }
   ],
   "source": [
    "aa['C'] = map(sq,aa['B'])"
   ]
  },
  {
   "cell_type": "code",
   "execution_count": 305,
   "metadata": {},
   "outputs": [
    {
     "data": {
      "text/html": [
       "<div>\n",
       "<style scoped>\n",
       "    .dataframe tbody tr th:only-of-type {\n",
       "        vertical-align: middle;\n",
       "    }\n",
       "\n",
       "    .dataframe tbody tr th {\n",
       "        vertical-align: top;\n",
       "    }\n",
       "\n",
       "    .dataframe thead th {\n",
       "        text-align: right;\n",
       "    }\n",
       "</style>\n",
       "<table border=\"1\" class=\"dataframe\">\n",
       "  <thead>\n",
       "    <tr style=\"text-align: right;\">\n",
       "      <th></th>\n",
       "      <th>A</th>\n",
       "      <th>B</th>\n",
       "      <th>C</th>\n",
       "    </tr>\n",
       "  </thead>\n",
       "  <tbody>\n",
       "    <tr>\n",
       "      <th>0</th>\n",
       "      <td>1</td>\n",
       "      <td>6</td>\n",
       "      <td>&lt;map object at 0x00000000B972C908&gt;</td>\n",
       "    </tr>\n",
       "    <tr>\n",
       "      <th>1</th>\n",
       "      <td>2</td>\n",
       "      <td>4</td>\n",
       "      <td>&lt;map object at 0x00000000B972C908&gt;</td>\n",
       "    </tr>\n",
       "    <tr>\n",
       "      <th>2</th>\n",
       "      <td>1</td>\n",
       "      <td>6</td>\n",
       "      <td>&lt;map object at 0x00000000B972C908&gt;</td>\n",
       "    </tr>\n",
       "    <tr>\n",
       "      <th>3</th>\n",
       "      <td>1</td>\n",
       "      <td>4</td>\n",
       "      <td>&lt;map object at 0x00000000B972C908&gt;</td>\n",
       "    </tr>\n",
       "    <tr>\n",
       "      <th>4</th>\n",
       "      <td>1</td>\n",
       "      <td>5</td>\n",
       "      <td>&lt;map object at 0x00000000B972C908&gt;</td>\n",
       "    </tr>\n",
       "    <tr>\n",
       "      <th>5</th>\n",
       "      <td>1</td>\n",
       "      <td>4</td>\n",
       "      <td>&lt;map object at 0x00000000B972C908&gt;</td>\n",
       "    </tr>\n",
       "    <tr>\n",
       "      <th>6</th>\n",
       "      <td>1</td>\n",
       "      <td>5</td>\n",
       "      <td>&lt;map object at 0x00000000B972C908&gt;</td>\n",
       "    </tr>\n",
       "    <tr>\n",
       "      <th>7</th>\n",
       "      <td>1</td>\n",
       "      <td>7</td>\n",
       "      <td>&lt;map object at 0x00000000B972C908&gt;</td>\n",
       "    </tr>\n",
       "  </tbody>\n",
       "</table>\n",
       "</div>"
      ],
      "text/plain": [
       "   A  B                                   C\n",
       "0  1  6  <map object at 0x00000000B972C908>\n",
       "1  2  4  <map object at 0x00000000B972C908>\n",
       "2  1  6  <map object at 0x00000000B972C908>\n",
       "3  1  4  <map object at 0x00000000B972C908>\n",
       "4  1  5  <map object at 0x00000000B972C908>\n",
       "5  1  4  <map object at 0x00000000B972C908>\n",
       "6  1  5  <map object at 0x00000000B972C908>\n",
       "7  1  7  <map object at 0x00000000B972C908>"
      ]
     },
     "execution_count": 305,
     "metadata": {},
     "output_type": "execute_result"
    }
   ],
   "source": [
    "aa"
   ]
  },
  {
   "cell_type": "code",
   "execution_count": 313,
   "metadata": {},
   "outputs": [
    {
     "data": {
      "text/plain": [
       "True"
      ]
     },
     "execution_count": 313,
     "metadata": {},
     "output_type": "execute_result"
    }
   ],
   "source": [
    "0.5 == int(1)"
   ]
  },
  {
   "cell_type": "code",
   "execution_count": 331,
   "metadata": {},
   "outputs": [],
   "source": [
    "import math"
   ]
  },
  {
   "cell_type": "code",
   "execution_count": 332,
   "metadata": {},
   "outputs": [],
   "source": [
    "def is_sqr(x):\n",
    "    return math.sqrt(x) % 1 == 0"
   ]
  },
  {
   "cell_type": "code",
   "execution_count": 333,
   "metadata": {},
   "outputs": [
    {
     "data": {
      "text/plain": [
       "True"
      ]
     },
     "execution_count": 333,
     "metadata": {},
     "output_type": "execute_result"
    }
   ],
   "source": [
    "is_sqr(0)"
   ]
  },
  {
   "cell_type": "code",
   "execution_count": 346,
   "metadata": {},
   "outputs": [],
   "source": [
    "from functools import reduce"
   ]
  },
  {
   "cell_type": "code",
   "execution_count": 338,
   "metadata": {},
   "outputs": [
    {
     "name": "stdout",
     "output_type": "stream",
     "text": [
      "[1, 4, 9, 16, 25, 36, 49, 64, 81, 100]\n"
     ]
    }
   ],
   "source": [
    "import math\n",
    "def is_sqr(x):\n",
    "    return math.sqrt(x) % 1 == 0\n",
    "print(list(filter(is_sqr, range(1, 101))))"
   ]
  },
  {
   "cell_type": "code",
   "execution_count": 307,
   "metadata": {},
   "outputs": [
    {
     "data": {
      "text/plain": [
       "['1', '2', '3', '4', '5']"
      ]
     },
     "execution_count": 307,
     "metadata": {},
     "output_type": "execute_result"
    }
   ],
   "source": [
    "list(la)"
   ]
  },
  {
   "cell_type": "code",
   "execution_count": null,
   "metadata": {},
   "outputs": [],
   "source": [
    "def source_predict(jsondata):\n",
    "    '''\n",
    "    :param jsondata: {\"columns\": [\"channel_id\",\"source_id\",\"data_win\",\"source_run_datetime\",\"create_time\",\"media_id\",\"game_id\",\"platform\",\"source_run_date_amount\",\"create_role_num\",\n",
    "    \"create_role_cost\",\"create_role_pay_num\",\"create_role_pay_cost\",\"create_role_pay_sum\",\"create_role_roi\",\"create_role_retain_1d\"]}\n",
    "    :return:\n",
    "    '''\n",
    "    data = pd.DataFrame(data=jsondata['data'], columns=jsondata['columns'])\n",
    "    # 数据预处理\n",
    "    data = data[data['source_run_date_amount'] > 0]    # 删除消耗为0的数据\n",
    "    # 去重，处理某天没有消耗的情况\n",
    "    if data.shape[0] != 0:\n",
    "        data.sort_values(by='data_win',inplace=True)\n",
    "        data.drop_duplicates(subset=['channel_id','source_id','source_run_date_amount','create_role_num'],keep='first'\n",
    "                               ,inplace=True)\n",
    "    # 对消耗500元以下的不作判断，对数据按平台、win进行分类处理\n",
    "#         data_ignore = data[data['source_run_date_amount'] < 500]\n",
    "        data_not_ignore = data[data['source_run_date_amount'] >= 500]\n",
    "    data_an = data_not_ignore[data_not_ignore['platform'] == 1]\n",
    "    data_ios = data_not_ignore[data_not_ignore['platform'] == 2]    \n",
    "    data_win_0 = data_an[data_an['data_win'] == 0]\n",
    "    data_win_1 = data_an[data_an['data_win'] == 1]\n",
    "    data_win_2 = data_an[data_an['data_win'] == 2]\n",
    "    data_win_3 = data_an[data_an['data_win'] == 3]\n",
    "    data_win_7 = data_an[data_an['data_win'] == 7]\n",
    "    data_win_0_ios = data_ios[data_ios['data_win'] == 0]\n",
    "    data_win_1_ios = data_ios[data_ios['data_win'] == 1]\n",
    "    data_win_2_ios = data_ios[data_ios['data_win'] == 2]\n",
    "    data_win_3_ios = data_ios[data_ios['data_win'] == 3]\n",
    "    data_win_7_ios = data_ios[data_ios['data_win'] == 7]\n",
    "    \n",
    "    result_df = pd.DataFrame()\n",
    "    temp_df = pd.DataFrame()\n",
    "    # win=0预判\n",
    "    data_win_0['label'] = data_win_0.apply(lambda x:1 if x.create_role_num == 0 else (1 if (x.create_role_cost>=20)&\n",
    "        (x.create_role_pay_num==0) else(0 if (x.create_role_cost<=70)&(x.create_role_roi>=0.02) else \n",
    "                                        (1 if x.create_role_cost>=50 else 2))),axis=1)\n",
    "    data_win_0_ios['label'] = data_win_0_ios.apply(lambda x:1 if x.create_role_num == 0 else (1 if (x.create_role_cost>=40)&\n",
    "        (x.create_role_pay_num==0) else(0 if (x.create_role_cost<=300)&(x.create_role_roi>=0.02) else \n",
    "                                        (1 if x.create_role_cost>=120 else 2))),axis=1)    \n",
    "    result_df = result_df.append(data_win_0[(data_win_0['label'] == 1)| (data_win_0['label'] == 0)]).append(data_win_0_ios[(data_win_0_ios['label'] == 1)|(data_win_0_ios['label'] == 0)])\n",
    "    temp_df = temp_df.append(data_win_0[data_win_0['label'] == 2]).append(data_win_0_ios[data_win_0_ios['label'] == 2])\n",
    "    # win=1预判\n",
    "    data_win_1['label'] = data_win_1.apply(lambda x:1 if x.create_role_num == 0 else (0 if (x.create_role_cost<=70)&(x.create_role_roi>=0.02)\n",
    "                                else (1 if x.create_role_cost>=50 else (1 if x.create_role_pay_sum==0 else 2))),axis=1)\n",
    "    data_win_1_ios['label'] = data_win_1_ios.apply(lambda x:1 if x.create_role_num == 0 else (0 if (x.create_role_cost<=300)&(x.create_role_roi>=0.02)\n",
    "                                    else (1 if x.create_role_cost>=120 else (1 if x.create_role_pay_sum==0 else 2))),axis=1)\n",
    "    result_df = result_df.append(data_win_1[(data_win_1['label'] == 1)| (data_win_1['label'] == 0)]).append(data_win_1_ios[(data_win_1_ios['label'] == 1)|(data_win_1_ios['label'] == 0)])\n",
    "    temp_df = temp_df.append(data_win_1[data_win_1['label'] == 2]).append(data_win_1_ios[data_win_1_ios['label'] == 2])\n",
    "    # win=2预判\n",
    "    data_win_2['label'] = data_win_2.apply(lambda x:1 if x.create_role_num == 0 else (0 if (x.create_role_cost<=70)&(x.create_role_roi>=0.045)\n",
    "                                else (1 if x.create_role_cost>=50 else (1 if x.create_role_roi<=0.03 else 2))),axis=1)\n",
    "    data_win_2_ios['label'] = data_win_2_ios.apply(lambda x:1 if x.create_role_num == 0 else (0 if (x.create_role_cost<=250)&(x.create_role_roi>=0.045)\n",
    "                                    else (1 if x.create_role_cost>=120 else (1 if x.create_role_roi<=0.02 else 2))),axis=1)\n",
    "    result_df = result_df.append(data_win_2[(data_win_2['label'] == 1)| (data_win_2['label'] == 0)]).append(data_win_2_ios[(data_win_2_ios['label'] == 1)|(data_win_2_ios['label'] == 0)])\n",
    "    temp_df = temp_df.append(data_win_2[data_win_2['label'] == 2]).append(data_win_2_ios[data_win_2_ios['label'] == 2])\n",
    "    # win=3预判\n",
    "    data_win_3['label'] = data_win_3.apply(lambda x:1 if x.create_role_num == 0 else(1 if x.create_role_pay_num==0 else (0 if (x.create_role_cost<=70)&(x.create_role_roi>=0.07)\n",
    "        else (1 if x.create_role_pay_cost > 5000 else (1 if x.create_role_retain_1d<0.05 else(1 if x.create_role_roi<0.04 else 2))))),axis=1)\n",
    "    data_win_3_ios['label'] = data_win_3_ios.apply(lambda x:1 if x.create_role_num == 0 else(1 if x.create_role_pay_num==0 else (0 if (x.create_role_cost<=250)&(x.create_role_roi>=0.07)\n",
    "            else (1 if x.create_role_pay_cost >10000 else (1 if x.create_role_retain_1d<0.05 else(1 if x.create_role_roi<0.04 else 2))))),axis=1)\n",
    "    result_df = result_df.append(data_win_3[(data_win_3['label'] == 1)| (data_win_3['label'] == 0)]).append(data_win_3_ios[(data_win_3_ios['label'] == 1)|(data_win_3_ios['label'] == 0)])\n",
    "    temp_df = temp_df.append(data_win_3[data_win_3['label'] == 2]).append(data_win_3_ios[data_win_3_ios['label'] == 2])\n",
    "    \n",
    "    # 模型预测\n",
    "    temp_df['label'] = gbdt.predict(temp_df[['data_win','platform','create_role_cost','create_role_pay_cost','create_role_roi']])\n",
    "    # win=7\n",
    "    data_win_7['label'] = data_win_7.apply(lambda x:1 if x.create_role_num == 0 else (0 if (x.create_role_cost<=50)&(x.create_role_roi>=0.125)&(x.create_role_pay_cost<=4000) else 1), axis=1)\n",
    "    data_win_7_ios['label'] = data_win_7_ios.apply(lambda x:1 if x.create_role_num == 0 else (0 if (x.create_role_cost<=100)&(x.create_role_roi>=0.11)&(x.create_role_pay_cost<=8000) else 1), axis=1)\n",
    "    \n",
    "    result_df = result_df.append(data_win_7).append(data_win_7_ios)\n",
    "    result_temp = pd.concat([result_df,temp_df],axis=0)\n",
    "    \n",
    "    # 结果输出\n",
    "    part_1 = result_temp[result_temp['data_win']==0]\n",
    "    part_2 = result_temp[result_temp['data_win']==7]\n",
    "    temp = result_temp.drop(part_1.index,axis=0)\n",
    "    temp = temp.drop(part_2.index,axis=0)\n",
    "    \n",
    "    # 按优先级顺序输出去重后的预测结果\n",
    "    temp.sort_values('data_win',ascending=False,inplace=True)\n",
    "    temp.drop_duplicates(['channel_id','source_id','source_run_datetime'],keep='first',inplace=True)\n",
    "    \n",
    "    temp = pd.concat([temp,part_1], axis=0)\n",
    "    temp.sort_values('data_win',inplace=True)\n",
    "    temp.drop_duplicates(['channel_id','source_id','source_run_datetime'],keep='first',inplace=True)\n",
    "    \n",
    "    temp = pd.concat([temp,part_2], axis=0)\n",
    "    temp.sort_values('data_win',inplace=True)\n",
    "    source_predict = temp.drop_duplicates(['channel_id','source_id','source_run_datetime'],keep='first')\n",
    "    \n",
    "    source_predict['label'] = source_predict['label'].astype(int)\n",
    "\n",
    "    return {\"columns\": source_predict.columns.values.tolist(), \"list\": source_predict.values.tolist()}"
   ]
  }
 ],
 "metadata": {
  "kernelspec": {
   "display_name": "Python 3",
   "language": "python",
   "name": "python3"
  },
  "language_info": {
   "codemirror_mode": {
    "name": "ipython",
    "version": 3
   },
   "file_extension": ".py",
   "mimetype": "text/x-python",
   "name": "python",
   "nbconvert_exporter": "python",
   "pygments_lexer": "ipython3",
   "version": "3.7.6"
  }
 },
 "nbformat": 4,
 "nbformat_minor": 4
}
