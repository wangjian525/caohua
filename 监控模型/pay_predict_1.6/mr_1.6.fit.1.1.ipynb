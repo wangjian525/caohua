{
 "cells": [
  {
   "cell_type": "markdown",
   "metadata": {},
   "source": [
    "# 策略：4部份"
   ]
  },
  {
   "cell_type": "code",
   "execution_count": 1,
   "metadata": {},
   "outputs": [],
   "source": [
    "import pandas as pd\n",
    "import numpy as np\n",
    "import random\n",
    "import gc\n",
    "import seaborn as sns\n",
    "import lightgbm as lgb\n",
    "from matplotlib import pyplot as plt\n",
    "# import matplotlib.pyplot as plt\n",
    "from sklearn.model_selection import KFold, train_test_split\n",
    "from sklearn.preprocessing import LabelEncoder, OneHotEncoder,MinMaxScaler, StandardScaler\n",
    "from sklearn.metrics import recall_score, auc, accuracy_score, f1_score, precision_score, classification_report, roc_auc_score,mean_squared_error\n",
    "from pandas.api.types import is_categorical_dtype\n",
    "from pandas.api.types import is_datetime64_any_dtype as is_datetime\n",
    "# import missingno as msno\n",
    "from sklearn.linear_model import LinearRegression\n",
    "from sklearn.metrics import mean_absolute_error\n",
    "import warnings\n",
    "warnings.filterwarnings('ignore')"
   ]
  },
  {
   "attachments": {
    "image.png": {
     "image/png": "[encoded data removed]"
    }
   },
   "cell_type": "markdown",
   "metadata": {},
   "source": [
    "![image.png](attachment:image.png)"
   ]
  },
  {
   "cell_type": "code",
   "execution_count": 4,
   "metadata": {},
   "outputs": [],
   "source": [
    "# 删除相关性小的特征\n",
    "data = pd.read_pickle('./data.pickle')\n",
    "select_features = ['user_id','cp_server_no','cp_role_id','role_created_3_login_num',\n",
    "       'role_created_3_active', 'role_created_3_online',\n",
    "       'role_created_3_max_role_level', 'role_created_3_ip_num',\n",
    "       'role_created_3_pay_num', 'role_created_3_pay_sum', 'active_0-8', 'active_8-12', 'active_12-14',\n",
    "       'active_14-18', 'active_18-24', 'pay_grade_1', 'pay_grade_2',\n",
    "       'pay_grade_3', 'pay_grade_4', 'pay_grade_5', 'pay_grade_6',\n",
    "       'role_created_3_pay_rate', 'role_created_3_pay_avg']\n",
    "label = ['role_created_30_pay_sum']\n",
    "df = data[select_features].join(data[label])\n",
    "df['role_created_30_pay_sum'].fillna(0,inplace=True)"
   ]
  },
  {
   "cell_type": "code",
   "execution_count": 54,
   "metadata": {},
   "outputs": [],
   "source": [
    "# 将数据分为:1、前3天无付费有活跃;  2、前3天有付费，付费金额小于1000；3、前3天有付费，付费金额大于1000;4、前3天无付费且无活跃;\n",
    "df_train, df_test = train_test_split(df,test_size=0.3)\n",
    "df_train_3_pay = df_train[df_train['role_created_3_pay_sum']>0]\n",
    "df_train_3_nopay = df_train[df_train['role_created_3_pay_sum']==0]\n",
    "df_train_3_nopay_online_n = df_train_3_nopay[(df_train_3_nopay['role_created_3_online']==907) | (df_train_3_nopay['role_created_3_login_num']<3)|(df_train_3_nopay['role_created_3_max_role_level']==1)]\n",
    "df_train_3_nopay_online_y = df_train_3_nopay.loc[np.setdiff1d(df_train_3_nopay.index, df_train_3_nopay_online_n.index),:]\n",
    "df_train_3_pay_r = df_train_3_pay[df_train_3_pay['role_created_3_pay_sum']>=1000]\n",
    "df_train_3_pay_nor = df_train_3_pay[df_train_3_pay['role_created_3_pay_sum']<1000]"
   ]
  },
  {
   "cell_type": "markdown",
   "metadata": {},
   "source": [
    "## Train part 1 _前3天无付费有活跃"
   ]
  },
  {
   "cell_type": "code",
   "execution_count": 49,
   "metadata": {},
   "outputs": [
    {
     "data": {
      "text/plain": [
       "3346350.0"
      ]
     },
     "execution_count": 49,
     "metadata": {},
     "output_type": "execute_result"
    }
   ],
   "source": [
    "df_train_3_nopay_online_y['role_created_30_pay_sum'].sum()\n"
   ]
  },
  {
   "cell_type": "code",
   "execution_count": 53,
   "metadata": {},
   "outputs": [
    {
     "data": {
      "text/plain": [
       "5.420498225482748"
      ]
     },
     "execution_count": 53,
     "metadata": {},
     "output_type": "execute_result"
    }
   ],
   "source": [
    "df_train_3_nopay_online_y['role_created_30_pay_sum'].mean()"
   ]
  },
  {
   "cell_type": "code",
   "execution_count": 51,
   "metadata": {},
   "outputs": [
    {
     "data": {
      "text/plain": [
       "(617351, 24)"
      ]
     },
     "execution_count": 51,
     "metadata": {},
     "output_type": "execute_result"
    }
   ],
   "source": [
    "df_train_3_nopay_online_y.shape"
   ]
  },
  {
   "cell_type": "code",
   "execution_count": 52,
   "metadata": {},
   "outputs": [
    {
     "data": {
      "text/plain": [
       "(13407, 24)"
      ]
     },
     "execution_count": 52,
     "metadata": {},
     "output_type": "execute_result"
    }
   ],
   "source": [
    "df_train_3_nopay_online_y[df_train_3_nopay_online_y['role_created_30_pay_sum']>0].shape"
   ]
  },
  {
   "cell_type": "code",
   "execution_count": null,
   "metadata": {},
   "outputs": [],
   "source": []
  },
  {
   "cell_type": "markdown",
   "metadata": {},
   "source": [
    "## Train part 2 _前3天付费且金额<1000"
   ]
  },
  {
   "cell_type": "code",
   "execution_count": 55,
   "metadata": {},
   "outputs": [
    {
     "data": {
      "text/plain": [
       "30199971.0"
      ]
     },
     "execution_count": 55,
     "metadata": {},
     "output_type": "execute_result"
    }
   ],
   "source": [
    "df_train_3_pay_nor['role_created_30_pay_sum'].sum()"
   ]
  },
  {
   "cell_type": "code",
   "execution_count": 57,
   "metadata": {},
   "outputs": [
    {
     "data": {
      "text/plain": [
       "428.2833338060527"
      ]
     },
     "execution_count": 57,
     "metadata": {},
     "output_type": "execute_result"
    }
   ],
   "source": [
    "df_train_3_pay_nor['role_created_30_pay_sum'].mean()"
   ]
  },
  {
   "cell_type": "code",
   "execution_count": 58,
   "metadata": {},
   "outputs": [
    {
     "data": {
      "text/plain": [
       "(70514, 24)"
      ]
     },
     "execution_count": 58,
     "metadata": {},
     "output_type": "execute_result"
    }
   ],
   "source": [
    "df_train_3_pay_nor.shape"
   ]
  },
  {
   "cell_type": "code",
   "execution_count": null,
   "metadata": {},
   "outputs": [],
   "source": []
  },
  {
   "cell_type": "code",
   "execution_count": 59,
   "metadata": {},
   "outputs": [
    {
     "name": "stdout",
     "output_type": "stream",
     "text": [
      "[1]\ttraining's rmse: 1.55794\tvalid_1's rmse: 1.57038\n",
      "Training until validation scores don't improve for 100 rounds\n",
      "[2]\ttraining's rmse: 1.51059\tvalid_1's rmse: 1.52311\n",
      "[3]\ttraining's rmse: 1.4665\tvalid_1's rmse: 1.47904\n",
      "[4]\ttraining's rmse: 1.42551\tvalid_1's rmse: 1.43819\n",
      "[5]\ttraining's rmse: 1.38746\tvalid_1's rmse: 1.40022\n",
      "[6]\ttraining's rmse: 1.35215\tvalid_1's rmse: 1.36498\n",
      "[7]\ttraining's rmse: 1.31933\tvalid_1's rmse: 1.33223\n",
      "[8]\ttraining's rmse: 1.289\tvalid_1's rmse: 1.30199\n",
      "[9]\ttraining's rmse: 1.26092\tvalid_1's rmse: 1.27399\n",
      "[10]\ttraining's rmse: 1.23503\tvalid_1's rmse: 1.24817\n",
      "[11]\ttraining's rmse: 1.21114\tvalid_1's rmse: 1.22437\n",
      "[12]\ttraining's rmse: 1.18906\tvalid_1's rmse: 1.20235\n",
      "[13]\ttraining's rmse: 1.16879\tvalid_1's rmse: 1.18208\n",
      "[14]\ttraining's rmse: 1.15012\tvalid_1's rmse: 1.16341\n",
      "[15]\ttraining's rmse: 1.13295\tvalid_1's rmse: 1.14631\n",
      "[16]\ttraining's rmse: 1.11725\tvalid_1's rmse: 1.13058\n",
      "[17]\ttraining's rmse: 1.10281\tvalid_1's rmse: 1.11622\n",
      "[18]\ttraining's rmse: 1.08955\tvalid_1's rmse: 1.10301\n",
      "[19]\ttraining's rmse: 1.0774\tvalid_1's rmse: 1.09093\n",
      "[20]\ttraining's rmse: 1.06631\tvalid_1's rmse: 1.07987\n",
      "[21]\ttraining's rmse: 1.05615\tvalid_1's rmse: 1.06973\n",
      "[22]\ttraining's rmse: 1.0469\tvalid_1's rmse: 1.06046\n",
      "[23]\ttraining's rmse: 1.03838\tvalid_1's rmse: 1.052\n",
      "[24]\ttraining's rmse: 1.03062\tvalid_1's rmse: 1.04428\n",
      "[25]\ttraining's rmse: 1.02355\tvalid_1's rmse: 1.03713\n",
      "[26]\ttraining's rmse: 1.01708\tvalid_1's rmse: 1.03069\n",
      "[27]\ttraining's rmse: 1.01119\tvalid_1's rmse: 1.02482\n",
      "[28]\ttraining's rmse: 1.00578\tvalid_1's rmse: 1.0195\n",
      "[29]\ttraining's rmse: 1.00088\tvalid_1's rmse: 1.01463\n",
      "[30]\ttraining's rmse: 0.996428\tvalid_1's rmse: 1.01017\n",
      "[31]\ttraining's rmse: 0.992332\tvalid_1's rmse: 1.00612\n",
      "[32]\ttraining's rmse: 0.988609\tvalid_1's rmse: 1.00245\n",
      "[33]\ttraining's rmse: 0.985225\tvalid_1's rmse: 0.999098\n",
      "[34]\ttraining's rmse: 0.982112\tvalid_1's rmse: 0.996061\n",
      "[35]\ttraining's rmse: 0.979302\tvalid_1's rmse: 0.993308\n",
      "[36]\ttraining's rmse: 0.976725\tvalid_1's rmse: 0.990755\n",
      "[37]\ttraining's rmse: 0.974374\tvalid_1's rmse: 0.98845\n",
      "[38]\ttraining's rmse: 0.972238\tvalid_1's rmse: 0.986369\n",
      "[39]\ttraining's rmse: 0.970276\tvalid_1's rmse: 0.984493\n",
      "[40]\ttraining's rmse: 0.968467\tvalid_1's rmse: 0.982761\n",
      "[41]\ttraining's rmse: 0.966804\tvalid_1's rmse: 0.981181\n",
      "[42]\ttraining's rmse: 0.965299\tvalid_1's rmse: 0.979749\n",
      "[43]\ttraining's rmse: 0.963926\tvalid_1's rmse: 0.978359\n",
      "[44]\ttraining's rmse: 0.962671\tvalid_1's rmse: 0.977176\n",
      "[45]\ttraining's rmse: 0.961502\tvalid_1's rmse: 0.976089\n",
      "[46]\ttraining's rmse: 0.960422\tvalid_1's rmse: 0.975043\n",
      "[47]\ttraining's rmse: 0.959446\tvalid_1's rmse: 0.974088\n",
      "[48]\ttraining's rmse: 0.958524\tvalid_1's rmse: 0.973283\n",
      "[49]\ttraining's rmse: 0.957674\tvalid_1's rmse: 0.972515\n",
      "[50]\ttraining's rmse: 0.956904\tvalid_1's rmse: 0.971851\n",
      "[51]\ttraining's rmse: 0.956204\tvalid_1's rmse: 0.971166\n",
      "[52]\ttraining's rmse: 0.955542\tvalid_1's rmse: 0.970596\n",
      "[53]\ttraining's rmse: 0.954925\tvalid_1's rmse: 0.970034\n",
      "[54]\ttraining's rmse: 0.954379\tvalid_1's rmse: 0.969537\n",
      "[55]\ttraining's rmse: 0.953843\tvalid_1's rmse: 0.969121\n",
      "[56]\ttraining's rmse: 0.953369\tvalid_1's rmse: 0.9687\n",
      "[57]\ttraining's rmse: 0.952907\tvalid_1's rmse: 0.968314\n",
      "[58]\ttraining's rmse: 0.952482\tvalid_1's rmse: 0.967986\n",
      "[59]\ttraining's rmse: 0.952082\tvalid_1's rmse: 0.967651\n",
      "[60]\ttraining's rmse: 0.951689\tvalid_1's rmse: 0.967322\n",
      "[61]\ttraining's rmse: 0.951324\tvalid_1's rmse: 0.966985\n",
      "[62]\ttraining's rmse: 0.950929\tvalid_1's rmse: 0.966713\n",
      "[63]\ttraining's rmse: 0.950589\tvalid_1's rmse: 0.96643\n",
      "[64]\ttraining's rmse: 0.950313\tvalid_1's rmse: 0.966224\n",
      "[65]\ttraining's rmse: 0.950041\tvalid_1's rmse: 0.966017\n",
      "[66]\ttraining's rmse: 0.949728\tvalid_1's rmse: 0.965837\n",
      "[67]\ttraining's rmse: 0.949475\tvalid_1's rmse: 0.965683\n",
      "[68]\ttraining's rmse: 0.949249\tvalid_1's rmse: 0.965493\n",
      "[69]\ttraining's rmse: 0.948996\tvalid_1's rmse: 0.965296\n",
      "[70]\ttraining's rmse: 0.948772\tvalid_1's rmse: 0.965132\n",
      "[71]\ttraining's rmse: 0.948526\tvalid_1's rmse: 0.964981\n",
      "[72]\ttraining's rmse: 0.948319\tvalid_1's rmse: 0.964871\n",
      "[73]\ttraining's rmse: 0.948128\tvalid_1's rmse: 0.964768\n",
      "[74]\ttraining's rmse: 0.947936\tvalid_1's rmse: 0.96467\n",
      "[75]\ttraining's rmse: 0.947724\tvalid_1's rmse: 0.964541\n",
      "[76]\ttraining's rmse: 0.947537\tvalid_1's rmse: 0.964495\n",
      "[77]\ttraining's rmse: 0.947323\tvalid_1's rmse: 0.964424\n",
      "[78]\ttraining's rmse: 0.947146\tvalid_1's rmse: 0.964319\n",
      "[79]\ttraining's rmse: 0.946971\tvalid_1's rmse: 0.964248\n",
      "[80]\ttraining's rmse: 0.946799\tvalid_1's rmse: 0.964216\n",
      "[81]\ttraining's rmse: 0.946633\tvalid_1's rmse: 0.96417\n",
      "[82]\ttraining's rmse: 0.94645\tvalid_1's rmse: 0.964098\n",
      "[83]\ttraining's rmse: 0.946293\tvalid_1's rmse: 0.964025\n",
      "[84]\ttraining's rmse: 0.946148\tvalid_1's rmse: 0.964013\n",
      "[85]\ttraining's rmse: 0.946004\tvalid_1's rmse: 0.963933\n",
      "[86]\ttraining's rmse: 0.945834\tvalid_1's rmse: 0.963884\n",
      "[87]\ttraining's rmse: 0.9457\tvalid_1's rmse: 0.963858\n",
      "[88]\ttraining's rmse: 0.945555\tvalid_1's rmse: 0.963842\n",
      "[89]\ttraining's rmse: 0.945417\tvalid_1's rmse: 0.963793\n",
      "[90]\ttraining's rmse: 0.945259\tvalid_1's rmse: 0.963736\n",
      "[91]\ttraining's rmse: 0.945117\tvalid_1's rmse: 0.963706\n",
      "[92]\ttraining's rmse: 0.944951\tvalid_1's rmse: 0.963641\n",
      "[93]\ttraining's rmse: 0.944811\tvalid_1's rmse: 0.963628\n",
      "[94]\ttraining's rmse: 0.944649\tvalid_1's rmse: 0.963609\n",
      "[95]\ttraining's rmse: 0.944499\tvalid_1's rmse: 0.963518\n",
      "[96]\ttraining's rmse: 0.944332\tvalid_1's rmse: 0.96348\n",
      "[97]\ttraining's rmse: 0.944176\tvalid_1's rmse: 0.963439\n",
      "[98]\ttraining's rmse: 0.944033\tvalid_1's rmse: 0.963405\n",
      "[99]\ttraining's rmse: 0.943868\tvalid_1's rmse: 0.963365\n",
      "[100]\ttraining's rmse: 0.943743\tvalid_1's rmse: 0.963336\n",
      "[101]\ttraining's rmse: 0.943596\tvalid_1's rmse: 0.963324\n",
      "[102]\ttraining's rmse: 0.94347\tvalid_1's rmse: 0.963268\n",
      "[103]\ttraining's rmse: 0.943359\tvalid_1's rmse: 0.96325\n",
      "[104]\ttraining's rmse: 0.943244\tvalid_1's rmse: 0.963261\n",
      "[105]\ttraining's rmse: 0.94312\tvalid_1's rmse: 0.963254\n",
      "[106]\ttraining's rmse: 0.943047\tvalid_1's rmse: 0.963221\n",
      "[107]\ttraining's rmse: 0.942933\tvalid_1's rmse: 0.96318\n",
      "[108]\ttraining's rmse: 0.942819\tvalid_1's rmse: 0.963182\n",
      "[109]\ttraining's rmse: 0.942739\tvalid_1's rmse: 0.963144\n",
      "[110]\ttraining's rmse: 0.942615\tvalid_1's rmse: 0.963125\n",
      "[111]\ttraining's rmse: 0.942554\tvalid_1's rmse: 0.963135\n",
      "[112]\ttraining's rmse: 0.942464\tvalid_1's rmse: 0.963108\n",
      "[113]\ttraining's rmse: 0.942338\tvalid_1's rmse: 0.963098\n",
      "[114]\ttraining's rmse: 0.942234\tvalid_1's rmse: 0.963051\n",
      "[115]\ttraining's rmse: 0.942175\tvalid_1's rmse: 0.963058\n",
      "[116]\ttraining's rmse: 0.942086\tvalid_1's rmse: 0.963055\n",
      "[117]\ttraining's rmse: 0.942044\tvalid_1's rmse: 0.963046\n",
      "[118]\ttraining's rmse: 0.941939\tvalid_1's rmse: 0.963002\n",
      "[119]\ttraining's rmse: 0.941882\tvalid_1's rmse: 0.962974\n",
      "[120]\ttraining's rmse: 0.941753\tvalid_1's rmse: 0.962957\n",
      "[121]\ttraining's rmse: 0.941619\tvalid_1's rmse: 0.962948\n",
      "[122]\ttraining's rmse: 0.941579\tvalid_1's rmse: 0.962934\n",
      "[123]\ttraining's rmse: 0.941509\tvalid_1's rmse: 0.962927\n",
      "[124]\ttraining's rmse: 0.941414\tvalid_1's rmse: 0.962949\n",
      "[125]\ttraining's rmse: 0.941291\tvalid_1's rmse: 0.962966\n",
      "[126]\ttraining's rmse: 0.941217\tvalid_1's rmse: 0.962981\n",
      "[127]\ttraining's rmse: 0.941105\tvalid_1's rmse: 0.962957\n",
      "[128]\ttraining's rmse: 0.941\tvalid_1's rmse: 0.962959\n",
      "[129]\ttraining's rmse: 0.940982\tvalid_1's rmse: 0.962963\n",
      "[130]\ttraining's rmse: 0.940928\tvalid_1's rmse: 0.962955\n",
      "[131]\ttraining's rmse: 0.940851\tvalid_1's rmse: 0.962973\n",
      "[132]\ttraining's rmse: 0.94083\tvalid_1's rmse: 0.962982\n",
      "[133]\ttraining's rmse: 0.940799\tvalid_1's rmse: 0.962977\n",
      "[134]\ttraining's rmse: 0.940735\tvalid_1's rmse: 0.962975\n",
      "[135]\ttraining's rmse: 0.940641\tvalid_1's rmse: 0.962989\n",
      "[136]\ttraining's rmse: 0.940543\tvalid_1's rmse: 0.962989\n",
      "[137]\ttraining's rmse: 0.940416\tvalid_1's rmse: 0.963021\n",
      "[138]\ttraining's rmse: 0.940274\tvalid_1's rmse: 0.96302\n",
      "[139]\ttraining's rmse: 0.940171\tvalid_1's rmse: 0.963044\n",
      "[140]\ttraining's rmse: 0.940073\tvalid_1's rmse: 0.963005\n",
      "[141]\ttraining's rmse: 0.939954\tvalid_1's rmse: 0.962995\n",
      "[142]\ttraining's rmse: 0.939829\tvalid_1's rmse: 0.962972\n",
      "[143]\ttraining's rmse: 0.939809\tvalid_1's rmse: 0.962973\n",
      "[144]\ttraining's rmse: 0.939785\tvalid_1's rmse: 0.962978\n",
      "[145]\ttraining's rmse: 0.93966\tvalid_1's rmse: 0.962954\n",
      "[146]\ttraining's rmse: 0.939551\tvalid_1's rmse: 0.962962\n",
      "[147]\ttraining's rmse: 0.939533\tvalid_1's rmse: 0.96296\n",
      "[148]\ttraining's rmse: 0.939456\tvalid_1's rmse: 0.962943\n",
      "[149]\ttraining's rmse: 0.939354\tvalid_1's rmse: 0.962919\n",
      "[150]\ttraining's rmse: 0.939329\tvalid_1's rmse: 0.962917\n",
      "[151]\ttraining's rmse: 0.939304\tvalid_1's rmse: 0.962915\n",
      "[152]\ttraining's rmse: 0.939184\tvalid_1's rmse: 0.962895\n",
      "[153]\ttraining's rmse: 0.939121\tvalid_1's rmse: 0.962893\n",
      "[154]\ttraining's rmse: 0.93902\tvalid_1's rmse: 0.962841\n",
      "[155]\ttraining's rmse: 0.939\tvalid_1's rmse: 0.962859\n",
      "[156]\ttraining's rmse: 0.938958\tvalid_1's rmse: 0.962867\n",
      "[157]\ttraining's rmse: 0.938838\tvalid_1's rmse: 0.962864\n",
      "[158]\ttraining's rmse: 0.93878\tvalid_1's rmse: 0.962859\n",
      "[159]\ttraining's rmse: 0.938767\tvalid_1's rmse: 0.962863\n",
      "[160]\ttraining's rmse: 0.938666\tvalid_1's rmse: 0.962842\n",
      "[161]\ttraining's rmse: 0.938537\tvalid_1's rmse: 0.962825\n",
      "[162]\ttraining's rmse: 0.93847\tvalid_1's rmse: 0.962798\n",
      "[163]\ttraining's rmse: 0.938424\tvalid_1's rmse: 0.962797\n",
      "[164]\ttraining's rmse: 0.938414\tvalid_1's rmse: 0.962803\n",
      "[165]\ttraining's rmse: 0.938379\tvalid_1's rmse: 0.96281\n",
      "[166]\ttraining's rmse: 0.938285\tvalid_1's rmse: 0.9628\n",
      "[167]\ttraining's rmse: 0.938186\tvalid_1's rmse: 0.962813\n",
      "[168]\ttraining's rmse: 0.938133\tvalid_1's rmse: 0.962809\n",
      "[169]\ttraining's rmse: 0.938042\tvalid_1's rmse: 0.962819\n",
      "[170]\ttraining's rmse: 0.937912\tvalid_1's rmse: 0.962788\n",
      "[171]\ttraining's rmse: 0.937777\tvalid_1's rmse: 0.962776\n",
      "[172]\ttraining's rmse: 0.937768\tvalid_1's rmse: 0.962783\n",
      "[173]\ttraining's rmse: 0.937687\tvalid_1's rmse: 0.962792\n",
      "[174]\ttraining's rmse: 0.937598\tvalid_1's rmse: 0.962789\n",
      "[175]\ttraining's rmse: 0.937471\tvalid_1's rmse: 0.962772\n",
      "[176]\ttraining's rmse: 0.93739\tvalid_1's rmse: 0.962765\n",
      "[177]\ttraining's rmse: 0.93727\tvalid_1's rmse: 0.962747\n",
      "[178]\ttraining's rmse: 0.937253\tvalid_1's rmse: 0.962746\n",
      "[179]\ttraining's rmse: 0.937131\tvalid_1's rmse: 0.962757\n",
      "[180]\ttraining's rmse: 0.937061\tvalid_1's rmse: 0.962784\n",
      "[181]\ttraining's rmse: 0.936984\tvalid_1's rmse: 0.962804\n",
      "[182]\ttraining's rmse: 0.936873\tvalid_1's rmse: 0.962779\n",
      "[183]\ttraining's rmse: 0.936813\tvalid_1's rmse: 0.962816\n",
      "[184]\ttraining's rmse: 0.936799\tvalid_1's rmse: 0.962825\n",
      "[185]\ttraining's rmse: 0.936687\tvalid_1's rmse: 0.962802\n",
      "[186]\ttraining's rmse: 0.936598\tvalid_1's rmse: 0.962801\n",
      "[187]\ttraining's rmse: 0.936566\tvalid_1's rmse: 0.962803\n",
      "[188]\ttraining's rmse: 0.936498\tvalid_1's rmse: 0.962822\n",
      "[189]\ttraining's rmse: 0.936483\tvalid_1's rmse: 0.962818\n",
      "[190]\ttraining's rmse: 0.936415\tvalid_1's rmse: 0.96283\n",
      "[191]\ttraining's rmse: 0.936365\tvalid_1's rmse: 0.962854\n",
      "[192]\ttraining's rmse: 0.936337\tvalid_1's rmse: 0.962862\n",
      "[193]\ttraining's rmse: 0.936329\tvalid_1's rmse: 0.962863\n",
      "[194]\ttraining's rmse: 0.936276\tvalid_1's rmse: 0.962847\n",
      "[195]\ttraining's rmse: 0.93622\tvalid_1's rmse: 0.962845\n",
      "[196]\ttraining's rmse: 0.936214\tvalid_1's rmse: 0.962845\n",
      "[197]\ttraining's rmse: 0.936214\tvalid_1's rmse: 0.962845\n",
      "[198]\ttraining's rmse: 0.936214\tvalid_1's rmse: 0.962845\n",
      "[199]\ttraining's rmse: 0.936214\tvalid_1's rmse: 0.962845\n",
      "[200]\ttraining's rmse: 0.936214\tvalid_1's rmse: 0.962845\n",
      "[201]\ttraining's rmse: 0.936214\tvalid_1's rmse: 0.962845\n",
      "[202]\ttraining's rmse: 0.936214\tvalid_1's rmse: 0.962845\n",
      "[203]\ttraining's rmse: 0.936214\tvalid_1's rmse: 0.962845\n",
      "[204]\ttraining's rmse: 0.936214\tvalid_1's rmse: 0.962845\n",
      "[205]\ttraining's rmse: 0.936214\tvalid_1's rmse: 0.962845\n",
      "[206]\ttraining's rmse: 0.936214\tvalid_1's rmse: 0.962845\n",
      "[207]\ttraining's rmse: 0.936214\tvalid_1's rmse: 0.962845\n",
      "[208]\ttraining's rmse: 0.936214\tvalid_1's rmse: 0.962845\n",
      "[209]\ttraining's rmse: 0.936214\tvalid_1's rmse: 0.962845\n",
      "[210]\ttraining's rmse: 0.936214\tvalid_1's rmse: 0.962845\n",
      "[211]\ttraining's rmse: 0.936214\tvalid_1's rmse: 0.962845\n",
      "[212]\ttraining's rmse: 0.936214\tvalid_1's rmse: 0.962845\n",
      "[213]\ttraining's rmse: 0.936214\tvalid_1's rmse: 0.962845\n"
     ]
    },
    {
     "name": "stdout",
     "output_type": "stream",
     "text": [
      "[214]\ttraining's rmse: 0.936214\tvalid_1's rmse: 0.962845\n",
      "[215]\ttraining's rmse: 0.936214\tvalid_1's rmse: 0.962845\n",
      "[216]\ttraining's rmse: 0.936214\tvalid_1's rmse: 0.962845\n",
      "[217]\ttraining's rmse: 0.936214\tvalid_1's rmse: 0.962845\n",
      "[218]\ttraining's rmse: 0.936214\tvalid_1's rmse: 0.962845\n",
      "[219]\ttraining's rmse: 0.936214\tvalid_1's rmse: 0.962845\n",
      "[220]\ttraining's rmse: 0.936214\tvalid_1's rmse: 0.962845\n",
      "[221]\ttraining's rmse: 0.936214\tvalid_1's rmse: 0.962845\n",
      "[222]\ttraining's rmse: 0.936214\tvalid_1's rmse: 0.962845\n",
      "[223]\ttraining's rmse: 0.936214\tvalid_1's rmse: 0.962845\n",
      "[224]\ttraining's rmse: 0.936214\tvalid_1's rmse: 0.962845\n",
      "[225]\ttraining's rmse: 0.936214\tvalid_1's rmse: 0.962845\n",
      "[226]\ttraining's rmse: 0.936214\tvalid_1's rmse: 0.962845\n",
      "[227]\ttraining's rmse: 0.936214\tvalid_1's rmse: 0.962845\n",
      "[228]\ttraining's rmse: 0.936214\tvalid_1's rmse: 0.962845\n",
      "[229]\ttraining's rmse: 0.936214\tvalid_1's rmse: 0.962845\n",
      "[230]\ttraining's rmse: 0.936214\tvalid_1's rmse: 0.962845\n",
      "[231]\ttraining's rmse: 0.936214\tvalid_1's rmse: 0.962845\n",
      "[232]\ttraining's rmse: 0.936214\tvalid_1's rmse: 0.962845\n",
      "[233]\ttraining's rmse: 0.936214\tvalid_1's rmse: 0.962845\n",
      "[234]\ttraining's rmse: 0.936214\tvalid_1's rmse: 0.962845\n",
      "[235]\ttraining's rmse: 0.936214\tvalid_1's rmse: 0.962845\n",
      "[236]\ttraining's rmse: 0.936214\tvalid_1's rmse: 0.962845\n",
      "[237]\ttraining's rmse: 0.936214\tvalid_1's rmse: 0.962845\n",
      "[238]\ttraining's rmse: 0.936214\tvalid_1's rmse: 0.962845\n",
      "[239]\ttraining's rmse: 0.936214\tvalid_1's rmse: 0.962845\n",
      "[240]\ttraining's rmse: 0.936214\tvalid_1's rmse: 0.962845\n",
      "[241]\ttraining's rmse: 0.936214\tvalid_1's rmse: 0.962845\n",
      "[242]\ttraining's rmse: 0.936214\tvalid_1's rmse: 0.962845\n",
      "[243]\ttraining's rmse: 0.936214\tvalid_1's rmse: 0.962845\n",
      "[244]\ttraining's rmse: 0.936214\tvalid_1's rmse: 0.962845\n",
      "[245]\ttraining's rmse: 0.936214\tvalid_1's rmse: 0.962845\n",
      "[246]\ttraining's rmse: 0.936214\tvalid_1's rmse: 0.962845\n",
      "[247]\ttraining's rmse: 0.936214\tvalid_1's rmse: 0.962845\n",
      "[248]\ttraining's rmse: 0.936214\tvalid_1's rmse: 0.962845\n",
      "[249]\ttraining's rmse: 0.936214\tvalid_1's rmse: 0.962845\n",
      "[250]\ttraining's rmse: 0.936214\tvalid_1's rmse: 0.962845\n",
      "[251]\ttraining's rmse: 0.936214\tvalid_1's rmse: 0.962845\n",
      "[252]\ttraining's rmse: 0.936214\tvalid_1's rmse: 0.962845\n",
      "[253]\ttraining's rmse: 0.936214\tvalid_1's rmse: 0.962845\n",
      "[254]\ttraining's rmse: 0.936214\tvalid_1's rmse: 0.962845\n",
      "[255]\ttraining's rmse: 0.936214\tvalid_1's rmse: 0.962845\n",
      "[256]\ttraining's rmse: 0.936214\tvalid_1's rmse: 0.962845\n",
      "[257]\ttraining's rmse: 0.936214\tvalid_1's rmse: 0.962845\n",
      "[258]\ttraining's rmse: 0.936214\tvalid_1's rmse: 0.962845\n",
      "[259]\ttraining's rmse: 0.936214\tvalid_1's rmse: 0.962845\n",
      "[260]\ttraining's rmse: 0.936214\tvalid_1's rmse: 0.962845\n",
      "[261]\ttraining's rmse: 0.936214\tvalid_1's rmse: 0.962845\n",
      "[262]\ttraining's rmse: 0.936214\tvalid_1's rmse: 0.962845\n",
      "[263]\ttraining's rmse: 0.936214\tvalid_1's rmse: 0.962845\n",
      "[264]\ttraining's rmse: 0.936214\tvalid_1's rmse: 0.962845\n",
      "[265]\ttraining's rmse: 0.936214\tvalid_1's rmse: 0.962845\n",
      "[266]\ttraining's rmse: 0.936214\tvalid_1's rmse: 0.962845\n",
      "[267]\ttraining's rmse: 0.936214\tvalid_1's rmse: 0.962845\n",
      "[268]\ttraining's rmse: 0.936214\tvalid_1's rmse: 0.962845\n",
      "[269]\ttraining's rmse: 0.936214\tvalid_1's rmse: 0.962845\n",
      "[270]\ttraining's rmse: 0.936214\tvalid_1's rmse: 0.962845\n",
      "[271]\ttraining's rmse: 0.936214\tvalid_1's rmse: 0.962845\n",
      "[272]\ttraining's rmse: 0.936214\tvalid_1's rmse: 0.962845\n",
      "[273]\ttraining's rmse: 0.936214\tvalid_1's rmse: 0.962845\n",
      "[274]\ttraining's rmse: 0.936214\tvalid_1's rmse: 0.962845\n",
      "[275]\ttraining's rmse: 0.936214\tvalid_1's rmse: 0.962845\n",
      "[276]\ttraining's rmse: 0.936214\tvalid_1's rmse: 0.962845\n",
      "[277]\ttraining's rmse: 0.936214\tvalid_1's rmse: 0.962845\n",
      "[278]\ttraining's rmse: 0.936214\tvalid_1's rmse: 0.962845\n",
      "Early stopping, best iteration is:\n",
      "[178]\ttraining's rmse: 0.937253\tvalid_1's rmse: 0.962746\n"
     ]
    }
   ],
   "source": [
    "target = df_train_3_pay_nor['role_created_30_pay_sum']\n",
    "features = df_train_3_pay_nor.drop(['role_created_30_pay_sum','user_id','cp_server_no','cp_role_id'], axis=1)\n",
    "target_ln = np.log1p(target)\n",
    "\n",
    "X_val, x_test, Y_val, y_test = train_test_split(features,target_ln, test_size=0.3)\n",
    "params = {\n",
    "\n",
    "'boosting_type':'gbdt',\n",
    "'objective':'regression',\n",
    "'metric':'rmse',\n",
    "'nthread':4,\n",
    "'learning_rate':0.05,\n",
    "\"max_depth\":5,\n",
    "\"num_leaves\":20,\n",
    "\"max_bin\":255,\n",
    "\"min_data_in_leaf\":61,\n",
    "\"min_split_gain\":1.0,\n",
    "\"feature_fraction\": 1.0,\n",
    "\"bagging_fraction\":1.0,\n",
    "\"bagging_freq\":45,\n",
    "\"lambda_l1\":1,\n",
    "\"lambda_l2\":0.4,\n",
    "\"metric\": \"rmse\",\n",
    "}\n",
    "train_data = lgb.Dataset(X_val, label=Y_val)\n",
    "val_data = lgb.Dataset(x_test, label=y_test, reference=train_data)\n",
    "lgb_p2 = lgb.train(params, train_data, num_boost_round=8000, early_stopping_rounds=100, valid_sets=[train_data, val_data])\n"
   ]
  },
  {
   "cell_type": "code",
   "execution_count": 72,
   "metadata": {},
   "outputs": [
    {
     "name": "stdout",
     "output_type": "stream",
     "text": [
      "1802.884256726747\n",
      "3250391.643153155\n",
      "413.3192833662707\n"
     ]
    }
   ],
   "source": [
    "y_predict_p2 = lgb_p2.predict(x_test)\n",
    "mse = mean_squared_error(np.expm1(y_predict_p2)*1.86, np.expm1(y_test))\n",
    "mae = mean_absolute_error(np.expm1(y_predict_p2)*1.86, np.expm1(y_test))\n",
    "rmse = mse ** 0.5\n",
    "print(rmse)\n",
    "print(mse)\n",
    "print(mae)"
   ]
  },
  {
   "cell_type": "code",
   "execution_count": 73,
   "metadata": {
    "scrolled": true
   },
   "outputs": [
    {
     "data": {
      "text/plain": [
       "8981893.634431582"
      ]
     },
     "execution_count": 73,
     "metadata": {},
     "output_type": "execute_result"
    }
   ],
   "source": [
    "sum(np.expm1(y_predict_p2)) * 1.86"
   ]
  },
  {
   "cell_type": "code",
   "execution_count": 75,
   "metadata": {},
   "outputs": [
    {
     "data": {
      "text/plain": [
       "0.9543941097642289"
      ]
     },
     "execution_count": 75,
     "metadata": {},
     "output_type": "execute_result"
    }
   ],
   "source": [
    "sum(np.expm1(y_predict_p2)* 1.86) /sum(np.expm1(y_test))"
   ]
  },
  {
   "cell_type": "markdown",
   "metadata": {},
   "source": [
    "## Train part 3 _前3天付费且金额>=1000"
   ]
  },
  {
   "cell_type": "code",
   "execution_count": 76,
   "metadata": {},
   "outputs": [
    {
     "data": {
      "text/plain": [
       "35548348.0"
      ]
     },
     "execution_count": 76,
     "metadata": {},
     "output_type": "execute_result"
    }
   ],
   "source": [
    "df_train_3_pay_r['role_created_30_pay_sum'].sum()"
   ]
  },
  {
   "cell_type": "code",
   "execution_count": 77,
   "metadata": {},
   "outputs": [
    {
     "data": {
      "text/plain": [
       "10265.188564828184"
      ]
     },
     "execution_count": 77,
     "metadata": {},
     "output_type": "execute_result"
    }
   ],
   "source": [
    "df_train_3_pay_r['role_created_30_pay_sum'].mean()"
   ]
  },
  {
   "cell_type": "code",
   "execution_count": 78,
   "metadata": {},
   "outputs": [
    {
     "data": {
      "text/plain": [
       "(3463,)"
      ]
     },
     "execution_count": 78,
     "metadata": {},
     "output_type": "execute_result"
    }
   ],
   "source": [
    "df_train_3_pay_r['role_created_30_pay_sum'].shape"
   ]
  },
  {
   "cell_type": "code",
   "execution_count": 79,
   "metadata": {},
   "outputs": [
    {
     "name": "stdout",
     "output_type": "stream",
     "text": [
      "[1]\ttraining's rmse: 1.03441\tvalid_1's rmse: 1.05184\n",
      "Training until validation scores don't improve for 100 rounds\n",
      "[2]\ttraining's rmse: 1.01063\tvalid_1's rmse: 1.02993\n",
      "[3]\ttraining's rmse: 0.988595\tvalid_1's rmse: 1.00989\n",
      "[4]\ttraining's rmse: 0.968217\tvalid_1's rmse: 0.991572\n",
      "[5]\ttraining's rmse: 0.949339\tvalid_1's rmse: 0.974455\n",
      "[6]\ttraining's rmse: 0.931983\tvalid_1's rmse: 0.958825\n",
      "[7]\ttraining's rmse: 0.915763\tvalid_1's rmse: 0.944547\n",
      "[8]\ttraining's rmse: 0.900797\tvalid_1's rmse: 0.931795\n",
      "[9]\ttraining's rmse: 0.88709\tvalid_1's rmse: 0.919924\n",
      "[10]\ttraining's rmse: 0.874517\tvalid_1's rmse: 0.909098\n",
      "[11]\ttraining's rmse: 0.862571\tvalid_1's rmse: 0.898709\n",
      "[12]\ttraining's rmse: 0.851876\tvalid_1's rmse: 0.889689\n",
      "[13]\ttraining's rmse: 0.841599\tvalid_1's rmse: 0.881611\n",
      "[14]\ttraining's rmse: 0.832236\tvalid_1's rmse: 0.873696\n",
      "[15]\ttraining's rmse: 0.823526\tvalid_1's rmse: 0.867118\n",
      "[16]\ttraining's rmse: 0.815183\tvalid_1's rmse: 0.860462\n",
      "[17]\ttraining's rmse: 0.807951\tvalid_1's rmse: 0.854343\n",
      "[18]\ttraining's rmse: 0.800944\tvalid_1's rmse: 0.849018\n",
      "[19]\ttraining's rmse: 0.794428\tvalid_1's rmse: 0.843994\n",
      "[20]\ttraining's rmse: 0.788655\tvalid_1's rmse: 0.839749\n",
      "[21]\ttraining's rmse: 0.783169\tvalid_1's rmse: 0.835864\n",
      "[22]\ttraining's rmse: 0.77812\tvalid_1's rmse: 0.831842\n",
      "[23]\ttraining's rmse: 0.773579\tvalid_1's rmse: 0.828746\n",
      "[24]\ttraining's rmse: 0.76931\tvalid_1's rmse: 0.825461\n",
      "[25]\ttraining's rmse: 0.765636\tvalid_1's rmse: 0.822856\n",
      "[26]\ttraining's rmse: 0.761812\tvalid_1's rmse: 0.820564\n",
      "[27]\ttraining's rmse: 0.758447\tvalid_1's rmse: 0.818393\n",
      "[28]\ttraining's rmse: 0.755239\tvalid_1's rmse: 0.816232\n",
      "[29]\ttraining's rmse: 0.752476\tvalid_1's rmse: 0.814525\n",
      "[30]\ttraining's rmse: 0.749624\tvalid_1's rmse: 0.812627\n",
      "[31]\ttraining's rmse: 0.747034\tvalid_1's rmse: 0.810943\n",
      "[32]\ttraining's rmse: 0.744722\tvalid_1's rmse: 0.809277\n",
      "[33]\ttraining's rmse: 0.742415\tvalid_1's rmse: 0.807425\n",
      "[34]\ttraining's rmse: 0.740199\tvalid_1's rmse: 0.805861\n",
      "[35]\ttraining's rmse: 0.738367\tvalid_1's rmse: 0.80462\n",
      "[36]\ttraining's rmse: 0.73646\tvalid_1's rmse: 0.803803\n",
      "[37]\ttraining's rmse: 0.734601\tvalid_1's rmse: 0.802941\n",
      "[38]\ttraining's rmse: 0.732979\tvalid_1's rmse: 0.8019\n",
      "[39]\ttraining's rmse: 0.731351\tvalid_1's rmse: 0.800819\n",
      "[40]\ttraining's rmse: 0.729764\tvalid_1's rmse: 0.800296\n",
      "[41]\ttraining's rmse: 0.728297\tvalid_1's rmse: 0.799693\n",
      "[42]\ttraining's rmse: 0.726789\tvalid_1's rmse: 0.799154\n",
      "[43]\ttraining's rmse: 0.725588\tvalid_1's rmse: 0.798534\n",
      "[44]\ttraining's rmse: 0.724382\tvalid_1's rmse: 0.797848\n",
      "[45]\ttraining's rmse: 0.722789\tvalid_1's rmse: 0.797307\n",
      "[46]\ttraining's rmse: 0.721441\tvalid_1's rmse: 0.797177\n",
      "[47]\ttraining's rmse: 0.720216\tvalid_1's rmse: 0.796576\n",
      "[48]\ttraining's rmse: 0.719179\tvalid_1's rmse: 0.796018\n",
      "[49]\ttraining's rmse: 0.717929\tvalid_1's rmse: 0.795677\n",
      "[50]\ttraining's rmse: 0.716688\tvalid_1's rmse: 0.795431\n",
      "[51]\ttraining's rmse: 0.71564\tvalid_1's rmse: 0.79505\n",
      "[52]\ttraining's rmse: 0.714666\tvalid_1's rmse: 0.79492\n",
      "[53]\ttraining's rmse: 0.713925\tvalid_1's rmse: 0.794624\n",
      "[54]\ttraining's rmse: 0.712966\tvalid_1's rmse: 0.794374\n",
      "[55]\ttraining's rmse: 0.711992\tvalid_1's rmse: 0.794336\n",
      "[56]\ttraining's rmse: 0.711173\tvalid_1's rmse: 0.794015\n",
      "[57]\ttraining's rmse: 0.710522\tvalid_1's rmse: 0.793999\n",
      "[58]\ttraining's rmse: 0.709763\tvalid_1's rmse: 0.794075\n",
      "[59]\ttraining's rmse: 0.708812\tvalid_1's rmse: 0.793878\n",
      "[60]\ttraining's rmse: 0.708145\tvalid_1's rmse: 0.793674\n",
      "[61]\ttraining's rmse: 0.70731\tvalid_1's rmse: 0.793583\n",
      "[62]\ttraining's rmse: 0.706629\tvalid_1's rmse: 0.793419\n",
      "[63]\ttraining's rmse: 0.706017\tvalid_1's rmse: 0.79309\n",
      "[64]\ttraining's rmse: 0.705483\tvalid_1's rmse: 0.792918\n",
      "[65]\ttraining's rmse: 0.704884\tvalid_1's rmse: 0.792899\n",
      "[66]\ttraining's rmse: 0.704383\tvalid_1's rmse: 0.792584\n",
      "[67]\ttraining's rmse: 0.703851\tvalid_1's rmse: 0.792489\n",
      "[68]\ttraining's rmse: 0.703342\tvalid_1's rmse: 0.792348\n",
      "[69]\ttraining's rmse: 0.702779\tvalid_1's rmse: 0.792291\n",
      "[70]\ttraining's rmse: 0.702337\tvalid_1's rmse: 0.792231\n",
      "[71]\ttraining's rmse: 0.701995\tvalid_1's rmse: 0.792271\n",
      "[72]\ttraining's rmse: 0.701764\tvalid_1's rmse: 0.79223\n",
      "[73]\ttraining's rmse: 0.701328\tvalid_1's rmse: 0.792089\n",
      "[74]\ttraining's rmse: 0.700687\tvalid_1's rmse: 0.792109\n",
      "[75]\ttraining's rmse: 0.700544\tvalid_1's rmse: 0.792192\n",
      "[76]\ttraining's rmse: 0.700268\tvalid_1's rmse: 0.792209\n",
      "[77]\ttraining's rmse: 0.700034\tvalid_1's rmse: 0.792024\n",
      "[78]\ttraining's rmse: 0.699959\tvalid_1's rmse: 0.792063\n",
      "[79]\ttraining's rmse: 0.699489\tvalid_1's rmse: 0.792033\n",
      "[80]\ttraining's rmse: 0.699267\tvalid_1's rmse: 0.792022\n",
      "[81]\ttraining's rmse: 0.699161\tvalid_1's rmse: 0.791932\n",
      "[82]\ttraining's rmse: 0.698668\tvalid_1's rmse: 0.791981\n",
      "[83]\ttraining's rmse: 0.698601\tvalid_1's rmse: 0.791935\n",
      "[84]\ttraining's rmse: 0.698601\tvalid_1's rmse: 0.791935\n",
      "[85]\ttraining's rmse: 0.698601\tvalid_1's rmse: 0.791935\n",
      "[86]\ttraining's rmse: 0.698601\tvalid_1's rmse: 0.791935\n",
      "[87]\ttraining's rmse: 0.698601\tvalid_1's rmse: 0.791935\n",
      "[88]\ttraining's rmse: 0.698601\tvalid_1's rmse: 0.791935\n",
      "[89]\ttraining's rmse: 0.698601\tvalid_1's rmse: 0.791935\n",
      "[90]\ttraining's rmse: 0.698601\tvalid_1's rmse: 0.791935\n",
      "[91]\ttraining's rmse: 0.698601\tvalid_1's rmse: 0.791935\n",
      "[92]\ttraining's rmse: 0.698601\tvalid_1's rmse: 0.791935\n",
      "[93]\ttraining's rmse: 0.698601\tvalid_1's rmse: 0.791935\n",
      "[94]\ttraining's rmse: 0.698601\tvalid_1's rmse: 0.791935\n",
      "[95]\ttraining's rmse: 0.698601\tvalid_1's rmse: 0.791935\n",
      "[96]\ttraining's rmse: 0.698601\tvalid_1's rmse: 0.791935\n",
      "[97]\ttraining's rmse: 0.698601\tvalid_1's rmse: 0.791935\n",
      "[98]\ttraining's rmse: 0.698601\tvalid_1's rmse: 0.791935\n",
      "[99]\ttraining's rmse: 0.698601\tvalid_1's rmse: 0.791935\n",
      "[100]\ttraining's rmse: 0.698601\tvalid_1's rmse: 0.791935\n",
      "[101]\ttraining's rmse: 0.698601\tvalid_1's rmse: 0.791935\n",
      "[102]\ttraining's rmse: 0.698601\tvalid_1's rmse: 0.791935\n",
      "[103]\ttraining's rmse: 0.698601\tvalid_1's rmse: 0.791935\n",
      "[104]\ttraining's rmse: 0.698601\tvalid_1's rmse: 0.791935\n",
      "[105]\ttraining's rmse: 0.698601\tvalid_1's rmse: 0.791935\n",
      "[106]\ttraining's rmse: 0.698601\tvalid_1's rmse: 0.791935\n",
      "[107]\ttraining's rmse: 0.698601\tvalid_1's rmse: 0.791935\n",
      "[108]\ttraining's rmse: 0.698601\tvalid_1's rmse: 0.791935\n",
      "[109]\ttraining's rmse: 0.698601\tvalid_1's rmse: 0.791935\n",
      "[110]\ttraining's rmse: 0.698601\tvalid_1's rmse: 0.791935\n",
      "[111]\ttraining's rmse: 0.698601\tvalid_1's rmse: 0.791935\n",
      "[112]\ttraining's rmse: 0.698601\tvalid_1's rmse: 0.791935\n",
      "[113]\ttraining's rmse: 0.698601\tvalid_1's rmse: 0.791935\n",
      "[114]\ttraining's rmse: 0.698601\tvalid_1's rmse: 0.791935\n",
      "[115]\ttraining's rmse: 0.698601\tvalid_1's rmse: 0.791935\n",
      "[116]\ttraining's rmse: 0.698601\tvalid_1's rmse: 0.791935\n",
      "[117]\ttraining's rmse: 0.698601\tvalid_1's rmse: 0.791935\n",
      "[118]\ttraining's rmse: 0.698601\tvalid_1's rmse: 0.791935\n",
      "[119]\ttraining's rmse: 0.698601\tvalid_1's rmse: 0.791935\n",
      "[120]\ttraining's rmse: 0.698601\tvalid_1's rmse: 0.791935\n",
      "[121]\ttraining's rmse: 0.698601\tvalid_1's rmse: 0.791935\n",
      "[122]\ttraining's rmse: 0.698601\tvalid_1's rmse: 0.791935\n",
      "[123]\ttraining's rmse: 0.698601\tvalid_1's rmse: 0.791935\n",
      "[124]\ttraining's rmse: 0.698601\tvalid_1's rmse: 0.791935\n",
      "[125]\ttraining's rmse: 0.698601\tvalid_1's rmse: 0.791935\n",
      "[126]\ttraining's rmse: 0.698601\tvalid_1's rmse: 0.791935\n",
      "[127]\ttraining's rmse: 0.698601\tvalid_1's rmse: 0.791935\n",
      "[128]\ttraining's rmse: 0.698601\tvalid_1's rmse: 0.791935\n",
      "[129]\ttraining's rmse: 0.698601\tvalid_1's rmse: 0.791935\n",
      "[130]\ttraining's rmse: 0.698601\tvalid_1's rmse: 0.791935\n",
      "[131]\ttraining's rmse: 0.698601\tvalid_1's rmse: 0.791935\n",
      "[132]\ttraining's rmse: 0.698601\tvalid_1's rmse: 0.791935\n",
      "[133]\ttraining's rmse: 0.698601\tvalid_1's rmse: 0.791935\n",
      "[134]\ttraining's rmse: 0.698601\tvalid_1's rmse: 0.791935\n",
      "[135]\ttraining's rmse: 0.698601\tvalid_1's rmse: 0.791935\n",
      "[136]\ttraining's rmse: 0.698601\tvalid_1's rmse: 0.791935\n",
      "[137]\ttraining's rmse: 0.698601\tvalid_1's rmse: 0.791935\n",
      "[138]\ttraining's rmse: 0.698601\tvalid_1's rmse: 0.791935\n",
      "[139]\ttraining's rmse: 0.698601\tvalid_1's rmse: 0.791935\n",
      "[140]\ttraining's rmse: 0.698601\tvalid_1's rmse: 0.791935\n",
      "[141]\ttraining's rmse: 0.698601\tvalid_1's rmse: 0.791935\n",
      "[142]\ttraining's rmse: 0.698601\tvalid_1's rmse: 0.791935\n",
      "[143]\ttraining's rmse: 0.698601\tvalid_1's rmse: 0.791935\n",
      "[144]\ttraining's rmse: 0.698601\tvalid_1's rmse: 0.791935\n",
      "[145]\ttraining's rmse: 0.698601\tvalid_1's rmse: 0.791935\n",
      "[146]\ttraining's rmse: 0.698601\tvalid_1's rmse: 0.791935\n",
      "[147]\ttraining's rmse: 0.698601\tvalid_1's rmse: 0.791935\n",
      "[148]\ttraining's rmse: 0.698601\tvalid_1's rmse: 0.791935\n",
      "[149]\ttraining's rmse: 0.698601\tvalid_1's rmse: 0.791935\n",
      "[150]\ttraining's rmse: 0.698601\tvalid_1's rmse: 0.791935\n",
      "[151]\ttraining's rmse: 0.698601\tvalid_1's rmse: 0.791935\n",
      "[152]\ttraining's rmse: 0.698601\tvalid_1's rmse: 0.791935\n",
      "[153]\ttraining's rmse: 0.698601\tvalid_1's rmse: 0.791935\n",
      "[154]\ttraining's rmse: 0.698601\tvalid_1's rmse: 0.791935\n",
      "[155]\ttraining's rmse: 0.698601\tvalid_1's rmse: 0.791935\n",
      "[156]\ttraining's rmse: 0.698601\tvalid_1's rmse: 0.791935\n",
      "[157]\ttraining's rmse: 0.698601\tvalid_1's rmse: 0.791935\n",
      "[158]\ttraining's rmse: 0.698601\tvalid_1's rmse: 0.791935\n",
      "[159]\ttraining's rmse: 0.698601\tvalid_1's rmse: 0.791935\n",
      "[160]\ttraining's rmse: 0.698601\tvalid_1's rmse: 0.791935\n",
      "[161]\ttraining's rmse: 0.698601\tvalid_1's rmse: 0.791935\n",
      "[162]\ttraining's rmse: 0.698601\tvalid_1's rmse: 0.791935\n",
      "[163]\ttraining's rmse: 0.698601\tvalid_1's rmse: 0.791935\n",
      "[164]\ttraining's rmse: 0.698601\tvalid_1's rmse: 0.791935\n",
      "[165]\ttraining's rmse: 0.698601\tvalid_1's rmse: 0.791935\n",
      "[166]\ttraining's rmse: 0.698601\tvalid_1's rmse: 0.791935\n",
      "[167]\ttraining's rmse: 0.698601\tvalid_1's rmse: 0.791935\n",
      "[168]\ttraining's rmse: 0.698601\tvalid_1's rmse: 0.791935\n",
      "[169]\ttraining's rmse: 0.698601\tvalid_1's rmse: 0.791935\n",
      "[170]\ttraining's rmse: 0.698601\tvalid_1's rmse: 0.791935\n",
      "[171]\ttraining's rmse: 0.698601\tvalid_1's rmse: 0.791935\n",
      "[172]\ttraining's rmse: 0.698601\tvalid_1's rmse: 0.791935\n",
      "[173]\ttraining's rmse: 0.698601\tvalid_1's rmse: 0.791935\n",
      "[174]\ttraining's rmse: 0.698601\tvalid_1's rmse: 0.791935\n",
      "[175]\ttraining's rmse: 0.698601\tvalid_1's rmse: 0.791935\n",
      "[176]\ttraining's rmse: 0.698601\tvalid_1's rmse: 0.791935\n",
      "[177]\ttraining's rmse: 0.698601\tvalid_1's rmse: 0.791935\n",
      "[178]\ttraining's rmse: 0.698601\tvalid_1's rmse: 0.791935\n",
      "[179]\ttraining's rmse: 0.698601\tvalid_1's rmse: 0.791935\n",
      "[180]\ttraining's rmse: 0.698601\tvalid_1's rmse: 0.791935\n",
      "[181]\ttraining's rmse: 0.698601\tvalid_1's rmse: 0.791935\n",
      "Early stopping, best iteration is:\n",
      "[81]\ttraining's rmse: 0.699161\tvalid_1's rmse: 0.791932\n"
     ]
    }
   ],
   "source": [
    "# 对前n天有付费且金额大于1000的进行回归\n",
    "target = df_train_3_pay_r['role_created_30_pay_sum']\n",
    "features = df_train_3_pay_r.drop(['role_created_30_pay_sum','user_id','cp_server_no','cp_role_id'], axis=1)\n",
    "target_ln = np.log1p(target)\n",
    "X_val, x_test, Y_val, y_test = train_test_split(features,target_ln, test_size=0.3)\n",
    "params = {\n",
    "\n",
    "'boosting_type':'gbdt',\n",
    "'objective':'regression',\n",
    "'metric':'rmse',\n",
    "'nthread':4,\n",
    "'learning_rate':0.05,\n",
    "\"max_depth\":5,\n",
    "\"num_leaves\":20,\n",
    "\"max_bin\":255,\n",
    "\"min_data_in_leaf\":61,\n",
    "\"min_split_gain\":1.0,\n",
    "\"feature_fraction\": 1.0,\n",
    "\"bagging_fraction\":1.0,\n",
    "\"bagging_freq\":45,\n",
    "\"lambda_l1\":1,\n",
    "\"lambda_l2\":0.4,\n",
    "\"metric\": \"rmse\",\n",
    "}\n",
    "train_data = lgb.Dataset(X_val, label=Y_val)\n",
    "val_data = lgb.Dataset(x_test, label=y_test, reference=train_data)\n",
    "lgb_p3 = lgb.train(params, train_data, num_boost_round=8000, early_stopping_rounds=100, valid_sets=[train_data, val_data])"
   ]
  },
  {
   "cell_type": "code",
   "execution_count": 88,
   "metadata": {},
   "outputs": [
    {
     "name": "stdout",
     "output_type": "stream",
     "text": [
      "10928.091264585573\n",
      "119423178.6871115\n",
      "6490.590847292033\n"
     ]
    }
   ],
   "source": [
    "y_predict_r = lgb_p3.predict(x_test)\n",
    "mse = mean_squared_error(np.expm1(y_predict_r)*1.4, np.expm1(y_test))\n",
    "mae = mean_absolute_error(np.expm1(y_predict_r)*1.4, np.expm1(y_test))\n",
    "rmse = mse ** 0.5\n",
    "print(rmse)\n",
    "print(mse)\n",
    "print(mae)"
   ]
  },
  {
   "cell_type": "code",
   "execution_count": 82,
   "metadata": {},
   "outputs": [
    {
     "data": {
      "text/plain": [
       "7740277.256941903"
      ]
     },
     "execution_count": 82,
     "metadata": {},
     "output_type": "execute_result"
    }
   ],
   "source": [
    "sum(np.expm1(y_predict_r))"
   ]
  },
  {
   "cell_type": "code",
   "execution_count": 84,
   "metadata": {},
   "outputs": [
    {
     "data": {
      "text/plain": [
       "10915936.0"
      ]
     },
     "execution_count": 84,
     "metadata": {},
     "output_type": "execute_result"
    }
   ],
   "source": [
    "sum(np.expm1(y_test))"
   ]
  },
  {
   "cell_type": "code",
   "execution_count": 87,
   "metadata": {},
   "outputs": [
    {
     "data": {
      "text/plain": [
       "0.9927126871867574"
      ]
     },
     "execution_count": 87,
     "metadata": {},
     "output_type": "execute_result"
    }
   ],
   "source": [
    "sum(np.expm1(y_predict_r))*1.4/sum(np.expm1(y_test))"
   ]
  },
  {
   "cell_type": "markdown",
   "metadata": {},
   "source": [
    "# 用df_test数据集进行测试"
   ]
  },
  {
   "cell_type": "code",
   "execution_count": 90,
   "metadata": {},
   "outputs": [],
   "source": [
    "# 用df_test数据集进行测试\n",
    "df_test_3_pay = df_test[df_test['role_created_3_pay_sum']>0]\n",
    "df_test_3_nopay = df_test[df_test['role_created_3_pay_sum']==0]\n",
    "df_test_3_nopay_online_n = df_test_3_nopay[(df_test_3_nopay['role_created_3_online']==907) | (df_test_3_nopay['role_created_3_login_num']<3)|(df_test_3_nopay['role_created_3_max_role_level']==1)]\n",
    "df_test_3_nopay_online_y = df_test_3_nopay.loc[np.setdiff1d(df_test_3_nopay.index, df_test_3_nopay_online_n.index),:]\n",
    "df_test_3_pay_r = df_test_3_pay[df_test_3_pay['role_created_3_pay_sum']>=1000]\n",
    "df_test_3_pay_nor = df_test_3_pay[df_test_3_pay['role_created_3_pay_sum']<1000]"
   ]
  },
  {
   "cell_type": "markdown",
   "metadata": {},
   "source": [
    "### part4"
   ]
  },
  {
   "cell_type": "code",
   "execution_count": 97,
   "metadata": {},
   "outputs": [],
   "source": [
    "df_test_part4 = df_test_3_nopay_online_n[['user_id','cp_server_no','cp_role_id','role_created_3_pay_num']].rename(columns=\n",
    "                                                                                {'role_created_3_pay_num':'predict_30_pay'})"
   ]
  },
  {
   "cell_type": "code",
   "execution_count": 98,
   "metadata": {},
   "outputs": [
    {
     "data": {
      "text/html": [
       "<div>\n",
       "<style scoped>\n",
       "    .dataframe tbody tr th:only-of-type {\n",
       "        vertical-align: middle;\n",
       "    }\n",
       "\n",
       "    .dataframe tbody tr th {\n",
       "        vertical-align: top;\n",
       "    }\n",
       "\n",
       "    .dataframe thead th {\n",
       "        text-align: right;\n",
       "    }\n",
       "</style>\n",
       "<table border=\"1\" class=\"dataframe\">\n",
       "  <thead>\n",
       "    <tr style=\"text-align: right;\">\n",
       "      <th></th>\n",
       "      <th>user_id</th>\n",
       "      <th>cp_server_no</th>\n",
       "      <th>cp_role_id</th>\n",
       "      <th>predict_30_pay</th>\n",
       "    </tr>\n",
       "  </thead>\n",
       "  <tbody>\n",
       "    <tr>\n",
       "      <th>3560406</th>\n",
       "      <td>110248023</td>\n",
       "      <td>660645</td>\n",
       "      <td>16808756</td>\n",
       "      <td>0.0</td>\n",
       "    </tr>\n",
       "    <tr>\n",
       "      <th>1331539</th>\n",
       "      <td>103628574</td>\n",
       "      <td>660312</td>\n",
       "      <td>14657550</td>\n",
       "      <td>0.0</td>\n",
       "    </tr>\n",
       "    <tr>\n",
       "      <th>3713887</th>\n",
       "      <td>110701949</td>\n",
       "      <td>660675</td>\n",
       "      <td>16952950</td>\n",
       "      <td>0.0</td>\n",
       "    </tr>\n",
       "    <tr>\n",
       "      <th>2885298</th>\n",
       "      <td>108077794</td>\n",
       "      <td>660523</td>\n",
       "      <td>16164600</td>\n",
       "      <td>0.0</td>\n",
       "    </tr>\n",
       "    <tr>\n",
       "      <th>2262437</th>\n",
       "      <td>106395434</td>\n",
       "      <td>660441</td>\n",
       "      <td>15561287</td>\n",
       "      <td>0.0</td>\n",
       "    </tr>\n",
       "  </tbody>\n",
       "</table>\n",
       "</div>"
      ],
      "text/plain": [
       "           user_id cp_server_no cp_role_id  predict_30_pay\n",
       "3560406  110248023       660645   16808756             0.0\n",
       "1331539  103628574       660312   14657550             0.0\n",
       "3713887  110701949       660675   16952950             0.0\n",
       "2885298  108077794       660523   16164600             0.0\n",
       "2262437  106395434       660441   15561287             0.0"
      ]
     },
     "execution_count": 98,
     "metadata": {},
     "output_type": "execute_result"
    }
   ],
   "source": [
    "df_test_part4.head()"
   ]
  },
  {
   "cell_type": "markdown",
   "metadata": {},
   "source": [
    "### part1"
   ]
  },
  {
   "cell_type": "code",
   "execution_count": 99,
   "metadata": {},
   "outputs": [],
   "source": [
    "df_test_part1 = df_test_3_nopay_online_y[['user_id','cp_server_no','cp_role_id','role_created_3_pay_num']].rename(columns=\n",
    "                                                                                {'role_created_3_pay_num':'predict_30_pay'})\n",
    "df_test_part1['predict_30_pay'] = 5.5"
   ]
  },
  {
   "cell_type": "code",
   "execution_count": 100,
   "metadata": {},
   "outputs": [
    {
     "data": {
      "text/html": [
       "<div>\n",
       "<style scoped>\n",
       "    .dataframe tbody tr th:only-of-type {\n",
       "        vertical-align: middle;\n",
       "    }\n",
       "\n",
       "    .dataframe tbody tr th {\n",
       "        vertical-align: top;\n",
       "    }\n",
       "\n",
       "    .dataframe thead th {\n",
       "        text-align: right;\n",
       "    }\n",
       "</style>\n",
       "<table border=\"1\" class=\"dataframe\">\n",
       "  <thead>\n",
       "    <tr style=\"text-align: right;\">\n",
       "      <th></th>\n",
       "      <th>user_id</th>\n",
       "      <th>cp_server_no</th>\n",
       "      <th>cp_role_id</th>\n",
       "      <th>predict_30_pay</th>\n",
       "    </tr>\n",
       "  </thead>\n",
       "  <tbody>\n",
       "    <tr>\n",
       "      <th>4</th>\n",
       "      <td>90001842</td>\n",
       "      <td>660011</td>\n",
       "      <td>12927599</td>\n",
       "      <td>5.5</td>\n",
       "    </tr>\n",
       "    <tr>\n",
       "      <th>6</th>\n",
       "      <td>90001889</td>\n",
       "      <td>660011</td>\n",
       "      <td>12927601</td>\n",
       "      <td>5.5</td>\n",
       "    </tr>\n",
       "    <tr>\n",
       "      <th>34</th>\n",
       "      <td>90002980</td>\n",
       "      <td>660011</td>\n",
       "      <td>12927628</td>\n",
       "      <td>5.5</td>\n",
       "    </tr>\n",
       "    <tr>\n",
       "      <th>35</th>\n",
       "      <td>90003019</td>\n",
       "      <td>660011</td>\n",
       "      <td>12927630</td>\n",
       "      <td>5.5</td>\n",
       "    </tr>\n",
       "    <tr>\n",
       "      <th>50</th>\n",
       "      <td>90003339</td>\n",
       "      <td>660011</td>\n",
       "      <td>12927645</td>\n",
       "      <td>5.5</td>\n",
       "    </tr>\n",
       "  </tbody>\n",
       "</table>\n",
       "</div>"
      ],
      "text/plain": [
       "     user_id cp_server_no cp_role_id  predict_30_pay\n",
       "4   90001842       660011   12927599             5.5\n",
       "6   90001889       660011   12927601             5.5\n",
       "34  90002980       660011   12927628             5.5\n",
       "35  90003019       660011   12927630             5.5\n",
       "50  90003339       660011   12927645             5.5"
      ]
     },
     "execution_count": 100,
     "metadata": {},
     "output_type": "execute_result"
    }
   ],
   "source": [
    "df_test_part1.head()"
   ]
  },
  {
   "cell_type": "markdown",
   "metadata": {},
   "source": [
    "### part2"
   ]
  },
  {
   "cell_type": "code",
   "execution_count": 96,
   "metadata": {},
   "outputs": [
    {
     "name": "stdout",
     "output_type": "stream",
     "text": [
      "1441.87751559958\n",
      "2079010.769991617\n",
      "293.90621648094964\n"
     ]
    }
   ],
   "source": [
    "target_test = df_test_3_pay_nor['role_created_30_pay_sum']\n",
    "target_test_ln = np.log1p(target_test)\n",
    "features_test = df_test_3_pay_nor.drop(['role_created_30_pay_sum','user_id','cp_server_no','cp_role_id'], axis=1)\n",
    "y_predict_p2 = lgb_p2.predict(features_test)\n",
    "y_predict_p2[y_predict_p2<0] = 0\n",
    "mse = mean_squared_error(np.expm1(y_predict_p2), np.expm1(target_test_ln))\n",
    "mae = mean_absolute_error(np.expm1(y_predict_p2), np.expm1(target_test_ln))\n",
    "rmse = mse ** 0.5\n",
    "print(rmse)\n",
    "print(mse)\n",
    "print(mae)"
   ]
  },
  {
   "cell_type": "code",
   "execution_count": 102,
   "metadata": {},
   "outputs": [],
   "source": [
    "df_test_part2 = df_test_3_pay_nor[['user_id','cp_server_no','cp_role_id']]\n",
    "df_test_part2['predict_30_pay'] = np.expm1(y_predict_p2) *1.86"
   ]
  },
  {
   "cell_type": "code",
   "execution_count": 103,
   "metadata": {},
   "outputs": [
    {
     "data": {
      "text/html": [
       "<div>\n",
       "<style scoped>\n",
       "    .dataframe tbody tr th:only-of-type {\n",
       "        vertical-align: middle;\n",
       "    }\n",
       "\n",
       "    .dataframe tbody tr th {\n",
       "        vertical-align: top;\n",
       "    }\n",
       "\n",
       "    .dataframe thead th {\n",
       "        text-align: right;\n",
       "    }\n",
       "</style>\n",
       "<table border=\"1\" class=\"dataframe\">\n",
       "  <thead>\n",
       "    <tr style=\"text-align: right;\">\n",
       "      <th></th>\n",
       "      <th>user_id</th>\n",
       "      <th>cp_server_no</th>\n",
       "      <th>cp_role_id</th>\n",
       "      <th>predict_30_pay</th>\n",
       "    </tr>\n",
       "  </thead>\n",
       "  <tbody>\n",
       "    <tr>\n",
       "      <th>3349191</th>\n",
       "      <td>109487986</td>\n",
       "      <td>S599</td>\n",
       "      <td>16609550</td>\n",
       "      <td>26.195469</td>\n",
       "    </tr>\n",
       "    <tr>\n",
       "      <th>1918449</th>\n",
       "      <td>105354989</td>\n",
       "      <td>660385</td>\n",
       "      <td>15224454</td>\n",
       "      <td>51.953706</td>\n",
       "    </tr>\n",
       "    <tr>\n",
       "      <th>4860234</th>\n",
       "      <td>114433736</td>\n",
       "      <td>S880</td>\n",
       "      <td>18035586</td>\n",
       "      <td>49.585515</td>\n",
       "    </tr>\n",
       "    <tr>\n",
       "      <th>218555</th>\n",
       "      <td>94993708</td>\n",
       "      <td>660058</td>\n",
       "      <td>13116479</td>\n",
       "      <td>478.095978</td>\n",
       "    </tr>\n",
       "    <tr>\n",
       "      <th>1473546</th>\n",
       "      <td>104094490</td>\n",
       "      <td>660329</td>\n",
       "      <td>14793023</td>\n",
       "      <td>40.279265</td>\n",
       "    </tr>\n",
       "  </tbody>\n",
       "</table>\n",
       "</div>"
      ],
      "text/plain": [
       "           user_id cp_server_no cp_role_id  predict_30_pay\n",
       "3349191  109487986         S599   16609550       26.195469\n",
       "1918449  105354989       660385   15224454       51.953706\n",
       "4860234  114433736         S880   18035586       49.585515\n",
       "218555    94993708       660058   13116479      478.095978\n",
       "1473546  104094490       660329   14793023       40.279265"
      ]
     },
     "execution_count": 103,
     "metadata": {},
     "output_type": "execute_result"
    }
   ],
   "source": [
    "df_test_part2.head()"
   ]
  },
  {
   "cell_type": "markdown",
   "metadata": {},
   "source": [
    "### part3"
   ]
  },
  {
   "cell_type": "code",
   "execution_count": 104,
   "metadata": {},
   "outputs": [
    {
     "name": "stdout",
     "output_type": "stream",
     "text": [
      "11856.100893558827\n",
      "140567128.3982464\n",
      "6336.793355401593\n"
     ]
    }
   ],
   "source": [
    "target_test = df_test_3_pay_r['role_created_30_pay_sum']\n",
    "target_test_ln = np.log1p(target_test)\n",
    "features_test = df_test_3_pay_r.drop(['role_created_30_pay_sum','user_id','cp_server_no','cp_role_id'], axis=1)\n",
    "y_predict_p3 = lgb_p3.predict(features_test)\n",
    "y_predict_p3[y_predict_p3<0] = 0\n",
    "mse = mean_squared_error(np.expm1(y_predict_p3), np.expm1(target_test_ln))\n",
    "mae = mean_absolute_error(np.expm1(y_predict_p3), np.expm1(target_test_ln))\n",
    "rmse = mse ** 0.5\n",
    "print(rmse)\n",
    "print(mse)\n",
    "print(mae)"
   ]
  },
  {
   "cell_type": "code",
   "execution_count": 105,
   "metadata": {},
   "outputs": [],
   "source": [
    "df_test_part3 = df_test_3_pay_r[['user_id','cp_server_no','cp_role_id']]\n",
    "df_test_part3['predict_30_pay'] = np.expm1(y_predict_p3) *1.4"
   ]
  },
  {
   "cell_type": "code",
   "execution_count": 107,
   "metadata": {},
   "outputs": [
    {
     "data": {
      "text/html": [
       "<div>\n",
       "<style scoped>\n",
       "    .dataframe tbody tr th:only-of-type {\n",
       "        vertical-align: middle;\n",
       "    }\n",
       "\n",
       "    .dataframe tbody tr th {\n",
       "        vertical-align: top;\n",
       "    }\n",
       "\n",
       "    .dataframe thead th {\n",
       "        text-align: right;\n",
       "    }\n",
       "</style>\n",
       "<table border=\"1\" class=\"dataframe\">\n",
       "  <thead>\n",
       "    <tr style=\"text-align: right;\">\n",
       "      <th></th>\n",
       "      <th>user_id</th>\n",
       "      <th>cp_server_no</th>\n",
       "      <th>cp_role_id</th>\n",
       "      <th>predict_30_pay</th>\n",
       "    </tr>\n",
       "  </thead>\n",
       "  <tbody>\n",
       "    <tr>\n",
       "      <th>1218630</th>\n",
       "      <td>103112146</td>\n",
       "      <td>660293</td>\n",
       "      <td>14544865</td>\n",
       "      <td>5036.612202</td>\n",
       "    </tr>\n",
       "    <tr>\n",
       "      <th>1084858</th>\n",
       "      <td>102392504</td>\n",
       "      <td>660268</td>\n",
       "      <td>14368473</td>\n",
       "      <td>3827.632538</td>\n",
       "    </tr>\n",
       "    <tr>\n",
       "      <th>993718</th>\n",
       "      <td>101929460</td>\n",
       "      <td>660252</td>\n",
       "      <td>14238969</td>\n",
       "      <td>6529.812984</td>\n",
       "    </tr>\n",
       "    <tr>\n",
       "      <th>3100507</th>\n",
       "      <td>108487129</td>\n",
       "      <td>S558</td>\n",
       "      <td>16370713</td>\n",
       "      <td>28485.670999</td>\n",
       "    </tr>\n",
       "    <tr>\n",
       "      <th>249642</th>\n",
       "      <td>95417144</td>\n",
       "      <td>660064</td>\n",
       "      <td>13144859</td>\n",
       "      <td>10748.477902</td>\n",
       "    </tr>\n",
       "  </tbody>\n",
       "</table>\n",
       "</div>"
      ],
      "text/plain": [
       "           user_id cp_server_no cp_role_id  predict_30_pay\n",
       "1218630  103112146       660293   14544865     5036.612202\n",
       "1084858  102392504       660268   14368473     3827.632538\n",
       "993718   101929460       660252   14238969     6529.812984\n",
       "3100507  108487129         S558   16370713    28485.670999\n",
       "249642    95417144       660064   13144859    10748.477902"
      ]
     },
     "execution_count": 107,
     "metadata": {},
     "output_type": "execute_result"
    }
   ],
   "source": [
    "df_test_part3.head()"
   ]
  },
  {
   "cell_type": "code",
   "execution_count": null,
   "metadata": {},
   "outputs": [],
   "source": []
  },
  {
   "cell_type": "code",
   "execution_count": 108,
   "metadata": {},
   "outputs": [
    {
     "name": "stdout",
     "output_type": "stream",
     "text": [
      "测试集上的均方根误差:415.38元\n",
      "测试集上的平均绝对误差:16.07元\n",
      "测试集前30天实际总的付费金额:29279442.00元\n",
      "测试集前30天预测总的付费金额:29755614.68元\n",
      "预测总金额准确率: 1.016263038007759\n"
     ]
    }
   ],
   "source": [
    "pred = df_test_part1.append(df_test_part2).append(df_test_part3).append(df_test_part4)\n",
    "predict_data = pd.merge(df_test[['user_id','cp_server_no','cp_role_id', 'role_created_30_pay_sum']],pred,on=['user_id','cp_server_no','cp_role_id'],how='left',validate='one_to_one')\n",
    "mse = mean_squared_error(predict_data['predict_30_pay'], predict_data['role_created_30_pay_sum'])\n",
    "mae = mean_absolute_error(predict_data['predict_30_pay'], predict_data['role_created_30_pay_sum'])\n",
    "rmse = mse ** 0.5\n",
    "print('测试集上的均方根误差:%.2f元'% rmse)\n",
    "# print('测试集上的均方误差:%f元' % mse)\n",
    "print('测试集上的平均绝对误差:%.2f元'% mae)\n",
    "print('测试集前30天实际总的付费金额:%.2f元' % predict_data['role_created_30_pay_sum'].sum())\n",
    "print('测试集前30天预测总的付费金额:%.2f元'% predict_data['predict_30_pay'].sum())\n",
    "print('预测总金额准确率:',predict_data['predict_30_pay'].sum()/predict_data['role_created_30_pay_sum'].sum())"
   ]
  },
  {
   "cell_type": "code",
   "execution_count": 109,
   "metadata": {},
   "outputs": [],
   "source": [
    "# 分计划\n",
    "df_source = data[['user_id','cp_server_no','cp_role_id','channel_id','source_id']]\n",
    "df_source.drop_duplicates(inplace=True)\n",
    "df_source_predict = pd.merge(predict_data,df_source,on=['user_id','cp_server_no','cp_role_id'],how='left',validate='one_to_one')\n",
    "groups = df_source_predict.groupby(['channel_id','source_id'])\n",
    "temp1 = groups['role_created_30_pay_sum'].agg([('30_pay_sum','sum')]).reset_index()\n",
    "temp2 = groups['predict_30_pay'].agg([('predict_30_pay','sum')]).reset_index()\n",
    "df_source_predict = pd.merge(temp1,temp2,on=['channel_id','source_id'],how='inner',validate='one_to_one')\n",
    "def weight_error(df):\n",
    "    df['error'] = np.abs((df['predict_30_pay']-df['30_pay_sum'])/df['30_pay_sum'])\n",
    "    df['weight'] = df['30_pay_sum'] / df['30_pay_sum'].sum()\n",
    "    df['weight_error'] = df_source_predict['weight'] * df_source_predict['error']\n",
    "    return df['weight_error'].sum()"
   ]
  },
  {
   "cell_type": "code",
   "execution_count": 110,
   "metadata": {},
   "outputs": [
    {
     "data": {
      "text/plain": [
       "0.3785480829478119"
      ]
     },
     "execution_count": 110,
     "metadata": {},
     "output_type": "execute_result"
    }
   ],
   "source": [
    "weight_error(df_source_predict)"
   ]
  },
  {
   "cell_type": "code",
   "execution_count": 111,
   "metadata": {},
   "outputs": [
    {
     "name": "stdout",
     "output_type": "stream",
     "text": [
      "0.20984174869959676\n"
     ]
    }
   ],
   "source": [
    "df_source_predict_20000 = df_source_predict[df_source_predict['30_pay_sum']>20000]\n",
    "print(weight_error(df_source_predict_20000))"
   ]
  },
  {
   "cell_type": "code",
   "execution_count": null,
   "metadata": {},
   "outputs": [],
   "source": []
  }
 ],
 "metadata": {
  "kernelspec": {
   "display_name": "Python 3",
   "language": "python",
   "name": "python3"
  },
  "language_info": {
   "codemirror_mode": {
    "name": "ipython",
    "version": 3
   },
   "file_extension": ".py",
   "mimetype": "text/x-python",
   "name": "python",
   "nbconvert_exporter": "python",
   "pygments_lexer": "ipython3",
   "version": "3.7.6"
  }
 },
 "nbformat": 4,
 "nbformat_minor": 4
}
