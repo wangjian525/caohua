{
 "cells": [
  {
   "cell_type": "code",
   "execution_count": 64,
   "metadata": {},
   "outputs": [],
   "source": [
    "import pandas as pd\n",
    "import numpy as np"
   ]
  },
  {
   "cell_type": "code",
   "execution_count": 67,
   "metadata": {},
   "outputs": [],
   "source": [
    "# device = pd.read_csv('./device.csv')\n",
    "# device_ios = pd.read_csv('./device_ios.csv')\n",
    "device = pd.read_csv('./df_device.csv')"
   ]
  },
  {
   "cell_type": "code",
   "execution_count": 66,
   "metadata": {},
   "outputs": [
    {
     "data": {
      "text/plain": [
       "5479328"
      ]
     },
     "execution_count": 66,
     "metadata": {},
     "output_type": "execute_result"
    }
   ],
   "source": [
    "# device = pd.concat([device, device_ios])\n",
    "# len(device)"
   ]
  },
  {
   "cell_type": "code",
   "execution_count": 68,
   "metadata": {},
   "outputs": [
    {
     "data": {
      "text/plain": [
       "Index(['device_no', 'game_id', 'first_active', 'active_time', 'ip', 'net_w',\n",
       "       'net_type', 'p_model', 'sdk_no', 'sys_ver'],\n",
       "      dtype='object')"
      ]
     },
     "execution_count": 68,
     "metadata": {},
     "output_type": "execute_result"
    }
   ],
   "source": [
    "device.columns"
   ]
  },
  {
   "cell_type": "code",
   "execution_count": 69,
   "metadata": {},
   "outputs": [],
   "source": [
    "# device.drop(['position'], axis=1, inplace=True)\n",
    "device.drop(['game_id'], axis=1, inplace=True)"
   ]
  },
  {
   "cell_type": "code",
   "execution_count": 70,
   "metadata": {},
   "outputs": [
    {
     "data": {
      "text/html": [
       "<div>\n",
       "<style scoped>\n",
       "    .dataframe tbody tr th:only-of-type {\n",
       "        vertical-align: middle;\n",
       "    }\n",
       "\n",
       "    .dataframe tbody tr th {\n",
       "        vertical-align: top;\n",
       "    }\n",
       "\n",
       "    .dataframe thead th {\n",
       "        text-align: right;\n",
       "    }\n",
       "</style>\n",
       "<table border=\"1\" class=\"dataframe\">\n",
       "  <thead>\n",
       "    <tr style=\"text-align: right;\">\n",
       "      <th></th>\n",
       "      <th>device_no</th>\n",
       "      <th>first_active</th>\n",
       "      <th>active_time</th>\n",
       "      <th>ip</th>\n",
       "      <th>net_w</th>\n",
       "      <th>net_type</th>\n",
       "      <th>p_model</th>\n",
       "      <th>sdk_no</th>\n",
       "      <th>sys_ver</th>\n",
       "    </tr>\n",
       "  </thead>\n",
       "  <tbody>\n",
       "    <tr>\n",
       "      <th>0</th>\n",
       "      <td>0001068D594C1C572F3010D3BAC06CE0</td>\n",
       "      <td>1</td>\n",
       "      <td>2019-08-18 14:09:04</td>\n",
       "      <td>119.39.231.165</td>\n",
       "      <td>wifi</td>\n",
       "      <td>1</td>\n",
       "      <td>V1829A</td>\n",
       "      <td>3003001</td>\n",
       "      <td>9</td>\n",
       "    </tr>\n",
       "    <tr>\n",
       "      <th>1</th>\n",
       "      <td>005CA5270C1CE672D1E62FD1AE659A45</td>\n",
       "      <td>1</td>\n",
       "      <td>2019-08-18 18:33:11</td>\n",
       "      <td>120.239.32.35</td>\n",
       "      <td>wifi</td>\n",
       "      <td>1</td>\n",
       "      <td>Redmi 5A</td>\n",
       "      <td>3000000</td>\n",
       "      <td>27</td>\n",
       "    </tr>\n",
       "    <tr>\n",
       "      <th>2</th>\n",
       "      <td>005CBE8B24EEA9DBF52059AE437515F0</td>\n",
       "      <td>1</td>\n",
       "      <td>2019-08-18 10:39:33</td>\n",
       "      <td>111.35.247.114</td>\n",
       "      <td>wifi</td>\n",
       "      <td>0</td>\n",
       "      <td>V1813T</td>\n",
       "      <td>3003001</td>\n",
       "      <td>8.1.0</td>\n",
       "    </tr>\n",
       "    <tr>\n",
       "      <th>3</th>\n",
       "      <td>00632010F55599BDE60B5022DB5FF8F2</td>\n",
       "      <td>1</td>\n",
       "      <td>2019-08-18 13:26:07</td>\n",
       "      <td>113.91.35.43</td>\n",
       "      <td>wifi</td>\n",
       "      <td>0</td>\n",
       "      <td>PADM00</td>\n",
       "      <td>1004005_0419</td>\n",
       "      <td>27</td>\n",
       "    </tr>\n",
       "    <tr>\n",
       "      <th>4</th>\n",
       "      <td>007B9A1860CAF58F574BFE2563775DDA</td>\n",
       "      <td>1</td>\n",
       "      <td>2019-08-18 10:18:05</td>\n",
       "      <td>117.136.56.164</td>\n",
       "      <td>4g</td>\n",
       "      <td>1</td>\n",
       "      <td>vivo Y66i</td>\n",
       "      <td>3003001</td>\n",
       "      <td>7.1.2</td>\n",
       "    </tr>\n",
       "  </tbody>\n",
       "</table>\n",
       "</div>"
      ],
      "text/plain": [
       "                          device_no  first_active          active_time  \\\n",
       "0  0001068D594C1C572F3010D3BAC06CE0             1  2019-08-18 14:09:04   \n",
       "1  005CA5270C1CE672D1E62FD1AE659A45             1  2019-08-18 18:33:11   \n",
       "2  005CBE8B24EEA9DBF52059AE437515F0             1  2019-08-18 10:39:33   \n",
       "3  00632010F55599BDE60B5022DB5FF8F2             1  2019-08-18 13:26:07   \n",
       "4  007B9A1860CAF58F574BFE2563775DDA             1  2019-08-18 10:18:05   \n",
       "\n",
       "               ip net_w  net_type    p_model        sdk_no sys_ver  \n",
       "0  119.39.231.165  wifi         1     V1829A       3003001       9  \n",
       "1   120.239.32.35  wifi         1   Redmi 5A       3000000      27  \n",
       "2  111.35.247.114  wifi         0     V1813T       3003001   8.1.0  \n",
       "3    113.91.35.43  wifi         0     PADM00  1004005_0419      27  \n",
       "4  117.136.56.164    4g         1  vivo Y66i       3003001   7.1.2  "
      ]
     },
     "execution_count": 70,
     "metadata": {},
     "output_type": "execute_result"
    }
   ],
   "source": [
    "device.head()"
   ]
  },
  {
   "cell_type": "code",
   "execution_count": 10,
   "metadata": {},
   "outputs": [
    {
     "data": {
      "text/plain": [
       "1    5192952\n",
       "0     286376\n",
       "Name: first_active, dtype: int64"
      ]
     },
     "execution_count": 10,
     "metadata": {},
     "output_type": "execute_result"
    }
   ],
   "source": [
    "# device['first_active'].value_counts()"
   ]
  },
  {
   "cell_type": "code",
   "execution_count": 11,
   "metadata": {},
   "outputs": [
    {
     "data": {
      "text/plain": [
       "5426019"
      ]
     },
     "execution_count": 11,
     "metadata": {},
     "output_type": "execute_result"
    }
   ],
   "source": [
    "# device['device_no'].nunique()"
   ]
  },
  {
   "cell_type": "code",
   "execution_count": 36,
   "metadata": {},
   "outputs": [],
   "source": [
    "# device.sort_values(by='active_time', inplace=True)\n",
    "# device.drop_duplicates(['device_no'], keep='last', inplace=True)"
   ]
  },
  {
   "cell_type": "code",
   "execution_count": 12,
   "metadata": {},
   "outputs": [],
   "source": [
    "user_info = pd.read_csv('./user_info.csv')"
   ]
  },
  {
   "cell_type": "code",
   "execution_count": 13,
   "metadata": {},
   "outputs": [
    {
     "data": {
      "text/plain": [
       "Index(['user_id', 'user_name', 'user_flag', 'mobile', 'game_pay_num',\n",
       "       'device_no', 'platform', 'reg_date', 'first_pay_time',\n",
       "       'first_login_time', 'last_pay_time', 'last_login_time',\n",
       "       'sdk_vip_level'],\n",
       "      dtype='object')"
      ]
     },
     "execution_count": 13,
     "metadata": {},
     "output_type": "execute_result"
    }
   ],
   "source": [
    "user_info.columns"
   ]
  },
  {
   "cell_type": "code",
   "execution_count": 17,
   "metadata": {},
   "outputs": [],
   "source": [
    "user_info.drop(['user_name', 'mobile'], axis=1, inplace=True)"
   ]
  },
  {
   "cell_type": "code",
   "execution_count": 15,
   "metadata": {},
   "outputs": [
    {
     "data": {
      "text/plain": [
       "113252349    1\n",
       "101457391    1\n",
       "103256487    1\n",
       "110137247    1\n",
       "107465132    1\n",
       "            ..\n",
       "112544771    1\n",
       "112871042    1\n",
       "108356614    1\n",
       "104164359    1\n",
       "113248257    1\n",
       "Name: user_id, Length: 5092783, dtype: int64"
      ]
     },
     "execution_count": 15,
     "metadata": {},
     "output_type": "execute_result"
    }
   ],
   "source": [
    "user_info['user_id'].value_counts()"
   ]
  },
  {
   "cell_type": "code",
   "execution_count": 20,
   "metadata": {},
   "outputs": [],
   "source": [
    "pay_user = pd.read_csv('./pay_user.csv')"
   ]
  },
  {
   "cell_type": "code",
   "execution_count": 21,
   "metadata": {},
   "outputs": [],
   "source": [
    "user_info_pay = pd.merge(user_info, pay_user, on='user_id', how='left')"
   ]
  },
  {
   "cell_type": "code",
   "execution_count": 22,
   "metadata": {},
   "outputs": [
    {
     "data": {
      "text/plain": [
       "Index(['user_id', 'user_flag', 'game_pay_num', 'device_no', 'platform',\n",
       "       'reg_date', 'first_pay_time', 'first_login_time', 'last_pay_time',\n",
       "       'last_login_time', 'sdk_vip_level', 'ispay'],\n",
       "      dtype='object')"
      ]
     },
     "execution_count": 22,
     "metadata": {},
     "output_type": "execute_result"
    }
   ],
   "source": [
    "user_info_pay.columns"
   ]
  },
  {
   "cell_type": "code",
   "execution_count": 25,
   "metadata": {},
   "outputs": [
    {
     "data": {
      "text/plain": [
       "4966436"
      ]
     },
     "execution_count": 25,
     "metadata": {},
     "output_type": "execute_result"
    }
   ],
   "source": [
    "user_info_pay['ispay'].isna().sum()"
   ]
  },
  {
   "cell_type": "code",
   "execution_count": 29,
   "metadata": {},
   "outputs": [
    {
     "data": {
      "text/plain": [
       "0.0    4966436\n",
       "1.0     126347\n",
       "Name: ispay, dtype: int64"
      ]
     },
     "execution_count": 29,
     "metadata": {},
     "output_type": "execute_result"
    }
   ],
   "source": [
    "user_info_pay['ispay'].fillna(0, inplace=True)\n",
    "user_info_pay['ispay'].value_counts()   # 部分有付费的用户，在user_info中没有记录"
   ]
  },
  {
   "cell_type": "code",
   "execution_count": 30,
   "metadata": {
    "scrolled": true
   },
   "outputs": [
    {
     "data": {
      "text/html": [
       "<div>\n",
       "<style scoped>\n",
       "    .dataframe tbody tr th:only-of-type {\n",
       "        vertical-align: middle;\n",
       "    }\n",
       "\n",
       "    .dataframe tbody tr th {\n",
       "        vertical-align: top;\n",
       "    }\n",
       "\n",
       "    .dataframe thead th {\n",
       "        text-align: right;\n",
       "    }\n",
       "</style>\n",
       "<table border=\"1\" class=\"dataframe\">\n",
       "  <thead>\n",
       "    <tr style=\"text-align: right;\">\n",
       "      <th></th>\n",
       "      <th>user_id</th>\n",
       "      <th>user_flag</th>\n",
       "      <th>game_pay_num</th>\n",
       "      <th>device_no</th>\n",
       "      <th>platform</th>\n",
       "      <th>reg_date</th>\n",
       "      <th>first_pay_time</th>\n",
       "      <th>first_login_time</th>\n",
       "      <th>last_pay_time</th>\n",
       "      <th>last_login_time</th>\n",
       "      <th>sdk_vip_level</th>\n",
       "      <th>ispay</th>\n",
       "    </tr>\n",
       "  </thead>\n",
       "  <tbody>\n",
       "    <tr>\n",
       "      <th>0</th>\n",
       "      <td>95547136</td>\n",
       "      <td>1</td>\n",
       "      <td>0</td>\n",
       "      <td>3845940267E1FFAE91DB0E77F143A257</td>\n",
       "      <td>1</td>\n",
       "      <td>8/10/2019 11:20:19</td>\n",
       "      <td>1/1/1000 00:00:00</td>\n",
       "      <td>8/10/2019 11:20:21</td>\n",
       "      <td>1/1/1000 00:00:00</td>\n",
       "      <td>8/10/2019 11:21:39</td>\n",
       "      <td>NaN</td>\n",
       "      <td>0.0</td>\n",
       "    </tr>\n",
       "    <tr>\n",
       "      <th>1</th>\n",
       "      <td>96318464</td>\n",
       "      <td>1</td>\n",
       "      <td>0</td>\n",
       "      <td>6DAAD89AED393A8FCE0FB628A63E65B7</td>\n",
       "      <td>1</td>\n",
       "      <td>22/10/2019 15:49:17</td>\n",
       "      <td>1/1/1000 00:00:00</td>\n",
       "      <td>22/10/2019 15:50:13</td>\n",
       "      <td>1/1/1000 00:00:00</td>\n",
       "      <td>11/6/2020 21:42:49</td>\n",
       "      <td>NaN</td>\n",
       "      <td>0.0</td>\n",
       "    </tr>\n",
       "    <tr>\n",
       "      <th>2</th>\n",
       "      <td>96353024</td>\n",
       "      <td>1</td>\n",
       "      <td>0</td>\n",
       "      <td>1A617CFF7F3BC292556BA450E69520A3</td>\n",
       "      <td>1</td>\n",
       "      <td>23/10/2019 14:10:27</td>\n",
       "      <td>1/1/1000 00:00:00</td>\n",
       "      <td>23/10/2019 14:11:19</td>\n",
       "      <td>1/1/1000 00:00:00</td>\n",
       "      <td>9/11/2019 09:40:02</td>\n",
       "      <td>NaN</td>\n",
       "      <td>0.0</td>\n",
       "    </tr>\n",
       "    <tr>\n",
       "      <th>3</th>\n",
       "      <td>96389760</td>\n",
       "      <td>1</td>\n",
       "      <td>0</td>\n",
       "      <td>3FDB6BC0CBCD783BB4A2031B9387D024</td>\n",
       "      <td>1</td>\n",
       "      <td>24/10/2019 11:18:47</td>\n",
       "      <td>1/1/1000 00:00:00</td>\n",
       "      <td>24/10/2019 11:20:53</td>\n",
       "      <td>1/1/1000 00:00:00</td>\n",
       "      <td>31/10/2019 09:51:12</td>\n",
       "      <td>NaN</td>\n",
       "      <td>0.0</td>\n",
       "    </tr>\n",
       "    <tr>\n",
       "      <th>4</th>\n",
       "      <td>96432384</td>\n",
       "      <td>1</td>\n",
       "      <td>0</td>\n",
       "      <td>7E7A203DB75A6CA50AF4EDCFE37D49B8</td>\n",
       "      <td>1</td>\n",
       "      <td>25/10/2019 12:38:55</td>\n",
       "      <td>1/1/1000 00:00:00</td>\n",
       "      <td>25/10/2019 12:38:59</td>\n",
       "      <td>1/1/1000 00:00:00</td>\n",
       "      <td>28/10/2019 12:27:29</td>\n",
       "      <td>NaN</td>\n",
       "      <td>0.0</td>\n",
       "    </tr>\n",
       "  </tbody>\n",
       "</table>\n",
       "</div>"
      ],
      "text/plain": [
       "    user_id  user_flag  game_pay_num                         device_no  \\\n",
       "0  95547136          1             0  3845940267E1FFAE91DB0E77F143A257   \n",
       "1  96318464          1             0  6DAAD89AED393A8FCE0FB628A63E65B7   \n",
       "2  96353024          1             0  1A617CFF7F3BC292556BA450E69520A3   \n",
       "3  96389760          1             0  3FDB6BC0CBCD783BB4A2031B9387D024   \n",
       "4  96432384          1             0  7E7A203DB75A6CA50AF4EDCFE37D49B8   \n",
       "\n",
       "   platform             reg_date     first_pay_time     first_login_time  \\\n",
       "0         1   8/10/2019 11:20:19  1/1/1000 00:00:00   8/10/2019 11:20:21   \n",
       "1         1  22/10/2019 15:49:17  1/1/1000 00:00:00  22/10/2019 15:50:13   \n",
       "2         1  23/10/2019 14:10:27  1/1/1000 00:00:00  23/10/2019 14:11:19   \n",
       "3         1  24/10/2019 11:18:47  1/1/1000 00:00:00  24/10/2019 11:20:53   \n",
       "4         1  25/10/2019 12:38:55  1/1/1000 00:00:00  25/10/2019 12:38:59   \n",
       "\n",
       "       last_pay_time      last_login_time  sdk_vip_level  ispay  \n",
       "0  1/1/1000 00:00:00   8/10/2019 11:21:39            NaN    0.0  \n",
       "1  1/1/1000 00:00:00   11/6/2020 21:42:49            NaN    0.0  \n",
       "2  1/1/1000 00:00:00   9/11/2019 09:40:02            NaN    0.0  \n",
       "3  1/1/1000 00:00:00  31/10/2019 09:51:12            NaN    0.0  \n",
       "4  1/1/1000 00:00:00  28/10/2019 12:27:29            NaN    0.0  "
      ]
     },
     "execution_count": 30,
     "metadata": {},
     "output_type": "execute_result"
    }
   ],
   "source": [
    "user_info_pay.head()"
   ]
  },
  {
   "cell_type": "code",
   "execution_count": 33,
   "metadata": {},
   "outputs": [
    {
     "data": {
      "text/plain": [
       "0.0     4994342\n",
       "1.0       23426\n",
       "3.0       21743\n",
       "4.0       17597\n",
       "2.0       16336\n",
       "5.0       12124\n",
       "6.0        4878\n",
       "7.0        1842\n",
       "8.0         392\n",
       "9.0          86\n",
       "10.0         17\n",
       "Name: sdk_vip_level, dtype: int64"
      ]
     },
     "execution_count": 33,
     "metadata": {},
     "output_type": "execute_result"
    }
   ],
   "source": [
    "user_info_pay['sdk_vip_level'].fillna(0, inplace=True)\n",
    "user_info_pay['sdk_vip_level'].value_counts()"
   ]
  },
  {
   "cell_type": "code",
   "execution_count": 40,
   "metadata": {},
   "outputs": [
    {
     "data": {
      "text/plain": [
       "(5092783, 12)"
      ]
     },
     "execution_count": 40,
     "metadata": {},
     "output_type": "execute_result"
    }
   ],
   "source": [
    "user_info_pay.shape"
   ]
  },
  {
   "cell_type": "code",
   "execution_count": 41,
   "metadata": {},
   "outputs": [],
   "source": [
    "user_df = pd.merge(user_info_pay, device, on='device_no', how='left')"
   ]
  },
  {
   "cell_type": "code",
   "execution_count": 43,
   "metadata": {
    "scrolled": true
   },
   "outputs": [
    {
     "data": {
      "text/html": [
       "<div>\n",
       "<style scoped>\n",
       "    .dataframe tbody tr th:only-of-type {\n",
       "        vertical-align: middle;\n",
       "    }\n",
       "\n",
       "    .dataframe tbody tr th {\n",
       "        vertical-align: top;\n",
       "    }\n",
       "\n",
       "    .dataframe thead th {\n",
       "        text-align: right;\n",
       "    }\n",
       "</style>\n",
       "<table border=\"1\" class=\"dataframe\">\n",
       "  <thead>\n",
       "    <tr style=\"text-align: right;\">\n",
       "      <th></th>\n",
       "      <th>user_id</th>\n",
       "      <th>user_flag</th>\n",
       "      <th>game_pay_num</th>\n",
       "      <th>device_no</th>\n",
       "      <th>platform</th>\n",
       "      <th>reg_date</th>\n",
       "      <th>first_pay_time</th>\n",
       "      <th>first_login_time</th>\n",
       "      <th>last_pay_time</th>\n",
       "      <th>last_login_time</th>\n",
       "      <th>sdk_vip_level</th>\n",
       "      <th>ispay</th>\n",
       "      <th>p_model</th>\n",
       "      <th>ip</th>\n",
       "      <th>active_time</th>\n",
       "      <th>sys_ver</th>\n",
       "      <th>first_active</th>\n",
       "    </tr>\n",
       "  </thead>\n",
       "  <tbody>\n",
       "    <tr>\n",
       "      <th>0</th>\n",
       "      <td>95547136</td>\n",
       "      <td>1</td>\n",
       "      <td>0</td>\n",
       "      <td>3845940267E1FFAE91DB0E77F143A257</td>\n",
       "      <td>1</td>\n",
       "      <td>8/10/2019 11:20:19</td>\n",
       "      <td>1/1/1000 00:00:00</td>\n",
       "      <td>8/10/2019 11:20:21</td>\n",
       "      <td>1/1/1000 00:00:00</td>\n",
       "      <td>8/10/2019 11:21:39</td>\n",
       "      <td>0.0</td>\n",
       "      <td>0.0</td>\n",
       "      <td>LYA-AL00</td>\n",
       "      <td>111.194.44.171</td>\n",
       "      <td>30/9/2019 17:16:13</td>\n",
       "      <td>9</td>\n",
       "      <td>0.0</td>\n",
       "    </tr>\n",
       "    <tr>\n",
       "      <th>1</th>\n",
       "      <td>96318464</td>\n",
       "      <td>1</td>\n",
       "      <td>0</td>\n",
       "      <td>6DAAD89AED393A8FCE0FB628A63E65B7</td>\n",
       "      <td>1</td>\n",
       "      <td>22/10/2019 15:49:17</td>\n",
       "      <td>1/1/1000 00:00:00</td>\n",
       "      <td>22/10/2019 15:50:13</td>\n",
       "      <td>1/1/1000 00:00:00</td>\n",
       "      <td>11/6/2020 21:42:49</td>\n",
       "      <td>0.0</td>\n",
       "      <td>0.0</td>\n",
       "      <td>MI MAX 3</td>\n",
       "      <td>111.17.128.111</td>\n",
       "      <td>22/10/2019 12:51:52</td>\n",
       "      <td>9</td>\n",
       "      <td>1.0</td>\n",
       "    </tr>\n",
       "    <tr>\n",
       "      <th>2</th>\n",
       "      <td>96353024</td>\n",
       "      <td>1</td>\n",
       "      <td>0</td>\n",
       "      <td>1A617CFF7F3BC292556BA450E69520A3</td>\n",
       "      <td>1</td>\n",
       "      <td>23/10/2019 14:10:27</td>\n",
       "      <td>1/1/1000 00:00:00</td>\n",
       "      <td>23/10/2019 14:11:19</td>\n",
       "      <td>1/1/1000 00:00:00</td>\n",
       "      <td>9/11/2019 09:40:02</td>\n",
       "      <td>0.0</td>\n",
       "      <td>0.0</td>\n",
       "      <td>JSN-AL00a</td>\n",
       "      <td>223.64.222.39</td>\n",
       "      <td>29/10/2019 17:06:44</td>\n",
       "      <td>28</td>\n",
       "      <td>0.0</td>\n",
       "    </tr>\n",
       "    <tr>\n",
       "      <th>3</th>\n",
       "      <td>96389760</td>\n",
       "      <td>1</td>\n",
       "      <td>0</td>\n",
       "      <td>3FDB6BC0CBCD783BB4A2031B9387D024</td>\n",
       "      <td>1</td>\n",
       "      <td>24/10/2019 11:18:47</td>\n",
       "      <td>1/1/1000 00:00:00</td>\n",
       "      <td>24/10/2019 11:20:53</td>\n",
       "      <td>1/1/1000 00:00:00</td>\n",
       "      <td>31/10/2019 09:51:12</td>\n",
       "      <td>0.0</td>\n",
       "      <td>0.0</td>\n",
       "      <td>hm 1s</td>\n",
       "      <td>117.188.21.87</td>\n",
       "      <td>9/10/2019 21:51:43</td>\n",
       "      <td>5.1.1</td>\n",
       "      <td>1.0</td>\n",
       "    </tr>\n",
       "    <tr>\n",
       "      <th>4</th>\n",
       "      <td>96432384</td>\n",
       "      <td>1</td>\n",
       "      <td>0</td>\n",
       "      <td>7E7A203DB75A6CA50AF4EDCFE37D49B8</td>\n",
       "      <td>1</td>\n",
       "      <td>25/10/2019 12:38:55</td>\n",
       "      <td>1/1/1000 00:00:00</td>\n",
       "      <td>25/10/2019 12:38:59</td>\n",
       "      <td>1/1/1000 00:00:00</td>\n",
       "      <td>28/10/2019 12:27:29</td>\n",
       "      <td>0.0</td>\n",
       "      <td>0.0</td>\n",
       "      <td>V1911A</td>\n",
       "      <td>112.97.244.77</td>\n",
       "      <td>24/10/2019 22:53:37</td>\n",
       "      <td>9</td>\n",
       "      <td>0.0</td>\n",
       "    </tr>\n",
       "  </tbody>\n",
       "</table>\n",
       "</div>"
      ],
      "text/plain": [
       "    user_id  user_flag  game_pay_num                         device_no  \\\n",
       "0  95547136          1             0  3845940267E1FFAE91DB0E77F143A257   \n",
       "1  96318464          1             0  6DAAD89AED393A8FCE0FB628A63E65B7   \n",
       "2  96353024          1             0  1A617CFF7F3BC292556BA450E69520A3   \n",
       "3  96389760          1             0  3FDB6BC0CBCD783BB4A2031B9387D024   \n",
       "4  96432384          1             0  7E7A203DB75A6CA50AF4EDCFE37D49B8   \n",
       "\n",
       "   platform             reg_date     first_pay_time     first_login_time  \\\n",
       "0         1   8/10/2019 11:20:19  1/1/1000 00:00:00   8/10/2019 11:20:21   \n",
       "1         1  22/10/2019 15:49:17  1/1/1000 00:00:00  22/10/2019 15:50:13   \n",
       "2         1  23/10/2019 14:10:27  1/1/1000 00:00:00  23/10/2019 14:11:19   \n",
       "3         1  24/10/2019 11:18:47  1/1/1000 00:00:00  24/10/2019 11:20:53   \n",
       "4         1  25/10/2019 12:38:55  1/1/1000 00:00:00  25/10/2019 12:38:59   \n",
       "\n",
       "       last_pay_time      last_login_time  sdk_vip_level  ispay    p_model  \\\n",
       "0  1/1/1000 00:00:00   8/10/2019 11:21:39            0.0    0.0   LYA-AL00   \n",
       "1  1/1/1000 00:00:00   11/6/2020 21:42:49            0.0    0.0   MI MAX 3   \n",
       "2  1/1/1000 00:00:00   9/11/2019 09:40:02            0.0    0.0  JSN-AL00a   \n",
       "3  1/1/1000 00:00:00  31/10/2019 09:51:12            0.0    0.0      hm 1s   \n",
       "4  1/1/1000 00:00:00  28/10/2019 12:27:29            0.0    0.0     V1911A   \n",
       "\n",
       "               ip          active_time sys_ver  first_active  \n",
       "0  111.194.44.171   30/9/2019 17:16:13       9           0.0  \n",
       "1  111.17.128.111  22/10/2019 12:51:52       9           1.0  \n",
       "2   223.64.222.39  29/10/2019 17:06:44      28           0.0  \n",
       "3   117.188.21.87   9/10/2019 21:51:43   5.1.1           1.0  \n",
       "4   112.97.244.77  24/10/2019 22:53:37       9           0.0  "
      ]
     },
     "execution_count": 43,
     "metadata": {},
     "output_type": "execute_result"
    }
   ],
   "source": [
    "user_df.head()"
   ]
  },
  {
   "cell_type": "code",
   "execution_count": 57,
   "metadata": {},
   "outputs": [
    {
     "data": {
      "text/plain": [
       "0       4963885\n",
       "1         42280\n",
       "2         15552\n",
       "3         10479\n",
       "4          7775\n",
       "         ...   \n",
       "318           1\n",
       "315           1\n",
       "312           1\n",
       "308           1\n",
       "1124          1\n",
       "Name: game_pay_num, Length: 389, dtype: int64"
      ]
     },
     "execution_count": 57,
     "metadata": {},
     "output_type": "execute_result"
    }
   ],
   "source": [
    "user_df['game_pay_num'].value_counts()"
   ]
  },
  {
   "cell_type": "code",
   "execution_count": 44,
   "metadata": {},
   "outputs": [],
   "source": [
    "user_df.to_csv('./user_df.csv', index=False)"
   ]
  },
  {
   "cell_type": "code",
   "execution_count": 60,
   "metadata": {},
   "outputs": [],
   "source": [
    "# 增加用户玩过的游戏数u\n",
    "play_game_num = pd.read_csv('./device_game_num.csv')\n",
    "matrix = pd.merge(user_df, play_game_num, on='device_no', how='left')\n",
    "# print(matrix.shape)\n",
    "print(matrix.head())"
   ]
  },
  {
   "cell_type": "code",
   "execution_count": 63,
   "metadata": {},
   "outputs": [
    {
     "name": "stdout",
     "output_type": "stream",
     "text": [
      "    user_id  user_flag  game_pay_num                         device_no  \\\n",
      "0  95547136          1             0  3845940267E1FFAE91DB0E77F143A257   \n",
      "1  96318464          1             0  6DAAD89AED393A8FCE0FB628A63E65B7   \n",
      "2  96353024          1             0  1A617CFF7F3BC292556BA450E69520A3   \n",
      "3  96389760          1             0  3FDB6BC0CBCD783BB4A2031B9387D024   \n",
      "4  96432384          1             0  7E7A203DB75A6CA50AF4EDCFE37D49B8   \n",
      "\n",
      "   platform             reg_date     first_pay_time     first_login_time  \\\n",
      "0         1   8/10/2019 11:20:19  1/1/1000 00:00:00   8/10/2019 11:20:21   \n",
      "1         1  22/10/2019 15:49:17  1/1/1000 00:00:00  22/10/2019 15:50:13   \n",
      "2         1  23/10/2019 14:10:27  1/1/1000 00:00:00  23/10/2019 14:11:19   \n",
      "3         1  24/10/2019 11:18:47  1/1/1000 00:00:00  24/10/2019 11:20:53   \n",
      "4         1  25/10/2019 12:38:55  1/1/1000 00:00:00  25/10/2019 12:38:59   \n",
      "\n",
      "       last_pay_time      last_login_time  sdk_vip_level  ispay    p_model  \\\n",
      "0  1/1/1000 00:00:00   8/10/2019 11:21:39            0.0    0.0   LYA-AL00   \n",
      "1  1/1/1000 00:00:00   11/6/2020 21:42:49            0.0    0.0   MI MAX 3   \n",
      "2  1/1/1000 00:00:00   9/11/2019 09:40:02            0.0    0.0  JSN-AL00a   \n",
      "3  1/1/1000 00:00:00  31/10/2019 09:51:12            0.0    0.0      hm 1s   \n",
      "4  1/1/1000 00:00:00  28/10/2019 12:27:29            0.0    0.0     V1911A   \n",
      "\n",
      "               ip          active_time sys_ver  first_active  play_game_num  \n",
      "0  111.194.44.171   30/9/2019 17:16:13       9           0.0            2.0  \n",
      "1  111.17.128.111  22/10/2019 12:51:52       9           1.0            1.0  \n",
      "2   223.64.222.39  29/10/2019 17:06:44      28           0.0            2.0  \n",
      "3   117.188.21.87   9/10/2019 21:51:43   5.1.1           1.0            1.0  \n",
      "4   112.97.244.77  24/10/2019 22:53:37       9           0.0            2.0  \n"
     ]
    }
   ],
   "source": [
    "print(matrix.head())"
   ]
  },
  {
   "cell_type": "code",
   "execution_count": null,
   "metadata": {},
   "outputs": [],
   "source": []
  }
 ],
 "metadata": {
  "kernelspec": {
   "display_name": "Python 3",
   "language": "python",
   "name": "python3"
  },
  "language_info": {
   "codemirror_mode": {
    "name": "ipython",
    "version": 3
   },
   "file_extension": ".py",
   "mimetype": "text/x-python",
   "name": "python",
   "nbconvert_exporter": "python",
   "pygments_lexer": "ipython3",
   "version": "3.7.6"
  }
 },
 "nbformat": 4,
 "nbformat_minor": 4
}
