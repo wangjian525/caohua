{
 "cells": [
  {
   "cell_type": "code",
   "execution_count": 2,
   "metadata": {},
   "outputs": [],
   "source": [
    "import pandas as pd\n",
    "import numpy as np"
   ]
  },
  {
   "cell_type": "code",
   "execution_count": 3,
   "metadata": {},
   "outputs": [
    {
     "name": "stderr",
     "output_type": "stream",
     "text": [
      "C:\\Users\\Administrator\\anaconda3\\lib\\site-packages\\IPython\\core\\interactiveshell.py:3063: DtypeWarning: Columns (29,43) have mixed types.Specify dtype option on import or set low_memory=False.\n  interactivity=interactivity, compiler=compiler, result=result)\nC:\\Users\\Administrator\\anaconda3\\lib\\site-packages\\numpy\\lib\\arraysetops.py:569: FutureWarning: elementwise comparison failed; returning scalar instead, but in the future will perform elementwise comparison\n  mask |= (ar1 == a)\n"
     ]
    }
   ],
   "source": [
    "data = pd.read_csv('./data.csv', index_col=0)"
   ]
  },
  {
   "cell_type": "code",
   "execution_count": 4,
   "metadata": {},
   "outputs": [
    {
     "name": "stdout",
     "output_type": "stream",
     "text": [
      "6138825\n"
     ]
    }
   ],
   "source": [
    "print(len(data))"
   ]
  },
  {
   "cell_type": "code",
   "execution_count": 5,
   "metadata": {},
   "outputs": [],
   "source": [
    "data['isios'] = data['isios'].fillna('99')\n",
    "# na_list = data[(data.isios=='99')].index.tolist()\n",
    "# data_pay = data.drop(na_list)\n",
    "data['isios'] = data['isios'].map(lambda x:0 if x =='99' else 1)"
   ]
  },
  {
   "cell_type": "code",
   "execution_count": 6,
   "metadata": {},
   "outputs": [
    {
     "name": "stdout",
     "output_type": "stream",
     "text": [
      "0    4919398\n1    1219427\nName: isios, dtype: int64\n"
     ]
    }
   ],
   "source": [
    "# print(data.head())\n",
    "print(data['isios'].value_counts())\n",
    "data.rename(columns={'isios':'ispay'}, inplace=True)"
   ]
  },
  {
   "cell_type": "code",
   "execution_count": 7,
   "metadata": {},
   "outputs": [
    {
     "data": {
      "text/plain": [
       "Index(['user_id', 'user_flag', 'game_pay_num', 'device_no_x', 'platform',\n       'reg_date', 'first_pay_time', 'first_login_time', 'last_pay_time',\n       'last_login_time', 'sdk_vip_level', 'p_model', 'ip', 'active_time',\n       'sys_ver', 'first_active', 'order_no', 'game_id', 'channel_id',\n       'source_id', 'server_id', 'role_id', 'pay_type', 'money', 'give_money',\n       'rmb_money', 'ch_money', 'coupon_money', 'coupon_code', 'coupon_type',\n       'd_discount', 'd_money', 's_discount', 's_money', 'pay_count',\n       'role_pay_count', 'role_level', 'device_no_y', 'status', 'pay_time',\n       'post_time', 'active_pay_count', 'role_name', 'dt', 'ispay'],\n      dtype='object')"
      ]
     },
     "execution_count": 7,
     "metadata": {},
     "output_type": "execute_result"
    }
   ],
   "source": [
    "data.columns"
   ]
  },
  {
   "cell_type": "code",
   "execution_count": null,
   "metadata": {},
   "outputs": [],
   "source": []
  },
  {
   "cell_type": "code",
   "execution_count": 8,
   "metadata": {},
   "outputs": [],
   "source": [
    "data_info = data.drop(['order_no', 'game_id', 'channel_id',\n",
    "       'source_id', 'server_id', 'role_id', 'pay_type', 'money', 'give_money',\n",
    "       'rmb_money', 'ch_money', 'coupon_money', 'coupon_code', 'coupon_type',\n",
    "       'd_discount', 'd_money', 's_discount', 's_money', 'pay_count',\n",
    "       'role_pay_count', 'role_level', 'device_no_y', 'status', 'pay_time',\n",
    "       'post_time', 'active_pay_count', 'role_name', 'dt'], axis=1)"
   ]
  },
  {
   "cell_type": "code",
   "execution_count": 9,
   "metadata": {},
   "outputs": [
    {
     "data": {
      "text/plain": [
       "Index(['user_id', 'user_flag', 'game_pay_num', 'device_no_x', 'platform',\n       'reg_date', 'first_pay_time', 'first_login_time', 'last_pay_time',\n       'last_login_time', 'sdk_vip_level', 'p_model', 'ip', 'active_time',\n       'sys_ver', 'first_active', 'ispay'],\n      dtype='object')"
      ]
     },
     "execution_count": 9,
     "metadata": {},
     "output_type": "execute_result"
    }
   ],
   "source": [
    "data_info.columns"
   ]
  },
  {
   "cell_type": "code",
   "execution_count": 10,
   "metadata": {},
   "outputs": [
    {
     "data": {
      "text/plain": [
       "0    4919398\n1    1219427\nName: ispay, dtype: int64"
      ]
     },
     "execution_count": 10,
     "metadata": {},
     "output_type": "execute_result"
    }
   ],
   "source": [
    "data_info['ispay'].value_counts()"
   ]
  },
  {
   "cell_type": "code",
   "execution_count": 11,
   "metadata": {},
   "outputs": [
    {
     "data": {
      "text/plain": [
       "0           111.194.44.171\n1           111.194.44.234\n2           111.194.44.171\n3           111.194.44.234\n4           111.194.44.171\n                ...       \n6138820    182.132.140.205\n6138821    113.110.217.116\n6138822     120.231.181.71\n6138823    120.197.197.107\n6138824      117.136.23.52\nName: ip, Length: 6138825, dtype: object"
      ]
     },
     "execution_count": 11,
     "metadata": {},
     "output_type": "execute_result"
    }
   ],
   "source": [
    "data_info['ip']"
   ]
  },
  {
   "cell_type": "code",
   "execution_count": 12,
   "metadata": {},
   "outputs": [
    {
     "data": {
      "text/plain": [
       "0"
      ]
     },
     "execution_count": 12,
     "metadata": {},
     "output_type": "execute_result"
    }
   ],
   "source": [
    "data_info['ip'].isna().sum()"
   ]
  },
  {
   "cell_type": "code",
   "execution_count": 15,
   "metadata": {},
   "outputs": [],
   "source": [
    "import geoip2.database\n",
    "\n",
    "\n",
    "def getLoc(ip):\n",
    "    # 传入下载的数据的地址\n",
    "    reader = geoip2.database.Reader(\"./GeoLite2-City.mmdb\")\n",
    "    data = reader.city(ip)\n",
    "    # print(\"ip地址：\", ip)\n",
    "    # names['zh-CN']即可转换为中文\n",
    "    # print(\"国家: \", data.country.names['zh-CN'])  \n",
    "    # print(\"省份: \", data.subdivisions.most_specific.names['zh-CN'])\n",
    "    # print(\"城市: \", data.city.names['zh-CN'])\n",
    "    # print(\"纬度: \", data.location.latitude)\n",
    "    # print(\"经度: \", data.location.longitude)\n",
    "    result = data.city.names['zh-CN']\n",
    "    \n",
    "    return result\n"
   ]
  },
  {
   "cell_type": "code",
   "execution_count": 21,
   "metadata": {},
   "outputs": [
    {
     "name": "stdout",
     "output_type": "stream",
     "text": [
      "['111.194.44.171', '111.194.44.234', '111.194.44.171', '111.194.44.234', '111.194.44.171', '111.194.44.234', '111.194.44.171', '111.194.44.234', '111.194.44.171', '111.194.44.234', '111.194.44.171', '111.194.44.234', '111.194.44.171', '111.194.44.234', '111.194.44.171', '111.194.44.234', '111.194.44.171', '111.194.44.234', '111.194.44.171', '111.194.44.234']\n['北京', '北京', '北京', '北京', '北京', '北京', '北京', '北京', '北京', '北京', '北京', '北京', '北京', '北京', '北京', '北京', '北京', '北京', '北京', '北京']\n"
     ]
    }
   ],
   "source": [
    "ip_list = []\n",
    "for data in data_info['ip'].values[0:20]:\n",
    "    # print(data)\n",
    "    ip_list.append(data)\n",
    "print(ip_list)\n",
    "city_list = []\n",
    "for ip in ip_list:\n",
    "    city = getLoc(ip)\n",
    "    city_list.append(city)\n",
    "print(city_list)"
   ]
  },
  {
   "cell_type": "code",
   "execution_count": 36,
   "metadata": {},
   "outputs": [
    {
     "ename": "KeyError",
     "evalue": "'zh-CN'",
     "traceback": [
      "\u001b[1;31m---------------------------------------------------------------------------\u001b[0m",
      "\u001b[1;31mKeyError\u001b[0m                                  Traceback (most recent call last)",
      "\u001b[1;32m<ipython-input-36-4c70a4a8339b>\u001b[0m in \u001b[0;36m<module>\u001b[1;34m\u001b[0m\n\u001b[0;32m      6\u001b[0m \u001b[0mcity_list\u001b[0m \u001b[1;33m=\u001b[0m \u001b[1;33m[\u001b[0m\u001b[1;33m]\u001b[0m\u001b[1;33m\u001b[0m\u001b[1;33m\u001b[0m\u001b[0m\n\u001b[0;32m      7\u001b[0m \u001b[1;32mfor\u001b[0m \u001b[0mip\u001b[0m \u001b[1;32min\u001b[0m \u001b[0mip_list\u001b[0m\u001b[1;33m:\u001b[0m\u001b[1;33m\u001b[0m\u001b[1;33m\u001b[0m\u001b[0m\n\u001b[1;32m----> 8\u001b[1;33m     \u001b[0mcity\u001b[0m \u001b[1;33m=\u001b[0m \u001b[0mgetLoc\u001b[0m\u001b[1;33m(\u001b[0m\u001b[0mip\u001b[0m\u001b[1;33m)\u001b[0m\u001b[1;33m\u001b[0m\u001b[1;33m\u001b[0m\u001b[0m\n\u001b[0m\u001b[0;32m      9\u001b[0m     \u001b[0mcity_list\u001b[0m\u001b[1;33m.\u001b[0m\u001b[0mappend\u001b[0m\u001b[1;33m(\u001b[0m\u001b[0mcity\u001b[0m\u001b[1;33m)\u001b[0m\u001b[1;33m\u001b[0m\u001b[1;33m\u001b[0m\u001b[0m\n\u001b[0;32m     10\u001b[0m \u001b[1;31m# print(city_list)\u001b[0m\u001b[1;33m\u001b[0m\u001b[1;33m\u001b[0m\u001b[1;33m\u001b[0m\u001b[0m\n",
      "\u001b[1;32m<ipython-input-15-f0c4657a16d4>\u001b[0m in \u001b[0;36mgetLoc\u001b[1;34m(ip)\u001b[0m\n\u001b[0;32m     13\u001b[0m     \u001b[1;31m# print(\"纬度: \", data.location.latitude)\u001b[0m\u001b[1;33m\u001b[0m\u001b[1;33m\u001b[0m\u001b[1;33m\u001b[0m\u001b[0m\n\u001b[0;32m     14\u001b[0m     \u001b[1;31m# print(\"经度: \", data.location.longitude)\u001b[0m\u001b[1;33m\u001b[0m\u001b[1;33m\u001b[0m\u001b[1;33m\u001b[0m\u001b[0m\n\u001b[1;32m---> 15\u001b[1;33m     \u001b[0mresult\u001b[0m \u001b[1;33m=\u001b[0m \u001b[0mdata\u001b[0m\u001b[1;33m.\u001b[0m\u001b[0mcity\u001b[0m\u001b[1;33m.\u001b[0m\u001b[0mnames\u001b[0m\u001b[1;33m[\u001b[0m\u001b[1;34m'zh-CN'\u001b[0m\u001b[1;33m]\u001b[0m\u001b[1;33m\u001b[0m\u001b[1;33m\u001b[0m\u001b[0m\n\u001b[0m\u001b[0;32m     16\u001b[0m     \u001b[1;32mreturn\u001b[0m \u001b[0mresult\u001b[0m\u001b[1;33m\u001b[0m\u001b[1;33m\u001b[0m\u001b[0m\n",
      "\u001b[1;31mKeyError\u001b[0m: 'zh-CN'"
     ],
     "output_type": "error"
    }
   ],
   "source": [
    "ip_list = []\n",
    "for data in data_info['ip'].values:\n",
    "    # print(data)\n",
    "    ip_list.append(data)\n",
    "# print(ip_list)\n",
    "city_list = []\n",
    "for ip in ip_list:\n",
    "    city = getLoc(ip)\n",
    "    city_list.append(city)\n",
    "# print(city_list)"
   ]
  },
  {
   "cell_type": "code",
   "execution_count": 38,
   "metadata": {},
   "outputs": [
    {
     "data": {
      "text/plain": [
       "93969640     1569\n96077381     1552\n92791052     1440\n96115482     1438\n93904522     1095\n             ... \n111118692       1\n102734182       1\n106951019       1\n102746476       1\n113248257       1\nName: user_id, Length: 4968745, dtype: int64"
      ]
     },
     "execution_count": 38,
     "metadata": {},
     "output_type": "execute_result"
    }
   ],
   "source": [
    "data_info['user_id'].value_counts\\\n",
    "    \n",
    "    \n",
    "    ()"
   ]
  },
  {
   "cell_type": "code",
   "execution_count": null,
   "metadata": {},
   "outputs": [],
   "source": []
  }
 ],
 "metadata": {},
 "nbformat": 4,
 "nbformat_minor": 4
}
