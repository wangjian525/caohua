{
 "cells": [
  {
   "cell_type": "code",
   "execution_count": 96,
   "metadata": {
    "collapsed": true
   },
   "outputs": [],
   "source": [
    "import pandas as pd\n",
    "import numpy as np"
   ]
  },
  {
   "cell_type": "code",
   "execution_count": 97,
   "metadata": {},
   "outputs": [
    {
     "name": "stderr",
     "output_type": "stream",
     "text": [
      "C:\\Users\\Administrator\\anaconda3\\lib\\site-packages\\IPython\\core\\interactiveshell.py:3063: DtypeWarning: Columns (29,30,31,32,34) have mixed types.Specify dtype option on import or set low_memory=False.\n  interactivity=interactivity, compiler=compiler, result=result)\n"
     ]
    },
    {
     "name": "stderr",
     "output_type": "stream",
     "text": [
      "C:\\Users\\Administrator\\anaconda3\\lib\\site-packages\\IPython\\core\\interactiveshell.py:3063: DtypeWarning: Columns (29,30) have mixed types.Specify dtype option on import or set low_memory=False.\n  interactivity=interactivity, compiler=compiler, result=result)\n"
     ]
    }
   ],
   "source": [
    "# 读取用户数据、设备激活数据、订单数据\n",
    "user_info = pd.read_csv('./user_info.csv')\n",
    "device = pd.read_csv('./device.csv')\n",
    "device_ios = pd.read_csv('./device_ios.csv')\n",
    "product_order = pd.read_csv('./product_order.csv')\n",
    "product_order_ios = pd.read_csv('./ios_product_order.csv')\n",
    "product_order.drop(['Unnamed: 29', 'Unnamed: 30', 'Unnamed: 31',\n",
    "       'Unnamed: 32', 'Unnamed: 33', 'Unnamed: 34'], axis=1, inplace=True)\n",
    "product_order_ios.drop(['Unnamed: 29', 'Unnamed: 30'], axis=1, inplace=True)"
   ]
  },
  {
   "cell_type": "code",
   "execution_count": 98,
   "metadata": {},
   "outputs": [],
   "source": [
    "user_info = user_info.drop(['user_name', 'mobile'], axis=1)"
   ]
  },
  {
   "cell_type": "code",
   "execution_count": 76,
   "metadata": {},
   "outputs": [
    {
     "name": "stdout",
     "output_type": "stream",
     "text": [
      "    user_id  user_flag  game_pay_num                         device_no  \\\n0  95547136          1             0  3845940267E1FFAE91DB0E77F143A257   \n1  96318464          1             0  6DAAD89AED393A8FCE0FB628A63E65B7   \n2  96353024          1             0  1A617CFF7F3BC292556BA450E69520A3   \n3  96389760          1             0  3FDB6BC0CBCD783BB4A2031B9387D024   \n4  96432384          1             0  7E7A203DB75A6CA50AF4EDCFE37D49B8   \n\n   platform             reg_date     first_pay_time     first_login_time  \\\n0         1   8/10/2019 11:20:19  1/1/1000 00:00:00   8/10/2019 11:20:21   \n1         1  22/10/2019 15:49:17  1/1/1000 00:00:00  22/10/2019 15:50:13   \n2         1  23/10/2019 14:10:27  1/1/1000 00:00:00  23/10/2019 14:11:19   \n3         1  24/10/2019 11:18:47  1/1/1000 00:00:00  24/10/2019 11:20:53   \n4         1  25/10/2019 12:38:55  1/1/1000 00:00:00  25/10/2019 12:38:59   \n\n       last_pay_time      last_login_time  sdk_vip_level  \n0  1/1/1000 00:00:00   8/10/2019 11:21:39            NaN  \n1  1/1/1000 00:00:00   11/6/2020 21:42:49            NaN  \n2  1/1/1000 00:00:00   9/11/2019 09:40:02            NaN  \n3  1/1/1000 00:00:00  31/10/2019 09:51:12            NaN  \n4  1/1/1000 00:00:00  28/10/2019 12:27:29            NaN  \n"
     ]
    }
   ],
   "source": [
    "print(user_info.head(5))"
   ]
  },
  {
   "cell_type": "code",
   "execution_count": 99,
   "metadata": {},
   "outputs": [
    {
     "name": "stdout",
     "output_type": "stream",
     "text": [
      "                          device_no          p_model           position  \\\n0  00002427DF8037C310A2446B641547A4         STF-AL00             ,-1,-1   \n1  0000B1E2FA421DF3C6220649F0290612         COL-AL10  ,108.8289,34.1322   \n2  00017730AAA6F55201F0D87BC671ED47  vivo X9s Plus L             [],0,0   \n3  0002A8D07348F74E2EC75030045BA320        JKM-AL00b             ,-1,-1   \n4  00030F7658CDF69816E2EE6C094DFA98        OPPO R11s             ,-1,-1   \n\n                ip         active_time sys_ver  first_active  \n0     36.17.35.206  22/9/2019 08:10:02      28             1  \n1  123.138.232.122  17/9/2019 23:38:05      28             1  \n2  223.104.246.233  28/9/2019 21:10:39   8.1.0             1  \n3   101.131.183.33  27/9/2019 18:01:55      27             1  \n4    117.136.79.82  12/9/2019 02:08:41      27             1  \n"
     ]
    }
   ],
   "source": [
    "print(device.head())"
   ]
  },
  {
   "cell_type": "code",
   "execution_count": 100,
   "metadata": {},
   "outputs": [
    {
     "data": {
      "text/plain": [
       "5479328"
      ]
     },
     "execution_count": 100,
     "metadata": {},
     "output_type": "execute_result"
    }
   ],
   "source": [
    "device = pd.concat([device, device_ios])\n",
    "len(device)"
   ]
  },
  {
   "cell_type": "code",
   "execution_count": 101,
   "metadata": {},
   "outputs": [
    {
     "data": {
      "text/plain": [
       "Index(['device_no', 'p_model', 'position', 'ip', 'active_time', 'sys_ver',\n       'first_active'],\n      dtype='object')"
      ]
     },
     "execution_count": 101,
     "metadata": {},
     "output_type": "execute_result"
    }
   ],
   "source": [
    "device.columns"
   ]
  },
  {
   "cell_type": "code",
   "execution_count": 102,
   "metadata": {},
   "outputs": [
    {
     "data": {
      "text/plain": [
       "5092783"
      ]
     },
     "execution_count": 102,
     "metadata": {},
     "output_type": "execute_result"
    }
   ],
   "source": [
    "len(user_info)"
   ]
  },
  {
   "cell_type": "code",
   "execution_count": 103,
   "metadata": {},
   "outputs": [],
   "source": [
    "device.drop(['position'], axis=1, inplace=True)"
   ]
  },
  {
   "cell_type": "code",
   "execution_count": 104,
   "metadata": {},
   "outputs": [],
   "source": [
    "user_data = pd.merge(user_info, device, on='device_no')"
   ]
  },
  {
   "cell_type": "code",
   "execution_count": 105,
   "metadata": {},
   "outputs": [
    {
     "name": "stdout",
     "output_type": "stream",
     "text": [
      "    user_id  user_flag  game_pay_num                         device_no  \\\n0  95547136          1             0  3845940267E1FFAE91DB0E77F143A257   \n1  95547136          1             0  3845940267E1FFAE91DB0E77F143A257   \n2  94845186          1             0  3845940267E1FFAE91DB0E77F143A257   \n3  94845186          1             0  3845940267E1FFAE91DB0E77F143A257   \n4  94898818          1             0  3845940267E1FFAE91DB0E77F143A257   \n\n   platform            reg_date     first_pay_time    first_login_time  \\\n0         1  8/10/2019 11:20:19  1/1/1000 00:00:00  8/10/2019 11:20:21   \n1         1  8/10/2019 11:20:19  1/1/1000 00:00:00  8/10/2019 11:20:21   \n2         1  30/9/2019 17:16:47  1/1/1000 00:00:00  30/9/2019 17:16:50   \n3         1  30/9/2019 17:16:47  1/1/1000 00:00:00  30/9/2019 17:16:50   \n4         1  1/10/2019 10:20:59  1/1/1000 00:00:00  1/10/2019 10:21:03   \n\n       last_pay_time     last_login_time  sdk_vip_level   p_model  \\\n0  1/1/1000 00:00:00  8/10/2019 11:21:39            NaN  LYA-AL00   \n1  1/1/1000 00:00:00  8/10/2019 11:21:39            NaN  LYA-AL00   \n2  1/1/1000 00:00:00  1/10/2019 10:06:34            NaN  LYA-AL00   \n3  1/1/1000 00:00:00  1/10/2019 10:06:34            NaN  LYA-AL00   \n4  1/1/1000 00:00:00  1/10/2019 10:21:03            NaN  LYA-AL00   \n\n               ip         active_time sys_ver  first_active  \n0  111.194.44.171  30/9/2019 17:16:13       9             0  \n1  111.194.44.234  23/9/2019 00:14:07      28             1  \n2  111.194.44.171  30/9/2019 17:16:13       9             0  \n3  111.194.44.234  23/9/2019 00:14:07      28             1  \n4  111.194.44.171  30/9/2019 17:16:13       9             0  \n5046035\n"
     ]
    }
   ],
   "source": [
    "print(user_data.head())\n",
    "print(len(user_data))"
   ]
  },
  {
   "cell_type": "code",
   "execution_count": 106,
   "metadata": {},
   "outputs": [],
   "source": [
    "# 对product_order的columns进行重命名\n",
    "new_col_list = []\n",
    "for col in product_order.columns:\n",
    "    new_col = col[18:]\n",
    "    new_col_list.append(new_col)\n",
    "product_order.columns = new_col_list"
   ]
  },
  {
   "cell_type": "code",
   "execution_count": 107,
   "metadata": {},
   "outputs": [],
   "source": [
    "# 对product_order的columns进行重命名\n",
    "new_col_list = []\n",
    "for col in product_order_ios.columns:\n",
    "    new_col = col[22:]\n",
    "    new_col_list.append(new_col)\n",
    "product_order_ios.columns = new_col_list"
   ]
  },
  {
   "cell_type": "code",
   "execution_count": 108,
   "metadata": {},
   "outputs": [],
   "source": [
    "product_order['isios'] = 0\n",
    "product_order_ios['isios'] = 1"
   ]
  },
  {
   "cell_type": "code",
   "execution_count": 109,
   "metadata": {},
   "outputs": [
    {
     "name": "stdout",
     "output_type": "stream",
     "text": [
      "                      order_no  game_id  channel_id  source_id  server_id  \\\n0  CH2019090900023892943523287  1000840        6770     203754    3243980   \n1  CH2019090900062589532024639  1000840       20540     198603    1025021   \n2  CH2019090900095489532024721  1000840       20540     198603    1025021   \n3  CH2019090900110689532024628  1000840       20540     198603    1025021   \n4  CH2019090900113588068955838  1000840        6770     187935    1024121   \n\n     role_id   user_id  pay_type  money  give_money  ...  role_pay_count  \\\n0  133774079  92943523        25     12           0  ...               2   \n1  130322937  89532024        25     68           0  ...              14   \n2  130322937  89532024        25     68           0  ...              15   \n3  130322937  89532024        25     68           0  ...              16   \n4  128850241  88068955        25     98           0  ...              13   \n\n   role_level                         device_no status       pay_time  \\\n0          27  7714D6F6BBB3D0610816FA2B08F56551      3  2019/9/9 0:02   \n1          99  B94AF34524B97005D87E8F071693B2C8      3  2019/9/9 0:06   \n2          99  B94AF34524B97005D87E8F071693B2C8      3  2019/9/9 0:10   \n3          99  B94AF34524B97005D87E8F071693B2C8      3  2019/9/9 0:11   \n4         108  11B7584E2F3BCC5A9E8135EC1FF28B9A      3  2019/9/9 0:12   \n\n       post_time  active_pay_count  role_name        dt  isios  \n0  2019/9/9 0:02                 2      天仙小财迷  2019/9/9      0  \n1  2019/9/9 0:06                14       凯撒大帝  2019/9/9      0  \n2  2019/9/9 0:10                15       凯撒大帝  2019/9/9      0  \n3  2019/9/9 0:11                16       凯撒大帝  2019/9/9      0  \n4  2019/9/9 0:12                13      卢卡斯虎爸  2019/9/9      0  \n\n[5 rows x 30 columns]\n"
     ]
    }
   ],
   "source": [
    "print(product_order.head())"
   ]
  },
  {
   "cell_type": "code",
   "execution_count": 110,
   "metadata": {},
   "outputs": [
    {
     "name": "stdout",
     "output_type": "stream",
     "text": [
      "                         order_no  game_id  channel_id  source_id  server_id  \\\n0  H20200312060928942106335096897  1000992       20143     277220      27014   \n1  H20200312170249022106434579838  1000993       20541     240432      27068   \n2  H20200313000013441103598817537  1000954       20143     237589      25745   \n3  H20200313000014020106557590286  1000993       20755     274376      27127   \n4  H20200313000045287103598817228  1000954       20143     237589      25745   \n\n    role_id    user_id  pay_type  money  give_money  ...  role_pay_count  \\\n0  12023872  106335096         0     12           0  ...               1   \n1  12043074  106434579         0    128           0  ...               1   \n2  11467501  103598817        27     68           0  ...              35   \n3  12063758  106557590        99     68           0  ...               2   \n4  11467501  103598817        27     68           0  ...              36   \n\n   role_level                             device_no status         pay_time  \\\n0          55  32151CD0-65C1-4B05-91D7-367E8431C214      3  2020/3/13 16:45   \n1          53  BFD0278A-815B-4900-B3EB-AF106FAF66F0      3  2020/3/13 13:45   \n2           0  265CD2C8-A2A5-4ECE-9CFB-CC2AA195F0F1      3   2020/3/13 0:00   \n3           1  18C3BAF2-16E0-48AC-9999-8250815D8362      3   2020/3/13 0:01   \n4           0  265CD2C8-A2A5-4ECE-9CFB-CC2AA195F0F1      3   2020/3/13 0:01   \n\n         post_time  active_pay_count  role_name         dt  isios  \n0  2020/3/13 16:45                 1      宋家四千金  2020/3/13      1  \n1  2020/3/13 13:45                 1   15576011  2020/3/13      1  \n2   2020/3/13 0:00                35        逗你玩  2020/3/13      1  \n3   2020/3/13 0:01                 2   15615763  2020/3/13      1  \n4   2020/3/13 0:01                36        逗你玩  2020/3/13      1  \n\n[5 rows x 30 columns]\n"
     ]
    }
   ],
   "source": [
    "print(product_order_ios.head())"
   ]
  },
  {
   "cell_type": "code",
   "execution_count": 111,
   "metadata": {},
   "outputs": [
    {
     "name": "stdout",
     "output_type": "stream",
     "text": [
      "886720\n634218\n"
     ]
    }
   ],
   "source": [
    "print(len(product_order))\n",
    "print(len(product_order_ios))"
   ]
  },
  {
   "cell_type": "code",
   "execution_count": 113,
   "metadata": {},
   "outputs": [
    {
     "name": "stdout",
     "output_type": "stream",
     "text": [
      "1520938\nIndex(['order_no', 'game_id', 'channel_id', 'source_id', 'server_id',\n       'role_id', 'user_id', 'pay_type', 'money', 'give_money', 'rmb_money',\n       'ch_money', 'coupon_money', 'coupon_code', 'coupon_type', 'd_discount',\n       'd_money', 's_discount', 's_money', 'pay_count', 'role_pay_count',\n       'role_level', 'device_no', 'status', 'pay_time', 'post_time',\n       'active_pay_count', 'role_name', 'dt', 'isios'],\n      dtype='object')\n"
     ]
    }
   ],
   "source": [
    "# 合并product_order与product_order_ios\n",
    "product_order_all = pd.concat([product_order, product_order_ios])\n",
    "print(len(product_order_all))\n",
    "print(product_order_all.columns)"
   ]
  },
  {
   "cell_type": "code",
   "execution_count": 114,
   "metadata": {},
   "outputs": [
    {
     "name": "stdout",
     "output_type": "stream",
     "text": [
      "                      order_no  game_id  channel_id  source_id  server_id  \\\n0  CH2019090900023892943523287  1000840        6770     203754    3243980   \n1  CH2019090900062589532024639  1000840       20540     198603    1025021   \n2  CH2019090900095489532024721  1000840       20540     198603    1025021   \n3  CH2019090900110689532024628  1000840       20540     198603    1025021   \n4  CH2019090900113588068955838  1000840        6770     187935    1024121   \n\n     role_id   user_id  pay_type  money  give_money  ...  role_pay_count  \\\n0  133774079  92943523        25     12           0  ...               2   \n1  130322937  89532024        25     68           0  ...              14   \n2  130322937  89532024        25     68           0  ...              15   \n3  130322937  89532024        25     68           0  ...              16   \n4  128850241  88068955        25     98           0  ...              13   \n\n   role_level                         device_no status       pay_time  \\\n0          27  7714D6F6BBB3D0610816FA2B08F56551      3  2019/9/9 0:02   \n1          99  B94AF34524B97005D87E8F071693B2C8      3  2019/9/9 0:06   \n2          99  B94AF34524B97005D87E8F071693B2C8      3  2019/9/9 0:10   \n3          99  B94AF34524B97005D87E8F071693B2C8      3  2019/9/9 0:11   \n4         108  11B7584E2F3BCC5A9E8135EC1FF28B9A      3  2019/9/9 0:12   \n\n       post_time  active_pay_count  role_name        dt  isios  \n0  2019/9/9 0:02                 2      天仙小财迷  2019/9/9      0  \n1  2019/9/9 0:06                14       凯撒大帝  2019/9/9      0  \n2  2019/9/9 0:10                15       凯撒大帝  2019/9/9      0  \n3  2019/9/9 0:11                16       凯撒大帝  2019/9/9      0  \n4  2019/9/9 0:12                13      卢卡斯虎爸  2019/9/9      0  \n\n[5 rows x 30 columns]\n"
     ]
    }
   ],
   "source": [
    "print(product_order_all.head())"
   ]
  },
  {
   "cell_type": "code",
   "execution_count": 117,
   "metadata": {},
   "outputs": [],
   "source": [
    "data = pd.merge(user_data, product_order_all, on='user_id', how='left')"
   ]
  },
  {
   "cell_type": "code",
   "execution_count": 118,
   "metadata": {},
   "outputs": [
    {
     "name": "stdout",
     "output_type": "stream",
     "text": [
      "6138825\n"
     ]
    }
   ],
   "source": [
    "print(len(data))"
   ]
  },
  {
   "cell_type": "code",
   "execution_count": 119,
   "metadata": {},
   "outputs": [],
   "source": [
    "data.to_csv('./data.csv')"
   ]
  },
  {
   "cell_type": "code",
   "execution_count": 1,
   "metadata": {},
   "outputs": [
    {
     "ename": "NameError",
     "evalue": "name 'pd' is not defined",
     "traceback": [
      "\u001b[1;31m---------------------------------------------------------------------------\u001b[0m",
      "\u001b[1;31mNameError\u001b[0m                                 Traceback (most recent call last)",
      "\u001b[1;32m<ipython-input-1-19873e19760a>\u001b[0m in \u001b[0;36m<module>\u001b[1;34m\u001b[0m\n\u001b[1;32m----> 1\u001b[1;33m \u001b[0mdf_pay\u001b[0m \u001b[1;33m=\u001b[0m \u001b[0mpd\u001b[0m\u001b[1;33m.\u001b[0m\u001b[0mmerge\u001b[0m\u001b[1;33m(\u001b[0m\u001b[0muser_data\u001b[0m\u001b[1;33m,\u001b[0m \u001b[0mproduct_order_all\u001b[0m\u001b[1;33m,\u001b[0m \u001b[0mon\u001b[0m\u001b[1;33m=\u001b[0m\u001b[1;34m'user_id'\u001b[0m\u001b[1;33m,\u001b[0m \u001b[0mhow\u001b[0m\u001b[1;33m=\u001b[0m\u001b[1;34m'right'\u001b[0m\u001b[1;33m)\u001b[0m\u001b[1;33m\u001b[0m\u001b[1;33m\u001b[0m\u001b[0m\n\u001b[0m\u001b[0;32m      2\u001b[0m \u001b[0mprint\u001b[0m\u001b[1;33m(\u001b[0m\u001b[0mlen\u001b[0m\u001b[1;33m(\u001b[0m\u001b[0mdf_pay\u001b[0m\u001b[1;33m)\u001b[0m\u001b[1;33m)\u001b[0m\u001b[1;33m\u001b[0m\u001b[1;33m\u001b[0m\u001b[0m\n",
      "\u001b[1;31mNameError\u001b[0m: name 'pd' is not defined"
     ],
     "output_type": "error"
    }
   ],
   "source": [
    "df_pay = pd.merge(user_data, product_order_all, on='user_id', how='right')\n",
    "print(len(df_pay))"
   ]
  },
  {
   "cell_type": "code",
   "execution_count": null,
   "metadata": {},
   "outputs": [],
   "source": []
  }
 ],
 "metadata": {
  "kernelspec": {
   "display_name": "Python 2",
   "language": "python",
   "name": "python2"
  },
  "language_info": {
   "codemirror_mode": {
    "name": "ipython",
    "version": 2
   },
   "file_extension": ".py",
   "mimetype": "text/x-python",
   "name": "python",
   "nbconvert_exporter": "python",
   "pygments_lexer": "ipython2",
   "version": "2.7.6"
  }
 },
 "nbformat": 4,
 "nbformat_minor": 0
}
