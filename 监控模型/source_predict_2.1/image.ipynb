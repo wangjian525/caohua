{
 "cells": [
  {
   "cell_type": "code",
   "execution_count": 1,
   "metadata": {},
   "outputs": [
    {
     "name": "stderr",
     "output_type": "stream",
     "text": [
      "C:\\Users\\Administrator\\anaconda3\\lib\\importlib\\_bootstrap.py:219: RuntimeWarning: numpy.ufunc size changed, may indicate binary incompatibility. Expected 192 from C header, got 216 from PyObject\n",
      "  return f(*args, **kwds)\n"
     ]
    }
   ],
   "source": [
    "import pandas as pd\n",
    "import numpy as np\n",
    "import datetime\n",
    "import warnings\n",
    "import joblib\n",
    "import os\n",
    "warnings.filterwarnings('ignore')\n",
    "pd.set_option('display.max_columns',None)\n",
    "import lightgbm as lgb\n",
    "from sklearn.model_selection import KFold, train_test_split"
   ]
  },
  {
   "cell_type": "code",
   "execution_count": 4,
   "metadata": {},
   "outputs": [],
   "source": [
    "df = pd.read_excel('./data_1.xlsx',index_col=0)"
   ]
  },
  {
   "cell_type": "code",
   "execution_count": 5,
   "metadata": {},
   "outputs": [
    {
     "data": {
      "text/html": [
       "<div>\n",
       "<style scoped>\n",
       "    .dataframe tbody tr th:only-of-type {\n",
       "        vertical-align: middle;\n",
       "    }\n",
       "\n",
       "    .dataframe tbody tr th {\n",
       "        vertical-align: top;\n",
       "    }\n",
       "\n",
       "    .dataframe thead th {\n",
       "        text-align: right;\n",
       "    }\n",
       "</style>\n",
       "<table border=\"1\" class=\"dataframe\">\n",
       "  <thead>\n",
       "    <tr style=\"text-align: right;\">\n",
       "      <th></th>\n",
       "      <th>总计划数</th>\n",
       "      <th>消耗金额</th>\n",
       "      <th>充值金额</th>\n",
       "      <th>回款率</th>\n",
       "      <th>新付费创角数</th>\n",
       "      <th>有效消耗占比</th>\n",
       "      <th>有效计划概率</th>\n",
       "      <th>有效消耗金额</th>\n",
       "      <th>有效充值金额</th>\n",
       "      <th>有效获R计划数</th>\n",
       "      <th>有效获R付费能力</th>\n",
       "      <th>有效获R能力</th>\n",
       "      <th>超成本充值金额</th>\n",
       "      <th>超成本计划数</th>\n",
       "      <th>无效消耗充值金额</th>\n",
       "      <th>无效消耗计划数</th>\n",
       "      <th>无效消耗充值金额.1</th>\n",
       "    </tr>\n",
       "    <tr>\n",
       "      <th>image_id</th>\n",
       "      <th></th>\n",
       "      <th></th>\n",
       "      <th></th>\n",
       "      <th></th>\n",
       "      <th></th>\n",
       "      <th></th>\n",
       "      <th></th>\n",
       "      <th></th>\n",
       "      <th></th>\n",
       "      <th></th>\n",
       "      <th></th>\n",
       "      <th></th>\n",
       "      <th></th>\n",
       "      <th></th>\n",
       "      <th></th>\n",
       "      <th></th>\n",
       "      <th></th>\n",
       "    </tr>\n",
       "  </thead>\n",
       "  <tbody>\n",
       "    <tr>\n",
       "      <th>26109</th>\n",
       "      <td>59</td>\n",
       "      <td>141348.15</td>\n",
       "      <td>48378</td>\n",
       "      <td>0.3423</td>\n",
       "      <td>18</td>\n",
       "      <td>0.1386</td>\n",
       "      <td>0.1695</td>\n",
       "      <td>19594</td>\n",
       "      <td>19594</td>\n",
       "      <td>10</td>\n",
       "      <td>2687.67</td>\n",
       "      <td>1.8000</td>\n",
       "      <td>0</td>\n",
       "      <td>0</td>\n",
       "      <td>28784</td>\n",
       "      <td>49</td>\n",
       "      <td>28784</td>\n",
       "    </tr>\n",
       "    <tr>\n",
       "      <th>23509</th>\n",
       "      <td>187</td>\n",
       "      <td>378940.73</td>\n",
       "      <td>134210</td>\n",
       "      <td>0.3542</td>\n",
       "      <td>97</td>\n",
       "      <td>0.2389</td>\n",
       "      <td>0.2406</td>\n",
       "      <td>90532</td>\n",
       "      <td>90532</td>\n",
       "      <td>45</td>\n",
       "      <td>1383.61</td>\n",
       "      <td>2.1556</td>\n",
       "      <td>0</td>\n",
       "      <td>0</td>\n",
       "      <td>43678</td>\n",
       "      <td>142</td>\n",
       "      <td>43678</td>\n",
       "    </tr>\n",
       "    <tr>\n",
       "      <th>25832</th>\n",
       "      <td>117</td>\n",
       "      <td>254925.94</td>\n",
       "      <td>80918</td>\n",
       "      <td>0.3174</td>\n",
       "      <td>46</td>\n",
       "      <td>0.0966</td>\n",
       "      <td>0.2308</td>\n",
       "      <td>24636</td>\n",
       "      <td>24636</td>\n",
       "      <td>27</td>\n",
       "      <td>1759.09</td>\n",
       "      <td>1.7037</td>\n",
       "      <td>0</td>\n",
       "      <td>0</td>\n",
       "      <td>56282</td>\n",
       "      <td>90</td>\n",
       "      <td>56282</td>\n",
       "    </tr>\n",
       "    <tr>\n",
       "      <th>25825</th>\n",
       "      <td>99</td>\n",
       "      <td>295831.97</td>\n",
       "      <td>67992</td>\n",
       "      <td>0.2298</td>\n",
       "      <td>58</td>\n",
       "      <td>0.1429</td>\n",
       "      <td>0.3131</td>\n",
       "      <td>42286</td>\n",
       "      <td>42286</td>\n",
       "      <td>31</td>\n",
       "      <td>1172.28</td>\n",
       "      <td>1.8710</td>\n",
       "      <td>0</td>\n",
       "      <td>0</td>\n",
       "      <td>25706</td>\n",
       "      <td>68</td>\n",
       "      <td>25706</td>\n",
       "    </tr>\n",
       "    <tr>\n",
       "      <th>25694</th>\n",
       "      <td>223</td>\n",
       "      <td>1005506.98</td>\n",
       "      <td>151948</td>\n",
       "      <td>0.1511</td>\n",
       "      <td>137</td>\n",
       "      <td>0.0813</td>\n",
       "      <td>0.3094</td>\n",
       "      <td>81724</td>\n",
       "      <td>81724</td>\n",
       "      <td>69</td>\n",
       "      <td>1109.11</td>\n",
       "      <td>1.9855</td>\n",
       "      <td>37816</td>\n",
       "      <td>7</td>\n",
       "      <td>32408</td>\n",
       "      <td>147</td>\n",
       "      <td>32408</td>\n",
       "    </tr>\n",
       "  </tbody>\n",
       "</table>\n",
       "</div>"
      ],
      "text/plain": [
       "          总计划数        消耗金额    充值金额     回款率  新付费创角数  有效消耗占比  有效计划概率  有效消耗金额  \\\n",
       "image_id                                                                     \n",
       "26109       59   141348.15   48378  0.3423      18  0.1386  0.1695   19594   \n",
       "23509      187   378940.73  134210  0.3542      97  0.2389  0.2406   90532   \n",
       "25832      117   254925.94   80918  0.3174      46  0.0966  0.2308   24636   \n",
       "25825       99   295831.97   67992  0.2298      58  0.1429  0.3131   42286   \n",
       "25694      223  1005506.98  151948  0.1511     137  0.0813  0.3094   81724   \n",
       "\n",
       "          有效充值金额  有效获R计划数  有效获R付费能力  有效获R能力  超成本充值金额  超成本计划数  无效消耗充值金额  \\\n",
       "image_id                                                                 \n",
       "26109      19594       10   2687.67  1.8000        0       0     28784   \n",
       "23509      90532       45   1383.61  2.1556        0       0     43678   \n",
       "25832      24636       27   1759.09  1.7037        0       0     56282   \n",
       "25825      42286       31   1172.28  1.8710        0       0     25706   \n",
       "25694      81724       69   1109.11  1.9855    37816       7     32408   \n",
       "\n",
       "          无效消耗计划数  无效消耗充值金额.1  \n",
       "image_id                       \n",
       "26109          49       28784  \n",
       "23509         142       43678  \n",
       "25832          90       56282  \n",
       "25825          68       25706  \n",
       "25694         147       32408  "
      ]
     },
     "execution_count": 5,
     "metadata": {},
     "output_type": "execute_result"
    }
   ],
   "source": [
    "df.head()"
   ]
  },
  {
   "cell_type": "code",
   "execution_count": 6,
   "metadata": {},
   "outputs": [],
   "source": [
    "import matplotlib.pyplot as plt"
   ]
  },
  {
   "cell_type": "code",
   "execution_count": 7,
   "metadata": {},
   "outputs": [
    {
     "data": {
      "text/plain": [
       "count    515.000000\n",
       "mean       0.051973\n",
       "std        0.105569\n",
       "min        0.000000\n",
       "25%        0.000000\n",
       "50%        0.000000\n",
       "75%        0.076900\n",
       "max        1.000000\n",
       "Name: 有效计划概率, dtype: float64"
      ]
     },
     "execution_count": 7,
     "metadata": {},
     "output_type": "execute_result"
    }
   ],
   "source": [
    "df['有效计划概率'].describe()"
   ]
  },
  {
   "cell_type": "code",
   "execution_count": 20,
   "metadata": {},
   "outputs": [
    {
     "data": {
      "image/png": "[encoded data removed]",
      "text/plain": [
       "<Figure size 432x288 with 1 Axes>"
      ]
     },
     "metadata": {
      "needs_background": "light"
     },
     "output_type": "display_data"
    }
   ],
   "source": [
    "num_bins=200\n",
    "plt.hist(df['有效计划概率'],num_bins)\n",
    "plt.show()"
   ]
  },
  {
   "cell_type": "code",
   "execution_count": 26,
   "metadata": {},
   "outputs": [
    {
     "data": {
      "image/png": "[encoded data removed]",
      "text/plain": [
       "<Figure size 432x288 with 1 Axes>"
      ]
     },
     "metadata": {
      "needs_background": "light"
     },
     "output_type": "display_data"
    }
   ],
   "source": [
    "plt.boxplot(np.clip(df['有效计划概率'],0,0.2))\n",
    "plt.show()"
   ]
  },
  {
   "cell_type": "code",
   "execution_count": null,
   "metadata": {},
   "outputs": [],
   "source": [
    "# 0.05  0.075  0.1  0.2"
   ]
  },
  {
   "cell_type": "code",
   "execution_count": 27,
   "metadata": {},
   "outputs": [],
   "source": [
    "df['有效计划概率_sorce'] = df['有效计划概率'].apply(lambda x:1 if x<0.05 else(2 if x<0.075 else (3 if x<0.1 else(4 if x<0.2 else 5))))"
   ]
  },
  {
   "cell_type": "code",
   "execution_count": 50,
   "metadata": {},
   "outputs": [
    {
     "data": {
      "text/plain": [
       "1    350\n",
       "4     68\n",
       "5     39\n",
       "3     29\n",
       "2     29\n",
       "Name: 有效计划概率_sorce, dtype: int64"
      ]
     },
     "execution_count": 50,
     "metadata": {},
     "output_type": "execute_result"
    }
   ],
   "source": [
    "df['有效计划概率_sorce'].value_counts()"
   ]
  },
  {
   "cell_type": "code",
   "execution_count": 28,
   "metadata": {},
   "outputs": [
    {
     "data": {
      "text/plain": [
       "count      515.000000\n",
       "mean       174.068311\n",
       "std        842.419102\n",
       "min          0.000000\n",
       "25%          0.000000\n",
       "50%          0.000000\n",
       "75%         90.250000\n",
       "max      16646.000000\n",
       "Name: 有效获R付费能力, dtype: float64"
      ]
     },
     "execution_count": 28,
     "metadata": {},
     "output_type": "execute_result"
    }
   ],
   "source": [
    "df['有效获R付费能力'].describe()"
   ]
  },
  {
   "cell_type": "code",
   "execution_count": 31,
   "metadata": {},
   "outputs": [
    {
     "data": {
      "image/png": "[encoded data removed]",
      "text/plain": [
       "<Figure size 432x288 with 1 Axes>"
      ]
     },
     "metadata": {
      "needs_background": "light"
     },
     "output_type": "display_data"
    }
   ],
   "source": [
    "num_bins=50\n",
    "plt.hist(df['有效获R付费能力'],num_bins,range=(0.1,5000))\n",
    "plt.show()"
   ]
  },
  {
   "cell_type": "code",
   "execution_count": 33,
   "metadata": {},
   "outputs": [
    {
     "data": {
      "image/png": "[encoded data removed]",
      "text/plain": [
       "<Figure size 432x288 with 1 Axes>"
      ]
     },
     "metadata": {
      "needs_background": "light"
     },
     "output_type": "display_data"
    }
   ],
   "source": [
    "plt.boxplot(np.clip(df['有效获R付费能力'],0,1000))\n",
    "plt.show()"
   ]
  },
  {
   "cell_type": "code",
   "execution_count": null,
   "metadata": {},
   "outputs": [],
   "source": [
    "# 90,200,500,1000"
   ]
  },
  {
   "cell_type": "code",
   "execution_count": 48,
   "metadata": {},
   "outputs": [],
   "source": [
    "df['有效获R付费能力_sorce'] = df['有效获R付费能力'].apply(lambda x:5 if x>=1000 else(4 if x>=500 else (3 if x>=200 else(2 if x>=90 else 1))))"
   ]
  },
  {
   "cell_type": "code",
   "execution_count": 49,
   "metadata": {},
   "outputs": [
    {
     "data": {
      "text/plain": [
       "1    385\n",
       "2     50\n",
       "3     41\n",
       "4     20\n",
       "5     19\n",
       "Name: 有效获R付费能力_sorce, dtype: int64"
      ]
     },
     "execution_count": 49,
     "metadata": {},
     "output_type": "execute_result"
    }
   ],
   "source": [
    "df['有效获R付费能力_sorce'].value_counts()"
   ]
  },
  {
   "cell_type": "code",
   "execution_count": 35,
   "metadata": {},
   "outputs": [
    {
     "data": {
      "text/plain": [
       "count    515.000000\n",
       "mean       0.449245\n",
       "std        0.648502\n",
       "min        0.000000\n",
       "25%        0.000000\n",
       "50%        0.000000\n",
       "75%        1.000000\n",
       "max        3.500000\n",
       "Name: 有效获R能力, dtype: float64"
      ]
     },
     "execution_count": 35,
     "metadata": {},
     "output_type": "execute_result"
    }
   ],
   "source": [
    "df['有效获R能力'].describe()\n"
   ]
  },
  {
   "cell_type": "code",
   "execution_count": 36,
   "metadata": {},
   "outputs": [
    {
     "data": {
      "image/png": "[encoded data removed]",
      "text/plain": [
       "<Figure size 432x288 with 1 Axes>"
      ]
     },
     "metadata": {
      "needs_background": "light"
     },
     "output_type": "display_data"
    }
   ],
   "source": [
    "num_bins=50\n",
    "plt.hist(df['有效获R能力'],num_bins)\n",
    "plt.show()"
   ]
  },
  {
   "cell_type": "code",
   "execution_count": 37,
   "metadata": {},
   "outputs": [
    {
     "data": {
      "image/png": "[encoded data removed]",
      "text/plain": [
       "<Figure size 432x288 with 1 Axes>"
      ]
     },
     "metadata": {
      "needs_background": "light"
     },
     "output_type": "display_data"
    }
   ],
   "source": [
    "plt.boxplot(np.clip(df['有效获R能力'],0,1000))\n",
    "plt.show()"
   ]
  },
  {
   "cell_type": "code",
   "execution_count": null,
   "metadata": {},
   "outputs": [],
   "source": [
    "# 1,1.3,1.8,2.2"
   ]
  },
  {
   "cell_type": "code",
   "execution_count": 45,
   "metadata": {},
   "outputs": [],
   "source": [
    "df['有效获R能力_sorce'] = df['有效获R能力'].apply(lambda x:5 if x>=2.2 else(4 if x>=1.8 else (3 if x>=1.3 else(2 if x>=1 else 1))))"
   ]
  },
  {
   "cell_type": "code",
   "execution_count": 47,
   "metadata": {
    "scrolled": true
   },
   "outputs": [
    {
     "data": {
      "text/plain": [
       "1    331\n",
       "2    127\n",
       "3     33\n",
       "4     20\n",
       "5      4\n",
       "Name: 有效获R能力_sorce, dtype: int64"
      ]
     },
     "execution_count": 47,
     "metadata": {},
     "output_type": "execute_result"
    }
   ],
   "source": [
    "df['有效获R能力_sorce'].value_counts()"
   ]
  },
  {
   "cell_type": "code",
   "execution_count": 51,
   "metadata": {},
   "outputs": [
    {
     "data": {
      "text/html": [
       "<div>\n",
       "<style scoped>\n",
       "    .dataframe tbody tr th:only-of-type {\n",
       "        vertical-align: middle;\n",
       "    }\n",
       "\n",
       "    .dataframe tbody tr th {\n",
       "        vertical-align: top;\n",
       "    }\n",
       "\n",
       "    .dataframe thead th {\n",
       "        text-align: right;\n",
       "    }\n",
       "</style>\n",
       "<table border=\"1\" class=\"dataframe\">\n",
       "  <thead>\n",
       "    <tr style=\"text-align: right;\">\n",
       "      <th></th>\n",
       "      <th>总计划数</th>\n",
       "      <th>消耗金额</th>\n",
       "      <th>充值金额</th>\n",
       "      <th>回款率</th>\n",
       "      <th>新付费创角数</th>\n",
       "      <th>有效消耗占比</th>\n",
       "      <th>有效计划概率</th>\n",
       "      <th>有效消耗金额</th>\n",
       "      <th>有效充值金额</th>\n",
       "      <th>有效获R计划数</th>\n",
       "      <th>有效获R付费能力</th>\n",
       "      <th>有效获R能力</th>\n",
       "      <th>超成本充值金额</th>\n",
       "      <th>超成本计划数</th>\n",
       "      <th>无效消耗充值金额</th>\n",
       "      <th>无效消耗计划数</th>\n",
       "      <th>无效消耗充值金额.1</th>\n",
       "      <th>有效计划概率_sorce</th>\n",
       "      <th>有效获R付费能力_sorce</th>\n",
       "      <th>有效获R能力_sorce</th>\n",
       "    </tr>\n",
       "    <tr>\n",
       "      <th>image_id</th>\n",
       "      <th></th>\n",
       "      <th></th>\n",
       "      <th></th>\n",
       "      <th></th>\n",
       "      <th></th>\n",
       "      <th></th>\n",
       "      <th></th>\n",
       "      <th></th>\n",
       "      <th></th>\n",
       "      <th></th>\n",
       "      <th></th>\n",
       "      <th></th>\n",
       "      <th></th>\n",
       "      <th></th>\n",
       "      <th></th>\n",
       "      <th></th>\n",
       "      <th></th>\n",
       "      <th></th>\n",
       "      <th></th>\n",
       "      <th></th>\n",
       "    </tr>\n",
       "  </thead>\n",
       "  <tbody>\n",
       "    <tr>\n",
       "      <th>26109</th>\n",
       "      <td>59</td>\n",
       "      <td>141348.15</td>\n",
       "      <td>48378</td>\n",
       "      <td>0.3423</td>\n",
       "      <td>18</td>\n",
       "      <td>0.1386</td>\n",
       "      <td>0.1695</td>\n",
       "      <td>19594</td>\n",
       "      <td>19594</td>\n",
       "      <td>10</td>\n",
       "      <td>2687.67</td>\n",
       "      <td>1.8000</td>\n",
       "      <td>0</td>\n",
       "      <td>0</td>\n",
       "      <td>28784</td>\n",
       "      <td>49</td>\n",
       "      <td>28784</td>\n",
       "      <td>4</td>\n",
       "      <td>5</td>\n",
       "      <td>4</td>\n",
       "    </tr>\n",
       "    <tr>\n",
       "      <th>23509</th>\n",
       "      <td>187</td>\n",
       "      <td>378940.73</td>\n",
       "      <td>134210</td>\n",
       "      <td>0.3542</td>\n",
       "      <td>97</td>\n",
       "      <td>0.2389</td>\n",
       "      <td>0.2406</td>\n",
       "      <td>90532</td>\n",
       "      <td>90532</td>\n",
       "      <td>45</td>\n",
       "      <td>1383.61</td>\n",
       "      <td>2.1556</td>\n",
       "      <td>0</td>\n",
       "      <td>0</td>\n",
       "      <td>43678</td>\n",
       "      <td>142</td>\n",
       "      <td>43678</td>\n",
       "      <td>5</td>\n",
       "      <td>5</td>\n",
       "      <td>4</td>\n",
       "    </tr>\n",
       "    <tr>\n",
       "      <th>25832</th>\n",
       "      <td>117</td>\n",
       "      <td>254925.94</td>\n",
       "      <td>80918</td>\n",
       "      <td>0.3174</td>\n",
       "      <td>46</td>\n",
       "      <td>0.0966</td>\n",
       "      <td>0.2308</td>\n",
       "      <td>24636</td>\n",
       "      <td>24636</td>\n",
       "      <td>27</td>\n",
       "      <td>1759.09</td>\n",
       "      <td>1.7037</td>\n",
       "      <td>0</td>\n",
       "      <td>0</td>\n",
       "      <td>56282</td>\n",
       "      <td>90</td>\n",
       "      <td>56282</td>\n",
       "      <td>5</td>\n",
       "      <td>5</td>\n",
       "      <td>3</td>\n",
       "    </tr>\n",
       "    <tr>\n",
       "      <th>25825</th>\n",
       "      <td>99</td>\n",
       "      <td>295831.97</td>\n",
       "      <td>67992</td>\n",
       "      <td>0.2298</td>\n",
       "      <td>58</td>\n",
       "      <td>0.1429</td>\n",
       "      <td>0.3131</td>\n",
       "      <td>42286</td>\n",
       "      <td>42286</td>\n",
       "      <td>31</td>\n",
       "      <td>1172.28</td>\n",
       "      <td>1.8710</td>\n",
       "      <td>0</td>\n",
       "      <td>0</td>\n",
       "      <td>25706</td>\n",
       "      <td>68</td>\n",
       "      <td>25706</td>\n",
       "      <td>5</td>\n",
       "      <td>5</td>\n",
       "      <td>4</td>\n",
       "    </tr>\n",
       "    <tr>\n",
       "      <th>25694</th>\n",
       "      <td>223</td>\n",
       "      <td>1005506.98</td>\n",
       "      <td>151948</td>\n",
       "      <td>0.1511</td>\n",
       "      <td>137</td>\n",
       "      <td>0.0813</td>\n",
       "      <td>0.3094</td>\n",
       "      <td>81724</td>\n",
       "      <td>81724</td>\n",
       "      <td>69</td>\n",
       "      <td>1109.11</td>\n",
       "      <td>1.9855</td>\n",
       "      <td>37816</td>\n",
       "      <td>7</td>\n",
       "      <td>32408</td>\n",
       "      <td>147</td>\n",
       "      <td>32408</td>\n",
       "      <td>5</td>\n",
       "      <td>5</td>\n",
       "      <td>4</td>\n",
       "    </tr>\n",
       "  </tbody>\n",
       "</table>\n",
       "</div>"
      ],
      "text/plain": [
       "          总计划数        消耗金额    充值金额     回款率  新付费创角数  有效消耗占比  有效计划概率  有效消耗金额  \\\n",
       "image_id                                                                     \n",
       "26109       59   141348.15   48378  0.3423      18  0.1386  0.1695   19594   \n",
       "23509      187   378940.73  134210  0.3542      97  0.2389  0.2406   90532   \n",
       "25832      117   254925.94   80918  0.3174      46  0.0966  0.2308   24636   \n",
       "25825       99   295831.97   67992  0.2298      58  0.1429  0.3131   42286   \n",
       "25694      223  1005506.98  151948  0.1511     137  0.0813  0.3094   81724   \n",
       "\n",
       "          有效充值金额  有效获R计划数  有效获R付费能力  有效获R能力  超成本充值金额  超成本计划数  无效消耗充值金额  \\\n",
       "image_id                                                                 \n",
       "26109      19594       10   2687.67  1.8000        0       0     28784   \n",
       "23509      90532       45   1383.61  2.1556        0       0     43678   \n",
       "25832      24636       27   1759.09  1.7037        0       0     56282   \n",
       "25825      42286       31   1172.28  1.8710        0       0     25706   \n",
       "25694      81724       69   1109.11  1.9855    37816       7     32408   \n",
       "\n",
       "          无效消耗计划数  无效消耗充值金额.1  有效计划概率_sorce  有效获R付费能力_sorce  有效获R能力_sorce  \n",
       "image_id                                                                   \n",
       "26109          49       28784             4               5             4  \n",
       "23509         142       43678             5               5             4  \n",
       "25832          90       56282             5               5             3  \n",
       "25825          68       25706             5               5             4  \n",
       "25694         147       32408             5               5             4  "
      ]
     },
     "execution_count": 51,
     "metadata": {},
     "output_type": "execute_result"
    }
   ],
   "source": [
    "df.head()"
   ]
  },
  {
   "cell_type": "code",
   "execution_count": null,
   "metadata": {},
   "outputs": [],
   "source": []
  },
  {
   "cell_type": "code",
   "execution_count": 52,
   "metadata": {},
   "outputs": [],
   "source": [
    "df['sorce'] = df['有效计划概率_sorce']+df['有效获R付费能力_sorce']+df['有效获R能力_sorce']"
   ]
  },
  {
   "cell_type": "code",
   "execution_count": 53,
   "metadata": {},
   "outputs": [],
   "source": [
    "df.to_excel('./data.xlsx')"
   ]
  },
  {
   "cell_type": "code",
   "execution_count": 63,
   "metadata": {},
   "outputs": [],
   "source": [
    "df_image = pd.read_excel('./df_image.xlsx')"
   ]
  },
  {
   "cell_type": "code",
   "execution_count": 64,
   "metadata": {},
   "outputs": [
    {
     "data": {
      "text/html": [
       "<div>\n",
       "<style scoped>\n",
       "    .dataframe tbody tr th:only-of-type {\n",
       "        vertical-align: middle;\n",
       "    }\n",
       "\n",
       "    .dataframe tbody tr th {\n",
       "        vertical-align: top;\n",
       "    }\n",
       "\n",
       "    .dataframe thead th {\n",
       "        text-align: right;\n",
       "    }\n",
       "</style>\n",
       "<table border=\"1\" class=\"dataframe\">\n",
       "  <thead>\n",
       "    <tr style=\"text-align: right;\">\n",
       "      <th></th>\n",
       "      <th>tdate</th>\n",
       "      <th>id</th>\n",
       "      <th>image_id</th>\n",
       "      <th>素材名称</th>\n",
       "      <th>ad_account_id</th>\n",
       "      <th>media_id</th>\n",
       "      <th>总播放次数</th>\n",
       "      <th>有效播放数</th>\n",
       "      <th>有效播放率</th>\n",
       "      <th>播放完成数</th>\n",
       "      <th>视频数据-播完率</th>\n",
       "      <th>视频数据-2秒播放率</th>\n",
       "      <th>视频数据-3秒播放率</th>\n",
       "      <th>视频数据-5秒播放率</th>\n",
       "      <th>视频数据-10秒播放率</th>\n",
       "      <th>视频数据-25%进度播放率</th>\n",
       "      <th>视频数据-50%进度播放率</th>\n",
       "      <th>视频数据-75%进度播放率</th>\n",
       "      <th>视频数据-99%进度播放率</th>\n",
       "      <th>视频数据-平均单次播放时长</th>\n",
       "      <th>互动数据-分享数</th>\n",
       "      <th>互动数据-评论数</th>\n",
       "      <th>互动数据-点赞数</th>\n",
       "      <th>互动数据-不感兴趣数</th>\n",
       "      <th>互动数据-新增关注数</th>\n",
       "      <th>互动数据-私信数</th>\n",
       "      <th>互动数据-举报数</th>\n",
       "      <th>创建时间</th>\n",
       "    </tr>\n",
       "  </thead>\n",
       "  <tbody>\n",
       "    <tr>\n",
       "      <th>0</th>\n",
       "      <td>1/10/2020</td>\n",
       "      <td>31783</td>\n",
       "      <td>16316.0</td>\n",
       "      <td>SSR123-竖版</td>\n",
       "      <td>5101</td>\n",
       "      <td>10</td>\n",
       "      <td>15452</td>\n",
       "      <td>5156</td>\n",
       "      <td>0.3433</td>\n",
       "      <td>4346</td>\n",
       "      <td>0.2813</td>\n",
       "      <td>0.5599</td>\n",
       "      <td>0.4232</td>\n",
       "      <td>0.3721</td>\n",
       "      <td>0.3337</td>\n",
       "      <td>0.3785</td>\n",
       "      <td>0.3346</td>\n",
       "      <td>0.3172</td>\n",
       "      <td>0.2877</td>\n",
       "      <td>7.08</td>\n",
       "      <td>0</td>\n",
       "      <td>1</td>\n",
       "      <td>37</td>\n",
       "      <td>0</td>\n",
       "      <td>0</td>\n",
       "      <td>0</td>\n",
       "      <td>0</td>\n",
       "      <td>2/10/2020 08:02:33</td>\n",
       "    </tr>\n",
       "    <tr>\n",
       "      <th>1</th>\n",
       "      <td>1/10/2020</td>\n",
       "      <td>31783</td>\n",
       "      <td>16316.0</td>\n",
       "      <td>SSR123-竖版</td>\n",
       "      <td>6123</td>\n",
       "      <td>10</td>\n",
       "      <td>16650</td>\n",
       "      <td>6469</td>\n",
       "      <td>0.3996</td>\n",
       "      <td>5507</td>\n",
       "      <td>0.3308</td>\n",
       "      <td>0.5460</td>\n",
       "      <td>0.4529</td>\n",
       "      <td>0.4171</td>\n",
       "      <td>0.3885</td>\n",
       "      <td>0.4218</td>\n",
       "      <td>0.3908</td>\n",
       "      <td>0.3728</td>\n",
       "      <td>0.3368</td>\n",
       "      <td>7.83</td>\n",
       "      <td>0</td>\n",
       "      <td>3</td>\n",
       "      <td>42</td>\n",
       "      <td>2</td>\n",
       "      <td>0</td>\n",
       "      <td>0</td>\n",
       "      <td>1</td>\n",
       "      <td>2/10/2020 08:02:35</td>\n",
       "    </tr>\n",
       "    <tr>\n",
       "      <th>2</th>\n",
       "      <td>1/10/2020</td>\n",
       "      <td>32174</td>\n",
       "      <td>16276.0</td>\n",
       "      <td>SSR114-竖版-088.089合体版本（改繁体字）</td>\n",
       "      <td>5893</td>\n",
       "      <td>10</td>\n",
       "      <td>611</td>\n",
       "      <td>27</td>\n",
       "      <td>0.0449</td>\n",
       "      <td>18</td>\n",
       "      <td>0.0295</td>\n",
       "      <td>0.1227</td>\n",
       "      <td>0.0966</td>\n",
       "      <td>0.0638</td>\n",
       "      <td>0.0442</td>\n",
       "      <td>0.0311</td>\n",
       "      <td>0.0311</td>\n",
       "      <td>0.0295</td>\n",
       "      <td>0.0295</td>\n",
       "      <td>2.21</td>\n",
       "      <td>0</td>\n",
       "      <td>0</td>\n",
       "      <td>0</td>\n",
       "      <td>0</td>\n",
       "      <td>0</td>\n",
       "      <td>0</td>\n",
       "      <td>0</td>\n",
       "      <td>2/10/2020 08:04:11</td>\n",
       "    </tr>\n",
       "    <tr>\n",
       "      <th>3</th>\n",
       "      <td>1/10/2020</td>\n",
       "      <td>34881</td>\n",
       "      <td>17107.0</td>\n",
       "      <td>ZDZL127-横版</td>\n",
       "      <td>5646</td>\n",
       "      <td>10</td>\n",
       "      <td>15854</td>\n",
       "      <td>1337</td>\n",
       "      <td>0.0151</td>\n",
       "      <td>1208</td>\n",
       "      <td>0.0762</td>\n",
       "      <td>0.2257</td>\n",
       "      <td>0.1330</td>\n",
       "      <td>0.0723</td>\n",
       "      <td>0.0843</td>\n",
       "      <td>0.1156</td>\n",
       "      <td>0.0856</td>\n",
       "      <td>0.0793</td>\n",
       "      <td>0.0763</td>\n",
       "      <td>2.19</td>\n",
       "      <td>0</td>\n",
       "      <td>0</td>\n",
       "      <td>6</td>\n",
       "      <td>0</td>\n",
       "      <td>0</td>\n",
       "      <td>0</td>\n",
       "      <td>0</td>\n",
       "      <td>2/10/2020 08:01:20</td>\n",
       "    </tr>\n",
       "    <tr>\n",
       "      <th>4</th>\n",
       "      <td>1/10/2020</td>\n",
       "      <td>40000</td>\n",
       "      <td>17360.0</td>\n",
       "      <td>ZDZL149-横版改</td>\n",
       "      <td>5646</td>\n",
       "      <td>10</td>\n",
       "      <td>906</td>\n",
       "      <td>91</td>\n",
       "      <td>0.0803</td>\n",
       "      <td>28</td>\n",
       "      <td>0.0309</td>\n",
       "      <td>0.3256</td>\n",
       "      <td>0.2660</td>\n",
       "      <td>0.1854</td>\n",
       "      <td>0.1004</td>\n",
       "      <td>0.1082</td>\n",
       "      <td>0.0806</td>\n",
       "      <td>0.0684</td>\n",
       "      <td>0.0309</td>\n",
       "      <td>4.00</td>\n",
       "      <td>0</td>\n",
       "      <td>0</td>\n",
       "      <td>0</td>\n",
       "      <td>0</td>\n",
       "      <td>0</td>\n",
       "      <td>0</td>\n",
       "      <td>0</td>\n",
       "      <td>2/10/2020 08:01:20</td>\n",
       "    </tr>\n",
       "  </tbody>\n",
       "</table>\n",
       "</div>"
      ],
      "text/plain": [
       "       tdate     id  image_id                         素材名称  ad_account_id  \\\n",
       "0  1/10/2020  31783   16316.0                    SSR123-竖版           5101   \n",
       "1  1/10/2020  31783   16316.0                    SSR123-竖版           6123   \n",
       "2  1/10/2020  32174   16276.0  SSR114-竖版-088.089合体版本（改繁体字）           5893   \n",
       "3  1/10/2020  34881   17107.0                   ZDZL127-横版           5646   \n",
       "4  1/10/2020  40000   17360.0                  ZDZL149-横版改           5646   \n",
       "\n",
       "   media_id  总播放次数  有效播放数   有效播放率  播放完成数  视频数据-播完率  视频数据-2秒播放率  视频数据-3秒播放率  \\\n",
       "0        10  15452   5156  0.3433   4346    0.2813      0.5599      0.4232   \n",
       "1        10  16650   6469  0.3996   5507    0.3308      0.5460      0.4529   \n",
       "2        10    611     27  0.0449     18    0.0295      0.1227      0.0966   \n",
       "3        10  15854   1337  0.0151   1208    0.0762      0.2257      0.1330   \n",
       "4        10    906     91  0.0803     28    0.0309      0.3256      0.2660   \n",
       "\n",
       "   视频数据-5秒播放率  视频数据-10秒播放率  视频数据-25%进度播放率  视频数据-50%进度播放率  视频数据-75%进度播放率  \\\n",
       "0      0.3721       0.3337         0.3785         0.3346         0.3172   \n",
       "1      0.4171       0.3885         0.4218         0.3908         0.3728   \n",
       "2      0.0638       0.0442         0.0311         0.0311         0.0295   \n",
       "3      0.0723       0.0843         0.1156         0.0856         0.0793   \n",
       "4      0.1854       0.1004         0.1082         0.0806         0.0684   \n",
       "\n",
       "   视频数据-99%进度播放率  视频数据-平均单次播放时长  互动数据-分享数  互动数据-评论数  互动数据-点赞数  互动数据-不感兴趣数  \\\n",
       "0         0.2877           7.08         0         1        37           0   \n",
       "1         0.3368           7.83         0         3        42           2   \n",
       "2         0.0295           2.21         0         0         0           0   \n",
       "3         0.0763           2.19         0         0         6           0   \n",
       "4         0.0309           4.00         0         0         0           0   \n",
       "\n",
       "   互动数据-新增关注数  互动数据-私信数  互动数据-举报数                创建时间  \n",
       "0           0         0         0  2/10/2020 08:02:33  \n",
       "1           0         0         1  2/10/2020 08:02:35  \n",
       "2           0         0         0  2/10/2020 08:04:11  \n",
       "3           0         0         0  2/10/2020 08:01:20  \n",
       "4           0         0         0  2/10/2020 08:01:20  "
      ]
     },
     "execution_count": 64,
     "metadata": {},
     "output_type": "execute_result"
    }
   ],
   "source": [
    "df_image.head()"
   ]
  },
  {
   "cell_type": "code",
   "execution_count": 69,
   "metadata": {},
   "outputs": [],
   "source": [
    "df_image.drop(df_image[df_image['image_id'].isna()].index,inplace=True)"
   ]
  },
  {
   "cell_type": "code",
   "execution_count": 71,
   "metadata": {},
   "outputs": [],
   "source": [
    "df_image['image_id'] = df_image['image_id'].astype(int)"
   ]
  },
  {
   "cell_type": "code",
   "execution_count": 74,
   "metadata": {},
   "outputs": [],
   "source": [
    "df = df.reset_index()"
   ]
  },
  {
   "cell_type": "code",
   "execution_count": 75,
   "metadata": {},
   "outputs": [],
   "source": [
    "df['image_id'] = df['image_id'].astype(int)"
   ]
  },
  {
   "cell_type": "code",
   "execution_count": 92,
   "metadata": {},
   "outputs": [],
   "source": [
    "temp = df[['image_id','sorce','回款率']]"
   ]
  },
  {
   "cell_type": "code",
   "execution_count": 93,
   "metadata": {},
   "outputs": [],
   "source": [
    "result = pd.merge(df_image,temp,how='left',validate='many_to_one')"
   ]
  },
  {
   "cell_type": "code",
   "execution_count": 94,
   "metadata": {},
   "outputs": [
    {
     "data": {
      "text/html": [
       "<div>\n",
       "<style scoped>\n",
       "    .dataframe tbody tr th:only-of-type {\n",
       "        vertical-align: middle;\n",
       "    }\n",
       "\n",
       "    .dataframe tbody tr th {\n",
       "        vertical-align: top;\n",
       "    }\n",
       "\n",
       "    .dataframe thead th {\n",
       "        text-align: right;\n",
       "    }\n",
       "</style>\n",
       "<table border=\"1\" class=\"dataframe\">\n",
       "  <thead>\n",
       "    <tr style=\"text-align: right;\">\n",
       "      <th></th>\n",
       "      <th>tdate</th>\n",
       "      <th>id</th>\n",
       "      <th>image_id</th>\n",
       "      <th>素材名称</th>\n",
       "      <th>ad_account_id</th>\n",
       "      <th>media_id</th>\n",
       "      <th>总播放次数</th>\n",
       "      <th>有效播放数</th>\n",
       "      <th>有效播放率</th>\n",
       "      <th>播放完成数</th>\n",
       "      <th>视频数据-播完率</th>\n",
       "      <th>视频数据-2秒播放率</th>\n",
       "      <th>视频数据-3秒播放率</th>\n",
       "      <th>视频数据-5秒播放率</th>\n",
       "      <th>视频数据-10秒播放率</th>\n",
       "      <th>视频数据-25%进度播放率</th>\n",
       "      <th>视频数据-50%进度播放率</th>\n",
       "      <th>视频数据-75%进度播放率</th>\n",
       "      <th>视频数据-99%进度播放率</th>\n",
       "      <th>视频数据-平均单次播放时长</th>\n",
       "      <th>互动数据-分享数</th>\n",
       "      <th>互动数据-评论数</th>\n",
       "      <th>互动数据-点赞数</th>\n",
       "      <th>互动数据-不感兴趣数</th>\n",
       "      <th>互动数据-新增关注数</th>\n",
       "      <th>互动数据-私信数</th>\n",
       "      <th>互动数据-举报数</th>\n",
       "      <th>创建时间</th>\n",
       "      <th>sorce</th>\n",
       "      <th>回款率</th>\n",
       "    </tr>\n",
       "  </thead>\n",
       "  <tbody>\n",
       "    <tr>\n",
       "      <th>0</th>\n",
       "      <td>1/10/2020</td>\n",
       "      <td>31783</td>\n",
       "      <td>16316</td>\n",
       "      <td>SSR123-竖版</td>\n",
       "      <td>5101</td>\n",
       "      <td>10</td>\n",
       "      <td>15452</td>\n",
       "      <td>5156</td>\n",
       "      <td>0.3433</td>\n",
       "      <td>4346</td>\n",
       "      <td>0.2813</td>\n",
       "      <td>0.5599</td>\n",
       "      <td>0.4232</td>\n",
       "      <td>0.3721</td>\n",
       "      <td>0.3337</td>\n",
       "      <td>0.3785</td>\n",
       "      <td>0.3346</td>\n",
       "      <td>0.3172</td>\n",
       "      <td>0.2877</td>\n",
       "      <td>7.08</td>\n",
       "      <td>0</td>\n",
       "      <td>1</td>\n",
       "      <td>37</td>\n",
       "      <td>0</td>\n",
       "      <td>0</td>\n",
       "      <td>0</td>\n",
       "      <td>0</td>\n",
       "      <td>2/10/2020 08:02:33</td>\n",
       "      <td>3.0</td>\n",
       "      <td>0.0</td>\n",
       "    </tr>\n",
       "    <tr>\n",
       "      <th>1</th>\n",
       "      <td>1/10/2020</td>\n",
       "      <td>31783</td>\n",
       "      <td>16316</td>\n",
       "      <td>SSR123-竖版</td>\n",
       "      <td>6123</td>\n",
       "      <td>10</td>\n",
       "      <td>16650</td>\n",
       "      <td>6469</td>\n",
       "      <td>0.3996</td>\n",
       "      <td>5507</td>\n",
       "      <td>0.3308</td>\n",
       "      <td>0.5460</td>\n",
       "      <td>0.4529</td>\n",
       "      <td>0.4171</td>\n",
       "      <td>0.3885</td>\n",
       "      <td>0.4218</td>\n",
       "      <td>0.3908</td>\n",
       "      <td>0.3728</td>\n",
       "      <td>0.3368</td>\n",
       "      <td>7.83</td>\n",
       "      <td>0</td>\n",
       "      <td>3</td>\n",
       "      <td>42</td>\n",
       "      <td>2</td>\n",
       "      <td>0</td>\n",
       "      <td>0</td>\n",
       "      <td>1</td>\n",
       "      <td>2/10/2020 08:02:35</td>\n",
       "      <td>3.0</td>\n",
       "      <td>0.0</td>\n",
       "    </tr>\n",
       "    <tr>\n",
       "      <th>2</th>\n",
       "      <td>1/10/2020</td>\n",
       "      <td>32174</td>\n",
       "      <td>16276</td>\n",
       "      <td>SSR114-竖版-088.089合体版本（改繁体字）</td>\n",
       "      <td>5893</td>\n",
       "      <td>10</td>\n",
       "      <td>611</td>\n",
       "      <td>27</td>\n",
       "      <td>0.0449</td>\n",
       "      <td>18</td>\n",
       "      <td>0.0295</td>\n",
       "      <td>0.1227</td>\n",
       "      <td>0.0966</td>\n",
       "      <td>0.0638</td>\n",
       "      <td>0.0442</td>\n",
       "      <td>0.0311</td>\n",
       "      <td>0.0311</td>\n",
       "      <td>0.0295</td>\n",
       "      <td>0.0295</td>\n",
       "      <td>2.21</td>\n",
       "      <td>0</td>\n",
       "      <td>0</td>\n",
       "      <td>0</td>\n",
       "      <td>0</td>\n",
       "      <td>0</td>\n",
       "      <td>0</td>\n",
       "      <td>0</td>\n",
       "      <td>2/10/2020 08:04:11</td>\n",
       "      <td>3.0</td>\n",
       "      <td>0.0</td>\n",
       "    </tr>\n",
       "    <tr>\n",
       "      <th>3</th>\n",
       "      <td>1/10/2020</td>\n",
       "      <td>34881</td>\n",
       "      <td>17107</td>\n",
       "      <td>ZDZL127-横版</td>\n",
       "      <td>5646</td>\n",
       "      <td>10</td>\n",
       "      <td>15854</td>\n",
       "      <td>1337</td>\n",
       "      <td>0.0151</td>\n",
       "      <td>1208</td>\n",
       "      <td>0.0762</td>\n",
       "      <td>0.2257</td>\n",
       "      <td>0.1330</td>\n",
       "      <td>0.0723</td>\n",
       "      <td>0.0843</td>\n",
       "      <td>0.1156</td>\n",
       "      <td>0.0856</td>\n",
       "      <td>0.0793</td>\n",
       "      <td>0.0763</td>\n",
       "      <td>2.19</td>\n",
       "      <td>0</td>\n",
       "      <td>0</td>\n",
       "      <td>6</td>\n",
       "      <td>0</td>\n",
       "      <td>0</td>\n",
       "      <td>0</td>\n",
       "      <td>0</td>\n",
       "      <td>2/10/2020 08:01:20</td>\n",
       "      <td>NaN</td>\n",
       "      <td>NaN</td>\n",
       "    </tr>\n",
       "    <tr>\n",
       "      <th>4</th>\n",
       "      <td>1/10/2020</td>\n",
       "      <td>40000</td>\n",
       "      <td>17360</td>\n",
       "      <td>ZDZL149-横版改</td>\n",
       "      <td>5646</td>\n",
       "      <td>10</td>\n",
       "      <td>906</td>\n",
       "      <td>91</td>\n",
       "      <td>0.0803</td>\n",
       "      <td>28</td>\n",
       "      <td>0.0309</td>\n",
       "      <td>0.3256</td>\n",
       "      <td>0.2660</td>\n",
       "      <td>0.1854</td>\n",
       "      <td>0.1004</td>\n",
       "      <td>0.1082</td>\n",
       "      <td>0.0806</td>\n",
       "      <td>0.0684</td>\n",
       "      <td>0.0309</td>\n",
       "      <td>4.00</td>\n",
       "      <td>0</td>\n",
       "      <td>0</td>\n",
       "      <td>0</td>\n",
       "      <td>0</td>\n",
       "      <td>0</td>\n",
       "      <td>0</td>\n",
       "      <td>0</td>\n",
       "      <td>2/10/2020 08:01:20</td>\n",
       "      <td>NaN</td>\n",
       "      <td>NaN</td>\n",
       "    </tr>\n",
       "  </tbody>\n",
       "</table>\n",
       "</div>"
      ],
      "text/plain": [
       "       tdate     id  image_id                         素材名称  ad_account_id  \\\n",
       "0  1/10/2020  31783     16316                    SSR123-竖版           5101   \n",
       "1  1/10/2020  31783     16316                    SSR123-竖版           6123   \n",
       "2  1/10/2020  32174     16276  SSR114-竖版-088.089合体版本（改繁体字）           5893   \n",
       "3  1/10/2020  34881     17107                   ZDZL127-横版           5646   \n",
       "4  1/10/2020  40000     17360                  ZDZL149-横版改           5646   \n",
       "\n",
       "   media_id  总播放次数  有效播放数   有效播放率  播放完成数  视频数据-播完率  视频数据-2秒播放率  视频数据-3秒播放率  \\\n",
       "0        10  15452   5156  0.3433   4346    0.2813      0.5599      0.4232   \n",
       "1        10  16650   6469  0.3996   5507    0.3308      0.5460      0.4529   \n",
       "2        10    611     27  0.0449     18    0.0295      0.1227      0.0966   \n",
       "3        10  15854   1337  0.0151   1208    0.0762      0.2257      0.1330   \n",
       "4        10    906     91  0.0803     28    0.0309      0.3256      0.2660   \n",
       "\n",
       "   视频数据-5秒播放率  视频数据-10秒播放率  视频数据-25%进度播放率  视频数据-50%进度播放率  视频数据-75%进度播放率  \\\n",
       "0      0.3721       0.3337         0.3785         0.3346         0.3172   \n",
       "1      0.4171       0.3885         0.4218         0.3908         0.3728   \n",
       "2      0.0638       0.0442         0.0311         0.0311         0.0295   \n",
       "3      0.0723       0.0843         0.1156         0.0856         0.0793   \n",
       "4      0.1854       0.1004         0.1082         0.0806         0.0684   \n",
       "\n",
       "   视频数据-99%进度播放率  视频数据-平均单次播放时长  互动数据-分享数  互动数据-评论数  互动数据-点赞数  互动数据-不感兴趣数  \\\n",
       "0         0.2877           7.08         0         1        37           0   \n",
       "1         0.3368           7.83         0         3        42           2   \n",
       "2         0.0295           2.21         0         0         0           0   \n",
       "3         0.0763           2.19         0         0         6           0   \n",
       "4         0.0309           4.00         0         0         0           0   \n",
       "\n",
       "   互动数据-新增关注数  互动数据-私信数  互动数据-举报数                创建时间  sorce  回款率  \n",
       "0           0         0         0  2/10/2020 08:02:33    3.0  0.0  \n",
       "1           0         0         1  2/10/2020 08:02:35    3.0  0.0  \n",
       "2           0         0         0  2/10/2020 08:04:11    3.0  0.0  \n",
       "3           0         0         0  2/10/2020 08:01:20    NaN  NaN  \n",
       "4           0         0         0  2/10/2020 08:01:20    NaN  NaN  "
      ]
     },
     "execution_count": 94,
     "metadata": {},
     "output_type": "execute_result"
    }
   ],
   "source": [
    "result.head()"
   ]
  },
  {
   "cell_type": "code",
   "execution_count": 95,
   "metadata": {},
   "outputs": [
    {
     "data": {
      "text/plain": [
       "(28802, 30)"
      ]
     },
     "execution_count": 95,
     "metadata": {},
     "output_type": "execute_result"
    }
   ],
   "source": [
    "result.shape"
   ]
  },
  {
   "cell_type": "code",
   "execution_count": 96,
   "metadata": {},
   "outputs": [
    {
     "data": {
      "text/plain": [
       "22724"
      ]
     },
     "execution_count": 96,
     "metadata": {},
     "output_type": "execute_result"
    }
   ],
   "source": [
    "result['sorce'].isna().sum()"
   ]
  },
  {
   "cell_type": "code",
   "execution_count": 97,
   "metadata": {},
   "outputs": [],
   "source": [
    "result.drop(result[result['sorce'].isna()].index,inplace=True)"
   ]
  },
  {
   "cell_type": "code",
   "execution_count": 98,
   "metadata": {},
   "outputs": [
    {
     "data": {
      "text/plain": [
       "(6078, 30)"
      ]
     },
     "execution_count": 98,
     "metadata": {},
     "output_type": "execute_result"
    }
   ],
   "source": [
    "result.shape"
   ]
  },
  {
   "cell_type": "code",
   "execution_count": 100,
   "metadata": {},
   "outputs": [
    {
     "data": {
      "text/plain": [
       "视频数据-2秒播放率      -0.030495\n",
       "视频数据-平均单次播放时长   -0.005539\n",
       "视频数据-3秒播放率       0.003370\n",
       "视频数据-播完率         0.011071\n",
       "视频数据-99%进度播放率    0.013981\n",
       "image_id         0.023296\n",
       "视频数据-10秒播放率      0.025616\n",
       "有效播放率            0.026399\n",
       "视频数据-75%进度播放率    0.031028\n",
       "id               0.035668\n",
       "视频数据-50%进度播放率    0.038727\n",
       "视频数据-25%进度播放率    0.040443\n",
       "视频数据-5秒播放率       0.046835\n",
       "互动数据-分享数         0.056338\n",
       "ad_account_id    0.079787\n",
       "互动数据-举报数         0.104264\n",
       "互动数据-评论数         0.108300\n",
       "总播放次数            0.121623\n",
       "互动数据-点赞数         0.125174\n",
       "互动数据-不感兴趣数       0.143135\n",
       "有效播放数            0.146929\n",
       "播放完成数            0.151082\n",
       "sorce            0.691875\n",
       "回款率              1.000000\n",
       "media_id              NaN\n",
       "互动数据-新增关注数            NaN\n",
       "互动数据-私信数              NaN\n",
       "Name: 回款率, dtype: float64"
      ]
     },
     "execution_count": 100,
     "metadata": {},
     "output_type": "execute_result"
    }
   ],
   "source": [
    "result.corr()['回款率'].sort_values()"
   ]
  },
  {
   "cell_type": "code",
   "execution_count": 102,
   "metadata": {},
   "outputs": [
    {
     "data": {
      "text/plain": [
       "id              -0.024862\n",
       "image_id        -0.011829\n",
       "视频数据-平均单次播放时长    0.002247\n",
       "视频数据-播完率         0.006187\n",
       "视频数据-99%进度播放率    0.008025\n",
       "视频数据-75%进度播放率    0.021671\n",
       "有效播放率            0.025921\n",
       "ad_account_id    0.029136\n",
       "视频数据-10秒播放率      0.030876\n",
       "视频数据-50%进度播放率    0.032615\n",
       "视频数据-2秒播放率       0.037153\n",
       "视频数据-25%进度播放率    0.045134\n",
       "视频数据-3秒播放率       0.062377\n",
       "视频数据-5秒播放率       0.094709\n",
       "互动数据-分享数         0.100916\n",
       "互动数据-举报数         0.142823\n",
       "互动数据-评论数         0.153565\n",
       "互动数据-不感兴趣数       0.182381\n",
       "互动数据-点赞数         0.182495\n",
       "播放完成数            0.188268\n",
       "总播放次数            0.189948\n",
       "有效播放数            0.203763\n",
       "回款率              0.691875\n",
       "sorce            1.000000\n",
       "media_id              NaN\n",
       "互动数据-新增关注数            NaN\n",
       "互动数据-私信数              NaN\n",
       "Name: sorce, dtype: float64"
      ]
     },
     "execution_count": 102,
     "metadata": {},
     "output_type": "execute_result"
    }
   ],
   "source": [
    "result.corr()['sorce'].sort_values()"
   ]
  },
  {
   "cell_type": "code",
   "execution_count": null,
   "metadata": {},
   "outputs": [],
   "source": []
  }
 ],
 "metadata": {
  "kernelspec": {
   "display_name": "Python 3",
   "language": "python",
   "name": "python3"
  },
  "language_info": {
   "codemirror_mode": {
    "name": "ipython",
    "version": 3
   },
   "file_extension": ".py",
   "mimetype": "text/x-python",
   "name": "python",
   "nbconvert_exporter": "python",
   "pygments_lexer": "ipython3",
   "version": "3.7.6"
  }
 },
 "nbformat": 4,
 "nbformat_minor": 4
}
