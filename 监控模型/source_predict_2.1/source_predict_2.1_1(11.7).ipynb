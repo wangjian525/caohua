{
 "cells": [
  {
   "cell_type": "code",
   "execution_count": 1,
   "metadata": {},
   "outputs": [],
   "source": [
    "import pandas as pd\n",
    "import numpy as np\n",
    "import datetime\n",
    "import warnings\n",
    "import joblib\n",
    "import os\n",
    "warnings.filterwarnings('ignore')\n",
    "pd.set_option('display.max_columns',None)"
   ]
  },
  {
   "cell_type": "code",
   "execution_count": 9,
   "metadata": {},
   "outputs": [],
   "source": [
    "file_list = []\n",
    "for root_dir,sub_dir,files in os.walk('./data'):\n",
    "    file_list.append(files)\n",
    "file_list = file_list[0]\n",
    "dataframe_list = pd.DataFrame()\n",
    "for file in files:\n",
    "    if file.endswith('xlsx'):\n",
    "        file_name = os.path.join(root_dir,file)\n",
    "        df = pd.read_excel(file_name)\n",
    "        dataframe_list = dataframe_list.append(df)"
   ]
  },
  {
   "cell_type": "code",
   "execution_count": 10,
   "metadata": {},
   "outputs": [
    {
     "data": {
      "text/plain": [
       "(466200, 18)"
      ]
     },
     "execution_count": 10,
     "metadata": {},
     "output_type": "execute_result"
    }
   ],
   "source": [
    "dataframe_list.shape"
   ]
  },
  {
   "cell_type": "code",
   "execution_count": 11,
   "metadata": {},
   "outputs": [],
   "source": [
    "dataframe_list.drop('新建角色数',axis=1,inplace=True)\n",
    "dataframe_list.columns = ['channel_id','source_id','data_win','model_run_datetime','create_time',\n",
    "                         'game_id','platform','source_run_date_amount','create_role_num','create_role_cost','create_role_pay_num',\n",
    "                          'create_role_pay_cost','create_role_pay_sum','create_role_roi','create_role_retain_1d','create_role_pay_rate',\n",
    "                         'create_role_30_pay_sum']\n",
    "dataframe_list.dropna(how='any',inplace=True)"
   ]
  },
  {
   "cell_type": "code",
   "execution_count": 12,
   "metadata": {},
   "outputs": [
    {
     "data": {
      "text/html": [
       "<div>\n",
       "<style scoped>\n",
       "    .dataframe tbody tr th:only-of-type {\n",
       "        vertical-align: middle;\n",
       "    }\n",
       "\n",
       "    .dataframe tbody tr th {\n",
       "        vertical-align: top;\n",
       "    }\n",
       "\n",
       "    .dataframe thead th {\n",
       "        text-align: right;\n",
       "    }\n",
       "</style>\n",
       "<table border=\"1\" class=\"dataframe\">\n",
       "  <thead>\n",
       "    <tr style=\"text-align: right;\">\n",
       "      <th></th>\n",
       "      <th>channel_id</th>\n",
       "      <th>source_id</th>\n",
       "      <th>data_win</th>\n",
       "      <th>model_run_datetime</th>\n",
       "      <th>create_time</th>\n",
       "      <th>game_id</th>\n",
       "      <th>platform</th>\n",
       "      <th>source_run_date_amount</th>\n",
       "      <th>create_role_num</th>\n",
       "      <th>create_role_cost</th>\n",
       "      <th>create_role_pay_num</th>\n",
       "      <th>create_role_pay_cost</th>\n",
       "      <th>create_role_pay_sum</th>\n",
       "      <th>create_role_roi</th>\n",
       "      <th>create_role_retain_1d</th>\n",
       "      <th>create_role_pay_rate</th>\n",
       "      <th>create_role_30_pay_sum</th>\n",
       "    </tr>\n",
       "  </thead>\n",
       "  <tbody>\n",
       "    <tr>\n",
       "      <th>0</th>\n",
       "      <td>20451</td>\n",
       "      <td>304184</td>\n",
       "      <td>0</td>\n",
       "      <td>2020-05-01</td>\n",
       "      <td>2020-04-30</td>\n",
       "      <td>1000840</td>\n",
       "      <td>1</td>\n",
       "      <td>29.31</td>\n",
       "      <td>3</td>\n",
       "      <td>9.770000</td>\n",
       "      <td>0</td>\n",
       "      <td>0.00</td>\n",
       "      <td>0</td>\n",
       "      <td>0.000000</td>\n",
       "      <td>0.6667</td>\n",
       "      <td>0.00000</td>\n",
       "      <td>12</td>\n",
       "    </tr>\n",
       "    <tr>\n",
       "      <th>1</th>\n",
       "      <td>20451</td>\n",
       "      <td>304185</td>\n",
       "      <td>0</td>\n",
       "      <td>2020-05-01</td>\n",
       "      <td>2020-04-30</td>\n",
       "      <td>1000840</td>\n",
       "      <td>1</td>\n",
       "      <td>496.71</td>\n",
       "      <td>12</td>\n",
       "      <td>41.392500</td>\n",
       "      <td>0</td>\n",
       "      <td>0.00</td>\n",
       "      <td>0</td>\n",
       "      <td>0.000000</td>\n",
       "      <td>0.0000</td>\n",
       "      <td>0.00000</td>\n",
       "      <td>0</td>\n",
       "    </tr>\n",
       "    <tr>\n",
       "      <th>2</th>\n",
       "      <td>20451</td>\n",
       "      <td>304186</td>\n",
       "      <td>0</td>\n",
       "      <td>2020-05-01</td>\n",
       "      <td>2020-04-30</td>\n",
       "      <td>1000840</td>\n",
       "      <td>1</td>\n",
       "      <td>14863.08</td>\n",
       "      <td>87</td>\n",
       "      <td>170.840000</td>\n",
       "      <td>1</td>\n",
       "      <td>14863.08</td>\n",
       "      <td>12</td>\n",
       "      <td>0.000807</td>\n",
       "      <td>0.1149</td>\n",
       "      <td>0.01149</td>\n",
       "      <td>954</td>\n",
       "    </tr>\n",
       "    <tr>\n",
       "      <th>3</th>\n",
       "      <td>20545</td>\n",
       "      <td>291448</td>\n",
       "      <td>0</td>\n",
       "      <td>2020-05-01</td>\n",
       "      <td>2020-04-09</td>\n",
       "      <td>1000840</td>\n",
       "      <td>1</td>\n",
       "      <td>1644.47</td>\n",
       "      <td>123</td>\n",
       "      <td>13.369675</td>\n",
       "      <td>0</td>\n",
       "      <td>0.00</td>\n",
       "      <td>0</td>\n",
       "      <td>0.000000</td>\n",
       "      <td>0.0976</td>\n",
       "      <td>0.00000</td>\n",
       "      <td>198</td>\n",
       "    </tr>\n",
       "    <tr>\n",
       "      <th>4</th>\n",
       "      <td>20545</td>\n",
       "      <td>296967</td>\n",
       "      <td>0</td>\n",
       "      <td>2020-05-01</td>\n",
       "      <td>2020-04-20</td>\n",
       "      <td>1000840</td>\n",
       "      <td>1</td>\n",
       "      <td>1886.79</td>\n",
       "      <td>39</td>\n",
       "      <td>48.379231</td>\n",
       "      <td>0</td>\n",
       "      <td>0.00</td>\n",
       "      <td>0</td>\n",
       "      <td>0.000000</td>\n",
       "      <td>0.1795</td>\n",
       "      <td>0.00000</td>\n",
       "      <td>12</td>\n",
       "    </tr>\n",
       "  </tbody>\n",
       "</table>\n",
       "</div>"
      ],
      "text/plain": [
       "   channel_id  source_id  data_win model_run_datetime create_time  game_id  \\\n",
       "0       20451     304184         0         2020-05-01  2020-04-30  1000840   \n",
       "1       20451     304185         0         2020-05-01  2020-04-30  1000840   \n",
       "2       20451     304186         0         2020-05-01  2020-04-30  1000840   \n",
       "3       20545     291448         0         2020-05-01  2020-04-09  1000840   \n",
       "4       20545     296967         0         2020-05-01  2020-04-20  1000840   \n",
       "\n",
       "   platform  source_run_date_amount  create_role_num  create_role_cost  \\\n",
       "0         1                   29.31                3          9.770000   \n",
       "1         1                  496.71               12         41.392500   \n",
       "2         1                14863.08               87        170.840000   \n",
       "3         1                 1644.47              123         13.369675   \n",
       "4         1                 1886.79               39         48.379231   \n",
       "\n",
       "   create_role_pay_num  create_role_pay_cost  create_role_pay_sum  \\\n",
       "0                    0                  0.00                    0   \n",
       "1                    0                  0.00                    0   \n",
       "2                    1              14863.08                   12   \n",
       "3                    0                  0.00                    0   \n",
       "4                    0                  0.00                    0   \n",
       "\n",
       "   create_role_roi  create_role_retain_1d  create_role_pay_rate  \\\n",
       "0         0.000000                 0.6667               0.00000   \n",
       "1         0.000000                 0.0000               0.00000   \n",
       "2         0.000807                 0.1149               0.01149   \n",
       "3         0.000000                 0.0976               0.00000   \n",
       "4         0.000000                 0.1795               0.00000   \n",
       "\n",
       "   create_role_30_pay_sum  \n",
       "0                      12  \n",
       "1                       0  \n",
       "2                     954  \n",
       "3                     198  \n",
       "4                      12  "
      ]
     },
     "execution_count": 12,
     "metadata": {},
     "output_type": "execute_result"
    }
   ],
   "source": [
    "dataframe_list.head()"
   ]
  },
  {
   "cell_type": "code",
   "execution_count": 14,
   "metadata": {},
   "outputs": [],
   "source": [
    "dataframe_list = dataframe_list[dataframe_list['data_win'].isin([0,1,2,3,7])]"
   ]
  },
  {
   "cell_type": "code",
   "execution_count": 15,
   "metadata": {},
   "outputs": [],
   "source": [
    "dataframe_list = dataframe_list[dataframe_list['source_run_date_amount'] > 0]\n",
    "dataframe_list.sort_values(by='data_win',inplace=True)\n",
    "dataframe_list.drop_duplicates(subset=['channel_id','source_id','source_run_date_amount','create_role_num'],keep='first'\n",
    "                               ,inplace=True)"
   ]
  },
  {
   "cell_type": "code",
   "execution_count": 16,
   "metadata": {},
   "outputs": [
    {
     "data": {
      "text/plain": [
       "(92277, 17)"
      ]
     },
     "execution_count": 16,
     "metadata": {},
     "output_type": "execute_result"
    }
   ],
   "source": [
    "dataframe_list.shape"
   ]
  },
  {
   "cell_type": "code",
   "execution_count": 17,
   "metadata": {},
   "outputs": [
    {
     "data": {
      "text/plain": [
       "0    25707\n",
       "1    20603\n",
       "7    18061\n",
       "2    15544\n",
       "3    12362\n",
       "Name: data_win, dtype: int64"
      ]
     },
     "execution_count": 17,
     "metadata": {},
     "output_type": "execute_result"
    }
   ],
   "source": [
    "dataframe_list['data_win'].value_counts()"
   ]
  },
  {
   "cell_type": "code",
   "execution_count": 18,
   "metadata": {},
   "outputs": [],
   "source": [
    "dataframe_list['30_roi'] = dataframe_list['create_role_30_pay_sum']/dataframe_list['source_run_date_amount']"
   ]
  },
  {
   "cell_type": "markdown",
   "metadata": {},
   "source": [
    "## 分析win=0"
   ]
  },
  {
   "cell_type": "code",
   "execution_count": 19,
   "metadata": {},
   "outputs": [],
   "source": [
    "data_win0 = dataframe_list[dataframe_list['data_win']==0]"
   ]
  },
  {
   "cell_type": "code",
   "execution_count": 20,
   "metadata": {},
   "outputs": [
    {
     "data": {
      "text/plain": [
       "1000840    12691\n",
       "1000993     8159\n",
       "1001049     2688\n",
       "1000960     1142\n",
       "1001258     1009\n",
       "1000954       18\n",
       "Name: game_id, dtype: int64"
      ]
     },
     "execution_count": 20,
     "metadata": {},
     "output_type": "execute_result"
    }
   ],
   "source": [
    "data_win0['game_id'].value_counts()"
   ]
  },
  {
   "cell_type": "code",
   "execution_count": 24,
   "metadata": {},
   "outputs": [
    {
     "data": {
      "text/html": [
       "<div>\n",
       "<style scoped>\n",
       "    .dataframe tbody tr th:only-of-type {\n",
       "        vertical-align: middle;\n",
       "    }\n",
       "\n",
       "    .dataframe tbody tr th {\n",
       "        vertical-align: top;\n",
       "    }\n",
       "\n",
       "    .dataframe thead th {\n",
       "        text-align: right;\n",
       "    }\n",
       "</style>\n",
       "<table border=\"1\" class=\"dataframe\">\n",
       "  <thead>\n",
       "    <tr style=\"text-align: right;\">\n",
       "      <th></th>\n",
       "      <th>channel_id</th>\n",
       "      <th>source_id</th>\n",
       "      <th>data_win</th>\n",
       "      <th>model_run_datetime</th>\n",
       "      <th>create_time</th>\n",
       "      <th>game_id</th>\n",
       "      <th>platform</th>\n",
       "      <th>source_run_date_amount</th>\n",
       "      <th>create_role_num</th>\n",
       "      <th>create_role_cost</th>\n",
       "      <th>create_role_pay_num</th>\n",
       "      <th>create_role_pay_cost</th>\n",
       "      <th>create_role_pay_sum</th>\n",
       "      <th>create_role_roi</th>\n",
       "      <th>create_role_retain_1d</th>\n",
       "      <th>create_role_pay_rate</th>\n",
       "      <th>create_role_30_pay_sum</th>\n",
       "      <th>30_roi</th>\n",
       "    </tr>\n",
       "  </thead>\n",
       "  <tbody>\n",
       "    <tr>\n",
       "      <th>0</th>\n",
       "      <td>20451</td>\n",
       "      <td>304184</td>\n",
       "      <td>0</td>\n",
       "      <td>2020-05-01</td>\n",
       "      <td>2020-04-30</td>\n",
       "      <td>1000840</td>\n",
       "      <td>1</td>\n",
       "      <td>29.31</td>\n",
       "      <td>3</td>\n",
       "      <td>9.77</td>\n",
       "      <td>0</td>\n",
       "      <td>0.0</td>\n",
       "      <td>0</td>\n",
       "      <td>0.0</td>\n",
       "      <td>0.6667</td>\n",
       "      <td>0.0</td>\n",
       "      <td>12</td>\n",
       "      <td>0.409417</td>\n",
       "    </tr>\n",
       "    <tr>\n",
       "      <th>11274</th>\n",
       "      <td>21116</td>\n",
       "      <td>320025</td>\n",
       "      <td>0</td>\n",
       "      <td>2020-06-27</td>\n",
       "      <td>2020-06-17</td>\n",
       "      <td>1000840</td>\n",
       "      <td>1</td>\n",
       "      <td>0.11</td>\n",
       "      <td>0</td>\n",
       "      <td>0.11</td>\n",
       "      <td>0</td>\n",
       "      <td>0.0</td>\n",
       "      <td>0</td>\n",
       "      <td>0.0</td>\n",
       "      <td>0.0000</td>\n",
       "      <td>0.0</td>\n",
       "      <td>0</td>\n",
       "      <td>0.000000</td>\n",
       "    </tr>\n",
       "    <tr>\n",
       "      <th>11276</th>\n",
       "      <td>20953</td>\n",
       "      <td>320910</td>\n",
       "      <td>0</td>\n",
       "      <td>2020-06-27</td>\n",
       "      <td>2020-06-20</td>\n",
       "      <td>1000840</td>\n",
       "      <td>1</td>\n",
       "      <td>362.06</td>\n",
       "      <td>0</td>\n",
       "      <td>362.06</td>\n",
       "      <td>0</td>\n",
       "      <td>0.0</td>\n",
       "      <td>0</td>\n",
       "      <td>0.0</td>\n",
       "      <td>0.0000</td>\n",
       "      <td>0.0</td>\n",
       "      <td>0</td>\n",
       "      <td>0.000000</td>\n",
       "    </tr>\n",
       "    <tr>\n",
       "      <th>11277</th>\n",
       "      <td>21116</td>\n",
       "      <td>321278</td>\n",
       "      <td>0</td>\n",
       "      <td>2020-06-27</td>\n",
       "      <td>2020-06-22</td>\n",
       "      <td>1000840</td>\n",
       "      <td>1</td>\n",
       "      <td>0.17</td>\n",
       "      <td>0</td>\n",
       "      <td>0.17</td>\n",
       "      <td>0</td>\n",
       "      <td>0.0</td>\n",
       "      <td>0</td>\n",
       "      <td>0.0</td>\n",
       "      <td>0.0000</td>\n",
       "      <td>0.0</td>\n",
       "      <td>0</td>\n",
       "      <td>0.000000</td>\n",
       "    </tr>\n",
       "    <tr>\n",
       "      <th>11278</th>\n",
       "      <td>21116</td>\n",
       "      <td>321279</td>\n",
       "      <td>0</td>\n",
       "      <td>2020-06-27</td>\n",
       "      <td>2020-06-22</td>\n",
       "      <td>1000840</td>\n",
       "      <td>1</td>\n",
       "      <td>0.48</td>\n",
       "      <td>0</td>\n",
       "      <td>0.48</td>\n",
       "      <td>0</td>\n",
       "      <td>0.0</td>\n",
       "      <td>0</td>\n",
       "      <td>0.0</td>\n",
       "      <td>0.0000</td>\n",
       "      <td>0.0</td>\n",
       "      <td>0</td>\n",
       "      <td>0.000000</td>\n",
       "    </tr>\n",
       "  </tbody>\n",
       "</table>\n",
       "</div>"
      ],
      "text/plain": [
       "       channel_id  source_id  data_win model_run_datetime create_time  \\\n",
       "0           20451     304184         0         2020-05-01  2020-04-30   \n",
       "11274       21116     320025         0         2020-06-27  2020-06-17   \n",
       "11276       20953     320910         0         2020-06-27  2020-06-20   \n",
       "11277       21116     321278         0         2020-06-27  2020-06-22   \n",
       "11278       21116     321279         0         2020-06-27  2020-06-22   \n",
       "\n",
       "       game_id  platform  source_run_date_amount  create_role_num  \\\n",
       "0      1000840         1                   29.31                3   \n",
       "11274  1000840         1                    0.11                0   \n",
       "11276  1000840         1                  362.06                0   \n",
       "11277  1000840         1                    0.17                0   \n",
       "11278  1000840         1                    0.48                0   \n",
       "\n",
       "       create_role_cost  create_role_pay_num  create_role_pay_cost  \\\n",
       "0                  9.77                    0                   0.0   \n",
       "11274              0.11                    0                   0.0   \n",
       "11276            362.06                    0                   0.0   \n",
       "11277              0.17                    0                   0.0   \n",
       "11278              0.48                    0                   0.0   \n",
       "\n",
       "       create_role_pay_sum  create_role_roi  create_role_retain_1d  \\\n",
       "0                        0              0.0                 0.6667   \n",
       "11274                    0              0.0                 0.0000   \n",
       "11276                    0              0.0                 0.0000   \n",
       "11277                    0              0.0                 0.0000   \n",
       "11278                    0              0.0                 0.0000   \n",
       "\n",
       "       create_role_pay_rate  create_role_30_pay_sum    30_roi  \n",
       "0                       0.0                      12  0.409417  \n",
       "11274                   0.0                       0  0.000000  \n",
       "11276                   0.0                       0  0.000000  \n",
       "11277                   0.0                       0  0.000000  \n",
       "11278                   0.0                       0  0.000000  "
      ]
     },
     "execution_count": 24,
     "metadata": {},
     "output_type": "execute_result"
    }
   ],
   "source": [
    "data_win0[data_win0['game_id']==1000840].head()"
   ]
  },
  {
   "cell_type": "code",
   "execution_count": 37,
   "metadata": {},
   "outputs": [],
   "source": [
    "# 删除game_id=1000954\n",
    "data_win0.drop(data_win0[data_win0['game_id']==1000954].index,inplace=True)"
   ]
  },
  {
   "cell_type": "code",
   "execution_count": 39,
   "metadata": {},
   "outputs": [],
   "source": [
    "import matplotlib.pyplot as plt"
   ]
  },
  {
   "cell_type": "code",
   "execution_count": 56,
   "metadata": {},
   "outputs": [
    {
     "data": {
      "text/plain": [
       "count    16449.000000\n",
       "mean        78.727311\n",
       "std        388.306009\n",
       "min          0.000167\n",
       "25%         15.866032\n",
       "50%         35.972000\n",
       "75%         82.730000\n",
       "max      44000.000000\n",
       "Name: create_role_cost, dtype: float64"
      ]
     },
     "execution_count": 56,
     "metadata": {},
     "output_type": "execute_result"
    }
   ],
   "source": [
    "data_win0[data_win0['platform']==1]['create_role_cost'].describe()"
   ]
  },
  {
   "cell_type": "code",
   "execution_count": 57,
   "metadata": {},
   "outputs": [
    {
     "data": {
      "text/plain": [
       "count     9134.000000\n",
       "mean       125.983440\n",
       "std        260.122757\n",
       "min          0.000238\n",
       "25%         27.900956\n",
       "50%         71.565000\n",
       "75%        156.945000\n",
       "max      18607.800000\n",
       "Name: create_role_cost, dtype: float64"
      ]
     },
     "execution_count": 57,
     "metadata": {},
     "output_type": "execute_result"
    }
   ],
   "source": [
    "data_win0[data_win0['platform']==2]['create_role_cost'].describe()"
   ]
  },
  {
   "cell_type": "code",
   "execution_count": 44,
   "metadata": {},
   "outputs": [
    {
     "data": {
      "image/png": "[encoded data removed]",
      "text/plain": [
       "<Figure size 432x288 with 1 Axes>"
      ]
     },
     "metadata": {
      "needs_background": "light"
     },
     "output_type": "display_data"
    }
   ],
   "source": [
    "x = np.clip(data_win0[data_win0['game_id']==1000840]['create_role_cost'],0,200)\n",
    "y = np.clip(data_win0[data_win0['game_id']==1000840]['30_roi'],0,10)\n",
    "plt.scatter(x,y)\n",
    "plt.show()"
   ]
  },
  {
   "cell_type": "code",
   "execution_count": 48,
   "metadata": {},
   "outputs": [
    {
     "data": {
      "image/png": "[encoded data removed]",
      "text/plain": [
       "<Figure size 432x288 with 1 Axes>"
      ]
     },
     "metadata": {
      "needs_background": "light"
     },
     "output_type": "display_data"
    }
   ],
   "source": [
    "plt.hist(data_win0[data_win0['game_id']==1000840]['create_role_cost'],range=(1,500))\n",
    "plt.show()"
   ]
  },
  {
   "cell_type": "code",
   "execution_count": 82,
   "metadata": {},
   "outputs": [
    {
     "data": {
      "image/png": "[encoded data removed]",
      "text/plain": [
       "<Figure size 432x288 with 1 Axes>"
      ]
     },
     "metadata": {
      "needs_background": "light"
     },
     "output_type": "display_data"
    }
   ],
   "source": [
    "plt.hist(data_win0[data_win0['platform']==1]['create_role_pay_cost'],range=(1,5000))\n",
    "plt.show()"
   ]
  },
  {
   "cell_type": "code",
   "execution_count": 58,
   "metadata": {},
   "outputs": [
    {
     "data": {
      "image/png": "[encoded data removed]",
      "text/plain": [
       "<Figure size 432x288 with 1 Axes>"
      ]
     },
     "metadata": {
      "needs_background": "light"
     },
     "output_type": "display_data"
    }
   ],
   "source": [
    "plt.boxplot(np.clip(data_win0[data_win0['platform']==1]['create_role_cost'],0,200))\n",
    "plt.show()"
   ]
  },
  {
   "cell_type": "code",
   "execution_count": 61,
   "metadata": {},
   "outputs": [
    {
     "data": {
      "image/png": "[encoded data removed]",
      "text/plain": [
       "<Figure size 432x288 with 1 Axes>"
      ]
     },
     "metadata": {
      "needs_background": "light"
     },
     "output_type": "display_data"
    }
   ],
   "source": [
    "plt.boxplot(np.clip(data_win0[data_win0['platform']==2]['create_role_cost'],0,500))\n",
    "plt.show()"
   ]
  },
  {
   "cell_type": "code",
   "execution_count": 84,
   "metadata": {},
   "outputs": [
    {
     "data": {
      "text/plain": [
       "count    16449.000000\n",
       "mean       458.894031\n",
       "std       1009.080495\n",
       "min        100.000000\n",
       "25%        100.000000\n",
       "50%        100.000000\n",
       "75%        100.000000\n",
       "max       5000.000000\n",
       "Name: create_role_pay_cost, dtype: float64"
      ]
     },
     "execution_count": 84,
     "metadata": {},
     "output_type": "execute_result"
    }
   ],
   "source": [
    "np.clip(data_win0[data_win0['platform']==1]['create_role_pay_cost'],100,5000).describe()"
   ]
  },
  {
   "cell_type": "code",
   "execution_count": 86,
   "metadata": {},
   "outputs": [
    {
     "data": {
      "image/png": "[encoded data removed]",
      "text/plain": [
       "<Figure size 432x288 with 1 Axes>"
      ]
     },
     "metadata": {
      "needs_background": "light"
     },
     "output_type": "display_data"
    }
   ],
   "source": [
    "plt.boxplot(np.clip(data_win0[(data_win0['platform']==1)&(data_win0['create_role_pay_cost']!=0)]['create_role_pay_cost'],0,18000))\n",
    "plt.show()"
   ]
  },
  {
   "cell_type": "code",
   "execution_count": 87,
   "metadata": {},
   "outputs": [
    {
     "data": {
      "image/png": "[encoded data removed]",
      "text/plain": [
       "<Figure size 432x288 with 1 Axes>"
      ]
     },
     "metadata": {
      "needs_background": "light"
     },
     "output_type": "display_data"
    }
   ],
   "source": [
    "plt.boxplot(np.clip(data_win0[(data_win0['platform']==2)&(data_win0['create_role_pay_cost']!=0)]['create_role_pay_cost'],0,18000))\n",
    "plt.show()"
   ]
  },
  {
   "cell_type": "code",
   "execution_count": 67,
   "metadata": {},
   "outputs": [
    {
     "name": "stdout",
     "output_type": "stream",
     "text": [
      "1000840 平均创角成本 25.17\n",
      "1000993 平均创角成本 59.23\n",
      "1001049 平均创角成本 16.03\n",
      "1000960 平均创角成本 22.84\n",
      "1001258 平均创角成本 49.77\n"
     ]
    }
   ],
   "source": [
    "# 统计每个游戏包的平均加权创角成本\n",
    "create_role_cost_standard_list = []\n",
    "for game_id in data_win0['game_id'].value_counts().index:\n",
    "    value = round(data_win0[data_win0['game_id']==game_id]['source_run_date_amount'].sum() / \n",
    "                                 data_win0[data_win0['game_id']==game_id]['create_role_num'].sum(),2)\n",
    "    print(game_id,'平均创角成本',value)    \n",
    "    create_role_cost_standard_list.append(value)"
   ]
  },
  {
   "cell_type": "code",
   "execution_count": 71,
   "metadata": {},
   "outputs": [
    {
     "name": "stdout",
     "output_type": "stream",
     "text": [
      "1000840 平均付费成本 5207.73\n",
      "1000993 平均付费成本 8641.35\n",
      "1001049 平均付费成本 4820.2\n",
      "1000960 平均付费成本 6469.16\n",
      "1001258 平均付费成本 18997.71\n"
     ]
    }
   ],
   "source": [
    "# 统计每个游戏包的平均加权付费成本\n",
    "create_role_pay_cost_standard_list = []\n",
    "for game_id in data_win0['game_id'].value_counts().index:\n",
    "    value = round(data_win0[data_win0['game_id']==game_id]['source_run_date_amount'].sum() / \n",
    "                                 data_win0[data_win0['game_id']==game_id]['create_role_pay_num'].sum(),2)\n",
    "    print(game_id,'平均付费成本',value)\n",
    "    create_role_pay_cost_standard_list.append(value)"
   ]
  },
  {
   "cell_type": "code",
   "execution_count": 72,
   "metadata": {},
   "outputs": [],
   "source": [
    "standard = pd.DataFrame()"
   ]
  },
  {
   "cell_type": "code",
   "execution_count": 73,
   "metadata": {},
   "outputs": [],
   "source": [
    "standard['game_id'] = data_win0['game_id'].value_counts().index.tolist()\n",
    "standard['create_role_cost_mean'] = create_role_cost_standard_list\n",
    "standard['create_role_pay_cost_mean'] = create_role_pay_cost_standard_list"
   ]
  },
  {
   "cell_type": "code",
   "execution_count": 74,
   "metadata": {},
   "outputs": [
    {
     "data": {
      "text/html": [
       "<div>\n",
       "<style scoped>\n",
       "    .dataframe tbody tr th:only-of-type {\n",
       "        vertical-align: middle;\n",
       "    }\n",
       "\n",
       "    .dataframe tbody tr th {\n",
       "        vertical-align: top;\n",
       "    }\n",
       "\n",
       "    .dataframe thead th {\n",
       "        text-align: right;\n",
       "    }\n",
       "</style>\n",
       "<table border=\"1\" class=\"dataframe\">\n",
       "  <thead>\n",
       "    <tr style=\"text-align: right;\">\n",
       "      <th></th>\n",
       "      <th>game_id</th>\n",
       "      <th>create_role_cost_mean</th>\n",
       "      <th>create_role_pay_cost_mean</th>\n",
       "    </tr>\n",
       "  </thead>\n",
       "  <tbody>\n",
       "    <tr>\n",
       "      <th>0</th>\n",
       "      <td>1000840</td>\n",
       "      <td>25.17</td>\n",
       "      <td>5207.73</td>\n",
       "    </tr>\n",
       "    <tr>\n",
       "      <th>1</th>\n",
       "      <td>1000993</td>\n",
       "      <td>59.23</td>\n",
       "      <td>8641.35</td>\n",
       "    </tr>\n",
       "    <tr>\n",
       "      <th>2</th>\n",
       "      <td>1001049</td>\n",
       "      <td>16.03</td>\n",
       "      <td>4820.20</td>\n",
       "    </tr>\n",
       "    <tr>\n",
       "      <th>3</th>\n",
       "      <td>1000960</td>\n",
       "      <td>22.84</td>\n",
       "      <td>6469.16</td>\n",
       "    </tr>\n",
       "    <tr>\n",
       "      <th>4</th>\n",
       "      <td>1001258</td>\n",
       "      <td>49.77</td>\n",
       "      <td>18997.71</td>\n",
       "    </tr>\n",
       "  </tbody>\n",
       "</table>\n",
       "</div>"
      ],
      "text/plain": [
       "   game_id  create_role_cost_mean  create_role_pay_cost_mean\n",
       "0  1000840                  25.17                    5207.73\n",
       "1  1000993                  59.23                    8641.35\n",
       "2  1001049                  16.03                    4820.20\n",
       "3  1000960                  22.84                    6469.16\n",
       "4  1001258                  49.77                   18997.71"
      ]
     },
     "execution_count": 74,
     "metadata": {},
     "output_type": "execute_result"
    }
   ],
   "source": [
    "standard.head()"
   ]
  },
  {
   "cell_type": "code",
   "execution_count": null,
   "metadata": {},
   "outputs": [],
   "source": [
    "# 以上分析发现，各游戏包的的成本差异较大，询问投放人员，在实际业务中按统一标准进行操作"
   ]
  },
  {
   "cell_type": "code",
   "execution_count": 91,
   "metadata": {},
   "outputs": [
    {
     "name": "stdout",
     "output_type": "stream",
     "text": [
      "安卓加权平均创角成本 22.89\n",
      "IOS加权平均创角成本 58.66\n",
      "安卓加权平均付费成本 5207.07\n",
      "IOS加权平均付费成本 8888.4\n"
     ]
    }
   ],
   "source": [
    "print('安卓加权平均创角成本',round(data_win0[data_win0['platform']==1]['source_run_date_amount'].sum() / \n",
    "                                 data_win0[data_win0['platform']==1]['create_role_num'].sum(),2))\n",
    "print('IOS加权平均创角成本',round(data_win0[data_win0['platform']==2]['source_run_date_amount'].sum() / \n",
    "                                 data_win0[data_win0['platform']==2]['create_role_num'].sum(),2))\n",
    "print('安卓加权平均付费成本',round(data_win0[data_win0['platform']==1]['source_run_date_amount'].sum() / \n",
    "                                 data_win0[data_win0['platform']==1]['create_role_pay_num'].sum(),2))\n",
    "print('IOS加权平均付费成本',round(data_win0[data_win0['platform']==2]['source_run_date_amount'].sum() / \n",
    "                                 data_win0[data_win0['platform']==2]['create_role_pay_num'].sum(),2))"
   ]
  },
  {
   "cell_type": "code",
   "execution_count": 92,
   "metadata": {},
   "outputs": [
    {
     "name": "stdout",
     "output_type": "stream",
     "text": [
      "55.84427620610296\n",
      "104.48716813373609\n"
     ]
    }
   ],
   "source": [
    "# 统计每个平台的创角成本分布标准差\n",
    "print(np.std(np.clip(data_win0[(data_win0['platform']==1)&(data_win0['create_role_cost']!=0)]['create_role_cost'],0,180)))\n",
    "print(np.std(np.clip(data_win0[(data_win0['platform']==2)&(data_win0['create_role_cost']!=0)]['create_role_cost'],0,350)))"
   ]
  },
  {
   "cell_type": "code",
   "execution_count": 93,
   "metadata": {},
   "outputs": [
    {
     "name": "stdout",
     "output_type": "stream",
     "text": [
      "1842.5668279034815\n",
      "2008.401948181607\n"
     ]
    }
   ],
   "source": [
    "# 统计每个平台的付费成本分布标准差\n",
    "print(np.std(np.clip(data_win0[(data_win0['platform']==2)&(data_win0['create_role_pay_cost']!=0)]['create_role_pay_cost'],0.1,6500)))\n",
    "print(np.std(np.clip(data_win0[(data_win0['platform']==2)&(data_win0['create_role_pay_cost']!=0)]['create_role_pay_cost'],0.1,8000)))"
   ]
  },
  {
   "cell_type": "markdown",
   "metadata": {},
   "source": [
    "### 将无付费创角成本大于mean+std的标记为1，实时关停；"
   ]
  },
  {
   "cell_type": "code",
   "execution_count": 23,
   "metadata": {},
   "outputs": [],
   "source": [
    "data_ignore = dataframe_list[dataframe_list['source_run_date_amount'] < 500]\n",
    "data_not_ignore = dataframe_list[dataframe_list['source_run_date_amount'] >= 500]\n",
    "data_an = data_not_ignore[data_not_ignore['platform'] == 1]\n",
    "data_ios = data_not_ignore[data_not_ignore['platform'] == 2]\n",
    "data_win_0 = data_an[data_an['data_win'] == 0]\n",
    "data_win_1 = data_an[data_an['data_win'] == 1]\n",
    "data_win_2 = data_an[data_an['data_win'] == 2]\n",
    "data_win_3 = data_an[data_an['data_win'] == 3]\n",
    "data_win_7 = data_an[data_an['data_win'] == 7]\n",
    "data_win_0_ios = data_ios[data_ios['data_win'] == 0]\n",
    "data_win_1_ios = data_ios[data_ios['data_win'] == 1]\n",
    "data_win_2_ios = data_ios[data_ios['data_win'] == 2]\n",
    "data_win_3_ios = data_ios[data_ios['data_win'] == 3]\n",
    "data_win_7_ios = data_ios[data_ios['data_win'] == 7]"
   ]
  },
  {
   "cell_type": "markdown",
   "metadata": {},
   "source": [
    "## 计划状态1"
   ]
  },
  {
   "cell_type": "code",
   "execution_count": 1120,
   "metadata": {},
   "outputs": [
    {
     "data": {
      "text/html": [
       "<div>\n",
       "<style scoped>\n",
       "    .dataframe tbody tr th:only-of-type {\n",
       "        vertical-align: middle;\n",
       "    }\n",
       "\n",
       "    .dataframe tbody tr th {\n",
       "        vertical-align: top;\n",
       "    }\n",
       "\n",
       "    .dataframe thead th {\n",
       "        text-align: right;\n",
       "    }\n",
       "</style>\n",
       "<table border=\"1\" class=\"dataframe\">\n",
       "  <thead>\n",
       "    <tr style=\"text-align: right;\">\n",
       "      <th></th>\n",
       "      <th>channel_id</th>\n",
       "      <th>source_id</th>\n",
       "      <th>data_win</th>\n",
       "      <th>model_run_datetime</th>\n",
       "      <th>create_time</th>\n",
       "      <th>game_id</th>\n",
       "      <th>platform</th>\n",
       "      <th>source_run_date_amount</th>\n",
       "      <th>create_role_num</th>\n",
       "      <th>create_role_cost</th>\n",
       "      <th>create_role_pay_num</th>\n",
       "      <th>create_role_pay_cost</th>\n",
       "      <th>create_role_pay_sum</th>\n",
       "      <th>create_role_roi</th>\n",
       "      <th>create_role_retain_1d</th>\n",
       "      <th>create_role_pay_rate</th>\n",
       "      <th>create_role_30_pay_sum</th>\n",
       "      <th>30_roi</th>\n",
       "      <th>label</th>\n",
       "    </tr>\n",
       "  </thead>\n",
       "  <tbody>\n",
       "    <tr>\n",
       "      <th>11258</th>\n",
       "      <td>6867</td>\n",
       "      <td>318975</td>\n",
       "      <td>0</td>\n",
       "      <td>2020-06-27</td>\n",
       "      <td>2020-06-12</td>\n",
       "      <td>1001049</td>\n",
       "      <td>1</td>\n",
       "      <td>1542.94</td>\n",
       "      <td>28</td>\n",
       "      <td>55.105000</td>\n",
       "      <td>0</td>\n",
       "      <td>0.00000</td>\n",
       "      <td>0</td>\n",
       "      <td>0.000000</td>\n",
       "      <td>0.0357</td>\n",
       "      <td>0.00000</td>\n",
       "      <td>12</td>\n",
       "      <td>0.007777</td>\n",
       "      <td>2</td>\n",
       "    </tr>\n",
       "    <tr>\n",
       "      <th>11262</th>\n",
       "      <td>20754</td>\n",
       "      <td>318396</td>\n",
       "      <td>0</td>\n",
       "      <td>2020-06-27</td>\n",
       "      <td>2020-06-11</td>\n",
       "      <td>1001049</td>\n",
       "      <td>1</td>\n",
       "      <td>2124.25</td>\n",
       "      <td>34</td>\n",
       "      <td>62.477941</td>\n",
       "      <td>0</td>\n",
       "      <td>0.00000</td>\n",
       "      <td>0</td>\n",
       "      <td>0.000000</td>\n",
       "      <td>0.0588</td>\n",
       "      <td>0.00000</td>\n",
       "      <td>0</td>\n",
       "      <td>0.000000</td>\n",
       "      <td>2</td>\n",
       "    </tr>\n",
       "    <tr>\n",
       "      <th>11264</th>\n",
       "      <td>20754</td>\n",
       "      <td>321941</td>\n",
       "      <td>0</td>\n",
       "      <td>2020-06-27</td>\n",
       "      <td>2020-06-24</td>\n",
       "      <td>1001049</td>\n",
       "      <td>1</td>\n",
       "      <td>18998.77</td>\n",
       "      <td>3897</td>\n",
       "      <td>4.875230</td>\n",
       "      <td>8</td>\n",
       "      <td>2374.84625</td>\n",
       "      <td>774</td>\n",
       "      <td>0.040739</td>\n",
       "      <td>0.0182</td>\n",
       "      <td>0.00205</td>\n",
       "      <td>14028</td>\n",
       "      <td>0.738364</td>\n",
       "      <td>0</td>\n",
       "    </tr>\n",
       "    <tr>\n",
       "      <th>11267</th>\n",
       "      <td>20754</td>\n",
       "      <td>322323</td>\n",
       "      <td>0</td>\n",
       "      <td>2020-06-27</td>\n",
       "      <td>2020-06-25</td>\n",
       "      <td>1001049</td>\n",
       "      <td>1</td>\n",
       "      <td>4235.28</td>\n",
       "      <td>542</td>\n",
       "      <td>7.814170</td>\n",
       "      <td>0</td>\n",
       "      <td>0.00000</td>\n",
       "      <td>0</td>\n",
       "      <td>0.000000</td>\n",
       "      <td>0.0129</td>\n",
       "      <td>0.00000</td>\n",
       "      <td>0</td>\n",
       "      <td>0.000000</td>\n",
       "      <td>2</td>\n",
       "    </tr>\n",
       "    <tr>\n",
       "      <th>11268</th>\n",
       "      <td>20754</td>\n",
       "      <td>322358</td>\n",
       "      <td>0</td>\n",
       "      <td>2020-06-27</td>\n",
       "      <td>2020-06-27</td>\n",
       "      <td>1001049</td>\n",
       "      <td>1</td>\n",
       "      <td>3459.11</td>\n",
       "      <td>286</td>\n",
       "      <td>12.094790</td>\n",
       "      <td>0</td>\n",
       "      <td>0.00000</td>\n",
       "      <td>0</td>\n",
       "      <td>0.000000</td>\n",
       "      <td>0.0245</td>\n",
       "      <td>0.00000</td>\n",
       "      <td>456</td>\n",
       "      <td>0.131826</td>\n",
       "      <td>2</td>\n",
       "    </tr>\n",
       "  </tbody>\n",
       "</table>\n",
       "</div>"
      ],
      "text/plain": [
       "       channel_id  source_id  data_win model_run_datetime create_time  \\\n",
       "11258        6867     318975         0         2020-06-27  2020-06-12   \n",
       "11262       20754     318396         0         2020-06-27  2020-06-11   \n",
       "11264       20754     321941         0         2020-06-27  2020-06-24   \n",
       "11267       20754     322323         0         2020-06-27  2020-06-25   \n",
       "11268       20754     322358         0         2020-06-27  2020-06-27   \n",
       "\n",
       "       game_id  platform  source_run_date_amount  create_role_num  \\\n",
       "11258  1001049         1                 1542.94               28   \n",
       "11262  1001049         1                 2124.25               34   \n",
       "11264  1001049         1                18998.77             3897   \n",
       "11267  1001049         1                 4235.28              542   \n",
       "11268  1001049         1                 3459.11              286   \n",
       "\n",
       "       create_role_cost  create_role_pay_num  create_role_pay_cost  \\\n",
       "11258         55.105000                    0               0.00000   \n",
       "11262         62.477941                    0               0.00000   \n",
       "11264          4.875230                    8            2374.84625   \n",
       "11267          7.814170                    0               0.00000   \n",
       "11268         12.094790                    0               0.00000   \n",
       "\n",
       "       create_role_pay_sum  create_role_roi  create_role_retain_1d  \\\n",
       "11258                    0         0.000000                 0.0357   \n",
       "11262                    0         0.000000                 0.0588   \n",
       "11264                  774         0.040739                 0.0182   \n",
       "11267                    0         0.000000                 0.0129   \n",
       "11268                    0         0.000000                 0.0245   \n",
       "\n",
       "       create_role_pay_rate  create_role_30_pay_sum    30_roi  label  \n",
       "11258               0.00000                      12  0.007777      2  \n",
       "11262               0.00000                       0  0.000000      2  \n",
       "11264               0.00205                   14028  0.738364      0  \n",
       "11267               0.00000                       0  0.000000      2  \n",
       "11268               0.00000                     456  0.131826      2  "
      ]
     },
     "execution_count": 1120,
     "metadata": {},
     "output_type": "execute_result"
    }
   ],
   "source": [
    "data_win_0.head()"
   ]
  },
  {
   "cell_type": "code",
   "execution_count": 753,
   "metadata": {},
   "outputs": [],
   "source": [
    "# 冷启动预判流程：\n",
    "# 1、创角数为0，标记1 关；\n",
    "# 2、无付费+创角成本超标， 标记1 关；\n",
    "# 3、无付费+成本不超标，标记2 不操作；\n",
    "# 4、有付费+付费成本超标，标记2 不操作；\n",
    "# 5、有付费+付费成本不超标，创角成本超标（高标），标记2 不操作；\n",
    "# 6、其它标记0，由模型决策是3还是4\n",
    "# 安卓创角成本23+56=79（80），付费成本5200+1800=7000\n",
    "# ios创角成本58+104=162（200），付费成本8888+2000=10888（12000）"
   ]
  },
  {
   "cell_type": "code",
   "execution_count": 825,
   "metadata": {},
   "outputs": [],
   "source": [
    "data_win_0['label'] = data_win_0.apply(lambda x:1 if x.create_role_num == 0 else (1 if (x.create_role_pay_sum==0)&\n",
    "        (x.create_role_cost>=80) else(2 if (x.create_role_pay_sum==0)&(x.create_role_cost<80) else \n",
    "        (2 if (x.create_role_pay_sum!=0)&(x.create_role_pay_cost>=7000) else (2 if (x.create_role_pay_sum!=0)&\n",
    "        (x.create_role_pay_cost<7000)&(x.create_role_cost>=140) else 0)))),axis=1)\n",
    "\n",
    "data_win_0_ios['label'] = data_win_0_ios.apply(lambda x:1 if x.create_role_num == 0 else (1 if (x.create_role_pay_sum==0)&\n",
    "        (x.create_role_cost>=200) else(2 if (x.create_role_pay_sum==0)&(x.create_role_cost<200) else \n",
    "        (2 if (x.create_role_pay_sum!=0)&(x.create_role_pay_cost>=12000) else (2 if (x.create_role_pay_sum!=0)&\n",
    "        (x.create_role_pay_cost<12000)&(x.create_role_cost>=300) else 0)))),axis=1)"
   ]
  },
  {
   "cell_type": "code",
   "execution_count": 755,
   "metadata": {},
   "outputs": [
    {
     "data": {
      "text/plain": [
       "2    4982\n",
       "0    2163\n",
       "1    1546\n",
       "Name: label, dtype: int64"
      ]
     },
     "execution_count": 755,
     "metadata": {},
     "output_type": "execute_result"
    }
   ],
   "source": [
    "data_win_0['label'].value_counts()"
   ]
  },
  {
   "cell_type": "code",
   "execution_count": 827,
   "metadata": {},
   "outputs": [
    {
     "data": {
      "text/plain": [
       "2    2441\n",
       "1     665\n",
       "0     639\n",
       "Name: label, dtype: int64"
      ]
     },
     "execution_count": 827,
     "metadata": {},
     "output_type": "execute_result"
    }
   ],
   "source": [
    "data_win_0_ios['label'].value_counts()"
   ]
  },
  {
   "cell_type": "code",
   "execution_count": 782,
   "metadata": {},
   "outputs": [],
   "source": [
    "result_df = pd.DataFrame()\n",
    "temp_df = pd.DataFrame()"
   ]
  },
  {
   "cell_type": "code",
   "execution_count": 783,
   "metadata": {},
   "outputs": [],
   "source": [
    "result_df = result_df.append(data_win_0[(data_win_0['label'] == 1)| (data_win_0['label'] == 2)]).append(data_win_0_ios[(data_win_0_ios['label'] == 1)|(data_win_0_ios['label'] == 2)])\n",
    "temp_df = temp_df.append(data_win_0[data_win_0['label'] == 0]).append(data_win_0_ios[data_win_0_ios['label'] == 0])"
   ]
  },
  {
   "cell_type": "code",
   "execution_count": 784,
   "metadata": {},
   "outputs": [
    {
     "data": {
      "text/plain": [
       "(9634, 19)"
      ]
     },
     "execution_count": 784,
     "metadata": {},
     "output_type": "execute_result"
    }
   ],
   "source": [
    "result_df.shape"
   ]
  },
  {
   "cell_type": "code",
   "execution_count": 785,
   "metadata": {},
   "outputs": [
    {
     "data": {
      "text/plain": [
       "(2802, 19)"
      ]
     },
     "execution_count": 785,
     "metadata": {},
     "output_type": "execute_result"
    }
   ],
   "source": [
    "temp_df.shape"
   ]
  },
  {
   "cell_type": "code",
   "execution_count": 291,
   "metadata": {},
   "outputs": [],
   "source": [
    "# 对temp_df的内容进行建模，判断是3，还是4"
   ]
  },
  {
   "cell_type": "code",
   "execution_count": 761,
   "metadata": {},
   "outputs": [
    {
     "data": {
      "text/html": [
       "<div>\n",
       "<style scoped>\n",
       "    .dataframe tbody tr th:only-of-type {\n",
       "        vertical-align: middle;\n",
       "    }\n",
       "\n",
       "    .dataframe tbody tr th {\n",
       "        vertical-align: top;\n",
       "    }\n",
       "\n",
       "    .dataframe thead th {\n",
       "        text-align: right;\n",
       "    }\n",
       "</style>\n",
       "<table border=\"1\" class=\"dataframe\">\n",
       "  <thead>\n",
       "    <tr style=\"text-align: right;\">\n",
       "      <th></th>\n",
       "      <th>channel_id</th>\n",
       "      <th>source_id</th>\n",
       "      <th>data_win</th>\n",
       "      <th>model_run_datetime</th>\n",
       "      <th>create_time</th>\n",
       "      <th>game_id</th>\n",
       "      <th>platform</th>\n",
       "      <th>source_run_date_amount</th>\n",
       "      <th>create_role_num</th>\n",
       "      <th>create_role_cost</th>\n",
       "      <th>create_role_pay_num</th>\n",
       "      <th>create_role_pay_cost</th>\n",
       "      <th>create_role_pay_sum</th>\n",
       "      <th>create_role_roi</th>\n",
       "      <th>create_role_retain_1d</th>\n",
       "      <th>create_role_pay_rate</th>\n",
       "      <th>create_role_30_pay_sum</th>\n",
       "      <th>30_roi</th>\n",
       "      <th>label</th>\n",
       "    </tr>\n",
       "  </thead>\n",
       "  <tbody>\n",
       "    <tr>\n",
       "      <th>11264</th>\n",
       "      <td>20754</td>\n",
       "      <td>321941</td>\n",
       "      <td>0</td>\n",
       "      <td>2020-06-27</td>\n",
       "      <td>2020-06-24</td>\n",
       "      <td>1001049</td>\n",
       "      <td>1</td>\n",
       "      <td>18998.77</td>\n",
       "      <td>3897</td>\n",
       "      <td>4.875230</td>\n",
       "      <td>8</td>\n",
       "      <td>2374.84625</td>\n",
       "      <td>774</td>\n",
       "      <td>0.040739</td>\n",
       "      <td>0.0182</td>\n",
       "      <td>0.00205</td>\n",
       "      <td>14028</td>\n",
       "      <td>0.738364</td>\n",
       "      <td>0</td>\n",
       "    </tr>\n",
       "    <tr>\n",
       "      <th>15931</th>\n",
       "      <td>6867</td>\n",
       "      <td>322571</td>\n",
       "      <td>0</td>\n",
       "      <td>2020-06-28</td>\n",
       "      <td>2020-06-28</td>\n",
       "      <td>1000840</td>\n",
       "      <td>1</td>\n",
       "      <td>573.17</td>\n",
       "      <td>22</td>\n",
       "      <td>26.053182</td>\n",
       "      <td>1</td>\n",
       "      <td>573.17000</td>\n",
       "      <td>80</td>\n",
       "      <td>0.139575</td>\n",
       "      <td>0.0000</td>\n",
       "      <td>0.04545</td>\n",
       "      <td>80</td>\n",
       "      <td>0.139575</td>\n",
       "      <td>0</td>\n",
       "    </tr>\n",
       "    <tr>\n",
       "      <th>15951</th>\n",
       "      <td>20540</td>\n",
       "      <td>322413</td>\n",
       "      <td>0</td>\n",
       "      <td>2020-06-28</td>\n",
       "      <td>2020-06-28</td>\n",
       "      <td>1000840</td>\n",
       "      <td>1</td>\n",
       "      <td>2830.19</td>\n",
       "      <td>131</td>\n",
       "      <td>21.604504</td>\n",
       "      <td>1</td>\n",
       "      <td>2830.19000</td>\n",
       "      <td>12</td>\n",
       "      <td>0.004240</td>\n",
       "      <td>0.0382</td>\n",
       "      <td>0.00763</td>\n",
       "      <td>12</td>\n",
       "      <td>0.004240</td>\n",
       "      <td>0</td>\n",
       "    </tr>\n",
       "    <tr>\n",
       "      <th>15952</th>\n",
       "      <td>20540</td>\n",
       "      <td>322414</td>\n",
       "      <td>0</td>\n",
       "      <td>2020-06-28</td>\n",
       "      <td>2020-06-28</td>\n",
       "      <td>1000840</td>\n",
       "      <td>1</td>\n",
       "      <td>4716.98</td>\n",
       "      <td>203</td>\n",
       "      <td>23.236355</td>\n",
       "      <td>2</td>\n",
       "      <td>2358.49000</td>\n",
       "      <td>146</td>\n",
       "      <td>0.030952</td>\n",
       "      <td>0.0345</td>\n",
       "      <td>0.00985</td>\n",
       "      <td>868</td>\n",
       "      <td>0.184016</td>\n",
       "      <td>0</td>\n",
       "    </tr>\n",
       "    <tr>\n",
       "      <th>15953</th>\n",
       "      <td>20646</td>\n",
       "      <td>321028</td>\n",
       "      <td>0</td>\n",
       "      <td>2020-06-28</td>\n",
       "      <td>2020-06-20</td>\n",
       "      <td>1000840</td>\n",
       "      <td>1</td>\n",
       "      <td>2336.42</td>\n",
       "      <td>73</td>\n",
       "      <td>32.005753</td>\n",
       "      <td>1</td>\n",
       "      <td>2336.42000</td>\n",
       "      <td>110</td>\n",
       "      <td>0.047081</td>\n",
       "      <td>0.0822</td>\n",
       "      <td>0.01370</td>\n",
       "      <td>594</td>\n",
       "      <td>0.254235</td>\n",
       "      <td>0</td>\n",
       "    </tr>\n",
       "  </tbody>\n",
       "</table>\n",
       "</div>"
      ],
      "text/plain": [
       "       channel_id  source_id  data_win model_run_datetime create_time  \\\n",
       "11264       20754     321941         0         2020-06-27  2020-06-24   \n",
       "15931        6867     322571         0         2020-06-28  2020-06-28   \n",
       "15951       20540     322413         0         2020-06-28  2020-06-28   \n",
       "15952       20540     322414         0         2020-06-28  2020-06-28   \n",
       "15953       20646     321028         0         2020-06-28  2020-06-20   \n",
       "\n",
       "       game_id  platform  source_run_date_amount  create_role_num  \\\n",
       "11264  1001049         1                18998.77             3897   \n",
       "15931  1000840         1                  573.17               22   \n",
       "15951  1000840         1                 2830.19              131   \n",
       "15952  1000840         1                 4716.98              203   \n",
       "15953  1000840         1                 2336.42               73   \n",
       "\n",
       "       create_role_cost  create_role_pay_num  create_role_pay_cost  \\\n",
       "11264          4.875230                    8            2374.84625   \n",
       "15931         26.053182                    1             573.17000   \n",
       "15951         21.604504                    1            2830.19000   \n",
       "15952         23.236355                    2            2358.49000   \n",
       "15953         32.005753                    1            2336.42000   \n",
       "\n",
       "       create_role_pay_sum  create_role_roi  create_role_retain_1d  \\\n",
       "11264                  774         0.040739                 0.0182   \n",
       "15931                   80         0.139575                 0.0000   \n",
       "15951                   12         0.004240                 0.0382   \n",
       "15952                  146         0.030952                 0.0345   \n",
       "15953                  110         0.047081                 0.0822   \n",
       "\n",
       "       create_role_pay_rate  create_role_30_pay_sum    30_roi  label  \n",
       "11264               0.00205                   14028  0.738364      0  \n",
       "15931               0.04545                      80  0.139575      0  \n",
       "15951               0.00763                      12  0.004240      0  \n",
       "15952               0.00985                     868  0.184016      0  \n",
       "15953               0.01370                     594  0.254235      0  "
      ]
     },
     "execution_count": 761,
     "metadata": {},
     "output_type": "execute_result"
    }
   ],
   "source": [
    "temp_df.head()"
   ]
  },
  {
   "cell_type": "code",
   "execution_count": 762,
   "metadata": {},
   "outputs": [
    {
     "data": {
      "text/plain": [
       "create_role_pay_cost     -0.118608\n",
       "platform                 -0.022058\n",
       "create_role_cost         -0.008417\n",
       "source_run_date_amount    0.087286\n",
       "create_role_pay_rate      0.089858\n",
       "create_role_num           0.090659\n",
       "create_role_retain_1d     0.098044\n",
       "create_role_pay_num       0.149297\n",
       "create_role_pay_sum       0.277059\n",
       "create_role_roi           0.392506\n",
       "30_roi                    1.000000\n",
       "Name: 30_roi, dtype: float64"
      ]
     },
     "execution_count": 762,
     "metadata": {},
     "output_type": "execute_result"
    }
   ],
   "source": [
    "temp_df[temp_df['30_roi']<=1][['platform', 'source_run_date_amount',\n",
    "       'create_role_num', 'create_role_cost', 'create_role_pay_num',\n",
    "       'create_role_pay_cost', 'create_role_pay_sum', 'create_role_roi',\n",
    "       'create_role_retain_1d', 'create_role_pay_rate','30_roi']].corr()['30_roi'].sort_values()"
   ]
  },
  {
   "cell_type": "code",
   "execution_count": 763,
   "metadata": {
    "scrolled": true
   },
   "outputs": [
    {
     "data": {
      "text/plain": [
       "count    2802.000000\n",
       "mean        0.824639\n",
       "std         3.119280\n",
       "min         0.001731\n",
       "25%         0.048247\n",
       "50%         0.149458\n",
       "75%         0.475168\n",
       "max        77.539795\n",
       "Name: 30_roi, dtype: float64"
      ]
     },
     "execution_count": 763,
     "metadata": {},
     "output_type": "execute_result"
    }
   ],
   "source": [
    "temp_df['30_roi'].describe()"
   ]
  },
  {
   "cell_type": "code",
   "execution_count": 764,
   "metadata": {},
   "outputs": [
    {
     "data": {
      "image/png": "[encoded data removed]",
      "text/plain": [
       "<Figure size 432x288 with 1 Axes>"
      ]
     },
     "metadata": {
      "needs_background": "light"
     },
     "output_type": "display_data"
    }
   ],
   "source": [
    "plt.boxplot(temp_df[temp_df['30_roi']<=1]['30_roi'])\n",
    "plt.show()"
   ]
  },
  {
   "cell_type": "code",
   "execution_count": 765,
   "metadata": {},
   "outputs": [
    {
     "data": {
      "image/png": "[encoded data removed]",
      "text/plain": [
       "<Figure size 432x288 with 1 Axes>"
      ]
     },
     "metadata": {
      "needs_background": "light"
     },
     "output_type": "display_data"
    }
   ],
   "source": [
    "plt.hist(temp_df[temp_df['30_roi']<=1]['30_roi'])\n",
    "plt.show()"
   ]
  },
  {
   "cell_type": "code",
   "execution_count": 766,
   "metadata": {},
   "outputs": [
    {
     "data": {
      "text/html": [
       "<div>\n",
       "<style scoped>\n",
       "    .dataframe tbody tr th:only-of-type {\n",
       "        vertical-align: middle;\n",
       "    }\n",
       "\n",
       "    .dataframe tbody tr th {\n",
       "        vertical-align: top;\n",
       "    }\n",
       "\n",
       "    .dataframe thead th {\n",
       "        text-align: right;\n",
       "    }\n",
       "</style>\n",
       "<table border=\"1\" class=\"dataframe\">\n",
       "  <thead>\n",
       "    <tr style=\"text-align: right;\">\n",
       "      <th></th>\n",
       "      <th>channel_id</th>\n",
       "      <th>source_id</th>\n",
       "      <th>data_win</th>\n",
       "      <th>model_run_datetime</th>\n",
       "      <th>create_time</th>\n",
       "      <th>game_id</th>\n",
       "      <th>platform</th>\n",
       "      <th>source_run_date_amount</th>\n",
       "      <th>create_role_num</th>\n",
       "      <th>create_role_cost</th>\n",
       "      <th>create_role_pay_num</th>\n",
       "      <th>create_role_pay_cost</th>\n",
       "      <th>create_role_pay_sum</th>\n",
       "      <th>create_role_roi</th>\n",
       "      <th>create_role_retain_1d</th>\n",
       "      <th>create_role_pay_rate</th>\n",
       "      <th>create_role_30_pay_sum</th>\n",
       "      <th>30_roi</th>\n",
       "      <th>label</th>\n",
       "    </tr>\n",
       "  </thead>\n",
       "  <tbody>\n",
       "    <tr>\n",
       "      <th>11264</th>\n",
       "      <td>20754</td>\n",
       "      <td>321941</td>\n",
       "      <td>0</td>\n",
       "      <td>2020-06-27</td>\n",
       "      <td>2020-06-24</td>\n",
       "      <td>1001049</td>\n",
       "      <td>1</td>\n",
       "      <td>18998.77</td>\n",
       "      <td>3897</td>\n",
       "      <td>4.875230</td>\n",
       "      <td>8</td>\n",
       "      <td>2374.84625</td>\n",
       "      <td>774</td>\n",
       "      <td>0.040739</td>\n",
       "      <td>0.0182</td>\n",
       "      <td>0.00205</td>\n",
       "      <td>14028</td>\n",
       "      <td>0.738364</td>\n",
       "      <td>0</td>\n",
       "    </tr>\n",
       "    <tr>\n",
       "      <th>15931</th>\n",
       "      <td>6867</td>\n",
       "      <td>322571</td>\n",
       "      <td>0</td>\n",
       "      <td>2020-06-28</td>\n",
       "      <td>2020-06-28</td>\n",
       "      <td>1000840</td>\n",
       "      <td>1</td>\n",
       "      <td>573.17</td>\n",
       "      <td>22</td>\n",
       "      <td>26.053182</td>\n",
       "      <td>1</td>\n",
       "      <td>573.17000</td>\n",
       "      <td>80</td>\n",
       "      <td>0.139575</td>\n",
       "      <td>0.0000</td>\n",
       "      <td>0.04545</td>\n",
       "      <td>80</td>\n",
       "      <td>0.139575</td>\n",
       "      <td>0</td>\n",
       "    </tr>\n",
       "    <tr>\n",
       "      <th>15951</th>\n",
       "      <td>20540</td>\n",
       "      <td>322413</td>\n",
       "      <td>0</td>\n",
       "      <td>2020-06-28</td>\n",
       "      <td>2020-06-28</td>\n",
       "      <td>1000840</td>\n",
       "      <td>1</td>\n",
       "      <td>2830.19</td>\n",
       "      <td>131</td>\n",
       "      <td>21.604504</td>\n",
       "      <td>1</td>\n",
       "      <td>2830.19000</td>\n",
       "      <td>12</td>\n",
       "      <td>0.004240</td>\n",
       "      <td>0.0382</td>\n",
       "      <td>0.00763</td>\n",
       "      <td>12</td>\n",
       "      <td>0.004240</td>\n",
       "      <td>0</td>\n",
       "    </tr>\n",
       "    <tr>\n",
       "      <th>15952</th>\n",
       "      <td>20540</td>\n",
       "      <td>322414</td>\n",
       "      <td>0</td>\n",
       "      <td>2020-06-28</td>\n",
       "      <td>2020-06-28</td>\n",
       "      <td>1000840</td>\n",
       "      <td>1</td>\n",
       "      <td>4716.98</td>\n",
       "      <td>203</td>\n",
       "      <td>23.236355</td>\n",
       "      <td>2</td>\n",
       "      <td>2358.49000</td>\n",
       "      <td>146</td>\n",
       "      <td>0.030952</td>\n",
       "      <td>0.0345</td>\n",
       "      <td>0.00985</td>\n",
       "      <td>868</td>\n",
       "      <td>0.184016</td>\n",
       "      <td>0</td>\n",
       "    </tr>\n",
       "    <tr>\n",
       "      <th>15953</th>\n",
       "      <td>20646</td>\n",
       "      <td>321028</td>\n",
       "      <td>0</td>\n",
       "      <td>2020-06-28</td>\n",
       "      <td>2020-06-20</td>\n",
       "      <td>1000840</td>\n",
       "      <td>1</td>\n",
       "      <td>2336.42</td>\n",
       "      <td>73</td>\n",
       "      <td>32.005753</td>\n",
       "      <td>1</td>\n",
       "      <td>2336.42000</td>\n",
       "      <td>110</td>\n",
       "      <td>0.047081</td>\n",
       "      <td>0.0822</td>\n",
       "      <td>0.01370</td>\n",
       "      <td>594</td>\n",
       "      <td>0.254235</td>\n",
       "      <td>0</td>\n",
       "    </tr>\n",
       "  </tbody>\n",
       "</table>\n",
       "</div>"
      ],
      "text/plain": [
       "       channel_id  source_id  data_win model_run_datetime create_time  \\\n",
       "11264       20754     321941         0         2020-06-27  2020-06-24   \n",
       "15931        6867     322571         0         2020-06-28  2020-06-28   \n",
       "15951       20540     322413         0         2020-06-28  2020-06-28   \n",
       "15952       20540     322414         0         2020-06-28  2020-06-28   \n",
       "15953       20646     321028         0         2020-06-28  2020-06-20   \n",
       "\n",
       "       game_id  platform  source_run_date_amount  create_role_num  \\\n",
       "11264  1001049         1                18998.77             3897   \n",
       "15931  1000840         1                  573.17               22   \n",
       "15951  1000840         1                 2830.19              131   \n",
       "15952  1000840         1                 4716.98              203   \n",
       "15953  1000840         1                 2336.42               73   \n",
       "\n",
       "       create_role_cost  create_role_pay_num  create_role_pay_cost  \\\n",
       "11264          4.875230                    8            2374.84625   \n",
       "15931         26.053182                    1             573.17000   \n",
       "15951         21.604504                    1            2830.19000   \n",
       "15952         23.236355                    2            2358.49000   \n",
       "15953         32.005753                    1            2336.42000   \n",
       "\n",
       "       create_role_pay_sum  create_role_roi  create_role_retain_1d  \\\n",
       "11264                  774         0.040739                 0.0182   \n",
       "15931                   80         0.139575                 0.0000   \n",
       "15951                   12         0.004240                 0.0382   \n",
       "15952                  146         0.030952                 0.0345   \n",
       "15953                  110         0.047081                 0.0822   \n",
       "\n",
       "       create_role_pay_rate  create_role_30_pay_sum    30_roi  label  \n",
       "11264               0.00205                   14028  0.738364      0  \n",
       "15931               0.04545                      80  0.139575      0  \n",
       "15951               0.00763                      12  0.004240      0  \n",
       "15952               0.00985                     868  0.184016      0  \n",
       "15953               0.01370                     594  0.254235      0  "
      ]
     },
     "execution_count": 766,
     "metadata": {},
     "output_type": "execute_result"
    }
   ],
   "source": [
    "temp_df.head()"
   ]
  },
  {
   "cell_type": "code",
   "execution_count": 789,
   "metadata": {},
   "outputs": [],
   "source": [
    "# temp_df.to_csv('./temp_df.csv')\n",
    "# 手动打标签 1差；0好\n",
    "# 付费人数=1  标1；付费人数=2且金额=24 标1；\n",
    "# 安卓付费成本>2500 标1  （其中# roi>8% 且付费人数>=2 且付费率>=0.015 改标0）\n",
    "# IOS付费成本>4000 标1  （其中# roi>8% 且付费人数>=2 且付费率>=0.015 改标0）\n",
    "# 付费人数=2 且roi<=0.02 标1\n",
    "# 安卓付费成本>60标1；IOS创角成本>100标1\n",
    "# 其它roi<=0.15 标1\n",
    "# 其它标0"
   ]
  },
  {
   "cell_type": "code",
   "execution_count": 791,
   "metadata": {},
   "outputs": [],
   "source": [
    "# temp_df = pd.read_csv('./temp_df.csv',index_col=0)"
   ]
  },
  {
   "cell_type": "code",
   "execution_count": null,
   "metadata": {},
   "outputs": [],
   "source": []
  },
  {
   "cell_type": "code",
   "execution_count": 792,
   "metadata": {},
   "outputs": [
    {
     "data": {
      "text/html": [
       "<div>\n",
       "<style scoped>\n",
       "    .dataframe tbody tr th:only-of-type {\n",
       "        vertical-align: middle;\n",
       "    }\n",
       "\n",
       "    .dataframe tbody tr th {\n",
       "        vertical-align: top;\n",
       "    }\n",
       "\n",
       "    .dataframe thead th {\n",
       "        text-align: right;\n",
       "    }\n",
       "</style>\n",
       "<table border=\"1\" class=\"dataframe\">\n",
       "  <thead>\n",
       "    <tr style=\"text-align: right;\">\n",
       "      <th></th>\n",
       "      <th>channel_id</th>\n",
       "      <th>source_id</th>\n",
       "      <th>data_win</th>\n",
       "      <th>model_run_datetime</th>\n",
       "      <th>create_time</th>\n",
       "      <th>game_id</th>\n",
       "      <th>platform</th>\n",
       "      <th>source_run_date_amount</th>\n",
       "      <th>create_role_num</th>\n",
       "      <th>create_role_cost</th>\n",
       "      <th>create_role_pay_num</th>\n",
       "      <th>create_role_pay_cost</th>\n",
       "      <th>create_role_pay_sum</th>\n",
       "      <th>create_role_roi</th>\n",
       "      <th>create_role_pay_rate</th>\n",
       "      <th>create_role_30_pay_sum</th>\n",
       "      <th>30_roi</th>\n",
       "      <th>label</th>\n",
       "    </tr>\n",
       "  </thead>\n",
       "  <tbody>\n",
       "    <tr>\n",
       "      <th>207</th>\n",
       "      <td>21117</td>\n",
       "      <td>329767</td>\n",
       "      <td>0</td>\n",
       "      <td>2020/7/25</td>\n",
       "      <td>2020/7/13</td>\n",
       "      <td>1000993</td>\n",
       "      <td>2</td>\n",
       "      <td>23021.47</td>\n",
       "      <td>250</td>\n",
       "      <td>92.085880</td>\n",
       "      <td>2</td>\n",
       "      <td>11510.73500</td>\n",
       "      <td>72</td>\n",
       "      <td>0.003128</td>\n",
       "      <td>0.00800</td>\n",
       "      <td>340</td>\n",
       "      <td>0.014769</td>\n",
       "      <td>1</td>\n",
       "    </tr>\n",
       "    <tr>\n",
       "      <th>15931</th>\n",
       "      <td>6867</td>\n",
       "      <td>322571</td>\n",
       "      <td>0</td>\n",
       "      <td>2020/6/28</td>\n",
       "      <td>2020/6/28</td>\n",
       "      <td>1000840</td>\n",
       "      <td>1</td>\n",
       "      <td>573.17</td>\n",
       "      <td>22</td>\n",
       "      <td>26.053182</td>\n",
       "      <td>1</td>\n",
       "      <td>573.17000</td>\n",
       "      <td>80</td>\n",
       "      <td>0.139575</td>\n",
       "      <td>0.04545</td>\n",
       "      <td>80</td>\n",
       "      <td>0.139575</td>\n",
       "      <td>1</td>\n",
       "    </tr>\n",
       "    <tr>\n",
       "      <th>15951</th>\n",
       "      <td>20540</td>\n",
       "      <td>322413</td>\n",
       "      <td>0</td>\n",
       "      <td>2020/6/28</td>\n",
       "      <td>2020/6/28</td>\n",
       "      <td>1000840</td>\n",
       "      <td>1</td>\n",
       "      <td>2830.19</td>\n",
       "      <td>131</td>\n",
       "      <td>21.604504</td>\n",
       "      <td>1</td>\n",
       "      <td>2830.19000</td>\n",
       "      <td>12</td>\n",
       "      <td>0.004240</td>\n",
       "      <td>0.00763</td>\n",
       "      <td>12</td>\n",
       "      <td>0.004240</td>\n",
       "      <td>1</td>\n",
       "    </tr>\n",
       "    <tr>\n",
       "      <th>6100</th>\n",
       "      <td>20452</td>\n",
       "      <td>335297</td>\n",
       "      <td>0</td>\n",
       "      <td>2020/7/26</td>\n",
       "      <td>2020/7/23</td>\n",
       "      <td>1000993</td>\n",
       "      <td>2</td>\n",
       "      <td>33279.20</td>\n",
       "      <td>200</td>\n",
       "      <td>166.396000</td>\n",
       "      <td>3</td>\n",
       "      <td>11093.06667</td>\n",
       "      <td>1916</td>\n",
       "      <td>0.057573</td>\n",
       "      <td>0.01500</td>\n",
       "      <td>2202</td>\n",
       "      <td>0.066167</td>\n",
       "      <td>1</td>\n",
       "    </tr>\n",
       "    <tr>\n",
       "      <th>15953</th>\n",
       "      <td>20646</td>\n",
       "      <td>321028</td>\n",
       "      <td>0</td>\n",
       "      <td>2020/6/28</td>\n",
       "      <td>2020/6/20</td>\n",
       "      <td>1000840</td>\n",
       "      <td>1</td>\n",
       "      <td>2336.42</td>\n",
       "      <td>73</td>\n",
       "      <td>32.005753</td>\n",
       "      <td>1</td>\n",
       "      <td>2336.42000</td>\n",
       "      <td>110</td>\n",
       "      <td>0.047081</td>\n",
       "      <td>0.01370</td>\n",
       "      <td>594</td>\n",
       "      <td>0.254235</td>\n",
       "      <td>1</td>\n",
       "    </tr>\n",
       "  </tbody>\n",
       "</table>\n",
       "</div>"
      ],
      "text/plain": [
       "       channel_id  source_id  data_win model_run_datetime create_time  \\\n",
       "207         21117     329767         0          2020/7/25   2020/7/13   \n",
       "15931        6867     322571         0          2020/6/28   2020/6/28   \n",
       "15951       20540     322413         0          2020/6/28   2020/6/28   \n",
       "6100        20452     335297         0          2020/7/26   2020/7/23   \n",
       "15953       20646     321028         0          2020/6/28   2020/6/20   \n",
       "\n",
       "       game_id  platform  source_run_date_amount  create_role_num  \\\n",
       "207    1000993         2                23021.47              250   \n",
       "15931  1000840         1                  573.17               22   \n",
       "15951  1000840         1                 2830.19              131   \n",
       "6100   1000993         2                33279.20              200   \n",
       "15953  1000840         1                 2336.42               73   \n",
       "\n",
       "       create_role_cost  create_role_pay_num  create_role_pay_cost  \\\n",
       "207           92.085880                    2           11510.73500   \n",
       "15931         26.053182                    1             573.17000   \n",
       "15951         21.604504                    1            2830.19000   \n",
       "6100         166.396000                    3           11093.06667   \n",
       "15953         32.005753                    1            2336.42000   \n",
       "\n",
       "       create_role_pay_sum  create_role_roi  create_role_pay_rate  \\\n",
       "207                     72         0.003128               0.00800   \n",
       "15931                   80         0.139575               0.04545   \n",
       "15951                   12         0.004240               0.00763   \n",
       "6100                  1916         0.057573               0.01500   \n",
       "15953                  110         0.047081               0.01370   \n",
       "\n",
       "       create_role_30_pay_sum    30_roi  label  \n",
       "207                       340  0.014769      1  \n",
       "15931                      80  0.139575      1  \n",
       "15951                      12  0.004240      1  \n",
       "6100                     2202  0.066167      1  \n",
       "15953                     594  0.254235      1  "
      ]
     },
     "execution_count": 792,
     "metadata": {},
     "output_type": "execute_result"
    }
   ],
   "source": [
    "temp_df.head()"
   ]
  },
  {
   "cell_type": "code",
   "execution_count": 200,
   "metadata": {},
   "outputs": [],
   "source": [
    "# temp_df['label'] = temp_df['30_roi'].apply(lambda x :1 if x>=0.47 else 0)\n",
    "# temp_df['label'] = temp_df.apply(lambda x:1 if x.create_role_pay_cost<=2500 else (1 if x.create_role_roi>=0.02 else(1 if \n",
    "#                 x.create_role_pay_rate>=0.03 else 0)), axis=1)                                                                                                          "
   ]
  },
  {
   "cell_type": "code",
   "execution_count": 212,
   "metadata": {},
   "outputs": [],
   "source": [
    "# temp_df['label'] = temp_df.apply(lambda x:1 if (x.create_role_pay_cost<=2500)&(x.create_role_roi>=0.02)&\n",
    "#                                  (x.create_role_pay_rate>=0.03)  else 0, axis=1)                                                                                                          "
   ]
  },
  {
   "cell_type": "code",
   "execution_count": 793,
   "metadata": {
    "scrolled": true
   },
   "outputs": [
    {
     "data": {
      "text/plain": [
       "1    2415\n",
       "0     387\n",
       "Name: label, dtype: int64"
      ]
     },
     "execution_count": 793,
     "metadata": {},
     "output_type": "execute_result"
    }
   ],
   "source": [
    "temp_df['label'].value_counts()"
   ]
  },
  {
   "cell_type": "code",
   "execution_count": 794,
   "metadata": {},
   "outputs": [],
   "source": [
    "import lightgbm as lgb\n",
    "from sklearn.model_selection import KFold, train_test_split\n",
    "from sklearn.preprocessing import LabelEncoder, OneHotEncoder,MinMaxScaler, StandardScaler\n",
    "from sklearn.metrics import recall_score, auc, accuracy_score, f1_score, precision_score, classification_report, roc_auc_score,mean_squared_error\n",
    "from sklearn.metrics import mean_absolute_error"
   ]
  },
  {
   "cell_type": "code",
   "execution_count": 796,
   "metadata": {},
   "outputs": [
    {
     "data": {
      "text/plain": [
       "create_role_pay_num      -0.281180\n",
       "create_role_pay_sum      -0.191612\n",
       "create_role_num          -0.141505\n",
       "source_run_date_amount   -0.098083\n",
       "create_role_roi          -0.091567\n",
       "platform                  0.022819\n",
       "create_role_pay_rate      0.062719\n",
       "create_role_cost          0.152182\n",
       "create_role_pay_cost      0.249271\n",
       "label                     1.000000\n",
       "Name: label, dtype: float64"
      ]
     },
     "execution_count": 796,
     "metadata": {},
     "output_type": "execute_result"
    }
   ],
   "source": [
    "temp_df[['source_run_date_amount','platform',\n",
    "       'create_role_num', 'create_role_cost', 'create_role_pay_num',\n",
    "       'create_role_pay_cost', 'create_role_pay_sum', 'create_role_roi', 'create_role_pay_rate','label']].corr()['label'].sort_values()"
   ]
  },
  {
   "cell_type": "code",
   "execution_count": 797,
   "metadata": {},
   "outputs": [],
   "source": [
    "data_train = temp_df[['source_run_date_amount',\n",
    "       'create_role_num', 'create_role_cost', 'create_role_pay_num',\n",
    "       'create_role_pay_cost', 'create_role_pay_sum', 'create_role_roi', 'create_role_pay_rate','label']]"
   ]
  },
  {
   "cell_type": "code",
   "execution_count": 798,
   "metadata": {},
   "outputs": [
    {
     "data": {
      "text/plain": [
       "(2802, 9)"
      ]
     },
     "execution_count": 798,
     "metadata": {},
     "output_type": "execute_result"
    }
   ],
   "source": [
    "data_train.shape"
   ]
  },
  {
   "cell_type": "code",
   "execution_count": 799,
   "metadata": {},
   "outputs": [],
   "source": [
    "data_Train,data_Test = train_test_split(data_train,test_size=0.2)"
   ]
  },
  {
   "cell_type": "code",
   "execution_count": 800,
   "metadata": {},
   "outputs": [],
   "source": [
    "target = data_Train['label']\n",
    "features = data_Train.drop(['label'], axis=1)\n",
    "X_val, x_test, Y_val, y_test = train_test_split(features,target, test_size=0.2)"
   ]
  },
  {
   "cell_type": "code",
   "execution_count": 801,
   "metadata": {},
   "outputs": [],
   "source": [
    "# 使用GBDT模型预测\n",
    "from sklearn.ensemble import GradientBoostingClassifier\n",
    "gbdt_win0 = GradientBoostingClassifier()\n",
    "gbdt_win0.fit(X_val, Y_val)\n",
    "y_predict = gbdt_win0.predict(x_test)"
   ]
  },
  {
   "cell_type": "code",
   "execution_count": 802,
   "metadata": {},
   "outputs": [
    {
     "name": "stdout",
     "output_type": "stream",
     "text": [
      "              precision    recall  f1-score   support\n",
      "\n",
      "           0       0.96      0.78      0.86        64\n",
      "           1       0.96      0.99      0.98       385\n",
      "\n",
      "    accuracy                           0.96       449\n",
      "   macro avg       0.96      0.89      0.92       449\n",
      "weighted avg       0.96      0.96      0.96       449\n",
      "\n"
     ]
    }
   ],
   "source": [
    "print(classification_report( y_test, y_predict))"
   ]
  },
  {
   "cell_type": "code",
   "execution_count": 337,
   "metadata": {},
   "outputs": [],
   "source": [
    "# y_predict = pd.Series(y_predict[:,1])\n",
    "# y_predict_val = y_predict.apply(lambda x:1 if x>=0.6 else 0)"
   ]
  },
  {
   "cell_type": "code",
   "execution_count": 803,
   "metadata": {},
   "outputs": [
    {
     "name": "stdout",
     "output_type": "stream",
     "text": [
      "[0.78125    0.99480519]\n",
      "0.964735516372796\n",
      "0.9643652561247216\n",
      "0.9795396419437341\n"
     ]
    }
   ],
   "source": [
    "print(recall_score( y_test, y_predict, average=None))\n",
    "print(precision_score( y_test, y_predict))\n",
    "print(accuracy_score( y_test, y_predict))\n",
    "print(f1_score( y_test, y_predict))"
   ]
  },
  {
   "cell_type": "code",
   "execution_count": 824,
   "metadata": {},
   "outputs": [
    {
     "data": {
      "text/plain": [
       "['gbdt_win0.pkl']"
      ]
     },
     "execution_count": 824,
     "metadata": {},
     "output_type": "execute_result"
    }
   ],
   "source": [
    "joblib.dump(gbdt_win0,'gbdt_win0.pkl')"
   ]
  },
  {
   "cell_type": "code",
   "execution_count": 805,
   "metadata": {},
   "outputs": [],
   "source": [
    "temp_df['label_pre'] = gbdt_win0.predict(temp_df[['source_run_date_amount',\n",
    "       'create_role_num', 'create_role_cost', 'create_role_pay_num',\n",
    "       'create_role_pay_cost', 'create_role_pay_sum', 'create_role_roi', 'create_role_pay_rate']])\n",
    "temp_df['label_pre'] = temp_df['label_pre'].apply(lambda x:3 if x==1 else 4)"
   ]
  },
  {
   "cell_type": "code",
   "execution_count": 807,
   "metadata": {
    "scrolled": false
   },
   "outputs": [
    {
     "data": {
      "text/plain": [
       "3    2439\n",
       "4     363\n",
       "Name: label_pre, dtype: int64"
      ]
     },
     "execution_count": 807,
     "metadata": {},
     "output_type": "execute_result"
    }
   ],
   "source": [
    "temp_df['label_pre'].value_counts()"
   ]
  },
  {
   "cell_type": "code",
   "execution_count": 809,
   "metadata": {},
   "outputs": [
    {
     "data": {
      "text/plain": [
       "0.5906967534169923"
      ]
     },
     "execution_count": 809,
     "metadata": {},
     "output_type": "execute_result"
    }
   ],
   "source": [
    "temp_df[temp_df['label_pre']==3]['create_role_30_pay_sum'].sum()/temp_df[temp_df['label_pre']==3]['source_run_date_amount'].sum()"
   ]
  },
  {
   "cell_type": "code",
   "execution_count": 810,
   "metadata": {},
   "outputs": [
    {
     "data": {
      "text/plain": [
       "0.9551439877025414"
      ]
     },
     "execution_count": 810,
     "metadata": {},
     "output_type": "execute_result"
    }
   ],
   "source": [
    "temp_df[temp_df['label_pre']==4]['create_role_30_pay_sum'].sum()/temp_df[temp_df['label_pre']==4]['source_run_date_amount'].sum()"
   ]
  },
  {
   "cell_type": "code",
   "execution_count": 811,
   "metadata": {},
   "outputs": [
    {
     "data": {
      "text/plain": [
       "0.14629801211443344"
      ]
     },
     "execution_count": 811,
     "metadata": {},
     "output_type": "execute_result"
    }
   ],
   "source": [
    "result_df[result_df['label']==2]['create_role_30_pay_sum'].sum()/result_df[result_df['label']==2]['source_run_date_amount'].sum()"
   ]
  },
  {
   "cell_type": "code",
   "execution_count": 812,
   "metadata": {},
   "outputs": [
    {
     "data": {
      "text/plain": [
       "0.03094994351978452"
      ]
     },
     "execution_count": 812,
     "metadata": {},
     "output_type": "execute_result"
    }
   ],
   "source": [
    "result_df[result_df['label']==1]['create_role_30_pay_sum'].sum()/result_df[result_df['label']==1]['source_run_date_amount'].sum()"
   ]
  },
  {
   "cell_type": "code",
   "execution_count": 820,
   "metadata": {},
   "outputs": [],
   "source": [
    "result = pd.concat([result_df.drop('create_role_retain_1d',axis=1),temp_df.drop('label',axis=1).rename(columns={'label_pre':'label'})],axis=0)"
   ]
  },
  {
   "cell_type": "code",
   "execution_count": 821,
   "metadata": {},
   "outputs": [
    {
     "data": {
      "text/html": [
       "<div>\n",
       "<style scoped>\n",
       "    .dataframe tbody tr th:only-of-type {\n",
       "        vertical-align: middle;\n",
       "    }\n",
       "\n",
       "    .dataframe tbody tr th {\n",
       "        vertical-align: top;\n",
       "    }\n",
       "\n",
       "    .dataframe thead th {\n",
       "        text-align: right;\n",
       "    }\n",
       "</style>\n",
       "<table border=\"1\" class=\"dataframe\">\n",
       "  <thead>\n",
       "    <tr style=\"text-align: right;\">\n",
       "      <th></th>\n",
       "      <th>channel_id</th>\n",
       "      <th>source_id</th>\n",
       "      <th>data_win</th>\n",
       "      <th>model_run_datetime</th>\n",
       "      <th>create_time</th>\n",
       "      <th>game_id</th>\n",
       "      <th>platform</th>\n",
       "      <th>source_run_date_amount</th>\n",
       "      <th>create_role_num</th>\n",
       "      <th>create_role_cost</th>\n",
       "      <th>create_role_pay_num</th>\n",
       "      <th>create_role_pay_cost</th>\n",
       "      <th>create_role_pay_sum</th>\n",
       "      <th>create_role_roi</th>\n",
       "      <th>create_role_pay_rate</th>\n",
       "      <th>create_role_30_pay_sum</th>\n",
       "      <th>30_roi</th>\n",
       "      <th>label</th>\n",
       "      <th>label_pre</th>\n",
       "    </tr>\n",
       "  </thead>\n",
       "  <tbody>\n",
       "    <tr>\n",
       "      <th>207</th>\n",
       "      <td>21117</td>\n",
       "      <td>329767</td>\n",
       "      <td>0</td>\n",
       "      <td>2020/7/25</td>\n",
       "      <td>2020/7/13</td>\n",
       "      <td>1000993</td>\n",
       "      <td>2</td>\n",
       "      <td>23021.47</td>\n",
       "      <td>250</td>\n",
       "      <td>92.085880</td>\n",
       "      <td>2</td>\n",
       "      <td>11510.73500</td>\n",
       "      <td>72</td>\n",
       "      <td>0.003128</td>\n",
       "      <td>0.00800</td>\n",
       "      <td>340</td>\n",
       "      <td>0.014769</td>\n",
       "      <td>1</td>\n",
       "      <td>3</td>\n",
       "    </tr>\n",
       "    <tr>\n",
       "      <th>15931</th>\n",
       "      <td>6867</td>\n",
       "      <td>322571</td>\n",
       "      <td>0</td>\n",
       "      <td>2020/6/28</td>\n",
       "      <td>2020/6/28</td>\n",
       "      <td>1000840</td>\n",
       "      <td>1</td>\n",
       "      <td>573.17</td>\n",
       "      <td>22</td>\n",
       "      <td>26.053182</td>\n",
       "      <td>1</td>\n",
       "      <td>573.17000</td>\n",
       "      <td>80</td>\n",
       "      <td>0.139575</td>\n",
       "      <td>0.04545</td>\n",
       "      <td>80</td>\n",
       "      <td>0.139575</td>\n",
       "      <td>1</td>\n",
       "      <td>3</td>\n",
       "    </tr>\n",
       "    <tr>\n",
       "      <th>15951</th>\n",
       "      <td>20540</td>\n",
       "      <td>322413</td>\n",
       "      <td>0</td>\n",
       "      <td>2020/6/28</td>\n",
       "      <td>2020/6/28</td>\n",
       "      <td>1000840</td>\n",
       "      <td>1</td>\n",
       "      <td>2830.19</td>\n",
       "      <td>131</td>\n",
       "      <td>21.604504</td>\n",
       "      <td>1</td>\n",
       "      <td>2830.19000</td>\n",
       "      <td>12</td>\n",
       "      <td>0.004240</td>\n",
       "      <td>0.00763</td>\n",
       "      <td>12</td>\n",
       "      <td>0.004240</td>\n",
       "      <td>1</td>\n",
       "      <td>3</td>\n",
       "    </tr>\n",
       "    <tr>\n",
       "      <th>6100</th>\n",
       "      <td>20452</td>\n",
       "      <td>335297</td>\n",
       "      <td>0</td>\n",
       "      <td>2020/7/26</td>\n",
       "      <td>2020/7/23</td>\n",
       "      <td>1000993</td>\n",
       "      <td>2</td>\n",
       "      <td>33279.20</td>\n",
       "      <td>200</td>\n",
       "      <td>166.396000</td>\n",
       "      <td>3</td>\n",
       "      <td>11093.06667</td>\n",
       "      <td>1916</td>\n",
       "      <td>0.057573</td>\n",
       "      <td>0.01500</td>\n",
       "      <td>2202</td>\n",
       "      <td>0.066167</td>\n",
       "      <td>1</td>\n",
       "      <td>3</td>\n",
       "    </tr>\n",
       "    <tr>\n",
       "      <th>15953</th>\n",
       "      <td>20646</td>\n",
       "      <td>321028</td>\n",
       "      <td>0</td>\n",
       "      <td>2020/6/28</td>\n",
       "      <td>2020/6/20</td>\n",
       "      <td>1000840</td>\n",
       "      <td>1</td>\n",
       "      <td>2336.42</td>\n",
       "      <td>73</td>\n",
       "      <td>32.005753</td>\n",
       "      <td>1</td>\n",
       "      <td>2336.42000</td>\n",
       "      <td>110</td>\n",
       "      <td>0.047081</td>\n",
       "      <td>0.01370</td>\n",
       "      <td>594</td>\n",
       "      <td>0.254235</td>\n",
       "      <td>1</td>\n",
       "      <td>3</td>\n",
       "    </tr>\n",
       "  </tbody>\n",
       "</table>\n",
       "</div>"
      ],
      "text/plain": [
       "       channel_id  source_id  data_win model_run_datetime create_time  \\\n",
       "207         21117     329767         0          2020/7/25   2020/7/13   \n",
       "15931        6867     322571         0          2020/6/28   2020/6/28   \n",
       "15951       20540     322413         0          2020/6/28   2020/6/28   \n",
       "6100        20452     335297         0          2020/7/26   2020/7/23   \n",
       "15953       20646     321028         0          2020/6/28   2020/6/20   \n",
       "\n",
       "       game_id  platform  source_run_date_amount  create_role_num  \\\n",
       "207    1000993         2                23021.47              250   \n",
       "15931  1000840         1                  573.17               22   \n",
       "15951  1000840         1                 2830.19              131   \n",
       "6100   1000993         2                33279.20              200   \n",
       "15953  1000840         1                 2336.42               73   \n",
       "\n",
       "       create_role_cost  create_role_pay_num  create_role_pay_cost  \\\n",
       "207           92.085880                    2           11510.73500   \n",
       "15931         26.053182                    1             573.17000   \n",
       "15951         21.604504                    1            2830.19000   \n",
       "6100         166.396000                    3           11093.06667   \n",
       "15953         32.005753                    1            2336.42000   \n",
       "\n",
       "       create_role_pay_sum  create_role_roi  create_role_pay_rate  \\\n",
       "207                     72         0.003128               0.00800   \n",
       "15931                   80         0.139575               0.04545   \n",
       "15951                   12         0.004240               0.00763   \n",
       "6100                  1916         0.057573               0.01500   \n",
       "15953                  110         0.047081               0.01370   \n",
       "\n",
       "       create_role_30_pay_sum    30_roi  label  label_pre  \n",
       "207                       340  0.014769      1          3  \n",
       "15931                      80  0.139575      1          3  \n",
       "15951                      12  0.004240      1          3  \n",
       "6100                     2202  0.066167      1          3  \n",
       "15953                     594  0.254235      1          3  "
      ]
     },
     "execution_count": 821,
     "metadata": {},
     "output_type": "execute_result"
    }
   ],
   "source": [
    "temp_df.head()"
   ]
  },
  {
   "cell_type": "code",
   "execution_count": 822,
   "metadata": {},
   "outputs": [
    {
     "data": {
      "text/html": [
       "<div>\n",
       "<style scoped>\n",
       "    .dataframe tbody tr th:only-of-type {\n",
       "        vertical-align: middle;\n",
       "    }\n",
       "\n",
       "    .dataframe tbody tr th {\n",
       "        vertical-align: top;\n",
       "    }\n",
       "\n",
       "    .dataframe thead th {\n",
       "        text-align: right;\n",
       "    }\n",
       "</style>\n",
       "<table border=\"1\" class=\"dataframe\">\n",
       "  <thead>\n",
       "    <tr style=\"text-align: right;\">\n",
       "      <th></th>\n",
       "      <th>channel_id</th>\n",
       "      <th>source_id</th>\n",
       "      <th>data_win</th>\n",
       "      <th>model_run_datetime</th>\n",
       "      <th>create_time</th>\n",
       "      <th>game_id</th>\n",
       "      <th>platform</th>\n",
       "      <th>source_run_date_amount</th>\n",
       "      <th>create_role_num</th>\n",
       "      <th>create_role_cost</th>\n",
       "      <th>create_role_pay_num</th>\n",
       "      <th>create_role_pay_cost</th>\n",
       "      <th>create_role_pay_sum</th>\n",
       "      <th>create_role_roi</th>\n",
       "      <th>create_role_pay_rate</th>\n",
       "      <th>create_role_30_pay_sum</th>\n",
       "      <th>30_roi</th>\n",
       "      <th>label</th>\n",
       "    </tr>\n",
       "  </thead>\n",
       "  <tbody>\n",
       "    <tr>\n",
       "      <th>11258</th>\n",
       "      <td>6867</td>\n",
       "      <td>318975</td>\n",
       "      <td>0</td>\n",
       "      <td>2020-06-27</td>\n",
       "      <td>2020-06-12 00:00:00</td>\n",
       "      <td>1001049</td>\n",
       "      <td>1</td>\n",
       "      <td>1542.94</td>\n",
       "      <td>28</td>\n",
       "      <td>55.105000</td>\n",
       "      <td>0</td>\n",
       "      <td>0.0</td>\n",
       "      <td>0</td>\n",
       "      <td>0.0</td>\n",
       "      <td>0.0</td>\n",
       "      <td>12</td>\n",
       "      <td>0.007777</td>\n",
       "      <td>2</td>\n",
       "    </tr>\n",
       "    <tr>\n",
       "      <th>11262</th>\n",
       "      <td>20754</td>\n",
       "      <td>318396</td>\n",
       "      <td>0</td>\n",
       "      <td>2020-06-27</td>\n",
       "      <td>2020-06-11 00:00:00</td>\n",
       "      <td>1001049</td>\n",
       "      <td>1</td>\n",
       "      <td>2124.25</td>\n",
       "      <td>34</td>\n",
       "      <td>62.477941</td>\n",
       "      <td>0</td>\n",
       "      <td>0.0</td>\n",
       "      <td>0</td>\n",
       "      <td>0.0</td>\n",
       "      <td>0.0</td>\n",
       "      <td>0</td>\n",
       "      <td>0.000000</td>\n",
       "      <td>2</td>\n",
       "    </tr>\n",
       "    <tr>\n",
       "      <th>11267</th>\n",
       "      <td>20754</td>\n",
       "      <td>322323</td>\n",
       "      <td>0</td>\n",
       "      <td>2020-06-27</td>\n",
       "      <td>2020-06-25 00:00:00</td>\n",
       "      <td>1001049</td>\n",
       "      <td>1</td>\n",
       "      <td>4235.28</td>\n",
       "      <td>542</td>\n",
       "      <td>7.814170</td>\n",
       "      <td>0</td>\n",
       "      <td>0.0</td>\n",
       "      <td>0</td>\n",
       "      <td>0.0</td>\n",
       "      <td>0.0</td>\n",
       "      <td>0</td>\n",
       "      <td>0.000000</td>\n",
       "      <td>2</td>\n",
       "    </tr>\n",
       "    <tr>\n",
       "      <th>11268</th>\n",
       "      <td>20754</td>\n",
       "      <td>322358</td>\n",
       "      <td>0</td>\n",
       "      <td>2020-06-27</td>\n",
       "      <td>2020-06-27 00:00:00</td>\n",
       "      <td>1001049</td>\n",
       "      <td>1</td>\n",
       "      <td>3459.11</td>\n",
       "      <td>286</td>\n",
       "      <td>12.094790</td>\n",
       "      <td>0</td>\n",
       "      <td>0.0</td>\n",
       "      <td>0</td>\n",
       "      <td>0.0</td>\n",
       "      <td>0.0</td>\n",
       "      <td>456</td>\n",
       "      <td>0.131826</td>\n",
       "      <td>2</td>\n",
       "    </tr>\n",
       "    <tr>\n",
       "      <th>11269</th>\n",
       "      <td>20754</td>\n",
       "      <td>322359</td>\n",
       "      <td>0</td>\n",
       "      <td>2020-06-27</td>\n",
       "      <td>2020-06-27 00:00:00</td>\n",
       "      <td>1001049</td>\n",
       "      <td>1</td>\n",
       "      <td>3459.11</td>\n",
       "      <td>270</td>\n",
       "      <td>12.811519</td>\n",
       "      <td>0</td>\n",
       "      <td>0.0</td>\n",
       "      <td>0</td>\n",
       "      <td>0.0</td>\n",
       "      <td>0.0</td>\n",
       "      <td>0</td>\n",
       "      <td>0.000000</td>\n",
       "      <td>2</td>\n",
       "    </tr>\n",
       "  </tbody>\n",
       "</table>\n",
       "</div>"
      ],
      "text/plain": [
       "       channel_id  source_id  data_win model_run_datetime  \\\n",
       "11258        6867     318975         0         2020-06-27   \n",
       "11262       20754     318396         0         2020-06-27   \n",
       "11267       20754     322323         0         2020-06-27   \n",
       "11268       20754     322358         0         2020-06-27   \n",
       "11269       20754     322359         0         2020-06-27   \n",
       "\n",
       "               create_time  game_id  platform  source_run_date_amount  \\\n",
       "11258  2020-06-12 00:00:00  1001049         1                 1542.94   \n",
       "11262  2020-06-11 00:00:00  1001049         1                 2124.25   \n",
       "11267  2020-06-25 00:00:00  1001049         1                 4235.28   \n",
       "11268  2020-06-27 00:00:00  1001049         1                 3459.11   \n",
       "11269  2020-06-27 00:00:00  1001049         1                 3459.11   \n",
       "\n",
       "       create_role_num  create_role_cost  create_role_pay_num  \\\n",
       "11258               28         55.105000                    0   \n",
       "11262               34         62.477941                    0   \n",
       "11267              542          7.814170                    0   \n",
       "11268              286         12.094790                    0   \n",
       "11269              270         12.811519                    0   \n",
       "\n",
       "       create_role_pay_cost  create_role_pay_sum  create_role_roi  \\\n",
       "11258                   0.0                    0              0.0   \n",
       "11262                   0.0                    0              0.0   \n",
       "11267                   0.0                    0              0.0   \n",
       "11268                   0.0                    0              0.0   \n",
       "11269                   0.0                    0              0.0   \n",
       "\n",
       "       create_role_pay_rate  create_role_30_pay_sum    30_roi  label  \n",
       "11258                   0.0                      12  0.007777      2  \n",
       "11262                   0.0                       0  0.000000      2  \n",
       "11267                   0.0                       0  0.000000      2  \n",
       "11268                   0.0                     456  0.131826      2  \n",
       "11269                   0.0                       0  0.000000      2  "
      ]
     },
     "execution_count": 822,
     "metadata": {},
     "output_type": "execute_result"
    }
   ],
   "source": [
    "result.head()"
   ]
  },
  {
   "cell_type": "code",
   "execution_count": 823,
   "metadata": {},
   "outputs": [
    {
     "data": {
      "text/plain": [
       "2    7423\n",
       "3    2439\n",
       "1    2211\n",
       "4     363\n",
       "Name: label, dtype: int64"
      ]
     },
     "execution_count": 823,
     "metadata": {},
     "output_type": "execute_result"
    }
   ],
   "source": [
    "result['label'].value_counts()"
   ]
  },
  {
   "cell_type": "markdown",
   "metadata": {},
   "source": [
    "## 计划状态2"
   ]
  },
  {
   "cell_type": "code",
   "execution_count": 647,
   "metadata": {},
   "outputs": [],
   "source": [
    "# win=1\n",
    "# 训练"
   ]
  },
  {
   "cell_type": "code",
   "execution_count": 1046,
   "metadata": {},
   "outputs": [],
   "source": [
    "result_win1 = pd.DataFrame()\n",
    "temp_win1 = pd.DataFrame()"
   ]
  },
  {
   "cell_type": "code",
   "execution_count": 713,
   "metadata": {},
   "outputs": [],
   "source": [
    "# win = 1 训练数据\n",
    "# data_win_1['label'] = data_win_1.apply(lambda x:1 if x.create_role_num == 0 else (1 if x.create_role_pay_sum==0 else(\n",
    "#              1 if x.create_role_pay_cost > 6000 else(1 if x.create_role_cost >=60 else 2))),axis=1)\n",
    "# data_win_1_ios['label'] = data_win_1_ios.apply(lambda x:1 if x.create_role_num == 0 else (1 if x.create_role_pay_sum==0 else(\n",
    "#              1 if x.create_role_pay_cost > 10000 else(1 if x.create_role_cost >=160 else 2))),axis=1)"
   ]
  },
  {
   "cell_type": "code",
   "execution_count": 1047,
   "metadata": {},
   "outputs": [],
   "source": [
    "result_win1 = result_win1.append(data_win_1[(data_win_1['label'] == 1)| (data_win_1['label'] == 0)]).append(data_win_1_ios[(data_win_1_ios['label'] == 1)|(data_win_1_ios['label'] == 0)])\n",
    "temp_win1 = temp_win1.append(data_win_1[data_win_1['label'] == 2]).append(data_win_1_ios[data_win_1_ios['label'] == 2])"
   ]
  },
  {
   "cell_type": "code",
   "execution_count": 1048,
   "metadata": {
    "scrolled": true
   },
   "outputs": [
    {
     "data": {
      "text/plain": [
       "(200, 19)"
      ]
     },
     "execution_count": 1048,
     "metadata": {},
     "output_type": "execute_result"
    }
   ],
   "source": [
    "temp_win1.shape"
   ]
  },
  {
   "cell_type": "code",
   "execution_count": 751,
   "metadata": {},
   "outputs": [],
   "source": [
    "# result_df_2.to_csv('./result_df_2.csv')"
   ]
  },
  {
   "cell_type": "code",
   "execution_count": 859,
   "metadata": {},
   "outputs": [],
   "source": [
    "# temp_win1.drop('create_role_retain_1d',axis=1,inplace=True)"
   ]
  },
  {
   "cell_type": "code",
   "execution_count": 860,
   "metadata": {},
   "outputs": [
    {
     "data": {
      "text/plain": [
       "count    1301.000000\n",
       "mean        0.019267\n",
       "std         0.057786\n",
       "min         0.002724\n",
       "25%         0.008700\n",
       "50%         0.012571\n",
       "75%         0.017470\n",
       "max         1.795994\n",
       "Name: create_role_roi, dtype: float64"
      ]
     },
     "execution_count": 860,
     "metadata": {},
     "output_type": "execute_result"
    }
   ],
   "source": [
    "temp_win1['create_role_roi'].describe()"
   ]
  },
  {
   "cell_type": "code",
   "execution_count": 861,
   "metadata": {},
   "outputs": [
    {
     "data": {
      "image/png": "[encoded data removed]",
      "text/plain": [
       "<Figure size 432x288 with 1 Axes>"
      ]
     },
     "metadata": {
      "needs_background": "light"
     },
     "output_type": "display_data"
    }
   ],
   "source": [
    "plt.boxplot(temp_win1[temp_win1['create_role_roi']<=0.15]['create_role_roi'])\n",
    "plt.show()"
   ]
  },
  {
   "cell_type": "code",
   "execution_count": 862,
   "metadata": {},
   "outputs": [
    {
     "data": {
      "image/png": "[encoded data removed]",
      "text/plain": [
       "<Figure size 432x288 with 1 Axes>"
      ]
     },
     "metadata": {
      "needs_background": "light"
     },
     "output_type": "display_data"
    }
   ],
   "source": [
    "plt.hist(temp_win1['create_role_roi'],range=(0,1))\n",
    "plt.show()"
   ]
  },
  {
   "cell_type": "code",
   "execution_count": 687,
   "metadata": {},
   "outputs": [],
   "source": [
    "# temp_df_2['create_role_roi_sorce'] = temp_df_2['create_role_roi'].apply(lambda x:1 if x<=0.015 else(2 if x<=0.03 else(3 \n",
    "#                         if x<=0.065 else(4 if x<=0.2 else 5))))\n",
    "# temp_df_2['create_role_pay_num_sorce'] = temp_df_2['create_role_pay_num'].apply(lambda x:0 if x<=1 else 2)\n",
    "# temp_df_2['create_role_pay_sum_sorce'] = temp_df_2['create_role_pay_sum'].apply(lambda x:0 if x<=12 else 2)\n",
    "# temp_df_2['source_run_date_amount_sorce'] = temp_df_2['source_run_date_amount'].apply(lambda x:0 if x<=1000 else(1 if\n",
    "#                                                                     x<=2000 else 2))\n",
    "# temp_df_2['create_role_pay_cost_sorce'] = temp_df_2.apply(lambda x:3 if (x.platform==1)&(x.create_role_pay_cost<=2500) \n",
    "#         else(2 if (x.platform==1)&(x.create_role_pay_cost<=3500) else(1 if (x.platform==1)&(x.create_role_pay_cost<=4500)\n",
    "#         else (0 if (x.platform==1) else(3 if (x.platform==2)&(x.create_role_pay_cost<=4500) else(2 if\n",
    "#         (x.platform==2)&(x.create_role_pay_cost<=6500) else(1 if (x.platform==2)&(x.create_role_pay_cost<=8000) else\n",
    "#                     0 )))))),axis=1)\n",
    "# temp_df_2['create_role_cost_sorce'] = temp_df_2.apply(lambda x:3 if (x.platform==1)&(x.create_role_cost<=20) \n",
    "#         else(2 if (x.platform==1)&(x.create_role_cost<=35) else(1 if (x.platform==1)&(x.create_role_cost<=50)\n",
    "#         else (0 if (x.platform==1) else(3 if (x.platform==2)&(x.create_role_cost<=50) else(2 if\n",
    "#         (x.platform==2)&(x.create_role_cost<=80) else(1 if (x.platform==2)&(x.create_role_cost<=120) else\n",
    "#                     0)))))),axis=1)\n",
    "# temp_df_2['create_role_pay_rate_sorce'] = temp_df_2['create_role_pay_rate'].apply(lambda x:1 if x<=0.01 else(2 if x<=0.03 else(3 \n",
    "#                         if x<=0.05 else(4 if x<=0.08 else 5))))\n",
    "# temp_df_2['sorce'] = 0.3*temp_df_2['create_role_roi_sorce']+0.15*temp_df_2['create_role_pay_num_sorce']+0.3*temp_df_2['create_role_pay_sum_sorce']+0.2*temp_df_2['source_run_date_amount_sorce']+0.2*temp_df_2['create_role_pay_cost_sorce']+0.1*temp_df_2['create_role_cost_sorce']+0.1*temp_df_2['create_role_pay_rate_sorce']"
   ]
  },
  {
   "cell_type": "code",
   "execution_count": 719,
   "metadata": {},
   "outputs": [],
   "source": [
    "# plt.hist(temp_df_2['sorce'])\n",
    "# plt.show()"
   ]
  },
  {
   "cell_type": "code",
   "execution_count": 697,
   "metadata": {},
   "outputs": [],
   "source": [
    "# temp_df_2.to_csv('./temp_df_2.csv')"
   ]
  },
  {
   "cell_type": "code",
   "execution_count": 720,
   "metadata": {},
   "outputs": [],
   "source": [
    "temp_df_2['label'] = temp_df_2.apply(lambda x :0 if (x.platform==1)&(x['30_roi']>=0.2) else (0 if (x.platform==2)&(x['30_roi']>=0.18) else 1),axis=1)"
   ]
  },
  {
   "cell_type": "code",
   "execution_count": 722,
   "metadata": {},
   "outputs": [
    {
     "data": {
      "text/plain": [
       "create_role_pay_sum      -0.282546\n",
       "create_role_roi          -0.272351\n",
       "create_role_pay_num      -0.173498\n",
       "source_run_date_amount   -0.120404\n",
       "create_role_num          -0.094791\n",
       "create_role_pay_rate     -0.049793\n",
       "platform                 -0.000126\n",
       "create_role_cost          0.053421\n",
       "create_role_pay_cost      0.147425\n",
       "label                     1.000000\n",
       "Name: label, dtype: float64"
      ]
     },
     "execution_count": 722,
     "metadata": {},
     "output_type": "execute_result"
    }
   ],
   "source": [
    "temp_df_2[['source_run_date_amount','platform',\n",
    "       'create_role_num', 'create_role_cost', 'create_role_pay_num',\n",
    "       'create_role_pay_cost', 'create_role_pay_sum', 'create_role_roi', 'create_role_pay_rate','label']].corr()['label'].sort_values()"
   ]
  },
  {
   "cell_type": "code",
   "execution_count": 729,
   "metadata": {},
   "outputs": [],
   "source": [
    "data_train_win1 = temp_df_2[['create_role_cost',\n",
    "       'create_role_pay_cost', 'create_role_roi','create_role_pay_rate','label']]"
   ]
  },
  {
   "cell_type": "code",
   "execution_count": 730,
   "metadata": {},
   "outputs": [],
   "source": [
    "target = data_train_win1['label']\n",
    "features = data_train_win1.drop(['label'], axis=1)\n",
    "X_val, x_test, Y_val, y_test = train_test_split(features,target, test_size=0.2)"
   ]
  },
  {
   "cell_type": "code",
   "execution_count": 731,
   "metadata": {},
   "outputs": [],
   "source": [
    "gbdt_b_win1 = GradientBoostingClassifier()\n",
    "gbdt_b_win1.fit(X_val, Y_val)\n",
    "y_predict_win1 = gbdt_b_win1.predict(x_test)"
   ]
  },
  {
   "cell_type": "code",
   "execution_count": 732,
   "metadata": {
    "scrolled": true
   },
   "outputs": [
    {
     "name": "stdout",
     "output_type": "stream",
     "text": [
      "[0.61494253 0.83265306]\n",
      "0.7527675276752768\n",
      "0.7422434367541766\n",
      "0.7906976744186046\n"
     ]
    }
   ],
   "source": [
    "print(recall_score( y_test, y_predict_win1, average=None))\n",
    "print(precision_score( y_test, y_predict_win1))\n",
    "print(accuracy_score( y_test, y_predict_win1))\n",
    "print(f1_score( y_test, y_predict_win1))"
   ]
  },
  {
   "cell_type": "code",
   "execution_count": 733,
   "metadata": {},
   "outputs": [
    {
     "name": "stdout",
     "output_type": "stream",
     "text": [
      "              precision    recall  f1-score   support\n",
      "\n",
      "           0       0.72      0.61      0.66       348\n",
      "           1       0.75      0.83      0.79       490\n",
      "\n",
      "    accuracy                           0.74       838\n",
      "   macro avg       0.74      0.72      0.73       838\n",
      "weighted avg       0.74      0.74      0.74       838\n",
      "\n"
     ]
    }
   ],
   "source": [
    "print(classification_report( y_test, y_predict_win1))"
   ]
  },
  {
   "cell_type": "code",
   "execution_count": 739,
   "metadata": {},
   "outputs": [
    {
     "data": {
      "text/plain": [
       "['gbdt_b_win1.pkl']"
      ]
     },
     "execution_count": 739,
     "metadata": {},
     "output_type": "execute_result"
    }
   ],
   "source": [
    "joblib.dump(gbdt_b_win1,'gbdt_b_win1.pkl')"
   ]
  },
  {
   "cell_type": "code",
   "execution_count": 1061,
   "metadata": {},
   "outputs": [],
   "source": [
    "# 分类\n",
    "result_win1 = pd.DataFrame()\n",
    "temp_win1 = pd.DataFrame()"
   ]
  },
  {
   "cell_type": "code",
   "execution_count": 1060,
   "metadata": {},
   "outputs": [
    {
     "data": {
      "text/html": [
       "<div>\n",
       "<style scoped>\n",
       "    .dataframe tbody tr th:only-of-type {\n",
       "        vertical-align: middle;\n",
       "    }\n",
       "\n",
       "    .dataframe tbody tr th {\n",
       "        vertical-align: top;\n",
       "    }\n",
       "\n",
       "    .dataframe thead th {\n",
       "        text-align: right;\n",
       "    }\n",
       "</style>\n",
       "<table border=\"1\" class=\"dataframe\">\n",
       "  <thead>\n",
       "    <tr style=\"text-align: right;\">\n",
       "      <th></th>\n",
       "      <th>channel_id</th>\n",
       "      <th>source_id</th>\n",
       "      <th>data_win</th>\n",
       "      <th>model_run_datetime</th>\n",
       "      <th>create_time</th>\n",
       "      <th>game_id</th>\n",
       "      <th>platform</th>\n",
       "      <th>source_run_date_amount</th>\n",
       "      <th>create_role_num</th>\n",
       "      <th>create_role_cost</th>\n",
       "      <th>create_role_pay_num</th>\n",
       "      <th>create_role_pay_cost</th>\n",
       "      <th>create_role_pay_sum</th>\n",
       "      <th>create_role_roi</th>\n",
       "      <th>create_role_retain_1d</th>\n",
       "      <th>create_role_pay_rate</th>\n",
       "      <th>create_role_30_pay_sum</th>\n",
       "      <th>30_roi</th>\n",
       "      <th>label</th>\n",
       "    </tr>\n",
       "  </thead>\n",
       "  <tbody>\n",
       "    <tr>\n",
       "      <th>4590</th>\n",
       "      <td>20953</td>\n",
       "      <td>317165</td>\n",
       "      <td>1</td>\n",
       "      <td>2020-06-06</td>\n",
       "      <td>2020-06-05</td>\n",
       "      <td>1001049</td>\n",
       "      <td>1</td>\n",
       "      <td>567.89</td>\n",
       "      <td>4</td>\n",
       "      <td>141.972500</td>\n",
       "      <td>0</td>\n",
       "      <td>0.000</td>\n",
       "      <td>0</td>\n",
       "      <td>0.000000</td>\n",
       "      <td>0.2500</td>\n",
       "      <td>0.00000</td>\n",
       "      <td>0</td>\n",
       "      <td>0.000000</td>\n",
       "      <td>1</td>\n",
       "    </tr>\n",
       "    <tr>\n",
       "      <th>4587</th>\n",
       "      <td>20953</td>\n",
       "      <td>317143</td>\n",
       "      <td>1</td>\n",
       "      <td>2020-06-06</td>\n",
       "      <td>2020-06-05</td>\n",
       "      <td>1000840</td>\n",
       "      <td>1</td>\n",
       "      <td>2170.64</td>\n",
       "      <td>0</td>\n",
       "      <td>2170.640000</td>\n",
       "      <td>0</td>\n",
       "      <td>0.000</td>\n",
       "      <td>0</td>\n",
       "      <td>0.000000</td>\n",
       "      <td>0.0000</td>\n",
       "      <td>0.00000</td>\n",
       "      <td>0</td>\n",
       "      <td>0.000000</td>\n",
       "      <td>1</td>\n",
       "    </tr>\n",
       "    <tr>\n",
       "      <th>392</th>\n",
       "      <td>20953</td>\n",
       "      <td>335026</td>\n",
       "      <td>1</td>\n",
       "      <td>2020-07-25</td>\n",
       "      <td>2020-07-23</td>\n",
       "      <td>1000840</td>\n",
       "      <td>1</td>\n",
       "      <td>15347.37</td>\n",
       "      <td>238</td>\n",
       "      <td>64.484748</td>\n",
       "      <td>5</td>\n",
       "      <td>3069.474</td>\n",
       "      <td>222</td>\n",
       "      <td>0.014465</td>\n",
       "      <td>0.1429</td>\n",
       "      <td>0.02101</td>\n",
       "      <td>704</td>\n",
       "      <td>0.045871</td>\n",
       "      <td>1</td>\n",
       "    </tr>\n",
       "    <tr>\n",
       "      <th>391</th>\n",
       "      <td>20953</td>\n",
       "      <td>335025</td>\n",
       "      <td>1</td>\n",
       "      <td>2020-07-25</td>\n",
       "      <td>2020-07-23</td>\n",
       "      <td>1000840</td>\n",
       "      <td>1</td>\n",
       "      <td>11047.62</td>\n",
       "      <td>287</td>\n",
       "      <td>38.493449</td>\n",
       "      <td>5</td>\n",
       "      <td>2209.524</td>\n",
       "      <td>248</td>\n",
       "      <td>0.022448</td>\n",
       "      <td>0.1220</td>\n",
       "      <td>0.01742</td>\n",
       "      <td>550</td>\n",
       "      <td>0.049784</td>\n",
       "      <td>0</td>\n",
       "    </tr>\n",
       "    <tr>\n",
       "      <th>390</th>\n",
       "      <td>20953</td>\n",
       "      <td>335024</td>\n",
       "      <td>1</td>\n",
       "      <td>2020-07-25</td>\n",
       "      <td>2020-07-23</td>\n",
       "      <td>1000840</td>\n",
       "      <td>1</td>\n",
       "      <td>8893.10</td>\n",
       "      <td>155</td>\n",
       "      <td>57.374839</td>\n",
       "      <td>4</td>\n",
       "      <td>2223.275</td>\n",
       "      <td>66</td>\n",
       "      <td>0.007422</td>\n",
       "      <td>0.0774</td>\n",
       "      <td>0.02581</td>\n",
       "      <td>324</td>\n",
       "      <td>0.036433</td>\n",
       "      <td>1</td>\n",
       "    </tr>\n",
       "  </tbody>\n",
       "</table>\n",
       "</div>"
      ],
      "text/plain": [
       "      channel_id  source_id  data_win model_run_datetime create_time  game_id  \\\n",
       "4590       20953     317165         1         2020-06-06  2020-06-05  1001049   \n",
       "4587       20953     317143         1         2020-06-06  2020-06-05  1000840   \n",
       "392        20953     335026         1         2020-07-25  2020-07-23  1000840   \n",
       "391        20953     335025         1         2020-07-25  2020-07-23  1000840   \n",
       "390        20953     335024         1         2020-07-25  2020-07-23  1000840   \n",
       "\n",
       "      platform  source_run_date_amount  create_role_num  create_role_cost  \\\n",
       "4590         1                  567.89                4        141.972500   \n",
       "4587         1                 2170.64                0       2170.640000   \n",
       "392          1                15347.37              238         64.484748   \n",
       "391          1                11047.62              287         38.493449   \n",
       "390          1                 8893.10              155         57.374839   \n",
       "\n",
       "      create_role_pay_num  create_role_pay_cost  create_role_pay_sum  \\\n",
       "4590                    0                 0.000                    0   \n",
       "4587                    0                 0.000                    0   \n",
       "392                     5              3069.474                  222   \n",
       "391                     5              2209.524                  248   \n",
       "390                     4              2223.275                   66   \n",
       "\n",
       "      create_role_roi  create_role_retain_1d  create_role_pay_rate  \\\n",
       "4590         0.000000                 0.2500               0.00000   \n",
       "4587         0.000000                 0.0000               0.00000   \n",
       "392          0.014465                 0.1429               0.02101   \n",
       "391          0.022448                 0.1220               0.01742   \n",
       "390          0.007422                 0.0774               0.02581   \n",
       "\n",
       "      create_role_30_pay_sum    30_roi  label  \n",
       "4590                       0  0.000000      1  \n",
       "4587                       0  0.000000      1  \n",
       "392                      704  0.045871      1  \n",
       "391                      550  0.049784      0  \n",
       "390                      324  0.036433      1  "
      ]
     },
     "execution_count": 1060,
     "metadata": {},
     "output_type": "execute_result"
    }
   ],
   "source": [
    "data_win_1.head()"
   ]
  },
  {
   "cell_type": "code",
   "execution_count": 1062,
   "metadata": {},
   "outputs": [],
   "source": [
    "data_win_1['label'] = data_win_1.apply(lambda x:1 if x.create_role_num == 0 else (1 if x.create_role_pay_num==0 else \n",
    "        (1 if (x.create_role_pay_cost>=6000)&(x.create_role_roi<=0.02) else(1 if (x.create_role_pay_num==1)&(x.create_role_pay_sum==12) else\n",
    "        (0 if (x.source_run_date_amount>10000)&(x.create_role_pay_cost<=6500)&(x.create_role_roi>0.03) else \n",
    "         (0 if (x.source_run_date_amount<=10000)&(x.create_role_roi>0.03) else\n",
    "          (1 if x.create_role_roi<=0.015 else\n",
    "         (0 if (x.create_role_pay_cost<=4000)&(x.create_role_roi>=0.015) else 2 ))))))), axis=1)\n",
    "\n",
    "data_win_1_ios['label'] = data_win_1_ios.apply(lambda x:1 if x.create_role_num == 0 else (1 if x.create_role_pay_num==0 else \n",
    "        (1 if (x.create_role_pay_cost>=10000)&(x.create_role_roi<=0.02) else(1 if (x.create_role_pay_num==1)&(x.create_role_pay_sum==12) else\n",
    "        (0 if (x.source_run_date_amount>15000)&(x.create_role_pay_cost<=9000)&(x.create_role_roi>0.03) else \n",
    "         (0 if (x.source_run_date_amount<=15000)&(x.create_role_roi>0.03) else\n",
    "          (1 if x.create_role_roi<=0.015 else\n",
    "         (0 if (x.create_role_pay_cost<=6000)&(x.create_role_roi>=0.015) else 2 ))))))), axis=1)"
   ]
  },
  {
   "cell_type": "code",
   "execution_count": 1063,
   "metadata": {},
   "outputs": [],
   "source": [
    "result_win1 = result_win1.append(data_win_1[(data_win_1['label'] == 1)| (data_win_1['label'] == 0)]).append(data_win_1_ios[(data_win_1_ios['label'] == 1)|(data_win_1_ios['label'] == 0)])\n",
    "temp_win1 = temp_win1.append(data_win_1[data_win_1['label'] == 2]).append(data_win_1_ios[data_win_1_ios['label'] == 2])"
   ]
  },
  {
   "cell_type": "code",
   "execution_count": null,
   "metadata": {},
   "outputs": [],
   "source": [
    "# data_win_1['label'] = data_win_1.apply(lambda x:1 if x.create_role_num == 0 else (1 if x.create_role_pay_num==0 else \n",
    "#         (1 if x.create_role_pay_cost>=6000 else(1 if (x.create_role_pay_num==1)&(x.create_role_pay_sum==12) else\n",
    "#         (1 if x.create_role_cost >=60 else (0 if (x.create_role_pay_cost<=4000)&(x.create_role_roi>=0.02) else\n",
    "#         (0 if (x.create_role_pay_num>=2)&(x.create_role_pay_rate>=0.03) else 2 )))))), axis=1)\n",
    "# data_win_1_ios['label'] = data_win_1_ios.apply(lambda x:1 if x.create_role_num == 0 else (1 if x.create_role_pay_num==0 else \n",
    "#         (1 if x.create_role_pay_cost>=10000 else(1 if (x.create_role_pay_num==1)&(x.create_role_pay_sum==12) else\n",
    "#         (1 if x.create_role_cost >=160 else (0 if (x.create_role_pay_cost<=8000)&(x.create_role_roi>=0.02) else\n",
    "#         (0 if (x.create_role_pay_num>=2)&(x.create_role_pay_rate>=0.03) else 2 )))))), axis=1)"
   ]
  },
  {
   "cell_type": "code",
   "execution_count": 1064,
   "metadata": {},
   "outputs": [],
   "source": [
    "temp_win1['label'] = gbdt_b_win1.predict(temp_win1[['create_role_cost',\n",
    "       'create_role_pay_cost', 'create_role_roi','create_role_pay_rate']])"
   ]
  },
  {
   "cell_type": "code",
   "execution_count": 1066,
   "metadata": {
    "scrolled": true
   },
   "outputs": [
    {
     "data": {
      "text/plain": [
       "0.2328176387542382"
      ]
     },
     "execution_count": 1066,
     "metadata": {},
     "output_type": "execute_result"
    }
   ],
   "source": [
    "temp_win1[temp_win1['label']==1]['create_role_30_pay_sum'].sum() / temp_win1[temp_win1['label']==1]['source_run_date_amount'].sum()"
   ]
  },
  {
   "cell_type": "code",
   "execution_count": 1067,
   "metadata": {},
   "outputs": [
    {
     "data": {
      "text/plain": [
       "0.49333474233251295"
      ]
     },
     "execution_count": 1067,
     "metadata": {},
     "output_type": "execute_result"
    }
   ],
   "source": [
    "temp_win1[temp_win1['label']==0]['create_role_30_pay_sum'].sum() / temp_win1[temp_win1['label']==0]['source_run_date_amount'].sum()"
   ]
  },
  {
   "cell_type": "code",
   "execution_count": 1068,
   "metadata": {},
   "outputs": [],
   "source": [
    "result_win1_data = pd.concat([result_win1,temp_win1],axis=0)"
   ]
  },
  {
   "cell_type": "code",
   "execution_count": 1069,
   "metadata": {},
   "outputs": [
    {
     "data": {
      "text/plain": [
       "0.11341384015243555"
      ]
     },
     "execution_count": 1069,
     "metadata": {},
     "output_type": "execute_result"
    }
   ],
   "source": [
    "result_win1_data[result_win1_data['label']==1]['create_role_30_pay_sum'].sum() / result_win1_data[result_win1_data['label']==1]['source_run_date_amount'].sum()"
   ]
  },
  {
   "cell_type": "code",
   "execution_count": 1070,
   "metadata": {},
   "outputs": [
    {
     "data": {
      "text/plain": [
       "0.728737836515545"
      ]
     },
     "execution_count": 1070,
     "metadata": {},
     "output_type": "execute_result"
    }
   ],
   "source": [
    "result_win1_data[result_win1_data['label']==0]['create_role_30_pay_sum'].sum() / result_win1_data[result_win1_data['label']==0]['source_run_date_amount'].sum()"
   ]
  },
  {
   "cell_type": "code",
   "execution_count": 1071,
   "metadata": {},
   "outputs": [
    {
     "data": {
      "text/plain": [
       "1    11660\n",
       "0     3287\n",
       "Name: label, dtype: int64"
      ]
     },
     "execution_count": 1071,
     "metadata": {},
     "output_type": "execute_result"
    }
   ],
   "source": [
    "result_win1_data['label'].value_counts()"
   ]
  },
  {
   "cell_type": "code",
   "execution_count": 1072,
   "metadata": {},
   "outputs": [],
   "source": [
    "temp_win1.to_csv('./temp_win1.csv')\n",
    "result_win1.to_csv('./result_win1.csv')"
   ]
  },
  {
   "cell_type": "markdown",
   "metadata": {},
   "source": [
    "### win=2"
   ]
  },
  {
   "cell_type": "code",
   "execution_count": 1073,
   "metadata": {},
   "outputs": [],
   "source": [
    "# 训练\n",
    "result_win2 = pd.DataFrame()\n",
    "temp_win2 = pd.DataFrame()"
   ]
  },
  {
   "cell_type": "code",
   "execution_count": 1074,
   "metadata": {},
   "outputs": [
    {
     "data": {
      "text/plain": [
       "(9137, 19)"
      ]
     },
     "execution_count": 1074,
     "metadata": {},
     "output_type": "execute_result"
    }
   ],
   "source": [
    "data_win_2.shape"
   ]
  },
  {
   "cell_type": "code",
   "execution_count": 981,
   "metadata": {},
   "outputs": [
    {
     "name": "stdout",
     "output_type": "stream",
     "text": [
      "3638.7253055748783\n",
      "2987.3074975094637\n",
      "21.345434950522467\n",
      "20.264470002608526\n",
      "5933.83654054054\n",
      "4792.622422932873\n",
      "51.73419206090266\n",
      "47.608559510726465\n"
     ]
    }
   ],
   "source": [
    "print(data_win_1['source_run_date_amount'].sum() / data_win_1['create_role_pay_num'].sum())\n",
    "print(data_win_2['source_run_date_amount'].sum() / data_win_2['create_role_pay_num'].sum())\n",
    "print(data_win_1['source_run_date_amount'].sum() / data_win_1['create_role_num'].sum())\n",
    "print(data_win_2['source_run_date_amount'].sum() / data_win_2['create_role_num'].sum())\n",
    "print(data_win_1_ios['source_run_date_amount'].sum() / data_win_1_ios['create_role_pay_num'].sum())\n",
    "print(data_win_2_ios['source_run_date_amount'].sum() / data_win_2_ios['create_role_pay_num'].sum())\n",
    "print(data_win_1_ios['source_run_date_amount'].sum() / data_win_1_ios['create_role_num'].sum())\n",
    "print(data_win_2_ios['source_run_date_amount'].sum() / data_win_2_ios['create_role_num'].sum())"
   ]
  },
  {
   "cell_type": "code",
   "execution_count": 887,
   "metadata": {},
   "outputs": [],
   "source": [
    "# # win = 2 训练数据\n",
    "# data_win_2['label'] = data_win_2.apply(lambda x:1 if x.create_role_num == 0 else (1 if x.create_role_pay_sum==0 else(\n",
    "#              1 if x.create_role_pay_cost > 5000 else(1 if x.create_role_cost >=50 else 2))),axis=1)\n",
    "# data_win_2_ios['label'] = data_win_2_ios.apply(lambda x:1 if x.create_role_num == 0 else (1 if x.create_role_pay_sum==0 else(\n",
    "#              1 if x.create_role_pay_cost > 8000 else(1 if x.create_role_cost >=140 else 2))),axis=1)"
   ]
  },
  {
   "cell_type": "code",
   "execution_count": 888,
   "metadata": {},
   "outputs": [],
   "source": [
    "# result_win2 = result_win2.append(data_win_2[(data_win_2['label'] == 1)| (data_win_2['label'] == 0)]).append(data_win_2_ios[(data_win_2_ios['label'] == 1)|(data_win_2_ios['label'] == 0)])\n",
    "# temp_win2 = temp_win2.append(data_win_2[data_win_2['label'] == 2]).append(data_win_2_ios[data_win_2_ios['label'] == 2])"
   ]
  },
  {
   "cell_type": "code",
   "execution_count": 890,
   "metadata": {
    "scrolled": true
   },
   "outputs": [
    {
     "data": {
      "text/plain": [
       "2    4505\n",
       "Name: label, dtype: int64"
      ]
     },
     "execution_count": 890,
     "metadata": {},
     "output_type": "execute_result"
    }
   ],
   "source": [
    "# temp_win2['label'].value_counts()"
   ]
  },
  {
   "cell_type": "code",
   "execution_count": 891,
   "metadata": {},
   "outputs": [],
   "source": [
    "# temp_win2['label'] = temp_win2.apply(lambda x :0 if (x.platform==1)&(x['30_roi']>=0.2) else (0 if (x.platform==2)&(x['30_roi']>=0.18) else 1),axis=1)"
   ]
  },
  {
   "cell_type": "code",
   "execution_count": 892,
   "metadata": {},
   "outputs": [
    {
     "data": {
      "text/plain": [
       "1    2658\n",
       "0    1847\n",
       "Name: label, dtype: int64"
      ]
     },
     "execution_count": 892,
     "metadata": {},
     "output_type": "execute_result"
    }
   ],
   "source": [
    "# temp_win2['label'].value_counts()"
   ]
  },
  {
   "cell_type": "code",
   "execution_count": 894,
   "metadata": {},
   "outputs": [
    {
     "data": {
      "text/plain": [
       "create_role_pay_sum      -0.300861\n",
       "create_role_roi          -0.294614\n",
       "create_role_pay_num      -0.193416\n",
       "source_run_date_amount   -0.148984\n",
       "create_role_num          -0.117059\n",
       "create_role_pay_rate     -0.078142\n",
       "create_role_retain_1d    -0.053385\n",
       "platform                 -0.005444\n",
       "create_role_cost          0.043161\n",
       "create_role_pay_cost      0.167003\n",
       "label                     1.000000\n",
       "Name: label, dtype: float64"
      ]
     },
     "execution_count": 894,
     "metadata": {},
     "output_type": "execute_result"
    }
   ],
   "source": [
    "# temp_win2[['source_run_date_amount','platform',\n",
    "#        'create_role_num', 'create_role_cost', 'create_role_pay_num',\n",
    "#        'create_role_pay_cost', 'create_role_pay_sum', 'create_role_roi', 'create_role_retain_1d','create_role_pay_rate','label']].corr()['label'].sort_values()"
   ]
  },
  {
   "cell_type": "code",
   "execution_count": 895,
   "metadata": {},
   "outputs": [],
   "source": [
    "data_train_win2 = temp_win2[['create_role_cost',\n",
    "       'create_role_pay_cost', 'create_role_roi','create_role_pay_rate','create_role_retain_1d','label']]"
   ]
  },
  {
   "cell_type": "code",
   "execution_count": 896,
   "metadata": {},
   "outputs": [],
   "source": [
    "target = data_train_win2['label']\n",
    "features = data_train_win2.drop(['label'], axis=1)\n",
    "X_val, x_test, Y_val, y_test = train_test_split(features,target, test_size=0.2)"
   ]
  },
  {
   "cell_type": "code",
   "execution_count": 897,
   "metadata": {},
   "outputs": [],
   "source": [
    "gbdt_b_win2 = GradientBoostingClassifier()\n",
    "gbdt_b_win2.fit(X_val, Y_val)\n",
    "y_predict_win2 = gbdt_b_win2.predict(x_test)"
   ]
  },
  {
   "cell_type": "code",
   "execution_count": 898,
   "metadata": {},
   "outputs": [
    {
     "name": "stdout",
     "output_type": "stream",
     "text": [
      "[0.63157895 0.85220729]\n",
      "0.7602739726027398\n",
      "0.7591564927857936\n",
      "0.8036199095022625\n"
     ]
    }
   ],
   "source": [
    "print(recall_score( y_test, y_predict_win2, average=None))\n",
    "print(precision_score( y_test, y_predict_win2))\n",
    "print(accuracy_score( y_test, y_predict_win2))\n",
    "print(f1_score( y_test, y_predict_win2))"
   ]
  },
  {
   "cell_type": "code",
   "execution_count": 899,
   "metadata": {},
   "outputs": [
    {
     "name": "stdout",
     "output_type": "stream",
     "text": [
      "              precision    recall  f1-score   support\n",
      "\n",
      "           0       0.76      0.63      0.69       380\n",
      "           1       0.76      0.85      0.80       521\n",
      "\n",
      "    accuracy                           0.76       901\n",
      "   macro avg       0.76      0.74      0.75       901\n",
      "weighted avg       0.76      0.76      0.76       901\n",
      "\n"
     ]
    }
   ],
   "source": [
    "print(classification_report( y_test, y_predict_win2))"
   ]
  },
  {
   "cell_type": "code",
   "execution_count": 900,
   "metadata": {},
   "outputs": [
    {
     "data": {
      "text/plain": [
       "['gbdt_b_win2.pkl']"
      ]
     },
     "execution_count": 900,
     "metadata": {},
     "output_type": "execute_result"
    }
   ],
   "source": [
    "joblib.dump(gbdt_b_win2,'gbdt_b_win2.pkl')"
   ]
  },
  {
   "cell_type": "code",
   "execution_count": null,
   "metadata": {},
   "outputs": [],
   "source": [
    "# 分类"
   ]
  },
  {
   "cell_type": "code",
   "execution_count": 1075,
   "metadata": {},
   "outputs": [
    {
     "data": {
      "text/plain": [
       "(9137, 19)"
      ]
     },
     "execution_count": 1075,
     "metadata": {},
     "output_type": "execute_result"
    }
   ],
   "source": [
    "result_win2 = pd.DataFrame()\n",
    "temp_win2 = pd.DataFrame()\n",
    "data_win_2.shape"
   ]
  },
  {
   "cell_type": "code",
   "execution_count": 1076,
   "metadata": {
    "scrolled": true
   },
   "outputs": [
    {
     "data": {
      "text/plain": [
       "(3723, 19)"
      ]
     },
     "execution_count": 1076,
     "metadata": {},
     "output_type": "execute_result"
    }
   ],
   "source": [
    "data_win_2_ios.shape"
   ]
  },
  {
   "cell_type": "code",
   "execution_count": 1077,
   "metadata": {},
   "outputs": [],
   "source": [
    "data_win_2['label'] = data_win_2.apply(lambda x:1 if x.create_role_num == 0 else (1 if x.create_role_pay_num==0 else \n",
    "        (1 if (x.create_role_pay_cost>=5000)&(x.create_role_roi<=0.05) else(1 if (x.create_role_pay_num==1)&(x.create_role_pay_sum==12) else\n",
    "        (0 if (x.source_run_date_amount>10000)&(x.create_role_pay_cost<=5500)&(x.create_role_roi>0.06) else \n",
    "         (0 if (x.source_run_date_amount<=10000)&(x.create_role_roi>0.06) else\n",
    "          (1 if x.create_role_roi<=0.035 else\n",
    "         (0 if (x.create_role_pay_cost<=3800)&(x.create_role_roi>=0.035) else 2 ))))))), axis=1)\n",
    "\n",
    "data_win_2_ios['label'] = data_win_2_ios.apply(lambda x:1 if x.create_role_num == 0 else (1 if x.create_role_pay_num==0 else \n",
    "        (1 if (x.create_role_pay_cost>=8000)&(x.create_role_roi<=0.07) else(1 if (x.create_role_pay_num==1)&(x.create_role_pay_sum==12) else\n",
    "        (0 if (x.source_run_date_amount>15000)&(x.create_role_pay_cost<=8500)&(x.create_role_roi>0.07) else \n",
    "         (0 if (x.source_run_date_amount<=15000)&(x.create_role_roi>0.07) else\n",
    "          (1 if x.create_role_roi<=0.04 else\n",
    "         (0 if (x.create_role_pay_cost<=5500)&(x.create_role_roi>=0.04) else 2 ))))))), axis=1)"
   ]
  },
  {
   "cell_type": "code",
   "execution_count": 912,
   "metadata": {},
   "outputs": [],
   "source": [
    "# data_win_2['label'] = data_win_2.apply(lambda x:1 if x.create_role_num == 0 else (1 if x.create_role_pay_num==0 else \n",
    "#         (1 if x.create_role_pay_cost>=5000 else(1 if (x.create_role_pay_num==1)&(x.create_role_pay_sum==12) else\n",
    "#         (1 if x.create_role_cost >=50 else (0 if (x.create_role_pay_cost<=3800)&(x.create_role_roi>=0.03) else\n",
    "#         (0 if (x.create_role_pay_num>=3)&(x.create_role_pay_rate>=0.03) else 2 )))))), axis=1)\n",
    "# data_win_2_ios['label'] = data_win_2_ios.apply(lambda x:1 if x.create_role_num == 0 else (1 if x.create_role_pay_num==0 else \n",
    "#         (1 if x.create_role_pay_cost>=8000 else(1 if (x.create_role_pay_num==1)&(x.create_role_pay_sum==12) else\n",
    "#         (1 if x.create_role_cost >=140 else (0 if (x.create_role_pay_cost<=7300)&(x.create_role_roi>=0.03) else\n",
    "#         (0 if (x.create_role_pay_num>=3)&(x.create_role_pay_rate>=0.03) else 2 )))))), axis=1)"
   ]
  },
  {
   "cell_type": "code",
   "execution_count": 1078,
   "metadata": {},
   "outputs": [],
   "source": [
    "result_win2 = result_win2.append(data_win_2[(data_win_2['label'] == 1)| (data_win_2['label'] == 0)]).append(data_win_2_ios[(data_win_2_ios['label'] == 1)|(data_win_2_ios['label'] == 0)])\n",
    "temp_win2 = temp_win2.append(data_win_2[data_win_2['label'] == 2]).append(data_win_2_ios[data_win_2_ios['label'] == 2])"
   ]
  },
  {
   "cell_type": "code",
   "execution_count": 1079,
   "metadata": {},
   "outputs": [],
   "source": [
    "temp_win2['label'] = gbdt_b_win2.predict(temp_win2[['create_role_cost',\n",
    "       'create_role_pay_cost', 'create_role_roi','create_role_pay_rate','create_role_retain_1d']])"
   ]
  },
  {
   "cell_type": "code",
   "execution_count": 1080,
   "metadata": {},
   "outputs": [],
   "source": [
    "result_win2_data = pd.concat([result_win2,temp_win2],axis=0)"
   ]
  },
  {
   "cell_type": "code",
   "execution_count": 1081,
   "metadata": {},
   "outputs": [
    {
     "data": {
      "text/plain": [
       "1    10174\n",
       "0     2686\n",
       "Name: label, dtype: int64"
      ]
     },
     "execution_count": 1081,
     "metadata": {},
     "output_type": "execute_result"
    }
   ],
   "source": [
    "result_win2_data['label'].value_counts()"
   ]
  },
  {
   "cell_type": "code",
   "execution_count": 1082,
   "metadata": {},
   "outputs": [
    {
     "data": {
      "text/plain": [
       "0.14332606393437675"
      ]
     },
     "execution_count": 1082,
     "metadata": {},
     "output_type": "execute_result"
    }
   ],
   "source": [
    "result_win2_data[result_win2_data['label']==1]['create_role_30_pay_sum'].sum() / result_win2_data[result_win2_data['label']==1]['source_run_date_amount'].sum()"
   ]
  },
  {
   "cell_type": "code",
   "execution_count": 1083,
   "metadata": {},
   "outputs": [
    {
     "data": {
      "text/plain": [
       "0.7951680074337124"
      ]
     },
     "execution_count": 1083,
     "metadata": {},
     "output_type": "execute_result"
    }
   ],
   "source": [
    "result_win2_data[result_win2_data['label']==0]['create_role_30_pay_sum'].sum() / result_win2_data[result_win2_data['label']==0]['source_run_date_amount'].sum()"
   ]
  },
  {
   "cell_type": "code",
   "execution_count": 1084,
   "metadata": {},
   "outputs": [],
   "source": [
    "temp_win2.to_csv('./temp_win2.csv')"
   ]
  },
  {
   "cell_type": "code",
   "execution_count": 1085,
   "metadata": {},
   "outputs": [],
   "source": [
    "result_win2.to_csv('./result_win2.csv')"
   ]
  },
  {
   "cell_type": "markdown",
   "metadata": {},
   "source": [
    "### win=3"
   ]
  },
  {
   "cell_type": "code",
   "execution_count": 921,
   "metadata": {},
   "outputs": [],
   "source": [
    "# 训练阶段"
   ]
  },
  {
   "cell_type": "code",
   "execution_count": 920,
   "metadata": {},
   "outputs": [],
   "source": [
    "result_win3 = pd.DataFrame()\n",
    "temp_win3 = pd.DataFrame()"
   ]
  },
  {
   "cell_type": "code",
   "execution_count": 923,
   "metadata": {},
   "outputs": [
    {
     "name": "stdout",
     "output_type": "stream",
     "text": [
      "2987.3074975094637\n",
      "20.264470002608526\n",
      "4792.622422932873\n",
      "47.608559510726465\n"
     ]
    }
   ],
   "source": [
    "print(data_win_2['source_run_date_amount'].sum() / data_win_2['create_role_pay_num'].sum())\n",
    "print(data_win_2['source_run_date_amount'].sum() / data_win_2['create_role_num'].sum())\n",
    "print(data_win_2_ios['source_run_date_amount'].sum() / data_win_2_ios['create_role_pay_num'].sum())\n",
    "print(data_win_2_ios['source_run_date_amount'].sum() / data_win_2_ios['create_role_num'].sum())"
   ]
  },
  {
   "cell_type": "code",
   "execution_count": 922,
   "metadata": {},
   "outputs": [
    {
     "name": "stdout",
     "output_type": "stream",
     "text": [
      "2566.4044842839303\n",
      "19.48318336684827\n",
      "4043.1046155622257\n",
      "44.92038831140846\n"
     ]
    }
   ],
   "source": [
    "print(data_win_3['source_run_date_amount'].sum() / data_win_3['create_role_pay_num'].sum())\n",
    "print(data_win_3['source_run_date_amount'].sum() / data_win_3['create_role_num'].sum())\n",
    "print(data_win_3_ios['source_run_date_amount'].sum() / data_win_3_ios['create_role_pay_num'].sum())\n",
    "print(data_win_3_ios['source_run_date_amount'].sum() / data_win_3_ios['create_role_num'].sum())"
   ]
  },
  {
   "cell_type": "code",
   "execution_count": 924,
   "metadata": {},
   "outputs": [],
   "source": [
    "# win = 3 训练数据\n",
    "data_win_3['label'] = data_win_3.apply(lambda x:1 if x.create_role_num == 0 else (1 if x.create_role_pay_sum==0 else(\n",
    "             1 if x.create_role_pay_cost > 4300 else(1 if x.create_role_cost >=45 else 2))),axis=1)\n",
    "data_win_3_ios['label'] = data_win_3_ios.apply(lambda x:1 if x.create_role_num == 0 else (1 if x.create_role_pay_sum==0 else(\n",
    "             1 if x.create_role_pay_cost > 6500 else(1 if x.create_role_cost >=130 else 2))),axis=1)"
   ]
  },
  {
   "cell_type": "code",
   "execution_count": 925,
   "metadata": {},
   "outputs": [],
   "source": [
    "result_win3 = result_win3.append(data_win_3[(data_win_3['label'] == 1)| (data_win_3['label'] == 0)]).append(data_win_3_ios[(data_win_3_ios['label'] == 1)|(data_win_3_ios['label'] == 0)])\n",
    "temp_win3 = temp_win3.append(data_win_3[data_win_3['label'] == 2]).append(data_win_3_ios[data_win_3_ios['label'] == 2])"
   ]
  },
  {
   "cell_type": "code",
   "execution_count": 926,
   "metadata": {},
   "outputs": [],
   "source": [
    "temp_win3['label'] = temp_win3.apply(lambda x :0 if (x.platform==1)&(x['30_roi']>=0.2) else (0 if (x.platform==2)&(x['30_roi']>=0.18) else 1),axis=1)"
   ]
  },
  {
   "cell_type": "code",
   "execution_count": 927,
   "metadata": {},
   "outputs": [],
   "source": [
    "data_train_win3 = temp_win3[['create_role_cost',\n",
    "       'create_role_pay_cost', 'create_role_roi','create_role_pay_rate','create_role_retain_1d','label']]"
   ]
  },
  {
   "cell_type": "code",
   "execution_count": 928,
   "metadata": {},
   "outputs": [],
   "source": [
    "target = data_train_win3['label']\n",
    "features = data_train_win3.drop(['label'], axis=1)\n",
    "X_val, x_test, Y_val, y_test = train_test_split(features,target, test_size=0.2)\n",
    "gbdt_b_win3 = GradientBoostingClassifier()\n",
    "gbdt_b_win3.fit(X_val, Y_val)\n",
    "y_predict_win3 = gbdt_b_win3.predict(x_test)"
   ]
  },
  {
   "cell_type": "code",
   "execution_count": 930,
   "metadata": {},
   "outputs": [
    {
     "name": "stdout",
     "output_type": "stream",
     "text": [
      "              precision    recall  f1-score   support\n",
      "\n",
      "           0       0.80      0.68      0.74       397\n",
      "           1       0.77      0.86      0.81       491\n",
      "\n",
      "    accuracy                           0.78       888\n",
      "   macro avg       0.79      0.77      0.77       888\n",
      "weighted avg       0.78      0.78      0.78       888\n",
      "\n"
     ]
    }
   ],
   "source": [
    "print(classification_report( y_test, y_predict_win3))"
   ]
  },
  {
   "cell_type": "code",
   "execution_count": 931,
   "metadata": {},
   "outputs": [
    {
     "data": {
      "text/plain": [
       "['gbdt_b_win3.pkl']"
      ]
     },
     "execution_count": 931,
     "metadata": {},
     "output_type": "execute_result"
    }
   ],
   "source": [
    "joblib.dump(gbdt_b_win3,'gbdt_b_win3.pkl')"
   ]
  },
  {
   "cell_type": "code",
   "execution_count": 932,
   "metadata": {},
   "outputs": [],
   "source": [
    "# 分类"
   ]
  },
  {
   "cell_type": "code",
   "execution_count": 1086,
   "metadata": {},
   "outputs": [],
   "source": [
    "result_win3 = pd.DataFrame()\n",
    "temp_win3 = pd.DataFrame()"
   ]
  },
  {
   "cell_type": "code",
   "execution_count": null,
   "metadata": {},
   "outputs": [],
   "source": [
    "# 付费金额10000以上    关\n",
    "# 付费成本超标&roi<=0.08 ；\n",
    "# roi 达标 付费成本达标 开\n",
    "# 开\n",
    "# 付费成本不超标&roi"
   ]
  },
  {
   "cell_type": "code",
   "execution_count": 1087,
   "metadata": {},
   "outputs": [],
   "source": [
    "data_win_3['label'] = data_win_3.apply(lambda x:1 if x.create_role_num == 0 else (1 if x.create_role_pay_num==0 else \n",
    "        (1 if (x.create_role_pay_cost>=4300)&(x.create_role_roi<=0.07) else(1 if (x.create_role_pay_num==1)&(x.create_role_pay_sum==12) else\n",
    "        (0 if (x.source_run_date_amount>10000)&(x.create_role_pay_cost<=5000)&(x.create_role_roi>0.08) else \n",
    "         (0 if (x.source_run_date_amount<=10000)&(x.create_role_roi>0.08) else\n",
    "          (1 if x.create_role_roi<=0.05 else\n",
    "         (0 if (x.create_role_pay_cost<=3500)&(x.create_role_roi>=0.05) else 2 ))))))), axis=1)\n",
    "\n",
    "data_win_3_ios['label'] = data_win_3_ios.apply(lambda x:1 if x.create_role_num == 0 else (1 if x.create_role_pay_num==0 else \n",
    "        (1 if (x.create_role_pay_cost>=7000)&(x.create_role_roi<=0.08) else(1 if (x.create_role_pay_num==1)&(x.create_role_pay_sum==12) else\n",
    "        (0 if (x.source_run_date_amount>15000)&(x.create_role_pay_cost<=8000)&(x.create_role_roi>0.09) else \n",
    "         (0 if (x.source_run_date_amount<=15000)&(x.create_role_roi>0.09) else\n",
    "          (1 if x.create_role_roi<=0.06 else\n",
    "         (0 if (x.create_role_pay_cost<=5000)&(x.create_role_roi>=0.06) else 2 ))))))), axis=1)\n"
   ]
  },
  {
   "cell_type": "code",
   "execution_count": 934,
   "metadata": {},
   "outputs": [],
   "source": [
    "# data_win_3['label'] = data_win_3.apply(lambda x:1 if x.create_role_num == 0 else (1 if x.create_role_pay_num==0 else \n",
    "#         (1 if x.create_role_pay_cost>=4300 else(1 if (x.create_role_pay_num==1)&(x.create_role_pay_sum==12) else\n",
    "#         (1 if x.create_role_cost >=45 else (0 if (x.create_role_pay_cost<=3500)&(x.create_role_roi>=0.05) else\n",
    "#         (0 if (x.create_role_pay_num>=3)&(x.create_role_pay_rate>=0.03) else 2 )))))), axis=1)\n",
    "# data_win_3_ios['label'] = data_win_3_ios.apply(lambda x:1 if x.create_role_num == 0 else (1 if x.create_role_pay_num==0 else \n",
    "#         (1 if x.create_role_pay_cost>=6500 else(1 if (x.create_role_pay_num==1)&(x.create_role_pay_sum==12) else\n",
    "#         (1 if x.create_role_cost >=130 else (0 if (x.create_role_pay_cost<=6200)&(x.create_role_roi>=0.05) else\n",
    "#         (0 if (x.create_role_pay_num>=3)&(x.create_role_pay_rate>=0.03) else 2 )))))), axis=1)"
   ]
  },
  {
   "cell_type": "code",
   "execution_count": 1088,
   "metadata": {},
   "outputs": [],
   "source": [
    "result_win3 = result_win3.append(data_win_3[(data_win_3['label'] == 1)| (data_win_3['label'] == 0)]).append(data_win_3_ios[(data_win_3_ios['label'] == 1)|(data_win_3_ios['label'] == 0)])\n",
    "temp_win3 = temp_win3.append(data_win_3[data_win_3['label'] == 2]).append(data_win_3_ios[data_win_3_ios['label'] == 2])"
   ]
  },
  {
   "cell_type": "code",
   "execution_count": 1089,
   "metadata": {},
   "outputs": [],
   "source": [
    "temp_win3['label'] = gbdt_b_win3.predict(temp_win3[['create_role_cost',\n",
    "       'create_role_pay_cost', 'create_role_roi','create_role_pay_rate','create_role_retain_1d']])"
   ]
  },
  {
   "cell_type": "code",
   "execution_count": 1090,
   "metadata": {},
   "outputs": [],
   "source": [
    "result_win3_data = pd.concat([result_win3,temp_win3],axis=0)"
   ]
  },
  {
   "cell_type": "code",
   "execution_count": 1091,
   "metadata": {},
   "outputs": [
    {
     "data": {
      "text/plain": [
       "1    8338\n",
       "0    2310\n",
       "Name: label, dtype: int64"
      ]
     },
     "execution_count": 1091,
     "metadata": {},
     "output_type": "execute_result"
    }
   ],
   "source": [
    "result_win3_data['label'].value_counts()"
   ]
  },
  {
   "cell_type": "code",
   "execution_count": 1092,
   "metadata": {},
   "outputs": [
    {
     "data": {
      "text/plain": [
       "(7640, 19)"
      ]
     },
     "execution_count": 1092,
     "metadata": {},
     "output_type": "execute_result"
    }
   ],
   "source": [
    "data_win_3.shape"
   ]
  },
  {
   "cell_type": "code",
   "execution_count": 1093,
   "metadata": {},
   "outputs": [
    {
     "data": {
      "text/plain": [
       "(3008, 19)"
      ]
     },
     "execution_count": 1093,
     "metadata": {},
     "output_type": "execute_result"
    }
   ],
   "source": [
    "data_win_3_ios.shape"
   ]
  },
  {
   "cell_type": "code",
   "execution_count": 1094,
   "metadata": {},
   "outputs": [
    {
     "data": {
      "text/plain": [
       "0.16729634523879947"
      ]
     },
     "execution_count": 1094,
     "metadata": {},
     "output_type": "execute_result"
    }
   ],
   "source": [
    "result_win3_data[result_win3_data['label']==1]['create_role_30_pay_sum'].sum() / result_win3_data[result_win3_data['label']==1]['source_run_date_amount'].sum()"
   ]
  },
  {
   "cell_type": "code",
   "execution_count": 1095,
   "metadata": {},
   "outputs": [
    {
     "data": {
      "text/plain": [
       "0.8510175007005686"
      ]
     },
     "execution_count": 1095,
     "metadata": {},
     "output_type": "execute_result"
    }
   ],
   "source": [
    "result_win3_data[result_win3_data['label']==0]['create_role_30_pay_sum'].sum() / result_win3_data[result_win3_data['label']==0]['source_run_date_amount'].sum()"
   ]
  },
  {
   "cell_type": "code",
   "execution_count": 1096,
   "metadata": {},
   "outputs": [],
   "source": [
    "temp_win3.to_csv('./temp_win3.csv')"
   ]
  },
  {
   "cell_type": "code",
   "execution_count": 1097,
   "metadata": {},
   "outputs": [],
   "source": [
    "result_win3.to_csv('./result_win3.csv')"
   ]
  },
  {
   "cell_type": "markdown",
   "metadata": {},
   "source": [
    "## win=7"
   ]
  },
  {
   "cell_type": "code",
   "execution_count": 32,
   "metadata": {},
   "outputs": [],
   "source": [
    "data_win_7['label'] = data_win_7.apply(lambda x: 1 if x.create_role_num == 0 else(1 if x.create_role_pay_num == 0 \n",
    "                else(1 if (x.create_role_pay_cost >= 4200) & (x.create_role_roi <= 0.06) else (1 if \n",
    "                    (x.create_role_pay_num == 1) & ( x.create_role_pay_sum == 12) else( 0 if (x.create_role_cost <= 50) \n",
    "                       & (x.create_role_roi >= 0.11) & (x.create_role_pay_cost <= 4000) else( 0 if \n",
    "                            (x.source_run_date_amount > 10000) & (x.create_role_pay_cost <= 4200) & (x.create_role_roi >= 0.09) \n",
    "                                    else (0 if (x.source_run_date_amount <= 10000) & (x.create_role_pay_cost <= 5000) & (x.create_role_roi >= 0.08) else(1 if x.create_role_roi <= 0.05 else(0 if (x.create_role_pay_cost <= 3500) & (\n",
    "                                    x.create_role_roi >= 0.06) else 2)))))))), axis=1)"
   ]
  },
  {
   "cell_type": "code",
   "execution_count": 33,
   "metadata": {},
   "outputs": [
    {
     "data": {
      "text/plain": [
       "1    7086\n",
       "0    3771\n",
       "2     604\n",
       "Name: label, dtype: int64"
      ]
     },
     "execution_count": 33,
     "metadata": {},
     "output_type": "execute_result"
    }
   ],
   "source": [
    "data_win_7['label'].value_counts()"
   ]
  },
  {
   "cell_type": "code",
   "execution_count": 1,
   "metadata": {},
   "outputs": [],
   "source": [
    "# data_win_7['label'] = data_win_7.apply(\n",
    "#             lambda x: 1 if x.create_role_num == 0 else (1 if x.create_role_pay_num == 0 else\n",
    "#                 (1 if (x.create_role_pay_cost >= 4200) & (x.create_role_roi <= 0.06) else (\n",
    "#                     1 if (x.create_role_pay_num == 1) & ( x.create_role_pay_sum == 12) else(\n",
    "#                         0 if (x.create_role_cost <= 50) & (x.create_role_roi >= 0.11) & (x.create_role_pay_cost <= 4000)\n",
    "#                             else (0 if (x.source_run_date_amount > 10000) & (\n",
    "#                                         x.create_role_pay_cost <= 4200) & (\n",
    "#                                             x.create_role_roi >= 0.09) else\n",
    "#                                                              (x.source_run_date_amount <= 10000) & (\n",
    "#                         x.create_role_pay_cost <= 5000) & (\n",
    "#                              x.create_role_roi >= 0.08) else(1 if x.create_role_roi <= 0.05 else (\n",
    "#                                                                   0 if (x.create_role_pay_cost <= 3500) & (\n",
    "#                                                                           x.create_role_roi >= 0.06) else 2))))))),\n",
    "#             axis=1)"
   ]
  },
  {
   "cell_type": "code",
   "execution_count": 24,
   "metadata": {},
   "outputs": [],
   "source": [
    "data_win_7['label'] = data_win_7.apply(\n",
    "            lambda x: 0 if (x.create_role_cost <= 50) & (x.create_role_roi >= 0.11) & (\n",
    "                    x.create_role_pay_cost <= 4000) else (0 if (x.source_run_date_amount > 10000) & (\n",
    "                    x.create_role_pay_cost <= 4200) & (x.create_role_roi >= 0.09) else (\n",
    "                0 if (x.source_run_date_amount <= 10000) & (\n",
    "                        x.create_role_pay_cost <= 5000) & (\n",
    "                             x.create_role_roi >= 0.08) else (0 if (x.create_role_pay_cost <= 3500) & (\n",
    "                        x.create_role_roi >= 0.06) else 1))), axis=1)\n",
    "\n",
    "data_win_7_ios['label'] = data_win_7_ios.apply(\n",
    "    lambda x: 0 if (x.create_role_cost <= 100) & (x.create_role_roi >= 0.10) & (\n",
    "            x.create_role_pay_cost <= 7000) else (0 if (x.source_run_date_amount > 15000) & (\n",
    "            x.create_role_pay_cost <= 7000) & (x.create_role_roi >= 0.075) else (\n",
    "        0 if (x.source_run_date_amount <= 15000) & (\n",
    "                x.create_role_pay_cost <= 8000) & (\n",
    "                     x.create_role_roi >= 0.07) else (0 if (x.create_role_pay_cost <= 5000) & (\n",
    "                x.create_role_roi >= 0.06) else 1))), axis=1)\n"
   ]
  },
  {
   "cell_type": "code",
   "execution_count": 25,
   "metadata": {},
   "outputs": [
    {
     "data": {
      "text/plain": [
       "1    7690\n",
       "0    3771\n",
       "Name: label, dtype: int64"
      ]
     },
     "execution_count": 25,
     "metadata": {},
     "output_type": "execute_result"
    }
   ],
   "source": [
    "data_win_7['label'].value_counts()"
   ]
  },
  {
   "cell_type": "markdown",
   "metadata": {},
   "source": [
    "## win=7"
   ]
  },
  {
   "cell_type": "code",
   "execution_count": 1041,
   "metadata": {},
   "outputs": [],
   "source": [
    "data_win_7['label'] = data_win_7.apply(lambda x:1 if x.create_role_num == 0 else (0 if (x.create_role_cost<=50)&(x.create_role_roi>=0.125)&(x.create_role_pay_cost<=4000) else 1), axis=1)\n",
    "data_win_7_ios['label'] = data_win_7_ios.apply(lambda x:1 if x.create_role_num == 0 else (0 if (x.create_role_cost<=100)&(x.create_role_roi>=0.11)&(x.create_role_pay_cost<=8000) else 1), axis=1)"
   ]
  },
  {
   "cell_type": "code",
   "execution_count": 1103,
   "metadata": {},
   "outputs": [],
   "source": [
    "result_win7_data = pd.concat([data_win_7,data_win_7_ios],axis=0)"
   ]
  },
  {
   "cell_type": "code",
   "execution_count": 1106,
   "metadata": {},
   "outputs": [],
   "source": [
    "result = pd.concat([result_win1_data,result_win2_data,result_win3_data,result_win7_data],axis=0)"
   ]
  },
  {
   "cell_type": "code",
   "execution_count": 1110,
   "metadata": {},
   "outputs": [],
   "source": [
    "# 没有win=3 有win=7 说明计划处于关停，则以win=7的结果为输出\n",
    "# 优先级  win=3 大于 win=2 大于 win=1\n",
    "\n",
    "# 判断过程：\n",
    "# 1，优先取win=3值，否则取win=2的值，否则取win=1的值\n",
    "# 2，没有win=0,1,2,3,则以win=7的结果为输出"
   ]
  },
  {
   "cell_type": "code",
   "execution_count": 1111,
   "metadata": {},
   "outputs": [],
   "source": [
    "result['midia_id'] = 10"
   ]
  },
  {
   "cell_type": "code",
   "execution_count": 1112,
   "metadata": {},
   "outputs": [],
   "source": [
    "temp = result[result['data_win']!=7]"
   ]
  },
  {
   "cell_type": "code",
   "execution_count": 1114,
   "metadata": {},
   "outputs": [],
   "source": [
    "temp.sort_values('data_win',ascending=False,inplace=True)\n",
    "temp.drop_duplicates(['channel_id','source_id','model_run_datetime'],keep='first',inplace=True)"
   ]
  },
  {
   "cell_type": "code",
   "execution_count": 1115,
   "metadata": {},
   "outputs": [],
   "source": [
    "temp = pd.concat([temp,result[result['data_win']==7]], axis=0)\n",
    "temp.sort_values('data_win',inplace=True)\n",
    "result_out = temp.drop_duplicates(['channel_id','source_id','model_run_datetime'],keep='first')"
   ]
  },
  {
   "cell_type": "code",
   "execution_count": 1117,
   "metadata": {},
   "outputs": [
    {
     "data": {
      "text/html": [
       "<div>\n",
       "<style scoped>\n",
       "    .dataframe tbody tr th:only-of-type {\n",
       "        vertical-align: middle;\n",
       "    }\n",
       "\n",
       "    .dataframe tbody tr th {\n",
       "        vertical-align: top;\n",
       "    }\n",
       "\n",
       "    .dataframe thead th {\n",
       "        text-align: right;\n",
       "    }\n",
       "</style>\n",
       "<table border=\"1\" class=\"dataframe\">\n",
       "  <thead>\n",
       "    <tr style=\"text-align: right;\">\n",
       "      <th></th>\n",
       "      <th>channel_id</th>\n",
       "      <th>source_id</th>\n",
       "      <th>data_win</th>\n",
       "      <th>model_run_datetime</th>\n",
       "      <th>create_time</th>\n",
       "      <th>game_id</th>\n",
       "      <th>platform</th>\n",
       "      <th>source_run_date_amount</th>\n",
       "      <th>create_role_num</th>\n",
       "      <th>create_role_cost</th>\n",
       "      <th>create_role_pay_num</th>\n",
       "      <th>create_role_pay_cost</th>\n",
       "      <th>create_role_pay_sum</th>\n",
       "      <th>create_role_roi</th>\n",
       "      <th>create_role_retain_1d</th>\n",
       "      <th>create_role_pay_rate</th>\n",
       "      <th>create_role_30_pay_sum</th>\n",
       "      <th>30_roi</th>\n",
       "      <th>label</th>\n",
       "      <th>midia_id</th>\n",
       "    </tr>\n",
       "  </thead>\n",
       "  <tbody>\n",
       "    <tr>\n",
       "      <th>22718</th>\n",
       "      <td>20541</td>\n",
       "      <td>321662</td>\n",
       "      <td>1</td>\n",
       "      <td>2020-06-24</td>\n",
       "      <td>2020-06-23</td>\n",
       "      <td>1000993</td>\n",
       "      <td>2</td>\n",
       "      <td>953.71</td>\n",
       "      <td>14</td>\n",
       "      <td>68.122143</td>\n",
       "      <td>0</td>\n",
       "      <td>0.00</td>\n",
       "      <td>0</td>\n",
       "      <td>0.00000</td>\n",
       "      <td>0.0000</td>\n",
       "      <td>0.00000</td>\n",
       "      <td>0</td>\n",
       "      <td>0.000000</td>\n",
       "      <td>1</td>\n",
       "      <td>10</td>\n",
       "    </tr>\n",
       "    <tr>\n",
       "      <th>8477</th>\n",
       "      <td>20646</td>\n",
       "      <td>309104</td>\n",
       "      <td>1</td>\n",
       "      <td>2020-05-13</td>\n",
       "      <td>2020-05-12</td>\n",
       "      <td>1001049</td>\n",
       "      <td>1</td>\n",
       "      <td>682.98</td>\n",
       "      <td>16</td>\n",
       "      <td>42.686250</td>\n",
       "      <td>0</td>\n",
       "      <td>0.00</td>\n",
       "      <td>0</td>\n",
       "      <td>0.00000</td>\n",
       "      <td>0.0625</td>\n",
       "      <td>0.00000</td>\n",
       "      <td>0</td>\n",
       "      <td>0.000000</td>\n",
       "      <td>1</td>\n",
       "      <td>10</td>\n",
       "    </tr>\n",
       "    <tr>\n",
       "      <th>8478</th>\n",
       "      <td>20646</td>\n",
       "      <td>309105</td>\n",
       "      <td>1</td>\n",
       "      <td>2020-05-13</td>\n",
       "      <td>2020-05-12</td>\n",
       "      <td>1001049</td>\n",
       "      <td>1</td>\n",
       "      <td>1532.40</td>\n",
       "      <td>66</td>\n",
       "      <td>23.218182</td>\n",
       "      <td>0</td>\n",
       "      <td>0.00</td>\n",
       "      <td>0</td>\n",
       "      <td>0.00000</td>\n",
       "      <td>0.0909</td>\n",
       "      <td>0.00000</td>\n",
       "      <td>0</td>\n",
       "      <td>0.000000</td>\n",
       "      <td>1</td>\n",
       "      <td>10</td>\n",
       "    </tr>\n",
       "    <tr>\n",
       "      <th>8479</th>\n",
       "      <td>20646</td>\n",
       "      <td>309107</td>\n",
       "      <td>1</td>\n",
       "      <td>2020-05-13</td>\n",
       "      <td>2020-05-12</td>\n",
       "      <td>1001049</td>\n",
       "      <td>1</td>\n",
       "      <td>695.87</td>\n",
       "      <td>11</td>\n",
       "      <td>63.260909</td>\n",
       "      <td>0</td>\n",
       "      <td>0.00</td>\n",
       "      <td>0</td>\n",
       "      <td>0.00000</td>\n",
       "      <td>0.0909</td>\n",
       "      <td>0.00000</td>\n",
       "      <td>0</td>\n",
       "      <td>0.000000</td>\n",
       "      <td>1</td>\n",
       "      <td>10</td>\n",
       "    </tr>\n",
       "    <tr>\n",
       "      <th>7585</th>\n",
       "      <td>6867</td>\n",
       "      <td>307011</td>\n",
       "      <td>1</td>\n",
       "      <td>2020-05-09</td>\n",
       "      <td>2020-05-08</td>\n",
       "      <td>1001049</td>\n",
       "      <td>1</td>\n",
       "      <td>4014.52</td>\n",
       "      <td>727</td>\n",
       "      <td>5.522036</td>\n",
       "      <td>2</td>\n",
       "      <td>2007.26</td>\n",
       "      <td>254</td>\n",
       "      <td>0.06327</td>\n",
       "      <td>0.0426</td>\n",
       "      <td>0.00275</td>\n",
       "      <td>24206</td>\n",
       "      <td>6.029613</td>\n",
       "      <td>0</td>\n",
       "      <td>10</td>\n",
       "    </tr>\n",
       "  </tbody>\n",
       "</table>\n",
       "</div>"
      ],
      "text/plain": [
       "       channel_id  source_id  data_win model_run_datetime create_time  \\\n",
       "22718       20541     321662         1         2020-06-24  2020-06-23   \n",
       "8477        20646     309104         1         2020-05-13  2020-05-12   \n",
       "8478        20646     309105         1         2020-05-13  2020-05-12   \n",
       "8479        20646     309107         1         2020-05-13  2020-05-12   \n",
       "7585         6867     307011         1         2020-05-09  2020-05-08   \n",
       "\n",
       "       game_id  platform  source_run_date_amount  create_role_num  \\\n",
       "22718  1000993         2                  953.71               14   \n",
       "8477   1001049         1                  682.98               16   \n",
       "8478   1001049         1                 1532.40               66   \n",
       "8479   1001049         1                  695.87               11   \n",
       "7585   1001049         1                 4014.52              727   \n",
       "\n",
       "       create_role_cost  create_role_pay_num  create_role_pay_cost  \\\n",
       "22718         68.122143                    0                  0.00   \n",
       "8477          42.686250                    0                  0.00   \n",
       "8478          23.218182                    0                  0.00   \n",
       "8479          63.260909                    0                  0.00   \n",
       "7585           5.522036                    2               2007.26   \n",
       "\n",
       "       create_role_pay_sum  create_role_roi  create_role_retain_1d  \\\n",
       "22718                    0          0.00000                 0.0000   \n",
       "8477                     0          0.00000                 0.0625   \n",
       "8478                     0          0.00000                 0.0909   \n",
       "8479                     0          0.00000                 0.0909   \n",
       "7585                   254          0.06327                 0.0426   \n",
       "\n",
       "       create_role_pay_rate  create_role_30_pay_sum    30_roi  label  midia_id  \n",
       "22718               0.00000                       0  0.000000      1        10  \n",
       "8477                0.00000                       0  0.000000      1        10  \n",
       "8478                0.00000                       0  0.000000      1        10  \n",
       "8479                0.00000                       0  0.000000      1        10  \n",
       "7585                0.00275                   24206  6.029613      0        10  "
      ]
     },
     "execution_count": 1117,
     "metadata": {},
     "output_type": "execute_result"
    }
   ],
   "source": [
    "result_out.head()"
   ]
  },
  {
   "cell_type": "code",
   "execution_count": 1118,
   "metadata": {},
   "outputs": [
    {
     "data": {
      "text/plain": [
       "0.8330984163445107"
      ]
     },
     "execution_count": 1118,
     "metadata": {},
     "output_type": "execute_result"
    }
   ],
   "source": [
    "result_out[result_out['label']==0]['create_role_30_pay_sum'].sum()/result_out[result_out['label']==0]['source_run_date_amount'].sum()"
   ]
  },
  {
   "cell_type": "code",
   "execution_count": 1119,
   "metadata": {},
   "outputs": [
    {
     "data": {
      "text/plain": [
       "0.15136557895725347"
      ]
     },
     "execution_count": 1119,
     "metadata": {},
     "output_type": "execute_result"
    }
   ],
   "source": [
    "result_out[result_out['label']==1]['create_role_30_pay_sum'].sum()/result_out[result_out['label']==1]['source_run_date_amount'].sum()"
   ]
  },
  {
   "cell_type": "code",
   "execution_count": 2,
   "metadata": {},
   "outputs": [
    {
     "data": {
      "text/plain": [
       "str"
      ]
     },
     "execution_count": 2,
     "metadata": {},
     "output_type": "execute_result"
    }
   ],
   "source": [
    "type(format(0.0231, '.2%'))"
   ]
  }
 ],
 "metadata": {
  "kernelspec": {
   "display_name": "Python 3",
   "language": "python",
   "name": "python3"
  },
  "language_info": {
   "codemirror_mode": {
    "name": "ipython",
    "version": 3
   },
   "file_extension": ".py",
   "mimetype": "text/x-python",
   "name": "python",
   "nbconvert_exporter": "python",
   "pygments_lexer": "ipython3",
   "version": "3.7.6"
  }
 },
 "nbformat": 4,
 "nbformat_minor": 4
}
