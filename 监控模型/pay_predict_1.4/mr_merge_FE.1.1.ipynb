{
 "cells": [
  {
   "cell_type": "code",
   "execution_count": 9,
   "metadata": {},
   "outputs": [],
   "source": [
    "import pandas as pd\n",
    "import numpy as np\n",
    "import datetime\n",
    "import gc\n",
    "import random"
   ]
  },
  {
   "cell_type": "code",
   "execution_count": 10,
   "metadata": {},
   "outputs": [],
   "source": [
    "product_login = pd.read_csv('./FE_data/product_login.csv')\n",
    "users_info_all = pd.read_csv('./FE_data/users_info_all.csv')"
   ]
  },
  {
   "cell_type": "code",
   "execution_count": 12,
   "metadata": {},
   "outputs": [
    {
     "data": {
      "text/plain": [
       "5951202"
      ]
     },
     "execution_count": 12,
     "metadata": {},
     "output_type": "execute_result"
    }
   ],
   "source": [
    "product_login['role_id'].nunique()"
   ]
  },
  {
   "cell_type": "code",
   "execution_count": 14,
   "metadata": {},
   "outputs": [],
   "source": [
    "product_login.drop_duplicates('role_id', inplace=True)"
   ]
  },
  {
   "cell_type": "code",
   "execution_count": 16,
   "metadata": {},
   "outputs": [
    {
     "data": {
      "text/plain": [
       "(5927469, 17)"
      ]
     },
     "execution_count": 16,
     "metadata": {},
     "output_type": "execute_result"
    }
   ],
   "source": [
    "users_info_all.shape"
   ]
  },
  {
   "cell_type": "code",
   "execution_count": 17,
   "metadata": {},
   "outputs": [
    {
     "data": {
      "text/plain": [
       "5927469"
      ]
     },
     "execution_count": 17,
     "metadata": {},
     "output_type": "execute_result"
    }
   ],
   "source": [
    "users_info_all['role_id'].nunique()"
   ]
  },
  {
   "cell_type": "code",
   "execution_count": 18,
   "metadata": {},
   "outputs": [],
   "source": [
    "a = np.setdiff1d(product_login['role_id'], users_info_all['role_id'])"
   ]
  },
  {
   "cell_type": "code",
   "execution_count": 19,
   "metadata": {},
   "outputs": [
    {
     "name": "stdout",
     "output_type": "stream",
     "text": [
      "26952\n"
     ]
    }
   ],
   "source": [
    "print(len(a))"
   ]
  },
  {
   "cell_type": "code",
   "execution_count": 20,
   "metadata": {},
   "outputs": [],
   "source": [
    "# 合并\n",
    "data_7d = pd.merge(product_login, users_info_all, on=['user_id', 'role_id'], how='left', validate='one_to_one')"
   ]
  },
  {
   "cell_type": "code",
   "execution_count": 21,
   "metadata": {},
   "outputs": [
    {
     "data": {
      "text/html": [
       "<div>\n",
       "<style scoped>\n",
       "    .dataframe tbody tr th:only-of-type {\n",
       "        vertical-align: middle;\n",
       "    }\n",
       "\n",
       "    .dataframe tbody tr th {\n",
       "        vertical-align: top;\n",
       "    }\n",
       "\n",
       "    .dataframe thead th {\n",
       "        text-align: right;\n",
       "    }\n",
       "</style>\n",
       "<table border=\"1\" class=\"dataframe\">\n",
       "  <thead>\n",
       "    <tr style=\"text-align: right;\">\n",
       "      <th></th>\n",
       "      <th>user_id</th>\n",
       "      <th>role_id</th>\n",
       "      <th>r1</th>\n",
       "      <th>r2</th>\n",
       "      <th>r3</th>\n",
       "      <th>r4</th>\n",
       "      <th>max_role_level</th>\n",
       "      <th>is_pay</th>\n",
       "      <th>p1</th>\n",
       "      <th>p2</th>\n",
       "      <th>p3</th>\n",
       "      <th>p4</th>\n",
       "      <th>p5</th>\n",
       "      <th>p6</th>\n",
       "      <th>is_create_role</th>\n",
       "      <th>is_create_no</th>\n",
       "      <th>create_role_time</th>\n",
       "      <th>server_sum</th>\n",
       "      <th>is_gunfu</th>\n",
       "      <th>platform</th>\n",
       "      <th>user_type</th>\n",
       "      <th>user_flag</th>\n",
       "      <th>mobile</th>\n",
       "      <th>channel_id</th>\n",
       "      <th>source_id</th>\n",
       "      <th>device_no</th>\n",
       "      <th>reg_date</th>\n",
       "      <th>game_pay_num</th>\n",
       "      <th>chmoney_pay_num</th>\n",
       "    </tr>\n",
       "  </thead>\n",
       "  <tbody>\n",
       "    <tr>\n",
       "      <th>0</th>\n",
       "      <td>96918420</td>\n",
       "      <td>10027198</td>\n",
       "      <td>8</td>\n",
       "      <td>1</td>\n",
       "      <td>1</td>\n",
       "      <td>0.01</td>\n",
       "      <td>1</td>\n",
       "      <td>0.0</td>\n",
       "      <td>0.0</td>\n",
       "      <td>0.0</td>\n",
       "      <td>0.0</td>\n",
       "      <td>0.0</td>\n",
       "      <td>0.0</td>\n",
       "      <td>0.0</td>\n",
       "      <td>1.0</td>\n",
       "      <td>1.0</td>\n",
       "      <td>2019-11-03 16:50:00</td>\n",
       "      <td>NaN</td>\n",
       "      <td>NaN</td>\n",
       "      <td>2.0</td>\n",
       "      <td>1.0</td>\n",
       "      <td>1.0</td>\n",
       "      <td>0.0</td>\n",
       "      <td>20143.0</td>\n",
       "      <td>226234.0</td>\n",
       "      <td>4A2F95BF-2AD9-4161-B6CE-B25E58133A94</td>\n",
       "      <td>2019-11-03 16:49:57</td>\n",
       "      <td>NaN</td>\n",
       "      <td>NaN</td>\n",
       "    </tr>\n",
       "    <tr>\n",
       "      <th>1</th>\n",
       "      <td>96979655</td>\n",
       "      <td>10032583</td>\n",
       "      <td>13</td>\n",
       "      <td>1</td>\n",
       "      <td>1</td>\n",
       "      <td>0.02</td>\n",
       "      <td>1</td>\n",
       "      <td>0.0</td>\n",
       "      <td>0.0</td>\n",
       "      <td>0.0</td>\n",
       "      <td>0.0</td>\n",
       "      <td>0.0</td>\n",
       "      <td>0.0</td>\n",
       "      <td>0.0</td>\n",
       "      <td>1.0</td>\n",
       "      <td>1.0</td>\n",
       "      <td>2019-11-05 00:19:47</td>\n",
       "      <td>NaN</td>\n",
       "      <td>NaN</td>\n",
       "      <td>2.0</td>\n",
       "      <td>1.0</td>\n",
       "      <td>1.0</td>\n",
       "      <td>0.0</td>\n",
       "      <td>20144.0</td>\n",
       "      <td>226023.0</td>\n",
       "      <td>862C3D65-0285-44FD-A471-9F05690DA9AE</td>\n",
       "      <td>2019-11-05 00:17:55</td>\n",
       "      <td>NaN</td>\n",
       "      <td>NaN</td>\n",
       "    </tr>\n",
       "    <tr>\n",
       "      <th>2</th>\n",
       "      <td>96988675</td>\n",
       "      <td>10034191</td>\n",
       "      <td>2</td>\n",
       "      <td>1</td>\n",
       "      <td>1</td>\n",
       "      <td>0.00</td>\n",
       "      <td>1</td>\n",
       "      <td>0.0</td>\n",
       "      <td>0.0</td>\n",
       "      <td>0.0</td>\n",
       "      <td>0.0</td>\n",
       "      <td>0.0</td>\n",
       "      <td>0.0</td>\n",
       "      <td>0.0</td>\n",
       "      <td>1.0</td>\n",
       "      <td>1.0</td>\n",
       "      <td>2019-11-05 10:29:20</td>\n",
       "      <td>NaN</td>\n",
       "      <td>NaN</td>\n",
       "      <td>2.0</td>\n",
       "      <td>1.0</td>\n",
       "      <td>1.0</td>\n",
       "      <td>0.0</td>\n",
       "      <td>20144.0</td>\n",
       "      <td>226317.0</td>\n",
       "      <td>47B8955B-0BFD-45D7-BDD3-5AD8BDDAC5AE</td>\n",
       "      <td>2019-11-05 10:26:21</td>\n",
       "      <td>NaN</td>\n",
       "      <td>NaN</td>\n",
       "    </tr>\n",
       "    <tr>\n",
       "      <th>3</th>\n",
       "      <td>97008499</td>\n",
       "      <td>10037673</td>\n",
       "      <td>2</td>\n",
       "      <td>1</td>\n",
       "      <td>1</td>\n",
       "      <td>0.00</td>\n",
       "      <td>1</td>\n",
       "      <td>0.0</td>\n",
       "      <td>0.0</td>\n",
       "      <td>0.0</td>\n",
       "      <td>0.0</td>\n",
       "      <td>0.0</td>\n",
       "      <td>0.0</td>\n",
       "      <td>0.0</td>\n",
       "      <td>1.0</td>\n",
       "      <td>1.0</td>\n",
       "      <td>2019-11-05 16:43:50</td>\n",
       "      <td>NaN</td>\n",
       "      <td>NaN</td>\n",
       "      <td>2.0</td>\n",
       "      <td>1.0</td>\n",
       "      <td>1.0</td>\n",
       "      <td>0.0</td>\n",
       "      <td>20144.0</td>\n",
       "      <td>226277.0</td>\n",
       "      <td>B5E3068C-94FE-459C-82F7-116AEC954A05</td>\n",
       "      <td>2019-11-05 16:43:46</td>\n",
       "      <td>NaN</td>\n",
       "      <td>NaN</td>\n",
       "    </tr>\n",
       "    <tr>\n",
       "      <th>4</th>\n",
       "      <td>97017737</td>\n",
       "      <td>10040024</td>\n",
       "      <td>2</td>\n",
       "      <td>1</td>\n",
       "      <td>2</td>\n",
       "      <td>0.00</td>\n",
       "      <td>1</td>\n",
       "      <td>0.0</td>\n",
       "      <td>0.0</td>\n",
       "      <td>0.0</td>\n",
       "      <td>0.0</td>\n",
       "      <td>0.0</td>\n",
       "      <td>0.0</td>\n",
       "      <td>0.0</td>\n",
       "      <td>1.0</td>\n",
       "      <td>1.0</td>\n",
       "      <td>2019-11-05 20:16:50</td>\n",
       "      <td>NaN</td>\n",
       "      <td>NaN</td>\n",
       "      <td>2.0</td>\n",
       "      <td>1.0</td>\n",
       "      <td>1.0</td>\n",
       "      <td>0.0</td>\n",
       "      <td>20757.0</td>\n",
       "      <td>226414.0</td>\n",
       "      <td>FABFE3B8-1B2C-45F5-BAA5-B82F62FE6628</td>\n",
       "      <td>2019-11-05 19:53:01</td>\n",
       "      <td>NaN</td>\n",
       "      <td>NaN</td>\n",
       "    </tr>\n",
       "  </tbody>\n",
       "</table>\n",
       "</div>"
      ],
      "text/plain": [
       "    user_id   role_id  r1  r2  r3    r4  max_role_level  is_pay   p1   p2  \\\n",
       "0  96918420  10027198   8   1   1  0.01               1     0.0  0.0  0.0   \n",
       "1  96979655  10032583  13   1   1  0.02               1     0.0  0.0  0.0   \n",
       "2  96988675  10034191   2   1   1  0.00               1     0.0  0.0  0.0   \n",
       "3  97008499  10037673   2   1   1  0.00               1     0.0  0.0  0.0   \n",
       "4  97017737  10040024   2   1   2  0.00               1     0.0  0.0  0.0   \n",
       "\n",
       "    p3   p4   p5   p6  is_create_role  is_create_no     create_role_time  \\\n",
       "0  0.0  0.0  0.0  0.0             1.0           1.0  2019-11-03 16:50:00   \n",
       "1  0.0  0.0  0.0  0.0             1.0           1.0  2019-11-05 00:19:47   \n",
       "2  0.0  0.0  0.0  0.0             1.0           1.0  2019-11-05 10:29:20   \n",
       "3  0.0  0.0  0.0  0.0             1.0           1.0  2019-11-05 16:43:50   \n",
       "4  0.0  0.0  0.0  0.0             1.0           1.0  2019-11-05 20:16:50   \n",
       "\n",
       "   server_sum  is_gunfu  platform  user_type  user_flag  mobile  channel_id  \\\n",
       "0         NaN       NaN       2.0        1.0        1.0     0.0     20143.0   \n",
       "1         NaN       NaN       2.0        1.0        1.0     0.0     20144.0   \n",
       "2         NaN       NaN       2.0        1.0        1.0     0.0     20144.0   \n",
       "3         NaN       NaN       2.0        1.0        1.0     0.0     20144.0   \n",
       "4         NaN       NaN       2.0        1.0        1.0     0.0     20757.0   \n",
       "\n",
       "   source_id                             device_no             reg_date  \\\n",
       "0   226234.0  4A2F95BF-2AD9-4161-B6CE-B25E58133A94  2019-11-03 16:49:57   \n",
       "1   226023.0  862C3D65-0285-44FD-A471-9F05690DA9AE  2019-11-05 00:17:55   \n",
       "2   226317.0  47B8955B-0BFD-45D7-BDD3-5AD8BDDAC5AE  2019-11-05 10:26:21   \n",
       "3   226277.0  B5E3068C-94FE-459C-82F7-116AEC954A05  2019-11-05 16:43:46   \n",
       "4   226414.0  FABFE3B8-1B2C-45F5-BAA5-B82F62FE6628  2019-11-05 19:53:01   \n",
       "\n",
       "   game_pay_num  chmoney_pay_num  \n",
       "0           NaN              NaN  \n",
       "1           NaN              NaN  \n",
       "2           NaN              NaN  \n",
       "3           NaN              NaN  \n",
       "4           NaN              NaN  "
      ]
     },
     "execution_count": 21,
     "metadata": {},
     "output_type": "execute_result"
    }
   ],
   "source": [
    "pd.set_option('display.max_columns', None)\n",
    "data_7d.head()"
   ]
  },
  {
   "cell_type": "code",
   "execution_count": 22,
   "metadata": {},
   "outputs": [],
   "source": [
    "data_7d.drop(['is_pay', 'channel_id', 'source_id', 'device_no', 'reg_date', 'create_role_time', 'is_gunfu'],axis=1, inplace=True)"
   ]
  },
  {
   "cell_type": "code",
   "execution_count": 23,
   "metadata": {},
   "outputs": [
    {
     "data": {
      "text/plain": [
       "user_id                 0\n",
       "role_id                 0\n",
       "r1                      0\n",
       "r2                      0\n",
       "r3                      0\n",
       "r4                      0\n",
       "max_role_level          0\n",
       "p1                      0\n",
       "p2                      0\n",
       "p3                      0\n",
       "p4                      0\n",
       "p5                      0\n",
       "p6                      0\n",
       "is_create_role      27019\n",
       "is_create_no        27019\n",
       "server_sum         543542\n",
       "platform           271622\n",
       "user_type          271622\n",
       "user_flag          271622\n",
       "mobile             271622\n",
       "game_pay_num       770048\n",
       "chmoney_pay_num    770048\n",
       "dtype: int64"
      ]
     },
     "execution_count": 23,
     "metadata": {},
     "output_type": "execute_result"
    }
   ],
   "source": [
    "data_7d.isna().sum()"
   ]
  },
  {
   "cell_type": "code",
   "execution_count": 24,
   "metadata": {},
   "outputs": [],
   "source": [
    "data_7d.dropna(axis=0, how='any', inplace=True)"
   ]
  },
  {
   "cell_type": "code",
   "execution_count": 25,
   "metadata": {},
   "outputs": [
    {
     "data": {
      "text/plain": [
       "(5164372, 22)"
      ]
     },
     "execution_count": 25,
     "metadata": {},
     "output_type": "execute_result"
    }
   ],
   "source": [
    "data_7d.shape"
   ]
  },
  {
   "cell_type": "code",
   "execution_count": 26,
   "metadata": {},
   "outputs": [],
   "source": [
    "day_30_product = pd.read_csv('./FE_data/day_30_product.csv')"
   ]
  },
  {
   "cell_type": "code",
   "execution_count": 27,
   "metadata": {
    "scrolled": true
   },
   "outputs": [
    {
     "data": {
      "text/html": [
       "<div>\n",
       "<style scoped>\n",
       "    .dataframe tbody tr th:only-of-type {\n",
       "        vertical-align: middle;\n",
       "    }\n",
       "\n",
       "    .dataframe tbody tr th {\n",
       "        vertical-align: top;\n",
       "    }\n",
       "\n",
       "    .dataframe thead th {\n",
       "        text-align: right;\n",
       "    }\n",
       "</style>\n",
       "<table border=\"1\" class=\"dataframe\">\n",
       "  <thead>\n",
       "    <tr style=\"text-align: right;\">\n",
       "      <th></th>\n",
       "      <th>role_id</th>\n",
       "      <th>user_id</th>\n",
       "      <th>pay_type</th>\n",
       "      <th>money</th>\n",
       "      <th>give_money</th>\n",
       "      <th>rmb_money</th>\n",
       "      <th>ch_money</th>\n",
       "      <th>coupon_money</th>\n",
       "      <th>coupon_code</th>\n",
       "      <th>coupon_type</th>\n",
       "      <th>pay_count</th>\n",
       "      <th>role_pay_count</th>\n",
       "      <th>role_level</th>\n",
       "      <th>device_no</th>\n",
       "      <th>pay_time</th>\n",
       "      <th>post_time</th>\n",
       "      <th>active_pay_count</th>\n",
       "      <th>dt</th>\n",
       "      <th>is_pay</th>\n",
       "      <th>create_role_time</th>\n",
       "      <th>interval</th>\n",
       "    </tr>\n",
       "  </thead>\n",
       "  <tbody>\n",
       "    <tr>\n",
       "      <th>0</th>\n",
       "      <td>12023872</td>\n",
       "      <td>106335096</td>\n",
       "      <td>0</td>\n",
       "      <td>12.0</td>\n",
       "      <td>0.0</td>\n",
       "      <td>12.0</td>\n",
       "      <td>0.0</td>\n",
       "      <td>0.0</td>\n",
       "      <td>NaN</td>\n",
       "      <td>0</td>\n",
       "      <td>1</td>\n",
       "      <td>1</td>\n",
       "      <td>55</td>\n",
       "      <td>32151CD0-65C1-4B05-91D7-367E8431C214</td>\n",
       "      <td>2020-03-13 16:45:02</td>\n",
       "      <td>2020-03-13 16:45:02</td>\n",
       "      <td>1</td>\n",
       "      <td>2020-03-13</td>\n",
       "      <td>1</td>\n",
       "      <td>2020-03-10 01:27:09</td>\n",
       "      <td>87.298056</td>\n",
       "    </tr>\n",
       "    <tr>\n",
       "      <th>1</th>\n",
       "      <td>12043074</td>\n",
       "      <td>106434579</td>\n",
       "      <td>0</td>\n",
       "      <td>128.0</td>\n",
       "      <td>0.0</td>\n",
       "      <td>128.0</td>\n",
       "      <td>0.0</td>\n",
       "      <td>0.0</td>\n",
       "      <td>NaN</td>\n",
       "      <td>0</td>\n",
       "      <td>1</td>\n",
       "      <td>1</td>\n",
       "      <td>53</td>\n",
       "      <td>BFD0278A-815B-4900-B3EB-AF106FAF66F0</td>\n",
       "      <td>2020-03-13 13:45:01</td>\n",
       "      <td>2020-03-13 13:45:01</td>\n",
       "      <td>1</td>\n",
       "      <td>2020-03-13</td>\n",
       "      <td>1</td>\n",
       "      <td>2020-03-10 22:00:37</td>\n",
       "      <td>63.740000</td>\n",
       "    </tr>\n",
       "    <tr>\n",
       "      <th>2</th>\n",
       "      <td>11467501</td>\n",
       "      <td>103598817</td>\n",
       "      <td>27</td>\n",
       "      <td>68.0</td>\n",
       "      <td>0.0</td>\n",
       "      <td>68.0</td>\n",
       "      <td>0.0</td>\n",
       "      <td>0.0</td>\n",
       "      <td>NaN</td>\n",
       "      <td>0</td>\n",
       "      <td>35</td>\n",
       "      <td>35</td>\n",
       "      <td>0</td>\n",
       "      <td>265CD2C8-A2A5-4ECE-9CFB-CC2AA195F0F1</td>\n",
       "      <td>2020-03-13 00:00:33</td>\n",
       "      <td>2020-03-13 00:00:33</td>\n",
       "      <td>35</td>\n",
       "      <td>2020-03-13</td>\n",
       "      <td>1</td>\n",
       "      <td>2020-02-18 01:44:52</td>\n",
       "      <td>574.261389</td>\n",
       "    </tr>\n",
       "    <tr>\n",
       "      <th>3</th>\n",
       "      <td>12063758</td>\n",
       "      <td>106557590</td>\n",
       "      <td>99</td>\n",
       "      <td>68.0</td>\n",
       "      <td>0.0</td>\n",
       "      <td>68.0</td>\n",
       "      <td>0.0</td>\n",
       "      <td>0.0</td>\n",
       "      <td>NaN</td>\n",
       "      <td>0</td>\n",
       "      <td>2</td>\n",
       "      <td>2</td>\n",
       "      <td>1</td>\n",
       "      <td>18C3BAF2-16E0-48AC-9999-8250815D8362</td>\n",
       "      <td>2020-03-13 00:01:21</td>\n",
       "      <td>2020-03-13 00:01:21</td>\n",
       "      <td>2</td>\n",
       "      <td>2020-03-13</td>\n",
       "      <td>1</td>\n",
       "      <td>2020-03-11 21:52:44</td>\n",
       "      <td>26.143611</td>\n",
       "    </tr>\n",
       "    <tr>\n",
       "      <th>4</th>\n",
       "      <td>11467501</td>\n",
       "      <td>103598817</td>\n",
       "      <td>27</td>\n",
       "      <td>68.0</td>\n",
       "      <td>0.0</td>\n",
       "      <td>68.0</td>\n",
       "      <td>0.0</td>\n",
       "      <td>0.0</td>\n",
       "      <td>NaN</td>\n",
       "      <td>0</td>\n",
       "      <td>36</td>\n",
       "      <td>36</td>\n",
       "      <td>0</td>\n",
       "      <td>265CD2C8-A2A5-4ECE-9CFB-CC2AA195F0F1</td>\n",
       "      <td>2020-03-13 00:01:10</td>\n",
       "      <td>2020-03-13 00:01:10</td>\n",
       "      <td>36</td>\n",
       "      <td>2020-03-13</td>\n",
       "      <td>1</td>\n",
       "      <td>2020-02-18 01:44:52</td>\n",
       "      <td>574.271667</td>\n",
       "    </tr>\n",
       "  </tbody>\n",
       "</table>\n",
       "</div>"
      ],
      "text/plain": [
       "    role_id    user_id  pay_type  money  give_money  rmb_money  ch_money  \\\n",
       "0  12023872  106335096         0   12.0         0.0       12.0       0.0   \n",
       "1  12043074  106434579         0  128.0         0.0      128.0       0.0   \n",
       "2  11467501  103598817        27   68.0         0.0       68.0       0.0   \n",
       "3  12063758  106557590        99   68.0         0.0       68.0       0.0   \n",
       "4  11467501  103598817        27   68.0         0.0       68.0       0.0   \n",
       "\n",
       "   coupon_money coupon_code  coupon_type  pay_count  role_pay_count  \\\n",
       "0           0.0         NaN            0          1               1   \n",
       "1           0.0         NaN            0          1               1   \n",
       "2           0.0         NaN            0         35              35   \n",
       "3           0.0         NaN            0          2               2   \n",
       "4           0.0         NaN            0         36              36   \n",
       "\n",
       "   role_level                             device_no             pay_time  \\\n",
       "0          55  32151CD0-65C1-4B05-91D7-367E8431C214  2020-03-13 16:45:02   \n",
       "1          53  BFD0278A-815B-4900-B3EB-AF106FAF66F0  2020-03-13 13:45:01   \n",
       "2           0  265CD2C8-A2A5-4ECE-9CFB-CC2AA195F0F1  2020-03-13 00:00:33   \n",
       "3           1  18C3BAF2-16E0-48AC-9999-8250815D8362  2020-03-13 00:01:21   \n",
       "4           0  265CD2C8-A2A5-4ECE-9CFB-CC2AA195F0F1  2020-03-13 00:01:10   \n",
       "\n",
       "             post_time  active_pay_count          dt  is_pay  \\\n",
       "0  2020-03-13 16:45:02                 1  2020-03-13       1   \n",
       "1  2020-03-13 13:45:01                 1  2020-03-13       1   \n",
       "2  2020-03-13 00:00:33                35  2020-03-13       1   \n",
       "3  2020-03-13 00:01:21                 2  2020-03-13       1   \n",
       "4  2020-03-13 00:01:10                36  2020-03-13       1   \n",
       "\n",
       "      create_role_time    interval  \n",
       "0  2020-03-10 01:27:09   87.298056  \n",
       "1  2020-03-10 22:00:37   63.740000  \n",
       "2  2020-02-18 01:44:52  574.261389  \n",
       "3  2020-03-11 21:52:44   26.143611  \n",
       "4  2020-02-18 01:44:52  574.271667  "
      ]
     },
     "execution_count": 27,
     "metadata": {},
     "output_type": "execute_result"
    }
   ],
   "source": [
    "day_30_product.head()"
   ]
  },
  {
   "cell_type": "code",
   "execution_count": 28,
   "metadata": {},
   "outputs": [
    {
     "data": {
      "text/plain": [
       "146462"
      ]
     },
     "execution_count": 28,
     "metadata": {},
     "output_type": "execute_result"
    }
   ],
   "source": [
    "day_30_product['role_id'].nunique()"
   ]
  },
  {
   "cell_type": "code",
   "execution_count": 29,
   "metadata": {},
   "outputs": [],
   "source": [
    "# 每个角色注册前30天付费总额 30d_pay_money\n",
    "groups = day_30_product.groupby('role_id')\n",
    "temp = groups['money'].agg([('30d_pay_money', 'sum')]).reset_index()\n",
    "day_30_product = pd.merge(day_30_product, temp, on='role_id', how='left', validate='many_to_one')"
   ]
  },
  {
   "cell_type": "code",
   "execution_count": 30,
   "metadata": {},
   "outputs": [],
   "source": [
    "temp = day_30_product[['role_id', '30d_pay_money']].drop_duplicates()"
   ]
  },
  {
   "cell_type": "code",
   "execution_count": 31,
   "metadata": {},
   "outputs": [],
   "source": [
    "data = pd.merge(data_7d, temp, on='role_id', how='left', validate='one_to_one')"
   ]
  },
  {
   "cell_type": "code",
   "execution_count": 32,
   "metadata": {},
   "outputs": [
    {
     "data": {
      "text/plain": [
       "(5164372, 23)"
      ]
     },
     "execution_count": 32,
     "metadata": {},
     "output_type": "execute_result"
    }
   ],
   "source": [
    "data.shape"
   ]
  },
  {
   "cell_type": "code",
   "execution_count": 33,
   "metadata": {},
   "outputs": [
    {
     "data": {
      "text/html": [
       "<div>\n",
       "<style scoped>\n",
       "    .dataframe tbody tr th:only-of-type {\n",
       "        vertical-align: middle;\n",
       "    }\n",
       "\n",
       "    .dataframe tbody tr th {\n",
       "        vertical-align: top;\n",
       "    }\n",
       "\n",
       "    .dataframe thead th {\n",
       "        text-align: right;\n",
       "    }\n",
       "</style>\n",
       "<table border=\"1\" class=\"dataframe\">\n",
       "  <thead>\n",
       "    <tr style=\"text-align: right;\">\n",
       "      <th></th>\n",
       "      <th>user_id</th>\n",
       "      <th>role_id</th>\n",
       "      <th>r1</th>\n",
       "      <th>r2</th>\n",
       "      <th>r3</th>\n",
       "      <th>r4</th>\n",
       "      <th>max_role_level</th>\n",
       "      <th>p1</th>\n",
       "      <th>p2</th>\n",
       "      <th>p3</th>\n",
       "      <th>p4</th>\n",
       "      <th>p5</th>\n",
       "      <th>p6</th>\n",
       "      <th>is_create_role</th>\n",
       "      <th>is_create_no</th>\n",
       "      <th>server_sum</th>\n",
       "      <th>platform</th>\n",
       "      <th>user_type</th>\n",
       "      <th>user_flag</th>\n",
       "      <th>mobile</th>\n",
       "      <th>game_pay_num</th>\n",
       "      <th>chmoney_pay_num</th>\n",
       "      <th>30d_pay_money</th>\n",
       "    </tr>\n",
       "  </thead>\n",
       "  <tbody>\n",
       "    <tr>\n",
       "      <th>0</th>\n",
       "      <td>102624267</td>\n",
       "      <td>11263507</td>\n",
       "      <td>1</td>\n",
       "      <td>1</td>\n",
       "      <td>1</td>\n",
       "      <td>0.00</td>\n",
       "      <td>0</td>\n",
       "      <td>0.0</td>\n",
       "      <td>0.0</td>\n",
       "      <td>0.0</td>\n",
       "      <td>0.0</td>\n",
       "      <td>0.0</td>\n",
       "      <td>0.0</td>\n",
       "      <td>1.0</td>\n",
       "      <td>1.0</td>\n",
       "      <td>1.0</td>\n",
       "      <td>2.0</td>\n",
       "      <td>1.0</td>\n",
       "      <td>1.0</td>\n",
       "      <td>0.0</td>\n",
       "      <td>0.0</td>\n",
       "      <td>0.0</td>\n",
       "      <td>NaN</td>\n",
       "    </tr>\n",
       "    <tr>\n",
       "      <th>1</th>\n",
       "      <td>102630946</td>\n",
       "      <td>11265111</td>\n",
       "      <td>3</td>\n",
       "      <td>1</td>\n",
       "      <td>1</td>\n",
       "      <td>0.02</td>\n",
       "      <td>1</td>\n",
       "      <td>0.0</td>\n",
       "      <td>0.0</td>\n",
       "      <td>0.0</td>\n",
       "      <td>0.0</td>\n",
       "      <td>0.0</td>\n",
       "      <td>0.0</td>\n",
       "      <td>1.0</td>\n",
       "      <td>1.0</td>\n",
       "      <td>1.0</td>\n",
       "      <td>2.0</td>\n",
       "      <td>1.0</td>\n",
       "      <td>1.0</td>\n",
       "      <td>0.0</td>\n",
       "      <td>0.0</td>\n",
       "      <td>0.0</td>\n",
       "      <td>NaN</td>\n",
       "    </tr>\n",
       "    <tr>\n",
       "      <th>2</th>\n",
       "      <td>102632190</td>\n",
       "      <td>11265397</td>\n",
       "      <td>4</td>\n",
       "      <td>1</td>\n",
       "      <td>1</td>\n",
       "      <td>0.01</td>\n",
       "      <td>1</td>\n",
       "      <td>0.0</td>\n",
       "      <td>0.0</td>\n",
       "      <td>0.0</td>\n",
       "      <td>0.0</td>\n",
       "      <td>0.0</td>\n",
       "      <td>0.0</td>\n",
       "      <td>1.0</td>\n",
       "      <td>1.0</td>\n",
       "      <td>1.0</td>\n",
       "      <td>2.0</td>\n",
       "      <td>1.0</td>\n",
       "      <td>1.0</td>\n",
       "      <td>0.0</td>\n",
       "      <td>0.0</td>\n",
       "      <td>0.0</td>\n",
       "      <td>NaN</td>\n",
       "    </tr>\n",
       "    <tr>\n",
       "      <th>3</th>\n",
       "      <td>102645564</td>\n",
       "      <td>11269078</td>\n",
       "      <td>4</td>\n",
       "      <td>1</td>\n",
       "      <td>1</td>\n",
       "      <td>0.01</td>\n",
       "      <td>1</td>\n",
       "      <td>0.0</td>\n",
       "      <td>0.0</td>\n",
       "      <td>0.0</td>\n",
       "      <td>0.0</td>\n",
       "      <td>0.0</td>\n",
       "      <td>0.0</td>\n",
       "      <td>1.0</td>\n",
       "      <td>1.0</td>\n",
       "      <td>1.0</td>\n",
       "      <td>2.0</td>\n",
       "      <td>1.0</td>\n",
       "      <td>1.0</td>\n",
       "      <td>0.0</td>\n",
       "      <td>0.0</td>\n",
       "      <td>0.0</td>\n",
       "      <td>NaN</td>\n",
       "    </tr>\n",
       "    <tr>\n",
       "      <th>4</th>\n",
       "      <td>102652393</td>\n",
       "      <td>11271222</td>\n",
       "      <td>12</td>\n",
       "      <td>1</td>\n",
       "      <td>1</td>\n",
       "      <td>0.02</td>\n",
       "      <td>1</td>\n",
       "      <td>0.0</td>\n",
       "      <td>0.0</td>\n",
       "      <td>0.0</td>\n",
       "      <td>0.0</td>\n",
       "      <td>0.0</td>\n",
       "      <td>0.0</td>\n",
       "      <td>1.0</td>\n",
       "      <td>1.0</td>\n",
       "      <td>1.0</td>\n",
       "      <td>2.0</td>\n",
       "      <td>1.0</td>\n",
       "      <td>1.0</td>\n",
       "      <td>0.0</td>\n",
       "      <td>0.0</td>\n",
       "      <td>0.0</td>\n",
       "      <td>NaN</td>\n",
       "    </tr>\n",
       "  </tbody>\n",
       "</table>\n",
       "</div>"
      ],
      "text/plain": [
       "     user_id   role_id  r1  r2  r3    r4  max_role_level   p1   p2   p3   p4  \\\n",
       "0  102624267  11263507   1   1   1  0.00               0  0.0  0.0  0.0  0.0   \n",
       "1  102630946  11265111   3   1   1  0.02               1  0.0  0.0  0.0  0.0   \n",
       "2  102632190  11265397   4   1   1  0.01               1  0.0  0.0  0.0  0.0   \n",
       "3  102645564  11269078   4   1   1  0.01               1  0.0  0.0  0.0  0.0   \n",
       "4  102652393  11271222  12   1   1  0.02               1  0.0  0.0  0.0  0.0   \n",
       "\n",
       "    p5   p6  is_create_role  is_create_no  server_sum  platform  user_type  \\\n",
       "0  0.0  0.0             1.0           1.0         1.0       2.0        1.0   \n",
       "1  0.0  0.0             1.0           1.0         1.0       2.0        1.0   \n",
       "2  0.0  0.0             1.0           1.0         1.0       2.0        1.0   \n",
       "3  0.0  0.0             1.0           1.0         1.0       2.0        1.0   \n",
       "4  0.0  0.0             1.0           1.0         1.0       2.0        1.0   \n",
       "\n",
       "   user_flag  mobile  game_pay_num  chmoney_pay_num  30d_pay_money  \n",
       "0        1.0     0.0           0.0              0.0            NaN  \n",
       "1        1.0     0.0           0.0              0.0            NaN  \n",
       "2        1.0     0.0           0.0              0.0            NaN  \n",
       "3        1.0     0.0           0.0              0.0            NaN  \n",
       "4        1.0     0.0           0.0              0.0            NaN  "
      ]
     },
     "execution_count": 33,
     "metadata": {},
     "output_type": "execute_result"
    }
   ],
   "source": [
    "data.head()"
   ]
  },
  {
   "cell_type": "code",
   "execution_count": 34,
   "metadata": {},
   "outputs": [],
   "source": [
    "data.drop(['user_id'], axis=1, inplace=True)\n",
    "data.fillna(0, inplace=True)"
   ]
  },
  {
   "cell_type": "code",
   "execution_count": 35,
   "metadata": {},
   "outputs": [],
   "source": [
    "data.to_csv('./FE_data/data.csv', index=None)"
   ]
  },
  {
   "cell_type": "code",
   "execution_count": 36,
   "metadata": {},
   "outputs": [
    {
     "data": {
      "text/plain": [
       "46519"
      ]
     },
     "execution_count": 36,
     "metadata": {},
     "output_type": "execute_result"
    }
   ],
   "source": [
    "del data,data_7d, day_30_product\n",
    "gc.collect()"
   ]
  },
  {
   "cell_type": "code",
   "execution_count": null,
   "metadata": {},
   "outputs": [],
   "source": []
  }
 ],
 "metadata": {
  "kernelspec": {
   "display_name": "Python 3",
   "language": "python",
   "name": "python3"
  },
  "language_info": {
   "codemirror_mode": {
    "name": "ipython",
    "version": 3
   },
   "file_extension": ".py",
   "mimetype": "text/x-python",
   "name": "python",
   "nbconvert_exporter": "python",
   "pygments_lexer": "ipython3",
   "version": "3.7.6"
  }
 },
 "nbformat": 4,
 "nbformat_minor": 4
}
