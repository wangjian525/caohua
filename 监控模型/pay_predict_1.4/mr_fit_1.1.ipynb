{
 "cells": [
  {
   "cell_type": "code",
   "execution_count": 28,
   "metadata": {},
   "outputs": [],
   "source": [
    "import pandas as pd\n",
    "import numpy as np\n",
    "import random\n",
    "import gc\n",
    "import seaborn as sns\n",
    "import lightgbm as lgb\n",
    "import matplotlib.pyplot as plt\n",
    "from sklearn.model_selection import KFold, train_test_split\n",
    "from sklearn.preprocessing import LabelEncoder, OneHotEncoder,MinMaxScaler, StandardScaler\n",
    "from sklearn.metrics import recall_score, auc, accuracy_score, f1_score, precision_score, classification_report, roc_auc_score,mean_squared_error\n",
    "from pandas.api.types import is_categorical_dtype\n",
    "from pandas.api.types import is_datetime64_any_dtype as is_datetime\n",
    "import missingno as msno\n",
    "from sklearn.linear_model import LinearRegression\n",
    "from sklearn.metrics import mean_absolute_error"
   ]
  },
  {
   "cell_type": "code",
   "execution_count": 3,
   "metadata": {
    "scrolled": true
   },
   "outputs": [],
   "source": [
    "data = pd.read_csv('./FE_data/data.csv')"
   ]
  },
  {
   "cell_type": "code",
   "execution_count": 4,
   "metadata": {},
   "outputs": [
    {
     "data": {
      "text/plain": [
       "(1815515, 22)"
      ]
     },
     "execution_count": 4,
     "metadata": {},
     "output_type": "execute_result"
    }
   ],
   "source": [
    "data.shape"
   ]
  },
  {
   "cell_type": "code",
   "execution_count": 5,
   "metadata": {},
   "outputs": [
    {
     "data": {
      "text/html": [
       "<div>\n",
       "<style scoped>\n",
       "    .dataframe tbody tr th:only-of-type {\n",
       "        vertical-align: middle;\n",
       "    }\n",
       "\n",
       "    .dataframe tbody tr th {\n",
       "        vertical-align: top;\n",
       "    }\n",
       "\n",
       "    .dataframe thead th {\n",
       "        text-align: right;\n",
       "    }\n",
       "</style>\n",
       "<table border=\"1\" class=\"dataframe\">\n",
       "  <thead>\n",
       "    <tr style=\"text-align: right;\">\n",
       "      <th></th>\n",
       "      <th>role_id</th>\n",
       "      <th>r1</th>\n",
       "      <th>r2</th>\n",
       "      <th>r3</th>\n",
       "      <th>r4</th>\n",
       "      <th>max_role_level</th>\n",
       "      <th>p1</th>\n",
       "      <th>p2</th>\n",
       "      <th>p3</th>\n",
       "      <th>p4</th>\n",
       "      <th>p5</th>\n",
       "      <th>p6</th>\n",
       "      <th>platform</th>\n",
       "      <th>user_type</th>\n",
       "      <th>user_flag</th>\n",
       "      <th>mobile</th>\n",
       "      <th>game_pay_num</th>\n",
       "      <th>chmoney_pay_num</th>\n",
       "      <th>is_create_role</th>\n",
       "      <th>is_create_no</th>\n",
       "      <th>server_sum</th>\n",
       "      <th>30d_pay_money</th>\n",
       "    </tr>\n",
       "  </thead>\n",
       "  <tbody>\n",
       "    <tr>\n",
       "      <th>0</th>\n",
       "      <td>11265111</td>\n",
       "      <td>3</td>\n",
       "      <td>1</td>\n",
       "      <td>1</td>\n",
       "      <td>0.02</td>\n",
       "      <td>1</td>\n",
       "      <td>0.0</td>\n",
       "      <td>0.0</td>\n",
       "      <td>0.0</td>\n",
       "      <td>0.0</td>\n",
       "      <td>0.0</td>\n",
       "      <td>0.0</td>\n",
       "      <td>2.0</td>\n",
       "      <td>1.0</td>\n",
       "      <td>1.0</td>\n",
       "      <td>0.0</td>\n",
       "      <td>0.0</td>\n",
       "      <td>0.0</td>\n",
       "      <td>1.0</td>\n",
       "      <td>1.0</td>\n",
       "      <td>1.0</td>\n",
       "      <td>0.0</td>\n",
       "    </tr>\n",
       "    <tr>\n",
       "      <th>1</th>\n",
       "      <td>11265397</td>\n",
       "      <td>4</td>\n",
       "      <td>1</td>\n",
       "      <td>1</td>\n",
       "      <td>0.01</td>\n",
       "      <td>1</td>\n",
       "      <td>0.0</td>\n",
       "      <td>0.0</td>\n",
       "      <td>0.0</td>\n",
       "      <td>0.0</td>\n",
       "      <td>0.0</td>\n",
       "      <td>0.0</td>\n",
       "      <td>2.0</td>\n",
       "      <td>1.0</td>\n",
       "      <td>1.0</td>\n",
       "      <td>0.0</td>\n",
       "      <td>0.0</td>\n",
       "      <td>0.0</td>\n",
       "      <td>1.0</td>\n",
       "      <td>1.0</td>\n",
       "      <td>1.0</td>\n",
       "      <td>0.0</td>\n",
       "    </tr>\n",
       "    <tr>\n",
       "      <th>2</th>\n",
       "      <td>11269078</td>\n",
       "      <td>4</td>\n",
       "      <td>1</td>\n",
       "      <td>1</td>\n",
       "      <td>0.01</td>\n",
       "      <td>1</td>\n",
       "      <td>0.0</td>\n",
       "      <td>0.0</td>\n",
       "      <td>0.0</td>\n",
       "      <td>0.0</td>\n",
       "      <td>0.0</td>\n",
       "      <td>0.0</td>\n",
       "      <td>2.0</td>\n",
       "      <td>1.0</td>\n",
       "      <td>1.0</td>\n",
       "      <td>0.0</td>\n",
       "      <td>0.0</td>\n",
       "      <td>0.0</td>\n",
       "      <td>1.0</td>\n",
       "      <td>1.0</td>\n",
       "      <td>1.0</td>\n",
       "      <td>0.0</td>\n",
       "    </tr>\n",
       "    <tr>\n",
       "      <th>3</th>\n",
       "      <td>11271222</td>\n",
       "      <td>12</td>\n",
       "      <td>1</td>\n",
       "      <td>1</td>\n",
       "      <td>0.02</td>\n",
       "      <td>1</td>\n",
       "      <td>0.0</td>\n",
       "      <td>0.0</td>\n",
       "      <td>0.0</td>\n",
       "      <td>0.0</td>\n",
       "      <td>0.0</td>\n",
       "      <td>0.0</td>\n",
       "      <td>2.0</td>\n",
       "      <td>1.0</td>\n",
       "      <td>1.0</td>\n",
       "      <td>0.0</td>\n",
       "      <td>0.0</td>\n",
       "      <td>0.0</td>\n",
       "      <td>1.0</td>\n",
       "      <td>1.0</td>\n",
       "      <td>1.0</td>\n",
       "      <td>0.0</td>\n",
       "    </tr>\n",
       "    <tr>\n",
       "      <th>4</th>\n",
       "      <td>11280270</td>\n",
       "      <td>20</td>\n",
       "      <td>1</td>\n",
       "      <td>4</td>\n",
       "      <td>3.37</td>\n",
       "      <td>1</td>\n",
       "      <td>0.0</td>\n",
       "      <td>0.0</td>\n",
       "      <td>0.0</td>\n",
       "      <td>0.0</td>\n",
       "      <td>0.0</td>\n",
       "      <td>0.0</td>\n",
       "      <td>2.0</td>\n",
       "      <td>1.0</td>\n",
       "      <td>1.0</td>\n",
       "      <td>0.0</td>\n",
       "      <td>0.0</td>\n",
       "      <td>0.0</td>\n",
       "      <td>1.0</td>\n",
       "      <td>1.0</td>\n",
       "      <td>1.0</td>\n",
       "      <td>0.0</td>\n",
       "    </tr>\n",
       "  </tbody>\n",
       "</table>\n",
       "</div>"
      ],
      "text/plain": [
       "    role_id  r1  r2  r3    r4  max_role_level   p1   p2   p3   p4   p5   p6  \\\n",
       "0  11265111   3   1   1  0.02               1  0.0  0.0  0.0  0.0  0.0  0.0   \n",
       "1  11265397   4   1   1  0.01               1  0.0  0.0  0.0  0.0  0.0  0.0   \n",
       "2  11269078   4   1   1  0.01               1  0.0  0.0  0.0  0.0  0.0  0.0   \n",
       "3  11271222  12   1   1  0.02               1  0.0  0.0  0.0  0.0  0.0  0.0   \n",
       "4  11280270  20   1   4  3.37               1  0.0  0.0  0.0  0.0  0.0  0.0   \n",
       "\n",
       "   platform  user_type  user_flag  mobile  game_pay_num  chmoney_pay_num  \\\n",
       "0       2.0        1.0        1.0     0.0           0.0              0.0   \n",
       "1       2.0        1.0        1.0     0.0           0.0              0.0   \n",
       "2       2.0        1.0        1.0     0.0           0.0              0.0   \n",
       "3       2.0        1.0        1.0     0.0           0.0              0.0   \n",
       "4       2.0        1.0        1.0     0.0           0.0              0.0   \n",
       "\n",
       "   is_create_role  is_create_no  server_sum  30d_pay_money  \n",
       "0             1.0           1.0         1.0            0.0  \n",
       "1             1.0           1.0         1.0            0.0  \n",
       "2             1.0           1.0         1.0            0.0  \n",
       "3             1.0           1.0         1.0            0.0  \n",
       "4             1.0           1.0         1.0            0.0  "
      ]
     },
     "execution_count": 5,
     "metadata": {},
     "output_type": "execute_result"
    }
   ],
   "source": [
    "pd.set_option('display.max_columns', None)\n",
    "data.head()"
   ]
  },
  {
   "cell_type": "code",
   "execution_count": 6,
   "metadata": {
    "scrolled": true
   },
   "outputs": [
    {
     "data": {
      "text/html": [
       "<div>\n",
       "<style scoped>\n",
       "    .dataframe tbody tr th:only-of-type {\n",
       "        vertical-align: middle;\n",
       "    }\n",
       "\n",
       "    .dataframe tbody tr th {\n",
       "        vertical-align: top;\n",
       "    }\n",
       "\n",
       "    .dataframe thead th {\n",
       "        text-align: right;\n",
       "    }\n",
       "</style>\n",
       "<table border=\"1\" class=\"dataframe\">\n",
       "  <thead>\n",
       "    <tr style=\"text-align: right;\">\n",
       "      <th></th>\n",
       "      <th>role_id</th>\n",
       "      <th>r1</th>\n",
       "      <th>r2</th>\n",
       "      <th>r3</th>\n",
       "      <th>r4</th>\n",
       "      <th>max_role_level</th>\n",
       "      <th>p1</th>\n",
       "      <th>p2</th>\n",
       "      <th>p3</th>\n",
       "      <th>p4</th>\n",
       "      <th>p5</th>\n",
       "      <th>p6</th>\n",
       "      <th>platform</th>\n",
       "      <th>user_type</th>\n",
       "      <th>user_flag</th>\n",
       "      <th>mobile</th>\n",
       "      <th>game_pay_num</th>\n",
       "      <th>chmoney_pay_num</th>\n",
       "      <th>is_create_role</th>\n",
       "      <th>is_create_no</th>\n",
       "      <th>server_sum</th>\n",
       "      <th>30d_pay_money</th>\n",
       "    </tr>\n",
       "  </thead>\n",
       "  <tbody>\n",
       "    <tr>\n",
       "      <th>count</th>\n",
       "      <td>1.815515e+06</td>\n",
       "      <td>1.815515e+06</td>\n",
       "      <td>1.815515e+06</td>\n",
       "      <td>1.815515e+06</td>\n",
       "      <td>1.815515e+06</td>\n",
       "      <td>1.815515e+06</td>\n",
       "      <td>1.815515e+06</td>\n",
       "      <td>1.815515e+06</td>\n",
       "      <td>1.815515e+06</td>\n",
       "      <td>1.815515e+06</td>\n",
       "      <td>1.815515e+06</td>\n",
       "      <td>1.815515e+06</td>\n",
       "      <td>1.815515e+06</td>\n",
       "      <td>1.815515e+06</td>\n",
       "      <td>1.815515e+06</td>\n",
       "      <td>1.815515e+06</td>\n",
       "      <td>1.815515e+06</td>\n",
       "      <td>1.815515e+06</td>\n",
       "      <td>1.815515e+06</td>\n",
       "      <td>1.815515e+06</td>\n",
       "      <td>1.815515e+06</td>\n",
       "      <td>1.815515e+06</td>\n",
       "    </tr>\n",
       "    <tr>\n",
       "      <th>mean</th>\n",
       "      <td>7.936047e+07</td>\n",
       "      <td>1.283722e+01</td>\n",
       "      <td>1.006964e+00</td>\n",
       "      <td>2.607677e+00</td>\n",
       "      <td>4.346908e+00</td>\n",
       "      <td>1.359905e+01</td>\n",
       "      <td>2.948645e-01</td>\n",
       "      <td>2.298178e+01</td>\n",
       "      <td>1.927828e-05</td>\n",
       "      <td>3.800574e-04</td>\n",
       "      <td>2.944867e-01</td>\n",
       "      <td>2.280988e+01</td>\n",
       "      <td>1.491890e+00</td>\n",
       "      <td>3.105498e+00</td>\n",
       "      <td>1.003528e+00</td>\n",
       "      <td>1.104513e-01</td>\n",
       "      <td>1.329915e-01</td>\n",
       "      <td>4.296302e-04</td>\n",
       "      <td>9.095265e-01</td>\n",
       "      <td>8.423643e-01</td>\n",
       "      <td>1.917933e+00</td>\n",
       "      <td>5.265065e+01</td>\n",
       "    </tr>\n",
       "    <tr>\n",
       "      <th>std</th>\n",
       "      <td>6.604675e+07</td>\n",
       "      <td>2.221300e+01</td>\n",
       "      <td>9.299578e-02</td>\n",
       "      <td>3.628653e+00</td>\n",
       "      <td>9.528667e+00</td>\n",
       "      <td>2.263735e+01</td>\n",
       "      <td>2.088880e+00</td>\n",
       "      <td>3.623503e+02</td>\n",
       "      <td>4.752133e-03</td>\n",
       "      <td>9.907198e-02</td>\n",
       "      <td>2.087605e+00</td>\n",
       "      <td>3.592132e+02</td>\n",
       "      <td>4.999344e-01</td>\n",
       "      <td>7.356371e+00</td>\n",
       "      <td>5.929149e-02</td>\n",
       "      <td>3.134515e-01</td>\n",
       "      <td>1.090634e+00</td>\n",
       "      <td>2.722505e-02</td>\n",
       "      <td>2.868590e-01</td>\n",
       "      <td>3.643992e-01</td>\n",
       "      <td>6.825591e+00</td>\n",
       "      <td>9.712338e+02</td>\n",
       "    </tr>\n",
       "    <tr>\n",
       "      <th>min</th>\n",
       "      <td>1.124468e+07</td>\n",
       "      <td>1.000000e+00</td>\n",
       "      <td>1.000000e+00</td>\n",
       "      <td>1.000000e+00</td>\n",
       "      <td>0.000000e+00</td>\n",
       "      <td>0.000000e+00</td>\n",
       "      <td>0.000000e+00</td>\n",
       "      <td>0.000000e+00</td>\n",
       "      <td>0.000000e+00</td>\n",
       "      <td>0.000000e+00</td>\n",
       "      <td>0.000000e+00</td>\n",
       "      <td>0.000000e+00</td>\n",
       "      <td>1.000000e+00</td>\n",
       "      <td>1.000000e+00</td>\n",
       "      <td>1.000000e+00</td>\n",
       "      <td>0.000000e+00</td>\n",
       "      <td>0.000000e+00</td>\n",
       "      <td>0.000000e+00</td>\n",
       "      <td>0.000000e+00</td>\n",
       "      <td>0.000000e+00</td>\n",
       "      <td>1.000000e+00</td>\n",
       "      <td>0.000000e+00</td>\n",
       "    </tr>\n",
       "    <tr>\n",
       "      <th>25%</th>\n",
       "      <td>1.223828e+07</td>\n",
       "      <td>2.000000e+00</td>\n",
       "      <td>1.000000e+00</td>\n",
       "      <td>1.000000e+00</td>\n",
       "      <td>1.000000e-02</td>\n",
       "      <td>1.000000e+00</td>\n",
       "      <td>0.000000e+00</td>\n",
       "      <td>0.000000e+00</td>\n",
       "      <td>0.000000e+00</td>\n",
       "      <td>0.000000e+00</td>\n",
       "      <td>0.000000e+00</td>\n",
       "      <td>0.000000e+00</td>\n",
       "      <td>1.000000e+00</td>\n",
       "      <td>1.000000e+00</td>\n",
       "      <td>1.000000e+00</td>\n",
       "      <td>0.000000e+00</td>\n",
       "      <td>0.000000e+00</td>\n",
       "      <td>0.000000e+00</td>\n",
       "      <td>1.000000e+00</td>\n",
       "      <td>1.000000e+00</td>\n",
       "      <td>1.000000e+00</td>\n",
       "      <td>0.000000e+00</td>\n",
       "    </tr>\n",
       "    <tr>\n",
       "      <th>50%</th>\n",
       "      <td>1.330657e+08</td>\n",
       "      <td>4.000000e+00</td>\n",
       "      <td>1.000000e+00</td>\n",
       "      <td>1.000000e+00</td>\n",
       "      <td>3.000000e-01</td>\n",
       "      <td>1.000000e+00</td>\n",
       "      <td>0.000000e+00</td>\n",
       "      <td>0.000000e+00</td>\n",
       "      <td>0.000000e+00</td>\n",
       "      <td>0.000000e+00</td>\n",
       "      <td>0.000000e+00</td>\n",
       "      <td>0.000000e+00</td>\n",
       "      <td>1.000000e+00</td>\n",
       "      <td>1.000000e+00</td>\n",
       "      <td>1.000000e+00</td>\n",
       "      <td>0.000000e+00</td>\n",
       "      <td>0.000000e+00</td>\n",
       "      <td>0.000000e+00</td>\n",
       "      <td>1.000000e+00</td>\n",
       "      <td>1.000000e+00</td>\n",
       "      <td>1.000000e+00</td>\n",
       "      <td>0.000000e+00</td>\n",
       "    </tr>\n",
       "    <tr>\n",
       "      <th>75%</th>\n",
       "      <td>1.449490e+08</td>\n",
       "      <td>1.200000e+01</td>\n",
       "      <td>1.000000e+00</td>\n",
       "      <td>2.000000e+00</td>\n",
       "      <td>4.430000e+00</td>\n",
       "      <td>1.800000e+01</td>\n",
       "      <td>0.000000e+00</td>\n",
       "      <td>0.000000e+00</td>\n",
       "      <td>0.000000e+00</td>\n",
       "      <td>0.000000e+00</td>\n",
       "      <td>0.000000e+00</td>\n",
       "      <td>0.000000e+00</td>\n",
       "      <td>2.000000e+00</td>\n",
       "      <td>1.000000e+00</td>\n",
       "      <td>1.000000e+00</td>\n",
       "      <td>0.000000e+00</td>\n",
       "      <td>0.000000e+00</td>\n",
       "      <td>0.000000e+00</td>\n",
       "      <td>1.000000e+00</td>\n",
       "      <td>1.000000e+00</td>\n",
       "      <td>1.000000e+00</td>\n",
       "      <td>0.000000e+00</td>\n",
       "    </tr>\n",
       "    <tr>\n",
       "      <th>max</th>\n",
       "      <td>1.526060e+08</td>\n",
       "      <td>4.860000e+02</td>\n",
       "      <td>4.000000e+00</td>\n",
       "      <td>1.180000e+02</td>\n",
       "      <td>8.448000e+01</td>\n",
       "      <td>2.850000e+02</td>\n",
       "      <td>1.400000e+02</td>\n",
       "      <td>5.432400e+04</td>\n",
       "      <td>2.000000e+00</td>\n",
       "      <td>3.000000e+01</td>\n",
       "      <td>1.400000e+02</td>\n",
       "      <td>5.432400e+04</td>\n",
       "      <td>2.000000e+00</td>\n",
       "      <td>4.400000e+01</td>\n",
       "      <td>2.000000e+00</td>\n",
       "      <td>1.000000e+00</td>\n",
       "      <td>1.820000e+02</td>\n",
       "      <td>8.000000e+00</td>\n",
       "      <td>1.000000e+00</td>\n",
       "      <td>1.000000e+00</td>\n",
       "      <td>6.150000e+02</td>\n",
       "      <td>1.567880e+05</td>\n",
       "    </tr>\n",
       "  </tbody>\n",
       "</table>\n",
       "</div>"
      ],
      "text/plain": [
       "            role_id            r1            r2            r3            r4  \\\n",
       "count  1.815515e+06  1.815515e+06  1.815515e+06  1.815515e+06  1.815515e+06   \n",
       "mean   7.936047e+07  1.283722e+01  1.006964e+00  2.607677e+00  4.346908e+00   \n",
       "std    6.604675e+07  2.221300e+01  9.299578e-02  3.628653e+00  9.528667e+00   \n",
       "min    1.124468e+07  1.000000e+00  1.000000e+00  1.000000e+00  0.000000e+00   \n",
       "25%    1.223828e+07  2.000000e+00  1.000000e+00  1.000000e+00  1.000000e-02   \n",
       "50%    1.330657e+08  4.000000e+00  1.000000e+00  1.000000e+00  3.000000e-01   \n",
       "75%    1.449490e+08  1.200000e+01  1.000000e+00  2.000000e+00  4.430000e+00   \n",
       "max    1.526060e+08  4.860000e+02  4.000000e+00  1.180000e+02  8.448000e+01   \n",
       "\n",
       "       max_role_level            p1            p2            p3            p4  \\\n",
       "count    1.815515e+06  1.815515e+06  1.815515e+06  1.815515e+06  1.815515e+06   \n",
       "mean     1.359905e+01  2.948645e-01  2.298178e+01  1.927828e-05  3.800574e-04   \n",
       "std      2.263735e+01  2.088880e+00  3.623503e+02  4.752133e-03  9.907198e-02   \n",
       "min      0.000000e+00  0.000000e+00  0.000000e+00  0.000000e+00  0.000000e+00   \n",
       "25%      1.000000e+00  0.000000e+00  0.000000e+00  0.000000e+00  0.000000e+00   \n",
       "50%      1.000000e+00  0.000000e+00  0.000000e+00  0.000000e+00  0.000000e+00   \n",
       "75%      1.800000e+01  0.000000e+00  0.000000e+00  0.000000e+00  0.000000e+00   \n",
       "max      2.850000e+02  1.400000e+02  5.432400e+04  2.000000e+00  3.000000e+01   \n",
       "\n",
       "                 p5            p6      platform     user_type     user_flag  \\\n",
       "count  1.815515e+06  1.815515e+06  1.815515e+06  1.815515e+06  1.815515e+06   \n",
       "mean   2.944867e-01  2.280988e+01  1.491890e+00  3.105498e+00  1.003528e+00   \n",
       "std    2.087605e+00  3.592132e+02  4.999344e-01  7.356371e+00  5.929149e-02   \n",
       "min    0.000000e+00  0.000000e+00  1.000000e+00  1.000000e+00  1.000000e+00   \n",
       "25%    0.000000e+00  0.000000e+00  1.000000e+00  1.000000e+00  1.000000e+00   \n",
       "50%    0.000000e+00  0.000000e+00  1.000000e+00  1.000000e+00  1.000000e+00   \n",
       "75%    0.000000e+00  0.000000e+00  2.000000e+00  1.000000e+00  1.000000e+00   \n",
       "max    1.400000e+02  5.432400e+04  2.000000e+00  4.400000e+01  2.000000e+00   \n",
       "\n",
       "             mobile  game_pay_num  chmoney_pay_num  is_create_role  \\\n",
       "count  1.815515e+06  1.815515e+06     1.815515e+06    1.815515e+06   \n",
       "mean   1.104513e-01  1.329915e-01     4.296302e-04    9.095265e-01   \n",
       "std    3.134515e-01  1.090634e+00     2.722505e-02    2.868590e-01   \n",
       "min    0.000000e+00  0.000000e+00     0.000000e+00    0.000000e+00   \n",
       "25%    0.000000e+00  0.000000e+00     0.000000e+00    1.000000e+00   \n",
       "50%    0.000000e+00  0.000000e+00     0.000000e+00    1.000000e+00   \n",
       "75%    0.000000e+00  0.000000e+00     0.000000e+00    1.000000e+00   \n",
       "max    1.000000e+00  1.820000e+02     8.000000e+00    1.000000e+00   \n",
       "\n",
       "       is_create_no    server_sum  30d_pay_money  \n",
       "count  1.815515e+06  1.815515e+06   1.815515e+06  \n",
       "mean   8.423643e-01  1.917933e+00   5.265065e+01  \n",
       "std    3.643992e-01  6.825591e+00   9.712338e+02  \n",
       "min    0.000000e+00  1.000000e+00   0.000000e+00  \n",
       "25%    1.000000e+00  1.000000e+00   0.000000e+00  \n",
       "50%    1.000000e+00  1.000000e+00   0.000000e+00  \n",
       "75%    1.000000e+00  1.000000e+00   0.000000e+00  \n",
       "max    1.000000e+00  6.150000e+02   1.567880e+05  "
      ]
     },
     "execution_count": 6,
     "metadata": {},
     "output_type": "execute_result"
    }
   ],
   "source": [
    "data.describe()"
   ]
  },
  {
   "cell_type": "code",
   "execution_count": 7,
   "metadata": {},
   "outputs": [],
   "source": [
    "data_train, data_test = train_test_split(data, test_size=0.2)"
   ]
  },
  {
   "cell_type": "code",
   "execution_count": 8,
   "metadata": {},
   "outputs": [
    {
     "data": {
      "text/plain": [
       "0"
      ]
     },
     "execution_count": 8,
     "metadata": {},
     "output_type": "execute_result"
    }
   ],
   "source": [
    "# 判断train\\test中有重复的role_id\n",
    "a = np.intersect1d(data_train['role_id'], data_test['role_id'])\n",
    "len(a)"
   ]
  },
  {
   "cell_type": "code",
   "execution_count": 9,
   "metadata": {},
   "outputs": [
    {
     "name": "stderr",
     "output_type": "stream",
     "text": [
      "C:\\Users\\Administrator\\anaconda3\\lib\\site-packages\\pandas\\core\\frame.py:3997: SettingWithCopyWarning: \n",
      "A value is trying to be set on a copy of a slice from a DataFrame\n",
      "\n",
      "See the caveats in the documentation: https://pandas.pydata.org/pandas-docs/stable/user_guide/indexing.html#returning-a-view-versus-a-copy\n",
      "  errors=errors,\n"
     ]
    }
   ],
   "source": [
    "data_train.drop(['role_id'], axis=1, inplace=True)\n",
    "data_test.drop(['role_id'], axis=1, inplace=True)"
   ]
  },
  {
   "cell_type": "code",
   "execution_count": 10,
   "metadata": {},
   "outputs": [
    {
     "data": {
      "text/plain": [
       "0.0        1353198\n",
       "12.0         24894\n",
       "30.0          7300\n",
       "42.0          6969\n",
       "48.0          2798\n",
       "            ...   \n",
       "2670.0           1\n",
       "2668.0           1\n",
       "42662.0          1\n",
       "42634.0          1\n",
       "2262.0           1\n",
       "Name: 30d_pay_money, Length: 4752, dtype: int64"
      ]
     },
     "execution_count": 10,
     "metadata": {},
     "output_type": "execute_result"
    }
   ],
   "source": [
    "data_train['30d_pay_money'].value_counts()"
   ]
  },
  {
   "cell_type": "code",
   "execution_count": 11,
   "metadata": {},
   "outputs": [
    {
     "data": {
      "image/png": "[encoded data removed]",
      "text/plain": [
       "<Figure size 432x288 with 4 Axes>"
      ]
     },
     "metadata": {
      "needs_background": "light"
     },
     "output_type": "display_data"
    },
    {
     "data": {
      "text/plain": [
       "<Figure size 1600x800 with 0 Axes>"
      ]
     },
     "metadata": {},
     "output_type": "display_data"
    }
   ],
   "source": [
    "# 查看目标值的分布情况，大部分在4000以下\n",
    "fig, axes = plt.subplots(2, 2)\n",
    "ax1 = axes[0,0]\n",
    "ax2 = axes[0,1]\n",
    "ax3 = axes[1,0]\n",
    "ax4 = axes[1,1]\n",
    "fig = plt.figure(figsize=(20,10),dpi=80)\n",
    "ax1.hist(data_train['30d_pay_money'], color='red', range=(1, 40000))\n",
    "ax2.hist(data_train['30d_pay_money'], color='red', range=(1, 5000))\n",
    "ax3.hist(data_train['30d_pay_money'], color='red', range=(1, 2000))\n",
    "ax4.hist(data_train['30d_pay_money'], color='red', range=(1, 1000))\n",
    "plt.show()"
   ]
  },
  {
   "cell_type": "code",
   "execution_count": 45,
   "metadata": {},
   "outputs": [],
   "source": [
    "label = '30d_pay_money'\n",
    "x = data_train.drop([label], axis=1).values\n",
    "y = data_train[label].values\n",
    "x_train, x_val, y_train, y_val = train_test_split(x, y, test_size=0.2)\n",
    "mmscaler = MinMaxScaler()\n",
    "x_train = mmscaler.fit_transform(x_train)\n",
    "x_val = mmscaler.transform(x_val)"
   ]
  },
  {
   "cell_type": "code",
   "execution_count": 51,
   "metadata": {},
   "outputs": [],
   "source": [
    "y_train_ln = np.log1p(y_train)"
   ]
  },
  {
   "cell_type": "code",
   "execution_count": 54,
   "metadata": {},
   "outputs": [
    {
     "data": {
      "text/plain": [
       "(array([1.082444e+06, 1.600000e+01, 2.590000e+04, 1.722600e+04,\n",
       "        1.949600e+04, 9.992000e+03, 4.096000e+03, 1.935000e+03,\n",
       "        7.130000e+02, 1.110000e+02]),\n",
       " array([ 0.        ,  1.19626562,  2.39253125,  3.58879687,  4.78506249,\n",
       "         5.98132812,  7.17759374,  8.37385936,  9.57012499, 10.76639061,\n",
       "        11.96265623]),\n",
       " <a list of 10 Patch objects>)"
      ]
     },
     "execution_count": 54,
     "metadata": {},
     "output_type": "execute_result"
    },
    {
     "data": {
      "image/png": "[encoded data removed]",
      "text/plain": [
       "<Figure size 432x288 with 1 Axes>"
      ]
     },
     "metadata": {
      "needs_background": "light"
     },
     "output_type": "display_data"
    }
   ],
   "source": [
    "plt.hist(y_train_ln)"
   ]
  },
  {
   "cell_type": "code",
   "execution_count": 35,
   "metadata": {},
   "outputs": [
    {
     "name": "stdout",
     "output_type": "stream",
     "text": [
      "[0. 0. 0. ... 0. 0. 0.]\n"
     ]
    }
   ],
   "source": [
    "print(target_train_ln)"
   ]
  },
  {
   "cell_type": "code",
   "execution_count": 52,
   "metadata": {},
   "outputs": [
    {
     "name": "stdout",
     "output_type": "stream",
     "text": [
      "2933612922.4834466\n",
      "8.606084778961868e+18\n"
     ]
    }
   ],
   "source": [
    "# 简单LR线性回归\n",
    "\n",
    "model = LinearRegression()\n",
    "model.fit(x_train, y_train_ln)\n",
    "y_predict = np.expm1(model.predict(x_val))\n",
    "# y_val = np.expm1(y_val)\n",
    "mse = mean_squared_error(y_predict, y_val)\n",
    "rmse = mse ** 0.5\n",
    "print(rmse)\n",
    "print(mse)"
   ]
  },
  {
   "cell_type": "code",
   "execution_count": 12,
   "metadata": {},
   "outputs": [],
   "source": [
    "label = '30d_pay_money'\n",
    "x = data_train.drop([label], axis=1).values\n",
    "y = data_train[label].values\n",
    "x_train, x_val, y_train, y_val = train_test_split(x, y, test_size=0.2)"
   ]
  },
  {
   "cell_type": "code",
   "execution_count": 18,
   "metadata": {
    "scrolled": true
   },
   "outputs": [
    {
     "name": "stdout",
     "output_type": "stream",
     "text": [
      "615.3900651812239\n",
      "378704.93232375104\n"
     ]
    }
   ],
   "source": [
    "from sklearn.ensemble import GradientBoostingRegressor\n",
    "gbdt=GradientBoostingRegressor(\n",
    "  loss='ls'\n",
    ", learning_rate=0.1\n",
    ", n_estimators=100\n",
    ", subsample=1\n",
    ", min_samples_split=2\n",
    ", min_samples_leaf=1\n",
    ", max_depth=3\n",
    ", init=None\n",
    ", random_state=None\n",
    ", max_features=None\n",
    ", alpha=0.9\n",
    ", verbose=0\n",
    ", max_leaf_nodes=None\n",
    ", warm_start=False\n",
    ")\n",
    "gbdt.fit(x_train, y_train)\n",
    "y_predict = gbdt.predict(x_val)\n",
    "mse = mean_squared_error(y_predict, y_val)\n",
    "rmse = mse ** 0.5\n",
    "print(rmse)\n",
    "print(mse)"
   ]
  },
  {
   "cell_type": "code",
   "execution_count": 20,
   "metadata": {},
   "outputs": [
    {
     "name": "stdout",
     "output_type": "stream",
     "text": [
      "[1]\ttraining's l1: 93.1291\ttraining's l2: 835028\tvalid_1's l1: 98.3217\tvalid_1's l2: 1.09311e+06\n",
      "Training until validation scores don't improve for 100 rounds\n",
      "[2]\ttraining's l1: 88.7581\ttraining's l2: 777933\tvalid_1's l1: 93.7241\tvalid_1's l2: 1.02008e+06\n",
      "[3]\ttraining's l1: 84.5963\ttraining's l2: 726471\tvalid_1's l1: 89.3628\tvalid_1's l2: 957256\n",
      "[4]\ttraining's l1: 80.7372\ttraining's l2: 679858\tvalid_1's l1: 85.3013\tvalid_1's l2: 898324\n",
      "[5]\ttraining's l1: 76.9835\ttraining's l2: 637334\tvalid_1's l1: 81.3724\tvalid_1's l2: 845970\n",
      "[6]\ttraining's l1: 73.4408\ttraining's l2: 599236\tvalid_1's l1: 77.6483\tvalid_1's l2: 798022\n",
      "[7]\ttraining's l1: 70.0941\ttraining's l2: 564898\tvalid_1's l1: 74.1422\tvalid_1's l2: 755631\n",
      "[8]\ttraining's l1: 66.9202\ttraining's l2: 534021\tvalid_1's l1: 70.8197\tvalid_1's l2: 717879\n",
      "[9]\ttraining's l1: 63.9103\ttraining's l2: 506102\tvalid_1's l1: 67.695\tvalid_1's l2: 683325\n",
      "[10]\ttraining's l1: 61.1071\ttraining's l2: 480540\tvalid_1's l1: 64.8205\tvalid_1's l2: 652258\n",
      "[11]\ttraining's l1: 58.5473\ttraining's l2: 456288\tvalid_1's l1: 62.2252\tvalid_1's l2: 623041\n",
      "[12]\ttraining's l1: 56.2742\ttraining's l2: 434130\tvalid_1's l1: 59.8991\tvalid_1's l2: 594441\n",
      "[13]\ttraining's l1: 54.4029\ttraining's l2: 414296\tvalid_1's l1: 58.0006\tvalid_1's l2: 569212\n",
      "[14]\ttraining's l1: 52.608\ttraining's l2: 396364\tvalid_1's l1: 56.2072\tvalid_1's l2: 548219\n",
      "[15]\ttraining's l1: 51.0019\ttraining's l2: 380127\tvalid_1's l1: 54.573\tvalid_1's l2: 528080\n",
      "[16]\ttraining's l1: 49.5357\ttraining's l2: 365803\tvalid_1's l1: 53.0735\tvalid_1's l2: 509960\n",
      "[17]\ttraining's l1: 48.211\ttraining's l2: 352825\tvalid_1's l1: 51.7631\tvalid_1's l2: 494799\n",
      "[18]\ttraining's l1: 46.9897\ttraining's l2: 341360\tvalid_1's l1: 50.5355\tvalid_1's l2: 480475\n",
      "[19]\ttraining's l1: 45.9098\ttraining's l2: 330633\tvalid_1's l1: 49.4762\tvalid_1's l2: 467846\n",
      "[20]\ttraining's l1: 44.8995\ttraining's l2: 320862\tvalid_1's l1: 48.4715\tvalid_1's l2: 456196\n",
      "[21]\ttraining's l1: 43.9993\ttraining's l2: 312096\tvalid_1's l1: 47.5788\tvalid_1's l2: 445176\n",
      "[22]\ttraining's l1: 43.1295\ttraining's l2: 304000\tvalid_1's l1: 46.7204\tvalid_1's l2: 435159\n",
      "[23]\ttraining's l1: 42.3355\ttraining's l2: 296629\tvalid_1's l1: 45.9436\tvalid_1's l2: 426126\n",
      "[24]\ttraining's l1: 41.5782\ttraining's l2: 289968\tvalid_1's l1: 45.2079\tvalid_1's l2: 419224\n",
      "[25]\ttraining's l1: 40.9067\ttraining's l2: 283824\tvalid_1's l1: 44.5409\tvalid_1's l2: 412432\n",
      "[26]\ttraining's l1: 40.2431\ttraining's l2: 277877\tvalid_1's l1: 43.9103\tvalid_1's l2: 406717\n",
      "[27]\ttraining's l1: 39.6543\ttraining's l2: 272451\tvalid_1's l1: 43.3625\tvalid_1's l2: 401869\n",
      "[28]\ttraining's l1: 39.0744\ttraining's l2: 267469\tvalid_1's l1: 42.8094\tvalid_1's l2: 397393\n",
      "[29]\ttraining's l1: 38.5618\ttraining's l2: 262923\tvalid_1's l1: 42.3419\tvalid_1's l2: 393400\n",
      "[30]\ttraining's l1: 38.0326\ttraining's l2: 258917\tvalid_1's l1: 41.8486\tvalid_1's l2: 389048\n",
      "[31]\ttraining's l1: 37.4636\ttraining's l2: 255019\tvalid_1's l1: 41.3139\tvalid_1's l2: 384911\n",
      "[32]\ttraining's l1: 36.93\ttraining's l2: 251223\tvalid_1's l1: 40.8092\tvalid_1's l2: 381312\n",
      "[33]\ttraining's l1: 36.4512\ttraining's l2: 247997\tvalid_1's l1: 40.365\tvalid_1's l2: 377994\n",
      "[34]\ttraining's l1: 36.0509\ttraining's l2: 244894\tvalid_1's l1: 39.9761\tvalid_1's l2: 374257\n",
      "[35]\ttraining's l1: 35.6371\ttraining's l2: 242084\tvalid_1's l1: 39.5736\tvalid_1's l2: 371122\n",
      "[36]\ttraining's l1: 35.2551\ttraining's l2: 239498\tvalid_1's l1: 39.2092\tvalid_1's l2: 368565\n",
      "[37]\ttraining's l1: 34.924\ttraining's l2: 237238\tvalid_1's l1: 38.9038\tvalid_1's l2: 366482\n",
      "[38]\ttraining's l1: 34.6437\ttraining's l2: 235133\tvalid_1's l1: 38.682\tvalid_1's l2: 365246\n",
      "[39]\ttraining's l1: 34.3709\ttraining's l2: 233202\tvalid_1's l1: 38.4507\tvalid_1's l2: 364240\n",
      "[40]\ttraining's l1: 34.126\ttraining's l2: 231385\tvalid_1's l1: 38.25\tvalid_1's l2: 363143\n",
      "[41]\ttraining's l1: 33.8671\ttraining's l2: 229168\tvalid_1's l1: 38.0201\tvalid_1's l2: 361704\n",
      "[42]\ttraining's l1: 33.6209\ttraining's l2: 227229\tvalid_1's l1: 37.7999\tvalid_1's l2: 360395\n",
      "[43]\ttraining's l1: 33.3881\ttraining's l2: 225460\tvalid_1's l1: 37.6084\tvalid_1's l2: 359933\n",
      "[44]\ttraining's l1: 33.1817\ttraining's l2: 223771\tvalid_1's l1: 37.4331\tvalid_1's l2: 358826\n",
      "[45]\ttraining's l1: 32.9825\ttraining's l2: 222179\tvalid_1's l1: 37.2582\tvalid_1's l2: 357931\n",
      "[46]\ttraining's l1: 32.7647\ttraining's l2: 220756\tvalid_1's l1: 37.0442\tvalid_1's l2: 356584\n",
      "[47]\ttraining's l1: 32.5936\ttraining's l2: 219326\tvalid_1's l1: 36.8867\tvalid_1's l2: 355472\n",
      "[48]\ttraining's l1: 32.417\ttraining's l2: 217955\tvalid_1's l1: 36.7156\tvalid_1's l2: 354609\n",
      "[49]\ttraining's l1: 32.2537\ttraining's l2: 216606\tvalid_1's l1: 36.5755\tvalid_1's l2: 353942\n",
      "[50]\ttraining's l1: 32.1084\ttraining's l2: 215509\tvalid_1's l1: 36.466\tvalid_1's l2: 353958\n",
      "[51]\ttraining's l1: 31.8953\ttraining's l2: 214398\tvalid_1's l1: 36.3018\tvalid_1's l2: 353703\n",
      "[52]\ttraining's l1: 31.6892\ttraining's l2: 213230\tvalid_1's l1: 36.1433\tvalid_1's l2: 353946\n",
      "[53]\ttraining's l1: 31.5124\ttraining's l2: 212200\tvalid_1's l1: 35.9874\tvalid_1's l2: 353460\n",
      "[54]\ttraining's l1: 31.3772\ttraining's l2: 211111\tvalid_1's l1: 35.882\tvalid_1's l2: 353442\n",
      "[55]\ttraining's l1: 31.2687\ttraining's l2: 210040\tvalid_1's l1: 35.802\tvalid_1's l2: 353363\n",
      "[56]\ttraining's l1: 31.1375\ttraining's l2: 208954\tvalid_1's l1: 35.7017\tvalid_1's l2: 352664\n",
      "[57]\ttraining's l1: 31.0169\ttraining's l2: 208084\tvalid_1's l1: 35.6126\tvalid_1's l2: 352290\n",
      "[58]\ttraining's l1: 30.8683\ttraining's l2: 207228\tvalid_1's l1: 35.5032\tvalid_1's l2: 352088\n",
      "[59]\ttraining's l1: 30.7331\ttraining's l2: 206466\tvalid_1's l1: 35.3999\tvalid_1's l2: 351978\n",
      "[60]\ttraining's l1: 30.5782\ttraining's l2: 205580\tvalid_1's l1: 35.2715\tvalid_1's l2: 351334\n",
      "[61]\ttraining's l1: 30.4968\ttraining's l2: 204541\tvalid_1's l1: 35.2129\tvalid_1's l2: 351210\n",
      "[62]\ttraining's l1: 30.4218\ttraining's l2: 203564\tvalid_1's l1: 35.1564\tvalid_1's l2: 350734\n",
      "[63]\ttraining's l1: 30.34\ttraining's l2: 202615\tvalid_1's l1: 35.0962\tvalid_1's l2: 350268\n",
      "[64]\ttraining's l1: 30.2557\ttraining's l2: 201603\tvalid_1's l1: 35.0487\tvalid_1's l2: 349892\n",
      "[65]\ttraining's l1: 30.1506\ttraining's l2: 200781\tvalid_1's l1: 34.9575\tvalid_1's l2: 349215\n",
      "[66]\ttraining's l1: 30.066\ttraining's l2: 199987\tvalid_1's l1: 34.9083\tvalid_1's l2: 349505\n",
      "[67]\ttraining's l1: 29.9905\ttraining's l2: 199308\tvalid_1's l1: 34.8747\tvalid_1's l2: 349949\n",
      "[68]\ttraining's l1: 29.9165\ttraining's l2: 198629\tvalid_1's l1: 34.8427\tvalid_1's l2: 350430\n",
      "[69]\ttraining's l1: 29.851\ttraining's l2: 197957\tvalid_1's l1: 34.818\tvalid_1's l2: 350954\n",
      "[70]\ttraining's l1: 29.7823\ttraining's l2: 197384\tvalid_1's l1: 34.7736\tvalid_1's l2: 351108\n",
      "[71]\ttraining's l1: 29.6467\ttraining's l2: 196508\tvalid_1's l1: 34.6492\tvalid_1's l2: 350849\n",
      "[72]\ttraining's l1: 29.5495\ttraining's l2: 195713\tvalid_1's l1: 34.5806\tvalid_1's l2: 350657\n",
      "[73]\ttraining's l1: 29.4885\ttraining's l2: 195125\tvalid_1's l1: 34.5209\tvalid_1's l2: 350506\n",
      "[74]\ttraining's l1: 29.4299\ttraining's l2: 194490\tvalid_1's l1: 34.4734\tvalid_1's l2: 349945\n",
      "[75]\ttraining's l1: 29.3719\ttraining's l2: 193962\tvalid_1's l1: 34.4203\tvalid_1's l2: 349464\n",
      "[76]\ttraining's l1: 29.2705\ttraining's l2: 193266\tvalid_1's l1: 34.3369\tvalid_1's l2: 349114\n",
      "[77]\ttraining's l1: 29.1928\ttraining's l2: 192641\tvalid_1's l1: 34.2867\tvalid_1's l2: 348913\n",
      "[78]\ttraining's l1: 29.1031\ttraining's l2: 192111\tvalid_1's l1: 34.2134\tvalid_1's l2: 348623\n",
      "[79]\ttraining's l1: 29.0213\ttraining's l2: 191414\tvalid_1's l1: 34.1513\tvalid_1's l2: 348495\n",
      "[80]\ttraining's l1: 28.9294\ttraining's l2: 190735\tvalid_1's l1: 34.105\tvalid_1's l2: 349051\n",
      "[81]\ttraining's l1: 28.8743\ttraining's l2: 190313\tvalid_1's l1: 34.0589\tvalid_1's l2: 349059\n",
      "[82]\ttraining's l1: 28.8165\ttraining's l2: 189789\tvalid_1's l1: 34.0221\tvalid_1's l2: 349203\n",
      "[83]\ttraining's l1: 28.7538\ttraining's l2: 189366\tvalid_1's l1: 33.9805\tvalid_1's l2: 349426\n",
      "[84]\ttraining's l1: 28.6865\ttraining's l2: 188913\tvalid_1's l1: 33.9415\tvalid_1's l2: 349569\n",
      "[85]\ttraining's l1: 28.6043\ttraining's l2: 188348\tvalid_1's l1: 33.8834\tvalid_1's l2: 349899\n",
      "[86]\ttraining's l1: 28.5677\ttraining's l2: 187954\tvalid_1's l1: 33.8621\tvalid_1's l2: 349792\n",
      "[87]\ttraining's l1: 28.5297\ttraining's l2: 187534\tvalid_1's l1: 33.8451\tvalid_1's l2: 349951\n",
      "[88]\ttraining's l1: 28.4932\ttraining's l2: 186987\tvalid_1's l1: 33.84\tvalid_1's l2: 350224\n",
      "[89]\ttraining's l1: 28.4656\ttraining's l2: 186604\tvalid_1's l1: 33.8224\tvalid_1's l2: 350045\n",
      "[90]\ttraining's l1: 28.4329\ttraining's l2: 186052\tvalid_1's l1: 33.8098\tvalid_1's l2: 350019\n"
     ]
    },
    {
     "name": "stdout",
     "output_type": "stream",
     "text": [
      "[91]\ttraining's l1: 28.3909\ttraining's l2: 185603\tvalid_1's l1: 33.7804\tvalid_1's l2: 349889\n",
      "[92]\ttraining's l1: 28.3614\ttraining's l2: 185201\tvalid_1's l1: 33.7817\tvalid_1's l2: 350048\n",
      "[93]\ttraining's l1: 28.2882\ttraining's l2: 184890\tvalid_1's l1: 33.7232\tvalid_1's l2: 350111\n",
      "[94]\ttraining's l1: 28.2541\ttraining's l2: 184450\tvalid_1's l1: 33.7119\tvalid_1's l2: 349898\n",
      "[95]\ttraining's l1: 28.204\ttraining's l2: 184110\tvalid_1's l1: 33.6864\tvalid_1's l2: 349766\n",
      "[96]\ttraining's l1: 28.1855\ttraining's l2: 183773\tvalid_1's l1: 33.6855\tvalid_1's l2: 349794\n",
      "[97]\ttraining's l1: 28.168\ttraining's l2: 183460\tvalid_1's l1: 33.6897\tvalid_1's l2: 350095\n",
      "[98]\ttraining's l1: 28.1106\ttraining's l2: 183176\tvalid_1's l1: 33.6542\tvalid_1's l2: 350562\n",
      "[99]\ttraining's l1: 28.097\ttraining's l2: 182935\tvalid_1's l1: 33.6608\tvalid_1's l2: 350916\n",
      "[100]\ttraining's l1: 28.0488\ttraining's l2: 182677\tvalid_1's l1: 33.6382\tvalid_1's l2: 351203\n",
      "[101]\ttraining's l1: 28.0264\ttraining's l2: 182105\tvalid_1's l1: 33.6343\tvalid_1's l2: 351236\n",
      "[102]\ttraining's l1: 28.004\ttraining's l2: 181569\tvalid_1's l1: 33.6459\tvalid_1's l2: 351688\n",
      "[103]\ttraining's l1: 27.9749\ttraining's l2: 181020\tvalid_1's l1: 33.6377\tvalid_1's l2: 351943\n",
      "[104]\ttraining's l1: 27.9436\ttraining's l2: 180519\tvalid_1's l1: 33.6421\tvalid_1's l2: 352325\n",
      "[105]\ttraining's l1: 27.908\ttraining's l2: 179967\tvalid_1's l1: 33.6397\tvalid_1's l2: 352505\n",
      "[106]\ttraining's l1: 27.8808\ttraining's l2: 179731\tvalid_1's l1: 33.6213\tvalid_1's l2: 352400\n",
      "[107]\ttraining's l1: 27.8493\ttraining's l2: 179456\tvalid_1's l1: 33.6163\tvalid_1's l2: 352460\n",
      "[108]\ttraining's l1: 27.788\ttraining's l2: 179082\tvalid_1's l1: 33.5712\tvalid_1's l2: 352405\n",
      "[109]\ttraining's l1: 27.7704\ttraining's l2: 178694\tvalid_1's l1: 33.5765\tvalid_1's l2: 352331\n",
      "[110]\ttraining's l1: 27.7424\ttraining's l2: 178470\tvalid_1's l1: 33.5726\tvalid_1's l2: 352432\n",
      "[111]\ttraining's l1: 27.729\ttraining's l2: 178160\tvalid_1's l1: 33.5697\tvalid_1's l2: 352279\n",
      "[112]\ttraining's l1: 27.7147\ttraining's l2: 177826\tvalid_1's l1: 33.563\tvalid_1's l2: 351977\n",
      "[113]\ttraining's l1: 27.6878\ttraining's l2: 177528\tvalid_1's l1: 33.5563\tvalid_1's l2: 352002\n",
      "[114]\ttraining's l1: 27.6622\ttraining's l2: 177124\tvalid_1's l1: 33.5492\tvalid_1's l2: 352067\n",
      "[115]\ttraining's l1: 27.638\ttraining's l2: 176865\tvalid_1's l1: 33.5437\tvalid_1's l2: 352152\n",
      "[116]\ttraining's l1: 27.6201\ttraining's l2: 176519\tvalid_1's l1: 33.5431\tvalid_1's l2: 352311\n",
      "[117]\ttraining's l1: 27.6013\ttraining's l2: 176206\tvalid_1's l1: 33.5458\tvalid_1's l2: 352471\n",
      "[118]\ttraining's l1: 27.5806\ttraining's l2: 175864\tvalid_1's l1: 33.5363\tvalid_1's l2: 352443\n",
      "[119]\ttraining's l1: 27.5701\ttraining's l2: 175623\tvalid_1's l1: 33.5402\tvalid_1's l2: 352707\n",
      "[120]\ttraining's l1: 27.5533\ttraining's l2: 175361\tvalid_1's l1: 33.5486\tvalid_1's l2: 353069\n",
      "[121]\ttraining's l1: 27.5397\ttraining's l2: 175076\tvalid_1's l1: 33.5583\tvalid_1's l2: 353130\n",
      "[122]\ttraining's l1: 27.5183\ttraining's l2: 174802\tvalid_1's l1: 33.5528\tvalid_1's l2: 353282\n",
      "[123]\ttraining's l1: 27.5043\ttraining's l2: 174507\tvalid_1's l1: 33.5605\tvalid_1's l2: 353443\n",
      "[124]\ttraining's l1: 27.4879\ttraining's l2: 174321\tvalid_1's l1: 33.5617\tvalid_1's l2: 353629\n",
      "[125]\ttraining's l1: 27.47\ttraining's l2: 174021\tvalid_1's l1: 33.5633\tvalid_1's l2: 353728\n",
      "[126]\ttraining's l1: 27.4545\ttraining's l2: 173660\tvalid_1's l1: 33.5695\tvalid_1's l2: 353938\n",
      "[127]\ttraining's l1: 27.4255\ttraining's l2: 173293\tvalid_1's l1: 33.5531\tvalid_1's l2: 354154\n",
      "[128]\ttraining's l1: 27.3845\ttraining's l2: 172878\tvalid_1's l1: 33.5295\tvalid_1's l2: 353906\n",
      "[129]\ttraining's l1: 27.3542\ttraining's l2: 172574\tvalid_1's l1: 33.5132\tvalid_1's l2: 353868\n",
      "[130]\ttraining's l1: 27.3264\ttraining's l2: 172312\tvalid_1's l1: 33.5005\tvalid_1's l2: 354031\n",
      "[131]\ttraining's l1: 27.3051\ttraining's l2: 171929\tvalid_1's l1: 33.4819\tvalid_1's l2: 353615\n",
      "[132]\ttraining's l1: 27.2807\ttraining's l2: 171470\tvalid_1's l1: 33.4884\tvalid_1's l2: 353936\n",
      "[133]\ttraining's l1: 27.26\ttraining's l2: 171148\tvalid_1's l1: 33.4842\tvalid_1's l2: 353785\n",
      "[134]\ttraining's l1: 27.2442\ttraining's l2: 170913\tvalid_1's l1: 33.4884\tvalid_1's l2: 354276\n",
      "[135]\ttraining's l1: 27.2295\ttraining's l2: 170713\tvalid_1's l1: 33.4846\tvalid_1's l2: 354608\n",
      "[136]\ttraining's l1: 27.2005\ttraining's l2: 170388\tvalid_1's l1: 33.4727\tvalid_1's l2: 354957\n",
      "[137]\ttraining's l1: 27.1797\ttraining's l2: 170119\tvalid_1's l1: 33.4714\tvalid_1's l2: 355385\n",
      "[138]\ttraining's l1: 27.1521\ttraining's l2: 169818\tvalid_1's l1: 33.4555\tvalid_1's l2: 355685\n",
      "[139]\ttraining's l1: 27.1281\ttraining's l2: 169516\tvalid_1's l1: 33.4454\tvalid_1's l2: 355897\n",
      "[140]\ttraining's l1: 27.1053\ttraining's l2: 169292\tvalid_1's l1: 33.433\tvalid_1's l2: 356237\n",
      "[141]\ttraining's l1: 27.0874\ttraining's l2: 168917\tvalid_1's l1: 33.4314\tvalid_1's l2: 356191\n",
      "[142]\ttraining's l1: 27.0716\ttraining's l2: 168608\tvalid_1's l1: 33.4336\tvalid_1's l2: 356257\n",
      "[143]\ttraining's l1: 27.0594\ttraining's l2: 168311\tvalid_1's l1: 33.4317\tvalid_1's l2: 356202\n",
      "[144]\ttraining's l1: 27.0461\ttraining's l2: 168034\tvalid_1's l1: 33.4395\tvalid_1's l2: 356427\n",
      "[145]\ttraining's l1: 27.0302\ttraining's l2: 167698\tvalid_1's l1: 33.4442\tvalid_1's l2: 356667\n",
      "[146]\ttraining's l1: 27.0172\ttraining's l2: 167299\tvalid_1's l1: 33.4521\tvalid_1's l2: 357018\n",
      "[147]\ttraining's l1: 26.9841\ttraining's l2: 167049\tvalid_1's l1: 33.4209\tvalid_1's l2: 356934\n",
      "[148]\ttraining's l1: 26.9747\ttraining's l2: 166811\tvalid_1's l1: 33.4166\tvalid_1's l2: 356992\n",
      "[149]\ttraining's l1: 26.9535\ttraining's l2: 166564\tvalid_1's l1: 33.4097\tvalid_1's l2: 357137\n",
      "[150]\ttraining's l1: 26.9431\ttraining's l2: 166307\tvalid_1's l1: 33.4136\tvalid_1's l2: 357241\n",
      "[151]\ttraining's l1: 26.9371\ttraining's l2: 166025\tvalid_1's l1: 33.4294\tvalid_1's l2: 357352\n",
      "[152]\ttraining's l1: 26.9201\ttraining's l2: 165762\tvalid_1's l1: 33.4316\tvalid_1's l2: 357439\n",
      "[153]\ttraining's l1: 26.8985\ttraining's l2: 165530\tvalid_1's l1: 33.4291\tvalid_1's l2: 357499\n",
      "[154]\ttraining's l1: 26.8729\ttraining's l2: 165247\tvalid_1's l1: 33.4221\tvalid_1's l2: 357661\n",
      "[155]\ttraining's l1: 26.8509\ttraining's l2: 165031\tvalid_1's l1: 33.4222\tvalid_1's l2: 357830\n",
      "[156]\ttraining's l1: 26.8216\ttraining's l2: 164629\tvalid_1's l1: 33.4204\tvalid_1's l2: 358380\n",
      "[157]\ttraining's l1: 26.8242\ttraining's l2: 164421\tvalid_1's l1: 33.4343\tvalid_1's l2: 358408\n",
      "[158]\ttraining's l1: 26.7811\ttraining's l2: 164051\tvalid_1's l1: 33.411\tvalid_1's l2: 358576\n",
      "[159]\ttraining's l1: 26.7847\ttraining's l2: 163895\tvalid_1's l1: 33.4183\tvalid_1's l2: 358518\n",
      "[160]\ttraining's l1: 26.7844\ttraining's l2: 163704\tvalid_1's l1: 33.4238\tvalid_1's l2: 358478\n",
      "[161]\ttraining's l1: 26.7667\ttraining's l2: 163479\tvalid_1's l1: 33.4174\tvalid_1's l2: 358565\n",
      "[162]\ttraining's l1: 26.7539\ttraining's l2: 163295\tvalid_1's l1: 33.4108\tvalid_1's l2: 358451\n",
      "[163]\ttraining's l1: 26.7407\ttraining's l2: 163127\tvalid_1's l1: 33.4076\tvalid_1's l2: 358639\n",
      "[164]\ttraining's l1: 26.723\ttraining's l2: 162915\tvalid_1's l1: 33.4045\tvalid_1's l2: 358641\n",
      "[165]\ttraining's l1: 26.7075\ttraining's l2: 162731\tvalid_1's l1: 33.3995\tvalid_1's l2: 358597\n",
      "[166]\ttraining's l1: 26.6894\ttraining's l2: 162352\tvalid_1's l1: 33.408\tvalid_1's l2: 359179\n",
      "[167]\ttraining's l1: 26.6588\ttraining's l2: 162032\tvalid_1's l1: 33.4002\tvalid_1's l2: 359662\n",
      "[168]\ttraining's l1: 26.6306\ttraining's l2: 161753\tvalid_1's l1: 33.395\tvalid_1's l2: 360136\n",
      "[169]\ttraining's l1: 26.618\ttraining's l2: 161421\tvalid_1's l1: 33.4185\tvalid_1's l2: 360665\n",
      "[170]\ttraining's l1: 26.6164\ttraining's l2: 161209\tvalid_1's l1: 33.4412\tvalid_1's l2: 361349\n",
      "[171]\ttraining's l1: 26.5976\ttraining's l2: 161009\tvalid_1's l1: 33.432\tvalid_1's l2: 361338\n",
      "[172]\ttraining's l1: 26.5902\ttraining's l2: 160816\tvalid_1's l1: 33.4283\tvalid_1's l2: 361062\n",
      "[173]\ttraining's l1: 26.5711\ttraining's l2: 160637\tvalid_1's l1: 33.4172\tvalid_1's l2: 361077\n",
      "[174]\ttraining's l1: 26.5488\ttraining's l2: 160380\tvalid_1's l1: 33.4081\tvalid_1's l2: 360896\n",
      "[175]\ttraining's l1: 26.5331\ttraining's l2: 160185\tvalid_1's l1: 33.3984\tvalid_1's l2: 360672\n",
      "[176]\ttraining's l1: 26.5147\ttraining's l2: 159850\tvalid_1's l1: 33.405\tvalid_1's l2: 361271\n",
      "[177]\ttraining's l1: 26.4947\ttraining's l2: 159461\tvalid_1's l1: 33.417\tvalid_1's l2: 362259\n",
      "[178]\ttraining's l1: 26.4704\ttraining's l2: 159098\tvalid_1's l1: 33.4339\tvalid_1's l2: 363508\n",
      "[179]\ttraining's l1: 26.4482\ttraining's l2: 158786\tvalid_1's l1: 33.4214\tvalid_1's l2: 363244\n",
      "Early stopping, best iteration is:\n",
      "[79]\ttraining's l1: 29.0213\ttraining's l2: 191414\tvalid_1's l1: 34.1513\tvalid_1's l2: 348495\n"
     ]
    }
   ],
   "source": [
    "params = {\n",
    "    'boosting_type': 'gbdt',\n",
    "    'objective': 'regression',\n",
    "    'metric': {'l2', 'l1'},\n",
    "    'num_leaves': 31,\n",
    "    'learning_rate': 0.05,\n",
    "    'feature_fraction': 0.9,\n",
    "    'bagging_fraction': 0.8,\n",
    "    'bagging_freq': 5,\n",
    "    'verbose': 0\n",
    "}\n",
    "\n",
    "train_data = lgb.Dataset(x_train, label=y_train)\n",
    "val_data = lgb.Dataset(x_val, label=y_val, reference=train_data)\n",
    "model = lgb.train(params, train_data, num_boost_round=2000, early_stopping_rounds=100, valid_sets=[train_data, val_data])"
   ]
  },
  {
   "cell_type": "code",
   "execution_count": 22,
   "metadata": {},
   "outputs": [
    {
     "name": "stdout",
     "output_type": "stream",
     "text": [
      "590.3343384233301\n",
      "348494.6311217109\n"
     ]
    }
   ],
   "source": [
    "y_predict = model.predict(x_val)\n",
    "mse = mean_squared_error(y_predict, y_val)\n",
    "rmse = mse ** 0.5\n",
    "print(rmse)\n",
    "print(mse)\n"
   ]
  },
  {
   "cell_type": "code",
   "execution_count": 29,
   "metadata": {},
   "outputs": [],
   "source": [
    "mae = mean_absolute_error(y_predict, y_val)"
   ]
  },
  {
   "cell_type": "code",
   "execution_count": 30,
   "metadata": {},
   "outputs": [
    {
     "data": {
      "text/plain": [
       "34.15133092796782"
      ]
     },
     "execution_count": 30,
     "metadata": {},
     "output_type": "execute_result"
    }
   ],
   "source": [
    "mae"
   ]
  },
  {
   "cell_type": "code",
   "execution_count": 31,
   "metadata": {},
   "outputs": [
    {
     "name": "stdout",
     "output_type": "stream",
     "text": [
      "16178179.171163559\n",
      "16553008.0\n"
     ]
    }
   ],
   "source": [
    "print(y_predict.sum())\n",
    "print(y_val.sum())"
   ]
  },
  {
   "cell_type": "code",
   "execution_count": 32,
   "metadata": {},
   "outputs": [
    {
     "data": {
      "text/plain": [
       "0.022644151977479925"
      ]
     },
     "execution_count": 32,
     "metadata": {},
     "output_type": "execute_result"
    }
   ],
   "source": [
    "(y_val.sum()-y_predict.sum())/y_val.sum()"
   ]
  },
  {
   "cell_type": "code",
   "execution_count": null,
   "metadata": {},
   "outputs": [],
   "source": []
  }
 ],
 "metadata": {
  "kernelspec": {
   "display_name": "Python 3",
   "language": "python",
   "name": "python3"
  },
  "language_info": {
   "codemirror_mode": {
    "name": "ipython",
    "version": 3
   },
   "file_extension": ".py",
   "mimetype": "text/x-python",
   "name": "python",
   "nbconvert_exporter": "python",
   "pygments_lexer": "ipython3",
   "version": "3.7.6"
  }
 },
 "nbformat": 4,
 "nbformat_minor": 4
}
