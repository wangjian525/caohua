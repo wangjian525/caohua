{
 "cells": [
  {
   "cell_type": "code",
   "execution_count": 1,
   "metadata": {},
   "outputs": [],
   "source": [
    "import pandas as pd\n",
    "import numpy as np\n",
    "import datetime\n",
    "import gc\n",
    "import random"
   ]
  },
  {
   "cell_type": "code",
   "execution_count": 2,
   "metadata": {},
   "outputs": [
    {
     "name": "stderr",
     "output_type": "stream",
     "text": [
      "C:\\Users\\Administrator\\anaconda3\\lib\\site-packages\\IPython\\core\\interactiveshell.py:3063: DtypeWarning: Columns (0) have mixed types.Specify dtype option on import or set low_memory=False.\n",
      "  interactivity=interactivity, compiler=compiler, result=result)\n"
     ]
    }
   ],
   "source": [
    "users_info = pd.read_csv('users_info.csv')\n",
    "users_info_dim = pd.read_csv('users_info_dim.csv')\n",
    "cp_role_info = pd.read_csv('./cp_role_info.csv')\n",
    "role_info = pd.read_csv('./role_info.csv')"
   ]
  },
  {
   "cell_type": "code",
   "execution_count": 3,
   "metadata": {},
   "outputs": [],
   "source": [
    "# 压缩数据\n",
    "def reduce_mem_usage(df, verbose=True):\n",
    "    numerics = ['int16', 'int32', 'int64', 'float16', 'float32', 'float64']\n",
    "    start_mem = df.memory_usage().sum() / 1024**2    \n",
    "    for col in df.columns:\n",
    "        col_type = df[col].dtypes\n",
    "        if col_type in numerics:\n",
    "            c_min = df[col].min()\n",
    "            c_max = df[col].max()\n",
    "            if str(col_type)[:3] == 'int':\n",
    "                if c_min > np.iinfo(np.int8).min and c_max < np.iinfo(np.int8).max:\n",
    "                    df[col] = df[col].astype(np.int8)\n",
    "                elif c_min > np.iinfo(np.int16).min and c_max < np.iinfo(np.int16).max:\n",
    "                    df[col] = df[col].astype(np.int16)\n",
    "                elif c_min > np.iinfo(np.int32).min and c_max < np.iinfo(np.int32).max:\n",
    "                    df[col] = df[col].astype(np.int32)\n",
    "                elif c_min > np.iinfo(np.int64).min and c_max < np.iinfo(np.int64).max:\n",
    "                    df[col] = df[col].astype(np.int64)  \n",
    "            else:\n",
    "                if c_min > np.finfo(np.float16).min and c_max < np.finfo(np.float16).max:\n",
    "                    df[col] = df[col].astype(np.float16)\n",
    "                elif c_min > np.finfo(np.float32).min and c_max < np.finfo(np.float32).max:\n",
    "                    df[col] = df[col].astype(np.float32)\n",
    "                else:\n",
    "                    df[col] = df[col].astype(np.float64)    \n",
    "    end_mem = df.memory_usage().sum() / 1024**2\n",
    "    if verbose: print('Mem. usage decreased to {:5.2f} Mb ({:.1f}% reduction)'.format(end_mem, 100 * (start_mem - end_mem) / start_mem))\n",
    "    return df"
   ]
  },
  {
   "cell_type": "code",
   "execution_count": 4,
   "metadata": {},
   "outputs": [
    {
     "name": "stdout",
     "output_type": "stream",
     "text": [
      "Mem. usage decreased to 276.76 Mb (44.8% reduction)\n",
      "Mem. usage decreased to 33.21 Mb (70.8% reduction)\n",
      "Mem. usage decreased to 124.20 Mb (40.0% reduction)\n",
      "Mem. usage decreased to 124.36 Mb (54.2% reduction)\n"
     ]
    }
   ],
   "source": [
    "users_info = reduce_mem_usage(users_info)\n",
    "users_info_dim = reduce_mem_usage(users_info_dim)\n",
    "cp_role_info = reduce_mem_usage(cp_role_info)\n",
    "role_info = reduce_mem_usage(role_info)"
   ]
  },
  {
   "cell_type": "code",
   "execution_count": 5,
   "metadata": {},
   "outputs": [
    {
     "name": "stdout",
     "output_type": "stream",
     "text": [
      "(5475477, 12)\n",
      "(4974324, 3)\n",
      "(5426230, 5)\n",
      "(5927469, 6)\n"
     ]
    }
   ],
   "source": [
    "print(users_info.shape)\n",
    "print(users_info_dim.shape)\n",
    "print(cp_role_info.shape)\n",
    "print(role_info.shape)"
   ]
  },
  {
   "cell_type": "code",
   "execution_count": 6,
   "metadata": {},
   "outputs": [
    {
     "name": "stdout",
     "output_type": "stream",
     "text": [
      "5475477\n",
      "4974324\n"
     ]
    }
   ],
   "source": [
    "# users_info和user_info_dim没有重复的user_id\n",
    "print(users_info['user_id'].nunique())\n",
    "print(users_info_dim['user_id'].nunique())"
   ]
  },
  {
   "cell_type": "code",
   "execution_count": 7,
   "metadata": {},
   "outputs": [
    {
     "data": {
      "text/plain": [
       "array([107467275, 107490790, 107492079, 107499803, 107547671, 107555258,\n",
       "       107555862, 107562097, 107564203, 107565691, 107582732, 107597791,\n",
       "       107606012, 107681724, 111849757])"
      ]
     },
     "execution_count": 7,
     "metadata": {},
     "output_type": "execute_result"
    }
   ],
   "source": [
    "a = np.setdiff1d(users_info_dim['user_id'], users_info['user_id'])\n",
    "a"
   ]
  },
  {
   "cell_type": "code",
   "execution_count": 8,
   "metadata": {
    "scrolled": true
   },
   "outputs": [],
   "source": [
    "users_info['mobile'] = pd.to_numeric(users_info['mobile'],errors='coerce')\n",
    "# 标记用户时否绑定了手机，绑定;1    未绑定：0\n",
    "users_info['mobile'] = users_info['mobile'].apply(lambda x:0 if np.isnan(x) == True else 1)\n",
    "# 合并user_info, user_info_dim 注 user_info_dim只有中间件用户的数据\n",
    "users_info_merge = pd.merge(users_info, users_info_dim, on='user_id', how='left')"
   ]
  },
  {
   "cell_type": "code",
   "execution_count": 9,
   "metadata": {},
   "outputs": [],
   "source": [
    "users_info_merge.drop(['user_name','game_id','dt'], axis=1, inplace=True)"
   ]
  },
  {
   "cell_type": "code",
   "execution_count": 10,
   "metadata": {},
   "outputs": [
    {
     "data": {
      "text/html": [
       "<div>\n",
       "<style scoped>\n",
       "    .dataframe tbody tr th:only-of-type {\n",
       "        vertical-align: middle;\n",
       "    }\n",
       "\n",
       "    .dataframe tbody tr th {\n",
       "        vertical-align: top;\n",
       "    }\n",
       "\n",
       "    .dataframe thead th {\n",
       "        text-align: right;\n",
       "    }\n",
       "</style>\n",
       "<table border=\"1\" class=\"dataframe\">\n",
       "  <thead>\n",
       "    <tr style=\"text-align: right;\">\n",
       "      <th></th>\n",
       "      <th>cp_role_id</th>\n",
       "      <th>game_id</th>\n",
       "      <th>user_id</th>\n",
       "      <th>role_id</th>\n",
       "      <th>server_id</th>\n",
       "      <th>server_sum</th>\n",
       "      <th>is_gunfu</th>\n",
       "    </tr>\n",
       "  </thead>\n",
       "  <tbody>\n",
       "    <tr>\n",
       "      <th>0</th>\n",
       "      <td>13024407</td>\n",
       "      <td>1000840</td>\n",
       "      <td>93449068</td>\n",
       "      <td>134292984</td>\n",
       "      <td>3244828</td>\n",
       "      <td>1</td>\n",
       "      <td>0</td>\n",
       "    </tr>\n",
       "    <tr>\n",
       "      <th>1</th>\n",
       "      <td>13024860</td>\n",
       "      <td>1000840</td>\n",
       "      <td>93459494</td>\n",
       "      <td>134303214</td>\n",
       "      <td>3244828</td>\n",
       "      <td>1</td>\n",
       "      <td>0</td>\n",
       "    </tr>\n",
       "    <tr>\n",
       "      <th>2</th>\n",
       "      <td>13021554</td>\n",
       "      <td>1000840</td>\n",
       "      <td>93328889</td>\n",
       "      <td>134173020</td>\n",
       "      <td>3244665</td>\n",
       "      <td>1</td>\n",
       "      <td>0</td>\n",
       "    </tr>\n",
       "    <tr>\n",
       "      <th>3</th>\n",
       "      <td>13024408</td>\n",
       "      <td>1000840</td>\n",
       "      <td>93449212</td>\n",
       "      <td>134292987</td>\n",
       "      <td>3244828</td>\n",
       "      <td>1</td>\n",
       "      <td>0</td>\n",
       "    </tr>\n",
       "    <tr>\n",
       "      <th>4</th>\n",
       "      <td>13025583</td>\n",
       "      <td>1000840</td>\n",
       "      <td>93474066</td>\n",
       "      <td>134318040</td>\n",
       "      <td>3244828</td>\n",
       "      <td>1</td>\n",
       "      <td>0</td>\n",
       "    </tr>\n",
       "  </tbody>\n",
       "</table>\n",
       "</div>"
      ],
      "text/plain": [
       "  cp_role_id  game_id   user_id    role_id  server_id  server_sum  is_gunfu\n",
       "0   13024407  1000840  93449068  134292984    3244828           1         0\n",
       "1   13024860  1000840  93459494  134303214    3244828           1         0\n",
       "2   13021554  1000840  93328889  134173020    3244665           1         0\n",
       "3   13024408  1000840  93449212  134292987    3244828           1         0\n",
       "4   13025583  1000840  93474066  134318040    3244828           1         0"
      ]
     },
     "execution_count": 10,
     "metadata": {},
     "output_type": "execute_result"
    }
   ],
   "source": [
    "# 判断是否滚服  注cp_role_info只有中间件用户的数据\n",
    "cp_role_info = cp_role_info.dropna(subset=['cp_role_id'])\n",
    "groups = cp_role_info.groupby('cp_role_id')\n",
    "temp = groups['server_id'].agg([('server_sum', 'nunique')]).reset_index()\n",
    "cp_role_info = pd.merge(cp_role_info, temp, on='cp_role_id', how='left')\n",
    "cp_role_info['is_gunfu'] = cp_role_info['server_sum'].apply(lambda x:0 if x==1 else 1)\n",
    "cp_role_info.head()"
   ]
  },
  {
   "cell_type": "code",
   "execution_count": 11,
   "metadata": {},
   "outputs": [
    {
     "data": {
      "text/html": [
       "<div>\n",
       "<style scoped>\n",
       "    .dataframe tbody tr th:only-of-type {\n",
       "        vertical-align: middle;\n",
       "    }\n",
       "\n",
       "    .dataframe tbody tr th {\n",
       "        vertical-align: top;\n",
       "    }\n",
       "\n",
       "    .dataframe thead th {\n",
       "        text-align: right;\n",
       "    }\n",
       "</style>\n",
       "<table border=\"1\" class=\"dataframe\">\n",
       "  <thead>\n",
       "    <tr style=\"text-align: right;\">\n",
       "      <th></th>\n",
       "      <th>user_id</th>\n",
       "      <th>role_id</th>\n",
       "      <th>server_id</th>\n",
       "      <th>is_create_role</th>\n",
       "      <th>is_create_no</th>\n",
       "      <th>create_role_time</th>\n",
       "    </tr>\n",
       "  </thead>\n",
       "  <tbody>\n",
       "    <tr>\n",
       "      <th>0</th>\n",
       "      <td>104544600</td>\n",
       "      <td>11653263</td>\n",
       "      <td>26208</td>\n",
       "      <td>1</td>\n",
       "      <td>1</td>\n",
       "      <td>2020-02-26 00:00:08</td>\n",
       "    </tr>\n",
       "    <tr>\n",
       "      <th>1</th>\n",
       "      <td>104544609</td>\n",
       "      <td>11653264</td>\n",
       "      <td>26208</td>\n",
       "      <td>1</td>\n",
       "      <td>1</td>\n",
       "      <td>2020-02-26 00:00:18</td>\n",
       "    </tr>\n",
       "    <tr>\n",
       "      <th>2</th>\n",
       "      <td>104544763</td>\n",
       "      <td>11653265</td>\n",
       "      <td>26208</td>\n",
       "      <td>1</td>\n",
       "      <td>1</td>\n",
       "      <td>2020-02-26 00:00:18</td>\n",
       "    </tr>\n",
       "    <tr>\n",
       "      <th>3</th>\n",
       "      <td>104544765</td>\n",
       "      <td>11653267</td>\n",
       "      <td>26208</td>\n",
       "      <td>1</td>\n",
       "      <td>1</td>\n",
       "      <td>2020-02-26 00:00:19</td>\n",
       "    </tr>\n",
       "    <tr>\n",
       "      <th>4</th>\n",
       "      <td>104274333</td>\n",
       "      <td>11653269</td>\n",
       "      <td>26215</td>\n",
       "      <td>0</td>\n",
       "      <td>0</td>\n",
       "      <td>2020-02-26 00:00:28</td>\n",
       "    </tr>\n",
       "  </tbody>\n",
       "</table>\n",
       "</div>"
      ],
      "text/plain": [
       "     user_id   role_id  server_id  is_create_role  is_create_no  \\\n",
       "0  104544600  11653263      26208               1             1   \n",
       "1  104544609  11653264      26208               1             1   \n",
       "2  104544763  11653265      26208               1             1   \n",
       "3  104544765  11653267      26208               1             1   \n",
       "4  104274333  11653269      26215               0             0   \n",
       "\n",
       "      create_role_time  \n",
       "0  2020-02-26 00:00:08  \n",
       "1  2020-02-26 00:00:18  \n",
       "2  2020-02-26 00:00:18  \n",
       "3  2020-02-26 00:00:19  \n",
       "4  2020-02-26 00:00:28  "
      ]
     },
     "execution_count": 11,
     "metadata": {},
     "output_type": "execute_result"
    }
   ],
   "source": [
    "role_info.head()"
   ]
  },
  {
   "cell_type": "code",
   "execution_count": 12,
   "metadata": {},
   "outputs": [
    {
     "name": "stdout",
     "output_type": "stream",
     "text": [
      "(5927469, 6)\n",
      "(5408952, 7)\n"
     ]
    }
   ],
   "source": [
    "print(role_info.shape)\n",
    "print(cp_role_info.shape)"
   ]
  },
  {
   "cell_type": "code",
   "execution_count": 13,
   "metadata": {},
   "outputs": [
    {
     "name": "stdout",
     "output_type": "stream",
     "text": [
      "5927469\n",
      "5408952\n"
     ]
    }
   ],
   "source": [
    "print(role_info['role_id'].nunique())\n",
    "print(cp_role_info['role_id'].nunique())"
   ]
  },
  {
   "cell_type": "code",
   "execution_count": 14,
   "metadata": {},
   "outputs": [
    {
     "data": {
      "text/plain": [
       "array([], dtype=int32)"
      ]
     },
     "execution_count": 14,
     "metadata": {},
     "output_type": "execute_result"
    }
   ],
   "source": [
    "b = np.setdiff1d(cp_role_info['role_id'], role_info['role_id'])\n",
    "b"
   ]
  },
  {
   "cell_type": "code",
   "execution_count": 15,
   "metadata": {},
   "outputs": [],
   "source": [
    "# 合并role_info与cp_role_info\n",
    "role_all = pd.merge(role_info, cp_role_info, on=['user_id', 'role_id'], how='left')"
   ]
  },
  {
   "cell_type": "code",
   "execution_count": 16,
   "metadata": {},
   "outputs": [
    {
     "data": {
      "text/html": [
       "<div>\n",
       "<style scoped>\n",
       "    .dataframe tbody tr th:only-of-type {\n",
       "        vertical-align: middle;\n",
       "    }\n",
       "\n",
       "    .dataframe tbody tr th {\n",
       "        vertical-align: top;\n",
       "    }\n",
       "\n",
       "    .dataframe thead th {\n",
       "        text-align: right;\n",
       "    }\n",
       "</style>\n",
       "<table border=\"1\" class=\"dataframe\">\n",
       "  <thead>\n",
       "    <tr style=\"text-align: right;\">\n",
       "      <th></th>\n",
       "      <th>user_id</th>\n",
       "      <th>role_id</th>\n",
       "      <th>is_create_role</th>\n",
       "      <th>is_create_no</th>\n",
       "      <th>create_role_time</th>\n",
       "      <th>server_sum</th>\n",
       "      <th>is_gunfu</th>\n",
       "    </tr>\n",
       "  </thead>\n",
       "  <tbody>\n",
       "    <tr>\n",
       "      <th>0</th>\n",
       "      <td>104544600</td>\n",
       "      <td>11653263</td>\n",
       "      <td>1</td>\n",
       "      <td>1</td>\n",
       "      <td>2020-02-26 00:00:08</td>\n",
       "      <td>1.0</td>\n",
       "      <td>0.0</td>\n",
       "    </tr>\n",
       "    <tr>\n",
       "      <th>1</th>\n",
       "      <td>104544609</td>\n",
       "      <td>11653264</td>\n",
       "      <td>1</td>\n",
       "      <td>1</td>\n",
       "      <td>2020-02-26 00:00:18</td>\n",
       "      <td>2.0</td>\n",
       "      <td>1.0</td>\n",
       "    </tr>\n",
       "    <tr>\n",
       "      <th>2</th>\n",
       "      <td>104544763</td>\n",
       "      <td>11653265</td>\n",
       "      <td>1</td>\n",
       "      <td>1</td>\n",
       "      <td>2020-02-26 00:00:18</td>\n",
       "      <td>1.0</td>\n",
       "      <td>0.0</td>\n",
       "    </tr>\n",
       "    <tr>\n",
       "      <th>3</th>\n",
       "      <td>104544765</td>\n",
       "      <td>11653267</td>\n",
       "      <td>1</td>\n",
       "      <td>1</td>\n",
       "      <td>2020-02-26 00:00:19</td>\n",
       "      <td>1.0</td>\n",
       "      <td>0.0</td>\n",
       "    </tr>\n",
       "    <tr>\n",
       "      <th>4</th>\n",
       "      <td>104274333</td>\n",
       "      <td>11653269</td>\n",
       "      <td>0</td>\n",
       "      <td>0</td>\n",
       "      <td>2020-02-26 00:00:28</td>\n",
       "      <td>10.0</td>\n",
       "      <td>1.0</td>\n",
       "    </tr>\n",
       "  </tbody>\n",
       "</table>\n",
       "</div>"
      ],
      "text/plain": [
       "     user_id   role_id  is_create_role  is_create_no     create_role_time  \\\n",
       "0  104544600  11653263               1             1  2020-02-26 00:00:08   \n",
       "1  104544609  11653264               1             1  2020-02-26 00:00:18   \n",
       "2  104544763  11653265               1             1  2020-02-26 00:00:18   \n",
       "3  104544765  11653267               1             1  2020-02-26 00:00:19   \n",
       "4  104274333  11653269               0             0  2020-02-26 00:00:28   \n",
       "\n",
       "   server_sum  is_gunfu  \n",
       "0         1.0       0.0  \n",
       "1         2.0       1.0  \n",
       "2         1.0       0.0  \n",
       "3         1.0       0.0  \n",
       "4        10.0       1.0  "
      ]
     },
     "execution_count": 16,
     "metadata": {},
     "output_type": "execute_result"
    }
   ],
   "source": [
    "role_all.drop(['server_id_x','server_id_y','game_id','cp_role_id'], axis=1, inplace=True)\n",
    "role_all.head()"
   ]
  },
  {
   "cell_type": "code",
   "execution_count": 17,
   "metadata": {},
   "outputs": [
    {
     "data": {
      "text/plain": [
       "5927469"
      ]
     },
     "execution_count": 17,
     "metadata": {},
     "output_type": "execute_result"
    }
   ],
   "source": [
    "role_all['role_id'].nunique()"
   ]
  },
  {
   "cell_type": "code",
   "execution_count": 18,
   "metadata": {},
   "outputs": [
    {
     "data": {
      "text/html": [
       "<div>\n",
       "<style scoped>\n",
       "    .dataframe tbody tr th:only-of-type {\n",
       "        vertical-align: middle;\n",
       "    }\n",
       "\n",
       "    .dataframe tbody tr th {\n",
       "        vertical-align: top;\n",
       "    }\n",
       "\n",
       "    .dataframe thead th {\n",
       "        text-align: right;\n",
       "    }\n",
       "</style>\n",
       "<table border=\"1\" class=\"dataframe\">\n",
       "  <thead>\n",
       "    <tr style=\"text-align: right;\">\n",
       "      <th></th>\n",
       "      <th>user_id</th>\n",
       "      <th>platform</th>\n",
       "      <th>user_type</th>\n",
       "      <th>user_flag</th>\n",
       "      <th>mobile</th>\n",
       "      <th>channel_id</th>\n",
       "      <th>source_id</th>\n",
       "      <th>device_no</th>\n",
       "      <th>reg_date</th>\n",
       "      <th>game_pay_num</th>\n",
       "      <th>chmoney_pay_num</th>\n",
       "    </tr>\n",
       "  </thead>\n",
       "  <tbody>\n",
       "    <tr>\n",
       "      <th>0</th>\n",
       "      <td>93329024</td>\n",
       "      <td>1</td>\n",
       "      <td>2</td>\n",
       "      <td>1</td>\n",
       "      <td>1</td>\n",
       "      <td>6770</td>\n",
       "      <td>208821</td>\n",
       "      <td>3F3EA505C0B3408E3569BAC7E47591FC</td>\n",
       "      <td>2019-09-13 00:05:32</td>\n",
       "      <td>0.0</td>\n",
       "      <td>0.0</td>\n",
       "    </tr>\n",
       "    <tr>\n",
       "      <th>1</th>\n",
       "      <td>93335936</td>\n",
       "      <td>1</td>\n",
       "      <td>18</td>\n",
       "      <td>1</td>\n",
       "      <td>0</td>\n",
       "      <td>20540</td>\n",
       "      <td>200648</td>\n",
       "      <td>97233F607B1BF960B6BB939D44EDFD00</td>\n",
       "      <td>2019-09-13 01:34:37</td>\n",
       "      <td>0.0</td>\n",
       "      <td>0.0</td>\n",
       "    </tr>\n",
       "    <tr>\n",
       "      <th>2</th>\n",
       "      <td>93340416</td>\n",
       "      <td>1</td>\n",
       "      <td>1</td>\n",
       "      <td>1</td>\n",
       "      <td>0</td>\n",
       "      <td>6770</td>\n",
       "      <td>198778</td>\n",
       "      <td>AC70F781E19A6EDF119CD2BA70BA7FA0</td>\n",
       "      <td>2019-09-13 03:34:51</td>\n",
       "      <td>0.0</td>\n",
       "      <td>0.0</td>\n",
       "    </tr>\n",
       "    <tr>\n",
       "      <th>3</th>\n",
       "      <td>93349248</td>\n",
       "      <td>1</td>\n",
       "      <td>1</td>\n",
       "      <td>1</td>\n",
       "      <td>0</td>\n",
       "      <td>6770</td>\n",
       "      <td>208816</td>\n",
       "      <td>93D7E53BA301DA5A57444F0EF17A5590</td>\n",
       "      <td>2019-09-13 07:42:17</td>\n",
       "      <td>0.0</td>\n",
       "      <td>0.0</td>\n",
       "    </tr>\n",
       "    <tr>\n",
       "      <th>4</th>\n",
       "      <td>93358336</td>\n",
       "      <td>1</td>\n",
       "      <td>18</td>\n",
       "      <td>1</td>\n",
       "      <td>0</td>\n",
       "      <td>20540</td>\n",
       "      <td>198786</td>\n",
       "      <td>802AC04F2B80E47234700AB7CE8C954B</td>\n",
       "      <td>2019-09-13 08:44:19</td>\n",
       "      <td>0.0</td>\n",
       "      <td>0.0</td>\n",
       "    </tr>\n",
       "  </tbody>\n",
       "</table>\n",
       "</div>"
      ],
      "text/plain": [
       "    user_id  platform  user_type  user_flag  mobile  channel_id  source_id  \\\n",
       "0  93329024         1          2          1       1        6770     208821   \n",
       "1  93335936         1         18          1       0       20540     200648   \n",
       "2  93340416         1          1          1       0        6770     198778   \n",
       "3  93349248         1          1          1       0        6770     208816   \n",
       "4  93358336         1         18          1       0       20540     198786   \n",
       "\n",
       "                          device_no             reg_date  game_pay_num  \\\n",
       "0  3F3EA505C0B3408E3569BAC7E47591FC  2019-09-13 00:05:32           0.0   \n",
       "1  97233F607B1BF960B6BB939D44EDFD00  2019-09-13 01:34:37           0.0   \n",
       "2  AC70F781E19A6EDF119CD2BA70BA7FA0  2019-09-13 03:34:51           0.0   \n",
       "3  93D7E53BA301DA5A57444F0EF17A5590  2019-09-13 07:42:17           0.0   \n",
       "4  802AC04F2B80E47234700AB7CE8C954B  2019-09-13 08:44:19           0.0   \n",
       "\n",
       "   chmoney_pay_num  \n",
       "0              0.0  \n",
       "1              0.0  \n",
       "2              0.0  \n",
       "3              0.0  \n",
       "4              0.0  "
      ]
     },
     "execution_count": 18,
     "metadata": {},
     "output_type": "execute_result"
    }
   ],
   "source": [
    "users_info_merge.head()"
   ]
  },
  {
   "cell_type": "code",
   "execution_count": 19,
   "metadata": {},
   "outputs": [
    {
     "data": {
      "text/plain": [
       "(5475477, 11)"
      ]
     },
     "execution_count": 19,
     "metadata": {},
     "output_type": "execute_result"
    }
   ],
   "source": [
    "users_info_merge.shape"
   ]
  },
  {
   "cell_type": "code",
   "execution_count": 20,
   "metadata": {},
   "outputs": [
    {
     "data": {
      "text/plain": [
       "5475477"
      ]
     },
     "execution_count": 20,
     "metadata": {},
     "output_type": "execute_result"
    }
   ],
   "source": [
    "users_info_merge['user_id'].nunique()"
   ]
  },
  {
   "cell_type": "code",
   "execution_count": 21,
   "metadata": {},
   "outputs": [],
   "source": [
    "# 按全量user_id进行合并\n",
    "users_info_all = pd.merge(role_all, users_info_merge, on='user_id', how='left', validate='many_to_one')"
   ]
  },
  {
   "cell_type": "code",
   "execution_count": 25,
   "metadata": {},
   "outputs": [
    {
     "data": {
      "text/plain": [
       "5927469"
      ]
     },
     "execution_count": 25,
     "metadata": {},
     "output_type": "execute_result"
    }
   ],
   "source": [
    "users_info_all['role_id'].nunique()"
   ]
  },
  {
   "cell_type": "code",
   "execution_count": 26,
   "metadata": {},
   "outputs": [
    {
     "data": {
      "text/html": [
       "<div>\n",
       "<style scoped>\n",
       "    .dataframe tbody tr th:only-of-type {\n",
       "        vertical-align: middle;\n",
       "    }\n",
       "\n",
       "    .dataframe tbody tr th {\n",
       "        vertical-align: top;\n",
       "    }\n",
       "\n",
       "    .dataframe thead th {\n",
       "        text-align: right;\n",
       "    }\n",
       "</style>\n",
       "<table border=\"1\" class=\"dataframe\">\n",
       "  <thead>\n",
       "    <tr style=\"text-align: right;\">\n",
       "      <th></th>\n",
       "      <th>user_id</th>\n",
       "      <th>role_id</th>\n",
       "      <th>is_create_role</th>\n",
       "      <th>is_create_no</th>\n",
       "      <th>create_role_time</th>\n",
       "      <th>server_sum</th>\n",
       "      <th>is_gunfu</th>\n",
       "      <th>platform</th>\n",
       "      <th>user_type</th>\n",
       "      <th>user_flag</th>\n",
       "      <th>mobile</th>\n",
       "      <th>channel_id</th>\n",
       "      <th>source_id</th>\n",
       "      <th>device_no</th>\n",
       "      <th>reg_date</th>\n",
       "      <th>game_pay_num</th>\n",
       "      <th>chmoney_pay_num</th>\n",
       "    </tr>\n",
       "  </thead>\n",
       "  <tbody>\n",
       "    <tr>\n",
       "      <th>0</th>\n",
       "      <td>104544600</td>\n",
       "      <td>11653263</td>\n",
       "      <td>1</td>\n",
       "      <td>1</td>\n",
       "      <td>2020-02-26 00:00:08</td>\n",
       "      <td>1.0</td>\n",
       "      <td>0.0</td>\n",
       "      <td>2.0</td>\n",
       "      <td>1.0</td>\n",
       "      <td>1.0</td>\n",
       "      <td>0.0</td>\n",
       "      <td>20021.0</td>\n",
       "      <td>22791.0</td>\n",
       "      <td>0333F64B-9FA2-4EB8-A3A4-1833648F17D6</td>\n",
       "      <td>2020-02-26 00:00:03</td>\n",
       "      <td>0.0</td>\n",
       "      <td>0.0</td>\n",
       "    </tr>\n",
       "    <tr>\n",
       "      <th>1</th>\n",
       "      <td>104544609</td>\n",
       "      <td>11653264</td>\n",
       "      <td>1</td>\n",
       "      <td>1</td>\n",
       "      <td>2020-02-26 00:00:18</td>\n",
       "      <td>2.0</td>\n",
       "      <td>1.0</td>\n",
       "      <td>2.0</td>\n",
       "      <td>1.0</td>\n",
       "      <td>1.0</td>\n",
       "      <td>0.0</td>\n",
       "      <td>20021.0</td>\n",
       "      <td>22791.0</td>\n",
       "      <td>8D1014C5-CFCD-489F-BC08-95489D4BB70E</td>\n",
       "      <td>2020-02-26 00:00:14</td>\n",
       "      <td>6.0</td>\n",
       "      <td>0.0</td>\n",
       "    </tr>\n",
       "    <tr>\n",
       "      <th>2</th>\n",
       "      <td>104544763</td>\n",
       "      <td>11653265</td>\n",
       "      <td>1</td>\n",
       "      <td>1</td>\n",
       "      <td>2020-02-26 00:00:18</td>\n",
       "      <td>1.0</td>\n",
       "      <td>0.0</td>\n",
       "      <td>2.0</td>\n",
       "      <td>1.0</td>\n",
       "      <td>1.0</td>\n",
       "      <td>0.0</td>\n",
       "      <td>20541.0</td>\n",
       "      <td>226963.0</td>\n",
       "      <td>33EB241B-B83B-455D-B60D-4BEFDB489A97</td>\n",
       "      <td>2020-02-26 00:00:15</td>\n",
       "      <td>0.0</td>\n",
       "      <td>0.0</td>\n",
       "    </tr>\n",
       "    <tr>\n",
       "      <th>3</th>\n",
       "      <td>104544765</td>\n",
       "      <td>11653267</td>\n",
       "      <td>1</td>\n",
       "      <td>1</td>\n",
       "      <td>2020-02-26 00:00:19</td>\n",
       "      <td>1.0</td>\n",
       "      <td>0.0</td>\n",
       "      <td>2.0</td>\n",
       "      <td>1.0</td>\n",
       "      <td>1.0</td>\n",
       "      <td>0.0</td>\n",
       "      <td>20144.0</td>\n",
       "      <td>266475.0</td>\n",
       "      <td>62CCEDD0-BEBA-4D91-A1E8-3FDF902A69FA</td>\n",
       "      <td>2020-02-26 00:00:16</td>\n",
       "      <td>0.0</td>\n",
       "      <td>0.0</td>\n",
       "    </tr>\n",
       "    <tr>\n",
       "      <th>4</th>\n",
       "      <td>104274333</td>\n",
       "      <td>11653269</td>\n",
       "      <td>0</td>\n",
       "      <td>0</td>\n",
       "      <td>2020-02-26 00:00:28</td>\n",
       "      <td>10.0</td>\n",
       "      <td>1.0</td>\n",
       "      <td>2.0</td>\n",
       "      <td>1.0</td>\n",
       "      <td>1.0</td>\n",
       "      <td>0.0</td>\n",
       "      <td>20144.0</td>\n",
       "      <td>250625.0</td>\n",
       "      <td>2DD2BE9E-250C-455F-854B-3A5E75292C42</td>\n",
       "      <td>2020-02-24 00:51:57</td>\n",
       "      <td>0.0</td>\n",
       "      <td>0.0</td>\n",
       "    </tr>\n",
       "  </tbody>\n",
       "</table>\n",
       "</div>"
      ],
      "text/plain": [
       "     user_id   role_id  is_create_role  is_create_no     create_role_time  \\\n",
       "0  104544600  11653263               1             1  2020-02-26 00:00:08   \n",
       "1  104544609  11653264               1             1  2020-02-26 00:00:18   \n",
       "2  104544763  11653265               1             1  2020-02-26 00:00:18   \n",
       "3  104544765  11653267               1             1  2020-02-26 00:00:19   \n",
       "4  104274333  11653269               0             0  2020-02-26 00:00:28   \n",
       "\n",
       "   server_sum  is_gunfu  platform  user_type  user_flag  mobile  channel_id  \\\n",
       "0         1.0       0.0       2.0        1.0        1.0     0.0     20021.0   \n",
       "1         2.0       1.0       2.0        1.0        1.0     0.0     20021.0   \n",
       "2         1.0       0.0       2.0        1.0        1.0     0.0     20541.0   \n",
       "3         1.0       0.0       2.0        1.0        1.0     0.0     20144.0   \n",
       "4        10.0       1.0       2.0        1.0        1.0     0.0     20144.0   \n",
       "\n",
       "   source_id                             device_no             reg_date  \\\n",
       "0    22791.0  0333F64B-9FA2-4EB8-A3A4-1833648F17D6  2020-02-26 00:00:03   \n",
       "1    22791.0  8D1014C5-CFCD-489F-BC08-95489D4BB70E  2020-02-26 00:00:14   \n",
       "2   226963.0  33EB241B-B83B-455D-B60D-4BEFDB489A97  2020-02-26 00:00:15   \n",
       "3   266475.0  62CCEDD0-BEBA-4D91-A1E8-3FDF902A69FA  2020-02-26 00:00:16   \n",
       "4   250625.0  2DD2BE9E-250C-455F-854B-3A5E75292C42  2020-02-24 00:51:57   \n",
       "\n",
       "   game_pay_num  chmoney_pay_num  \n",
       "0           0.0              0.0  \n",
       "1           6.0              0.0  \n",
       "2           0.0              0.0  \n",
       "3           0.0              0.0  \n",
       "4           0.0              0.0  "
      ]
     },
     "execution_count": 26,
     "metadata": {},
     "output_type": "execute_result"
    }
   ],
   "source": [
    "users_info_all.head()"
   ]
  },
  {
   "cell_type": "code",
   "execution_count": 27,
   "metadata": {},
   "outputs": [],
   "source": [
    "users_info_all.to_csv('./FE_data/users_info_all.csv', index=None)"
   ]
  },
  {
   "cell_type": "code",
   "execution_count": 28,
   "metadata": {},
   "outputs": [
    {
     "data": {
      "text/plain": [
       "18608"
      ]
     },
     "execution_count": 28,
     "metadata": {},
     "output_type": "execute_result"
    }
   ],
   "source": [
    "del users_info, users_info_dim,users_info_merge,role_info,role_all,cp_role_info,temp\n",
    "gc.collect()"
   ]
  },
  {
   "cell_type": "code",
   "execution_count": null,
   "metadata": {},
   "outputs": [],
   "source": []
  }
 ],
 "metadata": {
  "kernelspec": {
   "display_name": "Python 3",
   "language": "python",
   "name": "python3"
  },
  "language_info": {
   "codemirror_mode": {
    "name": "ipython",
    "version": 3
   },
   "file_extension": ".py",
   "mimetype": "text/x-python",
   "name": "python",
   "nbconvert_exporter": "python",
   "pygments_lexer": "ipython3",
   "version": "3.7.6"
  }
 },
 "nbformat": 4,
 "nbformat_minor": 4
}
