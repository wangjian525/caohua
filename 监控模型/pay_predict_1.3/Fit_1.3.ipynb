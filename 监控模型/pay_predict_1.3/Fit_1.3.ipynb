{
 "cells": [
  {
   "cell_type": "code",
   "execution_count": 88,
   "metadata": {
    "scrolled": true
   },
   "outputs": [],
   "source": [
    "import pandas as pd\n",
    "import numpy as np\n",
    "import random\n",
    "import gc\n",
    "import seaborn as sns\n",
    "import lightgbm as lgb\n",
    "import matplotlib.pyplot as plt\n",
    "from sklearn.model_selection import KFold, train_test_split\n",
    "from sklearn.preprocessing import LabelEncoder, OneHotEncoder\n",
    "from sklearn.metrics import recall_score, auc, accuracy_score, f1_score, precision_score, classification_report, roc_auc_score\n",
    "from pandas.api.types import is_categorical_dtype\n",
    "from pandas.api.types import is_datetime64_any_dtype as is_datetime\n",
    "import missingno as msno"
   ]
  },
  {
   "cell_type": "code",
   "execution_count": 89,
   "metadata": {},
   "outputs": [
    {
     "name": "stdout",
     "output_type": "stream",
     "text": [
      "(642751, 42)\n"
     ]
    }
   ],
   "source": [
    "# 数据训练加载\n",
    "data = pd.read_csv('./data.csv')\n",
    "pd.set_option('display.max_columns', None)\n",
    "data.drop(['user_id','ip'], axis=1, inplace=True)\n",
    "# data.drop(['user_id','ip','game_pay_num', 'chmoney_pay_num'], axis=1, inplace=True)\n",
    "data = data.select_dtypes(include='number')\n",
    "print(data.shape)"
   ]
  },
  {
   "cell_type": "code",
   "execution_count": 90,
   "metadata": {},
   "outputs": [
    {
     "name": "stdout",
     "output_type": "stream",
     "text": [
      "(591088, 42)\n"
     ]
    }
   ],
   "source": [
    "# 加载测试数据\n",
    "data_test = pd.read_csv('./data_test.csv')\n",
    "pd.set_option('display.max_columns', None)\n",
    "data_test.drop(['user_id','ip','city'], axis=1, inplace=True)\n",
    "# data.drop(['user_id','ip','game_pay_num', 'chmoney_pay_num'], axis=1, inplace=True)\n",
    "data_test = data_test.select_dtypes(include='number')\n",
    "print(data_test.shape)"
   ]
  },
  {
   "cell_type": "code",
   "execution_count": 91,
   "metadata": {},
   "outputs": [],
   "source": [
    "# data.fillna(0, inplace=True)\n",
    "# data = data.replace([np.inf,-np.inf], np.nan)\n",
    "# data.dropna(how='any', inplace=True)\n",
    "data = data.replace([np.inf,-np.inf], np.nan)\n",
    "data.dropna(how='any', inplace=True)\n",
    "\n",
    "data_test = data_test.replace([np.inf,-np.inf], np.nan)\n",
    "data_test.dropna(how='any', inplace=True)\n"
   ]
  },
  {
   "cell_type": "code",
   "execution_count": 92,
   "metadata": {},
   "outputs": [
    {
     "data": {
      "text/html": [
       "<div>\n",
       "<style scoped>\n",
       "    .dataframe tbody tr th:only-of-type {\n",
       "        vertical-align: middle;\n",
       "    }\n",
       "\n",
       "    .dataframe tbody tr th {\n",
       "        vertical-align: top;\n",
       "    }\n",
       "\n",
       "    .dataframe thead th {\n",
       "        text-align: right;\n",
       "    }\n",
       "</style>\n",
       "<table border=\"1\" class=\"dataframe\">\n",
       "  <thead>\n",
       "    <tr style=\"text-align: right;\">\n",
       "      <th></th>\n",
       "      <th>role_level</th>\n",
       "      <th>net_type</th>\n",
       "      <th>u1</th>\n",
       "      <th>u2</th>\n",
       "      <th>u3</th>\n",
       "      <th>u4</th>\n",
       "      <th>u5</th>\n",
       "      <th>u6</th>\n",
       "      <th>g7</th>\n",
       "      <th>g8</th>\n",
       "      <th>g9</th>\n",
       "      <th>g10</th>\n",
       "      <th>is_create_role</th>\n",
       "      <th>is_create_no</th>\n",
       "      <th>platform</th>\n",
       "      <th>user_type</th>\n",
       "      <th>user_flag</th>\n",
       "      <th>mobile</th>\n",
       "      <th>game_pay_num</th>\n",
       "      <th>chmoney_pay_num</th>\n",
       "      <th>server_sum</th>\n",
       "      <th>rollsrv</th>\n",
       "      <th>m1</th>\n",
       "      <th>m2</th>\n",
       "      <th>p1</th>\n",
       "      <th>p2</th>\n",
       "      <th>p3</th>\n",
       "      <th>p4</th>\n",
       "      <th>p5</th>\n",
       "      <th>p6</th>\n",
       "      <th>p7</th>\n",
       "      <th>p8</th>\n",
       "      <th>p9</th>\n",
       "      <th>p10</th>\n",
       "      <th>is_pay</th>\n",
       "      <th>s1</th>\n",
       "      <th>s2</th>\n",
       "      <th>s3</th>\n",
       "      <th>s4</th>\n",
       "      <th>s5</th>\n",
       "      <th>s6</th>\n",
       "      <th>s7</th>\n",
       "    </tr>\n",
       "  </thead>\n",
       "  <tbody>\n",
       "    <tr>\n",
       "      <th>0</th>\n",
       "      <td>4</td>\n",
       "      <td>0.0</td>\n",
       "      <td>1</td>\n",
       "      <td>1</td>\n",
       "      <td>1</td>\n",
       "      <td>1</td>\n",
       "      <td>0.0</td>\n",
       "      <td>0.0</td>\n",
       "      <td>136657</td>\n",
       "      <td>151468</td>\n",
       "      <td>129869</td>\n",
       "      <td>1813367</td>\n",
       "      <td>1.0</td>\n",
       "      <td>1.0</td>\n",
       "      <td>1.0</td>\n",
       "      <td>1.0</td>\n",
       "      <td>1.0</td>\n",
       "      <td>0.0</td>\n",
       "      <td>0.0</td>\n",
       "      <td>0.0</td>\n",
       "      <td>1.0</td>\n",
       "      <td>0.0</td>\n",
       "      <td>1.0</td>\n",
       "      <td>2815759.0</td>\n",
       "      <td>16429.0</td>\n",
       "      <td>5270.0</td>\n",
       "      <td>5413.0</td>\n",
       "      <td>5206.0</td>\n",
       "      <td>133.462657</td>\n",
       "      <td>0.770520</td>\n",
       "      <td>0.027391</td>\n",
       "      <td>1021.0</td>\n",
       "      <td>1209.0</td>\n",
       "      <td>1033.0</td>\n",
       "      <td>0.0</td>\n",
       "      <td>0.009060</td>\n",
       "      <td>0.038564</td>\n",
       "      <td>0.035737</td>\n",
       "      <td>0.040087</td>\n",
       "      <td>0.193738</td>\n",
       "      <td>0.223351</td>\n",
       "      <td>0.198425</td>\n",
       "    </tr>\n",
       "    <tr>\n",
       "      <th>1</th>\n",
       "      <td>4</td>\n",
       "      <td>0.0</td>\n",
       "      <td>1</td>\n",
       "      <td>1</td>\n",
       "      <td>1</td>\n",
       "      <td>1</td>\n",
       "      <td>0.0</td>\n",
       "      <td>0.0</td>\n",
       "      <td>136657</td>\n",
       "      <td>151468</td>\n",
       "      <td>129869</td>\n",
       "      <td>1813367</td>\n",
       "      <td>1.0</td>\n",
       "      <td>1.0</td>\n",
       "      <td>1.0</td>\n",
       "      <td>1.0</td>\n",
       "      <td>1.0</td>\n",
       "      <td>0.0</td>\n",
       "      <td>0.0</td>\n",
       "      <td>0.0</td>\n",
       "      <td>1.0</td>\n",
       "      <td>0.0</td>\n",
       "      <td>1.0</td>\n",
       "      <td>2815759.0</td>\n",
       "      <td>16429.0</td>\n",
       "      <td>5270.0</td>\n",
       "      <td>5413.0</td>\n",
       "      <td>5206.0</td>\n",
       "      <td>133.462657</td>\n",
       "      <td>0.770520</td>\n",
       "      <td>0.027391</td>\n",
       "      <td>1021.0</td>\n",
       "      <td>1209.0</td>\n",
       "      <td>1033.0</td>\n",
       "      <td>0.0</td>\n",
       "      <td>0.009060</td>\n",
       "      <td>0.038564</td>\n",
       "      <td>0.035737</td>\n",
       "      <td>0.040087</td>\n",
       "      <td>0.193738</td>\n",
       "      <td>0.223351</td>\n",
       "      <td>0.198425</td>\n",
       "    </tr>\n",
       "    <tr>\n",
       "      <th>2</th>\n",
       "      <td>0</td>\n",
       "      <td>0.0</td>\n",
       "      <td>1</td>\n",
       "      <td>1</td>\n",
       "      <td>1</td>\n",
       "      <td>1</td>\n",
       "      <td>0.0</td>\n",
       "      <td>0.0</td>\n",
       "      <td>2799</td>\n",
       "      <td>2883</td>\n",
       "      <td>2463</td>\n",
       "      <td>20322</td>\n",
       "      <td>1.0</td>\n",
       "      <td>1.0</td>\n",
       "      <td>1.0</td>\n",
       "      <td>1.0</td>\n",
       "      <td>1.0</td>\n",
       "      <td>0.0</td>\n",
       "      <td>0.0</td>\n",
       "      <td>0.0</td>\n",
       "      <td>1.0</td>\n",
       "      <td>0.0</td>\n",
       "      <td>1.0</td>\n",
       "      <td>32322.0</td>\n",
       "      <td>240.0</td>\n",
       "      <td>90.0</td>\n",
       "      <td>92.0</td>\n",
       "      <td>85.0</td>\n",
       "      <td>34.900000</td>\n",
       "      <td>0.029500</td>\n",
       "      <td>0.000000</td>\n",
       "      <td>45.0</td>\n",
       "      <td>55.0</td>\n",
       "      <td>49.0</td>\n",
       "      <td>0.0</td>\n",
       "      <td>0.011810</td>\n",
       "      <td>0.032154</td>\n",
       "      <td>0.031911</td>\n",
       "      <td>0.034511</td>\n",
       "      <td>0.500000</td>\n",
       "      <td>0.597826</td>\n",
       "      <td>0.576471</td>\n",
       "    </tr>\n",
       "    <tr>\n",
       "      <th>3</th>\n",
       "      <td>73</td>\n",
       "      <td>1.0</td>\n",
       "      <td>1</td>\n",
       "      <td>1</td>\n",
       "      <td>1</td>\n",
       "      <td>1</td>\n",
       "      <td>0.0</td>\n",
       "      <td>0.0</td>\n",
       "      <td>9564</td>\n",
       "      <td>10386</td>\n",
       "      <td>9338</td>\n",
       "      <td>222150</td>\n",
       "      <td>1.0</td>\n",
       "      <td>1.0</td>\n",
       "      <td>1.0</td>\n",
       "      <td>2.0</td>\n",
       "      <td>1.0</td>\n",
       "      <td>1.0</td>\n",
       "      <td>0.0</td>\n",
       "      <td>0.0</td>\n",
       "      <td>1.0</td>\n",
       "      <td>0.0</td>\n",
       "      <td>1.0</td>\n",
       "      <td>408350.0</td>\n",
       "      <td>5562.0</td>\n",
       "      <td>723.0</td>\n",
       "      <td>737.0</td>\n",
       "      <td>717.0</td>\n",
       "      <td>60.310859</td>\n",
       "      <td>0.528357</td>\n",
       "      <td>0.191837</td>\n",
       "      <td>117.0</td>\n",
       "      <td>151.0</td>\n",
       "      <td>123.0</td>\n",
       "      <td>0.0</td>\n",
       "      <td>0.025037</td>\n",
       "      <td>0.075596</td>\n",
       "      <td>0.070961</td>\n",
       "      <td>0.076783</td>\n",
       "      <td>0.161826</td>\n",
       "      <td>0.204885</td>\n",
       "      <td>0.171548</td>\n",
       "    </tr>\n",
       "    <tr>\n",
       "      <th>4</th>\n",
       "      <td>226</td>\n",
       "      <td>2.0</td>\n",
       "      <td>1</td>\n",
       "      <td>1</td>\n",
       "      <td>1</td>\n",
       "      <td>1</td>\n",
       "      <td>0.0</td>\n",
       "      <td>0.0</td>\n",
       "      <td>17669</td>\n",
       "      <td>19404</td>\n",
       "      <td>12415</td>\n",
       "      <td>429231</td>\n",
       "      <td>1.0</td>\n",
       "      <td>1.0</td>\n",
       "      <td>1.0</td>\n",
       "      <td>1.0</td>\n",
       "      <td>1.0</td>\n",
       "      <td>0.0</td>\n",
       "      <td>3.0</td>\n",
       "      <td>0.0</td>\n",
       "      <td>1.0</td>\n",
       "      <td>0.0</td>\n",
       "      <td>1.0</td>\n",
       "      <td>1577912.0</td>\n",
       "      <td>3730.0</td>\n",
       "      <td>760.0</td>\n",
       "      <td>772.0</td>\n",
       "      <td>680.0</td>\n",
       "      <td>64.489008</td>\n",
       "      <td>3.191399</td>\n",
       "      <td>0.060858</td>\n",
       "      <td>196.0</td>\n",
       "      <td>260.0</td>\n",
       "      <td>162.0</td>\n",
       "      <td>0.0</td>\n",
       "      <td>0.008690</td>\n",
       "      <td>0.043013</td>\n",
       "      <td>0.039786</td>\n",
       "      <td>0.054772</td>\n",
       "      <td>0.257895</td>\n",
       "      <td>0.336788</td>\n",
       "      <td>0.238235</td>\n",
       "    </tr>\n",
       "  </tbody>\n",
       "</table>\n",
       "</div>"
      ],
      "text/plain": [
       "   role_level  net_type  u1  u2  u3  u4   u5   u6      g7      g8      g9  \\\n",
       "0           4       0.0   1   1   1   1  0.0  0.0  136657  151468  129869   \n",
       "1           4       0.0   1   1   1   1  0.0  0.0  136657  151468  129869   \n",
       "2           0       0.0   1   1   1   1  0.0  0.0    2799    2883    2463   \n",
       "3          73       1.0   1   1   1   1  0.0  0.0    9564   10386    9338   \n",
       "4         226       2.0   1   1   1   1  0.0  0.0   17669   19404   12415   \n",
       "\n",
       "       g10  is_create_role  is_create_no  platform  user_type  user_flag  \\\n",
       "0  1813367             1.0           1.0       1.0        1.0        1.0   \n",
       "1  1813367             1.0           1.0       1.0        1.0        1.0   \n",
       "2    20322             1.0           1.0       1.0        1.0        1.0   \n",
       "3   222150             1.0           1.0       1.0        2.0        1.0   \n",
       "4   429231             1.0           1.0       1.0        1.0        1.0   \n",
       "\n",
       "   mobile  game_pay_num  chmoney_pay_num  server_sum  rollsrv   m1         m2  \\\n",
       "0     0.0           0.0              0.0         1.0      0.0  1.0  2815759.0   \n",
       "1     0.0           0.0              0.0         1.0      0.0  1.0  2815759.0   \n",
       "2     0.0           0.0              0.0         1.0      0.0  1.0    32322.0   \n",
       "3     1.0           0.0              0.0         1.0      0.0  1.0   408350.0   \n",
       "4     0.0           3.0              0.0         1.0      0.0  1.0  1577912.0   \n",
       "\n",
       "        p1      p2      p3      p4          p5        p6        p7      p8  \\\n",
       "0  16429.0  5270.0  5413.0  5206.0  133.462657  0.770520  0.027391  1021.0   \n",
       "1  16429.0  5270.0  5413.0  5206.0  133.462657  0.770520  0.027391  1021.0   \n",
       "2    240.0    90.0    92.0    85.0   34.900000  0.029500  0.000000    45.0   \n",
       "3   5562.0   723.0   737.0   717.0   60.310859  0.528357  0.191837   117.0   \n",
       "4   3730.0   760.0   772.0   680.0   64.489008  3.191399  0.060858   196.0   \n",
       "\n",
       "       p9     p10  is_pay        s1        s2        s3        s4        s5  \\\n",
       "0  1209.0  1033.0     0.0  0.009060  0.038564  0.035737  0.040087  0.193738   \n",
       "1  1209.0  1033.0     0.0  0.009060  0.038564  0.035737  0.040087  0.193738   \n",
       "2    55.0    49.0     0.0  0.011810  0.032154  0.031911  0.034511  0.500000   \n",
       "3   151.0   123.0     0.0  0.025037  0.075596  0.070961  0.076783  0.161826   \n",
       "4   260.0   162.0     0.0  0.008690  0.043013  0.039786  0.054772  0.257895   \n",
       "\n",
       "         s6        s7  \n",
       "0  0.223351  0.198425  \n",
       "1  0.223351  0.198425  \n",
       "2  0.597826  0.576471  \n",
       "3  0.204885  0.171548  \n",
       "4  0.336788  0.238235  "
      ]
     },
     "execution_count": 92,
     "metadata": {},
     "output_type": "execute_result"
    }
   ],
   "source": [
    "data.head()"
   ]
  },
  {
   "cell_type": "code",
   "execution_count": 59,
   "metadata": {},
   "outputs": [],
   "source": [
    "# data_test.shape"
   ]
  },
  {
   "cell_type": "code",
   "execution_count": 93,
   "metadata": {
    "scrolled": true
   },
   "outputs": [
    {
     "data": {
      "text/plain": [
       "0.0    389947\n",
       "1.0     15961\n",
       "Name: is_pay, dtype: int64"
      ]
     },
     "execution_count": 93,
     "metadata": {},
     "output_type": "execute_result"
    }
   ],
   "source": [
    "data['is_pay'].value_counts()"
   ]
  },
  {
   "cell_type": "code",
   "execution_count": 6,
   "metadata": {
    "scrolled": true
   },
   "outputs": [],
   "source": [
    "# data_test['is_pay'].value_counts()"
   ]
  },
  {
   "cell_type": "code",
   "execution_count": 94,
   "metadata": {},
   "outputs": [],
   "source": [
    "target = data['is_pay']\n",
    "features = data.drop(['is_pay'], axis=1)"
   ]
  },
  {
   "cell_type": "code",
   "execution_count": 95,
   "metadata": {},
   "outputs": [],
   "source": [
    "target_test = data_test['is_pay']\n",
    "features_test = data_test.drop(['is_pay'], axis=1)"
   ]
  },
  {
   "cell_type": "code",
   "execution_count": 96,
   "metadata": {
    "scrolled": true
   },
   "outputs": [],
   "source": [
    "from imblearn.over_sampling import SMOTE\n",
    "smo = SMOTE(random_state=0, sample)\n",
    "features, target = smo.fit_sample(features, target)"
   ]
  },
  {
   "cell_type": "code",
   "execution_count": 97,
   "metadata": {
    "scrolled": true
   },
   "outputs": [
    {
     "data": {
      "text/plain": [
       "1.0    389947\n",
       "0.0    389947\n",
       "Name: is_pay, dtype: int64"
      ]
     },
     "execution_count": 97,
     "metadata": {},
     "output_type": "execute_result"
    }
   ],
   "source": [
    "target.value_counts()"
   ]
  },
  {
   "cell_type": "code",
   "execution_count": 98,
   "metadata": {},
   "outputs": [
    {
     "name": "stdout",
     "output_type": "stream",
     "text": [
      "[1]\ttraining's auc: 0.910851\tvalid_1's auc: 0.839568\n",
      "Training until validation scores don't improve for 100 rounds\n",
      "[2]\ttraining's auc: 0.935678\tvalid_1's auc: 0.889833\n",
      "[3]\ttraining's auc: 0.932763\tvalid_1's auc: 0.894957\n",
      "[4]\ttraining's auc: 0.937219\tvalid_1's auc: 0.899209\n",
      "[5]\ttraining's auc: 0.939293\tvalid_1's auc: 0.897568\n",
      "[6]\ttraining's auc: 0.942633\tvalid_1's auc: 0.897573\n",
      "[7]\ttraining's auc: 0.944994\tvalid_1's auc: 0.896815\n",
      "[8]\ttraining's auc: 0.945041\tvalid_1's auc: 0.893931\n",
      "[9]\ttraining's auc: 0.944915\tvalid_1's auc: 0.891652\n",
      "[10]\ttraining's auc: 0.946277\tvalid_1's auc: 0.890754\n",
      "[11]\ttraining's auc: 0.945971\tvalid_1's auc: 0.893801\n",
      "[12]\ttraining's auc: 0.946467\tvalid_1's auc: 0.897282\n",
      "[13]\ttraining's auc: 0.94553\tvalid_1's auc: 0.897522\n",
      "[14]\ttraining's auc: 0.946305\tvalid_1's auc: 0.898238\n",
      "[15]\ttraining's auc: 0.945581\tvalid_1's auc: 0.897572\n",
      "[16]\ttraining's auc: 0.944948\tvalid_1's auc: 0.898326\n",
      "[17]\ttraining's auc: 0.944024\tvalid_1's auc: 0.898149\n",
      "[18]\ttraining's auc: 0.943076\tvalid_1's auc: 0.897948\n",
      "[19]\ttraining's auc: 0.945401\tvalid_1's auc: 0.899437\n",
      "[20]\ttraining's auc: 0.94566\tvalid_1's auc: 0.90096\n",
      "[21]\ttraining's auc: 0.945146\tvalid_1's auc: 0.900858\n",
      "[22]\ttraining's auc: 0.946316\tvalid_1's auc: 0.900391\n",
      "[23]\ttraining's auc: 0.946359\tvalid_1's auc: 0.901474\n",
      "[24]\ttraining's auc: 0.946242\tvalid_1's auc: 0.902347\n",
      "[25]\ttraining's auc: 0.945625\tvalid_1's auc: 0.902174\n",
      "[26]\ttraining's auc: 0.945519\tvalid_1's auc: 0.902883\n",
      "[27]\ttraining's auc: 0.946648\tvalid_1's auc: 0.903093\n",
      "[28]\ttraining's auc: 0.948\tvalid_1's auc: 0.903131\n",
      "[29]\ttraining's auc: 0.948382\tvalid_1's auc: 0.902871\n",
      "[30]\ttraining's auc: 0.948296\tvalid_1's auc: 0.903022\n",
      "[31]\ttraining's auc: 0.94795\tvalid_1's auc: 0.90293\n",
      "[32]\ttraining's auc: 0.947806\tvalid_1's auc: 0.903139\n",
      "[33]\ttraining's auc: 0.94742\tvalid_1's auc: 0.903226\n",
      "[34]\ttraining's auc: 0.948342\tvalid_1's auc: 0.903382\n",
      "[35]\ttraining's auc: 0.948023\tvalid_1's auc: 0.903305\n",
      "[36]\ttraining's auc: 0.948797\tvalid_1's auc: 0.903058\n",
      "[37]\ttraining's auc: 0.948654\tvalid_1's auc: 0.90353\n",
      "[38]\ttraining's auc: 0.948376\tvalid_1's auc: 0.903463\n",
      "[39]\ttraining's auc: 0.948265\tvalid_1's auc: 0.90378\n",
      "[40]\ttraining's auc: 0.948467\tvalid_1's auc: 0.903809\n",
      "[41]\ttraining's auc: 0.948622\tvalid_1's auc: 0.903817\n",
      "[42]\ttraining's auc: 0.948735\tvalid_1's auc: 0.903728\n",
      "[43]\ttraining's auc: 0.948549\tvalid_1's auc: 0.90385\n",
      "[44]\ttraining's auc: 0.948303\tvalid_1's auc: 0.903805\n",
      "[45]\ttraining's auc: 0.948057\tvalid_1's auc: 0.903788\n",
      "[46]\ttraining's auc: 0.947808\tvalid_1's auc: 0.903934\n",
      "[47]\ttraining's auc: 0.94798\tvalid_1's auc: 0.903837\n",
      "[48]\ttraining's auc: 0.947905\tvalid_1's auc: 0.904167\n",
      "[49]\ttraining's auc: 0.948287\tvalid_1's auc: 0.903969\n",
      "[50]\ttraining's auc: 0.948052\tvalid_1's auc: 0.903942\n",
      "[51]\ttraining's auc: 0.948189\tvalid_1's auc: 0.903817\n",
      "[52]\ttraining's auc: 0.948111\tvalid_1's auc: 0.904145\n",
      "[53]\ttraining's auc: 0.948308\tvalid_1's auc: 0.903951\n",
      "[54]\ttraining's auc: 0.948402\tvalid_1's auc: 0.903854\n",
      "[55]\ttraining's auc: 0.948336\tvalid_1's auc: 0.904184\n",
      "[56]\ttraining's auc: 0.948238\tvalid_1's auc: 0.904047\n",
      "[57]\ttraining's auc: 0.948249\tvalid_1's auc: 0.903953\n",
      "[58]\ttraining's auc: 0.948061\tvalid_1's auc: 0.903951\n",
      "[59]\ttraining's auc: 0.947857\tvalid_1's auc: 0.903937\n",
      "[60]\ttraining's auc: 0.947822\tvalid_1's auc: 0.904189\n",
      "[61]\ttraining's auc: 0.948077\tvalid_1's auc: 0.904128\n",
      "[62]\ttraining's auc: 0.947913\tvalid_1's auc: 0.904161\n",
      "[63]\ttraining's auc: 0.948022\tvalid_1's auc: 0.904091\n",
      "[64]\ttraining's auc: 0.948115\tvalid_1's auc: 0.904011\n",
      "[65]\ttraining's auc: 0.948268\tvalid_1's auc: 0.903812\n",
      "[66]\ttraining's auc: 0.948126\tvalid_1's auc: 0.903741\n",
      "[67]\ttraining's auc: 0.948327\tvalid_1's auc: 0.903595\n",
      "[68]\ttraining's auc: 0.948131\tvalid_1's auc: 0.903731\n",
      "[69]\ttraining's auc: 0.948277\tvalid_1's auc: 0.903616\n",
      "[70]\ttraining's auc: 0.948231\tvalid_1's auc: 0.903873\n",
      "[71]\ttraining's auc: 0.948361\tvalid_1's auc: 0.903738\n",
      "[72]\ttraining's auc: 0.948407\tvalid_1's auc: 0.9036\n",
      "[73]\ttraining's auc: 0.948459\tvalid_1's auc: 0.90349\n",
      "[74]\ttraining's auc: 0.948749\tvalid_1's auc: 0.903375\n",
      "[75]\ttraining's auc: 0.94869\tvalid_1's auc: 0.903642\n",
      "[76]\ttraining's auc: 0.948588\tvalid_1's auc: 0.903658\n",
      "[77]\ttraining's auc: 0.948515\tvalid_1's auc: 0.903872\n",
      "[78]\ttraining's auc: 0.948488\tvalid_1's auc: 0.903771\n",
      "[79]\ttraining's auc: 0.948443\tvalid_1's auc: 0.904032\n",
      "[80]\ttraining's auc: 0.948661\tvalid_1's auc: 0.903986\n",
      "[81]\ttraining's auc: 0.948773\tvalid_1's auc: 0.903775\n",
      "[82]\ttraining's auc: 0.949072\tvalid_1's auc: 0.903746\n",
      "[83]\ttraining's auc: 0.949007\tvalid_1's auc: 0.903965\n",
      "[84]\ttraining's auc: 0.948952\tvalid_1's auc: 0.904158\n",
      "[85]\ttraining's auc: 0.94891\tvalid_1's auc: 0.904131\n",
      "[86]\ttraining's auc: 0.94881\tvalid_1's auc: 0.904168\n",
      "[87]\ttraining's auc: 0.948688\tvalid_1's auc: 0.904262\n",
      "[88]\ttraining's auc: 0.94871\tvalid_1's auc: 0.904208\n",
      "[89]\ttraining's auc: 0.94888\tvalid_1's auc: 0.90414\n",
      "[90]\ttraining's auc: 0.94877\tvalid_1's auc: 0.904161\n",
      "[91]\ttraining's auc: 0.948833\tvalid_1's auc: 0.904078\n",
      "[92]\ttraining's auc: 0.949189\tvalid_1's auc: 0.904219\n",
      "[93]\ttraining's auc: 0.949136\tvalid_1's auc: 0.904194\n",
      "[94]\ttraining's auc: 0.949182\tvalid_1's auc: 0.904077\n",
      "[95]\ttraining's auc: 0.949201\tvalid_1's auc: 0.904188\n",
      "[96]\ttraining's auc: 0.949176\tvalid_1's auc: 0.90411\n",
      "[97]\ttraining's auc: 0.949054\tvalid_1's auc: 0.904101\n",
      "[98]\ttraining's auc: 0.949163\tvalid_1's auc: 0.903941\n",
      "[99]\ttraining's auc: 0.949112\tvalid_1's auc: 0.903911\n",
      "[100]\ttraining's auc: 0.949016\tvalid_1's auc: 0.903936\n",
      "[101]\ttraining's auc: 0.949116\tvalid_1's auc: 0.903796\n",
      "[102]\ttraining's auc: 0.949042\tvalid_1's auc: 0.903835\n",
      "[103]\ttraining's auc: 0.949131\tvalid_1's auc: 0.903722\n",
      "[104]\ttraining's auc: 0.949457\tvalid_1's auc: 0.903627\n",
      "[105]\ttraining's auc: 0.949536\tvalid_1's auc: 0.903648\n",
      "[106]\ttraining's auc: 0.949617\tvalid_1's auc: 0.903609\n",
      "[107]\ttraining's auc: 0.949693\tvalid_1's auc: 0.903628\n",
      "[108]\ttraining's auc: 0.949713\tvalid_1's auc: 0.903613\n",
      "[109]\ttraining's auc: 0.94975\tvalid_1's auc: 0.903507\n",
      "[110]\ttraining's auc: 0.949845\tvalid_1's auc: 0.903416\n",
      "[111]\ttraining's auc: 0.94986\tvalid_1's auc: 0.903413\n",
      "[112]\ttraining's auc: 0.949909\tvalid_1's auc: 0.903374\n",
      "[113]\ttraining's auc: 0.949946\tvalid_1's auc: 0.903278\n",
      "[114]\ttraining's auc: 0.950025\tvalid_1's auc: 0.903247\n",
      "[115]\ttraining's auc: 0.950037\tvalid_1's auc: 0.903243\n",
      "[116]\ttraining's auc: 0.950106\tvalid_1's auc: 0.903114\n",
      "[117]\ttraining's auc: 0.950177\tvalid_1's auc: 0.902939\n",
      "[118]\ttraining's auc: 0.950242\tvalid_1's auc: 0.902811\n",
      "[119]\ttraining's auc: 0.950257\tvalid_1's auc: 0.902769\n",
      "[120]\ttraining's auc: 0.950316\tvalid_1's auc: 0.902743\n",
      "[121]\ttraining's auc: 0.950374\tvalid_1's auc: 0.902663\n",
      "[122]\ttraining's auc: 0.950424\tvalid_1's auc: 0.902564\n",
      "[123]\ttraining's auc: 0.950381\tvalid_1's auc: 0.902616\n",
      "[124]\ttraining's auc: 0.95046\tvalid_1's auc: 0.902649\n",
      "[125]\ttraining's auc: 0.950514\tvalid_1's auc: 0.902503\n",
      "[126]\ttraining's auc: 0.950554\tvalid_1's auc: 0.902404\n",
      "[127]\ttraining's auc: 0.950601\tvalid_1's auc: 0.902366\n",
      "[128]\ttraining's auc: 0.95063\tvalid_1's auc: 0.902271\n",
      "[129]\ttraining's auc: 0.950615\tvalid_1's auc: 0.902324\n",
      "[130]\ttraining's auc: 0.950636\tvalid_1's auc: 0.90226\n",
      "[131]\ttraining's auc: 0.950813\tvalid_1's auc: 0.902233\n",
      "[132]\ttraining's auc: 0.950845\tvalid_1's auc: 0.902124\n",
      "[133]\ttraining's auc: 0.950906\tvalid_1's auc: 0.902106\n",
      "[134]\ttraining's auc: 0.951174\tvalid_1's auc: 0.902041\n",
      "[135]\ttraining's auc: 0.951432\tvalid_1's auc: 0.901979\n",
      "[136]\ttraining's auc: 0.951449\tvalid_1's auc: 0.901929\n",
      "[137]\ttraining's auc: 0.951416\tvalid_1's auc: 0.902011\n",
      "[138]\ttraining's auc: 0.951656\tvalid_1's auc: 0.902045\n",
      "[139]\ttraining's auc: 0.95169\tvalid_1's auc: 0.901935\n",
      "[140]\ttraining's auc: 0.95213\tvalid_1's auc: 0.901908\n",
      "[141]\ttraining's auc: 0.95207\tvalid_1's auc: 0.902018\n",
      "[142]\ttraining's auc: 0.952253\tvalid_1's auc: 0.902006\n",
      "[143]\ttraining's auc: 0.952268\tvalid_1's auc: 0.901951\n",
      "[144]\ttraining's auc: 0.952291\tvalid_1's auc: 0.901898\n",
      "[145]\ttraining's auc: 0.952274\tvalid_1's auc: 0.901992\n",
      "[146]\ttraining's auc: 0.952308\tvalid_1's auc: 0.901922\n",
      "[147]\ttraining's auc: 0.95235\tvalid_1's auc: 0.901798\n",
      "[148]\ttraining's auc: 0.952333\tvalid_1's auc: 0.901742\n",
      "[149]\ttraining's auc: 0.952328\tvalid_1's auc: 0.90171\n",
      "[150]\ttraining's auc: 0.952336\tvalid_1's auc: 0.901595\n",
      "[151]\ttraining's auc: 0.95239\tvalid_1's auc: 0.901575\n"
     ]
    },
    {
     "name": "stdout",
     "output_type": "stream",
     "text": [
      "[152]\ttraining's auc: 0.952436\tvalid_1's auc: 0.901554\n",
      "[153]\ttraining's auc: 0.95245\tvalid_1's auc: 0.901493\n",
      "[154]\ttraining's auc: 0.952556\tvalid_1's auc: 0.901474\n",
      "[155]\ttraining's auc: 0.952567\tvalid_1's auc: 0.901368\n",
      "[156]\ttraining's auc: 0.952577\tvalid_1's auc: 0.901237\n",
      "[157]\ttraining's auc: 0.952587\tvalid_1's auc: 0.901178\n",
      "[158]\ttraining's auc: 0.952631\tvalid_1's auc: 0.901155\n",
      "[159]\ttraining's auc: 0.952639\tvalid_1's auc: 0.901011\n",
      "[160]\ttraining's auc: 0.952648\tvalid_1's auc: 0.900943\n",
      "[161]\ttraining's auc: 0.952691\tvalid_1's auc: 0.900921\n",
      "[162]\ttraining's auc: 0.952687\tvalid_1's auc: 0.900835\n",
      "[163]\ttraining's auc: 0.952669\tvalid_1's auc: 0.900758\n",
      "[164]\ttraining's auc: 0.952658\tvalid_1's auc: 0.900823\n",
      "[165]\ttraining's auc: 0.95284\tvalid_1's auc: 0.900869\n",
      "[166]\ttraining's auc: 0.952874\tvalid_1's auc: 0.900841\n",
      "[167]\ttraining's auc: 0.952897\tvalid_1's auc: 0.900759\n",
      "[168]\ttraining's auc: 0.952893\tvalid_1's auc: 0.900834\n",
      "[169]\ttraining's auc: 0.952921\tvalid_1's auc: 0.900806\n",
      "[170]\ttraining's auc: 0.953189\tvalid_1's auc: 0.900732\n",
      "[171]\ttraining's auc: 0.953202\tvalid_1's auc: 0.900702\n",
      "[172]\ttraining's auc: 0.953183\tvalid_1's auc: 0.900714\n",
      "[173]\ttraining's auc: 0.953208\tvalid_1's auc: 0.900673\n",
      "[174]\ttraining's auc: 0.953237\tvalid_1's auc: 0.900642\n",
      "[175]\ttraining's auc: 0.953228\tvalid_1's auc: 0.900573\n",
      "[176]\ttraining's auc: 0.953202\tvalid_1's auc: 0.900578\n",
      "[177]\ttraining's auc: 0.953195\tvalid_1's auc: 0.900647\n",
      "[178]\ttraining's auc: 0.953171\tvalid_1's auc: 0.90071\n",
      "[179]\ttraining's auc: 0.953171\tvalid_1's auc: 0.900696\n",
      "[180]\ttraining's auc: 0.953177\tvalid_1's auc: 0.900627\n",
      "[181]\ttraining's auc: 0.953202\tvalid_1's auc: 0.900589\n",
      "[182]\ttraining's auc: 0.953304\tvalid_1's auc: 0.900537\n",
      "[183]\ttraining's auc: 0.953532\tvalid_1's auc: 0.900468\n",
      "[184]\ttraining's auc: 0.953518\tvalid_1's auc: 0.900532\n",
      "[185]\ttraining's auc: 0.953555\tvalid_1's auc: 0.900501\n",
      "[186]\ttraining's auc: 0.953597\tvalid_1's auc: 0.900487\n",
      "[187]\ttraining's auc: 0.953679\tvalid_1's auc: 0.900449\n",
      "Early stopping, best iteration is:\n",
      "[87]\ttraining's auc: 0.948688\tvalid_1's auc: 0.904262\n"
     ]
    }
   ],
   "source": [
    "X_val, x_test, Y_val, y_test = train_test_split(features_test,target_test, test_size=0.5)\n",
    "params = {\n",
    "\"objective\": \"binary\",\n",
    "\"boosting_type\": \"gbdt\",\n",
    "\"learning_rate\": 0.01,\n",
    "\"max_depth\":3,\n",
    "\"num_leaves\":35,\n",
    "\"min_child_samples\":15,\n",
    "\"feature_fraction\": 0.5,\n",
    "\"bagging_fraction\":0.5,\n",
    "\"bagging_freq\":10,\n",
    "\"lambda_l1\":10,\n",
    "\"lambda_l2\":50,\n",
    "\"metric\": \"auc\",\n",
    "}\n",
    "\n",
    "train_data = lgb.Dataset(features, label=target)\n",
    "val_data = lgb.Dataset(X_val, label=Y_val, reference=train_data)\n",
    "model = lgb.train(params, train_data, num_boost_round=2000, early_stopping_rounds=100, valid_sets=[train_data, val_data])"
   ]
  },
  {
   "cell_type": "code",
   "execution_count": 181,
   "metadata": {},
   "outputs": [],
   "source": [
    "# # categorical_features = ['p_model', 'sys_ver', 'net_w', 'sdk_no', 'city']\n",
    "# selected_features = features_list\n",
    "# # selected_features = np.setdiff1d(features_list, categorical_features)\n",
    "# features = data_train[selected_features]\n",
    "# target = data['is_pay']\n",
    "# X_train, x_val, Y_train, y_val = train_test_split(features,target, test_size=0.2)\n",
    "# params = {\n",
    "# \"objective\": \"binary\",\n",
    "# \"boosting_type\": \"gbdt\",\n",
    "# \"learning_rate\": 0.01,\n",
    "# \"max_depth\":3,\n",
    "# \"num_leaves\":35,\n",
    "# \"min_child_samples\":15,\n",
    "# \"feature_fraction\": 0.5,\n",
    "# \"bagging_fraction\":0.5,\n",
    "# \"bagging_freq\":10,\n",
    "# \"lambda_l1\":10,\n",
    "# \"lambda_l2\":50,\n",
    "# \"metric\": \"auc\",\n",
    "# }\n",
    "\n",
    "# train_data = lgb.Dataset(X_train, label=Y_train)\n",
    "# val_data = lgb.Dataset(x_val, label=y_val, reference=train_data)\n",
    "# model = lgb.train(params, train_data, num_boost_round=2000, early_stopping_rounds=100, valid_sets=[train_data, val_data])"
   ]
  },
  {
   "cell_type": "code",
   "execution_count": 10,
   "metadata": {},
   "outputs": [],
   "source": []
  },
  {
   "cell_type": "code",
   "execution_count": 20,
   "metadata": {},
   "outputs": [
    {
     "data": {
      "text/plain": [
       "['./dct.m']"
      ]
     },
     "execution_count": 20,
     "metadata": {},
     "output_type": "execute_result"
    }
   ],
   "source": [
    "# # 决策树模型\n",
    "# from sklearn.tree import DecisionTreeClassifier\n",
    "# import joblib\n",
    "# dtc = DecisionTreeClassifier()\n",
    "# dtc.fit(features, target)\n",
    "# joblib.dump(dtc, './dct.m')"
   ]
  },
  {
   "cell_type": "code",
   "execution_count": 99,
   "metadata": {},
   "outputs": [
    {
     "name": "stdout",
     "output_type": "stream",
     "text": [
      "0.9042624102109589\n"
     ]
    }
   ],
   "source": [
    "y_predict_val = model.predict(X_val)\n",
    "# fpr, tpr = auc(Y_val, y_predict_val)\n",
    "# print(auc(fpr, tpr))\n",
    "auc_score = roc_auc_score(Y_val, y_predict_val)\n",
    "print(auc_score)"
   ]
  },
  {
   "cell_type": "code",
   "execution_count": 100,
   "metadata": {},
   "outputs": [
    {
     "name": "stdout",
     "output_type": "stream",
     "text": [
      "[0.78854091 0.87164143]\n",
      "0.16306806498046472\n",
      "0.7922916218793582\n",
      "0.2747377538254258\n"
     ]
    }
   ],
   "source": [
    "# 测试集上的准确率\n",
    "y_predict_val = model.predict(X_val)\n",
    "sessoin = pd.DataFrame(y_predict_val, columns=['is_pay'])\n",
    "sessoin['is_pay']=sessoin['is_pay'].apply(lambda x:1 if x>=0.5 else 0)\n",
    "y_predict_val = sessoin['is_pay'].values\n",
    "print(recall_score(Y_val, y_predict_val, average=None))\n",
    "print(precision_score(Y_val, y_predict_val))\n",
    "print(accuracy_score(Y_val, y_predict_val))\n",
    "print(f1_score(Y_val, y_predict_val))"
   ]
  },
  {
   "cell_type": "code",
   "execution_count": 101,
   "metadata": {},
   "outputs": [
    {
     "name": "stdout",
     "output_type": "stream",
     "text": [
      "[0.78823978 0.87518213]\n"
     ]
    }
   ],
   "source": [
    "# 测试集上的准确率\n",
    "y_predict_test = model.predict(x_test)\n",
    "sessoin = pd.DataFrame(y_predict_test, columns=['is_pay'])\n",
    "sessoin['is_pay']=sessoin['is_pay'].apply(lambda x:1 if x>=0.5 else 0)\n",
    "y_predict_test = sessoin['is_pay'].values\n",
    "print(recall_score(y_test, y_predict_test, average=None))"
   ]
  },
  {
   "cell_type": "code",
   "execution_count": 102,
   "metadata": {
    "scrolled": true
   },
   "outputs": [
    {
     "name": "stdout",
     "output_type": "stream",
     "text": [
      "0.16426618049225158\n",
      "[0.78823978 0.87518213]\n",
      "0.7921868884809798\n",
      "0.8317109525229142\n",
      "0.2766137078824161\n"
     ]
    }
   ],
   "source": [
    "print(precision_score(y_test, y_predict_test))\n",
    "print(recall_score(y_test, y_predict_test, average=None))\n",
    "print(accuracy_score(y_test, y_predict_test))\n",
    "print(roc_auc_score(y_test, y_predict_test))\n",
    "print(f1_score(y_test, y_predict_test))"
   ]
  },
  {
   "cell_type": "code",
   "execution_count": 30,
   "metadata": {
    "scrolled": false
   },
   "outputs": [
    {
     "data": {
      "text/plain": [
       "<Figure size 864x432 with 0 Axes>"
      ]
     },
     "metadata": {},
     "output_type": "display_data"
    },
    {
     "data": {
      "image/png": "[encoded data removed]",
      "text/plain": [
       "<Figure size 432x288 with 1 Axes>"
      ]
     },
     "metadata": {
      "needs_background": "light"
     },
     "output_type": "display_data"
    }
   ],
   "source": [
    "plt.figure(figsize=(12,6))\n",
    "lgb.plot_importance(model, max_num_features=15)\n",
    "plt.title('Feature Importance')\n",
    "plt.show()"
   ]
  },
  {
   "cell_type": "code",
   "execution_count": 167,
   "metadata": {},
   "outputs": [
    {
     "data": {
      "text/plain": [
       "['./lgb_model_num_2.m']"
      ]
     },
     "execution_count": 167,
     "metadata": {},
     "output_type": "execute_result"
    }
   ],
   "source": [
    "import joblib\n",
    "joblib.dump(model, './lgb_model_num_2.m')"
   ]
  },
  {
   "cell_type": "code",
   "execution_count": null,
   "metadata": {},
   "outputs": [],
   "source": []
  }
 ],
 "metadata": {
  "kernelspec": {
   "display_name": "Python 3",
   "language": "python",
   "name": "python3"
  },
  "language_info": {
   "codemirror_mode": {
    "name": "ipython",
    "version": 3
   },
   "file_extension": ".py",
   "mimetype": "text/x-python",
   "name": "python",
   "nbconvert_exporter": "python",
   "pygments_lexer": "ipython3",
   "version": "3.7.6"
  }
 },
 "nbformat": 4,
 "nbformat_minor": 4
}
