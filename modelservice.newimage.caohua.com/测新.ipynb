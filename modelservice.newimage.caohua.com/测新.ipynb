{
 "cells": [
  {
   "cell_type": "markdown",
   "id": "fe9de926",
   "metadata": {},
   "source": [
    "## 测新 - 脚本       "
   ]
  },
  {
   "cell_type": "code",
   "execution_count": 1,
   "id": "a38104fc",
   "metadata": {
    "ExecuteTime": {
     "end_time": "2022-06-08T03:33:17.672883Z",
     "start_time": "2022-06-08T03:33:16.281946Z"
    }
   },
   "outputs": [],
   "source": [
    "import web\n",
    "import logging\n",
    "import logging.config\n",
    "import pymysql\n",
    "import yaml\n",
    "\n",
    "import pandas as pd\n",
    "import numpy as np\n",
    "\n",
    "from config import *\n",
    "from media_toutiao import TTCreatePlan  # 末日\n",
    "from media_toutiao import TTCreatePlanDg  # 帝国\n",
    "from media_toutiao import TTCreatePlanDdj  # 大东家\n",
    "from media_gdt import GDTCreatePlan  # 末日\n",
    "from media_gdt import GDTCreatePlanDg  # 帝国\n",
    "from media_gdt import GDTCreatePlanSite  # 末日版位\n",
    "\n",
    "from ptom_model import PtomPredictNew"
   ]
  },
  {
   "cell_type": "code",
   "execution_count": 2,
   "id": "b6a96be3",
   "metadata": {
    "ExecuteTime": {
     "end_time": "2022-06-08T03:33:17.679814Z",
     "start_time": "2022-06-08T03:33:17.674893Z"
    }
   },
   "outputs": [],
   "source": [
    "def get_plan_online(plan_result):\n",
    "    \"\"\"[头条]\n",
    "\n",
    "    Args:\n",
    "        plan_result ([dataframe]): [过滤后的新建计划集]]\n",
    "\n",
    "    Returns:\n",
    "        [json]: []\n",
    "    \"\"\"\n",
    "    ad_info = []\n",
    "    for i in range(plan_result.shape[0]):\n",
    "        ad_info.append(json.loads(plan_result.iloc[i].to_json()))\n",
    "    open_api_url_prefix = \"https://ptom.caohua.com/\"\n",
    "    # open_api_url_prefix = \"https://ptom-pre.caohua.com/\"   ## 预发布环境\n",
    "    uri = \"model/generationPlanBatchTask\"\n",
    "    url = open_api_url_prefix + uri\n",
    "    params = {\n",
    "        \"secretkey\": \"abc2018!@**@888\",\n",
    "        \"mediaId\": 10\n",
    "    }\n",
    "    rsp = requests.post(url, json=ad_info, params=params)\n",
    "    rsp_data = rsp.json()\n",
    "    print(\"[INFO]：结束！\")\n",
    "    return rsp_data"
   ]
  },
  {
   "cell_type": "code",
   "execution_count": 3,
   "id": "1f301f27",
   "metadata": {
    "ExecuteTime": {
     "end_time": "2022-06-08T03:33:17.687452Z",
     "start_time": "2022-06-08T03:33:17.682568Z"
    }
   },
   "outputs": [],
   "source": [
    "def get_imageid_tp(image_ids):\n",
    "    \"\"\" 素材名：精准 \"\"\"\n",
    "    image_ids = [str(i) for i in image_ids]\n",
    "    image_ids = ','.join(image_ids)\n",
    "    \n",
    "    conn = pymysql.connect(host='db-slave-modelfenxi-001.ch', port=3306, user='model_read',\n",
    "                           passwd='aZftlm6PcFjN{DxIKOPr)BcutuJd<uYOC0P<8')\n",
    "    cur = conn.cursor(cursor=pymysql.cursors.DictCursor)\n",
    "    sql = '''\n",
    "        SELECT\n",
    "            image_id,\n",
    "            image_name,\n",
    "            label_ids\n",
    "        FROM\n",
    "            db_data_ptom.ptom_image_info\n",
    "        WHERE\n",
    "            image_id IN ({})\n",
    "    '''\n",
    "    cur.execute(sql.format(image_ids))\n",
    "    result = pd.read_sql(sql.format(image_ids), conn)\n",
    "    # 关闭链接\n",
    "    cur.close()\n",
    "    conn.close()\n",
    "    return result"
   ]
  },
  {
   "cell_type": "markdown",
   "id": "74648d00",
   "metadata": {},
   "source": [
    "## 新建计划\n",
    "> 末日：CX = TTCreatePlan()          \n",
    "> 大东家：CX = TTCreatePlanDdj()  "
   ]
  },
  {
   "cell_type": "code",
   "execution_count": 4,
   "id": "7598e287",
   "metadata": {
    "ExecuteTime": {
     "end_time": "2022-06-08T03:33:45.134160Z",
     "start_time": "2022-06-08T03:33:17.689687Z"
    }
   },
   "outputs": [
    {
     "name": "stdout",
     "output_type": "stream",
     "text": [
      "候选计划deep_bid_type分布： BID_PER_ACTION    36\n",
      "Name: deep_bid_type, dtype: int64\n",
      "===================\n",
      "候选计划smart_bid_type分布： SMART_BID_NO_BID    19\n",
      "SMART_BID_CUSTOM    17\n",
      "Name: smart_bid_type, dtype: int64\n",
      "===================\n",
      "候选计划inventory_type分布： [INVENTORY_UNION_SLOT, INVENTORY_AWEME_FEED, INVENTORY_FEED, INVENTORY_UNION_SPLASH_SLOT, INVENTORY_VIDEO_FEED, INVENTORY_HOTSOON_FEED, INVENTORY_TOMATO_NOVEL]    26\n",
      "[INVENTORY_UNION_SLOT]                                                                                                                                              6\n",
      "[INVENTORY_UNION_SLOT, INVENTORY_AWEME_FEED, INVENTORY_FEED, INVENTORY_TOMATO_NOVEL]                                                                                2\n",
      "[INVENTORY_UNION_SLOT, INVENTORY_AWEME_FEED, INVENTORY_FEED]                                                                                                        1\n",
      "[INVENTORY_UNION_SLOT, INVENTORY_AWEME_FEED, INVENTORY_FEED, INVENTORY_HOTSOON_FEED, INVENTORY_VIDEO_FEED, INVENTORY_TOMATO_NOVEL]                                  1\n",
      "Name: inventory_type, dtype: int64\n",
      "===================\n",
      "候选计划title_list分布： [{'title': '智商149卡在了39关，这款游戏太烧脑，你能过几关？', 'creative_word_ids': []}]                                                                                                                                 17\n",
      "[{'title': '这款丧尸游戏注册就送ssr英雄，升级送十连抽！', 'creative_word_ids': []}, {'title': '3分钟上手，5分钟上头，来试试你能过多少关？', 'creative_word_ids': []}, {'title': '智商149卡在了39关，这款游戏太烧脑，你能过几关？', 'creative_word_ids': []}]     4\n",
      "[{'title': '智商149卡在了39关，这款游戏太烧脑，你能过几关？'}]                                                                                                                                                           4\n",
      "[{'title': '已经连续玩了4天，这游戏真的太好玩了！', 'creative_word_ids': []}, {'title': '这游戏谁设计的？蹲厕所玩了2小时，腿都麻了！', 'creative_word_ids': []}, {'title': '智商149卡在了39关，这款游戏太烧脑，你能过几关？', 'creative_word_ids': []}]         3\n",
      "[{'title': '智商149卡在了39关，这款游戏太烧脑，你能过几关？'}, {'title': '朋友被我带入坑，现在玩得比我还猛！'}, {'title': '超级烧脑，智商135挂在49关，能过50关的都不简单！'}]                                                                                 2\n",
      "[{'title': '智商149卡在了39关，这款游戏太烧脑，你能过几关？', 'creative_word_ids': []}, {'title': '这款丧尸游戏注册就送ssr英雄，升级送十连抽！', 'creative_word_ids': []}, {'title': '3分钟上手，5分钟上头，来试试你能过多少关？', 'creative_word_ids': []}]     1\n",
      "[{'title': '无限关卡游戏，休闲不伤脑，能过50关是人才！', 'creative_word_ids': []}]                                                                                                                                      1\n",
      "[{'title': '智商149卡在39关，这游戏太烧脑，你能过几关？', 'creative_word_ids': []}]                                                                                                                                    1\n",
      "[{'title': '闯关+逃生，没WiFi也能玩一天，试试你能过几关？'}, {'title': '这游戏谁设计的？蹲厕所玩了2小时，腿都麻了！'}, {'title': '超级烧脑，智商135挂在49关，能过50关的都不简单！'}]                                                                             1\n",
      "[{'title': '朋友被我带入坑，现在玩得比我还猛！'}, {'title': '这游戏谁设计的？蹲厕所玩了2小时，腿都麻了！'}, {'title': '智商149卡在了39关，这款游戏太烧脑，你能过几关？'}]                                                                                      1\n",
      "Name: title_list, dtype: int64\n",
      "[INFO]: 历史数据提取完毕！\n"
     ]
    }
   ],
   "source": [
    "CX = TTCreatePlan()"
   ]
  },
  {
   "cell_type": "code",
   "execution_count": 5,
   "id": "8d2217ec",
   "metadata": {
    "ExecuteTime": {
     "end_time": "2022-06-08T03:33:48.678733Z",
     "start_time": "2022-06-08T03:33:45.135916Z"
    }
   },
   "outputs": [
    {
     "name": "stdout",
     "output_type": "stream",
     "text": [
      "未建计划素材量: 3\n",
      "3000返新素材量: 8\n",
      "[INFO]：新素材提取完毕！\n",
      "训练数据游戏包分布： 1001703    1615\n",
      "1001772    1128\n",
      "1001447      70\n",
      "1002028      60\n",
      "Name: game_id, dtype: int64\n",
      "训练数据标签分布：  0    2557\n",
      " 1     212\n",
      "-1     104\n",
      "Name: label, dtype: int64\n"
     ]
    },
    {
     "data": {
      "application/vnd.jupyter.widget-view+json": {
       "model_id": "0c21ddab21cb48af90c2817fd5209a6b",
       "version_major": 2,
       "version_minor": 0
      },
      "text/plain": [
       "0it [00:00, ?it/s]"
      ]
     },
     "metadata": {},
     "output_type": "display_data"
    },
    {
     "name": "stdout",
     "output_type": "stream",
     "text": [
      "[LightGBM] [Warning] min_data_in_leaf is set=101, min_child_samples=15 will be ignored. Current value: min_data_in_leaf=101\n",
      "[LightGBM] [Warning] min_data_in_leaf is set=101, min_child_samples=15 will be ignored. Current value: min_data_in_leaf=101\n",
      "[LightGBM] [Info] Number of positive: 151, number of negative: 1787\n",
      "[LightGBM] [Warning] Auto-choosing col-wise multi-threading, the overhead of testing was 0.004178 seconds.\n",
      "You can set `force_col_wise=true` to remove the overhead.\n",
      "[LightGBM] [Info] Total Bins 6887\n",
      "[LightGBM] [Info] Number of data points in the train set: 1938, number of used features: 154\n",
      "[LightGBM] [Warning] min_data_in_leaf is set=101, min_child_samples=15 will be ignored. Current value: min_data_in_leaf=101\n",
      "[LightGBM] [Info] [binary:BoostFromScore]: pavg=0.077915 -> initscore=-2.471014\n",
      "[LightGBM] [Info] Start training from score -2.471014\n",
      "[LightGBM] [Warning] No further splits with positive gain, best gain: -inf\n",
      "[1]\ttraining's auc: 0.617784\tvalid_1's auc: 0.525601\n",
      "Training until validation scores don't improve for 100 rounds\n",
      "[LightGBM] [Warning] No further splits with positive gain, best gain: -inf\n",
      "[2]\ttraining's auc: 0.663567\tvalid_1's auc: 0.539525\n",
      "[LightGBM] [Warning] No further splits with positive gain, best gain: -inf\n",
      "[3]\ttraining's auc: 0.674235\tvalid_1's auc: 0.55577\n",
      "[LightGBM] [Warning] No further splits with positive gain, best gain: -inf\n",
      "[4]\ttraining's auc: 0.682777\tvalid_1's auc: 0.559463\n",
      "[LightGBM] [Warning] No further splits with positive gain, best gain: -inf\n",
      "[5]\ttraining's auc: 0.680981\tvalid_1's auc: 0.559921\n",
      "[LightGBM] [Warning] No further splits with positive gain, best gain: -inf\n",
      "[6]\ttraining's auc: 0.684367\tvalid_1's auc: 0.564413\n",
      "[LightGBM] [Warning] No further splits with positive gain, best gain: -inf\n",
      "[7]\ttraining's auc: 0.687923\tvalid_1's auc: 0.567298\n",
      "[LightGBM] [Warning] No further splits with positive gain, best gain: -inf\n",
      "[8]\ttraining's auc: 0.695496\tvalid_1's auc: 0.569874\n",
      "[LightGBM] [Warning] No further splits with positive gain, best gain: -inf\n",
      "[9]\ttraining's auc: 0.697656\tvalid_1's auc: 0.569449\n",
      "[LightGBM] [Warning] No further splits with positive gain, best gain: -inf\n",
      "[10]\ttraining's auc: 0.695642\tvalid_1's auc: 0.569236\n",
      "[LightGBM] [Warning] No further splits with positive gain, best gain: -inf\n",
      "[11]\ttraining's auc: 0.698292\tvalid_1's auc: 0.560762\n",
      "[LightGBM] [Warning] No further splits with positive gain, best gain: -inf\n",
      "[12]\ttraining's auc: 0.698084\tvalid_1's auc: 0.561805\n",
      "[LightGBM] [Warning] No further splits with positive gain, best gain: -inf\n",
      "[13]\ttraining's auc: 0.699567\tvalid_1's auc: 0.563615\n",
      "[LightGBM] [Warning] No further splits with positive gain, best gain: -inf\n",
      "[14]\ttraining's auc: 0.701709\tvalid_1's auc: 0.564839\n",
      "[LightGBM] [Warning] No further splits with positive gain, best gain: -inf\n",
      "[15]\ttraining's auc: 0.705808\tvalid_1's auc: 0.566085\n",
      "[LightGBM] [Warning] No further splits with positive gain, best gain: -inf\n",
      "[16]\ttraining's auc: 0.709397\tvalid_1's auc: 0.565244\n",
      "[LightGBM] [Warning] No further splits with positive gain, best gain: -inf\n",
      "[17]\ttraining's auc: 0.709621\tvalid_1's auc: 0.564009\n",
      "[LightGBM] [Warning] No further splits with positive gain, best gain: -inf\n",
      "[18]\ttraining's auc: 0.710783\tvalid_1's auc: 0.561699\n",
      "[LightGBM] [Warning] No further splits with positive gain, best gain: -inf\n",
      "[19]\ttraining's auc: 0.71084\tvalid_1's auc: 0.562902\n",
      "[LightGBM] [Warning] No further splits with positive gain, best gain: -inf\n",
      "[20]\ttraining's auc: 0.711504\tvalid_1's auc: 0.565808\n",
      "[LightGBM] [Warning] No further splits with positive gain, best gain: -inf\n",
      "[21]\ttraining's auc: 0.716392\tvalid_1's auc: 0.567\n",
      "[LightGBM] [Warning] No further splits with positive gain, best gain: -inf\n",
      "[22]\ttraining's auc: 0.723502\tvalid_1's auc: 0.568597\n",
      "[LightGBM] [Warning] No further splits with positive gain, best gain: -inf\n",
      "[23]\ttraining's auc: 0.726548\tvalid_1's auc: 0.569491\n",
      "[LightGBM] [Warning] No further splits with positive gain, best gain: -inf\n",
      "[24]\ttraining's auc: 0.728647\tvalid_1's auc: 0.568192\n",
      "[LightGBM] [Warning] No further splits with positive gain, best gain: -inf\n",
      "[25]\ttraining's auc: 0.731191\tvalid_1's auc: 0.56666\n",
      "[LightGBM] [Warning] No further splits with positive gain, best gain: -inf\n",
      "[26]\ttraining's auc: 0.73416\tvalid_1's auc: 0.567053\n",
      "[LightGBM] [Warning] No further splits with positive gain, best gain: -inf\n",
      "[27]\ttraining's auc: 0.735905\tvalid_1's auc: 0.567522\n",
      "[LightGBM] [Warning] No further splits with positive gain, best gain: -inf\n",
      "[28]\ttraining's auc: 0.738451\tvalid_1's auc: 0.568661\n",
      "[LightGBM] [Warning] No further splits with positive gain, best gain: -inf\n",
      "[29]\ttraining's auc: 0.740473\tvalid_1's auc: 0.569789\n",
      "[LightGBM] [Warning] No further splits with positive gain, best gain: -inf\n",
      "[30]\ttraining's auc: 0.741472\tvalid_1's auc: 0.570556\n",
      "[LightGBM] [Warning] No further splits with positive gain, best gain: -inf\n",
      "[31]\ttraining's auc: 0.743256\tvalid_1's auc: 0.571929\n",
      "[LightGBM] [Warning] No further splits with positive gain, best gain: -inf\n",
      "[32]\ttraining's auc: 0.745463\tvalid_1's auc: 0.572504\n",
      "[LightGBM] [Warning] No further splits with positive gain, best gain: -inf\n",
      "[33]\ttraining's auc: 0.746669\tvalid_1's auc: 0.573951\n",
      "[LightGBM] [Warning] No further splits with positive gain, best gain: -inf\n",
      "[34]\ttraining's auc: 0.74716\tvalid_1's auc: 0.576496\n",
      "[LightGBM] [Warning] No further splits with positive gain, best gain: -inf\n",
      "[35]\ttraining's auc: 0.74848\tvalid_1's auc: 0.576751\n",
      "[LightGBM] [Warning] No further splits with positive gain, best gain: -inf\n",
      "[36]\ttraining's auc: 0.749354\tvalid_1's auc: 0.578284\n",
      "[LightGBM] [Warning] No further splits with positive gain, best gain: -inf\n",
      "[37]\ttraining's auc: 0.750485\tvalid_1's auc: 0.579838\n",
      "[LightGBM] [Warning] No further splits with positive gain, best gain: -inf\n",
      "[38]\ttraining's auc: 0.750935\tvalid_1's auc: 0.580839\n",
      "[LightGBM] [Warning] No further splits with positive gain, best gain: -inf\n",
      "[39]\ttraining's auc: 0.750916\tvalid_1's auc: 0.582116\n",
      "[LightGBM] [Warning] No further splits with positive gain, best gain: -inf\n",
      "[40]\ttraining's auc: 0.752851\tvalid_1's auc: 0.582627\n",
      "[LightGBM] [Warning] No further splits with positive gain, best gain: -inf\n",
      "[41]\ttraining's auc: 0.755267\tvalid_1's auc: 0.581701\n",
      "[LightGBM] [Warning] No further splits with positive gain, best gain: -inf\n",
      "[42]\ttraining's auc: 0.757274\tvalid_1's auc: 0.581914\n",
      "[LightGBM] [Warning] No further splits with positive gain, best gain: -inf\n",
      "[43]\ttraining's auc: 0.759347\tvalid_1's auc: 0.581499\n",
      "[LightGBM] [Warning] No further splits with positive gain, best gain: -inf\n",
      "[44]\ttraining's auc: 0.761093\tvalid_1's auc: 0.581488\n",
      "[LightGBM] [Warning] No further splits with positive gain, best gain: -inf\n",
      "[45]\ttraining's auc: 0.76246\tvalid_1's auc: 0.581914\n",
      "[LightGBM] [Warning] No further splits with positive gain, best gain: -inf\n",
      "[46]\ttraining's auc: 0.764389\tvalid_1's auc: 0.582872\n",
      "[LightGBM] [Warning] No further splits with positive gain, best gain: -inf\n",
      "[47]\ttraining's auc: 0.765864\tvalid_1's auc: 0.580786\n",
      "[LightGBM] [Warning] No further splits with positive gain, best gain: -inf\n",
      "[48]\ttraining's auc: 0.767791\tvalid_1's auc: 0.582787\n",
      "[LightGBM] [Warning] No further splits with positive gain, best gain: -inf\n",
      "[49]\ttraining's auc: 0.769477\tvalid_1's auc: 0.581446\n",
      "[LightGBM] [Warning] No further splits with positive gain, best gain: -inf\n",
      "[50]\ttraining's auc: 0.771601\tvalid_1's auc: 0.581584\n",
      "[LightGBM] [Warning] No further splits with positive gain, best gain: -inf\n",
      "[51]\ttraining's auc: 0.77247\tvalid_1's auc: 0.581967\n",
      "[LightGBM] [Warning] No further splits with positive gain, best gain: -inf\n",
      "[52]\ttraining's auc: 0.773019\tvalid_1's auc: 0.582414\n",
      "[LightGBM] [Warning] No further splits with positive gain, best gain: -inf\n",
      "[53]\ttraining's auc: 0.774064\tvalid_1's auc: 0.582521\n",
      "[LightGBM] [Warning] No further splits with positive gain, best gain: -inf\n",
      "[54]\ttraining's auc: 0.774488\tvalid_1's auc: 0.58169\n",
      "[LightGBM] [Warning] No further splits with positive gain, best gain: -inf\n",
      "[55]\ttraining's auc: 0.774973\tvalid_1's auc: 0.58152\n",
      "[LightGBM] [Warning] No further splits with positive gain, best gain: -inf\n",
      "[56]\ttraining's auc: 0.775485\tvalid_1's auc: 0.580945\n",
      "[LightGBM] [Warning] No further splits with positive gain, best gain: -inf\n",
      "[57]\ttraining's auc: 0.776018\tvalid_1's auc: 0.580179\n",
      "[LightGBM] [Warning] No further splits with positive gain, best gain: -inf\n",
      "[58]\ttraining's auc: 0.776467\tvalid_1's auc: 0.581541\n",
      "[LightGBM] [Warning] No further splits with positive gain, best gain: -inf\n",
      "[59]\ttraining's auc: 0.777432\tvalid_1's auc: 0.580434\n",
      "[LightGBM] [Warning] No further splits with positive gain, best gain: -inf\n",
      "[60]\ttraining's auc: 0.778346\tvalid_1's auc: 0.57971\n",
      "[LightGBM] [Warning] No further splits with positive gain, best gain: -inf\n",
      "[61]\ttraining's auc: 0.77938\tvalid_1's auc: 0.578689\n",
      "[LightGBM] [Warning] No further splits with positive gain, best gain: -inf\n",
      "[62]\ttraining's auc: 0.780271\tvalid_1's auc: 0.577283\n",
      "[LightGBM] [Warning] No further splits with positive gain, best gain: -inf\n",
      "[63]\ttraining's auc: 0.781309\tvalid_1's auc: 0.575921\n",
      "[LightGBM] [Warning] No further splits with positive gain, best gain: -inf\n",
      "[64]\ttraining's auc: 0.78145\tvalid_1's auc: 0.574707\n",
      "[LightGBM] [Warning] No further splits with positive gain, best gain: -inf\n",
      "[65]\ttraining's auc: 0.781409\tvalid_1's auc: 0.573749\n",
      "[LightGBM] [Warning] No further splits with positive gain, best gain: -inf\n",
      "[66]\ttraining's auc: 0.782532\tvalid_1's auc: 0.571386\n",
      "[LightGBM] [Warning] No further splits with positive gain, best gain: -inf\n",
      "[67]\ttraining's auc: 0.783156\tvalid_1's auc: 0.570577\n",
      "[LightGBM] [Warning] No further splits with positive gain, best gain: -inf\n",
      "[68]\ttraining's auc: 0.782811\tvalid_1's auc: 0.567532\n",
      "[LightGBM] [Warning] No further splits with positive gain, best gain: -inf\n",
      "[69]\ttraining's auc: 0.782263\tvalid_1's auc: 0.565127\n",
      "[LightGBM] [Warning] No further splits with positive gain, best gain: -inf\n",
      "[70]\ttraining's auc: 0.782085\tvalid_1's auc: 0.565595\n",
      "[LightGBM] [Warning] No further splits with positive gain, best gain: -inf\n",
      "[71]\ttraining's auc: 0.783656\tvalid_1's auc: 0.566681\n",
      "[LightGBM] [Warning] No further splits with positive gain, best gain: -inf\n",
      "[72]\ttraining's auc: 0.78402\tvalid_1's auc: 0.565446\n",
      "[LightGBM] [Warning] No further splits with positive gain, best gain: -inf\n",
      "[73]\ttraining's auc: 0.784007\tvalid_1's auc: 0.565787\n",
      "[LightGBM] [Warning] No further splits with positive gain, best gain: -inf\n",
      "[74]\ttraining's auc: 0.784214\tvalid_1's auc: 0.565084\n",
      "[LightGBM] [Warning] No further splits with positive gain, best gain: -inf\n",
      "[75]\ttraining's auc: 0.78434\tvalid_1's auc: 0.563871\n",
      "[LightGBM] [Warning] No further splits with positive gain, best gain: -inf\n",
      "[76]\ttraining's auc: 0.783888\tvalid_1's auc: 0.562189\n",
      "[LightGBM] [Warning] No further splits with positive gain, best gain: -inf\n",
      "[77]\ttraining's auc: 0.784162\tvalid_1's auc: 0.562103\n",
      "[LightGBM] [Warning] No further splits with positive gain, best gain: -inf\n",
      "[78]\ttraining's auc: 0.784731\tvalid_1's auc: 0.561124\n",
      "[LightGBM] [Warning] No further splits with positive gain, best gain: -inf\n",
      "[79]\ttraining's auc: 0.784928\tvalid_1's auc: 0.559762\n",
      "[LightGBM] [Warning] No further splits with positive gain, best gain: -inf\n",
      "[80]\ttraining's auc: 0.786362\tvalid_1's auc: 0.559102\n",
      "[LightGBM] [Warning] No further splits with positive gain, best gain: -inf\n",
      "[81]\ttraining's auc: 0.786669\tvalid_1's auc: 0.560358\n",
      "[LightGBM] [Warning] No further splits with positive gain, best gain: -inf\n",
      "[82]\ttraining's auc: 0.787418\tvalid_1's auc: 0.56106\n",
      "[LightGBM] [Warning] No further splits with positive gain, best gain: -inf\n",
      "[83]\ttraining's auc: 0.787637\tvalid_1's auc: 0.561763\n",
      "[LightGBM] [Warning] No further splits with positive gain, best gain: -inf\n",
      "[84]\ttraining's auc: 0.788637\tvalid_1's auc: 0.560741\n",
      "[LightGBM] [Warning] No further splits with positive gain, best gain: -inf\n",
      "[85]\ttraining's auc: 0.789425\tvalid_1's auc: 0.560698\n",
      "[LightGBM] [Warning] No further splits with positive gain, best gain: -inf\n",
      "[86]\ttraining's auc: 0.789443\tvalid_1's auc: 0.56221\n",
      "[LightGBM] [Warning] No further splits with positive gain, best gain: -inf\n",
      "[87]\ttraining's auc: 0.789569\tvalid_1's auc: 0.563487\n",
      "[LightGBM] [Warning] No further splits with positive gain, best gain: -inf\n",
      "[88]\ttraining's auc: 0.791248\tvalid_1's auc: 0.564445\n",
      "[LightGBM] [Warning] No further splits with positive gain, best gain: -inf\n",
      "[89]\ttraining's auc: 0.792152\tvalid_1's auc: 0.564318\n",
      "[LightGBM] [Warning] No further splits with positive gain, best gain: -inf\n",
      "[90]\ttraining's auc: 0.792108\tvalid_1's auc: 0.564829\n",
      "[LightGBM] [Warning] No further splits with positive gain, best gain: -inf\n",
      "[91]\ttraining's auc: 0.792593\tvalid_1's auc: 0.564871\n",
      "[LightGBM] [Warning] No further splits with positive gain, best gain: -inf\n",
      "[92]\ttraining's auc: 0.792593\tvalid_1's auc: 0.565148\n",
      "[LightGBM] [Warning] No further splits with positive gain, best gain: -inf\n",
      "[93]\ttraining's auc: 0.794528\tvalid_1's auc: 0.564371\n"
     ]
    },
    {
     "name": "stdout",
     "output_type": "stream",
     "text": [
      "[LightGBM] [Warning] No further splits with positive gain, best gain: -inf\n",
      "[94]\ttraining's auc: 0.794498\tvalid_1's auc: 0.56303\n",
      "[LightGBM] [Warning] No further splits with positive gain, best gain: -inf\n",
      "[95]\ttraining's auc: 0.79452\tvalid_1's auc: 0.564073\n",
      "[LightGBM] [Warning] No further splits with positive gain, best gain: -inf\n",
      "[96]\ttraining's auc: 0.795895\tvalid_1's auc: 0.563626\n",
      "[LightGBM] [Warning] No further splits with positive gain, best gain: -inf\n",
      "[97]\ttraining's auc: 0.795751\tvalid_1's auc: 0.564222\n",
      "[LightGBM] [Warning] No further splits with positive gain, best gain: -inf\n",
      "[98]\ttraining's auc: 0.797\tvalid_1's auc: 0.563455\n",
      "[LightGBM] [Warning] No further splits with positive gain, best gain: -inf\n",
      "[99]\ttraining's auc: 0.796944\tvalid_1's auc: 0.563966\n",
      "[LightGBM] [Warning] No further splits with positive gain, best gain: -inf\n",
      "[100]\ttraining's auc: 0.797085\tvalid_1's auc: 0.564243\n",
      "[LightGBM] [Warning] No further splits with positive gain, best gain: -inf\n",
      "[101]\ttraining's auc: 0.797967\tvalid_1's auc: 0.563732\n",
      "[LightGBM] [Warning] No further splits with positive gain, best gain: -inf\n",
      "[102]\ttraining's auc: 0.798949\tvalid_1's auc: 0.564392\n",
      "[LightGBM] [Warning] No further splits with positive gain, best gain: -inf\n",
      "[103]\ttraining's auc: 0.800063\tvalid_1's auc: 0.564499\n",
      "[LightGBM] [Warning] No further splits with positive gain, best gain: -inf\n",
      "[104]\ttraining's auc: 0.8006\tvalid_1's auc: 0.564328\n",
      "[LightGBM] [Warning] No further splits with positive gain, best gain: -inf\n",
      "[105]\ttraining's auc: 0.801145\tvalid_1's auc: 0.564254\n",
      "[LightGBM] [Warning] No further splits with positive gain, best gain: -inf\n",
      "[106]\ttraining's auc: 0.801942\tvalid_1's auc: 0.564573\n",
      "[LightGBM] [Warning] No further splits with positive gain, best gain: -inf\n",
      "[107]\ttraining's auc: 0.801903\tvalid_1's auc: 0.564413\n",
      "[LightGBM] [Warning] No further splits with positive gain, best gain: -inf\n",
      "[108]\ttraining's auc: 0.802549\tvalid_1's auc: 0.565393\n",
      "[LightGBM] [Warning] No further splits with positive gain, best gain: -inf\n",
      "[109]\ttraining's auc: 0.803068\tvalid_1's auc: 0.565882\n",
      "[LightGBM] [Warning] No further splits with positive gain, best gain: -inf\n",
      "[110]\ttraining's auc: 0.803754\tvalid_1's auc: 0.566457\n",
      "[LightGBM] [Warning] No further splits with positive gain, best gain: -inf\n",
      "[111]\ttraining's auc: 0.804656\tvalid_1's auc: 0.566883\n",
      "[LightGBM] [Warning] No further splits with positive gain, best gain: -inf\n",
      "[112]\ttraining's auc: 0.804942\tvalid_1's auc: 0.567586\n",
      "[LightGBM] [Warning] No further splits with positive gain, best gain: -inf\n",
      "[113]\ttraining's auc: 0.805705\tvalid_1's auc: 0.566457\n",
      "[LightGBM] [Warning] No further splits with positive gain, best gain: -inf\n",
      "[114]\ttraining's auc: 0.805749\tvalid_1's auc: 0.564882\n",
      "[LightGBM] [Warning] No further splits with positive gain, best gain: -inf\n",
      "[115]\ttraining's auc: 0.805564\tvalid_1's auc: 0.564073\n",
      "[LightGBM] [Warning] No further splits with positive gain, best gain: -inf\n",
      "[116]\ttraining's auc: 0.805668\tvalid_1's auc: 0.564371\n",
      "[LightGBM] [Warning] No further splits with positive gain, best gain: -inf\n",
      "[117]\ttraining's auc: 0.805757\tvalid_1's auc: 0.563455\n",
      "[LightGBM] [Warning] No further splits with positive gain, best gain: -inf\n",
      "[118]\ttraining's auc: 0.80632\tvalid_1's auc: 0.564158\n",
      "[LightGBM] [Warning] No further splits with positive gain, best gain: -inf\n",
      "[119]\ttraining's auc: 0.806357\tvalid_1's auc: 0.563392\n",
      "[LightGBM] [Warning] No further splits with positive gain, best gain: -inf\n",
      "[120]\ttraining's auc: 0.806472\tvalid_1's auc: 0.562838\n",
      "[LightGBM] [Warning] No further splits with positive gain, best gain: -inf\n",
      "[121]\ttraining's auc: 0.806528\tvalid_1's auc: 0.56303\n",
      "[LightGBM] [Warning] No further splits with positive gain, best gain: -inf\n",
      "[122]\ttraining's auc: 0.806383\tvalid_1's auc: 0.561901\n",
      "[LightGBM] [Warning] No further splits with positive gain, best gain: -inf\n",
      "[123]\ttraining's auc: 0.806135\tvalid_1's auc: 0.56237\n",
      "[LightGBM] [Warning] No further splits with positive gain, best gain: -inf\n",
      "[124]\ttraining's auc: 0.805994\tvalid_1's auc: 0.560752\n",
      "[LightGBM] [Warning] No further splits with positive gain, best gain: -inf\n",
      "[125]\ttraining's auc: 0.806205\tvalid_1's auc: 0.562178\n",
      "[LightGBM] [Warning] No further splits with positive gain, best gain: -inf\n",
      "[126]\ttraining's auc: 0.805575\tvalid_1's auc: 0.561731\n",
      "[LightGBM] [Warning] No further splits with positive gain, best gain: -inf\n",
      "[127]\ttraining's auc: 0.805783\tvalid_1's auc: 0.561965\n",
      "[LightGBM] [Warning] No further splits with positive gain, best gain: -inf\n",
      "[128]\ttraining's auc: 0.805631\tvalid_1's auc: 0.56122\n",
      "[LightGBM] [Warning] No further splits with positive gain, best gain: -inf\n",
      "[129]\ttraining's auc: 0.805975\tvalid_1's auc: 0.561369\n",
      "[LightGBM] [Warning] No further splits with positive gain, best gain: -inf\n",
      "[130]\ttraining's auc: 0.806261\tvalid_1's auc: 0.561603\n",
      "[LightGBM] [Warning] No further splits with positive gain, best gain: -inf\n",
      "[131]\ttraining's auc: 0.806053\tvalid_1's auc: 0.561454\n",
      "[LightGBM] [Warning] No further splits with positive gain, best gain: -inf\n",
      "[132]\ttraining's auc: 0.805953\tvalid_1's auc: 0.56171\n",
      "[LightGBM] [Warning] No further splits with positive gain, best gain: -inf\n",
      "[133]\ttraining's auc: 0.805905\tvalid_1's auc: 0.561837\n",
      "[LightGBM] [Warning] No further splits with positive gain, best gain: -inf\n",
      "[134]\ttraining's auc: 0.806368\tvalid_1's auc: 0.560837\n",
      "[LightGBM] [Warning] No further splits with positive gain, best gain: -inf\n",
      "[135]\ttraining's auc: 0.806342\tvalid_1's auc: 0.561028\n",
      "[LightGBM] [Warning] No further splits with positive gain, best gain: -inf\n",
      "[136]\ttraining's auc: 0.806216\tvalid_1's auc: 0.560794\n",
      "[LightGBM] [Warning] No further splits with positive gain, best gain: -inf\n",
      "[137]\ttraining's auc: 0.806505\tvalid_1's auc: 0.561177\n",
      "[LightGBM] [Warning] No further splits with positive gain, best gain: -inf\n",
      "[138]\ttraining's auc: 0.806698\tvalid_1's auc: 0.561305\n",
      "[LightGBM] [Warning] No further splits with positive gain, best gain: -inf\n",
      "[139]\ttraining's auc: 0.807384\tvalid_1's auc: 0.561986\n",
      "[LightGBM] [Warning] No further splits with positive gain, best gain: -inf\n",
      "[140]\ttraining's auc: 0.807943\tvalid_1's auc: 0.562391\n",
      "[LightGBM] [Warning] No further splits with positive gain, best gain: -inf\n",
      "[141]\ttraining's auc: 0.808336\tvalid_1's auc: 0.563285\n",
      "[LightGBM] [Warning] No further splits with positive gain, best gain: -inf\n",
      "[142]\ttraining's auc: 0.809014\tvalid_1's auc: 0.563711\n",
      "[LightGBM] [Warning] No further splits with positive gain, best gain: -inf\n",
      "[143]\ttraining's auc: 0.809385\tvalid_1's auc: 0.563541\n",
      "[LightGBM] [Warning] No further splits with positive gain, best gain: -inf\n",
      "[144]\ttraining's auc: 0.809355\tvalid_1's auc: 0.562859\n",
      "[LightGBM] [Warning] No further splits with positive gain, best gain: -inf\n",
      "[145]\ttraining's auc: 0.809748\tvalid_1's auc: 0.562987\n",
      "[LightGBM] [Warning] No further splits with positive gain, best gain: -inf\n",
      "[146]\ttraining's auc: 0.810541\tvalid_1's auc: 0.564158\n",
      "Early stopping, best iteration is:\n",
      "[46]\ttraining's auc: 0.764389\tvalid_1's auc: 0.582872\n",
      "[INFO]: 实时计划训练完毕！\n",
      "[INFO]: 源计划组合完毕！\n",
      "    ad_account_id  game_id  image_id\n",
      "0           11600  1001703     46542\n",
      "1           11599  1001703     46561\n",
      "2           11598  1001703     46478\n",
      "30          11597  1001703     46477\n",
      "59          11596  1001703     46560\n",
      "[INFO]: 5条新计划创建完毕！\n"
     ]
    }
   ],
   "source": [
    "plan_result = CX.Process()"
   ]
  },
  {
   "cell_type": "code",
   "execution_count": 6,
   "id": "7b1a7680",
   "metadata": {
    "ExecuteTime": {
     "end_time": "2022-06-08T03:33:48.709705Z",
     "start_time": "2022-06-08T03:33:48.680675Z"
    }
   },
   "outputs": [
    {
     "name": "stdout",
     "output_type": "stream",
     "text": [
      "(5, 42)\n"
     ]
    },
    {
     "data": {
      "text/html": [
       "<div>\n",
       "<style scoped>\n",
       "    .dataframe tbody tr th:only-of-type {\n",
       "        vertical-align: middle;\n",
       "    }\n",
       "\n",
       "    .dataframe tbody tr th {\n",
       "        vertical-align: top;\n",
       "    }\n",
       "\n",
       "    .dataframe thead th {\n",
       "        text-align: right;\n",
       "    }\n",
       "</style>\n",
       "<table border=\"1\" class=\"dataframe\">\n",
       "  <thead>\n",
       "    <tr style=\"text-align: right;\">\n",
       "      <th></th>\n",
       "      <th>ad_account_id</th>\n",
       "      <th>game_id</th>\n",
       "      <th>image_id</th>\n",
       "      <th>deep_bid_type</th>\n",
       "      <th>cpa_bid</th>\n",
       "      <th>smart_bid_type</th>\n",
       "      <th>inventory_type</th>\n",
       "      <th>title_list</th>\n",
       "    </tr>\n",
       "  </thead>\n",
       "  <tbody>\n",
       "    <tr>\n",
       "      <th>0</th>\n",
       "      <td>11600</td>\n",
       "      <td>1001703</td>\n",
       "      <td>46542</td>\n",
       "      <td>BID_PER_ACTION</td>\n",
       "      <td>683.73</td>\n",
       "      <td>SMART_BID_CUSTOM</td>\n",
       "      <td>[]</td>\n",
       "      <td>[{'title': '智商149卡在了39关，这款游戏太烧脑，你能过几关？'}]</td>\n",
       "    </tr>\n",
       "    <tr>\n",
       "      <th>1</th>\n",
       "      <td>11599</td>\n",
       "      <td>1001703</td>\n",
       "      <td>46561</td>\n",
       "      <td>BID_PER_ACTION</td>\n",
       "      <td>1236.45</td>\n",
       "      <td>SMART_BID_NO_BID</td>\n",
       "      <td>[]</td>\n",
       "      <td>[{'title': '闯关+逃生，没WiFi也能玩一天，试试你能过几关？'}, {'tit...</td>\n",
       "    </tr>\n",
       "    <tr>\n",
       "      <th>2</th>\n",
       "      <td>11598</td>\n",
       "      <td>1001703</td>\n",
       "      <td>46478</td>\n",
       "      <td>BID_PER_ACTION</td>\n",
       "      <td>839.81</td>\n",
       "      <td>SMART_BID_CUSTOM</td>\n",
       "      <td>[]</td>\n",
       "      <td>[{'title': '这款丧尸游戏注册就送ssr英雄，升级送十连抽！', 'creativ...</td>\n",
       "    </tr>\n",
       "    <tr>\n",
       "      <th>30</th>\n",
       "      <td>11597</td>\n",
       "      <td>1001703</td>\n",
       "      <td>46477</td>\n",
       "      <td>BID_PER_ACTION</td>\n",
       "      <td>360.88</td>\n",
       "      <td>SMART_BID_NO_BID</td>\n",
       "      <td>[]</td>\n",
       "      <td>[{'title': '智商149卡在了39关，这款游戏太烧脑，你能过几关？', 'crea...</td>\n",
       "    </tr>\n",
       "    <tr>\n",
       "      <th>59</th>\n",
       "      <td>11596</td>\n",
       "      <td>1001703</td>\n",
       "      <td>46560</td>\n",
       "      <td>BID_PER_ACTION</td>\n",
       "      <td>360.88</td>\n",
       "      <td>SMART_BID_NO_BID</td>\n",
       "      <td>[]</td>\n",
       "      <td>[{'title': '智商149卡在了39关，这款游戏太烧脑，你能过几关？', 'crea...</td>\n",
       "    </tr>\n",
       "  </tbody>\n",
       "</table>\n",
       "</div>"
      ],
      "text/plain": [
       "    ad_account_id  game_id  image_id   deep_bid_type  cpa_bid  \\\n",
       "0           11600  1001703     46542  BID_PER_ACTION   683.73   \n",
       "1           11599  1001703     46561  BID_PER_ACTION  1236.45   \n",
       "2           11598  1001703     46478  BID_PER_ACTION   839.81   \n",
       "30          11597  1001703     46477  BID_PER_ACTION   360.88   \n",
       "59          11596  1001703     46560  BID_PER_ACTION   360.88   \n",
       "\n",
       "      smart_bid_type inventory_type  \\\n",
       "0   SMART_BID_CUSTOM             []   \n",
       "1   SMART_BID_NO_BID             []   \n",
       "2   SMART_BID_CUSTOM             []   \n",
       "30  SMART_BID_NO_BID             []   \n",
       "59  SMART_BID_NO_BID             []   \n",
       "\n",
       "                                           title_list  \n",
       "0           [{'title': '智商149卡在了39关，这款游戏太烧脑，你能过几关？'}]  \n",
       "1   [{'title': '闯关+逃生，没WiFi也能玩一天，试试你能过几关？'}, {'tit...  \n",
       "2   [{'title': '这款丧尸游戏注册就送ssr英雄，升级送十连抽！', 'creativ...  \n",
       "30  [{'title': '智商149卡在了39关，这款游戏太烧脑，你能过几关？', 'crea...  \n",
       "59  [{'title': '智商149卡在了39关，这款游戏太烧脑，你能过几关？', 'crea...  "
      ]
     },
     "execution_count": 6,
     "metadata": {},
     "output_type": "execute_result"
    }
   ],
   "source": [
    "print(plan_result.shape)\n",
    "plan_result[['ad_account_id','game_id','image_id','deep_bid_type','cpa_bid','smart_bid_type','inventory_type','title_list']]"
   ]
  },
  {
   "cell_type": "code",
   "execution_count": 14,
   "id": "987d3956",
   "metadata": {
    "ExecuteTime": {
     "end_time": "2022-06-08T03:34:43.276641Z",
     "start_time": "2022-06-08T03:34:43.191108Z"
    }
   },
   "outputs": [
    {
     "name": "stdout",
     "output_type": "stream",
     "text": [
      "[INFO]：结束！\n"
     ]
    },
    {
     "data": {
      "text/plain": [
       "{'code': 200, 'data': True, 'msg': ''}"
      ]
     },
     "execution_count": 14,
     "metadata": {},
     "output_type": "execute_result"
    }
   ],
   "source": [
    "# import json\n",
    "# import requests\n",
    "# get_plan_online(plan_result)"
   ]
  },
  {
   "cell_type": "code",
   "execution_count": 8,
   "id": "bd2e90fc",
   "metadata": {
    "ExecuteTime": {
     "end_time": "2022-06-08T03:33:48.951807Z",
     "start_time": "2022-06-08T03:33:48.721035Z"
    }
   },
   "outputs": [
    {
     "data": {
      "text/html": [
       "<div>\n",
       "<style scoped>\n",
       "    .dataframe tbody tr th:only-of-type {\n",
       "        vertical-align: middle;\n",
       "    }\n",
       "\n",
       "    .dataframe tbody tr th {\n",
       "        vertical-align: top;\n",
       "    }\n",
       "\n",
       "    .dataframe thead th {\n",
       "        text-align: right;\n",
       "    }\n",
       "</style>\n",
       "<table border=\"1\" class=\"dataframe\">\n",
       "  <thead>\n",
       "    <tr style=\"text-align: right;\">\n",
       "      <th></th>\n",
       "      <th>image_id</th>\n",
       "      <th>image_name</th>\n",
       "      <th>label_ids</th>\n",
       "    </tr>\n",
       "  </thead>\n",
       "  <tbody>\n",
       "    <tr>\n",
       "      <th>0</th>\n",
       "      <td>46477</td>\n",
       "      <td>SSR5400-竖版（2D外部混剪）ZM</td>\n",
       "      <td>301,277</td>\n",
       "    </tr>\n",
       "    <tr>\n",
       "      <th>1</th>\n",
       "      <td>46478</td>\n",
       "      <td>SSR5401-竖版（2D外部混剪）ZM</td>\n",
       "      <td>277,301</td>\n",
       "    </tr>\n",
       "    <tr>\n",
       "      <th>2</th>\n",
       "      <td>46542</td>\n",
       "      <td>SSR5407-横版（3D混剪）JQ</td>\n",
       "      <td>20</td>\n",
       "    </tr>\n",
       "    <tr>\n",
       "      <th>3</th>\n",
       "      <td>46560</td>\n",
       "      <td>SSR5410-横版（3D混剪）RKQ</td>\n",
       "      <td>20,235</td>\n",
       "    </tr>\n",
       "    <tr>\n",
       "      <th>4</th>\n",
       "      <td>46561</td>\n",
       "      <td>SSR5409-横版（3D混剪）RKQ</td>\n",
       "      <td>277,301</td>\n",
       "    </tr>\n",
       "  </tbody>\n",
       "</table>\n",
       "</div>"
      ],
      "text/plain": [
       "   image_id            image_name label_ids\n",
       "0     46477  SSR5400-竖版（2D外部混剪）ZM   301,277\n",
       "1     46478  SSR5401-竖版（2D外部混剪）ZM   277,301\n",
       "2     46542    SSR5407-横版（3D混剪）JQ        20\n",
       "3     46560   SSR5410-横版（3D混剪）RKQ    20,235\n",
       "4     46561   SSR5409-横版（3D混剪）RKQ   277,301"
      ]
     },
     "execution_count": 8,
     "metadata": {},
     "output_type": "execute_result"
    }
   ],
   "source": [
    "get_imageid_tp(plan_result['image_id'])"
   ]
  },
  {
   "cell_type": "markdown",
   "id": "1258c697",
   "metadata": {},
   "source": [
    "## 复制计划\n",
    "> CX = PtomPredictNew()        "
   ]
  },
  {
   "cell_type": "code",
   "execution_count": 9,
   "id": "0d11c67c",
   "metadata": {
    "ExecuteTime": {
     "end_time": "2022-06-08T03:33:48.956483Z",
     "start_time": "2022-06-08T03:33:48.953803Z"
    }
   },
   "outputs": [],
   "source": [
    "PCP = PtomPredictNew()"
   ]
  },
  {
   "cell_type": "code",
   "execution_count": 10,
   "id": "db639089",
   "metadata": {
    "ExecuteTime": {
     "end_time": "2022-06-08T03:33:48.970361Z",
     "start_time": "2022-06-08T03:33:48.958854Z"
    }
   },
   "outputs": [],
   "source": [
    "action = 'plan_pay_copy'\n",
    "media = '头条'\n",
    "game = '末日'"
   ]
  },
  {
   "cell_type": "code",
   "execution_count": 11,
   "id": "0b4fb6a2",
   "metadata": {
    "ExecuteTime": {
     "end_time": "2022-06-08T03:33:48.977780Z",
     "start_time": "2022-06-08T03:33:48.972281Z"
    }
   },
   "outputs": [],
   "source": [
    "# copy_result, ret = PCP.Process(action, media, game)"
   ]
  },
  {
   "cell_type": "code",
   "execution_count": 12,
   "id": "e95fde26",
   "metadata": {
    "ExecuteTime": {
     "end_time": "2022-06-08T03:33:49.090826Z",
     "start_time": "2022-06-08T03:33:48.980063Z"
    }
   },
   "outputs": [
    {
     "ename": "NameError",
     "evalue": "name 'copy_result' is not defined",
     "output_type": "error",
     "traceback": [
      "\u001b[0;31m---------------------------------------------------------------------------\u001b[0m",
      "\u001b[0;31mNameError\u001b[0m                                 Traceback (most recent call last)",
      "\u001b[0;32m<ipython-input-12-72b689db251a>\u001b[0m in \u001b[0;36m<module>\u001b[0;34m\u001b[0m\n\u001b[0;32m----> 1\u001b[0;31m \u001b[0mprint\u001b[0m\u001b[0;34m(\u001b[0m\u001b[0mcopy_result\u001b[0m\u001b[0;34m.\u001b[0m\u001b[0mshape\u001b[0m\u001b[0;34m)\u001b[0m\u001b[0;34m\u001b[0m\u001b[0;34m\u001b[0m\u001b[0m\n\u001b[0m\u001b[1;32m      2\u001b[0m \u001b[0mcopy_result\u001b[0m\u001b[0;34m[\u001b[0m\u001b[0;34m[\u001b[0m\u001b[0;34m'ad_account_id'\u001b[0m\u001b[0;34m,\u001b[0m\u001b[0;34m'game_id'\u001b[0m\u001b[0;34m,\u001b[0m\u001b[0;34m'image_id'\u001b[0m\u001b[0;34m,\u001b[0m\u001b[0;34m'deep_bid_type'\u001b[0m\u001b[0;34m,\u001b[0m\u001b[0;34m'cpa_bid'\u001b[0m\u001b[0;34m,\u001b[0m\u001b[0;34m'smart_bid_type'\u001b[0m\u001b[0;34m,\u001b[0m\u001b[0;34m'inventory_type'\u001b[0m\u001b[0;34m]\u001b[0m\u001b[0;34m]\u001b[0m\u001b[0;34m\u001b[0m\u001b[0;34m\u001b[0m\u001b[0m\n",
      "\u001b[0;31mNameError\u001b[0m: name 'copy_result' is not defined"
     ]
    }
   ],
   "source": [
    "print(copy_result.shape)\n",
    "copy_result[['ad_account_id','game_id','image_id','deep_bid_type','cpa_bid','smart_bid_type','inventory_type']]"
   ]
  },
  {
   "cell_type": "code",
   "execution_count": null,
   "id": "ac4647ba",
   "metadata": {
    "ExecuteTime": {
     "end_time": "2022-06-08T03:33:49.093678Z",
     "start_time": "2022-06-08T03:33:17.731Z"
    }
   },
   "outputs": [],
   "source": [
    "# import json\n",
    "# import requests\n",
    "# get_plan_online(copy_result)"
   ]
  },
  {
   "cell_type": "code",
   "execution_count": null,
   "id": "bd5810b4",
   "metadata": {
    "ExecuteTime": {
     "end_time": "2022-06-08T03:33:49.095034Z",
     "start_time": "2022-06-08T03:33:17.732Z"
    }
   },
   "outputs": [],
   "source": [
    "get_imageid_tp(copy_result['image_id'])"
   ]
  }
 ],
 "metadata": {
  "kernelspec": {
   "display_name": "Python 3",
   "language": "python",
   "name": "python3"
  },
  "language_info": {
   "codemirror_mode": {
    "name": "ipython",
    "version": 3
   },
   "file_extension": ".py",
   "mimetype": "text/x-python",
   "name": "python",
   "nbconvert_exporter": "python",
   "pygments_lexer": "ipython3",
   "version": "3.7.2"
  },
  "toc": {
   "base_numbering": 1,
   "nav_menu": {},
   "number_sections": true,
   "sideBar": true,
   "skip_h1_title": false,
   "title_cell": "Table of Contents",
   "title_sidebar": "Contents",
   "toc_cell": false,
   "toc_position": {},
   "toc_section_display": true,
   "toc_window_display": true
  }
 },
 "nbformat": 4,
 "nbformat_minor": 5
}
