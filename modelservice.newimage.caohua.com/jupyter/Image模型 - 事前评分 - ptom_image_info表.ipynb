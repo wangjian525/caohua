{
 "cells": [
  {
   "cell_type": "markdown",
   "id": "25646f34",
   "metadata": {},
   "source": [
    "# 自动化新素材评分 - 事后模型\n",
    "* 目的：自动化新素材的评分流程；\n",
    "* 思路：考虑计划指定的 策略+定向 的影响，选择相关素材下的计划上线情况对素材进行打分；"
   ]
  },
  {
   "cell_type": "code",
   "execution_count": 90,
   "id": "c005a11f",
   "metadata": {
    "ExecuteTime": {
     "end_time": "2021-06-17T08:20:19.808729Z",
     "start_time": "2021-06-17T08:20:19.803991Z"
    }
   },
   "outputs": [],
   "source": [
    "import pandas as pd\n",
    "import numpy as np\n",
    "pd.set_option(\"display.max_columns\", None)\n",
    "from impala.dbapi import connect\n",
    "from impala.util import as_pandas\n",
    "import json\n",
    "import pymysql\n",
    "import datetime\n",
    "from tqdm.auto import tqdm\n",
    "tqdm.pandas(desc=\"Processing!\")\n",
    "\n",
    "from script.weight import weights_calcul, weights_assign  # 线性最小二乘的权值编、解码脚本"
   ]
  },
  {
   "cell_type": "markdown",
   "id": "dbecbcf4",
   "metadata": {},
   "source": [
    "## 数据模式一：素材评分历史\n",
    "* select * from dws.dws_image_score_d\n",
    "* 1条评分记录对应1个素材，1个素材对应1款游戏下的多个包体(game_id)，1个素材评分是1款游戏下该素材投放的所有计划情况；"
   ]
  },
  {
   "cell_type": "code",
   "execution_count": 91,
   "id": "5bb574ff",
   "metadata": {
    "ExecuteTime": {
     "end_time": "2021-06-17T08:20:20.624778Z",
     "start_time": "2021-06-17T08:20:20.102743Z"
    }
   },
   "outputs": [],
   "source": [
    "df_score = pd.read_csv('/home/data/ch_data/dws_image_score_d.csv', encoding='GB2312')"
   ]
  },
  {
   "cell_type": "markdown",
   "id": "1a185bcc",
   "metadata": {},
   "source": [
    "* 删除hr字段"
   ]
  },
  {
   "cell_type": "code",
   "execution_count": 92,
   "id": "d614461d",
   "metadata": {
    "ExecuteTime": {
     "end_time": "2021-06-17T08:20:20.645439Z",
     "start_time": "2021-06-17T08:20:20.626447Z"
    }
   },
   "outputs": [],
   "source": [
    "df_score = df_score.drop(['hr'],axis=1)"
   ]
  },
  {
   "cell_type": "markdown",
   "id": "f84eae76",
   "metadata": {},
   "source": [
    "* 过滤：label_id无效标签"
   ]
  },
  {
   "cell_type": "code",
   "execution_count": 93,
   "id": "125abe6b",
   "metadata": {
    "ExecuteTime": {
     "end_time": "2021-06-17T08:20:20.789610Z",
     "start_time": "2021-06-17T08:20:20.743448Z"
    }
   },
   "outputs": [],
   "source": [
    "df_score = df_score[df_score['label_ids'].notnull() & (df_score['label_ids'] != '-1') & (df_score['label_ids'] != '\\\"-1')]"
   ]
  },
  {
   "cell_type": "code",
   "execution_count": 94,
   "id": "bf4a03b8",
   "metadata": {
    "ExecuteTime": {
     "end_time": "2021-06-17T08:20:21.161951Z",
     "start_time": "2021-06-17T08:20:20.910597Z"
    }
   },
   "outputs": [],
   "source": [
    "df_score['label_ids'] = df_score['label_ids'].str.replace('-1;', '')\n",
    "df_score['label_ids'] = df_score['label_ids'].str.replace('-1,', '')\n",
    "df_score['label_ids'] = df_score['label_ids'].str.replace('\\\"', '') \n",
    "df_score['label_ids'] = df_score['label_ids'].str.replace(';', ',')"
   ]
  },
  {
   "cell_type": "code",
   "execution_count": 95,
   "id": "ffabaa40",
   "metadata": {
    "ExecuteTime": {
     "end_time": "2021-06-17T08:20:21.166411Z",
     "start_time": "2021-06-17T08:20:21.163854Z"
    }
   },
   "outputs": [],
   "source": [
    "# df_score = df_score[df_score['media_id'] == 10]"
   ]
  },
  {
   "cell_type": "markdown",
   "id": "f83859e1",
   "metadata": {},
   "source": [
    "* 过滤：重复行"
   ]
  },
  {
   "cell_type": "code",
   "execution_count": 96,
   "id": "935dea2d",
   "metadata": {
    "ExecuteTime": {
     "end_time": "2021-06-17T08:20:21.549892Z",
     "start_time": "2021-06-17T08:20:21.478631Z"
    }
   },
   "outputs": [],
   "source": [
    "df_score = df_score[['image_id', 'image_name', 'label_ids', 'model_run_datetime', 'image_launch_time', 'dt', 'score']]\n",
    "df_score.drop_duplicates(inplace=True)  # 注意keep=first"
   ]
  },
  {
   "cell_type": "code",
   "execution_count": 97,
   "id": "98f3fd30",
   "metadata": {
    "ExecuteTime": {
     "end_time": "2021-06-17T08:20:21.657110Z",
     "start_time": "2021-06-17T08:20:21.638464Z"
    }
   },
   "outputs": [
    {
     "name": "stdout",
     "output_type": "stream",
     "text": [
      "<class 'pandas.core.frame.DataFrame'>\n",
      "Int64Index: 70846 entries, 4346 to 190957\n",
      "Data columns (total 7 columns):\n",
      " #   Column              Non-Null Count  Dtype \n",
      "---  ------              --------------  ----- \n",
      " 0   image_id            70846 non-null  int64 \n",
      " 1   image_name          70846 non-null  object\n",
      " 2   label_ids           70846 non-null  object\n",
      " 3   model_run_datetime  70846 non-null  object\n",
      " 4   image_launch_time   70846 non-null  object\n",
      " 5   dt                  70846 non-null  object\n",
      " 6   score               70846 non-null  int64 \n",
      "dtypes: int64(2), object(5)\n",
      "memory usage: 4.3+ MB\n"
     ]
    }
   ],
   "source": [
    "df_score.info()"
   ]
  },
  {
   "cell_type": "code",
   "execution_count": 98,
   "id": "96362f91",
   "metadata": {
    "ExecuteTime": {
     "end_time": "2021-06-17T08:20:21.826555Z",
     "start_time": "2021-06-17T08:20:21.815297Z"
    }
   },
   "outputs": [
    {
     "data": {
      "text/html": [
       "<div>\n",
       "<style scoped>\n",
       "    .dataframe tbody tr th:only-of-type {\n",
       "        vertical-align: middle;\n",
       "    }\n",
       "\n",
       "    .dataframe tbody tr th {\n",
       "        vertical-align: top;\n",
       "    }\n",
       "\n",
       "    .dataframe thead th {\n",
       "        text-align: right;\n",
       "    }\n",
       "</style>\n",
       "<table border=\"1\" class=\"dataframe\">\n",
       "  <thead>\n",
       "    <tr style=\"text-align: right;\">\n",
       "      <th></th>\n",
       "      <th>image_id</th>\n",
       "      <th>image_name</th>\n",
       "      <th>label_ids</th>\n",
       "      <th>model_run_datetime</th>\n",
       "      <th>image_launch_time</th>\n",
       "      <th>dt</th>\n",
       "      <th>score</th>\n",
       "    </tr>\n",
       "  </thead>\n",
       "  <tbody>\n",
       "    <tr>\n",
       "      <th>4346</th>\n",
       "      <td>23237</td>\n",
       "      <td>SSR1399-横版（混剪）</td>\n",
       "      <td>19</td>\n",
       "      <td>2020-12-18</td>\n",
       "      <td>2020-07-11</td>\n",
       "      <td>2020-12-18</td>\n",
       "      <td>478</td>\n",
       "    </tr>\n",
       "    <tr>\n",
       "      <th>4347</th>\n",
       "      <td>23509</td>\n",
       "      <td>SSR1414-竖版（3D混剪）</td>\n",
       "      <td>20</td>\n",
       "      <td>2020-12-18</td>\n",
       "      <td>2020-07-16</td>\n",
       "      <td>2020-12-18</td>\n",
       "      <td>571</td>\n",
       "    </tr>\n",
       "    <tr>\n",
       "      <th>4348</th>\n",
       "      <td>23509</td>\n",
       "      <td>SSR1414-竖版（3D混剪）</td>\n",
       "      <td>20</td>\n",
       "      <td>2020-12-18</td>\n",
       "      <td>2020-07-16</td>\n",
       "      <td>2020-12-18</td>\n",
       "      <td>500</td>\n",
       "    </tr>\n",
       "    <tr>\n",
       "      <th>4349</th>\n",
       "      <td>23552</td>\n",
       "      <td>SSR1419-横版（3D混剪）</td>\n",
       "      <td>20</td>\n",
       "      <td>2020-12-18</td>\n",
       "      <td>2020-07-14</td>\n",
       "      <td>2020-12-18</td>\n",
       "      <td>511</td>\n",
       "    </tr>\n",
       "    <tr>\n",
       "      <th>4350</th>\n",
       "      <td>23846</td>\n",
       "      <td>SSR1484-横版（3D混剪）</td>\n",
       "      <td>20</td>\n",
       "      <td>2020-12-18</td>\n",
       "      <td>2020-07-27</td>\n",
       "      <td>2020-12-18</td>\n",
       "      <td>540</td>\n",
       "    </tr>\n",
       "  </tbody>\n",
       "</table>\n",
       "</div>"
      ],
      "text/plain": [
       "      image_id        image_name label_ids model_run_datetime  \\\n",
       "4346     23237    SSR1399-横版（混剪）        19         2020-12-18   \n",
       "4347     23509  SSR1414-竖版（3D混剪）        20         2020-12-18   \n",
       "4348     23509  SSR1414-竖版（3D混剪）        20         2020-12-18   \n",
       "4349     23552  SSR1419-横版（3D混剪）        20         2020-12-18   \n",
       "4350     23846  SSR1484-横版（3D混剪）        20         2020-12-18   \n",
       "\n",
       "     image_launch_time          dt  score  \n",
       "4346        2020-07-11  2020-12-18    478  \n",
       "4347        2020-07-16  2020-12-18    571  \n",
       "4348        2020-07-16  2020-12-18    500  \n",
       "4349        2020-07-14  2020-12-18    511  \n",
       "4350        2020-07-27  2020-12-18    540  "
      ]
     },
     "execution_count": 98,
     "metadata": {},
     "output_type": "execute_result"
    }
   ],
   "source": [
    "df_score.head()"
   ]
  },
  {
   "cell_type": "markdown",
   "id": "48182702",
   "metadata": {},
   "source": [
    "## 数据模式二：计划信息+素材信息\n",
    "* 1条评分记录对应1个素材，1个素材对应1款游戏下的多个包体(game_id)，1个素材评分是1款游戏下该素材投放的所有计划情况；"
   ]
  },
  {
   "cell_type": "markdown",
   "id": "92e34f0c",
   "metadata": {},
   "source": [
    "* 采集：计划信息"
   ]
  },
  {
   "cell_type": "code",
   "execution_count": 99,
   "id": "bee30398",
   "metadata": {
    "ExecuteTime": {
     "end_time": "2021-06-17T08:20:22.386050Z",
     "start_time": "2021-06-17T08:20:22.382380Z"
    }
   },
   "outputs": [],
   "source": [
    "def get_game_id():\n",
    "    conn = pymysql.connect(host='192.168.0.79', port=3306, user='readonly',\n",
    "                           passwd='Kc&r+z1ql9x8za4kzfk761weq8ozGv3ZpI;RMe,#+s%c>t')\n",
    "    cur = conn.cursor(cursor=pymysql.cursors.DictCursor)\n",
    "    sql = '''\n",
    "        SELECT dev_game_id AS game_id FROM db_data.t_game_config WHERE game_id = 1056 AND dev_game_id IS NOT NULL \n",
    "    '''\n",
    "    cur.execute(sql)\n",
    "    result_df = cur.fetchall()\n",
    "    cur.close()\n",
    "    conn.close()\n",
    "    return result_df"
   ]
  },
  {
   "cell_type": "markdown",
   "id": "8cfb9245",
   "metadata": {},
   "source": [
    "* 采集：素材信息"
   ]
  },
  {
   "cell_type": "code",
   "execution_count": 100,
   "id": "cabca997",
   "metadata": {
    "ExecuteTime": {
     "end_time": "2021-06-17T08:20:22.705710Z",
     "start_time": "2021-06-17T08:20:22.687420Z"
    }
   },
   "outputs": [],
   "source": [
    "image_info = pd.read_csv('/home/data/ch_data/image_info.csv')"
   ]
  },
  {
   "cell_type": "code",
   "execution_count": 101,
   "id": "5fbd5ea2",
   "metadata": {
    "ExecuteTime": {
     "end_time": "2021-06-17T08:20:22.867314Z",
     "start_time": "2021-06-17T08:20:22.862961Z"
    }
   },
   "outputs": [],
   "source": [
    "def get_image_info():\n",
    "    conn = pymysql.connect(host='192.168.0.79', port=3306, user='readonly',\n",
    "                           passwd='Kc&r+z1ql9x8za4kzfk761weq8ozGv3ZpI;RMe,#+s%c>t')\n",
    "    cur = conn.cursor(cursor=pymysql.cursors.DictCursor)\n",
    "    sql = '''\n",
    "        SELECT\n",
    "            b.image_id,\n",
    "            b.label_ids,\n",
    "            b.game_ids,\n",
    "            b.create_time\n",
    "        FROM\n",
    "            db_data_ptom.ptom_image_info b\n",
    "        WHERE\n",
    "            b.create_time >= '2019-01-01' \n",
    "    '''\n",
    "    cur.execute(sql)\n",
    "    result_df = pd.read_sql(sql, conn)\n",
    "    cur.close()\n",
    "    conn.close()\n",
    "    return result_df"
   ]
  },
  {
   "cell_type": "code",
   "execution_count": 102,
   "id": "db749fcb",
   "metadata": {
    "ExecuteTime": {
     "end_time": "2021-06-17T08:20:23.879769Z",
     "start_time": "2021-06-17T08:20:23.031101Z"
    }
   },
   "outputs": [],
   "source": [
    "image_info_new = get_image_info()"
   ]
  },
  {
   "cell_type": "markdown",
   "id": "3403c6aa",
   "metadata": {},
   "source": [
    "* 合并"
   ]
  },
  {
   "cell_type": "code",
   "execution_count": 103,
   "id": "b1c03e88",
   "metadata": {
    "ExecuteTime": {
     "end_time": "2021-06-17T08:20:23.899420Z",
     "start_time": "2021-06-17T08:20:23.881643Z"
    }
   },
   "outputs": [],
   "source": [
    "# 素材\n",
    "image_info = image_info.append(image_info_new)\n",
    "image_info.dropna(subset=['image_id'], inplace=True)\n",
    "image_info['image_id'] = image_info['image_id'].astype(int)"
   ]
  },
  {
   "cell_type": "code",
   "execution_count": 104,
   "id": "585fb8c4",
   "metadata": {
    "ExecuteTime": {
     "end_time": "2021-06-17T08:20:23.906962Z",
     "start_time": "2021-06-17T08:20:23.901542Z"
    }
   },
   "outputs": [],
   "source": [
    "# col = ['game_id', 'image_id', 'label_ids', 'create_time', 'smart_bid_type', 'hide_if_exists', 'budget', 'delivery_range', 'adjust_cpa', 'inventory_type', 'hide_if_converted', 'flow_control_mode', 'cpa_bid', 'auto_extend_enabled', 'gender', 'city', 'platform', 'launch_price', 'retargeting_tags_exclude', 'interest_categories', 'ac', 'android_osv', 'location_type', 'retargeting_tags_include', 'retargeting_type', 'ios_osv', 'interest_action_mode', 'age', 'action_categories', 'action_days', 'action_scene', 'deep_bid_type']\n",
    "col = ['image_id', 'game_ids', 'label_ids','create_time']  # 'create_time'\n",
    "df_create = image_info[col]"
   ]
  },
  {
   "cell_type": "markdown",
   "id": "c94f63a9",
   "metadata": {},
   "source": [
    "* 特殊字段"
   ]
  },
  {
   "cell_type": "code",
   "execution_count": 105,
   "id": "cc0e2d51",
   "metadata": {
    "ExecuteTime": {
     "end_time": "2021-06-17T08:20:24.181807Z",
     "start_time": "2021-06-17T08:20:23.957152Z"
    }
   },
   "outputs": [],
   "source": [
    "df_create = df_create.mask(df_create.applymap(str).eq('[]'))  # 空list替换为NaN"
   ]
  },
  {
   "cell_type": "code",
   "execution_count": 106,
   "id": "110b6693",
   "metadata": {
    "ExecuteTime": {
     "end_time": "2021-06-17T08:20:24.446631Z",
     "start_time": "2021-06-17T08:20:24.188576Z"
    }
   },
   "outputs": [],
   "source": [
    "df_create = df_create.mask(df_create.applymap(str).eq('NONE'))  # NONE替换为NaN"
   ]
  },
  {
   "cell_type": "markdown",
   "id": "bdb03936",
   "metadata": {},
   "source": [
    "* 过滤"
   ]
  },
  {
   "cell_type": "code",
   "execution_count": 107,
   "id": "ff333dfc",
   "metadata": {
    "ExecuteTime": {
     "end_time": "2021-06-17T08:20:24.577277Z",
     "start_time": "2021-06-17T08:20:24.574599Z"
    }
   },
   "outputs": [],
   "source": [
    "from matplotlib import pyplot as plt"
   ]
  },
  {
   "cell_type": "code",
   "execution_count": 108,
   "id": "3ae266b4",
   "metadata": {
    "ExecuteTime": {
     "end_time": "2021-06-17T08:20:25.085775Z",
     "start_time": "2021-06-17T08:20:24.982857Z"
    }
   },
   "outputs": [],
   "source": [
    "df_create = df_create[df_create['label_ids'].notnull()]  # 删除'label_ids'字段的NaN行\n",
    "\n",
    "df_create = df_create[df_create['label_ids'].notnull() & (df_create['label_ids'] != '-1') & (df_create['label_ids'] != '\\\"-1')]\n",
    "df_create['label_ids'] = df_create['label_ids'].str.replace('-1;', '')\n",
    "df_create['label_ids'] = df_create['label_ids'].str.replace('-1,', '')\n",
    "df_create['label_ids'] = df_create['label_ids'].str.replace('\\\"', '') \n",
    "df_create['label_ids'] = df_create['label_ids'].str.replace(';', ',')"
   ]
  },
  {
   "cell_type": "code",
   "execution_count": 109,
   "id": "0ccf55f7",
   "metadata": {
    "ExecuteTime": {
     "end_time": "2021-06-17T08:20:25.172694Z",
     "start_time": "2021-06-17T08:20:25.141489Z"
    }
   },
   "outputs": [],
   "source": [
    "df_create = df_create[df_create['game_ids'].notnull()]\n",
    "\n",
    "df_create = df_create[df_create['game_ids'].notnull() & (df_create['game_ids'] != '-1') & (df_create['game_ids'] != '\\\"-1')]\n",
    "df_create['game_ids'] = df_create['game_ids'].str.replace('-1;', '')\n",
    "df_create['game_ids'] = df_create['game_ids'].str.replace('-1,', '')\n",
    "df_create['game_ids'] = df_create['game_ids'].str.replace('\\\"', '') \n",
    "df_create['game_ids'] = df_create['game_ids'].str.replace(';', ',')"
   ]
  },
  {
   "cell_type": "code",
   "execution_count": 110,
   "id": "c62fcbbd",
   "metadata": {
    "ExecuteTime": {
     "end_time": "2021-06-17T08:20:25.786931Z",
     "start_time": "2021-06-17T08:20:25.783043Z"
    }
   },
   "outputs": [],
   "source": [
    "df_create['image_id'] = df_create['image_id'].astype(int)"
   ]
  },
  {
   "cell_type": "code",
   "execution_count": 111,
   "id": "d37b2b8c",
   "metadata": {
    "ExecuteTime": {
     "end_time": "2021-06-17T08:20:25.983960Z",
     "start_time": "2021-06-17T08:20:25.974661Z"
    }
   },
   "outputs": [],
   "source": [
    "df_create.drop_duplicates(inplace=True)"
   ]
  },
  {
   "cell_type": "code",
   "execution_count": 112,
   "id": "b559f458",
   "metadata": {
    "ExecuteTime": {
     "end_time": "2021-06-17T08:20:26.705954Z",
     "start_time": "2021-06-17T08:20:26.694905Z"
    }
   },
   "outputs": [
    {
     "name": "stdout",
     "output_type": "stream",
     "text": [
      "<class 'pandas.core.frame.DataFrame'>\n",
      "Int64Index: 9519 entries, 6597 to 23049\n",
      "Data columns (total 4 columns):\n",
      " #   Column       Non-Null Count  Dtype         \n",
      "---  ------       --------------  -----         \n",
      " 0   image_id     9519 non-null   int64         \n",
      " 1   game_ids     9519 non-null   object        \n",
      " 2   label_ids    9519 non-null   object        \n",
      " 3   create_time  9519 non-null   datetime64[ns]\n",
      "dtypes: datetime64[ns](1), int64(1), object(2)\n",
      "memory usage: 371.8+ KB\n"
     ]
    }
   ],
   "source": [
    "df_create.info()"
   ]
  },
  {
   "cell_type": "code",
   "execution_count": 113,
   "id": "cc5f056e",
   "metadata": {
    "ExecuteTime": {
     "end_time": "2021-06-17T08:20:27.519053Z",
     "start_time": "2021-06-17T08:20:27.510888Z"
    }
   },
   "outputs": [
    {
     "data": {
      "text/html": [
       "<div>\n",
       "<style scoped>\n",
       "    .dataframe tbody tr th:only-of-type {\n",
       "        vertical-align: middle;\n",
       "    }\n",
       "\n",
       "    .dataframe tbody tr th {\n",
       "        vertical-align: top;\n",
       "    }\n",
       "\n",
       "    .dataframe thead th {\n",
       "        text-align: right;\n",
       "    }\n",
       "</style>\n",
       "<table border=\"1\" class=\"dataframe\">\n",
       "  <thead>\n",
       "    <tr style=\"text-align: right;\">\n",
       "      <th></th>\n",
       "      <th>image_id</th>\n",
       "      <th>game_ids</th>\n",
       "      <th>label_ids</th>\n",
       "      <th>create_time</th>\n",
       "    </tr>\n",
       "  </thead>\n",
       "  <tbody>\n",
       "    <tr>\n",
       "      <th>6597</th>\n",
       "      <td>17144</td>\n",
       "      <td>1001246,1001220,1001195,1001174,1001165,100116...</td>\n",
       "      <td>80</td>\n",
       "      <td>2019-09-10 10:42:38</td>\n",
       "    </tr>\n",
       "    <tr>\n",
       "      <th>9074</th>\n",
       "      <td>19636</td>\n",
       "      <td>1001079,1001049,1000993,1000960,1000954,100094...</td>\n",
       "      <td>19</td>\n",
       "      <td>2020-01-10 14:21:51</td>\n",
       "    </tr>\n",
       "    <tr>\n",
       "      <th>9938</th>\n",
       "      <td>20518</td>\n",
       "      <td>1000840,1000862,1000869,1000935,1000947,100095...</td>\n",
       "      <td>20</td>\n",
       "      <td>2020-03-11 17:54:45</td>\n",
       "    </tr>\n",
       "    <tr>\n",
       "      <th>10079</th>\n",
       "      <td>20659</td>\n",
       "      <td>1001050,1001040,1001003,1000995,1000981,100072...</td>\n",
       "      <td>12</td>\n",
       "      <td>2020-03-16 22:55:00</td>\n",
       "    </tr>\n",
       "    <tr>\n",
       "      <th>10120</th>\n",
       "      <td>20700</td>\n",
       "      <td>1001079,1001049,1000993,1000992,1000960,100095...</td>\n",
       "      <td>20</td>\n",
       "      <td>2020-03-19 20:00:35</td>\n",
       "    </tr>\n",
       "  </tbody>\n",
       "</table>\n",
       "</div>"
      ],
      "text/plain": [
       "       image_id                                           game_ids label_ids  \\\n",
       "6597      17144  1001246,1001220,1001195,1001174,1001165,100116...        80   \n",
       "9074      19636  1001079,1001049,1000993,1000960,1000954,100094...        19   \n",
       "9938      20518  1000840,1000862,1000869,1000935,1000947,100095...        20   \n",
       "10079     20659  1001050,1001040,1001003,1000995,1000981,100072...        12   \n",
       "10120     20700  1001079,1001049,1000993,1000992,1000960,100095...        20   \n",
       "\n",
       "              create_time  \n",
       "6597  2019-09-10 10:42:38  \n",
       "9074  2020-01-10 14:21:51  \n",
       "9938  2020-03-11 17:54:45  \n",
       "10079 2020-03-16 22:55:00  \n",
       "10120 2020-03-19 20:00:35  "
      ]
     },
     "execution_count": 113,
     "metadata": {},
     "output_type": "execute_result"
    }
   ],
   "source": [
    "df_create.head()"
   ]
  },
  {
   "cell_type": "markdown",
   "id": "96c43765",
   "metadata": {},
   "source": [
    "## 拼接\n",
    "* 从素材评分历史出发，每条素材评分的素材ID，关联计划+素材信息的所有game_ids，作为包体集合；"
   ]
  },
  {
   "cell_type": "code",
   "execution_count": 115,
   "id": "d7a61fff",
   "metadata": {
    "ExecuteTime": {
     "end_time": "2021-06-17T08:22:28.521610Z",
     "start_time": "2021-06-17T08:22:28.518549Z"
    }
   },
   "outputs": [],
   "source": [
    "# df_score[df_score['image_id']==19636]  # 5个评分记录"
   ]
  },
  {
   "cell_type": "code",
   "execution_count": 116,
   "id": "82bcf4a0",
   "metadata": {
    "ExecuteTime": {
     "end_time": "2021-06-17T08:22:29.385744Z",
     "start_time": "2021-06-17T08:22:29.382775Z"
    }
   },
   "outputs": [],
   "source": [
    "# df_create[df_create['image_id']==19636]  # 7条计划记录"
   ]
  },
  {
   "cell_type": "markdown",
   "id": "adc2cc82",
   "metadata": {},
   "source": [
    "* 拼接素材与包体情况"
   ]
  },
  {
   "cell_type": "code",
   "execution_count": 117,
   "id": "3c16386f",
   "metadata": {
    "ExecuteTime": {
     "end_time": "2021-06-17T08:22:41.057902Z",
     "start_time": "2021-06-17T08:22:41.054975Z"
    }
   },
   "outputs": [],
   "source": [
    "# def merge_my(x, df):\n",
    "#     \"\"\" 包体采集：\"\"\"\n",
    "#      # 对于匹配不到素材id的score记录，其'game_id'为''值\n",
    "#     return ','.join(df[df['image_id']==x['image_id']]['game_id'].value_counts().index.astype(str).tolist())\n",
    "\n",
    "# game_id_series = df_score.progress_apply(lambda x : merge_my(x, df_create), axis=1)"
   ]
  },
  {
   "cell_type": "markdown",
   "id": "ce2da250",
   "metadata": {},
   "source": [
    "## 特征量化\n",
    "* 1）label_ids;\n",
    "* 2）game_ids;\n",
    "* 3）~~image_name~~：横板、竖版、是否3D等特征;\n",
    "* 4）~~image_launch_time~~：是否节假日、是否周末等特征;"
   ]
  },
  {
   "cell_type": "markdown",
   "id": "6ab15137",
   "metadata": {},
   "source": [
    "* score分布情况"
   ]
  },
  {
   "cell_type": "code",
   "execution_count": 38,
   "id": "eacfca5a",
   "metadata": {
    "ExecuteTime": {
     "end_time": "2021-06-09T01:39:36.137662Z",
     "start_time": "2021-06-09T01:39:35.491897Z"
    }
   },
   "outputs": [
    {
     "name": "stderr",
     "output_type": "stream",
     "text": [
      "/root/anaconda3/lib/python3.7/site-packages/seaborn/distributions.py:2557: FutureWarning: `distplot` is a deprecated function and will be removed in a future version. Please adapt your code to use either `displot` (a figure-level function with similar flexibility) or `histplot` (an axes-level function for histograms).\n",
      "  warnings.warn(msg, FutureWarning)\n"
     ]
    },
    {
     "data": {
      "text/plain": [
       "<AxesSubplot:xlabel='score', ylabel='Density'>"
      ]
     },
     "execution_count": 38,
     "metadata": {},
     "output_type": "execute_result"
    },
    {
     "data": {
      "image/png": "[encoded data removed]",
      "text/plain": [
       "<Figure size 432x288 with 1 Axes>"
      ]
     },
     "metadata": {
      "needs_background": "light"
     },
     "output_type": "display_data"
    }
   ],
   "source": [
    "import seaborn as sns\n",
    "sns.distplot(df['score'])"
   ]
  },
  {
   "cell_type": "markdown",
   "id": "a5b462fe",
   "metadata": {
    "ExecuteTime": {
     "end_time": "2021-06-04T08:04:25.360696Z",
     "start_time": "2021-06-04T08:04:25.356002Z"
    }
   },
   "source": [
    "### label_ids字段处理\n",
    "* 统计项：单因素加权量化 - 最小二乘"
   ]
  },
  {
   "cell_type": "code",
   "execution_count": 39,
   "id": "0536c945",
   "metadata": {
    "ExecuteTime": {
     "end_time": "2021-06-09T01:39:36.202559Z",
     "start_time": "2021-06-09T01:39:36.139380Z"
    }
   },
   "outputs": [],
   "source": [
    "label_ids_mapping = weights_calcul(df, 'label_ids')  # 编码"
   ]
  },
  {
   "cell_type": "code",
   "execution_count": 40,
   "id": "d91cb5ad",
   "metadata": {
    "ExecuteTime": {
     "end_time": "2021-06-09T01:40:32.715133Z",
     "start_time": "2021-06-09T01:39:36.204297Z"
    }
   },
   "outputs": [
    {
     "name": "stderr",
     "output_type": "stream",
     "text": [
      "100%|██████████| 51207/51207 [00:56<00:00, 906.24it/s]\n"
     ]
    }
   ],
   "source": [
    "df = weights_assign(df, label_ids_mapping, 'label_ids')  # 解码"
   ]
  },
  {
   "cell_type": "code",
   "execution_count": 41,
   "id": "375298b0",
   "metadata": {
    "ExecuteTime": {
     "end_time": "2021-06-09T01:40:32.722767Z",
     "start_time": "2021-06-09T01:40:32.717136Z"
    }
   },
   "outputs": [],
   "source": [
    "df['label_ids'] = df['label_ids'].astype(float)"
   ]
  },
  {
   "cell_type": "code",
   "execution_count": 42,
   "id": "17268060",
   "metadata": {
    "ExecuteTime": {
     "end_time": "2021-06-09T01:40:32.743658Z",
     "start_time": "2021-06-09T01:40:32.724534Z"
    }
   },
   "outputs": [
    {
     "data": {
      "text/html": [
       "<div>\n",
       "<style scoped>\n",
       "    .dataframe tbody tr th:only-of-type {\n",
       "        vertical-align: middle;\n",
       "    }\n",
       "\n",
       "    .dataframe tbody tr th {\n",
       "        vertical-align: top;\n",
       "    }\n",
       "\n",
       "    .dataframe thead th {\n",
       "        text-align: right;\n",
       "    }\n",
       "</style>\n",
       "<table border=\"1\" class=\"dataframe\">\n",
       "  <thead>\n",
       "    <tr style=\"text-align: right;\">\n",
       "      <th></th>\n",
       "      <th>image_id</th>\n",
       "      <th>image_name</th>\n",
       "      <th>label_ids</th>\n",
       "      <th>model_run_datetime</th>\n",
       "      <th>image_launch_time</th>\n",
       "      <th>game_ids</th>\n",
       "      <th>score</th>\n",
       "    </tr>\n",
       "  </thead>\n",
       "  <tbody>\n",
       "    <tr>\n",
       "      <th>0</th>\n",
       "      <td>23237</td>\n",
       "      <td>SSR1399-横版（混剪）</td>\n",
       "      <td>511.852283</td>\n",
       "      <td>2020-12-18</td>\n",
       "      <td>2020-07-11</td>\n",
       "      <td>1000840,1000993,1001258,1001155,1001049</td>\n",
       "      <td>478</td>\n",
       "    </tr>\n",
       "    <tr>\n",
       "      <th>1</th>\n",
       "      <td>23509</td>\n",
       "      <td>SSR1414-竖版（3D混剪）</td>\n",
       "      <td>530.618506</td>\n",
       "      <td>2020-12-18</td>\n",
       "      <td>2020-07-16</td>\n",
       "      <td>1001379,1001400,1000993,1000840,1001049,100125...</td>\n",
       "      <td>571</td>\n",
       "    </tr>\n",
       "    <tr>\n",
       "      <th>2</th>\n",
       "      <td>23509</td>\n",
       "      <td>SSR1414-竖版（3D混剪）</td>\n",
       "      <td>530.618506</td>\n",
       "      <td>2020-12-18</td>\n",
       "      <td>2020-07-16</td>\n",
       "      <td>1001379,1001400,1000993,1000840,1001049,100125...</td>\n",
       "      <td>500</td>\n",
       "    </tr>\n",
       "    <tr>\n",
       "      <th>3</th>\n",
       "      <td>23552</td>\n",
       "      <td>SSR1419-横版（3D混剪）</td>\n",
       "      <td>530.618506</td>\n",
       "      <td>2020-12-18</td>\n",
       "      <td>2020-07-14</td>\n",
       "      <td>1000840,1000993,1001379,1001155,1001049,100125...</td>\n",
       "      <td>511</td>\n",
       "    </tr>\n",
       "    <tr>\n",
       "      <th>4</th>\n",
       "      <td>23846</td>\n",
       "      <td>SSR1484-横版（3D混剪）</td>\n",
       "      <td>530.618506</td>\n",
       "      <td>2020-12-18</td>\n",
       "      <td>2020-07-27</td>\n",
       "      <td>1000993,1001379,1000840,1001155,1001400,1001049</td>\n",
       "      <td>540</td>\n",
       "    </tr>\n",
       "  </tbody>\n",
       "</table>\n",
       "</div>"
      ],
      "text/plain": [
       "   image_id        image_name   label_ids model_run_datetime  \\\n",
       "0     23237    SSR1399-横版（混剪）  511.852283         2020-12-18   \n",
       "1     23509  SSR1414-竖版（3D混剪）  530.618506         2020-12-18   \n",
       "2     23509  SSR1414-竖版（3D混剪）  530.618506         2020-12-18   \n",
       "3     23552  SSR1419-横版（3D混剪）  530.618506         2020-12-18   \n",
       "4     23846  SSR1484-横版（3D混剪）  530.618506         2020-12-18   \n",
       "\n",
       "  image_launch_time                                           game_ids  score  \n",
       "0        2020-07-11            1000840,1000993,1001258,1001155,1001049    478  \n",
       "1        2020-07-16  1001379,1001400,1000993,1000840,1001049,100125...    571  \n",
       "2        2020-07-16  1001379,1001400,1000993,1000840,1001049,100125...    500  \n",
       "3        2020-07-14  1000840,1000993,1001379,1001155,1001049,100125...    511  \n",
       "4        2020-07-27    1000993,1001379,1000840,1001155,1001400,1001049    540  "
      ]
     },
     "execution_count": 42,
     "metadata": {},
     "output_type": "execute_result"
    }
   ],
   "source": [
    "df.head()"
   ]
  },
  {
   "cell_type": "code",
   "execution_count": 43,
   "id": "50e477c6",
   "metadata": {
    "ExecuteTime": {
     "end_time": "2021-06-09T01:40:32.749147Z",
     "start_time": "2021-06-09T01:40:32.745419Z"
    }
   },
   "outputs": [],
   "source": [
    "# plt.figure(figsize=(10,5))\n",
    "# plt.scatter(df['game_ids'],df['score'],marker='^',color='r',label='游戏包体',alpha=0.5)\n",
    "# plt.axvline(df['game_ids'].mean(),color=\"b\",linewidth=1)\n",
    "# plt.axhline(df['score'].mean(),color=\"b\",linewidth=1)\n",
    "# plt.xlabel(\"game_ids\")\n",
    "# plt.ylabel(\"score\")\n",
    "# plt.title(\"line relation\")\n",
    "# plt.grid()\n",
    "# plt.show()"
   ]
  },
  {
   "cell_type": "markdown",
   "id": "6bb9f192",
   "metadata": {},
   "source": [
    "### game_ids字段处理\n",
    "* 统计项：单因素加权量化 - 最小二乘"
   ]
  },
  {
   "cell_type": "code",
   "execution_count": 44,
   "id": "01a4b189",
   "metadata": {
    "ExecuteTime": {
     "end_time": "2021-06-09T01:40:33.096460Z",
     "start_time": "2021-06-09T01:40:32.751066Z"
    }
   },
   "outputs": [],
   "source": [
    "game_ids_mapping = weights_calcul(df, 'game_ids')  # 编码"
   ]
  },
  {
   "cell_type": "code",
   "execution_count": 45,
   "id": "9b92d8d2",
   "metadata": {
    "ExecuteTime": {
     "end_time": "2021-06-09T01:41:35.717365Z",
     "start_time": "2021-06-09T01:40:33.098515Z"
    }
   },
   "outputs": [
    {
     "name": "stderr",
     "output_type": "stream",
     "text": [
      "100%|██████████| 51207/51207 [01:02<00:00, 817.82it/s]\n"
     ]
    }
   ],
   "source": [
    "df = weights_assign(df, game_ids_mapping, 'game_ids')  # 解码"
   ]
  },
  {
   "cell_type": "code",
   "execution_count": 46,
   "id": "5c37be74",
   "metadata": {
    "ExecuteTime": {
     "end_time": "2021-06-09T01:41:35.724870Z",
     "start_time": "2021-06-09T01:41:35.719427Z"
    }
   },
   "outputs": [],
   "source": [
    "df['game_ids'] = df['game_ids'].astype(float)"
   ]
  },
  {
   "cell_type": "code",
   "execution_count": 47,
   "id": "13b2ea17",
   "metadata": {
    "ExecuteTime": {
     "end_time": "2021-06-09T01:41:35.738231Z",
     "start_time": "2021-06-09T01:41:35.726945Z"
    }
   },
   "outputs": [
    {
     "data": {
      "text/html": [
       "<div>\n",
       "<style scoped>\n",
       "    .dataframe tbody tr th:only-of-type {\n",
       "        vertical-align: middle;\n",
       "    }\n",
       "\n",
       "    .dataframe tbody tr th {\n",
       "        vertical-align: top;\n",
       "    }\n",
       "\n",
       "    .dataframe thead th {\n",
       "        text-align: right;\n",
       "    }\n",
       "</style>\n",
       "<table border=\"1\" class=\"dataframe\">\n",
       "  <thead>\n",
       "    <tr style=\"text-align: right;\">\n",
       "      <th></th>\n",
       "      <th>image_id</th>\n",
       "      <th>image_name</th>\n",
       "      <th>label_ids</th>\n",
       "      <th>model_run_datetime</th>\n",
       "      <th>image_launch_time</th>\n",
       "      <th>game_ids</th>\n",
       "      <th>score</th>\n",
       "    </tr>\n",
       "  </thead>\n",
       "  <tbody>\n",
       "    <tr>\n",
       "      <th>0</th>\n",
       "      <td>23237</td>\n",
       "      <td>SSR1399-横版（混剪）</td>\n",
       "      <td>511.852283</td>\n",
       "      <td>2020-12-18</td>\n",
       "      <td>2020-07-11</td>\n",
       "      <td>135.467769</td>\n",
       "      <td>478</td>\n",
       "    </tr>\n",
       "    <tr>\n",
       "      <th>1</th>\n",
       "      <td>23509</td>\n",
       "      <td>SSR1414-竖版（3D混剪）</td>\n",
       "      <td>530.618506</td>\n",
       "      <td>2020-12-18</td>\n",
       "      <td>2020-07-16</td>\n",
       "      <td>519.648437</td>\n",
       "      <td>571</td>\n",
       "    </tr>\n",
       "    <tr>\n",
       "      <th>2</th>\n",
       "      <td>23509</td>\n",
       "      <td>SSR1414-竖版（3D混剪）</td>\n",
       "      <td>530.618506</td>\n",
       "      <td>2020-12-18</td>\n",
       "      <td>2020-07-16</td>\n",
       "      <td>519.648437</td>\n",
       "      <td>500</td>\n",
       "    </tr>\n",
       "    <tr>\n",
       "      <th>3</th>\n",
       "      <td>23552</td>\n",
       "      <td>SSR1419-横版（3D混剪）</td>\n",
       "      <td>530.618506</td>\n",
       "      <td>2020-12-18</td>\n",
       "      <td>2020-07-14</td>\n",
       "      <td>482.070867</td>\n",
       "      <td>511</td>\n",
       "    </tr>\n",
       "    <tr>\n",
       "      <th>4</th>\n",
       "      <td>23846</td>\n",
       "      <td>SSR1484-横版（3D混剪）</td>\n",
       "      <td>530.618506</td>\n",
       "      <td>2020-12-18</td>\n",
       "      <td>2020-07-27</td>\n",
       "      <td>589.118843</td>\n",
       "      <td>540</td>\n",
       "    </tr>\n",
       "  </tbody>\n",
       "</table>\n",
       "</div>"
      ],
      "text/plain": [
       "   image_id        image_name   label_ids model_run_datetime  \\\n",
       "0     23237    SSR1399-横版（混剪）  511.852283         2020-12-18   \n",
       "1     23509  SSR1414-竖版（3D混剪）  530.618506         2020-12-18   \n",
       "2     23509  SSR1414-竖版（3D混剪）  530.618506         2020-12-18   \n",
       "3     23552  SSR1419-横版（3D混剪）  530.618506         2020-12-18   \n",
       "4     23846  SSR1484-横版（3D混剪）  530.618506         2020-12-18   \n",
       "\n",
       "  image_launch_time    game_ids  score  \n",
       "0        2020-07-11  135.467769    478  \n",
       "1        2020-07-16  519.648437    571  \n",
       "2        2020-07-16  519.648437    500  \n",
       "3        2020-07-14  482.070867    511  \n",
       "4        2020-07-27  589.118843    540  "
      ]
     },
     "execution_count": 47,
     "metadata": {},
     "output_type": "execute_result"
    }
   ],
   "source": [
    "df.head()"
   ]
  },
  {
   "cell_type": "markdown",
   "id": "969598c5",
   "metadata": {},
   "source": [
    "### label_ids与game_ids联合处理\n",
    "* 联合统计项：多因素联合加权量化 - 联合最小二乘（联合loss）"
   ]
  },
  {
   "cell_type": "code",
   "execution_count": 48,
   "id": "70c18038",
   "metadata": {
    "ExecuteTime": {
     "end_time": "2021-06-09T01:41:35.744080Z",
     "start_time": "2021-06-09T01:41:35.740513Z"
    }
   },
   "outputs": [],
   "source": [
    "# todo: "
   ]
  },
  {
   "cell_type": "markdown",
   "id": "8944a9ab",
   "metadata": {},
   "source": [
    "## 建模"
   ]
  },
  {
   "cell_type": "code",
   "execution_count": 49,
   "id": "89c5c25c",
   "metadata": {
    "ExecuteTime": {
     "end_time": "2021-06-09T01:41:36.235597Z",
     "start_time": "2021-06-09T01:41:35.745990Z"
    }
   },
   "outputs": [
    {
     "name": "stderr",
     "output_type": "stream",
     "text": [
      "/root/anaconda3/lib/python3.7/site-packages/dask/config.py:131: YAMLLoadWarning: calling yaml.load() without Loader=... is deprecated, as the default Loader is unsafe. Please read https://msg.pyyaml.org/load for full details.\n",
      "  data = yaml.load(f.read()) or {}\n",
      "/root/anaconda3/lib/python3.7/site-packages/dask/dataframe/utils.py:13: FutureWarning: pandas.util.testing is deprecated. Use the functions in the public API at pandas.testing instead.\n",
      "  import pandas.util.testing as tm\n",
      "/root/anaconda3/lib/python3.7/site-packages/distributed/config.py:20: YAMLLoadWarning: calling yaml.load() without Loader=... is deprecated, as the default Loader is unsafe. Please read https://msg.pyyaml.org/load for full details.\n",
      "  defaults = yaml.load(f)\n"
     ]
    }
   ],
   "source": [
    "from sklearn.model_selection import train_test_split\n",
    "from xgboost import XGBRegressor\n",
    "from lightgbm import plot_importance\n",
    "from sklearn.metrics import mean_absolute_error\n",
    "\n",
    "import matplotlib.pyplot as plt\n",
    "from matplotlib.font_manager import FontProperties\n",
    "myfont=FontProperties(fname=\"/home/simhei.ttf\",size=14)\n",
    "sns.set(font=myfont.get_name())"
   ]
  },
  {
   "cell_type": "markdown",
   "id": "cdf54cb3",
   "metadata": {},
   "source": [
    "### 训练"
   ]
  },
  {
   "cell_type": "code",
   "execution_count": 50,
   "id": "6cd03967",
   "metadata": {
    "ExecuteTime": {
     "end_time": "2021-06-09T01:41:36.247870Z",
     "start_time": "2021-06-09T01:41:36.237355Z"
    }
   },
   "outputs": [],
   "source": [
    "x_train, x_test, y_train, y_test = train_test_split(df[['label_ids', 'game_ids']], df[['score']], test_size = 0.3, random_state = 2021, shuffle=True)"
   ]
  },
  {
   "cell_type": "code",
   "execution_count": 51,
   "id": "fb72467b",
   "metadata": {
    "ExecuteTime": {
     "end_time": "2021-06-09T01:41:36.634876Z",
     "start_time": "2021-06-09T01:41:36.249619Z"
    }
   },
   "outputs": [],
   "source": [
    "xgb_reg_model = XGBRegressor()\n",
    "xgb_reg_model.fit(x_train, y_train)\n",
    "pred_train = xgb_reg_model.predict(x_train)\n",
    "pred_test = xgb_reg_model.predict(x_test)"
   ]
  },
  {
   "cell_type": "code",
   "execution_count": 52,
   "id": "8717583f",
   "metadata": {
    "ExecuteTime": {
     "end_time": "2021-06-09T01:41:36.643663Z",
     "start_time": "2021-06-09T01:41:36.636407Z"
    }
   },
   "outputs": [],
   "source": [
    "pred_train = np.expand_dims(pred_train, axis=-1)\n",
    "pred_test = np.expand_dims(pred_test, axis=-1)"
   ]
  },
  {
   "cell_type": "code",
   "execution_count": 53,
   "id": "77cb5df2",
   "metadata": {
    "ExecuteTime": {
     "end_time": "2021-06-09T01:41:36.665720Z",
     "start_time": "2021-06-09T01:41:36.645244Z"
    }
   },
   "outputs": [
    {
     "name": "stdout",
     "output_type": "stream",
     "text": [
      "训练集MAE:  44.066477014102944\n",
      "测试集MAE:  44.78245109901262\n"
     ]
    }
   ],
   "source": [
    "print(\"训练集MAE: \", mean_absolute_error(pred_train, y_train))\n",
    "print(\"测试集MAE: \", mean_absolute_error(pred_test, y_test))"
   ]
  },
  {
   "cell_type": "code",
   "execution_count": 54,
   "id": "9590eaf9",
   "metadata": {
    "ExecuteTime": {
     "end_time": "2021-06-09T01:41:36.875886Z",
     "start_time": "2021-06-09T01:41:36.667535Z"
    }
   },
   "outputs": [
    {
     "name": "stderr",
     "output_type": "stream",
     "text": [
      "No handles with labels found to put in legend.\n",
      "findfont: Font family ['SimHei'] not found. Falling back to DejaVu Sans.\n",
      "findfont: Font family ['SimHei'] not found. Falling back to DejaVu Sans.\n"
     ]
    },
    {
     "name": "stdout",
     "output_type": "stream",
     "text": [
      "========================拟合线============================\n"
     ]
    },
    {
     "name": "stderr",
     "output_type": "stream",
     "text": [
      "/root/anaconda3/lib/python3.7/site-packages/matplotlib/backends/backend_agg.py:240: RuntimeWarning: Glyph 25968 missing from current font.\n",
      "  font.set_text(s, 0.0, flags=flags)\n",
      "/root/anaconda3/lib/python3.7/site-packages/matplotlib/backends/backend_agg.py:240: RuntimeWarning: Glyph 25454 missing from current font.\n",
      "  font.set_text(s, 0.0, flags=flags)\n",
      "/root/anaconda3/lib/python3.7/site-packages/matplotlib/backends/backend_agg.py:240: RuntimeWarning: Glyph 26465 missing from current font.\n",
      "  font.set_text(s, 0.0, flags=flags)\n",
      "/root/anaconda3/lib/python3.7/site-packages/matplotlib/backends/backend_agg.py:240: RuntimeWarning: Glyph 20998 missing from current font.\n",
      "  font.set_text(s, 0.0, flags=flags)\n",
      "/root/anaconda3/lib/python3.7/site-packages/matplotlib/backends/backend_agg.py:203: RuntimeWarning: Glyph 25968 missing from current font.\n",
      "  font.set_text(s, 0, flags=flags)\n",
      "/root/anaconda3/lib/python3.7/site-packages/matplotlib/backends/backend_agg.py:203: RuntimeWarning: Glyph 25454 missing from current font.\n",
      "  font.set_text(s, 0, flags=flags)\n",
      "/root/anaconda3/lib/python3.7/site-packages/matplotlib/backends/backend_agg.py:203: RuntimeWarning: Glyph 26465 missing from current font.\n",
      "  font.set_text(s, 0, flags=flags)\n",
      "/root/anaconda3/lib/python3.7/site-packages/matplotlib/backends/backend_agg.py:203: RuntimeWarning: Glyph 20998 missing from current font.\n",
      "  font.set_text(s, 0, flags=flags)\n"
     ]
    },
    {
     "data": {
      "image/png": "[encoded data removed]",
      "text/plain": [
       "<Figure size 936x360 with 1 Axes>"
      ]
     },
     "metadata": {},
     "output_type": "display_data"
    }
   ],
   "source": [
    "print('========================拟合线============================')\n",
    "num = 100\n",
    "plt.figure(figsize=(13,5))\n",
    "plt.plot(range(num),pred_test[0:num], c='g',)  # 预测值\n",
    "plt.plot(range(num),y_test[0:num], c='r',)  # 真实值\n",
    "\n",
    "plt.xlabel('数据条数')\n",
    "plt.ylabel('分数')\n",
    "plt.legend()\n",
    "plt.show()"
   ]
  },
  {
   "cell_type": "markdown",
   "id": "704bf677",
   "metadata": {},
   "source": [
    "### 分布比较"
   ]
  },
  {
   "cell_type": "code",
   "execution_count": 55,
   "id": "1f1154fc",
   "metadata": {
    "ExecuteTime": {
     "end_time": "2021-06-09T01:41:37.657262Z",
     "start_time": "2021-06-09T01:41:36.878202Z"
    }
   },
   "outputs": [
    {
     "name": "stderr",
     "output_type": "stream",
     "text": [
      "/root/anaconda3/lib/python3.7/site-packages/seaborn/distributions.py:2557: FutureWarning: `distplot` is a deprecated function and will be removed in a future version. Please adapt your code to use either `displot` (a figure-level function with similar flexibility) or `histplot` (an axes-level function for histograms).\n",
      "  warnings.warn(msg, FutureWarning)\n",
      "/root/anaconda3/lib/python3.7/site-packages/seaborn/distributions.py:2557: FutureWarning: `distplot` is a deprecated function and will be removed in a future version. Please adapt your code to use either `displot` (a figure-level function with similar flexibility) or `histplot` (an axes-level function for histograms).\n",
      "  warnings.warn(msg, FutureWarning)\n"
     ]
    },
    {
     "data": {
      "text/plain": [
       "<AxesSubplot:ylabel='Density'>"
      ]
     },
     "execution_count": 55,
     "metadata": {},
     "output_type": "execute_result"
    },
    {
     "data": {
      "image/png": "[encoded data removed]",
      "text/plain": [
       "<Figure size 720x360 with 2 Axes>"
      ]
     },
     "metadata": {},
     "output_type": "display_data"
    }
   ],
   "source": [
    "import seaborn as sns\n",
    "fig, ax = plt.subplots(nrows=1, ncols=2, figsize = (10, 5))\n",
    "\n",
    "sns.distplot(df['score'], ax=ax[0])  # 真实值\n",
    "sns.distplot(xgb_reg_model.predict(df[['label_ids', 'game_ids']]), ax=ax[1])  # 预测值"
   ]
  },
  {
   "cell_type": "markdown",
   "id": "4f293418",
   "metadata": {},
   "source": [
    "### 随机验证\n",
    "* 取df.head()的前N条记录，验证模型输出与实际值的偏差情况"
   ]
  },
  {
   "cell_type": "code",
   "execution_count": 56,
   "id": "8ffd569c",
   "metadata": {
    "ExecuteTime": {
     "end_time": "2021-06-09T01:41:37.669732Z",
     "start_time": "2021-06-09T01:41:37.659280Z"
    }
   },
   "outputs": [
    {
     "data": {
      "text/html": [
       "<div>\n",
       "<style scoped>\n",
       "    .dataframe tbody tr th:only-of-type {\n",
       "        vertical-align: middle;\n",
       "    }\n",
       "\n",
       "    .dataframe tbody tr th {\n",
       "        vertical-align: top;\n",
       "    }\n",
       "\n",
       "    .dataframe thead th {\n",
       "        text-align: right;\n",
       "    }\n",
       "</style>\n",
       "<table border=\"1\" class=\"dataframe\">\n",
       "  <thead>\n",
       "    <tr style=\"text-align: right;\">\n",
       "      <th></th>\n",
       "      <th>image_id</th>\n",
       "      <th>image_name</th>\n",
       "      <th>label_ids</th>\n",
       "      <th>model_run_datetime</th>\n",
       "      <th>image_launch_time</th>\n",
       "      <th>game_ids</th>\n",
       "      <th>score</th>\n",
       "    </tr>\n",
       "  </thead>\n",
       "  <tbody>\n",
       "    <tr>\n",
       "      <th>0</th>\n",
       "      <td>23237</td>\n",
       "      <td>SSR1399-横版（混剪）</td>\n",
       "      <td>511.852283</td>\n",
       "      <td>2020-12-18</td>\n",
       "      <td>2020-07-11</td>\n",
       "      <td>135.467769</td>\n",
       "      <td>478</td>\n",
       "    </tr>\n",
       "    <tr>\n",
       "      <th>1</th>\n",
       "      <td>23509</td>\n",
       "      <td>SSR1414-竖版（3D混剪）</td>\n",
       "      <td>530.618506</td>\n",
       "      <td>2020-12-18</td>\n",
       "      <td>2020-07-16</td>\n",
       "      <td>519.648437</td>\n",
       "      <td>571</td>\n",
       "    </tr>\n",
       "    <tr>\n",
       "      <th>2</th>\n",
       "      <td>23509</td>\n",
       "      <td>SSR1414-竖版（3D混剪）</td>\n",
       "      <td>530.618506</td>\n",
       "      <td>2020-12-18</td>\n",
       "      <td>2020-07-16</td>\n",
       "      <td>519.648437</td>\n",
       "      <td>500</td>\n",
       "    </tr>\n",
       "    <tr>\n",
       "      <th>3</th>\n",
       "      <td>23552</td>\n",
       "      <td>SSR1419-横版（3D混剪）</td>\n",
       "      <td>530.618506</td>\n",
       "      <td>2020-12-18</td>\n",
       "      <td>2020-07-14</td>\n",
       "      <td>482.070867</td>\n",
       "      <td>511</td>\n",
       "    </tr>\n",
       "    <tr>\n",
       "      <th>4</th>\n",
       "      <td>23846</td>\n",
       "      <td>SSR1484-横版（3D混剪）</td>\n",
       "      <td>530.618506</td>\n",
       "      <td>2020-12-18</td>\n",
       "      <td>2020-07-27</td>\n",
       "      <td>589.118843</td>\n",
       "      <td>540</td>\n",
       "    </tr>\n",
       "  </tbody>\n",
       "</table>\n",
       "</div>"
      ],
      "text/plain": [
       "   image_id        image_name   label_ids model_run_datetime  \\\n",
       "0     23237    SSR1399-横版（混剪）  511.852283         2020-12-18   \n",
       "1     23509  SSR1414-竖版（3D混剪）  530.618506         2020-12-18   \n",
       "2     23509  SSR1414-竖版（3D混剪）  530.618506         2020-12-18   \n",
       "3     23552  SSR1419-横版（3D混剪）  530.618506         2020-12-18   \n",
       "4     23846  SSR1484-横版（3D混剪）  530.618506         2020-12-18   \n",
       "\n",
       "  image_launch_time    game_ids  score  \n",
       "0        2020-07-11  135.467769    478  \n",
       "1        2020-07-16  519.648437    571  \n",
       "2        2020-07-16  519.648437    500  \n",
       "3        2020-07-14  482.070867    511  \n",
       "4        2020-07-27  589.118843    540  "
      ]
     },
     "execution_count": 56,
     "metadata": {},
     "output_type": "execute_result"
    }
   ],
   "source": [
    "df.head()"
   ]
  },
  {
   "cell_type": "code",
   "execution_count": 57,
   "id": "eaf59b04",
   "metadata": {
    "ExecuteTime": {
     "end_time": "2021-06-09T01:41:38.294763Z",
     "start_time": "2021-06-09T01:41:37.671723Z"
    }
   },
   "outputs": [
    {
     "name": "stdout",
     "output_type": "stream",
     "text": [
      "索引0评分：预测值466.31，真实值478，偏差[-11.691956]\n",
      "索引1评分：预测值533.78，真实值571，偏差[-37.22339]\n",
      "索引2评分：预测值533.78，真实值500，偏差[33.77661]\n",
      "索引3评分：预测值525.89，真实值511，偏差[14.890564]\n",
      "索引4评分：预测值525.46，真实值540，偏差[-14.539246]\n",
      "索引5评分：预测值477.53，真实值458，偏差[19.530182]\n",
      "索引6评分：预测值547.33，真实值640，偏差[-92.6687]\n",
      "索引7评分：预测值562.21，真实值504，偏差[58.21466]\n",
      "索引8评分：预测值559.76，真实值530，偏差[29.756165]\n",
      "索引9评分：预测值559.76，真实值496，偏差[63.756165]\n",
      "索引10评分：预测值494.62，真实值427，偏差[67.62024]\n",
      "索引11评分：预测值494.62，真实值504，偏差[-9.379761]\n",
      "索引12评分：预测值484.46，真实值471，偏差[13.455627]\n",
      "索引13评分：预测值542.85，真实值634，偏差[-91.151794]\n",
      "索引14评分：预测值542.85，真实值690，偏差[-147.1518]\n",
      "索引15评分：预测值554.25，真实值584，偏差[-29.745728]\n",
      "索引16评分：预测值515.47，真实值525，偏差[-9.534058]\n",
      "索引17评分：预测值531.97，真实值554，偏差[-22.02533]\n",
      "索引18评分：预测值514.27，真实值547，偏差[-32.732727]\n",
      "索引19评分：预测值514.27，真实值496，偏差[18.267273]\n",
      "索引20评分：预测值478.60，真实值394，偏差[84.60306]\n",
      "索引21评分：预测值478.60，真实值551，偏差[-72.39694]\n",
      "索引22评分：预测值537.00，真实值565，偏差[-27.999756]\n",
      "索引23评分：预测值537.00，真实值532，偏差[5.000244]\n",
      "索引24评分：预测值487.30，真实值431，偏差[56.299255]\n",
      "索引25评分：预测值513.04，真实值497，偏差[16.036682]\n",
      "索引26评分：预测值494.48，真实值541，偏差[-46.519775]\n",
      "索引27评分：预测值494.48，真实值492，偏差[2.4802246]\n",
      "索引28评分：预测值482.13，真实值442，偏差[40.134186]\n",
      "索引29评分：预测值463.95，真实值470，偏差[-6.048004]\n",
      "索引30评分：预测值500.26，真实值535，偏差[-34.744354]\n",
      "索引31评分：预测值468.99，真实值489，偏差[-20.011261]\n",
      "索引32评分：预测值521.14，真实值745，偏差[-223.86212]\n",
      "索引33评分：预测值521.14，真实值513，偏差[8.137878]\n",
      "索引34评分：预测值500.26，真实值540，偏差[-39.744354]\n",
      "索引35评分：预测值500.26，真实值458，偏差[42.255646]\n",
      "索引36评分：预测值535.02，真实值574，偏差[-38.977966]\n",
      "索引37评分：预测值535.02，真实值515，偏差[20.022034]\n",
      "索引38评分：预测值553.46，真实值622，偏差[-68.54138]\n",
      "索引39评分：预测值553.46，真实值420，偏差[133.45862]\n",
      "索引40评分：预测值484.36，真实值448，偏差[36.361877]\n",
      "索引41评分：预测值484.36，真实值483，偏差[1.3618774]\n",
      "索引42评分：预测值513.83，真实值463，偏差[50.83203]\n",
      "索引43评分：预测值500.45，真实值519，偏差[-18.55371]\n",
      "索引44评分：预测值500.45，真实值508，偏差[-7.553711]\n",
      "索引45评分：预测值505.07，真实值448，偏差[57.07495]\n",
      "索引46评分：预测值505.07，真实值459，偏差[46.07495]\n",
      "索引47评分：预测值496.62，真实值486，偏差[10.621948]\n",
      "索引48评分：预测值522.92，真实值577，偏差[-54.07953]\n",
      "索引49评分：预测值487.43，真实值504，偏差[-16.57193]\n",
      "索引50评分：预测值487.43，真实值497，偏差[-9.57193]\n",
      "索引51评分：预测值458.70，真实值446，偏差[12.704071]\n",
      "索引52评分：预测值508.90，真实值527，偏差[-18.09674]\n",
      "索引53评分：预测值483.88，真实值492，偏差[-8.123596]\n",
      "索引54评分：预测值527.59，真实值644，偏差[-116.41467]\n",
      "索引55评分：预测值527.59，真实值527，偏差[0.58532715]\n",
      "索引56评分：预测值499.83，真实值508，偏差[-8.167267]\n",
      "索引57评分：预测值576.75，真实值661，偏差[-84.25403]\n",
      "索引58评分：预测值576.75，真实值522，偏差[54.74597]\n",
      "索引59评分：预测值513.82，真实值518，偏差[-4.177124]\n",
      "索引60评分：预测值495.70，真实值452，偏差[43.695007]\n",
      "索引61评分：预测值495.70，真实值478，偏差[17.695007]\n",
      "索引62评分：预测值484.36，真实值558，偏差[-73.63812]\n",
      "索引63评分：预测值533.13，真实值519，偏差[14.131775]\n",
      "索引64评分：预测值533.13，真实值540，偏差[-6.868225]\n",
      "索引65评分：预测值457.59，真实值460，偏差[-2.4076843]\n",
      "索引66评分：预测值490.06，真实值459，偏差[31.064667]\n",
      "索引67评分：预测值534.42，真实值686，偏差[-151.57672]\n",
      "索引68评分：预测值534.42，真实值483，偏差[51.42328]\n",
      "索引69评分：预测值529.87，真实值521，偏差[8.86676]\n",
      "索引70评分：预测值529.87，真实值504，偏差[25.86676]\n",
      "索引71评分：预测值508.34，真实值650，偏差[-141.66321]\n",
      "索引72评分：预测值508.34，真实值455，偏差[53.336792]\n",
      "索引73评分：预测值457.59，真实值514，偏差[-56.407684]\n",
      "索引74评分：预测值513.06，真实值548，偏差[-34.93811]\n",
      "索引75评分：预测值513.06，真实值503，偏差[10.06189]\n",
      "索引76评分：预测值513.41，真实值583，偏差[-69.58777]\n",
      "索引77评分：预测值513.41，真实值532，偏差[-18.587769]\n",
      "索引78评分：预测值539.64，真实值499，偏差[40.637207]\n",
      "索引79评分：预测值539.64，真实值597，偏差[-57.362793]\n",
      "索引80评分：预测值523.54，真实值512，偏差[11.5408325]\n",
      "索引81评分：预测值523.54，真实值453，偏差[70.54083]\n",
      "索引82评分：预测值507.26，真实值521，偏差[-13.743164]\n",
      "索引83评分：预测值507.26，真实值447，偏差[60.256836]\n",
      "索引84评分：预测值558.10，真实值452，偏差[106.09827]\n",
      "索引85评分：预测值558.10，真实值503，偏差[55.098267]\n",
      "索引86评分：预测值475.15，真实值486，偏差[-10.84787]\n",
      "索引87评分：预测值475.15，真实值493，偏差[-17.84787]\n",
      "索引88评分：预测值533.33，真实值539，偏差[-5.668274]\n",
      "索引89评分：预测值533.33，真实值501，偏差[32.331726]\n",
      "索引90评分：预测值528.07，真实值494，偏差[34.06958]\n",
      "索引91评分：预测值528.07，真实值680，偏差[-151.93042]\n",
      "索引92评分：预测值475.15，真实值483，偏差[-7.84787]\n",
      "索引93评分：预测值475.15，真实值502，偏差[-26.84787]\n",
      "索引94评分：预测值475.28，真实值476，偏差[-0.72143555]\n",
      "索引95评分：预测值475.28，真实值508，偏差[-32.721436]\n",
      "索引96评分：预测值484.36，真实值441，偏差[43.361877]\n",
      "索引97评分：预测值484.36，真实值457，偏差[27.361877]\n",
      "索引98评分：预测值529.12，真实值457，偏差[72.115906]\n",
      "索引99评分：预测值473.56，真实值570，偏差[-96.43582]\n"
     ]
    }
   ],
   "source": [
    "for i in range(100):\n",
    "    x = np.expand_dims(np.array([df.iloc[i]['label_ids'], df.iloc[i]['game_ids']]), axis=0)\n",
    "    print(\"索引{}评分：预测值{:.2f}，真实值{}，偏差{}\".format(i, xgb_reg_model.predict(x)[0], df.iloc[i]['score'], xgb_reg_model.predict(x) - df.iloc[i]['score']))"
   ]
  },
  {
   "cell_type": "markdown",
   "id": "c6d73863",
   "metadata": {},
   "source": [
    "### 模型保存"
   ]
  },
  {
   "cell_type": "code",
   "execution_count": 58,
   "id": "a28ed516",
   "metadata": {
    "ExecuteTime": {
     "end_time": "2021-06-09T01:41:38.324071Z",
     "start_time": "2021-06-09T01:41:38.296937Z"
    }
   },
   "outputs": [],
   "source": [
    "import joblib"
   ]
  },
  {
   "cell_type": "code",
   "execution_count": 59,
   "id": "267f4d9e",
   "metadata": {
    "ExecuteTime": {
     "end_time": "2021-06-09T01:41:38.329810Z",
     "start_time": "2021-06-09T01:41:38.325929Z"
    }
   },
   "outputs": [],
   "source": [
    "# joblib.dump(xgb_reg_model, './aimodel/xgb_score.pt')"
   ]
  },
  {
   "cell_type": "code",
   "execution_count": 60,
   "id": "dc059d69",
   "metadata": {
    "ExecuteTime": {
     "end_time": "2021-06-09T01:41:38.340903Z",
     "start_time": "2021-06-09T01:41:38.331894Z"
    }
   },
   "outputs": [],
   "source": [
    "# df[['image_id', 'label_ids', 'game_ids', 'score']].iloc[:100]"
   ]
  },
  {
   "cell_type": "code",
   "execution_count": 61,
   "id": "6198cb5c",
   "metadata": {
    "ExecuteTime": {
     "end_time": "2021-06-09T01:41:38.354336Z",
     "start_time": "2021-06-09T01:41:38.343472Z"
    }
   },
   "outputs": [],
   "source": [
    "# ============================================"
   ]
  }
 ],
 "metadata": {
  "kernelspec": {
   "display_name": "Python 3",
   "language": "python",
   "name": "python3"
  },
  "language_info": {
   "codemirror_mode": {
    "name": "ipython",
    "version": 3
   },
   "file_extension": ".py",
   "mimetype": "text/x-python",
   "name": "python",
   "nbconvert_exporter": "python",
   "pygments_lexer": "ipython3",
   "version": "3.7.0"
  },
  "toc": {
   "base_numbering": 1,
   "nav_menu": {},
   "number_sections": true,
   "sideBar": true,
   "skip_h1_title": false,
   "title_cell": "Table of Contents",
   "title_sidebar": "Contents",
   "toc_cell": false,
   "toc_position": {
    "height": "calc(100% - 180px)",
    "left": "10px",
    "top": "150px",
    "width": "190px"
   },
   "toc_section_display": true,
   "toc_window_display": true
  }
 },
 "nbformat": 4,
 "nbformat_minor": 5
}
