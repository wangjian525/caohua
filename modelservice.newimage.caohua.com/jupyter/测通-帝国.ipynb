{
 "cells": [
  {
   "cell_type": "markdown",
   "id": "58be732b",
   "metadata": {
    "ExecuteTime": {
     "end_time": "2021-06-15T08:45:00.224749Z",
     "start_time": "2021-06-15T08:45:00.220249Z"
    }
   },
   "source": [
    "# 本地测试"
   ]
  },
  {
   "cell_type": "code",
   "execution_count": 1,
   "id": "e4962dcd",
   "metadata": {
    "ExecuteTime": {
     "end_time": "2021-07-12T07:55:13.389571Z",
     "start_time": "2021-07-12T07:55:13.377028Z"
    }
   },
   "outputs": [
    {
     "data": {
      "text/plain": [
       "'/home/caohua/image_new/jupyter'"
      ]
     },
     "execution_count": 1,
     "metadata": {},
     "output_type": "execute_result"
    }
   ],
   "source": [
    "import os\n",
    "os.getcwd()"
   ]
  },
  {
   "cell_type": "code",
   "execution_count": 2,
   "id": "839952e2",
   "metadata": {
    "ExecuteTime": {
     "end_time": "2021-07-12T07:55:13.395120Z",
     "start_time": "2021-07-12T07:55:13.391810Z"
    }
   },
   "outputs": [],
   "source": [
    "os.chdir(os.path.dirname(os.getcwd()))"
   ]
  },
  {
   "cell_type": "code",
   "execution_count": 3,
   "id": "8311756f",
   "metadata": {
    "ExecuteTime": {
     "end_time": "2021-07-12T07:55:13.402782Z",
     "start_time": "2021-07-12T07:55:13.397159Z"
    }
   },
   "outputs": [
    {
     "data": {
      "text/plain": [
       "'/home/caohua/image_new'"
      ]
     },
     "execution_count": 3,
     "metadata": {},
     "output_type": "execute_result"
    }
   ],
   "source": [
    "os.getcwd()"
   ]
  },
  {
   "cell_type": "markdown",
   "id": "8d09b248",
   "metadata": {},
   "source": [
    "## 初步评分"
   ]
  },
  {
   "cell_type": "code",
   "execution_count": 4,
   "id": "d40cbe3e",
   "metadata": {
    "ExecuteTime": {
     "end_time": "2021-07-12T07:55:14.098483Z",
     "start_time": "2021-07-12T07:55:13.404860Z"
    }
   },
   "outputs": [],
   "source": [
    "from media_toutiao.image_score_pre_new import *"
   ]
  },
  {
   "cell_type": "code",
   "execution_count": 5,
   "id": "6c453a55",
   "metadata": {
    "ExecuteTime": {
     "end_time": "2021-07-12T07:55:14.102491Z",
     "start_time": "2021-07-12T07:55:14.099942Z"
    }
   },
   "outputs": [],
   "source": [
    "# new_image_score = NewImageScore()"
   ]
  },
  {
   "cell_type": "code",
   "execution_count": 6,
   "id": "8df1cfa9",
   "metadata": {
    "ExecuteTime": {
     "end_time": "2021-07-12T07:55:14.108579Z",
     "start_time": "2021-07-12T07:55:14.104133Z"
    }
   },
   "outputs": [],
   "source": [
    "# df = new_image_score()\n",
    "# df.head()"
   ]
  },
  {
   "cell_type": "code",
   "execution_count": 7,
   "id": "6928dfc1",
   "metadata": {
    "ExecuteTime": {
     "end_time": "2021-07-12T07:55:14.114358Z",
     "start_time": "2021-07-12T07:55:14.110385Z"
    }
   },
   "outputs": [],
   "source": [
    "# new_image_score.load_to_hive()"
   ]
  },
  {
   "cell_type": "markdown",
   "id": "0d5e3baf",
   "metadata": {},
   "source": [
    "## 计划创建"
   ]
  },
  {
   "cell_type": "code",
   "execution_count": 8,
   "id": "1df76124",
   "metadata": {
    "ExecuteTime": {
     "end_time": "2021-07-12T07:55:14.619667Z",
     "start_time": "2021-07-12T07:55:14.116571Z"
    }
   },
   "outputs": [],
   "source": [
    "from media_toutiao.create_plan_with_train_dg import *"
   ]
  },
  {
   "cell_type": "code",
   "execution_count": 9,
   "id": "2cca6861",
   "metadata": {
    "ExecuteTime": {
     "end_time": "2021-07-12T07:58:41.122219Z",
     "start_time": "2021-07-12T07:55:14.621450Z"
    }
   },
   "outputs": [
    {
     "name": "stdout",
     "output_type": "stream",
     "text": [
      "[INFO]: 实时数据提取完毕！\n"
     ]
    }
   ],
   "source": [
    "plan_creator = NewCreatePlan()"
   ]
  },
  {
   "cell_type": "code",
   "execution_count": 10,
   "id": "43254b13",
   "metadata": {
    "ExecuteTime": {
     "end_time": "2021-07-12T07:59:09.338168Z",
     "start_time": "2021-07-12T07:58:41.124968Z"
    }
   },
   "outputs": [
    {
     "name": "stdout",
     "output_type": "stream",
     "text": [
      "no score new num: 12\n",
      "back new num: 17\n",
      "[INFO]：新素材提取成功！\n"
     ]
    },
    {
     "data": {
      "application/vnd.jupyter.widget-view+json": {
       "model_id": "d9192428c60a44889ada7cc3368e769e",
       "version_major": 2,
       "version_minor": 0
      },
      "text/plain": [
       "Processing!:   0%|          | 0/8633 [00:00<?, ?it/s]"
      ]
     },
     "metadata": {},
     "output_type": "display_data"
    },
    {
     "name": "stdout",
     "output_type": "stream",
     "text": [
      "[INFO]: 实时计划训练完毕！\n",
      "[INFO]: 候选计划组合完毕！\n",
      "[INFO]: 新建计划创建完毕！\n"
     ]
    }
   ],
   "source": [
    "rsp = plan_creator()"
   ]
  },
  {
   "cell_type": "code",
   "execution_count": 11,
   "id": "aa210c5c",
   "metadata": {
    "ExecuteTime": {
     "end_time": "2021-07-12T07:59:09.366448Z",
     "start_time": "2021-07-12T07:59:09.339659Z"
    },
    "scrolled": true
   },
   "outputs": [
    {
     "data": {
      "text/html": [
       "<div>\n",
       "<style scoped>\n",
       "    .dataframe tbody tr th:only-of-type {\n",
       "        vertical-align: middle;\n",
       "    }\n",
       "\n",
       "    .dataframe tbody tr th {\n",
       "        vertical-align: top;\n",
       "    }\n",
       "\n",
       "    .dataframe thead th {\n",
       "        text-align: right;\n",
       "    }\n",
       "</style>\n",
       "<table border=\"1\" class=\"dataframe\">\n",
       "  <thead>\n",
       "    <tr style=\"text-align: right;\">\n",
       "      <th></th>\n",
       "      <th>ad_account_id</th>\n",
       "      <th>image_id</th>\n",
       "      <th>game_id</th>\n",
       "      <th>gender</th>\n",
       "      <th>delivery_range</th>\n",
       "      <th>hide_if_converted</th>\n",
       "      <th>hide_if_exists</th>\n",
       "      <th>auto_extend_enabled</th>\n",
       "      <th>flow_control_mode</th>\n",
       "      <th>location_type</th>\n",
       "      <th>inventory_type</th>\n",
       "      <th>schedule_time</th>\n",
       "      <th>ac</th>\n",
       "      <th>budget</th>\n",
       "      <th>cpa_bid</th>\n",
       "      <th>platform</th>\n",
       "      <th>retargeting_type</th>\n",
       "      <th>retargeting_tags_include</th>\n",
       "      <th>retargeting_tags_exclude</th>\n",
       "      <th>action_days</th>\n",
       "      <th>action_categories</th>\n",
       "      <th>action_scene</th>\n",
       "      <th>interest_categories</th>\n",
       "      <th>interest_action_mode</th>\n",
       "      <th>adjust_cpa</th>\n",
       "      <th>smart_bid_type</th>\n",
       "      <th>deep_bid_type</th>\n",
       "      <th>roi_goal</th>\n",
       "      <th>ad_keywords</th>\n",
       "      <th>title_list</th>\n",
       "      <th>third_industry_id</th>\n",
       "      <th>android_osv</th>\n",
       "      <th>op_id</th>\n",
       "      <th>flag</th>\n",
       "      <th>operation</th>\n",
       "      <th>launch_price</th>\n",
       "      <th>convertIndex</th>\n",
       "      <th>age</th>\n",
       "      <th>city</th>\n",
       "      <th>web_url</th>\n",
       "    </tr>\n",
       "  </thead>\n",
       "  <tbody>\n",
       "  </tbody>\n",
       "</table>\n",
       "</div>"
      ],
      "text/plain": [
       "Empty DataFrame\n",
       "Columns: [ad_account_id, image_id, game_id, gender, delivery_range, hide_if_converted, hide_if_exists, auto_extend_enabled, flow_control_mode, location_type, inventory_type, schedule_time, ac, budget, cpa_bid, platform, retargeting_type, retargeting_tags_include, retargeting_tags_exclude, action_days, action_categories, action_scene, interest_categories, interest_action_mode, adjust_cpa, smart_bid_type, deep_bid_type, roi_goal, ad_keywords, title_list, third_industry_id, android_osv, op_id, flag, operation, launch_price, convertIndex, age, city, web_url]\n",
       "Index: []"
      ]
     },
     "execution_count": 11,
     "metadata": {},
     "output_type": "execute_result"
    }
   ],
   "source": [
    "rsp"
   ]
  },
  {
   "cell_type": "code",
   "execution_count": null,
   "id": "0f5030ec",
   "metadata": {},
   "outputs": [],
   "source": []
  }
 ],
 "metadata": {
  "kernelspec": {
   "display_name": "Python 3",
   "language": "python",
   "name": "python3"
  },
  "language_info": {
   "codemirror_mode": {
    "name": "ipython",
    "version": 3
   },
   "file_extension": ".py",
   "mimetype": "text/x-python",
   "name": "python",
   "nbconvert_exporter": "python",
   "pygments_lexer": "ipython3",
   "version": "3.7.0"
  },
  "toc": {
   "base_numbering": 1,
   "nav_menu": {},
   "number_sections": true,
   "sideBar": true,
   "skip_h1_title": false,
   "title_cell": "Table of Contents",
   "title_sidebar": "Contents",
   "toc_cell": false,
   "toc_position": {
    "height": "calc(100% - 180px)",
    "left": "10px",
    "top": "150px",
    "width": "165px"
   },
   "toc_section_display": true,
   "toc_window_display": true
  }
 },
 "nbformat": 4,
 "nbformat_minor": 5
}
