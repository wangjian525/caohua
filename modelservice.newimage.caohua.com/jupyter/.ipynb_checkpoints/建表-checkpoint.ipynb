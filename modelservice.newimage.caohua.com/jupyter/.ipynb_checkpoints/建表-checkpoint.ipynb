{
 "cells": [
  {
   "cell_type": "markdown",
   "id": "25646f34",
   "metadata": {},
   "source": [
    "# NewImage建表\n",
    "* "
   ]
  },
  {
   "cell_type": "code",
   "execution_count": 1,
   "id": "c005a11f",
   "metadata": {
    "ExecuteTime": {
     "end_time": "2021-07-01T05:39:09.482488Z",
     "start_time": "2021-07-01T05:39:08.760817Z"
    }
   },
   "outputs": [],
   "source": [
    "import pandas as pd\n",
    "import numpy as np\n",
    "pd.set_option(\"display.max_columns\", None)\n",
    "from impala.dbapi import connect\n",
    "from impala.util import as_pandas\n",
    "import json\n",
    "import pymysql\n",
    "import datetime\n",
    "from tqdm.auto import tqdm\n",
    "tqdm.pandas(desc=\"Processing!\")"
   ]
  },
  {
   "cell_type": "markdown",
   "id": "2ef57449",
   "metadata": {},
   "source": [
    "## 测试"
   ]
  },
  {
   "cell_type": "code",
   "execution_count": 3,
   "id": "a6ca6a44",
   "metadata": {
    "ExecuteTime": {
     "end_time": "2021-06-23T11:53:11.672686Z",
     "start_time": "2021-06-23T11:53:11.668284Z"
    }
   },
   "outputs": [],
   "source": [
    "def get_game_id():\n",
    "    \"\"\" 中间件关联游戏ID \"\"\"\n",
    "    conn = pymysql.connect(host='192.168.0.79', port=3306, user='readonly',\n",
    "                           passwd='Kc&r+z1ql9x8za4kzfk761weq8ozGv3ZpI;RMe,#+s%c>t')\n",
    "    cur = conn.cursor(cursor=pymysql.cursors.DictCursor)\n",
    "    sql = '''\n",
    "        SELECT dev_game_id AS game_id FROM db_data.t_game_config WHERE game_id = 1056 AND dev_game_id IS NOT NULL \n",
    "    '''\n",
    "    cur.execute(sql)\n",
    "    result_df = cur.fetchall()\n",
    "    cur.close()\n",
    "    conn.close()\n",
    "    return result_df"
   ]
  },
  {
   "cell_type": "code",
   "execution_count": 5,
   "id": "6545cfe9",
   "metadata": {
    "ExecuteTime": {
     "end_time": "2021-06-23T11:56:05.294162Z",
     "start_time": "2021-06-23T11:56:05.131939Z"
    }
   },
   "outputs": [],
   "source": [
    "a = get_game_id()"
   ]
  },
  {
   "cell_type": "markdown",
   "id": "a47df3b3",
   "metadata": {},
   "source": [
    "## 建表"
   ]
  },
  {
   "cell_type": "code",
   "execution_count": 1,
   "id": "6755bba5",
   "metadata": {
    "ExecuteTime": {
     "end_time": "2021-06-22T06:20:24.459870Z",
     "start_time": "2021-06-22T06:20:23.982047Z"
    }
   },
   "outputs": [],
   "source": [
    "from impala.dbapi import connect\n",
    "from impala.util import as_pandas"
   ]
  },
  {
   "cell_type": "code",
   "execution_count": 55,
   "id": "4726e7be",
   "metadata": {
    "ExecuteTime": {
     "end_time": "2021-06-17T03:47:46.701768Z",
     "start_time": "2021-06-17T03:47:46.677442Z"
    }
   },
   "outputs": [],
   "source": [
    "df = df[['image_id','image_name','label_ids','game_ids']]\n",
    "df.drop_duplicates(inplace=True)  # keep=first"
   ]
  },
  {
   "cell_type": "code",
   "execution_count": 56,
   "id": "67cb3b00",
   "metadata": {
    "ExecuteTime": {
     "end_time": "2021-06-17T03:47:46.824294Z",
     "start_time": "2021-06-17T03:47:46.819729Z"
    }
   },
   "outputs": [],
   "source": [
    "df['score'] = np.nan"
   ]
  },
  {
   "cell_type": "code",
   "execution_count": 57,
   "id": "551165e6",
   "metadata": {
    "ExecuteTime": {
     "end_time": "2021-06-17T03:47:47.273883Z",
     "start_time": "2021-06-17T03:47:47.267809Z"
    }
   },
   "outputs": [],
   "source": [
    "df['label_ids'] = df['label_ids'].astype(str)\n",
    "df['label_ids'] = df['label_ids'].apply(lambda x: x.strip('-1;') if '-1' in x else x)\n",
    "# df['label_ids'] = pd.to_numeric(df['label_ids'], errors='coerce')"
   ]
  },
  {
   "cell_type": "code",
   "execution_count": 58,
   "id": "ed66c998",
   "metadata": {
    "ExecuteTime": {
     "end_time": "2021-06-17T03:47:47.940035Z",
     "start_time": "2021-06-17T03:47:47.930774Z"
    }
   },
   "outputs": [
    {
     "data": {
      "text/html": [
       "<div>\n",
       "<style scoped>\n",
       "    .dataframe tbody tr th:only-of-type {\n",
       "        vertical-align: middle;\n",
       "    }\n",
       "\n",
       "    .dataframe tbody tr th {\n",
       "        vertical-align: top;\n",
       "    }\n",
       "\n",
       "    .dataframe thead th {\n",
       "        text-align: right;\n",
       "    }\n",
       "</style>\n",
       "<table border=\"1\" class=\"dataframe\">\n",
       "  <thead>\n",
       "    <tr style=\"text-align: right;\">\n",
       "      <th></th>\n",
       "      <th>image_id</th>\n",
       "      <th>image_name</th>\n",
       "      <th>label_ids</th>\n",
       "      <th>game_ids</th>\n",
       "      <th>score</th>\n",
       "    </tr>\n",
       "  </thead>\n",
       "  <tbody>\n",
       "    <tr>\n",
       "      <th>0</th>\n",
       "      <td>23237</td>\n",
       "      <td>SSR1399-横版（混剪）</td>\n",
       "      <td>19</td>\n",
       "      <td>1000840;1000993;1001258;1001155;1001049</td>\n",
       "      <td>NaN</td>\n",
       "    </tr>\n",
       "    <tr>\n",
       "      <th>1</th>\n",
       "      <td>23509</td>\n",
       "      <td>SSR1414-竖版（3D混剪）</td>\n",
       "      <td>20</td>\n",
       "      <td>1001379;1001400;1000993;1000840;1001049;100125...</td>\n",
       "      <td>NaN</td>\n",
       "    </tr>\n",
       "    <tr>\n",
       "      <th>3</th>\n",
       "      <td>23552</td>\n",
       "      <td>SSR1419-横版（3D混剪）</td>\n",
       "      <td>20</td>\n",
       "      <td>1000840;1000993;1001379;1001155;1001049;100125...</td>\n",
       "      <td>NaN</td>\n",
       "    </tr>\n",
       "    <tr>\n",
       "      <th>4</th>\n",
       "      <td>23846</td>\n",
       "      <td>SSR1484-横版（3D混剪）</td>\n",
       "      <td>20</td>\n",
       "      <td>1000993;1001379;1000840;1001155;1001400;1001049</td>\n",
       "      <td>NaN</td>\n",
       "    </tr>\n",
       "    <tr>\n",
       "      <th>5</th>\n",
       "      <td>23886</td>\n",
       "      <td>SSR1498-横版（3D混剪）</td>\n",
       "      <td>20</td>\n",
       "      <td>1000993;1001379;1001155;1000840;1001402</td>\n",
       "      <td>NaN</td>\n",
       "    </tr>\n",
       "  </tbody>\n",
       "</table>\n",
       "</div>"
      ],
      "text/plain": [
       "   image_id        image_name label_ids  \\\n",
       "0     23237    SSR1399-横版（混剪）        19   \n",
       "1     23509  SSR1414-竖版（3D混剪）        20   \n",
       "3     23552  SSR1419-横版（3D混剪）        20   \n",
       "4     23846  SSR1484-横版（3D混剪）        20   \n",
       "5     23886  SSR1498-横版（3D混剪）        20   \n",
       "\n",
       "                                            game_ids  score  \n",
       "0            1000840;1000993;1001258;1001155;1001049    NaN  \n",
       "1  1001379;1001400;1000993;1000840;1001049;100125...    NaN  \n",
       "3  1000840;1000993;1001379;1001155;1001049;100125...    NaN  \n",
       "4    1000993;1001379;1000840;1001155;1001400;1001049    NaN  \n",
       "5            1000993;1001379;1001155;1000840;1001402    NaN  "
      ]
     },
     "execution_count": 58,
     "metadata": {},
     "output_type": "execute_result"
    }
   ],
   "source": [
    "df.head()"
   ]
  },
  {
   "cell_type": "code",
   "execution_count": 59,
   "id": "198d98d0",
   "metadata": {
    "ExecuteTime": {
     "end_time": "2021-06-17T03:48:00.815939Z",
     "start_time": "2021-06-17T03:48:00.811774Z"
    }
   },
   "outputs": [
    {
     "data": {
      "text/plain": [
       "'1000840;1000993;1001258;1001155;1001049'"
      ]
     },
     "execution_count": 59,
     "metadata": {},
     "output_type": "execute_result"
    }
   ],
   "source": [
    "df['game_ids'].iloc[0]"
   ]
  },
  {
   "cell_type": "code",
   "execution_count": 65,
   "id": "e5b8d894",
   "metadata": {
    "ExecuteTime": {
     "end_time": "2021-06-17T03:55:11.049866Z",
     "start_time": "2021-06-17T03:55:11.042067Z"
    }
   },
   "outputs": [],
   "source": [
    "df.to_csv('./new_image.csv', index=0, encoding='utf_8_sig',header=None)"
   ]
  },
  {
   "cell_type": "code",
   "execution_count": 6,
   "id": "e6a39137",
   "metadata": {
    "ExecuteTime": {
     "end_time": "2021-06-22T06:24:19.884412Z",
     "start_time": "2021-06-22T06:24:19.877720Z"
    }
   },
   "outputs": [],
   "source": [
    "def create_new_images():\n",
    "    \"\"\" image新素材建表 \"\"\"\n",
    "    conn = connect(host='192.168.0.88', port=10000, auth_mechanism='PLAIN', user='hadoop', database='default')\n",
    "    cursor = conn.cursor()\n",
    "    sql_engine = 'set hive.execution.engine=tez'\n",
    "    sql = '''\n",
    "        CREATE TABLE test.new_image_test (\n",
    "        image_id int,\n",
    "        image_name varchar(255), \n",
    "        label_ids varchar(255),\n",
    "        game_ids varchar(255),\n",
    "        score int,\n",
    "        label int,\n",
    "        )\n",
    "        ROW FORMAT DELIMITED\n",
    "        FIELDS TERMINATED BY ','\n",
    "        LINES TERMINATED BY '\\n'\n",
    "    '''\n",
    "    cursor.execute(sql_engine)\n",
    "    cursor.execute(sql)\n",
    "\n",
    "    # 关闭链接\n",
    "    cursor.close()\n",
    "    conn.close()\n",
    "    \n",
    "    print(\"[INFO]：建表成功！\")\n",
    "    \n",
    "    \n",
    "def insert_new_images(data):\n",
    "    \"\"\" image新素材插入 \"\"\"\n",
    "    conn = connect(host='192.168.0.88', port=10000, auth_mechanism='PLAIN', user='hadoop',\n",
    "                password='Ycjh8FxiaoMtShZRd3-97%3hCEL0CK4ns1w', database='default')\n",
    "    cursor = conn.cursor()\n",
    "    sql_engine = 'set hive.execution.engine=tez'\n",
    "    sql = '''\n",
    "        \n",
    "    '''\n",
    "    cursor.execute(sql_engine)\n",
    "    cursor.execute(sql)\n",
    "\n",
    "    # 关闭链接\n",
    "    cursor.close()\n",
    "    conn.close()\n",
    "    \n",
    "    print(\"[INFO]：插入成功！\")\n",
    "    \n",
    "    \n",
    "def get_new_images():\n",
    "    \"\"\" image新素材提取 \"\"\"\n",
    "    conn = connect(host='192.168.0.88', port=10000, auth_mechanism='PLAIN', user='hadoop',\n",
    "                password='Ycjh8FxiaoMtShZRd3-97%3hCEL0CK4ns1w', database='default')\n",
    "    cursor = conn.cursor()\n",
    "    sql_engine = 'set hive.execution.engine=tez'\n",
    "    sql = 'select image_id,image_name,label_ids,game_ids from test.new_image_test where score is null'\n",
    "    cursor.execute(sql_engine)\n",
    "    cursor.execute(sql)\n",
    "    result = as_pandas(cursor)\n",
    "    result['label_ids'] = pd.to_numeric(result['label_ids'], errors='coerce')\n",
    "\n",
    "    # 关闭链接\n",
    "    cursor.close()\n",
    "    conn.close()\n",
    "    \n",
    "    print(\"[INFO]：提取成功！\")\n",
    "    \n",
    "    return result"
   ]
  },
  {
   "cell_type": "code",
   "execution_count": 7,
   "id": "2a48cc8b",
   "metadata": {
    "ExecuteTime": {
     "end_time": "2021-06-22T06:24:20.702461Z",
     "start_time": "2021-06-22T06:24:20.215120Z"
    }
   },
   "outputs": [
    {
     "ename": "HiveServer2Error",
     "evalue": "Error while compiling statement: FAILED: ParseException line 9:8 cannot recognize input near ')' 'ROW' 'FORMAT' in column name or primary key or foreign key",
     "output_type": "error",
     "traceback": [
      "\u001b[0;31m---------------------------------------------------------------------------\u001b[0m",
      "\u001b[0;31mHiveServer2Error\u001b[0m                          Traceback (most recent call last)",
      "\u001b[0;32m<ipython-input-7-f3a794574688>\u001b[0m in \u001b[0;36m<module>\u001b[0;34m\u001b[0m\n\u001b[0;32m----> 1\u001b[0;31m \u001b[0mcreate_new_images\u001b[0m\u001b[0;34m(\u001b[0m\u001b[0;34m)\u001b[0m\u001b[0;34m\u001b[0m\u001b[0m\n\u001b[0m",
      "\u001b[0;32m<ipython-input-6-9ee6a60934b0>\u001b[0m in \u001b[0;36mcreate_new_images\u001b[0;34m()\u001b[0m\n\u001b[1;32m     18\u001b[0m     '''\n\u001b[1;32m     19\u001b[0m     \u001b[0mcursor\u001b[0m\u001b[0;34m.\u001b[0m\u001b[0mexecute\u001b[0m\u001b[0;34m(\u001b[0m\u001b[0msql_engine\u001b[0m\u001b[0;34m)\u001b[0m\u001b[0;34m\u001b[0m\u001b[0m\n\u001b[0;32m---> 20\u001b[0;31m     \u001b[0mcursor\u001b[0m\u001b[0;34m.\u001b[0m\u001b[0mexecute\u001b[0m\u001b[0;34m(\u001b[0m\u001b[0msql\u001b[0m\u001b[0;34m)\u001b[0m\u001b[0;34m\u001b[0m\u001b[0m\n\u001b[0m\u001b[1;32m     21\u001b[0m \u001b[0;34m\u001b[0m\u001b[0m\n\u001b[1;32m     22\u001b[0m     \u001b[0;31m# 关闭链接\u001b[0m\u001b[0;34m\u001b[0m\u001b[0;34m\u001b[0m\u001b[0m\n",
      "\u001b[0;32m~/anaconda3/lib/python3.7/site-packages/impala/hiveserver2.py\u001b[0m in \u001b[0;36mexecute\u001b[0;34m(self, operation, parameters, configuration)\u001b[0m\n\u001b[1;32m    327\u001b[0m         \u001b[0;31m# PEP 249\u001b[0m\u001b[0;34m\u001b[0m\u001b[0;34m\u001b[0m\u001b[0m\n\u001b[1;32m    328\u001b[0m         self.execute_async(operation, parameters=parameters,\n\u001b[0;32m--> 329\u001b[0;31m                            configuration=configuration)\n\u001b[0m\u001b[1;32m    330\u001b[0m         \u001b[0mlog\u001b[0m\u001b[0;34m.\u001b[0m\u001b[0mdebug\u001b[0m\u001b[0;34m(\u001b[0m\u001b[0;34m'Waiting for query to finish'\u001b[0m\u001b[0;34m)\u001b[0m\u001b[0;34m\u001b[0m\u001b[0m\n\u001b[1;32m    331\u001b[0m         \u001b[0mself\u001b[0m\u001b[0;34m.\u001b[0m\u001b[0m_wait_to_finish\u001b[0m\u001b[0;34m(\u001b[0m\u001b[0;34m)\u001b[0m  \u001b[0;31m# make execute synchronous\u001b[0m\u001b[0;34m\u001b[0m\u001b[0m\n",
      "\u001b[0;32m~/anaconda3/lib/python3.7/site-packages/impala/hiveserver2.py\u001b[0m in \u001b[0;36mexecute_async\u001b[0;34m(self, operation, parameters, configuration)\u001b[0m\n\u001b[1;32m    373\u001b[0m             \u001b[0mself\u001b[0m\u001b[0;34m.\u001b[0m\u001b[0m_last_operation\u001b[0m \u001b[0;34m=\u001b[0m \u001b[0mop\u001b[0m\u001b[0;34m\u001b[0m\u001b[0m\n\u001b[1;32m    374\u001b[0m \u001b[0;34m\u001b[0m\u001b[0m\n\u001b[0;32m--> 375\u001b[0;31m         \u001b[0mself\u001b[0m\u001b[0;34m.\u001b[0m\u001b[0m_execute_async\u001b[0m\u001b[0;34m(\u001b[0m\u001b[0mop\u001b[0m\u001b[0;34m)\u001b[0m\u001b[0;34m\u001b[0m\u001b[0m\n\u001b[0m\u001b[1;32m    376\u001b[0m \u001b[0;34m\u001b[0m\u001b[0m\n\u001b[1;32m    377\u001b[0m     \u001b[0;32mdef\u001b[0m \u001b[0m_debug_log_state\u001b[0m\u001b[0;34m(\u001b[0m\u001b[0mself\u001b[0m\u001b[0;34m)\u001b[0m\u001b[0;34m:\u001b[0m\u001b[0;34m\u001b[0m\u001b[0m\n",
      "\u001b[0;32m~/anaconda3/lib/python3.7/site-packages/impala/hiveserver2.py\u001b[0m in \u001b[0;36m_execute_async\u001b[0;34m(self, operation_fn)\u001b[0m\n\u001b[1;32m    392\u001b[0m         \u001b[0mself\u001b[0m\u001b[0;34m.\u001b[0m\u001b[0m_reset_state\u001b[0m\u001b[0;34m(\u001b[0m\u001b[0;34m)\u001b[0m\u001b[0;34m\u001b[0m\u001b[0m\n\u001b[1;32m    393\u001b[0m         \u001b[0mself\u001b[0m\u001b[0;34m.\u001b[0m\u001b[0m_debug_log_state\u001b[0m\u001b[0;34m(\u001b[0m\u001b[0;34m)\u001b[0m\u001b[0;34m\u001b[0m\u001b[0m\n\u001b[0;32m--> 394\u001b[0;31m         \u001b[0moperation_fn\u001b[0m\u001b[0;34m(\u001b[0m\u001b[0;34m)\u001b[0m\u001b[0;34m\u001b[0m\u001b[0m\n\u001b[0m\u001b[1;32m    395\u001b[0m         \u001b[0mself\u001b[0m\u001b[0;34m.\u001b[0m\u001b[0m_last_operation_active\u001b[0m \u001b[0;34m=\u001b[0m \u001b[0;32mTrue\u001b[0m\u001b[0;34m\u001b[0m\u001b[0m\n\u001b[1;32m    396\u001b[0m         \u001b[0mself\u001b[0m\u001b[0;34m.\u001b[0m\u001b[0m_debug_log_state\u001b[0m\u001b[0;34m(\u001b[0m\u001b[0;34m)\u001b[0m\u001b[0;34m\u001b[0m\u001b[0m\n",
      "\u001b[0;32m~/anaconda3/lib/python3.7/site-packages/impala/hiveserver2.py\u001b[0m in \u001b[0;36mop\u001b[0;34m()\u001b[0m\n\u001b[1;32m    370\u001b[0m             op = self.session.execute(self._last_operation_string,\n\u001b[1;32m    371\u001b[0m                                       \u001b[0mconfiguration\u001b[0m\u001b[0;34m,\u001b[0m\u001b[0;34m\u001b[0m\u001b[0m\n\u001b[0;32m--> 372\u001b[0;31m                                       run_async=True)\n\u001b[0m\u001b[1;32m    373\u001b[0m             \u001b[0mself\u001b[0m\u001b[0;34m.\u001b[0m\u001b[0m_last_operation\u001b[0m \u001b[0;34m=\u001b[0m \u001b[0mop\u001b[0m\u001b[0;34m\u001b[0m\u001b[0m\n\u001b[1;32m    374\u001b[0m \u001b[0;34m\u001b[0m\u001b[0m\n",
      "\u001b[0;32m~/anaconda3/lib/python3.7/site-packages/impala/hiveserver2.py\u001b[0m in \u001b[0;36mexecute\u001b[0;34m(self, statement, configuration, run_async)\u001b[0m\n\u001b[1;32m   1105\u001b[0m                                    \u001b[0mconfOverlay\u001b[0m\u001b[0;34m=\u001b[0m\u001b[0mconfiguration\u001b[0m\u001b[0;34m,\u001b[0m\u001b[0;34m\u001b[0m\u001b[0m\n\u001b[1;32m   1106\u001b[0m                                    runAsync=run_async)\n\u001b[0;32m-> 1107\u001b[0;31m         \u001b[0;32mreturn\u001b[0m \u001b[0mself\u001b[0m\u001b[0;34m.\u001b[0m\u001b[0m_operation\u001b[0m\u001b[0;34m(\u001b[0m\u001b[0;34m'ExecuteStatement'\u001b[0m\u001b[0;34m,\u001b[0m \u001b[0mreq\u001b[0m\u001b[0;34m)\u001b[0m\u001b[0;34m\u001b[0m\u001b[0m\n\u001b[0m\u001b[1;32m   1108\u001b[0m \u001b[0;34m\u001b[0m\u001b[0m\n\u001b[1;32m   1109\u001b[0m     \u001b[0;32mdef\u001b[0m \u001b[0mget_databases\u001b[0m\u001b[0;34m(\u001b[0m\u001b[0mself\u001b[0m\u001b[0;34m,\u001b[0m \u001b[0mschema\u001b[0m\u001b[0;34m=\u001b[0m\u001b[0;34m'.*'\u001b[0m\u001b[0;34m)\u001b[0m\u001b[0;34m:\u001b[0m\u001b[0;34m\u001b[0m\u001b[0m\n",
      "\u001b[0;32m~/anaconda3/lib/python3.7/site-packages/impala/hiveserver2.py\u001b[0m in \u001b[0;36m_operation\u001b[0;34m(self, kind, request)\u001b[0m\n\u001b[1;32m   1025\u001b[0m \u001b[0;34m\u001b[0m\u001b[0m\n\u001b[1;32m   1026\u001b[0m     \u001b[0;32mdef\u001b[0m \u001b[0m_operation\u001b[0m\u001b[0;34m(\u001b[0m\u001b[0mself\u001b[0m\u001b[0;34m,\u001b[0m \u001b[0mkind\u001b[0m\u001b[0;34m,\u001b[0m \u001b[0mrequest\u001b[0m\u001b[0;34m)\u001b[0m\u001b[0;34m:\u001b[0m\u001b[0;34m\u001b[0m\u001b[0m\n\u001b[0;32m-> 1027\u001b[0;31m         \u001b[0mresp\u001b[0m \u001b[0;34m=\u001b[0m \u001b[0mself\u001b[0m\u001b[0;34m.\u001b[0m\u001b[0m_rpc\u001b[0m\u001b[0;34m(\u001b[0m\u001b[0mkind\u001b[0m\u001b[0;34m,\u001b[0m \u001b[0mrequest\u001b[0m\u001b[0;34m)\u001b[0m\u001b[0;34m\u001b[0m\u001b[0m\n\u001b[0m\u001b[1;32m   1028\u001b[0m         \u001b[0;32mreturn\u001b[0m \u001b[0mself\u001b[0m\u001b[0;34m.\u001b[0m\u001b[0m_get_operation\u001b[0m\u001b[0;34m(\u001b[0m\u001b[0mresp\u001b[0m\u001b[0;34m.\u001b[0m\u001b[0moperationHandle\u001b[0m\u001b[0;34m)\u001b[0m\u001b[0;34m\u001b[0m\u001b[0m\n\u001b[1;32m   1029\u001b[0m \u001b[0;34m\u001b[0m\u001b[0m\n",
      "\u001b[0;32m~/anaconda3/lib/python3.7/site-packages/impala/hiveserver2.py\u001b[0m in \u001b[0;36m_rpc\u001b[0;34m(self, func_name, request)\u001b[0m\n\u001b[1;32m    993\u001b[0m         \u001b[0mresponse\u001b[0m \u001b[0;34m=\u001b[0m \u001b[0mself\u001b[0m\u001b[0;34m.\u001b[0m\u001b[0m_execute\u001b[0m\u001b[0;34m(\u001b[0m\u001b[0mfunc_name\u001b[0m\u001b[0;34m,\u001b[0m \u001b[0mrequest\u001b[0m\u001b[0;34m)\u001b[0m\u001b[0;34m\u001b[0m\u001b[0m\n\u001b[1;32m    994\u001b[0m         \u001b[0mself\u001b[0m\u001b[0;34m.\u001b[0m\u001b[0m_log_response\u001b[0m\u001b[0;34m(\u001b[0m\u001b[0mfunc_name\u001b[0m\u001b[0;34m,\u001b[0m \u001b[0mresponse\u001b[0m\u001b[0;34m)\u001b[0m\u001b[0;34m\u001b[0m\u001b[0m\n\u001b[0;32m--> 995\u001b[0;31m         \u001b[0merr_if_rpc_not_ok\u001b[0m\u001b[0;34m(\u001b[0m\u001b[0mresponse\u001b[0m\u001b[0;34m)\u001b[0m\u001b[0;34m\u001b[0m\u001b[0m\n\u001b[0m\u001b[1;32m    996\u001b[0m         \u001b[0;32mreturn\u001b[0m \u001b[0mresponse\u001b[0m\u001b[0;34m\u001b[0m\u001b[0m\n\u001b[1;32m    997\u001b[0m \u001b[0;34m\u001b[0m\u001b[0m\n",
      "\u001b[0;32m~/anaconda3/lib/python3.7/site-packages/impala/hiveserver2.py\u001b[0m in \u001b[0;36merr_if_rpc_not_ok\u001b[0;34m(resp)\u001b[0m\n\u001b[1;32m    747\u001b[0m             \u001b[0mresp\u001b[0m\u001b[0;34m.\u001b[0m\u001b[0mstatus\u001b[0m\u001b[0;34m.\u001b[0m\u001b[0mstatusCode\u001b[0m \u001b[0;34m!=\u001b[0m \u001b[0mTStatusCode\u001b[0m\u001b[0;34m.\u001b[0m\u001b[0mSUCCESS_WITH_INFO_STATUS\u001b[0m \u001b[0;32mand\u001b[0m\u001b[0;34m\u001b[0m\u001b[0m\n\u001b[1;32m    748\u001b[0m             resp.status.statusCode != TStatusCode.STILL_EXECUTING_STATUS):\n\u001b[0;32m--> 749\u001b[0;31m         \u001b[0;32mraise\u001b[0m \u001b[0mHiveServer2Error\u001b[0m\u001b[0;34m(\u001b[0m\u001b[0mresp\u001b[0m\u001b[0;34m.\u001b[0m\u001b[0mstatus\u001b[0m\u001b[0;34m.\u001b[0m\u001b[0merrorMessage\u001b[0m\u001b[0;34m)\u001b[0m\u001b[0;34m\u001b[0m\u001b[0m\n\u001b[0m\u001b[1;32m    750\u001b[0m \u001b[0;34m\u001b[0m\u001b[0m\n\u001b[1;32m    751\u001b[0m \u001b[0;34m\u001b[0m\u001b[0m\n",
      "\u001b[0;31mHiveServer2Error\u001b[0m: Error while compiling statement: FAILED: ParseException line 9:8 cannot recognize input near ')' 'ROW' 'FORMAT' in column name or primary key or foreign key"
     ]
    }
   ],
   "source": [
    "create_new_images()"
   ]
  },
  {
   "cell_type": "code",
   "execution_count": 72,
   "id": "2d89576e",
   "metadata": {
    "ExecuteTime": {
     "end_time": "2021-06-17T05:50:49.665512Z",
     "start_time": "2021-06-17T05:50:49.662813Z"
    }
   },
   "outputs": [],
   "source": [
    "# insert_new_images(df)"
   ]
  },
  {
   "cell_type": "code",
   "execution_count": 131,
   "id": "4b8ebd1e",
   "metadata": {
    "ExecuteTime": {
     "end_time": "2021-06-18T06:28:02.374389Z",
     "start_time": "2021-06-18T06:28:02.371569Z"
    }
   },
   "outputs": [],
   "source": [
    "# get_new_images()"
   ]
  },
  {
   "cell_type": "markdown",
   "id": "fcb0a12d",
   "metadata": {},
   "source": [
    "## 更新"
   ]
  },
  {
   "cell_type": "code",
   "execution_count": null,
   "id": "31f4936a",
   "metadata": {},
   "outputs": [],
   "source": [
    "# os.system(\"hadoop fs -rm -r hdfs://masters/user/hive/warehouse/test.db/new_image_test)\n",
    "# os.system(\"hadoop fs -mkdir hdfs://masters/user/hive/warehouse/test.db/new_image_test)\n",
    "# os.system(\"hadoop fs -put new_image.csv hdfs://masters/user/hive/warehouse/test.db/new_image_test)\n",
    "# os.system(\"hive -e \\\"msck repair table test.new_image_test\\\"\")"
   ]
  },
  {
   "cell_type": "code",
   "execution_count": null,
   "id": "69333bca",
   "metadata": {},
   "outputs": [],
   "source": [
    "# ============================="
   ]
  },
  {
   "cell_type": "code",
   "execution_count": 124,
   "id": "af4244db",
   "metadata": {
    "ExecuteTime": {
     "end_time": "2021-06-18T06:22:53.672478Z",
     "start_time": "2021-06-18T06:22:53.667668Z"
    }
   },
   "outputs": [],
   "source": [
    "def get_new_images(days):\n",
    "    \"\"\" 实时更新create_time近3天内，没有评分的素材进入测新库test.new_image_test \"\"\"\n",
    "    \n",
    "    # 游标1\n",
    "    conn1 = connect(host='192.168.0.88', port=10000, auth_mechanism='PLAIN', user='hadoop',\n",
    "                password='Ycjh8FxiaoMtShZRd3-97%3hCEL0CK4ns1w', database='default')\n",
    "    cur1 = conn1.cursor()\n",
    "    sql_engine = 'set hive.execution.engine=tez'\n",
    "    sql = 'select image_id,label_ids,score from dws.dws_image_score_d where media_id=10 and dt>=\\'2021-01-01\\''\n",
    "    cur1.execute(sql_engine)\n",
    "    cur1.execute(sql)\n",
    "    score_part = as_pandas(cur1)\n",
    "    \n",
    "    # 游标2\n",
    "    conn2 = pymysql.connect(host='192.168.0.65', port=3306, user='readonly',\n",
    "                               passwd='Kc&r+z1ql9x8za4kzfk761weq8ozGv3ZpI;RMe,#+s%c>t')\n",
    "    cur2 = conn2.cursor(cursor=pymysql.cursors.DictCursor)\n",
    "    sql = '''\n",
    "            /*手动查询*/ \n",
    "            SELECT\n",
    "                a.image_id,\n",
    "                a.image_name,\n",
    "                a.label_ids,\n",
    "                a.game_ids\n",
    "            FROM\n",
    "                db_ptom.ptom_image_info a\n",
    "            WHERE\n",
    "                a.create_time >= date( NOW() - INTERVAL 72 HOUR )\n",
    "        '''\n",
    "    cur2.execute(sql)\n",
    "    image_part = pd.read_sql(sql, conn2)\n",
    "\n",
    "    # 关闭链接\n",
    "    cur1.close()\n",
    "    conn1.close()\n",
    "    cur2.close()\n",
    "    conn2.close()\n",
    "    \n",
    "    return score_part, image_part"
   ]
  },
  {
   "cell_type": "code",
   "execution_count": 125,
   "id": "e7c6aca2",
   "metadata": {
    "ExecuteTime": {
     "end_time": "2021-06-18T06:23:11.607895Z",
     "start_time": "2021-06-18T06:22:54.907463Z"
    }
   },
   "outputs": [],
   "source": [
    "score_df, image_df = get_new_images(3)"
   ]
  },
  {
   "cell_type": "code",
   "execution_count": 127,
   "id": "ab3ccd0d",
   "metadata": {
    "ExecuteTime": {
     "end_time": "2021-06-18T06:23:20.055325Z",
     "start_time": "2021-06-18T06:23:18.831593Z"
    }
   },
   "outputs": [
    {
     "data": {
      "application/vnd.jupyter.widget-view+json": {
       "model_id": "25e66ac6fcc2484d8d04b44dfe03fd7d",
       "version_major": 2,
       "version_minor": 0
      },
      "text/plain": [
       "Processing!:   0%|          | 0/178 [00:00<?, ?it/s]"
      ]
     },
     "metadata": {},
     "output_type": "display_data"
    }
   ],
   "source": [
    "# 匹配\n",
    "def _filter(x, data):\n",
    "    return True if not any(data['image_id'] == x.image_id) else False\n",
    "image_df = image_df[image_df.progress_apply(lambda x:_filter(x, score_df), axis=1)]  # 近3天 - 没有评分记录的素材 - 新素材"
   ]
  },
  {
   "cell_type": "code",
   "execution_count": 132,
   "id": "f6b1d769",
   "metadata": {
    "ExecuteTime": {
     "end_time": "2021-06-18T06:48:45.362191Z",
     "start_time": "2021-06-18T06:48:45.351734Z"
    }
   },
   "outputs": [
    {
     "data": {
      "text/html": [
       "<div>\n",
       "<style scoped>\n",
       "    .dataframe tbody tr th:only-of-type {\n",
       "        vertical-align: middle;\n",
       "    }\n",
       "\n",
       "    .dataframe tbody tr th {\n",
       "        vertical-align: top;\n",
       "    }\n",
       "\n",
       "    .dataframe thead th {\n",
       "        text-align: right;\n",
       "    }\n",
       "</style>\n",
       "<table border=\"1\" class=\"dataframe\">\n",
       "  <thead>\n",
       "    <tr style=\"text-align: right;\">\n",
       "      <th></th>\n",
       "      <th>image_id</th>\n",
       "      <th>image_name</th>\n",
       "      <th>label_ids</th>\n",
       "      <th>game_ids</th>\n",
       "    </tr>\n",
       "  </thead>\n",
       "  <tbody>\n",
       "    <tr>\n",
       "      <th>0</th>\n",
       "      <td>34680</td>\n",
       "      <td>SSR3463-竖版（3D混剪）</td>\n",
       "      <td>20</td>\n",
       "      <td>1001703,1001687,1001661,1001649,1001643,100163...</td>\n",
       "    </tr>\n",
       "    <tr>\n",
       "      <th>1</th>\n",
       "      <td>34681</td>\n",
       "      <td>GZJPS1080=A-ZH+ZJJ+LJW英雄救美(成功版）</td>\n",
       "      <td></td>\n",
       "      <td>1000741,1000744,1000747,1000748,1000768,100076...</td>\n",
       "    </tr>\n",
       "    <tr>\n",
       "      <th>2</th>\n",
       "      <td>34682</td>\n",
       "      <td>GZJPS1083=B-YH失败选项</td>\n",
       "      <td></td>\n",
       "      <td>1000741,1000744,1000747,1000748,1000768,100076...</td>\n",
       "    </tr>\n",
       "    <tr>\n",
       "      <th>3</th>\n",
       "      <td>34683</td>\n",
       "      <td>QMZT214-zrj</td>\n",
       "      <td>None</td>\n",
       "      <td>1001465,1001466,1001473,1001493,1001545,100160...</td>\n",
       "    </tr>\n",
       "    <tr>\n",
       "      <th>4</th>\n",
       "      <td>34684</td>\n",
       "      <td>QMZT215-zrj</td>\n",
       "      <td>None</td>\n",
       "      <td>1001465,1001466,1001473,1001493,1001545,100160...</td>\n",
       "    </tr>\n",
       "    <tr>\n",
       "      <th>...</th>\n",
       "      <td>...</td>\n",
       "      <td>...</td>\n",
       "      <td>...</td>\n",
       "      <td>...</td>\n",
       "    </tr>\n",
       "    <tr>\n",
       "      <th>173</th>\n",
       "      <td>34876</td>\n",
       "      <td>QMZZ1154-横版ZDC（3D混剪）（TT）</td>\n",
       "      <td>124</td>\n",
       "      <td>1001713,1001702,1001700,1001693,1001692,100168...</td>\n",
       "    </tr>\n",
       "    <tr>\n",
       "      <th>174</th>\n",
       "      <td>34877</td>\n",
       "      <td>QMZZ1155-竖版ZDC(帝国原生)(TT)(CS)</td>\n",
       "      <td>124,156</td>\n",
       "      <td>1001713,1001702,1001700,1001693,1001692,100168...</td>\n",
       "    </tr>\n",
       "    <tr>\n",
       "      <th>175</th>\n",
       "      <td>34878</td>\n",
       "      <td>QMZZ1157-横版LL（TT）</td>\n",
       "      <td>114,156</td>\n",
       "      <td>1001713,1001702,1001700,1001693,1001692,100168...</td>\n",
       "    </tr>\n",
       "    <tr>\n",
       "      <th>176</th>\n",
       "      <td>34879</td>\n",
       "      <td>GZJPS1091=B-ZH+ZJJ+XHD牛夫人</td>\n",
       "      <td></td>\n",
       "      <td>1000741,1000744,1000747,1000748,1000768,100076...</td>\n",
       "    </tr>\n",
       "    <tr>\n",
       "      <th>177</th>\n",
       "      <td>34880</td>\n",
       "      <td>QMZZ1156-横版ly(3D混剪3渲2)(TT)</td>\n",
       "      <td>115,117,156</td>\n",
       "      <td>1001713,1001702,1001700,1001693,1001692,100168...</td>\n",
       "    </tr>\n",
       "  </tbody>\n",
       "</table>\n",
       "<p>153 rows × 4 columns</p>\n",
       "</div>"
      ],
      "text/plain": [
       "     image_id                       image_name    label_ids  \\\n",
       "0       34680                 SSR3463-竖版（3D混剪）           20   \n",
       "1       34681  GZJPS1080=A-ZH+ZJJ+LJW英雄救美(成功版）                \n",
       "2       34682               GZJPS1083=B-YH失败选项                \n",
       "3       34683                      QMZT214-zrj         None   \n",
       "4       34684                      QMZT215-zrj         None   \n",
       "..        ...                              ...          ...   \n",
       "173     34876         QMZZ1154-横版ZDC（3D混剪）（TT）          124   \n",
       "174     34877     QMZZ1155-竖版ZDC(帝国原生)(TT)(CS)      124,156   \n",
       "175     34878                QMZZ1157-横版LL（TT）      114,156   \n",
       "176     34879        GZJPS1091=B-ZH+ZJJ+XHD牛夫人                \n",
       "177     34880       QMZZ1156-横版ly(3D混剪3渲2)(TT)  115,117,156   \n",
       "\n",
       "                                              game_ids  \n",
       "0    1001703,1001687,1001661,1001649,1001643,100163...  \n",
       "1    1000741,1000744,1000747,1000748,1000768,100076...  \n",
       "2    1000741,1000744,1000747,1000748,1000768,100076...  \n",
       "3    1001465,1001466,1001473,1001493,1001545,100160...  \n",
       "4    1001465,1001466,1001473,1001493,1001545,100160...  \n",
       "..                                                 ...  \n",
       "173  1001713,1001702,1001700,1001693,1001692,100168...  \n",
       "174  1001713,1001702,1001700,1001693,1001692,100168...  \n",
       "175  1001713,1001702,1001700,1001693,1001692,100168...  \n",
       "176  1000741,1000744,1000747,1000748,1000768,100076...  \n",
       "177  1001713,1001702,1001700,1001693,1001692,100168...  \n",
       "\n",
       "[153 rows x 4 columns]"
      ]
     },
     "execution_count": 132,
     "metadata": {},
     "output_type": "execute_result"
    }
   ],
   "source": [
    "image_df"
   ]
  },
  {
   "cell_type": "markdown",
   "id": "f219152e",
   "metadata": {},
   "source": [
    "## 组合"
   ]
  },
  {
   "cell_type": "code",
   "execution_count": 1,
   "id": "747fd523",
   "metadata": {
    "ExecuteTime": {
     "end_time": "2021-06-24T09:11:41.121137Z",
     "start_time": "2021-06-24T09:11:40.420402Z"
    }
   },
   "outputs": [],
   "source": [
    "import os\n",
    "os.chdir(os.path.dirname(os.getcwd()))\n",
    "from image_score_pre_new import NewImageScore"
   ]
  },
  {
   "cell_type": "code",
   "execution_count": 2,
   "id": "71232609",
   "metadata": {
    "ExecuteTime": {
     "end_time": "2021-06-24T09:11:41.268009Z",
     "start_time": "2021-06-24T09:11:41.259979Z"
    }
   },
   "outputs": [],
   "source": [
    "def fenpei(score_image_group, ad_account_id_group, columns, capacity):\n",
    "    \"\"\" [资源分配]\n",
    "\n",
    "        Args:\n",
    "            score_image_group ([dataframe]): [新素材集]\n",
    "            ad_account_id_group ([list]): [账号集]\n",
    "            capacity ([int]): [容积限制]\n",
    "    \"\"\"\n",
    "    dist_image_ids = score_image_group['image_id'].value_counts().index\n",
    "    plan = pd.DataFrame(columns=columns)\n",
    "    \n",
    "    for image_id in sorted(dist_image_ids, key=lambda x: random.random()):  ## 按异质id标签遍历\n",
    "        # 素材下新建计划\n",
    "        sample = random.choice(score_image_group[score_image_group['image_id'] == image_id][['label_ids', 'score']].values)\n",
    "        label = sample[0]\n",
    "        score = sample[1]\n",
    "        plan_part = pd.DataFrame({'image_id': [image_id], 'label_ids': [label.split(',')], 'image_score': [score]})\n",
    "        plan = plan.append(plan_part)\n",
    "    # 复制3条\n",
    "    plan = pd.DataFrame(np.repeat(plan.values, 3, axis=0), columns=columns)\n",
    "    # plan['ad_account_id'] = np.nan\n",
    "    \n",
    "    # 分配账号\n",
    "    ad_counts = np.array([0] * len(ad_account_id_group), dtype=int)\n",
    "    ad_account_id_group = np.array(ad_account_id_group, dtype=int)\n",
    "    \n",
    "    for image_id in dist_image_ids:\n",
    "        # index = ad_counts.argsort()[:3]\n",
    "        # ad_asso = ad_account_id_group[index[ad_counts[index] < capacity]]\n",
    "        ad_asso = ad_account_id_group[ad_counts.argsort()[:3]]\n",
    "        plan['ad_account_id'].loc[plan['image_id'] == image_id] = ad_asso\n",
    "        ad_counts[ad_counts.argsort()[:3]] += 1\n",
    "    # 容积过滤\n",
    "    ad_caps = ad_account_id_group[ad_counts > capacity]\n",
    "    if not ad_caps:\n",
    "        return plan.reset_index(drop=True)\n",
    "    else:\n",
    "        for ad_cap in ad_caps:\n",
    "            num_del = ad_counts[ad_account_id_group == ad_cap] - capacity\n",
    "            dat_del = plan.loc[plan['ad_account_id'] == ad_cap].sample(num_del)\n",
    "            plan = pd.merge(plan, dat_del, how='left', indicator=True).query(\"_merge=='left_only'\").drop('_merge', 1)\n",
    "        return plan.reset_index(drop=True)"
   ]
  },
  {
   "cell_type": "code",
   "execution_count": 3,
   "id": "5917a76e",
   "metadata": {
    "ExecuteTime": {
     "end_time": "2021-06-24T09:11:42.944018Z",
     "start_time": "2021-06-24T09:11:41.947954Z"
    }
   },
   "outputs": [
    {
     "ename": "KeyError",
     "evalue": "\"None of [Index(['label_ids_value', 'game_ids_value'], dtype='object')] are in the [columns]\"",
     "output_type": "error",
     "traceback": [
      "\u001b[0;31m---------------------------------------------------------------------------\u001b[0m",
      "\u001b[0;31mKeyError\u001b[0m                                  Traceback (most recent call last)",
      "\u001b[0;32m<ipython-input-3-9f3f0f94fa3a>\u001b[0m in \u001b[0;36m<module>\u001b[0;34m\u001b[0m\n\u001b[1;32m      3\u001b[0m \u001b[0mcap\u001b[0m \u001b[0;34m=\u001b[0m \u001b[0;36m10\u001b[0m\u001b[0;34m\u001b[0m\u001b[0m\n\u001b[1;32m      4\u001b[0m \u001b[0mimage_score_pre\u001b[0m \u001b[0;34m=\u001b[0m \u001b[0mNewImageScore\u001b[0m\u001b[0;34m(\u001b[0m\u001b[0;34m)\u001b[0m\u001b[0;34m\u001b[0m\u001b[0m\n\u001b[0;32m----> 5\u001b[0;31m \u001b[0mimg\u001b[0m \u001b[0;34m=\u001b[0m \u001b[0mimage_score_pre\u001b[0m\u001b[0;34m(\u001b[0m\u001b[0;34m)\u001b[0m\u001b[0;34m\u001b[0m\u001b[0m\n\u001b[0m",
      "\u001b[0;32m/home/caohua/image_new/image_score_pre_new.py\u001b[0m in \u001b[0;36m__call__\u001b[0;34m(self)\u001b[0m\n\u001b[1;32m    115\u001b[0m         \u001b[0;31m# 'label_ids'与'game_ids'的量化\u001b[0m\u001b[0;34m\u001b[0m\u001b[0;34m\u001b[0m\u001b[0m\n\u001b[1;32m    116\u001b[0m         \u001b[0mnew_image_info\u001b[0m \u001b[0;34m=\u001b[0m \u001b[0mnew_image_info\u001b[0m\u001b[0;34m.\u001b[0m\u001b[0mapply\u001b[0m\u001b[0;34m(\u001b[0m\u001b[0;32mlambda\u001b[0m \u001b[0mx\u001b[0m\u001b[0;34m:\u001b[0m \u001b[0mself\u001b[0m\u001b[0;34m.\u001b[0m\u001b[0mquantization\u001b[0m\u001b[0;34m(\u001b[0m\u001b[0mx\u001b[0m\u001b[0;34m,\u001b[0m \u001b[0;34m(\u001b[0m\u001b[0mlabel_ids_mapping\u001b[0m\u001b[0;34m,\u001b[0m \u001b[0mgame_ids_mapping\u001b[0m\u001b[0;34m)\u001b[0m\u001b[0;34m)\u001b[0m\u001b[0;34m,\u001b[0m \u001b[0maxis\u001b[0m\u001b[0;34m=\u001b[0m\u001b[0;36m1\u001b[0m\u001b[0;34m)\u001b[0m\u001b[0;34m\u001b[0m\u001b[0m\n\u001b[0;32m--> 117\u001b[0;31m         \u001b[0ma\u001b[0m \u001b[0;34m=\u001b[0m \u001b[0mnew_image_info\u001b[0m\u001b[0;34m[\u001b[0m\u001b[0;34m[\u001b[0m\u001b[0;34m'label_ids_value'\u001b[0m\u001b[0;34m,\u001b[0m \u001b[0;34m'game_ids_value'\u001b[0m\u001b[0;34m]\u001b[0m\u001b[0;34m]\u001b[0m\u001b[0;34m\u001b[0m\u001b[0m\n\u001b[0m\u001b[1;32m    118\u001b[0m         \u001b[0ma\u001b[0m\u001b[0;34m.\u001b[0m\u001b[0mcolumns\u001b[0m \u001b[0;34m=\u001b[0m \u001b[0;34m[\u001b[0m\u001b[0;34m'label_ids'\u001b[0m\u001b[0;34m,\u001b[0m \u001b[0;34m'game_ids'\u001b[0m\u001b[0;34m]\u001b[0m\u001b[0;34m\u001b[0m\u001b[0m\n\u001b[1;32m    119\u001b[0m         \u001b[0;31m# 预测\u001b[0m\u001b[0;34m\u001b[0m\u001b[0;34m\u001b[0m\u001b[0m\n",
      "\u001b[0;32m~/anaconda3/lib/python3.7/site-packages/pandas/core/frame.py\u001b[0m in \u001b[0;36m__getitem__\u001b[0;34m(self, key)\u001b[0m\n\u001b[1;32m   2910\u001b[0m             \u001b[0;32mif\u001b[0m \u001b[0mis_iterator\u001b[0m\u001b[0;34m(\u001b[0m\u001b[0mkey\u001b[0m\u001b[0;34m)\u001b[0m\u001b[0;34m:\u001b[0m\u001b[0;34m\u001b[0m\u001b[0m\n\u001b[1;32m   2911\u001b[0m                 \u001b[0mkey\u001b[0m \u001b[0;34m=\u001b[0m \u001b[0mlist\u001b[0m\u001b[0;34m(\u001b[0m\u001b[0mkey\u001b[0m\u001b[0;34m)\u001b[0m\u001b[0;34m\u001b[0m\u001b[0m\n\u001b[0;32m-> 2912\u001b[0;31m             \u001b[0mindexer\u001b[0m \u001b[0;34m=\u001b[0m \u001b[0mself\u001b[0m\u001b[0;34m.\u001b[0m\u001b[0mloc\u001b[0m\u001b[0;34m.\u001b[0m\u001b[0m_get_listlike_indexer\u001b[0m\u001b[0;34m(\u001b[0m\u001b[0mkey\u001b[0m\u001b[0;34m,\u001b[0m \u001b[0maxis\u001b[0m\u001b[0;34m=\u001b[0m\u001b[0;36m1\u001b[0m\u001b[0;34m,\u001b[0m \u001b[0mraise_missing\u001b[0m\u001b[0;34m=\u001b[0m\u001b[0;32mTrue\u001b[0m\u001b[0;34m)\u001b[0m\u001b[0;34m[\u001b[0m\u001b[0;36m1\u001b[0m\u001b[0;34m]\u001b[0m\u001b[0;34m\u001b[0m\u001b[0m\n\u001b[0m\u001b[1;32m   2913\u001b[0m \u001b[0;34m\u001b[0m\u001b[0m\n\u001b[1;32m   2914\u001b[0m         \u001b[0;31m# take() does not accept boolean indexers\u001b[0m\u001b[0;34m\u001b[0m\u001b[0;34m\u001b[0m\u001b[0m\n",
      "\u001b[0;32m~/anaconda3/lib/python3.7/site-packages/pandas/core/indexing.py\u001b[0m in \u001b[0;36m_get_listlike_indexer\u001b[0;34m(self, key, axis, raise_missing)\u001b[0m\n\u001b[1;32m   1252\u001b[0m             \u001b[0mkeyarr\u001b[0m\u001b[0;34m,\u001b[0m \u001b[0mindexer\u001b[0m\u001b[0;34m,\u001b[0m \u001b[0mnew_indexer\u001b[0m \u001b[0;34m=\u001b[0m \u001b[0max\u001b[0m\u001b[0;34m.\u001b[0m\u001b[0m_reindex_non_unique\u001b[0m\u001b[0;34m(\u001b[0m\u001b[0mkeyarr\u001b[0m\u001b[0;34m)\u001b[0m\u001b[0;34m\u001b[0m\u001b[0m\n\u001b[1;32m   1253\u001b[0m \u001b[0;34m\u001b[0m\u001b[0m\n\u001b[0;32m-> 1254\u001b[0;31m         \u001b[0mself\u001b[0m\u001b[0;34m.\u001b[0m\u001b[0m_validate_read_indexer\u001b[0m\u001b[0;34m(\u001b[0m\u001b[0mkeyarr\u001b[0m\u001b[0;34m,\u001b[0m \u001b[0mindexer\u001b[0m\u001b[0;34m,\u001b[0m \u001b[0maxis\u001b[0m\u001b[0;34m,\u001b[0m \u001b[0mraise_missing\u001b[0m\u001b[0;34m=\u001b[0m\u001b[0mraise_missing\u001b[0m\u001b[0;34m)\u001b[0m\u001b[0;34m\u001b[0m\u001b[0m\n\u001b[0m\u001b[1;32m   1255\u001b[0m         \u001b[0;32mreturn\u001b[0m \u001b[0mkeyarr\u001b[0m\u001b[0;34m,\u001b[0m \u001b[0mindexer\u001b[0m\u001b[0;34m\u001b[0m\u001b[0m\n\u001b[1;32m   1256\u001b[0m \u001b[0;34m\u001b[0m\u001b[0m\n",
      "\u001b[0;32m~/anaconda3/lib/python3.7/site-packages/pandas/core/indexing.py\u001b[0m in \u001b[0;36m_validate_read_indexer\u001b[0;34m(self, key, indexer, axis, raise_missing)\u001b[0m\n\u001b[1;32m   1296\u001b[0m             \u001b[0;32mif\u001b[0m \u001b[0mmissing\u001b[0m \u001b[0;34m==\u001b[0m \u001b[0mlen\u001b[0m\u001b[0;34m(\u001b[0m\u001b[0mindexer\u001b[0m\u001b[0;34m)\u001b[0m\u001b[0;34m:\u001b[0m\u001b[0;34m\u001b[0m\u001b[0m\n\u001b[1;32m   1297\u001b[0m                 \u001b[0maxis_name\u001b[0m \u001b[0;34m=\u001b[0m \u001b[0mself\u001b[0m\u001b[0;34m.\u001b[0m\u001b[0mobj\u001b[0m\u001b[0;34m.\u001b[0m\u001b[0m_get_axis_name\u001b[0m\u001b[0;34m(\u001b[0m\u001b[0maxis\u001b[0m\u001b[0;34m)\u001b[0m\u001b[0;34m\u001b[0m\u001b[0m\n\u001b[0;32m-> 1298\u001b[0;31m                 \u001b[0;32mraise\u001b[0m \u001b[0mKeyError\u001b[0m\u001b[0;34m(\u001b[0m\u001b[0;34mf\"None of [{key}] are in the [{axis_name}]\"\u001b[0m\u001b[0;34m)\u001b[0m\u001b[0;34m\u001b[0m\u001b[0m\n\u001b[0m\u001b[1;32m   1299\u001b[0m \u001b[0;34m\u001b[0m\u001b[0m\n\u001b[1;32m   1300\u001b[0m             \u001b[0;31m# We (temporarily) allow for some missing keys with .loc, except in\u001b[0m\u001b[0;34m\u001b[0m\u001b[0;34m\u001b[0m\u001b[0m\n",
      "\u001b[0;31mKeyError\u001b[0m: \"None of [Index(['label_ids_value', 'game_ids_value'], dtype='object')] are in the [columns]\""
     ]
    }
   ],
   "source": [
    "ad = [7794, 7852, 7853, 7854, 7855]\n",
    "col = ['ad_account_id', 'image_id', 'label_ids','image_score']\n",
    "cap = 10\n",
    "image_score_pre = NewImageScore()\n",
    "img = image_score_pre()"
   ]
  },
  {
   "cell_type": "code",
   "execution_count": 97,
   "id": "10f09ff3",
   "metadata": {
    "ExecuteTime": {
     "end_time": "2021-06-24T06:09:34.752914Z",
     "start_time": "2021-06-24T06:09:34.749659Z"
    }
   },
   "outputs": [],
   "source": [
    "import random"
   ]
  },
  {
   "cell_type": "code",
   "execution_count": 103,
   "id": "8337467f",
   "metadata": {
    "ExecuteTime": {
     "end_time": "2021-06-24T06:12:39.885176Z",
     "start_time": "2021-06-24T06:12:39.837935Z"
    }
   },
   "outputs": [],
   "source": [
    "a = fenpei(img, ad, col, cap)"
   ]
  },
  {
   "cell_type": "markdown",
   "id": "8d70c41b",
   "metadata": {},
   "source": [
    "## 观察末日新素材\n",
    "* 新素材"
   ]
  },
  {
   "cell_type": "code",
   "execution_count": 2,
   "id": "daec0669",
   "metadata": {
    "ExecuteTime": {
     "end_time": "2021-07-01T05:39:11.299346Z",
     "start_time": "2021-07-01T05:39:11.296434Z"
    }
   },
   "outputs": [],
   "source": [
    "import os\n",
    "os.chdir(os.path.dirname(os.getcwd()))"
   ]
  },
  {
   "cell_type": "code",
   "execution_count": 3,
   "id": "b1d96586",
   "metadata": {
    "ExecuteTime": {
     "end_time": "2021-07-01T05:39:11.493302Z",
     "start_time": "2021-07-01T05:39:11.488226Z"
    }
   },
   "outputs": [],
   "source": [
    "from script.realtime_df import get_game_id"
   ]
  },
  {
   "cell_type": "code",
   "execution_count": 11,
   "id": "6608479e",
   "metadata": {
    "ExecuteTime": {
     "end_time": "2021-07-01T06:16:10.509675Z",
     "start_time": "2021-07-01T06:16:10.419357Z"
    }
   },
   "outputs": [],
   "source": [
    "true_game_ids = get_game_id(1056)"
   ]
  },
  {
   "cell_type": "code",
   "execution_count": 12,
   "id": "132fffce",
   "metadata": {
    "ExecuteTime": {
     "end_time": "2021-07-01T06:16:23.316222Z",
     "start_time": "2021-07-01T06:16:10.584312Z"
    }
   },
   "outputs": [],
   "source": [
    "# 88数据库 游标1\n",
    "conn1 = connect(host='192.168.0.88', port=10000, auth_mechanism='PLAIN', user='hadoop',\n",
    "            password='Ycjh8FxiaoMtShZRd3-97%3hCEL0CK4ns1w', database='default')\n",
    "cur1 = conn1.cursor()\n",
    "sql_engine = 'set hive.execution.engine=tez'\n",
    "sql = 'select image_id,label_ids,score from dws.dws_image_score_d where media_id=10 and dt>=\\'2021-01-01\\''\n",
    "cur1.execute(sql_engine)\n",
    "cur1.execute(sql)\n",
    "score_df = as_pandas(cur1)\n",
    "\n",
    "# 65数据库 游标2\n",
    "conn2 = pymysql.connect(host='192.168.0.65', port=3306, user='readonly',\n",
    "                        passwd='Kc&r+z1ql9x8za4kzfk761weq8ozGv3ZpI;RMe,#+s%c>t')\n",
    "cur2 = conn2.cursor(cursor=pymysql.cursors.DictCursor)\n",
    "sql = '''\n",
    "        /*手动查询*/ \n",
    "        SELECT\n",
    "            a.image_id,\n",
    "            a.image_name,\n",
    "            a.label_ids,\n",
    "            a.game_ids\n",
    "        FROM\n",
    "            db_ptom.ptom_image_info a\n",
    "        WHERE\n",
    "            a.create_time >= date(NOW() - INTERVAL 72 HOUR)  ## 最近3天\n",
    "    '''\n",
    "cur2.execute(sql)\n",
    "image_df = pd.read_sql(sql, conn2)\n",
    "image_df['label_ids'] = image_df['label_ids'].str.replace( ',', ';')  ## 避免分隔符冲突\n",
    "image_df['game_ids'] = image_df['game_ids'].str.replace( ',', ';')  ## 避免分隔符冲突\n",
    "# 新素材的label_id对齐\n",
    "image_df = image_df.loc[image_df.apply(lambda x:True if not pd.isnull(x['label_ids']) and str(20) in x['label_ids'] else False, axis=1)]\n",
    "# 新素材的game_ids对齐\n",
    "true_game_ids = [str(game_id['game_id']) for game_id in true_game_ids]\n",
    "image_df = image_df.loc[image_df.apply(lambda x:True if not pd.isnull(x['game_ids']) and len(list(set(true_game_ids).intersection(set(x['game_ids'].split(';'))))) > 0 else False, axis=1)]\n",
    "\n",
    "# 关闭链接\n",
    "cur1.close(), conn1.close()\n",
    "cur2.close(), conn2.close()\n",
    "\n",
    "# 过滤新素材\n",
    "image_df = image_df[image_df.apply(lambda x:True if not any(score_df['image_id'] == x.image_id) else False, axis=1)]\n",
    "image_df['score'] = np.nan\n",
    "image_df['label'] = 0"
   ]
  },
  {
   "cell_type": "code",
   "execution_count": 13,
   "id": "1b812402",
   "metadata": {
    "ExecuteTime": {
     "end_time": "2021-07-01T06:16:23.328111Z",
     "start_time": "2021-07-01T06:16:23.317830Z"
    }
   },
   "outputs": [
    {
     "data": {
      "text/html": [
       "<div>\n",
       "<style scoped>\n",
       "    .dataframe tbody tr th:only-of-type {\n",
       "        vertical-align: middle;\n",
       "    }\n",
       "\n",
       "    .dataframe tbody tr th {\n",
       "        vertical-align: top;\n",
       "    }\n",
       "\n",
       "    .dataframe thead th {\n",
       "        text-align: right;\n",
       "    }\n",
       "</style>\n",
       "<table border=\"1\" class=\"dataframe\">\n",
       "  <thead>\n",
       "    <tr style=\"text-align: right;\">\n",
       "      <th></th>\n",
       "      <th>image_id</th>\n",
       "      <th>image_name</th>\n",
       "      <th>label_ids</th>\n",
       "      <th>game_ids</th>\n",
       "      <th>score</th>\n",
       "      <th>label</th>\n",
       "    </tr>\n",
       "  </thead>\n",
       "  <tbody>\n",
       "    <tr>\n",
       "      <th>88</th>\n",
       "      <td>35336</td>\n",
       "      <td>SSR3555-横版（3D混剪）</td>\n",
       "      <td>20</td>\n",
       "      <td>1000840;1000862;1000869;1000935;1000947;100095...</td>\n",
       "      <td>NaN</td>\n",
       "      <td>0</td>\n",
       "    </tr>\n",
       "    <tr>\n",
       "      <th>91</th>\n",
       "      <td>35341</td>\n",
       "      <td>SSR3554-横版（3D混剪）</td>\n",
       "      <td>20</td>\n",
       "      <td>1000840;1000862;1000869;1000935;1000947;100095...</td>\n",
       "      <td>NaN</td>\n",
       "      <td>0</td>\n",
       "    </tr>\n",
       "    <tr>\n",
       "      <th>99</th>\n",
       "      <td>35353</td>\n",
       "      <td>SSR3559-横版（3D混剪）</td>\n",
       "      <td>20</td>\n",
       "      <td>1000840;1000862;1000869;1000935;1000947;100095...</td>\n",
       "      <td>NaN</td>\n",
       "      <td>0</td>\n",
       "    </tr>\n",
       "    <tr>\n",
       "      <th>110</th>\n",
       "      <td>35365</td>\n",
       "      <td>SSR3560-横版（3D混剪）</td>\n",
       "      <td>20</td>\n",
       "      <td>1000840;1000862;1000869;1000935;1000947;100095...</td>\n",
       "      <td>NaN</td>\n",
       "      <td>0</td>\n",
       "    </tr>\n",
       "    <tr>\n",
       "      <th>120</th>\n",
       "      <td>35376</td>\n",
       "      <td>SSR3561-竖版（3D混剪）</td>\n",
       "      <td>20</td>\n",
       "      <td>1000840;1000862;1000869;1000935;1000947;100095...</td>\n",
       "      <td>NaN</td>\n",
       "      <td>0</td>\n",
       "    </tr>\n",
       "    <tr>\n",
       "      <th>125</th>\n",
       "      <td>35381</td>\n",
       "      <td>SSR3564-竖版（3D混剪）</td>\n",
       "      <td>20</td>\n",
       "      <td>1000840;1000862;1000869;1000935;1000947;100095...</td>\n",
       "      <td>NaN</td>\n",
       "      <td>0</td>\n",
       "    </tr>\n",
       "    <tr>\n",
       "      <th>130</th>\n",
       "      <td>35386</td>\n",
       "      <td>SSR3565-竖版（3D混剪）</td>\n",
       "      <td>20</td>\n",
       "      <td>1000840;1000862;1000869;1000935;1000947;100095...</td>\n",
       "      <td>NaN</td>\n",
       "      <td>0</td>\n",
       "    </tr>\n",
       "    <tr>\n",
       "      <th>137</th>\n",
       "      <td>35393</td>\n",
       "      <td>SSR3566-横版（3D混剪）1</td>\n",
       "      <td>20</td>\n",
       "      <td>1000840;1000862;1000869;1000935;1000947;100095...</td>\n",
       "      <td>NaN</td>\n",
       "      <td>0</td>\n",
       "    </tr>\n",
       "    <tr>\n",
       "      <th>146</th>\n",
       "      <td>35402</td>\n",
       "      <td>SSR3570-竖版（3D原创）</td>\n",
       "      <td>20</td>\n",
       "      <td>1000840;1000862;1000869;1000935;1000947;100095...</td>\n",
       "      <td>NaN</td>\n",
       "      <td>0</td>\n",
       "    </tr>\n",
       "    <tr>\n",
       "      <th>147</th>\n",
       "      <td>35403</td>\n",
       "      <td>SSR3568-横版2（3D混剪）</td>\n",
       "      <td>20</td>\n",
       "      <td>1000840;1000862;1000869;1000935;1000947;100095...</td>\n",
       "      <td>NaN</td>\n",
       "      <td>0</td>\n",
       "    </tr>\n",
       "    <tr>\n",
       "      <th>148</th>\n",
       "      <td>35404</td>\n",
       "      <td>SSR3572-横版（3D混剪）</td>\n",
       "      <td>20</td>\n",
       "      <td>1000840;1000862;1000869;1000935;1000947;100095...</td>\n",
       "      <td>NaN</td>\n",
       "      <td>0</td>\n",
       "    </tr>\n",
       "    <tr>\n",
       "      <th>151</th>\n",
       "      <td>35407</td>\n",
       "      <td>SSR3571-横版（3D混剪）</td>\n",
       "      <td>20</td>\n",
       "      <td>1000840;1000862;1000869;1000935;1000947;100095...</td>\n",
       "      <td>NaN</td>\n",
       "      <td>0</td>\n",
       "    </tr>\n",
       "    <tr>\n",
       "      <th>154</th>\n",
       "      <td>35410</td>\n",
       "      <td>SSR3574-竖版（3D混剪）</td>\n",
       "      <td>20</td>\n",
       "      <td>1000840;1000862;1000869;1000935;1000947;100095...</td>\n",
       "      <td>NaN</td>\n",
       "      <td>0</td>\n",
       "    </tr>\n",
       "    <tr>\n",
       "      <th>155</th>\n",
       "      <td>35411</td>\n",
       "      <td>SSR3575-竖版H(3D混剪)</td>\n",
       "      <td>20</td>\n",
       "      <td>1000840;1000862;1000869;1000935;1000947;100095...</td>\n",
       "      <td>NaN</td>\n",
       "      <td>0</td>\n",
       "    </tr>\n",
       "    <tr>\n",
       "      <th>156</th>\n",
       "      <td>35412</td>\n",
       "      <td>SSR3573-横版2（3D混剪）</td>\n",
       "      <td>20</td>\n",
       "      <td>1000840;1000862;1000869;1000935;1000947;100095...</td>\n",
       "      <td>NaN</td>\n",
       "      <td>0</td>\n",
       "    </tr>\n",
       "    <tr>\n",
       "      <th>173</th>\n",
       "      <td>35430</td>\n",
       "      <td>SSR3576-竖版（3D混剪）</td>\n",
       "      <td>20</td>\n",
       "      <td>1000840;1000862;1000869;1000935;1000947;100095...</td>\n",
       "      <td>NaN</td>\n",
       "      <td>0</td>\n",
       "    </tr>\n",
       "  </tbody>\n",
       "</table>\n",
       "</div>"
      ],
      "text/plain": [
       "     image_id         image_name label_ids  \\\n",
       "88      35336   SSR3555-横版（3D混剪）        20   \n",
       "91      35341   SSR3554-横版（3D混剪）        20   \n",
       "99      35353   SSR3559-横版（3D混剪）        20   \n",
       "110     35365   SSR3560-横版（3D混剪）        20   \n",
       "120     35376   SSR3561-竖版（3D混剪）        20   \n",
       "125     35381   SSR3564-竖版（3D混剪）        20   \n",
       "130     35386   SSR3565-竖版（3D混剪）        20   \n",
       "137     35393  SSR3566-横版（3D混剪）1        20   \n",
       "146     35402   SSR3570-竖版（3D原创）        20   \n",
       "147     35403  SSR3568-横版2（3D混剪）        20   \n",
       "148     35404   SSR3572-横版（3D混剪）        20   \n",
       "151     35407   SSR3571-横版（3D混剪）        20   \n",
       "154     35410   SSR3574-竖版（3D混剪）        20   \n",
       "155     35411  SSR3575-竖版H(3D混剪)        20   \n",
       "156     35412  SSR3573-横版2（3D混剪）        20   \n",
       "173     35430   SSR3576-竖版（3D混剪）        20   \n",
       "\n",
       "                                              game_ids  score  label  \n",
       "88   1000840;1000862;1000869;1000935;1000947;100095...    NaN      0  \n",
       "91   1000840;1000862;1000869;1000935;1000947;100095...    NaN      0  \n",
       "99   1000840;1000862;1000869;1000935;1000947;100095...    NaN      0  \n",
       "110  1000840;1000862;1000869;1000935;1000947;100095...    NaN      0  \n",
       "120  1000840;1000862;1000869;1000935;1000947;100095...    NaN      0  \n",
       "125  1000840;1000862;1000869;1000935;1000947;100095...    NaN      0  \n",
       "130  1000840;1000862;1000869;1000935;1000947;100095...    NaN      0  \n",
       "137  1000840;1000862;1000869;1000935;1000947;100095...    NaN      0  \n",
       "146  1000840;1000862;1000869;1000935;1000947;100095...    NaN      0  \n",
       "147  1000840;1000862;1000869;1000935;1000947;100095...    NaN      0  \n",
       "148  1000840;1000862;1000869;1000935;1000947;100095...    NaN      0  \n",
       "151  1000840;1000862;1000869;1000935;1000947;100095...    NaN      0  \n",
       "154  1000840;1000862;1000869;1000935;1000947;100095...    NaN      0  \n",
       "155  1000840;1000862;1000869;1000935;1000947;100095...    NaN      0  \n",
       "156  1000840;1000862;1000869;1000935;1000947;100095...    NaN      0  \n",
       "173  1000840;1000862;1000869;1000935;1000947;100095...    NaN      0  "
      ]
     },
     "execution_count": 13,
     "metadata": {},
     "output_type": "execute_result"
    }
   ],
   "source": [
    "image_df"
   ]
  },
  {
   "cell_type": "code",
   "execution_count": 7,
   "id": "33a49b67",
   "metadata": {
    "ExecuteTime": {
     "end_time": "2021-07-01T05:39:24.608980Z",
     "start_time": "2021-07-01T05:39:24.604673Z"
    }
   },
   "outputs": [
    {
     "data": {
      "text/plain": [
       "35336"
      ]
     },
     "execution_count": 7,
     "metadata": {},
     "output_type": "execute_result"
    }
   ],
   "source": [
    "image_df.iloc[0]['image_id']  ## 32"
   ]
  },
  {
   "cell_type": "markdown",
   "id": "f97dfcb2",
   "metadata": {},
   "source": [
    "## 观察帝国新素材\n",
    "* 新素材"
   ]
  },
  {
   "cell_type": "code",
   "execution_count": null,
   "id": "3c83e71f",
   "metadata": {},
   "outputs": [],
   "source": [
    "import os\n",
    "os.chdir(os.path.dirname(os.getcwd()))"
   ]
  },
  {
   "cell_type": "code",
   "execution_count": null,
   "id": "3792c768",
   "metadata": {},
   "outputs": [],
   "source": [
    "from script.realtime_df import get_game_id"
   ]
  },
  {
   "cell_type": "code",
   "execution_count": 8,
   "id": "6e8128b6",
   "metadata": {
    "ExecuteTime": {
     "end_time": "2021-07-01T05:45:19.999282Z",
     "start_time": "2021-07-01T05:45:19.905001Z"
    }
   },
   "outputs": [],
   "source": [
    "true_game_ids = get_game_id(1112)"
   ]
  },
  {
   "cell_type": "code",
   "execution_count": 9,
   "id": "b5260492",
   "metadata": {
    "ExecuteTime": {
     "end_time": "2021-07-01T05:45:30.967060Z",
     "start_time": "2021-07-01T05:45:20.071089Z"
    }
   },
   "outputs": [],
   "source": [
    "# 88数据库 游标1\n",
    "conn1 = connect(host='192.168.0.88', port=10000, auth_mechanism='PLAIN', user='hadoop',\n",
    "            password='Ycjh8FxiaoMtShZRd3-97%3hCEL0CK4ns1w', database='default')\n",
    "cur1 = conn1.cursor()\n",
    "sql_engine = 'set hive.execution.engine=tez'\n",
    "sql = 'select image_id,label_ids,score from dws.dws_image_score_d where media_id=10 and dt>=\\'2021-01-01\\''\n",
    "cur1.execute(sql_engine)\n",
    "cur1.execute(sql)\n",
    "score_df = as_pandas(cur1)\n",
    "\n",
    "# 65数据库 游标2\n",
    "conn2 = pymysql.connect(host='192.168.0.65', port=3306, user='readonly',\n",
    "                        passwd='Kc&r+z1ql9x8za4kzfk761weq8ozGv3ZpI;RMe,#+s%c>t')\n",
    "cur2 = conn2.cursor(cursor=pymysql.cursors.DictCursor)\n",
    "sql = '''\n",
    "        /*手动查询*/ \n",
    "        SELECT\n",
    "            a.image_id,\n",
    "            a.image_name,\n",
    "            a.label_ids,\n",
    "            a.game_ids\n",
    "        FROM\n",
    "            db_ptom.ptom_image_info a\n",
    "        WHERE\n",
    "            a.create_time >= date(NOW() - INTERVAL 72 HOUR)  ## 最近3天\n",
    "    '''\n",
    "cur2.execute(sql)\n",
    "image_df = pd.read_sql(sql, conn2)\n",
    "image_df['label_ids'] = image_df['label_ids'].str.replace( ',', ';')  ## 避免分隔符冲突\n",
    "image_df['game_ids'] = image_df['game_ids'].str.replace( ',', ';')  ## 避免分隔符冲突\n",
    "# 新素材的label_ids对齐\n",
    "image_df = image_df.loc[image_df.apply(lambda x:True if not pd.isnull(x['label_ids']) and not x['label_ids']=='' else False, axis=1)]\n",
    "# 新素材的game_ids对齐\n",
    "true_game_ids = [str(game_id['game_id']) for game_id in true_game_ids]\n",
    "image_df = image_df.loc[image_df.apply(lambda x:True if not pd.isnull(x['game_ids']) and len(list(set(true_game_ids).intersection(set(x['game_ids'].split(';'))))) > 0 else False, axis=1)]\n",
    "\n",
    "# 关闭链接\n",
    "cur1.close(), conn1.close()\n",
    "cur2.close(), conn2.close()\n",
    "\n",
    "# 过滤新素材\n",
    "image_df = image_df[image_df.apply(lambda x:True if not any(score_df['image_id'] == x.image_id) else False, axis=1)]\n",
    "image_df['score'] = np.nan\n",
    "image_df['label'] = 0"
   ]
  },
  {
   "cell_type": "code",
   "execution_count": 10,
   "id": "2d8207f7",
   "metadata": {
    "ExecuteTime": {
     "end_time": "2021-07-01T05:45:30.979844Z",
     "start_time": "2021-07-01T05:45:30.968841Z"
    }
   },
   "outputs": [
    {
     "data": {
      "text/html": [
       "<div>\n",
       "<style scoped>\n",
       "    .dataframe tbody tr th:only-of-type {\n",
       "        vertical-align: middle;\n",
       "    }\n",
       "\n",
       "    .dataframe tbody tr th {\n",
       "        vertical-align: top;\n",
       "    }\n",
       "\n",
       "    .dataframe thead th {\n",
       "        text-align: right;\n",
       "    }\n",
       "</style>\n",
       "<table border=\"1\" class=\"dataframe\">\n",
       "  <thead>\n",
       "    <tr style=\"text-align: right;\">\n",
       "      <th></th>\n",
       "      <th>image_id</th>\n",
       "      <th>image_name</th>\n",
       "      <th>label_ids</th>\n",
       "      <th>game_ids</th>\n",
       "      <th>score</th>\n",
       "      <th>label</th>\n",
       "    </tr>\n",
       "  </thead>\n",
       "  <tbody>\n",
       "    <tr>\n",
       "      <th>56</th>\n",
       "      <td>35302</td>\n",
       "      <td>GZDGS540=C-JXC+ZLZ+ZLM 海伦被大象踢飞</td>\n",
       "      <td>134;133;132;170</td>\n",
       "      <td>1001464;1001469;1001488;1001489;1001491;100149...</td>\n",
       "      <td>NaN</td>\n",
       "      <td>0</td>\n",
       "    </tr>\n",
       "    <tr>\n",
       "      <th>60</th>\n",
       "      <td>35306</td>\n",
       "      <td>QMZZ1224-竖版ZDC（3D混剪3渲2帝国原生）(TT)</td>\n",
       "      <td>117</td>\n",
       "      <td>1001713;1001702;1001700;1001693;1001692;100168...</td>\n",
       "      <td>NaN</td>\n",
       "      <td>0</td>\n",
       "    </tr>\n",
       "    <tr>\n",
       "      <th>66</th>\n",
       "      <td>35312</td>\n",
       "      <td>QMZZ1225-横版ZDC（3D混剪）(TT)</td>\n",
       "      <td>114;124</td>\n",
       "      <td>1001713;1001702;1001700;1001693;1001692;100168...</td>\n",
       "      <td>NaN</td>\n",
       "      <td>0</td>\n",
       "    </tr>\n",
       "    <tr>\n",
       "      <th>78</th>\n",
       "      <td>35325</td>\n",
       "      <td>QMZZ1226-横版LL（3D混剪3渲2+原生）(TT)</td>\n",
       "      <td>114;117</td>\n",
       "      <td>1001713;1001702;1001700;1001693;1001692;100168...</td>\n",
       "      <td>NaN</td>\n",
       "      <td>0</td>\n",
       "    </tr>\n",
       "    <tr>\n",
       "      <th>92</th>\n",
       "      <td>35343</td>\n",
       "      <td>GZDGS546=J-LHJ 512+对比剪辑</td>\n",
       "      <td>130;132;140</td>\n",
       "      <td>1001464;1001469;1001488;1001489;1001491;100149...</td>\n",
       "      <td>NaN</td>\n",
       "      <td>0</td>\n",
       "    </tr>\n",
       "    <tr>\n",
       "      <th>123</th>\n",
       "      <td>35379</td>\n",
       "      <td>QMZZ1232-横版ZDC(TT)</td>\n",
       "      <td>121</td>\n",
       "      <td>1001713;1001702;1001700;1001693;1001692;100168...</td>\n",
       "      <td>NaN</td>\n",
       "      <td>0</td>\n",
       "    </tr>\n",
       "    <tr>\n",
       "      <th>126</th>\n",
       "      <td>35382</td>\n",
       "      <td>QMZZ1233-横版Z（3D复用3渲2）（TT）</td>\n",
       "      <td>115</td>\n",
       "      <td>1001713;1001702;1001700;1001693;1001692;100168...</td>\n",
       "      <td>NaN</td>\n",
       "      <td>0</td>\n",
       "    </tr>\n",
       "    <tr>\n",
       "      <th>127</th>\n",
       "      <td>35383</td>\n",
       "      <td>ZSJ183-横版J-B（3渲2复用）TT</td>\n",
       "      <td>117</td>\n",
       "      <td>1001713;1001702;1001700;1001693;1001692;100168...</td>\n",
       "      <td>NaN</td>\n",
       "      <td>0</td>\n",
       "    </tr>\n",
       "    <tr>\n",
       "      <th>129</th>\n",
       "      <td>35385</td>\n",
       "      <td>GZDGS547=C-ZLZ 被雷劈手指延展</td>\n",
       "      <td>133;132;129</td>\n",
       "      <td>1001464;1001469;1001488;1001489;1001491;100149...</td>\n",
       "      <td>NaN</td>\n",
       "      <td>0</td>\n",
       "    </tr>\n",
       "    <tr>\n",
       "      <th>131</th>\n",
       "      <td>35387</td>\n",
       "      <td>ZSJ184-横版tgy（3渲2原创）TT</td>\n",
       "      <td>124</td>\n",
       "      <td>1001713;1001702;1001700;1001693;1001692;100168...</td>\n",
       "      <td>NaN</td>\n",
       "      <td>0</td>\n",
       "    </tr>\n",
       "    <tr>\n",
       "      <th>133</th>\n",
       "      <td>35389</td>\n",
       "      <td>QMZZ1236-竖版ZDC（3D混剪）（TT）</td>\n",
       "      <td>115</td>\n",
       "      <td>1001713;1001702;1001700;1001693;1001692;100168...</td>\n",
       "      <td>NaN</td>\n",
       "      <td>0</td>\n",
       "    </tr>\n",
       "    <tr>\n",
       "      <th>134</th>\n",
       "      <td>35390</td>\n",
       "      <td>QMZZ1235-横版ly（3D混剪3渲2）（TT）</td>\n",
       "      <td>114;117</td>\n",
       "      <td>1001713;1001702;1001700;1001693;1001692;100168...</td>\n",
       "      <td>NaN</td>\n",
       "      <td>0</td>\n",
       "    </tr>\n",
       "    <tr>\n",
       "      <th>135</th>\n",
       "      <td>35391</td>\n",
       "      <td>QMZZ1237-横版LL（3D混剪3渲2）（TT）</td>\n",
       "      <td>114;117</td>\n",
       "      <td>1001713;1001702;1001700;1001693;1001692;100168...</td>\n",
       "      <td>NaN</td>\n",
       "      <td>0</td>\n",
       "    </tr>\n",
       "    <tr>\n",
       "      <th>141</th>\n",
       "      <td>35397</td>\n",
       "      <td>QMZZ1234-横版xy（3D复用3渲2）_无开头（TT）</td>\n",
       "      <td>115;156</td>\n",
       "      <td>1001465;1001466;1001473;1001493;1001545;100160...</td>\n",
       "      <td>NaN</td>\n",
       "      <td>0</td>\n",
       "    </tr>\n",
       "    <tr>\n",
       "      <th>142</th>\n",
       "      <td>35398</td>\n",
       "      <td>QMZZ1239-横版Z（帝国原生+3渲2）（TT)</td>\n",
       "      <td>156</td>\n",
       "      <td>1001713;1001702;1001700;1001693;1001692;100168...</td>\n",
       "      <td>NaN</td>\n",
       "      <td>0</td>\n",
       "    </tr>\n",
       "    <tr>\n",
       "      <th>144</th>\n",
       "      <td>35400</td>\n",
       "      <td>GZDGJ545=J-ZLM 帝国红警原生剪辑(640x360)</td>\n",
       "      <td>141</td>\n",
       "      <td>1001464;1001469;1001488;1001489;1001491;100149...</td>\n",
       "      <td>NaN</td>\n",
       "      <td>0</td>\n",
       "    </tr>\n",
       "    <tr>\n",
       "      <th>149</th>\n",
       "      <td>35405</td>\n",
       "      <td>QMZZ1240-横版QP（3渲2）（TT)</td>\n",
       "      <td>117;118</td>\n",
       "      <td>1001713;1001702;1001700;1001693;1001692;100168...</td>\n",
       "      <td>NaN</td>\n",
       "      <td>0</td>\n",
       "    </tr>\n",
       "    <tr>\n",
       "      <th>150</th>\n",
       "      <td>35406</td>\n",
       "      <td>ZSJ185-横版J（帝国原生）TT</td>\n",
       "      <td>117;156</td>\n",
       "      <td>1001713;1001702;1001700;1001693;1001692;100168...</td>\n",
       "      <td>NaN</td>\n",
       "      <td>0</td>\n",
       "    </tr>\n",
       "    <tr>\n",
       "      <th>152</th>\n",
       "      <td>35408</td>\n",
       "      <td>GZDGS541=J-JXC 海岛建造解说</td>\n",
       "      <td>135;132;139</td>\n",
       "      <td>1001464;1001469;1001488;1001489;1001491;100149...</td>\n",
       "      <td>NaN</td>\n",
       "      <td>0</td>\n",
       "    </tr>\n",
       "    <tr>\n",
       "      <th>153</th>\n",
       "      <td>35409</td>\n",
       "      <td>QMZZ1241-横版Z（3D混剪3渲2）（TT)</td>\n",
       "      <td>119;115</td>\n",
       "      <td>1001713;1001702;1001700;1001693;1001692;100168...</td>\n",
       "      <td>NaN</td>\n",
       "      <td>0</td>\n",
       "    </tr>\n",
       "    <tr>\n",
       "      <th>172</th>\n",
       "      <td>35429</td>\n",
       "      <td>QMZZ1242-横版ZDC（TT）</td>\n",
       "      <td>121</td>\n",
       "      <td>1001713;1001702;1001700;1001693;1001692;100168...</td>\n",
       "      <td>NaN</td>\n",
       "      <td>0</td>\n",
       "    </tr>\n",
       "  </tbody>\n",
       "</table>\n",
       "</div>"
      ],
      "text/plain": [
       "     image_id                        image_name        label_ids  \\\n",
       "56      35302    GZDGS540=C-JXC+ZLZ+ZLM 海伦被大象踢飞  134;133;132;170   \n",
       "60      35306   QMZZ1224-竖版ZDC（3D混剪3渲2帝国原生）(TT)              117   \n",
       "66      35312          QMZZ1225-横版ZDC（3D混剪）(TT)          114;124   \n",
       "78      35325     QMZZ1226-横版LL（3D混剪3渲2+原生）(TT)          114;117   \n",
       "92      35343           GZDGS546=J-LHJ 512+对比剪辑      130;132;140   \n",
       "123     35379                QMZZ1232-横版ZDC(TT)              121   \n",
       "126     35382         QMZZ1233-横版Z（3D复用3渲2）（TT）              115   \n",
       "127     35383             ZSJ183-横版J-B（3渲2复用）TT              117   \n",
       "129     35385            GZDGS547=C-ZLZ 被雷劈手指延展      133;132;129   \n",
       "131     35387             ZSJ184-横版tgy（3渲2原创）TT              124   \n",
       "133     35389          QMZZ1236-竖版ZDC（3D混剪）（TT）              115   \n",
       "134     35390        QMZZ1235-横版ly（3D混剪3渲2）（TT）          114;117   \n",
       "135     35391        QMZZ1237-横版LL（3D混剪3渲2）（TT）          114;117   \n",
       "141     35397    QMZZ1234-横版xy（3D复用3渲2）_无开头（TT）          115;156   \n",
       "142     35398        QMZZ1239-横版Z（帝国原生+3渲2）（TT)              156   \n",
       "144     35400  GZDGJ545=J-ZLM 帝国红警原生剪辑(640x360)              141   \n",
       "149     35405            QMZZ1240-横版QP（3渲2）（TT)          117;118   \n",
       "150     35406                ZSJ185-横版J（帝国原生）TT          117;156   \n",
       "152     35408             GZDGS541=J-JXC 海岛建造解说      135;132;139   \n",
       "153     35409         QMZZ1241-横版Z（3D混剪3渲2）（TT)          119;115   \n",
       "172     35429                QMZZ1242-横版ZDC（TT）              121   \n",
       "\n",
       "                                              game_ids  score  label  \n",
       "56   1001464;1001469;1001488;1001489;1001491;100149...    NaN      0  \n",
       "60   1001713;1001702;1001700;1001693;1001692;100168...    NaN      0  \n",
       "66   1001713;1001702;1001700;1001693;1001692;100168...    NaN      0  \n",
       "78   1001713;1001702;1001700;1001693;1001692;100168...    NaN      0  \n",
       "92   1001464;1001469;1001488;1001489;1001491;100149...    NaN      0  \n",
       "123  1001713;1001702;1001700;1001693;1001692;100168...    NaN      0  \n",
       "126  1001713;1001702;1001700;1001693;1001692;100168...    NaN      0  \n",
       "127  1001713;1001702;1001700;1001693;1001692;100168...    NaN      0  \n",
       "129  1001464;1001469;1001488;1001489;1001491;100149...    NaN      0  \n",
       "131  1001713;1001702;1001700;1001693;1001692;100168...    NaN      0  \n",
       "133  1001713;1001702;1001700;1001693;1001692;100168...    NaN      0  \n",
       "134  1001713;1001702;1001700;1001693;1001692;100168...    NaN      0  \n",
       "135  1001713;1001702;1001700;1001693;1001692;100168...    NaN      0  \n",
       "141  1001465;1001466;1001473;1001493;1001545;100160...    NaN      0  \n",
       "142  1001713;1001702;1001700;1001693;1001692;100168...    NaN      0  \n",
       "144  1001464;1001469;1001488;1001489;1001491;100149...    NaN      0  \n",
       "149  1001713;1001702;1001700;1001693;1001692;100168...    NaN      0  \n",
       "150  1001713;1001702;1001700;1001693;1001692;100168...    NaN      0  \n",
       "152  1001464;1001469;1001488;1001489;1001491;100149...    NaN      0  \n",
       "153  1001713;1001702;1001700;1001693;1001692;100168...    NaN      0  \n",
       "172  1001713;1001702;1001700;1001693;1001692;100168...    NaN      0  "
      ]
     },
     "execution_count": 10,
     "metadata": {},
     "output_type": "execute_result"
    }
   ],
   "source": [
    "image_df"
   ]
  },
  {
   "cell_type": "code",
   "execution_count": null,
   "id": "dd01f9a8",
   "metadata": {},
   "outputs": [],
   "source": []
  }
 ],
 "metadata": {
  "kernelspec": {
   "display_name": "Python 3",
   "language": "python",
   "name": "python3"
  },
  "language_info": {
   "codemirror_mode": {
    "name": "ipython",
    "version": 3
   },
   "file_extension": ".py",
   "mimetype": "text/x-python",
   "name": "python",
   "nbconvert_exporter": "python",
   "pygments_lexer": "ipython3",
   "version": "3.7.0"
  },
  "toc": {
   "base_numbering": 1,
   "nav_menu": {},
   "number_sections": true,
   "sideBar": true,
   "skip_h1_title": false,
   "title_cell": "Table of Contents",
   "title_sidebar": "Contents",
   "toc_cell": false,
   "toc_position": {
    "height": "calc(100% - 180px)",
    "left": "10px",
    "top": "150px",
    "width": "190px"
   },
   "toc_section_display": true,
   "toc_window_display": true
  }
 },
 "nbformat": 4,
 "nbformat_minor": 5
}
