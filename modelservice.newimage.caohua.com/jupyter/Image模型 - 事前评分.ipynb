{
 "cells": [
  {
   "cell_type": "markdown",
   "id": "25646f34",
   "metadata": {},
   "source": [
    "# 自动化新素材评分 - 事前模型\n",
    "* 目的：自动化新素材的评分流程；\n",
    "* 思路：考虑计划指定的 策略+定向 的影响，选择相关素材下的计划上线情况对素材进行打分；"
   ]
  },
  {
   "cell_type": "code",
   "execution_count": 1,
   "id": "c005a11f",
   "metadata": {
    "ExecuteTime": {
     "end_time": "2021-06-22T01:19:39.177186Z",
     "start_time": "2021-06-22T01:19:38.441775Z"
    }
   },
   "outputs": [],
   "source": [
    "import os\n",
    "os.chdir(os.path.dirname(os.getcwd()))\n",
    "import pandas as pd\n",
    "import numpy as np\n",
    "pd.set_option(\"display.max_columns\", None)\n",
    "from impala.dbapi import connect\n",
    "from impala.util import as_pandas\n",
    "import json\n",
    "import pymysql\n",
    "import datetime\n",
    "from tqdm.auto import tqdm\n",
    "tqdm.pandas(desc=\"Processing!\")\n",
    "\n",
    "from script.weight import weights_calcul, weights_assign  # 线性最小二乘的权值编、解码脚本"
   ]
  },
  {
   "cell_type": "markdown",
   "id": "dbecbcf4",
   "metadata": {},
   "source": [
    "## 数据模式一：素材评分历史\n",
    "* select * from dws.dws_image_score_d\n",
    "* 1条评分记录对应1个素材，1个素材对应1款游戏下的多个包体(game_id)，1个素材评分是1款游戏下该素材投放的所有计划情况；"
   ]
  },
  {
   "cell_type": "code",
   "execution_count": null,
   "id": "d21ed24a",
   "metadata": {},
   "outputs": [],
   "source": []
  },
  {
   "cell_type": "code",
   "execution_count": 2,
   "id": "5bb574ff",
   "metadata": {
    "ExecuteTime": {
     "end_time": "2021-06-22T01:19:39.716735Z",
     "start_time": "2021-06-22T01:19:39.179226Z"
    }
   },
   "outputs": [],
   "source": [
    "df_score = pd.read_csv('/home/data/ch_data/dws_image_score_d.csv', encoding='GB2312')"
   ]
  },
  {
   "cell_type": "markdown",
   "id": "1a185bcc",
   "metadata": {},
   "source": [
    "* 删除hr字段"
   ]
  },
  {
   "cell_type": "code",
   "execution_count": 3,
   "id": "d614461d",
   "metadata": {
    "ExecuteTime": {
     "end_time": "2021-06-22T01:19:39.741238Z",
     "start_time": "2021-06-22T01:19:39.718779Z"
    }
   },
   "outputs": [],
   "source": [
    "df_score = df_score.drop(['hr'],axis=1)"
   ]
  },
  {
   "cell_type": "markdown",
   "id": "f84eae76",
   "metadata": {},
   "source": [
    "* 过滤：label_id无效标签"
   ]
  },
  {
   "cell_type": "code",
   "execution_count": 4,
   "id": "125abe6b",
   "metadata": {
    "ExecuteTime": {
     "end_time": "2021-06-22T01:19:39.789632Z",
     "start_time": "2021-06-22T01:19:39.743254Z"
    }
   },
   "outputs": [],
   "source": [
    "df_score = df_score[df_score['label_ids'].notnull() & (df_score['label_ids'] != '-1') & (df_score['label_ids'] != '\\\"-1')]"
   ]
  },
  {
   "cell_type": "code",
   "execution_count": 5,
   "id": "bf4a03b8",
   "metadata": {
    "ExecuteTime": {
     "end_time": "2021-06-22T01:19:40.034615Z",
     "start_time": "2021-06-22T01:19:39.791120Z"
    }
   },
   "outputs": [],
   "source": [
    "df_score['label_ids'] = df_score['label_ids'].str.replace('-1;', '')\n",
    "df_score['label_ids'] = df_score['label_ids'].str.replace('-1,', '')\n",
    "df_score['label_ids'] = df_score['label_ids'].str.replace('\\\"', '') \n",
    "df_score['label_ids'] = df_score['label_ids'].str.replace(';', ',')"
   ]
  },
  {
   "cell_type": "code",
   "execution_count": 6,
   "id": "ffabaa40",
   "metadata": {
    "ExecuteTime": {
     "end_time": "2021-06-22T01:19:40.040567Z",
     "start_time": "2021-06-22T01:19:40.037485Z"
    }
   },
   "outputs": [],
   "source": [
    "# df_score = df_score[df_score['media_id'] == 10]"
   ]
  },
  {
   "cell_type": "markdown",
   "id": "f83859e1",
   "metadata": {},
   "source": [
    "* 过滤：重复行"
   ]
  },
  {
   "cell_type": "code",
   "execution_count": 7,
   "id": "935dea2d",
   "metadata": {
    "ExecuteTime": {
     "end_time": "2021-06-22T01:19:40.120952Z",
     "start_time": "2021-06-22T01:19:40.042977Z"
    }
   },
   "outputs": [],
   "source": [
    "df_score = df_score[['image_id', 'image_name', 'label_ids', 'model_run_datetime', 'image_launch_time', 'dt', 'score']]\n",
    "df_score.drop_duplicates(inplace=True)  # 注意keep=first"
   ]
  },
  {
   "cell_type": "code",
   "execution_count": 8,
   "id": "98f3fd30",
   "metadata": {
    "ExecuteTime": {
     "end_time": "2021-06-22T01:19:40.142559Z",
     "start_time": "2021-06-22T01:19:40.122498Z"
    }
   },
   "outputs": [
    {
     "name": "stdout",
     "output_type": "stream",
     "text": [
      "<class 'pandas.core.frame.DataFrame'>\n",
      "Int64Index: 70846 entries, 4346 to 190957\n",
      "Data columns (total 7 columns):\n",
      " #   Column              Non-Null Count  Dtype \n",
      "---  ------              --------------  ----- \n",
      " 0   image_id            70846 non-null  int64 \n",
      " 1   image_name          70846 non-null  object\n",
      " 2   label_ids           70846 non-null  object\n",
      " 3   model_run_datetime  70846 non-null  object\n",
      " 4   image_launch_time   70846 non-null  object\n",
      " 5   dt                  70846 non-null  object\n",
      " 6   score               70846 non-null  int64 \n",
      "dtypes: int64(2), object(5)\n",
      "memory usage: 4.3+ MB\n"
     ]
    }
   ],
   "source": [
    "df_score.info()"
   ]
  },
  {
   "cell_type": "code",
   "execution_count": 9,
   "id": "96362f91",
   "metadata": {
    "ExecuteTime": {
     "end_time": "2021-06-22T01:19:40.159758Z",
     "start_time": "2021-06-22T01:19:40.144268Z"
    }
   },
   "outputs": [
    {
     "data": {
      "text/html": [
       "<div>\n",
       "<style scoped>\n",
       "    .dataframe tbody tr th:only-of-type {\n",
       "        vertical-align: middle;\n",
       "    }\n",
       "\n",
       "    .dataframe tbody tr th {\n",
       "        vertical-align: top;\n",
       "    }\n",
       "\n",
       "    .dataframe thead th {\n",
       "        text-align: right;\n",
       "    }\n",
       "</style>\n",
       "<table border=\"1\" class=\"dataframe\">\n",
       "  <thead>\n",
       "    <tr style=\"text-align: right;\">\n",
       "      <th></th>\n",
       "      <th>image_id</th>\n",
       "      <th>image_name</th>\n",
       "      <th>label_ids</th>\n",
       "      <th>model_run_datetime</th>\n",
       "      <th>image_launch_time</th>\n",
       "      <th>dt</th>\n",
       "      <th>score</th>\n",
       "    </tr>\n",
       "  </thead>\n",
       "  <tbody>\n",
       "    <tr>\n",
       "      <th>4346</th>\n",
       "      <td>23237</td>\n",
       "      <td>SSR1399-横版（混剪）</td>\n",
       "      <td>19</td>\n",
       "      <td>2020-12-18</td>\n",
       "      <td>2020-07-11</td>\n",
       "      <td>2020-12-18</td>\n",
       "      <td>478</td>\n",
       "    </tr>\n",
       "    <tr>\n",
       "      <th>4347</th>\n",
       "      <td>23509</td>\n",
       "      <td>SSR1414-竖版（3D混剪）</td>\n",
       "      <td>20</td>\n",
       "      <td>2020-12-18</td>\n",
       "      <td>2020-07-16</td>\n",
       "      <td>2020-12-18</td>\n",
       "      <td>571</td>\n",
       "    </tr>\n",
       "    <tr>\n",
       "      <th>4348</th>\n",
       "      <td>23509</td>\n",
       "      <td>SSR1414-竖版（3D混剪）</td>\n",
       "      <td>20</td>\n",
       "      <td>2020-12-18</td>\n",
       "      <td>2020-07-16</td>\n",
       "      <td>2020-12-18</td>\n",
       "      <td>500</td>\n",
       "    </tr>\n",
       "    <tr>\n",
       "      <th>4349</th>\n",
       "      <td>23552</td>\n",
       "      <td>SSR1419-横版（3D混剪）</td>\n",
       "      <td>20</td>\n",
       "      <td>2020-12-18</td>\n",
       "      <td>2020-07-14</td>\n",
       "      <td>2020-12-18</td>\n",
       "      <td>511</td>\n",
       "    </tr>\n",
       "    <tr>\n",
       "      <th>4350</th>\n",
       "      <td>23846</td>\n",
       "      <td>SSR1484-横版（3D混剪）</td>\n",
       "      <td>20</td>\n",
       "      <td>2020-12-18</td>\n",
       "      <td>2020-07-27</td>\n",
       "      <td>2020-12-18</td>\n",
       "      <td>540</td>\n",
       "    </tr>\n",
       "  </tbody>\n",
       "</table>\n",
       "</div>"
      ],
      "text/plain": [
       "      image_id        image_name label_ids model_run_datetime  \\\n",
       "4346     23237    SSR1399-横版（混剪）        19         2020-12-18   \n",
       "4347     23509  SSR1414-竖版（3D混剪）        20         2020-12-18   \n",
       "4348     23509  SSR1414-竖版（3D混剪）        20         2020-12-18   \n",
       "4349     23552  SSR1419-横版（3D混剪）        20         2020-12-18   \n",
       "4350     23846  SSR1484-横版（3D混剪）        20         2020-12-18   \n",
       "\n",
       "     image_launch_time          dt  score  \n",
       "4346        2020-07-11  2020-12-18    478  \n",
       "4347        2020-07-16  2020-12-18    571  \n",
       "4348        2020-07-16  2020-12-18    500  \n",
       "4349        2020-07-14  2020-12-18    511  \n",
       "4350        2020-07-27  2020-12-18    540  "
      ]
     },
     "execution_count": 9,
     "metadata": {},
     "output_type": "execute_result"
    }
   ],
   "source": [
    "df_score.head()"
   ]
  },
  {
   "cell_type": "markdown",
   "id": "48182702",
   "metadata": {},
   "source": [
    "## 数据模式二：计划信息+素材信息\n",
    "* 1条评分记录对应1个素材，1个素材对应1款游戏下的多个包体(game_id)，1个素材评分是1款游戏下该素材投放的所有计划情况；"
   ]
  },
  {
   "cell_type": "markdown",
   "id": "92e34f0c",
   "metadata": {},
   "source": [
    "* 采集：计划信息"
   ]
  },
  {
   "cell_type": "code",
   "execution_count": 10,
   "id": "bee30398",
   "metadata": {
    "ExecuteTime": {
     "end_time": "2021-06-22T01:19:40.165670Z",
     "start_time": "2021-06-22T01:19:40.161499Z"
    }
   },
   "outputs": [],
   "source": [
    "def get_game_id():\n",
    "    conn = pymysql.connect(host='192.168.0.79', port=3306, user='readonly',\n",
    "                           passwd='Kc&r+z1ql9x8za4kzfk761weq8ozGv3ZpI;RMe,#+s%c>t')\n",
    "    cur = conn.cursor(cursor=pymysql.cursors.DictCursor)\n",
    "    sql = '''\n",
    "        SELECT dev_game_id AS game_id FROM db_data.t_game_config WHERE game_id = 1056 AND dev_game_id IS NOT NULL \n",
    "    '''\n",
    "    cur.execute(sql)\n",
    "    result_df = cur.fetchall()\n",
    "    cur.close()\n",
    "    conn.close()\n",
    "    return result_df"
   ]
  },
  {
   "cell_type": "code",
   "execution_count": 11,
   "id": "9f52a68a",
   "metadata": {
    "ExecuteTime": {
     "end_time": "2021-06-22T01:19:41.757740Z",
     "start_time": "2021-06-22T01:19:40.167354Z"
    }
   },
   "outputs": [],
   "source": [
    "plan_info = pd.read_csv('/home/data/ch_data/ptom_third_plan.csv')"
   ]
  },
  {
   "cell_type": "code",
   "execution_count": 12,
   "id": "930c62fc",
   "metadata": {
    "ExecuteTime": {
     "end_time": "2021-06-22T01:19:41.763927Z",
     "start_time": "2021-06-22T01:19:41.759305Z"
    }
   },
   "outputs": [],
   "source": [
    "def get_plan_info():\n",
    "    game_id = get_game_id()\n",
    "    game_id = list(map(lambda x: x['game_id'], game_id))\n",
    "    game_id = [str(i) for i in game_id]\n",
    "    game_id = ','.join(game_id)\n",
    "    conn = pymysql.connect(host='192.168.0.65', port=3306, user='readonly',\n",
    "                           passwd='Kc&r+z1ql9x8za4kzfk761weq8ozGv3ZpI;RMe,#+s%c>t', db='db_ptom')\n",
    "    cur = conn.cursor(cursor=pymysql.cursors.DictCursor)\n",
    "    sql = '''\n",
    "    /*手动查询*/\n",
    "        SELECT\n",
    "                * \n",
    "            FROM\n",
    "                db_ptom.ptom_third_plan p\n",
    "            WHERE\n",
    "                game_id IN ({})\n",
    "                AND media_id = 10\n",
    "                AND create_time>='2019-01-01'\n",
    "                AND create_time<= date(NOW())\n",
    "                            AND plan_id >= (\n",
    "                                select plan_id from db_ptom.ptom_plan\n",
    "                                where create_time >= '2019-01-01'\n",
    "                                and create_time <= '2021-06-01'\n",
    "                                limit 1\n",
    "                            )\n",
    "    '''\n",
    "    finalSql = sql.format(game_id)\n",
    "    result_df = pd.read_sql(finalSql, conn)\n",
    "    cur.close()\n",
    "    conn.close()\n",
    "    return result_df"
   ]
  },
  {
   "cell_type": "code",
   "execution_count": 13,
   "id": "748d408a",
   "metadata": {
    "ExecuteTime": {
     "end_time": "2021-06-22T01:20:29.043957Z",
     "start_time": "2021-06-22T01:19:41.765322Z"
    }
   },
   "outputs": [],
   "source": [
    "plan_info_new = get_plan_info()"
   ]
  },
  {
   "cell_type": "markdown",
   "id": "8cfb9245",
   "metadata": {},
   "source": [
    "* 采集：素材信息"
   ]
  },
  {
   "cell_type": "code",
   "execution_count": 14,
   "id": "cabca997",
   "metadata": {
    "ExecuteTime": {
     "end_time": "2021-06-22T01:20:29.064243Z",
     "start_time": "2021-06-22T01:20:29.045622Z"
    }
   },
   "outputs": [],
   "source": [
    "image_info = pd.read_csv('/home/data/ch_data/image_info.csv')"
   ]
  },
  {
   "cell_type": "code",
   "execution_count": 15,
   "id": "5fbd5ea2",
   "metadata": {
    "ExecuteTime": {
     "end_time": "2021-06-22T01:20:29.069477Z",
     "start_time": "2021-06-22T01:20:29.065943Z"
    }
   },
   "outputs": [],
   "source": [
    "def get_image_info():\n",
    "    conn = pymysql.connect(host='192.168.0.79', port=3306, user='readonly',\n",
    "                           passwd='Kc&r+z1ql9x8za4kzfk761weq8ozGv3ZpI;RMe,#+s%c>t')\n",
    "    cur = conn.cursor(cursor=pymysql.cursors.DictCursor)\n",
    "    sql = '''\n",
    "        SELECT\n",
    "            a.chl_user_id AS channel_id,\n",
    "            a.source_id,\n",
    "            a.image_id,\n",
    "            b.label_ids\n",
    "        FROM\n",
    "            db_data_ptom.ptom_plan a\n",
    "            LEFT JOIN\n",
    "            db_data_ptom.ptom_image_info b\n",
    "        on a.image_id = b.image_id\n",
    "        WHERE\n",
    "            a.game_id IN ( SELECT dev_game_id AS game_id FROM db_data.t_game_config WHERE game_id = 1056 AND dev_game_id IS NOT NULL ) \n",
    "            AND a.media_id = 10 \n",
    "            AND a.create_time >= '2019-01-01' \n",
    "        GROUP BY\n",
    "            a.chl_user_id,\n",
    "            a.source_id,\n",
    "            a.image_id\n",
    "    '''\n",
    "    cur.execute(sql)\n",
    "    result_df = pd.read_sql(sql, conn)\n",
    "    cur.close()\n",
    "    conn.close()\n",
    "    return result_df"
   ]
  },
  {
   "cell_type": "code",
   "execution_count": 16,
   "id": "db749fcb",
   "metadata": {
    "ExecuteTime": {
     "end_time": "2021-06-22T01:20:33.069746Z",
     "start_time": "2021-06-22T01:20:29.071198Z"
    }
   },
   "outputs": [],
   "source": [
    "image_info_new = get_image_info()"
   ]
  },
  {
   "cell_type": "markdown",
   "id": "3403c6aa",
   "metadata": {},
   "source": [
    "* 合并"
   ]
  },
  {
   "cell_type": "code",
   "execution_count": 17,
   "id": "3f0e738e",
   "metadata": {
    "ExecuteTime": {
     "end_time": "2021-06-22T01:20:33.077985Z",
     "start_time": "2021-06-22T01:20:33.071501Z"
    }
   },
   "outputs": [],
   "source": [
    "def get_plan_json(plan_info):\n",
    "    plan_info.drop(['inventory_type', 'budget'], axis=1, inplace=True)\n",
    "    plan_info.dropna(how='all', inplace=True, axis=1)\n",
    "    plan_info.dropna(subset=['ad_info'], inplace=True)\n",
    "    # 解析json\n",
    "    plan_info['ad_info'] = plan_info['ad_info'].apply(json.loads)\n",
    "    temp = plan_info['ad_info'].apply(pd.Series)\n",
    "    plan_info = pd.concat([plan_info, temp], axis=1)\n",
    "    plan_info.drop('ad_info', axis=1, inplace=True)\n",
    "    temp = plan_info['audience'].apply(pd.Series)\n",
    "    plan_info = pd.concat([plan_info, temp], axis=1)\n",
    "    plan_info.drop('audience', axis=1, inplace=True)\n",
    "    temp = plan_info['action'].apply(pd.Series)\n",
    "    plan_info = pd.concat([plan_info, temp], axis=1)\n",
    "    plan_info.drop('action', axis=1, inplace=True)\n",
    "    plan_info.dropna(how='all', inplace=True, axis=1)\n",
    "    plan_info = plan_info[['ad_account_id', 'game_id', 'channel_id', 'source_id',\n",
    "                           'create_time', 'smart_bid_type', 'hide_if_exists', 'budget',\n",
    "                           'delivery_range', 'adjust_cpa', 'inventory_type', 'hide_if_converted',\n",
    "                           'flow_control_mode', 'schedule_time', 'cpa_bid', 'auto_extend_enabled',\n",
    "                           'gender', 'city', 'platform', 'launch_price',\n",
    "                           'retargeting_tags_exclude', 'interest_categories',\n",
    "                           'ac', 'android_osv', 'location_type', 'retargeting_tags_include',\n",
    "                           'retargeting_type', 'ios_osv', 'interest_action_mode', 'age',\n",
    "                           'action_categories', 'action_days', 'action_scene', 'deep_bid_type']]\n",
    "    return plan_info"
   ]
  },
  {
   "cell_type": "code",
   "execution_count": 18,
   "id": "b1c03e88",
   "metadata": {
    "ExecuteTime": {
     "end_time": "2021-06-22T01:23:28.258139Z",
     "start_time": "2021-06-22T01:20:33.082373Z"
    }
   },
   "outputs": [],
   "source": [
    "# 计划\n",
    "plan_info = plan_info.append(plan_info_new)\n",
    "plan_info = get_plan_json(plan_info)\n",
    "# 素材\n",
    "image_info = image_info.append(image_info_new)\n",
    "image_info.dropna(subset=['image_id'], inplace=True)\n",
    "image_info['image_id'] = image_info['image_id'].astype(int)"
   ]
  },
  {
   "cell_type": "code",
   "execution_count": 19,
   "id": "a797131e",
   "metadata": {
    "ExecuteTime": {
     "end_time": "2021-06-22T01:23:29.505358Z",
     "start_time": "2021-06-22T01:23:28.261503Z"
    }
   },
   "outputs": [],
   "source": [
    "df_create = pd.merge(plan_info, image_info, on=['channel_id', 'source_id'], how='left')"
   ]
  },
  {
   "cell_type": "code",
   "execution_count": 20,
   "id": "585fb8c4",
   "metadata": {
    "ExecuteTime": {
     "end_time": "2021-06-22T01:23:29.914881Z",
     "start_time": "2021-06-22T01:23:29.506880Z"
    }
   },
   "outputs": [],
   "source": [
    "# col = ['game_id', 'image_id', 'label_ids', 'create_time', 'smart_bid_type', 'hide_if_exists', 'budget', 'delivery_range', 'adjust_cpa', 'inventory_type', 'hide_if_converted', 'flow_control_mode', 'cpa_bid', 'auto_extend_enabled', 'gender', 'city', 'platform', 'launch_price', 'retargeting_tags_exclude', 'interest_categories', 'ac', 'android_osv', 'location_type', 'retargeting_tags_include', 'retargeting_type', 'ios_osv', 'interest_action_mode', 'age', 'action_categories', 'action_days', 'action_scene', 'deep_bid_type']\n",
    "col = ['game_id', 'image_id', 'label_ids','create_time']  # 'create_time'\n",
    "df_create = df_create[col]"
   ]
  },
  {
   "cell_type": "markdown",
   "id": "c94f63a9",
   "metadata": {},
   "source": [
    "* 特殊字段"
   ]
  },
  {
   "cell_type": "code",
   "execution_count": 21,
   "id": "cc0e2d51",
   "metadata": {
    "ExecuteTime": {
     "end_time": "2021-06-22T01:23:30.354082Z",
     "start_time": "2021-06-22T01:23:29.916662Z"
    }
   },
   "outputs": [],
   "source": [
    "df_create = df_create.mask(df_create.applymap(str).eq('[]'))  # 空list替换为NaN"
   ]
  },
  {
   "cell_type": "code",
   "execution_count": 22,
   "id": "110b6693",
   "metadata": {
    "ExecuteTime": {
     "end_time": "2021-06-22T01:23:30.780273Z",
     "start_time": "2021-06-22T01:23:30.355699Z"
    }
   },
   "outputs": [],
   "source": [
    "df_create = df_create.mask(df_create.applymap(str).eq('NONE'))  # NONE替换为NaN"
   ]
  },
  {
   "cell_type": "markdown",
   "id": "bdb03936",
   "metadata": {},
   "source": [
    "* 过滤"
   ]
  },
  {
   "cell_type": "code",
   "execution_count": 23,
   "id": "ff333dfc",
   "metadata": {
    "ExecuteTime": {
     "end_time": "2021-06-22T01:23:30.933605Z",
     "start_time": "2021-06-22T01:23:30.781848Z"
    }
   },
   "outputs": [],
   "source": [
    "from matplotlib import pyplot as plt"
   ]
  },
  {
   "cell_type": "code",
   "execution_count": 24,
   "id": "e9c1e7e4",
   "metadata": {
    "ExecuteTime": {
     "end_time": "2021-06-22T01:23:31.069608Z",
     "start_time": "2021-06-22T01:23:30.935156Z"
    }
   },
   "outputs": [
    {
     "data": {
      "image/png": "[encoded data removed]",
      "text/plain": [
       "<Figure size 576x720 with 1 Axes>"
      ]
     },
     "metadata": {
      "needs_background": "light"
     },
     "output_type": "display_data"
    }
   ],
   "source": [
    "# 各字段缺失率统计\n",
    "na_rate = (len(df_create) - df_create.count()) / len(df_create)  # 缺失率\n",
    "a = na_rate.sort_values(ascending=False)  # 倒序\n",
    "a1 = pd.DataFrame(a)\n",
    "plt.style.use('bmh')\n",
    "plt.figure(figsize = (8,10))\n",
    "plt.barh(range(df_create.shape[1]),a1[0])\n",
    "plt.xlabel('na_rate')\n",
    "plt.xlim([0,1])\n",
    "plt.yticks(range(df_create.shape[1]),a1.index.values.tolist())\n",
    "for x,y in enumerate(a1[0]):\n",
    "    plt.text(y,x,'%.3f'%y, va='bottom')"
   ]
  },
  {
   "cell_type": "code",
   "execution_count": 25,
   "id": "56822ca8",
   "metadata": {
    "ExecuteTime": {
     "end_time": "2021-06-22T01:23:31.073997Z",
     "start_time": "2021-06-22T01:23:31.071134Z"
    }
   },
   "outputs": [],
   "source": [
    "# df_create = df_create.drop(['deep_bid_type', 'action_categories', 'action_scene', 'ios_osv', 'retargeting_tags_include', 'city', 'interest_categories', 'action_days', 'ac', 'retargeting_tags_exclude', 'android_osv', 'retargeting_type'], axis=1)  # 删除缺失率超25%的字段"
   ]
  },
  {
   "cell_type": "code",
   "execution_count": 26,
   "id": "3ae266b4",
   "metadata": {
    "ExecuteTime": {
     "end_time": "2021-06-22T01:23:31.099819Z",
     "start_time": "2021-06-22T01:23:31.075701Z"
    }
   },
   "outputs": [],
   "source": [
    "df_create = df_create[df_create['label_ids'].notnull()]  # 删除'label_ids'字段的NaN行"
   ]
  },
  {
   "cell_type": "code",
   "execution_count": 27,
   "id": "c62fcbbd",
   "metadata": {
    "ExecuteTime": {
     "end_time": "2021-06-22T01:23:31.105660Z",
     "start_time": "2021-06-22T01:23:31.101363Z"
    }
   },
   "outputs": [],
   "source": [
    "df_create['image_id'] = df_create['image_id'].astype(int)"
   ]
  },
  {
   "cell_type": "code",
   "execution_count": 28,
   "id": "b559f458",
   "metadata": {
    "ExecuteTime": {
     "end_time": "2021-06-22T01:23:31.130169Z",
     "start_time": "2021-06-22T01:23:31.107441Z"
    }
   },
   "outputs": [
    {
     "name": "stdout",
     "output_type": "stream",
     "text": [
      "<class 'pandas.core.frame.DataFrame'>\n",
      "Int64Index: 231214 entries, 4 to 273445\n",
      "Data columns (total 4 columns):\n",
      " #   Column       Non-Null Count   Dtype \n",
      "---  ------       --------------   ----- \n",
      " 0   game_id      231214 non-null  int64 \n",
      " 1   image_id     231214 non-null  int64 \n",
      " 2   label_ids    231214 non-null  object\n",
      " 3   create_time  231214 non-null  object\n",
      "dtypes: int64(2), object(2)\n",
      "memory usage: 8.8+ MB\n"
     ]
    }
   ],
   "source": [
    "df_create.info()"
   ]
  },
  {
   "cell_type": "code",
   "execution_count": 29,
   "id": "cc5f056e",
   "metadata": {
    "ExecuteTime": {
     "end_time": "2021-06-22T01:23:31.139329Z",
     "start_time": "2021-06-22T01:23:31.131789Z"
    }
   },
   "outputs": [
    {
     "data": {
      "text/html": [
       "<div>\n",
       "<style scoped>\n",
       "    .dataframe tbody tr th:only-of-type {\n",
       "        vertical-align: middle;\n",
       "    }\n",
       "\n",
       "    .dataframe tbody tr th {\n",
       "        vertical-align: top;\n",
       "    }\n",
       "\n",
       "    .dataframe thead th {\n",
       "        text-align: right;\n",
       "    }\n",
       "</style>\n",
       "<table border=\"1\" class=\"dataframe\">\n",
       "  <thead>\n",
       "    <tr style=\"text-align: right;\">\n",
       "      <th></th>\n",
       "      <th>game_id</th>\n",
       "      <th>image_id</th>\n",
       "      <th>label_ids</th>\n",
       "      <th>create_time</th>\n",
       "    </tr>\n",
       "  </thead>\n",
       "  <tbody>\n",
       "    <tr>\n",
       "      <th>4</th>\n",
       "      <td>1000840</td>\n",
       "      <td>19636</td>\n",
       "      <td>19</td>\n",
       "      <td>2020-01-19 16:24:53</td>\n",
       "    </tr>\n",
       "    <tr>\n",
       "      <th>5</th>\n",
       "      <td>1000840</td>\n",
       "      <td>19636</td>\n",
       "      <td>19</td>\n",
       "      <td>2020-01-19 16:24:53</td>\n",
       "    </tr>\n",
       "    <tr>\n",
       "      <th>8</th>\n",
       "      <td>1000840</td>\n",
       "      <td>19636</td>\n",
       "      <td>19</td>\n",
       "      <td>2020-01-29 18:01:59</td>\n",
       "    </tr>\n",
       "    <tr>\n",
       "      <th>9</th>\n",
       "      <td>1000840</td>\n",
       "      <td>19636</td>\n",
       "      <td>19</td>\n",
       "      <td>2020-01-29 18:01:59</td>\n",
       "    </tr>\n",
       "    <tr>\n",
       "      <th>12</th>\n",
       "      <td>1000840</td>\n",
       "      <td>19636</td>\n",
       "      <td>19</td>\n",
       "      <td>2020-01-30 14:32:38</td>\n",
       "    </tr>\n",
       "  </tbody>\n",
       "</table>\n",
       "</div>"
      ],
      "text/plain": [
       "    game_id  image_id label_ids          create_time\n",
       "4   1000840     19636        19  2020-01-19 16:24:53\n",
       "5   1000840     19636        19  2020-01-19 16:24:53\n",
       "8   1000840     19636        19  2020-01-29 18:01:59\n",
       "9   1000840     19636        19  2020-01-29 18:01:59\n",
       "12  1000840     19636        19  2020-01-30 14:32:38"
      ]
     },
     "execution_count": 29,
     "metadata": {},
     "output_type": "execute_result"
    }
   ],
   "source": [
    "df_create.head()"
   ]
  },
  {
   "cell_type": "markdown",
   "id": "96c43765",
   "metadata": {},
   "source": [
    "## 拼接\n",
    "* 从素材评分历史出发，每条素材评分的素材ID，关联计划+素材信息的所有game_ids，作为包体集合；"
   ]
  },
  {
   "cell_type": "code",
   "execution_count": 30,
   "id": "d7a61fff",
   "metadata": {
    "ExecuteTime": {
     "end_time": "2021-06-22T01:23:31.144638Z",
     "start_time": "2021-06-22T01:23:31.141161Z"
    }
   },
   "outputs": [],
   "source": [
    "# df_score[df_score['image_id']==19636]  # 5个评分记录"
   ]
  },
  {
   "cell_type": "code",
   "execution_count": 31,
   "id": "82bcf4a0",
   "metadata": {
    "ExecuteTime": {
     "end_time": "2021-06-22T01:23:31.150967Z",
     "start_time": "2021-06-22T01:23:31.146475Z"
    }
   },
   "outputs": [],
   "source": [
    "# df_create[df_create['image_id']==19636]  # 7条计划记录"
   ]
  },
  {
   "cell_type": "markdown",
   "id": "adc2cc82",
   "metadata": {},
   "source": [
    "* 拼接素材与包体情况"
   ]
  },
  {
   "cell_type": "code",
   "execution_count": 32,
   "id": "3c16386f",
   "metadata": {
    "ExecuteTime": {
     "end_time": "2021-06-22T01:25:16.835619Z",
     "start_time": "2021-06-22T01:23:31.152688Z"
    }
   },
   "outputs": [
    {
     "data": {
      "application/vnd.jupyter.widget-view+json": {
       "model_id": "982c58bd1a8c4e2f94f1c6eedda01854",
       "version_major": 2,
       "version_minor": 0
      },
      "text/plain": [
       "Processing!:   0%|          | 0/70846 [00:00<?, ?it/s]"
      ]
     },
     "metadata": {},
     "output_type": "display_data"
    }
   ],
   "source": [
    "def merge_my(x, df):\n",
    "    \"\"\" 包体采集：\"\"\"\n",
    "     # 对于匹配不到素材id的score记录，其'game_id'为''值\n",
    "    return ','.join(df[df['image_id']==x['image_id']]['game_id'].value_counts().index.astype(str).tolist())\n",
    "\n",
    "game_id_series = df_score.progress_apply(lambda x : merge_my(x, df_create), axis=1)"
   ]
  },
  {
   "cell_type": "code",
   "execution_count": 33,
   "id": "f681199f",
   "metadata": {
    "ExecuteTime": {
     "end_time": "2021-06-22T01:25:16.846310Z",
     "start_time": "2021-06-22T01:25:16.837781Z"
    }
   },
   "outputs": [],
   "source": [
    "df = pd.concat([df_score, game_id_series], axis=1)"
   ]
  },
  {
   "cell_type": "code",
   "execution_count": 34,
   "id": "5449902a",
   "metadata": {
    "ExecuteTime": {
     "end_time": "2021-06-22T01:25:16.857397Z",
     "start_time": "2021-06-22T01:25:16.848605Z"
    }
   },
   "outputs": [],
   "source": [
    "# df = df.mask(df.applymap(str).eq('NONE'))  # NONE替换为NaN"
   ]
  },
  {
   "cell_type": "code",
   "execution_count": 35,
   "id": "001c32e2",
   "metadata": {
    "ExecuteTime": {
     "end_time": "2021-06-22T01:25:16.871205Z",
     "start_time": "2021-06-22T01:25:16.859120Z"
    }
   },
   "outputs": [
    {
     "data": {
      "text/html": [
       "<div>\n",
       "<style scoped>\n",
       "    .dataframe tbody tr th:only-of-type {\n",
       "        vertical-align: middle;\n",
       "    }\n",
       "\n",
       "    .dataframe tbody tr th {\n",
       "        vertical-align: top;\n",
       "    }\n",
       "\n",
       "    .dataframe thead th {\n",
       "        text-align: right;\n",
       "    }\n",
       "</style>\n",
       "<table border=\"1\" class=\"dataframe\">\n",
       "  <thead>\n",
       "    <tr style=\"text-align: right;\">\n",
       "      <th></th>\n",
       "      <th>image_id</th>\n",
       "      <th>image_name</th>\n",
       "      <th>label_ids</th>\n",
       "      <th>model_run_datetime</th>\n",
       "      <th>image_launch_time</th>\n",
       "      <th>dt</th>\n",
       "      <th>score</th>\n",
       "      <th>0</th>\n",
       "    </tr>\n",
       "  </thead>\n",
       "  <tbody>\n",
       "    <tr>\n",
       "      <th>4346</th>\n",
       "      <td>23237</td>\n",
       "      <td>SSR1399-横版（混剪）</td>\n",
       "      <td>19</td>\n",
       "      <td>2020-12-18</td>\n",
       "      <td>2020-07-11</td>\n",
       "      <td>2020-12-18</td>\n",
       "      <td>478</td>\n",
       "      <td>1000840,1000993,1001258,1001155,1001049</td>\n",
       "    </tr>\n",
       "    <tr>\n",
       "      <th>4347</th>\n",
       "      <td>23509</td>\n",
       "      <td>SSR1414-竖版（3D混剪）</td>\n",
       "      <td>20</td>\n",
       "      <td>2020-12-18</td>\n",
       "      <td>2020-07-16</td>\n",
       "      <td>2020-12-18</td>\n",
       "      <td>571</td>\n",
       "      <td>1001379,1001400,1000993,1000840,1001049,100125...</td>\n",
       "    </tr>\n",
       "    <tr>\n",
       "      <th>4348</th>\n",
       "      <td>23509</td>\n",
       "      <td>SSR1414-竖版（3D混剪）</td>\n",
       "      <td>20</td>\n",
       "      <td>2020-12-18</td>\n",
       "      <td>2020-07-16</td>\n",
       "      <td>2020-12-18</td>\n",
       "      <td>500</td>\n",
       "      <td>1001379,1001400,1000993,1000840,1001049,100125...</td>\n",
       "    </tr>\n",
       "    <tr>\n",
       "      <th>4349</th>\n",
       "      <td>23552</td>\n",
       "      <td>SSR1419-横版（3D混剪）</td>\n",
       "      <td>20</td>\n",
       "      <td>2020-12-18</td>\n",
       "      <td>2020-07-14</td>\n",
       "      <td>2020-12-18</td>\n",
       "      <td>511</td>\n",
       "      <td>1000840,1000993,1001379,1001155,1001049,100125...</td>\n",
       "    </tr>\n",
       "    <tr>\n",
       "      <th>4350</th>\n",
       "      <td>23846</td>\n",
       "      <td>SSR1484-横版（3D混剪）</td>\n",
       "      <td>20</td>\n",
       "      <td>2020-12-18</td>\n",
       "      <td>2020-07-27</td>\n",
       "      <td>2020-12-18</td>\n",
       "      <td>540</td>\n",
       "      <td>1000993,1001379,1000840,1001155,1001400,1001049</td>\n",
       "    </tr>\n",
       "  </tbody>\n",
       "</table>\n",
       "</div>"
      ],
      "text/plain": [
       "      image_id        image_name label_ids model_run_datetime  \\\n",
       "4346     23237    SSR1399-横版（混剪）        19         2020-12-18   \n",
       "4347     23509  SSR1414-竖版（3D混剪）        20         2020-12-18   \n",
       "4348     23509  SSR1414-竖版（3D混剪）        20         2020-12-18   \n",
       "4349     23552  SSR1419-横版（3D混剪）        20         2020-12-18   \n",
       "4350     23846  SSR1484-横版（3D混剪）        20         2020-12-18   \n",
       "\n",
       "     image_launch_time          dt  score  \\\n",
       "4346        2020-07-11  2020-12-18    478   \n",
       "4347        2020-07-16  2020-12-18    571   \n",
       "4348        2020-07-16  2020-12-18    500   \n",
       "4349        2020-07-14  2020-12-18    511   \n",
       "4350        2020-07-27  2020-12-18    540   \n",
       "\n",
       "                                                      0  \n",
       "4346            1000840,1000993,1001258,1001155,1001049  \n",
       "4347  1001379,1001400,1000993,1000840,1001049,100125...  \n",
       "4348  1001379,1001400,1000993,1000840,1001049,100125...  \n",
       "4349  1000840,1000993,1001379,1001155,1001049,100125...  \n",
       "4350    1000993,1001379,1000840,1001155,1001400,1001049  "
      ]
     },
     "execution_count": 35,
     "metadata": {},
     "output_type": "execute_result"
    }
   ],
   "source": [
    "df.head()"
   ]
  },
  {
   "cell_type": "code",
   "execution_count": 36,
   "id": "8514a158",
   "metadata": {
    "ExecuteTime": {
     "end_time": "2021-06-22T01:25:16.895866Z",
     "start_time": "2021-06-22T01:25:16.872985Z"
    }
   },
   "outputs": [],
   "source": [
    "df.columns = ['image_id','image_name','label_ids','model_run_datetime','image_launch_time','dt','score','game_ids']\n",
    "df = df[['image_id','image_name','label_ids','model_run_datetime','image_launch_time','game_ids','score']]\n",
    "df = df[df['game_ids']!='']"
   ]
  },
  {
   "cell_type": "code",
   "execution_count": 37,
   "id": "16b811d1",
   "metadata": {
    "ExecuteTime": {
     "end_time": "2021-06-22T01:25:16.933593Z",
     "start_time": "2021-06-22T01:25:16.897967Z"
    }
   },
   "outputs": [
    {
     "name": "stdout",
     "output_type": "stream",
     "text": [
      "<class 'pandas.core.frame.DataFrame'>\n",
      "RangeIndex: 51440 entries, 0 to 51439\n",
      "Data columns (total 7 columns):\n",
      " #   Column              Non-Null Count  Dtype \n",
      "---  ------              --------------  ----- \n",
      " 0   image_id            51440 non-null  int64 \n",
      " 1   image_name          51440 non-null  object\n",
      " 2   label_ids           51440 non-null  object\n",
      " 3   model_run_datetime  51440 non-null  object\n",
      " 4   image_launch_time   51440 non-null  object\n",
      " 5   game_ids            51440 non-null  object\n",
      " 6   score               51440 non-null  int64 \n",
      "dtypes: int64(2), object(5)\n",
      "memory usage: 2.7+ MB\n",
      "None\n"
     ]
    },
    {
     "data": {
      "text/html": [
       "<div>\n",
       "<style scoped>\n",
       "    .dataframe tbody tr th:only-of-type {\n",
       "        vertical-align: middle;\n",
       "    }\n",
       "\n",
       "    .dataframe tbody tr th {\n",
       "        vertical-align: top;\n",
       "    }\n",
       "\n",
       "    .dataframe thead th {\n",
       "        text-align: right;\n",
       "    }\n",
       "</style>\n",
       "<table border=\"1\" class=\"dataframe\">\n",
       "  <thead>\n",
       "    <tr style=\"text-align: right;\">\n",
       "      <th></th>\n",
       "      <th>image_id</th>\n",
       "      <th>image_name</th>\n",
       "      <th>label_ids</th>\n",
       "      <th>model_run_datetime</th>\n",
       "      <th>image_launch_time</th>\n",
       "      <th>game_ids</th>\n",
       "      <th>score</th>\n",
       "    </tr>\n",
       "  </thead>\n",
       "  <tbody>\n",
       "    <tr>\n",
       "      <th>0</th>\n",
       "      <td>23237</td>\n",
       "      <td>SSR1399-横版（混剪）</td>\n",
       "      <td>19</td>\n",
       "      <td>2020-12-18</td>\n",
       "      <td>2020-07-11</td>\n",
       "      <td>1000840,1000993,1001258,1001155,1001049</td>\n",
       "      <td>478</td>\n",
       "    </tr>\n",
       "    <tr>\n",
       "      <th>1</th>\n",
       "      <td>23509</td>\n",
       "      <td>SSR1414-竖版（3D混剪）</td>\n",
       "      <td>20</td>\n",
       "      <td>2020-12-18</td>\n",
       "      <td>2020-07-16</td>\n",
       "      <td>1001379,1001400,1000993,1000840,1001049,100125...</td>\n",
       "      <td>571</td>\n",
       "    </tr>\n",
       "    <tr>\n",
       "      <th>2</th>\n",
       "      <td>23509</td>\n",
       "      <td>SSR1414-竖版（3D混剪）</td>\n",
       "      <td>20</td>\n",
       "      <td>2020-12-18</td>\n",
       "      <td>2020-07-16</td>\n",
       "      <td>1001379,1001400,1000993,1000840,1001049,100125...</td>\n",
       "      <td>500</td>\n",
       "    </tr>\n",
       "    <tr>\n",
       "      <th>3</th>\n",
       "      <td>23552</td>\n",
       "      <td>SSR1419-横版（3D混剪）</td>\n",
       "      <td>20</td>\n",
       "      <td>2020-12-18</td>\n",
       "      <td>2020-07-14</td>\n",
       "      <td>1000840,1000993,1001379,1001155,1001049,100125...</td>\n",
       "      <td>511</td>\n",
       "    </tr>\n",
       "    <tr>\n",
       "      <th>4</th>\n",
       "      <td>23846</td>\n",
       "      <td>SSR1484-横版（3D混剪）</td>\n",
       "      <td>20</td>\n",
       "      <td>2020-12-18</td>\n",
       "      <td>2020-07-27</td>\n",
       "      <td>1000993,1001379,1000840,1001155,1001400,1001049</td>\n",
       "      <td>540</td>\n",
       "    </tr>\n",
       "  </tbody>\n",
       "</table>\n",
       "</div>"
      ],
      "text/plain": [
       "   image_id        image_name label_ids model_run_datetime image_launch_time  \\\n",
       "0     23237    SSR1399-横版（混剪）        19         2020-12-18        2020-07-11   \n",
       "1     23509  SSR1414-竖版（3D混剪）        20         2020-12-18        2020-07-16   \n",
       "2     23509  SSR1414-竖版（3D混剪）        20         2020-12-18        2020-07-16   \n",
       "3     23552  SSR1419-横版（3D混剪）        20         2020-12-18        2020-07-14   \n",
       "4     23846  SSR1484-横版（3D混剪）        20         2020-12-18        2020-07-27   \n",
       "\n",
       "                                            game_ids  score  \n",
       "0            1000840,1000993,1001258,1001155,1001049    478  \n",
       "1  1001379,1001400,1000993,1000840,1001049,100125...    571  \n",
       "2  1001379,1001400,1000993,1000840,1001049,100125...    500  \n",
       "3  1000840,1000993,1001379,1001155,1001049,100125...    511  \n",
       "4    1000993,1001379,1000840,1001155,1001400,1001049    540  "
      ]
     },
     "execution_count": 37,
     "metadata": {},
     "output_type": "execute_result"
    }
   ],
   "source": [
    "df.dropna(axis=0, how='all')\n",
    "df.reset_index(drop=True, inplace=True)\n",
    "print(df.info())\n",
    "df.head()"
   ]
  },
  {
   "cell_type": "markdown",
   "id": "ce2da250",
   "metadata": {},
   "source": [
    "## 特征量化\n",
    "* 1）label_ids;\n",
    "* 2）game_ids;\n",
    "* 3）~~image_name~~：横板、竖版、是否3D等特征;\n",
    "* 4）~~image_launch_time~~：是否节假日、是否周末等特征;"
   ]
  },
  {
   "cell_type": "markdown",
   "id": "6ab15137",
   "metadata": {},
   "source": [
    "* score分布情况"
   ]
  },
  {
   "cell_type": "code",
   "execution_count": 38,
   "id": "eacfca5a",
   "metadata": {
    "ExecuteTime": {
     "end_time": "2021-06-22T01:25:17.485236Z",
     "start_time": "2021-06-22T01:25:16.935165Z"
    }
   },
   "outputs": [
    {
     "name": "stderr",
     "output_type": "stream",
     "text": [
      "/root/anaconda3/lib/python3.7/site-packages/seaborn/distributions.py:2557: FutureWarning: `distplot` is a deprecated function and will be removed in a future version. Please adapt your code to use either `displot` (a figure-level function with similar flexibility) or `histplot` (an axes-level function for histograms).\n",
      "  warnings.warn(msg, FutureWarning)\n"
     ]
    },
    {
     "data": {
      "text/plain": [
       "<AxesSubplot:xlabel='score', ylabel='Density'>"
      ]
     },
     "execution_count": 38,
     "metadata": {},
     "output_type": "execute_result"
    },
    {
     "data": {
      "image/png": "[encoded data removed]",
      "text/plain": [
       "<Figure size 432x288 with 1 Axes>"
      ]
     },
     "metadata": {
      "needs_background": "light"
     },
     "output_type": "display_data"
    }
   ],
   "source": [
    "import seaborn as sns\n",
    "sns.distplot(df['score'])"
   ]
  },
  {
   "cell_type": "markdown",
   "id": "a5b462fe",
   "metadata": {
    "ExecuteTime": {
     "end_time": "2021-06-04T08:04:25.360696Z",
     "start_time": "2021-06-04T08:04:25.356002Z"
    }
   },
   "source": [
    "### label_ids字段处理\n",
    "* 统计项：单因素加权量化 - 最小二乘"
   ]
  },
  {
   "cell_type": "code",
   "execution_count": 39,
   "id": "0536c945",
   "metadata": {
    "ExecuteTime": {
     "end_time": "2021-06-22T01:25:17.552945Z",
     "start_time": "2021-06-22T01:25:17.486852Z"
    }
   },
   "outputs": [],
   "source": [
    "label_ids_mapping = weights_calcul(df, 'label_ids')  # 编码"
   ]
  },
  {
   "cell_type": "code",
   "execution_count": 40,
   "id": "d80618de",
   "metadata": {
    "ExecuteTime": {
     "end_time": "2021-06-22T01:25:17.560008Z",
     "start_time": "2021-06-22T01:25:17.555032Z"
    }
   },
   "outputs": [
    {
     "data": {
      "text/plain": [
       "{'103': 517.0140259792523,\n",
       " '111': 324.72526259875707,\n",
       " '112': 487.2804878048783,\n",
       " '125': 467.4210526315819,\n",
       " '126': 507.4460784313728,\n",
       " '127': 541.204128848549,\n",
       " '13': 479.5000000000011,\n",
       " '145': 502.3554817275746,\n",
       " '149': 143.76392605556327,\n",
       " '158': 506.2857142857109,\n",
       " '19': 511.8522771546782,\n",
       " '20': 530.2239649298192,\n",
       " '21': 479.60869565217536,\n",
       " '22': 533.7288267288271,\n",
       " '25': 493.0794992513574,\n",
       " '26': 461.5833333333337,\n",
       " '27': 490.35458107175276,\n",
       " '56': 485.04999999999995,\n",
       " '67': 513.1116504854368,\n",
       " '81': 494.5555555555555,\n",
       " '82': 522.8695652173913,\n",
       " '83': 357.64297566100737,\n",
       " '96': 54.55267938237947,\n",
       " '98': 478.03405994550434}"
      ]
     },
     "execution_count": 40,
     "metadata": {},
     "output_type": "execute_result"
    }
   ],
   "source": [
    "label_ids_mapping"
   ]
  },
  {
   "cell_type": "code",
   "execution_count": 41,
   "id": "d91cb5ad",
   "metadata": {
    "ExecuteTime": {
     "end_time": "2021-06-22T01:26:15.093422Z",
     "start_time": "2021-06-22T01:25:17.561574Z"
    }
   },
   "outputs": [
    {
     "name": "stderr",
     "output_type": "stream",
     "text": [
      "100%|██████████| 51440/51440 [00:57<00:00, 894.21it/s]\n"
     ]
    }
   ],
   "source": [
    "df = weights_assign(df, label_ids_mapping, 'label_ids')  # 解码"
   ]
  },
  {
   "cell_type": "code",
   "execution_count": 42,
   "id": "375298b0",
   "metadata": {
    "ExecuteTime": {
     "end_time": "2021-06-22T01:26:15.100604Z",
     "start_time": "2021-06-22T01:26:15.094943Z"
    }
   },
   "outputs": [],
   "source": [
    "df['label_ids'] = df['label_ids'].astype(float)"
   ]
  },
  {
   "cell_type": "code",
   "execution_count": 43,
   "id": "17268060",
   "metadata": {
    "ExecuteTime": {
     "end_time": "2021-06-22T01:26:15.120849Z",
     "start_time": "2021-06-22T01:26:15.102513Z"
    }
   },
   "outputs": [
    {
     "data": {
      "text/html": [
       "<div>\n",
       "<style scoped>\n",
       "    .dataframe tbody tr th:only-of-type {\n",
       "        vertical-align: middle;\n",
       "    }\n",
       "\n",
       "    .dataframe tbody tr th {\n",
       "        vertical-align: top;\n",
       "    }\n",
       "\n",
       "    .dataframe thead th {\n",
       "        text-align: right;\n",
       "    }\n",
       "</style>\n",
       "<table border=\"1\" class=\"dataframe\">\n",
       "  <thead>\n",
       "    <tr style=\"text-align: right;\">\n",
       "      <th></th>\n",
       "      <th>image_id</th>\n",
       "      <th>image_name</th>\n",
       "      <th>label_ids</th>\n",
       "      <th>model_run_datetime</th>\n",
       "      <th>image_launch_time</th>\n",
       "      <th>game_ids</th>\n",
       "      <th>score</th>\n",
       "    </tr>\n",
       "  </thead>\n",
       "  <tbody>\n",
       "    <tr>\n",
       "      <th>0</th>\n",
       "      <td>23237</td>\n",
       "      <td>SSR1399-横版（混剪）</td>\n",
       "      <td>511.852277</td>\n",
       "      <td>2020-12-18</td>\n",
       "      <td>2020-07-11</td>\n",
       "      <td>1000840,1000993,1001258,1001155,1001049</td>\n",
       "      <td>478</td>\n",
       "    </tr>\n",
       "    <tr>\n",
       "      <th>1</th>\n",
       "      <td>23509</td>\n",
       "      <td>SSR1414-竖版（3D混剪）</td>\n",
       "      <td>530.223965</td>\n",
       "      <td>2020-12-18</td>\n",
       "      <td>2020-07-16</td>\n",
       "      <td>1001379,1001400,1000993,1000840,1001049,100125...</td>\n",
       "      <td>571</td>\n",
       "    </tr>\n",
       "    <tr>\n",
       "      <th>2</th>\n",
       "      <td>23509</td>\n",
       "      <td>SSR1414-竖版（3D混剪）</td>\n",
       "      <td>530.223965</td>\n",
       "      <td>2020-12-18</td>\n",
       "      <td>2020-07-16</td>\n",
       "      <td>1001379,1001400,1000993,1000840,1001049,100125...</td>\n",
       "      <td>500</td>\n",
       "    </tr>\n",
       "    <tr>\n",
       "      <th>3</th>\n",
       "      <td>23552</td>\n",
       "      <td>SSR1419-横版（3D混剪）</td>\n",
       "      <td>530.223965</td>\n",
       "      <td>2020-12-18</td>\n",
       "      <td>2020-07-14</td>\n",
       "      <td>1000840,1000993,1001379,1001155,1001049,100125...</td>\n",
       "      <td>511</td>\n",
       "    </tr>\n",
       "    <tr>\n",
       "      <th>4</th>\n",
       "      <td>23846</td>\n",
       "      <td>SSR1484-横版（3D混剪）</td>\n",
       "      <td>530.223965</td>\n",
       "      <td>2020-12-18</td>\n",
       "      <td>2020-07-27</td>\n",
       "      <td>1000993,1001379,1000840,1001155,1001400,1001049</td>\n",
       "      <td>540</td>\n",
       "    </tr>\n",
       "  </tbody>\n",
       "</table>\n",
       "</div>"
      ],
      "text/plain": [
       "   image_id        image_name   label_ids model_run_datetime  \\\n",
       "0     23237    SSR1399-横版（混剪）  511.852277         2020-12-18   \n",
       "1     23509  SSR1414-竖版（3D混剪）  530.223965         2020-12-18   \n",
       "2     23509  SSR1414-竖版（3D混剪）  530.223965         2020-12-18   \n",
       "3     23552  SSR1419-横版（3D混剪）  530.223965         2020-12-18   \n",
       "4     23846  SSR1484-横版（3D混剪）  530.223965         2020-12-18   \n",
       "\n",
       "  image_launch_time                                           game_ids  score  \n",
       "0        2020-07-11            1000840,1000993,1001258,1001155,1001049    478  \n",
       "1        2020-07-16  1001379,1001400,1000993,1000840,1001049,100125...    571  \n",
       "2        2020-07-16  1001379,1001400,1000993,1000840,1001049,100125...    500  \n",
       "3        2020-07-14  1000840,1000993,1001379,1001155,1001049,100125...    511  \n",
       "4        2020-07-27    1000993,1001379,1000840,1001155,1001400,1001049    540  "
      ]
     },
     "execution_count": 43,
     "metadata": {},
     "output_type": "execute_result"
    }
   ],
   "source": [
    "df.head()"
   ]
  },
  {
   "cell_type": "code",
   "execution_count": 44,
   "id": "50e477c6",
   "metadata": {
    "ExecuteTime": {
     "end_time": "2021-06-22T01:26:15.127121Z",
     "start_time": "2021-06-22T01:26:15.122562Z"
    }
   },
   "outputs": [],
   "source": [
    "# plt.figure(figsize=(10,5))\n",
    "# plt.scatter(df['game_ids'],df['score'],marker='^',color='r',label='游戏包体',alpha=0.5)\n",
    "# plt.axvline(df['game_ids'].mean(),color=\"b\",linewidth=1)\n",
    "# plt.axhline(df['score'].mean(),color=\"b\",linewidth=1)\n",
    "# plt.xlabel(\"game_ids\")\n",
    "# plt.ylabel(\"score\")\n",
    "# plt.title(\"line relation\")\n",
    "# plt.grid()\n",
    "# plt.show()"
   ]
  },
  {
   "cell_type": "markdown",
   "id": "6bb9f192",
   "metadata": {},
   "source": [
    "### game_ids字段处理\n",
    "* 统计项：单因素加权量化 - 最小二乘"
   ]
  },
  {
   "cell_type": "code",
   "execution_count": 45,
   "id": "01a4b189",
   "metadata": {
    "ExecuteTime": {
     "end_time": "2021-06-22T01:26:15.472668Z",
     "start_time": "2021-06-22T01:26:15.128779Z"
    }
   },
   "outputs": [],
   "source": [
    "game_ids_mapping = weights_calcul(df, 'game_ids')  # 编码"
   ]
  },
  {
   "cell_type": "code",
   "execution_count": 46,
   "id": "e76ab8d8",
   "metadata": {
    "ExecuteTime": {
     "end_time": "2021-06-22T01:26:15.479535Z",
     "start_time": "2021-06-22T01:26:15.474301Z"
    }
   },
   "outputs": [
    {
     "data": {
      "text/plain": [
       "{'1000840': 7.4808314869756085,\n",
       " '1000954': 25.710414903751968,\n",
       " '1000960': -95.31973412250603,\n",
       " '1000985': 2.505175739556548,\n",
       " '1000992': -12.626074758874044,\n",
       " '1000993': 89.25606608383225,\n",
       " '1000994': -29.529367222362268,\n",
       " '1001049': 26.658985706143195,\n",
       " '1001155': -21.586235299737083,\n",
       " '1001193': 0.8130225663807797,\n",
       " '1001194': 30.2719394232387,\n",
       " '1001257': 8.670260437520279,\n",
       " '1001258': 35.96595128229222,\n",
       " '1001259': -50.67147116300396,\n",
       " '1001294': 5.694955043385077,\n",
       " '1001295': -16.907629817671758,\n",
       " '1001379': 466.94282674408964,\n",
       " '1001400': 21.7670471863215,\n",
       " '1001401': -17.62632358873484,\n",
       " '1001402': -57.09488769774797,\n",
       " '1001413': -32.20413323354359,\n",
       " '1001420': 25.52470391918382,\n",
       " '1001425': 2.8858858858858714,\n",
       " '1001426': 499.8918918918917,\n",
       " '1001430': 23.06812793050435,\n",
       " '1001439': -23.23311544938588,\n",
       " '1001440': -0.7695520175092371,\n",
       " '1001441': -10.930747466475628,\n",
       " '1001444': -5.172268670364903,\n",
       " '1001447': 3.0592387046984943,\n",
       " '1001449': -45.8302371344271,\n",
       " '1001457': -8.732231670389707,\n",
       " '1001460': -21.324439227105835,\n",
       " '1001484': -17.724365784502893,\n",
       " '1001540': 64.31157503775401,\n",
       " '1001541': -14.232172012635552,\n",
       " '1001610': -7.830163078073003,\n",
       " '1001643': 62.719267704056705,\n",
       " '1001703': 87.50669927925476}"
      ]
     },
     "execution_count": 46,
     "metadata": {},
     "output_type": "execute_result"
    }
   ],
   "source": [
    "game_ids_mapping"
   ]
  },
  {
   "cell_type": "code",
   "execution_count": 47,
   "id": "9b92d8d2",
   "metadata": {
    "ExecuteTime": {
     "end_time": "2021-06-22T01:27:17.780578Z",
     "start_time": "2021-06-22T01:26:15.481690Z"
    }
   },
   "outputs": [
    {
     "name": "stderr",
     "output_type": "stream",
     "text": [
      "100%|██████████| 51440/51440 [01:02<00:00, 825.87it/s]\n"
     ]
    }
   ],
   "source": [
    "df = weights_assign(df, game_ids_mapping, 'game_ids')  # 解码"
   ]
  },
  {
   "cell_type": "code",
   "execution_count": 48,
   "id": "5c37be74",
   "metadata": {
    "ExecuteTime": {
     "end_time": "2021-06-22T01:27:17.787809Z",
     "start_time": "2021-06-22T01:27:17.782428Z"
    }
   },
   "outputs": [],
   "source": [
    "df['game_ids'] = df['game_ids'].astype(float)"
   ]
  },
  {
   "cell_type": "code",
   "execution_count": 49,
   "id": "13b2ea17",
   "metadata": {
    "ExecuteTime": {
     "end_time": "2021-06-22T01:27:17.801478Z",
     "start_time": "2021-06-22T01:27:17.789749Z"
    }
   },
   "outputs": [
    {
     "data": {
      "text/html": [
       "<div>\n",
       "<style scoped>\n",
       "    .dataframe tbody tr th:only-of-type {\n",
       "        vertical-align: middle;\n",
       "    }\n",
       "\n",
       "    .dataframe tbody tr th {\n",
       "        vertical-align: top;\n",
       "    }\n",
       "\n",
       "    .dataframe thead th {\n",
       "        text-align: right;\n",
       "    }\n",
       "</style>\n",
       "<table border=\"1\" class=\"dataframe\">\n",
       "  <thead>\n",
       "    <tr style=\"text-align: right;\">\n",
       "      <th></th>\n",
       "      <th>image_id</th>\n",
       "      <th>image_name</th>\n",
       "      <th>label_ids</th>\n",
       "      <th>model_run_datetime</th>\n",
       "      <th>image_launch_time</th>\n",
       "      <th>game_ids</th>\n",
       "      <th>score</th>\n",
       "    </tr>\n",
       "  </thead>\n",
       "  <tbody>\n",
       "    <tr>\n",
       "      <th>0</th>\n",
       "      <td>23237</td>\n",
       "      <td>SSR1399-横版（混剪）</td>\n",
       "      <td>511.852277</td>\n",
       "      <td>2020-12-18</td>\n",
       "      <td>2020-07-11</td>\n",
       "      <td>137.775599</td>\n",
       "      <td>478</td>\n",
       "    </tr>\n",
       "    <tr>\n",
       "      <th>1</th>\n",
       "      <td>23509</td>\n",
       "      <td>SSR1414-竖版（3D混剪）</td>\n",
       "      <td>530.223965</td>\n",
       "      <td>2020-12-18</td>\n",
       "      <td>2020-07-16</td>\n",
       "      <td>518.992938</td>\n",
       "      <td>571</td>\n",
       "    </tr>\n",
       "    <tr>\n",
       "      <th>2</th>\n",
       "      <td>23509</td>\n",
       "      <td>SSR1414-竖版（3D混剪）</td>\n",
       "      <td>530.223965</td>\n",
       "      <td>2020-12-18</td>\n",
       "      <td>2020-07-16</td>\n",
       "      <td>518.992938</td>\n",
       "      <td>500</td>\n",
       "    </tr>\n",
       "    <tr>\n",
       "      <th>3</th>\n",
       "      <td>23552</td>\n",
       "      <td>SSR1419-横版（3D混剪）</td>\n",
       "      <td>530.223965</td>\n",
       "      <td>2020-12-18</td>\n",
       "      <td>2020-07-14</td>\n",
       "      <td>482.367278</td>\n",
       "      <td>511</td>\n",
       "    </tr>\n",
       "    <tr>\n",
       "      <th>4</th>\n",
       "      <td>23846</td>\n",
       "      <td>SSR1484-横版（3D混剪）</td>\n",
       "      <td>530.223965</td>\n",
       "      <td>2020-12-18</td>\n",
       "      <td>2020-07-27</td>\n",
       "      <td>590.519522</td>\n",
       "      <td>540</td>\n",
       "    </tr>\n",
       "  </tbody>\n",
       "</table>\n",
       "</div>"
      ],
      "text/plain": [
       "   image_id        image_name   label_ids model_run_datetime  \\\n",
       "0     23237    SSR1399-横版（混剪）  511.852277         2020-12-18   \n",
       "1     23509  SSR1414-竖版（3D混剪）  530.223965         2020-12-18   \n",
       "2     23509  SSR1414-竖版（3D混剪）  530.223965         2020-12-18   \n",
       "3     23552  SSR1419-横版（3D混剪）  530.223965         2020-12-18   \n",
       "4     23846  SSR1484-横版（3D混剪）  530.223965         2020-12-18   \n",
       "\n",
       "  image_launch_time    game_ids  score  \n",
       "0        2020-07-11  137.775599    478  \n",
       "1        2020-07-16  518.992938    571  \n",
       "2        2020-07-16  518.992938    500  \n",
       "3        2020-07-14  482.367278    511  \n",
       "4        2020-07-27  590.519522    540  "
      ]
     },
     "execution_count": 49,
     "metadata": {},
     "output_type": "execute_result"
    }
   ],
   "source": [
    "df.head()"
   ]
  },
  {
   "cell_type": "markdown",
   "id": "969598c5",
   "metadata": {},
   "source": [
    "### label_ids与game_ids联合处理\n",
    "* 联合统计项：多因素联合加权量化 - 联合最小二乘（联合loss）"
   ]
  },
  {
   "cell_type": "code",
   "execution_count": 50,
   "id": "70c18038",
   "metadata": {
    "ExecuteTime": {
     "end_time": "2021-06-22T01:27:17.806329Z",
     "start_time": "2021-06-22T01:27:17.803240Z"
    }
   },
   "outputs": [],
   "source": [
    "# todo: "
   ]
  },
  {
   "cell_type": "markdown",
   "id": "8944a9ab",
   "metadata": {},
   "source": [
    "## 建模"
   ]
  },
  {
   "cell_type": "code",
   "execution_count": 51,
   "id": "89c5c25c",
   "metadata": {
    "ExecuteTime": {
     "end_time": "2021-06-22T01:27:18.016236Z",
     "start_time": "2021-06-22T01:27:17.808128Z"
    }
   },
   "outputs": [
    {
     "name": "stderr",
     "output_type": "stream",
     "text": [
      "/root/anaconda3/lib/python3.7/site-packages/dask/config.py:131: YAMLLoadWarning: calling yaml.load() without Loader=... is deprecated, as the default Loader is unsafe. Please read https://msg.pyyaml.org/load for full details.\n",
      "  data = yaml.load(f.read()) or {}\n",
      "/root/anaconda3/lib/python3.7/site-packages/dask/dataframe/utils.py:13: FutureWarning: pandas.util.testing is deprecated. Use the functions in the public API at pandas.testing instead.\n",
      "  import pandas.util.testing as tm\n",
      "/root/anaconda3/lib/python3.7/site-packages/distributed/config.py:20: YAMLLoadWarning: calling yaml.load() without Loader=... is deprecated, as the default Loader is unsafe. Please read https://msg.pyyaml.org/load for full details.\n",
      "  defaults = yaml.load(f)\n"
     ]
    }
   ],
   "source": [
    "from sklearn.model_selection import train_test_split\n",
    "from xgboost import XGBRegressor\n",
    "from lightgbm import plot_importance\n",
    "from sklearn.metrics import mean_absolute_error\n",
    "\n",
    "import matplotlib.pyplot as plt\n",
    "from matplotlib.font_manager import FontProperties\n",
    "myfont=FontProperties(fname=\"/home/simhei.ttf\",size=14)\n",
    "sns.set(font=myfont.get_name())"
   ]
  },
  {
   "cell_type": "markdown",
   "id": "cdf54cb3",
   "metadata": {},
   "source": [
    "### 训练"
   ]
  },
  {
   "cell_type": "code",
   "execution_count": 52,
   "id": "6cd03967",
   "metadata": {
    "ExecuteTime": {
     "end_time": "2021-06-22T01:27:18.027745Z",
     "start_time": "2021-06-22T01:27:18.017954Z"
    }
   },
   "outputs": [],
   "source": [
    "x_train, x_test, y_train, y_test = train_test_split(df[['label_ids', 'game_ids']], df[['score']], test_size = 0.3, random_state = 2021, shuffle=True)"
   ]
  },
  {
   "cell_type": "code",
   "execution_count": 53,
   "id": "fb72467b",
   "metadata": {
    "ExecuteTime": {
     "end_time": "2021-06-22T01:27:18.471180Z",
     "start_time": "2021-06-22T01:27:18.029481Z"
    }
   },
   "outputs": [],
   "source": [
    "xgb_reg_model = XGBRegressor()\n",
    "xgb_reg_model.fit(x_train, y_train)\n",
    "pred_train = xgb_reg_model.predict(x_train)\n",
    "pred_test = xgb_reg_model.predict(x_test)"
   ]
  },
  {
   "cell_type": "code",
   "execution_count": 54,
   "id": "8717583f",
   "metadata": {
    "ExecuteTime": {
     "end_time": "2021-06-22T01:27:18.480218Z",
     "start_time": "2021-06-22T01:27:18.476856Z"
    }
   },
   "outputs": [],
   "source": [
    "pred_train = np.expand_dims(pred_train, axis=-1)\n",
    "pred_test = np.expand_dims(pred_test, axis=-1)"
   ]
  },
  {
   "cell_type": "code",
   "execution_count": 55,
   "id": "77cb5df2",
   "metadata": {
    "ExecuteTime": {
     "end_time": "2021-06-22T01:27:18.495441Z",
     "start_time": "2021-06-22T01:27:18.483434Z"
    }
   },
   "outputs": [
    {
     "name": "stdout",
     "output_type": "stream",
     "text": [
      "训练集MAE:  44.17093812187787\n",
      "测试集MAE:  44.21206370383857\n"
     ]
    }
   ],
   "source": [
    "print(\"训练集MAE: \", mean_absolute_error(pred_train, y_train))\n",
    "print(\"测试集MAE: \", mean_absolute_error(pred_test, y_test))"
   ]
  },
  {
   "cell_type": "code",
   "execution_count": 56,
   "id": "9590eaf9",
   "metadata": {
    "ExecuteTime": {
     "end_time": "2021-06-22T01:27:18.745213Z",
     "start_time": "2021-06-22T01:27:18.500461Z"
    }
   },
   "outputs": [
    {
     "name": "stderr",
     "output_type": "stream",
     "text": [
      "No handles with labels found to put in legend.\n",
      "findfont: Font family ['SimHei'] not found. Falling back to DejaVu Sans.\n",
      "findfont: Font family ['SimHei'] not found. Falling back to DejaVu Sans.\n"
     ]
    },
    {
     "name": "stdout",
     "output_type": "stream",
     "text": [
      "========================拟合线============================\n"
     ]
    },
    {
     "name": "stderr",
     "output_type": "stream",
     "text": [
      "/root/anaconda3/lib/python3.7/site-packages/matplotlib/backends/backend_agg.py:240: RuntimeWarning: Glyph 25968 missing from current font.\n",
      "  font.set_text(s, 0.0, flags=flags)\n",
      "/root/anaconda3/lib/python3.7/site-packages/matplotlib/backends/backend_agg.py:240: RuntimeWarning: Glyph 25454 missing from current font.\n",
      "  font.set_text(s, 0.0, flags=flags)\n",
      "/root/anaconda3/lib/python3.7/site-packages/matplotlib/backends/backend_agg.py:240: RuntimeWarning: Glyph 26465 missing from current font.\n",
      "  font.set_text(s, 0.0, flags=flags)\n",
      "/root/anaconda3/lib/python3.7/site-packages/matplotlib/backends/backend_agg.py:240: RuntimeWarning: Glyph 20998 missing from current font.\n",
      "  font.set_text(s, 0.0, flags=flags)\n",
      "/root/anaconda3/lib/python3.7/site-packages/matplotlib/backends/backend_agg.py:203: RuntimeWarning: Glyph 25968 missing from current font.\n",
      "  font.set_text(s, 0, flags=flags)\n",
      "/root/anaconda3/lib/python3.7/site-packages/matplotlib/backends/backend_agg.py:203: RuntimeWarning: Glyph 25454 missing from current font.\n",
      "  font.set_text(s, 0, flags=flags)\n",
      "/root/anaconda3/lib/python3.7/site-packages/matplotlib/backends/backend_agg.py:203: RuntimeWarning: Glyph 26465 missing from current font.\n",
      "  font.set_text(s, 0, flags=flags)\n",
      "/root/anaconda3/lib/python3.7/site-packages/matplotlib/backends/backend_agg.py:203: RuntimeWarning: Glyph 20998 missing from current font.\n",
      "  font.set_text(s, 0, flags=flags)\n"
     ]
    },
    {
     "data": {
      "image/png": "[encoded data removed]",
      "text/plain": [
       "<Figure size 936x360 with 1 Axes>"
      ]
     },
     "metadata": {},
     "output_type": "display_data"
    }
   ],
   "source": [
    "print('========================拟合线============================')\n",
    "num = 100\n",
    "plt.figure(figsize=(13,5))\n",
    "plt.plot(range(num),pred_test[0:num], c='g',)  # 预测值\n",
    "plt.plot(range(num),y_test[0:num], c='r',)  # 真实值\n",
    "\n",
    "plt.xlabel('数据条数')\n",
    "plt.ylabel('分数')\n",
    "plt.legend()\n",
    "plt.show()"
   ]
  },
  {
   "cell_type": "markdown",
   "id": "704bf677",
   "metadata": {},
   "source": [
    "### 分布比较"
   ]
  },
  {
   "cell_type": "code",
   "execution_count": 57,
   "id": "1f1154fc",
   "metadata": {
    "ExecuteTime": {
     "end_time": "2021-06-22T01:27:19.510890Z",
     "start_time": "2021-06-22T01:27:18.747446Z"
    }
   },
   "outputs": [
    {
     "name": "stderr",
     "output_type": "stream",
     "text": [
      "/root/anaconda3/lib/python3.7/site-packages/seaborn/distributions.py:2557: FutureWarning: `distplot` is a deprecated function and will be removed in a future version. Please adapt your code to use either `displot` (a figure-level function with similar flexibility) or `histplot` (an axes-level function for histograms).\n",
      "  warnings.warn(msg, FutureWarning)\n",
      "/root/anaconda3/lib/python3.7/site-packages/seaborn/distributions.py:2557: FutureWarning: `distplot` is a deprecated function and will be removed in a future version. Please adapt your code to use either `displot` (a figure-level function with similar flexibility) or `histplot` (an axes-level function for histograms).\n",
      "  warnings.warn(msg, FutureWarning)\n"
     ]
    },
    {
     "data": {
      "text/plain": [
       "<AxesSubplot:ylabel='Density'>"
      ]
     },
     "execution_count": 57,
     "metadata": {},
     "output_type": "execute_result"
    },
    {
     "data": {
      "image/png": "[encoded data removed]",
      "text/plain": [
       "<Figure size 720x360 with 2 Axes>"
      ]
     },
     "metadata": {},
     "output_type": "display_data"
    }
   ],
   "source": [
    "import seaborn as sns\n",
    "fig, ax = plt.subplots(nrows=1, ncols=2, figsize = (10, 5))\n",
    "\n",
    "sns.distplot(df['score'], ax=ax[0])  # 真实值\n",
    "sns.distplot(xgb_reg_model.predict(df[['label_ids', 'game_ids']]), ax=ax[1])  # 预测值"
   ]
  },
  {
   "cell_type": "markdown",
   "id": "4f293418",
   "metadata": {},
   "source": [
    "### 随机验证\n",
    "* 取df.head()的前N条记录，验证模型输出与实际值的偏差情况"
   ]
  },
  {
   "cell_type": "code",
   "execution_count": 58,
   "id": "8ffd569c",
   "metadata": {
    "ExecuteTime": {
     "end_time": "2021-06-22T01:27:19.522429Z",
     "start_time": "2021-06-22T01:27:19.512864Z"
    }
   },
   "outputs": [
    {
     "data": {
      "text/html": [
       "<div>\n",
       "<style scoped>\n",
       "    .dataframe tbody tr th:only-of-type {\n",
       "        vertical-align: middle;\n",
       "    }\n",
       "\n",
       "    .dataframe tbody tr th {\n",
       "        vertical-align: top;\n",
       "    }\n",
       "\n",
       "    .dataframe thead th {\n",
       "        text-align: right;\n",
       "    }\n",
       "</style>\n",
       "<table border=\"1\" class=\"dataframe\">\n",
       "  <thead>\n",
       "    <tr style=\"text-align: right;\">\n",
       "      <th></th>\n",
       "      <th>image_id</th>\n",
       "      <th>image_name</th>\n",
       "      <th>label_ids</th>\n",
       "      <th>model_run_datetime</th>\n",
       "      <th>image_launch_time</th>\n",
       "      <th>game_ids</th>\n",
       "      <th>score</th>\n",
       "    </tr>\n",
       "  </thead>\n",
       "  <tbody>\n",
       "    <tr>\n",
       "      <th>0</th>\n",
       "      <td>23237</td>\n",
       "      <td>SSR1399-横版（混剪）</td>\n",
       "      <td>511.852277</td>\n",
       "      <td>2020-12-18</td>\n",
       "      <td>2020-07-11</td>\n",
       "      <td>137.775599</td>\n",
       "      <td>478</td>\n",
       "    </tr>\n",
       "    <tr>\n",
       "      <th>1</th>\n",
       "      <td>23509</td>\n",
       "      <td>SSR1414-竖版（3D混剪）</td>\n",
       "      <td>530.223965</td>\n",
       "      <td>2020-12-18</td>\n",
       "      <td>2020-07-16</td>\n",
       "      <td>518.992938</td>\n",
       "      <td>571</td>\n",
       "    </tr>\n",
       "    <tr>\n",
       "      <th>2</th>\n",
       "      <td>23509</td>\n",
       "      <td>SSR1414-竖版（3D混剪）</td>\n",
       "      <td>530.223965</td>\n",
       "      <td>2020-12-18</td>\n",
       "      <td>2020-07-16</td>\n",
       "      <td>518.992938</td>\n",
       "      <td>500</td>\n",
       "    </tr>\n",
       "    <tr>\n",
       "      <th>3</th>\n",
       "      <td>23552</td>\n",
       "      <td>SSR1419-横版（3D混剪）</td>\n",
       "      <td>530.223965</td>\n",
       "      <td>2020-12-18</td>\n",
       "      <td>2020-07-14</td>\n",
       "      <td>482.367278</td>\n",
       "      <td>511</td>\n",
       "    </tr>\n",
       "    <tr>\n",
       "      <th>4</th>\n",
       "      <td>23846</td>\n",
       "      <td>SSR1484-横版（3D混剪）</td>\n",
       "      <td>530.223965</td>\n",
       "      <td>2020-12-18</td>\n",
       "      <td>2020-07-27</td>\n",
       "      <td>590.519522</td>\n",
       "      <td>540</td>\n",
       "    </tr>\n",
       "  </tbody>\n",
       "</table>\n",
       "</div>"
      ],
      "text/plain": [
       "   image_id        image_name   label_ids model_run_datetime  \\\n",
       "0     23237    SSR1399-横版（混剪）  511.852277         2020-12-18   \n",
       "1     23509  SSR1414-竖版（3D混剪）  530.223965         2020-12-18   \n",
       "2     23509  SSR1414-竖版（3D混剪）  530.223965         2020-12-18   \n",
       "3     23552  SSR1419-横版（3D混剪）  530.223965         2020-12-18   \n",
       "4     23846  SSR1484-横版（3D混剪）  530.223965         2020-12-18   \n",
       "\n",
       "  image_launch_time    game_ids  score  \n",
       "0        2020-07-11  137.775599    478  \n",
       "1        2020-07-16  518.992938    571  \n",
       "2        2020-07-16  518.992938    500  \n",
       "3        2020-07-14  482.367278    511  \n",
       "4        2020-07-27  590.519522    540  "
      ]
     },
     "execution_count": 58,
     "metadata": {},
     "output_type": "execute_result"
    }
   ],
   "source": [
    "df.head()"
   ]
  },
  {
   "cell_type": "code",
   "execution_count": 59,
   "id": "eaf59b04",
   "metadata": {
    "ExecuteTime": {
     "end_time": "2021-06-22T01:27:19.638473Z",
     "start_time": "2021-06-22T01:27:19.524150Z"
    }
   },
   "outputs": [
    {
     "ename": "ValueError",
     "evalue": "feature_names mismatch: ['label_ids', 'game_ids'] ['f0', 'f1']\nexpected game_ids, label_ids in input data\ntraining data did not have the following fields: f0, f1",
     "output_type": "error",
     "traceback": [
      "\u001b[0;31m---------------------------------------------------------------------------\u001b[0m",
      "\u001b[0;31mValueError\u001b[0m                                Traceback (most recent call last)",
      "\u001b[0;32m<ipython-input-59-b7622dcc09c6>\u001b[0m in \u001b[0;36m<module>\u001b[0;34m\u001b[0m\n\u001b[1;32m      1\u001b[0m \u001b[0;32mfor\u001b[0m \u001b[0mi\u001b[0m \u001b[0;32min\u001b[0m \u001b[0mrange\u001b[0m\u001b[0;34m(\u001b[0m\u001b[0;36m100\u001b[0m\u001b[0;34m)\u001b[0m\u001b[0;34m:\u001b[0m\u001b[0;34m\u001b[0m\u001b[0m\n\u001b[1;32m      2\u001b[0m     \u001b[0mx\u001b[0m \u001b[0;34m=\u001b[0m \u001b[0mnp\u001b[0m\u001b[0;34m.\u001b[0m\u001b[0mexpand_dims\u001b[0m\u001b[0;34m(\u001b[0m\u001b[0mnp\u001b[0m\u001b[0;34m.\u001b[0m\u001b[0marray\u001b[0m\u001b[0;34m(\u001b[0m\u001b[0;34m[\u001b[0m\u001b[0mdf\u001b[0m\u001b[0;34m.\u001b[0m\u001b[0miloc\u001b[0m\u001b[0;34m[\u001b[0m\u001b[0mi\u001b[0m\u001b[0;34m]\u001b[0m\u001b[0;34m[\u001b[0m\u001b[0;34m'label_ids'\u001b[0m\u001b[0;34m]\u001b[0m\u001b[0;34m,\u001b[0m \u001b[0mdf\u001b[0m\u001b[0;34m.\u001b[0m\u001b[0miloc\u001b[0m\u001b[0;34m[\u001b[0m\u001b[0mi\u001b[0m\u001b[0;34m]\u001b[0m\u001b[0;34m[\u001b[0m\u001b[0;34m'game_ids'\u001b[0m\u001b[0;34m]\u001b[0m\u001b[0;34m]\u001b[0m\u001b[0;34m)\u001b[0m\u001b[0;34m,\u001b[0m \u001b[0maxis\u001b[0m\u001b[0;34m=\u001b[0m\u001b[0;36m0\u001b[0m\u001b[0;34m)\u001b[0m\u001b[0;34m\u001b[0m\u001b[0m\n\u001b[0;32m----> 3\u001b[0;31m     \u001b[0mprint\u001b[0m\u001b[0;34m(\u001b[0m\u001b[0;34m\"索引{}评分：预测值{:.2f}，真实值{}，偏差{}\"\u001b[0m\u001b[0;34m.\u001b[0m\u001b[0mformat\u001b[0m\u001b[0;34m(\u001b[0m\u001b[0mi\u001b[0m\u001b[0;34m,\u001b[0m \u001b[0mxgb_reg_model\u001b[0m\u001b[0;34m.\u001b[0m\u001b[0mpredict\u001b[0m\u001b[0;34m(\u001b[0m\u001b[0mx\u001b[0m\u001b[0;34m)\u001b[0m\u001b[0;34m[\u001b[0m\u001b[0;36m0\u001b[0m\u001b[0;34m]\u001b[0m\u001b[0;34m,\u001b[0m \u001b[0mdf\u001b[0m\u001b[0;34m.\u001b[0m\u001b[0miloc\u001b[0m\u001b[0;34m[\u001b[0m\u001b[0mi\u001b[0m\u001b[0;34m]\u001b[0m\u001b[0;34m[\u001b[0m\u001b[0;34m'score'\u001b[0m\u001b[0;34m]\u001b[0m\u001b[0;34m,\u001b[0m \u001b[0mxgb_reg_model\u001b[0m\u001b[0;34m.\u001b[0m\u001b[0mpredict\u001b[0m\u001b[0;34m(\u001b[0m\u001b[0mx\u001b[0m\u001b[0;34m)\u001b[0m \u001b[0;34m-\u001b[0m \u001b[0mdf\u001b[0m\u001b[0;34m.\u001b[0m\u001b[0miloc\u001b[0m\u001b[0;34m[\u001b[0m\u001b[0mi\u001b[0m\u001b[0;34m]\u001b[0m\u001b[0;34m[\u001b[0m\u001b[0;34m'score'\u001b[0m\u001b[0;34m]\u001b[0m\u001b[0;34m)\u001b[0m\u001b[0;34m)\u001b[0m\u001b[0;34m\u001b[0m\u001b[0m\n\u001b[0m",
      "\u001b[0;32m~/anaconda3/lib/python3.7/site-packages/xgboost/sklearn.py\u001b[0m in \u001b[0;36mpredict\u001b[0;34m(self, data, output_margin, ntree_limit, validate_features, base_margin)\u001b[0m\n\u001b[1;32m    598\u001b[0m                                           \u001b[0moutput_margin\u001b[0m\u001b[0;34m=\u001b[0m\u001b[0moutput_margin\u001b[0m\u001b[0;34m,\u001b[0m\u001b[0;34m\u001b[0m\u001b[0m\n\u001b[1;32m    599\u001b[0m                                           \u001b[0mntree_limit\u001b[0m\u001b[0;34m=\u001b[0m\u001b[0mntree_limit\u001b[0m\u001b[0;34m,\u001b[0m\u001b[0;34m\u001b[0m\u001b[0m\n\u001b[0;32m--> 600\u001b[0;31m                                           validate_features=validate_features)\n\u001b[0m\u001b[1;32m    601\u001b[0m \u001b[0;34m\u001b[0m\u001b[0m\n\u001b[1;32m    602\u001b[0m     \u001b[0;32mdef\u001b[0m \u001b[0mapply\u001b[0m\u001b[0;34m(\u001b[0m\u001b[0mself\u001b[0m\u001b[0;34m,\u001b[0m \u001b[0mX\u001b[0m\u001b[0;34m,\u001b[0m \u001b[0mntree_limit\u001b[0m\u001b[0;34m=\u001b[0m\u001b[0;36m0\u001b[0m\u001b[0;34m)\u001b[0m\u001b[0;34m:\u001b[0m\u001b[0;34m\u001b[0m\u001b[0m\n",
      "\u001b[0;32m~/anaconda3/lib/python3.7/site-packages/xgboost/core.py\u001b[0m in \u001b[0;36mpredict\u001b[0;34m(self, data, output_margin, ntree_limit, pred_leaf, pred_contribs, approx_contribs, pred_interactions, validate_features, training)\u001b[0m\n\u001b[1;32m   1569\u001b[0m \u001b[0;34m\u001b[0m\u001b[0m\n\u001b[1;32m   1570\u001b[0m         \u001b[0;32mif\u001b[0m \u001b[0mvalidate_features\u001b[0m\u001b[0;34m:\u001b[0m\u001b[0;34m\u001b[0m\u001b[0m\n\u001b[0;32m-> 1571\u001b[0;31m             \u001b[0mself\u001b[0m\u001b[0;34m.\u001b[0m\u001b[0m_validate_features\u001b[0m\u001b[0;34m(\u001b[0m\u001b[0mdata\u001b[0m\u001b[0;34m)\u001b[0m\u001b[0;34m\u001b[0m\u001b[0m\n\u001b[0m\u001b[1;32m   1572\u001b[0m \u001b[0;34m\u001b[0m\u001b[0m\n\u001b[1;32m   1573\u001b[0m         \u001b[0mlength\u001b[0m \u001b[0;34m=\u001b[0m \u001b[0mc_bst_ulong\u001b[0m\u001b[0;34m(\u001b[0m\u001b[0;34m)\u001b[0m\u001b[0;34m\u001b[0m\u001b[0m\n",
      "\u001b[0;32m~/anaconda3/lib/python3.7/site-packages/xgboost/core.py\u001b[0m in \u001b[0;36m_validate_features\u001b[0;34m(self, data)\u001b[0m\n\u001b[1;32m   2129\u001b[0m \u001b[0;34m\u001b[0m\u001b[0m\n\u001b[1;32m   2130\u001b[0m                 raise ValueError(msg.format(self.feature_names,\n\u001b[0;32m-> 2131\u001b[0;31m                                             data.feature_names))\n\u001b[0m\u001b[1;32m   2132\u001b[0m \u001b[0;34m\u001b[0m\u001b[0m\n\u001b[1;32m   2133\u001b[0m     def get_split_value_histogram(self, feature, fmap='', bins=None,\n",
      "\u001b[0;31mValueError\u001b[0m: feature_names mismatch: ['label_ids', 'game_ids'] ['f0', 'f1']\nexpected game_ids, label_ids in input data\ntraining data did not have the following fields: f0, f1"
     ]
    }
   ],
   "source": [
    "for i in range(100):\n",
    "    x = np.expand_dims(np.array([df.iloc[i]['label_ids'], df.iloc[i]['game_ids']]), axis=0)\n",
    "    print(\"索引{}评分：预测值{:.2f}，真实值{}，偏差{}\".format(i, xgb_reg_model.predict(x)[0], df.iloc[i]['score'], xgb_reg_model.predict(x) - df.iloc[i]['score']))"
   ]
  },
  {
   "cell_type": "markdown",
   "id": "c6d73863",
   "metadata": {},
   "source": [
    "### 模型保存"
   ]
  },
  {
   "cell_type": "code",
   "execution_count": 60,
   "id": "a28ed516",
   "metadata": {
    "ExecuteTime": {
     "end_time": "2021-06-22T01:28:14.505244Z",
     "start_time": "2021-06-22T01:28:14.487877Z"
    }
   },
   "outputs": [],
   "source": [
    "import joblib"
   ]
  },
  {
   "cell_type": "code",
   "execution_count": 62,
   "id": "267f4d9e",
   "metadata": {
    "ExecuteTime": {
     "end_time": "2021-06-22T01:28:48.339401Z",
     "start_time": "2021-06-22T01:28:48.332650Z"
    }
   },
   "outputs": [
    {
     "data": {
      "text/plain": [
       "['./aimodel/xgb_score_pre.pt']"
      ]
     },
     "execution_count": 62,
     "metadata": {},
     "output_type": "execute_result"
    }
   ],
   "source": [
    "joblib.dump(xgb_reg_model, './aimodel/xgb_score_pre.pt')"
   ]
  },
  {
   "cell_type": "code",
   "execution_count": null,
   "id": "dc059d69",
   "metadata": {
    "ExecuteTime": {
     "end_time": "2021-06-22T01:27:19.641898Z",
     "start_time": "2021-06-22T01:19:38.556Z"
    }
   },
   "outputs": [],
   "source": [
    "# df[['image_id', 'label_ids', 'game_ids', 'score']].iloc[:100]"
   ]
  },
  {
   "cell_type": "code",
   "execution_count": null,
   "id": "6198cb5c",
   "metadata": {
    "ExecuteTime": {
     "end_time": "2021-06-22T01:27:19.642753Z",
     "start_time": "2021-06-22T01:19:38.557Z"
    }
   },
   "outputs": [],
   "source": [
    "# ============================================"
   ]
  }
 ],
 "metadata": {
  "kernelspec": {
   "display_name": "Python 3",
   "language": "python",
   "name": "python3"
  },
  "language_info": {
   "codemirror_mode": {
    "name": "ipython",
    "version": 3
   },
   "file_extension": ".py",
   "mimetype": "text/x-python",
   "name": "python",
   "nbconvert_exporter": "python",
   "pygments_lexer": "ipython3",
   "version": "3.7.0"
  },
  "toc": {
   "base_numbering": 1,
   "nav_menu": {},
   "number_sections": true,
   "sideBar": true,
   "skip_h1_title": false,
   "title_cell": "Table of Contents",
   "title_sidebar": "Contents",
   "toc_cell": false,
   "toc_position": {
    "height": "calc(100% - 180px)",
    "left": "10px",
    "top": "150px",
    "width": "190px"
   },
   "toc_section_display": true,
   "toc_window_display": true
  }
 },
 "nbformat": 4,
 "nbformat_minor": 5
}
